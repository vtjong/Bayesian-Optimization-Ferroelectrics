{
 "cells": [
  {
   "cell_type": "code",
   "execution_count": 16,
   "source": [
    "# allow imports from local \"src\" directory\n",
    "import sys\n",
    "sys.path.append('..')\n",
    "\n",
    "import numpy as np\n",
    "import math\n",
    "import torch\n",
    "import gpytorch\n",
    "from matplotlib import pyplot as pyplot\n",
    "from matplotlib import cm\n",
    "import plotly.express as px\n",
    "import botorch\n",
    "from botorch.models.gpytorch import GPyTorchModel\n",
    "\n",
    "import pandas as pd\n",
    "%matplotlib inline\n",
    "%load_ext autoreload\n",
    "%autoreload 2\n",
    "print(gpytorch.__version__)"
   ],
   "outputs": [
    {
     "output_type": "stream",
     "name": "stdout",
     "text": [
      "The autoreload extension is already loaded. To reload it, use:\n",
      "  %reload_ext autoreload\n",
      "1.7.0\n"
     ]
    }
   ],
   "metadata": {}
  },
  {
   "cell_type": "markdown",
   "source": [
    "# Data import and preparation"
   ],
   "metadata": {}
  },
  {
   "cell_type": "code",
   "execution_count": 17,
   "source": [
    "# load data\n",
    "fe_data = pd.read_csv('../data/FE_HZCO_samples_210311.csv', index_col=0)\n",
    "fe_data['log(RTA time)'] = np.log(fe_data['RTA time (sec)'])\n",
    "# fe_data['Coersive Field'] = fe_data['Coersive Voltage +'] - fe_data['Coersive Voltage -']\n",
    "fe_data.columns"
   ],
   "outputs": [
    {
     "output_type": "execute_result",
     "data": {
      "text/plain": [
       "Index(['Thickness (nm)', 'RTA temperature (C)', 'RTA time (sec)',\n",
       "       'CeO2 doping', '2Pr (uC/cm2), Pristine state', 'Predicted 2Pr',\n",
       "       'Coersive Voltage +', 'Coersive Voltage -', 'log(RTA time)'],\n",
       "      dtype='object')"
      ]
     },
     "metadata": {},
     "execution_count": 17
    }
   ],
   "metadata": {}
  },
  {
   "cell_type": "code",
   "execution_count": 18,
   "source": [
    "fe_data.head()"
   ],
   "outputs": [
    {
     "output_type": "execute_result",
     "data": {
      "text/html": [
       "<div>\n",
       "<style scoped>\n",
       "    .dataframe tbody tr th:only-of-type {\n",
       "        vertical-align: middle;\n",
       "    }\n",
       "\n",
       "    .dataframe tbody tr th {\n",
       "        vertical-align: top;\n",
       "    }\n",
       "\n",
       "    .dataframe thead th {\n",
       "        text-align: right;\n",
       "    }\n",
       "</style>\n",
       "<table border=\"1\" class=\"dataframe\">\n",
       "  <thead>\n",
       "    <tr style=\"text-align: right;\">\n",
       "      <th></th>\n",
       "      <th>Thickness (nm)</th>\n",
       "      <th>RTA temperature (C)</th>\n",
       "      <th>RTA time (sec)</th>\n",
       "      <th>CeO2 doping</th>\n",
       "      <th>2Pr (uC/cm2), Pristine state</th>\n",
       "      <th>Predicted 2Pr</th>\n",
       "      <th>Coersive Voltage +</th>\n",
       "      <th>Coersive Voltage -</th>\n",
       "      <th>log(RTA time)</th>\n",
       "    </tr>\n",
       "  </thead>\n",
       "  <tbody>\n",
       "    <tr>\n",
       "      <th>1</th>\n",
       "      <td>10</td>\n",
       "      <td>350.0</td>\n",
       "      <td>30.0</td>\n",
       "      <td>4.4</td>\n",
       "      <td>0.31095</td>\n",
       "      <td>NaN</td>\n",
       "      <td>0.180506</td>\n",
       "      <td>0.047004</td>\n",
       "      <td>3.401197</td>\n",
       "    </tr>\n",
       "    <tr>\n",
       "      <th>2</th>\n",
       "      <td>10</td>\n",
       "      <td>350.0</td>\n",
       "      <td>60.0</td>\n",
       "      <td>4.4</td>\n",
       "      <td>3.05088</td>\n",
       "      <td>NaN</td>\n",
       "      <td>0.771221</td>\n",
       "      <td>-0.436827</td>\n",
       "      <td>4.094345</td>\n",
       "    </tr>\n",
       "    <tr>\n",
       "      <th>3</th>\n",
       "      <td>10</td>\n",
       "      <td>350.0</td>\n",
       "      <td>120.0</td>\n",
       "      <td>4.4</td>\n",
       "      <td>11.48724</td>\n",
       "      <td>NaN</td>\n",
       "      <td>1.694830</td>\n",
       "      <td>-1.139735</td>\n",
       "      <td>4.787492</td>\n",
       "    </tr>\n",
       "    <tr>\n",
       "      <th>4</th>\n",
       "      <td>10</td>\n",
       "      <td>350.0</td>\n",
       "      <td>300.0</td>\n",
       "      <td>4.4</td>\n",
       "      <td>27.85326</td>\n",
       "      <td>NaN</td>\n",
       "      <td>1.912969</td>\n",
       "      <td>-1.330486</td>\n",
       "      <td>5.703782</td>\n",
       "    </tr>\n",
       "    <tr>\n",
       "      <th>5</th>\n",
       "      <td>10</td>\n",
       "      <td>350.0</td>\n",
       "      <td>600.0</td>\n",
       "      <td>4.4</td>\n",
       "      <td>32.44214</td>\n",
       "      <td>NaN</td>\n",
       "      <td>1.792094</td>\n",
       "      <td>-1.430175</td>\n",
       "      <td>6.396930</td>\n",
       "    </tr>\n",
       "  </tbody>\n",
       "</table>\n",
       "</div>"
      ],
      "text/plain": [
       "   Thickness (nm)  RTA temperature (C)  RTA time (sec)  CeO2 doping  \\\n",
       "1              10                350.0            30.0          4.4   \n",
       "2              10                350.0            60.0          4.4   \n",
       "3              10                350.0           120.0          4.4   \n",
       "4              10                350.0           300.0          4.4   \n",
       "5              10                350.0           600.0          4.4   \n",
       "\n",
       "   2Pr (uC/cm2), Pristine state  Predicted 2Pr  Coersive Voltage +  \\\n",
       "1                       0.31095            NaN            0.180506   \n",
       "2                       3.05088            NaN            0.771221   \n",
       "3                      11.48724            NaN            1.694830   \n",
       "4                      27.85326            NaN            1.912969   \n",
       "5                      32.44214            NaN            1.792094   \n",
       "\n",
       "   Coersive Voltage -  log(RTA time)  \n",
       "1            0.047004       3.401197  \n",
       "2           -0.436827       4.094345  \n",
       "3           -1.139735       4.787492  \n",
       "4           -1.330486       5.703782  \n",
       "5           -1.430175       6.396930  "
      ]
     },
     "metadata": {},
     "execution_count": 18
    }
   ],
   "metadata": {}
  },
  {
   "cell_type": "code",
   "execution_count": 19,
   "source": [
    "# plot?...\n",
    "fig = px.scatter_3d(fe_data, x='RTA temperature (C)', y='RTA time (sec)', \n",
    "                        z='2Pr (uC/cm2), Pristine state')\n",
    "fig.update_layout(scene=dict(\n",
    "                            # xaxis=dict(nticks=4, range=[200, 800])\n",
    "                            # yaxis=dict(range=[0, 500])\n",
    "                            ),\n",
    "                   margin=dict(r=20, l=10, b=10, t=10)\n",
    "                   )\n",
    "fig.show()"
   ],
   "outputs": [
    {
     "output_type": "display_data",
     "data": {
      "application/vnd.plotly.v1+json": {
       "data": [
        {
         "hovertemplate": "RTA temperature (C)=%{x}<br>RTA time (sec)=%{y}<br>2Pr (uC/cm2), Pristine state=%{z}<extra></extra>",
         "legendgroup": "",
         "marker": {
          "color": "#636efa",
          "symbol": "circle"
         },
         "mode": "markers",
         "name": "",
         "scene": "scene",
         "showlegend": false,
         "x": [
          350,
          350,
          350,
          350,
          350,
          360,
          380,
          400,
          400,
          400,
          400,
          400,
          500,
          600,
          700,
          389.2,
          544.4,
          440.9,
          402.2
         ],
         "y": [
          30,
          60,
          120,
          300,
          600,
          30,
          30,
          30,
          60,
          120,
          300,
          600,
          30,
          30,
          30,
          309.6,
          150,
          199.9,
          279.7
         ],
         "z": [
          0.31095,
          3.05088,
          11.48724,
          27.85326,
          32.44214,
          5.91482,
          20.16876,
          26.66847,
          35.82333,
          36.27027,
          35.18615,
          33.61565,
          30.2557,
          22.55735,
          21.46867,
          31.50787,
          31.26807,
          30.20885,
          29.97977
         ],
         "type": "scatter3d"
        }
       ],
       "layout": {
        "template": {
         "data": {
          "bar": [
           {
            "error_x": {
             "color": "#2a3f5f"
            },
            "error_y": {
             "color": "#2a3f5f"
            },
            "marker": {
             "line": {
              "color": "#E5ECF6",
              "width": 0.5
             },
             "pattern": {
              "fillmode": "overlay",
              "size": 10,
              "solidity": 0.2
             }
            },
            "type": "bar"
           }
          ],
          "barpolar": [
           {
            "marker": {
             "line": {
              "color": "#E5ECF6",
              "width": 0.5
             },
             "pattern": {
              "fillmode": "overlay",
              "size": 10,
              "solidity": 0.2
             }
            },
            "type": "barpolar"
           }
          ],
          "carpet": [
           {
            "aaxis": {
             "endlinecolor": "#2a3f5f",
             "gridcolor": "white",
             "linecolor": "white",
             "minorgridcolor": "white",
             "startlinecolor": "#2a3f5f"
            },
            "baxis": {
             "endlinecolor": "#2a3f5f",
             "gridcolor": "white",
             "linecolor": "white",
             "minorgridcolor": "white",
             "startlinecolor": "#2a3f5f"
            },
            "type": "carpet"
           }
          ],
          "choropleth": [
           {
            "colorbar": {
             "outlinewidth": 0,
             "ticks": ""
            },
            "type": "choropleth"
           }
          ],
          "contour": [
           {
            "colorbar": {
             "outlinewidth": 0,
             "ticks": ""
            },
            "colorscale": [
             [
              0,
              "#0d0887"
             ],
             [
              0.1111111111111111,
              "#46039f"
             ],
             [
              0.2222222222222222,
              "#7201a8"
             ],
             [
              0.3333333333333333,
              "#9c179e"
             ],
             [
              0.4444444444444444,
              "#bd3786"
             ],
             [
              0.5555555555555556,
              "#d8576b"
             ],
             [
              0.6666666666666666,
              "#ed7953"
             ],
             [
              0.7777777777777778,
              "#fb9f3a"
             ],
             [
              0.8888888888888888,
              "#fdca26"
             ],
             [
              1,
              "#f0f921"
             ]
            ],
            "type": "contour"
           }
          ],
          "contourcarpet": [
           {
            "colorbar": {
             "outlinewidth": 0,
             "ticks": ""
            },
            "type": "contourcarpet"
           }
          ],
          "heatmap": [
           {
            "colorbar": {
             "outlinewidth": 0,
             "ticks": ""
            },
            "colorscale": [
             [
              0,
              "#0d0887"
             ],
             [
              0.1111111111111111,
              "#46039f"
             ],
             [
              0.2222222222222222,
              "#7201a8"
             ],
             [
              0.3333333333333333,
              "#9c179e"
             ],
             [
              0.4444444444444444,
              "#bd3786"
             ],
             [
              0.5555555555555556,
              "#d8576b"
             ],
             [
              0.6666666666666666,
              "#ed7953"
             ],
             [
              0.7777777777777778,
              "#fb9f3a"
             ],
             [
              0.8888888888888888,
              "#fdca26"
             ],
             [
              1,
              "#f0f921"
             ]
            ],
            "type": "heatmap"
           }
          ],
          "heatmapgl": [
           {
            "colorbar": {
             "outlinewidth": 0,
             "ticks": ""
            },
            "colorscale": [
             [
              0,
              "#0d0887"
             ],
             [
              0.1111111111111111,
              "#46039f"
             ],
             [
              0.2222222222222222,
              "#7201a8"
             ],
             [
              0.3333333333333333,
              "#9c179e"
             ],
             [
              0.4444444444444444,
              "#bd3786"
             ],
             [
              0.5555555555555556,
              "#d8576b"
             ],
             [
              0.6666666666666666,
              "#ed7953"
             ],
             [
              0.7777777777777778,
              "#fb9f3a"
             ],
             [
              0.8888888888888888,
              "#fdca26"
             ],
             [
              1,
              "#f0f921"
             ]
            ],
            "type": "heatmapgl"
           }
          ],
          "histogram": [
           {
            "marker": {
             "pattern": {
              "fillmode": "overlay",
              "size": 10,
              "solidity": 0.2
             }
            },
            "type": "histogram"
           }
          ],
          "histogram2d": [
           {
            "colorbar": {
             "outlinewidth": 0,
             "ticks": ""
            },
            "colorscale": [
             [
              0,
              "#0d0887"
             ],
             [
              0.1111111111111111,
              "#46039f"
             ],
             [
              0.2222222222222222,
              "#7201a8"
             ],
             [
              0.3333333333333333,
              "#9c179e"
             ],
             [
              0.4444444444444444,
              "#bd3786"
             ],
             [
              0.5555555555555556,
              "#d8576b"
             ],
             [
              0.6666666666666666,
              "#ed7953"
             ],
             [
              0.7777777777777778,
              "#fb9f3a"
             ],
             [
              0.8888888888888888,
              "#fdca26"
             ],
             [
              1,
              "#f0f921"
             ]
            ],
            "type": "histogram2d"
           }
          ],
          "histogram2dcontour": [
           {
            "colorbar": {
             "outlinewidth": 0,
             "ticks": ""
            },
            "colorscale": [
             [
              0,
              "#0d0887"
             ],
             [
              0.1111111111111111,
              "#46039f"
             ],
             [
              0.2222222222222222,
              "#7201a8"
             ],
             [
              0.3333333333333333,
              "#9c179e"
             ],
             [
              0.4444444444444444,
              "#bd3786"
             ],
             [
              0.5555555555555556,
              "#d8576b"
             ],
             [
              0.6666666666666666,
              "#ed7953"
             ],
             [
              0.7777777777777778,
              "#fb9f3a"
             ],
             [
              0.8888888888888888,
              "#fdca26"
             ],
             [
              1,
              "#f0f921"
             ]
            ],
            "type": "histogram2dcontour"
           }
          ],
          "mesh3d": [
           {
            "colorbar": {
             "outlinewidth": 0,
             "ticks": ""
            },
            "type": "mesh3d"
           }
          ],
          "parcoords": [
           {
            "line": {
             "colorbar": {
              "outlinewidth": 0,
              "ticks": ""
             }
            },
            "type": "parcoords"
           }
          ],
          "pie": [
           {
            "automargin": true,
            "type": "pie"
           }
          ],
          "scatter": [
           {
            "marker": {
             "colorbar": {
              "outlinewidth": 0,
              "ticks": ""
             }
            },
            "type": "scatter"
           }
          ],
          "scatter3d": [
           {
            "line": {
             "colorbar": {
              "outlinewidth": 0,
              "ticks": ""
             }
            },
            "marker": {
             "colorbar": {
              "outlinewidth": 0,
              "ticks": ""
             }
            },
            "type": "scatter3d"
           }
          ],
          "scattercarpet": [
           {
            "marker": {
             "colorbar": {
              "outlinewidth": 0,
              "ticks": ""
             }
            },
            "type": "scattercarpet"
           }
          ],
          "scattergeo": [
           {
            "marker": {
             "colorbar": {
              "outlinewidth": 0,
              "ticks": ""
             }
            },
            "type": "scattergeo"
           }
          ],
          "scattergl": [
           {
            "marker": {
             "colorbar": {
              "outlinewidth": 0,
              "ticks": ""
             }
            },
            "type": "scattergl"
           }
          ],
          "scattermapbox": [
           {
            "marker": {
             "colorbar": {
              "outlinewidth": 0,
              "ticks": ""
             }
            },
            "type": "scattermapbox"
           }
          ],
          "scatterpolar": [
           {
            "marker": {
             "colorbar": {
              "outlinewidth": 0,
              "ticks": ""
             }
            },
            "type": "scatterpolar"
           }
          ],
          "scatterpolargl": [
           {
            "marker": {
             "colorbar": {
              "outlinewidth": 0,
              "ticks": ""
             }
            },
            "type": "scatterpolargl"
           }
          ],
          "scatterternary": [
           {
            "marker": {
             "colorbar": {
              "outlinewidth": 0,
              "ticks": ""
             }
            },
            "type": "scatterternary"
           }
          ],
          "surface": [
           {
            "colorbar": {
             "outlinewidth": 0,
             "ticks": ""
            },
            "colorscale": [
             [
              0,
              "#0d0887"
             ],
             [
              0.1111111111111111,
              "#46039f"
             ],
             [
              0.2222222222222222,
              "#7201a8"
             ],
             [
              0.3333333333333333,
              "#9c179e"
             ],
             [
              0.4444444444444444,
              "#bd3786"
             ],
             [
              0.5555555555555556,
              "#d8576b"
             ],
             [
              0.6666666666666666,
              "#ed7953"
             ],
             [
              0.7777777777777778,
              "#fb9f3a"
             ],
             [
              0.8888888888888888,
              "#fdca26"
             ],
             [
              1,
              "#f0f921"
             ]
            ],
            "type": "surface"
           }
          ],
          "table": [
           {
            "cells": {
             "fill": {
              "color": "#EBF0F8"
             },
             "line": {
              "color": "white"
             }
            },
            "header": {
             "fill": {
              "color": "#C8D4E3"
             },
             "line": {
              "color": "white"
             }
            },
            "type": "table"
           }
          ]
         },
         "layout": {
          "annotationdefaults": {
           "arrowcolor": "#2a3f5f",
           "arrowhead": 0,
           "arrowwidth": 1
          },
          "autotypenumbers": "strict",
          "coloraxis": {
           "colorbar": {
            "outlinewidth": 0,
            "ticks": ""
           }
          },
          "colorscale": {
           "diverging": [
            [
             0,
             "#8e0152"
            ],
            [
             0.1,
             "#c51b7d"
            ],
            [
             0.2,
             "#de77ae"
            ],
            [
             0.3,
             "#f1b6da"
            ],
            [
             0.4,
             "#fde0ef"
            ],
            [
             0.5,
             "#f7f7f7"
            ],
            [
             0.6,
             "#e6f5d0"
            ],
            [
             0.7,
             "#b8e186"
            ],
            [
             0.8,
             "#7fbc41"
            ],
            [
             0.9,
             "#4d9221"
            ],
            [
             1,
             "#276419"
            ]
           ],
           "sequential": [
            [
             0,
             "#0d0887"
            ],
            [
             0.1111111111111111,
             "#46039f"
            ],
            [
             0.2222222222222222,
             "#7201a8"
            ],
            [
             0.3333333333333333,
             "#9c179e"
            ],
            [
             0.4444444444444444,
             "#bd3786"
            ],
            [
             0.5555555555555556,
             "#d8576b"
            ],
            [
             0.6666666666666666,
             "#ed7953"
            ],
            [
             0.7777777777777778,
             "#fb9f3a"
            ],
            [
             0.8888888888888888,
             "#fdca26"
            ],
            [
             1,
             "#f0f921"
            ]
           ],
           "sequentialminus": [
            [
             0,
             "#0d0887"
            ],
            [
             0.1111111111111111,
             "#46039f"
            ],
            [
             0.2222222222222222,
             "#7201a8"
            ],
            [
             0.3333333333333333,
             "#9c179e"
            ],
            [
             0.4444444444444444,
             "#bd3786"
            ],
            [
             0.5555555555555556,
             "#d8576b"
            ],
            [
             0.6666666666666666,
             "#ed7953"
            ],
            [
             0.7777777777777778,
             "#fb9f3a"
            ],
            [
             0.8888888888888888,
             "#fdca26"
            ],
            [
             1,
             "#f0f921"
            ]
           ]
          },
          "colorway": [
           "#636efa",
           "#EF553B",
           "#00cc96",
           "#ab63fa",
           "#FFA15A",
           "#19d3f3",
           "#FF6692",
           "#B6E880",
           "#FF97FF",
           "#FECB52"
          ],
          "font": {
           "color": "#2a3f5f"
          },
          "geo": {
           "bgcolor": "white",
           "lakecolor": "white",
           "landcolor": "#E5ECF6",
           "showlakes": true,
           "showland": true,
           "subunitcolor": "white"
          },
          "hoverlabel": {
           "align": "left"
          },
          "hovermode": "closest",
          "mapbox": {
           "style": "light"
          },
          "paper_bgcolor": "white",
          "plot_bgcolor": "#E5ECF6",
          "polar": {
           "angularaxis": {
            "gridcolor": "white",
            "linecolor": "white",
            "ticks": ""
           },
           "bgcolor": "#E5ECF6",
           "radialaxis": {
            "gridcolor": "white",
            "linecolor": "white",
            "ticks": ""
           }
          },
          "scene": {
           "xaxis": {
            "backgroundcolor": "#E5ECF6",
            "gridcolor": "white",
            "gridwidth": 2,
            "linecolor": "white",
            "showbackground": true,
            "ticks": "",
            "zerolinecolor": "white"
           },
           "yaxis": {
            "backgroundcolor": "#E5ECF6",
            "gridcolor": "white",
            "gridwidth": 2,
            "linecolor": "white",
            "showbackground": true,
            "ticks": "",
            "zerolinecolor": "white"
           },
           "zaxis": {
            "backgroundcolor": "#E5ECF6",
            "gridcolor": "white",
            "gridwidth": 2,
            "linecolor": "white",
            "showbackground": true,
            "ticks": "",
            "zerolinecolor": "white"
           }
          },
          "shapedefaults": {
           "line": {
            "color": "#2a3f5f"
           }
          },
          "ternary": {
           "aaxis": {
            "gridcolor": "white",
            "linecolor": "white",
            "ticks": ""
           },
           "baxis": {
            "gridcolor": "white",
            "linecolor": "white",
            "ticks": ""
           },
           "bgcolor": "#E5ECF6",
           "caxis": {
            "gridcolor": "white",
            "linecolor": "white",
            "ticks": ""
           }
          },
          "title": {
           "x": 0.05
          },
          "xaxis": {
           "automargin": true,
           "gridcolor": "white",
           "linecolor": "white",
           "ticks": "",
           "title": {
            "standoff": 15
           },
           "zerolinecolor": "white",
           "zerolinewidth": 2
          },
          "yaxis": {
           "automargin": true,
           "gridcolor": "white",
           "linecolor": "white",
           "ticks": "",
           "title": {
            "standoff": 15
           },
           "zerolinecolor": "white",
           "zerolinewidth": 2
          }
         }
        },
        "scene": {
         "domain": {
          "x": [
           0,
           1
          ],
          "y": [
           0,
           1
          ]
         },
         "xaxis": {
          "title": {
           "text": "RTA temperature (C)"
          }
         },
         "yaxis": {
          "title": {
           "text": "RTA time (sec)"
          }
         },
         "zaxis": {
          "title": {
           "text": "2Pr (uC/cm2), Pristine state"
          }
         }
        },
        "legend": {
         "tracegroupgap": 0
        },
        "margin": {
         "t": 10,
         "r": 20,
         "l": 10,
         "b": 10
        }
       },
       "config": {
        "plotlyServerURL": "https://plot.ly"
       }
      }
     },
     "metadata": {}
    }
   ],
   "metadata": {}
  },
  {
   "cell_type": "code",
   "execution_count": 20,
   "source": [
    "# prep training data\n",
    "from sklearn.preprocessing import StandardScaler\n",
    "T_scaler = StandardScaler()\n",
    "\n",
    "# filter training data \n",
    "mask = ~np.isnan(fe_data['2Pr (uC/cm2), Pristine state'])\n",
    "train_x = torch.Tensor([fe_data['RTA temperature (C)'][mask].values, \n",
    "                    #    np.log(fe_data['RTA time (sec)'][mask].values)*10]).T\n",
    "                       fe_data['RTA time (sec)'][mask].values]).T\n",
    "# train_x = torch.Tensor(T_scaler.fit_transform(train_x))\n",
    "train_raw_y = torch.Tensor(fe_data['2Pr (uC/cm2), Pristine state'][mask].values)\n",
    "train_y = train_raw_y #(train_raw_y - train_raw_y.mean()) / (train_raw_y.max() - train_raw_y.min())\n",
    "\n",
    "# define grid between bounds of RTA time, RTA temp\n",
    "grid_bounds = [(train_x[:,0].min(), train_x[:,0].max() ), \n",
    "                (train_x[:,1].min(), train_x[:,1].max() ) ]\n",
    "grid_size = 20\n",
    "grid = torch.zeros(grid_size, len(grid_bounds))\n",
    "for i in range(len(grid_bounds)):\n",
    "    grid_diff = float(grid_bounds[i][1] - grid_bounds[i][0]) / (grid_size - 2)\n",
    "    grid[:, i] = torch.linspace(grid_bounds[i][0] - grid_diff, \n",
    "                                grid_bounds[i][1] + grid_diff, grid_size)\n",
    "                        \n",
    "# Set up grid for predictions\n",
    "\n",
    "n=30 # number of points in grid, different from one supplied to GP\n",
    "test_grid = torch.zeros(n, len(grid_bounds))\n",
    "for i in range(len(grid_bounds)): # Creates a grid s.t. grid[:, i] is the vector along dimension i\n",
    "    grid_diff = float(grid_bounds[i][1] - grid_bounds[i][0]) / (n - 2)\n",
    "    print(grid_diff)\n",
    "    test_grid[:, i] = torch.linspace(grid_bounds[i][0] - grid_diff, \n",
    "                                grid_bounds[i][1] + grid_diff, n)\n",
    "\n",
    "test_x = torch.zeros(int(pow(n, 2)), 2)\n",
    "for i in range(n): #Basically making grid \n",
    "    for j in range(n):\n",
    "        test_x[i*n + j][0] = test_grid[i, 0]\n",
    "        test_x[i*n + j][1] = test_grid[j, 1]\n",
    "test_x2 = torch.cartesian_prod(test_grid[:, 0], test_grid[:, 1])\n",
    "torch.equal(test_x, test_x2)"
   ],
   "outputs": [
    {
     "output_type": "stream",
     "name": "stdout",
     "text": [
      "12.5\n",
      "20.357142857142858\n"
     ]
    },
    {
     "output_type": "execute_result",
     "data": {
      "text/plain": [
       "True"
      ]
     },
     "metadata": {},
     "execution_count": 20
    }
   ],
   "metadata": {}
  },
  {
   "cell_type": "code",
   "execution_count": 21,
   "source": [
    "print(test_x.shape)"
   ],
   "outputs": [
    {
     "output_type": "stream",
     "name": "stdout",
     "text": [
      "torch.Size([900, 2])\n"
     ]
    }
   ],
   "metadata": {}
  },
  {
   "cell_type": "code",
   "execution_count": 22,
   "source": [
    "def intermediate_plot(f, ax, obs, title):\n",
    "    im = ax.imshow(obs.mean.view(n, n), aspect='equal',\n",
    "                extent=[grid_bounds[0][0].item(), grid_bounds[0][1].item(),\n",
    "                            grid_bounds[1][0].item(), grid_bounds[1][1].item()])\n",
    "    f.colorbar(im)\n",
    "    # ax.scatter(train_x[:,0], train_x[:,1], c=train_y)\n",
    "    ax.set_title(title)"
   ],
   "outputs": [],
   "metadata": {}
  },
  {
   "cell_type": "markdown",
   "source": [
    "# Build GP Classes/Models\n",
    "A bit of pytorch-esque construction here, but the important parts to take note of are the kernel / mean modules and `noises` array.  "
   ],
   "metadata": {}
  },
  {
   "cell_type": "code",
   "execution_count": 23,
   "source": [
    "# initialize GP model\n",
    "class GridGP(gpytorch.models.ExactGP, GPyTorchModel):\n",
    "\n",
    "    _num_outputs = 1\n",
    "    def __init__(self, train_x, train_y, likelihood):\n",
    "        super(GridGP, self).__init__(train_x, train_y, likelihood)  \n",
    "        self.mean_module = gpytorch.means.ConstantMean()\n",
    "        self.covar_module = gpytorch.kernels.ScaleKernel(\n",
    "                                gpytorch.kernels.RBFKernel(ard_num_dims=2) )\n",
    "    \n",
    "    def forward(self, x):\n",
    "        mean_x = self.mean_module(x)\n",
    "        covar_x = self.covar_module(x)\n",
    "        return gpytorch.distributions.MultivariateNormal(mean_x, covar_x)\n",
    "\n",
    "\n",
    "# 0-observation noise case\n",
    "# likelihood = gpytorch.likelihoods.GaussianLikelihood()\n",
    "\n",
    "# Case for fixed observation noise.  This is set to 5 based on the magnitude of\n",
    "# the data, but can be played with.  \n",
    "noises = torch.ones(len(train_x)) * 5\n",
    "likelihood = gpytorch.likelihoods.FixedNoiseGaussianLikelihood(noise=noises)\n",
    "model = GridGP(train_x, train_y, likelihood)\n",
    "\n",
    "\n",
    "model.covar_module.base_kernel.lengthscale = torch.Tensor([100, 100])\n",
    "print(likelihood.noise)"
   ],
   "outputs": [
    {
     "output_type": "stream",
     "name": "stdout",
     "text": [
      "tensor([5., 5., 5., 5., 5., 5., 5., 5., 5., 5., 5., 5., 5., 5., 5., 5., 5., 5.,\n",
      "        5.])\n"
     ]
    }
   ],
   "metadata": {}
  },
  {
   "cell_type": "code",
   "execution_count": 24,
   "source": [
    "# Train and evaluate the model.  (short form)\n",
    "from botorch.optim.fit import fit_gpytorch_torch\n",
    "\n",
    "# initialize the log-likelihood, and supply it to the GP.  This will be used to \n",
    "# make predictions.  \n",
    "mll = gpytorch.mlls.ExactMarginalLogLikelihood(likelihood, model)\n",
    "mll.train()\n",
    "# convenience function for fitting gpytorch models\n",
    "fit_gpytorch_torch(mll, options={'maxiter':2000, 'lr':10}) \n",
    "mll.eval()"
   ],
   "outputs": [
    {
     "output_type": "stream",
     "name": "stdout",
     "text": [
      "Iter 10/2000: 5.456142902374268\n",
      "Iter 20/2000: 4.68469762802124\n",
      "Iter 30/2000: 3.449314832687378\n",
      "Iter 40/2000: 3.358290910720825\n"
     ]
    },
    {
     "output_type": "execute_result",
     "data": {
      "text/plain": [
       "ExactMarginalLogLikelihood(\n",
       "  (likelihood): FixedNoiseGaussianLikelihood(\n",
       "    (noise_covar): FixedGaussianNoise()\n",
       "  )\n",
       "  (model): GridGP(\n",
       "    (likelihood): FixedNoiseGaussianLikelihood(\n",
       "      (noise_covar): FixedGaussianNoise()\n",
       "    )\n",
       "    (mean_module): ConstantMean()\n",
       "    (covar_module): ScaleKernel(\n",
       "      (base_kernel): RBFKernel(\n",
       "        (raw_lengthscale_constraint): Positive()\n",
       "        (distance_module): Distance()\n",
       "      )\n",
       "      (raw_outputscale_constraint): Positive()\n",
       "    )\n",
       "  )\n",
       ")"
      ]
     },
     "metadata": {},
     "execution_count": 24
    }
   ],
   "metadata": {}
  },
  {
   "cell_type": "code",
   "execution_count": 25,
   "source": [
    "# Training loop (long form, for inspection of results during training)\n",
    "training_iter = 2000\n",
    "\n",
    "# Place both the model and likelihood in training mode\n",
    "model.train()\n",
    "likelihood.train()\n",
    "\n",
    "optimizer = torch.optim.Adam(model.parameters(), lr=10)\n",
    "\n",
    "mll = gpytorch.mlls.ExactMarginalLogLikelihood(likelihood, model)\n",
    "\n",
    "for i in range(training_iter):\n",
    "    optimizer.zero_grad()\n",
    "\n",
    "    output = model(train_x)\n",
    "\n",
    "    # backpropogate error\n",
    "    loss = -mll(output, train_y)\n",
    "    loss.backward()\n",
    "\n",
    "    if i % 100 == 0: \n",
    "        print('Iter %d/%d - Loss: %.3f  lengthscale1: %s   noise: %s' % (\n",
    "        i+1, training_iter, loss.item(), \n",
    "        model.covar_module.base_kernel.lengthscale.detach().numpy(),\n",
    "        model.likelihood.noise.detach().numpy()\n",
    "        )) \n",
    "\n",
    "        # # get a quick snapshot of intermediate \n",
    "        # model.eval()\n",
    "        # likelihood.eval()\n",
    "        # with torch.no_grad(), gpytorch.settings.fast_pred_var():\n",
    "        #     obs = likelihood(model(test_x))\n",
    "\n",
    "        #     f, ax = plt.subplots(1, 1, figsize=(4,3))\n",
    "        #     intermediate_plot(f, ax, obs, f'iter {i+1}/{training_iter}')\n",
    "        # model.train()\n",
    "        # likelihood.train()\n",
    "\n",
    "\n",
    "    optimizer.step()"
   ],
   "outputs": [
    {
     "output_type": "stream",
     "name": "stdout",
     "text": [
      "Iter 1/2000 - Loss: 3.384  lengthscale1: [[ 32.621357 160.76213 ]]   noise: [5. 5. 5. 5. 5. 5. 5. 5. 5. 5. 5. 5. 5. 5. 5. 5. 5. 5. 5.]\n",
      "Iter 101/2000 - Loss: 3.300  lengthscale1: [[ 30.929588 102.59909 ]]   noise: [5. 5. 5. 5. 5. 5. 5. 5. 5. 5. 5. 5. 5. 5. 5. 5. 5. 5. 5.]\n",
      "Iter 201/2000 - Loss: 3.300  lengthscale1: [[ 30.959631 102.972626]]   noise: [5. 5. 5. 5. 5. 5. 5. 5. 5. 5. 5. 5. 5. 5. 5. 5. 5. 5. 5.]\n",
      "Iter 301/2000 - Loss: 3.300  lengthscale1: [[ 30.959436 102.97322 ]]   noise: [5. 5. 5. 5. 5. 5. 5. 5. 5. 5. 5. 5. 5. 5. 5. 5. 5. 5. 5.]\n",
      "Iter 401/2000 - Loss: 3.300  lengthscale1: [[ 30.959547 102.973175]]   noise: [5. 5. 5. 5. 5. 5. 5. 5. 5. 5. 5. 5. 5. 5. 5. 5. 5. 5. 5.]\n",
      "Iter 501/2000 - Loss: 3.300  lengthscale1: [[ 30.95956 102.97308]]   noise: [5. 5. 5. 5. 5. 5. 5. 5. 5. 5. 5. 5. 5. 5. 5. 5. 5. 5. 5.]\n",
      "Iter 601/2000 - Loss: 3.300  lengthscale1: [[ 30.959438 102.97346 ]]   noise: [5. 5. 5. 5. 5. 5. 5. 5. 5. 5. 5. 5. 5. 5. 5. 5. 5. 5. 5.]\n",
      "Iter 701/2000 - Loss: 3.300  lengthscale1: [[ 30.959562 102.973045]]   noise: [5. 5. 5. 5. 5. 5. 5. 5. 5. 5. 5. 5. 5. 5. 5. 5. 5. 5. 5.]\n",
      "Iter 801/2000 - Loss: 3.300  lengthscale1: [[ 30.959751 102.97293 ]]   noise: [5. 5. 5. 5. 5. 5. 5. 5. 5. 5. 5. 5. 5. 5. 5. 5. 5. 5. 5.]\n",
      "Iter 901/2000 - Loss: 3.300  lengthscale1: [[ 30.959427 102.97355 ]]   noise: [5. 5. 5. 5. 5. 5. 5. 5. 5. 5. 5. 5. 5. 5. 5. 5. 5. 5. 5.]\n",
      "Iter 1001/2000 - Loss: 3.301  lengthscale1: [[ 30.99297 104.05679]]   noise: [5. 5. 5. 5. 5. 5. 5. 5. 5. 5. 5. 5. 5. 5. 5. 5. 5. 5. 5.]\n",
      "Iter 1101/2000 - Loss: 3.300  lengthscale1: [[ 30.958506 102.96644 ]]   noise: [5. 5. 5. 5. 5. 5. 5. 5. 5. 5. 5. 5. 5. 5. 5. 5. 5. 5. 5.]\n",
      "Iter 1201/2000 - Loss: 3.300  lengthscale1: [[ 30.993227 103.51112 ]]   noise: [5. 5. 5. 5. 5. 5. 5. 5. 5. 5. 5. 5. 5. 5. 5. 5. 5. 5. 5.]\n",
      "Iter 1301/2000 - Loss: 3.300  lengthscale1: [[ 30.950611 102.96716 ]]   noise: [5. 5. 5. 5. 5. 5. 5. 5. 5. 5. 5. 5. 5. 5. 5. 5. 5. 5. 5.]\n",
      "Iter 1401/2000 - Loss: 3.300  lengthscale1: [[ 30.955925 103.003426]]   noise: [5. 5. 5. 5. 5. 5. 5. 5. 5. 5. 5. 5. 5. 5. 5. 5. 5. 5. 5.]\n",
      "Iter 1501/2000 - Loss: 3.301  lengthscale1: [[ 31.747322 106.50563 ]]   noise: [5. 5. 5. 5. 5. 5. 5. 5. 5. 5. 5. 5. 5. 5. 5. 5. 5. 5. 5.]\n",
      "Iter 1601/2000 - Loss: 3.300  lengthscale1: [[ 30.967974 102.95146 ]]   noise: [5. 5. 5. 5. 5. 5. 5. 5. 5. 5. 5. 5. 5. 5. 5. 5. 5. 5. 5.]\n",
      "Iter 1701/2000 - Loss: 3.300  lengthscale1: [[ 30.938068 103.188896]]   noise: [5. 5. 5. 5. 5. 5. 5. 5. 5. 5. 5. 5. 5. 5. 5. 5. 5. 5. 5.]\n",
      "Iter 1801/2000 - Loss: 3.300  lengthscale1: [[ 31.05504 103.27316]]   noise: [5. 5. 5. 5. 5. 5. 5. 5. 5. 5. 5. 5. 5. 5. 5. 5. 5. 5. 5.]\n",
      "Iter 1901/2000 - Loss: 3.300  lengthscale1: [[ 30.95556 102.95461]]   noise: [5. 5. 5. 5. 5. 5. 5. 5. 5. 5. 5. 5. 5. 5. 5. 5. 5. 5. 5.]\n"
     ]
    }
   ],
   "metadata": {
    "tags": []
   }
  },
  {
   "cell_type": "markdown",
   "source": [
    "# Make and plot predictions"
   ],
   "metadata": {}
  },
  {
   "cell_type": "code",
   "execution_count": 26,
   "source": [
    "# make predictions (whether by long or short form)\n",
    "model.eval()\n",
    "likelihood.eval()\n",
    "\n",
    "with torch.no_grad(), gpytorch.settings.fast_pred_var():\n",
    "    # also use mll from short form \n",
    "    obs = likelihood(model(test_x), noise=(torch.ones(len(test_x))*5))\n",
    "# print(f'train data: {fe_data[\"2Pr (uC/cm2), Pristine state\"][1]}')\n",
    "# print(f'observed: {obs.mean}')"
   ],
   "outputs": [],
   "metadata": {}
  },
  {
   "cell_type": "code",
   "execution_count": 27,
   "source": [
    "obs.covariance_matrix.shape"
   ],
   "outputs": [
    {
     "output_type": "execute_result",
     "data": {
      "text/plain": [
       "torch.Size([900, 900])"
      ]
     },
     "metadata": {},
     "execution_count": 27
    }
   ],
   "metadata": {}
  },
  {
   "cell_type": "markdown",
   "source": [
    "# Make predictions and plot the mean surface"
   ],
   "metadata": {}
  },
  {
   "cell_type": "code",
   "execution_count": 28,
   "source": [
    "# non-log scale 3D plot\n",
    "\n",
    "pred_labels = obs.mean.view(n, n)\n",
    "# plot?...\n",
    "import plotly.graph_objects as go\n",
    "fig = go.Figure(data=[go.Surface(z=pred_labels.numpy().T, x=test_grid[:,0], y=test_grid[:,1], name='GP regression')])\n",
    "fig.add_trace(go.Scatter3d(x=train_x[:,0].numpy(),y=train_x[:,1].numpy(),  \n",
    "                        z=train_y.numpy(), mode='markers', marker={'color':'darkgreen'}, name='training data'))\n",
    "fig.update_layout( width=1000, height=800,\n",
    "                  legend=dict(orientation=\"h\", yanchor=\"top\", y=1.02, xanchor=\"left\",x=1),\n",
    "                   margin=dict(r=20, l=10, b=10, t=10), \n",
    "                    scene=dict(\n",
    "                    xaxis_title=\"RTA temperature (C)\",\n",
    "                    yaxis_title=\"RTA time (sec)\",\n",
    "                    zaxis_title='2Pr (uC/cm2), Pristine')\n",
    "                )\n",
    "camera = dict(\n",
    "    up=dict(x=0, y=0, z=1),\n",
    "    center=dict(x=0, y=0, z=0),\n",
    "    eye=dict(x=-2, y=-2.5, z=1.75)\n",
    ")\n",
    "\n",
    "fig.update_layout(scene_camera=camera)\n",
    "fig.show()"
   ],
   "outputs": [
    {
     "output_type": "display_data",
     "data": {
      "application/vnd.plotly.v1+json": {
       "data": [
        {
         "name": "GP regression",
         "x": [
          337.5,
          350.4310302734375,
          363.362060546875,
          376.2930908203125,
          389.22412109375,
          402.1551513671875,
          415.0862121582031,
          428.0172424316406,
          440.9482727050781,
          453.8793029785156,
          466.8103332519531,
          479.7413635253906,
          492.67242431640625,
          505.60345458984375,
          518.5344848632812,
          531.4655151367188,
          544.3965454101562,
          557.3275756835938,
          570.2586059570312,
          583.189697265625,
          596.1207275390625,
          609.0517578125,
          621.9827880859375,
          634.913818359375,
          647.8448486328125,
          660.77587890625,
          673.7069091796875,
          686.637939453125,
          699.5689697265625,
          712.5
         ],
         "y": [
          9.64285659790039,
          30.701967239379883,
          51.761077880859375,
          72.8201904296875,
          93.87930297851562,
          114.93841552734375,
          135.9975128173828,
          157.05662536621094,
          178.11573791503906,
          199.1748504638672,
          220.2339630126953,
          241.29306030273438,
          262.3521728515625,
          283.4112854003906,
          304.47039794921875,
          325.5295104980469,
          346.58868408203125,
          367.6477966308594,
          388.7069091796875,
          409.7659912109375,
          430.82513427734375,
          451.88421630859375,
          472.943359375,
          494.00244140625,
          515.0615844726562,
          536.1206665039062,
          557.1798095703125,
          578.2388916015625,
          599.2980346679688,
          620.3571166992188
         ],
         "z": [
          [
           1.8552227020263672,
           2.0328426361083984,
           7.321163177490234,
           15.448284149169922,
           22.945781707763672,
           27.502262115478516,
           28.99211883544922,
           28.716482162475586,
           28.076786041259766,
           27.84994125366211,
           28.18244171142578,
           28.853614807128906,
           29.516048431396484,
           29.875408172607422,
           29.78892707824707,
           29.239622116088867,
           28.249629974365234,
           26.871042251586914,
           25.27832794189453,
           23.81972312927246,
           22.894046783447266,
           22.70606803894043,
           23.105859756469727,
           23.66098403930664,
           23.909116744995117,
           23.614585876464844,
           22.89175796508789,
           22.142789840698242,
           21.824207305908203,
           22.163089752197266
          ],
          [
           1.4900646209716797,
           2.020721435546875,
           7.983573913574219,
           16.950138092041016,
           25.15036392211914,
           29.99633026123047,
           31.285621643066406,
           30.473947525024414,
           29.22134017944336,
           28.504478454589844,
           28.542287826538086,
           29.093666076660156,
           29.761377334594727,
           30.204622268676758,
           30.234804153442383,
           29.780990600585938,
           28.813989639282227,
           27.364280700683594,
           25.62997817993164,
           24.012779235839844,
           22.960735321044922,
           22.69951820373535,
           23.071447372436523,
           23.622589111328125,
           23.87049102783203,
           23.56868553161621,
           22.831241607666016,
           22.06740379333496,
           21.742525100708008,
           22.08810043334961
          ],
          [
           2.1753463745117188,
           3.052064895629883,
           9.459550857543945,
           18.911163330078125,
           27.486671447753906,
           32.42394256591797,
           33.45093536376953,
           32.121673583984375,
           30.290800094604492,
           29.09815788269043,
           28.829063415527344,
           29.235563278198242,
           29.890920639038086,
           30.42304801940918,
           30.600116729736328,
           30.288362503051758,
           29.39552116394043,
           27.923341751098633,
           26.090627670288086,
           24.3480281829834,
           23.185029983520508,
           22.84325408935547,
           23.162565231323242,
           23.682960510253906,
           23.91900634765625,
           23.622066497802734,
           22.900487899780273,
           22.153451919555664,
           21.835756301879883,
           22.173675537109375
          ],
          [
           3.835906982421875,
           5.007061004638672,
           11.569814682006836,
           21.085716247558594,
           29.65717315673828,
           34.4737434387207,
           35.21083068847656,
           33.45077133178711,
           31.15283966064453,
           29.56117820739746,
           29.0126895904541,
           29.268234252929688,
           29.897380828857422,
           30.51689910888672,
           30.859010696411133,
           30.72376823425293,
           29.949270248413086,
           28.5037841796875,
           26.622310638427734,
           24.79629898071289,
           23.54588508605957,
           23.12258529663086,
           23.369152069091797,
           23.835044860839844,
           24.04880714416504,
           23.768199920654297,
           23.09103775024414,
           22.39040756225586,
           22.092458724975586,
           22.409353256225586
          ],
          [
           6.281808853149414,
           7.659862518310547,
           14.066719055175781,
           23.214717864990234,
           31.399627685546875,
           35.89621353149414,
           36.350894927978516,
           34.30061340332031,
           31.705541610717773,
           29.84146499633789,
           29.075376510620117,
           29.19223976135254,
           29.785341262817383,
           30.482505798339844,
           30.99129295349121,
           31.04884910583496,
           30.423919677734375,
           29.04985237121582,
           27.171972274780273,
           25.310806274414062,
           24.003883361816406,
           23.505842208862305,
           23.667203903198242,
           24.0609130859375,
           24.244476318359375,
           23.98967933654785,
           23.380163192749023,
           22.750011444091797,
           22.4820556640625,
           22.76702117919922
          ],
          [
           9.246578216552734,
           10.724088668823242,
           16.686229705810547,
           25.081146240234375,
           32.54549789428711,
           36.56003189086914,
           36.768310546875,
           34.595088958740234,
           31.899986267089844,
           29.915815353393555,
           29.01513671875,
           29.01921844482422,
           29.569549560546875,
           30.32576560974121,
           30.984533309936523,
           31.23001480102539,
           30.769290924072266,
           29.503067016601562,
           27.6800594329834,
           25.835166931152344,
           24.50833511352539,
           23.950319290161133,
           24.023366928100586,
           24.335243225097656,
           24.484045028686523,
           24.261634826660156,
           23.735397338867188,
           23.191864013671875,
           22.96078109741211,
           23.20651626586914
          ],
          [
           12.43657398223877,
           13.906715393066406,
           19.19825553894043,
           26.553203582763672,
           33.054298400878906,
           36.480140686035156,
           36.49480438232422,
           34.35958480834961,
           31.750896453857422,
           29.794784545898438,
           28.846094131469727,
           28.769489288330078,
           29.271913528442383,
           30.060714721679688,
           30.835905075073242,
           31.24408531188965,
           30.944974899291992,
           29.812440872192383,
           28.091079711914062,
           26.313520431518555,
           25.006492614746094,
           24.410078048706055,
           24.401077270507812,
           24.629953384399414,
           24.743040084838867,
           24.55629539489746,
           24.120466232299805,
           23.670869827270508,
           23.47975730895996,
           23.682960510253906
          ],
          [
           15.580243110656738,
           16.956283569335938,
           21.442495346069336,
           27.60154914855957,
           33.01457977294922,
           35.80891418457031,
           35.68495559692383,
           33.71200942993164,
           31.331254959106445,
           29.519365310668945,
           28.595508575439453,
           28.46851921081543,
           28.91802406311035,
           29.707643508911133,
           30.553394317626953,
           31.08308982849121,
           30.9281063079834,
           29.943904876708984,
           28.3635311126709,
           26.70024299621582,
           25.452503204345703,
           24.843647003173828,
           24.766620635986328,
           24.91889190673828,
           24.99853515625,
           24.847604751586914,
           24.50132179260254,
           24.144664764404297,
           23.99309539794922,
           24.154224395751953
          ],
          [
           18.46466064453125,
           19.693401336669922,
           23.341678619384766,
           28.288406372070312,
           32.611515045166016,
           34.79322052001953,
           34.57638931274414,
           32.83292770385742,
           30.753963470458984,
           29.151243209838867,
           28.298416137695312,
           28.143083572387695,
           28.533933639526367,
           29.291067123413086,
           30.155895233154297,
           30.756916046142578,
           30.71817398071289,
           29.886516571044922,
           28.47677993774414,
           26.966976165771484,
           25.814136505126953,
           25.219907760620117,
           25.093849182128906,
           25.18142318725586,
           25.2322998046875,
           25.114778518676758,
           24.850807189941406,
           24.5794620513916,
           24.46417808532715,
           24.58670997619629
          ],
          [
           20.953323364257812,
           22.020347595214844,
           24.891948699951172,
           28.733837127685547,
           32.07255554199219,
           33.71113967895508,
           33.430274963378906,
           31.921009063720703,
           30.14438247680664,
           28.75859260559082,
           27.990976333618164,
           27.817781448364258,
           28.143630981445312,
           28.83763885498047,
           29.671775817871094,
           30.292797088623047,
           30.337512969970703,
           29.65389633178711,
           28.43330192565918,
           27.10547637939453,
           26.075895309448242,
           25.52105712890625,
           25.366641998291016,
           25.404373168945312,
           25.43250274658203,
           25.34425926208496,
           25.151168823242188,
           24.953182220458984,
           24.86909294128418,
           24.958444595336914
          ],
          [
           22.98586654663086,
           23.91097068786621,
           26.13758659362793,
           29.071245193481445,
           31.606809616088867,
           32.805091857910156,
           32.471435546875,
           31.14800262451172,
           29.61227035522461,
           28.401573181152344,
           27.70425796508789,
           27.51245880126953,
           27.76734733581543,
           28.373991012573242,
           29.135826110839844,
           29.73149299621582,
           29.827255249023438,
           29.280616760253906,
           28.256046295166016,
           27.126087188720703,
           26.238374710083008,
           25.742483139038086,
           25.579017639160156,
           25.582199096679688,
           25.593904495239258,
           25.529939651489258,
           25.394380569458008,
           25.255826950073242,
           25.197010040283203,
           25.259490966796875
          ],
          [
           24.563657760620117,
           25.389497756958008,
           27.14011573791504,
           29.406044006347656,
           31.355472564697266,
           32.229976654052734,
           31.841995239257812,
           30.62377166748047,
           29.22977638244629,
           28.121047973632812,
           27.45960235595703,
           27.240724563598633,
           27.420589447021484,
           27.92459487915039,
           28.585002899169922,
           29.120956420898438,
           29.239789962768555,
           28.814733505249023,
           27.982030868530273,
           27.05278205871582,
           26.314666748046875,
           25.890254974365234,
           25.73339080810547,
           25.715768814086914,
           25.716835021972656,
           25.67201805114746,
           25.580663681030273,
           25.4876651763916,
           25.44820785522461,
           25.490102767944336
          ],
          [
           25.72936248779297,
           26.50663948059082,
           27.953235626220703,
           29.790603637695312,
           31.36724281311035,
           32.029884338378906,
           31.58048439025879,
           30.380199432373047,
           29.020883560180664,
           27.932924270629883,
           27.266530990600586,
           27.009601593017578,
           27.113780975341797,
           27.509769439697266,
           28.053787231445312,
           28.50895881652832,
           28.629680633544922,
           28.30851173400879,
           27.65409278869629,
           26.916479110717773,
           26.325204849243164,
           25.977264404296875,
           25.837812423706055,
           25.810348510742188,
           25.805496215820312,
           25.77510643005371,
           25.71599006652832,
           25.65611457824707,
           25.6307315826416,
           25.657670974731445
          ],
          [
           26.547086715698242,
           27.32054901123047,
           28.609500885009766,
           30.21933937072754,
           31.60100555419922,
           32.14480209350586,
           31.629201889038086,
           30.3760986328125,
           28.96377182006836,
           27.8291072845459,
           27.123340606689453,
           26.820173263549805,
           26.852392196655273,
           27.144193649291992,
           27.57013511657715,
           27.936416625976562,
           28.0452823638916,
           27.809701919555664,
           27.312999725341797,
           26.748476028442383,
           26.292537689208984,
           26.019237518310547,
           25.903034210205078,
           25.87346649169922,
           25.86613655090332,
           25.846166610717773,
           25.809425354003906,
           25.772445678710938,
           25.75678253173828,
           25.773393630981445
          ],
          [
           27.087894439697266,
           27.886817932128906,
           29.121089935302734,
           30.644062042236328,
           31.953876495361328,
           32.44451904296875,
           31.864965438842773,
           30.519901275634766,
           29.004322052001953,
           27.784076690673828,
           27.02001190185547,
           26.668973922729492,
           26.637481689453125,
           26.8361759185791,
           27.152868270874023,
           27.43281364440918,
           27.522783279418945,
           27.35523223876953,
           26.99155044555664,
           26.57537269592285,
           26.237184524536133,
           26.03145980834961,
           25.940061569213867,
           25.9130916595459,
           25.905502319335938,
           25.89276885986328,
           25.870824813842773,
           25.848915100097656,
           25.839645385742188,
           25.849468231201172
          ],
          [
           27.42169189453125,
           28.256420135498047,
           29.490285873413086,
           31.000499725341797,
           32.30165481567383,
           32.774864196777344,
           32.14207077026367,
           30.70178985595703,
           29.07575225830078,
           27.764785766601562,
           26.942447662353516,
           26.549816131591797,
           26.466567993164062,
           26.587820053100586,
           26.81089973449707,
           27.01436996459961,
           27.083587646484375,
           26.968185424804688,
           26.711566925048828,
           26.4162654876709,
           26.175113677978516,
           26.02669334411621,
           25.95853042602539,
           25.9364070892334,
           25.929758071899414,
           25.921873092651367,
           25.909273147583008,
           25.896818161010742,
           25.891557693481445,
           25.897125244140625
          ],
          [
           27.61442756652832,
           28.479190826416016,
           29.724445343017578,
           31.237760543823242,
           32.540733337402344,
           33.00515365600586,
           32.335262298583984,
           30.82598876953125,
           29.118650436401367,
           27.740909576416016,
           26.876943588256836,
           26.45566177368164,
           26.334749221801758,
           26.39604377746582,
           26.54421615600586,
           26.684894561767578,
           26.734891891479492,
           26.65801239013672,
           26.483665466308594,
           26.282136917114258,
           26.116905212402344,
           26.014265060424805,
           25.96592140197754,
           25.949174880981445,
           25.943941116333008,
           25.939193725585938,
           25.932233810424805,
           25.925439834594727,
           25.922576904296875,
           25.92560386657715
          ],
          [
           27.727798461914062,
           28.60774040222168,
           29.84731101989746,
           31.339021682739258,
           32.61698913574219,
           33.06060791015625,
           32.370296478271484,
           30.8342227935791,
           29.09588623046875,
           27.692684173583984,
           26.813640594482422,
           26.38018798828125,
           26.23587989807129,
           26.254114151000977,
           26.346054077148438,
           26.43850326538086,
           26.47257423400879,
           26.423091888427734,
           26.309125900268555,
           26.17691993713379,
           26.06818199157715,
           26.000137329101562,
           25.967458724975586,
           25.955604553222656,
           25.951801300048828,
           25.94902229309082,
           25.945322036743164,
           25.94176483154297,
           25.940269470214844,
           25.941848754882812
          ],
          [
           27.818944931030273,
           28.69888687133789,
           29.90348243713379,
           31.329803466796875,
           32.5374870300293,
           32.93568801879883,
           32.23610305786133,
           30.71548080444336,
           28.999143600463867,
           27.614595413208008,
           26.74837303161621,
           26.318782806396484,
           26.16360092163086,
           26.153364181518555,
           26.205610275268555,
           26.263208389282227,
           26.285160064697266,
           26.254419326782227,
           26.18278694152832,
           26.099456787109375,
           26.030746459960938,
           25.987499237060547,
           25.96641731262207,
           25.958505630493164,
           25.955923080444336,
           25.954341888427734,
           25.95244598388672,
           25.95065689086914,
           25.949907302856445,
           25.95069694519043
          ],
          [
           27.938369750976562,
           28.810266494750977,
           29.95322036743164,
           31.27062225341797,
           32.361534118652344,
           32.685142517089844,
           31.977783203125,
           30.50129508972168,
           28.84648895263672,
           27.51446533203125,
           26.68250274658203,
           26.268800735473633,
           26.112098693847656,
           26.084733963012695,
           26.110597610473633,
           26.144412994384766,
           26.157779693603516,
           26.139358520507812,
           26.096088409423828,
           26.045642852783203,
           26.003965377807617,
           25.97761344909668,
           25.964614868164062,
           25.95961570739746,
           25.957962036132812,
           25.95708656311035,
           25.956148147583008,
           25.955286026000977,
           25.954925537109375,
           25.955305099487305
          ],
          [
           28.125967025756836,
           28.993183135986328,
           30.060386657714844,
           31.239238739013672,
           32.1782112121582,
           32.40005111694336,
           31.675079345703125,
           30.250078201293945,
           28.67298126220703,
           27.40890884399414,
           26.62122344970703,
           26.22923469543457,
           26.076496124267578,
           26.03988265991211,
           26.04920196533203,
           26.067651748657227,
           26.0753116607666,
           26.064666748046875,
           26.0395565032959,
           26.010236740112305,
           25.985973358154297,
           25.970577239990234,
           25.962913513183594,
           25.959909439086914,
           25.958908081054688,
           25.958436965942383,
           25.957988739013672,
           25.957590103149414,
           25.95742416381836,
           25.957597732543945
          ],
          [
           28.405906677246094,
           29.283201217651367,
           30.2767333984375,
           31.307336807250977,
           32.076839447021484,
           32.176273345947266,
           31.414396286010742,
           30.02630615234375,
           28.517932891845703,
           27.316959381103516,
           26.57098960876465,
           26.199947357177734,
           26.052927017211914,
           26.011825561523438,
           26.011306762695312,
           26.02032470703125,
           26.024404525756836,
           26.01846694946289,
           26.004472732543945,
           25.988113403320312,
           25.97456169128418,
           25.9659366607666,
           25.961612701416016,
           25.95989227294922,
           25.95931625366211,
           25.959070205688477,
           25.9588623046875,
           25.95868492126465,
           25.9586124420166,
           25.958688735961914
          ],
          [
           28.782114028930664,
           29.691808700561523,
           30.62777328491211,
           31.51958465576172,
           32.12027359008789,
           32.08562088012695,
           31.26272964477539,
           29.880956649780273,
           28.412744522094727,
           27.25383949279785,
           26.536916732788086,
           26.180822372436523,
           26.03837776184082,
           25.995121002197266,
           25.98897361755371,
           25.992469787597656,
           25.994417190551758,
           25.991214752197266,
           25.983722686767578,
           25.974964141845703,
           25.967700958251953,
           25.96306800842285,
           25.96073341369629,
           25.959793090820312,
           25.959476470947266,
           25.959352493286133,
           25.959260940551758,
           25.959184646606445,
           25.959152221679688,
           25.959184646606445
          ],
          [
           29.235998153686523,
           30.201560974121094,
           31.10392189025879,
           31.879928588867188,
           32.32707214355469,
           32.15648651123047,
           31.250003814697266,
           29.838123321533203,
           28.372480392456055,
           27.226594924926758,
           26.52090835571289,
           26.17106819152832,
           26.030441284179688,
           25.98577308654785,
           25.976428985595703,
           25.97681427001953,
           25.97755241394043,
           25.97587013244629,
           25.97201919555664,
           25.967517852783203,
           25.963783264160156,
           25.961397171020508,
           25.960189819335938,
           25.959699630737305,
           25.95953369140625,
           25.95947265625,
           25.95943260192871,
           25.959400177001953,
           25.959388732910156,
           25.959402084350586
          ],
          [
           29.727872848510742,
           30.766803741455078,
           31.65966796875,
           32.34857940673828,
           32.66650390625,
           32.36775588989258,
           31.363143920898438,
           29.89027214050293,
           28.392772674560547,
           27.2324275970459,
           26.52090835571289,
           26.168880462646484,
           26.02707862854004,
           25.98097038269043,
           25.969738006591797,
           25.968412399291992,
           25.968490600585938,
           25.967618942260742,
           25.965715408325195,
           25.963497161865234,
           25.961654663085938,
           25.96047592163086,
           25.959877014160156,
           25.959632873535156,
           25.959548950195312,
           25.95952033996582,
           25.959503173828125,
           25.959491729736328,
           25.95948600769043,
           25.959491729736328
          ],
          [
           30.202547073364258,
           31.320430755615234,
           32.221046447753906,
           32.84996032714844,
           33.06635665893555,
           32.65584182739258,
           31.55178451538086,
           30.0022029876709,
           28.45212745666504,
           27.259803771972656,
           26.53130340576172,
           26.1715087890625,
           26.026485443115234,
           25.978788375854492,
           25.966360092163086,
           25.964111328125,
           25.963838577270508,
           25.96337890625,
           25.962472915649414,
           25.961421966552734,
           25.96055030822754,
           25.959993362426758,
           25.95970916748047,
           25.959592819213867,
           25.959552764892578,
           25.95953941345215,
           25.959531784057617,
           25.95952796936035,
           25.95952606201172,
           25.95952796936035
          ],
          [
           30.598445892333984,
           31.785640716552734,
           32.69989776611328,
           33.28894805908203,
           33.43043518066406,
           32.931663513183594,
           31.742557525634766,
           30.12139129638672,
           28.51824378967285,
           27.291675567626953,
           26.544269561767578,
           26.175642013549805,
           26.027055740356445,
           25.977933883666992,
           25.96474838256836,
           25.962005615234375,
           25.961557388305664,
           25.96129608154297,
           25.960878372192383,
           25.96040153503418,
           25.960006713867188,
           25.959753036499023,
           25.959623336791992,
           25.959569931030273,
           25.959550857543945,
           25.959545135498047,
           25.959543228149414,
           25.95954132080078,
           25.95954132080078,
           25.95954132080078
          ],
          [
           30.858810424804688,
           32.090476989746094,
           33.01156997680664,
           33.571434020996094,
           33.6607666015625,
           33.102317810058594,
           31.857646942138672,
           30.19154930114746,
           28.556354522705078,
           27.309776306152344,
           26.551584243774414,
           26.177997589111328,
           26.027442932128906,
           25.977561950683594,
           25.9639949798584,
           25.961017608642578,
           25.960485458374023,
           25.960317611694336,
           25.960128784179688,
           25.95992088317871,
           25.959749221801758,
           25.959638595581055,
           25.95958137512207,
           25.959558486938477,
           25.959550857543945,
           25.959548950195312,
           25.95954704284668,
           25.95954704284668,
           25.95954704284668,
           25.95954704284668
          ],
          [
           30.94230079650879,
           32.18169021606445,
           33.09189224243164,
           33.624088287353516,
           33.67898178100586,
           33.09198760986328,
           31.832698822021484,
           30.165699005126953,
           28.53731918334961,
           27.298789978027344,
           26.54640007019043,
           26.17591094970703,
           26.026636123657227,
           25.977136611938477,
           25.96360206604004,
           25.96056365966797,
           25.96000099182129,
           25.95987892150879,
           25.959793090820312,
           25.959705352783203,
           25.959632873535156,
           25.95958709716797,
           25.959562301635742,
           25.959552764892578,
           25.959548950195312,
           25.959548950195312,
           25.959548950195312,
           25.959548950195312,
           25.959548950195312,
           25.959548950195312
          ],
          [
           30.830833435058594,
           32.03493881225586,
           32.909706115722656,
           33.40884017944336,
           33.44205856323242,
           32.857337951660156,
           31.629898071289062,
           30.01578140258789,
           28.443557739257812,
           27.249433517456055,
           26.524566650390625,
           26.16777801513672,
           26.0240478515625,
           25.97637176513672,
           25.96330451965332,
           25.960346221923828,
           25.959789276123047,
           25.959688186645508,
           25.95964813232422,
           25.959611892700195,
           25.959583282470703,
           25.959564208984375,
           25.95955467224121,
           25.959550857543945,
           25.959548950195312,
           25.959548950195312,
           25.959548950195312,
           25.959548950195312,
           25.959548950195312,
           25.959548950195312
          ]
         ],
         "type": "surface"
        },
        {
         "marker": {
          "color": "darkgreen"
         },
         "mode": "markers",
         "name": "training data",
         "x": [
          350,
          350,
          350,
          350,
          350,
          360,
          380,
          400,
          400,
          400,
          400,
          400,
          500,
          600,
          700,
          389.20001220703125,
          544.4000244140625,
          440.8999938964844,
          402.20001220703125
         ],
         "y": [
          30,
          60,
          120,
          300,
          600,
          30,
          30,
          30,
          60,
          120,
          300,
          600,
          30,
          30,
          30,
          309.6000061035156,
          150,
          199.89999389648438,
          279.70001220703125
         ],
         "z": [
          0.31095001101493835,
          3.050879955291748,
          11.487239837646484,
          27.853260040283203,
          32.442138671875,
          5.914820194244385,
          20.168760299682617,
          26.66847038269043,
          35.82332992553711,
          36.27027130126953,
          35.18614959716797,
          33.61565017700195,
          30.255699157714844,
          22.557350158691406,
          21.468669891357422,
          31.507869720458984,
          31.268070220947266,
          30.208850860595703,
          29.97977066040039
         ],
         "type": "scatter3d"
        }
       ],
       "layout": {
        "template": {
         "data": {
          "bar": [
           {
            "error_x": {
             "color": "#2a3f5f"
            },
            "error_y": {
             "color": "#2a3f5f"
            },
            "marker": {
             "line": {
              "color": "#E5ECF6",
              "width": 0.5
             },
             "pattern": {
              "fillmode": "overlay",
              "size": 10,
              "solidity": 0.2
             }
            },
            "type": "bar"
           }
          ],
          "barpolar": [
           {
            "marker": {
             "line": {
              "color": "#E5ECF6",
              "width": 0.5
             },
             "pattern": {
              "fillmode": "overlay",
              "size": 10,
              "solidity": 0.2
             }
            },
            "type": "barpolar"
           }
          ],
          "carpet": [
           {
            "aaxis": {
             "endlinecolor": "#2a3f5f",
             "gridcolor": "white",
             "linecolor": "white",
             "minorgridcolor": "white",
             "startlinecolor": "#2a3f5f"
            },
            "baxis": {
             "endlinecolor": "#2a3f5f",
             "gridcolor": "white",
             "linecolor": "white",
             "minorgridcolor": "white",
             "startlinecolor": "#2a3f5f"
            },
            "type": "carpet"
           }
          ],
          "choropleth": [
           {
            "colorbar": {
             "outlinewidth": 0,
             "ticks": ""
            },
            "type": "choropleth"
           }
          ],
          "contour": [
           {
            "colorbar": {
             "outlinewidth": 0,
             "ticks": ""
            },
            "colorscale": [
             [
              0,
              "#0d0887"
             ],
             [
              0.1111111111111111,
              "#46039f"
             ],
             [
              0.2222222222222222,
              "#7201a8"
             ],
             [
              0.3333333333333333,
              "#9c179e"
             ],
             [
              0.4444444444444444,
              "#bd3786"
             ],
             [
              0.5555555555555556,
              "#d8576b"
             ],
             [
              0.6666666666666666,
              "#ed7953"
             ],
             [
              0.7777777777777778,
              "#fb9f3a"
             ],
             [
              0.8888888888888888,
              "#fdca26"
             ],
             [
              1,
              "#f0f921"
             ]
            ],
            "type": "contour"
           }
          ],
          "contourcarpet": [
           {
            "colorbar": {
             "outlinewidth": 0,
             "ticks": ""
            },
            "type": "contourcarpet"
           }
          ],
          "heatmap": [
           {
            "colorbar": {
             "outlinewidth": 0,
             "ticks": ""
            },
            "colorscale": [
             [
              0,
              "#0d0887"
             ],
             [
              0.1111111111111111,
              "#46039f"
             ],
             [
              0.2222222222222222,
              "#7201a8"
             ],
             [
              0.3333333333333333,
              "#9c179e"
             ],
             [
              0.4444444444444444,
              "#bd3786"
             ],
             [
              0.5555555555555556,
              "#d8576b"
             ],
             [
              0.6666666666666666,
              "#ed7953"
             ],
             [
              0.7777777777777778,
              "#fb9f3a"
             ],
             [
              0.8888888888888888,
              "#fdca26"
             ],
             [
              1,
              "#f0f921"
             ]
            ],
            "type": "heatmap"
           }
          ],
          "heatmapgl": [
           {
            "colorbar": {
             "outlinewidth": 0,
             "ticks": ""
            },
            "colorscale": [
             [
              0,
              "#0d0887"
             ],
             [
              0.1111111111111111,
              "#46039f"
             ],
             [
              0.2222222222222222,
              "#7201a8"
             ],
             [
              0.3333333333333333,
              "#9c179e"
             ],
             [
              0.4444444444444444,
              "#bd3786"
             ],
             [
              0.5555555555555556,
              "#d8576b"
             ],
             [
              0.6666666666666666,
              "#ed7953"
             ],
             [
              0.7777777777777778,
              "#fb9f3a"
             ],
             [
              0.8888888888888888,
              "#fdca26"
             ],
             [
              1,
              "#f0f921"
             ]
            ],
            "type": "heatmapgl"
           }
          ],
          "histogram": [
           {
            "marker": {
             "pattern": {
              "fillmode": "overlay",
              "size": 10,
              "solidity": 0.2
             }
            },
            "type": "histogram"
           }
          ],
          "histogram2d": [
           {
            "colorbar": {
             "outlinewidth": 0,
             "ticks": ""
            },
            "colorscale": [
             [
              0,
              "#0d0887"
             ],
             [
              0.1111111111111111,
              "#46039f"
             ],
             [
              0.2222222222222222,
              "#7201a8"
             ],
             [
              0.3333333333333333,
              "#9c179e"
             ],
             [
              0.4444444444444444,
              "#bd3786"
             ],
             [
              0.5555555555555556,
              "#d8576b"
             ],
             [
              0.6666666666666666,
              "#ed7953"
             ],
             [
              0.7777777777777778,
              "#fb9f3a"
             ],
             [
              0.8888888888888888,
              "#fdca26"
             ],
             [
              1,
              "#f0f921"
             ]
            ],
            "type": "histogram2d"
           }
          ],
          "histogram2dcontour": [
           {
            "colorbar": {
             "outlinewidth": 0,
             "ticks": ""
            },
            "colorscale": [
             [
              0,
              "#0d0887"
             ],
             [
              0.1111111111111111,
              "#46039f"
             ],
             [
              0.2222222222222222,
              "#7201a8"
             ],
             [
              0.3333333333333333,
              "#9c179e"
             ],
             [
              0.4444444444444444,
              "#bd3786"
             ],
             [
              0.5555555555555556,
              "#d8576b"
             ],
             [
              0.6666666666666666,
              "#ed7953"
             ],
             [
              0.7777777777777778,
              "#fb9f3a"
             ],
             [
              0.8888888888888888,
              "#fdca26"
             ],
             [
              1,
              "#f0f921"
             ]
            ],
            "type": "histogram2dcontour"
           }
          ],
          "mesh3d": [
           {
            "colorbar": {
             "outlinewidth": 0,
             "ticks": ""
            },
            "type": "mesh3d"
           }
          ],
          "parcoords": [
           {
            "line": {
             "colorbar": {
              "outlinewidth": 0,
              "ticks": ""
             }
            },
            "type": "parcoords"
           }
          ],
          "pie": [
           {
            "automargin": true,
            "type": "pie"
           }
          ],
          "scatter": [
           {
            "marker": {
             "colorbar": {
              "outlinewidth": 0,
              "ticks": ""
             }
            },
            "type": "scatter"
           }
          ],
          "scatter3d": [
           {
            "line": {
             "colorbar": {
              "outlinewidth": 0,
              "ticks": ""
             }
            },
            "marker": {
             "colorbar": {
              "outlinewidth": 0,
              "ticks": ""
             }
            },
            "type": "scatter3d"
           }
          ],
          "scattercarpet": [
           {
            "marker": {
             "colorbar": {
              "outlinewidth": 0,
              "ticks": ""
             }
            },
            "type": "scattercarpet"
           }
          ],
          "scattergeo": [
           {
            "marker": {
             "colorbar": {
              "outlinewidth": 0,
              "ticks": ""
             }
            },
            "type": "scattergeo"
           }
          ],
          "scattergl": [
           {
            "marker": {
             "colorbar": {
              "outlinewidth": 0,
              "ticks": ""
             }
            },
            "type": "scattergl"
           }
          ],
          "scattermapbox": [
           {
            "marker": {
             "colorbar": {
              "outlinewidth": 0,
              "ticks": ""
             }
            },
            "type": "scattermapbox"
           }
          ],
          "scatterpolar": [
           {
            "marker": {
             "colorbar": {
              "outlinewidth": 0,
              "ticks": ""
             }
            },
            "type": "scatterpolar"
           }
          ],
          "scatterpolargl": [
           {
            "marker": {
             "colorbar": {
              "outlinewidth": 0,
              "ticks": ""
             }
            },
            "type": "scatterpolargl"
           }
          ],
          "scatterternary": [
           {
            "marker": {
             "colorbar": {
              "outlinewidth": 0,
              "ticks": ""
             }
            },
            "type": "scatterternary"
           }
          ],
          "surface": [
           {
            "colorbar": {
             "outlinewidth": 0,
             "ticks": ""
            },
            "colorscale": [
             [
              0,
              "#0d0887"
             ],
             [
              0.1111111111111111,
              "#46039f"
             ],
             [
              0.2222222222222222,
              "#7201a8"
             ],
             [
              0.3333333333333333,
              "#9c179e"
             ],
             [
              0.4444444444444444,
              "#bd3786"
             ],
             [
              0.5555555555555556,
              "#d8576b"
             ],
             [
              0.6666666666666666,
              "#ed7953"
             ],
             [
              0.7777777777777778,
              "#fb9f3a"
             ],
             [
              0.8888888888888888,
              "#fdca26"
             ],
             [
              1,
              "#f0f921"
             ]
            ],
            "type": "surface"
           }
          ],
          "table": [
           {
            "cells": {
             "fill": {
              "color": "#EBF0F8"
             },
             "line": {
              "color": "white"
             }
            },
            "header": {
             "fill": {
              "color": "#C8D4E3"
             },
             "line": {
              "color": "white"
             }
            },
            "type": "table"
           }
          ]
         },
         "layout": {
          "annotationdefaults": {
           "arrowcolor": "#2a3f5f",
           "arrowhead": 0,
           "arrowwidth": 1
          },
          "autotypenumbers": "strict",
          "coloraxis": {
           "colorbar": {
            "outlinewidth": 0,
            "ticks": ""
           }
          },
          "colorscale": {
           "diverging": [
            [
             0,
             "#8e0152"
            ],
            [
             0.1,
             "#c51b7d"
            ],
            [
             0.2,
             "#de77ae"
            ],
            [
             0.3,
             "#f1b6da"
            ],
            [
             0.4,
             "#fde0ef"
            ],
            [
             0.5,
             "#f7f7f7"
            ],
            [
             0.6,
             "#e6f5d0"
            ],
            [
             0.7,
             "#b8e186"
            ],
            [
             0.8,
             "#7fbc41"
            ],
            [
             0.9,
             "#4d9221"
            ],
            [
             1,
             "#276419"
            ]
           ],
           "sequential": [
            [
             0,
             "#0d0887"
            ],
            [
             0.1111111111111111,
             "#46039f"
            ],
            [
             0.2222222222222222,
             "#7201a8"
            ],
            [
             0.3333333333333333,
             "#9c179e"
            ],
            [
             0.4444444444444444,
             "#bd3786"
            ],
            [
             0.5555555555555556,
             "#d8576b"
            ],
            [
             0.6666666666666666,
             "#ed7953"
            ],
            [
             0.7777777777777778,
             "#fb9f3a"
            ],
            [
             0.8888888888888888,
             "#fdca26"
            ],
            [
             1,
             "#f0f921"
            ]
           ],
           "sequentialminus": [
            [
             0,
             "#0d0887"
            ],
            [
             0.1111111111111111,
             "#46039f"
            ],
            [
             0.2222222222222222,
             "#7201a8"
            ],
            [
             0.3333333333333333,
             "#9c179e"
            ],
            [
             0.4444444444444444,
             "#bd3786"
            ],
            [
             0.5555555555555556,
             "#d8576b"
            ],
            [
             0.6666666666666666,
             "#ed7953"
            ],
            [
             0.7777777777777778,
             "#fb9f3a"
            ],
            [
             0.8888888888888888,
             "#fdca26"
            ],
            [
             1,
             "#f0f921"
            ]
           ]
          },
          "colorway": [
           "#636efa",
           "#EF553B",
           "#00cc96",
           "#ab63fa",
           "#FFA15A",
           "#19d3f3",
           "#FF6692",
           "#B6E880",
           "#FF97FF",
           "#FECB52"
          ],
          "font": {
           "color": "#2a3f5f"
          },
          "geo": {
           "bgcolor": "white",
           "lakecolor": "white",
           "landcolor": "#E5ECF6",
           "showlakes": true,
           "showland": true,
           "subunitcolor": "white"
          },
          "hoverlabel": {
           "align": "left"
          },
          "hovermode": "closest",
          "mapbox": {
           "style": "light"
          },
          "paper_bgcolor": "white",
          "plot_bgcolor": "#E5ECF6",
          "polar": {
           "angularaxis": {
            "gridcolor": "white",
            "linecolor": "white",
            "ticks": ""
           },
           "bgcolor": "#E5ECF6",
           "radialaxis": {
            "gridcolor": "white",
            "linecolor": "white",
            "ticks": ""
           }
          },
          "scene": {
           "xaxis": {
            "backgroundcolor": "#E5ECF6",
            "gridcolor": "white",
            "gridwidth": 2,
            "linecolor": "white",
            "showbackground": true,
            "ticks": "",
            "zerolinecolor": "white"
           },
           "yaxis": {
            "backgroundcolor": "#E5ECF6",
            "gridcolor": "white",
            "gridwidth": 2,
            "linecolor": "white",
            "showbackground": true,
            "ticks": "",
            "zerolinecolor": "white"
           },
           "zaxis": {
            "backgroundcolor": "#E5ECF6",
            "gridcolor": "white",
            "gridwidth": 2,
            "linecolor": "white",
            "showbackground": true,
            "ticks": "",
            "zerolinecolor": "white"
           }
          },
          "shapedefaults": {
           "line": {
            "color": "#2a3f5f"
           }
          },
          "ternary": {
           "aaxis": {
            "gridcolor": "white",
            "linecolor": "white",
            "ticks": ""
           },
           "baxis": {
            "gridcolor": "white",
            "linecolor": "white",
            "ticks": ""
           },
           "bgcolor": "#E5ECF6",
           "caxis": {
            "gridcolor": "white",
            "linecolor": "white",
            "ticks": ""
           }
          },
          "title": {
           "x": 0.05
          },
          "xaxis": {
           "automargin": true,
           "gridcolor": "white",
           "linecolor": "white",
           "ticks": "",
           "title": {
            "standoff": 15
           },
           "zerolinecolor": "white",
           "zerolinewidth": 2
          },
          "yaxis": {
           "automargin": true,
           "gridcolor": "white",
           "linecolor": "white",
           "ticks": "",
           "title": {
            "standoff": 15
           },
           "zerolinecolor": "white",
           "zerolinewidth": 2
          }
         }
        },
        "legend": {
         "orientation": "h",
         "yanchor": "top",
         "y": 1.02,
         "xanchor": "left",
         "x": 1
        },
        "margin": {
         "r": 20,
         "l": 10,
         "b": 10,
         "t": 10
        },
        "width": 1000,
        "height": 800,
        "scene": {
         "xaxis": {
          "title": {
           "text": "RTA temperature (C)"
          }
         },
         "yaxis": {
          "title": {
           "text": "RTA time (sec)"
          }
         },
         "zaxis": {
          "title": {
           "text": "2Pr (uC/cm2), Pristine"
          }
         },
         "camera": {
          "up": {
           "x": 0,
           "y": 0,
           "z": 1
          },
          "center": {
           "x": 0,
           "y": 0,
           "z": 0
          },
          "eye": {
           "x": -2,
           "y": -2.5,
           "z": 1.75
          }
         }
        }
       },
       "config": {
        "plotlyServerURL": "https://plot.ly"
       }
      }
     },
     "metadata": {}
    }
   ],
   "metadata": {}
  },
  {
   "cell_type": "code",
   "execution_count": 29,
   "source": [
    "# # log scale\n",
    "# pred_labels = obs.mean.view(n, n)\n",
    "# # plot?...\n",
    "# import plotly.graph_objects as go\n",
    "# fig = go.Figure(data=[go.Surface(z=pred_labels.numpy().T, x=test_grid[:,0], y=test_grid[:,1], name='GP regression')])\n",
    "# fig.add_trace(go.Scatter3d(x=train_x[:,0].numpy(),y=train_x[:,1].numpy(),  \n",
    "#                         z=train_y.numpy(), mode='markers', marker={'color':'darkgreen'}, name='trianing data'))\n",
    "# fig.update_layout( #width=1000, height=800,\n",
    "#                   legend=dict(orientation=\"h\", yanchor=\"top\", y=1.02, xanchor=\"left\",x=1),\n",
    "#                    margin=dict(r=20, l=10, b=10, t=10), \n",
    "#                     scene=dict(\n",
    "#                     xaxis_title=\"RTA temperature (C)\",\n",
    "#                     yaxis_title=\"RTA time (sec)\",\n",
    "#                     zaxis_title='2Pr (uC/cm2), Pristine')\n",
    "#                 )\n",
    "# fig.show()"
   ],
   "outputs": [],
   "metadata": {}
  },
  {
   "cell_type": "markdown",
   "source": [
    "# Evaluate acquisition functions\n",
    "This is a bit over-engineered at the moment, as it was built to allow use of the acquisition functions in bayesian optimization loops (botorch functionality).  The below cells should suffice to return the needed results.  "
   ],
   "metadata": {}
  },
  {
   "cell_type": "code",
   "execution_count": 1,
   "source": [
    "# Evaluate acquisition functions on current predictions (observations)\n",
    "\n",
    "from src.acq_funcs import EI, PI, cust_acq, thompson\n",
    "bounds = [1,1]\n",
    "\n",
    "# Probability of Improvement\n",
    "PI_acq = PI(obs, bounds, train_y)\n",
    "PI_acq_shape = PI_acq.detach().numpy().reshape(30,30).T\n",
    "\n",
    "# Expected Improvement\n",
    "EI_acq = EI(obs, bounds, train_y)\n",
    "EI_acq_shape = EI_acq.detach().numpy().reshape(30,30).T\n",
    "\n",
    "# Custom Acquisition (something I was playing with)\n",
    "ca_acq = cust_acq(obs, bounds, train_y)\n",
    "ca_acq_shape = ca_acq.detach().numpy().reshape(30,30).T\n",
    "\n",
    "# Thompson Acquisition function\n",
    "th_acq = thompson(obs, bounds, train_y)\n",
    "th_acq_shape = th_acq.detach().numpy().reshape(30,30).T\n",
    "# fig = go.Figure(data=[go.Surface(z=acq, x=test_grid[:,0], y=test_grid[:,1])])\n"
   ],
   "outputs": [
    {
     "output_type": "error",
     "ename": "ModuleNotFoundError",
     "evalue": "No module named 'src'",
     "traceback": [
      "\u001b[0;31m---------------------------------------------------------------------------\u001b[0m",
      "\u001b[0;31mModuleNotFoundError\u001b[0m                       Traceback (most recent call last)",
      "Input \u001b[0;32mIn [1]\u001b[0m, in \u001b[0;36m<cell line: 3>\u001b[0;34m()\u001b[0m\n\u001b[1;32m      1\u001b[0m \u001b[38;5;66;03m# Evaluate acquisition functions on current predictions (observations)\u001b[39;00m\n\u001b[0;32m----> 3\u001b[0m \u001b[38;5;28;01mfrom\u001b[39;00m \u001b[38;5;21;01msrc\u001b[39;00m\u001b[38;5;21;01m.\u001b[39;00m\u001b[38;5;21;01macq_funcs\u001b[39;00m \u001b[38;5;28;01mimport\u001b[39;00m EI, PI, cust_acq, thompson\n\u001b[1;32m      4\u001b[0m bounds \u001b[38;5;241m=\u001b[39m [\u001b[38;5;241m1\u001b[39m,\u001b[38;5;241m1\u001b[39m]\n\u001b[1;32m      6\u001b[0m \u001b[38;5;66;03m# Probability of Improvement\u001b[39;00m\n",
      "\u001b[0;31mModuleNotFoundError\u001b[0m: No module named 'src'"
     ]
    }
   ],
   "metadata": {}
  },
  {
   "cell_type": "code",
   "execution_count": null,
   "source": [
    "ei = np.unravel_index(EI_acq_shape.argmax(), EI_acq_shape.shape)\n",
    "pi = np.unravel_index(PI_acq_shape.argmax(), PI_acq_shape.shape)\n",
    "ca = np.unravel_index(ca_acq_shape.argmax(), ca_acq_shape.shape)\n",
    "th = np.unravel_index(th_acq_shape.argmax(), th_acq_shape.shape)"
   ],
   "outputs": [],
   "metadata": {}
  },
  {
   "cell_type": "code",
   "execution_count": null,
   "source": [
    "# Plot the acquisition function results alongside the confidence bound surfaces\n",
    "pred_var = obs.variance.view(n, n).detach().numpy().T\n",
    "lower, upper = obs.confidence_region()\n",
    "upper_surf = upper.detach().numpy().reshape(30,30).T\n",
    "lower_surf = lower.detach().numpy().reshape(30,30).T\n",
    "\n",
    "ucb = np.unravel_index(upper_surf.argmax(), upper_surf.shape)\n",
    "max_var = np.unravel_index(pred_var.argmax(), pred_var.shape)\n",
    "ei = np.unravel_index(EI_acq_shape.argmax(), EI_acq_shape.shape)\n",
    "pi = np.unravel_index(PI_acq_shape.argmax(), PI_acq_shape.shape)\n",
    "\n",
    "# plot?...\n",
    "import plotly.graph_objects as go\n",
    "fig = go.Figure(data=[go.Surface(z = upper_surf, x=test_grid[:,0], y=test_grid[:,1], opacity=0.5, showscale=False)])\n",
    "fig.add_trace(go.Surface(z = lower_surf, x=test_grid[:,0], y=test_grid[:,1], opacity=0.5, showscale=False))\n",
    "fig.add_trace(go.Scatter3d(x=train_x[:,0].numpy(), y=train_x[:,1].numpy(), \n",
    "                            z=train_y.numpy(), mode='markers', name='training data', marker={'color':'darkgreen'}))\n",
    "\n",
    "fig.add_trace(go.Scatter3d(x=test_grid[ucb[1], 0].numpy(), y=test_grid[ucb[0], 1].numpy(), \n",
    "                            z=[pred_labels[ucb[0], ucb[1]]], mode='markers', name='max(upper confidence bound)')) \n",
    "fig.add_trace(go.Scatter3d(x=test_grid[th[1], 0].numpy(), y=test_grid[th[0],1].numpy(), \n",
    "                            z=[pred_labels[th[0], th[1]].detach().numpy()], mode='markers', name='max(thompson)')) \n",
    "fig.add_trace(go.Scatter3d(x=test_grid[pi[1], 0].numpy(), y=test_grid[pi[0], 1].numpy(), z=[pred_labels[pi[0], pi[1]]], mode='markers', name='max(pi)'))\n",
    "\n",
    "fig.add_trace(go.Scatter3d(x=test_grid[ei[1], 0].numpy(), y=test_grid[ei[0], 1].numpy(), z=[pred_labels[ei\n",
    "[0], ei[1]]], mode='markers', name='max(ei)'))\n",
    "\n",
    "fig.add_trace(go.Scatter3d(x=test_grid[ca[1], 0].numpy(), y=test_grid[ca[0], 1].numpy(), z=[pred_labels[ca[0], ca[1]]], mode='markers', name='max(ca)'))\n",
    "\n",
    "\n",
    "fig.update_layout( width=800, height=600,\n",
    "                  margin=dict(r=20, l=10, b=10, t=10),\n",
    "                  legend=dict(orientation=\"h\", yanchor=\"bottom\", y=1.02, xanchor=\"right\",x=1),\n",
    "                  scene=dict(\n",
    "                    xaxis_title=\"RTA temperature (C)\",\n",
    "                    yaxis_title=\"RTA time (sec)\",\n",
    "                    zaxis_title='2Pr (uC/cm2), Pristine')\n",
    "                  )\n",
    "fig.show()"
   ],
   "outputs": [
    {
     "output_type": "display_data",
     "data": {
      "application/vnd.plotly.v1+json": {
       "config": {
        "plotlyServerURL": "https://plot.ly"
       },
       "data": [
        {
         "opacity": 0.5,
         "showscale": false,
         "type": "surface",
         "x": [
          337.5,
          350.4310302734375,
          363.362060546875,
          376.2930908203125,
          389.22412109375,
          402.1551513671875,
          415.0862121582031,
          428.0172424316406,
          440.9482727050781,
          453.8793029785156,
          466.8103332519531,
          479.7413635253906,
          492.67242431640625,
          505.60345458984375,
          518.5344848632812,
          531.4655151367188,
          544.3965454101562,
          557.3275756835938,
          570.2586059570312,
          583.189697265625,
          596.1207275390625,
          609.0517578125,
          621.9827880859375,
          634.913818359375,
          647.8448486328125,
          660.77587890625,
          673.7069091796875,
          686.637939453125,
          699.5689697265625,
          712.5
         ],
         "y": [
          9.64285659790039,
          30.701967239379883,
          51.761077880859375,
          72.8201904296875,
          93.87930297851562,
          114.93841552734375,
          135.9975128173828,
          157.05662536621094,
          178.11573791503906,
          199.1748504638672,
          220.2339630126953,
          241.29306030273438,
          262.3521728515625,
          283.4112854003906,
          304.47039794921875,
          325.5295104980469,
          346.58868408203125,
          367.6477966308594,
          388.7069091796875,
          409.7659912109375,
          430.82513427734375,
          451.88421630859375,
          472.943359375,
          494.00244140625,
          515.0615844726562,
          536.1206665039062,
          557.1798095703125,
          578.2388916015625,
          599.2980346679688,
          620.3571166992188
         ],
         "z": [
          [
           10.594666481018066,
           8.386884689331055,
           13.385002136230469,
           21.689651489257812,
           29.181514739990234,
           34.288246154785156,
           38.33283996582031,
           41.647064208984375,
           43.64771270751953,
           44.235137939453125,
           43.3578987121582,
           40.816383361816406,
           37.503395080566406,
           37.53565979003906,
           41.092769622802734,
           43.64600372314453,
           44.10024642944336,
           42.71653366088867,
           39.52886962890625,
           34.68586730957031,
           30.256790161132812,
           31.196889877319336,
           35.70415115356445,
           39.34453201293945,
           40.809268951416016,
           39.92237854003906,
           36.74301528930664,
           31.998220443725586,
           28.891340255737305,
           31.742298126220703
          ],
          [
           9.457921028137207,
           7.456782341003418,
           13.41855239868164,
           22.66828155517578,
           30.640296936035156,
           35.81501007080078,
           39.87666320800781,
           42.91456604003906,
           44.438350677490234,
           44.60964584350586,
           43.46178436279297,
           40.70990753173828,
           37.102928161621094,
           37.048030853271484,
           40.80836486816406,
           43.36363983154297,
           43.775299072265625,
           42.43886947631836,
           39.29617691040039,
           34.314117431640625,
           29.51666259765625,
           30.583141326904297,
           35.405029296875,
           39.2036018371582,
           40.72183609008789,
           39.80134582519531,
           36.48534393310547,
           31.443008422851562,
           27.97322654724121,
           31.1610107421875
          ],
          [
           9.850008010864258,
           8.28662109375,
           15.129827499389648,
           24.991275787353516,
           33.03469467163086,
           37.919960021972656,
           41.69267272949219,
           44.19819641113281,
           45.09709930419922,
           44.859703063964844,
           43.631195068359375,
           41.10428237915039,
           37.997650146484375,
           37.88947296142578,
           40.929569244384766,
           42.9512825012207,
           43.14298629760742,
           42.0003662109375,
           39.293209075927734,
           34.81142044067383,
           30.57054328918457,
           31.447311401367188,
           35.810646057128906,
           39.383750915527344,
           40.82646179199219,
           39.94038391113281,
           36.77906036376953,
           32.074039459228516,
           29.01190185546875,
           31.821456909179688
          ],
          [
           11.513011932373047,
           10.381196975708008,
           17.808513641357422,
           27.873828887939453,
           35.619178771972656,
           40.00063705444336,
           43.31755065917969,
           45.15092849731445,
           45.37169647216797,
           44.81730270385742,
           43.75164794921875,
           41.8362922668457,
           39.67726516723633,
           39.56410598754883,
           41.35918045043945,
           42.34075164794922,
           42.10920715332031,
           41.33989715576172,
           39.47355651855469,
           36.01808166503906,
           32.805450439453125,
           33.360137939453125,
           36.800174713134766,
           39.844871520996094,
           41.102928161621094,
           40.310218811035156,
           37.544769287109375,
           33.621986389160156,
           31.3078670501709,
           33.430171966552734
          ],
          [
           14.109417915344238,
           13.236349105834961,
           20.855419158935547,
           30.69275665283203,
           37.80690383911133,
           41.56163024902344,
           44.363258361816406,
           45.47303009033203,
           45.03578186035156,
           44.32688522338867,
           43.68891525268555,
           42.630470275878906,
           41.45012283325195,
           41.34841537475586,
           41.90739059448242,
           41.530914306640625,
           40.661033630371094,
           40.471107482910156,
           39.77781677246094,
           37.586463928222656,
           35.36951446533203,
           35.64813232421875,
           38.114601135253906,
           40.49077224731445,
           41.500732421875,
           40.838462829589844,
           38.599239349365234,
           35.58728790283203,
           33.94983673095703,
           35.455955505371094
          ],
          [
           17.378684997558594,
           16.618743896484375,
           23.999120712280273,
           33.185821533203125,
           39.417049407958984,
           42.47784423828125,
           44.6810417175293,
           45.0177116394043,
           43.96165466308594,
           43.30377197265625,
           43.35252380371094,
           43.25892639160156,
           42.92402648925781,
           42.84553146362305,
           42.4283561706543,
           40.66700744628906,
           38.964508056640625,
           39.55390930175781,
           40.177494049072266,
           39.19690704345703,
           37.7772216796875,
           37.85519027709961,
           39.49250411987305,
           41.20707702636719,
           41.95622634887695,
           41.43609619140625,
           39.741371154785156,
           37.565860748291016,
           36.4483642578125,
           37.482421875
          ],
          [
           21.108427047729492,
           20.435216903686523,
           27.15442657470703,
           35.318809509277344,
           40.527671813964844,
           42.879966735839844,
           44.358455657958984,
           43.8426513671875,
           42.179290771484375,
           41.79216003417969,
           42.748050689697266,
           43.6161994934082,
           43.959293365478516,
           43.92597961425781,
           42.880531311035156,
           40.07303237915039,
           37.535343170166016,
           38.9364128112793,
           40.68686294555664,
           40.649879455566406,
           39.80677032470703,
           39.746761322021484,
           40.7471923828125,
           41.89578628540039,
           42.410377502441406,
           42.02342987060547,
           40.81406784057617,
           39.31953811645508,
           38.580936431884766,
           39.27029037475586
          ],
          [
           25.010116577148438,
           24.44736099243164,
           30.21208953857422,
           37.10185241699219,
           41.238487243652344,
           42.893428802490234,
           43.59480667114258,
           42.20314407348633,
           39.92601776123047,
           40.01686096191406,
           41.99817657470703,
           43.71717834472656,
           44.567203521728516,
           44.60812759399414,
           43.295249938964844,
           40.098941802978516,
           37.26313400268555,
           39.017791748046875,
           41.328330993652344,
           41.85759353637695,
           41.38639450073242,
           41.23480987548828,
           41.78056335449219,
           42.49320983886719,
           42.82036590576172,
           42.54542541503906,
           41.725555419921875,
           40.74336242675781,
           40.27112579345703,
           40.71669387817383
          ],
          [
           28.681415557861328,
           28.207536697387695,
           32.93927001953125,
           38.48051452636719,
           41.55550765991211,
           42.53437423706055,
           42.57010269165039,
           40.495750427246094,
           37.71234893798828,
           38.416282653808594,
           41.31877899169922,
           43.65760803222656,
           44.839088439941406,
           44.97794723510742,
           43.708961486816406,
           40.792903900146484,
           38.40464782714844,
           39.87065887451172,
           42.08106231689453,
           42.804447174072266,
           42.533226013183594,
           42.32339096069336,
           42.56657028198242,
           42.971580505371094,
           43.163055419921875,
           42.97480773925781,
           42.442867279052734,
           41.82246398925781,
           41.53053665161133,
           41.80964660644531
          ],
          [
           31.7128963470459,
           31.252365112304688,
           35.05762481689453,
           39.35676574707031,
           41.44123458862305,
           41.79386520385742,
           41.4156494140625,
           39.152320861816406,
           36.349395751953125,
           37.557456970214844,
           40.93910217285156,
           43.559722900390625,
           44.89289855957031,
           45.13421630859375,
           44.117454528808594,
           41.858154296875,
           40.162227630615234,
           41.14854431152344,
           42.864662170410156,
           43.508949279785156,
           43.31172180175781,
           43.06825256347656,
           43.12571334838867,
           43.330596923828125,
           43.43221664428711,
           43.30690383911133,
           42.974021911621094,
           42.5953254699707,
           42.42042541503906,
           42.59021759033203
          ],
          [
           33.825870513916016,
           33.274967193603516,
           36.370182037353516,
           39.66365051269531,
           40.89303207397461,
           40.72111892700195,
           40.267330169677734,
           38.48735427856445,
           36.43730545043945,
           37.76469802856445,
           40.98853302001953,
           43.52027130126953,
           44.83435821533203,
           45.15681076049805,
           44.47753143310547,
           42.94361114501953,
           41.8519401550293,
           42.43824768066406,
           43.57231140136719,
           43.999778747558594,
           43.80289840698242,
           43.545753479003906,
           43.50093460083008,
           43.585968017578125,
           43.632930755615234,
           43.551170349121094,
           43.34864044189453,
           43.123775482177734,
           43.021705627441406,
           43.122459411621094
          ],
          [
           34.95988464355469,
           34.19826126098633,
           36.839176177978516,
           39.420631408691406,
           39.9792366027832,
           39.45402526855469,
           39.3258171081543,
           38.587120056152344,
           37.64787292480469,
           38.822086334228516,
           41.432281494140625,
           43.579750061035156,
           44.736183166503906,
           45.097747802734375,
           44.73856735229492,
           43.82319259643555,
           43.17672348022461,
           43.48341369628906,
           44.11825180053711,
           44.30726623535156,
           44.08457946777344,
           43.83135223388672,
           43.73976135253906,
           43.75947570800781,
           43.7760009765625,
           43.72340774536133,
           43.60276794433594,
           43.47198486328125,
           43.413597106933594,
           43.47221755981445
          ],
          [
           35.316261291503906,
           34.216705322265625,
           36.62925720214844,
           38.77024459838867,
           38.86430358886719,
           38.25742721557617,
           38.87656784057617,
           39.345829010009766,
           39.333126068115234,
           40.26495361328125,
           42.11444854736328,
           43.72333526611328,
           44.63583755493164,
           44.98786163330078,
           44.871952056884766,
           44.407569885253906,
           44.060882568359375,
           44.189334869384766,
           44.46498107910156,
           44.46402359008789,
           44.22222900390625,
           43.98822784423828,
           43.88409423828125,
           43.87255096435547,
           43.87384796142578,
           43.84040451049805,
           43.76972198486328,
           43.694847106933594,
           43.66191864013672,
           43.695499420166016
          ],
          [
           35.36909484863281,
           33.87507629394531,
           36.16157150268555,
           38.030216217041016,
           37.88340377807617,
           37.618255615234375,
           39.201690673828125,
           40.56988525390625,
           41.079261779785156,
           41.72315216064453,
           42.854488372802734,
           43.905479431152344,
           44.54550552368164,
           44.84772491455078,
           44.88163757324219,
           44.705169677734375,
           44.544525146484375,
           44.57022476196289,
           44.623695373535156,
           44.50639343261719,
           44.267127990722656,
           44.06395721435547,
           43.96645736694336,
           43.943267822265625,
           43.93811798095703,
           43.9171028137207,
           43.87633514404297,
           43.83405303955078,
           43.815704345703125,
           43.83466339111328
          ],
          [
           35.751319885253906,
           34.10309982299805,
           36.13558578491211,
           37.745941162109375,
           37.655479431152344,
           38.15605163574219,
           40.35115432739258,
           42.04083251953125,
           42.66734313964844,
           42.98552703857422,
           43.51579284667969,
           44.07868957519531,
           44.46519470214844,
           44.69477462768555,
           44.79747009277344,
           44.779296875,
           44.723350524902344,
           44.698455810546875,
           44.63806915283203,
           44.47260665893555,
           44.25774383544922,
           44.09190368652344,
           44.01011276245117,
           43.98555374145508,
           43.97863006591797,
           43.96561050415039,
           43.9425048828125,
           43.91900634765625,
           43.90892028808594,
           43.91944122314453
          ],
          [
           36.85322189331055,
           35.531455993652344,
           37.136653900146484,
           38.455902099609375,
           38.71549606323242,
           39.871673583984375,
           42.041908264160156,
           43.545127868652344,
           43.986061096191406,
           43.96195983886719,
           44.02643585205078,
           44.211631774902344,
           44.392337799072266,
           44.54483413696289,
           44.66050720214844,
           44.71186447143555,
           44.707271575927734,
           44.664649963378906,
           44.563507080078125,
           44.39813995361328,
           44.221649169921875,
           44.09423065185547,
           44.030818939208984,
           44.00956726074219,
           44.003074645996094,
           43.99515151977539,
           43.982337951660156,
           43.96954345703125,
           43.96409606933594,
           43.96981430053711
          ],
          [
           38.518394470214844,
           37.731231689453125,
           38.98154067993164,
           40.0841178894043,
           40.70059585571289,
           42.078125,
           43.86119079589844,
           44.900665283203125,
           44.99058532714844,
           44.64161682128906,
           44.37040328979492,
           44.293460845947266,
           44.325965881347656,
           44.41051483154297,
           44.509010314941406,
           44.57765579223633,
           44.59288787841797,
           44.55059051513672,
           44.45026397705078,
           44.31108856201172,
           44.17723083496094,
           44.08489227294922,
           44.03881072998047,
           44.022377014160156,
           44.01715850830078,
           44.01243209838867,
           44.00551223754883,
           43.99872589111328,
           43.995849609375,
           43.99887466430664
          ],
          [
           40.336856842041016,
           40.02647399902344,
           41.07210922241211,
           42.06120300292969,
           42.875892639160156,
           44.185726165771484,
           45.4775390625,
           45.98093032836914,
           45.68196105957031,
           45.06007385253906,
           44.56780242919922,
           44.329078674316406,
           44.2669677734375,
           44.29945373535156,
           44.37007141113281,
           44.430809020996094,
           44.44963836669922,
           44.415443420410156,
           44.334251403808594,
           44.2298698425293,
           44.13533020019531,
           44.072044372558594,
           44.04042434692383,
           44.0286865234375,
           44.02487564086914,
           44.022125244140625,
           44.01849365234375,
           44.0150032043457,
           44.01353454589844,
           44.01508331298828
          ],
          [
           41.98849868774414,
           42.03500747680664,
           42.97910690307617,
           43.91539001464844,
           44.786415100097656,
           45.88794708251953,
           46.703773498535156,
           46.726959228515625,
           46.09360885620117,
           45.27459716796875,
           44.6553955078125,
           44.33135223388672,
           44.21685028076172,
           44.21400833129883,
           44.25761032104492,
           44.30213165283203,
           44.31784439086914,
           44.293418884277344,
           44.2353515625,
           44.163673400878906,
           44.101043701171875,
           44.059913635253906,
           44.039329528808594,
           44.03147888183594,
           44.028892517089844,
           44.02732849121094,
           44.025482177734375,
           44.023746490478516,
           44.02301788330078,
           44.02378463745117
          ],
          [
           43.30669021606445,
           43.598541259765625,
           44.50133514404297,
           45.40947723388672,
           46.236541748046875,
           47.0688362121582,
           47.47776794433594,
           47.14166259765625,
           46.27922058105469,
           45.347007751464844,
           44.672218322753906,
           44.3145751953125,
           44.17657470703125,
           44.152427673339844,
           44.174842834472656,
           44.20353317260742,
           44.214481353759766,
           44.198524475097656,
           44.16057586669922,
           44.11478805541992,
           44.07563400268555,
           44.05022430419922,
           44.0374755859375,
           44.032508850097656,
           44.03085708618164,
           44.02999496459961,
           44.02908706665039,
           44.02825927734375,
           44.02790832519531,
           44.02827453613281
          ],
          [
           44.230369567871094,
           44.67488479614258,
           45.57620620727539,
           46.46449279785156,
           47.176204681396484,
           47.72013473510742,
           47.817806243896484,
           47.269676208496094,
           46.30071258544922,
           45.333187103271484,
           44.651588439941406,
           44.29066467285156,
           44.146141052246094,
           44.11062240600586,
           44.118499755859375,
           44.134971618652344,
           44.1417236328125,
           44.13200759887695,
           44.108924865722656,
           44.08143615722656,
           44.0582275390625,
           44.04326629638672,
           44.035736083984375,
           44.03276062011719,
           44.031761169433594,
           44.03129959106445,
           44.03086853027344,
           44.030487060546875,
           44.03032684326172,
           44.030494689941406
          ],
          [
           44.74803924560547,
           45.26725387573242,
           46.2037467956543,
           47.080204010009766,
           47.622615814208984,
           47.878662109375,
           47.77494812011719,
           47.17079162597656,
           46.21623611450195,
           45.27745819091797,
           44.61798095703125,
           44.26783752441406,
           44.124725341796875,
           44.08382797241211,
           44.08262252807617,
           44.09085464477539,
           44.09458923339844,
           44.0890007019043,
           44.075782775878906,
           44.0601692199707,
           44.047080993652344,
           44.038665771484375,
           44.034423828125,
           44.03272247314453,
           44.03215026855469,
           44.03190612792969,
           44.031707763671875,
           44.03153991699219,
           44.031471252441406,
           44.03154373168945
          ],
          [
           44.85807800292969,
           45.379722595214844,
           46.39628219604492,
           47.28001403808594,
           47.608036041259766,
           47.58129119873047,
           47.39656448364258,
           46.898033142089844,
           46.071144104003906,
           45.210289001464844,
           44.586788177490234,
           44.25066375732422,
           44.110958099365234,
           44.06764602661133,
           44.06111526489258,
           44.06426239013672,
           44.066070556640625,
           44.06300735473633,
           44.05583190917969,
           44.047393798828125,
           44.040348052978516,
           44.03582763671875,
           44.033538818359375,
           44.032615661621094,
           44.03230285644531,
           44.03217697143555,
           44.03208923339844,
           44.03201675415039,
           44.03199005126953,
           44.032020568847656
          ],
          [
           44.55378341674805,
           44.9992790222168,
           46.15540313720703,
           47.08247756958008,
           47.152503967285156,
           46.84272384643555,
           46.711181640625,
           46.48897933959961,
           45.894813537597656,
           45.148658752441406,
           44.565460205078125,
           44.24073791503906,
           44.103233337402344,
           44.05852508544922,
           44.04893493652344,
           44.04914093017578,
           44.04981231689453,
           44.048187255859375,
           44.04447937011719,
           44.04012680053711,
           44.0364990234375,
           44.0341796875,
           44.032997131347656,
           44.03251647949219,
           44.032352447509766,
           44.032291412353516,
           44.03225326538086,
           44.0322265625,
           44.03221130371094,
           44.0322265625
          ],
          [
           43.836700439453125,
           44.10743713378906,
           45.479949951171875,
           46.5037841796875,
           46.266944885253906,
           45.662330627441406,
           45.74040222167969,
           45.9736328125,
           45.70439147949219,
           45.098670959472656,
           44.555240631103516,
           44.23739242553711,
           44.09987258911133,
           44.0538330078125,
           44.04241943359375,
           44.04098892211914,
           44.04103088378906,
           44.040184020996094,
           44.03834533691406,
           44.03620147705078,
           44.03441619873047,
           44.03327178955078,
           44.032684326171875,
           44.032447814941406,
           44.03236389160156,
           44.0323371887207,
           44.03232192993164,
           44.032310485839844,
           44.03230285644531,
           44.032310485839844
          ],
          [
           42.75687026977539,
           42.721649169921875,
           44.4056282043457,
           45.591941833496094,
           44.99005889892578,
           44.062965393066406,
           44.53748321533203,
           45.39462661743164,
           45.51310729980469,
           45.05964660644531,
           44.55320739746094,
           44.23847961425781,
           44.099205017089844,
           44.05171203613281,
           44.03913879394531,
           44.03681182861328,
           44.03651428222656,
           44.03606414794922,
           44.035194396972656,
           44.0341796875,
           44.0333366394043,
           44.032798767089844,
           44.03252029418945,
           44.032405853271484,
           44.03236770629883,
           44.03235626220703,
           44.0323486328125,
           44.03234100341797,
           44.03234100341797,
           44.032344818115234
          ],
          [
           41.47616195678711,
           40.972660064697266,
           43.07625198364258,
           44.487403869628906,
           43.46211624145508,
           42.16915512084961,
           43.245365142822266,
           44.82691192626953,
           45.337528228759766,
           45.02806854248047,
           44.554283142089844,
           44.24113082885742,
           44.099693298339844,
           44.05089569091797,
           44.037574768066406,
           44.03477096557617,
           44.0343017578125,
           44.03404998779297,
           44.03364562988281,
           44.03318786621094,
           44.032806396484375,
           44.032562255859375,
           44.03243637084961,
           44.032386779785156,
           44.03236389160156,
           44.0323600769043,
           44.03235626220703,
           44.03235626220703,
           44.03235626220703,
           44.03235626220703
          ],
          [
           40.33709716796875,
           39.253334045410156,
           41.83921432495117,
           43.48637390136719,
           42.038047790527344,
           40.356998443603516,
           42.14823532104492,
           44.37748336791992,
           45.19810104370117,
           45.00000762939453,
           44.55298614501953,
           44.24241638183594,
           44.10002136230469,
           44.05054473876953,
           44.03684997558594,
           44.033817291259766,
           44.03327178955078,
           44.033103942871094,
           44.032920837402344,
           44.03272247314453,
           44.032554626464844,
           44.032447814941406,
           44.03239440917969,
           44.032371520996094,
           44.03236389160156,
           44.03236389160156,
           44.03236389160156,
           44.03236389160156,
           44.03236389160156,
           44.03236389160156
          ],
          [
           39.82999038696289,
           38.40229034423828,
           41.25186538696289,
           43.002723693847656,
           41.33033752441406,
           39.427947998046875,
           41.621803283691406,
           44.14893341064453,
           45.11119842529297,
           44.97154235839844,
           44.54456329345703,
           44.23992919921875,
           44.09919738769531,
           44.050132751464844,
           44.036468505859375,
           44.03337860107422,
           44.032806396484375,
           44.032676696777344,
           44.032596588134766,
           44.03251266479492,
           44.03244400024414,
           44.03240203857422,
           44.032379150390625,
           44.03236770629883,
           44.03236389160156,
           44.03236389160156,
           44.03236389160156,
           44.03236389160156,
           44.03236389160156,
           44.03236389160156
          ],
          [
           40.240509033203125,
           39.092437744140625,
           41.663551330566406,
           43.26728057861328,
           41.742855072021484,
           40.01279067993164,
           41.8638801574707,
           44.17903137207031,
           45.078086853027344,
           44.93797302246094,
           44.525699615478516,
           44.23217010498047,
           44.09663009643555,
           44.04936218261719,
           44.03617858886719,
           44.03316879272461,
           44.03260040283203,
           44.03249740600586,
           44.03245544433594,
           44.03242492675781,
           44.03239440917969,
           44.032379150390625,
           44.032371520996094,
           44.03236389160156,
           44.03236389160156,
           44.03236389160156,
           44.03236389160156,
           44.03236389160156,
           44.03236389160156,
           44.03236389160156
          ]
         ]
        },
        {
         "opacity": 0.5,
         "showscale": false,
         "type": "surface",
         "x": [
          337.5,
          350.4310302734375,
          363.362060546875,
          376.2930908203125,
          389.22412109375,
          402.1551513671875,
          415.0862121582031,
          428.0172424316406,
          440.9482727050781,
          453.8793029785156,
          466.8103332519531,
          479.7413635253906,
          492.67242431640625,
          505.60345458984375,
          518.5344848632812,
          531.4655151367188,
          544.3965454101562,
          557.3275756835938,
          570.2586059570312,
          583.189697265625,
          596.1207275390625,
          609.0517578125,
          621.9827880859375,
          634.913818359375,
          647.8448486328125,
          660.77587890625,
          673.7069091796875,
          686.637939453125,
          699.5689697265625,
          712.5
         ],
         "y": [
          9.64285659790039,
          30.701967239379883,
          51.761077880859375,
          72.8201904296875,
          93.87930297851562,
          114.93841552734375,
          135.9975128173828,
          157.05662536621094,
          178.11573791503906,
          199.1748504638672,
          220.2339630126953,
          241.29306030273438,
          262.3521728515625,
          283.4112854003906,
          304.47039794921875,
          325.5295104980469,
          346.58868408203125,
          367.6477966308594,
          388.7069091796875,
          409.7659912109375,
          430.82513427734375,
          451.88421630859375,
          472.943359375,
          494.00244140625,
          515.0615844726562,
          536.1206665039062,
          557.1798095703125,
          578.2388916015625,
          599.2980346679688,
          620.3571166992188
         ],
         "z": [
          [
           -6.913628578186035,
           -4.323258876800537,
           1.2601733207702637,
           9.195975303649902,
           16.682506561279297,
           20.680383682250977,
           19.6158504486084,
           15.754387855529785,
           12.479580879211426,
           11.444551467895508,
           12.993389129638672,
           16.882951736450195,
           21.523643493652344,
           22.2086124420166,
           18.472579956054688,
           14.812443733215332,
           12.371883392333984,
           10.998222351074219,
           11.007113456726074,
           12.942309379577637,
           15.525581359863281,
           14.206979751586914,
           10.49000072479248,
           7.949604034423828,
           6.976047515869141,
           7.276996612548828,
           9.020459175109863,
           12.278020858764648,
           14.752744674682617,
           12.575542449951172
          ],
          [
           -6.518914222717285,
           -3.424933433532715,
           2.5516090393066406,
           11.230216979980469,
           19.650226593017578,
           24.164323806762695,
           22.682695388793945,
           18.023406982421875,
           13.995190620422363,
           12.391185760498047,
           13.617176055908203,
           17.475128173828125,
           22.419570922851562,
           23.3596134185791,
           19.65408706665039,
           16.18308448791504,
           13.830926895141602,
           12.267230987548828,
           11.947165489196777,
           13.703198432922363,
           16.40102767944336,
           14.808636665344238,
           10.720649719238281,
           8.013717651367188,
           6.986019134521484,
           7.305971145629883,
           9.156856536865234,
           12.682291984558105,
           15.507341384887695,
           13.006686210632324
          ],
          [
           -5.543424606323242,
           -2.192699432373047,
           3.796903133392334,
           12.840198516845703,
           21.945411682128906,
           26.935720443725586,
           25.219911575317383,
           20.056135177612305,
           15.49207878112793,
           13.339975357055664,
           14.028177261352539,
           17.36843490600586,
           21.786746978759766,
           22.958213806152344,
           20.267826080322266,
           17.615665435791016,
           15.632462501525879,
           13.829954147338867,
           12.876721382141113,
           13.880362510681152,
           15.798311233520508,
           14.233413696289062,
           10.498083114624023,
           7.954812049865723,
           6.978811264038086,
           7.274019241333008,
           9.001924514770508,
           12.223576545715332,
           14.655277252197266,
           12.517581939697266
          ],
          [
           -3.880603313446045,
           -0.37232351303100586,
           5.344757556915283,
           14.315235137939453,
           23.712932586669922,
           28.968372344970703,
           27.130355834960938,
           21.777027130126953,
           16.954574584960938,
           14.31742000579834,
           14.279816627502441,
           16.70362091064453,
           20.120738983154297,
           21.472545623779297,
           20.358959197998047,
           19.101913452148438,
           17.780044555664062,
           15.657979965209961,
           13.76565933227539,
           13.574674606323242,
           14.287954330444336,
           12.880929946899414,
           9.922829627990723,
           7.798791885375977,
           6.962854385375977,
           7.197273254394531,
           8.617944717407227,
           11.149957656860352,
           12.873048782348633,
           11.380570411682129
          ],
          [
           -1.5750856399536133,
           2.085599422454834,
           7.2960381507873535,
           15.756294250488281,
           25.011234283447266,
           30.254440307617188,
           28.36908721923828,
           23.16126251220703,
           18.40286636352539,
           15.373687744140625,
           14.470317840576172,
           15.757306098937988,
           18.12253189086914,
           19.618820190429688,
           20.07663345336914,
           20.56560707092285,
           20.183074951171875,
           17.625133514404297,
           14.56631088256836,
           13.039392471313477,
           12.642382621765137,
           11.360884666442871,
           9.20555305480957,
           7.605705261230469,
           6.957530975341797,
           7.113029479980469,
           8.142430305480957,
           9.904183387756348,
           11.010398864746094,
           10.070334434509277
          ],
          [
           1.0972795486450195,
           4.838415622711182,
           9.391416549682617,
           16.989965438842773,
           25.682615280151367,
           30.65540313720703,
           28.879047393798828,
           24.202777862548828,
           19.8664493560791,
           16.546669006347656,
           14.68612289428711,
           14.780919075012207,
           16.214210510253906,
           17.805912017822266,
           19.541645050048828,
           21.79370880126953,
           22.574142456054688,
           19.453388214111328,
           15.186949729919434,
           12.480485916137695,
           11.245017051696777,
           10.043437957763672,
           8.540565490722656,
           7.438920974731445,
           6.98223876953125,
           7.060211181640625,
           7.711175918579102,
           8.809154510498047,
           9.468846321105957,
           8.922548294067383
          ],
          [
           3.7587337493896484,
           7.391149520874023,
           11.25497817993164,
           17.787168502807617,
           25.57007598876953,
           30.07300567626953,
           28.63760757446289,
           24.896011352539062,
           21.34516143798828,
           17.813682556152344,
           14.950305938720703,
           13.921040534973145,
           14.57973861694336,
           16.191654205322266,
           18.789817810058594,
           22.41531753540039,
           24.355857849121094,
           20.691631317138672,
           15.50134563446045,
           11.984951972961426,
           10.211542129516602,
           9.07080364227295,
           8.041053771972656,
           7.339988708496094,
           7.04676628112793,
           7.06266975402832,
           7.408378601074219,
           8.012459754943848,
           8.372817039489746,
           8.086410522460938
          ],
          [
           6.152557373046875,
           9.47822093963623,
           12.676445007324219,
           18.08275604248047,
           24.756006240844727,
           28.692188262939453,
           27.760601043701172,
           25.225605010986328,
           22.75046157836914,
           19.03330421447754,
           15.195473670959473,
           13.214269638061523,
           13.25951099395752,
           14.798609733581543,
           17.805883407592773,
           22.064342498779297,
           24.59243392944336,
           20.871963500976562,
           15.403518676757812,
           11.548871040344238,
           9.521698951721191,
           8.447835922241211,
           7.737497329711914,
           7.320074081420898,
           7.147863388061523,
           7.123128890991211,
           7.257575988769531,
           7.534235000610352,
           7.706819534301758,
           7.5803985595703125
          ],
          [
           8.2543363571167,
           11.18928337097168,
           13.736696243286133,
           18.060264587402344,
           23.611347198486328,
           26.99782943725586,
           26.548954010009766,
           25.160654067993164,
           23.800493240356445,
           19.892099380493164,
           15.276630401611328,
           12.618906021118164,
           12.214693069458008,
           13.590214729309082,
           16.59148597717285,
           20.712574005126953,
           23.02614402770996,
           19.899898529052734,
           14.873021125793457,
           11.131157875061035,
           9.093954086303711,
           8.108314514160156,
           7.603675842285156,
           7.365657806396484,
           7.27215576171875,
           7.227237701416016,
           7.237373352050781,
           7.321752548217773,
           7.386096954345703,
           7.349332809448242
          ],
          [
           10.201120376586914,
           12.793675422668457,
           14.709510803222656,
           18.062593460083008,
           22.634166717529297,
           25.560962677001953,
           25.399633407592773,
           24.67121124267578,
           23.93780517578125,
           19.960988998413086,
           15.0376558303833,
           12.062318801879883,
           11.375638961791992,
           12.52137565612793,
           15.208066940307617,
           18.71185302734375,
           20.499958038330078,
           18.14975357055664,
           13.995765686035156,
           10.69731330871582,
           8.833274841308594,
           7.961187362670898,
           7.5870513916015625,
           7.450811386108398,
           7.4022979736328125,
           7.3526763916015625,
           7.304441452026367,
           7.2926483154296875,
           7.301820755004883,
           7.30845832824707
          ],
          [
           12.152016639709473,
           14.548027992248535,
           15.883021354675293,
           18.426542282104492,
           22.248836517333984,
           24.820873260498047,
           24.629718780517578,
           23.788928985595703,
           22.78362274169922,
           19.037086486816406,
           14.411805152893066,
           11.487689971923828,
           10.677328109741211,
           11.565902709960938,
           13.769078254699707,
           16.495677947998047,
           17.781131744384766,
           16.104942321777344,
           12.925446510314941,
           10.240179061889648,
           8.660499572753906,
           7.921390533447266,
           7.633068084716797,
           7.548969268798828,
           7.522911071777344,
           7.477968215942383,
           7.413389205932617,
           7.365482330322266,
           7.351835250854492,
           7.374229431152344
          ],
          [
           14.171440124511719,
           16.57913589477539,
           17.419116973876953,
           19.34423065185547,
           22.669879913330078,
           24.94974708557129,
           24.322872161865234,
           22.64752197265625,
           20.8107967376709,
           17.418331146240234,
           13.476759910583496,
           10.881856918334961,
           10.078203201293945,
           10.721086502075195,
           12.399761199951172,
           14.387064933776855,
           15.272719383239746,
           14.119195938110352,
           11.823009490966797,
           9.778314590454102,
           8.524736404418945,
           7.926136016845703,
           7.69941520690918,
           7.640354156494141,
           7.624063491821289,
           7.58795166015625,
           7.528921127319336,
           7.476978302001953,
           7.45789909362793,
           7.481685638427734
          ],
          [
           16.14411163330078,
           18.794185638427734,
           19.25984001159668,
           20.775962829589844,
           23.82720184326172,
           25.767480850219727,
           24.267887115478516,
           21.41455078125,
           18.714168548583984,
           15.600767135620117,
           12.407320022583008,
           10.273683547973633,
           9.561752319335938,
           9.997032165527344,
           11.198284149169922,
           12.571786880493164,
           13.160664558410645,
           12.392897605895996,
           10.812673568725586,
           9.34183120727539,
           8.402034759521484,
           7.938501358032227,
           7.76060676574707,
           7.714303970336914,
           7.701940536499023,
           7.675281524658203,
           7.62993049621582,
           7.587425231933594,
           7.570627212524414,
           7.589916229248047
          ],
          [
           17.72429656982422,
           20.76402473449707,
           21.046993255615234,
           22.389080047607422,
           25.29839324951172,
           26.66175651550293,
           24.062278747558594,
           20.197538375854492,
           16.861703872680664,
           13.937296867370605,
           11.380228996276855,
           9.71076774597168,
           9.12677001953125,
           9.402719497680664,
           10.217016220092773,
           11.123884201049805,
           11.502326965332031,
           11.008155822753906,
           9.965532302856445,
           8.95756721496582,
           8.286674499511719,
           7.942680358886719,
           7.805858612060547,
           7.767971038818359,
           7.757535934448242,
           7.739086151123047,
           7.707895278930664,
           7.677854537963867,
           7.665596008300781,
           7.679155349731445
          ],
          [
           18.420759201049805,
           21.6685733795166,
           22.10248565673828,
           23.53704833984375,
           26.252607345581055,
           26.745712280273438,
           23.403778076171875,
           19.027496337890625,
           15.361482620239258,
           12.586732864379883,
           10.51154899597168,
           9.233503341674805,
           8.77531623840332,
           8.937370300292969,
           9.463888168334961,
           10.03924560546875,
           10.274713516235352,
           9.966804504394531,
           9.303850173950195,
           8.640789031982422,
           8.181436538696289,
           7.936040878295898,
           7.834026336669922,
           7.803447723388672,
           7.79460334777832,
           7.782474517822266,
           7.762702941894531,
           7.743459701538086,
           7.73548698425293,
           7.744134902954102
          ],
          [
           17.982528686523438,
           20.977802276611328,
           21.84311294555664,
           23.549203872680664,
           25.90183448791504,
           25.705535888671875,
           22.279464721679688,
           17.89478874206543,
           14.18896484375,
           11.571950912475586,
           9.844537734985352,
           8.860694885253906,
           8.504920959472656,
           8.589286804199219,
           8.915569305419922,
           9.268299102783203,
           9.410636901855469,
           9.224342346191406,
           8.815841674804688,
           8.394207000732422,
           8.090675354003906,
           7.921924591064453,
           7.8486175537109375,
           7.824953079223633,
           7.817800521850586,
           7.810161590576172,
           7.798412322998047,
           7.786977767944336,
           7.782205581665039,
           7.787326812744141
          ],
          [
           16.69754409790039,
           19.219337463378906,
           20.465030670166016,
           22.397178649902344,
           24.398540496826172,
           23.963394165039062,
           20.84881591796875,
           16.7878360748291,
           13.268842697143555,
           10.842416763305664,
           9.367496490478516,
           8.588973999023438,
           8.306638717651367,
           8.339492797851562,
           8.533470153808594,
           8.743499755859375,
           8.82748794555664,
           8.717523574829102,
           8.472188949584961,
           8.21145248413086,
           8.016996383666992,
           7.9049224853515625,
           7.854288101196289,
           7.836904525756836,
           7.83146858215332,
           7.8268280029296875,
           7.820217132568359,
           7.81382942199707,
           7.811153411865234,
           7.814002990722656
          ],
          [
           15.099366188049316,
           17.174467086791992,
           18.613994598388672,
           20.616884231567383,
           22.369712829589844,
           21.95962905883789,
           19.294715881347656,
           15.716534614562988,
           12.525699615478516,
           10.322996139526367,
           9.040578842163086,
           8.400758743286133,
           8.167160034179688,
           8.166658401489258,
           8.276609420776367,
           8.398469924926758,
           8.447046279907227,
           8.38340950012207,
           8.239091873168945,
           8.081645965576172,
           7.96055793762207,
           7.888618469238281,
           7.85504150390625,
           7.84294319152832,
           7.839061737060547,
           7.836332321166992,
           7.832786560058594,
           7.829402923583984,
           7.827985763549805,
           7.829488754272461
          ],
          [
           13.623003959655762,
           15.339856147766113,
           16.809734344482422,
           18.7329158782959,
           20.28662872314453,
           19.992210388183594,
           17.784690856933594,
           14.719667434692383,
           11.91067886352539,
           9.945972442626953,
           8.818918228149414,
           8.273971557617188,
           8.07217788696289,
           8.05086898803711,
           8.109111785888672,
           8.177942276000977,
           8.205516815185547,
           8.169282913208008,
           8.085912704467773,
           7.992925643920898,
           7.919610977172852,
           7.874996185302734,
           7.853635787963867,
           7.845647811889648,
           7.843038558959961,
           7.841482162475586,
           7.839658737182617,
           7.83795166015625,
           7.837236404418945,
           7.837989807128906
          ],
          [
           12.53713321685791,
           13.990665435791016,
           15.376291275024414,
           17.106815338134766,
           18.46764373779297,
           18.290966033935547,
           16.474929809570312,
           13.860387802124023,
           11.408098220825195,
           9.666170120239258,
           8.666614532470703,
           8.18914794921875,
           8.009033203125,
           7.975584030151367,
           8.002883911132812,
           8.040451049804688,
           8.055755615234375,
           8.035440444946289,
           7.9881591796875,
           7.93450927734375,
           7.8914031982421875,
           7.864702224731445,
           7.851667404174805,
           7.846656799316406,
           7.844997406005859,
           7.844135284423828,
           7.843235015869141,
           7.842409133911133,
           7.842065811157227,
           7.842426300048828
          ],
          [
           11.983785629272461,
           13.273453712463379,
           14.506641387939453,
           15.976662635803223,
           17.145397186279297,
           17.051044464111328,
           15.511043548583984,
           13.214277267456055,
           11.028373718261719,
           9.462108612060547,
           8.561233520507812,
           8.132488250732422,
           7.967947006225586,
           7.928089141845703,
           7.937395095825195,
           7.956846237182617,
           7.965068817138672,
           7.9538726806640625,
           7.927623748779297,
           7.897470474243164,
           7.872919082641602,
           7.857519149780273,
           7.849893569946289,
           7.846900939941406,
           7.84589958190918,
           7.845436096191406,
           7.845006942749023,
           7.844625473022461,
           7.8444671630859375,
           7.844633102416992
          ],
          [
           12.023778915405273,
           13.257671356201172,
           14.306523323059082,
           15.489214897155762,
           16.485149383544922,
           16.43134880065918,
           15.018411636352539,
           12.853334426879883,
           10.793830871582031,
           9.328519821166992,
           8.491636276245117,
           8.095640182495117,
           7.942022323608398,
           7.899120330810547,
           7.898262023925781,
           7.90740966796875,
           7.911596298217773,
           7.905548095703125,
           7.891347885131836,
           7.874897003173828,
           7.861387252807617,
           7.852842330932617,
           7.848566055297852,
           7.846858978271484,
           7.846286773681641,
           7.846044540405273,
           7.845846176147461,
           7.845676422119141,
           7.845605850219727,
           7.845680236816406
          ],
          [
           12.66714859008789,
           13.96313762664795,
           14.815958976745605,
           15.71215534210205,
           16.582523345947266,
           16.54103660583496,
           15.085895538330078,
           12.828237533569336,
           10.723072052001953,
           9.266029357910156,
           8.452930450439453,
           8.073862075805664,
           7.926593780517578,
           7.882175445556641,
           7.875690460205078,
           7.879095077514648,
           7.881031036376953,
           7.877834320068359,
           7.870378494262695,
           7.861701965332031,
           7.854534149169922,
           7.8499755859375,
           7.847679138183594,
           7.846750259399414,
           7.846437454223633,
           7.8463134765625,
           7.846225738525391,
           7.846153259277344,
           7.846124649047852,
           7.846155166625977
          ],
          [
           13.883349418640137,
           15.36795425415039,
           16.014328002929688,
           16.63509750366211,
           17.454992294311523,
           17.422687530517578,
           15.74530029296875,
           13.150028228759766,
           10.817142486572266,
           9.271894454956055,
           8.441535949707031,
           8.064006805419922,
           7.918451309204102,
           7.8728179931640625,
           7.863189697265625,
           7.863462448120117,
           7.864168167114258,
           7.862508773803711,
           7.858724594116211,
           7.85430908203125,
           7.850652694702148,
           7.848318099975586,
           7.847133636474609,
           7.846651077270508,
           7.846488952636719,
           7.846427917480469,
           7.8463897705078125,
           7.84636116027832,
           7.846347808837891,
           7.84636116027832
          ],
          [
           15.59072494506836,
           17.39838218688965,
           17.81061553955078,
           18.16106414794922,
           19.028837203979492,
           19.03337860107422,
           16.94779396057129,
           13.772817611694336,
           11.04963493347168,
           9.334104537963867,
           8.45193099975586,
           8.063053131103516,
           7.915180206298828,
           7.868072509765625,
           7.856588363647461,
           7.855171203613281,
           7.855220794677734,
           7.854364395141602,
           7.852508544921875,
           7.850349426269531,
           7.848554611206055,
           7.847406387329102,
           7.846822738647461,
           7.846584320068359,
           7.846502304077148,
           7.846473693847656,
           7.846458435058594,
           7.846446990966797,
           7.846441268920898,
           7.846446990966797
          ],
          [
           17.627574920654297,
           19.901100158691406,
           20.019245147705078,
           20.08843994140625,
           21.118364334106445,
           21.22052764892578,
           18.537073135375977,
           14.581829071044922,
           11.363183975219727,
           9.429651260375977,
           8.475522994995117,
           8.067522048950195,
           7.914798736572266,
           7.865955352783203,
           7.85328483581543,
           7.850957870483398,
           7.850664138793945,
           7.850214004516602,
           7.849336624145508,
           7.848320007324219,
           7.84747314453125,
           7.846933364868164,
           7.846656799316406,
           7.8465423583984375,
           7.846504211425781,
           7.846490859985352,
           7.846485137939453,
           7.846479415893555,
           7.846479415893555,
           7.8464813232421875
          ],
          [
           19.707294464111328,
           22.589744567871094,
           22.317516326904297,
           22.08363151550293,
           23.387653350830078,
           23.678234100341797,
           20.220714569091797,
           15.394944190979004,
           11.675243377685547,
           9.527177810668945,
           8.501352310180664,
           8.07352066040039,
           7.91560173034668,
           7.865154266357422,
           7.851718902587891,
           7.848911285400391,
           7.848443984985352,
           7.848188400268555,
           7.847784042358398,
           7.847324371337891,
           7.846942901611328,
           7.846696853637695,
           7.8465728759765625,
           7.846521377563477,
           7.846502304077148,
           7.84649658203125,
           7.846494674682617,
           7.846492767333984,
           7.846492767333984,
           7.846492767333984
          ],
          [
           21.37233543395996,
           24.9255428314209,
           24.18631362915039,
           23.659469604492188,
           25.282865524291992,
           25.841676712036133,
           21.556331634521484,
           15.990618705749512,
           11.894512176513672,
           9.59330940246582,
           8.518110275268555,
           8.077264785766602,
           7.916162490844727,
           7.864818572998047,
           7.850996017456055,
           7.847953796386719,
           7.847406387329102,
           7.847238540649414,
           7.847057342529297,
           7.846857070922852,
           7.84669303894043,
           7.846586227416992,
           7.846532821655273,
           7.84650993347168,
           7.846502304077148,
           7.846500396728516,
           7.846498489379883,
           7.846498489379883,
           7.846498489379883,
           7.846498489379883
          ],
          [
           22.04859161376953,
           25.962018966674805,
           24.93825912475586,
           24.253393173217773,
           26.032638549804688,
           26.755661010742188,
           22.0375919342041,
           16.170804977416992,
           11.945318222045898,
           9.600778579711914,
           8.516569137573242,
           8.07571792602539,
           7.915428161621094,
           7.864408493041992,
           7.850614547729492,
           7.847517013549805,
           7.846940994262695,
           7.84681510925293,
           7.846733093261719,
           7.846649169921875,
           7.846580505371094,
           7.846536636352539,
           7.846513748168945,
           7.846504211425781,
           7.846500396728516,
           7.846500396728516,
           7.846500396728516,
           7.846500396728516,
           7.846500396728516,
           7.846500396728516
          ],
          [
           21.41374397277832,
           24.976898193359375,
           24.160919189453125,
           23.557579040527344,
           25.146137237548828,
           25.701770782470703,
           21.390182495117188,
           15.840974807739258,
           11.790782928466797,
           9.535432815551758,
           8.491596221923828,
           8.067117691040039,
           7.912776947021484,
           7.863637924194336,
           7.850320816040039,
           7.8473052978515625,
           7.846736907958984,
           7.8466339111328125,
           7.846593856811523,
           7.846559524536133,
           7.846532821655273,
           7.846515655517578,
           7.846506118774414,
           7.846502304077148,
           7.846500396728516,
           7.846500396728516,
           7.846500396728516,
           7.846500396728516,
           7.846500396728516,
           7.846500396728516
          ]
         ]
        },
        {
         "marker": {
          "color": "darkgreen"
         },
         "mode": "markers",
         "name": "training data",
         "type": "scatter3d",
         "x": [
          350,
          350,
          350,
          350,
          350,
          360,
          380,
          400,
          400,
          400,
          400,
          400,
          500,
          600,
          700,
          389.20001220703125,
          544.4000244140625,
          440.8999938964844,
          402.20001220703125
         ],
         "y": [
          30,
          60,
          120,
          300,
          600,
          30,
          30,
          30,
          60,
          120,
          300,
          600,
          30,
          30,
          30,
          309.6000061035156,
          150,
          199.89999389648438,
          279.70001220703125
         ],
         "z": [
          0.31095001101493835,
          3.050879955291748,
          11.487239837646484,
          27.853260040283203,
          32.442138671875,
          5.914820194244385,
          20.168760299682617,
          26.66847038269043,
          35.82332992553711,
          36.27027130126953,
          35.18614959716797,
          33.61565017700195,
          30.255699157714844,
          22.557350158691406,
          21.468669891357422,
          31.507869720458984,
          31.268070220947266,
          30.208850860595703,
          29.97977066040039
         ]
        },
        {
         "mode": "markers",
         "name": "max(upper confidence bound)",
         "type": "scatter3d",
         "x": [
          402.1551513671875
         ],
         "y": [
          451.88421630859375
         ],
         "z": [
          23.94931411743164
         ]
        },
        {
         "mode": "markers",
         "name": "max(thompson)",
         "type": "scatter3d",
         "x": [
          376.2930908203125
         ],
         "y": [
          578.2388916015625
         ],
         "z": [
          22.38597297668457
         ]
        },
        {
         "mode": "markers",
         "name": "max(pi)",
         "type": "scatter3d",
         "x": [
          415.0862121582031
         ],
         "y": [
          114.93841552734375
         ],
         "z": [
          36.47648620605469
         ]
        },
        {
         "mode": "markers",
         "name": "max(ei)",
         "type": "scatter3d",
         "x": [
          415.0862121582031
         ],
         "y": [
          114.93841552734375
         ],
         "z": [
          36.47648620605469
         ]
        },
        {
         "mode": "markers",
         "name": "max(ca)",
         "type": "scatter3d",
         "x": [
          453.8793029785156
         ],
         "y": [
          451.88421630859375
         ],
         "z": [
          25.514720916748047
         ]
        }
       ],
       "layout": {
        "height": 600,
        "legend": {
         "orientation": "h",
         "x": 1,
         "xanchor": "right",
         "y": 1.02,
         "yanchor": "bottom"
        },
        "margin": {
         "b": 10,
         "l": 10,
         "r": 20,
         "t": 10
        },
        "scene": {
         "xaxis": {
          "title": {
           "text": "RTA temperature (C)"
          }
         },
         "yaxis": {
          "title": {
           "text": "RTA time (sec)"
          }
         },
         "zaxis": {
          "title": {
           "text": "2Pr (uC/cm2), Pristine"
          }
         }
        },
        "template": {
         "data": {
          "bar": [
           {
            "error_x": {
             "color": "#2a3f5f"
            },
            "error_y": {
             "color": "#2a3f5f"
            },
            "marker": {
             "line": {
              "color": "#E5ECF6",
              "width": 0.5
             }
            },
            "type": "bar"
           }
          ],
          "barpolar": [
           {
            "marker": {
             "line": {
              "color": "#E5ECF6",
              "width": 0.5
             }
            },
            "type": "barpolar"
           }
          ],
          "carpet": [
           {
            "aaxis": {
             "endlinecolor": "#2a3f5f",
             "gridcolor": "white",
             "linecolor": "white",
             "minorgridcolor": "white",
             "startlinecolor": "#2a3f5f"
            },
            "baxis": {
             "endlinecolor": "#2a3f5f",
             "gridcolor": "white",
             "linecolor": "white",
             "minorgridcolor": "white",
             "startlinecolor": "#2a3f5f"
            },
            "type": "carpet"
           }
          ],
          "choropleth": [
           {
            "colorbar": {
             "outlinewidth": 0,
             "ticks": ""
            },
            "type": "choropleth"
           }
          ],
          "contour": [
           {
            "colorbar": {
             "outlinewidth": 0,
             "ticks": ""
            },
            "colorscale": [
             [
              0,
              "#0d0887"
             ],
             [
              0.1111111111111111,
              "#46039f"
             ],
             [
              0.2222222222222222,
              "#7201a8"
             ],
             [
              0.3333333333333333,
              "#9c179e"
             ],
             [
              0.4444444444444444,
              "#bd3786"
             ],
             [
              0.5555555555555556,
              "#d8576b"
             ],
             [
              0.6666666666666666,
              "#ed7953"
             ],
             [
              0.7777777777777778,
              "#fb9f3a"
             ],
             [
              0.8888888888888888,
              "#fdca26"
             ],
             [
              1,
              "#f0f921"
             ]
            ],
            "type": "contour"
           }
          ],
          "contourcarpet": [
           {
            "colorbar": {
             "outlinewidth": 0,
             "ticks": ""
            },
            "type": "contourcarpet"
           }
          ],
          "heatmap": [
           {
            "colorbar": {
             "outlinewidth": 0,
             "ticks": ""
            },
            "colorscale": [
             [
              0,
              "#0d0887"
             ],
             [
              0.1111111111111111,
              "#46039f"
             ],
             [
              0.2222222222222222,
              "#7201a8"
             ],
             [
              0.3333333333333333,
              "#9c179e"
             ],
             [
              0.4444444444444444,
              "#bd3786"
             ],
             [
              0.5555555555555556,
              "#d8576b"
             ],
             [
              0.6666666666666666,
              "#ed7953"
             ],
             [
              0.7777777777777778,
              "#fb9f3a"
             ],
             [
              0.8888888888888888,
              "#fdca26"
             ],
             [
              1,
              "#f0f921"
             ]
            ],
            "type": "heatmap"
           }
          ],
          "heatmapgl": [
           {
            "colorbar": {
             "outlinewidth": 0,
             "ticks": ""
            },
            "colorscale": [
             [
              0,
              "#0d0887"
             ],
             [
              0.1111111111111111,
              "#46039f"
             ],
             [
              0.2222222222222222,
              "#7201a8"
             ],
             [
              0.3333333333333333,
              "#9c179e"
             ],
             [
              0.4444444444444444,
              "#bd3786"
             ],
             [
              0.5555555555555556,
              "#d8576b"
             ],
             [
              0.6666666666666666,
              "#ed7953"
             ],
             [
              0.7777777777777778,
              "#fb9f3a"
             ],
             [
              0.8888888888888888,
              "#fdca26"
             ],
             [
              1,
              "#f0f921"
             ]
            ],
            "type": "heatmapgl"
           }
          ],
          "histogram": [
           {
            "marker": {
             "colorbar": {
              "outlinewidth": 0,
              "ticks": ""
             }
            },
            "type": "histogram"
           }
          ],
          "histogram2d": [
           {
            "colorbar": {
             "outlinewidth": 0,
             "ticks": ""
            },
            "colorscale": [
             [
              0,
              "#0d0887"
             ],
             [
              0.1111111111111111,
              "#46039f"
             ],
             [
              0.2222222222222222,
              "#7201a8"
             ],
             [
              0.3333333333333333,
              "#9c179e"
             ],
             [
              0.4444444444444444,
              "#bd3786"
             ],
             [
              0.5555555555555556,
              "#d8576b"
             ],
             [
              0.6666666666666666,
              "#ed7953"
             ],
             [
              0.7777777777777778,
              "#fb9f3a"
             ],
             [
              0.8888888888888888,
              "#fdca26"
             ],
             [
              1,
              "#f0f921"
             ]
            ],
            "type": "histogram2d"
           }
          ],
          "histogram2dcontour": [
           {
            "colorbar": {
             "outlinewidth": 0,
             "ticks": ""
            },
            "colorscale": [
             [
              0,
              "#0d0887"
             ],
             [
              0.1111111111111111,
              "#46039f"
             ],
             [
              0.2222222222222222,
              "#7201a8"
             ],
             [
              0.3333333333333333,
              "#9c179e"
             ],
             [
              0.4444444444444444,
              "#bd3786"
             ],
             [
              0.5555555555555556,
              "#d8576b"
             ],
             [
              0.6666666666666666,
              "#ed7953"
             ],
             [
              0.7777777777777778,
              "#fb9f3a"
             ],
             [
              0.8888888888888888,
              "#fdca26"
             ],
             [
              1,
              "#f0f921"
             ]
            ],
            "type": "histogram2dcontour"
           }
          ],
          "mesh3d": [
           {
            "colorbar": {
             "outlinewidth": 0,
             "ticks": ""
            },
            "type": "mesh3d"
           }
          ],
          "parcoords": [
           {
            "line": {
             "colorbar": {
              "outlinewidth": 0,
              "ticks": ""
             }
            },
            "type": "parcoords"
           }
          ],
          "pie": [
           {
            "automargin": true,
            "type": "pie"
           }
          ],
          "scatter": [
           {
            "marker": {
             "colorbar": {
              "outlinewidth": 0,
              "ticks": ""
             }
            },
            "type": "scatter"
           }
          ],
          "scatter3d": [
           {
            "line": {
             "colorbar": {
              "outlinewidth": 0,
              "ticks": ""
             }
            },
            "marker": {
             "colorbar": {
              "outlinewidth": 0,
              "ticks": ""
             }
            },
            "type": "scatter3d"
           }
          ],
          "scattercarpet": [
           {
            "marker": {
             "colorbar": {
              "outlinewidth": 0,
              "ticks": ""
             }
            },
            "type": "scattercarpet"
           }
          ],
          "scattergeo": [
           {
            "marker": {
             "colorbar": {
              "outlinewidth": 0,
              "ticks": ""
             }
            },
            "type": "scattergeo"
           }
          ],
          "scattergl": [
           {
            "marker": {
             "colorbar": {
              "outlinewidth": 0,
              "ticks": ""
             }
            },
            "type": "scattergl"
           }
          ],
          "scattermapbox": [
           {
            "marker": {
             "colorbar": {
              "outlinewidth": 0,
              "ticks": ""
             }
            },
            "type": "scattermapbox"
           }
          ],
          "scatterpolar": [
           {
            "marker": {
             "colorbar": {
              "outlinewidth": 0,
              "ticks": ""
             }
            },
            "type": "scatterpolar"
           }
          ],
          "scatterpolargl": [
           {
            "marker": {
             "colorbar": {
              "outlinewidth": 0,
              "ticks": ""
             }
            },
            "type": "scatterpolargl"
           }
          ],
          "scatterternary": [
           {
            "marker": {
             "colorbar": {
              "outlinewidth": 0,
              "ticks": ""
             }
            },
            "type": "scatterternary"
           }
          ],
          "surface": [
           {
            "colorbar": {
             "outlinewidth": 0,
             "ticks": ""
            },
            "colorscale": [
             [
              0,
              "#0d0887"
             ],
             [
              0.1111111111111111,
              "#46039f"
             ],
             [
              0.2222222222222222,
              "#7201a8"
             ],
             [
              0.3333333333333333,
              "#9c179e"
             ],
             [
              0.4444444444444444,
              "#bd3786"
             ],
             [
              0.5555555555555556,
              "#d8576b"
             ],
             [
              0.6666666666666666,
              "#ed7953"
             ],
             [
              0.7777777777777778,
              "#fb9f3a"
             ],
             [
              0.8888888888888888,
              "#fdca26"
             ],
             [
              1,
              "#f0f921"
             ]
            ],
            "type": "surface"
           }
          ],
          "table": [
           {
            "cells": {
             "fill": {
              "color": "#EBF0F8"
             },
             "line": {
              "color": "white"
             }
            },
            "header": {
             "fill": {
              "color": "#C8D4E3"
             },
             "line": {
              "color": "white"
             }
            },
            "type": "table"
           }
          ]
         },
         "layout": {
          "annotationdefaults": {
           "arrowcolor": "#2a3f5f",
           "arrowhead": 0,
           "arrowwidth": 1
          },
          "autotypenumbers": "strict",
          "coloraxis": {
           "colorbar": {
            "outlinewidth": 0,
            "ticks": ""
           }
          },
          "colorscale": {
           "diverging": [
            [
             0,
             "#8e0152"
            ],
            [
             0.1,
             "#c51b7d"
            ],
            [
             0.2,
             "#de77ae"
            ],
            [
             0.3,
             "#f1b6da"
            ],
            [
             0.4,
             "#fde0ef"
            ],
            [
             0.5,
             "#f7f7f7"
            ],
            [
             0.6,
             "#e6f5d0"
            ],
            [
             0.7,
             "#b8e186"
            ],
            [
             0.8,
             "#7fbc41"
            ],
            [
             0.9,
             "#4d9221"
            ],
            [
             1,
             "#276419"
            ]
           ],
           "sequential": [
            [
             0,
             "#0d0887"
            ],
            [
             0.1111111111111111,
             "#46039f"
            ],
            [
             0.2222222222222222,
             "#7201a8"
            ],
            [
             0.3333333333333333,
             "#9c179e"
            ],
            [
             0.4444444444444444,
             "#bd3786"
            ],
            [
             0.5555555555555556,
             "#d8576b"
            ],
            [
             0.6666666666666666,
             "#ed7953"
            ],
            [
             0.7777777777777778,
             "#fb9f3a"
            ],
            [
             0.8888888888888888,
             "#fdca26"
            ],
            [
             1,
             "#f0f921"
            ]
           ],
           "sequentialminus": [
            [
             0,
             "#0d0887"
            ],
            [
             0.1111111111111111,
             "#46039f"
            ],
            [
             0.2222222222222222,
             "#7201a8"
            ],
            [
             0.3333333333333333,
             "#9c179e"
            ],
            [
             0.4444444444444444,
             "#bd3786"
            ],
            [
             0.5555555555555556,
             "#d8576b"
            ],
            [
             0.6666666666666666,
             "#ed7953"
            ],
            [
             0.7777777777777778,
             "#fb9f3a"
            ],
            [
             0.8888888888888888,
             "#fdca26"
            ],
            [
             1,
             "#f0f921"
            ]
           ]
          },
          "colorway": [
           "#636efa",
           "#EF553B",
           "#00cc96",
           "#ab63fa",
           "#FFA15A",
           "#19d3f3",
           "#FF6692",
           "#B6E880",
           "#FF97FF",
           "#FECB52"
          ],
          "font": {
           "color": "#2a3f5f"
          },
          "geo": {
           "bgcolor": "white",
           "lakecolor": "white",
           "landcolor": "#E5ECF6",
           "showlakes": true,
           "showland": true,
           "subunitcolor": "white"
          },
          "hoverlabel": {
           "align": "left"
          },
          "hovermode": "closest",
          "mapbox": {
           "style": "light"
          },
          "paper_bgcolor": "white",
          "plot_bgcolor": "#E5ECF6",
          "polar": {
           "angularaxis": {
            "gridcolor": "white",
            "linecolor": "white",
            "ticks": ""
           },
           "bgcolor": "#E5ECF6",
           "radialaxis": {
            "gridcolor": "white",
            "linecolor": "white",
            "ticks": ""
           }
          },
          "scene": {
           "xaxis": {
            "backgroundcolor": "#E5ECF6",
            "gridcolor": "white",
            "gridwidth": 2,
            "linecolor": "white",
            "showbackground": true,
            "ticks": "",
            "zerolinecolor": "white"
           },
           "yaxis": {
            "backgroundcolor": "#E5ECF6",
            "gridcolor": "white",
            "gridwidth": 2,
            "linecolor": "white",
            "showbackground": true,
            "ticks": "",
            "zerolinecolor": "white"
           },
           "zaxis": {
            "backgroundcolor": "#E5ECF6",
            "gridcolor": "white",
            "gridwidth": 2,
            "linecolor": "white",
            "showbackground": true,
            "ticks": "",
            "zerolinecolor": "white"
           }
          },
          "shapedefaults": {
           "line": {
            "color": "#2a3f5f"
           }
          },
          "ternary": {
           "aaxis": {
            "gridcolor": "white",
            "linecolor": "white",
            "ticks": ""
           },
           "baxis": {
            "gridcolor": "white",
            "linecolor": "white",
            "ticks": ""
           },
           "bgcolor": "#E5ECF6",
           "caxis": {
            "gridcolor": "white",
            "linecolor": "white",
            "ticks": ""
           }
          },
          "title": {
           "x": 0.05
          },
          "xaxis": {
           "automargin": true,
           "gridcolor": "white",
           "linecolor": "white",
           "ticks": "",
           "title": {
            "standoff": 15
           },
           "zerolinecolor": "white",
           "zerolinewidth": 2
          },
          "yaxis": {
           "automargin": true,
           "gridcolor": "white",
           "linecolor": "white",
           "ticks": "",
           "title": {
            "standoff": 15
           },
           "zerolinecolor": "white",
           "zerolinewidth": 2
          }
         }
        },
        "width": 800
       }
      }
     },
     "metadata": {}
    }
   ],
   "metadata": {}
  },
  {
   "cell_type": "code",
   "execution_count": null,
   "source": [
    "# Simply print the locations of the suggested points\n",
    "print(test_grid[ei[1], 0], test_grid[ei[0], 1])\n",
    "print(test_grid[pi[1], 0], test_grid[pi[0], 1])\n",
    "print(test_grid[ca[1], 0], test_grid[ca[0], 1])\n",
    "print(test_grid[ucb[1], 0], test_grid[ucb[0], 1])\n",
    "print(test_grid[th[1], 0], test_grid[th[0], 1])\n",
    "print(test_grid[max_var[1], 0], test_grid[max_var[0], 1])"
   ],
   "outputs": [
    {
     "output_type": "stream",
     "name": "stdout",
     "text": [
      "tensor(415.0862) tensor(114.9384)\n",
      "tensor(415.0862) tensor(114.9384)\n",
      "tensor(453.8793) tensor(451.8842)\n",
      "tensor(402.1552) tensor(451.8842)\n",
      "tensor(712.5000) tensor(388.7069)\n",
      "tensor(647.8448) tensor(430.8251)\n"
     ]
    }
   ],
   "metadata": {}
  },
  {
   "cell_type": "code",
   "execution_count": null,
   "source": [
    "print(pred_labels[ei[0], ei[1]])\n",
    "print(pred_labels[pi[0], pi[1]])\n",
    "print(pred_labels[ca[0], ca[1]])\n",
    "print(pred_labels[ucb[0], ucb[1]])\n",
    "print(pred_labels[th[0], th[1]])\n",
    "print(pred_labels[max_var[0], max_var[1]])\n"
   ],
   "outputs": [
    {
     "output_type": "stream",
     "name": "stdout",
     "text": [
      "tensor(36.4777)\n",
      "tensor(36.4777)\n",
      "tensor(25.6007)\n",
      "tensor(23.9889)\n",
      "tensor(26.0637)\n",
      "tensor(26.0657)\n"
     ]
    }
   ],
   "metadata": {}
  },
  {
   "cell_type": "code",
   "execution_count": null,
   "source": [
    "# look at acq_func manifold\n",
    "fig = go.Figure(data=[go.Surface(z=EI_acq_shape, x=test_grid[:,0], y=test_grid[:,1])])\n",
    "fig.add_trace(go.Scatter3d(x=test_grid[pi[1], 0].numpy(), y=test_grid[pi[0], 1].numpy(), z=[PI_acq_shape[pi[0], pi[1]]], mode='markers', name='max(pi)'))\n",
    "fig.update_layout( width=1000, height=600,\n",
    "                  margin=dict(r=20, l=10, b=10, t=10),\n",
    "                  legend=dict(orientation=\"h\", yanchor=\"bottom\", y=1.02, xanchor=\"right\",x=1),\n",
    "                  scene=dict(\n",
    "                    xaxis_title=\"RTA temperature (C)\",\n",
    "                    yaxis_title=\"RTA time (sec)\",\n",
    "                    zaxis_title='Acquisition Function')\n",
    "                  )\n",
    "fig.show()"
   ],
   "outputs": [
    {
     "output_type": "display_data",
     "data": {
      "application/vnd.plotly.v1+json": {
       "config": {
        "plotlyServerURL": "https://plot.ly"
       },
       "data": [
        {
         "type": "surface",
         "x": [
          337.5,
          350.4310302734375,
          363.362060546875,
          376.2930908203125,
          389.22412109375,
          402.1551513671875,
          415.0862121582031,
          428.0172424316406,
          440.9482727050781,
          453.8793029785156,
          466.8103332519531,
          479.7413635253906,
          492.67242431640625,
          505.60345458984375,
          518.5344848632812,
          531.4655151367188,
          544.3965454101562,
          557.3275756835938,
          570.2586059570312,
          583.189697265625,
          596.1207275390625,
          609.0517578125,
          621.9827880859375,
          634.913818359375,
          647.8448486328125,
          660.77587890625,
          673.7069091796875,
          686.637939453125,
          699.5689697265625,
          712.5
         ],
         "y": [
          9.64285659790039,
          30.701967239379883,
          51.761077880859375,
          72.8201904296875,
          93.87930297851562,
          114.93841552734375,
          135.9975128173828,
          157.05662536621094,
          178.11573791503906,
          199.1748504638672,
          220.2339630126953,
          241.29306030273438,
          262.3521728515625,
          283.4112854003906,
          304.47039794921875,
          325.5295104980469,
          346.58868408203125,
          367.6477966308594,
          388.7069091796875,
          409.7659912109375,
          430.82513427734375,
          451.88421630859375,
          472.943359375,
          494.00244140625,
          515.0615844726562,
          536.1206665039062,
          557.1798095703125,
          578.2388916015625,
          599.2980346679688,
          620.3571166992188
         ],
         "z": [
          [
           5.98791137454337e-21,
           1.1800810318686408e-34,
           1.8404880251418502e-26,
           1.50443860586508e-13,
           0.0000028520742975970723,
           0.008320304431773527,
           0.1527305354077882,
           0.30745117613784967,
           0.3169770709515216,
           0.27412322319588256,
           0.2085029299566904,
           0.10587718213770553,
           0.02666363152131393,
           0.04023976565653081,
           0.20932890766746348,
           0.3579555492172888,
           0.32879033727958984,
           0.21109966242321077,
           0.0786443341323555,
           0.0063588827665169365,
           0.000020895523999418938,
           0.00007732751034397311,
           0.006859058283413967,
           0.03929801666884897,
           0.06590559674853369,
           0.05296146010427194,
           0.01596959539968909,
           0.0004547777207568396,
           0.0000016349522011495311,
           0.0003085591610479735
          ],
          [
           1.9030741633937426e-22,
           1.4178668354409343e-38,
           1.027862949742032e-26,
           1.1768077188731839e-12,
           0.000013164312194422791,
           0.02262011231092749,
           0.26581836255040736,
           0.40482920975057524,
           0.3518767201209262,
           0.27832479212435124,
           0.20695637248116783,
           0.10609074035050137,
           0.026619707922049013,
           0.03897241383748398,
           0.20713600951825817,
           0.3439001674611034,
           0.30316921640135686,
           0.19312160040874427,
           0.07230059948103024,
           0.005336112298221646,
           0.000010224830549326446,
           0.0000523436476027022,
           0.0064257381991536175,
           0.0386741505365997,
           0.06540587910648593,
           0.0522294161815724,
           0.015149630200780487,
           0.00033949427820696883,
           5.127184624976332e-7,
           0.00022162936280699418
          ],
          [
           1.6340273511041618e-22,
           2.523110351384863e-38,
           1.063023441713072e-23,
           1.588171571090131e-10,
           0.00016479509484730245,
           0.07355675285760477,
           0.45264111864489,
           0.5120103903300661,
           0.36997138767778637,
           0.2676862022548435,
           0.20043304100673498,
           0.1129675158023179,
           0.038347940752728266,
           0.0538713160126191,
           0.21261838694969326,
           0.31516043322853016,
           0.2579850703756398,
           0.16665895913775897,
           0.06762102430587513,
           0.006010652795365799,
           0.000028439600758370354,
           0.00010709398398160209,
           0.0073386545682380955,
           0.03990485703350366,
           0.06619253626134103,
           0.05311130036476536,
           0.016091546075005403,
           0.00047318329289800475,
           0.000001896905951006498,
           0.000322667462663964
          ],
          [
           4.207364258112789e-21,
           4.405312758506414e-34,
           4.2331203328010046e-19,
           4.1302821848133344e-8,
           0.0022302428880349133,
           0.21612836590178924,
           0.709627024079269,
           0.609085728393612,
           0.3613165656717059,
           0.2399701153537228,
           0.18845582384892823,
           0.1261044542992325,
           0.06622838976273593,
           0.09083415093950725,
           0.22835487436706114,
           0.27519434729225634,
           0.1977769580515435,
           0.13506440994730468,
           0.06552035169920312,
           0.008920538058016209,
           0.00020644157896554252,
           0.0004248649800423828,
           0.00985121296736402,
           0.04296096479142486,
           0.06820627596498119,
           0.05554910110684447,
           0.018867712857969038,
           0.0010414999439919154,
           0.00002532659551721827,
           0.0007796280113863199
          ],
          [
           1.2579122917039166e-18,
           6.755036550645245e-28,
           1.2542087674973901e-14,
           0.000004593509416928997,
           0.01754946199109833,
           0.4828593024586487,
           0.9879827567374224,
           0.6698081621945442,
           0.32024034047001904,
           0.196993330994905,
           0.1715895325087743,
           0.14354333029486377,
           0.1111157683626211,
           0.15015986768060186,
           0.25412678880724104,
           0.23187681307197894,
           0.13373109253149823,
           0.10396906753892188,
           0.06690255904862558,
           0.015436205273388265,
           0.0013755176086076588,
           0.0017712167789193725,
           0.014454299714539806,
           0.047716030727472714,
           0.07128202646709952,
           0.05937146083773703,
           0.023615374961274194,
           0.0026629550078449103,
           0.0002812463508791831,
           0.002186252337986236
          ],
          [
           1.065536310756151e-15,
           9.47375146659482e-22,
           5.0808880077564445e-11,
           0.00014993357198407348,
           0.07230043626671023,
           0.8083628057266101,
           1.208415752695646,
           0.6711417868443088,
           0.25021790793906573,
           0.14560310988320918,
           0.15162038306045933,
           0.16209732262368537,
           0.1658889835530648,
           0.22108963658281744,
           0.2861628383467214,
           0.1955134253152676,
           0.08103998030920279,
           0.07951448463509736,
           0.07256405288724777,
           0.02722797405183902,
           0.0058467306114431405,
           0.005782499533261161,
           0.02159381500653021,
           0.05390669319550745,
           0.07516082177820593,
           0.06429238485865485,
           0.030370614635252063,
           0.006371454094436464,
           0.001688638975968642,
           0.005603972817545072
          ],
          [
           7.661193096812508e-13,
           1.275618683696159e-16,
           2.4127552796506696e-8,
           0.0016933915509276705,
           0.17745028986349115,
           1.071327309986112,
           1.3023586477930964,
           0.6048779083425677,
           0.1666305762200576,
           0.0961992045710705,
           0.1312039608915101,
           0.1783677875209203,
           0.21916344726895853,
           0.2880998832359799,
           0.3182993967299732,
           0.17436384559977808,
           0.05035480987084398,
           0.06586650532020216,
           0.08299729956440371,
           0.045057433443029205,
           0.016331543073693708,
           0.014179508114991649,
           0.031315245826250754,
           0.06111550706500729,
           0.07951735908547247,
           0.06992721985644945,
           0.03890361327776998,
           0.013120192142617879,
           0.005927629918670574,
           0.012079351221725876
          ],
          [
           2.329080213756473e-10,
           1.0395736486378935e-12,
           0.0000019633841195163405,
           0.00868554750248414,
           0.30101933213671306,
           1.1851720993329737,
           1.2431055284883772,
           0.48560917360659406,
           0.09257076086042498,
           0.05821127260729203,
           0.113058806779055,
           0.18988076592587144,
           0.26143022192336973,
           0.3392783862128934,
           0.3444479401155338,
           0.17095781247061942,
           0.04172779765097051,
           0.0643229061438566,
           0.098056247577191,
           0.06784292534205,
           0.03343211920072184,
           0.0273524333940017,
           0.043068214114664716,
           0.06880414392608392,
           0.08400045886969365,
           0.07583400217965547,
           0.048663664231771986,
           0.02309068800726391,
           0.01419795647547957,
           0.02188629378489823
          ],
          [
           2.3687434774960216e-8,
           7.222796291471825e-10,
           0.00004262485457841455,
           0.025418586204868865,
           0.391977361594944,
           1.1284767983650243,
           1.052614286806544,
           0.3478921222058692,
           0.045122714886172366,
           0.03520346918149095,
           0.0991480556428157,
           0.19567734214271537,
           0.2879130597483913,
           0.36931673825453126,
           0.36059199669669195,
           0.1821293406575465,
           0.050976243198293414,
           0.07441375417699242,
           0.11665337735039027,
           0.09288569030783855,
           0.05500155198013623,
           0.04394481588767807,
           0.05580992174147942,
           0.07639390449375066,
           0.088281410691947,
           0.08157630641842983,
           0.058873580747637155,
           0.03547686895248481,
           0.026178359018936503,
           0.034253866066993655
          ],
          [
           8.482495504765655e-7,
           7.45414806482161e-8,
           0.00035679869991661096,
           0.04992021755615733,
           0.416729285827488,
           0.9337321742706012,
           0.7897124294246902,
           0.2290757349457112,
           0.02372048479022268,
           0.024642365888561862,
           0.09031629767234417,
           0.19619329230449067,
           0.2982963258951977,
           0.3785230948850308,
           0.3653629499968837,
           0.20150160091350244,
           0.07509489914398904,
           0.09434491031621806,
           0.13677990504105308,
           0.11694701970806626,
           0.07756452784066231,
           0.06162817340384641,
           0.06832444730139486,
           0.08336603022683015,
           0.09209725674447905,
           0.08678703361776746,
           0.06871560028443724,
           0.04885903937139602,
           0.040296061014284235,
           0.04773928475618883
          ],
          [
           0.000012801208209927762,
           0.0000019396928203733603,
           0.001522989771402878,
           0.07345420610608883,
           0.373243840905394,
           0.6674556141126728,
           0.5266118373484653,
           0.1485521092030408,
           0.017685480896515254,
           0.02235980849578678,
           0.08645625690923248,
           0.19270476246047286,
           0.2951712478693421,
           0.370607340733215,
           0.3595254796366576,
           0.2222183321595771,
           0.1089447674791384,
           0.12040113034172495,
           0.15595533367462566,
           0.1373155213921171,
           0.09794129171337251,
           0.07813194772527832,
           0.07955701521900466,
           0.08934237802907341,
           0.09527862715742119,
           0.09121499890491741,
           0.0775148113432102,
           0.061774029678099196,
           0.05463003341450379,
           0.06083047162151617
          ],
          [
           0.0001007302921392486,
           0.000019872272392713354,
           0.004098899922021469,
           0.08763064589894942,
           0.2860469750809145,
           0.40771163788006176,
           0.3196591759187871,
           0.10375212078316948,
           0.019666223310738695,
           0.025861602106802745,
           0.08689927088775579,
           0.18672066747984428,
           0.2824005234754644,
           0.35063509702811935,
           0.34509475614741625,
           0.23892263615575937,
           0.14471084088882136,
           0.1474806412760299,
           0.17188587018397317,
           0.1523680671347325,
           0.11410094086561706,
           0.09188336547657805,
           0.0888220326083396,
           0.09412415436610122,
           0.09775587811418407,
           0.09474172249693402,
           0.0848483485808254,
           0.0731239060665475,
           0.06762341433840297,
           0.07238042726739674
          ],
          [
           0.0005049337889352582,
           0.0001164115463394204,
           0.00827895215145847,
           0.09093343744302729,
           0.19176642294982316,
           0.21573879749955566,
           0.1885361608212498,
           0.08320712669190239,
           0.027319670935515517,
           0.0342367031540495,
           0.09072583055014682,
           0.1795552952328554,
           0.26389487900087716,
           0.3235987576375223,
           0.32455636534915744,
           0.24858321729346922,
           0.1753555711877326,
           0.1708194816342059,
           0.18299443250669312,
           0.1616250020408364,
           0.1252800822218958,
           0.10217245587312912,
           0.09585186507779597,
           0.09768489345505021,
           0.09954691618426398,
           0.0973694078894276,
           0.09056492809048616,
           0.0823256368744874,
           0.0783714306586773,
           0.0817715032495342
          ],
          [
           0.0019004653994959472,
           0.0005307755326323061,
           0.014700068557007229,
           0.08934700881049407,
           0.12079964836574203,
           0.10935229227856208,
           0.12034328772047959,
           0.07757746422438638,
           0.0400412434415901,
           0.04691094886701269,
           0.09693069793309084,
           0.17214284656199863,
           0.24291296173958543,
           0.293628897955003,
           0.3003502176864158,
           0.250352318562328,
           0.1968120162970709,
           0.18733968857515204,
           0.18864630453069875,
           0.16549962513369,
           0.13169791411261367,
           0.10901062418012442,
           0.10072708097446242,
           0.10013144966116072,
           0.10073276736120157,
           0.09919040024477627,
           0.09473721998764084,
           0.08926365301571143,
           0.08659173598822084,
           0.08886944175904232
          ],
          [
           0.0059835587989982425,
           0.0022754110085833855,
           0.026180293629857382,
           0.0924656302041803,
           0.08418298434795607,
           0.0661871662718897,
           0.09221438318559577,
           0.08186325234515035,
           0.057213067957462393,
           0.0629344880686088,
           0.10451430793969818,
           0.16503286292205177,
           0.22180058193299435,
           0.2637171601112206,
           0.2745895273243111,
           0.2449595648771623,
           0.20801393805771662,
           0.19596945828266454,
           0.18907847902260866,
           0.16494813710663347,
           0.13415479190593926,
           0.11286967561872507,
           0.10375402257822519,
           0.10165061363661587,
           0.1014285680135949,
           0.10034786212516084,
           0.09758183279873661,
           0.09414664308655019,
           0.09244506387547269,
           0.09387709784799159
          ],
          [
           0.016401257180464382,
           0.009163704734151887,
           0.049475183266161654,
           0.11010237734428119,
           0.07815949714115178,
           0.05794544053224435,
           0.08785979537288113,
           0.09391048288493747,
           0.07793105353429985,
           0.08098639367089933,
           0.11256443989748272,
           0.1584808535045069,
           0.20202569526050362,
           0.23576590516694063,
           0.2489477407506231,
           0.23402631001364693,
           0.2099816254174922,
           0.19724634578431144,
           0.18515266833431476,
           0.16114761509698605,
           0.13367579804065755,
           0.11442825774808751,
           0.10534004522896845,
           0.10245912687646197,
           0.10175898272036521,
           0.10100198462559656,
           0.0993797505487578,
           0.0973517576335623,
           0.0963319100524721,
           0.09717335005536443
          ],
          [
           0.038801868920026156,
           0.030669328512850424,
           0.09514189739561113,
           0.15154857783156078,
           0.09892394899034762,
           0.07121524661348339,
           0.09965520979486014,
           0.11279172438272522,
           0.10114818970927847,
           0.09967405456007256,
           0.12033138249240904,
           0.15256042403718795,
           0.1843569161264187,
           0.2107989102963551,
           0.224641337576011,
           0.21949058189759552,
           0.2048178341991308,
           0.1926705475181132,
           0.17805393188576446,
           0.15525915887051867,
           0.1312637681170432,
           0.11438399328822857,
           0.10589837090960252,
           0.10276568864654656,
           0.10183936174760516,
           0.10130325321073147,
           0.10041389538729228,
           0.09929944974353755,
           0.09872819735518967,
           0.09918451218865088
          ],
          [
           0.07791265042032192,
           0.07860833542579676,
           0.1722570457043603,
           0.22407071918241628,
           0.14775310574645972,
           0.10354433564768634,
           0.12468640955213872,
           0.1377595501627894,
           0.12578745729526852,
           0.11780051060004126,
           0.12727997967391058,
           0.14725603541934074,
           0.16907856889492767,
           0.189213036260781,
           0.20246776431319002,
           0.2032015245174078,
           0.19492740571099743,
           0.18410456912836815,
           0.16902239781985096,
           0.1482850581784414,
           0.12776463329156662,
           0.11334365337884234,
           0.10579022506472674,
           0.10274844143253181,
           0.10176564242490382,
           0.10137801048514322,
           0.10093146860611496,
           0.10037452444746858,
           0.1000803872576213,
           0.10030187652808753
          ],
          [
           0.13284660824024253,
           0.15563900817575987,
           0.2806849692491894,
           0.32906997468342347,
           0.2256985366491091,
           0.15456859621366037,
           0.16096492606293133,
           0.16759259448522779,
           0.150752417649761,
           0.13448318473990983,
           0.13310146828569436,
           0.14252478632828047,
           0.15617682225147056,
           0.1710043957360935,
           0.18286738289313242,
           0.18668277989832738,
           0.18251650489692828,
           0.17333908984437085,
           0.15916399033530282,
           0.1410066356348012,
           0.12381927600270548,
           0.11177879720738682,
           0.10529880731033187,
           0.10254557276324788,
           0.10161038966218766,
           0.10132273717440626,
           0.10112655815908994,
           0.10088764891039331,
           0.10075394768052892,
           0.10084237910630822
          ],
          [
           0.19554973122540287,
           0.25018320503637326,
           0.409242985124867,
           0.4598309333965793,
           0.32832709866320076,
           0.22081039454676443,
           0.2052078575121068,
           0.20028004476218264,
           0.1749215259000395,
           0.14915970822114066,
           0.13768824815454372,
           0.13832560160291396,
           0.14547746960906172,
           0.15594052046769735,
           0.16600004044851657,
           0.17103811860747964,
           0.1693387257124115,
           0.1618459534710096,
           0.14934770012568221,
           0.1339766391092856,
           0.11986943785161674,
           0.11002290213573795,
           0.10462800770163866,
           0.10225561330654603,
           0.10142389646386196,
           0.10120499694295282,
           0.10113933262112845,
           0.10106765887422264,
           0.10102002909017976,
           0.10103948299756904
          ],
          [
           0.25385850062068327,
           0.3428301324485765,
           0.5403919508156465,
           0.6031086748032123,
           0.4449405410783319,
           0.2942400520979854,
           0.25207973908133163,
           0.23303463473412322,
           0.1971734841304268,
           0.1615376021739604,
           0.1410840141609324,
           0.1346282043954251,
           0.13673511039069364,
           0.1436782209151728,
           0.15181941660812848,
           0.15695681779178905,
           0.1566229153884121,
           0.15068687859945795,
           0.1401766672622906,
           0.12754487949959215,
           0.11619018702527739,
           0.10829114441841459,
           0.10391238537863107,
           0.10194301541057399,
           0.10123778641794134,
           0.10106799322977422,
           0.10106298330364871,
           0.10106964542801866,
           0.10106382270643677,
           0.10105207861340187
          ],
          [
           0.2959815542771308,
           0.4144735220929413,
           0.6557248153634944,
           0.7424986161978481,
           0.5605917764446605,
           0.3632174128924097,
           0.29460603626633064,
           0.2626117641066327,
           0.21645801130110986,
           0.17152169685265262,
           0.1434244037470812,
           0.1314087196252307,
           0.1296843459063709,
           0.13383741884167955,
           0.1401428325251628,
           0.1447792573403176,
           0.14511658106239622,
           0.14052803907944922,
           0.13201020946757736,
           0.12189816019307287,
           0.11293028899021296,
           0.10670776135439464,
           0.10323247253733497,
           0.10164634336548861,
           0.10106953898094806,
           0.1009365207763343,
           0.10095451798043947,
           0.10099079345755879,
           0.10100214174937516,
           0.10097975603438203
          ],
          [
           0.3137794816357038,
           0.4508624245328331,
           0.7394052206685632,
           0.8615134326300804,
           0.6588966224168,
           0.4147010457238055,
           0.3254704041087456,
           0.28588909302254517,
           0.23191751540462757,
           0.17915469096905512,
           0.14488206489535427,
           0.12864083848954178,
           0.1240663887691319,
           0.12604361110134277,
           0.13070769183392061,
           0.1345852184064973,
           0.13518457583675814,
           0.13170978251576781,
           0.12501063621035535,
           0.11710337859146769,
           0.11014920694588992,
           0.1053329344327259,
           0.10263020547664098,
           0.10138489398394851,
           0.10092708920018739,
           0.10082263432680039,
           0.1008452437194382,
           0.10088681378093206,
           0.10090296360179424,
           0.10087983147514318
          ],
          [
           0.3044844118813006,
           0.4446112742790036,
           0.780170545469944,
           0.9460272761603497,
           0.7249242541833693,
           0.4370795036226419,
           0.3388326378205574,
           0.3005731997440566,
           0.24302261650713985,
           0.1845714790033781,
           0.14562626705048087,
           0.1262891592977864,
           0.1196411100587208,
           0.11994928321251241,
           0.12321687265356207,
           0.126282418692228,
           0.12692123214732653,
           0.12433600214354668,
           0.1191984083753691,
           0.1131457470550663,
           0.10784837508427025,
           0.10418420989415555,
           0.10212209207769318,
           0.1011662233057748,
           0.10081174530179754,
           0.10073023779471718,
           0.10074984130707837,
           0.10078652093936968,
           0.10080169114596887,
           0.10078198214199197
          ],
          [
           0.2713489518983637,
           0.3965941627739856,
           0.7730119245400965,
           0.9864906211132466,
           0.7481469697957944,
           0.4234240470820767,
           0.3322261378154897,
           0.3058158101443793,
           0.2496690856332039,
           0.18796686041079325,
           0.14579762793871454,
           0.12430471864685211,
           0.11619141014910761,
           0.11524360564581948,
           0.11736816517420312,
           0.11967902385719043,
           0.12024979403072267,
           0.11835642791939094,
           0.11450196049660288,
           0.10995955886761677,
           0.105994485287764,
           0.1032538610362978,
           0.10170891793686981,
           0.10099006698925078,
           0.10072179090599964,
           0.10065894775309064,
           0.10067338190973901,
           0.1007018969074634,
           0.10071414941131179,
           0.10069889596988885
          ],
          [
           0.22330138033904423,
           0.3174714310372908,
           0.7212074023957968,
           0.9802475582851361,
           0.7257856964770464,
           0.3751140085705772,
           0.3080563463743533,
           0.30253275175316974,
           0.2522016656616729,
           0.18957085012349983,
           0.14549807491869837,
           0.12262652292779996,
           0.1135246927213387,
           0.11165495754039856,
           0.11287518347852288,
           0.1145385995106909,
           0.11500004143408027,
           0.11363327094663689,
           0.11079812632827546,
           0.10745241398001992,
           0.10453526442265892,
           0.10251992436700891,
           0.101382790357738,
           0.10085255254816639,
           0.10065362882774598,
           0.10060591381133244,
           0.10061544053423793,
           0.10063602144894962,
           0.1006450539258475,
           0.10063405421735927
          ],
          [
           0.17292042219885584,
           0.2280433667283801,
           0.638230707666345,
           0.9336079978031879,
           0.6662260466077929,
           0.3050068503942549,
           0.27384057824379826,
           0.29323607353837733,
           0.251335011038739,
           0.1896297817597401,
           0.1447920623329746,
           0.12118510539729788,
           0.11147261973770972,
           0.1089507141342102,
           0.1094780562376213,
           0.11061560477717192,
           0.11096238415365944,
           0.10998888049531186,
           0.10794157924361358,
           0.10552113483579623,
           0.10341152714581925,
           0.10195443553889627,
           0.10113195088057042,
           0.10074790517518123,
           0.10060316659517499,
           0.10056767141353429,
           0.1005734017301822,
           0.10058751701952034,
           0.10059378013796622,
           0.10058614718493947
          ],
          [
           0.13232486669739624,
           0.15421979991715629,
           0.5472811937027092,
           0.8622928046401949,
           0.590355706666941,
           0.23674352506740526,
           0.24026377134385335,
           0.2813065372494197,
           0.24797690033338438,
           0.188382737880033,
           0.14371547311161448,
           0.11990900921464875,
           0.10989102091761704,
           0.10693485047946494,
           0.10694951089950178,
           0.10767762857635244,
           0.10792143138761068,
           0.10723689635156664,
           0.10578423575713031,
           0.10406352848178063,
           0.10256379039112284,
           0.10152804054895709,
           0.10094329680068803,
           0.10067007734799072,
           0.10056677618931081,
           0.1005407347997932,
           0.10054384607340328,
           0.10055312482754913,
           0.10055732663873246,
           0.10055230047215863
          ],
          [
           0.10862344489816556,
           0.11399369586956165,
           0.4741374848546407,
           0.7872923533844967,
           0.525593680508234,
           0.19491742537244572,
           0.21714049635227872,
           0.2699524655780575,
           0.24301242364701725,
           0.18604393088395277,
           0.1422857299418867,
           0.1187307498466541,
           0.1086590259526572,
           0.1054450879684598,
           0.10509590200158508,
           0.1055170729363541,
           0.1056761666907014,
           0.10520055283822949,
           0.10418721451126656,
           0.10298510925829718,
           0.10193693133753695,
           0.10121300804372313,
           0.10080442749632418,
           0.10061344139054934,
           0.10054102326330677,
           0.10052222811095657,
           0.10052373595762953,
           0.10052971033740671,
           0.10053240328557483,
           0.10052905519675526
          ],
          [
           0.1027899511677493,
           0.10885934495503174,
           0.4339025301930799,
           0.7253783239829703,
           0.49059799686764993,
           0.1902876836219819,
           0.20946985691766007,
           0.26125158797326586,
           0.2371175582742998,
           0.1827904665935456,
           0.14051413238082144,
           0.11759309125856188,
           0.10767848052150852,
           0.10434982345022775,
           0.10375705589148432,
           0.10395630799721312,
           0.1040499989231875,
           0.10372320680418384,
           0.10302809753879194,
           0.1022023792734219,
           0.10148224489328184,
           0.100984863725186,
           0.10070414526632526,
           0.10057293869591305,
           0.10052301607903524,
           0.10050983060701824,
           0.10051034521817265,
           0.10051404592978996,
           0.1005157453889885,
           0.10051362632656724
          ]
         ]
        },
        {
         "mode": "markers",
         "name": "max(pi)",
         "type": "scatter3d",
         "x": [
          402.1551513671875
         ],
         "y": [
          157.05662536621094
         ],
         "z": [
          0.49880605936050415
         ]
        }
       ],
       "layout": {
        "height": 600,
        "legend": {
         "orientation": "h",
         "x": 1,
         "xanchor": "right",
         "y": 1.02,
         "yanchor": "bottom"
        },
        "margin": {
         "b": 10,
         "l": 10,
         "r": 20,
         "t": 10
        },
        "scene": {
         "xaxis": {
          "title": {
           "text": "RTA temperature (C)"
          }
         },
         "yaxis": {
          "title": {
           "text": "RTA time (sec)"
          }
         },
         "zaxis": {
          "title": {
           "text": "Acquisition Function"
          }
         }
        },
        "template": {
         "data": {
          "bar": [
           {
            "error_x": {
             "color": "#2a3f5f"
            },
            "error_y": {
             "color": "#2a3f5f"
            },
            "marker": {
             "line": {
              "color": "#E5ECF6",
              "width": 0.5
             }
            },
            "type": "bar"
           }
          ],
          "barpolar": [
           {
            "marker": {
             "line": {
              "color": "#E5ECF6",
              "width": 0.5
             }
            },
            "type": "barpolar"
           }
          ],
          "carpet": [
           {
            "aaxis": {
             "endlinecolor": "#2a3f5f",
             "gridcolor": "white",
             "linecolor": "white",
             "minorgridcolor": "white",
             "startlinecolor": "#2a3f5f"
            },
            "baxis": {
             "endlinecolor": "#2a3f5f",
             "gridcolor": "white",
             "linecolor": "white",
             "minorgridcolor": "white",
             "startlinecolor": "#2a3f5f"
            },
            "type": "carpet"
           }
          ],
          "choropleth": [
           {
            "colorbar": {
             "outlinewidth": 0,
             "ticks": ""
            },
            "type": "choropleth"
           }
          ],
          "contour": [
           {
            "colorbar": {
             "outlinewidth": 0,
             "ticks": ""
            },
            "colorscale": [
             [
              0,
              "#0d0887"
             ],
             [
              0.1111111111111111,
              "#46039f"
             ],
             [
              0.2222222222222222,
              "#7201a8"
             ],
             [
              0.3333333333333333,
              "#9c179e"
             ],
             [
              0.4444444444444444,
              "#bd3786"
             ],
             [
              0.5555555555555556,
              "#d8576b"
             ],
             [
              0.6666666666666666,
              "#ed7953"
             ],
             [
              0.7777777777777778,
              "#fb9f3a"
             ],
             [
              0.8888888888888888,
              "#fdca26"
             ],
             [
              1,
              "#f0f921"
             ]
            ],
            "type": "contour"
           }
          ],
          "contourcarpet": [
           {
            "colorbar": {
             "outlinewidth": 0,
             "ticks": ""
            },
            "type": "contourcarpet"
           }
          ],
          "heatmap": [
           {
            "colorbar": {
             "outlinewidth": 0,
             "ticks": ""
            },
            "colorscale": [
             [
              0,
              "#0d0887"
             ],
             [
              0.1111111111111111,
              "#46039f"
             ],
             [
              0.2222222222222222,
              "#7201a8"
             ],
             [
              0.3333333333333333,
              "#9c179e"
             ],
             [
              0.4444444444444444,
              "#bd3786"
             ],
             [
              0.5555555555555556,
              "#d8576b"
             ],
             [
              0.6666666666666666,
              "#ed7953"
             ],
             [
              0.7777777777777778,
              "#fb9f3a"
             ],
             [
              0.8888888888888888,
              "#fdca26"
             ],
             [
              1,
              "#f0f921"
             ]
            ],
            "type": "heatmap"
           }
          ],
          "heatmapgl": [
           {
            "colorbar": {
             "outlinewidth": 0,
             "ticks": ""
            },
            "colorscale": [
             [
              0,
              "#0d0887"
             ],
             [
              0.1111111111111111,
              "#46039f"
             ],
             [
              0.2222222222222222,
              "#7201a8"
             ],
             [
              0.3333333333333333,
              "#9c179e"
             ],
             [
              0.4444444444444444,
              "#bd3786"
             ],
             [
              0.5555555555555556,
              "#d8576b"
             ],
             [
              0.6666666666666666,
              "#ed7953"
             ],
             [
              0.7777777777777778,
              "#fb9f3a"
             ],
             [
              0.8888888888888888,
              "#fdca26"
             ],
             [
              1,
              "#f0f921"
             ]
            ],
            "type": "heatmapgl"
           }
          ],
          "histogram": [
           {
            "marker": {
             "colorbar": {
              "outlinewidth": 0,
              "ticks": ""
             }
            },
            "type": "histogram"
           }
          ],
          "histogram2d": [
           {
            "colorbar": {
             "outlinewidth": 0,
             "ticks": ""
            },
            "colorscale": [
             [
              0,
              "#0d0887"
             ],
             [
              0.1111111111111111,
              "#46039f"
             ],
             [
              0.2222222222222222,
              "#7201a8"
             ],
             [
              0.3333333333333333,
              "#9c179e"
             ],
             [
              0.4444444444444444,
              "#bd3786"
             ],
             [
              0.5555555555555556,
              "#d8576b"
             ],
             [
              0.6666666666666666,
              "#ed7953"
             ],
             [
              0.7777777777777778,
              "#fb9f3a"
             ],
             [
              0.8888888888888888,
              "#fdca26"
             ],
             [
              1,
              "#f0f921"
             ]
            ],
            "type": "histogram2d"
           }
          ],
          "histogram2dcontour": [
           {
            "colorbar": {
             "outlinewidth": 0,
             "ticks": ""
            },
            "colorscale": [
             [
              0,
              "#0d0887"
             ],
             [
              0.1111111111111111,
              "#46039f"
             ],
             [
              0.2222222222222222,
              "#7201a8"
             ],
             [
              0.3333333333333333,
              "#9c179e"
             ],
             [
              0.4444444444444444,
              "#bd3786"
             ],
             [
              0.5555555555555556,
              "#d8576b"
             ],
             [
              0.6666666666666666,
              "#ed7953"
             ],
             [
              0.7777777777777778,
              "#fb9f3a"
             ],
             [
              0.8888888888888888,
              "#fdca26"
             ],
             [
              1,
              "#f0f921"
             ]
            ],
            "type": "histogram2dcontour"
           }
          ],
          "mesh3d": [
           {
            "colorbar": {
             "outlinewidth": 0,
             "ticks": ""
            },
            "type": "mesh3d"
           }
          ],
          "parcoords": [
           {
            "line": {
             "colorbar": {
              "outlinewidth": 0,
              "ticks": ""
             }
            },
            "type": "parcoords"
           }
          ],
          "pie": [
           {
            "automargin": true,
            "type": "pie"
           }
          ],
          "scatter": [
           {
            "marker": {
             "colorbar": {
              "outlinewidth": 0,
              "ticks": ""
             }
            },
            "type": "scatter"
           }
          ],
          "scatter3d": [
           {
            "line": {
             "colorbar": {
              "outlinewidth": 0,
              "ticks": ""
             }
            },
            "marker": {
             "colorbar": {
              "outlinewidth": 0,
              "ticks": ""
             }
            },
            "type": "scatter3d"
           }
          ],
          "scattercarpet": [
           {
            "marker": {
             "colorbar": {
              "outlinewidth": 0,
              "ticks": ""
             }
            },
            "type": "scattercarpet"
           }
          ],
          "scattergeo": [
           {
            "marker": {
             "colorbar": {
              "outlinewidth": 0,
              "ticks": ""
             }
            },
            "type": "scattergeo"
           }
          ],
          "scattergl": [
           {
            "marker": {
             "colorbar": {
              "outlinewidth": 0,
              "ticks": ""
             }
            },
            "type": "scattergl"
           }
          ],
          "scattermapbox": [
           {
            "marker": {
             "colorbar": {
              "outlinewidth": 0,
              "ticks": ""
             }
            },
            "type": "scattermapbox"
           }
          ],
          "scatterpolar": [
           {
            "marker": {
             "colorbar": {
              "outlinewidth": 0,
              "ticks": ""
             }
            },
            "type": "scatterpolar"
           }
          ],
          "scatterpolargl": [
           {
            "marker": {
             "colorbar": {
              "outlinewidth": 0,
              "ticks": ""
             }
            },
            "type": "scatterpolargl"
           }
          ],
          "scatterternary": [
           {
            "marker": {
             "colorbar": {
              "outlinewidth": 0,
              "ticks": ""
             }
            },
            "type": "scatterternary"
           }
          ],
          "surface": [
           {
            "colorbar": {
             "outlinewidth": 0,
             "ticks": ""
            },
            "colorscale": [
             [
              0,
              "#0d0887"
             ],
             [
              0.1111111111111111,
              "#46039f"
             ],
             [
              0.2222222222222222,
              "#7201a8"
             ],
             [
              0.3333333333333333,
              "#9c179e"
             ],
             [
              0.4444444444444444,
              "#bd3786"
             ],
             [
              0.5555555555555556,
              "#d8576b"
             ],
             [
              0.6666666666666666,
              "#ed7953"
             ],
             [
              0.7777777777777778,
              "#fb9f3a"
             ],
             [
              0.8888888888888888,
              "#fdca26"
             ],
             [
              1,
              "#f0f921"
             ]
            ],
            "type": "surface"
           }
          ],
          "table": [
           {
            "cells": {
             "fill": {
              "color": "#EBF0F8"
             },
             "line": {
              "color": "white"
             }
            },
            "header": {
             "fill": {
              "color": "#C8D4E3"
             },
             "line": {
              "color": "white"
             }
            },
            "type": "table"
           }
          ]
         },
         "layout": {
          "annotationdefaults": {
           "arrowcolor": "#2a3f5f",
           "arrowhead": 0,
           "arrowwidth": 1
          },
          "autotypenumbers": "strict",
          "coloraxis": {
           "colorbar": {
            "outlinewidth": 0,
            "ticks": ""
           }
          },
          "colorscale": {
           "diverging": [
            [
             0,
             "#8e0152"
            ],
            [
             0.1,
             "#c51b7d"
            ],
            [
             0.2,
             "#de77ae"
            ],
            [
             0.3,
             "#f1b6da"
            ],
            [
             0.4,
             "#fde0ef"
            ],
            [
             0.5,
             "#f7f7f7"
            ],
            [
             0.6,
             "#e6f5d0"
            ],
            [
             0.7,
             "#b8e186"
            ],
            [
             0.8,
             "#7fbc41"
            ],
            [
             0.9,
             "#4d9221"
            ],
            [
             1,
             "#276419"
            ]
           ],
           "sequential": [
            [
             0,
             "#0d0887"
            ],
            [
             0.1111111111111111,
             "#46039f"
            ],
            [
             0.2222222222222222,
             "#7201a8"
            ],
            [
             0.3333333333333333,
             "#9c179e"
            ],
            [
             0.4444444444444444,
             "#bd3786"
            ],
            [
             0.5555555555555556,
             "#d8576b"
            ],
            [
             0.6666666666666666,
             "#ed7953"
            ],
            [
             0.7777777777777778,
             "#fb9f3a"
            ],
            [
             0.8888888888888888,
             "#fdca26"
            ],
            [
             1,
             "#f0f921"
            ]
           ],
           "sequentialminus": [
            [
             0,
             "#0d0887"
            ],
            [
             0.1111111111111111,
             "#46039f"
            ],
            [
             0.2222222222222222,
             "#7201a8"
            ],
            [
             0.3333333333333333,
             "#9c179e"
            ],
            [
             0.4444444444444444,
             "#bd3786"
            ],
            [
             0.5555555555555556,
             "#d8576b"
            ],
            [
             0.6666666666666666,
             "#ed7953"
            ],
            [
             0.7777777777777778,
             "#fb9f3a"
            ],
            [
             0.8888888888888888,
             "#fdca26"
            ],
            [
             1,
             "#f0f921"
            ]
           ]
          },
          "colorway": [
           "#636efa",
           "#EF553B",
           "#00cc96",
           "#ab63fa",
           "#FFA15A",
           "#19d3f3",
           "#FF6692",
           "#B6E880",
           "#FF97FF",
           "#FECB52"
          ],
          "font": {
           "color": "#2a3f5f"
          },
          "geo": {
           "bgcolor": "white",
           "lakecolor": "white",
           "landcolor": "#E5ECF6",
           "showlakes": true,
           "showland": true,
           "subunitcolor": "white"
          },
          "hoverlabel": {
           "align": "left"
          },
          "hovermode": "closest",
          "mapbox": {
           "style": "light"
          },
          "paper_bgcolor": "white",
          "plot_bgcolor": "#E5ECF6",
          "polar": {
           "angularaxis": {
            "gridcolor": "white",
            "linecolor": "white",
            "ticks": ""
           },
           "bgcolor": "#E5ECF6",
           "radialaxis": {
            "gridcolor": "white",
            "linecolor": "white",
            "ticks": ""
           }
          },
          "scene": {
           "xaxis": {
            "backgroundcolor": "#E5ECF6",
            "gridcolor": "white",
            "gridwidth": 2,
            "linecolor": "white",
            "showbackground": true,
            "ticks": "",
            "zerolinecolor": "white"
           },
           "yaxis": {
            "backgroundcolor": "#E5ECF6",
            "gridcolor": "white",
            "gridwidth": 2,
            "linecolor": "white",
            "showbackground": true,
            "ticks": "",
            "zerolinecolor": "white"
           },
           "zaxis": {
            "backgroundcolor": "#E5ECF6",
            "gridcolor": "white",
            "gridwidth": 2,
            "linecolor": "white",
            "showbackground": true,
            "ticks": "",
            "zerolinecolor": "white"
           }
          },
          "shapedefaults": {
           "line": {
            "color": "#2a3f5f"
           }
          },
          "ternary": {
           "aaxis": {
            "gridcolor": "white",
            "linecolor": "white",
            "ticks": ""
           },
           "baxis": {
            "gridcolor": "white",
            "linecolor": "white",
            "ticks": ""
           },
           "bgcolor": "#E5ECF6",
           "caxis": {
            "gridcolor": "white",
            "linecolor": "white",
            "ticks": ""
           }
          },
          "title": {
           "x": 0.05
          },
          "xaxis": {
           "automargin": true,
           "gridcolor": "white",
           "linecolor": "white",
           "ticks": "",
           "title": {
            "standoff": 15
           },
           "zerolinecolor": "white",
           "zerolinewidth": 2
          },
          "yaxis": {
           "automargin": true,
           "gridcolor": "white",
           "linecolor": "white",
           "ticks": "",
           "title": {
            "standoff": 15
           },
           "zerolinecolor": "white",
           "zerolinewidth": 2
          }
         }
        },
        "width": 1000
       }
      }
     },
     "metadata": {}
    }
   ],
   "metadata": {}
  },
  {
   "cell_type": "code",
   "execution_count": null,
   "source": [
    "# look at acq_func manifold\n",
    "fig = go.Figure(data=[go.Surface(z=pred_var, x=test_grid[:,0], y=test_grid[:,1])])\n",
    "fig.add_trace(go.Scatter3d(x=test_grid[pi[1], 0].numpy(), y=test_grid[pi[0], 1].numpy(), z=[PI_acq_shape[pi[0], pi[1]]], mode='markers', name='max(pi)'))\n",
    "fig.update_layout( width=1000, height=600,\n",
    "                  margin=dict(r=20, l=10, b=10, t=10),\n",
    "                  legend=dict(orientation=\"h\", yanchor=\"bottom\", y=1.02, xanchor=\"right\",x=1),\n",
    "                  scene=dict(\n",
    "                    xaxis_title=\"RTA temperature (C)\",\n",
    "                    yaxis_title=\"RTA time (sec)\",\n",
    "                    zaxis_title='Acquisition Function')\n",
    "                  )\n",
    "fig.show()"
   ],
   "outputs": [
    {
     "output_type": "display_data",
     "data": {
      "application/vnd.plotly.v1+json": {
       "config": {
        "plotlyServerURL": "https://plot.ly"
       },
       "data": [
        {
         "type": "surface",
         "x": [
          337.5,
          350.4310302734375,
          363.362060546875,
          376.2930908203125,
          389.22412109375,
          402.1551513671875,
          415.0862121582031,
          428.0172424316406,
          440.9482727050781,
          453.8793029785156,
          466.8103332519531,
          479.7413635253906,
          492.67242431640625,
          505.60345458984375,
          518.5344848632812,
          531.4655151367188,
          544.3965454101562,
          557.3275756835938,
          570.2586059570312,
          583.189697265625,
          596.1207275390625,
          609.0517578125,
          621.9827880859375,
          634.913818359375,
          647.8448486328125,
          660.77587890625,
          673.7069091796875,
          686.637939453125,
          699.5689697265625,
          712.5
         ],
         "y": [
          9.64285659790039,
          30.701967239379883,
          51.761077880859375,
          72.8201904296875,
          93.87930297851562,
          114.93841552734375,
          135.9975128173828,
          157.05662536621094,
          178.11573791503906,
          199.1748504638672,
          220.2339630126953,
          241.29306030273438,
          262.3521728515625,
          283.4112854003906,
          304.47039794921875,
          325.5295104980469,
          346.58868408203125,
          367.6477966308594,
          388.7069091796875,
          409.7659912109375,
          430.82513427734375,
          451.88421630859375,
          472.943359375,
          494.00244140625,
          515.0615844726562,
          536.1206665039062,
          557.1798095703125,
          578.2388916015625,
          599.2980346679688,
          620.3571166992188
         ],
         "z": [
          [
           14.069831848144531,
           5.071098327636719,
           4.1682281494140625,
           4.735038757324219,
           4.741279602050781,
           6.541938781738281,
           16.788711547851562,
           36.6161994934082,
           55.24470520019531,
           61.6597785949707,
           52.16801071166992,
           30.54629135131836,
           10.89263916015625,
           9.627189636230469,
           26.754669189453125,
           46.537532806396484,
           57.38640213012695,
           57.350955963134766,
           45.43796920776367,
           24.35100555419922,
           8.518577575683594,
           12.954620361328125,
           34.44646072387695,
           56.115665435791016,
           65.96756744384766,
           61.076107025146484,
           42.670040130615234,
           19.16039276123047,
           7.458778381347656,
           17.827980041503906
          ],
          [
           10.891807556152344,
           2.3962478637695312,
           2.3756942749023438,
           3.1703872680664062,
           2.5435562133789062,
           3.4759902954101562,
           13.397804260253906,
           33.46086120605469,
           52.47063446044922,
           59.34870910644531,
           50.22599411010742,
           28.507465362548828,
           8.436302185058594,
           6.68731689453125,
           22.78036880493164,
           40.79729080200195,
           50.563568115234375,
           51.41496276855469,
           41.3769416809082,
           21.382469177246094,
           5.7383270263671875,
           10.494346618652344,
           32.81298828125,
           55.32229232788086,
           65.56050109863281,
           60.47199249267578,
           41.32915496826172,
           16.87900161743164,
           4.708946228027344,
           15.492820739746094
          ],
          [
           9.752830505371094,
           1.8592910766601562,
           3.0124588012695312,
           4.208198547363281,
           2.6748428344726562,
           2.535614013671875,
           11.884811401367188,
           31.174209594726562,
           49.34086990356445,
           56.57929992675781,
           49.32810974121094,
           29.95798110961914,
           11.351577758789062,
           8.882171630859375,
           21.498035430908203,
           34.79198455810547,
           41.899681091308594,
           44.18034362792969,
           38.266849517822266,
           22.199607849121094,
           8.592041015625,
           13.42852783203125,
           34.754234313964844,
           56.24785614013672,
           66.02799224853516,
           61.160884857177734,
           42.85732650756836,
           19.47881317138672,
           7.842803955078125,
           18.15384292602539
          ],
          [
           9.748580932617188,
           2.21929931640625,
           4.6785888671875,
           6.4470367431640625,
           3.8373794555664062,
           2.5986557006835938,
           11.29815673828125,
           28.899810791015625,
           45.058448791503906,
           52.65058898925781,
           48.837501525878906,
           34.17236328125,
           18.745620727539062,
           15.329097747802734,
           22.36223602294922,
           28.484634399414062,
           31.69131851196289,
           35.88424301147461,
           35.975730895996094,
           26.25000762939453,
           16.296321868896484,
           21.03531265258789,
           39.80242919921875,
           58.670143127441406,
           67.25786590576172,
           62.97762680053711,
           46.88749694824219,
           26.336368560791016,
           16.10763168334961,
           25.171642303466797
          ],
          [
           10.308395385742188,
           2.7647781372070312,
           6.449195861816406,
           8.881294250488281,
           5.20367431640625,
           2.9833602905273438,
           10.908660888671875,
           25.884418487548828,
           38.966697692871094,
           46.949012756347656,
           47.90902328491211,
           39.764923095703125,
           28.742630004882812,
           24.284358978271484,
           24.559349060058594,
           22.268203735351562,
           21.018962860107422,
           27.372180938720703,
           34.41060256958008,
           32.36040115356445,
           27.03011703491211,
           31.57525634765625,
           46.8114013671875,
           62.040077209472656,
           68.97144317626953,
           65.51045227050781,
           52.50630187988281,
           35.897396087646484,
           27.630325317382812,
           34.95576477050781
          ],
          [
           11.493186950683594,
           3.6688079833984375,
           8.286064147949219,
           11.314971923828125,
           6.7545166015625,
           3.728912353515625,
           10.529708862304688,
           21.88304901123047,
           30.994667053222656,
           39.374515533447266,
           45.9283447265625,
           45.25892639160156,
           39.211647033691406,
           33.861671447753906,
           27.4837646484375,
           17.119426727294922,
           11.70465087890625,
           20.084911346435547,
           33.728092193603516,
           39.241188049316406,
           38.625396728515625,
           42.935203552246094,
           54.37824249267578,
           65.68345642089844,
           70.82593536376953,
           68.2527084350586,
           58.590179443359375,
           46.249176025390625,
           40.10680389404297,
           45.54975128173828
          ],
          [
           13.719314575195312,
           5.617156982421875,
           10.731719970703125,
           14.10842514038086,
           8.933448791503906,
           5.235557556152344,
           10.372177124023438,
           17.285663604736328,
           21.931034088134766,
           30.6558837890625,
           42.89794921875,
           49.645225524902344,
           48.48332977294922,
           42.66794967651367,
           30.991363525390625,
           14.380905151367188,
           5.839241027832031,
           15.689990997314453,
           34.33998107910156,
           45.92445755004883,
           49.26953887939453,
           53.30723190307617,
           61.29339599609375,
           69.01708221435547,
           72.52433776855469,
           70.76521301269531,
           64.16441345214844,
           55.734230041503906,
           51.538028717041016,
           55.25628662109375
          ],
          [
           17.094745635986328,
           8.953025817871094,
           14.115482330322266,
           17.470870971679688,
           11.899078369140625,
           7.5648193359375,
           10.592636108398438,
           12.911361694335938,
           13.334724426269531,
           22.33395767211914,
           39.54597091674805,
           52.664955139160156,
           55.736778259277344,
           50.06943893432617,
           35.291168212890625,
           15.218040466308594,
           5.02783203125,
           15.46994400024414,
           36.683929443359375,
           51.933258056640625,
           57.913856506347656,
           61.610328674316406,
           66.8250732421875,
           71.68634033203125,
           73.88554382324219,
           72.7797622680664,
           68.63408660888672,
           63.339561462402344,
           60.70436477661133,
           63.03949737548828
          ],
          [
           20.901187896728516,
           12.997978210449219,
           17.895267486572266,
           20.881916046142578,
           15.005180358886719,
           10.016098022460938,
           10.959526062011719,
           9.631240844726562,
           7.065147399902344,
           16.33167266845703,
           37.06937789916992,
           54.7181396484375,
           60.961246490478516,
           56.059688568115234,
           40.59772872924805,
           20.040958404541016,
           9.721298217773438,
           19.77019500732422,
           40.90604782104492,
           57.17822265625,
           64.29318237304688,
           67.54750061035156,
           70.7643051147461,
           73.58805084228516,
           74.85629272460938,
           74.21715545654297,
           71.82337188720703,
           68.76631927490234,
           67.24468994140625,
           68.59303283691406
          ],
          [
           23.70614242553711,
           16.146709442138672,
           20.685802459716797,
           23.126583099365234,
           16.95688247680664,
           11.378120422363281,
           10.948738098144531,
           8.058502197265625,
           4.624794006347656,
           14.26226806640625,
           36.62360382080078,
           56.503990173339844,
           64.62979125976562,
           60.92363357543945,
           46.813804626464844,
           28.235519409179688,
           18.998512268066406,
           27.81354522705078,
           46.6700439453125,
           61.7307014465332,
           68.67631530761719,
           71.38935852050781,
           73.28699493408203,
           74.80514526367188,
           75.4781494140625,
           75.13849639892578,
           73.8676986694336,
           72.24490356445312,
           71.43714904785156,
           72.15290069580078
          ],
          [
           24.135997772216797,
           16.756656646728516,
           21.028919219970703,
           22.9683837890625,
           16.571216583251953,
           10.71270751953125,
           10.209846496582031,
           8.452491760253906,
           6.625053405761719,
           16.800872802734375,
           38.81715393066406,
           58.61473083496094,
           67.31968688964844,
           64.9398193359375,
           53.45335388183594,
           38.36226272583008,
           30.919544219970703,
           37.98634338378906,
           53.218894958496094,
           65.64404296875,
           71.54938507080078,
           73.6658935546875,
           74.75017547607422,
           75.5091552734375,
           75.83811950683594,
           75.67216491699219,
           75.05193328857422,
           74.25991821289062,
           73.86572265625,
           74.21504211425781
          ],
          [
           21.815845489501953,
           14.269180297851562,
           18.39547348022461,
           20.000667572021484,
           13.598777770996094,
           8.086280822753906,
           9.011100769042969,
           10.8065185546875,
           12.623985290527344,
           23.437515258789062,
           43.466278076171875,
           61.28289031982422,
           69.46009826660156,
           68.25179290771484,
           59.8179817199707,
           48.695892333984375,
           43.246429443359375,
           48.43267059326172,
           59.642578125,
           68.90206909179688,
           73.38481903076172,
           74.9175796508789,
           75.52347564697266,
           75.8787841796875,
           76.02714538574219,
           75.9526138305664,
           75.67430877685547,
           75.31893920898438,
           75.14205932617188,
           75.29878997802734
          ],
          [
           17.833072662353516,
           9.790473937988281,
           13.737495422363281,
           15.10269546508789,
           9.052970886230469,
           4.722801208496094,
           8.292404174804688,
           14.981842041015625,
           21.383075714111328,
           32.72356414794922,
           49.71245574951172,
           64.361572265625,
           71.26042938232422,
           70.89421844482422,
           65.27749633789062,
           57.801753997802734,
           54.15721893310547,
           57.64558029174805,
           65.1874771118164,
           71.46524047851562,
           74.54090118408203,
           75.56629180908203,
           75.89826202392578,
           76.0555419921875,
           76.1174545288086,
           76.08670043945312,
           75.97188568115234,
           75.82528686523438,
           75.7523193359375,
           75.81697845458984
          ],
          [
           14.366859436035156,
           5.723274230957031,
           9.217575073242188,
           10.215980529785156,
           4.867042541503906,
           2.4979629516601562,
           9.269943237304688,
           20.768939971923828,
           31.365951538085938,
           42.852787017822266,
           56.40221405029297,
           67.48223876953125,
           72.76747131347656,
           72.87944030761719,
           69.47713470458984,
           64.88084411621094,
           62.647987365722656,
           64.80018615722656,
           69.44876861572266,
           73.3367919921875,
           75.25692749023438,
           75.8887939453125,
           76.0661392211914,
           76.13277435302734,
           76.15679168701172,
           76.14513397216797,
           76.1015853881836,
           76.04598999023438,
           76.01831817626953,
           76.04283905029297
          ],
          [
           13.691448211669922,
           4.65936279296875,
           7.2751312255859375,
           7.5809173583984375,
           3.1186904907226562,
           3.1248779296875,
           12.857181549072266,
           27.86126708984375,
           41.21747589111328,
           52.26599884033203,
           62.5112419128418,
           70.26463317871094,
           73.9637680053711,
           74.260986328125,
           72.38447570800781,
           69.79518127441406,
           68.53993225097656,
           69.75859832763672,
           72.3869400024414,
           74.59193420410156,
           75.6869125366211,
           76.04503631591797,
           76.13636779785156,
           76.1637191772461,
           76.17243957519531,
           76.16838836669922,
           76.1531982421875,
           76.1338119506836,
           76.1241683959961,
           76.1327133178711
          ],
          [
           17.13571548461914,
           8.1932373046875,
           9.562187194824219,
           8.843833923339844,
           5.238151550292969,
           7.4853057861328125,
           19.248680114746094,
           35.805206298828125,
           50.030738830566406,
           60.014400482177734,
           67.41590118408203,
           72.46623992919922,
           74.84169006347656,
           75.14457702636719,
           74.20240783691406,
           72.8646011352539,
           72.21648406982422,
           72.85009002685547,
           74.21439361572266,
           75.36116790771484,
           75.93286895751953,
           76.11940002441406,
           76.1641616821289,
           76.17514038085938,
           76.17813110351562,
           76.17684173583984,
           76.1719741821289,
           76.16576385498047,
           76.16266632080078,
           76.1654052734375
          ],
          [
           24.55066680908203,
           16.278820037841797,
           16.298110961914062,
           14.45144271850586,
           11.52655029296875,
           15.373401641845703,
           27.849422454833984,
           44.00198745727539,
           57.37002182006836,
           65.80058288574219,
           70.94097900390625,
           74.02593231201172,
           75.43125915527344,
           75.6624984741211,
           75.23242950439453,
           74.59818267822266,
           74.29067993164062,
           74.59324645996094,
           75.24370574951172,
           75.79115295410156,
           76.06483459472656,
           76.15409088134766,
           76.17473602294922,
           76.17904663085938,
           76.1800308227539,
           76.17965698242188,
           76.17822265625,
           76.1763916015625,
           76.17547607421875,
           76.17628479003906
          ],
          [
           34.48654556274414,
           27.37380599975586,
           26.282283782958984,
           23.54497528076172,
           21.102481842041016,
           25.638282775878906,
           37.50198745727539,
           51.77958297729492,
           63.14112091064453,
           69.791748046875,
           73.23890686035156,
           75.02275848388672,
           75.79251098632812,
           75.94068908691406,
           75.76268005371094,
           75.48670196533203,
           75.35260772705078,
           75.48533630371094,
           75.7702865600586,
           76.01029205322266,
           76.13053131103516,
           76.16976928710938,
           76.17864990234375,
           76.1802978515625,
           76.18061065673828,
           76.18051147460938,
           76.18012237548828,
           76.17962646484375,
           76.17938232421875,
           76.17960357666016
          ],
          [
           44.853519439697266,
           39.14841079711914,
           37.441741943359375,
           34.32343673706055,
           32.22161865234375,
           36.56706237792969,
           46.83445739746094,
           58.50086212158203,
           67.42886352539062,
           72.36715698242188,
           74.61202239990234,
           75.60124206542969,
           75.99455261230469,
           76.07776641845703,
           76.0112533569336,
           75.90103912353516,
           75.8472900390625,
           75.90078735351562,
           76.0155029296875,
           76.11217498779297,
           76.16068267822266,
           76.17652893066406,
           76.18006896972656,
           76.18067932128906,
           76.18077850341797,
           76.18075561523438,
           76.18065643310547,
           76.18053436279297,
           76.18047332763672,
           76.18052673339844
          ],
          [
           53.64862823486328,
           49.29444885253906,
           47.55097198486328,
           44.64347457885742,
           42.79036331176758,
           46.31775665283203,
           54.5632209777832,
           63.65190124511719,
           70.37617492675781,
           73.92195129394531,
           75.36888122558594,
           75.90756225585938,
           76.0978012084961,
           76.13981628417969,
           76.11756134033203,
           76.0771713256836,
           76.05736541748047,
           76.07718658447266,
           76.11962890625,
           76.1554183959961,
           76.17339324951172,
           76.17926788330078,
           76.18057250976562,
           76.1807861328125,
           76.18081665039062,
           76.18081665039062,
           76.18079376220703,
           76.1807632446289,
           76.18074798583984,
           76.1807632446289
          ],
          [
           59.410240173339844,
           56.06743621826172,
           54.7929573059082,
           52.58772277832031,
           50.8747444152832,
           53.27233123779297,
           59.67155838012695,
           66.87934875488281,
           72.12128448486328,
           74.7684097290039,
           75.74990844726562,
           76.05545043945312,
           76.14603424072266,
           76.16566467285156,
           76.15911102294922,
           76.1455307006836,
           76.13882446289062,
           76.14556884765625,
           76.1600112915039,
           76.17218017578125,
           76.17829895019531,
           76.18030548095703,
           76.18074798583984,
           76.18081665039062,
           76.18083190917969,
           76.18082427978516,
           76.18082427978516,
           76.18081665039062,
           76.18081665039062,
           76.18081665039062
          ],
          [
           61.33251190185547,
           58.45551681518555,
           58.01740264892578,
           56.82129669189453,
           55.05769729614258,
           56.258907318115234,
           61.479549407958984,
           67.98731994628906,
           72.77889251708984,
           75.11631774902344,
           75.91220092773438,
           76.11891174316406,
           76.16647338867188,
           76.17556762695312,
           76.17396545410156,
           76.16978454589844,
           76.16769409179688,
           76.16980743408203,
           76.17431640625,
           76.1781234741211,
           76.18003845214844,
           76.18067169189453,
           76.1808090209961,
           76.18083190917969,
           76.18083190917969,
           76.18083190917969,
           76.18083190917969,
           76.18083190917969,
           76.18083190917969,
           76.18083190917969
          ],
          [
           59.19041442871094,
           56.128456115722656,
           56.77149963378906,
           56.727386474609375,
           54.621826171875,
           54.67936325073242,
           59.679771423339844,
           66.93663787841797,
           72.45277404785156,
           75.09599304199219,
           75.94638061523438,
           76.13984680175781,
           76.17401885986328,
           76.17903900146484,
           76.17882537841797,
           76.17765045166016,
           76.17705535888672,
           76.17766571044922,
           76.17896270751953,
           76.1800537109375,
           76.18060302734375,
           76.1807861328125,
           76.18082427978516,
           76.18083190917969,
           76.18083190917969,
           76.18083190917969,
           76.18083190917969,
           76.18083190917969,
           76.18083190917969,
           76.18083190917969
          ],
          [
           53.275604248046875,
           49.384246826171875,
           51.27385711669922,
           52.4256591796875,
           49.628997802734375,
           48.61412048339844,
           54.41046905517578,
           63.88525390625,
           71.2730484008789,
           74.7957763671875,
           75.90208435058594,
           76.13964080810547,
           76.17594909667969,
           76.18011474609375,
           76.18028259277344,
           76.17999267578125,
           76.1798324584961,
           76.17999267578125,
           76.18033599853516,
           76.18062591552734,
           76.18077087402344,
           76.18081665039062,
           76.18083190917969,
           76.18083190917969,
           76.18083190917969,
           76.18083190917969,
           76.18083190917969,
           76.18083190917969,
           76.18083190917969,
           76.18083190917969
          ],
          [
           44.438819885253906,
           39.199241638183594,
           42.43386459350586,
           44.770774841308594,
           40.96626663208008,
           38.93574142456055,
           46.374359130859375,
           59.26842498779297,
           69.44718170166016,
           74.29798889160156,
           75.80988311767578,
           76.12894439697266,
           76.17555236816406,
           76.18036651611328,
           76.1806869506836,
           76.18062591552734,
           76.18058776855469,
           76.18062591552734,
           76.18070983886719,
           76.18077850341797,
           76.18081665039062,
           76.18083190917969,
           76.18083190917969,
           76.18083190917969,
           76.18083190917969,
           76.18083190917969,
           76.18083190917969,
           76.18083190917969,
           76.18083190917969,
           76.18083190917969
          ],
          [
           34.151954650878906,
           27.290191650390625,
           31.865955352783203,
           35.316436767578125,
           30.327133178710938,
           27.352519989013672,
           36.91255187988281,
           53.857940673828125,
           67.29769134521484,
           73.70320129394531,
           75.69532775878906,
           76.11381530761719,
           76.17427825927734,
           76.18035888671875,
           76.18077850341797,
           76.1807861328125,
           76.18077850341797,
           76.1807861328125,
           76.18080139160156,
           76.18082427978516,
           76.18083190917969,
           76.18083190917969,
           76.18083190917969,
           76.18083190917969,
           76.18083190917969,
           76.18083190917969,
           76.18083190917969,
           76.18083190917969,
           76.18083190917969,
           76.18083190917969
          ],
          [
           24.40996551513672,
           15.987991333007812,
           21.742015838623047,
           26.136249542236328,
           20.012264251708984,
           16.23523712158203,
           27.894329071044922,
           48.714195251464844,
           65.2523422241211,
           73.13489532470703,
           75.58479309082031,
           76.09880065917969,
           76.1728744506836,
           76.18028259277344,
           76.18080139160156,
           76.18082427978516,
           76.18082427978516,
           76.18082427978516,
           76.18082427978516,
           76.18083190917969,
           76.18083190917969,
           76.18083190917969,
           76.18083190917969,
           76.18083190917969,
           76.18083190917969,
           76.18083190917969,
           76.18083190917969,
           76.18083190917969,
           76.18083190917969,
           76.18083190917969
          ],
          [
           17.351604461669922,
           7.791419982910156,
           14.368778228759766,
           19.410614013671875,
           12.458045959472656,
           8.127098083496094,
           21.33721160888672,
           44.97914123535156,
           63.76704788208008,
           72.72174072265625,
           75.50420379638672,
           76.08777618408203,
           76.17182159423828,
           76.18021392822266,
           76.18080139160156,
           76.18083190917969,
           76.18083190917969,
           76.18083190917969,
           76.18083190917969,
           76.18083190917969,
           76.18083190917969,
           76.18083190917969,
           76.18083190917969,
           76.18083190917969,
           76.18083190917969,
           76.18083190917969,
           76.18083190917969,
           76.18083190917969,
           76.18083190917969,
           76.18083190917969
          ],
          [
           14.664886474609375,
           4.6697540283203125,
           11.557838439941406,
           16.841876983642578,
           9.571487426757812,
           5.0312347412109375,
           18.835834503173828,
           43.55530548095703,
           63.201171875,
           72.56439208984375,
           75.47351837158203,
           76.08357238769531,
           76.17142486572266,
           76.18019104003906,
           76.18080139160156,
           76.18083190917969,
           76.18083190917969,
           76.18083190917969,
           76.18083190917969,
           76.18083190917969,
           76.18083190917969,
           76.18083190917969,
           76.18083190917969,
           76.18083190917969,
           76.18083190917969,
           76.18083190917969,
           76.18083190917969,
           76.18083190917969,
           76.18083190917969,
           76.18083190917969
          ],
          [
           17.029621124267578,
           7.4186859130859375,
           14.04296875,
           19.124713897705078,
           12.132003784179688,
           7.7635955810546875,
           21.037155151367188,
           44.808128356933594,
           63.700016021728516,
           72.70352935791016,
           75.50077056884766,
           76.08732604980469,
           76.17178344726562,
           76.18021392822266,
           76.18080139160156,
           76.18083190917969,
           76.18083190917969,
           76.18083190917969,
           76.18083190917969,
           76.18083190917969,
           76.18083190917969,
           76.18083190917969,
           76.18083190917969,
           76.18083190917969,
           76.18083190917969,
           76.18083190917969,
           76.18083190917969,
           76.18083190917969,
           76.18083190917969,
           76.18083190917969
          ]
         ]
        },
        {
         "mode": "markers",
         "name": "max(pi)",
         "type": "scatter3d",
         "x": [
          415.0862121582031
         ],
         "y": [
          114.93841552734375
         ],
         "z": [
          0.5610659718513489
         ]
        }
       ],
       "layout": {
        "height": 600,
        "legend": {
         "orientation": "h",
         "x": 1,
         "xanchor": "right",
         "y": 1.02,
         "yanchor": "bottom"
        },
        "margin": {
         "b": 10,
         "l": 10,
         "r": 20,
         "t": 10
        },
        "scene": {
         "xaxis": {
          "title": {
           "text": "RTA temperature (C)"
          }
         },
         "yaxis": {
          "title": {
           "text": "RTA time (sec)"
          }
         },
         "zaxis": {
          "title": {
           "text": "Acquisition Function"
          }
         }
        },
        "template": {
         "data": {
          "bar": [
           {
            "error_x": {
             "color": "#2a3f5f"
            },
            "error_y": {
             "color": "#2a3f5f"
            },
            "marker": {
             "line": {
              "color": "#E5ECF6",
              "width": 0.5
             }
            },
            "type": "bar"
           }
          ],
          "barpolar": [
           {
            "marker": {
             "line": {
              "color": "#E5ECF6",
              "width": 0.5
             }
            },
            "type": "barpolar"
           }
          ],
          "carpet": [
           {
            "aaxis": {
             "endlinecolor": "#2a3f5f",
             "gridcolor": "white",
             "linecolor": "white",
             "minorgridcolor": "white",
             "startlinecolor": "#2a3f5f"
            },
            "baxis": {
             "endlinecolor": "#2a3f5f",
             "gridcolor": "white",
             "linecolor": "white",
             "minorgridcolor": "white",
             "startlinecolor": "#2a3f5f"
            },
            "type": "carpet"
           }
          ],
          "choropleth": [
           {
            "colorbar": {
             "outlinewidth": 0,
             "ticks": ""
            },
            "type": "choropleth"
           }
          ],
          "contour": [
           {
            "colorbar": {
             "outlinewidth": 0,
             "ticks": ""
            },
            "colorscale": [
             [
              0,
              "#0d0887"
             ],
             [
              0.1111111111111111,
              "#46039f"
             ],
             [
              0.2222222222222222,
              "#7201a8"
             ],
             [
              0.3333333333333333,
              "#9c179e"
             ],
             [
              0.4444444444444444,
              "#bd3786"
             ],
             [
              0.5555555555555556,
              "#d8576b"
             ],
             [
              0.6666666666666666,
              "#ed7953"
             ],
             [
              0.7777777777777778,
              "#fb9f3a"
             ],
             [
              0.8888888888888888,
              "#fdca26"
             ],
             [
              1,
              "#f0f921"
             ]
            ],
            "type": "contour"
           }
          ],
          "contourcarpet": [
           {
            "colorbar": {
             "outlinewidth": 0,
             "ticks": ""
            },
            "type": "contourcarpet"
           }
          ],
          "heatmap": [
           {
            "colorbar": {
             "outlinewidth": 0,
             "ticks": ""
            },
            "colorscale": [
             [
              0,
              "#0d0887"
             ],
             [
              0.1111111111111111,
              "#46039f"
             ],
             [
              0.2222222222222222,
              "#7201a8"
             ],
             [
              0.3333333333333333,
              "#9c179e"
             ],
             [
              0.4444444444444444,
              "#bd3786"
             ],
             [
              0.5555555555555556,
              "#d8576b"
             ],
             [
              0.6666666666666666,
              "#ed7953"
             ],
             [
              0.7777777777777778,
              "#fb9f3a"
             ],
             [
              0.8888888888888888,
              "#fdca26"
             ],
             [
              1,
              "#f0f921"
             ]
            ],
            "type": "heatmap"
           }
          ],
          "heatmapgl": [
           {
            "colorbar": {
             "outlinewidth": 0,
             "ticks": ""
            },
            "colorscale": [
             [
              0,
              "#0d0887"
             ],
             [
              0.1111111111111111,
              "#46039f"
             ],
             [
              0.2222222222222222,
              "#7201a8"
             ],
             [
              0.3333333333333333,
              "#9c179e"
             ],
             [
              0.4444444444444444,
              "#bd3786"
             ],
             [
              0.5555555555555556,
              "#d8576b"
             ],
             [
              0.6666666666666666,
              "#ed7953"
             ],
             [
              0.7777777777777778,
              "#fb9f3a"
             ],
             [
              0.8888888888888888,
              "#fdca26"
             ],
             [
              1,
              "#f0f921"
             ]
            ],
            "type": "heatmapgl"
           }
          ],
          "histogram": [
           {
            "marker": {
             "colorbar": {
              "outlinewidth": 0,
              "ticks": ""
             }
            },
            "type": "histogram"
           }
          ],
          "histogram2d": [
           {
            "colorbar": {
             "outlinewidth": 0,
             "ticks": ""
            },
            "colorscale": [
             [
              0,
              "#0d0887"
             ],
             [
              0.1111111111111111,
              "#46039f"
             ],
             [
              0.2222222222222222,
              "#7201a8"
             ],
             [
              0.3333333333333333,
              "#9c179e"
             ],
             [
              0.4444444444444444,
              "#bd3786"
             ],
             [
              0.5555555555555556,
              "#d8576b"
             ],
             [
              0.6666666666666666,
              "#ed7953"
             ],
             [
              0.7777777777777778,
              "#fb9f3a"
             ],
             [
              0.8888888888888888,
              "#fdca26"
             ],
             [
              1,
              "#f0f921"
             ]
            ],
            "type": "histogram2d"
           }
          ],
          "histogram2dcontour": [
           {
            "colorbar": {
             "outlinewidth": 0,
             "ticks": ""
            },
            "colorscale": [
             [
              0,
              "#0d0887"
             ],
             [
              0.1111111111111111,
              "#46039f"
             ],
             [
              0.2222222222222222,
              "#7201a8"
             ],
             [
              0.3333333333333333,
              "#9c179e"
             ],
             [
              0.4444444444444444,
              "#bd3786"
             ],
             [
              0.5555555555555556,
              "#d8576b"
             ],
             [
              0.6666666666666666,
              "#ed7953"
             ],
             [
              0.7777777777777778,
              "#fb9f3a"
             ],
             [
              0.8888888888888888,
              "#fdca26"
             ],
             [
              1,
              "#f0f921"
             ]
            ],
            "type": "histogram2dcontour"
           }
          ],
          "mesh3d": [
           {
            "colorbar": {
             "outlinewidth": 0,
             "ticks": ""
            },
            "type": "mesh3d"
           }
          ],
          "parcoords": [
           {
            "line": {
             "colorbar": {
              "outlinewidth": 0,
              "ticks": ""
             }
            },
            "type": "parcoords"
           }
          ],
          "pie": [
           {
            "automargin": true,
            "type": "pie"
           }
          ],
          "scatter": [
           {
            "marker": {
             "colorbar": {
              "outlinewidth": 0,
              "ticks": ""
             }
            },
            "type": "scatter"
           }
          ],
          "scatter3d": [
           {
            "line": {
             "colorbar": {
              "outlinewidth": 0,
              "ticks": ""
             }
            },
            "marker": {
             "colorbar": {
              "outlinewidth": 0,
              "ticks": ""
             }
            },
            "type": "scatter3d"
           }
          ],
          "scattercarpet": [
           {
            "marker": {
             "colorbar": {
              "outlinewidth": 0,
              "ticks": ""
             }
            },
            "type": "scattercarpet"
           }
          ],
          "scattergeo": [
           {
            "marker": {
             "colorbar": {
              "outlinewidth": 0,
              "ticks": ""
             }
            },
            "type": "scattergeo"
           }
          ],
          "scattergl": [
           {
            "marker": {
             "colorbar": {
              "outlinewidth": 0,
              "ticks": ""
             }
            },
            "type": "scattergl"
           }
          ],
          "scattermapbox": [
           {
            "marker": {
             "colorbar": {
              "outlinewidth": 0,
              "ticks": ""
             }
            },
            "type": "scattermapbox"
           }
          ],
          "scatterpolar": [
           {
            "marker": {
             "colorbar": {
              "outlinewidth": 0,
              "ticks": ""
             }
            },
            "type": "scatterpolar"
           }
          ],
          "scatterpolargl": [
           {
            "marker": {
             "colorbar": {
              "outlinewidth": 0,
              "ticks": ""
             }
            },
            "type": "scatterpolargl"
           }
          ],
          "scatterternary": [
           {
            "marker": {
             "colorbar": {
              "outlinewidth": 0,
              "ticks": ""
             }
            },
            "type": "scatterternary"
           }
          ],
          "surface": [
           {
            "colorbar": {
             "outlinewidth": 0,
             "ticks": ""
            },
            "colorscale": [
             [
              0,
              "#0d0887"
             ],
             [
              0.1111111111111111,
              "#46039f"
             ],
             [
              0.2222222222222222,
              "#7201a8"
             ],
             [
              0.3333333333333333,
              "#9c179e"
             ],
             [
              0.4444444444444444,
              "#bd3786"
             ],
             [
              0.5555555555555556,
              "#d8576b"
             ],
             [
              0.6666666666666666,
              "#ed7953"
             ],
             [
              0.7777777777777778,
              "#fb9f3a"
             ],
             [
              0.8888888888888888,
              "#fdca26"
             ],
             [
              1,
              "#f0f921"
             ]
            ],
            "type": "surface"
           }
          ],
          "table": [
           {
            "cells": {
             "fill": {
              "color": "#EBF0F8"
             },
             "line": {
              "color": "white"
             }
            },
            "header": {
             "fill": {
              "color": "#C8D4E3"
             },
             "line": {
              "color": "white"
             }
            },
            "type": "table"
           }
          ]
         },
         "layout": {
          "annotationdefaults": {
           "arrowcolor": "#2a3f5f",
           "arrowhead": 0,
           "arrowwidth": 1
          },
          "autotypenumbers": "strict",
          "coloraxis": {
           "colorbar": {
            "outlinewidth": 0,
            "ticks": ""
           }
          },
          "colorscale": {
           "diverging": [
            [
             0,
             "#8e0152"
            ],
            [
             0.1,
             "#c51b7d"
            ],
            [
             0.2,
             "#de77ae"
            ],
            [
             0.3,
             "#f1b6da"
            ],
            [
             0.4,
             "#fde0ef"
            ],
            [
             0.5,
             "#f7f7f7"
            ],
            [
             0.6,
             "#e6f5d0"
            ],
            [
             0.7,
             "#b8e186"
            ],
            [
             0.8,
             "#7fbc41"
            ],
            [
             0.9,
             "#4d9221"
            ],
            [
             1,
             "#276419"
            ]
           ],
           "sequential": [
            [
             0,
             "#0d0887"
            ],
            [
             0.1111111111111111,
             "#46039f"
            ],
            [
             0.2222222222222222,
             "#7201a8"
            ],
            [
             0.3333333333333333,
             "#9c179e"
            ],
            [
             0.4444444444444444,
             "#bd3786"
            ],
            [
             0.5555555555555556,
             "#d8576b"
            ],
            [
             0.6666666666666666,
             "#ed7953"
            ],
            [
             0.7777777777777778,
             "#fb9f3a"
            ],
            [
             0.8888888888888888,
             "#fdca26"
            ],
            [
             1,
             "#f0f921"
            ]
           ],
           "sequentialminus": [
            [
             0,
             "#0d0887"
            ],
            [
             0.1111111111111111,
             "#46039f"
            ],
            [
             0.2222222222222222,
             "#7201a8"
            ],
            [
             0.3333333333333333,
             "#9c179e"
            ],
            [
             0.4444444444444444,
             "#bd3786"
            ],
            [
             0.5555555555555556,
             "#d8576b"
            ],
            [
             0.6666666666666666,
             "#ed7953"
            ],
            [
             0.7777777777777778,
             "#fb9f3a"
            ],
            [
             0.8888888888888888,
             "#fdca26"
            ],
            [
             1,
             "#f0f921"
            ]
           ]
          },
          "colorway": [
           "#636efa",
           "#EF553B",
           "#00cc96",
           "#ab63fa",
           "#FFA15A",
           "#19d3f3",
           "#FF6692",
           "#B6E880",
           "#FF97FF",
           "#FECB52"
          ],
          "font": {
           "color": "#2a3f5f"
          },
          "geo": {
           "bgcolor": "white",
           "lakecolor": "white",
           "landcolor": "#E5ECF6",
           "showlakes": true,
           "showland": true,
           "subunitcolor": "white"
          },
          "hoverlabel": {
           "align": "left"
          },
          "hovermode": "closest",
          "mapbox": {
           "style": "light"
          },
          "paper_bgcolor": "white",
          "plot_bgcolor": "#E5ECF6",
          "polar": {
           "angularaxis": {
            "gridcolor": "white",
            "linecolor": "white",
            "ticks": ""
           },
           "bgcolor": "#E5ECF6",
           "radialaxis": {
            "gridcolor": "white",
            "linecolor": "white",
            "ticks": ""
           }
          },
          "scene": {
           "xaxis": {
            "backgroundcolor": "#E5ECF6",
            "gridcolor": "white",
            "gridwidth": 2,
            "linecolor": "white",
            "showbackground": true,
            "ticks": "",
            "zerolinecolor": "white"
           },
           "yaxis": {
            "backgroundcolor": "#E5ECF6",
            "gridcolor": "white",
            "gridwidth": 2,
            "linecolor": "white",
            "showbackground": true,
            "ticks": "",
            "zerolinecolor": "white"
           },
           "zaxis": {
            "backgroundcolor": "#E5ECF6",
            "gridcolor": "white",
            "gridwidth": 2,
            "linecolor": "white",
            "showbackground": true,
            "ticks": "",
            "zerolinecolor": "white"
           }
          },
          "shapedefaults": {
           "line": {
            "color": "#2a3f5f"
           }
          },
          "ternary": {
           "aaxis": {
            "gridcolor": "white",
            "linecolor": "white",
            "ticks": ""
           },
           "baxis": {
            "gridcolor": "white",
            "linecolor": "white",
            "ticks": ""
           },
           "bgcolor": "#E5ECF6",
           "caxis": {
            "gridcolor": "white",
            "linecolor": "white",
            "ticks": ""
           }
          },
          "title": {
           "x": 0.05
          },
          "xaxis": {
           "automargin": true,
           "gridcolor": "white",
           "linecolor": "white",
           "ticks": "",
           "title": {
            "standoff": 15
           },
           "zerolinecolor": "white",
           "zerolinewidth": 2
          },
          "yaxis": {
           "automargin": true,
           "gridcolor": "white",
           "linecolor": "white",
           "ticks": "",
           "title": {
            "standoff": 15
           },
           "zerolinecolor": "white",
           "zerolinewidth": 2
          }
         }
        },
        "width": 1000
       }
      }
     },
     "metadata": {}
    }
   ],
   "metadata": {}
  }
 ],
 "metadata": {
  "interpreter": {
   "hash": "b00f9bca1c18369f730e284e4d0522d8a3e0f0b629e30dad99ec4bb4df6f08b7"
  },
  "kernelspec": {
   "name": "python3",
   "display_name": "Python 3.9.12 64-bit ('FEGP': conda)"
  },
  "language_info": {
   "codemirror_mode": {
    "name": "ipython",
    "version": 3
   },
   "file_extension": ".py",
   "mimetype": "text/x-python",
   "name": "python",
   "nbconvert_exporter": "python",
   "pygments_lexer": "ipython3",
   "version": "3.9.12"
  },
  "orig_nbformat": 2
 },
 "nbformat": 4,
 "nbformat_minor": 2
}