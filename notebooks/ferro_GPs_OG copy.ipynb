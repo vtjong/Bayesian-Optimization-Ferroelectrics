{
 "cells": [
  {
   "cell_type": "code",
   "execution_count": 2,
   "source": [
    "# allow imports from local \"src\" directory\n",
    "import sys\n",
    "sys.path.append('..')\n",
    "\n",
    "import numpy as np\n",
    "import math\n",
    "import torch\n",
    "import gpytorch\n",
    "from matplotlib import pyplot as pyplot\n",
    "from matplotlib import cm\n",
    "import plotly.express as px\n",
    "import botorch\n",
    "from botorch.models.gpytorch import GPyTorchModel\n",
    "\n",
    "import pandas as pd\n",
    "%matplotlib inline\n",
    "%load_ext autoreload\n",
    "%autoreload 2\n",
    "print(gpytorch.__version__)"
   ],
   "outputs": [
    {
     "output_type": "stream",
     "name": "stderr",
     "text": [
      "/Users/valenetjong/opt/anaconda3/envs/FEGP/lib/python3.9/site-packages/tqdm/auto.py:22: TqdmWarning: IProgress not found. Please update jupyter and ipywidgets. See https://ipywidgets.readthedocs.io/en/stable/user_install.html\n",
      "  from .autonotebook import tqdm as notebook_tqdm\n"
     ]
    },
    {
     "output_type": "stream",
     "name": "stdout",
     "text": [
      "1.7.0\n"
     ]
    }
   ],
   "metadata": {}
  },
  {
   "cell_type": "markdown",
   "source": [
    "# Data import and preparation"
   ],
   "metadata": {}
  },
  {
   "cell_type": "code",
   "execution_count": 3,
   "source": [
    "# load data\n",
    "# fe_data = pd.read_csv('../data/FE_HZCO_samples_210311.csv', index_col=0)\n",
    "fe_data = pd.read_excel(\"/Users/valenetjong/Bayesian-Optimization-Ferroelectrics/data/Data KHM010XX.xlsx\",sheet_name=\"1e6 cycles\", usecols=['voltage (V)',\n",
    "                                                    'time (ms)','2 Qsw/(U+|D|)'])\n",
    "# fe_data['log(RTA time)'] = np.log(fe_data['RTA time (sec)'])\n",
    "# fe_data['Coersive Field'] = fe_data['Coersive Voltage +'] - fe_data['Coersive Voltage -']\n",
    "fe_data.columns"
   ],
   "outputs": [
    {
     "output_type": "execute_result",
     "data": {
      "text/plain": [
       "Index(['voltage (V)', 'time (ms)', '2 Qsw/(U+|D|)'], dtype='object')"
      ]
     },
     "metadata": {},
     "execution_count": 3
    }
   ],
   "metadata": {}
  },
  {
   "cell_type": "code",
   "execution_count": 4,
   "source": [
    "fe_data.head()"
   ],
   "outputs": [
    {
     "output_type": "execute_result",
     "data": {
      "text/html": [
       "<div>\n",
       "<style scoped>\n",
       "    .dataframe tbody tr th:only-of-type {\n",
       "        vertical-align: middle;\n",
       "    }\n",
       "\n",
       "    .dataframe tbody tr th {\n",
       "        vertical-align: top;\n",
       "    }\n",
       "\n",
       "    .dataframe thead th {\n",
       "        text-align: right;\n",
       "    }\n",
       "</style>\n",
       "<table border=\"1\" class=\"dataframe\">\n",
       "  <thead>\n",
       "    <tr style=\"text-align: right;\">\n",
       "      <th></th>\n",
       "      <th>voltage (V)</th>\n",
       "      <th>time (ms)</th>\n",
       "      <th>2 Qsw/(U+|D|)</th>\n",
       "    </tr>\n",
       "  </thead>\n",
       "  <tbody>\n",
       "    <tr>\n",
       "      <th>0</th>\n",
       "      <td>750</td>\n",
       "      <td>0.5</td>\n",
       "      <td>0.26330</td>\n",
       "    </tr>\n",
       "    <tr>\n",
       "      <th>1</th>\n",
       "      <td>799</td>\n",
       "      <td>0.5</td>\n",
       "      <td>2.77534</td>\n",
       "    </tr>\n",
       "    <tr>\n",
       "      <th>2</th>\n",
       "      <td>770</td>\n",
       "      <td>0.5</td>\n",
       "      <td>2.59131</td>\n",
       "    </tr>\n",
       "    <tr>\n",
       "      <th>3</th>\n",
       "      <td>700</td>\n",
       "      <td>1.0</td>\n",
       "      <td>2.57998</td>\n",
       "    </tr>\n",
       "    <tr>\n",
       "      <th>4</th>\n",
       "      <td>738</td>\n",
       "      <td>1.0</td>\n",
       "      <td>3.17382</td>\n",
       "    </tr>\n",
       "  </tbody>\n",
       "</table>\n",
       "</div>"
      ],
      "text/plain": [
       "   voltage (V)  time (ms)  2 Qsw/(U+|D|)\n",
       "0          750        0.5        0.26330\n",
       "1          799        0.5        2.77534\n",
       "2          770        0.5        2.59131\n",
       "3          700        1.0        2.57998\n",
       "4          738        1.0        3.17382"
      ]
     },
     "metadata": {},
     "execution_count": 4
    }
   ],
   "metadata": {}
  },
  {
   "cell_type": "code",
   "execution_count": 5,
   "source": [
    "# plot?...\n",
    "fig = px.scatter_3d(fe_data, x='voltage (V)', y='time (ms)', \n",
    "                        z='2 Qsw/(U+|D|)')\n",
    "fig.update_layout(scene=dict(\n",
    "                            # xaxis=dict(nticks=4, range=[200, 800])\n",
    "                            # yaxis=dict(range=[0, 500])\n",
    "                            ),\n",
    "                   margin=dict(r=20, l=10, b=10, t=10)\n",
    "                   )\n",
    "fig.show()"
   ],
   "outputs": [
    {
     "output_type": "display_data",
     "data": {
      "application/vnd.plotly.v1+json": {
       "data": [
        {
         "hovertemplate": "voltage (V)=%{x}<br>time (ms)=%{y}<br>2 Qsw/(U+|D|)=%{z}<extra></extra>",
         "legendgroup": "",
         "marker": {
          "color": "#636efa",
          "symbol": "circle"
         },
         "mode": "markers",
         "name": "",
         "scene": "scene",
         "showlegend": false,
         "x": [
          750,
          799,
          770,
          700,
          738,
          650,
          670,
          700,
          716,
          700,
          716,
          670
         ],
         "y": [
          0.5,
          0.5,
          0.5,
          1,
          1,
          2,
          2,
          2,
          2,
          5,
          5,
          5
         ],
         "z": [
          0.2633,
          2.77534,
          2.59131,
          2.57998,
          3.17382,
          0.1315,
          0.45116,
          2.12664,
          3.46821,
          3.68585,
          3.44566,
          2.65155
         ],
         "type": "scatter3d"
        }
       ],
       "layout": {
        "template": {
         "data": {
          "bar": [
           {
            "error_x": {
             "color": "#2a3f5f"
            },
            "error_y": {
             "color": "#2a3f5f"
            },
            "marker": {
             "line": {
              "color": "#E5ECF6",
              "width": 0.5
             },
             "pattern": {
              "fillmode": "overlay",
              "size": 10,
              "solidity": 0.2
             }
            },
            "type": "bar"
           }
          ],
          "barpolar": [
           {
            "marker": {
             "line": {
              "color": "#E5ECF6",
              "width": 0.5
             },
             "pattern": {
              "fillmode": "overlay",
              "size": 10,
              "solidity": 0.2
             }
            },
            "type": "barpolar"
           }
          ],
          "carpet": [
           {
            "aaxis": {
             "endlinecolor": "#2a3f5f",
             "gridcolor": "white",
             "linecolor": "white",
             "minorgridcolor": "white",
             "startlinecolor": "#2a3f5f"
            },
            "baxis": {
             "endlinecolor": "#2a3f5f",
             "gridcolor": "white",
             "linecolor": "white",
             "minorgridcolor": "white",
             "startlinecolor": "#2a3f5f"
            },
            "type": "carpet"
           }
          ],
          "choropleth": [
           {
            "colorbar": {
             "outlinewidth": 0,
             "ticks": ""
            },
            "type": "choropleth"
           }
          ],
          "contour": [
           {
            "colorbar": {
             "outlinewidth": 0,
             "ticks": ""
            },
            "colorscale": [
             [
              0,
              "#0d0887"
             ],
             [
              0.1111111111111111,
              "#46039f"
             ],
             [
              0.2222222222222222,
              "#7201a8"
             ],
             [
              0.3333333333333333,
              "#9c179e"
             ],
             [
              0.4444444444444444,
              "#bd3786"
             ],
             [
              0.5555555555555556,
              "#d8576b"
             ],
             [
              0.6666666666666666,
              "#ed7953"
             ],
             [
              0.7777777777777778,
              "#fb9f3a"
             ],
             [
              0.8888888888888888,
              "#fdca26"
             ],
             [
              1,
              "#f0f921"
             ]
            ],
            "type": "contour"
           }
          ],
          "contourcarpet": [
           {
            "colorbar": {
             "outlinewidth": 0,
             "ticks": ""
            },
            "type": "contourcarpet"
           }
          ],
          "heatmap": [
           {
            "colorbar": {
             "outlinewidth": 0,
             "ticks": ""
            },
            "colorscale": [
             [
              0,
              "#0d0887"
             ],
             [
              0.1111111111111111,
              "#46039f"
             ],
             [
              0.2222222222222222,
              "#7201a8"
             ],
             [
              0.3333333333333333,
              "#9c179e"
             ],
             [
              0.4444444444444444,
              "#bd3786"
             ],
             [
              0.5555555555555556,
              "#d8576b"
             ],
             [
              0.6666666666666666,
              "#ed7953"
             ],
             [
              0.7777777777777778,
              "#fb9f3a"
             ],
             [
              0.8888888888888888,
              "#fdca26"
             ],
             [
              1,
              "#f0f921"
             ]
            ],
            "type": "heatmap"
           }
          ],
          "heatmapgl": [
           {
            "colorbar": {
             "outlinewidth": 0,
             "ticks": ""
            },
            "colorscale": [
             [
              0,
              "#0d0887"
             ],
             [
              0.1111111111111111,
              "#46039f"
             ],
             [
              0.2222222222222222,
              "#7201a8"
             ],
             [
              0.3333333333333333,
              "#9c179e"
             ],
             [
              0.4444444444444444,
              "#bd3786"
             ],
             [
              0.5555555555555556,
              "#d8576b"
             ],
             [
              0.6666666666666666,
              "#ed7953"
             ],
             [
              0.7777777777777778,
              "#fb9f3a"
             ],
             [
              0.8888888888888888,
              "#fdca26"
             ],
             [
              1,
              "#f0f921"
             ]
            ],
            "type": "heatmapgl"
           }
          ],
          "histogram": [
           {
            "marker": {
             "pattern": {
              "fillmode": "overlay",
              "size": 10,
              "solidity": 0.2
             }
            },
            "type": "histogram"
           }
          ],
          "histogram2d": [
           {
            "colorbar": {
             "outlinewidth": 0,
             "ticks": ""
            },
            "colorscale": [
             [
              0,
              "#0d0887"
             ],
             [
              0.1111111111111111,
              "#46039f"
             ],
             [
              0.2222222222222222,
              "#7201a8"
             ],
             [
              0.3333333333333333,
              "#9c179e"
             ],
             [
              0.4444444444444444,
              "#bd3786"
             ],
             [
              0.5555555555555556,
              "#d8576b"
             ],
             [
              0.6666666666666666,
              "#ed7953"
             ],
             [
              0.7777777777777778,
              "#fb9f3a"
             ],
             [
              0.8888888888888888,
              "#fdca26"
             ],
             [
              1,
              "#f0f921"
             ]
            ],
            "type": "histogram2d"
           }
          ],
          "histogram2dcontour": [
           {
            "colorbar": {
             "outlinewidth": 0,
             "ticks": ""
            },
            "colorscale": [
             [
              0,
              "#0d0887"
             ],
             [
              0.1111111111111111,
              "#46039f"
             ],
             [
              0.2222222222222222,
              "#7201a8"
             ],
             [
              0.3333333333333333,
              "#9c179e"
             ],
             [
              0.4444444444444444,
              "#bd3786"
             ],
             [
              0.5555555555555556,
              "#d8576b"
             ],
             [
              0.6666666666666666,
              "#ed7953"
             ],
             [
              0.7777777777777778,
              "#fb9f3a"
             ],
             [
              0.8888888888888888,
              "#fdca26"
             ],
             [
              1,
              "#f0f921"
             ]
            ],
            "type": "histogram2dcontour"
           }
          ],
          "mesh3d": [
           {
            "colorbar": {
             "outlinewidth": 0,
             "ticks": ""
            },
            "type": "mesh3d"
           }
          ],
          "parcoords": [
           {
            "line": {
             "colorbar": {
              "outlinewidth": 0,
              "ticks": ""
             }
            },
            "type": "parcoords"
           }
          ],
          "pie": [
           {
            "automargin": true,
            "type": "pie"
           }
          ],
          "scatter": [
           {
            "marker": {
             "colorbar": {
              "outlinewidth": 0,
              "ticks": ""
             }
            },
            "type": "scatter"
           }
          ],
          "scatter3d": [
           {
            "line": {
             "colorbar": {
              "outlinewidth": 0,
              "ticks": ""
             }
            },
            "marker": {
             "colorbar": {
              "outlinewidth": 0,
              "ticks": ""
             }
            },
            "type": "scatter3d"
           }
          ],
          "scattercarpet": [
           {
            "marker": {
             "colorbar": {
              "outlinewidth": 0,
              "ticks": ""
             }
            },
            "type": "scattercarpet"
           }
          ],
          "scattergeo": [
           {
            "marker": {
             "colorbar": {
              "outlinewidth": 0,
              "ticks": ""
             }
            },
            "type": "scattergeo"
           }
          ],
          "scattergl": [
           {
            "marker": {
             "colorbar": {
              "outlinewidth": 0,
              "ticks": ""
             }
            },
            "type": "scattergl"
           }
          ],
          "scattermapbox": [
           {
            "marker": {
             "colorbar": {
              "outlinewidth": 0,
              "ticks": ""
             }
            },
            "type": "scattermapbox"
           }
          ],
          "scatterpolar": [
           {
            "marker": {
             "colorbar": {
              "outlinewidth": 0,
              "ticks": ""
             }
            },
            "type": "scatterpolar"
           }
          ],
          "scatterpolargl": [
           {
            "marker": {
             "colorbar": {
              "outlinewidth": 0,
              "ticks": ""
             }
            },
            "type": "scatterpolargl"
           }
          ],
          "scatterternary": [
           {
            "marker": {
             "colorbar": {
              "outlinewidth": 0,
              "ticks": ""
             }
            },
            "type": "scatterternary"
           }
          ],
          "surface": [
           {
            "colorbar": {
             "outlinewidth": 0,
             "ticks": ""
            },
            "colorscale": [
             [
              0,
              "#0d0887"
             ],
             [
              0.1111111111111111,
              "#46039f"
             ],
             [
              0.2222222222222222,
              "#7201a8"
             ],
             [
              0.3333333333333333,
              "#9c179e"
             ],
             [
              0.4444444444444444,
              "#bd3786"
             ],
             [
              0.5555555555555556,
              "#d8576b"
             ],
             [
              0.6666666666666666,
              "#ed7953"
             ],
             [
              0.7777777777777778,
              "#fb9f3a"
             ],
             [
              0.8888888888888888,
              "#fdca26"
             ],
             [
              1,
              "#f0f921"
             ]
            ],
            "type": "surface"
           }
          ],
          "table": [
           {
            "cells": {
             "fill": {
              "color": "#EBF0F8"
             },
             "line": {
              "color": "white"
             }
            },
            "header": {
             "fill": {
              "color": "#C8D4E3"
             },
             "line": {
              "color": "white"
             }
            },
            "type": "table"
           }
          ]
         },
         "layout": {
          "annotationdefaults": {
           "arrowcolor": "#2a3f5f",
           "arrowhead": 0,
           "arrowwidth": 1
          },
          "autotypenumbers": "strict",
          "coloraxis": {
           "colorbar": {
            "outlinewidth": 0,
            "ticks": ""
           }
          },
          "colorscale": {
           "diverging": [
            [
             0,
             "#8e0152"
            ],
            [
             0.1,
             "#c51b7d"
            ],
            [
             0.2,
             "#de77ae"
            ],
            [
             0.3,
             "#f1b6da"
            ],
            [
             0.4,
             "#fde0ef"
            ],
            [
             0.5,
             "#f7f7f7"
            ],
            [
             0.6,
             "#e6f5d0"
            ],
            [
             0.7,
             "#b8e186"
            ],
            [
             0.8,
             "#7fbc41"
            ],
            [
             0.9,
             "#4d9221"
            ],
            [
             1,
             "#276419"
            ]
           ],
           "sequential": [
            [
             0,
             "#0d0887"
            ],
            [
             0.1111111111111111,
             "#46039f"
            ],
            [
             0.2222222222222222,
             "#7201a8"
            ],
            [
             0.3333333333333333,
             "#9c179e"
            ],
            [
             0.4444444444444444,
             "#bd3786"
            ],
            [
             0.5555555555555556,
             "#d8576b"
            ],
            [
             0.6666666666666666,
             "#ed7953"
            ],
            [
             0.7777777777777778,
             "#fb9f3a"
            ],
            [
             0.8888888888888888,
             "#fdca26"
            ],
            [
             1,
             "#f0f921"
            ]
           ],
           "sequentialminus": [
            [
             0,
             "#0d0887"
            ],
            [
             0.1111111111111111,
             "#46039f"
            ],
            [
             0.2222222222222222,
             "#7201a8"
            ],
            [
             0.3333333333333333,
             "#9c179e"
            ],
            [
             0.4444444444444444,
             "#bd3786"
            ],
            [
             0.5555555555555556,
             "#d8576b"
            ],
            [
             0.6666666666666666,
             "#ed7953"
            ],
            [
             0.7777777777777778,
             "#fb9f3a"
            ],
            [
             0.8888888888888888,
             "#fdca26"
            ],
            [
             1,
             "#f0f921"
            ]
           ]
          },
          "colorway": [
           "#636efa",
           "#EF553B",
           "#00cc96",
           "#ab63fa",
           "#FFA15A",
           "#19d3f3",
           "#FF6692",
           "#B6E880",
           "#FF97FF",
           "#FECB52"
          ],
          "font": {
           "color": "#2a3f5f"
          },
          "geo": {
           "bgcolor": "white",
           "lakecolor": "white",
           "landcolor": "#E5ECF6",
           "showlakes": true,
           "showland": true,
           "subunitcolor": "white"
          },
          "hoverlabel": {
           "align": "left"
          },
          "hovermode": "closest",
          "mapbox": {
           "style": "light"
          },
          "paper_bgcolor": "white",
          "plot_bgcolor": "#E5ECF6",
          "polar": {
           "angularaxis": {
            "gridcolor": "white",
            "linecolor": "white",
            "ticks": ""
           },
           "bgcolor": "#E5ECF6",
           "radialaxis": {
            "gridcolor": "white",
            "linecolor": "white",
            "ticks": ""
           }
          },
          "scene": {
           "xaxis": {
            "backgroundcolor": "#E5ECF6",
            "gridcolor": "white",
            "gridwidth": 2,
            "linecolor": "white",
            "showbackground": true,
            "ticks": "",
            "zerolinecolor": "white"
           },
           "yaxis": {
            "backgroundcolor": "#E5ECF6",
            "gridcolor": "white",
            "gridwidth": 2,
            "linecolor": "white",
            "showbackground": true,
            "ticks": "",
            "zerolinecolor": "white"
           },
           "zaxis": {
            "backgroundcolor": "#E5ECF6",
            "gridcolor": "white",
            "gridwidth": 2,
            "linecolor": "white",
            "showbackground": true,
            "ticks": "",
            "zerolinecolor": "white"
           }
          },
          "shapedefaults": {
           "line": {
            "color": "#2a3f5f"
           }
          },
          "ternary": {
           "aaxis": {
            "gridcolor": "white",
            "linecolor": "white",
            "ticks": ""
           },
           "baxis": {
            "gridcolor": "white",
            "linecolor": "white",
            "ticks": ""
           },
           "bgcolor": "#E5ECF6",
           "caxis": {
            "gridcolor": "white",
            "linecolor": "white",
            "ticks": ""
           }
          },
          "title": {
           "x": 0.05
          },
          "xaxis": {
           "automargin": true,
           "gridcolor": "white",
           "linecolor": "white",
           "ticks": "",
           "title": {
            "standoff": 15
           },
           "zerolinecolor": "white",
           "zerolinewidth": 2
          },
          "yaxis": {
           "automargin": true,
           "gridcolor": "white",
           "linecolor": "white",
           "ticks": "",
           "title": {
            "standoff": 15
           },
           "zerolinecolor": "white",
           "zerolinewidth": 2
          }
         }
        },
        "scene": {
         "domain": {
          "x": [
           0,
           1
          ],
          "y": [
           0,
           1
          ]
         },
         "xaxis": {
          "title": {
           "text": "voltage (V)"
          }
         },
         "yaxis": {
          "title": {
           "text": "time (ms)"
          }
         },
         "zaxis": {
          "title": {
           "text": "2 Qsw/(U+|D|)"
          }
         }
        },
        "legend": {
         "tracegroupgap": 0
        },
        "margin": {
         "t": 10,
         "r": 20,
         "l": 10,
         "b": 10
        }
       },
       "config": {
        "plotlyServerURL": "https://plot.ly"
       }
      }
     },
     "metadata": {}
    }
   ],
   "metadata": {}
  },
  {
   "cell_type": "code",
   "execution_count": 6,
   "source": [
    "# prep training data\n",
    "from sklearn.preprocessing import StandardScaler\n",
    "T_scaler = StandardScaler()\n",
    "\n",
    "# filter training data \n",
    "mask = ~np.isnan(fe_data['2 Qsw/(U+|D|)'])\n",
    "train_x = torch.Tensor([fe_data['voltage (V)'][mask].values, \n",
    "                    #    np.log(fe_data['RTA time (sec)'][mask].values)*10]).T\n",
    "                       fe_data['time (ms)'][mask].values]).T\n",
    "# train_x = torch.Tensor(T_scaler.fit_transform(train_x))\n",
    "train_raw_y = torch.Tensor(fe_data['2 Qsw/(U+|D|)'][mask].values)\n",
    "train_y = train_raw_y #(train_raw_y - train_raw_y.mean()) / (train_raw_y.max() - train_raw_y.min())\n",
    "\n",
    "# define grid between bounds of RTA time, RTA temp\n",
    "grid_bounds = [(train_x[:,0].min(), train_x[:,0].max() ), \n",
    "                (train_x[:,1].min(), train_x[:,1].max() ) ]\n",
    "grid_size = 20\n",
    "grid = torch.zeros(grid_size, len(grid_bounds))\n",
    "for i in range(len(grid_bounds)):\n",
    "    grid_diff = float(grid_bounds[i][1] - grid_bounds[i][0]) / (grid_size - 2)\n",
    "    grid[:, i] = torch.linspace(grid_bounds[i][0] - grid_diff, \n",
    "                                grid_bounds[i][1] + grid_diff, grid_size)\n",
    "                        \n",
    "# Set up grid for predictions\n",
    "\n",
    "n=30 # number of points in grid, different from one supplied to GP\n",
    "test_grid = torch.zeros(n, len(grid_bounds))\n",
    "for i in range(len(grid_bounds)): # Creates a grid s.t. grid[:, i] is the vector along dimension i\n",
    "    grid_diff = float(grid_bounds[i][1] - grid_bounds[i][0]) / (n - 2)\n",
    "    print(grid_diff)\n",
    "    test_grid[:, i] = torch.linspace(grid_bounds[i][0] - grid_diff, \n",
    "                                grid_bounds[i][1] + grid_diff, n)\n",
    "\n",
    "test_x = torch.zeros(int(pow(n, 2)), 2)\n",
    "for i in range(n): #Basically making grid \n",
    "    for j in range(n):\n",
    "        test_x[i*n + j][0] = test_grid[i, 0]\n",
    "        test_x[i*n + j][1] = test_grid[j, 1]\n",
    "test_x2 = torch.cartesian_prod(test_grid[:, 0], test_grid[:, 1])\n",
    "torch.equal(test_x, test_x2)"
   ],
   "outputs": [
    {
     "output_type": "error",
     "ename": "KeyError",
     "evalue": "'2Pr (uC/cm2), Pristine state'",
     "traceback": [
      "\u001b[0;31m---------------------------------------------------------------------------\u001b[0m",
      "\u001b[0;31mKeyError\u001b[0m                                  Traceback (most recent call last)",
      "File \u001b[0;32m~/opt/anaconda3/envs/FEGP/lib/python3.9/site-packages/pandas/core/indexes/base.py:3621\u001b[0m, in \u001b[0;36mIndex.get_loc\u001b[0;34m(self, key, method, tolerance)\u001b[0m\n\u001b[1;32m   3620\u001b[0m \u001b[38;5;28;01mtry\u001b[39;00m:\n\u001b[0;32m-> 3621\u001b[0m     \u001b[38;5;28;01mreturn\u001b[39;00m \u001b[38;5;28;43mself\u001b[39;49m\u001b[38;5;241;43m.\u001b[39;49m\u001b[43m_engine\u001b[49m\u001b[38;5;241;43m.\u001b[39;49m\u001b[43mget_loc\u001b[49m\u001b[43m(\u001b[49m\u001b[43mcasted_key\u001b[49m\u001b[43m)\u001b[49m\n\u001b[1;32m   3622\u001b[0m \u001b[38;5;28;01mexcept\u001b[39;00m \u001b[38;5;167;01mKeyError\u001b[39;00m \u001b[38;5;28;01mas\u001b[39;00m err:\n",
      "File \u001b[0;32m~/opt/anaconda3/envs/FEGP/lib/python3.9/site-packages/pandas/_libs/index.pyx:136\u001b[0m, in \u001b[0;36mpandas._libs.index.IndexEngine.get_loc\u001b[0;34m()\u001b[0m\n",
      "File \u001b[0;32m~/opt/anaconda3/envs/FEGP/lib/python3.9/site-packages/pandas/_libs/index.pyx:163\u001b[0m, in \u001b[0;36mpandas._libs.index.IndexEngine.get_loc\u001b[0;34m()\u001b[0m\n",
      "File \u001b[0;32mpandas/_libs/hashtable_class_helper.pxi:5198\u001b[0m, in \u001b[0;36mpandas._libs.hashtable.PyObjectHashTable.get_item\u001b[0;34m()\u001b[0m\n",
      "File \u001b[0;32mpandas/_libs/hashtable_class_helper.pxi:5206\u001b[0m, in \u001b[0;36mpandas._libs.hashtable.PyObjectHashTable.get_item\u001b[0;34m()\u001b[0m\n",
      "\u001b[0;31mKeyError\u001b[0m: '2Pr (uC/cm2), Pristine state'",
      "\nThe above exception was the direct cause of the following exception:\n",
      "\u001b[0;31mKeyError\u001b[0m                                  Traceback (most recent call last)",
      "Input \u001b[0;32mIn [6]\u001b[0m, in \u001b[0;36m<cell line: 6>\u001b[0;34m()\u001b[0m\n\u001b[1;32m      3\u001b[0m T_scaler \u001b[38;5;241m=\u001b[39m StandardScaler()\n\u001b[1;32m      5\u001b[0m \u001b[38;5;66;03m# filter training data \u001b[39;00m\n\u001b[0;32m----> 6\u001b[0m mask \u001b[38;5;241m=\u001b[39m \u001b[38;5;241m~\u001b[39mnp\u001b[38;5;241m.\u001b[39misnan(\u001b[43mfe_data\u001b[49m\u001b[43m[\u001b[49m\u001b[38;5;124;43m'\u001b[39;49m\u001b[38;5;124;43m2Pr (uC/cm2), Pristine state\u001b[39;49m\u001b[38;5;124;43m'\u001b[39;49m\u001b[43m]\u001b[49m)\n\u001b[1;32m      7\u001b[0m train_x \u001b[38;5;241m=\u001b[39m torch\u001b[38;5;241m.\u001b[39mTensor([fe_data[\u001b[38;5;124m'\u001b[39m\u001b[38;5;124mRTA temperature (C)\u001b[39m\u001b[38;5;124m'\u001b[39m][mask]\u001b[38;5;241m.\u001b[39mvalues, \n\u001b[1;32m      8\u001b[0m                     \u001b[38;5;66;03m#    np.log(fe_data['RTA time (sec)'][mask].values)*10]).T\u001b[39;00m\n\u001b[1;32m      9\u001b[0m                        fe_data[\u001b[38;5;124m'\u001b[39m\u001b[38;5;124mRTA time (sec)\u001b[39m\u001b[38;5;124m'\u001b[39m][mask]\u001b[38;5;241m.\u001b[39mvalues])\u001b[38;5;241m.\u001b[39mT\n\u001b[1;32m     10\u001b[0m \u001b[38;5;66;03m# train_x = torch.Tensor(T_scaler.fit_transform(train_x))\u001b[39;00m\n",
      "File \u001b[0;32m~/opt/anaconda3/envs/FEGP/lib/python3.9/site-packages/pandas/core/frame.py:3505\u001b[0m, in \u001b[0;36mDataFrame.__getitem__\u001b[0;34m(self, key)\u001b[0m\n\u001b[1;32m   3503\u001b[0m \u001b[38;5;28;01mif\u001b[39;00m \u001b[38;5;28mself\u001b[39m\u001b[38;5;241m.\u001b[39mcolumns\u001b[38;5;241m.\u001b[39mnlevels \u001b[38;5;241m>\u001b[39m \u001b[38;5;241m1\u001b[39m:\n\u001b[1;32m   3504\u001b[0m     \u001b[38;5;28;01mreturn\u001b[39;00m \u001b[38;5;28mself\u001b[39m\u001b[38;5;241m.\u001b[39m_getitem_multilevel(key)\n\u001b[0;32m-> 3505\u001b[0m indexer \u001b[38;5;241m=\u001b[39m \u001b[38;5;28;43mself\u001b[39;49m\u001b[38;5;241;43m.\u001b[39;49m\u001b[43mcolumns\u001b[49m\u001b[38;5;241;43m.\u001b[39;49m\u001b[43mget_loc\u001b[49m\u001b[43m(\u001b[49m\u001b[43mkey\u001b[49m\u001b[43m)\u001b[49m\n\u001b[1;32m   3506\u001b[0m \u001b[38;5;28;01mif\u001b[39;00m is_integer(indexer):\n\u001b[1;32m   3507\u001b[0m     indexer \u001b[38;5;241m=\u001b[39m [indexer]\n",
      "File \u001b[0;32m~/opt/anaconda3/envs/FEGP/lib/python3.9/site-packages/pandas/core/indexes/base.py:3623\u001b[0m, in \u001b[0;36mIndex.get_loc\u001b[0;34m(self, key, method, tolerance)\u001b[0m\n\u001b[1;32m   3621\u001b[0m     \u001b[38;5;28;01mreturn\u001b[39;00m \u001b[38;5;28mself\u001b[39m\u001b[38;5;241m.\u001b[39m_engine\u001b[38;5;241m.\u001b[39mget_loc(casted_key)\n\u001b[1;32m   3622\u001b[0m \u001b[38;5;28;01mexcept\u001b[39;00m \u001b[38;5;167;01mKeyError\u001b[39;00m \u001b[38;5;28;01mas\u001b[39;00m err:\n\u001b[0;32m-> 3623\u001b[0m     \u001b[38;5;28;01mraise\u001b[39;00m \u001b[38;5;167;01mKeyError\u001b[39;00m(key) \u001b[38;5;28;01mfrom\u001b[39;00m \u001b[38;5;21;01merr\u001b[39;00m\n\u001b[1;32m   3624\u001b[0m \u001b[38;5;28;01mexcept\u001b[39;00m \u001b[38;5;167;01mTypeError\u001b[39;00m:\n\u001b[1;32m   3625\u001b[0m     \u001b[38;5;66;03m# If we have a listlike key, _check_indexing_error will raise\u001b[39;00m\n\u001b[1;32m   3626\u001b[0m     \u001b[38;5;66;03m#  InvalidIndexError. Otherwise we fall through and re-raise\u001b[39;00m\n\u001b[1;32m   3627\u001b[0m     \u001b[38;5;66;03m#  the TypeError.\u001b[39;00m\n\u001b[1;32m   3628\u001b[0m     \u001b[38;5;28mself\u001b[39m\u001b[38;5;241m.\u001b[39m_check_indexing_error(key)\n",
      "\u001b[0;31mKeyError\u001b[0m: '2Pr (uC/cm2), Pristine state'"
     ]
    }
   ],
   "metadata": {}
  },
  {
   "cell_type": "code",
   "execution_count": 6,
   "source": [
    "print(test_x.shape)"
   ],
   "outputs": [
    {
     "output_type": "stream",
     "name": "stdout",
     "text": [
      "torch.Size([900, 2])\n"
     ]
    }
   ],
   "metadata": {}
  },
  {
   "cell_type": "code",
   "execution_count": 7,
   "source": [
    "def intermediate_plot(f, ax, obs, title):\n",
    "    im = ax.imshow(obs.mean.view(n, n), aspect='equal',\n",
    "                extent=[grid_bounds[0][0].item(), grid_bounds[0][1].item(),\n",
    "                            grid_bounds[1][0].item(), grid_bounds[1][1].item()])\n",
    "    f.colorbar(im)\n",
    "    # ax.scatter(train_x[:,0], train_x[:,1], c=train_y)\n",
    "    ax.set_title(title)"
   ],
   "outputs": [],
   "metadata": {}
  },
  {
   "cell_type": "markdown",
   "source": [
    "# Build GP Classes/Models\n",
    "A bit of pytorch-esque construction here, but the important parts to take note of are the kernel / mean modules and `noises` array.  "
   ],
   "metadata": {}
  },
  {
   "cell_type": "code",
   "execution_count": 8,
   "source": [
    "# initialize GP model\n",
    "class GridGP(gpytorch.models.ExactGP, GPyTorchModel):\n",
    "\n",
    "    _num_outputs = 1\n",
    "    def __init__(self, train_x, train_y, likelihood):\n",
    "        super(GridGP, self).__init__(train_x, train_y, likelihood)  \n",
    "        self.mean_module = gpytorch.means.ConstantMean()\n",
    "        self.covar_module = gpytorch.kernels.ScaleKernel(\n",
    "                                gpytorch.kernels.RBFKernel(ard_num_dims=2) )\n",
    "    \n",
    "    def forward(self, x):\n",
    "        mean_x = self.mean_module(x)\n",
    "        covar_x = self.covar_module(x)\n",
    "        return gpytorch.distributions.MultivariateNormal(mean_x, covar_x)\n",
    "\n",
    "\n",
    "# 0-observation noise case\n",
    "# likelihood = gpytorch.likelihoods.GaussianLikelihood()\n",
    "\n",
    "# Case for fixed observation noise.  This is set to 5 based on the magnitude of\n",
    "# the data, but can be played with.  \n",
    "noises = torch.ones(len(train_x)) * 5\n",
    "likelihood = gpytorch.likelihoods.FixedNoiseGaussianLikelihood(noise=noises)\n",
    "model = GridGP(train_x, train_y, likelihood)\n",
    "\n",
    "\n",
    "model.covar_module.base_kernel.lengthscale = torch.Tensor([100, 100])\n",
    "print(likelihood.noise)"
   ],
   "outputs": [
    {
     "output_type": "stream",
     "name": "stdout",
     "text": [
      "tensor([5., 5., 5., 5., 5., 5., 5., 5., 5., 5., 5., 5., 5., 5., 5., 5., 5., 5.,\n",
      "        5.])\n"
     ]
    }
   ],
   "metadata": {}
  },
  {
   "cell_type": "code",
   "execution_count": 9,
   "source": [
    "# Train and evaluate the model.  (short form)\n",
    "from botorch.optim.fit import fit_gpytorch_torch\n",
    "\n",
    "# initialize the log-likelihood, and supply it to the GP.  This will be used to \n",
    "# make predictions.  \n",
    "mll = gpytorch.mlls.ExactMarginalLogLikelihood(likelihood, model)\n",
    "mll.train()\n",
    "# convenience function for fitting gpytorch models\n",
    "fit_gpytorch_torch(mll, options={'maxiter':2000, 'lr':10}) \n",
    "mll.eval()"
   ],
   "outputs": [
    {
     "output_type": "stream",
     "name": "stdout",
     "text": [
      "Iter 10/2000: 5.456142902374268\n",
      "Iter 20/2000: 4.68469762802124\n",
      "Iter 30/2000: 3.449314832687378\n",
      "Iter 40/2000: 3.358290910720825\n"
     ]
    },
    {
     "output_type": "stream",
     "name": "stderr",
     "text": [
      "/Users/valenetjong/opt/anaconda3/envs/FEGP/lib/python3.9/site-packages/gpytorch/lazy/triangular_lazy_tensor.py:136: UserWarning:\n",
      "\n",
      "torch.triangular_solve is deprecated in favor of torch.linalg.solve_triangularand will be removed in a future PyTorch release.\n",
      "torch.linalg.solve_triangular has its arguments reversed and does not return a copy of one of the inputs.\n",
      "X = torch.triangular_solve(B, A).solution\n",
      "should be replaced with\n",
      "X = torch.linalg.solve_triangular(A, B). (Triggered internally at  /Users/runner/work/_temp/anaconda/conda-bld/pytorch_1656352388419/work/aten/src/ATen/native/BatchLinearAlgebra.cpp:2189.)\n",
      "\n"
     ]
    },
    {
     "output_type": "execute_result",
     "data": {
      "text/plain": [
       "ExactMarginalLogLikelihood(\n",
       "  (likelihood): FixedNoiseGaussianLikelihood(\n",
       "    (noise_covar): FixedGaussianNoise()\n",
       "  )\n",
       "  (model): GridGP(\n",
       "    (likelihood): FixedNoiseGaussianLikelihood(\n",
       "      (noise_covar): FixedGaussianNoise()\n",
       "    )\n",
       "    (mean_module): ConstantMean()\n",
       "    (covar_module): ScaleKernel(\n",
       "      (base_kernel): RBFKernel(\n",
       "        (raw_lengthscale_constraint): Positive()\n",
       "        (distance_module): Distance()\n",
       "      )\n",
       "      (raw_outputscale_constraint): Positive()\n",
       "    )\n",
       "  )\n",
       ")"
      ]
     },
     "metadata": {},
     "execution_count": 9
    }
   ],
   "metadata": {}
  },
  {
   "cell_type": "code",
   "execution_count": 10,
   "source": [
    "# Training loop (long form, for inspection of results during training)\n",
    "training_iter = 2000\n",
    "\n",
    "# Place both the model and likelihood in training mode\n",
    "model.train()\n",
    "likelihood.train()\n",
    "\n",
    "optimizer = torch.optim.Adam(model.parameters(), lr=10)\n",
    "\n",
    "mll = gpytorch.mlls.ExactMarginalLogLikelihood(likelihood, model)\n",
    "\n",
    "for i in range(training_iter):\n",
    "    optimizer.zero_grad()\n",
    "\n",
    "    output = model(train_x)\n",
    "\n",
    "    # backpropogate error\n",
    "    loss = -mll(output, train_y)\n",
    "    loss.backward()\n",
    "\n",
    "    if i % 100 == 0: \n",
    "        print('Iter %d/%d - Loss: %.3f  lengthscale1: %s   noise: %s' % (\n",
    "        i+1, training_iter, loss.item(), \n",
    "        model.covar_module.base_kernel.lengthscale.detach().numpy(),\n",
    "        model.likelihood.noise.detach().numpy()\n",
    "        )) \n",
    "\n",
    "        # # get a quick snapshot of intermediate \n",
    "        # model.eval()\n",
    "        # likelihood.eval()\n",
    "        # with torch.no_grad(), gpytorch.settings.fast_pred_var():\n",
    "        #     obs = likelihood(model(test_x))\n",
    "\n",
    "        #     f, ax = plt.subplots(1, 1, figsize=(4,3))\n",
    "        #     intermediate_plot(f, ax, obs, f'iter {i+1}/{training_iter}')\n",
    "        # model.train()\n",
    "        # likelihood.train()\n",
    "\n",
    "\n",
    "    optimizer.step()"
   ],
   "outputs": [
    {
     "output_type": "stream",
     "name": "stdout",
     "text": [
      "Iter 1/2000 - Loss: 3.384  lengthscale1: [[ 32.621357 160.76213 ]]   noise: [5. 5. 5. 5. 5. 5. 5. 5. 5. 5. 5. 5. 5. 5. 5. 5. 5. 5. 5.]\n",
      "Iter 101/2000 - Loss: 3.300  lengthscale1: [[ 30.929588 102.59909 ]]   noise: [5. 5. 5. 5. 5. 5. 5. 5. 5. 5. 5. 5. 5. 5. 5. 5. 5. 5. 5.]\n",
      "Iter 201/2000 - Loss: 3.300  lengthscale1: [[ 30.959631 102.972626]]   noise: [5. 5. 5. 5. 5. 5. 5. 5. 5. 5. 5. 5. 5. 5. 5. 5. 5. 5. 5.]\n",
      "Iter 301/2000 - Loss: 3.300  lengthscale1: [[ 30.959436 102.97322 ]]   noise: [5. 5. 5. 5. 5. 5. 5. 5. 5. 5. 5. 5. 5. 5. 5. 5. 5. 5. 5.]\n",
      "Iter 401/2000 - Loss: 3.300  lengthscale1: [[ 30.959547 102.973175]]   noise: [5. 5. 5. 5. 5. 5. 5. 5. 5. 5. 5. 5. 5. 5. 5. 5. 5. 5. 5.]\n",
      "Iter 501/2000 - Loss: 3.300  lengthscale1: [[ 30.95956 102.97308]]   noise: [5. 5. 5. 5. 5. 5. 5. 5. 5. 5. 5. 5. 5. 5. 5. 5. 5. 5. 5.]\n",
      "Iter 601/2000 - Loss: 3.300  lengthscale1: [[ 30.959438 102.97346 ]]   noise: [5. 5. 5. 5. 5. 5. 5. 5. 5. 5. 5. 5. 5. 5. 5. 5. 5. 5. 5.]\n",
      "Iter 701/2000 - Loss: 3.300  lengthscale1: [[ 30.959562 102.973045]]   noise: [5. 5. 5. 5. 5. 5. 5. 5. 5. 5. 5. 5. 5. 5. 5. 5. 5. 5. 5.]\n",
      "Iter 801/2000 - Loss: 3.300  lengthscale1: [[ 30.959751 102.97293 ]]   noise: [5. 5. 5. 5. 5. 5. 5. 5. 5. 5. 5. 5. 5. 5. 5. 5. 5. 5. 5.]\n",
      "Iter 901/2000 - Loss: 3.300  lengthscale1: [[ 30.959427 102.97355 ]]   noise: [5. 5. 5. 5. 5. 5. 5. 5. 5. 5. 5. 5. 5. 5. 5. 5. 5. 5. 5.]\n",
      "Iter 1001/2000 - Loss: 3.301  lengthscale1: [[ 30.99297 104.05679]]   noise: [5. 5. 5. 5. 5. 5. 5. 5. 5. 5. 5. 5. 5. 5. 5. 5. 5. 5. 5.]\n",
      "Iter 1101/2000 - Loss: 3.300  lengthscale1: [[ 30.958506 102.96644 ]]   noise: [5. 5. 5. 5. 5. 5. 5. 5. 5. 5. 5. 5. 5. 5. 5. 5. 5. 5. 5.]\n",
      "Iter 1201/2000 - Loss: 3.300  lengthscale1: [[ 30.993227 103.51112 ]]   noise: [5. 5. 5. 5. 5. 5. 5. 5. 5. 5. 5. 5. 5. 5. 5. 5. 5. 5. 5.]\n",
      "Iter 1301/2000 - Loss: 3.300  lengthscale1: [[ 30.950611 102.96716 ]]   noise: [5. 5. 5. 5. 5. 5. 5. 5. 5. 5. 5. 5. 5. 5. 5. 5. 5. 5. 5.]\n",
      "Iter 1401/2000 - Loss: 3.300  lengthscale1: [[ 30.955925 103.003426]]   noise: [5. 5. 5. 5. 5. 5. 5. 5. 5. 5. 5. 5. 5. 5. 5. 5. 5. 5. 5.]\n",
      "Iter 1501/2000 - Loss: 3.301  lengthscale1: [[ 31.747322 106.50563 ]]   noise: [5. 5. 5. 5. 5. 5. 5. 5. 5. 5. 5. 5. 5. 5. 5. 5. 5. 5. 5.]\n",
      "Iter 1601/2000 - Loss: 3.300  lengthscale1: [[ 30.967974 102.95146 ]]   noise: [5. 5. 5. 5. 5. 5. 5. 5. 5. 5. 5. 5. 5. 5. 5. 5. 5. 5. 5.]\n",
      "Iter 1701/2000 - Loss: 3.300  lengthscale1: [[ 30.938068 103.188896]]   noise: [5. 5. 5. 5. 5. 5. 5. 5. 5. 5. 5. 5. 5. 5. 5. 5. 5. 5. 5.]\n",
      "Iter 1801/2000 - Loss: 3.300  lengthscale1: [[ 31.05504 103.27316]]   noise: [5. 5. 5. 5. 5. 5. 5. 5. 5. 5. 5. 5. 5. 5. 5. 5. 5. 5. 5.]\n",
      "Iter 1901/2000 - Loss: 3.300  lengthscale1: [[ 30.95556 102.95461]]   noise: [5. 5. 5. 5. 5. 5. 5. 5. 5. 5. 5. 5. 5. 5. 5. 5. 5. 5. 5.]\n"
     ]
    }
   ],
   "metadata": {
    "tags": []
   }
  },
  {
   "cell_type": "markdown",
   "source": [
    "# Make and plot predictions"
   ],
   "metadata": {}
  },
  {
   "cell_type": "code",
   "execution_count": 11,
   "source": [
    "# make predictions (whether by long or short form)\n",
    "model.eval()\n",
    "likelihood.eval()\n",
    "\n",
    "with torch.no_grad(), gpytorch.settings.fast_pred_var():\n",
    "    # also use mll from short form \n",
    "    obs = likelihood(model(test_x), noise=(torch.ones(len(test_x))*5))\n",
    "# print(f'train data: {fe_data[\"2Pr (uC/cm2), Pristine state\"][1]}')\n",
    "# print(f'observed: {obs.mean}')"
   ],
   "outputs": [],
   "metadata": {}
  },
  {
   "cell_type": "code",
   "execution_count": 12,
   "source": [
    "obs.covariance_matrix.shape"
   ],
   "outputs": [
    {
     "output_type": "execute_result",
     "data": {
      "text/plain": [
       "torch.Size([900, 900])"
      ]
     },
     "metadata": {},
     "execution_count": 12
    }
   ],
   "metadata": {}
  },
  {
   "cell_type": "markdown",
   "source": [
    "# Make predictions and plot the mean surface"
   ],
   "metadata": {}
  },
  {
   "cell_type": "code",
   "execution_count": 22,
   "source": [
    "# non-log scale 3D plot\n",
    "\n",
    "pred_labels = obs.mean.view(n, n)\n",
    "print(pred_labels)\n",
    "# plot?...\n",
    "import plotly.graph_objects as go\n",
    "fig = go.Figure(data=[go.Surface(z=pred_labels.numpy().T, x=test_grid[:,0], y=test_grid[:,1], name='GP regression')])\n",
    "fig.add_trace(go.Scatter3d(x=train_x[:,0].numpy(),y=train_x[:,1].numpy(),  \n",
    "                        z=train_y.numpy(), mode='markers', marker={'color':'darkgreen'}, name='training data'))\n",
    "fig.update_layout( width=1000, height=800,\n",
    "                  legend=dict(orientation=\"h\", yanchor=\"top\", y=1.02, xanchor=\"left\",x=1),\n",
    "                   margin=dict(r=20, l=10, b=10, t=10), \n",
    "                    scene=dict(\n",
    "                    xaxis_title=\"RTA temperature (C)\",\n",
    "                    yaxis_title=\"RTA time (sec)\",\n",
    "                    zaxis_title='2Pr (uC/cm2), Pristine')\n",
    "                )\n",
    "camera = dict(\n",
    "    up=dict(x=0, y=0, z=1),\n",
    "    center=dict(x=0, y=0, z=0),\n",
    "    eye=dict(x=-2, y=-2.5, z=1.75)\n",
    ")\n",
    "\n",
    "fig.update_layout(scene_camera=camera)\n",
    "fig.show()"
   ],
   "outputs": [
    {
     "output_type": "stream",
     "name": "stdout",
     "text": [
      "tensor([[ 1.8552,  1.4901,  2.1753,  3.8359,  6.2818,  9.2466, 12.4366, 15.5802,\n",
      "         18.4647, 20.9533, 22.9859, 24.5637, 25.7294, 26.5471, 27.0879, 27.4217,\n",
      "         27.6144, 27.7278, 27.8189, 27.9384, 28.1260, 28.4059, 28.7821, 29.2360,\n",
      "         29.7279, 30.2025, 30.5984, 30.8588, 30.9423, 30.8308],\n",
      "        [ 2.0328,  2.0207,  3.0521,  5.0071,  7.6599, 10.7241, 13.9067, 16.9563,\n",
      "         19.6934, 22.0203, 23.9110, 25.3895, 26.5066, 27.3205, 27.8868, 28.2564,\n",
      "         28.4792, 28.6077, 28.6989, 28.8103, 28.9932, 29.2832, 29.6918, 30.2016,\n",
      "         30.7668, 31.3204, 31.7856, 32.0905, 32.1817, 32.0349],\n",
      "        [ 7.3212,  7.9836,  9.4596, 11.5698, 14.0667, 16.6862, 19.1983, 21.4425,\n",
      "         23.3417, 24.8919, 26.1376, 27.1401, 27.9532, 28.6095, 29.1211, 29.4903,\n",
      "         29.7244, 29.8473, 29.9035, 29.9532, 30.0604, 30.2767, 30.6278, 31.1039,\n",
      "         31.6597, 32.2210, 32.6999, 33.0116, 33.0919, 32.9097],\n",
      "        [15.4483, 16.9501, 18.9112, 21.0857, 23.2147, 25.0811, 26.5532, 27.6015,\n",
      "         28.2884, 28.7338, 29.0712, 29.4060, 29.7906, 30.2193, 30.6441, 31.0005,\n",
      "         31.2378, 31.3390, 31.3298, 31.2706, 31.2392, 31.3073, 31.5196, 31.8799,\n",
      "         32.3486, 32.8500, 33.2889, 33.5714, 33.6241, 33.4088],\n",
      "        [22.9458, 25.1504, 27.4867, 29.6572, 31.3996, 32.5455, 33.0543, 33.0146,\n",
      "         32.6115, 32.0726, 31.6068, 31.3555, 31.3672, 31.6010, 31.9539, 32.3017,\n",
      "         32.5407, 32.6170, 32.5375, 32.3615, 32.1782, 32.0768, 32.1203, 32.3271,\n",
      "         32.6665, 33.0664, 33.4304, 33.6608, 33.6790, 33.4421],\n",
      "        [27.5023, 29.9963, 32.4239, 34.4737, 35.8962, 36.5600, 36.4801, 35.8089,\n",
      "         34.7932, 33.7111, 32.8051, 32.2300, 32.0299, 32.1448, 32.4445, 32.7749,\n",
      "         33.0052, 33.0606, 32.9357, 32.6851, 32.4001, 32.1763, 32.0856, 32.1565,\n",
      "         32.3678, 32.6558, 32.9317, 33.1023, 33.0920, 32.8573],\n",
      "        [28.9921, 31.2856, 33.4509, 35.2108, 36.3509, 36.7683, 36.4948, 35.6850,\n",
      "         34.5764, 33.4303, 32.4714, 31.8420, 31.5805, 31.6292, 31.8650, 32.1421,\n",
      "         32.3353, 32.3703, 32.2361, 31.9778, 31.6751, 31.4144, 31.2627, 31.2500,\n",
      "         31.3631, 31.5518, 31.7426, 31.8576, 31.8327, 31.6299],\n",
      "        [28.7165, 30.4739, 32.1217, 33.4508, 34.3006, 34.5951, 34.3596, 33.7120,\n",
      "         32.8329, 31.9210, 31.1480, 30.6238, 30.3802, 30.3761, 30.5199, 30.7018,\n",
      "         30.8260, 30.8342, 30.7155, 30.5013, 30.2501, 30.0263, 29.8810, 29.8381,\n",
      "         29.8903, 30.0022, 30.1214, 30.1915, 30.1657, 30.0158],\n",
      "        [28.0768, 29.2213, 30.2908, 31.1528, 31.7055, 31.9000, 31.7509, 31.3313,\n",
      "         30.7540, 30.1444, 29.6123, 29.2298, 29.0209, 28.9638, 29.0043, 29.0758,\n",
      "         29.1187, 29.0959, 28.9991, 28.8465, 28.6730, 28.5179, 28.4127, 28.3725,\n",
      "         28.3928, 28.4521, 28.5182, 28.5564, 28.5373, 28.4436],\n",
      "        [27.8499, 28.5045, 29.0982, 29.5612, 29.8415, 29.9158, 29.7948, 29.5194,\n",
      "         29.1512, 28.7586, 28.4016, 28.1210, 27.9329, 27.8291, 27.7841, 27.7648,\n",
      "         27.7409, 27.6927, 27.6146, 27.5145, 27.4089, 27.3170, 27.2538, 27.2266,\n",
      "         27.2324, 27.2598, 27.2917, 27.3098, 27.2988, 27.2494],\n",
      "        [28.1824, 28.5423, 28.8291, 29.0127, 29.0754, 29.0151, 28.8461, 28.5955,\n",
      "         28.2984, 27.9910, 27.7043, 27.4596, 27.2665, 27.1233, 27.0200, 26.9424,\n",
      "         26.8769, 26.8136, 26.7484, 26.6825, 26.6212, 26.5710, 26.5369, 26.5209,\n",
      "         26.5209, 26.5313, 26.5443, 26.5516, 26.5464, 26.5246],\n",
      "        [28.8536, 29.0937, 29.2356, 29.2682, 29.1922, 29.0192, 28.7695, 28.4685,\n",
      "         28.1431, 27.8178, 27.5125, 27.2407, 27.0096, 26.8202, 26.6690, 26.5498,\n",
      "         26.4557, 26.3802, 26.3188, 26.2688, 26.2292, 26.1999, 26.1808, 26.1711,\n",
      "         26.1689, 26.1715, 26.1756, 26.1780, 26.1759, 26.1678],\n",
      "        [29.5160, 29.7614, 29.8909, 29.8974, 29.7853, 29.5695, 29.2719, 28.9180,\n",
      "         28.5339, 28.1436, 27.7673, 27.4206, 27.1138, 26.8524, 26.6375, 26.4666,\n",
      "         26.3347, 26.2359, 26.1636, 26.1121, 26.0765, 26.0529, 26.0384, 26.0304,\n",
      "         26.0271, 26.0265, 26.0271, 26.0274, 26.0266, 26.0240],\n",
      "        [29.8754, 30.2046, 30.4230, 30.5169, 30.4825, 30.3258, 30.0607, 29.7076,\n",
      "         29.2911, 28.8376, 28.3740, 27.9246, 27.5098, 27.1442, 26.8362, 26.5878,\n",
      "         26.3960, 26.2541, 26.1534, 26.0847, 26.0399, 26.0118, 25.9951, 25.9858,\n",
      "         25.9810, 25.9788, 25.9779, 25.9776, 25.9771, 25.9764],\n",
      "        [29.7889, 30.2348, 30.6001, 30.8590, 30.9913, 30.9845, 30.8359, 30.5534,\n",
      "         30.1559, 29.6718, 29.1358, 28.5850, 28.0538, 27.5701, 27.1529, 26.8109,\n",
      "         26.5442, 26.3461, 26.2056, 26.1106, 26.0492, 26.0113, 25.9890, 25.9764,\n",
      "         25.9697, 25.9664, 25.9647, 25.9640, 25.9636, 25.9633],\n",
      "        [29.2396, 29.7810, 30.2884, 30.7238, 31.0488, 31.2300, 31.2441, 31.0831,\n",
      "         30.7569, 30.2928, 29.7315, 29.1210, 28.5090, 27.9364, 27.4328, 27.0144,\n",
      "         26.6849, 26.4385, 26.2632, 26.1444, 26.0677, 26.0203, 25.9925, 25.9768,\n",
      "         25.9684, 25.9641, 25.9620, 25.9610, 25.9606, 25.9603],\n",
      "        [28.2496, 28.8140, 29.3955, 29.9493, 30.4239, 30.7693, 30.9450, 30.9281,\n",
      "         30.7182, 30.3375, 29.8273, 29.2398, 28.6297, 28.0453, 27.5228, 27.0836,\n",
      "         26.7349, 26.4726, 26.2852, 26.1578, 26.0753, 26.0244, 25.9944, 25.9776,\n",
      "         25.9685, 25.9638, 25.9616, 25.9605, 25.9600, 25.9598],\n",
      "        [26.8710, 27.3643, 27.9233, 28.5038, 29.0499, 29.5031, 29.8124, 29.9439,\n",
      "         29.8865, 29.6539, 29.2806, 28.8147, 28.3085, 27.8097, 27.3552, 26.9682,\n",
      "         26.6580, 26.4231, 26.2544, 26.1394, 26.0647, 26.0185, 25.9912, 25.9759,\n",
      "         25.9676, 25.9634, 25.9613, 25.9603, 25.9599, 25.9597],\n",
      "        [25.2783, 25.6300, 26.0906, 26.6223, 27.1720, 27.6801, 28.0911, 28.3635,\n",
      "         28.4768, 28.4333, 28.2560, 27.9820, 27.6541, 27.3130, 26.9916, 26.7116,\n",
      "         26.4837, 26.3091, 26.1828, 26.0961, 26.0396, 26.0045, 25.9837, 25.9720,\n",
      "         25.9657, 25.9625, 25.9609, 25.9601, 25.9598, 25.9596],\n",
      "        [23.8197, 24.0128, 24.3480, 24.7963, 25.3108, 25.8352, 26.3135, 26.7002,\n",
      "         26.9670, 27.1055, 27.1261, 27.0528, 26.9165, 26.7485, 26.5754, 26.4163,\n",
      "         26.2821, 26.1769, 26.0995, 26.0456, 26.0102, 25.9881, 25.9750, 25.9675,\n",
      "         25.9635, 25.9614, 25.9604, 25.9599, 25.9597, 25.9596],\n",
      "        [22.8940, 22.9607, 23.1850, 23.5459, 24.0039, 24.5083, 25.0065, 25.4525,\n",
      "         25.8141, 26.0759, 26.2384, 26.3147, 26.3252, 26.2925, 26.2372, 26.1751,\n",
      "         26.1169, 26.0682, 26.0307, 26.0040, 25.9860, 25.9746, 25.9677, 25.9638,\n",
      "         25.9617, 25.9606, 25.9600, 25.9597, 25.9596, 25.9596],\n",
      "        [22.7061, 22.6995, 22.8433, 23.1226, 23.5058, 23.9503, 24.4101, 24.8436,\n",
      "         25.2199, 25.5211, 25.7425, 25.8903, 25.9773, 26.0192, 26.0315, 26.0267,\n",
      "         26.0143, 26.0001, 25.9875, 25.9776, 25.9706, 25.9659, 25.9631, 25.9614,\n",
      "         25.9605, 25.9600, 25.9598, 25.9596, 25.9596, 25.9596],\n",
      "        [23.1059, 23.0714, 23.1626, 23.3692, 23.6672, 24.0234, 24.4011, 24.7666,\n",
      "         25.0938, 25.3666, 25.5790, 25.7334, 25.8378, 25.9030, 25.9401, 25.9585,\n",
      "         25.9659, 25.9675, 25.9664, 25.9646, 25.9629, 25.9616, 25.9607, 25.9602,\n",
      "         25.9599, 25.9597, 25.9596, 25.9596, 25.9596, 25.9596],\n",
      "        [23.6610, 23.6226, 23.6830, 23.8350, 24.0609, 24.3352, 24.6300, 24.9189,\n",
      "         25.1814, 25.4044, 25.5822, 25.7158, 25.8103, 25.8735, 25.9131, 25.9364,\n",
      "         25.9492, 25.9556, 25.9585, 25.9596, 25.9599, 25.9599, 25.9598, 25.9597,\n",
      "         25.9596, 25.9596, 25.9596, 25.9596, 25.9596, 25.9596],\n",
      "        [23.9091, 23.8705, 23.9190, 24.0488, 24.2445, 24.4840, 24.7430, 24.9985,\n",
      "         25.2323, 25.4325, 25.5939, 25.7168, 25.8055, 25.8661, 25.9055, 25.9298,\n",
      "         25.9439, 25.9518, 25.9559, 25.9580, 25.9589, 25.9593, 25.9595, 25.9595,\n",
      "         25.9595, 25.9596, 25.9596, 25.9596, 25.9595, 25.9595],\n",
      "        [23.6146, 23.5687, 23.6221, 23.7682, 23.9897, 24.2616, 24.5563, 24.8476,\n",
      "         25.1148, 25.3443, 25.5299, 25.6720, 25.7751, 25.8462, 25.8928, 25.9219,\n",
      "         25.9392, 25.9490, 25.9543, 25.9571, 25.9584, 25.9591, 25.9594, 25.9595,\n",
      "         25.9595, 25.9595, 25.9595, 25.9595, 25.9595, 25.9595],\n",
      "        [22.8918, 22.8312, 22.9005, 23.0910, 23.3802, 23.7354, 24.1205, 24.5013,\n",
      "         24.8508, 25.1512, 25.3944, 25.5807, 25.7160, 25.8094, 25.8708, 25.9093,\n",
      "         25.9322, 25.9453, 25.9524, 25.9561, 25.9580, 25.9589, 25.9593, 25.9594,\n",
      "         25.9595, 25.9595, 25.9595, 25.9595, 25.9595, 25.9595],\n",
      "        [22.1428, 22.0674, 22.1535, 22.3904, 22.7500, 23.1919, 23.6709, 24.1447,\n",
      "         24.5795, 24.9532, 25.2558, 25.4877, 25.6561, 25.7724, 25.8489, 25.8968,\n",
      "         25.9254, 25.9418, 25.9507, 25.9553, 25.9576, 25.9587, 25.9592, 25.9594,\n",
      "         25.9595, 25.9595, 25.9595, 25.9595, 25.9595, 25.9595],\n",
      "        [21.8242, 21.7425, 21.8358, 22.0925, 22.4821, 22.9608, 23.4798, 23.9931,\n",
      "         24.4642, 24.8691, 25.1970, 25.4482, 25.6307, 25.7568, 25.8396, 25.8916,\n",
      "         25.9226, 25.9403, 25.9499, 25.9549, 25.9574, 25.9586, 25.9592, 25.9594,\n",
      "         25.9595, 25.9595, 25.9595, 25.9595, 25.9595, 25.9595],\n",
      "        [22.1631, 22.0881, 22.1737, 22.4094, 22.7670, 23.2065, 23.6830, 24.1542,\n",
      "         24.5867, 24.9584, 25.2595, 25.4901, 25.6577, 25.7734, 25.8495, 25.8971,\n",
      "         25.9256, 25.9418, 25.9507, 25.9553, 25.9576, 25.9587, 25.9592, 25.9594,\n",
      "         25.9595, 25.9595, 25.9595, 25.9595, 25.9595, 25.9595]])\n"
     ]
    },
    {
     "output_type": "display_data",
     "data": {
      "application/vnd.plotly.v1+json": {
       "data": [
        {
         "name": "GP regression",
         "x": [
          337.5,
          350.4310302734375,
          363.362060546875,
          376.2930908203125,
          389.22412109375,
          402.1551513671875,
          415.0862121582031,
          428.0172424316406,
          440.9482727050781,
          453.8793029785156,
          466.8103332519531,
          479.7413635253906,
          492.67242431640625,
          505.60345458984375,
          518.5344848632812,
          531.4655151367188,
          544.3965454101562,
          557.3275756835938,
          570.2586059570312,
          583.189697265625,
          596.1207275390625,
          609.0517578125,
          621.9827880859375,
          634.913818359375,
          647.8448486328125,
          660.77587890625,
          673.7069091796875,
          686.637939453125,
          699.5689697265625,
          712.5
         ],
         "y": [
          9.64285659790039,
          30.701967239379883,
          51.761077880859375,
          72.8201904296875,
          93.87930297851562,
          114.93841552734375,
          135.9975128173828,
          157.05662536621094,
          178.11573791503906,
          199.1748504638672,
          220.2339630126953,
          241.29306030273438,
          262.3521728515625,
          283.4112854003906,
          304.47039794921875,
          325.5295104980469,
          346.58868408203125,
          367.6477966308594,
          388.7069091796875,
          409.7659912109375,
          430.82513427734375,
          451.88421630859375,
          472.943359375,
          494.00244140625,
          515.0615844726562,
          536.1206665039062,
          557.1798095703125,
          578.2388916015625,
          599.2980346679688,
          620.3571166992188
         ],
         "z": [
          [
           1.8552227020263672,
           2.0328426361083984,
           7.321163177490234,
           15.448284149169922,
           22.945781707763672,
           27.502262115478516,
           28.99211883544922,
           28.716482162475586,
           28.076786041259766,
           27.84994125366211,
           28.18244171142578,
           28.853614807128906,
           29.516048431396484,
           29.875408172607422,
           29.78892707824707,
           29.239622116088867,
           28.249629974365234,
           26.871042251586914,
           25.27832794189453,
           23.81972312927246,
           22.894046783447266,
           22.70606803894043,
           23.105859756469727,
           23.66098403930664,
           23.909116744995117,
           23.614585876464844,
           22.89175796508789,
           22.142789840698242,
           21.824207305908203,
           22.163089752197266
          ],
          [
           1.4900646209716797,
           2.020721435546875,
           7.983573913574219,
           16.950138092041016,
           25.15036392211914,
           29.99633026123047,
           31.285621643066406,
           30.473947525024414,
           29.22134017944336,
           28.504478454589844,
           28.542287826538086,
           29.093666076660156,
           29.761377334594727,
           30.204622268676758,
           30.234804153442383,
           29.780990600585938,
           28.813989639282227,
           27.364280700683594,
           25.62997817993164,
           24.012779235839844,
           22.960735321044922,
           22.69951820373535,
           23.071447372436523,
           23.622589111328125,
           23.87049102783203,
           23.56868553161621,
           22.831241607666016,
           22.06740379333496,
           21.742525100708008,
           22.08810043334961
          ],
          [
           2.1753463745117188,
           3.052064895629883,
           9.459550857543945,
           18.911163330078125,
           27.486671447753906,
           32.42394256591797,
           33.45093536376953,
           32.121673583984375,
           30.290800094604492,
           29.09815788269043,
           28.829063415527344,
           29.235563278198242,
           29.890920639038086,
           30.42304801940918,
           30.600116729736328,
           30.288362503051758,
           29.39552116394043,
           27.923341751098633,
           26.090627670288086,
           24.3480281829834,
           23.185029983520508,
           22.84325408935547,
           23.162565231323242,
           23.682960510253906,
           23.91900634765625,
           23.622066497802734,
           22.900487899780273,
           22.153451919555664,
           21.835756301879883,
           22.173675537109375
          ],
          [
           3.835906982421875,
           5.007061004638672,
           11.569814682006836,
           21.085716247558594,
           29.65717315673828,
           34.4737434387207,
           35.21083068847656,
           33.45077133178711,
           31.15283966064453,
           29.56117820739746,
           29.0126895904541,
           29.268234252929688,
           29.897380828857422,
           30.51689910888672,
           30.859010696411133,
           30.72376823425293,
           29.949270248413086,
           28.5037841796875,
           26.622310638427734,
           24.79629898071289,
           23.54588508605957,
           23.12258529663086,
           23.369152069091797,
           23.835044860839844,
           24.04880714416504,
           23.768199920654297,
           23.09103775024414,
           22.39040756225586,
           22.092458724975586,
           22.409353256225586
          ],
          [
           6.281808853149414,
           7.659862518310547,
           14.066719055175781,
           23.214717864990234,
           31.399627685546875,
           35.89621353149414,
           36.350894927978516,
           34.30061340332031,
           31.705541610717773,
           29.84146499633789,
           29.075376510620117,
           29.19223976135254,
           29.785341262817383,
           30.482505798339844,
           30.99129295349121,
           31.04884910583496,
           30.423919677734375,
           29.04985237121582,
           27.171972274780273,
           25.310806274414062,
           24.003883361816406,
           23.505842208862305,
           23.667203903198242,
           24.0609130859375,
           24.244476318359375,
           23.98967933654785,
           23.380163192749023,
           22.750011444091797,
           22.4820556640625,
           22.76702117919922
          ],
          [
           9.246578216552734,
           10.724088668823242,
           16.686229705810547,
           25.081146240234375,
           32.54549789428711,
           36.56003189086914,
           36.768310546875,
           34.595088958740234,
           31.899986267089844,
           29.915815353393555,
           29.01513671875,
           29.01921844482422,
           29.569549560546875,
           30.32576560974121,
           30.984533309936523,
           31.23001480102539,
           30.769290924072266,
           29.503067016601562,
           27.6800594329834,
           25.835166931152344,
           24.50833511352539,
           23.950319290161133,
           24.023366928100586,
           24.335243225097656,
           24.484045028686523,
           24.261634826660156,
           23.735397338867188,
           23.191864013671875,
           22.96078109741211,
           23.20651626586914
          ],
          [
           12.43657398223877,
           13.906715393066406,
           19.19825553894043,
           26.553203582763672,
           33.054298400878906,
           36.480140686035156,
           36.49480438232422,
           34.35958480834961,
           31.750896453857422,
           29.794784545898438,
           28.846094131469727,
           28.769489288330078,
           29.271913528442383,
           30.060714721679688,
           30.835905075073242,
           31.24408531188965,
           30.944974899291992,
           29.812440872192383,
           28.091079711914062,
           26.313520431518555,
           25.006492614746094,
           24.410078048706055,
           24.401077270507812,
           24.629953384399414,
           24.743040084838867,
           24.55629539489746,
           24.120466232299805,
           23.670869827270508,
           23.47975730895996,
           23.682960510253906
          ],
          [
           15.580243110656738,
           16.956283569335938,
           21.442495346069336,
           27.60154914855957,
           33.01457977294922,
           35.80891418457031,
           35.68495559692383,
           33.71200942993164,
           31.331254959106445,
           29.519365310668945,
           28.595508575439453,
           28.46851921081543,
           28.91802406311035,
           29.707643508911133,
           30.553394317626953,
           31.08308982849121,
           30.9281063079834,
           29.943904876708984,
           28.3635311126709,
           26.70024299621582,
           25.452503204345703,
           24.843647003173828,
           24.766620635986328,
           24.91889190673828,
           24.99853515625,
           24.847604751586914,
           24.50132179260254,
           24.144664764404297,
           23.99309539794922,
           24.154224395751953
          ],
          [
           18.46466064453125,
           19.693401336669922,
           23.341678619384766,
           28.288406372070312,
           32.611515045166016,
           34.79322052001953,
           34.57638931274414,
           32.83292770385742,
           30.753963470458984,
           29.151243209838867,
           28.298416137695312,
           28.143083572387695,
           28.533933639526367,
           29.291067123413086,
           30.155895233154297,
           30.756916046142578,
           30.71817398071289,
           29.886516571044922,
           28.47677993774414,
           26.966976165771484,
           25.814136505126953,
           25.219907760620117,
           25.093849182128906,
           25.18142318725586,
           25.2322998046875,
           25.114778518676758,
           24.850807189941406,
           24.5794620513916,
           24.46417808532715,
           24.58670997619629
          ],
          [
           20.953323364257812,
           22.020347595214844,
           24.891948699951172,
           28.733837127685547,
           32.07255554199219,
           33.71113967895508,
           33.430274963378906,
           31.921009063720703,
           30.14438247680664,
           28.75859260559082,
           27.990976333618164,
           27.817781448364258,
           28.143630981445312,
           28.83763885498047,
           29.671775817871094,
           30.292797088623047,
           30.337512969970703,
           29.65389633178711,
           28.43330192565918,
           27.10547637939453,
           26.075895309448242,
           25.52105712890625,
           25.366641998291016,
           25.404373168945312,
           25.43250274658203,
           25.34425926208496,
           25.151168823242188,
           24.953182220458984,
           24.86909294128418,
           24.958444595336914
          ],
          [
           22.98586654663086,
           23.91097068786621,
           26.13758659362793,
           29.071245193481445,
           31.606809616088867,
           32.805091857910156,
           32.471435546875,
           31.14800262451172,
           29.61227035522461,
           28.401573181152344,
           27.70425796508789,
           27.51245880126953,
           27.76734733581543,
           28.373991012573242,
           29.135826110839844,
           29.73149299621582,
           29.827255249023438,
           29.280616760253906,
           28.256046295166016,
           27.126087188720703,
           26.238374710083008,
           25.742483139038086,
           25.579017639160156,
           25.582199096679688,
           25.593904495239258,
           25.529939651489258,
           25.394380569458008,
           25.255826950073242,
           25.197010040283203,
           25.259490966796875
          ],
          [
           24.563657760620117,
           25.389497756958008,
           27.14011573791504,
           29.406044006347656,
           31.355472564697266,
           32.229976654052734,
           31.841995239257812,
           30.62377166748047,
           29.22977638244629,
           28.121047973632812,
           27.45960235595703,
           27.240724563598633,
           27.420589447021484,
           27.92459487915039,
           28.585002899169922,
           29.120956420898438,
           29.239789962768555,
           28.814733505249023,
           27.982030868530273,
           27.05278205871582,
           26.314666748046875,
           25.890254974365234,
           25.73339080810547,
           25.715768814086914,
           25.716835021972656,
           25.67201805114746,
           25.580663681030273,
           25.4876651763916,
           25.44820785522461,
           25.490102767944336
          ],
          [
           25.72936248779297,
           26.50663948059082,
           27.953235626220703,
           29.790603637695312,
           31.36724281311035,
           32.029884338378906,
           31.58048439025879,
           30.380199432373047,
           29.020883560180664,
           27.932924270629883,
           27.266530990600586,
           27.009601593017578,
           27.113780975341797,
           27.509769439697266,
           28.053787231445312,
           28.50895881652832,
           28.629680633544922,
           28.30851173400879,
           27.65409278869629,
           26.916479110717773,
           26.325204849243164,
           25.977264404296875,
           25.837812423706055,
           25.810348510742188,
           25.805496215820312,
           25.77510643005371,
           25.71599006652832,
           25.65611457824707,
           25.6307315826416,
           25.657670974731445
          ],
          [
           26.547086715698242,
           27.32054901123047,
           28.609500885009766,
           30.21933937072754,
           31.60100555419922,
           32.14480209350586,
           31.629201889038086,
           30.3760986328125,
           28.96377182006836,
           27.8291072845459,
           27.123340606689453,
           26.820173263549805,
           26.852392196655273,
           27.144193649291992,
           27.57013511657715,
           27.936416625976562,
           28.0452823638916,
           27.809701919555664,
           27.312999725341797,
           26.748476028442383,
           26.292537689208984,
           26.019237518310547,
           25.903034210205078,
           25.87346649169922,
           25.86613655090332,
           25.846166610717773,
           25.809425354003906,
           25.772445678710938,
           25.75678253173828,
           25.773393630981445
          ],
          [
           27.087894439697266,
           27.886817932128906,
           29.121089935302734,
           30.644062042236328,
           31.953876495361328,
           32.44451904296875,
           31.864965438842773,
           30.519901275634766,
           29.004322052001953,
           27.784076690673828,
           27.02001190185547,
           26.668973922729492,
           26.637481689453125,
           26.8361759185791,
           27.152868270874023,
           27.43281364440918,
           27.522783279418945,
           27.35523223876953,
           26.99155044555664,
           26.57537269592285,
           26.237184524536133,
           26.03145980834961,
           25.940061569213867,
           25.9130916595459,
           25.905502319335938,
           25.89276885986328,
           25.870824813842773,
           25.848915100097656,
           25.839645385742188,
           25.849468231201172
          ],
          [
           27.42169189453125,
           28.256420135498047,
           29.490285873413086,
           31.000499725341797,
           32.30165481567383,
           32.774864196777344,
           32.14207077026367,
           30.70178985595703,
           29.07575225830078,
           27.764785766601562,
           26.942447662353516,
           26.549816131591797,
           26.466567993164062,
           26.587820053100586,
           26.81089973449707,
           27.01436996459961,
           27.083587646484375,
           26.968185424804688,
           26.711566925048828,
           26.4162654876709,
           26.175113677978516,
           26.02669334411621,
           25.95853042602539,
           25.9364070892334,
           25.929758071899414,
           25.921873092651367,
           25.909273147583008,
           25.896818161010742,
           25.891557693481445,
           25.897125244140625
          ],
          [
           27.61442756652832,
           28.479190826416016,
           29.724445343017578,
           31.237760543823242,
           32.540733337402344,
           33.00515365600586,
           32.335262298583984,
           30.82598876953125,
           29.118650436401367,
           27.740909576416016,
           26.876943588256836,
           26.45566177368164,
           26.334749221801758,
           26.39604377746582,
           26.54421615600586,
           26.684894561767578,
           26.734891891479492,
           26.65801239013672,
           26.483665466308594,
           26.282136917114258,
           26.116905212402344,
           26.014265060424805,
           25.96592140197754,
           25.949174880981445,
           25.943941116333008,
           25.939193725585938,
           25.932233810424805,
           25.925439834594727,
           25.922576904296875,
           25.92560386657715
          ],
          [
           27.727798461914062,
           28.60774040222168,
           29.84731101989746,
           31.339021682739258,
           32.61698913574219,
           33.06060791015625,
           32.370296478271484,
           30.8342227935791,
           29.09588623046875,
           27.692684173583984,
           26.813640594482422,
           26.38018798828125,
           26.23587989807129,
           26.254114151000977,
           26.346054077148438,
           26.43850326538086,
           26.47257423400879,
           26.423091888427734,
           26.309125900268555,
           26.17691993713379,
           26.06818199157715,
           26.000137329101562,
           25.967458724975586,
           25.955604553222656,
           25.951801300048828,
           25.94902229309082,
           25.945322036743164,
           25.94176483154297,
           25.940269470214844,
           25.941848754882812
          ],
          [
           27.818944931030273,
           28.69888687133789,
           29.90348243713379,
           31.329803466796875,
           32.5374870300293,
           32.93568801879883,
           32.23610305786133,
           30.71548080444336,
           28.999143600463867,
           27.614595413208008,
           26.74837303161621,
           26.318782806396484,
           26.16360092163086,
           26.153364181518555,
           26.205610275268555,
           26.263208389282227,
           26.285160064697266,
           26.254419326782227,
           26.18278694152832,
           26.099456787109375,
           26.030746459960938,
           25.987499237060547,
           25.96641731262207,
           25.958505630493164,
           25.955923080444336,
           25.954341888427734,
           25.95244598388672,
           25.95065689086914,
           25.949907302856445,
           25.95069694519043
          ],
          [
           27.938369750976562,
           28.810266494750977,
           29.95322036743164,
           31.27062225341797,
           32.361534118652344,
           32.685142517089844,
           31.977783203125,
           30.50129508972168,
           28.84648895263672,
           27.51446533203125,
           26.68250274658203,
           26.268800735473633,
           26.112098693847656,
           26.084733963012695,
           26.110597610473633,
           26.144412994384766,
           26.157779693603516,
           26.139358520507812,
           26.096088409423828,
           26.045642852783203,
           26.003965377807617,
           25.97761344909668,
           25.964614868164062,
           25.95961570739746,
           25.957962036132812,
           25.95708656311035,
           25.956148147583008,
           25.955286026000977,
           25.954925537109375,
           25.955305099487305
          ],
          [
           28.125967025756836,
           28.993183135986328,
           30.060386657714844,
           31.239238739013672,
           32.1782112121582,
           32.40005111694336,
           31.675079345703125,
           30.250078201293945,
           28.67298126220703,
           27.40890884399414,
           26.62122344970703,
           26.22923469543457,
           26.076496124267578,
           26.03988265991211,
           26.04920196533203,
           26.067651748657227,
           26.0753116607666,
           26.064666748046875,
           26.0395565032959,
           26.010236740112305,
           25.985973358154297,
           25.970577239990234,
           25.962913513183594,
           25.959909439086914,
           25.958908081054688,
           25.958436965942383,
           25.957988739013672,
           25.957590103149414,
           25.95742416381836,
           25.957597732543945
          ],
          [
           28.405906677246094,
           29.283201217651367,
           30.2767333984375,
           31.307336807250977,
           32.076839447021484,
           32.176273345947266,
           31.414396286010742,
           30.02630615234375,
           28.517932891845703,
           27.316959381103516,
           26.57098960876465,
           26.199947357177734,
           26.052927017211914,
           26.011825561523438,
           26.011306762695312,
           26.02032470703125,
           26.024404525756836,
           26.01846694946289,
           26.004472732543945,
           25.988113403320312,
           25.97456169128418,
           25.9659366607666,
           25.961612701416016,
           25.95989227294922,
           25.95931625366211,
           25.959070205688477,
           25.9588623046875,
           25.95868492126465,
           25.9586124420166,
           25.958688735961914
          ],
          [
           28.782114028930664,
           29.691808700561523,
           30.62777328491211,
           31.51958465576172,
           32.12027359008789,
           32.08562088012695,
           31.26272964477539,
           29.880956649780273,
           28.412744522094727,
           27.25383949279785,
           26.536916732788086,
           26.180822372436523,
           26.03837776184082,
           25.995121002197266,
           25.98897361755371,
           25.992469787597656,
           25.994417190551758,
           25.991214752197266,
           25.983722686767578,
           25.974964141845703,
           25.967700958251953,
           25.96306800842285,
           25.96073341369629,
           25.959793090820312,
           25.959476470947266,
           25.959352493286133,
           25.959260940551758,
           25.959184646606445,
           25.959152221679688,
           25.959184646606445
          ],
          [
           29.235998153686523,
           30.201560974121094,
           31.10392189025879,
           31.879928588867188,
           32.32707214355469,
           32.15648651123047,
           31.250003814697266,
           29.838123321533203,
           28.372480392456055,
           27.226594924926758,
           26.52090835571289,
           26.17106819152832,
           26.030441284179688,
           25.98577308654785,
           25.976428985595703,
           25.97681427001953,
           25.97755241394043,
           25.97587013244629,
           25.97201919555664,
           25.967517852783203,
           25.963783264160156,
           25.961397171020508,
           25.960189819335938,
           25.959699630737305,
           25.95953369140625,
           25.95947265625,
           25.95943260192871,
           25.959400177001953,
           25.959388732910156,
           25.959402084350586
          ],
          [
           29.727872848510742,
           30.766803741455078,
           31.65966796875,
           32.34857940673828,
           32.66650390625,
           32.36775588989258,
           31.363143920898438,
           29.89027214050293,
           28.392772674560547,
           27.2324275970459,
           26.52090835571289,
           26.168880462646484,
           26.02707862854004,
           25.98097038269043,
           25.969738006591797,
           25.968412399291992,
           25.968490600585938,
           25.967618942260742,
           25.965715408325195,
           25.963497161865234,
           25.961654663085938,
           25.96047592163086,
           25.959877014160156,
           25.959632873535156,
           25.959548950195312,
           25.95952033996582,
           25.959503173828125,
           25.959491729736328,
           25.95948600769043,
           25.959491729736328
          ],
          [
           30.202547073364258,
           31.320430755615234,
           32.221046447753906,
           32.84996032714844,
           33.06635665893555,
           32.65584182739258,
           31.55178451538086,
           30.0022029876709,
           28.45212745666504,
           27.259803771972656,
           26.53130340576172,
           26.1715087890625,
           26.026485443115234,
           25.978788375854492,
           25.966360092163086,
           25.964111328125,
           25.963838577270508,
           25.96337890625,
           25.962472915649414,
           25.961421966552734,
           25.96055030822754,
           25.959993362426758,
           25.95970916748047,
           25.959592819213867,
           25.959552764892578,
           25.95953941345215,
           25.959531784057617,
           25.95952796936035,
           25.95952606201172,
           25.95952796936035
          ],
          [
           30.598445892333984,
           31.785640716552734,
           32.69989776611328,
           33.28894805908203,
           33.43043518066406,
           32.931663513183594,
           31.742557525634766,
           30.12139129638672,
           28.51824378967285,
           27.291675567626953,
           26.544269561767578,
           26.175642013549805,
           26.027055740356445,
           25.977933883666992,
           25.96474838256836,
           25.962005615234375,
           25.961557388305664,
           25.96129608154297,
           25.960878372192383,
           25.96040153503418,
           25.960006713867188,
           25.959753036499023,
           25.959623336791992,
           25.959569931030273,
           25.959550857543945,
           25.959545135498047,
           25.959543228149414,
           25.95954132080078,
           25.95954132080078,
           25.95954132080078
          ],
          [
           30.858810424804688,
           32.090476989746094,
           33.01156997680664,
           33.571434020996094,
           33.6607666015625,
           33.102317810058594,
           31.857646942138672,
           30.19154930114746,
           28.556354522705078,
           27.309776306152344,
           26.551584243774414,
           26.177997589111328,
           26.027442932128906,
           25.977561950683594,
           25.9639949798584,
           25.961017608642578,
           25.960485458374023,
           25.960317611694336,
           25.960128784179688,
           25.95992088317871,
           25.959749221801758,
           25.959638595581055,
           25.95958137512207,
           25.959558486938477,
           25.959550857543945,
           25.959548950195312,
           25.95954704284668,
           25.95954704284668,
           25.95954704284668,
           25.95954704284668
          ],
          [
           30.94230079650879,
           32.18169021606445,
           33.09189224243164,
           33.624088287353516,
           33.67898178100586,
           33.09198760986328,
           31.832698822021484,
           30.165699005126953,
           28.53731918334961,
           27.298789978027344,
           26.54640007019043,
           26.17591094970703,
           26.026636123657227,
           25.977136611938477,
           25.96360206604004,
           25.96056365966797,
           25.96000099182129,
           25.95987892150879,
           25.959793090820312,
           25.959705352783203,
           25.959632873535156,
           25.95958709716797,
           25.959562301635742,
           25.959552764892578,
           25.959548950195312,
           25.959548950195312,
           25.959548950195312,
           25.959548950195312,
           25.959548950195312,
           25.959548950195312
          ],
          [
           30.830833435058594,
           32.03493881225586,
           32.909706115722656,
           33.40884017944336,
           33.44205856323242,
           32.857337951660156,
           31.629898071289062,
           30.01578140258789,
           28.443557739257812,
           27.249433517456055,
           26.524566650390625,
           26.16777801513672,
           26.0240478515625,
           25.97637176513672,
           25.96330451965332,
           25.960346221923828,
           25.959789276123047,
           25.959688186645508,
           25.95964813232422,
           25.959611892700195,
           25.959583282470703,
           25.959564208984375,
           25.95955467224121,
           25.959550857543945,
           25.959548950195312,
           25.959548950195312,
           25.959548950195312,
           25.959548950195312,
           25.959548950195312,
           25.959548950195312
          ]
         ],
         "type": "surface"
        },
        {
         "marker": {
          "color": "darkgreen"
         },
         "mode": "markers",
         "name": "training data",
         "x": [
          350,
          350,
          350,
          350,
          350,
          360,
          380,
          400,
          400,
          400,
          400,
          400,
          500,
          600,
          700,
          389.20001220703125,
          544.4000244140625,
          440.8999938964844,
          402.20001220703125
         ],
         "y": [
          30,
          60,
          120,
          300,
          600,
          30,
          30,
          30,
          60,
          120,
          300,
          600,
          30,
          30,
          30,
          309.6000061035156,
          150,
          199.89999389648438,
          279.70001220703125
         ],
         "z": [
          0.31095001101493835,
          3.050879955291748,
          11.487239837646484,
          27.853260040283203,
          32.442138671875,
          5.914820194244385,
          20.168760299682617,
          26.66847038269043,
          35.82332992553711,
          36.27027130126953,
          35.18614959716797,
          33.61565017700195,
          30.255699157714844,
          22.557350158691406,
          21.468669891357422,
          31.507869720458984,
          31.268070220947266,
          30.208850860595703,
          29.97977066040039
         ],
         "type": "scatter3d"
        }
       ],
       "layout": {
        "template": {
         "data": {
          "bar": [
           {
            "error_x": {
             "color": "#2a3f5f"
            },
            "error_y": {
             "color": "#2a3f5f"
            },
            "marker": {
             "line": {
              "color": "#E5ECF6",
              "width": 0.5
             },
             "pattern": {
              "fillmode": "overlay",
              "size": 10,
              "solidity": 0.2
             }
            },
            "type": "bar"
           }
          ],
          "barpolar": [
           {
            "marker": {
             "line": {
              "color": "#E5ECF6",
              "width": 0.5
             },
             "pattern": {
              "fillmode": "overlay",
              "size": 10,
              "solidity": 0.2
             }
            },
            "type": "barpolar"
           }
          ],
          "carpet": [
           {
            "aaxis": {
             "endlinecolor": "#2a3f5f",
             "gridcolor": "white",
             "linecolor": "white",
             "minorgridcolor": "white",
             "startlinecolor": "#2a3f5f"
            },
            "baxis": {
             "endlinecolor": "#2a3f5f",
             "gridcolor": "white",
             "linecolor": "white",
             "minorgridcolor": "white",
             "startlinecolor": "#2a3f5f"
            },
            "type": "carpet"
           }
          ],
          "choropleth": [
           {
            "colorbar": {
             "outlinewidth": 0,
             "ticks": ""
            },
            "type": "choropleth"
           }
          ],
          "contour": [
           {
            "colorbar": {
             "outlinewidth": 0,
             "ticks": ""
            },
            "colorscale": [
             [
              0,
              "#0d0887"
             ],
             [
              0.1111111111111111,
              "#46039f"
             ],
             [
              0.2222222222222222,
              "#7201a8"
             ],
             [
              0.3333333333333333,
              "#9c179e"
             ],
             [
              0.4444444444444444,
              "#bd3786"
             ],
             [
              0.5555555555555556,
              "#d8576b"
             ],
             [
              0.6666666666666666,
              "#ed7953"
             ],
             [
              0.7777777777777778,
              "#fb9f3a"
             ],
             [
              0.8888888888888888,
              "#fdca26"
             ],
             [
              1,
              "#f0f921"
             ]
            ],
            "type": "contour"
           }
          ],
          "contourcarpet": [
           {
            "colorbar": {
             "outlinewidth": 0,
             "ticks": ""
            },
            "type": "contourcarpet"
           }
          ],
          "heatmap": [
           {
            "colorbar": {
             "outlinewidth": 0,
             "ticks": ""
            },
            "colorscale": [
             [
              0,
              "#0d0887"
             ],
             [
              0.1111111111111111,
              "#46039f"
             ],
             [
              0.2222222222222222,
              "#7201a8"
             ],
             [
              0.3333333333333333,
              "#9c179e"
             ],
             [
              0.4444444444444444,
              "#bd3786"
             ],
             [
              0.5555555555555556,
              "#d8576b"
             ],
             [
              0.6666666666666666,
              "#ed7953"
             ],
             [
              0.7777777777777778,
              "#fb9f3a"
             ],
             [
              0.8888888888888888,
              "#fdca26"
             ],
             [
              1,
              "#f0f921"
             ]
            ],
            "type": "heatmap"
           }
          ],
          "heatmapgl": [
           {
            "colorbar": {
             "outlinewidth": 0,
             "ticks": ""
            },
            "colorscale": [
             [
              0,
              "#0d0887"
             ],
             [
              0.1111111111111111,
              "#46039f"
             ],
             [
              0.2222222222222222,
              "#7201a8"
             ],
             [
              0.3333333333333333,
              "#9c179e"
             ],
             [
              0.4444444444444444,
              "#bd3786"
             ],
             [
              0.5555555555555556,
              "#d8576b"
             ],
             [
              0.6666666666666666,
              "#ed7953"
             ],
             [
              0.7777777777777778,
              "#fb9f3a"
             ],
             [
              0.8888888888888888,
              "#fdca26"
             ],
             [
              1,
              "#f0f921"
             ]
            ],
            "type": "heatmapgl"
           }
          ],
          "histogram": [
           {
            "marker": {
             "pattern": {
              "fillmode": "overlay",
              "size": 10,
              "solidity": 0.2
             }
            },
            "type": "histogram"
           }
          ],
          "histogram2d": [
           {
            "colorbar": {
             "outlinewidth": 0,
             "ticks": ""
            },
            "colorscale": [
             [
              0,
              "#0d0887"
             ],
             [
              0.1111111111111111,
              "#46039f"
             ],
             [
              0.2222222222222222,
              "#7201a8"
             ],
             [
              0.3333333333333333,
              "#9c179e"
             ],
             [
              0.4444444444444444,
              "#bd3786"
             ],
             [
              0.5555555555555556,
              "#d8576b"
             ],
             [
              0.6666666666666666,
              "#ed7953"
             ],
             [
              0.7777777777777778,
              "#fb9f3a"
             ],
             [
              0.8888888888888888,
              "#fdca26"
             ],
             [
              1,
              "#f0f921"
             ]
            ],
            "type": "histogram2d"
           }
          ],
          "histogram2dcontour": [
           {
            "colorbar": {
             "outlinewidth": 0,
             "ticks": ""
            },
            "colorscale": [
             [
              0,
              "#0d0887"
             ],
             [
              0.1111111111111111,
              "#46039f"
             ],
             [
              0.2222222222222222,
              "#7201a8"
             ],
             [
              0.3333333333333333,
              "#9c179e"
             ],
             [
              0.4444444444444444,
              "#bd3786"
             ],
             [
              0.5555555555555556,
              "#d8576b"
             ],
             [
              0.6666666666666666,
              "#ed7953"
             ],
             [
              0.7777777777777778,
              "#fb9f3a"
             ],
             [
              0.8888888888888888,
              "#fdca26"
             ],
             [
              1,
              "#f0f921"
             ]
            ],
            "type": "histogram2dcontour"
           }
          ],
          "mesh3d": [
           {
            "colorbar": {
             "outlinewidth": 0,
             "ticks": ""
            },
            "type": "mesh3d"
           }
          ],
          "parcoords": [
           {
            "line": {
             "colorbar": {
              "outlinewidth": 0,
              "ticks": ""
             }
            },
            "type": "parcoords"
           }
          ],
          "pie": [
           {
            "automargin": true,
            "type": "pie"
           }
          ],
          "scatter": [
           {
            "marker": {
             "colorbar": {
              "outlinewidth": 0,
              "ticks": ""
             }
            },
            "type": "scatter"
           }
          ],
          "scatter3d": [
           {
            "line": {
             "colorbar": {
              "outlinewidth": 0,
              "ticks": ""
             }
            },
            "marker": {
             "colorbar": {
              "outlinewidth": 0,
              "ticks": ""
             }
            },
            "type": "scatter3d"
           }
          ],
          "scattercarpet": [
           {
            "marker": {
             "colorbar": {
              "outlinewidth": 0,
              "ticks": ""
             }
            },
            "type": "scattercarpet"
           }
          ],
          "scattergeo": [
           {
            "marker": {
             "colorbar": {
              "outlinewidth": 0,
              "ticks": ""
             }
            },
            "type": "scattergeo"
           }
          ],
          "scattergl": [
           {
            "marker": {
             "colorbar": {
              "outlinewidth": 0,
              "ticks": ""
             }
            },
            "type": "scattergl"
           }
          ],
          "scattermapbox": [
           {
            "marker": {
             "colorbar": {
              "outlinewidth": 0,
              "ticks": ""
             }
            },
            "type": "scattermapbox"
           }
          ],
          "scatterpolar": [
           {
            "marker": {
             "colorbar": {
              "outlinewidth": 0,
              "ticks": ""
             }
            },
            "type": "scatterpolar"
           }
          ],
          "scatterpolargl": [
           {
            "marker": {
             "colorbar": {
              "outlinewidth": 0,
              "ticks": ""
             }
            },
            "type": "scatterpolargl"
           }
          ],
          "scatterternary": [
           {
            "marker": {
             "colorbar": {
              "outlinewidth": 0,
              "ticks": ""
             }
            },
            "type": "scatterternary"
           }
          ],
          "surface": [
           {
            "colorbar": {
             "outlinewidth": 0,
             "ticks": ""
            },
            "colorscale": [
             [
              0,
              "#0d0887"
             ],
             [
              0.1111111111111111,
              "#46039f"
             ],
             [
              0.2222222222222222,
              "#7201a8"
             ],
             [
              0.3333333333333333,
              "#9c179e"
             ],
             [
              0.4444444444444444,
              "#bd3786"
             ],
             [
              0.5555555555555556,
              "#d8576b"
             ],
             [
              0.6666666666666666,
              "#ed7953"
             ],
             [
              0.7777777777777778,
              "#fb9f3a"
             ],
             [
              0.8888888888888888,
              "#fdca26"
             ],
             [
              1,
              "#f0f921"
             ]
            ],
            "type": "surface"
           }
          ],
          "table": [
           {
            "cells": {
             "fill": {
              "color": "#EBF0F8"
             },
             "line": {
              "color": "white"
             }
            },
            "header": {
             "fill": {
              "color": "#C8D4E3"
             },
             "line": {
              "color": "white"
             }
            },
            "type": "table"
           }
          ]
         },
         "layout": {
          "annotationdefaults": {
           "arrowcolor": "#2a3f5f",
           "arrowhead": 0,
           "arrowwidth": 1
          },
          "autotypenumbers": "strict",
          "coloraxis": {
           "colorbar": {
            "outlinewidth": 0,
            "ticks": ""
           }
          },
          "colorscale": {
           "diverging": [
            [
             0,
             "#8e0152"
            ],
            [
             0.1,
             "#c51b7d"
            ],
            [
             0.2,
             "#de77ae"
            ],
            [
             0.3,
             "#f1b6da"
            ],
            [
             0.4,
             "#fde0ef"
            ],
            [
             0.5,
             "#f7f7f7"
            ],
            [
             0.6,
             "#e6f5d0"
            ],
            [
             0.7,
             "#b8e186"
            ],
            [
             0.8,
             "#7fbc41"
            ],
            [
             0.9,
             "#4d9221"
            ],
            [
             1,
             "#276419"
            ]
           ],
           "sequential": [
            [
             0,
             "#0d0887"
            ],
            [
             0.1111111111111111,
             "#46039f"
            ],
            [
             0.2222222222222222,
             "#7201a8"
            ],
            [
             0.3333333333333333,
             "#9c179e"
            ],
            [
             0.4444444444444444,
             "#bd3786"
            ],
            [
             0.5555555555555556,
             "#d8576b"
            ],
            [
             0.6666666666666666,
             "#ed7953"
            ],
            [
             0.7777777777777778,
             "#fb9f3a"
            ],
            [
             0.8888888888888888,
             "#fdca26"
            ],
            [
             1,
             "#f0f921"
            ]
           ],
           "sequentialminus": [
            [
             0,
             "#0d0887"
            ],
            [
             0.1111111111111111,
             "#46039f"
            ],
            [
             0.2222222222222222,
             "#7201a8"
            ],
            [
             0.3333333333333333,
             "#9c179e"
            ],
            [
             0.4444444444444444,
             "#bd3786"
            ],
            [
             0.5555555555555556,
             "#d8576b"
            ],
            [
             0.6666666666666666,
             "#ed7953"
            ],
            [
             0.7777777777777778,
             "#fb9f3a"
            ],
            [
             0.8888888888888888,
             "#fdca26"
            ],
            [
             1,
             "#f0f921"
            ]
           ]
          },
          "colorway": [
           "#636efa",
           "#EF553B",
           "#00cc96",
           "#ab63fa",
           "#FFA15A",
           "#19d3f3",
           "#FF6692",
           "#B6E880",
           "#FF97FF",
           "#FECB52"
          ],
          "font": {
           "color": "#2a3f5f"
          },
          "geo": {
           "bgcolor": "white",
           "lakecolor": "white",
           "landcolor": "#E5ECF6",
           "showlakes": true,
           "showland": true,
           "subunitcolor": "white"
          },
          "hoverlabel": {
           "align": "left"
          },
          "hovermode": "closest",
          "mapbox": {
           "style": "light"
          },
          "paper_bgcolor": "white",
          "plot_bgcolor": "#E5ECF6",
          "polar": {
           "angularaxis": {
            "gridcolor": "white",
            "linecolor": "white",
            "ticks": ""
           },
           "bgcolor": "#E5ECF6",
           "radialaxis": {
            "gridcolor": "white",
            "linecolor": "white",
            "ticks": ""
           }
          },
          "scene": {
           "xaxis": {
            "backgroundcolor": "#E5ECF6",
            "gridcolor": "white",
            "gridwidth": 2,
            "linecolor": "white",
            "showbackground": true,
            "ticks": "",
            "zerolinecolor": "white"
           },
           "yaxis": {
            "backgroundcolor": "#E5ECF6",
            "gridcolor": "white",
            "gridwidth": 2,
            "linecolor": "white",
            "showbackground": true,
            "ticks": "",
            "zerolinecolor": "white"
           },
           "zaxis": {
            "backgroundcolor": "#E5ECF6",
            "gridcolor": "white",
            "gridwidth": 2,
            "linecolor": "white",
            "showbackground": true,
            "ticks": "",
            "zerolinecolor": "white"
           }
          },
          "shapedefaults": {
           "line": {
            "color": "#2a3f5f"
           }
          },
          "ternary": {
           "aaxis": {
            "gridcolor": "white",
            "linecolor": "white",
            "ticks": ""
           },
           "baxis": {
            "gridcolor": "white",
            "linecolor": "white",
            "ticks": ""
           },
           "bgcolor": "#E5ECF6",
           "caxis": {
            "gridcolor": "white",
            "linecolor": "white",
            "ticks": ""
           }
          },
          "title": {
           "x": 0.05
          },
          "xaxis": {
           "automargin": true,
           "gridcolor": "white",
           "linecolor": "white",
           "ticks": "",
           "title": {
            "standoff": 15
           },
           "zerolinecolor": "white",
           "zerolinewidth": 2
          },
          "yaxis": {
           "automargin": true,
           "gridcolor": "white",
           "linecolor": "white",
           "ticks": "",
           "title": {
            "standoff": 15
           },
           "zerolinecolor": "white",
           "zerolinewidth": 2
          }
         }
        },
        "legend": {
         "orientation": "h",
         "yanchor": "top",
         "y": 1.02,
         "xanchor": "left",
         "x": 1
        },
        "margin": {
         "r": 20,
         "l": 10,
         "b": 10,
         "t": 10
        },
        "width": 1000,
        "height": 800,
        "scene": {
         "xaxis": {
          "title": {
           "text": "RTA temperature (C)"
          }
         },
         "yaxis": {
          "title": {
           "text": "RTA time (sec)"
          }
         },
         "zaxis": {
          "title": {
           "text": "2Pr (uC/cm2), Pristine"
          }
         },
         "camera": {
          "up": {
           "x": 0,
           "y": 0,
           "z": 1
          },
          "center": {
           "x": 0,
           "y": 0,
           "z": 0
          },
          "eye": {
           "x": -2,
           "y": -2.5,
           "z": 1.75
          }
         }
        }
       },
       "config": {
        "plotlyServerURL": "https://plot.ly"
       }
      }
     },
     "metadata": {}
    }
   ],
   "metadata": {}
  },
  {
   "cell_type": "code",
   "execution_count": 14,
   "source": [
    "# # log scale\n",
    "# pred_labels = obs.mean.view(n, n)\n",
    "# # plot?...\n",
    "# import plotly.graph_objects as go\n",
    "# fig = go.Figure(data=[go.Surface(z=pred_labels.numpy().T, x=test_grid[:,0], y=test_grid[:,1], name='GP regression')])\n",
    "# fig.add_trace(go.Scatter3d(x=train_x[:,0].numpy(),y=train_x[:,1].numpy(),  \n",
    "#                         z=train_y.numpy(), mode='markers', marker={'color':'darkgreen'}, name='trianing data'))\n",
    "# fig.update_layout( #width=1000, height=800,\n",
    "#                   legend=dict(orientation=\"h\", yanchor=\"top\", y=1.02, xanchor=\"left\",x=1),\n",
    "#                    margin=dict(r=20, l=10, b=10, t=10), \n",
    "#                     scene=dict(\n",
    "#                     xaxis_title=\"RTA temperature (C)\",\n",
    "#                     yaxis_title=\"RTA time (sec)\",\n",
    "#                     zaxis_title='2Pr (uC/cm2), Pristine')\n",
    "#                 )\n",
    "# fig.show()"
   ],
   "outputs": [],
   "metadata": {}
  },
  {
   "cell_type": "markdown",
   "source": [
    "# Evaluate acquisition functions\n",
    "This is a bit over-engineered at the moment, as it was built to allow use of the acquisition functions in bayesian optimization loops (botorch functionality).  The below cells should suffice to return the needed results.  "
   ],
   "metadata": {}
  },
  {
   "cell_type": "code",
   "execution_count": 15,
   "source": [
    "# Evaluate acquisition functions on current predictions (observations)\n",
    "\n",
    "from src.acq_funcs import EI, PI, cust_acq, thompson\n",
    "bounds = [1,1]\n",
    "\n",
    "# Probability of Improvement\n",
    "PI_acq = PI(obs, bounds, train_y)\n",
    "PI_acq_shape = PI_acq.detach().numpy().reshape(30,30).T\n",
    "\n",
    "# Expected Improvement\n",
    "EI_acq = EI(obs, bounds, train_y)\n",
    "EI_acq_shape = EI_acq.detach().numpy().reshape(30,30).T\n",
    "\n",
    "# Custom Acquisition (something I was playing with)\n",
    "ca_acq = cust_acq(obs, bounds, train_y)\n",
    "ca_acq_shape = ca_acq.detach().numpy().reshape(30,30).T\n",
    "\n",
    "# Thompson Acquisition function\n",
    "th_acq = thompson(obs, bounds, train_y)\n",
    "th_acq_shape = th_acq.detach().numpy().reshape(30,30).T\n",
    "# fig = go.Figure(data=[go.Surface(z=acq, x=test_grid[:,0], y=test_grid[:,1])])\n"
   ],
   "outputs": [],
   "metadata": {}
  },
  {
   "cell_type": "code",
   "execution_count": 16,
   "source": [
    "ei = np.unravel_index(EI_acq_shape.argmax(), EI_acq_shape.shape)\n",
    "pi = np.unravel_index(PI_acq_shape.argmax(), PI_acq_shape.shape)\n",
    "ca = np.unravel_index(ca_acq_shape.argmax(), ca_acq_shape.shape)\n",
    "th = np.unravel_index(th_acq_shape.argmax(), th_acq_shape.shape)"
   ],
   "outputs": [],
   "metadata": {}
  },
  {
   "cell_type": "code",
   "execution_count": 17,
   "source": [
    "# Plot the acquisition function results alongside the confidence bound surfaces\n",
    "pred_var = obs.variance.view(n, n).detach().numpy().T\n",
    "lower, upper = obs.confidence_region()\n",
    "upper_surf = upper.detach().numpy().reshape(30,30).T\n",
    "lower_surf = lower.detach().numpy().reshape(30,30).T\n",
    "\n",
    "ucb = np.unravel_index(upper_surf.argmax(), upper_surf.shape)\n",
    "max_var = np.unravel_index(pred_var.argmax(), pred_var.shape)\n",
    "ei = np.unravel_index(EI_acq_shape.argmax(), EI_acq_shape.shape)\n",
    "pi = np.unravel_index(PI_acq_shape.argmax(), PI_acq_shape.shape)\n",
    "\n",
    "# plot?...\n",
    "import plotly.graph_objects as go\n",
    "fig = go.Figure(data=[go.Surface(z = upper_surf, x=test_grid[:,0], y=test_grid[:,1], opacity=0.5, showscale=False)])\n",
    "fig.add_trace(go.Surface(z = lower_surf, x=test_grid[:,0], y=test_grid[:,1], opacity=0.5, showscale=False))\n",
    "fig.add_trace(go.Scatter3d(x=train_x[:,0].numpy(), y=train_x[:,1].numpy(), \n",
    "                            z=train_y.numpy(), mode='markers', name='training data', marker={'color':'darkgreen'}))\n",
    "\n",
    "fig.add_trace(go.Scatter3d(x=test_grid[ucb[1], 0].numpy(), y=test_grid[ucb[0], 1].numpy(), \n",
    "                            z=[pred_labels[ucb[0], ucb[1]]], mode='markers', name='max(upper confidence bound)')) \n",
    "fig.add_trace(go.Scatter3d(x=test_grid[th[1], 0].numpy(), y=test_grid[th[0],1].numpy(), \n",
    "                            z=[pred_labels[th[0], th[1]].detach().numpy()], mode='markers', name='max(thompson)')) \n",
    "fig.add_trace(go.Scatter3d(x=test_grid[pi[1], 0].numpy(), y=test_grid[pi[0], 1].numpy(), z=[pred_labels[pi[0], pi[1]]], mode='markers', name='max(pi)'))\n",
    "\n",
    "fig.add_trace(go.Scatter3d(x=test_grid[ei[1], 0].numpy(), y=test_grid[ei[0], 1].numpy(), z=[pred_labels[ei\n",
    "[0], ei[1]]], mode='markers', name='max(ei)'))\n",
    "\n",
    "fig.add_trace(go.Scatter3d(x=test_grid[ca[1], 0].numpy(), y=test_grid[ca[0], 1].numpy(), z=[pred_labels[ca[0], ca[1]]], mode='markers', name='max(ca)'))\n",
    "\n",
    "\n",
    "fig.update_layout( width=800, height=600,\n",
    "                  margin=dict(r=20, l=10, b=10, t=10),\n",
    "                  legend=dict(orientation=\"h\", yanchor=\"bottom\", y=1.02, xanchor=\"right\",x=1),\n",
    "                  scene=dict(\n",
    "                    xaxis_title=\"RTA temperature (C)\",\n",
    "                    yaxis_title=\"RTA time (sec)\",\n",
    "                    zaxis_title='2Pr (uC/cm2), Pristine')\n",
    "                  )\n",
    "fig.show()"
   ],
   "outputs": [
    {
     "output_type": "display_data",
     "data": {
      "application/vnd.plotly.v1+json": {
       "data": [
        {
         "opacity": 0.5,
         "showscale": false,
         "x": [
          337.5,
          350.4310302734375,
          363.362060546875,
          376.2930908203125,
          389.22412109375,
          402.1551513671875,
          415.0862121582031,
          428.0172424316406,
          440.9482727050781,
          453.8793029785156,
          466.8103332519531,
          479.7413635253906,
          492.67242431640625,
          505.60345458984375,
          518.5344848632812,
          531.4655151367188,
          544.3965454101562,
          557.3275756835938,
          570.2586059570312,
          583.189697265625,
          596.1207275390625,
          609.0517578125,
          621.9827880859375,
          634.913818359375,
          647.8448486328125,
          660.77587890625,
          673.7069091796875,
          686.637939453125,
          699.5689697265625,
          712.5
         ],
         "y": [
          9.64285659790039,
          30.701967239379883,
          51.761077880859375,
          72.8201904296875,
          93.87930297851562,
          114.93841552734375,
          135.9975128173828,
          157.05662536621094,
          178.11573791503906,
          199.1748504638672,
          220.2339630126953,
          241.29306030273438,
          262.3521728515625,
          283.4112854003906,
          304.47039794921875,
          325.5295104980469,
          346.58868408203125,
          367.6477966308594,
          388.7069091796875,
          409.7659912109375,
          430.82513427734375,
          451.88421630859375,
          472.943359375,
          494.00244140625,
          515.0615844726562,
          536.1206665039062,
          557.1798095703125,
          578.2388916015625,
          599.2980346679688,
          620.3571166992188
         ],
         "z": [
          [
           10.60147476196289,
           8.381410598754883,
           13.378982543945312,
           21.69092559814453,
           29.19021987915039,
           34.29924774169922,
           38.3417854309082,
           41.64900207519531,
           43.639827728271484,
           44.22109603881836,
           43.34421920776367,
           40.80680465698242,
           37.497764587402344,
           37.53075408935547,
           41.08363723754883,
           43.63035583496094,
           44.080562591552734,
           42.69893264770508,
           39.51698684692383,
           34.67863464355469,
           30.251846313476562,
           31.192337036132812,
           35.69892501831055,
           39.33786392211914,
           40.80149841308594,
           39.91490173339844,
           36.736629486083984,
           31.992660522460938,
           28.88579559326172,
           31.73646354675293
          ],
          [
           9.475439071655273,
           7.460813522338867,
           13.417228698730469,
           22.669248580932617,
           30.64517593383789,
           35.82038497924805,
           39.877899169921875,
           42.90694808959961,
           44.421207427978516,
           44.588584899902344,
           43.44430923461914,
           40.699771881103516,
           37.10036087036133,
           37.04677963256836,
           40.799259185791016,
           43.345279693603516,
           43.751678466796875,
           42.41831970214844,
           39.28361511230469,
           34.308998107910156,
           29.517536163330078,
           30.5833740234375,
           35.402069091796875,
           39.19804763793945,
           40.714805603027344,
           39.79486846923828,
           36.480995178222656,
           31.441720962524414,
           27.974998474121094,
           31.159706115722656
          ],
          [
           9.869373321533203,
           8.290327072143555,
           15.123737335205078,
           24.98407745361328,
           33.02947235107422,
           37.914794921875,
           41.68224334716797,
           44.17835998535156,
           45.06883239746094,
           44.830177307128906,
           43.607826232910156,
           41.08869171142578,
           37.987205505371094,
           37.88075256347656,
           40.91661071777344,
           42.929813385009766,
           43.11602783203125,
           41.977020263671875,
           39.277957916259766,
           34.80180358886719,
           30.563047409057617,
           31.44066619873047,
           35.80437469482422,
           39.37666320800781,
           40.818504333496094,
           39.93275451660156,
           36.77238464355469,
           32.067840576171875,
           29.005611419677734,
           31.815017700195312
          ],
          [
           11.528748512268066,
           10.380643844604492,
           17.796615600585938,
           27.859214782714844,
           35.606040954589844,
           39.987060546875,
           43.297401428222656,
           45.12034606933594,
           45.33336639404297,
           44.77997970581055,
           43.722023010253906,
           41.812870025634766,
           39.65489959716797,
           39.54387664794922,
           41.340946197509766,
           42.317779541015625,
           42.08149719238281,
           41.31565475463867,
           39.455039978027344,
           35.99996566772461,
           32.7838134765625,
           33.340938568115234,
           36.786766052246094,
           39.83415603637695,
           41.092674255371094,
           40.299705505371094,
           37.53265380859375,
           33.60562515258789,
           31.287403106689453,
           33.413238525390625
          ],
          [
           14.119401931762695,
           13.232725143432617,
           20.841440200805664,
           30.676719665527344,
           37.79338073730469,
           41.54745101928711,
           44.33985900878906,
           45.43699264526367,
           44.99152374267578,
           44.28483581542969,
           43.655006408691406,
           42.60059356689453,
           41.41883850097656,
           41.31990432739258,
           41.885711669921875,
           41.509918212890625,
           40.636985778808594,
           40.449344635009766,
           39.75712585449219,
           37.560089111328125,
           35.336082458496094,
           35.617645263671875,
           38.093414306640625,
           40.47566604614258,
           41.487571716308594,
           40.82434844970703,
           38.580833435058594,
           35.56098175048828,
           33.91779327392578,
           35.42890167236328
          ],
          [
           17.38205337524414,
           16.612943649291992,
           23.986238479614258,
           33.17359924316406,
           39.409420013427734,
           42.46955871582031,
           44.661434173583984,
           44.98334884643555,
           43.91763687133789,
           43.26207733154297,
           43.31821823120117,
           43.226375579833984,
           42.88890075683594,
           42.813743591308594,
           42.406463623046875,
           40.651710510253906,
           38.9492301940918,
           39.53801727294922,
           40.156429290771484,
           39.165138244628906,
           37.73672103881836,
           37.817501068115234,
           39.46535873413086,
           41.188140869140625,
           41.94033432006836,
           41.41872024536133,
           39.717872619628906,
           37.532752990722656,
           36.40940856933594,
           37.4486198425293
          ],
          [
           21.10283088684082,
           20.424108505249023,
           27.14226531982422,
           35.31218719482422,
           40.52766799926758,
           42.8792724609375,
           44.34744644165039,
           43.816741943359375,
           42.142601013183594,
           41.75678253173828,
           42.71778869628906,
           43.585113525390625,
           43.92490005493164,
           43.89508819580078,
           42.8607063293457,
           40.064247131347656,
           37.531070709228516,
           38.9268798828125,
           40.666481018066406,
           40.616065979003906,
           39.763946533203125,
           39.70634460449219,
           40.71697235107422,
           41.874351501464844,
           42.39249801635742,
           42.00381851196289,
           40.78770446777344,
           39.28358840942383,
           38.5396728515625,
           39.23371887207031
          ],
          [
           24.993396759033203,
           24.426881790161133,
           30.19800567626953,
           37.099021911621094,
           41.243988037109375,
           42.898353576660156,
           43.592674255371094,
           42.18939208984375,
           39.90231704711914,
           39.99266052246094,
           41.97514343261719,
           43.69047546386719,
           44.536529541015625,
           44.58048629760742,
           43.2776985168457,
           40.09236526489258,
           37.262123107910156,
           39.009849548339844,
           41.308250427246094,
           41.824302673339844,
           41.34494400024414,
           41.19532775878906,
           41.74999237060547,
           42.47083282470703,
           42.801475524902344,
           42.52482223510742,
           41.69853210449219,
           40.70783233642578,
           40.231204986572266,
           40.68069076538086
          ],
          [
           28.65410041809082,
           28.177230834960938,
           32.921512603759766,
           38.479095458984375,
           41.563812255859375,
           42.54277420043945,
           42.57501220703125,
           40.493812561035156,
           37.70365524291992,
           38.40433120727539,
           41.30329895019531,
           43.63615417480469,
           44.813228607177734,
           44.954105377197266,
           43.69236755371094,
           40.782623291015625,
           38.395328521728516,
           39.85801315307617,
           42.06013488769531,
           42.77311706542969,
           42.49543762207031,
           42.287200927734375,
           42.53761291503906,
           42.949520111083984,
           43.14404296875,
           42.95429611206055,
           42.416908264160156,
           41.78962326049805,
           41.4942626953125,
           41.776458740234375
          ],
          [
           31.678878784179688,
           31.215930938720703,
           35.03704071044922,
           39.355220794677734,
           41.45032501220703,
           41.80417251586914,
           41.42487335205078,
           39.15742492675781,
           36.34974670410156,
           37.55223083496094,
           40.92811965942383,
           43.542388916015625,
           44.87139129638672,
           45.113563537597656,
           44.10043716430664,
           41.841796875,
           40.142974853515625,
           41.12912368774414,
           42.84226608276367,
           43.48015594482422,
           43.278564453125,
           43.03644561767578,
           43.09941101074219,
           43.309661865234375,
           43.41370391845703,
           43.287200927734375,
           42.950077056884766,
           42.56621170043945,
           42.3887939453125,
           42.56086730957031
          ],
          [
           33.791358947753906,
           33.23832321166992,
           36.349586486816406,
           39.66176223754883,
           40.901649475097656,
           40.73213195800781,
           40.27809143066406,
           38.49235153198242,
           36.433876037597656,
           37.75635528564453,
           40.9771614074707,
           43.50480651855469,
           44.815895080566406,
           45.13837432861328,
           44.45964431762695,
           42.92254638671875,
           41.826499938964844,
           42.41402816772461,
           43.548954010009766,
           43.97368621826172,
           43.774391174316406,
           43.518402099609375,
           43.477561950683594,
           43.56651306152344,
           43.615264892578125,
           43.532623291015625,
           43.32700729370117,
           43.098480224609375,
           42.99467849731445,
           43.09703063964844
          ],
          [
           34.931453704833984,
           34.167877197265625,
           36.82234191894531,
           39.419132232666016,
           39.98662185668945,
           39.464603424072266,
           39.33509826660156,
           38.585411071777344,
           37.632972717285156,
           38.804283142089844,
           41.41655731201172,
           43.56395721435547,
           44.719390869140625,
           45.08079147338867,
           44.72038269042969,
           43.80030822753906,
           43.14951705932617,
           43.45775604248047,
           44.09524154663086,
           44.28395080566406,
           44.06024169921875,
           43.80794906616211,
           43.719093322753906,
           43.74151611328125,
           43.75929641723633,
           43.706085205078125,
           43.58331298828125,
           43.450069427490234,
           43.39052963256836,
           43.450218200683594
          ],
          [
           35.29891586303711,
           34.19812774658203,
           36.61955261230469,
           38.77032470703125,
           38.870269775390625,
           38.266197204589844,
           38.88005447387695,
           39.333160400390625,
           39.30608367919922,
           40.23704147338867,
           42.092979431152344,
           43.7059440612793,
           44.61974334716797,
           44.97203063964844,
           44.854461669921875,
           44.38559341430664,
           44.035362243652344,
           44.16517639160156,
           44.443687438964844,
           44.4434700012207,
           44.201377868652344,
           43.96803665161133,
           43.86568069458008,
           43.855918884277344,
           43.85805130004883,
           43.824188232421875,
           43.752098083496094,
           43.675621032714844,
           43.6419677734375,
           43.676239013671875
          ],
          [
           35.363040924072266,
           33.87010955810547,
           36.160247802734375,
           38.03263473510742,
           37.887847900390625,
           37.62190628051758,
           39.19379425048828,
           40.54472732543945,
           41.04228591918945,
           41.687644958496094,
           42.828208923339844,
           43.8863525390625,
           44.52964782714844,
           44.83289337158203,
           44.865623474121094,
           44.68580627441406,
           44.52264404296875,
           44.549285888671875,
           44.60496139526367,
           44.48844909667969,
           44.249046325683594,
           44.046226501464844,
           43.949790954589844,
           43.927711486816406,
           43.923095703125,
           43.90180969238281,
           43.860137939453125,
           43.81684875488281,
           43.79804229736328,
           43.817440032958984
          ],
          [
           35.74964904785156,
           34.103599548339844,
           36.137550354003906,
           37.74809646606445,
           37.655086517333984,
           38.14717102050781,
           40.328006744384766,
           42.00419998168945,
           42.62371063232422,
           42.94590759277344,
           43.486785888671875,
           44.05845642089844,
           44.44949722290039,
           44.68083190917969,
           44.78319549560547,
           44.7630500793457,
           44.70555114746094,
           44.68115234375,
           44.622013092041016,
           44.456886291503906,
           44.24174118041992,
           44.075950622558594,
           43.994720458984375,
           43.970821380615234,
           43.96421813964844,
           43.951026916503906,
           43.9273567199707,
           43.90324401855469,
           43.89287567138672,
           43.90367126464844
          ],
          [
           36.84602737426758,
           35.52326583862305,
           37.13129425048828,
           38.450347900390625,
           38.70292663574219,
           39.84602355957031,
           42.00452423095703,
           43.50010299682617,
           43.93935012817383,
           43.921531677246094,
           43.996917724609375,
           44.19117736816406,
           44.376888275146484,
           44.5316047668457,
           44.64772033691406,
           44.69829559326172,
           44.69291687011719,
           44.650421142578125,
           44.549659729003906,
           44.38409423828125,
           44.20709991455078,
           44.079498291015625,
           44.016319274902344,
           43.995426177978516,
           43.98911666870117,
           43.98108673095703,
           43.96792984008789,
           43.95476531982422,
           43.94915008544922,
           43.95503234863281
          ],
          [
           38.5013542175293,
           37.71023941040039,
           38.96388626098633,
           40.06654739379883,
           40.67462158203125,
           42.039878845214844,
           43.81474685668945,
           44.85165786743164,
           44.94414520263672,
           44.602943420410156,
           44.342079162597656,
           44.273536682128906,
           44.31085205078125,
           44.39775085449219,
           44.4971923828125,
           44.56585693359375,
           44.5808219909668,
           44.53840637207031,
           44.4378662109375,
           44.29811096191406,
           44.163604736328125,
           44.07094192504883,
           44.024898529052734,
           44.008636474609375,
           44.00351333618164,
           43.99872589111328,
           43.991600036621094,
           43.984596252441406,
           43.98162841796875,
           43.98474884033203
          ],
          [
           40.31171798706055,
           39.996498107910156,
           41.04505157470703,
           42.03425216674805,
           42.84154510498047,
           44.141815185546875,
           45.42847442626953,
           45.932533264160156,
           45.638580322265625,
           45.024810791015625,
           44.541683197021484,
           44.31013488769531,
           44.252235412597656,
           44.286903381347656,
           44.3586540222168,
           44.419830322265625,
           44.438682556152344,
           44.404258728027344,
           44.32255554199219,
           44.21743392944336,
           44.122215270996094,
           44.058563232421875,
           44.026878356933594,
           44.01520538330078,
           44.011436462402344,
           44.00865173339844,
           44.004905700683594,
           44.00128936767578,
           43.99976348876953,
           44.001373291015625
          ],
          [
           41.959136962890625,
           42.00112533569336,
           42.94768142700195,
           43.88420867919922,
           44.74961471557617,
           45.84449768066406,
           46.65753936767578,
           46.682899475097656,
           46.05516052246094,
           45.24354553222656,
           44.63185501098633,
           44.31355285644531,
           44.20246124267578,
           44.20147705078125,
           44.24615478515625,
           44.291259765625,
           44.30711364746094,
           44.282440185546875,
           44.22380065917969,
           44.15139389038086,
           44.08815002441406,
           44.04668045043945,
           44.02599334716797,
           44.018150329589844,
           44.01557922363281,
           44.01399612426758,
           44.012088775634766,
           44.010284423828125,
           44.00952911376953,
           44.01032257080078
          ],
          [
           43.2763671875,
           43.56452178955078,
           44.46965026855469,
           45.378440856933594,
           46.20166015625,
           47.02977752685547,
           47.43767547607422,
           47.10413360595703,
           46.24658966064453,
           45.32025909423828,
           44.651180267333984,
           44.2978630065918,
           44.1624755859375,
           44.139793395996094,
           44.163108825683594,
           44.19233703613281,
           44.203453063964844,
           44.187286376953125,
           44.14883041381836,
           44.102439880371094,
           44.06278991699219,
           44.03710174560547,
           44.02425003051758,
           44.01927185058594,
           44.01762390136719,
           44.016746520996094,
           44.01580810546875,
           44.01494216918945,
           44.01457977294922,
           44.01496124267578
          ],
          [
           44.200836181640625,
           44.64237976074219,
           45.546226501464844,
           46.43584442138672,
           47.14516830444336,
           47.686729431152344,
           47.78470230102539,
           47.239078521728516,
           46.273738861083984,
           45.310302734375,
           44.6326904296875,
           44.27486038208008,
           44.13226318359375,
           44.09783935546875,
           44.10640335083008,
           44.12330627441406,
           44.13020324707031,
           44.12032699584961,
           44.09685516357422,
           44.06892395019531,
           44.04534912109375,
           44.030181884765625,
           44.02256774902344,
           44.019569396972656,
           44.01856994628906,
           44.018096923828125,
           44.01765060424805,
           44.017250061035156,
           44.017086029052734,
           44.01725769042969
          ],
          [
           44.71954345703125,
           45.236175537109375,
           46.17556381225586,
           47.054168701171875,
           47.5952033996582,
           47.85003662109375,
           47.74774169921875,
           47.14612579345703,
           46.1939697265625,
           45.25762939453125,
           44.60070037841797,
           44.25269317626953,
           44.110984802246094,
           44.07089614868164,
           44.0701904296875,
           44.07872772216797,
           44.08257293701172,
           44.076873779296875,
           44.063392639160156,
           44.04747009277344,
           44.03413391113281,
           44.02558135986328,
           44.021270751953125,
           44.019554138183594,
           44.01898193359375,
           44.018733978271484,
           44.018524169921875,
           44.018348693847656,
           44.01827621459961,
           44.01835250854492
          ],
          [
           44.830223083496094,
           45.34916305541992,
           46.368988037109375,
           47.255645751953125,
           47.58281326293945,
           47.55547332763672,
           47.37328338623047,
           46.87762451171875,
           46.05223846435547,
           45.192543029785156,
           44.570556640625,
           44.235939025878906,
           44.09728240966797,
           44.05458068847656,
           44.04840850830078,
           44.0517692565918,
           44.05364990234375,
           44.050514221191406,
           44.043174743652344,
           44.03453826904297,
           44.02733612060547,
           44.022727966308594,
           44.02039337158203,
           44.01945495605469,
           44.019142150878906,
           44.01901626586914,
           44.018924713134766,
           44.01884841918945,
           44.01881408691406,
           44.01884841918945
          ],
          [
           44.52656173706055,
           44.968727111816406,
           46.128318786621094,
           47.05885696411133,
           47.12812805175781,
           46.818023681640625,
           46.69017791748047,
           46.471317291259766,
           45.87797546386719,
           45.132057189941406,
           44.549747467041016,
           44.226192474365234,
           44.08956527709961,
           44.04535675048828,
           44.03602981567383,
           44.036380767822266,
           44.03710174560547,
           44.035438537597656,
           44.03162384033203,
           44.027156829833984,
           44.0234375,
           44.02105712890625,
           44.01985168457031,
           44.01936340332031,
           44.019195556640625,
           44.019134521484375,
           44.01909637451172,
           44.019065856933594,
           44.01905059814453,
           44.019065856933594
          ],
          [
           43.81128692626953,
           44.07779312133789,
           45.453643798828125,
           46.48109436035156,
           46.243316650390625,
           45.63849639892578,
           45.72136306762695,
           45.95798873901367,
           45.6887092590332,
           45.08250427246094,
           44.539634704589844,
           44.22284698486328,
           44.08616638183594,
           44.04058074951172,
           44.02938461303711,
           44.028053283691406,
           44.02812576293945,
           44.027259826660156,
           44.025367736816406,
           44.023155212402344,
           44.02131652832031,
           44.0201416015625,
           44.01953887939453,
           44.01929473876953,
           44.01921081542969,
           44.01918411254883,
           44.0191650390625,
           44.01915740966797,
           44.01914978027344,
           44.01915740966797
          ],
          [
           42.735801696777344,
           42.695613861083984,
           44.382423400878906,
           45.57197189331055,
           44.969024658203125,
           44.04186248779297,
           44.521644592285156,
           45.3810920715332,
           45.49811553955078,
           45.04345703125,
           44.53743362426758,
           44.22382736206055,
           44.08543395996094,
           44.03839874267578,
           44.02601623535156,
           44.02376937866211,
           44.02349853515625,
           44.02303695678711,
           44.022132873535156,
           44.02108383178711,
           44.02021408081055,
           44.019657135009766,
           44.019371032714844,
           44.019256591796875,
           44.01921844482422,
           44.019203186035156,
           44.019195556640625,
           44.01919174194336,
           44.019187927246094,
           44.01919174194336
          ],
          [
           41.462406158447266,
           40.95431900024414,
           43.059478759765625,
           44.4727783203125,
           43.44684600830078,
           42.154300689697266,
           43.23476028442383,
           44.81580352783203,
           45.323028564453125,
           45.01164245605469,
           44.538238525390625,
           44.226322174072266,
           44.085853576660156,
           44.03753662109375,
           44.02440643310547,
           44.02166748046875,
           44.021217346191406,
           44.020957946777344,
           44.020538330078125,
           44.02006530761719,
           44.01966857910156,
           44.01941680908203,
           44.019287109375,
           44.01923370361328,
           44.01921463012695,
           44.01921081542969,
           44.01920700073242,
           44.019203186035156,
           44.019203186035156,
           44.019203186035156
          ],
          [
           40.331756591796875,
           39.24583053588867,
           41.83070373535156,
           43.47822189331055,
           42.030670166015625,
           40.35137939453125,
           42.14341735839844,
           44.368404388427734,
           45.18384552001953,
           44.983314514160156,
           44.53668212890625,
           44.227474212646484,
           44.08612823486328,
           44.03715896606445,
           44.02365493774414,
           44.02068328857422,
           44.02014923095703,
           44.019981384277344,
           44.01979064941406,
           44.01958465576172,
           44.019412994384766,
           44.01930236816406,
           44.01924514770508,
           44.019222259521484,
           44.01921463012695,
           44.01921081542969,
           44.01921081542969,
           44.01921081542969,
           44.01921081542969,
           44.01921081542969
          ],
          [
           39.82884216308594,
           38.401485443115234,
           41.24758529663086,
           42.99742889404297,
           41.32687759399414,
           39.42756652832031,
           41.619178771972656,
           44.14022445678711,
           45.096771240234375,
           44.95461654663086,
           44.52811813354492,
           44.22492980957031,
           44.08527374267578,
           44.03672790527344,
           44.02326202392578,
           44.020225524902344,
           44.0196647644043,
           44.0195426940918,
           44.01945495605469,
           44.019371032714844,
           44.01929473876953,
           44.019248962402344,
           44.01922607421875,
           44.01921844482422,
           44.01921081542969,
           44.01921081542969,
           44.01921081542969,
           44.01921081542969,
           44.01921081542969,
           44.01921081542969
          ],
          [
           40.235408782958984,
           39.08522415161133,
           41.65445327758789,
           43.257816314697266,
           41.73370361328125,
           40.005279541015625,
           41.85707473754883,
           44.16849136352539,
           45.06300735473633,
           44.920928955078125,
           44.50928497314453,
           44.21720886230469,
           44.082725524902344,
           44.03596878051758,
           44.02296447753906,
           44.02001190185547,
           44.01945495605469,
           44.019351959228516,
           44.019309997558594,
           44.0192756652832,
           44.019248962402344,
           44.01922607421875,
           44.01921844482422,
           44.01921463012695,
           44.01921081542969,
           44.01921081542969,
           44.01921081542969,
           44.01921081542969,
           44.01921081542969,
           44.01921081542969
          ]
         ],
         "type": "surface"
        },
        {
         "opacity": 0.5,
         "showscale": false,
         "x": [
          337.5,
          350.4310302734375,
          363.362060546875,
          376.2930908203125,
          389.22412109375,
          402.1551513671875,
          415.0862121582031,
          428.0172424316406,
          440.9482727050781,
          453.8793029785156,
          466.8103332519531,
          479.7413635253906,
          492.67242431640625,
          505.60345458984375,
          518.5344848632812,
          531.4655151367188,
          544.3965454101562,
          557.3275756835938,
          570.2586059570312,
          583.189697265625,
          596.1207275390625,
          609.0517578125,
          621.9827880859375,
          634.913818359375,
          647.8448486328125,
          660.77587890625,
          673.7069091796875,
          686.637939453125,
          699.5689697265625,
          712.5
         ],
         "y": [
          9.64285659790039,
          30.701967239379883,
          51.761077880859375,
          72.8201904296875,
          93.87930297851562,
          114.93841552734375,
          135.9975128173828,
          157.05662536621094,
          178.11573791503906,
          199.1748504638672,
          220.2339630126953,
          241.29306030273438,
          262.3521728515625,
          283.4112854003906,
          304.47039794921875,
          325.5295104980469,
          346.58868408203125,
          367.6477966308594,
          388.7069091796875,
          409.7659912109375,
          430.82513427734375,
          451.88421630859375,
          472.943359375,
          494.00244140625,
          515.0615844726562,
          536.1206665039062,
          557.1798095703125,
          578.2388916015625,
          599.2980346679688,
          620.3571166992188
         ],
         "z": [
          [
           -6.891029357910156,
           -4.315725803375244,
           1.2633438110351562,
           9.205642700195312,
           16.701343536376953,
           20.70527458190918,
           19.642452239990234,
           15.783963203430176,
           12.51374340057373,
           11.47878646850586,
           13.02066421508789,
           16.90042495727539,
           21.534330368041992,
           22.220060348510742,
           18.494216918945312,
           14.848886489868164,
           12.41869831085205,
           11.04315185546875,
           11.039669036865234,
           12.960809707641602,
           15.536247253417969,
           14.21979808807373,
           10.51279354095459,
           7.984103202819824,
           7.01673698425293,
           7.314271926879883,
           9.046886444091797,
           12.292919158935547,
           14.762619018554688,
           12.589715957641602
          ],
          [
           -6.495309829711914,
           -3.419370651245117,
           2.549919605255127,
           11.231027603149414,
           19.65555191040039,
           24.17227554321289,
           22.693342208862305,
           18.04094696044922,
           14.02147388458252,
           12.420373916625977,
           13.640267372131348,
           17.487560272216797,
           22.422395706176758,
           23.362464904785156,
           19.67034912109375,
           16.21670150756836,
           13.876300811767578,
           12.31024169921875,
           11.976341247558594,
           13.716559410095215,
           16.403934478759766,
           14.815662384033203,
           10.740825653076172,
           8.047130584716797,
           7.026178359985352,
           7.342504501342773,
           9.181487083435059,
           12.693086624145508,
           15.510051727294922,
           13.016494750976562
          ],
          [
           -5.518681049346924,
           -2.186197280883789,
           3.7953643798828125,
           12.838249206542969,
           21.94386863708496,
           26.933088302612305,
           25.219629287719727,
           20.064987182617188,
           15.512768745422363,
           13.36613655090332,
           14.050302505493164,
           17.382434844970703,
           21.794635772705078,
           22.965343475341797,
           20.28362274169922,
           17.64691162109375,
           15.675016403198242,
           13.869661331176758,
           12.90329647064209,
           13.894253730773926,
           15.807012557983398,
           14.245841979980469,
           10.520753860473633,
           7.989259719848633,
           7.019506454467773,
           7.311378479003906,
           9.028593063354492,
           12.23906135559082,
           14.665901184082031,
           12.532334327697754
          ],
          [
           -3.8569345474243164,
           -0.36652231216430664,
           5.343014717102051,
           14.312217712402344,
           23.70830535888672,
           28.960426330566406,
           27.12425994873047,
           21.78119659423828,
           16.972312927246094,
           14.342375755310059,
           14.303354263305664,
           16.72359848022461,
           20.139860153198242,
           21.48992347717285,
           20.3770751953125,
           19.129756927490234,
           17.81704330444336,
           15.691914558410645,
           13.789581298828125,
           13.592632293701172,
           14.307958602905273,
           12.9042329788208,
           9.9515380859375,
           7.835932731628418,
           7.004938125610352,
           7.236696243286133,
           8.649423599243164,
           11.175189971923828,
           12.897515296936035,
           11.405467987060547
          ],
          [
           -1.555783748626709,
           2.0870003700256348,
           7.29199743270874,
           15.752717018127441,
           25.005874633789062,
           30.244976043701172,
           28.36193084716797,
           23.164234161376953,
           18.419557571411133,
           15.398096084594727,
           14.495745658874512,
           15.783884048461914,
           18.15184211730957,
           19.64510726928711,
           20.096874237060547,
           20.587779998779297,
           20.210853576660156,
           17.650360107421875,
           14.586819648742676,
           13.061525344848633,
           12.671682357788086,
           11.39404010772705,
           9.240995407104492,
           7.646160125732422,
           7.001380920410156,
           7.155012130737305,
           8.17949104309082,
           9.939040184020996,
           11.046316146850586,
           10.105138778686523
          ],
          [
           1.1111021041870117,
           4.835233211517334,
           9.386220932006836,
           16.98869514465332,
           25.681575775146484,
           30.6505069732666,
           28.875185012817383,
           24.206829071044922,
           19.882335662841797,
           16.569555282592773,
           14.712056159973145,
           14.81206226348877,
           16.250198364257812,
           17.837785720825195,
           19.562602996826172,
           21.808319091796875,
           22.589351654052734,
           19.46811866760254,
           15.203688621520996,
           12.505194664001465,
           11.279950141906738,
           10.083138465881348,
           8.581374168395996,
           7.4823455810546875,
           7.0277557373046875,
           7.104549407958984,
           7.752923965454102,
           8.850974082946777,
           9.512155532836914,
           8.9644136428833
          ],
          [
           3.7703170776367188,
           7.389322280883789,
           11.25424575805664,
           17.794219970703125,
           25.580928802490234,
           30.081008911132812,
           28.642162322998047,
           24.902427673339844,
           21.35919189453125,
           17.832788467407227,
           14.97439956665039,
           13.953864097595215,
           14.618927955627441,
           16.226343154907227,
           18.81110382080078,
           22.42392349243164,
           24.35887908935547,
           20.698001861572266,
           15.515679359436035,
           12.01097583770752,
           10.249040603637695,
           9.113809585571289,
           8.085182189941406,
           7.385553359985352,
           7.0935821533203125,
           7.108772277832031,
           7.453229904174805,
           8.058152198791504,
           8.419841766357422,
           8.1322021484375
          ],
          [
           6.167088508605957,
           9.485685348510742,
           12.68698501586914,
           18.104076385498047,
           24.785171508789062,
           28.71947479248047,
           27.777238845825195,
           25.23462677001953,
           22.76019287109375,
           19.046072006225586,
           15.215871810913086,
           13.246562957763672,
           13.299517631530762,
           14.834799766540527,
           17.829090118408203,
           22.073814392089844,
           24.594091415405273,
           20.877960205078125,
           15.418813705444336,
           11.57618236541748,
           9.560063362121582,
           8.491966247558594,
           7.7832489013671875,
           7.366950988769531,
           7.195596694946289,
           7.170387268066406,
           7.304109573364258,
           7.5814971923828125,
           7.754985809326172,
           7.627758026123047
          ],
          [
           8.27522087097168,
           11.20957088470459,
           13.761845588684082,
           18.097715377807617,
           23.65921974182129,
           27.04366683959961,
           26.577768325805664,
           25.172040939331055,
           23.804271697998047,
           19.898155212402344,
           15.293535232543945,
           12.650012969970703,
           12.254638671875,
           13.628029823303223,
           16.619422912597656,
           20.73120880126953,
           23.041019439697266,
           19.915019989013672,
           14.893424987792969,
           11.160833358764648,
           9.132837295532227,
           8.15261459350586,
           7.650087356567383,
           7.413326263427734,
           7.320558547973633,
           7.275260925292969,
           7.284706115722656,
           7.369300842285156,
           7.43409538269043,
           7.396963119506836
          ],
          [
           10.227766990661621,
           12.8247652053833,
           14.746857643127441,
           18.11245346069336,
           22.694786071777344,
           25.618106842041016,
           25.43567657470703,
           24.684593200683594,
           23.93901824951172,
           19.964954376220703,
           15.053833961486816,
           12.093172073364258,
           11.415870666503906,
           12.561716079711914,
           15.243115425109863,
           18.74379539489746,
           20.53205108642578,
           18.178668975830078,
           14.024338722229004,
           10.730798721313477,
           8.873228073120117,
           8.005670547485352,
           7.633871078491211,
           7.49908447265625,
           7.451299667358398,
           7.401317596435547,
           7.352260589599609,
           7.340152740478516,
           7.349390029907227,
           7.356019973754883
          ],
          [
           12.180373191833496,
           14.5836181640625,
           15.92558479309082,
           18.480728149414062,
           22.311969757080078,
           24.8780517578125,
           24.664779663085938,
           23.803653717041016,
           22.790664672851562,
           19.046789169311523,
           14.431353569030762,
           11.520112037658691,
           10.718799591064453,
           11.609609603881836,
           13.812006950378418,
           16.54043960571289,
           17.82801055908203,
           16.147205352783203,
           12.963139533996582,
           10.27849006652832,
           8.70235824584961,
           7.96656608581543,
           7.680471420288086,
           7.59788703918457,
           7.572542190551758,
           7.527256011962891,
           7.461753845214844,
           7.413171768188477,
           7.399341583251953,
           7.421953201293945
          ],
          [
           14.19586181640625,
           16.61111831665039,
           17.457889556884766,
           19.392955780029297,
           22.724323272705078,
           24.995349884033203,
           24.348892211914062,
           22.662132263183594,
           20.82657814025879,
           17.437814712524414,
           13.502649307250977,
           10.917491912841797,
           10.121788024902344,
           10.76839828491211,
           12.449623107910156,
           14.441603660583496,
           15.330062866210938,
           14.171709060668945,
           11.868820190429688,
           9.821615219116211,
           8.569093704223633,
           7.972560882568359,
           7.747688293457031,
           7.690021514892578,
           7.674373626708984,
           7.63795280456543,
           7.578014373779297,
           7.525260925292969,
           7.505886077880859,
           7.529985427856445
          ],
          [
           16.159809112548828,
           18.81515121459961,
           19.28691864013672,
           20.810882568359375,
           23.864215850830078,
           25.79357147216797,
           24.280914306640625,
           21.427236557006836,
           18.73568344116211,
           15.628806114196777,
           12.440083503723145,
           10.31325912475586,
           9.607818603515625,
           10.047508239746094,
           11.253114700317383,
           12.632323265075684,
           13.223999977111816,
           12.451848030090332,
           10.864496231079102,
           9.389488220214844,
           8.449031829833984,
           7.986492156982422,
           7.809944152832031,
           7.764776229858398,
           7.752941131591797,
           7.726022720336914,
           7.679882049560547,
           7.636606216430664,
           7.619497299194336,
           7.639104843139648
          ],
          [
           17.73113250732422,
           20.770986557006836,
           21.058753967285156,
           22.406042098999023,
           25.314163208007812,
           26.667695999145508,
           24.064607620239258,
           20.207469940185547,
           16.885257720947266,
           13.970568656921387,
           11.41847038269043,
           9.75399398803711,
           9.17513656616211,
           9.455495834350586,
           10.274648666381836,
           11.187026977539062,
           11.567920684814453,
           11.070119857788086,
           10.021038055419922,
           9.008504867553711,
           8.336029052734375,
           7.992250442504883,
           7.856279373168945,
           7.819219589233398,
           7.809177398681641,
           7.790525436401367,
           7.75871467590332,
           7.72804069519043,
           7.715520858764648,
           7.729347229003906
          ],
          [
           18.42613983154297,
           21.67003631591797,
           22.104629516601562,
           23.540029525756836,
           26.25266456604004,
           26.741867065429688,
           23.40192413330078,
           19.035602569580078,
           15.38493537902832,
           12.622244834899902,
           10.55323600769043,
           9.279489517211914,
           8.82546615600586,
           8.991518020629883,
           9.522541046142578,
           10.102577209472656,
           10.34001350402832,
           10.029314041137695,
           9.361087799072266,
           8.693857192993164,
           8.232627868652344,
           7.986970901489258,
           7.885402679443359,
           7.8553619384765625,
           7.8467864990234375,
           7.834512710571289,
           7.814292907714844,
           7.794586181640625,
           7.786415100097656,
           7.795265197753906
          ],
          [
           17.997356414794922,
           20.989574432373047,
           21.84927749633789,
           23.55065155029297,
           25.9003849029541,
           25.703702926635742,
           22.27961540222168,
           17.90347671508789,
           14.21215534210205,
           11.608039855957031,
           9.887977600097656,
           8.908454895019531,
           8.55624771118164,
           8.644035339355469,
           8.974077224731445,
           9.3304443359375,
           9.47425651550293,
           9.285947799682617,
           8.873476028442383,
           8.44843864440918,
           8.143125534057617,
           7.97389030456543,
           7.9007415771484375,
           7.877388000488281,
           7.870399475097656,
           7.862661361694336,
           7.850616455078125,
           7.838871002197266,
           7.833963394165039,
           7.8392181396484375
          ],
          [
           16.727500915527344,
           19.24814224243164,
           20.485004425048828,
           22.408973693847656,
           24.406845092773438,
           23.970428466796875,
           20.855777740478516,
           16.80031967163086,
           13.293156623840332,
           10.878873825073242,
           9.411808013916016,
           8.637784957885742,
           8.358644485473633,
           8.39433479309082,
           8.591239929199219,
           8.803930282592773,
           8.888961791992188,
           8.777620315551758,
           8.52946662902832,
           8.26616096496582,
           8.07020378112793,
           7.957588195800781,
           7.906944274902344,
           7.889713287353516,
           7.884368896484375,
           7.879663467407227,
           7.872867584228516,
           7.866283416748047,
           7.863525390625,
           7.866458892822266
          ],
          [
           15.143878936767578,
           17.218984603881836,
           18.649568557739258,
           20.64379119873047,
           22.39243507385254,
           21.979400634765625,
           19.312116622924805,
           15.73591423034668,
           12.553194046020508,
           10.360557556152344,
           9.08559799194336,
           8.450239181518555,
           8.219526290893555,
           8.221323013305664,
           8.333454132080078,
           8.457174301147461,
           8.506464004516602,
           8.441923141479492,
           8.295694351196289,
           8.136405944824219,
           8.014148712158203,
           7.941709518432617,
           7.908041000366211,
           7.896001815795898,
           7.89216423034668,
           7.889394760131836,
           7.885740280151367,
           7.882240295410156,
           7.880773544311523,
           7.882326126098633
          ],
          [
           13.678751945495605,
           15.396648406982422,
           16.859283447265625,
           18.77539825439453,
           20.325359344482422,
           20.026880264282227,
           17.814668655395508,
           14.748062133789062,
           11.943126678466797,
           9.985647201538086,
           8.864891052246094,
           8.324010848999023,
           8.124738693237305,
           8.10525131225586,
           8.16506576538086,
           8.235158920288086,
           8.263208389282227,
           8.226400375366211,
           8.141773223876953,
           8.04751968383789,
           7.9733428955078125,
           7.928318023681641,
           7.906839370727539,
           7.898860931396484,
           7.896266937255859,
           7.894687652587891,
           7.892803192138672,
           7.891029357910156,
           7.890285491943359,
           7.891069412231445
          ],
          [
           12.600371360778809,
           14.056013107299805,
           15.43679141998291,
           17.16280174255371,
           18.521408081054688,
           18.34050941467285,
           16.51789093017578,
           13.898458480834961,
           11.446388244628906,
           9.708669662475586,
           8.713825225830078,
           8.239738464355469,
           8.06171989440918,
           8.029674530029297,
           8.058084487915039,
           8.096487045288086,
           8.112104415893555,
           8.091432571411133,
           8.043346405029297,
           7.988847732543945,
           7.945138931274414,
           7.918125152587891,
           7.904979705810547,
           7.899957656860352,
           7.8983001708984375,
           7.897424697875977,
           7.896490097045898,
           7.8956298828125,
           7.895271301269531,
           7.895650863647461
          ],
          [
           12.05109977722168,
           13.343984603881836,
           14.57454776763916,
           16.042634963989258,
           17.211254119873047,
           17.113372802734375,
           15.56545639038086,
           13.261077880859375,
           11.072223663330078,
           9.507513046264648,
           8.609758377075195,
           8.183609008789062,
           8.020729064941406,
           7.981925964355469,
           7.992000579833984,
           8.01199722290039,
           8.02042007446289,
           8.00900650024414,
           7.982255935668945,
           7.95155143737793,
           7.926595687866211,
           7.910972595214844,
           7.90325927734375,
           7.900247573852539,
           7.89924430847168,
           7.898775100708008,
           7.898326873779297,
           7.897928237915039,
           7.897762298583984,
           7.89793586730957
          ],
          [
           12.092269897460938,
           13.330224990844727,
           14.377903938293457,
           15.560503005981445,
           16.558475494384766,
           16.50251007080078,
           15.081050872802734,
           12.906488418579102,
           10.841896057128906,
           9.376287460327148,
           8.541280746459961,
           8.147199630737305,
           7.994871139526367,
           7.952754974365234,
           7.952425003051758,
           7.961919784545898,
           7.966238021850586,
           7.960060119628906,
           7.945550918579102,
           7.92875862121582,
           7.914987564086914,
           7.906291961669922,
           7.901952743530273,
           7.900228500366211,
           7.899652481079102,
           7.899406433105469,
           7.899198532104492,
           7.899021148681641,
           7.898948669433594,
           7.899024963378906
          ],
          [
           12.734006881713867,
           14.034453392028809,
           14.886557579040527,
           15.783525466918945,
           16.657733917236328,
           16.615768432617188,
           15.152177810668945,
           12.88429069519043,
           10.773248672485352,
           9.31513786315918,
           8.503274917602539,
           8.125707626342773,
           7.979475021362305,
           7.935659408569336,
           7.929538726806641,
           7.933170318603516,
           7.935186386108398,
           7.931913375854492,
           7.924272537231445,
           7.9153900146484375,
           7.908063888549805,
           7.903409957885742,
           7.901071548461914,
           7.900129318237305,
           7.899812698364258,
           7.899688720703125,
           7.89959716796875,
           7.8995208740234375,
           7.89948844909668,
           7.8995208740234375
          ],
          [
           13.945435523986816,
           15.434394836425781,
           16.079526901245117,
           16.701000213623047,
           17.526016235351562,
           17.494951248168945,
           15.80982780456543,
           13.20492935180664,
           10.866985321044922,
           9.32113265991211,
           8.492069244384766,
           8.115943908691406,
           7.971317291259766,
           7.926189422607422,
           7.916828155517578,
           7.917247772216797,
           7.918004989624023,
           7.916303634643555,
           7.912412643432617,
           7.907878875732422,
           7.90412712097168,
           7.901735305786133,
           7.90052604675293,
           7.900035858154297,
           7.899869918823242,
           7.899808883666992,
           7.899768829345703,
           7.899736404418945,
           7.899724960327148,
           7.899738311767578
          ],
          [
           15.644457817077637,
           17.455814361572266,
           17.865694046020508,
           18.216064453125,
           19.089691162109375,
           19.097015380859375,
           17.004924774169922,
           13.822555541992188,
           11.09683609008789,
           9.382352828979492,
           8.50218391418457,
           8.114913940429688,
           7.967992782592773,
           7.921358108520508,
           7.910091400146484,
           7.908773422241211,
           7.908855438232422,
           7.907979965209961,
           7.906064987182617,
           7.903839111328125,
           7.9019927978515625,
           7.900812149047852,
           7.900213241577148,
           7.899969100952148,
           7.899885177612305,
           7.8998565673828125,
           7.899839401245117,
           7.89982795715332,
           7.899822235107422,
           7.89982795715332
          ],
          [
           17.669292449951172,
           19.945247650146484,
           20.059667587280273,
           20.127948760986328,
           21.163686752319336,
           21.269821166992188,
           18.581926345825195,
           14.623313903808594,
           11.406137466430664,
           9.476152420043945,
           8.52517318725586,
           8.119190216064453,
           7.967536926269531,
           7.91917610168457,
           7.906702041625977,
           7.904453277587891,
           7.904180526733398,
           7.903720855712891,
           7.902812957763672,
           7.901760101318359,
           7.900886535644531,
           7.90032958984375,
           7.900045394897461,
           7.899929046630859,
           7.89988899230957,
           7.899875640869141,
           7.899868011474609,
           7.899864196777344,
           7.899862289428711,
           7.899864196777344
          ],
          [
           19.734485626220703,
           22.616962432861328,
           22.340316772460938,
           22.10511589050293,
           23.41402244567871,
           23.709026336669922,
           20.250354766845703,
           15.42697811126709,
           11.713457107543945,
           9.571706771850586,
           8.550302505493164,
           8.124961853027344,
           7.968257904052734,
           7.918329238891602,
           7.905088424682617,
           7.90234375,
           7.901895523071289,
           7.901634216308594,
           7.901216506958008,
           7.900737762451172,
           7.90034294128418,
           7.900089263916016,
           7.899959564208984,
           7.899906158447266,
           7.8998870849609375,
           7.899881362915039,
           7.899879455566406,
           7.899877548217773,
           7.899877548217773,
           7.899877548217773
          ],
          [
           21.385866165161133,
           24.93512535095215,
           24.19243812561035,
           23.66464614868164,
           25.290863037109375,
           25.853256225585938,
           21.571876525878906,
           16.014694213867188,
           11.928861618041992,
           9.636238098144531,
           8.566488265991211,
           8.128520965576172,
           7.968759536743164,
           7.917964935302734,
           7.904335021972656,
           7.90135383605957,
           7.900821685791016,
           7.900653839111328,
           7.90046501159668,
           7.900257110595703,
           7.90008544921875,
           7.899974822998047,
           7.8999176025390625,
           7.899894714355469,
           7.8998870849609375,
           7.899885177612305,
           7.899883270263672,
           7.899883270263672,
           7.899883270263672,
           7.899883270263672
          ],
          [
           22.05575942993164,
           25.961894989013672,
           24.936199188232422,
           24.25074577331543,
           26.031085968017578,
           26.756406784057617,
           22.046218872070312,
           16.191173553466797,
           11.977869033813477,
           9.642963409423828,
           8.564682006835938,
           8.12689208984375,
           7.967996597290039,
           7.917543411254883,
           7.903942108154297,
           7.900899887084961,
           7.900337219238281,
           7.900215148925781,
           7.900129318237305,
           7.900041580200195,
           7.899969100952148,
           7.899923324584961,
           7.899898529052734,
           7.89988899230957,
           7.899885177612305,
           7.899885177612305,
           7.899885177612305,
           7.899885177612305,
           7.899885177612305,
           7.899885177612305
          ],
          [
           21.426258087158203,
           24.98465347290039,
           24.164958953857422,
           23.559864044189453,
           25.150413513183594,
           25.70939826965332,
           21.402721405029297,
           15.863070487976074,
           11.824108123779297,
           9.577939987182617,
           8.539848327636719,
           8.118349075317383,
           7.965368270874023,
           7.916774749755859,
           7.903644561767578,
           7.90068244934082,
           7.900125503540039,
           7.9000244140625,
           7.899984359741211,
           7.8999481201171875,
           7.899919509887695,
           7.899900436401367,
           7.899890899658203,
           7.8998870849609375,
           7.899885177612305,
           7.899885177612305,
           7.899885177612305,
           7.899885177612305,
           7.899885177612305,
           7.899885177612305
          ]
         ],
         "type": "surface"
        },
        {
         "marker": {
          "color": "darkgreen"
         },
         "mode": "markers",
         "name": "training data",
         "x": [
          350,
          350,
          350,
          350,
          350,
          360,
          380,
          400,
          400,
          400,
          400,
          400,
          500,
          600,
          700,
          389.20001220703125,
          544.4000244140625,
          440.8999938964844,
          402.20001220703125
         ],
         "y": [
          30,
          60,
          120,
          300,
          600,
          30,
          30,
          30,
          60,
          120,
          300,
          600,
          30,
          30,
          30,
          309.6000061035156,
          150,
          199.89999389648438,
          279.70001220703125
         ],
         "z": [
          0.31095001101493835,
          3.050879955291748,
          11.487239837646484,
          27.853260040283203,
          32.442138671875,
          5.914820194244385,
          20.168760299682617,
          26.66847038269043,
          35.82332992553711,
          36.27027130126953,
          35.18614959716797,
          33.61565017700195,
          30.255699157714844,
          22.557350158691406,
          21.468669891357422,
          31.507869720458984,
          31.268070220947266,
          30.208850860595703,
          29.97977066040039
         ],
         "type": "scatter3d"
        },
        {
         "mode": "markers",
         "name": "max(upper confidence bound)",
         "x": [
          402.1551513671875
         ],
         "y": [
          451.88421630859375
         ],
         "z": [
          23.950319290161133
         ],
         "type": "scatter3d"
        },
        {
         "mode": "markers",
         "name": "max(thompson)",
         "x": [
          428.0172424316406
         ],
         "y": [
          430.82513427734375
         ],
         "z": [
          25.452503204345703
         ],
         "type": "scatter3d"
        },
        {
         "mode": "markers",
         "name": "max(pi)",
         "x": [
          415.0862121582031
         ],
         "y": [
          114.93841552734375
         ],
         "z": [
          36.480140686035156
         ],
         "type": "scatter3d"
        },
        {
         "mode": "markers",
         "name": "max(ei)",
         "x": [
          415.0862121582031
         ],
         "y": [
          114.93841552734375
         ],
         "z": [
          36.480140686035156
         ],
         "type": "scatter3d"
        },
        {
         "mode": "markers",
         "name": "max(ca)",
         "x": [
          453.8793029785156
         ],
         "y": [
          451.88421630859375
         ],
         "z": [
          25.52105712890625
         ],
         "type": "scatter3d"
        }
       ],
       "layout": {
        "template": {
         "data": {
          "bar": [
           {
            "error_x": {
             "color": "#2a3f5f"
            },
            "error_y": {
             "color": "#2a3f5f"
            },
            "marker": {
             "line": {
              "color": "#E5ECF6",
              "width": 0.5
             },
             "pattern": {
              "fillmode": "overlay",
              "size": 10,
              "solidity": 0.2
             }
            },
            "type": "bar"
           }
          ],
          "barpolar": [
           {
            "marker": {
             "line": {
              "color": "#E5ECF6",
              "width": 0.5
             },
             "pattern": {
              "fillmode": "overlay",
              "size": 10,
              "solidity": 0.2
             }
            },
            "type": "barpolar"
           }
          ],
          "carpet": [
           {
            "aaxis": {
             "endlinecolor": "#2a3f5f",
             "gridcolor": "white",
             "linecolor": "white",
             "minorgridcolor": "white",
             "startlinecolor": "#2a3f5f"
            },
            "baxis": {
             "endlinecolor": "#2a3f5f",
             "gridcolor": "white",
             "linecolor": "white",
             "minorgridcolor": "white",
             "startlinecolor": "#2a3f5f"
            },
            "type": "carpet"
           }
          ],
          "choropleth": [
           {
            "colorbar": {
             "outlinewidth": 0,
             "ticks": ""
            },
            "type": "choropleth"
           }
          ],
          "contour": [
           {
            "colorbar": {
             "outlinewidth": 0,
             "ticks": ""
            },
            "colorscale": [
             [
              0,
              "#0d0887"
             ],
             [
              0.1111111111111111,
              "#46039f"
             ],
             [
              0.2222222222222222,
              "#7201a8"
             ],
             [
              0.3333333333333333,
              "#9c179e"
             ],
             [
              0.4444444444444444,
              "#bd3786"
             ],
             [
              0.5555555555555556,
              "#d8576b"
             ],
             [
              0.6666666666666666,
              "#ed7953"
             ],
             [
              0.7777777777777778,
              "#fb9f3a"
             ],
             [
              0.8888888888888888,
              "#fdca26"
             ],
             [
              1,
              "#f0f921"
             ]
            ],
            "type": "contour"
           }
          ],
          "contourcarpet": [
           {
            "colorbar": {
             "outlinewidth": 0,
             "ticks": ""
            },
            "type": "contourcarpet"
           }
          ],
          "heatmap": [
           {
            "colorbar": {
             "outlinewidth": 0,
             "ticks": ""
            },
            "colorscale": [
             [
              0,
              "#0d0887"
             ],
             [
              0.1111111111111111,
              "#46039f"
             ],
             [
              0.2222222222222222,
              "#7201a8"
             ],
             [
              0.3333333333333333,
              "#9c179e"
             ],
             [
              0.4444444444444444,
              "#bd3786"
             ],
             [
              0.5555555555555556,
              "#d8576b"
             ],
             [
              0.6666666666666666,
              "#ed7953"
             ],
             [
              0.7777777777777778,
              "#fb9f3a"
             ],
             [
              0.8888888888888888,
              "#fdca26"
             ],
             [
              1,
              "#f0f921"
             ]
            ],
            "type": "heatmap"
           }
          ],
          "heatmapgl": [
           {
            "colorbar": {
             "outlinewidth": 0,
             "ticks": ""
            },
            "colorscale": [
             [
              0,
              "#0d0887"
             ],
             [
              0.1111111111111111,
              "#46039f"
             ],
             [
              0.2222222222222222,
              "#7201a8"
             ],
             [
              0.3333333333333333,
              "#9c179e"
             ],
             [
              0.4444444444444444,
              "#bd3786"
             ],
             [
              0.5555555555555556,
              "#d8576b"
             ],
             [
              0.6666666666666666,
              "#ed7953"
             ],
             [
              0.7777777777777778,
              "#fb9f3a"
             ],
             [
              0.8888888888888888,
              "#fdca26"
             ],
             [
              1,
              "#f0f921"
             ]
            ],
            "type": "heatmapgl"
           }
          ],
          "histogram": [
           {
            "marker": {
             "pattern": {
              "fillmode": "overlay",
              "size": 10,
              "solidity": 0.2
             }
            },
            "type": "histogram"
           }
          ],
          "histogram2d": [
           {
            "colorbar": {
             "outlinewidth": 0,
             "ticks": ""
            },
            "colorscale": [
             [
              0,
              "#0d0887"
             ],
             [
              0.1111111111111111,
              "#46039f"
             ],
             [
              0.2222222222222222,
              "#7201a8"
             ],
             [
              0.3333333333333333,
              "#9c179e"
             ],
             [
              0.4444444444444444,
              "#bd3786"
             ],
             [
              0.5555555555555556,
              "#d8576b"
             ],
             [
              0.6666666666666666,
              "#ed7953"
             ],
             [
              0.7777777777777778,
              "#fb9f3a"
             ],
             [
              0.8888888888888888,
              "#fdca26"
             ],
             [
              1,
              "#f0f921"
             ]
            ],
            "type": "histogram2d"
           }
          ],
          "histogram2dcontour": [
           {
            "colorbar": {
             "outlinewidth": 0,
             "ticks": ""
            },
            "colorscale": [
             [
              0,
              "#0d0887"
             ],
             [
              0.1111111111111111,
              "#46039f"
             ],
             [
              0.2222222222222222,
              "#7201a8"
             ],
             [
              0.3333333333333333,
              "#9c179e"
             ],
             [
              0.4444444444444444,
              "#bd3786"
             ],
             [
              0.5555555555555556,
              "#d8576b"
             ],
             [
              0.6666666666666666,
              "#ed7953"
             ],
             [
              0.7777777777777778,
              "#fb9f3a"
             ],
             [
              0.8888888888888888,
              "#fdca26"
             ],
             [
              1,
              "#f0f921"
             ]
            ],
            "type": "histogram2dcontour"
           }
          ],
          "mesh3d": [
           {
            "colorbar": {
             "outlinewidth": 0,
             "ticks": ""
            },
            "type": "mesh3d"
           }
          ],
          "parcoords": [
           {
            "line": {
             "colorbar": {
              "outlinewidth": 0,
              "ticks": ""
             }
            },
            "type": "parcoords"
           }
          ],
          "pie": [
           {
            "automargin": true,
            "type": "pie"
           }
          ],
          "scatter": [
           {
            "marker": {
             "colorbar": {
              "outlinewidth": 0,
              "ticks": ""
             }
            },
            "type": "scatter"
           }
          ],
          "scatter3d": [
           {
            "line": {
             "colorbar": {
              "outlinewidth": 0,
              "ticks": ""
             }
            },
            "marker": {
             "colorbar": {
              "outlinewidth": 0,
              "ticks": ""
             }
            },
            "type": "scatter3d"
           }
          ],
          "scattercarpet": [
           {
            "marker": {
             "colorbar": {
              "outlinewidth": 0,
              "ticks": ""
             }
            },
            "type": "scattercarpet"
           }
          ],
          "scattergeo": [
           {
            "marker": {
             "colorbar": {
              "outlinewidth": 0,
              "ticks": ""
             }
            },
            "type": "scattergeo"
           }
          ],
          "scattergl": [
           {
            "marker": {
             "colorbar": {
              "outlinewidth": 0,
              "ticks": ""
             }
            },
            "type": "scattergl"
           }
          ],
          "scattermapbox": [
           {
            "marker": {
             "colorbar": {
              "outlinewidth": 0,
              "ticks": ""
             }
            },
            "type": "scattermapbox"
           }
          ],
          "scatterpolar": [
           {
            "marker": {
             "colorbar": {
              "outlinewidth": 0,
              "ticks": ""
             }
            },
            "type": "scatterpolar"
           }
          ],
          "scatterpolargl": [
           {
            "marker": {
             "colorbar": {
              "outlinewidth": 0,
              "ticks": ""
             }
            },
            "type": "scatterpolargl"
           }
          ],
          "scatterternary": [
           {
            "marker": {
             "colorbar": {
              "outlinewidth": 0,
              "ticks": ""
             }
            },
            "type": "scatterternary"
           }
          ],
          "surface": [
           {
            "colorbar": {
             "outlinewidth": 0,
             "ticks": ""
            },
            "colorscale": [
             [
              0,
              "#0d0887"
             ],
             [
              0.1111111111111111,
              "#46039f"
             ],
             [
              0.2222222222222222,
              "#7201a8"
             ],
             [
              0.3333333333333333,
              "#9c179e"
             ],
             [
              0.4444444444444444,
              "#bd3786"
             ],
             [
              0.5555555555555556,
              "#d8576b"
             ],
             [
              0.6666666666666666,
              "#ed7953"
             ],
             [
              0.7777777777777778,
              "#fb9f3a"
             ],
             [
              0.8888888888888888,
              "#fdca26"
             ],
             [
              1,
              "#f0f921"
             ]
            ],
            "type": "surface"
           }
          ],
          "table": [
           {
            "cells": {
             "fill": {
              "color": "#EBF0F8"
             },
             "line": {
              "color": "white"
             }
            },
            "header": {
             "fill": {
              "color": "#C8D4E3"
             },
             "line": {
              "color": "white"
             }
            },
            "type": "table"
           }
          ]
         },
         "layout": {
          "annotationdefaults": {
           "arrowcolor": "#2a3f5f",
           "arrowhead": 0,
           "arrowwidth": 1
          },
          "autotypenumbers": "strict",
          "coloraxis": {
           "colorbar": {
            "outlinewidth": 0,
            "ticks": ""
           }
          },
          "colorscale": {
           "diverging": [
            [
             0,
             "#8e0152"
            ],
            [
             0.1,
             "#c51b7d"
            ],
            [
             0.2,
             "#de77ae"
            ],
            [
             0.3,
             "#f1b6da"
            ],
            [
             0.4,
             "#fde0ef"
            ],
            [
             0.5,
             "#f7f7f7"
            ],
            [
             0.6,
             "#e6f5d0"
            ],
            [
             0.7,
             "#b8e186"
            ],
            [
             0.8,
             "#7fbc41"
            ],
            [
             0.9,
             "#4d9221"
            ],
            [
             1,
             "#276419"
            ]
           ],
           "sequential": [
            [
             0,
             "#0d0887"
            ],
            [
             0.1111111111111111,
             "#46039f"
            ],
            [
             0.2222222222222222,
             "#7201a8"
            ],
            [
             0.3333333333333333,
             "#9c179e"
            ],
            [
             0.4444444444444444,
             "#bd3786"
            ],
            [
             0.5555555555555556,
             "#d8576b"
            ],
            [
             0.6666666666666666,
             "#ed7953"
            ],
            [
             0.7777777777777778,
             "#fb9f3a"
            ],
            [
             0.8888888888888888,
             "#fdca26"
            ],
            [
             1,
             "#f0f921"
            ]
           ],
           "sequentialminus": [
            [
             0,
             "#0d0887"
            ],
            [
             0.1111111111111111,
             "#46039f"
            ],
            [
             0.2222222222222222,
             "#7201a8"
            ],
            [
             0.3333333333333333,
             "#9c179e"
            ],
            [
             0.4444444444444444,
             "#bd3786"
            ],
            [
             0.5555555555555556,
             "#d8576b"
            ],
            [
             0.6666666666666666,
             "#ed7953"
            ],
            [
             0.7777777777777778,
             "#fb9f3a"
            ],
            [
             0.8888888888888888,
             "#fdca26"
            ],
            [
             1,
             "#f0f921"
            ]
           ]
          },
          "colorway": [
           "#636efa",
           "#EF553B",
           "#00cc96",
           "#ab63fa",
           "#FFA15A",
           "#19d3f3",
           "#FF6692",
           "#B6E880",
           "#FF97FF",
           "#FECB52"
          ],
          "font": {
           "color": "#2a3f5f"
          },
          "geo": {
           "bgcolor": "white",
           "lakecolor": "white",
           "landcolor": "#E5ECF6",
           "showlakes": true,
           "showland": true,
           "subunitcolor": "white"
          },
          "hoverlabel": {
           "align": "left"
          },
          "hovermode": "closest",
          "mapbox": {
           "style": "light"
          },
          "paper_bgcolor": "white",
          "plot_bgcolor": "#E5ECF6",
          "polar": {
           "angularaxis": {
            "gridcolor": "white",
            "linecolor": "white",
            "ticks": ""
           },
           "bgcolor": "#E5ECF6",
           "radialaxis": {
            "gridcolor": "white",
            "linecolor": "white",
            "ticks": ""
           }
          },
          "scene": {
           "xaxis": {
            "backgroundcolor": "#E5ECF6",
            "gridcolor": "white",
            "gridwidth": 2,
            "linecolor": "white",
            "showbackground": true,
            "ticks": "",
            "zerolinecolor": "white"
           },
           "yaxis": {
            "backgroundcolor": "#E5ECF6",
            "gridcolor": "white",
            "gridwidth": 2,
            "linecolor": "white",
            "showbackground": true,
            "ticks": "",
            "zerolinecolor": "white"
           },
           "zaxis": {
            "backgroundcolor": "#E5ECF6",
            "gridcolor": "white",
            "gridwidth": 2,
            "linecolor": "white",
            "showbackground": true,
            "ticks": "",
            "zerolinecolor": "white"
           }
          },
          "shapedefaults": {
           "line": {
            "color": "#2a3f5f"
           }
          },
          "ternary": {
           "aaxis": {
            "gridcolor": "white",
            "linecolor": "white",
            "ticks": ""
           },
           "baxis": {
            "gridcolor": "white",
            "linecolor": "white",
            "ticks": ""
           },
           "bgcolor": "#E5ECF6",
           "caxis": {
            "gridcolor": "white",
            "linecolor": "white",
            "ticks": ""
           }
          },
          "title": {
           "x": 0.05
          },
          "xaxis": {
           "automargin": true,
           "gridcolor": "white",
           "linecolor": "white",
           "ticks": "",
           "title": {
            "standoff": 15
           },
           "zerolinecolor": "white",
           "zerolinewidth": 2
          },
          "yaxis": {
           "automargin": true,
           "gridcolor": "white",
           "linecolor": "white",
           "ticks": "",
           "title": {
            "standoff": 15
           },
           "zerolinecolor": "white",
           "zerolinewidth": 2
          }
         }
        },
        "margin": {
         "r": 20,
         "l": 10,
         "b": 10,
         "t": 10
        },
        "legend": {
         "orientation": "h",
         "yanchor": "bottom",
         "y": 1.02,
         "xanchor": "right",
         "x": 1
        },
        "width": 800,
        "height": 600,
        "scene": {
         "xaxis": {
          "title": {
           "text": "RTA temperature (C)"
          }
         },
         "yaxis": {
          "title": {
           "text": "RTA time (sec)"
          }
         },
         "zaxis": {
          "title": {
           "text": "2Pr (uC/cm2), Pristine"
          }
         }
        }
       },
       "config": {
        "plotlyServerURL": "https://plot.ly"
       }
      }
     },
     "metadata": {}
    }
   ],
   "metadata": {}
  },
  {
   "cell_type": "code",
   "execution_count": 18,
   "source": [
    "# Simply print the locations of the suggested points\n",
    "print(test_grid[ei[1], 0], test_grid[ei[0], 1])\n",
    "print(test_grid[pi[1], 0], test_grid[pi[0], 1])\n",
    "print(test_grid[ca[1], 0], test_grid[ca[0], 1])\n",
    "print(test_grid[ucb[1], 0], test_grid[ucb[0], 1])\n",
    "print(test_grid[th[1], 0], test_grid[th[0], 1])\n",
    "print(test_grid[max_var[1], 0], test_grid[max_var[0], 1])"
   ],
   "outputs": [
    {
     "output_type": "stream",
     "name": "stdout",
     "text": [
      "tensor(415.0862) tensor(114.9384)\n",
      "tensor(415.0862) tensor(114.9384)\n",
      "tensor(453.8793) tensor(451.8842)\n",
      "tensor(402.1552) tensor(451.8842)\n",
      "tensor(428.0172) tensor(430.8251)\n",
      "tensor(647.8448) tensor(430.8251)\n"
     ]
    }
   ],
   "metadata": {}
  },
  {
   "cell_type": "code",
   "execution_count": 19,
   "source": [
    "print(pred_labels[ei[0], ei[1]])\n",
    "print(pred_labels[pi[0], pi[1]])\n",
    "print(pred_labels[ca[0], ca[1]])\n",
    "print(pred_labels[ucb[0], ucb[1]])\n",
    "print(pred_labels[th[0], th[1]])\n",
    "print(pred_labels[max_var[0], max_var[1]])\n"
   ],
   "outputs": [
    {
     "output_type": "stream",
     "name": "stdout",
     "text": [
      "tensor(36.4801)\n",
      "tensor(36.4801)\n",
      "tensor(25.5211)\n",
      "tensor(23.9503)\n",
      "tensor(25.4525)\n",
      "tensor(25.9617)\n"
     ]
    }
   ],
   "metadata": {}
  },
  {
   "cell_type": "code",
   "execution_count": 20,
   "source": [
    "# look at acq_func manifold\n",
    "fig = go.Figure(data=[go.Surface(z=EI_acq_shape, x=test_grid[:,0], y=test_grid[:,1])])\n",
    "fig.add_trace(go.Scatter3d(x=test_grid[pi[1], 0].numpy(), y=test_grid[pi[0], 1].numpy(), z=[PI_acq_shape[pi[0], pi[1]]], mode='markers', name='max(pi)'))\n",
    "fig.update_layout( width=1000, height=600,\n",
    "                  margin=dict(r=20, l=10, b=10, t=10),\n",
    "                  legend=dict(orientation=\"h\", yanchor=\"bottom\", y=1.02, xanchor=\"right\",x=1),\n",
    "                  scene=dict(\n",
    "                    xaxis_title=\"RTA temperature (C)\",\n",
    "                    yaxis_title=\"RTA time (sec)\",\n",
    "                    zaxis_title='Acquisition Function')\n",
    "                  )\n",
    "fig.show()"
   ],
   "outputs": [
    {
     "output_type": "display_data",
     "data": {
      "application/vnd.plotly.v1+json": {
       "data": [
        {
         "x": [
          337.5,
          350.4310302734375,
          363.362060546875,
          376.2930908203125,
          389.22412109375,
          402.1551513671875,
          415.0862121582031,
          428.0172424316406,
          440.9482727050781,
          453.8793029785156,
          466.8103332519531,
          479.7413635253906,
          492.67242431640625,
          505.60345458984375,
          518.5344848632812,
          531.4655151367188,
          544.3965454101562,
          557.3275756835938,
          570.2586059570312,
          583.189697265625,
          596.1207275390625,
          609.0517578125,
          621.9827880859375,
          634.913818359375,
          647.8448486328125,
          660.77587890625,
          673.7069091796875,
          686.637939453125,
          699.5689697265625,
          712.5
         ],
         "y": [
          9.64285659790039,
          30.701967239379883,
          51.761077880859375,
          72.8201904296875,
          93.87930297851562,
          114.93841552734375,
          135.9975128173828,
          157.05662536621094,
          178.11573791503906,
          199.1748504638672,
          220.2339630126953,
          241.29306030273438,
          262.3521728515625,
          283.4112854003906,
          304.47039794921875,
          325.5295104980469,
          346.58868408203125,
          367.6477966308594,
          388.7069091796875,
          409.7659912109375,
          430.82513427734375,
          451.88421630859375,
          472.943359375,
          494.00244140625,
          515.0615844726562,
          536.1206665039062,
          557.1798095703125,
          578.2388916015625,
          599.2980346679688,
          620.3571166992188
         ],
         "z": [
          [
           9.407718891057774e-16,
           5.612084512035619e-28,
           1.8106845209559741e-22,
           5.581186871318241e-12,
           0.000006493419733297212,
           0.0052525211058030916,
           0.11959590575193013,
           0.38587684737074457,
           0.5840925941244097,
           0.6440304769463416,
           0.5537577649932974,
           0.30702478604563366,
           0.07389071687035748,
           0.07468370657563439,
           0.351110296322634,
           0.6244377250873987,
           0.6414093016647675,
           0.45415524526186757,
           0.18799676064428383,
           0.02017407088156481,
           0.0001228681619529898,
           0.0007886619579444525,
           0.04159913026828932,
           0.1779609191167879,
           0.26814156741456185,
           0.2109299863717803,
           0.07000729481709711,
           0.0029509794379317077,
           0.00001654348388185385,
           0.00218585704451435
          ],
          [
           6.584343721677855e-19,
           2.3930576585408352e-37,
           2.7037463033019496e-26,
           2.806123501084876e-12,
           0.000015636181653028147,
           0.016028851871747588,
           0.2601102365388709,
           0.5863535010294285,
           0.7237945826970917,
           0.7133490934607749,
           0.576574623551557,
           0.30073041044338944,
           0.05556200017682361,
           0.05187398361482784,
           0.3317004540591517,
           0.6113823983151729,
           0.6226769511790609,
           0.43585805115606413,
           0.17422461917792198,
           0.014743359165121761,
           0.000017700014015176603,
           0.000286283459834977,
           0.035441660555944776,
           0.17046294060831346,
           0.2621437858644857,
           0.2038296900770995,
           0.06267704038625654,
           0.0015973471458308845,
           9.518025083259647e-7,
           0.0010912724046704524
          ],
          [
           1.6158037081985776e-19,
           7.143675907335949e-38,
           4.084843340461891e-22,
           2.673254897232456e-9,
           0.0005673314288519062,
           0.0996459961410297,
           0.6006337771681592,
           0.8762415453861179,
           0.8717532831668724,
           0.7712663830428297,
           0.605902840273024,
           0.3402982116626253,
           0.09899797434837027,
           0.0928150478646203,
           0.3531318910557798,
           0.5808880790021187,
           0.5676889927473716,
           0.40296386289857733,
           0.17411327411553956,
           0.020121582356731366,
           0.00017676931840573083,
           0.0010459549191816526,
           0.043762305532880574,
           0.18006811438296033,
           0.2693363878411561,
           0.21199984189406762,
           0.07107500888033724,
           0.0031889644404443987,
           0.000022493206227680877,
           0.00238457966772539
          ],
          [
           7.356070403469618e-18,
           2.9488971814643487e-32,
           3.9489031488484794e-16,
           0.000002511846797102284,
           0.013469762247239822,
           0.424530980688545,
           1.1344140794751683,
           1.1814530186490697,
           0.973901441956663,
           0.7883263709364254,
           0.6266994540959177,
           0.41536082648576056,
           0.21822808402908922,
           0.21578084571121592,
           0.4087909116020072,
           0.5223610759668709,
           0.464754194126779,
           0.3492257446586323,
           0.1858220269374855,
           0.04155274906765899,
           0.00405839088240767,
           0.008088953333337215,
           0.06957101805830762,
           0.2062176829405301,
           0.2889770726634986,
           0.23476395563585473,
           0.09638837597344102,
           0.012067023899275622,
           0.0012924276154379563,
           0.010327027636928596
          ],
          [
           4.79129679670124e-15,
           1.2634810643030256e-25,
           1.3515218861440457e-11,
           0.00021655759203396616,
           0.08813508036546425,
           0.9456266083963116,
           1.6291286511187846,
           1.3704900864134415,
           0.967515870556944,
           0.7365242458918135,
           0.6209476212675815,
           0.5002695671641686,
           0.386223296634682,
           0.3944540696948934,
           0.4795024242239291,
           0.4356436006200557,
           0.3191602748969844,
           0.27733893903385587,
           0.20765379633363157,
           0.08942446917165947,
           0.0304331274853262,
           0.03816426367163611,
           0.1170590227982381,
           0.24672525894498853,
           0.3189221519221659,
           0.2699756390357203,
           0.13990789263227577,
           0.04004713966296544,
           0.01494863301030011,
           0.0372127330387082
          ],
          [
           8.847334644970456e-12,
           6.5739844551743485e-19,
           2.5418298025045698e-8,
           0.003429595196915998,
           0.24103023008994218,
           1.3239396374590147,
           1.830493415209677,
           1.33767891993685,
           0.8171919410440982,
           0.6067017677163,
           0.5780287158700437,
           0.5672729515807429,
           0.5468024484034539,
           0.5677979624757341,
           0.5454308172861634,
           0.3415250463791639,
           0.1681992697563156,
           0.20488265262664895,
           0.2397184992837601,
           0.16730715793081608,
           0.09932995410742806,
           0.10451960604907445,
           0.18481727587862873,
           0.2972232590749456,
           0.3557901729657287,
           0.31385916672516556,
           0.19935440352950184,
           0.09601593722754836,
           0.06009979186371761,
           0.09281909885451711
          ],
          [
           1.388776780220635e-8,
           1.5086794385288678e-12,
           0.000007183225058202938,
           0.020154802204762373,
           0.4011798250973919,
           1.3788663679534965,
           1.6759794375708954,
           1.0796009646062972,
           0.5494196138664457,
           0.42327347959014405,
           0.5030287895971404,
           0.6010210801428182,
           0.6625794533750959,
           0.6957893740565506,
           0.5977448360818624,
           0.27833950850808997,
           0.07297059830433228,
           0.16014581459504607,
           0.28479972759180205,
           0.26588164466868824,
           0.20287140478492383,
           0.1988602332670374,
           0.2640203340662076,
           0.35171186368406415,
           0.39551278082007246,
           0.3615063180680078,
           0.26790780190245655,
           0.17500172611808973,
           0.1377247423334459,
           0.17230110945737098
          ],
          [
           0.000005354062311377781,
           7.772807876098299e-8,
           0.0003953820153857401,
           0.06322449620588344,
           0.5001647581837285,
           1.1909443448323664,
           1.2975491566570594,
           0.7081068846538129,
           0.2635734231585962,
           0.2429736412363318,
           0.4165291783885269,
           0.6028934884020394,
           0.7247060964071979,
           0.7692229626778937,
           0.6387851122250481,
           0.2776532854938899,
           0.059347482092781456,
           0.16700817140718027,
           0.3461990990281324,
           0.36926499159551307,
           0.31619825676984226,
           0.30056510542167647,
           0.34289814831003707,
           0.40416061920835844,
           0.4341767035965647,
           0.4080044212749341,
           0.3368116179812237,
           0.2625191670932555,
           0.23078203976678913,
           0.2607023552093507
          ],
          [
           0.00030166648354991357,
           0.00004495537926827928,
           0.00505768188801891,
           0.12751723275943083,
           0.5197047080213893,
           0.9147473349966155,
           0.8862036928939664,
           0.38470592836116835,
           0.08261298389268229,
           0.12343944296295772,
           0.3446865817084568,
           0.5857705370011059,
           0.7428955230466796,
           0.7974773541406561,
           0.6736957956698144,
           0.34273093393256715,
           0.1262382897668376,
           0.23561541568606026,
           0.4226556493207996,
           0.46334819648127046,
           0.41768499248472457,
           0.39176163194901137,
           0.41203411009314794,
           0.4500729075554779,
           0.46878732329685335,
           0.44955652883486086,
           0.39876260689020193,
           0.3445617047333578,
           0.32080475342562254,
           0.343576778121377
          ],
          [
           0.003354182862396027,
           0.0012222199360213282,
           0.021786535593207673,
           0.18590496638268983,
           0.4731744894176755,
           0.6446216946590606,
           0.5586817108000509,
           0.2009947968114293,
           0.02796712230275114,
           0.07833320413504741,
           0.30629393704861596,
           0.5652311954623364,
           0.7336470859681441,
           0.7957280257121169,
           0.7035115517517736,
           0.44825451422402884,
           0.268280348483549,
           0.35282344098772633,
           0.5050368008414274,
           0.5392971455285556,
           0.4962007988856678,
           0.46324758382503695,
           0.4667124695918343,
           0.487182566742846,
           0.49763782199948126,
           0.48404250485665634,
           0.4496902077089755,
           0.41283650301636854,
           0.39656113023628836,
           0.4124334585704157
          ],
          [
           0.012222835882935004,
           0.005773643386226296,
           0.04495613726577763,
           0.21126967878011194,
           0.3830877881160949,
           0.4152784043808857,
           0.34047827223805016,
           0.13536201906647533,
           0.03264707942317799,
           0.08884042016832133,
           0.3071513915418942,
           0.5524998398777468,
           0.7120064042373115,
           0.7772027413444549,
           0.7247773615481916,
           0.5569664343224123,
           0.4319691144096106,
           0.4817962703598202,
           0.579353236988547,
           0.5933937020085958,
           0.5497115061274869,
           0.5135171099234617,
           0.5064498727341571,
           0.5152204346576408,
           0.5202451576154827,
           0.5109263408826357,
           0.48866894030516406,
           0.46490890237592564,
           0.4544365481968917,
           0.4648299334838475
          ],
          [
           0.02131417571604266,
           0.009320671904976069,
           0.055202720100137326,
           0.1947532822703253,
           0.2728138754598014,
           0.23870370809178898,
           0.21690363003828905,
           0.13936736392832139,
           0.08104432321810084,
           0.14699614153124319,
           0.3428345202228027,
           0.5517169346495494,
           0.6878801464061464,
           0.7506804329924079,
           0.7333619170204841,
           0.6406644661601106,
           0.5659909764715998,
           0.5874853161199891,
           0.6337711888415212,
           0.6258628242418314,
           0.581475750561298,
           0.5455394034685261,
           0.5333129061866337,
           0.5352065061223328,
           0.5370136777202277,
           0.5307831293295044,
           0.5168440691651164,
           0.5021250399498227,
           0.4956803107843446,
           0.5021831532476806
          ],
          [
           0.023046176876537566,
           0.006774236647311083,
           0.04526590714612588,
           0.14884987840725877,
           0.16733760041955553,
           0.12394982561475693,
           0.17056450397553824,
           0.1961220030934543,
           0.18379630993261142,
           0.24790376188048258,
           0.4025173376223732,
           0.5610519317861746,
           0.6659795587505821,
           0.7212132081873512,
           0.7278988066146579,
           0.6883089655335479,
           0.6500983896401562,
           0.6536913550793435,
           0.6634713258627565,
           0.6397558759810229,
           0.5968008756796932,
           0.5638791374255623,
           0.5503039099931912,
           0.5487252088730579,
           0.5488390780265147,
           0.544762013212363,
           0.5362733514448064,
           0.5274325992975546,
           0.5235945088802925,
           0.5275242967747025
          ],
          [
           0.021051448479226742,
           0.0030845401591756035,
           0.029425891278285127,
           0.10171820115206953,
           0.09454630946044018,
           0.0784296113700268,
           0.19959228618944624,
           0.308664298342576,
           0.33090925894393897,
           0.37335207924871283,
           0.47203508299795716,
           0.5756070025743978,
           0.6475538119570052,
           0.6917381540125649,
           0.7106461215326014,
           0.7026483126335463,
           0.6869954746936491,
           0.6814902477554852,
           0.6707960647189821,
           0.6398330561694421,
           0.6010862998200568,
           0.5729631076715698,
           0.5603395200741828,
           0.5574203457433369,
           0.5567865941661638,
           0.5541728919386586,
           0.5491345391139906,
           0.5439632161615453,
           0.5417363123115078,
           0.544042644946297
          ],
          [
           0.026318618958848267,
           0.0032924553159510463,
           0.02669295549267134,
           0.08516710691383822,
           0.08022664948193048,
           0.11781554919508791,
           0.3243443665577015,
           0.47552590653277593,
           0.4971530823008765,
           0.49922606940495085,
           0.5379016329480577,
           0.5902693451256187,
           0.6322850795541188,
           0.664206615536391,
           0.6862233168200911,
           0.6934702161864901,
           0.6898281315912838,
           0.6811276988933193,
           0.6623453820815934,
           0.6313449280080539,
           0.5988976387574605,
           0.5763530345176611,
           0.565803880830047,
           0.5627304135111484,
           0.5618807324592756,
           0.5602400630027449,
           0.5573260221278906,
           0.5543792150248354,
           0.553119107308943,
           0.554434888976703
          ],
          [
           0.05486784948064499,
           0.01733945200056973,
           0.05774219802606767,
           0.13143065617645938,
           0.16426719127314615,
           0.299386940299733,
           0.5529199280556034,
           0.6766303282977015,
           0.656092321341684,
           0.6065131192779367,
           0.5908736526388012,
           0.6015213893666604,
           0.6195312826010579,
           0.6399910774676112,
           0.6596620775325301,
           0.67183206906023,
           0.6734494571487228,
           0.664861994795001,
           0.6456088307103884,
           0.618958315101807,
           0.5936487662999641,
           0.5766129302567791,
           0.5684599183293677,
           0.5657946984454454,
           0.5649926152484794,
           0.5639859069975592,
           0.5623471952576009,
           0.5607145180417654,
           0.5600206048864425,
           0.560748801258089
          ],
          [
           0.1289308687214975,
           0.08644806354570211,
           0.1623974789201582,
           0.278434211137641,
           0.3940585945742857,
           0.6185432627456398,
           0.8378530983141905,
           0.8765450617509689,
           0.7873234230383175,
           0.6854125900476746,
           0.6272122715942521,
           0.6079730197785835,
           0.6088385483417831,
           0.6199048838592425,
           0.6349278662558742,
           0.6466401695844377,
           0.6498023202265324,
           0.6427793049795172,
           0.6266881407836746,
           0.6060984328062464,
           0.5876080935693786,
           0.5754288083730195,
           0.569518790719888,
           0.5674510302841953,
           0.5668018492120945,
           0.566198793340525,
           0.5653050222855811,
           0.5644285249982901,
           0.5640577995521205,
           0.5644479677001997
          ],
          [
           0.2522064084167066,
           0.23420607659154857,
           0.348428433947485,
           0.5138417803258317,
           0.7101656657018788,
           0.963593440294821,
           1.1033320432454952,
           1.0400449231158413,
           0.879620424716046,
           0.7345540017165058,
           0.6477471418450838,
           0.6099519393143038,
           0.599988333282093,
           0.6041727356838729,
           0.6143149011839595,
           0.6234698223273698,
           0.6264724496165643,
           0.6213464295164346,
           0.6094356241283341,
           0.5947937137347996,
           0.5820723661891873,
           0.5738089457257505,
           0.5697593231417111,
           0.5682781321424679,
           0.5678009887315925,
           0.5674489625625336,
           0.5669770875329794,
           0.5665223870145495,
           0.5663308586180313,
           0.5665327737695665
          ],
          [
           0.3992792262320757,
           0.42155882988466964,
           0.566840760741208,
           0.7697869653343339,
           1.0083907681845536,
           1.2408169536326878,
           1.2955177344981312,
           1.146478645204536,
           0.9314682050269585,
           0.7582952507203802,
           0.6559625878377642,
           0.6087142090112938,
           0.5928708176546236,
           0.5925137425016347,
           0.5985749322191121,
           0.604873724643221,
           0.6071463723520363,
           0.6037004445442431,
           0.5956179731039914,
           0.5858958961669085,
           0.5776135688689064,
           0.5722785775935262,
           0.5696440270231382,
           0.568649385938941,
           0.5683239478695215,
           0.568123845736433,
           0.5678830424357277,
           0.5676554193822481,
           0.5675601422966248,
           0.5676604791876712
          ],
          [
           0.5391212738318485,
           0.6000340247833575,
           0.7675254183249669,
           0.990572374264354,
           1.2325284328232973,
           1.4158937613146505,
           1.398284204465519,
           1.193867568135,
           0.9491260838205278,
           0.7637561434818698,
           0.6561625426098929,
           0.6057281706159237,
           0.5873722692402878,
           0.5843184129303416,
           0.5874028982249391,
           0.5913232579703473,
           0.5928327365340922,
           0.5906630756240652,
           0.585544201413609,
           0.5794611689220832,
           0.5743385984832605,
           0.5710545233547193,
           0.5694216655551672,
           0.5687912148514767,
           0.5685824041776613,
           0.5684716731633381,
           0.5683526048514738,
           0.5682434005151706,
           0.5681976275832126,
           0.5682456140955947
          ],
          [
           0.6513049913809672,
           0.7417586399811222,
           0.9253543686354366,
           1.1544518507856618,
           1.3720626191269865,
           1.4938399681329881,
           1.4221514600141443,
           1.193483006456527,
           0.9429495286953791,
           0.7584038833739191,
           0.6522603429953238,
           0.6022453512743522,
           0.5833280112415691,
           0.5788432653114683,
           0.57996123462342,
           0.5821745227769224,
           0.5830828303737892,
           0.5817902303800617,
           0.578732612045761,
           0.5751241646034835,
           0.5721050260072547,
           0.5701740013108882,
           0.5692082130758662,
           0.5688287775267347,
           0.5687022789990668,
           0.5686424813146205,
           0.5685857818710931,
           0.5685353594375036,
           0.5685143712715193,
           0.5685363244258717
          ],
          [
           0.7255988879272104,
           0.8350990419986866,
           1.0333329296000753,
           1.261075822271097,
           1.4371847998138985,
           1.4936272867269953,
           1.3868785957170282,
           1.1608762148384582,
           0.9234871467092387,
           0.7484827919949009,
           0.6472080304224439,
           0.5991319198204537,
           0.5805300554214572,
           0.5753673172890141,
           0.5752813279550821,
           0.5763840900020809,
           0.5768811994989935,
           0.5761466961662236,
           0.5744132651359148,
           0.5723747641619115,
           0.5706761625069372,
           0.5695900735679842,
           0.5690441371599573,
           0.568826803389171,
           0.5687539201325553,
           0.5687227902057039,
           0.5686964877089409,
           0.5686740469147089,
           0.5686648777660848,
           0.5686745295048212
          ],
          [
           0.7562250629587857,
           0.8740390662381705,
           1.0903334662454143,
           1.3162214450670486,
           1.4403569020347773,
           1.431411160226152,
           1.3088395071507273,
           1.1089179530101423,
           0.8987814364957964,
           0.7382733048607597,
           0.642864727376224,
           0.5968633437916984,
           0.5787492945107406,
           0.5732777068093569,
           0.5724925225931232,
           0.5729232703865386,
           0.5731640238822064,
           0.5727637444373339,
           0.5718264969297351,
           0.5707272241732997,
           0.5698128082784348,
           0.5692281693985484,
           0.5689330479367138,
           0.5688142534105802,
           0.5687741915308293,
           0.5687585052781392,
           0.5687469218106731,
           0.5687372690683206,
           0.5687331666933437,
           0.5687372690683206
          ],
          [
           0.7381890672545586,
           0.851729697745919,
           1.0933654988537695,
           1.322706489726589,
           1.3872719488544554,
           1.3135586911350494,
           1.196343190781023,
           1.0452256079759086,
           0.8734819447683453,
           0.7300226655915252,
           0.6400943978340252,
           0.5955815753154232,
           0.5777546353503538,
           0.572101018830278,
           0.5709158882065943,
           0.5709612169661931,
           0.5710529270637701,
           0.5708413934929764,
           0.5703570359360703,
           0.5697898046252907,
           0.5693185348394478,
           0.5690170548981337,
           0.5688644546820003,
           0.5688024276761963,
           0.5687814314589494,
           0.5687737088716325,
           0.5687686409702475,
           0.5687645384104294,
           0.5687630904539136,
           0.5687647797368098
          ],
          [
           0.6685234164666654,
           0.7607548989709512,
           1.0365726433474207,
           1.2786290307865262,
           1.2762229039910389,
           1.138168008964726,
           1.0521947747750457,
           0.9736098470624441,
           0.8494896152165243,
           0.724313287755638,
           0.6389719426320297,
           0.595170843921869,
           0.5773198216966238,
           0.5714936911304116,
           0.5700719720171872,
           0.5699031626299309,
           0.5699126768433849,
           0.5698026138818919,
           0.5695626414955086,
           0.5692825061073936,
           0.5690496465330814,
           0.5689006597678978,
           0.5688248726085112,
           0.5687939808460183,
           0.5687833621191634,
           0.5687797421356571,
           0.5687775701545863,
           0.5687761221709666,
           0.5687753981802892,
           0.5687761221709666
          ],
          [
           0.5527731682823886,
           0.6010716902045538,
           0.9175408441070174,
           1.1828251980991817,
           1.1053129435173448,
           0.9043045247637829,
           0.8816770739473707,
           0.8978245859361231,
           0.8273788960585107,
           0.720640981202036,
           0.6390234857360022,
           0.5953405163523595,
           0.5772294754914917,
           0.5712165865906917,
           0.5696451007403045,
           0.5693602753449236,
           0.5693257370037828,
           0.5692675329025618,
           0.5691530275667234,
           0.569020193285525,
           0.5689100733985235,
           0.5688395949462417,
           0.5688036343745837,
           0.5687889127970913,
           0.568783844785054,
           0.5687821554559047,
           0.5687811901268025,
           0.5687807074627531,
           0.5687804661308513,
           0.5687807074627531
          ],
          [
           0.41429758669651595,
           0.39639272209569654,
           0.751152025015913,
           1.046978677918558,
           0.8880862187296478,
           0.6301509534161263,
           0.7033461702002248,
           0.8251736408092158,
           0.8077011699265955,
           0.7179936468825867,
           0.6394820383077744,
           0.5957090590091356,
           0.5772867398460539,
           0.5711073062364589,
           0.5694411501015437,
           0.5690940701797769,
           0.5690373339584507,
           0.5690042600804737,
           0.5689513934199357,
           0.5688912462645039,
           0.5688412844147435,
           0.5688091852141131,
           0.5687927741643579,
           0.5687860167856975,
           0.5687836034520657,
           0.5687828794536105,
           0.5687826381209575,
           0.5687823967883874,
           0.5687823967883874,
           0.5687823967883874
          ],
          [
           0.2973529079387731,
           0.21291013584842533,
           0.5871588873177328,
           0.910040317512385,
           0.6765879321781983,
           0.3797611724283011,
           0.5555275749539548,
           0.7670424143768066,
           0.7914256846664816,
           0.7152668239059388,
           0.6395179040659646,
           0.5958904441483075,
           0.5773243505702739,
           0.5710592970617261,
           0.5693457400965047,
           0.5689692132191542,
           0.5689018666365069,
           0.568880626054447,
           0.5688567311739259,
           0.5688304236173352,
           0.5688087025306576,
           0.5687947048560202,
           0.5687874647898894,
           0.5687845687845132,
           0.5687836034520657,
           0.5687833621191634,
           0.5687831207863459,
           0.5687831207863459,
           0.5687831207863459,
           0.5687831207863459
          ],
          [
           0.24858337910519257,
           0.13627898022489326,
           0.5060374270713256,
           0.8341165386270915,
           0.5648587544253661,
           0.26069058939101786,
           0.4834498725623262,
           0.7343389698126168,
           0.7792920990484538,
           0.7114586677428114,
           0.6384192080118409,
           0.5955673462552715,
           0.5772164278200638,
           0.5710049090856089,
           0.5692959871479173,
           0.5689117630379992,
           0.5688405603563116,
           0.5688251139558034,
           0.5688142534105802,
           0.5688031516949814,
           0.5687939808460183,
           0.5687881887931163,
           0.5687850514512425,
           0.568783844785054,
           0.5687833621191634,
           0.5687833621191634,
           0.5687833621191634,
           0.5687833621191634,
           0.5687833621191634,
           0.5687833621191634
          ],
          [
           0.28683795039340554,
           0.19603074079503047,
           0.5531086864453588,
           0.8536968256208662,
           0.6079592146103083,
           0.3225128783249046,
           0.5047622416923616,
           0.7300761252427297,
           0.7706936367041748,
           0.7057194657293255,
           0.635711891262595,
           0.5945428777384509,
           0.5768892339794052,
           0.5709082292577621,
           0.5692583125206325,
           0.5688842465624087,
           0.5688137707236165,
           0.5688009796408895,
           0.5687959115410259,
           0.5687913261491253,
           0.5687877061242135,
           0.5687852927847312,
           0.568784086118125,
           0.5687836034520657,
           0.5687833621191634,
           0.5687833621191634,
           0.5687833621191634,
           0.5687833621191634,
           0.5687833621191634,
           0.5687833621191634
          ]
         ],
         "type": "surface"
        },
        {
         "mode": "markers",
         "name": "max(pi)",
         "x": [
          415.0862121582031
         ],
         "y": [
          114.93841552734375
         ],
         "z": [
          0.5492085218429565
         ],
         "type": "scatter3d"
        }
       ],
       "layout": {
        "template": {
         "data": {
          "bar": [
           {
            "error_x": {
             "color": "#2a3f5f"
            },
            "error_y": {
             "color": "#2a3f5f"
            },
            "marker": {
             "line": {
              "color": "#E5ECF6",
              "width": 0.5
             },
             "pattern": {
              "fillmode": "overlay",
              "size": 10,
              "solidity": 0.2
             }
            },
            "type": "bar"
           }
          ],
          "barpolar": [
           {
            "marker": {
             "line": {
              "color": "#E5ECF6",
              "width": 0.5
             },
             "pattern": {
              "fillmode": "overlay",
              "size": 10,
              "solidity": 0.2
             }
            },
            "type": "barpolar"
           }
          ],
          "carpet": [
           {
            "aaxis": {
             "endlinecolor": "#2a3f5f",
             "gridcolor": "white",
             "linecolor": "white",
             "minorgridcolor": "white",
             "startlinecolor": "#2a3f5f"
            },
            "baxis": {
             "endlinecolor": "#2a3f5f",
             "gridcolor": "white",
             "linecolor": "white",
             "minorgridcolor": "white",
             "startlinecolor": "#2a3f5f"
            },
            "type": "carpet"
           }
          ],
          "choropleth": [
           {
            "colorbar": {
             "outlinewidth": 0,
             "ticks": ""
            },
            "type": "choropleth"
           }
          ],
          "contour": [
           {
            "colorbar": {
             "outlinewidth": 0,
             "ticks": ""
            },
            "colorscale": [
             [
              0,
              "#0d0887"
             ],
             [
              0.1111111111111111,
              "#46039f"
             ],
             [
              0.2222222222222222,
              "#7201a8"
             ],
             [
              0.3333333333333333,
              "#9c179e"
             ],
             [
              0.4444444444444444,
              "#bd3786"
             ],
             [
              0.5555555555555556,
              "#d8576b"
             ],
             [
              0.6666666666666666,
              "#ed7953"
             ],
             [
              0.7777777777777778,
              "#fb9f3a"
             ],
             [
              0.8888888888888888,
              "#fdca26"
             ],
             [
              1,
              "#f0f921"
             ]
            ],
            "type": "contour"
           }
          ],
          "contourcarpet": [
           {
            "colorbar": {
             "outlinewidth": 0,
             "ticks": ""
            },
            "type": "contourcarpet"
           }
          ],
          "heatmap": [
           {
            "colorbar": {
             "outlinewidth": 0,
             "ticks": ""
            },
            "colorscale": [
             [
              0,
              "#0d0887"
             ],
             [
              0.1111111111111111,
              "#46039f"
             ],
             [
              0.2222222222222222,
              "#7201a8"
             ],
             [
              0.3333333333333333,
              "#9c179e"
             ],
             [
              0.4444444444444444,
              "#bd3786"
             ],
             [
              0.5555555555555556,
              "#d8576b"
             ],
             [
              0.6666666666666666,
              "#ed7953"
             ],
             [
              0.7777777777777778,
              "#fb9f3a"
             ],
             [
              0.8888888888888888,
              "#fdca26"
             ],
             [
              1,
              "#f0f921"
             ]
            ],
            "type": "heatmap"
           }
          ],
          "heatmapgl": [
           {
            "colorbar": {
             "outlinewidth": 0,
             "ticks": ""
            },
            "colorscale": [
             [
              0,
              "#0d0887"
             ],
             [
              0.1111111111111111,
              "#46039f"
             ],
             [
              0.2222222222222222,
              "#7201a8"
             ],
             [
              0.3333333333333333,
              "#9c179e"
             ],
             [
              0.4444444444444444,
              "#bd3786"
             ],
             [
              0.5555555555555556,
              "#d8576b"
             ],
             [
              0.6666666666666666,
              "#ed7953"
             ],
             [
              0.7777777777777778,
              "#fb9f3a"
             ],
             [
              0.8888888888888888,
              "#fdca26"
             ],
             [
              1,
              "#f0f921"
             ]
            ],
            "type": "heatmapgl"
           }
          ],
          "histogram": [
           {
            "marker": {
             "pattern": {
              "fillmode": "overlay",
              "size": 10,
              "solidity": 0.2
             }
            },
            "type": "histogram"
           }
          ],
          "histogram2d": [
           {
            "colorbar": {
             "outlinewidth": 0,
             "ticks": ""
            },
            "colorscale": [
             [
              0,
              "#0d0887"
             ],
             [
              0.1111111111111111,
              "#46039f"
             ],
             [
              0.2222222222222222,
              "#7201a8"
             ],
             [
              0.3333333333333333,
              "#9c179e"
             ],
             [
              0.4444444444444444,
              "#bd3786"
             ],
             [
              0.5555555555555556,
              "#d8576b"
             ],
             [
              0.6666666666666666,
              "#ed7953"
             ],
             [
              0.7777777777777778,
              "#fb9f3a"
             ],
             [
              0.8888888888888888,
              "#fdca26"
             ],
             [
              1,
              "#f0f921"
             ]
            ],
            "type": "histogram2d"
           }
          ],
          "histogram2dcontour": [
           {
            "colorbar": {
             "outlinewidth": 0,
             "ticks": ""
            },
            "colorscale": [
             [
              0,
              "#0d0887"
             ],
             [
              0.1111111111111111,
              "#46039f"
             ],
             [
              0.2222222222222222,
              "#7201a8"
             ],
             [
              0.3333333333333333,
              "#9c179e"
             ],
             [
              0.4444444444444444,
              "#bd3786"
             ],
             [
              0.5555555555555556,
              "#d8576b"
             ],
             [
              0.6666666666666666,
              "#ed7953"
             ],
             [
              0.7777777777777778,
              "#fb9f3a"
             ],
             [
              0.8888888888888888,
              "#fdca26"
             ],
             [
              1,
              "#f0f921"
             ]
            ],
            "type": "histogram2dcontour"
           }
          ],
          "mesh3d": [
           {
            "colorbar": {
             "outlinewidth": 0,
             "ticks": ""
            },
            "type": "mesh3d"
           }
          ],
          "parcoords": [
           {
            "line": {
             "colorbar": {
              "outlinewidth": 0,
              "ticks": ""
             }
            },
            "type": "parcoords"
           }
          ],
          "pie": [
           {
            "automargin": true,
            "type": "pie"
           }
          ],
          "scatter": [
           {
            "marker": {
             "colorbar": {
              "outlinewidth": 0,
              "ticks": ""
             }
            },
            "type": "scatter"
           }
          ],
          "scatter3d": [
           {
            "line": {
             "colorbar": {
              "outlinewidth": 0,
              "ticks": ""
             }
            },
            "marker": {
             "colorbar": {
              "outlinewidth": 0,
              "ticks": ""
             }
            },
            "type": "scatter3d"
           }
          ],
          "scattercarpet": [
           {
            "marker": {
             "colorbar": {
              "outlinewidth": 0,
              "ticks": ""
             }
            },
            "type": "scattercarpet"
           }
          ],
          "scattergeo": [
           {
            "marker": {
             "colorbar": {
              "outlinewidth": 0,
              "ticks": ""
             }
            },
            "type": "scattergeo"
           }
          ],
          "scattergl": [
           {
            "marker": {
             "colorbar": {
              "outlinewidth": 0,
              "ticks": ""
             }
            },
            "type": "scattergl"
           }
          ],
          "scattermapbox": [
           {
            "marker": {
             "colorbar": {
              "outlinewidth": 0,
              "ticks": ""
             }
            },
            "type": "scattermapbox"
           }
          ],
          "scatterpolar": [
           {
            "marker": {
             "colorbar": {
              "outlinewidth": 0,
              "ticks": ""
             }
            },
            "type": "scatterpolar"
           }
          ],
          "scatterpolargl": [
           {
            "marker": {
             "colorbar": {
              "outlinewidth": 0,
              "ticks": ""
             }
            },
            "type": "scatterpolargl"
           }
          ],
          "scatterternary": [
           {
            "marker": {
             "colorbar": {
              "outlinewidth": 0,
              "ticks": ""
             }
            },
            "type": "scatterternary"
           }
          ],
          "surface": [
           {
            "colorbar": {
             "outlinewidth": 0,
             "ticks": ""
            },
            "colorscale": [
             [
              0,
              "#0d0887"
             ],
             [
              0.1111111111111111,
              "#46039f"
             ],
             [
              0.2222222222222222,
              "#7201a8"
             ],
             [
              0.3333333333333333,
              "#9c179e"
             ],
             [
              0.4444444444444444,
              "#bd3786"
             ],
             [
              0.5555555555555556,
              "#d8576b"
             ],
             [
              0.6666666666666666,
              "#ed7953"
             ],
             [
              0.7777777777777778,
              "#fb9f3a"
             ],
             [
              0.8888888888888888,
              "#fdca26"
             ],
             [
              1,
              "#f0f921"
             ]
            ],
            "type": "surface"
           }
          ],
          "table": [
           {
            "cells": {
             "fill": {
              "color": "#EBF0F8"
             },
             "line": {
              "color": "white"
             }
            },
            "header": {
             "fill": {
              "color": "#C8D4E3"
             },
             "line": {
              "color": "white"
             }
            },
            "type": "table"
           }
          ]
         },
         "layout": {
          "annotationdefaults": {
           "arrowcolor": "#2a3f5f",
           "arrowhead": 0,
           "arrowwidth": 1
          },
          "autotypenumbers": "strict",
          "coloraxis": {
           "colorbar": {
            "outlinewidth": 0,
            "ticks": ""
           }
          },
          "colorscale": {
           "diverging": [
            [
             0,
             "#8e0152"
            ],
            [
             0.1,
             "#c51b7d"
            ],
            [
             0.2,
             "#de77ae"
            ],
            [
             0.3,
             "#f1b6da"
            ],
            [
             0.4,
             "#fde0ef"
            ],
            [
             0.5,
             "#f7f7f7"
            ],
            [
             0.6,
             "#e6f5d0"
            ],
            [
             0.7,
             "#b8e186"
            ],
            [
             0.8,
             "#7fbc41"
            ],
            [
             0.9,
             "#4d9221"
            ],
            [
             1,
             "#276419"
            ]
           ],
           "sequential": [
            [
             0,
             "#0d0887"
            ],
            [
             0.1111111111111111,
             "#46039f"
            ],
            [
             0.2222222222222222,
             "#7201a8"
            ],
            [
             0.3333333333333333,
             "#9c179e"
            ],
            [
             0.4444444444444444,
             "#bd3786"
            ],
            [
             0.5555555555555556,
             "#d8576b"
            ],
            [
             0.6666666666666666,
             "#ed7953"
            ],
            [
             0.7777777777777778,
             "#fb9f3a"
            ],
            [
             0.8888888888888888,
             "#fdca26"
            ],
            [
             1,
             "#f0f921"
            ]
           ],
           "sequentialminus": [
            [
             0,
             "#0d0887"
            ],
            [
             0.1111111111111111,
             "#46039f"
            ],
            [
             0.2222222222222222,
             "#7201a8"
            ],
            [
             0.3333333333333333,
             "#9c179e"
            ],
            [
             0.4444444444444444,
             "#bd3786"
            ],
            [
             0.5555555555555556,
             "#d8576b"
            ],
            [
             0.6666666666666666,
             "#ed7953"
            ],
            [
             0.7777777777777778,
             "#fb9f3a"
            ],
            [
             0.8888888888888888,
             "#fdca26"
            ],
            [
             1,
             "#f0f921"
            ]
           ]
          },
          "colorway": [
           "#636efa",
           "#EF553B",
           "#00cc96",
           "#ab63fa",
           "#FFA15A",
           "#19d3f3",
           "#FF6692",
           "#B6E880",
           "#FF97FF",
           "#FECB52"
          ],
          "font": {
           "color": "#2a3f5f"
          },
          "geo": {
           "bgcolor": "white",
           "lakecolor": "white",
           "landcolor": "#E5ECF6",
           "showlakes": true,
           "showland": true,
           "subunitcolor": "white"
          },
          "hoverlabel": {
           "align": "left"
          },
          "hovermode": "closest",
          "mapbox": {
           "style": "light"
          },
          "paper_bgcolor": "white",
          "plot_bgcolor": "#E5ECF6",
          "polar": {
           "angularaxis": {
            "gridcolor": "white",
            "linecolor": "white",
            "ticks": ""
           },
           "bgcolor": "#E5ECF6",
           "radialaxis": {
            "gridcolor": "white",
            "linecolor": "white",
            "ticks": ""
           }
          },
          "scene": {
           "xaxis": {
            "backgroundcolor": "#E5ECF6",
            "gridcolor": "white",
            "gridwidth": 2,
            "linecolor": "white",
            "showbackground": true,
            "ticks": "",
            "zerolinecolor": "white"
           },
           "yaxis": {
            "backgroundcolor": "#E5ECF6",
            "gridcolor": "white",
            "gridwidth": 2,
            "linecolor": "white",
            "showbackground": true,
            "ticks": "",
            "zerolinecolor": "white"
           },
           "zaxis": {
            "backgroundcolor": "#E5ECF6",
            "gridcolor": "white",
            "gridwidth": 2,
            "linecolor": "white",
            "showbackground": true,
            "ticks": "",
            "zerolinecolor": "white"
           }
          },
          "shapedefaults": {
           "line": {
            "color": "#2a3f5f"
           }
          },
          "ternary": {
           "aaxis": {
            "gridcolor": "white",
            "linecolor": "white",
            "ticks": ""
           },
           "baxis": {
            "gridcolor": "white",
            "linecolor": "white",
            "ticks": ""
           },
           "bgcolor": "#E5ECF6",
           "caxis": {
            "gridcolor": "white",
            "linecolor": "white",
            "ticks": ""
           }
          },
          "title": {
           "x": 0.05
          },
          "xaxis": {
           "automargin": true,
           "gridcolor": "white",
           "linecolor": "white",
           "ticks": "",
           "title": {
            "standoff": 15
           },
           "zerolinecolor": "white",
           "zerolinewidth": 2
          },
          "yaxis": {
           "automargin": true,
           "gridcolor": "white",
           "linecolor": "white",
           "ticks": "",
           "title": {
            "standoff": 15
           },
           "zerolinecolor": "white",
           "zerolinewidth": 2
          }
         }
        },
        "margin": {
         "r": 20,
         "l": 10,
         "b": 10,
         "t": 10
        },
        "legend": {
         "orientation": "h",
         "yanchor": "bottom",
         "y": 1.02,
         "xanchor": "right",
         "x": 1
        },
        "width": 1000,
        "height": 600,
        "scene": {
         "xaxis": {
          "title": {
           "text": "RTA temperature (C)"
          }
         },
         "yaxis": {
          "title": {
           "text": "RTA time (sec)"
          }
         },
         "zaxis": {
          "title": {
           "text": "Acquisition Function"
          }
         }
        }
       },
       "config": {
        "plotlyServerURL": "https://plot.ly"
       }
      }
     },
     "metadata": {}
    }
   ],
   "metadata": {}
  },
  {
   "cell_type": "code",
   "execution_count": 21,
   "source": [
    "# look at acq_func manifold\n",
    "fig = go.Figure(data=[go.Surface(z=pred_var, x=test_grid[:,0], y=test_grid[:,1])])\n",
    "fig.add_trace(go.Scatter3d(x=test_grid[pi[1], 0].numpy(), y=test_grid[pi[0], 1].numpy(), z=[PI_acq_shape[pi[0], pi[1]]], mode='markers', name='max(pi)'))\n",
    "fig.update_layout( width=1000, height=600,\n",
    "                  margin=dict(r=20, l=10, b=10, t=10),\n",
    "                  legend=dict(orientation=\"h\", yanchor=\"bottom\", y=1.02, xanchor=\"right\",x=1),\n",
    "                  scene=dict(\n",
    "                    xaxis_title=\"RTA temperature (C)\",\n",
    "                    yaxis_title=\"RTA time (sec)\",\n",
    "                    zaxis_title='Acquisition Function')\n",
    "                  )\n",
    "fig.show()"
   ],
   "outputs": [
    {
     "output_type": "display_data",
     "data": {
      "application/vnd.plotly.v1+json": {
       "data": [
        {
         "x": [
          337.5,
          350.4310302734375,
          363.362060546875,
          376.2930908203125,
          389.22412109375,
          402.1551513671875,
          415.0862121582031,
          428.0172424316406,
          440.9482727050781,
          453.8793029785156,
          466.8103332519531,
          479.7413635253906,
          492.67242431640625,
          505.60345458984375,
          518.5344848632812,
          531.4655151367188,
          544.3965454101562,
          557.3275756835938,
          570.2586059570312,
          583.189697265625,
          596.1207275390625,
          609.0517578125,
          621.9827880859375,
          634.913818359375,
          647.8448486328125,
          660.77587890625,
          673.7069091796875,
          686.637939453125,
          699.5689697265625,
          712.5
         ],
         "y": [
          9.64285659790039,
          30.701967239379883,
          51.761077880859375,
          72.8201904296875,
          93.87930297851562,
          114.93841552734375,
          135.9975128173828,
          157.05662536621094,
          178.11573791503906,
          199.1748504638672,
          220.2339630126953,
          241.29306030273438,
          262.3521728515625,
          283.4112854003906,
          304.47039794921875,
          325.5295104980469,
          346.58868408203125,
          367.6477966308594,
          388.7069091796875,
          409.7659912109375,
          430.82513427734375,
          451.88421630859375,
          472.943359375,
          494.00244140625,
          515.0615844726562,
          536.1206665039062,
          557.1798095703125,
          578.2388916015625,
          599.2980346679688,
          620.3571166992188
         ],
         "z": [
          [
           19.12423324584961,
           10.076080322265625,
           9.174293518066406,
           9.742645263671875,
           9.748252868652344,
           11.549758911132812,
           21.854068756103516,
           41.8125114440918,
           60.55207061767578,
           67.00366973876953,
           57.46987533569336,
           35.71968460083008,
           15.926956176757812,
           14.651084899902344,
           31.89261245727539,
           51.7733154296875,
           62.65460205078125,
           62.630531311035156,
           50.68484878540039,
           29.479000091552734,
           13.5343017578125,
           18.004196166992188,
           39.64632797241211,
           61.44114685058594,
           71.33811950683594,
           66.42506408691406,
           47.92011642456055,
           24.254985809326172,
           12.466506958007812,
           22.912372589111328
          ],
          [
           15.941551208496094,
           7.398651123046875,
           7.3811492919921875,
           8.177055358886719,
           7.548240661621094,
           8.479904174804688,
           18.456817626953125,
           38.644866943359375,
           57.75898742675781,
           64.67460632324219,
           55.517555236816406,
           33.6754150390625,
           13.465164184570312,
           11.703781127929688,
           27.901927947998047,
           45.99747848510742,
           55.78363800048828,
           56.65602111816406,
           46.60545349121094,
           26.503036499023438,
           10.747909545898438,
           15.538795471191406,
           38.01105880737305,
           60.64872741699219,
           70.9327163696289,
           65.8222427368164,
           46.57895278930664,
           21.96945571899414,
           9.710929870605469,
           20.573505401611328
          ],
          [
           14.799514770507812,
           6.8598480224609375,
           8.020751953125,
           9.220069885253906,
           7.6806640625,
           7.5373687744140625,
           16.9385986328125,
           36.34091567993164,
           54.59754943847656,
           61.874122619628906,
           54.602943420410156,
           35.124168395996094,
           16.38745880126953,
           13.904342651367188,
           26.60750961303711,
           39.951568603515625,
           47.06306076049805,
           49.37648010253906,
           43.4764289855957,
           27.320350646972656,
           13.608787536621094,
           18.47887420654297,
           39.95384979248047,
           61.57305908203125,
           71.39827728271484,
           66.5096435546875,
           48.107364654541016,
           24.57378387451172,
           12.851707458496094,
           23.23886489868164
          ],
          [
           14.794952392578125,
           7.218849182128906,
           9.693260192871094,
           11.470069885253906,
           8.847259521484375,
           7.5991668701171875,
           16.348159790039062,
           34.04474639892578,
           50.2718391418457,
           57.90298843383789,
           54.09113311767578,
           39.34196853637695,
           23.802303314208984,
           20.371570587158203,
           27.46773910522461,
           33.60527420043945,
           36.797725677490234,
           41.0359992980957,
           41.169734954833984,
           31.380538940429688,
           21.334819793701172,
           26.103679656982422,
           45.00809097290039,
           63.992897033691406,
           72.62337493896484,
           68.3226547241211,
           52.140052795410156,
           31.445274353027344,
           21.13674545288086,
           30.271373748779297
          ],
          [
           15.356964111328125,
           7.764198303222656,
           11.474212646484375,
           13.920364379882812,
           10.220016479492188,
           7.984123229980469,
           15.955886840820312,
           31.004730224609375,
           44.12934112548828,
           52.15272903442383,
           53.14140701293945,
           44.94600296020508,
           33.83457565307617,
           29.362300872802734,
           29.672088623046875,
           27.358489990234375,
           26.076675415039062,
           32.487098693847656,
           39.59651565551758,
           37.5112190246582,
           32.10469436645508,
           36.67393493652344,
           52.028873443603516,
           67.36103057861328,
           74.33108520507812,
           70.85150909423828,
           57.765106201171875,
           41.03024673461914,
           32.694034576416016,
           40.08081817626953
          ],
          [
           16.546493530273438,
           8.669654846191406,
           13.322532653808594,
           16.37194061279297,
           11.778358459472656,
           8.730621337890625,
           15.575355529785156,
           26.978981018066406,
           36.105987548828125,
           44.530662536621094,
           51.14453125,
           50.46082305908203,
           44.35127639770508,
           38.98740768432617,
           32.61512756347656,
           22.19208526611328,
           16.72785186767578,
           25.175045013427734,
           38.91495895385742,
           44.42203903198242,
           43.74754333496094,
           48.074676513671875,
           59.61378860473633,
           71.00503540039062,
           76.18050384521484,
           73.59140014648438,
           63.85986328125,
           51.415283203125,
           45.21638107299805,
           50.709373474121094
          ],
          [
           18.7760009765625,
           10.619102478027344,
           15.776824951171875,
           19.179946899414062,
           13.962814331054688,
           10.237220764160156,
           15.415992736816406,
           22.359458923339844,
           26.99688720703125,
           35.772335052490234,
           48.10597610473633,
           54.87568664550781,
           53.67749786376953,
           47.84745788574219,
           36.14896774291992,
           19.44881820678711,
           10.844161987304688,
           20.76824951171875,
           39.53517150878906,
           51.14069747924805,
           54.44559860229492,
           58.49395751953125,
           66.55210876464844,
           74.34233093261719,
           77.87583923339844,
           76.10401916503906,
           69.44918823242188,
           60.93923568725586,
           56.70026397705078,
           60.456520080566406
          ],
          [
           22.151870727539062,
           13.952461242675781,
           19.16474151611328,
           22.550491333007812,
           16.93079376220703,
           12.565040588378906,
           15.63299560546875,
           17.96649932861328,
           18.36577606201172,
           27.422470092773438,
           44.75366973876953,
           57.92698669433594,
           60.98443603515625,
           55.30036926269531,
           40.47697830200195,
           20.291763305664062,
           10.029937744140625,
           20.547832489013672,
           41.89142990112305,
           57.184303283691406,
           63.14241409301758,
           66.84436798095703,
           72.10872650146484,
           77.01765441894531,
           79.23616027832031,
           78.12100982666016,
           73.93602752685547,
           68.58462524414062,
           65.91905212402344,
           68.28102111816406
          ],
          [
           25.95616912841797,
           17.99384307861328,
           22.943302154541016,
           25.962547302246094,
           20.03589630126953,
           15.013893127441406,
           15.994483947753906,
           14.672294616699219,
           12.074554443359375,
           21.40491485595703,
           42.28173065185547,
           60.008811950683594,
           66.25386810302734,
           61.33268737792969,
           45.809024810791016,
           25.12869644165039,
           14.734672546386719,
           24.85769271850586,
           46.12688446044922,
           62.458534240722656,
           69.5664291381836,
           72.82312774658203,
           76.07121276855469,
           78.92632293701172,
           80.20761108398438,
           79.56210327148438,
           77.14197540283203,
           74.04741668701172,
           72.50592803955078,
           73.87185668945312
          ],
          [
           28.759387969970703,
           21.13968276977539,
           25.730716705322266,
           28.203441619873047,
           21.985637664794922,
           16.374290466308594,
           15.978401184082031,
           13.0914306640625,
           9.626632690429688,
           19.332015991210938,
           41.842411041259766,
           61.815834045410156,
           69.95449829101562,
           66.2264175415039,
           52.04656219482422,
           33.3448600769043,
           24.036766052246094,
           32.92021560668945,
           51.9045524597168,
           67.03252410888672,
           73.9829330444336,
           76.69719696044922,
           78.61279296875,
           80.14984893798828,
           80.83091735839844,
           80.4872817993164,
           79.20028686523438,
           77.55470275878906,
           76.73499298095703,
           77.46134185791016
          ],
          [
           29.18967056274414,
           21.749874114990234,
           26.071243286132812,
           28.039756774902344,
           21.598506927490234,
           15.709495544433594,
           15.235969543457031,
           13.48486328125,
           11.633575439453125,
           21.877994537353516,
           44.04249954223633,
           63.938785552978516,
           72.66324615478516,
           70.26112365722656,
           58.70486068725586,
           43.500972747802734,
           35.9954719543457,
           43.12162780761719,
           58.4682502746582,
           70.96038818359375,
           76.87797546386719,
           78.99580383300781,
           80.08949279785156,
           80.85887145996094,
           81.1923828125,
           81.02416229248047,
           80.394775390625,
           79.59008026123047,
           79.18924713134766,
           79.54443359375
          ],
          [
           26.872798919677734,
           19.264984130859375,
           23.436382293701172,
           25.06549072265625,
           18.62417984008789,
           13.084953308105469,
           14.036651611328125,
           15.846923828125,
           17.65343475341797,
           28.532867431640625,
           48.699134826660156,
           66.61197662353516,
           74.8121337890625,
           73.58377838134766,
           65.08761596679688,
           53.870849609375,
           48.3701286315918,
           53.60454177856445,
           64.90888977050781,
           74.228271484375,
           78.72633361816406,
           80.26094818115234,
           80.87136840820312,
           81.23188781738281,
           81.38259887695312,
           81.30687713623047,
           81.02384185791016,
           80.6619873046875,
           80.48173522949219,
           80.6414566040039
          ],
          [
           22.894081115722656,
           14.789749145507812,
           18.776260375976562,
           20.158843994140625,
           14.0738525390625,
           9.722900390625,
           13.320930480957031,
           20.03888702392578,
           26.446338653564453,
           37.84783172607422,
           54.95588684082031,
           69.69195556640625,
           76.61467742919922,
           76.2326431274414,
           70.56564331054688,
           63.01689147949219,
           59.3337516784668,
           62.85844421386719,
           70.4726333618164,
           76.79885864257812,
           79.88938903808594,
           80.91697692871094,
           81.25100708007812,
           81.4106674194336,
           81.47367858886719,
           81.44235229492188,
           81.32530212402344,
           81.17566680908203,
           81.10113525390625,
           81.16718292236328
          ],
          [
           19.43026351928711,
           10.724189758300781,
           14.253448486328125,
           15.26190185546875,
           9.881095886230469,
           7.499671936035156,
           14.305770874023438,
           25.85024642944336,
           36.47262191772461,
           48.014774322509766,
           61.660736083984375,
           72.81361389160156,
           78.121337890625,
           78.22250366210938,
           74.7834701538086,
           70.13551330566406,
           67.8758544921875,
           70.05339813232422,
           74.75299072265625,
           78.67664337158203,
           80.60904693603516,
           81.2430648803711,
           81.42134094238281,
           81.48896026611328,
           81.5134506225586,
           81.50154113769531,
           81.45703125,
           81.40013122558594,
           81.37178802490234,
           81.39690399169922
          ],
          [
           18.75649642944336,
           9.662094116210938,
           12.30767822265625,
           12.6168212890625,
           8.125953674316406,
           8.130058288574219,
           17.905765533447266,
           32.97227478027344,
           46.37192153930664,
           57.47028350830078,
           67.78868103027344,
           75.59854125976562,
           79.31697845458984,
           79.60794830322266,
           77.70710754394531,
           75.08427429199219,
           73.8118896484375,
           75.04686737060547,
           77.70829772949219,
           79.93714141845703,
           81.041015625,
           81.40089416503906,
           81.49267578125,
           81.5204086303711,
           81.52931213378906,
           81.52516174316406,
           81.50959014892578,
           81.48969268798828,
           81.47978210449219,
           81.48856353759766
          ],
          [
           22.20452880859375,
           13.201759338378906,
           14.59625244140625,
           13.87506103515625,
           10.244064331054688,
           12.500328063964844,
           24.317005157470703,
           40.94921112060547,
           55.23162841796875,
           65.2601089477539,
           72.7137451171875,
           77.80440521240234,
           80.19489288330078,
           80.49485778808594,
           79.5380630493164,
           78.18030548095703,
           77.52214050292969,
           78.1653823852539,
           79.54937744140625,
           80.71070861816406,
           81.28814697265625,
           81.4759292602539,
           81.52093505859375,
           81.53204345703125,
           81.53510284423828,
           81.53377532958984,
           81.52877044677734,
           81.52236938476562,
           81.51918029785156,
           81.52201080322266
          ],
          [
           29.63128662109375,
           21.303062438964844,
           21.34182357788086,
           19.48686981201172,
           16.5400390625,
           20.406566619873047,
           32.944644927978516,
           49.179840087890625,
           62.61156463623047,
           71.08206176757812,
           76.25774383544922,
           79.36917877197266,
           80.78507995605469,
           81.015380859375,
           80.57733154296875,
           79.9322280883789,
           79.61930847167969,
           79.9271011352539,
           80.58831024169922,
           81.14384460449219,
           81.42085266113281,
           81.51090240478516,
           81.53166961669922,
           81.5360336303711,
           81.53704071044922,
           81.53665161132812,
           81.53517150878906,
           81.53327941894531,
           81.53233337402344,
           81.53317260742188
          ],
          [
           39.5887565612793,
           32.42593765258789,
           31.34735870361328,
           28.59699249267578,
           26.1353759765625,
           30.698284149169922,
           42.6290168762207,
           56.98972702026367,
           68.4151611328125,
           75.10065460205078,
           78.57087707519531,
           80.37075805664062,
           81.14725494384766,
           81.29539489746094,
           81.11343383789062,
           80.8320541381836,
           80.69528198242188,
           80.83061218261719,
           81.12092590332031,
           81.36504364013672,
           81.48702239990234,
           81.52669525146484,
           81.53564453125,
           81.53731536865234,
           81.53762817382812,
           81.53752899169922,
           81.53712463378906,
           81.53661346435547,
           81.5363540649414,
           81.53658294677734
          ],
          [
           49.98626708984375,
           44.23738479614258,
           42.53778839111328,
           39.40327835083008,
           37.28401184082031,
           41.65932846069336,
           51.994441986083984,
           63.7396125793457,
           72.72692108154297,
           77.6949462890625,
           79.95472717285156,
           80.95295715332031,
           81.35014343261719,
           81.43360137939453,
           81.36531829833984,
           81.25264739990234,
           81.19768524169922,
           81.25237274169922,
           81.36953735351562,
           81.4681167602539,
           81.51744842529297,
           81.53350830078125,
           81.5370864868164,
           81.5376968383789,
           81.53779602050781,
           81.53777313232422,
           81.53767395019531,
           81.53754425048828,
           81.53748321533203,
           81.53753662109375
          ],
          [
           58.81354904174805,
           54.4219970703125,
           52.68167495727539,
           49.757652282714844,
           47.88726806640625,
           51.44212341308594,
           59.7520751953125,
           68.91354370117188,
           75.69087219238281,
           79.2615966796875,
           80.71834564208984,
           81.26177978515625,
           81.45404052734375,
           81.49629211425781,
           81.47331237792969,
           81.43190002441406,
           81.4115982055664,
           81.4319076538086,
           81.47537994384766,
           81.51197052001953,
           81.53030395507812,
           81.5362777709961,
           81.53759765625,
           81.53781127929688,
           81.537841796875,
           81.537841796875,
           81.53781127929688,
           81.53778839111328,
           81.53777313232422,
           81.53778076171875
          ],
          [
           64.60033416748047,
           61.22434997558594,
           59.95280456542969,
           57.73419189453125,
           56.00244140625,
           58.420631408691406,
           64.87998962402344,
           72.15653228759766,
           77.44666290283203,
           80.114990234375,
           81.10321044921875,
           81.4111557006836,
           81.50267791748047,
           81.52245330810547,
           81.51563262939453,
           81.50167083740234,
           81.4947738647461,
           81.501708984375,
           81.51653289794922,
           81.52902221679688,
           81.5352783203125,
           81.53732299804688,
           81.53777313232422,
           81.537841796875,
           81.53785705566406,
           81.53784942626953,
           81.53784942626953,
           81.537841796875,
           81.537841796875,
           81.537841796875
          ],
          [
           66.53368377685547,
           63.624359130859375,
           63.19319534301758,
           61.990692138671875,
           60.20490264892578,
           61.41672134399414,
           66.69454956054688,
           73.27204132080078,
           78.11056518554688,
           80.4669189453125,
           81.26760864257812,
           81.47541809082031,
           81.5233383178711,
           81.53250122070312,
           81.53080749511719,
           81.5264892578125,
           81.52433776855469,
           81.5265121459961,
           81.53116607666016,
           81.53507995605469,
           81.53704833984375,
           81.53768920898438,
           81.53783416748047,
           81.53785705566406,
           81.53785705566406,
           81.53785705566406,
           81.53785705566406,
           81.53785705566406,
           81.53785705566406,
           81.53785705566406
          ],
          [
           64.38543701171875,
           61.28819274902344,
           61.946468353271484,
           61.905887603759766,
           59.77254104614258,
           59.8290901184082,
           64.8874740600586,
           72.22166442871094,
           77.78794860839844,
           80.44924926757812,
           81.30305480957031,
           81.49678802490234,
           81.53099822998047,
           81.5360336303711,
           81.53579711914062,
           81.53457641601562,
           81.5339584350586,
           81.53458404541016,
           81.53592681884766,
           81.53705596923828,
           81.5376205444336,
           81.53781127929688,
           81.53784942626953,
           81.53785705566406,
           81.53785705566406,
           81.53785705566406,
           81.53785705566406,
           81.53785705566406,
           81.53785705566406,
           81.53785705566406
          ],
          [
           58.45032501220703,
           54.517295837402344,
           56.43311309814453,
           57.59995651245117,
           54.7678108215332,
           53.74015426635742,
           59.599761962890625,
           69.16578674316406,
           76.610595703125,
           80.15139770507812,
           81.259765625,
           81.49687957763672,
           81.53299713134766,
           81.5371322631836,
           81.53729248046875,
           81.5369873046875,
           81.53681945800781,
           81.5369873046875,
           81.53734588623047,
           81.53764343261719,
           81.53779602050781,
           81.537841796875,
           81.53785705566406,
           81.53785705566406,
           81.53785705566406,
           81.53785705566406,
           81.53785705566406,
           81.53785705566406,
           81.53785705566406,
           81.53785705566406
          ],
          [
           49.58564376831055,
           44.295616149902344,
           47.56843185424805,
           49.93199157714844,
           46.082462310791016,
           44.02814483642578,
           51.539615631103516,
           64.54287719726562,
           74.787353515625,
           79.65628814697266,
           81.16860961914062,
           81.4864273071289,
           81.53264617919922,
           81.53739929199219,
           81.53770446777344,
           81.53764343261719,
           81.53760528564453,
           81.53764343261719,
           81.53773498535156,
           81.53780364990234,
           81.537841796875,
           81.53785705566406,
           81.53785705566406,
           81.53785705566406,
           81.53785705566406,
           81.53785705566406,
           81.53785705566406,
           81.53785705566406,
           81.53785705566406,
           81.53785705566406
          ],
          [
           39.27061462402344,
           32.34870529174805,
           36.97478485107422,
           40.46238708496094,
           35.41838836669922,
           32.410369873046875,
           42.05430603027344,
           59.12755584716797,
           72.64144134521484,
           79.06455993652344,
           81.05517578125,
           81.47154998779297,
           81.53140258789062,
           81.53739166259766,
           81.53780364990234,
           81.53781127929688,
           81.53780364990234,
           81.53781127929688,
           81.53782653808594,
           81.537841796875,
           81.53785705566406,
           81.53785705566406,
           81.53785705566406,
           81.53785705566406,
           81.53785705566406,
           81.53785705566406,
           81.53785705566406,
           81.53785705566406,
           81.53785705566406,
           81.53785705566406
          ],
          [
           29.50640106201172,
           21.016162872314453,
           26.830223083496094,
           31.26952362060547,
           25.082130432128906,
           21.26425552368164,
           33.01767349243164,
           53.9814453125,
           70.60021209716797,
           78.49932098388672,
           80.94570922851562,
           81.4567642211914,
           81.53003692626953,
           81.53732299804688,
           81.53782653808594,
           81.53784942626953,
           81.537841796875,
           81.53784942626953,
           81.53784942626953,
           81.53785705566406,
           81.53785705566406,
           81.53785705566406,
           81.53785705566406,
           81.53785705566406,
           81.53785705566406,
           81.53785705566406,
           81.53785705566406,
           81.53785705566406,
           81.53785705566406,
           81.53785705566406
          ],
          [
           22.43416976928711,
           12.799766540527344,
           19.444271087646484,
           24.536117553710938,
           17.513816833496094,
           13.137222290039062,
           26.449264526367188,
           50.24580764770508,
           69.11837768554688,
           78.08849334716797,
           80.86591339111328,
           81.44590759277344,
           81.52900695800781,
           81.5372543334961,
           81.53782653808594,
           81.53785705566406,
           81.53785705566406,
           81.53785705566406,
           81.53785705566406,
           81.53785705566406,
           81.53785705566406,
           81.53785705566406,
           81.53785705566406,
           81.53785705566406,
           81.53785705566406,
           81.53785705566406,
           81.53785705566406,
           81.53785705566406,
           81.53785705566406,
           81.53785705566406
          ],
          [
           19.74264907836914,
           9.671463012695312,
           16.62883758544922,
           21.964885711669922,
           14.622573852539062,
           10.034896850585938,
           23.943798065185547,
           48.821834564208984,
           68.55384826660156,
           77.93205261230469,
           80.83554077148438,
           81.44176483154297,
           81.52861022949219,
           81.5372314453125,
           81.53782653808594,
           81.53785705566406,
           81.53785705566406,
           81.53785705566406,
           81.53785705566406,
           81.53785705566406,
           81.53785705566406,
           81.53785705566406,
           81.53785705566406,
           81.53785705566406,
           81.53785705566406,
           81.53785705566406,
           81.53785705566406,
           81.53785705566406,
           81.53785705566406,
           81.53785705566406
          ],
          [
           22.111507415771484,
           12.426628112792969,
           19.117652893066406,
           24.25057601928711,
           17.187843322753906,
           12.773262023925781,
           26.148784637451172,
           50.074806213378906,
           69.05152893066406,
           78.07042694091797,
           80.8625259399414,
           81.44546508789062,
           81.52896881103516,
           81.5372543334961,
           81.53782653808594,
           81.53785705566406,
           81.53785705566406,
           81.53785705566406,
           81.53785705566406,
           81.53785705566406,
           81.53785705566406,
           81.53785705566406,
           81.53785705566406,
           81.53785705566406,
           81.53785705566406,
           81.53785705566406,
           81.53785705566406,
           81.53785705566406,
           81.53785705566406,
           81.53785705566406
          ]
         ],
         "type": "surface"
        },
        {
         "mode": "markers",
         "name": "max(pi)",
         "x": [
          415.0862121582031
         ],
         "y": [
          114.93841552734375
         ],
         "z": [
          0.5492085218429565
         ],
         "type": "scatter3d"
        }
       ],
       "layout": {
        "template": {
         "data": {
          "bar": [
           {
            "error_x": {
             "color": "#2a3f5f"
            },
            "error_y": {
             "color": "#2a3f5f"
            },
            "marker": {
             "line": {
              "color": "#E5ECF6",
              "width": 0.5
             },
             "pattern": {
              "fillmode": "overlay",
              "size": 10,
              "solidity": 0.2
             }
            },
            "type": "bar"
           }
          ],
          "barpolar": [
           {
            "marker": {
             "line": {
              "color": "#E5ECF6",
              "width": 0.5
             },
             "pattern": {
              "fillmode": "overlay",
              "size": 10,
              "solidity": 0.2
             }
            },
            "type": "barpolar"
           }
          ],
          "carpet": [
           {
            "aaxis": {
             "endlinecolor": "#2a3f5f",
             "gridcolor": "white",
             "linecolor": "white",
             "minorgridcolor": "white",
             "startlinecolor": "#2a3f5f"
            },
            "baxis": {
             "endlinecolor": "#2a3f5f",
             "gridcolor": "white",
             "linecolor": "white",
             "minorgridcolor": "white",
             "startlinecolor": "#2a3f5f"
            },
            "type": "carpet"
           }
          ],
          "choropleth": [
           {
            "colorbar": {
             "outlinewidth": 0,
             "ticks": ""
            },
            "type": "choropleth"
           }
          ],
          "contour": [
           {
            "colorbar": {
             "outlinewidth": 0,
             "ticks": ""
            },
            "colorscale": [
             [
              0,
              "#0d0887"
             ],
             [
              0.1111111111111111,
              "#46039f"
             ],
             [
              0.2222222222222222,
              "#7201a8"
             ],
             [
              0.3333333333333333,
              "#9c179e"
             ],
             [
              0.4444444444444444,
              "#bd3786"
             ],
             [
              0.5555555555555556,
              "#d8576b"
             ],
             [
              0.6666666666666666,
              "#ed7953"
             ],
             [
              0.7777777777777778,
              "#fb9f3a"
             ],
             [
              0.8888888888888888,
              "#fdca26"
             ],
             [
              1,
              "#f0f921"
             ]
            ],
            "type": "contour"
           }
          ],
          "contourcarpet": [
           {
            "colorbar": {
             "outlinewidth": 0,
             "ticks": ""
            },
            "type": "contourcarpet"
           }
          ],
          "heatmap": [
           {
            "colorbar": {
             "outlinewidth": 0,
             "ticks": ""
            },
            "colorscale": [
             [
              0,
              "#0d0887"
             ],
             [
              0.1111111111111111,
              "#46039f"
             ],
             [
              0.2222222222222222,
              "#7201a8"
             ],
             [
              0.3333333333333333,
              "#9c179e"
             ],
             [
              0.4444444444444444,
              "#bd3786"
             ],
             [
              0.5555555555555556,
              "#d8576b"
             ],
             [
              0.6666666666666666,
              "#ed7953"
             ],
             [
              0.7777777777777778,
              "#fb9f3a"
             ],
             [
              0.8888888888888888,
              "#fdca26"
             ],
             [
              1,
              "#f0f921"
             ]
            ],
            "type": "heatmap"
           }
          ],
          "heatmapgl": [
           {
            "colorbar": {
             "outlinewidth": 0,
             "ticks": ""
            },
            "colorscale": [
             [
              0,
              "#0d0887"
             ],
             [
              0.1111111111111111,
              "#46039f"
             ],
             [
              0.2222222222222222,
              "#7201a8"
             ],
             [
              0.3333333333333333,
              "#9c179e"
             ],
             [
              0.4444444444444444,
              "#bd3786"
             ],
             [
              0.5555555555555556,
              "#d8576b"
             ],
             [
              0.6666666666666666,
              "#ed7953"
             ],
             [
              0.7777777777777778,
              "#fb9f3a"
             ],
             [
              0.8888888888888888,
              "#fdca26"
             ],
             [
              1,
              "#f0f921"
             ]
            ],
            "type": "heatmapgl"
           }
          ],
          "histogram": [
           {
            "marker": {
             "pattern": {
              "fillmode": "overlay",
              "size": 10,
              "solidity": 0.2
             }
            },
            "type": "histogram"
           }
          ],
          "histogram2d": [
           {
            "colorbar": {
             "outlinewidth": 0,
             "ticks": ""
            },
            "colorscale": [
             [
              0,
              "#0d0887"
             ],
             [
              0.1111111111111111,
              "#46039f"
             ],
             [
              0.2222222222222222,
              "#7201a8"
             ],
             [
              0.3333333333333333,
              "#9c179e"
             ],
             [
              0.4444444444444444,
              "#bd3786"
             ],
             [
              0.5555555555555556,
              "#d8576b"
             ],
             [
              0.6666666666666666,
              "#ed7953"
             ],
             [
              0.7777777777777778,
              "#fb9f3a"
             ],
             [
              0.8888888888888888,
              "#fdca26"
             ],
             [
              1,
              "#f0f921"
             ]
            ],
            "type": "histogram2d"
           }
          ],
          "histogram2dcontour": [
           {
            "colorbar": {
             "outlinewidth": 0,
             "ticks": ""
            },
            "colorscale": [
             [
              0,
              "#0d0887"
             ],
             [
              0.1111111111111111,
              "#46039f"
             ],
             [
              0.2222222222222222,
              "#7201a8"
             ],
             [
              0.3333333333333333,
              "#9c179e"
             ],
             [
              0.4444444444444444,
              "#bd3786"
             ],
             [
              0.5555555555555556,
              "#d8576b"
             ],
             [
              0.6666666666666666,
              "#ed7953"
             ],
             [
              0.7777777777777778,
              "#fb9f3a"
             ],
             [
              0.8888888888888888,
              "#fdca26"
             ],
             [
              1,
              "#f0f921"
             ]
            ],
            "type": "histogram2dcontour"
           }
          ],
          "mesh3d": [
           {
            "colorbar": {
             "outlinewidth": 0,
             "ticks": ""
            },
            "type": "mesh3d"
           }
          ],
          "parcoords": [
           {
            "line": {
             "colorbar": {
              "outlinewidth": 0,
              "ticks": ""
             }
            },
            "type": "parcoords"
           }
          ],
          "pie": [
           {
            "automargin": true,
            "type": "pie"
           }
          ],
          "scatter": [
           {
            "marker": {
             "colorbar": {
              "outlinewidth": 0,
              "ticks": ""
             }
            },
            "type": "scatter"
           }
          ],
          "scatter3d": [
           {
            "line": {
             "colorbar": {
              "outlinewidth": 0,
              "ticks": ""
             }
            },
            "marker": {
             "colorbar": {
              "outlinewidth": 0,
              "ticks": ""
             }
            },
            "type": "scatter3d"
           }
          ],
          "scattercarpet": [
           {
            "marker": {
             "colorbar": {
              "outlinewidth": 0,
              "ticks": ""
             }
            },
            "type": "scattercarpet"
           }
          ],
          "scattergeo": [
           {
            "marker": {
             "colorbar": {
              "outlinewidth": 0,
              "ticks": ""
             }
            },
            "type": "scattergeo"
           }
          ],
          "scattergl": [
           {
            "marker": {
             "colorbar": {
              "outlinewidth": 0,
              "ticks": ""
             }
            },
            "type": "scattergl"
           }
          ],
          "scattermapbox": [
           {
            "marker": {
             "colorbar": {
              "outlinewidth": 0,
              "ticks": ""
             }
            },
            "type": "scattermapbox"
           }
          ],
          "scatterpolar": [
           {
            "marker": {
             "colorbar": {
              "outlinewidth": 0,
              "ticks": ""
             }
            },
            "type": "scatterpolar"
           }
          ],
          "scatterpolargl": [
           {
            "marker": {
             "colorbar": {
              "outlinewidth": 0,
              "ticks": ""
             }
            },
            "type": "scatterpolargl"
           }
          ],
          "scatterternary": [
           {
            "marker": {
             "colorbar": {
              "outlinewidth": 0,
              "ticks": ""
             }
            },
            "type": "scatterternary"
           }
          ],
          "surface": [
           {
            "colorbar": {
             "outlinewidth": 0,
             "ticks": ""
            },
            "colorscale": [
             [
              0,
              "#0d0887"
             ],
             [
              0.1111111111111111,
              "#46039f"
             ],
             [
              0.2222222222222222,
              "#7201a8"
             ],
             [
              0.3333333333333333,
              "#9c179e"
             ],
             [
              0.4444444444444444,
              "#bd3786"
             ],
             [
              0.5555555555555556,
              "#d8576b"
             ],
             [
              0.6666666666666666,
              "#ed7953"
             ],
             [
              0.7777777777777778,
              "#fb9f3a"
             ],
             [
              0.8888888888888888,
              "#fdca26"
             ],
             [
              1,
              "#f0f921"
             ]
            ],
            "type": "surface"
           }
          ],
          "table": [
           {
            "cells": {
             "fill": {
              "color": "#EBF0F8"
             },
             "line": {
              "color": "white"
             }
            },
            "header": {
             "fill": {
              "color": "#C8D4E3"
             },
             "line": {
              "color": "white"
             }
            },
            "type": "table"
           }
          ]
         },
         "layout": {
          "annotationdefaults": {
           "arrowcolor": "#2a3f5f",
           "arrowhead": 0,
           "arrowwidth": 1
          },
          "autotypenumbers": "strict",
          "coloraxis": {
           "colorbar": {
            "outlinewidth": 0,
            "ticks": ""
           }
          },
          "colorscale": {
           "diverging": [
            [
             0,
             "#8e0152"
            ],
            [
             0.1,
             "#c51b7d"
            ],
            [
             0.2,
             "#de77ae"
            ],
            [
             0.3,
             "#f1b6da"
            ],
            [
             0.4,
             "#fde0ef"
            ],
            [
             0.5,
             "#f7f7f7"
            ],
            [
             0.6,
             "#e6f5d0"
            ],
            [
             0.7,
             "#b8e186"
            ],
            [
             0.8,
             "#7fbc41"
            ],
            [
             0.9,
             "#4d9221"
            ],
            [
             1,
             "#276419"
            ]
           ],
           "sequential": [
            [
             0,
             "#0d0887"
            ],
            [
             0.1111111111111111,
             "#46039f"
            ],
            [
             0.2222222222222222,
             "#7201a8"
            ],
            [
             0.3333333333333333,
             "#9c179e"
            ],
            [
             0.4444444444444444,
             "#bd3786"
            ],
            [
             0.5555555555555556,
             "#d8576b"
            ],
            [
             0.6666666666666666,
             "#ed7953"
            ],
            [
             0.7777777777777778,
             "#fb9f3a"
            ],
            [
             0.8888888888888888,
             "#fdca26"
            ],
            [
             1,
             "#f0f921"
            ]
           ],
           "sequentialminus": [
            [
             0,
             "#0d0887"
            ],
            [
             0.1111111111111111,
             "#46039f"
            ],
            [
             0.2222222222222222,
             "#7201a8"
            ],
            [
             0.3333333333333333,
             "#9c179e"
            ],
            [
             0.4444444444444444,
             "#bd3786"
            ],
            [
             0.5555555555555556,
             "#d8576b"
            ],
            [
             0.6666666666666666,
             "#ed7953"
            ],
            [
             0.7777777777777778,
             "#fb9f3a"
            ],
            [
             0.8888888888888888,
             "#fdca26"
            ],
            [
             1,
             "#f0f921"
            ]
           ]
          },
          "colorway": [
           "#636efa",
           "#EF553B",
           "#00cc96",
           "#ab63fa",
           "#FFA15A",
           "#19d3f3",
           "#FF6692",
           "#B6E880",
           "#FF97FF",
           "#FECB52"
          ],
          "font": {
           "color": "#2a3f5f"
          },
          "geo": {
           "bgcolor": "white",
           "lakecolor": "white",
           "landcolor": "#E5ECF6",
           "showlakes": true,
           "showland": true,
           "subunitcolor": "white"
          },
          "hoverlabel": {
           "align": "left"
          },
          "hovermode": "closest",
          "mapbox": {
           "style": "light"
          },
          "paper_bgcolor": "white",
          "plot_bgcolor": "#E5ECF6",
          "polar": {
           "angularaxis": {
            "gridcolor": "white",
            "linecolor": "white",
            "ticks": ""
           },
           "bgcolor": "#E5ECF6",
           "radialaxis": {
            "gridcolor": "white",
            "linecolor": "white",
            "ticks": ""
           }
          },
          "scene": {
           "xaxis": {
            "backgroundcolor": "#E5ECF6",
            "gridcolor": "white",
            "gridwidth": 2,
            "linecolor": "white",
            "showbackground": true,
            "ticks": "",
            "zerolinecolor": "white"
           },
           "yaxis": {
            "backgroundcolor": "#E5ECF6",
            "gridcolor": "white",
            "gridwidth": 2,
            "linecolor": "white",
            "showbackground": true,
            "ticks": "",
            "zerolinecolor": "white"
           },
           "zaxis": {
            "backgroundcolor": "#E5ECF6",
            "gridcolor": "white",
            "gridwidth": 2,
            "linecolor": "white",
            "showbackground": true,
            "ticks": "",
            "zerolinecolor": "white"
           }
          },
          "shapedefaults": {
           "line": {
            "color": "#2a3f5f"
           }
          },
          "ternary": {
           "aaxis": {
            "gridcolor": "white",
            "linecolor": "white",
            "ticks": ""
           },
           "baxis": {
            "gridcolor": "white",
            "linecolor": "white",
            "ticks": ""
           },
           "bgcolor": "#E5ECF6",
           "caxis": {
            "gridcolor": "white",
            "linecolor": "white",
            "ticks": ""
           }
          },
          "title": {
           "x": 0.05
          },
          "xaxis": {
           "automargin": true,
           "gridcolor": "white",
           "linecolor": "white",
           "ticks": "",
           "title": {
            "standoff": 15
           },
           "zerolinecolor": "white",
           "zerolinewidth": 2
          },
          "yaxis": {
           "automargin": true,
           "gridcolor": "white",
           "linecolor": "white",
           "ticks": "",
           "title": {
            "standoff": 15
           },
           "zerolinecolor": "white",
           "zerolinewidth": 2
          }
         }
        },
        "margin": {
         "r": 20,
         "l": 10,
         "b": 10,
         "t": 10
        },
        "legend": {
         "orientation": "h",
         "yanchor": "bottom",
         "y": 1.02,
         "xanchor": "right",
         "x": 1
        },
        "width": 1000,
        "height": 600,
        "scene": {
         "xaxis": {
          "title": {
           "text": "RTA temperature (C)"
          }
         },
         "yaxis": {
          "title": {
           "text": "RTA time (sec)"
          }
         },
         "zaxis": {
          "title": {
           "text": "Acquisition Function"
          }
         }
        }
       },
       "config": {
        "plotlyServerURL": "https://plot.ly"
       }
      }
     },
     "metadata": {}
    }
   ],
   "metadata": {}
  }
 ],
 "metadata": {
  "interpreter": {
   "hash": "b00f9bca1c18369f730e284e4d0522d8a3e0f0b629e30dad99ec4bb4df6f08b7"
  },
  "kernelspec": {
   "name": "python3",
   "display_name": "Python 3.9.12 64-bit ('FEGP': conda)"
  },
  "language_info": {
   "codemirror_mode": {
    "name": "ipython",
    "version": 3
   },
   "file_extension": ".py",
   "mimetype": "text/x-python",
   "name": "python",
   "nbconvert_exporter": "python",
   "pygments_lexer": "ipython3",
   "version": "3.9.12"
  },
  "orig_nbformat": 2
 },
 "nbformat": 4,
 "nbformat_minor": 2
}