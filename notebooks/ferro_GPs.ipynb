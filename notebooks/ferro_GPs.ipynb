{
 "cells": [
  {
   "cell_type": "code",
   "execution_count": 1,
   "source": [
    "# allow imports from local \"src\" directory\n",
    "import sys\n",
    "sys.path.append('..')\n",
    "\n",
    "import numpy as np\n",
    "import math\n",
    "import torch\n",
    "import gpytorch\n",
    "from matplotlib import pyplot as pyplot\n",
    "from matplotlib import cm\n",
    "import plotly.express as px\n",
    "\n",
    "import botorch\n",
    "from botorch.models.gpytorch import GPyTorchModel\n",
    "\n",
    "import pandas as pd\n",
    "#%matplotlib inline\n",
    "#%load_ext autoreload\n",
    "#%autoreload 2\n",
    "print(gpytorch.__version__)"
   ],
   "outputs": [
    {
     "output_type": "stream",
     "name": "stderr",
     "text": [
      "/Users/valenetjong/opt/anaconda3/envs/FEGP/lib/python3.9/site-packages/tqdm/auto.py:22: TqdmWarning: IProgress not found. Please update jupyter and ipywidgets. See https://ipywidgets.readthedocs.io/en/stable/user_install.html\n",
      "  from .autonotebook import tqdm as notebook_tqdm\n"
     ]
    },
    {
     "output_type": "stream",
     "name": "stdout",
     "text": [
      "1.7.0\n"
     ]
    }
   ],
   "metadata": {}
  },
  {
   "cell_type": "markdown",
   "source": [
    "# Data import and preparation"
   ],
   "metadata": {
    "tags": []
   }
  },
  {
   "cell_type": "code",
   "execution_count": 10,
   "source": [
    "# load data\n",
    "fe_data = pd.read_csv('../data/KHM005_KHM006_quartz_HZO_samples2.csv', index_col=0)\n",
    "#fe_data['log(RTA time)'] = np.log(fe_data['RTA time (sec)'])\n",
    "# fe_data['Coersive Field'] = fe_data['Coersive Voltage +'] - fe_data['Coersive Voltage -']\n",
    "fe_data.columns"
   ],
   "outputs": [
    {
     "output_type": "execute_result",
     "data": {
      "text/plain": [
       "Index(['Thickness (nm)', 'Flash voltage (kV)', 'Flash time (msec)',\n",
       "       'Pr (uC/cm2), Pristine state', '2Pr (uC/cm2), Pristine state',\n",
       "       'Predicted 2Pr', 'Coersive Voltage', 'Imprint', 'Endurance',\n",
       "       'Max temperature (degC)', 'Duty Cycle', 'Num Pulses'],\n",
       "      dtype='object')"
      ]
     },
     "metadata": {},
     "execution_count": 10
    }
   ],
   "metadata": {}
  },
  {
   "cell_type": "code",
   "execution_count": 7,
   "source": [
    "fe_data.head()"
   ],
   "outputs": [
    {
     "output_type": "execute_result",
     "data": {
      "text/html": [
       "<div>\n",
       "<style scoped>\n",
       "    .dataframe tbody tr th:only-of-type {\n",
       "        vertical-align: middle;\n",
       "    }\n",
       "\n",
       "    .dataframe tbody tr th {\n",
       "        vertical-align: top;\n",
       "    }\n",
       "\n",
       "    .dataframe thead th {\n",
       "        text-align: right;\n",
       "    }\n",
       "</style>\n",
       "<table border=\"1\" class=\"dataframe\">\n",
       "  <thead>\n",
       "    <tr style=\"text-align: right;\">\n",
       "      <th></th>\n",
       "      <th>Thickness (nm)</th>\n",
       "      <th>Flash voltage (kV)</th>\n",
       "      <th>Flash time (msec)</th>\n",
       "      <th>Pr (uC/cm2), Pristine state</th>\n",
       "      <th>2Pr (uC/cm2), Pristine state</th>\n",
       "      <th>Predicted 2Pr</th>\n",
       "      <th>Coersive Voltage</th>\n",
       "      <th>Imprint</th>\n",
       "      <th>Endurance</th>\n",
       "      <th>Max temperature (degC)</th>\n",
       "      <th>Duty Cycle</th>\n",
       "      <th>Num Pulses</th>\n",
       "    </tr>\n",
       "  </thead>\n",
       "  <tbody>\n",
       "    <tr>\n",
       "      <th>1</th>\n",
       "      <td>10</td>\n",
       "      <td>2.0</td>\n",
       "      <td>2.0</td>\n",
       "      <td>1.39</td>\n",
       "      <td>2.78</td>\n",
       "      <td>NaN</td>\n",
       "      <td>0.49</td>\n",
       "      <td>-0.002</td>\n",
       "      <td>100000000.0</td>\n",
       "      <td>342</td>\n",
       "      <td>0.21</td>\n",
       "      <td>1</td>\n",
       "    </tr>\n",
       "    <tr>\n",
       "      <th>2</th>\n",
       "      <td>10</td>\n",
       "      <td>2.0</td>\n",
       "      <td>5.0</td>\n",
       "      <td>3.94</td>\n",
       "      <td>7.88</td>\n",
       "      <td>NaN</td>\n",
       "      <td>0.84</td>\n",
       "      <td>0.122</td>\n",
       "      <td>10000000.0</td>\n",
       "      <td>345</td>\n",
       "      <td>0.22</td>\n",
       "      <td>2</td>\n",
       "    </tr>\n",
       "    <tr>\n",
       "      <th>3</th>\n",
       "      <td>10</td>\n",
       "      <td>2.2</td>\n",
       "      <td>1.0</td>\n",
       "      <td>4.69</td>\n",
       "      <td>9.38</td>\n",
       "      <td>NaN</td>\n",
       "      <td>0.74</td>\n",
       "      <td>0.069</td>\n",
       "      <td>10000000.0</td>\n",
       "      <td>361</td>\n",
       "      <td>0.23</td>\n",
       "      <td>3</td>\n",
       "    </tr>\n",
       "    <tr>\n",
       "      <th>4</th>\n",
       "      <td>10</td>\n",
       "      <td>2.2</td>\n",
       "      <td>1.5</td>\n",
       "      <td>13.82</td>\n",
       "      <td>27.64</td>\n",
       "      <td>NaN</td>\n",
       "      <td>0.93</td>\n",
       "      <td>0.195</td>\n",
       "      <td>1000000.0</td>\n",
       "      <td>403</td>\n",
       "      <td>0.24</td>\n",
       "      <td>4</td>\n",
       "    </tr>\n",
       "    <tr>\n",
       "      <th>5</th>\n",
       "      <td>10</td>\n",
       "      <td>2.2</td>\n",
       "      <td>2.0</td>\n",
       "      <td>13.81</td>\n",
       "      <td>27.62</td>\n",
       "      <td>NaN</td>\n",
       "      <td>0.97</td>\n",
       "      <td>0.144</td>\n",
       "      <td>100000.0</td>\n",
       "      <td>427</td>\n",
       "      <td>0.34</td>\n",
       "      <td>5</td>\n",
       "    </tr>\n",
       "  </tbody>\n",
       "</table>\n",
       "</div>"
      ],
      "text/plain": [
       "   Thickness (nm)  Flash voltage (kV)  Flash time (msec)  \\\n",
       "1              10                 2.0                2.0   \n",
       "2              10                 2.0                5.0   \n",
       "3              10                 2.2                1.0   \n",
       "4              10                 2.2                1.5   \n",
       "5              10                 2.2                2.0   \n",
       "\n",
       "   Pr (uC/cm2), Pristine state  2Pr (uC/cm2), Pristine state  Predicted 2Pr  \\\n",
       "1                         1.39                          2.78            NaN   \n",
       "2                         3.94                          7.88            NaN   \n",
       "3                         4.69                          9.38            NaN   \n",
       "4                        13.82                         27.64            NaN   \n",
       "5                        13.81                         27.62            NaN   \n",
       "\n",
       "   Coersive Voltage  Imprint    Endurance  Max temperature (degC)  \\\n",
       "1              0.49   -0.002  100000000.0                     342   \n",
       "2              0.84    0.122   10000000.0                     345   \n",
       "3              0.74    0.069   10000000.0                     361   \n",
       "4              0.93    0.195    1000000.0                     403   \n",
       "5              0.97    0.144     100000.0                     427   \n",
       "\n",
       "    Duty Cycle   Num Pulses  \n",
       "1         0.21            1  \n",
       "2         0.22            2  \n",
       "3         0.23            3  \n",
       "4         0.24            4  \n",
       "5         0.34            5  "
      ]
     },
     "metadata": {},
     "execution_count": 7
    }
   ],
   "metadata": {}
  },
  {
   "cell_type": "code",
   "execution_count": 11,
   "source": [
    "# plot?...\n",
    "fig = px.scatter_3d(fe_data, x='Flash voltage (kV)', y='Flash time (msec)', \n",
    "                        z='Pr (uC/cm2), Pristine state')\n",
    "fig.update_layout(scene=dict(\n",
    "                            # xaxis=dict(nticks=4, range=[200, 800])\n",
    "                            # yaxis=dict(range=[0, 500])\n",
    "                            ),\n",
    "                   margin=dict(r=20, l=10, b=10, t=10)\n",
    "                   )\n",
    "fig.show()"
   ],
   "outputs": [
    {
     "output_type": "display_data",
     "data": {
      "application/vnd.plotly.v1+json": {
       "data": [
        {
         "hovertemplate": "Flash voltage (kV)=%{x}<br>Flash time (msec)=%{y}<br>Pr (uC/cm2), Pristine state=%{z}<extra></extra>",
         "legendgroup": "",
         "marker": {
          "color": "#636efa",
          "symbol": "circle"
         },
         "mode": "markers",
         "name": "",
         "scene": "scene",
         "showlegend": false,
         "x": [
          2,
          2,
          2.2,
          2.2,
          2.2,
          2.2,
          2.5,
          2.5,
          2.5,
          2.5,
          2.5,
          2.7,
          2.7,
          2.7,
          2.7,
          2.7,
          3,
          3,
          3,
          3,
          3
         ],
         "y": [
          2,
          5,
          1,
          1.5,
          2,
          5,
          0.5,
          1,
          1.5,
          2,
          5,
          0.5,
          1,
          1.5,
          2,
          5,
          0.5,
          1,
          1.5,
          2,
          5
         ],
         "z": [
          1.39,
          3.94,
          4.69,
          13.82,
          13.81,
          13.39,
          2.23,
          12.46,
          13.74,
          19.71,
          15.22,
          11.99,
          16.41,
          18.35,
          17.97,
          18.67,
          14.65,
          15.44,
          15.33,
          13.43,
          20.14
         ],
         "type": "scatter3d"
        }
       ],
       "layout": {
        "template": {
         "data": {
          "bar": [
           {
            "error_x": {
             "color": "#2a3f5f"
            },
            "error_y": {
             "color": "#2a3f5f"
            },
            "marker": {
             "line": {
              "color": "#E5ECF6",
              "width": 0.5
             },
             "pattern": {
              "fillmode": "overlay",
              "size": 10,
              "solidity": 0.2
             }
            },
            "type": "bar"
           }
          ],
          "barpolar": [
           {
            "marker": {
             "line": {
              "color": "#E5ECF6",
              "width": 0.5
             },
             "pattern": {
              "fillmode": "overlay",
              "size": 10,
              "solidity": 0.2
             }
            },
            "type": "barpolar"
           }
          ],
          "carpet": [
           {
            "aaxis": {
             "endlinecolor": "#2a3f5f",
             "gridcolor": "white",
             "linecolor": "white",
             "minorgridcolor": "white",
             "startlinecolor": "#2a3f5f"
            },
            "baxis": {
             "endlinecolor": "#2a3f5f",
             "gridcolor": "white",
             "linecolor": "white",
             "minorgridcolor": "white",
             "startlinecolor": "#2a3f5f"
            },
            "type": "carpet"
           }
          ],
          "choropleth": [
           {
            "colorbar": {
             "outlinewidth": 0,
             "ticks": ""
            },
            "type": "choropleth"
           }
          ],
          "contour": [
           {
            "colorbar": {
             "outlinewidth": 0,
             "ticks": ""
            },
            "colorscale": [
             [
              0,
              "#0d0887"
             ],
             [
              0.1111111111111111,
              "#46039f"
             ],
             [
              0.2222222222222222,
              "#7201a8"
             ],
             [
              0.3333333333333333,
              "#9c179e"
             ],
             [
              0.4444444444444444,
              "#bd3786"
             ],
             [
              0.5555555555555556,
              "#d8576b"
             ],
             [
              0.6666666666666666,
              "#ed7953"
             ],
             [
              0.7777777777777778,
              "#fb9f3a"
             ],
             [
              0.8888888888888888,
              "#fdca26"
             ],
             [
              1,
              "#f0f921"
             ]
            ],
            "type": "contour"
           }
          ],
          "contourcarpet": [
           {
            "colorbar": {
             "outlinewidth": 0,
             "ticks": ""
            },
            "type": "contourcarpet"
           }
          ],
          "heatmap": [
           {
            "colorbar": {
             "outlinewidth": 0,
             "ticks": ""
            },
            "colorscale": [
             [
              0,
              "#0d0887"
             ],
             [
              0.1111111111111111,
              "#46039f"
             ],
             [
              0.2222222222222222,
              "#7201a8"
             ],
             [
              0.3333333333333333,
              "#9c179e"
             ],
             [
              0.4444444444444444,
              "#bd3786"
             ],
             [
              0.5555555555555556,
              "#d8576b"
             ],
             [
              0.6666666666666666,
              "#ed7953"
             ],
             [
              0.7777777777777778,
              "#fb9f3a"
             ],
             [
              0.8888888888888888,
              "#fdca26"
             ],
             [
              1,
              "#f0f921"
             ]
            ],
            "type": "heatmap"
           }
          ],
          "heatmapgl": [
           {
            "colorbar": {
             "outlinewidth": 0,
             "ticks": ""
            },
            "colorscale": [
             [
              0,
              "#0d0887"
             ],
             [
              0.1111111111111111,
              "#46039f"
             ],
             [
              0.2222222222222222,
              "#7201a8"
             ],
             [
              0.3333333333333333,
              "#9c179e"
             ],
             [
              0.4444444444444444,
              "#bd3786"
             ],
             [
              0.5555555555555556,
              "#d8576b"
             ],
             [
              0.6666666666666666,
              "#ed7953"
             ],
             [
              0.7777777777777778,
              "#fb9f3a"
             ],
             [
              0.8888888888888888,
              "#fdca26"
             ],
             [
              1,
              "#f0f921"
             ]
            ],
            "type": "heatmapgl"
           }
          ],
          "histogram": [
           {
            "marker": {
             "pattern": {
              "fillmode": "overlay",
              "size": 10,
              "solidity": 0.2
             }
            },
            "type": "histogram"
           }
          ],
          "histogram2d": [
           {
            "colorbar": {
             "outlinewidth": 0,
             "ticks": ""
            },
            "colorscale": [
             [
              0,
              "#0d0887"
             ],
             [
              0.1111111111111111,
              "#46039f"
             ],
             [
              0.2222222222222222,
              "#7201a8"
             ],
             [
              0.3333333333333333,
              "#9c179e"
             ],
             [
              0.4444444444444444,
              "#bd3786"
             ],
             [
              0.5555555555555556,
              "#d8576b"
             ],
             [
              0.6666666666666666,
              "#ed7953"
             ],
             [
              0.7777777777777778,
              "#fb9f3a"
             ],
             [
              0.8888888888888888,
              "#fdca26"
             ],
             [
              1,
              "#f0f921"
             ]
            ],
            "type": "histogram2d"
           }
          ],
          "histogram2dcontour": [
           {
            "colorbar": {
             "outlinewidth": 0,
             "ticks": ""
            },
            "colorscale": [
             [
              0,
              "#0d0887"
             ],
             [
              0.1111111111111111,
              "#46039f"
             ],
             [
              0.2222222222222222,
              "#7201a8"
             ],
             [
              0.3333333333333333,
              "#9c179e"
             ],
             [
              0.4444444444444444,
              "#bd3786"
             ],
             [
              0.5555555555555556,
              "#d8576b"
             ],
             [
              0.6666666666666666,
              "#ed7953"
             ],
             [
              0.7777777777777778,
              "#fb9f3a"
             ],
             [
              0.8888888888888888,
              "#fdca26"
             ],
             [
              1,
              "#f0f921"
             ]
            ],
            "type": "histogram2dcontour"
           }
          ],
          "mesh3d": [
           {
            "colorbar": {
             "outlinewidth": 0,
             "ticks": ""
            },
            "type": "mesh3d"
           }
          ],
          "parcoords": [
           {
            "line": {
             "colorbar": {
              "outlinewidth": 0,
              "ticks": ""
             }
            },
            "type": "parcoords"
           }
          ],
          "pie": [
           {
            "automargin": true,
            "type": "pie"
           }
          ],
          "scatter": [
           {
            "marker": {
             "colorbar": {
              "outlinewidth": 0,
              "ticks": ""
             }
            },
            "type": "scatter"
           }
          ],
          "scatter3d": [
           {
            "line": {
             "colorbar": {
              "outlinewidth": 0,
              "ticks": ""
             }
            },
            "marker": {
             "colorbar": {
              "outlinewidth": 0,
              "ticks": ""
             }
            },
            "type": "scatter3d"
           }
          ],
          "scattercarpet": [
           {
            "marker": {
             "colorbar": {
              "outlinewidth": 0,
              "ticks": ""
             }
            },
            "type": "scattercarpet"
           }
          ],
          "scattergeo": [
           {
            "marker": {
             "colorbar": {
              "outlinewidth": 0,
              "ticks": ""
             }
            },
            "type": "scattergeo"
           }
          ],
          "scattergl": [
           {
            "marker": {
             "colorbar": {
              "outlinewidth": 0,
              "ticks": ""
             }
            },
            "type": "scattergl"
           }
          ],
          "scattermapbox": [
           {
            "marker": {
             "colorbar": {
              "outlinewidth": 0,
              "ticks": ""
             }
            },
            "type": "scattermapbox"
           }
          ],
          "scatterpolar": [
           {
            "marker": {
             "colorbar": {
              "outlinewidth": 0,
              "ticks": ""
             }
            },
            "type": "scatterpolar"
           }
          ],
          "scatterpolargl": [
           {
            "marker": {
             "colorbar": {
              "outlinewidth": 0,
              "ticks": ""
             }
            },
            "type": "scatterpolargl"
           }
          ],
          "scatterternary": [
           {
            "marker": {
             "colorbar": {
              "outlinewidth": 0,
              "ticks": ""
             }
            },
            "type": "scatterternary"
           }
          ],
          "surface": [
           {
            "colorbar": {
             "outlinewidth": 0,
             "ticks": ""
            },
            "colorscale": [
             [
              0,
              "#0d0887"
             ],
             [
              0.1111111111111111,
              "#46039f"
             ],
             [
              0.2222222222222222,
              "#7201a8"
             ],
             [
              0.3333333333333333,
              "#9c179e"
             ],
             [
              0.4444444444444444,
              "#bd3786"
             ],
             [
              0.5555555555555556,
              "#d8576b"
             ],
             [
              0.6666666666666666,
              "#ed7953"
             ],
             [
              0.7777777777777778,
              "#fb9f3a"
             ],
             [
              0.8888888888888888,
              "#fdca26"
             ],
             [
              1,
              "#f0f921"
             ]
            ],
            "type": "surface"
           }
          ],
          "table": [
           {
            "cells": {
             "fill": {
              "color": "#EBF0F8"
             },
             "line": {
              "color": "white"
             }
            },
            "header": {
             "fill": {
              "color": "#C8D4E3"
             },
             "line": {
              "color": "white"
             }
            },
            "type": "table"
           }
          ]
         },
         "layout": {
          "annotationdefaults": {
           "arrowcolor": "#2a3f5f",
           "arrowhead": 0,
           "arrowwidth": 1
          },
          "autotypenumbers": "strict",
          "coloraxis": {
           "colorbar": {
            "outlinewidth": 0,
            "ticks": ""
           }
          },
          "colorscale": {
           "diverging": [
            [
             0,
             "#8e0152"
            ],
            [
             0.1,
             "#c51b7d"
            ],
            [
             0.2,
             "#de77ae"
            ],
            [
             0.3,
             "#f1b6da"
            ],
            [
             0.4,
             "#fde0ef"
            ],
            [
             0.5,
             "#f7f7f7"
            ],
            [
             0.6,
             "#e6f5d0"
            ],
            [
             0.7,
             "#b8e186"
            ],
            [
             0.8,
             "#7fbc41"
            ],
            [
             0.9,
             "#4d9221"
            ],
            [
             1,
             "#276419"
            ]
           ],
           "sequential": [
            [
             0,
             "#0d0887"
            ],
            [
             0.1111111111111111,
             "#46039f"
            ],
            [
             0.2222222222222222,
             "#7201a8"
            ],
            [
             0.3333333333333333,
             "#9c179e"
            ],
            [
             0.4444444444444444,
             "#bd3786"
            ],
            [
             0.5555555555555556,
             "#d8576b"
            ],
            [
             0.6666666666666666,
             "#ed7953"
            ],
            [
             0.7777777777777778,
             "#fb9f3a"
            ],
            [
             0.8888888888888888,
             "#fdca26"
            ],
            [
             1,
             "#f0f921"
            ]
           ],
           "sequentialminus": [
            [
             0,
             "#0d0887"
            ],
            [
             0.1111111111111111,
             "#46039f"
            ],
            [
             0.2222222222222222,
             "#7201a8"
            ],
            [
             0.3333333333333333,
             "#9c179e"
            ],
            [
             0.4444444444444444,
             "#bd3786"
            ],
            [
             0.5555555555555556,
             "#d8576b"
            ],
            [
             0.6666666666666666,
             "#ed7953"
            ],
            [
             0.7777777777777778,
             "#fb9f3a"
            ],
            [
             0.8888888888888888,
             "#fdca26"
            ],
            [
             1,
             "#f0f921"
            ]
           ]
          },
          "colorway": [
           "#636efa",
           "#EF553B",
           "#00cc96",
           "#ab63fa",
           "#FFA15A",
           "#19d3f3",
           "#FF6692",
           "#B6E880",
           "#FF97FF",
           "#FECB52"
          ],
          "font": {
           "color": "#2a3f5f"
          },
          "geo": {
           "bgcolor": "white",
           "lakecolor": "white",
           "landcolor": "#E5ECF6",
           "showlakes": true,
           "showland": true,
           "subunitcolor": "white"
          },
          "hoverlabel": {
           "align": "left"
          },
          "hovermode": "closest",
          "mapbox": {
           "style": "light"
          },
          "paper_bgcolor": "white",
          "plot_bgcolor": "#E5ECF6",
          "polar": {
           "angularaxis": {
            "gridcolor": "white",
            "linecolor": "white",
            "ticks": ""
           },
           "bgcolor": "#E5ECF6",
           "radialaxis": {
            "gridcolor": "white",
            "linecolor": "white",
            "ticks": ""
           }
          },
          "scene": {
           "xaxis": {
            "backgroundcolor": "#E5ECF6",
            "gridcolor": "white",
            "gridwidth": 2,
            "linecolor": "white",
            "showbackground": true,
            "ticks": "",
            "zerolinecolor": "white"
           },
           "yaxis": {
            "backgroundcolor": "#E5ECF6",
            "gridcolor": "white",
            "gridwidth": 2,
            "linecolor": "white",
            "showbackground": true,
            "ticks": "",
            "zerolinecolor": "white"
           },
           "zaxis": {
            "backgroundcolor": "#E5ECF6",
            "gridcolor": "white",
            "gridwidth": 2,
            "linecolor": "white",
            "showbackground": true,
            "ticks": "",
            "zerolinecolor": "white"
           }
          },
          "shapedefaults": {
           "line": {
            "color": "#2a3f5f"
           }
          },
          "ternary": {
           "aaxis": {
            "gridcolor": "white",
            "linecolor": "white",
            "ticks": ""
           },
           "baxis": {
            "gridcolor": "white",
            "linecolor": "white",
            "ticks": ""
           },
           "bgcolor": "#E5ECF6",
           "caxis": {
            "gridcolor": "white",
            "linecolor": "white",
            "ticks": ""
           }
          },
          "title": {
           "x": 0.05
          },
          "xaxis": {
           "automargin": true,
           "gridcolor": "white",
           "linecolor": "white",
           "ticks": "",
           "title": {
            "standoff": 15
           },
           "zerolinecolor": "white",
           "zerolinewidth": 2
          },
          "yaxis": {
           "automargin": true,
           "gridcolor": "white",
           "linecolor": "white",
           "ticks": "",
           "title": {
            "standoff": 15
           },
           "zerolinecolor": "white",
           "zerolinewidth": 2
          }
         }
        },
        "scene": {
         "domain": {
          "x": [
           0,
           1
          ],
          "y": [
           0,
           1
          ]
         },
         "xaxis": {
          "title": {
           "text": "Flash voltage (kV)"
          }
         },
         "yaxis": {
          "title": {
           "text": "Flash time (msec)"
          }
         },
         "zaxis": {
          "title": {
           "text": "Pr (uC/cm2), Pristine state"
          }
         }
        },
        "legend": {
         "tracegroupgap": 0
        },
        "margin": {
         "t": 10,
         "r": 20,
         "l": 10,
         "b": 10
        }
       },
       "config": {
        "plotlyServerURL": "https://plot.ly"
       }
      }
     },
     "metadata": {}
    }
   ],
   "metadata": {}
  },
  {
   "cell_type": "code",
   "execution_count": 26,
   "source": [
    "# prep training data\n",
    "from sklearn.preprocessing import StandardScaler\n",
    "T_scaler = StandardScaler()\n",
    "\n",
    "# filter training data \n",
    "mask = ~np.isnan(fe_data['Pr (uC/cm2), Pristine state'])\n",
    "train_x = torch.Tensor([fe_data['Flash voltage (kV)'][mask].values, \n",
    "                       fe_data['Flash time (msec)'][mask].values, \n",
    "                       fe_data['Duty Cycle'][mask].values,\n",
    "                       fe_data['Num Pulses'][mask].values]).T\n",
    "# train_x = torch.Tensor(T_scaler.fit_transform(train_x))\n",
    "train_y = torch.Tensor(fe_data['Pr (uC/cm2), Pristine state'][mask].values)\n",
    "\n",
    "# define grid between bounds of RTA time, RTA temp\n",
    "# grid_bounds = [(train_x[:,0].min(), train_x[:,0].max() ), \n",
    "#                 (train_x[:,1].min(), train_x[:,1].max() )]\n",
    "num_params = train_x.size(dim=1)\n",
    "grid_bounds = [(train_x[:,i].min(), train_x[:,i].max()) for i in range(num_params)]\n",
    "grid_size = 20\n",
    "grid = torch.zeros(grid_size, num_params)\n",
    "\n",
    "for i in range(num_params):\n",
    "    grid_diff = float(grid_bounds[i][1] - grid_bounds[i][0]) / (grid_size - 2)\n",
    "    grid[:, i] = torch.linspace(grid_bounds[i][0] - grid_diff, \n",
    "                                grid_bounds[i][1] + grid_diff, grid_size)\n",
    "\n",
    "# Set up grid for predictions\n",
    "n = 30 # number of points in grid, different from one supplied to GP\n",
    "test_grid = torch.zeros(n, num_params)\n",
    "for i in range(num_params): # Creates a grid s.t. grid[:, i] is the vector along dimension i\n",
    "    grid_diff = float(grid_bounds[i][1] - grid_bounds[i][0]) / (n - 2)\n",
    "    test_grid[:, i] = torch.linspace(grid_bounds[i][0] - grid_diff, \n",
    "                                grid_bounds[i][1] + grid_diff, n)\n",
    "\n",
    "test_x = torch.zeros(int(pow(n, 2)), num_params)\n",
    "\n",
    "for i in range(n): #Basically making grid \n",
    "    for j in range(n):\n",
    "        for k in range(num_params):\n",
    "            test_x[i*n + j][k] = test_grid[i, k]"
   ],
   "outputs": [
    {
     "output_type": "stream",
     "name": "stdout",
     "text": [
      "tensor([[ 1.9643,  0.3393,  0.1911,  0.2857],\n",
      "        [ 1.9643,  0.3393,  0.1911,  0.2857],\n",
      "        [ 1.9643,  0.3393,  0.1911,  0.2857],\n",
      "        ...,\n",
      "        [ 3.0357,  5.1607,  0.7589, 21.7143],\n",
      "        [ 3.0357,  5.1607,  0.7589, 21.7143],\n",
      "        [ 3.0357,  5.1607,  0.7589, 21.7143]])\n"
     ]
    }
   ],
   "metadata": {}
  },
  {
   "cell_type": "code",
   "execution_count": 8,
   "source": [
    "def intermediate_plot(f, ax, obs, title):\n",
    "    im = ax.imshow(obs.mean.view(n, n), aspect='equal',\n",
    "                extent=[grid_bounds[0][0].item(), grid_bounds[0][1].item(),\n",
    "                            grid_bounds[1][0].item(), grid_bounds[1][1].item()])\n",
    "    f.colorbar(im)\n",
    "    # ax.scatter(train_x[:,0], train_x[:,1], c=train_y)\n",
    "    ax.set_title(title)"
   ],
   "outputs": [],
   "metadata": {}
  },
  {
   "cell_type": "markdown",
   "source": [
    "# Build GP Classes/Models\n",
    "A bit of pytorch-esque construction here, but the important parts to take note of are the kernel / mean modules and `noises` array.  "
   ],
   "metadata": {
    "tags": []
   }
  },
  {
   "cell_type": "code",
   "execution_count": 10,
   "source": [
    "# initialize GP model\n",
    "class GridGP(gpytorch.models.ExactGP, GPyTorchModel):\n",
    "\n",
    "    _num_outputs = 1\n",
    "    def __init__(self, train_x, train_y, likelihood):\n",
    "        super(GridGP, self).__init__(train_x, train_y, likelihood)  \n",
    "        self.mean_module = gpytorch.means.ConstantMean()\n",
    "        self.covar_module = gpytorch.kernels.ScaleKernel(\n",
    "                                gpytorch.kernels.RBFKernel(ard_num_dims=4) )\n",
    "    \n",
    "    def forward(self, x):\n",
    "        mean_x = self.mean_module(x)\n",
    "        covar_x = self.covar_module(x)\n",
    "        return gpytorch.distributions.MultivariateNormal(mean_x, covar_x)\n",
    "\n",
    "\n",
    "# 0-observation noise case\n",
    "# likelihood = gpytorch.likelihoods.GaussianLikelihood()\n",
    "\n",
    "# Case for fixed observation noise.  This is set to 5 based on the magnitude of\n",
    "# the data, but can be played with.  \n",
    "noises = torch.ones(len(train_x)) * 5.0\n",
    "likelihood = gpytorch.likelihoods.FixedNoiseGaussianLikelihood(noise=noises)\n",
    "model = GridGP(train_x, train_y, likelihood)\n",
    "\n",
    "model.covar_module.base_kernel.lengthscale = torch.Tensor([1, 1, 1, 1])\n",
    "print(likelihood.noise)"
   ],
   "outputs": [
    {
     "output_type": "stream",
     "name": "stdout",
     "text": [
      "tensor([5., 5., 5., 5., 5., 5., 5., 5., 5., 5., 5., 5., 5., 5., 5., 5., 5., 5.,\n",
      "        5., 5., 5.])\n"
     ]
    }
   ],
   "metadata": {}
  },
  {
   "cell_type": "code",
   "execution_count": 11,
   "source": [
    "# Train and evaluate the model.  (short form)\n",
    "from botorch.optim.fit import fit_gpytorch_torch\n",
    "\n",
    "# initialize the log-likelihood, and supply it to the GP.  This will be used to \n",
    "# make predictions.  \n",
    "mll = gpytorch.mlls.ExactMarginalLogLikelihood(likelihood, model)\n",
    "mll.train()\n",
    "# convenience function for fitting gpytorch models\n",
    "fit_gpytorch_torch(mll, options={'maxiter':2000, 'lr':10}) \n",
    "mll.eval()"
   ],
   "outputs": [
    {
     "output_type": "stream",
     "name": "stdout",
     "text": [
      "Iter 10/2000: 5.127506256103516\n"
     ]
    },
    {
     "output_type": "execute_result",
     "data": {
      "text/plain": [
       "ExactMarginalLogLikelihood(\n",
       "  (likelihood): FixedNoiseGaussianLikelihood(\n",
       "    (noise_covar): FixedGaussianNoise()\n",
       "  )\n",
       "  (model): GridGP(\n",
       "    (likelihood): FixedNoiseGaussianLikelihood(\n",
       "      (noise_covar): FixedGaussianNoise()\n",
       "    )\n",
       "    (mean_module): ConstantMean()\n",
       "    (covar_module): ScaleKernel(\n",
       "      (base_kernel): RBFKernel(\n",
       "        (raw_lengthscale_constraint): Positive()\n",
       "        (distance_module): Distance()\n",
       "      )\n",
       "      (raw_outputscale_constraint): Positive()\n",
       "    )\n",
       "  )\n",
       ")"
      ]
     },
     "metadata": {},
     "execution_count": 11
    }
   ],
   "metadata": {}
  },
  {
   "cell_type": "code",
   "execution_count": 12,
   "source": [
    "# Training loop (long form, for inspection of results during training)\n",
    "training_iter = 2000\n",
    "\n",
    "# Place both the model and likelihood in training mode\n",
    "model.train()\n",
    "likelihood.train()\n",
    "\n",
    "optimizer = torch.optim.Adam(model.parameters(), lr=10)\n",
    "\n",
    "mll = gpytorch.mlls.ExactMarginalLogLikelihood(likelihood, model)\n",
    "\n",
    "for i in range(training_iter):\n",
    "    optimizer.zero_grad()\n",
    "\n",
    "    output = model(train_x)\n",
    "\n",
    "    # backpropogate error\n",
    "    loss = -mll(output, train_y)\n",
    "    loss.backward()\n",
    "\n",
    "    if i % 100 == 0: \n",
    "        print('Iter %d/%d - Loss: %.3f  lengthscale1: %s   noise: %s' % (\n",
    "        i+1, training_iter, loss.item(), \n",
    "        model.covar_module.base_kernel.lengthscale.detach().numpy(),\n",
    "        model.likelihood.noise.detach().numpy()\n",
    "        )) \n",
    "\n",
    "        # # get a quick snapshot of intermediate \n",
    "        # model.eval()\n",
    "        # likelihood.eval()\n",
    "        # with torch.no_grad(), gpytorch.settings.fast_pred_var():\n",
    "        #     obs = likelihood(model(test_x))\n",
    "\n",
    "        #     f, ax = plt.subplots(1, 1, figsize=(4,3))\n",
    "        #     intermediate_plot(f, ax, obs, f'iter {i+1}/{training_iter}')\n",
    "        # model.train()\n",
    "        # likelihood.train()\n",
    "\n",
    "\n",
    "    optimizer.step()"
   ],
   "outputs": [
    {
     "output_type": "stream",
     "name": "stdout",
     "text": [
      "Iter 1/2000 - Loss: 5.177  lengthscale1: [[43.00877 45.33593]]   noise: [5. 5. 5. 5. 5. 5. 5. 5. 5. 5. 5. 5. 5. 5. 5. 5. 5. 5. 5. 5. 5.]\n",
      "Iter 101/2000 - Loss: 4.709  lengthscale1: [[40.14618  43.882904]]   noise: [5. 5. 5. 5. 5. 5. 5. 5. 5. 5. 5. 5. 5. 5. 5. 5. 5. 5. 5. 5. 5.]\n",
      "Iter 201/2000 - Loss: 4.657  lengthscale1: [[39.605164 43.8865  ]]   noise: [5. 5. 5. 5. 5. 5. 5. 5. 5. 5. 5. 5. 5. 5. 5. 5. 5. 5. 5. 5. 5.]\n",
      "Iter 301/2000 - Loss: 4.590  lengthscale1: [[38.50257  43.888165]]   noise: [5. 5. 5. 5. 5. 5. 5. 5. 5. 5. 5. 5. 5. 5. 5. 5. 5. 5. 5. 5. 5.]\n",
      "Iter 401/2000 - Loss: 4.508  lengthscale1: [[36.659454 43.89898 ]]   noise: [5. 5. 5. 5. 5. 5. 5. 5. 5. 5. 5. 5. 5. 5. 5. 5. 5. 5. 5. 5. 5.]\n",
      "Iter 501/2000 - Loss: 4.408  lengthscale1: [[33.879963 43.91786 ]]   noise: [5. 5. 5. 5. 5. 5. 5. 5. 5. 5. 5. 5. 5. 5. 5. 5. 5. 5. 5. 5. 5.]\n",
      "Iter 601/2000 - Loss: 4.281  lengthscale1: [[29.944416 43.942883]]   noise: [5. 5. 5. 5. 5. 5. 5. 5. 5. 5. 5. 5. 5. 5. 5. 5. 5. 5. 5. 5. 5.]\n",
      "Iter 701/2000 - Loss: 4.122  lengthscale1: [[24.678316 43.971317]]   noise: [5. 5. 5. 5. 5. 5. 5. 5. 5. 5. 5. 5. 5. 5. 5. 5. 5. 5. 5. 5. 5.]\n",
      "Iter 801/2000 - Loss: 3.942  lengthscale1: [[18.266415 43.999218]]   noise: [5. 5. 5. 5. 5. 5. 5. 5. 5. 5. 5. 5. 5. 5. 5. 5. 5. 5. 5. 5. 5.]\n",
      "Iter 901/2000 - Loss: 3.795  lengthscale1: [[11.819372 44.02189 ]]   noise: [5. 5. 5. 5. 5. 5. 5. 5. 5. 5. 5. 5. 5. 5. 5. 5. 5. 5. 5. 5. 5.]\n",
      "Iter 1001/2000 - Loss: 3.711  lengthscale1: [[ 6.6364737 44.033573 ]]   noise: [5. 5. 5. 5. 5. 5. 5. 5. 5. 5. 5. 5. 5. 5. 5. 5. 5. 5. 5. 5. 5.]\n",
      "Iter 1101/2000 - Loss: 3.451  lengthscale1: [[ 1.8125826 44.019135 ]]   noise: [5. 5. 5. 5. 5. 5. 5. 5. 5. 5. 5. 5. 5. 5. 5. 5. 5. 5. 5. 5. 5.]\n",
      "Iter 1201/2000 - Loss: 3.450  lengthscale1: [[ 1.7436458 43.9969   ]]   noise: [5. 5. 5. 5. 5. 5. 5. 5. 5. 5. 5. 5. 5. 5. 5. 5. 5. 5. 5. 5. 5.]\n",
      "Iter 1301/2000 - Loss: 3.450  lengthscale1: [[ 1.7362146 43.971573 ]]   noise: [5. 5. 5. 5. 5. 5. 5. 5. 5. 5. 5. 5. 5. 5. 5. 5. 5. 5. 5. 5. 5.]\n",
      "Iter 1401/2000 - Loss: 3.449  lengthscale1: [[ 1.728035 43.942604]]   noise: [5. 5. 5. 5. 5. 5. 5. 5. 5. 5. 5. 5. 5. 5. 5. 5. 5. 5. 5. 5. 5.]\n",
      "Iter 1501/2000 - Loss: 3.449  lengthscale1: [[ 1.7191181 43.909462 ]]   noise: [5. 5. 5. 5. 5. 5. 5. 5. 5. 5. 5. 5. 5. 5. 5. 5. 5. 5. 5. 5. 5.]\n",
      "Iter 1601/2000 - Loss: 3.448  lengthscale1: [[ 1.7094929 43.87153  ]]   noise: [5. 5. 5. 5. 5. 5. 5. 5. 5. 5. 5. 5. 5. 5. 5. 5. 5. 5. 5. 5. 5.]\n",
      "Iter 1701/2000 - Loss: 3.448  lengthscale1: [[ 1.6989869 43.828075 ]]   noise: [5. 5. 5. 5. 5. 5. 5. 5. 5. 5. 5. 5. 5. 5. 5. 5. 5. 5. 5. 5. 5.]\n",
      "Iter 1801/2000 - Loss: 3.447  lengthscale1: [[ 1.6876713 43.77824  ]]   noise: [5. 5. 5. 5. 5. 5. 5. 5. 5. 5. 5. 5. 5. 5. 5. 5. 5. 5. 5. 5. 5.]\n",
      "Iter 1901/2000 - Loss: 3.446  lengthscale1: [[ 1.6754099 43.72102  ]]   noise: [5. 5. 5. 5. 5. 5. 5. 5. 5. 5. 5. 5. 5. 5. 5. 5. 5. 5. 5. 5. 5.]\n"
     ]
    }
   ],
   "metadata": {
    "tags": []
   }
  },
  {
   "cell_type": "markdown",
   "source": [
    "# Make and plot predictions"
   ],
   "metadata": {}
  },
  {
   "cell_type": "code",
   "execution_count": 15,
   "source": [
    "# make predictions (whether by long or short form)\n",
    "model.eval()\n",
    "likelihood.eval()\n",
    "\n",
    "with torch.no_grad(), gpytorch.settings.fast_pred_var():\n",
    "    # also use mll from short form \n",
    "    obs = likelihood(model(test_x), noise=(torch.ones(len(test_x))*5))\n",
    "# print(f'train data: {fe_data[\"2Pr (uC/cm2), Pristine state\"][1]}')\n",
    "# print(f'observed: {obs.mean}')"
   ],
   "outputs": [],
   "metadata": {}
  },
  {
   "cell_type": "code",
   "execution_count": 16,
   "source": [
    "obs.covariance_matrix.shape"
   ],
   "outputs": [
    {
     "output_type": "execute_result",
     "data": {
      "text/plain": [
       "torch.Size([900, 900])"
      ]
     },
     "metadata": {},
     "execution_count": 16
    }
   ],
   "metadata": {}
  },
  {
   "cell_type": "markdown",
   "source": [
    "# Make predictions and plot the mean surface"
   ],
   "metadata": {}
  },
  {
   "cell_type": "code",
   "execution_count": 17,
   "source": [
    "# non-log scale 3D plot\n",
    "\n",
    "pred_labels = obs.mean.view(n, n)\n",
    "# plot?...\n",
    "import plotly.graph_objects as go\n",
    "fig = go.Figure(data=[go.Surface(z=pred_labels.numpy().T, x=test_grid[:,0], y=test_grid[:,1], name='GP regression')])\n",
    "fig.add_trace(go.Scatter3d(x=train_x[:,0].numpy(),y=train_x[:,1].numpy(),  \n",
    "                        z=train_y.numpy(), mode='markers', marker={'color':'darkgreen'}, name='training data'))\n",
    "fig.update_layout( width=1000, height=800,\n",
    "                  legend=dict(orientation=\"h\", yanchor=\"top\", y=1.02, xanchor=\"left\",x=1),\n",
    "                   margin=dict(r=20, l=10, b=10, t=10), \n",
    "                    scene=dict(\n",
    "                    xaxis_title=\"Flash voltage (kV)\",\n",
    "                    yaxis_title=\"Flash time (msec)\",\n",
    "                    zaxis_title='Pr (uC/cm^2), Pristine')\n",
    "                )\n",
    "camera = dict(\n",
    "    up=dict(x=0, y=0, z=1),\n",
    "    center=dict(x=0, y=0, z=0),\n",
    "    eye=dict(x=-2, y=-2.5, z=1.75)\n",
    ")\n",
    "\n",
    "fig.update_layout(scene_camera=camera)\n",
    "fig.show()"
   ],
   "outputs": [
    {
     "output_type": "display_data",
     "data": {
      "application/vnd.plotly.v1+json": {
       "config": {
        "plotlyServerURL": "https://plot.ly"
       },
       "data": [
        {
         "name": "GP regression",
         "type": "surface",
         "x": [
          1.9642857313156128,
          2.0012314319610596,
          2.038177251815796,
          2.0751230716705322,
          2.1120688915252686,
          2.149014711380005,
          2.185960531234741,
          2.2229063510894775,
          2.259852170944214,
          2.29679799079895,
          2.3337438106536865,
          2.370689630508423,
          2.407635450363159,
          2.4445812702178955,
          2.481527090072632,
          2.518472909927368,
          2.5554187297821045,
          2.592364549636841,
          2.629310369491577,
          2.6662561893463135,
          2.70320200920105,
          2.740147829055786,
          2.7770936489105225,
          2.814039468765259,
          2.850985288619995,
          2.8879311084747314,
          2.9248769283294678,
          2.961822748184204,
          2.9987685680389404,
          3.0357143878936768
         ],
         "y": [
          0.3392857313156128,
          0.5055418610572815,
          0.6717979907989502,
          0.8380541801452637,
          1.0043103694915771,
          1.170566439628601,
          1.3368226289749146,
          1.5030786991119385,
          1.669334888458252,
          1.8355910778045654,
          2.001847267150879,
          2.1681032180786133,
          2.3343594074249268,
          2.5006155967712402,
          2.6668717861175537,
          2.833127975463867,
          2.9993841648101807,
          3.165640354156494,
          3.3318965435028076,
          3.498152732849121,
          3.6644086837768555,
          3.830665111541748,
          3.9969210624694824,
          4.163177490234375,
          4.329433441162109,
          4.495689392089844,
          4.661945819854736,
          4.828201770782471,
          4.994458198547363,
          5.160714149475098
         ],
         "z": [
          [
           0.9741554260253906,
           2.0132179260253906,
           3.0200538635253906,
           3.9907569885253906,
           4.926303863525391,
           5.822299957275391,
           6.679721832275391,
           7.495639801025391,
           8.27103042602539,
           9.00149917602539,
           9.68802261352539,
           10.33060073852539,
           10.92776870727539,
           11.47659683227539,
           11.97854995727539,
           12.43216323852539,
           12.84085464477539,
           13.19729995727539,
           13.50784683227539,
           13.76810073852539,
           13.98050308227539,
           14.14554214477539,
           14.26175308227539,
           14.33011245727539,
           14.35208511352539,
           14.32669448852539,
           14.25540542602539,
           14.14017105102539,
           13.98001480102539,
           13.77591323852539
          ],
          [
           1.1435890197753906,
           2.1850929260253906,
           3.1933937072753906,
           4.166538238525391,
           5.104038238525391,
           6.002475738525391,
           6.862339019775391,
           7.681186676025391,
           8.45706558227539,
           9.18997573852539,
           9.87894058227539,
           10.52347183227539,
           11.12161636352539,
           11.67142105102539,
           12.17532730102539,
           12.63040542602539,
           13.03812026977539,
           13.39847183227539,
           13.70853042602539,
           13.97024917602539,
           14.18265151977539,
           14.34866714477539,
           14.46536636352539,
           14.53421401977539,
           14.55618667602539,
           14.53030776977539,
           14.45950698852539,
           14.34329605102539,
           14.18362808227539,
           13.98001480102539
          ],
          [
           1.3110694885253906,
           2.3550148010253906,
           3.3667335510253906,
           4.342319488525391,
           5.281772613525391,
           6.183139801025391,
           7.044467926025391,
           7.864780426025391,
           8.64358901977539,
           9.37845230102539,
           10.06839370727539,
           10.71438980102539,
           11.31351089477539,
           11.86575698852539,
           12.37161636352539,
           12.82864761352539,
           13.23685073852539,
           13.59720230102539,
           13.90872573852539,
           14.17142105102539,
           14.38431167602539,
           14.55130386352539,
           14.66849136352539,
           14.73733901977539,
           14.75979995727539,
           14.73440933227539,
           14.66312026977539,
           14.54690933227539,
           14.38675308227539,
           14.18167495727539
          ],
          [
           1.4790382385253906,
           2.5259132385253906,
           3.5386085510253906,
           4.517612457275391,
           5.459018707275391,
           6.362339019775391,
           7.226108551025391,
           8.04886245727539,
           8.82913589477539,
           9.56595230102539,
           10.25882339477539,
           10.90579605102539,
           11.50589370727539,
           12.06009292602539,
           12.56595230102539,
           13.02493667602539,
           13.43509292602539,
           13.79593276977539,
           14.10892105102539,
           14.37161636352539,
           14.58597183227539,
           14.75198745727539,
           14.86966323852539,
           14.93948745727539,
           14.96194839477539,
           14.93704605102539,
           14.86673355102539,
           14.74954605102539,
           14.58890151977539,
           14.38431167602539
          ],
          [
           1.6460304260253906,
           2.6953468322753906,
           3.7114601135253906,
           4.691928863525391,
           5.635776519775391,
           6.542514801025391,
           7.408237457275391,
           8.23147964477539,
           9.01468276977539,
           9.75296401977539,
           10.44632339477539,
           11.09573745727539,
           11.69778823852539,
           12.25296401977539,
           12.76126480102539,
           13.22122573852539,
           13.63187026977539,
           13.99368667602539,
           14.30716323852539,
           14.57083511352539,
           14.78665542602539,
           14.95315933227539,
           15.07083511352539,
           15.14163589477539,
           15.16409683227539,
           15.13968276977539,
           15.06839370727539,
           14.95169448852539,
           14.79056167602539,
           14.58548355102539
          ],
          [
           1.8125343322753906,
           2.8642921447753906,
           3.8823585510253906,
           4.866245269775391,
           5.812534332275391,
           6.719272613525391,
           7.587436676025391,
           8.41360855102539,
           9.19876480102539,
           9.93899917602539,
           10.63479995727539,
           11.28519058227539,
           11.88968276977539,
           12.44632339477539,
           12.95511245727539,
           13.41604995727539,
           13.82767105102539,
           14.19095230102539,
           14.50491714477539,
           14.77054214477539,
           14.98685073852539,
           15.15286636352539,
           15.27151870727539,
           15.34183120727539,
           15.36478042602539,
           15.34085464477539,
           15.27005386352539,
           15.15335464477539,
           14.99124526977539,
           14.78665542602539
          ],
          [
           1.9790382385253906,
           3.0327491760253906,
           4.054233551025391,
           5.039585113525391,
           5.987339019775391,
           6.897983551025391,
           7.767124176025391,
           8.59573745727539,
           9.38235855102539,
           10.12454605102539,
           10.82278823852539,
           11.47415542602539,
           12.07962417602539,
           12.63724136352539,
           13.14798355102539,
           13.61087417602539,
           14.02249526977539,
           14.38724136352539,
           14.70315933227539,
           14.96878433227539,
           15.18606948852539,
           15.35354995727539,
           15.47220230102539,
           15.54251480102539,
           15.56595230102539,
           15.54056167602539,
           15.47024917602539,
           15.35354995727539,
           15.19192886352539,
           14.98636245727539
          ],
          [
           2.1435890197753906,
           3.2007179260253906,
           4.224155426025391,
           5.212436676025391,
           6.162631988525391,
           7.074741363525391,
           7.946323394775391,
           8.77737808227539,
           9.56497573852539,
           10.30960464477539,
           11.00833511352539,
           11.66214370727539,
           12.26956558227539,
           12.82962417602539,
           13.34085464477539,
           13.80374526977539,
           14.21829605102539,
           14.58401870727539,
           14.89944839477539,
           15.16604995727539,
           15.38382339477539,
           15.55228042602539,
           15.67142105102539,
           15.74222183227539,
           15.76468276977539,
           15.74124526977539,
           15.66995620727539,
           15.55325698852539,
           15.39114761352539,
           15.18558120727539
          ],
          [
           2.3091163635253906,
           3.3691749572753906,
           4.394565582275391,
           5.383335113525391,
           6.336948394775391,
           7.251499176025391,
           8.12503433227539,
           8.95755386352539,
           9.74759292602539,
           10.49417495727539,
           11.19485855102539,
           11.85013198852539,
           12.45901870727539,
           13.01956558227539,
           13.53226089477539,
           13.99710464477539,
           14.41312026977539,
           14.77933120727539,
           15.09622573852539,
           15.36331558227539,
           15.58157730102539,
           15.75003433227539,
           15.87015151977539,
           15.94046401977539,
           15.96390151977539,
           15.93997573852539,
           15.86917495727539,
           15.75247573852539,
           15.58987808227539,
           15.38382339477539
          ],
          [
           2.4736671447753906,
           3.5351905822753906,
           4.563510894775391,
           5.556186676025391,
           6.510776519775391,
           7.427768707275391,
           8.30276870727539,
           9.13821792602539,
           9.92923355102539,
           10.67728042602539,
           11.37942886352539,
           12.03665542602539,
           12.64651870727539,
           13.20950698852539,
           13.72464370727539,
           14.18997573852539,
           14.60550308227539,
           14.97317886352539,
           15.29104995727539,
           15.55911636352539,
           15.77737808227539,
           15.94681167602539,
           16.06692886352539,
           16.13870620727539,
           16.16360855102539,
           16.13870620727539,
           16.06790542602539,
           15.95071792602539,
           15.78812026977539,
           15.58108901977539
          ],
          [
           2.6377296447753906,
           3.7016944885253906,
           4.732456207275391,
           5.726108551025391,
           6.683628082275391,
           7.602573394775391,
           8.48050308227539,
           9.31692886352539,
           10.11038589477539,
           10.86038589477539,
           11.56497573852539,
           12.22317886352539,
           12.83401870727539,
           13.39896011352539,
           13.91409683227539,
           14.38138198852539,
           14.79886245727539,
           15.16702651977539,
           15.48538589477539,
           15.75491714477539,
           15.97366714477539,
           16.14407730102539,
           16.26468276977539,
           16.33646011352539,
           16.35989761352539,
           16.33646011352539,
           16.26468276977539,
           16.14798355102539,
           15.98587417602539,
           15.77786636352539
          ],
          [
           2.8008155822753906,
           3.8677101135253906,
           4.900424957275391,
           5.896518707275391,
           6.855991363525391,
           7.777378082275391,
           8.65726089477539,
           9.49515151977539,
           10.29056167602539,
           11.04202651977539,
           11.74856948852539,
           12.40872573852539,
           13.02151870727539,
           13.58694839477539,
           14.10354995727539,
           14.57132339477539,
           14.99026870727539,
           15.35989761352539,
           15.67972183227539,
           15.94876480102539,
           16.16849136352539,
           16.33987808227539,
           16.46097183227539,
           16.53323745727539,
           16.55716323852539,
           16.53274917602539,
           16.46243667602539,
           16.34427261352539,
           16.18216323852539,
           15.97415542602539
          ],
          [
           2.9643898010253906,
           4.032749176025391,
           5.067417144775391,
           6.066928863525391,
           7.028354644775391,
           7.951206207275391,
           8.83255386352539,
           9.67337417602539,
           10.47122573852539,
           11.22415542602539,
           11.93216323852539,
           12.59378433227539,
           13.20853042602539,
           13.77444839477539,
           14.29300308227539,
           14.76272964477539,
           15.18216323852539,
           15.55228042602539,
           15.87259292602539,
           16.14358901977539,
           16.36331558227539,
           16.53470230102539,
           16.65677261352539,
           16.72806167602539,
           16.75247573852539,
           16.72903823852539,
           16.65872573852539,
           16.54056167602539,
           16.37747573852539,
           16.17044448852539
          ],
          [
           3.1264991760253906,
           4.197299957275391,
           5.234897613525391,
           6.236362457275391,
           7.198764801025391,
           8.12356948852539,
           9.00735855102539,
           9.85013198852539,
           10.65042495727539,
           11.40481948852539,
           12.11429214477539,
           12.77737808227539,
           13.39310073852539,
           13.96194839477539,
           14.48050308227539,
           14.95169448852539,
           15.37210464477539,
           15.74319839477539,
           16.06399917602539,
           16.33597183227539,
           16.55716323852539,
           16.72903823852539,
           16.85062026977539,
           16.92386245727539,
           16.94925308227539,
           16.92435073852539,
           16.85306167602539,
           16.73538589477539,
           16.57278823852539,
           16.36478042602539
          ],
          [
           3.2876319885253906,
           4.360385894775391,
           5.400913238525391,
           6.403842926025391,
           7.369663238525391,
           8.29690933227539,
           9.18265151977539,
           10.02688980102539,
           10.82864761352539,
           11.58548355102539,
           12.29690933227539,
           12.96048355102539,
           13.57864761352539,
           14.14798355102539,
           14.66849136352539,
           15.14017105102539,
           15.56155776977539,
           15.93460464477539,
           16.25540542602539,
           16.52786636352539,
           16.75052261352539,
           16.92190933227539,
           17.04446792602539,
           17.11868667602539,
           17.14310073852539,
           17.11917495727539,
           17.04788589477539,
           16.93167495727539,
           16.76712417602539,
           16.55911636352539
          ],
          [
           3.4482765197753906,
           4.523960113525391,
           5.566440582275391,
           6.571811676025391,
           7.540073394775391,
           8.46829605102539,
           9.35696792602539,
           10.20315933227539,
           11.00638198852539,
           11.76419448852539,
           12.47757339477539,
           13.14310073852539,
           13.76126480102539,
           14.33255386352539,
           14.85452651977539,
           15.32767105102539,
           15.75101089477539,
           16.12454605102539,
           16.44729995727539,
           16.71976089477539,
           16.94144058227539,
           17.11380386352539,
           17.23782730102539,
           17.31155776977539,
           17.33548355102539,
           17.31351089477539,
           17.24124526977539,
           17.12405776977539,
           16.96048355102539,
           16.75149917602539
          ],
          [
           3.6089210510253906,
           4.687046051025391,
           5.731479644775391,
           6.739292144775391,
           7.708530426025391,
           8.64017105102539,
           9.53030776977539,
           10.37845230102539,
           11.18265151977539,
           11.94290542602539,
           12.65726089477539,
           13.32474136352539,
           13.94583511352539,
           14.51810073852539,
           15.04056167602539,
           15.51468276977539,
           15.93899917602539,
           16.31302261352539,
           16.63772964477539,
           16.91019058227539,
           17.13382339477539,
           17.30667495727539,
           17.43021011352539,
           17.50442886352539,
           17.52884292602539,
           17.50589370727539,
           17.43460464477539,
           17.31790542602539,
           17.15335464477539,
           16.94437026977539
          ],
          [
           3.7690773010253906,
           4.849155426025391,
           5.895542144775391,
           6.905307769775391,
           7.877475738525391,
           8.81058120727539,
           9.70267105102539,
           10.55325698852539,
           11.35892105102539,
           12.12161636352539,
           12.83743667602539,
           13.50638198852539,
           14.12845230102539,
           14.70169448852539,
           15.22659683227539,
           15.70071792602539,
           16.12552261352539,
           16.50247573852539,
           16.82571792602539,
           17.10062026977539,
           17.32474136352539,
           17.49856948852539,
           17.62161636352539,
           17.69632339477539,
           17.72073745727539,
           17.69827651977539,
           17.62747573852539,
           17.50833511352539,
           17.34573745727539,
           17.13626480102539
          ],
          [
           3.9277687072753906,
           5.010288238525391,
           6.058628082275391,
           7.070835113525391,
           8.04495620727539,
           8.98001480102539,
           9.87405776977539,
           10.72610855102539,
           11.53421401977539,
           12.29788589477539,
           13.01614761352539,
           13.68655776977539,
           14.30911636352539,
           14.88479995727539,
           15.41019058227539,
           15.88626480102539,
           16.31302261352539,
           16.68851089477539,
           17.01321792602539,
           17.28909683227539,
           17.51370620727539,
           17.68802261352539,
           17.81155776977539,
           17.88675308227539,
           17.91263198852539,
           17.88919448852539,
           17.81839370727539,
           17.70071792602539,
           17.53616714477539,
           17.32669448852539
          ],
          [
           4.086948394775391,
           5.171909332275391,
           6.222202301025391,
           7.236362457275391,
           8.21243667602539,
           9.14993667602539,
           10.04593276977539,
           10.89993667602539,
           11.70901870727539,
           12.47464370727539,
           13.19485855102539,
           13.86575698852539,
           14.49026870727539,
           15.06692886352539,
           15.59378433227539,
           16.07181167602539,
           16.49856948852539,
           16.87503433227539,
           17.20120620727539,
           17.47806167602539,
           17.70315933227539,
           17.87796401977539,
           18.00247573852539,
           18.07669448852539,
           18.10306167602539,
           18.07913589477539,
           18.00833511352539,
           17.89114761352539,
           17.72610855102539,
           17.51614761352539
          ],
          [
           4.244174957275391,
           5.331577301025391,
           6.384311676025391,
           7.400424957275391,
           8.37894058227539,
           9.31888198852539,
           10.21634292602539,
           11.07181167602539,
           11.88235855102539,
           12.64993667602539,
           13.37112808227539,
           14.04397964477539,
           14.66995620727539,
           15.24759292602539,
           15.77688980102539,
           16.25491714477539,
           16.68313980102539,
           17.06155776977539,
           17.38870620727539,
           17.66507339477539,
           17.89065933227539,
           18.06595230102539,
           18.19095230102539,
           18.26663589477539,
           18.29251480102539,
           18.26907730102539,
           18.19876480102539,
           18.08011245727539,
           17.91556167602539,
           17.70462417602539
          ],
          [
           4.401401519775391,
           5.491245269775391,
           6.545932769775391,
           7.564975738525391,
           8.54495620727539,
           9.48636245727539,
           10.38528823852539,
           11.24319839477539,
           12.05716323852539,
           12.82474136352539,
           13.54739761352539,
           14.22269058227539,
           14.85062026977539,
           15.42874526977539,
           15.95755386352539,
           16.43802261352539,
           16.86722183227539,
           17.24661636352539,
           17.57376480102539,
           17.85159683227539,
           18.07815933227539,
           18.25442886352539,
           18.37894058227539,
           18.45413589477539,
           18.48099136352539,
           18.45804214477539,
           18.38772964477539,
           18.26858901977539,
           18.10403823852539,
           17.89407730102539
          ],
          [
           4.558139801025391,
           5.650913238525391,
           6.707065582275391,
           7.727573394775391,
           8.71048355102539,
           9.65335464477539,
           10.55472183227539,
           11.41312026977539,
           12.22903823852539,
           12.99905776977539,
           13.72317886352539,
           14.40042495727539,
           15.02835464477539,
           15.60843276977539,
           16.13968276977539,
           16.62015151977539,
           17.05032730102539,
           17.43021011352539,
           17.75931167602539,
           18.03763198852539,
           18.26370620727539,
           18.44095230102539,
           18.56644058227539,
           18.64310073852539,
           18.66946792602539,
           18.64603042602539,
           18.57522964477539,
           18.45804214477539,
           18.29202651977539,
           18.08157730102539
          ],
          [
           4.713413238525391,
           5.807651519775391,
           6.866733551025391,
           7.890171051025391,
           8.87454605102539,
           9.82034683227539,
           10.72269058227539,
           11.58353042602539,
           12.40140151977539,
           13.17288589477539,
           13.89798355102539,
           14.57571792602539,
           15.20608901977539,
           15.78812026977539,
           16.32034683227539,
           16.80130386352539,
           17.23245620727539,
           17.61331558227539,
           17.94290542602539,
           18.22220230102539,
           18.44974136352539,
           18.62747573852539,
           18.75296401977539,
           18.82962417602539,
           18.85501480102539,
           18.83304214477539,
           18.76321792602539,
           18.64407730102539,
           18.47854995727539,
           18.26712417602539
          ],
          [
           4.868686676025391,
           5.964389801025391,
           7.026401519775391,
           8.05081558227539,
           9.03860855102539,
           9.98440933227539,
           10.89017105102539,
           11.75296401977539,
           12.57132339477539,
           13.34524917602539,
           14.07132339477539,
           14.75149917602539,
           15.38284683227539,
           15.96634292602539,
           16.49905776977539,
           16.98196792602539,
           17.41409683227539,
           17.79593276977539,
           18.12601089477539,
           18.40628433227539,
           18.63431167602539,
           18.81106948852539,
           18.93899917602539,
           19.01517105102539,
           19.04202651977539,
           19.02005386352539,
           18.94876480102539,
           18.83011245727539,
           18.66604995727539,
           18.45364761352539
          ],
          [
           5.023960113525391,
           6.122104644775391,
           7.185581207275391,
           8.21243667602539,
           9.20071792602539,
           10.14993667602539,
           11.05667495727539,
           11.92190933227539,
           12.74173355102539,
           13.51712417602539,
           14.24563980102539,
           14.92630386352539,
           15.55862808227539,
           16.14310073852539,
           16.67728042602539,
           17.16165542602539,
           17.59573745727539,
           17.97708511352539,
           18.30813980102539,
           18.58841323852539,
           18.81839370727539,
           18.99612808227539,
           19.12356948852539,
           19.20071792602539,
           19.22708511352539,
           19.20511245727539,
           19.13431167602539,
           19.01517105102539,
           18.85013198852539,
           18.63870620727539
          ],
          [
           5.178256988525391,
           6.277866363525391,
           7.343784332275391,
           8.37210464477539,
           9.36331558227539,
           10.31351089477539,
           11.22317886352539,
           12.08890151977539,
           12.91019058227539,
           13.68704605102539,
           14.41751480102539,
           15.10062026977539,
           15.73489761352539,
           16.31985855102539,
           16.85501480102539,
           17.34134292602539,
           17.77493667602539,
           18.15774917602539,
           18.49026870727539,
           18.77151870727539,
           19.00101089477539,
           19.17874526977539,
           19.30667495727539,
           19.38479995727539,
           19.41165542602539,
           19.38919448852539,
           19.31888198852539,
           19.19974136352539,
           19.03421401977539,
           18.82278823852539
          ],
          [
           5.331089019775391,
           6.434116363525391,
           7.501987457275391,
           8.53177261352539,
           9.52444839477539,
           10.47659683227539,
           11.38821792602539,
           12.25491714477539,
           13.07962417602539,
           13.85745620727539,
           14.58938980102539,
           15.27298355102539,
           15.90872573852539,
           16.49515151977539,
           17.03226089477539,
           17.51810073852539,
           17.95315933227539,
           18.33792495727539,
           18.67044448852539,
           18.95267105102539,
           19.18265151977539,
           19.36233901977539,
           19.49075698852539,
           19.56644058227539,
           19.59427261352539,
           19.57278823852539,
           19.50247573852539,
           19.38431167602539,
           19.21731948852539,
           19.00540542602539
          ],
          [
           5.483921051025391,
           6.588413238525391,
           7.658725738525391,
           8.69192886352539,
           9.68558120727539,
           10.63870620727539,
           11.55276870727539,
           12.42142105102539,
           13.24808120727539,
           14.02688980102539,
           14.75979995727539,
           15.44534683227539,
           16.08304214477539,
           16.66946792602539,
           17.20804214477539,
           17.69534683227539,
           18.13138198852539,
           18.51712417602539,
           18.85110855102539,
           19.13284683227539,
           19.36380386352539,
           19.54300308227539,
           19.67239761352539,
           19.75003433227539,
           19.77737808227539,
           19.75589370727539,
           19.68558120727539,
           19.56595230102539,
           19.39993667602539,
           19.18753433227539
          ],
          [
           5.635288238525391,
           6.742710113525391,
           7.813999176025391,
           8.84866714477539,
           9.84524917602539,
           10.80179214477539,
           11.71585464477539,
           12.58743667602539,
           13.41409683227539,
           14.19437026977539,
           14.92972183227539,
           15.61722183227539,
           16.25491714477539,
           16.84476089477539,
           17.38333511352539,
           17.87161636352539,
           18.30911636352539,
           18.69534683227539,
           19.02933120727539,
           19.31155776977539,
           19.54446792602539,
           19.72366714477539,
           19.85257339477539,
           19.93118667602539,
           19.95950698852539,
           19.93802261352539,
           19.86673355102539,
           19.74759292602539,
           19.58157730102539,
           19.36966323852539
          ]
         ]
        },
        {
         "marker": {
          "color": "darkgreen"
         },
         "mode": "markers",
         "name": "training data",
         "type": "scatter3d",
         "x": [
          2,
          2,
          2.200000047683716,
          2.200000047683716,
          2.200000047683716,
          2.200000047683716,
          2.5,
          2.5,
          2.5,
          2.5,
          2.5,
          2.700000047683716,
          2.700000047683716,
          2.700000047683716,
          2.700000047683716,
          2.700000047683716,
          3,
          3,
          3,
          3,
          3
         ],
         "y": [
          2,
          5,
          1,
          1.5,
          2,
          5,
          0.5,
          1,
          1.5,
          2,
          5,
          0.5,
          1,
          1.5,
          2,
          5,
          0.5,
          1,
          1.5,
          2,
          5
         ],
         "z": [
          1.3899999856948853,
          3.940000057220459,
          4.690000057220459,
          13.819999694824219,
          13.8100004196167,
          13.390000343322754,
          2.2300000190734863,
          12.460000038146973,
          13.739999771118164,
          19.709999084472656,
          15.220000267028809,
          11.989999771118164,
          16.40999984741211,
          18.350000381469727,
          17.969999313354492,
          18.670000076293945,
          14.649999618530273,
          15.4399995803833,
          15.329999923706055,
          13.430000305175781,
          20.139999389648438
         ]
        }
       ],
       "layout": {
        "height": 800,
        "legend": {
         "orientation": "h",
         "x": 1,
         "xanchor": "left",
         "y": 1.02,
         "yanchor": "top"
        },
        "margin": {
         "b": 10,
         "l": 10,
         "r": 20,
         "t": 10
        },
        "scene": {
         "aspectmode": "auto",
         "aspectratio": {
          "x": 1,
          "y": 1,
          "z": 1
         },
         "camera": {
          "center": {
           "x": 0,
           "y": 0,
           "z": 0
          },
          "eye": {
           "x": -2,
           "y": -2.5,
           "z": 1.75
          },
          "up": {
           "x": 0,
           "y": 0,
           "z": 1
          }
         },
         "xaxis": {
          "title": {
           "text": "Flash voltage (kV)"
          },
          "type": "linear"
         },
         "yaxis": {
          "title": {
           "text": "Flash time (msec)"
          },
          "type": "linear"
         },
         "zaxis": {
          "title": {
           "text": "Pr (uC/cm^2), Pristine"
          },
          "type": "linear"
         }
        },
        "template": {
         "data": {
          "bar": [
           {
            "error_x": {
             "color": "#2a3f5f"
            },
            "error_y": {
             "color": "#2a3f5f"
            },
            "marker": {
             "line": {
              "color": "#E5ECF6",
              "width": 0.5
             },
             "pattern": {
              "fillmode": "overlay",
              "size": 10,
              "solidity": 0.2
             }
            },
            "type": "bar"
           }
          ],
          "barpolar": [
           {
            "marker": {
             "line": {
              "color": "#E5ECF6",
              "width": 0.5
             },
             "pattern": {
              "fillmode": "overlay",
              "size": 10,
              "solidity": 0.2
             }
            },
            "type": "barpolar"
           }
          ],
          "carpet": [
           {
            "aaxis": {
             "endlinecolor": "#2a3f5f",
             "gridcolor": "white",
             "linecolor": "white",
             "minorgridcolor": "white",
             "startlinecolor": "#2a3f5f"
            },
            "baxis": {
             "endlinecolor": "#2a3f5f",
             "gridcolor": "white",
             "linecolor": "white",
             "minorgridcolor": "white",
             "startlinecolor": "#2a3f5f"
            },
            "type": "carpet"
           }
          ],
          "choropleth": [
           {
            "colorbar": {
             "outlinewidth": 0,
             "ticks": ""
            },
            "type": "choropleth"
           }
          ],
          "contour": [
           {
            "colorbar": {
             "outlinewidth": 0,
             "ticks": ""
            },
            "colorscale": [
             [
              0,
              "#0d0887"
             ],
             [
              0.1111111111111111,
              "#46039f"
             ],
             [
              0.2222222222222222,
              "#7201a8"
             ],
             [
              0.3333333333333333,
              "#9c179e"
             ],
             [
              0.4444444444444444,
              "#bd3786"
             ],
             [
              0.5555555555555556,
              "#d8576b"
             ],
             [
              0.6666666666666666,
              "#ed7953"
             ],
             [
              0.7777777777777778,
              "#fb9f3a"
             ],
             [
              0.8888888888888888,
              "#fdca26"
             ],
             [
              1,
              "#f0f921"
             ]
            ],
            "type": "contour"
           }
          ],
          "contourcarpet": [
           {
            "colorbar": {
             "outlinewidth": 0,
             "ticks": ""
            },
            "type": "contourcarpet"
           }
          ],
          "heatmap": [
           {
            "colorbar": {
             "outlinewidth": 0,
             "ticks": ""
            },
            "colorscale": [
             [
              0,
              "#0d0887"
             ],
             [
              0.1111111111111111,
              "#46039f"
             ],
             [
              0.2222222222222222,
              "#7201a8"
             ],
             [
              0.3333333333333333,
              "#9c179e"
             ],
             [
              0.4444444444444444,
              "#bd3786"
             ],
             [
              0.5555555555555556,
              "#d8576b"
             ],
             [
              0.6666666666666666,
              "#ed7953"
             ],
             [
              0.7777777777777778,
              "#fb9f3a"
             ],
             [
              0.8888888888888888,
              "#fdca26"
             ],
             [
              1,
              "#f0f921"
             ]
            ],
            "type": "heatmap"
           }
          ],
          "heatmapgl": [
           {
            "colorbar": {
             "outlinewidth": 0,
             "ticks": ""
            },
            "colorscale": [
             [
              0,
              "#0d0887"
             ],
             [
              0.1111111111111111,
              "#46039f"
             ],
             [
              0.2222222222222222,
              "#7201a8"
             ],
             [
              0.3333333333333333,
              "#9c179e"
             ],
             [
              0.4444444444444444,
              "#bd3786"
             ],
             [
              0.5555555555555556,
              "#d8576b"
             ],
             [
              0.6666666666666666,
              "#ed7953"
             ],
             [
              0.7777777777777778,
              "#fb9f3a"
             ],
             [
              0.8888888888888888,
              "#fdca26"
             ],
             [
              1,
              "#f0f921"
             ]
            ],
            "type": "heatmapgl"
           }
          ],
          "histogram": [
           {
            "marker": {
             "pattern": {
              "fillmode": "overlay",
              "size": 10,
              "solidity": 0.2
             }
            },
            "type": "histogram"
           }
          ],
          "histogram2d": [
           {
            "colorbar": {
             "outlinewidth": 0,
             "ticks": ""
            },
            "colorscale": [
             [
              0,
              "#0d0887"
             ],
             [
              0.1111111111111111,
              "#46039f"
             ],
             [
              0.2222222222222222,
              "#7201a8"
             ],
             [
              0.3333333333333333,
              "#9c179e"
             ],
             [
              0.4444444444444444,
              "#bd3786"
             ],
             [
              0.5555555555555556,
              "#d8576b"
             ],
             [
              0.6666666666666666,
              "#ed7953"
             ],
             [
              0.7777777777777778,
              "#fb9f3a"
             ],
             [
              0.8888888888888888,
              "#fdca26"
             ],
             [
              1,
              "#f0f921"
             ]
            ],
            "type": "histogram2d"
           }
          ],
          "histogram2dcontour": [
           {
            "colorbar": {
             "outlinewidth": 0,
             "ticks": ""
            },
            "colorscale": [
             [
              0,
              "#0d0887"
             ],
             [
              0.1111111111111111,
              "#46039f"
             ],
             [
              0.2222222222222222,
              "#7201a8"
             ],
             [
              0.3333333333333333,
              "#9c179e"
             ],
             [
              0.4444444444444444,
              "#bd3786"
             ],
             [
              0.5555555555555556,
              "#d8576b"
             ],
             [
              0.6666666666666666,
              "#ed7953"
             ],
             [
              0.7777777777777778,
              "#fb9f3a"
             ],
             [
              0.8888888888888888,
              "#fdca26"
             ],
             [
              1,
              "#f0f921"
             ]
            ],
            "type": "histogram2dcontour"
           }
          ],
          "mesh3d": [
           {
            "colorbar": {
             "outlinewidth": 0,
             "ticks": ""
            },
            "type": "mesh3d"
           }
          ],
          "parcoords": [
           {
            "line": {
             "colorbar": {
              "outlinewidth": 0,
              "ticks": ""
             }
            },
            "type": "parcoords"
           }
          ],
          "pie": [
           {
            "automargin": true,
            "type": "pie"
           }
          ],
          "scatter": [
           {
            "marker": {
             "colorbar": {
              "outlinewidth": 0,
              "ticks": ""
             }
            },
            "type": "scatter"
           }
          ],
          "scatter3d": [
           {
            "line": {
             "colorbar": {
              "outlinewidth": 0,
              "ticks": ""
             }
            },
            "marker": {
             "colorbar": {
              "outlinewidth": 0,
              "ticks": ""
             }
            },
            "type": "scatter3d"
           }
          ],
          "scattercarpet": [
           {
            "marker": {
             "colorbar": {
              "outlinewidth": 0,
              "ticks": ""
             }
            },
            "type": "scattercarpet"
           }
          ],
          "scattergeo": [
           {
            "marker": {
             "colorbar": {
              "outlinewidth": 0,
              "ticks": ""
             }
            },
            "type": "scattergeo"
           }
          ],
          "scattergl": [
           {
            "marker": {
             "colorbar": {
              "outlinewidth": 0,
              "ticks": ""
             }
            },
            "type": "scattergl"
           }
          ],
          "scattermapbox": [
           {
            "marker": {
             "colorbar": {
              "outlinewidth": 0,
              "ticks": ""
             }
            },
            "type": "scattermapbox"
           }
          ],
          "scatterpolar": [
           {
            "marker": {
             "colorbar": {
              "outlinewidth": 0,
              "ticks": ""
             }
            },
            "type": "scatterpolar"
           }
          ],
          "scatterpolargl": [
           {
            "marker": {
             "colorbar": {
              "outlinewidth": 0,
              "ticks": ""
             }
            },
            "type": "scatterpolargl"
           }
          ],
          "scatterternary": [
           {
            "marker": {
             "colorbar": {
              "outlinewidth": 0,
              "ticks": ""
             }
            },
            "type": "scatterternary"
           }
          ],
          "surface": [
           {
            "colorbar": {
             "outlinewidth": 0,
             "ticks": ""
            },
            "colorscale": [
             [
              0,
              "#0d0887"
             ],
             [
              0.1111111111111111,
              "#46039f"
             ],
             [
              0.2222222222222222,
              "#7201a8"
             ],
             [
              0.3333333333333333,
              "#9c179e"
             ],
             [
              0.4444444444444444,
              "#bd3786"
             ],
             [
              0.5555555555555556,
              "#d8576b"
             ],
             [
              0.6666666666666666,
              "#ed7953"
             ],
             [
              0.7777777777777778,
              "#fb9f3a"
             ],
             [
              0.8888888888888888,
              "#fdca26"
             ],
             [
              1,
              "#f0f921"
             ]
            ],
            "type": "surface"
           }
          ],
          "table": [
           {
            "cells": {
             "fill": {
              "color": "#EBF0F8"
             },
             "line": {
              "color": "white"
             }
            },
            "header": {
             "fill": {
              "color": "#C8D4E3"
             },
             "line": {
              "color": "white"
             }
            },
            "type": "table"
           }
          ]
         },
         "layout": {
          "annotationdefaults": {
           "arrowcolor": "#2a3f5f",
           "arrowhead": 0,
           "arrowwidth": 1
          },
          "autotypenumbers": "strict",
          "coloraxis": {
           "colorbar": {
            "outlinewidth": 0,
            "ticks": ""
           }
          },
          "colorscale": {
           "diverging": [
            [
             0,
             "#8e0152"
            ],
            [
             0.1,
             "#c51b7d"
            ],
            [
             0.2,
             "#de77ae"
            ],
            [
             0.3,
             "#f1b6da"
            ],
            [
             0.4,
             "#fde0ef"
            ],
            [
             0.5,
             "#f7f7f7"
            ],
            [
             0.6,
             "#e6f5d0"
            ],
            [
             0.7,
             "#b8e186"
            ],
            [
             0.8,
             "#7fbc41"
            ],
            [
             0.9,
             "#4d9221"
            ],
            [
             1,
             "#276419"
            ]
           ],
           "sequential": [
            [
             0,
             "#0d0887"
            ],
            [
             0.1111111111111111,
             "#46039f"
            ],
            [
             0.2222222222222222,
             "#7201a8"
            ],
            [
             0.3333333333333333,
             "#9c179e"
            ],
            [
             0.4444444444444444,
             "#bd3786"
            ],
            [
             0.5555555555555556,
             "#d8576b"
            ],
            [
             0.6666666666666666,
             "#ed7953"
            ],
            [
             0.7777777777777778,
             "#fb9f3a"
            ],
            [
             0.8888888888888888,
             "#fdca26"
            ],
            [
             1,
             "#f0f921"
            ]
           ],
           "sequentialminus": [
            [
             0,
             "#0d0887"
            ],
            [
             0.1111111111111111,
             "#46039f"
            ],
            [
             0.2222222222222222,
             "#7201a8"
            ],
            [
             0.3333333333333333,
             "#9c179e"
            ],
            [
             0.4444444444444444,
             "#bd3786"
            ],
            [
             0.5555555555555556,
             "#d8576b"
            ],
            [
             0.6666666666666666,
             "#ed7953"
            ],
            [
             0.7777777777777778,
             "#fb9f3a"
            ],
            [
             0.8888888888888888,
             "#fdca26"
            ],
            [
             1,
             "#f0f921"
            ]
           ]
          },
          "colorway": [
           "#636efa",
           "#EF553B",
           "#00cc96",
           "#ab63fa",
           "#FFA15A",
           "#19d3f3",
           "#FF6692",
           "#B6E880",
           "#FF97FF",
           "#FECB52"
          ],
          "font": {
           "color": "#2a3f5f"
          },
          "geo": {
           "bgcolor": "white",
           "lakecolor": "white",
           "landcolor": "#E5ECF6",
           "showlakes": true,
           "showland": true,
           "subunitcolor": "white"
          },
          "hoverlabel": {
           "align": "left"
          },
          "hovermode": "closest",
          "mapbox": {
           "style": "light"
          },
          "paper_bgcolor": "white",
          "plot_bgcolor": "#E5ECF6",
          "polar": {
           "angularaxis": {
            "gridcolor": "white",
            "linecolor": "white",
            "ticks": ""
           },
           "bgcolor": "#E5ECF6",
           "radialaxis": {
            "gridcolor": "white",
            "linecolor": "white",
            "ticks": ""
           }
          },
          "scene": {
           "xaxis": {
            "backgroundcolor": "#E5ECF6",
            "gridcolor": "white",
            "gridwidth": 2,
            "linecolor": "white",
            "showbackground": true,
            "ticks": "",
            "zerolinecolor": "white"
           },
           "yaxis": {
            "backgroundcolor": "#E5ECF6",
            "gridcolor": "white",
            "gridwidth": 2,
            "linecolor": "white",
            "showbackground": true,
            "ticks": "",
            "zerolinecolor": "white"
           },
           "zaxis": {
            "backgroundcolor": "#E5ECF6",
            "gridcolor": "white",
            "gridwidth": 2,
            "linecolor": "white",
            "showbackground": true,
            "ticks": "",
            "zerolinecolor": "white"
           }
          },
          "shapedefaults": {
           "line": {
            "color": "#2a3f5f"
           }
          },
          "ternary": {
           "aaxis": {
            "gridcolor": "white",
            "linecolor": "white",
            "ticks": ""
           },
           "baxis": {
            "gridcolor": "white",
            "linecolor": "white",
            "ticks": ""
           },
           "bgcolor": "#E5ECF6",
           "caxis": {
            "gridcolor": "white",
            "linecolor": "white",
            "ticks": ""
           }
          },
          "title": {
           "x": 0.05
          },
          "xaxis": {
           "automargin": true,
           "gridcolor": "white",
           "linecolor": "white",
           "ticks": "",
           "title": {
            "standoff": 15
           },
           "zerolinecolor": "white",
           "zerolinewidth": 2
          },
          "yaxis": {
           "automargin": true,
           "gridcolor": "white",
           "linecolor": "white",
           "ticks": "",
           "title": {
            "standoff": 15
           },
           "zerolinecolor": "white",
           "zerolinewidth": 2
          }
         }
        },
        "width": 1000
       }
      },
      "text/html": [
       "<div>                            <div id=\"4849cec9-8113-4ac2-98ff-548bc61d4172\" class=\"plotly-graph-div\" style=\"height:800px; width:1000px;\"></div>            <script type=\"text/javascript\">                require([\"plotly\"], function(Plotly) {                    window.PLOTLYENV=window.PLOTLYENV || {};                                    if (document.getElementById(\"4849cec9-8113-4ac2-98ff-548bc61d4172\")) {                    Plotly.newPlot(                        \"4849cec9-8113-4ac2-98ff-548bc61d4172\",                        [{\"name\":\"GP regression\",\"type\":\"surface\",\"x\":[1.9642857313156128,2.0012314319610596,2.038177251815796,2.0751230716705322,2.1120688915252686,2.149014711380005,2.185960531234741,2.2229063510894775,2.259852170944214,2.29679799079895,2.3337438106536865,2.370689630508423,2.407635450363159,2.4445812702178955,2.481527090072632,2.518472909927368,2.5554187297821045,2.592364549636841,2.629310369491577,2.6662561893463135,2.70320200920105,2.740147829055786,2.7770936489105225,2.814039468765259,2.850985288619995,2.8879311084747314,2.9248769283294678,2.961822748184204,2.9987685680389404,3.0357143878936768],\"y\":[0.3392857313156128,0.5055418610572815,0.6717979907989502,0.8380541801452637,1.0043103694915771,1.170566439628601,1.3368226289749146,1.5030786991119385,1.669334888458252,1.8355910778045654,2.001847267150879,2.1681032180786133,2.3343594074249268,2.5006155967712402,2.6668717861175537,2.833127975463867,2.9993841648101807,3.165640354156494,3.3318965435028076,3.498152732849121,3.6644086837768555,3.830665111541748,3.9969210624694824,4.163177490234375,4.329433441162109,4.495689392089844,4.661945819854736,4.828201770782471,4.994458198547363,5.160714149475098],\"z\":[[0.9741554260253906,2.0132179260253906,3.0200538635253906,3.9907569885253906,4.926303863525391,5.822299957275391,6.679721832275391,7.495639801025391,8.27103042602539,9.00149917602539,9.68802261352539,10.33060073852539,10.92776870727539,11.47659683227539,11.97854995727539,12.43216323852539,12.84085464477539,13.19729995727539,13.50784683227539,13.76810073852539,13.98050308227539,14.14554214477539,14.26175308227539,14.33011245727539,14.35208511352539,14.32669448852539,14.25540542602539,14.14017105102539,13.98001480102539,13.77591323852539],[1.1435890197753906,2.1850929260253906,3.1933937072753906,4.166538238525391,5.104038238525391,6.002475738525391,6.862339019775391,7.681186676025391,8.45706558227539,9.18997573852539,9.87894058227539,10.52347183227539,11.12161636352539,11.67142105102539,12.17532730102539,12.63040542602539,13.03812026977539,13.39847183227539,13.70853042602539,13.97024917602539,14.18265151977539,14.34866714477539,14.46536636352539,14.53421401977539,14.55618667602539,14.53030776977539,14.45950698852539,14.34329605102539,14.18362808227539,13.98001480102539],[1.3110694885253906,2.3550148010253906,3.3667335510253906,4.342319488525391,5.281772613525391,6.183139801025391,7.044467926025391,7.864780426025391,8.64358901977539,9.37845230102539,10.06839370727539,10.71438980102539,11.31351089477539,11.86575698852539,12.37161636352539,12.82864761352539,13.23685073852539,13.59720230102539,13.90872573852539,14.17142105102539,14.38431167602539,14.55130386352539,14.66849136352539,14.73733901977539,14.75979995727539,14.73440933227539,14.66312026977539,14.54690933227539,14.38675308227539,14.18167495727539],[1.4790382385253906,2.5259132385253906,3.5386085510253906,4.517612457275391,5.459018707275391,6.362339019775391,7.226108551025391,8.04886245727539,8.82913589477539,9.56595230102539,10.25882339477539,10.90579605102539,11.50589370727539,12.06009292602539,12.56595230102539,13.02493667602539,13.43509292602539,13.79593276977539,14.10892105102539,14.37161636352539,14.58597183227539,14.75198745727539,14.86966323852539,14.93948745727539,14.96194839477539,14.93704605102539,14.86673355102539,14.74954605102539,14.58890151977539,14.38431167602539],[1.6460304260253906,2.6953468322753906,3.7114601135253906,4.691928863525391,5.635776519775391,6.542514801025391,7.408237457275391,8.23147964477539,9.01468276977539,9.75296401977539,10.44632339477539,11.09573745727539,11.69778823852539,12.25296401977539,12.76126480102539,13.22122573852539,13.63187026977539,13.99368667602539,14.30716323852539,14.57083511352539,14.78665542602539,14.95315933227539,15.07083511352539,15.14163589477539,15.16409683227539,15.13968276977539,15.06839370727539,14.95169448852539,14.79056167602539,14.58548355102539],[1.8125343322753906,2.8642921447753906,3.8823585510253906,4.866245269775391,5.812534332275391,6.719272613525391,7.587436676025391,8.41360855102539,9.19876480102539,9.93899917602539,10.63479995727539,11.28519058227539,11.88968276977539,12.44632339477539,12.95511245727539,13.41604995727539,13.82767105102539,14.19095230102539,14.50491714477539,14.77054214477539,14.98685073852539,15.15286636352539,15.27151870727539,15.34183120727539,15.36478042602539,15.34085464477539,15.27005386352539,15.15335464477539,14.99124526977539,14.78665542602539],[1.9790382385253906,3.0327491760253906,4.054233551025391,5.039585113525391,5.987339019775391,6.897983551025391,7.767124176025391,8.59573745727539,9.38235855102539,10.12454605102539,10.82278823852539,11.47415542602539,12.07962417602539,12.63724136352539,13.14798355102539,13.61087417602539,14.02249526977539,14.38724136352539,14.70315933227539,14.96878433227539,15.18606948852539,15.35354995727539,15.47220230102539,15.54251480102539,15.56595230102539,15.54056167602539,15.47024917602539,15.35354995727539,15.19192886352539,14.98636245727539],[2.1435890197753906,3.2007179260253906,4.224155426025391,5.212436676025391,6.162631988525391,7.074741363525391,7.946323394775391,8.77737808227539,9.56497573852539,10.30960464477539,11.00833511352539,11.66214370727539,12.26956558227539,12.82962417602539,13.34085464477539,13.80374526977539,14.21829605102539,14.58401870727539,14.89944839477539,15.16604995727539,15.38382339477539,15.55228042602539,15.67142105102539,15.74222183227539,15.76468276977539,15.74124526977539,15.66995620727539,15.55325698852539,15.39114761352539,15.18558120727539],[2.3091163635253906,3.3691749572753906,4.394565582275391,5.383335113525391,6.336948394775391,7.251499176025391,8.12503433227539,8.95755386352539,9.74759292602539,10.49417495727539,11.19485855102539,11.85013198852539,12.45901870727539,13.01956558227539,13.53226089477539,13.99710464477539,14.41312026977539,14.77933120727539,15.09622573852539,15.36331558227539,15.58157730102539,15.75003433227539,15.87015151977539,15.94046401977539,15.96390151977539,15.93997573852539,15.86917495727539,15.75247573852539,15.58987808227539,15.38382339477539],[2.4736671447753906,3.5351905822753906,4.563510894775391,5.556186676025391,6.510776519775391,7.427768707275391,8.30276870727539,9.13821792602539,9.92923355102539,10.67728042602539,11.37942886352539,12.03665542602539,12.64651870727539,13.20950698852539,13.72464370727539,14.18997573852539,14.60550308227539,14.97317886352539,15.29104995727539,15.55911636352539,15.77737808227539,15.94681167602539,16.06692886352539,16.13870620727539,16.16360855102539,16.13870620727539,16.06790542602539,15.95071792602539,15.78812026977539,15.58108901977539],[2.6377296447753906,3.7016944885253906,4.732456207275391,5.726108551025391,6.683628082275391,7.602573394775391,8.48050308227539,9.31692886352539,10.11038589477539,10.86038589477539,11.56497573852539,12.22317886352539,12.83401870727539,13.39896011352539,13.91409683227539,14.38138198852539,14.79886245727539,15.16702651977539,15.48538589477539,15.75491714477539,15.97366714477539,16.14407730102539,16.26468276977539,16.33646011352539,16.35989761352539,16.33646011352539,16.26468276977539,16.14798355102539,15.98587417602539,15.77786636352539],[2.8008155822753906,3.8677101135253906,4.900424957275391,5.896518707275391,6.855991363525391,7.777378082275391,8.65726089477539,9.49515151977539,10.29056167602539,11.04202651977539,11.74856948852539,12.40872573852539,13.02151870727539,13.58694839477539,14.10354995727539,14.57132339477539,14.99026870727539,15.35989761352539,15.67972183227539,15.94876480102539,16.16849136352539,16.33987808227539,16.46097183227539,16.53323745727539,16.55716323852539,16.53274917602539,16.46243667602539,16.34427261352539,16.18216323852539,15.97415542602539],[2.9643898010253906,4.032749176025391,5.067417144775391,6.066928863525391,7.028354644775391,7.951206207275391,8.83255386352539,9.67337417602539,10.47122573852539,11.22415542602539,11.93216323852539,12.59378433227539,13.20853042602539,13.77444839477539,14.29300308227539,14.76272964477539,15.18216323852539,15.55228042602539,15.87259292602539,16.14358901977539,16.36331558227539,16.53470230102539,16.65677261352539,16.72806167602539,16.75247573852539,16.72903823852539,16.65872573852539,16.54056167602539,16.37747573852539,16.17044448852539],[3.1264991760253906,4.197299957275391,5.234897613525391,6.236362457275391,7.198764801025391,8.12356948852539,9.00735855102539,9.85013198852539,10.65042495727539,11.40481948852539,12.11429214477539,12.77737808227539,13.39310073852539,13.96194839477539,14.48050308227539,14.95169448852539,15.37210464477539,15.74319839477539,16.06399917602539,16.33597183227539,16.55716323852539,16.72903823852539,16.85062026977539,16.92386245727539,16.94925308227539,16.92435073852539,16.85306167602539,16.73538589477539,16.57278823852539,16.36478042602539],[3.2876319885253906,4.360385894775391,5.400913238525391,6.403842926025391,7.369663238525391,8.29690933227539,9.18265151977539,10.02688980102539,10.82864761352539,11.58548355102539,12.29690933227539,12.96048355102539,13.57864761352539,14.14798355102539,14.66849136352539,15.14017105102539,15.56155776977539,15.93460464477539,16.25540542602539,16.52786636352539,16.75052261352539,16.92190933227539,17.04446792602539,17.11868667602539,17.14310073852539,17.11917495727539,17.04788589477539,16.93167495727539,16.76712417602539,16.55911636352539],[3.4482765197753906,4.523960113525391,5.566440582275391,6.571811676025391,7.540073394775391,8.46829605102539,9.35696792602539,10.20315933227539,11.00638198852539,11.76419448852539,12.47757339477539,13.14310073852539,13.76126480102539,14.33255386352539,14.85452651977539,15.32767105102539,15.75101089477539,16.12454605102539,16.44729995727539,16.71976089477539,16.94144058227539,17.11380386352539,17.23782730102539,17.31155776977539,17.33548355102539,17.31351089477539,17.24124526977539,17.12405776977539,16.96048355102539,16.75149917602539],[3.6089210510253906,4.687046051025391,5.731479644775391,6.739292144775391,7.708530426025391,8.64017105102539,9.53030776977539,10.37845230102539,11.18265151977539,11.94290542602539,12.65726089477539,13.32474136352539,13.94583511352539,14.51810073852539,15.04056167602539,15.51468276977539,15.93899917602539,16.31302261352539,16.63772964477539,16.91019058227539,17.13382339477539,17.30667495727539,17.43021011352539,17.50442886352539,17.52884292602539,17.50589370727539,17.43460464477539,17.31790542602539,17.15335464477539,16.94437026977539],[3.7690773010253906,4.849155426025391,5.895542144775391,6.905307769775391,7.877475738525391,8.81058120727539,9.70267105102539,10.55325698852539,11.35892105102539,12.12161636352539,12.83743667602539,13.50638198852539,14.12845230102539,14.70169448852539,15.22659683227539,15.70071792602539,16.12552261352539,16.50247573852539,16.82571792602539,17.10062026977539,17.32474136352539,17.49856948852539,17.62161636352539,17.69632339477539,17.72073745727539,17.69827651977539,17.62747573852539,17.50833511352539,17.34573745727539,17.13626480102539],[3.9277687072753906,5.010288238525391,6.058628082275391,7.070835113525391,8.04495620727539,8.98001480102539,9.87405776977539,10.72610855102539,11.53421401977539,12.29788589477539,13.01614761352539,13.68655776977539,14.30911636352539,14.88479995727539,15.41019058227539,15.88626480102539,16.31302261352539,16.68851089477539,17.01321792602539,17.28909683227539,17.51370620727539,17.68802261352539,17.81155776977539,17.88675308227539,17.91263198852539,17.88919448852539,17.81839370727539,17.70071792602539,17.53616714477539,17.32669448852539],[4.086948394775391,5.171909332275391,6.222202301025391,7.236362457275391,8.21243667602539,9.14993667602539,10.04593276977539,10.89993667602539,11.70901870727539,12.47464370727539,13.19485855102539,13.86575698852539,14.49026870727539,15.06692886352539,15.59378433227539,16.07181167602539,16.49856948852539,16.87503433227539,17.20120620727539,17.47806167602539,17.70315933227539,17.87796401977539,18.00247573852539,18.07669448852539,18.10306167602539,18.07913589477539,18.00833511352539,17.89114761352539,17.72610855102539,17.51614761352539],[4.244174957275391,5.331577301025391,6.384311676025391,7.400424957275391,8.37894058227539,9.31888198852539,10.21634292602539,11.07181167602539,11.88235855102539,12.64993667602539,13.37112808227539,14.04397964477539,14.66995620727539,15.24759292602539,15.77688980102539,16.25491714477539,16.68313980102539,17.06155776977539,17.38870620727539,17.66507339477539,17.89065933227539,18.06595230102539,18.19095230102539,18.26663589477539,18.29251480102539,18.26907730102539,18.19876480102539,18.08011245727539,17.91556167602539,17.70462417602539],[4.401401519775391,5.491245269775391,6.545932769775391,7.564975738525391,8.54495620727539,9.48636245727539,10.38528823852539,11.24319839477539,12.05716323852539,12.82474136352539,13.54739761352539,14.22269058227539,14.85062026977539,15.42874526977539,15.95755386352539,16.43802261352539,16.86722183227539,17.24661636352539,17.57376480102539,17.85159683227539,18.07815933227539,18.25442886352539,18.37894058227539,18.45413589477539,18.48099136352539,18.45804214477539,18.38772964477539,18.26858901977539,18.10403823852539,17.89407730102539],[4.558139801025391,5.650913238525391,6.707065582275391,7.727573394775391,8.71048355102539,9.65335464477539,10.55472183227539,11.41312026977539,12.22903823852539,12.99905776977539,13.72317886352539,14.40042495727539,15.02835464477539,15.60843276977539,16.13968276977539,16.62015151977539,17.05032730102539,17.43021011352539,17.75931167602539,18.03763198852539,18.26370620727539,18.44095230102539,18.56644058227539,18.64310073852539,18.66946792602539,18.64603042602539,18.57522964477539,18.45804214477539,18.29202651977539,18.08157730102539],[4.713413238525391,5.807651519775391,6.866733551025391,7.890171051025391,8.87454605102539,9.82034683227539,10.72269058227539,11.58353042602539,12.40140151977539,13.17288589477539,13.89798355102539,14.57571792602539,15.20608901977539,15.78812026977539,16.32034683227539,16.80130386352539,17.23245620727539,17.61331558227539,17.94290542602539,18.22220230102539,18.44974136352539,18.62747573852539,18.75296401977539,18.82962417602539,18.85501480102539,18.83304214477539,18.76321792602539,18.64407730102539,18.47854995727539,18.26712417602539],[4.868686676025391,5.964389801025391,7.026401519775391,8.05081558227539,9.03860855102539,9.98440933227539,10.89017105102539,11.75296401977539,12.57132339477539,13.34524917602539,14.07132339477539,14.75149917602539,15.38284683227539,15.96634292602539,16.49905776977539,16.98196792602539,17.41409683227539,17.79593276977539,18.12601089477539,18.40628433227539,18.63431167602539,18.81106948852539,18.93899917602539,19.01517105102539,19.04202651977539,19.02005386352539,18.94876480102539,18.83011245727539,18.66604995727539,18.45364761352539],[5.023960113525391,6.122104644775391,7.185581207275391,8.21243667602539,9.20071792602539,10.14993667602539,11.05667495727539,11.92190933227539,12.74173355102539,13.51712417602539,14.24563980102539,14.92630386352539,15.55862808227539,16.14310073852539,16.67728042602539,17.16165542602539,17.59573745727539,17.97708511352539,18.30813980102539,18.58841323852539,18.81839370727539,18.99612808227539,19.12356948852539,19.20071792602539,19.22708511352539,19.20511245727539,19.13431167602539,19.01517105102539,18.85013198852539,18.63870620727539],[5.178256988525391,6.277866363525391,7.343784332275391,8.37210464477539,9.36331558227539,10.31351089477539,11.22317886352539,12.08890151977539,12.91019058227539,13.68704605102539,14.41751480102539,15.10062026977539,15.73489761352539,16.31985855102539,16.85501480102539,17.34134292602539,17.77493667602539,18.15774917602539,18.49026870727539,18.77151870727539,19.00101089477539,19.17874526977539,19.30667495727539,19.38479995727539,19.41165542602539,19.38919448852539,19.31888198852539,19.19974136352539,19.03421401977539,18.82278823852539],[5.331089019775391,6.434116363525391,7.501987457275391,8.53177261352539,9.52444839477539,10.47659683227539,11.38821792602539,12.25491714477539,13.07962417602539,13.85745620727539,14.58938980102539,15.27298355102539,15.90872573852539,16.49515151977539,17.03226089477539,17.51810073852539,17.95315933227539,18.33792495727539,18.67044448852539,18.95267105102539,19.18265151977539,19.36233901977539,19.49075698852539,19.56644058227539,19.59427261352539,19.57278823852539,19.50247573852539,19.38431167602539,19.21731948852539,19.00540542602539],[5.483921051025391,6.588413238525391,7.658725738525391,8.69192886352539,9.68558120727539,10.63870620727539,11.55276870727539,12.42142105102539,13.24808120727539,14.02688980102539,14.75979995727539,15.44534683227539,16.08304214477539,16.66946792602539,17.20804214477539,17.69534683227539,18.13138198852539,18.51712417602539,18.85110855102539,19.13284683227539,19.36380386352539,19.54300308227539,19.67239761352539,19.75003433227539,19.77737808227539,19.75589370727539,19.68558120727539,19.56595230102539,19.39993667602539,19.18753433227539],[5.635288238525391,6.742710113525391,7.813999176025391,8.84866714477539,9.84524917602539,10.80179214477539,11.71585464477539,12.58743667602539,13.41409683227539,14.19437026977539,14.92972183227539,15.61722183227539,16.25491714477539,16.84476089477539,17.38333511352539,17.87161636352539,18.30911636352539,18.69534683227539,19.02933120727539,19.31155776977539,19.54446792602539,19.72366714477539,19.85257339477539,19.93118667602539,19.95950698852539,19.93802261352539,19.86673355102539,19.74759292602539,19.58157730102539,19.36966323852539]]},{\"marker\":{\"color\":\"darkgreen\"},\"mode\":\"markers\",\"name\":\"training data\",\"type\":\"scatter3d\",\"x\":[2.0,2.0,2.200000047683716,2.200000047683716,2.200000047683716,2.200000047683716,2.5,2.5,2.5,2.5,2.5,2.700000047683716,2.700000047683716,2.700000047683716,2.700000047683716,2.700000047683716,3.0,3.0,3.0,3.0,3.0],\"y\":[2.0,5.0,1.0,1.5,2.0,5.0,0.5,1.0,1.5,2.0,5.0,0.5,1.0,1.5,2.0,5.0,0.5,1.0,1.5,2.0,5.0],\"z\":[1.3899999856948853,3.940000057220459,4.690000057220459,13.819999694824219,13.8100004196167,13.390000343322754,2.2300000190734863,12.460000038146973,13.739999771118164,19.709999084472656,15.220000267028809,11.989999771118164,16.40999984741211,18.350000381469727,17.969999313354492,18.670000076293945,14.649999618530273,15.4399995803833,15.329999923706055,13.430000305175781,20.139999389648438]}],                        {\"height\":800,\"legend\":{\"orientation\":\"h\",\"x\":1,\"xanchor\":\"left\",\"y\":1.02,\"yanchor\":\"top\"},\"margin\":{\"b\":10,\"l\":10,\"r\":20,\"t\":10},\"scene\":{\"camera\":{\"center\":{\"x\":0,\"y\":0,\"z\":0},\"eye\":{\"x\":-2,\"y\":-2.5,\"z\":1.75},\"up\":{\"x\":0,\"y\":0,\"z\":1}},\"xaxis\":{\"title\":{\"text\":\"Flash voltage (kV)\"}},\"yaxis\":{\"title\":{\"text\":\"Flash time (msec)\"}},\"zaxis\":{\"title\":{\"text\":\"Pr (uC/cm^2), Pristine\"}}},\"template\":{\"data\":{\"bar\":[{\"error_x\":{\"color\":\"#2a3f5f\"},\"error_y\":{\"color\":\"#2a3f5f\"},\"marker\":{\"line\":{\"color\":\"#E5ECF6\",\"width\":0.5},\"pattern\":{\"fillmode\":\"overlay\",\"size\":10,\"solidity\":0.2}},\"type\":\"bar\"}],\"barpolar\":[{\"marker\":{\"line\":{\"color\":\"#E5ECF6\",\"width\":0.5},\"pattern\":{\"fillmode\":\"overlay\",\"size\":10,\"solidity\":0.2}},\"type\":\"barpolar\"}],\"carpet\":[{\"aaxis\":{\"endlinecolor\":\"#2a3f5f\",\"gridcolor\":\"white\",\"linecolor\":\"white\",\"minorgridcolor\":\"white\",\"startlinecolor\":\"#2a3f5f\"},\"baxis\":{\"endlinecolor\":\"#2a3f5f\",\"gridcolor\":\"white\",\"linecolor\":\"white\",\"minorgridcolor\":\"white\",\"startlinecolor\":\"#2a3f5f\"},\"type\":\"carpet\"}],\"choropleth\":[{\"colorbar\":{\"outlinewidth\":0,\"ticks\":\"\"},\"type\":\"choropleth\"}],\"contour\":[{\"colorbar\":{\"outlinewidth\":0,\"ticks\":\"\"},\"colorscale\":[[0.0,\"#0d0887\"],[0.1111111111111111,\"#46039f\"],[0.2222222222222222,\"#7201a8\"],[0.3333333333333333,\"#9c179e\"],[0.4444444444444444,\"#bd3786\"],[0.5555555555555556,\"#d8576b\"],[0.6666666666666666,\"#ed7953\"],[0.7777777777777778,\"#fb9f3a\"],[0.8888888888888888,\"#fdca26\"],[1.0,\"#f0f921\"]],\"type\":\"contour\"}],\"contourcarpet\":[{\"colorbar\":{\"outlinewidth\":0,\"ticks\":\"\"},\"type\":\"contourcarpet\"}],\"heatmap\":[{\"colorbar\":{\"outlinewidth\":0,\"ticks\":\"\"},\"colorscale\":[[0.0,\"#0d0887\"],[0.1111111111111111,\"#46039f\"],[0.2222222222222222,\"#7201a8\"],[0.3333333333333333,\"#9c179e\"],[0.4444444444444444,\"#bd3786\"],[0.5555555555555556,\"#d8576b\"],[0.6666666666666666,\"#ed7953\"],[0.7777777777777778,\"#fb9f3a\"],[0.8888888888888888,\"#fdca26\"],[1.0,\"#f0f921\"]],\"type\":\"heatmap\"}],\"heatmapgl\":[{\"colorbar\":{\"outlinewidth\":0,\"ticks\":\"\"},\"colorscale\":[[0.0,\"#0d0887\"],[0.1111111111111111,\"#46039f\"],[0.2222222222222222,\"#7201a8\"],[0.3333333333333333,\"#9c179e\"],[0.4444444444444444,\"#bd3786\"],[0.5555555555555556,\"#d8576b\"],[0.6666666666666666,\"#ed7953\"],[0.7777777777777778,\"#fb9f3a\"],[0.8888888888888888,\"#fdca26\"],[1.0,\"#f0f921\"]],\"type\":\"heatmapgl\"}],\"histogram\":[{\"marker\":{\"pattern\":{\"fillmode\":\"overlay\",\"size\":10,\"solidity\":0.2}},\"type\":\"histogram\"}],\"histogram2d\":[{\"colorbar\":{\"outlinewidth\":0,\"ticks\":\"\"},\"colorscale\":[[0.0,\"#0d0887\"],[0.1111111111111111,\"#46039f\"],[0.2222222222222222,\"#7201a8\"],[0.3333333333333333,\"#9c179e\"],[0.4444444444444444,\"#bd3786\"],[0.5555555555555556,\"#d8576b\"],[0.6666666666666666,\"#ed7953\"],[0.7777777777777778,\"#fb9f3a\"],[0.8888888888888888,\"#fdca26\"],[1.0,\"#f0f921\"]],\"type\":\"histogram2d\"}],\"histogram2dcontour\":[{\"colorbar\":{\"outlinewidth\":0,\"ticks\":\"\"},\"colorscale\":[[0.0,\"#0d0887\"],[0.1111111111111111,\"#46039f\"],[0.2222222222222222,\"#7201a8\"],[0.3333333333333333,\"#9c179e\"],[0.4444444444444444,\"#bd3786\"],[0.5555555555555556,\"#d8576b\"],[0.6666666666666666,\"#ed7953\"],[0.7777777777777778,\"#fb9f3a\"],[0.8888888888888888,\"#fdca26\"],[1.0,\"#f0f921\"]],\"type\":\"histogram2dcontour\"}],\"mesh3d\":[{\"colorbar\":{\"outlinewidth\":0,\"ticks\":\"\"},\"type\":\"mesh3d\"}],\"parcoords\":[{\"line\":{\"colorbar\":{\"outlinewidth\":0,\"ticks\":\"\"}},\"type\":\"parcoords\"}],\"pie\":[{\"automargin\":true,\"type\":\"pie\"}],\"scatter\":[{\"marker\":{\"colorbar\":{\"outlinewidth\":0,\"ticks\":\"\"}},\"type\":\"scatter\"}],\"scatter3d\":[{\"line\":{\"colorbar\":{\"outlinewidth\":0,\"ticks\":\"\"}},\"marker\":{\"colorbar\":{\"outlinewidth\":0,\"ticks\":\"\"}},\"type\":\"scatter3d\"}],\"scattercarpet\":[{\"marker\":{\"colorbar\":{\"outlinewidth\":0,\"ticks\":\"\"}},\"type\":\"scattercarpet\"}],\"scattergeo\":[{\"marker\":{\"colorbar\":{\"outlinewidth\":0,\"ticks\":\"\"}},\"type\":\"scattergeo\"}],\"scattergl\":[{\"marker\":{\"colorbar\":{\"outlinewidth\":0,\"ticks\":\"\"}},\"type\":\"scattergl\"}],\"scattermapbox\":[{\"marker\":{\"colorbar\":{\"outlinewidth\":0,\"ticks\":\"\"}},\"type\":\"scattermapbox\"}],\"scatterpolar\":[{\"marker\":{\"colorbar\":{\"outlinewidth\":0,\"ticks\":\"\"}},\"type\":\"scatterpolar\"}],\"scatterpolargl\":[{\"marker\":{\"colorbar\":{\"outlinewidth\":0,\"ticks\":\"\"}},\"type\":\"scatterpolargl\"}],\"scatterternary\":[{\"marker\":{\"colorbar\":{\"outlinewidth\":0,\"ticks\":\"\"}},\"type\":\"scatterternary\"}],\"surface\":[{\"colorbar\":{\"outlinewidth\":0,\"ticks\":\"\"},\"colorscale\":[[0.0,\"#0d0887\"],[0.1111111111111111,\"#46039f\"],[0.2222222222222222,\"#7201a8\"],[0.3333333333333333,\"#9c179e\"],[0.4444444444444444,\"#bd3786\"],[0.5555555555555556,\"#d8576b\"],[0.6666666666666666,\"#ed7953\"],[0.7777777777777778,\"#fb9f3a\"],[0.8888888888888888,\"#fdca26\"],[1.0,\"#f0f921\"]],\"type\":\"surface\"}],\"table\":[{\"cells\":{\"fill\":{\"color\":\"#EBF0F8\"},\"line\":{\"color\":\"white\"}},\"header\":{\"fill\":{\"color\":\"#C8D4E3\"},\"line\":{\"color\":\"white\"}},\"type\":\"table\"}]},\"layout\":{\"annotationdefaults\":{\"arrowcolor\":\"#2a3f5f\",\"arrowhead\":0,\"arrowwidth\":1},\"autotypenumbers\":\"strict\",\"coloraxis\":{\"colorbar\":{\"outlinewidth\":0,\"ticks\":\"\"}},\"colorscale\":{\"diverging\":[[0,\"#8e0152\"],[0.1,\"#c51b7d\"],[0.2,\"#de77ae\"],[0.3,\"#f1b6da\"],[0.4,\"#fde0ef\"],[0.5,\"#f7f7f7\"],[0.6,\"#e6f5d0\"],[0.7,\"#b8e186\"],[0.8,\"#7fbc41\"],[0.9,\"#4d9221\"],[1,\"#276419\"]],\"sequential\":[[0.0,\"#0d0887\"],[0.1111111111111111,\"#46039f\"],[0.2222222222222222,\"#7201a8\"],[0.3333333333333333,\"#9c179e\"],[0.4444444444444444,\"#bd3786\"],[0.5555555555555556,\"#d8576b\"],[0.6666666666666666,\"#ed7953\"],[0.7777777777777778,\"#fb9f3a\"],[0.8888888888888888,\"#fdca26\"],[1.0,\"#f0f921\"]],\"sequentialminus\":[[0.0,\"#0d0887\"],[0.1111111111111111,\"#46039f\"],[0.2222222222222222,\"#7201a8\"],[0.3333333333333333,\"#9c179e\"],[0.4444444444444444,\"#bd3786\"],[0.5555555555555556,\"#d8576b\"],[0.6666666666666666,\"#ed7953\"],[0.7777777777777778,\"#fb9f3a\"],[0.8888888888888888,\"#fdca26\"],[1.0,\"#f0f921\"]]},\"colorway\":[\"#636efa\",\"#EF553B\",\"#00cc96\",\"#ab63fa\",\"#FFA15A\",\"#19d3f3\",\"#FF6692\",\"#B6E880\",\"#FF97FF\",\"#FECB52\"],\"font\":{\"color\":\"#2a3f5f\"},\"geo\":{\"bgcolor\":\"white\",\"lakecolor\":\"white\",\"landcolor\":\"#E5ECF6\",\"showlakes\":true,\"showland\":true,\"subunitcolor\":\"white\"},\"hoverlabel\":{\"align\":\"left\"},\"hovermode\":\"closest\",\"mapbox\":{\"style\":\"light\"},\"paper_bgcolor\":\"white\",\"plot_bgcolor\":\"#E5ECF6\",\"polar\":{\"angularaxis\":{\"gridcolor\":\"white\",\"linecolor\":\"white\",\"ticks\":\"\"},\"bgcolor\":\"#E5ECF6\",\"radialaxis\":{\"gridcolor\":\"white\",\"linecolor\":\"white\",\"ticks\":\"\"}},\"scene\":{\"xaxis\":{\"backgroundcolor\":\"#E5ECF6\",\"gridcolor\":\"white\",\"gridwidth\":2,\"linecolor\":\"white\",\"showbackground\":true,\"ticks\":\"\",\"zerolinecolor\":\"white\"},\"yaxis\":{\"backgroundcolor\":\"#E5ECF6\",\"gridcolor\":\"white\",\"gridwidth\":2,\"linecolor\":\"white\",\"showbackground\":true,\"ticks\":\"\",\"zerolinecolor\":\"white\"},\"zaxis\":{\"backgroundcolor\":\"#E5ECF6\",\"gridcolor\":\"white\",\"gridwidth\":2,\"linecolor\":\"white\",\"showbackground\":true,\"ticks\":\"\",\"zerolinecolor\":\"white\"}},\"shapedefaults\":{\"line\":{\"color\":\"#2a3f5f\"}},\"ternary\":{\"aaxis\":{\"gridcolor\":\"white\",\"linecolor\":\"white\",\"ticks\":\"\"},\"baxis\":{\"gridcolor\":\"white\",\"linecolor\":\"white\",\"ticks\":\"\"},\"bgcolor\":\"#E5ECF6\",\"caxis\":{\"gridcolor\":\"white\",\"linecolor\":\"white\",\"ticks\":\"\"}},\"title\":{\"x\":0.05},\"xaxis\":{\"automargin\":true,\"gridcolor\":\"white\",\"linecolor\":\"white\",\"ticks\":\"\",\"title\":{\"standoff\":15},\"zerolinecolor\":\"white\",\"zerolinewidth\":2},\"yaxis\":{\"automargin\":true,\"gridcolor\":\"white\",\"linecolor\":\"white\",\"ticks\":\"\",\"title\":{\"standoff\":15},\"zerolinecolor\":\"white\",\"zerolinewidth\":2}}},\"width\":1000},                        {\"responsive\": true}                    ).then(function(){\n",
       "                            \n",
       "var gd = document.getElementById('4849cec9-8113-4ac2-98ff-548bc61d4172');\n",
       "var x = new MutationObserver(function (mutations, observer) {{\n",
       "        var display = window.getComputedStyle(gd).display;\n",
       "        if (!display || display === 'none') {{\n",
       "            console.log([gd, 'removed!']);\n",
       "            Plotly.purge(gd);\n",
       "            observer.disconnect();\n",
       "        }}\n",
       "}});\n",
       "\n",
       "// Listen for the removal of the full notebook cells\n",
       "var notebookContainer = gd.closest('#notebook-container');\n",
       "if (notebookContainer) {{\n",
       "    x.observe(notebookContainer, {childList: true});\n",
       "}}\n",
       "\n",
       "// Listen for the clearing of the current output cell\n",
       "var outputEl = gd.closest('.output');\n",
       "if (outputEl) {{\n",
       "    x.observe(outputEl, {childList: true});\n",
       "}}\n",
       "\n",
       "                        })                };                });            </script>        </div>"
      ],
      "image/png": "[encoded data removed]"
     },
     "metadata": {}
    }
   ],
   "metadata": {}
  },
  {
   "cell_type": "code",
   "execution_count": 15,
   "source": [
    "# # log scale\n",
    "# pred_labels = obs.mean.view(n, n)\n",
    "# # plot?...\n",
    "# import plotly.graph_objects as go\n",
    "# fig = go.Figure(data=[go.Surface(z=pred_labels.numpy().T, x=test_grid[:,0], y=test_grid[:,1], name='GP regression')])\n",
    "# fig.add_trace(go.Scatter3d(x=train_x[:,0].numpy(),y=train_x[:,1].numpy(),  \n",
    "#                         z=train_y.numpy(), mode='markers', marker={'color':'darkgreen'}, name='trianing data'))\n",
    "# fig.update_layout( #width=1000, height=800,\n",
    "#                   legend=dict(orientation=\"h\", yanchor=\"top\", y=1.02, xanchor=\"left\",x=1),\n",
    "#                    margin=dict(r=20, l=10, b=10, t=10), \n",
    "#                     scene=dict(\n",
    "#                     xaxis_title=\"RTA temperature (C)\",\n",
    "#                     yaxis_title=\"RTA time (sec)\",\n",
    "#                     zaxis_title='2Pr (uC/cm2), Pristine')\n",
    "#                 )\n",
    "# fig.show()"
   ],
   "outputs": [],
   "metadata": {}
  },
  {
   "cell_type": "markdown",
   "source": [
    "# Evaluate acquisition functions\n",
    "This is a bit over-engineered at the moment, as it was built to allow use of the acquisition functions in bayesian optimization loops (botorch functionality).  The below cells should suffice to return the needed results.  "
   ],
   "metadata": {}
  },
  {
   "cell_type": "code",
   "execution_count": 16,
   "source": [
    "# Evaluate acquisition functions on current predictions (observations)\n",
    "\n",
    "from src.acq_funcs import EI, PI, cust_acq, thompson\n",
    "bounds = [1,1]\n",
    "\n",
    "# Probability of Improvement\n",
    "PI_acq = PI(obs, bounds, train_y)\n",
    "PI_acq_shape = PI_acq.detach().numpy().reshape(30,30).T\n",
    "\n",
    "# Expected Improvement\n",
    "EI_acq = EI(obs, bounds, train_y)\n",
    "EI_acq_shape = EI_acq.detach().numpy().reshape(30,30).T\n",
    "\n",
    "# Custom Acquisition (something I was playing with)\n",
    "ca_acq = cust_acq(obs, bounds, train_y)\n",
    "ca_acq_shape = ca_acq.detach().numpy().reshape(30,30).T\n",
    "\n",
    "# Thompson Acquisition function\n",
    "th_acq = thompson(obs, bounds, train_y)\n",
    "th_acq_shape = th_acq.detach().numpy().reshape(30,30).T\n",
    "# fig = go.Figure(data=[go.Surface(z=acq, x=test_grid[:,0], y=test_grid[:,1])])\n"
   ],
   "outputs": [],
   "metadata": {}
  },
  {
   "cell_type": "code",
   "execution_count": 17,
   "source": [
    "ei = np.unravel_index(EI_acq_shape.argmax(), EI_acq_shape.shape)\n",
    "pi = np.unravel_index(PI_acq_shape.argmax(), PI_acq_shape.shape)\n",
    "ca = np.unravel_index(ca_acq_shape.argmax(), ca_acq_shape.shape)\n",
    "th = np.unravel_index(th_acq_shape.argmax(), th_acq_shape.shape)"
   ],
   "outputs": [],
   "metadata": {}
  },
  {
   "cell_type": "code",
   "execution_count": 18,
   "source": [
    "# Plot the acquisition function results alongside the confidence bound surfaces\n",
    "pred_var = obs.variance.view(n, n).detach().numpy().T\n",
    "lower, upper = obs.confidence_region()\n",
    "upper_surf = upper.detach().numpy().reshape(30,30).T\n",
    "lower_surf = lower.detach().numpy().reshape(30,30).T\n",
    "\n",
    "ucb = np.unravel_index(upper_surf.argmax(), upper_surf.shape)\n",
    "max_var = np.unravel_index(pred_var.argmax(), pred_var.shape)\n",
    "ei = np.unravel_index(EI_acq_shape.argmax(), EI_acq_shape.shape)\n",
    "pi = np.unravel_index(PI_acq_shape.argmax(), PI_acq_shape.shape)\n",
    "\n",
    "# plot?...\n",
    "import plotly.graph_objects as go\n",
    "fig = go.Figure(data=[go.Surface(z = upper_surf, x=test_grid[:,0], y=test_grid[:,1], opacity=0.5, showscale=False)])\n",
    "fig.add_trace(go.Surface(z = lower_surf, x=test_grid[:,0], y=test_grid[:,1], opacity=0.5, showscale=False))\n",
    "fig.add_trace(go.Scatter3d(x=train_x[:,0].numpy(), y=train_x[:,1].numpy(), \n",
    "                            z=train_y.numpy(), mode='markers', name='training data', marker={'color':'darkgreen'}))\n",
    "\n",
    "fig.add_trace(go.Scatter3d(x=test_grid[ucb[1], 0].numpy(), y=test_grid[ucb[0], 1].numpy(), \n",
    "                            z=[pred_labels[ucb[0], ucb[1]]], mode='markers', name='max(upper confidence bound)')) \n",
    "fig.add_trace(go.Scatter3d(x=test_grid[th[1], 0].numpy(), y=test_grid[th[0],1].numpy(), \n",
    "                            z=[pred_labels[th[0], th[1]].detach().numpy()], mode='markers', name='max(thompson)')) \n",
    "fig.add_trace(go.Scatter3d(x=test_grid[pi[1], 0].numpy(), y=test_grid[pi[0], 1].numpy(), z=[pred_labels[pi[0], pi[1]]], mode='markers', name='max(pi)'))\n",
    "\n",
    "fig.add_trace(go.Scatter3d(x=test_grid[ei[1], 0].numpy(), y=test_grid[ei[0], 1].numpy(), z=[pred_labels[ei\n",
    "[0], ei[1]]], mode='markers', name='max(ei)'))\n",
    "\n",
    "fig.add_trace(go.Scatter3d(x=test_grid[ca[1], 0].numpy(), y=test_grid[ca[0], 1].numpy(), z=[pred_labels[ca[0], ca[1]]], mode='markers', name='max(ca)'))\n",
    "\n",
    "\n",
    "fig.update_layout( width=800, height=600,\n",
    "                  margin=dict(r=20, l=10, b=10, t=10),\n",
    "                  legend=dict(orientation=\"h\", yanchor=\"bottom\", y=1.02, xanchor=\"right\",x=1),\n",
    "                  scene=dict(\n",
    "                    xaxis_title=\"Flash voltage (kV)\",\n",
    "                    yaxis_title=\"Flash time (msec)\",\n",
    "                    zaxis_title='Pr (uC/cm^2), Pristine')\n",
    "                  )\n",
    "fig.show()"
   ],
   "outputs": [
    {
     "output_type": "display_data",
     "data": {
      "application/vnd.plotly.v1+json": {
       "config": {
        "plotlyServerURL": "https://plot.ly"
       },
       "data": [
        {
         "opacity": 0.5,
         "showscale": false,
         "type": "surface",
         "x": [
          1.9642857313156128,
          2.0012314319610596,
          2.038177251815796,
          2.0751230716705322,
          2.1120688915252686,
          2.149014711380005,
          2.185960531234741,
          2.2229063510894775,
          2.259852170944214,
          2.29679799079895,
          2.3337438106536865,
          2.370689630508423,
          2.407635450363159,
          2.4445812702178955,
          2.481527090072632,
          2.518472909927368,
          2.5554187297821045,
          2.592364549636841,
          2.629310369491577,
          2.6662561893463135,
          2.70320200920105,
          2.740147829055786,
          2.7770936489105225,
          2.814039468765259,
          2.850985288619995,
          2.8879311084747314,
          2.9248769283294678,
          2.961822748184204,
          2.9987685680389404,
          3.0357143878936768
         ],
         "y": [
          0.3392857313156128,
          0.5055418610572815,
          0.6717979907989502,
          0.8380541801452637,
          1.0043103694915771,
          1.170566439628601,
          1.3368226289749146,
          1.5030786991119385,
          1.669334888458252,
          1.8355910778045654,
          2.001847267150879,
          2.1681032180786133,
          2.3343594074249268,
          2.5006155967712402,
          2.6668717861175537,
          2.833127975463867,
          2.9993841648101807,
          3.165640354156494,
          3.3318965435028076,
          3.498152732849121,
          3.6644086837768555,
          3.830665111541748,
          3.9969210624694824,
          4.163177490234375,
          4.329433441162109,
          4.495689392089844,
          4.661945819854736,
          4.828201770782471,
          4.994458198547363,
          5.160714149475098
         ],
         "z": [
          [
           6.790602207183838,
           7.624398708343506,
           8.458362579345703,
           9.285857200622559,
           10.104759216308594,
           10.906551361083984,
           11.6895751953125,
           12.447951316833496,
           13.179071426391602,
           13.876298904418945,
           14.538320541381836,
           15.162946701049805,
           15.746047973632812,
           16.284223556518555,
           16.777841567993164,
           17.224021911621094,
           17.62608528137207,
           17.976099014282227,
           18.281021118164062,
           18.53636360168457,
           18.744976043701172,
           18.909605026245117,
           19.028480529785156,
           19.10666275024414,
           19.145980834960938,
           19.14892578125,
           19.120479583740234,
           19.065095901489258,
           18.98723602294922,
           18.890422821044922
          ],
          [
           6.903770446777344,
           7.742587089538574,
           8.581096649169922,
           9.414119720458984,
           10.237701416015625,
           11.045358657836914,
           11.834035873413086,
           12.598073959350586,
           13.332566261291504,
           14.034632682800293,
           14.701170921325684,
           15.32937240600586,
           15.915513038635254,
           16.456039428710938,
           16.952388763427734,
           17.401124954223633,
           17.802490234375,
           18.157201766967773,
           18.46120262145996,
           18.71778106689453,
           18.926376342773438,
           19.09074592590332,
           19.210533142089844,
           19.28750228881836,
           19.325881958007812,
           19.327157974243164,
           19.297910690307617,
           19.240482330322266,
           19.161901473999023,
           19.06455421447754
          ],
          [
           7.01759672164917,
           7.861757755279541,
           8.706644058227539,
           9.545327186584473,
           10.373796463012695,
           11.187726974487305,
           11.980583190917969,
           12.74898624420166,
           13.489253997802734,
           14.19561767578125,
           14.865140914916992,
           15.496763229370117,
           16.085355758666992,
           16.629716873168945,
           17.129013061523438,
           17.580291748046875,
           17.98304557800293,
           18.337942123413086,
           18.643693923950195,
           18.900609970092773,
           19.10968017578125,
           19.275121688842773,
           19.393238067626953,
           19.46921157836914,
           19.507640838623047,
           19.50850486755371,
           19.47805404663086,
           19.419506072998047,
           19.339065551757812,
           19.23944664001465
          ],
          [
           7.13546085357666,
           7.985012054443359,
           8.83380126953125,
           9.67850112915039,
           10.512348175048828,
           11.330892562866211,
           12.129371643066406,
           12.903085708618164,
           13.647212982177734,
           14.358015060424805,
           15.032407760620117,
           15.666679382324219,
           16.25784683227539,
           16.805465698242188,
           17.305971145629883,
           17.76011085510254,
           18.165313720703125,
           18.52088737487793,
           18.827774047851562,
           19.08529281616211,
           19.295089721679688,
           19.45882225036621,
           19.577743530273438,
           19.65326690673828,
           19.69000244140625,
           19.690643310546875,
           19.660018920898438,
           19.599742889404297,
           19.518285751342773,
           19.418861389160156
          ],
          [
           7.255035400390625,
           8.109809875488281,
           8.964714050292969,
           9.813974380493164,
           10.653129577636719,
           11.47813606262207,
           12.281233787536621,
           13.058263778686523,
           13.807764053344727,
           14.52235221862793,
           15.199508666992188,
           15.838021278381348,
           16.432653427124023,
           16.982463836669922,
           17.486530303955078,
           17.942251205444336,
           18.34823989868164,
           18.704980850219727,
           19.012338638305664,
           19.270610809326172,
           19.481857299804688,
           19.644927978515625,
           19.76364517211914,
           19.840164184570312,
           19.87663459777832,
           19.876712799072266,
           19.84361457824707,
           19.78343391418457,
           19.700294494628906,
           19.59874725341797
          ],
          [
           7.377315998077393,
           8.237201690673828,
           9.09689712524414,
           9.952512741088867,
           10.796982765197754,
           11.624726295471191,
           12.433303833007812,
           13.215442657470703,
           13.969382286071777,
           14.688177108764648,
           15.369665145874023,
           16.010662078857422,
           16.609363555908203,
           17.161865234375,
           17.667236328125,
           18.124649047851562,
           18.53232765197754,
           18.89103889465332,
           19.199182510375977,
           19.458980560302734,
           19.670181274414062,
           19.83275604248047,
           19.95119857788086,
           20.02735137939453,
           20.063413619995117,
           20.062397003173828,
           20.029706954956055,
           19.96869468688965,
           19.884241104125977,
           19.78333282470703
          ],
          [
           7.502868175506592,
           8.367170333862305,
           9.233255386352539,
           10.092914581298828,
           10.941523551940918,
           11.776287078857422,
           12.588747024536133,
           13.375761985778809,
           14.133386611938477,
           14.855903625488281,
           15.542055130004883,
           16.185760498046875,
           16.786977767944336,
           17.34127426147461,
           17.849525451660156,
           18.310026168823242,
           18.717697143554688,
           19.07817840576172,
           19.388263702392578,
           19.648361206054688,
           19.860530853271484,
           20.02362060546875,
           20.14196014404297,
           20.216976165771484,
           20.252826690673828,
           20.250715255737305,
           20.217987060546875,
           20.155792236328125,
           20.070533752441406,
           19.968067169189453
          ],
          [
           7.629632949829102,
           8.5000581741333,
           9.3705472946167,
           10.236013412475586,
           11.090034484863281,
           11.928662300109863,
           12.74602222442627,
           13.538057327270508,
           14.299015045166016,
           15.0261812210083,
           15.714340209960938,
           16.362438201904297,
           16.966327667236328,
           17.524513244628906,
           18.034080505371094,
           18.494993209838867,
           18.906421661376953,
           19.267871856689453,
           19.57798194885254,
           19.838735580444336,
           20.051071166992188,
           20.215551376342773,
           20.333749771118164,
           20.4090518951416,
           20.443634033203125,
           20.442787170410156,
           20.407913208007812,
           20.345624923706055,
           20.25983428955078,
           20.156787872314453
          ],
          [
           7.760786056518555,
           8.6365385055542,
           9.511651992797852,
           10.380111694335938,
           11.240410804748535,
           12.084047317504883,
           12.905569076538086,
           13.701587677001953,
           14.466963768005371,
           15.198415756225586,
           15.890164375305176,
           16.54106903076172,
           17.147560119628906,
           17.70758628845215,
           18.219345092773438,
           18.68262481689453,
           19.09613800048828,
           19.458282470703125,
           19.770164489746094,
           20.031295776367188,
           20.24432373046875,
           20.408172607421875,
           20.526926040649414,
           20.601848602294922,
           20.636899948120117,
           20.635801315307617,
           20.60001564025879,
           20.53760528564453,
           20.45093536376953,
           20.347166061401367
          ],
          [
           7.894078731536865,
           8.773831367492676,
           9.65447998046875,
           10.529455184936523,
           11.393282890319824,
           12.242094039916992,
           13.06765079498291,
           13.86854362487793,
           14.637313842773438,
           15.371753692626953,
           16.066513061523438,
           16.72040367126465,
           17.32953643798828,
           17.89273452758789,
           18.40787124633789,
           18.872055053710938,
           19.28539276123047,
           19.649206161499023,
           19.96227264404297,
           20.225421905517578,
           20.437400817871094,
           20.602746963500977,
           20.721290588378906,
           20.797367095947266,
           20.833576202392578,
           20.83026695251465,
           20.795339584350586,
           20.73176383972168,
           20.64535903930664,
           20.540199279785156
          ],
          [
           8.030595779418945,
           8.915108680725098,
           9.800546646118164,
           10.679208755493164,
           11.54840087890625,
           12.401458740234375,
           13.232250213623047,
           14.036299705505371,
           14.809433937072754,
           15.547365188598633,
           16.2462215423584,
           16.902442932128906,
           17.513803482055664,
           18.079788208007812,
           18.595550537109375,
           19.062314987182617,
           19.478647232055664,
           19.843368530273438,
           20.15671157836914,
           20.420595169067383,
           20.634319305419922,
           20.799802780151367,
           20.919673919677734,
           20.995121002197266,
           21.02892303466797,
           21.027292251586914,
           20.991600036621094,
           20.92759895324707,
           20.841203689575195,
           20.735794067382812
          ],
          [
           8.169179916381836,
           9.059162139892578,
           9.948920249938965,
           10.832534790039062,
           11.705785751342773,
           12.563732147216797,
           13.398412704467773,
           14.20623779296875,
           14.982851028442383,
           15.724315643310547,
           16.426267623901367,
           17.085796356201172,
           17.700260162353516,
           18.267568588256836,
           18.785734176635742,
           19.253507614135742,
           19.671096801757812,
           20.038116455078125,
           20.3530330657959,
           20.61705780029297,
           20.83144760131836,
           20.997699737548828,
           21.117536544799805,
           21.193470001220703,
           21.22817611694336,
           21.22618293762207,
           21.190902709960938,
           21.125930786132812,
           21.039703369140625,
           20.933069229125977
          ],
          [
           8.311975479125977,
           9.205638885498047,
           10.099928855895996,
           10.989076614379883,
           11.866758346557617,
           12.728164672851562,
           13.566490173339844,
           14.3789644241333,
           15.159975051879883,
           15.903836250305176,
           16.60860824584961,
           17.270854949951172,
           17.888107299804688,
           18.45684051513672,
           18.977584838867188,
           19.448354721069336,
           19.866849899291992,
           20.233631134033203,
           20.549768447875977,
           20.81564712524414,
           21.0301456451416,
           21.19713592529297,
           21.31805419921875,
           21.393217086791992,
           21.428190231323242,
           21.42683982849121,
           21.39142417907715,
           21.327016830444336,
           21.239940643310547,
           21.134376525878906
          ],
          [
           8.45698356628418,
           9.355348587036133,
           10.254487991333008,
           11.14798355102539,
           12.028684616088867,
           12.894084930419922,
           13.736858367919922,
           14.553023338317871,
           15.33792495727539,
           16.084918975830078,
           16.792407989501953,
           17.457477569580078,
           18.075910568237305,
           18.64861488342285,
           19.170501708984375,
           19.64242172241211,
           20.062313079833984,
           20.43121910095215,
           20.74774742126465,
           21.014610290527344,
           21.231101989746094,
           21.398691177368164,
           21.519018173217773,
           21.59539794921875,
           21.632688522338867,
           21.62942123413086,
           21.593595504760742,
           21.52948570251465,
           21.442977905273438,
           21.336870193481445
          ],
          [
           8.604267120361328,
           9.506587982177734,
           10.411059379577637,
           11.308101654052734,
           12.194221496582031,
           13.064044952392578,
           13.91049861907959,
           14.729781150817871,
           15.517396926879883,
           16.2681884765625,
           16.978988647460938,
           17.645065307617188,
           18.267396926879883,
           18.84110450744629,
           19.36473274230957,
           19.838388442993164,
           20.259775161743164,
           20.6307430267334,
           20.947799682617188,
           21.215574264526367,
           21.433124542236328,
           21.60044288635254,
           21.72195816040039,
           21.800350189208984,
           21.836013793945312,
           21.83440589904785,
           21.79922103881836,
           21.73645782470703,
           21.648029327392578,
           21.542585372924805
          ],
          [
           8.754798889160156,
           9.662091255187988,
           10.570735931396484,
           11.471986770629883,
           12.362810134887695,
           13.235329627990723,
           14.086467742919922,
           14.908853530883789,
           15.699399948120117,
           16.452632904052734,
           17.166114807128906,
           17.835285186767578,
           18.457921981811523,
           19.034406661987305,
           19.560428619384766,
           20.03585433959961,
           20.459402084350586,
           20.831069946289062,
           21.14998435974121,
           21.418704986572266,
           21.63518524169922,
           21.803699493408203,
           21.92709732055664,
           22.00499153137207,
           22.040969848632812,
           22.041255950927734,
           22.005922317504883,
           21.943147659301758,
           21.855674743652344,
           21.74934959411621
          ],
          [
           8.9088134765625,
           9.820518493652344,
           10.73294448852539,
           11.638870239257812,
           12.532279968261719,
           13.409662246704102,
           14.263626098632812,
           15.089849472045898,
           15.88253116607666,
           16.63914680480957,
           17.354541778564453,
           18.026386260986328,
           18.65329360961914,
           19.230846405029297,
           19.757448196411133,
           20.233949661254883,
           20.659404754638672,
           21.031978607177734,
           21.353271484375,
           21.621898651123047,
           21.841384887695312,
           22.010501861572266,
           22.134037017822266,
           22.212093353271484,
           22.249351501464844,
           22.24869155883789,
           22.214323043823242,
           22.152978897094727,
           22.066068649291992,
           21.95958137512207
          ],
          [
           9.065836906433105,
           9.98158073425293,
           10.897689819335938,
           11.80737590789795,
           12.705373764038086,
           13.585904121398926,
           14.443307876586914,
           15.272937774658203,
           16.06814193725586,
           16.82803726196289,
           17.545827865600586,
           18.219955444335938,
           18.848133087158203,
           19.42706298828125,
           19.95692253112793,
           20.434242248535156,
           20.85987091064453,
           21.235897064208984,
           21.556766510009766,
           21.827640533447266,
           22.047317504882812,
           22.218250274658203,
           22.34160804748535,
           22.421897888183594,
           22.458282470703125,
           22.459672927856445,
           22.426156997680664,
           22.362960815429688,
           22.277894973754883,
           22.172170639038086
          ],
          [
           9.225173950195312,
           10.145187377929688,
           11.065069198608398,
           11.978677749633789,
           12.880331993103027,
           13.764123916625977,
           14.624776840209961,
           15.456949234008789,
           16.255550384521484,
           17.01704978942871,
           17.738311767578125,
           18.414094924926758,
           19.043258666992188,
           19.6251277923584,
           20.155973434448242,
           20.635339736938477,
           21.064050674438477,
           21.438304901123047,
           21.760955810546875,
           22.033748626708984,
           22.254240036010742,
           22.426082611083984,
           22.55044174194336,
           22.631507873535156,
           22.67033576965332,
           22.671260833740234,
           22.638599395751953,
           22.57701873779297,
           22.490745544433594,
           22.38620376586914
          ],
          [
           9.388683319091797,
           10.312795639038086,
           11.23604965209961,
           12.15315055847168,
           13.058000564575195,
           13.945972442626953,
           14.80948257446289,
           15.644588470458984,
           16.445018768310547,
           17.20940589904785,
           17.93260955810547,
           18.609790802001953,
           19.241193771362305,
           19.82452964782715,
           20.357027053833008,
           20.838640213012695,
           21.267343521118164,
           21.64339828491211,
           21.96752166748047,
           22.241304397583008,
           22.463632583618164,
           22.636898040771484,
           22.76171875,
           22.843421936035156,
           22.883289337158203,
           22.88432502746582,
           22.853092193603516,
           22.792917251586914,
           22.706735610961914,
           22.602222442626953
          ],
          [
           9.553732872009277,
           10.481857299804688,
           11.409055709838867,
           12.329610824584961,
           13.23798942565918,
           14.129554748535156,
           14.995243072509766,
           15.833003044128418,
           16.635234832763672,
           17.401992797851562,
           18.12718963623047,
           18.80660629272461,
           19.439857482910156,
           20.024551391601562,
           20.55967140197754,
           21.041780471801758,
           21.472248077392578,
           21.850460052490234,
           22.17618179321289,
           22.449691772460938,
           22.673032760620117,
           22.846691131591797,
           22.97373390197754,
           23.056354522705078,
           23.097095489501953,
           23.100513458251953,
           23.069656372070312,
           23.009695053100586,
           22.925025939941406,
           22.82018280029297
          ],
          [
           9.722259521484375,
           10.654308319091797,
           11.585037231445312,
           12.509788513183594,
           13.420757293701172,
           14.314664840698242,
           15.182748794555664,
           16.023426055908203,
           16.82982635498047,
           17.59709930419922,
           18.32384490966797,
           19.0059814453125,
           19.641969680786133,
           20.227325439453125,
           20.762235641479492,
           21.24737548828125,
           21.678808212280273,
           22.058000564575195,
           22.384235382080078,
           22.659629821777344,
           22.884262084960938,
           23.06012725830078,
           23.187583923339844,
           23.270084381103516,
           23.31283187866211,
           23.316789627075195,
           23.287506103515625,
           23.228092193603516,
           23.144498825073242,
           23.042556762695312
          ],
          [
           9.894025802612305,
           10.830312728881836,
           11.76406478881836,
           12.691210746765137,
           13.606372833251953,
           14.501940727233887,
           15.37360954284668,
           16.214954376220703,
           17.02425765991211,
           17.79417610168457,
           18.522674560546875,
           19.20663070678711,
           19.842679977416992,
           20.430561065673828,
           20.967580795288086,
           21.4530029296875,
           21.885704040527344,
           22.266292572021484,
           22.594688415527344,
           22.87118911743164,
           23.095849990844727,
           23.273298263549805,
           23.402523040771484,
           23.488059997558594,
           23.531330108642578,
           23.535531997680664,
           23.507089614868164,
           23.450517654418945,
           23.36676025390625,
           23.265121459960938
          ],
          [
           10.067843437194824,
           11.006998062133789,
           11.94454574584961,
           12.875990867614746,
           13.793022155761719,
           14.692642211914062,
           15.565532684326172,
           16.410011291503906,
           17.221200942993164,
           17.992887496948242,
           18.722339630126953,
           19.407255172729492,
           20.045804977416992,
           20.63539695739746,
           21.1740665435791,
           21.659849166870117,
           22.094017028808594,
           22.475879669189453,
           22.805068969726562,
           23.08346176147461,
           23.310195922851562,
           23.488834381103516,
           23.618539810180664,
           23.70502471923828,
           23.749107360839844,
           23.75578498840332,
           23.728723526000977,
           23.67163848876953,
           23.590194702148438,
           23.48858642578125
          ],
          [
           10.244958877563477,
           11.18697452545166,
           12.128484725952148,
           13.061546325683594,
           13.983026504516602,
           14.883090019226074,
           15.759759902954102,
           16.606382369995117,
           17.418399810791016,
           18.192224502563477,
           18.923233032226562,
           19.61064910888672,
           20.250028610229492,
           20.8409423828125,
           21.38076400756836,
           21.868173599243164,
           22.303499221801758,
           22.686931610107422,
           23.017210006713867,
           23.296884536743164,
           23.524810791015625,
           23.703466415405273,
           23.836881637573242,
           23.923908233642578,
           23.969528198242188,
           23.978179931640625,
           23.952083587646484,
           23.89608383178711,
           23.817184448242188,
           23.715816497802734
          ],
          [
           10.425783157348633,
           11.371173858642578,
           12.315057754516602,
           13.251541137695312,
           14.173888206481934,
           15.07763671875,
           15.95565414428711,
           16.805015563964844,
           17.618135452270508,
           18.3939266204834,
           19.127044677734375,
           19.81490707397461,
           20.455215454101562,
           21.047359466552734,
           21.588504791259766,
           22.077449798583984,
           22.515403747558594,
           22.898340225219727,
           23.229890823364258,
           23.510263442993164,
           23.741235733032227,
           23.921648025512695,
           24.055429458618164,
           24.14444351196289,
           24.191410064697266,
           24.200618743896484,
           24.17632293701172,
           24.12194061279297,
           24.04355812072754,
           23.9449520111084
          ],
          [
           10.609018325805664,
           11.557174682617188,
           12.504104614257812,
           13.442506790161133,
           14.368293762207031,
           15.273309707641602,
           16.154346466064453,
           17.004100799560547,
           17.818729400634766,
           18.59598159790039,
           19.33062744140625,
           20.020782470703125,
           20.663192749023438,
           21.255775451660156,
           21.797456741333008,
           22.28911590576172,
           22.726064682006836,
           23.111343383789062,
           23.445045471191406,
           23.72698402404785,
           23.957561492919922,
           24.139135360717773,
           24.274343490600586,
           24.36601448059082,
           24.414682388305664,
           24.425003051757812,
           24.402076721191406,
           24.34964370727539,
           24.27182960510254,
           24.174846649169922
          ],
          [
           10.794300079345703,
           11.746432304382324,
           12.696166038513184,
           13.636534690856934,
           14.564037322998047,
           15.471027374267578,
           16.354019165039062,
           17.204566955566406,
           18.022659301757812,
           18.80029296875,
           19.53627586364746,
           20.226871490478516,
           20.87000274658203,
           21.464195251464844,
           22.0081787109375,
           22.499217987060547,
           22.93829345703125,
           23.325408935546875,
           23.659788131713867,
           23.942895889282227,
           24.175321578979492,
           24.359506607055664,
           24.49651527404785,
           24.586809158325195,
           24.638219833374023,
           24.650985717773438,
           24.630046844482422,
           24.579618453979492,
           24.50235939025879,
           24.405780792236328
          ],
          [
           10.98294448852539,
           11.937277793884277,
           12.889997482299805,
           13.834144592285156,
           14.762624740600586,
           15.670829772949219,
           16.555795669555664,
           17.408220291137695,
           18.22772789001465,
           19.006046295166016,
           19.742877960205078,
           20.435277938842773,
           21.08011245727539,
           21.674251556396484,
           22.21867561340332,
           22.711822509765625,
           23.152042388916016,
           23.54079818725586,
           23.87653160095215,
           24.160602569580078,
           24.394180297851562,
           24.579587936401367,
           24.71866798400879,
           24.811763763427734,
           24.863645553588867,
           24.878416061401367,
           24.859037399291992,
           24.809436798095703,
           24.733991622924805,
           24.638935089111328
          ],
          [
           11.172979354858398,
           12.131319046020508,
           13.085439682006836,
           14.03117561340332,
           14.962621688842773,
           15.87392807006836,
           16.758930206298828,
           17.613637924194336,
           18.432714462280273,
           19.212209701538086,
           19.95077133178711,
           20.644685745239258,
           21.28936767578125,
           21.886384963989258,
           22.431926727294922,
           22.925525665283203,
           23.366985321044922,
           23.75611114501953,
           24.09347152709961,
           24.37810707092285,
           24.614774703979492,
           24.80042266845703,
           24.94028091430664,
           25.036331176757812,
           25.090791702270508,
           25.107608795166016,
           25.089038848876953,
           25.041400909423828,
           24.96828269958496,
           24.875696182250977
          ]
         ]
        },
        {
         "opacity": 0.5,
         "showscale": false,
         "type": "surface",
         "x": [
          1.9642857313156128,
          2.0012314319610596,
          2.038177251815796,
          2.0751230716705322,
          2.1120688915252686,
          2.149014711380005,
          2.185960531234741,
          2.2229063510894775,
          2.259852170944214,
          2.29679799079895,
          2.3337438106536865,
          2.370689630508423,
          2.407635450363159,
          2.4445812702178955,
          2.481527090072632,
          2.518472909927368,
          2.5554187297821045,
          2.592364549636841,
          2.629310369491577,
          2.6662561893463135,
          2.70320200920105,
          2.740147829055786,
          2.7770936489105225,
          2.814039468765259,
          2.850985288619995,
          2.8879311084747314,
          2.9248769283294678,
          2.961822748184204,
          2.9987685680389404,
          3.0357143878936768
         ],
         "y": [
          0.3392857313156128,
          0.5055418610572815,
          0.6717979907989502,
          0.8380541801452637,
          1.0043103694915771,
          1.170566439628601,
          1.3368226289749146,
          1.5030786991119385,
          1.669334888458252,
          1.8355910778045654,
          2.001847267150879,
          2.1681032180786133,
          2.3343594074249268,
          2.5006155967712402,
          2.6668717861175537,
          2.833127975463867,
          2.9993841648101807,
          3.165640354156494,
          3.3318965435028076,
          3.498152732849121,
          3.6644086837768555,
          3.830665111541748,
          3.9969210624694824,
          4.163177490234375,
          4.329433441162109,
          4.495689392089844,
          4.661945819854736,
          4.828201770782471,
          4.994458198547363,
          5.160714149475098
         ],
         "z": [
          [
           -4.842291355133057,
           -3.5979628562927246,
           -2.4182543754577637,
           -1.3043432235717773,
           -0.2521519660949707,
           0.7380490303039551,
           1.6698684692382812,
           2.543328285217285,
           3.3629894256591797,
           4.126699447631836,
           4.837724685668945,
           5.498255252838135,
           6.1094889640808105,
           6.668969631195068,
           7.179257869720459,
           7.640304088592529,
           8.055624008178711,
           8.418500900268555,
           8.734671592712402,
           8.999837875366211,
           9.216031074523926,
           9.381479263305664,
           9.495026588439941,
           9.55356216430664,
           9.558188438415527,
           9.504464149475098,
           9.390331268310547,
           9.215246200561523,
           8.972793579101562,
           8.66140365600586
          ],
          [
           -4.6165924072265625,
           -3.372401237487793,
           -2.1943092346191406,
           -1.0810432434082031,
           -0.029624462127685547,
           0.9595932960510254,
           1.890641689300537,
           2.7642993927001953,
           3.5815649032592773,
           4.345318794250488,
           5.056710243225098,
           5.717571258544922,
           6.327719688415527,
           6.8868021965026855,
           7.398266315460205,
           7.859685897827148,
           8.273750305175781,
           8.639741897583008,
           8.95585823059082,
           9.22271728515625,
           9.438926696777344,
           9.606588363647461,
           9.720199584960938,
           9.780925750732422,
           9.786490440368652,
           9.733457565307617,
           9.621103286743164,
           9.446110725402832,
           9.205354690551758,
           8.895475387573242
          ],
          [
           -4.395457744598389,
           -3.1517281532287598,
           -1.973177433013916,
           -0.8606882095336914,
           0.18974828720092773,
           1.1785521507263184,
           2.1083526611328125,
           2.980574607849121,
           3.797924041748047,
           4.5612874031066895,
           5.271646022796631,
           5.932016372680664,
           6.541665554046631,
           7.101797103881836,
           7.61422061920166,
           8.077003479003906,
           8.490655899047852,
           8.856462478637695,
           9.173757553100586,
           9.442232131958008,
           9.658943176269531,
           9.827486038208008,
           9.943743705749512,
           10.005465507507324,
           10.011959075927734,
           9.96031379699707,
           9.848186492919922,
           9.67431354522705,
           9.434441566467285,
           9.123903274536133
          ],
          [
           -4.177384376525879,
           -2.933185577392578,
           -1.7565836906433105,
           -0.6432757377624512,
           0.40568971633911133,
           1.3937854766845703,
           2.322844982147217,
           3.1946396827697754,
           4.011058807373047,
           4.773889541625977,
           5.485239028930664,
           6.144912242889404,
           6.753941059112549,
           7.31472110748291,
           7.825933933258057,
           8.289762496948242,
           8.70487117767334,
           9.070978164672852,
           9.390068054199219,
           9.657939910888672,
           9.87685489654541,
           10.04515266418457,
           10.161582946777344,
           10.225707054138184,
           10.233894348144531,
           10.183449745178223,
           10.073448181152344,
           9.899349212646484,
           9.659517288208008,
           9.349762916564941
          ],
          [
           -3.9629745483398438,
           -2.719115734100342,
           -1.5417943000793457,
           -0.4301166534423828,
           0.6184239387512207,
           1.6068940162658691,
           2.53524112701416,
           3.4046950340270996,
           4.2216010093688965,
           4.983575344085693,
           5.6931376457214355,
           6.353453636169434,
           6.962923526763916,
           7.523464679718018,
           8.03600025177002,
           8.500200271606445,
           8.91550064086914,
           9.282392501831055,
           9.601987838745117,
           9.87105941772461,
           10.091453552246094,
           10.261390686035156,
           10.37802505493164,
           10.443107604980469,
           10.451559066772461,
           10.402652740478516,
           10.293172836303711,
           10.119955062866211,
           9.880829811096191,
           9.572219848632812
          ],
          [
           -3.7522473335266113,
           -2.508617877960205,
           -1.3321795463562012,
           -0.22002220153808594,
           0.8280858993530273,
           1.8138189315795898,
           2.741569995880127,
           3.61177396774292,
           4.428147315979004,
           5.189821720123291,
           5.899935245513916,
           6.559719562530518,
           7.17000150680542,
           7.7307820320129395,
           8.242989540100098,
           8.707451820373535,
           9.123014450073242,
           9.490865707397461,
           9.810651779174805,
           10.082104682922363,
           10.303519248962402,
           10.472976684570312,
           10.591837882995605,
           10.65631103515625,
           10.666147232055664,
           10.619312286376953,
           10.510400772094727,
           10.338014602661133,
           10.098249435424805,
           9.789977073669434
          ],
          [
           -3.5447916984558105,
           -2.3016724586486816,
           -1.1247882843017578,
           -0.013743877410888672,
           1.0331544876098633,
           2.019679546356201,
           2.9455013275146484,
           3.8157129287719727,
           4.631330490112305,
           5.393188953399658,
           6.10352087020874,
           6.7625508308410645,
           7.372270584106445,
           7.933207988739014,
           8.446441650390625,
           8.911722183227539,
           9.327293395996094,
           9.696305274963379,
           10.01805591583252,
           10.289207458496094,
           10.511608123779297,
           10.683478355407715,
           10.802444458007812,
           10.868053436279297,
           10.879077911376953,
           10.830408096313477,
           10.722511291503906,
           10.551308631896973,
           10.313323974609375,
           10.004657745361328
          ],
          [
           -3.3424549102783203,
           -2.0986223220825195,
           -0.922236442565918,
           0.1888594627380371,
           1.2352294921875,
           2.220820426940918,
           3.1466245651245117,
           4.016699314117432,
           4.830935955047607,
           5.5930280685424805,
           6.302330017089844,
           6.961848735809326,
           7.572803974151611,
           8.134734153747559,
           8.647628784179688,
           9.112497329711914,
           9.530170440673828,
           9.900165557861328,
           10.220914840698242,
           10.493364334106445,
           10.716575622558594,
           10.889009475708008,
           11.009092330932617,
           11.07539176940918,
           11.085732460021973,
           11.039703369140625,
           10.931999206542969,
           10.760889053344727,
           10.522461891174316,
           10.214374542236328
          ],
          [
           -3.1425533294677734,
           -1.898188591003418,
           -0.7225203514099121,
           0.38655900955200195,
           1.433485984802246,
           2.4189515113830566,
           3.344499111175537,
           4.21351957321167,
           5.02822208404541,
           5.789934158325195,
           6.4995527267456055,
           7.159195899963379,
           7.770477294921875,
           8.331544876098633,
           8.84517765045166,
           9.31158447265625,
           9.730101585388184,
           10.100380897521973,
           10.422286987304688,
           10.695335388183594,
           10.918829917907715,
           11.091897010803223,
           11.213376998901367,
           11.279078483581543,
           11.290903091430664,
           11.244150161743164,
           11.138334274291992,
           10.96734619140625,
           10.72882080078125,
           10.420480728149414
          ],
          [
           -2.946744441986084,
           -1.7034502029418945,
           -0.527458667755127,
           0.5829181671142578,
           1.628270149230957,
           2.613442897796631,
           3.537886619567871,
           4.40789270401001,
           5.221153736114502,
           5.98280668258667,
           6.69234561920166,
           7.352906703948975,
           7.963500022888184,
           8.52627944946289,
           9.04141616821289,
           9.507895469665527,
           9.925613403320312,
           10.297151565551758,
           10.619828224182129,
           10.892810821533203,
           11.117354393005371,
           11.290876388549805,
           11.412567138671875,
           11.480045318603516,
           11.493640899658203,
           11.447145462036133,
           11.340471267700195,
           11.169672012329102,
           10.93088150024414,
           10.621978759765625
          ],
          [
           -2.7551369667053223,
           -1.5117197036743164,
           -0.335634708404541,
           0.7730083465576172,
           1.8188552856445312,
           2.8036885261535645,
           3.7287559509277344,
           4.59755802154541,
           5.411337852478027,
           6.173406600952148,
           6.883729934692383,
           7.543915271759033,
           8.154233932495117,
           8.718132019042969,
           9.23264217376709,
           9.700448989868164,
           10.119077682495117,
           10.49068546295166,
           10.81406021118164,
           11.089239120483398,
           11.31301498413086,
           11.488351821899414,
           11.609691619873047,
           11.677799224853516,
           11.690872192382812,
           11.645627975463867,
           11.537765502929688,
           11.368368148803711,
           11.130544662475586,
           10.819937705993652
          ],
          [
           -2.5675487518310547,
           -1.3237419128417969,
           -0.1480703353881836,
           0.9605021476745605,
           2.006196975708008,
           2.9910244941711426,
           3.916109561920166,
           4.784065246582031,
           5.598272323608398,
           6.359737873077393,
           7.070871353149414,
           7.731654167175293,
           8.342777252197266,
           8.906328201293945,
           9.421365737915039,
           9.889139175415039,
           10.309440612792969,
           10.68167781829834,
           11.006410598754883,
           11.280470848083496,
           11.505535125732422,
           11.682055473327637,
           11.804407119750977,
           11.873004913330078,
           11.886150360107422,
           11.839315414428711,
           11.733969688415527,
           11.562614440917969,
           11.32462215423584,
           11.015241622924805
          ],
          [
           -2.3831963539123535,
           -1.1401405334472656,
           0.034905433654785156,
           1.1447811126708984,
           2.189950466156006,
           3.1742472648620605,
           4.098617076873779,
           4.9677839279174805,
           5.78247594833374,
           6.5444746017456055,
           7.255717754364014,
           7.916712760925293,
           8.528953552246094,
           9.092055320739746,
           9.608421325683594,
           10.077104568481445,
           10.497476577758789,
           10.870929718017578,
           11.195417404174805,
           11.47153091430664,
           11.69648551940918,
           11.872268676757812,
           11.995491981506348,
           12.062906265258789,
           12.076761245727539,
           12.03123664855957,
           11.926027297973633,
           11.754106521606445,
           11.51501178741455,
           11.206512451171875
          ],
          [
           -2.2039852142333984,
           -0.9607491493225098,
           0.21530723571777344,
           1.3247413635253906,
           2.368844985961914,
           3.3530545234680176,
           4.277859210968018,
           5.14724063873291,
           5.962924957275391,
           6.7247209548950195,
           7.436176776885986,
           8.09727954864502,
           8.710290908813477,
           9.27528190612793,
           9.790504455566406,
           10.260966300964355,
           10.681897163391113,
           11.055177688598633,
           11.380250930786133,
           11.657334327697754,
           11.883224487304688,
           12.059385299682617,
           12.182222366333008,
           12.252326965332031,
           12.265817642211914,
           12.219279289245605,
           12.112527847290039,
           11.941286087036133,
           11.702598571777344,
           11.392690658569336
          ],
          [
           -2.0290026664733887,
           -0.7858166694641113,
           0.39076709747314453,
           1.4995837211608887,
           2.545104503631592,
           3.529773235321045,
           4.454804420471191,
           5.32399845123291,
           6.13989782333374,
           6.902777671813965,
           7.614829063415527,
           8.275901794433594,
           8.889898300170898,
           9.454862594604492,
           9.972249984741211,
           10.441953659057617,
           10.863340377807617,
           11.238466262817383,
           11.56301212310791,
           11.840158462524414,
           12.067920684814453,
           12.243375778198242,
           12.366978645324707,
           12.437023162841797,
           12.450187683105469,
           12.40394401550293,
           12.296549797058105,
           12.12689208984375,
           11.886218070983887,
           11.575647354125977
          ],
          [
           -1.858245849609375,
           -0.614171028137207,
           0.5621457099914551,
           1.6716361045837402,
           2.717336654663086,
           3.7012624740600586,
           4.627468585968018,
           5.49746561050415,
           6.313364505767822,
           7.075757026672363,
           7.789031982421875,
           8.450916290283203,
           9.064607620239258,
           9.630701065063477,
           10.148625373840332,
           10.619487762451172,
           11.042619705200195,
           11.418022155761719,
           11.74461555480957,
           12.020816802978516,
           12.247694969177246,
           12.423908233642578,
           12.54855728149414,
           12.618124008178711,
           12.629997253417969,
           12.585766792297363,
           12.476568222045898,
           12.304967880249023,
           12.065292358398438,
           11.75364875793457
          ],
          [
           -1.690971851348877,
           -0.4464263916015625,
           0.7300148010253906,
           1.839714527130127,
           2.8847813606262207,
           3.8706798553466797,
           4.796989917755127,
           5.667054653167725,
           6.482771873474121,
           7.246663570404053,
           7.95997953414917,
           8.623096466064453,
           9.238377571105957,
           9.8053560256958,
           10.323675155639648,
           10.795415878295898,
           11.21859359741211,
           11.59406566619873,
           11.922187805175781,
           12.198482513427734,
           12.426261901855469,
           12.602849006652832,
           12.726384162902832,
           12.796764373779297,
           12.808334350585938,
           12.763094902038574,
           12.654886245727539,
           12.482831954956055,
           12.240640640258789,
           11.929159164428711
          ],
          [
           -1.5276823043823242,
           -0.28327035903930664,
           0.8933939933776855,
           2.003239631652832,
           3.0495781898498535,
           4.0352582931518555,
           4.962034702301025,
           5.83357572555542,
           6.64970064163208,
           7.415196418762207,
           8.129045486450195,
           8.792808532714844,
           9.408771514892578,
           9.976325988769531,
           10.496271133422852,
           10.967193603515625,
           11.391173362731934,
           11.769054412841797,
           12.094670295715332,
           12.373600006103516,
           12.602164268493652,
           12.778888702392578,
           12.90162467956543,
           12.970748901367188,
           12.983192443847656,
           12.936880111694336,
           12.828794479370117,
           12.65371036529541,
           12.413579940795898,
           12.100358963012695
          ],
          [
           -1.3696365356445312,
           -0.12461090087890625,
           1.0521869659423828,
           2.1629929542541504,
           3.209580421447754,
           4.195906162261963,
           5.123338222503662,
           5.995267391204834,
           6.812877655029297,
           7.57872200012207,
           8.293983459472656,
           8.959020614624023,
           9.574974060058594,
           10.144472122192383,
           10.664407730102539,
           11.137189865112305,
           11.561994552612305,
           11.938716888427734,
           12.265480041503906,
           12.544445037841797,
           12.773172378540039,
           12.949962615966797,
           13.072672843933105,
           13.141998291015625,
           13.154928207397461,
           13.107128143310547,
           12.998188972473145,
           12.824416160583496,
           12.581588745117188,
           12.26718521118164
          ],
          [
           -1.2147870063781738,
           0.031023025512695312,
           1.2083544731140137,
           2.3195743560791016,
           3.3668723106384277,
           4.353901386260986,
           5.282382965087891,
           6.155284881591797,
           6.973019599914551,
           7.739881992340088,
           8.457107543945312,
           9.121723175048828,
           9.739343643188477,
           10.309328079223633,
           10.830541610717773,
           11.304983139038086,
           11.729795455932617,
           12.106669425964355,
           12.434889793395996,
           12.714818954467773,
           12.942686080932617,
           13.11902904510498,
           13.243232727050781,
           13.309967994689941,
           13.322833061218262,
           13.273946762084961,
           13.16357707977295,
           12.989377975463867,
           12.745481491088867,
           12.430072784423828
          ],
          [
           -1.065382957458496,
           0.18129682540893555,
           1.3595681190490723,
           2.4712390899658203,
           3.5198922157287598,
           4.508208751678467,
           5.437442302703857,
           6.310620307922363,
           7.129481315612793,
           7.897881031036377,
           8.615066528320312,
           9.281352996826172,
           9.900054931640625,
           10.470634460449219,
           10.994108200073242,
           11.468053817749023,
           11.89403247833252,
           12.27265453338623,
           12.60123062133789,
           12.880455017089844,
           13.108285903930664,
           13.285213470458984,
           13.408170700073242,
           13.476917266845703,
           13.487935066223145,
           13.437641143798828,
           13.327873229980469,
           13.150529861450195,
           12.906097412109375,
           12.589065551757812
          ],
          [
           -0.9194560050964355,
           0.32818174362182617,
           1.5068278312683105,
           2.6201629638671875,
           3.6691551208496094,
           4.658060550689697,
           5.587828159332275,
           6.462969779968262,
           7.284499168395996,
           8.052384376525879,
           8.770950317382812,
           9.439398765563965,
           10.059270858764648,
           10.630165100097656,
           11.152872085571289,
           11.628668785095215,
           12.055635452270508,
           12.435232162475586,
           12.763294219970703,
           13.043563842773438,
           13.272055625915527,
           13.448731422424316,
           13.570297241210938,
           13.638187408447266,
           13.649150848388672,
           13.599294662475586,
           13.487953186035156,
           13.30908489227295,
           13.063577651977539,
           12.745597839355469
          ],
          [
           -0.7777462005615234,
           0.4715142250061035,
           1.6500663757324219,
           2.7639360427856445,
           3.8145947456359863,
           4.8047685623168945,
           5.735834121704102,
           6.61128568649292,
           7.4338178634643555,
           8.203939437866211,
           8.923683166503906,
           9.594219207763672,
           10.214029312133789,
           10.786303520202637,
           11.311784744262695,
           11.787301063537598,
           12.214951515197754,
           12.594127655029297,
           12.923935890197754,
           13.20407485961914,
           13.431562423706055,
           13.608606338500977,
           13.730358123779297,
           13.798141479492188,
           13.80760669708252,
           13.756528854370117,
           13.643369674682617,
           13.465566635131836,
           13.217292785644531,
           12.898032188415527
          ],
          [
           -0.641016960144043,
           0.6083049774169922,
           1.7889208793640137,
           2.904351234436035,
           3.9560699462890625,
           4.948051929473877,
           5.879848003387451,
           6.757049083709717,
           7.581602096557617,
           8.352884292602539,
           9.073627471923828,
           9.744180679321289,
           10.366373062133789,
           10.94084358215332,
           11.46662712097168,
           11.942758560180664,
           12.370896339416504,
           12.750751495361328,
           13.080742835998535,
           13.360943794250488,
           13.589286804199219,
           13.766117095947266,
           13.887388229370117,
           13.9542236328125,
           13.960922241210938,
           13.910299301147461,
           13.797712326049805,
           13.61651611328125,
           13.366905212402344,
           13.045661926269531
          ],
          [
           -0.5075850486755371,
           0.7418050765991211,
           1.924318790435791,
           3.0400848388671875,
           4.094191074371338,
           5.085728645324707,
           6.020582675933838,
           6.899546146392822,
           7.724247932434082,
           8.498273849487305,
           9.219414710998535,
           9.892350196838379,
           10.515665054321289,
           11.091743469238281,
           11.617351531982422,
           12.095762252807617,
           12.524694442749023,
           12.90493392944336,
           13.234811782836914,
           13.515684127807617,
           13.74381160736084,
           13.918672561645508,
           14.041116714477539,
           14.106433868408203,
           14.114524841308594,
           14.061927795410156,
           13.945446014404297,
           13.764141082763672,
           13.514915466308594,
           13.19147777557373
          ],
          [
           -0.37786245346069336,
           0.8730349540710449,
           2.056105136871338,
           3.1733317375183105,
           4.227547645568848,
           5.222236633300781,
           6.157695293426514,
           7.0388031005859375,
           7.865331649780273,
           8.640321731567383,
           9.36423397064209,
           10.037700653076172,
           10.662040710449219,
           11.238842010498047,
           11.766057014465332,
           12.245861053466797,
           12.676070213317871,
           13.055830001831055,
           13.386388778686523,
           13.666563034057617,
           13.895551681518555,
           14.070608139038086,
           14.191709518432617,
           14.25699234008789,
           14.2627592086792,
           14.209606170654297,
           14.092300415039062,
           13.908401489257812,
           13.656705856323242,
           13.332460403442383
          ],
          [
           -0.2525038719177246,
           0.998558521270752,
           2.1834640502929688,
           3.3017020225524902,
           4.35833740234375,
           5.3537116050720215,
           6.2920122146606445,
           7.173702716827393,
           8.001651763916016,
           8.778109550476074,
           9.504402160644531,
           10.18045711517334,
           10.806602478027344,
           11.383941650390625,
           11.912572860717773,
           12.393568992614746,
           12.823808670043945,
           13.204155921936035,
           13.535492897033691,
           13.81605339050293,
           14.044461250305176,
           14.218355178833008,
           14.339006423950195,
           14.403585433959961,
           14.408628463745117,
           14.353385925292969,
           14.235687255859375,
           14.049839973449707,
           13.796598434448242,
           13.47072982788086
          ],
          [
           -0.13212251663208008,
           1.121800422668457,
           2.3078088760375977,
           3.4270105361938477,
           4.484858989715576,
           5.482166290283203,
           6.422416687011719,
           7.305268287658691,
           8.136589050292969,
           8.914619445800781,
           9.64250373840332,
           10.31909465789795,
           10.947449684143066,
           11.526106834411621,
           12.056342124938965,
           12.536983489990234,
           12.968025207519531,
           13.350440979003906,
           13.681100845336914,
           13.962446212768555,
           14.189981460571289,
           14.365171432495117,
           14.48499870300293,
           14.546072006225586,
           14.550325393676758,
           14.494590759277344,
           14.37490463256836,
           14.189004898071289,
           13.932279586791992,
           13.605029106140137
          ],
          [
           -0.015102386474609375,
           1.239548683166504,
           2.4274535179138184,
           3.549713134765625,
           4.6085381507873535,
           5.6065826416015625,
           6.549742221832275,
           7.434622287750244,
           8.268434524536133,
           9.047734260559082,
           9.77672290802002,
           10.455415725708008,
           11.085972785949707,
           11.664685249328613,
           12.197408676147461,
           12.67887020111084,
           13.110721588134766,
           13.493450164794922,
           13.825685501098633,
           14.10509204864502,
           14.333427429199219,
           14.506418228149414,
           14.626127243041992,
           14.688305854797363,
           14.691110610961914,
           14.633371353149414,
           14.512125015258789,
           14.322466850280762,
           14.065881729125977,
           13.736133575439453
          ],
          [
           0.09759759902954102,
           1.3541007041931152,
           2.5425586700439453,
           3.6661581993103027,
           4.727876663208008,
           5.729656219482422,
           6.672778606414795,
           7.5612359046936035,
           8.395479202270508,
           9.176530838012695,
           9.908672332763672,
           10.589757919311523,
           11.220465660095215,
           11.803136825561523,
           12.33474349975586,
           12.817707061767578,
           13.25124740600586,
           13.634583473205566,
           13.965191841125488,
           14.24500846862793,
           14.474161148071289,
           14.646912574768066,
           14.76486587524414,
           14.826042175292969,
           14.828222274780273,
           14.768437385559082,
           14.644429206848145,
           14.453783988952637,
           14.19487190246582,
           13.863630294799805
          ]
         ]
        },
        {
         "marker": {
          "color": "darkgreen"
         },
         "mode": "markers",
         "name": "training data",
         "type": "scatter3d",
         "x": [
          2,
          2,
          2.200000047683716,
          2.200000047683716,
          2.200000047683716,
          2.200000047683716,
          2.5,
          2.5,
          2.5,
          2.5,
          2.5,
          2.700000047683716,
          2.700000047683716,
          2.700000047683716,
          2.700000047683716,
          2.700000047683716,
          3,
          3,
          3,
          3,
          3
         ],
         "y": [
          2,
          5,
          1,
          1.5,
          2,
          5,
          0.5,
          1,
          1.5,
          2,
          5,
          0.5,
          1,
          1.5,
          2,
          5,
          0.5,
          1,
          1.5,
          2,
          5
         ],
         "z": [
          1.3899999856948853,
          3.940000057220459,
          4.690000057220459,
          13.819999694824219,
          13.8100004196167,
          13.390000343322754,
          2.2300000190734863,
          12.460000038146973,
          13.739999771118164,
          19.709999084472656,
          15.220000267028809,
          11.989999771118164,
          16.40999984741211,
          18.350000381469727,
          17.969999313354492,
          18.670000076293945,
          14.649999618530273,
          15.4399995803833,
          15.329999923706055,
          13.430000305175781,
          20.139999389648438
         ]
        },
        {
         "mode": "markers",
         "name": "max(upper confidence bound)",
         "type": "scatter3d",
         "x": [
          2.8879311084747314
         ],
         "y": [
          5.160714149475098
         ],
         "z": [
          18.63870620727539
         ]
        },
        {
         "mode": "markers",
         "name": "max(thompson)",
         "type": "scatter3d",
         "x": [
          2.850985288619995
         ],
         "y": [
          5.160714149475098
         ],
         "z": [
          18.45364761352539
         ]
        },
        {
         "mode": "markers",
         "name": "max(pi)",
         "type": "scatter3d",
         "x": [
          2.850985288619995
         ],
         "y": [
          5.160714149475098
         ],
         "z": [
          18.45364761352539
         ]
        },
        {
         "mode": "markers",
         "name": "max(ei)",
         "type": "scatter3d",
         "x": [
          2.850985288619995
         ],
         "y": [
          5.160714149475098
         ],
         "z": [
          18.45364761352539
         ]
        },
        {
         "mode": "markers",
         "name": "max(ca)",
         "type": "scatter3d",
         "x": [
          3.0357143878936768
         ],
         "y": [
          5.160714149475098
         ],
         "z": [
          19.36966323852539
         ]
        }
       ],
       "layout": {
        "height": 600,
        "legend": {
         "orientation": "h",
         "x": 1,
         "xanchor": "right",
         "y": 1.02,
         "yanchor": "bottom"
        },
        "margin": {
         "b": 10,
         "l": 10,
         "r": 20,
         "t": 10
        },
        "scene": {
         "aspectmode": "auto",
         "aspectratio": {
          "x": 1,
          "y": 1,
          "z": 1
         },
         "camera": {
          "center": {
           "x": 0,
           "y": 0,
           "z": 0
          },
          "eye": {
           "x": 1.633815117588353,
           "y": -1.3857104700200906,
           "z": 0.31297708353241516
          },
          "projection": {
           "type": "perspective"
          },
          "up": {
           "x": 0,
           "y": 0,
           "z": 1
          }
         },
         "xaxis": {
          "title": {
           "text": "Flash voltage (kV)"
          },
          "type": "linear"
         },
         "yaxis": {
          "title": {
           "text": "Flash time (msec)"
          },
          "type": "linear"
         },
         "zaxis": {
          "title": {
           "text": "Pr (uC/cm^2), Pristine"
          },
          "type": "linear"
         }
        },
        "template": {
         "data": {
          "bar": [
           {
            "error_x": {
             "color": "#2a3f5f"
            },
            "error_y": {
             "color": "#2a3f5f"
            },
            "marker": {
             "line": {
              "color": "#E5ECF6",
              "width": 0.5
             },
             "pattern": {
              "fillmode": "overlay",
              "size": 10,
              "solidity": 0.2
             }
            },
            "type": "bar"
           }
          ],
          "barpolar": [
           {
            "marker": {
             "line": {
              "color": "#E5ECF6",
              "width": 0.5
             },
             "pattern": {
              "fillmode": "overlay",
              "size": 10,
              "solidity": 0.2
             }
            },
            "type": "barpolar"
           }
          ],
          "carpet": [
           {
            "aaxis": {
             "endlinecolor": "#2a3f5f",
             "gridcolor": "white",
             "linecolor": "white",
             "minorgridcolor": "white",
             "startlinecolor": "#2a3f5f"
            },
            "baxis": {
             "endlinecolor": "#2a3f5f",
             "gridcolor": "white",
             "linecolor": "white",
             "minorgridcolor": "white",
             "startlinecolor": "#2a3f5f"
            },
            "type": "carpet"
           }
          ],
          "choropleth": [
           {
            "colorbar": {
             "outlinewidth": 0,
             "ticks": ""
            },
            "type": "choropleth"
           }
          ],
          "contour": [
           {
            "colorbar": {
             "outlinewidth": 0,
             "ticks": ""
            },
            "colorscale": [
             [
              0,
              "#0d0887"
             ],
             [
              0.1111111111111111,
              "#46039f"
             ],
             [
              0.2222222222222222,
              "#7201a8"
             ],
             [
              0.3333333333333333,
              "#9c179e"
             ],
             [
              0.4444444444444444,
              "#bd3786"
             ],
             [
              0.5555555555555556,
              "#d8576b"
             ],
             [
              0.6666666666666666,
              "#ed7953"
             ],
             [
              0.7777777777777778,
              "#fb9f3a"
             ],
             [
              0.8888888888888888,
              "#fdca26"
             ],
             [
              1,
              "#f0f921"
             ]
            ],
            "type": "contour"
           }
          ],
          "contourcarpet": [
           {
            "colorbar": {
             "outlinewidth": 0,
             "ticks": ""
            },
            "type": "contourcarpet"
           }
          ],
          "heatmap": [
           {
            "colorbar": {
             "outlinewidth": 0,
             "ticks": ""
            },
            "colorscale": [
             [
              0,
              "#0d0887"
             ],
             [
              0.1111111111111111,
              "#46039f"
             ],
             [
              0.2222222222222222,
              "#7201a8"
             ],
             [
              0.3333333333333333,
              "#9c179e"
             ],
             [
              0.4444444444444444,
              "#bd3786"
             ],
             [
              0.5555555555555556,
              "#d8576b"
             ],
             [
              0.6666666666666666,
              "#ed7953"
             ],
             [
              0.7777777777777778,
              "#fb9f3a"
             ],
             [
              0.8888888888888888,
              "#fdca26"
             ],
             [
              1,
              "#f0f921"
             ]
            ],
            "type": "heatmap"
           }
          ],
          "heatmapgl": [
           {
            "colorbar": {
             "outlinewidth": 0,
             "ticks": ""
            },
            "colorscale": [
             [
              0,
              "#0d0887"
             ],
             [
              0.1111111111111111,
              "#46039f"
             ],
             [
              0.2222222222222222,
              "#7201a8"
             ],
             [
              0.3333333333333333,
              "#9c179e"
             ],
             [
              0.4444444444444444,
              "#bd3786"
             ],
             [
              0.5555555555555556,
              "#d8576b"
             ],
             [
              0.6666666666666666,
              "#ed7953"
             ],
             [
              0.7777777777777778,
              "#fb9f3a"
             ],
             [
              0.8888888888888888,
              "#fdca26"
             ],
             [
              1,
              "#f0f921"
             ]
            ],
            "type": "heatmapgl"
           }
          ],
          "histogram": [
           {
            "marker": {
             "pattern": {
              "fillmode": "overlay",
              "size": 10,
              "solidity": 0.2
             }
            },
            "type": "histogram"
           }
          ],
          "histogram2d": [
           {
            "colorbar": {
             "outlinewidth": 0,
             "ticks": ""
            },
            "colorscale": [
             [
              0,
              "#0d0887"
             ],
             [
              0.1111111111111111,
              "#46039f"
             ],
             [
              0.2222222222222222,
              "#7201a8"
             ],
             [
              0.3333333333333333,
              "#9c179e"
             ],
             [
              0.4444444444444444,
              "#bd3786"
             ],
             [
              0.5555555555555556,
              "#d8576b"
             ],
             [
              0.6666666666666666,
              "#ed7953"
             ],
             [
              0.7777777777777778,
              "#fb9f3a"
             ],
             [
              0.8888888888888888,
              "#fdca26"
             ],
             [
              1,
              "#f0f921"
             ]
            ],
            "type": "histogram2d"
           }
          ],
          "histogram2dcontour": [
           {
            "colorbar": {
             "outlinewidth": 0,
             "ticks": ""
            },
            "colorscale": [
             [
              0,
              "#0d0887"
             ],
             [
              0.1111111111111111,
              "#46039f"
             ],
             [
              0.2222222222222222,
              "#7201a8"
             ],
             [
              0.3333333333333333,
              "#9c179e"
             ],
             [
              0.4444444444444444,
              "#bd3786"
             ],
             [
              0.5555555555555556,
              "#d8576b"
             ],
             [
              0.6666666666666666,
              "#ed7953"
             ],
             [
              0.7777777777777778,
              "#fb9f3a"
             ],
             [
              0.8888888888888888,
              "#fdca26"
             ],
             [
              1,
              "#f0f921"
             ]
            ],
            "type": "histogram2dcontour"
           }
          ],
          "mesh3d": [
           {
            "colorbar": {
             "outlinewidth": 0,
             "ticks": ""
            },
            "type": "mesh3d"
           }
          ],
          "parcoords": [
           {
            "line": {
             "colorbar": {
              "outlinewidth": 0,
              "ticks": ""
             }
            },
            "type": "parcoords"
           }
          ],
          "pie": [
           {
            "automargin": true,
            "type": "pie"
           }
          ],
          "scatter": [
           {
            "marker": {
             "colorbar": {
              "outlinewidth": 0,
              "ticks": ""
             }
            },
            "type": "scatter"
           }
          ],
          "scatter3d": [
           {
            "line": {
             "colorbar": {
              "outlinewidth": 0,
              "ticks": ""
             }
            },
            "marker": {
             "colorbar": {
              "outlinewidth": 0,
              "ticks": ""
             }
            },
            "type": "scatter3d"
           }
          ],
          "scattercarpet": [
           {
            "marker": {
             "colorbar": {
              "outlinewidth": 0,
              "ticks": ""
             }
            },
            "type": "scattercarpet"
           }
          ],
          "scattergeo": [
           {
            "marker": {
             "colorbar": {
              "outlinewidth": 0,
              "ticks": ""
             }
            },
            "type": "scattergeo"
           }
          ],
          "scattergl": [
           {
            "marker": {
             "colorbar": {
              "outlinewidth": 0,
              "ticks": ""
             }
            },
            "type": "scattergl"
           }
          ],
          "scattermapbox": [
           {
            "marker": {
             "colorbar": {
              "outlinewidth": 0,
              "ticks": ""
             }
            },
            "type": "scattermapbox"
           }
          ],
          "scatterpolar": [
           {
            "marker": {
             "colorbar": {
              "outlinewidth": 0,
              "ticks": ""
             }
            },
            "type": "scatterpolar"
           }
          ],
          "scatterpolargl": [
           {
            "marker": {
             "colorbar": {
              "outlinewidth": 0,
              "ticks": ""
             }
            },
            "type": "scatterpolargl"
           }
          ],
          "scatterternary": [
           {
            "marker": {
             "colorbar": {
              "outlinewidth": 0,
              "ticks": ""
             }
            },
            "type": "scatterternary"
           }
          ],
          "surface": [
           {
            "colorbar": {
             "outlinewidth": 0,
             "ticks": ""
            },
            "colorscale": [
             [
              0,
              "#0d0887"
             ],
             [
              0.1111111111111111,
              "#46039f"
             ],
             [
              0.2222222222222222,
              "#7201a8"
             ],
             [
              0.3333333333333333,
              "#9c179e"
             ],
             [
              0.4444444444444444,
              "#bd3786"
             ],
             [
              0.5555555555555556,
              "#d8576b"
             ],
             [
              0.6666666666666666,
              "#ed7953"
             ],
             [
              0.7777777777777778,
              "#fb9f3a"
             ],
             [
              0.8888888888888888,
              "#fdca26"
             ],
             [
              1,
              "#f0f921"
             ]
            ],
            "type": "surface"
           }
          ],
          "table": [
           {
            "cells": {
             "fill": {
              "color": "#EBF0F8"
             },
             "line": {
              "color": "white"
             }
            },
            "header": {
             "fill": {
              "color": "#C8D4E3"
             },
             "line": {
              "color": "white"
             }
            },
            "type": "table"
           }
          ]
         },
         "layout": {
          "annotationdefaults": {
           "arrowcolor": "#2a3f5f",
           "arrowhead": 0,
           "arrowwidth": 1
          },
          "autotypenumbers": "strict",
          "coloraxis": {
           "colorbar": {
            "outlinewidth": 0,
            "ticks": ""
           }
          },
          "colorscale": {
           "diverging": [
            [
             0,
             "#8e0152"
            ],
            [
             0.1,
             "#c51b7d"
            ],
            [
             0.2,
             "#de77ae"
            ],
            [
             0.3,
             "#f1b6da"
            ],
            [
             0.4,
             "#fde0ef"
            ],
            [
             0.5,
             "#f7f7f7"
            ],
            [
             0.6,
             "#e6f5d0"
            ],
            [
             0.7,
             "#b8e186"
            ],
            [
             0.8,
             "#7fbc41"
            ],
            [
             0.9,
             "#4d9221"
            ],
            [
             1,
             "#276419"
            ]
           ],
           "sequential": [
            [
             0,
             "#0d0887"
            ],
            [
             0.1111111111111111,
             "#46039f"
            ],
            [
             0.2222222222222222,
             "#7201a8"
            ],
            [
             0.3333333333333333,
             "#9c179e"
            ],
            [
             0.4444444444444444,
             "#bd3786"
            ],
            [
             0.5555555555555556,
             "#d8576b"
            ],
            [
             0.6666666666666666,
             "#ed7953"
            ],
            [
             0.7777777777777778,
             "#fb9f3a"
            ],
            [
             0.8888888888888888,
             "#fdca26"
            ],
            [
             1,
             "#f0f921"
            ]
           ],
           "sequentialminus": [
            [
             0,
             "#0d0887"
            ],
            [
             0.1111111111111111,
             "#46039f"
            ],
            [
             0.2222222222222222,
             "#7201a8"
            ],
            [
             0.3333333333333333,
             "#9c179e"
            ],
            [
             0.4444444444444444,
             "#bd3786"
            ],
            [
             0.5555555555555556,
             "#d8576b"
            ],
            [
             0.6666666666666666,
             "#ed7953"
            ],
            [
             0.7777777777777778,
             "#fb9f3a"
            ],
            [
             0.8888888888888888,
             "#fdca26"
            ],
            [
             1,
             "#f0f921"
            ]
           ]
          },
          "colorway": [
           "#636efa",
           "#EF553B",
           "#00cc96",
           "#ab63fa",
           "#FFA15A",
           "#19d3f3",
           "#FF6692",
           "#B6E880",
           "#FF97FF",
           "#FECB52"
          ],
          "font": {
           "color": "#2a3f5f"
          },
          "geo": {
           "bgcolor": "white",
           "lakecolor": "white",
           "landcolor": "#E5ECF6",
           "showlakes": true,
           "showland": true,
           "subunitcolor": "white"
          },
          "hoverlabel": {
           "align": "left"
          },
          "hovermode": "closest",
          "mapbox": {
           "style": "light"
          },
          "paper_bgcolor": "white",
          "plot_bgcolor": "#E5ECF6",
          "polar": {
           "angularaxis": {
            "gridcolor": "white",
            "linecolor": "white",
            "ticks": ""
           },
           "bgcolor": "#E5ECF6",
           "radialaxis": {
            "gridcolor": "white",
            "linecolor": "white",
            "ticks": ""
           }
          },
          "scene": {
           "xaxis": {
            "backgroundcolor": "#E5ECF6",
            "gridcolor": "white",
            "gridwidth": 2,
            "linecolor": "white",
            "showbackground": true,
            "ticks": "",
            "zerolinecolor": "white"
           },
           "yaxis": {
            "backgroundcolor": "#E5ECF6",
            "gridcolor": "white",
            "gridwidth": 2,
            "linecolor": "white",
            "showbackground": true,
            "ticks": "",
            "zerolinecolor": "white"
           },
           "zaxis": {
            "backgroundcolor": "#E5ECF6",
            "gridcolor": "white",
            "gridwidth": 2,
            "linecolor": "white",
            "showbackground": true,
            "ticks": "",
            "zerolinecolor": "white"
           }
          },
          "shapedefaults": {
           "line": {
            "color": "#2a3f5f"
           }
          },
          "ternary": {
           "aaxis": {
            "gridcolor": "white",
            "linecolor": "white",
            "ticks": ""
           },
           "baxis": {
            "gridcolor": "white",
            "linecolor": "white",
            "ticks": ""
           },
           "bgcolor": "#E5ECF6",
           "caxis": {
            "gridcolor": "white",
            "linecolor": "white",
            "ticks": ""
           }
          },
          "title": {
           "x": 0.05
          },
          "xaxis": {
           "automargin": true,
           "gridcolor": "white",
           "linecolor": "white",
           "ticks": "",
           "title": {
            "standoff": 15
           },
           "zerolinecolor": "white",
           "zerolinewidth": 2
          },
          "yaxis": {
           "automargin": true,
           "gridcolor": "white",
           "linecolor": "white",
           "ticks": "",
           "title": {
            "standoff": 15
           },
           "zerolinecolor": "white",
           "zerolinewidth": 2
          }
         }
        },
        "width": 800
       }
      },
      "text/html": [
       "<div>                            <div id=\"2e234f36-fc13-4619-811e-d1536afb5763\" class=\"plotly-graph-div\" style=\"height:600px; width:800px;\"></div>            <script type=\"text/javascript\">                require([\"plotly\"], function(Plotly) {                    window.PLOTLYENV=window.PLOTLYENV || {};                                    if (document.getElementById(\"2e234f36-fc13-4619-811e-d1536afb5763\")) {                    Plotly.newPlot(                        \"2e234f36-fc13-4619-811e-d1536afb5763\",                        [{\"opacity\":0.5,\"showscale\":false,\"type\":\"surface\",\"x\":[1.9642857313156128,2.0012314319610596,2.038177251815796,2.0751230716705322,2.1120688915252686,2.149014711380005,2.185960531234741,2.2229063510894775,2.259852170944214,2.29679799079895,2.3337438106536865,2.370689630508423,2.407635450363159,2.4445812702178955,2.481527090072632,2.518472909927368,2.5554187297821045,2.592364549636841,2.629310369491577,2.6662561893463135,2.70320200920105,2.740147829055786,2.7770936489105225,2.814039468765259,2.850985288619995,2.8879311084747314,2.9248769283294678,2.961822748184204,2.9987685680389404,3.0357143878936768],\"y\":[0.3392857313156128,0.5055418610572815,0.6717979907989502,0.8380541801452637,1.0043103694915771,1.170566439628601,1.3368226289749146,1.5030786991119385,1.669334888458252,1.8355910778045654,2.001847267150879,2.1681032180786133,2.3343594074249268,2.5006155967712402,2.6668717861175537,2.833127975463867,2.9993841648101807,3.165640354156494,3.3318965435028076,3.498152732849121,3.6644086837768555,3.830665111541748,3.9969210624694824,4.163177490234375,4.329433441162109,4.495689392089844,4.661945819854736,4.828201770782471,4.994458198547363,5.160714149475098],\"z\":[[6.790602207183838,7.624398708343506,8.458362579345703,9.285857200622559,10.104759216308594,10.906551361083984,11.6895751953125,12.447951316833496,13.179071426391602,13.876298904418945,14.538320541381836,15.162946701049805,15.746047973632812,16.284223556518555,16.777841567993164,17.224021911621094,17.62608528137207,17.976099014282227,18.281021118164062,18.53636360168457,18.744976043701172,18.909605026245117,19.028480529785156,19.10666275024414,19.145980834960938,19.14892578125,19.120479583740234,19.065095901489258,18.98723602294922,18.890422821044922],[6.903770446777344,7.742587089538574,8.581096649169922,9.414119720458984,10.237701416015625,11.045358657836914,11.834035873413086,12.598073959350586,13.332566261291504,14.034632682800293,14.701170921325684,15.32937240600586,15.915513038635254,16.456039428710938,16.952388763427734,17.401124954223633,17.802490234375,18.157201766967773,18.46120262145996,18.71778106689453,18.926376342773438,19.09074592590332,19.210533142089844,19.28750228881836,19.325881958007812,19.327157974243164,19.297910690307617,19.240482330322266,19.161901473999023,19.06455421447754],[7.01759672164917,7.861757755279541,8.706644058227539,9.545327186584473,10.373796463012695,11.187726974487305,11.980583190917969,12.74898624420166,13.489253997802734,14.19561767578125,14.865140914916992,15.496763229370117,16.085355758666992,16.629716873168945,17.129013061523438,17.580291748046875,17.98304557800293,18.337942123413086,18.643693923950195,18.900609970092773,19.10968017578125,19.275121688842773,19.393238067626953,19.46921157836914,19.507640838623047,19.50850486755371,19.47805404663086,19.419506072998047,19.339065551757812,19.23944664001465],[7.13546085357666,7.985012054443359,8.83380126953125,9.67850112915039,10.512348175048828,11.330892562866211,12.129371643066406,12.903085708618164,13.647212982177734,14.358015060424805,15.032407760620117,15.666679382324219,16.25784683227539,16.805465698242188,17.305971145629883,17.76011085510254,18.165313720703125,18.52088737487793,18.827774047851562,19.08529281616211,19.295089721679688,19.45882225036621,19.577743530273438,19.65326690673828,19.69000244140625,19.690643310546875,19.660018920898438,19.599742889404297,19.518285751342773,19.418861389160156],[7.255035400390625,8.109809875488281,8.964714050292969,9.813974380493164,10.653129577636719,11.47813606262207,12.281233787536621,13.058263778686523,13.807764053344727,14.52235221862793,15.199508666992188,15.838021278381348,16.432653427124023,16.982463836669922,17.486530303955078,17.942251205444336,18.34823989868164,18.704980850219727,19.012338638305664,19.270610809326172,19.481857299804688,19.644927978515625,19.76364517211914,19.840164184570312,19.87663459777832,19.876712799072266,19.84361457824707,19.78343391418457,19.700294494628906,19.59874725341797],[7.377315998077393,8.237201690673828,9.09689712524414,9.952512741088867,10.796982765197754,11.624726295471191,12.433303833007812,13.215442657470703,13.969382286071777,14.688177108764648,15.369665145874023,16.010662078857422,16.609363555908203,17.161865234375,17.667236328125,18.124649047851562,18.53232765197754,18.89103889465332,19.199182510375977,19.458980560302734,19.670181274414062,19.83275604248047,19.95119857788086,20.02735137939453,20.063413619995117,20.062397003173828,20.029706954956055,19.96869468688965,19.884241104125977,19.78333282470703],[7.502868175506592,8.367170333862305,9.233255386352539,10.092914581298828,10.941523551940918,11.776287078857422,12.588747024536133,13.375761985778809,14.133386611938477,14.855903625488281,15.542055130004883,16.185760498046875,16.786977767944336,17.34127426147461,17.849525451660156,18.310026168823242,18.717697143554688,19.07817840576172,19.388263702392578,19.648361206054688,19.860530853271484,20.02362060546875,20.14196014404297,20.216976165771484,20.252826690673828,20.250715255737305,20.217987060546875,20.155792236328125,20.070533752441406,19.968067169189453],[7.629632949829102,8.5000581741333,9.3705472946167,10.236013412475586,11.090034484863281,11.928662300109863,12.74602222442627,13.538057327270508,14.299015045166016,15.0261812210083,15.714340209960938,16.362438201904297,16.966327667236328,17.524513244628906,18.034080505371094,18.494993209838867,18.906421661376953,19.267871856689453,19.57798194885254,19.838735580444336,20.051071166992188,20.215551376342773,20.333749771118164,20.4090518951416,20.443634033203125,20.442787170410156,20.407913208007812,20.345624923706055,20.25983428955078,20.156787872314453],[7.760786056518555,8.6365385055542,9.511651992797852,10.380111694335938,11.240410804748535,12.084047317504883,12.905569076538086,13.701587677001953,14.466963768005371,15.198415756225586,15.890164375305176,16.54106903076172,17.147560119628906,17.70758628845215,18.219345092773438,18.68262481689453,19.09613800048828,19.458282470703125,19.770164489746094,20.031295776367188,20.24432373046875,20.408172607421875,20.526926040649414,20.601848602294922,20.636899948120117,20.635801315307617,20.60001564025879,20.53760528564453,20.45093536376953,20.347166061401367],[7.894078731536865,8.773831367492676,9.65447998046875,10.529455184936523,11.393282890319824,12.242094039916992,13.06765079498291,13.86854362487793,14.637313842773438,15.371753692626953,16.066513061523438,16.72040367126465,17.32953643798828,17.89273452758789,18.40787124633789,18.872055053710938,19.28539276123047,19.649206161499023,19.96227264404297,20.225421905517578,20.437400817871094,20.602746963500977,20.721290588378906,20.797367095947266,20.833576202392578,20.83026695251465,20.795339584350586,20.73176383972168,20.64535903930664,20.540199279785156],[8.030595779418945,8.915108680725098,9.800546646118164,10.679208755493164,11.54840087890625,12.401458740234375,13.232250213623047,14.036299705505371,14.809433937072754,15.547365188598633,16.2462215423584,16.902442932128906,17.513803482055664,18.079788208007812,18.595550537109375,19.062314987182617,19.478647232055664,19.843368530273438,20.15671157836914,20.420595169067383,20.634319305419922,20.799802780151367,20.919673919677734,20.995121002197266,21.02892303466797,21.027292251586914,20.991600036621094,20.92759895324707,20.841203689575195,20.735794067382812],[8.169179916381836,9.059162139892578,9.948920249938965,10.832534790039062,11.705785751342773,12.563732147216797,13.398412704467773,14.20623779296875,14.982851028442383,15.724315643310547,16.426267623901367,17.085796356201172,17.700260162353516,18.267568588256836,18.785734176635742,19.253507614135742,19.671096801757812,20.038116455078125,20.3530330657959,20.61705780029297,20.83144760131836,20.997699737548828,21.117536544799805,21.193470001220703,21.22817611694336,21.22618293762207,21.190902709960938,21.125930786132812,21.039703369140625,20.933069229125977],[8.311975479125977,9.205638885498047,10.099928855895996,10.989076614379883,11.866758346557617,12.728164672851562,13.566490173339844,14.3789644241333,15.159975051879883,15.903836250305176,16.60860824584961,17.270854949951172,17.888107299804688,18.45684051513672,18.977584838867188,19.448354721069336,19.866849899291992,20.233631134033203,20.549768447875977,20.81564712524414,21.0301456451416,21.19713592529297,21.31805419921875,21.393217086791992,21.428190231323242,21.42683982849121,21.39142417907715,21.327016830444336,21.239940643310547,21.134376525878906],[8.45698356628418,9.355348587036133,10.254487991333008,11.14798355102539,12.028684616088867,12.894084930419922,13.736858367919922,14.553023338317871,15.33792495727539,16.084918975830078,16.792407989501953,17.457477569580078,18.075910568237305,18.64861488342285,19.170501708984375,19.64242172241211,20.062313079833984,20.43121910095215,20.74774742126465,21.014610290527344,21.231101989746094,21.398691177368164,21.519018173217773,21.59539794921875,21.632688522338867,21.62942123413086,21.593595504760742,21.52948570251465,21.442977905273438,21.336870193481445],[8.604267120361328,9.506587982177734,10.411059379577637,11.308101654052734,12.194221496582031,13.064044952392578,13.91049861907959,14.729781150817871,15.517396926879883,16.2681884765625,16.978988647460938,17.645065307617188,18.267396926879883,18.84110450744629,19.36473274230957,19.838388442993164,20.259775161743164,20.6307430267334,20.947799682617188,21.215574264526367,21.433124542236328,21.60044288635254,21.72195816040039,21.800350189208984,21.836013793945312,21.83440589904785,21.79922103881836,21.73645782470703,21.648029327392578,21.542585372924805],[8.754798889160156,9.662091255187988,10.570735931396484,11.471986770629883,12.362810134887695,13.235329627990723,14.086467742919922,14.908853530883789,15.699399948120117,16.452632904052734,17.166114807128906,17.835285186767578,18.457921981811523,19.034406661987305,19.560428619384766,20.03585433959961,20.459402084350586,20.831069946289062,21.14998435974121,21.418704986572266,21.63518524169922,21.803699493408203,21.92709732055664,22.00499153137207,22.040969848632812,22.041255950927734,22.005922317504883,21.943147659301758,21.855674743652344,21.74934959411621],[8.9088134765625,9.820518493652344,10.73294448852539,11.638870239257812,12.532279968261719,13.409662246704102,14.263626098632812,15.089849472045898,15.88253116607666,16.63914680480957,17.354541778564453,18.026386260986328,18.65329360961914,19.230846405029297,19.757448196411133,20.233949661254883,20.659404754638672,21.031978607177734,21.353271484375,21.621898651123047,21.841384887695312,22.010501861572266,22.134037017822266,22.212093353271484,22.249351501464844,22.24869155883789,22.214323043823242,22.152978897094727,22.066068649291992,21.95958137512207],[9.065836906433105,9.98158073425293,10.897689819335938,11.80737590789795,12.705373764038086,13.585904121398926,14.443307876586914,15.272937774658203,16.06814193725586,16.82803726196289,17.545827865600586,18.219955444335938,18.848133087158203,19.42706298828125,19.95692253112793,20.434242248535156,20.85987091064453,21.235897064208984,21.556766510009766,21.827640533447266,22.047317504882812,22.218250274658203,22.34160804748535,22.421897888183594,22.458282470703125,22.459672927856445,22.426156997680664,22.362960815429688,22.277894973754883,22.172170639038086],[9.225173950195312,10.145187377929688,11.065069198608398,11.978677749633789,12.880331993103027,13.764123916625977,14.624776840209961,15.456949234008789,16.255550384521484,17.01704978942871,17.738311767578125,18.414094924926758,19.043258666992188,19.6251277923584,20.155973434448242,20.635339736938477,21.064050674438477,21.438304901123047,21.760955810546875,22.033748626708984,22.254240036010742,22.426082611083984,22.55044174194336,22.631507873535156,22.67033576965332,22.671260833740234,22.638599395751953,22.57701873779297,22.490745544433594,22.38620376586914],[9.388683319091797,10.312795639038086,11.23604965209961,12.15315055847168,13.058000564575195,13.945972442626953,14.80948257446289,15.644588470458984,16.445018768310547,17.20940589904785,17.93260955810547,18.609790802001953,19.241193771362305,19.82452964782715,20.357027053833008,20.838640213012695,21.267343521118164,21.64339828491211,21.96752166748047,22.241304397583008,22.463632583618164,22.636898040771484,22.76171875,22.843421936035156,22.883289337158203,22.88432502746582,22.853092193603516,22.792917251586914,22.706735610961914,22.602222442626953],[9.553732872009277,10.481857299804688,11.409055709838867,12.329610824584961,13.23798942565918,14.129554748535156,14.995243072509766,15.833003044128418,16.635234832763672,17.401992797851562,18.12718963623047,18.80660629272461,19.439857482910156,20.024551391601562,20.55967140197754,21.041780471801758,21.472248077392578,21.850460052490234,22.17618179321289,22.449691772460938,22.673032760620117,22.846691131591797,22.97373390197754,23.056354522705078,23.097095489501953,23.100513458251953,23.069656372070312,23.009695053100586,22.925025939941406,22.82018280029297],[9.722259521484375,10.654308319091797,11.585037231445312,12.509788513183594,13.420757293701172,14.314664840698242,15.182748794555664,16.023426055908203,16.82982635498047,17.59709930419922,18.32384490966797,19.0059814453125,19.641969680786133,20.227325439453125,20.762235641479492,21.24737548828125,21.678808212280273,22.058000564575195,22.384235382080078,22.659629821777344,22.884262084960938,23.06012725830078,23.187583923339844,23.270084381103516,23.31283187866211,23.316789627075195,23.287506103515625,23.228092193603516,23.144498825073242,23.042556762695312],[9.894025802612305,10.830312728881836,11.76406478881836,12.691210746765137,13.606372833251953,14.501940727233887,15.37360954284668,16.214954376220703,17.02425765991211,17.79417610168457,18.522674560546875,19.20663070678711,19.842679977416992,20.430561065673828,20.967580795288086,21.4530029296875,21.885704040527344,22.266292572021484,22.594688415527344,22.87118911743164,23.095849990844727,23.273298263549805,23.402523040771484,23.488059997558594,23.531330108642578,23.535531997680664,23.507089614868164,23.450517654418945,23.36676025390625,23.265121459960938],[10.067843437194824,11.006998062133789,11.94454574584961,12.875990867614746,13.793022155761719,14.692642211914062,15.565532684326172,16.410011291503906,17.221200942993164,17.992887496948242,18.722339630126953,19.407255172729492,20.045804977416992,20.63539695739746,21.1740665435791,21.659849166870117,22.094017028808594,22.475879669189453,22.805068969726562,23.08346176147461,23.310195922851562,23.488834381103516,23.618539810180664,23.70502471923828,23.749107360839844,23.75578498840332,23.728723526000977,23.67163848876953,23.590194702148438,23.48858642578125],[10.244958877563477,11.18697452545166,12.128484725952148,13.061546325683594,13.983026504516602,14.883090019226074,15.759759902954102,16.606382369995117,17.418399810791016,18.192224502563477,18.923233032226562,19.61064910888672,20.250028610229492,20.8409423828125,21.38076400756836,21.868173599243164,22.303499221801758,22.686931610107422,23.017210006713867,23.296884536743164,23.524810791015625,23.703466415405273,23.836881637573242,23.923908233642578,23.969528198242188,23.978179931640625,23.952083587646484,23.89608383178711,23.817184448242188,23.715816497802734],[10.425783157348633,11.371173858642578,12.315057754516602,13.251541137695312,14.173888206481934,15.07763671875,15.95565414428711,16.805015563964844,17.618135452270508,18.3939266204834,19.127044677734375,19.81490707397461,20.455215454101562,21.047359466552734,21.588504791259766,22.077449798583984,22.515403747558594,22.898340225219727,23.229890823364258,23.510263442993164,23.741235733032227,23.921648025512695,24.055429458618164,24.14444351196289,24.191410064697266,24.200618743896484,24.17632293701172,24.12194061279297,24.04355812072754,23.9449520111084],[10.609018325805664,11.557174682617188,12.504104614257812,13.442506790161133,14.368293762207031,15.273309707641602,16.154346466064453,17.004100799560547,17.818729400634766,18.59598159790039,19.33062744140625,20.020782470703125,20.663192749023438,21.255775451660156,21.797456741333008,22.28911590576172,22.726064682006836,23.111343383789062,23.445045471191406,23.72698402404785,23.957561492919922,24.139135360717773,24.274343490600586,24.36601448059082,24.414682388305664,24.425003051757812,24.402076721191406,24.34964370727539,24.27182960510254,24.174846649169922],[10.794300079345703,11.746432304382324,12.696166038513184,13.636534690856934,14.564037322998047,15.471027374267578,16.354019165039062,17.204566955566406,18.022659301757812,18.80029296875,19.53627586364746,20.226871490478516,20.87000274658203,21.464195251464844,22.0081787109375,22.499217987060547,22.93829345703125,23.325408935546875,23.659788131713867,23.942895889282227,24.175321578979492,24.359506607055664,24.49651527404785,24.586809158325195,24.638219833374023,24.650985717773438,24.630046844482422,24.579618453979492,24.50235939025879,24.405780792236328],[10.98294448852539,11.937277793884277,12.889997482299805,13.834144592285156,14.762624740600586,15.670829772949219,16.555795669555664,17.408220291137695,18.22772789001465,19.006046295166016,19.742877960205078,20.435277938842773,21.08011245727539,21.674251556396484,22.21867561340332,22.711822509765625,23.152042388916016,23.54079818725586,23.87653160095215,24.160602569580078,24.394180297851562,24.579587936401367,24.71866798400879,24.811763763427734,24.863645553588867,24.878416061401367,24.859037399291992,24.809436798095703,24.733991622924805,24.638935089111328],[11.172979354858398,12.131319046020508,13.085439682006836,14.03117561340332,14.962621688842773,15.87392807006836,16.758930206298828,17.613637924194336,18.432714462280273,19.212209701538086,19.95077133178711,20.644685745239258,21.28936767578125,21.886384963989258,22.431926727294922,22.925525665283203,23.366985321044922,23.75611114501953,24.09347152709961,24.37810707092285,24.614774703979492,24.80042266845703,24.94028091430664,25.036331176757812,25.090791702270508,25.107608795166016,25.089038848876953,25.041400909423828,24.96828269958496,24.875696182250977]]},{\"opacity\":0.5,\"showscale\":false,\"type\":\"surface\",\"x\":[1.9642857313156128,2.0012314319610596,2.038177251815796,2.0751230716705322,2.1120688915252686,2.149014711380005,2.185960531234741,2.2229063510894775,2.259852170944214,2.29679799079895,2.3337438106536865,2.370689630508423,2.407635450363159,2.4445812702178955,2.481527090072632,2.518472909927368,2.5554187297821045,2.592364549636841,2.629310369491577,2.6662561893463135,2.70320200920105,2.740147829055786,2.7770936489105225,2.814039468765259,2.850985288619995,2.8879311084747314,2.9248769283294678,2.961822748184204,2.9987685680389404,3.0357143878936768],\"y\":[0.3392857313156128,0.5055418610572815,0.6717979907989502,0.8380541801452637,1.0043103694915771,1.170566439628601,1.3368226289749146,1.5030786991119385,1.669334888458252,1.8355910778045654,2.001847267150879,2.1681032180786133,2.3343594074249268,2.5006155967712402,2.6668717861175537,2.833127975463867,2.9993841648101807,3.165640354156494,3.3318965435028076,3.498152732849121,3.6644086837768555,3.830665111541748,3.9969210624694824,4.163177490234375,4.329433441162109,4.495689392089844,4.661945819854736,4.828201770782471,4.994458198547363,5.160714149475098],\"z\":[[-4.842291355133057,-3.5979628562927246,-2.4182543754577637,-1.3043432235717773,-0.2521519660949707,0.7380490303039551,1.6698684692382812,2.543328285217285,3.3629894256591797,4.126699447631836,4.837724685668945,5.498255252838135,6.1094889640808105,6.668969631195068,7.179257869720459,7.640304088592529,8.055624008178711,8.418500900268555,8.734671592712402,8.999837875366211,9.216031074523926,9.381479263305664,9.495026588439941,9.55356216430664,9.558188438415527,9.504464149475098,9.390331268310547,9.215246200561523,8.972793579101562,8.66140365600586],[-4.6165924072265625,-3.372401237487793,-2.1943092346191406,-1.0810432434082031,-0.029624462127685547,0.9595932960510254,1.890641689300537,2.7642993927001953,3.5815649032592773,4.345318794250488,5.056710243225098,5.717571258544922,6.327719688415527,6.8868021965026855,7.398266315460205,7.859685897827148,8.273750305175781,8.639741897583008,8.95585823059082,9.22271728515625,9.438926696777344,9.606588363647461,9.720199584960938,9.780925750732422,9.786490440368652,9.733457565307617,9.621103286743164,9.446110725402832,9.205354690551758,8.895475387573242],[-4.395457744598389,-3.1517281532287598,-1.973177433013916,-0.8606882095336914,0.18974828720092773,1.1785521507263184,2.1083526611328125,2.980574607849121,3.797924041748047,4.5612874031066895,5.271646022796631,5.932016372680664,6.541665554046631,7.101797103881836,7.61422061920166,8.077003479003906,8.490655899047852,8.856462478637695,9.173757553100586,9.442232131958008,9.658943176269531,9.827486038208008,9.943743705749512,10.005465507507324,10.011959075927734,9.96031379699707,9.848186492919922,9.67431354522705,9.434441566467285,9.123903274536133],[-4.177384376525879,-2.933185577392578,-1.7565836906433105,-0.6432757377624512,0.40568971633911133,1.3937854766845703,2.322844982147217,3.1946396827697754,4.011058807373047,4.773889541625977,5.485239028930664,6.144912242889404,6.753941059112549,7.31472110748291,7.825933933258057,8.289762496948242,8.70487117767334,9.070978164672852,9.390068054199219,9.657939910888672,9.87685489654541,10.04515266418457,10.161582946777344,10.225707054138184,10.233894348144531,10.183449745178223,10.073448181152344,9.899349212646484,9.659517288208008,9.349762916564941],[-3.9629745483398438,-2.719115734100342,-1.5417943000793457,-0.4301166534423828,0.6184239387512207,1.6068940162658691,2.53524112701416,3.4046950340270996,4.2216010093688965,4.983575344085693,5.6931376457214355,6.353453636169434,6.962923526763916,7.523464679718018,8.03600025177002,8.500200271606445,8.91550064086914,9.282392501831055,9.601987838745117,9.87105941772461,10.091453552246094,10.261390686035156,10.37802505493164,10.443107604980469,10.451559066772461,10.402652740478516,10.293172836303711,10.119955062866211,9.880829811096191,9.572219848632812],[-3.7522473335266113,-2.508617877960205,-1.3321795463562012,-0.22002220153808594,0.8280858993530273,1.8138189315795898,2.741569995880127,3.61177396774292,4.428147315979004,5.189821720123291,5.899935245513916,6.559719562530518,7.17000150680542,7.7307820320129395,8.242989540100098,8.707451820373535,9.123014450073242,9.490865707397461,9.810651779174805,10.082104682922363,10.303519248962402,10.472976684570312,10.591837882995605,10.65631103515625,10.666147232055664,10.619312286376953,10.510400772094727,10.338014602661133,10.098249435424805,9.789977073669434],[-3.5447916984558105,-2.3016724586486816,-1.1247882843017578,-0.013743877410888672,1.0331544876098633,2.019679546356201,2.9455013275146484,3.8157129287719727,4.631330490112305,5.393188953399658,6.10352087020874,6.7625508308410645,7.372270584106445,7.933207988739014,8.446441650390625,8.911722183227539,9.327293395996094,9.696305274963379,10.01805591583252,10.289207458496094,10.511608123779297,10.683478355407715,10.802444458007812,10.868053436279297,10.879077911376953,10.830408096313477,10.722511291503906,10.551308631896973,10.313323974609375,10.004657745361328],[-3.3424549102783203,-2.0986223220825195,-0.922236442565918,0.1888594627380371,1.2352294921875,2.220820426940918,3.1466245651245117,4.016699314117432,4.830935955047607,5.5930280685424805,6.302330017089844,6.961848735809326,7.572803974151611,8.134734153747559,8.647628784179688,9.112497329711914,9.530170440673828,9.900165557861328,10.220914840698242,10.493364334106445,10.716575622558594,10.889009475708008,11.009092330932617,11.07539176940918,11.085732460021973,11.039703369140625,10.931999206542969,10.760889053344727,10.522461891174316,10.214374542236328],[-3.1425533294677734,-1.898188591003418,-0.7225203514099121,0.38655900955200195,1.433485984802246,2.4189515113830566,3.344499111175537,4.21351957321167,5.02822208404541,5.789934158325195,6.4995527267456055,7.159195899963379,7.770477294921875,8.331544876098633,8.84517765045166,9.31158447265625,9.730101585388184,10.100380897521973,10.422286987304688,10.695335388183594,10.918829917907715,11.091897010803223,11.213376998901367,11.279078483581543,11.290903091430664,11.244150161743164,11.138334274291992,10.96734619140625,10.72882080078125,10.420480728149414],[-2.946744441986084,-1.7034502029418945,-0.527458667755127,0.5829181671142578,1.628270149230957,2.613442897796631,3.537886619567871,4.40789270401001,5.221153736114502,5.98280668258667,6.69234561920166,7.352906703948975,7.963500022888184,8.52627944946289,9.04141616821289,9.507895469665527,9.925613403320312,10.297151565551758,10.619828224182129,10.892810821533203,11.117354393005371,11.290876388549805,11.412567138671875,11.480045318603516,11.493640899658203,11.447145462036133,11.340471267700195,11.169672012329102,10.93088150024414,10.621978759765625],[-2.7551369667053223,-1.5117197036743164,-0.335634708404541,0.7730083465576172,1.8188552856445312,2.8036885261535645,3.7287559509277344,4.59755802154541,5.411337852478027,6.173406600952148,6.883729934692383,7.543915271759033,8.154233932495117,8.718132019042969,9.23264217376709,9.700448989868164,10.119077682495117,10.49068546295166,10.81406021118164,11.089239120483398,11.31301498413086,11.488351821899414,11.609691619873047,11.677799224853516,11.690872192382812,11.645627975463867,11.537765502929688,11.368368148803711,11.130544662475586,10.819937705993652],[-2.5675487518310547,-1.3237419128417969,-0.1480703353881836,0.9605021476745605,2.006196975708008,2.9910244941711426,3.916109561920166,4.784065246582031,5.598272323608398,6.359737873077393,7.070871353149414,7.731654167175293,8.342777252197266,8.906328201293945,9.421365737915039,9.889139175415039,10.309440612792969,10.68167781829834,11.006410598754883,11.280470848083496,11.505535125732422,11.682055473327637,11.804407119750977,11.873004913330078,11.886150360107422,11.839315414428711,11.733969688415527,11.562614440917969,11.32462215423584,11.015241622924805],[-2.3831963539123535,-1.1401405334472656,0.034905433654785156,1.1447811126708984,2.189950466156006,3.1742472648620605,4.098617076873779,4.9677839279174805,5.78247594833374,6.5444746017456055,7.255717754364014,7.916712760925293,8.528953552246094,9.092055320739746,9.608421325683594,10.077104568481445,10.497476577758789,10.870929718017578,11.195417404174805,11.47153091430664,11.69648551940918,11.872268676757812,11.995491981506348,12.062906265258789,12.076761245727539,12.03123664855957,11.926027297973633,11.754106521606445,11.51501178741455,11.206512451171875],[-2.2039852142333984,-0.9607491493225098,0.21530723571777344,1.3247413635253906,2.368844985961914,3.3530545234680176,4.277859210968018,5.14724063873291,5.962924957275391,6.7247209548950195,7.436176776885986,8.09727954864502,8.710290908813477,9.27528190612793,9.790504455566406,10.260966300964355,10.681897163391113,11.055177688598633,11.380250930786133,11.657334327697754,11.883224487304688,12.059385299682617,12.182222366333008,12.252326965332031,12.265817642211914,12.219279289245605,12.112527847290039,11.941286087036133,11.702598571777344,11.392690658569336],[-2.0290026664733887,-0.7858166694641113,0.39076709747314453,1.4995837211608887,2.545104503631592,3.529773235321045,4.454804420471191,5.32399845123291,6.13989782333374,6.902777671813965,7.614829063415527,8.275901794433594,8.889898300170898,9.454862594604492,9.972249984741211,10.441953659057617,10.863340377807617,11.238466262817383,11.56301212310791,11.840158462524414,12.067920684814453,12.243375778198242,12.366978645324707,12.437023162841797,12.450187683105469,12.40394401550293,12.296549797058105,12.12689208984375,11.886218070983887,11.575647354125977],[-1.858245849609375,-0.614171028137207,0.5621457099914551,1.6716361045837402,2.717336654663086,3.7012624740600586,4.627468585968018,5.49746561050415,6.313364505767822,7.075757026672363,7.789031982421875,8.450916290283203,9.064607620239258,9.630701065063477,10.148625373840332,10.619487762451172,11.042619705200195,11.418022155761719,11.74461555480957,12.020816802978516,12.247694969177246,12.423908233642578,12.54855728149414,12.618124008178711,12.629997253417969,12.585766792297363,12.476568222045898,12.304967880249023,12.065292358398438,11.75364875793457],[-1.690971851348877,-0.4464263916015625,0.7300148010253906,1.839714527130127,2.8847813606262207,3.8706798553466797,4.796989917755127,5.667054653167725,6.482771873474121,7.246663570404053,7.95997953414917,8.623096466064453,9.238377571105957,9.8053560256958,10.323675155639648,10.795415878295898,11.21859359741211,11.59406566619873,11.922187805175781,12.198482513427734,12.426261901855469,12.602849006652832,12.726384162902832,12.796764373779297,12.808334350585938,12.763094902038574,12.654886245727539,12.482831954956055,12.240640640258789,11.929159164428711],[-1.5276823043823242,-0.28327035903930664,0.8933939933776855,2.003239631652832,3.0495781898498535,4.0352582931518555,4.962034702301025,5.83357572555542,6.64970064163208,7.415196418762207,8.129045486450195,8.792808532714844,9.408771514892578,9.976325988769531,10.496271133422852,10.967193603515625,11.391173362731934,11.769054412841797,12.094670295715332,12.373600006103516,12.602164268493652,12.778888702392578,12.90162467956543,12.970748901367188,12.983192443847656,12.936880111694336,12.828794479370117,12.65371036529541,12.413579940795898,12.100358963012695],[-1.3696365356445312,-0.12461090087890625,1.0521869659423828,2.1629929542541504,3.209580421447754,4.195906162261963,5.123338222503662,5.995267391204834,6.812877655029297,7.57872200012207,8.293983459472656,8.959020614624023,9.574974060058594,10.144472122192383,10.664407730102539,11.137189865112305,11.561994552612305,11.938716888427734,12.265480041503906,12.544445037841797,12.773172378540039,12.949962615966797,13.072672843933105,13.141998291015625,13.154928207397461,13.107128143310547,12.998188972473145,12.824416160583496,12.581588745117188,12.26718521118164],[-1.2147870063781738,0.031023025512695312,1.2083544731140137,2.3195743560791016,3.3668723106384277,4.353901386260986,5.282382965087891,6.155284881591797,6.973019599914551,7.739881992340088,8.457107543945312,9.121723175048828,9.739343643188477,10.309328079223633,10.830541610717773,11.304983139038086,11.729795455932617,12.106669425964355,12.434889793395996,12.714818954467773,12.942686080932617,13.11902904510498,13.243232727050781,13.309967994689941,13.322833061218262,13.273946762084961,13.16357707977295,12.989377975463867,12.745481491088867,12.430072784423828],[-1.065382957458496,0.18129682540893555,1.3595681190490723,2.4712390899658203,3.5198922157287598,4.508208751678467,5.437442302703857,6.310620307922363,7.129481315612793,7.897881031036377,8.615066528320312,9.281352996826172,9.900054931640625,10.470634460449219,10.994108200073242,11.468053817749023,11.89403247833252,12.27265453338623,12.60123062133789,12.880455017089844,13.108285903930664,13.285213470458984,13.408170700073242,13.476917266845703,13.487935066223145,13.437641143798828,13.327873229980469,13.150529861450195,12.906097412109375,12.589065551757812],[-0.9194560050964355,0.32818174362182617,1.5068278312683105,2.6201629638671875,3.6691551208496094,4.658060550689697,5.587828159332275,6.462969779968262,7.284499168395996,8.052384376525879,8.770950317382812,9.439398765563965,10.059270858764648,10.630165100097656,11.152872085571289,11.628668785095215,12.055635452270508,12.435232162475586,12.763294219970703,13.043563842773438,13.272055625915527,13.448731422424316,13.570297241210938,13.638187408447266,13.649150848388672,13.599294662475586,13.487953186035156,13.30908489227295,13.063577651977539,12.745597839355469],[-0.7777462005615234,0.4715142250061035,1.6500663757324219,2.7639360427856445,3.8145947456359863,4.8047685623168945,5.735834121704102,6.61128568649292,7.4338178634643555,8.203939437866211,8.923683166503906,9.594219207763672,10.214029312133789,10.786303520202637,11.311784744262695,11.787301063537598,12.214951515197754,12.594127655029297,12.923935890197754,13.20407485961914,13.431562423706055,13.608606338500977,13.730358123779297,13.798141479492188,13.80760669708252,13.756528854370117,13.643369674682617,13.465566635131836,13.217292785644531,12.898032188415527],[-0.641016960144043,0.6083049774169922,1.7889208793640137,2.904351234436035,3.9560699462890625,4.948051929473877,5.879848003387451,6.757049083709717,7.581602096557617,8.352884292602539,9.073627471923828,9.744180679321289,10.366373062133789,10.94084358215332,11.46662712097168,11.942758560180664,12.370896339416504,12.750751495361328,13.080742835998535,13.360943794250488,13.589286804199219,13.766117095947266,13.887388229370117,13.9542236328125,13.960922241210938,13.910299301147461,13.797712326049805,13.61651611328125,13.366905212402344,13.045661926269531],[-0.5075850486755371,0.7418050765991211,1.924318790435791,3.0400848388671875,4.094191074371338,5.085728645324707,6.020582675933838,6.899546146392822,7.724247932434082,8.498273849487305,9.219414710998535,9.892350196838379,10.515665054321289,11.091743469238281,11.617351531982422,12.095762252807617,12.524694442749023,12.90493392944336,13.234811782836914,13.515684127807617,13.74381160736084,13.918672561645508,14.041116714477539,14.106433868408203,14.114524841308594,14.061927795410156,13.945446014404297,13.764141082763672,13.514915466308594,13.19147777557373],[-0.37786245346069336,0.8730349540710449,2.056105136871338,3.1733317375183105,4.227547645568848,5.222236633300781,6.157695293426514,7.0388031005859375,7.865331649780273,8.640321731567383,9.36423397064209,10.037700653076172,10.662040710449219,11.238842010498047,11.766057014465332,12.245861053466797,12.676070213317871,13.055830001831055,13.386388778686523,13.666563034057617,13.895551681518555,14.070608139038086,14.191709518432617,14.25699234008789,14.2627592086792,14.209606170654297,14.092300415039062,13.908401489257812,13.656705856323242,13.332460403442383],[-0.2525038719177246,0.998558521270752,2.1834640502929688,3.3017020225524902,4.35833740234375,5.3537116050720215,6.2920122146606445,7.173702716827393,8.001651763916016,8.778109550476074,9.504402160644531,10.18045711517334,10.806602478027344,11.383941650390625,11.912572860717773,12.393568992614746,12.823808670043945,13.204155921936035,13.535492897033691,13.81605339050293,14.044461250305176,14.218355178833008,14.339006423950195,14.403585433959961,14.408628463745117,14.353385925292969,14.235687255859375,14.049839973449707,13.796598434448242,13.47072982788086],[-0.13212251663208008,1.121800422668457,2.3078088760375977,3.4270105361938477,4.484858989715576,5.482166290283203,6.422416687011719,7.305268287658691,8.136589050292969,8.914619445800781,9.64250373840332,10.31909465789795,10.947449684143066,11.526106834411621,12.056342124938965,12.536983489990234,12.968025207519531,13.350440979003906,13.681100845336914,13.962446212768555,14.189981460571289,14.365171432495117,14.48499870300293,14.546072006225586,14.550325393676758,14.494590759277344,14.37490463256836,14.189004898071289,13.932279586791992,13.605029106140137],[-0.015102386474609375,1.239548683166504,2.4274535179138184,3.549713134765625,4.6085381507873535,5.6065826416015625,6.549742221832275,7.434622287750244,8.268434524536133,9.047734260559082,9.77672290802002,10.455415725708008,11.085972785949707,11.664685249328613,12.197408676147461,12.67887020111084,13.110721588134766,13.493450164794922,13.825685501098633,14.10509204864502,14.333427429199219,14.506418228149414,14.626127243041992,14.688305854797363,14.691110610961914,14.633371353149414,14.512125015258789,14.322466850280762,14.065881729125977,13.736133575439453],[0.09759759902954102,1.3541007041931152,2.5425586700439453,3.6661581993103027,4.727876663208008,5.729656219482422,6.672778606414795,7.5612359046936035,8.395479202270508,9.176530838012695,9.908672332763672,10.589757919311523,11.220465660095215,11.803136825561523,12.33474349975586,12.817707061767578,13.25124740600586,13.634583473205566,13.965191841125488,14.24500846862793,14.474161148071289,14.646912574768066,14.76486587524414,14.826042175292969,14.828222274780273,14.768437385559082,14.644429206848145,14.453783988952637,14.19487190246582,13.863630294799805]]},{\"marker\":{\"color\":\"darkgreen\"},\"mode\":\"markers\",\"name\":\"training data\",\"type\":\"scatter3d\",\"x\":[2.0,2.0,2.200000047683716,2.200000047683716,2.200000047683716,2.200000047683716,2.5,2.5,2.5,2.5,2.5,2.700000047683716,2.700000047683716,2.700000047683716,2.700000047683716,2.700000047683716,3.0,3.0,3.0,3.0,3.0],\"y\":[2.0,5.0,1.0,1.5,2.0,5.0,0.5,1.0,1.5,2.0,5.0,0.5,1.0,1.5,2.0,5.0,0.5,1.0,1.5,2.0,5.0],\"z\":[1.3899999856948853,3.940000057220459,4.690000057220459,13.819999694824219,13.8100004196167,13.390000343322754,2.2300000190734863,12.460000038146973,13.739999771118164,19.709999084472656,15.220000267028809,11.989999771118164,16.40999984741211,18.350000381469727,17.969999313354492,18.670000076293945,14.649999618530273,15.4399995803833,15.329999923706055,13.430000305175781,20.139999389648438]},{\"mode\":\"markers\",\"name\":\"max(upper confidence bound)\",\"type\":\"scatter3d\",\"x\":[2.8879311084747314],\"y\":[5.160714149475098],\"z\":[18.63870620727539]},{\"mode\":\"markers\",\"name\":\"max(thompson)\",\"type\":\"scatter3d\",\"x\":[2.850985288619995],\"y\":[5.160714149475098],\"z\":[18.45364761352539]},{\"mode\":\"markers\",\"name\":\"max(pi)\",\"type\":\"scatter3d\",\"x\":[2.850985288619995],\"y\":[5.160714149475098],\"z\":[18.45364761352539]},{\"mode\":\"markers\",\"name\":\"max(ei)\",\"type\":\"scatter3d\",\"x\":[2.850985288619995],\"y\":[5.160714149475098],\"z\":[18.45364761352539]},{\"mode\":\"markers\",\"name\":\"max(ca)\",\"type\":\"scatter3d\",\"x\":[3.0357143878936768],\"y\":[5.160714149475098],\"z\":[19.36966323852539]}],                        {\"height\":600,\"legend\":{\"orientation\":\"h\",\"x\":1,\"xanchor\":\"right\",\"y\":1.02,\"yanchor\":\"bottom\"},\"margin\":{\"b\":10,\"l\":10,\"r\":20,\"t\":10},\"scene\":{\"xaxis\":{\"title\":{\"text\":\"Flash voltage (kV)\"}},\"yaxis\":{\"title\":{\"text\":\"Flash time (msec)\"}},\"zaxis\":{\"title\":{\"text\":\"Pr (uC/cm^2), Pristine\"}}},\"template\":{\"data\":{\"bar\":[{\"error_x\":{\"color\":\"#2a3f5f\"},\"error_y\":{\"color\":\"#2a3f5f\"},\"marker\":{\"line\":{\"color\":\"#E5ECF6\",\"width\":0.5},\"pattern\":{\"fillmode\":\"overlay\",\"size\":10,\"solidity\":0.2}},\"type\":\"bar\"}],\"barpolar\":[{\"marker\":{\"line\":{\"color\":\"#E5ECF6\",\"width\":0.5},\"pattern\":{\"fillmode\":\"overlay\",\"size\":10,\"solidity\":0.2}},\"type\":\"barpolar\"}],\"carpet\":[{\"aaxis\":{\"endlinecolor\":\"#2a3f5f\",\"gridcolor\":\"white\",\"linecolor\":\"white\",\"minorgridcolor\":\"white\",\"startlinecolor\":\"#2a3f5f\"},\"baxis\":{\"endlinecolor\":\"#2a3f5f\",\"gridcolor\":\"white\",\"linecolor\":\"white\",\"minorgridcolor\":\"white\",\"startlinecolor\":\"#2a3f5f\"},\"type\":\"carpet\"}],\"choropleth\":[{\"colorbar\":{\"outlinewidth\":0,\"ticks\":\"\"},\"type\":\"choropleth\"}],\"contour\":[{\"colorbar\":{\"outlinewidth\":0,\"ticks\":\"\"},\"colorscale\":[[0.0,\"#0d0887\"],[0.1111111111111111,\"#46039f\"],[0.2222222222222222,\"#7201a8\"],[0.3333333333333333,\"#9c179e\"],[0.4444444444444444,\"#bd3786\"],[0.5555555555555556,\"#d8576b\"],[0.6666666666666666,\"#ed7953\"],[0.7777777777777778,\"#fb9f3a\"],[0.8888888888888888,\"#fdca26\"],[1.0,\"#f0f921\"]],\"type\":\"contour\"}],\"contourcarpet\":[{\"colorbar\":{\"outlinewidth\":0,\"ticks\":\"\"},\"type\":\"contourcarpet\"}],\"heatmap\":[{\"colorbar\":{\"outlinewidth\":0,\"ticks\":\"\"},\"colorscale\":[[0.0,\"#0d0887\"],[0.1111111111111111,\"#46039f\"],[0.2222222222222222,\"#7201a8\"],[0.3333333333333333,\"#9c179e\"],[0.4444444444444444,\"#bd3786\"],[0.5555555555555556,\"#d8576b\"],[0.6666666666666666,\"#ed7953\"],[0.7777777777777778,\"#fb9f3a\"],[0.8888888888888888,\"#fdca26\"],[1.0,\"#f0f921\"]],\"type\":\"heatmap\"}],\"heatmapgl\":[{\"colorbar\":{\"outlinewidth\":0,\"ticks\":\"\"},\"colorscale\":[[0.0,\"#0d0887\"],[0.1111111111111111,\"#46039f\"],[0.2222222222222222,\"#7201a8\"],[0.3333333333333333,\"#9c179e\"],[0.4444444444444444,\"#bd3786\"],[0.5555555555555556,\"#d8576b\"],[0.6666666666666666,\"#ed7953\"],[0.7777777777777778,\"#fb9f3a\"],[0.8888888888888888,\"#fdca26\"],[1.0,\"#f0f921\"]],\"type\":\"heatmapgl\"}],\"histogram\":[{\"marker\":{\"pattern\":{\"fillmode\":\"overlay\",\"size\":10,\"solidity\":0.2}},\"type\":\"histogram\"}],\"histogram2d\":[{\"colorbar\":{\"outlinewidth\":0,\"ticks\":\"\"},\"colorscale\":[[0.0,\"#0d0887\"],[0.1111111111111111,\"#46039f\"],[0.2222222222222222,\"#7201a8\"],[0.3333333333333333,\"#9c179e\"],[0.4444444444444444,\"#bd3786\"],[0.5555555555555556,\"#d8576b\"],[0.6666666666666666,\"#ed7953\"],[0.7777777777777778,\"#fb9f3a\"],[0.8888888888888888,\"#fdca26\"],[1.0,\"#f0f921\"]],\"type\":\"histogram2d\"}],\"histogram2dcontour\":[{\"colorbar\":{\"outlinewidth\":0,\"ticks\":\"\"},\"colorscale\":[[0.0,\"#0d0887\"],[0.1111111111111111,\"#46039f\"],[0.2222222222222222,\"#7201a8\"],[0.3333333333333333,\"#9c179e\"],[0.4444444444444444,\"#bd3786\"],[0.5555555555555556,\"#d8576b\"],[0.6666666666666666,\"#ed7953\"],[0.7777777777777778,\"#fb9f3a\"],[0.8888888888888888,\"#fdca26\"],[1.0,\"#f0f921\"]],\"type\":\"histogram2dcontour\"}],\"mesh3d\":[{\"colorbar\":{\"outlinewidth\":0,\"ticks\":\"\"},\"type\":\"mesh3d\"}],\"parcoords\":[{\"line\":{\"colorbar\":{\"outlinewidth\":0,\"ticks\":\"\"}},\"type\":\"parcoords\"}],\"pie\":[{\"automargin\":true,\"type\":\"pie\"}],\"scatter\":[{\"marker\":{\"colorbar\":{\"outlinewidth\":0,\"ticks\":\"\"}},\"type\":\"scatter\"}],\"scatter3d\":[{\"line\":{\"colorbar\":{\"outlinewidth\":0,\"ticks\":\"\"}},\"marker\":{\"colorbar\":{\"outlinewidth\":0,\"ticks\":\"\"}},\"type\":\"scatter3d\"}],\"scattercarpet\":[{\"marker\":{\"colorbar\":{\"outlinewidth\":0,\"ticks\":\"\"}},\"type\":\"scattercarpet\"}],\"scattergeo\":[{\"marker\":{\"colorbar\":{\"outlinewidth\":0,\"ticks\":\"\"}},\"type\":\"scattergeo\"}],\"scattergl\":[{\"marker\":{\"colorbar\":{\"outlinewidth\":0,\"ticks\":\"\"}},\"type\":\"scattergl\"}],\"scattermapbox\":[{\"marker\":{\"colorbar\":{\"outlinewidth\":0,\"ticks\":\"\"}},\"type\":\"scattermapbox\"}],\"scatterpolar\":[{\"marker\":{\"colorbar\":{\"outlinewidth\":0,\"ticks\":\"\"}},\"type\":\"scatterpolar\"}],\"scatterpolargl\":[{\"marker\":{\"colorbar\":{\"outlinewidth\":0,\"ticks\":\"\"}},\"type\":\"scatterpolargl\"}],\"scatterternary\":[{\"marker\":{\"colorbar\":{\"outlinewidth\":0,\"ticks\":\"\"}},\"type\":\"scatterternary\"}],\"surface\":[{\"colorbar\":{\"outlinewidth\":0,\"ticks\":\"\"},\"colorscale\":[[0.0,\"#0d0887\"],[0.1111111111111111,\"#46039f\"],[0.2222222222222222,\"#7201a8\"],[0.3333333333333333,\"#9c179e\"],[0.4444444444444444,\"#bd3786\"],[0.5555555555555556,\"#d8576b\"],[0.6666666666666666,\"#ed7953\"],[0.7777777777777778,\"#fb9f3a\"],[0.8888888888888888,\"#fdca26\"],[1.0,\"#f0f921\"]],\"type\":\"surface\"}],\"table\":[{\"cells\":{\"fill\":{\"color\":\"#EBF0F8\"},\"line\":{\"color\":\"white\"}},\"header\":{\"fill\":{\"color\":\"#C8D4E3\"},\"line\":{\"color\":\"white\"}},\"type\":\"table\"}]},\"layout\":{\"annotationdefaults\":{\"arrowcolor\":\"#2a3f5f\",\"arrowhead\":0,\"arrowwidth\":1},\"autotypenumbers\":\"strict\",\"coloraxis\":{\"colorbar\":{\"outlinewidth\":0,\"ticks\":\"\"}},\"colorscale\":{\"diverging\":[[0,\"#8e0152\"],[0.1,\"#c51b7d\"],[0.2,\"#de77ae\"],[0.3,\"#f1b6da\"],[0.4,\"#fde0ef\"],[0.5,\"#f7f7f7\"],[0.6,\"#e6f5d0\"],[0.7,\"#b8e186\"],[0.8,\"#7fbc41\"],[0.9,\"#4d9221\"],[1,\"#276419\"]],\"sequential\":[[0.0,\"#0d0887\"],[0.1111111111111111,\"#46039f\"],[0.2222222222222222,\"#7201a8\"],[0.3333333333333333,\"#9c179e\"],[0.4444444444444444,\"#bd3786\"],[0.5555555555555556,\"#d8576b\"],[0.6666666666666666,\"#ed7953\"],[0.7777777777777778,\"#fb9f3a\"],[0.8888888888888888,\"#fdca26\"],[1.0,\"#f0f921\"]],\"sequentialminus\":[[0.0,\"#0d0887\"],[0.1111111111111111,\"#46039f\"],[0.2222222222222222,\"#7201a8\"],[0.3333333333333333,\"#9c179e\"],[0.4444444444444444,\"#bd3786\"],[0.5555555555555556,\"#d8576b\"],[0.6666666666666666,\"#ed7953\"],[0.7777777777777778,\"#fb9f3a\"],[0.8888888888888888,\"#fdca26\"],[1.0,\"#f0f921\"]]},\"colorway\":[\"#636efa\",\"#EF553B\",\"#00cc96\",\"#ab63fa\",\"#FFA15A\",\"#19d3f3\",\"#FF6692\",\"#B6E880\",\"#FF97FF\",\"#FECB52\"],\"font\":{\"color\":\"#2a3f5f\"},\"geo\":{\"bgcolor\":\"white\",\"lakecolor\":\"white\",\"landcolor\":\"#E5ECF6\",\"showlakes\":true,\"showland\":true,\"subunitcolor\":\"white\"},\"hoverlabel\":{\"align\":\"left\"},\"hovermode\":\"closest\",\"mapbox\":{\"style\":\"light\"},\"paper_bgcolor\":\"white\",\"plot_bgcolor\":\"#E5ECF6\",\"polar\":{\"angularaxis\":{\"gridcolor\":\"white\",\"linecolor\":\"white\",\"ticks\":\"\"},\"bgcolor\":\"#E5ECF6\",\"radialaxis\":{\"gridcolor\":\"white\",\"linecolor\":\"white\",\"ticks\":\"\"}},\"scene\":{\"xaxis\":{\"backgroundcolor\":\"#E5ECF6\",\"gridcolor\":\"white\",\"gridwidth\":2,\"linecolor\":\"white\",\"showbackground\":true,\"ticks\":\"\",\"zerolinecolor\":\"white\"},\"yaxis\":{\"backgroundcolor\":\"#E5ECF6\",\"gridcolor\":\"white\",\"gridwidth\":2,\"linecolor\":\"white\",\"showbackground\":true,\"ticks\":\"\",\"zerolinecolor\":\"white\"},\"zaxis\":{\"backgroundcolor\":\"#E5ECF6\",\"gridcolor\":\"white\",\"gridwidth\":2,\"linecolor\":\"white\",\"showbackground\":true,\"ticks\":\"\",\"zerolinecolor\":\"white\"}},\"shapedefaults\":{\"line\":{\"color\":\"#2a3f5f\"}},\"ternary\":{\"aaxis\":{\"gridcolor\":\"white\",\"linecolor\":\"white\",\"ticks\":\"\"},\"baxis\":{\"gridcolor\":\"white\",\"linecolor\":\"white\",\"ticks\":\"\"},\"bgcolor\":\"#E5ECF6\",\"caxis\":{\"gridcolor\":\"white\",\"linecolor\":\"white\",\"ticks\":\"\"}},\"title\":{\"x\":0.05},\"xaxis\":{\"automargin\":true,\"gridcolor\":\"white\",\"linecolor\":\"white\",\"ticks\":\"\",\"title\":{\"standoff\":15},\"zerolinecolor\":\"white\",\"zerolinewidth\":2},\"yaxis\":{\"automargin\":true,\"gridcolor\":\"white\",\"linecolor\":\"white\",\"ticks\":\"\",\"title\":{\"standoff\":15},\"zerolinecolor\":\"white\",\"zerolinewidth\":2}}},\"width\":800},                        {\"responsive\": true}                    ).then(function(){\n",
       "                            \n",
       "var gd = document.getElementById('2e234f36-fc13-4619-811e-d1536afb5763');\n",
       "var x = new MutationObserver(function (mutations, observer) {{\n",
       "        var display = window.getComputedStyle(gd).display;\n",
       "        if (!display || display === 'none') {{\n",
       "            console.log([gd, 'removed!']);\n",
       "            Plotly.purge(gd);\n",
       "            observer.disconnect();\n",
       "        }}\n",
       "}});\n",
       "\n",
       "// Listen for the removal of the full notebook cells\n",
       "var notebookContainer = gd.closest('#notebook-container');\n",
       "if (notebookContainer) {{\n",
       "    x.observe(notebookContainer, {childList: true});\n",
       "}}\n",
       "\n",
       "// Listen for the clearing of the current output cell\n",
       "var outputEl = gd.closest('.output');\n",
       "if (outputEl) {{\n",
       "    x.observe(outputEl, {childList: true});\n",
       "}}\n",
       "\n",
       "                        })                };                });            </script>        </div>"
      ],
      "image/png": "[encoded data removed]"
     },
     "metadata": {}
    }
   ],
   "metadata": {}
  },
  {
   "cell_type": "code",
   "execution_count": 70,
   "source": [
    "# Simply print the locations of the suggested points\n",
    "print(test_grid[ei[1], 0], test_grid[ei[0], 1])\n",
    "print(test_grid[pi[1], 0], test_grid[pi[0], 1])\n",
    "print(test_grid[ca[1], 0], test_grid[ca[0], 1])\n",
    "print(test_grid[ucb[1], 0], test_grid[ucb[0], 1])\n",
    "print(test_grid[th[1], 0], test_grid[th[0], 1])\n",
    "print(test_grid[max_var[1], 0], test_grid[max_var[0], 1])"
   ],
   "outputs": [
    {
     "output_type": "stream",
     "name": "stdout",
     "text": [
      "tensor(415.0862) tensor(114.9384)\n",
      "tensor(415.0862) tensor(114.9384)\n",
      "tensor(453.8793) tensor(451.8842)\n",
      "tensor(402.1552) tensor(451.8842)\n",
      "tensor(712.5000) tensor(388.7069)\n",
      "tensor(647.8448) tensor(430.8251)\n"
     ]
    }
   ],
   "metadata": {}
  },
  {
   "cell_type": "code",
   "execution_count": 71,
   "source": [
    "print(pred_labels[ei[0], ei[1]])\n",
    "print(pred_labels[pi[0], pi[1]])\n",
    "print(pred_labels[ca[0], ca[1]])\n",
    "print(pred_labels[ucb[0], ucb[1]])\n",
    "print(pred_labels[th[0], th[1]])\n",
    "print(pred_labels[max_var[0], max_var[1]])\n"
   ],
   "outputs": [
    {
     "output_type": "stream",
     "name": "stdout",
     "text": [
      "tensor(36.4777)\n",
      "tensor(36.4777)\n",
      "tensor(25.6007)\n",
      "tensor(23.9889)\n",
      "tensor(26.0637)\n",
      "tensor(26.0657)\n"
     ]
    }
   ],
   "metadata": {}
  },
  {
   "cell_type": "code",
   "execution_count": 15,
   "source": [
    "# look at acq_func manifold\n",
    "fig = go.Figure(data=[go.Surface(z=EI_acq_shape, x=test_grid[:,0], y=test_grid[:,1])])\n",
    "fig.add_trace(go.Scatter3d(x=test_grid[pi[1], 0].numpy(), y=test_grid[pi[0], 1].numpy(), z=[PI_acq_shape[pi[0], pi[1]]], mode='markers', name='max(pi)'))\n",
    "fig.update_layout( width=1000, height=600,\n",
    "                  margin=dict(r=20, l=10, b=10, t=10),\n",
    "                  legend=dict(orientation=\"h\", yanchor=\"bottom\", y=1.02, xanchor=\"right\",x=1),\n",
    "                  scene=dict(\n",
    "                    xaxis_title=\"RTA temperature (C)\",\n",
    "                    yaxis_title=\"RTA time (sec)\",\n",
    "                    zaxis_title='Acquisition Function')\n",
    "                  )\n",
    "fig.show()"
   ],
   "outputs": [
    {
     "output_type": "display_data",
     "data": {
      "application/vnd.plotly.v1+json": {
       "config": {
        "plotlyServerURL": "https://plot.ly"
       },
       "data": [
        {
         "type": "surface",
         "x": [
          337.5,
          350.4310302734375,
          363.362060546875,
          376.2930908203125,
          389.22412109375,
          402.1551513671875,
          415.0862121582031,
          428.0172424316406,
          440.9482727050781,
          453.8793029785156,
          466.8103332519531,
          479.7413635253906,
          492.67242431640625,
          505.60345458984375,
          518.5344848632812,
          531.4655151367188,
          544.3965454101562,
          557.3275756835938,
          570.2586059570312,
          583.189697265625,
          596.1207275390625,
          609.0517578125,
          621.9827880859375,
          634.913818359375,
          647.8448486328125,
          660.77587890625,
          673.7069091796875,
          686.637939453125,
          699.5689697265625,
          712.5
         ],
         "y": [
          9.64285659790039,
          30.701967239379883,
          51.761077880859375,
          72.8201904296875,
          93.87930297851562,
          114.93841552734375,
          135.9975128173828,
          157.05662536621094,
          178.11573791503906,
          199.1748504638672,
          220.2339630126953,
          241.29306030273438,
          262.3521728515625,
          283.4112854003906,
          304.47039794921875,
          325.5295104980469,
          346.58868408203125,
          367.6477966308594,
          388.7069091796875,
          409.7659912109375,
          430.82513427734375,
          451.88421630859375,
          472.943359375,
          494.00244140625,
          515.0615844726562,
          536.1206665039062,
          557.1798095703125,
          578.2388916015625,
          599.2980346679688,
          620.3571166992188
         ],
         "z": [
          [
           5.98791137454337e-21,
           1.1800810318686408e-34,
           1.8404880251418502e-26,
           1.50443860586508e-13,
           0.0000028520742975970723,
           0.008320304431773527,
           0.1527305354077882,
           0.30745117613784967,
           0.3169770709515216,
           0.27412322319588256,
           0.2085029299566904,
           0.10587718213770553,
           0.02666363152131393,
           0.04023976565653081,
           0.20932890766746348,
           0.3579555492172888,
           0.32879033727958984,
           0.21109966242321077,
           0.0786443341323555,
           0.0063588827665169365,
           0.000020895523999418938,
           0.00007732751034397311,
           0.006859058283413967,
           0.03929801666884897,
           0.06590559674853369,
           0.05296146010427194,
           0.01596959539968909,
           0.0004547777207568396,
           0.0000016349522011495311,
           0.0003085591610479735
          ],
          [
           1.9030741633937426e-22,
           1.4178668354409343e-38,
           1.027862949742032e-26,
           1.1768077188731839e-12,
           0.000013164312194422791,
           0.02262011231092749,
           0.26581836255040736,
           0.40482920975057524,
           0.3518767201209262,
           0.27832479212435124,
           0.20695637248116783,
           0.10609074035050137,
           0.026619707922049013,
           0.03897241383748398,
           0.20713600951825817,
           0.3439001674611034,
           0.30316921640135686,
           0.19312160040874427,
           0.07230059948103024,
           0.005336112298221646,
           0.000010224830549326446,
           0.0000523436476027022,
           0.0064257381991536175,
           0.0386741505365997,
           0.06540587910648593,
           0.0522294161815724,
           0.015149630200780487,
           0.00033949427820696883,
           5.127184624976332e-7,
           0.00022162936280699418
          ],
          [
           1.6340273511041618e-22,
           2.523110351384863e-38,
           1.063023441713072e-23,
           1.588171571090131e-10,
           0.00016479509484730245,
           0.07355675285760477,
           0.45264111864489,
           0.5120103903300661,
           0.36997138767778637,
           0.2676862022548435,
           0.20043304100673498,
           0.1129675158023179,
           0.038347940752728266,
           0.0538713160126191,
           0.21261838694969326,
           0.31516043322853016,
           0.2579850703756398,
           0.16665895913775897,
           0.06762102430587513,
           0.006010652795365799,
           0.000028439600758370354,
           0.00010709398398160209,
           0.0073386545682380955,
           0.03990485703350366,
           0.06619253626134103,
           0.05311130036476536,
           0.016091546075005403,
           0.00047318329289800475,
           0.000001896905951006498,
           0.000322667462663964
          ],
          [
           4.207364258112789e-21,
           4.405312758506414e-34,
           4.2331203328010046e-19,
           4.1302821848133344e-8,
           0.0022302428880349133,
           0.21612836590178924,
           0.709627024079269,
           0.609085728393612,
           0.3613165656717059,
           0.2399701153537228,
           0.18845582384892823,
           0.1261044542992325,
           0.06622838976273593,
           0.09083415093950725,
           0.22835487436706114,
           0.27519434729225634,
           0.1977769580515435,
           0.13506440994730468,
           0.06552035169920312,
           0.008920538058016209,
           0.00020644157896554252,
           0.0004248649800423828,
           0.00985121296736402,
           0.04296096479142486,
           0.06820627596498119,
           0.05554910110684447,
           0.018867712857969038,
           0.0010414999439919154,
           0.00002532659551721827,
           0.0007796280113863199
          ],
          [
           1.2579122917039166e-18,
           6.755036550645245e-28,
           1.2542087674973901e-14,
           0.000004593509416928997,
           0.01754946199109833,
           0.4828593024586487,
           0.9879827567374224,
           0.6698081621945442,
           0.32024034047001904,
           0.196993330994905,
           0.1715895325087743,
           0.14354333029486377,
           0.1111157683626211,
           0.15015986768060186,
           0.25412678880724104,
           0.23187681307197894,
           0.13373109253149823,
           0.10396906753892188,
           0.06690255904862558,
           0.015436205273388265,
           0.0013755176086076588,
           0.0017712167789193725,
           0.014454299714539806,
           0.047716030727472714,
           0.07128202646709952,
           0.05937146083773703,
           0.023615374961274194,
           0.0026629550078449103,
           0.0002812463508791831,
           0.002186252337986236
          ],
          [
           1.065536310756151e-15,
           9.47375146659482e-22,
           5.0808880077564445e-11,
           0.00014993357198407348,
           0.07230043626671023,
           0.8083628057266101,
           1.208415752695646,
           0.6711417868443088,
           0.25021790793906573,
           0.14560310988320918,
           0.15162038306045933,
           0.16209732262368537,
           0.1658889835530648,
           0.22108963658281744,
           0.2861628383467214,
           0.1955134253152676,
           0.08103998030920279,
           0.07951448463509736,
           0.07256405288724777,
           0.02722797405183902,
           0.0058467306114431405,
           0.005782499533261161,
           0.02159381500653021,
           0.05390669319550745,
           0.07516082177820593,
           0.06429238485865485,
           0.030370614635252063,
           0.006371454094436464,
           0.001688638975968642,
           0.005603972817545072
          ],
          [
           7.661193096812508e-13,
           1.275618683696159e-16,
           2.4127552796506696e-8,
           0.0016933915509276705,
           0.17745028986349115,
           1.071327309986112,
           1.3023586477930964,
           0.6048779083425677,
           0.1666305762200576,
           0.0961992045710705,
           0.1312039608915101,
           0.1783677875209203,
           0.21916344726895853,
           0.2880998832359799,
           0.3182993967299732,
           0.17436384559977808,
           0.05035480987084398,
           0.06586650532020216,
           0.08299729956440371,
           0.045057433443029205,
           0.016331543073693708,
           0.014179508114991649,
           0.031315245826250754,
           0.06111550706500729,
           0.07951735908547247,
           0.06992721985644945,
           0.03890361327776998,
           0.013120192142617879,
           0.005927629918670574,
           0.012079351221725876
          ],
          [
           2.329080213756473e-10,
           1.0395736486378935e-12,
           0.0000019633841195163405,
           0.00868554750248414,
           0.30101933213671306,
           1.1851720993329737,
           1.2431055284883772,
           0.48560917360659406,
           0.09257076086042498,
           0.05821127260729203,
           0.113058806779055,
           0.18988076592587144,
           0.26143022192336973,
           0.3392783862128934,
           0.3444479401155338,
           0.17095781247061942,
           0.04172779765097051,
           0.0643229061438566,
           0.098056247577191,
           0.06784292534205,
           0.03343211920072184,
           0.0273524333940017,
           0.043068214114664716,
           0.06880414392608392,
           0.08400045886969365,
           0.07583400217965547,
           0.048663664231771986,
           0.02309068800726391,
           0.01419795647547957,
           0.02188629378489823
          ],
          [
           2.3687434774960216e-8,
           7.222796291471825e-10,
           0.00004262485457841455,
           0.025418586204868865,
           0.391977361594944,
           1.1284767983650243,
           1.052614286806544,
           0.3478921222058692,
           0.045122714886172366,
           0.03520346918149095,
           0.0991480556428157,
           0.19567734214271537,
           0.2879130597483913,
           0.36931673825453126,
           0.36059199669669195,
           0.1821293406575465,
           0.050976243198293414,
           0.07441375417699242,
           0.11665337735039027,
           0.09288569030783855,
           0.05500155198013623,
           0.04394481588767807,
           0.05580992174147942,
           0.07639390449375066,
           0.088281410691947,
           0.08157630641842983,
           0.058873580747637155,
           0.03547686895248481,
           0.026178359018936503,
           0.034253866066993655
          ],
          [
           8.482495504765655e-7,
           7.45414806482161e-8,
           0.00035679869991661096,
           0.04992021755615733,
           0.416729285827488,
           0.9337321742706012,
           0.7897124294246902,
           0.2290757349457112,
           0.02372048479022268,
           0.024642365888561862,
           0.09031629767234417,
           0.19619329230449067,
           0.2982963258951977,
           0.3785230948850308,
           0.3653629499968837,
           0.20150160091350244,
           0.07509489914398904,
           0.09434491031621806,
           0.13677990504105308,
           0.11694701970806626,
           0.07756452784066231,
           0.06162817340384641,
           0.06832444730139486,
           0.08336603022683015,
           0.09209725674447905,
           0.08678703361776746,
           0.06871560028443724,
           0.04885903937139602,
           0.040296061014284235,
           0.04773928475618883
          ],
          [
           0.000012801208209927762,
           0.0000019396928203733603,
           0.001522989771402878,
           0.07345420610608883,
           0.373243840905394,
           0.6674556141126728,
           0.5266118373484653,
           0.1485521092030408,
           0.017685480896515254,
           0.02235980849578678,
           0.08645625690923248,
           0.19270476246047286,
           0.2951712478693421,
           0.370607340733215,
           0.3595254796366576,
           0.2222183321595771,
           0.1089447674791384,
           0.12040113034172495,
           0.15595533367462566,
           0.1373155213921171,
           0.09794129171337251,
           0.07813194772527832,
           0.07955701521900466,
           0.08934237802907341,
           0.09527862715742119,
           0.09121499890491741,
           0.0775148113432102,
           0.061774029678099196,
           0.05463003341450379,
           0.06083047162151617
          ],
          [
           0.0001007302921392486,
           0.000019872272392713354,
           0.004098899922021469,
           0.08763064589894942,
           0.2860469750809145,
           0.40771163788006176,
           0.3196591759187871,
           0.10375212078316948,
           0.019666223310738695,
           0.025861602106802745,
           0.08689927088775579,
           0.18672066747984428,
           0.2824005234754644,
           0.35063509702811935,
           0.34509475614741625,
           0.23892263615575937,
           0.14471084088882136,
           0.1474806412760299,
           0.17188587018397317,
           0.1523680671347325,
           0.11410094086561706,
           0.09188336547657805,
           0.0888220326083396,
           0.09412415436610122,
           0.09775587811418407,
           0.09474172249693402,
           0.0848483485808254,
           0.0731239060665475,
           0.06762341433840297,
           0.07238042726739674
          ],
          [
           0.0005049337889352582,
           0.0001164115463394204,
           0.00827895215145847,
           0.09093343744302729,
           0.19176642294982316,
           0.21573879749955566,
           0.1885361608212498,
           0.08320712669190239,
           0.027319670935515517,
           0.0342367031540495,
           0.09072583055014682,
           0.1795552952328554,
           0.26389487900087716,
           0.3235987576375223,
           0.32455636534915744,
           0.24858321729346922,
           0.1753555711877326,
           0.1708194816342059,
           0.18299443250669312,
           0.1616250020408364,
           0.1252800822218958,
           0.10217245587312912,
           0.09585186507779597,
           0.09768489345505021,
           0.09954691618426398,
           0.0973694078894276,
           0.09056492809048616,
           0.0823256368744874,
           0.0783714306586773,
           0.0817715032495342
          ],
          [
           0.0019004653994959472,
           0.0005307755326323061,
           0.014700068557007229,
           0.08934700881049407,
           0.12079964836574203,
           0.10935229227856208,
           0.12034328772047959,
           0.07757746422438638,
           0.0400412434415901,
           0.04691094886701269,
           0.09693069793309084,
           0.17214284656199863,
           0.24291296173958543,
           0.293628897955003,
           0.3003502176864158,
           0.250352318562328,
           0.1968120162970709,
           0.18733968857515204,
           0.18864630453069875,
           0.16549962513369,
           0.13169791411261367,
           0.10901062418012442,
           0.10072708097446242,
           0.10013144966116072,
           0.10073276736120157,
           0.09919040024477627,
           0.09473721998764084,
           0.08926365301571143,
           0.08659173598822084,
           0.08886944175904232
          ],
          [
           0.0059835587989982425,
           0.0022754110085833855,
           0.026180293629857382,
           0.0924656302041803,
           0.08418298434795607,
           0.0661871662718897,
           0.09221438318559577,
           0.08186325234515035,
           0.057213067957462393,
           0.0629344880686088,
           0.10451430793969818,
           0.16503286292205177,
           0.22180058193299435,
           0.2637171601112206,
           0.2745895273243111,
           0.2449595648771623,
           0.20801393805771662,
           0.19596945828266454,
           0.18907847902260866,
           0.16494813710663347,
           0.13415479190593926,
           0.11286967561872507,
           0.10375402257822519,
           0.10165061363661587,
           0.1014285680135949,
           0.10034786212516084,
           0.09758183279873661,
           0.09414664308655019,
           0.09244506387547269,
           0.09387709784799159
          ],
          [
           0.016401257180464382,
           0.009163704734151887,
           0.049475183266161654,
           0.11010237734428119,
           0.07815949714115178,
           0.05794544053224435,
           0.08785979537288113,
           0.09391048288493747,
           0.07793105353429985,
           0.08098639367089933,
           0.11256443989748272,
           0.1584808535045069,
           0.20202569526050362,
           0.23576590516694063,
           0.2489477407506231,
           0.23402631001364693,
           0.2099816254174922,
           0.19724634578431144,
           0.18515266833431476,
           0.16114761509698605,
           0.13367579804065755,
           0.11442825774808751,
           0.10534004522896845,
           0.10245912687646197,
           0.10175898272036521,
           0.10100198462559656,
           0.0993797505487578,
           0.0973517576335623,
           0.0963319100524721,
           0.09717335005536443
          ],
          [
           0.038801868920026156,
           0.030669328512850424,
           0.09514189739561113,
           0.15154857783156078,
           0.09892394899034762,
           0.07121524661348339,
           0.09965520979486014,
           0.11279172438272522,
           0.10114818970927847,
           0.09967405456007256,
           0.12033138249240904,
           0.15256042403718795,
           0.1843569161264187,
           0.2107989102963551,
           0.224641337576011,
           0.21949058189759552,
           0.2048178341991308,
           0.1926705475181132,
           0.17805393188576446,
           0.15525915887051867,
           0.1312637681170432,
           0.11438399328822857,
           0.10589837090960252,
           0.10276568864654656,
           0.10183936174760516,
           0.10130325321073147,
           0.10041389538729228,
           0.09929944974353755,
           0.09872819735518967,
           0.09918451218865088
          ],
          [
           0.07791265042032192,
           0.07860833542579676,
           0.1722570457043603,
           0.22407071918241628,
           0.14775310574645972,
           0.10354433564768634,
           0.12468640955213872,
           0.1377595501627894,
           0.12578745729526852,
           0.11780051060004126,
           0.12727997967391058,
           0.14725603541934074,
           0.16907856889492767,
           0.189213036260781,
           0.20246776431319002,
           0.2032015245174078,
           0.19492740571099743,
           0.18410456912836815,
           0.16902239781985096,
           0.1482850581784414,
           0.12776463329156662,
           0.11334365337884234,
           0.10579022506472674,
           0.10274844143253181,
           0.10176564242490382,
           0.10137801048514322,
           0.10093146860611496,
           0.10037452444746858,
           0.1000803872576213,
           0.10030187652808753
          ],
          [
           0.13284660824024253,
           0.15563900817575987,
           0.2806849692491894,
           0.32906997468342347,
           0.2256985366491091,
           0.15456859621366037,
           0.16096492606293133,
           0.16759259448522779,
           0.150752417649761,
           0.13448318473990983,
           0.13310146828569436,
           0.14252478632828047,
           0.15617682225147056,
           0.1710043957360935,
           0.18286738289313242,
           0.18668277989832738,
           0.18251650489692828,
           0.17333908984437085,
           0.15916399033530282,
           0.1410066356348012,
           0.12381927600270548,
           0.11177879720738682,
           0.10529880731033187,
           0.10254557276324788,
           0.10161038966218766,
           0.10132273717440626,
           0.10112655815908994,
           0.10088764891039331,
           0.10075394768052892,
           0.10084237910630822
          ],
          [
           0.19554973122540287,
           0.25018320503637326,
           0.409242985124867,
           0.4598309333965793,
           0.32832709866320076,
           0.22081039454676443,
           0.2052078575121068,
           0.20028004476218264,
           0.1749215259000395,
           0.14915970822114066,
           0.13768824815454372,
           0.13832560160291396,
           0.14547746960906172,
           0.15594052046769735,
           0.16600004044851657,
           0.17103811860747964,
           0.1693387257124115,
           0.1618459534710096,
           0.14934770012568221,
           0.1339766391092856,
           0.11986943785161674,
           0.11002290213573795,
           0.10462800770163866,
           0.10225561330654603,
           0.10142389646386196,
           0.10120499694295282,
           0.10113933262112845,
           0.10106765887422264,
           0.10102002909017976,
           0.10103948299756904
          ],
          [
           0.25385850062068327,
           0.3428301324485765,
           0.5403919508156465,
           0.6031086748032123,
           0.4449405410783319,
           0.2942400520979854,
           0.25207973908133163,
           0.23303463473412322,
           0.1971734841304268,
           0.1615376021739604,
           0.1410840141609324,
           0.1346282043954251,
           0.13673511039069364,
           0.1436782209151728,
           0.15181941660812848,
           0.15695681779178905,
           0.1566229153884121,
           0.15068687859945795,
           0.1401766672622906,
           0.12754487949959215,
           0.11619018702527739,
           0.10829114441841459,
           0.10391238537863107,
           0.10194301541057399,
           0.10123778641794134,
           0.10106799322977422,
           0.10106298330364871,
           0.10106964542801866,
           0.10106382270643677,
           0.10105207861340187
          ],
          [
           0.2959815542771308,
           0.4144735220929413,
           0.6557248153634944,
           0.7424986161978481,
           0.5605917764446605,
           0.3632174128924097,
           0.29460603626633064,
           0.2626117641066327,
           0.21645801130110986,
           0.17152169685265262,
           0.1434244037470812,
           0.1314087196252307,
           0.1296843459063709,
           0.13383741884167955,
           0.1401428325251628,
           0.1447792573403176,
           0.14511658106239622,
           0.14052803907944922,
           0.13201020946757736,
           0.12189816019307287,
           0.11293028899021296,
           0.10670776135439464,
           0.10323247253733497,
           0.10164634336548861,
           0.10106953898094806,
           0.1009365207763343,
           0.10095451798043947,
           0.10099079345755879,
           0.10100214174937516,
           0.10097975603438203
          ],
          [
           0.3137794816357038,
           0.4508624245328331,
           0.7394052206685632,
           0.8615134326300804,
           0.6588966224168,
           0.4147010457238055,
           0.3254704041087456,
           0.28588909302254517,
           0.23191751540462757,
           0.17915469096905512,
           0.14488206489535427,
           0.12864083848954178,
           0.1240663887691319,
           0.12604361110134277,
           0.13070769183392061,
           0.1345852184064973,
           0.13518457583675814,
           0.13170978251576781,
           0.12501063621035535,
           0.11710337859146769,
           0.11014920694588992,
           0.1053329344327259,
           0.10263020547664098,
           0.10138489398394851,
           0.10092708920018739,
           0.10082263432680039,
           0.1008452437194382,
           0.10088681378093206,
           0.10090296360179424,
           0.10087983147514318
          ],
          [
           0.3044844118813006,
           0.4446112742790036,
           0.780170545469944,
           0.9460272761603497,
           0.7249242541833693,
           0.4370795036226419,
           0.3388326378205574,
           0.3005731997440566,
           0.24302261650713985,
           0.1845714790033781,
           0.14562626705048087,
           0.1262891592977864,
           0.1196411100587208,
           0.11994928321251241,
           0.12321687265356207,
           0.126282418692228,
           0.12692123214732653,
           0.12433600214354668,
           0.1191984083753691,
           0.1131457470550663,
           0.10784837508427025,
           0.10418420989415555,
           0.10212209207769318,
           0.1011662233057748,
           0.10081174530179754,
           0.10073023779471718,
           0.10074984130707837,
           0.10078652093936968,
           0.10080169114596887,
           0.10078198214199197
          ],
          [
           0.2713489518983637,
           0.3965941627739856,
           0.7730119245400965,
           0.9864906211132466,
           0.7481469697957944,
           0.4234240470820767,
           0.3322261378154897,
           0.3058158101443793,
           0.2496690856332039,
           0.18796686041079325,
           0.14579762793871454,
           0.12430471864685211,
           0.11619141014910761,
           0.11524360564581948,
           0.11736816517420312,
           0.11967902385719043,
           0.12024979403072267,
           0.11835642791939094,
           0.11450196049660288,
           0.10995955886761677,
           0.105994485287764,
           0.1032538610362978,
           0.10170891793686981,
           0.10099006698925078,
           0.10072179090599964,
           0.10065894775309064,
           0.10067338190973901,
           0.1007018969074634,
           0.10071414941131179,
           0.10069889596988885
          ],
          [
           0.22330138033904423,
           0.3174714310372908,
           0.7212074023957968,
           0.9802475582851361,
           0.7257856964770464,
           0.3751140085705772,
           0.3080563463743533,
           0.30253275175316974,
           0.2522016656616729,
           0.18957085012349983,
           0.14549807491869837,
           0.12262652292779996,
           0.1135246927213387,
           0.11165495754039856,
           0.11287518347852288,
           0.1145385995106909,
           0.11500004143408027,
           0.11363327094663689,
           0.11079812632827546,
           0.10745241398001992,
           0.10453526442265892,
           0.10251992436700891,
           0.101382790357738,
           0.10085255254816639,
           0.10065362882774598,
           0.10060591381133244,
           0.10061544053423793,
           0.10063602144894962,
           0.1006450539258475,
           0.10063405421735927
          ],
          [
           0.17292042219885584,
           0.2280433667283801,
           0.638230707666345,
           0.9336079978031879,
           0.6662260466077929,
           0.3050068503942549,
           0.27384057824379826,
           0.29323607353837733,
           0.251335011038739,
           0.1896297817597401,
           0.1447920623329746,
           0.12118510539729788,
           0.11147261973770972,
           0.1089507141342102,
           0.1094780562376213,
           0.11061560477717192,
           0.11096238415365944,
           0.10998888049531186,
           0.10794157924361358,
           0.10552113483579623,
           0.10341152714581925,
           0.10195443553889627,
           0.10113195088057042,
           0.10074790517518123,
           0.10060316659517499,
           0.10056767141353429,
           0.1005734017301822,
           0.10058751701952034,
           0.10059378013796622,
           0.10058614718493947
          ],
          [
           0.13232486669739624,
           0.15421979991715629,
           0.5472811937027092,
           0.8622928046401949,
           0.590355706666941,
           0.23674352506740526,
           0.24026377134385335,
           0.2813065372494197,
           0.24797690033338438,
           0.188382737880033,
           0.14371547311161448,
           0.11990900921464875,
           0.10989102091761704,
           0.10693485047946494,
           0.10694951089950178,
           0.10767762857635244,
           0.10792143138761068,
           0.10723689635156664,
           0.10578423575713031,
           0.10406352848178063,
           0.10256379039112284,
           0.10152804054895709,
           0.10094329680068803,
           0.10067007734799072,
           0.10056677618931081,
           0.1005407347997932,
           0.10054384607340328,
           0.10055312482754913,
           0.10055732663873246,
           0.10055230047215863
          ],
          [
           0.10862344489816556,
           0.11399369586956165,
           0.4741374848546407,
           0.7872923533844967,
           0.525593680508234,
           0.19491742537244572,
           0.21714049635227872,
           0.2699524655780575,
           0.24301242364701725,
           0.18604393088395277,
           0.1422857299418867,
           0.1187307498466541,
           0.1086590259526572,
           0.1054450879684598,
           0.10509590200158508,
           0.1055170729363541,
           0.1056761666907014,
           0.10520055283822949,
           0.10418721451126656,
           0.10298510925829718,
           0.10193693133753695,
           0.10121300804372313,
           0.10080442749632418,
           0.10061344139054934,
           0.10054102326330677,
           0.10052222811095657,
           0.10052373595762953,
           0.10052971033740671,
           0.10053240328557483,
           0.10052905519675526
          ],
          [
           0.1027899511677493,
           0.10885934495503174,
           0.4339025301930799,
           0.7253783239829703,
           0.49059799686764993,
           0.1902876836219819,
           0.20946985691766007,
           0.26125158797326586,
           0.2371175582742998,
           0.1827904665935456,
           0.14051413238082144,
           0.11759309125856188,
           0.10767848052150852,
           0.10434982345022775,
           0.10375705589148432,
           0.10395630799721312,
           0.1040499989231875,
           0.10372320680418384,
           0.10302809753879194,
           0.1022023792734219,
           0.10148224489328184,
           0.100984863725186,
           0.10070414526632526,
           0.10057293869591305,
           0.10052301607903524,
           0.10050983060701824,
           0.10051034521817265,
           0.10051404592978996,
           0.1005157453889885,
           0.10051362632656724
          ]
         ]
        },
        {
         "mode": "markers",
         "name": "max(pi)",
         "type": "scatter3d",
         "x": [
          402.1551513671875
         ],
         "y": [
          157.05662536621094
         ],
         "z": [
          0.49880605936050415
         ]
        }
       ],
       "layout": {
        "height": 600,
        "legend": {
         "orientation": "h",
         "x": 1,
         "xanchor": "right",
         "y": 1.02,
         "yanchor": "bottom"
        },
        "margin": {
         "b": 10,
         "l": 10,
         "r": 20,
         "t": 10
        },
        "scene": {
         "aspectmode": "auto",
         "aspectratio": {
          "x": 1,
          "y": 1,
          "z": 1
         },
         "camera": {
          "center": {
           "x": 0,
           "y": 0,
           "z": 0
          },
          "eye": {
           "x": 1.723086496666761,
           "y": 1.7230864966667612,
           "z": 1.723086496666761
          },
          "projection": {
           "type": "perspective"
          },
          "up": {
           "x": 0,
           "y": 0,
           "z": 1
          }
         },
         "xaxis": {
          "title": {
           "text": "RTA temperature (C)"
          },
          "type": "linear"
         },
         "yaxis": {
          "title": {
           "text": "RTA time (sec)"
          },
          "type": "linear"
         },
         "zaxis": {
          "title": {
           "text": "Acquisition Function"
          },
          "type": "linear"
         }
        },
        "template": {
         "data": {
          "bar": [
           {
            "error_x": {
             "color": "#2a3f5f"
            },
            "error_y": {
             "color": "#2a3f5f"
            },
            "marker": {
             "line": {
              "color": "#E5ECF6",
              "width": 0.5
             }
            },
            "type": "bar"
           }
          ],
          "barpolar": [
           {
            "marker": {
             "line": {
              "color": "#E5ECF6",
              "width": 0.5
             }
            },
            "type": "barpolar"
           }
          ],
          "carpet": [
           {
            "aaxis": {
             "endlinecolor": "#2a3f5f",
             "gridcolor": "white",
             "linecolor": "white",
             "minorgridcolor": "white",
             "startlinecolor": "#2a3f5f"
            },
            "baxis": {
             "endlinecolor": "#2a3f5f",
             "gridcolor": "white",
             "linecolor": "white",
             "minorgridcolor": "white",
             "startlinecolor": "#2a3f5f"
            },
            "type": "carpet"
           }
          ],
          "choropleth": [
           {
            "colorbar": {
             "outlinewidth": 0,
             "ticks": ""
            },
            "type": "choropleth"
           }
          ],
          "contour": [
           {
            "colorbar": {
             "outlinewidth": 0,
             "ticks": ""
            },
            "colorscale": [
             [
              0,
              "#0d0887"
             ],
             [
              0.1111111111111111,
              "#46039f"
             ],
             [
              0.2222222222222222,
              "#7201a8"
             ],
             [
              0.3333333333333333,
              "#9c179e"
             ],
             [
              0.4444444444444444,
              "#bd3786"
             ],
             [
              0.5555555555555556,
              "#d8576b"
             ],
             [
              0.6666666666666666,
              "#ed7953"
             ],
             [
              0.7777777777777778,
              "#fb9f3a"
             ],
             [
              0.8888888888888888,
              "#fdca26"
             ],
             [
              1,
              "#f0f921"
             ]
            ],
            "type": "contour"
           }
          ],
          "contourcarpet": [
           {
            "colorbar": {
             "outlinewidth": 0,
             "ticks": ""
            },
            "type": "contourcarpet"
           }
          ],
          "heatmap": [
           {
            "colorbar": {
             "outlinewidth": 0,
             "ticks": ""
            },
            "colorscale": [
             [
              0,
              "#0d0887"
             ],
             [
              0.1111111111111111,
              "#46039f"
             ],
             [
              0.2222222222222222,
              "#7201a8"
             ],
             [
              0.3333333333333333,
              "#9c179e"
             ],
             [
              0.4444444444444444,
              "#bd3786"
             ],
             [
              0.5555555555555556,
              "#d8576b"
             ],
             [
              0.6666666666666666,
              "#ed7953"
             ],
             [
              0.7777777777777778,
              "#fb9f3a"
             ],
             [
              0.8888888888888888,
              "#fdca26"
             ],
             [
              1,
              "#f0f921"
             ]
            ],
            "type": "heatmap"
           }
          ],
          "heatmapgl": [
           {
            "colorbar": {
             "outlinewidth": 0,
             "ticks": ""
            },
            "colorscale": [
             [
              0,
              "#0d0887"
             ],
             [
              0.1111111111111111,
              "#46039f"
             ],
             [
              0.2222222222222222,
              "#7201a8"
             ],
             [
              0.3333333333333333,
              "#9c179e"
             ],
             [
              0.4444444444444444,
              "#bd3786"
             ],
             [
              0.5555555555555556,
              "#d8576b"
             ],
             [
              0.6666666666666666,
              "#ed7953"
             ],
             [
              0.7777777777777778,
              "#fb9f3a"
             ],
             [
              0.8888888888888888,
              "#fdca26"
             ],
             [
              1,
              "#f0f921"
             ]
            ],
            "type": "heatmapgl"
           }
          ],
          "histogram": [
           {
            "marker": {
             "colorbar": {
              "outlinewidth": 0,
              "ticks": ""
             }
            },
            "type": "histogram"
           }
          ],
          "histogram2d": [
           {
            "colorbar": {
             "outlinewidth": 0,
             "ticks": ""
            },
            "colorscale": [
             [
              0,
              "#0d0887"
             ],
             [
              0.1111111111111111,
              "#46039f"
             ],
             [
              0.2222222222222222,
              "#7201a8"
             ],
             [
              0.3333333333333333,
              "#9c179e"
             ],
             [
              0.4444444444444444,
              "#bd3786"
             ],
             [
              0.5555555555555556,
              "#d8576b"
             ],
             [
              0.6666666666666666,
              "#ed7953"
             ],
             [
              0.7777777777777778,
              "#fb9f3a"
             ],
             [
              0.8888888888888888,
              "#fdca26"
             ],
             [
              1,
              "#f0f921"
             ]
            ],
            "type": "histogram2d"
           }
          ],
          "histogram2dcontour": [
           {
            "colorbar": {
             "outlinewidth": 0,
             "ticks": ""
            },
            "colorscale": [
             [
              0,
              "#0d0887"
             ],
             [
              0.1111111111111111,
              "#46039f"
             ],
             [
              0.2222222222222222,
              "#7201a8"
             ],
             [
              0.3333333333333333,
              "#9c179e"
             ],
             [
              0.4444444444444444,
              "#bd3786"
             ],
             [
              0.5555555555555556,
              "#d8576b"
             ],
             [
              0.6666666666666666,
              "#ed7953"
             ],
             [
              0.7777777777777778,
              "#fb9f3a"
             ],
             [
              0.8888888888888888,
              "#fdca26"
             ],
             [
              1,
              "#f0f921"
             ]
            ],
            "type": "histogram2dcontour"
           }
          ],
          "mesh3d": [
           {
            "colorbar": {
             "outlinewidth": 0,
             "ticks": ""
            },
            "type": "mesh3d"
           }
          ],
          "parcoords": [
           {
            "line": {
             "colorbar": {
              "outlinewidth": 0,
              "ticks": ""
             }
            },
            "type": "parcoords"
           }
          ],
          "pie": [
           {
            "automargin": true,
            "type": "pie"
           }
          ],
          "scatter": [
           {
            "marker": {
             "colorbar": {
              "outlinewidth": 0,
              "ticks": ""
             }
            },
            "type": "scatter"
           }
          ],
          "scatter3d": [
           {
            "line": {
             "colorbar": {
              "outlinewidth": 0,
              "ticks": ""
             }
            },
            "marker": {
             "colorbar": {
              "outlinewidth": 0,
              "ticks": ""
             }
            },
            "type": "scatter3d"
           }
          ],
          "scattercarpet": [
           {
            "marker": {
             "colorbar": {
              "outlinewidth": 0,
              "ticks": ""
             }
            },
            "type": "scattercarpet"
           }
          ],
          "scattergeo": [
           {
            "marker": {
             "colorbar": {
              "outlinewidth": 0,
              "ticks": ""
             }
            },
            "type": "scattergeo"
           }
          ],
          "scattergl": [
           {
            "marker": {
             "colorbar": {
              "outlinewidth": 0,
              "ticks": ""
             }
            },
            "type": "scattergl"
           }
          ],
          "scattermapbox": [
           {
            "marker": {
             "colorbar": {
              "outlinewidth": 0,
              "ticks": ""
             }
            },
            "type": "scattermapbox"
           }
          ],
          "scatterpolar": [
           {
            "marker": {
             "colorbar": {
              "outlinewidth": 0,
              "ticks": ""
             }
            },
            "type": "scatterpolar"
           }
          ],
          "scatterpolargl": [
           {
            "marker": {
             "colorbar": {
              "outlinewidth": 0,
              "ticks": ""
             }
            },
            "type": "scatterpolargl"
           }
          ],
          "scatterternary": [
           {
            "marker": {
             "colorbar": {
              "outlinewidth": 0,
              "ticks": ""
             }
            },
            "type": "scatterternary"
           }
          ],
          "surface": [
           {
            "colorbar": {
             "outlinewidth": 0,
             "ticks": ""
            },
            "colorscale": [
             [
              0,
              "#0d0887"
             ],
             [
              0.1111111111111111,
              "#46039f"
             ],
             [
              0.2222222222222222,
              "#7201a8"
             ],
             [
              0.3333333333333333,
              "#9c179e"
             ],
             [
              0.4444444444444444,
              "#bd3786"
             ],
             [
              0.5555555555555556,
              "#d8576b"
             ],
             [
              0.6666666666666666,
              "#ed7953"
             ],
             [
              0.7777777777777778,
              "#fb9f3a"
             ],
             [
              0.8888888888888888,
              "#fdca26"
             ],
             [
              1,
              "#f0f921"
             ]
            ],
            "type": "surface"
           }
          ],
          "table": [
           {
            "cells": {
             "fill": {
              "color": "#EBF0F8"
             },
             "line": {
              "color": "white"
             }
            },
            "header": {
             "fill": {
              "color": "#C8D4E3"
             },
             "line": {
              "color": "white"
             }
            },
            "type": "table"
           }
          ]
         },
         "layout": {
          "annotationdefaults": {
           "arrowcolor": "#2a3f5f",
           "arrowhead": 0,
           "arrowwidth": 1
          },
          "autotypenumbers": "strict",
          "coloraxis": {
           "colorbar": {
            "outlinewidth": 0,
            "ticks": ""
           }
          },
          "colorscale": {
           "diverging": [
            [
             0,
             "#8e0152"
            ],
            [
             0.1,
             "#c51b7d"
            ],
            [
             0.2,
             "#de77ae"
            ],
            [
             0.3,
             "#f1b6da"
            ],
            [
             0.4,
             "#fde0ef"
            ],
            [
             0.5,
             "#f7f7f7"
            ],
            [
             0.6,
             "#e6f5d0"
            ],
            [
             0.7,
             "#b8e186"
            ],
            [
             0.8,
             "#7fbc41"
            ],
            [
             0.9,
             "#4d9221"
            ],
            [
             1,
             "#276419"
            ]
           ],
           "sequential": [
            [
             0,
             "#0d0887"
            ],
            [
             0.1111111111111111,
             "#46039f"
            ],
            [
             0.2222222222222222,
             "#7201a8"
            ],
            [
             0.3333333333333333,
             "#9c179e"
            ],
            [
             0.4444444444444444,
             "#bd3786"
            ],
            [
             0.5555555555555556,
             "#d8576b"
            ],
            [
             0.6666666666666666,
             "#ed7953"
            ],
            [
             0.7777777777777778,
             "#fb9f3a"
            ],
            [
             0.8888888888888888,
             "#fdca26"
            ],
            [
             1,
             "#f0f921"
            ]
           ],
           "sequentialminus": [
            [
             0,
             "#0d0887"
            ],
            [
             0.1111111111111111,
             "#46039f"
            ],
            [
             0.2222222222222222,
             "#7201a8"
            ],
            [
             0.3333333333333333,
             "#9c179e"
            ],
            [
             0.4444444444444444,
             "#bd3786"
            ],
            [
             0.5555555555555556,
             "#d8576b"
            ],
            [
             0.6666666666666666,
             "#ed7953"
            ],
            [
             0.7777777777777778,
             "#fb9f3a"
            ],
            [
             0.8888888888888888,
             "#fdca26"
            ],
            [
             1,
             "#f0f921"
            ]
           ]
          },
          "colorway": [
           "#636efa",
           "#EF553B",
           "#00cc96",
           "#ab63fa",
           "#FFA15A",
           "#19d3f3",
           "#FF6692",
           "#B6E880",
           "#FF97FF",
           "#FECB52"
          ],
          "font": {
           "color": "#2a3f5f"
          },
          "geo": {
           "bgcolor": "white",
           "lakecolor": "white",
           "landcolor": "#E5ECF6",
           "showlakes": true,
           "showland": true,
           "subunitcolor": "white"
          },
          "hoverlabel": {
           "align": "left"
          },
          "hovermode": "closest",
          "mapbox": {
           "style": "light"
          },
          "paper_bgcolor": "white",
          "plot_bgcolor": "#E5ECF6",
          "polar": {
           "angularaxis": {
            "gridcolor": "white",
            "linecolor": "white",
            "ticks": ""
           },
           "bgcolor": "#E5ECF6",
           "radialaxis": {
            "gridcolor": "white",
            "linecolor": "white",
            "ticks": ""
           }
          },
          "scene": {
           "xaxis": {
            "backgroundcolor": "#E5ECF6",
            "gridcolor": "white",
            "gridwidth": 2,
            "linecolor": "white",
            "showbackground": true,
            "ticks": "",
            "zerolinecolor": "white"
           },
           "yaxis": {
            "backgroundcolor": "#E5ECF6",
            "gridcolor": "white",
            "gridwidth": 2,
            "linecolor": "white",
            "showbackground": true,
            "ticks": "",
            "zerolinecolor": "white"
           },
           "zaxis": {
            "backgroundcolor": "#E5ECF6",
            "gridcolor": "white",
            "gridwidth": 2,
            "linecolor": "white",
            "showbackground": true,
            "ticks": "",
            "zerolinecolor": "white"
           }
          },
          "shapedefaults": {
           "line": {
            "color": "#2a3f5f"
           }
          },
          "ternary": {
           "aaxis": {
            "gridcolor": "white",
            "linecolor": "white",
            "ticks": ""
           },
           "baxis": {
            "gridcolor": "white",
            "linecolor": "white",
            "ticks": ""
           },
           "bgcolor": "#E5ECF6",
           "caxis": {
            "gridcolor": "white",
            "linecolor": "white",
            "ticks": ""
           }
          },
          "title": {
           "x": 0.05
          },
          "xaxis": {
           "automargin": true,
           "gridcolor": "white",
           "linecolor": "white",
           "ticks": "",
           "title": {
            "standoff": 15
           },
           "zerolinecolor": "white",
           "zerolinewidth": 2
          },
          "yaxis": {
           "automargin": true,
           "gridcolor": "white",
           "linecolor": "white",
           "ticks": "",
           "title": {
            "standoff": 15
           },
           "zerolinecolor": "white",
           "zerolinewidth": 2
          }
         }
        },
        "width": 1000
       }
      },
      "image/png": "[encoded data removed]"
     },
     "metadata": {}
    }
   ],
   "metadata": {}
  },
  {
   "cell_type": "code",
   "execution_count": 23,
   "source": [
    "# look at acq_func manifold\n",
    "fig = go.Figure(data=[go.Surface(z=pred_var, x=test_grid[:,0], y=test_grid[:,1])])\n",
    "fig.add_trace(go.Scatter3d(x=test_grid[pi[1], 0].numpy(), y=test_grid[pi[0], 1].numpy(), z=[PI_acq_shape[pi[0], pi[1]]], mode='markers', name='max(pi)'))\n",
    "fig.update_layout( width=1000, height=600,\n",
    "                  margin=dict(r=20, l=10, b=10, t=10),\n",
    "                  legend=dict(orientation=\"h\", yanchor=\"bottom\", y=1.02, xanchor=\"right\",x=1),\n",
    "                  scene=dict(\n",
    "                    xaxis_title=\"RTA temperature (C)\",\n",
    "                    yaxis_title=\"RTA time (sec)\",\n",
    "                    zaxis_title='Acquisition Function')\n",
    "                  )\n",
    "fig.show()"
   ],
   "outputs": [
    {
     "output_type": "display_data",
     "data": {
      "application/vnd.plotly.v1+json": {
       "config": {
        "plotlyServerURL": "https://plot.ly"
       },
       "data": [
        {
         "type": "surface",
         "x": [
          337.5,
          350.4310302734375,
          363.362060546875,
          376.2930908203125,
          389.22412109375,
          402.1551513671875,
          415.0862121582031,
          428.0172424316406,
          440.9482727050781,
          453.8793029785156,
          466.8103332519531,
          479.7413635253906,
          492.67242431640625,
          505.60345458984375,
          518.5344848632812,
          531.4655151367188,
          544.3965454101562,
          557.3275756835938,
          570.2586059570312,
          583.189697265625,
          596.1207275390625,
          609.0517578125,
          621.9827880859375,
          634.913818359375,
          647.8448486328125,
          660.77587890625,
          673.7069091796875,
          686.637939453125,
          699.5689697265625,
          712.5
         ],
         "y": [
          9.64285659790039,
          30.701967239379883,
          51.761077880859375,
          72.8201904296875,
          93.87930297851562,
          114.93841552734375,
          135.9975128173828,
          157.05662536621094,
          178.11573791503906,
          199.1748504638672,
          220.2339630126953,
          241.29306030273438,
          262.3521728515625,
          283.4112854003906,
          304.47039794921875,
          325.5295104980469,
          346.58868408203125,
          367.6477966308594,
          388.7069091796875,
          409.7659912109375,
          430.82513427734375,
          451.88421630859375,
          472.943359375,
          494.00244140625,
          515.0615844726562,
          536.1206665039062,
          557.1798095703125,
          578.2388916015625,
          599.2980346679688,
          620.3571166992188
         ],
         "z": [
          [
           14.069831848144531,
           5.071098327636719,
           4.1682281494140625,
           4.735038757324219,
           4.741279602050781,
           6.541938781738281,
           16.788711547851562,
           36.6161994934082,
           55.24470520019531,
           61.6597785949707,
           52.16801071166992,
           30.54629135131836,
           10.89263916015625,
           9.627189636230469,
           26.754669189453125,
           46.537532806396484,
           57.38640213012695,
           57.350955963134766,
           45.43796920776367,
           24.35100555419922,
           8.518577575683594,
           12.954620361328125,
           34.44646072387695,
           56.115665435791016,
           65.96756744384766,
           61.076107025146484,
           42.670040130615234,
           19.16039276123047,
           7.458778381347656,
           17.827980041503906
          ],
          [
           10.891807556152344,
           2.3962478637695312,
           2.3756942749023438,
           3.1703872680664062,
           2.5435562133789062,
           3.4759902954101562,
           13.397804260253906,
           33.46086120605469,
           52.47063446044922,
           59.34870910644531,
           50.22599411010742,
           28.507465362548828,
           8.436302185058594,
           6.68731689453125,
           22.78036880493164,
           40.79729080200195,
           50.563568115234375,
           51.41496276855469,
           41.3769416809082,
           21.382469177246094,
           5.7383270263671875,
           10.494346618652344,
           32.81298828125,
           55.32229232788086,
           65.56050109863281,
           60.47199249267578,
           41.32915496826172,
           16.87900161743164,
           4.708946228027344,
           15.492820739746094
          ],
          [
           9.752830505371094,
           1.8592910766601562,
           3.0124588012695312,
           4.208198547363281,
           2.6748428344726562,
           2.535614013671875,
           11.884811401367188,
           31.174209594726562,
           49.34086990356445,
           56.57929992675781,
           49.32810974121094,
           29.95798110961914,
           11.351577758789062,
           8.882171630859375,
           21.498035430908203,
           34.79198455810547,
           41.899681091308594,
           44.18034362792969,
           38.266849517822266,
           22.199607849121094,
           8.592041015625,
           13.42852783203125,
           34.754234313964844,
           56.24785614013672,
           66.02799224853516,
           61.160884857177734,
           42.85732650756836,
           19.47881317138672,
           7.842803955078125,
           18.15384292602539
          ],
          [
           9.748580932617188,
           2.21929931640625,
           4.6785888671875,
           6.4470367431640625,
           3.8373794555664062,
           2.5986557006835938,
           11.29815673828125,
           28.899810791015625,
           45.058448791503906,
           52.65058898925781,
           48.837501525878906,
           34.17236328125,
           18.745620727539062,
           15.329097747802734,
           22.36223602294922,
           28.484634399414062,
           31.69131851196289,
           35.88424301147461,
           35.975730895996094,
           26.25000762939453,
           16.296321868896484,
           21.03531265258789,
           39.80242919921875,
           58.670143127441406,
           67.25786590576172,
           62.97762680053711,
           46.88749694824219,
           26.336368560791016,
           16.10763168334961,
           25.171642303466797
          ],
          [
           10.308395385742188,
           2.7647781372070312,
           6.449195861816406,
           8.881294250488281,
           5.20367431640625,
           2.9833602905273438,
           10.908660888671875,
           25.884418487548828,
           38.966697692871094,
           46.949012756347656,
           47.90902328491211,
           39.764923095703125,
           28.742630004882812,
           24.284358978271484,
           24.559349060058594,
           22.268203735351562,
           21.018962860107422,
           27.372180938720703,
           34.41060256958008,
           32.36040115356445,
           27.03011703491211,
           31.57525634765625,
           46.8114013671875,
           62.040077209472656,
           68.97144317626953,
           65.51045227050781,
           52.50630187988281,
           35.897396087646484,
           27.630325317382812,
           34.95576477050781
          ],
          [
           11.493186950683594,
           3.6688079833984375,
           8.286064147949219,
           11.314971923828125,
           6.7545166015625,
           3.728912353515625,
           10.529708862304688,
           21.88304901123047,
           30.994667053222656,
           39.374515533447266,
           45.9283447265625,
           45.25892639160156,
           39.211647033691406,
           33.861671447753906,
           27.4837646484375,
           17.119426727294922,
           11.70465087890625,
           20.084911346435547,
           33.728092193603516,
           39.241188049316406,
           38.625396728515625,
           42.935203552246094,
           54.37824249267578,
           65.68345642089844,
           70.82593536376953,
           68.2527084350586,
           58.590179443359375,
           46.249176025390625,
           40.10680389404297,
           45.54975128173828
          ],
          [
           13.719314575195312,
           5.617156982421875,
           10.731719970703125,
           14.10842514038086,
           8.933448791503906,
           5.235557556152344,
           10.372177124023438,
           17.285663604736328,
           21.931034088134766,
           30.6558837890625,
           42.89794921875,
           49.645225524902344,
           48.48332977294922,
           42.66794967651367,
           30.991363525390625,
           14.380905151367188,
           5.839241027832031,
           15.689990997314453,
           34.33998107910156,
           45.92445755004883,
           49.26953887939453,
           53.30723190307617,
           61.29339599609375,
           69.01708221435547,
           72.52433776855469,
           70.76521301269531,
           64.16441345214844,
           55.734230041503906,
           51.538028717041016,
           55.25628662109375
          ],
          [
           17.094745635986328,
           8.953025817871094,
           14.115482330322266,
           17.470870971679688,
           11.899078369140625,
           7.5648193359375,
           10.592636108398438,
           12.911361694335938,
           13.334724426269531,
           22.33395767211914,
           39.54597091674805,
           52.664955139160156,
           55.736778259277344,
           50.06943893432617,
           35.291168212890625,
           15.218040466308594,
           5.02783203125,
           15.46994400024414,
           36.683929443359375,
           51.933258056640625,
           57.913856506347656,
           61.610328674316406,
           66.8250732421875,
           71.68634033203125,
           73.88554382324219,
           72.7797622680664,
           68.63408660888672,
           63.339561462402344,
           60.70436477661133,
           63.03949737548828
          ],
          [
           20.901187896728516,
           12.997978210449219,
           17.895267486572266,
           20.881916046142578,
           15.005180358886719,
           10.016098022460938,
           10.959526062011719,
           9.631240844726562,
           7.065147399902344,
           16.33167266845703,
           37.06937789916992,
           54.7181396484375,
           60.961246490478516,
           56.059688568115234,
           40.59772872924805,
           20.040958404541016,
           9.721298217773438,
           19.77019500732422,
           40.90604782104492,
           57.17822265625,
           64.29318237304688,
           67.54750061035156,
           70.7643051147461,
           73.58805084228516,
           74.85629272460938,
           74.21715545654297,
           71.82337188720703,
           68.76631927490234,
           67.24468994140625,
           68.59303283691406
          ],
          [
           23.70614242553711,
           16.146709442138672,
           20.685802459716797,
           23.126583099365234,
           16.95688247680664,
           11.378120422363281,
           10.948738098144531,
           8.058502197265625,
           4.624794006347656,
           14.26226806640625,
           36.62360382080078,
           56.503990173339844,
           64.62979125976562,
           60.92363357543945,
           46.813804626464844,
           28.235519409179688,
           18.998512268066406,
           27.81354522705078,
           46.6700439453125,
           61.7307014465332,
           68.67631530761719,
           71.38935852050781,
           73.28699493408203,
           74.80514526367188,
           75.4781494140625,
           75.13849639892578,
           73.8676986694336,
           72.24490356445312,
           71.43714904785156,
           72.15290069580078
          ],
          [
           24.135997772216797,
           16.756656646728516,
           21.028919219970703,
           22.9683837890625,
           16.571216583251953,
           10.71270751953125,
           10.209846496582031,
           8.452491760253906,
           6.625053405761719,
           16.800872802734375,
           38.81715393066406,
           58.61473083496094,
           67.31968688964844,
           64.9398193359375,
           53.45335388183594,
           38.36226272583008,
           30.919544219970703,
           37.98634338378906,
           53.218894958496094,
           65.64404296875,
           71.54938507080078,
           73.6658935546875,
           74.75017547607422,
           75.5091552734375,
           75.83811950683594,
           75.67216491699219,
           75.05193328857422,
           74.25991821289062,
           73.86572265625,
           74.21504211425781
          ],
          [
           21.815845489501953,
           14.269180297851562,
           18.39547348022461,
           20.000667572021484,
           13.598777770996094,
           8.086280822753906,
           9.011100769042969,
           10.8065185546875,
           12.623985290527344,
           23.437515258789062,
           43.466278076171875,
           61.28289031982422,
           69.46009826660156,
           68.25179290771484,
           59.8179817199707,
           48.695892333984375,
           43.246429443359375,
           48.43267059326172,
           59.642578125,
           68.90206909179688,
           73.38481903076172,
           74.9175796508789,
           75.52347564697266,
           75.8787841796875,
           76.02714538574219,
           75.9526138305664,
           75.67430877685547,
           75.31893920898438,
           75.14205932617188,
           75.29878997802734
          ],
          [
           17.833072662353516,
           9.790473937988281,
           13.737495422363281,
           15.10269546508789,
           9.052970886230469,
           4.722801208496094,
           8.292404174804688,
           14.981842041015625,
           21.383075714111328,
           32.72356414794922,
           49.71245574951172,
           64.361572265625,
           71.26042938232422,
           70.89421844482422,
           65.27749633789062,
           57.801753997802734,
           54.15721893310547,
           57.64558029174805,
           65.1874771118164,
           71.46524047851562,
           74.54090118408203,
           75.56629180908203,
           75.89826202392578,
           76.0555419921875,
           76.1174545288086,
           76.08670043945312,
           75.97188568115234,
           75.82528686523438,
           75.7523193359375,
           75.81697845458984
          ],
          [
           14.366859436035156,
           5.723274230957031,
           9.217575073242188,
           10.215980529785156,
           4.867042541503906,
           2.4979629516601562,
           9.269943237304688,
           20.768939971923828,
           31.365951538085938,
           42.852787017822266,
           56.40221405029297,
           67.48223876953125,
           72.76747131347656,
           72.87944030761719,
           69.47713470458984,
           64.88084411621094,
           62.647987365722656,
           64.80018615722656,
           69.44876861572266,
           73.3367919921875,
           75.25692749023438,
           75.8887939453125,
           76.0661392211914,
           76.13277435302734,
           76.15679168701172,
           76.14513397216797,
           76.1015853881836,
           76.04598999023438,
           76.01831817626953,
           76.04283905029297
          ],
          [
           13.691448211669922,
           4.65936279296875,
           7.2751312255859375,
           7.5809173583984375,
           3.1186904907226562,
           3.1248779296875,
           12.857181549072266,
           27.86126708984375,
           41.21747589111328,
           52.26599884033203,
           62.5112419128418,
           70.26463317871094,
           73.9637680053711,
           74.260986328125,
           72.38447570800781,
           69.79518127441406,
           68.53993225097656,
           69.75859832763672,
           72.3869400024414,
           74.59193420410156,
           75.6869125366211,
           76.04503631591797,
           76.13636779785156,
           76.1637191772461,
           76.17243957519531,
           76.16838836669922,
           76.1531982421875,
           76.1338119506836,
           76.1241683959961,
           76.1327133178711
          ],
          [
           17.13571548461914,
           8.1932373046875,
           9.562187194824219,
           8.843833923339844,
           5.238151550292969,
           7.4853057861328125,
           19.248680114746094,
           35.805206298828125,
           50.030738830566406,
           60.014400482177734,
           67.41590118408203,
           72.46623992919922,
           74.84169006347656,
           75.14457702636719,
           74.20240783691406,
           72.8646011352539,
           72.21648406982422,
           72.85009002685547,
           74.21439361572266,
           75.36116790771484,
           75.93286895751953,
           76.11940002441406,
           76.1641616821289,
           76.17514038085938,
           76.17813110351562,
           76.17684173583984,
           76.1719741821289,
           76.16576385498047,
           76.16266632080078,
           76.1654052734375
          ],
          [
           24.55066680908203,
           16.278820037841797,
           16.298110961914062,
           14.45144271850586,
           11.52655029296875,
           15.373401641845703,
           27.849422454833984,
           44.00198745727539,
           57.37002182006836,
           65.80058288574219,
           70.94097900390625,
           74.02593231201172,
           75.43125915527344,
           75.6624984741211,
           75.23242950439453,
           74.59818267822266,
           74.29067993164062,
           74.59324645996094,
           75.24370574951172,
           75.79115295410156,
           76.06483459472656,
           76.15409088134766,
           76.17473602294922,
           76.17904663085938,
           76.1800308227539,
           76.17965698242188,
           76.17822265625,
           76.1763916015625,
           76.17547607421875,
           76.17628479003906
          ],
          [
           34.48654556274414,
           27.37380599975586,
           26.282283782958984,
           23.54497528076172,
           21.102481842041016,
           25.638282775878906,
           37.50198745727539,
           51.77958297729492,
           63.14112091064453,
           69.791748046875,
           73.23890686035156,
           75.02275848388672,
           75.79251098632812,
           75.94068908691406,
           75.76268005371094,
           75.48670196533203,
           75.35260772705078,
           75.48533630371094,
           75.7702865600586,
           76.01029205322266,
           76.13053131103516,
           76.16976928710938,
           76.17864990234375,
           76.1802978515625,
           76.18061065673828,
           76.18051147460938,
           76.18012237548828,
           76.17962646484375,
           76.17938232421875,
           76.17960357666016
          ],
          [
           44.853519439697266,
           39.14841079711914,
           37.441741943359375,
           34.32343673706055,
           32.22161865234375,
           36.56706237792969,
           46.83445739746094,
           58.50086212158203,
           67.42886352539062,
           72.36715698242188,
           74.61202239990234,
           75.60124206542969,
           75.99455261230469,
           76.07776641845703,
           76.0112533569336,
           75.90103912353516,
           75.8472900390625,
           75.90078735351562,
           76.0155029296875,
           76.11217498779297,
           76.16068267822266,
           76.17652893066406,
           76.18006896972656,
           76.18067932128906,
           76.18077850341797,
           76.18075561523438,
           76.18065643310547,
           76.18053436279297,
           76.18047332763672,
           76.18052673339844
          ],
          [
           53.64862823486328,
           49.29444885253906,
           47.55097198486328,
           44.64347457885742,
           42.79036331176758,
           46.31775665283203,
           54.5632209777832,
           63.65190124511719,
           70.37617492675781,
           73.92195129394531,
           75.36888122558594,
           75.90756225585938,
           76.0978012084961,
           76.13981628417969,
           76.11756134033203,
           76.0771713256836,
           76.05736541748047,
           76.07718658447266,
           76.11962890625,
           76.1554183959961,
           76.17339324951172,
           76.17926788330078,
           76.18057250976562,
           76.1807861328125,
           76.18081665039062,
           76.18081665039062,
           76.18079376220703,
           76.1807632446289,
           76.18074798583984,
           76.1807632446289
          ],
          [
           59.410240173339844,
           56.06743621826172,
           54.7929573059082,
           52.58772277832031,
           50.8747444152832,
           53.27233123779297,
           59.67155838012695,
           66.87934875488281,
           72.12128448486328,
           74.7684097290039,
           75.74990844726562,
           76.05545043945312,
           76.14603424072266,
           76.16566467285156,
           76.15911102294922,
           76.1455307006836,
           76.13882446289062,
           76.14556884765625,
           76.1600112915039,
           76.17218017578125,
           76.17829895019531,
           76.18030548095703,
           76.18074798583984,
           76.18081665039062,
           76.18083190917969,
           76.18082427978516,
           76.18082427978516,
           76.18081665039062,
           76.18081665039062,
           76.18081665039062
          ],
          [
           61.33251190185547,
           58.45551681518555,
           58.01740264892578,
           56.82129669189453,
           55.05769729614258,
           56.258907318115234,
           61.479549407958984,
           67.98731994628906,
           72.77889251708984,
           75.11631774902344,
           75.91220092773438,
           76.11891174316406,
           76.16647338867188,
           76.17556762695312,
           76.17396545410156,
           76.16978454589844,
           76.16769409179688,
           76.16980743408203,
           76.17431640625,
           76.1781234741211,
           76.18003845214844,
           76.18067169189453,
           76.1808090209961,
           76.18083190917969,
           76.18083190917969,
           76.18083190917969,
           76.18083190917969,
           76.18083190917969,
           76.18083190917969,
           76.18083190917969
          ],
          [
           59.19041442871094,
           56.128456115722656,
           56.77149963378906,
           56.727386474609375,
           54.621826171875,
           54.67936325073242,
           59.679771423339844,
           66.93663787841797,
           72.45277404785156,
           75.09599304199219,
           75.94638061523438,
           76.13984680175781,
           76.17401885986328,
           76.17903900146484,
           76.17882537841797,
           76.17765045166016,
           76.17705535888672,
           76.17766571044922,
           76.17896270751953,
           76.1800537109375,
           76.18060302734375,
           76.1807861328125,
           76.18082427978516,
           76.18083190917969,
           76.18083190917969,
           76.18083190917969,
           76.18083190917969,
           76.18083190917969,
           76.18083190917969,
           76.18083190917969
          ],
          [
           53.275604248046875,
           49.384246826171875,
           51.27385711669922,
           52.4256591796875,
           49.628997802734375,
           48.61412048339844,
           54.41046905517578,
           63.88525390625,
           71.2730484008789,
           74.7957763671875,
           75.90208435058594,
           76.13964080810547,
           76.17594909667969,
           76.18011474609375,
           76.18028259277344,
           76.17999267578125,
           76.1798324584961,
           76.17999267578125,
           76.18033599853516,
           76.18062591552734,
           76.18077087402344,
           76.18081665039062,
           76.18083190917969,
           76.18083190917969,
           76.18083190917969,
           76.18083190917969,
           76.18083190917969,
           76.18083190917969,
           76.18083190917969,
           76.18083190917969
          ],
          [
           44.438819885253906,
           39.199241638183594,
           42.43386459350586,
           44.770774841308594,
           40.96626663208008,
           38.93574142456055,
           46.374359130859375,
           59.26842498779297,
           69.44718170166016,
           74.29798889160156,
           75.80988311767578,
           76.12894439697266,
           76.17555236816406,
           76.18036651611328,
           76.1806869506836,
           76.18062591552734,
           76.18058776855469,
           76.18062591552734,
           76.18070983886719,
           76.18077850341797,
           76.18081665039062,
           76.18083190917969,
           76.18083190917969,
           76.18083190917969,
           76.18083190917969,
           76.18083190917969,
           76.18083190917969,
           76.18083190917969,
           76.18083190917969,
           76.18083190917969
          ],
          [
           34.151954650878906,
           27.290191650390625,
           31.865955352783203,
           35.316436767578125,
           30.327133178710938,
           27.352519989013672,
           36.91255187988281,
           53.857940673828125,
           67.29769134521484,
           73.70320129394531,
           75.69532775878906,
           76.11381530761719,
           76.17427825927734,
           76.18035888671875,
           76.18077850341797,
           76.1807861328125,
           76.18077850341797,
           76.1807861328125,
           76.18080139160156,
           76.18082427978516,
           76.18083190917969,
           76.18083190917969,
           76.18083190917969,
           76.18083190917969,
           76.18083190917969,
           76.18083190917969,
           76.18083190917969,
           76.18083190917969,
           76.18083190917969,
           76.18083190917969
          ],
          [
           24.40996551513672,
           15.987991333007812,
           21.742015838623047,
           26.136249542236328,
           20.012264251708984,
           16.23523712158203,
           27.894329071044922,
           48.714195251464844,
           65.2523422241211,
           73.13489532470703,
           75.58479309082031,
           76.09880065917969,
           76.1728744506836,
           76.18028259277344,
           76.18080139160156,
           76.18082427978516,
           76.18082427978516,
           76.18082427978516,
           76.18082427978516,
           76.18083190917969,
           76.18083190917969,
           76.18083190917969,
           76.18083190917969,
           76.18083190917969,
           76.18083190917969,
           76.18083190917969,
           76.18083190917969,
           76.18083190917969,
           76.18083190917969,
           76.18083190917969
          ],
          [
           17.351604461669922,
           7.791419982910156,
           14.368778228759766,
           19.410614013671875,
           12.458045959472656,
           8.127098083496094,
           21.33721160888672,
           44.97914123535156,
           63.76704788208008,
           72.72174072265625,
           75.50420379638672,
           76.08777618408203,
           76.17182159423828,
           76.18021392822266,
           76.18080139160156,
           76.18083190917969,
           76.18083190917969,
           76.18083190917969,
           76.18083190917969,
           76.18083190917969,
           76.18083190917969,
           76.18083190917969,
           76.18083190917969,
           76.18083190917969,
           76.18083190917969,
           76.18083190917969,
           76.18083190917969,
           76.18083190917969,
           76.18083190917969,
           76.18083190917969
          ],
          [
           14.664886474609375,
           4.6697540283203125,
           11.557838439941406,
           16.841876983642578,
           9.571487426757812,
           5.0312347412109375,
           18.835834503173828,
           43.55530548095703,
           63.201171875,
           72.56439208984375,
           75.47351837158203,
           76.08357238769531,
           76.17142486572266,
           76.18019104003906,
           76.18080139160156,
           76.18083190917969,
           76.18083190917969,
           76.18083190917969,
           76.18083190917969,
           76.18083190917969,
           76.18083190917969,
           76.18083190917969,
           76.18083190917969,
           76.18083190917969,
           76.18083190917969,
           76.18083190917969,
           76.18083190917969,
           76.18083190917969,
           76.18083190917969,
           76.18083190917969
          ],
          [
           17.029621124267578,
           7.4186859130859375,
           14.04296875,
           19.124713897705078,
           12.132003784179688,
           7.7635955810546875,
           21.037155151367188,
           44.808128356933594,
           63.700016021728516,
           72.70352935791016,
           75.50077056884766,
           76.08732604980469,
           76.17178344726562,
           76.18021392822266,
           76.18080139160156,
           76.18083190917969,
           76.18083190917969,
           76.18083190917969,
           76.18083190917969,
           76.18083190917969,
           76.18083190917969,
           76.18083190917969,
           76.18083190917969,
           76.18083190917969,
           76.18083190917969,
           76.18083190917969,
           76.18083190917969,
           76.18083190917969,
           76.18083190917969,
           76.18083190917969
          ]
         ]
        },
        {
         "mode": "markers",
         "name": "max(pi)",
         "type": "scatter3d",
         "x": [
          415.0862121582031
         ],
         "y": [
          114.93841552734375
         ],
         "z": [
          0.5610659718513489
         ]
        }
       ],
       "layout": {
        "height": 600,
        "legend": {
         "orientation": "h",
         "x": 1,
         "xanchor": "right",
         "y": 1.02,
         "yanchor": "bottom"
        },
        "margin": {
         "b": 10,
         "l": 10,
         "r": 20,
         "t": 10
        },
        "scene": {
         "aspectmode": "auto",
         "aspectratio": {
          "x": 1,
          "y": 1,
          "z": 1
         },
         "xaxis": {
          "title": {
           "text": "RTA temperature (C)"
          },
          "type": "linear"
         },
         "yaxis": {
          "title": {
           "text": "RTA time (sec)"
          },
          "type": "linear"
         },
         "zaxis": {
          "title": {
           "text": "Acquisition Function"
          },
          "type": "linear"
         }
        },
        "template": {
         "data": {
          "bar": [
           {
            "error_x": {
             "color": "#2a3f5f"
            },
            "error_y": {
             "color": "#2a3f5f"
            },
            "marker": {
             "line": {
              "color": "#E5ECF6",
              "width": 0.5
             }
            },
            "type": "bar"
           }
          ],
          "barpolar": [
           {
            "marker": {
             "line": {
              "color": "#E5ECF6",
              "width": 0.5
             }
            },
            "type": "barpolar"
           }
          ],
          "carpet": [
           {
            "aaxis": {
             "endlinecolor": "#2a3f5f",
             "gridcolor": "white",
             "linecolor": "white",
             "minorgridcolor": "white",
             "startlinecolor": "#2a3f5f"
            },
            "baxis": {
             "endlinecolor": "#2a3f5f",
             "gridcolor": "white",
             "linecolor": "white",
             "minorgridcolor": "white",
             "startlinecolor": "#2a3f5f"
            },
            "type": "carpet"
           }
          ],
          "choropleth": [
           {
            "colorbar": {
             "outlinewidth": 0,
             "ticks": ""
            },
            "type": "choropleth"
           }
          ],
          "contour": [
           {
            "colorbar": {
             "outlinewidth": 0,
             "ticks": ""
            },
            "colorscale": [
             [
              0,
              "#0d0887"
             ],
             [
              0.1111111111111111,
              "#46039f"
             ],
             [
              0.2222222222222222,
              "#7201a8"
             ],
             [
              0.3333333333333333,
              "#9c179e"
             ],
             [
              0.4444444444444444,
              "#bd3786"
             ],
             [
              0.5555555555555556,
              "#d8576b"
             ],
             [
              0.6666666666666666,
              "#ed7953"
             ],
             [
              0.7777777777777778,
              "#fb9f3a"
             ],
             [
              0.8888888888888888,
              "#fdca26"
             ],
             [
              1,
              "#f0f921"
             ]
            ],
            "type": "contour"
           }
          ],
          "contourcarpet": [
           {
            "colorbar": {
             "outlinewidth": 0,
             "ticks": ""
            },
            "type": "contourcarpet"
           }
          ],
          "heatmap": [
           {
            "colorbar": {
             "outlinewidth": 0,
             "ticks": ""
            },
            "colorscale": [
             [
              0,
              "#0d0887"
             ],
             [
              0.1111111111111111,
              "#46039f"
             ],
             [
              0.2222222222222222,
              "#7201a8"
             ],
             [
              0.3333333333333333,
              "#9c179e"
             ],
             [
              0.4444444444444444,
              "#bd3786"
             ],
             [
              0.5555555555555556,
              "#d8576b"
             ],
             [
              0.6666666666666666,
              "#ed7953"
             ],
             [
              0.7777777777777778,
              "#fb9f3a"
             ],
             [
              0.8888888888888888,
              "#fdca26"
             ],
             [
              1,
              "#f0f921"
             ]
            ],
            "type": "heatmap"
           }
          ],
          "heatmapgl": [
           {
            "colorbar": {
             "outlinewidth": 0,
             "ticks": ""
            },
            "colorscale": [
             [
              0,
              "#0d0887"
             ],
             [
              0.1111111111111111,
              "#46039f"
             ],
             [
              0.2222222222222222,
              "#7201a8"
             ],
             [
              0.3333333333333333,
              "#9c179e"
             ],
             [
              0.4444444444444444,
              "#bd3786"
             ],
             [
              0.5555555555555556,
              "#d8576b"
             ],
             [
              0.6666666666666666,
              "#ed7953"
             ],
             [
              0.7777777777777778,
              "#fb9f3a"
             ],
             [
              0.8888888888888888,
              "#fdca26"
             ],
             [
              1,
              "#f0f921"
             ]
            ],
            "type": "heatmapgl"
           }
          ],
          "histogram": [
           {
            "marker": {
             "colorbar": {
              "outlinewidth": 0,
              "ticks": ""
             }
            },
            "type": "histogram"
           }
          ],
          "histogram2d": [
           {
            "colorbar": {
             "outlinewidth": 0,
             "ticks": ""
            },
            "colorscale": [
             [
              0,
              "#0d0887"
             ],
             [
              0.1111111111111111,
              "#46039f"
             ],
             [
              0.2222222222222222,
              "#7201a8"
             ],
             [
              0.3333333333333333,
              "#9c179e"
             ],
             [
              0.4444444444444444,
              "#bd3786"
             ],
             [
              0.5555555555555556,
              "#d8576b"
             ],
             [
              0.6666666666666666,
              "#ed7953"
             ],
             [
              0.7777777777777778,
              "#fb9f3a"
             ],
             [
              0.8888888888888888,
              "#fdca26"
             ],
             [
              1,
              "#f0f921"
             ]
            ],
            "type": "histogram2d"
           }
          ],
          "histogram2dcontour": [
           {
            "colorbar": {
             "outlinewidth": 0,
             "ticks": ""
            },
            "colorscale": [
             [
              0,
              "#0d0887"
             ],
             [
              0.1111111111111111,
              "#46039f"
             ],
             [
              0.2222222222222222,
              "#7201a8"
             ],
             [
              0.3333333333333333,
              "#9c179e"
             ],
             [
              0.4444444444444444,
              "#bd3786"
             ],
             [
              0.5555555555555556,
              "#d8576b"
             ],
             [
              0.6666666666666666,
              "#ed7953"
             ],
             [
              0.7777777777777778,
              "#fb9f3a"
             ],
             [
              0.8888888888888888,
              "#fdca26"
             ],
             [
              1,
              "#f0f921"
             ]
            ],
            "type": "histogram2dcontour"
           }
          ],
          "mesh3d": [
           {
            "colorbar": {
             "outlinewidth": 0,
             "ticks": ""
            },
            "type": "mesh3d"
           }
          ],
          "parcoords": [
           {
            "line": {
             "colorbar": {
              "outlinewidth": 0,
              "ticks": ""
             }
            },
            "type": "parcoords"
           }
          ],
          "pie": [
           {
            "automargin": true,
            "type": "pie"
           }
          ],
          "scatter": [
           {
            "marker": {
             "colorbar": {
              "outlinewidth": 0,
              "ticks": ""
             }
            },
            "type": "scatter"
           }
          ],
          "scatter3d": [
           {
            "line": {
             "colorbar": {
              "outlinewidth": 0,
              "ticks": ""
             }
            },
            "marker": {
             "colorbar": {
              "outlinewidth": 0,
              "ticks": ""
             }
            },
            "type": "scatter3d"
           }
          ],
          "scattercarpet": [
           {
            "marker": {
             "colorbar": {
              "outlinewidth": 0,
              "ticks": ""
             }
            },
            "type": "scattercarpet"
           }
          ],
          "scattergeo": [
           {
            "marker": {
             "colorbar": {
              "outlinewidth": 0,
              "ticks": ""
             }
            },
            "type": "scattergeo"
           }
          ],
          "scattergl": [
           {
            "marker": {
             "colorbar": {
              "outlinewidth": 0,
              "ticks": ""
             }
            },
            "type": "scattergl"
           }
          ],
          "scattermapbox": [
           {
            "marker": {
             "colorbar": {
              "outlinewidth": 0,
              "ticks": ""
             }
            },
            "type": "scattermapbox"
           }
          ],
          "scatterpolar": [
           {
            "marker": {
             "colorbar": {
              "outlinewidth": 0,
              "ticks": ""
             }
            },
            "type": "scatterpolar"
           }
          ],
          "scatterpolargl": [
           {
            "marker": {
             "colorbar": {
              "outlinewidth": 0,
              "ticks": ""
             }
            },
            "type": "scatterpolargl"
           }
          ],
          "scatterternary": [
           {
            "marker": {
             "colorbar": {
              "outlinewidth": 0,
              "ticks": ""
             }
            },
            "type": "scatterternary"
           }
          ],
          "surface": [
           {
            "colorbar": {
             "outlinewidth": 0,
             "ticks": ""
            },
            "colorscale": [
             [
              0,
              "#0d0887"
             ],
             [
              0.1111111111111111,
              "#46039f"
             ],
             [
              0.2222222222222222,
              "#7201a8"
             ],
             [
              0.3333333333333333,
              "#9c179e"
             ],
             [
              0.4444444444444444,
              "#bd3786"
             ],
             [
              0.5555555555555556,
              "#d8576b"
             ],
             [
              0.6666666666666666,
              "#ed7953"
             ],
             [
              0.7777777777777778,
              "#fb9f3a"
             ],
             [
              0.8888888888888888,
              "#fdca26"
             ],
             [
              1,
              "#f0f921"
             ]
            ],
            "type": "surface"
           }
          ],
          "table": [
           {
            "cells": {
             "fill": {
              "color": "#EBF0F8"
             },
             "line": {
              "color": "white"
             }
            },
            "header": {
             "fill": {
              "color": "#C8D4E3"
             },
             "line": {
              "color": "white"
             }
            },
            "type": "table"
           }
          ]
         },
         "layout": {
          "annotationdefaults": {
           "arrowcolor": "#2a3f5f",
           "arrowhead": 0,
           "arrowwidth": 1
          },
          "autotypenumbers": "strict",
          "coloraxis": {
           "colorbar": {
            "outlinewidth": 0,
            "ticks": ""
           }
          },
          "colorscale": {
           "diverging": [
            [
             0,
             "#8e0152"
            ],
            [
             0.1,
             "#c51b7d"
            ],
            [
             0.2,
             "#de77ae"
            ],
            [
             0.3,
             "#f1b6da"
            ],
            [
             0.4,
             "#fde0ef"
            ],
            [
             0.5,
             "#f7f7f7"
            ],
            [
             0.6,
             "#e6f5d0"
            ],
            [
             0.7,
             "#b8e186"
            ],
            [
             0.8,
             "#7fbc41"
            ],
            [
             0.9,
             "#4d9221"
            ],
            [
             1,
             "#276419"
            ]
           ],
           "sequential": [
            [
             0,
             "#0d0887"
            ],
            [
             0.1111111111111111,
             "#46039f"
            ],
            [
             0.2222222222222222,
             "#7201a8"
            ],
            [
             0.3333333333333333,
             "#9c179e"
            ],
            [
             0.4444444444444444,
             "#bd3786"
            ],
            [
             0.5555555555555556,
             "#d8576b"
            ],
            [
             0.6666666666666666,
             "#ed7953"
            ],
            [
             0.7777777777777778,
             "#fb9f3a"
            ],
            [
             0.8888888888888888,
             "#fdca26"
            ],
            [
             1,
             "#f0f921"
            ]
           ],
           "sequentialminus": [
            [
             0,
             "#0d0887"
            ],
            [
             0.1111111111111111,
             "#46039f"
            ],
            [
             0.2222222222222222,
             "#7201a8"
            ],
            [
             0.3333333333333333,
             "#9c179e"
            ],
            [
             0.4444444444444444,
             "#bd3786"
            ],
            [
             0.5555555555555556,
             "#d8576b"
            ],
            [
             0.6666666666666666,
             "#ed7953"
            ],
            [
             0.7777777777777778,
             "#fb9f3a"
            ],
            [
             0.8888888888888888,
             "#fdca26"
            ],
            [
             1,
             "#f0f921"
            ]
           ]
          },
          "colorway": [
           "#636efa",
           "#EF553B",
           "#00cc96",
           "#ab63fa",
           "#FFA15A",
           "#19d3f3",
           "#FF6692",
           "#B6E880",
           "#FF97FF",
           "#FECB52"
          ],
          "font": {
           "color": "#2a3f5f"
          },
          "geo": {
           "bgcolor": "white",
           "lakecolor": "white",
           "landcolor": "#E5ECF6",
           "showlakes": true,
           "showland": true,
           "subunitcolor": "white"
          },
          "hoverlabel": {
           "align": "left"
          },
          "hovermode": "closest",
          "mapbox": {
           "style": "light"
          },
          "paper_bgcolor": "white",
          "plot_bgcolor": "#E5ECF6",
          "polar": {
           "angularaxis": {
            "gridcolor": "white",
            "linecolor": "white",
            "ticks": ""
           },
           "bgcolor": "#E5ECF6",
           "radialaxis": {
            "gridcolor": "white",
            "linecolor": "white",
            "ticks": ""
           }
          },
          "scene": {
           "xaxis": {
            "backgroundcolor": "#E5ECF6",
            "gridcolor": "white",
            "gridwidth": 2,
            "linecolor": "white",
            "showbackground": true,
            "ticks": "",
            "zerolinecolor": "white"
           },
           "yaxis": {
            "backgroundcolor": "#E5ECF6",
            "gridcolor": "white",
            "gridwidth": 2,
            "linecolor": "white",
            "showbackground": true,
            "ticks": "",
            "zerolinecolor": "white"
           },
           "zaxis": {
            "backgroundcolor": "#E5ECF6",
            "gridcolor": "white",
            "gridwidth": 2,
            "linecolor": "white",
            "showbackground": true,
            "ticks": "",
            "zerolinecolor": "white"
           }
          },
          "shapedefaults": {
           "line": {
            "color": "#2a3f5f"
           }
          },
          "ternary": {
           "aaxis": {
            "gridcolor": "white",
            "linecolor": "white",
            "ticks": ""
           },
           "baxis": {
            "gridcolor": "white",
            "linecolor": "white",
            "ticks": ""
           },
           "bgcolor": "#E5ECF6",
           "caxis": {
            "gridcolor": "white",
            "linecolor": "white",
            "ticks": ""
           }
          },
          "title": {
           "x": 0.05
          },
          "xaxis": {
           "automargin": true,
           "gridcolor": "white",
           "linecolor": "white",
           "ticks": "",
           "title": {
            "standoff": 15
           },
           "zerolinecolor": "white",
           "zerolinewidth": 2
          },
          "yaxis": {
           "automargin": true,
           "gridcolor": "white",
           "linecolor": "white",
           "ticks": "",
           "title": {
            "standoff": 15
           },
           "zerolinecolor": "white",
           "zerolinewidth": 2
          }
         }
        },
        "width": 1000
       }
      },
      "image/png": "[encoded data removed]"
     },
     "metadata": {}
    }
   ],
   "metadata": {}
  }
 ],
 "metadata": {
  "interpreter": {
   "hash": "b00f9bca1c18369f730e284e4d0522d8a3e0f0b629e30dad99ec4bb4df6f08b7"
  },
  "kernelspec": {
   "name": "python3",
   "display_name": "Python 3.9.12 64-bit ('FEGP': conda)"
  },
  "language_info": {
   "codemirror_mode": {
    "name": "ipython",
    "version": 3
   },
   "file_extension": ".py",
   "mimetype": "text/x-python",
   "name": "python",
   "nbconvert_exporter": "python",
   "pygments_lexer": "ipython3",
   "version": "3.9.12"
  }
 },
 "nbformat": 4,
 "nbformat_minor": 4
}
