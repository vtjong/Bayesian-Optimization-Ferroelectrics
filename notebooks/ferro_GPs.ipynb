{
 "cells": [
  {
   "cell_type": "code",
   "execution_count": 26,
   "source": [
    "# allow imports from local \"src\" directory\n",
    "import sys\n",
    "sys.path.append('..')\n",
    "sys.path.insert(0, '../src')\n",
    "from acq_funcs import EI, PI, cust_acq, thompson\n",
    "import numpy as np\n",
    "import math\n",
    "\n",
    "import pandas as pd\n",
    "import torch\n",
    "import gpytorch\n",
    "import botorch\n",
    "from botorch.models.gpytorch import GPyTorchModel\n",
    "\n",
    "from matplotlib import pyplot as plt\n",
    "from matplotlib import cm\n",
    "import plotly.express as px\n",
    "\n",
    "import wandb\n",
    "%matplotlib inline\n",
    "%load_ext autoreload\n",
    "%autoreload 2\n",
    "\n",
    "print(gpytorch.__version__)"
   ],
   "outputs": [
    {
     "output_type": "stream",
     "name": "stdout",
     "text": [
      "The autoreload extension is already loaded. To reload it, use:\n",
      "  %reload_ext autoreload\n",
      "1.7.0\n"
     ]
    }
   ],
   "metadata": {}
  },
  {
   "cell_type": "markdown",
   "source": [
    "# Data import and preparation"
   ],
   "metadata": {
    "tags": []
   }
  },
  {
   "cell_type": "code",
   "execution_count": 27,
   "source": [
    "# Load data\n",
    "fe_data = pd.read_csv('../data/KHM005_KHM006_quartz_HZO_samples.csv', index_col=0)\n",
    "fe_data_len = len(fe_data['Thickness (nm)'])\n",
    "\n",
    "# Add duty cycle data\n",
    "duty_cycle_list = np.array([0.45, 0.55, 0.65])\n",
    "duty_cycles = np.random.choice(duty_cycle_list, size=fe_data_len)\n",
    "fe_data['Duty Cycle'] = duty_cycles\n",
    "\n",
    "# Add num pulses data\n",
    "num_pulses_list = np.array([15, 25])\n",
    "num_pulses = np.random.choice(num_pulses_list, size=fe_data_len)\n",
    "fe_data['Num Pulses'] = num_pulses\n",
    "\n",
    "# Rearrange columns\n",
    "cols = list(fe_data.columns.values) \n",
    "idx = cols.index(\"Flash time (msec)\")\n",
    "cols = cols[:idx+1] + cols[-2:] + cols[idx+1:-2]\n",
    "fe_data = fe_data[cols]"
   ],
   "outputs": [],
   "metadata": {}
  },
  {
   "cell_type": "code",
   "execution_count": 28,
   "source": [
    "# Write data back to csv\n",
    "import os  \n",
    "os.makedirs('../data', exist_ok=True) \n",
    "fe_data.to_csv('../data/KHM005_KHM006_quartz_HZO_samples2.csv') \n",
    "\n",
    "# Load manipulated data\n",
    "fe_data = pd.read_csv('../data/KHM005_KHM006_quartz_HZO_samples2.csv', index_col=0)\n",
    "fe_data.columns"
   ],
   "outputs": [
    {
     "output_type": "execute_result",
     "data": {
      "text/plain": [
       "Index(['Thickness (nm)', 'Flash voltage (kV)', 'Flash time (msec)',\n",
       "       'Duty Cycle', 'Num Pulses', 'Pr (uC/cm2), Pristine state',\n",
       "       '2Pr (uC/cm2), Pristine state', 'Predicted 2Pr', 'Coersive Voltage',\n",
       "       'Imprint', 'Endurance', 'Max temperature (degC)'],\n",
       "      dtype='object')"
      ]
     },
     "metadata": {},
     "execution_count": 28
    }
   ],
   "metadata": {}
  },
  {
   "cell_type": "code",
   "execution_count": 1,
   "source": [
    "fe_data.head()"
   ],
   "outputs": [
    {
     "output_type": "error",
     "ename": "NameError",
     "evalue": "name 'fe_data' is not defined",
     "traceback": [
      "\u001b[0;31m---------------------------------------------------------------------------\u001b[0m",
      "\u001b[0;31mNameError\u001b[0m                                 Traceback (most recent call last)",
      "Input \u001b[0;32mIn [1]\u001b[0m, in \u001b[0;36m<cell line: 1>\u001b[0;34m()\u001b[0m\n\u001b[0;32m----> 1\u001b[0m \u001b[43mfe_data\u001b[49m\u001b[38;5;241m.\u001b[39mhead()\n",
      "\u001b[0;31mNameError\u001b[0m: name 'fe_data' is not defined"
     ]
    }
   ],
   "metadata": {}
  },
  {
   "cell_type": "code",
   "execution_count": 30,
   "source": [
    "# Plot each cross-section\n",
    "fig = px.scatter_matrix(fe_data, dimensions=[\"Flash voltage (kV)\", \"Flash time (msec)\", \"Duty Cycle\", \"Num Pulses\", \"Pr (uC/cm2), Pristine state\"])\n",
    "# fig.update_layout(margin=dict(r=20, l=10, b=10, t=10))\n",
    "fig.update_layout(height=1000)\n",
    "fig.show()"
   ],
   "outputs": [
    {
     "output_type": "display_data",
     "data": {
      "application/vnd.plotly.v1+json": {
       "data": [
        {
         "dimensions": [
          {
           "axis": {
            "matches": true
           },
           "label": "Flash voltage (kV)",
           "values": [
            2,
            2,
            2.2,
            2.2,
            2.2,
            2.2,
            2.5,
            2.5,
            2.5,
            2.5,
            2.5,
            2.7,
            2.7,
            2.7,
            2.7,
            2.7,
            3,
            3,
            3,
            3,
            3
           ]
          },
          {
           "axis": {
            "matches": true
           },
           "label": "Flash time (msec)",
           "values": [
            2,
            5,
            1,
            1.5,
            2,
            5,
            0.5,
            1,
            1.5,
            2,
            5,
            0.5,
            1,
            1.5,
            2,
            5,
            0.5,
            1,
            1.5,
            2,
            5
           ]
          },
          {
           "axis": {
            "matches": true
           },
           "label": "Duty Cycle",
           "values": [
            0.65,
            0.65,
            0.45,
            0.65,
            0.45,
            0.55,
            0.45,
            0.45,
            0.45,
            0.55,
            0.65,
            0.55,
            0.65,
            0.55,
            0.55,
            0.45,
            0.65,
            0.65,
            0.45,
            0.45,
            0.55
           ]
          },
          {
           "axis": {
            "matches": true
           },
           "label": "Num Pulses",
           "values": [
            15,
            15,
            25,
            25,
            15,
            15,
            15,
            15,
            15,
            25,
            25,
            25,
            25,
            25,
            15,
            15,
            15,
            25,
            25,
            25,
            15
           ]
          },
          {
           "axis": {
            "matches": true
           },
           "label": "Pr (uC/cm2), Pristine state",
           "values": [
            1.39,
            3.94,
            4.69,
            13.82,
            13.81,
            13.39,
            2.23,
            12.46,
            13.74,
            19.71,
            15.22,
            11.99,
            16.41,
            18.35,
            17.97,
            18.67,
            14.65,
            15.44,
            15.33,
            13.43,
            20.14
           ]
          }
         ],
         "hovertemplate": "%{xaxis.title.text}=%{x}<br>%{yaxis.title.text}=%{y}<extra></extra>",
         "legendgroup": "",
         "marker": {
          "color": "#636efa",
          "symbol": "circle"
         },
         "name": "",
         "showlegend": false,
         "type": "splom"
        }
       ],
       "layout": {
        "template": {
         "data": {
          "bar": [
           {
            "error_x": {
             "color": "#2a3f5f"
            },
            "error_y": {
             "color": "#2a3f5f"
            },
            "marker": {
             "line": {
              "color": "#E5ECF6",
              "width": 0.5
             },
             "pattern": {
              "fillmode": "overlay",
              "size": 10,
              "solidity": 0.2
             }
            },
            "type": "bar"
           }
          ],
          "barpolar": [
           {
            "marker": {
             "line": {
              "color": "#E5ECF6",
              "width": 0.5
             },
             "pattern": {
              "fillmode": "overlay",
              "size": 10,
              "solidity": 0.2
             }
            },
            "type": "barpolar"
           }
          ],
          "carpet": [
           {
            "aaxis": {
             "endlinecolor": "#2a3f5f",
             "gridcolor": "white",
             "linecolor": "white",
             "minorgridcolor": "white",
             "startlinecolor": "#2a3f5f"
            },
            "baxis": {
             "endlinecolor": "#2a3f5f",
             "gridcolor": "white",
             "linecolor": "white",
             "minorgridcolor": "white",
             "startlinecolor": "#2a3f5f"
            },
            "type": "carpet"
           }
          ],
          "choropleth": [
           {
            "colorbar": {
             "outlinewidth": 0,
             "ticks": ""
            },
            "type": "choropleth"
           }
          ],
          "contour": [
           {
            "colorbar": {
             "outlinewidth": 0,
             "ticks": ""
            },
            "colorscale": [
             [
              0,
              "#0d0887"
             ],
             [
              0.1111111111111111,
              "#46039f"
             ],
             [
              0.2222222222222222,
              "#7201a8"
             ],
             [
              0.3333333333333333,
              "#9c179e"
             ],
             [
              0.4444444444444444,
              "#bd3786"
             ],
             [
              0.5555555555555556,
              "#d8576b"
             ],
             [
              0.6666666666666666,
              "#ed7953"
             ],
             [
              0.7777777777777778,
              "#fb9f3a"
             ],
             [
              0.8888888888888888,
              "#fdca26"
             ],
             [
              1,
              "#f0f921"
             ]
            ],
            "type": "contour"
           }
          ],
          "contourcarpet": [
           {
            "colorbar": {
             "outlinewidth": 0,
             "ticks": ""
            },
            "type": "contourcarpet"
           }
          ],
          "heatmap": [
           {
            "colorbar": {
             "outlinewidth": 0,
             "ticks": ""
            },
            "colorscale": [
             [
              0,
              "#0d0887"
             ],
             [
              0.1111111111111111,
              "#46039f"
             ],
             [
              0.2222222222222222,
              "#7201a8"
             ],
             [
              0.3333333333333333,
              "#9c179e"
             ],
             [
              0.4444444444444444,
              "#bd3786"
             ],
             [
              0.5555555555555556,
              "#d8576b"
             ],
             [
              0.6666666666666666,
              "#ed7953"
             ],
             [
              0.7777777777777778,
              "#fb9f3a"
             ],
             [
              0.8888888888888888,
              "#fdca26"
             ],
             [
              1,
              "#f0f921"
             ]
            ],
            "type": "heatmap"
           }
          ],
          "heatmapgl": [
           {
            "colorbar": {
             "outlinewidth": 0,
             "ticks": ""
            },
            "colorscale": [
             [
              0,
              "#0d0887"
             ],
             [
              0.1111111111111111,
              "#46039f"
             ],
             [
              0.2222222222222222,
              "#7201a8"
             ],
             [
              0.3333333333333333,
              "#9c179e"
             ],
             [
              0.4444444444444444,
              "#bd3786"
             ],
             [
              0.5555555555555556,
              "#d8576b"
             ],
             [
              0.6666666666666666,
              "#ed7953"
             ],
             [
              0.7777777777777778,
              "#fb9f3a"
             ],
             [
              0.8888888888888888,
              "#fdca26"
             ],
             [
              1,
              "#f0f921"
             ]
            ],
            "type": "heatmapgl"
           }
          ],
          "histogram": [
           {
            "marker": {
             "pattern": {
              "fillmode": "overlay",
              "size": 10,
              "solidity": 0.2
             }
            },
            "type": "histogram"
           }
          ],
          "histogram2d": [
           {
            "colorbar": {
             "outlinewidth": 0,
             "ticks": ""
            },
            "colorscale": [
             [
              0,
              "#0d0887"
             ],
             [
              0.1111111111111111,
              "#46039f"
             ],
             [
              0.2222222222222222,
              "#7201a8"
             ],
             [
              0.3333333333333333,
              "#9c179e"
             ],
             [
              0.4444444444444444,
              "#bd3786"
             ],
             [
              0.5555555555555556,
              "#d8576b"
             ],
             [
              0.6666666666666666,
              "#ed7953"
             ],
             [
              0.7777777777777778,
              "#fb9f3a"
             ],
             [
              0.8888888888888888,
              "#fdca26"
             ],
             [
              1,
              "#f0f921"
             ]
            ],
            "type": "histogram2d"
           }
          ],
          "histogram2dcontour": [
           {
            "colorbar": {
             "outlinewidth": 0,
             "ticks": ""
            },
            "colorscale": [
             [
              0,
              "#0d0887"
             ],
             [
              0.1111111111111111,
              "#46039f"
             ],
             [
              0.2222222222222222,
              "#7201a8"
             ],
             [
              0.3333333333333333,
              "#9c179e"
             ],
             [
              0.4444444444444444,
              "#bd3786"
             ],
             [
              0.5555555555555556,
              "#d8576b"
             ],
             [
              0.6666666666666666,
              "#ed7953"
             ],
             [
              0.7777777777777778,
              "#fb9f3a"
             ],
             [
              0.8888888888888888,
              "#fdca26"
             ],
             [
              1,
              "#f0f921"
             ]
            ],
            "type": "histogram2dcontour"
           }
          ],
          "mesh3d": [
           {
            "colorbar": {
             "outlinewidth": 0,
             "ticks": ""
            },
            "type": "mesh3d"
           }
          ],
          "parcoords": [
           {
            "line": {
             "colorbar": {
              "outlinewidth": 0,
              "ticks": ""
             }
            },
            "type": "parcoords"
           }
          ],
          "pie": [
           {
            "automargin": true,
            "type": "pie"
           }
          ],
          "scatter": [
           {
            "marker": {
             "colorbar": {
              "outlinewidth": 0,
              "ticks": ""
             }
            },
            "type": "scatter"
           }
          ],
          "scatter3d": [
           {
            "line": {
             "colorbar": {
              "outlinewidth": 0,
              "ticks": ""
             }
            },
            "marker": {
             "colorbar": {
              "outlinewidth": 0,
              "ticks": ""
             }
            },
            "type": "scatter3d"
           }
          ],
          "scattercarpet": [
           {
            "marker": {
             "colorbar": {
              "outlinewidth": 0,
              "ticks": ""
             }
            },
            "type": "scattercarpet"
           }
          ],
          "scattergeo": [
           {
            "marker": {
             "colorbar": {
              "outlinewidth": 0,
              "ticks": ""
             }
            },
            "type": "scattergeo"
           }
          ],
          "scattergl": [
           {
            "marker": {
             "colorbar": {
              "outlinewidth": 0,
              "ticks": ""
             }
            },
            "type": "scattergl"
           }
          ],
          "scattermapbox": [
           {
            "marker": {
             "colorbar": {
              "outlinewidth": 0,
              "ticks": ""
             }
            },
            "type": "scattermapbox"
           }
          ],
          "scatterpolar": [
           {
            "marker": {
             "colorbar": {
              "outlinewidth": 0,
              "ticks": ""
             }
            },
            "type": "scatterpolar"
           }
          ],
          "scatterpolargl": [
           {
            "marker": {
             "colorbar": {
              "outlinewidth": 0,
              "ticks": ""
             }
            },
            "type": "scatterpolargl"
           }
          ],
          "scatterternary": [
           {
            "marker": {
             "colorbar": {
              "outlinewidth": 0,
              "ticks": ""
             }
            },
            "type": "scatterternary"
           }
          ],
          "surface": [
           {
            "colorbar": {
             "outlinewidth": 0,
             "ticks": ""
            },
            "colorscale": [
             [
              0,
              "#0d0887"
             ],
             [
              0.1111111111111111,
              "#46039f"
             ],
             [
              0.2222222222222222,
              "#7201a8"
             ],
             [
              0.3333333333333333,
              "#9c179e"
             ],
             [
              0.4444444444444444,
              "#bd3786"
             ],
             [
              0.5555555555555556,
              "#d8576b"
             ],
             [
              0.6666666666666666,
              "#ed7953"
             ],
             [
              0.7777777777777778,
              "#fb9f3a"
             ],
             [
              0.8888888888888888,
              "#fdca26"
             ],
             [
              1,
              "#f0f921"
             ]
            ],
            "type": "surface"
           }
          ],
          "table": [
           {
            "cells": {
             "fill": {
              "color": "#EBF0F8"
             },
             "line": {
              "color": "white"
             }
            },
            "header": {
             "fill": {
              "color": "#C8D4E3"
             },
             "line": {
              "color": "white"
             }
            },
            "type": "table"
           }
          ]
         },
         "layout": {
          "annotationdefaults": {
           "arrowcolor": "#2a3f5f",
           "arrowhead": 0,
           "arrowwidth": 1
          },
          "autotypenumbers": "strict",
          "coloraxis": {
           "colorbar": {
            "outlinewidth": 0,
            "ticks": ""
           }
          },
          "colorscale": {
           "diverging": [
            [
             0,
             "#8e0152"
            ],
            [
             0.1,
             "#c51b7d"
            ],
            [
             0.2,
             "#de77ae"
            ],
            [
             0.3,
             "#f1b6da"
            ],
            [
             0.4,
             "#fde0ef"
            ],
            [
             0.5,
             "#f7f7f7"
            ],
            [
             0.6,
             "#e6f5d0"
            ],
            [
             0.7,
             "#b8e186"
            ],
            [
             0.8,
             "#7fbc41"
            ],
            [
             0.9,
             "#4d9221"
            ],
            [
             1,
             "#276419"
            ]
           ],
           "sequential": [
            [
             0,
             "#0d0887"
            ],
            [
             0.1111111111111111,
             "#46039f"
            ],
            [
             0.2222222222222222,
             "#7201a8"
            ],
            [
             0.3333333333333333,
             "#9c179e"
            ],
            [
             0.4444444444444444,
             "#bd3786"
            ],
            [
             0.5555555555555556,
             "#d8576b"
            ],
            [
             0.6666666666666666,
             "#ed7953"
            ],
            [
             0.7777777777777778,
             "#fb9f3a"
            ],
            [
             0.8888888888888888,
             "#fdca26"
            ],
            [
             1,
             "#f0f921"
            ]
           ],
           "sequentialminus": [
            [
             0,
             "#0d0887"
            ],
            [
             0.1111111111111111,
             "#46039f"
            ],
            [
             0.2222222222222222,
             "#7201a8"
            ],
            [
             0.3333333333333333,
             "#9c179e"
            ],
            [
             0.4444444444444444,
             "#bd3786"
            ],
            [
             0.5555555555555556,
             "#d8576b"
            ],
            [
             0.6666666666666666,
             "#ed7953"
            ],
            [
             0.7777777777777778,
             "#fb9f3a"
            ],
            [
             0.8888888888888888,
             "#fdca26"
            ],
            [
             1,
             "#f0f921"
            ]
           ]
          },
          "colorway": [
           "#636efa",
           "#EF553B",
           "#00cc96",
           "#ab63fa",
           "#FFA15A",
           "#19d3f3",
           "#FF6692",
           "#B6E880",
           "#FF97FF",
           "#FECB52"
          ],
          "font": {
           "color": "#2a3f5f"
          },
          "geo": {
           "bgcolor": "white",
           "lakecolor": "white",
           "landcolor": "#E5ECF6",
           "showlakes": true,
           "showland": true,
           "subunitcolor": "white"
          },
          "hoverlabel": {
           "align": "left"
          },
          "hovermode": "closest",
          "mapbox": {
           "style": "light"
          },
          "paper_bgcolor": "white",
          "plot_bgcolor": "#E5ECF6",
          "polar": {
           "angularaxis": {
            "gridcolor": "white",
            "linecolor": "white",
            "ticks": ""
           },
           "bgcolor": "#E5ECF6",
           "radialaxis": {
            "gridcolor": "white",
            "linecolor": "white",
            "ticks": ""
           }
          },
          "scene": {
           "xaxis": {
            "backgroundcolor": "#E5ECF6",
            "gridcolor": "white",
            "gridwidth": 2,
            "linecolor": "white",
            "showbackground": true,
            "ticks": "",
            "zerolinecolor": "white"
           },
           "yaxis": {
            "backgroundcolor": "#E5ECF6",
            "gridcolor": "white",
            "gridwidth": 2,
            "linecolor": "white",
            "showbackground": true,
            "ticks": "",
            "zerolinecolor": "white"
           },
           "zaxis": {
            "backgroundcolor": "#E5ECF6",
            "gridcolor": "white",
            "gridwidth": 2,
            "linecolor": "white",
            "showbackground": true,
            "ticks": "",
            "zerolinecolor": "white"
           }
          },
          "shapedefaults": {
           "line": {
            "color": "#2a3f5f"
           }
          },
          "ternary": {
           "aaxis": {
            "gridcolor": "white",
            "linecolor": "white",
            "ticks": ""
           },
           "baxis": {
            "gridcolor": "white",
            "linecolor": "white",
            "ticks": ""
           },
           "bgcolor": "#E5ECF6",
           "caxis": {
            "gridcolor": "white",
            "linecolor": "white",
            "ticks": ""
           }
          },
          "title": {
           "x": 0.05
          },
          "xaxis": {
           "automargin": true,
           "gridcolor": "white",
           "linecolor": "white",
           "ticks": "",
           "title": {
            "standoff": 15
           },
           "zerolinecolor": "white",
           "zerolinewidth": 2
          },
          "yaxis": {
           "automargin": true,
           "gridcolor": "white",
           "linecolor": "white",
           "ticks": "",
           "title": {
            "standoff": 15
           },
           "zerolinecolor": "white",
           "zerolinewidth": 2
          }
         }
        },
        "legend": {
         "tracegroupgap": 0
        },
        "margin": {
         "t": 60
        },
        "dragmode": "select",
        "height": 1000
       },
       "config": {
        "plotlyServerURL": "https://plot.ly"
       }
      }
     },
     "metadata": {}
    }
   ],
   "metadata": {}
  },
  {
   "cell_type": "code",
   "execution_count": 31,
   "source": [
    "def grid_helper(grid_size, num_params, grid_bounds):\n",
    "    grid = torch.zeros(grid_size, num_params)\n",
    "    f_grid_diff = lambda i, x, y : float((x[i][1] - x[i][0]) / (y-2))\n",
    "    for i in range(num_params):\n",
    "        grid_diff = f_grid_diff(i, grid_bounds, grid_size)\n",
    "        grid[:, i] = torch.linspace(grid_bounds[i][0] - grid_diff, \n",
    "                                    grid_bounds[i][1] + grid_diff, grid_size)\n",
    "    return grid"
   ],
   "outputs": [],
   "metadata": {}
  },
  {
   "cell_type": "code",
   "execution_count": 32,
   "source": [
    "# Prep training data\n",
    "from sklearn.preprocessing import StandardScaler\n",
    "T_scaler = StandardScaler()\n",
    "\n",
    "# Filter training data \n",
    "mask = ~np.isnan(fe_data['Pr (uC/cm2), Pristine state'])\n",
    "train_x = torch.Tensor(np.array([fe_data['Flash voltage (kV)'][mask].values, \n",
    "                       fe_data['Flash time (msec)'][mask].values, \n",
    "                       fe_data['Duty Cycle'][mask].values,\n",
    "                       fe_data['Num Pulses'][mask].values])).T\n",
    "train_y = torch.Tensor(fe_data['Pr (uC/cm2), Pristine state'][mask].values)\n",
    "\n",
    "# Define grid between bounds of RTA time, RTA temp\n",
    "num_params = train_x.size(dim=1)\n",
    "grid_bounds = [(train_x[:,i].min(), train_x[:,i].max()) for i in range(num_params)]\n",
    "grid = grid_helper(20, num_params, grid_bounds)\n",
    "\n",
    "# Set up test_grid for predictions\n",
    "n = 30\n",
    "test_grid = grid_helper(n, num_params, grid_bounds)\n",
    "\n",
    "# Create 4D grid\n",
    "args = (test_grid[:, i] for i in range(num_params))\n",
    "test_x = torch.cartesian_prod(*args)\n",
    "test_x.shape"
   ],
   "outputs": [
    {
     "output_type": "execute_result",
     "data": {
      "text/plain": [
       "torch.Size([810000, 4])"
      ]
     },
     "metadata": {},
     "execution_count": 32
    }
   ],
   "metadata": {}
  },
  {
   "cell_type": "code",
   "execution_count": 33,
   "source": [
    "def intermediate_plot(f, ax, obs, title):\n",
    "    im = ax.imshow(obs.mean.view(n, n), aspect='equal',\n",
    "                extent=[grid_bounds[0][0].item(), grid_bounds[0][1].item(),\n",
    "                            grid_bounds[1][0].item(), grid_bounds[1][1].item()])\n",
    "    f.colorbar(im)\n",
    "    # ax.scatter(train_x[:,0], train_x[:,1], c=train_y)\n",
    "    ax.set_title(title)"
   ],
   "outputs": [],
   "metadata": {}
  },
  {
   "cell_type": "markdown",
   "source": [
    "# wandb setup\n",
    "Run the INIT cell if we wish to just try one configuration; else run the notebook\n",
    "as is for sweeps."
   ],
   "metadata": {}
  },
  {
   "cell_type": "code",
   "execution_count": 34,
   "source": [
    "###### SWEEPS ########\n",
    "config = {\n",
    "  \"name\" : \"ferro_GP\",\n",
    "  \"method\" : \"bayes\",\n",
    "  \"metric\": {\n",
    "    \"goal\": \"minimize\",\n",
    "    \"name\" : \"train loss\"\n",
    "  },\n",
    "  \"parameters\" : {\n",
    "    \"epochs\" : {\n",
    "        \"values\" : [5000,6000,7000,8000,9000,10000]\n",
    "    },\n",
    "    \"lr\" : {\n",
    "        \"values\": [1e1, 1e0, 1e-1, 1e-2]\n",
    "    },\n",
    "    \"kernel\": {\n",
    "        \"values\": [\"rbf\"]\n",
    "    },\n",
    "    \"lscale_1\": {\n",
    "        \"values\": [0.1,0.5,1.0,5.0,10.0]\n",
    "    },\n",
    "    \"lscale_2\": {\n",
    "        \"values\": [0.1,0.5,1.0,5.0,10.0]\n",
    "    },\n",
    "    \"lscale_3\": {\n",
    "        \"values\": [0.1,0.5,1.0,5.0,10.0]\n",
    "    },\n",
    "    \"lscale_4\": {\n",
    "        \"values\": [0.1,0.5,1.0,5.0,10.0]\n",
    "    },\n",
    "    \"noise\": {\n",
    "        \"values\": [3.0, 5.0]\n",
    "    }\n",
    "  }\n",
    "}\n",
    "\n",
    "sweep_id = wandb.sweep(config, project=\"fegp runs\")"
   ],
   "outputs": [
    {
     "output_type": "stream",
     "name": "stdout",
     "text": [
      "Create sweep with ID: 3inxggoz\n",
      "Sweep URL: https://wandb.ai/valenetjong/fegp%20runs/sweeps/3inxggoz\n"
     ]
    }
   ],
   "metadata": {}
  },
  {
   "cell_type": "markdown",
   "source": [
    "# Build GP Classes/Models\n",
    "A bit of pytorch-esque construction here, but the important parts to take note of are the kernel / mean modules and `noises` array.  "
   ],
   "metadata": {
    "tags": []
   }
  },
  {
   "cell_type": "code",
   "execution_count": 35,
   "source": [
    "# Switch kernel\n",
    "def kernel_func(config_kernel):\n",
    "    if config_kernel == \"rbf\":\n",
    "        return gpytorch.kernels.ScaleKernel(\n",
    "            gpytorch.kernels.RBFKernel(ard_num_dims=num_params))"
   ],
   "outputs": [],
   "metadata": {}
  },
  {
   "cell_type": "code",
   "execution_count": 36,
   "source": [
    "# GP model class\n",
    "class GridGP(gpytorch.models.ExactGP, GPyTorchModel):\n",
    "    _num_outputs = 1\n",
    "    def __init__(self, train_x, train_y, likelihood, kernel):\n",
    "        super(GridGP, self).__init__(train_x, train_y, likelihood)  \n",
    "        self.mean_module = gpytorch.means.ConstantMean()\n",
    "        self.covar_module = kernel\n",
    "    \n",
    "    def forward(self, x):\n",
    "        mean_x = self.mean_module(x)\n",
    "        covar_x = self.covar_module(x)\n",
    "        return gpytorch.distributions.MultivariateNormal(mean_x, covar_x)"
   ],
   "outputs": [],
   "metadata": {}
  },
  {
   "cell_type": "code",
   "execution_count": 37,
   "source": [
    "# # Init GP model\n",
    "# config = wandb.config\n",
    "# kernel = kernel_func(config.kernel) \n",
    "# noises = config.noise * torch.ones(len(train_x))\n",
    "# likelihood = gpytorch.likelihoods.FixedNoiseGaussianLikelihood(noise=noises)\n",
    "# model = GridGP(train_x, train_y, likelihood, kernel)"
   ],
   "outputs": [],
   "metadata": {}
  },
  {
   "cell_type": "code",
   "execution_count": 38,
   "source": [
    "# Init GP model\n",
    "def make_model(train_x, train_y, config):\n",
    "    # 0-observation noise case\n",
    "    # likelihood = gpytorch.likelihoods.GaussianLikelihood()\n",
    "\n",
    "    # Case for fixed observation noise.  This is set to 5 based on the magnitude of\n",
    "    # the data, but can be played with.\n",
    "    kernel = kernel_func(config.kernel)\n",
    "    noises = config.noise * torch.ones(len(train_x))\n",
    "    likelihood = gpytorch.likelihoods.FixedNoiseGaussianLikelihood(noise=noises)\n",
    "    model = GridGP(train_x, train_y, likelihood, kernel)\n",
    "    lscale = [config.lscale_1, config.lscale_2, config.lscale_3, config.lscale_4]\n",
    "    model.covar_module.base_kernel.lengthscale = torch.tensor(lscale)\n",
    "    return likelihood, model"
   ],
   "outputs": [],
   "metadata": {}
  },
  {
   "cell_type": "code",
   "execution_count": 39,
   "source": [
    "# # Train and evaluate the model.  (short form)\n",
    "# from botorch.optim.fit import fit_gpytorch_torch\n",
    "\n",
    "# # initialize the log-likelihood, and supply it to the GP.  This will be used to \n",
    "# # make predictions.  \n",
    "# mll = gpytorch.mlls.ExactMarginalLogLikelihood(likelihood, model)\n",
    "# mll.train()\n",
    "# # convenience function for fitting gpytorch models\n",
    "# fit_gpytorch_torch(mll, options={'maxiter':2000, 'lr':10}) \n",
    "# mll.eval()"
   ],
   "outputs": [],
   "metadata": {}
  },
  {
   "cell_type": "code",
   "execution_count": 40,
   "source": [
    "# Training loop (long form, for inspection of results during training)\n",
    "def train(config_flag=True, config=None):\n",
    "    if config_flag: \n",
    "        wandb.init(project=\"fegp runs\")\n",
    "        config = wandb.config\n",
    "    likelihood, model = make_model(train_x, train_y, config)\n",
    "    training_iter = config.epochs\n",
    "\n",
    "    # Place both the model and likelihood in training mode\n",
    "    model.train()\n",
    "    likelihood.train()\n",
    "    optimizer = torch.optim.Adam(model.parameters(), lr=config.lr)\n",
    "    mll = gpytorch.mlls.ExactMarginalLogLikelihood(likelihood, model)\n",
    "\n",
    "    for i in range(training_iter):\n",
    "        optimizer.zero_grad()\n",
    "        output = model(train_x)\n",
    "\n",
    "        # backpropogate error\n",
    "        wandb.define_metric(\"train loss\", summary=\"min\")\n",
    "        loss = -mll(output, train_y)\n",
    "        wandb.log({\"train loss\": loss.item()})\n",
    "        loss.backward()\n",
    "\n",
    "        if i % 100 == 0: \n",
    "            print('Iter %d/%d - Loss: %.3f  lengthscale1: %s   noise: %s' % (\n",
    "                    i+1, training_iter, loss.item(), \n",
    "                    model.covar_module.base_kernel.lengthscale.detach().numpy(),\n",
    "                    model.likelihood.noise.detach().numpy()\n",
    "                    )) \n",
    "\n",
    "                    # # get a quick snapshot of intermediate \n",
    "                    # model.eval()\n",
    "                    # likelihood.eval()\n",
    "                    # with torch.no_grad(), gpytorch.settings.fast_pred_var():\n",
    "                    #     obs = likelihood(model(test_x))\n",
    "\n",
    "                    #     f, ax = plt.subplots(1, 1, figsize=(4,3))\n",
    "                    #     intermediate_plot(f, ax, obs, f'iter {i+1}/{training_iter}')\n",
    "                    # model.train()\n",
    "                    # likelihood.train()\n",
    "        optimizer.step()\n",
    "        \n",
    "        # Save trained model\n",
    "        # torch.save(model.state_dict(), 'models/my_gp_with_nn_model.pth')\n",
    "    return likelihood, model "
   ],
   "outputs": [],
   "metadata": {
    "tags": []
   }
  },
  {
   "cell_type": "code",
   "execution_count": 41,
   "source": [
    "%env \"WANDB_NOTEBOOK_NAME\" \"ferro_GPS\"\n",
    "wandb.agent(sweep_id, function=train, count=5)"
   ],
   "outputs": [
    {
     "output_type": "stream",
     "name": "stderr",
     "text": [
      "\u001b[34m\u001b[1mwandb\u001b[0m: \u001b[33mWARNING\u001b[0m Calling wandb.login() after wandb.init() has no effect.\n"
     ]
    },
    {
     "output_type": "stream",
     "name": "stdout",
     "text": [
      "env: \"WANDB_NOTEBOOK_NAME\"=\"ferro_GPS\"\n"
     ]
    },
    {
     "output_type": "stream",
     "name": "stderr",
     "text": [
      "\u001b[34m\u001b[1mwandb\u001b[0m: Agent Starting Run: q53tn8i3 with config:\n",
      "\u001b[34m\u001b[1mwandb\u001b[0m: \tepochs: 10000\n",
      "\u001b[34m\u001b[1mwandb\u001b[0m: \tkernel: rbf\n",
      "\u001b[34m\u001b[1mwandb\u001b[0m: \tlr: 1\n",
      "\u001b[34m\u001b[1mwandb\u001b[0m: \tlscale_1: 10\n",
      "\u001b[34m\u001b[1mwandb\u001b[0m: \tlscale_2: 5\n",
      "\u001b[34m\u001b[1mwandb\u001b[0m: \tlscale_3: 5\n",
      "\u001b[34m\u001b[1mwandb\u001b[0m: \tlscale_4: 0.1\n",
      "\u001b[34m\u001b[1mwandb\u001b[0m: \tnoise: 5\n",
      "\u001b[34m\u001b[1mwandb\u001b[0m: \u001b[33mWARNING\u001b[0m Ignored wandb.init() arg project when running a sweep.\n"
     ]
    },
    {
     "output_type": "display_data",
     "data": {
      "text/html": [
       "Tracking run with wandb version 0.12.21"
      ],
      "text/plain": [
       "<IPython.core.display.HTML object>"
      ]
     },
     "metadata": {}
    },
    {
     "output_type": "display_data",
     "data": {
      "text/html": [
       "Run data is saved locally in <code>/Users/valenetjong/Bayesian-Optimization-Ferroelectrics/notebooks/wandb/run-20220719_164125-q53tn8i3</code>"
      ],
      "text/plain": [
       "<IPython.core.display.HTML object>"
      ]
     },
     "metadata": {}
    },
    {
     "output_type": "display_data",
     "data": {
      "text/html": [
       "Syncing run <strong><a href=\"https://wandb.ai/valenetjong/fegp%20runs/runs/q53tn8i3\" target=\"_blank\">tough-sweep-1</a></strong> to <a href=\"https://wandb.ai/valenetjong/fegp%20runs\" target=\"_blank\">Weights & Biases</a> (<a href=\"https://wandb.me/run\" target=\"_blank\">docs</a>)<br/>Sweep page:  <a href=\"https://wandb.ai/valenetjong/fegp%20runs/sweeps/3inxggoz\" target=\"_blank\">https://wandb.ai/valenetjong/fegp%20runs/sweeps/3inxggoz</a>"
      ],
      "text/plain": [
       "<IPython.core.display.HTML object>"
      ]
     },
     "metadata": {}
    },
    {
     "output_type": "stream",
     "name": "stdout",
     "text": [
      "Iter 1/10000 - Loss: 12.084  lengthscale1: [[10.   5.   5.   0.1]]   noise: [5. 5. 5. 5. 5. 5. 5. 5. 5. 5. 5. 5. 5. 5. 5. 5. 5. 5. 5. 5. 5.]\n",
      "Iter 101/10000 - Loss: 3.277  lengthscale1: [[7.4328403e-03 1.2095350e+01 3.1551346e-04 2.0727386e+00]]   noise: [5. 5. 5. 5. 5. 5. 5. 5. 5. 5. 5. 5. 5. 5. 5. 5. 5. 5. 5. 5. 5.]\n",
      "Iter 201/10000 - Loss: 3.261  lengthscale1: [[7.5005903e-03 1.1336879e+01 3.3191819e-04 2.1216478e+00]]   noise: [5. 5. 5. 5. 5. 5. 5. 5. 5. 5. 5. 5. 5. 5. 5. 5. 5. 5. 5. 5. 5.]\n",
      "Iter 301/10000 - Loss: 3.254  lengthscale1: [[7.4953651e-03 7.8135977e+00 4.3425395e-04 2.2418950e+00]]   noise: [5. 5. 5. 5. 5. 5. 5. 5. 5. 5. 5. 5. 5. 5. 5. 5. 5. 5. 5. 5. 5.]\n"
     ]
    },
    {
     "output_type": "stream",
     "name": "stderr",
     "text": [
      "/Users/valenetjong/opt/anaconda3/envs/FEGP/lib/python3.9/site-packages/gpytorch/utils/cholesky.py:40: NumericalWarning:\n",
      "\n",
      "A not p.d., added jitter of 1.0e-06 to the diagonal\n",
      "\n",
      "/Users/valenetjong/opt/anaconda3/envs/FEGP/lib/python3.9/site-packages/gpytorch/utils/cholesky.py:40: NumericalWarning:\n",
      "\n",
      "A not p.d., added jitter of 1.0e-05 to the diagonal\n",
      "\n",
      "/Users/valenetjong/opt/anaconda3/envs/FEGP/lib/python3.9/site-packages/gpytorch/utils/cholesky.py:40: NumericalWarning:\n",
      "\n",
      "A not p.d., added jitter of 1.0e-04 to the diagonal\n",
      "\n"
     ]
    },
    {
     "output_type": "display_data",
     "data": {
      "text/html": [
       "Waiting for W&B process to finish... <strong style=\"color:red\">(failed 1).</strong> Press Control-C to abort syncing."
      ],
      "text/plain": [
       "<IPython.core.display.HTML object>"
      ]
     },
     "metadata": {}
    },
    {
     "output_type": "display_data",
     "data": {
      "text/html": [
       "<style>\n",
       "    table.wandb td:nth-child(1) { padding: 0 10px; text-align: left ; width: auto;} td:nth-child(2) {text-align: left ; width: 100%}\n",
       "    .wandb-row { display: flex; flex-direction: row; flex-wrap: wrap; justify-content: flex-start; width: 100% }\n",
       "    .wandb-col { display: flex; flex-direction: column; flex-basis: 100%; flex: 1; padding: 10px; }\n",
       "    </style>\n",
       "<div class=\"wandb-row\"><div class=\"wandb-col\"><h3>Run history:</h3><br/><table class=\"wandb\"><tr><td>train loss</td><td>█▅▂▂▂▂▂▂▂▂▂▂▂▂▂▂▁▂▁▁▁▁▁▁▁▁▁▁▁▁▁▁▁▁▁▁▁▁▁▁</td></tr></table><br/></div></div>"
      ],
      "text/plain": [
       "<IPython.core.display.HTML object>"
      ]
     },
     "metadata": {}
    },
    {
     "output_type": "display_data",
     "data": {
      "text/html": [
       "Synced <strong style=\"color:#cdcd00\">tough-sweep-1</strong>: <a href=\"https://wandb.ai/valenetjong/fegp%20runs/runs/q53tn8i3\" target=\"_blank\">https://wandb.ai/valenetjong/fegp%20runs/runs/q53tn8i3</a><br/>Synced 6 W&B file(s), 0 media file(s), 0 artifact file(s) and 0 other file(s)"
      ],
      "text/plain": [
       "<IPython.core.display.HTML object>"
      ]
     },
     "metadata": {}
    },
    {
     "output_type": "display_data",
     "data": {
      "text/html": [
       "Find logs at: <code>./wandb/run-20220719_164125-q53tn8i3/logs</code>"
      ],
      "text/plain": [
       "<IPython.core.display.HTML object>"
      ]
     },
     "metadata": {}
    },
    {
     "output_type": "stream",
     "name": "stderr",
     "text": [
      "\u001b[34m\u001b[1mwandb\u001b[0m: \u001b[32m\u001b[41mERROR\u001b[0m Run q53tn8i3 errored: NotPSDError('Matrix not positive definite after repeatedly adding jitter up to 1.0e-04.')\n",
      "\u001b[34m\u001b[1mwandb\u001b[0m: Agent Starting Run: nj1j3o6g with config:\n",
      "\u001b[34m\u001b[1mwandb\u001b[0m: \tepochs: 8000\n",
      "\u001b[34m\u001b[1mwandb\u001b[0m: \tkernel: rbf\n",
      "\u001b[34m\u001b[1mwandb\u001b[0m: \tlr: 10\n",
      "\u001b[34m\u001b[1mwandb\u001b[0m: \tlscale_1: 0.5\n",
      "\u001b[34m\u001b[1mwandb\u001b[0m: \tlscale_2: 0.1\n",
      "\u001b[34m\u001b[1mwandb\u001b[0m: \tlscale_3: 5\n",
      "\u001b[34m\u001b[1mwandb\u001b[0m: \tlscale_4: 0.1\n",
      "\u001b[34m\u001b[1mwandb\u001b[0m: \tnoise: 3\n",
      "\u001b[34m\u001b[1mwandb\u001b[0m: \u001b[33mWARNING\u001b[0m Ignored wandb.init() arg project when running a sweep.\n"
     ]
    },
    {
     "output_type": "display_data",
     "data": {
      "text/html": [
       "Tracking run with wandb version 0.12.21"
      ],
      "text/plain": [
       "<IPython.core.display.HTML object>"
      ]
     },
     "metadata": {}
    },
    {
     "output_type": "display_data",
     "data": {
      "text/html": [
       "Run data is saved locally in <code>/Users/valenetjong/Bayesian-Optimization-Ferroelectrics/notebooks/wandb/run-20220719_164140-nj1j3o6g</code>"
      ],
      "text/plain": [
       "<IPython.core.display.HTML object>"
      ]
     },
     "metadata": {}
    },
    {
     "output_type": "display_data",
     "data": {
      "text/html": [
       "Syncing run <strong><a href=\"https://wandb.ai/valenetjong/fegp%20runs/runs/nj1j3o6g\" target=\"_blank\">clear-sweep-2</a></strong> to <a href=\"https://wandb.ai/valenetjong/fegp%20runs\" target=\"_blank\">Weights & Biases</a> (<a href=\"https://wandb.me/run\" target=\"_blank\">docs</a>)<br/>Sweep page:  <a href=\"https://wandb.ai/valenetjong/fegp%20runs/sweeps/3inxggoz\" target=\"_blank\">https://wandb.ai/valenetjong/fegp%20runs/sweeps/3inxggoz</a>"
      ],
      "text/plain": [
       "<IPython.core.display.HTML object>"
      ]
     },
     "metadata": {}
    },
    {
     "output_type": "stream",
     "name": "stdout",
     "text": [
      "Iter 1/8000 - Loss: 25.769  lengthscale1: [[0.5 0.1 5.  0.1]]   noise: [3. 3. 3. 3. 3. 3. 3. 3. 3. 3. 3. 3. 3. 3. 3. 3. 3. 3. 3. 3. 3.]\n",
      "Iter 101/8000 - Loss: 6.132  lengthscale1: [[55.46579  10.656449 51.198452 28.766745]]   noise: [3. 3. 3. 3. 3. 3. 3. 3. 3. 3. 3. 3. 3. 3. 3. 3. 3. 3. 3. 3. 3.]\n"
     ]
    },
    {
     "output_type": "stream",
     "name": "stderr",
     "text": [
      "/Users/valenetjong/opt/anaconda3/envs/FEGP/lib/python3.9/site-packages/gpytorch/utils/cholesky.py:40: NumericalWarning:\n",
      "\n",
      "A not p.d., added jitter of 1.0e-06 to the diagonal\n",
      "\n",
      "/Users/valenetjong/opt/anaconda3/envs/FEGP/lib/python3.9/site-packages/gpytorch/utils/cholesky.py:40: NumericalWarning:\n",
      "\n",
      "A not p.d., added jitter of 1.0e-05 to the diagonal\n",
      "\n",
      "/Users/valenetjong/opt/anaconda3/envs/FEGP/lib/python3.9/site-packages/gpytorch/utils/cholesky.py:40: NumericalWarning:\n",
      "\n",
      "A not p.d., added jitter of 1.0e-04 to the diagonal\n",
      "\n"
     ]
    },
    {
     "output_type": "display_data",
     "data": {
      "text/html": [
       "Waiting for W&B process to finish... <strong style=\"color:red\">(failed 1).</strong> Press Control-C to abort syncing."
      ],
      "text/plain": [
       "<IPython.core.display.HTML object>"
      ]
     },
     "metadata": {}
    },
    {
     "output_type": "display_data",
     "data": {
      "text/html": [
       "<style>\n",
       "    table.wandb td:nth-child(1) { padding: 0 10px; text-align: left ; width: auto;} td:nth-child(2) {text-align: left ; width: 100%}\n",
       "    .wandb-row { display: flex; flex-direction: row; flex-wrap: wrap; justify-content: flex-start; width: 100% }\n",
       "    .wandb-col { display: flex; flex-direction: column; flex-basis: 100%; flex: 1; padding: 10px; }\n",
       "    </style>\n",
       "<div class=\"wandb-row\"><div class=\"wandb-col\"><h3>Run history:</h3><br/><table class=\"wandb\"><tr><td>train loss</td><td>▄▇▆▇██████▇▇▇▆▆▆▆▆▅▅▅▅▅▅▅▅▅▅▅▅▅▄▄▄▄▄▄▄▁▆</td></tr></table><br/></div></div>"
      ],
      "text/plain": [
       "<IPython.core.display.HTML object>"
      ]
     },
     "metadata": {}
    },
    {
     "output_type": "display_data",
     "data": {
      "text/html": [
       "Synced <strong style=\"color:#cdcd00\">clear-sweep-2</strong>: <a href=\"https://wandb.ai/valenetjong/fegp%20runs/runs/nj1j3o6g\" target=\"_blank\">https://wandb.ai/valenetjong/fegp%20runs/runs/nj1j3o6g</a><br/>Synced 6 W&B file(s), 0 media file(s), 0 artifact file(s) and 0 other file(s)"
      ],
      "text/plain": [
       "<IPython.core.display.HTML object>"
      ]
     },
     "metadata": {}
    },
    {
     "output_type": "display_data",
     "data": {
      "text/html": [
       "Find logs at: <code>./wandb/run-20220719_164140-nj1j3o6g/logs</code>"
      ],
      "text/plain": [
       "<IPython.core.display.HTML object>"
      ]
     },
     "metadata": {}
    },
    {
     "output_type": "stream",
     "name": "stderr",
     "text": [
      "\u001b[34m\u001b[1mwandb\u001b[0m: \u001b[32m\u001b[41mERROR\u001b[0m Run nj1j3o6g errored: NotPSDError('Matrix not positive definite after repeatedly adding jitter up to 1.0e-04.')\n",
      "\u001b[34m\u001b[1mwandb\u001b[0m: Agent Starting Run: tfina7tt with config:\n",
      "\u001b[34m\u001b[1mwandb\u001b[0m: \tepochs: 5000\n",
      "\u001b[34m\u001b[1mwandb\u001b[0m: \tkernel: rbf\n",
      "\u001b[34m\u001b[1mwandb\u001b[0m: \tlr: 10\n",
      "\u001b[34m\u001b[1mwandb\u001b[0m: \tlscale_1: 0.1\n",
      "\u001b[34m\u001b[1mwandb\u001b[0m: \tlscale_2: 10\n",
      "\u001b[34m\u001b[1mwandb\u001b[0m: \tlscale_3: 0.5\n",
      "\u001b[34m\u001b[1mwandb\u001b[0m: \tlscale_4: 10\n",
      "\u001b[34m\u001b[1mwandb\u001b[0m: \tnoise: 5\n",
      "\u001b[34m\u001b[1mwandb\u001b[0m: \u001b[33mWARNING\u001b[0m Ignored wandb.init() arg project when running a sweep.\n"
     ]
    },
    {
     "output_type": "display_data",
     "data": {
      "text/html": [
       "Tracking run with wandb version 0.12.21"
      ],
      "text/plain": [
       "<IPython.core.display.HTML object>"
      ]
     },
     "metadata": {}
    },
    {
     "output_type": "display_data",
     "data": {
      "text/html": [
       "Run data is saved locally in <code>/Users/valenetjong/Bayesian-Optimization-Ferroelectrics/notebooks/wandb/run-20220719_164151-tfina7tt</code>"
      ],
      "text/plain": [
       "<IPython.core.display.HTML object>"
      ]
     },
     "metadata": {}
    },
    {
     "output_type": "display_data",
     "data": {
      "text/html": [
       "Syncing run <strong><a href=\"https://wandb.ai/valenetjong/fegp%20runs/runs/tfina7tt\" target=\"_blank\">deep-sweep-3</a></strong> to <a href=\"https://wandb.ai/valenetjong/fegp%20runs\" target=\"_blank\">Weights & Biases</a> (<a href=\"https://wandb.me/run\" target=\"_blank\">docs</a>)<br/>Sweep page:  <a href=\"https://wandb.ai/valenetjong/fegp%20runs/sweeps/3inxggoz\" target=\"_blank\">https://wandb.ai/valenetjong/fegp%20runs/sweeps/3inxggoz</a>"
      ],
      "text/plain": [
       "<IPython.core.display.HTML object>"
      ]
     },
     "metadata": {}
    },
    {
     "output_type": "stream",
     "name": "stdout",
     "text": [
      "Iter 1/5000 - Loss: 15.255  lengthscale1: [[ 0.1 10.   0.5 10. ]]   noise: [5. 5. 5. 5. 5. 5. 5. 5. 5. 5. 5. 5. 5. 5. 5. 5. 5. 5. 5. 5. 5.]\n",
      "Iter 101/5000 - Loss: 4.606  lengthscale1: [[55.38072   5.353808 59.633595 30.418293]]   noise: [5. 5. 5. 5. 5. 5. 5. 5. 5. 5. 5. 5. 5. 5. 5. 5. 5. 5. 5. 5. 5.]\n",
      "Iter 201/5000 - Loss: 4.601  lengthscale1: [[52.584583  4.374987 59.57411  30.913727]]   noise: [5. 5. 5. 5. 5. 5. 5. 5. 5. 5. 5. 5. 5. 5. 5. 5. 5. 5. 5. 5. 5.]\n",
      "Iter 301/5000 - Loss: 4.599  lengthscale1: [[48.300377   4.3342266 59.441013  30.375196 ]]   noise: [5. 5. 5. 5. 5. 5. 5. 5. 5. 5. 5. 5. 5. 5. 5. 5. 5. 5. 5. 5. 5.]\n",
      "Iter 401/5000 - Loss: 4.595  lengthscale1: [[41.272675   4.3216133 59.280956  29.99777  ]]   noise: [5. 5. 5. 5. 5. 5. 5. 5. 5. 5. 5. 5. 5. 5. 5. 5. 5. 5. 5. 5. 5.]\n",
      "Iter 501/5000 - Loss: 4.566  lengthscale1: [[23.263327  4.518151 59.100803 30.128368]]   noise: [5. 5. 5. 5. 5. 5. 5. 5. 5. 5. 5. 5. 5. 5. 5. 5. 5. 5. 5. 5. 5.]\n",
      "Iter 601/5000 - Loss: 4.774  lengthscale1: [[177.29097  189.46773   58.983616 197.11623 ]]   noise: [5. 5. 5. 5. 5. 5. 5. 5. 5. 5. 5. 5. 5. 5. 5. 5. 5. 5. 5. 5. 5.]\n",
      "Iter 701/5000 - Loss: 4.775  lengthscale1: [[177.35114 189.52191  59.07128 198.25041]]   noise: [5. 5. 5. 5. 5. 5. 5. 5. 5. 5. 5. 5. 5. 5. 5. 5. 5. 5. 5. 5. 5.]\n",
      "Iter 801/5000 - Loss: 4.774  lengthscale1: [[177.35114 189.52191  59.16599 198.25041]]   noise: [5. 5. 5. 5. 5. 5. 5. 5. 5. 5. 5. 5. 5. 5. 5. 5. 5. 5. 5. 5. 5.]\n",
      "Iter 901/5000 - Loss: 4.774  lengthscale1: [[177.35114  189.52191   59.266674 198.25041 ]]   noise: [5. 5. 5. 5. 5. 5. 5. 5. 5. 5. 5. 5. 5. 5. 5. 5. 5. 5. 5. 5. 5.]\n",
      "Iter 1001/5000 - Loss: 4.774  lengthscale1: [[177.35114  189.52191   59.372433 198.25041 ]]   noise: [5. 5. 5. 5. 5. 5. 5. 5. 5. 5. 5. 5. 5. 5. 5. 5. 5. 5. 5. 5. 5.]\n",
      "Iter 1101/5000 - Loss: 4.773  lengthscale1: [[177.35114  189.52191   59.482227 198.25041 ]]   noise: [5. 5. 5. 5. 5. 5. 5. 5. 5. 5. 5. 5. 5. 5. 5. 5. 5. 5. 5. 5. 5.]\n",
      "Iter 1201/5000 - Loss: 4.773  lengthscale1: [[177.35114  189.52191   59.594757 198.25041 ]]   noise: [5. 5. 5. 5. 5. 5. 5. 5. 5. 5. 5. 5. 5. 5. 5. 5. 5. 5. 5. 5. 5.]\n",
      "Iter 1301/5000 - Loss: 4.772  lengthscale1: [[177.35114  189.52191   59.708347 198.25041 ]]   noise: [5. 5. 5. 5. 5. 5. 5. 5. 5. 5. 5. 5. 5. 5. 5. 5. 5. 5. 5. 5. 5.]\n",
      "Iter 1401/5000 - Loss: 4.771  lengthscale1: [[177.35114 189.52191  59.82061 198.25041]]   noise: [5. 5. 5. 5. 5. 5. 5. 5. 5. 5. 5. 5. 5. 5. 5. 5. 5. 5. 5. 5. 5.]\n",
      "Iter 1501/5000 - Loss: 4.770  lengthscale1: [[177.35114 189.52191  59.92818 198.25041]]   noise: [5. 5. 5. 5. 5. 5. 5. 5. 5. 5. 5. 5. 5. 5. 5. 5. 5. 5. 5. 5. 5.]\n",
      "Iter 1601/5000 - Loss: 4.767  lengthscale1: [[177.35114  189.52191   60.025513 198.25041 ]]   noise: [5. 5. 5. 5. 5. 5. 5. 5. 5. 5. 5. 5. 5. 5. 5. 5. 5. 5. 5. 5. 5.]\n",
      "Iter 1701/5000 - Loss: 4.758  lengthscale1: [[177.35114 189.52191  60.10143 198.25041]]   noise: [5. 5. 5. 5. 5. 5. 5. 5. 5. 5. 5. 5. 5. 5. 5. 5. 5. 5. 5. 5. 5.]\n",
      "Iter 1801/5000 - Loss: 4.687  lengthscale1: [[177.35114  189.52191   60.122536 198.25041 ]]   noise: [5. 5. 5. 5. 5. 5. 5. 5. 5. 5. 5. 5. 5. 5. 5. 5. 5. 5. 5. 5. 5.]\n",
      "Iter 1901/5000 - Loss: 4.661  lengthscale1: [[177.35114  189.52191   60.122536 198.25041 ]]   noise: [5. 5. 5. 5. 5. 5. 5. 5. 5. 5. 5. 5. 5. 5. 5. 5. 5. 5. 5. 5. 5.]\n",
      "Iter 2001/5000 - Loss: 4.661  lengthscale1: [[177.35114  189.52191   60.122536 198.25041 ]]   noise: [5. 5. 5. 5. 5. 5. 5. 5. 5. 5. 5. 5. 5. 5. 5. 5. 5. 5. 5. 5. 5.]\n",
      "Iter 2101/5000 - Loss: 4.661  lengthscale1: [[177.35114  189.52191   60.122536 198.25041 ]]   noise: [5. 5. 5. 5. 5. 5. 5. 5. 5. 5. 5. 5. 5. 5. 5. 5. 5. 5. 5. 5. 5.]\n",
      "Iter 2201/5000 - Loss: 4.661  lengthscale1: [[177.35114  189.52191   60.122536 198.25041 ]]   noise: [5. 5. 5. 5. 5. 5. 5. 5. 5. 5. 5. 5. 5. 5. 5. 5. 5. 5. 5. 5. 5.]\n",
      "Iter 2301/5000 - Loss: 4.661  lengthscale1: [[177.35114  189.52191   60.122536 198.25041 ]]   noise: [5. 5. 5. 5. 5. 5. 5. 5. 5. 5. 5. 5. 5. 5. 5. 5. 5. 5. 5. 5. 5.]\n",
      "Iter 2401/5000 - Loss: 4.661  lengthscale1: [[177.35114  189.52191   60.122536 198.25041 ]]   noise: [5. 5. 5. 5. 5. 5. 5. 5. 5. 5. 5. 5. 5. 5. 5. 5. 5. 5. 5. 5. 5.]\n",
      "Iter 2501/5000 - Loss: 4.661  lengthscale1: [[177.35114  189.52191   60.122536 198.25041 ]]   noise: [5. 5. 5. 5. 5. 5. 5. 5. 5. 5. 5. 5. 5. 5. 5. 5. 5. 5. 5. 5. 5.]\n",
      "Iter 2601/5000 - Loss: 4.661  lengthscale1: [[177.35114  189.52191   60.122536 198.25041 ]]   noise: [5. 5. 5. 5. 5. 5. 5. 5. 5. 5. 5. 5. 5. 5. 5. 5. 5. 5. 5. 5. 5.]\n",
      "Iter 2701/5000 - Loss: 4.661  lengthscale1: [[177.35114  189.52191   60.122536 198.25041 ]]   noise: [5. 5. 5. 5. 5. 5. 5. 5. 5. 5. 5. 5. 5. 5. 5. 5. 5. 5. 5. 5. 5.]\n",
      "Iter 2801/5000 - Loss: 4.661  lengthscale1: [[177.35114  189.52191   60.122536 198.25041 ]]   noise: [5. 5. 5. 5. 5. 5. 5. 5. 5. 5. 5. 5. 5. 5. 5. 5. 5. 5. 5. 5. 5.]\n",
      "Iter 2901/5000 - Loss: 4.661  lengthscale1: [[177.35114  189.52191   60.122536 198.25041 ]]   noise: [5. 5. 5. 5. 5. 5. 5. 5. 5. 5. 5. 5. 5. 5. 5. 5. 5. 5. 5. 5. 5.]\n",
      "Iter 3001/5000 - Loss: 4.661  lengthscale1: [[177.35114  189.52191   60.122536 198.25041 ]]   noise: [5. 5. 5. 5. 5. 5. 5. 5. 5. 5. 5. 5. 5. 5. 5. 5. 5. 5. 5. 5. 5.]\n",
      "Iter 3101/5000 - Loss: 4.661  lengthscale1: [[177.35114  189.52191   60.122536 198.25041 ]]   noise: [5. 5. 5. 5. 5. 5. 5. 5. 5. 5. 5. 5. 5. 5. 5. 5. 5. 5. 5. 5. 5.]\n",
      "Iter 3201/5000 - Loss: 4.661  lengthscale1: [[177.35114  189.52191   60.122536 198.25041 ]]   noise: [5. 5. 5. 5. 5. 5. 5. 5. 5. 5. 5. 5. 5. 5. 5. 5. 5. 5. 5. 5. 5.]\n",
      "Iter 3301/5000 - Loss: 4.661  lengthscale1: [[177.35114  189.52191   60.122536 198.25041 ]]   noise: [5. 5. 5. 5. 5. 5. 5. 5. 5. 5. 5. 5. 5. 5. 5. 5. 5. 5. 5. 5. 5.]\n",
      "Iter 3401/5000 - Loss: 4.661  lengthscale1: [[177.35114  189.52191   60.122536 198.25041 ]]   noise: [5. 5. 5. 5. 5. 5. 5. 5. 5. 5. 5. 5. 5. 5. 5. 5. 5. 5. 5. 5. 5.]\n",
      "Iter 3501/5000 - Loss: 4.661  lengthscale1: [[177.35114  189.52191   60.122536 198.25041 ]]   noise: [5. 5. 5. 5. 5. 5. 5. 5. 5. 5. 5. 5. 5. 5. 5. 5. 5. 5. 5. 5. 5.]\n",
      "Iter 3601/5000 - Loss: 4.661  lengthscale1: [[177.35114  189.52191   60.122536 198.25041 ]]   noise: [5. 5. 5. 5. 5. 5. 5. 5. 5. 5. 5. 5. 5. 5. 5. 5. 5. 5. 5. 5. 5.]\n",
      "Iter 3701/5000 - Loss: 4.661  lengthscale1: [[177.35114  189.52191   60.122536 198.25041 ]]   noise: [5. 5. 5. 5. 5. 5. 5. 5. 5. 5. 5. 5. 5. 5. 5. 5. 5. 5. 5. 5. 5.]\n",
      "Iter 3801/5000 - Loss: 4.661  lengthscale1: [[177.35114  189.52191   60.122536 198.25041 ]]   noise: [5. 5. 5. 5. 5. 5. 5. 5. 5. 5. 5. 5. 5. 5. 5. 5. 5. 5. 5. 5. 5.]\n",
      "Iter 3901/5000 - Loss: 4.661  lengthscale1: [[177.35114  189.52191   60.122536 198.25041 ]]   noise: [5. 5. 5. 5. 5. 5. 5. 5. 5. 5. 5. 5. 5. 5. 5. 5. 5. 5. 5. 5. 5.]\n",
      "Iter 4001/5000 - Loss: 4.661  lengthscale1: [[177.35114  189.52191   60.122536 198.25041 ]]   noise: [5. 5. 5. 5. 5. 5. 5. 5. 5. 5. 5. 5. 5. 5. 5. 5. 5. 5. 5. 5. 5.]\n",
      "Iter 4101/5000 - Loss: 4.661  lengthscale1: [[177.35114  189.52191   60.122536 198.25041 ]]   noise: [5. 5. 5. 5. 5. 5. 5. 5. 5. 5. 5. 5. 5. 5. 5. 5. 5. 5. 5. 5. 5.]\n",
      "Iter 4201/5000 - Loss: 4.661  lengthscale1: [[177.35114  189.52191   60.122536 198.25041 ]]   noise: [5. 5. 5. 5. 5. 5. 5. 5. 5. 5. 5. 5. 5. 5. 5. 5. 5. 5. 5. 5. 5.]\n",
      "Iter 4301/5000 - Loss: 4.661  lengthscale1: [[177.35114  189.52191   60.122536 198.25041 ]]   noise: [5. 5. 5. 5. 5. 5. 5. 5. 5. 5. 5. 5. 5. 5. 5. 5. 5. 5. 5. 5. 5.]\n",
      "Iter 4401/5000 - Loss: 4.946  lengthscale1: [[177.35114  189.52191   60.122536 198.25041 ]]   noise: [5. 5. 5. 5. 5. 5. 5. 5. 5. 5. 5. 5. 5. 5. 5. 5. 5. 5. 5. 5. 5.]\n",
      "Iter 4501/5000 - Loss: 4.661  lengthscale1: [[177.35114  189.52191   60.122536 198.25041 ]]   noise: [5. 5. 5. 5. 5. 5. 5. 5. 5. 5. 5. 5. 5. 5. 5. 5. 5. 5. 5. 5. 5.]\n",
      "Iter 4601/5000 - Loss: 4.661  lengthscale1: [[177.35114  189.52191   60.122536 198.25041 ]]   noise: [5. 5. 5. 5. 5. 5. 5. 5. 5. 5. 5. 5. 5. 5. 5. 5. 5. 5. 5. 5. 5.]\n",
      "Iter 4701/5000 - Loss: 4.661  lengthscale1: [[177.35114  189.52191   60.122536 198.25041 ]]   noise: [5. 5. 5. 5. 5. 5. 5. 5. 5. 5. 5. 5. 5. 5. 5. 5. 5. 5. 5. 5. 5.]\n",
      "Iter 4801/5000 - Loss: 4.661  lengthscale1: [[177.35114  189.52191   60.122536 198.25041 ]]   noise: [5. 5. 5. 5. 5. 5. 5. 5. 5. 5. 5. 5. 5. 5. 5. 5. 5. 5. 5. 5. 5.]\n",
      "Iter 4901/5000 - Loss: 4.661  lengthscale1: [[177.35114  189.52191   60.122536 198.25041 ]]   noise: [5. 5. 5. 5. 5. 5. 5. 5. 5. 5. 5. 5. 5. 5. 5. 5. 5. 5. 5. 5. 5.]\n"
     ]
    },
    {
     "output_type": "display_data",
     "data": {
      "text/html": [
       "Waiting for W&B process to finish... <strong style=\"color:green\">(success).</strong>"
      ],
      "text/plain": [
       "<IPython.core.display.HTML object>"
      ]
     },
     "metadata": {}
    },
    {
     "output_type": "display_data",
     "data": {
      "text/html": [
       "<style>\n",
       "    table.wandb td:nth-child(1) { padding: 0 10px; text-align: left ; width: auto;} td:nth-child(2) {text-align: left ; width: 100%}\n",
       "    .wandb-row { display: flex; flex-direction: row; flex-wrap: wrap; justify-content: flex-start; width: 100% }\n",
       "    .wandb-col { display: flex; flex-direction: column; flex-basis: 100%; flex: 1; padding: 10px; }\n",
       "    </style>\n",
       "<div class=\"wandb-row\"><div class=\"wandb-col\"><h3>Run history:</h3><br/><table class=\"wandb\"><tr><td>train loss</td><td>▄▃▃▃▁██████▇▇▇█▅▅▅▅▅▅▅▅▅▅▅▅▅▅▅▅▅▅▅▅▅▅▅▅▅</td></tr></table><br/></div></div>"
      ],
      "text/plain": [
       "<IPython.core.display.HTML object>"
      ]
     },
     "metadata": {}
    },
    {
     "output_type": "display_data",
     "data": {
      "text/html": [
       "Synced <strong style=\"color:#cdcd00\">deep-sweep-3</strong>: <a href=\"https://wandb.ai/valenetjong/fegp%20runs/runs/tfina7tt\" target=\"_blank\">https://wandb.ai/valenetjong/fegp%20runs/runs/tfina7tt</a><br/>Synced 6 W&B file(s), 0 media file(s), 0 artifact file(s) and 0 other file(s)"
      ],
      "text/plain": [
       "<IPython.core.display.HTML object>"
      ]
     },
     "metadata": {}
    },
    {
     "output_type": "display_data",
     "data": {
      "text/html": [
       "Find logs at: <code>./wandb/run-20220719_164151-tfina7tt/logs</code>"
      ],
      "text/plain": [
       "<IPython.core.display.HTML object>"
      ]
     },
     "metadata": {}
    },
    {
     "output_type": "stream",
     "name": "stderr",
     "text": [
      "\u001b[34m\u001b[1mwandb\u001b[0m: Agent Starting Run: wdeaz8qv with config:\n",
      "\u001b[34m\u001b[1mwandb\u001b[0m: \tepochs: 5000\n",
      "\u001b[34m\u001b[1mwandb\u001b[0m: \tkernel: rbf\n",
      "\u001b[34m\u001b[1mwandb\u001b[0m: \tlr: 0.01\n",
      "\u001b[34m\u001b[1mwandb\u001b[0m: \tlscale_1: 10\n",
      "\u001b[34m\u001b[1mwandb\u001b[0m: \tlscale_2: 1\n",
      "\u001b[34m\u001b[1mwandb\u001b[0m: \tlscale_3: 0.5\n",
      "\u001b[34m\u001b[1mwandb\u001b[0m: \tlscale_4: 0.1\n",
      "\u001b[34m\u001b[1mwandb\u001b[0m: \tnoise: 3\n",
      "\u001b[34m\u001b[1mwandb\u001b[0m: \u001b[33mWARNING\u001b[0m Ignored wandb.init() arg project when running a sweep.\n"
     ]
    },
    {
     "output_type": "display_data",
     "data": {
      "text/html": [
       "Tracking run with wandb version 0.12.21"
      ],
      "text/plain": [
       "<IPython.core.display.HTML object>"
      ]
     },
     "metadata": {}
    },
    {
     "output_type": "display_data",
     "data": {
      "text/html": [
       "Run data is saved locally in <code>/Users/valenetjong/Bayesian-Optimization-Ferroelectrics/notebooks/wandb/run-20220719_164217-wdeaz8qv</code>"
      ],
      "text/plain": [
       "<IPython.core.display.HTML object>"
      ]
     },
     "metadata": {}
    },
    {
     "output_type": "display_data",
     "data": {
      "text/html": [
       "Syncing run <strong><a href=\"https://wandb.ai/valenetjong/fegp%20runs/runs/wdeaz8qv\" target=\"_blank\">valiant-sweep-4</a></strong> to <a href=\"https://wandb.ai/valenetjong/fegp%20runs\" target=\"_blank\">Weights & Biases</a> (<a href=\"https://wandb.me/run\" target=\"_blank\">docs</a>)<br/>Sweep page:  <a href=\"https://wandb.ai/valenetjong/fegp%20runs/sweeps/3inxggoz\" target=\"_blank\">https://wandb.ai/valenetjong/fegp%20runs/sweeps/3inxggoz</a>"
      ],
      "text/plain": [
       "<IPython.core.display.HTML object>"
      ]
     },
     "metadata": {}
    },
    {
     "output_type": "stream",
     "name": "stdout",
     "text": [
      "Iter 1/5000 - Loss: 19.107  lengthscale1: [[10.   1.   0.5  0.1]]   noise: [3. 3. 3. 3. 3. 3. 3. 3. 3. 3. 3. 3. 3. 3. 3. 3. 3. 3. 3. 3. 3.]\n",
      "Iter 101/5000 - Loss: 13.026  lengthscale1: [[9.973924   1.7101102  0.7469159  0.09856607]]   noise: [3. 3. 3. 3. 3. 3. 3. 3. 3. 3. 3. 3. 3. 3. 3. 3. 3. 3. 3. 3. 3.]\n",
      "Iter 201/5000 - Loss: 10.174  lengthscale1: [[8.054717   2.416868   0.39890626 0.09303183]]   noise: [3. 3. 3. 3. 3. 3. 3. 3. 3. 3. 3. 3. 3. 3. 3. 3. 3. 3. 3. 3. 3.]\n",
      "Iter 301/5000 - Loss: 8.570  lengthscale1: [[6.1677227  2.9039621  0.17335083 0.10253618]]   noise: [3. 3. 3. 3. 3. 3. 3. 3. 3. 3. 3. 3. 3. 3. 3. 3. 3. 3. 3. 3. 3.]\n",
      "Iter 401/5000 - Loss: 7.644  lengthscale1: [[3.7581444  3.2153962  0.15396668 0.10620088]]   noise: [3. 3. 3. 3. 3. 3. 3. 3. 3. 3. 3. 3. 3. 3. 3. 3. 3. 3. 3. 3. 3.]\n",
      "Iter 501/5000 - Loss: 6.552  lengthscale1: [[0.8879503  3.4368613  0.18198602 0.10946378]]   noise: [3. 3. 3. 3. 3. 3. 3. 3. 3. 3. 3. 3. 3. 3. 3. 3. 3. 3. 3. 3. 3.]\n",
      "Iter 601/5000 - Loss: 5.997  lengthscale1: [[0.6481772  3.616331   0.20280227 0.11479037]]   noise: [3. 3. 3. 3. 3. 3. 3. 3. 3. 3. 3. 3. 3. 3. 3. 3. 3. 3. 3. 3. 3.]\n",
      "Iter 701/5000 - Loss: 5.628  lengthscale1: [[0.6304333  3.7346215  0.18613994 0.11796176]]   noise: [3. 3. 3. 3. 3. 3. 3. 3. 3. 3. 3. 3. 3. 3. 3. 3. 3. 3. 3. 3. 3.]\n",
      "Iter 801/5000 - Loss: 5.339  lengthscale1: [[0.6148282  3.8076198  0.17336603 0.1223058 ]]   noise: [3. 3. 3. 3. 3. 3. 3. 3. 3. 3. 3. 3. 3. 3. 3. 3. 3. 3. 3. 3. 3.]\n",
      "Iter 901/5000 - Loss: 5.102  lengthscale1: [[0.6003114  3.8450398  0.1630599  0.12379762]]   noise: [3. 3. 3. 3. 3. 3. 3. 3. 3. 3. 3. 3. 3. 3. 3. 3. 3. 3. 3. 3. 3.]\n",
      "Iter 1001/5000 - Loss: 4.904  lengthscale1: [[0.5865942  3.8530648  0.1544121  0.13009982]]   noise: [3. 3. 3. 3. 3. 3. 3. 3. 3. 3. 3. 3. 3. 3. 3. 3. 3. 3. 3. 3. 3.]\n",
      "Iter 1101/5000 - Loss: 4.735  lengthscale1: [[0.5734963  3.8359308  0.14693825 0.14186952]]   noise: [3. 3. 3. 3. 3. 3. 3. 3. 3. 3. 3. 3. 3. 3. 3. 3. 3. 3. 3. 3. 3.]\n",
      "Iter 1201/5000 - Loss: 4.589  lengthscale1: [[0.5609204  3.7967625  0.14033769 0.15303156]]   noise: [3. 3. 3. 3. 3. 3. 3. 3. 3. 3. 3. 3. 3. 3. 3. 3. 3. 3. 3. 3. 3.]\n",
      "Iter 1301/5000 - Loss: 4.460  lengthscale1: [[0.54880416 3.7380605  0.13440949 0.15706149]]   noise: [3. 3. 3. 3. 3. 3. 3. 3. 3. 3. 3. 3. 3. 3. 3. 3. 3. 3. 3. 3. 3.]\n",
      "Iter 1401/5000 - Loss: 4.347  lengthscale1: [[0.5371133  3.6620183  0.12901206 0.15573479]]   noise: [3. 3. 3. 3. 3. 3. 3. 3. 3. 3. 3. 3. 3. 3. 3. 3. 3. 3. 3. 3. 3.]\n",
      "Iter 1501/5000 - Loss: 4.245  lengthscale1: [[0.52583975 3.5707853  0.12404704 0.15683042]]   noise: [3. 3. 3. 3. 3. 3. 3. 3. 3. 3. 3. 3. 3. 3. 3. 3. 3. 3. 3. 3. 3.]\n",
      "Iter 1601/5000 - Loss: 4.154  lengthscale1: [[0.5150025  3.4665844  0.11944329 0.15414771]]   noise: [3. 3. 3. 3. 3. 3. 3. 3. 3. 3. 3. 3. 3. 3. 3. 3. 3. 3. 3. 3. 3.]\n",
      "Iter 1701/5000 - Loss: 4.072  lengthscale1: [[0.5046133  3.3518765  0.11515234 0.15746523]]   noise: [3. 3. 3. 3. 3. 3. 3. 3. 3. 3. 3. 3. 3. 3. 3. 3. 3. 3. 3. 3. 3.]\n",
      "Iter 1801/5000 - Loss: 3.999  lengthscale1: [[0.49469274 3.229419   0.11113522 0.17326574]]   noise: [3. 3. 3. 3. 3. 3. 3. 3. 3. 3. 3. 3. 3. 3. 3. 3. 3. 3. 3. 3. 3.]\n",
      "Iter 1901/5000 - Loss: 3.933  lengthscale1: [[0.48528418 3.1022375  0.10736531 0.18701594]]   noise: [3. 3. 3. 3. 3. 3. 3. 3. 3. 3. 3. 3. 3. 3. 3. 3. 3. 3. 3. 3. 3.]\n",
      "Iter 2001/5000 - Loss: 3.873  lengthscale1: [[0.4764019  2.9735186  0.10381784 0.18958546]]   noise: [3. 3. 3. 3. 3. 3. 3. 3. 3. 3. 3. 3. 3. 3. 3. 3. 3. 3. 3. 3. 3.]\n",
      "Iter 2101/5000 - Loss: 3.820  lengthscale1: [[0.4680691  2.8463955  0.10047281 0.19060001]]   noise: [3. 3. 3. 3. 3. 3. 3. 3. 3. 3. 3. 3. 3. 3. 3. 3. 3. 3. 3. 3. 3.]\n",
      "Iter 2201/5000 - Loss: 3.773  lengthscale1: [[0.46029392 2.7236283  0.09731058 0.19279236]]   noise: [3. 3. 3. 3. 3. 3. 3. 3. 3. 3. 3. 3. 3. 3. 3. 3. 3. 3. 3. 3. 3.]\n",
      "Iter 2301/5000 - Loss: 3.731  lengthscale1: [[0.45308602 2.6073198  0.09431806 0.19430159]]   noise: [3. 3. 3. 3. 3. 3. 3. 3. 3. 3. 3. 3. 3. 3. 3. 3. 3. 3. 3. 3. 3.]\n",
      "Iter 2401/5000 - Loss: 3.693  lengthscale1: [[0.44644135 2.4986978  0.09148042 0.20417285]]   noise: [3. 3. 3. 3. 3. 3. 3. 3. 3. 3. 3. 3. 3. 3. 3. 3. 3. 3. 3. 3. 3.]\n",
      "Iter 2501/5000 - Loss: 3.660  lengthscale1: [[0.44036233 2.3980808  0.08879285 0.20672104]]   noise: [3. 3. 3. 3. 3. 3. 3. 3. 3. 3. 3. 3. 3. 3. 3. 3. 3. 3. 3. 3. 3.]\n",
      "Iter 2601/5000 - Loss: 3.631  lengthscale1: [[0.43484512 2.3049934  0.0862624  0.20603284]]   noise: [3. 3. 3. 3. 3. 3. 3. 3. 3. 3. 3. 3. 3. 3. 3. 3. 3. 3. 3. 3. 3.]\n",
      "Iter 2701/5000 - Loss: 3.606  lengthscale1: [[0.42988113 2.2183156  0.08390147 0.1982662 ]]   noise: [3. 3. 3. 3. 3. 3. 3. 3. 3. 3. 3. 3. 3. 3. 3. 3. 3. 3. 3. 3. 3.]\n",
      "Iter 2801/5000 - Loss: 3.583  lengthscale1: [[0.42544192 2.1364715  0.08172969 0.20817049]]   noise: [3. 3. 3. 3. 3. 3. 3. 3. 3. 3. 3. 3. 3. 3. 3. 3. 3. 3. 3. 3. 3.]\n",
      "Iter 2901/5000 - Loss: 3.562  lengthscale1: [[0.42147833 2.0574417  0.07977849 0.20750026]]   noise: [3. 3. 3. 3. 3. 3. 3. 3. 3. 3. 3. 3. 3. 3. 3. 3. 3. 3. 3. 3. 3.]\n",
      "Iter 3001/5000 - Loss: 3.544  lengthscale1: [[0.4179015  1.9786347  0.07807865 0.2019893 ]]   noise: [3. 3. 3. 3. 3. 3. 3. 3. 3. 3. 3. 3. 3. 3. 3. 3. 3. 3. 3. 3. 3.]\n",
      "Iter 3101/5000 - Loss: 3.527  lengthscale1: [[0.41455242 1.8962698  0.07667999 0.2068808 ]]   noise: [3. 3. 3. 3. 3. 3. 3. 3. 3. 3. 3. 3. 3. 3. 3. 3. 3. 3. 3. 3. 3.]\n",
      "Iter 3201/5000 - Loss: 3.511  lengthscale1: [[0.41114292 1.803769   0.07566253 0.19561729]]   noise: [3. 3. 3. 3. 3. 3. 3. 3. 3. 3. 3. 3. 3. 3. 3. 3. 3. 3. 3. 3. 3.]\n",
      "Iter 3301/5000 - Loss: 3.495  lengthscale1: [[0.40698355 1.6865095  0.07519597 0.18504259]]   noise: [3. 3. 3. 3. 3. 3. 3. 3. 3. 3. 3. 3. 3. 3. 3. 3. 3. 3. 3. 3. 3.]\n",
      "Iter 3401/5000 - Loss: 3.476  lengthscale1: [[0.39983764 1.4990757  0.07585915 0.18177636]]   noise: [3. 3. 3. 3. 3. 3. 3. 3. 3. 3. 3. 3. 3. 3. 3. 3. 3. 3. 3. 3. 3.]\n",
      "Iter 3501/5000 - Loss: 3.416  lengthscale1: [[0.37999746 1.0493647  0.08076074 0.17531528]]   noise: [3. 3. 3. 3. 3. 3. 3. 3. 3. 3. 3. 3. 3. 3. 3. 3. 3. 3. 3. 3. 3.]\n",
      "Iter 3601/5000 - Loss: 3.327  lengthscale1: [[0.36983433 0.5665217  0.08043884 0.17441453]]   noise: [3. 3. 3. 3. 3. 3. 3. 3. 3. 3. 3. 3. 3. 3. 3. 3. 3. 3. 3. 3. 3.]\n",
      "Iter 3701/5000 - Loss: 3.300  lengthscale1: [[0.3722511  0.41342863 0.07877652 0.17872228]]   noise: [3. 3. 3. 3. 3. 3. 3. 3. 3. 3. 3. 3. 3. 3. 3. 3. 3. 3. 3. 3. 3.]\n",
      "Iter 3801/5000 - Loss: 3.287  lengthscale1: [[0.37148136 0.37590748 0.07800208 0.1848063 ]]   noise: [3. 3. 3. 3. 3. 3. 3. 3. 3. 3. 3. 3. 3. 3. 3. 3. 3. 3. 3. 3. 3.]\n",
      "Iter 3901/5000 - Loss: 3.277  lengthscale1: [[0.36954448 0.36818123 0.07741658 0.17990465]]   noise: [3. 3. 3. 3. 3. 3. 3. 3. 3. 3. 3. 3. 3. 3. 3. 3. 3. 3. 3. 3. 3.]\n",
      "Iter 4001/5000 - Loss: 3.268  lengthscale1: [[0.36829126 0.36520162 0.07701075 0.19078934]]   noise: [3. 3. 3. 3. 3. 3. 3. 3. 3. 3. 3. 3. 3. 3. 3. 3. 3. 3. 3. 3. 3.]\n",
      "Iter 4101/5000 - Loss: 3.260  lengthscale1: [[0.36775145 0.3635576  0.07673302 0.18258104]]   noise: [3. 3. 3. 3. 3. 3. 3. 3. 3. 3. 3. 3. 3. 3. 3. 3. 3. 3. 3. 3. 3.]\n",
      "Iter 4201/5000 - Loss: 3.251  lengthscale1: [[0.3677326  0.3626145  0.07654519 0.17743374]]   noise: [3. 3. 3. 3. 3. 3. 3. 3. 3. 3. 3. 3. 3. 3. 3. 3. 3. 3. 3. 3. 3.]\n",
      "Iter 4301/5000 - Loss: 3.244  lengthscale1: [[0.36807516 0.36211514 0.0764195  0.15991062]]   noise: [3. 3. 3. 3. 3. 3. 3. 3. 3. 3. 3. 3. 3. 3. 3. 3. 3. 3. 3. 3. 3.]\n",
      "Iter 4401/5000 - Loss: 3.236  lengthscale1: [[0.36866137 0.36191222 0.07633622 0.18612507]]   noise: [3. 3. 3. 3. 3. 3. 3. 3. 3. 3. 3. 3. 3. 3. 3. 3. 3. 3. 3. 3. 3.]\n",
      "Iter 4501/5000 - Loss: 3.229  lengthscale1: [[0.36941114 0.36190525 0.07628109 0.20181377]]   noise: [3. 3. 3. 3. 3. 3. 3. 3. 3. 3. 3. 3. 3. 3. 3. 3. 3. 3. 3. 3. 3.]\n",
      "Iter 4601/5000 - Loss: 3.221  lengthscale1: [[0.37026075 0.36203143 0.07624649 0.19028088]]   noise: [3. 3. 3. 3. 3. 3. 3. 3. 3. 3. 3. 3. 3. 3. 3. 3. 3. 3. 3. 3. 3.]\n",
      "Iter 4701/5000 - Loss: 3.215  lengthscale1: [[0.37118357 0.36225072 0.07622582 0.16050257]]   noise: [3. 3. 3. 3. 3. 3. 3. 3. 3. 3. 3. 3. 3. 3. 3. 3. 3. 3. 3. 3. 3.]\n",
      "Iter 4801/5000 - Loss: 3.208  lengthscale1: [[0.37214878 0.36253643 0.07621446 0.15214533]]   noise: [3. 3. 3. 3. 3. 3. 3. 3. 3. 3. 3. 3. 3. 3. 3. 3. 3. 3. 3. 3. 3.]\n",
      "Iter 4901/5000 - Loss: 3.201  lengthscale1: [[0.3731439  0.36287668 0.07621101 0.1594383 ]]   noise: [3. 3. 3. 3. 3. 3. 3. 3. 3. 3. 3. 3. 3. 3. 3. 3. 3. 3. 3. 3. 3.]\n"
     ]
    },
    {
     "output_type": "display_data",
     "data": {
      "text/html": [
       "Waiting for W&B process to finish... <strong style=\"color:green\">(success).</strong>"
      ],
      "text/plain": [
       "<IPython.core.display.HTML object>"
      ]
     },
     "metadata": {}
    },
    {
     "output_type": "display_data",
     "data": {
      "text/html": [
       "<style>\n",
       "    table.wandb td:nth-child(1) { padding: 0 10px; text-align: left ; width: auto;} td:nth-child(2) {text-align: left ; width: 100%}\n",
       "    .wandb-row { display: flex; flex-direction: row; flex-wrap: wrap; justify-content: flex-start; width: 100% }\n",
       "    .wandb-col { display: flex; flex-direction: column; flex-basis: 100%; flex: 1; padding: 10px; }\n",
       "    </style>\n",
       "<div class=\"wandb-row\"><div class=\"wandb-col\"><h3>Run history:</h3><br/><table class=\"wandb\"><tr><td>train loss</td><td>█▆▅▄▃▃▂▂▂▂▂▂▂▂▁▁▁▁▁▁▁▁▁▁▁▁▁▁▁▁▁▁▁▁▁▁▁▁▁▁</td></tr></table><br/></div></div>"
      ],
      "text/plain": [
       "<IPython.core.display.HTML object>"
      ]
     },
     "metadata": {}
    },
    {
     "output_type": "display_data",
     "data": {
      "text/html": [
       "Synced <strong style=\"color:#cdcd00\">valiant-sweep-4</strong>: <a href=\"https://wandb.ai/valenetjong/fegp%20runs/runs/wdeaz8qv\" target=\"_blank\">https://wandb.ai/valenetjong/fegp%20runs/runs/wdeaz8qv</a><br/>Synced 6 W&B file(s), 0 media file(s), 0 artifact file(s) and 0 other file(s)"
      ],
      "text/plain": [
       "<IPython.core.display.HTML object>"
      ]
     },
     "metadata": {}
    },
    {
     "output_type": "display_data",
     "data": {
      "text/html": [
       "Find logs at: <code>./wandb/run-20220719_164217-wdeaz8qv/logs</code>"
      ],
      "text/plain": [
       "<IPython.core.display.HTML object>"
      ]
     },
     "metadata": {}
    },
    {
     "output_type": "stream",
     "name": "stderr",
     "text": [
      "\u001b[34m\u001b[1mwandb\u001b[0m: Agent Starting Run: 5g5hapq6 with config:\n",
      "\u001b[34m\u001b[1mwandb\u001b[0m: \tepochs: 8000\n",
      "\u001b[34m\u001b[1mwandb\u001b[0m: \tkernel: rbf\n",
      "\u001b[34m\u001b[1mwandb\u001b[0m: \tlr: 1\n",
      "\u001b[34m\u001b[1mwandb\u001b[0m: \tlscale_1: 1\n",
      "\u001b[34m\u001b[1mwandb\u001b[0m: \tlscale_2: 1\n",
      "\u001b[34m\u001b[1mwandb\u001b[0m: \tlscale_3: 5\n",
      "\u001b[34m\u001b[1mwandb\u001b[0m: \tlscale_4: 1\n",
      "\u001b[34m\u001b[1mwandb\u001b[0m: \tnoise: 3\n",
      "\u001b[34m\u001b[1mwandb\u001b[0m: \u001b[33mWARNING\u001b[0m Ignored wandb.init() arg project when running a sweep.\n"
     ]
    },
    {
     "output_type": "display_data",
     "data": {
      "text/html": [
       "Tracking run with wandb version 0.12.21"
      ],
      "text/plain": [
       "<IPython.core.display.HTML object>"
      ]
     },
     "metadata": {}
    },
    {
     "output_type": "display_data",
     "data": {
      "text/html": [
       "Run data is saved locally in <code>/Users/valenetjong/Bayesian-Optimization-Ferroelectrics/notebooks/wandb/run-20220719_164244-5g5hapq6</code>"
      ],
      "text/plain": [
       "<IPython.core.display.HTML object>"
      ]
     },
     "metadata": {}
    },
    {
     "output_type": "display_data",
     "data": {
      "text/html": [
       "Syncing run <strong><a href=\"https://wandb.ai/valenetjong/fegp%20runs/runs/5g5hapq6\" target=\"_blank\">pretty-sweep-5</a></strong> to <a href=\"https://wandb.ai/valenetjong/fegp%20runs\" target=\"_blank\">Weights & Biases</a> (<a href=\"https://wandb.me/run\" target=\"_blank\">docs</a>)<br/>Sweep page:  <a href=\"https://wandb.ai/valenetjong/fegp%20runs/sweeps/3inxggoz\" target=\"_blank\">https://wandb.ai/valenetjong/fegp%20runs/sweeps/3inxggoz</a>"
      ],
      "text/plain": [
       "<IPython.core.display.HTML object>"
      ]
     },
     "metadata": {}
    },
    {
     "output_type": "stream",
     "name": "stdout",
     "text": [
      "Iter 1/8000 - Loss: 19.304  lengthscale1: [[1. 1. 5. 1.]]   noise: [3. 3. 3. 3. 3. 3. 3. 3. 3. 3. 3. 3. 3. 3. 3. 3. 3. 3. 3. 3. 3.]\n",
      "Iter 101/8000 - Loss: 3.491  lengthscale1: [[1.8879125e-03 9.8956833e+00 1.3440889e-01 1.7851143e+00]]   noise: [3. 3. 3. 3. 3. 3. 3. 3. 3. 3. 3. 3. 3. 3. 3. 3. 3. 3. 3. 3. 3.]\n",
      "Iter 201/8000 - Loss: 3.461  lengthscale1: [[1.5619457e-03 7.9031129e+00 1.4653079e-01 1.4374048e+00]]   noise: [3. 3. 3. 3. 3. 3. 3. 3. 3. 3. 3. 3. 3. 3. 3. 3. 3. 3. 3. 3. 3.]\n",
      "Iter 301/8000 - Loss: 3.141  lengthscale1: [[1.2106322e-03 2.1525338e-02 4.8552829e-01 4.0391457e+01]]   noise: [3. 3. 3. 3. 3. 3. 3. 3. 3. 3. 3. 3. 3. 3. 3. 3. 3. 3. 3. 3. 3.]\n",
      "Iter 401/8000 - Loss: 3.123  lengthscale1: [[1.1894207e-03 1.3972617e-02 5.3451276e-01 4.3455177e+01]]   noise: [3. 3. 3. 3. 3. 3. 3. 3. 3. 3. 3. 3. 3. 3. 3. 3. 3. 3. 3. 3. 3.]\n",
      "Iter 501/8000 - Loss: 3.115  lengthscale1: [[1.1894207e-03 1.3972444e-02 5.3451431e-01 4.3455257e+01]]   noise: [3. 3. 3. 3. 3. 3. 3. 3. 3. 3. 3. 3. 3. 3. 3. 3. 3. 3. 3. 3. 3.]\n",
      "Iter 601/8000 - Loss: 3.112  lengthscale1: [[1.1894207e-03 1.3972444e-02 5.3451431e-01 4.3455257e+01]]   noise: [3. 3. 3. 3. 3. 3. 3. 3. 3. 3. 3. 3. 3. 3. 3. 3. 3. 3. 3. 3. 3.]\n",
      "Iter 701/8000 - Loss: 3.110  lengthscale1: [[1.1894207e-03 1.3972444e-02 5.3451431e-01 4.3455257e+01]]   noise: [3. 3. 3. 3. 3. 3. 3. 3. 3. 3. 3. 3. 3. 3. 3. 3. 3. 3. 3. 3. 3.]\n",
      "Iter 801/8000 - Loss: 3.110  lengthscale1: [[1.1894207e-03 1.3972444e-02 5.3451431e-01 4.3455257e+01]]   noise: [3. 3. 3. 3. 3. 3. 3. 3. 3. 3. 3. 3. 3. 3. 3. 3. 3. 3. 3. 3. 3.]\n",
      "Iter 901/8000 - Loss: 3.109  lengthscale1: [[1.1894207e-03 1.3972444e-02 5.3451431e-01 4.3455257e+01]]   noise: [3. 3. 3. 3. 3. 3. 3. 3. 3. 3. 3. 3. 3. 3. 3. 3. 3. 3. 3. 3. 3.]\n",
      "Iter 1001/8000 - Loss: 3.109  lengthscale1: [[1.1894207e-03 1.3972444e-02 5.3451431e-01 4.3455257e+01]]   noise: [3. 3. 3. 3. 3. 3. 3. 3. 3. 3. 3. 3. 3. 3. 3. 3. 3. 3. 3. 3. 3.]\n",
      "Iter 1101/8000 - Loss: 3.109  lengthscale1: [[1.1894207e-03 1.3972444e-02 5.3451431e-01 4.3455257e+01]]   noise: [3. 3. 3. 3. 3. 3. 3. 3. 3. 3. 3. 3. 3. 3. 3. 3. 3. 3. 3. 3. 3.]\n",
      "Iter 1201/8000 - Loss: 3.109  lengthscale1: [[1.1894207e-03 1.3972444e-02 5.3451431e-01 4.3455257e+01]]   noise: [3. 3. 3. 3. 3. 3. 3. 3. 3. 3. 3. 3. 3. 3. 3. 3. 3. 3. 3. 3. 3.]\n",
      "Iter 1301/8000 - Loss: 3.109  lengthscale1: [[1.1894207e-03 1.3972444e-02 5.3451431e-01 4.3455257e+01]]   noise: [3. 3. 3. 3. 3. 3. 3. 3. 3. 3. 3. 3. 3. 3. 3. 3. 3. 3. 3. 3. 3.]\n",
      "Iter 1401/8000 - Loss: 3.109  lengthscale1: [[1.1894207e-03 1.3972444e-02 5.3451431e-01 4.3455257e+01]]   noise: [3. 3. 3. 3. 3. 3. 3. 3. 3. 3. 3. 3. 3. 3. 3. 3. 3. 3. 3. 3. 3.]\n",
      "Iter 1501/8000 - Loss: 3.109  lengthscale1: [[1.1894207e-03 1.3972444e-02 5.3451431e-01 4.3455257e+01]]   noise: [3. 3. 3. 3. 3. 3. 3. 3. 3. 3. 3. 3. 3. 3. 3. 3. 3. 3. 3. 3. 3.]\n",
      "Iter 1601/8000 - Loss: 3.109  lengthscale1: [[1.1894207e-03 1.3972444e-02 5.3451431e-01 4.3455257e+01]]   noise: [3. 3. 3. 3. 3. 3. 3. 3. 3. 3. 3. 3. 3. 3. 3. 3. 3. 3. 3. 3. 3.]\n",
      "Iter 1701/8000 - Loss: 3.109  lengthscale1: [[1.1894207e-03 1.3972444e-02 5.3451431e-01 4.3455257e+01]]   noise: [3. 3. 3. 3. 3. 3. 3. 3. 3. 3. 3. 3. 3. 3. 3. 3. 3. 3. 3. 3. 3.]\n",
      "Iter 1801/8000 - Loss: 3.109  lengthscale1: [[1.1894207e-03 1.3972444e-02 5.3451431e-01 4.3455257e+01]]   noise: [3. 3. 3. 3. 3. 3. 3. 3. 3. 3. 3. 3. 3. 3. 3. 3. 3. 3. 3. 3. 3.]\n",
      "Iter 1901/8000 - Loss: 3.109  lengthscale1: [[1.1894207e-03 1.3972444e-02 5.3451431e-01 4.3455257e+01]]   noise: [3. 3. 3. 3. 3. 3. 3. 3. 3. 3. 3. 3. 3. 3. 3. 3. 3. 3. 3. 3. 3.]\n",
      "Iter 2001/8000 - Loss: 3.109  lengthscale1: [[1.1894207e-03 1.3972444e-02 5.3451431e-01 4.3455257e+01]]   noise: [3. 3. 3. 3. 3. 3. 3. 3. 3. 3. 3. 3. 3. 3. 3. 3. 3. 3. 3. 3. 3.]\n",
      "Iter 2101/8000 - Loss: 3.109  lengthscale1: [[1.1894207e-03 1.3972444e-02 5.3451431e-01 4.3455257e+01]]   noise: [3. 3. 3. 3. 3. 3. 3. 3. 3. 3. 3. 3. 3. 3. 3. 3. 3. 3. 3. 3. 3.]\n",
      "Iter 2201/8000 - Loss: 3.109  lengthscale1: [[1.1894207e-03 1.3972444e-02 5.3451431e-01 4.3455257e+01]]   noise: [3. 3. 3. 3. 3. 3. 3. 3. 3. 3. 3. 3. 3. 3. 3. 3. 3. 3. 3. 3. 3.]\n",
      "Iter 2301/8000 - Loss: 3.109  lengthscale1: [[1.1894207e-03 1.3972444e-02 5.3451431e-01 4.3455257e+01]]   noise: [3. 3. 3. 3. 3. 3. 3. 3. 3. 3. 3. 3. 3. 3. 3. 3. 3. 3. 3. 3. 3.]\n",
      "Iter 2401/8000 - Loss: 3.109  lengthscale1: [[1.1894207e-03 1.3972444e-02 5.3451431e-01 4.3455257e+01]]   noise: [3. 3. 3. 3. 3. 3. 3. 3. 3. 3. 3. 3. 3. 3. 3. 3. 3. 3. 3. 3. 3.]\n",
      "Iter 2501/8000 - Loss: 3.109  lengthscale1: [[1.1894207e-03 1.3972444e-02 5.3451431e-01 4.3455257e+01]]   noise: [3. 3. 3. 3. 3. 3. 3. 3. 3. 3. 3. 3. 3. 3. 3. 3. 3. 3. 3. 3. 3.]\n",
      "Iter 2601/8000 - Loss: 3.109  lengthscale1: [[1.1894207e-03 1.3972444e-02 5.3451431e-01 4.3455257e+01]]   noise: [3. 3. 3. 3. 3. 3. 3. 3. 3. 3. 3. 3. 3. 3. 3. 3. 3. 3. 3. 3. 3.]\n",
      "Iter 2701/8000 - Loss: 3.109  lengthscale1: [[1.1894207e-03 1.3972444e-02 5.3451431e-01 4.3455257e+01]]   noise: [3. 3. 3. 3. 3. 3. 3. 3. 3. 3. 3. 3. 3. 3. 3. 3. 3. 3. 3. 3. 3.]\n",
      "Iter 2801/8000 - Loss: 3.109  lengthscale1: [[1.1894207e-03 1.3972444e-02 5.3451431e-01 4.3455257e+01]]   noise: [3. 3. 3. 3. 3. 3. 3. 3. 3. 3. 3. 3. 3. 3. 3. 3. 3. 3. 3. 3. 3.]\n",
      "Iter 2901/8000 - Loss: 3.109  lengthscale1: [[1.1894207e-03 1.3972444e-02 5.3451431e-01 4.3455257e+01]]   noise: [3. 3. 3. 3. 3. 3. 3. 3. 3. 3. 3. 3. 3. 3. 3. 3. 3. 3. 3. 3. 3.]\n",
      "Iter 3001/8000 - Loss: 3.109  lengthscale1: [[1.1894207e-03 1.3972444e-02 5.3451431e-01 4.3455257e+01]]   noise: [3. 3. 3. 3. 3. 3. 3. 3. 3. 3. 3. 3. 3. 3. 3. 3. 3. 3. 3. 3. 3.]\n",
      "Iter 3101/8000 - Loss: 3.109  lengthscale1: [[1.1894207e-03 1.3972444e-02 5.3451431e-01 4.3455257e+01]]   noise: [3. 3. 3. 3. 3. 3. 3. 3. 3. 3. 3. 3. 3. 3. 3. 3. 3. 3. 3. 3. 3.]\n",
      "Iter 3201/8000 - Loss: 3.109  lengthscale1: [[1.1894207e-03 1.3972444e-02 5.3451431e-01 4.3455257e+01]]   noise: [3. 3. 3. 3. 3. 3. 3. 3. 3. 3. 3. 3. 3. 3. 3. 3. 3. 3. 3. 3. 3.]\n",
      "Iter 3301/8000 - Loss: 3.109  lengthscale1: [[1.1894207e-03 1.3972444e-02 5.3451431e-01 4.3455257e+01]]   noise: [3. 3. 3. 3. 3. 3. 3. 3. 3. 3. 3. 3. 3. 3. 3. 3. 3. 3. 3. 3. 3.]\n",
      "Iter 3401/8000 - Loss: 3.109  lengthscale1: [[1.1894207e-03 1.3972444e-02 5.3451431e-01 4.3455257e+01]]   noise: [3. 3. 3. 3. 3. 3. 3. 3. 3. 3. 3. 3. 3. 3. 3. 3. 3. 3. 3. 3. 3.]\n",
      "Iter 3501/8000 - Loss: 3.109  lengthscale1: [[1.1894207e-03 1.3972444e-02 5.3451431e-01 4.3455257e+01]]   noise: [3. 3. 3. 3. 3. 3. 3. 3. 3. 3. 3. 3. 3. 3. 3. 3. 3. 3. 3. 3. 3.]\n",
      "Iter 3601/8000 - Loss: 3.109  lengthscale1: [[1.1894207e-03 1.3972444e-02 5.3451431e-01 4.3455257e+01]]   noise: [3. 3. 3. 3. 3. 3. 3. 3. 3. 3. 3. 3. 3. 3. 3. 3. 3. 3. 3. 3. 3.]\n",
      "Iter 3701/8000 - Loss: 3.109  lengthscale1: [[1.1894207e-03 1.3972444e-02 5.3451431e-01 4.3455257e+01]]   noise: [3. 3. 3. 3. 3. 3. 3. 3. 3. 3. 3. 3. 3. 3. 3. 3. 3. 3. 3. 3. 3.]\n",
      "Iter 3801/8000 - Loss: 3.109  lengthscale1: [[1.1894207e-03 1.3972444e-02 5.3451431e-01 4.3455257e+01]]   noise: [3. 3. 3. 3. 3. 3. 3. 3. 3. 3. 3. 3. 3. 3. 3. 3. 3. 3. 3. 3. 3.]\n",
      "Iter 3901/8000 - Loss: 3.109  lengthscale1: [[1.1894207e-03 1.3972444e-02 5.3451431e-01 4.3455257e+01]]   noise: [3. 3. 3. 3. 3. 3. 3. 3. 3. 3. 3. 3. 3. 3. 3. 3. 3. 3. 3. 3. 3.]\n",
      "Iter 4001/8000 - Loss: 3.109  lengthscale1: [[1.1894207e-03 1.3972444e-02 5.3451431e-01 4.3455257e+01]]   noise: [3. 3. 3. 3. 3. 3. 3. 3. 3. 3. 3. 3. 3. 3. 3. 3. 3. 3. 3. 3. 3.]\n",
      "Iter 4101/8000 - Loss: 3.109  lengthscale1: [[1.1894207e-03 1.3972444e-02 5.3451431e-01 4.3455257e+01]]   noise: [3. 3. 3. 3. 3. 3. 3. 3. 3. 3. 3. 3. 3. 3. 3. 3. 3. 3. 3. 3. 3.]\n",
      "Iter 4201/8000 - Loss: 3.109  lengthscale1: [[1.1894207e-03 1.3972444e-02 5.3451431e-01 4.3455257e+01]]   noise: [3. 3. 3. 3. 3. 3. 3. 3. 3. 3. 3. 3. 3. 3. 3. 3. 3. 3. 3. 3. 3.]\n",
      "Iter 4301/8000 - Loss: 3.109  lengthscale1: [[1.1894207e-03 1.3972444e-02 5.3451431e-01 4.3455257e+01]]   noise: [3. 3. 3. 3. 3. 3. 3. 3. 3. 3. 3. 3. 3. 3. 3. 3. 3. 3. 3. 3. 3.]\n",
      "Iter 4401/8000 - Loss: 3.109  lengthscale1: [[1.1894207e-03 1.3972444e-02 5.3451431e-01 4.3455257e+01]]   noise: [3. 3. 3. 3. 3. 3. 3. 3. 3. 3. 3. 3. 3. 3. 3. 3. 3. 3. 3. 3. 3.]\n",
      "Iter 4501/8000 - Loss: 3.109  lengthscale1: [[1.1894207e-03 1.3972444e-02 5.3451431e-01 4.3455257e+01]]   noise: [3. 3. 3. 3. 3. 3. 3. 3. 3. 3. 3. 3. 3. 3. 3. 3. 3. 3. 3. 3. 3.]\n",
      "Iter 4601/8000 - Loss: 3.109  lengthscale1: [[1.1894207e-03 1.3972444e-02 5.3451431e-01 4.3455257e+01]]   noise: [3. 3. 3. 3. 3. 3. 3. 3. 3. 3. 3. 3. 3. 3. 3. 3. 3. 3. 3. 3. 3.]\n",
      "Iter 4701/8000 - Loss: 3.109  lengthscale1: [[1.1894207e-03 1.3972444e-02 5.3451431e-01 4.3455257e+01]]   noise: [3. 3. 3. 3. 3. 3. 3. 3. 3. 3. 3. 3. 3. 3. 3. 3. 3. 3. 3. 3. 3.]\n",
      "Iter 4801/8000 - Loss: 3.109  lengthscale1: [[1.1894207e-03 1.3972444e-02 5.3451431e-01 4.3455257e+01]]   noise: [3. 3. 3. 3. 3. 3. 3. 3. 3. 3. 3. 3. 3. 3. 3. 3. 3. 3. 3. 3. 3.]\n",
      "Iter 4901/8000 - Loss: 3.109  lengthscale1: [[1.1894207e-03 1.3972444e-02 5.3451431e-01 4.3455257e+01]]   noise: [3. 3. 3. 3. 3. 3. 3. 3. 3. 3. 3. 3. 3. 3. 3. 3. 3. 3. 3. 3. 3.]\n",
      "Iter 5001/8000 - Loss: 3.109  lengthscale1: [[1.1894207e-03 1.3972444e-02 5.3451431e-01 4.3455257e+01]]   noise: [3. 3. 3. 3. 3. 3. 3. 3. 3. 3. 3. 3. 3. 3. 3. 3. 3. 3. 3. 3. 3.]\n",
      "Iter 5101/8000 - Loss: 3.109  lengthscale1: [[1.1894207e-03 1.3972444e-02 5.3451431e-01 4.3455257e+01]]   noise: [3. 3. 3. 3. 3. 3. 3. 3. 3. 3. 3. 3. 3. 3. 3. 3. 3. 3. 3. 3. 3.]\n",
      "Iter 5201/8000 - Loss: 3.109  lengthscale1: [[1.1894207e-03 1.3972444e-02 5.3451431e-01 4.3455257e+01]]   noise: [3. 3. 3. 3. 3. 3. 3. 3. 3. 3. 3. 3. 3. 3. 3. 3. 3. 3. 3. 3. 3.]\n",
      "Iter 5301/8000 - Loss: 3.109  lengthscale1: [[1.1894207e-03 1.3972444e-02 5.3451431e-01 4.3455257e+01]]   noise: [3. 3. 3. 3. 3. 3. 3. 3. 3. 3. 3. 3. 3. 3. 3. 3. 3. 3. 3. 3. 3.]\n",
      "Iter 5401/8000 - Loss: 3.109  lengthscale1: [[1.1894207e-03 1.3972444e-02 5.3451431e-01 4.3455257e+01]]   noise: [3. 3. 3. 3. 3. 3. 3. 3. 3. 3. 3. 3. 3. 3. 3. 3. 3. 3. 3. 3. 3.]\n",
      "Iter 5501/8000 - Loss: 3.109  lengthscale1: [[1.1894207e-03 1.3972444e-02 5.3451431e-01 4.3455257e+01]]   noise: [3. 3. 3. 3. 3. 3. 3. 3. 3. 3. 3. 3. 3. 3. 3. 3. 3. 3. 3. 3. 3.]\n",
      "Iter 5601/8000 - Loss: 3.109  lengthscale1: [[1.1894207e-03 1.3972444e-02 5.3451431e-01 4.3455257e+01]]   noise: [3. 3. 3. 3. 3. 3. 3. 3. 3. 3. 3. 3. 3. 3. 3. 3. 3. 3. 3. 3. 3.]\n",
      "Iter 5701/8000 - Loss: 3.109  lengthscale1: [[1.1894207e-03 1.3972444e-02 5.3451431e-01 4.3455257e+01]]   noise: [3. 3. 3. 3. 3. 3. 3. 3. 3. 3. 3. 3. 3. 3. 3. 3. 3. 3. 3. 3. 3.]\n",
      "Iter 5801/8000 - Loss: 3.109  lengthscale1: [[1.1894207e-03 1.3972444e-02 5.3451431e-01 4.3455257e+01]]   noise: [3. 3. 3. 3. 3. 3. 3. 3. 3. 3. 3. 3. 3. 3. 3. 3. 3. 3. 3. 3. 3.]\n",
      "Iter 5901/8000 - Loss: 3.109  lengthscale1: [[1.1894207e-03 1.3972444e-02 5.3451431e-01 4.3455257e+01]]   noise: [3. 3. 3. 3. 3. 3. 3. 3. 3. 3. 3. 3. 3. 3. 3. 3. 3. 3. 3. 3. 3.]\n",
      "Iter 6001/8000 - Loss: 3.109  lengthscale1: [[1.1894207e-03 1.3972444e-02 5.3451431e-01 4.3455257e+01]]   noise: [3. 3. 3. 3. 3. 3. 3. 3. 3. 3. 3. 3. 3. 3. 3. 3. 3. 3. 3. 3. 3.]\n",
      "Iter 6101/8000 - Loss: 3.109  lengthscale1: [[1.1894207e-03 1.3972444e-02 5.3451431e-01 4.3455257e+01]]   noise: [3. 3. 3. 3. 3. 3. 3. 3. 3. 3. 3. 3. 3. 3. 3. 3. 3. 3. 3. 3. 3.]\n",
      "Iter 6201/8000 - Loss: 3.109  lengthscale1: [[1.1894207e-03 1.3972444e-02 5.3451431e-01 4.3455257e+01]]   noise: [3. 3. 3. 3. 3. 3. 3. 3. 3. 3. 3. 3. 3. 3. 3. 3. 3. 3. 3. 3. 3.]\n",
      "Iter 6301/8000 - Loss: 3.109  lengthscale1: [[1.1894207e-03 1.3972444e-02 5.3451431e-01 4.3455257e+01]]   noise: [3. 3. 3. 3. 3. 3. 3. 3. 3. 3. 3. 3. 3. 3. 3. 3. 3. 3. 3. 3. 3.]\n",
      "Iter 6401/8000 - Loss: 3.109  lengthscale1: [[1.1894207e-03 1.3972444e-02 5.3451431e-01 4.3455257e+01]]   noise: [3. 3. 3. 3. 3. 3. 3. 3. 3. 3. 3. 3. 3. 3. 3. 3. 3. 3. 3. 3. 3.]\n",
      "Iter 6501/8000 - Loss: 3.109  lengthscale1: [[1.1894207e-03 1.3972444e-02 5.3451431e-01 4.3455257e+01]]   noise: [3. 3. 3. 3. 3. 3. 3. 3. 3. 3. 3. 3. 3. 3. 3. 3. 3. 3. 3. 3. 3.]\n",
      "Iter 6601/8000 - Loss: 3.109  lengthscale1: [[1.1894207e-03 1.3972444e-02 5.3451431e-01 4.3455257e+01]]   noise: [3. 3. 3. 3. 3. 3. 3. 3. 3. 3. 3. 3. 3. 3. 3. 3. 3. 3. 3. 3. 3.]\n",
      "Iter 6701/8000 - Loss: 3.109  lengthscale1: [[1.1894207e-03 1.3972444e-02 5.3451431e-01 4.3455257e+01]]   noise: [3. 3. 3. 3. 3. 3. 3. 3. 3. 3. 3. 3. 3. 3. 3. 3. 3. 3. 3. 3. 3.]\n",
      "Iter 6801/8000 - Loss: 3.109  lengthscale1: [[1.1894207e-03 1.3972444e-02 5.3451431e-01 4.3455257e+01]]   noise: [3. 3. 3. 3. 3. 3. 3. 3. 3. 3. 3. 3. 3. 3. 3. 3. 3. 3. 3. 3. 3.]\n",
      "Iter 6901/8000 - Loss: 3.109  lengthscale1: [[1.1894207e-03 1.3972444e-02 5.3451431e-01 4.3455257e+01]]   noise: [3. 3. 3. 3. 3. 3. 3. 3. 3. 3. 3. 3. 3. 3. 3. 3. 3. 3. 3. 3. 3.]\n",
      "Iter 7001/8000 - Loss: 3.109  lengthscale1: [[1.1894207e-03 1.3972444e-02 5.3451431e-01 4.3455257e+01]]   noise: [3. 3. 3. 3. 3. 3. 3. 3. 3. 3. 3. 3. 3. 3. 3. 3. 3. 3. 3. 3. 3.]\n",
      "Iter 7101/8000 - Loss: 3.109  lengthscale1: [[1.1894207e-03 1.3972444e-02 5.3451431e-01 4.3455257e+01]]   noise: [3. 3. 3. 3. 3. 3. 3. 3. 3. 3. 3. 3. 3. 3. 3. 3. 3. 3. 3. 3. 3.]\n",
      "Iter 7201/8000 - Loss: 3.109  lengthscale1: [[1.1894207e-03 1.3972444e-02 5.3451431e-01 4.3455257e+01]]   noise: [3. 3. 3. 3. 3. 3. 3. 3. 3. 3. 3. 3. 3. 3. 3. 3. 3. 3. 3. 3. 3.]\n",
      "Iter 7301/8000 - Loss: 3.109  lengthscale1: [[1.1894207e-03 1.3972444e-02 5.3451431e-01 4.3455257e+01]]   noise: [3. 3. 3. 3. 3. 3. 3. 3. 3. 3. 3. 3. 3. 3. 3. 3. 3. 3. 3. 3. 3.]\n",
      "Iter 7401/8000 - Loss: 3.109  lengthscale1: [[1.1894207e-03 1.3972444e-02 5.3451431e-01 4.3455257e+01]]   noise: [3. 3. 3. 3. 3. 3. 3. 3. 3. 3. 3. 3. 3. 3. 3. 3. 3. 3. 3. 3. 3.]\n",
      "Iter 7501/8000 - Loss: 3.109  lengthscale1: [[1.1894207e-03 1.3972444e-02 5.3451431e-01 4.3455257e+01]]   noise: [3. 3. 3. 3. 3. 3. 3. 3. 3. 3. 3. 3. 3. 3. 3. 3. 3. 3. 3. 3. 3.]\n",
      "Iter 7601/8000 - Loss: 3.109  lengthscale1: [[1.1894207e-03 1.3972444e-02 5.3451431e-01 4.3455257e+01]]   noise: [3. 3. 3. 3. 3. 3. 3. 3. 3. 3. 3. 3. 3. 3. 3. 3. 3. 3. 3. 3. 3.]\n",
      "Iter 7701/8000 - Loss: 3.109  lengthscale1: [[1.1894207e-03 1.3972444e-02 5.3451431e-01 4.3455257e+01]]   noise: [3. 3. 3. 3. 3. 3. 3. 3. 3. 3. 3. 3. 3. 3. 3. 3. 3. 3. 3. 3. 3.]\n",
      "Iter 7801/8000 - Loss: 3.109  lengthscale1: [[1.1894207e-03 1.3972444e-02 5.3451431e-01 4.3455257e+01]]   noise: [3. 3. 3. 3. 3. 3. 3. 3. 3. 3. 3. 3. 3. 3. 3. 3. 3. 3. 3. 3. 3.]\n",
      "Iter 7901/8000 - Loss: 3.109  lengthscale1: [[1.1894207e-03 1.3972444e-02 5.3451431e-01 4.3455257e+01]]   noise: [3. 3. 3. 3. 3. 3. 3. 3. 3. 3. 3. 3. 3. 3. 3. 3. 3. 3. 3. 3. 3.]\n"
     ]
    },
    {
     "output_type": "display_data",
     "data": {
      "text/html": [
       "Waiting for W&B process to finish... <strong style=\"color:green\">(success).</strong>"
      ],
      "text/plain": [
       "<IPython.core.display.HTML object>"
      ]
     },
     "metadata": {}
    },
    {
     "output_type": "display_data",
     "data": {
      "text/html": [
       "<style>\n",
       "    table.wandb td:nth-child(1) { padding: 0 10px; text-align: left ; width: auto;} td:nth-child(2) {text-align: left ; width: 100%}\n",
       "    .wandb-row { display: flex; flex-direction: row; flex-wrap: wrap; justify-content: flex-start; width: 100% }\n",
       "    .wandb-col { display: flex; flex-direction: column; flex-basis: 100%; flex: 1; padding: 10px; }\n",
       "    </style>\n",
       "<div class=\"wandb-row\"><div class=\"wandb-col\"><h3>Run history:</h3><br/><table class=\"wandb\"><tr><td>train loss</td><td>█▇▁▁▁▁▁▁▁▁▁▁▁▁▁▁▁▁▁▁▁▁▁▁▁▁▁▁▁▁▁▁▁▁▁▁▁▁▁▁</td></tr></table><br/></div></div>"
      ],
      "text/plain": [
       "<IPython.core.display.HTML object>"
      ]
     },
     "metadata": {}
    },
    {
     "output_type": "display_data",
     "data": {
      "text/html": [
       "Synced <strong style=\"color:#cdcd00\">pretty-sweep-5</strong>: <a href=\"https://wandb.ai/valenetjong/fegp%20runs/runs/5g5hapq6\" target=\"_blank\">https://wandb.ai/valenetjong/fegp%20runs/runs/5g5hapq6</a><br/>Synced 6 W&B file(s), 0 media file(s), 0 artifact file(s) and 0 other file(s)"
      ],
      "text/plain": [
       "<IPython.core.display.HTML object>"
      ]
     },
     "metadata": {}
    },
    {
     "output_type": "display_data",
     "data": {
      "text/html": [
       "Find logs at: <code>./wandb/run-20220719_164244-5g5hapq6/logs</code>"
      ],
      "text/plain": [
       "<IPython.core.display.HTML object>"
      ]
     },
     "metadata": {}
    }
   ],
   "metadata": {}
  },
  {
   "cell_type": "markdown",
   "source": [
    "# Re-train best config model"
   ],
   "metadata": {}
  },
  {
   "cell_type": "code",
   "execution_count": 42,
   "source": [
    "# Training loop (long form, for inspection of results during training)\n",
    "def train(config):\n",
    "    likelihood, model = make_model(train_x, train_y, config)\n",
    "    training_iter = config.epochs\n",
    "\n",
    "    # Place both the model and likelihood in training mode\n",
    "    model.train()\n",
    "    likelihood.train()\n",
    "    optimizer = torch.optim.Adam(model.parameters(), lr=config.lr)\n",
    "    mll = gpytorch.mlls.ExactMarginalLogLikelihood(likelihood, model)\n",
    "\n",
    "    for i in range(training_iter):\n",
    "        optimizer.zero_grad()\n",
    "        output = model(train_x)\n",
    "\n",
    "        # backpropogate error\n",
    "        wandb.define_metric(\"train loss\", summary=\"min\")\n",
    "        loss = -mll(output, train_y)\n",
    "        wandb.log({\"train loss\": loss.item()})\n",
    "        loss.backward()\n",
    "\n",
    "        if i % 100 == 0: \n",
    "            print('Iter %d/%d - Loss: %.3f  lengthscale1: %s   noise: %s' % (\n",
    "                    i+1, training_iter, loss.item(), \n",
    "                    model.covar_module.base_kernel.lengthscale.detach().numpy(),\n",
    "                    model.likelihood.noise.detach().numpy()\n",
    "                    )) \n",
    "\n",
    "                    # # get a quick snapshot of intermediate \n",
    "                    # model.eval()\n",
    "                    # likelihood.eval()\n",
    "                    # with torch.no_grad(), gpytorch.settings.fast_pred_var():\n",
    "                    #     obs = likelihood(model(test_x))\n",
    "\n",
    "                    #     f, ax = plt.subplots(1, 1, figsize=(4,3))\n",
    "                    #     intermediate_plot(f, ax, obs, f'iter {i+1}/{training_iter}')\n",
    "                    # model.train()\n",
    "                    # likelihood.train()\n",
    "        optimizer.step()\n",
    "        \n",
    "        # Save trained model\n",
    "        # torch.save(model.state_dict(), 'models/my_gp_with_nn_model.pth')\n",
    "    return likelihood, model "
   ],
   "outputs": [],
   "metadata": {}
  },
  {
   "cell_type": "code",
   "execution_count": 43,
   "source": [
    "##### INIT ########\n",
    "config_defaults = {\n",
    "    \"epochs\": 9000,\n",
    "    \"kernel\": \"rbf\",\n",
    "    \"lr\": 0.1,\n",
    "    \"lscale_1\": 5,\n",
    "    \"lscale_2\": 10,\n",
    "    \"lscale_3\": 0.5,\n",
    "    \"lscale_4\": 1,\n",
    "    \"noise\": 3.0\n",
    "}"
   ],
   "outputs": [],
   "metadata": {}
  },
  {
   "cell_type": "code",
   "execution_count": null,
   "source": [
    "likelihood, model = train(config)"
   ],
   "outputs": [],
   "metadata": {}
  },
  {
   "cell_type": "markdown",
   "source": [
    "# Make and plot predictions"
   ],
   "metadata": {}
  },
  {
   "cell_type": "code",
   "execution_count": null,
   "source": [
    "# make predictions (whether by long or short form)\n",
    "model.eval()\n",
    "likelihood.eval()\n",
    "\n",
    "with torch.no_grad(), gpytorch.settings.fast_pred_var():\n",
    "    # also use mll from short form \n",
    "    obs = likelihood(model(test_x), noise=(torch.ones(len(test_x))*5))\n",
    "# print(f'train data: {fe_data[\"2Pr (uC/cm2), Pristine state\"][1]}')\n",
    "# print(f'observed: {obs.mean}')"
   ],
   "outputs": [],
   "metadata": {}
  },
  {
   "cell_type": "code",
   "execution_count": null,
   "source": [
    "obs.covariance_matrix.shape"
   ],
   "outputs": [],
   "metadata": {}
  },
  {
   "cell_type": "markdown",
   "source": [
    "# Make predictions and plot the mean surface"
   ],
   "metadata": {}
  },
  {
   "cell_type": "code",
   "execution_count": null,
   "source": [
    "# # non-log scale 3D plot\n",
    "\n",
    "# pred_labels = obs.mean.view(n, n)\n",
    "# # plot?...\n",
    "# import plotly.graph_objects as go\n",
    "# fig = go.Figure(data=[go.Surface(z=pred_labels.numpy().T, x=test_grid[:,0], y=test_grid[:,1], name='GP regression')])\n",
    "# fig.add_trace(go.Scatter3d(x=train_x[:,0].numpy(),y=train_x[:,1].numpy(),  \n",
    "#                         z=train_y.numpy(), mode='markers', marker={'color':'darkgreen'}, name='training data'))\n",
    "# fig.update_layout( width=1000, height=800,\n",
    "#                   legend=dict(orientation=\"h\", yanchor=\"top\", y=1.02, xanchor=\"left\",x=1),\n",
    "#                    margin=dict(r=20, l=10, b=10, t=10), \n",
    "#                     scene=dict(\n",
    "#                     xaxis_title=\"Flash voltage (kV)\",\n",
    "#                     yaxis_title=\"Flash time (msec)\",\n",
    "#                     zaxis_title='Pr (uC/cm^2), Pristine')\n",
    "#                 )\n",
    "# camera = dict(\n",
    "#     up=dict(x=0, y=0, z=1),\n",
    "#     center=dict(x=0, y=0, z=0),\n",
    "#     eye=dict(x=-2, y=-2.5, z=1.75)\n",
    "# )\n",
    "\n",
    "# fig.update_layout(scene_camera=camera)\n",
    "# fig.show()"
   ],
   "outputs": [],
   "metadata": {}
  },
  {
   "cell_type": "code",
   "execution_count": null,
   "source": [
    "# # log scale\n",
    "# pred_labels = obs.mean.view(n, n)\n",
    "# # plot?...\n",
    "# import plotly.graph_objects as go\n",
    "# fig = go.Figure(data=[go.Surface(z=pred_labels.numpy().T, x=test_grid[:,0], y=test_grid[:,1], name='GP regression')])\n",
    "# fig.add_trace(go.Scatter3d(x=train_x[:,0].numpy(),y=train_x[:,1].numpy(),  \n",
    "#                         z=train_y.numpy(), mode='markers', marker={'color':'darkgreen'}, name='trianing data'))\n",
    "# fig.update_layout( #width=1000, height=800,\n",
    "#                   legend=dict(orientation=\"h\", yanchor=\"top\", y=1.02, xanchor=\"left\",x=1),\n",
    "#                    margin=dict(r=20, l=10, b=10, t=10), \n",
    "#                     scene=dict(\n",
    "#                     xaxis_title=\"RTA temperature (C)\",\n",
    "#                     yaxis_title=\"RTA time (sec)\",\n",
    "#                     zaxis_title='2Pr (uC/cm2), Pristine')\n",
    "#                 )\n",
    "# fig.show()"
   ],
   "outputs": [],
   "metadata": {}
  },
  {
   "cell_type": "markdown",
   "source": [
    "# Evaluate acquisition functions\n",
    "This is a bit over-engineered at the moment, as it was built to allow use of the acquisition functions in bayesian optimization loops (botorch functionality).  The below cells should suffice to return the needed results.  "
   ],
   "metadata": {}
  },
  {
   "cell_type": "code",
   "execution_count": null,
   "source": [
    "# Evaluate acquisition functions on current predictions (observations)\n",
    "bounds = [1,1,1,1]\n",
    "\n",
    "# Probability of Improvement\n",
    "PI_acq = PI(obs, bounds, train_y)\n",
    "PI_acq_shape = PI_acq.detach().numpy().reshape(30,30,30,30).T\n",
    "\n",
    "# Expected Improvement\n",
    "EI_acq = EI(obs, bounds, train_y)\n",
    "EI_acq_shape = EI_acq.detach().numpy().reshape(30,30,30,30).T\n",
    "\n",
    "# Custom Acquisition (something I was playing with)\n",
    "ca_acq = cust_acq(obs, bounds, train_y)\n",
    "ca_acq_shape = ca_acq.detach().numpy().reshape(30,30,30,30).T\n",
    "\n",
    "# Thompson Acquisition function\n",
    "th_acq = thompson(obs, bounds, train_y)\n",
    "th_acq_shape = th_acq.detach().numpy().reshape(30,30,30,30).T\n",
    "# fig = go.Figure(data=[go.Surface(z=acq, x=test_grid[:,0], y=test_grid[:,1])])\n"
   ],
   "outputs": [],
   "metadata": {}
  },
  {
   "cell_type": "code",
   "execution_count": null,
   "source": [
    "ei = np.unravel_index(EI_acq_shape.argmax(), EI_acq_shape.shape)\n",
    "pi = np.unravel_index(PI_acq_shape.argmax(), PI_acq_shape.shape)\n",
    "ca = np.unravel_index(ca_acq_shape.argmax(), ca_acq_shape.shape)\n",
    "th = np.unravel_index(th_acq_shape.argmax(), th_acq_shape.shape)"
   ],
   "outputs": [],
   "metadata": {}
  },
  {
   "cell_type": "code",
   "execution_count": null,
   "source": [
    "# Plot the acquisition function results alongside the confidence bound surfaces\n",
    "pred_var = obs.variance.view(n, n).detach().numpy().T\n",
    "lower, upper = obs.confidence_region()\n",
    "upper_surf = upper.detach().numpy().reshape(30,30,30,30).T\n",
    "lower_surf = lower.detach().numpy().reshape(30,30,30,30).T\n",
    "\n",
    "ucb = np.unravel_index(upper_surf.argmax(), upper_surf.shape)\n",
    "max_var = np.unravel_index(pred_var.argmax(), pred_var.shape)\n",
    "ei = np.unravel_index(EI_acq_shape.argmax(), EI_acq_shape.shape)\n",
    "pi = np.unravel_index(PI_acq_shape.argmax(), PI_acq_shape.shape)"
   ],
   "outputs": [],
   "metadata": {}
  },
  {
   "cell_type": "code",
   "execution_count": null,
   "source": [
    "# plot?...\n",
    "import plotly.graph_objects as go\n",
    "fig = go.Figure(data=[go.Surface(z = upper_surf, x=test_grid[:,0], y=test_grid[:,1], opacity=0.5, showscale=False)])\n",
    "fig.add_trace(go.Surface(z = lower_surf, x=test_grid[:,0], y=test_grid[:,1], opacity=0.5, showscale=False))\n",
    "fig.add_trace(go.Scatter3d(x=train_x[:,0].numpy(), y=train_x[:,1].numpy(), \n",
    "                            z=train_y.numpy(), mode='markers', name='training data', marker={'color':'darkgreen'}))\n",
    "\n",
    "fig.add_trace(go.Scatter3d(x=test_grid[ucb[1], 0].numpy(), y=test_grid[ucb[0], 1].numpy(), \n",
    "                            z=[pred_labels[ucb[0], ucb[1]]], mode='markers', name='max(upper confidence bound)')) \n",
    "fig.add_trace(go.Scatter3d(x=test_grid[th[1], 0].numpy(), y=test_grid[th[0],1].numpy(), \n",
    "                            z=[pred_labels[th[0], th[1]].detach().numpy()], mode='markers', name='max(thompson)')) \n",
    "fig.add_trace(go.Scatter3d(x=test_grid[pi[1], 0].numpy(), y=test_grid[pi[0], 1].numpy(), z=[pred_labels[pi[0], pi[1]]], mode='markers', name='max(pi)'))\n",
    "\n",
    "fig.add_trace(go.Scatter3d(x=test_grid[ei[1], 0].numpy(), y=test_grid[ei[0], 1].numpy(), z=[pred_labels[ei\n",
    "[0], ei[1]]], mode='markers', name='max(ei)'))\n",
    "\n",
    "fig.add_trace(go.Scatter3d(x=test_grid[ca[1], 0].numpy(), y=test_grid[ca[0], 1].numpy(), z=[pred_labels[ca[0], ca[1]]], mode='markers', name='max(ca)'))\n",
    "\n",
    "\n",
    "fig.update_layout( width=800, height=600,\n",
    "                  margin=dict(r=20, l=10, b=10, t=10),\n",
    "                  legend=dict(orientation=\"h\", yanchor=\"bottom\", y=1.02, xanchor=\"right\",x=1),\n",
    "                  scene=dict(\n",
    "                    xaxis_title=\"Flash voltage (kV)\",\n",
    "                    yaxis_title=\"Flash time (msec)\",\n",
    "                    zaxis_title='Pr (uC/cm^2), Pristine')\n",
    "                  )\n",
    "fig.show()"
   ],
   "outputs": [],
   "metadata": {}
  },
  {
   "cell_type": "code",
   "execution_count": null,
   "source": [
    "# Simply print the locations of the suggested points\n",
    "print(test_grid[ei[1], 0], test_grid[ei[0], 1])\n",
    "print(test_grid[pi[1], 0], test_grid[pi[0], 1])\n",
    "print(test_grid[ca[1], 0], test_grid[ca[0], 1])\n",
    "print(test_grid[ucb[1], 0], test_grid[ucb[0], 1])\n",
    "print(test_grid[th[1], 0], test_grid[th[0], 1])\n",
    "print(test_grid[max_var[1], 0], test_grid[max_var[0], 1])"
   ],
   "outputs": [],
   "metadata": {}
  },
  {
   "cell_type": "code",
   "execution_count": null,
   "source": [
    "print(pred_labels[ei[0], ei[1]])\n",
    "print(pred_labels[pi[0], pi[1]])\n",
    "print(pred_labels[ca[0], ca[1]])\n",
    "print(pred_labels[ucb[0], ucb[1]])\n",
    "print(pred_labels[th[0], th[1]])\n",
    "print(pred_labels[max_var[0], max_var[1]])\n"
   ],
   "outputs": [],
   "metadata": {}
  },
  {
   "cell_type": "code",
   "execution_count": null,
   "source": [
    "# look at acq_func manifold\n",
    "fig = go.Figure(data=[go.Surface(z=EI_acq_shape, x=test_grid[:,0], y=test_grid[:,1])])\n",
    "fig.add_trace(go.Scatter3d(x=test_grid[pi[1], 0].numpy(), y=test_grid[pi[0], 1].numpy(), z=[PI_acq_shape[pi[0], pi[1]]], mode='markers', name='max(pi)'))\n",
    "fig.update_layout( width=1000, height=600,\n",
    "                  margin=dict(r=20, l=10, b=10, t=10),\n",
    "                  legend=dict(orientation=\"h\", yanchor=\"bottom\", y=1.02, xanchor=\"right\",x=1),\n",
    "                  scene=dict(\n",
    "                    xaxis_title=\"RTA temperature (C)\",\n",
    "                    yaxis_title=\"RTA time (sec)\",\n",
    "                    zaxis_title='Acquisition Function')\n",
    "                  )\n",
    "fig.show()"
   ],
   "outputs": [],
   "metadata": {}
  },
  {
   "cell_type": "code",
   "execution_count": null,
   "source": [
    "# look at acq_func manifold\n",
    "fig = go.Figure(data=[go.Surface(z=pred_var, x=test_grid[:,0], y=test_grid[:,1])])\n",
    "fig.add_trace(go.Scatter3d(x=test_grid[pi[1], 0].numpy(), y=test_grid[pi[0], 1].numpy(), z=[PI_acq_shape[pi[0], pi[1]]], mode='markers', name='max(pi)'))\n",
    "fig.update_layout( width=1000, height=600,\n",
    "                  margin=dict(r=20, l=10, b=10, t=10),\n",
    "                  legend=dict(orientation=\"h\", yanchor=\"bottom\", y=1.02, xanchor=\"right\",x=1),\n",
    "                  scene=dict(\n",
    "                    xaxis_title=\"RTA temperature (C)\",\n",
    "                    yaxis_title=\"RTA time (sec)\",\n",
    "                    zaxis_title='Acquisition Function')\n",
    "                  )\n",
    "fig.show()"
   ],
   "outputs": [],
   "metadata": {}
  }
 ],
 "metadata": {
  "interpreter": {
   "hash": "b00f9bca1c18369f730e284e4d0522d8a3e0f0b629e30dad99ec4bb4df6f08b7"
  },
  "kernelspec": {
   "name": "python3",
   "display_name": "Python 3.9.12 64-bit ('FEGP': conda)"
  },
  "language_info": {
   "codemirror_mode": {
    "name": "ipython",
    "version": 3
   },
   "file_extension": ".py",
   "mimetype": "text/x-python",
   "name": "python",
   "nbconvert_exporter": "python",
   "pygments_lexer": "ipython3",
   "version": "3.9.12"
  }
 },
 "nbformat": 4,
 "nbformat_minor": 4
}