{
 "cells": [
  {
   "cell_type": "code",
   "execution_count": 18,
   "source": [
    "# allow imports from local \"src\" directory\n",
    "import sys\n",
    "sys.path.append('..')\n",
    "from src.acq_funcs import EI, PI, cust_acq, thompson\n",
    "import numpy as np\n",
    "import math\n",
    "\n",
    "import pandas as pd\n",
    "import torch\n",
    "import gpytorch\n",
    "import botorch\n",
    "from botorch.models.gpytorch import GPyTorchModel\n",
    "\n",
    "from matplotlib import pyplot as plt\n",
    "from matplotlib import cm\n",
    "import plotly.express as px\n",
    "\n",
    "import wandb\n",
    "%matplotlib inline\n",
    "%load_ext autoreload\n",
    "%autoreload 2\n",
    "\n",
    "print(gpytorch.__version__)"
   ],
   "outputs": [
    {
     "output_type": "stream",
     "name": "stdout",
     "text": [
      "The autoreload extension is already loaded. To reload it, use:\n",
      "  %reload_ext autoreload\n",
      "1.7.0\n"
     ]
    }
   ],
   "metadata": {}
  },
  {
   "cell_type": "markdown",
   "source": [
    "# Data import and preparation"
   ],
   "metadata": {
    "tags": []
   }
  },
  {
   "cell_type": "code",
   "execution_count": 19,
   "source": [
    "# Load data\n",
    "fe_data = pd.read_csv('../data/KHM005_KHM006_quartz_HZO_samples.csv', index_col=0)\n",
    "fe_data_len = len(fe_data['Thickness (nm)'])\n",
    "\n",
    "# Add duty cycle data\n",
    "duty_cycle_list = np.array([0.45, 0.55, 0.65])\n",
    "duty_cycles = np.random.choice(duty_cycle_list, size=fe_data_len)\n",
    "fe_data['Duty Cycle'] = duty_cycles\n",
    "\n",
    "# Add num pulses data\n",
    "num_pulses_list = np.array([15, 25])\n",
    "num_pulses = np.random.choice(num_pulses_list, size=fe_data_len)\n",
    "fe_data['Num Pulses'] = num_pulses\n",
    "\n",
    "# Rearrange columns\n",
    "cols = list(fe_data.columns.values) \n",
    "idx = cols.index(\"Flash time (msec)\")\n",
    "cols = cols[:idx+1] + cols[-2:] + cols[idx+1:-2]\n",
    "fe_data = fe_data[cols]"
   ],
   "outputs": [],
   "metadata": {}
  },
  {
   "cell_type": "code",
   "execution_count": 20,
   "source": [
    "# Write data back to csv\n",
    "import os  \n",
    "os.makedirs('../data', exist_ok=True) \n",
    "fe_data.to_csv('../data/KHM005_KHM006_quartz_HZO_samples2.csv') \n",
    "\n",
    "# Load manipulated data\n",
    "fe_data = pd.read_csv('../data/KHM005_KHM006_quartz_HZO_samples2.csv', index_col=0)\n",
    "fe_data.columns"
   ],
   "outputs": [
    {
     "output_type": "execute_result",
     "data": {
      "text/plain": [
       "Index(['Thickness (nm)', 'Flash voltage (kV)', 'Flash time (msec)',\n",
       "       'Duty Cycle', 'Num Pulses', 'Pr (uC/cm2), Pristine state',\n",
       "       '2Pr (uC/cm2), Pristine state', 'Predicted 2Pr', 'Coersive Voltage',\n",
       "       'Imprint', 'Endurance', 'Max temperature (degC)'],\n",
       "      dtype='object')"
      ]
     },
     "metadata": {},
     "execution_count": 20
    }
   ],
   "metadata": {}
  },
  {
   "cell_type": "code",
   "execution_count": 21,
   "source": [
    "fe_data.head()"
   ],
   "outputs": [
    {
     "output_type": "execute_result",
     "data": {
      "text/html": [
       "<div>\n",
       "<style scoped>\n",
       "    .dataframe tbody tr th:only-of-type {\n",
       "        vertical-align: middle;\n",
       "    }\n",
       "\n",
       "    .dataframe tbody tr th {\n",
       "        vertical-align: top;\n",
       "    }\n",
       "\n",
       "    .dataframe thead th {\n",
       "        text-align: right;\n",
       "    }\n",
       "</style>\n",
       "<table border=\"1\" class=\"dataframe\">\n",
       "  <thead>\n",
       "    <tr style=\"text-align: right;\">\n",
       "      <th></th>\n",
       "      <th>Thickness (nm)</th>\n",
       "      <th>Flash voltage (kV)</th>\n",
       "      <th>Flash time (msec)</th>\n",
       "      <th>Duty Cycle</th>\n",
       "      <th>Num Pulses</th>\n",
       "      <th>Pr (uC/cm2), Pristine state</th>\n",
       "      <th>2Pr (uC/cm2), Pristine state</th>\n",
       "      <th>Predicted 2Pr</th>\n",
       "      <th>Coersive Voltage</th>\n",
       "      <th>Imprint</th>\n",
       "      <th>Endurance</th>\n",
       "      <th>Max temperature (degC)</th>\n",
       "    </tr>\n",
       "  </thead>\n",
       "  <tbody>\n",
       "    <tr>\n",
       "      <th>1</th>\n",
       "      <td>10</td>\n",
       "      <td>2.0</td>\n",
       "      <td>2.0</td>\n",
       "      <td>0.55</td>\n",
       "      <td>25</td>\n",
       "      <td>1.39</td>\n",
       "      <td>2.78</td>\n",
       "      <td>NaN</td>\n",
       "      <td>0.49</td>\n",
       "      <td>-0.002</td>\n",
       "      <td>100000000.0</td>\n",
       "      <td>342</td>\n",
       "    </tr>\n",
       "    <tr>\n",
       "      <th>2</th>\n",
       "      <td>10</td>\n",
       "      <td>2.0</td>\n",
       "      <td>5.0</td>\n",
       "      <td>0.55</td>\n",
       "      <td>25</td>\n",
       "      <td>3.94</td>\n",
       "      <td>7.88</td>\n",
       "      <td>NaN</td>\n",
       "      <td>0.84</td>\n",
       "      <td>0.122</td>\n",
       "      <td>10000000.0</td>\n",
       "      <td>345</td>\n",
       "    </tr>\n",
       "    <tr>\n",
       "      <th>3</th>\n",
       "      <td>10</td>\n",
       "      <td>2.2</td>\n",
       "      <td>1.0</td>\n",
       "      <td>0.45</td>\n",
       "      <td>15</td>\n",
       "      <td>4.69</td>\n",
       "      <td>9.38</td>\n",
       "      <td>NaN</td>\n",
       "      <td>0.74</td>\n",
       "      <td>0.069</td>\n",
       "      <td>10000000.0</td>\n",
       "      <td>361</td>\n",
       "    </tr>\n",
       "    <tr>\n",
       "      <th>4</th>\n",
       "      <td>10</td>\n",
       "      <td>2.2</td>\n",
       "      <td>1.5</td>\n",
       "      <td>0.65</td>\n",
       "      <td>25</td>\n",
       "      <td>13.82</td>\n",
       "      <td>27.64</td>\n",
       "      <td>NaN</td>\n",
       "      <td>0.93</td>\n",
       "      <td>0.195</td>\n",
       "      <td>1000000.0</td>\n",
       "      <td>403</td>\n",
       "    </tr>\n",
       "    <tr>\n",
       "      <th>5</th>\n",
       "      <td>10</td>\n",
       "      <td>2.2</td>\n",
       "      <td>2.0</td>\n",
       "      <td>0.65</td>\n",
       "      <td>15</td>\n",
       "      <td>13.81</td>\n",
       "      <td>27.62</td>\n",
       "      <td>NaN</td>\n",
       "      <td>0.97</td>\n",
       "      <td>0.144</td>\n",
       "      <td>100000.0</td>\n",
       "      <td>427</td>\n",
       "    </tr>\n",
       "  </tbody>\n",
       "</table>\n",
       "</div>"
      ],
      "text/plain": [
       "   Thickness (nm)  Flash voltage (kV)  Flash time (msec)  Duty Cycle  \\\n",
       "1              10                 2.0                2.0        0.55   \n",
       "2              10                 2.0                5.0        0.55   \n",
       "3              10                 2.2                1.0        0.45   \n",
       "4              10                 2.2                1.5        0.65   \n",
       "5              10                 2.2                2.0        0.65   \n",
       "\n",
       "   Num Pulses  Pr (uC/cm2), Pristine state  2Pr (uC/cm2), Pristine state  \\\n",
       "1          25                         1.39                          2.78   \n",
       "2          25                         3.94                          7.88   \n",
       "3          15                         4.69                          9.38   \n",
       "4          25                        13.82                         27.64   \n",
       "5          15                        13.81                         27.62   \n",
       "\n",
       "   Predicted 2Pr  Coersive Voltage  Imprint    Endurance  \\\n",
       "1            NaN              0.49   -0.002  100000000.0   \n",
       "2            NaN              0.84    0.122   10000000.0   \n",
       "3            NaN              0.74    0.069   10000000.0   \n",
       "4            NaN              0.93    0.195    1000000.0   \n",
       "5            NaN              0.97    0.144     100000.0   \n",
       "\n",
       "   Max temperature (degC)  \n",
       "1                     342  \n",
       "2                     345  \n",
       "3                     361  \n",
       "4                     403  \n",
       "5                     427  "
      ]
     },
     "metadata": {},
     "execution_count": 21
    }
   ],
   "metadata": {}
  },
  {
   "cell_type": "code",
   "execution_count": 22,
   "source": [
    "# Plot each cross-section\n",
    "fig = px.scatter_matrix(fe_data, dimensions=[\"Flash voltage (kV)\", \"Flash time (msec)\", \"Duty Cycle\", \"Num Pulses\", \"Pr (uC/cm2), Pristine state\"])\n",
    "# fig.update_layout(margin=dict(r=20, l=10, b=10, t=10))\n",
    "fig.update_layout(height=1000)\n",
    "fig.show()"
   ],
   "outputs": [
    {
     "output_type": "display_data",
     "data": {
      "application/vnd.plotly.v1+json": {
       "data": [
        {
         "dimensions": [
          {
           "axis": {
            "matches": true
           },
           "label": "Flash voltage (kV)",
           "values": [
            2,
            2,
            2.2,
            2.2,
            2.2,
            2.2,
            2.5,
            2.5,
            2.5,
            2.5,
            2.5,
            2.7,
            2.7,
            2.7,
            2.7,
            2.7,
            3,
            3,
            3,
            3,
            3
           ]
          },
          {
           "axis": {
            "matches": true
           },
           "label": "Flash time (msec)",
           "values": [
            2,
            5,
            1,
            1.5,
            2,
            5,
            0.5,
            1,
            1.5,
            2,
            5,
            0.5,
            1,
            1.5,
            2,
            5,
            0.5,
            1,
            1.5,
            2,
            5
           ]
          },
          {
           "axis": {
            "matches": true
           },
           "label": "Duty Cycle",
           "values": [
            0.55,
            0.55,
            0.45,
            0.65,
            0.65,
            0.45,
            0.55,
            0.65,
            0.65,
            0.65,
            0.45,
            0.55,
            0.55,
            0.45,
            0.55,
            0.65,
            0.45,
            0.55,
            0.55,
            0.45,
            0.55
           ]
          },
          {
           "axis": {
            "matches": true
           },
           "label": "Num Pulses",
           "values": [
            25,
            25,
            15,
            25,
            15,
            25,
            15,
            25,
            15,
            15,
            15,
            15,
            25,
            15,
            15,
            15,
            15,
            15,
            15,
            25,
            15
           ]
          },
          {
           "axis": {
            "matches": true
           },
           "label": "Pr (uC/cm2), Pristine state",
           "values": [
            1.39,
            3.94,
            4.69,
            13.82,
            13.81,
            13.39,
            2.23,
            12.46,
            13.74,
            19.71,
            15.22,
            11.99,
            16.41,
            18.35,
            17.97,
            18.67,
            14.65,
            15.44,
            15.33,
            13.43,
            20.14
           ]
          }
         ],
         "hovertemplate": "%{xaxis.title.text}=%{x}<br>%{yaxis.title.text}=%{y}<extra></extra>",
         "legendgroup": "",
         "marker": {
          "color": "#636efa",
          "symbol": "circle"
         },
         "name": "",
         "showlegend": false,
         "type": "splom"
        }
       ],
       "layout": {
        "template": {
         "data": {
          "bar": [
           {
            "error_x": {
             "color": "#2a3f5f"
            },
            "error_y": {
             "color": "#2a3f5f"
            },
            "marker": {
             "line": {
              "color": "#E5ECF6",
              "width": 0.5
             },
             "pattern": {
              "fillmode": "overlay",
              "size": 10,
              "solidity": 0.2
             }
            },
            "type": "bar"
           }
          ],
          "barpolar": [
           {
            "marker": {
             "line": {
              "color": "#E5ECF6",
              "width": 0.5
             },
             "pattern": {
              "fillmode": "overlay",
              "size": 10,
              "solidity": 0.2
             }
            },
            "type": "barpolar"
           }
          ],
          "carpet": [
           {
            "aaxis": {
             "endlinecolor": "#2a3f5f",
             "gridcolor": "white",
             "linecolor": "white",
             "minorgridcolor": "white",
             "startlinecolor": "#2a3f5f"
            },
            "baxis": {
             "endlinecolor": "#2a3f5f",
             "gridcolor": "white",
             "linecolor": "white",
             "minorgridcolor": "white",
             "startlinecolor": "#2a3f5f"
            },
            "type": "carpet"
           }
          ],
          "choropleth": [
           {
            "colorbar": {
             "outlinewidth": 0,
             "ticks": ""
            },
            "type": "choropleth"
           }
          ],
          "contour": [
           {
            "colorbar": {
             "outlinewidth": 0,
             "ticks": ""
            },
            "colorscale": [
             [
              0,
              "#0d0887"
             ],
             [
              0.1111111111111111,
              "#46039f"
             ],
             [
              0.2222222222222222,
              "#7201a8"
             ],
             [
              0.3333333333333333,
              "#9c179e"
             ],
             [
              0.4444444444444444,
              "#bd3786"
             ],
             [
              0.5555555555555556,
              "#d8576b"
             ],
             [
              0.6666666666666666,
              "#ed7953"
             ],
             [
              0.7777777777777778,
              "#fb9f3a"
             ],
             [
              0.8888888888888888,
              "#fdca26"
             ],
             [
              1,
              "#f0f921"
             ]
            ],
            "type": "contour"
           }
          ],
          "contourcarpet": [
           {
            "colorbar": {
             "outlinewidth": 0,
             "ticks": ""
            },
            "type": "contourcarpet"
           }
          ],
          "heatmap": [
           {
            "colorbar": {
             "outlinewidth": 0,
             "ticks": ""
            },
            "colorscale": [
             [
              0,
              "#0d0887"
             ],
             [
              0.1111111111111111,
              "#46039f"
             ],
             [
              0.2222222222222222,
              "#7201a8"
             ],
             [
              0.3333333333333333,
              "#9c179e"
             ],
             [
              0.4444444444444444,
              "#bd3786"
             ],
             [
              0.5555555555555556,
              "#d8576b"
             ],
             [
              0.6666666666666666,
              "#ed7953"
             ],
             [
              0.7777777777777778,
              "#fb9f3a"
             ],
             [
              0.8888888888888888,
              "#fdca26"
             ],
             [
              1,
              "#f0f921"
             ]
            ],
            "type": "heatmap"
           }
          ],
          "heatmapgl": [
           {
            "colorbar": {
             "outlinewidth": 0,
             "ticks": ""
            },
            "colorscale": [
             [
              0,
              "#0d0887"
             ],
             [
              0.1111111111111111,
              "#46039f"
             ],
             [
              0.2222222222222222,
              "#7201a8"
             ],
             [
              0.3333333333333333,
              "#9c179e"
             ],
             [
              0.4444444444444444,
              "#bd3786"
             ],
             [
              0.5555555555555556,
              "#d8576b"
             ],
             [
              0.6666666666666666,
              "#ed7953"
             ],
             [
              0.7777777777777778,
              "#fb9f3a"
             ],
             [
              0.8888888888888888,
              "#fdca26"
             ],
             [
              1,
              "#f0f921"
             ]
            ],
            "type": "heatmapgl"
           }
          ],
          "histogram": [
           {
            "marker": {
             "pattern": {
              "fillmode": "overlay",
              "size": 10,
              "solidity": 0.2
             }
            },
            "type": "histogram"
           }
          ],
          "histogram2d": [
           {
            "colorbar": {
             "outlinewidth": 0,
             "ticks": ""
            },
            "colorscale": [
             [
              0,
              "#0d0887"
             ],
             [
              0.1111111111111111,
              "#46039f"
             ],
             [
              0.2222222222222222,
              "#7201a8"
             ],
             [
              0.3333333333333333,
              "#9c179e"
             ],
             [
              0.4444444444444444,
              "#bd3786"
             ],
             [
              0.5555555555555556,
              "#d8576b"
             ],
             [
              0.6666666666666666,
              "#ed7953"
             ],
             [
              0.7777777777777778,
              "#fb9f3a"
             ],
             [
              0.8888888888888888,
              "#fdca26"
             ],
             [
              1,
              "#f0f921"
             ]
            ],
            "type": "histogram2d"
           }
          ],
          "histogram2dcontour": [
           {
            "colorbar": {
             "outlinewidth": 0,
             "ticks": ""
            },
            "colorscale": [
             [
              0,
              "#0d0887"
             ],
             [
              0.1111111111111111,
              "#46039f"
             ],
             [
              0.2222222222222222,
              "#7201a8"
             ],
             [
              0.3333333333333333,
              "#9c179e"
             ],
             [
              0.4444444444444444,
              "#bd3786"
             ],
             [
              0.5555555555555556,
              "#d8576b"
             ],
             [
              0.6666666666666666,
              "#ed7953"
             ],
             [
              0.7777777777777778,
              "#fb9f3a"
             ],
             [
              0.8888888888888888,
              "#fdca26"
             ],
             [
              1,
              "#f0f921"
             ]
            ],
            "type": "histogram2dcontour"
           }
          ],
          "mesh3d": [
           {
            "colorbar": {
             "outlinewidth": 0,
             "ticks": ""
            },
            "type": "mesh3d"
           }
          ],
          "parcoords": [
           {
            "line": {
             "colorbar": {
              "outlinewidth": 0,
              "ticks": ""
             }
            },
            "type": "parcoords"
           }
          ],
          "pie": [
           {
            "automargin": true,
            "type": "pie"
           }
          ],
          "scatter": [
           {
            "marker": {
             "colorbar": {
              "outlinewidth": 0,
              "ticks": ""
             }
            },
            "type": "scatter"
           }
          ],
          "scatter3d": [
           {
            "line": {
             "colorbar": {
              "outlinewidth": 0,
              "ticks": ""
             }
            },
            "marker": {
             "colorbar": {
              "outlinewidth": 0,
              "ticks": ""
             }
            },
            "type": "scatter3d"
           }
          ],
          "scattercarpet": [
           {
            "marker": {
             "colorbar": {
              "outlinewidth": 0,
              "ticks": ""
             }
            },
            "type": "scattercarpet"
           }
          ],
          "scattergeo": [
           {
            "marker": {
             "colorbar": {
              "outlinewidth": 0,
              "ticks": ""
             }
            },
            "type": "scattergeo"
           }
          ],
          "scattergl": [
           {
            "marker": {
             "colorbar": {
              "outlinewidth": 0,
              "ticks": ""
             }
            },
            "type": "scattergl"
           }
          ],
          "scattermapbox": [
           {
            "marker": {
             "colorbar": {
              "outlinewidth": 0,
              "ticks": ""
             }
            },
            "type": "scattermapbox"
           }
          ],
          "scatterpolar": [
           {
            "marker": {
             "colorbar": {
              "outlinewidth": 0,
              "ticks": ""
             }
            },
            "type": "scatterpolar"
           }
          ],
          "scatterpolargl": [
           {
            "marker": {
             "colorbar": {
              "outlinewidth": 0,
              "ticks": ""
             }
            },
            "type": "scatterpolargl"
           }
          ],
          "scatterternary": [
           {
            "marker": {
             "colorbar": {
              "outlinewidth": 0,
              "ticks": ""
             }
            },
            "type": "scatterternary"
           }
          ],
          "surface": [
           {
            "colorbar": {
             "outlinewidth": 0,
             "ticks": ""
            },
            "colorscale": [
             [
              0,
              "#0d0887"
             ],
             [
              0.1111111111111111,
              "#46039f"
             ],
             [
              0.2222222222222222,
              "#7201a8"
             ],
             [
              0.3333333333333333,
              "#9c179e"
             ],
             [
              0.4444444444444444,
              "#bd3786"
             ],
             [
              0.5555555555555556,
              "#d8576b"
             ],
             [
              0.6666666666666666,
              "#ed7953"
             ],
             [
              0.7777777777777778,
              "#fb9f3a"
             ],
             [
              0.8888888888888888,
              "#fdca26"
             ],
             [
              1,
              "#f0f921"
             ]
            ],
            "type": "surface"
           }
          ],
          "table": [
           {
            "cells": {
             "fill": {
              "color": "#EBF0F8"
             },
             "line": {
              "color": "white"
             }
            },
            "header": {
             "fill": {
              "color": "#C8D4E3"
             },
             "line": {
              "color": "white"
             }
            },
            "type": "table"
           }
          ]
         },
         "layout": {
          "annotationdefaults": {
           "arrowcolor": "#2a3f5f",
           "arrowhead": 0,
           "arrowwidth": 1
          },
          "autotypenumbers": "strict",
          "coloraxis": {
           "colorbar": {
            "outlinewidth": 0,
            "ticks": ""
           }
          },
          "colorscale": {
           "diverging": [
            [
             0,
             "#8e0152"
            ],
            [
             0.1,
             "#c51b7d"
            ],
            [
             0.2,
             "#de77ae"
            ],
            [
             0.3,
             "#f1b6da"
            ],
            [
             0.4,
             "#fde0ef"
            ],
            [
             0.5,
             "#f7f7f7"
            ],
            [
             0.6,
             "#e6f5d0"
            ],
            [
             0.7,
             "#b8e186"
            ],
            [
             0.8,
             "#7fbc41"
            ],
            [
             0.9,
             "#4d9221"
            ],
            [
             1,
             "#276419"
            ]
           ],
           "sequential": [
            [
             0,
             "#0d0887"
            ],
            [
             0.1111111111111111,
             "#46039f"
            ],
            [
             0.2222222222222222,
             "#7201a8"
            ],
            [
             0.3333333333333333,
             "#9c179e"
            ],
            [
             0.4444444444444444,
             "#bd3786"
            ],
            [
             0.5555555555555556,
             "#d8576b"
            ],
            [
             0.6666666666666666,
             "#ed7953"
            ],
            [
             0.7777777777777778,
             "#fb9f3a"
            ],
            [
             0.8888888888888888,
             "#fdca26"
            ],
            [
             1,
             "#f0f921"
            ]
           ],
           "sequentialminus": [
            [
             0,
             "#0d0887"
            ],
            [
             0.1111111111111111,
             "#46039f"
            ],
            [
             0.2222222222222222,
             "#7201a8"
            ],
            [
             0.3333333333333333,
             "#9c179e"
            ],
            [
             0.4444444444444444,
             "#bd3786"
            ],
            [
             0.5555555555555556,
             "#d8576b"
            ],
            [
             0.6666666666666666,
             "#ed7953"
            ],
            [
             0.7777777777777778,
             "#fb9f3a"
            ],
            [
             0.8888888888888888,
             "#fdca26"
            ],
            [
             1,
             "#f0f921"
            ]
           ]
          },
          "colorway": [
           "#636efa",
           "#EF553B",
           "#00cc96",
           "#ab63fa",
           "#FFA15A",
           "#19d3f3",
           "#FF6692",
           "#B6E880",
           "#FF97FF",
           "#FECB52"
          ],
          "font": {
           "color": "#2a3f5f"
          },
          "geo": {
           "bgcolor": "white",
           "lakecolor": "white",
           "landcolor": "#E5ECF6",
           "showlakes": true,
           "showland": true,
           "subunitcolor": "white"
          },
          "hoverlabel": {
           "align": "left"
          },
          "hovermode": "closest",
          "mapbox": {
           "style": "light"
          },
          "paper_bgcolor": "white",
          "plot_bgcolor": "#E5ECF6",
          "polar": {
           "angularaxis": {
            "gridcolor": "white",
            "linecolor": "white",
            "ticks": ""
           },
           "bgcolor": "#E5ECF6",
           "radialaxis": {
            "gridcolor": "white",
            "linecolor": "white",
            "ticks": ""
           }
          },
          "scene": {
           "xaxis": {
            "backgroundcolor": "#E5ECF6",
            "gridcolor": "white",
            "gridwidth": 2,
            "linecolor": "white",
            "showbackground": true,
            "ticks": "",
            "zerolinecolor": "white"
           },
           "yaxis": {
            "backgroundcolor": "#E5ECF6",
            "gridcolor": "white",
            "gridwidth": 2,
            "linecolor": "white",
            "showbackground": true,
            "ticks": "",
            "zerolinecolor": "white"
           },
           "zaxis": {
            "backgroundcolor": "#E5ECF6",
            "gridcolor": "white",
            "gridwidth": 2,
            "linecolor": "white",
            "showbackground": true,
            "ticks": "",
            "zerolinecolor": "white"
           }
          },
          "shapedefaults": {
           "line": {
            "color": "#2a3f5f"
           }
          },
          "ternary": {
           "aaxis": {
            "gridcolor": "white",
            "linecolor": "white",
            "ticks": ""
           },
           "baxis": {
            "gridcolor": "white",
            "linecolor": "white",
            "ticks": ""
           },
           "bgcolor": "#E5ECF6",
           "caxis": {
            "gridcolor": "white",
            "linecolor": "white",
            "ticks": ""
           }
          },
          "title": {
           "x": 0.05
          },
          "xaxis": {
           "automargin": true,
           "gridcolor": "white",
           "linecolor": "white",
           "ticks": "",
           "title": {
            "standoff": 15
           },
           "zerolinecolor": "white",
           "zerolinewidth": 2
          },
          "yaxis": {
           "automargin": true,
           "gridcolor": "white",
           "linecolor": "white",
           "ticks": "",
           "title": {
            "standoff": 15
           },
           "zerolinecolor": "white",
           "zerolinewidth": 2
          }
         }
        },
        "legend": {
         "tracegroupgap": 0
        },
        "margin": {
         "t": 60
        },
        "dragmode": "select",
        "height": 1000
       },
       "config": {
        "plotlyServerURL": "https://plot.ly"
       }
      }
     },
     "metadata": {}
    }
   ],
   "metadata": {}
  },
  {
   "cell_type": "code",
   "execution_count": 23,
   "source": [
    "def grid_helper(grid_size, num_params, grid_bounds):\n",
    "    grid = torch.zeros(grid_size, num_params)\n",
    "    f_grid_diff = lambda i, x, y : float((x[i][1] - x[i][0]) / (y-2))\n",
    "    for i in range(num_params):\n",
    "        grid_diff = f_grid_diff(i, grid_bounds, grid_size)\n",
    "        grid[:, i] = torch.linspace(grid_bounds[i][0] - grid_diff, \n",
    "                                    grid_bounds[i][1] + grid_diff, grid_size)\n",
    "    return grid"
   ],
   "outputs": [],
   "metadata": {}
  },
  {
   "cell_type": "code",
   "execution_count": 24,
   "source": [
    "# Prep training data\n",
    "from sklearn.preprocessing import StandardScaler\n",
    "T_scaler = StandardScaler()\n",
    "\n",
    "# Filter training data \n",
    "mask = ~np.isnan(fe_data['Pr (uC/cm2), Pristine state'])\n",
    "train_x = torch.Tensor(np.array([fe_data['Flash voltage (kV)'][mask].values, \n",
    "                       fe_data['Flash time (msec)'][mask].values, \n",
    "                       fe_data['Duty Cycle'][mask].values,\n",
    "                       fe_data['Num Pulses'][mask].values])).T\n",
    "train_y = torch.Tensor(fe_data['Pr (uC/cm2), Pristine state'][mask].values)\n",
    "\n",
    "# Define grid between bounds of RTA time, RTA temp\n",
    "num_params = train_x.size(dim=1)\n",
    "grid_bounds = [(train_x[:,i].min(), train_x[:,i].max()) for i in range(num_params)]\n",
    "grid = grid_helper(20, num_params, grid_bounds)\n",
    "\n",
    "# Set up test_grid for predictions\n",
    "n = 30\n",
    "test_grid = grid_helper(n, num_params, grid_bounds)\n",
    "\n",
    "# Create 4D grid\n",
    "args = (test_grid[:, i] for i in range(num_params))\n",
    "test_x = torch.cartesian_prod(*args)\n",
    "test_x.shape"
   ],
   "outputs": [
    {
     "output_type": "execute_result",
     "data": {
      "text/plain": [
       "torch.Size([810000, 4])"
      ]
     },
     "metadata": {},
     "execution_count": 24
    }
   ],
   "metadata": {}
  },
  {
   "cell_type": "code",
   "execution_count": 25,
   "source": [
    "def intermediate_plot(f, ax, obs, title):\n",
    "    im = ax.imshow(obs.mean.view(n, n), aspect='equal',\n",
    "                extent=[grid_bounds[0][0].item(), grid_bounds[0][1].item(),\n",
    "                            grid_bounds[1][0].item(), grid_bounds[1][1].item()])\n",
    "    f.colorbar(im)\n",
    "    # ax.scatter(train_x[:,0], train_x[:,1], c=train_y)\n",
    "    ax.set_title(title)"
   ],
   "outputs": [],
   "metadata": {}
  },
  {
   "cell_type": "markdown",
   "source": [
    "# wandb setup\n",
    "Run the INIT cell if we wish to just try one configuration; else run the notebook\n",
    "as is for sweeps."
   ],
   "metadata": {}
  },
  {
   "cell_type": "code",
   "execution_count": 26,
   "source": [
    "# ##### INIT ########\n",
    "# config_defaults = {\n",
    "#     \"epochs\": 5000,\n",
    "#     \"kernel\": \"rbf\",\n",
    "#     \"lr\": 0.1,\n",
    "#     \"lscale_1\": 10,\n",
    "#     \"lscale_2\": 10,\n",
    "#     \"lscale_3\": 10,\n",
    "#     \"lscale_4\": 100,\n",
    "#     \"noise\": torch.ones(len(train_x)) * 5.0\n",
    "# }\n",
    "# wandb.init(project=\"fegp runs\",config=config_defaults)\n",
    "# config = wandb.config"
   ],
   "outputs": [],
   "metadata": {}
  },
  {
   "cell_type": "code",
   "execution_count": 27,
   "source": [
    "###### SWEEPS ########\n",
    "config = {\n",
    "  \"name\" : \"ferro_GP\",\n",
    "  \"method\" : \"bayes\",\n",
    "  \"metric\": {\n",
    "    \"goal\": \"minimize\",\n",
    "    \"name\" : \"train loss\"\n",
    "  },\n",
    "  \"parameters\" : {\n",
    "    \"epochs\" : {\n",
    "        \"values\" : [5000,6000,7000,8000,9000,10000]\n",
    "    },\n",
    "    \"lr\" : {\n",
    "        \"values\": [1e1, 1e0, 1e-1, 1e-2]\n",
    "    },\n",
    "    \"kernel\": {\n",
    "        \"values\": [\"rbf\"]\n",
    "    },\n",
    "    \"lscale_1\": {\n",
    "        \"values\": [0.1,0.5,1.0,5.0,10.0]\n",
    "    },\n",
    "    \"lscale_2\": {\n",
    "        \"values\": [0.1,0.5,1.0,5.0,10.0]\n",
    "    },\n",
    "    \"lscale_3\": {\n",
    "        \"values\": [0.1,0.5,1.0,5.0,10.0]\n",
    "    },\n",
    "    \"lscale_4\": {\n",
    "        \"values\": [0.1,0.5,1.0,5.0,10.0]\n",
    "    },\n",
    "    \"noise\": {\n",
    "        \"values\": [3.0, 5.0]\n",
    "    }\n",
    "  }\n",
    "}\n",
    "\n",
    "sweep_id = wandb.sweep(config)"
   ],
   "outputs": [
    {
     "output_type": "stream",
     "name": "stdout",
     "text": [
      "Create sweep with ID: swoc5kag\n",
      "Sweep URL: https://wandb.ai/valenetjong/uncategorized/sweeps/swoc5kag\n"
     ]
    }
   ],
   "metadata": {}
  },
  {
   "cell_type": "markdown",
   "source": [
    "# Build GP Classes/Models\n",
    "A bit of pytorch-esque construction here, but the important parts to take note of are the kernel / mean modules and `noises` array.  "
   ],
   "metadata": {
    "tags": []
   }
  },
  {
   "cell_type": "code",
   "execution_count": 28,
   "source": [
    "# Switch kernel\n",
    "def kernel_func(config_kernel):\n",
    "    if config_kernel == \"rbf\":\n",
    "        return gpytorch.kernels.ScaleKernel(\n",
    "            gpytorch.kernels.RBFKernel(ard_num_dims=num_params))"
   ],
   "outputs": [],
   "metadata": {}
  },
  {
   "cell_type": "code",
   "execution_count": 29,
   "source": [
    "# GP model class\n",
    "class GridGP(gpytorch.models.ExactGP, GPyTorchModel):\n",
    "    _num_outputs = 1\n",
    "    def __init__(self, train_x, train_y, likelihood, kernel):\n",
    "        super(GridGP, self).__init__(train_x, train_y, likelihood)  \n",
    "        self.mean_module = gpytorch.means.ConstantMean()\n",
    "        self.covar_module = kernel\n",
    "    \n",
    "    def forward(self, x):\n",
    "        mean_x = self.mean_module(x)\n",
    "        covar_x = self.covar_module(x)\n",
    "        return gpytorch.distributions.MultivariateNormal(mean_x, covar_x)"
   ],
   "outputs": [],
   "metadata": {}
  },
  {
   "cell_type": "code",
   "execution_count": 30,
   "source": [
    "# # Init GP model\n",
    "# config = wandb.config\n",
    "# kernel = kernel_func(config.kernel) \n",
    "# noises = config.noise * torch.ones(len(train_x))\n",
    "# likelihood = gpytorch.likelihoods.FixedNoiseGaussianLikelihood(noise=noises)\n",
    "# model = GridGP(train_x, train_y, likelihood, kernel)"
   ],
   "outputs": [],
   "metadata": {}
  },
  {
   "cell_type": "code",
   "execution_count": 31,
   "source": [
    "# Init GP model\n",
    "def make_model(train_x, train_y, config):\n",
    "    # 0-observation noise case\n",
    "    # likelihood = gpytorch.likelihoods.GaussianLikelihood()\n",
    "\n",
    "    # Case for fixed observation noise.  This is set to 5 based on the magnitude of\n",
    "    # the data, but can be played with.\n",
    "    kernel = kernel_func(config.kernel)\n",
    "    noises = config.noise * torch.ones(len(train_x))\n",
    "    likelihood = gpytorch.likelihoods.FixedNoiseGaussianLikelihood(noise=noises)\n",
    "    model = GridGP(train_x, train_y, likelihood, kernel)\n",
    "    lscale = [config.lscale_1, config.lscale_2, config.lscale_3, config.lscale_4]\n",
    "    model.covar_module.base_kernel.lengthscale = torch.tensor(lscale)\n",
    "    return likelihood, model"
   ],
   "outputs": [],
   "metadata": {}
  },
  {
   "cell_type": "code",
   "execution_count": 32,
   "source": [
    "# # Train and evaluate the model.  (short form)\n",
    "# from botorch.optim.fit import fit_gpytorch_torch\n",
    "\n",
    "# # initialize the log-likelihood, and supply it to the GP.  This will be used to \n",
    "# # make predictions.  \n",
    "# mll = gpytorch.mlls.ExactMarginalLogLikelihood(likelihood, model)\n",
    "# mll.train()\n",
    "# # convenience function for fitting gpytorch models\n",
    "# fit_gpytorch_torch(mll, options={'maxiter':2000, 'lr':10}) \n",
    "# mll.eval()"
   ],
   "outputs": [],
   "metadata": {}
  },
  {
   "cell_type": "code",
   "execution_count": 33,
   "source": [
    "# Training loop (long form, for inspection of results during training)\n",
    "def train():\n",
    "    wandb.init(project=\"fegp runs\")\n",
    "    config = wandb.config\n",
    "    likelihood, model = make_model(train_x, train_y, config)\n",
    "    training_iter = config.epochs\n",
    "\n",
    "    # Place both the model and likelihood in training mode\n",
    "    model.train()\n",
    "    likelihood.train()\n",
    "    optimizer = torch.optim.Adam(model.parameters(), lr=config.lr)\n",
    "    mll = gpytorch.mlls.ExactMarginalLogLikelihood(likelihood, model)\n",
    "\n",
    "    for i in range(training_iter):\n",
    "        optimizer.zero_grad()\n",
    "        output = model(train_x)\n",
    "\n",
    "        # backpropogate error\n",
    "        wandb.define_metric(\"train loss\", summary=\"min\")\n",
    "        loss = -mll(output, train_y)\n",
    "        wandb.log({\"train loss\": loss.item()})\n",
    "        loss.backward()\n",
    "\n",
    "        if i % 100 == 0: \n",
    "            print('Iter %d/%d - Loss: %.3f  lengthscale1: %s   noise: %s' % (\n",
    "                    i+1, training_iter, loss.item(), \n",
    "                    model.covar_module.base_kernel.lengthscale.detach().numpy(),\n",
    "                    model.likelihood.noise.detach().numpy()\n",
    "                    )) \n",
    "\n",
    "                    # # get a quick snapshot of intermediate \n",
    "                    # model.eval()\n",
    "                    # likelihood.eval()\n",
    "                    # with torch.no_grad(), gpytorch.settings.fast_pred_var():\n",
    "                    #     obs = likelihood(model(test_x))\n",
    "\n",
    "                    #     f, ax = plt.subplots(1, 1, figsize=(4,3))\n",
    "                    #     intermediate_plot(f, ax, obs, f'iter {i+1}/{training_iter}')\n",
    "                    # model.train()\n",
    "                    # likelihood.train()\n",
    "        optimizer.step()\n",
    "        \n",
    "        # Save trained model\n",
    "        # torch.save(model.state_dict(), 'models/my_gp_with_nn_model.pth')"
   ],
   "outputs": [],
   "metadata": {
    "tags": []
   }
  },
  {
   "cell_type": "code",
   "execution_count": 34,
   "source": [
    "%env \"WANDB_NOTEBOOK_NAME\" \"ferro_GPS\"\n",
    "wandb.agent(sweep_id, function=train)"
   ],
   "outputs": [
    {
     "output_type": "stream",
     "name": "stdout",
     "text": [
      "env: \"WANDB_NOTEBOOK_NAME\"=\"ferro_GPS\"\n"
     ]
    },
    {
     "output_type": "stream",
     "name": "stderr",
     "text": [
      "\u001b[34m\u001b[1mwandb\u001b[0m: Agent Starting Run: prdfmbpb with config:\n",
      "\u001b[34m\u001b[1mwandb\u001b[0m: \tepochs: 8000\n",
      "\u001b[34m\u001b[1mwandb\u001b[0m: \tkernel: rbf\n",
      "\u001b[34m\u001b[1mwandb\u001b[0m: \tlr: 0.1\n",
      "\u001b[34m\u001b[1mwandb\u001b[0m: \tlscale_1: 10\n",
      "\u001b[34m\u001b[1mwandb\u001b[0m: \tlscale_2: 0.1\n",
      "\u001b[34m\u001b[1mwandb\u001b[0m: \tlscale_3: 0.5\n",
      "\u001b[34m\u001b[1mwandb\u001b[0m: \tlscale_4: 1\n",
      "\u001b[34m\u001b[1mwandb\u001b[0m: \tnoise: 3\n",
      "Failed to detect the name of this notebook, you can set it manually with the WANDB_NOTEBOOK_NAME environment variable to enable code saving.\n",
      "\u001b[34m\u001b[1mwandb\u001b[0m: \u001b[33mWARNING\u001b[0m Ignored wandb.init() arg project when running a sweep.\n"
     ]
    },
    {
     "output_type": "display_data",
     "data": {
      "text/html": [
       "Tracking run with wandb version 0.12.21"
      ],
      "text/plain": [
       "<IPython.core.display.HTML object>"
      ]
     },
     "metadata": {}
    },
    {
     "output_type": "display_data",
     "data": {
      "text/html": [
       "Run data is saved locally in <code>/Users/valenetjong/Bayesian-Optimization-Ferroelectrics/notebooks/wandb/run-20220709_233522-prdfmbpb</code>"
      ],
      "text/plain": [
       "<IPython.core.display.HTML object>"
      ]
     },
     "metadata": {}
    },
    {
     "output_type": "display_data",
     "data": {
      "text/html": [
       "Syncing run <strong><a href=\"https://wandb.ai/valenetjong/uncategorized/runs/prdfmbpb\" target=\"_blank\">atomic-sweep-1</a></strong> to <a href=\"https://wandb.ai/valenetjong/uncategorized\" target=\"_blank\">Weights & Biases</a> (<a href=\"https://wandb.me/run\" target=\"_blank\">docs</a>)<br/>Sweep page:  <a href=\"https://wandb.ai/valenetjong/uncategorized/sweeps/swoc5kag\" target=\"_blank\">https://wandb.ai/valenetjong/uncategorized/sweeps/swoc5kag</a>"
      ],
      "text/plain": [
       "<IPython.core.display.HTML object>"
      ]
     },
     "metadata": {}
    },
    {
     "output_type": "stream",
     "name": "stdout",
     "text": [
      "Iter 1/8000 - Loss: 23.659  lengthscale1: [[10.   0.1  0.5  1. ]]   noise: [3. 3. 3. 3. 3. 3. 3. 3. 3. 3. 3. 3. 3. 3. 3. 3. 3. 3. 3. 3. 3.]\n",
      "Iter 101/8000 - Loss: 5.133  lengthscale1: [[0.39051932 2.7004526  2.1693068  3.705029  ]]   noise: [3. 3. 3. 3. 3. 3. 3. 3. 3. 3. 3. 3. 3. 3. 3. 3. 3. 3. 3. 3. 3.]\n",
      "Iter 201/8000 - Loss: 4.222  lengthscale1: [[ 0.39648885  2.500643    1.7165682  12.714659  ]]   noise: [3. 3. 3. 3. 3. 3. 3. 3. 3. 3. 3. 3. 3. 3. 3. 3. 3. 3. 3. 3. 3.]\n",
      "Iter 301/8000 - Loss: 3.667  lengthscale1: [[ 0.32240134  2.3760781   0.07306687 14.5714    ]]   noise: [3. 3. 3. 3. 3. 3. 3. 3. 3. 3. 3. 3. 3. 3. 3. 3. 3. 3. 3. 3. 3.]\n",
      "Iter 401/8000 - Loss: 3.374  lengthscale1: [[ 0.26540822  2.9838977   0.06560574 16.633297  ]]   noise: [3. 3. 3. 3. 3. 3. 3. 3. 3. 3. 3. 3. 3. 3. 3. 3. 3. 3. 3. 3. 3.]\n",
      "Iter 501/8000 - Loss: 3.275  lengthscale1: [[ 0.24270286  2.8804586   0.06553904 17.754234  ]]   noise: [3. 3. 3. 3. 3. 3. 3. 3. 3. 3. 3. 3. 3. 3. 3. 3. 3. 3. 3. 3. 3.]\n",
      "Iter 601/8000 - Loss: 3.223  lengthscale1: [[ 0.2306303   2.7005768   0.06737119 18.740482  ]]   noise: [3. 3. 3. 3. 3. 3. 3. 3. 3. 3. 3. 3. 3. 3. 3. 3. 3. 3. 3. 3. 3.]\n",
      "Iter 701/8000 - Loss: 3.185  lengthscale1: [[ 0.22397257  2.554583    0.06932545 19.776571  ]]   noise: [3. 3. 3. 3. 3. 3. 3. 3. 3. 3. 3. 3. 3. 3. 3. 3. 3. 3. 3. 3. 3.]\n",
      "Iter 801/8000 - Loss: 3.155  lengthscale1: [[ 0.22019455  2.451618    0.07099672 20.880663  ]]   noise: [3. 3. 3. 3. 3. 3. 3. 3. 3. 3. 3. 3. 3. 3. 3. 3. 3. 3. 3. 3. 3.]\n",
      "Iter 901/8000 - Loss: 3.130  lengthscale1: [[ 0.21788408  2.3771667   0.0724152  22.03521   ]]   noise: [3. 3. 3. 3. 3. 3. 3. 3. 3. 3. 3. 3. 3. 3. 3. 3. 3. 3. 3. 3. 3.]\n",
      "Iter 1001/8000 - Loss: 3.107  lengthscale1: [[ 0.21631478  2.3193438   0.07367775 23.222202  ]]   noise: [3. 3. 3. 3. 3. 3. 3. 3. 3. 3. 3. 3. 3. 3. 3. 3. 3. 3. 3. 3. 3.]\n",
      "Iter 1101/8000 - Loss: 3.088  lengthscale1: [[ 0.2151425   2.2718103   0.07484729 24.428513  ]]   noise: [3. 3. 3. 3. 3. 3. 3. 3. 3. 3. 3. 3. 3. 3. 3. 3. 3. 3. 3. 3. 3.]\n",
      "Iter 1201/8000 - Loss: 3.071  lengthscale1: [[ 0.21421401  2.2315598   0.07595211 25.644882  ]]   noise: [3. 3. 3. 3. 3. 3. 3. 3. 3. 3. 3. 3. 3. 3. 3. 3. 3. 3. 3. 3. 3.]\n",
      "Iter 1301/8000 - Loss: 3.056  lengthscale1: [[ 0.21346083  2.1971447   0.07700083 26.864674  ]]   noise: [3. 3. 3. 3. 3. 3. 3. 3. 3. 3. 3. 3. 3. 3. 3. 3. 3. 3. 3. 3. 3.]\n",
      "Iter 1401/8000 - Loss: 3.043  lengthscale1: [[ 0.21285047  2.1677737   0.07799401 28.0831    ]]   noise: [3. 3. 3. 3. 3. 3. 3. 3. 3. 3. 3. 3. 3. 3. 3. 3. 3. 3. 3. 3. 3.]\n",
      "Iter 1501/8000 - Loss: 3.031  lengthscale1: [[ 0.21236518  2.1429007   0.07892966 29.296745  ]]   noise: [3. 3. 3. 3. 3. 3. 3. 3. 3. 3. 3. 3. 3. 3. 3. 3. 3. 3. 3. 3. 3.]\n",
      "Iter 1601/8000 - Loss: 3.021  lengthscale1: [[ 0.21199128  2.1220546   0.07980698 30.503311  ]]   noise: [3. 3. 3. 3. 3. 3. 3. 3. 3. 3. 3. 3. 3. 3. 3. 3. 3. 3. 3. 3. 3.]\n",
      "Iter 1701/8000 - Loss: 3.011  lengthscale1: [[ 0.21171731  2.1047897   0.08062626 31.701376  ]]   noise: [3. 3. 3. 3. 3. 3. 3. 3. 3. 3. 3. 3. 3. 3. 3. 3. 3. 3. 3. 3. 3.]\n",
      "Iter 1801/8000 - Loss: 3.003  lengthscale1: [[ 0.21153234  2.0906746   0.08138955 32.89022   ]]   noise: [3. 3. 3. 3. 3. 3. 3. 3. 3. 3. 3. 3. 3. 3. 3. 3. 3. 3. 3. 3. 3.]\n",
      "Iter 1901/8000 - Loss: 2.995  lengthscale1: [[ 0.21142454  2.0792978   0.08210068 34.069668  ]]   noise: [3. 3. 3. 3. 3. 3. 3. 3. 3. 3. 3. 3. 3. 3. 3. 3. 3. 3. 3. 3. 3.]\n",
      "Iter 2001/8000 - Loss: 2.988  lengthscale1: [[ 0.21138555  2.0702837   0.08276324 35.23992   ]]   noise: [3. 3. 3. 3. 3. 3. 3. 3. 3. 3. 3. 3. 3. 3. 3. 3. 3. 3. 3. 3. 3.]\n",
      "Iter 2101/8000 - Loss: 2.982  lengthscale1: [[ 0.21140502  2.063295    0.08338199 36.401478  ]]   noise: [3. 3. 3. 3. 3. 3. 3. 3. 3. 3. 3. 3. 3. 3. 3. 3. 3. 3. 3. 3. 3.]\n",
      "Iter 2201/8000 - Loss: 2.976  lengthscale1: [[ 0.21147418  2.0580351   0.08396105 37.55498   ]]   noise: [3. 3. 3. 3. 3. 3. 3. 3. 3. 3. 3. 3. 3. 3. 3. 3. 3. 3. 3. 3. 3.]\n",
      "Iter 2301/8000 - Loss: 2.971  lengthscale1: [[ 0.2115867   2.0542493   0.08450462 38.701244  ]]   noise: [3. 3. 3. 3. 3. 3. 3. 3. 3. 3. 3. 3. 3. 3. 3. 3. 3. 3. 3. 3. 3.]\n",
      "Iter 2401/8000 - Loss: 2.966  lengthscale1: [[ 0.21173629  2.0517206   0.08501654 39.841118  ]]   noise: [3. 3. 3. 3. 3. 3. 3. 3. 3. 3. 3. 3. 3. 3. 3. 3. 3. 3. 3. 3. 3.]\n",
      "Iter 2501/8000 - Loss: 2.961  lengthscale1: [[ 0.21191685  2.0502644   0.08550023 40.975464  ]]   noise: [3. 3. 3. 3. 3. 3. 3. 3. 3. 3. 3. 3. 3. 3. 3. 3. 3. 3. 3. 3. 3.]\n",
      "Iter 2601/8000 - Loss: 2.957  lengthscale1: [[ 0.21212451  2.0497243   0.08595847 42.105186  ]]   noise: [3. 3. 3. 3. 3. 3. 3. 3. 3. 3. 3. 3. 3. 3. 3. 3. 3. 3. 3. 3. 3.]\n",
      "Iter 2701/8000 - Loss: 2.953  lengthscale1: [[ 0.21235463  2.0499678   0.08639412 43.23118   ]]   noise: [3. 3. 3. 3. 3. 3. 3. 3. 3. 3. 3. 3. 3. 3. 3. 3. 3. 3. 3. 3. 3.]\n",
      "Iter 2801/8000 - Loss: 2.950  lengthscale1: [[ 0.21260446  2.0508845   0.08680916 44.354267  ]]   noise: [3. 3. 3. 3. 3. 3. 3. 3. 3. 3. 3. 3. 3. 3. 3. 3. 3. 3. 3. 3. 3.]\n",
      "Iter 2901/8000 - Loss: 2.947  lengthscale1: [[ 0.2128721   2.0523784   0.08720569 45.475296  ]]   noise: [3. 3. 3. 3. 3. 3. 3. 3. 3. 3. 3. 3. 3. 3. 3. 3. 3. 3. 3. 3. 3.]\n",
      "Iter 3001/8000 - Loss: 2.944  lengthscale1: [[ 0.21315338  2.0543697   0.08758554 46.59505   ]]   noise: [3. 3. 3. 3. 3. 3. 3. 3. 3. 3. 3. 3. 3. 3. 3. 3. 3. 3. 3. 3. 3.]\n",
      "Iter 3101/8000 - Loss: 2.941  lengthscale1: [[ 0.2134463   2.0567904   0.08795031 47.714283  ]]   noise: [3. 3. 3. 3. 3. 3. 3. 3. 3. 3. 3. 3. 3. 3. 3. 3. 3. 3. 3. 3. 3.]\n",
      "Iter 3201/8000 - Loss: 2.938  lengthscale1: [[ 0.21374902  2.0595822   0.08830123 48.8337    ]]   noise: [3. 3. 3. 3. 3. 3. 3. 3. 3. 3. 3. 3. 3. 3. 3. 3. 3. 3. 3. 3. 3.]\n",
      "Iter 3301/8000 - Loss: 2.936  lengthscale1: [[ 0.21406125  2.0626943   0.08863933 49.95403   ]]   noise: [3. 3. 3. 3. 3. 3. 3. 3. 3. 3. 3. 3. 3. 3. 3. 3. 3. 3. 3. 3. 3.]\n",
      "Iter 3401/8000 - Loss: 2.934  lengthscale1: [[ 0.21438031  2.0660827   0.0889654  51.075897  ]]   noise: [3. 3. 3. 3. 3. 3. 3. 3. 3. 3. 3. 3. 3. 3. 3. 3. 3. 3. 3. 3. 3.]\n",
      "Iter 3501/8000 - Loss: 2.932  lengthscale1: [[ 0.21470538  2.0697117   0.0892807  52.199944  ]]   noise: [3. 3. 3. 3. 3. 3. 3. 3. 3. 3. 3. 3. 3. 3. 3. 3. 3. 3. 3. 3. 3.]\n",
      "Iter 3601/8000 - Loss: 2.930  lengthscale1: [[ 0.2150347   2.073545    0.08958542 53.32674   ]]   noise: [3. 3. 3. 3. 3. 3. 3. 3. 3. 3. 3. 3. 3. 3. 3. 3. 3. 3. 3. 3. 3.]\n",
      "Iter 3701/8000 - Loss: 2.928  lengthscale1: [[ 0.21536817  2.0775566   0.0898807  54.456852  ]]   noise: [3. 3. 3. 3. 3. 3. 3. 3. 3. 3. 3. 3. 3. 3. 3. 3. 3. 3. 3. 3. 3.]\n",
      "Iter 3801/8000 - Loss: 2.927  lengthscale1: [[ 0.21570437  2.0817177   0.09016712 55.590816  ]]   noise: [3. 3. 3. 3. 3. 3. 3. 3. 3. 3. 3. 3. 3. 3. 3. 3. 3. 3. 3. 3. 3.]\n",
      "Iter 3901/8000 - Loss: 2.925  lengthscale1: [[ 0.21604282  2.086012    0.09044473 56.729145  ]]   noise: [3. 3. 3. 3. 3. 3. 3. 3. 3. 3. 3. 3. 3. 3. 3. 3. 3. 3. 3. 3. 3.]\n",
      "Iter 4001/8000 - Loss: 2.924  lengthscale1: [[ 0.2163823   2.0904126   0.09071404 57.87232   ]]   noise: [3. 3. 3. 3. 3. 3. 3. 3. 3. 3. 3. 3. 3. 3. 3. 3. 3. 3. 3. 3. 3.]\n",
      "Iter 4101/8000 - Loss: 2.922  lengthscale1: [[ 0.21672146  2.0949028   0.09097617 59.0208    ]]   noise: [3. 3. 3. 3. 3. 3. 3. 3. 3. 3. 3. 3. 3. 3. 3. 3. 3. 3. 3. 3. 3.]\n",
      "Iter 4201/8000 - Loss: 2.921  lengthscale1: [[ 0.21706146  2.099468    0.09122992 60.175022  ]]   noise: [3. 3. 3. 3. 3. 3. 3. 3. 3. 3. 3. 3. 3. 3. 3. 3. 3. 3. 3. 3. 3.]\n",
      "Iter 4301/8000 - Loss: 2.920  lengthscale1: [[ 0.21739973  2.104092    0.09147704 61.3354    ]]   noise: [3. 3. 3. 3. 3. 3. 3. 3. 3. 3. 3. 3. 3. 3. 3. 3. 3. 3. 3. 3. 3.]\n",
      "Iter 4401/8000 - Loss: 2.919  lengthscale1: [[ 0.2177369   2.108762    0.09171709 62.50234   ]]   noise: [3. 3. 3. 3. 3. 3. 3. 3. 3. 3. 3. 3. 3. 3. 3. 3. 3. 3. 3. 3. 3.]\n",
      "Iter 4501/8000 - Loss: 2.918  lengthscale1: [[ 0.2180725  2.1134665  0.0919496 63.67622  ]]   noise: [3. 3. 3. 3. 3. 3. 3. 3. 3. 3. 3. 3. 3. 3. 3. 3. 3. 3. 3. 3. 3.]\n",
      "Iter 4601/8000 - Loss: 2.917  lengthscale1: [[ 0.21840581  2.1181908   0.09217608 64.85741   ]]   noise: [3. 3. 3. 3. 3. 3. 3. 3. 3. 3. 3. 3. 3. 3. 3. 3. 3. 3. 3. 3. 3.]\n",
      "Iter 4701/8000 - Loss: 2.917  lengthscale1: [[ 0.21873495  2.122924    0.09239613 66.04623   ]]   noise: [3. 3. 3. 3. 3. 3. 3. 3. 3. 3. 3. 3. 3. 3. 3. 3. 3. 3. 3. 3. 3.]\n",
      "Iter 4801/8000 - Loss: 2.916  lengthscale1: [[ 0.21906196  2.1276608   0.09260921 67.24304   ]]   noise: [3. 3. 3. 3. 3. 3. 3. 3. 3. 3. 3. 3. 3. 3. 3. 3. 3. 3. 3. 3. 3.]\n",
      "Iter 4901/8000 - Loss: 2.915  lengthscale1: [[ 0.21938416  2.1323874   0.09281611 68.448135  ]]   noise: [3. 3. 3. 3. 3. 3. 3. 3. 3. 3. 3. 3. 3. 3. 3. 3. 3. 3. 3. 3. 3.]\n",
      "Iter 5001/8000 - Loss: 2.915  lengthscale1: [[ 0.21970356  2.1370976   0.09301664 69.661835  ]]   noise: [3. 3. 3. 3. 3. 3. 3. 3. 3. 3. 3. 3. 3. 3. 3. 3. 3. 3. 3. 3. 3.]\n",
      "Iter 5101/8000 - Loss: 2.914  lengthscale1: [[ 0.22001627  2.14178     0.0932114  70.88442   ]]   noise: [3. 3. 3. 3. 3. 3. 3. 3. 3. 3. 3. 3. 3. 3. 3. 3. 3. 3. 3. 3. 3.]\n",
      "Iter 5201/8000 - Loss: 2.913  lengthscale1: [[ 0.22032453  2.1464248   0.09339938 72.116165  ]]   noise: [3. 3. 3. 3. 3. 3. 3. 3. 3. 3. 3. 3. 3. 3. 3. 3. 3. 3. 3. 3. 3.]\n",
      "Iter 5301/8000 - Loss: 2.913  lengthscale1: [[ 0.22062834  2.1510296   0.09358172 73.357285  ]]   noise: [3. 3. 3. 3. 3. 3. 3. 3. 3. 3. 3. 3. 3. 3. 3. 3. 3. 3. 3. 3. 3.]\n",
      "Iter 5401/8000 - Loss: 2.912  lengthscale1: [[ 0.22092438  2.1555839   0.09375713 74.60809   ]]   noise: [3. 3. 3. 3. 3. 3. 3. 3. 3. 3. 3. 3. 3. 3. 3. 3. 3. 3. 3. 3. 3.]\n",
      "Iter 5501/8000 - Loss: 2.912  lengthscale1: [[ 0.2212147   2.1600802   0.09392753 75.86879   ]]   noise: [3. 3. 3. 3. 3. 3. 3. 3. 3. 3. 3. 3. 3. 3. 3. 3. 3. 3. 3. 3. 3.]\n",
      "Iter 5601/8000 - Loss: 2.912  lengthscale1: [[ 0.22150016  2.164511    0.0940909  77.139595  ]]   noise: [3. 3. 3. 3. 3. 3. 3. 3. 3. 3. 3. 3. 3. 3. 3. 3. 3. 3. 3. 3. 3.]\n",
      "Iter 5701/8000 - Loss: 2.911  lengthscale1: [[ 0.2217766   2.1688733   0.09424827 78.42074   ]]   noise: [3. 3. 3. 3. 3. 3. 3. 3. 3. 3. 3. 3. 3. 3. 3. 3. 3. 3. 3. 3. 3.]\n",
      "Iter 5801/8000 - Loss: 2.911  lengthscale1: [[ 0.22204493  2.1731567   0.09439975 79.71241   ]]   noise: [3. 3. 3. 3. 3. 3. 3. 3. 3. 3. 3. 3. 3. 3. 3. 3. 3. 3. 3. 3. 3.]\n",
      "Iter 5901/8000 - Loss: 2.911  lengthscale1: [[ 0.22230674  2.1773589   0.09454487 81.0148    ]]   noise: [3. 3. 3. 3. 3. 3. 3. 3. 3. 3. 3. 3. 3. 3. 3. 3. 3. 3. 3. 3. 3.]\n",
      "Iter 6001/8000 - Loss: 2.910  lengthscale1: [[ 0.22256096  2.18147     0.09468353 82.328094  ]]   noise: [3. 3. 3. 3. 3. 3. 3. 3. 3. 3. 3. 3. 3. 3. 3. 3. 3. 3. 3. 3. 3.]\n",
      "Iter 6101/8000 - Loss: 2.910  lengthscale1: [[ 0.22280563  2.185487    0.09481718 83.652466  ]]   noise: [3. 3. 3. 3. 3. 3. 3. 3. 3. 3. 3. 3. 3. 3. 3. 3. 3. 3. 3. 3. 3.]\n",
      "Iter 6201/8000 - Loss: 2.910  lengthscale1: [[ 0.22304215  2.1894047   0.09494395 84.98806   ]]   noise: [3. 3. 3. 3. 3. 3. 3. 3. 3. 3. 3. 3. 3. 3. 3. 3. 3. 3. 3. 3. 3.]\n",
      "Iter 6301/8000 - Loss: 2.910  lengthscale1: [[ 0.2232692   2.1932147   0.09506553 86.33504   ]]   noise: [3. 3. 3. 3. 3. 3. 3. 3. 3. 3. 3. 3. 3. 3. 3. 3. 3. 3. 3. 3. 3.]\n",
      "Iter 6401/8000 - Loss: 2.910  lengthscale1: [[ 0.22348864  2.1969144   0.09517974 87.69355   ]]   noise: [3. 3. 3. 3. 3. 3. 3. 3. 3. 3. 3. 3. 3. 3. 3. 3. 3. 3. 3. 3. 3.]\n",
      "Iter 6501/8000 - Loss: 2.909  lengthscale1: [[ 0.22369498  2.2005048   0.09528985 89.06373   ]]   noise: [3. 3. 3. 3. 3. 3. 3. 3. 3. 3. 3. 3. 3. 3. 3. 3. 3. 3. 3. 3. 3.]\n",
      "Iter 6601/8000 - Loss: 2.909  lengthscale1: [[ 0.22457975  2.2040591   0.09655282 90.44571   ]]   noise: [3. 3. 3. 3. 3. 3. 3. 3. 3. 3. 3. 3. 3. 3. 3. 3. 3. 3. 3. 3. 3.]\n",
      "Iter 6701/8000 - Loss: 2.909  lengthscale1: [[ 0.2240883  2.2073228  0.0954982 91.83959  ]]   noise: [3. 3. 3. 3. 3. 3. 3. 3. 3. 3. 3. 3. 3. 3. 3. 3. 3. 3. 3. 3. 3.]\n",
      "Iter 6801/8000 - Loss: 2.909  lengthscale1: [[ 0.22413479  2.2105238   0.09536696 93.24552   ]]   noise: [3. 3. 3. 3. 3. 3. 3. 3. 3. 3. 3. 3. 3. 3. 3. 3. 3. 3. 3. 3. 3.]\n",
      "Iter 6901/8000 - Loss: 2.909  lengthscale1: [[ 0.22442949  2.2136357   0.09566427 94.66363   ]]   noise: [3. 3. 3. 3. 3. 3. 3. 3. 3. 3. 3. 3. 3. 3. 3. 3. 3. 3. 3. 3. 3.]\n",
      "Iter 7001/8000 - Loss: 2.909  lengthscale1: [[2.2459696e-01 2.2165229e+00 9.5805489e-02 9.6093971e+01]]   noise: [3. 3. 3. 3. 3. 3. 3. 3. 3. 3. 3. 3. 3. 3. 3. 3. 3. 3. 3. 3. 3.]\n",
      "Iter 7101/8000 - Loss: 2.909  lengthscale1: [[2.2473554e-01 2.2194273e+00 9.5819302e-02 9.7536720e+01]]   noise: [3. 3. 3. 3. 3. 3. 3. 3. 3. 3. 3. 3. 3. 3. 3. 3. 3. 3. 3. 3. 3.]\n",
      "Iter 7201/8000 - Loss: 2.909  lengthscale1: [[2.2452036e-01 2.2217360e+00 9.5488191e-02 9.8991936e+01]]   noise: [3. 3. 3. 3. 3. 3. 3. 3. 3. 3. 3. 3. 3. 3. 3. 3. 3. 3. 3. 3. 3.]\n",
      "Iter 7301/8000 - Loss: 2.908  lengthscale1: [[2.2500479e-01 2.2246966e+00 9.5952973e-02 1.0045972e+02]]   noise: [3. 3. 3. 3. 3. 3. 3. 3. 3. 3. 3. 3. 3. 3. 3. 3. 3. 3. 3. 3. 3.]\n",
      "Iter 7401/8000 - Loss: 2.908  lengthscale1: [[2.2438620e-01 2.2266800e+00 9.5552556e-02 1.0194021e+02]]   noise: [3. 3. 3. 3. 3. 3. 3. 3. 3. 3. 3. 3. 3. 3. 3. 3. 3. 3. 3. 3. 3.]\n",
      "Iter 7501/8000 - Loss: 2.908  lengthscale1: [[2.2522709e-01 2.2294307e+00 9.6064985e-02 1.0343351e+02]]   noise: [3. 3. 3. 3. 3. 3. 3. 3. 3. 3. 3. 3. 3. 3. 3. 3. 3. 3. 3. 3. 3.]\n",
      "Iter 7601/8000 - Loss: 2.908  lengthscale1: [[2.2587325e-01 2.2317514e+00 9.6483432e-02 1.0493973e+02]]   noise: [3. 3. 3. 3. 3. 3. 3. 3. 3. 3. 3. 3. 3. 3. 3. 3. 3. 3. 3. 3. 3.]\n",
      "Iter 7701/8000 - Loss: 2.908  lengthscale1: [[2.2540897e-01 2.2336450e+00 9.6156090e-02 1.0645899e+02]]   noise: [3. 3. 3. 3. 3. 3. 3. 3. 3. 3. 3. 3. 3. 3. 3. 3. 3. 3. 3. 3. 3.]\n",
      "Iter 7801/8000 - Loss: 2.908  lengthscale1: [[2.25698471e-01 2.23552489e+00 9.63128209e-02 1.07991356e+02]]   noise: [3. 3. 3. 3. 3. 3. 3. 3. 3. 3. 3. 3. 3. 3. 3. 3. 3. 3. 3. 3. 3.]\n",
      "Iter 7901/8000 - Loss: 2.908  lengthscale1: [[2.2556967e-01 2.2373545e+00 9.6239597e-02 1.0953703e+02]]   noise: [3. 3. 3. 3. 3. 3. 3. 3. 3. 3. 3. 3. 3. 3. 3. 3. 3. 3. 3. 3. 3.]\n"
     ]
    },
    {
     "output_type": "display_data",
     "data": {
      "text/html": [
       "Waiting for W&B process to finish... <strong style=\"color:green\">(success).</strong>"
      ],
      "text/plain": [
       "<IPython.core.display.HTML object>"
      ]
     },
     "metadata": {}
    },
    {
     "output_type": "display_data",
     "data": {
      "text/html": [
       "<style>\n",
       "    table.wandb td:nth-child(1) { padding: 0 10px; text-align: left ; width: auto;} td:nth-child(2) {text-align: left ; width: 100%}\n",
       "    .wandb-row { display: flex; flex-direction: row; flex-wrap: wrap; justify-content: flex-start; width: 100% }\n",
       "    .wandb-col { display: flex; flex-direction: column; flex-basis: 100%; flex: 1; padding: 10px; }\n",
       "    </style>\n",
       "<div class=\"wandb-row\"><div class=\"wandb-col\"><h3>Run history:</h3><br/><table class=\"wandb\"><tr><td>train loss</td><td>█▃▂▂▁▁▁▁▁▁▁▁▁▁▁▁▁▁▁▁▁▁▁▁▁▁▁▁▁▁▁▁▁▁▁▁▁▁▁▁</td></tr></table><br/></div></div>"
      ],
      "text/plain": [
       "<IPython.core.display.HTML object>"
      ]
     },
     "metadata": {}
    },
    {
     "output_type": "display_data",
     "data": {
      "text/html": [
       "Synced <strong style=\"color:#cdcd00\">atomic-sweep-1</strong>: <a href=\"https://wandb.ai/valenetjong/uncategorized/runs/prdfmbpb\" target=\"_blank\">https://wandb.ai/valenetjong/uncategorized/runs/prdfmbpb</a><br/>Synced 6 W&B file(s), 0 media file(s), 0 artifact file(s) and 0 other file(s)"
      ],
      "text/plain": [
       "<IPython.core.display.HTML object>"
      ]
     },
     "metadata": {}
    },
    {
     "output_type": "display_data",
     "data": {
      "text/html": [
       "Find logs at: <code>./wandb/run-20220709_233522-prdfmbpb/logs</code>"
      ],
      "text/plain": [
       "<IPython.core.display.HTML object>"
      ]
     },
     "metadata": {}
    },
    {
     "output_type": "stream",
     "name": "stderr",
     "text": [
      "\u001b[34m\u001b[1mwandb\u001b[0m: Agent Starting Run: ckwuqlq6 with config:\n",
      "\u001b[34m\u001b[1mwandb\u001b[0m: \tepochs: 5000\n",
      "\u001b[34m\u001b[1mwandb\u001b[0m: \tkernel: rbf\n",
      "\u001b[34m\u001b[1mwandb\u001b[0m: \tlr: 0.01\n",
      "\u001b[34m\u001b[1mwandb\u001b[0m: \tlscale_1: 1\n",
      "\u001b[34m\u001b[1mwandb\u001b[0m: \tlscale_2: 0.1\n",
      "\u001b[34m\u001b[1mwandb\u001b[0m: \tlscale_3: 1\n",
      "\u001b[34m\u001b[1mwandb\u001b[0m: \tlscale_4: 5\n",
      "\u001b[34m\u001b[1mwandb\u001b[0m: \tnoise: 3\n",
      "Failed to detect the name of this notebook, you can set it manually with the WANDB_NOTEBOOK_NAME environment variable to enable code saving.\n",
      "\u001b[34m\u001b[1mwandb\u001b[0m: \u001b[33mWARNING\u001b[0m Ignored wandb.init() arg project when running a sweep.\n"
     ]
    },
    {
     "output_type": "display_data",
     "data": {
      "text/html": [
       "Tracking run with wandb version 0.12.21"
      ],
      "text/plain": [
       "<IPython.core.display.HTML object>"
      ]
     },
     "metadata": {}
    },
    {
     "output_type": "display_data",
     "data": {
      "text/html": [
       "Run data is saved locally in <code>/Users/valenetjong/Bayesian-Optimization-Ferroelectrics/notebooks/wandb/run-20220709_233550-ckwuqlq6</code>"
      ],
      "text/plain": [
       "<IPython.core.display.HTML object>"
      ]
     },
     "metadata": {}
    },
    {
     "output_type": "display_data",
     "data": {
      "text/html": [
       "Syncing run <strong><a href=\"https://wandb.ai/valenetjong/uncategorized/runs/ckwuqlq6\" target=\"_blank\">usual-sweep-2</a></strong> to <a href=\"https://wandb.ai/valenetjong/uncategorized\" target=\"_blank\">Weights & Biases</a> (<a href=\"https://wandb.me/run\" target=\"_blank\">docs</a>)<br/>Sweep page:  <a href=\"https://wandb.ai/valenetjong/uncategorized/sweeps/swoc5kag\" target=\"_blank\">https://wandb.ai/valenetjong/uncategorized/sweeps/swoc5kag</a>"
      ],
      "text/plain": [
       "<IPython.core.display.HTML object>"
      ]
     },
     "metadata": {}
    },
    {
     "output_type": "stream",
     "name": "stdout",
     "text": [
      "Iter 1/5000 - Loss: 23.250  lengthscale1: [[1.  0.1 1.  5. ]]   noise: [3. 3. 3. 3. 3. 3. 3. 3. 3. 3. 3. 3. 3. 3. 3. 3. 3. 3. 3. 3. 3.]\n",
      "Iter 101/5000 - Loss: 14.177  lengthscale1: [[1.528707  0.3794854 1.5745707 5.9948697]]   noise: [3. 3. 3. 3. 3. 3. 3. 3. 3. 3. 3. 3. 3. 3. 3. 3. 3. 3. 3. 3. 3.]\n",
      "Iter 201/5000 - Loss: 9.978  lengthscale1: [[1.4817872 0.7595186 1.9505284 6.7847257]]   noise: [3. 3. 3. 3. 3. 3. 3. 3. 3. 3. 3. 3. 3. 3. 3. 3. 3. 3. 3. 3. 3.]\n",
      "Iter 301/5000 - Loss: 8.297  lengthscale1: [[0.87212294 0.9929054  2.2064488  7.35562   ]]   noise: [3. 3. 3. 3. 3. 3. 3. 3. 3. 3. 3. 3. 3. 3. 3. 3. 3. 3. 3. 3. 3.]\n",
      "Iter 401/5000 - Loss: 7.264  lengthscale1: [[0.6788375 1.1948504 2.3943481 7.842138 ]]   noise: [3. 3. 3. 3. 3. 3. 3. 3. 3. 3. 3. 3. 3. 3. 3. 3. 3. 3. 3. 3. 3.]\n",
      "Iter 501/5000 - Loss: 6.534  lengthscale1: [[0.6270915 1.4445956 2.5368695 8.244667 ]]   noise: [3. 3. 3. 3. 3. 3. 3. 3. 3. 3. 3. 3. 3. 3. 3. 3. 3. 3. 3. 3. 3.]\n",
      "Iter 601/5000 - Loss: 5.950  lengthscale1: [[0.5908241 1.7868942 2.644388  8.581437 ]]   noise: [3. 3. 3. 3. 3. 3. 3. 3. 3. 3. 3. 3. 3. 3. 3. 3. 3. 3. 3. 3. 3.]\n",
      "Iter 701/5000 - Loss: 5.530  lengthscale1: [[0.56452876 2.1382377  2.7216036  8.870782  ]]   noise: [3. 3. 3. 3. 3. 3. 3. 3. 3. 3. 3. 3. 3. 3. 3. 3. 3. 3. 3. 3. 3.]\n",
      "Iter 801/5000 - Loss: 5.258  lengthscale1: [[0.5457788 2.408862  2.7723863 9.127109 ]]   noise: [3. 3. 3. 3. 3. 3. 3. 3. 3. 3. 3. 3. 3. 3. 3. 3. 3. 3. 3. 3. 3.]\n",
      "Iter 901/5000 - Loss: 5.072  lengthscale1: [[0.5309722 2.5975668 2.7995222 9.358818 ]]   noise: [3. 3. 3. 3. 3. 3. 3. 3. 3. 3. 3. 3. 3. 3. 3. 3. 3. 3. 3. 3. 3.]\n",
      "Iter 1001/5000 - Loss: 4.932  lengthscale1: [[0.5181808 2.7252967 2.804266  9.57054  ]]   noise: [3. 3. 3. 3. 3. 3. 3. 3. 3. 3. 3. 3. 3. 3. 3. 3. 3. 3. 3. 3. 3.]\n",
      "Iter 1101/5000 - Loss: 4.820  lengthscale1: [[0.50650257 2.8080945  2.786399   9.765119  ]]   noise: [3. 3. 3. 3. 3. 3. 3. 3. 3. 3. 3. 3. 3. 3. 3. 3. 3. 3. 3. 3. 3.]\n",
      "Iter 1201/5000 - Loss: 4.725  lengthscale1: [[0.4954464 2.8561947 2.7442107 9.944466 ]]   noise: [3. 3. 3. 3. 3. 3. 3. 3. 3. 3. 3. 3. 3. 3. 3. 3. 3. 3. 3. 3. 3.]\n",
      "Iter 1301/5000 - Loss: 4.643  lengthscale1: [[ 0.4846916  2.876103   2.6741931 10.109957 ]]   noise: [3. 3. 3. 3. 3. 3. 3. 3. 3. 3. 3. 3. 3. 3. 3. 3. 3. 3. 3. 3. 3.]\n",
      "Iter 1401/5000 - Loss: 4.569  lengthscale1: [[ 0.47399166  2.872083    2.5701506  10.262589  ]]   noise: [3. 3. 3. 3. 3. 3. 3. 3. 3. 3. 3. 3. 3. 3. 3. 3. 3. 3. 3. 3. 3.]\n",
      "Iter 1501/5000 - Loss: 4.501  lengthscale1: [[ 0.4631248  2.8470693  2.4211051 10.403116 ]]   noise: [3. 3. 3. 3. 3. 3. 3. 3. 3. 3. 3. 3. 3. 3. 3. 3. 3. 3. 3. 3. 3.]\n",
      "Iter 1601/5000 - Loss: 4.439  lengthscale1: [[ 0.45186612  2.803231    2.205837   10.5321245 ]]   noise: [3. 3. 3. 3. 3. 3. 3. 3. 3. 3. 3. 3. 3. 3. 3. 3. 3. 3. 3. 3. 3.]\n",
      "Iter 1701/5000 - Loss: 4.379  lengthscale1: [[ 0.43995443  2.7424147   1.8753053  10.650176  ]]   noise: [3. 3. 3. 3. 3. 3. 3. 3. 3. 3. 3. 3. 3. 3. 3. 3. 3. 3. 3. 3. 3.]\n",
      "Iter 1801/5000 - Loss: 4.320  lengthscale1: [[ 0.4269539  2.666991   1.2663983 10.758284 ]]   noise: [3. 3. 3. 3. 3. 3. 3. 3. 3. 3. 3. 3. 3. 3. 3. 3. 3. 3. 3. 3. 3.]\n",
      "Iter 1901/5000 - Loss: 4.225  lengthscale1: [[ 0.39424616  2.5993054   0.22008672 10.8727455 ]]   noise: [3. 3. 3. 3. 3. 3. 3. 3. 3. 3. 3. 3. 3. 3. 3. 3. 3. 3. 3. 3. 3.]\n",
      "Iter 2001/5000 - Loss: 4.112  lengthscale1: [[ 0.38290402  2.5879643   0.08413732 11.027608  ]]   noise: [3. 3. 3. 3. 3. 3. 3. 3. 3. 3. 3. 3. 3. 3. 3. 3. 3. 3. 3. 3. 3.]\n",
      "Iter 2101/5000 - Loss: 3.974  lengthscale1: [[ 0.36288106  2.7649114   0.08236058 11.234     ]]   noise: [3. 3. 3. 3. 3. 3. 3. 3. 3. 3. 3. 3. 3. 3. 3. 3. 3. 3. 3. 3. 3.]\n",
      "Iter 2201/5000 - Loss: 3.861  lengthscale1: [[ 0.34545395  2.9015052   0.07724299 11.424615  ]]   noise: [3. 3. 3. 3. 3. 3. 3. 3. 3. 3. 3. 3. 3. 3. 3. 3. 3. 3. 3. 3. 3.]\n",
      "Iter 2301/5000 - Loss: 3.766  lengthscale1: [[ 0.330088    3.0019968   0.07366744 11.59774   ]]   noise: [3. 3. 3. 3. 3. 3. 3. 3. 3. 3. 3. 3. 3. 3. 3. 3. 3. 3. 3. 3. 3.]\n",
      "Iter 2401/5000 - Loss: 3.686  lengthscale1: [[ 0.31654167  3.0747492   0.07097601 11.754639  ]]   noise: [3. 3. 3. 3. 3. 3. 3. 3. 3. 3. 3. 3. 3. 3. 3. 3. 3. 3. 3. 3. 3.]\n",
      "Iter 2501/5000 - Loss: 3.618  lengthscale1: [[ 0.30460647  3.1257792   0.06888259 11.897029  ]]   noise: [3. 3. 3. 3. 3. 3. 3. 3. 3. 3. 3. 3. 3. 3. 3. 3. 3. 3. 3. 3. 3.]\n",
      "Iter 2601/5000 - Loss: 3.560  lengthscale1: [[ 0.29408544  3.159356    0.06723811 12.026701  ]]   noise: [3. 3. 3. 3. 3. 3. 3. 3. 3. 3. 3. 3. 3. 3. 3. 3. 3. 3. 3. 3. 3.]\n",
      "Iter 2701/5000 - Loss: 3.511  lengthscale1: [[ 0.28479776  3.1785982   0.06595363 12.145387  ]]   noise: [3. 3. 3. 3. 3. 3. 3. 3. 3. 3. 3. 3. 3. 3. 3. 3. 3. 3. 3. 3. 3.]\n",
      "Iter 2801/5000 - Loss: 3.469  lengthscale1: [[ 0.2765845   3.1858737   0.06496965 12.254762  ]]   noise: [3. 3. 3. 3. 3. 3. 3. 3. 3. 3. 3. 3. 3. 3. 3. 3. 3. 3. 3. 3. 3.]\n",
      "Iter 2901/5000 - Loss: 3.434  lengthscale1: [[ 0.26931     3.1830592   0.06424186 12.356395  ]]   noise: [3. 3. 3. 3. 3. 3. 3. 3. 3. 3. 3. 3. 3. 3. 3. 3. 3. 3. 3. 3. 3.]\n",
      "Iter 3001/5000 - Loss: 3.403  lengthscale1: [[ 0.26286125  3.1717012   0.06373413 12.451778  ]]   noise: [3. 3. 3. 3. 3. 3. 3. 3. 3. 3. 3. 3. 3. 3. 3. 3. 3. 3. 3. 3. 3.]\n",
      "Iter 3101/5000 - Loss: 3.378  lengthscale1: [[ 0.2571449   3.1531296   0.06341527 12.542318  ]]   noise: [3. 3. 3. 3. 3. 3. 3. 3. 3. 3. 3. 3. 3. 3. 3. 3. 3. 3. 3. 3. 3.]\n",
      "Iter 3201/5000 - Loss: 3.355  lengthscale1: [[ 0.25208396  3.128522    0.06325726 12.629327  ]]   noise: [3. 3. 3. 3. 3. 3. 3. 3. 3. 3. 3. 3. 3. 3. 3. 3. 3. 3. 3. 3. 3.]\n",
      "Iter 3301/5000 - Loss: 3.336  lengthscale1: [[ 0.24761342  3.0989537   0.06323463 12.714037  ]]   noise: [3. 3. 3. 3. 3. 3. 3. 3. 3. 3. 3. 3. 3. 3. 3. 3. 3. 3. 3. 3. 3.]\n",
      "Iter 3401/5000 - Loss: 3.319  lengthscale1: [[ 0.2436781  3.065429   0.0633242 12.797586 ]]   noise: [3. 3. 3. 3. 3. 3. 3. 3. 3. 3. 3. 3. 3. 3. 3. 3. 3. 3. 3. 3. 3.]\n",
      "Iter 3501/5000 - Loss: 3.304  lengthscale1: [[ 0.24022807  3.0288906   0.06350487 12.881019  ]]   noise: [3. 3. 3. 3. 3. 3. 3. 3. 3. 3. 3. 3. 3. 3. 3. 3. 3. 3. 3. 3. 3.]\n",
      "Iter 3601/5000 - Loss: 3.290  lengthscale1: [[ 0.23721762  2.99023     0.06375782 12.965261  ]]   noise: [3. 3. 3. 3. 3. 3. 3. 3. 3. 3. 3. 3. 3. 3. 3. 3. 3. 3. 3. 3. 3.]\n",
      "Iter 3701/5000 - Loss: 3.278  lengthscale1: [[ 0.23460352  2.950285    0.06406644 13.05117   ]]   noise: [3. 3. 3. 3. 3. 3. 3. 3. 3. 3. 3. 3. 3. 3. 3. 3. 3. 3. 3. 3. 3.]\n",
      "Iter 3801/5000 - Loss: 3.266  lengthscale1: [[ 0.23234439  2.9098234   0.06441616 13.139501  ]]   noise: [3. 3. 3. 3. 3. 3. 3. 3. 3. 3. 3. 3. 3. 3. 3. 3. 3. 3. 3. 3. 3.]\n",
      "Iter 3901/5000 - Loss: 3.256  lengthscale1: [[ 0.23040093  2.8695385   0.06479432 13.23091   ]]   noise: [3. 3. 3. 3. 3. 3. 3. 3. 3. 3. 3. 3. 3. 3. 3. 3. 3. 3. 3. 3. 3.]\n",
      "Iter 4001/5000 - Loss: 3.246  lengthscale1: [[ 0.22873601  2.830028    0.06519032 13.325978  ]]   noise: [3. 3. 3. 3. 3. 3. 3. 3. 3. 3. 3. 3. 3. 3. 3. 3. 3. 3. 3. 3. 3.]\n",
      "Iter 4101/5000 - Loss: 3.236  lengthscale1: [[ 0.2273151   2.7917855   0.06559541 13.4251995 ]]   noise: [3. 3. 3. 3. 3. 3. 3. 3. 3. 3. 3. 3. 3. 3. 3. 3. 3. 3. 3. 3. 3.]\n",
      "Iter 4201/5000 - Loss: 3.227  lengthscale1: [[ 0.22610666  2.7551897   0.06600253 13.529006  ]]   noise: [3. 3. 3. 3. 3. 3. 3. 3. 3. 3. 3. 3. 3. 3. 3. 3. 3. 3. 3. 3. 3.]\n",
      "Iter 4301/5000 - Loss: 3.218  lengthscale1: [[ 0.22508235  2.720506    0.06640636 13.637748  ]]   noise: [3. 3. 3. 3. 3. 3. 3. 3. 3. 3. 3. 3. 3. 3. 3. 3. 3. 3. 3. 3. 3.]\n",
      "Iter 4401/5000 - Loss: 3.209  lengthscale1: [[ 0.22421615  2.6878881   0.06680293 13.751742  ]]   noise: [3. 3. 3. 3. 3. 3. 3. 3. 3. 3. 3. 3. 3. 3. 3. 3. 3. 3. 3. 3. 3.]\n",
      "Iter 4501/5000 - Loss: 3.201  lengthscale1: [[ 0.22348629  2.6573899   0.06718979 13.871253  ]]   noise: [3. 3. 3. 3. 3. 3. 3. 3. 3. 3. 3. 3. 3. 3. 3. 3. 3. 3. 3. 3. 3.]\n",
      "Iter 4601/5000 - Loss: 3.193  lengthscale1: [[ 0.22287221  2.6289797   0.06756555 13.996514  ]]   noise: [3. 3. 3. 3. 3. 3. 3. 3. 3. 3. 3. 3. 3. 3. 3. 3. 3. 3. 3. 3. 3.]\n",
      "Iter 4701/5000 - Loss: 3.185  lengthscale1: [[ 0.22235656  2.6025605   0.06792993 14.127722  ]]   noise: [3. 3. 3. 3. 3. 3. 3. 3. 3. 3. 3. 3. 3. 3. 3. 3. 3. 3. 3. 3. 3.]\n",
      "Iter 4801/5000 - Loss: 3.177  lengthscale1: [[ 0.22192407  2.5779824   0.06828336 14.265052  ]]   noise: [3. 3. 3. 3. 3. 3. 3. 3. 3. 3. 3. 3. 3. 3. 3. 3. 3. 3. 3. 3. 3.]\n",
      "Iter 4901/5000 - Loss: 3.169  lengthscale1: [[ 0.22156027  2.555069    0.06862687 14.408665  ]]   noise: [3. 3. 3. 3. 3. 3. 3. 3. 3. 3. 3. 3. 3. 3. 3. 3. 3. 3. 3. 3. 3.]\n"
     ]
    },
    {
     "output_type": "display_data",
     "data": {
      "text/html": [
       "Waiting for W&B process to finish... <strong style=\"color:green\">(success).</strong>"
      ],
      "text/plain": [
       "<IPython.core.display.HTML object>"
      ]
     },
     "metadata": {}
    },
    {
     "output_type": "display_data",
     "data": {
      "text/html": [
       "<style>\n",
       "    table.wandb td:nth-child(1) { padding: 0 10px; text-align: left ; width: auto;} td:nth-child(2) {text-align: left ; width: 100%}\n",
       "    .wandb-row { display: flex; flex-direction: row; flex-wrap: wrap; justify-content: flex-start; width: 100% }\n",
       "    .wandb-col { display: flex; flex-direction: column; flex-basis: 100%; flex: 1; padding: 10px; }\n",
       "    </style>\n",
       "<div class=\"wandb-row\"><div class=\"wandb-col\"><h3>Run history:</h3><br/><table class=\"wandb\"><tr><td>train loss</td><td>█▅▄▃▃▂▂▂▂▂▂▂▂▂▂▁▁▁▁▁▁▁▁▁▁▁▁▁▁▁▁▁▁▁▁▁▁▁▁▁</td></tr></table><br/></div></div>"
      ],
      "text/plain": [
       "<IPython.core.display.HTML object>"
      ]
     },
     "metadata": {}
    },
    {
     "output_type": "display_data",
     "data": {
      "text/html": [
       "Synced <strong style=\"color:#cdcd00\">usual-sweep-2</strong>: <a href=\"https://wandb.ai/valenetjong/uncategorized/runs/ckwuqlq6\" target=\"_blank\">https://wandb.ai/valenetjong/uncategorized/runs/ckwuqlq6</a><br/>Synced 6 W&B file(s), 0 media file(s), 0 artifact file(s) and 0 other file(s)"
      ],
      "text/plain": [
       "<IPython.core.display.HTML object>"
      ]
     },
     "metadata": {}
    },
    {
     "output_type": "display_data",
     "data": {
      "text/html": [
       "Find logs at: <code>./wandb/run-20220709_233550-ckwuqlq6/logs</code>"
      ],
      "text/plain": [
       "<IPython.core.display.HTML object>"
      ]
     },
     "metadata": {}
    },
    {
     "output_type": "stream",
     "name": "stderr",
     "text": [
      "\u001b[34m\u001b[1mwandb\u001b[0m: Agent Starting Run: c8o77yp1 with config:\n",
      "\u001b[34m\u001b[1mwandb\u001b[0m: \tepochs: 5000\n",
      "\u001b[34m\u001b[1mwandb\u001b[0m: \tkernel: rbf\n",
      "\u001b[34m\u001b[1mwandb\u001b[0m: \tlr: 10\n",
      "\u001b[34m\u001b[1mwandb\u001b[0m: \tlscale_1: 0.1\n",
      "\u001b[34m\u001b[1mwandb\u001b[0m: \tlscale_2: 10\n",
      "\u001b[34m\u001b[1mwandb\u001b[0m: \tlscale_3: 1\n",
      "\u001b[34m\u001b[1mwandb\u001b[0m: \tlscale_4: 0.5\n",
      "\u001b[34m\u001b[1mwandb\u001b[0m: \tnoise: 3\n",
      "Failed to detect the name of this notebook, you can set it manually with the WANDB_NOTEBOOK_NAME environment variable to enable code saving.\n",
      "\u001b[34m\u001b[1mwandb\u001b[0m: \u001b[33mWARNING\u001b[0m Ignored wandb.init() arg project when running a sweep.\n"
     ]
    },
    {
     "output_type": "display_data",
     "data": {
      "text/html": [
       "Tracking run with wandb version 0.12.21"
      ],
      "text/plain": [
       "<IPython.core.display.HTML object>"
      ]
     },
     "metadata": {}
    },
    {
     "output_type": "display_data",
     "data": {
      "text/html": [
       "Run data is saved locally in <code>/Users/valenetjong/Bayesian-Optimization-Ferroelectrics/notebooks/wandb/run-20220709_233612-c8o77yp1</code>"
      ],
      "text/plain": [
       "<IPython.core.display.HTML object>"
      ]
     },
     "metadata": {}
    },
    {
     "output_type": "display_data",
     "data": {
      "text/html": [
       "Syncing run <strong><a href=\"https://wandb.ai/valenetjong/uncategorized/runs/c8o77yp1\" target=\"_blank\">still-sweep-3</a></strong> to <a href=\"https://wandb.ai/valenetjong/uncategorized\" target=\"_blank\">Weights & Biases</a> (<a href=\"https://wandb.me/run\" target=\"_blank\">docs</a>)<br/>Sweep page:  <a href=\"https://wandb.ai/valenetjong/uncategorized/sweeps/swoc5kag\" target=\"_blank\">https://wandb.ai/valenetjong/uncategorized/sweeps/swoc5kag</a>"
      ],
      "text/plain": [
       "<IPython.core.display.HTML object>"
      ]
     },
     "metadata": {}
    },
    {
     "output_type": "stream",
     "name": "stdout",
     "text": [
      "Iter 1/5000 - Loss: 21.891  lengthscale1: [[ 0.1 10.   1.   0.5]]   noise: [3. 3. 3. 3. 3. 3. 3. 3. 3. 3. 3. 3. 3. 3. 3. 3. 3. 3. 3. 3. 3.]\n",
      "Iter 101/5000 - Loss: 6.107  lengthscale1: [[5.6382153e+01 7.5578988e-10 6.0111897e+01 8.7665118e-14]]   noise: [3. 3. 3. 3. 3. 3. 3. 3. 3. 3. 3. 3. 3. 3. 3. 3. 3. 3. 3. 3. 3.]\n",
      "Iter 201/5000 - Loss: 6.105  lengthscale1: [[5.4875465e+01 7.5578988e-10 5.9539719e+01 8.7665118e-14]]   noise: [3. 3. 3. 3. 3. 3. 3. 3. 3. 3. 3. 3. 3. 3. 3. 3. 3. 3. 3. 3. 3.]\n",
      "Iter 301/5000 - Loss: 6.103  lengthscale1: [[5.2736393e+01 7.5578988e-10 5.8774498e+01 8.7665118e-14]]   noise: [3. 3. 3. 3. 3. 3. 3. 3. 3. 3. 3. 3. 3. 3. 3. 3. 3. 3. 3. 3. 3.]\n",
      "Iter 401/5000 - Loss: 6.101  lengthscale1: [[4.9876209e+01 7.5578988e-10 5.7844353e+01 8.7665118e-14]]   noise: [3. 3. 3. 3. 3. 3. 3. 3. 3. 3. 3. 3. 3. 3. 3. 3. 3. 3. 3. 3. 3.]\n",
      "Iter 501/5000 - Loss: 6.098  lengthscale1: [[4.6046356e+01 7.5578988e-10 5.6765163e+01 8.7665118e-14]]   noise: [3. 3. 3. 3. 3. 3. 3. 3. 3. 3. 3. 3. 3. 3. 3. 3. 3. 3. 3. 3. 3.]\n",
      "Iter 601/5000 - Loss: 6.094  lengthscale1: [[4.0638359e+01 7.5578988e-10 5.5553875e+01 8.7665118e-14]]   noise: [3. 3. 3. 3. 3. 3. 3. 3. 3. 3. 3. 3. 3. 3. 3. 3. 3. 3. 3. 3. 3.]\n",
      "Iter 701/5000 - Loss: 6.090  lengthscale1: [[3.1516455e+01 7.5578988e-10 5.4236626e+01 8.7665118e-14]]   noise: [3. 3. 3. 3. 3. 3. 3. 3. 3. 3. 3. 3. 3. 3. 3. 3. 3. 3. 3. 3. 3.]\n"
     ]
    },
    {
     "output_type": "display_data",
     "data": {
      "text/html": [
       "Waiting for W&B process to finish... <strong style=\"color:red\">(failed 1).</strong> Press Control-C to abort syncing."
      ],
      "text/plain": [
       "<IPython.core.display.HTML object>"
      ]
     },
     "metadata": {}
    },
    {
     "output_type": "display_data",
     "data": {
      "text/html": [
       "<style>\n",
       "    table.wandb td:nth-child(1) { padding: 0 10px; text-align: left ; width: auto;} td:nth-child(2) {text-align: left ; width: 100%}\n",
       "    .wandb-row { display: flex; flex-direction: row; flex-wrap: wrap; justify-content: flex-start; width: 100% }\n",
       "    .wandb-col { display: flex; flex-direction: column; flex-basis: 100%; flex: 1; padding: 10px; }\n",
       "    </style>\n",
       "<div class=\"wandb-row\"><div class=\"wandb-col\"><h3>Run history:</h3><br/><table class=\"wandb\"><tr><td>train loss</td><td>▇█▃▁▁▁▁▁▁▁▁▁▁▁▁▁▁▁▁▁▁▁▁▁▁▁▁▁▁▁▁▁▁▁▁▁▁▁▁▁</td></tr></table><br/></div></div>"
      ],
      "text/plain": [
       "<IPython.core.display.HTML object>"
      ]
     },
     "metadata": {}
    },
    {
     "output_type": "display_data",
     "data": {
      "text/html": [
       "Synced <strong style=\"color:#cdcd00\">still-sweep-3</strong>: <a href=\"https://wandb.ai/valenetjong/uncategorized/runs/c8o77yp1\" target=\"_blank\">https://wandb.ai/valenetjong/uncategorized/runs/c8o77yp1</a><br/>Synced 6 W&B file(s), 0 media file(s), 0 artifact file(s) and 0 other file(s)"
      ],
      "text/plain": [
       "<IPython.core.display.HTML object>"
      ]
     },
     "metadata": {}
    },
    {
     "output_type": "display_data",
     "data": {
      "text/html": [
       "Find logs at: <code>./wandb/run-20220709_233612-c8o77yp1/logs</code>"
      ],
      "text/plain": [
       "<IPython.core.display.HTML object>"
      ]
     },
     "metadata": {}
    },
    {
     "output_type": "stream",
     "name": "stderr",
     "text": [
      "Run c8o77yp1 errored: NanError('cholesky_cpu: 441 of 441 elements of the torch.Size([21, 21]) tensor are NaN.')\n",
      "\u001b[34m\u001b[1mwandb\u001b[0m: \u001b[32m\u001b[41mERROR\u001b[0m Run c8o77yp1 errored: NanError('cholesky_cpu: 441 of 441 elements of the torch.Size([21, 21]) tensor are NaN.')\n",
      "\u001b[34m\u001b[1mwandb\u001b[0m: Agent Starting Run: 2646tphv with config:\n",
      "\u001b[34m\u001b[1mwandb\u001b[0m: \tepochs: 9000\n",
      "\u001b[34m\u001b[1mwandb\u001b[0m: \tkernel: rbf\n",
      "\u001b[34m\u001b[1mwandb\u001b[0m: \tlr: 10\n",
      "\u001b[34m\u001b[1mwandb\u001b[0m: \tlscale_1: 5\n",
      "\u001b[34m\u001b[1mwandb\u001b[0m: \tlscale_2: 0.5\n",
      "\u001b[34m\u001b[1mwandb\u001b[0m: \tlscale_3: 0.1\n",
      "\u001b[34m\u001b[1mwandb\u001b[0m: \tlscale_4: 5\n",
      "\u001b[34m\u001b[1mwandb\u001b[0m: \tnoise: 5\n",
      "Failed to detect the name of this notebook, you can set it manually with the WANDB_NOTEBOOK_NAME environment variable to enable code saving.\n",
      "\u001b[34m\u001b[1mwandb\u001b[0m: \u001b[33mWARNING\u001b[0m Ignored wandb.init() arg project when running a sweep.\n"
     ]
    },
    {
     "output_type": "display_data",
     "data": {
      "text/html": [
       "Tracking run with wandb version 0.12.21"
      ],
      "text/plain": [
       "<IPython.core.display.HTML object>"
      ]
     },
     "metadata": {}
    },
    {
     "output_type": "display_data",
     "data": {
      "text/html": [
       "Run data is saved locally in <code>/Users/valenetjong/Bayesian-Optimization-Ferroelectrics/notebooks/wandb/run-20220709_233623-2646tphv</code>"
      ],
      "text/plain": [
       "<IPython.core.display.HTML object>"
      ]
     },
     "metadata": {}
    },
    {
     "output_type": "display_data",
     "data": {
      "text/html": [
       "Syncing run <strong><a href=\"https://wandb.ai/valenetjong/uncategorized/runs/2646tphv\" target=\"_blank\">snowy-sweep-4</a></strong> to <a href=\"https://wandb.ai/valenetjong/uncategorized\" target=\"_blank\">Weights & Biases</a> (<a href=\"https://wandb.me/run\" target=\"_blank\">docs</a>)<br/>Sweep page:  <a href=\"https://wandb.ai/valenetjong/uncategorized/sweeps/swoc5kag\" target=\"_blank\">https://wandb.ai/valenetjong/uncategorized/sweeps/swoc5kag</a>"
      ],
      "text/plain": [
       "<IPython.core.display.HTML object>"
      ]
     },
     "metadata": {}
    },
    {
     "output_type": "stream",
     "name": "stdout",
     "text": [
      "Iter 1/9000 - Loss: 16.384  lengthscale1: [[5.  0.5 0.1 5. ]]   noise: [5. 5. 5. 5. 5. 5. 5. 5. 5. 5. 5. 5. 5. 5. 5. 5. 5. 5. 5. 5. 5.]\n",
      "Iter 101/9000 - Loss: 4.531  lengthscale1: [[38.899788 55.72497  57.795006 21.056992]]   noise: [5. 5. 5. 5. 5. 5. 5. 5. 5. 5. 5. 5. 5. 5. 5. 5. 5. 5. 5. 5. 5.]\n",
      "Iter 201/9000 - Loss: 4.520  lengthscale1: [[38.90234  42.95024  57.793274 24.266739]]   noise: [5. 5. 5. 5. 5. 5. 5. 5. 5. 5. 5. 5. 5. 5. 5. 5. 5. 5. 5. 5. 5.]\n",
      "Iter 301/9000 - Loss: 4.664  lengthscale1: [[ 38.896515  16.483263  57.78662  143.51768 ]]   noise: [5. 5. 5. 5. 5. 5. 5. 5. 5. 5. 5. 5. 5. 5. 5. 5. 5. 5. 5. 5. 5.]\n",
      "Iter 401/9000 - Loss: 4.659  lengthscale1: [[ 38.88588   14.147557  57.776867 143.0879  ]]   noise: [5. 5. 5. 5. 5. 5. 5. 5. 5. 5. 5. 5. 5. 5. 5. 5. 5. 5. 5. 5. 5.]\n",
      "Iter 501/9000 - Loss: 4.652  lengthscale1: [[ 38.872627  14.350512  57.76457  140.55878 ]]   noise: [5. 5. 5. 5. 5. 5. 5. 5. 5. 5. 5. 5. 5. 5. 5. 5. 5. 5. 5. 5. 5.]\n",
      "Iter 601/9000 - Loss: 4.644  lengthscale1: [[ 38.856537  14.781452  57.74935  137.48712 ]]   noise: [5. 5. 5. 5. 5. 5. 5. 5. 5. 5. 5. 5. 5. 5. 5. 5. 5. 5. 5. 5. 5.]\n",
      "Iter 701/9000 - Loss: 4.635  lengthscale1: [[ 38.837315  15.182245  57.730755 133.81105 ]]   noise: [5. 5. 5. 5. 5. 5. 5. 5. 5. 5. 5. 5. 5. 5. 5. 5. 5. 5. 5. 5. 5.]\n",
      "Iter 801/9000 - Loss: 4.624  lengthscale1: [[ 38.814644  15.482592  57.70827  129.45616 ]]   noise: [5. 5. 5. 5. 5. 5. 5. 5. 5. 5. 5. 5. 5. 5. 5. 5. 5. 5. 5. 5. 5.]\n",
      "Iter 901/9000 - Loss: 4.612  lengthscale1: [[ 38.788208  15.601154  57.68134  124.33896 ]]   noise: [5. 5. 5. 5. 5. 5. 5. 5. 5. 5. 5. 5. 5. 5. 5. 5. 5. 5. 5. 5. 5.]\n",
      "Iter 1001/9000 - Loss: 4.599  lengthscale1: [[ 38.757698  15.331535  57.64939  118.36462 ]]   noise: [5. 5. 5. 5. 5. 5. 5. 5. 5. 5. 5. 5. 5. 5. 5. 5. 5. 5. 5. 5. 5.]\n",
      "Iter 1101/9000 - Loss: 4.583  lengthscale1: [[ 38.722847  13.13739   57.612038 111.39401 ]]   noise: [5. 5. 5. 5. 5. 5. 5. 5. 5. 5. 5. 5. 5. 5. 5. 5. 5. 5. 5. 5. 5.]\n",
      "Iter 1201/9000 - Loss: 4.495  lengthscale1: [[38.68492    4.0870466 57.59384   99.91174  ]]   noise: [5. 5. 5. 5. 5. 5. 5. 5. 5. 5. 5. 5. 5. 5. 5. 5. 5. 5. 5. 5. 5.]\n",
      "Iter 1301/9000 - Loss: 4.432  lengthscale1: [[38.64378    3.6662366 57.590885  82.5255   ]]   noise: [5. 5. 5. 5. 5. 5. 5. 5. 5. 5. 5. 5. 5. 5. 5. 5. 5. 5. 5. 5. 5.]\n",
      "Iter 1401/9000 - Loss: 4.284  lengthscale1: [[38.603348   1.9073728 57.599575  54.237415 ]]   noise: [5. 5. 5. 5. 5. 5. 5. 5. 5. 5. 5. 5. 5. 5. 5. 5. 5. 5. 5. 5. 5.]\n",
      "Iter 1501/9000 - Loss: 4.009  lengthscale1: [[38.573654   4.1514087 57.614334   6.72617  ]]   noise: [5. 5. 5. 5. 5. 5. 5. 5. 5. 5. 5. 5. 5. 5. 5. 5. 5. 5. 5. 5. 5.]\n",
      "Iter 1601/9000 - Loss: 3.918  lengthscale1: [[38.553062   2.5538576 57.599068   0.5702124]]   noise: [5. 5. 5. 5. 5. 5. 5. 5. 5. 5. 5. 5. 5. 5. 5. 5. 5. 5. 5. 5. 5.]\n",
      "Iter 1701/9000 - Loss: 3.915  lengthscale1: [[38.5326      2.4920115  57.58111     0.63766176]]   noise: [5. 5. 5. 5. 5. 5. 5. 5. 5. 5. 5. 5. 5. 5. 5. 5. 5. 5. 5. 5. 5.]\n",
      "Iter 1801/9000 - Loss: 3.911  lengthscale1: [[38.512      2.4411986 57.562798   0.6633351]]   noise: [5. 5. 5. 5. 5. 5. 5. 5. 5. 5. 5. 5. 5. 5. 5. 5. 5. 5. 5. 5. 5.]\n",
      "Iter 1901/9000 - Loss: 3.906  lengthscale1: [[38.49146   2.381974 57.544605  0.592632]]   noise: [5. 5. 5. 5. 5. 5. 5. 5. 5. 5. 5. 5. 5. 5. 5. 5. 5. 5. 5. 5. 5.]\n",
      "Iter 2001/9000 - Loss: 3.901  lengthscale1: [[38.471394    2.3059547  57.52681     0.37513185]]   noise: [5. 5. 5. 5. 5. 5. 5. 5. 5. 5. 5. 5. 5. 5. 5. 5. 5. 5. 5. 5. 5.]\n",
      "Iter 2101/9000 - Loss: 3.893  lengthscale1: [[38.452187    2.2159853  57.509747    0.39152274]]   noise: [5. 5. 5. 5. 5. 5. 5. 5. 5. 5. 5. 5. 5. 5. 5. 5. 5. 5. 5. 5. 5.]\n",
      "Iter 2201/9000 - Loss: 3.882  lengthscale1: [[38.43445     2.0967524  57.494       0.44667968]]   noise: [5. 5. 5. 5. 5. 5. 5. 5. 5. 5. 5. 5. 5. 5. 5. 5. 5. 5. 5. 5. 5.]\n",
      "Iter 2301/9000 - Loss: 3.867  lengthscale1: [[38.41902     1.9240528  57.48037     0.46776918]]   noise: [5. 5. 5. 5. 5. 5. 5. 5. 5. 5. 5. 5. 5. 5. 5. 5. 5. 5. 5. 5. 5.]\n",
      "Iter 2401/9000 - Loss: 3.841  lengthscale1: [[38.40722    1.5875932 57.47009    0.4442348]]   noise: [5. 5. 5. 5. 5. 5. 5. 5. 5. 5. 5. 5. 5. 5. 5. 5. 5. 5. 5. 5. 5.]\n"
     ]
    },
    {
     "output_type": "display_data",
     "data": {
      "text/html": [
       "Waiting for W&B process to finish... <strong style=\"color:red\">(failed 1).</strong> Press Control-C to abort syncing."
      ],
      "text/plain": [
       "<IPython.core.display.HTML object>"
      ]
     },
     "metadata": {}
    },
    {
     "output_type": "display_data",
     "data": {
      "text/html": [
       "<style>\n",
       "    table.wandb td:nth-child(1) { padding: 0 10px; text-align: left ; width: auto;} td:nth-child(2) {text-align: left ; width: 100%}\n",
       "    .wandb-row { display: flex; flex-direction: row; flex-wrap: wrap; justify-content: flex-start; width: 100% }\n",
       "    .wandb-col { display: flex; flex-direction: column; flex-basis: 100%; flex: 1; padding: 10px; }\n",
       "    </style>\n",
       "<div class=\"wandb-row\"><div class=\"wandb-col\"><h3>Run history:</h3><br/><table class=\"wandb\"><tr><td>train loss</td><td>█▇▇▆▆███▇▇▇▇▇▇▇▇▇▇▆▆▆▆▅▄▃▂▂▂▂▂▂▂▂▂▂▂▂▂▁▁</td></tr></table><br/></div></div>"
      ],
      "text/plain": [
       "<IPython.core.display.HTML object>"
      ]
     },
     "metadata": {}
    },
    {
     "output_type": "display_data",
     "data": {
      "text/html": [
       "Synced <strong style=\"color:#cdcd00\">snowy-sweep-4</strong>: <a href=\"https://wandb.ai/valenetjong/uncategorized/runs/2646tphv\" target=\"_blank\">https://wandb.ai/valenetjong/uncategorized/runs/2646tphv</a><br/>Synced 6 W&B file(s), 0 media file(s), 0 artifact file(s) and 0 other file(s)"
      ],
      "text/plain": [
       "<IPython.core.display.HTML object>"
      ]
     },
     "metadata": {}
    },
    {
     "output_type": "display_data",
     "data": {
      "text/html": [
       "Find logs at: <code>./wandb/run-20220709_233623-2646tphv/logs</code>"
      ],
      "text/plain": [
       "<IPython.core.display.HTML object>"
      ]
     },
     "metadata": {}
    },
    {
     "output_type": "stream",
     "name": "stderr",
     "text": [
      "Run 2646tphv errored: NanError('cholesky_cpu: 441 of 441 elements of the torch.Size([21, 21]) tensor are NaN.')\n",
      "\u001b[34m\u001b[1mwandb\u001b[0m: \u001b[32m\u001b[41mERROR\u001b[0m Run 2646tphv errored: NanError('cholesky_cpu: 441 of 441 elements of the torch.Size([21, 21]) tensor are NaN.')\n",
      "\u001b[34m\u001b[1mwandb\u001b[0m: Agent Starting Run: v5jz4g84 with config:\n",
      "\u001b[34m\u001b[1mwandb\u001b[0m: \tepochs: 5000\n",
      "\u001b[34m\u001b[1mwandb\u001b[0m: \tkernel: rbf\n",
      "\u001b[34m\u001b[1mwandb\u001b[0m: \tlr: 10\n",
      "\u001b[34m\u001b[1mwandb\u001b[0m: \tlscale_1: 0.1\n",
      "\u001b[34m\u001b[1mwandb\u001b[0m: \tlscale_2: 5\n",
      "\u001b[34m\u001b[1mwandb\u001b[0m: \tlscale_3: 1\n",
      "\u001b[34m\u001b[1mwandb\u001b[0m: \tlscale_4: 10\n",
      "\u001b[34m\u001b[1mwandb\u001b[0m: \tnoise: 3\n",
      "Failed to detect the name of this notebook, you can set it manually with the WANDB_NOTEBOOK_NAME environment variable to enable code saving.\n",
      "\u001b[34m\u001b[1mwandb\u001b[0m: \u001b[33mWARNING\u001b[0m Ignored wandb.init() arg project when running a sweep.\n"
     ]
    },
    {
     "output_type": "display_data",
     "data": {
      "text/html": [
       "Tracking run with wandb version 0.12.21"
      ],
      "text/plain": [
       "<IPython.core.display.HTML object>"
      ]
     },
     "metadata": {}
    },
    {
     "output_type": "display_data",
     "data": {
      "text/html": [
       "Run data is saved locally in <code>/Users/valenetjong/Bayesian-Optimization-Ferroelectrics/notebooks/wandb/run-20220709_233638-v5jz4g84</code>"
      ],
      "text/plain": [
       "<IPython.core.display.HTML object>"
      ]
     },
     "metadata": {}
    },
    {
     "output_type": "display_data",
     "data": {
      "text/html": [
       "Syncing run <strong><a href=\"https://wandb.ai/valenetjong/uncategorized/runs/v5jz4g84\" target=\"_blank\">summer-sweep-5</a></strong> to <a href=\"https://wandb.ai/valenetjong/uncategorized\" target=\"_blank\">Weights & Biases</a> (<a href=\"https://wandb.me/run\" target=\"_blank\">docs</a>)<br/>Sweep page:  <a href=\"https://wandb.ai/valenetjong/uncategorized/sweeps/swoc5kag\" target=\"_blank\">https://wandb.ai/valenetjong/uncategorized/sweeps/swoc5kag</a>"
      ],
      "text/plain": [
       "<IPython.core.display.HTML object>"
      ]
     },
     "metadata": {}
    },
    {
     "output_type": "stream",
     "name": "stdout",
     "text": [
      "Iter 1/5000 - Loss: 19.994  lengthscale1: [[ 0.1  5.   1.  10. ]]   noise: [3. 3. 3. 3. 3. 3. 3. 3. 3. 3. 3. 3. 3. 3. 3. 3. 3. 3. 3. 3. 3.]\n"
     ]
    },
    {
     "output_type": "display_data",
     "data": {
      "text/html": [
       "Waiting for W&B process to finish... <strong style=\"color:red\">(failed 1).</strong> Press Control-C to abort syncing."
      ],
      "text/plain": [
       "<IPython.core.display.HTML object>"
      ]
     },
     "metadata": {}
    },
    {
     "output_type": "display_data",
     "data": {
      "text/html": [
       "<style>\n",
       "    table.wandb td:nth-child(1) { padding: 0 10px; text-align: left ; width: auto;} td:nth-child(2) {text-align: left ; width: 100%}\n",
       "    .wandb-row { display: flex; flex-direction: row; flex-wrap: wrap; justify-content: flex-start; width: 100% }\n",
       "    .wandb-col { display: flex; flex-direction: column; flex-basis: 100%; flex: 1; padding: 10px; }\n",
       "    </style>\n",
       "<div class=\"wandb-row\"><div class=\"wandb-col\"><h3>Run history:</h3><br/><table class=\"wandb\"><tr><td>train loss</td><td>█▂▂▂▂▂▂▂▂▂▂▂▂▂▂▂▂▂▂▂▂▂▂▂▂▂▂▂▂▂▂▂▂▁▁▁▁▂▁▂</td></tr></table><br/></div></div>"
      ],
      "text/plain": [
       "<IPython.core.display.HTML object>"
      ]
     },
     "metadata": {}
    },
    {
     "output_type": "display_data",
     "data": {
      "text/html": [
       "Synced <strong style=\"color:#cdcd00\">summer-sweep-5</strong>: <a href=\"https://wandb.ai/valenetjong/uncategorized/runs/v5jz4g84\" target=\"_blank\">https://wandb.ai/valenetjong/uncategorized/runs/v5jz4g84</a><br/>Synced 6 W&B file(s), 0 media file(s), 0 artifact file(s) and 0 other file(s)"
      ],
      "text/plain": [
       "<IPython.core.display.HTML object>"
      ]
     },
     "metadata": {}
    },
    {
     "output_type": "display_data",
     "data": {
      "text/html": [
       "Find logs at: <code>./wandb/run-20220709_233638-v5jz4g84/logs</code>"
      ],
      "text/plain": [
       "<IPython.core.display.HTML object>"
      ]
     },
     "metadata": {}
    },
    {
     "output_type": "stream",
     "name": "stderr",
     "text": [
      "Run v5jz4g84 errored: NanError('cholesky_cpu: 441 of 441 elements of the torch.Size([21, 21]) tensor are NaN.')\n",
      "\u001b[34m\u001b[1mwandb\u001b[0m: \u001b[32m\u001b[41mERROR\u001b[0m Run v5jz4g84 errored: NanError('cholesky_cpu: 441 of 441 elements of the torch.Size([21, 21]) tensor are NaN.')\n",
      "\u001b[34m\u001b[1mwandb\u001b[0m: Agent Starting Run: f710grkp with config:\n",
      "\u001b[34m\u001b[1mwandb\u001b[0m: \tepochs: 5000\n",
      "\u001b[34m\u001b[1mwandb\u001b[0m: \tkernel: rbf\n",
      "\u001b[34m\u001b[1mwandb\u001b[0m: \tlr: 0.1\n",
      "\u001b[34m\u001b[1mwandb\u001b[0m: \tlscale_1: 0.1\n",
      "\u001b[34m\u001b[1mwandb\u001b[0m: \tlscale_2: 1\n",
      "\u001b[34m\u001b[1mwandb\u001b[0m: \tlscale_3: 1\n",
      "\u001b[34m\u001b[1mwandb\u001b[0m: \tlscale_4: 10\n",
      "\u001b[34m\u001b[1mwandb\u001b[0m: \tnoise: 5\n",
      "Failed to detect the name of this notebook, you can set it manually with the WANDB_NOTEBOOK_NAME environment variable to enable code saving.\n",
      "\u001b[34m\u001b[1mwandb\u001b[0m: \u001b[33mWARNING\u001b[0m Ignored wandb.init() arg project when running a sweep.\n"
     ]
    },
    {
     "output_type": "display_data",
     "data": {
      "text/html": [
       "Tracking run with wandb version 0.12.21"
      ],
      "text/plain": [
       "<IPython.core.display.HTML object>"
      ]
     },
     "metadata": {}
    },
    {
     "output_type": "display_data",
     "data": {
      "text/html": [
       "Run data is saved locally in <code>/Users/valenetjong/Bayesian-Optimization-Ferroelectrics/notebooks/wandb/run-20220709_233649-f710grkp</code>"
      ],
      "text/plain": [
       "<IPython.core.display.HTML object>"
      ]
     },
     "metadata": {}
    },
    {
     "output_type": "display_data",
     "data": {
      "text/html": [
       "Syncing run <strong><a href=\"https://wandb.ai/valenetjong/uncategorized/runs/f710grkp\" target=\"_blank\">kind-sweep-6</a></strong> to <a href=\"https://wandb.ai/valenetjong/uncategorized\" target=\"_blank\">Weights & Biases</a> (<a href=\"https://wandb.me/run\" target=\"_blank\">docs</a>)<br/>Sweep page:  <a href=\"https://wandb.ai/valenetjong/uncategorized/sweeps/swoc5kag\" target=\"_blank\">https://wandb.ai/valenetjong/uncategorized/sweeps/swoc5kag</a>"
      ],
      "text/plain": [
       "<IPython.core.display.HTML object>"
      ]
     },
     "metadata": {}
    },
    {
     "output_type": "stream",
     "name": "stdout",
     "text": [
      "Iter 1/5000 - Loss: 17.414  lengthscale1: [[ 0.1  1.   1.  10. ]]   noise: [5. 5. 5. 5. 5. 5. 5. 5. 5. 5. 5. 5. 5. 5. 5. 5. 5. 5. 5. 5. 5.]\n",
      "Iter 101/5000 - Loss: 4.139  lengthscale1: [[ 0.5467011  4.4380164  3.7381754 15.044779 ]]   noise: [5. 5. 5. 5. 5. 5. 5. 5. 5. 5. 5. 5. 5. 5. 5. 5. 5. 5. 5. 5. 5.]\n",
      "Iter 201/5000 - Loss: 3.760  lengthscale1: [[ 0.486264   4.1226206  3.4383743 16.938984 ]]   noise: [5. 5. 5. 5. 5. 5. 5. 5. 5. 5. 5. 5. 5. 5. 5. 5. 5. 5. 5. 5. 5.]\n",
      "Iter 301/5000 - Loss: 3.498  lengthscale1: [[ 0.40913862  3.2507417   0.10038917 18.060436  ]]   noise: [5. 5. 5. 5. 5. 5. 5. 5. 5. 5. 5. 5. 5. 5. 5. 5. 5. 5. 5. 5. 5.]\n",
      "Iter 401/5000 - Loss: 3.212  lengthscale1: [[ 0.3070284   3.6549156   0.06694297 19.293747  ]]   noise: [5. 5. 5. 5. 5. 5. 5. 5. 5. 5. 5. 5. 5. 5. 5. 5. 5. 5. 5. 5. 5.]\n",
      "Iter 501/5000 - Loss: 3.139  lengthscale1: [[ 0.2828053   3.5174773   0.06625411 20.048615  ]]   noise: [5. 5. 5. 5. 5. 5. 5. 5. 5. 5. 5. 5. 5. 5. 5. 5. 5. 5. 5. 5. 5.]\n",
      "Iter 601/5000 - Loss: 3.108  lengthscale1: [[ 0.27435222  3.336824    0.06736423 20.749937  ]]   noise: [5. 5. 5. 5. 5. 5. 5. 5. 5. 5. 5. 5. 5. 5. 5. 5. 5. 5. 5. 5. 5.]\n",
      "Iter 701/5000 - Loss: 3.086  lengthscale1: [[ 0.27012956  3.2163556   0.06816877 21.49082   ]]   noise: [5. 5. 5. 5. 5. 5. 5. 5. 5. 5. 5. 5. 5. 5. 5. 5. 5. 5. 5. 5. 5.]\n",
      "Iter 801/5000 - Loss: 3.067  lengthscale1: [[ 0.2676448   3.143096    0.06868816 22.276533  ]]   noise: [5. 5. 5. 5. 5. 5. 5. 5. 5. 5. 5. 5. 5. 5. 5. 5. 5. 5. 5. 5. 5.]\n",
      "Iter 901/5000 - Loss: 3.052  lengthscale1: [[ 0.26600105  3.0937164   0.06908658 23.100868  ]]   noise: [5. 5. 5. 5. 5. 5. 5. 5. 5. 5. 5. 5. 5. 5. 5. 5. 5. 5. 5. 5. 5.]\n",
      "Iter 1001/5000 - Loss: 3.038  lengthscale1: [[ 0.26481038  3.0563483   0.06944156 23.957537  ]]   noise: [5. 5. 5. 5. 5. 5. 5. 5. 5. 5. 5. 5. 5. 5. 5. 5. 5. 5. 5. 5. 5.]\n",
      "Iter 1101/5000 - Loss: 3.026  lengthscale1: [[ 0.26391137  3.0262468   0.06977895 24.841225  ]]   noise: [5. 5. 5. 5. 5. 5. 5. 5. 5. 5. 5. 5. 5. 5. 5. 5. 5. 5. 5. 5. 5.]\n",
      "Iter 1201/5000 - Loss: 3.016  lengthscale1: [[ 0.26323012  3.00137     0.0701057  25.747477  ]]   noise: [5. 5. 5. 5. 5. 5. 5. 5. 5. 5. 5. 5. 5. 5. 5. 5. 5. 5. 5. 5. 5.]\n",
      "Iter 1301/5000 - Loss: 3.007  lengthscale1: [[ 0.26272446  2.9806154   0.07042345 26.672617  ]]   noise: [5. 5. 5. 5. 5. 5. 5. 5. 5. 5. 5. 5. 5. 5. 5. 5. 5. 5. 5. 5. 5.]\n",
      "Iter 1401/5000 - Loss: 2.999  lengthscale1: [[ 0.26236552  2.9632673   0.07073213 27.613562  ]]   noise: [5. 5. 5. 5. 5. 5. 5. 5. 5. 5. 5. 5. 5. 5. 5. 5. 5. 5. 5. 5. 5.]\n",
      "Iter 1501/5000 - Loss: 2.992  lengthscale1: [[ 0.26213098  2.948796    0.07103138 28.5678    ]]   noise: [5. 5. 5. 5. 5. 5. 5. 5. 5. 5. 5. 5. 5. 5. 5. 5. 5. 5. 5. 5. 5.]\n",
      "Iter 1601/5000 - Loss: 2.985  lengthscale1: [[ 0.26200342  2.9367974   0.07132115 29.533304  ]]   noise: [5. 5. 5. 5. 5. 5. 5. 5. 5. 5. 5. 5. 5. 5. 5. 5. 5. 5. 5. 5. 5.]\n",
      "Iter 1701/5000 - Loss: 2.979  lengthscale1: [[ 0.26196748  2.9269478   0.07160128 30.508429  ]]   noise: [5. 5. 5. 5. 5. 5. 5. 5. 5. 5. 5. 5. 5. 5. 5. 5. 5. 5. 5. 5. 5.]\n",
      "Iter 1801/5000 - Loss: 2.974  lengthscale1: [[ 0.2620108   2.9189837   0.07187165 31.491869  ]]   noise: [5. 5. 5. 5. 5. 5. 5. 5. 5. 5. 5. 5. 5. 5. 5. 5. 5. 5. 5. 5. 5.]\n",
      "Iter 1901/5000 - Loss: 2.970  lengthscale1: [[ 0.2621231   2.9126844   0.07213243 32.482613  ]]   noise: [5. 5. 5. 5. 5. 5. 5. 5. 5. 5. 5. 5. 5. 5. 5. 5. 5. 5. 5. 5. 5.]\n",
      "Iter 2001/5000 - Loss: 2.965  lengthscale1: [[ 0.26229525  2.9078686   0.07238349 33.479862  ]]   noise: [5. 5. 5. 5. 5. 5. 5. 5. 5. 5. 5. 5. 5. 5. 5. 5. 5. 5. 5. 5. 5.]\n",
      "Iter 2101/5000 - Loss: 2.961  lengthscale1: [[ 0.26251936  2.904378    0.07262545 34.48303   ]]   noise: [5. 5. 5. 5. 5. 5. 5. 5. 5. 5. 5. 5. 5. 5. 5. 5. 5. 5. 5. 5. 5.]\n",
      "Iter 2201/5000 - Loss: 2.958  lengthscale1: [[ 0.26278865  2.9020767   0.07285807 35.491665  ]]   noise: [5. 5. 5. 5. 5. 5. 5. 5. 5. 5. 5. 5. 5. 5. 5. 5. 5. 5. 5. 5. 5.]\n",
      "Iter 2301/5000 - Loss: 2.955  lengthscale1: [[ 0.26309717  2.9008482   0.0730819  36.505463  ]]   noise: [5. 5. 5. 5. 5. 5. 5. 5. 5. 5. 5. 5. 5. 5. 5. 5. 5. 5. 5. 5. 5.]\n",
      "Iter 2401/5000 - Loss: 2.952  lengthscale1: [[ 0.26343977  2.9005888   0.07329711 37.52422   ]]   noise: [5. 5. 5. 5. 5. 5. 5. 5. 5. 5. 5. 5. 5. 5. 5. 5. 5. 5. 5. 5. 5.]\n",
      "Iter 2501/5000 - Loss: 2.949  lengthscale1: [[ 0.2638121   2.9012067   0.07350381 38.547817  ]]   noise: [5. 5. 5. 5. 5. 5. 5. 5. 5. 5. 5. 5. 5. 5. 5. 5. 5. 5. 5. 5. 5.]\n",
      "Iter 2601/5000 - Loss: 2.947  lengthscale1: [[ 0.26420945  2.9026175   0.07370269 39.576214  ]]   noise: [5. 5. 5. 5. 5. 5. 5. 5. 5. 5. 5. 5. 5. 5. 5. 5. 5. 5. 5. 5. 5.]\n",
      "Iter 2701/5000 - Loss: 2.945  lengthscale1: [[ 0.2646288   2.9047532   0.07389387 40.60941   ]]   noise: [5. 5. 5. 5. 5. 5. 5. 5. 5. 5. 5. 5. 5. 5. 5. 5. 5. 5. 5. 5. 5.]\n",
      "Iter 2801/5000 - Loss: 2.943  lengthscale1: [[ 0.26506642  2.907543    0.07407741 41.647476  ]]   noise: [5. 5. 5. 5. 5. 5. 5. 5. 5. 5. 5. 5. 5. 5. 5. 5. 5. 5. 5. 5. 5.]\n",
      "Iter 2901/5000 - Loss: 2.941  lengthscale1: [[ 0.26551938  2.9109254   0.07425422 42.690502  ]]   noise: [5. 5. 5. 5. 5. 5. 5. 5. 5. 5. 5. 5. 5. 5. 5. 5. 5. 5. 5. 5. 5.]\n",
      "Iter 3001/5000 - Loss: 2.939  lengthscale1: [[ 0.26598555  2.9148488   0.07442386 43.738605  ]]   noise: [5. 5. 5. 5. 5. 5. 5. 5. 5. 5. 5. 5. 5. 5. 5. 5. 5. 5. 5. 5. 5.]\n",
      "Iter 3101/5000 - Loss: 2.937  lengthscale1: [[ 0.26646152  2.9192557   0.07458714 44.791946  ]]   noise: [5. 5. 5. 5. 5. 5. 5. 5. 5. 5. 5. 5. 5. 5. 5. 5. 5. 5. 5. 5. 5.]\n",
      "Iter 3201/5000 - Loss: 2.936  lengthscale1: [[ 0.26694617  2.9241073   0.07474402 45.850674  ]]   noise: [5. 5. 5. 5. 5. 5. 5. 5. 5. 5. 5. 5. 5. 5. 5. 5. 5. 5. 5. 5. 5.]\n",
      "Iter 3301/5000 - Loss: 2.935  lengthscale1: [[ 0.26743686  2.9293504   0.07489496 46.91498   ]]   noise: [5. 5. 5. 5. 5. 5. 5. 5. 5. 5. 5. 5. 5. 5. 5. 5. 5. 5. 5. 5. 5.]\n",
      "Iter 3401/5000 - Loss: 2.933  lengthscale1: [[ 0.26793155  2.934949    0.07504002 47.985054  ]]   noise: [5. 5. 5. 5. 5. 5. 5. 5. 5. 5. 5. 5. 5. 5. 5. 5. 5. 5. 5. 5. 5.]\n",
      "Iter 3501/5000 - Loss: 2.932  lengthscale1: [[ 0.26842913  2.9408634   0.07517973 49.06108   ]]   noise: [5. 5. 5. 5. 5. 5. 5. 5. 5. 5. 5. 5. 5. 5. 5. 5. 5. 5. 5. 5. 5.]\n",
      "Iter 3601/5000 - Loss: 2.931  lengthscale1: [[ 0.2689277   2.9470556   0.07531413 50.143272  ]]   noise: [5. 5. 5. 5. 5. 5. 5. 5. 5. 5. 5. 5. 5. 5. 5. 5. 5. 5. 5. 5. 5.]\n",
      "Iter 3701/5000 - Loss: 2.930  lengthscale1: [[ 0.26942584  2.9534922   0.07544352 51.231823  ]]   noise: [5. 5. 5. 5. 5. 5. 5. 5. 5. 5. 5. 5. 5. 5. 5. 5. 5. 5. 5. 5. 5.]\n",
      "Iter 3801/5000 - Loss: 2.929  lengthscale1: [[ 0.2699221   2.9601395   0.07556798 52.326942  ]]   noise: [5. 5. 5. 5. 5. 5. 5. 5. 5. 5. 5. 5. 5. 5. 5. 5. 5. 5. 5. 5. 5.]\n",
      "Iter 3901/5000 - Loss: 2.929  lengthscale1: [[ 0.2704155   2.9669666   0.07568797 53.42883   ]]   noise: [5. 5. 5. 5. 5. 5. 5. 5. 5. 5. 5. 5. 5. 5. 5. 5. 5. 5. 5. 5. 5.]\n",
      "Iter 4001/5000 - Loss: 2.928  lengthscale1: [[ 0.27090484  2.9739442   0.07580328 54.537693  ]]   noise: [5. 5. 5. 5. 5. 5. 5. 5. 5. 5. 5. 5. 5. 5. 5. 5. 5. 5. 5. 5. 5.]\n",
      "Iter 4101/5000 - Loss: 2.927  lengthscale1: [[ 0.27138907  2.9810421   0.07591444 55.653717  ]]   noise: [5. 5. 5. 5. 5. 5. 5. 5. 5. 5. 5. 5. 5. 5. 5. 5. 5. 5. 5. 5. 5.]\n",
      "Iter 4201/5000 - Loss: 2.927  lengthscale1: [[ 0.27186683  2.9882333   0.07602137 56.777103  ]]   noise: [5. 5. 5. 5. 5. 5. 5. 5. 5. 5. 5. 5. 5. 5. 5. 5. 5. 5. 5. 5. 5.]\n",
      "Iter 4301/5000 - Loss: 2.926  lengthscale1: [[ 0.27233788  2.99549     0.07612434 57.908047  ]]   noise: [5. 5. 5. 5. 5. 5. 5. 5. 5. 5. 5. 5. 5. 5. 5. 5. 5. 5. 5. 5. 5.]\n",
      "Iter 4401/5000 - Loss: 2.925  lengthscale1: [[ 0.27280077  3.0027895   0.07622373 59.046722  ]]   noise: [5. 5. 5. 5. 5. 5. 5. 5. 5. 5. 5. 5. 5. 5. 5. 5. 5. 5. 5. 5. 5.]\n",
      "Iter 4501/5000 - Loss: 2.925  lengthscale1: [[ 0.273255    3.010103    0.07631899 60.193306  ]]   noise: [5. 5. 5. 5. 5. 5. 5. 5. 5. 5. 5. 5. 5. 5. 5. 5. 5. 5. 5. 5. 5.]\n",
      "Iter 4601/5000 - Loss: 2.924  lengthscale1: [[ 0.27369952  3.0174093   0.07641062 61.34798   ]]   noise: [5. 5. 5. 5. 5. 5. 5. 5. 5. 5. 5. 5. 5. 5. 5. 5. 5. 5. 5. 5. 5.]\n",
      "Iter 4701/5000 - Loss: 2.924  lengthscale1: [[ 0.27413446  3.0246847   0.07649905 62.510906  ]]   noise: [5. 5. 5. 5. 5. 5. 5. 5. 5. 5. 5. 5. 5. 5. 5. 5. 5. 5. 5. 5. 5.]\n",
      "Iter 4801/5000 - Loss: 2.924  lengthscale1: [[ 0.27455804  3.031904    0.07658422 63.682236  ]]   noise: [5. 5. 5. 5. 5. 5. 5. 5. 5. 5. 5. 5. 5. 5. 5. 5. 5. 5. 5. 5. 5.]\n",
      "Iter 4901/5000 - Loss: 2.923  lengthscale1: [[ 0.2749705   3.0390487   0.07666587 64.86213   ]]   noise: [5. 5. 5. 5. 5. 5. 5. 5. 5. 5. 5. 5. 5. 5. 5. 5. 5. 5. 5. 5. 5.]\n"
     ]
    },
    {
     "output_type": "display_data",
     "data": {
      "text/html": [
       "Waiting for W&B process to finish... <strong style=\"color:green\">(success).</strong>"
      ],
      "text/plain": [
       "<IPython.core.display.HTML object>"
      ]
     },
     "metadata": {}
    },
    {
     "output_type": "display_data",
     "data": {
      "text/html": [
       "<style>\n",
       "    table.wandb td:nth-child(1) { padding: 0 10px; text-align: left ; width: auto;} td:nth-child(2) {text-align: left ; width: 100%}\n",
       "    .wandb-row { display: flex; flex-direction: row; flex-wrap: wrap; justify-content: flex-start; width: 100% }\n",
       "    .wandb-col { display: flex; flex-direction: column; flex-basis: 100%; flex: 1; padding: 10px; }\n",
       "    </style>\n",
       "<div class=\"wandb-row\"><div class=\"wandb-col\"><h3>Run history:</h3><br/><table class=\"wandb\"><tr><td>train loss</td><td>█▆▄▂▂▂▂▂▂▁▁▁▁▁▁▁▁▁▁▁▁▁▁▁▁▁▁▁▁▁▁▁▁▁▁▁▁▁▁▁</td></tr></table><br/></div></div>"
      ],
      "text/plain": [
       "<IPython.core.display.HTML object>"
      ]
     },
     "metadata": {}
    },
    {
     "output_type": "display_data",
     "data": {
      "text/html": [
       "Synced <strong style=\"color:#cdcd00\">kind-sweep-6</strong>: <a href=\"https://wandb.ai/valenetjong/uncategorized/runs/f710grkp\" target=\"_blank\">https://wandb.ai/valenetjong/uncategorized/runs/f710grkp</a><br/>Synced 6 W&B file(s), 0 media file(s), 0 artifact file(s) and 0 other file(s)"
      ],
      "text/plain": [
       "<IPython.core.display.HTML object>"
      ]
     },
     "metadata": {}
    },
    {
     "output_type": "display_data",
     "data": {
      "text/html": [
       "Find logs at: <code>./wandb/run-20220709_233649-f710grkp/logs</code>"
      ],
      "text/plain": [
       "<IPython.core.display.HTML object>"
      ]
     },
     "metadata": {}
    },
    {
     "output_type": "stream",
     "name": "stderr",
     "text": [
      "\u001b[34m\u001b[1mwandb\u001b[0m: Agent Starting Run: zk5vfi4y with config:\n",
      "\u001b[34m\u001b[1mwandb\u001b[0m: \tepochs: 6000\n",
      "\u001b[34m\u001b[1mwandb\u001b[0m: \tkernel: rbf\n",
      "\u001b[34m\u001b[1mwandb\u001b[0m: \tlr: 0.01\n",
      "\u001b[34m\u001b[1mwandb\u001b[0m: \tlscale_1: 0.1\n",
      "\u001b[34m\u001b[1mwandb\u001b[0m: \tlscale_2: 10\n",
      "\u001b[34m\u001b[1mwandb\u001b[0m: \tlscale_3: 0.1\n",
      "\u001b[34m\u001b[1mwandb\u001b[0m: \tlscale_4: 0.1\n",
      "\u001b[34m\u001b[1mwandb\u001b[0m: \tnoise: 5\n",
      "Failed to detect the name of this notebook, you can set it manually with the WANDB_NOTEBOOK_NAME environment variable to enable code saving.\n",
      "\u001b[34m\u001b[1mwandb\u001b[0m: \u001b[33mWARNING\u001b[0m Ignored wandb.init() arg project when running a sweep.\n"
     ]
    }
   ],
   "metadata": {}
  },
  {
   "cell_type": "markdown",
   "source": [
    "# Make and plot predictions"
   ],
   "metadata": {}
  },
  {
   "cell_type": "code",
   "execution_count": 225,
   "source": [
    "# make predictions (whether by long or short form)\n",
    "model.eval()\n",
    "likelihood.eval()\n",
    "\n",
    "with torch.no_grad(), gpytorch.settings.fast_pred_var():\n",
    "    # also use mll from short form \n",
    "    obs = likelihood(model(test_x), noise=(torch.ones(len(test_x))*5))\n",
    "# print(f'train data: {fe_data[\"2Pr (uC/cm2), Pristine state\"][1]}')\n",
    "# print(f'observed: {obs.mean}')"
   ],
   "outputs": [],
   "metadata": {}
  },
  {
   "cell_type": "code",
   "execution_count": 19,
   "source": [
    "obs.covariance_matrix.shape"
   ],
   "outputs": [],
   "metadata": {}
  },
  {
   "cell_type": "markdown",
   "source": [
    "# Make predictions and plot the mean surface"
   ],
   "metadata": {}
  },
  {
   "cell_type": "code",
   "execution_count": 1,
   "source": [
    "# # non-log scale 3D plot\n",
    "\n",
    "# pred_labels = obs.mean.view(n, n)\n",
    "# # plot?...\n",
    "# import plotly.graph_objects as go\n",
    "# fig = go.Figure(data=[go.Surface(z=pred_labels.numpy().T, x=test_grid[:,0], y=test_grid[:,1], name='GP regression')])\n",
    "# fig.add_trace(go.Scatter3d(x=train_x[:,0].numpy(),y=train_x[:,1].numpy(),  \n",
    "#                         z=train_y.numpy(), mode='markers', marker={'color':'darkgreen'}, name='training data'))\n",
    "# fig.update_layout( width=1000, height=800,\n",
    "#                   legend=dict(orientation=\"h\", yanchor=\"top\", y=1.02, xanchor=\"left\",x=1),\n",
    "#                    margin=dict(r=20, l=10, b=10, t=10), \n",
    "#                     scene=dict(\n",
    "#                     xaxis_title=\"Flash voltage (kV)\",\n",
    "#                     yaxis_title=\"Flash time (msec)\",\n",
    "#                     zaxis_title='Pr (uC/cm^2), Pristine')\n",
    "#                 )\n",
    "# camera = dict(\n",
    "#     up=dict(x=0, y=0, z=1),\n",
    "#     center=dict(x=0, y=0, z=0),\n",
    "#     eye=dict(x=-2, y=-2.5, z=1.75)\n",
    "# )\n",
    "\n",
    "# fig.update_layout(scene_camera=camera)\n",
    "# fig.show()"
   ],
   "outputs": [],
   "metadata": {}
  },
  {
   "cell_type": "code",
   "execution_count": null,
   "source": [
    "# # log scale\n",
    "# pred_labels = obs.mean.view(n, n)\n",
    "# # plot?...\n",
    "# import plotly.graph_objects as go\n",
    "# fig = go.Figure(data=[go.Surface(z=pred_labels.numpy().T, x=test_grid[:,0], y=test_grid[:,1], name='GP regression')])\n",
    "# fig.add_trace(go.Scatter3d(x=train_x[:,0].numpy(),y=train_x[:,1].numpy(),  \n",
    "#                         z=train_y.numpy(), mode='markers', marker={'color':'darkgreen'}, name='trianing data'))\n",
    "# fig.update_layout( #width=1000, height=800,\n",
    "#                   legend=dict(orientation=\"h\", yanchor=\"top\", y=1.02, xanchor=\"left\",x=1),\n",
    "#                    margin=dict(r=20, l=10, b=10, t=10), \n",
    "#                     scene=dict(\n",
    "#                     xaxis_title=\"RTA temperature (C)\",\n",
    "#                     yaxis_title=\"RTA time (sec)\",\n",
    "#                     zaxis_title='2Pr (uC/cm2), Pristine')\n",
    "#                 )\n",
    "# fig.show()"
   ],
   "outputs": [],
   "metadata": {}
  },
  {
   "cell_type": "markdown",
   "source": [
    "# Evaluate acquisition functions\n",
    "This is a bit over-engineered at the moment, as it was built to allow use of the acquisition functions in bayesian optimization loops (botorch functionality).  The below cells should suffice to return the needed results.  "
   ],
   "metadata": {}
  },
  {
   "cell_type": "code",
   "execution_count": 1,
   "source": [
    "# Evaluate acquisition functions on current predictions (observations)\n",
    "bounds = [1,1,1,1]\n",
    "\n",
    "# Probability of Improvement\n",
    "PI_acq = PI(obs, bounds, train_y)\n",
    "PI_acq_shape = PI_acq.detach().numpy().reshape(30,30,30,30).T\n",
    "\n",
    "# Expected Improvement\n",
    "EI_acq = EI(obs, bounds, train_y)\n",
    "EI_acq_shape = EI_acq.detach().numpy().reshape(30,30,30,30).T\n",
    "\n",
    "# Custom Acquisition (something I was playing with)\n",
    "ca_acq = cust_acq(obs, bounds, train_y)\n",
    "ca_acq_shape = ca_acq.detach().numpy().reshape(30,30,30,30).T\n",
    "\n",
    "# Thompson Acquisition function\n",
    "th_acq = thompson(obs, bounds, train_y)\n",
    "th_acq_shape = th_acq.detach().numpy().reshape(30,30,30,30).T\n",
    "# fig = go.Figure(data=[go.Surface(z=acq, x=test_grid[:,0], y=test_grid[:,1])])\n"
   ],
   "outputs": [
    {
     "output_type": "error",
     "ename": "ModuleNotFoundError",
     "evalue": "No module named 'src'",
     "traceback": [
      "\u001b[0;31m---------------------------------------------------------------------------\u001b[0m",
      "\u001b[0;31mModuleNotFoundError\u001b[0m                       Traceback (most recent call last)",
      "Input \u001b[0;32mIn [1]\u001b[0m, in \u001b[0;36m<cell line: 3>\u001b[0;34m()\u001b[0m\n\u001b[1;32m      1\u001b[0m \u001b[38;5;66;03m# Evaluate acquisition functions on current predictions (observations)\u001b[39;00m\n\u001b[0;32m----> 3\u001b[0m \u001b[38;5;28;01mfrom\u001b[39;00m \u001b[38;5;21;01msrc\u001b[39;00m\u001b[38;5;21;01m.\u001b[39;00m\u001b[38;5;21;01macq_funcs\u001b[39;00m \u001b[38;5;28;01mimport\u001b[39;00m EI, PI, cust_acq, thompson\n\u001b[1;32m      4\u001b[0m bounds \u001b[38;5;241m=\u001b[39m [\u001b[38;5;241m1\u001b[39m,\u001b[38;5;241m1\u001b[39m,\u001b[38;5;241m1\u001b[39m,\u001b[38;5;241m1\u001b[39m]\n\u001b[1;32m      6\u001b[0m \u001b[38;5;66;03m# Probability of Improvement\u001b[39;00m\n",
      "\u001b[0;31mModuleNotFoundError\u001b[0m: No module named 'src'"
     ]
    }
   ],
   "metadata": {}
  },
  {
   "cell_type": "code",
   "execution_count": null,
   "source": [
    "ei = np.unravel_index(EI_acq_shape.argmax(), EI_acq_shape.shape)\n",
    "pi = np.unravel_index(PI_acq_shape.argmax(), PI_acq_shape.shape)\n",
    "ca = np.unravel_index(ca_acq_shape.argmax(), ca_acq_shape.shape)\n",
    "th = np.unravel_index(th_acq_shape.argmax(), th_acq_shape.shape)"
   ],
   "outputs": [],
   "metadata": {}
  },
  {
   "cell_type": "code",
   "execution_count": null,
   "source": [
    "# Plot the acquisition function results alongside the confidence bound surfaces\n",
    "pred_var = obs.variance.view(n, n).detach().numpy().T\n",
    "lower, upper = obs.confidence_region()\n",
    "upper_surf = upper.detach().numpy().reshape(30,30,30,30).T\n",
    "lower_surf = lower.detach().numpy().reshape(30,30,30,30).T\n",
    "\n",
    "ucb = np.unravel_index(upper_surf.argmax(), upper_surf.shape)\n",
    "max_var = np.unravel_index(pred_var.argmax(), pred_var.shape)\n",
    "ei = np.unravel_index(EI_acq_shape.argmax(), EI_acq_shape.shape)\n",
    "pi = np.unravel_index(PI_acq_shape.argmax(), PI_acq_shape.shape)"
   ],
   "outputs": [],
   "metadata": {}
  },
  {
   "cell_type": "code",
   "execution_count": null,
   "source": [
    "# plot?...\n",
    "import plotly.graph_objects as go\n",
    "fig = go.Figure(data=[go.Surface(z = upper_surf, x=test_grid[:,0], y=test_grid[:,1], opacity=0.5, showscale=False)])\n",
    "fig.add_trace(go.Surface(z = lower_surf, x=test_grid[:,0], y=test_grid[:,1], opacity=0.5, showscale=False))\n",
    "fig.add_trace(go.Scatter3d(x=train_x[:,0].numpy(), y=train_x[:,1].numpy(), \n",
    "                            z=train_y.numpy(), mode='markers', name='training data', marker={'color':'darkgreen'}))\n",
    "\n",
    "fig.add_trace(go.Scatter3d(x=test_grid[ucb[1], 0].numpy(), y=test_grid[ucb[0], 1].numpy(), \n",
    "                            z=[pred_labels[ucb[0], ucb[1]]], mode='markers', name='max(upper confidence bound)')) \n",
    "fig.add_trace(go.Scatter3d(x=test_grid[th[1], 0].numpy(), y=test_grid[th[0],1].numpy(), \n",
    "                            z=[pred_labels[th[0], th[1]].detach().numpy()], mode='markers', name='max(thompson)')) \n",
    "fig.add_trace(go.Scatter3d(x=test_grid[pi[1], 0].numpy(), y=test_grid[pi[0], 1].numpy(), z=[pred_labels[pi[0], pi[1]]], mode='markers', name='max(pi)'))\n",
    "\n",
    "fig.add_trace(go.Scatter3d(x=test_grid[ei[1], 0].numpy(), y=test_grid[ei[0], 1].numpy(), z=[pred_labels[ei\n",
    "[0], ei[1]]], mode='markers', name='max(ei)'))\n",
    "\n",
    "fig.add_trace(go.Scatter3d(x=test_grid[ca[1], 0].numpy(), y=test_grid[ca[0], 1].numpy(), z=[pred_labels[ca[0], ca[1]]], mode='markers', name='max(ca)'))\n",
    "\n",
    "\n",
    "fig.update_layout( width=800, height=600,\n",
    "                  margin=dict(r=20, l=10, b=10, t=10),\n",
    "                  legend=dict(orientation=\"h\", yanchor=\"bottom\", y=1.02, xanchor=\"right\",x=1),\n",
    "                  scene=dict(\n",
    "                    xaxis_title=\"Flash voltage (kV)\",\n",
    "                    yaxis_title=\"Flash time (msec)\",\n",
    "                    zaxis_title='Pr (uC/cm^2), Pristine')\n",
    "                  )\n",
    "fig.show()"
   ],
   "outputs": [],
   "metadata": {}
  },
  {
   "cell_type": "code",
   "execution_count": null,
   "source": [
    "# Simply print the locations of the suggested points\n",
    "print(test_grid[ei[1], 0], test_grid[ei[0], 1])\n",
    "print(test_grid[pi[1], 0], test_grid[pi[0], 1])\n",
    "print(test_grid[ca[1], 0], test_grid[ca[0], 1])\n",
    "print(test_grid[ucb[1], 0], test_grid[ucb[0], 1])\n",
    "print(test_grid[th[1], 0], test_grid[th[0], 1])\n",
    "print(test_grid[max_var[1], 0], test_grid[max_var[0], 1])"
   ],
   "outputs": [
    {
     "output_type": "stream",
     "name": "stdout",
     "text": [
      "tensor(415.0862) tensor(114.9384)\n",
      "tensor(415.0862) tensor(114.9384)\n",
      "tensor(453.8793) tensor(451.8842)\n",
      "tensor(402.1552) tensor(451.8842)\n",
      "tensor(712.5000) tensor(388.7069)\n",
      "tensor(647.8448) tensor(430.8251)\n"
     ]
    }
   ],
   "metadata": {}
  },
  {
   "cell_type": "code",
   "execution_count": null,
   "source": [
    "print(pred_labels[ei[0], ei[1]])\n",
    "print(pred_labels[pi[0], pi[1]])\n",
    "print(pred_labels[ca[0], ca[1]])\n",
    "print(pred_labels[ucb[0], ucb[1]])\n",
    "print(pred_labels[th[0], th[1]])\n",
    "print(pred_labels[max_var[0], max_var[1]])\n"
   ],
   "outputs": [
    {
     "output_type": "stream",
     "name": "stdout",
     "text": [
      "tensor(36.4777)\n",
      "tensor(36.4777)\n",
      "tensor(25.6007)\n",
      "tensor(23.9889)\n",
      "tensor(26.0637)\n",
      "tensor(26.0657)\n"
     ]
    }
   ],
   "metadata": {}
  },
  {
   "cell_type": "code",
   "execution_count": null,
   "source": [
    "# look at acq_func manifold\n",
    "fig = go.Figure(data=[go.Surface(z=EI_acq_shape, x=test_grid[:,0], y=test_grid[:,1])])\n",
    "fig.add_trace(go.Scatter3d(x=test_grid[pi[1], 0].numpy(), y=test_grid[pi[0], 1].numpy(), z=[PI_acq_shape[pi[0], pi[1]]], mode='markers', name='max(pi)'))\n",
    "fig.update_layout( width=1000, height=600,\n",
    "                  margin=dict(r=20, l=10, b=10, t=10),\n",
    "                  legend=dict(orientation=\"h\", yanchor=\"bottom\", y=1.02, xanchor=\"right\",x=1),\n",
    "                  scene=dict(\n",
    "                    xaxis_title=\"RTA temperature (C)\",\n",
    "                    yaxis_title=\"RTA time (sec)\",\n",
    "                    zaxis_title='Acquisition Function')\n",
    "                  )\n",
    "fig.show()"
   ],
   "outputs": [
    {
     "output_type": "display_data",
     "data": {
      "application/vnd.plotly.v1+json": {
       "config": {
        "plotlyServerURL": "https://plot.ly"
       },
       "data": [
        {
         "type": "surface",
         "x": [
          337.5,
          350.4310302734375,
          363.362060546875,
          376.2930908203125,
          389.22412109375,
          402.1551513671875,
          415.0862121582031,
          428.0172424316406,
          440.9482727050781,
          453.8793029785156,
          466.8103332519531,
          479.7413635253906,
          492.67242431640625,
          505.60345458984375,
          518.5344848632812,
          531.4655151367188,
          544.3965454101562,
          557.3275756835938,
          570.2586059570312,
          583.189697265625,
          596.1207275390625,
          609.0517578125,
          621.9827880859375,
          634.913818359375,
          647.8448486328125,
          660.77587890625,
          673.7069091796875,
          686.637939453125,
          699.5689697265625,
          712.5
         ],
         "y": [
          9.64285659790039,
          30.701967239379883,
          51.761077880859375,
          72.8201904296875,
          93.87930297851562,
          114.93841552734375,
          135.9975128173828,
          157.05662536621094,
          178.11573791503906,
          199.1748504638672,
          220.2339630126953,
          241.29306030273438,
          262.3521728515625,
          283.4112854003906,
          304.47039794921875,
          325.5295104980469,
          346.58868408203125,
          367.6477966308594,
          388.7069091796875,
          409.7659912109375,
          430.82513427734375,
          451.88421630859375,
          472.943359375,
          494.00244140625,
          515.0615844726562,
          536.1206665039062,
          557.1798095703125,
          578.2388916015625,
          599.2980346679688,
          620.3571166992188
         ],
         "z": [
          [
           5.98791137454337e-21,
           1.1800810318686408e-34,
           1.8404880251418502e-26,
           1.50443860586508e-13,
           0.0000028520742975970723,
           0.008320304431773527,
           0.1527305354077882,
           0.30745117613784967,
           0.3169770709515216,
           0.27412322319588256,
           0.2085029299566904,
           0.10587718213770553,
           0.02666363152131393,
           0.04023976565653081,
           0.20932890766746348,
           0.3579555492172888,
           0.32879033727958984,
           0.21109966242321077,
           0.0786443341323555,
           0.0063588827665169365,
           0.000020895523999418938,
           0.00007732751034397311,
           0.006859058283413967,
           0.03929801666884897,
           0.06590559674853369,
           0.05296146010427194,
           0.01596959539968909,
           0.0004547777207568396,
           0.0000016349522011495311,
           0.0003085591610479735
          ],
          [
           1.9030741633937426e-22,
           1.4178668354409343e-38,
           1.027862949742032e-26,
           1.1768077188731839e-12,
           0.000013164312194422791,
           0.02262011231092749,
           0.26581836255040736,
           0.40482920975057524,
           0.3518767201209262,
           0.27832479212435124,
           0.20695637248116783,
           0.10609074035050137,
           0.026619707922049013,
           0.03897241383748398,
           0.20713600951825817,
           0.3439001674611034,
           0.30316921640135686,
           0.19312160040874427,
           0.07230059948103024,
           0.005336112298221646,
           0.000010224830549326446,
           0.0000523436476027022,
           0.0064257381991536175,
           0.0386741505365997,
           0.06540587910648593,
           0.0522294161815724,
           0.015149630200780487,
           0.00033949427820696883,
           5.127184624976332e-7,
           0.00022162936280699418
          ],
          [
           1.6340273511041618e-22,
           2.523110351384863e-38,
           1.063023441713072e-23,
           1.588171571090131e-10,
           0.00016479509484730245,
           0.07355675285760477,
           0.45264111864489,
           0.5120103903300661,
           0.36997138767778637,
           0.2676862022548435,
           0.20043304100673498,
           0.1129675158023179,
           0.038347940752728266,
           0.0538713160126191,
           0.21261838694969326,
           0.31516043322853016,
           0.2579850703756398,
           0.16665895913775897,
           0.06762102430587513,
           0.006010652795365799,
           0.000028439600758370354,
           0.00010709398398160209,
           0.0073386545682380955,
           0.03990485703350366,
           0.06619253626134103,
           0.05311130036476536,
           0.016091546075005403,
           0.00047318329289800475,
           0.000001896905951006498,
           0.000322667462663964
          ],
          [
           4.207364258112789e-21,
           4.405312758506414e-34,
           4.2331203328010046e-19,
           4.1302821848133344e-8,
           0.0022302428880349133,
           0.21612836590178924,
           0.709627024079269,
           0.609085728393612,
           0.3613165656717059,
           0.2399701153537228,
           0.18845582384892823,
           0.1261044542992325,
           0.06622838976273593,
           0.09083415093950725,
           0.22835487436706114,
           0.27519434729225634,
           0.1977769580515435,
           0.13506440994730468,
           0.06552035169920312,
           0.008920538058016209,
           0.00020644157896554252,
           0.0004248649800423828,
           0.00985121296736402,
           0.04296096479142486,
           0.06820627596498119,
           0.05554910110684447,
           0.018867712857969038,
           0.0010414999439919154,
           0.00002532659551721827,
           0.0007796280113863199
          ],
          [
           1.2579122917039166e-18,
           6.755036550645245e-28,
           1.2542087674973901e-14,
           0.000004593509416928997,
           0.01754946199109833,
           0.4828593024586487,
           0.9879827567374224,
           0.6698081621945442,
           0.32024034047001904,
           0.196993330994905,
           0.1715895325087743,
           0.14354333029486377,
           0.1111157683626211,
           0.15015986768060186,
           0.25412678880724104,
           0.23187681307197894,
           0.13373109253149823,
           0.10396906753892188,
           0.06690255904862558,
           0.015436205273388265,
           0.0013755176086076588,
           0.0017712167789193725,
           0.014454299714539806,
           0.047716030727472714,
           0.07128202646709952,
           0.05937146083773703,
           0.023615374961274194,
           0.0026629550078449103,
           0.0002812463508791831,
           0.002186252337986236
          ],
          [
           1.065536310756151e-15,
           9.47375146659482e-22,
           5.0808880077564445e-11,
           0.00014993357198407348,
           0.07230043626671023,
           0.8083628057266101,
           1.208415752695646,
           0.6711417868443088,
           0.25021790793906573,
           0.14560310988320918,
           0.15162038306045933,
           0.16209732262368537,
           0.1658889835530648,
           0.22108963658281744,
           0.2861628383467214,
           0.1955134253152676,
           0.08103998030920279,
           0.07951448463509736,
           0.07256405288724777,
           0.02722797405183902,
           0.0058467306114431405,
           0.005782499533261161,
           0.02159381500653021,
           0.05390669319550745,
           0.07516082177820593,
           0.06429238485865485,
           0.030370614635252063,
           0.006371454094436464,
           0.001688638975968642,
           0.005603972817545072
          ],
          [
           7.661193096812508e-13,
           1.275618683696159e-16,
           2.4127552796506696e-8,
           0.0016933915509276705,
           0.17745028986349115,
           1.071327309986112,
           1.3023586477930964,
           0.6048779083425677,
           0.1666305762200576,
           0.0961992045710705,
           0.1312039608915101,
           0.1783677875209203,
           0.21916344726895853,
           0.2880998832359799,
           0.3182993967299732,
           0.17436384559977808,
           0.05035480987084398,
           0.06586650532020216,
           0.08299729956440371,
           0.045057433443029205,
           0.016331543073693708,
           0.014179508114991649,
           0.031315245826250754,
           0.06111550706500729,
           0.07951735908547247,
           0.06992721985644945,
           0.03890361327776998,
           0.013120192142617879,
           0.005927629918670574,
           0.012079351221725876
          ],
          [
           2.329080213756473e-10,
           1.0395736486378935e-12,
           0.0000019633841195163405,
           0.00868554750248414,
           0.30101933213671306,
           1.1851720993329737,
           1.2431055284883772,
           0.48560917360659406,
           0.09257076086042498,
           0.05821127260729203,
           0.113058806779055,
           0.18988076592587144,
           0.26143022192336973,
           0.3392783862128934,
           0.3444479401155338,
           0.17095781247061942,
           0.04172779765097051,
           0.0643229061438566,
           0.098056247577191,
           0.06784292534205,
           0.03343211920072184,
           0.0273524333940017,
           0.043068214114664716,
           0.06880414392608392,
           0.08400045886969365,
           0.07583400217965547,
           0.048663664231771986,
           0.02309068800726391,
           0.01419795647547957,
           0.02188629378489823
          ],
          [
           2.3687434774960216e-8,
           7.222796291471825e-10,
           0.00004262485457841455,
           0.025418586204868865,
           0.391977361594944,
           1.1284767983650243,
           1.052614286806544,
           0.3478921222058692,
           0.045122714886172366,
           0.03520346918149095,
           0.0991480556428157,
           0.19567734214271537,
           0.2879130597483913,
           0.36931673825453126,
           0.36059199669669195,
           0.1821293406575465,
           0.050976243198293414,
           0.07441375417699242,
           0.11665337735039027,
           0.09288569030783855,
           0.05500155198013623,
           0.04394481588767807,
           0.05580992174147942,
           0.07639390449375066,
           0.088281410691947,
           0.08157630641842983,
           0.058873580747637155,
           0.03547686895248481,
           0.026178359018936503,
           0.034253866066993655
          ],
          [
           8.482495504765655e-7,
           7.45414806482161e-8,
           0.00035679869991661096,
           0.04992021755615733,
           0.416729285827488,
           0.9337321742706012,
           0.7897124294246902,
           0.2290757349457112,
           0.02372048479022268,
           0.024642365888561862,
           0.09031629767234417,
           0.19619329230449067,
           0.2982963258951977,
           0.3785230948850308,
           0.3653629499968837,
           0.20150160091350244,
           0.07509489914398904,
           0.09434491031621806,
           0.13677990504105308,
           0.11694701970806626,
           0.07756452784066231,
           0.06162817340384641,
           0.06832444730139486,
           0.08336603022683015,
           0.09209725674447905,
           0.08678703361776746,
           0.06871560028443724,
           0.04885903937139602,
           0.040296061014284235,
           0.04773928475618883
          ],
          [
           0.000012801208209927762,
           0.0000019396928203733603,
           0.001522989771402878,
           0.07345420610608883,
           0.373243840905394,
           0.6674556141126728,
           0.5266118373484653,
           0.1485521092030408,
           0.017685480896515254,
           0.02235980849578678,
           0.08645625690923248,
           0.19270476246047286,
           0.2951712478693421,
           0.370607340733215,
           0.3595254796366576,
           0.2222183321595771,
           0.1089447674791384,
           0.12040113034172495,
           0.15595533367462566,
           0.1373155213921171,
           0.09794129171337251,
           0.07813194772527832,
           0.07955701521900466,
           0.08934237802907341,
           0.09527862715742119,
           0.09121499890491741,
           0.0775148113432102,
           0.061774029678099196,
           0.05463003341450379,
           0.06083047162151617
          ],
          [
           0.0001007302921392486,
           0.000019872272392713354,
           0.004098899922021469,
           0.08763064589894942,
           0.2860469750809145,
           0.40771163788006176,
           0.3196591759187871,
           0.10375212078316948,
           0.019666223310738695,
           0.025861602106802745,
           0.08689927088775579,
           0.18672066747984428,
           0.2824005234754644,
           0.35063509702811935,
           0.34509475614741625,
           0.23892263615575937,
           0.14471084088882136,
           0.1474806412760299,
           0.17188587018397317,
           0.1523680671347325,
           0.11410094086561706,
           0.09188336547657805,
           0.0888220326083396,
           0.09412415436610122,
           0.09775587811418407,
           0.09474172249693402,
           0.0848483485808254,
           0.0731239060665475,
           0.06762341433840297,
           0.07238042726739674
          ],
          [
           0.0005049337889352582,
           0.0001164115463394204,
           0.00827895215145847,
           0.09093343744302729,
           0.19176642294982316,
           0.21573879749955566,
           0.1885361608212498,
           0.08320712669190239,
           0.027319670935515517,
           0.0342367031540495,
           0.09072583055014682,
           0.1795552952328554,
           0.26389487900087716,
           0.3235987576375223,
           0.32455636534915744,
           0.24858321729346922,
           0.1753555711877326,
           0.1708194816342059,
           0.18299443250669312,
           0.1616250020408364,
           0.1252800822218958,
           0.10217245587312912,
           0.09585186507779597,
           0.09768489345505021,
           0.09954691618426398,
           0.0973694078894276,
           0.09056492809048616,
           0.0823256368744874,
           0.0783714306586773,
           0.0817715032495342
          ],
          [
           0.0019004653994959472,
           0.0005307755326323061,
           0.014700068557007229,
           0.08934700881049407,
           0.12079964836574203,
           0.10935229227856208,
           0.12034328772047959,
           0.07757746422438638,
           0.0400412434415901,
           0.04691094886701269,
           0.09693069793309084,
           0.17214284656199863,
           0.24291296173958543,
           0.293628897955003,
           0.3003502176864158,
           0.250352318562328,
           0.1968120162970709,
           0.18733968857515204,
           0.18864630453069875,
           0.16549962513369,
           0.13169791411261367,
           0.10901062418012442,
           0.10072708097446242,
           0.10013144966116072,
           0.10073276736120157,
           0.09919040024477627,
           0.09473721998764084,
           0.08926365301571143,
           0.08659173598822084,
           0.08886944175904232
          ],
          [
           0.0059835587989982425,
           0.0022754110085833855,
           0.026180293629857382,
           0.0924656302041803,
           0.08418298434795607,
           0.0661871662718897,
           0.09221438318559577,
           0.08186325234515035,
           0.057213067957462393,
           0.0629344880686088,
           0.10451430793969818,
           0.16503286292205177,
           0.22180058193299435,
           0.2637171601112206,
           0.2745895273243111,
           0.2449595648771623,
           0.20801393805771662,
           0.19596945828266454,
           0.18907847902260866,
           0.16494813710663347,
           0.13415479190593926,
           0.11286967561872507,
           0.10375402257822519,
           0.10165061363661587,
           0.1014285680135949,
           0.10034786212516084,
           0.09758183279873661,
           0.09414664308655019,
           0.09244506387547269,
           0.09387709784799159
          ],
          [
           0.016401257180464382,
           0.009163704734151887,
           0.049475183266161654,
           0.11010237734428119,
           0.07815949714115178,
           0.05794544053224435,
           0.08785979537288113,
           0.09391048288493747,
           0.07793105353429985,
           0.08098639367089933,
           0.11256443989748272,
           0.1584808535045069,
           0.20202569526050362,
           0.23576590516694063,
           0.2489477407506231,
           0.23402631001364693,
           0.2099816254174922,
           0.19724634578431144,
           0.18515266833431476,
           0.16114761509698605,
           0.13367579804065755,
           0.11442825774808751,
           0.10534004522896845,
           0.10245912687646197,
           0.10175898272036521,
           0.10100198462559656,
           0.0993797505487578,
           0.0973517576335623,
           0.0963319100524721,
           0.09717335005536443
          ],
          [
           0.038801868920026156,
           0.030669328512850424,
           0.09514189739561113,
           0.15154857783156078,
           0.09892394899034762,
           0.07121524661348339,
           0.09965520979486014,
           0.11279172438272522,
           0.10114818970927847,
           0.09967405456007256,
           0.12033138249240904,
           0.15256042403718795,
           0.1843569161264187,
           0.2107989102963551,
           0.224641337576011,
           0.21949058189759552,
           0.2048178341991308,
           0.1926705475181132,
           0.17805393188576446,
           0.15525915887051867,
           0.1312637681170432,
           0.11438399328822857,
           0.10589837090960252,
           0.10276568864654656,
           0.10183936174760516,
           0.10130325321073147,
           0.10041389538729228,
           0.09929944974353755,
           0.09872819735518967,
           0.09918451218865088
          ],
          [
           0.07791265042032192,
           0.07860833542579676,
           0.1722570457043603,
           0.22407071918241628,
           0.14775310574645972,
           0.10354433564768634,
           0.12468640955213872,
           0.1377595501627894,
           0.12578745729526852,
           0.11780051060004126,
           0.12727997967391058,
           0.14725603541934074,
           0.16907856889492767,
           0.189213036260781,
           0.20246776431319002,
           0.2032015245174078,
           0.19492740571099743,
           0.18410456912836815,
           0.16902239781985096,
           0.1482850581784414,
           0.12776463329156662,
           0.11334365337884234,
           0.10579022506472674,
           0.10274844143253181,
           0.10176564242490382,
           0.10137801048514322,
           0.10093146860611496,
           0.10037452444746858,
           0.1000803872576213,
           0.10030187652808753
          ],
          [
           0.13284660824024253,
           0.15563900817575987,
           0.2806849692491894,
           0.32906997468342347,
           0.2256985366491091,
           0.15456859621366037,
           0.16096492606293133,
           0.16759259448522779,
           0.150752417649761,
           0.13448318473990983,
           0.13310146828569436,
           0.14252478632828047,
           0.15617682225147056,
           0.1710043957360935,
           0.18286738289313242,
           0.18668277989832738,
           0.18251650489692828,
           0.17333908984437085,
           0.15916399033530282,
           0.1410066356348012,
           0.12381927600270548,
           0.11177879720738682,
           0.10529880731033187,
           0.10254557276324788,
           0.10161038966218766,
           0.10132273717440626,
           0.10112655815908994,
           0.10088764891039331,
           0.10075394768052892,
           0.10084237910630822
          ],
          [
           0.19554973122540287,
           0.25018320503637326,
           0.409242985124867,
           0.4598309333965793,
           0.32832709866320076,
           0.22081039454676443,
           0.2052078575121068,
           0.20028004476218264,
           0.1749215259000395,
           0.14915970822114066,
           0.13768824815454372,
           0.13832560160291396,
           0.14547746960906172,
           0.15594052046769735,
           0.16600004044851657,
           0.17103811860747964,
           0.1693387257124115,
           0.1618459534710096,
           0.14934770012568221,
           0.1339766391092856,
           0.11986943785161674,
           0.11002290213573795,
           0.10462800770163866,
           0.10225561330654603,
           0.10142389646386196,
           0.10120499694295282,
           0.10113933262112845,
           0.10106765887422264,
           0.10102002909017976,
           0.10103948299756904
          ],
          [
           0.25385850062068327,
           0.3428301324485765,
           0.5403919508156465,
           0.6031086748032123,
           0.4449405410783319,
           0.2942400520979854,
           0.25207973908133163,
           0.23303463473412322,
           0.1971734841304268,
           0.1615376021739604,
           0.1410840141609324,
           0.1346282043954251,
           0.13673511039069364,
           0.1436782209151728,
           0.15181941660812848,
           0.15695681779178905,
           0.1566229153884121,
           0.15068687859945795,
           0.1401766672622906,
           0.12754487949959215,
           0.11619018702527739,
           0.10829114441841459,
           0.10391238537863107,
           0.10194301541057399,
           0.10123778641794134,
           0.10106799322977422,
           0.10106298330364871,
           0.10106964542801866,
           0.10106382270643677,
           0.10105207861340187
          ],
          [
           0.2959815542771308,
           0.4144735220929413,
           0.6557248153634944,
           0.7424986161978481,
           0.5605917764446605,
           0.3632174128924097,
           0.29460603626633064,
           0.2626117641066327,
           0.21645801130110986,
           0.17152169685265262,
           0.1434244037470812,
           0.1314087196252307,
           0.1296843459063709,
           0.13383741884167955,
           0.1401428325251628,
           0.1447792573403176,
           0.14511658106239622,
           0.14052803907944922,
           0.13201020946757736,
           0.12189816019307287,
           0.11293028899021296,
           0.10670776135439464,
           0.10323247253733497,
           0.10164634336548861,
           0.10106953898094806,
           0.1009365207763343,
           0.10095451798043947,
           0.10099079345755879,
           0.10100214174937516,
           0.10097975603438203
          ],
          [
           0.3137794816357038,
           0.4508624245328331,
           0.7394052206685632,
           0.8615134326300804,
           0.6588966224168,
           0.4147010457238055,
           0.3254704041087456,
           0.28588909302254517,
           0.23191751540462757,
           0.17915469096905512,
           0.14488206489535427,
           0.12864083848954178,
           0.1240663887691319,
           0.12604361110134277,
           0.13070769183392061,
           0.1345852184064973,
           0.13518457583675814,
           0.13170978251576781,
           0.12501063621035535,
           0.11710337859146769,
           0.11014920694588992,
           0.1053329344327259,
           0.10263020547664098,
           0.10138489398394851,
           0.10092708920018739,
           0.10082263432680039,
           0.1008452437194382,
           0.10088681378093206,
           0.10090296360179424,
           0.10087983147514318
          ],
          [
           0.3044844118813006,
           0.4446112742790036,
           0.780170545469944,
           0.9460272761603497,
           0.7249242541833693,
           0.4370795036226419,
           0.3388326378205574,
           0.3005731997440566,
           0.24302261650713985,
           0.1845714790033781,
           0.14562626705048087,
           0.1262891592977864,
           0.1196411100587208,
           0.11994928321251241,
           0.12321687265356207,
           0.126282418692228,
           0.12692123214732653,
           0.12433600214354668,
           0.1191984083753691,
           0.1131457470550663,
           0.10784837508427025,
           0.10418420989415555,
           0.10212209207769318,
           0.1011662233057748,
           0.10081174530179754,
           0.10073023779471718,
           0.10074984130707837,
           0.10078652093936968,
           0.10080169114596887,
           0.10078198214199197
          ],
          [
           0.2713489518983637,
           0.3965941627739856,
           0.7730119245400965,
           0.9864906211132466,
           0.7481469697957944,
           0.4234240470820767,
           0.3322261378154897,
           0.3058158101443793,
           0.2496690856332039,
           0.18796686041079325,
           0.14579762793871454,
           0.12430471864685211,
           0.11619141014910761,
           0.11524360564581948,
           0.11736816517420312,
           0.11967902385719043,
           0.12024979403072267,
           0.11835642791939094,
           0.11450196049660288,
           0.10995955886761677,
           0.105994485287764,
           0.1032538610362978,
           0.10170891793686981,
           0.10099006698925078,
           0.10072179090599964,
           0.10065894775309064,
           0.10067338190973901,
           0.1007018969074634,
           0.10071414941131179,
           0.10069889596988885
          ],
          [
           0.22330138033904423,
           0.3174714310372908,
           0.7212074023957968,
           0.9802475582851361,
           0.7257856964770464,
           0.3751140085705772,
           0.3080563463743533,
           0.30253275175316974,
           0.2522016656616729,
           0.18957085012349983,
           0.14549807491869837,
           0.12262652292779996,
           0.1135246927213387,
           0.11165495754039856,
           0.11287518347852288,
           0.1145385995106909,
           0.11500004143408027,
           0.11363327094663689,
           0.11079812632827546,
           0.10745241398001992,
           0.10453526442265892,
           0.10251992436700891,
           0.101382790357738,
           0.10085255254816639,
           0.10065362882774598,
           0.10060591381133244,
           0.10061544053423793,
           0.10063602144894962,
           0.1006450539258475,
           0.10063405421735927
          ],
          [
           0.17292042219885584,
           0.2280433667283801,
           0.638230707666345,
           0.9336079978031879,
           0.6662260466077929,
           0.3050068503942549,
           0.27384057824379826,
           0.29323607353837733,
           0.251335011038739,
           0.1896297817597401,
           0.1447920623329746,
           0.12118510539729788,
           0.11147261973770972,
           0.1089507141342102,
           0.1094780562376213,
           0.11061560477717192,
           0.11096238415365944,
           0.10998888049531186,
           0.10794157924361358,
           0.10552113483579623,
           0.10341152714581925,
           0.10195443553889627,
           0.10113195088057042,
           0.10074790517518123,
           0.10060316659517499,
           0.10056767141353429,
           0.1005734017301822,
           0.10058751701952034,
           0.10059378013796622,
           0.10058614718493947
          ],
          [
           0.13232486669739624,
           0.15421979991715629,
           0.5472811937027092,
           0.8622928046401949,
           0.590355706666941,
           0.23674352506740526,
           0.24026377134385335,
           0.2813065372494197,
           0.24797690033338438,
           0.188382737880033,
           0.14371547311161448,
           0.11990900921464875,
           0.10989102091761704,
           0.10693485047946494,
           0.10694951089950178,
           0.10767762857635244,
           0.10792143138761068,
           0.10723689635156664,
           0.10578423575713031,
           0.10406352848178063,
           0.10256379039112284,
           0.10152804054895709,
           0.10094329680068803,
           0.10067007734799072,
           0.10056677618931081,
           0.1005407347997932,
           0.10054384607340328,
           0.10055312482754913,
           0.10055732663873246,
           0.10055230047215863
          ],
          [
           0.10862344489816556,
           0.11399369586956165,
           0.4741374848546407,
           0.7872923533844967,
           0.525593680508234,
           0.19491742537244572,
           0.21714049635227872,
           0.2699524655780575,
           0.24301242364701725,
           0.18604393088395277,
           0.1422857299418867,
           0.1187307498466541,
           0.1086590259526572,
           0.1054450879684598,
           0.10509590200158508,
           0.1055170729363541,
           0.1056761666907014,
           0.10520055283822949,
           0.10418721451126656,
           0.10298510925829718,
           0.10193693133753695,
           0.10121300804372313,
           0.10080442749632418,
           0.10061344139054934,
           0.10054102326330677,
           0.10052222811095657,
           0.10052373595762953,
           0.10052971033740671,
           0.10053240328557483,
           0.10052905519675526
          ],
          [
           0.1027899511677493,
           0.10885934495503174,
           0.4339025301930799,
           0.7253783239829703,
           0.49059799686764993,
           0.1902876836219819,
           0.20946985691766007,
           0.26125158797326586,
           0.2371175582742998,
           0.1827904665935456,
           0.14051413238082144,
           0.11759309125856188,
           0.10767848052150852,
           0.10434982345022775,
           0.10375705589148432,
           0.10395630799721312,
           0.1040499989231875,
           0.10372320680418384,
           0.10302809753879194,
           0.1022023792734219,
           0.10148224489328184,
           0.100984863725186,
           0.10070414526632526,
           0.10057293869591305,
           0.10052301607903524,
           0.10050983060701824,
           0.10051034521817265,
           0.10051404592978996,
           0.1005157453889885,
           0.10051362632656724
          ]
         ]
        },
        {
         "mode": "markers",
         "name": "max(pi)",
         "type": "scatter3d",
         "x": [
          402.1551513671875
         ],
         "y": [
          157.05662536621094
         ],
         "z": [
          0.49880605936050415
         ]
        }
       ],
       "layout": {
        "height": 600,
        "legend": {
         "orientation": "h",
         "x": 1,
         "xanchor": "right",
         "y": 1.02,
         "yanchor": "bottom"
        },
        "margin": {
         "b": 10,
         "l": 10,
         "r": 20,
         "t": 10
        },
        "scene": {
         "aspectmode": "auto",
         "aspectratio": {
          "x": 1,
          "y": 1,
          "z": 1
         },
         "camera": {
          "center": {
           "x": 0,
           "y": 0,
           "z": 0
          },
          "eye": {
           "x": 1.723086496666761,
           "y": 1.7230864966667612,
           "z": 1.723086496666761
          },
          "projection": {
           "type": "perspective"
          },
          "up": {
           "x": 0,
           "y": 0,
           "z": 1
          }
         },
         "xaxis": {
          "title": {
           "text": "RTA temperature (C)"
          },
          "type": "linear"
         },
         "yaxis": {
          "title": {
           "text": "RTA time (sec)"
          },
          "type": "linear"
         },
         "zaxis": {
          "title": {
           "text": "Acquisition Function"
          },
          "type": "linear"
         }
        },
        "template": {
         "data": {
          "bar": [
           {
            "error_x": {
             "color": "#2a3f5f"
            },
            "error_y": {
             "color": "#2a3f5f"
            },
            "marker": {
             "line": {
              "color": "#E5ECF6",
              "width": 0.5
             }
            },
            "type": "bar"
           }
          ],
          "barpolar": [
           {
            "marker": {
             "line": {
              "color": "#E5ECF6",
              "width": 0.5
             }
            },
            "type": "barpolar"
           }
          ],
          "carpet": [
           {
            "aaxis": {
             "endlinecolor": "#2a3f5f",
             "gridcolor": "white",
             "linecolor": "white",
             "minorgridcolor": "white",
             "startlinecolor": "#2a3f5f"
            },
            "baxis": {
             "endlinecolor": "#2a3f5f",
             "gridcolor": "white",
             "linecolor": "white",
             "minorgridcolor": "white",
             "startlinecolor": "#2a3f5f"
            },
            "type": "carpet"
           }
          ],
          "choropleth": [
           {
            "colorbar": {
             "outlinewidth": 0,
             "ticks": ""
            },
            "type": "choropleth"
           }
          ],
          "contour": [
           {
            "colorbar": {
             "outlinewidth": 0,
             "ticks": ""
            },
            "colorscale": [
             [
              0,
              "#0d0887"
             ],
             [
              0.1111111111111111,
              "#46039f"
             ],
             [
              0.2222222222222222,
              "#7201a8"
             ],
             [
              0.3333333333333333,
              "#9c179e"
             ],
             [
              0.4444444444444444,
              "#bd3786"
             ],
             [
              0.5555555555555556,
              "#d8576b"
             ],
             [
              0.6666666666666666,
              "#ed7953"
             ],
             [
              0.7777777777777778,
              "#fb9f3a"
             ],
             [
              0.8888888888888888,
              "#fdca26"
             ],
             [
              1,
              "#f0f921"
             ]
            ],
            "type": "contour"
           }
          ],
          "contourcarpet": [
           {
            "colorbar": {
             "outlinewidth": 0,
             "ticks": ""
            },
            "type": "contourcarpet"
           }
          ],
          "heatmap": [
           {
            "colorbar": {
             "outlinewidth": 0,
             "ticks": ""
            },
            "colorscale": [
             [
              0,
              "#0d0887"
             ],
             [
              0.1111111111111111,
              "#46039f"
             ],
             [
              0.2222222222222222,
              "#7201a8"
             ],
             [
              0.3333333333333333,
              "#9c179e"
             ],
             [
              0.4444444444444444,
              "#bd3786"
             ],
             [
              0.5555555555555556,
              "#d8576b"
             ],
             [
              0.6666666666666666,
              "#ed7953"
             ],
             [
              0.7777777777777778,
              "#fb9f3a"
             ],
             [
              0.8888888888888888,
              "#fdca26"
             ],
             [
              1,
              "#f0f921"
             ]
            ],
            "type": "heatmap"
           }
          ],
          "heatmapgl": [
           {
            "colorbar": {
             "outlinewidth": 0,
             "ticks": ""
            },
            "colorscale": [
             [
              0,
              "#0d0887"
             ],
             [
              0.1111111111111111,
              "#46039f"
             ],
             [
              0.2222222222222222,
              "#7201a8"
             ],
             [
              0.3333333333333333,
              "#9c179e"
             ],
             [
              0.4444444444444444,
              "#bd3786"
             ],
             [
              0.5555555555555556,
              "#d8576b"
             ],
             [
              0.6666666666666666,
              "#ed7953"
             ],
             [
              0.7777777777777778,
              "#fb9f3a"
             ],
             [
              0.8888888888888888,
              "#fdca26"
             ],
             [
              1,
              "#f0f921"
             ]
            ],
            "type": "heatmapgl"
           }
          ],
          "histogram": [
           {
            "marker": {
             "colorbar": {
              "outlinewidth": 0,
              "ticks": ""
             }
            },
            "type": "histogram"
           }
          ],
          "histogram2d": [
           {
            "colorbar": {
             "outlinewidth": 0,
             "ticks": ""
            },
            "colorscale": [
             [
              0,
              "#0d0887"
             ],
             [
              0.1111111111111111,
              "#46039f"
             ],
             [
              0.2222222222222222,
              "#7201a8"
             ],
             [
              0.3333333333333333,
              "#9c179e"
             ],
             [
              0.4444444444444444,
              "#bd3786"
             ],
             [
              0.5555555555555556,
              "#d8576b"
             ],
             [
              0.6666666666666666,
              "#ed7953"
             ],
             [
              0.7777777777777778,
              "#fb9f3a"
             ],
             [
              0.8888888888888888,
              "#fdca26"
             ],
             [
              1,
              "#f0f921"
             ]
            ],
            "type": "histogram2d"
           }
          ],
          "histogram2dcontour": [
           {
            "colorbar": {
             "outlinewidth": 0,
             "ticks": ""
            },
            "colorscale": [
             [
              0,
              "#0d0887"
             ],
             [
              0.1111111111111111,
              "#46039f"
             ],
             [
              0.2222222222222222,
              "#7201a8"
             ],
             [
              0.3333333333333333,
              "#9c179e"
             ],
             [
              0.4444444444444444,
              "#bd3786"
             ],
             [
              0.5555555555555556,
              "#d8576b"
             ],
             [
              0.6666666666666666,
              "#ed7953"
             ],
             [
              0.7777777777777778,
              "#fb9f3a"
             ],
             [
              0.8888888888888888,
              "#fdca26"
             ],
             [
              1,
              "#f0f921"
             ]
            ],
            "type": "histogram2dcontour"
           }
          ],
          "mesh3d": [
           {
            "colorbar": {
             "outlinewidth": 0,
             "ticks": ""
            },
            "type": "mesh3d"
           }
          ],
          "parcoords": [
           {
            "line": {
             "colorbar": {
              "outlinewidth": 0,
              "ticks": ""
             }
            },
            "type": "parcoords"
           }
          ],
          "pie": [
           {
            "automargin": true,
            "type": "pie"
           }
          ],
          "scatter": [
           {
            "marker": {
             "colorbar": {
              "outlinewidth": 0,
              "ticks": ""
             }
            },
            "type": "scatter"
           }
          ],
          "scatter3d": [
           {
            "line": {
             "colorbar": {
              "outlinewidth": 0,
              "ticks": ""
             }
            },
            "marker": {
             "colorbar": {
              "outlinewidth": 0,
              "ticks": ""
             }
            },
            "type": "scatter3d"
           }
          ],
          "scattercarpet": [
           {
            "marker": {
             "colorbar": {
              "outlinewidth": 0,
              "ticks": ""
             }
            },
            "type": "scattercarpet"
           }
          ],
          "scattergeo": [
           {
            "marker": {
             "colorbar": {
              "outlinewidth": 0,
              "ticks": ""
             }
            },
            "type": "scattergeo"
           }
          ],
          "scattergl": [
           {
            "marker": {
             "colorbar": {
              "outlinewidth": 0,
              "ticks": ""
             }
            },
            "type": "scattergl"
           }
          ],
          "scattermapbox": [
           {
            "marker": {
             "colorbar": {
              "outlinewidth": 0,
              "ticks": ""
             }
            },
            "type": "scattermapbox"
           }
          ],
          "scatterpolar": [
           {
            "marker": {
             "colorbar": {
              "outlinewidth": 0,
              "ticks": ""
             }
            },
            "type": "scatterpolar"
           }
          ],
          "scatterpolargl": [
           {
            "marker": {
             "colorbar": {
              "outlinewidth": 0,
              "ticks": ""
             }
            },
            "type": "scatterpolargl"
           }
          ],
          "scatterternary": [
           {
            "marker": {
             "colorbar": {
              "outlinewidth": 0,
              "ticks": ""
             }
            },
            "type": "scatterternary"
           }
          ],
          "surface": [
           {
            "colorbar": {
             "outlinewidth": 0,
             "ticks": ""
            },
            "colorscale": [
             [
              0,
              "#0d0887"
             ],
             [
              0.1111111111111111,
              "#46039f"
             ],
             [
              0.2222222222222222,
              "#7201a8"
             ],
             [
              0.3333333333333333,
              "#9c179e"
             ],
             [
              0.4444444444444444,
              "#bd3786"
             ],
             [
              0.5555555555555556,
              "#d8576b"
             ],
             [
              0.6666666666666666,
              "#ed7953"
             ],
             [
              0.7777777777777778,
              "#fb9f3a"
             ],
             [
              0.8888888888888888,
              "#fdca26"
             ],
             [
              1,
              "#f0f921"
             ]
            ],
            "type": "surface"
           }
          ],
          "table": [
           {
            "cells": {
             "fill": {
              "color": "#EBF0F8"
             },
             "line": {
              "color": "white"
             }
            },
            "header": {
             "fill": {
              "color": "#C8D4E3"
             },
             "line": {
              "color": "white"
             }
            },
            "type": "table"
           }
          ]
         },
         "layout": {
          "annotationdefaults": {
           "arrowcolor": "#2a3f5f",
           "arrowhead": 0,
           "arrowwidth": 1
          },
          "autotypenumbers": "strict",
          "coloraxis": {
           "colorbar": {
            "outlinewidth": 0,
            "ticks": ""
           }
          },
          "colorscale": {
           "diverging": [
            [
             0,
             "#8e0152"
            ],
            [
             0.1,
             "#c51b7d"
            ],
            [
             0.2,
             "#de77ae"
            ],
            [
             0.3,
             "#f1b6da"
            ],
            [
             0.4,
             "#fde0ef"
            ],
            [
             0.5,
             "#f7f7f7"
            ],
            [
             0.6,
             "#e6f5d0"
            ],
            [
             0.7,
             "#b8e186"
            ],
            [
             0.8,
             "#7fbc41"
            ],
            [
             0.9,
             "#4d9221"
            ],
            [
             1,
             "#276419"
            ]
           ],
           "sequential": [
            [
             0,
             "#0d0887"
            ],
            [
             0.1111111111111111,
             "#46039f"
            ],
            [
             0.2222222222222222,
             "#7201a8"
            ],
            [
             0.3333333333333333,
             "#9c179e"
            ],
            [
             0.4444444444444444,
             "#bd3786"
            ],
            [
             0.5555555555555556,
             "#d8576b"
            ],
            [
             0.6666666666666666,
             "#ed7953"
            ],
            [
             0.7777777777777778,
             "#fb9f3a"
            ],
            [
             0.8888888888888888,
             "#fdca26"
            ],
            [
             1,
             "#f0f921"
            ]
           ],
           "sequentialminus": [
            [
             0,
             "#0d0887"
            ],
            [
             0.1111111111111111,
             "#46039f"
            ],
            [
             0.2222222222222222,
             "#7201a8"
            ],
            [
             0.3333333333333333,
             "#9c179e"
            ],
            [
             0.4444444444444444,
             "#bd3786"
            ],
            [
             0.5555555555555556,
             "#d8576b"
            ],
            [
             0.6666666666666666,
             "#ed7953"
            ],
            [
             0.7777777777777778,
             "#fb9f3a"
            ],
            [
             0.8888888888888888,
             "#fdca26"
            ],
            [
             1,
             "#f0f921"
            ]
           ]
          },
          "colorway": [
           "#636efa",
           "#EF553B",
           "#00cc96",
           "#ab63fa",
           "#FFA15A",
           "#19d3f3",
           "#FF6692",
           "#B6E880",
           "#FF97FF",
           "#FECB52"
          ],
          "font": {
           "color": "#2a3f5f"
          },
          "geo": {
           "bgcolor": "white",
           "lakecolor": "white",
           "landcolor": "#E5ECF6",
           "showlakes": true,
           "showland": true,
           "subunitcolor": "white"
          },
          "hoverlabel": {
           "align": "left"
          },
          "hovermode": "closest",
          "mapbox": {
           "style": "light"
          },
          "paper_bgcolor": "white",
          "plot_bgcolor": "#E5ECF6",
          "polar": {
           "angularaxis": {
            "gridcolor": "white",
            "linecolor": "white",
            "ticks": ""
           },
           "bgcolor": "#E5ECF6",
           "radialaxis": {
            "gridcolor": "white",
            "linecolor": "white",
            "ticks": ""
           }
          },
          "scene": {
           "xaxis": {
            "backgroundcolor": "#E5ECF6",
            "gridcolor": "white",
            "gridwidth": 2,
            "linecolor": "white",
            "showbackground": true,
            "ticks": "",
            "zerolinecolor": "white"
           },
           "yaxis": {
            "backgroundcolor": "#E5ECF6",
            "gridcolor": "white",
            "gridwidth": 2,
            "linecolor": "white",
            "showbackground": true,
            "ticks": "",
            "zerolinecolor": "white"
           },
           "zaxis": {
            "backgroundcolor": "#E5ECF6",
            "gridcolor": "white",
            "gridwidth": 2,
            "linecolor": "white",
            "showbackground": true,
            "ticks": "",
            "zerolinecolor": "white"
           }
          },
          "shapedefaults": {
           "line": {
            "color": "#2a3f5f"
           }
          },
          "ternary": {
           "aaxis": {
            "gridcolor": "white",
            "linecolor": "white",
            "ticks": ""
           },
           "baxis": {
            "gridcolor": "white",
            "linecolor": "white",
            "ticks": ""
           },
           "bgcolor": "#E5ECF6",
           "caxis": {
            "gridcolor": "white",
            "linecolor": "white",
            "ticks": ""
           }
          },
          "title": {
           "x": 0.05
          },
          "xaxis": {
           "automargin": true,
           "gridcolor": "white",
           "linecolor": "white",
           "ticks": "",
           "title": {
            "standoff": 15
           },
           "zerolinecolor": "white",
           "zerolinewidth": 2
          },
          "yaxis": {
           "automargin": true,
           "gridcolor": "white",
           "linecolor": "white",
           "ticks": "",
           "title": {
            "standoff": 15
           },
           "zerolinecolor": "white",
           "zerolinewidth": 2
          }
         }
        },
        "width": 1000
       }
      },
      "image/png": "[encoded data removed]"
     },
     "metadata": {}
    }
   ],
   "metadata": {}
  },
  {
   "cell_type": "code",
   "execution_count": null,
   "source": [
    "# look at acq_func manifold\n",
    "fig = go.Figure(data=[go.Surface(z=pred_var, x=test_grid[:,0], y=test_grid[:,1])])\n",
    "fig.add_trace(go.Scatter3d(x=test_grid[pi[1], 0].numpy(), y=test_grid[pi[0], 1].numpy(), z=[PI_acq_shape[pi[0], pi[1]]], mode='markers', name='max(pi)'))\n",
    "fig.update_layout( width=1000, height=600,\n",
    "                  margin=dict(r=20, l=10, b=10, t=10),\n",
    "                  legend=dict(orientation=\"h\", yanchor=\"bottom\", y=1.02, xanchor=\"right\",x=1),\n",
    "                  scene=dict(\n",
    "                    xaxis_title=\"RTA temperature (C)\",\n",
    "                    yaxis_title=\"RTA time (sec)\",\n",
    "                    zaxis_title='Acquisition Function')\n",
    "                  )\n",
    "fig.show()"
   ],
   "outputs": [
    {
     "output_type": "display_data",
     "data": {
      "application/vnd.plotly.v1+json": {
       "config": {
        "plotlyServerURL": "https://plot.ly"
       },
       "data": [
        {
         "type": "surface",
         "x": [
          337.5,
          350.4310302734375,
          363.362060546875,
          376.2930908203125,
          389.22412109375,
          402.1551513671875,
          415.0862121582031,
          428.0172424316406,
          440.9482727050781,
          453.8793029785156,
          466.8103332519531,
          479.7413635253906,
          492.67242431640625,
          505.60345458984375,
          518.5344848632812,
          531.4655151367188,
          544.3965454101562,
          557.3275756835938,
          570.2586059570312,
          583.189697265625,
          596.1207275390625,
          609.0517578125,
          621.9827880859375,
          634.913818359375,
          647.8448486328125,
          660.77587890625,
          673.7069091796875,
          686.637939453125,
          699.5689697265625,
          712.5
         ],
         "y": [
          9.64285659790039,
          30.701967239379883,
          51.761077880859375,
          72.8201904296875,
          93.87930297851562,
          114.93841552734375,
          135.9975128173828,
          157.05662536621094,
          178.11573791503906,
          199.1748504638672,
          220.2339630126953,
          241.29306030273438,
          262.3521728515625,
          283.4112854003906,
          304.47039794921875,
          325.5295104980469,
          346.58868408203125,
          367.6477966308594,
          388.7069091796875,
          409.7659912109375,
          430.82513427734375,
          451.88421630859375,
          472.943359375,
          494.00244140625,
          515.0615844726562,
          536.1206665039062,
          557.1798095703125,
          578.2388916015625,
          599.2980346679688,
          620.3571166992188
         ],
         "z": [
          [
           14.069831848144531,
           5.071098327636719,
           4.1682281494140625,
           4.735038757324219,
           4.741279602050781,
           6.541938781738281,
           16.788711547851562,
           36.6161994934082,
           55.24470520019531,
           61.6597785949707,
           52.16801071166992,
           30.54629135131836,
           10.89263916015625,
           9.627189636230469,
           26.754669189453125,
           46.537532806396484,
           57.38640213012695,
           57.350955963134766,
           45.43796920776367,
           24.35100555419922,
           8.518577575683594,
           12.954620361328125,
           34.44646072387695,
           56.115665435791016,
           65.96756744384766,
           61.076107025146484,
           42.670040130615234,
           19.16039276123047,
           7.458778381347656,
           17.827980041503906
          ],
          [
           10.891807556152344,
           2.3962478637695312,
           2.3756942749023438,
           3.1703872680664062,
           2.5435562133789062,
           3.4759902954101562,
           13.397804260253906,
           33.46086120605469,
           52.47063446044922,
           59.34870910644531,
           50.22599411010742,
           28.507465362548828,
           8.436302185058594,
           6.68731689453125,
           22.78036880493164,
           40.79729080200195,
           50.563568115234375,
           51.41496276855469,
           41.3769416809082,
           21.382469177246094,
           5.7383270263671875,
           10.494346618652344,
           32.81298828125,
           55.32229232788086,
           65.56050109863281,
           60.47199249267578,
           41.32915496826172,
           16.87900161743164,
           4.708946228027344,
           15.492820739746094
          ],
          [
           9.752830505371094,
           1.8592910766601562,
           3.0124588012695312,
           4.208198547363281,
           2.6748428344726562,
           2.535614013671875,
           11.884811401367188,
           31.174209594726562,
           49.34086990356445,
           56.57929992675781,
           49.32810974121094,
           29.95798110961914,
           11.351577758789062,
           8.882171630859375,
           21.498035430908203,
           34.79198455810547,
           41.899681091308594,
           44.18034362792969,
           38.266849517822266,
           22.199607849121094,
           8.592041015625,
           13.42852783203125,
           34.754234313964844,
           56.24785614013672,
           66.02799224853516,
           61.160884857177734,
           42.85732650756836,
           19.47881317138672,
           7.842803955078125,
           18.15384292602539
          ],
          [
           9.748580932617188,
           2.21929931640625,
           4.6785888671875,
           6.4470367431640625,
           3.8373794555664062,
           2.5986557006835938,
           11.29815673828125,
           28.899810791015625,
           45.058448791503906,
           52.65058898925781,
           48.837501525878906,
           34.17236328125,
           18.745620727539062,
           15.329097747802734,
           22.36223602294922,
           28.484634399414062,
           31.69131851196289,
           35.88424301147461,
           35.975730895996094,
           26.25000762939453,
           16.296321868896484,
           21.03531265258789,
           39.80242919921875,
           58.670143127441406,
           67.25786590576172,
           62.97762680053711,
           46.88749694824219,
           26.336368560791016,
           16.10763168334961,
           25.171642303466797
          ],
          [
           10.308395385742188,
           2.7647781372070312,
           6.449195861816406,
           8.881294250488281,
           5.20367431640625,
           2.9833602905273438,
           10.908660888671875,
           25.884418487548828,
           38.966697692871094,
           46.949012756347656,
           47.90902328491211,
           39.764923095703125,
           28.742630004882812,
           24.284358978271484,
           24.559349060058594,
           22.268203735351562,
           21.018962860107422,
           27.372180938720703,
           34.41060256958008,
           32.36040115356445,
           27.03011703491211,
           31.57525634765625,
           46.8114013671875,
           62.040077209472656,
           68.97144317626953,
           65.51045227050781,
           52.50630187988281,
           35.897396087646484,
           27.630325317382812,
           34.95576477050781
          ],
          [
           11.493186950683594,
           3.6688079833984375,
           8.286064147949219,
           11.314971923828125,
           6.7545166015625,
           3.728912353515625,
           10.529708862304688,
           21.88304901123047,
           30.994667053222656,
           39.374515533447266,
           45.9283447265625,
           45.25892639160156,
           39.211647033691406,
           33.861671447753906,
           27.4837646484375,
           17.119426727294922,
           11.70465087890625,
           20.084911346435547,
           33.728092193603516,
           39.241188049316406,
           38.625396728515625,
           42.935203552246094,
           54.37824249267578,
           65.68345642089844,
           70.82593536376953,
           68.2527084350586,
           58.590179443359375,
           46.249176025390625,
           40.10680389404297,
           45.54975128173828
          ],
          [
           13.719314575195312,
           5.617156982421875,
           10.731719970703125,
           14.10842514038086,
           8.933448791503906,
           5.235557556152344,
           10.372177124023438,
           17.285663604736328,
           21.931034088134766,
           30.6558837890625,
           42.89794921875,
           49.645225524902344,
           48.48332977294922,
           42.66794967651367,
           30.991363525390625,
           14.380905151367188,
           5.839241027832031,
           15.689990997314453,
           34.33998107910156,
           45.92445755004883,
           49.26953887939453,
           53.30723190307617,
           61.29339599609375,
           69.01708221435547,
           72.52433776855469,
           70.76521301269531,
           64.16441345214844,
           55.734230041503906,
           51.538028717041016,
           55.25628662109375
          ],
          [
           17.094745635986328,
           8.953025817871094,
           14.115482330322266,
           17.470870971679688,
           11.899078369140625,
           7.5648193359375,
           10.592636108398438,
           12.911361694335938,
           13.334724426269531,
           22.33395767211914,
           39.54597091674805,
           52.664955139160156,
           55.736778259277344,
           50.06943893432617,
           35.291168212890625,
           15.218040466308594,
           5.02783203125,
           15.46994400024414,
           36.683929443359375,
           51.933258056640625,
           57.913856506347656,
           61.610328674316406,
           66.8250732421875,
           71.68634033203125,
           73.88554382324219,
           72.7797622680664,
           68.63408660888672,
           63.339561462402344,
           60.70436477661133,
           63.03949737548828
          ],
          [
           20.901187896728516,
           12.997978210449219,
           17.895267486572266,
           20.881916046142578,
           15.005180358886719,
           10.016098022460938,
           10.959526062011719,
           9.631240844726562,
           7.065147399902344,
           16.33167266845703,
           37.06937789916992,
           54.7181396484375,
           60.961246490478516,
           56.059688568115234,
           40.59772872924805,
           20.040958404541016,
           9.721298217773438,
           19.77019500732422,
           40.90604782104492,
           57.17822265625,
           64.29318237304688,
           67.54750061035156,
           70.7643051147461,
           73.58805084228516,
           74.85629272460938,
           74.21715545654297,
           71.82337188720703,
           68.76631927490234,
           67.24468994140625,
           68.59303283691406
          ],
          [
           23.70614242553711,
           16.146709442138672,
           20.685802459716797,
           23.126583099365234,
           16.95688247680664,
           11.378120422363281,
           10.948738098144531,
           8.058502197265625,
           4.624794006347656,
           14.26226806640625,
           36.62360382080078,
           56.503990173339844,
           64.62979125976562,
           60.92363357543945,
           46.813804626464844,
           28.235519409179688,
           18.998512268066406,
           27.81354522705078,
           46.6700439453125,
           61.7307014465332,
           68.67631530761719,
           71.38935852050781,
           73.28699493408203,
           74.80514526367188,
           75.4781494140625,
           75.13849639892578,
           73.8676986694336,
           72.24490356445312,
           71.43714904785156,
           72.15290069580078
          ],
          [
           24.135997772216797,
           16.756656646728516,
           21.028919219970703,
           22.9683837890625,
           16.571216583251953,
           10.71270751953125,
           10.209846496582031,
           8.452491760253906,
           6.625053405761719,
           16.800872802734375,
           38.81715393066406,
           58.61473083496094,
           67.31968688964844,
           64.9398193359375,
           53.45335388183594,
           38.36226272583008,
           30.919544219970703,
           37.98634338378906,
           53.218894958496094,
           65.64404296875,
           71.54938507080078,
           73.6658935546875,
           74.75017547607422,
           75.5091552734375,
           75.83811950683594,
           75.67216491699219,
           75.05193328857422,
           74.25991821289062,
           73.86572265625,
           74.21504211425781
          ],
          [
           21.815845489501953,
           14.269180297851562,
           18.39547348022461,
           20.000667572021484,
           13.598777770996094,
           8.086280822753906,
           9.011100769042969,
           10.8065185546875,
           12.623985290527344,
           23.437515258789062,
           43.466278076171875,
           61.28289031982422,
           69.46009826660156,
           68.25179290771484,
           59.8179817199707,
           48.695892333984375,
           43.246429443359375,
           48.43267059326172,
           59.642578125,
           68.90206909179688,
           73.38481903076172,
           74.9175796508789,
           75.52347564697266,
           75.8787841796875,
           76.02714538574219,
           75.9526138305664,
           75.67430877685547,
           75.31893920898438,
           75.14205932617188,
           75.29878997802734
          ],
          [
           17.833072662353516,
           9.790473937988281,
           13.737495422363281,
           15.10269546508789,
           9.052970886230469,
           4.722801208496094,
           8.292404174804688,
           14.981842041015625,
           21.383075714111328,
           32.72356414794922,
           49.71245574951172,
           64.361572265625,
           71.26042938232422,
           70.89421844482422,
           65.27749633789062,
           57.801753997802734,
           54.15721893310547,
           57.64558029174805,
           65.1874771118164,
           71.46524047851562,
           74.54090118408203,
           75.56629180908203,
           75.89826202392578,
           76.0555419921875,
           76.1174545288086,
           76.08670043945312,
           75.97188568115234,
           75.82528686523438,
           75.7523193359375,
           75.81697845458984
          ],
          [
           14.366859436035156,
           5.723274230957031,
           9.217575073242188,
           10.215980529785156,
           4.867042541503906,
           2.4979629516601562,
           9.269943237304688,
           20.768939971923828,
           31.365951538085938,
           42.852787017822266,
           56.40221405029297,
           67.48223876953125,
           72.76747131347656,
           72.87944030761719,
           69.47713470458984,
           64.88084411621094,
           62.647987365722656,
           64.80018615722656,
           69.44876861572266,
           73.3367919921875,
           75.25692749023438,
           75.8887939453125,
           76.0661392211914,
           76.13277435302734,
           76.15679168701172,
           76.14513397216797,
           76.1015853881836,
           76.04598999023438,
           76.01831817626953,
           76.04283905029297
          ],
          [
           13.691448211669922,
           4.65936279296875,
           7.2751312255859375,
           7.5809173583984375,
           3.1186904907226562,
           3.1248779296875,
           12.857181549072266,
           27.86126708984375,
           41.21747589111328,
           52.26599884033203,
           62.5112419128418,
           70.26463317871094,
           73.9637680053711,
           74.260986328125,
           72.38447570800781,
           69.79518127441406,
           68.53993225097656,
           69.75859832763672,
           72.3869400024414,
           74.59193420410156,
           75.6869125366211,
           76.04503631591797,
           76.13636779785156,
           76.1637191772461,
           76.17243957519531,
           76.16838836669922,
           76.1531982421875,
           76.1338119506836,
           76.1241683959961,
           76.1327133178711
          ],
          [
           17.13571548461914,
           8.1932373046875,
           9.562187194824219,
           8.843833923339844,
           5.238151550292969,
           7.4853057861328125,
           19.248680114746094,
           35.805206298828125,
           50.030738830566406,
           60.014400482177734,
           67.41590118408203,
           72.46623992919922,
           74.84169006347656,
           75.14457702636719,
           74.20240783691406,
           72.8646011352539,
           72.21648406982422,
           72.85009002685547,
           74.21439361572266,
           75.36116790771484,
           75.93286895751953,
           76.11940002441406,
           76.1641616821289,
           76.17514038085938,
           76.17813110351562,
           76.17684173583984,
           76.1719741821289,
           76.16576385498047,
           76.16266632080078,
           76.1654052734375
          ],
          [
           24.55066680908203,
           16.278820037841797,
           16.298110961914062,
           14.45144271850586,
           11.52655029296875,
           15.373401641845703,
           27.849422454833984,
           44.00198745727539,
           57.37002182006836,
           65.80058288574219,
           70.94097900390625,
           74.02593231201172,
           75.43125915527344,
           75.6624984741211,
           75.23242950439453,
           74.59818267822266,
           74.29067993164062,
           74.59324645996094,
           75.24370574951172,
           75.79115295410156,
           76.06483459472656,
           76.15409088134766,
           76.17473602294922,
           76.17904663085938,
           76.1800308227539,
           76.17965698242188,
           76.17822265625,
           76.1763916015625,
           76.17547607421875,
           76.17628479003906
          ],
          [
           34.48654556274414,
           27.37380599975586,
           26.282283782958984,
           23.54497528076172,
           21.102481842041016,
           25.638282775878906,
           37.50198745727539,
           51.77958297729492,
           63.14112091064453,
           69.791748046875,
           73.23890686035156,
           75.02275848388672,
           75.79251098632812,
           75.94068908691406,
           75.76268005371094,
           75.48670196533203,
           75.35260772705078,
           75.48533630371094,
           75.7702865600586,
           76.01029205322266,
           76.13053131103516,
           76.16976928710938,
           76.17864990234375,
           76.1802978515625,
           76.18061065673828,
           76.18051147460938,
           76.18012237548828,
           76.17962646484375,
           76.17938232421875,
           76.17960357666016
          ],
          [
           44.853519439697266,
           39.14841079711914,
           37.441741943359375,
           34.32343673706055,
           32.22161865234375,
           36.56706237792969,
           46.83445739746094,
           58.50086212158203,
           67.42886352539062,
           72.36715698242188,
           74.61202239990234,
           75.60124206542969,
           75.99455261230469,
           76.07776641845703,
           76.0112533569336,
           75.90103912353516,
           75.8472900390625,
           75.90078735351562,
           76.0155029296875,
           76.11217498779297,
           76.16068267822266,
           76.17652893066406,
           76.18006896972656,
           76.18067932128906,
           76.18077850341797,
           76.18075561523438,
           76.18065643310547,
           76.18053436279297,
           76.18047332763672,
           76.18052673339844
          ],
          [
           53.64862823486328,
           49.29444885253906,
           47.55097198486328,
           44.64347457885742,
           42.79036331176758,
           46.31775665283203,
           54.5632209777832,
           63.65190124511719,
           70.37617492675781,
           73.92195129394531,
           75.36888122558594,
           75.90756225585938,
           76.0978012084961,
           76.13981628417969,
           76.11756134033203,
           76.0771713256836,
           76.05736541748047,
           76.07718658447266,
           76.11962890625,
           76.1554183959961,
           76.17339324951172,
           76.17926788330078,
           76.18057250976562,
           76.1807861328125,
           76.18081665039062,
           76.18081665039062,
           76.18079376220703,
           76.1807632446289,
           76.18074798583984,
           76.1807632446289
          ],
          [
           59.410240173339844,
           56.06743621826172,
           54.7929573059082,
           52.58772277832031,
           50.8747444152832,
           53.27233123779297,
           59.67155838012695,
           66.87934875488281,
           72.12128448486328,
           74.7684097290039,
           75.74990844726562,
           76.05545043945312,
           76.14603424072266,
           76.16566467285156,
           76.15911102294922,
           76.1455307006836,
           76.13882446289062,
           76.14556884765625,
           76.1600112915039,
           76.17218017578125,
           76.17829895019531,
           76.18030548095703,
           76.18074798583984,
           76.18081665039062,
           76.18083190917969,
           76.18082427978516,
           76.18082427978516,
           76.18081665039062,
           76.18081665039062,
           76.18081665039062
          ],
          [
           61.33251190185547,
           58.45551681518555,
           58.01740264892578,
           56.82129669189453,
           55.05769729614258,
           56.258907318115234,
           61.479549407958984,
           67.98731994628906,
           72.77889251708984,
           75.11631774902344,
           75.91220092773438,
           76.11891174316406,
           76.16647338867188,
           76.17556762695312,
           76.17396545410156,
           76.16978454589844,
           76.16769409179688,
           76.16980743408203,
           76.17431640625,
           76.1781234741211,
           76.18003845214844,
           76.18067169189453,
           76.1808090209961,
           76.18083190917969,
           76.18083190917969,
           76.18083190917969,
           76.18083190917969,
           76.18083190917969,
           76.18083190917969,
           76.18083190917969
          ],
          [
           59.19041442871094,
           56.128456115722656,
           56.77149963378906,
           56.727386474609375,
           54.621826171875,
           54.67936325073242,
           59.679771423339844,
           66.93663787841797,
           72.45277404785156,
           75.09599304199219,
           75.94638061523438,
           76.13984680175781,
           76.17401885986328,
           76.17903900146484,
           76.17882537841797,
           76.17765045166016,
           76.17705535888672,
           76.17766571044922,
           76.17896270751953,
           76.1800537109375,
           76.18060302734375,
           76.1807861328125,
           76.18082427978516,
           76.18083190917969,
           76.18083190917969,
           76.18083190917969,
           76.18083190917969,
           76.18083190917969,
           76.18083190917969,
           76.18083190917969
          ],
          [
           53.275604248046875,
           49.384246826171875,
           51.27385711669922,
           52.4256591796875,
           49.628997802734375,
           48.61412048339844,
           54.41046905517578,
           63.88525390625,
           71.2730484008789,
           74.7957763671875,
           75.90208435058594,
           76.13964080810547,
           76.17594909667969,
           76.18011474609375,
           76.18028259277344,
           76.17999267578125,
           76.1798324584961,
           76.17999267578125,
           76.18033599853516,
           76.18062591552734,
           76.18077087402344,
           76.18081665039062,
           76.18083190917969,
           76.18083190917969,
           76.18083190917969,
           76.18083190917969,
           76.18083190917969,
           76.18083190917969,
           76.18083190917969,
           76.18083190917969
          ],
          [
           44.438819885253906,
           39.199241638183594,
           42.43386459350586,
           44.770774841308594,
           40.96626663208008,
           38.93574142456055,
           46.374359130859375,
           59.26842498779297,
           69.44718170166016,
           74.29798889160156,
           75.80988311767578,
           76.12894439697266,
           76.17555236816406,
           76.18036651611328,
           76.1806869506836,
           76.18062591552734,
           76.18058776855469,
           76.18062591552734,
           76.18070983886719,
           76.18077850341797,
           76.18081665039062,
           76.18083190917969,
           76.18083190917969,
           76.18083190917969,
           76.18083190917969,
           76.18083190917969,
           76.18083190917969,
           76.18083190917969,
           76.18083190917969,
           76.18083190917969
          ],
          [
           34.151954650878906,
           27.290191650390625,
           31.865955352783203,
           35.316436767578125,
           30.327133178710938,
           27.352519989013672,
           36.91255187988281,
           53.857940673828125,
           67.29769134521484,
           73.70320129394531,
           75.69532775878906,
           76.11381530761719,
           76.17427825927734,
           76.18035888671875,
           76.18077850341797,
           76.1807861328125,
           76.18077850341797,
           76.1807861328125,
           76.18080139160156,
           76.18082427978516,
           76.18083190917969,
           76.18083190917969,
           76.18083190917969,
           76.18083190917969,
           76.18083190917969,
           76.18083190917969,
           76.18083190917969,
           76.18083190917969,
           76.18083190917969,
           76.18083190917969
          ],
          [
           24.40996551513672,
           15.987991333007812,
           21.742015838623047,
           26.136249542236328,
           20.012264251708984,
           16.23523712158203,
           27.894329071044922,
           48.714195251464844,
           65.2523422241211,
           73.13489532470703,
           75.58479309082031,
           76.09880065917969,
           76.1728744506836,
           76.18028259277344,
           76.18080139160156,
           76.18082427978516,
           76.18082427978516,
           76.18082427978516,
           76.18082427978516,
           76.18083190917969,
           76.18083190917969,
           76.18083190917969,
           76.18083190917969,
           76.18083190917969,
           76.18083190917969,
           76.18083190917969,
           76.18083190917969,
           76.18083190917969,
           76.18083190917969,
           76.18083190917969
          ],
          [
           17.351604461669922,
           7.791419982910156,
           14.368778228759766,
           19.410614013671875,
           12.458045959472656,
           8.127098083496094,
           21.33721160888672,
           44.97914123535156,
           63.76704788208008,
           72.72174072265625,
           75.50420379638672,
           76.08777618408203,
           76.17182159423828,
           76.18021392822266,
           76.18080139160156,
           76.18083190917969,
           76.18083190917969,
           76.18083190917969,
           76.18083190917969,
           76.18083190917969,
           76.18083190917969,
           76.18083190917969,
           76.18083190917969,
           76.18083190917969,
           76.18083190917969,
           76.18083190917969,
           76.18083190917969,
           76.18083190917969,
           76.18083190917969,
           76.18083190917969
          ],
          [
           14.664886474609375,
           4.6697540283203125,
           11.557838439941406,
           16.841876983642578,
           9.571487426757812,
           5.0312347412109375,
           18.835834503173828,
           43.55530548095703,
           63.201171875,
           72.56439208984375,
           75.47351837158203,
           76.08357238769531,
           76.17142486572266,
           76.18019104003906,
           76.18080139160156,
           76.18083190917969,
           76.18083190917969,
           76.18083190917969,
           76.18083190917969,
           76.18083190917969,
           76.18083190917969,
           76.18083190917969,
           76.18083190917969,
           76.18083190917969,
           76.18083190917969,
           76.18083190917969,
           76.18083190917969,
           76.18083190917969,
           76.18083190917969,
           76.18083190917969
          ],
          [
           17.029621124267578,
           7.4186859130859375,
           14.04296875,
           19.124713897705078,
           12.132003784179688,
           7.7635955810546875,
           21.037155151367188,
           44.808128356933594,
           63.700016021728516,
           72.70352935791016,
           75.50077056884766,
           76.08732604980469,
           76.17178344726562,
           76.18021392822266,
           76.18080139160156,
           76.18083190917969,
           76.18083190917969,
           76.18083190917969,
           76.18083190917969,
           76.18083190917969,
           76.18083190917969,
           76.18083190917969,
           76.18083190917969,
           76.18083190917969,
           76.18083190917969,
           76.18083190917969,
           76.18083190917969,
           76.18083190917969,
           76.18083190917969,
           76.18083190917969
          ]
         ]
        },
        {
         "mode": "markers",
         "name": "max(pi)",
         "type": "scatter3d",
         "x": [
          415.0862121582031
         ],
         "y": [
          114.93841552734375
         ],
         "z": [
          0.5610659718513489
         ]
        }
       ],
       "layout": {
        "height": 600,
        "legend": {
         "orientation": "h",
         "x": 1,
         "xanchor": "right",
         "y": 1.02,
         "yanchor": "bottom"
        },
        "margin": {
         "b": 10,
         "l": 10,
         "r": 20,
         "t": 10
        },
        "scene": {
         "aspectmode": "auto",
         "aspectratio": {
          "x": 1,
          "y": 1,
          "z": 1
         },
         "xaxis": {
          "title": {
           "text": "RTA temperature (C)"
          },
          "type": "linear"
         },
         "yaxis": {
          "title": {
           "text": "RTA time (sec)"
          },
          "type": "linear"
         },
         "zaxis": {
          "title": {
           "text": "Acquisition Function"
          },
          "type": "linear"
         }
        },
        "template": {
         "data": {
          "bar": [
           {
            "error_x": {
             "color": "#2a3f5f"
            },
            "error_y": {
             "color": "#2a3f5f"
            },
            "marker": {
             "line": {
              "color": "#E5ECF6",
              "width": 0.5
             }
            },
            "type": "bar"
           }
          ],
          "barpolar": [
           {
            "marker": {
             "line": {
              "color": "#E5ECF6",
              "width": 0.5
             }
            },
            "type": "barpolar"
           }
          ],
          "carpet": [
           {
            "aaxis": {
             "endlinecolor": "#2a3f5f",
             "gridcolor": "white",
             "linecolor": "white",
             "minorgridcolor": "white",
             "startlinecolor": "#2a3f5f"
            },
            "baxis": {
             "endlinecolor": "#2a3f5f",
             "gridcolor": "white",
             "linecolor": "white",
             "minorgridcolor": "white",
             "startlinecolor": "#2a3f5f"
            },
            "type": "carpet"
           }
          ],
          "choropleth": [
           {
            "colorbar": {
             "outlinewidth": 0,
             "ticks": ""
            },
            "type": "choropleth"
           }
          ],
          "contour": [
           {
            "colorbar": {
             "outlinewidth": 0,
             "ticks": ""
            },
            "colorscale": [
             [
              0,
              "#0d0887"
             ],
             [
              0.1111111111111111,
              "#46039f"
             ],
             [
              0.2222222222222222,
              "#7201a8"
             ],
             [
              0.3333333333333333,
              "#9c179e"
             ],
             [
              0.4444444444444444,
              "#bd3786"
             ],
             [
              0.5555555555555556,
              "#d8576b"
             ],
             [
              0.6666666666666666,
              "#ed7953"
             ],
             [
              0.7777777777777778,
              "#fb9f3a"
             ],
             [
              0.8888888888888888,
              "#fdca26"
             ],
             [
              1,
              "#f0f921"
             ]
            ],
            "type": "contour"
           }
          ],
          "contourcarpet": [
           {
            "colorbar": {
             "outlinewidth": 0,
             "ticks": ""
            },
            "type": "contourcarpet"
           }
          ],
          "heatmap": [
           {
            "colorbar": {
             "outlinewidth": 0,
             "ticks": ""
            },
            "colorscale": [
             [
              0,
              "#0d0887"
             ],
             [
              0.1111111111111111,
              "#46039f"
             ],
             [
              0.2222222222222222,
              "#7201a8"
             ],
             [
              0.3333333333333333,
              "#9c179e"
             ],
             [
              0.4444444444444444,
              "#bd3786"
             ],
             [
              0.5555555555555556,
              "#d8576b"
             ],
             [
              0.6666666666666666,
              "#ed7953"
             ],
             [
              0.7777777777777778,
              "#fb9f3a"
             ],
             [
              0.8888888888888888,
              "#fdca26"
             ],
             [
              1,
              "#f0f921"
             ]
            ],
            "type": "heatmap"
           }
          ],
          "heatmapgl": [
           {
            "colorbar": {
             "outlinewidth": 0,
             "ticks": ""
            },
            "colorscale": [
             [
              0,
              "#0d0887"
             ],
             [
              0.1111111111111111,
              "#46039f"
             ],
             [
              0.2222222222222222,
              "#7201a8"
             ],
             [
              0.3333333333333333,
              "#9c179e"
             ],
             [
              0.4444444444444444,
              "#bd3786"
             ],
             [
              0.5555555555555556,
              "#d8576b"
             ],
             [
              0.6666666666666666,
              "#ed7953"
             ],
             [
              0.7777777777777778,
              "#fb9f3a"
             ],
             [
              0.8888888888888888,
              "#fdca26"
             ],
             [
              1,
              "#f0f921"
             ]
            ],
            "type": "heatmapgl"
           }
          ],
          "histogram": [
           {
            "marker": {
             "colorbar": {
              "outlinewidth": 0,
              "ticks": ""
             }
            },
            "type": "histogram"
           }
          ],
          "histogram2d": [
           {
            "colorbar": {
             "outlinewidth": 0,
             "ticks": ""
            },
            "colorscale": [
             [
              0,
              "#0d0887"
             ],
             [
              0.1111111111111111,
              "#46039f"
             ],
             [
              0.2222222222222222,
              "#7201a8"
             ],
             [
              0.3333333333333333,
              "#9c179e"
             ],
             [
              0.4444444444444444,
              "#bd3786"
             ],
             [
              0.5555555555555556,
              "#d8576b"
             ],
             [
              0.6666666666666666,
              "#ed7953"
             ],
             [
              0.7777777777777778,
              "#fb9f3a"
             ],
             [
              0.8888888888888888,
              "#fdca26"
             ],
             [
              1,
              "#f0f921"
             ]
            ],
            "type": "histogram2d"
           }
          ],
          "histogram2dcontour": [
           {
            "colorbar": {
             "outlinewidth": 0,
             "ticks": ""
            },
            "colorscale": [
             [
              0,
              "#0d0887"
             ],
             [
              0.1111111111111111,
              "#46039f"
             ],
             [
              0.2222222222222222,
              "#7201a8"
             ],
             [
              0.3333333333333333,
              "#9c179e"
             ],
             [
              0.4444444444444444,
              "#bd3786"
             ],
             [
              0.5555555555555556,
              "#d8576b"
             ],
             [
              0.6666666666666666,
              "#ed7953"
             ],
             [
              0.7777777777777778,
              "#fb9f3a"
             ],
             [
              0.8888888888888888,
              "#fdca26"
             ],
             [
              1,
              "#f0f921"
             ]
            ],
            "type": "histogram2dcontour"
           }
          ],
          "mesh3d": [
           {
            "colorbar": {
             "outlinewidth": 0,
             "ticks": ""
            },
            "type": "mesh3d"
           }
          ],
          "parcoords": [
           {
            "line": {
             "colorbar": {
              "outlinewidth": 0,
              "ticks": ""
             }
            },
            "type": "parcoords"
           }
          ],
          "pie": [
           {
            "automargin": true,
            "type": "pie"
           }
          ],
          "scatter": [
           {
            "marker": {
             "colorbar": {
              "outlinewidth": 0,
              "ticks": ""
             }
            },
            "type": "scatter"
           }
          ],
          "scatter3d": [
           {
            "line": {
             "colorbar": {
              "outlinewidth": 0,
              "ticks": ""
             }
            },
            "marker": {
             "colorbar": {
              "outlinewidth": 0,
              "ticks": ""
             }
            },
            "type": "scatter3d"
           }
          ],
          "scattercarpet": [
           {
            "marker": {
             "colorbar": {
              "outlinewidth": 0,
              "ticks": ""
             }
            },
            "type": "scattercarpet"
           }
          ],
          "scattergeo": [
           {
            "marker": {
             "colorbar": {
              "outlinewidth": 0,
              "ticks": ""
             }
            },
            "type": "scattergeo"
           }
          ],
          "scattergl": [
           {
            "marker": {
             "colorbar": {
              "outlinewidth": 0,
              "ticks": ""
             }
            },
            "type": "scattergl"
           }
          ],
          "scattermapbox": [
           {
            "marker": {
             "colorbar": {
              "outlinewidth": 0,
              "ticks": ""
             }
            },
            "type": "scattermapbox"
           }
          ],
          "scatterpolar": [
           {
            "marker": {
             "colorbar": {
              "outlinewidth": 0,
              "ticks": ""
             }
            },
            "type": "scatterpolar"
           }
          ],
          "scatterpolargl": [
           {
            "marker": {
             "colorbar": {
              "outlinewidth": 0,
              "ticks": ""
             }
            },
            "type": "scatterpolargl"
           }
          ],
          "scatterternary": [
           {
            "marker": {
             "colorbar": {
              "outlinewidth": 0,
              "ticks": ""
             }
            },
            "type": "scatterternary"
           }
          ],
          "surface": [
           {
            "colorbar": {
             "outlinewidth": 0,
             "ticks": ""
            },
            "colorscale": [
             [
              0,
              "#0d0887"
             ],
             [
              0.1111111111111111,
              "#46039f"
             ],
             [
              0.2222222222222222,
              "#7201a8"
             ],
             [
              0.3333333333333333,
              "#9c179e"
             ],
             [
              0.4444444444444444,
              "#bd3786"
             ],
             [
              0.5555555555555556,
              "#d8576b"
             ],
             [
              0.6666666666666666,
              "#ed7953"
             ],
             [
              0.7777777777777778,
              "#fb9f3a"
             ],
             [
              0.8888888888888888,
              "#fdca26"
             ],
             [
              1,
              "#f0f921"
             ]
            ],
            "type": "surface"
           }
          ],
          "table": [
           {
            "cells": {
             "fill": {
              "color": "#EBF0F8"
             },
             "line": {
              "color": "white"
             }
            },
            "header": {
             "fill": {
              "color": "#C8D4E3"
             },
             "line": {
              "color": "white"
             }
            },
            "type": "table"
           }
          ]
         },
         "layout": {
          "annotationdefaults": {
           "arrowcolor": "#2a3f5f",
           "arrowhead": 0,
           "arrowwidth": 1
          },
          "autotypenumbers": "strict",
          "coloraxis": {
           "colorbar": {
            "outlinewidth": 0,
            "ticks": ""
           }
          },
          "colorscale": {
           "diverging": [
            [
             0,
             "#8e0152"
            ],
            [
             0.1,
             "#c51b7d"
            ],
            [
             0.2,
             "#de77ae"
            ],
            [
             0.3,
             "#f1b6da"
            ],
            [
             0.4,
             "#fde0ef"
            ],
            [
             0.5,
             "#f7f7f7"
            ],
            [
             0.6,
             "#e6f5d0"
            ],
            [
             0.7,
             "#b8e186"
            ],
            [
             0.8,
             "#7fbc41"
            ],
            [
             0.9,
             "#4d9221"
            ],
            [
             1,
             "#276419"
            ]
           ],
           "sequential": [
            [
             0,
             "#0d0887"
            ],
            [
             0.1111111111111111,
             "#46039f"
            ],
            [
             0.2222222222222222,
             "#7201a8"
            ],
            [
             0.3333333333333333,
             "#9c179e"
            ],
            [
             0.4444444444444444,
             "#bd3786"
            ],
            [
             0.5555555555555556,
             "#d8576b"
            ],
            [
             0.6666666666666666,
             "#ed7953"
            ],
            [
             0.7777777777777778,
             "#fb9f3a"
            ],
            [
             0.8888888888888888,
             "#fdca26"
            ],
            [
             1,
             "#f0f921"
            ]
           ],
           "sequentialminus": [
            [
             0,
             "#0d0887"
            ],
            [
             0.1111111111111111,
             "#46039f"
            ],
            [
             0.2222222222222222,
             "#7201a8"
            ],
            [
             0.3333333333333333,
             "#9c179e"
            ],
            [
             0.4444444444444444,
             "#bd3786"
            ],
            [
             0.5555555555555556,
             "#d8576b"
            ],
            [
             0.6666666666666666,
             "#ed7953"
            ],
            [
             0.7777777777777778,
             "#fb9f3a"
            ],
            [
             0.8888888888888888,
             "#fdca26"
            ],
            [
             1,
             "#f0f921"
            ]
           ]
          },
          "colorway": [
           "#636efa",
           "#EF553B",
           "#00cc96",
           "#ab63fa",
           "#FFA15A",
           "#19d3f3",
           "#FF6692",
           "#B6E880",
           "#FF97FF",
           "#FECB52"
          ],
          "font": {
           "color": "#2a3f5f"
          },
          "geo": {
           "bgcolor": "white",
           "lakecolor": "white",
           "landcolor": "#E5ECF6",
           "showlakes": true,
           "showland": true,
           "subunitcolor": "white"
          },
          "hoverlabel": {
           "align": "left"
          },
          "hovermode": "closest",
          "mapbox": {
           "style": "light"
          },
          "paper_bgcolor": "white",
          "plot_bgcolor": "#E5ECF6",
          "polar": {
           "angularaxis": {
            "gridcolor": "white",
            "linecolor": "white",
            "ticks": ""
           },
           "bgcolor": "#E5ECF6",
           "radialaxis": {
            "gridcolor": "white",
            "linecolor": "white",
            "ticks": ""
           }
          },
          "scene": {
           "xaxis": {
            "backgroundcolor": "#E5ECF6",
            "gridcolor": "white",
            "gridwidth": 2,
            "linecolor": "white",
            "showbackground": true,
            "ticks": "",
            "zerolinecolor": "white"
           },
           "yaxis": {
            "backgroundcolor": "#E5ECF6",
            "gridcolor": "white",
            "gridwidth": 2,
            "linecolor": "white",
            "showbackground": true,
            "ticks": "",
            "zerolinecolor": "white"
           },
           "zaxis": {
            "backgroundcolor": "#E5ECF6",
            "gridcolor": "white",
            "gridwidth": 2,
            "linecolor": "white",
            "showbackground": true,
            "ticks": "",
            "zerolinecolor": "white"
           }
          },
          "shapedefaults": {
           "line": {
            "color": "#2a3f5f"
           }
          },
          "ternary": {
           "aaxis": {
            "gridcolor": "white",
            "linecolor": "white",
            "ticks": ""
           },
           "baxis": {
            "gridcolor": "white",
            "linecolor": "white",
            "ticks": ""
           },
           "bgcolor": "#E5ECF6",
           "caxis": {
            "gridcolor": "white",
            "linecolor": "white",
            "ticks": ""
           }
          },
          "title": {
           "x": 0.05
          },
          "xaxis": {
           "automargin": true,
           "gridcolor": "white",
           "linecolor": "white",
           "ticks": "",
           "title": {
            "standoff": 15
           },
           "zerolinecolor": "white",
           "zerolinewidth": 2
          },
          "yaxis": {
           "automargin": true,
           "gridcolor": "white",
           "linecolor": "white",
           "ticks": "",
           "title": {
            "standoff": 15
           },
           "zerolinecolor": "white",
           "zerolinewidth": 2
          }
         }
        },
        "width": 1000
       }
      },
      "image/png": "[encoded data removed]"
     },
     "metadata": {}
    }
   ],
   "metadata": {}
  }
 ],
 "metadata": {
  "interpreter": {
   "hash": "b00f9bca1c18369f730e284e4d0522d8a3e0f0b629e30dad99ec4bb4df6f08b7"
  },
  "kernelspec": {
   "name": "python3",
   "display_name": "Python 3.9.12 64-bit ('FEGP': conda)"
  },
  "language_info": {
   "codemirror_mode": {
    "name": "ipython",
    "version": 3
   },
   "file_extension": ".py",
   "mimetype": "text/x-python",
   "name": "python",
   "nbconvert_exporter": "python",
   "pygments_lexer": "ipython3",
   "version": "3.9.12"
  }
 },
 "nbformat": 4,
 "nbformat_minor": 4
}
