{
 "cells": [
  {
   "cell_type": "code",
   "execution_count": 1,
   "metadata": {},
   "outputs": [
    {
     "name": "stdout",
     "output_type": "stream",
     "text": [
      "1.3.1\n"
     ]
    }
   ],
   "source": [
    "# allow imports from local \"src\" directory\n",
    "import sys\n",
    "sys.path.append('..')\n",
    "\n",
    "import numpy as np\n",
    "import math\n",
    "import torch\n",
    "import gpytorch\n",
    "from matplotlib import pyplot as pyplot\n",
    "from matplotlib import cm\n",
    "import plotly.express as px\n",
    "import botorch\n",
    "from botorch.models.gpytorch import GPyTorchModel\n",
    "\n",
    "import pandas as pd\n",
    "%matplotlib inline\n",
    "%load_ext autoreload\n",
    "%autoreload 2\n",
    "print(gpytorch.__version__)"
   ]
  },
  {
   "cell_type": "code",
   "execution_count": 36,
   "metadata": {},
   "outputs": [
    {
     "data": {
      "text/plain": [
       "Index(['Thickness (nm)', 'RTA temperature (C)', 'RTA time (sec)',\n",
       "       'CeO2 doping', '2Pr (uC/cm2), Pristine state', 'log(RTA time)'],\n",
       "      dtype='object')"
      ]
     },
     "execution_count": 36,
     "metadata": {},
     "output_type": "execute_result"
    }
   ],
   "source": [
    "# load data\n",
    "fe_data = pd.read_csv('../data/FE_HZCO_samples_11-17.csv', index_col=0)\n",
    "fe_data['log(RTA time)'] = np.log(fe_data['RTA time (sec)'])\n",
    "# fe_data['Coersive Field'] = fe_data['Coersive Voltage +'] - fe_data['Coersive Voltage -']\n",
    "fe_data.columns"
   ]
  },
  {
   "cell_type": "code",
   "execution_count": 37,
   "metadata": {},
   "outputs": [
    {
     "data": {
      "text/html": [
       "<div>\n",
       "<style scoped>\n",
       "    .dataframe tbody tr th:only-of-type {\n",
       "        vertical-align: middle;\n",
       "    }\n",
       "\n",
       "    .dataframe tbody tr th {\n",
       "        vertical-align: top;\n",
       "    }\n",
       "\n",
       "    .dataframe thead th {\n",
       "        text-align: right;\n",
       "    }\n",
       "</style>\n",
       "<table border=\"1\" class=\"dataframe\">\n",
       "  <thead>\n",
       "    <tr style=\"text-align: right;\">\n",
       "      <th></th>\n",
       "      <th>Thickness (nm)</th>\n",
       "      <th>RTA temperature (C)</th>\n",
       "      <th>RTA time (sec)</th>\n",
       "      <th>CeO2 doping</th>\n",
       "      <th>2Pr (uC/cm2), Pristine state</th>\n",
       "      <th>log(RTA time)</th>\n",
       "    </tr>\n",
       "  </thead>\n",
       "  <tbody>\n",
       "    <tr>\n",
       "      <th>1</th>\n",
       "      <td>10</td>\n",
       "      <td>350</td>\n",
       "      <td>30</td>\n",
       "      <td>4.4</td>\n",
       "      <td>0.31095</td>\n",
       "      <td>3.401197</td>\n",
       "    </tr>\n",
       "    <tr>\n",
       "      <th>2</th>\n",
       "      <td>10</td>\n",
       "      <td>350</td>\n",
       "      <td>60</td>\n",
       "      <td>4.4</td>\n",
       "      <td>3.05088</td>\n",
       "      <td>4.094345</td>\n",
       "    </tr>\n",
       "    <tr>\n",
       "      <th>3</th>\n",
       "      <td>10</td>\n",
       "      <td>350</td>\n",
       "      <td>120</td>\n",
       "      <td>4.4</td>\n",
       "      <td>11.48724</td>\n",
       "      <td>4.787492</td>\n",
       "    </tr>\n",
       "    <tr>\n",
       "      <th>4</th>\n",
       "      <td>10</td>\n",
       "      <td>350</td>\n",
       "      <td>300</td>\n",
       "      <td>4.4</td>\n",
       "      <td>27.85326</td>\n",
       "      <td>5.703782</td>\n",
       "    </tr>\n",
       "    <tr>\n",
       "      <th>5</th>\n",
       "      <td>10</td>\n",
       "      <td>350</td>\n",
       "      <td>600</td>\n",
       "      <td>4.4</td>\n",
       "      <td>NaN</td>\n",
       "      <td>6.396930</td>\n",
       "    </tr>\n",
       "  </tbody>\n",
       "</table>\n",
       "</div>"
      ],
      "text/plain": [
       "   Thickness (nm)  RTA temperature (C)  RTA time (sec)  CeO2 doping  \\\n",
       "1              10                  350              30          4.4   \n",
       "2              10                  350              60          4.4   \n",
       "3              10                  350             120          4.4   \n",
       "4              10                  350             300          4.4   \n",
       "5              10                  350             600          4.4   \n",
       "\n",
       "   2Pr (uC/cm2), Pristine state  log(RTA time)  \n",
       "1                       0.31095       3.401197  \n",
       "2                       3.05088       4.094345  \n",
       "3                      11.48724       4.787492  \n",
       "4                      27.85326       5.703782  \n",
       "5                           NaN       6.396930  "
      ]
     },
     "execution_count": 37,
     "metadata": {},
     "output_type": "execute_result"
    }
   ],
   "source": [
    "fe_data.head()"
   ]
  },
  {
   "cell_type": "code",
   "execution_count": 38,
   "metadata": {},
   "outputs": [
    {
     "data": {
      "application/vnd.plotly.v1+json": {
       "config": {
        "plotlyServerURL": "https://plot.ly"
       },
       "data": [
        {
         "hovertemplate": "RTA temperature (C)=%{x}<br>RTA time (sec)=%{y}<br>2Pr (uC/cm2), Pristine state=%{z}<extra></extra>",
         "legendgroup": "",
         "marker": {
          "color": "#636efa",
          "symbol": "circle"
         },
         "mode": "markers",
         "name": "",
         "scene": "scene",
         "showlegend": false,
         "type": "scatter3d",
         "x": [
          350,
          350,
          350,
          350,
          350,
          360,
          380,
          400,
          400,
          500,
          600,
          700
         ],
         "y": [
          30,
          60,
          120,
          300,
          600,
          30,
          30,
          30,
          300,
          30,
          30,
          30
         ],
         "z": [
          0.31095,
          3.05088,
          11.48724,
          27.85326,
          null,
          5.91482,
          20.16876,
          26.66847,
          35.18615,
          30.2557,
          22.55735,
          21.46867
         ]
        }
       ],
       "layout": {
        "legend": {
         "tracegroupgap": 0
        },
        "margin": {
         "b": 10,
         "l": 10,
         "r": 20,
         "t": 10
        },
        "scene": {
         "domain": {
          "x": [
           0,
           1
          ],
          "y": [
           0,
           1
          ]
         },
         "xaxis": {
          "title": {
           "text": "RTA temperature (C)"
          }
         },
         "yaxis": {
          "title": {
           "text": "RTA time (sec)"
          }
         },
         "zaxis": {
          "title": {
           "text": "2Pr (uC/cm2), Pristine state"
          }
         }
        },
        "template": {
         "data": {
          "bar": [
           {
            "error_x": {
             "color": "#2a3f5f"
            },
            "error_y": {
             "color": "#2a3f5f"
            },
            "marker": {
             "line": {
              "color": "#E5ECF6",
              "width": 0.5
             }
            },
            "type": "bar"
           }
          ],
          "barpolar": [
           {
            "marker": {
             "line": {
              "color": "#E5ECF6",
              "width": 0.5
             }
            },
            "type": "barpolar"
           }
          ],
          "carpet": [
           {
            "aaxis": {
             "endlinecolor": "#2a3f5f",
             "gridcolor": "white",
             "linecolor": "white",
             "minorgridcolor": "white",
             "startlinecolor": "#2a3f5f"
            },
            "baxis": {
             "endlinecolor": "#2a3f5f",
             "gridcolor": "white",
             "linecolor": "white",
             "minorgridcolor": "white",
             "startlinecolor": "#2a3f5f"
            },
            "type": "carpet"
           }
          ],
          "choropleth": [
           {
            "colorbar": {
             "outlinewidth": 0,
             "ticks": ""
            },
            "type": "choropleth"
           }
          ],
          "contour": [
           {
            "colorbar": {
             "outlinewidth": 0,
             "ticks": ""
            },
            "colorscale": [
             [
              0,
              "#0d0887"
             ],
             [
              0.1111111111111111,
              "#46039f"
             ],
             [
              0.2222222222222222,
              "#7201a8"
             ],
             [
              0.3333333333333333,
              "#9c179e"
             ],
             [
              0.4444444444444444,
              "#bd3786"
             ],
             [
              0.5555555555555556,
              "#d8576b"
             ],
             [
              0.6666666666666666,
              "#ed7953"
             ],
             [
              0.7777777777777778,
              "#fb9f3a"
             ],
             [
              0.8888888888888888,
              "#fdca26"
             ],
             [
              1,
              "#f0f921"
             ]
            ],
            "type": "contour"
           }
          ],
          "contourcarpet": [
           {
            "colorbar": {
             "outlinewidth": 0,
             "ticks": ""
            },
            "type": "contourcarpet"
           }
          ],
          "heatmap": [
           {
            "colorbar": {
             "outlinewidth": 0,
             "ticks": ""
            },
            "colorscale": [
             [
              0,
              "#0d0887"
             ],
             [
              0.1111111111111111,
              "#46039f"
             ],
             [
              0.2222222222222222,
              "#7201a8"
             ],
             [
              0.3333333333333333,
              "#9c179e"
             ],
             [
              0.4444444444444444,
              "#bd3786"
             ],
             [
              0.5555555555555556,
              "#d8576b"
             ],
             [
              0.6666666666666666,
              "#ed7953"
             ],
             [
              0.7777777777777778,
              "#fb9f3a"
             ],
             [
              0.8888888888888888,
              "#fdca26"
             ],
             [
              1,
              "#f0f921"
             ]
            ],
            "type": "heatmap"
           }
          ],
          "heatmapgl": [
           {
            "colorbar": {
             "outlinewidth": 0,
             "ticks": ""
            },
            "colorscale": [
             [
              0,
              "#0d0887"
             ],
             [
              0.1111111111111111,
              "#46039f"
             ],
             [
              0.2222222222222222,
              "#7201a8"
             ],
             [
              0.3333333333333333,
              "#9c179e"
             ],
             [
              0.4444444444444444,
              "#bd3786"
             ],
             [
              0.5555555555555556,
              "#d8576b"
             ],
             [
              0.6666666666666666,
              "#ed7953"
             ],
             [
              0.7777777777777778,
              "#fb9f3a"
             ],
             [
              0.8888888888888888,
              "#fdca26"
             ],
             [
              1,
              "#f0f921"
             ]
            ],
            "type": "heatmapgl"
           }
          ],
          "histogram": [
           {
            "marker": {
             "colorbar": {
              "outlinewidth": 0,
              "ticks": ""
             }
            },
            "type": "histogram"
           }
          ],
          "histogram2d": [
           {
            "colorbar": {
             "outlinewidth": 0,
             "ticks": ""
            },
            "colorscale": [
             [
              0,
              "#0d0887"
             ],
             [
              0.1111111111111111,
              "#46039f"
             ],
             [
              0.2222222222222222,
              "#7201a8"
             ],
             [
              0.3333333333333333,
              "#9c179e"
             ],
             [
              0.4444444444444444,
              "#bd3786"
             ],
             [
              0.5555555555555556,
              "#d8576b"
             ],
             [
              0.6666666666666666,
              "#ed7953"
             ],
             [
              0.7777777777777778,
              "#fb9f3a"
             ],
             [
              0.8888888888888888,
              "#fdca26"
             ],
             [
              1,
              "#f0f921"
             ]
            ],
            "type": "histogram2d"
           }
          ],
          "histogram2dcontour": [
           {
            "colorbar": {
             "outlinewidth": 0,
             "ticks": ""
            },
            "colorscale": [
             [
              0,
              "#0d0887"
             ],
             [
              0.1111111111111111,
              "#46039f"
             ],
             [
              0.2222222222222222,
              "#7201a8"
             ],
             [
              0.3333333333333333,
              "#9c179e"
             ],
             [
              0.4444444444444444,
              "#bd3786"
             ],
             [
              0.5555555555555556,
              "#d8576b"
             ],
             [
              0.6666666666666666,
              "#ed7953"
             ],
             [
              0.7777777777777778,
              "#fb9f3a"
             ],
             [
              0.8888888888888888,
              "#fdca26"
             ],
             [
              1,
              "#f0f921"
             ]
            ],
            "type": "histogram2dcontour"
           }
          ],
          "mesh3d": [
           {
            "colorbar": {
             "outlinewidth": 0,
             "ticks": ""
            },
            "type": "mesh3d"
           }
          ],
          "parcoords": [
           {
            "line": {
             "colorbar": {
              "outlinewidth": 0,
              "ticks": ""
             }
            },
            "type": "parcoords"
           }
          ],
          "pie": [
           {
            "automargin": true,
            "type": "pie"
           }
          ],
          "scatter": [
           {
            "marker": {
             "colorbar": {
              "outlinewidth": 0,
              "ticks": ""
             }
            },
            "type": "scatter"
           }
          ],
          "scatter3d": [
           {
            "line": {
             "colorbar": {
              "outlinewidth": 0,
              "ticks": ""
             }
            },
            "marker": {
             "colorbar": {
              "outlinewidth": 0,
              "ticks": ""
             }
            },
            "type": "scatter3d"
           }
          ],
          "scattercarpet": [
           {
            "marker": {
             "colorbar": {
              "outlinewidth": 0,
              "ticks": ""
             }
            },
            "type": "scattercarpet"
           }
          ],
          "scattergeo": [
           {
            "marker": {
             "colorbar": {
              "outlinewidth": 0,
              "ticks": ""
             }
            },
            "type": "scattergeo"
           }
          ],
          "scattergl": [
           {
            "marker": {
             "colorbar": {
              "outlinewidth": 0,
              "ticks": ""
             }
            },
            "type": "scattergl"
           }
          ],
          "scattermapbox": [
           {
            "marker": {
             "colorbar": {
              "outlinewidth": 0,
              "ticks": ""
             }
            },
            "type": "scattermapbox"
           }
          ],
          "scatterpolar": [
           {
            "marker": {
             "colorbar": {
              "outlinewidth": 0,
              "ticks": ""
             }
            },
            "type": "scatterpolar"
           }
          ],
          "scatterpolargl": [
           {
            "marker": {
             "colorbar": {
              "outlinewidth": 0,
              "ticks": ""
             }
            },
            "type": "scatterpolargl"
           }
          ],
          "scatterternary": [
           {
            "marker": {
             "colorbar": {
              "outlinewidth": 0,
              "ticks": ""
             }
            },
            "type": "scatterternary"
           }
          ],
          "surface": [
           {
            "colorbar": {
             "outlinewidth": 0,
             "ticks": ""
            },
            "colorscale": [
             [
              0,
              "#0d0887"
             ],
             [
              0.1111111111111111,
              "#46039f"
             ],
             [
              0.2222222222222222,
              "#7201a8"
             ],
             [
              0.3333333333333333,
              "#9c179e"
             ],
             [
              0.4444444444444444,
              "#bd3786"
             ],
             [
              0.5555555555555556,
              "#d8576b"
             ],
             [
              0.6666666666666666,
              "#ed7953"
             ],
             [
              0.7777777777777778,
              "#fb9f3a"
             ],
             [
              0.8888888888888888,
              "#fdca26"
             ],
             [
              1,
              "#f0f921"
             ]
            ],
            "type": "surface"
           }
          ],
          "table": [
           {
            "cells": {
             "fill": {
              "color": "#EBF0F8"
             },
             "line": {
              "color": "white"
             }
            },
            "header": {
             "fill": {
              "color": "#C8D4E3"
             },
             "line": {
              "color": "white"
             }
            },
            "type": "table"
           }
          ]
         },
         "layout": {
          "annotationdefaults": {
           "arrowcolor": "#2a3f5f",
           "arrowhead": 0,
           "arrowwidth": 1
          },
          "autotypenumbers": "strict",
          "coloraxis": {
           "colorbar": {
            "outlinewidth": 0,
            "ticks": ""
           }
          },
          "colorscale": {
           "diverging": [
            [
             0,
             "#8e0152"
            ],
            [
             0.1,
             "#c51b7d"
            ],
            [
             0.2,
             "#de77ae"
            ],
            [
             0.3,
             "#f1b6da"
            ],
            [
             0.4,
             "#fde0ef"
            ],
            [
             0.5,
             "#f7f7f7"
            ],
            [
             0.6,
             "#e6f5d0"
            ],
            [
             0.7,
             "#b8e186"
            ],
            [
             0.8,
             "#7fbc41"
            ],
            [
             0.9,
             "#4d9221"
            ],
            [
             1,
             "#276419"
            ]
           ],
           "sequential": [
            [
             0,
             "#0d0887"
            ],
            [
             0.1111111111111111,
             "#46039f"
            ],
            [
             0.2222222222222222,
             "#7201a8"
            ],
            [
             0.3333333333333333,
             "#9c179e"
            ],
            [
             0.4444444444444444,
             "#bd3786"
            ],
            [
             0.5555555555555556,
             "#d8576b"
            ],
            [
             0.6666666666666666,
             "#ed7953"
            ],
            [
             0.7777777777777778,
             "#fb9f3a"
            ],
            [
             0.8888888888888888,
             "#fdca26"
            ],
            [
             1,
             "#f0f921"
            ]
           ],
           "sequentialminus": [
            [
             0,
             "#0d0887"
            ],
            [
             0.1111111111111111,
             "#46039f"
            ],
            [
             0.2222222222222222,
             "#7201a8"
            ],
            [
             0.3333333333333333,
             "#9c179e"
            ],
            [
             0.4444444444444444,
             "#bd3786"
            ],
            [
             0.5555555555555556,
             "#d8576b"
            ],
            [
             0.6666666666666666,
             "#ed7953"
            ],
            [
             0.7777777777777778,
             "#fb9f3a"
            ],
            [
             0.8888888888888888,
             "#fdca26"
            ],
            [
             1,
             "#f0f921"
            ]
           ]
          },
          "colorway": [
           "#636efa",
           "#EF553B",
           "#00cc96",
           "#ab63fa",
           "#FFA15A",
           "#19d3f3",
           "#FF6692",
           "#B6E880",
           "#FF97FF",
           "#FECB52"
          ],
          "font": {
           "color": "#2a3f5f"
          },
          "geo": {
           "bgcolor": "white",
           "lakecolor": "white",
           "landcolor": "#E5ECF6",
           "showlakes": true,
           "showland": true,
           "subunitcolor": "white"
          },
          "hoverlabel": {
           "align": "left"
          },
          "hovermode": "closest",
          "mapbox": {
           "style": "light"
          },
          "paper_bgcolor": "white",
          "plot_bgcolor": "#E5ECF6",
          "polar": {
           "angularaxis": {
            "gridcolor": "white",
            "linecolor": "white",
            "ticks": ""
           },
           "bgcolor": "#E5ECF6",
           "radialaxis": {
            "gridcolor": "white",
            "linecolor": "white",
            "ticks": ""
           }
          },
          "scene": {
           "xaxis": {
            "backgroundcolor": "#E5ECF6",
            "gridcolor": "white",
            "gridwidth": 2,
            "linecolor": "white",
            "showbackground": true,
            "ticks": "",
            "zerolinecolor": "white"
           },
           "yaxis": {
            "backgroundcolor": "#E5ECF6",
            "gridcolor": "white",
            "gridwidth": 2,
            "linecolor": "white",
            "showbackground": true,
            "ticks": "",
            "zerolinecolor": "white"
           },
           "zaxis": {
            "backgroundcolor": "#E5ECF6",
            "gridcolor": "white",
            "gridwidth": 2,
            "linecolor": "white",
            "showbackground": true,
            "ticks": "",
            "zerolinecolor": "white"
           }
          },
          "shapedefaults": {
           "line": {
            "color": "#2a3f5f"
           }
          },
          "ternary": {
           "aaxis": {
            "gridcolor": "white",
            "linecolor": "white",
            "ticks": ""
           },
           "baxis": {
            "gridcolor": "white",
            "linecolor": "white",
            "ticks": ""
           },
           "bgcolor": "#E5ECF6",
           "caxis": {
            "gridcolor": "white",
            "linecolor": "white",
            "ticks": ""
           }
          },
          "title": {
           "x": 0.05
          },
          "xaxis": {
           "automargin": true,
           "gridcolor": "white",
           "linecolor": "white",
           "ticks": "",
           "title": {
            "standoff": 15
           },
           "zerolinecolor": "white",
           "zerolinewidth": 2
          },
          "yaxis": {
           "automargin": true,
           "gridcolor": "white",
           "linecolor": "white",
           "ticks": "",
           "title": {
            "standoff": 15
           },
           "zerolinecolor": "white",
           "zerolinewidth": 2
          }
         }
        }
       }
      }
     },
     "metadata": {},
     "output_type": "display_data"
    }
   ],
   "source": [
    "# plot?...\n",
    "fig = px.scatter_3d(fe_data, x='RTA temperature (C)', y='RTA time (sec)', \n",
    "                        z='2Pr (uC/cm2), Pristine state')\n",
    "fig.update_layout(scene=dict(\n",
    "                            # xaxis=dict(nticks=4, range=[200, 800])\n",
    "                            # yaxis=dict(range=[0, 500])\n",
    "                            ),\n",
    "                   margin=dict(r=20, l=10, b=10, t=10)\n",
    "                   )\n",
    "fig.show()"
   ]
  },
  {
   "cell_type": "code",
   "execution_count": 39,
   "metadata": {},
   "outputs": [
    {
     "name": "stdout",
     "output_type": "stream",
     "text": [
      "12.5\n",
      "9.642857142857142\n"
     ]
    }
   ],
   "source": [
    "# prep training data\n",
    "from sklearn.preprocessing import StandardScaler\n",
    "T_scaler = StandardScaler()\n",
    "\n",
    "# filter training data \n",
    "mask = ~np.isnan(fe_data['2Pr (uC/cm2), Pristine state'])\n",
    "train_x = torch.Tensor([fe_data['RTA temperature (C)'][mask].values, \n",
    "                    #    np.log(fe_data['RTA time (sec)'][mask].values)*10]).T\n",
    "                       fe_data['RTA time (sec)'][mask].values]).T\n",
    "# train_x = torch.Tensor(T_scaler.fit_transform(train_x))\n",
    "train_raw_y = torch.Tensor(fe_data['2Pr (uC/cm2), Pristine state'][mask].values)\n",
    "train_y = train_raw_y #(train_raw_y - train_raw_y.mean()) / (train_raw_y.max() - train_raw_y.min())\n",
    "\n",
    "# define grid between bounds of RTA time, RTA temp\n",
    "grid_bounds = [(train_x[:,0].min(), train_x[:,0].max() ), \n",
    "                (train_x[:,1].min(), train_x[:,1].max() ) ]\n",
    "grid_size = 20\n",
    "grid = torch.zeros(grid_size, len(grid_bounds))\n",
    "\n",
    "for i in range(len(grid_bounds)):\n",
    "    grid_diff = float(grid_bounds[i][1] - grid_bounds[i][0]) / (grid_size - 2)\n",
    "    grid[:, i] = torch.linspace(grid_bounds[i][0] - grid_diff, \n",
    "                                grid_bounds[i][1] + grid_diff, grid_size)\n",
    "                        \n",
    "# Set up grid for predictions\n",
    "\n",
    "n=30 # number of points in grid, different from one supplied to GP\n",
    "test_grid = torch.zeros(n, len(grid_bounds))\n",
    "for i in range(len(grid_bounds)): # Creates a grid s.t. grid[:, i] is the vector along dimension i\n",
    "    grid_diff = float(grid_bounds[i][1] - grid_bounds[i][0]) / (n - 2)\n",
    "    print(grid_diff)\n",
    "    test_grid[:, i] = torch.linspace(grid_bounds[i][0] - grid_diff, \n",
    "                                grid_bounds[i][1] + grid_diff, n)\n",
    "\n",
    "test_x = torch.zeros(int(pow(n, 2)), 2)\n",
    "for i in range(n): #Basically making grid \n",
    "    for j in range(n):\n",
    "        test_x[i*n + j][0] = test_grid[i, 0]\n",
    "        test_x[i*n + j][1] = test_grid[j, 1]\n"
   ]
  },
  {
   "cell_type": "code",
   "execution_count": 40,
   "metadata": {},
   "outputs": [],
   "source": [
    "def intermediate_plot(f, ax, obs, title):\n",
    "    im = ax.imshow(obs.mean.view(n, n), aspect='equal',\n",
    "                extent=[grid_bounds[0][0].item(), grid_bounds[0][1].item(),\n",
    "                            grid_bounds[1][0].item(), grid_bounds[1][1].item()])\n",
    "    f.colorbar(im)\n",
    "    # ax.scatter(train_x[:,0], train_x[:,1], c=train_y)\n",
    "    ax.set_title(title)"
   ]
  },
  {
   "cell_type": "code",
   "execution_count": 41,
   "metadata": {},
   "outputs": [
    {
     "name": "stdout",
     "output_type": "stream",
     "text": [
      "tensor([5., 5., 5., 5., 5., 5., 5., 5., 5., 5., 5.])\n"
     ]
    }
   ],
   "source": [
    "# initialize GP model\n",
    "class GridGP(gpytorch.models.ExactGP, GPyTorchModel):\n",
    "\n",
    "    _num_outputs = 1\n",
    "    def __init__(self, train_x, train_y, likelihood):\n",
    "        super(GridGP, self).__init__(train_x, train_y, likelihood)  \n",
    "        self.mean_module = gpytorch.means.ConstantMean()\n",
    "        self.covar_module = gpytorch.kernels.ScaleKernel(\n",
    "                                gpytorch.kernels.RBFKernel(ard_num_dims=2) )\n",
    "    \n",
    "    def forward(self, x):\n",
    "        mean_x = self.mean_module(x)\n",
    "        covar_x = self.covar_module(x)\n",
    "        return gpytorch.distributions.MultivariateNormal(mean_x, covar_x)\n",
    "\n",
    "# likelihood = gpytorch.likelihoods.GaussianLikelihood()\n",
    "noises = torch.ones(len(train_x)) * 5\n",
    "likelihood = gpytorch.likelihoods.FixedNoiseGaussianLikelihood(noise=noises)\n",
    "model = GridGP(train_x, train_y, likelihood)\n",
    "\n",
    "\n",
    "model.covar_module.base_kernel.lengthscale = torch.Tensor([100, 100])\n",
    "print(likelihood.noise)"
   ]
  },
  {
   "cell_type": "code",
   "execution_count": 42,
   "metadata": {},
   "outputs": [
    {
     "name": "stdout",
     "output_type": "stream",
     "text": [
      "Iter 10/2000: 5.749792575836182\n",
      "Iter 20/2000: 4.356285095214844\n",
      "Iter 30/2000: 3.3779075145721436\n"
     ]
    },
    {
     "data": {
      "text/plain": [
       "ExactMarginalLogLikelihood(\n",
       "  (likelihood): FixedNoiseGaussianLikelihood(\n",
       "    (noise_covar): FixedGaussianNoise()\n",
       "  )\n",
       "  (model): GridGP(\n",
       "    (likelihood): FixedNoiseGaussianLikelihood(\n",
       "      (noise_covar): FixedGaussianNoise()\n",
       "    )\n",
       "    (mean_module): ConstantMean()\n",
       "    (covar_module): ScaleKernel(\n",
       "      (base_kernel): RBFKernel(\n",
       "        (raw_lengthscale_constraint): Positive()\n",
       "        (distance_module): Distance()\n",
       "      )\n",
       "      (raw_outputscale_constraint): Positive()\n",
       "    )\n",
       "  )\n",
       ")"
      ]
     },
     "execution_count": 42,
     "metadata": {},
     "output_type": "execute_result"
    }
   ],
   "source": [
    "from botorch.optim.fit import fit_gpytorch_torch\n",
    "\n",
    "mll = gpytorch.mlls.ExactMarginalLogLikelihood(likelihood, model)\n",
    "mll.train()\n",
    "fit_gpytorch_torch(mll, options={'maxiter':2000, 'lr':10})\n",
    "mll.eval()"
   ]
  },
  {
   "cell_type": "code",
   "execution_count": 43,
   "metadata": {
    "tags": []
   },
   "outputs": [
    {
     "name": "stdout",
     "output_type": "stream",
     "text": [
      "Iter 1/2000 - Loss: 3.457  lengthscale1: [[ 29.339405 181.33853 ]]   noise: [5. 5. 5. 5. 5. 5. 5. 5. 5. 5. 5.]\n",
      "Iter 101/2000 - Loss: 3.301  lengthscale1: [[ 26.348017 126.74336 ]]   noise: [5. 5. 5. 5. 5. 5. 5. 5. 5. 5. 5.]\n",
      "Iter 201/2000 - Loss: 3.301  lengthscale1: [[ 26.372837 126.97761 ]]   noise: [5. 5. 5. 5. 5. 5. 5. 5. 5. 5. 5.]\n",
      "Iter 301/2000 - Loss: 3.301  lengthscale1: [[ 26.37243 126.97544]]   noise: [5. 5. 5. 5. 5. 5. 5. 5. 5. 5. 5.]\n",
      "Iter 401/2000 - Loss: 3.301  lengthscale1: [[ 26.372213 126.97546 ]]   noise: [5. 5. 5. 5. 5. 5. 5. 5. 5. 5. 5.]\n",
      "Iter 501/2000 - Loss: 3.301  lengthscale1: [[ 26.372673 126.97548 ]]   noise: [5. 5. 5. 5. 5. 5. 5. 5. 5. 5. 5.]\n",
      "Iter 601/2000 - Loss: 3.301  lengthscale1: [[ 26.372814 126.97541 ]]   noise: [5. 5. 5. 5. 5. 5. 5. 5. 5. 5. 5.]\n",
      "Iter 701/2000 - Loss: 3.301  lengthscale1: [[ 26.372103 126.9755  ]]   noise: [5. 5. 5. 5. 5. 5. 5. 5. 5. 5. 5.]\n",
      "Iter 801/2000 - Loss: 3.301  lengthscale1: [[ 26.371866 126.975494]]   noise: [5. 5. 5. 5. 5. 5. 5. 5. 5. 5. 5.]\n",
      "Iter 901/2000 - Loss: 3.301  lengthscale1: [[ 26.37289 126.97496]]   noise: [5. 5. 5. 5. 5. 5. 5. 5. 5. 5. 5.]\n",
      "Iter 1001/2000 - Loss: 3.301  lengthscale1: [[ 26.372192 126.9754  ]]   noise: [5. 5. 5. 5. 5. 5. 5. 5. 5. 5. 5.]\n",
      "Iter 1101/2000 - Loss: 3.301  lengthscale1: [[ 26.561886 126.92195 ]]   noise: [5. 5. 5. 5. 5. 5. 5. 5. 5. 5. 5.]\n",
      "Iter 1201/2000 - Loss: 3.303  lengthscale1: [[ 25.566174 127.72661 ]]   noise: [5. 5. 5. 5. 5. 5. 5. 5. 5. 5. 5.]\n",
      "Iter 1301/2000 - Loss: 3.303  lengthscale1: [[ 25.749424 127.70297 ]]   noise: [5. 5. 5. 5. 5. 5. 5. 5. 5. 5. 5.]\n",
      "Iter 1401/2000 - Loss: 3.301  lengthscale1: [[ 26.485147 127.11934 ]]   noise: [5. 5. 5. 5. 5. 5. 5. 5. 5. 5. 5.]\n",
      "Iter 1501/2000 - Loss: 3.302  lengthscale1: [[ 26.730978 127.17404 ]]   noise: [5. 5. 5. 5. 5. 5. 5. 5. 5. 5. 5.]\n",
      "Iter 1601/2000 - Loss: 3.301  lengthscale1: [[ 26.263596 126.70709 ]]   noise: [5. 5. 5. 5. 5. 5. 5. 5. 5. 5. 5.]\n",
      "Iter 1701/2000 - Loss: 3.301  lengthscale1: [[ 26.444735 127.01388 ]]   noise: [5. 5. 5. 5. 5. 5. 5. 5. 5. 5. 5.]\n",
      "Iter 1801/2000 - Loss: 3.301  lengthscale1: [[ 26.353334 126.86036 ]]   noise: [5. 5. 5. 5. 5. 5. 5. 5. 5. 5. 5.]\n",
      "Iter 1901/2000 - Loss: 3.301  lengthscale1: [[ 26.345932 127.07666 ]]   noise: [5. 5. 5. 5. 5. 5. 5. 5. 5. 5. 5.]\n"
     ]
    }
   ],
   "source": [
    "# Training loop\n",
    "training_iter = 2000\n",
    "\n",
    "# Place in training mode\n",
    "model.train()\n",
    "likelihood.train()\n",
    "\n",
    "optimizer = torch.optim.Adam(model.parameters(), lr=10)\n",
    "\n",
    "mll = gpytorch.mlls.ExactMarginalLogLikelihood(likelihood, model)\n",
    "\n",
    "for i in range(training_iter):\n",
    "    optimizer.zero_grad()\n",
    "\n",
    "    output = model(train_x)\n",
    "\n",
    "    loss = -mll(output, train_y)\n",
    "    loss.backward()\n",
    "\n",
    "    if i % 100 == 0: \n",
    "        print('Iter %d/%d - Loss: %.3f  lengthscale1: %s   noise: %s' % (\n",
    "        i+1, training_iter, loss.item(), \n",
    "        model.covar_module.base_kernel.lengthscale.detach().numpy(),\n",
    "        model.likelihood.noise.detach().numpy()\n",
    "        )) \n",
    "\n",
    "        # # get a quick snapshot of intermediate \n",
    "        # model.eval()\n",
    "        # likelihood.eval()\n",
    "        # with torch.no_grad(), gpytorch.settings.fast_pred_var():\n",
    "        #     obs = likelihood(model(test_x))\n",
    "\n",
    "        #     f, ax = plt.subplots(1, 1, figsize=(4,3))\n",
    "        #     intermediate_plot(f, ax, obs, f'iter {i+1}/{training_iter}')\n",
    "        # model.train()\n",
    "        # likelihood.train()\n",
    "\n",
    "\n",
    "    optimizer.step()"
   ]
  },
  {
   "cell_type": "code",
   "execution_count": 44,
   "metadata": {},
   "outputs": [],
   "source": [
    "# make predictions\n",
    "model.eval()\n",
    "likelihood.eval()\n",
    "\n",
    "with torch.no_grad(), gpytorch.settings.fast_pred_var():\n",
    "    obs = likelihood(model(test_x), noise=(torch.ones(len(test_x))*5))\n",
    "# print(f'train data: {fe_data[\"2Pr (uC/cm2), Pristine state\"][1]}')\n",
    "# print(f'observed: {obs.mean}')"
   ]
  },
  {
   "cell_type": "code",
   "execution_count": 45,
   "metadata": {},
   "outputs": [
    {
     "data": {
      "text/plain": [
       "torch.Size([900, 900])"
      ]
     },
     "execution_count": 45,
     "metadata": {},
     "output_type": "execute_result"
    }
   ],
   "source": [
    "obs.covariance_matrix.shape"
   ]
  },
  {
   "cell_type": "code",
   "execution_count": 46,
   "metadata": {},
   "outputs": [
    {
     "data": {
      "application/vnd.plotly.v1+json": {
       "config": {
        "plotlyServerURL": "https://plot.ly"
       },
       "data": [
        {
         "name": "GP regression",
         "type": "surface",
         "x": [
          337.5,
          350.4310302734375,
          363.362060546875,
          376.2930908203125,
          389.22412109375,
          402.1551513671875,
          415.0862121582031,
          428.0172424316406,
          440.9482727050781,
          453.8793029785156,
          466.8103332519531,
          479.7413635253906,
          492.67242431640625,
          505.60345458984375,
          518.5344848632812,
          531.4655151367188,
          544.3965454101562,
          557.3275756835938,
          570.2586059570312,
          583.189697265625,
          596.1207275390625,
          609.0517578125,
          621.9827880859375,
          634.913818359375,
          647.8448486328125,
          660.77587890625,
          673.7069091796875,
          686.637939453125,
          699.5689697265625,
          712.5
         ],
         "y": [
          20.35714340209961,
          30.33251190185547,
          40.307884216308594,
          50.28325271606445,
          60.25862121582031,
          70.23399353027344,
          80.20936584472656,
          90.18472290039062,
          100.16009521484375,
          110.13546752929688,
          120.11083221435547,
          130.08621215820312,
          140.0615692138672,
          150.0369415283203,
          160.01231384277344,
          169.9876708984375,
          179.96304321289062,
          189.93841552734375,
          199.91378784179688,
          209.88916015625,
          219.86453247070312,
          229.83990478515625,
          239.81527709960938,
          249.79063415527344,
          259.7659912109375,
          269.7413635253906,
          279.71673583984375,
          289.6921081542969,
          299.66748046875,
          309.6428527832031
         ],
         "z": [
          [
           1.805572509765625,
           1.5547904968261719,
           7.740426063537598,
           16.873279571533203,
           23.943586349487305,
           26.692729949951172,
           26.33599281311035,
           25.167139053344727,
           24.6019344329834,
           25.052061080932617,
           26.432540893554688,
           28.261241912841797,
           29.640499114990234,
           29.737464904785156,
           28.48153305053711,
           26.60776138305664,
           24.953380584716797,
           23.857179641723633,
           23.205732345581055,
           22.811756134033203,
           22.6226863861084,
           22.651578903198242,
           22.837779998779297,
           23.024555206298828,
           23.040943145751953,
           22.787879943847656,
           22.305007934570312,
           21.804983139038086,
           21.58063507080078,
           21.782102584838867
          ],
          [
           2.0628929138183594,
           1.8663387298583984,
           8.063265800476074,
           17.17647361755371,
           24.213008880615234,
           26.917083740234375,
           26.502233505249023,
           25.271347045898438,
           24.656269073486328,
           25.077577590942383,
           26.447776794433594,
           28.276554107666016,
           29.65830421447754,
           29.75524139404297,
           28.495698928833008,
           26.61661148071289,
           24.957542419433594,
           23.858234405517578,
           23.204938888549805,
           22.809846878051758,
           22.620243072509766,
           22.649215698242188,
           22.83594512939453,
           23.02324867248535,
           23.039684295654297,
           22.785905838012695,
           22.30166244506836,
           21.800220489501953,
           21.575237274169922,
           21.77727508544922
          ],
          [
           2.4794044494628906,
           2.3448104858398438,
           8.518012046813965,
           17.55649185180664,
           24.515483856201172,
           27.154516220092773,
           26.67679214477539,
           25.381990432739258,
           24.712509155273438,
           25.097179412841797,
           26.446292877197266,
           28.263168334960938,
           29.638795852661133,
           29.735065460205078,
           28.479530334472656,
           26.60650062561035,
           24.952787399291992,
           23.85702896118164,
           23.20584487915039,
           22.812026977539062,
           22.623037338256836,
           22.65191650390625,
           22.838041305541992,
           23.024742126464844,
           23.041122436523438,
           22.788164138793945,
           22.305484771728516,
           21.805662155151367,
           21.581405639648438,
           21.782791137695312
          ],
          [
           3.0499305725097656,
           2.9847164154052734,
           9.100378036499023,
           18.011150360107422,
           24.850841522216797,
           27.405956268310547,
           26.860824584960938,
           25.499914169311523,
           24.771133422851562,
           25.111133575439453,
           26.42832374572754,
           28.22138023376465,
           29.582340240478516,
           29.67729949951172,
           28.43331527709961,
           26.577613830566406,
           24.939205169677734,
           23.85359001159668,
           23.208431243896484,
           22.81825828552246,
           22.63101577758789,
           22.659629821777344,
           22.844032287597656,
           23.029003143310547,
           23.04523468017578,
           22.79461669921875,
           22.31640625,
           21.821210861206055,
           21.599029541015625,
           21.798551559448242
          ],
          [
           3.766246795654297,
           3.7773590087890625,
           9.803550720214844,
           18.536930084228516,
           25.218463897705078,
           27.672321319580078,
           27.05548095703125,
           25.625953674316406,
           24.832643508911133,
           25.119834899902344,
           26.39440155029297,
           28.152000427246094,
           29.489959716796875,
           29.58299446105957,
           28.357894897460938,
           26.530471801757812,
           24.917041778564453,
           23.84797477722168,
           23.2126522064209,
           22.828428268432617,
           22.644041061401367,
           22.672218322753906,
           22.853809356689453,
           23.035961151123047,
           23.051942825317383,
           22.805147171020508,
           22.334228515625,
           21.846582412719727,
           21.627788543701172,
           21.824268341064453
          ],
          [
           4.617465972900391,
           4.711254119873047,
           10.618542671203613,
           19.129051208496094,
           25.617218017578125,
           27.954307556152344,
           27.261842727661133,
           25.760887145996094,
           24.89753532409668,
           25.123794555664062,
           26.345355987548828,
           28.05632781982422,
           29.363332748413086,
           29.453834533691406,
           28.254615783691406,
           26.465919494628906,
           24.886690139770508,
           23.840286254882812,
           23.218433380126953,
           22.84235382080078,
           22.661874771118164,
           22.689455032348633,
           22.867197036743164,
           23.045486450195312,
           23.06113052368164,
           22.81956672668457,
           22.35862922668457,
           21.881322860717773,
           21.667165756225586,
           21.859481811523438
          ],
          [
           5.590005874633789,
           5.7721099853515625,
           11.534144401550293,
           19.78135871887207,
           26.045339584350586,
           28.252470016479492,
           27.480838775634766,
           25.905378341674805,
           24.96626853942871,
           25.123605728149414,
           26.282268524169922,
           27.936111450195312,
           29.20469856262207,
           29.292110443115234,
           28.125303268432617,
           26.38509750366211,
           24.848690032958984,
           23.83066177368164,
           23.225669860839844,
           22.85978889465332,
           22.6842041015625,
           22.711034774780273,
           22.883956909179688,
           23.05741310119629,
           23.0726318359375,
           22.837615966796875,
           22.389177322387695,
           21.9248104095459,
           21.716461181640625,
           21.903562545776367
          ],
          [
           6.668453216552734,
           6.9436798095703125,
           12.537558555603027,
           20.4868221282959,
           26.500696182250977,
           28.56700325012207,
           27.713205337524414,
           26.059940338134766,
           25.039243698120117,
           25.11994171142578,
           26.206459045410156,
           27.793495178222656,
           29.016834259033203,
           29.10063362121582,
           27.97220802307129,
           26.289409637451172,
           24.803699493408203,
           23.819265365600586,
           23.234237670898438,
           22.880428314208984,
           22.71063995361328,
           22.73658561706543,
           22.90380096435547,
           23.071533203125,
           23.08625030517578,
           22.858989715576172,
           22.42534828186035,
           21.97630500793457,
           21.774831771850586,
           21.955759048461914
          ],
          [
           7.83537483215332,
           8.207576751708984,
           13.614273071289062,
           21.237335205078125,
           26.980472564697266,
           28.89777946472168,
           27.959369659423828,
           26.224868774414062,
           25.116764068603516,
           25.113502502441406,
           26.119422912597656,
           27.630962371826172,
           28.802942276000977,
           28.88266372680664,
           27.797935485839844,
           26.18048667907715,
           24.752487182617188,
           23.806291580200195,
           23.243989944458008,
           22.903926849365234,
           22.74073028564453,
           22.765668869018555,
           22.926389694213867,
           23.087604522705078,
           23.10175132751465,
           22.883319854736328,
           22.466524124145508,
           22.034921646118164,
           21.84127426147461,
           22.015172958374023
          ],
          [
           9.072354316711426,
           9.54442024230957,
           14.748931884765625,
           22.024045944213867,
           27.48140525817871,
           29.244243621826172,
           28.219402313232422,
           26.400211334228516,
           25.199010848999023,
           25.105009078979492,
           26.02280616760254,
           27.451255798339844,
           28.56658172607422,
           28.641817092895508,
           27.60537338256836,
           26.060134887695312,
           24.695899963378906,
           23.79195785522461,
           23.2547664642334,
           22.929887771606445,
           22.77398109436035,
           22.797805786132812,
           22.95134925842285,
           23.105365753173828,
           23.118879318237305,
           22.910202026367188,
           22.51201820373535,
           22.099693298339844,
           21.914691925048828,
           22.080825805664062
          ],
          [
           10.36011028289795,
           10.933839797973633,
           15.925325393676758,
           22.83759307861328,
           27.999671936035156,
           29.605323791503906,
           28.492931365966797,
           26.58570098876953,
           25.286008834838867,
           25.095155715942383,
           25.918346405029297,
           27.257314682006836,
           28.31155776977539,
           28.38196563720703,
           27.39761734008789,
           25.93028450012207,
           24.634849548339844,
           23.776493072509766,
           23.266393661499023,
           22.95789909362793,
           22.80985450744629,
           22.832477569580078,
           22.9782772064209,
           23.124526977539062,
           23.137359619140625,
           22.939207077026367,
           22.56110382080078,
           22.169572830200195,
           21.9939022064209,
           22.151657104492188
          ],
          [
           11.679183959960938,
           12.355276107788086,
           17.12698745727539,
           23.668149948120117,
           28.530986785888672,
           29.97942352294922,
           28.77912139892578,
           26.780723571777344,
           25.37761116027832,
           25.0845947265625,
           25.807819366455078,
           27.05217933654785,
           28.041828155517578,
           28.107126235961914,
           27.177879333496094,
           25.792945861816406,
           24.570276260375977,
           23.7601375579834,
           23.278690338134766,
           22.987525939941406,
           22.847795486450195,
           22.86914825439453,
           23.006757736206055,
           23.144792556762695,
           23.156904220581055,
           22.96988296508789,
           22.613018035888672,
           22.24348258972168,
           22.077680587768555,
           22.226573944091797
          ],
          [
           13.01042366027832,
           13.788469314575195,
           18.337604522705078,
           24.505779266357422,
           29.070606231689453,
           30.364356994628906,
           29.076568603515625,
           26.984310150146484,
           25.47347068786621,
           25.073904037475586,
           25.693002700805664,
           26.838924407958984,
           27.761390686035156,
           27.82137680053711,
           26.949419021606445,
           25.650156021118164,
           24.50313949584961,
           23.743131637573242,
           23.291475296020508,
           23.018327713012695,
           22.887245178222656,
           22.907276153564453,
           23.0363712310791,
           23.165863037109375,
           23.17722511291504,
           23.00177574157715,
           22.6669921875,
           22.320322036743164,
           22.164779663085938,
           22.304458618164062
          ],
          [
           14.335503578186035,
           15.213960647583008,
           19.541353225708008,
           25.34064483642578,
           29.613452911376953,
           30.75735855102539,
           29.383319854736328,
           27.195093154907227,
           25.57302474975586,
           25.063560485839844,
           25.57562255859375,
           26.620580673217773,
           27.474206924438477,
           27.52873992919922,
           26.715450286865234,
           25.503921508789062,
           24.434385299682617,
           23.72571563720703,
           23.304569244384766,
           23.04987144470215,
           22.927644729614258,
           22.946321487426758,
           23.066696166992188,
           23.187442779541016,
           23.198036193847656,
           23.034439086914062,
           22.722270965576172,
           22.399017333984375,
           22.253982543945312,
           22.384225845336914
          ],
          [
           15.637104988098145,
           16.613327026367188,
           20.723114013671875,
           26.16295623779297,
           30.154062271118164,
           31.155033111572266,
           29.696857452392578,
           27.411296844482422,
           25.675500869750977,
           25.053932189941406,
           25.457307815551758,
           26.400068283081055,
           27.1840877532959,
           27.23310089111328,
           26.47907829284668,
           25.35618782043457,
           24.364925384521484,
           23.708120346069336,
           23.31779670715332,
           23.081741333007812,
           22.96845817565918,
           22.985769271850586,
           23.097333908081055,
           23.20924186706543,
           23.21906280517578,
           23.06743812561035,
           22.77811622619629,
           22.4785213470459,
           22.344099044799805,
           22.464811325073242
          ],
          [
           16.899423599243164,
           17.969688415527344,
           21.86886978149414,
           26.96333122253418,
           30.686660766601562,
           31.55344009399414,
           30.014108657836914,
           27.63079071044922,
           25.779911041259766,
           25.04525375366211,
           25.339567184448242,
           26.180124282836914,
           26.89463233947754,
           26.93812370300293,
           26.243236541748047,
           25.208782196044922,
           24.29561996459961,
           23.69056510925293,
           23.330995559692383,
           23.11353874206543,
           23.00918197631836,
           23.025129318237305,
           23.12790298461914,
           23.230995178222656,
           23.240039825439453,
           23.10036277770996,
           22.833837509155273,
           22.55784797668457,
           22.434017181396484,
           22.54521942138672
          ],
          [
           18.108612060546875,
           19.2681884765625,
           22.96608543395996,
           27.73302459716797,
           31.205379486083984,
           31.948074340820312,
           30.331453323364258,
           27.85106658935547,
           25.88506317138672,
           25.03762435913086,
           25.223743438720703,
           25.96327018737793,
           26.609149932861328,
           26.64718246459961,
           26.010618209838867,
           25.063392639160156,
           24.22726058959961,
           23.673250198364258,
           23.344013214111328,
           23.144901275634766,
           23.049348831176758,
           23.063949584960938,
           23.15805435180664,
           23.25244903564453,
           23.260730743408203,
           23.132837295532227,
           22.888797760009766,
           22.636091232299805,
           22.522706985473633,
           22.624526977539062
          ],
          [
           19.25262451171875,
           20.495819091796875,
           24.00358009338379,
           28.463794708251953,
           31.70419692993164,
           32.33403015136719,
           30.644847869873047,
           28.069299697875977,
           25.98957633972168,
           25.031005859375,
           25.111007690429688,
           25.751750946044922,
           26.33061408996582,
           26.36330795288086,
           25.783647537231445,
           24.921533584594727,
           24.16056251525879,
           23.656354904174805,
           23.35671615600586,
           23.17550277709961,
           23.088539123535156,
           23.101829528808594,
           23.18747329711914,
           23.27338218688965,
           23.280920028686523,
           23.16452407836914,
           22.942420959472656,
           22.712432861328125,
           22.609243392944336,
           22.7019100189209
          ],
          [
           20.321571350097656,
           21.64181900024414,
           24.97185516357422,
           29.148197174072266,
           32.17706298828125,
           32.705989837646484,
           30.949817657470703,
           28.282413482666016,
           26.091920852661133,
           25.02522850036621,
           25.002328872680664,
           25.547517776489258,
           26.06161117553711,
           26.089139938354492,
           25.564437866210938,
           24.78452491760254,
           24.09614372253418,
           23.640037536621094,
           23.36898422241211,
           23.205059051513672,
           23.126392364501953,
           23.138412475585938,
           23.21588706970215,
           23.29360008239746,
           23.300418853759766,
           23.195125579833984,
           22.994211196899414,
           22.786163330078125,
           22.69281578063965,
           22.776641845703125
          ],
          [
           21.307846069335938,
           22.697778701782227,
           25.863189697265625,
           29.779685974121094,
           32.618072509765625,
           33.05836868286133,
           31.241615295410156,
           28.487119674682617,
           26.190441131591797,
           25.019990921020508,
           24.898483276367188,
           25.352203369140625,
           25.8043270111084,
           25.8269100189209,
           25.354772567749023,
           24.653480529785156,
           24.034530639648438,
           23.62442970275879,
           23.38071632385254,
           23.233325958251953,
           23.162595748901367,
           23.173402786254883,
           23.24306297302246,
           23.312936782836914,
           23.319068908691406,
           23.224395751953125,
           23.043746948242188,
           22.8566837310791,
           22.77275276184082,
           22.84812355041504
          ],
          [
           22.205989837646484,
           23.657564163208008,
           26.671649932861328,
           30.352638244628906,
           33.021575927734375,
           33.38554000854492,
           31.5153751373291,
           28.680044174194336,
           26.28340721130371,
           25.014892578125,
           24.800039291381836,
           25.1671142578125,
           25.56052589416504,
           25.57842445373535,
           25.156095504760742,
           24.52930450439453,
           23.976146697998047,
           23.60964012145996,
           23.391836166381836,
           23.260112762451172,
           23.196901321411133,
           23.206560134887695,
           23.268814086914062,
           23.331260681152344,
           23.336740493774414,
           23.252132415771484,
           23.090688705444336,
           22.92350959777832,
           22.848501205444336,
           22.915861129760742
          ],
          [
           23.012577056884766,
           24.51715850830078,
           27.392942428588867,
           30.862323760986328,
           33.382164001464844,
           33.68181610107422,
           31.76612091064453,
           28.857769012451172,
           26.369054794311523,
           25.009443283081055,
           24.707374572753906,
           24.99323844909668,
           25.331554412841797,
           25.345064163208008,
           24.969512939453125,
           24.412687301635742,
           23.92131805419922,
           23.595752716064453,
           23.40227699279785,
           23.285268783569336,
           23.22911834716797,
           23.237699508666992,
           23.292999267578125,
           23.348468780517578,
           23.353336334228516,
           23.278179168701172,
           23.1347713470459,
           22.98626708984375,
           22.91963768005371,
           22.97947120666504
          ],
          [
           23.72616958618164,
           25.274639129638672,
           28.02445411682129,
           31.30504035949707,
           33.694923400878906,
           33.941741943359375,
           31.989013671875,
           29.016950607299805,
           26.445642471313477,
           25.003084182739258,
           24.620685577392578,
           24.831253051757812,
           25.118362426757812,
           25.1278018951416,
           24.795806884765625,
           24.304119110107422,
           23.870271682739258,
           23.582820892333984,
           23.411998748779297,
           23.30868911743164,
           23.259113311767578,
           23.26668930053711,
           23.315513610839844,
           23.364490509033203,
           23.36878776550293,
           23.30242919921875,
           23.175809860229492,
           23.044694900512695,
           22.98586654663086,
           23.038694381713867
          ],
          [
           24.347204208374023,
           25.930112838745117,
           28.56525993347168,
           31.678171157836914,
           33.95554733276367,
           34.16019821166992,
           32.17948532104492,
           29.154436111450195,
           26.511505126953125,
           24.99522590637207,
           24.540008544921875,
           24.681547164916992,
           24.9215145111084,
           24.927227020263672,
           24.63544273376465,
           24.203889846801758,
           23.82314682006836,
           23.570884704589844,
           23.42097282409668,
           23.330310821533203,
           23.286802291870117,
           23.2934513092041,
           23.336299896240234,
           23.37928009033203,
           23.3830509185791,
           23.324817657470703,
           23.213699340820312,
           23.0986328125,
           23.047006607055664,
           23.093368530273438
          ],
          [
           24.877605438232422,
           26.485267639160156,
           29.015750885009766,
           31.980026245117188,
           34.160316467285156,
           34.33252716064453,
           32.33330535888672,
           29.267311096191406,
           26.565099716186523,
           24.98526382446289,
           24.465232849121094,
           24.54423713684082,
           24.741228103637695,
           24.743566513061523,
           24.488609313964844,
           24.112117767333984,
           23.779996871948242,
           23.559955596923828,
           23.429189682006836,
           23.350107192993164,
           23.312156677246094,
           23.317955017089844,
           23.355331420898438,
           23.392822265625,
           23.3961124420166,
           23.34531593322754,
           23.248388290405273,
           23.148019790649414,
           23.102985382080078,
           23.1434268951416
          ],
          [
           25.32078742980957,
           26.94340705871582,
           29.377750396728516,
           32.20996856689453,
           34.30632781982422,
           34.454715728759766,
           32.44676971435547,
           29.35301399230957,
           26.605060577392578,
           24.972612380981445,
           24.39613914489746,
           24.41921615600586,
           24.577411651611328,
           24.576740264892578,
           24.355241775512695,
           24.028762817382812,
           23.740806579589844,
           23.55002784729004,
           23.43665313720703,
           23.368087768554688,
           23.33518409729004,
           23.340213775634766,
           23.372617721557617,
           23.405122756958008,
           23.407974243164062,
           23.363933563232422,
           23.279897689819336,
           23.1928768157959,
           23.153833389282227,
           23.188894271850586
          ],
          [
           25.681180953979492,
           27.308971405029297,
           29.654132843017578,
           32.368316650390625,
           34.391536712646484,
           34.52356719970703,
           32.51686477661133,
           29.409461975097656,
           26.630239486694336,
           24.956727981567383,
           24.33240509033203,
           24.306171417236328,
           24.42970848083496,
           24.426387786865234,
           24.235050201416016,
           23.953643798828125,
           23.705488204956055,
           23.541080474853516,
           23.44338035583496,
           23.384292602539062,
           23.355937957763672,
           23.360271453857422,
           23.38819694519043,
           23.416208267211914,
           23.418664932250977,
           23.380712509155273,
           23.30829429626465,
           23.23330307006836,
           23.199655532836914,
           23.22987174987793
          ],
          [
           25.964221954345703,
           27.58756446838379,
           29.848880767822266,
           32.45633316040039,
           34.414764404296875,
           34.53669357299805,
           32.5412483215332,
           29.435028076171875,
           26.639755249023438,
           24.9371337890625,
           24.27364730834961,
           24.204626083374023,
           24.297534942626953,
           24.291919708251953,
           24.1275691986084,
           23.8864688873291,
           23.673904418945312,
           23.5330810546875,
           23.44939422607422,
           23.39878273010254,
           23.374496459960938,
           23.378206253051758,
           23.40212631225586,
           23.42612075805664,
           23.428224563598633,
           23.39571762084961,
           23.33368492126465,
           23.269451141357422,
           23.240631103515625,
           23.266511917114258
          ],
          [
           26.175928115844727,
           27.785459518432617,
           29.96670913696289,
           32.47614288330078,
           34.37581253051758,
           34.4926872253418,
           32.518428802490234,
           29.42865562438965,
           26.63299560546875,
           24.913442611694336,
           24.219438552856445,
           24.113975524902344,
           24.180124282836914,
           24.17256736755371,
           24.03217887878418,
           23.826852798461914,
           23.6458740234375,
           23.52597999572754,
           23.45473289489746,
           23.411643981933594,
           23.39096450805664,
           23.39412498474121,
           23.41448974609375,
           23.434917449951172,
           23.436710357666016,
           23.409032821655273,
           23.356220245361328,
           23.30153465270996,
           23.276996612548828,
           23.29903221130371
          ],
          [
           26.322790145874023,
           27.909523010253906,
           30.01305389404297,
           32.43071746826172,
           34.27545928955078,
           34.391197204589844,
           32.44780731201172,
           29.38990592956543,
           26.609678268432617,
           24.8853702545166,
           24.169326782226562,
           24.03351593017578,
           24.07657814025879,
           24.067413330078125,
           23.948152542114258,
           23.77433967590332,
           23.621185302734375,
           23.51972770690918,
           23.459434509277344,
           23.422971725463867,
           23.405473709106445,
           23.40814781188965,
           23.42538070678711,
           23.44266700744629,
           23.444183349609375,
           23.420761108398438,
           23.37607192993164,
           23.32979393005371,
           23.309030532836914,
           23.32767677307129
          ]
         ]
        },
        {
         "marker": {
          "color": "darkgreen"
         },
         "mode": "markers",
         "name": "training data",
         "type": "scatter3d",
         "x": [
          350,
          350,
          350,
          350,
          360,
          380,
          400,
          400,
          500,
          600,
          700
         ],
         "y": [
          30,
          60,
          120,
          300,
          30,
          30,
          30,
          300,
          30,
          30,
          30
         ],
         "z": [
          0.31095001101493835,
          3.050879955291748,
          11.487239837646484,
          27.853260040283203,
          5.914820194244385,
          20.168760299682617,
          26.66847038269043,
          35.18614959716797,
          30.255699157714844,
          22.557350158691406,
          21.468669891357422
         ]
        }
       ],
       "layout": {
        "height": 800,
        "legend": {
         "orientation": "h",
         "x": 1,
         "xanchor": "left",
         "y": 1.02,
         "yanchor": "top"
        },
        "margin": {
         "b": 10,
         "l": 10,
         "r": 20,
         "t": 10
        },
        "scene": {
         "camera": {
          "center": {
           "x": 0,
           "y": 0,
           "z": 0
          },
          "eye": {
           "x": -2,
           "y": -2.5,
           "z": 1.75
          },
          "up": {
           "x": 0,
           "y": 0,
           "z": 1
          }
         },
         "xaxis": {
          "title": {
           "text": "RTA temperature (C)"
          }
         },
         "yaxis": {
          "title": {
           "text": "RTA time (sec)"
          }
         },
         "zaxis": {
          "title": {
           "text": "2Pr (uC/cm2), Pristine"
          }
         }
        },
        "template": {
         "data": {
          "bar": [
           {
            "error_x": {
             "color": "#2a3f5f"
            },
            "error_y": {
             "color": "#2a3f5f"
            },
            "marker": {
             "line": {
              "color": "#E5ECF6",
              "width": 0.5
             }
            },
            "type": "bar"
           }
          ],
          "barpolar": [
           {
            "marker": {
             "line": {
              "color": "#E5ECF6",
              "width": 0.5
             }
            },
            "type": "barpolar"
           }
          ],
          "carpet": [
           {
            "aaxis": {
             "endlinecolor": "#2a3f5f",
             "gridcolor": "white",
             "linecolor": "white",
             "minorgridcolor": "white",
             "startlinecolor": "#2a3f5f"
            },
            "baxis": {
             "endlinecolor": "#2a3f5f",
             "gridcolor": "white",
             "linecolor": "white",
             "minorgridcolor": "white",
             "startlinecolor": "#2a3f5f"
            },
            "type": "carpet"
           }
          ],
          "choropleth": [
           {
            "colorbar": {
             "outlinewidth": 0,
             "ticks": ""
            },
            "type": "choropleth"
           }
          ],
          "contour": [
           {
            "colorbar": {
             "outlinewidth": 0,
             "ticks": ""
            },
            "colorscale": [
             [
              0,
              "#0d0887"
             ],
             [
              0.1111111111111111,
              "#46039f"
             ],
             [
              0.2222222222222222,
              "#7201a8"
             ],
             [
              0.3333333333333333,
              "#9c179e"
             ],
             [
              0.4444444444444444,
              "#bd3786"
             ],
             [
              0.5555555555555556,
              "#d8576b"
             ],
             [
              0.6666666666666666,
              "#ed7953"
             ],
             [
              0.7777777777777778,
              "#fb9f3a"
             ],
             [
              0.8888888888888888,
              "#fdca26"
             ],
             [
              1,
              "#f0f921"
             ]
            ],
            "type": "contour"
           }
          ],
          "contourcarpet": [
           {
            "colorbar": {
             "outlinewidth": 0,
             "ticks": ""
            },
            "type": "contourcarpet"
           }
          ],
          "heatmap": [
           {
            "colorbar": {
             "outlinewidth": 0,
             "ticks": ""
            },
            "colorscale": [
             [
              0,
              "#0d0887"
             ],
             [
              0.1111111111111111,
              "#46039f"
             ],
             [
              0.2222222222222222,
              "#7201a8"
             ],
             [
              0.3333333333333333,
              "#9c179e"
             ],
             [
              0.4444444444444444,
              "#bd3786"
             ],
             [
              0.5555555555555556,
              "#d8576b"
             ],
             [
              0.6666666666666666,
              "#ed7953"
             ],
             [
              0.7777777777777778,
              "#fb9f3a"
             ],
             [
              0.8888888888888888,
              "#fdca26"
             ],
             [
              1,
              "#f0f921"
             ]
            ],
            "type": "heatmap"
           }
          ],
          "heatmapgl": [
           {
            "colorbar": {
             "outlinewidth": 0,
             "ticks": ""
            },
            "colorscale": [
             [
              0,
              "#0d0887"
             ],
             [
              0.1111111111111111,
              "#46039f"
             ],
             [
              0.2222222222222222,
              "#7201a8"
             ],
             [
              0.3333333333333333,
              "#9c179e"
             ],
             [
              0.4444444444444444,
              "#bd3786"
             ],
             [
              0.5555555555555556,
              "#d8576b"
             ],
             [
              0.6666666666666666,
              "#ed7953"
             ],
             [
              0.7777777777777778,
              "#fb9f3a"
             ],
             [
              0.8888888888888888,
              "#fdca26"
             ],
             [
              1,
              "#f0f921"
             ]
            ],
            "type": "heatmapgl"
           }
          ],
          "histogram": [
           {
            "marker": {
             "colorbar": {
              "outlinewidth": 0,
              "ticks": ""
             }
            },
            "type": "histogram"
           }
          ],
          "histogram2d": [
           {
            "colorbar": {
             "outlinewidth": 0,
             "ticks": ""
            },
            "colorscale": [
             [
              0,
              "#0d0887"
             ],
             [
              0.1111111111111111,
              "#46039f"
             ],
             [
              0.2222222222222222,
              "#7201a8"
             ],
             [
              0.3333333333333333,
              "#9c179e"
             ],
             [
              0.4444444444444444,
              "#bd3786"
             ],
             [
              0.5555555555555556,
              "#d8576b"
             ],
             [
              0.6666666666666666,
              "#ed7953"
             ],
             [
              0.7777777777777778,
              "#fb9f3a"
             ],
             [
              0.8888888888888888,
              "#fdca26"
             ],
             [
              1,
              "#f0f921"
             ]
            ],
            "type": "histogram2d"
           }
          ],
          "histogram2dcontour": [
           {
            "colorbar": {
             "outlinewidth": 0,
             "ticks": ""
            },
            "colorscale": [
             [
              0,
              "#0d0887"
             ],
             [
              0.1111111111111111,
              "#46039f"
             ],
             [
              0.2222222222222222,
              "#7201a8"
             ],
             [
              0.3333333333333333,
              "#9c179e"
             ],
             [
              0.4444444444444444,
              "#bd3786"
             ],
             [
              0.5555555555555556,
              "#d8576b"
             ],
             [
              0.6666666666666666,
              "#ed7953"
             ],
             [
              0.7777777777777778,
              "#fb9f3a"
             ],
             [
              0.8888888888888888,
              "#fdca26"
             ],
             [
              1,
              "#f0f921"
             ]
            ],
            "type": "histogram2dcontour"
           }
          ],
          "mesh3d": [
           {
            "colorbar": {
             "outlinewidth": 0,
             "ticks": ""
            },
            "type": "mesh3d"
           }
          ],
          "parcoords": [
           {
            "line": {
             "colorbar": {
              "outlinewidth": 0,
              "ticks": ""
             }
            },
            "type": "parcoords"
           }
          ],
          "pie": [
           {
            "automargin": true,
            "type": "pie"
           }
          ],
          "scatter": [
           {
            "marker": {
             "colorbar": {
              "outlinewidth": 0,
              "ticks": ""
             }
            },
            "type": "scatter"
           }
          ],
          "scatter3d": [
           {
            "line": {
             "colorbar": {
              "outlinewidth": 0,
              "ticks": ""
             }
            },
            "marker": {
             "colorbar": {
              "outlinewidth": 0,
              "ticks": ""
             }
            },
            "type": "scatter3d"
           }
          ],
          "scattercarpet": [
           {
            "marker": {
             "colorbar": {
              "outlinewidth": 0,
              "ticks": ""
             }
            },
            "type": "scattercarpet"
           }
          ],
          "scattergeo": [
           {
            "marker": {
             "colorbar": {
              "outlinewidth": 0,
              "ticks": ""
             }
            },
            "type": "scattergeo"
           }
          ],
          "scattergl": [
           {
            "marker": {
             "colorbar": {
              "outlinewidth": 0,
              "ticks": ""
             }
            },
            "type": "scattergl"
           }
          ],
          "scattermapbox": [
           {
            "marker": {
             "colorbar": {
              "outlinewidth": 0,
              "ticks": ""
             }
            },
            "type": "scattermapbox"
           }
          ],
          "scatterpolar": [
           {
            "marker": {
             "colorbar": {
              "outlinewidth": 0,
              "ticks": ""
             }
            },
            "type": "scatterpolar"
           }
          ],
          "scatterpolargl": [
           {
            "marker": {
             "colorbar": {
              "outlinewidth": 0,
              "ticks": ""
             }
            },
            "type": "scatterpolargl"
           }
          ],
          "scatterternary": [
           {
            "marker": {
             "colorbar": {
              "outlinewidth": 0,
              "ticks": ""
             }
            },
            "type": "scatterternary"
           }
          ],
          "surface": [
           {
            "colorbar": {
             "outlinewidth": 0,
             "ticks": ""
            },
            "colorscale": [
             [
              0,
              "#0d0887"
             ],
             [
              0.1111111111111111,
              "#46039f"
             ],
             [
              0.2222222222222222,
              "#7201a8"
             ],
             [
              0.3333333333333333,
              "#9c179e"
             ],
             [
              0.4444444444444444,
              "#bd3786"
             ],
             [
              0.5555555555555556,
              "#d8576b"
             ],
             [
              0.6666666666666666,
              "#ed7953"
             ],
             [
              0.7777777777777778,
              "#fb9f3a"
             ],
             [
              0.8888888888888888,
              "#fdca26"
             ],
             [
              1,
              "#f0f921"
             ]
            ],
            "type": "surface"
           }
          ],
          "table": [
           {
            "cells": {
             "fill": {
              "color": "#EBF0F8"
             },
             "line": {
              "color": "white"
             }
            },
            "header": {
             "fill": {
              "color": "#C8D4E3"
             },
             "line": {
              "color": "white"
             }
            },
            "type": "table"
           }
          ]
         },
         "layout": {
          "annotationdefaults": {
           "arrowcolor": "#2a3f5f",
           "arrowhead": 0,
           "arrowwidth": 1
          },
          "autotypenumbers": "strict",
          "coloraxis": {
           "colorbar": {
            "outlinewidth": 0,
            "ticks": ""
           }
          },
          "colorscale": {
           "diverging": [
            [
             0,
             "#8e0152"
            ],
            [
             0.1,
             "#c51b7d"
            ],
            [
             0.2,
             "#de77ae"
            ],
            [
             0.3,
             "#f1b6da"
            ],
            [
             0.4,
             "#fde0ef"
            ],
            [
             0.5,
             "#f7f7f7"
            ],
            [
             0.6,
             "#e6f5d0"
            ],
            [
             0.7,
             "#b8e186"
            ],
            [
             0.8,
             "#7fbc41"
            ],
            [
             0.9,
             "#4d9221"
            ],
            [
             1,
             "#276419"
            ]
           ],
           "sequential": [
            [
             0,
             "#0d0887"
            ],
            [
             0.1111111111111111,
             "#46039f"
            ],
            [
             0.2222222222222222,
             "#7201a8"
            ],
            [
             0.3333333333333333,
             "#9c179e"
            ],
            [
             0.4444444444444444,
             "#bd3786"
            ],
            [
             0.5555555555555556,
             "#d8576b"
            ],
            [
             0.6666666666666666,
             "#ed7953"
            ],
            [
             0.7777777777777778,
             "#fb9f3a"
            ],
            [
             0.8888888888888888,
             "#fdca26"
            ],
            [
             1,
             "#f0f921"
            ]
           ],
           "sequentialminus": [
            [
             0,
             "#0d0887"
            ],
            [
             0.1111111111111111,
             "#46039f"
            ],
            [
             0.2222222222222222,
             "#7201a8"
            ],
            [
             0.3333333333333333,
             "#9c179e"
            ],
            [
             0.4444444444444444,
             "#bd3786"
            ],
            [
             0.5555555555555556,
             "#d8576b"
            ],
            [
             0.6666666666666666,
             "#ed7953"
            ],
            [
             0.7777777777777778,
             "#fb9f3a"
            ],
            [
             0.8888888888888888,
             "#fdca26"
            ],
            [
             1,
             "#f0f921"
            ]
           ]
          },
          "colorway": [
           "#636efa",
           "#EF553B",
           "#00cc96",
           "#ab63fa",
           "#FFA15A",
           "#19d3f3",
           "#FF6692",
           "#B6E880",
           "#FF97FF",
           "#FECB52"
          ],
          "font": {
           "color": "#2a3f5f"
          },
          "geo": {
           "bgcolor": "white",
           "lakecolor": "white",
           "landcolor": "#E5ECF6",
           "showlakes": true,
           "showland": true,
           "subunitcolor": "white"
          },
          "hoverlabel": {
           "align": "left"
          },
          "hovermode": "closest",
          "mapbox": {
           "style": "light"
          },
          "paper_bgcolor": "white",
          "plot_bgcolor": "#E5ECF6",
          "polar": {
           "angularaxis": {
            "gridcolor": "white",
            "linecolor": "white",
            "ticks": ""
           },
           "bgcolor": "#E5ECF6",
           "radialaxis": {
            "gridcolor": "white",
            "linecolor": "white",
            "ticks": ""
           }
          },
          "scene": {
           "xaxis": {
            "backgroundcolor": "#E5ECF6",
            "gridcolor": "white",
            "gridwidth": 2,
            "linecolor": "white",
            "showbackground": true,
            "ticks": "",
            "zerolinecolor": "white"
           },
           "yaxis": {
            "backgroundcolor": "#E5ECF6",
            "gridcolor": "white",
            "gridwidth": 2,
            "linecolor": "white",
            "showbackground": true,
            "ticks": "",
            "zerolinecolor": "white"
           },
           "zaxis": {
            "backgroundcolor": "#E5ECF6",
            "gridcolor": "white",
            "gridwidth": 2,
            "linecolor": "white",
            "showbackground": true,
            "ticks": "",
            "zerolinecolor": "white"
           }
          },
          "shapedefaults": {
           "line": {
            "color": "#2a3f5f"
           }
          },
          "ternary": {
           "aaxis": {
            "gridcolor": "white",
            "linecolor": "white",
            "ticks": ""
           },
           "baxis": {
            "gridcolor": "white",
            "linecolor": "white",
            "ticks": ""
           },
           "bgcolor": "#E5ECF6",
           "caxis": {
            "gridcolor": "white",
            "linecolor": "white",
            "ticks": ""
           }
          },
          "title": {
           "x": 0.05
          },
          "xaxis": {
           "automargin": true,
           "gridcolor": "white",
           "linecolor": "white",
           "ticks": "",
           "title": {
            "standoff": 15
           },
           "zerolinecolor": "white",
           "zerolinewidth": 2
          },
          "yaxis": {
           "automargin": true,
           "gridcolor": "white",
           "linecolor": "white",
           "ticks": "",
           "title": {
            "standoff": 15
           },
           "zerolinecolor": "white",
           "zerolinewidth": 2
          }
         }
        },
        "width": 1000
       }
      }
     },
     "metadata": {},
     "output_type": "display_data"
    }
   ],
   "source": [
    "# non-log scale\n",
    "\n",
    "pred_labels = obs.mean.view(n, n)\n",
    "# plot?...\n",
    "import plotly.graph_objects as go\n",
    "fig = go.Figure(data=[go.Surface(z=pred_labels.numpy().T, x=test_grid[:,0], y=test_grid[:,1], name='GP regression')])\n",
    "fig.add_trace(go.Scatter3d(x=train_x[:,0].numpy(),y=train_x[:,1].numpy(),  \n",
    "                        z=train_y.numpy(), mode='markers', marker={'color':'darkgreen'}, name='training data'))\n",
    "fig.update_layout( width=1000, height=800,\n",
    "                  legend=dict(orientation=\"h\", yanchor=\"top\", y=1.02, xanchor=\"left\",x=1),\n",
    "                   margin=dict(r=20, l=10, b=10, t=10), \n",
    "                    scene=dict(\n",
    "                    xaxis_title=\"RTA temperature (C)\",\n",
    "                    yaxis_title=\"RTA time (sec)\",\n",
    "                    zaxis_title='2Pr (uC/cm2), Pristine')\n",
    "                )\n",
    "camera = dict(\n",
    "    up=dict(x=0, y=0, z=1),\n",
    "    center=dict(x=0, y=0, z=0),\n",
    "    eye=dict(x=-2, y=-2.5, z=1.75)\n",
    ")\n",
    "\n",
    "fig.update_layout(scene_camera=camera)\n",
    "fig.show()"
   ]
  },
  {
   "cell_type": "code",
   "execution_count": 15,
   "metadata": {},
   "outputs": [],
   "source": [
    "# # log scale\n",
    "# pred_labels = obs.mean.view(n, n)\n",
    "# # plot?...\n",
    "# import plotly.graph_objects as go\n",
    "# fig = go.Figure(data=[go.Surface(z=pred_labels.numpy().T, x=test_grid[:,0], y=test_grid[:,1], name='GP regression')])\n",
    "# fig.add_trace(go.Scatter3d(x=train_x[:,0].numpy(),y=train_x[:,1].numpy(),  \n",
    "#                         z=train_y.numpy(), mode='markers', marker={'color':'darkgreen'}, name='trianing data'))\n",
    "# fig.update_layout( #width=1000, height=800,\n",
    "#                   legend=dict(orientation=\"h\", yanchor=\"top\", y=1.02, xanchor=\"left\",x=1),\n",
    "#                    margin=dict(r=20, l=10, b=10, t=10), \n",
    "#                     scene=dict(\n",
    "#                     xaxis_title=\"RTA temperature (C)\",\n",
    "#                     yaxis_title=\"RTA time (sec)\",\n",
    "#                     zaxis_title='2Pr (uC/cm2), Pristine')\n",
    "#                 )\n",
    "# fig.show()"
   ]
  },
  {
   "cell_type": "code",
   "execution_count": 14,
   "metadata": {},
   "outputs": [],
   "source": [
    "from mltools.acq_funcs import EI, PI, cust_acq, thompson\n",
    "bounds = [1,1]\n",
    "\n",
    "PI_acq = PI(obs, bounds, train_y)\n",
    "PI_acq_shape = PI_acq.detach().numpy().reshape(30,30).T\n",
    "\n",
    "EI_acq = EI(obs, bounds, train_y)\n",
    "EI_acq_shape = EI_acq.detach().numpy().reshape(30,30).T\n",
    "\n",
    "ca_acq = cust_acq(obs, bounds, train_y)\n",
    "ca_acq_shape = ca_acq.detach().numpy().reshape(30,30).T\n",
    "\n",
    "th_acq = thompson(obs, bounds, train_y)\n",
    "th_acq_shape = th_acq.detach().numpy().reshape(30,30).T\n",
    "# fig = go.Figure(data=[go.Surface(z=acq, x=test_grid[:,0], y=test_grid[:,1])])\n"
   ]
  },
  {
   "cell_type": "code",
   "execution_count": 15,
   "metadata": {},
   "outputs": [],
   "source": [
    "ei = np.unravel_index(EI_acq_shape.argmax(), EI_acq_shape.shape)\n",
    "pi = np.unravel_index(PI_acq_shape.argmax(), PI_acq_shape.shape)\n",
    "ca = np.unravel_index(ca_acq_shape.argmax(), ca_acq_shape.shape)\n",
    "th = np.unravel_index(th_acq_shape.argmax(), th_acq_shape.shape)"
   ]
  },
  {
   "cell_type": "code",
   "execution_count": 18,
   "metadata": {},
   "outputs": [
    {
     "data": {
      "application/vnd.plotly.v1+json": {
       "config": {
        "plotlyServerURL": "https://plot.ly"
       },
       "data": [
        {
         "opacity": 0.5,
         "showscale": false,
         "type": "surface",
         "x": [
          337.5,
          350.4310302734375,
          363.362060546875,
          376.2930908203125,
          389.22412109375,
          402.1551513671875,
          415.0862121582031,
          428.0172424316406,
          440.9482727050781,
          453.8793029785156,
          466.8103332519531,
          479.7413635253906,
          492.67242431640625,
          505.60345458984375,
          518.5344848632812,
          531.4655151367188,
          544.3965454101562,
          557.3275756835938,
          570.2586059570312,
          583.189697265625,
          596.1207275390625,
          609.0517578125,
          621.9827880859375,
          634.913818359375,
          647.8448486328125,
          660.77587890625,
          673.7069091796875,
          686.637939453125,
          699.5689697265625,
          712.5
         ],
         "y": [
          9.64285659790039,
          30.701967239379883,
          51.761077880859375,
          72.8201904296875,
          93.87930297851562,
          114.93841552734375,
          135.9975128173828,
          157.05662536621094,
          178.11573791503906,
          199.1748504638672,
          220.2339630126953,
          241.29306030273438,
          262.3521728515625,
          283.4112854003906,
          304.47039794921875,
          325.5295104980469,
          346.58868408203125,
          367.6477966308594,
          388.7069091796875,
          409.7659912109375,
          430.82513427734375,
          451.88421630859375,
          472.943359375,
          494.00244140625,
          515.0615844726562,
          536.1206665039062,
          557.1798095703125,
          578.2388916015625,
          599.2980346679688,
          620.3571166992188
         ],
         "z": [
          [
           7.9076619148254395,
           6.956529140472412,
           12.50849723815918,
           21.23531723022461,
           29.324947357177734,
           35.03818130493164,
           38.76970291137695,
           40.65635681152344,
           41.03034973144531,
           40.659584045410156,
           39.78155517578125,
           38.073673248291016,
           36.093238830566406,
           36.693153381347656,
           39.52587127685547,
           41.16472244262695,
           41.06456756591797,
           39.80343246459961,
           37.302608489990234,
           33.34158706665039,
           29.426280975341797,
           29.51481056213379,
           32.582244873046875,
           35.194976806640625,
           36.32122802734375,
           35.825340270996094,
           33.6693115234375,
           30.244192123413086,
           27.919628143310547,
           30.003463745117188
          ],
          [
           8.20853042602539,
           7.501177787780762,
           13.550275802612305,
           22.6005859375,
           30.693225860595703,
           36.22355651855469,
           39.745765686035156,
           41.27693176269531,
           41.25400161743164,
           40.649967193603516,
           39.73802185058594,
           38.087100982666016,
           36.14407730102539,
           36.701541900634766,
           39.434654235839844,
           40.89591979980469,
           40.684085845947266,
           39.51448059082031,
           37.17817306518555,
           33.27122497558594,
           29.2819766998291,
           29.387744903564453,
           32.51923751831055,
           35.16622543334961,
           36.3039436340332,
           35.7952880859375,
           33.5925178527832,
           30.06515884399414,
           27.623851776123047,
           29.815292358398438
          ],
          [
           9.14857292175293,
           8.756680488586426,
           15.227869987487793,
           24.430118560791016,
           32.354488372802734,
           37.543060302734375,
           40.698455810546875,
           41.75348663330078,
           41.27522277832031,
           40.46523666381836,
           39.628326416015625,
           38.2206916809082,
           36.585540771484375,
           37.11020278930664,
           39.441097259521484,
           40.51170349121094,
           40.108150482177734,
           39.103153228759766,
           37.09245300292969,
           33.47196578979492,
           29.713214874267578,
           29.748260498046875,
           32.684539794921875,
           35.23074722290039,
           36.33286666870117,
           35.83189392089844,
           33.680633544921875,
           30.269304275512695,
           27.960474014282227,
           30.029769897460938
          ],
          [
           10.67109489440918,
           10.628209114074707,
           17.38456916809082,
           26.550222396850586,
           34.15878677368164,
           38.89417266845703,
           41.55108642578125,
           42.02886199951172,
           41.05360794067383,
           40.085289001464844,
           39.44637680053711,
           38.45478820800781,
           37.3248405456543,
           37.84659957885742,
           39.570770263671875,
           40.049232482910156,
           39.36079406738281,
           38.60050964355469,
           37.07048034667969,
           33.935184478759766,
           30.61931800842285,
           30.51612663269043,
           33.05537033081055,
           35.381465911865234,
           36.40485382080078,
           35.93075942993164,
           33.9208984375,
           30.810955047607422,
           28.811492919921875,
           30.59725570678711
          ],
          [
           12.679106712341309,
           12.968307495117188,
           19.83499526977539,
           28.772960662841797,
           35.933441162109375,
           40.14915466308594,
           42.228633880615234,
           42.063323974609375,
           40.569984436035156,
           39.509803771972656,
           39.19388961791992,
           38.745567321777344,
           38.19623565673828,
           38.74093246459961,
           39.817848205566406,
           39.575294494628906,
           38.50798797607422,
           38.06843566894531,
           37.134639739990234,
           34.60026550292969,
           31.793601989746094,
           31.533695220947266,
           33.57954025268555,
           35.60110092163086,
           36.511878967285156,
           36.08026885986328,
           34.28045654296875,
           31.585052490234375,
           29.950851440429688,
           31.404434204101562
          ],
          [
           15.047487258911133,
           15.610063552856445,
           22.406166076660156,
           30.935203552246094,
           37.525936126708984,
           41.18355178833008,
           42.66769027709961,
           41.843326568603516,
           39.83576965332031,
           38.76609802246094,
           38.883914947509766,
           39.04087448120117,
           39.04994201660156,
           39.630775451660156,
           40.14550018310547,
           39.18163299560547,
           37.675594329833984,
           37.60071563720703,
           37.29751205444336,
           35.378944396972656,
           33.04885482788086,
           32.64681625366211,
           34.19171142578125,
           35.86589050292969,
           36.642574310302734,
           36.26398849487305,
           34.71538543701172,
           32.47477340698242,
           31.185951232910156,
           32.327796936035156
          ],
          [
           17.63554573059082,
           18.38922691345215,
           24.94976806640625,
           32.90879440307617,
           38.82231140136719,
           41.89926528930664,
           42.82451248168945,
           41.386680603027344,
           38.90306854248047,
           37.91594314575195,
           38.54208755493164,
           39.29582214355469,
           39.78607940673828,
           40.406490325927734,
           40.50078582763672,
           38.9587287902832,
           37.052337646484375,
           37.30596923828125,
           37.555625915527344,
           36.183712005615234,
           34.257225036621094,
           33.740447998046875,
           34.828773498535156,
           36.150169372558594,
           36.78425216674805,
           36.463775634765625,
           35.180503845214844,
           33.3823127746582,
           32.39080810546875,
           33.26605987548828
          ],
          [
           20.299785614013672,
           21.15410614013672,
           27.342344284057617,
           34.599205017089844,
           39.748046875,
           42.235260009765625,
           42.6802864074707,
           40.74431610107422,
           37.874267578125,
           37.0578498840332,
           38.204044342041016,
           39.48154830932617,
           40.35150909423828,
           41.008975982666016,
           40.832340240478516,
           38.951751708984375,
           36.82328796386719,
           37.263671875,
           37.88786697387695,
           36.944454193115234,
           35.34165954589844,
           34.73991775512695,
           35.43930435180664,
           36.43042755126953,
           36.924896240234375,
           36.66261291503906,
           35.63665008544922,
           34.237979888916016,
           33.49116134643555,
           34.14809799194336
          ],
          [
           22.906787872314453,
           23.772537231445312,
           29.485578536987305,
           35.94346618652344,
           40.265586853027344,
           42.1699333190918,
           42.245338439941406,
           39.9960823059082,
           36.90372848510742,
           36.316558837890625,
           37.908626556396484,
           39.586734771728516,
           40.72801971435547,
           41.41606140136719,
           41.10089874267578,
           39.134952545166016,
           37.029727935791016,
           37.477699279785156,
           38.260005950927734,
           37.6131706237793,
           36.261199951171875,
           35.60266876220703,
           35.987144470214844,
           36.68806076049805,
           37.05466079711914,
           36.84675598144531,
           36.054588317871094,
           34.99846649169922,
           34.44767761230469,
           34.9304313659668
          ],
          [
           25.345548629760742,
           26.14063262939453,
           31.310646057128906,
           36.911582946777344,
           40.37444305419922,
           41.72208023071289,
           41.56228256225586,
           39.238319396972656,
           36.167537689208984,
           35.809600830078125,
           37.68862533569336,
           39.61456298828125,
           40.92148208618164,
           41.630470275878906,
           41.281951904296875,
           39.43220138549805,
           37.53644561767578,
           37.8757209777832,
           38.63275146484375,
           38.16224670410156,
           37.00006103515625,
           36.31005859375,
           36.45125198364258,
           36.91064453125,
           37.16673278808594,
           37.006797790527344,
           36.41598129272461,
           35.64178466796875,
           35.24469757080078,
           35.591339111328125
          ],
          [
           27.540019989013672,
           28.19400405883789,
           32.785945892333984,
           37.51079559326172,
           40.11336135864258,
           40.95301055908203,
           40.707252502441406,
           38.56394577026367,
           35.78409194946289,
           35.59910202026367,
           37.56270980834961,
           39.57761001586914,
           40.95318603515625,
           41.670814514160156,
           41.36408233642578,
           39.758060455322266,
           38.158695220947266,
           38.35401916503906,
           38.96953582763672,
           38.58058166503906,
           37.56013870239258,
           36.860809326171875,
           36.82353210449219,
           37.091941833496094,
           37.25752639770508,
           37.13782501220703,
           36.71247100830078,
           36.162139892578125,
           35.88300323486328,
           36.12553405761719
          ],
          [
           29.457908630371094,
           29.918941497802734,
           33.92531967163086,
           37.79072189331055,
           39.564659118652344,
           39.96969985961914,
           39.787540435791016,
           38.042091369628906,
           35.75012969970703,
           35.66852951049805,
           37.53223419189453,
           39.49264907836914,
           40.85297393798828,
           41.56477355957031,
           41.34608459472656,
           40.04426956176758,
           38.75749969482422,
           38.81998062133789,
           39.24177551269531,
           38.869422912597656,
           37.955379486083984,
           37.26569747924805,
           37.105857849121094,
           37.231040954589844,
           37.326351165771484,
           37.23891067504883,
           36.9437370300293,
           36.565189361572266,
           36.37445068359375,
           36.53919982910156
          ],
          [
           31.114042282104492,
           31.359704971313477,
           34.7935791015625,
           37.84690856933594,
           38.85880661010742,
           38.926544189453125,
           38.93067932128906,
           37.70932388305664,
           35.976139068603516,
           35.94718933105469,
           37.583702087402344,
           39.3764533996582,
           40.65378189086914,
           41.34402847290039,
           41.23423385620117,
           40.247100830078125,
           39.251888275146484,
           39.20936965942383,
           39.43119430541992,
           39.038673400878906,
           38.207279205322266,
           37.543094635009766,
           37.306976318359375,
           37.330997467041016,
           37.37474060058594,
           37.31210708618164,
           37.115142822265625,
           36.86395263671875,
           36.73772048950195,
           36.845909118652344
          ],
          [
           32.56376647949219,
           32.61457824707031,
           35.503726959228516,
           37.818260192871094,
           38.17394256591797,
           38.01506423950195,
           38.26118850708008,
           37.57454299926758,
           36.36299514770508,
           36.35230255126953,
           37.69475555419922,
           39.243202209472656,
           40.38768005371094,
           41.040557861328125,
           41.040157318115234,
           40.3452033996582,
           39.6038932800293,
           39.48664855957031,
           39.53013610839844,
           39.103790283203125,
           38.341148376464844,
           37.71527862548828,
           37.439571380615234,
           37.39739227294922,
           37.405670166015625,
           37.36140060424805,
           37.235477447509766,
           37.07536697387695,
           36.99481964111328,
           37.0631103515625
          ],
          [
           33.88282012939453,
           33.80754089355469,
           36.19446563720703,
           37.866455078125,
           37.71045684814453,
           37.42137145996094,
           37.86951446533203,
           37.62822723388672,
           36.837371826171875,
           36.81451416015625,
           37.84056854248047,
           39.10338592529297,
           40.083160400390625,
           40.68412780761719,
           40.77911376953125,
           40.33484649658203,
           39.80420684814453,
           39.63951873779297,
           39.54039764404297,
           39.08329772949219,
           38.383140563964844,
           37.80542755126953,
           37.51786804199219,
           37.43695831298828,
           37.42278289794922,
           37.391639709472656,
           37.31493377685547,
           37.21751022338867,
           37.16823959350586,
           37.20936584472656
          ],
          [
           35.13608932495117,
           35.03483963012695,
           36.983673095703125,
           38.129947662353516,
           37.62434387207031,
           37.25320816040039,
           37.78935241699219,
           37.848655700683594,
           37.351707458496094,
           37.28448486328125,
           37.998661041259766,
           38.963951110839844,
           39.76374053955078,
           40.30079650878906,
           40.468536376953125,
           40.2250862121582,
           39.86219787597656,
           39.672672271728516,
           39.4713134765625,
           38.996826171875,
           38.35803985595703,
           37.835411071777344,
           37.555763244628906,
           37.45648956298828,
           37.429779052734375,
           37.40776062011719,
           37.363616943359375,
           37.30757522583008,
           37.2789306640625,
           37.30226516723633
          ],
          [
           36.350868225097656,
           36.318870544433594,
           37.91911315917969,
           38.669498443603516,
           37.95322036743164,
           37.498008728027344,
           37.99627685546875,
           38.204185485839844,
           37.874847412109375,
           37.730403900146484,
           38.15153503417969,
           38.82911682128906,
           39.44756317138672,
           39.912193298339844,
           40.12667465209961,
           40.03337478637695,
           39.798831939697266,
           39.6021614074707,
           39.33749771118164,
           38.86360549926758,
           38.28777313232422,
           37.82434844970703,
           37.56560516357422,
           37.4621467590332,
           37.42998504638672,
           37.41416931152344,
           37.390525817871094,
           37.360565185546875,
           37.344947814941406,
           37.35716247558594
          ],
          [
           37.50988006591797,
           37.61002731323242,
           38.967105865478516,
           39.4507942199707,
           38.616355895996094,
           38.05513381958008,
           38.424598693847656,
           38.6551399230957,
           38.38465881347656,
           38.13371276855469,
           38.28752517700195,
           38.70136260986328,
           39.147674560546875,
           39.53532409667969,
           39.77134704589844,
           39.78173828125,
           39.64133071899414,
           39.450565338134766,
           39.156410217285156,
           38.70130157470703,
           38.190650939941406,
           37.787864685058594,
           37.55756378173828,
           37.459007263183594,
           37.426109313964844,
           37.41448211669922,
           37.403045654296875,
           37.38865661621094,
           37.380882263183594,
           37.386505126953125
          ],
          [
           38.564720153808594,
           38.82367706298828,
           40.04384231567383,
           40.377777099609375,
           39.4780387878418,
           38.79203414916992,
           38.987186431884766,
           39.15602493286133,
           38.86351013183594,
           38.48503112792969,
           38.400428771972656,
           38.582252502441406,
           38.8726806640625,
           39.18275451660156,
           39.418731689453125,
           39.49348831176758,
           39.418914794921875,
           39.24296188354492,
           38.946189880371094,
           38.525264739990234,
           38.08106994628906,
           37.73796081542969,
           37.5394287109375,
           37.45096969604492,
           37.420204162597656,
           37.41142272949219,
           37.406768798828125,
           37.40109634399414,
           37.39776611328125,
           37.399749755859375
          ],
          [
           39.456336975097656,
           39.872745513916016,
           41.05258560180664,
           41.33611297607422,
           40.39918899536133,
           39.57786178588867,
           39.59141159057617,
           39.65924072265625,
           39.296485900878906,
           38.781089782714844,
           38.48841857910156,
           38.47291564941406,
           38.627586364746094,
           38.86298751831055,
           39.082481384277344,
           39.190643310546875,
           39.15953826904297,
           39.003746032714844,
           38.72376251220703,
           38.34800720214844,
           37.969703674316406,
           37.683265686035156,
           37.516780853271484,
           37.44078826904297,
           37.413665771484375,
           37.40687561035156,
           37.405670166015625,
           37.40446472167969,
           37.403465270996094,
           37.40361785888672
          ],
          [
           40.131004333496094,
           40.683902740478516,
           41.905906677246094,
           42.21985626220703,
           41.25840759277344,
           40.29665756225586,
           40.150352478027344,
           40.11963653564453,
           39.671142578125,
           39.02250671386719,
           38.55271911621094,
           38.37422561645508,
           38.41454315185547,
           38.580928802490234,
           38.773048400878906,
           38.89201354980469,
           38.887535095214844,
           38.754356384277344,
           38.50352096557617,
           38.17903137207031,
           37.86388397216797,
           37.629539489746094,
           37.49332809448242,
           37.430259704589844,
           37.40736389160156,
           37.40202331542969,
           37.40234375,
           37.40314483642578,
           37.40324401855469,
           37.402610778808594
          ],
          [
           40.54973602294922,
           41.20349884033203,
           42.535423278808594,
           42.943115234375,
           41.957984924316406,
           40.85277557373047,
           40.590721130371094,
           40.499114990234375,
           39.97806930541992,
           39.21217727661133,
           38.59624481201172,
           38.286766052246094,
           38.23356628417969,
           38.33845138549805,
           38.49744415283203,
           38.61214065551758,
           38.622230529785156,
           38.51189422607422,
           38.296546936035156,
           38.024864196777344,
           37.76817321777344,
           37.58026123046875,
           37.47130584716797,
           37.42045593261719,
           37.40176773071289,
           37.397544860839844,
           37.398372650146484,
           37.39984130859375,
           37.400352478027344,
           37.399505615234375
          ],
          [
           40.6937255859375,
           41.400299072265625,
           42.8962287902832,
           43.44520568847656,
           42.42707061767578,
           41.17531204223633,
           40.85939407348633,
           40.770870208740234,
           40.21190643310547,
           39.35425567626953,
           38.62249755859375,
           38.210662841796875,
           38.08306884765625,
           38.13499450683594,
           38.259300231933594,
           38.360862731933594,
           38.377410888671875,
           38.28856658935547,
           38.11033630371094,
           37.889373779296875,
           37.6849250793457,
           37.5372200012207,
           37.45188903808594,
           37.411895751953125,
           37.39707946777344,
           37.39373779296875,
           37.39459228515625,
           37.39608383178711,
           37.39667510986328,
           37.39586639404297
          ],
          [
           40.56819534301758,
           41.26850128173828,
           42.970523834228516,
           43.694271087646484,
           42.62550354003906,
           41.223026275634766,
           40.929039001464844,
           40.92280578613281,
           40.37220764160156,
           39.45356369018555,
           38.634765625,
           38.14550018310547,
           37.96036148071289,
           37.968162536621094,
           38.05931854248047,
           38.14359664916992,
           38.161529541015625,
           38.09185791015625,
           37.94904327392578,
           37.774147033691406,
           37.61486053466797,
           37.50102996826172,
           37.43553161621094,
           37.40477752685547,
           37.393306732177734,
           37.39068603515625,
           37.391380310058594,
           37.39263916015625,
           37.39316177368164,
           37.392494201660156
          ],
          [
           40.206085205078125,
           40.83269119262695,
           42.77214050292969,
           43.69124221801758,
           42.54893493652344,
           40.990638732910156,
           40.80284881591797,
           40.95924377441406,
           40.463714599609375,
           39.515159606933594,
           38.635643005371094,
           38.09025955200195,
           37.862064361572266,
           37.834320068359375,
           37.895835876464844,
           37.961952209472656,
           37.978431701660156,
           37.92510986328125,
           37.81397247314453,
           37.67902374267578,
           37.55758285522461,
           37.47153854370117,
           37.42222213745117,
           37.39905548095703,
           37.39037322998047,
           37.38835144042969,
           37.38884353637695,
           37.389801025390625,
           37.39021301269531,
           37.38970184326172
          ],
          [
           39.672332763671875,
           40.156497955322266,
           42.35258102416992,
           43.473934173583984,
           42.235843658447266,
           40.51799392700195,
           40.518428802490234,
           40.90064239501953,
           40.4958381652832,
           39.544071197509766,
           38.626869201660156,
           38.043418884277344,
           37.78445053100586,
           37.72911071777344,
           37.76552963256836,
           37.81468200683594,
           37.828372955322266,
           37.788482666015625,
           37.70426940917969,
           37.60262680053711,
           37.51195526123047,
           37.448150634765625,
           37.41170883178711,
           37.39459991455078,
           37.388160705566406,
           37.386619567871094,
           37.386940002441406,
           37.38761901855469,
           37.387916564941406,
           37.38755798339844
          ],
          [
           39.066219329833984,
           39.356075286865234,
           41.80685043334961,
           43.11896514892578,
           41.775142669677734,
           39.902957916259766,
           40.148414611816406,
           40.78042984008789,
           40.481266021728516,
           39.54507064819336,
           38.60939025878906,
           38.00311279296875,
           37.72374725341797,
           37.64795684814453,
           37.664119720458984,
           37.69860076904297,
           37.709129333496094,
           37.679901123046875,
           37.617645263671875,
           37.54281234741211,
           37.47648620605469,
           37.4300537109375,
           37.40361404418945,
           37.391204833984375,
           37.38652038574219,
           37.385372161865234,
           37.385562896728516,
           37.386024475097656,
           37.38623046875,
           37.385982513427734
          ],
          [
           38.51584243774414,
           38.611961364746094,
           41.271549224853516,
           42.735355377197266,
           41.30621337890625,
           39.311256408691406,
           39.79245376586914,
           40.63833999633789,
           40.43370819091797,
           39.522361755371094,
           38.58355712890625,
           37.96734619140625,
           37.676368713378906,
           37.58636474609375,
           37.586944580078125,
           37.60945129394531,
           37.61699676513672,
           37.59599304199219,
           37.5510139465332,
           37.497093200683594,
           37.44953155517578,
           37.41636276245117,
           37.39752197265625,
           37.38868713378906,
           37.385337829589844,
           37.384498596191406,
           37.38459777832031,
           37.38490295410156,
           37.385040283203125,
           37.3848762512207
          ],
          [
           38.150882720947266,
           38.14368438720703,
           40.89637756347656,
           42.43911361694336,
           40.98958969116211,
           38.95013427734375,
           39.55302429199219,
           40.511146545410156,
           40.365394592285156,
           39.479373931884766,
           38.54932403564453,
           37.93419647216797,
           37.63910675048828,
           37.54023742675781,
           37.529422760009766,
           37.542640686035156,
           37.547630310058594,
           37.532798767089844,
           37.50099563598633,
           37.46294403076172,
           37.42948532104492,
           37.406219482421875,
           37.393028259277344,
           37.38684844970703,
           37.38450622558594,
           37.38389587402344,
           37.38394546508789,
           37.38414001464844,
           37.38422775268555,
           37.384117126464844
          ],
          [
           38.05238342285156,
           38.09683609008789,
           40.778812408447266,
           42.30740737915039,
           40.932464599609375,
           38.96026611328125,
           39.49608612060547,
           40.423072814941406,
           40.284912109375,
           39.418609619140625,
           38.506561279296875,
           37.902000427246094,
           37.609222412109375,
           37.5059814453125,
           37.48735809326172,
           37.493690490722656,
           37.49666213989258,
           37.486351013183594,
           37.46431350708008,
           37.437984466552734,
           37.414886474609375,
           37.39885711669922,
           37.38978576660156,
           37.385536193847656,
           37.38391876220703,
           37.38349151611328,
           37.38351058959961,
           37.383628845214844,
           37.38368606567383,
           37.38361740112305
          ]
         ]
        },
        {
         "opacity": 0.5,
         "showscale": false,
         "type": "surface",
         "x": [
          337.5,
          350.4310302734375,
          363.362060546875,
          376.2930908203125,
          389.22412109375,
          402.1551513671875,
          415.0862121582031,
          428.0172424316406,
          440.9482727050781,
          453.8793029785156,
          466.8103332519531,
          479.7413635253906,
          492.67242431640625,
          505.60345458984375,
          518.5344848632812,
          531.4655151367188,
          544.3965454101562,
          557.3275756835938,
          570.2586059570312,
          583.189697265625,
          596.1207275390625,
          609.0517578125,
          621.9827880859375,
          634.913818359375,
          647.8448486328125,
          660.77587890625,
          673.7069091796875,
          686.637939453125,
          699.5689697265625,
          712.5
         ],
         "y": [
          9.64285659790039,
          30.701967239379883,
          51.761077880859375,
          72.8201904296875,
          93.87930297851562,
          114.93841552734375,
          135.9975128173828,
          157.05662536621094,
          178.11573791503906,
          199.1748504638672,
          220.2339630126953,
          241.29306030273438,
          262.3521728515625,
          283.4112854003906,
          304.47039794921875,
          325.5295104980469,
          346.58868408203125,
          367.6477966308594,
          388.7069091796875,
          409.7659912109375,
          430.82513427734375,
          451.88421630859375,
          472.943359375,
          494.00244140625,
          515.0615844726562,
          536.1206665039062,
          557.1798095703125,
          578.2388916015625,
          599.2980346679688,
          620.3571166992188
         ],
         "z": [
          [
           -7.803665637969971,
           -4.65146017074585,
           1.261955738067627,
           9.587837219238281,
           17.85686492919922,
           22.702320098876953,
           22.369220733642578,
           18.83846664428711,
           15.203498840332031,
           13.359369277954102,
           14.111528396606445,
           17.419742584228516,
           21.646345138549805,
           22.83917808532715,
           20.65137481689453,
           18.276371002197266,
           16.35178565979004,
           14.633442878723145,
           13.74562931060791,
           14.52981948852539,
           15.934727668762207,
           14.143091201782227,
           10.071198463439941,
           6.96705436706543,
           5.71464729309082,
           6.341924667358398,
           8.768967628479004,
           12.454660415649414,
           14.886238098144531,
           12.68775463104248
          ],
          [
           -6.612029552459717,
           -3.144648551940918,
           2.8596577644348145,
           11.386595726013184,
           19.969051361083984,
           24.973661422729492,
           24.461393356323242,
           20.649700164794922,
           16.719947814941406,
           14.527607917785645,
           14.927305221557617,
           18.003826141357422,
           22.20974349975586,
           23.608104705810547,
           21.752365112304688,
           19.75176429748535,
           18.001911163330078,
           16.080123901367188,
           14.779314994812012,
           15.21403694152832,
           16.435522079467773,
           14.448975563049316,
           10.212650299072266,
           7.027291297912598,
           5.745647430419922,
           6.381254196166992,
           8.855698585510254,
           12.645370483398438,
           15.194478034973145,
           12.887455940246582
          ],
          [
           -5.1531548500061035,
           -1.4697656631469727,
           4.480311393737793,
           13.039581298828125,
           21.77340316772461,
           26.874595642089844,
           26.26222038269043,
           22.315439224243164,
           18.210046768188477,
           15.684197425842285,
           15.625398635864258,
           18.25692367553711,
           22.138708114624023,
           23.715600967407227,
           22.502155303955078,
           21.11829948425293,
           19.66451644897461,
           17.510108947753906,
           15.675069808959961,
           15.560084342956543,
           16.317123413085938,
           14.239253997802734,
           10.107358932495117,
           6.980687141418457,
           5.717643737792969,
           6.338411331176758,
           8.75721263885498,
           12.428075790405273,
           14.843645095825195,
           12.65981388092041
          ],
          [
           -3.4588685035705566,
           0.3538064956665039,
           6.143173694610596,
           14.56523323059082,
           23.256479263305664,
           28.349769592285156,
           27.710838317871094,
           23.785654067993164,
           19.639690399169922,
           16.803180694580078,
           16.185657501220703,
           18.18276023864746,
           21.511247634887695,
           23.213024139404297,
           22.843345642089844,
           22.296886444091797,
           21.268892288208008,
           18.848419189453125,
           16.372886657714844,
           15.552990913391113,
           15.66673469543457,
           13.58769416809082,
           9.775561332702637,
           6.833595275878906,
           5.633793830871582,
           6.218128204345703,
           8.486800193786621,
           11.849122047424316,
           13.952469825744629,
           12.05512523651123
          ],
          [
           -1.5645952224731445,
           2.3187661170959473,
           7.8695526123046875,
           15.989871978759766,
           24.440080642700195,
           29.39348602294922,
           28.771495819091797,
           25.015525817871094,
           20.970375061035156,
           17.850616455078125,
           16.590076446533203,
           17.819568634033203,
           20.489845275878906,
           22.261127471923828,
           22.761428833007812,
           23.188737869262695,
           22.7102108001709,
           19.99506378173828,
           16.81948471069336,
           15.23250675201416,
           14.679366111755371,
           12.646679878234863,
           9.267729759216309,
           6.603202819824219,
           5.502752304077148,
           6.033113479614258,
           8.078843116760254,
           11.015446662902832,
           12.749024391174316,
           11.188591957092285
          ],
          [
           0.48926305770874023,
           4.409374237060547,
           9.655570983886719,
           17.322662353515625,
           25.352188110351562,
           30.033916473388672,
           29.434635162353516,
           25.965618133544922,
           22.1550350189209,
           18.779916763305664,
           16.820606231689453,
           17.224609375,
           19.232688903808594,
           21.025962829589844,
           22.285905838012695,
           23.68238639831543,
           23.83453941345215,
           20.826807022094727,
           16.977771759033203,
           14.670373916625977,
           13.533289909362793,
           11.566718101501465,
           8.64845085144043,
           6.313819885253906,
           5.337071418762207,
           5.8015336990356445,
           7.579633712768555,
           10.046802520751953,
           11.429061889648438,
           10.18664264678955
          ],
          [
           2.6577134132385254,
           6.5942206382751465,
           11.474352836608887,
           18.558446884155273,
           26.01995849609375,
           30.31838607788086,
           29.715829849243164,
           26.600791931152344,
           23.131370544433594,
           19.526683807373047,
           16.858360290527344,
           16.458120346069336,
           17.858945846557617,
           19.633094787597656,
           21.47582244873047,
           23.681438446044922,
           24.438005447387695,
           21.216585159301758,
           16.835046768188477,
           13.943183898925781,
           12.350805282592773,
           10.461095809936523,
           7.981097221374512,
           5.992250442504883,
           5.151087760925293,
           5.543813705444336,
           7.037413597106934,
           9.0447359085083,
           10.12259292602539,
           9.154273986816406
          ],
          [
           4.892765045166016,
           8.831255912780762,
           13.289693832397461,
           19.68996238708496,
           26.475387573242188,
           30.307432174682617,
           29.651920318603516,
           26.890235900878906,
           23.812917709350586,
           20.006698608398438,
           16.685649871826172,
           15.57341480255127,
           16.45047378540039,
           18.168678283691406,
           20.401798248291016,
           23.149179458618164,
           24.334671020507812,
           21.078989028930664,
           16.405929565429688,
           13.116690635681152,
           11.20729923248291,
           9.404784202575684,
           7.318351745605469,
           5.663642883300781,
           4.958807945251465,
           5.279566764831543,
           6.494813919067383,
           8.083199501037598,
           8.908458709716797,
           8.166866302490234
          ],
          [
           7.145150184631348,
           11.075206756591797,
           15.066980361938477,
           20.716262817382812,
           26.7593994140625,
           30.07101058959961,
           29.29547882080078,
           26.809749603271484,
           24.085948944091797,
           20.125144958496094,
           16.29141616821289,
           14.6134614944458,
           15.061531066894531,
           16.691129684448242,
           19.13408660888672,
           22.133716583251953,
           23.496868133544922,
           20.41736602783203,
           15.728446960449219,
           12.241466522216797,
           10.146100997924805,
           8.442675590515137,
           6.698549270629883,
           5.348637580871582,
           4.772247314453125,
           5.025304794311523,
           5.984709739685059,
           7.209967613220215,
           7.830783843994141,
           7.272341728210449
          ],
          [
           9.363435745239258,
           13.280186653137207,
           16.77672576904297,
           21.643821716308594,
           26.920011520385742,
           29.68142318725586,
           28.704578399658203,
           26.347938537597656,
           23.835643768310547,
           19.807395935058594,
           15.6782808303833,
           13.611773490905762,
           13.72714614868164,
           15.240686416625977,
           17.737882614135742,
           20.745914459228516,
           22.086992263793945,
           19.323917388916016,
           14.855725288391113,
           11.354477882385254,
           9.18927001953125,
           7.597643852233887,
           6.1456804275512695,
           5.061936378479004,
           4.600439071655273,
           4.793153762817383,
           5.529013633728027,
           6.451388359069824,
           6.909923553466797,
           6.496756553649902
          ],
          [
           11.4923677444458,
           15.397209167480469,
           18.39129638671875,
           22.48101043701172,
           27.003154754638672,
           29.201589584350586,
           27.931344985961914,
           25.518360137939453,
           23.019790649414062,
           19.043476104736328,
           14.867992401123047,
           12.594977378845215,
           12.469144821166992,
           13.845656394958496,
           16.27226448059082,
           19.115978240966797,
           20.328624725341797,
           17.93344497680664,
           13.847166061401367,
           10.482267379760742,
           8.344613075256348,
           6.876791000366211,
           5.671360969543457,
           4.812156677246094,
           4.4490814208984375,
           4.590520858764648,
           5.139345169067383,
           5.817244529724121,
           6.149377822875977,
           5.849367141723633
          ],
          [
           13.469048500061035,
           17.366741180419922,
           19.876399993896484,
           23.227222442626953,
           27.037317276000977,
           28.668912887573242,
           27.011890411376953,
           24.36958885192871,
           21.725814819335938,
           17.90694808959961,
           13.901639938354492,
           11.585602760314941,
           11.300470352172852,
           12.526350021362305,
           14.790048599243164,
           17.363887786865234,
           18.408435821533203,
           16.378501892089844,
           12.761468887329102,
           9.643911361694336,
           7.610589027404785,
           6.276363372802734,
           5.27757453918457,
           4.602548599243164,
           4.320766448974609,
           4.420513153076172,
           4.818820953369141,
           5.305285453796387,
           5.5409440994262695,
           5.327375411987305
          ],
          [
           15.222383499145508,
           19.11159324645996,
           21.18178939819336,
           23.861053466796875,
           27.01724624633789,
           28.079917907714844,
           25.964508056640625,
           22.983844757080078,
           20.128307342529297,
           16.52593994140625,
           12.834373474121094,
           10.603988647460938,
           10.22828197479248,
           11.297490119934082,
           13.337353706359863,
           15.588668823242188,
           16.46060562133789,
           14.769230842590332,
           11.651988983154297,
           8.853217124938965,
           6.979914665222168,
           5.7856855392456055,
           4.959552764892578,
           4.432231903076172,
           4.215564727783203,
           4.282806396484375,
           4.56428337097168,
           4.905181884765625,
           5.068831443786621,
           4.919885635375977
          ],
          [
           16.678133010864258,
           20.537452697753906,
           22.237789154052734,
           24.333297729492188,
           26.89244842529297,
           27.387142181396484,
           24.800535202026367,
           21.462390899658203,
           18.40566635131836,
           15.036888122558594,
           11.726800918579102,
           9.669048309326172,
           9.256118774414062,
           10.169570922851562,
           11.952807426452637,
           13.867074012756348,
           14.578231811523438,
           13.189756393432617,
           10.563960075378418,
           8.12009048461914,
           6.442296981811523,
           5.390390396118164,
           4.708438873291016,
           4.297544479370117,
           4.131753921508789,
           4.1746826171875,
           4.368526458740234,
           4.601902008056641,
           4.713083267211914,
           4.611339569091797
          ],
          [
           17.774330139160156,
           21.554641723632812,
           22.969011306762695,
           24.576828002929688,
           26.58061981201172,
           26.53032112121582,
           23.54540252685547,
           19.90836524963379,
           16.69914436340332,
           13.555514335632324,
           10.636537551879883,
           8.797955513000488,
           8.385202407836914,
           9.149542808532715,
           10.666683197021484,
           12.25513744354248,
           12.824195861816406,
           11.70047378540039,
           9.533071517944336,
           7.451313018798828,
           5.986413955688477,
           5.074911117553711,
           4.513525009155273,
           4.193342208862305,
           4.066572189331055,
           4.092073440551758,
           4.222299575805664,
           4.378517150878906,
           4.452430725097656,
           4.384321212768555
          ],
          [
           18.48575210571289,
           22.123125076293945,
           23.331588745117188,
           24.54306411743164,
           26.025474548339844,
           25.50116729736328,
           22.254383087158203,
           18.415191650390625,
           15.10914134979248,
           12.167922019958496,
           9.612010955810547,
           8.005159378051758,
           7.615045547485352,
           8.24107551574707,
           9.500391006469727,
           10.790294647216797,
           11.238088607788086,
           10.341340065002441,
           8.585050582885742,
           6.85093879699707,
           5.601236343383789,
           4.824274063110352,
           4.36393928527832,
           4.11402702331543,
           4.016843795776367,
           4.03040885925293,
           4.115877151489258,
           4.218269348144531,
           4.266401290893555,
           4.221660614013672
          ],
          [
           18.842416763305664,
           22.289581298828125,
           23.353670120239258,
           24.24869155883789,
           25.263486862182617,
           24.379241943359375,
           21.009145736694336,
           17.06063461303711,
           13.701926231384277,
           10.931354522705078,
           8.688989639282227,
           7.3012542724609375,
           6.94361686706543,
           7.444637298583984,
           8.466499328613281,
           9.493770599365234,
           9.840863227844238,
           9.135167121887207,
           7.736057281494141,
           6.320507049560547,
           5.276777267456055,
           4.625213623046875,
           4.249750137329102,
           4.054279327392578,
           3.9794483184814453,
           3.985250473022461,
           4.0401458740234375,
           4.106008529663086,
           4.136762619018555,
           4.1078643798828125
          ],
          [
           18.92770004272461,
           22.176227569580078,
           23.138240814208984,
           23.786518096923828,
           24.42053985595703,
           23.29859161376953,
           19.900753021240234,
           15.90495777130127,
           12.51693058013916,
           9.878355026245117,
           7.889676094055176,
           6.692150115966797,
           6.367280960083008,
           6.757654190063477,
           7.569440841674805,
           8.373201370239258,
           8.638592720031738,
           8.090831756591797,
           6.993715286254883,
           5.859277725219727,
           5.004383087158203,
           4.466695785522461,
           4.162569046020508,
           4.009481430053711,
           3.9515933990478516,
           3.9526634216308594,
           3.987241744995117,
           4.028942108154297,
           4.048280715942383,
           4.029865264892578
          ],
          [
           18.856971740722656,
           21.935659408569336,
           22.825389862060547,
           23.288557052612305,
           23.647254943847656,
           22.391979217529297,
           19.01091766357422,
           14.98973560333252,
           11.571883201599121,
           9.02120590209961,
           7.2235002517700195,
           6.178802490234375,
           5.880725860595703,
           6.174770355224609,
           6.80670166015625,
           7.425479888916016,
           7.625938415527344,
           7.206417083740234,
           6.358583450317383,
           5.4645233154296875,
           4.776739120483398,
           4.339967727661133,
           4.0957183837890625,
           3.9758872985839844,
           3.9309616088867188,
           3.9293899536132812,
           3.9508056640625,
           3.976886749267578,
           3.988893508911133,
           3.977273941040039
          ],
          [
           18.750041961669922,
           21.711929321289062,
           22.550811767578125,
           22.881315231323242,
           23.068923950195312,
           21.760746002197266,
           18.400089263916016,
           14.337457656860352,
           10.866911888122559,
           8.356332778930664,
           6.689059257507324,
           5.757528305053711,
           5.477060317993164,
           5.688331604003906,
           6.17041015625,
           6.63969612121582,
           6.789482116699219,
           6.472270965576172,
           5.825849533081055,
           5.131904602050781,
           4.587673187255859,
           4.238323211669922,
           4.04412841796875,
           3.9505977630615234,
           3.915712356567383,
           3.9128780364990234,
           3.9259510040283203,
           3.942129135131836,
           3.949525833129883,
           3.9422359466552734
          ],
          [
           18.709585189819336,
           21.619319915771484,
           22.4206485748291,
           22.659202575683594,
           22.76824951171875,
           21.467124938964844,
           18.101808547973633,
           13.951457023620605,
           10.387741088867188,
           7.868372917175293,
           6.276651382446289,
           5.420871734619141,
           5.148073196411133,
           5.289009094238281,
           5.649017333984375,
           5.99992561340332,
           6.110774993896484,
           5.87382698059082,
           5.387062072753906,
           4.855928421020508,
           4.431915283203125,
           4.156707763671875,
           4.004062652587891,
           3.931467056274414,
           3.904451370239258,
           3.901212692260742,
           3.909090042114258,
           3.919088363647461,
           3.923624038696289,
           3.919057846069336
          ],
          [
           18.808839797973633,
           21.734352111816406,
           22.501808166503906,
           22.675649642944336,
           22.783729553222656,
           21.534372329711914,
           18.12029457092285,
           13.815873146057129,
           10.108295440673828,
           7.533749580383301,
           5.970939636230469,
           5.15869140625,
           4.884670257568359,
           4.966472625732422,
           5.228906631469727,
           5.487667083740234,
           5.568977355957031,
           5.394006729125977,
           5.031667709350586,
           4.630407333374023,
           4.30487060546875,
           4.091310501098633,
           3.9728221893310547,
           3.9169368743896484,
           3.896137237548828,
           3.8929901123046875,
           3.8976821899414062,
           3.9038524627685547,
           3.906637191772461,
           3.9037723541259766
          ],
          [
           19.084861755371094,
           22.092853546142578,
           22.819164276123047,
           22.941892623901367,
           23.112424850463867,
           21.949275970458984,
           18.430335998535156,
           13.896427154541016,
           9.99315357208252,
           7.32383918762207,
           5.753396987915039,
           4.959383010864258,
           4.677373886108398,
           4.710060119628906,
           4.895744323730469,
           5.083795547485352,
           5.142910003662109,
           5.015096664428711,
           4.748294830322266,
           4.448869705200195,
           4.20245361328125,
           4.039192199707031,
           3.9484615325927734,
           3.9058780670166016,
           3.8900070190429688,
           3.8872013092041016,
           3.8899612426757812,
           3.893779754638672,
           3.8954944610595703,
           3.893688201904297
          ],
          [
           19.535499572753906,
           22.689002990722656,
           23.355571746826172,
           23.42844009399414,
           23.71270751953125,
           22.663894653320312,
           18.97784423828125,
           14.141855239868164,
           10.00004768371582,
           7.2077178955078125,
           5.604454040527344,
           4.810949325561523,
           4.5168304443359375,
           4.509330749511719,
           4.63551139831543,
           4.769954681396484,
           4.812498092651367,
           4.720094680786133,
           4.525691986083984,
           4.304922103881836,
           4.120965957641602,
           3.998018264770508,
           3.9295291900634766,
           3.8974761962890625,
           3.8855018615722656,
           3.883138656616211,
           3.8847427368164062,
           3.8871097564697266,
           3.8881683349609375,
           3.88702392578125
          ],
          [
           20.118371963500977,
           23.47384262084961,
           24.0518798828125,
           24.066776275634766,
           24.504968643188477,
           23.595420837402344,
           19.680335998535156,
           14.486357688903809,
           10.082447052001953,
           7.154365539550781,
           5.505117416381836,
           4.701892852783203,
           4.394207000732422,
           4.354509353637695,
           4.43519401550293,
           4.529420852661133,
           4.559652328491211,
           4.4935150146484375,
           4.353334426879883,
           4.192493438720703,
           4.057056427001953,
           3.9658546447753906,
           3.914928436279297,
           3.8911266326904297,
           3.8822078704833984,
           3.880300521850586,
           3.881214141845703,
           3.8826847076416016,
           3.883340835571289,
           3.8826160430908203
          ],
          [
           20.750267028808594,
           24.35165023803711,
           24.80679702758789,
           24.751644134521484,
           25.37124252319336,
           24.622562408447266,
           20.427963256835938,
           14.853531837463379,
           10.192654609680176,
           7.134620666503906,
           5.438140869140625,
           4.621826171875,
           4.301521301269531,
           4.236764907836914,
           4.283184051513672,
           4.347543716430664,
           4.368663787841797,
           4.321786880493164,
           4.221780776977539,
           4.106021881103516,
           4.007696151733398,
           3.941072463989258,
           3.9037818908691406,
           3.8863658905029297,
           3.879819869995117,
           3.8783321380615234,
           3.8788394927978516,
           3.879749298095703,
           3.880159378051758,
           3.879697799682617
          ],
          [
           21.309524536132812,
           25.171703338623047,
           25.47671890258789,
           25.344764709472656,
           26.15298080444336,
           25.578006744384766,
           21.087114334106445,
           15.162760734558105,
           10.28536319732666,
           7.122753143310547,
           5.388788223266602,
           4.561836242675781,
           4.231809616088867,
           4.148366928100586,
           4.1694488525390625,
           4.211862564086914,
           4.22627067565918,
           4.193367004394531,
           4.122814178466797,
           4.040550231933594,
           3.9701805114746094,
           3.922262191772461,
           3.8953857421875,
           3.8828372955322266,
           3.8781051635742188,
           3.8769760131835938,
           3.877246856689453,
           3.877809524536133,
           3.8780651092529297,
           3.8777732849121094
          ],
          [
           21.645984649658203,
           25.721986770629883,
           25.883480072021484,
           25.686901092529297,
           26.655776977539062,
           26.242156982421875,
           21.51126480102539,
           15.337993621826172,
           10.321379661560059,
           7.097711563110352,
           5.345239639282227,
           4.5146484375,
           4.179220199584961,
           4.082738876342773,
           4.08552360534668,
           4.112024307250977,
           4.121522903442383,
           4.0986480712890625,
           4.049457550048828,
           3.9917659759521484,
           3.942136764526367,
           3.9082107543945312,
           3.8891544342041016,
           3.8802547454833984,
           3.876890182495117,
           3.8760547637939453,
           3.876192092895508,
           3.876537322998047,
           3.8766937255859375,
           3.8765106201171875
          ],
          [
           21.612743377685547,
           25.759347915649414,
           25.847543716430664,
           25.62729263305664,
           26.682300567626953,
           26.37242317199707,
           21.56732177734375,
           15.318474769592285,
           10.271153450012207,
           7.0440216064453125,
           5.298715591430664,
           4.474634170532227,
           4.138982772827148,
           4.034431457519531,
           4.024440765380859,
           4.039587020874023,
           4.045534133911133,
           4.029783248901367,
           3.9959144592285156,
           3.9560070037841797,
           3.9215316772460938,
           3.8978958129882812,
           3.8845996856689453,
           3.8783931732177734,
           3.876035690307617,
           3.8754348754882812,
           3.8754959106445312,
           3.8757057189941406,
           3.8758010864257812,
           3.8756885528564453
          ],
          [
           21.11958885192871,
           25.126155853271484,
           25.25686264038086,
           25.072612762451172,
           26.108850479125977,
           25.812728881835938,
           21.176042556762695,
           15.069091796875,
           10.117443084716797,
           6.95220947265625,
           5.243417739868164,
           4.43769645690918,
           4.107358932495117,
           3.999032974243164,
           3.980562210083008,
           3.9877872467041016,
           3.9912071228027344,
           3.980459213256836,
           3.9574432373046875,
           3.93023681640625,
           3.9066543579101562,
           3.890451431274414,
           3.881328582763672,
           3.8770694732666016,
           3.875448226928711,
           3.875020980834961,
           3.8750457763671875,
           3.8751697540283203,
           3.8752288818359375,
           3.8751602172851562
          ]
         ]
        },
        {
         "marker": {
          "color": "darkgreen"
         },
         "mode": "markers",
         "name": "training data",
         "type": "scatter3d",
         "x": [
          350,
          350,
          350,
          350,
          350,
          360,
          380,
          400,
          400,
          400,
          400,
          400,
          500,
          600,
          700,
          389.20001220703125,
          544.4000244140625,
          440.8999938964844,
          402.20001220703125
         ],
         "y": [
          30,
          60,
          120,
          300,
          600,
          30,
          30,
          30,
          60,
          120,
          300,
          600,
          30,
          30,
          30,
          309.6000061035156,
          150,
          199.89999389648438,
          279.70001220703125
         ],
         "z": [
          0.31095001101493835,
          3.050879955291748,
          11.487239837646484,
          27.853260040283203,
          32.442138671875,
          5.914820194244385,
          20.168760299682617,
          26.66847038269043,
          35.82332992553711,
          36.27027130126953,
          35.18614959716797,
          33.61565017700195,
          30.255699157714844,
          22.557350158691406,
          21.468669891357422,
          31.507869720458984,
          31.268070220947266,
          30.208850860595703,
          29.97977066040039
         ]
        },
        {
         "mode": "markers",
         "name": "max(upper confidence bound)",
         "type": "scatter3d",
         "x": [
          376.2930908203125
         ],
         "y": [
          494.00244140625
         ],
         "z": [
          21.10753059387207
         ]
        },
        {
         "mode": "markers",
         "name": "max(thompson)",
         "type": "scatter3d",
         "x": [
          518.5344848632812
         ],
         "y": [
          93.87930297851562
         ],
         "z": [
          32.145538330078125
         ]
        },
        {
         "mode": "markers",
         "name": "max(pi)",
         "type": "scatter3d",
         "x": [
          402.1551513671875
         ],
         "y": [
          157.05662536621094
         ],
         "z": [
          33.90447235107422
         ]
        },
        {
         "mode": "markers",
         "name": "max(ei)",
         "type": "scatter3d",
         "x": [
          415.0862121582031
         ],
         "y": [
          135.9975128173828
         ],
         "z": [
          36.270172119140625
         ]
        },
        {
         "mode": "markers",
         "name": "max(ca)",
         "type": "scatter3d",
         "x": [
          505.60345458984375
         ],
         "y": [
          451.88421630859375
         ],
         "z": [
          21.55283546447754
         ]
        },
        {
         "mode": "markers",
         "name": "max(MES)",
         "type": "scatter3d",
         "x": [
          503.33050537109375
         ],
         "y": [
          217.19935607910156
         ],
         "z": [
          30
         ]
        }
       ],
       "layout": {
        "height": 600,
        "legend": {
         "orientation": "h",
         "x": 1,
         "xanchor": "right",
         "y": 1.02,
         "yanchor": "bottom"
        },
        "margin": {
         "b": 10,
         "l": 10,
         "r": 20,
         "t": 10
        },
        "scene": {
         "xaxis": {
          "title": {
           "text": "RTA temperature (C)"
          }
         },
         "yaxis": {
          "title": {
           "text": "RTA time (sec)"
          }
         },
         "zaxis": {
          "title": {
           "text": "2Pr (uC/cm2), Pristine"
          }
         }
        },
        "template": {
         "data": {
          "bar": [
           {
            "error_x": {
             "color": "#2a3f5f"
            },
            "error_y": {
             "color": "#2a3f5f"
            },
            "marker": {
             "line": {
              "color": "#E5ECF6",
              "width": 0.5
             }
            },
            "type": "bar"
           }
          ],
          "barpolar": [
           {
            "marker": {
             "line": {
              "color": "#E5ECF6",
              "width": 0.5
             }
            },
            "type": "barpolar"
           }
          ],
          "carpet": [
           {
            "aaxis": {
             "endlinecolor": "#2a3f5f",
             "gridcolor": "white",
             "linecolor": "white",
             "minorgridcolor": "white",
             "startlinecolor": "#2a3f5f"
            },
            "baxis": {
             "endlinecolor": "#2a3f5f",
             "gridcolor": "white",
             "linecolor": "white",
             "minorgridcolor": "white",
             "startlinecolor": "#2a3f5f"
            },
            "type": "carpet"
           }
          ],
          "choropleth": [
           {
            "colorbar": {
             "outlinewidth": 0,
             "ticks": ""
            },
            "type": "choropleth"
           }
          ],
          "contour": [
           {
            "colorbar": {
             "outlinewidth": 0,
             "ticks": ""
            },
            "colorscale": [
             [
              0,
              "#0d0887"
             ],
             [
              0.1111111111111111,
              "#46039f"
             ],
             [
              0.2222222222222222,
              "#7201a8"
             ],
             [
              0.3333333333333333,
              "#9c179e"
             ],
             [
              0.4444444444444444,
              "#bd3786"
             ],
             [
              0.5555555555555556,
              "#d8576b"
             ],
             [
              0.6666666666666666,
              "#ed7953"
             ],
             [
              0.7777777777777778,
              "#fb9f3a"
             ],
             [
              0.8888888888888888,
              "#fdca26"
             ],
             [
              1,
              "#f0f921"
             ]
            ],
            "type": "contour"
           }
          ],
          "contourcarpet": [
           {
            "colorbar": {
             "outlinewidth": 0,
             "ticks": ""
            },
            "type": "contourcarpet"
           }
          ],
          "heatmap": [
           {
            "colorbar": {
             "outlinewidth": 0,
             "ticks": ""
            },
            "colorscale": [
             [
              0,
              "#0d0887"
             ],
             [
              0.1111111111111111,
              "#46039f"
             ],
             [
              0.2222222222222222,
              "#7201a8"
             ],
             [
              0.3333333333333333,
              "#9c179e"
             ],
             [
              0.4444444444444444,
              "#bd3786"
             ],
             [
              0.5555555555555556,
              "#d8576b"
             ],
             [
              0.6666666666666666,
              "#ed7953"
             ],
             [
              0.7777777777777778,
              "#fb9f3a"
             ],
             [
              0.8888888888888888,
              "#fdca26"
             ],
             [
              1,
              "#f0f921"
             ]
            ],
            "type": "heatmap"
           }
          ],
          "heatmapgl": [
           {
            "colorbar": {
             "outlinewidth": 0,
             "ticks": ""
            },
            "colorscale": [
             [
              0,
              "#0d0887"
             ],
             [
              0.1111111111111111,
              "#46039f"
             ],
             [
              0.2222222222222222,
              "#7201a8"
             ],
             [
              0.3333333333333333,
              "#9c179e"
             ],
             [
              0.4444444444444444,
              "#bd3786"
             ],
             [
              0.5555555555555556,
              "#d8576b"
             ],
             [
              0.6666666666666666,
              "#ed7953"
             ],
             [
              0.7777777777777778,
              "#fb9f3a"
             ],
             [
              0.8888888888888888,
              "#fdca26"
             ],
             [
              1,
              "#f0f921"
             ]
            ],
            "type": "heatmapgl"
           }
          ],
          "histogram": [
           {
            "marker": {
             "colorbar": {
              "outlinewidth": 0,
              "ticks": ""
             }
            },
            "type": "histogram"
           }
          ],
          "histogram2d": [
           {
            "colorbar": {
             "outlinewidth": 0,
             "ticks": ""
            },
            "colorscale": [
             [
              0,
              "#0d0887"
             ],
             [
              0.1111111111111111,
              "#46039f"
             ],
             [
              0.2222222222222222,
              "#7201a8"
             ],
             [
              0.3333333333333333,
              "#9c179e"
             ],
             [
              0.4444444444444444,
              "#bd3786"
             ],
             [
              0.5555555555555556,
              "#d8576b"
             ],
             [
              0.6666666666666666,
              "#ed7953"
             ],
             [
              0.7777777777777778,
              "#fb9f3a"
             ],
             [
              0.8888888888888888,
              "#fdca26"
             ],
             [
              1,
              "#f0f921"
             ]
            ],
            "type": "histogram2d"
           }
          ],
          "histogram2dcontour": [
           {
            "colorbar": {
             "outlinewidth": 0,
             "ticks": ""
            },
            "colorscale": [
             [
              0,
              "#0d0887"
             ],
             [
              0.1111111111111111,
              "#46039f"
             ],
             [
              0.2222222222222222,
              "#7201a8"
             ],
             [
              0.3333333333333333,
              "#9c179e"
             ],
             [
              0.4444444444444444,
              "#bd3786"
             ],
             [
              0.5555555555555556,
              "#d8576b"
             ],
             [
              0.6666666666666666,
              "#ed7953"
             ],
             [
              0.7777777777777778,
              "#fb9f3a"
             ],
             [
              0.8888888888888888,
              "#fdca26"
             ],
             [
              1,
              "#f0f921"
             ]
            ],
            "type": "histogram2dcontour"
           }
          ],
          "mesh3d": [
           {
            "colorbar": {
             "outlinewidth": 0,
             "ticks": ""
            },
            "type": "mesh3d"
           }
          ],
          "parcoords": [
           {
            "line": {
             "colorbar": {
              "outlinewidth": 0,
              "ticks": ""
             }
            },
            "type": "parcoords"
           }
          ],
          "pie": [
           {
            "automargin": true,
            "type": "pie"
           }
          ],
          "scatter": [
           {
            "marker": {
             "colorbar": {
              "outlinewidth": 0,
              "ticks": ""
             }
            },
            "type": "scatter"
           }
          ],
          "scatter3d": [
           {
            "line": {
             "colorbar": {
              "outlinewidth": 0,
              "ticks": ""
             }
            },
            "marker": {
             "colorbar": {
              "outlinewidth": 0,
              "ticks": ""
             }
            },
            "type": "scatter3d"
           }
          ],
          "scattercarpet": [
           {
            "marker": {
             "colorbar": {
              "outlinewidth": 0,
              "ticks": ""
             }
            },
            "type": "scattercarpet"
           }
          ],
          "scattergeo": [
           {
            "marker": {
             "colorbar": {
              "outlinewidth": 0,
              "ticks": ""
             }
            },
            "type": "scattergeo"
           }
          ],
          "scattergl": [
           {
            "marker": {
             "colorbar": {
              "outlinewidth": 0,
              "ticks": ""
             }
            },
            "type": "scattergl"
           }
          ],
          "scattermapbox": [
           {
            "marker": {
             "colorbar": {
              "outlinewidth": 0,
              "ticks": ""
             }
            },
            "type": "scattermapbox"
           }
          ],
          "scatterpolar": [
           {
            "marker": {
             "colorbar": {
              "outlinewidth": 0,
              "ticks": ""
             }
            },
            "type": "scatterpolar"
           }
          ],
          "scatterpolargl": [
           {
            "marker": {
             "colorbar": {
              "outlinewidth": 0,
              "ticks": ""
             }
            },
            "type": "scatterpolargl"
           }
          ],
          "scatterternary": [
           {
            "marker": {
             "colorbar": {
              "outlinewidth": 0,
              "ticks": ""
             }
            },
            "type": "scatterternary"
           }
          ],
          "surface": [
           {
            "colorbar": {
             "outlinewidth": 0,
             "ticks": ""
            },
            "colorscale": [
             [
              0,
              "#0d0887"
             ],
             [
              0.1111111111111111,
              "#46039f"
             ],
             [
              0.2222222222222222,
              "#7201a8"
             ],
             [
              0.3333333333333333,
              "#9c179e"
             ],
             [
              0.4444444444444444,
              "#bd3786"
             ],
             [
              0.5555555555555556,
              "#d8576b"
             ],
             [
              0.6666666666666666,
              "#ed7953"
             ],
             [
              0.7777777777777778,
              "#fb9f3a"
             ],
             [
              0.8888888888888888,
              "#fdca26"
             ],
             [
              1,
              "#f0f921"
             ]
            ],
            "type": "surface"
           }
          ],
          "table": [
           {
            "cells": {
             "fill": {
              "color": "#EBF0F8"
             },
             "line": {
              "color": "white"
             }
            },
            "header": {
             "fill": {
              "color": "#C8D4E3"
             },
             "line": {
              "color": "white"
             }
            },
            "type": "table"
           }
          ]
         },
         "layout": {
          "annotationdefaults": {
           "arrowcolor": "#2a3f5f",
           "arrowhead": 0,
           "arrowwidth": 1
          },
          "autotypenumbers": "strict",
          "coloraxis": {
           "colorbar": {
            "outlinewidth": 0,
            "ticks": ""
           }
          },
          "colorscale": {
           "diverging": [
            [
             0,
             "#8e0152"
            ],
            [
             0.1,
             "#c51b7d"
            ],
            [
             0.2,
             "#de77ae"
            ],
            [
             0.3,
             "#f1b6da"
            ],
            [
             0.4,
             "#fde0ef"
            ],
            [
             0.5,
             "#f7f7f7"
            ],
            [
             0.6,
             "#e6f5d0"
            ],
            [
             0.7,
             "#b8e186"
            ],
            [
             0.8,
             "#7fbc41"
            ],
            [
             0.9,
             "#4d9221"
            ],
            [
             1,
             "#276419"
            ]
           ],
           "sequential": [
            [
             0,
             "#0d0887"
            ],
            [
             0.1111111111111111,
             "#46039f"
            ],
            [
             0.2222222222222222,
             "#7201a8"
            ],
            [
             0.3333333333333333,
             "#9c179e"
            ],
            [
             0.4444444444444444,
             "#bd3786"
            ],
            [
             0.5555555555555556,
             "#d8576b"
            ],
            [
             0.6666666666666666,
             "#ed7953"
            ],
            [
             0.7777777777777778,
             "#fb9f3a"
            ],
            [
             0.8888888888888888,
             "#fdca26"
            ],
            [
             1,
             "#f0f921"
            ]
           ],
           "sequentialminus": [
            [
             0,
             "#0d0887"
            ],
            [
             0.1111111111111111,
             "#46039f"
            ],
            [
             0.2222222222222222,
             "#7201a8"
            ],
            [
             0.3333333333333333,
             "#9c179e"
            ],
            [
             0.4444444444444444,
             "#bd3786"
            ],
            [
             0.5555555555555556,
             "#d8576b"
            ],
            [
             0.6666666666666666,
             "#ed7953"
            ],
            [
             0.7777777777777778,
             "#fb9f3a"
            ],
            [
             0.8888888888888888,
             "#fdca26"
            ],
            [
             1,
             "#f0f921"
            ]
           ]
          },
          "colorway": [
           "#636efa",
           "#EF553B",
           "#00cc96",
           "#ab63fa",
           "#FFA15A",
           "#19d3f3",
           "#FF6692",
           "#B6E880",
           "#FF97FF",
           "#FECB52"
          ],
          "font": {
           "color": "#2a3f5f"
          },
          "geo": {
           "bgcolor": "white",
           "lakecolor": "white",
           "landcolor": "#E5ECF6",
           "showlakes": true,
           "showland": true,
           "subunitcolor": "white"
          },
          "hoverlabel": {
           "align": "left"
          },
          "hovermode": "closest",
          "mapbox": {
           "style": "light"
          },
          "paper_bgcolor": "white",
          "plot_bgcolor": "#E5ECF6",
          "polar": {
           "angularaxis": {
            "gridcolor": "white",
            "linecolor": "white",
            "ticks": ""
           },
           "bgcolor": "#E5ECF6",
           "radialaxis": {
            "gridcolor": "white",
            "linecolor": "white",
            "ticks": ""
           }
          },
          "scene": {
           "xaxis": {
            "backgroundcolor": "#E5ECF6",
            "gridcolor": "white",
            "gridwidth": 2,
            "linecolor": "white",
            "showbackground": true,
            "ticks": "",
            "zerolinecolor": "white"
           },
           "yaxis": {
            "backgroundcolor": "#E5ECF6",
            "gridcolor": "white",
            "gridwidth": 2,
            "linecolor": "white",
            "showbackground": true,
            "ticks": "",
            "zerolinecolor": "white"
           },
           "zaxis": {
            "backgroundcolor": "#E5ECF6",
            "gridcolor": "white",
            "gridwidth": 2,
            "linecolor": "white",
            "showbackground": true,
            "ticks": "",
            "zerolinecolor": "white"
           }
          },
          "shapedefaults": {
           "line": {
            "color": "#2a3f5f"
           }
          },
          "ternary": {
           "aaxis": {
            "gridcolor": "white",
            "linecolor": "white",
            "ticks": ""
           },
           "baxis": {
            "gridcolor": "white",
            "linecolor": "white",
            "ticks": ""
           },
           "bgcolor": "#E5ECF6",
           "caxis": {
            "gridcolor": "white",
            "linecolor": "white",
            "ticks": ""
           }
          },
          "title": {
           "x": 0.05
          },
          "xaxis": {
           "automargin": true,
           "gridcolor": "white",
           "linecolor": "white",
           "ticks": "",
           "title": {
            "standoff": 15
           },
           "zerolinecolor": "white",
           "zerolinewidth": 2
          },
          "yaxis": {
           "automargin": true,
           "gridcolor": "white",
           "linecolor": "white",
           "ticks": "",
           "title": {
            "standoff": 15
           },
           "zerolinecolor": "white",
           "zerolinewidth": 2
          }
         }
        },
        "width": 800
       }
      }
     },
     "metadata": {},
     "output_type": "display_data"
    }
   ],
   "source": [
    "pred_var = obs.variance.view(n, n).detach().numpy().T\n",
    "lower, upper = obs.confidence_region()\n",
    "upper_surf = upper.detach().numpy().reshape(30,30).T\n",
    "lower_surf = lower.detach().numpy().reshape(30,30).T\n",
    "\n",
    "ucb = np.unravel_index(upper_surf.argmax(), upper_surf.shape)\n",
    "max_var = np.unravel_index(pred_var.argmax(), pred_var.shape)\n",
    "ei = np.unravel_index(EI_acq_shape.argmax(), EI_acq_shape.shape)\n",
    "pi = np.unravel_index(PI_acq_shape.argmax(), PI_acq_shape.shape)\n",
    "\n",
    "# plot?...\n",
    "import plotly.graph_objects as go\n",
    "fig = go.Figure(data=[go.Surface(z = upper_surf, x=test_grid[:,0], y=test_grid[:,1], opacity=0.5, showscale=False)])\n",
    "fig.add_trace(go.Surface(z = lower_surf, x=test_grid[:,0], y=test_grid[:,1], opacity=0.5, showscale=False))\n",
    "fig.add_trace(go.Scatter3d(x=train_x[:,0].numpy(), y=train_x[:,1].numpy(), \n",
    "                            z=train_y.numpy(), mode='markers', name='training data', marker={'color':'darkgreen'}))\n",
    "\n",
    "fig.add_trace(go.Scatter3d(x=test_grid[ucb[1], 0].numpy(), y=test_grid[ucb[0], 1].numpy(), \n",
    "                            z=[pred_labels[ucb[0], ucb[1]]], mode='markers', name='max(upper confidence bound)')) \n",
    "fig.add_trace(go.Scatter3d(x=test_grid[th[1], 0].numpy(), y=test_grid[th[0],1].numpy(), \n",
    "                            z=[pred_labels[th[0], th[1]].detach().numpy()], mode='markers', name='max(thompson)')) \n",
    "fig.add_trace(go.Scatter3d(x=test_grid[pi[1], 0].numpy(), y=test_grid[pi[0], 1].numpy(), z=[pred_labels[pi[0], pi[1]]], mode='markers', name='max(pi)'))\n",
    "\n",
    "fig.add_trace(go.Scatter3d(x=test_grid[ei[1], 0].numpy(), y=test_grid[ei[0], 1].numpy(), z=[pred_labels[ei\n",
    "[0], ei[1]]], mode='markers', name='max(ei)'))\n",
    "\n",
    "fig.add_trace(go.Scatter3d(x=test_grid[ca[1], 0].numpy(), y=test_grid[ca[0], 1].numpy(), z=[pred_labels[ca[0], ca[1]]], mode='markers', name='max(ca)'))\n",
    "\n",
    "\n",
    "fig.update_layout( width=800, height=600,\n",
    "                  margin=dict(r=20, l=10, b=10, t=10),\n",
    "                  legend=dict(orientation=\"h\", yanchor=\"bottom\", y=1.02, xanchor=\"right\",x=1),\n",
    "                  scene=dict(\n",
    "                    xaxis_title=\"RTA temperature (C)\",\n",
    "                    yaxis_title=\"RTA time (sec)\",\n",
    "                    zaxis_title='2Pr (uC/cm2), Pristine')\n",
    "                  )\n",
    "fig.show()"
   ]
  },
  {
   "cell_type": "code",
   "execution_count": 70,
   "metadata": {},
   "outputs": [
    {
     "name": "stdout",
     "output_type": "stream",
     "text": [
      "tensor(415.0862) tensor(114.9384)\n",
      "tensor(415.0862) tensor(114.9384)\n",
      "tensor(453.8793) tensor(451.8842)\n",
      "tensor(402.1552) tensor(451.8842)\n",
      "tensor(712.5000) tensor(388.7069)\n",
      "tensor(647.8448) tensor(430.8251)\n"
     ]
    }
   ],
   "source": [
    "print(test_grid[ei[1], 0], test_grid[ei[0], 1])\n",
    "print(test_grid[pi[1], 0], test_grid[pi[0], 1])\n",
    "print(test_grid[ca[1], 0], test_grid[ca[0], 1])\n",
    "print(test_grid[ucb[1], 0], test_grid[ucb[0], 1])\n",
    "print(test_grid[th[1], 0], test_grid[th[0], 1])\n",
    "print(test_grid[max_var[1], 0], test_grid[max_var[0], 1])"
   ]
  },
  {
   "cell_type": "code",
   "execution_count": 71,
   "metadata": {},
   "outputs": [
    {
     "name": "stdout",
     "output_type": "stream",
     "text": [
      "tensor(36.4777)\n",
      "tensor(36.4777)\n",
      "tensor(25.6007)\n",
      "tensor(23.9889)\n",
      "tensor(26.0637)\n",
      "tensor(26.0657)\n"
     ]
    }
   ],
   "source": [
    "print(pred_labels[ei[0], ei[1]])\n",
    "print(pred_labels[pi[0], pi[1]])\n",
    "print(pred_labels[ca[0], ca[1]])\n",
    "print(pred_labels[ucb[0], ucb[1]])\n",
    "print(pred_labels[th[0], th[1]])\n",
    "print(pred_labels[max_var[0], max_var[1]])\n"
   ]
  },
  {
   "cell_type": "code",
   "execution_count": 15,
   "metadata": {},
   "outputs": [
    {
     "data": {
      "application/vnd.plotly.v1+json": {
       "config": {
        "plotlyServerURL": "https://plot.ly"
       },
       "data": [
        {
         "type": "surface",
         "x": [
          337.5,
          350.4310302734375,
          363.362060546875,
          376.2930908203125,
          389.22412109375,
          402.1551513671875,
          415.0862121582031,
          428.0172424316406,
          440.9482727050781,
          453.8793029785156,
          466.8103332519531,
          479.7413635253906,
          492.67242431640625,
          505.60345458984375,
          518.5344848632812,
          531.4655151367188,
          544.3965454101562,
          557.3275756835938,
          570.2586059570312,
          583.189697265625,
          596.1207275390625,
          609.0517578125,
          621.9827880859375,
          634.913818359375,
          647.8448486328125,
          660.77587890625,
          673.7069091796875,
          686.637939453125,
          699.5689697265625,
          712.5
         ],
         "y": [
          9.64285659790039,
          30.701967239379883,
          51.761077880859375,
          72.8201904296875,
          93.87930297851562,
          114.93841552734375,
          135.9975128173828,
          157.05662536621094,
          178.11573791503906,
          199.1748504638672,
          220.2339630126953,
          241.29306030273438,
          262.3521728515625,
          283.4112854003906,
          304.47039794921875,
          325.5295104980469,
          346.58868408203125,
          367.6477966308594,
          388.7069091796875,
          409.7659912109375,
          430.82513427734375,
          451.88421630859375,
          472.943359375,
          494.00244140625,
          515.0615844726562,
          536.1206665039062,
          557.1798095703125,
          578.2388916015625,
          599.2980346679688,
          620.3571166992188
         ],
         "z": [
          [
           5.98791137454337e-21,
           1.1800810318686408e-34,
           1.8404880251418502e-26,
           1.50443860586508e-13,
           0.0000028520742975970723,
           0.008320304431773527,
           0.1527305354077882,
           0.30745117613784967,
           0.3169770709515216,
           0.27412322319588256,
           0.2085029299566904,
           0.10587718213770553,
           0.02666363152131393,
           0.04023976565653081,
           0.20932890766746348,
           0.3579555492172888,
           0.32879033727958984,
           0.21109966242321077,
           0.0786443341323555,
           0.0063588827665169365,
           0.000020895523999418938,
           0.00007732751034397311,
           0.006859058283413967,
           0.03929801666884897,
           0.06590559674853369,
           0.05296146010427194,
           0.01596959539968909,
           0.0004547777207568396,
           0.0000016349522011495311,
           0.0003085591610479735
          ],
          [
           1.9030741633937426e-22,
           1.4178668354409343e-38,
           1.027862949742032e-26,
           1.1768077188731839e-12,
           0.000013164312194422791,
           0.02262011231092749,
           0.26581836255040736,
           0.40482920975057524,
           0.3518767201209262,
           0.27832479212435124,
           0.20695637248116783,
           0.10609074035050137,
           0.026619707922049013,
           0.03897241383748398,
           0.20713600951825817,
           0.3439001674611034,
           0.30316921640135686,
           0.19312160040874427,
           0.07230059948103024,
           0.005336112298221646,
           0.000010224830549326446,
           0.0000523436476027022,
           0.0064257381991536175,
           0.0386741505365997,
           0.06540587910648593,
           0.0522294161815724,
           0.015149630200780487,
           0.00033949427820696883,
           5.127184624976332e-7,
           0.00022162936280699418
          ],
          [
           1.6340273511041618e-22,
           2.523110351384863e-38,
           1.063023441713072e-23,
           1.588171571090131e-10,
           0.00016479509484730245,
           0.07355675285760477,
           0.45264111864489,
           0.5120103903300661,
           0.36997138767778637,
           0.2676862022548435,
           0.20043304100673498,
           0.1129675158023179,
           0.038347940752728266,
           0.0538713160126191,
           0.21261838694969326,
           0.31516043322853016,
           0.2579850703756398,
           0.16665895913775897,
           0.06762102430587513,
           0.006010652795365799,
           0.000028439600758370354,
           0.00010709398398160209,
           0.0073386545682380955,
           0.03990485703350366,
           0.06619253626134103,
           0.05311130036476536,
           0.016091546075005403,
           0.00047318329289800475,
           0.000001896905951006498,
           0.000322667462663964
          ],
          [
           4.207364258112789e-21,
           4.405312758506414e-34,
           4.2331203328010046e-19,
           4.1302821848133344e-8,
           0.0022302428880349133,
           0.21612836590178924,
           0.709627024079269,
           0.609085728393612,
           0.3613165656717059,
           0.2399701153537228,
           0.18845582384892823,
           0.1261044542992325,
           0.06622838976273593,
           0.09083415093950725,
           0.22835487436706114,
           0.27519434729225634,
           0.1977769580515435,
           0.13506440994730468,
           0.06552035169920312,
           0.008920538058016209,
           0.00020644157896554252,
           0.0004248649800423828,
           0.00985121296736402,
           0.04296096479142486,
           0.06820627596498119,
           0.05554910110684447,
           0.018867712857969038,
           0.0010414999439919154,
           0.00002532659551721827,
           0.0007796280113863199
          ],
          [
           1.2579122917039166e-18,
           6.755036550645245e-28,
           1.2542087674973901e-14,
           0.000004593509416928997,
           0.01754946199109833,
           0.4828593024586487,
           0.9879827567374224,
           0.6698081621945442,
           0.32024034047001904,
           0.196993330994905,
           0.1715895325087743,
           0.14354333029486377,
           0.1111157683626211,
           0.15015986768060186,
           0.25412678880724104,
           0.23187681307197894,
           0.13373109253149823,
           0.10396906753892188,
           0.06690255904862558,
           0.015436205273388265,
           0.0013755176086076588,
           0.0017712167789193725,
           0.014454299714539806,
           0.047716030727472714,
           0.07128202646709952,
           0.05937146083773703,
           0.023615374961274194,
           0.0026629550078449103,
           0.0002812463508791831,
           0.002186252337986236
          ],
          [
           1.065536310756151e-15,
           9.47375146659482e-22,
           5.0808880077564445e-11,
           0.00014993357198407348,
           0.07230043626671023,
           0.8083628057266101,
           1.208415752695646,
           0.6711417868443088,
           0.25021790793906573,
           0.14560310988320918,
           0.15162038306045933,
           0.16209732262368537,
           0.1658889835530648,
           0.22108963658281744,
           0.2861628383467214,
           0.1955134253152676,
           0.08103998030920279,
           0.07951448463509736,
           0.07256405288724777,
           0.02722797405183902,
           0.0058467306114431405,
           0.005782499533261161,
           0.02159381500653021,
           0.05390669319550745,
           0.07516082177820593,
           0.06429238485865485,
           0.030370614635252063,
           0.006371454094436464,
           0.001688638975968642,
           0.005603972817545072
          ],
          [
           7.661193096812508e-13,
           1.275618683696159e-16,
           2.4127552796506696e-8,
           0.0016933915509276705,
           0.17745028986349115,
           1.071327309986112,
           1.3023586477930964,
           0.6048779083425677,
           0.1666305762200576,
           0.0961992045710705,
           0.1312039608915101,
           0.1783677875209203,
           0.21916344726895853,
           0.2880998832359799,
           0.3182993967299732,
           0.17436384559977808,
           0.05035480987084398,
           0.06586650532020216,
           0.08299729956440371,
           0.045057433443029205,
           0.016331543073693708,
           0.014179508114991649,
           0.031315245826250754,
           0.06111550706500729,
           0.07951735908547247,
           0.06992721985644945,
           0.03890361327776998,
           0.013120192142617879,
           0.005927629918670574,
           0.012079351221725876
          ],
          [
           2.329080213756473e-10,
           1.0395736486378935e-12,
           0.0000019633841195163405,
           0.00868554750248414,
           0.30101933213671306,
           1.1851720993329737,
           1.2431055284883772,
           0.48560917360659406,
           0.09257076086042498,
           0.05821127260729203,
           0.113058806779055,
           0.18988076592587144,
           0.26143022192336973,
           0.3392783862128934,
           0.3444479401155338,
           0.17095781247061942,
           0.04172779765097051,
           0.0643229061438566,
           0.098056247577191,
           0.06784292534205,
           0.03343211920072184,
           0.0273524333940017,
           0.043068214114664716,
           0.06880414392608392,
           0.08400045886969365,
           0.07583400217965547,
           0.048663664231771986,
           0.02309068800726391,
           0.01419795647547957,
           0.02188629378489823
          ],
          [
           2.3687434774960216e-8,
           7.222796291471825e-10,
           0.00004262485457841455,
           0.025418586204868865,
           0.391977361594944,
           1.1284767983650243,
           1.052614286806544,
           0.3478921222058692,
           0.045122714886172366,
           0.03520346918149095,
           0.0991480556428157,
           0.19567734214271537,
           0.2879130597483913,
           0.36931673825453126,
           0.36059199669669195,
           0.1821293406575465,
           0.050976243198293414,
           0.07441375417699242,
           0.11665337735039027,
           0.09288569030783855,
           0.05500155198013623,
           0.04394481588767807,
           0.05580992174147942,
           0.07639390449375066,
           0.088281410691947,
           0.08157630641842983,
           0.058873580747637155,
           0.03547686895248481,
           0.026178359018936503,
           0.034253866066993655
          ],
          [
           8.482495504765655e-7,
           7.45414806482161e-8,
           0.00035679869991661096,
           0.04992021755615733,
           0.416729285827488,
           0.9337321742706012,
           0.7897124294246902,
           0.2290757349457112,
           0.02372048479022268,
           0.024642365888561862,
           0.09031629767234417,
           0.19619329230449067,
           0.2982963258951977,
           0.3785230948850308,
           0.3653629499968837,
           0.20150160091350244,
           0.07509489914398904,
           0.09434491031621806,
           0.13677990504105308,
           0.11694701970806626,
           0.07756452784066231,
           0.06162817340384641,
           0.06832444730139486,
           0.08336603022683015,
           0.09209725674447905,
           0.08678703361776746,
           0.06871560028443724,
           0.04885903937139602,
           0.040296061014284235,
           0.04773928475618883
          ],
          [
           0.000012801208209927762,
           0.0000019396928203733603,
           0.001522989771402878,
           0.07345420610608883,
           0.373243840905394,
           0.6674556141126728,
           0.5266118373484653,
           0.1485521092030408,
           0.017685480896515254,
           0.02235980849578678,
           0.08645625690923248,
           0.19270476246047286,
           0.2951712478693421,
           0.370607340733215,
           0.3595254796366576,
           0.2222183321595771,
           0.1089447674791384,
           0.12040113034172495,
           0.15595533367462566,
           0.1373155213921171,
           0.09794129171337251,
           0.07813194772527832,
           0.07955701521900466,
           0.08934237802907341,
           0.09527862715742119,
           0.09121499890491741,
           0.0775148113432102,
           0.061774029678099196,
           0.05463003341450379,
           0.06083047162151617
          ],
          [
           0.0001007302921392486,
           0.000019872272392713354,
           0.004098899922021469,
           0.08763064589894942,
           0.2860469750809145,
           0.40771163788006176,
           0.3196591759187871,
           0.10375212078316948,
           0.019666223310738695,
           0.025861602106802745,
           0.08689927088775579,
           0.18672066747984428,
           0.2824005234754644,
           0.35063509702811935,
           0.34509475614741625,
           0.23892263615575937,
           0.14471084088882136,
           0.1474806412760299,
           0.17188587018397317,
           0.1523680671347325,
           0.11410094086561706,
           0.09188336547657805,
           0.0888220326083396,
           0.09412415436610122,
           0.09775587811418407,
           0.09474172249693402,
           0.0848483485808254,
           0.0731239060665475,
           0.06762341433840297,
           0.07238042726739674
          ],
          [
           0.0005049337889352582,
           0.0001164115463394204,
           0.00827895215145847,
           0.09093343744302729,
           0.19176642294982316,
           0.21573879749955566,
           0.1885361608212498,
           0.08320712669190239,
           0.027319670935515517,
           0.0342367031540495,
           0.09072583055014682,
           0.1795552952328554,
           0.26389487900087716,
           0.3235987576375223,
           0.32455636534915744,
           0.24858321729346922,
           0.1753555711877326,
           0.1708194816342059,
           0.18299443250669312,
           0.1616250020408364,
           0.1252800822218958,
           0.10217245587312912,
           0.09585186507779597,
           0.09768489345505021,
           0.09954691618426398,
           0.0973694078894276,
           0.09056492809048616,
           0.0823256368744874,
           0.0783714306586773,
           0.0817715032495342
          ],
          [
           0.0019004653994959472,
           0.0005307755326323061,
           0.014700068557007229,
           0.08934700881049407,
           0.12079964836574203,
           0.10935229227856208,
           0.12034328772047959,
           0.07757746422438638,
           0.0400412434415901,
           0.04691094886701269,
           0.09693069793309084,
           0.17214284656199863,
           0.24291296173958543,
           0.293628897955003,
           0.3003502176864158,
           0.250352318562328,
           0.1968120162970709,
           0.18733968857515204,
           0.18864630453069875,
           0.16549962513369,
           0.13169791411261367,
           0.10901062418012442,
           0.10072708097446242,
           0.10013144966116072,
           0.10073276736120157,
           0.09919040024477627,
           0.09473721998764084,
           0.08926365301571143,
           0.08659173598822084,
           0.08886944175904232
          ],
          [
           0.0059835587989982425,
           0.0022754110085833855,
           0.026180293629857382,
           0.0924656302041803,
           0.08418298434795607,
           0.0661871662718897,
           0.09221438318559577,
           0.08186325234515035,
           0.057213067957462393,
           0.0629344880686088,
           0.10451430793969818,
           0.16503286292205177,
           0.22180058193299435,
           0.2637171601112206,
           0.2745895273243111,
           0.2449595648771623,
           0.20801393805771662,
           0.19596945828266454,
           0.18907847902260866,
           0.16494813710663347,
           0.13415479190593926,
           0.11286967561872507,
           0.10375402257822519,
           0.10165061363661587,
           0.1014285680135949,
           0.10034786212516084,
           0.09758183279873661,
           0.09414664308655019,
           0.09244506387547269,
           0.09387709784799159
          ],
          [
           0.016401257180464382,
           0.009163704734151887,
           0.049475183266161654,
           0.11010237734428119,
           0.07815949714115178,
           0.05794544053224435,
           0.08785979537288113,
           0.09391048288493747,
           0.07793105353429985,
           0.08098639367089933,
           0.11256443989748272,
           0.1584808535045069,
           0.20202569526050362,
           0.23576590516694063,
           0.2489477407506231,
           0.23402631001364693,
           0.2099816254174922,
           0.19724634578431144,
           0.18515266833431476,
           0.16114761509698605,
           0.13367579804065755,
           0.11442825774808751,
           0.10534004522896845,
           0.10245912687646197,
           0.10175898272036521,
           0.10100198462559656,
           0.0993797505487578,
           0.0973517576335623,
           0.0963319100524721,
           0.09717335005536443
          ],
          [
           0.038801868920026156,
           0.030669328512850424,
           0.09514189739561113,
           0.15154857783156078,
           0.09892394899034762,
           0.07121524661348339,
           0.09965520979486014,
           0.11279172438272522,
           0.10114818970927847,
           0.09967405456007256,
           0.12033138249240904,
           0.15256042403718795,
           0.1843569161264187,
           0.2107989102963551,
           0.224641337576011,
           0.21949058189759552,
           0.2048178341991308,
           0.1926705475181132,
           0.17805393188576446,
           0.15525915887051867,
           0.1312637681170432,
           0.11438399328822857,
           0.10589837090960252,
           0.10276568864654656,
           0.10183936174760516,
           0.10130325321073147,
           0.10041389538729228,
           0.09929944974353755,
           0.09872819735518967,
           0.09918451218865088
          ],
          [
           0.07791265042032192,
           0.07860833542579676,
           0.1722570457043603,
           0.22407071918241628,
           0.14775310574645972,
           0.10354433564768634,
           0.12468640955213872,
           0.1377595501627894,
           0.12578745729526852,
           0.11780051060004126,
           0.12727997967391058,
           0.14725603541934074,
           0.16907856889492767,
           0.189213036260781,
           0.20246776431319002,
           0.2032015245174078,
           0.19492740571099743,
           0.18410456912836815,
           0.16902239781985096,
           0.1482850581784414,
           0.12776463329156662,
           0.11334365337884234,
           0.10579022506472674,
           0.10274844143253181,
           0.10176564242490382,
           0.10137801048514322,
           0.10093146860611496,
           0.10037452444746858,
           0.1000803872576213,
           0.10030187652808753
          ],
          [
           0.13284660824024253,
           0.15563900817575987,
           0.2806849692491894,
           0.32906997468342347,
           0.2256985366491091,
           0.15456859621366037,
           0.16096492606293133,
           0.16759259448522779,
           0.150752417649761,
           0.13448318473990983,
           0.13310146828569436,
           0.14252478632828047,
           0.15617682225147056,
           0.1710043957360935,
           0.18286738289313242,
           0.18668277989832738,
           0.18251650489692828,
           0.17333908984437085,
           0.15916399033530282,
           0.1410066356348012,
           0.12381927600270548,
           0.11177879720738682,
           0.10529880731033187,
           0.10254557276324788,
           0.10161038966218766,
           0.10132273717440626,
           0.10112655815908994,
           0.10088764891039331,
           0.10075394768052892,
           0.10084237910630822
          ],
          [
           0.19554973122540287,
           0.25018320503637326,
           0.409242985124867,
           0.4598309333965793,
           0.32832709866320076,
           0.22081039454676443,
           0.2052078575121068,
           0.20028004476218264,
           0.1749215259000395,
           0.14915970822114066,
           0.13768824815454372,
           0.13832560160291396,
           0.14547746960906172,
           0.15594052046769735,
           0.16600004044851657,
           0.17103811860747964,
           0.1693387257124115,
           0.1618459534710096,
           0.14934770012568221,
           0.1339766391092856,
           0.11986943785161674,
           0.11002290213573795,
           0.10462800770163866,
           0.10225561330654603,
           0.10142389646386196,
           0.10120499694295282,
           0.10113933262112845,
           0.10106765887422264,
           0.10102002909017976,
           0.10103948299756904
          ],
          [
           0.25385850062068327,
           0.3428301324485765,
           0.5403919508156465,
           0.6031086748032123,
           0.4449405410783319,
           0.2942400520979854,
           0.25207973908133163,
           0.23303463473412322,
           0.1971734841304268,
           0.1615376021739604,
           0.1410840141609324,
           0.1346282043954251,
           0.13673511039069364,
           0.1436782209151728,
           0.15181941660812848,
           0.15695681779178905,
           0.1566229153884121,
           0.15068687859945795,
           0.1401766672622906,
           0.12754487949959215,
           0.11619018702527739,
           0.10829114441841459,
           0.10391238537863107,
           0.10194301541057399,
           0.10123778641794134,
           0.10106799322977422,
           0.10106298330364871,
           0.10106964542801866,
           0.10106382270643677,
           0.10105207861340187
          ],
          [
           0.2959815542771308,
           0.4144735220929413,
           0.6557248153634944,
           0.7424986161978481,
           0.5605917764446605,
           0.3632174128924097,
           0.29460603626633064,
           0.2626117641066327,
           0.21645801130110986,
           0.17152169685265262,
           0.1434244037470812,
           0.1314087196252307,
           0.1296843459063709,
           0.13383741884167955,
           0.1401428325251628,
           0.1447792573403176,
           0.14511658106239622,
           0.14052803907944922,
           0.13201020946757736,
           0.12189816019307287,
           0.11293028899021296,
           0.10670776135439464,
           0.10323247253733497,
           0.10164634336548861,
           0.10106953898094806,
           0.1009365207763343,
           0.10095451798043947,
           0.10099079345755879,
           0.10100214174937516,
           0.10097975603438203
          ],
          [
           0.3137794816357038,
           0.4508624245328331,
           0.7394052206685632,
           0.8615134326300804,
           0.6588966224168,
           0.4147010457238055,
           0.3254704041087456,
           0.28588909302254517,
           0.23191751540462757,
           0.17915469096905512,
           0.14488206489535427,
           0.12864083848954178,
           0.1240663887691319,
           0.12604361110134277,
           0.13070769183392061,
           0.1345852184064973,
           0.13518457583675814,
           0.13170978251576781,
           0.12501063621035535,
           0.11710337859146769,
           0.11014920694588992,
           0.1053329344327259,
           0.10263020547664098,
           0.10138489398394851,
           0.10092708920018739,
           0.10082263432680039,
           0.1008452437194382,
           0.10088681378093206,
           0.10090296360179424,
           0.10087983147514318
          ],
          [
           0.3044844118813006,
           0.4446112742790036,
           0.780170545469944,
           0.9460272761603497,
           0.7249242541833693,
           0.4370795036226419,
           0.3388326378205574,
           0.3005731997440566,
           0.24302261650713985,
           0.1845714790033781,
           0.14562626705048087,
           0.1262891592977864,
           0.1196411100587208,
           0.11994928321251241,
           0.12321687265356207,
           0.126282418692228,
           0.12692123214732653,
           0.12433600214354668,
           0.1191984083753691,
           0.1131457470550663,
           0.10784837508427025,
           0.10418420989415555,
           0.10212209207769318,
           0.1011662233057748,
           0.10081174530179754,
           0.10073023779471718,
           0.10074984130707837,
           0.10078652093936968,
           0.10080169114596887,
           0.10078198214199197
          ],
          [
           0.2713489518983637,
           0.3965941627739856,
           0.7730119245400965,
           0.9864906211132466,
           0.7481469697957944,
           0.4234240470820767,
           0.3322261378154897,
           0.3058158101443793,
           0.2496690856332039,
           0.18796686041079325,
           0.14579762793871454,
           0.12430471864685211,
           0.11619141014910761,
           0.11524360564581948,
           0.11736816517420312,
           0.11967902385719043,
           0.12024979403072267,
           0.11835642791939094,
           0.11450196049660288,
           0.10995955886761677,
           0.105994485287764,
           0.1032538610362978,
           0.10170891793686981,
           0.10099006698925078,
           0.10072179090599964,
           0.10065894775309064,
           0.10067338190973901,
           0.1007018969074634,
           0.10071414941131179,
           0.10069889596988885
          ],
          [
           0.22330138033904423,
           0.3174714310372908,
           0.7212074023957968,
           0.9802475582851361,
           0.7257856964770464,
           0.3751140085705772,
           0.3080563463743533,
           0.30253275175316974,
           0.2522016656616729,
           0.18957085012349983,
           0.14549807491869837,
           0.12262652292779996,
           0.1135246927213387,
           0.11165495754039856,
           0.11287518347852288,
           0.1145385995106909,
           0.11500004143408027,
           0.11363327094663689,
           0.11079812632827546,
           0.10745241398001992,
           0.10453526442265892,
           0.10251992436700891,
           0.101382790357738,
           0.10085255254816639,
           0.10065362882774598,
           0.10060591381133244,
           0.10061544053423793,
           0.10063602144894962,
           0.1006450539258475,
           0.10063405421735927
          ],
          [
           0.17292042219885584,
           0.2280433667283801,
           0.638230707666345,
           0.9336079978031879,
           0.6662260466077929,
           0.3050068503942549,
           0.27384057824379826,
           0.29323607353837733,
           0.251335011038739,
           0.1896297817597401,
           0.1447920623329746,
           0.12118510539729788,
           0.11147261973770972,
           0.1089507141342102,
           0.1094780562376213,
           0.11061560477717192,
           0.11096238415365944,
           0.10998888049531186,
           0.10794157924361358,
           0.10552113483579623,
           0.10341152714581925,
           0.10195443553889627,
           0.10113195088057042,
           0.10074790517518123,
           0.10060316659517499,
           0.10056767141353429,
           0.1005734017301822,
           0.10058751701952034,
           0.10059378013796622,
           0.10058614718493947
          ],
          [
           0.13232486669739624,
           0.15421979991715629,
           0.5472811937027092,
           0.8622928046401949,
           0.590355706666941,
           0.23674352506740526,
           0.24026377134385335,
           0.2813065372494197,
           0.24797690033338438,
           0.188382737880033,
           0.14371547311161448,
           0.11990900921464875,
           0.10989102091761704,
           0.10693485047946494,
           0.10694951089950178,
           0.10767762857635244,
           0.10792143138761068,
           0.10723689635156664,
           0.10578423575713031,
           0.10406352848178063,
           0.10256379039112284,
           0.10152804054895709,
           0.10094329680068803,
           0.10067007734799072,
           0.10056677618931081,
           0.1005407347997932,
           0.10054384607340328,
           0.10055312482754913,
           0.10055732663873246,
           0.10055230047215863
          ],
          [
           0.10862344489816556,
           0.11399369586956165,
           0.4741374848546407,
           0.7872923533844967,
           0.525593680508234,
           0.19491742537244572,
           0.21714049635227872,
           0.2699524655780575,
           0.24301242364701725,
           0.18604393088395277,
           0.1422857299418867,
           0.1187307498466541,
           0.1086590259526572,
           0.1054450879684598,
           0.10509590200158508,
           0.1055170729363541,
           0.1056761666907014,
           0.10520055283822949,
           0.10418721451126656,
           0.10298510925829718,
           0.10193693133753695,
           0.10121300804372313,
           0.10080442749632418,
           0.10061344139054934,
           0.10054102326330677,
           0.10052222811095657,
           0.10052373595762953,
           0.10052971033740671,
           0.10053240328557483,
           0.10052905519675526
          ],
          [
           0.1027899511677493,
           0.10885934495503174,
           0.4339025301930799,
           0.7253783239829703,
           0.49059799686764993,
           0.1902876836219819,
           0.20946985691766007,
           0.26125158797326586,
           0.2371175582742998,
           0.1827904665935456,
           0.14051413238082144,
           0.11759309125856188,
           0.10767848052150852,
           0.10434982345022775,
           0.10375705589148432,
           0.10395630799721312,
           0.1040499989231875,
           0.10372320680418384,
           0.10302809753879194,
           0.1022023792734219,
           0.10148224489328184,
           0.100984863725186,
           0.10070414526632526,
           0.10057293869591305,
           0.10052301607903524,
           0.10050983060701824,
           0.10051034521817265,
           0.10051404592978996,
           0.1005157453889885,
           0.10051362632656724
          ]
         ]
        },
        {
         "mode": "markers",
         "name": "max(pi)",
         "type": "scatter3d",
         "x": [
          402.1551513671875
         ],
         "y": [
          157.05662536621094
         ],
         "z": [
          0.49880605936050415
         ]
        }
       ],
       "layout": {
        "height": 600,
        "legend": {
         "orientation": "h",
         "x": 1,
         "xanchor": "right",
         "y": 1.02,
         "yanchor": "bottom"
        },
        "margin": {
         "b": 10,
         "l": 10,
         "r": 20,
         "t": 10
        },
        "scene": {
         "xaxis": {
          "title": {
           "text": "RTA temperature (C)"
          }
         },
         "yaxis": {
          "title": {
           "text": "RTA time (sec)"
          }
         },
         "zaxis": {
          "title": {
           "text": "Acquisition Function"
          }
         }
        },
        "template": {
         "data": {
          "bar": [
           {
            "error_x": {
             "color": "#2a3f5f"
            },
            "error_y": {
             "color": "#2a3f5f"
            },
            "marker": {
             "line": {
              "color": "#E5ECF6",
              "width": 0.5
             }
            },
            "type": "bar"
           }
          ],
          "barpolar": [
           {
            "marker": {
             "line": {
              "color": "#E5ECF6",
              "width": 0.5
             }
            },
            "type": "barpolar"
           }
          ],
          "carpet": [
           {
            "aaxis": {
             "endlinecolor": "#2a3f5f",
             "gridcolor": "white",
             "linecolor": "white",
             "minorgridcolor": "white",
             "startlinecolor": "#2a3f5f"
            },
            "baxis": {
             "endlinecolor": "#2a3f5f",
             "gridcolor": "white",
             "linecolor": "white",
             "minorgridcolor": "white",
             "startlinecolor": "#2a3f5f"
            },
            "type": "carpet"
           }
          ],
          "choropleth": [
           {
            "colorbar": {
             "outlinewidth": 0,
             "ticks": ""
            },
            "type": "choropleth"
           }
          ],
          "contour": [
           {
            "colorbar": {
             "outlinewidth": 0,
             "ticks": ""
            },
            "colorscale": [
             [
              0,
              "#0d0887"
             ],
             [
              0.1111111111111111,
              "#46039f"
             ],
             [
              0.2222222222222222,
              "#7201a8"
             ],
             [
              0.3333333333333333,
              "#9c179e"
             ],
             [
              0.4444444444444444,
              "#bd3786"
             ],
             [
              0.5555555555555556,
              "#d8576b"
             ],
             [
              0.6666666666666666,
              "#ed7953"
             ],
             [
              0.7777777777777778,
              "#fb9f3a"
             ],
             [
              0.8888888888888888,
              "#fdca26"
             ],
             [
              1,
              "#f0f921"
             ]
            ],
            "type": "contour"
           }
          ],
          "contourcarpet": [
           {
            "colorbar": {
             "outlinewidth": 0,
             "ticks": ""
            },
            "type": "contourcarpet"
           }
          ],
          "heatmap": [
           {
            "colorbar": {
             "outlinewidth": 0,
             "ticks": ""
            },
            "colorscale": [
             [
              0,
              "#0d0887"
             ],
             [
              0.1111111111111111,
              "#46039f"
             ],
             [
              0.2222222222222222,
              "#7201a8"
             ],
             [
              0.3333333333333333,
              "#9c179e"
             ],
             [
              0.4444444444444444,
              "#bd3786"
             ],
             [
              0.5555555555555556,
              "#d8576b"
             ],
             [
              0.6666666666666666,
              "#ed7953"
             ],
             [
              0.7777777777777778,
              "#fb9f3a"
             ],
             [
              0.8888888888888888,
              "#fdca26"
             ],
             [
              1,
              "#f0f921"
             ]
            ],
            "type": "heatmap"
           }
          ],
          "heatmapgl": [
           {
            "colorbar": {
             "outlinewidth": 0,
             "ticks": ""
            },
            "colorscale": [
             [
              0,
              "#0d0887"
             ],
             [
              0.1111111111111111,
              "#46039f"
             ],
             [
              0.2222222222222222,
              "#7201a8"
             ],
             [
              0.3333333333333333,
              "#9c179e"
             ],
             [
              0.4444444444444444,
              "#bd3786"
             ],
             [
              0.5555555555555556,
              "#d8576b"
             ],
             [
              0.6666666666666666,
              "#ed7953"
             ],
             [
              0.7777777777777778,
              "#fb9f3a"
             ],
             [
              0.8888888888888888,
              "#fdca26"
             ],
             [
              1,
              "#f0f921"
             ]
            ],
            "type": "heatmapgl"
           }
          ],
          "histogram": [
           {
            "marker": {
             "colorbar": {
              "outlinewidth": 0,
              "ticks": ""
             }
            },
            "type": "histogram"
           }
          ],
          "histogram2d": [
           {
            "colorbar": {
             "outlinewidth": 0,
             "ticks": ""
            },
            "colorscale": [
             [
              0,
              "#0d0887"
             ],
             [
              0.1111111111111111,
              "#46039f"
             ],
             [
              0.2222222222222222,
              "#7201a8"
             ],
             [
              0.3333333333333333,
              "#9c179e"
             ],
             [
              0.4444444444444444,
              "#bd3786"
             ],
             [
              0.5555555555555556,
              "#d8576b"
             ],
             [
              0.6666666666666666,
              "#ed7953"
             ],
             [
              0.7777777777777778,
              "#fb9f3a"
             ],
             [
              0.8888888888888888,
              "#fdca26"
             ],
             [
              1,
              "#f0f921"
             ]
            ],
            "type": "histogram2d"
           }
          ],
          "histogram2dcontour": [
           {
            "colorbar": {
             "outlinewidth": 0,
             "ticks": ""
            },
            "colorscale": [
             [
              0,
              "#0d0887"
             ],
             [
              0.1111111111111111,
              "#46039f"
             ],
             [
              0.2222222222222222,
              "#7201a8"
             ],
             [
              0.3333333333333333,
              "#9c179e"
             ],
             [
              0.4444444444444444,
              "#bd3786"
             ],
             [
              0.5555555555555556,
              "#d8576b"
             ],
             [
              0.6666666666666666,
              "#ed7953"
             ],
             [
              0.7777777777777778,
              "#fb9f3a"
             ],
             [
              0.8888888888888888,
              "#fdca26"
             ],
             [
              1,
              "#f0f921"
             ]
            ],
            "type": "histogram2dcontour"
           }
          ],
          "mesh3d": [
           {
            "colorbar": {
             "outlinewidth": 0,
             "ticks": ""
            },
            "type": "mesh3d"
           }
          ],
          "parcoords": [
           {
            "line": {
             "colorbar": {
              "outlinewidth": 0,
              "ticks": ""
             }
            },
            "type": "parcoords"
           }
          ],
          "pie": [
           {
            "automargin": true,
            "type": "pie"
           }
          ],
          "scatter": [
           {
            "marker": {
             "colorbar": {
              "outlinewidth": 0,
              "ticks": ""
             }
            },
            "type": "scatter"
           }
          ],
          "scatter3d": [
           {
            "line": {
             "colorbar": {
              "outlinewidth": 0,
              "ticks": ""
             }
            },
            "marker": {
             "colorbar": {
              "outlinewidth": 0,
              "ticks": ""
             }
            },
            "type": "scatter3d"
           }
          ],
          "scattercarpet": [
           {
            "marker": {
             "colorbar": {
              "outlinewidth": 0,
              "ticks": ""
             }
            },
            "type": "scattercarpet"
           }
          ],
          "scattergeo": [
           {
            "marker": {
             "colorbar": {
              "outlinewidth": 0,
              "ticks": ""
             }
            },
            "type": "scattergeo"
           }
          ],
          "scattergl": [
           {
            "marker": {
             "colorbar": {
              "outlinewidth": 0,
              "ticks": ""
             }
            },
            "type": "scattergl"
           }
          ],
          "scattermapbox": [
           {
            "marker": {
             "colorbar": {
              "outlinewidth": 0,
              "ticks": ""
             }
            },
            "type": "scattermapbox"
           }
          ],
          "scatterpolar": [
           {
            "marker": {
             "colorbar": {
              "outlinewidth": 0,
              "ticks": ""
             }
            },
            "type": "scatterpolar"
           }
          ],
          "scatterpolargl": [
           {
            "marker": {
             "colorbar": {
              "outlinewidth": 0,
              "ticks": ""
             }
            },
            "type": "scatterpolargl"
           }
          ],
          "scatterternary": [
           {
            "marker": {
             "colorbar": {
              "outlinewidth": 0,
              "ticks": ""
             }
            },
            "type": "scatterternary"
           }
          ],
          "surface": [
           {
            "colorbar": {
             "outlinewidth": 0,
             "ticks": ""
            },
            "colorscale": [
             [
              0,
              "#0d0887"
             ],
             [
              0.1111111111111111,
              "#46039f"
             ],
             [
              0.2222222222222222,
              "#7201a8"
             ],
             [
              0.3333333333333333,
              "#9c179e"
             ],
             [
              0.4444444444444444,
              "#bd3786"
             ],
             [
              0.5555555555555556,
              "#d8576b"
             ],
             [
              0.6666666666666666,
              "#ed7953"
             ],
             [
              0.7777777777777778,
              "#fb9f3a"
             ],
             [
              0.8888888888888888,
              "#fdca26"
             ],
             [
              1,
              "#f0f921"
             ]
            ],
            "type": "surface"
           }
          ],
          "table": [
           {
            "cells": {
             "fill": {
              "color": "#EBF0F8"
             },
             "line": {
              "color": "white"
             }
            },
            "header": {
             "fill": {
              "color": "#C8D4E3"
             },
             "line": {
              "color": "white"
             }
            },
            "type": "table"
           }
          ]
         },
         "layout": {
          "annotationdefaults": {
           "arrowcolor": "#2a3f5f",
           "arrowhead": 0,
           "arrowwidth": 1
          },
          "autotypenumbers": "strict",
          "coloraxis": {
           "colorbar": {
            "outlinewidth": 0,
            "ticks": ""
           }
          },
          "colorscale": {
           "diverging": [
            [
             0,
             "#8e0152"
            ],
            [
             0.1,
             "#c51b7d"
            ],
            [
             0.2,
             "#de77ae"
            ],
            [
             0.3,
             "#f1b6da"
            ],
            [
             0.4,
             "#fde0ef"
            ],
            [
             0.5,
             "#f7f7f7"
            ],
            [
             0.6,
             "#e6f5d0"
            ],
            [
             0.7,
             "#b8e186"
            ],
            [
             0.8,
             "#7fbc41"
            ],
            [
             0.9,
             "#4d9221"
            ],
            [
             1,
             "#276419"
            ]
           ],
           "sequential": [
            [
             0,
             "#0d0887"
            ],
            [
             0.1111111111111111,
             "#46039f"
            ],
            [
             0.2222222222222222,
             "#7201a8"
            ],
            [
             0.3333333333333333,
             "#9c179e"
            ],
            [
             0.4444444444444444,
             "#bd3786"
            ],
            [
             0.5555555555555556,
             "#d8576b"
            ],
            [
             0.6666666666666666,
             "#ed7953"
            ],
            [
             0.7777777777777778,
             "#fb9f3a"
            ],
            [
             0.8888888888888888,
             "#fdca26"
            ],
            [
             1,
             "#f0f921"
            ]
           ],
           "sequentialminus": [
            [
             0,
             "#0d0887"
            ],
            [
             0.1111111111111111,
             "#46039f"
            ],
            [
             0.2222222222222222,
             "#7201a8"
            ],
            [
             0.3333333333333333,
             "#9c179e"
            ],
            [
             0.4444444444444444,
             "#bd3786"
            ],
            [
             0.5555555555555556,
             "#d8576b"
            ],
            [
             0.6666666666666666,
             "#ed7953"
            ],
            [
             0.7777777777777778,
             "#fb9f3a"
            ],
            [
             0.8888888888888888,
             "#fdca26"
            ],
            [
             1,
             "#f0f921"
            ]
           ]
          },
          "colorway": [
           "#636efa",
           "#EF553B",
           "#00cc96",
           "#ab63fa",
           "#FFA15A",
           "#19d3f3",
           "#FF6692",
           "#B6E880",
           "#FF97FF",
           "#FECB52"
          ],
          "font": {
           "color": "#2a3f5f"
          },
          "geo": {
           "bgcolor": "white",
           "lakecolor": "white",
           "landcolor": "#E5ECF6",
           "showlakes": true,
           "showland": true,
           "subunitcolor": "white"
          },
          "hoverlabel": {
           "align": "left"
          },
          "hovermode": "closest",
          "mapbox": {
           "style": "light"
          },
          "paper_bgcolor": "white",
          "plot_bgcolor": "#E5ECF6",
          "polar": {
           "angularaxis": {
            "gridcolor": "white",
            "linecolor": "white",
            "ticks": ""
           },
           "bgcolor": "#E5ECF6",
           "radialaxis": {
            "gridcolor": "white",
            "linecolor": "white",
            "ticks": ""
           }
          },
          "scene": {
           "xaxis": {
            "backgroundcolor": "#E5ECF6",
            "gridcolor": "white",
            "gridwidth": 2,
            "linecolor": "white",
            "showbackground": true,
            "ticks": "",
            "zerolinecolor": "white"
           },
           "yaxis": {
            "backgroundcolor": "#E5ECF6",
            "gridcolor": "white",
            "gridwidth": 2,
            "linecolor": "white",
            "showbackground": true,
            "ticks": "",
            "zerolinecolor": "white"
           },
           "zaxis": {
            "backgroundcolor": "#E5ECF6",
            "gridcolor": "white",
            "gridwidth": 2,
            "linecolor": "white",
            "showbackground": true,
            "ticks": "",
            "zerolinecolor": "white"
           }
          },
          "shapedefaults": {
           "line": {
            "color": "#2a3f5f"
           }
          },
          "ternary": {
           "aaxis": {
            "gridcolor": "white",
            "linecolor": "white",
            "ticks": ""
           },
           "baxis": {
            "gridcolor": "white",
            "linecolor": "white",
            "ticks": ""
           },
           "bgcolor": "#E5ECF6",
           "caxis": {
            "gridcolor": "white",
            "linecolor": "white",
            "ticks": ""
           }
          },
          "title": {
           "x": 0.05
          },
          "xaxis": {
           "automargin": true,
           "gridcolor": "white",
           "linecolor": "white",
           "ticks": "",
           "title": {
            "standoff": 15
           },
           "zerolinecolor": "white",
           "zerolinewidth": 2
          },
          "yaxis": {
           "automargin": true,
           "gridcolor": "white",
           "linecolor": "white",
           "ticks": "",
           "title": {
            "standoff": 15
           },
           "zerolinecolor": "white",
           "zerolinewidth": 2
          }
         }
        },
        "width": 1000
       }
      }
     },
     "metadata": {},
     "output_type": "display_data"
    }
   ],
   "source": [
    "# look at acq_func manifold\n",
    "fig = go.Figure(data=[go.Surface(z=EI_acq_shape, x=test_grid[:,0], y=test_grid[:,1])])\n",
    "fig.add_trace(go.Scatter3d(x=test_grid[pi[1], 0].numpy(), y=test_grid[pi[0], 1].numpy(), z=[PI_acq_shape[pi[0], pi[1]]], mode='markers', name='max(pi)'))\n",
    "fig.update_layout( width=1000, height=600,\n",
    "                  margin=dict(r=20, l=10, b=10, t=10),\n",
    "                  legend=dict(orientation=\"h\", yanchor=\"bottom\", y=1.02, xanchor=\"right\",x=1),\n",
    "                  scene=dict(\n",
    "                    xaxis_title=\"RTA temperature (C)\",\n",
    "                    yaxis_title=\"RTA time (sec)\",\n",
    "                    zaxis_title='Acquisition Function')\n",
    "                  )\n",
    "fig.show()"
   ]
  },
  {
   "cell_type": "code",
   "execution_count": 20,
   "metadata": {},
   "outputs": [
    {
     "data": {
      "text/plain": [
       "tensor(-0.5087)"
      ]
     },
     "execution_count": 20,
     "metadata": {},
     "output_type": "execute_result"
    }
   ],
   "source": [
    "train_y.max() - obs.mean.max()"
   ]
  },
  {
   "cell_type": "code",
   "execution_count": 23,
   "metadata": {},
   "outputs": [
    {
     "data": {
      "application/vnd.plotly.v1+json": {
       "config": {
        "plotlyServerURL": "https://plot.ly"
       },
       "data": [
        {
         "type": "surface",
         "x": [
          337.5,
          350.4310302734375,
          363.362060546875,
          376.2930908203125,
          389.22412109375,
          402.1551513671875,
          415.0862121582031,
          428.0172424316406,
          440.9482727050781,
          453.8793029785156,
          466.8103332519531,
          479.7413635253906,
          492.67242431640625,
          505.60345458984375,
          518.5344848632812,
          531.4655151367188,
          544.3965454101562,
          557.3275756835938,
          570.2586059570312,
          583.189697265625,
          596.1207275390625,
          609.0517578125,
          621.9827880859375,
          634.913818359375,
          647.8448486328125,
          660.77587890625,
          673.7069091796875,
          686.637939453125,
          699.5689697265625,
          712.5
         ],
         "y": [
          9.64285659790039,
          30.701967239379883,
          51.761077880859375,
          72.8201904296875,
          93.87930297851562,
          114.93841552734375,
          135.9975128173828,
          157.05662536621094,
          178.11573791503906,
          199.1748504638672,
          220.2339630126953,
          241.29306030273438,
          262.3521728515625,
          283.4112854003906,
          304.47039794921875,
          325.5295104980469,
          346.58868408203125,
          367.6477966308594,
          388.7069091796875,
          409.7659912109375,
          430.82513427734375,
          451.88421630859375,
          472.943359375,
          494.00244140625,
          515.0615844726562,
          536.1206665039062,
          557.1798095703125,
          578.2388916015625,
          599.2980346679688,
          620.3571166992188
         ],
         "z": [
          [
           14.069831848144531,
           5.071098327636719,
           4.1682281494140625,
           4.735038757324219,
           4.741279602050781,
           6.541938781738281,
           16.788711547851562,
           36.6161994934082,
           55.24470520019531,
           61.6597785949707,
           52.16801071166992,
           30.54629135131836,
           10.89263916015625,
           9.627189636230469,
           26.754669189453125,
           46.537532806396484,
           57.38640213012695,
           57.350955963134766,
           45.43796920776367,
           24.35100555419922,
           8.518577575683594,
           12.954620361328125,
           34.44646072387695,
           56.115665435791016,
           65.96756744384766,
           61.076107025146484,
           42.670040130615234,
           19.16039276123047,
           7.458778381347656,
           17.827980041503906
          ],
          [
           10.891807556152344,
           2.3962478637695312,
           2.3756942749023438,
           3.1703872680664062,
           2.5435562133789062,
           3.4759902954101562,
           13.397804260253906,
           33.46086120605469,
           52.47063446044922,
           59.34870910644531,
           50.22599411010742,
           28.507465362548828,
           8.436302185058594,
           6.68731689453125,
           22.78036880493164,
           40.79729080200195,
           50.563568115234375,
           51.41496276855469,
           41.3769416809082,
           21.382469177246094,
           5.7383270263671875,
           10.494346618652344,
           32.81298828125,
           55.32229232788086,
           65.56050109863281,
           60.47199249267578,
           41.32915496826172,
           16.87900161743164,
           4.708946228027344,
           15.492820739746094
          ],
          [
           9.752830505371094,
           1.8592910766601562,
           3.0124588012695312,
           4.208198547363281,
           2.6748428344726562,
           2.535614013671875,
           11.884811401367188,
           31.174209594726562,
           49.34086990356445,
           56.57929992675781,
           49.32810974121094,
           29.95798110961914,
           11.351577758789062,
           8.882171630859375,
           21.498035430908203,
           34.79198455810547,
           41.899681091308594,
           44.18034362792969,
           38.266849517822266,
           22.199607849121094,
           8.592041015625,
           13.42852783203125,
           34.754234313964844,
           56.24785614013672,
           66.02799224853516,
           61.160884857177734,
           42.85732650756836,
           19.47881317138672,
           7.842803955078125,
           18.15384292602539
          ],
          [
           9.748580932617188,
           2.21929931640625,
           4.6785888671875,
           6.4470367431640625,
           3.8373794555664062,
           2.5986557006835938,
           11.29815673828125,
           28.899810791015625,
           45.058448791503906,
           52.65058898925781,
           48.837501525878906,
           34.17236328125,
           18.745620727539062,
           15.329097747802734,
           22.36223602294922,
           28.484634399414062,
           31.69131851196289,
           35.88424301147461,
           35.975730895996094,
           26.25000762939453,
           16.296321868896484,
           21.03531265258789,
           39.80242919921875,
           58.670143127441406,
           67.25786590576172,
           62.97762680053711,
           46.88749694824219,
           26.336368560791016,
           16.10763168334961,
           25.171642303466797
          ],
          [
           10.308395385742188,
           2.7647781372070312,
           6.449195861816406,
           8.881294250488281,
           5.20367431640625,
           2.9833602905273438,
           10.908660888671875,
           25.884418487548828,
           38.966697692871094,
           46.949012756347656,
           47.90902328491211,
           39.764923095703125,
           28.742630004882812,
           24.284358978271484,
           24.559349060058594,
           22.268203735351562,
           21.018962860107422,
           27.372180938720703,
           34.41060256958008,
           32.36040115356445,
           27.03011703491211,
           31.57525634765625,
           46.8114013671875,
           62.040077209472656,
           68.97144317626953,
           65.51045227050781,
           52.50630187988281,
           35.897396087646484,
           27.630325317382812,
           34.95576477050781
          ],
          [
           11.493186950683594,
           3.6688079833984375,
           8.286064147949219,
           11.314971923828125,
           6.7545166015625,
           3.728912353515625,
           10.529708862304688,
           21.88304901123047,
           30.994667053222656,
           39.374515533447266,
           45.9283447265625,
           45.25892639160156,
           39.211647033691406,
           33.861671447753906,
           27.4837646484375,
           17.119426727294922,
           11.70465087890625,
           20.084911346435547,
           33.728092193603516,
           39.241188049316406,
           38.625396728515625,
           42.935203552246094,
           54.37824249267578,
           65.68345642089844,
           70.82593536376953,
           68.2527084350586,
           58.590179443359375,
           46.249176025390625,
           40.10680389404297,
           45.54975128173828
          ],
          [
           13.719314575195312,
           5.617156982421875,
           10.731719970703125,
           14.10842514038086,
           8.933448791503906,
           5.235557556152344,
           10.372177124023438,
           17.285663604736328,
           21.931034088134766,
           30.6558837890625,
           42.89794921875,
           49.645225524902344,
           48.48332977294922,
           42.66794967651367,
           30.991363525390625,
           14.380905151367188,
           5.839241027832031,
           15.689990997314453,
           34.33998107910156,
           45.92445755004883,
           49.26953887939453,
           53.30723190307617,
           61.29339599609375,
           69.01708221435547,
           72.52433776855469,
           70.76521301269531,
           64.16441345214844,
           55.734230041503906,
           51.538028717041016,
           55.25628662109375
          ],
          [
           17.094745635986328,
           8.953025817871094,
           14.115482330322266,
           17.470870971679688,
           11.899078369140625,
           7.5648193359375,
           10.592636108398438,
           12.911361694335938,
           13.334724426269531,
           22.33395767211914,
           39.54597091674805,
           52.664955139160156,
           55.736778259277344,
           50.06943893432617,
           35.291168212890625,
           15.218040466308594,
           5.02783203125,
           15.46994400024414,
           36.683929443359375,
           51.933258056640625,
           57.913856506347656,
           61.610328674316406,
           66.8250732421875,
           71.68634033203125,
           73.88554382324219,
           72.7797622680664,
           68.63408660888672,
           63.339561462402344,
           60.70436477661133,
           63.03949737548828
          ],
          [
           20.901187896728516,
           12.997978210449219,
           17.895267486572266,
           20.881916046142578,
           15.005180358886719,
           10.016098022460938,
           10.959526062011719,
           9.631240844726562,
           7.065147399902344,
           16.33167266845703,
           37.06937789916992,
           54.7181396484375,
           60.961246490478516,
           56.059688568115234,
           40.59772872924805,
           20.040958404541016,
           9.721298217773438,
           19.77019500732422,
           40.90604782104492,
           57.17822265625,
           64.29318237304688,
           67.54750061035156,
           70.7643051147461,
           73.58805084228516,
           74.85629272460938,
           74.21715545654297,
           71.82337188720703,
           68.76631927490234,
           67.24468994140625,
           68.59303283691406
          ],
          [
           23.70614242553711,
           16.146709442138672,
           20.685802459716797,
           23.126583099365234,
           16.95688247680664,
           11.378120422363281,
           10.948738098144531,
           8.058502197265625,
           4.624794006347656,
           14.26226806640625,
           36.62360382080078,
           56.503990173339844,
           64.62979125976562,
           60.92363357543945,
           46.813804626464844,
           28.235519409179688,
           18.998512268066406,
           27.81354522705078,
           46.6700439453125,
           61.7307014465332,
           68.67631530761719,
           71.38935852050781,
           73.28699493408203,
           74.80514526367188,
           75.4781494140625,
           75.13849639892578,
           73.8676986694336,
           72.24490356445312,
           71.43714904785156,
           72.15290069580078
          ],
          [
           24.135997772216797,
           16.756656646728516,
           21.028919219970703,
           22.9683837890625,
           16.571216583251953,
           10.71270751953125,
           10.209846496582031,
           8.452491760253906,
           6.625053405761719,
           16.800872802734375,
           38.81715393066406,
           58.61473083496094,
           67.31968688964844,
           64.9398193359375,
           53.45335388183594,
           38.36226272583008,
           30.919544219970703,
           37.98634338378906,
           53.218894958496094,
           65.64404296875,
           71.54938507080078,
           73.6658935546875,
           74.75017547607422,
           75.5091552734375,
           75.83811950683594,
           75.67216491699219,
           75.05193328857422,
           74.25991821289062,
           73.86572265625,
           74.21504211425781
          ],
          [
           21.815845489501953,
           14.269180297851562,
           18.39547348022461,
           20.000667572021484,
           13.598777770996094,
           8.086280822753906,
           9.011100769042969,
           10.8065185546875,
           12.623985290527344,
           23.437515258789062,
           43.466278076171875,
           61.28289031982422,
           69.46009826660156,
           68.25179290771484,
           59.8179817199707,
           48.695892333984375,
           43.246429443359375,
           48.43267059326172,
           59.642578125,
           68.90206909179688,
           73.38481903076172,
           74.9175796508789,
           75.52347564697266,
           75.8787841796875,
           76.02714538574219,
           75.9526138305664,
           75.67430877685547,
           75.31893920898438,
           75.14205932617188,
           75.29878997802734
          ],
          [
           17.833072662353516,
           9.790473937988281,
           13.737495422363281,
           15.10269546508789,
           9.052970886230469,
           4.722801208496094,
           8.292404174804688,
           14.981842041015625,
           21.383075714111328,
           32.72356414794922,
           49.71245574951172,
           64.361572265625,
           71.26042938232422,
           70.89421844482422,
           65.27749633789062,
           57.801753997802734,
           54.15721893310547,
           57.64558029174805,
           65.1874771118164,
           71.46524047851562,
           74.54090118408203,
           75.56629180908203,
           75.89826202392578,
           76.0555419921875,
           76.1174545288086,
           76.08670043945312,
           75.97188568115234,
           75.82528686523438,
           75.7523193359375,
           75.81697845458984
          ],
          [
           14.366859436035156,
           5.723274230957031,
           9.217575073242188,
           10.215980529785156,
           4.867042541503906,
           2.4979629516601562,
           9.269943237304688,
           20.768939971923828,
           31.365951538085938,
           42.852787017822266,
           56.40221405029297,
           67.48223876953125,
           72.76747131347656,
           72.87944030761719,
           69.47713470458984,
           64.88084411621094,
           62.647987365722656,
           64.80018615722656,
           69.44876861572266,
           73.3367919921875,
           75.25692749023438,
           75.8887939453125,
           76.0661392211914,
           76.13277435302734,
           76.15679168701172,
           76.14513397216797,
           76.1015853881836,
           76.04598999023438,
           76.01831817626953,
           76.04283905029297
          ],
          [
           13.691448211669922,
           4.65936279296875,
           7.2751312255859375,
           7.5809173583984375,
           3.1186904907226562,
           3.1248779296875,
           12.857181549072266,
           27.86126708984375,
           41.21747589111328,
           52.26599884033203,
           62.5112419128418,
           70.26463317871094,
           73.9637680053711,
           74.260986328125,
           72.38447570800781,
           69.79518127441406,
           68.53993225097656,
           69.75859832763672,
           72.3869400024414,
           74.59193420410156,
           75.6869125366211,
           76.04503631591797,
           76.13636779785156,
           76.1637191772461,
           76.17243957519531,
           76.16838836669922,
           76.1531982421875,
           76.1338119506836,
           76.1241683959961,
           76.1327133178711
          ],
          [
           17.13571548461914,
           8.1932373046875,
           9.562187194824219,
           8.843833923339844,
           5.238151550292969,
           7.4853057861328125,
           19.248680114746094,
           35.805206298828125,
           50.030738830566406,
           60.014400482177734,
           67.41590118408203,
           72.46623992919922,
           74.84169006347656,
           75.14457702636719,
           74.20240783691406,
           72.8646011352539,
           72.21648406982422,
           72.85009002685547,
           74.21439361572266,
           75.36116790771484,
           75.93286895751953,
           76.11940002441406,
           76.1641616821289,
           76.17514038085938,
           76.17813110351562,
           76.17684173583984,
           76.1719741821289,
           76.16576385498047,
           76.16266632080078,
           76.1654052734375
          ],
          [
           24.55066680908203,
           16.278820037841797,
           16.298110961914062,
           14.45144271850586,
           11.52655029296875,
           15.373401641845703,
           27.849422454833984,
           44.00198745727539,
           57.37002182006836,
           65.80058288574219,
           70.94097900390625,
           74.02593231201172,
           75.43125915527344,
           75.6624984741211,
           75.23242950439453,
           74.59818267822266,
           74.29067993164062,
           74.59324645996094,
           75.24370574951172,
           75.79115295410156,
           76.06483459472656,
           76.15409088134766,
           76.17473602294922,
           76.17904663085938,
           76.1800308227539,
           76.17965698242188,
           76.17822265625,
           76.1763916015625,
           76.17547607421875,
           76.17628479003906
          ],
          [
           34.48654556274414,
           27.37380599975586,
           26.282283782958984,
           23.54497528076172,
           21.102481842041016,
           25.638282775878906,
           37.50198745727539,
           51.77958297729492,
           63.14112091064453,
           69.791748046875,
           73.23890686035156,
           75.02275848388672,
           75.79251098632812,
           75.94068908691406,
           75.76268005371094,
           75.48670196533203,
           75.35260772705078,
           75.48533630371094,
           75.7702865600586,
           76.01029205322266,
           76.13053131103516,
           76.16976928710938,
           76.17864990234375,
           76.1802978515625,
           76.18061065673828,
           76.18051147460938,
           76.18012237548828,
           76.17962646484375,
           76.17938232421875,
           76.17960357666016
          ],
          [
           44.853519439697266,
           39.14841079711914,
           37.441741943359375,
           34.32343673706055,
           32.22161865234375,
           36.56706237792969,
           46.83445739746094,
           58.50086212158203,
           67.42886352539062,
           72.36715698242188,
           74.61202239990234,
           75.60124206542969,
           75.99455261230469,
           76.07776641845703,
           76.0112533569336,
           75.90103912353516,
           75.8472900390625,
           75.90078735351562,
           76.0155029296875,
           76.11217498779297,
           76.16068267822266,
           76.17652893066406,
           76.18006896972656,
           76.18067932128906,
           76.18077850341797,
           76.18075561523438,
           76.18065643310547,
           76.18053436279297,
           76.18047332763672,
           76.18052673339844
          ],
          [
           53.64862823486328,
           49.29444885253906,
           47.55097198486328,
           44.64347457885742,
           42.79036331176758,
           46.31775665283203,
           54.5632209777832,
           63.65190124511719,
           70.37617492675781,
           73.92195129394531,
           75.36888122558594,
           75.90756225585938,
           76.0978012084961,
           76.13981628417969,
           76.11756134033203,
           76.0771713256836,
           76.05736541748047,
           76.07718658447266,
           76.11962890625,
           76.1554183959961,
           76.17339324951172,
           76.17926788330078,
           76.18057250976562,
           76.1807861328125,
           76.18081665039062,
           76.18081665039062,
           76.18079376220703,
           76.1807632446289,
           76.18074798583984,
           76.1807632446289
          ],
          [
           59.410240173339844,
           56.06743621826172,
           54.7929573059082,
           52.58772277832031,
           50.8747444152832,
           53.27233123779297,
           59.67155838012695,
           66.87934875488281,
           72.12128448486328,
           74.7684097290039,
           75.74990844726562,
           76.05545043945312,
           76.14603424072266,
           76.16566467285156,
           76.15911102294922,
           76.1455307006836,
           76.13882446289062,
           76.14556884765625,
           76.1600112915039,
           76.17218017578125,
           76.17829895019531,
           76.18030548095703,
           76.18074798583984,
           76.18081665039062,
           76.18083190917969,
           76.18082427978516,
           76.18082427978516,
           76.18081665039062,
           76.18081665039062,
           76.18081665039062
          ],
          [
           61.33251190185547,
           58.45551681518555,
           58.01740264892578,
           56.82129669189453,
           55.05769729614258,
           56.258907318115234,
           61.479549407958984,
           67.98731994628906,
           72.77889251708984,
           75.11631774902344,
           75.91220092773438,
           76.11891174316406,
           76.16647338867188,
           76.17556762695312,
           76.17396545410156,
           76.16978454589844,
           76.16769409179688,
           76.16980743408203,
           76.17431640625,
           76.1781234741211,
           76.18003845214844,
           76.18067169189453,
           76.1808090209961,
           76.18083190917969,
           76.18083190917969,
           76.18083190917969,
           76.18083190917969,
           76.18083190917969,
           76.18083190917969,
           76.18083190917969
          ],
          [
           59.19041442871094,
           56.128456115722656,
           56.77149963378906,
           56.727386474609375,
           54.621826171875,
           54.67936325073242,
           59.679771423339844,
           66.93663787841797,
           72.45277404785156,
           75.09599304199219,
           75.94638061523438,
           76.13984680175781,
           76.17401885986328,
           76.17903900146484,
           76.17882537841797,
           76.17765045166016,
           76.17705535888672,
           76.17766571044922,
           76.17896270751953,
           76.1800537109375,
           76.18060302734375,
           76.1807861328125,
           76.18082427978516,
           76.18083190917969,
           76.18083190917969,
           76.18083190917969,
           76.18083190917969,
           76.18083190917969,
           76.18083190917969,
           76.18083190917969
          ],
          [
           53.275604248046875,
           49.384246826171875,
           51.27385711669922,
           52.4256591796875,
           49.628997802734375,
           48.61412048339844,
           54.41046905517578,
           63.88525390625,
           71.2730484008789,
           74.7957763671875,
           75.90208435058594,
           76.13964080810547,
           76.17594909667969,
           76.18011474609375,
           76.18028259277344,
           76.17999267578125,
           76.1798324584961,
           76.17999267578125,
           76.18033599853516,
           76.18062591552734,
           76.18077087402344,
           76.18081665039062,
           76.18083190917969,
           76.18083190917969,
           76.18083190917969,
           76.18083190917969,
           76.18083190917969,
           76.18083190917969,
           76.18083190917969,
           76.18083190917969
          ],
          [
           44.438819885253906,
           39.199241638183594,
           42.43386459350586,
           44.770774841308594,
           40.96626663208008,
           38.93574142456055,
           46.374359130859375,
           59.26842498779297,
           69.44718170166016,
           74.29798889160156,
           75.80988311767578,
           76.12894439697266,
           76.17555236816406,
           76.18036651611328,
           76.1806869506836,
           76.18062591552734,
           76.18058776855469,
           76.18062591552734,
           76.18070983886719,
           76.18077850341797,
           76.18081665039062,
           76.18083190917969,
           76.18083190917969,
           76.18083190917969,
           76.18083190917969,
           76.18083190917969,
           76.18083190917969,
           76.18083190917969,
           76.18083190917969,
           76.18083190917969
          ],
          [
           34.151954650878906,
           27.290191650390625,
           31.865955352783203,
           35.316436767578125,
           30.327133178710938,
           27.352519989013672,
           36.91255187988281,
           53.857940673828125,
           67.29769134521484,
           73.70320129394531,
           75.69532775878906,
           76.11381530761719,
           76.17427825927734,
           76.18035888671875,
           76.18077850341797,
           76.1807861328125,
           76.18077850341797,
           76.1807861328125,
           76.18080139160156,
           76.18082427978516,
           76.18083190917969,
           76.18083190917969,
           76.18083190917969,
           76.18083190917969,
           76.18083190917969,
           76.18083190917969,
           76.18083190917969,
           76.18083190917969,
           76.18083190917969,
           76.18083190917969
          ],
          [
           24.40996551513672,
           15.987991333007812,
           21.742015838623047,
           26.136249542236328,
           20.012264251708984,
           16.23523712158203,
           27.894329071044922,
           48.714195251464844,
           65.2523422241211,
           73.13489532470703,
           75.58479309082031,
           76.09880065917969,
           76.1728744506836,
           76.18028259277344,
           76.18080139160156,
           76.18082427978516,
           76.18082427978516,
           76.18082427978516,
           76.18082427978516,
           76.18083190917969,
           76.18083190917969,
           76.18083190917969,
           76.18083190917969,
           76.18083190917969,
           76.18083190917969,
           76.18083190917969,
           76.18083190917969,
           76.18083190917969,
           76.18083190917969,
           76.18083190917969
          ],
          [
           17.351604461669922,
           7.791419982910156,
           14.368778228759766,
           19.410614013671875,
           12.458045959472656,
           8.127098083496094,
           21.33721160888672,
           44.97914123535156,
           63.76704788208008,
           72.72174072265625,
           75.50420379638672,
           76.08777618408203,
           76.17182159423828,
           76.18021392822266,
           76.18080139160156,
           76.18083190917969,
           76.18083190917969,
           76.18083190917969,
           76.18083190917969,
           76.18083190917969,
           76.18083190917969,
           76.18083190917969,
           76.18083190917969,
           76.18083190917969,
           76.18083190917969,
           76.18083190917969,
           76.18083190917969,
           76.18083190917969,
           76.18083190917969,
           76.18083190917969
          ],
          [
           14.664886474609375,
           4.6697540283203125,
           11.557838439941406,
           16.841876983642578,
           9.571487426757812,
           5.0312347412109375,
           18.835834503173828,
           43.55530548095703,
           63.201171875,
           72.56439208984375,
           75.47351837158203,
           76.08357238769531,
           76.17142486572266,
           76.18019104003906,
           76.18080139160156,
           76.18083190917969,
           76.18083190917969,
           76.18083190917969,
           76.18083190917969,
           76.18083190917969,
           76.18083190917969,
           76.18083190917969,
           76.18083190917969,
           76.18083190917969,
           76.18083190917969,
           76.18083190917969,
           76.18083190917969,
           76.18083190917969,
           76.18083190917969,
           76.18083190917969
          ],
          [
           17.029621124267578,
           7.4186859130859375,
           14.04296875,
           19.124713897705078,
           12.132003784179688,
           7.7635955810546875,
           21.037155151367188,
           44.808128356933594,
           63.700016021728516,
           72.70352935791016,
           75.50077056884766,
           76.08732604980469,
           76.17178344726562,
           76.18021392822266,
           76.18080139160156,
           76.18083190917969,
           76.18083190917969,
           76.18083190917969,
           76.18083190917969,
           76.18083190917969,
           76.18083190917969,
           76.18083190917969,
           76.18083190917969,
           76.18083190917969,
           76.18083190917969,
           76.18083190917969,
           76.18083190917969,
           76.18083190917969,
           76.18083190917969,
           76.18083190917969
          ]
         ]
        },
        {
         "mode": "markers",
         "name": "max(pi)",
         "type": "scatter3d",
         "x": [
          415.0862121582031
         ],
         "y": [
          114.93841552734375
         ],
         "z": [
          0.5610659718513489
         ]
        }
       ],
       "layout": {
        "height": 600,
        "legend": {
         "orientation": "h",
         "x": 1,
         "xanchor": "right",
         "y": 1.02,
         "yanchor": "bottom"
        },
        "margin": {
         "b": 10,
         "l": 10,
         "r": 20,
         "t": 10
        },
        "scene": {
         "xaxis": {
          "title": {
           "text": "RTA temperature (C)"
          }
         },
         "yaxis": {
          "title": {
           "text": "RTA time (sec)"
          }
         },
         "zaxis": {
          "title": {
           "text": "Acquisition Function"
          }
         }
        },
        "template": {
         "data": {
          "bar": [
           {
            "error_x": {
             "color": "#2a3f5f"
            },
            "error_y": {
             "color": "#2a3f5f"
            },
            "marker": {
             "line": {
              "color": "#E5ECF6",
              "width": 0.5
             }
            },
            "type": "bar"
           }
          ],
          "barpolar": [
           {
            "marker": {
             "line": {
              "color": "#E5ECF6",
              "width": 0.5
             }
            },
            "type": "barpolar"
           }
          ],
          "carpet": [
           {
            "aaxis": {
             "endlinecolor": "#2a3f5f",
             "gridcolor": "white",
             "linecolor": "white",
             "minorgridcolor": "white",
             "startlinecolor": "#2a3f5f"
            },
            "baxis": {
             "endlinecolor": "#2a3f5f",
             "gridcolor": "white",
             "linecolor": "white",
             "minorgridcolor": "white",
             "startlinecolor": "#2a3f5f"
            },
            "type": "carpet"
           }
          ],
          "choropleth": [
           {
            "colorbar": {
             "outlinewidth": 0,
             "ticks": ""
            },
            "type": "choropleth"
           }
          ],
          "contour": [
           {
            "colorbar": {
             "outlinewidth": 0,
             "ticks": ""
            },
            "colorscale": [
             [
              0,
              "#0d0887"
             ],
             [
              0.1111111111111111,
              "#46039f"
             ],
             [
              0.2222222222222222,
              "#7201a8"
             ],
             [
              0.3333333333333333,
              "#9c179e"
             ],
             [
              0.4444444444444444,
              "#bd3786"
             ],
             [
              0.5555555555555556,
              "#d8576b"
             ],
             [
              0.6666666666666666,
              "#ed7953"
             ],
             [
              0.7777777777777778,
              "#fb9f3a"
             ],
             [
              0.8888888888888888,
              "#fdca26"
             ],
             [
              1,
              "#f0f921"
             ]
            ],
            "type": "contour"
           }
          ],
          "contourcarpet": [
           {
            "colorbar": {
             "outlinewidth": 0,
             "ticks": ""
            },
            "type": "contourcarpet"
           }
          ],
          "heatmap": [
           {
            "colorbar": {
             "outlinewidth": 0,
             "ticks": ""
            },
            "colorscale": [
             [
              0,
              "#0d0887"
             ],
             [
              0.1111111111111111,
              "#46039f"
             ],
             [
              0.2222222222222222,
              "#7201a8"
             ],
             [
              0.3333333333333333,
              "#9c179e"
             ],
             [
              0.4444444444444444,
              "#bd3786"
             ],
             [
              0.5555555555555556,
              "#d8576b"
             ],
             [
              0.6666666666666666,
              "#ed7953"
             ],
             [
              0.7777777777777778,
              "#fb9f3a"
             ],
             [
              0.8888888888888888,
              "#fdca26"
             ],
             [
              1,
              "#f0f921"
             ]
            ],
            "type": "heatmap"
           }
          ],
          "heatmapgl": [
           {
            "colorbar": {
             "outlinewidth": 0,
             "ticks": ""
            },
            "colorscale": [
             [
              0,
              "#0d0887"
             ],
             [
              0.1111111111111111,
              "#46039f"
             ],
             [
              0.2222222222222222,
              "#7201a8"
             ],
             [
              0.3333333333333333,
              "#9c179e"
             ],
             [
              0.4444444444444444,
              "#bd3786"
             ],
             [
              0.5555555555555556,
              "#d8576b"
             ],
             [
              0.6666666666666666,
              "#ed7953"
             ],
             [
              0.7777777777777778,
              "#fb9f3a"
             ],
             [
              0.8888888888888888,
              "#fdca26"
             ],
             [
              1,
              "#f0f921"
             ]
            ],
            "type": "heatmapgl"
           }
          ],
          "histogram": [
           {
            "marker": {
             "colorbar": {
              "outlinewidth": 0,
              "ticks": ""
             }
            },
            "type": "histogram"
           }
          ],
          "histogram2d": [
           {
            "colorbar": {
             "outlinewidth": 0,
             "ticks": ""
            },
            "colorscale": [
             [
              0,
              "#0d0887"
             ],
             [
              0.1111111111111111,
              "#46039f"
             ],
             [
              0.2222222222222222,
              "#7201a8"
             ],
             [
              0.3333333333333333,
              "#9c179e"
             ],
             [
              0.4444444444444444,
              "#bd3786"
             ],
             [
              0.5555555555555556,
              "#d8576b"
             ],
             [
              0.6666666666666666,
              "#ed7953"
             ],
             [
              0.7777777777777778,
              "#fb9f3a"
             ],
             [
              0.8888888888888888,
              "#fdca26"
             ],
             [
              1,
              "#f0f921"
             ]
            ],
            "type": "histogram2d"
           }
          ],
          "histogram2dcontour": [
           {
            "colorbar": {
             "outlinewidth": 0,
             "ticks": ""
            },
            "colorscale": [
             [
              0,
              "#0d0887"
             ],
             [
              0.1111111111111111,
              "#46039f"
             ],
             [
              0.2222222222222222,
              "#7201a8"
             ],
             [
              0.3333333333333333,
              "#9c179e"
             ],
             [
              0.4444444444444444,
              "#bd3786"
             ],
             [
              0.5555555555555556,
              "#d8576b"
             ],
             [
              0.6666666666666666,
              "#ed7953"
             ],
             [
              0.7777777777777778,
              "#fb9f3a"
             ],
             [
              0.8888888888888888,
              "#fdca26"
             ],
             [
              1,
              "#f0f921"
             ]
            ],
            "type": "histogram2dcontour"
           }
          ],
          "mesh3d": [
           {
            "colorbar": {
             "outlinewidth": 0,
             "ticks": ""
            },
            "type": "mesh3d"
           }
          ],
          "parcoords": [
           {
            "line": {
             "colorbar": {
              "outlinewidth": 0,
              "ticks": ""
             }
            },
            "type": "parcoords"
           }
          ],
          "pie": [
           {
            "automargin": true,
            "type": "pie"
           }
          ],
          "scatter": [
           {
            "marker": {
             "colorbar": {
              "outlinewidth": 0,
              "ticks": ""
             }
            },
            "type": "scatter"
           }
          ],
          "scatter3d": [
           {
            "line": {
             "colorbar": {
              "outlinewidth": 0,
              "ticks": ""
             }
            },
            "marker": {
             "colorbar": {
              "outlinewidth": 0,
              "ticks": ""
             }
            },
            "type": "scatter3d"
           }
          ],
          "scattercarpet": [
           {
            "marker": {
             "colorbar": {
              "outlinewidth": 0,
              "ticks": ""
             }
            },
            "type": "scattercarpet"
           }
          ],
          "scattergeo": [
           {
            "marker": {
             "colorbar": {
              "outlinewidth": 0,
              "ticks": ""
             }
            },
            "type": "scattergeo"
           }
          ],
          "scattergl": [
           {
            "marker": {
             "colorbar": {
              "outlinewidth": 0,
              "ticks": ""
             }
            },
            "type": "scattergl"
           }
          ],
          "scattermapbox": [
           {
            "marker": {
             "colorbar": {
              "outlinewidth": 0,
              "ticks": ""
             }
            },
            "type": "scattermapbox"
           }
          ],
          "scatterpolar": [
           {
            "marker": {
             "colorbar": {
              "outlinewidth": 0,
              "ticks": ""
             }
            },
            "type": "scatterpolar"
           }
          ],
          "scatterpolargl": [
           {
            "marker": {
             "colorbar": {
              "outlinewidth": 0,
              "ticks": ""
             }
            },
            "type": "scatterpolargl"
           }
          ],
          "scatterternary": [
           {
            "marker": {
             "colorbar": {
              "outlinewidth": 0,
              "ticks": ""
             }
            },
            "type": "scatterternary"
           }
          ],
          "surface": [
           {
            "colorbar": {
             "outlinewidth": 0,
             "ticks": ""
            },
            "colorscale": [
             [
              0,
              "#0d0887"
             ],
             [
              0.1111111111111111,
              "#46039f"
             ],
             [
              0.2222222222222222,
              "#7201a8"
             ],
             [
              0.3333333333333333,
              "#9c179e"
             ],
             [
              0.4444444444444444,
              "#bd3786"
             ],
             [
              0.5555555555555556,
              "#d8576b"
             ],
             [
              0.6666666666666666,
              "#ed7953"
             ],
             [
              0.7777777777777778,
              "#fb9f3a"
             ],
             [
              0.8888888888888888,
              "#fdca26"
             ],
             [
              1,
              "#f0f921"
             ]
            ],
            "type": "surface"
           }
          ],
          "table": [
           {
            "cells": {
             "fill": {
              "color": "#EBF0F8"
             },
             "line": {
              "color": "white"
             }
            },
            "header": {
             "fill": {
              "color": "#C8D4E3"
             },
             "line": {
              "color": "white"
             }
            },
            "type": "table"
           }
          ]
         },
         "layout": {
          "annotationdefaults": {
           "arrowcolor": "#2a3f5f",
           "arrowhead": 0,
           "arrowwidth": 1
          },
          "autotypenumbers": "strict",
          "coloraxis": {
           "colorbar": {
            "outlinewidth": 0,
            "ticks": ""
           }
          },
          "colorscale": {
           "diverging": [
            [
             0,
             "#8e0152"
            ],
            [
             0.1,
             "#c51b7d"
            ],
            [
             0.2,
             "#de77ae"
            ],
            [
             0.3,
             "#f1b6da"
            ],
            [
             0.4,
             "#fde0ef"
            ],
            [
             0.5,
             "#f7f7f7"
            ],
            [
             0.6,
             "#e6f5d0"
            ],
            [
             0.7,
             "#b8e186"
            ],
            [
             0.8,
             "#7fbc41"
            ],
            [
             0.9,
             "#4d9221"
            ],
            [
             1,
             "#276419"
            ]
           ],
           "sequential": [
            [
             0,
             "#0d0887"
            ],
            [
             0.1111111111111111,
             "#46039f"
            ],
            [
             0.2222222222222222,
             "#7201a8"
            ],
            [
             0.3333333333333333,
             "#9c179e"
            ],
            [
             0.4444444444444444,
             "#bd3786"
            ],
            [
             0.5555555555555556,
             "#d8576b"
            ],
            [
             0.6666666666666666,
             "#ed7953"
            ],
            [
             0.7777777777777778,
             "#fb9f3a"
            ],
            [
             0.8888888888888888,
             "#fdca26"
            ],
            [
             1,
             "#f0f921"
            ]
           ],
           "sequentialminus": [
            [
             0,
             "#0d0887"
            ],
            [
             0.1111111111111111,
             "#46039f"
            ],
            [
             0.2222222222222222,
             "#7201a8"
            ],
            [
             0.3333333333333333,
             "#9c179e"
            ],
            [
             0.4444444444444444,
             "#bd3786"
            ],
            [
             0.5555555555555556,
             "#d8576b"
            ],
            [
             0.6666666666666666,
             "#ed7953"
            ],
            [
             0.7777777777777778,
             "#fb9f3a"
            ],
            [
             0.8888888888888888,
             "#fdca26"
            ],
            [
             1,
             "#f0f921"
            ]
           ]
          },
          "colorway": [
           "#636efa",
           "#EF553B",
           "#00cc96",
           "#ab63fa",
           "#FFA15A",
           "#19d3f3",
           "#FF6692",
           "#B6E880",
           "#FF97FF",
           "#FECB52"
          ],
          "font": {
           "color": "#2a3f5f"
          },
          "geo": {
           "bgcolor": "white",
           "lakecolor": "white",
           "landcolor": "#E5ECF6",
           "showlakes": true,
           "showland": true,
           "subunitcolor": "white"
          },
          "hoverlabel": {
           "align": "left"
          },
          "hovermode": "closest",
          "mapbox": {
           "style": "light"
          },
          "paper_bgcolor": "white",
          "plot_bgcolor": "#E5ECF6",
          "polar": {
           "angularaxis": {
            "gridcolor": "white",
            "linecolor": "white",
            "ticks": ""
           },
           "bgcolor": "#E5ECF6",
           "radialaxis": {
            "gridcolor": "white",
            "linecolor": "white",
            "ticks": ""
           }
          },
          "scene": {
           "xaxis": {
            "backgroundcolor": "#E5ECF6",
            "gridcolor": "white",
            "gridwidth": 2,
            "linecolor": "white",
            "showbackground": true,
            "ticks": "",
            "zerolinecolor": "white"
           },
           "yaxis": {
            "backgroundcolor": "#E5ECF6",
            "gridcolor": "white",
            "gridwidth": 2,
            "linecolor": "white",
            "showbackground": true,
            "ticks": "",
            "zerolinecolor": "white"
           },
           "zaxis": {
            "backgroundcolor": "#E5ECF6",
            "gridcolor": "white",
            "gridwidth": 2,
            "linecolor": "white",
            "showbackground": true,
            "ticks": "",
            "zerolinecolor": "white"
           }
          },
          "shapedefaults": {
           "line": {
            "color": "#2a3f5f"
           }
          },
          "ternary": {
           "aaxis": {
            "gridcolor": "white",
            "linecolor": "white",
            "ticks": ""
           },
           "baxis": {
            "gridcolor": "white",
            "linecolor": "white",
            "ticks": ""
           },
           "bgcolor": "#E5ECF6",
           "caxis": {
            "gridcolor": "white",
            "linecolor": "white",
            "ticks": ""
           }
          },
          "title": {
           "x": 0.05
          },
          "xaxis": {
           "automargin": true,
           "gridcolor": "white",
           "linecolor": "white",
           "ticks": "",
           "title": {
            "standoff": 15
           },
           "zerolinecolor": "white",
           "zerolinewidth": 2
          },
          "yaxis": {
           "automargin": true,
           "gridcolor": "white",
           "linecolor": "white",
           "ticks": "",
           "title": {
            "standoff": 15
           },
           "zerolinecolor": "white",
           "zerolinewidth": 2
          }
         }
        },
        "width": 1000
       }
      }
     },
     "metadata": {},
     "output_type": "display_data"
    }
   ],
   "source": [
    "# look at acq_func manifold\n",
    "fig = go.Figure(data=[go.Surface(z=pred_var, x=test_grid[:,0], y=test_grid[:,1])])\n",
    "fig.add_trace(go.Scatter3d(x=test_grid[pi[1], 0].numpy(), y=test_grid[pi[0], 1].numpy(), z=[PI_acq_shape[pi[0], pi[1]]], mode='markers', name='max(pi)'))\n",
    "fig.update_layout( width=1000, height=600,\n",
    "                  margin=dict(r=20, l=10, b=10, t=10),\n",
    "                  legend=dict(orientation=\"h\", yanchor=\"bottom\", y=1.02, xanchor=\"right\",x=1),\n",
    "                  scene=dict(\n",
    "                    xaxis_title=\"RTA temperature (C)\",\n",
    "                    yaxis_title=\"RTA time (sec)\",\n",
    "                    zaxis_title='Acquisition Function')\n",
    "                  )\n",
    "fig.show()"
   ]
  },
  {
   "cell_type": "code",
   "execution_count": 26,
   "metadata": {},
   "outputs": [
    {
     "data": {
      "text/plain": [
       "torch.Size([900])"
      ]
     },
     "execution_count": 26,
     "metadata": {},
     "output_type": "execute_result"
    }
   ],
   "source": [
    "obs.variance.shape"
   ]
  }
 ],
 "metadata": {
  "interpreter": {
   "hash": "58484a52a3997cdd670b70ccf53ebecc3d9c0b1e64fa8a2a853ef6f01f3aaebe"
  },
  "kernelspec": {
   "display_name": "Python 3.9.1 64-bit ('dproc2': conda)",
   "name": "python3"
  },
  "language_info": {
   "codemirror_mode": {
    "name": "ipython",
    "version": 3
   },
   "file_extension": ".py",
   "mimetype": "text/x-python",
   "name": "python",
   "nbconvert_exporter": "python",
   "pygments_lexer": "ipython3",
   "version": "3.9.1"
  },
  "orig_nbformat": 2
 },
 "nbformat": 4,
 "nbformat_minor": 2
}
