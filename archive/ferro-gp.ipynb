{
 "cells": [
  {
   "cell_type": "code",
   "execution_count": 1,
   "source": [
    "# Prep training data\n",
    "from copyreg import pickle\n",
    "from sklearn.preprocessing import StandardScaler\n",
    "from sklearn import preprocessing\n",
    "import sys\n",
    "from tkinter import Y\n",
    "import gzip\n",
    "import itertools\n",
    "import numpy as np\n",
    "import pandas as pd\n",
    "import pickle as pk\n",
    "import torch\n",
    "import gpytorch\n",
    "import plotly.express as px\n",
    "sys.path.append('..')\n",
    "sys.path.insert(0, '../src')"
   ],
   "outputs": [],
   "metadata": {}
  },
  {
   "cell_type": "code",
   "execution_count": 2,
   "source": [
    "from model import GPModel\n",
    "from acq_funcs import EI, PI, cust_acq, thompson\n",
    "from plotter import vis_pred, vis_acq"
   ],
   "outputs": [],
   "metadata": {}
  },
  {
   "cell_type": "markdown",
   "source": [
    "### Data Read and Pre-processing"
   ],
   "metadata": {}
  },
  {
   "cell_type": "code",
   "execution_count": 3,
   "source": [
    "# read data and display\n",
    "def read_dat(dir=\"/Users/valenetjong/Bayesian-Optimization-Ferroelectrics/data/\",\n",
    "            src_file = \"Bolometer_readings_PulseForge.xlsx\", sheet= \"Combined\"):\n",
    "    file = dir + src_file\n",
    "    fe_data = pd.read_excel(file, sheet_name=sheet, usecols=['Energy density new cone (J/cm^2)',\n",
    "                            'Time (ms)','2 Qsw/(U+|D|) 1e6cycles'])\n",
    "    fe_data.dropna(subset=['2 Qsw/(U+|D|) 1e6cycles'], inplace=True)\n",
    "    fe_data = fe_data[fe_data['2 Qsw/(U+|D|) 1e6cycles']!= 0]\n",
    "    return fe_data\n",
    "\n",
    "def display_data(fe_data):\n",
    "    \"\"\"\n",
    "    [display_data(fe_data)] creates a cross-section scatter plot of all combinations\n",
    "    of the four input parameters and single output parameter.\n",
    "    \"\"\"\n",
    "    # plot each cross-section\n",
    "    fig = px.scatter_matrix(fe_data, dimensions=['Energy density new cone (J/cm^2)', \n",
    "    \"Time (ms)\", \"2 Qsw/(U+|D|) 1e6cycles\"])\n",
    "    fig.update_layout(margin=dict(r=20, l=10, b=10, t=10))\n",
    "    fig.update_layout(height=1000)\n",
    "    fig.show()"
   ],
   "outputs": [],
   "metadata": {}
  },
  {
   "cell_type": "code",
   "execution_count": 4,
   "source": [
    "# get training set from dataframe\n",
    "def datasetmaker(fe_data):\n",
    "    \"\"\"\n",
    "    [datasetmaker(fe_data)] filters and transforms the data in pandas df [fe_data] \n",
    "    into two tensors, [train_x] for input and [train_y] for output tensors. \n",
    "    \"\"\"\n",
    "    # define standardizer\n",
    "    norm_arr = lambda arr, mean, sd: (arr - mean)/sd\n",
    "    \n",
    "    # filter training data \n",
    "    energy_den = fe_data['Energy density new cone (J/cm^2)'].values\n",
    "    time = fe_data['Time (ms)'].values\n",
    "    train_x = torch.Tensor([energy_den, time]).T\n",
    "    train_y = torch.Tensor(fe_data['2 Qsw/(U+|D|) 1e6cycles'].values)\n",
    "\n",
    "    # standardizer inputs; col_mean, col_sd are tuples of mean/sd per column of x\n",
    "    x_sd_mean = torch.std_mean(train_x, axis=0)\n",
    "    train_x = norm_arr(train_x, x_sd_mean[1], x_sd_mean[0])\n",
    "\n",
    "    # standardizer outputs\n",
    "    y_sd_mean = torch.std_mean(train_y, axis=0)\n",
    "    train_y = norm_arr(train_y, y_sd_mean[1], y_sd_mean[0])\n",
    "    \n",
    "    return x_sd_mean, y_sd_mean, train_x, train_y"
   ],
   "outputs": [],
   "metadata": {}
  },
  {
   "cell_type": "code",
   "execution_count": 5,
   "source": [
    "# undo normalization\n",
    "def un_norm(arr, arr_sd_mean): return arr*arr_sd_mean[0] + arr_sd_mean[1]\n",
    "\n",
    "def un_norm_all(x_sd_mean, y_sd_mean, train_x, train_y, test_grid, pred_labels, upper_surf, lower_surf):\n",
    "    raw_train_x = un_norm(train_x, x_sd_mean)\n",
    "    raw_test_grid = un_norm(test_grid, x_sd_mean)\n",
    "\n",
    "    raw_train_y = un_norm(train_y, y_sd_mean)\n",
    "    raw_pred_labels = un_norm(pred_labels, y_sd_mean)\n",
    "    raw_upper_surf = un_norm(torch.Tensor(upper_surf), y_sd_mean)\n",
    "    raw_lower_surf = un_norm(torch.Tensor(lower_surf), y_sd_mean)\n",
    "\n",
    "    return raw_train_x, raw_train_y, raw_test_grid, raw_pred_labels, raw_upper_surf, raw_lower_surf"
   ],
   "outputs": [],
   "metadata": {}
  },
  {
   "cell_type": "code",
   "execution_count": 6,
   "source": [
    "fe_data = read_dat()\n",
    "print(fe_data)"
   ],
   "outputs": [
    {
     "output_type": "stream",
     "name": "stdout",
     "text": [
      "    Time (ms)  Energy density new cone (J/cm^2)  2 Qsw/(U+|D|) 1e6cycles\n",
      "4         0.5                              2.73                 0.873026\n",
      "5         0.5                              3.40                 2.677245\n",
      "6         1.0                              3.79                 1.699015\n",
      "7         1.0                              6.44                 3.805053\n",
      "8         1.5                              5.36                 3.334856\n",
      "9         1.5                              8.99                 4.535153\n",
      "11        5.0                              8.80                 1.362510\n",
      "13        5.0                             14.67                 3.841291\n",
      "19        0.5                              5.24                 1.201357\n",
      "22        5.0                             14.89                 3.513652\n",
      "23        2.0                             10.13                 3.470871\n",
      "24        0.5                              4.51                 0.263298\n",
      "25        0.5                              5.37                 2.775340\n",
      "27        0.5                              4.88                 2.591306\n",
      "28        1.0                              6.76                 2.579984\n",
      "29        1.0                              7.77                 3.173819\n",
      "31        2.0                              8.73                 0.131505\n",
      "32        2.0                              9.38                 0.451164\n",
      "33        2.0                             10.48                 2.126640\n",
      "34        2.0                             11.01                 3.468213\n",
      "35        5.0                             14.71                 3.685852\n",
      "36        5.0                             15.44                 3.445656\n",
      "37        5.0                             13.37                 2.651547\n"
     ]
    }
   ],
   "metadata": {}
  },
  {
   "cell_type": "code",
   "execution_count": 7,
   "source": [
    "display_data(fe_data)"
   ],
   "outputs": [
    {
     "output_type": "display_data",
     "data": {
      "application/vnd.plotly.v1+json": {
       "data": [
        {
         "dimensions": [
          {
           "axis": {
            "matches": true
           },
           "label": "Energy density new cone (J/cm^2)",
           "values": [
            2.73,
            3.4,
            3.79,
            6.44,
            5.36,
            8.99,
            8.8,
            14.67,
            5.24,
            14.89,
            10.13,
            4.51,
            5.37,
            4.88,
            6.76,
            7.77,
            8.73,
            9.38,
            10.48,
            11.01,
            14.71,
            15.44,
            13.37
           ]
          },
          {
           "axis": {
            "matches": true
           },
           "label": "Time (ms)",
           "values": [
            0.5,
            0.5,
            1,
            1,
            1.5,
            1.5,
            5,
            5,
            0.5,
            5,
            2,
            0.5,
            0.5,
            0.5,
            1,
            1,
            2,
            2,
            2,
            2,
            5,
            5,
            5
           ]
          },
          {
           "axis": {
            "matches": true
           },
           "label": "2 Qsw/(U+|D|) 1e6cycles",
           "values": [
            0.8730257299654021,
            2.677244640050493,
            1.6990152147413928,
            3.8050528055652655,
            3.3348561928152627,
            4.535152817359003,
            1.3625102372531497,
            3.841290609056986,
            1.2013569985324948,
            3.5136521918176413,
            3.4708714822041062,
            0.2632982379553876,
            2.7753404356378253,
            2.5913062464887977,
            2.579984359259049,
            3.1738185691110727,
            0.1315049942519029,
            0.4511637114621348,
            2.126639748505365,
            3.468212840642842,
            3.685852431471957,
            3.445655582638384,
            2.651546836022379
           ]
          }
         ],
         "hovertemplate": "%{xaxis.title.text}=%{x}<br>%{yaxis.title.text}=%{y}<extra></extra>",
         "legendgroup": "",
         "marker": {
          "color": "#636efa",
          "symbol": "circle"
         },
         "name": "",
         "showlegend": false,
         "type": "splom"
        }
       ],
       "layout": {
        "template": {
         "data": {
          "histogram2dcontour": [
           {
            "type": "histogram2dcontour",
            "colorbar": {
             "outlinewidth": 0,
             "ticks": ""
            },
            "colorscale": [
             [
              0,
              "#0d0887"
             ],
             [
              0.1111111111111111,
              "#46039f"
             ],
             [
              0.2222222222222222,
              "#7201a8"
             ],
             [
              0.3333333333333333,
              "#9c179e"
             ],
             [
              0.4444444444444444,
              "#bd3786"
             ],
             [
              0.5555555555555556,
              "#d8576b"
             ],
             [
              0.6666666666666666,
              "#ed7953"
             ],
             [
              0.7777777777777778,
              "#fb9f3a"
             ],
             [
              0.8888888888888888,
              "#fdca26"
             ],
             [
              1,
              "#f0f921"
             ]
            ]
           }
          ],
          "choropleth": [
           {
            "type": "choropleth",
            "colorbar": {
             "outlinewidth": 0,
             "ticks": ""
            }
           }
          ],
          "histogram2d": [
           {
            "type": "histogram2d",
            "colorbar": {
             "outlinewidth": 0,
             "ticks": ""
            },
            "colorscale": [
             [
              0,
              "#0d0887"
             ],
             [
              0.1111111111111111,
              "#46039f"
             ],
             [
              0.2222222222222222,
              "#7201a8"
             ],
             [
              0.3333333333333333,
              "#9c179e"
             ],
             [
              0.4444444444444444,
              "#bd3786"
             ],
             [
              0.5555555555555556,
              "#d8576b"
             ],
             [
              0.6666666666666666,
              "#ed7953"
             ],
             [
              0.7777777777777778,
              "#fb9f3a"
             ],
             [
              0.8888888888888888,
              "#fdca26"
             ],
             [
              1,
              "#f0f921"
             ]
            ]
           }
          ],
          "heatmap": [
           {
            "type": "heatmap",
            "colorbar": {
             "outlinewidth": 0,
             "ticks": ""
            },
            "colorscale": [
             [
              0,
              "#0d0887"
             ],
             [
              0.1111111111111111,
              "#46039f"
             ],
             [
              0.2222222222222222,
              "#7201a8"
             ],
             [
              0.3333333333333333,
              "#9c179e"
             ],
             [
              0.4444444444444444,
              "#bd3786"
             ],
             [
              0.5555555555555556,
              "#d8576b"
             ],
             [
              0.6666666666666666,
              "#ed7953"
             ],
             [
              0.7777777777777778,
              "#fb9f3a"
             ],
             [
              0.8888888888888888,
              "#fdca26"
             ],
             [
              1,
              "#f0f921"
             ]
            ]
           }
          ],
          "heatmapgl": [
           {
            "type": "heatmapgl",
            "colorbar": {
             "outlinewidth": 0,
             "ticks": ""
            },
            "colorscale": [
             [
              0,
              "#0d0887"
             ],
             [
              0.1111111111111111,
              "#46039f"
             ],
             [
              0.2222222222222222,
              "#7201a8"
             ],
             [
              0.3333333333333333,
              "#9c179e"
             ],
             [
              0.4444444444444444,
              "#bd3786"
             ],
             [
              0.5555555555555556,
              "#d8576b"
             ],
             [
              0.6666666666666666,
              "#ed7953"
             ],
             [
              0.7777777777777778,
              "#fb9f3a"
             ],
             [
              0.8888888888888888,
              "#fdca26"
             ],
             [
              1,
              "#f0f921"
             ]
            ]
           }
          ],
          "contourcarpet": [
           {
            "type": "contourcarpet",
            "colorbar": {
             "outlinewidth": 0,
             "ticks": ""
            }
           }
          ],
          "contour": [
           {
            "type": "contour",
            "colorbar": {
             "outlinewidth": 0,
             "ticks": ""
            },
            "colorscale": [
             [
              0,
              "#0d0887"
             ],
             [
              0.1111111111111111,
              "#46039f"
             ],
             [
              0.2222222222222222,
              "#7201a8"
             ],
             [
              0.3333333333333333,
              "#9c179e"
             ],
             [
              0.4444444444444444,
              "#bd3786"
             ],
             [
              0.5555555555555556,
              "#d8576b"
             ],
             [
              0.6666666666666666,
              "#ed7953"
             ],
             [
              0.7777777777777778,
              "#fb9f3a"
             ],
             [
              0.8888888888888888,
              "#fdca26"
             ],
             [
              1,
              "#f0f921"
             ]
            ]
           }
          ],
          "surface": [
           {
            "type": "surface",
            "colorbar": {
             "outlinewidth": 0,
             "ticks": ""
            },
            "colorscale": [
             [
              0,
              "#0d0887"
             ],
             [
              0.1111111111111111,
              "#46039f"
             ],
             [
              0.2222222222222222,
              "#7201a8"
             ],
             [
              0.3333333333333333,
              "#9c179e"
             ],
             [
              0.4444444444444444,
              "#bd3786"
             ],
             [
              0.5555555555555556,
              "#d8576b"
             ],
             [
              0.6666666666666666,
              "#ed7953"
             ],
             [
              0.7777777777777778,
              "#fb9f3a"
             ],
             [
              0.8888888888888888,
              "#fdca26"
             ],
             [
              1,
              "#f0f921"
             ]
            ]
           }
          ],
          "mesh3d": [
           {
            "type": "mesh3d",
            "colorbar": {
             "outlinewidth": 0,
             "ticks": ""
            }
           }
          ],
          "scatter": [
           {
            "fillpattern": {
             "fillmode": "overlay",
             "size": 10,
             "solidity": 0.2
            },
            "type": "scatter"
           }
          ],
          "parcoords": [
           {
            "type": "parcoords",
            "line": {
             "colorbar": {
              "outlinewidth": 0,
              "ticks": ""
             }
            }
           }
          ],
          "scatterpolargl": [
           {
            "type": "scatterpolargl",
            "marker": {
             "colorbar": {
              "outlinewidth": 0,
              "ticks": ""
             }
            }
           }
          ],
          "bar": [
           {
            "error_x": {
             "color": "#2a3f5f"
            },
            "error_y": {
             "color": "#2a3f5f"
            },
            "marker": {
             "line": {
              "color": "#E5ECF6",
              "width": 0.5
             },
             "pattern": {
              "fillmode": "overlay",
              "size": 10,
              "solidity": 0.2
             }
            },
            "type": "bar"
           }
          ],
          "scattergeo": [
           {
            "type": "scattergeo",
            "marker": {
             "colorbar": {
              "outlinewidth": 0,
              "ticks": ""
             }
            }
           }
          ],
          "scatterpolar": [
           {
            "type": "scatterpolar",
            "marker": {
             "colorbar": {
              "outlinewidth": 0,
              "ticks": ""
             }
            }
           }
          ],
          "histogram": [
           {
            "marker": {
             "pattern": {
              "fillmode": "overlay",
              "size": 10,
              "solidity": 0.2
             }
            },
            "type": "histogram"
           }
          ],
          "scattergl": [
           {
            "type": "scattergl",
            "marker": {
             "colorbar": {
              "outlinewidth": 0,
              "ticks": ""
             }
            }
           }
          ],
          "scatter3d": [
           {
            "type": "scatter3d",
            "line": {
             "colorbar": {
              "outlinewidth": 0,
              "ticks": ""
             }
            },
            "marker": {
             "colorbar": {
              "outlinewidth": 0,
              "ticks": ""
             }
            }
           }
          ],
          "scattermapbox": [
           {
            "type": "scattermapbox",
            "marker": {
             "colorbar": {
              "outlinewidth": 0,
              "ticks": ""
             }
            }
           }
          ],
          "scatterternary": [
           {
            "type": "scatterternary",
            "marker": {
             "colorbar": {
              "outlinewidth": 0,
              "ticks": ""
             }
            }
           }
          ],
          "scattercarpet": [
           {
            "type": "scattercarpet",
            "marker": {
             "colorbar": {
              "outlinewidth": 0,
              "ticks": ""
             }
            }
           }
          ],
          "carpet": [
           {
            "aaxis": {
             "endlinecolor": "#2a3f5f",
             "gridcolor": "white",
             "linecolor": "white",
             "minorgridcolor": "white",
             "startlinecolor": "#2a3f5f"
            },
            "baxis": {
             "endlinecolor": "#2a3f5f",
             "gridcolor": "white",
             "linecolor": "white",
             "minorgridcolor": "white",
             "startlinecolor": "#2a3f5f"
            },
            "type": "carpet"
           }
          ],
          "table": [
           {
            "cells": {
             "fill": {
              "color": "#EBF0F8"
             },
             "line": {
              "color": "white"
             }
            },
            "header": {
             "fill": {
              "color": "#C8D4E3"
             },
             "line": {
              "color": "white"
             }
            },
            "type": "table"
           }
          ],
          "barpolar": [
           {
            "marker": {
             "line": {
              "color": "#E5ECF6",
              "width": 0.5
             },
             "pattern": {
              "fillmode": "overlay",
              "size": 10,
              "solidity": 0.2
             }
            },
            "type": "barpolar"
           }
          ],
          "pie": [
           {
            "automargin": true,
            "type": "pie"
           }
          ]
         },
         "layout": {
          "autotypenumbers": "strict",
          "colorway": [
           "#636efa",
           "#EF553B",
           "#00cc96",
           "#ab63fa",
           "#FFA15A",
           "#19d3f3",
           "#FF6692",
           "#B6E880",
           "#FF97FF",
           "#FECB52"
          ],
          "font": {
           "color": "#2a3f5f"
          },
          "hovermode": "closest",
          "hoverlabel": {
           "align": "left"
          },
          "paper_bgcolor": "white",
          "plot_bgcolor": "#E5ECF6",
          "polar": {
           "bgcolor": "#E5ECF6",
           "angularaxis": {
            "gridcolor": "white",
            "linecolor": "white",
            "ticks": ""
           },
           "radialaxis": {
            "gridcolor": "white",
            "linecolor": "white",
            "ticks": ""
           }
          },
          "ternary": {
           "bgcolor": "#E5ECF6",
           "aaxis": {
            "gridcolor": "white",
            "linecolor": "white",
            "ticks": ""
           },
           "baxis": {
            "gridcolor": "white",
            "linecolor": "white",
            "ticks": ""
           },
           "caxis": {
            "gridcolor": "white",
            "linecolor": "white",
            "ticks": ""
           }
          },
          "coloraxis": {
           "colorbar": {
            "outlinewidth": 0,
            "ticks": ""
           }
          },
          "colorscale": {
           "sequential": [
            [
             0,
             "#0d0887"
            ],
            [
             0.1111111111111111,
             "#46039f"
            ],
            [
             0.2222222222222222,
             "#7201a8"
            ],
            [
             0.3333333333333333,
             "#9c179e"
            ],
            [
             0.4444444444444444,
             "#bd3786"
            ],
            [
             0.5555555555555556,
             "#d8576b"
            ],
            [
             0.6666666666666666,
             "#ed7953"
            ],
            [
             0.7777777777777778,
             "#fb9f3a"
            ],
            [
             0.8888888888888888,
             "#fdca26"
            ],
            [
             1,
             "#f0f921"
            ]
           ],
           "sequentialminus": [
            [
             0,
             "#0d0887"
            ],
            [
             0.1111111111111111,
             "#46039f"
            ],
            [
             0.2222222222222222,
             "#7201a8"
            ],
            [
             0.3333333333333333,
             "#9c179e"
            ],
            [
             0.4444444444444444,
             "#bd3786"
            ],
            [
             0.5555555555555556,
             "#d8576b"
            ],
            [
             0.6666666666666666,
             "#ed7953"
            ],
            [
             0.7777777777777778,
             "#fb9f3a"
            ],
            [
             0.8888888888888888,
             "#fdca26"
            ],
            [
             1,
             "#f0f921"
            ]
           ],
           "diverging": [
            [
             0,
             "#8e0152"
            ],
            [
             0.1,
             "#c51b7d"
            ],
            [
             0.2,
             "#de77ae"
            ],
            [
             0.3,
             "#f1b6da"
            ],
            [
             0.4,
             "#fde0ef"
            ],
            [
             0.5,
             "#f7f7f7"
            ],
            [
             0.6,
             "#e6f5d0"
            ],
            [
             0.7,
             "#b8e186"
            ],
            [
             0.8,
             "#7fbc41"
            ],
            [
             0.9,
             "#4d9221"
            ],
            [
             1,
             "#276419"
            ]
           ]
          },
          "xaxis": {
           "gridcolor": "white",
           "linecolor": "white",
           "ticks": "",
           "title": {
            "standoff": 15
           },
           "zerolinecolor": "white",
           "automargin": true,
           "zerolinewidth": 2
          },
          "yaxis": {
           "gridcolor": "white",
           "linecolor": "white",
           "ticks": "",
           "title": {
            "standoff": 15
           },
           "zerolinecolor": "white",
           "automargin": true,
           "zerolinewidth": 2
          },
          "scene": {
           "xaxis": {
            "backgroundcolor": "#E5ECF6",
            "gridcolor": "white",
            "linecolor": "white",
            "showbackground": true,
            "ticks": "",
            "zerolinecolor": "white",
            "gridwidth": 2
           },
           "yaxis": {
            "backgroundcolor": "#E5ECF6",
            "gridcolor": "white",
            "linecolor": "white",
            "showbackground": true,
            "ticks": "",
            "zerolinecolor": "white",
            "gridwidth": 2
           },
           "zaxis": {
            "backgroundcolor": "#E5ECF6",
            "gridcolor": "white",
            "linecolor": "white",
            "showbackground": true,
            "ticks": "",
            "zerolinecolor": "white",
            "gridwidth": 2
           }
          },
          "shapedefaults": {
           "line": {
            "color": "#2a3f5f"
           }
          },
          "annotationdefaults": {
           "arrowcolor": "#2a3f5f",
           "arrowhead": 0,
           "arrowwidth": 1
          },
          "geo": {
           "bgcolor": "white",
           "landcolor": "#E5ECF6",
           "subunitcolor": "white",
           "showland": true,
           "showlakes": true,
           "lakecolor": "white"
          },
          "title": {
           "x": 0.05
          },
          "mapbox": {
           "style": "light"
          }
         }
        },
        "legend": {
         "tracegroupgap": 0
        },
        "margin": {
         "t": 10,
         "r": 20,
         "l": 10,
         "b": 10
        },
        "dragmode": "select",
        "height": 1000
       },
       "config": {
        "plotlyServerURL": "https://plot.ly"
       }
      }
     },
     "metadata": {}
    }
   ],
   "metadata": {}
  },
  {
   "cell_type": "code",
   "execution_count": 8,
   "source": [
    "# make training data, maintain params to de-normalize\n",
    "x_sd_mean, y_sd_mean, train_x, train_y = datasetmaker(fe_data)"
   ],
   "outputs": [
    {
     "output_type": "stream",
     "name": "stderr",
     "text": [
      "/var/folders/1x/23xb47sx0675p75hlkw93bfr0000gn/T/ipykernel_82021/3703217959.py:13: UserWarning:\n",
      "\n",
      "Creating a tensor from a list of numpy.ndarrays is extremely slow. Please consider converting the list to a single numpy.ndarray with numpy.array() before converting to a tensor. (Triggered internally at /Users/runner/work/_temp/anaconda/conda-bld/pytorch_1670525473998/work/torch/csrc/utils/tensor_new.cpp:233.)\n",
      "\n"
     ]
    }
   ],
   "metadata": {}
  },
  {
   "cell_type": "markdown",
   "source": [
    "### Grid/Parameter Space"
   ],
   "metadata": {}
  },
  {
   "cell_type": "code",
   "execution_count": 9,
   "source": [
    "# create grid for grid search\n",
    "def grid_helper(grid_size, num_params, grid_bounds):\n",
    "    \"\"\"\n",
    "    [grid_helper(grid_size, num_params, grid_bounds)] returns a grid of dimensions\n",
    "    [grid_size] by [num_params], filled in with data from array [grid_bounds]. This\n",
    "    grid dictates the parameter space for GP to be conducted over. \n",
    "    \"\"\"\n",
    "    grid = torch.zeros(grid_size, num_params)\n",
    "    f_grid_diff = lambda i, x, y : float((x[i][1] - x[i][0]) / (y-2))\n",
    "    for i in range(num_params):\n",
    "        grid_diff = f_grid_diff(i, grid_bounds, grid_size)\n",
    "        grid[:, i] = torch.linspace(grid_bounds[i][0] - grid_diff, \n",
    "                                    grid_bounds[i][1] + grid_diff, grid_size)\n",
    "    return grid\n",
    "\n",
    "def grid_maker(train_x):\n",
    "    \"\"\"\n",
    "    [grid_maker(train_x)] creates grids to be used for gaussian process predictions.\n",
    "    It outputs the dimension of the grid [num_params] and two grid utility \n",
    "    tensors [test_grid] and [test_x].\n",
    "    \"\"\"\n",
    "    # define grid between bounds of RTA time, RTA temp\n",
    "    num_params = train_x.size(dim=1)\n",
    "    grid_bounds = [(train_x[:,i].min(), train_x[:,i].max()) for i in range(num_params)]\n",
    "    grid = grid_helper(20, num_params, grid_bounds)\n",
    "\n",
    "    # set up test_grid for predictions\n",
    "    num_points = 30\n",
    "    test_grid = grid_helper(num_points, num_params, grid_bounds)\n",
    "\n",
    "    # create n-D grid with n = num_params\n",
    "    args = (test_grid[:, i] for i in range(num_params))\n",
    "    test_x = torch.cartesian_prod(*args)\n",
    "    test_x.shape\n",
    "    return num_params, test_grid, test_x\n"
   ],
   "outputs": [],
   "metadata": {}
  },
  {
   "cell_type": "code",
   "execution_count": 10,
   "source": [
    "# create grid based on parameter space for search\n",
    "num_params, test_grid, test_x = grid_maker(train_x)"
   ],
   "outputs": [],
   "metadata": {}
  },
  {
   "cell_type": "markdown",
   "source": [
    "### Noise Calculations"
   ],
   "metadata": {}
  },
  {
   "cell_type": "markdown",
   "source": [
    "Our figure of merit, fom, is $2 Q_{sw}/(U+|D|),$ so error propagation would result in a error of $\\sigma_{fom} = |fom|\\sqrt{{(\\sigma_{Q_{sw}}/Q_{sw}})^2+{(\\sigma_U^2 + \\sigma_{|D|}^2)/(U+|D|)^2)}}$. We have data for $2Pr$ measurements wrt device area. Using the $10\\mu$ m $\\times 10\\mu$ m data, we approximate the error for the figure of merit as simply $\\sigma_{2Pr}$, as we do not have $\\sigma_U$ or $\\sigma_D.$ \n"
   ],
   "metadata": {}
  },
  {
   "cell_type": "code",
   "execution_count": 11,
   "source": [
    "fn = \"/Users/valenetjong/Bayesian-Optimization-Ferroelectrics/data/P vs area.xlsx\"\n",
    "excel_file = pd.read_excel(fn, sheet_name='Sheet1')\n",
    "col_2Pr_10by10 = excel_file['10umx10um']\n",
    "sd = col_2Pr_10by10.std()/col_2Pr_10by10.mean()\n",
    "print(sd)\n",
    "print(col_2Pr_10by10)"
   ],
   "outputs": [
    {
     "output_type": "stream",
     "name": "stdout",
     "text": [
      "0.04469365441252401\n",
      "0     34.57379\n",
      "1     35.96416\n",
      "2     33.16083\n",
      "3     35.96861\n",
      "4     37.10497\n",
      "5     35.86549\n",
      "6     35.81341\n",
      "7     33.01597\n",
      "8     35.71753\n",
      "9     38.37434\n",
      "10    34.11144\n",
      "11    33.57596\n",
      "12    35.15750\n",
      "13    35.01515\n",
      "14    36.01072\n",
      "15    37.04952\n",
      "16    36.48895\n",
      "17    35.63807\n",
      "18    37.36247\n",
      "19    39.05057\n",
      "Name: 10umx10um, dtype: float64\n"
     ]
    }
   ],
   "metadata": {}
  },
  {
   "cell_type": "markdown",
   "source": [
    "### Initialize Model"
   ],
   "metadata": {}
  },
  {
   "cell_type": "code",
   "execution_count": 29,
   "source": [
    "# configuration parameters for training\n",
    "class Config():\n",
    "    def __init__(self):\n",
    "        self.epochs = 3000\n",
    "        self.kernel = \"rbf\"\n",
    "        self.lr = 0.005\n",
    "        self.lscale_1 = 1.0\n",
    "        self.lscale_2 = 1.0\n",
    "        self.lscale_3 = None\n",
    "        self.lscale_4 = None\n",
    "        self.dim = 2\n",
    "        self.noise = 0.35**2\n",
    "\n",
    "config = Config()"
   ],
   "outputs": [],
   "metadata": {}
  },
  {
   "cell_type": "code",
   "execution_count": 30,
   "source": [
    "# make model\n",
    "def kernel_func(config_kernel, num_params):\n",
    "    \"\"\"\n",
    "    [kernel_func(config_kernel, num_params)] returns kernel function with \n",
    "    dimensions specified by [num_params]. \n",
    "    \"\"\"\n",
    "    if config_kernel == \"rbf\":\n",
    "        return gpytorch.kernels.ScaleKernel(\n",
    "            gpytorch.kernels.RBFKernel(ard_num_dims=num_params))\n",
    "\n",
    "def make_model(train_x, train_y, num_params, config):\n",
    "    \"\"\"\n",
    "    [make_model(train_x, train_y, num_params, config)] returns likelihood and \n",
    "    model with lengthscale, noise, kernel function specified by sweeps. \n",
    "    \"\"\"\n",
    "    kernel = kernel_func(config.kernel, num_params)\n",
    "    num_samples = len(train_x)\n",
    "    noise = config.noise*torch.ones(num_samples)\n",
    "    likelihood = gpytorch.likelihoods.FixedNoiseGaussianLikelihood(noise=noise)\n",
    "    model = GPModel(train_x, train_y, likelihood, kernel)\n",
    "    \n",
    "    if config.dim == 2:\n",
    "        lscale = [config.lscale_1, config.lscale_2]\n",
    "    elif config.dim == 4:\n",
    "        lscale = [config.lscale_1, config.lscale_2, config.lscale_3, config.lscale_4]\n",
    "    model.covar_module.base_kernel.lengthscale = torch.tensor(lscale)\n",
    "    return likelihood, model\n",
    "    "
   ],
   "outputs": [],
   "metadata": {}
  },
  {
   "cell_type": "markdown",
   "source": [
    "### GP Training and Eval"
   ],
   "metadata": {}
  },
  {
   "cell_type": "code",
   "execution_count": 31,
   "source": [
    "# training and evaluation\n",
    "def train(train_x, train_y, num_params, config):\n",
    "    likelihood, model = make_model(train_x, train_y, num_params, config)\n",
    "    training_iter = config.epochs\n",
    "\n",
    "    # place both the model and likelihood in training mode\n",
    "    model.train(), likelihood.train()\n",
    "\n",
    "    # use Adam\n",
    "    optimizer = torch.optim.Adam(model.parameters(), lr=config.lr)\n",
    "\n",
    "    # set GP loss as the marginal log likelihood\n",
    "    mll = gpytorch.mlls.ExactMarginalLogLikelihood(likelihood, model)\n",
    "    loss_lst = []\n",
    "\n",
    "    for i in range(training_iter):\n",
    "        optimizer.zero_grad()\n",
    "        output = model(train_x)\n",
    "\n",
    "        # backpropagate error\n",
    "        loss = -mll(output, train_y)\n",
    "        loss.backward()\n",
    "\n",
    "        if i % 100 == 0: \n",
    "            print('Iter %d/%d - Loss: %.3f  lengthscale1: %s   noise: %s' % (\n",
    "                    i+1, training_iter, loss.item(), \n",
    "                    model.covar_module.base_kernel.lengthscale.detach().numpy(),\n",
    "                    model.likelihood.noise.detach().numpy()\n",
    "                    )) \n",
    "            loss_lst.append(loss.item())\n",
    "        optimizer.step()\n",
    "    return likelihood, model, loss_lst\n",
    "\n",
    "def eval_mod(likelihood, model, test_x):\n",
    "    \"\"\" \n",
    "    [eval_mod(likelihood, model, test_x)] evaluates GP model. \n",
    "    \"\"\"\n",
    "    model.eval(), likelihood.eval()\n",
    "    with torch.no_grad(), gpytorch.settings.fast_pred_var():\n",
    "        obs = likelihood(model(test_x), noise=(torch.ones(len(test_x))*5))\n",
    "    return obs"
   ],
   "outputs": [],
   "metadata": {}
  },
  {
   "cell_type": "code",
   "execution_count": 32,
   "source": [
    "# train model and evaluate\n",
    "likelihood, model, loss_lst = train(train_x, train_y, num_params, config)\n",
    "obs = eval_mod(likelihood, model, test_x)"
   ],
   "outputs": [
    {
     "output_type": "stream",
     "name": "stdout",
     "text": [
      "Iter 1/3000 - Loss: 2.749  lengthscale1: [[1. 1.]]   noise: [0.1225 0.1225 0.1225 0.1225 0.1225 0.1225 0.1225 0.1225 0.1225 0.1225\n",
      " 0.1225 0.1225 0.1225 0.1225 0.1225 0.1225 0.1225 0.1225 0.1225 0.1225\n",
      " 0.1225 0.1225 0.1225]\n",
      "Iter 101/3000 - Loss: 2.365  lengthscale1: [[0.7051993 0.7034656]]   noise: [0.1225 0.1225 0.1225 0.1225 0.1225 0.1225 0.1225 0.1225 0.1225 0.1225\n",
      " 0.1225 0.1225 0.1225 0.1225 0.1225 0.1225 0.1225 0.1225 0.1225 0.1225\n",
      " 0.1225 0.1225 0.1225]\n",
      "Iter 201/3000 - Loss: 2.076  lengthscale1: [[0.5310639  0.47871754]]   noise: [0.1225 0.1225 0.1225 0.1225 0.1225 0.1225 0.1225 0.1225 0.1225 0.1225\n",
      " 0.1225 0.1225 0.1225 0.1225 0.1225 0.1225 0.1225 0.1225 0.1225 0.1225\n",
      " 0.1225 0.1225 0.1225]\n",
      "Iter 301/3000 - Loss: 1.904  lengthscale1: [[0.4429894  0.32860327]]   noise: [0.1225 0.1225 0.1225 0.1225 0.1225 0.1225 0.1225 0.1225 0.1225 0.1225\n",
      " 0.1225 0.1225 0.1225 0.1225 0.1225 0.1225 0.1225 0.1225 0.1225 0.1225\n",
      " 0.1225 0.1225 0.1225]\n",
      "Iter 401/3000 - Loss: 1.817  lengthscale1: [[0.35418415 0.25021562]]   noise: [0.1225 0.1225 0.1225 0.1225 0.1225 0.1225 0.1225 0.1225 0.1225 0.1225\n",
      " 0.1225 0.1225 0.1225 0.1225 0.1225 0.1225 0.1225 0.1225 0.1225 0.1225\n",
      " 0.1225 0.1225 0.1225]\n",
      "Iter 501/3000 - Loss: 1.714  lengthscale1: [[0.22814326 0.21101937]]   noise: [0.1225 0.1225 0.1225 0.1225 0.1225 0.1225 0.1225 0.1225 0.1225 0.1225\n",
      " 0.1225 0.1225 0.1225 0.1225 0.1225 0.1225 0.1225 0.1225 0.1225 0.1225\n",
      " 0.1225 0.1225 0.1225]\n",
      "Iter 601/3000 - Loss: 1.567  lengthscale1: [[0.13189922 0.17671542]]   noise: [0.1225 0.1225 0.1225 0.1225 0.1225 0.1225 0.1225 0.1225 0.1225 0.1225\n",
      " 0.1225 0.1225 0.1225 0.1225 0.1225 0.1225 0.1225 0.1225 0.1225 0.1225\n",
      " 0.1225 0.1225 0.1225]\n",
      "Iter 701/3000 - Loss: 1.441  lengthscale1: [[0.07719465 0.14802994]]   noise: [0.1225 0.1225 0.1225 0.1225 0.1225 0.1225 0.1225 0.1225 0.1225 0.1225\n",
      " 0.1225 0.1225 0.1225 0.1225 0.1225 0.1225 0.1225 0.1225 0.1225 0.1225\n",
      " 0.1225 0.1225 0.1225]\n",
      "Iter 801/3000 - Loss: 1.372  lengthscale1: [[0.051636   0.13252938]]   noise: [0.1225 0.1225 0.1225 0.1225 0.1225 0.1225 0.1225 0.1225 0.1225 0.1225\n",
      " 0.1225 0.1225 0.1225 0.1225 0.1225 0.1225 0.1225 0.1225 0.1225 0.1225\n",
      " 0.1225 0.1225 0.1225]\n",
      "Iter 901/3000 - Loss: 1.357  lengthscale1: [[0.04310947 0.12481787]]   noise: [0.1225 0.1225 0.1225 0.1225 0.1225 0.1225 0.1225 0.1225 0.1225 0.1225\n",
      " 0.1225 0.1225 0.1225 0.1225 0.1225 0.1225 0.1225 0.1225 0.1225 0.1225\n",
      " 0.1225 0.1225 0.1225]\n",
      "Iter 1001/3000 - Loss: 1.354  lengthscale1: [[0.03937545 0.1198677 ]]   noise: [0.1225 0.1225 0.1225 0.1225 0.1225 0.1225 0.1225 0.1225 0.1225 0.1225\n",
      " 0.1225 0.1225 0.1225 0.1225 0.1225 0.1225 0.1225 0.1225 0.1225 0.1225\n",
      " 0.1225 0.1225 0.1225]\n",
      "Iter 1101/3000 - Loss: 1.353  lengthscale1: [[0.03741437 0.11616449]]   noise: [0.1225 0.1225 0.1225 0.1225 0.1225 0.1225 0.1225 0.1225 0.1225 0.1225\n",
      " 0.1225 0.1225 0.1225 0.1225 0.1225 0.1225 0.1225 0.1225 0.1225 0.1225\n",
      " 0.1225 0.1225 0.1225]\n",
      "Iter 1201/3000 - Loss: 1.352  lengthscale1: [[0.03631726 0.11312918]]   noise: [0.1225 0.1225 0.1225 0.1225 0.1225 0.1225 0.1225 0.1225 0.1225 0.1225\n",
      " 0.1225 0.1225 0.1225 0.1225 0.1225 0.1225 0.1225 0.1225 0.1225 0.1225\n",
      " 0.1225 0.1225 0.1225]\n",
      "Iter 1301/3000 - Loss: 1.352  lengthscale1: [[0.03570198 0.11048828]]   noise: [0.1225 0.1225 0.1225 0.1225 0.1225 0.1225 0.1225 0.1225 0.1225 0.1225\n",
      " 0.1225 0.1225 0.1225 0.1225 0.1225 0.1225 0.1225 0.1225 0.1225 0.1225\n",
      " 0.1225 0.1225 0.1225]\n",
      "Iter 1401/3000 - Loss: 1.352  lengthscale1: [[0.0353765  0.10810126]]   noise: [0.1225 0.1225 0.1225 0.1225 0.1225 0.1225 0.1225 0.1225 0.1225 0.1225\n",
      " 0.1225 0.1225 0.1225 0.1225 0.1225 0.1225 0.1225 0.1225 0.1225 0.1225\n",
      " 0.1225 0.1225 0.1225]\n",
      "Iter 1501/3000 - Loss: 1.352  lengthscale1: [[0.0352313  0.10589202]]   noise: [0.1225 0.1225 0.1225 0.1225 0.1225 0.1225 0.1225 0.1225 0.1225 0.1225\n",
      " 0.1225 0.1225 0.1225 0.1225 0.1225 0.1225 0.1225 0.1225 0.1225 0.1225\n",
      " 0.1225 0.1225 0.1225]\n",
      "Iter 1601/3000 - Loss: 1.352  lengthscale1: [[0.03519791 0.10381874]]   noise: [0.1225 0.1225 0.1225 0.1225 0.1225 0.1225 0.1225 0.1225 0.1225 0.1225\n",
      " 0.1225 0.1225 0.1225 0.1225 0.1225 0.1225 0.1225 0.1225 0.1225 0.1225\n",
      " 0.1225 0.1225 0.1225]\n",
      "Iter 1701/3000 - Loss: 1.351  lengthscale1: [[0.03523058 0.10185835]]   noise: [0.1225 0.1225 0.1225 0.1225 0.1225 0.1225 0.1225 0.1225 0.1225 0.1225\n",
      " 0.1225 0.1225 0.1225 0.1225 0.1225 0.1225 0.1225 0.1225 0.1225 0.1225\n",
      " 0.1225 0.1225 0.1225]\n",
      "Iter 1801/3000 - Loss: 1.351  lengthscale1: [[0.03529765 0.09999894]]   noise: [0.1225 0.1225 0.1225 0.1225 0.1225 0.1225 0.1225 0.1225 0.1225 0.1225\n",
      " 0.1225 0.1225 0.1225 0.1225 0.1225 0.1225 0.1225 0.1225 0.1225 0.1225\n",
      " 0.1225 0.1225 0.1225]\n",
      "Iter 1901/3000 - Loss: 1.351  lengthscale1: [[0.03538167 0.09823485]]   noise: [0.1225 0.1225 0.1225 0.1225 0.1225 0.1225 0.1225 0.1225 0.1225 0.1225\n",
      " 0.1225 0.1225 0.1225 0.1225 0.1225 0.1225 0.1225 0.1225 0.1225 0.1225\n",
      " 0.1225 0.1225 0.1225]\n",
      "Iter 2001/3000 - Loss: 1.351  lengthscale1: [[0.0354692  0.09656208]]   noise: [0.1225 0.1225 0.1225 0.1225 0.1225 0.1225 0.1225 0.1225 0.1225 0.1225\n",
      " 0.1225 0.1225 0.1225 0.1225 0.1225 0.1225 0.1225 0.1225 0.1225 0.1225\n",
      " 0.1225 0.1225 0.1225]\n",
      "Iter 2101/3000 - Loss: 1.351  lengthscale1: [[0.03555161 0.09497828]]   noise: [0.1225 0.1225 0.1225 0.1225 0.1225 0.1225 0.1225 0.1225 0.1225 0.1225\n",
      " 0.1225 0.1225 0.1225 0.1225 0.1225 0.1225 0.1225 0.1225 0.1225 0.1225\n",
      " 0.1225 0.1225 0.1225]\n",
      "Iter 2201/3000 - Loss: 1.351  lengthscale1: [[0.03562545 0.09348088]]   noise: [0.1225 0.1225 0.1225 0.1225 0.1225 0.1225 0.1225 0.1225 0.1225 0.1225\n",
      " 0.1225 0.1225 0.1225 0.1225 0.1225 0.1225 0.1225 0.1225 0.1225 0.1225\n",
      " 0.1225 0.1225 0.1225]\n",
      "Iter 2301/3000 - Loss: 1.351  lengthscale1: [[0.03569164 0.09206663]]   noise: [0.1225 0.1225 0.1225 0.1225 0.1225 0.1225 0.1225 0.1225 0.1225 0.1225\n",
      " 0.1225 0.1225 0.1225 0.1225 0.1225 0.1225 0.1225 0.1225 0.1225 0.1225\n",
      " 0.1225 0.1225 0.1225]\n",
      "Iter 2401/3000 - Loss: 1.351  lengthscale1: [[0.0357478  0.09073216]]   noise: [0.1225 0.1225 0.1225 0.1225 0.1225 0.1225 0.1225 0.1225 0.1225 0.1225\n",
      " 0.1225 0.1225 0.1225 0.1225 0.1225 0.1225 0.1225 0.1225 0.1225 0.1225\n",
      " 0.1225 0.1225 0.1225]\n",
      "Iter 2501/3000 - Loss: 1.351  lengthscale1: [[0.03579492 0.08947344]]   noise: [0.1225 0.1225 0.1225 0.1225 0.1225 0.1225 0.1225 0.1225 0.1225 0.1225\n",
      " 0.1225 0.1225 0.1225 0.1225 0.1225 0.1225 0.1225 0.1225 0.1225 0.1225\n",
      " 0.1225 0.1225 0.1225]\n",
      "Iter 2601/3000 - Loss: 1.351  lengthscale1: [[0.03583619 0.08828565]]   noise: [0.1225 0.1225 0.1225 0.1225 0.1225 0.1225 0.1225 0.1225 0.1225 0.1225\n",
      " 0.1225 0.1225 0.1225 0.1225 0.1225 0.1225 0.1225 0.1225 0.1225 0.1225\n",
      " 0.1225 0.1225 0.1225]\n",
      "Iter 2701/3000 - Loss: 1.351  lengthscale1: [[0.03586974 0.08716443]]   noise: [0.1225 0.1225 0.1225 0.1225 0.1225 0.1225 0.1225 0.1225 0.1225 0.1225\n",
      " 0.1225 0.1225 0.1225 0.1225 0.1225 0.1225 0.1225 0.1225 0.1225 0.1225\n",
      " 0.1225 0.1225 0.1225]\n",
      "Iter 2801/3000 - Loss: 1.351  lengthscale1: [[0.03589884 0.08610518]]   noise: [0.1225 0.1225 0.1225 0.1225 0.1225 0.1225 0.1225 0.1225 0.1225 0.1225\n",
      " 0.1225 0.1225 0.1225 0.1225 0.1225 0.1225 0.1225 0.1225 0.1225 0.1225\n",
      " 0.1225 0.1225 0.1225]\n",
      "Iter 2901/3000 - Loss: 1.351  lengthscale1: [[0.03592339 0.08510309]]   noise: [0.1225 0.1225 0.1225 0.1225 0.1225 0.1225 0.1225 0.1225 0.1225 0.1225\n",
      " 0.1225 0.1225 0.1225 0.1225 0.1225 0.1225 0.1225 0.1225 0.1225 0.1225\n",
      " 0.1225 0.1225 0.1225]\n"
     ]
    }
   ],
   "metadata": {}
  },
  {
   "cell_type": "code",
   "execution_count": 33,
   "source": [
    "import matplotlib.pyplot as plt\n",
    "from sklearn.metrics import mean_squared_error, mean_absolute_error,r2_score\n",
    "from scipy.stats import spearmanr\n",
    "import matplotlib.pyplot as plt \n",
    "from plotter import prettyplot\n",
    "\n",
    "round_three = lambda val: np.round(val, 3) \n",
    "y_preds = likelihood(model(train_x))\n",
    "prettyplot()\n",
    "\n",
    "# plot training results\n",
    "with torch.no_grad():\n",
    "    y_preds_mean = y_preds.mean.numpy()\n",
    "    fig, axes = plt.subplots(1, 3, figsize=(5.5*3, 4.5))\n",
    "    fs = 14\n",
    "\n",
    "    # calculate error metrics\n",
    "    rmse = np.sqrt(mean_squared_error(train_y, y_preds_mean))\n",
    "    mae = mean_absolute_error(train_y,  y_preds_mean)\n",
    "    spearman = spearmanr(train_y, y_preds_mean)[0]\n",
    "    r2 = r2_score(train_y, y_preds_mean)\n",
    "    err_vals = [round_three(i) for i in [rmse, mae, spearman, r2]]\n",
    "\n",
    "    # print error metrics\n",
    "    data = {'Metric': ['MAE', 'RMSE', 'Spearman', 'R² score'], 'Value': err_vals}\n",
    "    df = pd.DataFrame(data)\n",
    "    print(df)\n",
    "\n",
    "    # training versus actuals plot: make plot, set title and axes values\n",
    "    axes[0].scatter(train_y, y_preds_mean)\n",
    "    axes[0].plot(np.linspace(-2, 2, 5), np.linspace(-2, 2, 5), 'k--')\n",
    "    axes[0].set_xlabel('Ground Truth 2 Qsw/(U+|D|) 1e6', fontsize = fs)\n",
    "    axes[0].set_ylabel('Prediction 2 Qsw/(U+|D|) 1e6', fontsize = fs)\n",
    "    axes[0].set_title('GP Training Results' + \" (MAE=%.2f\" % mae+' [%])', fontsize = fs)\n",
    "\n",
    "    # loss plot: make plot, set title and axes values\n",
    "    axes[1].plot(loss_lst, 'o-')\n",
    "    title = 'Training Loss'\n",
    "    axes[1].set_xlabel('Epoch (Per 100)', fontsize = fs)\n",
    "    axes[1].set_ylabel('Marginal Log Likelihood', fontsize = fs)\n",
    "    axes[1].set_title(title, fontsize = fs)\n",
    "    axes[2].axis(\"off\")\n",
    "\n",
    "    for i in range(len(axes)):\n",
    "        axes[i].tick_params(direction='in', length=5, width=1, labelsize = fs*.8)\n",
    "    plt.subplots_adjust(wspace = 0.4)\n",
    "\n",
    "    plt.show()"
   ],
   "outputs": [
    {
     "output_type": "stream",
     "name": "stderr",
     "text": [
      "/Users/valenetjong/opt/anaconda3/envs/FEGP/lib/python3.9/site-packages/gpytorch/models/exact_gp.py:274: GPInputWarning:\n",
      "\n",
      "The input matches the stored training data. Did you forget to call model.train()?\n",
      "\n"
     ]
    },
    {
     "output_type": "stream",
     "name": "stdout",
     "text": [
      "     Metric  Value\n",
      "0       MAE  0.130\n",
      "1      RMSE  0.110\n",
      "2  Spearman  0.989\n",
      "3  R² score  0.982\n"
     ]
    },
    {
     "output_type": "display_data",
     "data": {
      "image/png": "[encoded data removed]",
      "text/plain": [
       "<Figure size 3300x900 with 3 Axes>"
      ]
     },
     "metadata": {}
    }
   ],
   "metadata": {}
  },
  {
   "cell_type": "code",
   "execution_count": 34,
   "source": [
    "# acquisition function for prediction/exploration\n",
    "def get_bounds(n): return [n for i in range(config.dim)]\n",
    "\n",
    "def unravel_acq(acq_func, obs, bounds, train_y, nshape):\n",
    "    \"\"\" \n",
    "    [unravel_acq(acq_func, obs, bounds, train_y, nshape)] is a helper function \n",
    "    for acq. \n",
    "    \"\"\"\n",
    "    acq = acq_func(obs, bounds, train_y).detach().numpy().reshape(nshape).T\n",
    "    return np.unravel_index(acq.argmax(), acq.shape)\n",
    "\n",
    "def acq(obs, train_y, bounds):\n",
    "    \"\"\" \n",
    "    [acq(obs, train_y, bounds)] evaluates acquisition functions on current \n",
    "    predictions (observations) and outputs suggested points for exploration \n",
    "    on manifold. \n",
    "    \"\"\"\n",
    "    transpose = lambda tensor: tensor.detach().numpy().reshape(nshape).T\n",
    "    nshape = tuple(bounds)\n",
    "\n",
    "    pi = unravel_acq(PI, obs, bounds, train_y, nshape) # prob of improvement\n",
    "    ei = unravel_acq(EI, obs, bounds, train_y, nshape) # expected improvement\n",
    "    ca = unravel_acq(cust_acq, obs, bounds, train_y, nshape) # custom acq\n",
    "    th = unravel_acq(thompson, obs, bounds, train_y, nshape) # thompson acq\n",
    "\n",
    "    lower, upper = obs.confidence_region()\n",
    "    upper_surf, lower_surf = transpose(upper), transpose(lower)\n",
    "    ucb = np.unravel_index(upper_surf.argmax(), upper_surf.shape)\n",
    "\n",
    "    pred_var = obs.variance.view(nshape).detach().numpy().T\n",
    "    pred_labels = obs.mean.view(nshape)\n",
    "    max_var = np.unravel_index(pred_var.argmax(), pred_var.shape)\n",
    "\n",
    "    # acqs gives pairs corresponding to time and energy density recommendations\n",
    "    # pairs index into pred_labels \n",
    "    acqs = {\"PI\":pi, \"EI\":ei, \"CA\":ca, \"TH\":th, \"UCB\":ucb, \"Max_var\":max_var}\n",
    "\n",
    "    return pred_labels, upper_surf, lower_surf, acqs"
   ],
   "outputs": [],
   "metadata": {}
  },
  {
   "cell_type": "code",
   "execution_count": 35,
   "source": [
    "# export predictions to csv\n",
    "def pred_to_csv(acqs, raw_pred_labels, raw_test_grid):\n",
    "    \"\"\"\n",
    "    [pred_to_csv(acqs, raw_pred_labels, raw_test_grid)] outputs suggested\n",
    "    inputs and their respective predicted outputs to csv. \n",
    "    \"\"\"   \n",
    "    dir = \"/Users/valenetjong/Bayesian-Optimization-Ferroelectrics/predictions/\"\n",
    "    file = open(dir + \"preds.csv\", \"w\", encoding=\"utf-8\")\n",
    "    \n",
    "    file.write(\"Energy density \\t Time (ms)\\n\")\n",
    "    for lab, pred in acqs.items():\n",
    "        file.write(lab + \": \" + str(raw_test_grid[pred[1]].tolist()[0]) + \"\\t\" + str(raw_test_grid[pred[0]].tolist()[1]) + \"\\n\")\n",
    "    \n",
    "    file.write(\"\\nFigure of merit\\n\")\n",
    "    for lab, pred in acqs.items():\n",
    "        file.write(lab + \": \" + str(raw_pred_labels[pred].item()) + \"\\n\")"
   ],
   "outputs": [],
   "metadata": {}
  },
  {
   "cell_type": "code",
   "execution_count": 36,
   "source": [
    "# get normalized predictions\n",
    "bounds = get_bounds(n=30)\n",
    "pred_labels, upper_surf, lower_surf, acqs = acq(obs, train_y, bounds)\n",
    "\n",
    "# undo normalization\n",
    "raw_train_x, raw_train_y, raw_test_grid, raw_pred_labels, raw_upper_surf, raw_lower_surf = un_norm_all(x_sd_mean, y_sd_mean, train_x, train_y, test_grid, pred_labels, upper_surf, lower_surf)"
   ],
   "outputs": [],
   "metadata": {}
  },
  {
   "cell_type": "markdown",
   "source": [
    "### Save Predictions and Visualize "
   ],
   "metadata": {}
  },
  {
   "cell_type": "code",
   "execution_count": 37,
   "source": [
    "# undo normalization and save to csv\n",
    "pred_to_csv(acqs, raw_pred_labels, raw_test_grid)"
   ],
   "outputs": [],
   "metadata": {}
  },
  {
   "cell_type": "code",
   "execution_count": 39,
   "source": [
    "# visualize predictions and acquistion manifolds\n",
    "vis_pred(raw_train_x, raw_train_y, raw_test_grid, raw_pred_labels)\n",
    "vis_acq(raw_train_x, raw_train_y, raw_test_grid, raw_pred_labels, raw_upper_surf, raw_lower_surf, acqs)"
   ],
   "outputs": [
    {
     "output_type": "display_data",
     "data": {
      "application/vnd.plotly.v1+json": {
       "data": [
        {
         "name": "GP regression",
         "x": [
          2.276071548461914,
          2.745652675628662,
          3.2152342796325684,
          3.6848154067993164,
          4.1543965339660645,
          4.6239776611328125,
          5.093559265136719,
          5.563140392303467,
          6.032721519470215,
          6.502303123474121,
          6.971884250640869,
          7.441465377807617,
          7.911046504974365,
          8.380627632141113,
          8.85020923614502,
          9.319790840148926,
          9.789371490478516,
          10.258953094482422,
          10.728534698486328,
          11.198115348815918,
          11.667696952819824,
          12.137277603149414,
          12.60685920715332,
          13.076440811157227,
          13.546022415161133,
          14.015603065490723,
          14.485183715820312,
          14.954765319824219,
          15.424346923828125,
          15.893928527832031
         ],
         "y": [
          0.3392857313156128,
          0.5055418014526367,
          0.6717979907989502,
          0.8380541801452637,
          1.0043102502822876,
          1.170566439628601,
          1.336822509765625,
          1.5030786991119385,
          1.669334888458252,
          1.8355910778045654,
          2.001847267150879,
          2.1681032180786133,
          2.3343594074249268,
          2.5006155967712402,
          2.6668717861175537,
          2.833127975463867,
          2.9993841648101807,
          3.1656405925750732,
          3.3318967819213867,
          3.498152732849121,
          3.6644089221954346,
          3.830665111541748,
          3.9969213008880615,
          4.163177490234375,
          4.329433441162109,
          4.495689392089844,
          4.661945819854736,
          4.828202247619629,
          4.994458198547363,
          5.160714149475098
         ],
         "z": [
          [
           2.438908100128174,
           1.6669142246246338,
           2.492412567138672,
           2.4605164527893066,
           2.393115997314453,
           1.6781871318817139,
           1.9719839096069336,
           2.6795177459716797,
           2.44427752494812,
           2.4443376064300537,
           2.4442577362060547,
           2.444260358810425,
           2.4442861080169678,
           2.4442570209503174,
           2.4442570209503174,
           2.4442570209503174,
           2.4442570209503174,
           2.4442570209503174,
           2.4442570209503174,
           2.4442570209503174,
           2.4442570209503174,
           2.4442570209503174,
           2.4442570209503174,
           2.4442570209503174,
           2.4442570209503174,
           2.4442570209503174,
           2.4442570209503174,
           2.4442570209503174,
           2.4442570209503174,
           2.4442570209503174
          ],
          [
           2.43487286567688,
           1.080643892288208,
           2.528724431991577,
           2.4704227447509766,
           2.3544158935546875,
           1.100507378578186,
           1.6157687902450562,
           2.856959819793701,
           2.444394588470459,
           2.4495418071746826,
           2.444314956665039,
           2.4444847106933594,
           2.4461727142333984,
           2.4442572593688965,
           2.4442570209503174,
           2.4442570209503174,
           2.4442570209503174,
           2.4442570209503174,
           2.4442570209503174,
           2.4442570209503174,
           2.4442570209503174,
           2.4442570209503174,
           2.4442570209503174,
           2.4442570209503174,
           2.4442570209503174,
           2.4442570209503174,
           2.4442570209503174,
           2.4442570209503174,
           2.4442570209503174,
           2.4442570209503174
          ],
          [
           2.4393210411071777,
           1.7269103527069092,
           2.488680362701416,
           2.411619186401367,
           2.3945505619049072,
           1.7373167276382446,
           2.0084052085876465,
           2.6613714694976807,
           2.4463274478912354,
           2.5482330322265625,
           2.445397138595581,
           2.4487366676330566,
           2.481950283050537,
           2.4442644119262695,
           2.4442572593688965,
           2.4442570209503174,
           2.4442570209503174,
           2.4442570209503174,
           2.4442570209503174,
           2.4442570209503174,
           2.4442570209503174,
           2.4442570209503174,
           2.4442570209503174,
           2.4442570209503174,
           2.4442570209503174,
           2.4442570209503174,
           2.4442570209503174,
           2.4442570209503174,
           2.4442570209503174,
           2.4442570209503174
          ],
          [
           2.4434778690338135,
           2.3310606479644775,
           2.4511451721191406,
           2.1653082370758057,
           2.4220070838928223,
           2.332709550857544,
           2.375490188598633,
           2.4785377979278564,
           2.456374168395996,
           3.05781626701355,
           2.4509849548339844,
           2.470691680908203,
           2.66668701171875,
           2.444300413131714,
           2.44433856010437,
           2.4442663192749023,
           2.4442570209503174,
           2.4442570209503174,
           2.4442570209503174,
           2.4442570209503174,
           2.4442570209503174,
           2.4442570209503174,
           2.4442570209503174,
           2.4442570209503174,
           2.4442570209503174,
           2.4442570209503174,
           2.4442570209503174,
           2.4442570209503174,
           2.4442570209503174,
           2.4442570209503174
          ],
          [
           2.4442200660705566,
           2.438899040222168,
           2.444368839263916,
           1.9464881420135498,
           2.4177088737487793,
           2.4389777183532715,
           2.4416637420654297,
           2.4472362995147705,
           2.465696096420288,
           3.5301620960235596,
           2.4561643600463867,
           2.491042375564575,
           2.837923526763916,
           2.4443349838256836,
           2.4496543407440186,
           2.444880485534668,
           2.4442570209503174,
           2.4442570209503174,
           2.4442570209503174,
           2.4442570209503174,
           2.4442570209503174,
           2.4442570209503174,
           2.4442570209503174,
           2.4442570209503174,
           2.4442570209503174,
           2.4442570209503174,
           2.4442570209503174,
           2.4442570209503174,
           2.4442570209503174,
           2.4442570209503174
          ],
          [
           2.444256544113159,
           2.444180965423584,
           2.4441449642181396,
           2.1799488067626953,
           2.4303455352783203,
           2.4441821575164795,
           2.457343339920044,
           2.471236228942871,
           2.455638885498047,
           3.020660161972046,
           2.450577735900879,
           2.4690909385681152,
           2.6532201766967773,
           2.444319486618042,
           2.551401138305664,
           2.456631660461426,
           2.4442570209503174,
           2.4442570209503174,
           2.4442570209503174,
           2.4442570209503174,
           2.4442570209503174,
           2.4442570209503174,
           2.4442570209503174,
           2.4442570209503174,
           2.4442570209503174,
           2.4442570209503174,
           2.4442570209503174,
           2.4442570209503174,
           2.4442570209503174,
           2.4442570209503174
          ],
          [
           2.4442570209503174,
           2.444256544113159,
           2.4442384243011475,
           2.4021811485290527,
           2.4420430660247803,
           2.4442574977874756,
           2.5224480628967285,
           2.6047542095184326,
           2.4460763931274414,
           2.536025285720825,
           2.445263147354126,
           2.4482107162475586,
           2.477525234222412,
           2.4443845748901367,
           3.0820837020874023,
           2.517827272415161,
           2.44425892829895,
           2.4442923069000244,
           2.444261074066162,
           2.4442832469940186,
           2.4442570209503174,
           2.4442570209503174,
           2.4442570209503174,
           2.4442570209503174,
           2.4442570209503174,
           2.4442570209503174,
           2.4442570209503174,
           2.4442570209503174,
           2.4442570209503174,
           2.4442570209503174
          ],
          [
           2.4442570209503174,
           2.4442570209503174,
           2.444256067276001,
           2.4422476291656494,
           2.4441511631011963,
           2.444258451461792,
           2.5838866233825684,
           2.730863332748413,
           2.44435715675354,
           2.448638916015625,
           2.444304943084717,
           2.444445848464966,
           2.445845603942871,
           2.444000005722046,
           3.5768182277679443,
           2.568470001220703,
           2.4443717002868652,
           2.4466159343719482,
           2.4445343017578125,
           2.446010112762451,
           2.4442570209503174,
           2.4442570209503174,
           2.4442570209503174,
           2.4442570209503174,
           2.4442570209503174,
           2.4442570209503174,
           2.4442570209503174,
           2.4442570209503174,
           2.4442570209503174,
           2.4442570209503174
          ],
          [
           2.4442570209503174,
           2.4442570209503174,
           2.4442570209503174,
           2.444228172302246,
           2.4442553520202637,
           2.4442577362060547,
           2.519041061401367,
           2.597759962081909,
           2.444265604019165,
           2.444319725036621,
           2.4442577362060547,
           2.4442596435546875,
           2.444279670715332,
           2.43463397026062,
           2.9225172996520996,
           2.3673367500305176,
           2.446549654006958,
           2.4915058612823486,
           2.4498097896575928,
           2.479372978210449,
           2.4442594051361084,
           2.4442570209503174,
           2.4442570209503174,
           2.4442570209503174,
           2.4442570209503174,
           2.4442570209503174,
           2.4442570209503174,
           2.4442570209503174,
           2.4442570209503174,
           2.4442570209503174
          ],
          [
           2.4442570209503174,
           2.4442570209503174,
           2.4442570209503174,
           2.4442567825317383,
           2.4442570209503174,
           2.4442570209503174,
           2.4562692642211914,
           2.4689135551452637,
           2.444258213043213,
           2.4442572593688965,
           2.4442570209503174,
           2.4442570209503174,
           2.4442570209503174,
           2.3857314586639404,
           1.7502663135528564,
           1.5701886415481567,
           2.4580283164978027,
           2.7280921936035156,
           2.477614402770996,
           2.6552042961120605,
           2.4442710876464844,
           2.4442570209503174,
           2.4442570209503174,
           2.4442570209503174,
           2.4442570209503174,
           2.4442570209503174,
           2.4442570209503174,
           2.4442570209503174,
           2.4442570209503174,
           2.4442570209503174
          ],
          [
           2.4442570209503174,
           2.4442570209503174,
           2.4442570209503174,
           2.4442570209503174,
           2.4442570209503174,
           2.4442570209503174,
           2.444835662841797,
           2.4454448223114014,
           2.4442570209503174,
           2.4442570209503174,
           2.4442570209503174,
           2.4442570209503174,
           2.4442567825317383,
           2.3387768268585205,
           1.0220391750335693,
           0.8495948314666748,
           2.469069004058838,
           2.9556446075439453,
           2.5043575763702393,
           2.8243234157562256,
           2.4442825317382812,
           2.4442570209503174,
           2.4442570209503174,
           2.4442570209503174,
           2.4442570209503174,
           2.4442570209503174,
           2.4442570209503174,
           2.4442570209503174,
           2.4442570209503174,
           2.4442570209503174
          ],
          [
           2.4442570209503174,
           2.4442570209503174,
           2.4442570209503174,
           2.4442570209503174,
           2.4442570209503174,
           2.4442570209503174,
           2.444265365600586,
           2.4442741870880127,
           2.4442570209503174,
           2.4442570209503174,
           2.4442570209503174,
           2.4442570209503174,
           2.4442567825317383,
           2.3872575759887695,
           1.6732436418533325,
           1.5822536945343018,
           2.457664728164673,
           2.7205960750579834,
           2.476733684539795,
           2.649635076522827,
           2.4442708492279053,
           2.4442570209503174,
           2.4442570209503174,
           2.4442570209503174,
           2.4442570209503174,
           2.4442570209503174,
           2.4442570209503174,
           2.4442570209503174,
           2.4442570209503174,
           2.4442570209503174
          ],
          [
           2.4442570209503174,
           2.4442570209503174,
           2.4442570209503174,
           2.4442570209503174,
           2.4442570209503174,
           2.4442570209503174,
           2.4442570209503174,
           2.4442570209503174,
           2.4442570209503174,
           2.4442570209503174,
           2.4442570209503174,
           2.4442570209503174,
           2.4442570209503174,
           2.435019016265869,
           2.3192875385284424,
           2.3045501708984375,
           2.446429967880249,
           2.4890434741973877,
           2.4495205879211426,
           2.4775428771972656,
           2.4442591667175293,
           2.4442570209503174,
           2.4442570209503174,
           2.4442570209503174,
           2.4442570209503174,
           2.4442570209503174,
           2.4442570209503174,
           2.4442570209503174,
           2.4442570209503174,
           2.4442570209503174
          ],
          [
           2.4442570209503174,
           2.4442570209503174,
           2.4442570209503174,
           2.4442570209503174,
           2.4442570209503174,
           2.4442570209503174,
           2.4442570209503174,
           2.4442570209503174,
           2.4442570209503174,
           2.4442570209503174,
           2.4442570209503174,
           2.4442570209503174,
           2.4442570209503174,
           2.44380784034729,
           2.4381823539733887,
           2.4374659061431885,
           2.4443626403808594,
           2.4464340209960938,
           2.4445128440856934,
           2.4458749294281006,
           2.4442570209503174,
           2.4442570209503174,
           2.4442570209503174,
           2.4442570209503174,
           2.4442570209503174,
           2.4442570209503174,
           2.4442570209503174,
           2.4442570209503174,
           2.4442570209503174,
           2.4442570209503174
          ],
          [
           2.4442570209503174,
           2.4442570209503174,
           2.4442570209503174,
           2.4442570209503174,
           2.4442570209503174,
           2.4442570209503174,
           2.4442570209503174,
           2.4442570209503174,
           2.4442570209503174,
           2.4442570209503174,
           2.4442570209503174,
           2.4442570209503174,
           2.4442570209503174,
           2.4442503452301025,
           2.4441683292388916,
           2.4441580772399902,
           2.444258451461792,
           2.444288730621338,
           2.444260597229004,
           2.4442806243896484,
           2.4442570209503174,
           2.4442570209503174,
           2.4442570209503174,
           2.4442570209503174,
           2.4442570209503174,
           2.4442570209503174,
           2.4442570209503174,
           2.4442570209503174,
           2.4442570209503174,
           2.4442570209503174
          ],
          [
           2.4442570209503174,
           2.4442570209503174,
           2.4442570209503174,
           2.4442570209503174,
           2.4442570209503174,
           2.4442570209503174,
           2.4442570209503174,
           2.4442570209503174,
           2.4442570209503174,
           2.4442570209503174,
           2.4442570209503174,
           2.4442570209503174,
           2.4442570209503174,
           2.4442570209503174,
           2.444256544113159,
           2.444256544113159,
           2.4442570209503174,
           2.4442570209503174,
           2.4442570209503174,
           2.4442570209503174,
           2.4442570209503174,
           2.4442570209503174,
           2.4442570209503174,
           2.4442570209503174,
           2.4442570209503174,
           2.4442570209503174,
           2.4442570209503174,
           2.4442570209503174,
           2.4442570209503174,
           2.4442570209503174
          ],
          [
           2.4442570209503174,
           2.4442570209503174,
           2.4442570209503174,
           2.4442570209503174,
           2.4442570209503174,
           2.4442570209503174,
           2.4442570209503174,
           2.4442570209503174,
           2.4442570209503174,
           2.4442570209503174,
           2.4442570209503174,
           2.4442570209503174,
           2.4442570209503174,
           2.4442570209503174,
           2.4442570209503174,
           2.4442570209503174,
           2.4442570209503174,
           2.4442570209503174,
           2.4442570209503174,
           2.4442570209503174,
           2.4442570209503174,
           2.4442570209503174,
           2.4442570209503174,
           2.4442570209503174,
           2.4442570209503174,
           2.4442570209503174,
           2.4442570209503174,
           2.4442570209503174,
           2.4442570209503174,
           2.4442570209503174
          ],
          [
           2.4442570209503174,
           2.4442570209503174,
           2.4442570209503174,
           2.4442570209503174,
           2.4442570209503174,
           2.4442570209503174,
           2.4442570209503174,
           2.4442570209503174,
           2.4442570209503174,
           2.4442570209503174,
           2.4442570209503174,
           2.4442570209503174,
           2.4442570209503174,
           2.4442570209503174,
           2.4442570209503174,
           2.4442570209503174,
           2.4442570209503174,
           2.4442570209503174,
           2.4442570209503174,
           2.4442570209503174,
           2.4442570209503174,
           2.4442570209503174,
           2.4442570209503174,
           2.4442570209503174,
           2.4442570209503174,
           2.4442570209503174,
           2.4442570209503174,
           2.4442570209503174,
           2.4442570209503174,
           2.4442570209503174
          ],
          [
           2.4442570209503174,
           2.4442570209503174,
           2.4442570209503174,
           2.4442570209503174,
           2.4442570209503174,
           2.4442570209503174,
           2.4442570209503174,
           2.4442570209503174,
           2.4442570209503174,
           2.4442570209503174,
           2.4442570209503174,
           2.4442570209503174,
           2.4442570209503174,
           2.4442570209503174,
           2.4442570209503174,
           2.4442570209503174,
           2.4442570209503174,
           2.4442570209503174,
           2.4442570209503174,
           2.4442570209503174,
           2.4442570209503174,
           2.4442570209503174,
           2.4442570209503174,
           2.4442570209503174,
           2.4442570209503174,
           2.4442570209503174,
           2.4442570209503174,
           2.4442570209503174,
           2.4442570209503174,
           2.4442570209503174
          ],
          [
           2.4442570209503174,
           2.4442570209503174,
           2.4442570209503174,
           2.4442570209503174,
           2.4442570209503174,
           2.4442570209503174,
           2.4442570209503174,
           2.4442570209503174,
           2.4442570209503174,
           2.4442570209503174,
           2.4442570209503174,
           2.4442570209503174,
           2.4442570209503174,
           2.4442570209503174,
           2.4442570209503174,
           2.4442570209503174,
           2.4442570209503174,
           2.4442570209503174,
           2.4442570209503174,
           2.4442570209503174,
           2.4442570209503174,
           2.4442570209503174,
           2.4442570209503174,
           2.4442570209503174,
           2.4442570209503174,
           2.4442570209503174,
           2.4442570209503174,
           2.4442570209503174,
           2.4442570209503174,
           2.4442570209503174
          ],
          [
           2.4442570209503174,
           2.4442570209503174,
           2.4442570209503174,
           2.4442570209503174,
           2.4442570209503174,
           2.4442570209503174,
           2.4442570209503174,
           2.4442570209503174,
           2.4442570209503174,
           2.4442570209503174,
           2.4442570209503174,
           2.4442570209503174,
           2.4442570209503174,
           2.4442570209503174,
           2.4442570209503174,
           2.4442570209503174,
           2.4442570209503174,
           2.4442570209503174,
           2.4442570209503174,
           2.4442570209503174,
           2.4442570209503174,
           2.4442570209503174,
           2.4442570209503174,
           2.4442570209503174,
           2.4442570209503174,
           2.4442570209503174,
           2.4442570209503174,
           2.4442570209503174,
           2.4442570209503174,
           2.4442570209503174
          ],
          [
           2.4442570209503174,
           2.4442570209503174,
           2.4442570209503174,
           2.4442570209503174,
           2.4442570209503174,
           2.4442570209503174,
           2.4442570209503174,
           2.4442570209503174,
           2.4442570209503174,
           2.4442570209503174,
           2.4442570209503174,
           2.4442570209503174,
           2.4442570209503174,
           2.4442570209503174,
           2.4442570209503174,
           2.4442570209503174,
           2.4442570209503174,
           2.4442570209503174,
           2.4442570209503174,
           2.4442570209503174,
           2.4442570209503174,
           2.4442570209503174,
           2.4442570209503174,
           2.4442570209503174,
           2.4442570209503174,
           2.4442570209503174,
           2.4442570209503174,
           2.4442570209503174,
           2.4442570209503174,
           2.4442570209503174
          ],
          [
           2.4442570209503174,
           2.4442570209503174,
           2.4442570209503174,
           2.4442570209503174,
           2.4442570209503174,
           2.4442570209503174,
           2.4442570209503174,
           2.4442570209503174,
           2.4442570209503174,
           2.4442570209503174,
           2.4442570209503174,
           2.4442570209503174,
           2.4442570209503174,
           2.4442570209503174,
           2.4442570209503174,
           2.4442570209503174,
           2.4442570209503174,
           2.4442570209503174,
           2.4442570209503174,
           2.4442570209503174,
           2.4442570209503174,
           2.4442570209503174,
           2.4442570209503174,
           2.4442570209503174,
           2.4442570209503174,
           2.4442570209503174,
           2.4442570209503174,
           2.4442570209503174,
           2.4442570209503174,
           2.4442570209503174
          ],
          [
           2.4442570209503174,
           2.4442570209503174,
           2.4442570209503174,
           2.4442570209503174,
           2.4442570209503174,
           2.4442570209503174,
           2.4442570209503174,
           2.4442570209503174,
           2.4442570209503174,
           2.4442570209503174,
           2.4442570209503174,
           2.4442570209503174,
           2.4442570209503174,
           2.4442570209503174,
           2.4442567825317383,
           2.4442570209503174,
           2.4442570209503174,
           2.4442570209503174,
           2.4442570209503174,
           2.4442570209503174,
           2.4442570209503174,
           2.4442570209503174,
           2.4442570209503174,
           2.4442570209503174,
           2.4442570209503174,
           2.4442570209503174,
           2.4442570209503174,
           2.4442572593688965,
           2.4442572593688965,
           2.4442570209503174
          ],
          [
           2.4442570209503174,
           2.4442570209503174,
           2.4442570209503174,
           2.4442570209503174,
           2.4442570209503174,
           2.4442570209503174,
           2.4442570209503174,
           2.4442570209503174,
           2.4442570209503174,
           2.4442570209503174,
           2.4442570209503174,
           2.4442570209503174,
           2.4442570209503174,
           2.44425630569458,
           2.4442074298858643,
           2.4442567825317383,
           2.4442570209503174,
           2.4442570209503174,
           2.4442570209503174,
           2.4442570209503174,
           2.4442570209503174,
           2.4442570209503174,
           2.4442570209503174,
           2.444258213043213,
           2.4442617893218994,
           2.4442570209503174,
           2.4442837238311768,
           2.444298505783081,
           2.444305419921875,
           2.4442572593688965
          ],
          [
           2.4442570209503174,
           2.4442570209503174,
           2.4442570209503174,
           2.4442570209503174,
           2.4442570209503174,
           2.4442570209503174,
           2.4442570209503174,
           2.4442570209503174,
           2.4442570209503174,
           2.4442570209503174,
           2.4442570209503174,
           2.4442570209503174,
           2.4442570209503174,
           2.444204330444336,
           2.4407665729522705,
           2.444251537322998,
           2.4442570209503174,
           2.4442570209503174,
           2.4442570209503174,
           2.4442570209503174,
           2.4442570209503174,
           2.4442570209503174,
           2.4442570209503174,
           2.444345474243164,
           2.4445929527282715,
           2.4442572593688965,
           2.4461426734924316,
           2.447187662124634,
           2.4476728439331055,
           2.4442803859710693
          ],
          [
           2.4442570209503174,
           2.4442570209503174,
           2.4442570209503174,
           2.4442570209503174,
           2.4442570209503174,
           2.4442570209503174,
           2.4442570209503174,
           2.4442570209503174,
           2.4442570209503174,
           2.4442570209503174,
           2.4442570209503174,
           2.4442570209503174,
           2.4442570209503174,
           2.4431443214416504,
           2.3705058097839355,
           2.444143295288086,
           2.4442570209503174,
           2.4442570209503174,
           2.4442570209503174,
           2.4442570209503174,
           2.4442570209503174,
           2.4442570209503174,
           2.4442570209503174,
           2.44612455368042,
           2.451355218887329,
           2.444260597229004,
           2.484102725982666,
           2.5061817169189453,
           2.516425132751465,
           2.4447531700134277
          ],
          [
           2.4442570209503174,
           2.4442570209503174,
           2.4442570209503174,
           2.4442570209503174,
           2.4442570209503174,
           2.4442570209503174,
           2.4442570209503174,
           2.4442570209503174,
           2.4442570209503174,
           2.4442570209503174,
           2.4442570209503174,
           2.4442570209503174,
           2.4442570209503174,
           2.4372050762176514,
           1.9768633842468262,
           2.4435367584228516,
           2.4442570209503174,
           2.4442570209503174,
           2.4442570209503174,
           2.4442570209503174,
           2.4442570209503174,
           2.4442570209503174,
           2.4442570209503174,
           2.4560930728912354,
           2.489245653152466,
           2.4442801475524902,
           2.696798324584961,
           2.8367342948913574,
           2.9016008377075195,
           2.4474005699157715
          ],
          [
           2.4442570209503174,
           2.4442570209503174,
           2.4442570209503174,
           2.4442570209503174,
           2.4442570209503174,
           2.4442570209503174,
           2.4442570209503174,
           2.4442570209503174,
           2.4442570209503174,
           2.4442570209503174,
           2.4442570209503174,
           2.4442570209503174,
           2.4442570209503174,
           2.4308526515960693,
           1.5558435916900635,
           2.442888021469116,
           2.4442570209503174,
           2.4442570209503174,
           2.4442570209503174,
           2.4442570209503174,
           2.4442570209503174,
           2.4442570209503174,
           2.4442570209503174,
           2.4667534828186035,
           2.5297610759735107,
           2.444300889968872,
           2.9242868423461914,
           3.19020676612854,
           3.313627243041992,
           2.4502334594726562
          ],
          [
           2.4442570209503174,
           2.4442570209503174,
           2.4442570209503174,
           2.4442570209503174,
           2.4442570209503174,
           2.4442570209503174,
           2.4442570209503174,
           2.4442570209503174,
           2.4442570209503174,
           2.4442570209503174,
           2.4442570209503174,
           2.4442570209503174,
           2.4442570209503174,
           2.436615467071533,
           1.9377877712249756,
           2.443476676940918,
           2.4442570209503174,
           2.4442570209503174,
           2.4442570209503174,
           2.4442570209503174,
           2.4442570209503174,
           2.4442570209503174,
           2.4442570209503174,
           2.4570813179016113,
           2.493002414703369,
           2.444282054901123,
           2.7178866863250732,
           2.8695077896118164,
           2.9398512840270996,
           2.4476635456085205
          ]
         ],
         "type": "surface"
        },
        {
         "marker": {
          "color": "darkgreen"
         },
         "mode": "markers",
         "name": "training data",
         "x": [
          2.7300000190734863,
          3.4000000953674316,
          3.7899999618530273,
          6.440000057220459,
          5.360000133514404,
          8.989999771118164,
          8.800000190734863,
          14.670000076293945,
          5.239999771118164,
          14.890000343322754,
          10.130000114440918,
          4.510000228881836,
          5.369999885559082,
          4.880000114440918,
          6.760000228881836,
          7.769999980926514,
          8.729999542236328,
          9.380000114440918,
          10.479999542236328,
          11.010000228881836,
          14.710000038146973,
          15.4399995803833,
          13.369999885559082
         ],
         "y": [
          0.5,
          0.5,
          1,
          1,
          1.5,
          1.5,
          5,
          5,
          0.5,
          5,
          2,
          0.5,
          0.5,
          0.5,
          1,
          1,
          2,
          2,
          2,
          2,
          5,
          5,
          5
         ],
         "z": [
          0.8730257749557495,
          2.6772446632385254,
          1.6990152597427368,
          3.8050527572631836,
          3.3348562717437744,
          4.535152912139893,
          1.3625102043151855,
          3.8412907123565674,
          1.2013570070266724,
          3.5136520862579346,
          3.4708714485168457,
          0.26329827308654785,
          2.7753403186798096,
          2.591306209564209,
          2.579984426498413,
          3.173818588256836,
          0.13150501251220703,
          0.45116376876831055,
          2.1266398429870605,
          3.468212842941284,
          3.685852527618408,
          3.445655584335327,
          2.6515469551086426
         ],
         "type": "scatter3d"
        }
       ],
       "layout": {
        "template": {
         "data": {
          "histogram2dcontour": [
           {
            "type": "histogram2dcontour",
            "colorbar": {
             "outlinewidth": 0,
             "ticks": ""
            },
            "colorscale": [
             [
              0,
              "#0d0887"
             ],
             [
              0.1111111111111111,
              "#46039f"
             ],
             [
              0.2222222222222222,
              "#7201a8"
             ],
             [
              0.3333333333333333,
              "#9c179e"
             ],
             [
              0.4444444444444444,
              "#bd3786"
             ],
             [
              0.5555555555555556,
              "#d8576b"
             ],
             [
              0.6666666666666666,
              "#ed7953"
             ],
             [
              0.7777777777777778,
              "#fb9f3a"
             ],
             [
              0.8888888888888888,
              "#fdca26"
             ],
             [
              1,
              "#f0f921"
             ]
            ]
           }
          ],
          "choropleth": [
           {
            "type": "choropleth",
            "colorbar": {
             "outlinewidth": 0,
             "ticks": ""
            }
           }
          ],
          "histogram2d": [
           {
            "type": "histogram2d",
            "colorbar": {
             "outlinewidth": 0,
             "ticks": ""
            },
            "colorscale": [
             [
              0,
              "#0d0887"
             ],
             [
              0.1111111111111111,
              "#46039f"
             ],
             [
              0.2222222222222222,
              "#7201a8"
             ],
             [
              0.3333333333333333,
              "#9c179e"
             ],
             [
              0.4444444444444444,
              "#bd3786"
             ],
             [
              0.5555555555555556,
              "#d8576b"
             ],
             [
              0.6666666666666666,
              "#ed7953"
             ],
             [
              0.7777777777777778,
              "#fb9f3a"
             ],
             [
              0.8888888888888888,
              "#fdca26"
             ],
             [
              1,
              "#f0f921"
             ]
            ]
           }
          ],
          "heatmap": [
           {
            "type": "heatmap",
            "colorbar": {
             "outlinewidth": 0,
             "ticks": ""
            },
            "colorscale": [
             [
              0,
              "#0d0887"
             ],
             [
              0.1111111111111111,
              "#46039f"
             ],
             [
              0.2222222222222222,
              "#7201a8"
             ],
             [
              0.3333333333333333,
              "#9c179e"
             ],
             [
              0.4444444444444444,
              "#bd3786"
             ],
             [
              0.5555555555555556,
              "#d8576b"
             ],
             [
              0.6666666666666666,
              "#ed7953"
             ],
             [
              0.7777777777777778,
              "#fb9f3a"
             ],
             [
              0.8888888888888888,
              "#fdca26"
             ],
             [
              1,
              "#f0f921"
             ]
            ]
           }
          ],
          "heatmapgl": [
           {
            "type": "heatmapgl",
            "colorbar": {
             "outlinewidth": 0,
             "ticks": ""
            },
            "colorscale": [
             [
              0,
              "#0d0887"
             ],
             [
              0.1111111111111111,
              "#46039f"
             ],
             [
              0.2222222222222222,
              "#7201a8"
             ],
             [
              0.3333333333333333,
              "#9c179e"
             ],
             [
              0.4444444444444444,
              "#bd3786"
             ],
             [
              0.5555555555555556,
              "#d8576b"
             ],
             [
              0.6666666666666666,
              "#ed7953"
             ],
             [
              0.7777777777777778,
              "#fb9f3a"
             ],
             [
              0.8888888888888888,
              "#fdca26"
             ],
             [
              1,
              "#f0f921"
             ]
            ]
           }
          ],
          "contourcarpet": [
           {
            "type": "contourcarpet",
            "colorbar": {
             "outlinewidth": 0,
             "ticks": ""
            }
           }
          ],
          "contour": [
           {
            "type": "contour",
            "colorbar": {
             "outlinewidth": 0,
             "ticks": ""
            },
            "colorscale": [
             [
              0,
              "#0d0887"
             ],
             [
              0.1111111111111111,
              "#46039f"
             ],
             [
              0.2222222222222222,
              "#7201a8"
             ],
             [
              0.3333333333333333,
              "#9c179e"
             ],
             [
              0.4444444444444444,
              "#bd3786"
             ],
             [
              0.5555555555555556,
              "#d8576b"
             ],
             [
              0.6666666666666666,
              "#ed7953"
             ],
             [
              0.7777777777777778,
              "#fb9f3a"
             ],
             [
              0.8888888888888888,
              "#fdca26"
             ],
             [
              1,
              "#f0f921"
             ]
            ]
           }
          ],
          "surface": [
           {
            "type": "surface",
            "colorbar": {
             "outlinewidth": 0,
             "ticks": ""
            },
            "colorscale": [
             [
              0,
              "#0d0887"
             ],
             [
              0.1111111111111111,
              "#46039f"
             ],
             [
              0.2222222222222222,
              "#7201a8"
             ],
             [
              0.3333333333333333,
              "#9c179e"
             ],
             [
              0.4444444444444444,
              "#bd3786"
             ],
             [
              0.5555555555555556,
              "#d8576b"
             ],
             [
              0.6666666666666666,
              "#ed7953"
             ],
             [
              0.7777777777777778,
              "#fb9f3a"
             ],
             [
              0.8888888888888888,
              "#fdca26"
             ],
             [
              1,
              "#f0f921"
             ]
            ]
           }
          ],
          "mesh3d": [
           {
            "type": "mesh3d",
            "colorbar": {
             "outlinewidth": 0,
             "ticks": ""
            }
           }
          ],
          "scatter": [
           {
            "fillpattern": {
             "fillmode": "overlay",
             "size": 10,
             "solidity": 0.2
            },
            "type": "scatter"
           }
          ],
          "parcoords": [
           {
            "type": "parcoords",
            "line": {
             "colorbar": {
              "outlinewidth": 0,
              "ticks": ""
             }
            }
           }
          ],
          "scatterpolargl": [
           {
            "type": "scatterpolargl",
            "marker": {
             "colorbar": {
              "outlinewidth": 0,
              "ticks": ""
             }
            }
           }
          ],
          "bar": [
           {
            "error_x": {
             "color": "#2a3f5f"
            },
            "error_y": {
             "color": "#2a3f5f"
            },
            "marker": {
             "line": {
              "color": "#E5ECF6",
              "width": 0.5
             },
             "pattern": {
              "fillmode": "overlay",
              "size": 10,
              "solidity": 0.2
             }
            },
            "type": "bar"
           }
          ],
          "scattergeo": [
           {
            "type": "scattergeo",
            "marker": {
             "colorbar": {
              "outlinewidth": 0,
              "ticks": ""
             }
            }
           }
          ],
          "scatterpolar": [
           {
            "type": "scatterpolar",
            "marker": {
             "colorbar": {
              "outlinewidth": 0,
              "ticks": ""
             }
            }
           }
          ],
          "histogram": [
           {
            "marker": {
             "pattern": {
              "fillmode": "overlay",
              "size": 10,
              "solidity": 0.2
             }
            },
            "type": "histogram"
           }
          ],
          "scattergl": [
           {
            "type": "scattergl",
            "marker": {
             "colorbar": {
              "outlinewidth": 0,
              "ticks": ""
             }
            }
           }
          ],
          "scatter3d": [
           {
            "type": "scatter3d",
            "line": {
             "colorbar": {
              "outlinewidth": 0,
              "ticks": ""
             }
            },
            "marker": {
             "colorbar": {
              "outlinewidth": 0,
              "ticks": ""
             }
            }
           }
          ],
          "scattermapbox": [
           {
            "type": "scattermapbox",
            "marker": {
             "colorbar": {
              "outlinewidth": 0,
              "ticks": ""
             }
            }
           }
          ],
          "scatterternary": [
           {
            "type": "scatterternary",
            "marker": {
             "colorbar": {
              "outlinewidth": 0,
              "ticks": ""
             }
            }
           }
          ],
          "scattercarpet": [
           {
            "type": "scattercarpet",
            "marker": {
             "colorbar": {
              "outlinewidth": 0,
              "ticks": ""
             }
            }
           }
          ],
          "carpet": [
           {
            "aaxis": {
             "endlinecolor": "#2a3f5f",
             "gridcolor": "white",
             "linecolor": "white",
             "minorgridcolor": "white",
             "startlinecolor": "#2a3f5f"
            },
            "baxis": {
             "endlinecolor": "#2a3f5f",
             "gridcolor": "white",
             "linecolor": "white",
             "minorgridcolor": "white",
             "startlinecolor": "#2a3f5f"
            },
            "type": "carpet"
           }
          ],
          "table": [
           {
            "cells": {
             "fill": {
              "color": "#EBF0F8"
             },
             "line": {
              "color": "white"
             }
            },
            "header": {
             "fill": {
              "color": "#C8D4E3"
             },
             "line": {
              "color": "white"
             }
            },
            "type": "table"
           }
          ],
          "barpolar": [
           {
            "marker": {
             "line": {
              "color": "#E5ECF6",
              "width": 0.5
             },
             "pattern": {
              "fillmode": "overlay",
              "size": 10,
              "solidity": 0.2
             }
            },
            "type": "barpolar"
           }
          ],
          "pie": [
           {
            "automargin": true,
            "type": "pie"
           }
          ]
         },
         "layout": {
          "autotypenumbers": "strict",
          "colorway": [
           "#636efa",
           "#EF553B",
           "#00cc96",
           "#ab63fa",
           "#FFA15A",
           "#19d3f3",
           "#FF6692",
           "#B6E880",
           "#FF97FF",
           "#FECB52"
          ],
          "font": {
           "color": "#2a3f5f"
          },
          "hovermode": "closest",
          "hoverlabel": {
           "align": "left"
          },
          "paper_bgcolor": "white",
          "plot_bgcolor": "#E5ECF6",
          "polar": {
           "bgcolor": "#E5ECF6",
           "angularaxis": {
            "gridcolor": "white",
            "linecolor": "white",
            "ticks": ""
           },
           "radialaxis": {
            "gridcolor": "white",
            "linecolor": "white",
            "ticks": ""
           }
          },
          "ternary": {
           "bgcolor": "#E5ECF6",
           "aaxis": {
            "gridcolor": "white",
            "linecolor": "white",
            "ticks": ""
           },
           "baxis": {
            "gridcolor": "white",
            "linecolor": "white",
            "ticks": ""
           },
           "caxis": {
            "gridcolor": "white",
            "linecolor": "white",
            "ticks": ""
           }
          },
          "coloraxis": {
           "colorbar": {
            "outlinewidth": 0,
            "ticks": ""
           }
          },
          "colorscale": {
           "sequential": [
            [
             0,
             "#0d0887"
            ],
            [
             0.1111111111111111,
             "#46039f"
            ],
            [
             0.2222222222222222,
             "#7201a8"
            ],
            [
             0.3333333333333333,
             "#9c179e"
            ],
            [
             0.4444444444444444,
             "#bd3786"
            ],
            [
             0.5555555555555556,
             "#d8576b"
            ],
            [
             0.6666666666666666,
             "#ed7953"
            ],
            [
             0.7777777777777778,
             "#fb9f3a"
            ],
            [
             0.8888888888888888,
             "#fdca26"
            ],
            [
             1,
             "#f0f921"
            ]
           ],
           "sequentialminus": [
            [
             0,
             "#0d0887"
            ],
            [
             0.1111111111111111,
             "#46039f"
            ],
            [
             0.2222222222222222,
             "#7201a8"
            ],
            [
             0.3333333333333333,
             "#9c179e"
            ],
            [
             0.4444444444444444,
             "#bd3786"
            ],
            [
             0.5555555555555556,
             "#d8576b"
            ],
            [
             0.6666666666666666,
             "#ed7953"
            ],
            [
             0.7777777777777778,
             "#fb9f3a"
            ],
            [
             0.8888888888888888,
             "#fdca26"
            ],
            [
             1,
             "#f0f921"
            ]
           ],
           "diverging": [
            [
             0,
             "#8e0152"
            ],
            [
             0.1,
             "#c51b7d"
            ],
            [
             0.2,
             "#de77ae"
            ],
            [
             0.3,
             "#f1b6da"
            ],
            [
             0.4,
             "#fde0ef"
            ],
            [
             0.5,
             "#f7f7f7"
            ],
            [
             0.6,
             "#e6f5d0"
            ],
            [
             0.7,
             "#b8e186"
            ],
            [
             0.8,
             "#7fbc41"
            ],
            [
             0.9,
             "#4d9221"
            ],
            [
             1,
             "#276419"
            ]
           ]
          },
          "xaxis": {
           "gridcolor": "white",
           "linecolor": "white",
           "ticks": "",
           "title": {
            "standoff": 15
           },
           "zerolinecolor": "white",
           "automargin": true,
           "zerolinewidth": 2
          },
          "yaxis": {
           "gridcolor": "white",
           "linecolor": "white",
           "ticks": "",
           "title": {
            "standoff": 15
           },
           "zerolinecolor": "white",
           "automargin": true,
           "zerolinewidth": 2
          },
          "scene": {
           "xaxis": {
            "backgroundcolor": "#E5ECF6",
            "gridcolor": "white",
            "linecolor": "white",
            "showbackground": true,
            "ticks": "",
            "zerolinecolor": "white",
            "gridwidth": 2
           },
           "yaxis": {
            "backgroundcolor": "#E5ECF6",
            "gridcolor": "white",
            "linecolor": "white",
            "showbackground": true,
            "ticks": "",
            "zerolinecolor": "white",
            "gridwidth": 2
           },
           "zaxis": {
            "backgroundcolor": "#E5ECF6",
            "gridcolor": "white",
            "linecolor": "white",
            "showbackground": true,
            "ticks": "",
            "zerolinecolor": "white",
            "gridwidth": 2
           }
          },
          "shapedefaults": {
           "line": {
            "color": "#2a3f5f"
           }
          },
          "annotationdefaults": {
           "arrowcolor": "#2a3f5f",
           "arrowhead": 0,
           "arrowwidth": 1
          },
          "geo": {
           "bgcolor": "white",
           "landcolor": "#E5ECF6",
           "subunitcolor": "white",
           "showland": true,
           "showlakes": true,
           "lakecolor": "white"
          },
          "title": {
           "x": 0.05
          },
          "mapbox": {
           "style": "light"
          }
         }
        },
        "legend": {
         "orientation": "h",
         "yanchor": "top",
         "y": 1.02,
         "xanchor": "left",
         "x": 1
        },
        "margin": {
         "r": 20,
         "l": 10,
         "b": 10,
         "t": 10
        },
        "width": 1000,
        "height": 800,
        "scene": {
         "xaxis": {
          "title": {
           "text": "Energy density new cone (J/cm^2)"
          }
         },
         "yaxis": {
          "title": {
           "text": "Pulse Width (msec)"
          }
         },
         "zaxis": {
          "title": {
           "text": "2 Qsw/(U+|D|) 1e6"
          }
         },
         "camera": {
          "up": {
           "x": 0,
           "y": 0,
           "z": 1
          },
          "center": {
           "x": 0,
           "y": 0,
           "z": 0
          },
          "eye": {
           "x": -2,
           "y": -2.5,
           "z": 1.75
          }
         }
        }
       },
       "config": {
        "plotlyServerURL": "https://plot.ly"
       }
      }
     },
     "metadata": {}
    },
    {
     "output_type": "display_data",
     "data": {
      "application/vnd.plotly.v1+json": {
       "data": [
        {
         "opacity": 0.5,
         "showscale": false,
         "x": [
          2.276071548461914,
          2.745652675628662,
          3.2152342796325684,
          3.6848154067993164,
          4.1543965339660645,
          4.6239776611328125,
          5.093559265136719,
          5.563140392303467,
          6.032721519470215,
          6.502303123474121,
          6.971884250640869,
          7.441465377807617,
          7.911046504974365,
          8.380627632141113,
          8.85020923614502,
          9.319790840148926,
          9.789371490478516,
          10.258953094482422,
          10.728534698486328,
          11.198115348815918,
          11.667696952819824,
          12.137277603149414,
          12.60685920715332,
          13.076440811157227,
          13.546022415161133,
          14.015603065490723,
          14.485183715820312,
          14.954765319824219,
          15.424346923828125,
          15.893928527832031
         ],
         "y": [
          0.3392857313156128,
          0.5055418014526367,
          0.6717979907989502,
          0.8380541801452637,
          1.0043102502822876,
          1.170566439628601,
          1.336822509765625,
          1.5030786991119385,
          1.669334888458252,
          1.8355910778045654,
          2.001847267150879,
          2.1681032180786133,
          2.3343594074249268,
          2.5006155967712402,
          2.6668717861175537,
          2.833127975463867,
          2.9993841648101807,
          3.1656405925750732,
          3.3318967819213867,
          3.498152732849121,
          3.6644089221954346,
          3.830665111541748,
          3.9969213008880615,
          4.163177490234375,
          4.329433441162109,
          4.495689392089844,
          4.661945819854736,
          4.828202247619629,
          4.994458198547363,
          5.160714149475098
         ],
         "z": [
          [
           8.569938659667969,
           7.672372817993164,
           8.599295616149902,
           8.589069366455078,
           8.523874282836914,
           7.73757266998291,
           8.039811134338379,
           8.785231590270996,
           8.575312614440918,
           8.575372695922852,
           8.575292587280273,
           8.575296401977539,
           8.575321197509766,
           8.575292587280273,
           8.575292587280273,
           8.575292587280273,
           8.575292587280273,
           8.575292587280273,
           8.575292587280273,
           8.575292587280273,
           8.575292587280273,
           8.575292587280273,
           8.575292587280273,
           8.575292587280273,
           8.575292587280273,
           8.575292587280273,
           8.575292587280273,
           8.575292587280273,
           8.575292587280273,
           8.575292587280273
          ],
          [
           8.565890312194824,
           6.816472053527832,
           8.585138320922852,
           8.593809127807617,
           8.484599113464355,
           7.008309364318848,
           7.550135612487793,
           8.909737586975098,
           8.575429916381836,
           8.58056926727295,
           8.575349807739258,
           8.575520515441895,
           8.577205657958984,
           8.575292587280273,
           8.575292587280273,
           8.575292587280273,
           8.575292587280273,
           8.575292587280273,
           8.575292587280273,
           8.575292587280273,
           8.575292587280273,
           8.575292587280273,
           8.575292587280273,
           8.575292587280273,
           8.575292587280273,
           8.575292587280273,
           8.575292587280273,
           8.575292587280273,
           8.575292587280273,
           8.575292587280273
          ],
          [
           8.570351600646973,
           7.7511701583862305,
           8.599148750305176,
           8.538460731506348,
           8.525343894958496,
           7.8073883056640625,
           8.085648536682129,
           8.770849227905273,
           8.577362060546875,
           8.676261901855469,
           8.57602596282959,
           8.579753875732422,
           8.6116304397583,
           8.575299263000488,
           8.575292587280273,
           8.575292587280273,
           8.575292587280273,
           8.575292587280273,
           8.575292587280273,
           8.575292587280273,
           8.575292587280273,
           8.575292587280273,
           8.575292587280273,
           8.575292587280273,
           8.575292587280273,
           8.575292587280273,
           8.575292587280273,
           8.575292587280273,
           8.575292587280273,
           8.575292587280273
          ],
          [
           8.57451343536377,
           8.459460258483887,
           8.581669807434082,
           8.223502159118652,
           8.552837371826172,
           8.462234497070312,
           8.505191802978516,
           8.609038352966309,
           8.587368965148926,
           9.08328628540039,
           8.567853927612305,
           8.60106086730957,
           8.750337600708008,
           8.575335502624512,
           8.575373649597168,
           8.575302124023438,
           8.575292587280273,
           8.575292587280273,
           8.575292587280273,
           8.575292587280273,
           8.575292587280273,
           8.575292587280273,
           8.575292587280273,
           8.575292587280273,
           8.575292587280273,
           8.575292587280273,
           8.575292587280273,
           8.575292587280273,
           8.575292587280273,
           8.575292587280273
          ],
          [
           8.575255393981934,
           8.569929122924805,
           8.575403213500977,
           7.846539497375488,
           8.548117637634277,
           8.5700101852417,
           8.572696685791016,
           8.578269958496094,
           8.596604347229004,
           9.324106216430664,
           8.542716026306152,
           8.619989395141602,
           8.819280624389648,
           8.575370788574219,
           8.580686569213867,
           8.575915336608887,
           8.575292587280273,
           8.575292587280273,
           8.575292587280273,
           8.575292587280273,
           8.575292587280273,
           8.575292587280273,
           8.575292587280273,
           8.575292587280273,
           8.575292587280273,
           8.575292587280273,
           8.575292587280273,
           8.575292587280273,
           8.575292587280273,
           8.575292587280273
          ],
          [
           8.575291633605957,
           8.575216293334961,
           8.575181007385254,
           8.24677848815918,
           8.56120491027832,
           8.575217247009277,
           8.588269233703613,
           8.601806640625,
           8.586638450622559,
           9.058623313903809,
           8.569110870361328,
           8.59953784942627,
           8.742454528808594,
           8.57535457611084,
           8.681105613708496,
           8.587650299072266,
           8.575292587280273,
           8.575292587280273,
           8.575292587280273,
           8.575292587280273,
           8.575292587280273,
           8.575292587280273,
           8.575292587280273,
           8.575292587280273,
           8.575292587280273,
           8.575292587280273,
           8.575292587280273,
           8.575292587280273,
           8.575292587280273,
           8.575292587280273
          ],
          [
           8.575292587280273,
           8.575291633605957,
           8.575273513793945,
           8.531598091125488,
           8.573074340820312,
           8.575292587280273,
           8.649568557739258,
           8.719276428222656,
           8.57711124420166,
           8.664719581604004,
           8.575982093811035,
           8.579232215881348,
           8.607504844665527,
           8.575420379638672,
           9.165753364562988,
           8.648233413696289,
           8.575294494628906,
           8.57532787322998,
           8.575296401977539,
           8.575318336486816,
           8.575292587280273,
           8.575292587280273,
           8.575292587280273,
           8.575292587280273,
           8.575292587280273,
           8.575292587280273,
           8.575292587280273,
           8.575292587280273,
           8.575292587280273,
           8.575292587280273
          ],
          [
           8.575292587280273,
           8.575292587280273,
           8.575291633605957,
           8.573280334472656,
           8.575186729431152,
           8.575294494628906,
           8.70242691040039,
           8.80908203125,
           8.575392723083496,
           8.579669952392578,
           8.575339317321777,
           8.575481414794922,
           8.576879501342773,
           8.575035095214844,
           9.55550479888916,
           8.697491645812988,
           8.575407028198242,
           8.57764720916748,
           8.575570106506348,
           8.577044486999512,
           8.575292587280273,
           8.575292587280273,
           8.575292587280273,
           8.575292587280273,
           8.575292587280273,
           8.575292587280273,
           8.575292587280273,
           8.575292587280273,
           8.575292587280273,
           8.575292587280273
          ],
          [
           8.575292587280273,
           8.575292587280273,
           8.575292587280273,
           8.575263023376465,
           8.575291633605957,
           8.575292587280273,
           8.64649486541748,
           8.713691711425781,
           8.575301170349121,
           8.575355529785156,
           8.575292587280273,
           8.575294494628906,
           8.575315475463867,
           8.56566047668457,
           9.008601188659668,
           8.495020866394043,
           8.577571868896484,
           8.620808601379395,
           8.580607414245605,
           8.609811782836914,
           8.575294494628906,
           8.575292587280273,
           8.575292587280273,
           8.575292587280273,
           8.575292587280273,
           8.575292587280273,
           8.575292587280273,
           8.575292587280273,
           8.575292587280273,
           8.575292587280273
          ],
          [
           8.575292587280273,
           8.575292587280273,
           8.575292587280273,
           8.575292587280273,
           8.575292587280273,
           8.575292587280273,
           8.587212562561035,
           8.599559783935547,
           8.57529354095459,
           8.575292587280273,
           8.575292587280273,
           8.575292587280273,
           8.575292587280273,
           8.51644229888916,
           7.820589065551758,
           7.600238800048828,
           8.588592529296875,
           8.796287536621094,
           8.600048065185547,
           8.764665603637695,
           8.575305938720703,
           8.575292587280273,
           8.575292587280273,
           8.575292587280273,
           8.575292587280273,
           8.575292587280273,
           8.575292587280273,
           8.575292587280273,
           8.575292587280273,
           8.575292587280273
          ],
          [
           8.575292587280273,
           8.575292587280273,
           8.575292587280273,
           8.575292587280273,
           8.575292587280273,
           8.575292587280273,
           8.575870513916016,
           8.5764799118042,
           8.575292587280273,
           8.575292587280273,
           8.575292587280273,
           8.575292587280273,
           8.575292587280273,
           8.468757629394531,
           6.957420349121094,
           6.646455764770508,
           8.598572731018066,
           8.880263328552246,
           8.607427597045898,
           8.88504409790039,
           8.5753173828125,
           8.575292587280273,
           8.575292587280273,
           8.575292587280273,
           8.575292587280273,
           8.575292587280273,
           8.575292587280273,
           8.575292587280273,
           8.575292587280273,
           8.575292587280273
          ],
          [
           8.575292587280273,
           8.575292587280273,
           8.575292587280273,
           8.575292587280273,
           8.575292587280273,
           8.575292587280273,
           8.575301170349121,
           8.575309753417969,
           8.575292587280273,
           8.575292587280273,
           8.575292587280273,
           8.575292587280273,
           8.575292587280273,
           8.517985343933105,
           7.747798919677734,
           7.617621421813965,
           8.588253021240234,
           8.792082786560059,
           8.599616050720215,
           8.760222434997559,
           8.575305938720703,
           8.575292587280273,
           8.575292587280273,
           8.575292587280273,
           8.575292587280273,
           8.575292587280273,
           8.575292587280273,
           8.575292587280273,
           8.575292587280273,
           8.575292587280273
          ],
          [
           8.575292587280273,
           8.575292587280273,
           8.575292587280273,
           8.575292587280273,
           8.575292587280273,
           8.575292587280273,
           8.575292587280273,
           8.575292587280273,
           8.575292587280273,
           8.575292587280273,
           8.575292587280273,
           8.575292587280273,
           8.575292587280273,
           8.566046714782715,
           8.448845863342285,
           8.43309211730957,
           8.57745361328125,
           8.618521690368652,
           8.580342292785645,
           8.60804271697998,
           8.575294494628906,
           8.575292587280273,
           8.575292587280273,
           8.575292587280273,
           8.575292587280273,
           8.575292587280273,
           8.575292587280273,
           8.575292587280273,
           8.575292587280273,
           8.575292587280273
          ],
          [
           8.575292587280273,
           8.575292587280273,
           8.575292587280273,
           8.575292587280273,
           8.575292587280273,
           8.575292587280273,
           8.575292587280273,
           8.575292587280273,
           8.575292587280273,
           8.575292587280273,
           8.575292587280273,
           8.575292587280273,
           8.575292587280273,
           8.574843406677246,
           8.569214820861816,
           8.568495750427246,
           8.575398445129395,
           8.577466011047363,
           8.57554817199707,
           8.576909065246582,
           8.575292587280273,
           8.575292587280273,
           8.575292587280273,
           8.575292587280273,
           8.575292587280273,
           8.575292587280273,
           8.575292587280273,
           8.575292587280273,
           8.575292587280273,
           8.575292587280273
          ],
          [
           8.575292587280273,
           8.575292587280273,
           8.575292587280273,
           8.575292587280273,
           8.575292587280273,
           8.575292587280273,
           8.575292587280273,
           8.575292587280273,
           8.575292587280273,
           8.575292587280273,
           8.575292587280273,
           8.575292587280273,
           8.575292587280273,
           8.575285911560059,
           8.575203895568848,
           8.575193405151367,
           8.575294494628906,
           8.575324058532715,
           8.575296401977539,
           8.575316429138184,
           8.575292587280273,
           8.575292587280273,
           8.575292587280273,
           8.575292587280273,
           8.575292587280273,
           8.575292587280273,
           8.575292587280273,
           8.575292587280273,
           8.575292587280273,
           8.575292587280273
          ],
          [
           8.575292587280273,
           8.575292587280273,
           8.575292587280273,
           8.575292587280273,
           8.575292587280273,
           8.575292587280273,
           8.575292587280273,
           8.575292587280273,
           8.575292587280273,
           8.575292587280273,
           8.575292587280273,
           8.575292587280273,
           8.575292587280273,
           8.575292587280273,
           8.575291633605957,
           8.575291633605957,
           8.575292587280273,
           8.575292587280273,
           8.575292587280273,
           8.575292587280273,
           8.575292587280273,
           8.575292587280273,
           8.575292587280273,
           8.575292587280273,
           8.575292587280273,
           8.575292587280273,
           8.575292587280273,
           8.575292587280273,
           8.575292587280273,
           8.575292587280273
          ],
          [
           8.575292587280273,
           8.575292587280273,
           8.575292587280273,
           8.575292587280273,
           8.575292587280273,
           8.575292587280273,
           8.575292587280273,
           8.575292587280273,
           8.575292587280273,
           8.575292587280273,
           8.575292587280273,
           8.575292587280273,
           8.575292587280273,
           8.575292587280273,
           8.575292587280273,
           8.575292587280273,
           8.575292587280273,
           8.575292587280273,
           8.575292587280273,
           8.575292587280273,
           8.575292587280273,
           8.575292587280273,
           8.575292587280273,
           8.575292587280273,
           8.575292587280273,
           8.575292587280273,
           8.575292587280273,
           8.575292587280273,
           8.575292587280273,
           8.575292587280273
          ],
          [
           8.575292587280273,
           8.575292587280273,
           8.575292587280273,
           8.575292587280273,
           8.575292587280273,
           8.575292587280273,
           8.575292587280273,
           8.575292587280273,
           8.575292587280273,
           8.575292587280273,
           8.575292587280273,
           8.575292587280273,
           8.575292587280273,
           8.575292587280273,
           8.575292587280273,
           8.575292587280273,
           8.575292587280273,
           8.575292587280273,
           8.575292587280273,
           8.575292587280273,
           8.575292587280273,
           8.575292587280273,
           8.575292587280273,
           8.575292587280273,
           8.575292587280273,
           8.575292587280273,
           8.575292587280273,
           8.575292587280273,
           8.575292587280273,
           8.575292587280273
          ],
          [
           8.575292587280273,
           8.575292587280273,
           8.575292587280273,
           8.575292587280273,
           8.575292587280273,
           8.575292587280273,
           8.575292587280273,
           8.575292587280273,
           8.575292587280273,
           8.575292587280273,
           8.575292587280273,
           8.575292587280273,
           8.575292587280273,
           8.575292587280273,
           8.575292587280273,
           8.575292587280273,
           8.575292587280273,
           8.575292587280273,
           8.575292587280273,
           8.575292587280273,
           8.575292587280273,
           8.575292587280273,
           8.575292587280273,
           8.575292587280273,
           8.575292587280273,
           8.575292587280273,
           8.575292587280273,
           8.575292587280273,
           8.575292587280273,
           8.575292587280273
          ],
          [
           8.575292587280273,
           8.575292587280273,
           8.575292587280273,
           8.575292587280273,
           8.575292587280273,
           8.575292587280273,
           8.575292587280273,
           8.575292587280273,
           8.575292587280273,
           8.575292587280273,
           8.575292587280273,
           8.575292587280273,
           8.575292587280273,
           8.575292587280273,
           8.575292587280273,
           8.575292587280273,
           8.575292587280273,
           8.575292587280273,
           8.575292587280273,
           8.575292587280273,
           8.575292587280273,
           8.575292587280273,
           8.575292587280273,
           8.575292587280273,
           8.575292587280273,
           8.575292587280273,
           8.575292587280273,
           8.575292587280273,
           8.575292587280273,
           8.575292587280273
          ],
          [
           8.575292587280273,
           8.575292587280273,
           8.575292587280273,
           8.575292587280273,
           8.575292587280273,
           8.575292587280273,
           8.575292587280273,
           8.575292587280273,
           8.575292587280273,
           8.575292587280273,
           8.575292587280273,
           8.575292587280273,
           8.575292587280273,
           8.575292587280273,
           8.575292587280273,
           8.575292587280273,
           8.575292587280273,
           8.575292587280273,
           8.575292587280273,
           8.575292587280273,
           8.575292587280273,
           8.575292587280273,
           8.575292587280273,
           8.575292587280273,
           8.575292587280273,
           8.575292587280273,
           8.575292587280273,
           8.575292587280273,
           8.575292587280273,
           8.575292587280273
          ],
          [
           8.575292587280273,
           8.575292587280273,
           8.575292587280273,
           8.575292587280273,
           8.575292587280273,
           8.575292587280273,
           8.575292587280273,
           8.575292587280273,
           8.575292587280273,
           8.575292587280273,
           8.575292587280273,
           8.575292587280273,
           8.575292587280273,
           8.575292587280273,
           8.575292587280273,
           8.575292587280273,
           8.575292587280273,
           8.575292587280273,
           8.575292587280273,
           8.575292587280273,
           8.575292587280273,
           8.575292587280273,
           8.575292587280273,
           8.575292587280273,
           8.575292587280273,
           8.575292587280273,
           8.575292587280273,
           8.575292587280273,
           8.575292587280273,
           8.575292587280273
          ],
          [
           8.575292587280273,
           8.575292587280273,
           8.575292587280273,
           8.575292587280273,
           8.575292587280273,
           8.575292587280273,
           8.575292587280273,
           8.575292587280273,
           8.575292587280273,
           8.575292587280273,
           8.575292587280273,
           8.575292587280273,
           8.575292587280273,
           8.575292587280273,
           8.575292587280273,
           8.575292587280273,
           8.575292587280273,
           8.575292587280273,
           8.575292587280273,
           8.575292587280273,
           8.575292587280273,
           8.575292587280273,
           8.575292587280273,
           8.575292587280273,
           8.575292587280273,
           8.575292587280273,
           8.575292587280273,
           8.575292587280273,
           8.575292587280273,
           8.575292587280273
          ],
          [
           8.575292587280273,
           8.575292587280273,
           8.575292587280273,
           8.575292587280273,
           8.575292587280273,
           8.575292587280273,
           8.575292587280273,
           8.575292587280273,
           8.575292587280273,
           8.575292587280273,
           8.575292587280273,
           8.575292587280273,
           8.575292587280273,
           8.575292587280273,
           8.575292587280273,
           8.575292587280273,
           8.575292587280273,
           8.575292587280273,
           8.575292587280273,
           8.575292587280273,
           8.575292587280273,
           8.575292587280273,
           8.575292587280273,
           8.575292587280273,
           8.575292587280273,
           8.575292587280273,
           8.575292587280273,
           8.575292587280273,
           8.575292587280273,
           8.575292587280273
          ],
          [
           8.575292587280273,
           8.575292587280273,
           8.575292587280273,
           8.575292587280273,
           8.575292587280273,
           8.575292587280273,
           8.575292587280273,
           8.575292587280273,
           8.575292587280273,
           8.575292587280273,
           8.575292587280273,
           8.575292587280273,
           8.575292587280273,
           8.575291633605957,
           8.57524299621582,
           8.575292587280273,
           8.575292587280273,
           8.575292587280273,
           8.575292587280273,
           8.575292587280273,
           8.575292587280273,
           8.575292587280273,
           8.575292587280273,
           8.57529354095459,
           8.575297355651855,
           8.575292587280273,
           8.575319290161133,
           8.575334548950195,
           8.575340270996094,
           8.575292587280273
          ],
          [
           8.575292587280273,
           8.575292587280273,
           8.575292587280273,
           8.575292587280273,
           8.575292587280273,
           8.575292587280273,
           8.575292587280273,
           8.575292587280273,
           8.575292587280273,
           8.575292587280273,
           8.575292587280273,
           8.575292587280273,
           8.575292587280273,
           8.575240135192871,
           8.571797370910645,
           8.575286865234375,
           8.575292587280273,
           8.575292587280273,
           8.575292587280273,
           8.575292587280273,
           8.575292587280273,
           8.575292587280273,
           8.575292587280273,
           8.575380325317383,
           8.575627326965332,
           8.575292587280273,
           8.577177047729492,
           8.578217506408691,
           8.578702926635742,
           8.575316429138184
          ],
          [
           8.575292587280273,
           8.575292587280273,
           8.575292587280273,
           8.575292587280273,
           8.575292587280273,
           8.575292587280273,
           8.575292587280273,
           8.575292587280273,
           8.575292587280273,
           8.575292587280273,
           8.575292587280273,
           8.575292587280273,
           8.575292587280273,
           8.574179649353027,
           8.499180793762207,
           8.575179100036621,
           8.575292587280273,
           8.575292587280273,
           8.575292587280273,
           8.575292587280273,
           8.575292587280273,
           8.575292587280273,
           8.575292587280273,
           8.577118873596191,
           8.581795692443848,
           8.575296401977539,
           8.614568710327148,
           8.634990692138672,
           8.644824028015137,
           8.575788497924805
          ],
          [
           8.575292587280273,
           8.575292587280273,
           8.575292587280273,
           8.575292587280273,
           8.575292587280273,
           8.575292587280273,
           8.575292587280273,
           8.575292587280273,
           8.575292587280273,
           8.575292587280273,
           8.575292587280273,
           8.575292587280273,
           8.575292587280273,
           8.568219184875488,
           8.012354850769043,
           8.574572563171387,
           8.575292587280273,
           8.575292587280273,
           8.575292587280273,
           8.575292587280273,
           8.575292587280273,
           8.575292587280273,
           8.575292587280273,
           8.58547306060791,
           8.596315383911133,
           8.575315475463867,
           8.804892539978027,
           8.877655982971191,
           8.925860404968262,
           8.578377723693848
          ],
          [
           8.575292587280273,
           8.575292587280273,
           8.575292587280273,
           8.575292587280273,
           8.575292587280273,
           8.575292587280273,
           8.575292587280273,
           8.575292587280273,
           8.575292587280273,
           8.575292587280273,
           8.575292587280273,
           8.575292587280273,
           8.575292587280273,
           8.561811447143555,
           7.334228515625,
           8.573923110961914,
           8.575292587280273,
           8.575292587280273,
           8.575292587280273,
           8.575292587280273,
           8.575292587280273,
           8.575292587280273,
           8.575292587280273,
           8.591805458068848,
           8.573780059814453,
           8.575336456298828,
           8.97202205657959,
           8.989134788513184,
           9.049455642700195,
           8.581252098083496
          ],
          [
           8.575292587280273,
           8.575292587280273,
           8.575292587280273,
           8.575292587280273,
           8.575292587280273,
           8.575292587280273,
           8.575292587280273,
           8.575292587280273,
           8.575292587280273,
           8.575292587280273,
           8.575292587280273,
           8.575292587280273,
           8.575292587280273,
           8.567625999450684,
           7.956480026245117,
           8.574511528015137,
           8.575292587280273,
           8.575292587280273,
           8.575292587280273,
           8.575292587280273,
           8.575292587280273,
           8.575292587280273,
           8.575292587280273,
           8.586173057556152,
           8.595892906188965,
           8.5753173828125,
           8.821979522705078,
           8.894614219665527,
           8.94530963897705,
           8.578639030456543
          ]
         ],
         "type": "surface"
        },
        {
         "opacity": 0.2,
         "showscale": false,
         "x": [
          2.276071548461914,
          2.745652675628662,
          3.2152342796325684,
          3.6848154067993164,
          4.1543965339660645,
          4.6239776611328125,
          5.093559265136719,
          5.563140392303467,
          6.032721519470215,
          6.502303123474121,
          6.971884250640869,
          7.441465377807617,
          7.911046504974365,
          8.380627632141113,
          8.85020923614502,
          9.319790840148926,
          9.789371490478516,
          10.258953094482422,
          10.728534698486328,
          11.198115348815918,
          11.667696952819824,
          12.137277603149414,
          12.60685920715332,
          13.076440811157227,
          13.546022415161133,
          14.015603065490723,
          14.485183715820312,
          14.954765319824219,
          15.424346923828125,
          15.893928527832031
         ],
         "y": [
          0.3392857313156128,
          0.5055418014526367,
          0.6717979907989502,
          0.8380541801452637,
          1.0043102502822876,
          1.170566439628601,
          1.336822509765625,
          1.5030786991119385,
          1.669334888458252,
          1.8355910778045654,
          2.001847267150879,
          2.1681032180786133,
          2.3343594074249268,
          2.5006155967712402,
          2.6668717861175537,
          2.833127975463867,
          2.9993841648101807,
          3.1656405925750732,
          3.3318967819213867,
          3.498152732849121,
          3.6644089221954346,
          3.830665111541748,
          3.9969213008880615,
          4.163177490234375,
          4.329433441162109,
          4.495689392089844,
          4.661945819854736,
          4.828202247619629,
          4.994458198547363,
          5.160714149475098
         ],
         "z": [
          [
           -3.692121744155884,
           -4.338544845581055,
           -3.6144707202911377,
           -3.668036699295044,
           -3.737642526626587,
           -4.381198883056641,
           -4.095842361450195,
           -3.4261972904205322,
           -3.686757802963257,
           -3.6866981983184814,
           -3.6867778301239014,
           -3.686774969100952,
           -3.686749219894409,
           -3.6867783069610596,
           -3.6867783069610596,
           -3.6867783069610596,
           -3.6867783069610596,
           -3.6867783069610596,
           -3.6867783069610596,
           -3.6867783069610596,
           -3.6867783069610596,
           -3.6867783069610596,
           -3.6867783069610596,
           -3.6867783069610596,
           -3.6867783069610596,
           -3.6867783069610596,
           -3.6867783069610596,
           -3.6867783069610596,
           -3.6867783069610596,
           -3.6867783069610596
          ],
          [
           -3.6961452960968018,
           -4.655184745788574,
           -3.5276896953582764,
           -3.652963399887085,
           -3.7757670879364014,
           -4.807294845581055,
           -4.318596839904785,
           -3.195817708969116,
           -3.686640501022339,
           -3.6814868450164795,
           -3.6867196559906006,
           -3.6865503787994385,
           -3.68485951423645,
           -3.6867778301239014,
           -3.6867783069610596,
           -3.6867783069610596,
           -3.6867783069610596,
           -3.6867783069610596,
           -3.6867783069610596,
           -3.6867783069610596,
           -3.6867783069610596,
           -3.6867783069610596,
           -3.6867783069610596,
           -3.6867783069610596,
           -3.6867783069610596,
           -3.6867783069610596,
           -3.6867783069610596,
           -3.6867783069610596,
           -3.6867783069610596,
           -3.6867783069610596
          ],
          [
           -3.691709280014038,
           -4.29734992980957,
           -3.6217877864837646,
           -3.7152230739593506,
           -3.7362430095672607,
           -4.332755088806152,
           -4.0688371658325195,
           -3.448106050491333,
           -3.6847074031829834,
           -3.579796552658081,
           -3.685231924057007,
           -3.6822798252105713,
           -3.6477296352386475,
           -3.6867711544036865,
           -3.6867778301239014,
           -3.6867783069610596,
           -3.6867783069610596,
           -3.6867783069610596,
           -3.6867783069610596,
           -3.6867783069610596,
           -3.6867783069610596,
           -3.6867783069610596,
           -3.6867783069610596,
           -3.6867783069610596,
           -3.6867783069610596,
           -3.6867783069610596,
           -3.6867783069610596,
           -3.6867783069610596,
           -3.6867783069610596,
           -3.6867783069610596
          ],
          [
           -3.6875569820404053,
           -3.7973387241363525,
           -3.67937970161438,
           -3.892885446548462,
           -3.70882248878479,
           -3.7968156337738037,
           -3.754211664199829,
           -3.6519615650177,
           -3.6746203899383545,
           -2.9676530361175537,
           -3.6658847332000732,
           -3.659677743911743,
           -3.416963815689087,
           -3.686734914779663,
           -3.686696767807007,
           -3.6867687702178955,
           -3.6867783069610596,
           -3.6867783069610596,
           -3.6867783069610596,
           -3.6867783069610596,
           -3.6867783069610596,
           -3.6867783069610596,
           -3.6867783069610596,
           -3.6867783069610596,
           -3.6867783069610596,
           -3.6867783069610596,
           -3.6867783069610596,
           -3.6867783069610596,
           -3.6867783069610596,
           -3.6867783069610596
          ],
          [
           -3.6868155002593994,
           -3.6921308040618896,
           -3.6866657733917236,
           -3.9535629749298096,
           -3.7126996517181396,
           -3.692054510116577,
           -3.689368486404419,
           -3.6837971210479736,
           -3.665212869644165,
           -2.2637827396392822,
           -3.630388021469116,
           -3.6379048824310303,
           -3.143432855606079,
           -3.6867005825042725,
           -3.681377649307251,
           -3.686155080795288,
           -3.6867783069610596,
           -3.6867783069610596,
           -3.6867783069610596,
           -3.6867783069610596,
           -3.6867783069610596,
           -3.6867783069610596,
           -3.6867783069610596,
           -3.6867783069610596,
           -3.6867783069610596,
           -3.6867783069610596,
           -3.6867783069610596,
           -3.6867783069610596,
           -3.6867783069610596,
           -3.6867783069610596
          ],
          [
           -3.686779260635376,
           -3.686854600906372,
           -3.6868903636932373,
           -3.8868796825408936,
           -3.7005131244659424,
           -3.6868536472320557,
           -3.673581838607788,
           -3.659334421157837,
           -3.675360918045044,
           -3.017303705215454,
           -3.6679556369781494,
           -3.661356210708618,
           -3.43601393699646,
           -3.686716318130493,
           -3.5783040523529053,
           -3.6743857860565186,
           -3.6867783069610596,
           -3.6867783069610596,
           -3.6867783069610596,
           -3.6867783069610596,
           -3.6867783069610596,
           -3.6867783069610596,
           -3.6867783069610596,
           -3.6867783069610596,
           -3.6867783069610596,
           -3.6867783069610596,
           -3.6867783069610596,
           -3.6867783069610596,
           -3.6867783069610596,
           -3.6867783069610596
          ],
          [
           -3.6867783069610596,
           -3.686779260635376,
           -3.6867973804473877,
           -3.727236032485962,
           -3.688987970352173,
           -3.6867778301239014,
           -3.6046717166900635,
           -3.50976824760437,
           -3.6849582195281982,
           -3.5926687717437744,
           -3.6854560375213623,
           -3.682810068130493,
           -3.652454137802124,
           -3.6866509914398193,
           -3.001586675643921,
           -3.6125786304473877,
           -3.6867763996124268,
           -3.6867434978485107,
           -3.6867740154266357,
           -3.6867525577545166,
           -3.6867783069610596,
           -3.6867783069610596,
           -3.6867783069610596,
           -3.6867783069610596,
           -3.6867783069610596,
           -3.6867783069610596,
           -3.6867783069610596,
           -3.6867783069610596,
           -3.6867783069610596,
           -3.6867783069610596
          ],
          [
           -3.6867783069610596,
           -3.6867783069610596,
           -3.686779260635376,
           -3.68878436088562,
           -3.6868841648101807,
           -3.6867763996124268,
           -3.534654378890991,
           -3.3473551273345947,
           -3.686678171157837,
           -3.682391881942749,
           -3.686730146408081,
           -3.6865899562835693,
           -3.685187578201294,
           -3.687035322189331,
           -2.4018685817718506,
           -3.560551881790161,
           -3.6866633892059326,
           -3.684415102005005,
           -3.6865007877349854,
           -3.6850240230560303,
           -3.6867783069610596,
           -3.6867783069610596,
           -3.6867783069610596,
           -3.6867783069610596,
           -3.6867783069610596,
           -3.6867783069610596,
           -3.6867783069610596,
           -3.6867783069610596,
           -3.6867783069610596,
           -3.6867783069610596
          ],
          [
           -3.6867783069610596,
           -3.6867783069610596,
           -3.6867783069610596,
           -3.68680739402771,
           -3.686779737472534,
           -3.6867778301239014,
           -3.608412981033325,
           -3.5181710720062256,
           -3.68677020072937,
           -3.6867153644561768,
           -3.6867778301239014,
           -3.6867759227752686,
           -3.686755418777466,
           -3.696392297744751,
           -3.1635658740997314,
           -3.7603471279144287,
           -3.6844732761383057,
           -3.6377975940704346,
           -3.680988073348999,
           -3.6510655879974365,
           -3.6867759227752686,
           -3.6867783069610596,
           -3.6867783069610596,
           -3.6867783069610596,
           -3.6867783069610596,
           -3.6867783069610596,
           -3.6867783069610596,
           -3.6867783069610596,
           -3.6867783069610596,
           -3.6867783069610596
          ],
          [
           -3.6867783069610596,
           -3.6867783069610596,
           -3.6867783069610596,
           -3.6867783069610596,
           -3.6867783069610596,
           -3.6867783069610596,
           -3.6746742725372314,
           -3.661733388900757,
           -3.686777353286743,
           -3.6867783069610596,
           -3.6867783069610596,
           -3.6867783069610596,
           -3.6867783069610596,
           -3.7449791431427,
           -4.320056915283203,
           -4.459860801696777,
           -3.6725351810455322,
           -3.3401029109954834,
           -3.644819974899292,
           -3.454256772994995,
           -3.6867644786834717,
           -3.6867783069610596,
           -3.6867783069610596,
           -3.6867783069610596,
           -3.6867783069610596,
           -3.6867783069610596,
           -3.6867783069610596,
           -3.6867783069610596,
           -3.6867783069610596,
           -3.6867783069610596
          ],
          [
           -3.6867783069610596,
           -3.6867783069610596,
           -3.6867783069610596,
           -3.6867783069610596,
           -3.6867783069610596,
           -3.6867783069610596,
           -3.686199903488159,
           -3.6855900287628174,
           -3.6867783069610596,
           -3.6867783069610596,
           -3.6867783069610596,
           -3.6867783069610596,
           -3.6867783069610596,
           -3.791203737258911,
           -4.913341522216797,
           -4.947266578674316,
           -3.6604340076446533,
           -2.9689738750457764,
           -3.5987117290496826,
           -3.236396551132202,
           -3.686753034591675,
           -3.6867783069610596,
           -3.6867783069610596,
           -3.6867783069610596,
           -3.6867783069610596,
           -3.6867783069610596,
           -3.6867783069610596,
           -3.6867783069610596,
           -3.6867783069610596,
           -3.6867783069610596
          ],
          [
           -3.6867783069610596,
           -3.6867783069610596,
           -3.6867783069610596,
           -3.6867783069610596,
           -3.6867783069610596,
           -3.6867783069610596,
           -3.68677020072937,
           -3.6867616176605225,
           -3.6867783069610596,
           -3.6867783069610596,
           -3.6867783069610596,
           -3.6867783069610596,
           -3.6867783069610596,
           -3.7434699535369873,
           -4.401311874389648,
           -4.453113555908203,
           -3.6729233264923096,
           -3.350890874862671,
           -3.6461493968963623,
           -3.460952043533325,
           -3.6867644786834717,
           -3.6867783069610596,
           -3.6867783069610596,
           -3.6867783069610596,
           -3.6867783069610596,
           -3.6867783069610596,
           -3.6867783069610596,
           -3.6867783069610596,
           -3.6867783069610596,
           -3.6867783069610596
          ],
          [
           -3.6867783069610596,
           -3.6867783069610596,
           -3.6867783069610596,
           -3.6867783069610596,
           -3.6867783069610596,
           -3.6867783069610596,
           -3.6867783069610596,
           -3.6867783069610596,
           -3.6867783069610596,
           -3.6867783069610596,
           -3.6867783069610596,
           -3.6867783069610596,
           -3.6867783069610596,
           -3.6960084438323975,
           -3.810271978378296,
           -3.8239920139312744,
           -3.684593915939331,
           -3.6404354572296143,
           -3.6813018321990967,
           -3.65295672416687,
           -3.6867759227752686,
           -3.6867783069610596,
           -3.6867783069610596,
           -3.6867783069610596,
           -3.6867783069610596,
           -3.6867783069610596,
           -3.6867783069610596,
           -3.6867783069610596,
           -3.6867783069610596,
           -3.6867783069610596
          ],
          [
           -3.6867783069610596,
           -3.6867783069610596,
           -3.6867783069610596,
           -3.6867783069610596,
           -3.6867783069610596,
           -3.6867783069610596,
           -3.6867783069610596,
           -3.6867783069610596,
           -3.6867783069610596,
           -3.6867783069610596,
           -3.6867783069610596,
           -3.6867783069610596,
           -3.6867783069610596,
           -3.687227487564087,
           -3.692850351333618,
           -3.6935641765594482,
           -3.6866724491119385,
           -3.684598207473755,
           -3.6865227222442627,
           -3.68515944480896,
           -3.6867783069610596,
           -3.6867783069610596,
           -3.6867783069610596,
           -3.6867783069610596,
           -3.6867783069610596,
           -3.6867783069610596,
           -3.6867783069610596,
           -3.6867783069610596,
           -3.6867783069610596,
           -3.6867783069610596
          ],
          [
           -3.6867783069610596,
           -3.6867783069610596,
           -3.6867783069610596,
           -3.6867783069610596,
           -3.6867783069610596,
           -3.6867783069610596,
           -3.6867783069610596,
           -3.6867783069610596,
           -3.6867783069610596,
           -3.6867783069610596,
           -3.6867783069610596,
           -3.6867783069610596,
           -3.6867783069610596,
           -3.6867849826812744,
           -3.686866521835327,
           -3.686877489089966,
           -3.6867763996124268,
           -3.68674635887146,
           -3.686774969100952,
           -3.6867549419403076,
           -3.6867783069610596,
           -3.6867783069610596,
           -3.6867783069610596,
           -3.6867783069610596,
           -3.6867783069610596,
           -3.6867783069610596,
           -3.6867783069610596,
           -3.6867783069610596,
           -3.6867783069610596,
           -3.6867783069610596
          ],
          [
           -3.6867783069610596,
           -3.6867783069610596,
           -3.6867783069610596,
           -3.6867783069610596,
           -3.6867783069610596,
           -3.6867783069610596,
           -3.6867783069610596,
           -3.6867783069610596,
           -3.6867783069610596,
           -3.6867783069610596,
           -3.6867783069610596,
           -3.6867783069610596,
           -3.6867783069610596,
           -3.6867783069610596,
           -3.686779260635376,
           -3.686779260635376,
           -3.6867783069610596,
           -3.6867783069610596,
           -3.6867783069610596,
           -3.6867783069610596,
           -3.6867783069610596,
           -3.6867783069610596,
           -3.6867783069610596,
           -3.6867783069610596,
           -3.6867783069610596,
           -3.6867783069610596,
           -3.6867783069610596,
           -3.6867783069610596,
           -3.6867783069610596,
           -3.6867783069610596
          ],
          [
           -3.6867783069610596,
           -3.6867783069610596,
           -3.6867783069610596,
           -3.6867783069610596,
           -3.6867783069610596,
           -3.6867783069610596,
           -3.6867783069610596,
           -3.6867783069610596,
           -3.6867783069610596,
           -3.6867783069610596,
           -3.6867783069610596,
           -3.6867783069610596,
           -3.6867783069610596,
           -3.6867783069610596,
           -3.6867783069610596,
           -3.6867783069610596,
           -3.6867783069610596,
           -3.6867783069610596,
           -3.6867783069610596,
           -3.6867783069610596,
           -3.6867783069610596,
           -3.6867783069610596,
           -3.6867783069610596,
           -3.6867783069610596,
           -3.6867783069610596,
           -3.6867783069610596,
           -3.6867783069610596,
           -3.6867783069610596,
           -3.6867783069610596,
           -3.6867783069610596
          ],
          [
           -3.6867783069610596,
           -3.6867783069610596,
           -3.6867783069610596,
           -3.6867783069610596,
           -3.6867783069610596,
           -3.6867783069610596,
           -3.6867783069610596,
           -3.6867783069610596,
           -3.6867783069610596,
           -3.6867783069610596,
           -3.6867783069610596,
           -3.6867783069610596,
           -3.6867783069610596,
           -3.6867783069610596,
           -3.6867783069610596,
           -3.6867783069610596,
           -3.6867783069610596,
           -3.6867783069610596,
           -3.6867783069610596,
           -3.6867783069610596,
           -3.6867783069610596,
           -3.6867783069610596,
           -3.6867783069610596,
           -3.6867783069610596,
           -3.6867783069610596,
           -3.6867783069610596,
           -3.6867783069610596,
           -3.6867783069610596,
           -3.6867783069610596,
           -3.6867783069610596
          ],
          [
           -3.6867783069610596,
           -3.6867783069610596,
           -3.6867783069610596,
           -3.6867783069610596,
           -3.6867783069610596,
           -3.6867783069610596,
           -3.6867783069610596,
           -3.6867783069610596,
           -3.6867783069610596,
           -3.6867783069610596,
           -3.6867783069610596,
           -3.6867783069610596,
           -3.6867783069610596,
           -3.6867783069610596,
           -3.6867783069610596,
           -3.6867783069610596,
           -3.6867783069610596,
           -3.6867783069610596,
           -3.6867783069610596,
           -3.6867783069610596,
           -3.6867783069610596,
           -3.6867783069610596,
           -3.6867783069610596,
           -3.6867783069610596,
           -3.6867783069610596,
           -3.6867783069610596,
           -3.6867783069610596,
           -3.6867783069610596,
           -3.6867783069610596,
           -3.6867783069610596
          ],
          [
           -3.6867783069610596,
           -3.6867783069610596,
           -3.6867783069610596,
           -3.6867783069610596,
           -3.6867783069610596,
           -3.6867783069610596,
           -3.6867783069610596,
           -3.6867783069610596,
           -3.6867783069610596,
           -3.6867783069610596,
           -3.6867783069610596,
           -3.6867783069610596,
           -3.6867783069610596,
           -3.6867783069610596,
           -3.6867783069610596,
           -3.6867783069610596,
           -3.6867783069610596,
           -3.6867783069610596,
           -3.6867783069610596,
           -3.6867783069610596,
           -3.6867783069610596,
           -3.6867783069610596,
           -3.6867783069610596,
           -3.6867783069610596,
           -3.6867783069610596,
           -3.6867783069610596,
           -3.6867783069610596,
           -3.6867783069610596,
           -3.6867783069610596,
           -3.6867783069610596
          ],
          [
           -3.6867783069610596,
           -3.6867783069610596,
           -3.6867783069610596,
           -3.6867783069610596,
           -3.6867783069610596,
           -3.6867783069610596,
           -3.6867783069610596,
           -3.6867783069610596,
           -3.6867783069610596,
           -3.6867783069610596,
           -3.6867783069610596,
           -3.6867783069610596,
           -3.6867783069610596,
           -3.6867783069610596,
           -3.6867783069610596,
           -3.6867783069610596,
           -3.6867783069610596,
           -3.6867783069610596,
           -3.6867783069610596,
           -3.6867783069610596,
           -3.6867783069610596,
           -3.6867783069610596,
           -3.6867783069610596,
           -3.6867783069610596,
           -3.6867783069610596,
           -3.6867783069610596,
           -3.6867783069610596,
           -3.6867783069610596,
           -3.6867783069610596,
           -3.6867783069610596
          ],
          [
           -3.6867783069610596,
           -3.6867783069610596,
           -3.6867783069610596,
           -3.6867783069610596,
           -3.6867783069610596,
           -3.6867783069610596,
           -3.6867783069610596,
           -3.6867783069610596,
           -3.6867783069610596,
           -3.6867783069610596,
           -3.6867783069610596,
           -3.6867783069610596,
           -3.6867783069610596,
           -3.6867783069610596,
           -3.6867783069610596,
           -3.6867783069610596,
           -3.6867783069610596,
           -3.6867783069610596,
           -3.6867783069610596,
           -3.6867783069610596,
           -3.6867783069610596,
           -3.6867783069610596,
           -3.6867783069610596,
           -3.6867783069610596,
           -3.6867783069610596,
           -3.6867783069610596,
           -3.6867783069610596,
           -3.6867783069610596,
           -3.6867783069610596,
           -3.6867783069610596
          ],
          [
           -3.6867783069610596,
           -3.6867783069610596,
           -3.6867783069610596,
           -3.6867783069610596,
           -3.6867783069610596,
           -3.6867783069610596,
           -3.6867783069610596,
           -3.6867783069610596,
           -3.6867783069610596,
           -3.6867783069610596,
           -3.6867783069610596,
           -3.6867783069610596,
           -3.6867783069610596,
           -3.6867783069610596,
           -3.6867783069610596,
           -3.6867783069610596,
           -3.6867783069610596,
           -3.6867783069610596,
           -3.6867783069610596,
           -3.6867783069610596,
           -3.6867783069610596,
           -3.6867783069610596,
           -3.6867783069610596,
           -3.6867783069610596,
           -3.6867783069610596,
           -3.6867783069610596,
           -3.6867783069610596,
           -3.6867783069610596,
           -3.6867783069610596,
           -3.6867783069610596
          ],
          [
           -3.6867783069610596,
           -3.6867783069610596,
           -3.6867783069610596,
           -3.6867783069610596,
           -3.6867783069610596,
           -3.6867783069610596,
           -3.6867783069610596,
           -3.6867783069610596,
           -3.6867783069610596,
           -3.6867783069610596,
           -3.6867783069610596,
           -3.6867783069610596,
           -3.6867783069610596,
           -3.6867783069610596,
           -3.6867783069610596,
           -3.6867783069610596,
           -3.6867783069610596,
           -3.6867783069610596,
           -3.6867783069610596,
           -3.6867783069610596,
           -3.6867783069610596,
           -3.6867783069610596,
           -3.6867783069610596,
           -3.6867783069610596,
           -3.6867783069610596,
           -3.6867783069610596,
           -3.6867783069610596,
           -3.6867783069610596,
           -3.6867783069610596,
           -3.6867783069610596
          ],
          [
           -3.6867783069610596,
           -3.6867783069610596,
           -3.6867783069610596,
           -3.6867783069610596,
           -3.6867783069610596,
           -3.6867783069610596,
           -3.6867783069610596,
           -3.6867783069610596,
           -3.6867783069610596,
           -3.6867783069610596,
           -3.6867783069610596,
           -3.6867783069610596,
           -3.6867783069610596,
           -3.686779260635376,
           -3.6868278980255127,
           -3.6867783069610596,
           -3.6867783069610596,
           -3.6867783069610596,
           -3.6867783069610596,
           -3.6867783069610596,
           -3.6867783069610596,
           -3.6867783069610596,
           -3.6867783069610596,
           -3.686777353286743,
           -3.6867735385894775,
           -3.6867783069610596,
           -3.6867520809173584,
           -3.686736822128296,
           -3.686730146408081,
           -3.6867778301239014
          ],
          [
           -3.6867783069610596,
           -3.6867783069610596,
           -3.6867783069610596,
           -3.6867783069610596,
           -3.6867783069610596,
           -3.6867783069610596,
           -3.6867783069610596,
           -3.6867783069610596,
           -3.6867783069610596,
           -3.6867783069610596,
           -3.6867783069610596,
           -3.6867783069610596,
           -3.6867783069610596,
           -3.68683123588562,
           -3.6902639865875244,
           -3.686784029006958,
           -3.6867783069610596,
           -3.6867783069610596,
           -3.6867783069610596,
           -3.6867783069610596,
           -3.6867783069610596,
           -3.6867783069610596,
           -3.6867783069610596,
           -3.686690092086792,
           -3.68644118309021,
           -3.6867783069610596,
           -3.68489146232605,
           -3.6838433742523193,
           -3.683357000350952,
           -3.6867549419403076
          ],
          [
           -3.6867783069610596,
           -3.6867783069610596,
           -3.6867783069610596,
           -3.6867783069610596,
           -3.6867783069610596,
           -3.6867783069610596,
           -3.6867783069610596,
           -3.6867783069610596,
           -3.6867783069610596,
           -3.6867783069610596,
           -3.6867783069610596,
           -3.6867783069610596,
           -3.6867783069610596,
           -3.6878912448883057,
           -3.758169412612915,
           -3.68689227104187,
           -3.6867783069610596,
           -3.6867783069610596,
           -3.6867783069610596,
           -3.6867783069610596,
           -3.6867783069610596,
           -3.6867783069610596,
           -3.6867783069610596,
           -3.6848700046539307,
           -3.6790850162506104,
           -3.686774969100952,
           -3.6463634967803955,
           -3.622627019882202,
           -3.6119744777679443,
           -3.68628191947937
          ],
          [
           -3.6867783069610596,
           -3.6867783069610596,
           -3.6867783069610596,
           -3.6867783069610596,
           -3.6867783069610596,
           -3.6867783069610596,
           -3.6867783069610596,
           -3.6867783069610596,
           -3.6867783069610596,
           -3.6867783069610596,
           -3.6867783069610596,
           -3.6867783069610596,
           -3.6867783069610596,
           -3.6938092708587646,
           -4.058628082275391,
           -3.6874983310699463,
           -3.6867783069610596,
           -3.6867783069610596,
           -3.6867783069610596,
           -3.6867783069610596,
           -3.6867783069610596,
           -3.6867783069610596,
           -3.6867783069610596,
           -3.6732871532440186,
           -3.6178243160247803,
           -3.686755418777466,
           -3.411295175552368,
           -3.2041871547698975,
           -3.122659921646118,
           -3.6835758686065674
          ],
          [
           -3.6867783069610596,
           -3.6867783069610596,
           -3.6867783069610596,
           -3.6867783069610596,
           -3.6867783069610596,
           -3.6867783069610596,
           -3.6867783069610596,
           -3.6867783069610596,
           -3.6867783069610596,
           -3.6867783069610596,
           -3.6867783069610596,
           -3.6867783069610596,
           -3.6867783069610596,
           -3.7001049518585205,
           -4.222540855407715,
           -3.6881468296051025,
           -3.6867783069610596,
           -3.6867783069610596,
           -3.6867783069610596,
           -3.6867783069610596,
           -3.6867783069610596,
           -3.6867783069610596,
           -3.6867783069610596,
           -3.6582987308502197,
           -3.5142576694488525,
           -3.686734437942505,
           -3.1234476566314697,
           -2.6087210178375244,
           -2.422200918197632,
           -3.680783987045288
          ],
          [
           -3.6867783069610596,
           -3.6867783069610596,
           -3.6867783069610596,
           -3.6867783069610596,
           -3.6867783069610596,
           -3.6867783069610596,
           -3.6867783069610596,
           -3.6867783069610596,
           -3.6867783069610596,
           -3.6867783069610596,
           -3.6867783069610596,
           -3.6867783069610596,
           -3.6867783069610596,
           -3.6943953037261963,
           -4.080904960632324,
           -3.687558889389038,
           -3.6867783069610596,
           -3.6867783069610596,
           -3.6867783069610596,
           -3.6867783069610596,
           -3.6867783069610596,
           -3.6867783069610596,
           -3.6867783069610596,
           -3.672010660171509,
           -3.6098883152008057,
           -3.686753511428833,
           -3.3862063884735107,
           -3.1555984020233154,
           -3.0656073093414307,
           -3.683311700820923
          ]
         ],
         "type": "surface"
        },
        {
         "marker": {
          "color": "darkgreen"
         },
         "mode": "markers",
         "name": "training data",
         "x": [
          2.7300000190734863,
          3.4000000953674316,
          3.7899999618530273,
          6.440000057220459,
          5.360000133514404,
          8.989999771118164,
          8.800000190734863,
          14.670000076293945,
          5.239999771118164,
          14.890000343322754,
          10.130000114440918,
          4.510000228881836,
          5.369999885559082,
          4.880000114440918,
          6.760000228881836,
          7.769999980926514,
          8.729999542236328,
          9.380000114440918,
          10.479999542236328,
          11.010000228881836,
          14.710000038146973,
          15.4399995803833,
          13.369999885559082
         ],
         "y": [
          0.5,
          0.5,
          1,
          1,
          1.5,
          1.5,
          5,
          5,
          0.5,
          5,
          2,
          0.5,
          0.5,
          0.5,
          1,
          1,
          2,
          2,
          2,
          2,
          5,
          5,
          5
         ],
         "z": [
          0.8730257749557495,
          2.6772446632385254,
          1.6990152597427368,
          3.8050527572631836,
          3.3348562717437744,
          4.535152912139893,
          1.3625102043151855,
          3.8412907123565674,
          1.2013570070266724,
          3.5136520862579346,
          3.4708714485168457,
          0.26329827308654785,
          2.7753403186798096,
          2.591306209564209,
          2.579984426498413,
          3.173818588256836,
          0.13150501251220703,
          0.45116376876831055,
          2.1266398429870605,
          3.468212842941284,
          3.685852527618408,
          3.445655584335327,
          2.6515469551086426
         ],
         "type": "scatter3d"
        },
        {
         "mode": "markers",
         "name": "max(upper confidence bound)",
         "x": [
          8.85020923614502
         ],
         "y": [
          1.5030786991119385
         ],
         "z": [
          2.4442570209503174
         ],
         "type": "scatter3d"
        },
        {
         "mode": "markers",
         "name": "max(thompson)",
         "x": [
          4.6239776611328125
         ],
         "y": [
          1.8355910778045654
         ],
         "z": [
          3.020660161972046
         ],
         "type": "scatter3d"
        },
        {
         "mode": "markers",
         "name": "max(pi)",
         "x": [
          8.85020923614502
         ],
         "y": [
          1.5030786991119385
         ],
         "z": [
          2.4442570209503174
         ],
         "type": "scatter3d"
        },
        {
         "mode": "markers",
         "name": "max(ei)",
         "x": [
          8.85020923614502
         ],
         "y": [
          1.5030786991119385
         ],
         "z": [
          2.4442570209503174
         ],
         "type": "scatter3d"
        },
        {
         "mode": "markers",
         "name": "max(ca)",
         "x": [
          8.85020923614502
         ],
         "y": [
          1.5030786991119385
         ],
         "z": [
          2.4442570209503174
         ],
         "type": "scatter3d"
        }
       ],
       "layout": {
        "template": {
         "data": {
          "histogram2dcontour": [
           {
            "type": "histogram2dcontour",
            "colorbar": {
             "outlinewidth": 0,
             "ticks": ""
            },
            "colorscale": [
             [
              0,
              "#0d0887"
             ],
             [
              0.1111111111111111,
              "#46039f"
             ],
             [
              0.2222222222222222,
              "#7201a8"
             ],
             [
              0.3333333333333333,
              "#9c179e"
             ],
             [
              0.4444444444444444,
              "#bd3786"
             ],
             [
              0.5555555555555556,
              "#d8576b"
             ],
             [
              0.6666666666666666,
              "#ed7953"
             ],
             [
              0.7777777777777778,
              "#fb9f3a"
             ],
             [
              0.8888888888888888,
              "#fdca26"
             ],
             [
              1,
              "#f0f921"
             ]
            ]
           }
          ],
          "choropleth": [
           {
            "type": "choropleth",
            "colorbar": {
             "outlinewidth": 0,
             "ticks": ""
            }
           }
          ],
          "histogram2d": [
           {
            "type": "histogram2d",
            "colorbar": {
             "outlinewidth": 0,
             "ticks": ""
            },
            "colorscale": [
             [
              0,
              "#0d0887"
             ],
             [
              0.1111111111111111,
              "#46039f"
             ],
             [
              0.2222222222222222,
              "#7201a8"
             ],
             [
              0.3333333333333333,
              "#9c179e"
             ],
             [
              0.4444444444444444,
              "#bd3786"
             ],
             [
              0.5555555555555556,
              "#d8576b"
             ],
             [
              0.6666666666666666,
              "#ed7953"
             ],
             [
              0.7777777777777778,
              "#fb9f3a"
             ],
             [
              0.8888888888888888,
              "#fdca26"
             ],
             [
              1,
              "#f0f921"
             ]
            ]
           }
          ],
          "heatmap": [
           {
            "type": "heatmap",
            "colorbar": {
             "outlinewidth": 0,
             "ticks": ""
            },
            "colorscale": [
             [
              0,
              "#0d0887"
             ],
             [
              0.1111111111111111,
              "#46039f"
             ],
             [
              0.2222222222222222,
              "#7201a8"
             ],
             [
              0.3333333333333333,
              "#9c179e"
             ],
             [
              0.4444444444444444,
              "#bd3786"
             ],
             [
              0.5555555555555556,
              "#d8576b"
             ],
             [
              0.6666666666666666,
              "#ed7953"
             ],
             [
              0.7777777777777778,
              "#fb9f3a"
             ],
             [
              0.8888888888888888,
              "#fdca26"
             ],
             [
              1,
              "#f0f921"
             ]
            ]
           }
          ],
          "heatmapgl": [
           {
            "type": "heatmapgl",
            "colorbar": {
             "outlinewidth": 0,
             "ticks": ""
            },
            "colorscale": [
             [
              0,
              "#0d0887"
             ],
             [
              0.1111111111111111,
              "#46039f"
             ],
             [
              0.2222222222222222,
              "#7201a8"
             ],
             [
              0.3333333333333333,
              "#9c179e"
             ],
             [
              0.4444444444444444,
              "#bd3786"
             ],
             [
              0.5555555555555556,
              "#d8576b"
             ],
             [
              0.6666666666666666,
              "#ed7953"
             ],
             [
              0.7777777777777778,
              "#fb9f3a"
             ],
             [
              0.8888888888888888,
              "#fdca26"
             ],
             [
              1,
              "#f0f921"
             ]
            ]
           }
          ],
          "contourcarpet": [
           {
            "type": "contourcarpet",
            "colorbar": {
             "outlinewidth": 0,
             "ticks": ""
            }
           }
          ],
          "contour": [
           {
            "type": "contour",
            "colorbar": {
             "outlinewidth": 0,
             "ticks": ""
            },
            "colorscale": [
             [
              0,
              "#0d0887"
             ],
             [
              0.1111111111111111,
              "#46039f"
             ],
             [
              0.2222222222222222,
              "#7201a8"
             ],
             [
              0.3333333333333333,
              "#9c179e"
             ],
             [
              0.4444444444444444,
              "#bd3786"
             ],
             [
              0.5555555555555556,
              "#d8576b"
             ],
             [
              0.6666666666666666,
              "#ed7953"
             ],
             [
              0.7777777777777778,
              "#fb9f3a"
             ],
             [
              0.8888888888888888,
              "#fdca26"
             ],
             [
              1,
              "#f0f921"
             ]
            ]
           }
          ],
          "surface": [
           {
            "type": "surface",
            "colorbar": {
             "outlinewidth": 0,
             "ticks": ""
            },
            "colorscale": [
             [
              0,
              "#0d0887"
             ],
             [
              0.1111111111111111,
              "#46039f"
             ],
             [
              0.2222222222222222,
              "#7201a8"
             ],
             [
              0.3333333333333333,
              "#9c179e"
             ],
             [
              0.4444444444444444,
              "#bd3786"
             ],
             [
              0.5555555555555556,
              "#d8576b"
             ],
             [
              0.6666666666666666,
              "#ed7953"
             ],
             [
              0.7777777777777778,
              "#fb9f3a"
             ],
             [
              0.8888888888888888,
              "#fdca26"
             ],
             [
              1,
              "#f0f921"
             ]
            ]
           }
          ],
          "mesh3d": [
           {
            "type": "mesh3d",
            "colorbar": {
             "outlinewidth": 0,
             "ticks": ""
            }
           }
          ],
          "scatter": [
           {
            "fillpattern": {
             "fillmode": "overlay",
             "size": 10,
             "solidity": 0.2
            },
            "type": "scatter"
           }
          ],
          "parcoords": [
           {
            "type": "parcoords",
            "line": {
             "colorbar": {
              "outlinewidth": 0,
              "ticks": ""
             }
            }
           }
          ],
          "scatterpolargl": [
           {
            "type": "scatterpolargl",
            "marker": {
             "colorbar": {
              "outlinewidth": 0,
              "ticks": ""
             }
            }
           }
          ],
          "bar": [
           {
            "error_x": {
             "color": "#2a3f5f"
            },
            "error_y": {
             "color": "#2a3f5f"
            },
            "marker": {
             "line": {
              "color": "#E5ECF6",
              "width": 0.5
             },
             "pattern": {
              "fillmode": "overlay",
              "size": 10,
              "solidity": 0.2
             }
            },
            "type": "bar"
           }
          ],
          "scattergeo": [
           {
            "type": "scattergeo",
            "marker": {
             "colorbar": {
              "outlinewidth": 0,
              "ticks": ""
             }
            }
           }
          ],
          "scatterpolar": [
           {
            "type": "scatterpolar",
            "marker": {
             "colorbar": {
              "outlinewidth": 0,
              "ticks": ""
             }
            }
           }
          ],
          "histogram": [
           {
            "marker": {
             "pattern": {
              "fillmode": "overlay",
              "size": 10,
              "solidity": 0.2
             }
            },
            "type": "histogram"
           }
          ],
          "scattergl": [
           {
            "type": "scattergl",
            "marker": {
             "colorbar": {
              "outlinewidth": 0,
              "ticks": ""
             }
            }
           }
          ],
          "scatter3d": [
           {
            "type": "scatter3d",
            "line": {
             "colorbar": {
              "outlinewidth": 0,
              "ticks": ""
             }
            },
            "marker": {
             "colorbar": {
              "outlinewidth": 0,
              "ticks": ""
             }
            }
           }
          ],
          "scattermapbox": [
           {
            "type": "scattermapbox",
            "marker": {
             "colorbar": {
              "outlinewidth": 0,
              "ticks": ""
             }
            }
           }
          ],
          "scatterternary": [
           {
            "type": "scatterternary",
            "marker": {
             "colorbar": {
              "outlinewidth": 0,
              "ticks": ""
             }
            }
           }
          ],
          "scattercarpet": [
           {
            "type": "scattercarpet",
            "marker": {
             "colorbar": {
              "outlinewidth": 0,
              "ticks": ""
             }
            }
           }
          ],
          "carpet": [
           {
            "aaxis": {
             "endlinecolor": "#2a3f5f",
             "gridcolor": "white",
             "linecolor": "white",
             "minorgridcolor": "white",
             "startlinecolor": "#2a3f5f"
            },
            "baxis": {
             "endlinecolor": "#2a3f5f",
             "gridcolor": "white",
             "linecolor": "white",
             "minorgridcolor": "white",
             "startlinecolor": "#2a3f5f"
            },
            "type": "carpet"
           }
          ],
          "table": [
           {
            "cells": {
             "fill": {
              "color": "#EBF0F8"
             },
             "line": {
              "color": "white"
             }
            },
            "header": {
             "fill": {
              "color": "#C8D4E3"
             },
             "line": {
              "color": "white"
             }
            },
            "type": "table"
           }
          ],
          "barpolar": [
           {
            "marker": {
             "line": {
              "color": "#E5ECF6",
              "width": 0.5
             },
             "pattern": {
              "fillmode": "overlay",
              "size": 10,
              "solidity": 0.2
             }
            },
            "type": "barpolar"
           }
          ],
          "pie": [
           {
            "automargin": true,
            "type": "pie"
           }
          ]
         },
         "layout": {
          "autotypenumbers": "strict",
          "colorway": [
           "#636efa",
           "#EF553B",
           "#00cc96",
           "#ab63fa",
           "#FFA15A",
           "#19d3f3",
           "#FF6692",
           "#B6E880",
           "#FF97FF",
           "#FECB52"
          ],
          "font": {
           "color": "#2a3f5f"
          },
          "hovermode": "closest",
          "hoverlabel": {
           "align": "left"
          },
          "paper_bgcolor": "white",
          "plot_bgcolor": "#E5ECF6",
          "polar": {
           "bgcolor": "#E5ECF6",
           "angularaxis": {
            "gridcolor": "white",
            "linecolor": "white",
            "ticks": ""
           },
           "radialaxis": {
            "gridcolor": "white",
            "linecolor": "white",
            "ticks": ""
           }
          },
          "ternary": {
           "bgcolor": "#E5ECF6",
           "aaxis": {
            "gridcolor": "white",
            "linecolor": "white",
            "ticks": ""
           },
           "baxis": {
            "gridcolor": "white",
            "linecolor": "white",
            "ticks": ""
           },
           "caxis": {
            "gridcolor": "white",
            "linecolor": "white",
            "ticks": ""
           }
          },
          "coloraxis": {
           "colorbar": {
            "outlinewidth": 0,
            "ticks": ""
           }
          },
          "colorscale": {
           "sequential": [
            [
             0,
             "#0d0887"
            ],
            [
             0.1111111111111111,
             "#46039f"
            ],
            [
             0.2222222222222222,
             "#7201a8"
            ],
            [
             0.3333333333333333,
             "#9c179e"
            ],
            [
             0.4444444444444444,
             "#bd3786"
            ],
            [
             0.5555555555555556,
             "#d8576b"
            ],
            [
             0.6666666666666666,
             "#ed7953"
            ],
            [
             0.7777777777777778,
             "#fb9f3a"
            ],
            [
             0.8888888888888888,
             "#fdca26"
            ],
            [
             1,
             "#f0f921"
            ]
           ],
           "sequentialminus": [
            [
             0,
             "#0d0887"
            ],
            [
             0.1111111111111111,
             "#46039f"
            ],
            [
             0.2222222222222222,
             "#7201a8"
            ],
            [
             0.3333333333333333,
             "#9c179e"
            ],
            [
             0.4444444444444444,
             "#bd3786"
            ],
            [
             0.5555555555555556,
             "#d8576b"
            ],
            [
             0.6666666666666666,
             "#ed7953"
            ],
            [
             0.7777777777777778,
             "#fb9f3a"
            ],
            [
             0.8888888888888888,
             "#fdca26"
            ],
            [
             1,
             "#f0f921"
            ]
           ],
           "diverging": [
            [
             0,
             "#8e0152"
            ],
            [
             0.1,
             "#c51b7d"
            ],
            [
             0.2,
             "#de77ae"
            ],
            [
             0.3,
             "#f1b6da"
            ],
            [
             0.4,
             "#fde0ef"
            ],
            [
             0.5,
             "#f7f7f7"
            ],
            [
             0.6,
             "#e6f5d0"
            ],
            [
             0.7,
             "#b8e186"
            ],
            [
             0.8,
             "#7fbc41"
            ],
            [
             0.9,
             "#4d9221"
            ],
            [
             1,
             "#276419"
            ]
           ]
          },
          "xaxis": {
           "gridcolor": "white",
           "linecolor": "white",
           "ticks": "",
           "title": {
            "standoff": 15
           },
           "zerolinecolor": "white",
           "automargin": true,
           "zerolinewidth": 2
          },
          "yaxis": {
           "gridcolor": "white",
           "linecolor": "white",
           "ticks": "",
           "title": {
            "standoff": 15
           },
           "zerolinecolor": "white",
           "automargin": true,
           "zerolinewidth": 2
          },
          "scene": {
           "xaxis": {
            "backgroundcolor": "#E5ECF6",
            "gridcolor": "white",
            "linecolor": "white",
            "showbackground": true,
            "ticks": "",
            "zerolinecolor": "white",
            "gridwidth": 2
           },
           "yaxis": {
            "backgroundcolor": "#E5ECF6",
            "gridcolor": "white",
            "linecolor": "white",
            "showbackground": true,
            "ticks": "",
            "zerolinecolor": "white",
            "gridwidth": 2
           },
           "zaxis": {
            "backgroundcolor": "#E5ECF6",
            "gridcolor": "white",
            "linecolor": "white",
            "showbackground": true,
            "ticks": "",
            "zerolinecolor": "white",
            "gridwidth": 2
           }
          },
          "shapedefaults": {
           "line": {
            "color": "#2a3f5f"
           }
          },
          "annotationdefaults": {
           "arrowcolor": "#2a3f5f",
           "arrowhead": 0,
           "arrowwidth": 1
          },
          "geo": {
           "bgcolor": "white",
           "landcolor": "#E5ECF6",
           "subunitcolor": "white",
           "showland": true,
           "showlakes": true,
           "lakecolor": "white"
          },
          "title": {
           "x": 0.05
          },
          "mapbox": {
           "style": "light"
          }
         }
        },
        "margin": {
         "r": 20,
         "l": 10,
         "b": 10,
         "t": 10
        },
        "legend": {
         "orientation": "h",
         "yanchor": "bottom",
         "y": 1.02,
         "xanchor": "right",
         "x": 1
        },
        "width": 1000,
        "height": 600,
        "scene": {
         "xaxis": {
          "title": {
           "text": "Energy density new cone (J/cm^2)"
          }
         },
         "yaxis": {
          "title": {
           "text": "Pulse Width (msec)"
          }
         },
         "zaxis": {
          "title": {
           "text": "2 Qsw/(U+|D|) 1e6"
          }
         }
        }
       },
       "config": {
        "plotlyServerURL": "https://plot.ly"
       }
      }
     },
     "metadata": {}
    }
   ],
   "metadata": {}
  },
  {
   "cell_type": "code",
   "execution_count": null,
   "source": [],
   "outputs": [],
   "metadata": {}
  }
 ],
 "metadata": {
  "orig_nbformat": 4,
  "language_info": {
   "name": "python",
   "version": "3.9.16",
   "mimetype": "text/x-python",
   "codemirror_mode": {
    "name": "ipython",
    "version": 3
   },
   "pygments_lexer": "ipython3",
   "nbconvert_exporter": "python",
   "file_extension": ".py"
  },
  "kernelspec": {
   "name": "python3",
   "display_name": "Python 3.9.16 64-bit ('FEGP': conda)"
  },
  "interpreter": {
   "hash": "b00f9bca1c18369f730e284e4d0522d8a3e0f0b629e30dad99ec4bb4df6f08b7"
  }
 },
 "nbformat": 4,
 "nbformat_minor": 2
}