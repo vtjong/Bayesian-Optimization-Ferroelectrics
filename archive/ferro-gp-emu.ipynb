{
 "cells": [
  {
   "cell_type": "code",
   "execution_count": 2,
   "source": [
    "# Prep training data\n",
    "from copyreg import pickle\n",
    "from sklearn.preprocessing import StandardScaler\n",
    "from sklearn import preprocessing\n",
    "import sys\n",
    "from tkinter import Y\n",
    "import gzip\n",
    "import itertools\n",
    "import numpy as np\n",
    "import pandas as pd\n",
    "import pickle as pk\n",
    "import torch\n",
    "import gpytorch\n",
    "import plotly.express as px\n",
    "sys.path.append('..')\n",
    "sys.path.insert(0, '../src')"
   ],
   "outputs": [],
   "metadata": {}
  },
  {
   "cell_type": "code",
   "execution_count": 3,
   "source": [
    "from model import GPModel\n",
    "from acq_funcs import EI, PI, cust_acq, thompson\n",
    "from train_eval_plotter import vis_pred, vis_acq"
   ],
   "outputs": [],
   "metadata": {}
  },
  {
   "cell_type": "markdown",
   "source": [
    "### Data Read and Pre-processing"
   ],
   "metadata": {}
  },
  {
   "cell_type": "code",
   "execution_count": 4,
   "source": [
    "# read data and display\n",
    "def read_dat(dir=\"/Users/valenetjong/Bayesian-Optimization-Ferroelectrics/data/\",\n",
    "            src_file = \"Bolometer_readings_PulseForge.xlsx\", sheet= \"Combined\"):\n",
    "    file = dir + src_file\n",
    "    fe_data = pd.read_excel(file, sheet_name=sheet, usecols=['Energy density new cone (J/cm^2)',\n",
    "                            'Time (ms)','2 Qsw/(U+|D|) 1e6cycles'])\n",
    "    fe_data.dropna(subset=['2 Qsw/(U+|D|) 1e6cycles'], inplace=True)\n",
    "    fe_data = fe_data[fe_data['2 Qsw/(U+|D|) 1e6cycles']!= 0]\n",
    "    return fe_data\n",
    "\n",
    "def display_data(fe_data):\n",
    "    \"\"\"\n",
    "    [display_data(fe_data)] creates a cross-section scatter plot of all combinations\n",
    "    of the four input parameters and single output parameter.\n",
    "    \"\"\"\n",
    "    # plot each cross-section\n",
    "    fig = px.scatter_matrix(fe_data, dimensions=['Energy density new cone (J/cm^2)', \n",
    "    \"Time (ms)\", \"2 Qsw/(U+|D|) 1e6cycles\"])\n",
    "    fig.update_layout(margin=dict(r=20, l=10, b=10, t=10))\n",
    "    fig.update_layout(height=800)\n",
    "    fig.show()"
   ],
   "outputs": [],
   "metadata": {}
  },
  {
   "cell_type": "code",
   "execution_count": 5,
   "source": [
    "fe_data = read_dat()\n",
    "# print(fe_data)\n",
    "# display_data(fe_data)"
   ],
   "outputs": [],
   "metadata": {}
  },
  {
   "cell_type": "markdown",
   "source": [
    "### Grid/Parameter Space"
   ],
   "metadata": {}
  },
  {
   "cell_type": "code",
   "execution_count": 6,
   "source": [
    "import emukit\n",
    "import GPy\n",
    "from emukit.core import ParameterSpace, ContinuousParameter, DiscreteParameter\n",
    "from emukit.core.initial_designs.random_design import RandomDesign\n",
    "from emukit.core.initial_designs.latin_design import LatinDesign"
   ],
   "outputs": [],
   "metadata": {}
  },
  {
   "cell_type": "code",
   "execution_count": 7,
   "source": [
    "time_len_min, time_len_max, time_len_step = [fe_data[\"Time (ms)\"].min(), fe_data[\"Time (ms)\"].max(), 0.1]  ## Unit: ms\n",
    "time_len_var = np.arange(time_len_min, time_len_max+time_len_step*0.1, time_len_step)\n",
    "time_len_num = len(time_len_var)\n",
    "\n",
    "e_den_min, e_den_max, e_den_step = [fe_data[\"Energy density new cone (J/cm^2)\"].min(), fe_data[\"Energy density new cone (J/cm^2)\"].max(), 0.01]  # Unit: J/cm^2\n",
    "### Give step a scaling factor of 0.1 to avoid numercial errors such as 1.7000002\n",
    "e_den_var = np.arange(e_den_min, e_den_max+e_den_step*0.1, e_den_step)\n",
    "e_den_num = len(e_den_var)\n",
    "\n",
    "var_array = [time_len_var, e_den_var]\n",
    "x_labels =  [\"Time (ms)\", \"Energy density new cone (J/cm^2)\"]\n",
    "\n",
    "def x_normalizer(X, var_array = var_array):\n",
    "    def max_min_scaler(x, x_max, x_min):\n",
    "        return (x-x_min)/(x_max-x_min)\n",
    "    x_norm = []\n",
    "    for x in (X):\n",
    "           x_norm.append([max_min_scaler(x[i], \n",
    "                         max(var_array[i]), \n",
    "                         min(var_array[i])) for i in range(len(x))])\n",
    "    return np.array(x_norm)\n",
    "\n",
    "def x_denormalizer(x_norm, var_array = var_array):\n",
    "    \n",
    "    def max_min_rescaler(x, x_max, x_min):\n",
    "        return x*(x_max-x_min)+x_min\n",
    "    x_original = []\n",
    "    for x in (x_norm):\n",
    "           x_original.append([max_min_rescaler(x[i], \n",
    "                              max(var_array[i]), \n",
    "                              min(var_array[i])) for i in range(len(x))])\n",
    "\n",
    "    return np.array(x_original)\n",
    "\n",
    "\n",
    "def get_closest_array(suggested_x):\n",
    "\n",
    "    def get_closest_value(given_value, array_list):\n",
    "        absolute_difference_function = lambda list_value : abs(list_value - given_value)\n",
    "        closest_value = min(array_list, key=absolute_difference_function)\n",
    "        return closest_value\n",
    "    \n",
    "    var_list = var_array\n",
    "    modified_array = []\n",
    "    for x in suggested_x:\n",
    "        modified_array.append([get_closest_value(x[i], var_list[i]) for i in range(len(x))])\n",
    "    return np.array(modified_array)"
   ],
   "outputs": [],
   "metadata": {}
  },
  {
   "cell_type": "code",
   "execution_count": 8,
   "source": [
    "# continuous parameter creates a grid space for grid search\n",
    "parameter_space = ParameterSpace([ContinuousParameter(\"Time (ms)\", 0-1/(time_len_num-1)/2, 1+1/(time_len_num-1)/2),\n",
    "                                  ContinuousParameter(\"Energy density new cone (J/cm^2)\", 0-1/(e_den_num-1)/2, 1+1/(e_den_num-1)/2),\n",
    "                                 ])"
   ],
   "outputs": [],
   "metadata": {}
  },
  {
   "cell_type": "markdown",
   "source": [
    "### Initialize GP Model"
   ],
   "metadata": {}
  },
  {
   "cell_type": "code",
   "execution_count": 9,
   "source": [
    "from GPy.models import GPRegression\n",
    "from emukit.model_wrappers import GPyModelWrapper\n",
    "from torch.optim import Adam as Adam\n",
    "\n",
    "x_exp = x_normalizer(fe_data.iloc[:, 0:2].values)\n",
    "y_exp = np.transpose([fe_data.iloc[:,-1].values])\n",
    "X, Y = [x_exp, y_exp]\n",
    "\n",
    "input_dim = len(X[0])\n",
    "ker = GPy.kern.Matern52(input_dim = input_dim, ARD =True)#\n",
    "ker.lengthscale.constrain_bounded(1e-2, 1)\n",
    "ker.variance.constrain_bounded(1e-2, 1000.0)\n",
    "model_gpy = GPRegression(X , -Y, ker) #emukit is a minimization tool; need to make Y negative\n",
    "model_gpy.Gaussian_noise.variance = 0.15\n",
    "model_gpy.Gaussian_noise.variance.fix()\n",
    "\n",
    "# Randomize model's hyperparameters\n",
    "model_gpy.randomize() \n",
    "print(ker.lengthscale)\n",
    "print(ker.variance)"
   ],
   "outputs": [
    {
     "output_type": "stream",
     "name": "stderr",
     "text": [
      "reconstraining parameters Mat52.lengthscale\n",
      "reconstraining parameters Mat52.variance\n"
     ]
    },
    {
     "output_type": "stream",
     "name": "stdout",
     "text": [
      "  \u001b[1mindex\u001b[0;0m  |  GP_regression.Mat52.lengthscale  |  constraints  |  priors\n",
      "  \u001b[1m[0]  \u001b[0;0m  |                       0.14418866  |   0.01,1.0    |        \n",
      "  \u001b[1m[1]  \u001b[0;0m  |                       0.62576321  |   0.01,1.0    |        \n",
      "  \u001b[1mindex\u001b[0;0m  |  GP_regression.Mat52.variance  |  constraints  |  priors\n",
      "  \u001b[1m[0]  \u001b[0;0m  |                  718.41030763  |  0.01,1000.0  |        \n"
     ]
    }
   ],
   "metadata": {}
  },
  {
   "cell_type": "markdown",
   "source": [
    "### Hyperparameter Tuning"
   ],
   "metadata": {}
  },
  {
   "cell_type": "code",
   "execution_count": 10,
   "source": [
    "model_gpy.optimize_restarts(num_restarts=30, verbose =False, messages=False) # fit to training data, select best hyperparameters out of num_restarts \n",
    "objective_model = GPyModelWrapper(model_gpy)\n",
    "print(objective_model.model.kern.lengthscale)\n",
    "print(objective_model.model.kern.variance)"
   ],
   "outputs": [
    {
     "output_type": "stream",
     "name": "stdout",
     "text": [
      "  \u001b[1mindex\u001b[0;0m  |  GP_regression.Mat52.lengthscale  |  constraints  |  priors\n",
      "  \u001b[1m[0]  \u001b[0;0m  |                       0.11406663  |   0.01,1.0    |        \n",
      "  \u001b[1m[1]  \u001b[0;0m  |                       0.04872643  |   0.01,1.0    |        \n",
      "  \u001b[1mindex\u001b[0;0m  |  GP_regression.Mat52.variance  |  constraints  |  priors\n",
      "  \u001b[1m[0]  \u001b[0;0m  |                    6.95745305  |  0.01,1000.0  |        \n"
     ]
    }
   ],
   "metadata": {}
  },
  {
   "cell_type": "markdown",
   "source": [
    "### GP Training Results"
   ],
   "metadata": {}
  },
  {
   "cell_type": "code",
   "execution_count": 11,
   "source": [
    "# get GP predictions on training set\n",
    "f_obj =  objective_model.model.predict\n",
    "y_pred, y_uncer = f_obj(X)\n",
    "y_pred = -y_pred[:,-1]  # get back non-neg outputs and get array out of embedding\n",
    "y_uncer = np.sqrt(y_uncer[:,-1])"
   ],
   "outputs": [],
   "metadata": {}
  },
  {
   "cell_type": "code",
   "execution_count": 12,
   "source": [
    "from sklearn.metrics import mean_squared_error, mean_absolute_error,r2_score\n",
    "from scipy.stats import spearmanr\n",
    "import matplotlib.pyplot as plt \n",
    "\n",
    "# plot predictions against experimental data\n",
    "fig, axes = plt.subplots(1, 3, figsize=(5.5*3, 4.5))\n",
    "fs = 14\n",
    "lims1 = (0, 5)\n",
    "axes[0].scatter(Y[:,-1], y_pred, alpha = 0.5, c = 'navy' , edgecolor = 'navy')\n",
    "axes[0].errorbar(Y[:,-1], y_pred, yerr = y_uncer, ms = 0, \n",
    "                 ls = '', capsize = 2, alpha = 0.6,\n",
    "                 color = 'gray', zorder = 0)\n",
    "axes[0].plot(lims1, lims1, 'k--', alpha=0.75, zorder=0)\n",
    "rmse_value = np.sqrt(mean_squared_error(Y[:,-1], y_pred))\n",
    "mae_value = mean_absolute_error(Y[:,-1], y_pred)\n",
    "spearman_value = spearmanr(Y[:,-1], y_pred)[0]\n",
    "rsquared_value = r2_score(Y[:,-1], y_pred)\n",
    "\n",
    "print('MAE:',np.round(mae_value,2), ' ',\n",
    "      'RMSE:', np.round(rmse_value,2), ' ',\n",
    "      'spearman:', np.round(spearman_value,3), ' ',\n",
    "      'R² score:', np.round(rsquared_value,3))\n",
    "\n",
    "title = 'GPR' + \" (MAE=%.2f\" % mae_value+' [%])'\n",
    "axes[0].set_xlabel('Ground Truth 2 Qsw/(U+|D|) 1e6', fontsize = fs)\n",
    "axes[0].set_ylabel('Prediction 2 Qsw/(U+|D|) 1e6', fontsize = fs)\n",
    "axes[0].set_title(title, fontsize = fs)\n",
    "        \n",
    "for i in range(len(axes)):\n",
    "    axes[i].tick_params(direction='in', length=5, width=1, labelsize = fs*.8, grid_alpha = 0.5)\n",
    "    axes[i].grid(True, linestyle='-.')\n",
    "plt.subplots_adjust(wspace = 0.4)\n",
    "\n",
    "axes[1].axis(\"off\")\n",
    "axes[2].axis(\"off\")\n",
    "\n",
    "plt.show()"
   ],
   "outputs": [
    {
     "output_type": "stream",
     "name": "stdout",
     "text": [
      "MAE: 0.13   RMSE: 0.19   spearman: 0.978   R² score: 0.976\n"
     ]
    },
    {
     "output_type": "display_data",
     "data": {
      "image/png": "[encoded data removed]",
      "text/plain": [
       "<Figure size 1650x450 with 3 Axes>"
      ]
     },
     "metadata": {}
    }
   ],
   "metadata": {}
  },
  {
   "cell_type": "markdown",
   "source": [
    "### GP Plots"
   ],
   "metadata": {}
  },
  {
   "cell_type": "code",
   "execution_count": 13,
   "source": [
    "# create grid for grid search\n",
    "def grid_helper(grid_size, num_params, grid_bounds):\n",
    "    \"\"\"\n",
    "    [grid_helper(grid_size, num_params, grid_bounds)] returns a grid of dimensions\n",
    "    [grid_size] by [num_params], which dictates the parameter space for GP to be \n",
    "    conducted over. \n",
    "    \"\"\"\n",
    "    grid = torch.zeros(grid_size, num_params)\n",
    "    f_grid_diff = lambda i, x, y : float((x[i][1] - x[i][0]) / (y-2))\n",
    "    for i in range(num_params):\n",
    "        grid_diff = f_grid_diff(i, grid_bounds, grid_size)\n",
    "        grid[:, i] = torch.linspace(grid_bounds[i][0] - grid_diff, \n",
    "                                    grid_bounds[i][1] + grid_diff, grid_size)\n",
    "    return grid\n",
    "\n",
    "def grid_maker(x_dat, num_points=30):\n",
    "    \"\"\"\n",
    "    [grid_maker(x_dat, num_points=30)] creates grids to be used for gaussian \n",
    "    process predictions. It outputs the dimension of the grid [num_params], \n",
    "    paramater space grid [test_grid], and [test_arr].\n",
    "    \"\"\"\n",
    "    # define grid between bounds of RTA time, RTA temp\n",
    "    num_params = x_dat.size(dim=1)\n",
    "    grid_bounds = [(x_dat[:,i].min(), x_dat[:,i].max()) for i in range(num_params)]\n",
    "\n",
    "    # set up test_grid for predictions\n",
    "    test_grid = grid_helper(num_points, num_params, grid_bounds)\n",
    "\n",
    "    # create n-D grid with n = num_params\n",
    "    args = (test_grid[:, i] for i in range(num_params))\n",
    "    test_arr = torch.cartesian_prod(*args)\n",
    "    return grid_bounds, num_params, test_grid, test_arr"
   ],
   "outputs": [],
   "metadata": {}
  },
  {
   "cell_type": "code",
   "execution_count": 14,
   "source": [
    "# check objective on acqusition\n",
    "nlcb = np.array([2.8,9.05]).reshape(1,2)\n",
    "nlcb_norm = x_normalizer(nlcb)\n",
    "print(nlcb_norm)\n",
    "nlcb, _ = f_obj(nlcb_norm)\n",
    "nlcb = nlcb.reshape(1,1).T\n",
    "print(nlcb)"
   ],
   "outputs": [
    {
     "output_type": "stream",
     "name": "stdout",
     "text": [
      "[[0.51111111 0.49724626]]\n",
      "[[0.37960736]]\n"
     ]
    }
   ],
   "metadata": {}
  },
  {
   "cell_type": "markdown",
   "source": [
    "### GP Predictions"
   ],
   "metadata": {}
  },
  {
   "cell_type": "code",
   "execution_count": 22,
   "source": [
    "from emukit.bayesian_optimization.loops import BayesianOptimizationLoop\n",
    "from emukit.bayesian_optimization.acquisitions import ExpectedImprovement, \\\n",
    "                                                      NegativeLowerConfidenceBound, \\\n",
    "                                                      MaxValueEntropySearch, \\\n",
    "                                                      ProbabilityOfImprovement\n",
    "from emukit.core.acquisition import IntegratedHyperParameterAcquisition\n",
    "\n",
    "np.random.seed(10)#to make sure the random results is reproducible \n",
    "bs = 1\n",
    "# acquisition = NegativeLowerConfidenceBound(objective_model, beta = 1)\n",
    "acquisition = ExpectedImprovement(objective_model)\n",
    "# acquisition = MaxValueEntropySearch(objective_model, space=parameter_space)\n",
    "\n",
    "# Make loop and collect points\n",
    "bayesopt= BayesianOptimizationLoop(model=objective_model, \n",
    "                                   space=parameter_space, \n",
    "                                   acquisition=acquisition,\n",
    "                                   batch_size = bs)\n",
    "                                  \n",
    "print('total condition no.:', len(X))\n",
    "print('total device no.:', len(bayesopt.loop_state.Y))\n",
    "print('maximum Y (2 Qsw/(U+|D|) 1e6cycles): ', -np.min(np.transpose(np.round(bayesopt.loop_state.Y, 2))))\n",
    "\n",
    "X_new = bayesopt.candidate_point_calculator.compute_next_points(bayesopt.loop_state)\n",
    "f_acq = bayesopt.candidate_point_calculator.acquisition.evaluate\n",
    "\n",
    "df = fe_data\n",
    "df_Xnew = pd.DataFrame(get_closest_array(x_denormalizer(X_new)), columns = x_labels)\n",
    "df_all = pd.concat([df.iloc[:,0:2], df_Xnew])\n",
    "df_all_ = df_all.drop_duplicates()\n",
    "df_Xnew = df_all_.iloc[len(df):len(df)+bs]\n",
    "df_Xnew = df_Xnew.sort_values(by=list(df.columns[0:2]), ignore_index = True)\n",
    "df_Xnew.index = np.arange(len(df_Xnew))+len(df)\n",
    "print('New X:',len(df_Xnew))\n",
    "df_Xnew"
   ],
   "outputs": [
    {
     "output_type": "stream",
     "name": "stdout",
     "text": [
      "total condition no.: 23\n",
      "total device no.: 23\n",
      "maximum Y (2 Qsw/(U+|D|) 1e6cycles):  4.54\n",
      "New X: 1\n"
     ]
    },
    {
     "output_type": "execute_result",
     "data": {
      "text/html": [
       "<div>\n",
       "<style scoped>\n",
       "    .dataframe tbody tr th:only-of-type {\n",
       "        vertical-align: middle;\n",
       "    }\n",
       "\n",
       "    .dataframe tbody tr th {\n",
       "        vertical-align: top;\n",
       "    }\n",
       "\n",
       "    .dataframe thead th {\n",
       "        text-align: right;\n",
       "    }\n",
       "</style>\n",
       "<table border=\"1\" class=\"dataframe\">\n",
       "  <thead>\n",
       "    <tr style=\"text-align: right;\">\n",
       "      <th></th>\n",
       "      <th>Time (ms)</th>\n",
       "      <th>Energy density new cone (J/cm^2)</th>\n",
       "    </tr>\n",
       "  </thead>\n",
       "  <tbody>\n",
       "    <tr>\n",
       "      <th>23</th>\n",
       "      <td>3.1</td>\n",
       "      <td>9.04</td>\n",
       "    </tr>\n",
       "  </tbody>\n",
       "</table>\n",
       "</div>"
      ],
      "text/plain": [
       "    Time (ms)  Energy density new cone (J/cm^2)\n",
       "23        3.1                              9.04"
      ]
     },
     "metadata": {},
     "execution_count": 22
    }
   ],
   "metadata": {}
  },
  {
   "cell_type": "code",
   "execution_count": 23,
   "source": [
    "print(df_Xnew)\n",
    "y_pred_new, y_uncer_new = f_obj(x_normalizer(df_Xnew.values))\n",
    "y_pred_new = -y_pred_new[:,-1]\n",
    "print(y_pred_new)\n",
    "\n",
    "dir = \"/Users/valenetjong/Bayesian-Optimization-Ferroelectrics/predictions/\"\n",
    "file_out = \"emu_preds\"\n",
    "df_suggested = df_Xnew.copy()\n",
    "df_suggested.insert(loc=0, column='Acq', value=\"NLCB\")\n",
    "df_suggested[\"2 Qsw/(U+|D|) 1e6\"] = y_pred_new\n",
    "print(df_suggested)\n",
    "df_suggested.to_csv(dir + file_out, index=False)"
   ],
   "outputs": [
    {
     "output_type": "stream",
     "name": "stdout",
     "text": [
      "    Time (ms)  Energy density new cone (J/cm^2)\n",
      "23        3.1                              9.04\n",
      "[3.92723581]\n",
      "     Acq  Time (ms)  Energy density new cone (J/cm^2)  2 Qsw/(U+|D|) 1e6\n",
      "23  NLCB        3.1                              9.04           3.927236\n"
     ]
    }
   ],
   "metadata": {}
  },
  {
   "cell_type": "code",
   "execution_count": 24,
   "source": [
    "import plotly.graph_objects as go\n",
    "import matplotlib.pyplot as plt\n",
    "import matplotlib as mpl\n",
    "\n",
    "# make, scale post_test_grid\n",
    "_, _, test_grid, test_arr = grid_maker(torch.Tensor(X))\n",
    "volt_on_grid, _ = f_obj(test_arr.numpy())\n",
    "volt_on_grid = -1 * volt_on_grid.reshape(30,30).T\n",
    "raw_test_arr = x_denormalizer(test_arr)\n",
    "raw_test_grid = x_denormalizer(test_grid)\n",
    "\n",
    "fig = go.Figure(data=[go.Scatter3d(z=Y[:,-1], \n",
    "                                    x=x_denormalizer(X)[:,0],\n",
    "                                    y=x_denormalizer(X)[:,1], \n",
    "                                    mode='markers',\n",
    "                                    marker={'color':'#72356c'},\n",
    "                                    name='Data')])\n",
    "fig.add_trace(go.Surface(z=volt_on_grid, \n",
    "                            x=raw_test_grid[:,0],\n",
    "                            y=raw_test_grid[:,1],\n",
    "                            opacity = 0.8,\n",
    "                            colorscale = \"Burg\",\n",
    "                            colorbar=dict(thickness=15, len=0.5)))\n",
    "\n",
    "# fig.add_trace(go.Scatter3d(z=[3.7669], x=[1.5], y=[8.85], name = \"UCB\"))\n",
    "# fig.add_trace(go.Scatter3d(z=[3.49], x=[1.17], y=[8.85], name = \"UCB2\"))\n",
    "fig.add_trace(go.Scatter3d(z=[3.88], x=[0.9], y=[5.89], name = \"NLCB\"))\n",
    "\n",
    "fig.update_layout( width=1000, height=800,\n",
    "                    legend=dict(orientation=\"h\", yanchor=\"top\", y=1.02, \n",
    "                    xanchor=\"left\",x=1), margin=dict(r=20, l=10, b=10, t=10), \n",
    "                        scene=dict(\n",
    "                        xaxis_title=\"Pulse width (μs)\",\n",
    "                        yaxis_title=\"Energy density new cone (J/cm^2)\",\n",
    "                        zaxis_title='Figure of Merit')\n",
    "                    )\n",
    "fig.update_layout(template=\"ggplot2\")\n",
    "camera = dict(up=dict(x=0, y=0, z=1), center=dict(x=0, y=0, z=0),\n",
    "                    eye=dict(x=2.75, y=1.75, z=1))\n",
    "fig.update_layout(scene_camera=camera)\n",
    "fig.show()"
   ],
   "outputs": [
    {
     "output_type": "display_data",
     "data": {
      "application/vnd.plotly.v1+json": {
       "data": [
        {
         "marker": {
          "color": "#72356c"
         },
         "mode": "markers",
         "name": "Data",
         "x": [
          0.5,
          0.5,
          1,
          1,
          1.5,
          1.5,
          5,
          5,
          0.5,
          5,
          2,
          0.5,
          0.5,
          0.5,
          1,
          1,
          2,
          2,
          2,
          2,
          5,
          5,
          5
         ],
         "y": [
          2.73,
          3.4,
          3.79,
          6.44,
          5.36,
          8.99,
          8.8,
          14.67,
          5.24,
          14.89,
          10.13,
          4.51,
          5.37,
          4.88,
          6.76,
          7.77,
          8.73,
          9.38,
          10.48,
          11.01,
          14.71,
          15.440000000000001,
          13.37
         ],
         "z": [
          0.8730257299654021,
          2.677244640050493,
          1.6990152147413928,
          3.8050528055652655,
          3.3348561928152627,
          4.535152817359003,
          1.3625102372531497,
          3.841290609056986,
          1.2013569985324948,
          3.5136521918176413,
          3.4708714822041062,
          0.2632982379553876,
          2.7753404356378253,
          2.5913062464887977,
          2.579984359259049,
          3.1738185691110727,
          0.1315049942519029,
          0.4511637114621348,
          2.126639748505365,
          3.468212840642842,
          3.685852431471957,
          3.445655582638384,
          2.651546836022379
         ],
         "type": "scatter3d"
        },
        {
         "colorbar": {
          "len": 0.5,
          "thickness": 15
         },
         "colorscale": [
          [
           0,
           "rgb(255, 198, 196)"
          ],
          [
           0.16666666666666666,
           "rgb(244, 163, 168)"
          ],
          [
           0.3333333333333333,
           "rgb(227, 129, 145)"
          ],
          [
           0.5,
           "rgb(204, 96, 125)"
          ],
          [
           0.6666666666666666,
           "rgb(173, 70, 108)"
          ],
          [
           0.8333333333333334,
           "rgb(139, 48, 88)"
          ],
          [
           1,
           "rgb(103, 32, 68)"
          ]
         ],
         "opacity": 0.8,
         "x": [
          0.3392857015132904,
          0.5055418610572815,
          0.6717979907989502,
          0.8380541801452637,
          1.0043103694915771,
          1.1705665588378906,
          1.3368226289749146,
          1.503078818321228,
          1.669334888458252,
          1.8355910778045654,
          2.001847267150879,
          2.1681032180786133,
          2.334359645843506,
          2.5006155967712402,
          2.666872024536133,
          2.833127975463867,
          2.9993844032287598,
          3.165640354156494,
          3.3318967819213867,
          3.498152494430542,
          3.6644086837768555,
          3.830664873123169,
          3.9969210624694824,
          4.163177490234375,
          4.329433441162109,
          4.495689392089844,
          4.661945819854736,
          4.828201770782471,
          4.994458198547363,
          5.160714149475098
         ],
         "y": [
          2.276071548461914,
          2.745652675628662,
          3.2152340412139893,
          3.6848151683807373,
          4.1543965339660645,
          4.6239776611328125,
          5.093559265136719,
          5.563140392303467,
          6.032721519470215,
          6.502303123474121,
          6.971883773803711,
          7.441465377807617,
          7.911046504974365,
          8.38062858581543,
          8.85020923614502,
          9.319790840148926,
          9.789371490478516,
          10.258953094482422,
          10.728534698486328,
          11.198116302490234,
          11.667695999145508,
          12.137277603149414,
          12.60685920715332,
          13.076440811157227,
          13.546022415161133,
          14.015602111816406,
          14.485183715820312,
          14.954765319824219,
          15.424346923828125,
          15.893928527832031
         ],
         "z": [
          [
           0.057881046593581856,
           0.05790518547862972,
           0.057877603819602164,
           0.0577983887749771,
           0.057667790314349765,
           0.05748621978557114,
           0.057254247387476906,
           0.05697259839395532,
           0.05664214892920503,
           0.056263920398724,
           0.05583907412008681,
           0.055368902550548535,
           0.054854823808816476,
           0.054298372049052225,
           0.0537011889397783,
           0.05306501434746381,
           0.05239167663363136,
           0.05168308265165506,
           0.05094120752971653,
           0.05016808559698792,
           0.04936579495409207,
           0.04853645460940493,
           0.04768220929870869,
           0.04680522065801283,
           0.04590765889353882,
           0.044991687481463816,
           0.04405946276305711,
           0.04311311950984637,
           0.04215476415442767,
           0.041186467097217225
          ],
          [
           0.8535945451619708,
           0.8544717610386433,
           0.8534703586946388,
           0.8506069934103343,
           0.8459272835125031,
           0.8395008767744067,
           0.8314161339581106,
           0.8217753418069524,
           0.8106906354559417,
           0.7982805561383818,
           0.7846672191219712,
           0.7699738987074716,
           0.7543231763602506,
           0.73783534945707,
           0.7206272143424882,
           0.702811112896982,
           0.6844942122264757,
           0.6657779817298833,
           0.6467578363758095,
           0.6275229502269338,
           0.6081560298596266,
           0.5887334938159353,
           0.5693254192661138,
           0.5499957058753405,
           0.5308022889798495,
           0.5117972365250797,
           0.49302718432246506,
           0.47453348193131295,
           0.45635250776182446,
           0.4385159613607164
          ],
          [
           1.3676872497595147,
           1.3686964720843948,
           1.3677001509262094,
           1.3647047579106844,
           1.3597291506966558,
           1.35280429217426,
           1.3439727889344157,
           1.3332882559191788,
           1.320814554702245,
           1.3066248913322436,
           1.2908008538877191,
           1.2734312782675803,
           1.2546112153555864,
           1.2344407440887395,
           1.213023846974506,
           1.1904672952146453,
           1.1668795740876137,
           1.1423698641661264,
           1.1170470908734098,
           1.0910190943409142,
           1.0643916719975899,
           1.0372681307506468,
           1.0097485097221903,
           0.9819291007292358,
           0.9539020596794194,
           0.925754874829096,
           0.897570366501992,
           0.8694263078724828,
           0.8413953388066986,
           0.8135448956276159
          ],
          [
           1.736475747991383,
           1.7436841984067513,
           1.7481682127210385,
           1.7498863266367393,
           1.7488178486307646,
           1.7449634952805553,
           1.7383455324652022,
           1.7290073901198557,
           1.7170127962884554,
           1.7024444525701476,
           1.685402374921128,
           1.666001843912087,
           1.6443713210965825,
           1.6206501239744795,
           1.5949861484438386,
           1.5675336304725949,
           1.5384510155251772,
           1.507898976819295,
           1.4760386099291327,
           1.4430298736441967,
           1.4090299602524485,
           1.3741923978921398,
           1.3386658121755988,
           1.3025931318227444,
           1.2661109683105511,
           1.2293488532465107,
           1.1924292033556212,
           1.1554668201202372,
           1.1185687916135911,
           1.0818344305606644
          ],
          [
           0.20818911907761076,
           0.20891178839088959,
           0.20943102837164537,
           0.2097448624741113,
           0.2098520593261429,
           0.20975214220142518,
           0.20944539354422148,
           0.20893285279276774,
           0.20821630907898078,
           0.2072982877085986,
           0.2061820336231712,
           0.2048714828967733,
           0.20337123962292425,
           0.2016865391271803,
           0.19982321128713407,
           0.19778763933198762,
           0.19558671543719192,
           0.19322779363488635,
           0.19071864057781873,
           0.18806738908961518,
           0.18528246892996542,
           0.18237258006263035,
           0.17934662333902954,
           0.17621365272989664,
           0.17298282962832573,
           0.16966335223347737,
           0.1662644390029785,
           0.1627952622073388,
           0.15926490973405033,
           0.15568234441348727
          ],
          [
           0.7897499600709162,
           0.7903408078276327,
           0.7899590749714437,
           0.7886067992646837,
           0.7862903482041689,
           0.7830203754311934,
           0.7788117440504545,
           0.7736834121622702,
           0.7676582935520387,
           0.7607630758969095,
           0.7530280237583689,
           0.7444867008185073,
           0.7351757343915959,
           0.725134488662702,
           0.7144047451811286,
           0.7030303594797362,
           0.6910569051907659,
           0.6785313113430336,
           0.6655014985069585,
           0.6520160413239997,
           0.6381237304957037,
           0.6238733670488813,
           0.6093133573202153,
           0.5944914367263548,
           0.5794544201132953,
           0.5642478557782606,
           0.5489159492938271,
           0.5335012723062196,
           0.5180446197693741,
           0.5025848703157301
          ],
          [
           0.9326352184431016,
           0.9487842416613246,
           0.9644076059671283,
           0.9794283834512514,
           0.9937661350016885,
           1.0073379596971963,
           1.020059740533419,
           1.0318475168653012,
           1.0426189062536666,
           1.0522945758638098,
           1.0607996572914284,
           1.0680651405570447,
           1.0740290605437697,
           1.0786375993326471,
           1.0818459673744873,
           1.0836190890240804,
           1.0839320766328526,
           1.0827704931374578,
           1.080130410373708,
           1.0760182841433505,
           1.0704506192865364,
           1.06345355131371,
           1.05506223481079,
           1.0453201561513457,
           1.0342783780555396,
           1.0219946333563914,
           1.0085325621008745,
           0.993960754980371,
           0.9783518829704132,
           0.9617818256401027
          ],
          [
           1.5962394288769222,
           1.6249568478805172,
           1.6515869857913428,
           1.6759781430866287,
           1.697989998578106,
           1.717495446249327,
           1.7343823234244158,
           1.748554933512409,
           1.759935291987714,
           1.7684641333973206,
           1.774101594690105,
           1.7768276284430495,
           1.7766420356232682,
           1.7735642370161404,
           1.7676327179946476,
           1.7589042010158373,
           1.747452569590043,
           1.7333675786529155,
           1.7167533899988379,
           1.697727005984449,
           1.676416450614732,
           1.6529592083333582,
           1.6275003431778832,
           1.6001907839158651,
           1.571185676639999,
           1.5406425731124298,
           1.5087201849660095,
           1.4755767831275506,
           1.4413689504591671,
           1.4062504197426795
          ],
          [
           0.38774025788853106,
           0.38918403668084395,
           0.39027083962167547,
           0.39099724280622744,
           0.3913610247234627,
           0.391361179505672,
           0.3909979235911695,
           0.390272692497885,
           0.38918813005659253,
           0.38774806887117486,
           0.38595750672007584,
           0.3838225646672555,
           0.38135045447333565,
           0.37854942475316267,
           0.3754287077611007,
           0.37199845929448233,
           0.36826969366490947,
           0.364254214421527,
           0.35996454153773166,
           0.35541384333404064,
           0.3506158289892408,
           0.34558471358114157,
           0.3403351094434252,
           0.33488195368981266,
           0.32924043857201774,
           0.3234258972242607,
           0.3174537826919102,
           0.3113395586361636,
           0.3050986380513308,
           0.29874631637580296
          ],
          [
           3.616878760558582,
           3.640914056814072,
           3.6582138817999352,
           3.668595462717128,
           3.6719468532405317,
           3.6682315403272088,
           3.657490013475705,
           3.639838028079822,
           3.6154618501399076,
           3.584611045864773,
           3.5475897237876577,
           3.504746742084993,
           3.45646614636142,
           3.40315770733418,
           3.345248336782199,
           3.283174393952307,
           3.217374980531214,
           3.1482862206761904,
           3.0763364771922164,
           3.0019425517331415,
           2.9255060560697905,
           2.847411677371115,
           2.7680248484198122,
           2.6876905350913316,
           2.6067324846477646,
           2.5254522005260993,
           2.444129545996236,
           2.3630223092280103,
           2.282366641599243,
           2.202377545868474
          ],
          [
           0.9375075627905334,
           0.941832534476118,
           0.9449294375073579,
           0.9467813101239118,
           0.9473779598731292,
           0.9467160940068668,
           0.9447993651892693,
           0.9416383211891901,
           0.9372502693756681,
           0.9316590520424719,
           0.924894756664862,
           0.9169933127189358,
           0.907996087504031,
           0.897949373245312,
           0.8869038575225193,
           0.8749140574590206,
           0.8620377339845334,
           0.848335297154337,
           0.8338692128653071,
           0.8187034454210587,
           0.8029027953268226,
           0.7865325095006804,
           0.7696576800590762,
           0.7523428009692488,
           0.7346513701451755,
           0.7166453908031843,
           0.6983852031147739,
           0.6799290751877702,
           0.6613329798625305,
           0.6426503859158695
          ],
          [
           0.6162325499436776,
           0.6185784550479391,
           0.6202558846466423,
           0.621258001005536,
           0.6215807073465173,
           0.6212226819888571,
           0.6201853912326093,
           0.6184730752789498,
           0.6160927125706313,
           0.6130539590623115,
           0.6093690733870345,
           0.605052798755779,
           0.6001222594173081,
           0.5945968092580244,
           0.5884978786706245,
           0.5818488050255265,
           0.574674651738329,
           0.5670020182872566,
           0.5588588435782106,
           0.5502742192289829,
           0.5412781306115417,
           0.5319013374956496,
           0.5221751192141697,
           0.5121310924781826,
           0.5018010387710827,
           0.49121665553618216,
           0.4804094837674264,
           0.469410679655099,
           0.45825088028833205,
           0.4469600650233424
          ],
          [
           2.0511706372367744,
           2.0631001218241813,
           2.0716584790284625,
           2.07678170131006,
           2.078431154225377,
           2.076594336241572,
           2.07128513607801,
           2.0625435482887604,
           2.0504348858426087,
           2.035048503333004,
           2.0164961352406556,
           1.9949097645175697,
           1.9704393840264138,
           1.9432504103828208,
           1.913521055637871,
           1.8814396500170496,
           1.8472019995064353,
           1.8110088382027318,
           1.7730634240446455,
           1.7335693798632026,
           1.6927284186617442,
           1.6507389315707657,
           1.6077941699589948,
           1.564080972402145,
           1.5197787245983074,
           1.4750581736968544,
           1.4300811581870014,
           1.3849998067959688,
           1.3399562600783164,
           1.2950824696329444
          ],
          [
           -0.11353191874975926,
           -0.11468956789841134,
           -0.1156656345745349,
           -0.11645391176246411,
           -0.11704903830161455,
           -0.11744655356345496,
           -0.11764294654550958,
           -0.11763569625602815,
           -0.11742330301556943,
           -0.11700531101845629,
           -0.11638232236080813,
           -0.11555599767151806,
           -0.11452905227181313,
           -0.11330523743894809,
           -0.11188931411505117,
           -0.11028701669438946,
           -0.10850500776950972,
           -0.106550824432491,
           -0.1044328168469557,
           -0.10216008370309933,
           -0.09974238297650893,
           -0.0971900746265882,
           -0.09451402287188777,
           -0.09172551355004809,
           -0.08883617085707865,
           -0.08585784980189771,
           -0.0828025757798818,
           -0.07968243896026693,
           -0.07650951402240914,
           -0.07329577844293628
          ],
          [
           2.177302523719835,
           2.2061442041036226,
           2.2323962658212064,
           2.255959593995609,
           2.2767531502534752,
           2.294714635158114,
           2.3098007025568803,
           2.321986652920012,
           2.3312655889089497,
           2.337647135771772,
           2.3411557429711447,
           2.341828706614913,
           2.3397139480751803,
           2.3348677377822584,
           2.3273524244765373,
           2.317234297120168,
           2.304581669918278,
           2.2894632714573517,
           2.271947005572668,
           2.2520991728163975,
           2.229983996493597,
           2.2056639753184353,
           2.179200440480215,
           2.1506547878404523,
           2.1200902204345273,
           2.0875736507178946,
           2.053178362982365,
           2.016986214881987,
           1.9790897924517488,
           1.939593876056363
          ],
          [
           0.7861768747547099,
           0.7910377078340202,
           0.7951164060090934,
           0.7984047461011604,
           0.8008976608142825,
           0.8025930894785507,
           0.8034917756615746,
           0.8035970117956536,
           0.8029143490562827,
           0.8014513014409463,
           0.7992170761691973,
           0.7962223450295929,
           0.7924791127019629,
           0.788000654477999,
           0.7828015419498934,
           0.7768977260920756,
           0.7703066511641353,
           0.7630473716415286,
           0.7551406497471922,
           0.7466090327653403,
           0.7374768175725585,
           0.7277701090833504,
           0.7175166987887769,
           0.7067459716193365,
           0.6954887845651782,
           0.6837772259531315,
           0.6716445360728022,
           0.6591248317248202,
           0.6462529109373006,
           0.6330640354467084
          ],
          [
           0.5427661634484883,
           0.5482000388472574,
           0.5531166544302689,
           0.5574974347505213,
           0.5613256352545641,
           0.5645864679974925,
           0.5672672222754517,
           0.5693573685924903,
           0.5708486402518929,
           0.5717351026788274,
           0.5720132011709346,
           0.5716817924841306,
           0.5707421523964669,
           0.569197966736031,
           0.5670553006958342,
           0.5643225492034462,
           0.5610103685806169,
           0.557131590460906,
           0.5527011191692119,
           0.5477358224099148,
           0.5422543670853828,
           0.5362771243486447,
           0.5298259854052806,
           0.5229242081080179,
           0.5155962620833708,
           0.5078676096533948,
           0.499764603604483,
           0.4913142670557836,
           0.4825441329858988,
           0.47348207546950083
          ],
          [
           2.649850646544954,
           2.6901418579106426,
           2.7269647903523757,
           2.7600797349642625,
           2.7892641792567865,
           2.8143163617622835,
           2.8350587528590725,
           2.8513412701908893,
           2.8630440746741623,
           2.870079920279975,
           2.8723958920637176,
           2.86997450200284,
           2.8628340320036507,
           2.8510281690410326,
           2.8346449069639843,
           2.813804784978241,
           2.788658538665408,
           2.759384264787541,
           2.726184214389865,
           2.689281396064839,
           2.648915737154353,
           2.6053408193619956,
           2.558820091070635,
           2.509623514805599,
           2.458024451182612,
           2.4042963746073327,
           2.34871071026251,
           2.291534142698062,
           2.2330266426902545,
           2.173439716749881
          ],
          [
           1.4074771184777721,
           1.4236672171336509,
           1.4383557709587358,
           1.4514772908252873,
           1.4629723881847922,
           1.472788332845644,
           1.48087958265839,
           1.487208246135635,
           1.4917444566007971,
           1.4944666848475325,
           1.4953619592275764,
           1.4944260077826774,
           1.4916632965188221,
           1.487086986939806,
           1.4807187970150226,
           1.4725887755231792,
           1.4627349926203717,
           1.4512031524638234,
           1.4380461350610285,
           1.4233235006201734,
           1.407100818049173,
           1.389449190162454,
           1.3704445102379774,
           1.3501668105363835,
           1.3286996108114177,
           1.3061290874673648,
           1.2825435970407886,
           1.2580328691797855,
           1.2326873919736492,
           1.206597792136295
          ],
          [
           1.6125318212247746,
           1.6348696027186644,
           1.655218086907302,
           1.6734625808423578,
           1.6894979100546066,
           1.7032297657306097,
           1.7145759896739323,
           1.723467723529672,
           1.7298503732142303,
           1.7336844091927617,
           1.7349459444591222,
           1.733627099651355,
           1.729736111879754,
           1.7232972175122032,
           1.7143502890430815,
           1.7029502470930844,
           1.689166262734222,
           1.6730807729886596,
           1.6547883367949991,
           1.6343943964177565,
           1.612013772424441,
           1.5877694271895795,
           1.5617908699954042,
           1.5342127195544721,
           1.5051733084075967,
           1.47481309881831,
           1.443273639562625,
           1.4106961421776498,
           1.3772203871098854,
           1.34298369202721
          ],
          [
           0.035016864551162666,
           0.03524253374752912,
           0.03544580734119591,
           0.03562623049525109,
           0.035783397395767705,
           0.03591695275070506,
           0.036026593434346464,
           0.03611206985456092,
           0.03617318686086903,
           0.03620980464818115,
           0.03622183930770667,
           0.036209263275577684,
           0.036172105363665136,
           0.03611045069424396,
           0.03602444031446236,
           0.03591427059122461,
           0.03578019237057085,
           0.035622509907712735,
           0.03544157957441014,
           0.03523780869962927,
           0.035011652507438776,
           0.034763614187946996,
           0.03449424153558332,
           0.03420412501015389,
           0.03389389585159895,
           0.033564221506669344,
           0.033215805973643694,
           0.03284938506683186,
           0.032465724048199876,
           0.03206561470332113
          ],
          [
           0.00038569680240041785,
           0.0003877807189458688,
           0.00038971242143073575,
           0.0003914894186831612,
           0.0003931094173744042,
           0.00039457032523713227,
           0.0003958702571919899,
           0.0003970075407345028,
           0.0003979807180432894,
           0.0003987885502268687,
           0.0003994300186734488,
           0.0003999043304106452,
           0.0004002109163143028,
           0.0004003494345073901,
           0.0004003197704208902,
           0.0004001220368891921,
           0.0003997565736942148,
           0.0003992239465628295,
           0.00039852494561976005,
           0.00039766058483071276,
           0.00039663209354431347,
           0.00039544092172937674,
           0.00039408873102272446,
           0.0003925773918576401,
           0.0003909089816707738,
           0.0003890857688092208,
           0.0003871102231719506,
           0.00038498499975588095,
           0.0003827129348838584,
           0.00038029703948742145
          ],
          [
           0.008017103544617658,
           0.00814840235186022,
           0.008277183385346396,
           0.008403237141435848,
           0.008526355224064258,
           0.008646330794839714,
           0.008762959263613932,
           0.008876039007395543,
           0.008985371844389347,
           0.009090763743752294,
           0.009192025233680873,
           0.009288972467592192,
           0.009381427291679975,
           0.009469218166527456,
           0.009552180660823159,
           0.009630158011167437,
           0.009703001661748622,
           0.009770571781002378,
           0.009832737752566848,
           0.009889378550957766,
           0.009940383529863133,
           0.009985652271960703,
           0.01002509532650557,
           0.01005863443883824,
           0.010086202796841767,
           0.010107745444332582,
           0.01012321921683065,
           0.010132593088499198,
           0.010135848237692953,
           0.010132978116724707
          ],
          [
           0.4237834725490276,
           0.43641760576860517,
           0.44903407668096684,
           0.4616021041020498,
           0.4740895312480625,
           0.4864629160635684,
           0.4986876626510428,
           0.5107281742317445,
           0.5225479983013032,
           0.5341100142048897,
           0.5453766052298596,
           0.5563099203072923,
           0.5668720407854551,
           0.5770252564120232,
           0.5867323066637861,
           0.5959566401376633,
           0.6046626801283136,
           0.6128160934577331,
           0.6203840593612489,
           0.6273355243406942,
           0.6336415047314553,
           0.6392752675768933,
           0.6442126107109237,
           0.6484320676232552,
           0.6519150980857995,
           0.6546462810158349,
           0.6566134254398034,
           0.6578077096377786,
           0.6582237591622079,
           0.6578596984200659
          ],
          [
           0.8349801914889328,
           0.864805621810528,
           0.8948771938383399,
           0.9251227063959498,
           0.9554639497045299,
           0.9858167086245015,
           1.0160908894824678,
           1.046190732611656,
           1.0760150446943484,
           1.105457583340952,
           1.134407456637167,
           1.1627498140205146,
           1.190366362832166,
           1.2171362402021348,
           1.2429368760812791,
           1.2676449851845342,
           1.2911376577590292,
           1.313293539042906,
           1.333994083419863,
           1.3531248357244123,
           1.370576897793834,
           1.3862480977881937,
           1.4000444516043467,
           1.4118814153010242,
           1.4216850725774037,
           1.4293932810309669,
           1.4349565170419492,
           1.4383387079782677,
           1.43951778210356,
           1.4384860197368479
          ],
          [
           0.05581211792555471,
           0.05684582305869889,
           0.05786238042914074,
           0.05885995484840521,
           0.059836709618212906,
           0.06079081119112421,
           0.06172043582131402,
           0.06262377653257398,
           0.0634990482071482,
           0.06434449461641742,
           0.06515839308777449,
           0.06593906450066908,
           0.06668487529234363,
           0.06739424634619791,
           0.06806565845066699,
           0.06869765828462956,
           0.0692888642232939,
           0.06983797192918595,
           0.07034375969293066,
           0.07080509278211539,
           0.07122093108686689,
           0.07159032904411443,
           0.0719124427041516,
           0.07218653256244761,
           0.07241196642010285,
           0.07258822349535798,
           0.07271489450744242,
           0.07279168499463365,
           0.07281841619911288,
           0.07279502585013467
          ],
          [
           1.1293697874760165,
           1.1687071277043513,
           1.2083446618362967,
           1.248188384307209,
           1.2881365507710383,
           1.3280796711063332,
           1.367900662617867,
           1.4074751136108017,
           1.4466715710430205,
           1.4853520268074611,
           1.5233724226406138,
           1.5605835371520842,
           1.5968316438748293,
           1.631959636478245,
           1.6658081432733378,
           1.6982168123661103,
           1.7290257282344816,
           1.758076946654809,
           1.7852161296823652,
           1.8102942183193738,
           1.8331693499443196,
           1.8537083878064269,
           1.871788834798325,
           1.8873004743338069,
           1.9001469268339142,
           1.9102471525755593,
           1.917536559796906,
           1.9219680961186356,
           1.9235129698825442,
           1.9221611107702383
          ],
          [
           1.6635368723697166,
           1.7248227629040302,
           1.786922596500307,
           1.8497130988586918,
           1.9130571133216991,
           1.9768029272476104,
           2.0407837715911454,
           2.1048174203033727,
           2.168705755326646,
           2.232234588232717,
           2.295173462163642,
           2.3572760561677724,
           2.418280214364171,
           2.4779087916521974,
           2.535870578817507,
           2.5918616706957756,
           2.645567289392977,
           2.696664129227153,
           2.7448232915093627,
           2.789713804307907,
           2.8310072056996067,
           2.868382150169766,
           2.9015304854284536,
           2.9301636363214323,
           2.9540195602073913,
           2.972870155051617,
           2.9865281720652748,
           2.9948538899839225,
           2.9977603614416877,
           2.9952169058916884
          ],
          [
           1.7227278799078791,
           1.793294207174674,
           1.865230994339856,
           1.9384125338395044,
           2.0126945987658047,
           2.0879131972512264,
           2.1638834921501346,
           2.2403988030581057,
           2.317229529323376,
           2.3941223396448756,
           2.4707992971455455,
           2.5469576755514662,
           2.622269279727383,
           2.6963807237086463,
           2.7689137759011353,
           2.8394662239712214,
           2.9076132907011414,
           2.9729097081736473,
           3.034892573746632,
           3.093085038805867,
           3.1470015429270766,
           3.196153384313829,
           3.2400567181525552,
           3.278241795195773,
           3.3102642391917674,
           3.3357188508268076,
           3.354255482060593,
           3.3655981807688167,
           3.3695661962456542,
           3.366093539291017
          ],
          [
           0.16310562074726348,
           0.16694153365047093,
           0.17073806950793094,
           0.1744870253960393,
           0.17818005752566213,
           0.1818087072080871,
           0.18536443571302294,
           0.18883866180594222,
           0.19222279341015913,
           0.19550826792388987,
           0.19868658449765264,
           0.201749358099899,
           0.20468834329965824,
           0.20749548562820835,
           0.21016296013007638,
           0.212683212346592,
           0.21504899879214828,
           0.2172534265824561,
           0.21928999187336357,
           0.22115261390731902,
           0.22283568179392735,
           0.22433406931456798,
           0.22564317757715113,
           0.22675895941713828,
           0.22767794255280474,
           0.2283972563715814,
           0.22891464067456865,
           0.22922846587868603,
           0.22933774148104094,
           0.2292421222178488
          ]
         ],
         "type": "surface"
        },
        {
         "name": "NLCB",
         "x": [
          0.9
         ],
         "y": [
          5.89
         ],
         "z": [
          3.88
         ],
         "type": "scatter3d"
        }
       ],
       "layout": {
        "template": {
         "data": {
          "barpolar": [
           {
            "marker": {
             "line": {
              "color": "rgb(237,237,237)",
              "width": 0.5
             },
             "pattern": {
              "fillmode": "overlay",
              "size": 10,
              "solidity": 0.2
             }
            },
            "type": "barpolar"
           }
          ],
          "bar": [
           {
            "error_x": {
             "color": "rgb(51,51,51)"
            },
            "error_y": {
             "color": "rgb(51,51,51)"
            },
            "marker": {
             "line": {
              "color": "rgb(237,237,237)",
              "width": 0.5
             },
             "pattern": {
              "fillmode": "overlay",
              "size": 10,
              "solidity": 0.2
             }
            },
            "type": "bar"
           }
          ],
          "carpet": [
           {
            "aaxis": {
             "endlinecolor": "rgb(51,51,51)",
             "gridcolor": "white",
             "linecolor": "white",
             "minorgridcolor": "white",
             "startlinecolor": "rgb(51,51,51)"
            },
            "baxis": {
             "endlinecolor": "rgb(51,51,51)",
             "gridcolor": "white",
             "linecolor": "white",
             "minorgridcolor": "white",
             "startlinecolor": "rgb(51,51,51)"
            },
            "type": "carpet"
           }
          ],
          "choropleth": [
           {
            "colorbar": {
             "outlinewidth": 0,
             "tickcolor": "rgb(237,237,237)",
             "ticklen": 6,
             "ticks": "inside"
            },
            "type": "choropleth"
           }
          ],
          "contourcarpet": [
           {
            "colorbar": {
             "outlinewidth": 0,
             "tickcolor": "rgb(237,237,237)",
             "ticklen": 6,
             "ticks": "inside"
            },
            "type": "contourcarpet"
           }
          ],
          "contour": [
           {
            "colorbar": {
             "outlinewidth": 0,
             "tickcolor": "rgb(237,237,237)",
             "ticklen": 6,
             "ticks": "inside"
            },
            "colorscale": [
             [
              0,
              "rgb(20,44,66)"
             ],
             [
              1,
              "rgb(90,179,244)"
             ]
            ],
            "type": "contour"
           }
          ],
          "heatmapgl": [
           {
            "colorbar": {
             "outlinewidth": 0,
             "tickcolor": "rgb(237,237,237)",
             "ticklen": 6,
             "ticks": "inside"
            },
            "colorscale": [
             [
              0,
              "rgb(20,44,66)"
             ],
             [
              1,
              "rgb(90,179,244)"
             ]
            ],
            "type": "heatmapgl"
           }
          ],
          "heatmap": [
           {
            "colorbar": {
             "outlinewidth": 0,
             "tickcolor": "rgb(237,237,237)",
             "ticklen": 6,
             "ticks": "inside"
            },
            "colorscale": [
             [
              0,
              "rgb(20,44,66)"
             ],
             [
              1,
              "rgb(90,179,244)"
             ]
            ],
            "type": "heatmap"
           }
          ],
          "histogram2dcontour": [
           {
            "colorbar": {
             "outlinewidth": 0,
             "tickcolor": "rgb(237,237,237)",
             "ticklen": 6,
             "ticks": "inside"
            },
            "colorscale": [
             [
              0,
              "rgb(20,44,66)"
             ],
             [
              1,
              "rgb(90,179,244)"
             ]
            ],
            "type": "histogram2dcontour"
           }
          ],
          "histogram2d": [
           {
            "colorbar": {
             "outlinewidth": 0,
             "tickcolor": "rgb(237,237,237)",
             "ticklen": 6,
             "ticks": "inside"
            },
            "colorscale": [
             [
              0,
              "rgb(20,44,66)"
             ],
             [
              1,
              "rgb(90,179,244)"
             ]
            ],
            "type": "histogram2d"
           }
          ],
          "histogram": [
           {
            "marker": {
             "pattern": {
              "fillmode": "overlay",
              "size": 10,
              "solidity": 0.2
             }
            },
            "type": "histogram"
           }
          ],
          "mesh3d": [
           {
            "colorbar": {
             "outlinewidth": 0,
             "tickcolor": "rgb(237,237,237)",
             "ticklen": 6,
             "ticks": "inside"
            },
            "type": "mesh3d"
           }
          ],
          "parcoords": [
           {
            "line": {
             "colorbar": {
              "outlinewidth": 0,
              "tickcolor": "rgb(237,237,237)",
              "ticklen": 6,
              "ticks": "inside"
             }
            },
            "type": "parcoords"
           }
          ],
          "pie": [
           {
            "automargin": true,
            "type": "pie"
           }
          ],
          "scatter3d": [
           {
            "line": {
             "colorbar": {
              "outlinewidth": 0,
              "tickcolor": "rgb(237,237,237)",
              "ticklen": 6,
              "ticks": "inside"
             }
            },
            "marker": {
             "colorbar": {
              "outlinewidth": 0,
              "tickcolor": "rgb(237,237,237)",
              "ticklen": 6,
              "ticks": "inside"
             }
            },
            "type": "scatter3d"
           }
          ],
          "scattercarpet": [
           {
            "marker": {
             "colorbar": {
              "outlinewidth": 0,
              "tickcolor": "rgb(237,237,237)",
              "ticklen": 6,
              "ticks": "inside"
             }
            },
            "type": "scattercarpet"
           }
          ],
          "scattergeo": [
           {
            "marker": {
             "colorbar": {
              "outlinewidth": 0,
              "tickcolor": "rgb(237,237,237)",
              "ticklen": 6,
              "ticks": "inside"
             }
            },
            "type": "scattergeo"
           }
          ],
          "scattergl": [
           {
            "marker": {
             "colorbar": {
              "outlinewidth": 0,
              "tickcolor": "rgb(237,237,237)",
              "ticklen": 6,
              "ticks": "inside"
             }
            },
            "type": "scattergl"
           }
          ],
          "scattermapbox": [
           {
            "marker": {
             "colorbar": {
              "outlinewidth": 0,
              "tickcolor": "rgb(237,237,237)",
              "ticklen": 6,
              "ticks": "inside"
             }
            },
            "type": "scattermapbox"
           }
          ],
          "scatterpolargl": [
           {
            "marker": {
             "colorbar": {
              "outlinewidth": 0,
              "tickcolor": "rgb(237,237,237)",
              "ticklen": 6,
              "ticks": "inside"
             }
            },
            "type": "scatterpolargl"
           }
          ],
          "scatterpolar": [
           {
            "marker": {
             "colorbar": {
              "outlinewidth": 0,
              "tickcolor": "rgb(237,237,237)",
              "ticklen": 6,
              "ticks": "inside"
             }
            },
            "type": "scatterpolar"
           }
          ],
          "scatter": [
           {
            "fillpattern": {
             "fillmode": "overlay",
             "size": 10,
             "solidity": 0.2
            },
            "type": "scatter"
           }
          ],
          "scatterternary": [
           {
            "marker": {
             "colorbar": {
              "outlinewidth": 0,
              "tickcolor": "rgb(237,237,237)",
              "ticklen": 6,
              "ticks": "inside"
             }
            },
            "type": "scatterternary"
           }
          ],
          "surface": [
           {
            "colorbar": {
             "outlinewidth": 0,
             "tickcolor": "rgb(237,237,237)",
             "ticklen": 6,
             "ticks": "inside"
            },
            "colorscale": [
             [
              0,
              "rgb(20,44,66)"
             ],
             [
              1,
              "rgb(90,179,244)"
             ]
            ],
            "type": "surface"
           }
          ],
          "table": [
           {
            "cells": {
             "fill": {
              "color": "rgb(237,237,237)"
             },
             "line": {
              "color": "white"
             }
            },
            "header": {
             "fill": {
              "color": "rgb(217,217,217)"
             },
             "line": {
              "color": "white"
             }
            },
            "type": "table"
           }
          ]
         },
         "layout": {
          "annotationdefaults": {
           "arrowhead": 0,
           "arrowwidth": 1
          },
          "autotypenumbers": "strict",
          "coloraxis": {
           "colorbar": {
            "outlinewidth": 0,
            "tickcolor": "rgb(237,237,237)",
            "ticklen": 6,
            "ticks": "inside"
           }
          },
          "colorscale": {
           "sequential": [
            [
             0,
             "rgb(20,44,66)"
            ],
            [
             1,
             "rgb(90,179,244)"
            ]
           ],
           "sequentialminus": [
            [
             0,
             "rgb(20,44,66)"
            ],
            [
             1,
             "rgb(90,179,244)"
            ]
           ]
          },
          "colorway": [
           "#F8766D",
           "#A3A500",
           "#00BF7D",
           "#00B0F6",
           "#E76BF3"
          ],
          "font": {
           "color": "rgb(51,51,51)"
          },
          "geo": {
           "bgcolor": "white",
           "lakecolor": "white",
           "landcolor": "rgb(237,237,237)",
           "showlakes": true,
           "showland": true,
           "subunitcolor": "white"
          },
          "hoverlabel": {
           "align": "left"
          },
          "hovermode": "closest",
          "paper_bgcolor": "white",
          "plot_bgcolor": "rgb(237,237,237)",
          "polar": {
           "angularaxis": {
            "gridcolor": "white",
            "linecolor": "white",
            "showgrid": true,
            "tickcolor": "rgb(51,51,51)",
            "ticks": "outside"
           },
           "bgcolor": "rgb(237,237,237)",
           "radialaxis": {
            "gridcolor": "white",
            "linecolor": "white",
            "showgrid": true,
            "tickcolor": "rgb(51,51,51)",
            "ticks": "outside"
           }
          },
          "scene": {
           "xaxis": {
            "backgroundcolor": "rgb(237,237,237)",
            "gridcolor": "white",
            "gridwidth": 2,
            "linecolor": "white",
            "showbackground": true,
            "showgrid": true,
            "tickcolor": "rgb(51,51,51)",
            "ticks": "outside",
            "zerolinecolor": "white"
           },
           "yaxis": {
            "backgroundcolor": "rgb(237,237,237)",
            "gridcolor": "white",
            "gridwidth": 2,
            "linecolor": "white",
            "showbackground": true,
            "showgrid": true,
            "tickcolor": "rgb(51,51,51)",
            "ticks": "outside",
            "zerolinecolor": "white"
           },
           "zaxis": {
            "backgroundcolor": "rgb(237,237,237)",
            "gridcolor": "white",
            "gridwidth": 2,
            "linecolor": "white",
            "showbackground": true,
            "showgrid": true,
            "tickcolor": "rgb(51,51,51)",
            "ticks": "outside",
            "zerolinecolor": "white"
           }
          },
          "shapedefaults": {
           "fillcolor": "black",
           "line": {
            "width": 0
           },
           "opacity": 0.3
          },
          "ternary": {
           "aaxis": {
            "gridcolor": "white",
            "linecolor": "white",
            "showgrid": true,
            "tickcolor": "rgb(51,51,51)",
            "ticks": "outside"
           },
           "baxis": {
            "gridcolor": "white",
            "linecolor": "white",
            "showgrid": true,
            "tickcolor": "rgb(51,51,51)",
            "ticks": "outside"
           },
           "bgcolor": "rgb(237,237,237)",
           "caxis": {
            "gridcolor": "white",
            "linecolor": "white",
            "showgrid": true,
            "tickcolor": "rgb(51,51,51)",
            "ticks": "outside"
           }
          },
          "xaxis": {
           "automargin": true,
           "gridcolor": "white",
           "linecolor": "white",
           "showgrid": true,
           "tickcolor": "rgb(51,51,51)",
           "ticks": "outside",
           "title": {
            "standoff": 15
           },
           "zerolinecolor": "white"
          },
          "yaxis": {
           "automargin": true,
           "gridcolor": "white",
           "linecolor": "white",
           "showgrid": true,
           "tickcolor": "rgb(51,51,51)",
           "ticks": "outside",
           "title": {
            "standoff": 15
           },
           "zerolinecolor": "white"
          }
         }
        },
        "legend": {
         "orientation": "h",
         "yanchor": "top",
         "y": 1.02,
         "xanchor": "left",
         "x": 1
        },
        "margin": {
         "r": 20,
         "l": 10,
         "b": 10,
         "t": 10
        },
        "width": 1000,
        "height": 800,
        "scene": {
         "xaxis": {
          "title": {
           "text": "Pulse width (μs)"
          }
         },
         "yaxis": {
          "title": {
           "text": "Energy density new cone (J/cm^2)"
          }
         },
         "zaxis": {
          "title": {
           "text": "Figure of Merit"
          }
         },
         "camera": {
          "up": {
           "x": 0,
           "y": 0,
           "z": 1
          },
          "center": {
           "x": 0,
           "y": 0,
           "z": 0
          },
          "eye": {
           "x": 2.75,
           "y": 1.75,
           "z": 1
          }
         }
        }
       },
       "config": {
        "plotlyServerURL": "https://plot.ly"
       }
      }
     },
     "metadata": {}
    }
   ],
   "metadata": {}
  },
  {
   "cell_type": "code",
   "execution_count": 18,
   "source": [
    "df_x = df_Xnew\n",
    "df_cols = df.columns\n",
    "n_col = 2 # num of columns per row in the figure\n",
    "fs = 20\n",
    "for n in np.arange(0, 2, n_col):\n",
    "    fig,axes = plt.subplots(1, n_col, figsize=(18, 3.5), sharey = False)\n",
    "    fs = 20\n",
    "    for i in np.arange(n_col):\n",
    "        if n< len(df_cols):\n",
    "            axes[i].hist(df_x.iloc[:,n], bins= 20, range = (min(var_array[n])- 0.05*abs(var_array[n][1]-var_array[n][0]),\n",
    "                                                            max(var_array[n])+0.05*abs(var_array[n][1]-var_array[n][0])), \n",
    "                         edgecolor='black') ####\n",
    "            axes[i].set_xlabel(df_cols[n], fontsize = 18)\n",
    "        else:\n",
    "            axes[i].axis(\"off\")\n",
    "        n = n+1      \n",
    "    axes[0].set_ylabel('counts', fontsize = fs)\n",
    "    for i in range(len(axes)):\n",
    "        axes[i].tick_params(direction='in', length=5, width=1, labelsize = fs*.8, grid_alpha = 0.5)\n",
    "        axes[i].grid(True, linestyle='-.')\n",
    "    plt.show()"
   ],
   "outputs": [
    {
     "output_type": "display_data",
     "data": {
      "image/png": "[encoded data removed]",
      "text/plain": [
       "<Figure size 1800x350 with 2 Axes>"
      ]
     },
     "metadata": {}
    }
   ],
   "metadata": {}
  },
  {
   "cell_type": "code",
   "execution_count": 19,
   "source": [
    "fig, axes = plt.subplots(1, 2, figsize=(16, 4.5), sharey = False)\n",
    "fs = 14\n",
    "exp_cond = np.transpose(range(len(Y)))\n",
    "exp_eff = np.transpose(Y[:,0])\n",
    "\n",
    "# plot experimental points\n",
    "axes[0].scatter(exp_cond, exp_eff, #facecolor = 'none',\n",
    "            edgecolor = 'navy', s = 20, alpha = 0.6, label = 'experiment')\n",
    "\n",
    "# connect max experimental points with black line\n",
    "axes[0].plot(np.transpose(exp_cond), np.maximum.accumulate(np.transpose(exp_eff)), \n",
    "         marker = 'o', ms = 0, c = 'black')\n",
    "\n",
    "# plot training predictions\n",
    "axes[0].scatter(np.arange(len(y_pred)), y_pred,\n",
    "                s = 50, facecolors='none', alpha = 0.6, edgecolor = 'gray', label = 'predicted')\n",
    "\n",
    "# plot error bars\n",
    "axes[0].errorbar(np.arange(len(y_pred)), y_pred, yerr = y_uncer,  \n",
    "                 ms = 0, ls = '', capsize = 2, alpha = 0.6, \n",
    "                 color = 'gray', zorder = 0)\n",
    "\n",
    "# calculate suggested point\n",
    "y_pred_new, y_uncer_new = f_obj(x_normalizer(df_Xnew.values))\n",
    "y_pred_new = -y_pred_new[:,-1]\n",
    "y_uncer_new = np.sqrt(y_uncer_new[:,-1])\n",
    "\n",
    "# plot suggested point\n",
    "axes[0].scatter(np.arange(len(df_Xnew))+len(X), y_pred_new,\n",
    "                s = 50, facecolors='none', alpha = 0.6, edgecolor = 'darkgreen', label = 'suggested')\n",
    "axes[0].errorbar(np.arange(len(df_Xnew))+len(X), y_pred_new, yerr = y_uncer_new,  \n",
    "                 ms = 0, ls = '', capsize = 2, alpha = 0.6, \n",
    "                 color = 'darkgreen', zorder = 0)\n",
    "\n",
    "# set up axes and labels\n",
    "axes[0].set_ylabel('Current Best 2 Qsw/(U+|D|) 1e6cycles', fontsize = fs)\n",
    "axes[0].set_xlabel('Process Condition', fontsize = fs)\n",
    "axes[0].set_ylim(-1, 8)\n",
    "axes[0].set_xlim(-1, 30)\n",
    "axes[0].set_xticks(np.arange(0,35,5))\n",
    "axes[0].legend(fontsize = fs*0.8)\n",
    "\n",
    "axes[1].axis(\"off\")\n",
    "for ax in axes:\n",
    "    ax.tick_params(direction='in', length=5, width=1, labelsize = fs*.8, grid_alpha = 0.5)\n",
    "    ax.grid(True, linestyle='-.')\n",
    "plt.subplots_adjust(wspace = 0.4)\n",
    "\n",
    "plt.show()"
   ],
   "outputs": [
    {
     "output_type": "display_data",
     "data": {
      "image/png": "[encoded data removed]",
      "text/plain": [
       "<Figure size 1600x450 with 2 Axes>"
      ]
     },
     "metadata": {}
    }
   ],
   "metadata": {}
  },
  {
   "cell_type": "code",
   "execution_count": 20,
   "source": [
    "design = RandomDesign(parameter_space)\n",
    "x_sampled = design.get_samples(200)\n",
    "x_columns = df.iloc[:,0:2].columns\n",
    "for i in range(input_dim):\n",
    "    for j in range(input_dim-i-1):\n",
    "        \n",
    "## Generate a 2D grid for Contour plot\n",
    "        ind1 = i\n",
    "        ind2 = j+i+1\n",
    "        n_steps =21\n",
    "        x1x2y_pred, x1x2y_uncer =[[],[]]\n",
    "        for x1 in np.linspace(0, 1, n_steps):\n",
    "            for x2 in np.linspace(0, 1, n_steps):\n",
    "                x_temp = np.copy(x_sampled)\n",
    "                x_temp[:,ind1] = x1\n",
    "                x_temp[:,ind2] = x2\n",
    "                y_pred, y_uncer = f_obj(x_temp)\n",
    "                y_pred = -y_pred\n",
    "                x1_org = x_denormalizer(x_temp)[0,ind1]\n",
    "                x2_org = x_denormalizer(x_temp)[0,ind2]\n",
    "                x1x2y_pred.append([x1_org, x2_org, np.max(y_pred), np.mean(y_pred), np.min(y_pred)])\n",
    "                x1x2y_uncer.append([x1_org, x2_org, np.max(np.sqrt(y_uncer)), np.mean(np.sqrt(y_uncer)), np.min(np.sqrt(y_uncer))])\n",
    "                \n",
    "        x1 = np.array(x1x2y_pred, dtype=object)[:,0].reshape(n_steps, n_steps)\n",
    "        x2 = np.array(x1x2y_pred, dtype=object)[:,1].reshape(n_steps, n_steps)\n",
    "        y_pred_max = np.array(x1x2y_pred, dtype=object)[:,2].reshape(n_steps, n_steps)\n",
    "        y_pred_mean = np.array(x1x2y_pred, dtype=object)[:,3].reshape(n_steps, n_steps)\n",
    "        y_pred_min = np.array(x1x2y_pred, dtype=object)[:,4].reshape(n_steps, n_steps)\n",
    "        \n",
    "        y_uncer_max = np.array(x1x2y_uncer, dtype=object)[:,2].reshape(n_steps, n_steps)\n",
    "        y_uncer_mean = np.array(x1x2y_uncer, dtype=object)[:,3].reshape(n_steps, n_steps)\n",
    "        y_uncer_min = np.array(x1x2y_uncer, dtype=object)[:,4].reshape(n_steps, n_steps)\n",
    "\n",
    "        fs = 14\n",
    "        title_pad = 16\n",
    "        \n",
    "## Contour for Prediction Efficiency Mean\n",
    "        fig,axes = plt.subplots(1, 3, figsize=(17, 4), sharey = False, sharex = False)\n",
    "        colorbar_offset = [6, 2, 1]\n",
    "        for ax, c_offset, y in zip(axes, colorbar_offset,\n",
    "                                   [y_pred_max, y_pred_mean, y_pred_min]):#[y_pred_max, y_pred_mean, y_pred_min]\n",
    "            \n",
    "            c_plt1 = ax.contourf(x1, x2, y, levels = np.arange(26)*0.25+c_offset, cmap='plasma', extend = 'both')\n",
    "            cbar = fig.colorbar(c_plt1, ax= ax)\n",
    "            cbar.ax.tick_params(labelsize=fs*0.8)\n",
    "            ax.scatter(x_denormalizer(X)[:, ind1], \n",
    "                       x_denormalizer(X)[:, ind2], \n",
    "                       s = 40, facecolors='gray', alpha = 0.5, edgecolor = 'white')\n",
    "\n",
    "            ax.scatter(df_Xnew.values[:, ind1], \n",
    "                       df_Xnew.values[:, ind2], \n",
    "                       s = 50, facecolors='none', alpha = 0.9, edgecolor = 'green')\n",
    "            ax.set_xlabel(str(x_columns[ind1]),fontsize =  fs)\n",
    "            ax.set_ylabel(str(x_columns[ind2]),fontsize =  fs)\n",
    "\n",
    "            x1_delta = (np.max(x1)-np.min(x1))*0.05\n",
    "            x2_delta = (np.max(x2)-np.min(x2))*0.05\n",
    "            ax.set_xlim(np.min(x1)-x1_delta, np.max(x1)+x1_delta)\n",
    "            ax.set_ylim(np.min(x2)-x2_delta, np.max(x2)+x2_delta)\n",
    "            ax.tick_params(direction='in', length=5, width=1, labelsize = fs*.8)#, grid_alpha = 0.5\n",
    "\n",
    "        axes[0].set_title('objective fcn max', pad = title_pad,fontsize =  fs)\n",
    "        axes[1].set_title('objective fcn mean', pad = title_pad,fontsize =  fs)\n",
    "        axes[2].set_title('objective fcn min', pad = title_pad,fontsize =  fs)\n",
    "        plt.subplots_adjust(wspace = 0.3)\n",
    "        plt.show()\n"
   ],
   "outputs": [
    {
     "output_type": "display_data",
     "data": {
      "image/png": "[encoded data removed]",
      "text/plain": [
       "<Figure size 1700x400 with 6 Axes>"
      ]
     },
     "metadata": {}
    }
   ],
   "metadata": {}
  },
  {
   "cell_type": "markdown",
   "source": [
    "### Save Predictions and Visualize "
   ],
   "metadata": {}
  },
  {
   "cell_type": "code",
   "execution_count": 21,
   "source": [
    "design = RandomDesign(parameter_space)\n",
    "x_sampled = design.get_samples(200)\n",
    "x_columns = df.iloc[:,0:2].columns\n",
    "for i in range(input_dim):\n",
    "    for j in range(input_dim-i-1):\n",
    "        ind1 = i\n",
    "        ind2 = j+i+1\n",
    "        n_steps =21\n",
    "        x1x2y_pred, x1x2y_var =[[],[]]\n",
    "        for x1 in np.linspace(0, 1, n_steps):\n",
    "            for x2 in np.linspace(0, 1, n_steps):\n",
    "                x_temp = np.copy(x_sampled)\n",
    "                x_temp[:,ind1] = x1\n",
    "                x_temp[:,ind2] = x2\n",
    "                yc_pr = f_acq(x_temp)\n",
    "                x1_org = x_denormalizer(x_temp)[0,ind1]\n",
    "                x2_org = x_denormalizer(x_temp)[0,ind2]\n",
    "                x1x2y_pred.append([x1_org, x2_org, np.max(yc_pr), np.mean(yc_pr), np.min(yc_pr)])\n",
    "                \n",
    "        x1c = np.array(x1x2y_pred, dtype=object)[:,0].reshape(n_steps, n_steps)\n",
    "        x2c = np.array(x1x2y_pred, dtype=object)[:,1].reshape(n_steps, n_steps)\n",
    "        yc_pr_max = np.array(x1x2y_pred, dtype=object)[:,2].reshape(n_steps, n_steps)\n",
    "        yc_pr_mean = np.array(x1x2y_pred, dtype=object)[:,3].reshape(n_steps, n_steps)\n",
    "        yc_pr_min = np.array(x1x2y_pred, dtype=object)[:,4].reshape(n_steps, n_steps)\n",
    "\n",
    "        fs = 14\n",
    "        title_pad = 16\n",
    "        \n",
    "        fig,axes = plt.subplots(1, 3, figsize=(17, 4), sharey = False, sharex = False)\n",
    "        colorbar_offset = [0.2, 0.1, 0.0]\n",
    "        for ax, y, c_offset in zip(axes, [yc_pr_max, yc_pr_mean, yc_pr_min],colorbar_offset):\n",
    "            c_plt1 = ax.contourf(x1c, x2c, y/22, levels = np.arange(11)*0.05+c_offset, cmap='coolwarm', extend = 'both')# \n",
    "            cbar = fig.colorbar(c_plt1, ax= ax)\n",
    "            cbar.ax.tick_params(labelsize=fs*0.8)\n",
    "            ax.scatter(x_denormalizer(X)[:, ind1], \n",
    "                       x_denormalizer(X)[:, ind2], \n",
    "                       s = 40, facecolors='gray', alpha = 0.5, edgecolor = 'white')\n",
    "            ax.scatter(df_Xnew.values[:, ind1], \n",
    "                       df_Xnew.values[:, ind2], \n",
    "                       s = 50, facecolors='none', alpha = 0.9, edgecolor = 'green')\n",
    "            ax.set_xlabel(str(x_columns[ind1]),fontsize = fs)\n",
    "            ax.set_ylabel(str(x_columns[ind2]),fontsize = fs)\n",
    "\n",
    "            x1_delta = (np.max(x1c)-np.min(x1c))*0.05\n",
    "            x2_delta = (np.max(x2c)-np.min(x2c))*0.05\n",
    "            ax.set_xlim(np.min(x1c)-x1_delta, np.max(x1c)+x1_delta)\n",
    "            ax.set_ylim(np.min(x2c)-x2_delta, np.max(x2c)+x2_delta)\n",
    "            ax.tick_params(direction='in', length=5, width=1, labelsize = fs*.8, grid_alpha = 0.5)\n",
    "            if ind1==1:#MAPbI\n",
    "                ax.set_xticks([0, 50, 100, 150, 200, 250])\n",
    "            if ind1==2:#PC voltage\n",
    "                ax.set_xticks([200, 250, 300, 350, 400, 450])\n",
    "            if ind1==3:#PC length\n",
    "                ax.set_xticks([0, 25, 50, 75, 100])\n",
    "            \n",
    "            \n",
    "        axes[0].set_title('acqui fcn max', pad = title_pad,fontsize = fs)\n",
    "        axes[1].set_title('acqui fcn mean', pad = title_pad,fontsize = fs)\n",
    "        axes[2].set_title('acqui fcn min', pad = title_pad,fontsize = fs)\n",
    "        plt.subplots_adjust(wspace = 0.3)\n",
    "        plt.show()"
   ],
   "outputs": [
    {
     "output_type": "display_data",
     "data": {
      "image/png": "[encoded data removed]",
      "text/plain": [
       "<Figure size 1700x400 with 6 Axes>"
      ]
     },
     "metadata": {}
    }
   ],
   "metadata": {}
  },
  {
   "cell_type": "code",
   "execution_count": null,
   "source": [],
   "outputs": [],
   "metadata": {}
  }
 ],
 "metadata": {
  "orig_nbformat": 4,
  "language_info": {
   "name": "python",
   "version": "3.9.16",
   "mimetype": "text/x-python",
   "codemirror_mode": {
    "name": "ipython",
    "version": 3
   },
   "pygments_lexer": "ipython3",
   "nbconvert_exporter": "python",
   "file_extension": ".py"
  },
  "kernelspec": {
   "name": "python3",
   "display_name": "Python 3.9.16 64-bit ('FEGP': conda)"
  },
  "interpreter": {
   "hash": "b00f9bca1c18369f730e284e4d0522d8a3e0f0b629e30dad99ec4bb4df6f08b7"
  }
 },
 "nbformat": 4,
 "nbformat_minor": 2
}