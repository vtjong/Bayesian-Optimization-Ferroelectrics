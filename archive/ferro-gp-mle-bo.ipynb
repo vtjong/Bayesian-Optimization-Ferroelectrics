{
 "cells": [
  {
   "cell_type": "markdown",
   "source": [
    "# Read Me\n",
    "\n",
    "This is a minimalist training script without hyperparameter searching or results logging. The main script that finds the best GP model for the HZO data, in which training hyperparameters were sampled and the models were evaluated is ./ferro-gp-mle-bo-training.ipynb."
   ],
   "metadata": {}
  },
  {
   "cell_type": "code",
   "execution_count": 3,
   "source": [
    "import sys\n",
    "from tkinter import Y\n",
    "import numpy as np\n",
    "import pandas as pd\n",
    "import torch\n",
    "import gpytorch\n",
    "import plotly.express as px\n",
    "import matplotlib.pyplot as plt\n",
    "sys.path.append('..')\n",
    "sys.path.insert(0, '../src')"
   ],
   "outputs": [],
   "metadata": {}
  },
  {
   "cell_type": "code",
   "execution_count": 4,
   "source": [
    "# custom imports\n",
    "from model import GPModel\n",
    "from GPy.models import GPRegression\n",
    "from acq_funcs import EI, PI, cust_acq, thompson\n",
    "# from plotter import vis_pred, vis_acq"
   ],
   "outputs": [],
   "metadata": {}
  },
  {
   "cell_type": "markdown",
   "source": [
    "## Data Read and Pre-processing"
   ],
   "metadata": {}
  },
  {
   "cell_type": "code",
   "execution_count": 5,
   "source": [
    "# read data and display\n",
    "def read_dat(dir=\"/Users/valenetjong/Bayesian-Optimization-Ferroelectrics/data/\",\n",
    "            src_file = \"Bolometer_readings_PulseForge.xlsx\", sheet= \"Combined\"):\n",
    "    file = dir + src_file\n",
    "    fe_data = pd.read_excel(file, sheet_name=sheet, usecols=['Energy density new cone (J/cm^2)',\n",
    "                            'Time (ms)','2 Qsw/(U+|D|) 1e6cycles'])\n",
    "    fe_data.dropna(subset=['2 Qsw/(U+|D|) 1e6cycles'], inplace=True)\n",
    "    fe_data = fe_data[fe_data['2 Qsw/(U+|D|) 1e6cycles']!= 0]\n",
    "    return fe_data\n",
    "\n",
    "def display_data(fe_data):\n",
    "    \"\"\"\n",
    "    [display_data(fe_data)] creates a cross-section scatter plot of all combinations\n",
    "    of the four input parameters and single output parameter.\n",
    "    \"\"\"\n",
    "    # plot each cross-section\n",
    "    fig = px.scatter_matrix(fe_data, dimensions=['Energy density new cone (J/cm^2)', \n",
    "    \"Time (ms)\", \"2 Qsw/(U+|D|) 1e6cycles\"], color_discrete_sequence=[\"#72356c\"]*23)\n",
    "    fig.update_layout(template=\"ggplot2\")\n",
    "    # fig.update_layout(margin=dict(r=20, l=10, b=10, t=10))\n",
    "    fig.update_layout(width = 800, height=800)\n",
    "    fig.show()"
   ],
   "outputs": [],
   "metadata": {}
  },
  {
   "cell_type": "code",
   "execution_count": 27,
   "source": [
    "fe_data = read_dat()\n",
    "# print(fe_data)\n",
    "display_data(fe_data)"
   ],
   "outputs": [
    {
     "output_type": "display_data",
     "data": {
      "application/vnd.plotly.v1+json": {
       "data": [
        {
         "dimensions": [
          {
           "axis": {
            "matches": true
           },
           "label": "Energy density new cone (J/cm^2)",
           "values": [
            2.73,
            3.4,
            3.79,
            6.44,
            5.36,
            8.99,
            8.8,
            14.67,
            5.24,
            14.89,
            10.13,
            4.51,
            5.37,
            4.88,
            6.76,
            7.77,
            8.73,
            9.38,
            10.48,
            11.01,
            14.71,
            15.44,
            13.37
           ]
          },
          {
           "axis": {
            "matches": true
           },
           "label": "Time (ms)",
           "values": [
            0.5,
            0.5,
            1,
            1,
            1.5,
            1.5,
            5,
            5,
            0.5,
            5,
            2,
            0.5,
            0.5,
            0.5,
            1,
            1,
            2,
            2,
            2,
            2,
            5,
            5,
            5
           ]
          },
          {
           "axis": {
            "matches": true
           },
           "label": "2 Qsw/(U+|D|) 1e6cycles",
           "values": [
            0.8730257299654021,
            2.677244640050493,
            1.6990152147413928,
            3.8050528055652655,
            3.3348561928152627,
            4.535152817359003,
            1.3625102372531497,
            3.841290609056986,
            1.2013569985324948,
            3.5136521918176413,
            3.4708714822041062,
            0.2632982379553876,
            2.7753404356378253,
            2.5913062464887977,
            2.579984359259049,
            3.1738185691110727,
            0.1315049942519029,
            0.4511637114621348,
            2.126639748505365,
            3.468212840642842,
            3.685852431471957,
            3.445655582638384,
            2.651546836022379
           ]
          }
         ],
         "hovertemplate": "%{xaxis.title.text}=%{x}<br>%{yaxis.title.text}=%{y}<extra></extra>",
         "legendgroup": "",
         "marker": {
          "color": "#72356c",
          "symbol": "circle"
         },
         "name": "",
         "showlegend": false,
         "type": "splom"
        }
       ],
       "layout": {
        "template": {
         "data": {
          "barpolar": [
           {
            "marker": {
             "line": {
              "color": "rgb(237,237,237)",
              "width": 0.5
             },
             "pattern": {
              "fillmode": "overlay",
              "size": 10,
              "solidity": 0.2
             }
            },
            "type": "barpolar"
           }
          ],
          "bar": [
           {
            "error_x": {
             "color": "rgb(51,51,51)"
            },
            "error_y": {
             "color": "rgb(51,51,51)"
            },
            "marker": {
             "line": {
              "color": "rgb(237,237,237)",
              "width": 0.5
             },
             "pattern": {
              "fillmode": "overlay",
              "size": 10,
              "solidity": 0.2
             }
            },
            "type": "bar"
           }
          ],
          "carpet": [
           {
            "aaxis": {
             "endlinecolor": "rgb(51,51,51)",
             "gridcolor": "white",
             "linecolor": "white",
             "minorgridcolor": "white",
             "startlinecolor": "rgb(51,51,51)"
            },
            "baxis": {
             "endlinecolor": "rgb(51,51,51)",
             "gridcolor": "white",
             "linecolor": "white",
             "minorgridcolor": "white",
             "startlinecolor": "rgb(51,51,51)"
            },
            "type": "carpet"
           }
          ],
          "choropleth": [
           {
            "colorbar": {
             "outlinewidth": 0,
             "tickcolor": "rgb(237,237,237)",
             "ticklen": 6,
             "ticks": "inside"
            },
            "type": "choropleth"
           }
          ],
          "contourcarpet": [
           {
            "colorbar": {
             "outlinewidth": 0,
             "tickcolor": "rgb(237,237,237)",
             "ticklen": 6,
             "ticks": "inside"
            },
            "type": "contourcarpet"
           }
          ],
          "contour": [
           {
            "colorbar": {
             "outlinewidth": 0,
             "tickcolor": "rgb(237,237,237)",
             "ticklen": 6,
             "ticks": "inside"
            },
            "colorscale": [
             [
              0,
              "rgb(20,44,66)"
             ],
             [
              1,
              "rgb(90,179,244)"
             ]
            ],
            "type": "contour"
           }
          ],
          "heatmapgl": [
           {
            "colorbar": {
             "outlinewidth": 0,
             "tickcolor": "rgb(237,237,237)",
             "ticklen": 6,
             "ticks": "inside"
            },
            "colorscale": [
             [
              0,
              "rgb(20,44,66)"
             ],
             [
              1,
              "rgb(90,179,244)"
             ]
            ],
            "type": "heatmapgl"
           }
          ],
          "heatmap": [
           {
            "colorbar": {
             "outlinewidth": 0,
             "tickcolor": "rgb(237,237,237)",
             "ticklen": 6,
             "ticks": "inside"
            },
            "colorscale": [
             [
              0,
              "rgb(20,44,66)"
             ],
             [
              1,
              "rgb(90,179,244)"
             ]
            ],
            "type": "heatmap"
           }
          ],
          "histogram2dcontour": [
           {
            "colorbar": {
             "outlinewidth": 0,
             "tickcolor": "rgb(237,237,237)",
             "ticklen": 6,
             "ticks": "inside"
            },
            "colorscale": [
             [
              0,
              "rgb(20,44,66)"
             ],
             [
              1,
              "rgb(90,179,244)"
             ]
            ],
            "type": "histogram2dcontour"
           }
          ],
          "histogram2d": [
           {
            "colorbar": {
             "outlinewidth": 0,
             "tickcolor": "rgb(237,237,237)",
             "ticklen": 6,
             "ticks": "inside"
            },
            "colorscale": [
             [
              0,
              "rgb(20,44,66)"
             ],
             [
              1,
              "rgb(90,179,244)"
             ]
            ],
            "type": "histogram2d"
           }
          ],
          "histogram": [
           {
            "marker": {
             "pattern": {
              "fillmode": "overlay",
              "size": 10,
              "solidity": 0.2
             }
            },
            "type": "histogram"
           }
          ],
          "mesh3d": [
           {
            "colorbar": {
             "outlinewidth": 0,
             "tickcolor": "rgb(237,237,237)",
             "ticklen": 6,
             "ticks": "inside"
            },
            "type": "mesh3d"
           }
          ],
          "parcoords": [
           {
            "line": {
             "colorbar": {
              "outlinewidth": 0,
              "tickcolor": "rgb(237,237,237)",
              "ticklen": 6,
              "ticks": "inside"
             }
            },
            "type": "parcoords"
           }
          ],
          "pie": [
           {
            "automargin": true,
            "type": "pie"
           }
          ],
          "scatter3d": [
           {
            "line": {
             "colorbar": {
              "outlinewidth": 0,
              "tickcolor": "rgb(237,237,237)",
              "ticklen": 6,
              "ticks": "inside"
             }
            },
            "marker": {
             "colorbar": {
              "outlinewidth": 0,
              "tickcolor": "rgb(237,237,237)",
              "ticklen": 6,
              "ticks": "inside"
             }
            },
            "type": "scatter3d"
           }
          ],
          "scattercarpet": [
           {
            "marker": {
             "colorbar": {
              "outlinewidth": 0,
              "tickcolor": "rgb(237,237,237)",
              "ticklen": 6,
              "ticks": "inside"
             }
            },
            "type": "scattercarpet"
           }
          ],
          "scattergeo": [
           {
            "marker": {
             "colorbar": {
              "outlinewidth": 0,
              "tickcolor": "rgb(237,237,237)",
              "ticklen": 6,
              "ticks": "inside"
             }
            },
            "type": "scattergeo"
           }
          ],
          "scattergl": [
           {
            "marker": {
             "colorbar": {
              "outlinewidth": 0,
              "tickcolor": "rgb(237,237,237)",
              "ticklen": 6,
              "ticks": "inside"
             }
            },
            "type": "scattergl"
           }
          ],
          "scattermapbox": [
           {
            "marker": {
             "colorbar": {
              "outlinewidth": 0,
              "tickcolor": "rgb(237,237,237)",
              "ticklen": 6,
              "ticks": "inside"
             }
            },
            "type": "scattermapbox"
           }
          ],
          "scatterpolargl": [
           {
            "marker": {
             "colorbar": {
              "outlinewidth": 0,
              "tickcolor": "rgb(237,237,237)",
              "ticklen": 6,
              "ticks": "inside"
             }
            },
            "type": "scatterpolargl"
           }
          ],
          "scatterpolar": [
           {
            "marker": {
             "colorbar": {
              "outlinewidth": 0,
              "tickcolor": "rgb(237,237,237)",
              "ticklen": 6,
              "ticks": "inside"
             }
            },
            "type": "scatterpolar"
           }
          ],
          "scatter": [
           {
            "fillpattern": {
             "fillmode": "overlay",
             "size": 10,
             "solidity": 0.2
            },
            "type": "scatter"
           }
          ],
          "scatterternary": [
           {
            "marker": {
             "colorbar": {
              "outlinewidth": 0,
              "tickcolor": "rgb(237,237,237)",
              "ticklen": 6,
              "ticks": "inside"
             }
            },
            "type": "scatterternary"
           }
          ],
          "surface": [
           {
            "colorbar": {
             "outlinewidth": 0,
             "tickcolor": "rgb(237,237,237)",
             "ticklen": 6,
             "ticks": "inside"
            },
            "colorscale": [
             [
              0,
              "rgb(20,44,66)"
             ],
             [
              1,
              "rgb(90,179,244)"
             ]
            ],
            "type": "surface"
           }
          ],
          "table": [
           {
            "cells": {
             "fill": {
              "color": "rgb(237,237,237)"
             },
             "line": {
              "color": "white"
             }
            },
            "header": {
             "fill": {
              "color": "rgb(217,217,217)"
             },
             "line": {
              "color": "white"
             }
            },
            "type": "table"
           }
          ]
         },
         "layout": {
          "annotationdefaults": {
           "arrowhead": 0,
           "arrowwidth": 1
          },
          "autotypenumbers": "strict",
          "coloraxis": {
           "colorbar": {
            "outlinewidth": 0,
            "tickcolor": "rgb(237,237,237)",
            "ticklen": 6,
            "ticks": "inside"
           }
          },
          "colorscale": {
           "sequential": [
            [
             0,
             "rgb(20,44,66)"
            ],
            [
             1,
             "rgb(90,179,244)"
            ]
           ],
           "sequentialminus": [
            [
             0,
             "rgb(20,44,66)"
            ],
            [
             1,
             "rgb(90,179,244)"
            ]
           ]
          },
          "colorway": [
           "#F8766D",
           "#A3A500",
           "#00BF7D",
           "#00B0F6",
           "#E76BF3"
          ],
          "font": {
           "color": "rgb(51,51,51)"
          },
          "geo": {
           "bgcolor": "white",
           "lakecolor": "white",
           "landcolor": "rgb(237,237,237)",
           "showlakes": true,
           "showland": true,
           "subunitcolor": "white"
          },
          "hoverlabel": {
           "align": "left"
          },
          "hovermode": "closest",
          "paper_bgcolor": "white",
          "plot_bgcolor": "rgb(237,237,237)",
          "polar": {
           "angularaxis": {
            "gridcolor": "white",
            "linecolor": "white",
            "showgrid": true,
            "tickcolor": "rgb(51,51,51)",
            "ticks": "outside"
           },
           "bgcolor": "rgb(237,237,237)",
           "radialaxis": {
            "gridcolor": "white",
            "linecolor": "white",
            "showgrid": true,
            "tickcolor": "rgb(51,51,51)",
            "ticks": "outside"
           }
          },
          "scene": {
           "xaxis": {
            "backgroundcolor": "rgb(237,237,237)",
            "gridcolor": "white",
            "gridwidth": 2,
            "linecolor": "white",
            "showbackground": true,
            "showgrid": true,
            "tickcolor": "rgb(51,51,51)",
            "ticks": "outside",
            "zerolinecolor": "white"
           },
           "yaxis": {
            "backgroundcolor": "rgb(237,237,237)",
            "gridcolor": "white",
            "gridwidth": 2,
            "linecolor": "white",
            "showbackground": true,
            "showgrid": true,
            "tickcolor": "rgb(51,51,51)",
            "ticks": "outside",
            "zerolinecolor": "white"
           },
           "zaxis": {
            "backgroundcolor": "rgb(237,237,237)",
            "gridcolor": "white",
            "gridwidth": 2,
            "linecolor": "white",
            "showbackground": true,
            "showgrid": true,
            "tickcolor": "rgb(51,51,51)",
            "ticks": "outside",
            "zerolinecolor": "white"
           }
          },
          "shapedefaults": {
           "fillcolor": "black",
           "line": {
            "width": 0
           },
           "opacity": 0.3
          },
          "ternary": {
           "aaxis": {
            "gridcolor": "white",
            "linecolor": "white",
            "showgrid": true,
            "tickcolor": "rgb(51,51,51)",
            "ticks": "outside"
           },
           "baxis": {
            "gridcolor": "white",
            "linecolor": "white",
            "showgrid": true,
            "tickcolor": "rgb(51,51,51)",
            "ticks": "outside"
           },
           "bgcolor": "rgb(237,237,237)",
           "caxis": {
            "gridcolor": "white",
            "linecolor": "white",
            "showgrid": true,
            "tickcolor": "rgb(51,51,51)",
            "ticks": "outside"
           }
          },
          "xaxis": {
           "automargin": true,
           "gridcolor": "white",
           "linecolor": "white",
           "showgrid": true,
           "tickcolor": "rgb(51,51,51)",
           "ticks": "outside",
           "title": {
            "standoff": 15
           },
           "zerolinecolor": "white"
          },
          "yaxis": {
           "automargin": true,
           "gridcolor": "white",
           "linecolor": "white",
           "showgrid": true,
           "tickcolor": "rgb(51,51,51)",
           "ticks": "outside",
           "title": {
            "standoff": 15
           },
           "zerolinecolor": "white"
          }
         }
        },
        "legend": {
         "tracegroupgap": 0
        },
        "margin": {
         "t": 60
        },
        "dragmode": "select",
        "width": 800,
        "height": 800
       },
       "config": {
        "plotlyServerURL": "https://plot.ly"
       }
      }
     },
     "metadata": {}
    }
   ],
   "metadata": {}
  },
  {
   "cell_type": "code",
   "execution_count": 7,
   "source": [
    "# define scaler and inverse scaling\n",
    "from sklearn.preprocessing import MinMaxScaler, StandardScaler\n",
    "scaler =  MinMaxScaler()\n",
    "\n",
    "def un_norm_x(train_x, test_grid, scaler):\n",
    "    return scaler.inverse_transform(train_x), scaler.inverse_transform(test_grid)    "
   ],
   "outputs": [],
   "metadata": {}
  },
  {
   "cell_type": "code",
   "execution_count": 8,
   "source": [
    "from torch.utils.data import DataLoader, random_split\n",
    "\n",
    "def datasetmaker(fe_data, train_ratio=1.0):\n",
    "    \"\"\"\n",
    "    [datasetmaker(fe_data)] filters and transforms the data in pandas df [fe_data] \n",
    "    into two tensors, [train_x] for input and [train_y] for output tensors. \n",
    "    \"\"\"\n",
    "    # filter training data \n",
    "    energy_den = fe_data['Energy density new cone (J/cm^2)'].values\n",
    "    time = fe_data['Time (ms)'].values\n",
    "    x_dat = torch.Tensor(np.array([time, energy_den])).T\n",
    "    y_dat = torch.Tensor(fe_data['2 Qsw/(U+|D|) 1e6cycles'].values)\n",
    "\n",
    "    # scale inputs\n",
    "    scaler.fit(x_dat)\n",
    "    x_dat = torch.Tensor(scaler.transform(x_dat))\n",
    "\n",
    "    # split train and test set\n",
    "    train_size = int(train_ratio * len(x_dat))  # train_ratio% for training\n",
    "    train_x, test_x = x_dat[:train_size], x_dat[train_size:]\n",
    "    train_y, test_y = y_dat[:train_size], y_dat[train_size:]\n",
    "    return x_dat, train_x, test_x, train_y, test_y"
   ],
   "outputs": [],
   "metadata": {}
  },
  {
   "cell_type": "code",
   "execution_count": 9,
   "source": [
    "# make training data, maintain params to de-normalize\n",
    "# x_sd_mean, y_sd_mean, train_x, train_y = datasetmaker(fe_data)\n",
    "x_dat, train_x, test_x, train_y, test_y = datasetmaker(fe_data)"
   ],
   "outputs": [],
   "metadata": {}
  },
  {
   "cell_type": "markdown",
   "source": [
    "### Grid/Parameter Space"
   ],
   "metadata": {}
  },
  {
   "cell_type": "code",
   "execution_count": 10,
   "source": [
    "# create grid for grid search\n",
    "def grid_helper(grid_size, num_params, grid_bounds):\n",
    "    \"\"\"\n",
    "    [grid_helper(grid_size, num_params, grid_bounds)] returns a grid of dimensions\n",
    "    [grid_size] by [num_params], which dictates the parameter space for GP to be \n",
    "    conducted over. \n",
    "    \"\"\"\n",
    "    grid = torch.zeros(grid_size, num_params)\n",
    "    f_grid_diff = lambda i, x, y : float((x[i][1] - x[i][0]) / (y-2))\n",
    "    for i in range(num_params):\n",
    "        grid_diff = f_grid_diff(i, grid_bounds, grid_size)\n",
    "        grid[:, i] = torch.linspace(grid_bounds[i][0] - grid_diff, \n",
    "                                    grid_bounds[i][1] + grid_diff, grid_size)\n",
    "    return grid\n",
    "\n",
    "def grid_maker(x_dat, num_points=30):\n",
    "    \"\"\"\n",
    "    [grid_maker(x_dat, num_points=30)] creates grids to be used for gaussian \n",
    "    process predictions. It outputs the dimension of the grid [num_params], \n",
    "    paramater space grid [test_grid], and [test_arr].\n",
    "    \"\"\"\n",
    "    # define grid between bounds of RTA time, RTA temp\n",
    "    num_params = x_dat.size(dim=1)\n",
    "    grid_bounds = [(x_dat[:,i].min(), x_dat[:,i].max()) for i in range(num_params)]\n",
    "\n",
    "    # set up test_grid for predictions\n",
    "    test_grid = grid_helper(num_points, num_params, grid_bounds)\n",
    "\n",
    "    # create n-D grid with n = num_params\n",
    "    args = (test_grid[:, i] for i in range(num_params))\n",
    "    test_arr = torch.cartesian_prod(*args)\n",
    "    return grid_bounds, num_params, test_grid, test_arr\n"
   ],
   "outputs": [],
   "metadata": {}
  },
  {
   "cell_type": "code",
   "execution_count": 11,
   "source": [
    "# create grid based on parameter space for search\n",
    "grid_bounds, num_params, test_grid, test_arr = grid_maker(x_dat)"
   ],
   "outputs": [],
   "metadata": {}
  },
  {
   "cell_type": "markdown",
   "source": [
    "### Noise Calculations"
   ],
   "metadata": {}
  },
  {
   "cell_type": "markdown",
   "source": [
    "Our figure of merit, fom, is $2 Q_{sw}/(U+|D|),$ so error propagation would result in a error of $\\sigma_{fom} = |fom|\\sqrt{{(\\sigma_{Q_{sw}}/Q_{sw}})^2+{(\\sigma_U^2 + \\sigma_{|D|}^2)/(U+|D|)^2)}}$. We have data for $2Pr$ measurements wrt device area. Using the $10\\mu$ m $\\times 10\\mu$ m data, we approximate the error for the figure of merit as simply $\\sigma_{2Pr}$, as we do not have $\\sigma_U$ or $\\sigma_D.$ \n"
   ],
   "metadata": {}
  },
  {
   "cell_type": "code",
   "execution_count": 12,
   "source": [
    "fn = \"/Users/valenetjong/Bayesian-Optimization-Ferroelectrics/data/P vs area.xlsx\"\n",
    "excel_file = pd.read_excel(fn, sheet_name='Sheet1')\n",
    "col_2Pr_10by10 = excel_file['10umx10um']\n",
    "sd = col_2Pr_10by10.std()/col_2Pr_10by10.mean()\n",
    "print(sd)\n",
    "print(col_2Pr_10by10)"
   ],
   "outputs": [
    {
     "output_type": "stream",
     "name": "stdout",
     "text": [
      "0.04469365441252401\n",
      "0     34.57379\n",
      "1     35.96416\n",
      "2     33.16083\n",
      "3     35.96861\n",
      "4     37.10497\n",
      "5     35.86549\n",
      "6     35.81341\n",
      "7     33.01597\n",
      "8     35.71753\n",
      "9     38.37434\n",
      "10    34.11144\n",
      "11    33.57596\n",
      "12    35.15750\n",
      "13    35.01515\n",
      "14    36.01072\n",
      "15    37.04952\n",
      "16    36.48895\n",
      "17    35.63807\n",
      "18    37.36247\n",
      "19    39.05057\n",
      "Name: 10umx10um, dtype: float64\n"
     ]
    }
   ],
   "metadata": {}
  },
  {
   "cell_type": "markdown",
   "source": [
    "## Initialize Model"
   ],
   "metadata": {}
  },
  {
   "cell_type": "code",
   "execution_count": 13,
   "source": [
    "# configuration parameters for training\n",
    "class Config():\n",
    "    def __init__(self):\n",
    "        self.epochs = 2500\n",
    "        self.kernel = \"matern\"\n",
    "        self.lr = 0.003\n",
    "        self.lscale_1 = 1.0\n",
    "        self.lscale_2 = 1.0\n",
    "        self.lscale_3 = None\n",
    "        self.lscale_4 = None\n",
    "        self.dim = 2\n",
    "        self.noise = 0.1\n",
    "\n",
    "config = Config()"
   ],
   "outputs": [],
   "metadata": {}
  },
  {
   "cell_type": "code",
   "execution_count": 14,
   "source": [
    "# make model\n",
    "def kernel_func(config_kernel, num_params, lscale):\n",
    "    \"\"\"\n",
    "    [kernel_func(config_kernel, num_params, lscale)] returns kernel function with \n",
    "    dimensions specified by [num_params]. \n",
    "    \"\"\"\n",
    "    if config_kernel == \"rbf\":\n",
    "        return gpytorch.kernels.ScaleKernel(\n",
    "            gpytorch.kernels.RBFKernel(ard_num_dims=num_params))\n",
    "    elif config_kernel == \"matern\":\n",
    "        return gpytorch.kernels.ScaleKernel(gpytorch.kernels.MaternKernel(ard_num_dims=num_params, \n",
    "        lengthscale = torch.tensor(lscale), lengthscale_constraint = gpytorch.constraints.GreaterThan(5e-2), nu=1.5))\n",
    "\n",
    "def make_model(train_x, train_y, num_params, config):\n",
    "    \"\"\"\n",
    "    [make_model(train_x, train_y, num_params, config)] returns likelihood and \n",
    "    model with lengthscale, noise, kernel function specified by sweeps. \n",
    "    \"\"\"\n",
    "    if config.dim == 2:\n",
    "        lscale = [config.lscale_1, config.lscale_2]\n",
    "    elif config.dim == 4:\n",
    "        lscale = [config.lscale_1, config.lscale_2, config.lscale_3, config.lscale_4]\n",
    "    kernel = kernel_func(config.kernel, num_params, lscale)\n",
    "    \n",
    "    print(kernel)\n",
    "    num_samples = len(train_x)\n",
    "    noise = config.noise*torch.ones(num_samples)\n",
    "    likelihood = gpytorch.likelihoods.FixedNoiseGaussianLikelihood(noise=noise)\n",
    "    model = GPModel(train_x, train_y, likelihood, kernel)\n",
    "\n",
    "    return likelihood, model, lscale\n",
    "    "
   ],
   "outputs": [],
   "metadata": {}
  },
  {
   "cell_type": "markdown",
   "source": [
    "### GP Training and Eval"
   ],
   "metadata": {}
  },
  {
   "cell_type": "code",
   "execution_count": 16,
   "source": [
    "# training and evaluation\n",
    "def train(train_x, train_y, num_params, config):\n",
    "    likelihood, model, lscale = make_model(train_x, train_y, num_params, config)\n",
    "    model.covar_module.base_kernel.lengthscale = torch.Tensor(lscale)\n",
    "    training_iter = config.epochs\n",
    "    # model.covar_module.base_kernel.raw_lengthscale.requires_grad_(False) # disallow training of lengthscale\n",
    "    \n",
    "    # place both the model and likelihood in training mode\n",
    "    model.train(), likelihood.train()\n",
    "\n",
    "    # use Adam\n",
    "    optimizer = torch.optim.Adam(model.parameters(), lr=config.lr)\n",
    "\n",
    "    # set GP loss as the marginal log likelihood\n",
    "    mll = gpytorch.mlls.ExactMarginalLogLikelihood(likelihood, model)\n",
    "    loss_lst = []\n",
    "\n",
    "    for i in range(1, training_iter+1):\n",
    "        optimizer.zero_grad()\n",
    "        output = model(train_x)\n",
    "\n",
    "        # backpropagate error\n",
    "        loss = -mll(output, train_y)\n",
    "        loss.backward()\n",
    "\n",
    "        if i==1 or i % 500 == 0: \n",
    "            print('Iter %d/%d - Loss: %.3f  lengthscale1: %s   noise: %s' % (\n",
    "                    i, training_iter, loss.item(), \n",
    "                    model.covar_module.base_kernel.lengthscale.detach().numpy(),\n",
    "                    model.likelihood.noise.detach().numpy()\n",
    "                    )) \n",
    "            loss_lst.append(loss.item())\n",
    "        optimizer.step()\n",
    "        \n",
    "    print(model.covar_module.outputscale.detach().numpy())\n",
    "    return likelihood, model, loss_lst\n",
    "\n",
    "def eval_mod(likelihood, model, test_arr):\n",
    "    \"\"\" \n",
    "    [eval_mod(likelihood, model, test_arr)] evaluates GP model. \n",
    "    \"\"\"\n",
    "    model.eval(), likelihood.eval()\n",
    "    with torch.no_grad(), gpytorch.settings.fast_pred_var():\n",
    "        obs = likelihood(model(test_arr), noise=(torch.ones(len(test_arr))*config.noise))\n",
    "    return obs"
   ],
   "outputs": [],
   "metadata": {}
  },
  {
   "cell_type": "code",
   "execution_count": 17,
   "source": [
    "# train model and evaluate\n",
    "likelihood, model, loss_lst = train(train_x, train_y, num_params, config)\n",
    "\n",
    "obs = eval_mod(likelihood, model, test_arr)"
   ],
   "outputs": [
    {
     "output_type": "stream",
     "name": "stdout",
     "text": [
      "ScaleKernel(\n",
      "  (base_kernel): MaternKernel(\n",
      "    (raw_lengthscale_constraint): GreaterThan(5.000E-02)\n",
      "  )\n",
      "  (raw_outputscale_constraint): Positive()\n",
      ")\n",
      "Iter 1/2500 - Loss: 5.869  lengthscale1: [[1. 1.]]   noise: [0.1 0.1 0.1 0.1 0.1 0.1 0.1 0.1 0.1 0.1 0.1 0.1 0.1 0.1 0.1 0.1 0.1 0.1\n",
      " 0.1 0.1 0.1 0.1 0.1]\n",
      "Iter 500/2500 - Loss: 3.365  lengthscale1: [[0.3011508 0.3308726]]   noise: [0.1 0.1 0.1 0.1 0.1 0.1 0.1 0.1 0.1 0.1 0.1 0.1 0.1 0.1 0.1 0.1 0.1 0.1\n",
      " 0.1 0.1 0.1 0.1 0.1]\n",
      "Iter 1000/2500 - Loss: 2.337  lengthscale1: [[0.16534637 0.12362489]]   noise: [0.1 0.1 0.1 0.1 0.1 0.1 0.1 0.1 0.1 0.1 0.1 0.1 0.1 0.1 0.1 0.1 0.1 0.1\n",
      " 0.1 0.1 0.1 0.1 0.1]\n",
      "Iter 1500/2500 - Loss: 1.983  lengthscale1: [[0.12515576 0.07695222]]   noise: [0.1 0.1 0.1 0.1 0.1 0.1 0.1 0.1 0.1 0.1 0.1 0.1 0.1 0.1 0.1 0.1 0.1 0.1\n",
      " 0.1 0.1 0.1 0.1 0.1]\n",
      "Iter 2000/2500 - Loss: 1.878  lengthscale1: [[0.10448359 0.06448448]]   noise: [0.1 0.1 0.1 0.1 0.1 0.1 0.1 0.1 0.1 0.1 0.1 0.1 0.1 0.1 0.1 0.1 0.1 0.1\n",
      " 0.1 0.1 0.1 0.1 0.1]\n",
      "Iter 2500/2500 - Loss: 1.836  lengthscale1: [[0.09167793 0.05919078]]   noise: [0.1 0.1 0.1 0.1 0.1 0.1 0.1 0.1 0.1 0.1 0.1 0.1 0.1 0.1 0.1 0.1 0.1 0.1\n",
      " 0.1 0.1 0.1 0.1 0.1]\n",
      "2.9005175\n"
     ]
    }
   ],
   "metadata": {}
  },
  {
   "cell_type": "markdown",
   "source": [
    "### GP Training Results"
   ],
   "metadata": {}
  },
  {
   "cell_type": "code",
   "execution_count": 18,
   "source": [
    "import matplotlib.pyplot as plt\n",
    "from sklearn.metrics import mean_squared_error, mean_absolute_error,r2_score\n",
    "from scipy.stats import spearmanr\n",
    "import matplotlib.pyplot as plt \n",
    "from plotter import prettyplot"
   ],
   "outputs": [],
   "metadata": {}
  },
  {
   "cell_type": "code",
   "execution_count": 19,
   "source": [
    "# get error metrics\n",
    "def get_err(train_y, y_preds_mean):\n",
    "    rmse = np.sqrt(mean_squared_error(train_y, y_preds_mean))\n",
    "    mae = mean_absolute_error(train_y,  y_preds_mean)\n",
    "    spearman = spearmanr(train_y, y_preds_mean)[0]\n",
    "    r2 = r2_score(train_y, y_preds_mean)\n",
    "    return [round_three(i) for i in [rmse, mae, spearman, r2]]\n",
    "\n",
    "def plot_err(axes, train_y, y_preds_mean, y_uncer, err_vals, train_or_test, fs):\n",
    "    # training versus actuals plot: make plot, set title and axes values\n",
    "    ax = axes[0]\n",
    "    ax.scatter(train_y, y_preds_mean, color = \"#72356c\")\n",
    "    low_lim, upp_lim = int(min(train_y).item()), int(np.ceil(max(train_y).item()))\n",
    "    ax.plot(np.linspace(low_lim, upp_lim), np.linspace(low_lim, upp_lim), 'k--')\n",
    "    ax.set_xlim(low_lim, upp_lim)\n",
    "    ax.set_ylim(low_lim, upp_lim)\n",
    "    \n",
    "    # sort train_y to enable fill_between to exhibit correct functionality\n",
    "    # plot 95% confidence interval\n",
    "    sorted_train_y, sorted_indices_y = np.sort(train_y), np.argsort(train_y)\n",
    "    low_bound = (y_preds_mean-y_uncer)[sorted_indices_y]\n",
    "    upp_bound = (y_preds_mean+y_uncer)[sorted_indices_y]\n",
    "    ax.fill_between(sorted_train_y, low_bound, upp_bound, color = \"grey\", alpha = 0.3, label=\"95% confidence interval\")    \n",
    "    ax.set_xlabel('Ground Truth 2 Qsw/(U+|D|) 1e6', fontsize = fs)\n",
    "    ax.set_ylabel('Prediction 2 Qsw/(U+|D|) 1e6', fontsize = fs)\n",
    "    title_type = \"Training\" if train_or_test == \"train\" else \"Test\"\n",
    "    ax.set_title('GP ' + title_type + ' Results' + \" (MAE=%.2f\" % err_vals[1]+' [%])', fontsize = fs)\n",
    "    ax.legend()\n",
    "\n",
    "def plot_training_loss(axes, loss_lst, fs):\n",
    "    ax = axes[1]\n",
    "    ax.plot(np.arange(len(loss_lst))*500,loss_lst, 'o-', color = \"#72356c\")\n",
    "    ax.set_xlabel('Epoch', fontsize = fs)\n",
    "    ax.set_ylabel('Marginal Log Likelihood Loss', fontsize = fs)\n",
    "    ax.set_title('Training Loss' + \" (Loss=%.2f\" % loss_lst[-1] + ')', fontsize = fs)\n",
    "\n",
    "def plot_gp_res(train_y, y_preds_mean, loss_lst, y_uncer, train_or_test=\"train\"):\n",
    "    prettyplot()\n",
    "    fig, axes = plt.subplots(1, 3, figsize=(5.5*3, 4.5))\n",
    "    fs = 14\n",
    "\n",
    "    # print error metrics\n",
    "    err_vals = get_err(train_y, y_preds_mean)\n",
    "    data = {'Metric': ['RMSE', 'MAE', 'Spearman', 'R² score'], 'Value': err_vals}\n",
    "    df = pd.DataFrame(data)\n",
    "    print(df)\n",
    "\n",
    "    # plot error, training/testing loss\n",
    "    plot_err(axes, train_y, y_preds_mean, y_uncer, err_vals, train_or_test, fs)\n",
    "    if loss_lst: plot_training_loss(axes, loss_lst, fs)\n",
    "    else: axes[1].axis(\"off\")\n",
    "    axes[2].axis(\"off\")\n",
    "\n",
    "    for i in range(len(axes)):\n",
    "        axes[i].tick_params(direction='in', length=5, width=1, labelsize = fs*.8)\n",
    "    plt.subplots_adjust(wspace = 0.4)\n",
    "\n",
    "    plt.show()"
   ],
   "outputs": [],
   "metadata": {}
  },
  {
   "cell_type": "code",
   "execution_count": 20,
   "source": [
    "round_three = lambda val: np.round(val, 3) \n",
    "model.eval(), likelihood.eval()\n",
    "y_preds = likelihood(model(train_x))\n",
    "f_var = model(train_x).variance\n",
    "\n",
    "model.eval(), likelihood.eval()\n",
    "y_preds_test = likelihood(model(test_x))\n",
    "f_var_test = model(test_x).variance\n",
    "\n",
    "with torch.no_grad(): y_preds_mean, f_var = y_preds.mean.numpy(), np.sqrt(f_var).numpy()\n",
    "with torch.no_grad(): y_preds_test_mean, f_var_test = y_preds_test.mean.numpy(), np.sqrt(f_var_test).numpy()\n",
    "plot_gp_res(train_y, y_preds_mean, loss_lst, f_var)"
   ],
   "outputs": [
    {
     "output_type": "stream",
     "name": "stderr",
     "text": [
      "/Users/valenetjong/opt/anaconda3/envs/FEGP/lib/python3.9/site-packages/gpytorch/models/exact_gp.py:274: GPInputWarning:\n",
      "\n",
      "The input matches the stored training data. Did you forget to call model.train()?\n",
      "\n",
      "/Users/valenetjong/opt/anaconda3/envs/FEGP/lib/python3.9/site-packages/gpytorch/likelihoods/gaussian_likelihood.py:270: GPInputWarning:\n",
      "\n",
      "You have passed data through a FixedNoiseGaussianLikelihood that did not match the size of the fixed noise, *and* you did not specify noise. This is treated as a no-op.\n",
      "\n"
     ]
    },
    {
     "output_type": "stream",
     "name": "stdout",
     "text": [
      "     Metric  Value\n",
      "0      RMSE  0.201\n",
      "1       MAE  0.137\n",
      "2  Spearman  0.973\n",
      "3  R² score  0.974\n"
     ]
    },
    {
     "output_type": "display_data",
     "data": {
      "image/png": "[encoded data removed]",
      "text/plain": [
       "<Figure size 3300x900 with 3 Axes>"
      ]
     },
     "metadata": {}
    }
   ],
   "metadata": {}
  },
  {
   "cell_type": "code",
   "execution_count": 21,
   "source": [
    "# acquisition function for prediction/exploration\n",
    "def get_bounds(n): return [n for i in range(config.dim)]\n",
    "\n",
    "def unravel_acq(acq_func, obs, bounds, train_y, nshape):\n",
    "    \"\"\" \n",
    "    [unravel_acq(acq_func, obs, bounds, train_y, nshape)] is a helper function \n",
    "    for acq that returns the coordinates of the maximum value of the acq_func \n",
    "    over the test grid in the form of a tuple (row_index, column_index). \n",
    "\n",
    "    row_index = index into time\n",
    "    column_index = index into energy density\n",
    "    \"\"\"\n",
    "    acq = acq_func(obs, bounds, train_y).detach().numpy().reshape(nshape).T\n",
    "    return np.unravel_index(acq.argmax(), acq.shape)\n",
    "\n",
    "def acq(obs, train_y, bounds):\n",
    "    \"\"\" \n",
    "    [acq(obs, train_y, bounds)] evaluates acquisition functions on current \n",
    "    predictions (observations) and outputs suggested points for exploration \n",
    "    on manifold. \n",
    "    \"\"\"\n",
    "    transpose = lambda tensor: tensor.detach().numpy().reshape(nshape).T\n",
    "    nshape = tuple(bounds)\n",
    "\n",
    "    pi = unravel_acq(PI, obs, bounds, train_y, nshape) # prob of improvement\n",
    "    ei = unravel_acq(EI, obs, bounds, train_y, nshape) # expected improvement\n",
    "    ca = unravel_acq(cust_acq, obs, bounds, train_y, nshape) # custom acq\n",
    "    th = unravel_acq(thompson, obs, bounds, train_y, nshape) # thompson acq\n",
    "\n",
    "    lower, upper = obs.confidence_region()\n",
    "    upper_surf, lower_surf = transpose(upper), transpose(lower)\n",
    "    ucb = np.unravel_index(upper_surf.argmax(), upper_surf.shape)\n",
    "\n",
    "    pred_var = obs.variance.view(nshape).detach().numpy().T\n",
    "    pred_labels = obs.mean.view(nshape).T\n",
    "    max_var = np.unravel_index(pred_var.argmax(), pred_var.shape)\n",
    "\n",
    "    # acqs gives pairs corresponding to indices of time and energy density \n",
    "    # recommendations in grid; the pairs index into array pred_labels \n",
    "    acqs = {\"PI\":pi, \"EI\":ei, \"CA\":ca, \"TH\":th, \"UCB\":ucb, \"Max_var\":max_var}\n",
    "\n",
    "    return pred_labels, upper_surf, lower_surf, acqs"
   ],
   "outputs": [],
   "metadata": {}
  },
  {
   "cell_type": "code",
   "execution_count": 25,
   "source": [
    "# export predictions to csv\n",
    "def pred_to_csv(acqs, raw_pred_labels, raw_test_grid, file_out = \"preds.csv\"):\n",
    "    \"\"\"\n",
    "    [pred_to_csv(acqs, raw_pred_labels, raw_test_grid)] outputs suggested\n",
    "    inputs and their respective predicted outputs to csv; returns suggested point\n",
    "    corresponding to ucb acquisition.\n",
    "    \"\"\"   \n",
    "    dir = \"/Users/valenetjong/Bayesian-Optimization-Ferroelectrics/predictions/\"\n",
    "    file = open(dir + file_out, \"w\", encoding=\"utf-8\")\n",
    "    file.write(\"Energy density \\t Time (ms)\\n\")\n",
    "    acq_data = {'Acq':[], 'Time(ms)':[], 'Energy density new cone (J/cm^2)':[], '2 Qsw/(U+|D|) 1e6':[]}\n",
    "\n",
    "    for lab, coords in acqs.items(): \n",
    "        time_val = raw_test_grid[coords[1]].tolist()[0]\n",
    "        energy_den_val = raw_test_grid[coords[0]].tolist()[1]\n",
    "        acq_data[\"Acq\"].append(lab)\n",
    "        acq_data['Time(ms)'].append(time_val)\n",
    "        acq_data['Energy density new cone (J/cm^2)'].append(energy_den_val)\n",
    "        file.write(lab + \": \" + str(time_val) + \"\\t\" + str(energy_den_val) + \"\\n\")\n",
    "        # if lab == \"UCB\": ucb.append(time_val*1000), ucb.append(energy_den_val)  # change units μs\n",
    "\n",
    "    file.write(\"\\nFigure of merit\\n\")\n",
    "    for lab, coords in acqs.items():\n",
    "        fig_of_merit = raw_pred_labels[coords].item()\n",
    "        acq_data['2 Qsw/(U+|D|) 1e6'].append(fig_of_merit)\n",
    "        file.write(lab + \": \" + str(fig_of_merit) + \"\\n\")\n",
    "        # if lab == \"UCB\": ucb.append(fig_of_merit)\n",
    "\n",
    "    df = pd.DataFrame(acq_data)\n",
    "    print(df)\n",
    "    return df\n"
   ],
   "outputs": [],
   "metadata": {}
  },
  {
   "cell_type": "code",
   "execution_count": 23,
   "source": [
    "# get normalized predictions\n",
    "bounds = get_bounds(n=30)\n",
    "pred_labels, upper_surf, lower_surf, acqs = acq(obs, train_y, bounds)\n",
    "\n",
    "# undo scaling\n",
    "raw_train_x, raw_test_grid = un_norm_x(train_x, test_grid, scaler)\n"
   ],
   "outputs": [],
   "metadata": {}
  },
  {
   "cell_type": "markdown",
   "source": [
    "### Save Predictions and Visualize "
   ],
   "metadata": {}
  },
  {
   "cell_type": "code",
   "execution_count": 26,
   "source": [
    "# undo normalization and save to csv, get prediction point\n",
    "acq_df = pred_to_csv(acqs, pred_labels, raw_test_grid)\n",
    "\n",
    "# suggested points (μs, J/cm^2)\n",
    "\n",
    "# ucb_pt, nlcd_pt = (round(ucb[0],-1),round(ucb[1],2)), (900, 5.89)\n",
    "# print(ucb_pt)"
   ],
   "outputs": [
    {
     "output_type": "stream",
     "name": "stdout",
     "text": [
      "       Acq  Time(ms)  Energy density new cone (J/cm^2)  2 Qsw/(U+|D|) 1e6\n",
      "0       PI  1.336823                          8.850209           4.437724\n",
      "1       EI  1.336823                          8.850209           4.437724\n",
      "2       CA  2.334360                         12.137278           2.788108\n",
      "3       TH  3.830665                         11.198115           2.499853\n",
      "4      UCB  1.170567                          9.319790           3.870881\n",
      "5  Max_var  3.664409                          2.276071           2.504094\n"
     ]
    }
   ],
   "metadata": {}
  },
  {
   "cell_type": "code",
   "execution_count": 41,
   "source": [
    "# sanity check for fig of merit from acquisition\n",
    "model.eval(), likelihood.eval()\n",
    "ucb = np.array((1.17, 8.85)).reshape(1,2)\n",
    "ucb_scaled = scaler.transform(ucb)\n",
    "print(ucb_scaled)\n",
    "\n",
    "y_preds_ucb = likelihood(model(torch.Tensor(ucb_scaled)))\n",
    "\n",
    "with torch.no_grad(): y_preds_ucb_mean = y_preds_ucb.mean.numpy()\n",
    "print(y_preds_ucb_mean)"
   ],
   "outputs": [
    {
     "output_type": "stream",
     "name": "stdout",
     "text": [
      "[[0.14888889 0.48151064]]\n",
      "[3.8681896]\n"
     ]
    },
    {
     "output_type": "stream",
     "name": "stderr",
     "text": [
      "/Users/valenetjong/opt/anaconda3/envs/FEGP/lib/python3.9/site-packages/gpytorch/likelihoods/gaussian_likelihood.py:270: GPInputWarning:\n",
      "\n",
      "You have passed data through a FixedNoiseGaussianLikelihood that did not match the size of the fixed noise, *and* you did not specify noise. This is treated as a no-op.\n",
      "\n"
     ]
    }
   ],
   "metadata": {}
  },
  {
   "cell_type": "code",
   "execution_count": 42,
   "source": [
    "import plotly.graph_objects as go\n",
    "def vis_pred(train_x, train_y, test_grid, pred_labels):\n",
    "    fig = go.Figure(data=[go.Surface(z=pred_labels.numpy(), \n",
    "                                    x=test_grid[:,0],\n",
    "                                    y=test_grid[:,1],\n",
    "                                    opacity = 0.8,\n",
    "                                    colorscale = \"Burg\",\n",
    "                                    colorbar=dict(thickness=15, len=0.5),\n",
    "                                    name='GP regression')])\n",
    "    \n",
    "    fig.add_trace(go.Scatter3d(x=train_x[:,0],\n",
    "                              y=train_x[:,1],\n",
    "                            z=train_y.numpy(), mode='markers', \n",
    "                            marker={'color':'#72356c'}, name='training data'))\n",
    "    fig.update_layout(width=1000, height=800,\n",
    "                    legend=dict(orientation=\"h\", yanchor=\"top\", y=1.02, \n",
    "                    xanchor=\"left\",x=1), margin=dict(r=0, l=0, b=0, t=0), \n",
    "                        scene=dict(\n",
    "                        xaxis_title=\"Pulse Width (msec)\",\n",
    "                        yaxis_title=\"Energy density new cone (J/cm^2)\",\n",
    "                        zaxis_title='2 Qsw/(U+|D|) 1e6')\n",
    "                    )\n",
    "    fig.update_layout(template=\"ggplot2\")\n",
    "    camera = dict(up=dict(x=0, y=0, z=1), center=dict(x=0, y=0, z=0),\n",
    "                    eye=dict(x=2.75, y=1.75, z=1))\n",
    "    fig.update_layout(scene_camera=camera)\n",
    "    fig.show()"
   ],
   "outputs": [],
   "metadata": {}
  },
  {
   "cell_type": "code",
   "execution_count": 27,
   "source": [
    "# visualize acquisition function results and confidence bound surfaces\n",
    "vis_pred(raw_train_x, train_y, raw_test_grid, pred_labels)"
   ],
   "outputs": [
    {
     "output_type": "display_data",
     "data": {
      "application/vnd.plotly.v1+json": {
       "data": [
        {
         "colorbar": {
          "len": 0.5,
          "thickness": 15
         },
         "colorscale": [
          [
           0,
           "rgb(255, 198, 196)"
          ],
          [
           0.16666666666666666,
           "rgb(244, 163, 168)"
          ],
          [
           0.3333333333333333,
           "rgb(227, 129, 145)"
          ],
          [
           0.5,
           "rgb(204, 96, 125)"
          ],
          [
           0.6666666666666666,
           "rgb(173, 70, 108)"
          ],
          [
           0.8333333333333334,
           "rgb(139, 48, 88)"
          ],
          [
           1,
           "rgb(103, 32, 68)"
          ]
         ],
         "name": "GP regression",
         "opacity": 0.8,
         "x": [
          0.33928570710122585,
          0.5055418629199266,
          0.6717980187386274,
          0.8380541577935219,
          1.0043103471398354,
          1.1705665364861488,
          1.336822658777237,
          1.503078781068325,
          1.6693349033594131,
          1.8355910927057266,
          2.0018471479415894,
          2.168103337287903,
          2.3343595266342168,
          2.5006157159805302,
          2.6668719053268437,
          2.833128094673157,
          2.9993842840194707,
          3.165640473365784,
          3.3318966627120976,
          3.4981525838375096,
          3.664408773183823,
          3.8306649625301366,
          3.99692115187645,
          4.163177341222764,
          4.329433262348176,
          4.495689451694489,
          4.661945641040803,
          4.828201830387116,
          4.99445801973343,
          5.160714209079743
         ],
         "y": [
          2.276071443020234,
          2.745652702469288,
          3.215233961918342,
          3.684815174018958,
          4.154396528164888,
          4.623977882310818,
          5.093559047062996,
          5.563140211815174,
          6.032721376567352,
          6.502302730713282,
          6.971883706071708,
          7.441465060217638,
          7.911046414363568,
          8.380627768509498,
          8.850209122655428,
          9.319790476801359,
          9.789371830947289,
          10.258953185093219,
          10.72853453923915,
          11.19811513581007,
          11.667696489956,
          12.13727784410193,
          12.60685919824786,
          13.076440552393791,
          13.546021148964712,
          14.015602503110642,
          14.485183857256573,
          14.954765211402503,
          15.424346565548433,
          15.893927919694363
         ],
         "z": [
          [
           1.1291381120681763,
           1.000772476196289,
           1.120546579360962,
           1.3839499950408936,
           1.654198169708252,
           1.875853180885315,
           2.042853355407715,
           2.16428804397583,
           2.2508084774017334,
           2.311323404312134,
           2.3528051376342773,
           2.380621910095215,
           2.3988516330718994,
           2.4105231761932373,
           2.417823076248169,
           2.42228364944458,
           2.42494535446167,
           2.426495313644409,
           2.427374839782715,
           2.4278595447540283,
           2.428117275238037,
           2.428248167037964,
           2.4283106327056885,
           2.4283368587493896,
           2.4283456802368164,
           2.4283463954925537,
           2.428344249725342,
           2.428341865539551,
           2.428340196609497,
           2.428339958190918
          ],
          [
           1.2226994037628174,
           1.015866756439209,
           1.192936658859253,
           1.4647421836853027,
           1.6958556175231934,
           1.881030797958374,
           2.0302557945251465,
           2.148632049560547,
           2.238990545272827,
           2.304840326309204,
           2.350677728652954,
           2.3812427520751953,
           2.4008216857910156,
           2.4128921031951904,
           2.420057773590088,
           2.424147605895996,
           2.4263830184936523,
           2.427541732788086,
           2.428100824356079,
           2.428340435028076,
           2.428419828414917,
           2.428424835205078,
           2.4284005165100098,
           2.428368330001831,
           2.428337812423706,
           2.4283127784729004,
           2.4282941818237305,
           2.428281784057617,
           2.4282748699188232,
           2.4282729625701904
          ],
          [
           2.2160863876342773,
           2.2770767211914062,
           2.1169676780700684,
           1.9487769603729248,
           1.8952162265777588,
           1.9442182779312134,
           2.045781135559082,
           2.1548829078674316,
           2.2476646900177,
           2.316934585571289,
           2.3641765117645264,
           2.3941104412078857,
           2.4118356704711914,
           2.421616792678833,
           2.4265754222869873,
           2.4287948608398438,
           2.4295692443847656,
           2.4296505451202393,
           2.4294474124908447,
           2.4291648864746094,
           2.4288947582244873,
           2.4286699295043945,
           2.428495407104492,
           2.428365468978882,
           2.4282712936401367,
           2.4282052516937256,
           2.4281606674194336,
           2.428133010864258,
           2.428119421005249,
           2.428117275238037
          ],
          [
           2.0854291915893555,
           2.110708713531494,
           1.9661471843719482,
           1.8126119375228882,
           1.7805486917495728,
           1.8859065771102905,
           2.0413639545440674,
           2.183999538421631,
           2.2918739318847656,
           2.363495111465454,
           2.4058260917663574,
           2.427805185317993,
           2.437232494354248,
           2.439763069152832,
           2.4390010833740234,
           2.437004804611206,
           2.4348206520080566,
           2.43290114402771,
           2.431382894515991,
           2.430253744125366,
           2.429446220397949,
           2.428882122039795,
           2.428492546081543,
           2.4282240867614746,
           2.42803955078125,
           2.4279134273529053,
           2.427830219268799,
           2.427780866622925,
           2.4277591705322266,
           2.4277613162994385
          ],
          [
           0.9339451789855957,
           0.7070436477661133,
           0.9043266773223877,
           1.2732632160186768,
           1.611339807510376,
           1.9045957326889038,
           2.1444175243377686,
           2.316883087158203,
           2.423027992248535,
           2.475989580154419,
           2.493515968322754,
           2.491514205932617,
           2.481111526489258,
           2.468737840652466,
           2.457472085952759,
           2.448406934738159,
           2.441628932952881,
           2.4368038177490234,
           2.4334864616394043,
           2.4312596321105957,
           2.4297852516174316,
           2.428811550140381,
           2.4281623363494873,
           2.4277212619781494,
           2.427415370941162,
           2.4272024631500244,
           2.4270594120025635,
           2.426975727081299,
           2.4269449710845947,
           2.4269630908966064
          ],
          [
           1.191063642501831,
           1.060699224472046,
           1.2734296321868896,
           1.6107289791107178,
           1.9596192836761475,
           2.2628040313720703,
           2.492307186126709,
           2.6323227882385254,
           2.6842947006225586,
           2.6731042861938477,
           2.631344795227051,
           2.582597494125366,
           2.5387706756591797,
           2.5039477348327637,
           2.4782395362854004,
           2.4601829051971436,
           2.447957992553711,
           2.4399120807647705,
           2.434727191925049,
           2.4314286708831787,
           2.4293313026428223,
           2.4279749393463135,
           2.4270644187927246,
           2.4264209270477295,
           2.4259448051452637,
           2.425588369369507,
           2.42533540725708,
           2.425184965133667,
           2.425140142440796,
           2.4252007007598877
          ],
          [
           1.9601032733917236,
           1.9643242359161377,
           2.176628828048706,
           2.4099209308624268,
           2.6472079753875732,
           2.8625829219818115,
           3.0235602855682373,
           3.0873847007751465,
           3.02767276763916,
           2.904034376144409,
           2.7764816284179688,
           2.6696956157684326,
           2.5888941287994385,
           2.531400680541992,
           2.4922313690185547,
           2.466445207595825,
           2.4499547481536865,
           2.4396653175354004,
           2.4333605766296387,
           2.429518461227417,
           2.4271318912506104,
           2.4255621433258057,
           2.424426555633545,
           2.423518180847168,
           2.4227468967437744,
           2.422097682952881,
           2.421597719192505,
           2.4212889671325684,
           2.4212071895599365,
           2.4213669300079346
          ],
          [
           2.586862325668335,
           2.796442747116089,
           2.9612886905670166,
           3.167560338973999,
           3.345684766769409,
           3.4414784908294678,
           3.4570746421813965,
           3.387439727783203,
           3.2173075675964355,
           3.01511549949646,
           2.8368170261383057,
           2.6987504959106445,
           2.599457263946533,
           2.531651496887207,
           2.487281084060669,
           2.459367513656616,
           2.442469596862793,
           2.4326062202453613,
           2.4270007610321045,
           2.423797845840454,
           2.4218125343322754,
           2.4203333854675293,
           2.4189774990081787,
           2.417588233947754,
           2.4161667823791504,
           2.4148170948028564,
           2.4136979579925537,
           2.412975311279297,
           2.4127771854400635,
           2.413159132003784
          ],
          [
           2.9772708415985107,
           3.2230489253997803,
           3.4758975505828857,
           3.726569890975952,
           3.8671324253082275,
           3.7805087566375732,
           3.568695545196533,
           3.341705083847046,
           3.125082015991211,
           2.928830623626709,
           2.7650938034057617,
           2.6393773555755615,
           2.549630641937256,
           2.489733934402466,
           2.4524319171905518,
           2.4309608936309814,
           2.4197659492492676,
           2.414670467376709,
           2.4127540588378906,
           2.412109613418579,
           2.4115817546844482,
           2.4105470180511475,
           2.4087564945220947,
           2.4062349796295166,
           2.4032211303710938,
           2.4001147747039795,
           2.397409200668335,
           2.395594596862793,
           2.395045518875122,
           2.3959243297576904
          ],
          [
           2.894176721572876,
           3.0435473918914795,
           3.2027370929718018,
           3.3724677562713623,
           3.48742413520813,
           3.3606228828430176,
           3.184037923812866,
           3.01605224609375,
           2.858611583709717,
           2.71525239944458,
           2.593442916870117,
           2.4993820190429688,
           2.434603691101074,
           2.3959598541259766,
           2.377495050430298,
           2.3725533485412598,
           2.375260591506958,
           2.3811841011047363,
           2.387373924255371,
           2.3920860290527344,
           2.394428014755249,
           2.3940677642822266,
           2.3910579681396484,
           2.3857719898223877,
           2.3789079189300537,
           2.3714942932128906,
           2.3648123741149902,
           2.360184907913208,
           2.358651638031006,
           2.3606581687927246
          ],
          [
           2.7036831378936768,
           2.7218477725982666,
           2.679201126098633,
           2.558863401412964,
           2.4632155895233154,
           2.553497076034546,
           2.646303176879883,
           2.6437857151031494,
           2.568413257598877,
           2.4614949226379395,
           2.3584234714508057,
           2.28214430809021,
           2.2412712574005127,
           2.232586622238159,
           2.246462106704712,
           2.2721526622772217,
           2.300971746444702,
           2.3272557258605957,
           2.3479838371276855,
           2.3619279861450195,
           2.3688619136810303,
           2.3690381050109863,
           2.362971305847168,
           2.351487159729004,
           2.3359546661376953,
           2.3185484409332275,
           2.3022968769073486,
           2.2906506061553955,
           2.2865123748779297,
           2.2911343574523926
          ],
          [
           2.6559348106384277,
           2.689980983734131,
           2.711536169052124,
           2.726285219192505,
           2.7417125701904297,
           2.743607521057129,
           2.705730438232422,
           2.597501277923584,
           2.420928955078125,
           2.217926025390625,
           2.0453619956970215,
           1.9442191123962402,
           1.9228287935256958,
           1.9625706672668457,
           2.035179615020752,
           2.116354465484619,
           2.1906814575195312,
           2.250779151916504,
           2.294501304626465,
           2.3223283290863037,
           2.3356027603149414,
           2.3356146812438965,
           2.3233642578125,
           2.2998697757720947,
           2.26694655418396,
           2.2282865047454834,
           2.190321445465088,
           2.1617953777313232,
           2.1510448455810547,
           2.161834239959717
          ],
          [
           2.7276315689086914,
           2.8420920372009277,
           2.9908015727996826,
           3.1630797386169434,
           3.296938896179199,
           3.2958476543426514,
           3.1525425910949707,
           2.8526971340179443,
           2.4113950729370117,
           1.928604245185852,
           1.552676796913147,
           1.3821384906768799,
           1.406989574432373,
           1.5497276782989502,
           1.7329423427581787,
           1.9077200889587402,
           2.0518815517425537,
           2.1598901748657227,
           2.234104633331299,
           2.2793030738830566,
           2.2998712062835693,
           2.29866623878479,
           2.2768983840942383,
           2.234776020050049,
           2.1730270385742188,
           2.0955944061279297,
           2.0133538246154785,
           1.946531057357788,
           1.9195575714111328,
           1.9449583292007446
          ],
          [
           2.8032286167144775,
           2.9716997146606445,
           3.1930789947509766,
           3.4546608924865723,
           3.7111101150512695,
           3.8800206184387207,
           3.8341116905212402,
           3.409663677215576,
           2.563988208770752,
           1.5453317165374756,
           0.7802722454071045,
           0.5466477870941162,
           0.7193340063095093,
           1.056214451789856,
           1.4051508903503418,
           1.6998515129089355,
           1.9234285354614258,
           2.0810329914093018,
           2.184544324874878,
           2.2454512119293213,
           2.27213716506958,
           2.26920747756958,
           2.2377126216888428,
           2.1759488582611084,
           2.081169605255127,
           1.9532599449157715,
           1.8023172616958618,
           1.6618618965148926,
           1.597347617149353,
           1.6562676429748535
          ],
          [
           2.83093523979187,
           3.020268201828003,
           3.277517318725586,
           3.607451915740967,
           3.995492458343506,
           4.381233215332031,
           4.595014572143555,
           4.235874176025391,
           2.9485015869140625,
           1.322932481765747,
           0.14626479148864746,
           -0.08890795707702637,
           0.263014554977417,
           0.7736318111419678,
           1.2425875663757324,
           1.6096339225769043,
           1.8740901947021484,
           2.053961992263794,
           2.169154405593872,
           2.235668182373047,
           2.2641963958740234,
           2.260272741317749,
           2.224891185760498,
           2.155383825302124,
           2.0469675064086914,
           1.8961067199707031,
           1.708143711090088,
           1.514068365097046,
           1.4058524370193481,
           1.5045667886734009
          ],
          [
           2.801764965057373,
           2.976543426513672,
           3.214901924133301,
           3.5231451988220215,
           3.887869119644165,
           4.245425224304199,
           4.4225921630859375,
           4.084310531616211,
           3.0121982097625732,
           1.5713105201721191,
           0.46098172664642334,
           0.3019368648529053,
           0.6308114528656006,
           1.0549328327178955,
           1.4353622198104858,
           1.734595537185669,
           1.953026533126831,
           2.103541851043701,
           2.2008705139160156,
           2.2572848796844482,
           2.2812392711639404,
           2.2772839069366455,
           2.2465579509735107,
           2.1877379417419434,
           2.098850727081299,
           1.9809428453445435,
           1.8451147079467773,
           1.7230507135391235,
           1.6690400838851929,
           1.7184325456619263
          ],
          [
           2.73061203956604,
           2.86405611038208,
           3.039517879486084,
           3.2546334266662598,
           3.488750457763672,
           3.6881935596466064,
           3.7590761184692383,
           3.6039345264434814,
           3.2243058681488037,
           2.767573356628418,
           2.3515126705169678,
           1.9857633113861084,
           1.799323558807373,
           1.800931453704834,
           1.8983275890350342,
           2.019005298614502,
           2.1272926330566406,
           2.2109408378601074,
           2.268706798553467,
           2.3031656742095947,
           2.3172662258148193,
           2.3129804134368896,
           2.2910966873168945,
           2.251793146133423,
           2.1960067749023438,
           2.1277365684509277,
           2.0569043159484863,
           2.0006000995635986,
           1.978200078010559,
           1.9992574453353882
          ],
          [
           2.647594451904297,
           2.7364068031311035,
           2.8480119705200195,
           2.9776999950408936,
           3.111142635345459,
           3.222119092941284,
           3.277613639831543,
           3.25559663772583,
           3.168314218521118,
           3.063084363937378,
           2.938231945037842,
           2.667184829711914,
           2.4480292797088623,
           2.331423044204712,
           2.2893357276916504,
           2.2890312671661377,
           2.3066327571868896,
           2.3279526233673096,
           2.345719337463379,
           2.356671094894409,
           2.3595123291015625,
           2.353755474090576,
           2.339272975921631,
           2.3163976669311523,
           2.2864561080932617,
           2.252530813217163,
           2.2199814319610596,
           2.1958930492401123,
           2.1868324279785156,
           2.195704460144043
          ],
          [
           2.576998233795166,
           2.633227586746216,
           2.702664375305176,
           2.78318190574646,
           2.869044303894043,
           2.9503021240234375,
           3.0126922130584717,
           3.03594970703125,
           2.9884345531463623,
           2.8379409313201904,
           2.6692099571228027,
           2.6586217880249023,
           2.6543054580688477,
           2.5974950790405273,
           2.529465675354004,
           2.475921392440796,
           2.441384792327881,
           2.421513319015503,
           2.410426139831543,
           2.403313159942627,
           2.3968653678894043,
           2.3890225887298584,
           2.3786802291870117,
           2.365553140640259,
           2.350203275680542,
           2.3341104984283447,
           2.3195858001708984,
           2.3093276023864746,
           2.305598258972168,
           2.309346914291382
          ],
          [
           2.5268168449401855,
           2.563662528991699,
           2.6105997562408447,
           2.6688828468322754,
           2.739833116531372,
           2.825502872467041,
           2.9298830032348633,
           3.060466766357422,
           3.2277510166168213,
           3.424502372741699,
           3.5229759216308594,
           3.339195489883423,
           3.0737013816833496,
           2.85845947265625,
           2.703521966934204,
           2.597195625305176,
           2.5270113945007324,
           2.482177495956421,
           2.4540412425994873,
           2.4361562728881836,
           2.4240164756774902,
           2.4146547317504883,
           2.406266689300537,
           2.3979406356811523,
           2.3894922733306885,
           2.3813414573669434,
           2.374350070953369,
           2.3695545196533203,
           2.367809295654297,
           2.369455575942993
          ],
          [
           2.4937469959259033,
           2.519209861755371,
           2.55330491065979,
           2.598794460296631,
           2.6595354080200195,
           2.740786075592041,
           2.8487637042999268,
           2.9874627590179443,
           3.1485207080841064,
           3.2919363975524902,
           3.342081069946289,
           3.254542827606201,
           3.079861640930176,
           2.896655321121216,
           2.7457563877105713,
           2.6349775791168213,
           2.558612585067749,
           2.5079970359802246,
           2.475283145904541,
           2.4543678760528564,
           2.4408388137817383,
           2.431647539138794,
           2.424771785736084,
           2.4189581871032715,
           2.4135680198669434,
           2.408494472503662,
           2.404083728790283,
           2.400966167449951,
           2.399752140045166,
           2.400688886642456
          ],
          [
           2.47174072265625,
           2.489346981048584,
           2.513552665710449,
           2.5466277599334717,
           2.5913381576538086,
           2.6504902839660645,
           2.725525379180908,
           2.8135170936584473,
           2.9028396606445312,
           2.9710426330566406,
           2.9922986030578613,
           2.9552462100982666,
           2.8734304904937744,
           2.774122953414917,
           2.6803386211395264,
           2.6035943031311035,
           2.546233892440796,
           2.505948066711426,
           2.47896146774292,
           2.4615910053253174,
           2.450788974761963,
           2.4441890716552734,
           2.4399757385253906,
           2.43674635887146,
           2.433476448059082,
           2.42964243888855,
           2.42545485496521,
           2.4219279289245605,
           2.4203925132751465,
           2.4214892387390137
          ],
          [
           2.4565343856811523,
           2.4680745601654053,
           2.483889579772949,
           2.5052075386047363,
           2.5332188606262207,
           2.5685935020446777,
           2.610612154006958,
           2.6560118198394775,
           2.6981780529022217,
           2.727924108505249,
           2.736780881881714,
           2.721493721008301,
           2.686152219772339,
           2.6398637294769287,
           2.5921688079833984,
           2.549779176712036,
           2.515871524810791,
           2.4909756183624268,
           2.474195957183838,
           2.4641177654266357,
           2.459277629852295,
           2.4582936763763428,
           2.459782361984253,
           2.4622035026550293,
           2.4638009071350098,
           2.462907552719116,
           2.4588887691497803,
           2.4534666538238525,
           2.4506242275238037,
           2.4528558254241943
          ],
          [
           2.445964813232422,
           2.452990770339966,
           2.462418794631958,
           2.4747507572174072,
           2.4903180599212646,
           2.5090243816375732,
           2.530005693435669,
           2.551342487335205,
           2.570063829421997,
           2.5827112197875977,
           2.586465835571289,
           2.58034348487854,
           2.5657057762145996,
           2.5457043647766113,
           2.524059534072876,
           2.50395131111145,
           2.4874892234802246,
           2.475757122039795,
           2.469141721725464,
           2.467686176300049,
           2.471308708190918,
           2.4798247814178467,
           2.4927399158477783,
           2.508817195892334,
           2.5255231857299805,
           2.538745880126953,
           2.543792724609375,
           2.539320468902588,
           2.5339932441711426,
           2.5385584831237793
          ],
          [
           2.438870429992676,
           2.442854404449463,
           2.448052167892456,
           2.454622507095337,
           2.4625954627990723,
           2.4717679023742676,
           2.4816012382507324,
           2.4911789894104004,
           2.499286413192749,
           2.5046606063842773,
           2.506357431411743,
           2.5040946006774902,
           2.498394012451172,
           2.4904444217681885,
           2.481774091720581,
           2.4739131927490234,
           2.4681942462921143,
           2.4657347202301025,
           2.4675557613372803,
           2.4747512340545654,
           2.4886276721954346,
           2.5107169151306152,
           2.542548418045044,
           2.584995985031128,
           2.6369903087615967,
           2.6935765743255615,
           2.744330406188965,
           2.7757761478424072,
           2.7837271690368652,
           2.776750326156616
          ],
          [
           2.4343626499176025,
           2.436490774154663,
           2.4391868114471436,
           2.442485809326172,
           2.446352243423462,
           2.4506452083587646,
           2.4550938606262207,
           2.459303140640259,
           2.4628028869628906,
           2.4651455879211426,
           2.4660301208496094,
           2.465409517288208,
           2.4635426998138428,
           2.460972547531128,
           2.4584531784057617,
           2.4568798542022705,
           2.4572646617889404,
           2.46079158782959,
           2.468949794769287,
           2.4837288856506348,
           2.507848024368286,
           2.544947385787964,
           2.5996241569519043,
           2.6770286560058594,
           2.781498908996582,
           2.9131436347961426,
           3.060746192932129,
           3.191002130508423,
           3.2481777667999268,
           3.197585105895996
          ],
          [
           2.4316580295562744,
           2.432742118835449,
           2.4340784549713135,
           2.4356672763824463,
           2.437476634979248,
           2.4394314289093018,
           2.441411018371582,
           2.4432575702667236,
           2.4447999000549316,
           2.445892333984375,
           2.446460247039795,
           2.4465415477752686,
           2.4463131427764893,
           2.446106433868408,
           2.446413516998291,
           2.4479095935821533,
           2.451510429382324,
           2.458483934402466,
           2.4706313610076904,
           2.490544080734253,
           2.5219287872314453,
           2.5699567794799805,
           2.64152193069458,
           2.7451226711273193,
           2.8897581100463867,
           3.081678867340088,
           3.3165528774261475,
           3.5605640411376953,
           3.6973471641540527,
           3.575024127960205
          ],
          [
           2.430117607116699,
           2.430650234222412,
           2.431291103363037,
           2.432035207748413,
           2.432864189147949,
           2.433744192123413,
           2.4346261024475098,
           2.435453176498413,
           2.436171054840088,
           2.4367456436157227,
           2.437182664871216,
           2.4375481605529785,
           2.43799090385437,
           2.438764810562134,
           2.4402616024017334,
           2.4430627822875977,
           2.44802188873291,
           2.456397533416748,
           2.4700422286987305,
           2.49166202545166,
           2.5251288414001465,
           2.5757856369018555,
           2.650564193725586,
           2.757495403289795,
           2.903689384460449,
           3.0899837017059326,
           3.299257755279541,
           3.477062225341797,
           3.539024591445923,
           3.485492706298828
          ],
          [
           2.4292778968811035,
           2.429532766342163,
           2.42983341217041,
           2.4301767349243164,
           2.430553913116455,
           2.4309518337249756,
           2.431353807449341,
           2.4317433834075928,
           2.4321110248565674,
           2.4324615001678467,
           2.4328267574310303,
           2.4332773685455322,
           2.4339425563812256,
           2.435032367706299,
           2.4368739128112793,
           2.439964532852173,
           2.445052146911621,
           2.4532511234283447,
           2.4662020206451416,
           2.4862756729125977,
           2.516796112060547,
           2.562215805053711,
           2.6280696392059326,
           2.7203636169433594,
           2.84379243850708,
           2.9979751110076904,
           3.171278953552246,
           3.333279609680176,
           3.4193992614746094,
           3.3423831462860107
          ],
          [
           2.4288365840911865,
           2.4289565086364746,
           2.429096221923828,
           2.4292538166046143,
           2.429426908493042,
           2.4296114444732666,
           2.4298038482666016,
           2.4300031661987305,
           2.4302148818969727,
           2.4304559230804443,
           2.4307618141174316,
           2.431196689605713,
           2.4318675994873047,
           2.43294358253479,
           2.4346864223480225,
           2.4374935626983643,
           2.4419591426849365,
           2.4489588737487793,
           2.4597606658935547,
           2.4761500358581543,
           2.500554084777832,
           2.536097288131714,
           2.586477756500244,
           2.6554524898529053,
           2.745607376098633,
           2.855902910232544,
           2.9771480560302734,
           3.0843992233276367,
           3.1325507164001465,
           3.089991807937622
          ]
         ],
         "type": "surface"
        },
        {
         "marker": {
          "color": "#72356c"
         },
         "mode": "markers",
         "name": "training data",
         "x": [
          0.5,
          0.5,
          1.0000000037252903,
          1.0000000037252903,
          1.5000000074505806,
          1.5000000074505806,
          5.000000000000001,
          5.000000000000001,
          0.5,
          5.000000000000001,
          2.0000000447034836,
          0.5,
          0.5,
          0.5,
          1.0000000037252903,
          1.0000000037252903,
          2.0000000447034836,
          2.0000000447034836,
          2.0000000447034836,
          2.0000000447034836,
          5.000000000000001,
          5.000000000000001,
          5.000000000000001
         ],
         "y": [
          2.7300000190734863,
          3.4000001145614362,
          3.7899999185612288,
          6.440000140764965,
          5.3600000716472636,
          8.98999989360641,
          8.800000081362441,
          14.670000341289324,
          5.239999811442516,
          14.890000123887603,
          10.130000282220237,
          4.510000154033449,
          5.369999872371615,
          4.880000167190786,
          6.760000203331785,
          7.769999962835257,
          8.729999392960707,
          9.380000265787459,
          10.479999178778854,
          11.010000170188363,
          14.710000301761738,
          15.4399995803833,
          13.370000110785838
         ],
         "z": [
          0.8730257153511047,
          2.6772446632385254,
          1.6990152597427368,
          3.8050527572631836,
          3.3348562717437744,
          4.535152912139893,
          1.3625102043151855,
          3.8412907123565674,
          1.2013570070266724,
          3.5136520862579346,
          3.4708714485168457,
          0.26329824328422546,
          2.7753403186798096,
          2.591306209564209,
          2.579984426498413,
          3.173818588256836,
          0.13150499761104584,
          0.45116370916366577,
          2.1266398429870605,
          3.468212842941284,
          3.685852527618408,
          3.445655584335327,
          2.6515469551086426
         ],
         "type": "scatter3d"
        }
       ],
       "layout": {
        "template": {
         "data": {
          "barpolar": [
           {
            "marker": {
             "line": {
              "color": "rgb(237,237,237)",
              "width": 0.5
             },
             "pattern": {
              "fillmode": "overlay",
              "size": 10,
              "solidity": 0.2
             }
            },
            "type": "barpolar"
           }
          ],
          "bar": [
           {
            "error_x": {
             "color": "rgb(51,51,51)"
            },
            "error_y": {
             "color": "rgb(51,51,51)"
            },
            "marker": {
             "line": {
              "color": "rgb(237,237,237)",
              "width": 0.5
             },
             "pattern": {
              "fillmode": "overlay",
              "size": 10,
              "solidity": 0.2
             }
            },
            "type": "bar"
           }
          ],
          "carpet": [
           {
            "aaxis": {
             "endlinecolor": "rgb(51,51,51)",
             "gridcolor": "white",
             "linecolor": "white",
             "minorgridcolor": "white",
             "startlinecolor": "rgb(51,51,51)"
            },
            "baxis": {
             "endlinecolor": "rgb(51,51,51)",
             "gridcolor": "white",
             "linecolor": "white",
             "minorgridcolor": "white",
             "startlinecolor": "rgb(51,51,51)"
            },
            "type": "carpet"
           }
          ],
          "choropleth": [
           {
            "colorbar": {
             "outlinewidth": 0,
             "tickcolor": "rgb(237,237,237)",
             "ticklen": 6,
             "ticks": "inside"
            },
            "type": "choropleth"
           }
          ],
          "contourcarpet": [
           {
            "colorbar": {
             "outlinewidth": 0,
             "tickcolor": "rgb(237,237,237)",
             "ticklen": 6,
             "ticks": "inside"
            },
            "type": "contourcarpet"
           }
          ],
          "contour": [
           {
            "colorbar": {
             "outlinewidth": 0,
             "tickcolor": "rgb(237,237,237)",
             "ticklen": 6,
             "ticks": "inside"
            },
            "colorscale": [
             [
              0,
              "rgb(20,44,66)"
             ],
             [
              1,
              "rgb(90,179,244)"
             ]
            ],
            "type": "contour"
           }
          ],
          "heatmapgl": [
           {
            "colorbar": {
             "outlinewidth": 0,
             "tickcolor": "rgb(237,237,237)",
             "ticklen": 6,
             "ticks": "inside"
            },
            "colorscale": [
             [
              0,
              "rgb(20,44,66)"
             ],
             [
              1,
              "rgb(90,179,244)"
             ]
            ],
            "type": "heatmapgl"
           }
          ],
          "heatmap": [
           {
            "colorbar": {
             "outlinewidth": 0,
             "tickcolor": "rgb(237,237,237)",
             "ticklen": 6,
             "ticks": "inside"
            },
            "colorscale": [
             [
              0,
              "rgb(20,44,66)"
             ],
             [
              1,
              "rgb(90,179,244)"
             ]
            ],
            "type": "heatmap"
           }
          ],
          "histogram2dcontour": [
           {
            "colorbar": {
             "outlinewidth": 0,
             "tickcolor": "rgb(237,237,237)",
             "ticklen": 6,
             "ticks": "inside"
            },
            "colorscale": [
             [
              0,
              "rgb(20,44,66)"
             ],
             [
              1,
              "rgb(90,179,244)"
             ]
            ],
            "type": "histogram2dcontour"
           }
          ],
          "histogram2d": [
           {
            "colorbar": {
             "outlinewidth": 0,
             "tickcolor": "rgb(237,237,237)",
             "ticklen": 6,
             "ticks": "inside"
            },
            "colorscale": [
             [
              0,
              "rgb(20,44,66)"
             ],
             [
              1,
              "rgb(90,179,244)"
             ]
            ],
            "type": "histogram2d"
           }
          ],
          "histogram": [
           {
            "marker": {
             "pattern": {
              "fillmode": "overlay",
              "size": 10,
              "solidity": 0.2
             }
            },
            "type": "histogram"
           }
          ],
          "mesh3d": [
           {
            "colorbar": {
             "outlinewidth": 0,
             "tickcolor": "rgb(237,237,237)",
             "ticklen": 6,
             "ticks": "inside"
            },
            "type": "mesh3d"
           }
          ],
          "parcoords": [
           {
            "line": {
             "colorbar": {
              "outlinewidth": 0,
              "tickcolor": "rgb(237,237,237)",
              "ticklen": 6,
              "ticks": "inside"
             }
            },
            "type": "parcoords"
           }
          ],
          "pie": [
           {
            "automargin": true,
            "type": "pie"
           }
          ],
          "scatter3d": [
           {
            "line": {
             "colorbar": {
              "outlinewidth": 0,
              "tickcolor": "rgb(237,237,237)",
              "ticklen": 6,
              "ticks": "inside"
             }
            },
            "marker": {
             "colorbar": {
              "outlinewidth": 0,
              "tickcolor": "rgb(237,237,237)",
              "ticklen": 6,
              "ticks": "inside"
             }
            },
            "type": "scatter3d"
           }
          ],
          "scattercarpet": [
           {
            "marker": {
             "colorbar": {
              "outlinewidth": 0,
              "tickcolor": "rgb(237,237,237)",
              "ticklen": 6,
              "ticks": "inside"
             }
            },
            "type": "scattercarpet"
           }
          ],
          "scattergeo": [
           {
            "marker": {
             "colorbar": {
              "outlinewidth": 0,
              "tickcolor": "rgb(237,237,237)",
              "ticklen": 6,
              "ticks": "inside"
             }
            },
            "type": "scattergeo"
           }
          ],
          "scattergl": [
           {
            "marker": {
             "colorbar": {
              "outlinewidth": 0,
              "tickcolor": "rgb(237,237,237)",
              "ticklen": 6,
              "ticks": "inside"
             }
            },
            "type": "scattergl"
           }
          ],
          "scattermapbox": [
           {
            "marker": {
             "colorbar": {
              "outlinewidth": 0,
              "tickcolor": "rgb(237,237,237)",
              "ticklen": 6,
              "ticks": "inside"
             }
            },
            "type": "scattermapbox"
           }
          ],
          "scatterpolargl": [
           {
            "marker": {
             "colorbar": {
              "outlinewidth": 0,
              "tickcolor": "rgb(237,237,237)",
              "ticklen": 6,
              "ticks": "inside"
             }
            },
            "type": "scatterpolargl"
           }
          ],
          "scatterpolar": [
           {
            "marker": {
             "colorbar": {
              "outlinewidth": 0,
              "tickcolor": "rgb(237,237,237)",
              "ticklen": 6,
              "ticks": "inside"
             }
            },
            "type": "scatterpolar"
           }
          ],
          "scatter": [
           {
            "fillpattern": {
             "fillmode": "overlay",
             "size": 10,
             "solidity": 0.2
            },
            "type": "scatter"
           }
          ],
          "scatterternary": [
           {
            "marker": {
             "colorbar": {
              "outlinewidth": 0,
              "tickcolor": "rgb(237,237,237)",
              "ticklen": 6,
              "ticks": "inside"
             }
            },
            "type": "scatterternary"
           }
          ],
          "surface": [
           {
            "colorbar": {
             "outlinewidth": 0,
             "tickcolor": "rgb(237,237,237)",
             "ticklen": 6,
             "ticks": "inside"
            },
            "colorscale": [
             [
              0,
              "rgb(20,44,66)"
             ],
             [
              1,
              "rgb(90,179,244)"
             ]
            ],
            "type": "surface"
           }
          ],
          "table": [
           {
            "cells": {
             "fill": {
              "color": "rgb(237,237,237)"
             },
             "line": {
              "color": "white"
             }
            },
            "header": {
             "fill": {
              "color": "rgb(217,217,217)"
             },
             "line": {
              "color": "white"
             }
            },
            "type": "table"
           }
          ]
         },
         "layout": {
          "annotationdefaults": {
           "arrowhead": 0,
           "arrowwidth": 1
          },
          "autotypenumbers": "strict",
          "coloraxis": {
           "colorbar": {
            "outlinewidth": 0,
            "tickcolor": "rgb(237,237,237)",
            "ticklen": 6,
            "ticks": "inside"
           }
          },
          "colorscale": {
           "sequential": [
            [
             0,
             "rgb(20,44,66)"
            ],
            [
             1,
             "rgb(90,179,244)"
            ]
           ],
           "sequentialminus": [
            [
             0,
             "rgb(20,44,66)"
            ],
            [
             1,
             "rgb(90,179,244)"
            ]
           ]
          },
          "colorway": [
           "#F8766D",
           "#A3A500",
           "#00BF7D",
           "#00B0F6",
           "#E76BF3"
          ],
          "font": {
           "color": "rgb(51,51,51)"
          },
          "geo": {
           "bgcolor": "white",
           "lakecolor": "white",
           "landcolor": "rgb(237,237,237)",
           "showlakes": true,
           "showland": true,
           "subunitcolor": "white"
          },
          "hoverlabel": {
           "align": "left"
          },
          "hovermode": "closest",
          "paper_bgcolor": "white",
          "plot_bgcolor": "rgb(237,237,237)",
          "polar": {
           "angularaxis": {
            "gridcolor": "white",
            "linecolor": "white",
            "showgrid": true,
            "tickcolor": "rgb(51,51,51)",
            "ticks": "outside"
           },
           "bgcolor": "rgb(237,237,237)",
           "radialaxis": {
            "gridcolor": "white",
            "linecolor": "white",
            "showgrid": true,
            "tickcolor": "rgb(51,51,51)",
            "ticks": "outside"
           }
          },
          "scene": {
           "xaxis": {
            "backgroundcolor": "rgb(237,237,237)",
            "gridcolor": "white",
            "gridwidth": 2,
            "linecolor": "white",
            "showbackground": true,
            "showgrid": true,
            "tickcolor": "rgb(51,51,51)",
            "ticks": "outside",
            "zerolinecolor": "white"
           },
           "yaxis": {
            "backgroundcolor": "rgb(237,237,237)",
            "gridcolor": "white",
            "gridwidth": 2,
            "linecolor": "white",
            "showbackground": true,
            "showgrid": true,
            "tickcolor": "rgb(51,51,51)",
            "ticks": "outside",
            "zerolinecolor": "white"
           },
           "zaxis": {
            "backgroundcolor": "rgb(237,237,237)",
            "gridcolor": "white",
            "gridwidth": 2,
            "linecolor": "white",
            "showbackground": true,
            "showgrid": true,
            "tickcolor": "rgb(51,51,51)",
            "ticks": "outside",
            "zerolinecolor": "white"
           }
          },
          "shapedefaults": {
           "fillcolor": "black",
           "line": {
            "width": 0
           },
           "opacity": 0.3
          },
          "ternary": {
           "aaxis": {
            "gridcolor": "white",
            "linecolor": "white",
            "showgrid": true,
            "tickcolor": "rgb(51,51,51)",
            "ticks": "outside"
           },
           "baxis": {
            "gridcolor": "white",
            "linecolor": "white",
            "showgrid": true,
            "tickcolor": "rgb(51,51,51)",
            "ticks": "outside"
           },
           "bgcolor": "rgb(237,237,237)",
           "caxis": {
            "gridcolor": "white",
            "linecolor": "white",
            "showgrid": true,
            "tickcolor": "rgb(51,51,51)",
            "ticks": "outside"
           }
          },
          "xaxis": {
           "automargin": true,
           "gridcolor": "white",
           "linecolor": "white",
           "showgrid": true,
           "tickcolor": "rgb(51,51,51)",
           "ticks": "outside",
           "title": {
            "standoff": 15
           },
           "zerolinecolor": "white"
          },
          "yaxis": {
           "automargin": true,
           "gridcolor": "white",
           "linecolor": "white",
           "showgrid": true,
           "tickcolor": "rgb(51,51,51)",
           "ticks": "outside",
           "title": {
            "standoff": 15
           },
           "zerolinecolor": "white"
          }
         }
        },
        "legend": {
         "orientation": "h",
         "yanchor": "top",
         "y": 1.02,
         "xanchor": "left",
         "x": 1
        },
        "margin": {
         "r": 0,
         "l": 0,
         "b": 0,
         "t": 0
        },
        "width": 1000,
        "height": 800,
        "scene": {
         "xaxis": {
          "title": {
           "text": "Pulse Width (msec)"
          }
         },
         "yaxis": {
          "title": {
           "text": "Energy density new cone (J/cm^2)"
          }
         },
         "zaxis": {
          "title": {
           "text": "2 Qsw/(U+|D|) 1e6"
          }
         },
         "camera": {
          "up": {
           "x": 0,
           "y": 0,
           "z": 1
          },
          "center": {
           "x": 0,
           "y": 0,
           "z": 0
          },
          "eye": {
           "x": 2.75,
           "y": 1.75,
           "z": 1
          }
         }
        }
       },
       "config": {
        "plotlyServerURL": "https://plot.ly"
       }
      }
     },
     "metadata": {}
    }
   ],
   "metadata": {}
  },
  {
   "cell_type": "code",
   "execution_count": 28,
   "source": [
    "import plotly.graph_objects as go\n",
    "def vis_acq(train_x, train_y, test_grid, pred_labels, upper_surf, lower_surf, acqs):\n",
    "    fig = go.Figure(data=[go.Surface(z=pred_labels.numpy(), \n",
    "                                    x=test_grid[:,0],\n",
    "                                    y=test_grid[:,1],\n",
    "                                    opacity = 0.8,\n",
    "                                    colorscale = \"Burg\",\n",
    "                                    colorbar=dict(thickness=15, len=0.5),\n",
    "                                    name='GP regression')])\n",
    "\n",
    "    fig.add_trace(go.Surface(z=upper_surf, x=test_grid[:,0],\n",
    "                    y=test_grid[:,1], opacity=0.2, colorscale = \"Burg\", showscale=False))\n",
    "\n",
    "    fig.add_trace(go.Surface(z=lower_surf, x=test_grid[:,0],\n",
    "                            y=test_grid[:,1], \n",
    "                            colorscale = \"Burg\",\n",
    "                            opacity=0.2, showscale=False))\n",
    "    fig.add_trace(go.Scatter3d(x=train_x[:,0], \n",
    "                                y=train_x[:,1], \n",
    "                                z=train_y.numpy(), \n",
    "                                mode='markers', \n",
    "                                name='training data', \n",
    "                                marker={'color':'#72356c'}))\n",
    "    \n",
    "    for acq_name, acq_val in acqs.items():\n",
    "        fig.add_trace(go.Scatter3d(x=[test_grid[acq_val[1], 0]], \n",
    "                                y=[test_grid[acq_val[0], 1]],\n",
    "                                z=[pred_labels[acq_val[0], acq_val[1]]], mode='markers', \n",
    "                                name='max(' + acq_name + ')')) \n",
    "\n",
    "    fig.update_layout(width=1200, height=750,\n",
    "                    margin=dict(r=20, l=10, b=15, t=10),\n",
    "                    legend=dict(orientation=\"h\", yanchor=\"bottom\", \n",
    "                                y=0.9, xanchor=\"right\",x=0.85),\n",
    "                    scene=dict(\n",
    "                        xaxis_title=\"Pulse Width (msec)\",\n",
    "                        yaxis_title=\"Energy density new cone (J/cm^2)\",\n",
    "                        zaxis_title='2 Qsw/(U+|D|) 1e6')\n",
    "                    )\n",
    "\n",
    "    fig.update_layout(template=\"ggplot2\")\n",
    "    camera = dict(\n",
    "    up=dict(x=0, y=0, z=1),\n",
    "    center=dict(x=0, y=0, z=0),\n",
    "    eye=dict(x=2, y=0.3, z=0.75))\n",
    "\n",
    "    fig.update_layout(scene_camera=camera)\n",
    "\n",
    "    fig.show()\n",
    "    # fig.write_image(\"output_plot.png\", format = \"png\", scale=3)"
   ],
   "outputs": [],
   "metadata": {}
  },
  {
   "cell_type": "code",
   "execution_count": 56,
   "source": [
    "vis_acq(raw_train_x, train_y, raw_test_grid, pred_labels, upper_surf, lower_surf, acqs)"
   ],
   "outputs": [
    {
     "output_type": "display_data",
     "data": {
      "application/vnd.plotly.v1+json": {
       "data": [
        {
         "colorbar": {
          "len": 0.5,
          "thickness": 15
         },
         "colorscale": [
          [
           0,
           "rgb(255, 198, 196)"
          ],
          [
           0.16666666666666666,
           "rgb(244, 163, 168)"
          ],
          [
           0.3333333333333333,
           "rgb(227, 129, 145)"
          ],
          [
           0.5,
           "rgb(204, 96, 125)"
          ],
          [
           0.6666666666666666,
           "rgb(173, 70, 108)"
          ],
          [
           0.8333333333333334,
           "rgb(139, 48, 88)"
          ],
          [
           1,
           "rgb(103, 32, 68)"
          ]
         ],
         "name": "GP regression",
         "opacity": 0.8,
         "x": [
          0.33928570710122585,
          0.5055418629199266,
          0.6717980187386274,
          0.8380541577935219,
          1.0043103471398354,
          1.1705665364861488,
          1.336822658777237,
          1.503078781068325,
          1.6693349033594131,
          1.8355910927057266,
          2.0018471479415894,
          2.168103337287903,
          2.3343595266342168,
          2.5006157159805302,
          2.6668719053268437,
          2.833128094673157,
          2.9993842840194707,
          3.165640473365784,
          3.3318966627120976,
          3.4981525838375096,
          3.664408773183823,
          3.8306649625301366,
          3.99692115187645,
          4.163177341222764,
          4.329433262348176,
          4.495689451694489,
          4.661945641040803,
          4.828201830387116,
          4.99445801973343,
          5.160714209079743
         ],
         "y": [
          2.276071443020234,
          2.745652702469288,
          3.215233961918342,
          3.684815174018958,
          4.154396528164888,
          4.623977882310818,
          5.093559047062996,
          5.563140211815174,
          6.032721376567352,
          6.502302730713282,
          6.971883706071708,
          7.441465060217638,
          7.911046414363568,
          8.380627768509498,
          8.850209122655428,
          9.319790476801359,
          9.789371830947289,
          10.258953185093219,
          10.72853453923915,
          11.19811513581007,
          11.667696489956,
          12.13727784410193,
          12.60685919824786,
          13.076440552393791,
          13.546021148964712,
          14.015602503110642,
          14.485183857256573,
          14.954765211402503,
          15.424346565548433,
          15.893927919694363
         ],
         "z": [
          [
           1.3429698944091797,
           1.1828138828277588,
           1.3384745121002197,
           1.6493215560913086,
           1.932584285736084,
           2.1376185417175293,
           2.274414300918579,
           2.3629908561706543,
           2.4193363189697266,
           2.454470157623291,
           2.4758405685424805,
           2.4884755611419678,
           2.4957237243652344,
           2.499753475189209,
           2.501922845840454,
           2.5030524730682373,
           2.503619909286499,
           2.5038936138153076,
           2.504019260406494,
           2.504073143005371,
           2.504094123840332,
           2.5041005611419678,
           2.504101276397705,
           2.5041000843048096,
           2.504098653793335,
           2.5040972232818604,
           2.504096269607544,
           2.5040957927703857,
           2.5040953159332275,
           2.5040953159332275
          ],
          [
           1.2801557779312134,
           0.9840788841247559,
           1.2517973184585571,
           1.6165788173675537,
           1.8908716440200806,
           2.0863418579101562,
           2.228210210800171,
           2.3297224044799805,
           2.3990538120269775,
           2.443795919418335,
           2.4711039066314697,
           2.486917018890381,
           2.4956226348876953,
           2.500178337097168,
           2.502436876296997,
           2.5034878253936768,
           2.5039374828338623,
           2.504105806350708,
           2.504152536392212,
           2.504152536392212,
           2.504138708114624,
           2.5041236877441406,
           2.5041112899780273,
           2.5041022300720215,
           2.5040957927703857,
           2.504091501235962,
           2.504088878631592,
           2.504087209701538,
           2.5040862560272217,
           2.5040862560272217
          ],
          [
           2.2451508045196533,
           2.297600507736206,
           2.1216535568237305,
           1.9729559421539307,
           1.9604778289794922,
           2.052910327911377,
           2.1840097904205322,
           2.301682472229004,
           2.3872599601745605,
           2.4420578479766846,
           2.4739627838134766,
           2.4910311698913574,
           2.4993956089019775,
           2.5030770301818848,
           2.504448652267456,
           2.504791736602783,
           2.5047404766082764,
           2.50458025932312,
           2.504422187805176,
           2.5042996406555176,
           2.50421404838562,
           2.504157543182373,
           2.5041210651397705,
           2.5040979385375977,
           2.5040829181671143,
           2.504072904586792,
           2.5040667057037354,
           2.5040628910064697,
           2.504061222076416,
           2.504061460494995
          ],
          [
           2.1394810676574707,
           2.149106979370117,
           1.9708571434020996,
           1.7994203567504883,
           1.7772103548049927,
           1.939218282699585,
           2.1421995162963867,
           2.3025176525115967,
           2.407047748565674,
           2.4663188457489014,
           2.495494842529297,
           2.5073835849761963,
           2.5106520652770996,
           2.5103073120117188,
           2.508857250213623,
           2.507371425628662,
           2.5061986446380615,
           2.505378007888794,
           2.504843235015869,
           2.5045104026794434,
           2.5043087005615234,
           2.504187822341919,
           2.5041143894195557,
           2.504068613052368,
           2.5040385723114014,
           2.5040180683135986,
           2.5040042400360107,
           2.5039961338043213,
           2.503992795944214,
           2.5039942264556885
          ],
          [
           0.9774641990661621,
           0.6524200439453125,
           0.8993246555328369,
           1.326606035232544,
           1.6803253889083862,
           1.9891269207000732,
           2.2416763305664062,
           2.412893772125244,
           2.506909132003784,
           2.544870138168335,
           2.5509321689605713,
           2.5433928966522217,
           2.532623529434204,
           2.5230884552001953,
           2.5160157680511475,
           2.5112531185150146,
           2.508239269256592,
           2.506413698196411,
           2.505342483520508,
           2.5047266483306885,
           2.5043752193450928,
           2.50417160987854,
           2.5040481090545654,
           2.50396728515625,
           2.5039095878601074,
           2.50386643409729,
           2.5038349628448486,
           2.5038154125213623,
           2.5038082599639893,
           2.5038137435913086
          ],
          [
           1.2674756050109863,
           1.0531644821166992,
           1.2966933250427246,
           1.6728272438049316,
           2.035940170288086,
           2.3379812240600586,
           2.5629515647888184,
           2.692903995513916,
           2.7262794971466064,
           2.69661283493042,
           2.645909070968628,
           2.598823308944702,
           2.563420534133911,
           2.5395662784576416,
           2.5245444774627686,
           2.515517473220825,
           2.510280132293701,
           2.5073249340057373,
           2.5056915283203125,
           2.5047976970672607,
           2.504302501678467,
           2.5040128231048584,
           2.50382399559021,
           2.5036823749542236,
           2.5035648345947266,
           2.503464937210083,
           2.5033862590789795,
           2.5033347606658936,
           2.503316640853882,
           2.5033340454101562
          ],
          [
           1.995460033416748,
           1.8868560791015625,
           2.1481575965881348,
           2.4051108360290527,
           2.6434926986694336,
           2.8606443405151367,
           3.03800106048584,
           3.1142141819000244,
           3.030585527420044,
           2.8809850215911865,
           2.748143196105957,
           2.652678966522217,
           2.590672492980957,
           2.5527713298797607,
           2.5305724143981934,
           2.518005847930908,
           2.5111005306243896,
           2.5074048042297363,
           2.505465269088745,
           2.504446268081665,
           2.5038816928863525,
           2.5035195350646973,
           2.5032312870025635,
           2.5029594898223877,
           2.502690315246582,
           2.5024352073669434,
           2.502220630645752,
           2.5020759105682373,
           2.5020246505737305,
           2.5020761489868164
          ],
          [
           2.7422854900360107,
           2.9820706844329834,
           3.036689281463623,
           3.158452272415161,
           3.2896299362182617,
           3.3644723892211914,
           3.3917317390441895,
           3.345224618911743,
           3.1638829708099365,
           2.950908660888672,
           2.7821545600891113,
           2.667405605316162,
           2.595527172088623,
           2.5529367923736572,
           2.528822898864746,
           2.5157487392425537,
           2.508972406387329,
           2.505620241165161,
           2.5040206909179688,
           2.5032365322113037,
           2.5027620792388916,
           2.5023369789123535,
           2.5018413066864014,
           2.5012400150299072,
           2.5005574226379395,
           2.4998621940612793,
           2.4992518424987793,
           2.4988303184509277,
           2.498677968978882,
           2.498828172683716
          ],
          [
           3.0754597187042236,
           3.31579852104187,
           3.5173096656799316,
           3.7272391319274902,
           3.843029737472534,
           3.7002739906311035,
           3.451638698577881,
           3.2270898818969727,
           3.028141736984253,
           2.855135440826416,
           2.7205793857574463,
           2.6270627975463867,
           2.5677573680877686,
           2.5330872535705566,
           2.5144689083099365,
           2.505463123321533,
           2.5017292499542236,
           2.500575304031372,
           2.500452995300293,
           2.5005314350128174,
           2.500394821166992,
           2.4998507499694824,
           2.4988319873809814,
           2.497361183166504,
           2.495551824569702,
           2.493619680404663,
           2.4918675422668457,
           2.4906280040740967,
           2.4901702404022217,
           2.4906046390533447
          ],
          [
           2.9155328273773193,
           3.0559816360473633,
           3.2048439979553223,
           3.3837523460388184,
           3.519763469696045,
           3.3317272663116455,
           3.1167192459106445,
           2.946401834487915,
           2.807793617248535,
           2.693513870239258,
           2.6047165393829346,
           2.542895793914795,
           2.5056700706481934,
           2.487426519393921,
           2.4816064834594727,
           2.482536554336548,
           2.486215353012085,
           2.4902687072753906,
           2.4935152530670166,
           2.495479106903076,
           2.4960203170776367,
           2.495116949081421,
           2.492786407470703,
           2.4891152381896973,
           2.4843592643737793,
           2.4790592193603516,
           2.4740755558013916,
           2.4704506397247314,
           2.4690797328948975,
           2.470339775085449
          ],
          [
           2.7149860858917236,
           2.736323833465576,
           2.6938323974609375,
           2.551555871963501,
           2.424274444580078,
           2.5432701110839844,
           2.656808376312256,
           2.66287899017334,
           2.6031696796417236,
           2.5226500034332275,
           2.452195644378662,
           2.40812611579895,
           2.392928123474121,
           2.3995168209075928,
           2.4176323413848877,
           2.4386894702911377,
           2.457533121109009,
           2.4720044136047363,
           2.4817581176757812,
           2.4872066974639893,
           2.4888577461242676,
           2.487009048461914,
           2.481712818145752,
           2.472954511642456,
           2.461026430130005,
           2.44701886177063,
           2.433183431625366,
           2.422713279724121,
           2.418642044067383,
           2.4223055839538574
          ],
          [
           2.647000312805176,
           2.680938720703125,
           2.7100937366485596,
           2.7390923500061035,
           2.7671666145324707,
           2.769181728363037,
           2.7360286712646484,
           2.646132230758667,
           2.5007033348083496,
           2.3389832973480225,
           2.214268207550049,
           2.160543203353882,
           2.1754298210144043,
           2.2317988872528076,
           2.3003735542297363,
           2.362414598464966,
           2.4103665351867676,
           2.4436209201812744,
           2.4644458293914795,
           2.4755072593688965,
           2.478729248046875,
           2.474943161010742,
           2.463958501815796,
           2.444978952407837,
           2.417501449584961,
           2.3828585147857666,
           2.3460800647735596,
           2.316481590270996,
           2.304509401321411,
           2.3151607513427734
          ],
          [
           2.6666369438171387,
           2.759821891784668,
           2.901886463165283,
           3.092440605163574,
           3.2524573802948,
           3.2466955184936523,
           3.1192755699157715,
           2.865485191345215,
           2.4788756370544434,
           2.0528998374938965,
           1.7483644485473633,
           1.6649513244628906,
           1.7637453079223633,
           1.93950355052948,
           2.112846851348877,
           2.249880790710449,
           2.345691680908203,
           2.4072048664093018,
           2.4435315132141113,
           2.4620041847229004,
           2.467085361480713,
           2.460359573364258,
           2.4408328533172607,
           2.4054572582244873,
           2.350421190261841,
           2.2743518352508545,
           2.1846110820770264,
           2.1045825481414795,
           2.069868564605713,
           2.1006271839141846
          ],
          [
           2.6842167377471924,
           2.800886631011963,
           2.9751906394958496,
           3.205652952194214,
           3.4569475650787354,
           3.6627540588378906,
           3.7095186710357666,
           3.39078950881958,
           2.5978212356567383,
           1.5920188426971436,
           0.886529803276062,
           0.8185762166976929,
           1.150343418121338,
           1.5563689470291138,
           1.892594814300537,
           2.1294655799865723,
           2.2817864418029785,
           2.3736345767974854,
           2.4254019260406494,
           2.450850486755371,
           2.4575579166412354,
           2.4479246139526367,
           2.419807195663452,
           2.3667726516723633,
           2.2787253856658936,
           2.145033836364746,
           1.965119481086731,
           1.7748332023620605,
           1.6782917976379395,
           1.7641358375549316
          ],
          [
           2.676929235458374,
           2.7923076152801514,
           2.970975637435913,
           3.2336537837982178,
           3.595898151397705,
           4.043088912963867,
           4.437723636627197,
           4.277320861816406,
           2.98293399810791,
           1.2802257537841797,
           0.11830806732177734,
           0.12872958183288574,
           0.7147305011749268,
           1.3206562995910645,
           1.7745493650436401,
           2.072589874267578,
           2.2548656463623047,
           2.3609039783477783,
           2.4191646575927734,
           2.447293996810913,
           2.4545557498931885,
           2.4438066482543945,
           2.412447929382324,
           2.3525216579437256,
           2.2506954669952393,
           2.0901572704315186,
           1.8597779273986816,
           1.5841623544692993,
           1.407644510269165,
           1.5666906833648682
          ],
          [
           2.6501097679138184,
           2.7483153343200684,
           2.903165817260742,
           3.1371707916259766,
           3.467212677001953,
           3.8708810806274414,
           4.194811820983887,
           4.017139911651611,
           2.980020046234131,
           1.5021576881408691,
           0.40836477279663086,
           0.4843568801879883,
           1.0192984342575073,
           1.525517463684082,
           1.8963428735733032,
           2.140636444091797,
           2.291766405105591,
           2.380756378173828,
           2.4301061630249023,
           2.454010248184204,
           2.4600417613983154,
           2.450620651245117,
           2.423859119415283,
           2.3740060329437256,
           2.292344570159912,
           2.170624256134033,
           2.0113346576690674,
           1.8498380184173584,
           1.771635890007019,
           1.8410457372665405
          ],
          [
           2.6124963760375977,
           2.682417154312134,
           2.7891950607299805,
           2.9423725605010986,
           3.140150547027588,
           3.3482918739318848,
           3.4754743576049805,
           3.3966870307922363,
           3.0881857872009277,
           2.7186408042907715,
           2.4157800674438477,
           2.138273000717163,
           2.0315282344818115,
           2.087228775024414,
           2.1975111961364746,
           2.299882411956787,
           2.375476837158203,
           2.4248969554901123,
           2.454068183898926,
           2.4685261249542236,
           2.4717142581939697,
           2.4647529125213623,
           2.4466607570648193,
           2.41487455368042,
           2.3665006160736084,
           2.301175832748413,
           2.2261269092559814,
           2.1609930992126465,
           2.13327693939209,
           2.157820701599121
          ],
          [
           2.5756428241729736,
           2.618366003036499,
           2.6803510189056396,
           2.7636990547180176,
           2.863537549972534,
           2.962589979171753,
           3.0315351486206055,
           3.0457890033721924,
           3.0157344341278076,
           2.993846893310547,
           2.967288017272949,
           2.7330760955810547,
           2.5489253997802734,
           2.4643847942352295,
           2.4413225650787354,
           2.446143627166748,
           2.4593002796173096,
           2.471872329711914,
           2.4807097911834717,
           2.4850900173187256,
           2.484919786453247,
           2.4799325466156006,
           2.4694626331329346,
           2.452650785446167,
           2.4291188716888428,
           2.400156259536743,
           2.3700366020202637,
           2.3461999893188477,
           2.3366498947143555,
           2.3451273441314697
          ],
          [
           2.5477092266082764,
           2.5720114707946777,
           2.6063218116760254,
           2.651808023452759,
           2.707521438598633,
           2.7693309783935547,
           2.8292465209960938,
           2.8726141452789307,
           2.866724729537964,
           2.757289409637451,
           2.6144027709960938,
           2.657196521759033,
           2.6809496879577637,
           2.6358718872070312,
           2.5808639526367188,
           2.5415549278259277,
           2.5190320014953613,
           2.507643699645996,
           2.502102851867676,
           2.4989001750946045,
           2.495941638946533,
           2.491964340209961,
           2.4861598014831543,
           2.4780731201171875,
           2.4677467346191406,
           2.4560017585754395,
           2.444627046585083,
           2.436126470565796,
           2.4328343868255615,
           2.4357638359069824
          ],
          [
           2.5299720764160156,
           2.5441951751708984,
           2.5648608207702637,
           2.5942375659942627,
           2.635535717010498,
           2.693956136703491,
           2.778681993484497,
           2.9057748317718506,
           3.099374294281006,
           3.366586685180664,
           3.5368425846099854,
           3.3213491439819336,
           3.0233101844787598,
           2.8112571239471436,
           2.6784965991973877,
           2.599360227584839,
           2.5540406703948975,
           2.5289831161499023,
           2.5154097080230713,
           2.5079262256622314,
           2.5033512115478516,
           2.4998531341552734,
           2.49640154838562,
           2.492480516433716,
           2.487982988357544,
           2.4831998348236084,
           2.4787838459014893,
           2.4755911827087402,
           2.474374294281006,
           2.4754467010498047
          ],
          [
           2.5196409225463867,
           2.5285792350769043,
           2.542337417602539,
           2.563567876815796,
           2.596588373184204,
           2.6483254432678223,
           2.7289817333221436,
           2.850037097930908,
           3.0128424167633057,
           3.1789560317993164,
           3.2504074573516846,
           3.1616339683532715,
           2.9828853607177734,
           2.812884569168091,
           2.689450263977051,
           2.6103854179382324,
           2.56303334236145,
           2.5358328819274902,
           2.5206298828125,
           2.5122323036193848,
           2.5075035095214844,
           2.504598379135132,
           2.5024430751800537,
           2.5004258155822754,
           2.49824857711792,
           2.4958906173706055,
           2.49360990524292,
           2.4918832778930664,
           2.491201400756836,
           2.491783380508423
          ],
          [
           2.5135631561279297,
           2.5192930698394775,
           2.528404951095581,
           2.5428550243377686,
           2.5655646324157715,
           2.600456953048706,
           2.651615858078003,
           2.7203407287597656,
           2.799197196960449,
           2.866344690322876,
           2.8915936946868896,
           2.8601269721984863,
           2.7881081104278564,
           2.7063028812408447,
           2.636488199234009,
           2.585766077041626,
           2.5524158477783203,
           2.531913995742798,
           2.5199434757232666,
           2.5132880210876465,
           2.5098040103912354,
           2.508122205734253,
           2.5073399543762207,
           2.506784200668335,
           2.5058987140655518,
           2.504305601119995,
           2.502056837081909,
           2.4998769760131836,
           2.4989004135131836,
           2.499735116958618
          ],
          [
           2.509779214859009,
           2.513273000717163,
           2.5188076496124268,
           2.527428150177002,
           2.5404844284057617,
           2.559391498565674,
           2.5849292278289795,
           2.6159353256225586,
           2.6478171348571777,
           2.672419786453247,
           2.6811234951019287,
           2.6702489852905273,
           2.64387845993042,
           2.6108720302581787,
           2.579434633255005,
           2.554093837738037,
           2.535907030105591,
           2.524000406265259,
           2.516908645629883,
           2.5132908821105957,
           2.512162208557129,
           2.5128512382507324,
           2.514817237854004,
           2.5173959732055664,
           2.5195624828338623,
           2.5199477672576904,
           2.5175528526306152,
           2.513345718383789,
           2.510972738265991,
           2.5130538940429688
          ],
          [
           2.507366895675659,
           2.509328603744507,
           2.512354850769043,
           2.51689076423645,
           2.5234181880950928,
           2.5322914123535156,
           2.543435573577881,
           2.5559616088867188,
           2.5679311752319336,
           2.5766422748565674,
           2.579627752304077,
           2.5759172439575195,
           2.5666165351867676,
           2.5542922019958496,
           2.5417041778564453,
           2.5308258533477783,
           2.522592306137085,
           2.51717472076416,
           2.5144031047821045,
           2.514106512069702,
           2.516298770904541,
           2.521209478378296,
           2.5291364192962646,
           2.540043830871582,
           2.5528371334075928,
           2.564493417739868,
           2.5700883865356445,
           2.5663535594940186,
           2.560851812362671,
           2.565837860107422
          ],
          [
           2.5058772563934326,
           2.506889820098877,
           2.508396863937378,
           2.510558605194092,
           2.513514757156372,
           2.517313003540039,
           2.521810293197632,
           2.526583671569824,
           2.5309205055236816,
           2.5339624881744385,
           2.5349950790405273,
           2.5337560176849365,
           2.5305678844451904,
           2.5262036323547363,
           2.52158522605896,
           2.5175118446350098,
           2.514549732208252,
           2.5130934715270996,
           2.513528823852539,
           2.5164363384246826,
           2.522796392440796,
           2.534158229827881,
           2.5526840686798096,
           2.5808351039886475,
           2.6202406883239746,
           2.669156312942505,
           2.718787908554077,
           2.752880573272705,
           2.7619681358337402,
           2.754211902618408
          ],
          [
           2.5050132274627686,
           2.5054991245269775,
           2.506195068359375,
           2.5071518421173096,
           2.508401870727539,
           2.5099332332611084,
           2.5116636753082275,
           2.513423442840576,
           2.514967441558838,
           2.5160276889801025,
           2.5163979530334473,
           2.5160112380981445,
           2.514976739883423,
           2.5135529041290283,
           2.512082815170288,
           2.510937452316284,
           2.510507345199585,
           2.511267900466919,
           2.513920307159424,
           2.519622325897217,
           2.530319929122925,
           2.5491983890533447,
           2.5812084674835205,
           2.6334502696990967,
           2.714717149734497,
           2.832427978515625,
           2.983041286468506,
           3.132127285003662,
           3.2026805877685547,
           3.140258312225342
          ],
          [
           2.5045454502105713,
           2.504765033721924,
           2.505068302154541,
           2.50546932220459,
           2.5059728622436523,
           2.506566286087036,
           2.5072128772735596,
           2.507849931716919,
           2.508396625518799,
           2.5087718963623047,
           2.508918523788452,
           2.508826732635498,
           2.5085458755493164,
           2.5081870555877686,
           2.507917881011963,
           2.5079712867736816,
           2.508683443069458,
           2.5105841159820557,
           2.5145649909973145,
           2.522165298461914,
           2.5360283851623535,
           2.5605878829956055,
           2.603008270263672,
           2.6742327213287354,
           2.78950834274292,
           2.966557264328003,
           3.216634750366211,
           3.515209674835205,
           3.703850746154785,
           3.534374713897705
          ],
          [
           2.504307746887207,
           2.5044023990631104,
           2.504528760910034,
           2.504690170288086,
           2.5048863887786865,
           2.505110502243042,
           2.505347728729248,
           2.5055770874023438,
           2.505772829055786,
           2.5059123039245605,
           2.5059831142425537,
           2.5059916973114014,
           2.5059704780578613,
           2.505985975265503,
           2.506150960922241,
           2.506650924682617,
           2.507796287536621,
           2.510122776031494,
           2.5145668983459473,
           2.5227606296539307,
           2.5375020503997803,
           2.5634522438049316,
           2.6080384254455566,
           2.682269334793091,
           2.8003969192504883,
           2.9754481315612793,
           3.203505516052246,
           3.4263758659362793,
           3.5124094486236572,
           3.4378437995910645
          ],
          [
           2.5041933059692383,
           2.50423264503479,
           2.5042834281921387,
           2.5043466091156006,
           2.5044214725494385,
           2.504504680633545,
           2.504591464996338,
           2.5046749114990234,
           2.5047478675842285,
           2.504805564880371,
           2.5048487186431885,
           2.504887580871582,
           2.504948139190674,
           2.505079746246338,
           2.5053703784942627,
           2.5059752464294434,
           2.5071663856506348,
           2.509422540664673,
           2.5135817527770996,
           2.521090030670166,
           2.5343847274780273,
           2.5574374198913574,
           2.5963990688323975,
           2.6600661277770996,
           2.7593369483947754,
           2.903846025466919,
           3.0929365158081055,
           3.2982234954833984,
           3.423313617706299,
           3.310818910598755
          ],
          [
           2.504140615463257,
           2.5041565895080566,
           2.504176616668701,
           2.5042006969451904,
           2.5042288303375244,
           2.5042598247528076,
           2.5042917728424072,
           2.5043232440948486,
           2.5043528079986572,
           2.5043811798095703,
           2.5044116973876953,
           2.5044548511505127,
           2.504531145095825,
           2.50467848777771,
           2.5049662590026855,
           2.505516529083252,
           2.506544828414917,
           2.508427858352661,
           2.5118138790130615,
           2.5177958011627197,
           2.528165817260742,
           2.5457494258880615,
           2.574760675430298,
           2.6209654808044434,
           2.691141128540039,
           2.7906851768493652,
           2.9169697761535645,
           3.044262647628784,
           3.106870174407959,
           3.0513758659362793
          ]
         ],
         "type": "surface"
        },
        {
         "colorscale": [
          [
           0,
           "rgb(255, 198, 196)"
          ],
          [
           0.16666666666666666,
           "rgb(244, 163, 168)"
          ],
          [
           0.3333333333333333,
           "rgb(227, 129, 145)"
          ],
          [
           0.5,
           "rgb(204, 96, 125)"
          ],
          [
           0.6666666666666666,
           "rgb(173, 70, 108)"
          ],
          [
           0.8333333333333334,
           "rgb(139, 48, 88)"
          ],
          [
           1,
           "rgb(103, 32, 68)"
          ]
         ],
         "opacity": 0.2,
         "showscale": false,
         "x": [
          0.33928570710122585,
          0.5055418629199266,
          0.6717980187386274,
          0.8380541577935219,
          1.0043103471398354,
          1.1705665364861488,
          1.336822658777237,
          1.503078781068325,
          1.6693349033594131,
          1.8355910927057266,
          2.0018471479415894,
          2.168103337287903,
          2.3343595266342168,
          2.5006157159805302,
          2.6668719053268437,
          2.833128094673157,
          2.9993842840194707,
          3.165640473365784,
          3.3318966627120976,
          3.4981525838375096,
          3.664408773183823,
          3.8306649625301366,
          3.99692115187645,
          4.163177341222764,
          4.329433262348176,
          4.495689451694489,
          4.661945641040803,
          4.828201830387116,
          4.99445801973343,
          5.160714209079743
         ],
         "y": [
          2.276071443020234,
          2.745652702469288,
          3.215233961918342,
          3.684815174018958,
          4.154396528164888,
          4.623977882310818,
          5.093559047062996,
          5.563140211815174,
          6.032721376567352,
          6.502302730713282,
          6.971883706071708,
          7.441465060217638,
          7.911046414363568,
          8.380627768509498,
          8.850209122655428,
          9.319790476801359,
          9.789371830947289,
          10.258953185093219,
          10.72853453923915,
          11.19811513581007,
          11.667696489956,
          12.13727784410193,
          12.60685919824786,
          13.076440552393791,
          13.546021148964712,
          14.015602503110642,
          14.485183857256573,
          14.954765211402503,
          15.424346565548433,
          15.893927919694363
         ],
         "z": [
          [
           4.024639129638672,
           3.636535882949829,
           4.04392147064209,
           4.714792251586914,
           5.21428108215332,
           5.519768714904785,
           5.700735092163086,
           5.8096160888671875,
           5.875692367553711,
           5.9154205322265625,
           5.938843250274658,
           5.952337265014648,
           5.959924697875977,
           5.964081764221191,
           5.9662981033325195,
           5.967443943023682,
           5.968017101287842,
           5.968292713165283,
           5.968419075012207,
           5.968473434448242,
           5.968494415283203,
           5.968501091003418,
           5.968501567840576,
           5.968500137329102,
           5.968499183654785,
           5.968497276306152,
           5.968496322631836,
           5.968496322631836,
           5.9684953689575195,
           5.9684953689575195
          ],
          [
           3.2226662635803223,
           1.8741294145584106,
           3.2548365592956543,
           4.3931074142456055,
           5.006737232208252,
           5.356219291687012,
           5.5857133865356445,
           5.740818977355957,
           5.839587211608887,
           5.89841365814209,
           5.931741237640381,
           5.949928283691406,
           5.959521770477295,
           5.964399814605713,
           5.966773986816406,
           5.967865943908691,
           5.968329906463623,
           5.968503475189209,
           5.9685516357421875,
           5.968552589416504,
           5.968538761138916,
           5.968523979187012,
           5.968511581420898,
           5.968502521514893,
           5.968496322631836,
           5.968491554260254,
           5.968489170074463,
           5.968487739562988,
           5.968486785888672,
           5.968486785888672
          ],
          [
           4.237648010253906,
           3.571380615234375,
           4.0954461097717285,
           4.456703186035156,
           4.625288009643555,
           4.945845603942871,
           5.3347578048706055,
           5.623154640197754,
           5.793424606323242,
           5.884171962738037,
           5.9300689697265625,
           5.952362060546875,
           5.9626569747924805,
           5.967054843902588,
           5.968693733215332,
           5.969135761260986,
           5.969120979309082,
           5.968973636627197,
           5.968820095062256,
           5.9686994552612305,
           5.968614101409912,
           5.968557357788086,
           5.9685211181640625,
           5.968498229980469,
           5.968482971191406,
           5.968473434448242,
           5.968466758728027,
           5.968462944030762,
           5.968461513519287,
           5.968461990356445
          ],
          [
           4.370319366455078,
           3.8819680213928223,
           3.9538419246673584,
           3.594043731689453,
           2.925507068634033,
           4.015299320220947,
           4.99381685256958,
           5.518282890319824,
           5.773183822631836,
           5.891414642333984,
           5.943805694580078,
           5.965152740478516,
           5.9723663330078125,
           5.973656177520752,
           5.972862243652344,
           5.9716291427612305,
           5.970549583435059,
           5.969761848449707,
           5.96923828125,
           5.96890926361084,
           5.968708515167236,
           5.968587875366211,
           5.968514442443848,
           5.96846866607666,
           5.968439102172852,
           5.968418121337891,
           5.968404769897461,
           5.968396186828613,
           5.968393325805664,
           5.9683942794799805
          ],
          [
           3.2927310466766357,
           2.5477232933044434,
           3.039921522140503,
           3.5564141273498535,
           3.821809768676758,
           4.4901838302612305,
           5.181811332702637,
           5.606490612030029,
           5.8269758224487305,
           5.9329833984375,
           5.977683067321777,
           5.9908342361450195,
           5.990020751953125,
           5.984801769256592,
           5.97944450378418,
           5.975318908691406,
           5.972528457641602,
           5.970778465270996,
           5.969731330871582,
           5.969123840332031,
           5.968774318695068,
           5.968571662902832,
           5.968448162078857,
           5.968367576599121,
           5.9683098793029785,
           5.968266487121582,
           5.968235015869141,
           5.968215465545654,
           5.968208312988281,
           5.96821403503418
          ],
          [
           3.174802541732788,
           1.998070478439331,
           3.234443187713623,
           4.3158416748046875,
           4.934450626373291,
           5.303231239318848,
           5.522244453430176,
           5.667980194091797,
           5.817415237426758,
           5.943184852600098,
           6.006154537200928,
           6.01972770690918,
           6.011288642883301,
           5.998096942901611,
           5.986964225769043,
           5.979274749755859,
           5.974477767944336,
           5.971663475036621,
           5.970073223114014,
           5.9691925048828125,
           5.968701362609863,
           5.968412399291992,
           5.968224048614502,
           5.968082427978516,
           5.9679646492004395,
           5.967864990234375,
           5.967785835266113,
           5.967734336853027,
           5.967716217041016,
           5.967733383178711
          ],
          [
           3.8988285064697266,
           2.8474507331848145,
           4.107453346252441,
           5.1184258460998535,
           5.599013328552246,
           5.669979572296143,
           5.331475257873535,
           4.958482265472412,
           5.381235122680664,
           5.821233749389648,
           5.999727249145508,
           6.037901878356934,
           6.027406692504883,
           6.0079545974731445,
           5.992012977600098,
           5.981482982635498,
           5.975219249725342,
           5.9717206954956055,
           5.9698405265808105,
           5.968839168548584,
           5.968279838562012,
           5.967918395996094,
           5.967630386352539,
           5.967358112335205,
           5.967088222503662,
           5.966832160949707,
           5.966616630554199,
           5.966470718383789,
           5.966419219970703,
           5.966471195220947
          ],
          [
           4.902435302734375,
           4.461796760559082,
           5.168326377868652,
           5.841909408569336,
           6.121501922607422,
           6.0337066650390625,
           5.508726119995117,
           4.9168853759765625,
           5.396780967712402,
           5.85614013671875,
           6.023322582244873,
           6.049525260925293,
           6.031335830688477,
           6.007839202880859,
           5.990174293518066,
           5.979194641113281,
           5.973079681396484,
           5.969931602478027,
           5.968393802642822,
           5.967628479003906,
           5.967158317565918,
           5.966733932495117,
           5.966236114501953,
           5.965630531311035,
           5.96494197845459,
           5.964239120483398,
           5.963621139526367,
           5.963193893432617,
           5.963039398193359,
           5.963191509246826
          ],
          [
           6.0329413414001465,
           6.078381538391113,
           6.157188892364502,
           6.121265411376953,
           6.0245585441589355,
           6.124565124511719,
           6.141850471496582,
           6.060907363891602,
           6.043202877044678,
           6.066997528076172,
           6.067174911499023,
           6.043002128601074,
           6.0138468742370605,
           5.990954399108887,
           5.976622581481934,
           5.969107151031494,
           5.965877532958984,
           5.96489143371582,
           5.964824676513672,
           5.9649200439453125,
           5.964785575866699,
           5.964236259460449,
           5.9632039070129395,
           5.961708068847656,
           5.959860801696777,
           5.957878112792969,
           5.956071853637695,
           5.954789161682129,
           5.9543137550354,
           5.954763412475586
          ],
          [
           6.188886642456055,
           6.161397933959961,
           5.936886787414551,
           5.288089752197266,
           4.39887809753418,
           5.297402381896973,
           5.887293815612793,
           6.079184532165527,
           6.100175857543945,
           6.066967964172363,
           6.023434638977051,
           5.985850811004639,
           5.960506439208984,
           5.947689056396484,
           5.944250583648682,
           5.946206092834473,
           5.950318336486816,
           5.954550743103027,
           5.957867622375488,
           5.959853172302246,
           5.960390090942383,
           5.959456443786621,
           5.957055568695068,
           5.953248977661133,
           5.948266506195068,
           5.942644119262695,
           5.937289714813232,
           5.933353424072266,
           5.931853771209717,
           5.933226585388184
          ],
          [
           6.064116477966309,
           5.927071571350098,
           5.524332523345947,
           4.6740193367004395,
           3.8941493034362793,
           4.711918830871582,
           5.513609886169434,
           5.863787651062012,
           5.951954364776611,
           5.9308319091796875,
           5.8848066329956055,
           5.852717399597168,
           5.845058441162109,
           5.856873512268066,
           5.8783745765686035,
           5.9013671875,
           5.9211883544921875,
           5.936102390289307,
           5.9460344314575195,
           5.951535224914551,
           5.953159332275391,
           5.9511871337890625,
           5.945585250854492,
           5.936179161071777,
           5.9230499267578125,
           5.90715217590332,
           5.890937328338623,
           5.878325462341309,
           5.873335838317871,
           5.877808094024658
          ],
          [
           6.010752201080322,
           5.888538360595703,
           5.57303524017334,
           5.001253128051758,
           4.597042083740234,
           5.067117691040039,
           5.613194465637207,
           5.83894681930542,
           5.823644638061523,
           5.704117774963379,
           5.5941619873046875,
           5.556876182556152,
           5.593646049499512,
           5.669994831085205,
           5.751970291137695,
           5.8212456703186035,
           5.8725481033325195,
           5.907188892364502,
           5.928528785705566,
           5.939728736877441,
           5.942861557006836,
           5.9386725425720215,
           5.926604270935059,
           5.905058860778809,
           5.872186183929443,
           5.82786750793457,
           5.777268409729004,
           5.733856201171875,
           5.71558952331543,
           5.731797695159912
          ],
          [
           6.040464401245117,
           5.980786323547363,
           5.755123615264893,
           5.179681777954102,
           4.548841953277588,
           5.346352577209473,
           5.910958290100098,
           5.951282978057861,
           5.641725540161133,
           5.188082695007324,
           4.8599090576171875,
           4.839731216430664,
           5.050135612487793,
           5.315613746643066,
           5.539345741271973,
           5.699538230895996,
           5.804742813110352,
           5.869750022888184,
           5.9072723388671875,
           5.9260454177856445,
           5.930912017822266,
           5.923192977905273,
           5.900752544403076,
           5.857637405395508,
           5.783910751342773,
           5.668363571166992,
           5.510926246643066,
           5.350109100341797,
           5.273943901062012,
           5.341453552246094
          ],
          [
           6.093341827392578,
           6.128334999084473,
           6.139986991882324,
           6.132076263427734,
           6.200736999511719,
           6.384235382080078,
           6.428303241729736,
           6.089722633361816,
           5.262250900268555,
           3.99070405960083,
           3.0086045265197754,
           3.312130928039551,
           4.1352081298828125,
           4.819718837738037,
           5.280135154724121,
           5.566312313079834,
           5.736773490905762,
           5.834920883178711,
           5.888740539550781,
           5.914690971374512,
           5.921038627624512,
           5.909669876098633,
           5.876106262207031,
           5.807234764099121,
           5.676018714904785,
           5.4345173835754395,
           5.019793510437012,
           4.440635681152344,
           4.070383071899414,
           4.402158737182617
          ],
          [
           6.118500709533691,
           6.205290794372559,
           6.33107852935791,
           6.504605293273926,
           6.706361770629883,
           6.808907508850098,
           6.47838020324707,
           5.562811374664307,
           4.810107231140137,
           3.0316853523254395,
           1.21620774269104,
           2.119990348815918,
           3.512676239013672,
           4.514939785003662,
           5.13742733001709,
           5.500995635986328,
           5.7070746421813965,
           5.821303367614746,
           5.882220268249512,
           5.911017417907715,
           5.917889595031738,
           5.905106544494629,
           5.8672003746032715,
           5.787641525268555,
           5.62992000579834,
           5.319879531860352,
           4.720536231994629,
           3.6362147331237793,
           2.372255563735962,
           3.5437381267547607
          ],
          [
           6.1064043045043945,
           6.194136619567871,
           6.325676918029785,
           6.505600929260254,
           6.706992149353027,
           6.823531627655029,
           6.638738632202148,
           6.053707122802734,
           5.1018242835998535,
           3.2897825241088867,
           1.357409954071045,
           2.458132266998291,
           3.8129167556762695,
           4.714699745178223,
           5.255651473999023,
           5.567217826843262,
           5.743194580078125,
           5.840860366821289,
           5.893069267272949,
           5.91774845123291,
           5.923545837402344,
           5.912564277648926,
           5.880877494812012,
           5.816900253295898,
           5.69755744934082,
           5.484706401824951,
           5.136983871459961,
           4.689227104187012,
           4.429080486297607,
           4.6612138748168945
          ],
          [
           6.073931694030762,
           6.139512062072754,
           6.235673904418945,
           6.363700866699219,
           6.506869316101074,
           6.614236831665039,
           6.5959367752075195,
           6.344202995300293,
           5.754799842834473,
           4.7960052490234375,
           3.9597244262695312,
           4.271000862121582,
           4.857125282287598,
           5.284521102905273,
           5.559026718139648,
           5.7270073890686035,
           5.827010154724121,
           5.885015487670898,
           5.917051792144775,
           5.9323530197143555,
           5.935538291931152,
           5.927789688110352,
           5.907289505004883,
           5.869218826293945,
           5.80610466003418,
           5.710781097412109,
           5.586545944213867,
           5.465426445007324,
           5.409945011138916,
           5.459074974060059
          ],
          [
           6.038944244384766,
           6.079987525939941,
           6.137921333312988,
           6.212065696716309,
           6.292531967163086,
           6.35325813293457,
           6.34576416015625,
           6.1932053565979,
           5.777003288269043,
           4.922518253326416,
           3.906759023666382,
           4.692808151245117,
           5.346604347229004,
           5.6583638191223145,
           5.8030266761779785,
           5.873642444610596,
           5.911036968231201,
           5.932082653045654,
           5.9437479972839355,
           5.949004650115967,
           5.948997497558594,
           5.943758964538574,
           5.932462215423584,
           5.913700103759766,
           5.886176109313965,
           5.850274085998535,
           5.810548782348633,
           5.7773661613464355,
           5.7636260986328125,
           5.775800704956055
          ],
          [
           6.011699676513672,
           6.035350322723389,
           6.068022727966309,
           6.10943603515625,
           6.154970169067383,
           6.1908440589904785,
           6.183866500854492,
           6.058533668518066,
           5.6565351486206055,
           4.748032093048096,
           3.8166308403015137,
           4.6712141036987305,
           5.486510753631592,
           5.833272933959961,
           5.944875717163086,
           5.97033166885376,
           5.971356391906738,
           5.968094825744629,
           5.965240955352783,
           5.962883949279785,
           5.96014928817749,
           5.956141948699951,
           5.95011043548584,
           5.9415202140808105,
           5.930281639099121,
           5.917145729064941,
           5.9040679931640625,
           5.894067287445068,
           5.890139579772949,
           5.89362907409668
          ],
          [
           5.994198799133301,
           6.008109092712402,
           6.027891159057617,
           6.054743766784668,
           6.088808059692383,
           6.126738548278809,
           6.155276298522949,
           6.136651515960693,
           5.9828596115112305,
           5.540595531463623,
           5.0169267654418945,
           5.515480995178223,
           5.91827392578125,
           6.047767162322998,
           6.058027267456055,
           6.033851623535156,
           6.008352279663086,
           5.990095138549805,
           5.978761672973633,
           5.971983909606934,
           5.967600345611572,
           5.964095115661621,
           5.960504531860352,
           5.956281661987305,
           5.951265811920166,
           5.945733070373535,
           5.9404449462890625,
           5.936511993408203,
           5.934988021850586,
           5.936330795288086
          ],
          [
           5.983954906463623,
           5.992720127105713,
           6.005959510803223,
           6.025654315948486,
           6.054242134094238,
           6.0937323570251465,
           6.142753601074219,
           6.190193176269531,
           6.2092366218566895,
           6.176552772521973,
           6.139615058898926,
           6.1634674072265625,
           6.183355331420898,
           6.155441761016846,
           6.104404449462891,
           6.05635404586792,
           6.020963191986084,
           5.9980573654174805,
           5.984311580657959,
           5.976367950439453,
           5.97171688079834,
           5.968667984008789,
           5.966071128845215,
           5.963074684143066,
           5.959019660949707,
           5.953610420227051,
           5.9473724365234375,
           5.941997528076172,
           5.939730167388916,
           5.941709518432617
          ],
          [
           5.9779205322265625,
           5.983562469482422,
           5.992417335510254,
           6.006137847900391,
           6.026875972747803,
           6.0568084716796875,
           6.09668493270874,
           6.143263816833496,
           6.187430381774902,
           6.2172746658325195,
           6.225710868835449,
           6.211757659912109,
           6.177211761474609,
           6.129873275756836,
           6.081925392150879,
           6.042298316955566,
           6.013808250427246,
           5.995225429534912,
           5.983942031860352,
           5.977466106414795,
           5.9738664627075195,
           5.971654415130615,
           5.969411849975586,
           5.9652791023254395,
           5.956573486328125,
           5.940323829650879,
           5.916165351867676,
           5.891185760498047,
           5.879558086395264,
           5.889803886413574
          ],
          [
           5.974160671234131,
           5.977618217468262,
           5.9830522537231445,
           5.9914093017578125,
           6.003818511962891,
           6.021273136138916,
           6.043923377990723,
           6.070056915283203,
           6.095418930053711,
           6.113921165466309,
           6.120097637176514,
           6.111858367919922,
           6.091631889343262,
           6.065125465393066,
           6.038514614105225,
           6.016021728515625,
           5.999258995056152,
           5.987974166870117,
           5.981098651885986,
           5.977445602416992,
           5.97593879699707,
           5.975393295288086,
           5.973765850067139,
           5.966553688049316,
           5.944165229797363,
           5.890000343322754,
           5.787818908691406,
           5.655484199523926,
           5.5835676193237305,
           5.6474409103393555
          ],
          [
           5.971760272979736,
           5.973709583282471,
           5.9767045974731445,
           5.981164932250977,
           5.98752498626709,
           5.996060848236084,
           6.006608963012695,
           6.018241882324219,
           6.029140472412109,
           6.036931991577148,
           6.039554595947266,
           6.0362229347229,
           6.027849197387695,
           6.016594886779785,
           6.004893779754639,
           5.994603157043457,
           5.986696720123291,
           5.981425762176514,
           5.978667259216309,
           5.978201389312744,
           5.979763984680176,
           5.982669353485107,
           5.984496116638184,
           5.977601051330566,
           5.941094875335693,
           5.825674057006836,
           5.537283420562744,
           4.984835147857666,
           4.516782760620117,
           4.941105842590332
          ],
          [
           5.970275402069092,
           5.97128438949585,
           5.972783088684082,
           5.974926948547363,
           5.977846622467041,
           5.981578350067139,
           5.985968589782715,
           5.990595817565918,
           5.994770050048828,
           5.997681617736816,
           5.998663902282715,
           5.997476577758789,
           5.994421005249023,
           5.9902191162109375,
           5.985745429992676,
           5.981776237487793,
           5.9788737297058105,
           5.977431297302246,
           5.977811336517334,
           5.980487823486328,
           5.986087322235107,
           5.9950690269470215,
           6.006411552429199,
           6.013754367828369,
           5.995896339416504,
           5.89720344543457,
           5.598356246948242,
           4.925872802734375,
           4.195273399353027,
           4.866375923156738
          ],
          [
           5.969412803649902,
           5.969898223876953,
           5.970592021942139,
           5.971545219421387,
           5.972787857055664,
           5.974308013916016,
           5.976020812988281,
           5.977758407592773,
           5.979279041290283,
           5.980320930480957,
           5.980684757232666,
           5.980304718017578,
           5.979288578033447,
           5.977888107299805,
           5.976439476013184,
           5.975309371948242,
           5.974884033203125,
           5.975627899169922,
           5.978205680847168,
           5.9836578369140625,
           5.993561744689941,
           6.010013580322266,
           6.034893989562988,
           6.067255020141602,
           6.09681510925293,
           6.0927629470825195,
           5.998428821563721,
           5.785114288330078,
           5.629627227783203,
           5.769224166870117
          ],
          [
           5.968945503234863,
           5.969164848327637,
           5.969468116760254,
           5.969868183135986,
           5.970370292663574,
           5.970962047576904,
           5.971606254577637,
           5.9722394943237305,
           5.972783088684082,
           5.973155975341797,
           5.973301887512207,
           5.973211288452148,
           5.972932815551758,
           5.972577095031738,
           5.9723100662231445,
           5.97236442565918,
           5.973071098327637,
           5.974948406219482,
           5.9788498878479,
           5.986190319061279,
           5.99923038482666,
           6.021256923675537,
           6.05615234375,
           6.1059393882751465,
           6.163198947906494,
           6.192726135253906,
           6.09638786315918,
           5.683730125427246,
           5.097784519195557,
           5.640640735626221
          ],
          [
           5.968708038330078,
           5.968802452087402,
           5.968928813934326,
           5.969090461730957,
           5.96928596496582,
           5.969510078430176,
           5.9697465896606445,
           5.969975471496582,
           5.970170974731445,
           5.970310211181641,
           5.970380783081055,
           5.970389366149902,
           5.970368385314941,
           5.97038459777832,
           5.970549583435059,
           5.971047401428223,
           5.972186088562012,
           5.974488735198975,
           5.978853225708008,
           5.986785411834717,
           6.000688076019287,
           6.024020195007324,
           6.0606913566589355,
           6.111940860748291,
           6.166688919067383,
           6.178069591522217,
           6.0181074142456055,
           5.427609920501709,
           4.457132816314697,
           5.36515998840332
          ],
          [
           5.968593597412109,
           5.968632698059082,
           5.96868371963501,
           5.968747138977051,
           5.9688215255737305,
           5.968904495239258,
           5.968991279602051,
           5.9690752029418945,
           5.969147682189941,
           5.969205856323242,
           5.9692487716674805,
           5.969287395477295,
           5.969347953796387,
           5.969479560852051,
           5.969769477844238,
           5.970373153686523,
           5.9715576171875,
           5.97379207611084,
           5.977879524230957,
           5.985150337219238,
           5.997679710388184,
           6.018326759338379,
           6.049962997436523,
           6.092179298400879,
           6.13169002532959,
           6.119802474975586,
           5.930603981018066,
           5.316852569580078,
           4.307944297790527,
           5.253453731536865
          ],
          [
           5.968541145324707,
           5.968556880950928,
           5.968576908111572,
           5.968601226806641,
           5.968628883361816,
           5.968660354614258,
           5.968691825866699,
           5.968723297119141,
           5.968752861022949,
           5.968781471252441,
           5.968811988830566,
           5.968854904174805,
           5.968931198120117,
           5.969078540802002,
           5.969366073608398,
           5.969914436340332,
           5.970938205718994,
           5.972804546356201,
           5.97613525390625,
           5.981936454772949,
           5.991732597351074,
           6.007535934448242,
           6.031214714050293,
           6.062135696411133,
           6.090997219085693,
           6.087707996368408,
           5.989705562591553,
           5.744806289672852,
           5.54655647277832,
           5.725381851196289
          ]
         ],
         "type": "surface"
        },
        {
         "colorscale": [
          [
           0,
           "rgb(255, 198, 196)"
          ],
          [
           0.16666666666666666,
           "rgb(244, 163, 168)"
          ],
          [
           0.3333333333333333,
           "rgb(227, 129, 145)"
          ],
          [
           0.5,
           "rgb(204, 96, 125)"
          ],
          [
           0.6666666666666666,
           "rgb(173, 70, 108)"
          ],
          [
           0.8333333333333334,
           "rgb(139, 48, 88)"
          ],
          [
           1,
           "rgb(103, 32, 68)"
          ]
         ],
         "opacity": 0.2,
         "showscale": false,
         "x": [
          0.33928570710122585,
          0.5055418629199266,
          0.6717980187386274,
          0.8380541577935219,
          1.0043103471398354,
          1.1705665364861488,
          1.336822658777237,
          1.503078781068325,
          1.6693349033594131,
          1.8355910927057266,
          2.0018471479415894,
          2.168103337287903,
          2.3343595266342168,
          2.5006157159805302,
          2.6668719053268437,
          2.833128094673157,
          2.9993842840194707,
          3.165640473365784,
          3.3318966627120976,
          3.4981525838375096,
          3.664408773183823,
          3.8306649625301366,
          3.99692115187645,
          4.163177341222764,
          4.329433262348176,
          4.495689451694489,
          4.661945641040803,
          4.828201830387116,
          4.99445801973343,
          5.160714209079743
         ],
         "y": [
          2.276071443020234,
          2.745652702469288,
          3.215233961918342,
          3.684815174018958,
          4.154396528164888,
          4.623977882310818,
          5.093559047062996,
          5.563140211815174,
          6.032721376567352,
          6.502302730713282,
          6.971883706071708,
          7.441465060217638,
          7.911046414363568,
          8.380627768509498,
          8.850209122655428,
          9.319790476801359,
          9.789371830947289,
          10.258953185093219,
          10.72853453923915,
          11.19811513581007,
          11.667696489956,
          12.13727784410193,
          12.60685919824786,
          13.076440552393791,
          13.546021148964712,
          14.015602503110642,
          14.485183857256573,
          14.954765211402503,
          15.424346565548433,
          15.893927919694363
         ],
         "z": [
          [
           -1.3386991024017334,
           -1.2709081172943115,
           -1.3669724464416504,
           -1.4161491394042969,
           -1.3491127490997314,
           -1.2445318698883057,
           -1.1519064903259277,
           -1.083634376525879,
           -1.037019968032837,
           -1.0064802169799805,
           -0.9871621131896973,
           -0.9753861427307129,
           -0.9684772491455078,
           -0.9645750522613525,
           -0.9624521732330322,
           -0.961338996887207,
           -0.9607772827148438,
           -0.960505485534668,
           -0.9603805541992188,
           -0.9603269100189209,
           -0.9603061676025391,
           -0.9602997303009033,
           -0.960299015045166,
           -0.9603002071380615,
           -0.9603016376495361,
           -0.9603030681610107,
           -0.9603040218353271,
           -0.9603044986724854,
           -0.9603049755096436,
           -0.9603049755096436
          ],
          [
           -0.662354588508606,
           0.09402835369110107,
           -0.7512420415878296,
           -1.159949541091919,
           -1.2249938249588013,
           -1.1835358142852783,
           -1.1292927265167236,
           -1.0813744068145752,
           -1.0414798259735107,
           -1.0108215808868408,
           -0.9895334243774414,
           -0.9760940074920654,
           -0.9682765007019043,
           -0.964043140411377,
           -0.961899995803833,
           -0.9608900547027588,
           -0.9604549407958984,
           -0.960291862487793,
           -0.9602468013763428,
           -0.9602475166320801,
           -0.960261344909668,
           -0.9602766036987305,
           -0.9602890014648438,
           -0.9602980613708496,
           -0.9603044986724854,
           -0.9603087902069092,
           -0.9603114128112793,
           -0.960313081741333,
           -0.9603140354156494,
           -0.9603140354156494
          ],
          [
           0.25265371799468994,
           1.0238202810287476,
           0.14786112308502197,
           -0.5107913017272949,
           -0.7043321132659912,
           -0.8400249481201172,
           -0.9667379856109619,
           -1.019789457321167,
           -1.018904447555542,
           -1.000056266784668,
           -0.9821431636810303,
           -0.970299482345581,
           -0.9638655185699463,
           -0.9609007835388184,
           -0.9597961902618408,
           -0.9595522880554199,
           -0.9596397876739502,
           -0.959813117980957,
           -0.9599757194519043,
           -0.9600999355316162,
           -0.9601860046386719,
           -0.960242509841919,
           -0.9602792263031006,
           -0.9603023529052734,
           -0.9603173732757568,
           -0.9603273868560791,
           -0.9603335857391357,
           -0.9603374004364014,
           -0.9603390693664551,
           -0.960338830947876
          ],
          [
           -0.09135699272155762,
           0.41624605655670166,
           -0.01212763786315918,
           0.0047969818115234375,
           0.6289135217666626,
           -0.13686275482177734,
           -0.7094178199768066,
           -0.9132475852966309,
           -0.9590885639190674,
           -0.9587767124176025,
           -0.9528160095214844,
           -0.950385332107544,
           -0.9510624408721924,
           -0.9530415534973145,
           -0.9551477432250977,
           -0.9568860530853271,
           -0.9581520557403564,
           -0.95900559425354,
           -0.9595515727996826,
           -0.959888219833374,
           -0.9600911140441895,
           -0.960212230682373,
           -0.9602859020233154,
           -0.9603316783905029,
           -0.9603617191314697,
           -0.9603822231292725,
           -0.9603960514068604,
           -0.9604041576385498,
           -0.9604074954986572,
           -0.9604060649871826
          ],
          [
           -1.3378026485443115,
           -1.2428830862045288,
           -1.241272211074829,
           -0.9032020568847656,
           -0.4611588716506958,
           -0.5119297504425049,
           -0.6984584331512451,
           -0.780703067779541,
           -0.813157320022583,
           -0.8432431221008301,
           -0.8758189678192139,
           -0.9040486812591553,
           -0.9247734546661377,
           -0.9386248588562012,
           -0.9474132061004639,
           -0.952812671661377,
           -0.9560501575469971,
           -0.9579510688781738,
           -0.9590466022491455,
           -0.9596703052520752,
           -0.9600238800048828,
           -0.960228443145752,
           -0.9603519439697266,
           -0.9604330062866211,
           -0.9604907035827637,
           -0.960533618927002,
           -0.9605650901794434,
           -0.9605846405029297,
           -0.9605917930603027,
           -0.9605863094329834
          ],
          [
           -0.6398513317108154,
           0.10825842618942261,
           -0.6410565376281738,
           -0.9701874256134033,
           -0.8625702857971191,
           -0.6272690296173096,
           -0.39634132385253906,
           -0.28217244148254395,
           -0.3648560047149658,
           -0.5499594211578369,
           -0.7143363952636719,
           -0.8220808506011963,
           -0.8844478130340576,
           -0.9189643859863281,
           -0.9378752708435059,
           -0.9482400417327881,
           -0.9539177417755127,
           -0.9570133686065674,
           -0.9586901664733887,
           -0.9595968723297119,
           -0.9600961208343506,
           -0.9603869915008545,
           -0.960576057434082,
           -0.9607176780700684,
           -0.9608349800109863,
           -0.9609348773956299,
           -0.9610133171081543,
           -0.9610648155212402,
           -0.961082935333252,
           -0.9610655307769775
          ],
          [
           0.09209144115447998,
           0.9262613654136658,
           0.18886184692382812,
           -0.30820417404174805,
           -0.312028169631958,
           0.05130910873413086,
           0.7445271015167236,
           1.2699460983276367,
           0.6799356937408447,
           -0.05926394462585449,
           -0.5034406185150146,
           -0.7325439453125,
           -0.8460619449615479,
           -0.9024121761322021,
           -0.93086838722229,
           -0.9454712867736816,
           -0.9530181884765625,
           -0.9569110870361328,
           -0.9589099884033203,
           -0.9599466323852539,
           -0.9605162143707275,
           -0.9608795642852783,
           -0.9611678123474121,
           -0.9614391326904297,
           -0.961707592010498,
           -0.9619615077972412,
           -0.9621751308441162,
           -0.9623191356658936,
           -0.9623699188232422,
           -0.9623188972473145
          ],
          [
           0.5821359157562256,
           1.5023447275161743,
           0.9050521850585938,
           0.47499537467956543,
           0.45775771141052246,
           0.6952383518218994,
           1.2747375965118408,
           1.7735637426376343,
           0.9309847354888916,
           0.04567718505859375,
           -0.4590134620666504,
           -0.7147140502929688,
           -0.8402814865112305,
           -0.9019653797149658,
           -0.9325282573699951,
           -0.9476974010467529,
           -0.9551346302032471,
           -0.958690881729126,
           -0.9603524208068848,
           -0.9611551761627197,
           -0.9616343975067139,
           -0.962059736251831,
           -0.9625532627105713,
           -0.9631507396697998,
           -0.9638271331787109,
           -0.964514970779419,
           -0.9651176929473877,
           -0.9655334949493408,
           -0.9656834602355957,
           -0.9655351638793945
          ],
          [
           0.11797809600830078,
           0.553215742111206,
           0.8774304389953613,
           1.3332126140594482,
           1.6615009307861328,
           1.2759830951690674,
           0.7614266872406006,
           0.39327216148376465,
           0.013080596923828125,
           -0.35672640800476074,
           -0.6260161399841309,
           -0.7888767719268799,
           -0.8783321380615234,
           -0.9247796535491943,
           -0.9476847648620605,
           -0.9581809043884277,
           -0.962418794631958,
           -0.9637408256530762,
           -0.9639184474945068,
           -0.9638569355010986,
           -0.963996171951294,
           -0.9645349979400635,
           -0.9655399322509766,
           -0.9669859409332275,
           -0.968757152557373,
           -0.9706387519836426,
           -0.9723367691040039,
           -0.9735329151153564,
           -0.973973274230957,
           -0.9735541343688965
          ],
          [
           -0.3578207492828369,
           -0.04943490028381348,
           0.47280120849609375,
           1.4794148206710815,
           2.64064884185791,
           1.3660521507263184,
           0.346144437789917,
           -0.18638110160827637,
           -0.4845888614654541,
           -0.6799399852752686,
           -0.8140015602111816,
           -0.9000592231750488,
           -0.9491660594940186,
           -0.9728357791900635,
           -0.9810376167297363,
           -0.9811327457427979,
           -0.9778878688812256,
           -0.9740135669708252,
           -0.9708371162414551,
           -0.9688951969146729,
           -0.9683494567871094,
           -0.9692225456237793,
           -0.9714827537536621,
           -0.9750187397003174,
           -0.9795479774475098,
           -0.9845256805419922,
           -0.9891386032104492,
           -0.9924519062042236,
           -0.9936943054199219,
           -0.9925472736358643
          ],
          [
           -0.6341445446014404,
           -0.4544236660003662,
           -0.13666772842407227,
           0.4290924072265625,
           0.9543994665145874,
           0.3746216297149658,
           -0.19999337196350098,
           -0.538029670715332,
           -0.7456150054931641,
           -0.8855316638946533,
           -0.9804151058197021,
           -1.0364651679992676,
           -1.0592021942138672,
           -1.0578396320343018,
           -1.0431098937988281,
           -1.0239884853363037,
           -1.006122350692749,
           -0.992093563079834,
           -0.982518196105957,
           -0.9771220684051514,
           -0.9754440784454346,
           -0.9771690368652344,
           -0.9821596145629883,
           -0.9902703762054443,
           -1.0009970664978027,
           -1.0131144523620605,
           -1.0245704650878906,
           -1.0328986644744873,
           -1.0360517501831055,
           -1.0331969261169434
          ],
          [
           -0.7167515754699707,
           -0.526660680770874,
           -0.1528475284576416,
           0.4769313335418701,
           0.9372910261154175,
           0.47124552726745605,
           -0.14113712310791016,
           -0.5466823577880859,
           -0.8222379684448242,
           -1.0261509418487549,
           -1.1656255722045898,
           -1.2357897758483887,
           -1.2427866458892822,
           -1.2063970565795898,
           -1.1512231826782227,
           -1.0964164733886719,
           -1.0518150329589844,
           -1.0199470520019531,
           -0.9996373653411865,
           -0.9887144565582275,
           -0.985403299331665,
           -0.9887862205505371,
           -0.9986875057220459,
           -1.0151009559631348,
           -1.0371832847595215,
           -1.062150239944458,
           -1.0851082801818848,
           -1.1008930206298828,
           -1.1065707206726074,
           -1.1014761924743652
          ],
          [
           -0.7071902751922607,
           -0.46114230155944824,
           0.04864931106567383,
           1.0051991939544678,
           1.9560728073120117,
           1.1470386981964111,
           0.3275926113128662,
           -0.22031259536743164,
           -0.6839742660522461,
           -1.0822832584381104,
           -1.363180160522461,
           -1.509828805923462,
           -1.5226447582244873,
           -1.436606526374817,
           -1.3136520385742188,
           -1.1997768878936768,
           -1.1133592128753662,
           -1.055340051651001,
           -1.0202090740203857,
           -1.0020368099212646,
           -0.9967412948608398,
           -1.0024738311767578,
           -1.0190868377685547,
           -1.0467228889465332,
           -1.083068609237671,
           -1.1196601390838623,
           -1.1417043209075928,
           -1.140944242477417,
           -1.134206771850586,
           -1.1401989459991455
          ],
          [
           -0.7249085903167725,
           -0.526561975479126,
           -0.1896054744720459,
           0.27922987937927246,
           0.713158130645752,
           0.941272497177124,
           0.9907341003417969,
           0.6918566226959229,
           -0.06660842895507812,
           -0.806666374206543,
           -1.2355448007583618,
           -1.6749783754348755,
           -1.8345210552215576,
           -1.7069810628890991,
           -1.494945764541626,
           -1.3073811531066895,
           -1.1732003688812256,
           -1.0876514911651611,
           -1.0379364490509033,
           -1.0129897594451904,
           -1.0059230327606201,
           -1.0138208866119385,
           -1.036492109298706,
           -1.0736892223358154,
           -1.1185681819915771,
           -1.1444497108459473,
           -1.0895544290542603,
           -0.8909695148468018,
           -0.713799238204956,
           -0.873887300491333
          ],
          [
           -0.7646424770355225,
           -0.6206753253936768,
           -0.3891270160675049,
           -0.03729748725891113,
           0.48543453216552734,
           1.2772700786590576,
           2.397066831588745,
           2.991830348968506,
           1.155760645866394,
           -0.47123396396636963,
           -0.9795916080474854,
           -1.862531065940857,
           -2.0832152366638184,
           -1.8736271858215332,
           -1.58832848072052,
           -1.355816125869751,
           -1.197343349456787,
           -1.0994956493377686,
           -1.0438907146453857,
           -1.0164296627044678,
           -1.0087780952453613,
           -1.0174932479858398,
           -1.042304515838623,
           -1.0825979709625244,
           -1.1285288333892822,
           -1.1395649909973145,
           -1.0009801387786865,
           -0.4678899049758911,
           0.4430333971977234,
           -0.4103567600250244
          ],
          [
           -0.8061850070953369,
           -0.6975057125091553,
           -0.5193450450897217,
           -0.23125934600830078,
           0.2274329662322998,
           0.9182305335998535,
           1.750884771347046,
           1.9805727005004883,
           0.8582158088684082,
           -0.2854670286178589,
           -0.5406803488731384,
           -1.489418625831604,
           -1.7743200063705444,
           -1.6636645793914795,
           -1.4629658460617065,
           -1.2859447002410889,
           -1.1596617698669434,
           -1.0793476104736328,
           -1.0328567028045654,
           -1.009728193283081,
           -1.0034620761871338,
           -1.0113229751586914,
           -1.0331594944000244,
           -1.0688884258270264,
           -1.112868070602417,
           -1.1434578895568848,
           -1.114314317703247,
           -0.9895510673522949,
           -0.8858085870742798,
           -0.9791222810745239
          ],
          [
           -0.8489389419555664,
           -0.7746775150299072,
           -0.6572835445404053,
           -0.4789555072784424,
           -0.22656798362731934,
           0.08234691619873047,
           0.3550119400024414,
           0.4491710662841797,
           0.4215717315673828,
           0.6412763595581055,
           0.8718358278274536,
           0.005544900894165039,
           -0.7940688133239746,
           -1.1100637912750244,
           -1.1640040874481201,
           -1.1272425651550293,
           -1.076056718826294,
           -1.035221815109253,
           -1.0089154243469238,
           -0.9953007698059082,
           -0.9921097755432129,
           -0.998284101486206,
           -1.013967752456665,
           -1.0394694805145264,
           -1.073103427886963,
           -1.1084296703338623,
           -1.1342921257019043,
           -1.1434402465820312,
           -1.1433911323547363,
           -1.1434338092803955
          ],
          [
           -0.8876583576202393,
           -0.8432557582855225,
           -0.7772190570831299,
           -0.6846675872802734,
           -0.5654571056365967,
           -0.42807817459106445,
           -0.28269362449645996,
           -0.10162734985351562,
           0.25446581840515137,
           1.0651756525039673,
           2.0278170108795166,
           0.7733442783355713,
           -0.24875354766845703,
           -0.7295942306518555,
           -0.9203815460205078,
           -0.9813551902770996,
           -0.992436408996582,
           -0.9883379936218262,
           -0.9823284149169922,
           -0.9788246154785156,
           -0.9791579246520996,
           -0.983893871307373,
           -0.9935369491577148,
           -1.0083985328674316,
           -1.0279386043548584,
           -1.0499613285064697,
           -1.0704753398895264,
           -1.0849661827087402,
           -1.0903263092041016,
           -1.0855457782745361
          ],
          [
           -0.91628098487854,
           -0.8913273811340332,
           -0.8553791046142578,
           -0.8058197498321533,
           -0.7399275302886963,
           -0.6521821022033691,
           -0.5253736972808838,
           -0.313305139541626,
           0.07691454887390137,
           0.7665466070175171,
           1.4121748208999634,
           0.6431789398193359,
           -0.12461137771606445,
           -0.5615289211273193,
           -0.7831480503082275,
           -0.8872218132019043,
           -0.9332926273345947,
           -0.9528074264526367,
           -0.9610352516174316,
           -0.9650838375091553,
           -0.9682660102844238,
           -0.9722132682800293,
           -0.9777908325195312,
           -0.9853739738464355,
           -0.994788408279419,
           -1.0051419734954834,
           -1.0148138999938965,
           -1.0218143463134766,
           -1.0244710445404053,
           -1.0221011638641357
          ],
          [
           -0.9342544078826904,
           -0.9197189807891846,
           -0.898169755935669,
           -0.8662688732147217,
           -0.8177368640899658,
           -0.7388262748718262,
           -0.5979123115539551,
           -0.3251018524169922,
           0.21588921546936035,
           1.192577838897705,
           2.056758403778076,
           1.1272175312042236,
           0.12834644317626953,
           -0.42525291442871094,
           -0.7010338306427002,
           -0.8351309299468994,
           -0.9002707004547119,
           -0.93212890625,
           -0.9479424953460693,
           -0.9561312198638916,
           -0.9608979225158691,
           -0.9643890857696533,
           -0.9677011966705322,
           -0.9713208675384521,
           -0.9752998352050781,
           -0.9793336391448975,
           -0.9828770160675049,
           -0.9853293895721436,
           -0.9862391948699951,
           -0.9854371547698975
          ],
          [
           -0.9446730613708496,
           -0.9355616569519043,
           -0.9212849140167236,
           -0.8985185623168945,
           -0.8610656261444092,
           -0.797081470489502,
           -0.6847901344299316,
           -0.49011921882629395,
           -0.18355178833007812,
           0.18135929107666016,
           0.36120009422302246,
           0.15980052947998047,
           -0.21758460998535156,
           -0.5296726226806641,
           -0.7255041599273682,
           -0.8355832099914551,
           -0.8948965072631836,
           -0.9263916015625,
           -0.943051815032959,
           -0.9519031047821045,
           -0.9567101001739502,
           -0.9594709873199463,
           -0.9611852169036865,
           -0.9622232913970947,
           -0.9625222682952881,
           -0.9618289470672607,
           -0.9601526260375977,
           -0.95823073387146,
           -0.9573273658752441,
           -0.9581427574157715
          ],
          [
           -0.950793981552124,
           -0.9449765682220459,
           -0.9356076717376709,
           -0.9204275608062744,
           -0.8957467079162598,
           -0.8558943271636963,
           -0.7934532165527344,
           -0.702582597732544,
           -0.5890357494354248,
           -0.4845850467681885,
           -0.4425234794616699,
           -0.4915034770965576,
           -0.6009957790374756,
           -0.7172672748565674,
           -0.8089487552642822,
           -0.8707661628723145,
           -0.9089767932891846,
           -0.9313974380493164,
           -0.9440550804138184,
           -0.950890064239502,
           -0.9542582035064697,
           -0.9554100036621094,
           -0.9547317028045654,
           -0.9517107009887695,
           -0.9447758197784424,
           -0.9317123889923096,
           -0.9120519161224365,
           -0.8914320468902588,
           -0.8817572593688965,
           -0.890333890914917
          ],
          [
           -0.9546022415161133,
           -0.9510722160339355,
           -0.9454371929168701,
           -0.9365530014038086,
           -0.9228494167327881,
           -0.9024901390075684,
           -0.8740646839141846,
           -0.838186502456665,
           -0.7997844219207764,
           -0.7690815925598145,
           -0.7578506469726562,
           -0.7713601589202881,
           -0.8038749694824219,
           -0.8433811664581299,
           -0.8796453475952148,
           -0.9078340530395508,
           -0.9274449348449707,
           -0.9399733543395996,
           -0.9472813606262207,
           -0.9508640766143799,
           -0.9516141414642334,
           -0.9496908187866211,
           -0.9441313743591309,
           -0.9317619800567627,
           -0.9050405025482178,
           -0.850104570388794,
           -0.7527134418487549,
           -0.6287930011749268,
           -0.561621904373169,
           -0.6213333606719971
          ],
          [
           -0.957026481628418,
           -0.955052375793457,
           -0.9519948959350586,
           -0.9473834037780762,
           -0.9406883716583252,
           -0.9314780235290527,
           -0.9197378158569336,
           -0.9063186645507812,
           -0.8932778835296631,
           -0.8836476802825928,
           -0.8802990913391113,
           -0.8843884468078613,
           -0.8946163654327393,
           -0.908010721206665,
           -0.921485424041748,
           -0.9329516887664795,
           -0.9415121078491211,
           -0.9470763206481934,
           -0.9498610496520996,
           -0.9499883651733398,
           -0.9471664428710938,
           -0.9402503967285156,
           -0.9262232780456543,
           -0.8975131511688232,
           -0.8354206085205078,
           -0.6966869831085205,
           -0.3971066474914551,
           0.1478719711303711,
           0.6049206256866455,
           0.19057011604309082
          ],
          [
           -0.9585208892822266,
           -0.9575047492980957,
           -0.9559895992279053,
           -0.9538099765777588,
           -0.9508171081542969,
           -0.9469523429870605,
           -0.9423480033874512,
           -0.9374282360076904,
           -0.932929277420044,
           -0.9297564029693604,
           -0.928673505783081,
           -0.9299647808074951,
           -0.9332854747772217,
           -0.9378118515014648,
           -0.942575216293335,
           -0.9467527866363525,
           -0.9497742652893066,
           -0.951244592666626,
           -0.9507536888122559,
           -0.947615385055542,
           -0.9404945373535156,
           -0.9267525672912598,
           -0.9010436534881592,
           -0.8520841598510742,
           -0.7554152011871338,
           -0.5588908195495605,
           -0.1607804298400879,
           0.5798885822296143,
           1.3286629915237427,
           0.6420481204986572
          ],
          [
           -0.9593865871429443,
           -0.958899736404419,
           -0.9582018852233887,
           -0.9572415351867676,
           -0.955984354019165,
           -0.9544413089752197,
           -0.9526932239532471,
           -0.950911283493042,
           -0.9493441581726074,
           -0.948265790939331,
           -0.9478888511657715,
           -0.9482824802398682,
           -0.9493350982666016,
           -0.950782060623169,
           -0.9522738456726074,
           -0.9534344673156738,
           -0.953869104385376,
           -0.9530918598175049,
           -0.9503653049468994,
           -0.9444131851196289,
           -0.9329221248626709,
           -0.9116165637969971,
           -0.8724772930145264,
           -0.8003542423248291,
           -0.6673808097839355,
           -0.42790722846984863,
           -0.032346248626708984,
           0.4791402816772461,
           0.7757339477539062,
           0.5112922191619873
          ],
          [
           -0.9598546028137207,
           -0.9596350193023682,
           -0.9593312740325928,
           -0.9589295387268066,
           -0.9584248065948486,
           -0.957829475402832,
           -0.9571802616119385,
           -0.9565398693084717,
           -0.9559900760650635,
           -0.9556124210357666,
           -0.9554648399353027,
           -0.9555575847625732,
           -0.9558408260345459,
           -0.9562027454376221,
           -0.9564745426177979,
           -0.9564216136932373,
           -0.9557039737701416,
           -0.9537801742553711,
           -0.9497199058532715,
           -0.9418597221374512,
           -0.927173376083374,
           -0.9000811576843262,
           -0.8501355648040771,
           -0.7574739456176758,
           -0.5841822624206543,
           -0.2596116065979004,
           0.3368816375732422,
           1.346689224243164,
           2.3099169731140137,
           1.4281086921691895
          ],
          [
           -0.9600925445556641,
           -0.9599978923797607,
           -0.9598712921142578,
           -0.959709882736206,
           -0.9595134258270264,
           -0.9592890739440918,
           -0.9590513706207275,
           -0.9588215351104736,
           -0.958625316619873,
           -0.9584856033325195,
           -0.9584147930145264,
           -0.9584062099456787,
           -0.9584276676177979,
           -0.9584126472473145,
           -0.9582474231719971,
           -0.9577455520629883,
           -0.9565935134887695,
           -0.9542431831359863,
           -0.9497191905975342,
           -0.9412641525268555,
           -0.9256839752197266,
           -0.89711594581604,
           -0.8446145057678223,
           -0.7474021911621094,
           -0.5658950805664062,
           -0.2271733283996582,
           0.3889038562774658,
           1.4251418113708496,
           2.567686080932617,
           1.5105276107788086
          ],
          [
           -0.9602069854736328,
           -0.960167646408081,
           -0.9601168632507324,
           -0.9600536823272705,
           -0.9599785804748535,
           -0.9598953723907471,
           -0.9598085880279541,
           -0.9597251415252686,
           -0.9596521854400635,
           -0.9595944881439209,
           -0.9595510959625244,
           -0.9595122337341309,
           -0.9594516754150391,
           -0.959320068359375,
           -0.959028959274292,
           -0.9584224224090576,
           -0.9572248458862305,
           -0.9549472332000732,
           -0.9507157802581787,
           -0.9429700374603271,
           -0.9289100170135498,
           -0.9034521579742432,
           -0.8571648597717285,
           -0.7720468044281006,
           -0.6130163669586182,
           -0.31211018562316895,
           0.25526881217956543,
           1.2795944213867188,
           2.5386829376220703,
           1.3681840896606445
          ],
          [
           -0.9602596759796143,
           -0.9602437019348145,
           -0.9602236747741699,
           -0.9601995944976807,
           -0.9601714611053467,
           -0.9601404666900635,
           -0.9601085186004639,
           -0.9600770473480225,
           -0.9600474834442139,
           -0.9600191116333008,
           -0.9599885940551758,
           -0.9599454402923584,
           -0.9598689079284668,
           -0.959721565246582,
           -0.9594335556030273,
           -0.9588816165924072,
           -0.9578485488891602,
           -0.9559488296508789,
           -0.952507495880127,
           -0.9463450908660889,
           -0.9354009628295898,
           -0.9160370826721191,
           -0.8816933631896973,
           -0.8202049732208252,
           -0.7087149620056152,
           -0.5063376426696777,
           -0.15576601028442383,
           0.3437187671661377,
           0.6671838760375977,
           0.37736988067626953
          ]
         ],
         "type": "surface"
        },
        {
         "marker": {
          "color": "#72356c"
         },
         "mode": "markers",
         "name": "training data",
         "x": [
          0.5,
          0.5,
          1.0000000037252903,
          1.0000000037252903,
          1.5000000074505806,
          1.5000000074505806,
          5.000000000000001,
          5.000000000000001,
          0.5,
          5.000000000000001,
          2.0000000447034836,
          0.5,
          0.5,
          0.5,
          1.0000000037252903,
          1.0000000037252903,
          2.0000000447034836,
          2.0000000447034836,
          2.0000000447034836,
          2.0000000447034836,
          5.000000000000001,
          5.000000000000001,
          5.000000000000001
         ],
         "y": [
          2.7300000190734863,
          3.4000001145614362,
          3.7899999185612288,
          6.440000140764965,
          5.3600000716472636,
          8.98999989360641,
          8.800000081362441,
          14.670000341289324,
          5.239999811442516,
          14.890000123887603,
          10.130000282220237,
          4.510000154033449,
          5.369999872371615,
          4.880000167190786,
          6.760000203331785,
          7.769999962835257,
          8.729999392960707,
          9.380000265787459,
          10.479999178778854,
          11.010000170188363,
          14.710000301761738,
          15.4399995803833,
          13.370000110785838
         ],
         "z": [
          0.8730257153511047,
          2.6772446632385254,
          1.6990152597427368,
          3.8050527572631836,
          3.3348562717437744,
          4.535152912139893,
          1.3625102043151855,
          3.8412907123565674,
          1.2013570070266724,
          3.5136520862579346,
          3.4708714485168457,
          0.26329824328422546,
          2.7753403186798096,
          2.591306209564209,
          2.579984426498413,
          3.173818588256836,
          0.13150499761104584,
          0.45116370916366577,
          2.1266398429870605,
          3.468212842941284,
          3.685852527618408,
          3.445655584335327,
          2.6515469551086426
         ],
         "type": "scatter3d"
        },
        {
         "mode": "markers",
         "name": "max(PI)",
         "x": [
          1.336822658777237
         ],
         "y": [
          8.850209122655428
         ],
         "z": [
          4.437723636627197
         ],
         "type": "scatter3d"
        },
        {
         "mode": "markers",
         "name": "max(EI)",
         "x": [
          1.336822658777237
         ],
         "y": [
          8.850209122655428
         ],
         "z": [
          4.437723636627197
         ],
         "type": "scatter3d"
        },
        {
         "mode": "markers",
         "name": "max(CA)",
         "x": [
          2.3343595266342168
         ],
         "y": [
          12.13727784410193
         ],
         "z": [
          2.7881081104278564
         ],
         "type": "scatter3d"
        },
        {
         "mode": "markers",
         "name": "max(TH)",
         "x": [
          2.0018471479415894
         ],
         "y": [
          4.623977882310818
         ],
         "z": [
          2.645909070968628
         ],
         "type": "scatter3d"
        },
        {
         "mode": "markers",
         "name": "max(UCB)",
         "x": [
          1.1705665364861488
         ],
         "y": [
          9.319790476801359
         ],
         "z": [
          3.8708810806274414
         ],
         "type": "scatter3d"
        },
        {
         "mode": "markers",
         "name": "max(Max_var)",
         "x": [
          3.664408773183823
         ],
         "y": [
          2.276071443020234
         ],
         "z": [
          2.504094123840332
         ],
         "type": "scatter3d"
        }
       ],
       "layout": {
        "template": {
         "data": {
          "barpolar": [
           {
            "marker": {
             "line": {
              "color": "rgb(237,237,237)",
              "width": 0.5
             },
             "pattern": {
              "fillmode": "overlay",
              "size": 10,
              "solidity": 0.2
             }
            },
            "type": "barpolar"
           }
          ],
          "bar": [
           {
            "error_x": {
             "color": "rgb(51,51,51)"
            },
            "error_y": {
             "color": "rgb(51,51,51)"
            },
            "marker": {
             "line": {
              "color": "rgb(237,237,237)",
              "width": 0.5
             },
             "pattern": {
              "fillmode": "overlay",
              "size": 10,
              "solidity": 0.2
             }
            },
            "type": "bar"
           }
          ],
          "carpet": [
           {
            "aaxis": {
             "endlinecolor": "rgb(51,51,51)",
             "gridcolor": "white",
             "linecolor": "white",
             "minorgridcolor": "white",
             "startlinecolor": "rgb(51,51,51)"
            },
            "baxis": {
             "endlinecolor": "rgb(51,51,51)",
             "gridcolor": "white",
             "linecolor": "white",
             "minorgridcolor": "white",
             "startlinecolor": "rgb(51,51,51)"
            },
            "type": "carpet"
           }
          ],
          "choropleth": [
           {
            "colorbar": {
             "outlinewidth": 0,
             "tickcolor": "rgb(237,237,237)",
             "ticklen": 6,
             "ticks": "inside"
            },
            "type": "choropleth"
           }
          ],
          "contourcarpet": [
           {
            "colorbar": {
             "outlinewidth": 0,
             "tickcolor": "rgb(237,237,237)",
             "ticklen": 6,
             "ticks": "inside"
            },
            "type": "contourcarpet"
           }
          ],
          "contour": [
           {
            "colorbar": {
             "outlinewidth": 0,
             "tickcolor": "rgb(237,237,237)",
             "ticklen": 6,
             "ticks": "inside"
            },
            "colorscale": [
             [
              0,
              "rgb(20,44,66)"
             ],
             [
              1,
              "rgb(90,179,244)"
             ]
            ],
            "type": "contour"
           }
          ],
          "heatmapgl": [
           {
            "colorbar": {
             "outlinewidth": 0,
             "tickcolor": "rgb(237,237,237)",
             "ticklen": 6,
             "ticks": "inside"
            },
            "colorscale": [
             [
              0,
              "rgb(20,44,66)"
             ],
             [
              1,
              "rgb(90,179,244)"
             ]
            ],
            "type": "heatmapgl"
           }
          ],
          "heatmap": [
           {
            "colorbar": {
             "outlinewidth": 0,
             "tickcolor": "rgb(237,237,237)",
             "ticklen": 6,
             "ticks": "inside"
            },
            "colorscale": [
             [
              0,
              "rgb(20,44,66)"
             ],
             [
              1,
              "rgb(90,179,244)"
             ]
            ],
            "type": "heatmap"
           }
          ],
          "histogram2dcontour": [
           {
            "colorbar": {
             "outlinewidth": 0,
             "tickcolor": "rgb(237,237,237)",
             "ticklen": 6,
             "ticks": "inside"
            },
            "colorscale": [
             [
              0,
              "rgb(20,44,66)"
             ],
             [
              1,
              "rgb(90,179,244)"
             ]
            ],
            "type": "histogram2dcontour"
           }
          ],
          "histogram2d": [
           {
            "colorbar": {
             "outlinewidth": 0,
             "tickcolor": "rgb(237,237,237)",
             "ticklen": 6,
             "ticks": "inside"
            },
            "colorscale": [
             [
              0,
              "rgb(20,44,66)"
             ],
             [
              1,
              "rgb(90,179,244)"
             ]
            ],
            "type": "histogram2d"
           }
          ],
          "histogram": [
           {
            "marker": {
             "pattern": {
              "fillmode": "overlay",
              "size": 10,
              "solidity": 0.2
             }
            },
            "type": "histogram"
           }
          ],
          "mesh3d": [
           {
            "colorbar": {
             "outlinewidth": 0,
             "tickcolor": "rgb(237,237,237)",
             "ticklen": 6,
             "ticks": "inside"
            },
            "type": "mesh3d"
           }
          ],
          "parcoords": [
           {
            "line": {
             "colorbar": {
              "outlinewidth": 0,
              "tickcolor": "rgb(237,237,237)",
              "ticklen": 6,
              "ticks": "inside"
             }
            },
            "type": "parcoords"
           }
          ],
          "pie": [
           {
            "automargin": true,
            "type": "pie"
           }
          ],
          "scatter3d": [
           {
            "line": {
             "colorbar": {
              "outlinewidth": 0,
              "tickcolor": "rgb(237,237,237)",
              "ticklen": 6,
              "ticks": "inside"
             }
            },
            "marker": {
             "colorbar": {
              "outlinewidth": 0,
              "tickcolor": "rgb(237,237,237)",
              "ticklen": 6,
              "ticks": "inside"
             }
            },
            "type": "scatter3d"
           }
          ],
          "scattercarpet": [
           {
            "marker": {
             "colorbar": {
              "outlinewidth": 0,
              "tickcolor": "rgb(237,237,237)",
              "ticklen": 6,
              "ticks": "inside"
             }
            },
            "type": "scattercarpet"
           }
          ],
          "scattergeo": [
           {
            "marker": {
             "colorbar": {
              "outlinewidth": 0,
              "tickcolor": "rgb(237,237,237)",
              "ticklen": 6,
              "ticks": "inside"
             }
            },
            "type": "scattergeo"
           }
          ],
          "scattergl": [
           {
            "marker": {
             "colorbar": {
              "outlinewidth": 0,
              "tickcolor": "rgb(237,237,237)",
              "ticklen": 6,
              "ticks": "inside"
             }
            },
            "type": "scattergl"
           }
          ],
          "scattermapbox": [
           {
            "marker": {
             "colorbar": {
              "outlinewidth": 0,
              "tickcolor": "rgb(237,237,237)",
              "ticklen": 6,
              "ticks": "inside"
             }
            },
            "type": "scattermapbox"
           }
          ],
          "scatterpolargl": [
           {
            "marker": {
             "colorbar": {
              "outlinewidth": 0,
              "tickcolor": "rgb(237,237,237)",
              "ticklen": 6,
              "ticks": "inside"
             }
            },
            "type": "scatterpolargl"
           }
          ],
          "scatterpolar": [
           {
            "marker": {
             "colorbar": {
              "outlinewidth": 0,
              "tickcolor": "rgb(237,237,237)",
              "ticklen": 6,
              "ticks": "inside"
             }
            },
            "type": "scatterpolar"
           }
          ],
          "scatter": [
           {
            "fillpattern": {
             "fillmode": "overlay",
             "size": 10,
             "solidity": 0.2
            },
            "type": "scatter"
           }
          ],
          "scatterternary": [
           {
            "marker": {
             "colorbar": {
              "outlinewidth": 0,
              "tickcolor": "rgb(237,237,237)",
              "ticklen": 6,
              "ticks": "inside"
             }
            },
            "type": "scatterternary"
           }
          ],
          "surface": [
           {
            "colorbar": {
             "outlinewidth": 0,
             "tickcolor": "rgb(237,237,237)",
             "ticklen": 6,
             "ticks": "inside"
            },
            "colorscale": [
             [
              0,
              "rgb(20,44,66)"
             ],
             [
              1,
              "rgb(90,179,244)"
             ]
            ],
            "type": "surface"
           }
          ],
          "table": [
           {
            "cells": {
             "fill": {
              "color": "rgb(237,237,237)"
             },
             "line": {
              "color": "white"
             }
            },
            "header": {
             "fill": {
              "color": "rgb(217,217,217)"
             },
             "line": {
              "color": "white"
             }
            },
            "type": "table"
           }
          ]
         },
         "layout": {
          "annotationdefaults": {
           "arrowhead": 0,
           "arrowwidth": 1
          },
          "autotypenumbers": "strict",
          "coloraxis": {
           "colorbar": {
            "outlinewidth": 0,
            "tickcolor": "rgb(237,237,237)",
            "ticklen": 6,
            "ticks": "inside"
           }
          },
          "colorscale": {
           "sequential": [
            [
             0,
             "rgb(20,44,66)"
            ],
            [
             1,
             "rgb(90,179,244)"
            ]
           ],
           "sequentialminus": [
            [
             0,
             "rgb(20,44,66)"
            ],
            [
             1,
             "rgb(90,179,244)"
            ]
           ]
          },
          "colorway": [
           "#F8766D",
           "#A3A500",
           "#00BF7D",
           "#00B0F6",
           "#E76BF3"
          ],
          "font": {
           "color": "rgb(51,51,51)"
          },
          "geo": {
           "bgcolor": "white",
           "lakecolor": "white",
           "landcolor": "rgb(237,237,237)",
           "showlakes": true,
           "showland": true,
           "subunitcolor": "white"
          },
          "hoverlabel": {
           "align": "left"
          },
          "hovermode": "closest",
          "paper_bgcolor": "white",
          "plot_bgcolor": "rgb(237,237,237)",
          "polar": {
           "angularaxis": {
            "gridcolor": "white",
            "linecolor": "white",
            "showgrid": true,
            "tickcolor": "rgb(51,51,51)",
            "ticks": "outside"
           },
           "bgcolor": "rgb(237,237,237)",
           "radialaxis": {
            "gridcolor": "white",
            "linecolor": "white",
            "showgrid": true,
            "tickcolor": "rgb(51,51,51)",
            "ticks": "outside"
           }
          },
          "scene": {
           "xaxis": {
            "backgroundcolor": "rgb(237,237,237)",
            "gridcolor": "white",
            "gridwidth": 2,
            "linecolor": "white",
            "showbackground": true,
            "showgrid": true,
            "tickcolor": "rgb(51,51,51)",
            "ticks": "outside",
            "zerolinecolor": "white"
           },
           "yaxis": {
            "backgroundcolor": "rgb(237,237,237)",
            "gridcolor": "white",
            "gridwidth": 2,
            "linecolor": "white",
            "showbackground": true,
            "showgrid": true,
            "tickcolor": "rgb(51,51,51)",
            "ticks": "outside",
            "zerolinecolor": "white"
           },
           "zaxis": {
            "backgroundcolor": "rgb(237,237,237)",
            "gridcolor": "white",
            "gridwidth": 2,
            "linecolor": "white",
            "showbackground": true,
            "showgrid": true,
            "tickcolor": "rgb(51,51,51)",
            "ticks": "outside",
            "zerolinecolor": "white"
           }
          },
          "shapedefaults": {
           "fillcolor": "black",
           "line": {
            "width": 0
           },
           "opacity": 0.3
          },
          "ternary": {
           "aaxis": {
            "gridcolor": "white",
            "linecolor": "white",
            "showgrid": true,
            "tickcolor": "rgb(51,51,51)",
            "ticks": "outside"
           },
           "baxis": {
            "gridcolor": "white",
            "linecolor": "white",
            "showgrid": true,
            "tickcolor": "rgb(51,51,51)",
            "ticks": "outside"
           },
           "bgcolor": "rgb(237,237,237)",
           "caxis": {
            "gridcolor": "white",
            "linecolor": "white",
            "showgrid": true,
            "tickcolor": "rgb(51,51,51)",
            "ticks": "outside"
           }
          },
          "xaxis": {
           "automargin": true,
           "gridcolor": "white",
           "linecolor": "white",
           "showgrid": true,
           "tickcolor": "rgb(51,51,51)",
           "ticks": "outside",
           "title": {
            "standoff": 15
           },
           "zerolinecolor": "white"
          },
          "yaxis": {
           "automargin": true,
           "gridcolor": "white",
           "linecolor": "white",
           "showgrid": true,
           "tickcolor": "rgb(51,51,51)",
           "ticks": "outside",
           "title": {
            "standoff": 15
           },
           "zerolinecolor": "white"
          }
         }
        },
        "margin": {
         "r": 20,
         "l": 10,
         "b": 15,
         "t": 10
        },
        "legend": {
         "orientation": "h",
         "yanchor": "bottom",
         "y": 0.9,
         "xanchor": "right",
         "x": 0.85
        },
        "width": 1200,
        "height": 750,
        "scene": {
         "xaxis": {
          "title": {
           "text": "Pulse Width (msec)"
          }
         },
         "yaxis": {
          "title": {
           "text": "Energy density new cone (J/cm^2)"
          }
         },
         "zaxis": {
          "title": {
           "text": "2 Qsw/(U+|D|) 1e6"
          }
         },
         "camera": {
          "up": {
           "x": 0,
           "y": 0,
           "z": 1
          },
          "center": {
           "x": 0,
           "y": 0,
           "z": 0
          },
          "eye": {
           "x": 2,
           "y": 0.3,
           "z": 0.75
          }
         }
        }
       },
       "config": {
        "plotlyServerURL": "https://plot.ly"
       }
      }
     },
     "metadata": {}
    }
   ],
   "metadata": {}
  },
  {
   "cell_type": "code",
   "execution_count": 30,
   "source": [
    "# check fig of merit of julia et al prediction point\n",
    "model.eval(), likelihood.eval()\n",
    "nlcb = np.array((0.9, 5.89)).reshape(1,2)\n",
    "nlcb_scaled = scaler.transform(nlcb)\n",
    "print(nlcb_scaled)\n",
    "\n",
    "y_preds_nlcb = likelihood(model(torch.Tensor(nlcb_scaled)))\n",
    "\n",
    "with torch.no_grad(): y_preds_nlcb_mean = y_preds_nlcb.mean.numpy()\n",
    "print(y_preds_nlcb_mean)"
   ],
   "outputs": [
    {
     "output_type": "stream",
     "name": "stdout",
     "text": [
      "[[0.08888889 0.24862314]]\n",
      "[3.6862981]\n"
     ]
    },
    {
     "output_type": "stream",
     "name": "stderr",
     "text": [
      "/Users/valenetjong/opt/anaconda3/envs/FEGP/lib/python3.9/site-packages/gpytorch/likelihoods/gaussian_likelihood.py:270: GPInputWarning:\n",
      "\n",
      "You have passed data through a FixedNoiseGaussianLikelihood that did not match the size of the fixed noise, *and* you did not specify noise. This is treated as a no-op.\n",
      "\n"
     ]
    }
   ],
   "metadata": {}
  },
  {
   "cell_type": "markdown",
   "source": [
    "### Post-processing\n",
    "- Energy density, pulse width --> voltage function"
   ],
   "metadata": {}
  },
  {
   "cell_type": "code",
   "execution_count": 83,
   "source": [
    "import GPy\n",
    "from GPy.models import GPRegression\n",
    "from emukit.model_wrappers import GPyModelWrapper\n",
    "from torch.optim import Adam as Adam\n",
    "from emukit.core import ParameterSpace, ContinuousParameter"
   ],
   "outputs": [],
   "metadata": {}
  },
  {
   "cell_type": "markdown",
   "source": [
    "#### Load Data"
   ],
   "metadata": {}
  },
  {
   "cell_type": "code",
   "execution_count": 84,
   "source": [
    "dir = \"/Users/valenetjong/Bayesian-Optimization-Ferroelectrics/data/\"\n",
    "in_file = \"Bolometer_readings_under_the_cone_new_old.xlsx\"\n",
    "df = pd.read_excel(dir + in_file, sheet_name=\"Calibrations_new\")\n",
    "df2 = pd.read_excel(dir + in_file, sheet_name= \"Beamtime\")\n",
    "df2 = df2[df2['upulses'] == 1]\n",
    "\n",
    "volts_bol_dat = np.concatenate((df['Voltage (V)'].values, df2['Voltage (V)'].values))\n",
    "time_bol_dat = np.concatenate((df['Time (us)'].values, df2['Time (us)'].values))\n",
    "energy_den_bol_dat = np.concatenate((df['Energy density new cone (J/cm^2)'].values, df2['Energy density new cone (J/cm^2)'].values))  \n",
    "\n",
    "# define scaler\n",
    "post_scaler = MinMaxScaler()\n",
    "\n",
    "# make, scale training set\n",
    "x_exp_raw = np.stack((time_bol_dat, energy_den_bol_dat), axis=1)\n",
    "x_exp = post_scaler.fit_transform(x_exp_raw)\n",
    "\n",
    "y_exp = np.reshape(volts_bol_dat,(-1,1))\n",
    "X, Y = [x_exp, y_exp]"
   ],
   "outputs": [],
   "metadata": {}
  },
  {
   "cell_type": "markdown",
   "source": [
    "#### GP Voltage Model"
   ],
   "metadata": {}
  },
  {
   "cell_type": "code",
   "execution_count": 85,
   "source": [
    "def grid_maker_1D(arr, step_size):\n",
    "    return np.arange(arr.min(), arr.max()+step_size*0.1,step_size)\n",
    "\n",
    "# make GP grid; min delta time: 500us, min delta energy density: 0.01J/cm^2\n",
    "var_array = [grid_maker_1D(time_bol_dat, 500), grid_maker_1D(energy_den_bol_dat, 0.01)]"
   ],
   "outputs": [],
   "metadata": {}
  },
  {
   "cell_type": "code",
   "execution_count": 86,
   "source": [
    "# continuous parameter creates a grid space for grid search\n",
    "time_len_num, e_den_num = len(var_array[0]), len(var_array[1])\n",
    "parameter_space = ParameterSpace([ContinuousParameter(\"Time (ms)\", 0-1/(time_len_num-1)/2, 1+1/(time_len_num-1)/2),\n",
    "                                  ContinuousParameter(\"Energy density new cone (J/cm^2)\", 0-1/(e_den_num-1)/2, 1+1/(e_den_num-1)/2),\n",
    "                                 ])"
   ],
   "outputs": [],
   "metadata": {}
  },
  {
   "cell_type": "code",
   "execution_count": 87,
   "source": [
    "# define GP model\n",
    "kernel = GPy.kern.src.stationary.Exponential(input_dim = len(X[0]), ARD =True)\n",
    "kernel.lengthscale.constrain_bounded(1e-2, 1)\n",
    "kernel.variance.constrain_bounded(1e-2, 500.0)\n",
    "model_volt = GPRegression(X , -Y, kernel)   # optimize thru minimization\n",
    "model_volt.Gaussian_noise.variance = 0.15\n",
    "model_volt.Gaussian_noise.variance.fix()"
   ],
   "outputs": [
    {
     "output_type": "stream",
     "name": "stderr",
     "text": [
      "reconstraining parameters Exponential.lengthscale\n",
      "reconstraining parameters Exponential.variance\n"
     ]
    },
    {
     "output_type": "execute_result",
     "data": {
      "text/plain": [
       "array([0])"
      ]
     },
     "metadata": {},
     "execution_count": 87
    }
   ],
   "metadata": {}
  },
  {
   "cell_type": "code",
   "execution_count": 88,
   "source": [
    "# randomize hyperparameters\n",
    "model_volt.randomize() \n",
    "\n",
    "# check hyperparameters \n",
    "# print(kernel.lengthscale, '\\n', kernel.variance)\n",
    "print(kernel)"
   ],
   "outputs": [
    {
     "output_type": "stream",
     "name": "stdout",
     "text": [
      "  \u001b[1mExponential.\u001b[0;0m  |               value  |  constraints  |  priors\n",
      "  \u001b[1mvariance    \u001b[0;0m  |  238.57912043499294  |  0.01,500.0   |        \n",
      "  \u001b[1mlengthscale \u001b[0;0m  |                (2,)  |   0.01,1.0    |        \n"
     ]
    }
   ],
   "metadata": {}
  },
  {
   "cell_type": "code",
   "execution_count": 89,
   "source": [
    "# train voltage model\n",
    "model_volt.optimize_restarts(num_restarts=30, verbose =False, messages=False) # fit to training data, select best hyperparameters out of num_restarts \n",
    "objective_model = GPyModelWrapper(model_volt)\n",
    "# print(objective_model.model.kern.lengthscale, '\\n', objective_model.model.kern.variance)\n",
    "print(kernel)"
   ],
   "outputs": [
    {
     "output_type": "stream",
     "name": "stdout",
     "text": [
      "  \u001b[1mExponential.\u001b[0;0m  |               value  |  constraints  |  priors\n",
      "  \u001b[1mvariance    \u001b[0;0m  |  499.99999900207223  |  0.01,500.0   |        \n",
      "  \u001b[1mlengthscale \u001b[0;0m  |                (2,)  |   0.01,1.0    |        \n"
     ]
    }
   ],
   "metadata": {}
  },
  {
   "cell_type": "code",
   "execution_count": 90,
   "source": [
    "# predict voltage training set\n",
    "gp_func =  objective_model.model.predict\n",
    "y_pred, y_err = gp_func(X)\n",
    "y_pred, y_err = -y_pred[:,-1], np.sqrt(y_err[:,-1])"
   ],
   "outputs": [],
   "metadata": {}
  },
  {
   "cell_type": "code",
   "execution_count": 91,
   "source": [
    "# plot voltage training results \n",
    "plot_gp_res(y_exp.reshape(-1), y_pred, None, y_err)\n",
    "prettyplot()\n",
    "\n",
    "# plot actuals v. predicted values w/ error bars\n",
    "fs = 14 \n",
    "fig, axes = plt.subplots(1, 2, figsize=(16, 4.5))\n",
    "plt_inputs = np.arange(len(Y))\n",
    "axes[0].scatter(plt_inputs, Y[:,0].T, s = 20, color = \"#72356c\", label = 'experiment')\n",
    "axes[0].plot(plt_inputs, y_pred, color = 'black', label = 'predicted')\n",
    "axes[0].errorbar(plt_inputs, y_pred, y_err, zorder = 0)\n",
    "\n",
    "# set up axes and labels\n",
    "axes[0].set_ylabel('Output (Voltage)', fontsize = fs)\n",
    "axes[0].set_xlabel('Input (Time, Energy Density)', fontsize = fs)\n",
    "axes[0].set_title(\"Predicted v. Actuals\", fontsize = fs)\n",
    "axes[0].legend(fontsize = fs*0.8)\n",
    "axes[1].axis(\"off\")\n",
    "\n",
    "plt.show()"
   ],
   "outputs": [
    {
     "output_type": "stream",
     "name": "stdout",
     "text": [
      "     Metric  Value\n",
      "0      RMSE  0.110\n",
      "1       MAE  0.075\n",
      "2  Spearman  0.992\n",
      "3  R² score  1.000\n"
     ]
    },
    {
     "output_type": "display_data",
     "data": {
      "image/png": "[encoded data removed]",
      "text/plain": [
       "<Figure size 3300x900 with 3 Axes>"
      ]
     },
     "metadata": {}
    },
    {
     "output_type": "display_data",
     "data": {
      "image/png": "[encoded data removed]",
      "text/plain": [
       "<Figure size 3200x900 with 2 Axes>"
      ]
     },
     "metadata": {}
    }
   ],
   "metadata": {}
  },
  {
   "cell_type": "code",
   "execution_count": 96,
   "source": [
    "get_pos_volt = lambda pt: round(-1*(gp_func(pt)[0].item()),0)\n",
    "ei_pt = np.array([1336.823, 8.850209]).reshape(1,2)\n",
    "ei_pt_scaled = post_scaler.transform(ei_pt.reshape(1,-1))\n",
    "print(get_pos_volt(ei_pt_scaled))"
   ],
   "outputs": [
    {
     "output_type": "stream",
     "name": "stdout",
     "text": [
      "713.0\n"
     ]
    }
   ],
   "metadata": {}
  },
  {
   "cell_type": "code",
   "execution_count": 97,
   "source": [
    "# get voltage of prediction points and re-scale to raw\n",
    "ucb_pt, nlcd_pt = np.array(ucb_pt).reshape(1,2), np.array(nlcd_pt).reshape(1,2)\n",
    "ucb_pt_scaled, nlcd_pt_scaled = post_scaler.transform(ucb_pt), post_scaler.transform(nlcd_pt)\n",
    "ucb_pt, nlcd_pt = ucb_pt.reshape(-1), nlcd_pt.reshape(-1)\n",
    "ucb_pt_time, ucb_pt_eden, ucb_pt_volt = ucb_pt[0]/1000, ucb_pt[1], get_pos_volt(ucb_pt_scaled)\n",
    "nlcd_pt_time, nlcd_pt_eden, nlcd_pt_volt = nlcd_pt[0]/1000, nlcd_pt[1], get_pos_volt(nlcd_pt_scaled)\n",
    "\n",
    "# write to csv\n",
    "dir = \"/Users/valenetjong/Bayesian-Optimization-Ferroelectrics/predictions/\"\n",
    "file_out = \"final_preds.csv\"\n",
    "file = open(dir + file_out, \"a\", encoding=\"utf-8\")\n",
    "file.write(\"GP fit predictions: \\n\")\n",
    "file.write(\"Type\\t Time (ms)\\t Energy density(J\\cm^2)\\t Voltage()\\n\")\n",
    "file.write(\"UCB:\\t\" + str(ucb_pt_time) + \"\\t\" + str(ucb_pt_eden) +\"\\t\" + str(ucb_pt_volt) + \"\\n\")\n",
    "file.write(\"NLCB:\\t\" + str(nlcd_pt_time) + \"\\t\" + str(nlcd_pt_eden) +\"\\t\" + str(nlcd_pt_volt) + \"\\n\")"
   ],
   "outputs": [
    {
     "output_type": "execute_result",
     "data": {
      "text/plain": [
       "21"
      ]
     },
     "metadata": {},
     "execution_count": 97
    }
   ],
   "metadata": {}
  },
  {
   "cell_type": "markdown",
   "source": [
    "#### Plot GP Function, Scipy Optimize Function, against Raw Data"
   ],
   "metadata": {}
  },
  {
   "cell_type": "code",
   "execution_count": 98,
   "source": [
    "# make, scale post_test_grid\n",
    "_, _, post_test_grid, post_test_arr = grid_maker(torch.Tensor(X))\n",
    "volt_on_grid, _ = gp_func(post_test_arr.numpy())\n",
    "volt_on_grid = -1 * volt_on_grid.reshape(30,30).T\n",
    "raw_post_test_arr, raw_post_test_grid = un_norm_x(post_test_arr, post_test_grid, post_scaler)"
   ],
   "outputs": [],
   "metadata": {}
  },
  {
   "cell_type": "code",
   "execution_count": 99,
   "source": [
    "import plotly.graph_objects as go\n",
    "import matplotlib.pyplot as plt\n",
    "import matplotlib as mpl\n",
    "\n",
    "fig = go.Figure(data=[go.Scatter3d(z=volts_bol_dat, \n",
    "                                    x=time_bol_dat,\n",
    "                                    y=energy_den_bol_dat, \n",
    "                                    mode='markers',\n",
    "                                    marker={'color':'#72356c'},\n",
    "                                    name='GP regression')])\n",
    "fig.add_trace(go.Surface(z=volt_on_grid, \n",
    "                            x=raw_post_test_grid[:,0],\n",
    "                            y=raw_post_test_grid[:,1],\n",
    "                            opacity=0.8,\n",
    "                            colorscale = \"Burg\",\n",
    "                            colorbar=dict(thickness=15, len=0.5)))\n",
    "\n",
    "fig.update_layout(width=1000, height=800,\n",
    "                    legend=dict(orientation=\"h\", yanchor=\"top\", y=1.02, \n",
    "                    xanchor=\"left\",x=1), margin=dict(r=20, l=10, b=10, t=10), \n",
    "                        scene=dict(\n",
    "                        xaxis_title=\"Pulse width (μs)\",\n",
    "                        yaxis_title=\"Energy density new cone (J/cm^2)\",\n",
    "                        zaxis_title='Voltage')\n",
    "                    )\n",
    "camera = dict(\n",
    "        up=dict(x=0, y=0, z=1),\n",
    "        center=dict(x=0, y=0, z=0),\n",
    "        eye=dict(x=-2, y=-2.5, z=1.75)\n",
    ")\n",
    "fig.update_layout(scene_camera=camera)\n",
    "fig.update_layout(template=\"ggplot2\")\n",
    "fig.show()"
   ],
   "outputs": [
    {
     "output_type": "display_data",
     "data": {
      "application/vnd.plotly.v1+json": {
       "data": [
        {
         "marker": {
          "color": "#72356c"
         },
         "mode": "markers",
         "name": "GP regression",
         "x": [
          400,
          500,
          1000,
          1500,
          2000,
          2500,
          5000,
          500,
          1000,
          1500,
          2000,
          2500,
          5000,
          300,
          500,
          1000,
          1500,
          2000,
          2500,
          5000,
          200,
          300,
          400,
          500,
          800,
          100,
          200,
          300,
          400,
          495,
          500,
          1000,
          1500,
          2000,
          5000,
          500,
          500,
          500,
          500,
          1000,
          1000,
          1000,
          2000,
          2000,
          2000,
          2000,
          2000,
          5000,
          5000,
          5000,
          5000,
          5000,
          2000
         ],
         "y": [
          0.61,
          2.4,
          4.34,
          5.83,
          6.91,
          7.74,
          10.01,
          3.01,
          5.45,
          7.21,
          8.55,
          9.53,
          12.11,
          2.23,
          3.65,
          6.55,
          8.63,
          10.13,
          11.23,
          14.11,
          1.72,
          2.69,
          3.58,
          4.43,
          6.63,
          0.86,
          2.06,
          3.19,
          4.27,
          5.22,
          5.24,
          7.52,
          9.29,
          10.71,
          14.89,
          4.51,
          5.37,
          4.07,
          4.88,
          6.76,
          7.77,
          6.02,
          8.73,
          9.38,
          10.48,
          11.01,
          7.8,
          14.71,
          15.44,
          13.37,
          12.5,
          11.29,
          7.28
         ],
         "z": [
          400,
          600,
          600,
          600,
          600,
          600,
          600,
          650,
          650,
          650,
          650,
          650,
          650,
          700,
          700,
          700,
          700,
          700,
          700,
          700,
          750,
          750,
          750,
          750,
          750,
          800,
          800,
          800,
          800,
          800,
          799,
          738,
          720,
          716,
          716,
          750,
          799,
          720,
          770,
          700,
          738,
          670,
          650,
          670,
          700,
          716,
          620,
          700,
          716,
          670,
          650,
          620,
          600
         ],
         "type": "scatter3d"
        },
        {
         "colorbar": {
          "len": 0.5,
          "thickness": 15
         },
         "colorscale": [
          [
           0,
           "rgb(255, 198, 196)"
          ],
          [
           0.16666666666666666,
           "rgb(244, 163, 168)"
          ],
          [
           0.3333333333333333,
           "rgb(227, 129, 145)"
          ],
          [
           0.5,
           "rgb(204, 96, 125)"
          ],
          [
           0.6666666666666666,
           "rgb(173, 70, 108)"
          ],
          [
           0.8333333333333334,
           "rgb(139, 48, 88)"
          ],
          [
           1,
           "rgb(103, 32, 68)"
          ]
         ],
         "opacity": 0.8,
         "x": [
          -75.00000782310961,
          106.03447295725346,
          287.06895373761654,
          468.1034162640571,
          649.1379335522652,
          830.1724508404732,
          1011.2068951129912,
          1192.2413393855095,
          1373.2757836580276,
          1554.3103009462357,
          1735.344672203064,
          1916.379189491272,
          2097.41370677948,
          2278.448224067688,
          2459.482741355896,
          2640.517258644104,
          2821.551775932312,
          3002.58629322052,
          3183.620810508728,
          3364.6550357341766,
          3545.6895530223846,
          3726.7240703105927,
          3907.7585875988007,
          4088.7931048870087,
          4269.827330112457,
          4450.861847400665,
          4631.896364688873,
          4812.930881977081,
          4993.965399265289,
          5174.999916553497
         ],
         "y": [
          0.08035711918026207,
          0.6282635171338916,
          1.1761699150875211,
          1.7240762577950957,
          2.271982766240835,
          2.819889274686575,
          3.3677955621480944,
          3.9157018496096136,
          4.463608137071133,
          5.011514645516873,
          5.559420711994171,
          6.107327220439911,
          6.6552337288856505,
          7.20314023733139,
          7.75104674577713,
          8.29895325422287,
          8.84685976266861,
          9.39476627111435,
          9.94267277956009,
          10.490578404068946,
          11.038484912514686,
          11.586391420960426,
          12.134297929406166,
          12.682204437851906,
          13.230110062360763,
          13.778016570806503,
          14.325923079252243,
          14.873829587697983,
          15.421736096143723,
          15.969642604589463
         ],
         "z": [
          [
           701.3887686792706,
           673.666098583648,
           517.0488135627268,
           397.4239188217987,
           394.7990554404866,
           398.9890167802853,
           400.85506945280883,
           400.74977169439296,
           399.36026711200697,
           397.13558497537537,
           394.3250683218303,
           391.0608727873153,
           387.41270534063926,
           383.4230614774145,
           379.1289537151593,
           374.57408998982555,
           369.8144365356053,
           364.91670093330407,
           359.9491098671353,
           354.96698766127327,
           349.99760160469486,
           345.02835616328,
           340.0004844593648,
           334.8093217405276,
           329.31139346956155,
           323.33817033173915,
           316.71591101598233,
           309.28942268454045,
           300.9460308859834,
           291.63441417885736
          ],
          [
           748.6900022146425,
           755.1951085067709,
           551.7364371107622,
           407.9990161535137,
           417.57050070317484,
           421.1229731425617,
           421.36463559645586,
           419.77677551312354,
           417.2086065552106,
           414.07126304887424,
           410.54616063052185,
           406.7068984827495,
           402.5770451829126,
           398.16546564986993,
           393.4867334880087,
           388.5717922078172,
           383.4733055717736,
           378.2633465516203,
           373.02102969598786,
           367.8134288916377,
           362.6760458157646,
           357.5979393523403,
           352.51377558079463,
           347.3036548884021,
           341.8008050494056,
           335.80711551756536,
           329.1162153069214,
           321.54197966063845,
           312.9480651296288,
           303.2715040118133
          ],
          [
           782.0146140962917,
           794.6409632985772,
           609.2153060487859,
           469.48761658753597,
           452.7969344546042,
           448.58405268200215,
           444.6997285849831,
           440.4989777372882,
           436.1871092020732,
           431.8298049784958,
           427.4118854566489,
           422.8892561014704,
           418.2076563494404,
           413.3248805052076,
           408.22307801670183,
           402.9142581460307,
           397.4450087759109,
           391.8933982264504,
           386.3522105206728,
           380.90348181680105,
           375.5933899712771,
           370.41378821596055,
           365.29247233986484,
           360.0925302205596,
           354.6205959259606,
           348.64417787244327,
           341.9182896382942,
           334.2196070236629,
           325.3830631586292,
           315.3317377101021
          ],
          [
           799.9624616538747,
           807.190412810173,
           670.3329956672835,
           540.054481420876,
           496.3477599116228,
           480.28753159921393,
           470.3770679794888,
           462.6442819127078,
           456.13233508899737,
           450.30428179845836,
           444.8476338695828,
           439.55400733767317,
           434.2639414087921,
           428.869497247728,
           423.31194513419837,
           417.57826770689553,
           411.7063289049339,
           405.781847697037,
           399.91547084558124,
           394.2085545865792,
           388.72107562395576,
           383.4491320696678,
           378.31343043097775,
           373.15819691056316,
           367.7599050957202,
           361.84627739684964,
           355.12666948267827,
           347.3328812436296,
           338.26476247202834,
           327.82856394342866
          ],
          [
           808.5567678396551,
           824.0506284573024,
           718.0652643523529,
           601.9363901255223,
           541.8163469280728,
           514.3623056548602,
           497.5920754162123,
           485.80123863989206,
           476.8186419963632,
           469.3536978543147,
           462.7581160641971,
           456.6340378436337,
           450.69600286676166,
           444.76060518741485,
           438.72230573344825,
           432.53665425972486,
           426.23008934097686,
           419.89915025419646,
           413.67848583359415,
           407.6945302397701,
           402.0249039389233,
           396.67167651505696,
           391.548310548123,
           386.47828069376556,
           381.2041269005662,
           375.4077964333245,
           368.7447469273898,
           360.8924526417838,
           351.60756751009194,
           340.77585386174775
          ],
          [
           811.1708707610989,
           829.4371970181355,
           771.128605895815,
           652.9774662313783,
           585.1504884124121,
           548.9785992959593,
           525.3952138574357,
           509.4880343185051,
           497.9886276082856,
           488.814189426137,
           481.0324622994318,
           474.05166590990586,
           467.4455235132331,
           460.9527522106074,
           454.4184399062309,
           447.7586189424244,
           440.9851266198229,
           434.21082802023227,
           427.603181271038,
           421.3210923674452,
           415.4643578475567,
           410.04292560577403,
           404.9628769413196,
           400.02504777306945,
           394.9341814229505,
           389.31996882679795,
           382.77441703798496,
           374.90898938360675,
           365.42663527795264,
           354.18786087261014
          ],
          [
           809.3339618557451,
           830.9073855304242,
           807.428950239634,
           696.9051754121137,
           625.3778937934393,
           582.8486399220665,
           552.8437991762314,
           533.249848466483,
           519.3906787215728,
           508.51119591709164,
           499.5506380624074,
           491.72189487333776,
           484.4464968658094,
           477.3936469957166,
           470.36041247666213,
           463.2102770974747,
           455.9362817688649,
           448.67696981674294,
           441.64502228936425,
           435.0409884654645,
           428.99190189923763,
           423.5174975760747,
           418.51627303432207,
           413.76459839518907,
           408.9256538624265,
           403.57010586420347,
           397.21560334420064,
           389.39310204919656,
           379.73799912740105,
           368.0791597575555
          ],
          [
           804.0391158815276,
           828.5342495170241,
           815.8927377029105,
           732.5164320116705,
           662.5122707194016,
           615.2775337691438,
           579.0734872983891,
           556.7838483188252,
           540.8117964237692,
           528.2688870174302,
           518.1912215642444,
           509.55570033521485,
           501.62507145698066,
           494.02336844107003,
           486.50485988331343,
           478.855494201547,
           471.044301070426,
           463.2515145142305,
           455.75213258292604,
           448.7992049638447,
           442.5522559922316,
           437.042439487455,
           432.1602764341699,
           427.6559743457034,
           423.14775181747603,
           418.140568893109,
           412.0655669164974,
           404.3551980689938,
           394.5587149046227,
           382.46451778276867
          ],
          [
           795.9187343195323,
           822.4796696949006,
           821.7531519773316,
           765.9111545805266,
           697.4019645724447,
           645.9365258764203,
           604.2441346939637,
           580.0111759456904,
           562.0937986297711,
           547.9151684689868,
           536.8422877024051,
           527.4618371643528,
           518.8971644890602,
           510.77229166414514,
           502.8065180014939,
           494.6570479595364,
           486.2654165479697,
           477.8811497669789,
           469.86416357054304,
           462.5320226450265,
           456.0816370042133,
           450.5565450125349,
           445.8385350786147,
           441.6501616355323,
           437.56201300904115,
           433.0073535883063,
           427.31783794534493,
           419.8051699452591,
           409.9069935554444,
           397.3586080179145
          ],
          [
           785.4355936752767,
           813.3425374352153,
           819.9172009839994,
           791.7533864931976,
           728.7408499110936,
           674.3020084577015,
           629.7438658601626,
           602.8870588357897,
           583.1462045700514,
           567.2900840186385,
           555.4184867505071,
           545.343091469571,
           536.1611664860525,
           527.5574396083729,
           519.2216643919394,
           510.5780949401642,
           501.55028693671306,
           492.50372468870586,
           483.91093782214983,
           476.16602773172485,
           469.50706770195944,
           463.9897847361659,
           459.4858945796828,
           455.6890819835945,
           452.12079896519873,
           448.1382135027676,
           442.9606282843342,
           435.7518692743364,
           425.8023792602679,
           412.77552380709017
          ],
          [
           772.9830877701917,
           801.5613442476626,
           813.0160969954234,
           803.6268580050726,
           751.6481508139007,
           699.8212722550786,
           651.9363925927646,
           625.4049504201934,
           604.0171958766014,
           586.3368927170109,
           573.8762827395602,
           563.075360287591,
           553.2771636522673,
           544.2792677084778,
           535.7153407151828,
           526.5831537686273,
           516.8415738812298,
           507.04596787982433,
           497.81079732045526,
           489.6170546319013,
           482.74575146486654,
           477.2628559932149,
           473.0278276876143,
           469.7045759530399,
           466.7655136823264,
           463.4900911480949,
           458.9743248572972,
           452.202089305378,
           442.26589911584523,
           428.7278374363505
          ],
          [
           758.9225331991532,
           787.6172505531998,
           801.9279131250385,
           796.749134699689,
           764.2450035275781,
           722.9676841983726,
           673.247141680839,
           647.8341793141238,
           624.9165142815118,
           605.826865735025,
           592.1853420310225,
           580.4254838378797,
           569.990333251107,
           560.8340048135108,
           552.2738835614298,
           542.6363432083551,
           532.0694618479763,
           521.4206481495178,
           511.4688322873278,
           502.78925673855247,
           495.7047229484295,
           490.2870655215323,
           486.3801914208087,
           483.6176235241052,
           481.42475669447583,
           479.00583289303023,
           475.3276786725618,
           469.15880287256937,
           459.3203323796062,
           445.2249779215243
          ],
          [
           743.5937360116783,
           772.0264707289454,
           787.981430829076,
           787.3390714820906,
           768.8920666567185,
           742.3193247261884,
           697.961793422734,
           669.811005460296,
           645.5520124886168,
           625.6039474783186,
           610.3025839876943,
           596.6085627476925,
           585.5628346890228,
           577.1913505127565,
           568.9167377214634,
           558.6902826618144,
           547.1446502953412,
           535.5232270463017,
           524.7748500418139,
           515.5741925758931,
           508.28067315284693,
           502.9644337587081,
           499.44921078668665,
           497.3377479397376,
           496.01237294042915,
           494.6098560923034,
           491.97158907037254,
           486.6175481434613,
           476.9903334950681,
           462.26988919079486
          ],
          [
           727.3077531486718,
           755.2771911088707,
           772.4073458430232,
           776.0026664633273,
           766.8432960389256,
           749.1049416686075,
           721.3455760892733,
           689.8200001316364,
           665.2743866188198,
           645.0234202981121,
           628.3608431475927,
           610.0532043893168,
           599.0644631991805,
           593.5522231098844,
           585.6809321142077,
           574.6511434593192,
           561.9518542730525,
           549.2287334332358,
           537.6014068358838,
           527.8503238888857,
           520.3603332398029,
           515.1883724613889,
           512.1320574937358,
           510.76308241455007,
           510.42606124617,
           510.2032493952573,
           508.8295327248211,
           504.5593699167072,
           495.30269937639787,
           479.85247337068995
          ],
          [
           710.3343499193986,
           737.7610280442343,
           755.8436391846701,
           762.9300871757068,
           760.0062578018253,
           750.0956096632053,
           736.4335765842155,
           705.4245542283902,
           683.5679099458187,
           665.0415861608544,
           646.5621250805797,
           626.6287673043997,
           615.2966385274666,
           610.2612149128672,
           602.4064746631257,
           590.3157858872326,
           576.3514499942106,
           562.3884993075386,
           549.8017408996293,
           539.482988745769,
           531.8214267648956,
           526.8448710220576,
           524.3179530815391,
           523.7811678829538,
           524.5470070472585,
           525.6590293152608,
           525.7830217506969,
           522.9355913737465,
           514.2865631757335,
           497.9352434014253
          ],
          [
           692.8949039318431,
           719.7573388873789,
           738.6041130499078,
           748.4097887107073,
           749.9892484522527,
           745.5256395392202,
           735.0409375717795,
           715.0862444160731,
           699.386665346084,
           684.2291291061599,
           664.3781564927701,
           645.7645203831801,
           634.0644597097091,
           627.3441241087299,
           618.4015407764199,
           605.4814982312221,
           590.1911186136206,
           574.8247004105659,
           561.2077877910109,
           550.325294543144,
           542.5344592633776,
           537.8143298562404,
           535.889900838255,
           536.270728983249,
           538.2414501097237,
           540.8198936024331,
           542.6520985777863,
           541.6330385865979,
           533.9735511474139,
           516.4196908070797
          ],
          [
           675.1639955050953,
           701.4582118244119,
           720.8800980196838,
           732.7567589643721,
           737.6858715837205,
           737.0383459484821,
           730.7145504472091,
           719.3439989608586,
           711.4594897288858,
           701.6857226717776,
           680.4732100738913,
           662.0355088825982,
           651.1744726407342,
           644.5206560427391,
           634.1734752186494,
           620.198903518697,
           603.2985943975616,
           586.3193556735389,
           571.6290453270642,
           560.2205135560247,
           552.3655414337742,
           547.9740504081828,
           546.7269741555145,
           548.1043990683513,
           551.3648733643187,
           555.5024616496783,
           559.1775155154538,
           560.3909518084419,
           554.3977004568937,
           535.061966403348
          ],
          [
           657.2766791270305,
           682.999084666844,
           702.8158289642021,
           716.2528368518417,
           723.7254822801747,
           726.1312066592517,
           723.8882703509227,
           718.9473072987369,
           717.411047624493,
           713.2633091829259,
           693.3670693945633,
           678.2011036837987,
           668.6925825828409,
           661.4445085780613,
           649.804089963289,
           634.6137816429843,
           615.4162616786523,
           596.5986971349308,
           580.8544933244114,
           569.0067483069461,
           561.1803906240482,
           557.2013236287378,
           556.7069799192196,
           559.1520447634496,
           563.7686718685102,
           569.5123006639459,
           575.029278892945,
           578.6197155274332,
           575.5936211306838,
           553.2709653517046
          ],
          [
           639.3372407016448,
           664.4804005346836,
           684.5305409783919,
           699.1321494388062,
           708.5765043010373,
           713.5449229821199,
           714.814573530452,
           714.4482011538172,
           715.9434624660728,
           713.5861691597453,
           701.9511148790543,
           694.5185739953648,
           686.5789158945051,
           677.2407028739394,
           666.515915632039,
           648.6809570474129,
           626.0842094650545,
           605.3250029251427,
           588.6612133837491,
           576.5245188351699,
           568.8494857458459,
           565.376964702203,
           565.7092194206919,
           569.2839835999815,
           575.307556384592,
           582.6690787114678,
           589.8848860607987,
           595.2453931533458,
           597.5007119328684,
           569.8757234002219
          ],
          [
           621.4269504326307,
           645.9802405287603,
           666.1245527294466,
           681.5819164832616,
           692.5692055167177,
           699.6660358627212,
           703.7629826277372,
           706.5616494713277,
           709.6927660933583,
           709.7238482876204,
           705.7260805934027,
           705.9596774075271,
           700.2852189410462,
           690.0131782976817,
           682.7925022323475,
           661.2715495863272,
           634.558954906969,
           612.1184827570833,
           594.8329191165533,
           582.627241726932,
           575.2540552721957,
           572.3890430386891,
           573.6170419921922,
           578.3732219977659,
           585.844384146824,
           594.8297282010469,
           603.5727117355932,
           609.5135017552295,
           607.3490637109303,
           583.9852893850891
          ],
          [
           603.6098745072376,
           627.5611534620681,
           647.6816258310939,
           663.7486695053674,
           675.9352921877309,
           684.7520387317848,
           691.0430975005839,
           696.0773272820702,
           700.6309016141821,
           703.1752024587406,
           704.5115300118762,
           710.9752900369485,
           707.2596178227816,
           697.223859649403,
           696.290152927244,
           669.7397110932868,
           639.9354025368606,
           616.6259892037887,
           599.1876750269892,
           587.193401380149,
           580.2923071884155,
           578.136577937249,
           580.3200748575774,
           586.2962184483672,
           595.2493681961882,
           605.8902095377567,
           616.133898783345,
           622.3636413432826,
           616.1494347420708,
           596.6921038670032
          ],
          [
           585.9373300688169,
           609.274344978925,
           629.2713713461548,
           645.7472296886544,
           658.8456007772492,
           669.0109344521592,
           676.9707705792907,
           683.646903643078,
           689.5133815103841,
           694.1163784955745,
           698.5212931784788,
           705.2026945013906,
           703.8558441594249,
           697.1031031564761,
           695.3996469690901,
           670.7105372225855,
           641.5605312974834,
           618.6199350061449,
           601.607313687496,
           590.1377415025598,
           583.8848563635574,
           582.53275086864,
           585.7159614611271,
           592.9320961190209,
           603.3929146408874,
           615.7584819342866,
           627.6770810938631,
           635.1051698997333,
           631.0331723935437,
           609.5225287279576
          ],
          [
           568.4508170884575,
           591.1621370933988,
           610.9515650962342,
           627.6691412937544,
           641.4345291593224,
           652.624309111438,
           661.8344113108371,
           669.7424823189784,
           676.7216685876433,
           682.7850372279311,
           688.6450708310097,
           694.4485873360003,
           694.6195278943387,
           690.3006347319035,
           684.6504047735552,
           664.8986617795832,
           639.4503861818657,
           618.0711811980221,
           602.0570890881781,
           591.4186983409439,
           585.9786670511062,
           585.5076582513586,
           589.7121235585308,
           598.1616000033817,
           610.1354747819952,
           624.315359724056,
           638.1991110903951,
           647.4037699613358,
           650.0076655591316,
           622.0191513388041
          ],
          [
           551.1842393271922,
           573.2598447327224,
           592.7705430216353,
           609.5894122926837,
           623.8135093292196,
           635.7527246993965,
           645.8814122770289,
           654.7076946174079,
           662.5487542221806,
           669.5472464869692,
           675.9933370726305,
           681.2247044350229,
           682.199413524435,
           679.0153728805418,
           671.9002221305827,
           655.4976087494857,
           634.2088409584314,
           615.1444888648059,
           600.5867674133829,
           591.0398984704534,
           586.5487762331416,
           587.0103552121598,
           592.2277743099727,
           601.867159308104,
           615.3190857686128,
           631.3825071277678,
           647.5717781597359,
           658.7374341878868,
           654.4639112310224,
           633.5170387493932
          ],
          [
           534.1655383469201,
           555.5972063288074,
           574.7692470604457,
           591.5711697442212,
           606.0778879484818,
           618.5371989068384,
           629.3194024315795,
           638.8089779382481,
           647.2653738436588,
           654.8128961134676,
           661.4471648740702,
           666.3579057177049,
           667.7294941794984,
           665.1222772465271,
           657.975535769921,
           644.1977285476731,
           626.5924282619321,
           610.1262638376663,
           597.3139109444178,
           589.0457581369913,
           585.5978150957555,
           587.0103140849742,
           593.1966826266138,
           603.935779699756,
           618.7655216410644,
           636.7020214812661,
           655.5328061445427,
           669.9437850220245,
           667.0890935525119,
           645.1049463298131
          ],
          [
           517.4177813353236,
           538.1993471636417,
           556.9826661078911,
           573.6685016990313,
           588.3103586080833,
           601.1005193283792,
           612.3227084619622,
           622.265557422659,
           631.1253031379412,
           638.9634834228685,
           645.6155568416702,
           650.3363918179491,
           651.9192227941506,
           649.7511903419943,
           643.2337004787327,
           631.708720843043,
           617.2294153970088,
           603.33986991159,
           592.3981581825531,
           585.5130103145037,
           583.1537522448674,
           585.4983949494756,
           592.57088552278,
           604.26584926422,
           620.2851310115126,
           639.9331297155061,
           661.542745118513,
           680.7556242539237,
           686.6654765666266,
           656.5936551438995
          ],
          [
           500.96022651936477,
           521.0877659493035,
           539.4411325703228,
           555.9284662523003,
           570.5831660132417,
           583.5492415637154,
           595.03905624357,
           605.2639846173583,
           614.3585708980852,
           622.3225542746849,
           628.9221236138161,
           633.5247393052501,
           635.26114611991,
           633.5402036825424,
           627.9253704884064,
           618.3946945355754,
           606.5730200130353,
           595.0894437844296,
           586.0166722192148,
           580.5408758396565,
           579.2666109097322,
           582.4874194589529,
           590.3251405265715,
           602.7777633282637,
           619.6986056589114,
           640.6858024318628,
           664.7435622995561,
           688.9328251896343,
           700.2251911558615,
           665.5161207394341
          ],
          [
           484.80889268540295,
           504.28082532330365,
           522.1709822674658,
           538.3921228798381,
           552.9593360355266,
           565.9754780039603,
           577.5943764804133,
           587.9644618588726,
           597.1662175142458,
           605.1531799825055,
           611.6741073836328,
           616.2069413168294,
           618.0993863903941,
           616.8621257241874,
           612.2374644973493,
           604.4846186188893,
           594.9420542155358,
           585.6368333035962,
           578.3464356404648,
           574.2420513084699,
           574.004833376733,
           578.012327110324,
           586.4614896296913,
           599.426825697618,
           616.8696851223416,
           638.602556612503,
           664.1694654952964,
           692.1895527430613,
           713.9178195246178,
           669.5331719121785
          ],
          [
           468.97710026955286,
           487.7942219561256,
           505.1951129585559,
           521.0953117765448,
           535.4937082071858,
           548.45863432582,
           560.0962298287127,
           570.5041120382807,
           579.7191955291108,
           587.6657838016297,
           594.1020943643412,
           598.6032955513797,
           600.6747448796115,
           599.947851814758,
           596.3108695953968,
           590.1412482429812,
           582.5659733530755,
           575.1991530308321,
           569.5543158027784,
           566.7357422802764,
           567.451787911559,
           572.129764720355,
           581.0128826819939,
           594.2152992853892,
           611.7402925979513,
           633.4675582952298,
           659.096347128865,
           687.8925363545012,
           715.6536552915538,
           665.7735324018436
          ],
          [
           453.47585977996823,
           471.64130706820015,
           488.5333500191442,
           504.0691799728641,
           518.2337451705149,
           531.066856363218,
           542.6362210202199,
           552.9992536620609,
           562.1600726372279,
           570.0276570592074,
           576.3824693666041,
           580.8829757139295,
           583.1572191918302,
           582.9488190734925,
           580.2529189257148,
           575.4881148573138,
           569.6161988767101,
           563.9548399611709,
           559.7930263590923,
           558.1429193533336,
           559.7026118462097,
           564.9169068645386,
           574.0447858955567,
           587.200000088688,
           604.3555777507365,
           625.2954837712598,
           649.4201640039184,
           674.7814857074093,
           688.477137721503,
           652.7019009700349
          ]
         ],
         "type": "surface"
        }
       ],
       "layout": {
        "template": {
         "data": {
          "barpolar": [
           {
            "marker": {
             "line": {
              "color": "rgb(237,237,237)",
              "width": 0.5
             },
             "pattern": {
              "fillmode": "overlay",
              "size": 10,
              "solidity": 0.2
             }
            },
            "type": "barpolar"
           }
          ],
          "bar": [
           {
            "error_x": {
             "color": "rgb(51,51,51)"
            },
            "error_y": {
             "color": "rgb(51,51,51)"
            },
            "marker": {
             "line": {
              "color": "rgb(237,237,237)",
              "width": 0.5
             },
             "pattern": {
              "fillmode": "overlay",
              "size": 10,
              "solidity": 0.2
             }
            },
            "type": "bar"
           }
          ],
          "carpet": [
           {
            "aaxis": {
             "endlinecolor": "rgb(51,51,51)",
             "gridcolor": "white",
             "linecolor": "white",
             "minorgridcolor": "white",
             "startlinecolor": "rgb(51,51,51)"
            },
            "baxis": {
             "endlinecolor": "rgb(51,51,51)",
             "gridcolor": "white",
             "linecolor": "white",
             "minorgridcolor": "white",
             "startlinecolor": "rgb(51,51,51)"
            },
            "type": "carpet"
           }
          ],
          "choropleth": [
           {
            "colorbar": {
             "outlinewidth": 0,
             "tickcolor": "rgb(237,237,237)",
             "ticklen": 6,
             "ticks": "inside"
            },
            "type": "choropleth"
           }
          ],
          "contourcarpet": [
           {
            "colorbar": {
             "outlinewidth": 0,
             "tickcolor": "rgb(237,237,237)",
             "ticklen": 6,
             "ticks": "inside"
            },
            "type": "contourcarpet"
           }
          ],
          "contour": [
           {
            "colorbar": {
             "outlinewidth": 0,
             "tickcolor": "rgb(237,237,237)",
             "ticklen": 6,
             "ticks": "inside"
            },
            "colorscale": [
             [
              0,
              "rgb(20,44,66)"
             ],
             [
              1,
              "rgb(90,179,244)"
             ]
            ],
            "type": "contour"
           }
          ],
          "heatmapgl": [
           {
            "colorbar": {
             "outlinewidth": 0,
             "tickcolor": "rgb(237,237,237)",
             "ticklen": 6,
             "ticks": "inside"
            },
            "colorscale": [
             [
              0,
              "rgb(20,44,66)"
             ],
             [
              1,
              "rgb(90,179,244)"
             ]
            ],
            "type": "heatmapgl"
           }
          ],
          "heatmap": [
           {
            "colorbar": {
             "outlinewidth": 0,
             "tickcolor": "rgb(237,237,237)",
             "ticklen": 6,
             "ticks": "inside"
            },
            "colorscale": [
             [
              0,
              "rgb(20,44,66)"
             ],
             [
              1,
              "rgb(90,179,244)"
             ]
            ],
            "type": "heatmap"
           }
          ],
          "histogram2dcontour": [
           {
            "colorbar": {
             "outlinewidth": 0,
             "tickcolor": "rgb(237,237,237)",
             "ticklen": 6,
             "ticks": "inside"
            },
            "colorscale": [
             [
              0,
              "rgb(20,44,66)"
             ],
             [
              1,
              "rgb(90,179,244)"
             ]
            ],
            "type": "histogram2dcontour"
           }
          ],
          "histogram2d": [
           {
            "colorbar": {
             "outlinewidth": 0,
             "tickcolor": "rgb(237,237,237)",
             "ticklen": 6,
             "ticks": "inside"
            },
            "colorscale": [
             [
              0,
              "rgb(20,44,66)"
             ],
             [
              1,
              "rgb(90,179,244)"
             ]
            ],
            "type": "histogram2d"
           }
          ],
          "histogram": [
           {
            "marker": {
             "pattern": {
              "fillmode": "overlay",
              "size": 10,
              "solidity": 0.2
             }
            },
            "type": "histogram"
           }
          ],
          "mesh3d": [
           {
            "colorbar": {
             "outlinewidth": 0,
             "tickcolor": "rgb(237,237,237)",
             "ticklen": 6,
             "ticks": "inside"
            },
            "type": "mesh3d"
           }
          ],
          "parcoords": [
           {
            "line": {
             "colorbar": {
              "outlinewidth": 0,
              "tickcolor": "rgb(237,237,237)",
              "ticklen": 6,
              "ticks": "inside"
             }
            },
            "type": "parcoords"
           }
          ],
          "pie": [
           {
            "automargin": true,
            "type": "pie"
           }
          ],
          "scatter3d": [
           {
            "line": {
             "colorbar": {
              "outlinewidth": 0,
              "tickcolor": "rgb(237,237,237)",
              "ticklen": 6,
              "ticks": "inside"
             }
            },
            "marker": {
             "colorbar": {
              "outlinewidth": 0,
              "tickcolor": "rgb(237,237,237)",
              "ticklen": 6,
              "ticks": "inside"
             }
            },
            "type": "scatter3d"
           }
          ],
          "scattercarpet": [
           {
            "marker": {
             "colorbar": {
              "outlinewidth": 0,
              "tickcolor": "rgb(237,237,237)",
              "ticklen": 6,
              "ticks": "inside"
             }
            },
            "type": "scattercarpet"
           }
          ],
          "scattergeo": [
           {
            "marker": {
             "colorbar": {
              "outlinewidth": 0,
              "tickcolor": "rgb(237,237,237)",
              "ticklen": 6,
              "ticks": "inside"
             }
            },
            "type": "scattergeo"
           }
          ],
          "scattergl": [
           {
            "marker": {
             "colorbar": {
              "outlinewidth": 0,
              "tickcolor": "rgb(237,237,237)",
              "ticklen": 6,
              "ticks": "inside"
             }
            },
            "type": "scattergl"
           }
          ],
          "scattermapbox": [
           {
            "marker": {
             "colorbar": {
              "outlinewidth": 0,
              "tickcolor": "rgb(237,237,237)",
              "ticklen": 6,
              "ticks": "inside"
             }
            },
            "type": "scattermapbox"
           }
          ],
          "scatterpolargl": [
           {
            "marker": {
             "colorbar": {
              "outlinewidth": 0,
              "tickcolor": "rgb(237,237,237)",
              "ticklen": 6,
              "ticks": "inside"
             }
            },
            "type": "scatterpolargl"
           }
          ],
          "scatterpolar": [
           {
            "marker": {
             "colorbar": {
              "outlinewidth": 0,
              "tickcolor": "rgb(237,237,237)",
              "ticklen": 6,
              "ticks": "inside"
             }
            },
            "type": "scatterpolar"
           }
          ],
          "scatter": [
           {
            "fillpattern": {
             "fillmode": "overlay",
             "size": 10,
             "solidity": 0.2
            },
            "type": "scatter"
           }
          ],
          "scatterternary": [
           {
            "marker": {
             "colorbar": {
              "outlinewidth": 0,
              "tickcolor": "rgb(237,237,237)",
              "ticklen": 6,
              "ticks": "inside"
             }
            },
            "type": "scatterternary"
           }
          ],
          "surface": [
           {
            "colorbar": {
             "outlinewidth": 0,
             "tickcolor": "rgb(237,237,237)",
             "ticklen": 6,
             "ticks": "inside"
            },
            "colorscale": [
             [
              0,
              "rgb(20,44,66)"
             ],
             [
              1,
              "rgb(90,179,244)"
             ]
            ],
            "type": "surface"
           }
          ],
          "table": [
           {
            "cells": {
             "fill": {
              "color": "rgb(237,237,237)"
             },
             "line": {
              "color": "white"
             }
            },
            "header": {
             "fill": {
              "color": "rgb(217,217,217)"
             },
             "line": {
              "color": "white"
             }
            },
            "type": "table"
           }
          ]
         },
         "layout": {
          "annotationdefaults": {
           "arrowhead": 0,
           "arrowwidth": 1
          },
          "autotypenumbers": "strict",
          "coloraxis": {
           "colorbar": {
            "outlinewidth": 0,
            "tickcolor": "rgb(237,237,237)",
            "ticklen": 6,
            "ticks": "inside"
           }
          },
          "colorscale": {
           "sequential": [
            [
             0,
             "rgb(20,44,66)"
            ],
            [
             1,
             "rgb(90,179,244)"
            ]
           ],
           "sequentialminus": [
            [
             0,
             "rgb(20,44,66)"
            ],
            [
             1,
             "rgb(90,179,244)"
            ]
           ]
          },
          "colorway": [
           "#F8766D",
           "#A3A500",
           "#00BF7D",
           "#00B0F6",
           "#E76BF3"
          ],
          "font": {
           "color": "rgb(51,51,51)"
          },
          "geo": {
           "bgcolor": "white",
           "lakecolor": "white",
           "landcolor": "rgb(237,237,237)",
           "showlakes": true,
           "showland": true,
           "subunitcolor": "white"
          },
          "hoverlabel": {
           "align": "left"
          },
          "hovermode": "closest",
          "paper_bgcolor": "white",
          "plot_bgcolor": "rgb(237,237,237)",
          "polar": {
           "angularaxis": {
            "gridcolor": "white",
            "linecolor": "white",
            "showgrid": true,
            "tickcolor": "rgb(51,51,51)",
            "ticks": "outside"
           },
           "bgcolor": "rgb(237,237,237)",
           "radialaxis": {
            "gridcolor": "white",
            "linecolor": "white",
            "showgrid": true,
            "tickcolor": "rgb(51,51,51)",
            "ticks": "outside"
           }
          },
          "scene": {
           "xaxis": {
            "backgroundcolor": "rgb(237,237,237)",
            "gridcolor": "white",
            "gridwidth": 2,
            "linecolor": "white",
            "showbackground": true,
            "showgrid": true,
            "tickcolor": "rgb(51,51,51)",
            "ticks": "outside",
            "zerolinecolor": "white"
           },
           "yaxis": {
            "backgroundcolor": "rgb(237,237,237)",
            "gridcolor": "white",
            "gridwidth": 2,
            "linecolor": "white",
            "showbackground": true,
            "showgrid": true,
            "tickcolor": "rgb(51,51,51)",
            "ticks": "outside",
            "zerolinecolor": "white"
           },
           "zaxis": {
            "backgroundcolor": "rgb(237,237,237)",
            "gridcolor": "white",
            "gridwidth": 2,
            "linecolor": "white",
            "showbackground": true,
            "showgrid": true,
            "tickcolor": "rgb(51,51,51)",
            "ticks": "outside",
            "zerolinecolor": "white"
           }
          },
          "shapedefaults": {
           "fillcolor": "black",
           "line": {
            "width": 0
           },
           "opacity": 0.3
          },
          "ternary": {
           "aaxis": {
            "gridcolor": "white",
            "linecolor": "white",
            "showgrid": true,
            "tickcolor": "rgb(51,51,51)",
            "ticks": "outside"
           },
           "baxis": {
            "gridcolor": "white",
            "linecolor": "white",
            "showgrid": true,
            "tickcolor": "rgb(51,51,51)",
            "ticks": "outside"
           },
           "bgcolor": "rgb(237,237,237)",
           "caxis": {
            "gridcolor": "white",
            "linecolor": "white",
            "showgrid": true,
            "tickcolor": "rgb(51,51,51)",
            "ticks": "outside"
           }
          },
          "xaxis": {
           "automargin": true,
           "gridcolor": "white",
           "linecolor": "white",
           "showgrid": true,
           "tickcolor": "rgb(51,51,51)",
           "ticks": "outside",
           "title": {
            "standoff": 15
           },
           "zerolinecolor": "white"
          },
          "yaxis": {
           "automargin": true,
           "gridcolor": "white",
           "linecolor": "white",
           "showgrid": true,
           "tickcolor": "rgb(51,51,51)",
           "ticks": "outside",
           "title": {
            "standoff": 15
           },
           "zerolinecolor": "white"
          }
         }
        },
        "legend": {
         "orientation": "h",
         "yanchor": "top",
         "y": 1.02,
         "xanchor": "left",
         "x": 1
        },
        "margin": {
         "r": 20,
         "l": 10,
         "b": 10,
         "t": 10
        },
        "width": 1000,
        "height": 800,
        "scene": {
         "xaxis": {
          "title": {
           "text": "Pulse width (μs)"
          }
         },
         "yaxis": {
          "title": {
           "text": "Energy density new cone (J/cm^2)"
          }
         },
         "zaxis": {
          "title": {
           "text": "Voltage"
          }
         },
         "camera": {
          "up": {
           "x": 0,
           "y": 0,
           "z": 1
          },
          "center": {
           "x": 0,
           "y": 0,
           "z": 0
          },
          "eye": {
           "x": -2,
           "y": -2.5,
           "z": 1.75
          }
         }
        }
       },
       "config": {
        "plotlyServerURL": "https://plot.ly"
       }
      }
     },
     "metadata": {}
    }
   ],
   "metadata": {}
  }
 ],
 "metadata": {
  "orig_nbformat": 4,
  "language_info": {
   "name": "python",
   "version": "3.9.16",
   "mimetype": "text/x-python",
   "codemirror_mode": {
    "name": "ipython",
    "version": 3
   },
   "pygments_lexer": "ipython3",
   "nbconvert_exporter": "python",
   "file_extension": ".py"
  },
  "kernelspec": {
   "name": "python3",
   "display_name": "Python 3.9.16 64-bit ('FEGP': conda)"
  },
  "interpreter": {
   "hash": "b00f9bca1c18369f730e284e4d0522d8a3e0f0b629e30dad99ec4bb4df6f08b7"
  }
 },
 "nbformat": 4,
 "nbformat_minor": 2
}