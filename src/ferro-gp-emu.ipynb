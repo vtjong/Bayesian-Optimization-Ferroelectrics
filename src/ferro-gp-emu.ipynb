{
 "cells": [
  {
   "cell_type": "code",
   "execution_count": 1,
   "source": [
    "# Prep training data\n",
    "from copyreg import pickle\n",
    "from sklearn.preprocessing import StandardScaler\n",
    "from sklearn import preprocessing\n",
    "import sys\n",
    "from tkinter import Y\n",
    "import gzip\n",
    "import itertools\n",
    "import numpy as np\n",
    "import pandas as pd\n",
    "import pickle as pk\n",
    "import torch\n",
    "import gpytorch\n",
    "import plotly.express as px\n",
    "sys.path.append('..')\n",
    "sys.path.insert(0, '../src')"
   ],
   "outputs": [],
   "metadata": {}
  },
  {
   "cell_type": "code",
   "execution_count": 2,
   "source": [
    "from model import GPModel\n",
    "from acq_funcs import EI, PI, cust_acq, thompson\n",
    "from plotter import vis_pred, vis_acq"
   ],
   "outputs": [],
   "metadata": {}
  },
  {
   "cell_type": "markdown",
   "source": [
    "### Data Read and Pre-processing"
   ],
   "metadata": {}
  },
  {
   "cell_type": "code",
   "execution_count": 3,
   "source": [
    "# read data and display\n",
    "def read_dat(dir=\"/Users/valenetjong/Bayesian-Optimization-Ferroelectrics/data/\",\n",
    "            src_file = \"Bolometer_readings_PulseForge.xlsx\", sheet= \"Combined\"):\n",
    "    file = dir + src_file\n",
    "    fe_data = pd.read_excel(file, sheet_name=sheet, usecols=['Energy density new cone (J/cm^2)',\n",
    "                            'Time (ms)','2 Qsw/(U+|D|) 1e6cycles'])\n",
    "    fe_data.dropna(subset=['2 Qsw/(U+|D|) 1e6cycles'], inplace=True)\n",
    "    fe_data = fe_data[fe_data['2 Qsw/(U+|D|) 1e6cycles']!= 0]\n",
    "    return fe_data\n",
    "\n",
    "def display_data(fe_data):\n",
    "    \"\"\"\n",
    "    [display_data(fe_data)] creates a cross-section scatter plot of all combinations\n",
    "    of the four input parameters and single output parameter.\n",
    "    \"\"\"\n",
    "    # plot each cross-section\n",
    "    fig = px.scatter_matrix(fe_data, dimensions=['Energy density new cone (J/cm^2)', \n",
    "    \"Time (ms)\", \"2 Qsw/(U+|D|) 1e6cycles\"])\n",
    "    fig.update_layout(margin=dict(r=20, l=10, b=10, t=10))\n",
    "    fig.update_layout(height=800)\n",
    "    fig.show()"
   ],
   "outputs": [],
   "metadata": {}
  },
  {
   "cell_type": "code",
   "execution_count": 4,
   "source": [
    "fe_data = read_dat()\n",
    "# print(fe_data)\n",
    "# display_data(fe_data)"
   ],
   "outputs": [],
   "metadata": {}
  },
  {
   "cell_type": "markdown",
   "source": [
    "### Grid/Parameter Space"
   ],
   "metadata": {}
  },
  {
   "cell_type": "code",
   "execution_count": 5,
   "source": [
    "import emukit\n",
    "import GPy\n",
    "from emukit.core import ParameterSpace, ContinuousParameter, DiscreteParameter\n",
    "from emukit.core.initial_designs.random_design import RandomDesign\n",
    "from emukit.core.initial_designs.latin_design import LatinDesign"
   ],
   "outputs": [],
   "metadata": {}
  },
  {
   "cell_type": "code",
   "execution_count": 6,
   "source": [
    "time_len_min, time_len_max, time_len_step = [fe_data[\"Time (ms)\"].min(), fe_data[\"Time (ms)\"].max(), 0.1]  ## Unit: ms\n",
    "time_len_var = np.arange(time_len_min, time_len_max+time_len_step*0.1, time_len_step)\n",
    "time_len_num = len(time_len_var)\n",
    "\n",
    "e_den_min, e_den_max, e_den_step = [fe_data[\"Energy density new cone (J/cm^2)\"].min(), fe_data[\"Energy density new cone (J/cm^2)\"].max(), 0.01]  # Unit: J/cm^2\n",
    "### Give step a scaling factor of 0.1 to avoid numercial errors such as 1.7000002\n",
    "e_den_var = np.arange(e_den_min, e_den_max+e_den_step*0.1, e_den_step)\n",
    "e_den_num = len(e_den_var)\n",
    "\n",
    "var_array = [time_len_var, e_den_var]\n",
    "x_labels =  [\"Time (ms)\", \"Energy density new cone (J/cm^2)\"]\n",
    "\n",
    "def x_normalizer(X, var_array = var_array):\n",
    "    def max_min_scaler(x, x_max, x_min):\n",
    "        return (x-x_min)/(x_max-x_min)\n",
    "    x_norm = []\n",
    "    for x in (X):\n",
    "           x_norm.append([max_min_scaler(x[i], \n",
    "                         max(var_array[i]), \n",
    "                         min(var_array[i])) for i in range(len(x))])\n",
    "    return np.array(x_norm)\n",
    "\n",
    "def x_denormalizer(x_norm, var_array = var_array):\n",
    "    \n",
    "    def max_min_rescaler(x, x_max, x_min):\n",
    "        return x*(x_max-x_min)+x_min\n",
    "    x_original = []\n",
    "    for x in (x_norm):\n",
    "           x_original.append([max_min_rescaler(x[i], \n",
    "                              max(var_array[i]), \n",
    "                              min(var_array[i])) for i in range(len(x))])\n",
    "\n",
    "    return np.array(x_original)\n",
    "\n",
    "\n",
    "def get_closest_array(suggested_x):\n",
    "\n",
    "    def get_closest_value(given_value, array_list):\n",
    "        absolute_difference_function = lambda list_value : abs(list_value - given_value)\n",
    "        closest_value = min(array_list, key=absolute_difference_function)\n",
    "        return closest_value\n",
    "    \n",
    "    var_list = var_array\n",
    "    modified_array = []\n",
    "    for x in suggested_x:\n",
    "        modified_array.append([get_closest_value(x[i], var_list[i]) for i in range(len(x))])\n",
    "    return np.array(modified_array)"
   ],
   "outputs": [],
   "metadata": {}
  },
  {
   "cell_type": "code",
   "execution_count": 7,
   "source": [
    "# continuous parameter creates a grid space for grid search\n",
    "parameter_space = ParameterSpace([ContinuousParameter(\"Time (ms)\", 0-1/(time_len_num-1)/2, 1+1/(time_len_num-1)/2),\n",
    "                                  ContinuousParameter(\"Energy density new cone (J/cm^2)\", 0-1/(e_den_num-1)/2, 1+1/(e_den_num-1)/2),\n",
    "                                 ])"
   ],
   "outputs": [],
   "metadata": {}
  },
  {
   "cell_type": "markdown",
   "source": [
    "### Initialize GP Model"
   ],
   "metadata": {}
  },
  {
   "cell_type": "code",
   "execution_count": 8,
   "source": [
    "from GPy.models import GPRegression\n",
    "from emukit.model_wrappers import GPyModelWrapper\n",
    "from torch.optim import Adam as Adam\n",
    "\n",
    "x_exp = x_normalizer(fe_data.iloc[:, 0:2].values)\n",
    "y_exp = np.transpose([fe_data.iloc[:,-1].values])\n",
    "X, Y = [x_exp, y_exp]\n",
    "\n",
    "input_dim = len(X[0])\n",
    "ker = GPy.kern.Matern52(input_dim = input_dim, ARD =True)#\n",
    "ker.lengthscale.constrain_bounded(1e-2, 1)\n",
    "ker.variance.constrain_bounded(1e-2, 1000.0)\n",
    "model_gpy = GPRegression(X , -Y, ker) #emukit is a minimization tool; need to make Y negative\n",
    "model_gpy.Gaussian_noise.variance = 0.15\n",
    "model_gpy.Gaussian_noise.variance.fix()\n",
    "\n",
    "# Randomize model's hyperparameters\n",
    "model_gpy.randomize() \n",
    "print(ker.lengthscale)\n",
    "print(ker.variance)"
   ],
   "outputs": [
    {
     "output_type": "stream",
     "name": "stderr",
     "text": [
      "reconstraining parameters Mat52.lengthscale\n",
      "reconstraining parameters Mat52.variance\n"
     ]
    },
    {
     "output_type": "stream",
     "name": "stdout",
     "text": [
      "  \u001b[1mindex\u001b[0;0m  |  GP_regression.Mat52.lengthscale  |  constraints  |  priors\n",
      "  \u001b[1m[0]  \u001b[0;0m  |                       0.53146402  |   0.01,1.0    |        \n",
      "  \u001b[1m[1]  \u001b[0;0m  |                       0.41423591  |   0.01,1.0    |        \n",
      "  \u001b[1mindex\u001b[0;0m  |  GP_regression.Mat52.variance  |  constraints  |  priors\n",
      "  \u001b[1m[0]  \u001b[0;0m  |                  155.94722279  |  0.01,1000.0  |        \n"
     ]
    }
   ],
   "metadata": {}
  },
  {
   "cell_type": "markdown",
   "source": [
    "### Hyperparameter Tuning"
   ],
   "metadata": {}
  },
  {
   "cell_type": "code",
   "execution_count": 9,
   "source": [
    "model_gpy.optimize_restarts(num_restarts=30, verbose =False, messages=False) # fit to training data, select best hyperparameters out of num_restarts \n",
    "objective_model = GPyModelWrapper(model_gpy)\n",
    "print(objective_model.model.kern.lengthscale)\n",
    "print(objective_model.model.kern.variance)"
   ],
   "outputs": [
    {
     "output_type": "stream",
     "name": "stdout",
     "text": [
      "  \u001b[1mindex\u001b[0;0m  |  GP_regression.Mat52.lengthscale  |  constraints  |  priors\n",
      "  \u001b[1m[0]  \u001b[0;0m  |                       0.11406669  |   0.01,1.0    |        \n",
      "  \u001b[1m[1]  \u001b[0;0m  |                       0.04872644  |   0.01,1.0    |        \n",
      "  \u001b[1mindex\u001b[0;0m  |  GP_regression.Mat52.variance  |  constraints  |  priors\n",
      "  \u001b[1m[0]  \u001b[0;0m  |                    6.95745216  |  0.01,1000.0  |        \n"
     ]
    }
   ],
   "metadata": {}
  },
  {
   "cell_type": "markdown",
   "source": [
    "### GP Training Results"
   ],
   "metadata": {}
  },
  {
   "cell_type": "code",
   "execution_count": 10,
   "source": [
    "# get GP predictions on training set\n",
    "f_obj =  objective_model.model.predict\n",
    "y_pred, y_uncer = f_obj(X)\n",
    "y_pred = -y_pred[:,-1]  # get back non-neg outputs and get array out of embedding\n",
    "y_uncer = np.sqrt(y_uncer[:,-1])"
   ],
   "outputs": [],
   "metadata": {}
  },
  {
   "cell_type": "code",
   "execution_count": 11,
   "source": [
    "from sklearn.metrics import mean_squared_error, mean_absolute_error,r2_score\n",
    "from scipy.stats import spearmanr\n",
    "import matplotlib.pyplot as plt \n",
    "\n",
    "# plot predictions against experimental data\n",
    "fig, axes = plt.subplots(1, 3, figsize=(5.5*3, 4.5))\n",
    "fs = 14\n",
    "lims1 = (0, 5)\n",
    "axes[0].scatter(Y[:,-1], y_pred, alpha = 0.5, c = 'navy' , edgecolor = 'navy')\n",
    "axes[0].errorbar(Y[:,-1], y_pred, yerr = y_uncer, ms = 0, \n",
    "                 ls = '', capsize = 2, alpha = 0.6,\n",
    "                 color = 'gray', zorder = 0)\n",
    "axes[0].plot(lims1, lims1, 'k--', alpha=0.75, zorder=0)\n",
    "rmse_value = np.sqrt(mean_squared_error(Y[:,-1], y_pred))\n",
    "mae_value = mean_absolute_error(Y[:,-1], y_pred)\n",
    "spearman_value = spearmanr(Y[:,-1], y_pred)[0]\n",
    "rsquared_value = r2_score(Y[:,-1], y_pred)\n",
    "\n",
    "print('MAE:',np.round(mae_value,2), ' ',\n",
    "      'RMSE:', np.round(rmse_value,2), ' ',\n",
    "      'spearman:', np.round(spearman_value,3), ' ',\n",
    "      'R² score:', np.round(rsquared_value,3))\n",
    "\n",
    "title = 'GPR' + \" (MAE=%.2f\" % mae_value+' [%])'\n",
    "axes[0].set_xlabel('Ground Truth 2 Qsw/(U+|D|) 1e6', fontsize = fs)\n",
    "axes[0].set_ylabel('Prediction 2 Qsw/(U+|D|) 1e6', fontsize = fs)\n",
    "axes[0].set_title(title, fontsize = fs)\n",
    "        \n",
    "for i in range(len(axes)):\n",
    "    axes[i].tick_params(direction='in', length=5, width=1, labelsize = fs*.8, grid_alpha = 0.5)\n",
    "    axes[i].grid(True, linestyle='-.')\n",
    "plt.subplots_adjust(wspace = 0.4)\n",
    "\n",
    "axes[1].axis(\"off\")\n",
    "axes[2].axis(\"off\")\n",
    "\n",
    "plt.show()"
   ],
   "outputs": [
    {
     "output_type": "stream",
     "name": "stdout",
     "text": [
      "MAE: 0.13   RMSE: 0.19   spearman: 0.978   R² score: 0.976\n"
     ]
    },
    {
     "output_type": "display_data",
     "data": {
      "image/png": "[encoded data removed]",
      "text/plain": [
       "<Figure size 1650x450 with 3 Axes>"
      ]
     },
     "metadata": {}
    }
   ],
   "metadata": {}
  },
  {
   "cell_type": "markdown",
   "source": [
    "### GP Plots"
   ],
   "metadata": {}
  },
  {
   "cell_type": "code",
   "execution_count": 12,
   "source": [
    "# create grid for grid search\n",
    "def grid_helper(grid_size, num_params, grid_bounds):\n",
    "    \"\"\"\n",
    "    [grid_helper(grid_size, num_params, grid_bounds)] returns a grid of dimensions\n",
    "    [grid_size] by [num_params], which dictates the parameter space for GP to be \n",
    "    conducted over. \n",
    "    \"\"\"\n",
    "    grid = torch.zeros(grid_size, num_params)\n",
    "    f_grid_diff = lambda i, x, y : float((x[i][1] - x[i][0]) / (y-2))\n",
    "    for i in range(num_params):\n",
    "        grid_diff = f_grid_diff(i, grid_bounds, grid_size)\n",
    "        grid[:, i] = torch.linspace(grid_bounds[i][0] - grid_diff, \n",
    "                                    grid_bounds[i][1] + grid_diff, grid_size)\n",
    "    return grid\n",
    "\n",
    "def grid_maker(x_dat, num_points=30):\n",
    "    \"\"\"\n",
    "    [grid_maker(x_dat, num_points=30)] creates grids to be used for gaussian \n",
    "    process predictions. It outputs the dimension of the grid [num_params], \n",
    "    paramater space grid [test_grid], and [test_arr].\n",
    "    \"\"\"\n",
    "    # define grid between bounds of RTA time, RTA temp\n",
    "    num_params = x_dat.size(dim=1)\n",
    "    grid_bounds = [(x_dat[:,i].min(), x_dat[:,i].max()) for i in range(num_params)]\n",
    "\n",
    "    # set up test_grid for predictions\n",
    "    test_grid = grid_helper(num_points, num_params, grid_bounds)\n",
    "\n",
    "    # create n-D grid with n = num_params\n",
    "    args = (test_grid[:, i] for i in range(num_params))\n",
    "    test_arr = torch.cartesian_prod(*args)\n",
    "    return grid_bounds, num_params, test_grid, test_arr"
   ],
   "outputs": [],
   "metadata": {}
  },
  {
   "cell_type": "code",
   "execution_count": 13,
   "source": [
    "# print(\"X's shape:\", X.shape)\n",
    "# print(\"Y's shape:\", Y.shape)\n",
    "# print(\"Y[:,-1]'s shape:\", Y[:,-1].shape)\n",
    "\n",
    "# print(raw_test_arr.shape)\n",
    "# print(raw_test_grid.shape)"
   ],
   "outputs": [],
   "metadata": {}
  },
  {
   "cell_type": "code",
   "execution_count": 14,
   "source": [
    "# print(test_arr[:2])\n",
    "# print(f_obj(test_arr[:2].numpy()))"
   ],
   "outputs": [],
   "metadata": {}
  },
  {
   "cell_type": "code",
   "execution_count": 15,
   "source": [
    "# check objective on acqusition\n",
    "nlcb = np.array([2.8,9.05]).reshape(1,2)\n",
    "nlcb_norm = x_normalizer(nlcb)\n",
    "print(nlcb_norm)\n",
    "nlcb, _ = f_obj(nlcb_norm)\n",
    "nlcb = nlcb.reshape(1,1).T\n",
    "print(nlcb)"
   ],
   "outputs": [
    {
     "output_type": "stream",
     "name": "stdout",
     "text": [
      "[[0.51111111 0.49724626]]\n",
      "[[0.37960803]]\n"
     ]
    }
   ],
   "metadata": {}
  },
  {
   "cell_type": "code",
   "execution_count": 16,
   "source": [
    "import plotly.graph_objects as go\n",
    "import matplotlib.pyplot as plt\n",
    "import matplotlib as mpl\n",
    "\n",
    "# make, scale post_test_grid\n",
    "_, _, test_grid, test_arr = grid_maker(torch.Tensor(X))\n",
    "volt_on_grid, _ = f_obj(test_arr.numpy())\n",
    "volt_on_grid = -1 * volt_on_grid.reshape(30,30).T\n",
    "raw_test_arr = x_denormalizer(test_arr)\n",
    "raw_test_grid = x_denormalizer(test_grid)\n",
    "\n",
    "fig = go.Figure(data=[go.Scatter3d(z=Y[:,-1], \n",
    "                                    x=x_denormalizer(X)[:,0],\n",
    "                                    y=x_denormalizer(X)[:,1], \n",
    "                                    mode='markers',\n",
    "                                    marker={'color':'#72356c'},\n",
    "                                    name='Data')])\n",
    "fig.add_trace(go.Surface(z=volt_on_grid, \n",
    "                            x=raw_test_grid[:,0],\n",
    "                            y=raw_test_grid[:,1],\n",
    "                            opacity = 0.8,\n",
    "                            colorscale = \"Burg\",\n",
    "                            colorbar=dict(thickness=15, len=0.5)))\n",
    "\n",
    "fig.add_trace(go.Scatter3d(z=[3.7669], x=[1.5], y=[8.85], name = \"UCB\"))\n",
    "fig.add_trace(go.Scatter3d(z=[3.49], x=[1.17], y=[8.85], name = \"UCB2\"))\n",
    "fig.add_trace(go.Scatter3d(z=[4.07], x=[2.8], y=[9.05], name = \"NLCB\"))\n",
    "\n",
    "fig.update_layout( width=1000, height=800,\n",
    "                    legend=dict(orientation=\"h\", yanchor=\"top\", y=1.02, \n",
    "                    xanchor=\"left\",x=1), margin=dict(r=20, l=10, b=10, t=10), \n",
    "                        scene=dict(\n",
    "                        xaxis_title=\"Pulse width (μs)\",\n",
    "                        yaxis_title=\"Energy density new cone (J/cm^2)\",\n",
    "                        zaxis_title='Figure of Merit')\n",
    "                    )\n",
    "fig.update_layout(template=\"ggplot2\")\n",
    "camera = dict(up=dict(x=0, y=0, z=1), center=dict(x=0, y=0, z=0),\n",
    "                    eye=dict(x=2.75, y=1.75, z=1))\n",
    "fig.update_layout(scene_camera=camera)\n",
    "fig.show()"
   ],
   "outputs": [
    {
     "output_type": "display_data",
     "data": {
      "application/vnd.plotly.v1+json": {
       "data": [
        {
         "marker": {
          "color": "#72356c"
         },
         "mode": "markers",
         "name": "Data",
         "x": [
          0.5,
          0.5,
          1,
          1,
          1.5,
          1.5,
          5,
          5,
          0.5,
          5,
          2,
          0.5,
          0.5,
          0.5,
          1,
          1,
          2,
          2,
          2,
          2,
          5,
          5,
          5
         ],
         "y": [
          2.73,
          3.4,
          3.79,
          6.44,
          5.36,
          8.99,
          8.8,
          14.67,
          5.24,
          14.89,
          10.13,
          4.51,
          5.37,
          4.88,
          6.76,
          7.77,
          8.73,
          9.38,
          10.48,
          11.01,
          14.71,
          15.440000000000001,
          13.37
         ],
         "z": [
          0.8730257299654021,
          2.677244640050493,
          1.6990152147413928,
          3.8050528055652655,
          3.3348561928152627,
          4.535152817359003,
          1.3625102372531497,
          3.841290609056986,
          1.2013569985324948,
          3.5136521918176413,
          3.4708714822041062,
          0.2632982379553876,
          2.7753404356378253,
          2.5913062464887977,
          2.579984359259049,
          3.1738185691110727,
          0.1315049942519029,
          0.4511637114621348,
          2.126639748505365,
          3.468212840642842,
          3.685852431471957,
          3.445655582638384,
          2.651546836022379
         ],
         "type": "scatter3d"
        },
        {
         "colorbar": {
          "len": 0.5,
          "thickness": 15
         },
         "colorscale": [
          [
           0,
           "rgb(255, 198, 196)"
          ],
          [
           0.16666666666666666,
           "rgb(244, 163, 168)"
          ],
          [
           0.3333333333333333,
           "rgb(227, 129, 145)"
          ],
          [
           0.5,
           "rgb(204, 96, 125)"
          ],
          [
           0.6666666666666666,
           "rgb(173, 70, 108)"
          ],
          [
           0.8333333333333334,
           "rgb(139, 48, 88)"
          ],
          [
           1,
           "rgb(103, 32, 68)"
          ]
         ],
         "opacity": 0.8,
         "x": [
          0.3392857015132904,
          0.5055418610572815,
          0.6717979907989502,
          0.8380541801452637,
          1.0043103694915771,
          1.1705665588378906,
          1.3368226289749146,
          1.503078818321228,
          1.669334888458252,
          1.8355910778045654,
          2.001847267150879,
          2.1681032180786133,
          2.334359645843506,
          2.5006155967712402,
          2.666872024536133,
          2.833127975463867,
          2.9993844032287598,
          3.165640354156494,
          3.3318967819213867,
          3.498152494430542,
          3.6644086837768555,
          3.830664873123169,
          3.9969210624694824,
          4.163177490234375,
          4.329433441162109,
          4.495689392089844,
          4.661945819854736,
          4.828201770782471,
          4.994458198547363,
          5.160714149475098
         ],
         "y": [
          2.276071548461914,
          2.745652675628662,
          3.2152340412139893,
          3.6848151683807373,
          4.1543965339660645,
          4.6239776611328125,
          5.093559265136719,
          5.563140392303467,
          6.032721519470215,
          6.502303123474121,
          6.971883773803711,
          7.441465377807617,
          7.911046504974365,
          8.38062858581543,
          8.85020923614502,
          9.319790840148926,
          9.789371490478516,
          10.258953094482422,
          10.728534698486328,
          11.198116302490234,
          11.667695999145508,
          12.137277603149414,
          12.60685920715332,
          13.076440811157227,
          13.546022415161133,
          14.015602111816406,
          14.485183715820312,
          14.954765319824219,
          15.424346923828125,
          15.893928527832031
         ],
         "z": [
          [
           0.15390916449794417,
           0.16126348210025257,
           0.17545816620487753,
           0.18800191329316876,
           0.1878871396813717,
           0.17246381992274246,
           0.1463699826309043,
           0.11625942755929193,
           0.0874194183723609,
           0.06282460225069308,
           0.04348682690687018,
           0.02917754165829682,
           0.019076050861340232,
           0.012206220879785094,
           0.007671992002011993,
           0.004750817832289301,
           0.002905440275690863,
           0.0017582068796492983,
           0.0010543498220839155,
           0.0006272497951661196,
           0.0003705036791635045,
           0.00021741916148820426,
           0.0001268062032923269,
           0.00007352846664484415,
           0.00004239840390866299,
           0.000024317428746075885,
           0.00001387597728705318,
           0.000007879836355708343,
           0.0000044551169494964844,
           0.000002509303507259181
          ],
          [
           0.8643319802690193,
           0.93025196074138,
           0.9362756567334792,
           0.8722817797795006,
           0.7517336675675661,
           0.6058337074799964,
           0.46177924602257536,
           0.3358586168926631,
           0.23476822359271307,
           0.15872244770259175,
           0.10438977041791707,
           0.06713169065802257,
           0.04239899868462083,
           0.026393734922004645,
           0.016239530132814005,
           0.009896024954620155,
           0.005980979743413777,
           0.0035883571812843156,
           0.002138232705371334,
           0.0012658018630970873,
           0.0007445242175679078,
           0.00043512880626122197,
           0.00025269867108116713,
           0.00014583760092876956,
           0.00008365319655677285,
           0.00004770344225391307,
           0.000027054723941842836,
           0.000015269596644914812,
           0.000008584363670494404,
           0.000004813940271716595
          ],
          [
           2.1427074572803697,
           2.410379390369572,
           2.34279875998404,
           2.040185889217933,
           1.6563625339889325,
           1.2756049613784641,
           0.9368622484941985,
           0.6595095857036442,
           0.448200789742671,
           0.2963373249400535,
           0.19192509402833927,
           0.12241057170246394,
           0.07717042237070992,
           0.04819448137351526,
           0.029849313049602415,
           0.018340266371147516,
           0.011178162964251965,
           0.006756434255348157,
           0.004048925682209452,
           0.002405328404173147,
           0.0014165019365774056,
           0.0008270409861830571,
           0.0004788742602769353,
           0.00027509107238413903,
           0.00015686804700534238,
           0.00008886392075740151,
           0.00005006277473351281,
           0.00002809186991904223,
           0.000015737454541160247,
           0.000008832619489947178
          ],
          [
           1.6565531858289322,
           1.9506616821658693,
           2.053937688454094,
           1.9979208370792116,
           1.8185262321258324,
           1.5236658972844226,
           1.1821535564041998,
           0.8677137586758421,
           0.6136556050205526,
           0.4232850383287031,
           0.28676032511988775,
           0.1913867902555253,
           0.12592578727510204,
           0.08165289702433487,
           0.05214939770637326,
           0.03279651536537668,
           0.020312166450117214,
           0.01239476173313889,
           0.007457426996117693,
           0.0044278684545278005,
           0.002597040035714721,
           0.0015062140444720546,
           0.0008647399679946719,
           0.0004920206081573844,
           0.00027782947036302826,
           0.0001559719587610965,
           0.00008727515423927576,
           0.00004886050492640291,
           0.00002752486955552538,
           0.0000157314896407217
          ],
          [
           -0.06101745570513165,
           0.02379306006111152,
           0.3399323096733818,
           0.7435730172245498,
           1.0357771196756864,
           1.134303755767871,
           1.0749722377040831,
           0.931518216246848,
           0.7597930281688823,
           0.5909092711570785,
           0.44050363940864745,
           0.3156688536472698,
           0.218070291995699,
           0.14570435172499688,
           0.09449371625289386,
           0.059691678185601935,
           0.03684880571960758,
           0.022294637299806637,
           0.013254290820682375,
           0.007759991436016863,
           0.004483008108148835,
           0.0025601632097954708,
           0.001447900245536453,
           0.0008125857011717109,
           0.00045375733541313146,
           0.00025311471505372167,
           0.0001419107376912678,
           0.00008072161749060697,
           0.00004720418654763143,
           0.000028832138173823746
          ],
          [
           0.9311318141690434,
           1.130724487428752,
           1.2752703286374407,
           1.3750126922311916,
           1.4656948637375953,
           1.539135747231554,
           1.5573481582984268,
           1.4854449120160758,
           1.3162579130771759,
           1.07942659104449,
           0.8238710297133608,
           0.5912685652619636,
           0.40332451247499385,
           0.26398090433001536,
           0.1670586374265878,
           0.10284159603065589,
           0.06187677684161293,
           0.03652290367186614,
           0.021211915014852263,
           0.01215201827960027,
           0.006882176296524452,
           0.0038616592994014545,
           0.0021525489262924713,
           0.001196571354042246,
           0.0006674647535980643,
           0.0003774326096585924,
           0.00021975775075916182,
           0.00013446513420626503,
           0.00008819473957815295,
           0.00006259266237923416
          ],
          [
           1.6384413884066549,
           1.8662742266712418,
           2.1173561708551243,
           2.3155544160865538,
           2.482642862264312,
           2.661962405290026,
           2.7962518266965133,
           2.7441162230942386,
           2.4217502485313687,
           1.9234579801236857,
           1.4051922069038472,
           0.9641240490730657,
           0.6308403734524386,
           0.39790101156542607,
           0.2437958128714128,
           0.14591245271628803,
           0.08566063878163041,
           0.04948698851878794,
           0.028207417041217944,
           0.015901360933431766,
           0.008888594052437896,
           0.004944433228332977,
           0.0027532813262710677,
           0.001550793723232881,
           0.0008992119581335175,
           0.0005507005672965017,
           0.00036626785629875855,
           0.0002686196263524988,
           0.00021520767864376496,
           0.0001830131143428958
          ],
          [
           2.621868388818018,
           3.1174902410164957,
           3.306173683223517,
           3.349968834788252,
           3.399199543918688,
           3.467578158357433,
           3.4792213420785627,
           3.2900813027057754,
           2.820088941567829,
           2.1897534671881944,
           1.5724378384857263,
           1.0646315707839107,
           0.6893102321641585,
           0.4310740471569611,
           0.26224042206855225,
           0.15599665399044768,
           0.09109831379516682,
           0.05239298300027968,
           0.02976455067484334,
           0.01676223574989604,
           0.009409665241204308,
           0.0053188844881568624,
           0.003084713149976246,
           0.0018931121575613188,
           0.0012776807904733192,
           0.0009728917467336472,
           0.0008279796164927457,
           0.0007576357589512497,
           0.0007143796031287849,
           0.0006732237577567079
          ],
          [
           2.6481319608840352,
           3.236116081808003,
           3.6840724528120172,
           3.944737738467874,
           3.9681239452215933,
           3.7292305365405647,
           3.2940788556129244,
           2.7603962945488862,
           2.197802919205816,
           1.6593799195660075,
           1.1895738360769388,
           0.813770414325933,
           0.53468800839621,
           0.33956176036520247,
           0.20956239063383925,
           0.12625624953062345,
           0.07455104963381566,
           0.04331762487011825,
           0.02490242087952104,
           0.01430012390381838,
           0.008359267719809143,
           0.0051525643684674684,
           0.003525764271401315,
           0.002795113995547559,
           0.002554294832402102,
           0.0025569299652558474,
           0.0026490391426392344,
           0.0027330830937969787,
           0.002750504039737602,
           0.0026733941788739126
          ],
          [
           1.8458438367529528,
           2.3838286549405607,
           2.9342416383096293,
           3.386171267914865,
           3.539297597289291,
           3.2588770126804762,
           2.713336369682181,
           2.1154373339010473,
           1.5762635875136666,
           1.133139766181945,
           0.7886215679713673,
           0.5319841327269796,
           0.34813957935313194,
           0.2212998447641064,
           0.13688659322904417,
           0.08260091770912051,
           0.04882126251767417,
           0.028490142252851482,
           0.0167092094441452,
           0.010237245192459481,
           0.007015145476316784,
           0.00577467117795015,
           0.005742828030376997,
           0.006432620578531266,
           0.007504974715617996,
           0.008688505516801195,
           0.00974629843075865,
           0.01047830067682545,
           0.01074395539051619,
           0.010486300442609483
          ],
          [
           1.2054638137394427,
           1.5489719022530737,
           1.8648031365769984,
           2.078592247087952,
           2.14034981102798,
           2.0432300136494157,
           1.7989729786074344,
           1.4626780833649198,
           1.10992917984626,
           0.7949853296827535,
           0.5417443638644855,
           0.35276473320437446,
           0.21985870001430868,
           0.13114970543327914,
           0.07483693220234744,
           0.040896399015456074,
           0.02162564874984131,
           0.011566312637059116,
           0.0071296951149722124,
           0.006130590732452447,
           0.007345301751982274,
           0.01014104966576652,
           0.01418103978870556,
           0.01919430249932891,
           0.024807024311595142,
           0.030451329474466188,
           0.03537968294197734,
           0.038798444222143486,
           0.040084676318969,
           0.038993106205958625
          ],
          [
           1.1259999468736983,
           1.5488297801128805,
           2.003775126746806,
           2.3850082156307297,
           2.5456262297896832,
           2.4052018669408595,
           2.037254535504372,
           1.5800144138571453,
           1.1363357236078242,
           0.7588293651776055,
           0.4661961647033064,
           0.2577770317022117,
           0.12212104057636021,
           0.042625794237835524,
           0.0020374856095673817,
           -0.014365745421947474,
           -0.01732083418665691,
           -0.013597497907916478,
           -0.006805362338393094,
           0.0016163323158316625,
           0.01154586948659601,
           0.023530177956096365,
           0.03827040400248946,
           0.05614134715513999,
           0.07670289698253566,
           0.09829683598637594,
           0.11798213297845404,
           0.13210213330828804,
           0.13750416700886336,
           0.13288886530966454
          ],
          [
           1.1690595621861013,
           1.6870179894100839,
           2.2904195730997943,
           2.8532366368304345,
           3.155358023944201,
           3.041599078964919,
           2.6076580447931836,
           2.0257277478121143,
           1.4155285180951789,
           0.8572569214932111,
           0.409571738568693,
           0.10284392007983517,
           -0.06887933729602225,
           -0.13838086070149477,
           -0.14555306269420076,
           -0.12284204746282527,
           -0.09062984114920582,
           -0.05887728896375548,
           -0.030606612752976246,
           -0.004910811038130838,
           0.021103585892438197,
           0.05121677514844633,
           0.08935078433628449,
           0.13865430200050033,
           0.19999905600593026,
           0.2698652013358956,
           0.3385330528163279,
           0.39080187018573775,
           0.41141858662380454,
           0.3935340795689295
          ],
          [
           0.9751086141311204,
           1.4101130450423018,
           1.9323669021924457,
           2.480826073224346,
           2.9530194380641652,
           3.2291382069429124,
           3.196054681754388,
           2.775597576070663,
           1.9993784953585747,
           1.0627627516257394,
           0.24391000780630087,
           -0.2697230612824027,
           -0.4768707529849865,
           -0.48439292804886097,
           -0.4000447467892022,
           -0.29300335134239364,
           -0.19618360150871872,
           -0.1193459061805057,
           -0.06043928297506732,
           -0.01245903247304619,
           0.03338199145762606,
           0.08665058214474532,
           0.15748654488512484,
           0.2559508991354246,
           0.3895641523120563,
           0.5575476747151014,
           0.7413511966819933,
           0.896361230415774,
           0.9617564388630028,
           0.9044566613116004
          ],
          [
           0.7582079640583398,
           1.1401571894673317,
           1.6621669358385993,
           2.336118423674534,
           3.1335193988588235,
           3.9333980657683902,
           4.451626903444619,
           4.251943169691999,
           3.1281387511969982,
           1.5388908590227388,
           0.16390364732583948,
           -0.6071055504778596,
           -0.831948912226058,
           -0.7545996066207622,
           -0.5728141842213069,
           -0.3909964681325138,
           -0.2464130194981354,
           -0.14215344247646045,
           -0.06820327644913092,
           -0.011337238849828605,
           0.04163820159458693,
           0.10372994370151478,
           0.18851653455130218,
           0.31030543422829177,
           0.4820313918365285,
           0.7085458900182825,
           0.9726609356641511,
           1.2148978379974715,
           1.326379751554343,
           1.2280466925453084
          ],
          [
           0.5561957614762872,
           0.859954503114036,
           1.2928248583052981,
           1.8726781341962266,
           2.575969996804599,
           3.288073525406646,
           3.755548875981442,
           3.637889306147499,
           2.7890006359133794,
           1.5123334487644926,
           0.3746365985625589,
           -0.23174256366338586,
           -0.39653532431814964,
           -0.35672712231325315,
           -0.2606632365727081,
           -0.17001875056432678,
           -0.10108695560205691,
           -0.05220996253624278,
           -0.016411541359485,
           0.014072393090352709,
           0.04679653745718153,
           0.08933517125561621,
           0.14955816101038913,
           0.2350876061843157,
           0.35097243268271705,
           0.49463577181885954,
           0.6484411990538629,
           0.7749124583673617,
           0.8272008132567029,
           0.781247805556954
          ],
          [
           0.349309062312366,
           0.535636731627611,
           0.7956385196006103,
           1.1358599754498306,
           1.543805653299461,
           1.9776604317292625,
           2.3685815982441647,
           2.646573138880995,
           2.7726003371118337,
           2.7262959814835286,
           2.4625259494178335,
           1.9811768033343764,
           1.4235986944194403,
           0.9411296447715896,
           0.589402102717879,
           0.3573755300808503,
           0.2136418763857141,
           0.12896716191330998,
           0.08234223741151545,
           0.06056526707796017,
           0.05626783795457981,
           0.06600883343955018,
           0.08866702202189165,
           0.12390128876734345,
           0.17041203826397777,
           0.22404531007090644,
           0.2764728167398325,
           0.3159506732259023,
           0.3313005340436484,
           0.3175940723630622
          ],
          [
           0.19874064100271754,
           0.30336825408260565,
           0.45122056523599036,
           0.6522582235151545,
           0.9146162513659404,
           1.242836260416126,
           1.635469049630266,
           2.0786423470269293,
           2.529104261480552,
           2.8841797349082303,
           2.963563947054841,
           2.649208805969379,
           2.1026937604896556,
           1.5313110299760075,
           1.0464523708218645,
           0.6816327277660682,
           0.4283997901869256,
           0.2628454123958863,
           0.15997800314332486,
           0.09947704476640987,
           0.06681124864174671,
           0.052397752350158644,
           0.05019202023283058,
           0.05629289314190863,
           0.06776673807080186,
           0.08179819445044388,
           0.09530255845411287,
           0.10512179715906109,
           0.10873245585087024,
           0.10506413420966548
          ],
          [
           0.12021306608915272,
           0.18868750323580216,
           0.291423381729094,
           0.44195341023029333,
           0.655816219570137,
           0.946701088682572,
           1.317177701861921,
           1.7424744475975609,
           2.1534615666240526,
           2.443300063144264,
           2.525155009007188,
           2.3788306465764815,
           2.0347500354693415,
           1.5876885001795318,
           1.1470382116480269,
           0.7798046870032113,
           0.505859071496743,
           0.31682358282854906,
           0.19381138354287908,
           0.11758165417139091,
           0.07258440527169681,
           0.04764646766888236,
           0.035264940246523824,
           0.030557578855659368,
           0.030319749346696023,
           0.032337462096465486,
           0.03497694601856547,
           0.037013499924640994,
           0.037622429779419216,
           0.036426434659751115
          ],
          [
           0.08248081975286911,
           0.13524573499079684,
           0.21948943810485802,
           0.35169444216574774,
           0.5544046025016791,
           0.8553654420496665,
           1.2818777981802474,
           1.8444341857470048,
           2.500408359411797,
           3.095537231898819,
           3.346113880797919,
           3.070496789111634,
           2.458978030400624,
           1.7950479889654773,
           1.230640366355886,
           0.8066136059029202,
           0.5111570045630681,
           0.3158433143469546,
           0.19197122482887857,
           0.11628471271640312,
           0.07187148982983803,
           0.04721830052462966,
           0.03480369424436026,
           0.02980103312394656,
           0.029076965693238407,
           0.03050822813673101,
           0.03257869103717748,
           0.03419429742738255,
           0.03463750496413257,
           0.03357447521352422
          ],
          [
           0.055417512563750736,
           0.09212196127973206,
           0.15100044938250778,
           0.2430879369281398,
           0.3822839361852387,
           0.5830136912446705,
           0.8537409913952407,
           1.1844339433478823,
           1.5301228625257262,
           1.8043551573091272,
           1.9082375600997785,
           1.7966435762430637,
           1.517003559453404,
           1.168941186593087,
           0.8383699567268597,
           0.5694578168241067,
           0.37168886009155844,
           0.23637005642574188,
           0.14909331566184927,
           0.09615172184667546,
           0.06681518136658714,
           0.05349648390263069,
           0.05107355873109515,
           0.05600234608817661,
           0.06550825083940462,
           0.07701117649026515,
           0.08789591519985542,
           0.09567718027386718,
           0.09846447060265716,
           0.09545825505827606
          ],
          [
           0.03157726850513306,
           0.05141950724946257,
           0.0820177151753235,
           0.12754497862268185,
           0.19224743388139465,
           0.27887038753467597,
           0.3860050258815189,
           0.5049033789986132,
           0.61769281699681,
           0.7000440033904626,
           0.7298618185426873,
           0.6982670863642553,
           0.6146842365726344,
           0.5015522101254737,
           0.3833274321565242,
           0.2779418502672399,
           0.1943138475053364,
           0.1342637977806426,
           0.09577959404539972,
           0.0757136200358143,
           0.07134422427391449,
           0.08091869085140256,
           0.10343169514717028,
           0.1378285690754667,
           0.18181273036045853,
           0.23063017695512156,
           0.27656734991935444,
           0.3100796547618914,
           0.32282034871588267,
           0.3112490853540785
          ],
          [
           0.014799958599910073,
           0.02322123224516776,
           0.03552158024866633,
           0.0527449861076468,
           0.07564493371579926,
           0.10419860037233927,
           0.13702832545690483,
           0.1709808615227904,
           0.20125349440984375,
           0.22237996198618287,
           0.22995256396908056,
           0.22233963693512435,
           0.20141372885450373,
           0.1718365683434234,
           0.13938522151654797,
           0.10931893675695718,
           0.08552906385379469,
           0.07059545492766253,
           0.0664379786757528,
           0.07516194056943293,
           0.09978794389174932,
           0.14462096825482199,
           0.21494573742047327,
           0.3155525840125586,
           0.44748794043447304,
           0.6028871362222018,
           0.7596518007705293,
           0.881398890543375,
           0.9297968275581768,
           0.8870343254876644
          ],
          [
           0.005852680365346249,
           0.008816213772219616,
           0.012919093573120313,
           0.018350376004178794,
           0.02516780031086801,
           0.03319581080802266,
           0.04193768565723002,
           0.05055332603361883,
           0.057954770971930684,
           0.0630362843321533,
           0.0649879194220768,
           0.06357822219876576,
           0.05928639243027709,
           0.05323862864216,
           0.047015495735679244,
           0.04247295003006246,
           0.04171794500111903,
           0.04732119228656935,
           0.06278308015611274,
           0.09321864279614223,
           0.14617278958821334,
           0.23235347665305706,
           0.36579043320750054,
           0.5623767009086602,
           0.8348823069067522,
           1.1816517699629423,
           1.56698508991399,
           1.8995006268261858,
           2.0428084799238975,
           1.9163578910121786
          ],
          [
           0.0020241100624640023,
           0.0029340994015293158,
           0.004135848836342767,
           0.005653301802912934,
           0.007472495085426916,
           0.009524903939437116,
           0.011678592036612015,
           0.013745512222439945,
           0.015511014324978027,
           0.01678514198725596,
           0.017466911302775796,
           0.017607765180967624,
           0.01746404961848669,
           0.017542050391756762,
           0.018658314416158676,
           0.022055425560651265,
           0.029623722713468373,
           0.04428100786818961,
           0.0705527698684369,
           0.11536306374405553,
           0.188960906583658,
           0.30570821233713874,
           0.4840644977573913,
           0.7444272160323349,
           1.1025504469799985,
           1.5554806558881606,
           2.0578940815822753,
           2.4946476946604106,
           2.6858587709681956,
           2.51709919732806
          ],
          [
           0.0006319579136092454,
           0.0008856408376207693,
           0.0012079381326675204,
           0.0016003357287358562,
           0.0020558718356815673,
           0.0025574164495360233,
           0.003078472762836074,
           0.0035880566189226346,
           0.004060926371236206,
           0.004493960305543061,
           0.004929387934189023,
           0.005486782167602502,
           0.006409046630545508,
           0.008133594827957282,
           0.01140834739450853,
           0.017482405496212376,
           0.028411624171490513,
           0.04752575974048541,
           0.08009631798004643,
           0.13420007824741007,
           0.22164953801140305,
           0.3585816331392072,
           0.5647745106192287,
           0.8599498610370804,
           1.2545083852522998,
           1.7326340046769082,
           2.2308833634401406,
           2.6298046620589854,
           2.791703654704375,
           2.6492939927206294
          ],
          [
           0.00018296132759420086,
           0.00024944944375117985,
           0.00033177369624091344,
           0.0004301947224446503,
           0.000543895283673831,
           0.0006714958963766578,
           0.0008126492411331838,
           0.0009713867450517764,
           0.0011621885757837668,
           0.0014203118353733862,
           0.0018190017338110143,
           0.002498220086239524,
           0.0037129297249013393,
           0.005914376809847412,
           0.009885724668188314,
           0.016964093147846353,
           0.029393671190874413,
           0.05086538810487328,
           0.08729756971836719,
           0.14787654252189858,
           0.24626412686414406,
           0.40161434632778403,
           0.6385342930084499,
           0.9842737073050075,
           1.460282878446132,
           2.0642613472275766,
           2.739337755900857,
           3.334429378870008,
           3.5991420683547073,
           3.365403487622696
          ],
          [
           0.00005051712685603767,
           0.00006773439160347351,
           0.00008914454456781941,
           0.0001154583445164382,
           0.0001478997010910779,
           0.00018897655716501415,
           0.0002439969832000775,
           0.00032388751068141434,
           0.0004502739467564911,
           0.0006644975886745611,
           0.0010434770954117771,
           0.0017274281059422565,
           0.002967886039265344,
           0.005209918601454701,
           0.009230561268685197,
           0.016366930253423978,
           0.028881638679071807,
           0.05052659085051601,
           0.08736843243767117,
           0.14890454468661954,
           0.24937592490605642,
           0.40887192814606166,
           0.6531809804316637,
           1.0102045974822949,
           1.4992261705149537,
           2.1086167347759233,
           2.7621980061608573,
           3.2959354939076833,
           3.511563783458157,
           3.3220742741205087
          ],
          [
           0.000013915646507237905,
           0.0000188043163888847,
           0.00002533873041342443,
           0.00003435174225992214,
           0.00004741358122055265,
           0.0000675342045194444,
           0.00010046774682042317,
           0.0001570976829948682,
           0.00025774970164504625,
           0.0004399208142623804,
           0.0007720098581668665,
           0.0013774771012328463,
           0.002476857509677462,
           0.004459806865111934,
           0.008006517934591523,
           0.014287981680374155,
           0.025287399382149238,
           0.04429791856907554,
           0.07665641185946799,
           0.13074896694449406,
           0.21923017683465412,
           0.36015580653408147,
           0.5772290585331252,
           0.897470115299756,
           1.3433549536651992,
           1.915343177567018,
           2.5614532967002814,
           3.1381093831277127,
           3.3994982352606233,
           3.168436323352239
          ],
          [
           0.000004171687093246099,
           0.000005959872078045791,
           0.000008707269510748222,
           0.000013133004817426107,
           0.00002058635827511086,
           0.00003359499061412332,
           0.00005686766941261726,
           0.00009911225330187884,
           0.00017630388177948818,
           0.00031750862099612094,
           0.000575158508757201,
           0.0010429792060629697,
           0.0018868515695727767,
           0.003397112814087658,
           0.006075508200817689,
           0.010776385005164072,
           0.018929215554621175,
           0.032875750750329016,
           0.05635355159755255,
           0.0951337236908207,
           0.15774638143410277,
           0.2560500047599265,
           0.40505143622845724,
           0.6207790535447766,
           0.914204304054266,
           1.2787828881723997,
           1.6714330177363161,
           1.9975627118506931,
           2.1335905491191984,
           2.0138301875695217
          ]
         ],
         "type": "surface"
        },
        {
         "name": "UCB",
         "x": [
          1.5
         ],
         "y": [
          8.85
         ],
         "z": [
          3.7669
         ],
         "type": "scatter3d"
        },
        {
         "name": "UCB2",
         "x": [
          1.17
         ],
         "y": [
          8.85
         ],
         "z": [
          3.49
         ],
         "type": "scatter3d"
        },
        {
         "name": "NLCB",
         "x": [
          2.8
         ],
         "y": [
          9.05
         ],
         "z": [
          4.07
         ],
         "type": "scatter3d"
        }
       ],
       "layout": {
        "template": {
         "data": {
          "barpolar": [
           {
            "marker": {
             "line": {
              "color": "rgb(237,237,237)",
              "width": 0.5
             },
             "pattern": {
              "fillmode": "overlay",
              "size": 10,
              "solidity": 0.2
             }
            },
            "type": "barpolar"
           }
          ],
          "bar": [
           {
            "error_x": {
             "color": "rgb(51,51,51)"
            },
            "error_y": {
             "color": "rgb(51,51,51)"
            },
            "marker": {
             "line": {
              "color": "rgb(237,237,237)",
              "width": 0.5
             },
             "pattern": {
              "fillmode": "overlay",
              "size": 10,
              "solidity": 0.2
             }
            },
            "type": "bar"
           }
          ],
          "carpet": [
           {
            "aaxis": {
             "endlinecolor": "rgb(51,51,51)",
             "gridcolor": "white",
             "linecolor": "white",
             "minorgridcolor": "white",
             "startlinecolor": "rgb(51,51,51)"
            },
            "baxis": {
             "endlinecolor": "rgb(51,51,51)",
             "gridcolor": "white",
             "linecolor": "white",
             "minorgridcolor": "white",
             "startlinecolor": "rgb(51,51,51)"
            },
            "type": "carpet"
           }
          ],
          "choropleth": [
           {
            "colorbar": {
             "outlinewidth": 0,
             "tickcolor": "rgb(237,237,237)",
             "ticklen": 6,
             "ticks": "inside"
            },
            "type": "choropleth"
           }
          ],
          "contourcarpet": [
           {
            "colorbar": {
             "outlinewidth": 0,
             "tickcolor": "rgb(237,237,237)",
             "ticklen": 6,
             "ticks": "inside"
            },
            "type": "contourcarpet"
           }
          ],
          "contour": [
           {
            "colorbar": {
             "outlinewidth": 0,
             "tickcolor": "rgb(237,237,237)",
             "ticklen": 6,
             "ticks": "inside"
            },
            "colorscale": [
             [
              0,
              "rgb(20,44,66)"
             ],
             [
              1,
              "rgb(90,179,244)"
             ]
            ],
            "type": "contour"
           }
          ],
          "heatmapgl": [
           {
            "colorbar": {
             "outlinewidth": 0,
             "tickcolor": "rgb(237,237,237)",
             "ticklen": 6,
             "ticks": "inside"
            },
            "colorscale": [
             [
              0,
              "rgb(20,44,66)"
             ],
             [
              1,
              "rgb(90,179,244)"
             ]
            ],
            "type": "heatmapgl"
           }
          ],
          "heatmap": [
           {
            "colorbar": {
             "outlinewidth": 0,
             "tickcolor": "rgb(237,237,237)",
             "ticklen": 6,
             "ticks": "inside"
            },
            "colorscale": [
             [
              0,
              "rgb(20,44,66)"
             ],
             [
              1,
              "rgb(90,179,244)"
             ]
            ],
            "type": "heatmap"
           }
          ],
          "histogram2dcontour": [
           {
            "colorbar": {
             "outlinewidth": 0,
             "tickcolor": "rgb(237,237,237)",
             "ticklen": 6,
             "ticks": "inside"
            },
            "colorscale": [
             [
              0,
              "rgb(20,44,66)"
             ],
             [
              1,
              "rgb(90,179,244)"
             ]
            ],
            "type": "histogram2dcontour"
           }
          ],
          "histogram2d": [
           {
            "colorbar": {
             "outlinewidth": 0,
             "tickcolor": "rgb(237,237,237)",
             "ticklen": 6,
             "ticks": "inside"
            },
            "colorscale": [
             [
              0,
              "rgb(20,44,66)"
             ],
             [
              1,
              "rgb(90,179,244)"
             ]
            ],
            "type": "histogram2d"
           }
          ],
          "histogram": [
           {
            "marker": {
             "pattern": {
              "fillmode": "overlay",
              "size": 10,
              "solidity": 0.2
             }
            },
            "type": "histogram"
           }
          ],
          "mesh3d": [
           {
            "colorbar": {
             "outlinewidth": 0,
             "tickcolor": "rgb(237,237,237)",
             "ticklen": 6,
             "ticks": "inside"
            },
            "type": "mesh3d"
           }
          ],
          "parcoords": [
           {
            "line": {
             "colorbar": {
              "outlinewidth": 0,
              "tickcolor": "rgb(237,237,237)",
              "ticklen": 6,
              "ticks": "inside"
             }
            },
            "type": "parcoords"
           }
          ],
          "pie": [
           {
            "automargin": true,
            "type": "pie"
           }
          ],
          "scatter3d": [
           {
            "line": {
             "colorbar": {
              "outlinewidth": 0,
              "tickcolor": "rgb(237,237,237)",
              "ticklen": 6,
              "ticks": "inside"
             }
            },
            "marker": {
             "colorbar": {
              "outlinewidth": 0,
              "tickcolor": "rgb(237,237,237)",
              "ticklen": 6,
              "ticks": "inside"
             }
            },
            "type": "scatter3d"
           }
          ],
          "scattercarpet": [
           {
            "marker": {
             "colorbar": {
              "outlinewidth": 0,
              "tickcolor": "rgb(237,237,237)",
              "ticklen": 6,
              "ticks": "inside"
             }
            },
            "type": "scattercarpet"
           }
          ],
          "scattergeo": [
           {
            "marker": {
             "colorbar": {
              "outlinewidth": 0,
              "tickcolor": "rgb(237,237,237)",
              "ticklen": 6,
              "ticks": "inside"
             }
            },
            "type": "scattergeo"
           }
          ],
          "scattergl": [
           {
            "marker": {
             "colorbar": {
              "outlinewidth": 0,
              "tickcolor": "rgb(237,237,237)",
              "ticklen": 6,
              "ticks": "inside"
             }
            },
            "type": "scattergl"
           }
          ],
          "scattermapbox": [
           {
            "marker": {
             "colorbar": {
              "outlinewidth": 0,
              "tickcolor": "rgb(237,237,237)",
              "ticklen": 6,
              "ticks": "inside"
             }
            },
            "type": "scattermapbox"
           }
          ],
          "scatterpolargl": [
           {
            "marker": {
             "colorbar": {
              "outlinewidth": 0,
              "tickcolor": "rgb(237,237,237)",
              "ticklen": 6,
              "ticks": "inside"
             }
            },
            "type": "scatterpolargl"
           }
          ],
          "scatterpolar": [
           {
            "marker": {
             "colorbar": {
              "outlinewidth": 0,
              "tickcolor": "rgb(237,237,237)",
              "ticklen": 6,
              "ticks": "inside"
             }
            },
            "type": "scatterpolar"
           }
          ],
          "scatter": [
           {
            "fillpattern": {
             "fillmode": "overlay",
             "size": 10,
             "solidity": 0.2
            },
            "type": "scatter"
           }
          ],
          "scatterternary": [
           {
            "marker": {
             "colorbar": {
              "outlinewidth": 0,
              "tickcolor": "rgb(237,237,237)",
              "ticklen": 6,
              "ticks": "inside"
             }
            },
            "type": "scatterternary"
           }
          ],
          "surface": [
           {
            "colorbar": {
             "outlinewidth": 0,
             "tickcolor": "rgb(237,237,237)",
             "ticklen": 6,
             "ticks": "inside"
            },
            "colorscale": [
             [
              0,
              "rgb(20,44,66)"
             ],
             [
              1,
              "rgb(90,179,244)"
             ]
            ],
            "type": "surface"
           }
          ],
          "table": [
           {
            "cells": {
             "fill": {
              "color": "rgb(237,237,237)"
             },
             "line": {
              "color": "white"
             }
            },
            "header": {
             "fill": {
              "color": "rgb(217,217,217)"
             },
             "line": {
              "color": "white"
             }
            },
            "type": "table"
           }
          ]
         },
         "layout": {
          "annotationdefaults": {
           "arrowhead": 0,
           "arrowwidth": 1
          },
          "autotypenumbers": "strict",
          "coloraxis": {
           "colorbar": {
            "outlinewidth": 0,
            "tickcolor": "rgb(237,237,237)",
            "ticklen": 6,
            "ticks": "inside"
           }
          },
          "colorscale": {
           "sequential": [
            [
             0,
             "rgb(20,44,66)"
            ],
            [
             1,
             "rgb(90,179,244)"
            ]
           ],
           "sequentialminus": [
            [
             0,
             "rgb(20,44,66)"
            ],
            [
             1,
             "rgb(90,179,244)"
            ]
           ]
          },
          "colorway": [
           "#F8766D",
           "#A3A500",
           "#00BF7D",
           "#00B0F6",
           "#E76BF3"
          ],
          "font": {
           "color": "rgb(51,51,51)"
          },
          "geo": {
           "bgcolor": "white",
           "lakecolor": "white",
           "landcolor": "rgb(237,237,237)",
           "showlakes": true,
           "showland": true,
           "subunitcolor": "white"
          },
          "hoverlabel": {
           "align": "left"
          },
          "hovermode": "closest",
          "paper_bgcolor": "white",
          "plot_bgcolor": "rgb(237,237,237)",
          "polar": {
           "angularaxis": {
            "gridcolor": "white",
            "linecolor": "white",
            "showgrid": true,
            "tickcolor": "rgb(51,51,51)",
            "ticks": "outside"
           },
           "bgcolor": "rgb(237,237,237)",
           "radialaxis": {
            "gridcolor": "white",
            "linecolor": "white",
            "showgrid": true,
            "tickcolor": "rgb(51,51,51)",
            "ticks": "outside"
           }
          },
          "scene": {
           "xaxis": {
            "backgroundcolor": "rgb(237,237,237)",
            "gridcolor": "white",
            "gridwidth": 2,
            "linecolor": "white",
            "showbackground": true,
            "showgrid": true,
            "tickcolor": "rgb(51,51,51)",
            "ticks": "outside",
            "zerolinecolor": "white"
           },
           "yaxis": {
            "backgroundcolor": "rgb(237,237,237)",
            "gridcolor": "white",
            "gridwidth": 2,
            "linecolor": "white",
            "showbackground": true,
            "showgrid": true,
            "tickcolor": "rgb(51,51,51)",
            "ticks": "outside",
            "zerolinecolor": "white"
           },
           "zaxis": {
            "backgroundcolor": "rgb(237,237,237)",
            "gridcolor": "white",
            "gridwidth": 2,
            "linecolor": "white",
            "showbackground": true,
            "showgrid": true,
            "tickcolor": "rgb(51,51,51)",
            "ticks": "outside",
            "zerolinecolor": "white"
           }
          },
          "shapedefaults": {
           "fillcolor": "black",
           "line": {
            "width": 0
           },
           "opacity": 0.3
          },
          "ternary": {
           "aaxis": {
            "gridcolor": "white",
            "linecolor": "white",
            "showgrid": true,
            "tickcolor": "rgb(51,51,51)",
            "ticks": "outside"
           },
           "baxis": {
            "gridcolor": "white",
            "linecolor": "white",
            "showgrid": true,
            "tickcolor": "rgb(51,51,51)",
            "ticks": "outside"
           },
           "bgcolor": "rgb(237,237,237)",
           "caxis": {
            "gridcolor": "white",
            "linecolor": "white",
            "showgrid": true,
            "tickcolor": "rgb(51,51,51)",
            "ticks": "outside"
           }
          },
          "xaxis": {
           "automargin": true,
           "gridcolor": "white",
           "linecolor": "white",
           "showgrid": true,
           "tickcolor": "rgb(51,51,51)",
           "ticks": "outside",
           "title": {
            "standoff": 15
           },
           "zerolinecolor": "white"
          },
          "yaxis": {
           "automargin": true,
           "gridcolor": "white",
           "linecolor": "white",
           "showgrid": true,
           "tickcolor": "rgb(51,51,51)",
           "ticks": "outside",
           "title": {
            "standoff": 15
           },
           "zerolinecolor": "white"
          }
         }
        },
        "legend": {
         "orientation": "h",
         "yanchor": "top",
         "y": 1.02,
         "xanchor": "left",
         "x": 1
        },
        "margin": {
         "r": 20,
         "l": 10,
         "b": 10,
         "t": 10
        },
        "width": 1000,
        "height": 800,
        "scene": {
         "xaxis": {
          "title": {
           "text": "Pulse width (μs)"
          }
         },
         "yaxis": {
          "title": {
           "text": "Energy density new cone (J/cm^2)"
          }
         },
         "zaxis": {
          "title": {
           "text": "Figure of Merit"
          }
         },
         "camera": {
          "up": {
           "x": 0,
           "y": 0,
           "z": 1
          },
          "center": {
           "x": 0,
           "y": 0,
           "z": 0
          },
          "eye": {
           "x": 2.75,
           "y": 1.75,
           "z": 1
          }
         }
        }
       },
       "config": {
        "plotlyServerURL": "https://plot.ly"
       }
      }
     },
     "metadata": {}
    }
   ],
   "metadata": {}
  },
  {
   "cell_type": "markdown",
   "source": [
    "### GP Predictions"
   ],
   "metadata": {}
  },
  {
   "cell_type": "code",
   "execution_count": 17,
   "source": [
    "from emukit.bayesian_optimization.loops import BayesianOptimizationLoop\n",
    "from emukit.bayesian_optimization.acquisitions import ExpectedImprovement, \\\n",
    "                                                      NegativeLowerConfidenceBound, \\\n",
    "                                                      MaxValueEntropySearch, \\\n",
    "                                                      ProbabilityOfImprovement\n",
    "from emukit.core.acquisition import IntegratedHyperParameterAcquisition\n",
    "\n",
    "np.random.seed(10)#to make sure the random results is reproducible \n",
    "bs = 1\n",
    "acquisition = NegativeLowerConfidenceBound(objective_model, beta = 1)\n",
    "# acquisition = ExpectedImprovement(objective_model)\n",
    "# acquisition = MaxValueEntropySearch(objective_model, space=parameter_space)\n",
    "\n",
    "# Make loop and collect points\n",
    "bayesopt= BayesianOptimizationLoop(model=objective_model, \n",
    "                                   space=parameter_space, \n",
    "                                   acquisition=acquisition,\n",
    "                                   batch_size = bs)\n",
    "                                  \n",
    "print('total condition no.:', len(X))\n",
    "print('total device no.:', len(bayesopt.loop_state.Y))\n",
    "print('maximum Y (2 Qsw/(U+|D|) 1e6cycles): ', -np.min(np.transpose(np.round(bayesopt.loop_state.Y, 2))))\n",
    "\n",
    "X_new = bayesopt.candidate_point_calculator.compute_next_points(bayesopt.loop_state)\n",
    "f_acq = bayesopt.candidate_point_calculator.acquisition.evaluate\n",
    "\n",
    "df = fe_data\n",
    "print(X_new)\n",
    "print(x_denormalizer(X_new))\n",
    "df_Xnew = pd.DataFrame(get_closest_array(x_denormalizer(X_new)), columns = x_labels)\n",
    "df_all = pd.concat([df.iloc[:,0:2], df_Xnew])\n",
    "df_all_ = df_all.drop_duplicates()\n",
    "df_Xnew = df_all_.iloc[len(df):len(df)+bs]\n",
    "df_Xnew = df_Xnew.sort_values(by=list(df.columns[0:2]), ignore_index = True)\n",
    "df_Xnew.index = np.arange(len(df_Xnew))+len(df)\n",
    "print('New X:',len(df_Xnew))\n",
    "df_Xnew"
   ],
   "outputs": [
    {
     "output_type": "stream",
     "name": "stdout",
     "text": [
      "total condition no.: 23\n",
      "total device no.: 23\n",
      "maximum Y (2 Qsw/(U+|D|) 1e6cycles):  4.54\n",
      "[[0.09013013 0.24901146]]\n",
      "[[0.90558559 5.89493562]]\n",
      "New X: 1\n"
     ]
    },
    {
     "output_type": "execute_result",
     "data": {
      "text/html": [
       "<div>\n",
       "<style scoped>\n",
       "    .dataframe tbody tr th:only-of-type {\n",
       "        vertical-align: middle;\n",
       "    }\n",
       "\n",
       "    .dataframe tbody tr th {\n",
       "        vertical-align: top;\n",
       "    }\n",
       "\n",
       "    .dataframe thead th {\n",
       "        text-align: right;\n",
       "    }\n",
       "</style>\n",
       "<table border=\"1\" class=\"dataframe\">\n",
       "  <thead>\n",
       "    <tr style=\"text-align: right;\">\n",
       "      <th></th>\n",
       "      <th>Time (ms)</th>\n",
       "      <th>Energy density new cone (J/cm^2)</th>\n",
       "    </tr>\n",
       "  </thead>\n",
       "  <tbody>\n",
       "    <tr>\n",
       "      <th>23</th>\n",
       "      <td>0.9</td>\n",
       "      <td>5.89</td>\n",
       "    </tr>\n",
       "  </tbody>\n",
       "</table>\n",
       "</div>"
      ],
      "text/plain": [
       "    Time (ms)  Energy density new cone (J/cm^2)\n",
       "23        0.9                              5.89"
      ]
     },
     "metadata": {},
     "execution_count": 17
    }
   ],
   "metadata": {}
  },
  {
   "cell_type": "code",
   "execution_count": 18,
   "source": [
    "y_pred_new, y_uncer_new = f_obj(x_normalizer(df_Xnew.values))\n",
    "y_pred_new = -y_pred_new[:,-1]\n",
    "print(y_pred_new)"
   ],
   "outputs": [
    {
     "output_type": "stream",
     "name": "stdout",
     "text": [
      "[3.88189495]\n"
     ]
    }
   ],
   "metadata": {}
  },
  {
   "cell_type": "code",
   "execution_count": 26,
   "source": [
    "import plotly.graph_objects as go\n",
    "import matplotlib.pyplot as plt\n",
    "import matplotlib as mpl\n",
    "\n",
    "# make, scale post_test_grid\n",
    "_, _, test_grid, test_arr = grid_maker(torch.Tensor(X))\n",
    "volt_on_grid, _ = f_obj(test_arr.numpy())\n",
    "volt_on_grid = -1 * volt_on_grid.reshape(30,30).T\n",
    "raw_test_arr = x_denormalizer(test_arr)\n",
    "raw_test_grid = x_denormalizer(test_grid)\n",
    "\n",
    "fig = go.Figure(data=[go.Scatter3d(z=Y[:,-1], \n",
    "                                    x=x_denormalizer(X)[:,0],\n",
    "                                    y=x_denormalizer(X)[:,1], \n",
    "                                    mode='markers',\n",
    "                                    marker={'color':'#72356c'},\n",
    "                                    name='Data')])\n",
    "fig.add_trace(go.Surface(z=volt_on_grid, \n",
    "                            x=raw_test_grid[:,0],\n",
    "                            y=raw_test_grid[:,1],\n",
    "                            opacity = 0.8,\n",
    "                            colorscale = \"Burg\",\n",
    "                            colorbar=dict(thickness=15, len=0.5)))\n",
    "\n",
    "# fig.add_trace(go.Scatter3d(z=[3.7669], x=[1.5], y=[8.85], name = \"UCB\"))\n",
    "# fig.add_trace(go.Scatter3d(z=[3.49], x=[1.17], y=[8.85], name = \"UCB2\"))\n",
    "fig.add_trace(go.Scatter3d(z=[3.88], x=[0.9], y=[5.89], name = \"NLCB\"))\n",
    "\n",
    "fig.update_layout( width=1000, height=800,\n",
    "                    legend=dict(orientation=\"h\", yanchor=\"top\", y=1.02, \n",
    "                    xanchor=\"left\",x=1), margin=dict(r=20, l=10, b=10, t=10), \n",
    "                        scene=dict(\n",
    "                        xaxis_title=\"Pulse width (μs)\",\n",
    "                        yaxis_title=\"Energy density new cone (J/cm^2)\",\n",
    "                        zaxis_title='Figure of Merit')\n",
    "                    )\n",
    "fig.update_layout(template=\"ggplot2\")\n",
    "camera = dict(up=dict(x=0, y=0, z=1), center=dict(x=0, y=0, z=0),\n",
    "                    eye=dict(x=2.75, y=1.75, z=1))\n",
    "fig.update_layout(scene_camera=camera)\n",
    "fig.show()"
   ],
   "outputs": [
    {
     "output_type": "display_data",
     "data": {
      "application/vnd.plotly.v1+json": {
       "data": [
        {
         "marker": {
          "color": "#72356c"
         },
         "mode": "markers",
         "name": "Data",
         "x": [
          0.5,
          0.5,
          1,
          1,
          1.5,
          1.5,
          5,
          5,
          0.5,
          5,
          2,
          0.5,
          0.5,
          0.5,
          1,
          1,
          2,
          2,
          2,
          2,
          5,
          5,
          5
         ],
         "y": [
          2.73,
          3.4,
          3.79,
          6.44,
          5.36,
          8.99,
          8.8,
          14.67,
          5.24,
          14.89,
          10.13,
          4.51,
          5.37,
          4.88,
          6.76,
          7.77,
          8.73,
          9.38,
          10.48,
          11.01,
          14.71,
          15.440000000000001,
          13.37
         ],
         "z": [
          0.8730257299654021,
          2.677244640050493,
          1.6990152147413928,
          3.8050528055652655,
          3.3348561928152627,
          4.535152817359003,
          1.3625102372531497,
          3.841290609056986,
          1.2013569985324948,
          3.5136521918176413,
          3.4708714822041062,
          0.2632982379553876,
          2.7753404356378253,
          2.5913062464887977,
          2.579984359259049,
          3.1738185691110727,
          0.1315049942519029,
          0.4511637114621348,
          2.126639748505365,
          3.468212840642842,
          3.685852431471957,
          3.445655582638384,
          2.651546836022379
         ],
         "type": "scatter3d"
        },
        {
         "colorbar": {
          "len": 0.5,
          "thickness": 15
         },
         "colorscale": [
          [
           0,
           "rgb(255, 198, 196)"
          ],
          [
           0.16666666666666666,
           "rgb(244, 163, 168)"
          ],
          [
           0.3333333333333333,
           "rgb(227, 129, 145)"
          ],
          [
           0.5,
           "rgb(204, 96, 125)"
          ],
          [
           0.6666666666666666,
           "rgb(173, 70, 108)"
          ],
          [
           0.8333333333333334,
           "rgb(139, 48, 88)"
          ],
          [
           1,
           "rgb(103, 32, 68)"
          ]
         ],
         "opacity": 0.8,
         "x": [
          0.3392857015132904,
          0.5055418610572815,
          0.6717979907989502,
          0.8380541801452637,
          1.0043103694915771,
          1.1705665588378906,
          1.3368226289749146,
          1.503078818321228,
          1.669334888458252,
          1.8355910778045654,
          2.001847267150879,
          2.1681032180786133,
          2.334359645843506,
          2.5006155967712402,
          2.666872024536133,
          2.833127975463867,
          2.9993844032287598,
          3.165640354156494,
          3.3318967819213867,
          3.498152494430542,
          3.6644086837768555,
          3.830664873123169,
          3.9969210624694824,
          4.163177490234375,
          4.329433441162109,
          4.495689392089844,
          4.661945819854736,
          4.828201770782471,
          4.994458198547363,
          5.160714149475098
         ],
         "y": [
          2.276071548461914,
          2.745652675628662,
          3.2152340412139893,
          3.6848151683807373,
          4.1543965339660645,
          4.6239776611328125,
          5.093559265136719,
          5.563140392303467,
          6.032721519470215,
          6.502303123474121,
          6.971883773803711,
          7.441465377807617,
          7.911046504974365,
          8.38062858581543,
          8.85020923614502,
          9.319790840148926,
          9.789371490478516,
          10.258953094482422,
          10.728534698486328,
          11.198116302490234,
          11.667695999145508,
          12.137277603149414,
          12.60685920715332,
          13.076440811157227,
          13.546022415161133,
          14.015602111816406,
          14.485183715820312,
          14.954765319824219,
          15.424346923828125,
          15.893928527832031
         ],
         "z": [
          [
           0.15390916449794417,
           0.16126348210025257,
           0.17545816620487753,
           0.18800191329316876,
           0.1878871396813717,
           0.17246381992274246,
           0.1463699826309043,
           0.11625942755929193,
           0.0874194183723609,
           0.06282460225069308,
           0.04348682690687018,
           0.02917754165829682,
           0.019076050861340232,
           0.012206220879785094,
           0.007671992002011993,
           0.004750817832289301,
           0.002905440275690863,
           0.0017582068796492983,
           0.0010543498220839155,
           0.0006272497951661196,
           0.0003705036791635045,
           0.00021741916148820426,
           0.0001268062032923269,
           0.00007352846664484415,
           0.00004239840390866299,
           0.000024317428746075885,
           0.00001387597728705318,
           0.000007879836355708343,
           0.0000044551169494964844,
           0.000002509303507259181
          ],
          [
           0.8643319802690193,
           0.93025196074138,
           0.9362756567334792,
           0.8722817797795006,
           0.7517336675675661,
           0.6058337074799964,
           0.46177924602257536,
           0.3358586168926631,
           0.23476822359271307,
           0.15872244770259175,
           0.10438977041791707,
           0.06713169065802257,
           0.04239899868462083,
           0.026393734922004645,
           0.016239530132814005,
           0.009896024954620155,
           0.005980979743413777,
           0.0035883571812843156,
           0.002138232705371334,
           0.0012658018630970873,
           0.0007445242175679078,
           0.00043512880626122197,
           0.00025269867108116713,
           0.00014583760092876956,
           0.00008365319655677285,
           0.00004770344225391307,
           0.000027054723941842836,
           0.000015269596644914812,
           0.000008584363670494404,
           0.000004813940271716595
          ],
          [
           2.1427074572803697,
           2.410379390369572,
           2.34279875998404,
           2.040185889217933,
           1.6563625339889325,
           1.2756049613784641,
           0.9368622484941985,
           0.6595095857036442,
           0.448200789742671,
           0.2963373249400535,
           0.19192509402833927,
           0.12241057170246394,
           0.07717042237070992,
           0.04819448137351526,
           0.029849313049602415,
           0.018340266371147516,
           0.011178162964251965,
           0.006756434255348157,
           0.004048925682209452,
           0.002405328404173147,
           0.0014165019365774056,
           0.0008270409861830571,
           0.0004788742602769353,
           0.00027509107238413903,
           0.00015686804700534238,
           0.00008886392075740151,
           0.00005006277473351281,
           0.00002809186991904223,
           0.000015737454541160247,
           0.000008832619489947178
          ],
          [
           1.6565531858289322,
           1.9506616821658693,
           2.053937688454094,
           1.9979208370792116,
           1.8185262321258324,
           1.5236658972844226,
           1.1821535564041998,
           0.8677137586758421,
           0.6136556050205526,
           0.4232850383287031,
           0.28676032511988775,
           0.1913867902555253,
           0.12592578727510204,
           0.08165289702433487,
           0.05214939770637326,
           0.03279651536537668,
           0.020312166450117214,
           0.01239476173313889,
           0.007457426996117693,
           0.0044278684545278005,
           0.002597040035714721,
           0.0015062140444720546,
           0.0008647399679946719,
           0.0004920206081573844,
           0.00027782947036302826,
           0.0001559719587610965,
           0.00008727515423927576,
           0.00004886050492640291,
           0.00002752486955552538,
           0.0000157314896407217
          ],
          [
           -0.06101745570513165,
           0.02379306006111152,
           0.3399323096733818,
           0.7435730172245498,
           1.0357771196756864,
           1.134303755767871,
           1.0749722377040831,
           0.931518216246848,
           0.7597930281688823,
           0.5909092711570785,
           0.44050363940864745,
           0.3156688536472698,
           0.218070291995699,
           0.14570435172499688,
           0.09449371625289386,
           0.059691678185601935,
           0.03684880571960758,
           0.022294637299806637,
           0.013254290820682375,
           0.007759991436016863,
           0.004483008108148835,
           0.0025601632097954708,
           0.001447900245536453,
           0.0008125857011717109,
           0.00045375733541313146,
           0.00025311471505372167,
           0.0001419107376912678,
           0.00008072161749060697,
           0.00004720418654763143,
           0.000028832138173823746
          ],
          [
           0.9311318141690434,
           1.130724487428752,
           1.2752703286374407,
           1.3750126922311916,
           1.4656948637375953,
           1.539135747231554,
           1.5573481582984268,
           1.4854449120160758,
           1.3162579130771759,
           1.07942659104449,
           0.8238710297133608,
           0.5912685652619636,
           0.40332451247499385,
           0.26398090433001536,
           0.1670586374265878,
           0.10284159603065589,
           0.06187677684161293,
           0.03652290367186614,
           0.021211915014852263,
           0.01215201827960027,
           0.006882176296524452,
           0.0038616592994014545,
           0.0021525489262924713,
           0.001196571354042246,
           0.0006674647535980643,
           0.0003774326096585924,
           0.00021975775075916182,
           0.00013446513420626503,
           0.00008819473957815295,
           0.00006259266237923416
          ],
          [
           1.6384413884066549,
           1.8662742266712418,
           2.1173561708551243,
           2.3155544160865538,
           2.482642862264312,
           2.661962405290026,
           2.7962518266965133,
           2.7441162230942386,
           2.4217502485313687,
           1.9234579801236857,
           1.4051922069038472,
           0.9641240490730657,
           0.6308403734524386,
           0.39790101156542607,
           0.2437958128714128,
           0.14591245271628803,
           0.08566063878163041,
           0.04948698851878794,
           0.028207417041217944,
           0.015901360933431766,
           0.008888594052437896,
           0.004944433228332977,
           0.0027532813262710677,
           0.001550793723232881,
           0.0008992119581335175,
           0.0005507005672965017,
           0.00036626785629875855,
           0.0002686196263524988,
           0.00021520767864376496,
           0.0001830131143428958
          ],
          [
           2.621868388818018,
           3.1174902410164957,
           3.306173683223517,
           3.349968834788252,
           3.399199543918688,
           3.467578158357433,
           3.4792213420785627,
           3.2900813027057754,
           2.820088941567829,
           2.1897534671881944,
           1.5724378384857263,
           1.0646315707839107,
           0.6893102321641585,
           0.4310740471569611,
           0.26224042206855225,
           0.15599665399044768,
           0.09109831379516682,
           0.05239298300027968,
           0.02976455067484334,
           0.01676223574989604,
           0.009409665241204308,
           0.0053188844881568624,
           0.003084713149976246,
           0.0018931121575613188,
           0.0012776807904733192,
           0.0009728917467336472,
           0.0008279796164927457,
           0.0007576357589512497,
           0.0007143796031287849,
           0.0006732237577567079
          ],
          [
           2.6481319608840352,
           3.236116081808003,
           3.6840724528120172,
           3.944737738467874,
           3.9681239452215933,
           3.7292305365405647,
           3.2940788556129244,
           2.7603962945488862,
           2.197802919205816,
           1.6593799195660075,
           1.1895738360769388,
           0.813770414325933,
           0.53468800839621,
           0.33956176036520247,
           0.20956239063383925,
           0.12625624953062345,
           0.07455104963381566,
           0.04331762487011825,
           0.02490242087952104,
           0.01430012390381838,
           0.008359267719809143,
           0.0051525643684674684,
           0.003525764271401315,
           0.002795113995547559,
           0.002554294832402102,
           0.0025569299652558474,
           0.0026490391426392344,
           0.0027330830937969787,
           0.002750504039737602,
           0.0026733941788739126
          ],
          [
           1.8458438367529528,
           2.3838286549405607,
           2.9342416383096293,
           3.386171267914865,
           3.539297597289291,
           3.2588770126804762,
           2.713336369682181,
           2.1154373339010473,
           1.5762635875136666,
           1.133139766181945,
           0.7886215679713673,
           0.5319841327269796,
           0.34813957935313194,
           0.2212998447641064,
           0.13688659322904417,
           0.08260091770912051,
           0.04882126251767417,
           0.028490142252851482,
           0.0167092094441452,
           0.010237245192459481,
           0.007015145476316784,
           0.00577467117795015,
           0.005742828030376997,
           0.006432620578531266,
           0.007504974715617996,
           0.008688505516801195,
           0.00974629843075865,
           0.01047830067682545,
           0.01074395539051619,
           0.010486300442609483
          ],
          [
           1.2054638137394427,
           1.5489719022530737,
           1.8648031365769984,
           2.078592247087952,
           2.14034981102798,
           2.0432300136494157,
           1.7989729786074344,
           1.4626780833649198,
           1.10992917984626,
           0.7949853296827535,
           0.5417443638644855,
           0.35276473320437446,
           0.21985870001430868,
           0.13114970543327914,
           0.07483693220234744,
           0.040896399015456074,
           0.02162564874984131,
           0.011566312637059116,
           0.0071296951149722124,
           0.006130590732452447,
           0.007345301751982274,
           0.01014104966576652,
           0.01418103978870556,
           0.01919430249932891,
           0.024807024311595142,
           0.030451329474466188,
           0.03537968294197734,
           0.038798444222143486,
           0.040084676318969,
           0.038993106205958625
          ],
          [
           1.1259999468736983,
           1.5488297801128805,
           2.003775126746806,
           2.3850082156307297,
           2.5456262297896832,
           2.4052018669408595,
           2.037254535504372,
           1.5800144138571453,
           1.1363357236078242,
           0.7588293651776055,
           0.4661961647033064,
           0.2577770317022117,
           0.12212104057636021,
           0.042625794237835524,
           0.0020374856095673817,
           -0.014365745421947474,
           -0.01732083418665691,
           -0.013597497907916478,
           -0.006805362338393094,
           0.0016163323158316625,
           0.01154586948659601,
           0.023530177956096365,
           0.03827040400248946,
           0.05614134715513999,
           0.07670289698253566,
           0.09829683598637594,
           0.11798213297845404,
           0.13210213330828804,
           0.13750416700886336,
           0.13288886530966454
          ],
          [
           1.1690595621861013,
           1.6870179894100839,
           2.2904195730997943,
           2.8532366368304345,
           3.155358023944201,
           3.041599078964919,
           2.6076580447931836,
           2.0257277478121143,
           1.4155285180951789,
           0.8572569214932111,
           0.409571738568693,
           0.10284392007983517,
           -0.06887933729602225,
           -0.13838086070149477,
           -0.14555306269420076,
           -0.12284204746282527,
           -0.09062984114920582,
           -0.05887728896375548,
           -0.030606612752976246,
           -0.004910811038130838,
           0.021103585892438197,
           0.05121677514844633,
           0.08935078433628449,
           0.13865430200050033,
           0.19999905600593026,
           0.2698652013358956,
           0.3385330528163279,
           0.39080187018573775,
           0.41141858662380454,
           0.3935340795689295
          ],
          [
           0.9751086141311204,
           1.4101130450423018,
           1.9323669021924457,
           2.480826073224346,
           2.9530194380641652,
           3.2291382069429124,
           3.196054681754388,
           2.775597576070663,
           1.9993784953585747,
           1.0627627516257394,
           0.24391000780630087,
           -0.2697230612824027,
           -0.4768707529849865,
           -0.48439292804886097,
           -0.4000447467892022,
           -0.29300335134239364,
           -0.19618360150871872,
           -0.1193459061805057,
           -0.06043928297506732,
           -0.01245903247304619,
           0.03338199145762606,
           0.08665058214474532,
           0.15748654488512484,
           0.2559508991354246,
           0.3895641523120563,
           0.5575476747151014,
           0.7413511966819933,
           0.896361230415774,
           0.9617564388630028,
           0.9044566613116004
          ],
          [
           0.7582079640583398,
           1.1401571894673317,
           1.6621669358385993,
           2.336118423674534,
           3.1335193988588235,
           3.9333980657683902,
           4.451626903444619,
           4.251943169691999,
           3.1281387511969982,
           1.5388908590227388,
           0.16390364732583948,
           -0.6071055504778596,
           -0.831948912226058,
           -0.7545996066207622,
           -0.5728141842213069,
           -0.3909964681325138,
           -0.2464130194981354,
           -0.14215344247646045,
           -0.06820327644913092,
           -0.011337238849828605,
           0.04163820159458693,
           0.10372994370151478,
           0.18851653455130218,
           0.31030543422829177,
           0.4820313918365285,
           0.7085458900182825,
           0.9726609356641511,
           1.2148978379974715,
           1.326379751554343,
           1.2280466925453084
          ],
          [
           0.5561957614762872,
           0.859954503114036,
           1.2928248583052981,
           1.8726781341962266,
           2.575969996804599,
           3.288073525406646,
           3.755548875981442,
           3.637889306147499,
           2.7890006359133794,
           1.5123334487644926,
           0.3746365985625589,
           -0.23174256366338586,
           -0.39653532431814964,
           -0.35672712231325315,
           -0.2606632365727081,
           -0.17001875056432678,
           -0.10108695560205691,
           -0.05220996253624278,
           -0.016411541359485,
           0.014072393090352709,
           0.04679653745718153,
           0.08933517125561621,
           0.14955816101038913,
           0.2350876061843157,
           0.35097243268271705,
           0.49463577181885954,
           0.6484411990538629,
           0.7749124583673617,
           0.8272008132567029,
           0.781247805556954
          ],
          [
           0.349309062312366,
           0.535636731627611,
           0.7956385196006103,
           1.1358599754498306,
           1.543805653299461,
           1.9776604317292625,
           2.3685815982441647,
           2.646573138880995,
           2.7726003371118337,
           2.7262959814835286,
           2.4625259494178335,
           1.9811768033343764,
           1.4235986944194403,
           0.9411296447715896,
           0.589402102717879,
           0.3573755300808503,
           0.2136418763857141,
           0.12896716191330998,
           0.08234223741151545,
           0.06056526707796017,
           0.05626783795457981,
           0.06600883343955018,
           0.08866702202189165,
           0.12390128876734345,
           0.17041203826397777,
           0.22404531007090644,
           0.2764728167398325,
           0.3159506732259023,
           0.3313005340436484,
           0.3175940723630622
          ],
          [
           0.19874064100271754,
           0.30336825408260565,
           0.45122056523599036,
           0.6522582235151545,
           0.9146162513659404,
           1.242836260416126,
           1.635469049630266,
           2.0786423470269293,
           2.529104261480552,
           2.8841797349082303,
           2.963563947054841,
           2.649208805969379,
           2.1026937604896556,
           1.5313110299760075,
           1.0464523708218645,
           0.6816327277660682,
           0.4283997901869256,
           0.2628454123958863,
           0.15997800314332486,
           0.09947704476640987,
           0.06681124864174671,
           0.052397752350158644,
           0.05019202023283058,
           0.05629289314190863,
           0.06776673807080186,
           0.08179819445044388,
           0.09530255845411287,
           0.10512179715906109,
           0.10873245585087024,
           0.10506413420966548
          ],
          [
           0.12021306608915272,
           0.18868750323580216,
           0.291423381729094,
           0.44195341023029333,
           0.655816219570137,
           0.946701088682572,
           1.317177701861921,
           1.7424744475975609,
           2.1534615666240526,
           2.443300063144264,
           2.525155009007188,
           2.3788306465764815,
           2.0347500354693415,
           1.5876885001795318,
           1.1470382116480269,
           0.7798046870032113,
           0.505859071496743,
           0.31682358282854906,
           0.19381138354287908,
           0.11758165417139091,
           0.07258440527169681,
           0.04764646766888236,
           0.035264940246523824,
           0.030557578855659368,
           0.030319749346696023,
           0.032337462096465486,
           0.03497694601856547,
           0.037013499924640994,
           0.037622429779419216,
           0.036426434659751115
          ],
          [
           0.08248081975286911,
           0.13524573499079684,
           0.21948943810485802,
           0.35169444216574774,
           0.5544046025016791,
           0.8553654420496665,
           1.2818777981802474,
           1.8444341857470048,
           2.500408359411797,
           3.095537231898819,
           3.346113880797919,
           3.070496789111634,
           2.458978030400624,
           1.7950479889654773,
           1.230640366355886,
           0.8066136059029202,
           0.5111570045630681,
           0.3158433143469546,
           0.19197122482887857,
           0.11628471271640312,
           0.07187148982983803,
           0.04721830052462966,
           0.03480369424436026,
           0.02980103312394656,
           0.029076965693238407,
           0.03050822813673101,
           0.03257869103717748,
           0.03419429742738255,
           0.03463750496413257,
           0.03357447521352422
          ],
          [
           0.055417512563750736,
           0.09212196127973206,
           0.15100044938250778,
           0.2430879369281398,
           0.3822839361852387,
           0.5830136912446705,
           0.8537409913952407,
           1.1844339433478823,
           1.5301228625257262,
           1.8043551573091272,
           1.9082375600997785,
           1.7966435762430637,
           1.517003559453404,
           1.168941186593087,
           0.8383699567268597,
           0.5694578168241067,
           0.37168886009155844,
           0.23637005642574188,
           0.14909331566184927,
           0.09615172184667546,
           0.06681518136658714,
           0.05349648390263069,
           0.05107355873109515,
           0.05600234608817661,
           0.06550825083940462,
           0.07701117649026515,
           0.08789591519985542,
           0.09567718027386718,
           0.09846447060265716,
           0.09545825505827606
          ],
          [
           0.03157726850513306,
           0.05141950724946257,
           0.0820177151753235,
           0.12754497862268185,
           0.19224743388139465,
           0.27887038753467597,
           0.3860050258815189,
           0.5049033789986132,
           0.61769281699681,
           0.7000440033904626,
           0.7298618185426873,
           0.6982670863642553,
           0.6146842365726344,
           0.5015522101254737,
           0.3833274321565242,
           0.2779418502672399,
           0.1943138475053364,
           0.1342637977806426,
           0.09577959404539972,
           0.0757136200358143,
           0.07134422427391449,
           0.08091869085140256,
           0.10343169514717028,
           0.1378285690754667,
           0.18181273036045853,
           0.23063017695512156,
           0.27656734991935444,
           0.3100796547618914,
           0.32282034871588267,
           0.3112490853540785
          ],
          [
           0.014799958599910073,
           0.02322123224516776,
           0.03552158024866633,
           0.0527449861076468,
           0.07564493371579926,
           0.10419860037233927,
           0.13702832545690483,
           0.1709808615227904,
           0.20125349440984375,
           0.22237996198618287,
           0.22995256396908056,
           0.22233963693512435,
           0.20141372885450373,
           0.1718365683434234,
           0.13938522151654797,
           0.10931893675695718,
           0.08552906385379469,
           0.07059545492766253,
           0.0664379786757528,
           0.07516194056943293,
           0.09978794389174932,
           0.14462096825482199,
           0.21494573742047327,
           0.3155525840125586,
           0.44748794043447304,
           0.6028871362222018,
           0.7596518007705293,
           0.881398890543375,
           0.9297968275581768,
           0.8870343254876644
          ],
          [
           0.005852680365346249,
           0.008816213772219616,
           0.012919093573120313,
           0.018350376004178794,
           0.02516780031086801,
           0.03319581080802266,
           0.04193768565723002,
           0.05055332603361883,
           0.057954770971930684,
           0.0630362843321533,
           0.0649879194220768,
           0.06357822219876576,
           0.05928639243027709,
           0.05323862864216,
           0.047015495735679244,
           0.04247295003006246,
           0.04171794500111903,
           0.04732119228656935,
           0.06278308015611274,
           0.09321864279614223,
           0.14617278958821334,
           0.23235347665305706,
           0.36579043320750054,
           0.5623767009086602,
           0.8348823069067522,
           1.1816517699629423,
           1.56698508991399,
           1.8995006268261858,
           2.0428084799238975,
           1.9163578910121786
          ],
          [
           0.0020241100624640023,
           0.0029340994015293158,
           0.004135848836342767,
           0.005653301802912934,
           0.007472495085426916,
           0.009524903939437116,
           0.011678592036612015,
           0.013745512222439945,
           0.015511014324978027,
           0.01678514198725596,
           0.017466911302775796,
           0.017607765180967624,
           0.01746404961848669,
           0.017542050391756762,
           0.018658314416158676,
           0.022055425560651265,
           0.029623722713468373,
           0.04428100786818961,
           0.0705527698684369,
           0.11536306374405553,
           0.188960906583658,
           0.30570821233713874,
           0.4840644977573913,
           0.7444272160323349,
           1.1025504469799985,
           1.5554806558881606,
           2.0578940815822753,
           2.4946476946604106,
           2.6858587709681956,
           2.51709919732806
          ],
          [
           0.0006319579136092454,
           0.0008856408376207693,
           0.0012079381326675204,
           0.0016003357287358562,
           0.0020558718356815673,
           0.0025574164495360233,
           0.003078472762836074,
           0.0035880566189226346,
           0.004060926371236206,
           0.004493960305543061,
           0.004929387934189023,
           0.005486782167602502,
           0.006409046630545508,
           0.008133594827957282,
           0.01140834739450853,
           0.017482405496212376,
           0.028411624171490513,
           0.04752575974048541,
           0.08009631798004643,
           0.13420007824741007,
           0.22164953801140305,
           0.3585816331392072,
           0.5647745106192287,
           0.8599498610370804,
           1.2545083852522998,
           1.7326340046769082,
           2.2308833634401406,
           2.6298046620589854,
           2.791703654704375,
           2.6492939927206294
          ],
          [
           0.00018296132759420086,
           0.00024944944375117985,
           0.00033177369624091344,
           0.0004301947224446503,
           0.000543895283673831,
           0.0006714958963766578,
           0.0008126492411331838,
           0.0009713867450517764,
           0.0011621885757837668,
           0.0014203118353733862,
           0.0018190017338110143,
           0.002498220086239524,
           0.0037129297249013393,
           0.005914376809847412,
           0.009885724668188314,
           0.016964093147846353,
           0.029393671190874413,
           0.05086538810487328,
           0.08729756971836719,
           0.14787654252189858,
           0.24626412686414406,
           0.40161434632778403,
           0.6385342930084499,
           0.9842737073050075,
           1.460282878446132,
           2.0642613472275766,
           2.739337755900857,
           3.334429378870008,
           3.5991420683547073,
           3.365403487622696
          ],
          [
           0.00005051712685603767,
           0.00006773439160347351,
           0.00008914454456781941,
           0.0001154583445164382,
           0.0001478997010910779,
           0.00018897655716501415,
           0.0002439969832000775,
           0.00032388751068141434,
           0.0004502739467564911,
           0.0006644975886745611,
           0.0010434770954117771,
           0.0017274281059422565,
           0.002967886039265344,
           0.005209918601454701,
           0.009230561268685197,
           0.016366930253423978,
           0.028881638679071807,
           0.05052659085051601,
           0.08736843243767117,
           0.14890454468661954,
           0.24937592490605642,
           0.40887192814606166,
           0.6531809804316637,
           1.0102045974822949,
           1.4992261705149537,
           2.1086167347759233,
           2.7621980061608573,
           3.2959354939076833,
           3.511563783458157,
           3.3220742741205087
          ],
          [
           0.000013915646507237905,
           0.0000188043163888847,
           0.00002533873041342443,
           0.00003435174225992214,
           0.00004741358122055265,
           0.0000675342045194444,
           0.00010046774682042317,
           0.0001570976829948682,
           0.00025774970164504625,
           0.0004399208142623804,
           0.0007720098581668665,
           0.0013774771012328463,
           0.002476857509677462,
           0.004459806865111934,
           0.008006517934591523,
           0.014287981680374155,
           0.025287399382149238,
           0.04429791856907554,
           0.07665641185946799,
           0.13074896694449406,
           0.21923017683465412,
           0.36015580653408147,
           0.5772290585331252,
           0.897470115299756,
           1.3433549536651992,
           1.915343177567018,
           2.5614532967002814,
           3.1381093831277127,
           3.3994982352606233,
           3.168436323352239
          ],
          [
           0.000004171687093246099,
           0.000005959872078045791,
           0.000008707269510748222,
           0.000013133004817426107,
           0.00002058635827511086,
           0.00003359499061412332,
           0.00005686766941261726,
           0.00009911225330187884,
           0.00017630388177948818,
           0.00031750862099612094,
           0.000575158508757201,
           0.0010429792060629697,
           0.0018868515695727767,
           0.003397112814087658,
           0.006075508200817689,
           0.010776385005164072,
           0.018929215554621175,
           0.032875750750329016,
           0.05635355159755255,
           0.0951337236908207,
           0.15774638143410277,
           0.2560500047599265,
           0.40505143622845724,
           0.6207790535447766,
           0.914204304054266,
           1.2787828881723997,
           1.6714330177363161,
           1.9975627118506931,
           2.1335905491191984,
           2.0138301875695217
          ]
         ],
         "type": "surface"
        },
        {
         "name": "NLCB",
         "x": [
          0.9
         ],
         "y": [
          5.89
         ],
         "z": [
          3.88
         ],
         "type": "scatter3d"
        }
       ],
       "layout": {
        "template": {
         "data": {
          "barpolar": [
           {
            "marker": {
             "line": {
              "color": "rgb(237,237,237)",
              "width": 0.5
             },
             "pattern": {
              "fillmode": "overlay",
              "size": 10,
              "solidity": 0.2
             }
            },
            "type": "barpolar"
           }
          ],
          "bar": [
           {
            "error_x": {
             "color": "rgb(51,51,51)"
            },
            "error_y": {
             "color": "rgb(51,51,51)"
            },
            "marker": {
             "line": {
              "color": "rgb(237,237,237)",
              "width": 0.5
             },
             "pattern": {
              "fillmode": "overlay",
              "size": 10,
              "solidity": 0.2
             }
            },
            "type": "bar"
           }
          ],
          "carpet": [
           {
            "aaxis": {
             "endlinecolor": "rgb(51,51,51)",
             "gridcolor": "white",
             "linecolor": "white",
             "minorgridcolor": "white",
             "startlinecolor": "rgb(51,51,51)"
            },
            "baxis": {
             "endlinecolor": "rgb(51,51,51)",
             "gridcolor": "white",
             "linecolor": "white",
             "minorgridcolor": "white",
             "startlinecolor": "rgb(51,51,51)"
            },
            "type": "carpet"
           }
          ],
          "choropleth": [
           {
            "colorbar": {
             "outlinewidth": 0,
             "tickcolor": "rgb(237,237,237)",
             "ticklen": 6,
             "ticks": "inside"
            },
            "type": "choropleth"
           }
          ],
          "contourcarpet": [
           {
            "colorbar": {
             "outlinewidth": 0,
             "tickcolor": "rgb(237,237,237)",
             "ticklen": 6,
             "ticks": "inside"
            },
            "type": "contourcarpet"
           }
          ],
          "contour": [
           {
            "colorbar": {
             "outlinewidth": 0,
             "tickcolor": "rgb(237,237,237)",
             "ticklen": 6,
             "ticks": "inside"
            },
            "colorscale": [
             [
              0,
              "rgb(20,44,66)"
             ],
             [
              1,
              "rgb(90,179,244)"
             ]
            ],
            "type": "contour"
           }
          ],
          "heatmapgl": [
           {
            "colorbar": {
             "outlinewidth": 0,
             "tickcolor": "rgb(237,237,237)",
             "ticklen": 6,
             "ticks": "inside"
            },
            "colorscale": [
             [
              0,
              "rgb(20,44,66)"
             ],
             [
              1,
              "rgb(90,179,244)"
             ]
            ],
            "type": "heatmapgl"
           }
          ],
          "heatmap": [
           {
            "colorbar": {
             "outlinewidth": 0,
             "tickcolor": "rgb(237,237,237)",
             "ticklen": 6,
             "ticks": "inside"
            },
            "colorscale": [
             [
              0,
              "rgb(20,44,66)"
             ],
             [
              1,
              "rgb(90,179,244)"
             ]
            ],
            "type": "heatmap"
           }
          ],
          "histogram2dcontour": [
           {
            "colorbar": {
             "outlinewidth": 0,
             "tickcolor": "rgb(237,237,237)",
             "ticklen": 6,
             "ticks": "inside"
            },
            "colorscale": [
             [
              0,
              "rgb(20,44,66)"
             ],
             [
              1,
              "rgb(90,179,244)"
             ]
            ],
            "type": "histogram2dcontour"
           }
          ],
          "histogram2d": [
           {
            "colorbar": {
             "outlinewidth": 0,
             "tickcolor": "rgb(237,237,237)",
             "ticklen": 6,
             "ticks": "inside"
            },
            "colorscale": [
             [
              0,
              "rgb(20,44,66)"
             ],
             [
              1,
              "rgb(90,179,244)"
             ]
            ],
            "type": "histogram2d"
           }
          ],
          "histogram": [
           {
            "marker": {
             "pattern": {
              "fillmode": "overlay",
              "size": 10,
              "solidity": 0.2
             }
            },
            "type": "histogram"
           }
          ],
          "mesh3d": [
           {
            "colorbar": {
             "outlinewidth": 0,
             "tickcolor": "rgb(237,237,237)",
             "ticklen": 6,
             "ticks": "inside"
            },
            "type": "mesh3d"
           }
          ],
          "parcoords": [
           {
            "line": {
             "colorbar": {
              "outlinewidth": 0,
              "tickcolor": "rgb(237,237,237)",
              "ticklen": 6,
              "ticks": "inside"
             }
            },
            "type": "parcoords"
           }
          ],
          "pie": [
           {
            "automargin": true,
            "type": "pie"
           }
          ],
          "scatter3d": [
           {
            "line": {
             "colorbar": {
              "outlinewidth": 0,
              "tickcolor": "rgb(237,237,237)",
              "ticklen": 6,
              "ticks": "inside"
             }
            },
            "marker": {
             "colorbar": {
              "outlinewidth": 0,
              "tickcolor": "rgb(237,237,237)",
              "ticklen": 6,
              "ticks": "inside"
             }
            },
            "type": "scatter3d"
           }
          ],
          "scattercarpet": [
           {
            "marker": {
             "colorbar": {
              "outlinewidth": 0,
              "tickcolor": "rgb(237,237,237)",
              "ticklen": 6,
              "ticks": "inside"
             }
            },
            "type": "scattercarpet"
           }
          ],
          "scattergeo": [
           {
            "marker": {
             "colorbar": {
              "outlinewidth": 0,
              "tickcolor": "rgb(237,237,237)",
              "ticklen": 6,
              "ticks": "inside"
             }
            },
            "type": "scattergeo"
           }
          ],
          "scattergl": [
           {
            "marker": {
             "colorbar": {
              "outlinewidth": 0,
              "tickcolor": "rgb(237,237,237)",
              "ticklen": 6,
              "ticks": "inside"
             }
            },
            "type": "scattergl"
           }
          ],
          "scattermapbox": [
           {
            "marker": {
             "colorbar": {
              "outlinewidth": 0,
              "tickcolor": "rgb(237,237,237)",
              "ticklen": 6,
              "ticks": "inside"
             }
            },
            "type": "scattermapbox"
           }
          ],
          "scatterpolargl": [
           {
            "marker": {
             "colorbar": {
              "outlinewidth": 0,
              "tickcolor": "rgb(237,237,237)",
              "ticklen": 6,
              "ticks": "inside"
             }
            },
            "type": "scatterpolargl"
           }
          ],
          "scatterpolar": [
           {
            "marker": {
             "colorbar": {
              "outlinewidth": 0,
              "tickcolor": "rgb(237,237,237)",
              "ticklen": 6,
              "ticks": "inside"
             }
            },
            "type": "scatterpolar"
           }
          ],
          "scatter": [
           {
            "fillpattern": {
             "fillmode": "overlay",
             "size": 10,
             "solidity": 0.2
            },
            "type": "scatter"
           }
          ],
          "scatterternary": [
           {
            "marker": {
             "colorbar": {
              "outlinewidth": 0,
              "tickcolor": "rgb(237,237,237)",
              "ticklen": 6,
              "ticks": "inside"
             }
            },
            "type": "scatterternary"
           }
          ],
          "surface": [
           {
            "colorbar": {
             "outlinewidth": 0,
             "tickcolor": "rgb(237,237,237)",
             "ticklen": 6,
             "ticks": "inside"
            },
            "colorscale": [
             [
              0,
              "rgb(20,44,66)"
             ],
             [
              1,
              "rgb(90,179,244)"
             ]
            ],
            "type": "surface"
           }
          ],
          "table": [
           {
            "cells": {
             "fill": {
              "color": "rgb(237,237,237)"
             },
             "line": {
              "color": "white"
             }
            },
            "header": {
             "fill": {
              "color": "rgb(217,217,217)"
             },
             "line": {
              "color": "white"
             }
            },
            "type": "table"
           }
          ]
         },
         "layout": {
          "annotationdefaults": {
           "arrowhead": 0,
           "arrowwidth": 1
          },
          "autotypenumbers": "strict",
          "coloraxis": {
           "colorbar": {
            "outlinewidth": 0,
            "tickcolor": "rgb(237,237,237)",
            "ticklen": 6,
            "ticks": "inside"
           }
          },
          "colorscale": {
           "sequential": [
            [
             0,
             "rgb(20,44,66)"
            ],
            [
             1,
             "rgb(90,179,244)"
            ]
           ],
           "sequentialminus": [
            [
             0,
             "rgb(20,44,66)"
            ],
            [
             1,
             "rgb(90,179,244)"
            ]
           ]
          },
          "colorway": [
           "#F8766D",
           "#A3A500",
           "#00BF7D",
           "#00B0F6",
           "#E76BF3"
          ],
          "font": {
           "color": "rgb(51,51,51)"
          },
          "geo": {
           "bgcolor": "white",
           "lakecolor": "white",
           "landcolor": "rgb(237,237,237)",
           "showlakes": true,
           "showland": true,
           "subunitcolor": "white"
          },
          "hoverlabel": {
           "align": "left"
          },
          "hovermode": "closest",
          "paper_bgcolor": "white",
          "plot_bgcolor": "rgb(237,237,237)",
          "polar": {
           "angularaxis": {
            "gridcolor": "white",
            "linecolor": "white",
            "showgrid": true,
            "tickcolor": "rgb(51,51,51)",
            "ticks": "outside"
           },
           "bgcolor": "rgb(237,237,237)",
           "radialaxis": {
            "gridcolor": "white",
            "linecolor": "white",
            "showgrid": true,
            "tickcolor": "rgb(51,51,51)",
            "ticks": "outside"
           }
          },
          "scene": {
           "xaxis": {
            "backgroundcolor": "rgb(237,237,237)",
            "gridcolor": "white",
            "gridwidth": 2,
            "linecolor": "white",
            "showbackground": true,
            "showgrid": true,
            "tickcolor": "rgb(51,51,51)",
            "ticks": "outside",
            "zerolinecolor": "white"
           },
           "yaxis": {
            "backgroundcolor": "rgb(237,237,237)",
            "gridcolor": "white",
            "gridwidth": 2,
            "linecolor": "white",
            "showbackground": true,
            "showgrid": true,
            "tickcolor": "rgb(51,51,51)",
            "ticks": "outside",
            "zerolinecolor": "white"
           },
           "zaxis": {
            "backgroundcolor": "rgb(237,237,237)",
            "gridcolor": "white",
            "gridwidth": 2,
            "linecolor": "white",
            "showbackground": true,
            "showgrid": true,
            "tickcolor": "rgb(51,51,51)",
            "ticks": "outside",
            "zerolinecolor": "white"
           }
          },
          "shapedefaults": {
           "fillcolor": "black",
           "line": {
            "width": 0
           },
           "opacity": 0.3
          },
          "ternary": {
           "aaxis": {
            "gridcolor": "white",
            "linecolor": "white",
            "showgrid": true,
            "tickcolor": "rgb(51,51,51)",
            "ticks": "outside"
           },
           "baxis": {
            "gridcolor": "white",
            "linecolor": "white",
            "showgrid": true,
            "tickcolor": "rgb(51,51,51)",
            "ticks": "outside"
           },
           "bgcolor": "rgb(237,237,237)",
           "caxis": {
            "gridcolor": "white",
            "linecolor": "white",
            "showgrid": true,
            "tickcolor": "rgb(51,51,51)",
            "ticks": "outside"
           }
          },
          "xaxis": {
           "automargin": true,
           "gridcolor": "white",
           "linecolor": "white",
           "showgrid": true,
           "tickcolor": "rgb(51,51,51)",
           "ticks": "outside",
           "title": {
            "standoff": 15
           },
           "zerolinecolor": "white"
          },
          "yaxis": {
           "automargin": true,
           "gridcolor": "white",
           "linecolor": "white",
           "showgrid": true,
           "tickcolor": "rgb(51,51,51)",
           "ticks": "outside",
           "title": {
            "standoff": 15
           },
           "zerolinecolor": "white"
          }
         }
        },
        "legend": {
         "orientation": "h",
         "yanchor": "top",
         "y": 1.02,
         "xanchor": "left",
         "x": 1
        },
        "margin": {
         "r": 20,
         "l": 10,
         "b": 10,
         "t": 10
        },
        "width": 1000,
        "height": 800,
        "scene": {
         "xaxis": {
          "title": {
           "text": "Pulse width (μs)"
          }
         },
         "yaxis": {
          "title": {
           "text": "Energy density new cone (J/cm^2)"
          }
         },
         "zaxis": {
          "title": {
           "text": "Figure of Merit"
          }
         },
         "camera": {
          "up": {
           "x": 0,
           "y": 0,
           "z": 1
          },
          "center": {
           "x": 0,
           "y": 0,
           "z": 0
          },
          "eye": {
           "x": 2.75,
           "y": 1.75,
           "z": 1
          }
         }
        }
       },
       "config": {
        "plotlyServerURL": "https://plot.ly"
       }
      }
     },
     "metadata": {}
    }
   ],
   "metadata": {}
  },
  {
   "cell_type": "code",
   "execution_count": 21,
   "source": [
    "df_x = df_Xnew\n",
    "df_cols = df.columns\n",
    "n_col = 2 # num of columns per row in the figure\n",
    "fs = 20\n",
    "for n in np.arange(0, 2, n_col):\n",
    "    fig,axes = plt.subplots(1, n_col, figsize=(18, 3.5), sharey = False)\n",
    "    fs = 20\n",
    "    for i in np.arange(n_col):\n",
    "        if n< len(df_cols):\n",
    "            axes[i].hist(df_x.iloc[:,n], bins= 20, range = (min(var_array[n])- 0.05*abs(var_array[n][1]-var_array[n][0]),\n",
    "                                                            max(var_array[n])+0.05*abs(var_array[n][1]-var_array[n][0])), \n",
    "                         edgecolor='black') ####\n",
    "            axes[i].set_xlabel(df_cols[n], fontsize = 18)\n",
    "        else:\n",
    "            axes[i].axis(\"off\")\n",
    "        n = n+1      \n",
    "    axes[0].set_ylabel('counts', fontsize = fs)\n",
    "    for i in range(len(axes)):\n",
    "        axes[i].tick_params(direction='in', length=5, width=1, labelsize = fs*.8, grid_alpha = 0.5)\n",
    "        axes[i].grid(True, linestyle='-.')\n",
    "    plt.show()"
   ],
   "outputs": [
    {
     "output_type": "display_data",
     "data": {
      "image/png": "[encoded data removed]",
      "text/plain": [
       "<Figure size 1800x350 with 2 Axes>"
      ]
     },
     "metadata": {}
    }
   ],
   "metadata": {}
  },
  {
   "cell_type": "code",
   "execution_count": 22,
   "source": [
    "fig, axes = plt.subplots(1, 2, figsize=(16, 4.5), sharey = False)\n",
    "fs = 14\n",
    "exp_cond = np.transpose(range(len(Y)))\n",
    "exp_eff = np.transpose(Y[:,0])\n",
    "\n",
    "# plot experimental points\n",
    "axes[0].scatter(exp_cond, exp_eff, #facecolor = 'none',\n",
    "            edgecolor = 'navy', s = 20, alpha = 0.6, label = 'experiment')\n",
    "\n",
    "# connect max experimental points with black line\n",
    "axes[0].plot(np.transpose(exp_cond), np.maximum.accumulate(np.transpose(exp_eff)), \n",
    "         marker = 'o', ms = 0, c = 'black')\n",
    "\n",
    "# plot training predictions\n",
    "axes[0].scatter(np.arange(len(y_pred)), y_pred,\n",
    "                s = 50, facecolors='none', alpha = 0.6, edgecolor = 'gray', label = 'predicted')\n",
    "\n",
    "# plot error bars\n",
    "axes[0].errorbar(np.arange(len(y_pred)), y_pred, yerr = y_uncer,  \n",
    "                 ms = 0, ls = '', capsize = 2, alpha = 0.6, \n",
    "                 color = 'gray', zorder = 0)\n",
    "\n",
    "# calculate suggested point\n",
    "y_pred_new, y_uncer_new = f_obj(x_normalizer(df_Xnew.values))\n",
    "y_pred_new = -y_pred_new[:,-1]\n",
    "y_uncer_new = np.sqrt(y_uncer_new[:,-1])\n",
    "\n",
    "# plot suggested point\n",
    "axes[0].scatter(np.arange(len(df_Xnew))+len(X), y_pred_new,\n",
    "                s = 50, facecolors='none', alpha = 0.6, edgecolor = 'darkgreen', label = 'suggested')\n",
    "axes[0].errorbar(np.arange(len(df_Xnew))+len(X), y_pred_new, yerr = y_uncer_new,  \n",
    "                 ms = 0, ls = '', capsize = 2, alpha = 0.6, \n",
    "                 color = 'darkgreen', zorder = 0)\n",
    "\n",
    "# set up axes and labels\n",
    "axes[0].set_ylabel('Current Best 2 Qsw/(U+|D|) 1e6cycles', fontsize = fs)\n",
    "axes[0].set_xlabel('Process Condition', fontsize = fs)\n",
    "axes[0].set_ylim(-1, 8)\n",
    "axes[0].set_xlim(-1, 30)\n",
    "axes[0].set_xticks(np.arange(0,35,5))\n",
    "axes[0].legend(fontsize = fs*0.8)\n",
    "\n",
    "axes[1].axis(\"off\")\n",
    "for ax in axes:\n",
    "    ax.tick_params(direction='in', length=5, width=1, labelsize = fs*.8, grid_alpha = 0.5)\n",
    "    ax.grid(True, linestyle='-.')\n",
    "plt.subplots_adjust(wspace = 0.4)\n",
    "\n",
    "plt.show()"
   ],
   "outputs": [
    {
     "output_type": "display_data",
     "data": {
      "image/png": "[encoded data removed]",
      "text/plain": [
       "<Figure size 1600x450 with 2 Axes>"
      ]
     },
     "metadata": {}
    }
   ],
   "metadata": {}
  },
  {
   "cell_type": "code",
   "execution_count": 23,
   "source": [
    "design = RandomDesign(parameter_space)\n",
    "x_sampled = design.get_samples(200)\n",
    "x_columns = df.iloc[:,0:2].columns\n",
    "for i in range(input_dim):\n",
    "    for j in range(input_dim-i-1):\n",
    "        \n",
    "## Generate a 2D grid for Contour plot\n",
    "        ind1 = i\n",
    "        ind2 = j+i+1\n",
    "        n_steps =21\n",
    "        x1x2y_pred, x1x2y_uncer =[[],[]]\n",
    "        for x1 in np.linspace(0, 1, n_steps):\n",
    "            for x2 in np.linspace(0, 1, n_steps):\n",
    "                x_temp = np.copy(x_sampled)\n",
    "                x_temp[:,ind1] = x1\n",
    "                x_temp[:,ind2] = x2\n",
    "                y_pred, y_uncer = f_obj(x_temp)\n",
    "                y_pred = -y_pred\n",
    "                x1_org = x_denormalizer(x_temp)[0,ind1]\n",
    "                x2_org = x_denormalizer(x_temp)[0,ind2]\n",
    "                x1x2y_pred.append([x1_org, x2_org, np.max(y_pred), np.mean(y_pred), np.min(y_pred)])\n",
    "                x1x2y_uncer.append([x1_org, x2_org, np.max(np.sqrt(y_uncer)), np.mean(np.sqrt(y_uncer)), np.min(np.sqrt(y_uncer))])\n",
    "                \n",
    "        x1 = np.array(x1x2y_pred, dtype=object)[:,0].reshape(n_steps, n_steps)\n",
    "        x2 = np.array(x1x2y_pred, dtype=object)[:,1].reshape(n_steps, n_steps)\n",
    "        y_pred_max = np.array(x1x2y_pred, dtype=object)[:,2].reshape(n_steps, n_steps)\n",
    "        y_pred_mean = np.array(x1x2y_pred, dtype=object)[:,3].reshape(n_steps, n_steps)\n",
    "        y_pred_min = np.array(x1x2y_pred, dtype=object)[:,4].reshape(n_steps, n_steps)\n",
    "        \n",
    "        y_uncer_max = np.array(x1x2y_uncer, dtype=object)[:,2].reshape(n_steps, n_steps)\n",
    "        y_uncer_mean = np.array(x1x2y_uncer, dtype=object)[:,3].reshape(n_steps, n_steps)\n",
    "        y_uncer_min = np.array(x1x2y_uncer, dtype=object)[:,4].reshape(n_steps, n_steps)\n",
    "\n",
    "        fs = 14\n",
    "        title_pad = 16\n",
    "        \n",
    "## Contour for Prediction Efficiency Mean\n",
    "        fig,axes = plt.subplots(1, 3, figsize=(17, 4), sharey = False, sharex = False)\n",
    "        colorbar_offset = [6, 2, 1]\n",
    "        for ax, c_offset, y in zip(axes, colorbar_offset,\n",
    "                                   [y_pred_max, y_pred_mean, y_pred_min]):#[y_pred_max, y_pred_mean, y_pred_min]\n",
    "            \n",
    "            c_plt1 = ax.contourf(x1, x2, y, levels = np.arange(26)*0.25+c_offset, cmap='plasma', extend = 'both')\n",
    "            cbar = fig.colorbar(c_plt1, ax= ax)\n",
    "            cbar.ax.tick_params(labelsize=fs*0.8)\n",
    "            ax.scatter(x_denormalizer(X)[:, ind1], \n",
    "                       x_denormalizer(X)[:, ind2], \n",
    "                       s = 40, facecolors='gray', alpha = 0.5, edgecolor = 'white')\n",
    "\n",
    "            ax.scatter(df_Xnew.values[:, ind1], \n",
    "                       df_Xnew.values[:, ind2], \n",
    "                       s = 50, facecolors='none', alpha = 0.9, edgecolor = 'green')\n",
    "            ax.set_xlabel(str(x_columns[ind1]),fontsize =  fs)\n",
    "            ax.set_ylabel(str(x_columns[ind2]),fontsize =  fs)\n",
    "\n",
    "            x1_delta = (np.max(x1)-np.min(x1))*0.05\n",
    "            x2_delta = (np.max(x2)-np.min(x2))*0.05\n",
    "            ax.set_xlim(np.min(x1)-x1_delta, np.max(x1)+x1_delta)\n",
    "            ax.set_ylim(np.min(x2)-x2_delta, np.max(x2)+x2_delta)\n",
    "            ax.tick_params(direction='in', length=5, width=1, labelsize = fs*.8)#, grid_alpha = 0.5\n",
    "\n",
    "        axes[0].set_title('objective fcn max', pad = title_pad,fontsize =  fs)\n",
    "        axes[1].set_title('objective fcn mean', pad = title_pad,fontsize =  fs)\n",
    "        axes[2].set_title('objective fcn min', pad = title_pad,fontsize =  fs)\n",
    "        plt.subplots_adjust(wspace = 0.3)\n",
    "        plt.show()\n"
   ],
   "outputs": [
    {
     "output_type": "display_data",
     "data": {
      "image/png": "[encoded data removed]",
      "text/plain": [
       "<Figure size 1700x400 with 6 Axes>"
      ]
     },
     "metadata": {}
    }
   ],
   "metadata": {}
  },
  {
   "cell_type": "markdown",
   "source": [
    "### Save Predictions and Visualize "
   ],
   "metadata": {}
  },
  {
   "cell_type": "code",
   "execution_count": 24,
   "source": [
    "design = RandomDesign(parameter_space)\n",
    "x_sampled = design.get_samples(200)\n",
    "x_columns = df.iloc[:,0:2].columns\n",
    "for i in range(input_dim):\n",
    "    for j in range(input_dim-i-1):\n",
    "        ind1 = i\n",
    "        ind2 = j+i+1\n",
    "        n_steps =21\n",
    "        x1x2y_pred, x1x2y_var =[[],[]]\n",
    "        for x1 in np.linspace(0, 1, n_steps):\n",
    "            for x2 in np.linspace(0, 1, n_steps):\n",
    "                x_temp = np.copy(x_sampled)\n",
    "                x_temp[:,ind1] = x1\n",
    "                x_temp[:,ind2] = x2\n",
    "                yc_pr = f_acq(x_temp)\n",
    "                x1_org = x_denormalizer(x_temp)[0,ind1]\n",
    "                x2_org = x_denormalizer(x_temp)[0,ind2]\n",
    "                x1x2y_pred.append([x1_org, x2_org, np.max(yc_pr), np.mean(yc_pr), np.min(yc_pr)])\n",
    "                \n",
    "        x1c = np.array(x1x2y_pred, dtype=object)[:,0].reshape(n_steps, n_steps)\n",
    "        x2c = np.array(x1x2y_pred, dtype=object)[:,1].reshape(n_steps, n_steps)\n",
    "        yc_pr_max = np.array(x1x2y_pred, dtype=object)[:,2].reshape(n_steps, n_steps)\n",
    "        yc_pr_mean = np.array(x1x2y_pred, dtype=object)[:,3].reshape(n_steps, n_steps)\n",
    "        yc_pr_min = np.array(x1x2y_pred, dtype=object)[:,4].reshape(n_steps, n_steps)\n",
    "\n",
    "        fs = 14\n",
    "        title_pad = 16\n",
    "        \n",
    "        fig,axes = plt.subplots(1, 3, figsize=(17, 4), sharey = False, sharex = False)\n",
    "        colorbar_offset = [0.2, 0.1, 0.0]\n",
    "        for ax, y, c_offset in zip(axes, [yc_pr_max, yc_pr_mean, yc_pr_min],colorbar_offset):\n",
    "            c_plt1 = ax.contourf(x1c, x2c, y/22, levels = np.arange(11)*0.05+c_offset, cmap='coolwarm', extend = 'both')# \n",
    "            cbar = fig.colorbar(c_plt1, ax= ax)\n",
    "            cbar.ax.tick_params(labelsize=fs*0.8)\n",
    "            ax.scatter(x_denormalizer(X)[:, ind1], \n",
    "                       x_denormalizer(X)[:, ind2], \n",
    "                       s = 40, facecolors='gray', alpha = 0.5, edgecolor = 'white')\n",
    "            ax.scatter(df_Xnew.values[:, ind1], \n",
    "                       df_Xnew.values[:, ind2], \n",
    "                       s = 50, facecolors='none', alpha = 0.9, edgecolor = 'green')\n",
    "            ax.set_xlabel(str(x_columns[ind1]),fontsize = fs)\n",
    "            ax.set_ylabel(str(x_columns[ind2]),fontsize = fs)\n",
    "\n",
    "            x1_delta = (np.max(x1c)-np.min(x1c))*0.05\n",
    "            x2_delta = (np.max(x2c)-np.min(x2c))*0.05\n",
    "            ax.set_xlim(np.min(x1c)-x1_delta, np.max(x1c)+x1_delta)\n",
    "            ax.set_ylim(np.min(x2c)-x2_delta, np.max(x2c)+x2_delta)\n",
    "            ax.tick_params(direction='in', length=5, width=1, labelsize = fs*.8, grid_alpha = 0.5)\n",
    "            if ind1==1:#MAPbI\n",
    "                ax.set_xticks([0, 50, 100, 150, 200, 250])\n",
    "            if ind1==2:#PC voltage\n",
    "                ax.set_xticks([200, 250, 300, 350, 400, 450])\n",
    "            if ind1==3:#PC length\n",
    "                ax.set_xticks([0, 25, 50, 75, 100])\n",
    "            \n",
    "            \n",
    "        axes[0].set_title('acqui fcn max', pad = title_pad,fontsize = fs)\n",
    "        axes[1].set_title('acqui fcn mean', pad = title_pad,fontsize = fs)\n",
    "        axes[2].set_title('acqui fcn min', pad = title_pad,fontsize = fs)\n",
    "        plt.subplots_adjust(wspace = 0.3)\n",
    "        plt.show()"
   ],
   "outputs": [
    {
     "output_type": "display_data",
     "data": {
      "image/png": "[encoded data removed]",
      "text/plain": [
       "<Figure size 1700x400 with 6 Axes>"
      ]
     },
     "metadata": {}
    }
   ],
   "metadata": {}
  },
  {
   "cell_type": "code",
   "execution_count": null,
   "source": [],
   "outputs": [],
   "metadata": {}
  }
 ],
 "metadata": {
  "orig_nbformat": 4,
  "language_info": {
   "name": "python",
   "version": "3.9.16",
   "mimetype": "text/x-python",
   "codemirror_mode": {
    "name": "ipython",
    "version": 3
   },
   "pygments_lexer": "ipython3",
   "nbconvert_exporter": "python",
   "file_extension": ".py"
  },
  "kernelspec": {
   "name": "python3",
   "display_name": "Python 3.9.16 64-bit ('FEGP': conda)"
  },
  "interpreter": {
   "hash": "b00f9bca1c18369f730e284e4d0522d8a3e0f0b629e30dad99ec4bb4df6f08b7"
  }
 },
 "nbformat": 4,
 "nbformat_minor": 2
}