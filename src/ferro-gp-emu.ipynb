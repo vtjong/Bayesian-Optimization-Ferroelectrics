{
 "cells": [
  {
   "cell_type": "code",
   "execution_count": 1,
   "source": [
    "# Prep training data\n",
    "from copyreg import pickle\n",
    "from sklearn.preprocessing import StandardScaler\n",
    "from sklearn import preprocessing\n",
    "import sys\n",
    "from tkinter import Y\n",
    "import gzip\n",
    "import itertools\n",
    "import numpy as np\n",
    "import pandas as pd\n",
    "import pickle as pk\n",
    "import torch\n",
    "import gpytorch\n",
    "import plotly.express as px\n",
    "sys.path.append('..')\n",
    "sys.path.insert(0, '../src')"
   ],
   "outputs": [],
   "metadata": {}
  },
  {
   "cell_type": "code",
   "execution_count": 2,
   "source": [
    "from model import GPModel\n",
    "from acq_funcs import EI, PI, cust_acq, thompson\n",
    "from plotter import vis_pred, vis_acq"
   ],
   "outputs": [],
   "metadata": {}
  },
  {
   "cell_type": "markdown",
   "source": [
    "### Data Read and Pre-processing"
   ],
   "metadata": {}
  },
  {
   "cell_type": "code",
   "execution_count": 3,
   "source": [
    "# read data and display\n",
    "def read_dat(dir=\"/Users/valenetjong/Bayesian-Optimization-Ferroelectrics/data/\",\n",
    "            src_file = \"Bolometer_readings_PulseForge.xlsx\", sheet= \"Combined\"):\n",
    "    file = dir + src_file\n",
    "    fe_data = pd.read_excel(file, sheet_name=sheet, usecols=['Energy density new cone (J/cm^2)',\n",
    "                            'Time (ms)','2 Qsw/(U+|D|) 1e6cycles'])\n",
    "    fe_data.dropna(subset=['2 Qsw/(U+|D|) 1e6cycles'], inplace=True)\n",
    "    fe_data = fe_data[fe_data['2 Qsw/(U+|D|) 1e6cycles']!= 0]\n",
    "    return fe_data\n",
    "\n",
    "def display_data(fe_data):\n",
    "    \"\"\"\n",
    "    [display_data(fe_data)] creates a cross-section scatter plot of all combinations\n",
    "    of the four input parameters and single output parameter.\n",
    "    \"\"\"\n",
    "    # plot each cross-section\n",
    "    fig = px.scatter_matrix(fe_data, dimensions=['Energy density new cone (J/cm^2)', \n",
    "    \"Time (ms)\", \"2 Qsw/(U+|D|) 1e6cycles\"])\n",
    "    fig.update_layout(margin=dict(r=20, l=10, b=10, t=10))\n",
    "    fig.update_layout(height=800)\n",
    "    fig.show()"
   ],
   "outputs": [],
   "metadata": {}
  },
  {
   "cell_type": "code",
   "execution_count": 4,
   "source": [
    "fe_data = read_dat()\n",
    "print(fe_data)\n",
    "display_data(fe_data)"
   ],
   "outputs": [
    {
     "output_type": "stream",
     "name": "stdout",
     "text": [
      "    Time (ms)  Energy density new cone (J/cm^2)  2 Qsw/(U+|D|) 1e6cycles\n",
      "4         0.5                              2.73                 0.873026\n",
      "5         0.5                              3.40                 2.677245\n",
      "6         1.0                              3.79                 1.699015\n",
      "7         1.0                              6.44                 3.805053\n",
      "8         1.5                              5.36                 3.334856\n",
      "9         1.5                              8.99                 4.535153\n",
      "11        5.0                              8.80                 1.362510\n",
      "13        5.0                             14.67                 3.841291\n",
      "19        0.5                              5.24                 1.201357\n",
      "22        5.0                             14.89                 3.513652\n",
      "23        2.0                             10.13                 3.470871\n",
      "24        0.5                              4.51                 0.263298\n",
      "25        0.5                              5.37                 2.775340\n",
      "27        0.5                              4.88                 2.591306\n",
      "28        1.0                              6.76                 2.579984\n",
      "29        1.0                              7.77                 3.173819\n",
      "31        2.0                              8.73                 0.131505\n",
      "32        2.0                              9.38                 0.451164\n",
      "33        2.0                             10.48                 2.126640\n",
      "34        2.0                             11.01                 3.468213\n",
      "35        5.0                             14.71                 3.685852\n",
      "36        5.0                             15.44                 3.445656\n",
      "37        5.0                             13.37                 2.651547\n"
     ]
    },
    {
     "output_type": "display_data",
     "data": {
      "application/vnd.plotly.v1+json": {
       "data": [
        {
         "dimensions": [
          {
           "axis": {
            "matches": true
           },
           "label": "Energy density new cone (J/cm^2)",
           "values": [
            2.73,
            3.4,
            3.79,
            6.44,
            5.36,
            8.99,
            8.8,
            14.67,
            5.24,
            14.89,
            10.13,
            4.51,
            5.37,
            4.88,
            6.76,
            7.77,
            8.73,
            9.38,
            10.48,
            11.01,
            14.71,
            15.44,
            13.37
           ]
          },
          {
           "axis": {
            "matches": true
           },
           "label": "Time (ms)",
           "values": [
            0.5,
            0.5,
            1,
            1,
            1.5,
            1.5,
            5,
            5,
            0.5,
            5,
            2,
            0.5,
            0.5,
            0.5,
            1,
            1,
            2,
            2,
            2,
            2,
            5,
            5,
            5
           ]
          },
          {
           "axis": {
            "matches": true
           },
           "label": "2 Qsw/(U+|D|) 1e6cycles",
           "values": [
            0.8730257299654021,
            2.677244640050493,
            1.6990152147413928,
            3.8050528055652655,
            3.3348561928152627,
            4.535152817359003,
            1.3625102372531497,
            3.841290609056986,
            1.2013569985324948,
            3.5136521918176413,
            3.4708714822041062,
            0.2632982379553876,
            2.7753404356378253,
            2.5913062464887977,
            2.579984359259049,
            3.1738185691110727,
            0.1315049942519029,
            0.4511637114621348,
            2.126639748505365,
            3.468212840642842,
            3.685852431471957,
            3.445655582638384,
            2.651546836022379
           ]
          }
         ],
         "hovertemplate": "%{xaxis.title.text}=%{x}<br>%{yaxis.title.text}=%{y}<extra></extra>",
         "legendgroup": "",
         "marker": {
          "color": "#636efa",
          "symbol": "circle"
         },
         "name": "",
         "showlegend": false,
         "type": "splom"
        }
       ],
       "layout": {
        "template": {
         "data": {
          "histogram2dcontour": [
           {
            "type": "histogram2dcontour",
            "colorbar": {
             "outlinewidth": 0,
             "ticks": ""
            },
            "colorscale": [
             [
              0,
              "#0d0887"
             ],
             [
              0.1111111111111111,
              "#46039f"
             ],
             [
              0.2222222222222222,
              "#7201a8"
             ],
             [
              0.3333333333333333,
              "#9c179e"
             ],
             [
              0.4444444444444444,
              "#bd3786"
             ],
             [
              0.5555555555555556,
              "#d8576b"
             ],
             [
              0.6666666666666666,
              "#ed7953"
             ],
             [
              0.7777777777777778,
              "#fb9f3a"
             ],
             [
              0.8888888888888888,
              "#fdca26"
             ],
             [
              1,
              "#f0f921"
             ]
            ]
           }
          ],
          "choropleth": [
           {
            "type": "choropleth",
            "colorbar": {
             "outlinewidth": 0,
             "ticks": ""
            }
           }
          ],
          "histogram2d": [
           {
            "type": "histogram2d",
            "colorbar": {
             "outlinewidth": 0,
             "ticks": ""
            },
            "colorscale": [
             [
              0,
              "#0d0887"
             ],
             [
              0.1111111111111111,
              "#46039f"
             ],
             [
              0.2222222222222222,
              "#7201a8"
             ],
             [
              0.3333333333333333,
              "#9c179e"
             ],
             [
              0.4444444444444444,
              "#bd3786"
             ],
             [
              0.5555555555555556,
              "#d8576b"
             ],
             [
              0.6666666666666666,
              "#ed7953"
             ],
             [
              0.7777777777777778,
              "#fb9f3a"
             ],
             [
              0.8888888888888888,
              "#fdca26"
             ],
             [
              1,
              "#f0f921"
             ]
            ]
           }
          ],
          "heatmap": [
           {
            "type": "heatmap",
            "colorbar": {
             "outlinewidth": 0,
             "ticks": ""
            },
            "colorscale": [
             [
              0,
              "#0d0887"
             ],
             [
              0.1111111111111111,
              "#46039f"
             ],
             [
              0.2222222222222222,
              "#7201a8"
             ],
             [
              0.3333333333333333,
              "#9c179e"
             ],
             [
              0.4444444444444444,
              "#bd3786"
             ],
             [
              0.5555555555555556,
              "#d8576b"
             ],
             [
              0.6666666666666666,
              "#ed7953"
             ],
             [
              0.7777777777777778,
              "#fb9f3a"
             ],
             [
              0.8888888888888888,
              "#fdca26"
             ],
             [
              1,
              "#f0f921"
             ]
            ]
           }
          ],
          "heatmapgl": [
           {
            "type": "heatmapgl",
            "colorbar": {
             "outlinewidth": 0,
             "ticks": ""
            },
            "colorscale": [
             [
              0,
              "#0d0887"
             ],
             [
              0.1111111111111111,
              "#46039f"
             ],
             [
              0.2222222222222222,
              "#7201a8"
             ],
             [
              0.3333333333333333,
              "#9c179e"
             ],
             [
              0.4444444444444444,
              "#bd3786"
             ],
             [
              0.5555555555555556,
              "#d8576b"
             ],
             [
              0.6666666666666666,
              "#ed7953"
             ],
             [
              0.7777777777777778,
              "#fb9f3a"
             ],
             [
              0.8888888888888888,
              "#fdca26"
             ],
             [
              1,
              "#f0f921"
             ]
            ]
           }
          ],
          "contourcarpet": [
           {
            "type": "contourcarpet",
            "colorbar": {
             "outlinewidth": 0,
             "ticks": ""
            }
           }
          ],
          "contour": [
           {
            "type": "contour",
            "colorbar": {
             "outlinewidth": 0,
             "ticks": ""
            },
            "colorscale": [
             [
              0,
              "#0d0887"
             ],
             [
              0.1111111111111111,
              "#46039f"
             ],
             [
              0.2222222222222222,
              "#7201a8"
             ],
             [
              0.3333333333333333,
              "#9c179e"
             ],
             [
              0.4444444444444444,
              "#bd3786"
             ],
             [
              0.5555555555555556,
              "#d8576b"
             ],
             [
              0.6666666666666666,
              "#ed7953"
             ],
             [
              0.7777777777777778,
              "#fb9f3a"
             ],
             [
              0.8888888888888888,
              "#fdca26"
             ],
             [
              1,
              "#f0f921"
             ]
            ]
           }
          ],
          "surface": [
           {
            "type": "surface",
            "colorbar": {
             "outlinewidth": 0,
             "ticks": ""
            },
            "colorscale": [
             [
              0,
              "#0d0887"
             ],
             [
              0.1111111111111111,
              "#46039f"
             ],
             [
              0.2222222222222222,
              "#7201a8"
             ],
             [
              0.3333333333333333,
              "#9c179e"
             ],
             [
              0.4444444444444444,
              "#bd3786"
             ],
             [
              0.5555555555555556,
              "#d8576b"
             ],
             [
              0.6666666666666666,
              "#ed7953"
             ],
             [
              0.7777777777777778,
              "#fb9f3a"
             ],
             [
              0.8888888888888888,
              "#fdca26"
             ],
             [
              1,
              "#f0f921"
             ]
            ]
           }
          ],
          "mesh3d": [
           {
            "type": "mesh3d",
            "colorbar": {
             "outlinewidth": 0,
             "ticks": ""
            }
           }
          ],
          "scatter": [
           {
            "fillpattern": {
             "fillmode": "overlay",
             "size": 10,
             "solidity": 0.2
            },
            "type": "scatter"
           }
          ],
          "parcoords": [
           {
            "type": "parcoords",
            "line": {
             "colorbar": {
              "outlinewidth": 0,
              "ticks": ""
             }
            }
           }
          ],
          "scatterpolargl": [
           {
            "type": "scatterpolargl",
            "marker": {
             "colorbar": {
              "outlinewidth": 0,
              "ticks": ""
             }
            }
           }
          ],
          "bar": [
           {
            "error_x": {
             "color": "#2a3f5f"
            },
            "error_y": {
             "color": "#2a3f5f"
            },
            "marker": {
             "line": {
              "color": "#E5ECF6",
              "width": 0.5
             },
             "pattern": {
              "fillmode": "overlay",
              "size": 10,
              "solidity": 0.2
             }
            },
            "type": "bar"
           }
          ],
          "scattergeo": [
           {
            "type": "scattergeo",
            "marker": {
             "colorbar": {
              "outlinewidth": 0,
              "ticks": ""
             }
            }
           }
          ],
          "scatterpolar": [
           {
            "type": "scatterpolar",
            "marker": {
             "colorbar": {
              "outlinewidth": 0,
              "ticks": ""
             }
            }
           }
          ],
          "histogram": [
           {
            "marker": {
             "pattern": {
              "fillmode": "overlay",
              "size": 10,
              "solidity": 0.2
             }
            },
            "type": "histogram"
           }
          ],
          "scattergl": [
           {
            "type": "scattergl",
            "marker": {
             "colorbar": {
              "outlinewidth": 0,
              "ticks": ""
             }
            }
           }
          ],
          "scatter3d": [
           {
            "type": "scatter3d",
            "line": {
             "colorbar": {
              "outlinewidth": 0,
              "ticks": ""
             }
            },
            "marker": {
             "colorbar": {
              "outlinewidth": 0,
              "ticks": ""
             }
            }
           }
          ],
          "scattermapbox": [
           {
            "type": "scattermapbox",
            "marker": {
             "colorbar": {
              "outlinewidth": 0,
              "ticks": ""
             }
            }
           }
          ],
          "scatterternary": [
           {
            "type": "scatterternary",
            "marker": {
             "colorbar": {
              "outlinewidth": 0,
              "ticks": ""
             }
            }
           }
          ],
          "scattercarpet": [
           {
            "type": "scattercarpet",
            "marker": {
             "colorbar": {
              "outlinewidth": 0,
              "ticks": ""
             }
            }
           }
          ],
          "carpet": [
           {
            "aaxis": {
             "endlinecolor": "#2a3f5f",
             "gridcolor": "white",
             "linecolor": "white",
             "minorgridcolor": "white",
             "startlinecolor": "#2a3f5f"
            },
            "baxis": {
             "endlinecolor": "#2a3f5f",
             "gridcolor": "white",
             "linecolor": "white",
             "minorgridcolor": "white",
             "startlinecolor": "#2a3f5f"
            },
            "type": "carpet"
           }
          ],
          "table": [
           {
            "cells": {
             "fill": {
              "color": "#EBF0F8"
             },
             "line": {
              "color": "white"
             }
            },
            "header": {
             "fill": {
              "color": "#C8D4E3"
             },
             "line": {
              "color": "white"
             }
            },
            "type": "table"
           }
          ],
          "barpolar": [
           {
            "marker": {
             "line": {
              "color": "#E5ECF6",
              "width": 0.5
             },
             "pattern": {
              "fillmode": "overlay",
              "size": 10,
              "solidity": 0.2
             }
            },
            "type": "barpolar"
           }
          ],
          "pie": [
           {
            "automargin": true,
            "type": "pie"
           }
          ]
         },
         "layout": {
          "autotypenumbers": "strict",
          "colorway": [
           "#636efa",
           "#EF553B",
           "#00cc96",
           "#ab63fa",
           "#FFA15A",
           "#19d3f3",
           "#FF6692",
           "#B6E880",
           "#FF97FF",
           "#FECB52"
          ],
          "font": {
           "color": "#2a3f5f"
          },
          "hovermode": "closest",
          "hoverlabel": {
           "align": "left"
          },
          "paper_bgcolor": "white",
          "plot_bgcolor": "#E5ECF6",
          "polar": {
           "bgcolor": "#E5ECF6",
           "angularaxis": {
            "gridcolor": "white",
            "linecolor": "white",
            "ticks": ""
           },
           "radialaxis": {
            "gridcolor": "white",
            "linecolor": "white",
            "ticks": ""
           }
          },
          "ternary": {
           "bgcolor": "#E5ECF6",
           "aaxis": {
            "gridcolor": "white",
            "linecolor": "white",
            "ticks": ""
           },
           "baxis": {
            "gridcolor": "white",
            "linecolor": "white",
            "ticks": ""
           },
           "caxis": {
            "gridcolor": "white",
            "linecolor": "white",
            "ticks": ""
           }
          },
          "coloraxis": {
           "colorbar": {
            "outlinewidth": 0,
            "ticks": ""
           }
          },
          "colorscale": {
           "sequential": [
            [
             0,
             "#0d0887"
            ],
            [
             0.1111111111111111,
             "#46039f"
            ],
            [
             0.2222222222222222,
             "#7201a8"
            ],
            [
             0.3333333333333333,
             "#9c179e"
            ],
            [
             0.4444444444444444,
             "#bd3786"
            ],
            [
             0.5555555555555556,
             "#d8576b"
            ],
            [
             0.6666666666666666,
             "#ed7953"
            ],
            [
             0.7777777777777778,
             "#fb9f3a"
            ],
            [
             0.8888888888888888,
             "#fdca26"
            ],
            [
             1,
             "#f0f921"
            ]
           ],
           "sequentialminus": [
            [
             0,
             "#0d0887"
            ],
            [
             0.1111111111111111,
             "#46039f"
            ],
            [
             0.2222222222222222,
             "#7201a8"
            ],
            [
             0.3333333333333333,
             "#9c179e"
            ],
            [
             0.4444444444444444,
             "#bd3786"
            ],
            [
             0.5555555555555556,
             "#d8576b"
            ],
            [
             0.6666666666666666,
             "#ed7953"
            ],
            [
             0.7777777777777778,
             "#fb9f3a"
            ],
            [
             0.8888888888888888,
             "#fdca26"
            ],
            [
             1,
             "#f0f921"
            ]
           ],
           "diverging": [
            [
             0,
             "#8e0152"
            ],
            [
             0.1,
             "#c51b7d"
            ],
            [
             0.2,
             "#de77ae"
            ],
            [
             0.3,
             "#f1b6da"
            ],
            [
             0.4,
             "#fde0ef"
            ],
            [
             0.5,
             "#f7f7f7"
            ],
            [
             0.6,
             "#e6f5d0"
            ],
            [
             0.7,
             "#b8e186"
            ],
            [
             0.8,
             "#7fbc41"
            ],
            [
             0.9,
             "#4d9221"
            ],
            [
             1,
             "#276419"
            ]
           ]
          },
          "xaxis": {
           "gridcolor": "white",
           "linecolor": "white",
           "ticks": "",
           "title": {
            "standoff": 15
           },
           "zerolinecolor": "white",
           "automargin": true,
           "zerolinewidth": 2
          },
          "yaxis": {
           "gridcolor": "white",
           "linecolor": "white",
           "ticks": "",
           "title": {
            "standoff": 15
           },
           "zerolinecolor": "white",
           "automargin": true,
           "zerolinewidth": 2
          },
          "scene": {
           "xaxis": {
            "backgroundcolor": "#E5ECF6",
            "gridcolor": "white",
            "linecolor": "white",
            "showbackground": true,
            "ticks": "",
            "zerolinecolor": "white",
            "gridwidth": 2
           },
           "yaxis": {
            "backgroundcolor": "#E5ECF6",
            "gridcolor": "white",
            "linecolor": "white",
            "showbackground": true,
            "ticks": "",
            "zerolinecolor": "white",
            "gridwidth": 2
           },
           "zaxis": {
            "backgroundcolor": "#E5ECF6",
            "gridcolor": "white",
            "linecolor": "white",
            "showbackground": true,
            "ticks": "",
            "zerolinecolor": "white",
            "gridwidth": 2
           }
          },
          "shapedefaults": {
           "line": {
            "color": "#2a3f5f"
           }
          },
          "annotationdefaults": {
           "arrowcolor": "#2a3f5f",
           "arrowhead": 0,
           "arrowwidth": 1
          },
          "geo": {
           "bgcolor": "white",
           "landcolor": "#E5ECF6",
           "subunitcolor": "white",
           "showland": true,
           "showlakes": true,
           "lakecolor": "white"
          },
          "title": {
           "x": 0.05
          },
          "mapbox": {
           "style": "light"
          }
         }
        },
        "legend": {
         "tracegroupgap": 0
        },
        "margin": {
         "t": 10,
         "r": 20,
         "l": 10,
         "b": 10
        },
        "dragmode": "select",
        "height": 800
       },
       "config": {
        "plotlyServerURL": "https://plot.ly"
       }
      }
     },
     "metadata": {}
    }
   ],
   "metadata": {}
  },
  {
   "cell_type": "markdown",
   "source": [
    "### Grid/Parameter Space"
   ],
   "metadata": {}
  },
  {
   "cell_type": "code",
   "execution_count": 5,
   "source": [
    "import emukit\n",
    "import GPy\n",
    "from emukit.core import ParameterSpace, ContinuousParameter, DiscreteParameter\n",
    "from emukit.core.initial_designs.random_design import RandomDesign\n",
    "from emukit.core.initial_designs.latin_design import LatinDesign"
   ],
   "outputs": [],
   "metadata": {}
  },
  {
   "cell_type": "code",
   "execution_count": 6,
   "source": [
    "time_len_min, time_len_max, time_len_step = [fe_data[\"Time (ms)\"].min(), fe_data[\"Time (ms)\"].max(), 0.1]  ## Unit: ms\n",
    "time_len_var = np.arange(time_len_min, time_len_max+time_len_step*0.1, time_len_step)\n",
    "time_len_num = len(time_len_var)\n",
    "\n",
    "e_den_min, e_den_max, e_den_step = [fe_data[\"Energy density new cone (J/cm^2)\"].min(), fe_data[\"Energy density new cone (J/cm^2)\"].max(), 0.01]  # Unit: J/cm^2\n",
    "### Give step a scaling factor of 0.1 to avoid numercial errors such as 1.7000002\n",
    "e_den_var = np.arange(e_den_min, e_den_max+e_den_step*0.1, e_den_step)\n",
    "e_den_num = len(e_den_var)\n",
    "\n",
    "var_array = [time_len_var, e_den_var]\n",
    "x_labels =  [\"Time (ms)\", \"Energy density new cone (J/cm^2)\"]\n",
    "\n",
    "def x_normalizer(X, var_array = var_array):\n",
    "    def max_min_scaler(x, x_max, x_min):\n",
    "        return (x-x_min)/(x_max-x_min)\n",
    "    x_norm = []\n",
    "    for x in (X):\n",
    "           x_norm.append([max_min_scaler(x[i], \n",
    "                         max(var_array[i]), \n",
    "                         min(var_array[i])) for i in range(len(x))])\n",
    "    return np.array(x_norm)\n",
    "\n",
    "def x_denormalizer(x_norm, var_array = var_array):\n",
    "    \n",
    "    def max_min_rescaler(x, x_max, x_min):\n",
    "        return x*(x_max-x_min)+x_min\n",
    "    x_original = []\n",
    "    for x in (x_norm):\n",
    "           x_original.append([max_min_rescaler(x[i], \n",
    "                              max(var_array[i]), \n",
    "                              min(var_array[i])) for i in range(len(x))])\n",
    "\n",
    "    return np.array(x_original)\n",
    "\n",
    "\n",
    "def get_closest_array(suggested_x):\n",
    "\n",
    "    def get_closest_value(given_value, array_list):\n",
    "        absolute_difference_function = lambda list_value : abs(list_value - given_value)\n",
    "        closest_value = min(array_list, key=absolute_difference_function)\n",
    "        return closest_value\n",
    "    \n",
    "    var_list = var_array\n",
    "    modified_array = []\n",
    "    for x in suggested_x:\n",
    "        modified_array.append([get_closest_value(x[i], var_list[i]) for i in range(len(x))])\n",
    "    return np.array(modified_array)"
   ],
   "outputs": [],
   "metadata": {}
  },
  {
   "cell_type": "code",
   "execution_count": 7,
   "source": [
    "# continuous parameter creates a grid space for grid search\n",
    "parameter_space = ParameterSpace([ContinuousParameter(\"Time (ms)\", 0-1/(time_len_num-1)/2, 1+1/(time_len_num-1)/2),\n",
    "                                  ContinuousParameter(\"Energy density new cone (J/cm^2)\", 0-1/(e_den_num-1)/2, 1+1/(e_den_num-1)/2),\n",
    "                                 ])"
   ],
   "outputs": [],
   "metadata": {}
  },
  {
   "cell_type": "markdown",
   "source": [
    "### Initialize GP Model"
   ],
   "metadata": {}
  },
  {
   "cell_type": "code",
   "execution_count": 8,
   "source": [
    "from GPy.models import GPRegression\n",
    "from emukit.model_wrappers import GPyModelWrapper\n",
    "from torch.optim import Adam as Adam\n",
    "\n",
    "x_exp = x_normalizer(fe_data.iloc[:, 0:2].values)\n",
    "y_exp = np.transpose([fe_data.iloc[:,-1].values])\n",
    "X, Y = [x_exp, y_exp]\n",
    "\n",
    "input_dim = len(X[0])\n",
    "ker = GPy.kern.Matern52(input_dim = input_dim, ARD =True)#\n",
    "ker.lengthscale.constrain_bounded(1e-2, 1)\n",
    "ker.variance.constrain_bounded(1e-2, 1000.0)\n",
    "model_gpy = GPRegression(X , -Y, ker) #emukit is a minimization tool; need to make Y negative\n",
    "model_gpy.Gaussian_noise.variance = 0.15\n",
    "model_gpy.Gaussian_noise.variance.fix()\n",
    "\n",
    "# Randomize model's hyperparameters\n",
    "model_gpy.randomize() \n",
    "print(ker.lengthscale)\n",
    "print(ker.variance)"
   ],
   "outputs": [
    {
     "output_type": "stream",
     "name": "stderr",
     "text": [
      "reconstraining parameters Mat52.lengthscale\n",
      "reconstraining parameters Mat52.variance\n"
     ]
    },
    {
     "output_type": "stream",
     "name": "stdout",
     "text": [
      "  \u001b[1mindex\u001b[0;0m  |  GP_regression.Mat52.lengthscale  |  constraints  |  priors\n",
      "  \u001b[1m[0]  \u001b[0;0m  |                       0.16431512  |   0.01,1.0    |        \n",
      "  \u001b[1m[1]  \u001b[0;0m  |                       0.56813703  |   0.01,1.0    |        \n",
      "  \u001b[1mindex\u001b[0;0m  |  GP_regression.Mat52.variance  |  constraints  |  priors\n",
      "  \u001b[1m[0]  \u001b[0;0m  |                  490.02993107  |  0.01,1000.0  |        \n"
     ]
    }
   ],
   "metadata": {}
  },
  {
   "cell_type": "markdown",
   "source": [
    "### Hyperparameter Tuning"
   ],
   "metadata": {}
  },
  {
   "cell_type": "code",
   "execution_count": 9,
   "source": [
    "model_gpy.optimize_restarts(num_restarts=30, verbose =False, messages=False) # fit to training data, select best hyperparameters out of num_restarts \n",
    "objective_model = GPyModelWrapper(model_gpy)\n",
    "print(objective_model.model.kern.lengthscale)\n",
    "print(objective_model.model.kern.variance)"
   ],
   "outputs": [
    {
     "output_type": "stream",
     "name": "stdout",
     "text": [
      "  \u001b[1mindex\u001b[0;0m  |  GP_regression.Mat52.lengthscale  |  constraints  |  priors\n",
      "  \u001b[1m[0]  \u001b[0;0m  |                       0.11406668  |   0.01,1.0    |        \n",
      "  \u001b[1m[1]  \u001b[0;0m  |                       0.04872643  |   0.01,1.0    |        \n",
      "  \u001b[1mindex\u001b[0;0m  |  GP_regression.Mat52.variance  |  constraints  |  priors\n",
      "  \u001b[1m[0]  \u001b[0;0m  |                    6.95745165  |  0.01,1000.0  |        \n"
     ]
    }
   ],
   "metadata": {}
  },
  {
   "cell_type": "markdown",
   "source": [
    "### GP Training Results"
   ],
   "metadata": {}
  },
  {
   "cell_type": "code",
   "execution_count": 10,
   "source": [
    "# get GP predictions on training set\n",
    "f_obj =  objective_model.model.predict\n",
    "y_pred, y_uncer = f_obj(X)\n",
    "y_pred = -y_pred[:,-1]  # get back non-neg outputs and get array out of embedding\n",
    "y_uncer = np.sqrt(y_uncer[:,-1])\n",
    "print(y_uncer)"
   ],
   "outputs": [
    {
     "output_type": "stream",
     "name": "stdout",
     "text": [
      "[0.54398003 0.54318712 0.54395886 0.53906906 0.54469755 0.54366531\n",
      " 0.54482503 0.48329923 0.49688418 0.52210148 0.53798857 0.53914549\n",
      " 0.51399897 0.52972393 0.53895759 0.54456656 0.54334282 0.54264023\n",
      " 0.53595464 0.54274067 0.46120432 0.54276527 0.54476534]\n"
     ]
    }
   ],
   "metadata": {}
  },
  {
   "cell_type": "code",
   "execution_count": 11,
   "source": [
    "from sklearn.metrics import mean_squared_error, mean_absolute_error,r2_score\n",
    "from scipy.stats import spearmanr\n",
    "import matplotlib.pyplot as plt \n",
    "\n",
    "# plot predictions against experimental data\n",
    "fig, axes = plt.subplots(1, 3, figsize=(5.5*3, 4.5))\n",
    "fs = 14\n",
    "lims1 = (0, 5)\n",
    "axes[0].scatter(Y[:,-1], y_pred, alpha = 0.5, c = 'navy' , edgecolor = 'navy')\n",
    "axes[0].errorbar(Y[:,-1], y_pred, yerr = y_uncer, ms = 0, \n",
    "                 ls = '', capsize = 2, alpha = 0.6,\n",
    "                 color = 'gray', zorder = 0)\n",
    "axes[0].plot(lims1, lims1, 'k--', alpha=0.75, zorder=0)\n",
    "rmse_value = np.sqrt(mean_squared_error(Y[:,-1], y_pred))\n",
    "mae_value = mean_absolute_error(Y[:,-1], y_pred)\n",
    "spearman_value = spearmanr(Y[:,-1], y_pred)[0]\n",
    "rsquared_value = r2_score(Y[:,-1], y_pred)\n",
    "\n",
    "print('MAE:',np.round(mae_value,2), ' ',\n",
    "      'RMSE:', np.round(rmse_value,2), ' ',\n",
    "      'spearman:', np.round(spearman_value,3), ' ',\n",
    "      'R² score:', np.round(rsquared_value,3))\n",
    "\n",
    "title = 'GPR' + \" (MAE=%.2f\" % mae_value+' [%])'\n",
    "axes[0].set_xlabel('Ground Truth 2 Qsw/(U+|D|) 1e6', fontsize = fs)\n",
    "axes[0].set_ylabel('Prediction 2 Qsw/(U+|D|) 1e6', fontsize = fs)\n",
    "axes[0].set_title(title, fontsize = fs)\n",
    "        \n",
    "for i in range(len(axes)):\n",
    "    axes[i].tick_params(direction='in', length=5, width=1, labelsize = fs*.8, grid_alpha = 0.5)\n",
    "    axes[i].grid(True, linestyle='-.')\n",
    "plt.subplots_adjust(wspace = 0.4)\n",
    "\n",
    "axes[1].axis(\"off\")\n",
    "axes[2].axis(\"off\")\n",
    "\n",
    "plt.show()"
   ],
   "outputs": [
    {
     "output_type": "stream",
     "name": "stdout",
     "text": [
      "MAE: 0.13   RMSE: 0.19   spearman: 0.978   R² score: 0.976\n"
     ]
    },
    {
     "output_type": "display_data",
     "data": {
      "image/png": "[encoded data removed]",
      "text/plain": [
       "<Figure size 1650x450 with 3 Axes>"
      ]
     },
     "metadata": {}
    }
   ],
   "metadata": {}
  },
  {
   "cell_type": "markdown",
   "source": [
    "### GP Plots"
   ],
   "metadata": {}
  },
  {
   "cell_type": "code",
   "execution_count": 12,
   "source": [
    "# create grid for grid search\n",
    "def grid_helper(grid_size, num_params, grid_bounds):\n",
    "    \"\"\"\n",
    "    [grid_helper(grid_size, num_params, grid_bounds)] returns a grid of dimensions\n",
    "    [grid_size] by [num_params], which dictates the parameter space for GP to be \n",
    "    conducted over. \n",
    "    \"\"\"\n",
    "    grid = torch.zeros(grid_size, num_params)\n",
    "    f_grid_diff = lambda i, x, y : float((x[i][1] - x[i][0]) / (y-2))\n",
    "    for i in range(num_params):\n",
    "        grid_diff = f_grid_diff(i, grid_bounds, grid_size)\n",
    "        grid[:, i] = torch.linspace(grid_bounds[i][0] - grid_diff, \n",
    "                                    grid_bounds[i][1] + grid_diff, grid_size)\n",
    "    return grid\n",
    "\n",
    "def grid_maker(x_dat, num_points=30):\n",
    "    \"\"\"\n",
    "    [grid_maker(x_dat, num_points=30)] creates grids to be used for gaussian \n",
    "    process predictions. It outputs the dimension of the grid [num_params], \n",
    "    paramater space grid [test_grid], and [test_arr].\n",
    "    \"\"\"\n",
    "    # define grid between bounds of RTA time, RTA temp\n",
    "    num_params = x_dat.size(dim=1)\n",
    "    grid_bounds = [(x_dat[:,i].min(), x_dat[:,i].max()) for i in range(num_params)]\n",
    "\n",
    "    # set up test_grid for predictions\n",
    "    test_grid = grid_helper(num_points, num_params, grid_bounds)\n",
    "\n",
    "    # create n-D grid with n = num_params\n",
    "    args = (test_grid[:, i] for i in range(num_params))\n",
    "    test_arr = torch.cartesian_prod(*args)\n",
    "    return grid_bounds, num_params, test_grid, test_arr"
   ],
   "outputs": [],
   "metadata": {}
  },
  {
   "cell_type": "code",
   "execution_count": 13,
   "source": [
    "# make, scale post_test_grid\n",
    "_, _, test_grid, test_arr = grid_maker(torch.Tensor(X))\n",
    "volt_on_grid, _ = f_obj(test_arr.numpy())\n",
    "volt_on_grid = -1 * volt_on_grid.reshape(30,30).T\n",
    "raw_test_arr = x_denormalizer(test_arr)\n",
    "raw_test_grid = x_denormalizer(test_grid)\n"
   ],
   "outputs": [],
   "metadata": {}
  },
  {
   "cell_type": "code",
   "execution_count": 20,
   "source": [
    "import plotly.graph_objects as go\n",
    "import matplotlib.pyplot as plt\n",
    "import matplotlib as mpl\n",
    "\n",
    "fig = go.Figure(data=[go.Scatter3d(z=Y[:,-1], \n",
    "                                    x=x_denormalizer(X)[:,0],\n",
    "                                    y=x_denormalizer(X)[:,1], \n",
    "                                    mode='markers',\n",
    "                                    marker={'color':'darkgreen'},\n",
    "                                    name='GP regression')])\n",
    "fig.add_trace(go.Surface(z=volt_on_grid, \n",
    "                            x=raw_test_grid[:,0],\n",
    "                            y=raw_test_grid[:,1],\n",
    "                            opacity = 0.8))\n",
    "\n",
    "fig.update_layout( width=1000, height=800,\n",
    "                    legend=dict(orientation=\"h\", yanchor=\"top\", y=1.02, \n",
    "                    xanchor=\"left\",x=1), margin=dict(r=20, l=10, b=10, t=10), \n",
    "                        scene=dict(\n",
    "                        xaxis_title=\"Pulse width (μs)\",\n",
    "                        yaxis_title=\"Energy density new cone (J/cm^2)\",\n",
    "                        zaxis_title='Figure of Merit')\n",
    "                    )\n",
    "camera = dict(up=dict(x=0, y=0, z=1), center=dict(x=0, y=0, z=0), eye=dict(x=-2, y=-2.5, z=1.75))\n",
    "fig.update_layout(scene_camera=camera)\n",
    "fig.show()"
   ],
   "outputs": [
    {
     "output_type": "display_data",
     "data": {
      "application/vnd.plotly.v1+json": {
       "data": [
        {
         "marker": {
          "color": "darkgreen"
         },
         "mode": "markers",
         "name": "GP regression",
         "x": [
          0.5,
          0.5,
          1,
          1,
          1.5,
          1.5,
          5,
          5,
          0.5,
          5,
          2,
          0.5,
          0.5,
          0.5,
          1,
          1,
          2,
          2,
          2,
          2,
          5,
          5,
          5
         ],
         "y": [
          2.73,
          3.4,
          3.79,
          6.44,
          5.36,
          8.99,
          8.8,
          14.67,
          5.24,
          14.89,
          10.13,
          4.51,
          5.37,
          4.88,
          6.76,
          7.77,
          8.73,
          9.38,
          10.48,
          11.01,
          14.71,
          15.440000000000001,
          13.37
         ],
         "z": [
          0.8730257299654021,
          2.677244640050493,
          1.6990152147413928,
          3.8050528055652655,
          3.3348561928152627,
          4.535152817359003,
          1.3625102372531497,
          3.841290609056986,
          1.2013569985324948,
          3.5136521918176413,
          3.4708714822041062,
          0.2632982379553876,
          2.7753404356378253,
          2.5913062464887977,
          2.579984359259049,
          3.1738185691110727,
          0.1315049942519029,
          0.4511637114621348,
          2.126639748505365,
          3.468212840642842,
          3.685852431471957,
          3.445655582638384,
          2.651546836022379
         ],
         "type": "scatter3d"
        },
        {
         "opacity": 0.8,
         "x": [
          0.3392857015132904,
          0.5055418610572815,
          0.6717979907989502,
          0.8380541801452637,
          1.0043103694915771,
          1.1705665588378906,
          1.3368226289749146,
          1.503078818321228,
          1.669334888458252,
          1.8355910778045654,
          2.001847267150879,
          2.1681032180786133,
          2.334359645843506,
          2.5006155967712402,
          2.666872024536133,
          2.833127975463867,
          2.9993844032287598,
          3.165640354156494,
          3.3318967819213867,
          3.498152494430542,
          3.6644086837768555,
          3.830664873123169,
          3.9969210624694824,
          4.163177490234375,
          4.329433441162109,
          4.495689392089844,
          4.661945819854736,
          4.828201770782471,
          4.994458198547363,
          5.160714149475098
         ],
         "y": [
          2.276071548461914,
          2.745652675628662,
          3.2152340412139893,
          3.6848151683807373,
          4.1543965339660645,
          4.6239776611328125,
          5.093559265136719,
          5.563140392303467,
          6.032721519470215,
          6.502303123474121,
          6.971883773803711,
          7.441465377807617,
          7.911046504974365,
          8.38062858581543,
          8.85020923614502,
          9.319790840148926,
          9.789371490478516,
          10.258953094482422,
          10.728534698486328,
          11.198116302490234,
          11.667695999145508,
          12.137277603149414,
          12.60685920715332,
          13.076440811157227,
          13.546022415161133,
          14.015602111816406,
          14.485183715820312,
          14.954765319824219,
          15.424346923828125,
          15.893928527832031
         ],
         "z": [
          [
           0.15390928119079286,
           0.16126360576886536,
           0.175458255241535,
           0.1880019443478292,
           0.1878871174111903,
           0.17246376379879078,
           0.146369912924573,
           0.11625935881964662,
           0.08741935853465,
           0.06282455418189378,
           0.04348679040624985,
           0.029177515067343823,
           0.019076032092278265,
           0.012206207957003092,
           0.007671983282374934,
           0.004750812047801026,
           0.0029054364946303696,
           0.0017582044406875292,
           0.0010543482678921415,
           0.0006272488159989901,
           0.0003705030688762487,
           0.0002174187849806006,
           0.0001268059732557622,
           0.0000735283273849616,
           0.000042398320329607596,
           0.00002431737898676068,
           0.000013875947878785472,
           0.000007879819086444197,
           0.000004455106861529403,
           0.0000025092976355348457
          ],
          [
           0.8643319571238645,
           0.9302519310512394,
           0.9362755799866077,
           0.8722816471421071,
           0.7517334996537068,
           0.6058335308954061,
           0.4617790815093218,
           0.335858476090604,
           0.23476811024016486,
           0.1587223604656462,
           0.10438970552912152,
           0.06713164367661031,
           0.042398965426681826,
           0.02639371184130185,
           0.016239514403527024,
           0.009896014416652549,
           0.0059809727969348985,
           0.003588352672401868,
           0.0021382298213076744,
           0.0012658000437324585,
           0.0007445230847171352,
           0.0004351281094188717,
           0.0002526982472563427,
           0.00014583734581977368,
           0.00008365304443817277,
           0.00004770335229460405,
           0.000027054671107051955,
           0.00001526956577071287,
           0.000008584345674942051,
           0.000004813929772378918
          ],
          [
           2.142707417649044,
           2.410379328405095,
           2.3427986724123726,
           2.040185770795535,
           1.6563623864791752,
           1.275604796987096,
           0.9368620821695017,
           0.659509429441581,
           0.44820065141777954,
           0.29633720858720675,
           0.19192500047717667,
           0.12241049945986712,
           0.0771703685699264,
           0.04819444259422615,
           0.029849285908226393,
           0.018340247871552837,
           0.011178150651439966,
           0.006756426233422292,
           0.004048920554925127,
           0.002405325182732428,
           0.0014164999433887342,
           0.0008270397697230442,
           0.00047887352682181436,
           0.00027509063481033865,
           0.00015686778826113802,
           0.00008886376879765074,
           0.00005006268584981453,
           0.000028091817938839346,
           0.000015737423979471352,
           0.000008832601287238283
          ],
          [
           1.6565532248349364,
           1.9506617314015764,
           2.0539377462078723,
           1.9979208891482843,
           1.8185262475064385,
           1.5236658433190844,
           1.1821534309942257,
           0.867713587062859,
           0.6136554184644699,
           0.42328486152243316,
           0.2867601726675394,
           0.191386667810134,
           0.12592569429816092,
           0.08165282957995279,
           0.05214935060442232,
           0.032796483501516115,
           0.02031214546874362,
           0.01239474823264856,
           0.007457418480101193,
           0.00442786317434642,
           0.0025970368104111467,
           0.001506212099610247,
           0.0008647388079422061,
           0.0004920199221691267,
           0.0002778290670318542,
           0.000155971722011339,
           0.00008727501466063698,
           0.00004886042155282492,
           0.000027524818511683154,
           0.000015731457185460214
          ],
          [
           -0.061017517031066996,
           0.0237929949492529,
           0.339932174145221,
           0.7435727865251239,
           1.035776809807879,
           1.1343033880948068,
           1.0749718348990076,
           0.9315178072404399,
           0.7597926441311053,
           0.5909089367122133,
           0.44050336721318506,
           0.31566864461205424,
           0.21807013905948092,
           0.14570424422125164,
           0.09449364314509796,
           0.059691629824115536,
           0.036848774467696604,
           0.022294617505387852,
           0.013254278499110839,
           0.007759983880928693,
           0.0044830035353111515,
           0.0025601604714376716,
           0.0014478986185347802,
           0.0008125847381138328,
           0.00045375676391971566,
           0.0002531143717767852,
           0.00014191052609550288,
           0.00008072148139122063,
           0.00004720409379504538,
           0.000028832070730349953
          ],
          [
           0.9311319092982452,
           1.1307245318442494,
           1.275270260933691,
           1.3750124683517067,
           1.465694483511472,
           1.539135253022714,
           1.557347608944838,
           1.4854443660033514,
           1.3162574183375892,
           1.0794261761044537,
           0.823870702303253,
           0.591268318831216,
           0.4033243338829197,
           0.2639807789770305,
           0.16705855188051344,
           0.10284153910001266,
           0.061876739800681015,
           0.0365228800542085,
           0.021211900222969662,
           0.012152009156896378,
           0.006882170739481269,
           0.0038616559419907158,
           0.0021525469013076387,
           0.0011965701220693528,
           0.000667463985508253,
           0.0003774321085342818,
           0.00021975740137998063,
           0.00013446487103630086,
           0.00008819452677367346,
           0.0000625924814229082
          ],
          [
           1.6384412328920468,
           1.8662739622418631,
           2.117355858294584,
           2.3155540835189803,
           2.4826425191140977,
           2.661962089170692,
           2.796251576395908,
           2.744116037601451,
           2.421750091721018,
           1.9234578230913901,
           1.4051920478240982,
           0.9641239001352201,
           0.6308402459629479,
           0.39790091051863413,
           0.24379573760612522,
           0.1459123993746647,
           0.08566060246211543,
           0.049486964577357496,
           0.028207401661623888,
           0.01590135124284409,
           0.008888588015560762,
           0.004944429466951958,
           0.0027532789400313584,
           0.0015507921419010244,
           0.0008992108314488031,
           0.000550699687858142,
           0.000366267107693845,
           0.0002686189490052815,
           0.0002152070474235869,
           0.00018301252375721173
          ],
          [
           2.6218687984709814,
           3.117490651369674,
           3.306173868539501,
           3.3499687169805483,
           3.399199230144727,
           3.4675778105851327,
           3.4792210742571648,
           3.2900811307651723,
           2.8200888103202004,
           2.1897533311731454,
           1.5724376921629597,
           1.0646314281588916,
           0.689310107169284,
           0.4310739467423053,
           0.2622403467097932,
           0.155996600373534,
           0.0910982772172278,
           0.05239295884663984,
           0.02976453509102587,
           0.016762225807469736,
           0.009409658852690187,
           0.005318880233439584,
           0.003084710098985452,
           0.0018931097236976908,
           0.0012776786220961896,
           0.0009728896516714721,
           0.000827977510597097,
           0.0007576336300653498,
           0.0007143774840707626,
           0.0006732217046595788
          ],
          [
           2.6481317640094204,
           3.2361158302131434,
           3.6840721411135724,
           3.944737355499208,
           3.9681234891436876,
           3.72923002881895,
           3.2940783249566707,
           2.7603957732174713,
           2.19780244236253,
           1.6593795131606335,
           1.189573509858945,
           0.8137701650394343,
           0.5346878257200571,
           0.3395616313863034,
           0.209562302559659,
           0.12625619114091055,
           0.07455101186828711,
           0.04331760085723307,
           0.02490240565822451,
           0.014300114027496322,
           0.008359260862679714,
           0.0051525589954574845,
           0.0035257593915697973,
           0.0027951089947750116,
           0.002554289369012669,
           0.002556923907597819,
           0.002649032527807326,
           0.0027330760905285257,
           0.0027504969054812007,
           0.0026733872095593704
          ],
          [
           1.845843450022781,
           2.3838283221476817,
           2.934241438441651,
           3.386171231289168,
           3.539297644187119,
           3.25887699062953,
           2.7133362001076065,
           2.115437040907325,
           1.5762632387575144,
           1.133139425288474,
           0.788621274895931,
           0.5319839030609929,
           0.34813941174979196,
           0.2212997292479216,
           0.13688651726890855,
           0.0826008696209152,
           0.04882123285792016,
           0.028490124024095554,
           0.016709197741956457,
           0.010237236682966075,
           0.007015137906217232,
           0.005774663001004102,
           0.005742818170196685,
           0.006432608315219611,
           0.007504959666138269,
           0.00868848766604582,
           0.009746278161852247,
           0.010478278751547124,
           0.010743932850966129,
           0.010486278440890288
          ],
          [
           1.2054634774796522,
           1.5489715808371518,
           1.8648028695235614,
           2.078592052184636,
           2.140349654877655,
           2.0432298270709093,
           1.7989727308135657,
           1.4626777929538162,
           1.1099288849227336,
           0.7949850650748771,
           0.5417441505541711,
           0.3527645770265978,
           0.21985859559428303,
           0.13114964166546653,
           0.07483689683376271,
           0.04089638138081949,
           0.021625640789973914,
           0.011566308801295316,
           0.007129691754596494,
           0.0061305853997588415,
           0.007345292619676827,
           0.010141035150670906,
           0.01418101840176526,
           0.019194272919018145,
           0.02480698565302686,
           0.030451281676563594,
           0.03537962712369982,
           0.03879838280972076,
           0.04008461278906689,
           0.03899304445169052
          ],
          [
           1.1259997490333944,
           1.5488296091563256,
           2.0037750061140454,
           2.385008140473218,
           2.5456261541986165,
           2.4052017312607776,
           2.0372543149468973,
           1.5800141367288405,
           1.1363354458352428,
           0.7588291362465411,
           0.4661960094474708,
           0.2577769496312662,
           0.12212101525225762,
           0.042625804324845626,
           0.0020375124283130565,
           -0.014365714905484682,
           -0.017320807556979304,
           -0.013597478883293579,
           -0.006805352533484336,
           0.0016163319813316576,
           0.011545857852144337,
           0.023530153120204345,
           0.03827036322366527,
           0.056141287184650605,
           0.07670281489797384,
           0.09829673050769538,
           0.11798200596014043,
           0.13210199069228581,
           0.1375040183794619,
           0.13288872177772934
          ],
          [
           1.169059379320422,
           1.687017811209746,
           2.290419416815682,
           2.8532364930059915,
           3.1553578280610814,
           3.041598746088812,
           2.607657569054978,
           2.025727214531805,
           1.4155280415763736,
           0.8572565849081476,
           0.4095715659846647,
           0.1028438846261658,
           -0.06887928538845146,
           -0.1383807689158208,
           -0.14555296453164993,
           -0.12284196155215847,
           -0.09062977514212696,
           -0.058877244212027516,
           -0.030606588048558925,
           -0.0049108050588201994,
           0.02110357320376034,
           0.05121674193287048,
           0.08935072668177067,
           0.13865421431960628,
           0.19999893215735834,
           0.2698650368504822,
           0.3385328483191862,
           0.39080163491435965,
           0.4114183390686146,
           0.3935338425445453
          ],
          [
           0.9751082697570606,
           1.4101125837302049,
           1.9323663033366272,
           2.4808253266953546,
           2.9530185557095803,
           3.229137230561211,
           3.196053686749369,
           2.775596669843735,
           1.999377786415487,
           1.0627622983139045,
           0.24390980048351887,
           -0.269723079584236,
           -0.4768706564405778,
           -0.48439278416777237,
           -0.400044602221688,
           -0.2930032301062244,
           -0.19618351135440726,
           -0.11934584627738788,
           -0.06043924954842657,
           -0.012459021989012808,
           0.03338198089095444,
           0.08665055047338058,
           0.15748649049591784,
           0.2559508197561331,
           0.38956404628017066,
           0.5575475422753472,
           0.7413510407984022,
           0.8963610571897049,
           0.9617562585224052,
           0.9044564869417477
          ],
          [
           0.7582076065739868,
           1.1401567194200612,
           1.6621663572975516,
           2.336117771477183,
           3.1335187467427086,
           3.933397516731542,
           4.451626547968355,
           4.251943020632974,
           3.128138744531488,
           1.5388909420521797,
           0.16390379910223643,
           -0.6071053477222108,
           -0.8319486941318339,
           -0.7545994074974872,
           -0.5728140217330019,
           -0.390996346062461,
           -0.24641293437399403,
           -0.1421533883993193,
           -0.0682032478021269,
           -0.01133723154810529,
           0.04163818980282263,
           0.1037299136407335,
           0.18851648670221732,
           0.31030537054979523,
           0.48203131817153877,
           0.7085458180740537,
           0.9726608817352704,
           1.2148978135706494,
           1.3263797448782446,
           1.2280466697856787
          ],
          [
           0.5561954633129139,
           0.8599541052514612,
           1.2928243538692619,
           1.8726775324345524,
           2.575969328950824,
           3.2880728440629796,
           3.755548245576736,
           3.6378887935780995,
           2.789000301104479,
           1.512333317492112,
           0.3746366353992335,
           -0.2317424460336643,
           -0.39653518967798335,
           -0.3567269979274873,
           -0.26066313325645746,
           -0.17001867202820226,
           -0.10108690135216769,
           -0.05220992992417222,
           -0.016411527486239558,
           0.014072390043852351,
           0.04679651757002854,
           0.08933513273541006,
           0.14955810046296542,
           0.2350875192550731,
           0.35097231508956594,
           0.49463562078655204,
           0.6484410152426402,
           0.7749122485726728,
           0.8272005927008361,
           0.7812475943636696
          ],
          [
           0.3493088165368762,
           0.5356363858074448,
           0.7956380489429493,
           1.1358593606063865,
           1.5438048916032774,
           1.977659553472013,
           2.3685806809224994,
           2.6465723002346038,
           2.772599690303556,
           2.7262955788172896,
           2.4625257766812707,
           1.981176807625926,
           1.4235987911306223,
           0.9411297577452947,
           0.5894021933049404,
           0.35737558935026165,
           0.2136419087398695,
           0.12896717447312592,
           0.0823422355264248,
           0.06056525315772451,
           0.056267811560105935,
           0.06600879167787567,
           0.08866696000137472,
           0.12390120025870607,
           0.1704119169217242,
           0.22404515159016444,
           0.2764726219209683,
           0.3159504507969482,
           0.3313003007763943,
           0.3175938486892543
          ],
          [
           0.19874046581689678,
           0.30336800628754507,
           0.4512202278968197,
           0.6522577859742557,
           0.9146157180892874,
           1.2428356611924702,
           1.6354684458813906,
           2.0786418261842616,
           2.5291039123000387,
           2.8841796023829196,
           2.9635639867079724,
           2.649208909304736,
           2.1026938441840284,
           1.5313110696954237,
           1.0464523738515075,
           0.6816327091023294,
           0.4283997622318703,
           0.2628453824034979,
           0.15997797382428405,
           0.09947701566958782,
           0.06681121735577152,
           0.05239771532455164,
           0.050191973353108967,
           0.0562928322984415,
           0.06776665993255966,
           0.08179809750288541,
           0.09530244407960868,
           0.10512167022542689,
           0.10873232421157256,
           0.10506400697779457
          ],
          [
           0.12021295730750656,
           0.1886873505573879,
           0.29142317542340035,
           0.4419531439590947,
           0.6558158947193266,
           0.9467007195883621,
           1.3171773204426036,
           1.7424741042870737,
           2.153461321146598,
           2.44329995305597,
           2.525154995683444,
           2.3788306279485076,
           2.0347499605655393,
           1.5876883825229062,
           1.1470380813360581,
           0.7798045663933516,
           0.5058589711370001,
           0.3168235044612146,
           0.19381132400999895,
           0.11758160830211303,
           0.07258436755560779,
           0.047646433057134036,
           0.035264904483603386,
           0.030557538644828876,
           0.030319702515508133,
           0.032337407794106224,
           0.034976884864005096,
           0.03701343396469575,
           0.037622362147526345,
           0.03642636895187729
          ],
          [
           0.08248075176948585,
           0.13524563792639,
           0.21948930366075048,
           0.3516942625522403,
           0.5544043728682452,
           0.8553651640751344,
           1.281877483807214,
           1.8444338577697603,
           2.5004080435986022,
           3.095536940772602,
           3.3461136089363266,
           3.070496527699888,
           2.4589777701135556,
           1.7950477354810472,
           1.230640136648852,
           0.8066134137864951,
           0.5111568544096489,
           0.3158432025216603,
           0.19197114348513777,
           0.11628465291478292,
           0.07187144328843986,
           0.047218260319467596,
           0.0348036549578917,
           0.029800990813624445,
           0.029076917871086735,
           0.030508173795497716,
           0.03257863065159061,
           0.0341942328159125,
           0.03463743893109731,
           0.03357441098964914
          ],
          [
           0.0554174639295505,
           0.09212188780127537,
           0.15100033996209328,
           0.2430877765102151,
           0.382283705022571,
           0.5830133647079283,
           0.8537405414861886,
           1.184433344505875,
           1.5301221056340775,
           1.804354271804691,
           1.9082366268114725,
           1.7966427013393615,
           1.5170028216282827,
           1.1689406122082537,
           0.8383695335396807,
           0.5694575163864445,
           0.37168865183604877,
           0.23636991348599432,
           0.149093216310938,
           0.09615164914229216,
           0.06681512221993549,
           0.05349642811642045,
           0.051073498283656524,
           0.056002274816860854,
           0.06550816457211966,
           0.07701107352593752,
           0.08789579684414085,
           0.09567705098283998,
           0.09846433734315889,
           0.09545812585265355
          ],
          [
           0.03157723301526538,
           0.05141945184279951,
           0.08201762994311154,
           0.12754484989449583,
           0.19224724394784792,
           0.27887011562950986,
           0.38600465160923514,
           0.5049028892370573,
           0.6176922155963768,
           0.7000433192620454,
           0.7298611046311705,
           0.69826640550322,
           0.6146836409394809,
           0.5015517273825338,
           0.3833270647349298,
           0.27794158358733384,
           0.1943136596222222,
           0.13426366611959276,
           0.09577949860192432,
           0.07571354409925651,
           0.071344153899856,
           0.08091861396601077,
           0.10343160085001528,
           0.13782844754059545,
           0.18181257364714665,
           0.23062998084380937,
           0.2765671163583326,
           0.31007939363313386,
           0.32282007709376265,
           0.3112488234381013
          ],
          [
           0.014799936378349738,
           0.0232211978594436,
           0.03552152814499206,
           0.052744909137372356,
           0.07564482345276798,
           0.10419844814858308,
           0.1370281243460007,
           0.1709806091427871,
           0.20125319574604777,
           0.22237963076717684,
           0.22995222117668268,
           0.2223393062958009,
           0.20141343103514447,
           0.1718363164773286,
           0.13938501973992534,
           0.10931878155467668,
           0.08552894677103325,
           0.07059536518494908,
           0.06643790490978832,
           0.07516187160952491,
           0.09978786886298664,
           0.14462087640803375,
           0.21494561806065116,
           0.3155524268317909,
           0.4474877365160663,
           0.6028868800196131,
           0.7596514933710157,
           0.8813985436828699,
           0.9297964650341182,
           0.8870339770931995
          ],
          [
           0.0058526689350343695,
           0.008816196587939288,
           0.012919068379313555,
           0.018350340124579523,
           0.02516775088900834,
           0.03319574526872617,
           0.04193760237864204,
           0.05055322510554277,
           0.05795465478674834,
           0.06303615769504363,
           0.06498778897043242,
           0.063578095193011,
           0.05928627528294201,
           0.05323852568305269,
           0.04701540857087568,
           0.042472877544822485,
           0.04171788379086291,
           0.047321137214616706,
           0.06278302482995873,
           0.09321857994128806,
           0.146172711500237,
           0.23235337607557927,
           0.3657903050510315,
           0.5623765450297443,
           0.8348821313752637,
           1.1816515924827546,
           1.5669849327458543,
           1.8995005014911077,
           2.0428083714153207,
           1.9163577678111405
          ],
          [
           0.002024105114883134,
           0.002934092210949042,
           0.004135838662011161,
           0.005653287830382494,
           0.007472476521338895,
           0.009524880154900193,
           0.011678562742077762,
           0.013745477633395755,
           0.015510975259568745,
           0.016785099837925747,
           0.01746686785282843,
           0.01760772228670468,
           0.017464008824925985,
           0.017542012567507682,
           0.018658279469501843,
           0.022055392248092564,
           0.029623688504558238,
           0.044280968814887516,
           0.07055272045908303,
           0.11536299680486406,
           0.18896081342291365,
           0.30570808349964834,
           0.48406432491700435,
           0.7444269955318389,
           1.1025501849048376,
           1.5554803725406574,
           2.05789380915875,
           2.4946474585577554,
           2.6858585583168817,
           2.5170989638692753
          ],
          [
           0.0006319560458385132,
           0.000885638209914945,
           0.0012079345335793254,
           0.0016003309405951793,
           0.002055865662404269,
           0.0025574087524942737,
           0.00307846349845613,
           0.0035880458674827824,
           0.004060914344028545,
           0.004493947318855047,
           0.004929374343817126,
           0.005486768264832896,
           0.006409032505924756,
           0.008133580208954721,
           0.011408331456209066,
           0.017482386633186117,
           0.028411599710132022,
           0.04752572557231676,
           0.08009626811575257,
           0.13420000433521323,
           0.22164942893278416,
           0.3585814748783282,
           0.564774286662828,
           0.8599495535540604,
           1.2545079772685364,
           1.7326334837508823,
           2.2308827284709736,
           2.6298039349177675,
           2.7917028893408027,
           2.649293261059505
          ],
          [
           0.000182960692818597,
           0.0002494485759329374,
           0.00033177253989604165,
           0.00043019322295181976,
           0.0005438933936732255,
           0.0006714935826777588,
           0.0008126464900851152,
           0.0009713835634192481,
           0.0011621849835356105,
           0.0014203078465330327,
           0.0018189973214778306,
           0.0024982151275688615,
           0.0037129239206169767,
           0.005914369570376364,
           0.009885714955285403,
           0.016964079258623442,
           0.0293936504747736,
           0.050865356620791,
           0.08729752188028109,
           0.14787647086218048,
           0.24626402217776333,
           0.401614198645041,
           0.6385340940114228,
           0.9842734547346996,
           1.4602825822002274,
           2.064261034237743,
           2.7393374657894767,
           3.33442913908181,
           3.5991418580105727,
           3.365403251120914
          ],
          [
           0.000050516927300744745,
           0.00006773412495480453,
           0.00008914419639047265,
           0.00011545790034011582,
           0.00014789914714695735,
           0.00018897588050623222,
           0.00024399617033900973,
           0.00032388654346133627,
           0.0004502727936566502,
           0.0006644961890553756,
           0.0010434753332220351,
           0.00172742576798623,
           0.0029678827512232874,
           0.005209913732706119,
           0.0092305537955768,
           0.01636691857220688,
           0.02888162036875032,
           0.05052656240985045,
           0.08736838907046662,
           0.1489044802970265,
           0.2493758325928023,
           0.40887180161868925,
           0.6531808167875937,
           1.0102044013937246,
           1.499225958597016,
           2.108616536395457,
           2.762197854342464,
           3.295935402727936,
           3.5115637241740854,
           3.3220741865151346
          ],
          [
           0.000013915586790750994,
           0.000018804237586175192,
           0.000025338628167109475,
           0.00003435161147322729,
           0.00004741341552589871,
           0.00006753399506665109,
           0.00010046747983275064,
           0.00015709733521933236,
           0.0002577492323379481,
           0.00043992015162145373,
           0.0007720088770525297,
           0.0013774755875245028,
           0.002476855104703639,
           0.0044598029815225496,
           0.00800651163364801,
           0.014287971501810002,
           0.02528738312524096,
           0.044297893043854245,
           0.07665637266980048,
           0.13074890844180603,
           0.21923009249889855,
           0.36015569018256255,
           0.577228906848539,
           0.8974699319976346,
           1.3433547547413398,
           1.9153429947270382,
           2.5614531716405136,
           3.1381093413328283,
           3.3994982410742174,
           3.1684362867518914
          ],
          [
           0.000004171669320423967,
           0.000005959848394223611,
           0.000008707238042250682,
           0.0000131329628167275,
           0.000020586301425093577,
           0.00003359491174848341,
           0.000056867556227395946,
           0.00009911208436086863,
           0.00017630361968588957,
           0.00031750820093556206,
           0.0005751578196132839,
           0.0010429780598525753,
           0.0018868496529717664,
           0.003397109613345004,
           0.006075502888739434,
           0.01077637627702701,
           0.018929201400887736,
           0.03287572816159777,
           0.056353516217097416,
           0.0951336694696878,
           0.15774630040800064,
           0.25604988715023985,
           0.4050512711323751,
           0.6207788304326127,
           0.9142040150104921,
           1.2787825303400289,
           1.671432595456587,
           1.9975622396588697,
           2.1335900562679284,
           2.013829712913793
          ]
         ],
         "type": "surface"
        }
       ],
       "layout": {
        "template": {
         "data": {
          "histogram2dcontour": [
           {
            "type": "histogram2dcontour",
            "colorbar": {
             "outlinewidth": 0,
             "ticks": ""
            },
            "colorscale": [
             [
              0,
              "#0d0887"
             ],
             [
              0.1111111111111111,
              "#46039f"
             ],
             [
              0.2222222222222222,
              "#7201a8"
             ],
             [
              0.3333333333333333,
              "#9c179e"
             ],
             [
              0.4444444444444444,
              "#bd3786"
             ],
             [
              0.5555555555555556,
              "#d8576b"
             ],
             [
              0.6666666666666666,
              "#ed7953"
             ],
             [
              0.7777777777777778,
              "#fb9f3a"
             ],
             [
              0.8888888888888888,
              "#fdca26"
             ],
             [
              1,
              "#f0f921"
             ]
            ]
           }
          ],
          "choropleth": [
           {
            "type": "choropleth",
            "colorbar": {
             "outlinewidth": 0,
             "ticks": ""
            }
           }
          ],
          "histogram2d": [
           {
            "type": "histogram2d",
            "colorbar": {
             "outlinewidth": 0,
             "ticks": ""
            },
            "colorscale": [
             [
              0,
              "#0d0887"
             ],
             [
              0.1111111111111111,
              "#46039f"
             ],
             [
              0.2222222222222222,
              "#7201a8"
             ],
             [
              0.3333333333333333,
              "#9c179e"
             ],
             [
              0.4444444444444444,
              "#bd3786"
             ],
             [
              0.5555555555555556,
              "#d8576b"
             ],
             [
              0.6666666666666666,
              "#ed7953"
             ],
             [
              0.7777777777777778,
              "#fb9f3a"
             ],
             [
              0.8888888888888888,
              "#fdca26"
             ],
             [
              1,
              "#f0f921"
             ]
            ]
           }
          ],
          "heatmap": [
           {
            "type": "heatmap",
            "colorbar": {
             "outlinewidth": 0,
             "ticks": ""
            },
            "colorscale": [
             [
              0,
              "#0d0887"
             ],
             [
              0.1111111111111111,
              "#46039f"
             ],
             [
              0.2222222222222222,
              "#7201a8"
             ],
             [
              0.3333333333333333,
              "#9c179e"
             ],
             [
              0.4444444444444444,
              "#bd3786"
             ],
             [
              0.5555555555555556,
              "#d8576b"
             ],
             [
              0.6666666666666666,
              "#ed7953"
             ],
             [
              0.7777777777777778,
              "#fb9f3a"
             ],
             [
              0.8888888888888888,
              "#fdca26"
             ],
             [
              1,
              "#f0f921"
             ]
            ]
           }
          ],
          "heatmapgl": [
           {
            "type": "heatmapgl",
            "colorbar": {
             "outlinewidth": 0,
             "ticks": ""
            },
            "colorscale": [
             [
              0,
              "#0d0887"
             ],
             [
              0.1111111111111111,
              "#46039f"
             ],
             [
              0.2222222222222222,
              "#7201a8"
             ],
             [
              0.3333333333333333,
              "#9c179e"
             ],
             [
              0.4444444444444444,
              "#bd3786"
             ],
             [
              0.5555555555555556,
              "#d8576b"
             ],
             [
              0.6666666666666666,
              "#ed7953"
             ],
             [
              0.7777777777777778,
              "#fb9f3a"
             ],
             [
              0.8888888888888888,
              "#fdca26"
             ],
             [
              1,
              "#f0f921"
             ]
            ]
           }
          ],
          "contourcarpet": [
           {
            "type": "contourcarpet",
            "colorbar": {
             "outlinewidth": 0,
             "ticks": ""
            }
           }
          ],
          "contour": [
           {
            "type": "contour",
            "colorbar": {
             "outlinewidth": 0,
             "ticks": ""
            },
            "colorscale": [
             [
              0,
              "#0d0887"
             ],
             [
              0.1111111111111111,
              "#46039f"
             ],
             [
              0.2222222222222222,
              "#7201a8"
             ],
             [
              0.3333333333333333,
              "#9c179e"
             ],
             [
              0.4444444444444444,
              "#bd3786"
             ],
             [
              0.5555555555555556,
              "#d8576b"
             ],
             [
              0.6666666666666666,
              "#ed7953"
             ],
             [
              0.7777777777777778,
              "#fb9f3a"
             ],
             [
              0.8888888888888888,
              "#fdca26"
             ],
             [
              1,
              "#f0f921"
             ]
            ]
           }
          ],
          "surface": [
           {
            "type": "surface",
            "colorbar": {
             "outlinewidth": 0,
             "ticks": ""
            },
            "colorscale": [
             [
              0,
              "#0d0887"
             ],
             [
              0.1111111111111111,
              "#46039f"
             ],
             [
              0.2222222222222222,
              "#7201a8"
             ],
             [
              0.3333333333333333,
              "#9c179e"
             ],
             [
              0.4444444444444444,
              "#bd3786"
             ],
             [
              0.5555555555555556,
              "#d8576b"
             ],
             [
              0.6666666666666666,
              "#ed7953"
             ],
             [
              0.7777777777777778,
              "#fb9f3a"
             ],
             [
              0.8888888888888888,
              "#fdca26"
             ],
             [
              1,
              "#f0f921"
             ]
            ]
           }
          ],
          "mesh3d": [
           {
            "type": "mesh3d",
            "colorbar": {
             "outlinewidth": 0,
             "ticks": ""
            }
           }
          ],
          "scatter": [
           {
            "fillpattern": {
             "fillmode": "overlay",
             "size": 10,
             "solidity": 0.2
            },
            "type": "scatter"
           }
          ],
          "parcoords": [
           {
            "type": "parcoords",
            "line": {
             "colorbar": {
              "outlinewidth": 0,
              "ticks": ""
             }
            }
           }
          ],
          "scatterpolargl": [
           {
            "type": "scatterpolargl",
            "marker": {
             "colorbar": {
              "outlinewidth": 0,
              "ticks": ""
             }
            }
           }
          ],
          "bar": [
           {
            "error_x": {
             "color": "#2a3f5f"
            },
            "error_y": {
             "color": "#2a3f5f"
            },
            "marker": {
             "line": {
              "color": "#E5ECF6",
              "width": 0.5
             },
             "pattern": {
              "fillmode": "overlay",
              "size": 10,
              "solidity": 0.2
             }
            },
            "type": "bar"
           }
          ],
          "scattergeo": [
           {
            "type": "scattergeo",
            "marker": {
             "colorbar": {
              "outlinewidth": 0,
              "ticks": ""
             }
            }
           }
          ],
          "scatterpolar": [
           {
            "type": "scatterpolar",
            "marker": {
             "colorbar": {
              "outlinewidth": 0,
              "ticks": ""
             }
            }
           }
          ],
          "histogram": [
           {
            "marker": {
             "pattern": {
              "fillmode": "overlay",
              "size": 10,
              "solidity": 0.2
             }
            },
            "type": "histogram"
           }
          ],
          "scattergl": [
           {
            "type": "scattergl",
            "marker": {
             "colorbar": {
              "outlinewidth": 0,
              "ticks": ""
             }
            }
           }
          ],
          "scatter3d": [
           {
            "type": "scatter3d",
            "line": {
             "colorbar": {
              "outlinewidth": 0,
              "ticks": ""
             }
            },
            "marker": {
             "colorbar": {
              "outlinewidth": 0,
              "ticks": ""
             }
            }
           }
          ],
          "scattermapbox": [
           {
            "type": "scattermapbox",
            "marker": {
             "colorbar": {
              "outlinewidth": 0,
              "ticks": ""
             }
            }
           }
          ],
          "scatterternary": [
           {
            "type": "scatterternary",
            "marker": {
             "colorbar": {
              "outlinewidth": 0,
              "ticks": ""
             }
            }
           }
          ],
          "scattercarpet": [
           {
            "type": "scattercarpet",
            "marker": {
             "colorbar": {
              "outlinewidth": 0,
              "ticks": ""
             }
            }
           }
          ],
          "carpet": [
           {
            "aaxis": {
             "endlinecolor": "#2a3f5f",
             "gridcolor": "white",
             "linecolor": "white",
             "minorgridcolor": "white",
             "startlinecolor": "#2a3f5f"
            },
            "baxis": {
             "endlinecolor": "#2a3f5f",
             "gridcolor": "white",
             "linecolor": "white",
             "minorgridcolor": "white",
             "startlinecolor": "#2a3f5f"
            },
            "type": "carpet"
           }
          ],
          "table": [
           {
            "cells": {
             "fill": {
              "color": "#EBF0F8"
             },
             "line": {
              "color": "white"
             }
            },
            "header": {
             "fill": {
              "color": "#C8D4E3"
             },
             "line": {
              "color": "white"
             }
            },
            "type": "table"
           }
          ],
          "barpolar": [
           {
            "marker": {
             "line": {
              "color": "#E5ECF6",
              "width": 0.5
             },
             "pattern": {
              "fillmode": "overlay",
              "size": 10,
              "solidity": 0.2
             }
            },
            "type": "barpolar"
           }
          ],
          "pie": [
           {
            "automargin": true,
            "type": "pie"
           }
          ]
         },
         "layout": {
          "autotypenumbers": "strict",
          "colorway": [
           "#636efa",
           "#EF553B",
           "#00cc96",
           "#ab63fa",
           "#FFA15A",
           "#19d3f3",
           "#FF6692",
           "#B6E880",
           "#FF97FF",
           "#FECB52"
          ],
          "font": {
           "color": "#2a3f5f"
          },
          "hovermode": "closest",
          "hoverlabel": {
           "align": "left"
          },
          "paper_bgcolor": "white",
          "plot_bgcolor": "#E5ECF6",
          "polar": {
           "bgcolor": "#E5ECF6",
           "angularaxis": {
            "gridcolor": "white",
            "linecolor": "white",
            "ticks": ""
           },
           "radialaxis": {
            "gridcolor": "white",
            "linecolor": "white",
            "ticks": ""
           }
          },
          "ternary": {
           "bgcolor": "#E5ECF6",
           "aaxis": {
            "gridcolor": "white",
            "linecolor": "white",
            "ticks": ""
           },
           "baxis": {
            "gridcolor": "white",
            "linecolor": "white",
            "ticks": ""
           },
           "caxis": {
            "gridcolor": "white",
            "linecolor": "white",
            "ticks": ""
           }
          },
          "coloraxis": {
           "colorbar": {
            "outlinewidth": 0,
            "ticks": ""
           }
          },
          "colorscale": {
           "sequential": [
            [
             0,
             "#0d0887"
            ],
            [
             0.1111111111111111,
             "#46039f"
            ],
            [
             0.2222222222222222,
             "#7201a8"
            ],
            [
             0.3333333333333333,
             "#9c179e"
            ],
            [
             0.4444444444444444,
             "#bd3786"
            ],
            [
             0.5555555555555556,
             "#d8576b"
            ],
            [
             0.6666666666666666,
             "#ed7953"
            ],
            [
             0.7777777777777778,
             "#fb9f3a"
            ],
            [
             0.8888888888888888,
             "#fdca26"
            ],
            [
             1,
             "#f0f921"
            ]
           ],
           "sequentialminus": [
            [
             0,
             "#0d0887"
            ],
            [
             0.1111111111111111,
             "#46039f"
            ],
            [
             0.2222222222222222,
             "#7201a8"
            ],
            [
             0.3333333333333333,
             "#9c179e"
            ],
            [
             0.4444444444444444,
             "#bd3786"
            ],
            [
             0.5555555555555556,
             "#d8576b"
            ],
            [
             0.6666666666666666,
             "#ed7953"
            ],
            [
             0.7777777777777778,
             "#fb9f3a"
            ],
            [
             0.8888888888888888,
             "#fdca26"
            ],
            [
             1,
             "#f0f921"
            ]
           ],
           "diverging": [
            [
             0,
             "#8e0152"
            ],
            [
             0.1,
             "#c51b7d"
            ],
            [
             0.2,
             "#de77ae"
            ],
            [
             0.3,
             "#f1b6da"
            ],
            [
             0.4,
             "#fde0ef"
            ],
            [
             0.5,
             "#f7f7f7"
            ],
            [
             0.6,
             "#e6f5d0"
            ],
            [
             0.7,
             "#b8e186"
            ],
            [
             0.8,
             "#7fbc41"
            ],
            [
             0.9,
             "#4d9221"
            ],
            [
             1,
             "#276419"
            ]
           ]
          },
          "xaxis": {
           "gridcolor": "white",
           "linecolor": "white",
           "ticks": "",
           "title": {
            "standoff": 15
           },
           "zerolinecolor": "white",
           "automargin": true,
           "zerolinewidth": 2
          },
          "yaxis": {
           "gridcolor": "white",
           "linecolor": "white",
           "ticks": "",
           "title": {
            "standoff": 15
           },
           "zerolinecolor": "white",
           "automargin": true,
           "zerolinewidth": 2
          },
          "scene": {
           "xaxis": {
            "backgroundcolor": "#E5ECF6",
            "gridcolor": "white",
            "linecolor": "white",
            "showbackground": true,
            "ticks": "",
            "zerolinecolor": "white",
            "gridwidth": 2
           },
           "yaxis": {
            "backgroundcolor": "#E5ECF6",
            "gridcolor": "white",
            "linecolor": "white",
            "showbackground": true,
            "ticks": "",
            "zerolinecolor": "white",
            "gridwidth": 2
           },
           "zaxis": {
            "backgroundcolor": "#E5ECF6",
            "gridcolor": "white",
            "linecolor": "white",
            "showbackground": true,
            "ticks": "",
            "zerolinecolor": "white",
            "gridwidth": 2
           }
          },
          "shapedefaults": {
           "line": {
            "color": "#2a3f5f"
           }
          },
          "annotationdefaults": {
           "arrowcolor": "#2a3f5f",
           "arrowhead": 0,
           "arrowwidth": 1
          },
          "geo": {
           "bgcolor": "white",
           "landcolor": "#E5ECF6",
           "subunitcolor": "white",
           "showland": true,
           "showlakes": true,
           "lakecolor": "white"
          },
          "title": {
           "x": 0.05
          },
          "mapbox": {
           "style": "light"
          }
         }
        },
        "legend": {
         "orientation": "h",
         "yanchor": "top",
         "y": 1.02,
         "xanchor": "left",
         "x": 1
        },
        "margin": {
         "r": 20,
         "l": 10,
         "b": 10,
         "t": 10
        },
        "width": 1000,
        "height": 800,
        "scene": {
         "xaxis": {
          "title": {
           "text": "Pulse width (μs)"
          }
         },
         "yaxis": {
          "title": {
           "text": "Energy density new cone (J/cm^2)"
          }
         },
         "zaxis": {
          "title": {
           "text": "Figure of Merit"
          }
         },
         "camera": {
          "up": {
           "x": 0,
           "y": 0,
           "z": 1
          },
          "center": {
           "x": 0,
           "y": 0,
           "z": 0
          },
          "eye": {
           "x": -2,
           "y": -2.5,
           "z": 1.75
          }
         }
        }
       },
       "config": {
        "plotlyServerURL": "https://plot.ly"
       }
      }
     },
     "metadata": {}
    }
   ],
   "metadata": {}
  },
  {
   "cell_type": "markdown",
   "source": [
    "### GP Predictions"
   ],
   "metadata": {}
  },
  {
   "cell_type": "code",
   "execution_count": null,
   "source": [
    "from emukit.bayesian_optimization.loops import BayesianOptimizationLoop\n",
    "from emukit.bayesian_optimization.acquisitions import ExpectedImprovement, \\\n",
    "                                                      NegativeLowerConfidenceBound, \\\n",
    "                                                      MaxValueEntropySearch, \\\n",
    "                                                      ProbabilityOfImprovement\n",
    "from emukit.core.acquisition import IntegratedHyperParameterAcquisition\n",
    "\n",
    "np.random.seed(10)#to make sure the random results is reproducible \n",
    "bs = 8\n",
    "acquisition = NegativeLowerConfidenceBound(objective_model, beta = 1)\n",
    "\n",
    "# Make loop and collect points\n",
    "bayesopt= BayesianOptimizationLoop(model=objective_model, \n",
    "                                   space=parameter_space, \n",
    "                                   acquisition=acquisition,\n",
    "                                   batch_size = bs)\n",
    "                                  \n",
    "print('total condition no.:', len(X))\n",
    "print('total device no.:', len(bayesopt.loop_state.Y))\n",
    "print('maximum Y (2 Qsw/(U+|D|) 1e6cycles): ', -np.min(np.transpose(np.round(bayesopt.loop_state.Y, 2))))\n",
    "\n",
    "X_new = bayesopt.candidate_point_calculator.compute_next_points(bayesopt.loop_state)\n",
    "f_acq = bayesopt.candidate_point_calculator.acquisition.evaluate\n",
    "\n",
    "df = fe_data\n",
    "df_Xnew = pd.DataFrame(get_closest_array(x_denormalizer(X_new)), columns = x_labels)\n",
    "df_all = pd.concat([df.iloc[:,0:2], df_Xnew])\n",
    "df_all_ = df_all.drop_duplicates()\n",
    "df_Xnew = df_all_.iloc[len(df):len(df)+bs]\n",
    "df_Xnew = df_Xnew.sort_values(by=list(df.columns[0:2]), ignore_index = True)\n",
    "df_Xnew.index = np.arange(len(df_Xnew))+len(df)\n",
    "print('New X:',len(df_Xnew))\n",
    "df_Xnew"
   ],
   "outputs": [
    {
     "output_type": "stream",
     "name": "stdout",
     "text": [
      "total condition no.: 23\n",
      "total device no.: 23\n",
      "maximum Y (2 Qsw/(U+|D|) 1e6cycles):  4.54\n",
      "New X: 1\n"
     ]
    },
    {
     "output_type": "execute_result",
     "data": {
      "text/html": [
       "<div>\n",
       "<style scoped>\n",
       "    .dataframe tbody tr th:only-of-type {\n",
       "        vertical-align: middle;\n",
       "    }\n",
       "\n",
       "    .dataframe tbody tr th {\n",
       "        vertical-align: top;\n",
       "    }\n",
       "\n",
       "    .dataframe thead th {\n",
       "        text-align: right;\n",
       "    }\n",
       "</style>\n",
       "<table border=\"1\" class=\"dataframe\">\n",
       "  <thead>\n",
       "    <tr style=\"text-align: right;\">\n",
       "      <th></th>\n",
       "      <th>Time (ms)</th>\n",
       "      <th>Energy density new cone (J/cm^2)</th>\n",
       "    </tr>\n",
       "  </thead>\n",
       "  <tbody>\n",
       "    <tr>\n",
       "      <th>23</th>\n",
       "      <td>2.9</td>\n",
       "      <td>9.04</td>\n",
       "    </tr>\n",
       "  </tbody>\n",
       "</table>\n",
       "</div>"
      ],
      "text/plain": [
       "    Time (ms)  Energy density new cone (J/cm^2)\n",
       "23        2.9                              9.04"
      ]
     },
     "metadata": {},
     "execution_count": 14
    }
   ],
   "metadata": {}
  },
  {
   "cell_type": "code",
   "execution_count": null,
   "source": [
    "df_x = df_Xnew\n",
    "df_cols = df.columns\n",
    "n_col = 2 # num of columns per row in the figure\n",
    "fs = 20\n",
    "for n in np.arange(0, 2, n_col):\n",
    "    fig,axes = plt.subplots(1, n_col, figsize=(18, 3.5), sharey = False)\n",
    "    fs = 20\n",
    "    for i in np.arange(n_col):\n",
    "        if n< len(df_cols):\n",
    "            axes[i].hist(df_x.iloc[:,n], bins= 20, range = (min(var_array[n])- 0.05*abs(var_array[n][1]-var_array[n][0]),\n",
    "                                                            max(var_array[n])+0.05*abs(var_array[n][1]-var_array[n][0])), \n",
    "                         edgecolor='black') ####\n",
    "            axes[i].set_xlabel(df_cols[n], fontsize = 18)\n",
    "        else:\n",
    "            axes[i].axis(\"off\")\n",
    "        n = n+1      \n",
    "    axes[0].set_ylabel('counts', fontsize = fs)\n",
    "    for i in range(len(axes)):\n",
    "        axes[i].tick_params(direction='in', length=5, width=1, labelsize = fs*.8, grid_alpha = 0.5)\n",
    "        axes[i].grid(True, linestyle='-.')\n",
    "    plt.show()"
   ],
   "outputs": [
    {
     "output_type": "display_data",
     "data": {
      "image/png": "[encoded data removed]",
      "text/plain": [
       "<Figure size 1800x350 with 2 Axes>"
      ]
     },
     "metadata": {}
    }
   ],
   "metadata": {}
  },
  {
   "cell_type": "code",
   "execution_count": null,
   "source": [
    "fig, axes = plt.subplots(1, 2, figsize=(16, 4.5), sharey = False)\n",
    "fs = 14\n",
    "exp_cond = np.transpose(range(len(Y)))\n",
    "exp_eff = np.transpose(Y[:,0])\n",
    "\n",
    "# plot experimental points\n",
    "axes[0].scatter(exp_cond, exp_eff, #facecolor = 'none',\n",
    "            edgecolor = 'navy', s = 20, alpha = 0.6, label = 'experiment')\n",
    "\n",
    "# connect max experimental points with black line\n",
    "axes[0].plot(np.transpose(exp_cond), np.maximum.accumulate(np.transpose(exp_eff)), \n",
    "         marker = 'o', ms = 0, c = 'black')\n",
    "\n",
    "# plot training predictions\n",
    "axes[0].scatter(np.arange(len(y_pred)), y_pred,\n",
    "                s = 50, facecolors='none', alpha = 0.6, edgecolor = 'gray', label = 'predicted')\n",
    "\n",
    "# plot error bars\n",
    "axes[0].errorbar(np.arange(len(y_pred)), y_pred, yerr = y_uncer,  \n",
    "                 ms = 0, ls = '', capsize = 2, alpha = 0.6, \n",
    "                 color = 'gray', zorder = 0)\n",
    "\n",
    "# calculate suggested point\n",
    "y_pred_new, y_uncer_new = f_obj(x_normalizer(df_Xnew.values))\n",
    "y_pred_new = -y_pred_new[:,-1]\n",
    "y_uncer_new = np.sqrt(y_uncer_new[:,-1])\n",
    "\n",
    "# plot suggested point\n",
    "axes[0].scatter(np.arange(len(df_Xnew))+len(X), y_pred_new,\n",
    "                s = 50, facecolors='none', alpha = 0.6, edgecolor = 'darkgreen', label = 'suggested')\n",
    "axes[0].errorbar(np.arange(len(df_Xnew))+len(X), y_pred_new, yerr = y_uncer_new,  \n",
    "                 ms = 0, ls = '', capsize = 2, alpha = 0.6, \n",
    "                 color = 'darkgreen', zorder = 0)\n",
    "\n",
    "# set up axes and labels\n",
    "axes[0].set_ylabel('Current Best 2 Qsw/(U+|D|) 1e6cycles', fontsize = fs)\n",
    "axes[0].set_xlabel('Process Condition', fontsize = fs)\n",
    "axes[0].set_ylim(-1, 8)\n",
    "axes[0].set_xlim(-1, 30)\n",
    "axes[0].set_xticks(np.arange(0,35,5))\n",
    "axes[0].legend(fontsize = fs*0.8)\n",
    "\n",
    "axes[1].axis(\"off\")\n",
    "for ax in axes:\n",
    "    ax.tick_params(direction='in', length=5, width=1, labelsize = fs*.8, grid_alpha = 0.5)\n",
    "    ax.grid(True, linestyle='-.')\n",
    "plt.subplots_adjust(wspace = 0.4)\n",
    "\n",
    "plt.show()"
   ],
   "outputs": [
    {
     "output_type": "display_data",
     "data": {
      "image/png": "[encoded data removed]",
      "text/plain": [
       "<Figure size 1600x450 with 2 Axes>"
      ]
     },
     "metadata": {}
    }
   ],
   "metadata": {}
  },
  {
   "cell_type": "code",
   "execution_count": null,
   "source": [
    "design = RandomDesign(parameter_space)\n",
    "x_sampled = design.get_samples(200)\n",
    "x_columns = df.iloc[:,0:2].columns\n",
    "for i in range(input_dim):\n",
    "    for j in range(input_dim-i-1):\n",
    "        \n",
    "## Generate a 2D grid for Contour plot\n",
    "        ind1 = i\n",
    "        ind2 = j+i+1\n",
    "        n_steps =21\n",
    "        x1x2y_pred, x1x2y_uncer =[[],[]]\n",
    "        for x1 in np.linspace(0, 1, n_steps):\n",
    "            for x2 in np.linspace(0, 1, n_steps):\n",
    "                x_temp = np.copy(x_sampled)\n",
    "                x_temp[:,ind1] = x1\n",
    "                x_temp[:,ind2] = x2\n",
    "                y_pred, y_uncer = f_obj(x_temp)\n",
    "                y_pred = -y_pred\n",
    "                x1_org = x_denormalizer(x_temp)[0,ind1]\n",
    "                x2_org = x_denormalizer(x_temp)[0,ind2]\n",
    "                x1x2y_pred.append([x1_org, x2_org, np.max(y_pred), np.mean(y_pred), np.min(y_pred)])\n",
    "                x1x2y_uncer.append([x1_org, x2_org, np.max(np.sqrt(y_uncer)), np.mean(np.sqrt(y_uncer)), np.min(np.sqrt(y_uncer))])\n",
    "                \n",
    "        x1 = np.array(x1x2y_pred, dtype=object)[:,0].reshape(n_steps, n_steps)\n",
    "        x2 = np.array(x1x2y_pred, dtype=object)[:,1].reshape(n_steps, n_steps)\n",
    "        y_pred_max = np.array(x1x2y_pred, dtype=object)[:,2].reshape(n_steps, n_steps)\n",
    "        y_pred_mean = np.array(x1x2y_pred, dtype=object)[:,3].reshape(n_steps, n_steps)\n",
    "        y_pred_min = np.array(x1x2y_pred, dtype=object)[:,4].reshape(n_steps, n_steps)\n",
    "        \n",
    "        y_uncer_max = np.array(x1x2y_uncer, dtype=object)[:,2].reshape(n_steps, n_steps)\n",
    "        y_uncer_mean = np.array(x1x2y_uncer, dtype=object)[:,3].reshape(n_steps, n_steps)\n",
    "        y_uncer_min = np.array(x1x2y_uncer, dtype=object)[:,4].reshape(n_steps, n_steps)\n",
    "\n",
    "        fs = 14\n",
    "        title_pad = 16\n",
    "        \n",
    "## Contour for Prediction Efficiency Mean\n",
    "        fig,axes = plt.subplots(1, 3, figsize=(17, 4), sharey = False, sharex = False)\n",
    "        colorbar_offset = [6, 2, 1]\n",
    "        for ax, c_offset, y in zip(axes, colorbar_offset,\n",
    "                                   [y_pred_max, y_pred_mean, y_pred_min]):#[y_pred_max, y_pred_mean, y_pred_min]\n",
    "            \n",
    "            c_plt1 = ax.contourf(x1, x2, y, levels = np.arange(26)*0.25+c_offset, cmap='plasma', extend = 'both')\n",
    "            cbar = fig.colorbar(c_plt1, ax= ax)\n",
    "            cbar.ax.tick_params(labelsize=fs*0.8)\n",
    "            ax.scatter(x_denormalizer(X)[:, ind1], \n",
    "                       x_denormalizer(X)[:, ind2], \n",
    "                       s = 40, facecolors='gray', alpha = 0.5, edgecolor = 'white')\n",
    "\n",
    "            ax.scatter(df_Xnew.values[:, ind1], \n",
    "                       df_Xnew.values[:, ind2], \n",
    "                       s = 50, facecolors='none', alpha = 0.9, edgecolor = 'green')\n",
    "            ax.set_xlabel(str(x_columns[ind1]),fontsize =  fs)\n",
    "            ax.set_ylabel(str(x_columns[ind2]),fontsize =  fs)\n",
    "\n",
    "            x1_delta = (np.max(x1)-np.min(x1))*0.05\n",
    "            x2_delta = (np.max(x2)-np.min(x2))*0.05\n",
    "            ax.set_xlim(np.min(x1)-x1_delta, np.max(x1)+x1_delta)\n",
    "            ax.set_ylim(np.min(x2)-x2_delta, np.max(x2)+x2_delta)\n",
    "            ax.tick_params(direction='in', length=5, width=1, labelsize = fs*.8)#, grid_alpha = 0.5\n",
    "\n",
    "        axes[0].set_title('objective fcn max', pad = title_pad,fontsize =  fs)\n",
    "        axes[1].set_title('objective fcn mean', pad = title_pad,fontsize =  fs)\n",
    "        axes[2].set_title('objective fcn min', pad = title_pad,fontsize =  fs)\n",
    "        plt.subplots_adjust(wspace = 0.3)\n",
    "        plt.show()\n"
   ],
   "outputs": [
    {
     "output_type": "display_data",
     "data": {
      "image/png": "[encoded data removed]",
      "text/plain": [
       "<Figure size 1700x400 with 6 Axes>"
      ]
     },
     "metadata": {}
    }
   ],
   "metadata": {}
  },
  {
   "cell_type": "markdown",
   "source": [
    "### Save Predictions and Visualize "
   ],
   "metadata": {}
  },
  {
   "cell_type": "code",
   "execution_count": null,
   "source": [
    "design = RandomDesign(parameter_space)\n",
    "x_sampled = design.get_samples(200)\n",
    "x_columns = df.iloc[:,0:2].columns\n",
    "for i in range(input_dim):\n",
    "    for j in range(input_dim-i-1):\n",
    "        ind1 = i\n",
    "        ind2 = j+i+1\n",
    "        n_steps =21\n",
    "        x1x2y_pred, x1x2y_var =[[],[]]\n",
    "        for x1 in np.linspace(0, 1, n_steps):\n",
    "            for x2 in np.linspace(0, 1, n_steps):\n",
    "                x_temp = np.copy(x_sampled)\n",
    "                x_temp[:,ind1] = x1\n",
    "                x_temp[:,ind2] = x2\n",
    "                yc_pr = f_acq(x_temp)\n",
    "                x1_org = x_denormalizer(x_temp)[0,ind1]\n",
    "                x2_org = x_denormalizer(x_temp)[0,ind2]\n",
    "                x1x2y_pred.append([x1_org, x2_org, np.max(yc_pr), np.mean(yc_pr), np.min(yc_pr)])\n",
    "                \n",
    "        x1c = np.array(x1x2y_pred, dtype=object)[:,0].reshape(n_steps, n_steps)\n",
    "        x2c = np.array(x1x2y_pred, dtype=object)[:,1].reshape(n_steps, n_steps)\n",
    "        yc_pr_max = np.array(x1x2y_pred, dtype=object)[:,2].reshape(n_steps, n_steps)\n",
    "        yc_pr_mean = np.array(x1x2y_pred, dtype=object)[:,3].reshape(n_steps, n_steps)\n",
    "        yc_pr_min = np.array(x1x2y_pred, dtype=object)[:,4].reshape(n_steps, n_steps)\n",
    "\n",
    "        fs = 14\n",
    "        title_pad = 16\n",
    "        \n",
    "        fig,axes = plt.subplots(1, 3, figsize=(17, 4), sharey = False, sharex = False)\n",
    "        colorbar_offset = [0.2, 0.1, 0.0]\n",
    "        for ax, y, c_offset in zip(axes, [yc_pr_max, yc_pr_mean, yc_pr_min],colorbar_offset):\n",
    "            c_plt1 = ax.contourf(x1c, x2c, y/22, levels = np.arange(11)*0.05+c_offset, cmap='coolwarm', extend = 'both')# \n",
    "            cbar = fig.colorbar(c_plt1, ax= ax)\n",
    "            cbar.ax.tick_params(labelsize=fs*0.8)\n",
    "            ax.scatter(x_denormalizer(X)[:, ind1], \n",
    "                       x_denormalizer(X)[:, ind2], \n",
    "                       s = 40, facecolors='gray', alpha = 0.5, edgecolor = 'white')\n",
    "            ax.scatter(df_Xnew.values[:, ind1], \n",
    "                       df_Xnew.values[:, ind2], \n",
    "                       s = 50, facecolors='none', alpha = 0.9, edgecolor = 'green')\n",
    "            ax.set_xlabel(str(x_columns[ind1]),fontsize = fs)\n",
    "            ax.set_ylabel(str(x_columns[ind2]),fontsize = fs)\n",
    "\n",
    "            x1_delta = (np.max(x1c)-np.min(x1c))*0.05\n",
    "            x2_delta = (np.max(x2c)-np.min(x2c))*0.05\n",
    "            ax.set_xlim(np.min(x1c)-x1_delta, np.max(x1c)+x1_delta)\n",
    "            ax.set_ylim(np.min(x2c)-x2_delta, np.max(x2c)+x2_delta)\n",
    "            ax.tick_params(direction='in', length=5, width=1, labelsize = fs*.8, grid_alpha = 0.5)\n",
    "            if ind1==1:#MAPbI\n",
    "                ax.set_xticks([0, 50, 100, 150, 200, 250])\n",
    "            if ind1==2:#PC voltage\n",
    "                ax.set_xticks([200, 250, 300, 350, 400, 450])\n",
    "            if ind1==3:#PC length\n",
    "                ax.set_xticks([0, 25, 50, 75, 100])\n",
    "            \n",
    "            \n",
    "        axes[0].set_title('acqui fcn max', pad = title_pad,fontsize = fs)\n",
    "        axes[1].set_title('acqui fcn mean', pad = title_pad,fontsize = fs)\n",
    "        axes[2].set_title('acqui fcn min', pad = title_pad,fontsize = fs)\n",
    "        plt.subplots_adjust(wspace = 0.3)\n",
    "        plt.show()"
   ],
   "outputs": [
    {
     "output_type": "display_data",
     "data": {
      "image/png": "[encoded data removed]",
      "text/plain": [
       "<Figure size 1700x400 with 6 Axes>"
      ]
     },
     "metadata": {}
    }
   ],
   "metadata": {}
  },
  {
   "cell_type": "code",
   "execution_count": null,
   "source": [],
   "outputs": [],
   "metadata": {}
  }
 ],
 "metadata": {
  "orig_nbformat": 4,
  "language_info": {
   "name": "python",
   "version": "3.9.16",
   "mimetype": "text/x-python",
   "codemirror_mode": {
    "name": "ipython",
    "version": 3
   },
   "pygments_lexer": "ipython3",
   "nbconvert_exporter": "python",
   "file_extension": ".py"
  },
  "kernelspec": {
   "name": "python3",
   "display_name": "Python 3.9.16 64-bit ('FEGP': conda)"
  },
  "interpreter": {
   "hash": "b00f9bca1c18369f730e284e4d0522d8a3e0f0b629e30dad99ec4bb4df6f08b7"
  }
 },
 "nbformat": 4,
 "nbformat_minor": 2
}