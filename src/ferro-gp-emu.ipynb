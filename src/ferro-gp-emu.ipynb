{
 "cells": [
  {
   "cell_type": "code",
   "execution_count": 76,
   "source": [
    "# Prep training data\n",
    "from copyreg import pickle\n",
    "from sklearn.preprocessing import StandardScaler\n",
    "from sklearn import preprocessing\n",
    "import sys\n",
    "from tkinter import Y\n",
    "import gzip\n",
    "import itertools\n",
    "import numpy as np\n",
    "import pandas as pd\n",
    "import pickle as pk\n",
    "import torch\n",
    "import gpytorch\n",
    "import plotly.express as px\n",
    "sys.path.append('..')\n",
    "sys.path.insert(0, '../src')"
   ],
   "outputs": [],
   "metadata": {}
  },
  {
   "cell_type": "code",
   "execution_count": 77,
   "source": [
    "from model import GPModel\n",
    "from acq_funcs import EI, PI, cust_acq, thompson\n",
    "from plotter import vis_pred, vis_acq"
   ],
   "outputs": [],
   "metadata": {}
  },
  {
   "cell_type": "markdown",
   "source": [
    "### Data Read and Pre-processing"
   ],
   "metadata": {}
  },
  {
   "cell_type": "code",
   "execution_count": 78,
   "source": [
    "# read data and display\n",
    "def read_dat(dir=\"/Users/valenetjong/Bayesian-Optimization-Ferroelectrics/data/\",\n",
    "            src_file = \"Bolometer_readings_PulseForge.xlsx\", sheet= \"Data\"):\n",
    "    file = dir + src_file\n",
    "    fe_data = pd.read_excel(file, sheet_name=sheet, usecols=['Energy density new cone (J/cm^2)',\n",
    "                            'Time (ms)','2 Qsw/(U+|D|) 1e6cycles'])\n",
    "    fe_data.dropna(subset=['2 Qsw/(U+|D|) 1e6cycles'], inplace=True)\n",
    "    fe_data = fe_data[fe_data['2 Qsw/(U+|D|) 1e6cycles']!= 0]\n",
    "    return fe_data\n",
    "\n",
    "def display_data(fe_data):\n",
    "    \"\"\"\n",
    "    [display_data(fe_data)] creates a cross-section scatter plot of all combinations\n",
    "    of the four input parameters and single output parameter.\n",
    "    \"\"\"\n",
    "    # plot each cross-section\n",
    "    fig = px.scatter_matrix(fe_data, dimensions=['Energy density new cone (J/cm^2)', \n",
    "    \"Time (ms)\", \"2 Qsw/(U+|D|) 1e6cycles\"])\n",
    "    fig.update_layout(margin=dict(r=20, l=10, b=10, t=10))\n",
    "    fig.update_layout(height=800)\n",
    "    fig.show()"
   ],
   "outputs": [],
   "metadata": {}
  },
  {
   "cell_type": "code",
   "execution_count": 79,
   "source": [
    "fe_data = read_dat()\n",
    "print(fe_data)\n",
    "display_data(fe_data)"
   ],
   "outputs": [
    {
     "output_type": "stream",
     "name": "stdout",
     "text": [
      "    Time (ms)  Energy density new cone (J/cm^2)  2 Qsw/(U+|D|) 1e6cycles\n",
      "0         0.5                              5.24                 1.201356\n",
      "2         2.0                             10.71                 3.566550\n",
      "4         2.0                             10.13                 3.470870\n",
      "5         0.5                              4.51                 0.263300\n",
      "6         0.5                              5.37                 2.775340\n",
      "8         0.5                              4.88                 2.591310\n",
      "9         1.0                              6.76                 2.579980\n",
      "10        1.0                              7.77                 3.173820\n",
      "12        2.0                              8.73                 0.131500\n",
      "13        2.0                              9.38                 0.451160\n",
      "14        2.0                             10.48                 2.126640\n",
      "15        2.0                             11.01                 3.468210\n",
      "16        2.0                             14.71                 3.685850\n",
      "17        5.0                             15.44                 3.445660\n",
      "18        5.0                             13.37                 2.651550\n"
     ]
    },
    {
     "output_type": "display_data",
     "data": {
      "application/vnd.plotly.v1+json": {
       "data": [
        {
         "dimensions": [
          {
           "axis": {
            "matches": true
           },
           "label": "Energy density new cone (J/cm^2)",
           "values": [
            5.24,
            10.71,
            10.13,
            4.51,
            5.37,
            4.88,
            6.76,
            7.77,
            8.73,
            9.38,
            10.48,
            11.01,
            14.71,
            15.44,
            13.37
           ]
          },
          {
           "axis": {
            "matches": true
           },
           "label": "Time (ms)",
           "values": [
            0.5,
            2,
            2,
            0.5,
            0.5,
            0.5,
            1,
            1,
            2,
            2,
            2,
            2,
            2,
            5,
            5
           ]
          },
          {
           "axis": {
            "matches": true
           },
           "label": "2 Qsw/(U+|D|) 1e6cycles",
           "values": [
            1.201356,
            3.56655,
            3.47087,
            0.2633,
            2.77534,
            2.59131,
            2.57998,
            3.17382,
            0.1315,
            0.45116,
            2.12664,
            3.46821,
            3.68585,
            3.44566,
            2.65155
           ]
          }
         ],
         "hovertemplate": "%{xaxis.title.text}=%{x}<br>%{yaxis.title.text}=%{y}<extra></extra>",
         "legendgroup": "",
         "marker": {
          "color": "#636efa",
          "symbol": "circle"
         },
         "name": "",
         "showlegend": false,
         "type": "splom"
        }
       ],
       "layout": {
        "template": {
         "data": {
          "histogram2dcontour": [
           {
            "type": "histogram2dcontour",
            "colorbar": {
             "outlinewidth": 0,
             "ticks": ""
            },
            "colorscale": [
             [
              0,
              "#0d0887"
             ],
             [
              0.1111111111111111,
              "#46039f"
             ],
             [
              0.2222222222222222,
              "#7201a8"
             ],
             [
              0.3333333333333333,
              "#9c179e"
             ],
             [
              0.4444444444444444,
              "#bd3786"
             ],
             [
              0.5555555555555556,
              "#d8576b"
             ],
             [
              0.6666666666666666,
              "#ed7953"
             ],
             [
              0.7777777777777778,
              "#fb9f3a"
             ],
             [
              0.8888888888888888,
              "#fdca26"
             ],
             [
              1,
              "#f0f921"
             ]
            ]
           }
          ],
          "choropleth": [
           {
            "type": "choropleth",
            "colorbar": {
             "outlinewidth": 0,
             "ticks": ""
            }
           }
          ],
          "histogram2d": [
           {
            "type": "histogram2d",
            "colorbar": {
             "outlinewidth": 0,
             "ticks": ""
            },
            "colorscale": [
             [
              0,
              "#0d0887"
             ],
             [
              0.1111111111111111,
              "#46039f"
             ],
             [
              0.2222222222222222,
              "#7201a8"
             ],
             [
              0.3333333333333333,
              "#9c179e"
             ],
             [
              0.4444444444444444,
              "#bd3786"
             ],
             [
              0.5555555555555556,
              "#d8576b"
             ],
             [
              0.6666666666666666,
              "#ed7953"
             ],
             [
              0.7777777777777778,
              "#fb9f3a"
             ],
             [
              0.8888888888888888,
              "#fdca26"
             ],
             [
              1,
              "#f0f921"
             ]
            ]
           }
          ],
          "heatmap": [
           {
            "type": "heatmap",
            "colorbar": {
             "outlinewidth": 0,
             "ticks": ""
            },
            "colorscale": [
             [
              0,
              "#0d0887"
             ],
             [
              0.1111111111111111,
              "#46039f"
             ],
             [
              0.2222222222222222,
              "#7201a8"
             ],
             [
              0.3333333333333333,
              "#9c179e"
             ],
             [
              0.4444444444444444,
              "#bd3786"
             ],
             [
              0.5555555555555556,
              "#d8576b"
             ],
             [
              0.6666666666666666,
              "#ed7953"
             ],
             [
              0.7777777777777778,
              "#fb9f3a"
             ],
             [
              0.8888888888888888,
              "#fdca26"
             ],
             [
              1,
              "#f0f921"
             ]
            ]
           }
          ],
          "heatmapgl": [
           {
            "type": "heatmapgl",
            "colorbar": {
             "outlinewidth": 0,
             "ticks": ""
            },
            "colorscale": [
             [
              0,
              "#0d0887"
             ],
             [
              0.1111111111111111,
              "#46039f"
             ],
             [
              0.2222222222222222,
              "#7201a8"
             ],
             [
              0.3333333333333333,
              "#9c179e"
             ],
             [
              0.4444444444444444,
              "#bd3786"
             ],
             [
              0.5555555555555556,
              "#d8576b"
             ],
             [
              0.6666666666666666,
              "#ed7953"
             ],
             [
              0.7777777777777778,
              "#fb9f3a"
             ],
             [
              0.8888888888888888,
              "#fdca26"
             ],
             [
              1,
              "#f0f921"
             ]
            ]
           }
          ],
          "contourcarpet": [
           {
            "type": "contourcarpet",
            "colorbar": {
             "outlinewidth": 0,
             "ticks": ""
            }
           }
          ],
          "contour": [
           {
            "type": "contour",
            "colorbar": {
             "outlinewidth": 0,
             "ticks": ""
            },
            "colorscale": [
             [
              0,
              "#0d0887"
             ],
             [
              0.1111111111111111,
              "#46039f"
             ],
             [
              0.2222222222222222,
              "#7201a8"
             ],
             [
              0.3333333333333333,
              "#9c179e"
             ],
             [
              0.4444444444444444,
              "#bd3786"
             ],
             [
              0.5555555555555556,
              "#d8576b"
             ],
             [
              0.6666666666666666,
              "#ed7953"
             ],
             [
              0.7777777777777778,
              "#fb9f3a"
             ],
             [
              0.8888888888888888,
              "#fdca26"
             ],
             [
              1,
              "#f0f921"
             ]
            ]
           }
          ],
          "surface": [
           {
            "type": "surface",
            "colorbar": {
             "outlinewidth": 0,
             "ticks": ""
            },
            "colorscale": [
             [
              0,
              "#0d0887"
             ],
             [
              0.1111111111111111,
              "#46039f"
             ],
             [
              0.2222222222222222,
              "#7201a8"
             ],
             [
              0.3333333333333333,
              "#9c179e"
             ],
             [
              0.4444444444444444,
              "#bd3786"
             ],
             [
              0.5555555555555556,
              "#d8576b"
             ],
             [
              0.6666666666666666,
              "#ed7953"
             ],
             [
              0.7777777777777778,
              "#fb9f3a"
             ],
             [
              0.8888888888888888,
              "#fdca26"
             ],
             [
              1,
              "#f0f921"
             ]
            ]
           }
          ],
          "mesh3d": [
           {
            "type": "mesh3d",
            "colorbar": {
             "outlinewidth": 0,
             "ticks": ""
            }
           }
          ],
          "scatter": [
           {
            "fillpattern": {
             "fillmode": "overlay",
             "size": 10,
             "solidity": 0.2
            },
            "type": "scatter"
           }
          ],
          "parcoords": [
           {
            "type": "parcoords",
            "line": {
             "colorbar": {
              "outlinewidth": 0,
              "ticks": ""
             }
            }
           }
          ],
          "scatterpolargl": [
           {
            "type": "scatterpolargl",
            "marker": {
             "colorbar": {
              "outlinewidth": 0,
              "ticks": ""
             }
            }
           }
          ],
          "bar": [
           {
            "error_x": {
             "color": "#2a3f5f"
            },
            "error_y": {
             "color": "#2a3f5f"
            },
            "marker": {
             "line": {
              "color": "#E5ECF6",
              "width": 0.5
             },
             "pattern": {
              "fillmode": "overlay",
              "size": 10,
              "solidity": 0.2
             }
            },
            "type": "bar"
           }
          ],
          "scattergeo": [
           {
            "type": "scattergeo",
            "marker": {
             "colorbar": {
              "outlinewidth": 0,
              "ticks": ""
             }
            }
           }
          ],
          "scatterpolar": [
           {
            "type": "scatterpolar",
            "marker": {
             "colorbar": {
              "outlinewidth": 0,
              "ticks": ""
             }
            }
           }
          ],
          "histogram": [
           {
            "marker": {
             "pattern": {
              "fillmode": "overlay",
              "size": 10,
              "solidity": 0.2
             }
            },
            "type": "histogram"
           }
          ],
          "scattergl": [
           {
            "type": "scattergl",
            "marker": {
             "colorbar": {
              "outlinewidth": 0,
              "ticks": ""
             }
            }
           }
          ],
          "scatter3d": [
           {
            "type": "scatter3d",
            "line": {
             "colorbar": {
              "outlinewidth": 0,
              "ticks": ""
             }
            },
            "marker": {
             "colorbar": {
              "outlinewidth": 0,
              "ticks": ""
             }
            }
           }
          ],
          "scattermapbox": [
           {
            "type": "scattermapbox",
            "marker": {
             "colorbar": {
              "outlinewidth": 0,
              "ticks": ""
             }
            }
           }
          ],
          "scatterternary": [
           {
            "type": "scatterternary",
            "marker": {
             "colorbar": {
              "outlinewidth": 0,
              "ticks": ""
             }
            }
           }
          ],
          "scattercarpet": [
           {
            "type": "scattercarpet",
            "marker": {
             "colorbar": {
              "outlinewidth": 0,
              "ticks": ""
             }
            }
           }
          ],
          "carpet": [
           {
            "aaxis": {
             "endlinecolor": "#2a3f5f",
             "gridcolor": "white",
             "linecolor": "white",
             "minorgridcolor": "white",
             "startlinecolor": "#2a3f5f"
            },
            "baxis": {
             "endlinecolor": "#2a3f5f",
             "gridcolor": "white",
             "linecolor": "white",
             "minorgridcolor": "white",
             "startlinecolor": "#2a3f5f"
            },
            "type": "carpet"
           }
          ],
          "table": [
           {
            "cells": {
             "fill": {
              "color": "#EBF0F8"
             },
             "line": {
              "color": "white"
             }
            },
            "header": {
             "fill": {
              "color": "#C8D4E3"
             },
             "line": {
              "color": "white"
             }
            },
            "type": "table"
           }
          ],
          "barpolar": [
           {
            "marker": {
             "line": {
              "color": "#E5ECF6",
              "width": 0.5
             },
             "pattern": {
              "fillmode": "overlay",
              "size": 10,
              "solidity": 0.2
             }
            },
            "type": "barpolar"
           }
          ],
          "pie": [
           {
            "automargin": true,
            "type": "pie"
           }
          ]
         },
         "layout": {
          "autotypenumbers": "strict",
          "colorway": [
           "#636efa",
           "#EF553B",
           "#00cc96",
           "#ab63fa",
           "#FFA15A",
           "#19d3f3",
           "#FF6692",
           "#B6E880",
           "#FF97FF",
           "#FECB52"
          ],
          "font": {
           "color": "#2a3f5f"
          },
          "hovermode": "closest",
          "hoverlabel": {
           "align": "left"
          },
          "paper_bgcolor": "white",
          "plot_bgcolor": "#E5ECF6",
          "polar": {
           "bgcolor": "#E5ECF6",
           "angularaxis": {
            "gridcolor": "white",
            "linecolor": "white",
            "ticks": ""
           },
           "radialaxis": {
            "gridcolor": "white",
            "linecolor": "white",
            "ticks": ""
           }
          },
          "ternary": {
           "bgcolor": "#E5ECF6",
           "aaxis": {
            "gridcolor": "white",
            "linecolor": "white",
            "ticks": ""
           },
           "baxis": {
            "gridcolor": "white",
            "linecolor": "white",
            "ticks": ""
           },
           "caxis": {
            "gridcolor": "white",
            "linecolor": "white",
            "ticks": ""
           }
          },
          "coloraxis": {
           "colorbar": {
            "outlinewidth": 0,
            "ticks": ""
           }
          },
          "colorscale": {
           "sequential": [
            [
             0,
             "#0d0887"
            ],
            [
             0.1111111111111111,
             "#46039f"
            ],
            [
             0.2222222222222222,
             "#7201a8"
            ],
            [
             0.3333333333333333,
             "#9c179e"
            ],
            [
             0.4444444444444444,
             "#bd3786"
            ],
            [
             0.5555555555555556,
             "#d8576b"
            ],
            [
             0.6666666666666666,
             "#ed7953"
            ],
            [
             0.7777777777777778,
             "#fb9f3a"
            ],
            [
             0.8888888888888888,
             "#fdca26"
            ],
            [
             1,
             "#f0f921"
            ]
           ],
           "sequentialminus": [
            [
             0,
             "#0d0887"
            ],
            [
             0.1111111111111111,
             "#46039f"
            ],
            [
             0.2222222222222222,
             "#7201a8"
            ],
            [
             0.3333333333333333,
             "#9c179e"
            ],
            [
             0.4444444444444444,
             "#bd3786"
            ],
            [
             0.5555555555555556,
             "#d8576b"
            ],
            [
             0.6666666666666666,
             "#ed7953"
            ],
            [
             0.7777777777777778,
             "#fb9f3a"
            ],
            [
             0.8888888888888888,
             "#fdca26"
            ],
            [
             1,
             "#f0f921"
            ]
           ],
           "diverging": [
            [
             0,
             "#8e0152"
            ],
            [
             0.1,
             "#c51b7d"
            ],
            [
             0.2,
             "#de77ae"
            ],
            [
             0.3,
             "#f1b6da"
            ],
            [
             0.4,
             "#fde0ef"
            ],
            [
             0.5,
             "#f7f7f7"
            ],
            [
             0.6,
             "#e6f5d0"
            ],
            [
             0.7,
             "#b8e186"
            ],
            [
             0.8,
             "#7fbc41"
            ],
            [
             0.9,
             "#4d9221"
            ],
            [
             1,
             "#276419"
            ]
           ]
          },
          "xaxis": {
           "gridcolor": "white",
           "linecolor": "white",
           "ticks": "",
           "title": {
            "standoff": 15
           },
           "zerolinecolor": "white",
           "automargin": true,
           "zerolinewidth": 2
          },
          "yaxis": {
           "gridcolor": "white",
           "linecolor": "white",
           "ticks": "",
           "title": {
            "standoff": 15
           },
           "zerolinecolor": "white",
           "automargin": true,
           "zerolinewidth": 2
          },
          "scene": {
           "xaxis": {
            "backgroundcolor": "#E5ECF6",
            "gridcolor": "white",
            "linecolor": "white",
            "showbackground": true,
            "ticks": "",
            "zerolinecolor": "white",
            "gridwidth": 2
           },
           "yaxis": {
            "backgroundcolor": "#E5ECF6",
            "gridcolor": "white",
            "linecolor": "white",
            "showbackground": true,
            "ticks": "",
            "zerolinecolor": "white",
            "gridwidth": 2
           },
           "zaxis": {
            "backgroundcolor": "#E5ECF6",
            "gridcolor": "white",
            "linecolor": "white",
            "showbackground": true,
            "ticks": "",
            "zerolinecolor": "white",
            "gridwidth": 2
           }
          },
          "shapedefaults": {
           "line": {
            "color": "#2a3f5f"
           }
          },
          "annotationdefaults": {
           "arrowcolor": "#2a3f5f",
           "arrowhead": 0,
           "arrowwidth": 1
          },
          "geo": {
           "bgcolor": "white",
           "landcolor": "#E5ECF6",
           "subunitcolor": "white",
           "showland": true,
           "showlakes": true,
           "lakecolor": "white"
          },
          "title": {
           "x": 0.05
          },
          "mapbox": {
           "style": "light"
          }
         }
        },
        "legend": {
         "tracegroupgap": 0
        },
        "margin": {
         "t": 10,
         "r": 20,
         "l": 10,
         "b": 10
        },
        "dragmode": "select",
        "height": 800
       },
       "config": {
        "plotlyServerURL": "https://plot.ly"
       }
      }
     },
     "metadata": {}
    }
   ],
   "metadata": {}
  },
  {
   "cell_type": "markdown",
   "source": [
    "### Grid/Parameter Space"
   ],
   "metadata": {}
  },
  {
   "cell_type": "code",
   "execution_count": 80,
   "source": [
    "import emukit\n",
    "import GPy\n",
    "from emukit.core import ParameterSpace, ContinuousParameter, DiscreteParameter\n",
    "from emukit.core.initial_designs.random_design import RandomDesign\n",
    "from emukit.core.initial_designs.latin_design import LatinDesign"
   ],
   "outputs": [],
   "metadata": {}
  },
  {
   "cell_type": "code",
   "execution_count": 81,
   "source": [
    "time_len_min, time_len_max, time_len_step = [fe_data[\"Time (ms)\"].min(), fe_data[\"Time (ms)\"].max(), 0.1]  ## Unit: ms\n",
    "time_len_var = np.arange(time_len_min, time_len_max+time_len_step*0.1, time_len_step)\n",
    "time_len_num = len(time_len_var)\n",
    "\n",
    "e_den_min, e_den_max, e_den_step = [fe_data[\"Energy density new cone (J/cm^2)\"].min(), fe_data[\"Energy density new cone (J/cm^2)\"].max(), 0.01]  # Unit: J/cm^2\n",
    "### Give step a scaling factor of 0.1 to avoid numercial errors such as 1.7000002\n",
    "e_den_var = np.arange(e_den_min, e_den_max+e_den_step*0.1, e_den_step)\n",
    "e_den_num = len(e_den_var)\n",
    "\n",
    "var_array = [time_len_var, e_den_var]\n",
    "x_labels =  [\"Time (ms)\", \"Energy density new cone (J/cm^2)\"]\n",
    "\n",
    "def x_normalizer(X, var_array = var_array):\n",
    "    def max_min_scaler(x, x_max, x_min):\n",
    "        return (x-x_min)/(x_max-x_min)\n",
    "    x_norm = []\n",
    "    for x in (X):\n",
    "           x_norm.append([max_min_scaler(x[i], \n",
    "                         max(var_array[i]), \n",
    "                         min(var_array[i])) for i in range(len(x))])\n",
    "    return np.array(x_norm)\n",
    "\n",
    "def x_denormalizer(x_norm, var_array = var_array):\n",
    "    \n",
    "    def max_min_rescaler(x, x_max, x_min):\n",
    "        return x*(x_max-x_min)+x_min\n",
    "    x_original = []\n",
    "    for x in (x_norm):\n",
    "           x_original.append([max_min_rescaler(x[i], \n",
    "                              max(var_array[i]), \n",
    "                              min(var_array[i])) for i in range(len(x))])\n",
    "\n",
    "    return np.array(x_original)\n",
    "\n",
    "\n",
    "def get_closest_array(suggested_x):\n",
    "\n",
    "    def get_closest_value(given_value, array_list):\n",
    "        absolute_difference_function = lambda list_value : abs(list_value - given_value)\n",
    "        closest_value = min(array_list, key=absolute_difference_function)\n",
    "        return closest_value\n",
    "    \n",
    "    var_list = var_array\n",
    "    modified_array = []\n",
    "    for x in suggested_x:\n",
    "        modified_array.append([get_closest_value(x[i], var_list[i]) for i in range(len(x))])\n",
    "    return np.array(modified_array)"
   ],
   "outputs": [],
   "metadata": {}
  },
  {
   "cell_type": "code",
   "execution_count": 82,
   "source": [
    "# continuous parameter creates a grid space for grid search\n",
    "parameter_space = ParameterSpace([ContinuousParameter(\"Time (ms)\", 0-1/(time_len_num-1)/2, 1+1/(time_len_num-1)/2),\n",
    "                                  ContinuousParameter(\"Energy density new cone (J/cm^2)\", 0-1/(e_den_num-1)/2, 1+1/(e_den_num-1)/2),\n",
    "                                 ])"
   ],
   "outputs": [],
   "metadata": {}
  },
  {
   "cell_type": "markdown",
   "source": [
    "### Initialize GP Model"
   ],
   "metadata": {}
  },
  {
   "cell_type": "code",
   "execution_count": 83,
   "source": [
    "from GPy.models import GPRegression\n",
    "from emukit.model_wrappers import GPyModelWrapper\n",
    "from torch.optim import Adam as Adam\n",
    "\n",
    "x_exp = x_normalizer(fe_data.iloc[:, 0:2].values)\n",
    "y_exp = np.transpose([fe_data.iloc[:,-1].values])\n",
    "X, Y = [x_exp, y_exp]\n",
    "\n",
    "input_dim = len(X[0])\n",
    "ker = GPy.kern.Matern52(input_dim = input_dim, ARD =True)#\n",
    "ker.lengthscale.constrain_bounded(1e-2, 1)\n",
    "ker.variance.constrain_bounded(1e-2, 1000.0)\n",
    "model_gpy = GPRegression(X , -Y, ker) #emukit is a minimization tool; need to make Y negative\n",
    "model_gpy.Gaussian_noise.variance = 0.15\n",
    "model_gpy.Gaussian_noise.variance.fix()\n",
    "\n",
    "# Randomize model's hyperparameters\n",
    "model_gpy.randomize() \n",
    "print(ker.lengthscale)\n",
    "print(ker.variance)"
   ],
   "outputs": [
    {
     "output_type": "stream",
     "name": "stderr",
     "text": [
      "reconstraining parameters Mat52.lengthscale\n",
      "reconstraining parameters Mat52.variance\n"
     ]
    },
    {
     "output_type": "stream",
     "name": "stdout",
     "text": [
      "  \u001b[1mindex\u001b[0;0m  |  GP_regression.Mat52.lengthscale  |  constraints  |  priors\n",
      "  \u001b[1m[0]  \u001b[0;0m  |                       0.34177975  |   0.01,1.0    |        \n",
      "  \u001b[1m[1]  \u001b[0;0m  |                       0.37690485  |   0.01,1.0    |        \n",
      "  \u001b[1mindex\u001b[0;0m  |  GP_regression.Mat52.variance  |  constraints  |  priors\n",
      "  \u001b[1m[0]  \u001b[0;0m  |                  512.58487488  |  0.01,1000.0  |        \n"
     ]
    }
   ],
   "metadata": {}
  },
  {
   "cell_type": "markdown",
   "source": [
    "### Hyperparameter Tuning"
   ],
   "metadata": {}
  },
  {
   "cell_type": "code",
   "execution_count": 84,
   "source": [
    "model_gpy.optimize_restarts(num_restarts=30, verbose =False, messages=False) # fit to training data, select best hyperparameters out of num_restarts \n",
    "objective_model = GPyModelWrapper(model_gpy)\n",
    "print(objective_model.model.kern.lengthscale)\n",
    "print(objective_model.model.kern.variance)"
   ],
   "outputs": [
    {
     "output_type": "stream",
     "name": "stdout",
     "text": [
      "  \u001b[1mindex\u001b[0;0m  |  GP_regression.Mat52.lengthscale  |  constraints  |  priors\n",
      "  \u001b[1m[0]  \u001b[0;0m  |                       0.99999928  |   0.01,1.0    |        \n",
      "  \u001b[1m[1]  \u001b[0;0m  |                       0.03736961  |   0.01,1.0    |        \n",
      "  \u001b[1mindex\u001b[0;0m  |  GP_regression.Mat52.variance  |  constraints  |  priors\n",
      "  \u001b[1m[0]  \u001b[0;0m  |                    6.77207923  |  0.01,1000.0  |        \n"
     ]
    }
   ],
   "metadata": {}
  },
  {
   "cell_type": "markdown",
   "source": [
    "### GP Training Results"
   ],
   "metadata": {}
  },
  {
   "cell_type": "code",
   "execution_count": 85,
   "source": [
    "# get GP predictions on training set\n",
    "f_obj =  objective_model.model.predict\n",
    "y_pred, y_uncer = f_obj(X)\n",
    "y_pred = -y_pred[:,-1]  # get back non-neg outputs and get array out of embedding\n",
    "y_uncer = np.sqrt(y_uncer[:,-1])"
   ],
   "outputs": [],
   "metadata": {}
  },
  {
   "cell_type": "code",
   "execution_count": 86,
   "source": [
    "from sklearn.metrics import mean_squared_error, mean_absolute_error,r2_score\n",
    "from scipy.stats import spearmanr\n",
    "import matplotlib.pyplot as plt \n",
    "\n",
    "# plot predictions against experimental data\n",
    "fig, axes = plt.subplots(1, 3, figsize=(5.5*3, 4.5))\n",
    "fs = 14\n",
    "lims1 = (0, 5)\n",
    "axes[0].scatter(Y[:,-1], y_pred, alpha = 0.5, c = 'navy' , edgecolor = 'navy')\n",
    "axes[0].errorbar(Y[:,-1], y_pred, yerr = y_uncer, ms = 0, \n",
    "                 ls = '', capsize = 2, alpha = 0.6,\n",
    "                 color = 'gray', zorder = 0)\n",
    "axes[0].plot(lims1, lims1, 'k--', alpha=0.75, zorder=0)\n",
    "rmse_value = np.sqrt(mean_squared_error(Y[:,-1], y_pred))\n",
    "mae_value = mean_absolute_error(Y[:,-1], y_pred)\n",
    "spearman_value = spearmanr(Y[:,-1], y_pred)[0]\n",
    "rsquared_value = r2_score(Y[:,-1], y_pred)\n",
    "\n",
    "print('MAE:',np.round(mae_value,2), ' ',\n",
    "      'RMSE:', np.round(rmse_value,2), ' ',\n",
    "      'spearman:', np.round(spearman_value,3), ' ',\n",
    "      'R² score:', np.round(rsquared_value,3))\n",
    "\n",
    "title = 'GPR' + \" (MAE=%.2f\" % mae_value+' [%])'\n",
    "axes[0].set_xlabel('Ground Truth 2 Qsw/(U+|D|) 1e6', fontsize = fs)\n",
    "axes[0].set_ylabel('Prediction 2 Qsw/(U+|D|) 1e6', fontsize = fs)\n",
    "axes[0].set_title(title, fontsize = fs)\n",
    "        \n",
    "for i in range(len(axes)):\n",
    "    axes[i].tick_params(direction='in', length=5, width=1, labelsize = fs*.8, grid_alpha = 0.5)\n",
    "    axes[i].grid(True, linestyle='-.')\n",
    "plt.subplots_adjust(wspace = 0.4)\n",
    "\n",
    "axes[1].axis(\"off\")\n",
    "axes[2].axis(\"off\")\n",
    "\n",
    "plt.show()"
   ],
   "outputs": [
    {
     "output_type": "stream",
     "name": "stdout",
     "text": [
      "MAE: 0.1   RMSE: 0.13   spearman: 0.971   R² score: 0.989\n"
     ]
    },
    {
     "output_type": "display_data",
     "data": {
      "image/png": "[encoded data removed]",
      "text/plain": [
       "<Figure size 1650x450 with 3 Axes>"
      ]
     },
     "metadata": {}
    }
   ],
   "metadata": {}
  },
  {
   "cell_type": "markdown",
   "source": [
    "### GP Plots"
   ],
   "metadata": {}
  },
  {
   "cell_type": "code",
   "execution_count": 87,
   "source": [
    "# create grid for grid search\n",
    "def grid_helper(grid_size, num_params, grid_bounds):\n",
    "    \"\"\"\n",
    "    [grid_helper(grid_size, num_params, grid_bounds)] returns a grid of dimensions\n",
    "    [grid_size] by [num_params], which dictates the parameter space for GP to be \n",
    "    conducted over. \n",
    "    \"\"\"\n",
    "    grid = torch.zeros(grid_size, num_params)\n",
    "    f_grid_diff = lambda i, x, y : float((x[i][1] - x[i][0]) / (y-2))\n",
    "    for i in range(num_params):\n",
    "        grid_diff = f_grid_diff(i, grid_bounds, grid_size)\n",
    "        grid[:, i] = torch.linspace(grid_bounds[i][0] - grid_diff, \n",
    "                                    grid_bounds[i][1] + grid_diff, grid_size)\n",
    "    return grid\n",
    "\n",
    "def grid_maker(x_dat, num_points=30):\n",
    "    \"\"\"\n",
    "    [grid_maker(x_dat, num_points=30)] creates grids to be used for gaussian \n",
    "    process predictions. It outputs the dimension of the grid [num_params], \n",
    "    paramater space grid [test_grid], and [test_arr].\n",
    "    \"\"\"\n",
    "    # define grid between bounds of RTA time, RTA temp\n",
    "    num_params = x_dat.size(dim=1)\n",
    "    grid_bounds = [(x_dat[:,i].min(), x_dat[:,i].max()) for i in range(num_params)]\n",
    "\n",
    "    # set up test_grid for predictions\n",
    "    test_grid = grid_helper(num_points, num_params, grid_bounds)\n",
    "\n",
    "    # create n-D grid with n = num_params\n",
    "    args = (test_grid[:, i] for i in range(num_params))\n",
    "    test_arr = torch.cartesian_prod(*args)\n",
    "    return grid_bounds, num_params, test_grid, test_arr"
   ],
   "outputs": [],
   "metadata": {}
  },
  {
   "cell_type": "code",
   "execution_count": 88,
   "source": [
    "# print(\"X's shape:\", X.shape)\n",
    "# print(\"Y's shape:\", Y.shape)\n",
    "# print(\"Y[:,-1]'s shape:\", Y[:,-1].shape)\n",
    "\n",
    "# print(raw_test_arr.shape)\n",
    "# print(raw_test_grid.shape)"
   ],
   "outputs": [],
   "metadata": {}
  },
  {
   "cell_type": "code",
   "execution_count": 89,
   "source": [
    "# print(test_arr[:2])\n",
    "# print(f_obj(test_arr[:2].numpy()))"
   ],
   "outputs": [],
   "metadata": {}
  },
  {
   "cell_type": "code",
   "execution_count": 90,
   "source": [
    "# check objective on acqusition\n",
    "nlcb = np.array([2.8,9.05]).reshape(1,2)\n",
    "nlcb_norm = x_normalizer(nlcb)\n",
    "print(nlcb_norm)\n",
    "nlcb, _ = f_obj(nlcb_norm)\n",
    "nlcb = nlcb.reshape(1,1).T\n",
    "print(nlcb)"
   ],
   "outputs": [
    {
     "output_type": "stream",
     "name": "stdout",
     "text": [
      "[[0.51111111 0.41537054]]\n",
      "[[-0.04929346]]\n"
     ]
    }
   ],
   "metadata": {}
  },
  {
   "cell_type": "code",
   "execution_count": 91,
   "source": [
    "import plotly.graph_objects as go\n",
    "import matplotlib.pyplot as plt\n",
    "import matplotlib as mpl\n",
    "\n",
    "# make, scale post_test_grid\n",
    "_, _, test_grid, test_arr = grid_maker(torch.Tensor(X))\n",
    "volt_on_grid, _ = f_obj(test_arr.numpy())\n",
    "volt_on_grid = -1 * volt_on_grid.reshape(30,30).T\n",
    "raw_test_arr = x_denormalizer(test_arr)\n",
    "raw_test_grid = x_denormalizer(test_grid)\n",
    "\n",
    "fig = go.Figure(data=[go.Scatter3d(z=Y[:,-1], \n",
    "                                    x=x_denormalizer(X)[:,0],\n",
    "                                    y=x_denormalizer(X)[:,1], \n",
    "                                    mode='markers',\n",
    "                                    marker={'color':'#72356c'},\n",
    "                                    name='Data')])\n",
    "fig.add_trace(go.Surface(z=volt_on_grid, \n",
    "                            x=raw_test_grid[:,0],\n",
    "                            y=raw_test_grid[:,1],\n",
    "                            opacity = 0.8,\n",
    "                            colorscale = \"Burg\",\n",
    "                            colorbar=dict(thickness=15, len=0.5)))\n",
    "\n",
    "fig.add_trace(go.Scatter3d(z=[3.7669], x=[1.5], y=[8.85], name = \"UCB\"))\n",
    "fig.add_trace(go.Scatter3d(z=[3.49], x=[1.17], y=[8.85], name = \"UCB2\"))\n",
    "fig.add_trace(go.Scatter3d(z=[4.07], x=[2.8], y=[9.05], name = \"NLCB\"))\n",
    "\n",
    "fig.update_layout( width=1000, height=800,\n",
    "                    legend=dict(orientation=\"h\", yanchor=\"top\", y=1.02, \n",
    "                    xanchor=\"left\",x=1), margin=dict(r=20, l=10, b=10, t=10), \n",
    "                        scene=dict(\n",
    "                        xaxis_title=\"Pulse width (μs)\",\n",
    "                        yaxis_title=\"Energy density new cone (J/cm^2)\",\n",
    "                        zaxis_title='Figure of Merit')\n",
    "                    )\n",
    "fig.update_layout(template=\"ggplot2\")\n",
    "camera = dict(up=dict(x=0, y=0, z=1), center=dict(x=0, y=0, z=0),\n",
    "                    eye=dict(x=2.75, y=1.75, z=1))\n",
    "fig.update_layout(scene_camera=camera)\n",
    "fig.show()"
   ],
   "outputs": [
    {
     "output_type": "display_data",
     "data": {
      "application/vnd.plotly.v1+json": {
       "data": [
        {
         "marker": {
          "color": "#72356c"
         },
         "mode": "markers",
         "name": "Data",
         "x": [
          0.5,
          2,
          2,
          0.5,
          0.5,
          0.5,
          1,
          1,
          2,
          2,
          2,
          2,
          2,
          5,
          5
         ],
         "y": [
          5.24,
          10.71,
          10.13,
          4.51,
          5.37,
          4.88,
          6.76,
          7.77,
          8.73,
          9.38,
          10.48,
          11.01,
          14.71,
          15.44,
          13.37
         ],
         "z": [
          1.201356,
          3.56655,
          3.47087,
          0.2633,
          2.77534,
          2.59131,
          2.57998,
          3.17382,
          0.1315,
          0.45116,
          2.12664,
          3.46821,
          3.68585,
          3.44566,
          2.65155
         ],
         "type": "scatter3d"
        },
        {
         "colorbar": {
          "len": 0.5,
          "thickness": 15
         },
         "colorscale": [
          [
           0,
           "rgb(255, 198, 196)"
          ],
          [
           0.16666666666666666,
           "rgb(244, 163, 168)"
          ],
          [
           0.3333333333333333,
           "rgb(227, 129, 145)"
          ],
          [
           0.5,
           "rgb(204, 96, 125)"
          ],
          [
           0.6666666666666666,
           "rgb(173, 70, 108)"
          ],
          [
           0.8333333333333334,
           "rgb(139, 48, 88)"
          ],
          [
           1,
           "rgb(103, 32, 68)"
          ]
         ],
         "opacity": 0.8,
         "x": [
          0.3392857015132904,
          0.5055418610572815,
          0.6717979907989502,
          0.8380541801452637,
          1.0043103694915771,
          1.1705665588378906,
          1.3368226289749146,
          1.503078818321228,
          1.669334888458252,
          1.8355910778045654,
          2.001847267150879,
          2.1681032180786133,
          2.334359645843506,
          2.5006155967712402,
          2.666872024536133,
          2.833127975463867,
          2.9993844032287598,
          3.165640354156494,
          3.3318967819213867,
          3.498152494430542,
          3.6644086837768555,
          3.830664873123169,
          3.9969210624694824,
          4.163177490234375,
          4.329433441162109,
          4.495689392089844,
          4.661945819854736,
          4.828201770782471,
          4.994458198547363,
          5.160714149475098
         ],
         "y": [
          4.119643211364746,
          4.523460865020752,
          4.927278518676758,
          5.331096172332764,
          5.7349138259887695,
          6.138731956481934,
          6.5425496101379395,
          6.946367263793945,
          7.350184917449951,
          7.754002571105957,
          8.157819747924805,
          8.561637878417969,
          8.965456008911133,
          9.369274139404297,
          9.773091316223145,
          10.176909446716309,
          10.580726623535156,
          10.98454475402832,
          11.388362884521484,
          11.792180061340332,
          12.19599723815918,
          12.599815368652344,
          13.003633499145508,
          13.407451629638672,
          13.81126880645752,
          14.215085983276367,
          14.618904113769531,
          15.022722244262695,
          15.426539421081543,
          15.830357551574707
         ],
         "z": [
          [
           -0.49154532509331794,
           -0.4920641794221111,
           -0.49147098881373935,
           -0.4897708657385428,
           -0.48697841014553345,
           -0.4831174355974924,
           -0.4782205239634383,
           -0.47232842053671076,
           -0.4654893061451411,
           -0.45775795045472356,
           -0.44919480349608293,
           -0.4398649785020143,
           -0.4298372874209824,
           -0.4191832029362627,
           -0.4079758752798086,
           -0.3962891842901996,
           -0.3841968505326537,
           -0.37177161911606493,
           -0.3590845262286203,
           -0.34620427585448477,
           -0.3331966048111451,
           -0.32012394930576327,
           -0.3070449951290643,
           -0.2940144190472673,
           -0.28108271260968437,
           -0.2682959777496811,
           -0.2556959996130345,
           -0.2433201713895477,
           -0.23120157698806004,
           -0.21936909820096723
          ],
          [
           0.40786477712341623,
           0.40755039083524386,
           0.40791140823012817,
           0.4089132654197176,
           0.4104671196329394,
           0.41244781240243816,
           0.4147093582139366,
           0.41709722910819474,
           0.419457812337852,
           0.4216454487290572,
           0.42352741497701535,
           0.4249872124733151,
           0.42592644370248145,
           0.42626559248666646,
           0.42594393103502537,
           0.4249187785571867,
           0.423164293098008,
           0.420669949936432,
           0.41743883219392747,
           0.41348584121072024,
           0.4088358645616575,
           0.40352205961644383,
           0.39758416784768313,
           0.3910669821136162,
           0.3840189609540671,
           0.37649093520839677,
           0.3685350823081093,
           0.36020393780109744,
           0.35154960639276894,
           0.3426230967977869
          ],
          [
           2.3227423030128787,
           2.3258019426676455,
           2.3223223161126216,
           2.312390967659622,
           2.2962465060096435,
           2.274248101399456,
           2.246840465440819,
           2.2145219490495065,
           2.177818290941674,
           2.1372620207705424,
           2.09337706005536,
           2.046667345940085,
           1.9976093917684763,
           1.9466472932823915,
           1.8941901014780174,
           1.8406108279877431,
           1.7862466793761598,
           1.731400164108861,
           1.6763407883671309,
           1.6213072081347284,
           1.5665091367325694,
           1.5121302151135554,
           1.4583299781321584,
           1.4052461883355334,
           1.3529970473105224,
           1.3016828466403885,
           1.2513883079423103,
           1.202183922316211,
           1.1541275605673658,
           1.1072658523505416
          ],
          [
           2.177676760154639,
           2.17954896596942,
           2.1775274672812897,
           2.171667450373799,
           2.1621097433729775,
           2.1490453334777664,
           2.132685590636517,
           2.1132446472352657,
           2.0909311608450514,
           2.0659454857190847,
           2.0384796252007824,
           2.008718149022409,
           1.9768396771358177,
           1.9430180394200993,
           1.9074232765909764,
           1.8702223031994047,
           1.831579264960987,
           1.791655630044042,
           1.7506100650205902,
           1.708598216375813,
           1.6657720371663394,
           1.6222797234410455,
           1.5782649409715932,
           1.5338663865437172,
           1.48921737617445,
           1.4444451127102176,
           1.399670727760297,
           1.3550086651665088,
           1.3105664913367958,
           1.2664447027037742
          ],
          [
           2.6512102711406715,
           2.6538266342117214,
           2.6516400194828575,
           2.6446705287187817,
           2.632977670203873,
           2.6166591187100146,
           2.5958487051647254,
           2.5707137015015324,
           2.5414515759664478,
           2.5082862577655924,
           2.471464174476107,
           2.4312498769909032,
           2.3879219572537016,
           2.3417687231753375,
           2.293084183145097,
           2.2421642519774636,
           2.1893032718535075,
           2.134790894473069,
           2.078909352670392,
           2.0219312263051537,
           1.9641171459394238,
           1.9057148052729151,
           1.8469574204415964,
           1.788062984394988,
           1.7292338304004715,
           1.6706559923801292,
           1.6124997508123222,
           1.554919430163625,
           1.498053839879846,
           1.4420267577961812
          ],
          [
           1.4577076486906917,
           1.4607896168209824,
           1.4621430652199445,
           1.4617616868066328,
           1.4596469385644724,
           1.4558080340056039,
           1.4502618634376219,
           1.443032833677233,
           1.434152649893168,
           1.4236600208295553,
           1.4116003312488021,
           1.3980251845432443,
           1.3829920088083156,
           1.3665635209548892,
           1.3488072024169848,
           1.3297947382421573,
           1.3096014364812387,
           1.2883056356571774,
           1.265988107904356,
           1.2427315032745094,
           1.2186196139407317,
           1.1937370313545435,
           1.1681684510012216,
           1.1419981892432765,
           1.1153097376011556,
           1.0881851347754947,
           1.0607048072597571,
           1.0329470188238987,
           1.0049875744481611,
           0.9768995224719951
          ],
          [
           2.0671383874852984,
           2.079091366525649,
           2.087542783596515,
           2.0924158857271977,
           2.0936646647702126,
           2.0912751468322113,
           2.0852658207359793,
           2.075687146212788,
           2.062620204641215,
           2.046174562121173,
           2.0264855392696264,
           2.003710891501618,
           1.9780273773834103,
           1.9496270384270395,
           1.9187135739211103,
           1.8854988400133348,
           1.8501995774305173,
           1.81303442919893,
           1.7742212847064258,
           1.7339750318325662,
           1.6925053229138274,
           1.650015322870795,
           1.6067001195554629,
           1.5627457409581906,
           1.5183284381772657,
           1.4736138381627788,
           1.428757015122163,
           1.3839020191576725,
           1.3391819108175795,
           1.2947188492609245
          ],
          [
           2.3294898861231044,
           2.3436413385313504,
           2.3537929545609657,
           2.3598507027627447,
           2.361757441432798,
           2.3594947048131396,
           2.3530833053037044,
           2.3425826656692994,
           2.3280889710927797,
           2.309732273142056,
           2.2876728341896704,
           2.262096791536177,
           2.2332117396870608,
           2.201242077835722,
           2.1664245758391485,
           2.129004196846045,
           2.0892302854084512,
           2.047353173648928,
           2.003621226494304,
           1.9582783980133713,
           1.9115618365922895,
           1.863700614674048,
           1.8149140839614197,
           1.7654109114342038,
           1.7153884056015252,
           1.6650316830489416,
           1.6145138542716373,
           1.5639955820467535,
           1.5136251934409262,
           1.4635388368307198
          ],
          [
           2.174811824611174,
           2.1854242513969773,
           2.1930210308258022,
           2.197558277886623,
           2.1990096207087877,
           2.197366559072919,
           2.192638589071329,
           2.1848530655211356,
           2.17405482940421,
           2.160305592293004,
           2.1436831398661167,
           2.1242802392524593,
           2.1022035307836076,
           2.0775721439045296,
           2.050516268019884,
           2.0211756344979173,
           1.9896979538232626,
           1.9562373382129996,
           1.9209527377669033,
           1.8840064762036248,
           1.845562545201995,
           1.805785576859851,
           1.7648393157075821,
           1.722885489849671,
           1.6800828059802866,
           1.6365857143007996,
           1.5925439847984553,
           1.5481017121734562,
           1.5033967801940966,
           1.4585603692223361
          ],
          [
           3.06181776013086,
           3.0848084048627173,
           3.1014290820998918,
           3.1114249113607055,
           3.1146288220029374,
           3.1109835266860846,
           3.100552732185968,
           3.083508878434964,
           3.0601110735908237,
           3.03068472716914,
           2.9956043035726037,
           2.9552785976882614,
           2.910138719631401,
           2.860627859142852,
           2.807192973025661,
           2.7502779887112574,
           2.6903183340200716,
           2.627736603569505,
           2.5629391957599204,
           2.4963138838417347,
           2.428227543742794,
           2.3590255486446146,
           2.289030581887021,
           2.2185423921478287,
           2.1478378928725754,
           2.077170964883606,
           2.0067736209852223,
           1.9368562034266563,
           1.8676082867298822,
           1.799199568054945
          ],
          [
           1.6200868156628807,
           1.6284246129765398,
           1.634328590176669,
           1.6377600180846474,
           1.6386960509505086,
           1.6371300945563845,
           1.6330719244588061,
           1.6265475305384063,
           1.6175987122971218,
           1.6062824221561236,
           1.5926699152600363,
           1.5768456201848946,
           1.5589059710391648,
           1.5389579986644113,
           1.5171178811718713,
           1.4935094282715105,
           1.4682625447020647,
           1.441511705330586,
           1.4133944709167856,
           1.3840501176201039,
           1.3536181126877367,
           1.3222371675098967,
           1.2900439316077517,
           1.2571720408894358,
           1.2237512976105618,
           1.189906703616641,
           1.155758155796545,
           1.1214197199823555,
           1.086999284429445,
           1.052598263338507
          ],
          [
           0.36828401983379944,
           0.36838588953149526,
           0.36814539503674204,
           0.36756910426938594,
           0.36666482984479504,
           0.3654414369842902,
           0.3639086266945936,
           0.3620767022571923,
           0.35995633607644295,
           0.3575583450232654,
           0.3548934990216715,
           0.3519723535685761,
           0.3488051578726088,
           0.3454017955618856,
           0.34177178818192,
           0.3379243409047061,
           0.3338684205393548,
           0.32961285244669514,
           0.325166423671578,
           0.3205379893764399,
           0.31573652947969394,
           0.3107712633723548,
           0.30565167087166567,
           0.30038753021984665,
           0.2949889385533767,
           0.2894662712268664,
           0.2838302134650907,
           0.2780916925781688,
           0.27226184344550786,
           0.2663519578657437
          ],
          [
           0.04580543699070707,
           0.04434223534279094,
           0.04294277218175732,
           0.04162015394503031,
           0.04038678738903061,
           0.039254156574916654,
           0.0382326031206535,
           0.03733111998474608,
           0.036557168963227665,
           0.0359165255779266,
           0.035413162484581484,
           0.03504917172885942,
           0.03482473838762101,
           0.03473815718793792,
           0.03478589754627186,
           0.034962710661500584,
           0.035261773404363664,
           0.03567486186970618,
           0.03619254671377695,
           0.03680440123414621,
           0.037499220843221576,
           0.03826523194775843,
           0.03909030430234164,
           0.039962147696757176,
           0.040868493599112224,
           0.04179726720070824,
           0.04273672615804302,
           0.04367559453514769,
           0.04460316989208438,
           0.04550941254617234
          ],
          [
           0.42015243648688133,
           0.4223563338767724,
           0.42425308589057065,
           0.4258569010527917,
           0.4271839523608114,
           0.4282518394356517,
           0.42907888624541396,
           0.4296832449806876,
           0.43008177674496595,
           0.43028868091163597,
           0.4303138371680384,
           0.43016092480359236,
           0.4298263645837218,
           0.4293004159212674,
           0.42856905686243396,
           0.42761563419651066,
           0.4264222276897308,
           0.4249707619894748,
           0.42324389777131416,
           0.42122573398358837,
           0.41890232613420086,
           0.4162620934150304,
           0.413296070100798,
           0.4099980671266159,
           0.40636474783652726,
           0.4023955993443835,
           0.39809290188747526,
           0.39346159059854896,
           0.3885091065924407,
           0.3832452124090126
          ],
          [
           2.0057248811892845,
           2.0368217357945704,
           2.065236948975119,
           2.090785545161811,
           2.1132964489170307,
           2.1326150906685646,
           2.148605918090806,
           2.1611546797614527,
           2.1701703807527464,
           2.1755869098591725,
           2.177364230765148,
           2.1754891303900177,
           2.169975450401767,
           2.160863840263168,
           2.1482210082705344,
           2.132138513188964,
           2.112731138139234,
           2.0901349048159488,
           2.0645047959860725,
           2.0360123082629484,
           2.0048426259325405,
           1.9711921912479382,
           1.935265819534011,
           1.8972740999184647,
           1.857430933120206,
           1.8159509014875108,
           1.773047476394532,
           1.7289307991247616,
           1.683806007574018,
           1.637871734781638
          ],
          [
           2.9066596328897893,
           2.961862387478698,
           3.0131623035157302,
           3.06006428826869,
           3.1020684080139413,
           3.1386800507270465,
           3.1694232229382586,
           3.193857378453985,
           3.2115980969281077,
           3.2223415679255627,
           3.225890875236273,
           3.2221783847662477,
           3.211274770453718,
           3.1933795921967216,
           3.168798743685758,
           3.1379181497318647,
           3.10117937326492,
           3.059058981751957,
           3.012051826033391,
           2.9606579391841374,
           2.9053720422486187,
           2.8466764214240747,
           2.7850350604460954,
           2.7208898578974514,
           2.6546582101940306,
           2.586731103002192,
           2.5174730830703136,
           2.447221774290129,
           2.376288376465658,
           2.3049583852832494
          ],
          [
           2.5059884291098915,
           2.5370485291974436,
           2.5651318325517365,
           2.59012285638425,
           2.6119252909434847,
           2.630462580967954,
           2.645677589469952,
           2.657531070643301,
           2.6659988621492388,
           2.6710681205294367,
           2.672733282378176,
           2.6709929166044666,
           2.665848523677874,
           2.6573057844663968,
           2.6453777500344957,
           2.6300888792748482,
           2.611478797117288,
           2.589605053981491,
           2.564544636116023,
           2.536394345338567,
           2.505269983598249,
           2.4713052850123445,
           2.434649910401066,
           2.395467356112923,
           2.3539327242854817,
           2.3102300944979737,
           2.2645505911543347,
           2.217089863425529,
           2.1680460166723474,
           2.11761763000142
          ],
          [
           3.209133227815491,
           3.267486593695114,
           3.3212439592117056,
           3.3699596419302043,
           3.4132054170940394,
           3.450578718999345,
           3.481711606177949,
           3.506280315347816,
           3.5240152862754384,
           3.534711721685512,
           3.5382403805628138,
           3.534557386844014,
           3.523708583953081,
           3.505824991115135,
           3.481112957265631,
           3.4498433530028167,
           3.4123410392448816,
           3.3689748094037895,
           3.3201478717876673,
           3.26628902736379,
           3.207844071760811,
           3.1452688052926243,
           3.079021954450945,
           3.0095593161656287,
           2.937328742200004,
           2.8627653244399878,
           2.7862885098005656,
           2.7082987660550426,
           2.629175483155623,
           2.5492753571530073
          ],
          [
           1.4037190903922823,
           1.4217664225396962,
           1.438183339459824,
           1.4528848005641952,
           1.4657930632631417,
           1.476838600650387,
           1.4859609784235246,
           1.493109636790554,
           1.4982445426008981,
           1.5013367323971434,
           1.502368702964412,
           1.5013346596220971,
           1.4982405886482633,
           1.4931041789590893,
           1.4859545763300899,
           1.4768319855732972,
           1.4657871303333292,
           1.4528805854713827,
           1.4381819998716678,
           1.42176925732532,
           1.4037274320904933,
           1.3841479646339783,
           1.3631275480436487,
           1.3407671353976254,
           1.3171709713541493,
           1.2924454565254906,
           1.2666984343886394,
           1.240038149774073,
           1.2125724544563279,
           1.1844080417472227
          ],
          [
           0.37138487078017257,
           0.374890653891629,
           0.37807626155817803,
           0.38093127592883946,
           0.3834462956607865,
           0.3856129958350357,
           0.3874241867011906,
           0.38887386420673864,
           0.38995724869027326,
           0.3906708188681275,
           0.3910123347844328,
           0.3909808547621885,
           0.39057673886704447,
           0.3898016465959807,
           0.38865852344659246,
           0.3871515787910627,
           0.3852862549095907,
           0.3830691875698605,
           0.3805081586379773,
           0.3776120462323958,
           0.37439074396557015,
           0.37085512145433625,
           0.36701693335637553,
           0.3628887465392478,
           0.35848386656759423,
           0.35381622524281026,
           0.34890033779270757,
           0.34375118832234997,
           0.33838414990714566,
           0.3328148983265953
          ],
          [
           0.13632911442665663,
           0.13820052132596067,
           0.14000381098547993,
           0.1417351452594814,
           0.1433907823690437,
           0.14496708919183762,
           0.14646055663452878,
           0.14786781491573633,
           0.1491856453634199,
           0.1504109948505404,
           0.151540986263896,
           0.15257293595232807,
           0.153504359381953,
           0.154332985839444,
           0.15505676768627036,
           0.15567388972035665,
           0.15618277762925692,
           0.1565821054742922,
           0.156870802150546,
           0.15704805657805482,
           0.15711332293726155,
           0.15706632207276944,
           0.1569070447607568,
           0.15663575207717234,
           0.15625297563896068,
           0.1557595132743844,
           0.1551564298426265,
           0.15444505086004628,
           0.15362695777307972,
           0.15270398156113119
          ],
          [
           0.29456261907589565,
           0.3023102117067651,
           0.3100113591044717,
           0.31764792409486003,
           0.325201196248628,
           0.33265195037430983,
           0.3399805267699817,
           0.34716692086684775,
           0.3541908645656522,
           0.3610319292007941,
           0.3676696155058763,
           0.37408349260743595,
           0.3802532771954509,
           0.38615897335715965,
           0.391780988424176,
           0.39710025621847916,
           0.40209836107638297,
           0.40675766139379976,
           0.4110614113788897,
           0.4149938736226306,
           0.41854045797225076,
           0.42168779164497355,
           0.4244238462363765,
           0.4267380235864614,
           0.42862123591870566,
           0.43006598933845835,
           0.4310664258711788,
           0.4316183840320763,
           0.4317194299025988,
           0.43136887786965905
          ],
          [
           0.8679869000230492,
           0.899040304861662,
           0.930369947124107,
           0.9619013861502197,
           0.9935537026537803,
           1.0252394671288225,
           1.0568648370896643,
           1.0883297447248816,
           1.1195281071047598,
           1.1503481985413206,
           1.18067304296982,
           1.2103811172490162,
           1.2393468793614488,
           1.2674416779230573,
           1.2945346632225667,
           1.3204938455766788,
           1.3451872707380506,
           1.3684843025941993,
           1.3902569988029694,
           1.41038152907082,
           1.4287398013131056,
           1.4452207862130968,
           1.4597221573148282,
           1.4721517158823136,
           1.48242874772906,
           1.490485331725627,
           1.4962673221904113,
           1.4997353028068798,
           1.500865224908345,
           1.4996488142858124
          ],
          [
           1.3385558475629693,
           1.3923491019183756,
           1.4471717756696196,
           1.5029279404308478,
           1.5595074907033466,
           1.6167851813040053,
           1.6746197906152067,
           1.7328533467047842,
           1.791310293881648,
           1.8497968631913109,
           1.9081003954966191,
           1.9659891923958202,
           2.0232119932519397,
           2.0794981842408693,
           2.1345580633239454,
           2.1880835064153907,
           2.239749059794001,
           2.2892135418982056,
           2.336122250027433,
           2.3801098130587377,
           2.4208042315238067,
           2.4578311943842066,
           2.4908202569977456,
           2.5194119855348034,
           2.5432666749528634,
           2.5620750041847513,
           2.575570279298699,
           2.5835431055486477,
           2.5858572769416597,
           2.5824642198780956
          ],
          [
           1.0387468501741246,
           1.0666306722330905,
           1.094395550295642,
           1.1219715616702473,
           1.1492851270976188,
           1.1762591231033124,
           1.2028130942263866,
           1.2288635255483666,
           1.2543241161795453,
           1.2791061669772543,
           1.3031189616442982,
           1.3262703697145621,
           1.3484672806918134,
           1.3696163076213828,
           1.3896244546897023,
           1.408399861966687,
           1.4258526011309263,
           1.4418955135897575,
           1.4564450802479858,
           1.4694222904406438,
           1.4807536156966974,
           1.4903717639733718,
           1.4982166158063412,
           1.5042360029183275,
           1.5083864362135184,
           1.5106337767499785,
           1.5109537396489692,
           1.509332349968339,
           1.5057662298049583,
           1.5002627536384319
          ],
          [
           1.4719490389500234,
           1.4941585133185935,
           1.514919399959548,
           1.534145800894582,
           1.551757695527652,
           1.567681700717956,
           1.5818518115929847,
           1.5942100696668855,
           1.6047071171369445,
           1.6133026849217913,
           1.6199659506317563,
           1.6246758319550096,
           1.6274210937639184,
           1.6282003960399525,
           1.6270221941922283,
           1.6239045307487863,
           1.6188747184670214,
           1.611968923409325,
           1.6032316585346373,
           1.5927152182923154,
           1.5804789599596794,
           1.5665887074380536,
           1.5511159518364068,
           1.534137110367586,
           1.5157327913758172,
           1.495986910646644,
           1.4749861214347424,
           1.4528189735400727,
           1.4295752498758956,
           1.4053453135569018
          ],
          [
           3.0198884929180867,
           3.0792111928929575,
           3.1345794065407784,
           3.185553665552943,
           3.231703873942671,
           3.272618234492457,
           3.307913708586472,
           3.337247765319819,
           3.3603309268719332,
           3.3769393750197736,
           3.3869260524445797,
           3.3902285422261245,
           3.3868718717113757,
           3.3769657772210975,
           3.3606969845923054,
           3.338318236725128,
           3.310135898564396,
           3.2764975706804758,
           3.237780581596927,
           3.1943818495759904,
           3.1467088084236936,
           3.095172439484853,
           3.0401809028888547,
           2.9821346678484395,
           2.9214226949984567,
           2.858419005094179,
           2.7934809889130086,
           2.726947382957963,
           2.659137270457027,
           2.5903494382602106
          ],
          [
           2.789976148528432,
           2.850014130611094,
           2.9077216701383417,
           2.9628478652579116,
           3.0151489120311172,
           3.0643907292827777,
           3.1103516381469993,
           3.152824920157671,
           3.1916210790438932,
           3.2265699269353822,
           3.2575222402437887,
           3.28435124704102,
           3.306953396583776,
           3.32524897896368,
           3.3391822047255317,
           3.348720929058,
           3.3538560380996834,
           3.3546005531752425,
           3.3509885154797527,
           3.3430737314372374,
           3.3309283491027792,
           3.3146415284707786,
           3.2943179937435976,
           3.2700766748287964,
           3.242049444435733,
           3.2103796868809993,
           3.1752213933504745,
           3.136737871880873,
           3.0951007245500035,
           3.0504888184500665
          ],
          [
           2.039948418261568,
           2.1069055077940857,
           2.1745106213137424,
           2.242634379590836,
           2.3111332851394972,
           2.3798487677022555,
           2.448606363750079,
           2.517214945495948,
           2.585465852996309,
           2.6531322396352914,
           2.7199683337199523,
           2.7857092774992633,
           2.8500705054194424,
           2.9127479307505175,
           2.9734181626411833,
           3.0317391495983252,
           3.087351277215673,
           3.1398790149744014,
           3.1889332212188397,
           3.2341141619821046,
           3.2750158115348134,
           3.311230519648727,
           3.342355692909146,
           3.3680015909323826,
           3.3878009026609766,
           3.4014204729910857,
           3.408575033591901,
           3.409043927731553,
           3.402690673062549,
           3.3894846617008585
          ],
          [
           1.0488572116781734,
           1.082691281963428,
           1.1166946132833797,
           1.1507851203178623,
           1.1848744036147094,
           1.218867769479709,
           1.2526643859768356,
           1.2861575312687599,
           1.319234860764829,
           1.3517788405930793,
           1.3836671946145922,
           1.4147736697699826,
           1.4449686060355402,
           1.4741198946405516,
           1.5020939228327355,
           1.528756656958481,
           1.553974830565074,
           1.5776172263405517,
           1.5995560365507944,
           1.619668251432504,
           1.637837240392604,
           1.6539540186841404,
           1.6679188182786473,
           1.6796424346020322,
           1.6890475019277162,
           1.6960697121846489,
           1.7006587255965628,
           1.702779047012771,
           1.7024106051763697,
           1.6995491143527286
          ]
         ],
         "type": "surface"
        },
        {
         "name": "UCB",
         "x": [
          1.5
         ],
         "y": [
          8.85
         ],
         "z": [
          3.7669
         ],
         "type": "scatter3d"
        },
        {
         "name": "UCB2",
         "x": [
          1.17
         ],
         "y": [
          8.85
         ],
         "z": [
          3.49
         ],
         "type": "scatter3d"
        },
        {
         "name": "NLCB",
         "x": [
          2.8
         ],
         "y": [
          9.05
         ],
         "z": [
          4.07
         ],
         "type": "scatter3d"
        }
       ],
       "layout": {
        "template": {
         "data": {
          "barpolar": [
           {
            "marker": {
             "line": {
              "color": "rgb(237,237,237)",
              "width": 0.5
             },
             "pattern": {
              "fillmode": "overlay",
              "size": 10,
              "solidity": 0.2
             }
            },
            "type": "barpolar"
           }
          ],
          "bar": [
           {
            "error_x": {
             "color": "rgb(51,51,51)"
            },
            "error_y": {
             "color": "rgb(51,51,51)"
            },
            "marker": {
             "line": {
              "color": "rgb(237,237,237)",
              "width": 0.5
             },
             "pattern": {
              "fillmode": "overlay",
              "size": 10,
              "solidity": 0.2
             }
            },
            "type": "bar"
           }
          ],
          "carpet": [
           {
            "aaxis": {
             "endlinecolor": "rgb(51,51,51)",
             "gridcolor": "white",
             "linecolor": "white",
             "minorgridcolor": "white",
             "startlinecolor": "rgb(51,51,51)"
            },
            "baxis": {
             "endlinecolor": "rgb(51,51,51)",
             "gridcolor": "white",
             "linecolor": "white",
             "minorgridcolor": "white",
             "startlinecolor": "rgb(51,51,51)"
            },
            "type": "carpet"
           }
          ],
          "choropleth": [
           {
            "colorbar": {
             "outlinewidth": 0,
             "tickcolor": "rgb(237,237,237)",
             "ticklen": 6,
             "ticks": "inside"
            },
            "type": "choropleth"
           }
          ],
          "contourcarpet": [
           {
            "colorbar": {
             "outlinewidth": 0,
             "tickcolor": "rgb(237,237,237)",
             "ticklen": 6,
             "ticks": "inside"
            },
            "type": "contourcarpet"
           }
          ],
          "contour": [
           {
            "colorbar": {
             "outlinewidth": 0,
             "tickcolor": "rgb(237,237,237)",
             "ticklen": 6,
             "ticks": "inside"
            },
            "colorscale": [
             [
              0,
              "rgb(20,44,66)"
             ],
             [
              1,
              "rgb(90,179,244)"
             ]
            ],
            "type": "contour"
           }
          ],
          "heatmapgl": [
           {
            "colorbar": {
             "outlinewidth": 0,
             "tickcolor": "rgb(237,237,237)",
             "ticklen": 6,
             "ticks": "inside"
            },
            "colorscale": [
             [
              0,
              "rgb(20,44,66)"
             ],
             [
              1,
              "rgb(90,179,244)"
             ]
            ],
            "type": "heatmapgl"
           }
          ],
          "heatmap": [
           {
            "colorbar": {
             "outlinewidth": 0,
             "tickcolor": "rgb(237,237,237)",
             "ticklen": 6,
             "ticks": "inside"
            },
            "colorscale": [
             [
              0,
              "rgb(20,44,66)"
             ],
             [
              1,
              "rgb(90,179,244)"
             ]
            ],
            "type": "heatmap"
           }
          ],
          "histogram2dcontour": [
           {
            "colorbar": {
             "outlinewidth": 0,
             "tickcolor": "rgb(237,237,237)",
             "ticklen": 6,
             "ticks": "inside"
            },
            "colorscale": [
             [
              0,
              "rgb(20,44,66)"
             ],
             [
              1,
              "rgb(90,179,244)"
             ]
            ],
            "type": "histogram2dcontour"
           }
          ],
          "histogram2d": [
           {
            "colorbar": {
             "outlinewidth": 0,
             "tickcolor": "rgb(237,237,237)",
             "ticklen": 6,
             "ticks": "inside"
            },
            "colorscale": [
             [
              0,
              "rgb(20,44,66)"
             ],
             [
              1,
              "rgb(90,179,244)"
             ]
            ],
            "type": "histogram2d"
           }
          ],
          "histogram": [
           {
            "marker": {
             "pattern": {
              "fillmode": "overlay",
              "size": 10,
              "solidity": 0.2
             }
            },
            "type": "histogram"
           }
          ],
          "mesh3d": [
           {
            "colorbar": {
             "outlinewidth": 0,
             "tickcolor": "rgb(237,237,237)",
             "ticklen": 6,
             "ticks": "inside"
            },
            "type": "mesh3d"
           }
          ],
          "parcoords": [
           {
            "line": {
             "colorbar": {
              "outlinewidth": 0,
              "tickcolor": "rgb(237,237,237)",
              "ticklen": 6,
              "ticks": "inside"
             }
            },
            "type": "parcoords"
           }
          ],
          "pie": [
           {
            "automargin": true,
            "type": "pie"
           }
          ],
          "scatter3d": [
           {
            "line": {
             "colorbar": {
              "outlinewidth": 0,
              "tickcolor": "rgb(237,237,237)",
              "ticklen": 6,
              "ticks": "inside"
             }
            },
            "marker": {
             "colorbar": {
              "outlinewidth": 0,
              "tickcolor": "rgb(237,237,237)",
              "ticklen": 6,
              "ticks": "inside"
             }
            },
            "type": "scatter3d"
           }
          ],
          "scattercarpet": [
           {
            "marker": {
             "colorbar": {
              "outlinewidth": 0,
              "tickcolor": "rgb(237,237,237)",
              "ticklen": 6,
              "ticks": "inside"
             }
            },
            "type": "scattercarpet"
           }
          ],
          "scattergeo": [
           {
            "marker": {
             "colorbar": {
              "outlinewidth": 0,
              "tickcolor": "rgb(237,237,237)",
              "ticklen": 6,
              "ticks": "inside"
             }
            },
            "type": "scattergeo"
           }
          ],
          "scattergl": [
           {
            "marker": {
             "colorbar": {
              "outlinewidth": 0,
              "tickcolor": "rgb(237,237,237)",
              "ticklen": 6,
              "ticks": "inside"
             }
            },
            "type": "scattergl"
           }
          ],
          "scattermapbox": [
           {
            "marker": {
             "colorbar": {
              "outlinewidth": 0,
              "tickcolor": "rgb(237,237,237)",
              "ticklen": 6,
              "ticks": "inside"
             }
            },
            "type": "scattermapbox"
           }
          ],
          "scatterpolargl": [
           {
            "marker": {
             "colorbar": {
              "outlinewidth": 0,
              "tickcolor": "rgb(237,237,237)",
              "ticklen": 6,
              "ticks": "inside"
             }
            },
            "type": "scatterpolargl"
           }
          ],
          "scatterpolar": [
           {
            "marker": {
             "colorbar": {
              "outlinewidth": 0,
              "tickcolor": "rgb(237,237,237)",
              "ticklen": 6,
              "ticks": "inside"
             }
            },
            "type": "scatterpolar"
           }
          ],
          "scatter": [
           {
            "fillpattern": {
             "fillmode": "overlay",
             "size": 10,
             "solidity": 0.2
            },
            "type": "scatter"
           }
          ],
          "scatterternary": [
           {
            "marker": {
             "colorbar": {
              "outlinewidth": 0,
              "tickcolor": "rgb(237,237,237)",
              "ticklen": 6,
              "ticks": "inside"
             }
            },
            "type": "scatterternary"
           }
          ],
          "surface": [
           {
            "colorbar": {
             "outlinewidth": 0,
             "tickcolor": "rgb(237,237,237)",
             "ticklen": 6,
             "ticks": "inside"
            },
            "colorscale": [
             [
              0,
              "rgb(20,44,66)"
             ],
             [
              1,
              "rgb(90,179,244)"
             ]
            ],
            "type": "surface"
           }
          ],
          "table": [
           {
            "cells": {
             "fill": {
              "color": "rgb(237,237,237)"
             },
             "line": {
              "color": "white"
             }
            },
            "header": {
             "fill": {
              "color": "rgb(217,217,217)"
             },
             "line": {
              "color": "white"
             }
            },
            "type": "table"
           }
          ]
         },
         "layout": {
          "annotationdefaults": {
           "arrowhead": 0,
           "arrowwidth": 1
          },
          "autotypenumbers": "strict",
          "coloraxis": {
           "colorbar": {
            "outlinewidth": 0,
            "tickcolor": "rgb(237,237,237)",
            "ticklen": 6,
            "ticks": "inside"
           }
          },
          "colorscale": {
           "sequential": [
            [
             0,
             "rgb(20,44,66)"
            ],
            [
             1,
             "rgb(90,179,244)"
            ]
           ],
           "sequentialminus": [
            [
             0,
             "rgb(20,44,66)"
            ],
            [
             1,
             "rgb(90,179,244)"
            ]
           ]
          },
          "colorway": [
           "#F8766D",
           "#A3A500",
           "#00BF7D",
           "#00B0F6",
           "#E76BF3"
          ],
          "font": {
           "color": "rgb(51,51,51)"
          },
          "geo": {
           "bgcolor": "white",
           "lakecolor": "white",
           "landcolor": "rgb(237,237,237)",
           "showlakes": true,
           "showland": true,
           "subunitcolor": "white"
          },
          "hoverlabel": {
           "align": "left"
          },
          "hovermode": "closest",
          "paper_bgcolor": "white",
          "plot_bgcolor": "rgb(237,237,237)",
          "polar": {
           "angularaxis": {
            "gridcolor": "white",
            "linecolor": "white",
            "showgrid": true,
            "tickcolor": "rgb(51,51,51)",
            "ticks": "outside"
           },
           "bgcolor": "rgb(237,237,237)",
           "radialaxis": {
            "gridcolor": "white",
            "linecolor": "white",
            "showgrid": true,
            "tickcolor": "rgb(51,51,51)",
            "ticks": "outside"
           }
          },
          "scene": {
           "xaxis": {
            "backgroundcolor": "rgb(237,237,237)",
            "gridcolor": "white",
            "gridwidth": 2,
            "linecolor": "white",
            "showbackground": true,
            "showgrid": true,
            "tickcolor": "rgb(51,51,51)",
            "ticks": "outside",
            "zerolinecolor": "white"
           },
           "yaxis": {
            "backgroundcolor": "rgb(237,237,237)",
            "gridcolor": "white",
            "gridwidth": 2,
            "linecolor": "white",
            "showbackground": true,
            "showgrid": true,
            "tickcolor": "rgb(51,51,51)",
            "ticks": "outside",
            "zerolinecolor": "white"
           },
           "zaxis": {
            "backgroundcolor": "rgb(237,237,237)",
            "gridcolor": "white",
            "gridwidth": 2,
            "linecolor": "white",
            "showbackground": true,
            "showgrid": true,
            "tickcolor": "rgb(51,51,51)",
            "ticks": "outside",
            "zerolinecolor": "white"
           }
          },
          "shapedefaults": {
           "fillcolor": "black",
           "line": {
            "width": 0
           },
           "opacity": 0.3
          },
          "ternary": {
           "aaxis": {
            "gridcolor": "white",
            "linecolor": "white",
            "showgrid": true,
            "tickcolor": "rgb(51,51,51)",
            "ticks": "outside"
           },
           "baxis": {
            "gridcolor": "white",
            "linecolor": "white",
            "showgrid": true,
            "tickcolor": "rgb(51,51,51)",
            "ticks": "outside"
           },
           "bgcolor": "rgb(237,237,237)",
           "caxis": {
            "gridcolor": "white",
            "linecolor": "white",
            "showgrid": true,
            "tickcolor": "rgb(51,51,51)",
            "ticks": "outside"
           }
          },
          "xaxis": {
           "automargin": true,
           "gridcolor": "white",
           "linecolor": "white",
           "showgrid": true,
           "tickcolor": "rgb(51,51,51)",
           "ticks": "outside",
           "title": {
            "standoff": 15
           },
           "zerolinecolor": "white"
          },
          "yaxis": {
           "automargin": true,
           "gridcolor": "white",
           "linecolor": "white",
           "showgrid": true,
           "tickcolor": "rgb(51,51,51)",
           "ticks": "outside",
           "title": {
            "standoff": 15
           },
           "zerolinecolor": "white"
          }
         }
        },
        "legend": {
         "orientation": "h",
         "yanchor": "top",
         "y": 1.02,
         "xanchor": "left",
         "x": 1
        },
        "margin": {
         "r": 20,
         "l": 10,
         "b": 10,
         "t": 10
        },
        "width": 1000,
        "height": 800,
        "scene": {
         "xaxis": {
          "title": {
           "text": "Pulse width (μs)"
          }
         },
         "yaxis": {
          "title": {
           "text": "Energy density new cone (J/cm^2)"
          }
         },
         "zaxis": {
          "title": {
           "text": "Figure of Merit"
          }
         },
         "camera": {
          "up": {
           "x": 0,
           "y": 0,
           "z": 1
          },
          "center": {
           "x": 0,
           "y": 0,
           "z": 0
          },
          "eye": {
           "x": 2.75,
           "y": 1.75,
           "z": 1
          }
         }
        }
       },
       "config": {
        "plotlyServerURL": "https://plot.ly"
       }
      }
     },
     "metadata": {}
    }
   ],
   "metadata": {}
  },
  {
   "cell_type": "markdown",
   "source": [
    "### GP Predictions"
   ],
   "metadata": {}
  },
  {
   "cell_type": "code",
   "execution_count": 92,
   "source": [
    "from emukit.bayesian_optimization.loops import BayesianOptimizationLoop\n",
    "from emukit.bayesian_optimization.acquisitions import ExpectedImprovement, \\\n",
    "                                                      NegativeLowerConfidenceBound, \\\n",
    "                                                      MaxValueEntropySearch, \\\n",
    "                                                      ProbabilityOfImprovement\n",
    "from emukit.core.acquisition import IntegratedHyperParameterAcquisition\n",
    "\n",
    "np.random.seed(10)#to make sure the random results is reproducible \n",
    "bs = 1\n",
    "acquisition = NegativeLowerConfidenceBound(objective_model, beta = 1)\n",
    "# acquisition = ExpectedImprovement(objective_model)\n",
    "# acquisition = MaxValueEntropySearch(objective_model, space=parameter_space)\n",
    "\n",
    "# Make loop and collect points\n",
    "bayesopt= BayesianOptimizationLoop(model=objective_model, \n",
    "                                   space=parameter_space, \n",
    "                                   acquisition=acquisition,\n",
    "                                   batch_size = bs)\n",
    "                                  \n",
    "print('total condition no.:', len(X))\n",
    "print('total device no.:', len(bayesopt.loop_state.Y))\n",
    "print('maximum Y (2 Qsw/(U+|D|) 1e6cycles): ', -np.min(np.transpose(np.round(bayesopt.loop_state.Y, 2))))\n",
    "\n",
    "X_new = bayesopt.candidate_point_calculator.compute_next_points(bayesopt.loop_state)\n",
    "f_acq = bayesopt.candidate_point_calculator.acquisition.evaluate\n",
    "\n",
    "df = fe_data\n",
    "print(X_new)\n",
    "print(x_denormalizer(X_new))\n",
    "df_Xnew = pd.DataFrame(get_closest_array(x_denormalizer(X_new)), columns = x_labels)\n",
    "df_all = pd.concat([df.iloc[:,0:2], df_Xnew])\n",
    "df_all_ = df_all.drop_duplicates()\n",
    "df_Xnew = df_all_.iloc[len(df):len(df)+bs]\n",
    "df_Xnew = df_Xnew.sort_values(by=list(df.columns[0:2]), ignore_index = True)\n",
    "df_Xnew.index = np.arange(len(df_Xnew))+len(df)\n",
    "print('New X:',len(df_Xnew))\n",
    "df_Xnew"
   ],
   "outputs": [
    {
     "output_type": "stream",
     "name": "stdout",
     "text": [
      "total condition no.: 15\n",
      "total device no.: 15\n",
      "maximum Y (2 Qsw/(U+|D|) 1e6cycles):  3.69\n",
      "[[0.64701001 0.9641242 ]]\n",
      "[[ 3.41154504 15.04787755]]\n",
      "New X: 1\n"
     ]
    },
    {
     "output_type": "execute_result",
     "data": {
      "text/html": [
       "<div>\n",
       "<style scoped>\n",
       "    .dataframe tbody tr th:only-of-type {\n",
       "        vertical-align: middle;\n",
       "    }\n",
       "\n",
       "    .dataframe tbody tr th {\n",
       "        vertical-align: top;\n",
       "    }\n",
       "\n",
       "    .dataframe thead th {\n",
       "        text-align: right;\n",
       "    }\n",
       "</style>\n",
       "<table border=\"1\" class=\"dataframe\">\n",
       "  <thead>\n",
       "    <tr style=\"text-align: right;\">\n",
       "      <th></th>\n",
       "      <th>Time (ms)</th>\n",
       "      <th>Energy density new cone (J/cm^2)</th>\n",
       "    </tr>\n",
       "  </thead>\n",
       "  <tbody>\n",
       "    <tr>\n",
       "      <th>15</th>\n",
       "      <td>3.4</td>\n",
       "      <td>15.05</td>\n",
       "    </tr>\n",
       "  </tbody>\n",
       "</table>\n",
       "</div>"
      ],
      "text/plain": [
       "    Time (ms)  Energy density new cone (J/cm^2)\n",
       "15        3.4                             15.05"
      ]
     },
     "metadata": {},
     "execution_count": 92
    }
   ],
   "metadata": {}
  },
  {
   "cell_type": "code",
   "execution_count": 93,
   "source": [
    "y_pred_new, y_uncer_new = f_obj(x_normalizer(df_Xnew.values))\n",
    "y_pred_new = -y_pred_new[:,-1]\n",
    "print(y_pred_new)"
   ],
   "outputs": [
    {
     "output_type": "stream",
     "name": "stdout",
     "text": [
      "[3.32954138]\n"
     ]
    }
   ],
   "metadata": {}
  },
  {
   "cell_type": "code",
   "execution_count": 94,
   "source": [
    "f_obj2 =  objective_model.model.predict\n",
    "f_x_new, _ = f_obj2(X_new)\n",
    "print(f_x_new[0].reshape(1,1).T)"
   ],
   "outputs": [
    {
     "output_type": "stream",
     "name": "stdout",
     "text": [
      "[[-3.33058777]]\n"
     ]
    }
   ],
   "metadata": {}
  },
  {
   "cell_type": "code",
   "execution_count": 95,
   "source": [
    "import plotly.graph_objects as go\n",
    "import matplotlib.pyplot as plt\n",
    "import matplotlib as mpl\n",
    "\n",
    "# make, scale post_test_grid\n",
    "_, _, test_grid, test_arr = grid_maker(torch.Tensor(X))\n",
    "volt_on_grid, _ = f_obj(test_arr.numpy())\n",
    "volt_on_grid = -1 * volt_on_grid.reshape(30,30).T\n",
    "raw_test_arr = x_denormalizer(test_arr)\n",
    "raw_test_grid = x_denormalizer(test_grid)\n",
    "\n",
    "fig = go.Figure(data=[go.Scatter3d(z=Y[:,-1], \n",
    "                                    x=x_denormalizer(X)[:,0],\n",
    "                                    y=x_denormalizer(X)[:,1], \n",
    "                                    mode='markers',\n",
    "                                    marker={'color':'#72356c'},\n",
    "                                    name='Data')])\n",
    "fig.add_trace(go.Surface(z=volt_on_grid, \n",
    "                            x=raw_test_grid[:,0],\n",
    "                            y=raw_test_grid[:,1],\n",
    "                            opacity = 0.8,\n",
    "                            colorscale = \"Burg\",\n",
    "                            colorbar=dict(thickness=15, len=0.5)))\n",
    "\n",
    "fig.add_trace(go.Scatter3d(z=[3.7669], x=[1.5], y=[8.85], name = \"UCB\"))\n",
    "fig.add_trace(go.Scatter3d(z=[3.49], x=[1.17], y=[8.85], name = \"UCB2\"))\n",
    "fig.add_trace(go.Scatter3d(z=[4.07], x=[2.8], y=[9.05], name = \"NLCB\"))\n",
    "\n",
    "fig.update_layout( width=1000, height=800,\n",
    "                    legend=dict(orientation=\"h\", yanchor=\"top\", y=1.02, \n",
    "                    xanchor=\"left\",x=1), margin=dict(r=20, l=10, b=10, t=10), \n",
    "                        scene=dict(\n",
    "                        xaxis_title=\"Pulse width (μs)\",\n",
    "                        yaxis_title=\"Energy density new cone (J/cm^2)\",\n",
    "                        zaxis_title='Figure of Merit')\n",
    "                    )\n",
    "fig.update_layout(template=\"ggplot2\")\n",
    "camera = dict(up=dict(x=0, y=0, z=1), center=dict(x=0, y=0, z=0),\n",
    "                    eye=dict(x=2.75, y=1.75, z=1))\n",
    "fig.update_layout(scene_camera=camera)\n",
    "fig.show()"
   ],
   "outputs": [
    {
     "output_type": "display_data",
     "data": {
      "application/vnd.plotly.v1+json": {
       "data": [
        {
         "marker": {
          "color": "#72356c"
         },
         "mode": "markers",
         "name": "Data",
         "x": [
          0.5,
          2,
          2,
          0.5,
          0.5,
          0.5,
          1,
          1,
          2,
          2,
          2,
          2,
          2,
          5,
          5
         ],
         "y": [
          5.24,
          10.71,
          10.13,
          4.51,
          5.37,
          4.88,
          6.76,
          7.77,
          8.73,
          9.38,
          10.48,
          11.01,
          14.71,
          15.44,
          13.37
         ],
         "z": [
          1.201356,
          3.56655,
          3.47087,
          0.2633,
          2.77534,
          2.59131,
          2.57998,
          3.17382,
          0.1315,
          0.45116,
          2.12664,
          3.46821,
          3.68585,
          3.44566,
          2.65155
         ],
         "type": "scatter3d"
        },
        {
         "colorbar": {
          "len": 0.5,
          "thickness": 15
         },
         "colorscale": [
          [
           0,
           "rgb(255, 198, 196)"
          ],
          [
           0.16666666666666666,
           "rgb(244, 163, 168)"
          ],
          [
           0.3333333333333333,
           "rgb(227, 129, 145)"
          ],
          [
           0.5,
           "rgb(204, 96, 125)"
          ],
          [
           0.6666666666666666,
           "rgb(173, 70, 108)"
          ],
          [
           0.8333333333333334,
           "rgb(139, 48, 88)"
          ],
          [
           1,
           "rgb(103, 32, 68)"
          ]
         ],
         "opacity": 0.8,
         "x": [
          0.3392857015132904,
          0.5055418610572815,
          0.6717979907989502,
          0.8380541801452637,
          1.0043103694915771,
          1.1705665588378906,
          1.3368226289749146,
          1.503078818321228,
          1.669334888458252,
          1.8355910778045654,
          2.001847267150879,
          2.1681032180786133,
          2.334359645843506,
          2.5006155967712402,
          2.666872024536133,
          2.833127975463867,
          2.9993844032287598,
          3.165640354156494,
          3.3318967819213867,
          3.498152494430542,
          3.6644086837768555,
          3.830664873123169,
          3.9969210624694824,
          4.163177490234375,
          4.329433441162109,
          4.495689392089844,
          4.661945819854736,
          4.828201770782471,
          4.994458198547363,
          5.160714149475098
         ],
         "y": [
          4.119643211364746,
          4.523460865020752,
          4.927278518676758,
          5.331096172332764,
          5.7349138259887695,
          6.138731956481934,
          6.5425496101379395,
          6.946367263793945,
          7.350184917449951,
          7.754002571105957,
          8.157819747924805,
          8.561637878417969,
          8.965456008911133,
          9.369274139404297,
          9.773091316223145,
          10.176909446716309,
          10.580726623535156,
          10.98454475402832,
          11.388362884521484,
          11.792180061340332,
          12.19599723815918,
          12.599815368652344,
          13.003633499145508,
          13.407451629638672,
          13.81126880645752,
          14.215085983276367,
          14.618904113769531,
          15.022722244262695,
          15.426539421081543,
          15.830357551574707
         ],
         "z": [
          [
           -0.49154532509331794,
           -0.4920641794221111,
           -0.49147098881373935,
           -0.4897708657385428,
           -0.48697841014553345,
           -0.4831174355974924,
           -0.4782205239634383,
           -0.47232842053671076,
           -0.4654893061451411,
           -0.45775795045472356,
           -0.44919480349608293,
           -0.4398649785020143,
           -0.4298372874209824,
           -0.4191832029362627,
           -0.4079758752798086,
           -0.3962891842901996,
           -0.3841968505326537,
           -0.37177161911606493,
           -0.3590845262286203,
           -0.34620427585448477,
           -0.3331966048111451,
           -0.32012394930576327,
           -0.3070449951290643,
           -0.2940144190472673,
           -0.28108271260968437,
           -0.2682959777496811,
           -0.2556959996130345,
           -0.2433201713895477,
           -0.23120157698806004,
           -0.21936909820096723
          ],
          [
           0.40786477712341623,
           0.40755039083524386,
           0.40791140823012817,
           0.4089132654197176,
           0.4104671196329394,
           0.41244781240243816,
           0.4147093582139366,
           0.41709722910819474,
           0.419457812337852,
           0.4216454487290572,
           0.42352741497701535,
           0.4249872124733151,
           0.42592644370248145,
           0.42626559248666646,
           0.42594393103502537,
           0.4249187785571867,
           0.423164293098008,
           0.420669949936432,
           0.41743883219392747,
           0.41348584121072024,
           0.4088358645616575,
           0.40352205961644383,
           0.39758416784768313,
           0.3910669821136162,
           0.3840189609540671,
           0.37649093520839677,
           0.3685350823081093,
           0.36020393780109744,
           0.35154960639276894,
           0.3426230967977869
          ],
          [
           2.3227423030128787,
           2.3258019426676455,
           2.3223223161126216,
           2.312390967659622,
           2.2962465060096435,
           2.274248101399456,
           2.246840465440819,
           2.2145219490495065,
           2.177818290941674,
           2.1372620207705424,
           2.09337706005536,
           2.046667345940085,
           1.9976093917684763,
           1.9466472932823915,
           1.8941901014780174,
           1.8406108279877431,
           1.7862466793761598,
           1.731400164108861,
           1.6763407883671309,
           1.6213072081347284,
           1.5665091367325694,
           1.5121302151135554,
           1.4583299781321584,
           1.4052461883355334,
           1.3529970473105224,
           1.3016828466403885,
           1.2513883079423103,
           1.202183922316211,
           1.1541275605673658,
           1.1072658523505416
          ],
          [
           2.177676760154639,
           2.17954896596942,
           2.1775274672812897,
           2.171667450373799,
           2.1621097433729775,
           2.1490453334777664,
           2.132685590636517,
           2.1132446472352657,
           2.0909311608450514,
           2.0659454857190847,
           2.0384796252007824,
           2.008718149022409,
           1.9768396771358177,
           1.9430180394200993,
           1.9074232765909764,
           1.8702223031994047,
           1.831579264960987,
           1.791655630044042,
           1.7506100650205902,
           1.708598216375813,
           1.6657720371663394,
           1.6222797234410455,
           1.5782649409715932,
           1.5338663865437172,
           1.48921737617445,
           1.4444451127102176,
           1.399670727760297,
           1.3550086651665088,
           1.3105664913367958,
           1.2664447027037742
          ],
          [
           2.6512102711406715,
           2.6538266342117214,
           2.6516400194828575,
           2.6446705287187817,
           2.632977670203873,
           2.6166591187100146,
           2.5958487051647254,
           2.5707137015015324,
           2.5414515759664478,
           2.5082862577655924,
           2.471464174476107,
           2.4312498769909032,
           2.3879219572537016,
           2.3417687231753375,
           2.293084183145097,
           2.2421642519774636,
           2.1893032718535075,
           2.134790894473069,
           2.078909352670392,
           2.0219312263051537,
           1.9641171459394238,
           1.9057148052729151,
           1.8469574204415964,
           1.788062984394988,
           1.7292338304004715,
           1.6706559923801292,
           1.6124997508123222,
           1.554919430163625,
           1.498053839879846,
           1.4420267577961812
          ],
          [
           1.4577076486906917,
           1.4607896168209824,
           1.4621430652199445,
           1.4617616868066328,
           1.4596469385644724,
           1.4558080340056039,
           1.4502618634376219,
           1.443032833677233,
           1.434152649893168,
           1.4236600208295553,
           1.4116003312488021,
           1.3980251845432443,
           1.3829920088083156,
           1.3665635209548892,
           1.3488072024169848,
           1.3297947382421573,
           1.3096014364812387,
           1.2883056356571774,
           1.265988107904356,
           1.2427315032745094,
           1.2186196139407317,
           1.1937370313545435,
           1.1681684510012216,
           1.1419981892432765,
           1.1153097376011556,
           1.0881851347754947,
           1.0607048072597571,
           1.0329470188238987,
           1.0049875744481611,
           0.9768995224719951
          ],
          [
           2.0671383874852984,
           2.079091366525649,
           2.087542783596515,
           2.0924158857271977,
           2.0936646647702126,
           2.0912751468322113,
           2.0852658207359793,
           2.075687146212788,
           2.062620204641215,
           2.046174562121173,
           2.0264855392696264,
           2.003710891501618,
           1.9780273773834103,
           1.9496270384270395,
           1.9187135739211103,
           1.8854988400133348,
           1.8501995774305173,
           1.81303442919893,
           1.7742212847064258,
           1.7339750318325662,
           1.6925053229138274,
           1.650015322870795,
           1.6067001195554629,
           1.5627457409581906,
           1.5183284381772657,
           1.4736138381627788,
           1.428757015122163,
           1.3839020191576725,
           1.3391819108175795,
           1.2947188492609245
          ],
          [
           2.3294898861231044,
           2.3436413385313504,
           2.3537929545609657,
           2.3598507027627447,
           2.361757441432798,
           2.3594947048131396,
           2.3530833053037044,
           2.3425826656692994,
           2.3280889710927797,
           2.309732273142056,
           2.2876728341896704,
           2.262096791536177,
           2.2332117396870608,
           2.201242077835722,
           2.1664245758391485,
           2.129004196846045,
           2.0892302854084512,
           2.047353173648928,
           2.003621226494304,
           1.9582783980133713,
           1.9115618365922895,
           1.863700614674048,
           1.8149140839614197,
           1.7654109114342038,
           1.7153884056015252,
           1.6650316830489416,
           1.6145138542716373,
           1.5639955820467535,
           1.5136251934409262,
           1.4635388368307198
          ],
          [
           2.174811824611174,
           2.1854242513969773,
           2.1930210308258022,
           2.197558277886623,
           2.1990096207087877,
           2.197366559072919,
           2.192638589071329,
           2.1848530655211356,
           2.17405482940421,
           2.160305592293004,
           2.1436831398661167,
           2.1242802392524593,
           2.1022035307836076,
           2.0775721439045296,
           2.050516268019884,
           2.0211756344979173,
           1.9896979538232626,
           1.9562373382129996,
           1.9209527377669033,
           1.8840064762036248,
           1.845562545201995,
           1.805785576859851,
           1.7648393157075821,
           1.722885489849671,
           1.6800828059802866,
           1.6365857143007996,
           1.5925439847984553,
           1.5481017121734562,
           1.5033967801940966,
           1.4585603692223361
          ],
          [
           3.06181776013086,
           3.0848084048627173,
           3.1014290820998918,
           3.1114249113607055,
           3.1146288220029374,
           3.1109835266860846,
           3.100552732185968,
           3.083508878434964,
           3.0601110735908237,
           3.03068472716914,
           2.9956043035726037,
           2.9552785976882614,
           2.910138719631401,
           2.860627859142852,
           2.807192973025661,
           2.7502779887112574,
           2.6903183340200716,
           2.627736603569505,
           2.5629391957599204,
           2.4963138838417347,
           2.428227543742794,
           2.3590255486446146,
           2.289030581887021,
           2.2185423921478287,
           2.1478378928725754,
           2.077170964883606,
           2.0067736209852223,
           1.9368562034266563,
           1.8676082867298822,
           1.799199568054945
          ],
          [
           1.6200868156628807,
           1.6284246129765398,
           1.634328590176669,
           1.6377600180846474,
           1.6386960509505086,
           1.6371300945563845,
           1.6330719244588061,
           1.6265475305384063,
           1.6175987122971218,
           1.6062824221561236,
           1.5926699152600363,
           1.5768456201848946,
           1.5589059710391648,
           1.5389579986644113,
           1.5171178811718713,
           1.4935094282715105,
           1.4682625447020647,
           1.441511705330586,
           1.4133944709167856,
           1.3840501176201039,
           1.3536181126877367,
           1.3222371675098967,
           1.2900439316077517,
           1.2571720408894358,
           1.2237512976105618,
           1.189906703616641,
           1.155758155796545,
           1.1214197199823555,
           1.086999284429445,
           1.052598263338507
          ],
          [
           0.36828401983379944,
           0.36838588953149526,
           0.36814539503674204,
           0.36756910426938594,
           0.36666482984479504,
           0.3654414369842902,
           0.3639086266945936,
           0.3620767022571923,
           0.35995633607644295,
           0.3575583450232654,
           0.3548934990216715,
           0.3519723535685761,
           0.3488051578726088,
           0.3454017955618856,
           0.34177178818192,
           0.3379243409047061,
           0.3338684205393548,
           0.32961285244669514,
           0.325166423671578,
           0.3205379893764399,
           0.31573652947969394,
           0.3107712633723548,
           0.30565167087166567,
           0.30038753021984665,
           0.2949889385533767,
           0.2894662712268664,
           0.2838302134650907,
           0.2780916925781688,
           0.27226184344550786,
           0.2663519578657437
          ],
          [
           0.04580543699070707,
           0.04434223534279094,
           0.04294277218175732,
           0.04162015394503031,
           0.04038678738903061,
           0.039254156574916654,
           0.0382326031206535,
           0.03733111998474608,
           0.036557168963227665,
           0.0359165255779266,
           0.035413162484581484,
           0.03504917172885942,
           0.03482473838762101,
           0.03473815718793792,
           0.03478589754627186,
           0.034962710661500584,
           0.035261773404363664,
           0.03567486186970618,
           0.03619254671377695,
           0.03680440123414621,
           0.037499220843221576,
           0.03826523194775843,
           0.03909030430234164,
           0.039962147696757176,
           0.040868493599112224,
           0.04179726720070824,
           0.04273672615804302,
           0.04367559453514769,
           0.04460316989208438,
           0.04550941254617234
          ],
          [
           0.42015243648688133,
           0.4223563338767724,
           0.42425308589057065,
           0.4258569010527917,
           0.4271839523608114,
           0.4282518394356517,
           0.42907888624541396,
           0.4296832449806876,
           0.43008177674496595,
           0.43028868091163597,
           0.4303138371680384,
           0.43016092480359236,
           0.4298263645837218,
           0.4293004159212674,
           0.42856905686243396,
           0.42761563419651066,
           0.4264222276897308,
           0.4249707619894748,
           0.42324389777131416,
           0.42122573398358837,
           0.41890232613420086,
           0.4162620934150304,
           0.413296070100798,
           0.4099980671266159,
           0.40636474783652726,
           0.4023955993443835,
           0.39809290188747526,
           0.39346159059854896,
           0.3885091065924407,
           0.3832452124090126
          ],
          [
           2.0057248811892845,
           2.0368217357945704,
           2.065236948975119,
           2.090785545161811,
           2.1132964489170307,
           2.1326150906685646,
           2.148605918090806,
           2.1611546797614527,
           2.1701703807527464,
           2.1755869098591725,
           2.177364230765148,
           2.1754891303900177,
           2.169975450401767,
           2.160863840263168,
           2.1482210082705344,
           2.132138513188964,
           2.112731138139234,
           2.0901349048159488,
           2.0645047959860725,
           2.0360123082629484,
           2.0048426259325405,
           1.9711921912479382,
           1.935265819534011,
           1.8972740999184647,
           1.857430933120206,
           1.8159509014875108,
           1.773047476394532,
           1.7289307991247616,
           1.683806007574018,
           1.637871734781638
          ],
          [
           2.9066596328897893,
           2.961862387478698,
           3.0131623035157302,
           3.06006428826869,
           3.1020684080139413,
           3.1386800507270465,
           3.1694232229382586,
           3.193857378453985,
           3.2115980969281077,
           3.2223415679255627,
           3.225890875236273,
           3.2221783847662477,
           3.211274770453718,
           3.1933795921967216,
           3.168798743685758,
           3.1379181497318647,
           3.10117937326492,
           3.059058981751957,
           3.012051826033391,
           2.9606579391841374,
           2.9053720422486187,
           2.8466764214240747,
           2.7850350604460954,
           2.7208898578974514,
           2.6546582101940306,
           2.586731103002192,
           2.5174730830703136,
           2.447221774290129,
           2.376288376465658,
           2.3049583852832494
          ],
          [
           2.5059884291098915,
           2.5370485291974436,
           2.5651318325517365,
           2.59012285638425,
           2.6119252909434847,
           2.630462580967954,
           2.645677589469952,
           2.657531070643301,
           2.6659988621492388,
           2.6710681205294367,
           2.672733282378176,
           2.6709929166044666,
           2.665848523677874,
           2.6573057844663968,
           2.6453777500344957,
           2.6300888792748482,
           2.611478797117288,
           2.589605053981491,
           2.564544636116023,
           2.536394345338567,
           2.505269983598249,
           2.4713052850123445,
           2.434649910401066,
           2.395467356112923,
           2.3539327242854817,
           2.3102300944979737,
           2.2645505911543347,
           2.217089863425529,
           2.1680460166723474,
           2.11761763000142
          ],
          [
           3.209133227815491,
           3.267486593695114,
           3.3212439592117056,
           3.3699596419302043,
           3.4132054170940394,
           3.450578718999345,
           3.481711606177949,
           3.506280315347816,
           3.5240152862754384,
           3.534711721685512,
           3.5382403805628138,
           3.534557386844014,
           3.523708583953081,
           3.505824991115135,
           3.481112957265631,
           3.4498433530028167,
           3.4123410392448816,
           3.3689748094037895,
           3.3201478717876673,
           3.26628902736379,
           3.207844071760811,
           3.1452688052926243,
           3.079021954450945,
           3.0095593161656287,
           2.937328742200004,
           2.8627653244399878,
           2.7862885098005656,
           2.7082987660550426,
           2.629175483155623,
           2.5492753571530073
          ],
          [
           1.4037190903922823,
           1.4217664225396962,
           1.438183339459824,
           1.4528848005641952,
           1.4657930632631417,
           1.476838600650387,
           1.4859609784235246,
           1.493109636790554,
           1.4982445426008981,
           1.5013367323971434,
           1.502368702964412,
           1.5013346596220971,
           1.4982405886482633,
           1.4931041789590893,
           1.4859545763300899,
           1.4768319855732972,
           1.4657871303333292,
           1.4528805854713827,
           1.4381819998716678,
           1.42176925732532,
           1.4037274320904933,
           1.3841479646339783,
           1.3631275480436487,
           1.3407671353976254,
           1.3171709713541493,
           1.2924454565254906,
           1.2666984343886394,
           1.240038149774073,
           1.2125724544563279,
           1.1844080417472227
          ],
          [
           0.37138487078017257,
           0.374890653891629,
           0.37807626155817803,
           0.38093127592883946,
           0.3834462956607865,
           0.3856129958350357,
           0.3874241867011906,
           0.38887386420673864,
           0.38995724869027326,
           0.3906708188681275,
           0.3910123347844328,
           0.3909808547621885,
           0.39057673886704447,
           0.3898016465959807,
           0.38865852344659246,
           0.3871515787910627,
           0.3852862549095907,
           0.3830691875698605,
           0.3805081586379773,
           0.3776120462323958,
           0.37439074396557015,
           0.37085512145433625,
           0.36701693335637553,
           0.3628887465392478,
           0.35848386656759423,
           0.35381622524281026,
           0.34890033779270757,
           0.34375118832234997,
           0.33838414990714566,
           0.3328148983265953
          ],
          [
           0.13632911442665663,
           0.13820052132596067,
           0.14000381098547993,
           0.1417351452594814,
           0.1433907823690437,
           0.14496708919183762,
           0.14646055663452878,
           0.14786781491573633,
           0.1491856453634199,
           0.1504109948505404,
           0.151540986263896,
           0.15257293595232807,
           0.153504359381953,
           0.154332985839444,
           0.15505676768627036,
           0.15567388972035665,
           0.15618277762925692,
           0.1565821054742922,
           0.156870802150546,
           0.15704805657805482,
           0.15711332293726155,
           0.15706632207276944,
           0.1569070447607568,
           0.15663575207717234,
           0.15625297563896068,
           0.1557595132743844,
           0.1551564298426265,
           0.15444505086004628,
           0.15362695777307972,
           0.15270398156113119
          ],
          [
           0.29456261907589565,
           0.3023102117067651,
           0.3100113591044717,
           0.31764792409486003,
           0.325201196248628,
           0.33265195037430983,
           0.3399805267699817,
           0.34716692086684775,
           0.3541908645656522,
           0.3610319292007941,
           0.3676696155058763,
           0.37408349260743595,
           0.3802532771954509,
           0.38615897335715965,
           0.391780988424176,
           0.39710025621847916,
           0.40209836107638297,
           0.40675766139379976,
           0.4110614113788897,
           0.4149938736226306,
           0.41854045797225076,
           0.42168779164497355,
           0.4244238462363765,
           0.4267380235864614,
           0.42862123591870566,
           0.43006598933845835,
           0.4310664258711788,
           0.4316183840320763,
           0.4317194299025988,
           0.43136887786965905
          ],
          [
           0.8679869000230492,
           0.899040304861662,
           0.930369947124107,
           0.9619013861502197,
           0.9935537026537803,
           1.0252394671288225,
           1.0568648370896643,
           1.0883297447248816,
           1.1195281071047598,
           1.1503481985413206,
           1.18067304296982,
           1.2103811172490162,
           1.2393468793614488,
           1.2674416779230573,
           1.2945346632225667,
           1.3204938455766788,
           1.3451872707380506,
           1.3684843025941993,
           1.3902569988029694,
           1.41038152907082,
           1.4287398013131056,
           1.4452207862130968,
           1.4597221573148282,
           1.4721517158823136,
           1.48242874772906,
           1.490485331725627,
           1.4962673221904113,
           1.4997353028068798,
           1.500865224908345,
           1.4996488142858124
          ],
          [
           1.3385558475629693,
           1.3923491019183756,
           1.4471717756696196,
           1.5029279404308478,
           1.5595074907033466,
           1.6167851813040053,
           1.6746197906152067,
           1.7328533467047842,
           1.791310293881648,
           1.8497968631913109,
           1.9081003954966191,
           1.9659891923958202,
           2.0232119932519397,
           2.0794981842408693,
           2.1345580633239454,
           2.1880835064153907,
           2.239749059794001,
           2.2892135418982056,
           2.336122250027433,
           2.3801098130587377,
           2.4208042315238067,
           2.4578311943842066,
           2.4908202569977456,
           2.5194119855348034,
           2.5432666749528634,
           2.5620750041847513,
           2.575570279298699,
           2.5835431055486477,
           2.5858572769416597,
           2.5824642198780956
          ],
          [
           1.0387468501741246,
           1.0666306722330905,
           1.094395550295642,
           1.1219715616702473,
           1.1492851270976188,
           1.1762591231033124,
           1.2028130942263866,
           1.2288635255483666,
           1.2543241161795453,
           1.2791061669772543,
           1.3031189616442982,
           1.3262703697145621,
           1.3484672806918134,
           1.3696163076213828,
           1.3896244546897023,
           1.408399861966687,
           1.4258526011309263,
           1.4418955135897575,
           1.4564450802479858,
           1.4694222904406438,
           1.4807536156966974,
           1.4903717639733718,
           1.4982166158063412,
           1.5042360029183275,
           1.5083864362135184,
           1.5106337767499785,
           1.5109537396489692,
           1.509332349968339,
           1.5057662298049583,
           1.5002627536384319
          ],
          [
           1.4719490389500234,
           1.4941585133185935,
           1.514919399959548,
           1.534145800894582,
           1.551757695527652,
           1.567681700717956,
           1.5818518115929847,
           1.5942100696668855,
           1.6047071171369445,
           1.6133026849217913,
           1.6199659506317563,
           1.6246758319550096,
           1.6274210937639184,
           1.6282003960399525,
           1.6270221941922283,
           1.6239045307487863,
           1.6188747184670214,
           1.611968923409325,
           1.6032316585346373,
           1.5927152182923154,
           1.5804789599596794,
           1.5665887074380536,
           1.5511159518364068,
           1.534137110367586,
           1.5157327913758172,
           1.495986910646644,
           1.4749861214347424,
           1.4528189735400727,
           1.4295752498758956,
           1.4053453135569018
          ],
          [
           3.0198884929180867,
           3.0792111928929575,
           3.1345794065407784,
           3.185553665552943,
           3.231703873942671,
           3.272618234492457,
           3.307913708586472,
           3.337247765319819,
           3.3603309268719332,
           3.3769393750197736,
           3.3869260524445797,
           3.3902285422261245,
           3.3868718717113757,
           3.3769657772210975,
           3.3606969845923054,
           3.338318236725128,
           3.310135898564396,
           3.2764975706804758,
           3.237780581596927,
           3.1943818495759904,
           3.1467088084236936,
           3.095172439484853,
           3.0401809028888547,
           2.9821346678484395,
           2.9214226949984567,
           2.858419005094179,
           2.7934809889130086,
           2.726947382957963,
           2.659137270457027,
           2.5903494382602106
          ],
          [
           2.789976148528432,
           2.850014130611094,
           2.9077216701383417,
           2.9628478652579116,
           3.0151489120311172,
           3.0643907292827777,
           3.1103516381469993,
           3.152824920157671,
           3.1916210790438932,
           3.2265699269353822,
           3.2575222402437887,
           3.28435124704102,
           3.306953396583776,
           3.32524897896368,
           3.3391822047255317,
           3.348720929058,
           3.3538560380996834,
           3.3546005531752425,
           3.3509885154797527,
           3.3430737314372374,
           3.3309283491027792,
           3.3146415284707786,
           3.2943179937435976,
           3.2700766748287964,
           3.242049444435733,
           3.2103796868809993,
           3.1752213933504745,
           3.136737871880873,
           3.0951007245500035,
           3.0504888184500665
          ],
          [
           2.039948418261568,
           2.1069055077940857,
           2.1745106213137424,
           2.242634379590836,
           2.3111332851394972,
           2.3798487677022555,
           2.448606363750079,
           2.517214945495948,
           2.585465852996309,
           2.6531322396352914,
           2.7199683337199523,
           2.7857092774992633,
           2.8500705054194424,
           2.9127479307505175,
           2.9734181626411833,
           3.0317391495983252,
           3.087351277215673,
           3.1398790149744014,
           3.1889332212188397,
           3.2341141619821046,
           3.2750158115348134,
           3.311230519648727,
           3.342355692909146,
           3.3680015909323826,
           3.3878009026609766,
           3.4014204729910857,
           3.408575033591901,
           3.409043927731553,
           3.402690673062549,
           3.3894846617008585
          ],
          [
           1.0488572116781734,
           1.082691281963428,
           1.1166946132833797,
           1.1507851203178623,
           1.1848744036147094,
           1.218867769479709,
           1.2526643859768356,
           1.2861575312687599,
           1.319234860764829,
           1.3517788405930793,
           1.3836671946145922,
           1.4147736697699826,
           1.4449686060355402,
           1.4741198946405516,
           1.5020939228327355,
           1.528756656958481,
           1.553974830565074,
           1.5776172263405517,
           1.5995560365507944,
           1.619668251432504,
           1.637837240392604,
           1.6539540186841404,
           1.6679188182786473,
           1.6796424346020322,
           1.6890475019277162,
           1.6960697121846489,
           1.7006587255965628,
           1.702779047012771,
           1.7024106051763697,
           1.6995491143527286
          ]
         ],
         "type": "surface"
        },
        {
         "name": "UCB",
         "x": [
          1.5
         ],
         "y": [
          8.85
         ],
         "z": [
          3.7669
         ],
         "type": "scatter3d"
        },
        {
         "name": "UCB2",
         "x": [
          1.17
         ],
         "y": [
          8.85
         ],
         "z": [
          3.49
         ],
         "type": "scatter3d"
        },
        {
         "name": "NLCB",
         "x": [
          2.8
         ],
         "y": [
          9.05
         ],
         "z": [
          4.07
         ],
         "type": "scatter3d"
        }
       ],
       "layout": {
        "template": {
         "data": {
          "barpolar": [
           {
            "marker": {
             "line": {
              "color": "rgb(237,237,237)",
              "width": 0.5
             },
             "pattern": {
              "fillmode": "overlay",
              "size": 10,
              "solidity": 0.2
             }
            },
            "type": "barpolar"
           }
          ],
          "bar": [
           {
            "error_x": {
             "color": "rgb(51,51,51)"
            },
            "error_y": {
             "color": "rgb(51,51,51)"
            },
            "marker": {
             "line": {
              "color": "rgb(237,237,237)",
              "width": 0.5
             },
             "pattern": {
              "fillmode": "overlay",
              "size": 10,
              "solidity": 0.2
             }
            },
            "type": "bar"
           }
          ],
          "carpet": [
           {
            "aaxis": {
             "endlinecolor": "rgb(51,51,51)",
             "gridcolor": "white",
             "linecolor": "white",
             "minorgridcolor": "white",
             "startlinecolor": "rgb(51,51,51)"
            },
            "baxis": {
             "endlinecolor": "rgb(51,51,51)",
             "gridcolor": "white",
             "linecolor": "white",
             "minorgridcolor": "white",
             "startlinecolor": "rgb(51,51,51)"
            },
            "type": "carpet"
           }
          ],
          "choropleth": [
           {
            "colorbar": {
             "outlinewidth": 0,
             "tickcolor": "rgb(237,237,237)",
             "ticklen": 6,
             "ticks": "inside"
            },
            "type": "choropleth"
           }
          ],
          "contourcarpet": [
           {
            "colorbar": {
             "outlinewidth": 0,
             "tickcolor": "rgb(237,237,237)",
             "ticklen": 6,
             "ticks": "inside"
            },
            "type": "contourcarpet"
           }
          ],
          "contour": [
           {
            "colorbar": {
             "outlinewidth": 0,
             "tickcolor": "rgb(237,237,237)",
             "ticklen": 6,
             "ticks": "inside"
            },
            "colorscale": [
             [
              0,
              "rgb(20,44,66)"
             ],
             [
              1,
              "rgb(90,179,244)"
             ]
            ],
            "type": "contour"
           }
          ],
          "heatmapgl": [
           {
            "colorbar": {
             "outlinewidth": 0,
             "tickcolor": "rgb(237,237,237)",
             "ticklen": 6,
             "ticks": "inside"
            },
            "colorscale": [
             [
              0,
              "rgb(20,44,66)"
             ],
             [
              1,
              "rgb(90,179,244)"
             ]
            ],
            "type": "heatmapgl"
           }
          ],
          "heatmap": [
           {
            "colorbar": {
             "outlinewidth": 0,
             "tickcolor": "rgb(237,237,237)",
             "ticklen": 6,
             "ticks": "inside"
            },
            "colorscale": [
             [
              0,
              "rgb(20,44,66)"
             ],
             [
              1,
              "rgb(90,179,244)"
             ]
            ],
            "type": "heatmap"
           }
          ],
          "histogram2dcontour": [
           {
            "colorbar": {
             "outlinewidth": 0,
             "tickcolor": "rgb(237,237,237)",
             "ticklen": 6,
             "ticks": "inside"
            },
            "colorscale": [
             [
              0,
              "rgb(20,44,66)"
             ],
             [
              1,
              "rgb(90,179,244)"
             ]
            ],
            "type": "histogram2dcontour"
           }
          ],
          "histogram2d": [
           {
            "colorbar": {
             "outlinewidth": 0,
             "tickcolor": "rgb(237,237,237)",
             "ticklen": 6,
             "ticks": "inside"
            },
            "colorscale": [
             [
              0,
              "rgb(20,44,66)"
             ],
             [
              1,
              "rgb(90,179,244)"
             ]
            ],
            "type": "histogram2d"
           }
          ],
          "histogram": [
           {
            "marker": {
             "pattern": {
              "fillmode": "overlay",
              "size": 10,
              "solidity": 0.2
             }
            },
            "type": "histogram"
           }
          ],
          "mesh3d": [
           {
            "colorbar": {
             "outlinewidth": 0,
             "tickcolor": "rgb(237,237,237)",
             "ticklen": 6,
             "ticks": "inside"
            },
            "type": "mesh3d"
           }
          ],
          "parcoords": [
           {
            "line": {
             "colorbar": {
              "outlinewidth": 0,
              "tickcolor": "rgb(237,237,237)",
              "ticklen": 6,
              "ticks": "inside"
             }
            },
            "type": "parcoords"
           }
          ],
          "pie": [
           {
            "automargin": true,
            "type": "pie"
           }
          ],
          "scatter3d": [
           {
            "line": {
             "colorbar": {
              "outlinewidth": 0,
              "tickcolor": "rgb(237,237,237)",
              "ticklen": 6,
              "ticks": "inside"
             }
            },
            "marker": {
             "colorbar": {
              "outlinewidth": 0,
              "tickcolor": "rgb(237,237,237)",
              "ticklen": 6,
              "ticks": "inside"
             }
            },
            "type": "scatter3d"
           }
          ],
          "scattercarpet": [
           {
            "marker": {
             "colorbar": {
              "outlinewidth": 0,
              "tickcolor": "rgb(237,237,237)",
              "ticklen": 6,
              "ticks": "inside"
             }
            },
            "type": "scattercarpet"
           }
          ],
          "scattergeo": [
           {
            "marker": {
             "colorbar": {
              "outlinewidth": 0,
              "tickcolor": "rgb(237,237,237)",
              "ticklen": 6,
              "ticks": "inside"
             }
            },
            "type": "scattergeo"
           }
          ],
          "scattergl": [
           {
            "marker": {
             "colorbar": {
              "outlinewidth": 0,
              "tickcolor": "rgb(237,237,237)",
              "ticklen": 6,
              "ticks": "inside"
             }
            },
            "type": "scattergl"
           }
          ],
          "scattermapbox": [
           {
            "marker": {
             "colorbar": {
              "outlinewidth": 0,
              "tickcolor": "rgb(237,237,237)",
              "ticklen": 6,
              "ticks": "inside"
             }
            },
            "type": "scattermapbox"
           }
          ],
          "scatterpolargl": [
           {
            "marker": {
             "colorbar": {
              "outlinewidth": 0,
              "tickcolor": "rgb(237,237,237)",
              "ticklen": 6,
              "ticks": "inside"
             }
            },
            "type": "scatterpolargl"
           }
          ],
          "scatterpolar": [
           {
            "marker": {
             "colorbar": {
              "outlinewidth": 0,
              "tickcolor": "rgb(237,237,237)",
              "ticklen": 6,
              "ticks": "inside"
             }
            },
            "type": "scatterpolar"
           }
          ],
          "scatter": [
           {
            "fillpattern": {
             "fillmode": "overlay",
             "size": 10,
             "solidity": 0.2
            },
            "type": "scatter"
           }
          ],
          "scatterternary": [
           {
            "marker": {
             "colorbar": {
              "outlinewidth": 0,
              "tickcolor": "rgb(237,237,237)",
              "ticklen": 6,
              "ticks": "inside"
             }
            },
            "type": "scatterternary"
           }
          ],
          "surface": [
           {
            "colorbar": {
             "outlinewidth": 0,
             "tickcolor": "rgb(237,237,237)",
             "ticklen": 6,
             "ticks": "inside"
            },
            "colorscale": [
             [
              0,
              "rgb(20,44,66)"
             ],
             [
              1,
              "rgb(90,179,244)"
             ]
            ],
            "type": "surface"
           }
          ],
          "table": [
           {
            "cells": {
             "fill": {
              "color": "rgb(237,237,237)"
             },
             "line": {
              "color": "white"
             }
            },
            "header": {
             "fill": {
              "color": "rgb(217,217,217)"
             },
             "line": {
              "color": "white"
             }
            },
            "type": "table"
           }
          ]
         },
         "layout": {
          "annotationdefaults": {
           "arrowhead": 0,
           "arrowwidth": 1
          },
          "autotypenumbers": "strict",
          "coloraxis": {
           "colorbar": {
            "outlinewidth": 0,
            "tickcolor": "rgb(237,237,237)",
            "ticklen": 6,
            "ticks": "inside"
           }
          },
          "colorscale": {
           "sequential": [
            [
             0,
             "rgb(20,44,66)"
            ],
            [
             1,
             "rgb(90,179,244)"
            ]
           ],
           "sequentialminus": [
            [
             0,
             "rgb(20,44,66)"
            ],
            [
             1,
             "rgb(90,179,244)"
            ]
           ]
          },
          "colorway": [
           "#F8766D",
           "#A3A500",
           "#00BF7D",
           "#00B0F6",
           "#E76BF3"
          ],
          "font": {
           "color": "rgb(51,51,51)"
          },
          "geo": {
           "bgcolor": "white",
           "lakecolor": "white",
           "landcolor": "rgb(237,237,237)",
           "showlakes": true,
           "showland": true,
           "subunitcolor": "white"
          },
          "hoverlabel": {
           "align": "left"
          },
          "hovermode": "closest",
          "paper_bgcolor": "white",
          "plot_bgcolor": "rgb(237,237,237)",
          "polar": {
           "angularaxis": {
            "gridcolor": "white",
            "linecolor": "white",
            "showgrid": true,
            "tickcolor": "rgb(51,51,51)",
            "ticks": "outside"
           },
           "bgcolor": "rgb(237,237,237)",
           "radialaxis": {
            "gridcolor": "white",
            "linecolor": "white",
            "showgrid": true,
            "tickcolor": "rgb(51,51,51)",
            "ticks": "outside"
           }
          },
          "scene": {
           "xaxis": {
            "backgroundcolor": "rgb(237,237,237)",
            "gridcolor": "white",
            "gridwidth": 2,
            "linecolor": "white",
            "showbackground": true,
            "showgrid": true,
            "tickcolor": "rgb(51,51,51)",
            "ticks": "outside",
            "zerolinecolor": "white"
           },
           "yaxis": {
            "backgroundcolor": "rgb(237,237,237)",
            "gridcolor": "white",
            "gridwidth": 2,
            "linecolor": "white",
            "showbackground": true,
            "showgrid": true,
            "tickcolor": "rgb(51,51,51)",
            "ticks": "outside",
            "zerolinecolor": "white"
           },
           "zaxis": {
            "backgroundcolor": "rgb(237,237,237)",
            "gridcolor": "white",
            "gridwidth": 2,
            "linecolor": "white",
            "showbackground": true,
            "showgrid": true,
            "tickcolor": "rgb(51,51,51)",
            "ticks": "outside",
            "zerolinecolor": "white"
           }
          },
          "shapedefaults": {
           "fillcolor": "black",
           "line": {
            "width": 0
           },
           "opacity": 0.3
          },
          "ternary": {
           "aaxis": {
            "gridcolor": "white",
            "linecolor": "white",
            "showgrid": true,
            "tickcolor": "rgb(51,51,51)",
            "ticks": "outside"
           },
           "baxis": {
            "gridcolor": "white",
            "linecolor": "white",
            "showgrid": true,
            "tickcolor": "rgb(51,51,51)",
            "ticks": "outside"
           },
           "bgcolor": "rgb(237,237,237)",
           "caxis": {
            "gridcolor": "white",
            "linecolor": "white",
            "showgrid": true,
            "tickcolor": "rgb(51,51,51)",
            "ticks": "outside"
           }
          },
          "xaxis": {
           "automargin": true,
           "gridcolor": "white",
           "linecolor": "white",
           "showgrid": true,
           "tickcolor": "rgb(51,51,51)",
           "ticks": "outside",
           "title": {
            "standoff": 15
           },
           "zerolinecolor": "white"
          },
          "yaxis": {
           "automargin": true,
           "gridcolor": "white",
           "linecolor": "white",
           "showgrid": true,
           "tickcolor": "rgb(51,51,51)",
           "ticks": "outside",
           "title": {
            "standoff": 15
           },
           "zerolinecolor": "white"
          }
         }
        },
        "legend": {
         "orientation": "h",
         "yanchor": "top",
         "y": 1.02,
         "xanchor": "left",
         "x": 1
        },
        "margin": {
         "r": 20,
         "l": 10,
         "b": 10,
         "t": 10
        },
        "width": 1000,
        "height": 800,
        "scene": {
         "xaxis": {
          "title": {
           "text": "Pulse width (μs)"
          }
         },
         "yaxis": {
          "title": {
           "text": "Energy density new cone (J/cm^2)"
          }
         },
         "zaxis": {
          "title": {
           "text": "Figure of Merit"
          }
         },
         "camera": {
          "up": {
           "x": 0,
           "y": 0,
           "z": 1
          },
          "center": {
           "x": 0,
           "y": 0,
           "z": 0
          },
          "eye": {
           "x": 2.75,
           "y": 1.75,
           "z": 1
          }
         }
        }
       },
       "config": {
        "plotlyServerURL": "https://plot.ly"
       }
      }
     },
     "metadata": {}
    }
   ],
   "metadata": {}
  },
  {
   "cell_type": "code",
   "execution_count": 96,
   "source": [
    "df_x = df_Xnew\n",
    "df_cols = df.columns\n",
    "n_col = 2 # num of columns per row in the figure\n",
    "fs = 20\n",
    "for n in np.arange(0, 2, n_col):\n",
    "    fig,axes = plt.subplots(1, n_col, figsize=(18, 3.5), sharey = False)\n",
    "    fs = 20\n",
    "    for i in np.arange(n_col):\n",
    "        if n< len(df_cols):\n",
    "            axes[i].hist(df_x.iloc[:,n], bins= 20, range = (min(var_array[n])- 0.05*abs(var_array[n][1]-var_array[n][0]),\n",
    "                                                            max(var_array[n])+0.05*abs(var_array[n][1]-var_array[n][0])), \n",
    "                         edgecolor='black') ####\n",
    "            axes[i].set_xlabel(df_cols[n], fontsize = 18)\n",
    "        else:\n",
    "            axes[i].axis(\"off\")\n",
    "        n = n+1      \n",
    "    axes[0].set_ylabel('counts', fontsize = fs)\n",
    "    for i in range(len(axes)):\n",
    "        axes[i].tick_params(direction='in', length=5, width=1, labelsize = fs*.8, grid_alpha = 0.5)\n",
    "        axes[i].grid(True, linestyle='-.')\n",
    "    plt.show()"
   ],
   "outputs": [
    {
     "output_type": "display_data",
     "data": {
      "image/png": "[encoded data removed]",
      "text/plain": [
       "<Figure size 1800x350 with 2 Axes>"
      ]
     },
     "metadata": {}
    }
   ],
   "metadata": {}
  },
  {
   "cell_type": "code",
   "execution_count": 97,
   "source": [
    "fig, axes = plt.subplots(1, 2, figsize=(16, 4.5), sharey = False)\n",
    "fs = 14\n",
    "exp_cond = np.transpose(range(len(Y)))\n",
    "exp_eff = np.transpose(Y[:,0])\n",
    "\n",
    "# plot experimental points\n",
    "axes[0].scatter(exp_cond, exp_eff, #facecolor = 'none',\n",
    "            edgecolor = 'navy', s = 20, alpha = 0.6, label = 'experiment')\n",
    "\n",
    "# connect max experimental points with black line\n",
    "axes[0].plot(np.transpose(exp_cond), np.maximum.accumulate(np.transpose(exp_eff)), \n",
    "         marker = 'o', ms = 0, c = 'black')\n",
    "\n",
    "# plot training predictions\n",
    "axes[0].scatter(np.arange(len(y_pred)), y_pred,\n",
    "                s = 50, facecolors='none', alpha = 0.6, edgecolor = 'gray', label = 'predicted')\n",
    "\n",
    "# plot error bars\n",
    "axes[0].errorbar(np.arange(len(y_pred)), y_pred, yerr = y_uncer,  \n",
    "                 ms = 0, ls = '', capsize = 2, alpha = 0.6, \n",
    "                 color = 'gray', zorder = 0)\n",
    "\n",
    "# calculate suggested point\n",
    "y_pred_new, y_uncer_new = f_obj(x_normalizer(df_Xnew.values))\n",
    "y_pred_new = -y_pred_new[:,-1]\n",
    "y_uncer_new = np.sqrt(y_uncer_new[:,-1])\n",
    "\n",
    "# plot suggested point\n",
    "axes[0].scatter(np.arange(len(df_Xnew))+len(X), y_pred_new,\n",
    "                s = 50, facecolors='none', alpha = 0.6, edgecolor = 'darkgreen', label = 'suggested')\n",
    "axes[0].errorbar(np.arange(len(df_Xnew))+len(X), y_pred_new, yerr = y_uncer_new,  \n",
    "                 ms = 0, ls = '', capsize = 2, alpha = 0.6, \n",
    "                 color = 'darkgreen', zorder = 0)\n",
    "\n",
    "# set up axes and labels\n",
    "axes[0].set_ylabel('Current Best 2 Qsw/(U+|D|) 1e6cycles', fontsize = fs)\n",
    "axes[0].set_xlabel('Process Condition', fontsize = fs)\n",
    "axes[0].set_ylim(-1, 8)\n",
    "axes[0].set_xlim(-1, 30)\n",
    "axes[0].set_xticks(np.arange(0,35,5))\n",
    "axes[0].legend(fontsize = fs*0.8)\n",
    "\n",
    "axes[1].axis(\"off\")\n",
    "for ax in axes:\n",
    "    ax.tick_params(direction='in', length=5, width=1, labelsize = fs*.8, grid_alpha = 0.5)\n",
    "    ax.grid(True, linestyle='-.')\n",
    "plt.subplots_adjust(wspace = 0.4)\n",
    "\n",
    "plt.show()"
   ],
   "outputs": [
    {
     "output_type": "display_data",
     "data": {
      "image/png": "[encoded data removed]",
      "text/plain": [
       "<Figure size 1600x450 with 2 Axes>"
      ]
     },
     "metadata": {}
    }
   ],
   "metadata": {}
  },
  {
   "cell_type": "code",
   "execution_count": 98,
   "source": [
    "design = RandomDesign(parameter_space)\n",
    "x_sampled = design.get_samples(200)\n",
    "x_columns = df.iloc[:,0:2].columns\n",
    "for i in range(input_dim):\n",
    "    for j in range(input_dim-i-1):\n",
    "        \n",
    "## Generate a 2D grid for Contour plot\n",
    "        ind1 = i\n",
    "        ind2 = j+i+1\n",
    "        n_steps =21\n",
    "        x1x2y_pred, x1x2y_uncer =[[],[]]\n",
    "        for x1 in np.linspace(0, 1, n_steps):\n",
    "            for x2 in np.linspace(0, 1, n_steps):\n",
    "                x_temp = np.copy(x_sampled)\n",
    "                x_temp[:,ind1] = x1\n",
    "                x_temp[:,ind2] = x2\n",
    "                y_pred, y_uncer = f_obj(x_temp)\n",
    "                y_pred = -y_pred\n",
    "                x1_org = x_denormalizer(x_temp)[0,ind1]\n",
    "                x2_org = x_denormalizer(x_temp)[0,ind2]\n",
    "                x1x2y_pred.append([x1_org, x2_org, np.max(y_pred), np.mean(y_pred), np.min(y_pred)])\n",
    "                x1x2y_uncer.append([x1_org, x2_org, np.max(np.sqrt(y_uncer)), np.mean(np.sqrt(y_uncer)), np.min(np.sqrt(y_uncer))])\n",
    "                \n",
    "        x1 = np.array(x1x2y_pred, dtype=object)[:,0].reshape(n_steps, n_steps)\n",
    "        x2 = np.array(x1x2y_pred, dtype=object)[:,1].reshape(n_steps, n_steps)\n",
    "        y_pred_max = np.array(x1x2y_pred, dtype=object)[:,2].reshape(n_steps, n_steps)\n",
    "        y_pred_mean = np.array(x1x2y_pred, dtype=object)[:,3].reshape(n_steps, n_steps)\n",
    "        y_pred_min = np.array(x1x2y_pred, dtype=object)[:,4].reshape(n_steps, n_steps)\n",
    "        \n",
    "        y_uncer_max = np.array(x1x2y_uncer, dtype=object)[:,2].reshape(n_steps, n_steps)\n",
    "        y_uncer_mean = np.array(x1x2y_uncer, dtype=object)[:,3].reshape(n_steps, n_steps)\n",
    "        y_uncer_min = np.array(x1x2y_uncer, dtype=object)[:,4].reshape(n_steps, n_steps)\n",
    "\n",
    "        fs = 14\n",
    "        title_pad = 16\n",
    "        \n",
    "## Contour for Prediction Efficiency Mean\n",
    "        fig,axes = plt.subplots(1, 3, figsize=(17, 4), sharey = False, sharex = False)\n",
    "        colorbar_offset = [6, 2, 1]\n",
    "        for ax, c_offset, y in zip(axes, colorbar_offset,\n",
    "                                   [y_pred_max, y_pred_mean, y_pred_min]):#[y_pred_max, y_pred_mean, y_pred_min]\n",
    "            \n",
    "            c_plt1 = ax.contourf(x1, x2, y, levels = np.arange(26)*0.25+c_offset, cmap='plasma', extend = 'both')\n",
    "            cbar = fig.colorbar(c_plt1, ax= ax)\n",
    "            cbar.ax.tick_params(labelsize=fs*0.8)\n",
    "            ax.scatter(x_denormalizer(X)[:, ind1], \n",
    "                       x_denormalizer(X)[:, ind2], \n",
    "                       s = 40, facecolors='gray', alpha = 0.5, edgecolor = 'white')\n",
    "\n",
    "            ax.scatter(df_Xnew.values[:, ind1], \n",
    "                       df_Xnew.values[:, ind2], \n",
    "                       s = 50, facecolors='none', alpha = 0.9, edgecolor = 'green')\n",
    "            ax.set_xlabel(str(x_columns[ind1]),fontsize =  fs)\n",
    "            ax.set_ylabel(str(x_columns[ind2]),fontsize =  fs)\n",
    "\n",
    "            x1_delta = (np.max(x1)-np.min(x1))*0.05\n",
    "            x2_delta = (np.max(x2)-np.min(x2))*0.05\n",
    "            ax.set_xlim(np.min(x1)-x1_delta, np.max(x1)+x1_delta)\n",
    "            ax.set_ylim(np.min(x2)-x2_delta, np.max(x2)+x2_delta)\n",
    "            ax.tick_params(direction='in', length=5, width=1, labelsize = fs*.8)#, grid_alpha = 0.5\n",
    "\n",
    "        axes[0].set_title('objective fcn max', pad = title_pad,fontsize =  fs)\n",
    "        axes[1].set_title('objective fcn mean', pad = title_pad,fontsize =  fs)\n",
    "        axes[2].set_title('objective fcn min', pad = title_pad,fontsize =  fs)\n",
    "        plt.subplots_adjust(wspace = 0.3)\n",
    "        plt.show()\n"
   ],
   "outputs": [
    {
     "output_type": "display_data",
     "data": {
      "image/png": "[encoded data removed]",
      "text/plain": [
       "<Figure size 1700x400 with 6 Axes>"
      ]
     },
     "metadata": {}
    }
   ],
   "metadata": {}
  },
  {
   "cell_type": "markdown",
   "source": [
    "### Save Predictions and Visualize "
   ],
   "metadata": {}
  },
  {
   "cell_type": "code",
   "execution_count": 99,
   "source": [
    "design = RandomDesign(parameter_space)\n",
    "x_sampled = design.get_samples(200)\n",
    "x_columns = df.iloc[:,0:2].columns\n",
    "for i in range(input_dim):\n",
    "    for j in range(input_dim-i-1):\n",
    "        ind1 = i\n",
    "        ind2 = j+i+1\n",
    "        n_steps =21\n",
    "        x1x2y_pred, x1x2y_var =[[],[]]\n",
    "        for x1 in np.linspace(0, 1, n_steps):\n",
    "            for x2 in np.linspace(0, 1, n_steps):\n",
    "                x_temp = np.copy(x_sampled)\n",
    "                x_temp[:,ind1] = x1\n",
    "                x_temp[:,ind2] = x2\n",
    "                yc_pr = f_acq(x_temp)\n",
    "                x1_org = x_denormalizer(x_temp)[0,ind1]\n",
    "                x2_org = x_denormalizer(x_temp)[0,ind2]\n",
    "                x1x2y_pred.append([x1_org, x2_org, np.max(yc_pr), np.mean(yc_pr), np.min(yc_pr)])\n",
    "                \n",
    "        x1c = np.array(x1x2y_pred, dtype=object)[:,0].reshape(n_steps, n_steps)\n",
    "        x2c = np.array(x1x2y_pred, dtype=object)[:,1].reshape(n_steps, n_steps)\n",
    "        yc_pr_max = np.array(x1x2y_pred, dtype=object)[:,2].reshape(n_steps, n_steps)\n",
    "        yc_pr_mean = np.array(x1x2y_pred, dtype=object)[:,3].reshape(n_steps, n_steps)\n",
    "        yc_pr_min = np.array(x1x2y_pred, dtype=object)[:,4].reshape(n_steps, n_steps)\n",
    "\n",
    "        fs = 14\n",
    "        title_pad = 16\n",
    "        \n",
    "        fig,axes = plt.subplots(1, 3, figsize=(17, 4), sharey = False, sharex = False)\n",
    "        colorbar_offset = [0.2, 0.1, 0.0]\n",
    "        for ax, y, c_offset in zip(axes, [yc_pr_max, yc_pr_mean, yc_pr_min],colorbar_offset):\n",
    "            c_plt1 = ax.contourf(x1c, x2c, y/22, levels = np.arange(11)*0.05+c_offset, cmap='coolwarm', extend = 'both')# \n",
    "            cbar = fig.colorbar(c_plt1, ax= ax)\n",
    "            cbar.ax.tick_params(labelsize=fs*0.8)\n",
    "            ax.scatter(x_denormalizer(X)[:, ind1], \n",
    "                       x_denormalizer(X)[:, ind2], \n",
    "                       s = 40, facecolors='gray', alpha = 0.5, edgecolor = 'white')\n",
    "            ax.scatter(df_Xnew.values[:, ind1], \n",
    "                       df_Xnew.values[:, ind2], \n",
    "                       s = 50, facecolors='none', alpha = 0.9, edgecolor = 'green')\n",
    "            ax.set_xlabel(str(x_columns[ind1]),fontsize = fs)\n",
    "            ax.set_ylabel(str(x_columns[ind2]),fontsize = fs)\n",
    "\n",
    "            x1_delta = (np.max(x1c)-np.min(x1c))*0.05\n",
    "            x2_delta = (np.max(x2c)-np.min(x2c))*0.05\n",
    "            ax.set_xlim(np.min(x1c)-x1_delta, np.max(x1c)+x1_delta)\n",
    "            ax.set_ylim(np.min(x2c)-x2_delta, np.max(x2c)+x2_delta)\n",
    "            ax.tick_params(direction='in', length=5, width=1, labelsize = fs*.8, grid_alpha = 0.5)\n",
    "            if ind1==1:#MAPbI\n",
    "                ax.set_xticks([0, 50, 100, 150, 200, 250])\n",
    "            if ind1==2:#PC voltage\n",
    "                ax.set_xticks([200, 250, 300, 350, 400, 450])\n",
    "            if ind1==3:#PC length\n",
    "                ax.set_xticks([0, 25, 50, 75, 100])\n",
    "            \n",
    "            \n",
    "        axes[0].set_title('acqui fcn max', pad = title_pad,fontsize = fs)\n",
    "        axes[1].set_title('acqui fcn mean', pad = title_pad,fontsize = fs)\n",
    "        axes[2].set_title('acqui fcn min', pad = title_pad,fontsize = fs)\n",
    "        plt.subplots_adjust(wspace = 0.3)\n",
    "        plt.show()"
   ],
   "outputs": [
    {
     "output_type": "display_data",
     "data": {
      "image/png": "[encoded data removed]",
      "text/plain": [
       "<Figure size 1700x400 with 6 Axes>"
      ]
     },
     "metadata": {}
    }
   ],
   "metadata": {}
  },
  {
   "cell_type": "code",
   "execution_count": null,
   "source": [],
   "outputs": [],
   "metadata": {}
  }
 ],
 "metadata": {
  "orig_nbformat": 4,
  "language_info": {
   "name": "python",
   "version": "3.9.16",
   "mimetype": "text/x-python",
   "codemirror_mode": {
    "name": "ipython",
    "version": 3
   },
   "pygments_lexer": "ipython3",
   "nbconvert_exporter": "python",
   "file_extension": ".py"
  },
  "kernelspec": {
   "name": "python3",
   "display_name": "Python 3.9.16 64-bit ('FEGP': conda)"
  },
  "interpreter": {
   "hash": "b00f9bca1c18369f730e284e4d0522d8a3e0f0b629e30dad99ec4bb4df6f08b7"
  }
 },
 "nbformat": 4,
 "nbformat_minor": 2
}