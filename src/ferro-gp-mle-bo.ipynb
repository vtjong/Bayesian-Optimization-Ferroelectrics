{
 "cells": [
  {
   "cell_type": "code",
   "execution_count": 136,
   "source": [
    "import sys\n",
    "from tkinter import Y\n",
    "import numpy as np\n",
    "import pandas as pd\n",
    "import torch\n",
    "import gpytorch\n",
    "import plotly.express as px\n",
    "import matplotlib.pyplot as plt\n",
    "sys.path.append('..')\n",
    "sys.path.insert(0, '../src')"
   ],
   "outputs": [],
   "metadata": {}
  },
  {
   "cell_type": "code",
   "execution_count": 137,
   "source": [
    "# custom imports\n",
    "from model import GPModel\n",
    "from GPy.models import GPRegression\n",
    "from acq_funcs import EI, PI, cust_acq, thompson\n",
    "from plotter import vis_pred, vis_acq"
   ],
   "outputs": [],
   "metadata": {}
  },
  {
   "cell_type": "markdown",
   "source": [
    "### Data Read and Pre-processing"
   ],
   "metadata": {}
  },
  {
   "cell_type": "code",
   "execution_count": 138,
   "source": [
    "# read data and display\n",
    "def read_dat(dir=\"/Users/valenetjong/Bayesian-Optimization-Ferroelectrics/data/\",\n",
    "            src_file = \"Bolometer_readings_PulseForge.xlsx\", sheet= \"Combined\"):\n",
    "    file = dir + src_file\n",
    "    fe_data = pd.read_excel(file, sheet_name=sheet, usecols=['Energy density new cone (J/cm^2)',\n",
    "                            'Time (ms)','2 Qsw/(U+|D|) 1e6cycles'])\n",
    "    fe_data.dropna(subset=['2 Qsw/(U+|D|) 1e6cycles'], inplace=True)\n",
    "    fe_data = fe_data[fe_data['2 Qsw/(U+|D|) 1e6cycles']!= 0]\n",
    "    return fe_data\n",
    "\n",
    "def display_data(fe_data):\n",
    "    \"\"\"\n",
    "    [display_data(fe_data)] creates a cross-section scatter plot of all combinations\n",
    "    of the four input parameters and single output parameter.\n",
    "    \"\"\"\n",
    "    # plot each cross-section\n",
    "    fig = px.scatter_matrix(fe_data, dimensions=['Energy density new cone (J/cm^2)', \n",
    "    \"Time (ms)\", \"2 Qsw/(U+|D|) 1e6cycles\"], color_discrete_sequence=[\"#72356c\"]*23)\n",
    "    fig.update_layout(template=\"ggplot2\")\n",
    "    # fig.update_layout(margin=dict(r=20, l=10, b=10, t=10))\n",
    "    fig.update_layout(width = 800, height=800)\n",
    "    fig.show()"
   ],
   "outputs": [],
   "metadata": {}
  },
  {
   "cell_type": "code",
   "execution_count": 139,
   "source": [
    "fe_data = read_dat()\n",
    "print(fe_data)\n",
    "display_data(fe_data)"
   ],
   "outputs": [
    {
     "output_type": "stream",
     "name": "stdout",
     "text": [
      "    Time (ms)  Energy density new cone (J/cm^2)  2 Qsw/(U+|D|) 1e6cycles\n",
      "4         0.5                              2.73                 0.873026\n",
      "5         0.5                              3.40                 2.677245\n",
      "6         1.0                              3.79                 1.699015\n",
      "7         1.0                              6.44                 3.805053\n",
      "8         1.5                              5.36                 3.334856\n",
      "9         1.5                              8.99                 4.535153\n",
      "11        5.0                              8.80                 1.362510\n",
      "13        5.0                             14.67                 3.841291\n",
      "19        0.5                              5.24                 1.201357\n",
      "22        5.0                             14.89                 3.513652\n",
      "23        2.0                             10.13                 3.470871\n",
      "24        0.5                              4.51                 0.263298\n",
      "25        0.5                              5.37                 2.775340\n",
      "27        0.5                              4.88                 2.591306\n",
      "28        1.0                              6.76                 2.579984\n",
      "29        1.0                              7.77                 3.173819\n",
      "31        2.0                              8.73                 0.131505\n",
      "32        2.0                              9.38                 0.451164\n",
      "33        2.0                             10.48                 2.126640\n",
      "34        2.0                             11.01                 3.468213\n",
      "35        5.0                             14.71                 3.685852\n",
      "36        5.0                             15.44                 3.445656\n",
      "37        5.0                             13.37                 2.651547\n"
     ]
    },
    {
     "output_type": "display_data",
     "data": {
      "application/vnd.plotly.v1+json": {
       "data": [
        {
         "dimensions": [
          {
           "axis": {
            "matches": true
           },
           "label": "Energy density new cone (J/cm^2)",
           "values": [
            2.73,
            3.4,
            3.79,
            6.44,
            5.36,
            8.99,
            8.8,
            14.67,
            5.24,
            14.89,
            10.13,
            4.51,
            5.37,
            4.88,
            6.76,
            7.77,
            8.73,
            9.38,
            10.48,
            11.01,
            14.71,
            15.44,
            13.37
           ]
          },
          {
           "axis": {
            "matches": true
           },
           "label": "Time (ms)",
           "values": [
            0.5,
            0.5,
            1,
            1,
            1.5,
            1.5,
            5,
            5,
            0.5,
            5,
            2,
            0.5,
            0.5,
            0.5,
            1,
            1,
            2,
            2,
            2,
            2,
            5,
            5,
            5
           ]
          },
          {
           "axis": {
            "matches": true
           },
           "label": "2 Qsw/(U+|D|) 1e6cycles",
           "values": [
            0.8730257299654021,
            2.677244640050493,
            1.6990152147413928,
            3.8050528055652655,
            3.3348561928152627,
            4.535152817359003,
            1.3625102372531497,
            3.841290609056986,
            1.2013569985324948,
            3.5136521918176413,
            3.4708714822041062,
            0.2632982379553876,
            2.7753404356378253,
            2.5913062464887977,
            2.579984359259049,
            3.1738185691110727,
            0.1315049942519029,
            0.4511637114621348,
            2.126639748505365,
            3.468212840642842,
            3.685852431471957,
            3.445655582638384,
            2.651546836022379
           ]
          }
         ],
         "hovertemplate": "%{xaxis.title.text}=%{x}<br>%{yaxis.title.text}=%{y}<extra></extra>",
         "legendgroup": "",
         "marker": {
          "color": "#72356c",
          "symbol": "circle"
         },
         "name": "",
         "showlegend": false,
         "type": "splom"
        }
       ],
       "layout": {
        "template": {
         "data": {
          "barpolar": [
           {
            "marker": {
             "line": {
              "color": "rgb(237,237,237)",
              "width": 0.5
             },
             "pattern": {
              "fillmode": "overlay",
              "size": 10,
              "solidity": 0.2
             }
            },
            "type": "barpolar"
           }
          ],
          "bar": [
           {
            "error_x": {
             "color": "rgb(51,51,51)"
            },
            "error_y": {
             "color": "rgb(51,51,51)"
            },
            "marker": {
             "line": {
              "color": "rgb(237,237,237)",
              "width": 0.5
             },
             "pattern": {
              "fillmode": "overlay",
              "size": 10,
              "solidity": 0.2
             }
            },
            "type": "bar"
           }
          ],
          "carpet": [
           {
            "aaxis": {
             "endlinecolor": "rgb(51,51,51)",
             "gridcolor": "white",
             "linecolor": "white",
             "minorgridcolor": "white",
             "startlinecolor": "rgb(51,51,51)"
            },
            "baxis": {
             "endlinecolor": "rgb(51,51,51)",
             "gridcolor": "white",
             "linecolor": "white",
             "minorgridcolor": "white",
             "startlinecolor": "rgb(51,51,51)"
            },
            "type": "carpet"
           }
          ],
          "choropleth": [
           {
            "colorbar": {
             "outlinewidth": 0,
             "tickcolor": "rgb(237,237,237)",
             "ticklen": 6,
             "ticks": "inside"
            },
            "type": "choropleth"
           }
          ],
          "contourcarpet": [
           {
            "colorbar": {
             "outlinewidth": 0,
             "tickcolor": "rgb(237,237,237)",
             "ticklen": 6,
             "ticks": "inside"
            },
            "type": "contourcarpet"
           }
          ],
          "contour": [
           {
            "colorbar": {
             "outlinewidth": 0,
             "tickcolor": "rgb(237,237,237)",
             "ticklen": 6,
             "ticks": "inside"
            },
            "colorscale": [
             [
              0,
              "rgb(20,44,66)"
             ],
             [
              1,
              "rgb(90,179,244)"
             ]
            ],
            "type": "contour"
           }
          ],
          "heatmapgl": [
           {
            "colorbar": {
             "outlinewidth": 0,
             "tickcolor": "rgb(237,237,237)",
             "ticklen": 6,
             "ticks": "inside"
            },
            "colorscale": [
             [
              0,
              "rgb(20,44,66)"
             ],
             [
              1,
              "rgb(90,179,244)"
             ]
            ],
            "type": "heatmapgl"
           }
          ],
          "heatmap": [
           {
            "colorbar": {
             "outlinewidth": 0,
             "tickcolor": "rgb(237,237,237)",
             "ticklen": 6,
             "ticks": "inside"
            },
            "colorscale": [
             [
              0,
              "rgb(20,44,66)"
             ],
             [
              1,
              "rgb(90,179,244)"
             ]
            ],
            "type": "heatmap"
           }
          ],
          "histogram2dcontour": [
           {
            "colorbar": {
             "outlinewidth": 0,
             "tickcolor": "rgb(237,237,237)",
             "ticklen": 6,
             "ticks": "inside"
            },
            "colorscale": [
             [
              0,
              "rgb(20,44,66)"
             ],
             [
              1,
              "rgb(90,179,244)"
             ]
            ],
            "type": "histogram2dcontour"
           }
          ],
          "histogram2d": [
           {
            "colorbar": {
             "outlinewidth": 0,
             "tickcolor": "rgb(237,237,237)",
             "ticklen": 6,
             "ticks": "inside"
            },
            "colorscale": [
             [
              0,
              "rgb(20,44,66)"
             ],
             [
              1,
              "rgb(90,179,244)"
             ]
            ],
            "type": "histogram2d"
           }
          ],
          "histogram": [
           {
            "marker": {
             "pattern": {
              "fillmode": "overlay",
              "size": 10,
              "solidity": 0.2
             }
            },
            "type": "histogram"
           }
          ],
          "mesh3d": [
           {
            "colorbar": {
             "outlinewidth": 0,
             "tickcolor": "rgb(237,237,237)",
             "ticklen": 6,
             "ticks": "inside"
            },
            "type": "mesh3d"
           }
          ],
          "parcoords": [
           {
            "line": {
             "colorbar": {
              "outlinewidth": 0,
              "tickcolor": "rgb(237,237,237)",
              "ticklen": 6,
              "ticks": "inside"
             }
            },
            "type": "parcoords"
           }
          ],
          "pie": [
           {
            "automargin": true,
            "type": "pie"
           }
          ],
          "scatter3d": [
           {
            "line": {
             "colorbar": {
              "outlinewidth": 0,
              "tickcolor": "rgb(237,237,237)",
              "ticklen": 6,
              "ticks": "inside"
             }
            },
            "marker": {
             "colorbar": {
              "outlinewidth": 0,
              "tickcolor": "rgb(237,237,237)",
              "ticklen": 6,
              "ticks": "inside"
             }
            },
            "type": "scatter3d"
           }
          ],
          "scattercarpet": [
           {
            "marker": {
             "colorbar": {
              "outlinewidth": 0,
              "tickcolor": "rgb(237,237,237)",
              "ticklen": 6,
              "ticks": "inside"
             }
            },
            "type": "scattercarpet"
           }
          ],
          "scattergeo": [
           {
            "marker": {
             "colorbar": {
              "outlinewidth": 0,
              "tickcolor": "rgb(237,237,237)",
              "ticklen": 6,
              "ticks": "inside"
             }
            },
            "type": "scattergeo"
           }
          ],
          "scattergl": [
           {
            "marker": {
             "colorbar": {
              "outlinewidth": 0,
              "tickcolor": "rgb(237,237,237)",
              "ticklen": 6,
              "ticks": "inside"
             }
            },
            "type": "scattergl"
           }
          ],
          "scattermapbox": [
           {
            "marker": {
             "colorbar": {
              "outlinewidth": 0,
              "tickcolor": "rgb(237,237,237)",
              "ticklen": 6,
              "ticks": "inside"
             }
            },
            "type": "scattermapbox"
           }
          ],
          "scatterpolargl": [
           {
            "marker": {
             "colorbar": {
              "outlinewidth": 0,
              "tickcolor": "rgb(237,237,237)",
              "ticklen": 6,
              "ticks": "inside"
             }
            },
            "type": "scatterpolargl"
           }
          ],
          "scatterpolar": [
           {
            "marker": {
             "colorbar": {
              "outlinewidth": 0,
              "tickcolor": "rgb(237,237,237)",
              "ticklen": 6,
              "ticks": "inside"
             }
            },
            "type": "scatterpolar"
           }
          ],
          "scatter": [
           {
            "fillpattern": {
             "fillmode": "overlay",
             "size": 10,
             "solidity": 0.2
            },
            "type": "scatter"
           }
          ],
          "scatterternary": [
           {
            "marker": {
             "colorbar": {
              "outlinewidth": 0,
              "tickcolor": "rgb(237,237,237)",
              "ticklen": 6,
              "ticks": "inside"
             }
            },
            "type": "scatterternary"
           }
          ],
          "surface": [
           {
            "colorbar": {
             "outlinewidth": 0,
             "tickcolor": "rgb(237,237,237)",
             "ticklen": 6,
             "ticks": "inside"
            },
            "colorscale": [
             [
              0,
              "rgb(20,44,66)"
             ],
             [
              1,
              "rgb(90,179,244)"
             ]
            ],
            "type": "surface"
           }
          ],
          "table": [
           {
            "cells": {
             "fill": {
              "color": "rgb(237,237,237)"
             },
             "line": {
              "color": "white"
             }
            },
            "header": {
             "fill": {
              "color": "rgb(217,217,217)"
             },
             "line": {
              "color": "white"
             }
            },
            "type": "table"
           }
          ]
         },
         "layout": {
          "annotationdefaults": {
           "arrowhead": 0,
           "arrowwidth": 1
          },
          "autotypenumbers": "strict",
          "coloraxis": {
           "colorbar": {
            "outlinewidth": 0,
            "tickcolor": "rgb(237,237,237)",
            "ticklen": 6,
            "ticks": "inside"
           }
          },
          "colorscale": {
           "sequential": [
            [
             0,
             "rgb(20,44,66)"
            ],
            [
             1,
             "rgb(90,179,244)"
            ]
           ],
           "sequentialminus": [
            [
             0,
             "rgb(20,44,66)"
            ],
            [
             1,
             "rgb(90,179,244)"
            ]
           ]
          },
          "colorway": [
           "#F8766D",
           "#A3A500",
           "#00BF7D",
           "#00B0F6",
           "#E76BF3"
          ],
          "font": {
           "color": "rgb(51,51,51)"
          },
          "geo": {
           "bgcolor": "white",
           "lakecolor": "white",
           "landcolor": "rgb(237,237,237)",
           "showlakes": true,
           "showland": true,
           "subunitcolor": "white"
          },
          "hoverlabel": {
           "align": "left"
          },
          "hovermode": "closest",
          "paper_bgcolor": "white",
          "plot_bgcolor": "rgb(237,237,237)",
          "polar": {
           "angularaxis": {
            "gridcolor": "white",
            "linecolor": "white",
            "showgrid": true,
            "tickcolor": "rgb(51,51,51)",
            "ticks": "outside"
           },
           "bgcolor": "rgb(237,237,237)",
           "radialaxis": {
            "gridcolor": "white",
            "linecolor": "white",
            "showgrid": true,
            "tickcolor": "rgb(51,51,51)",
            "ticks": "outside"
           }
          },
          "scene": {
           "xaxis": {
            "backgroundcolor": "rgb(237,237,237)",
            "gridcolor": "white",
            "gridwidth": 2,
            "linecolor": "white",
            "showbackground": true,
            "showgrid": true,
            "tickcolor": "rgb(51,51,51)",
            "ticks": "outside",
            "zerolinecolor": "white"
           },
           "yaxis": {
            "backgroundcolor": "rgb(237,237,237)",
            "gridcolor": "white",
            "gridwidth": 2,
            "linecolor": "white",
            "showbackground": true,
            "showgrid": true,
            "tickcolor": "rgb(51,51,51)",
            "ticks": "outside",
            "zerolinecolor": "white"
           },
           "zaxis": {
            "backgroundcolor": "rgb(237,237,237)",
            "gridcolor": "white",
            "gridwidth": 2,
            "linecolor": "white",
            "showbackground": true,
            "showgrid": true,
            "tickcolor": "rgb(51,51,51)",
            "ticks": "outside",
            "zerolinecolor": "white"
           }
          },
          "shapedefaults": {
           "fillcolor": "black",
           "line": {
            "width": 0
           },
           "opacity": 0.3
          },
          "ternary": {
           "aaxis": {
            "gridcolor": "white",
            "linecolor": "white",
            "showgrid": true,
            "tickcolor": "rgb(51,51,51)",
            "ticks": "outside"
           },
           "baxis": {
            "gridcolor": "white",
            "linecolor": "white",
            "showgrid": true,
            "tickcolor": "rgb(51,51,51)",
            "ticks": "outside"
           },
           "bgcolor": "rgb(237,237,237)",
           "caxis": {
            "gridcolor": "white",
            "linecolor": "white",
            "showgrid": true,
            "tickcolor": "rgb(51,51,51)",
            "ticks": "outside"
           }
          },
          "xaxis": {
           "automargin": true,
           "gridcolor": "white",
           "linecolor": "white",
           "showgrid": true,
           "tickcolor": "rgb(51,51,51)",
           "ticks": "outside",
           "title": {
            "standoff": 15
           },
           "zerolinecolor": "white"
          },
          "yaxis": {
           "automargin": true,
           "gridcolor": "white",
           "linecolor": "white",
           "showgrid": true,
           "tickcolor": "rgb(51,51,51)",
           "ticks": "outside",
           "title": {
            "standoff": 15
           },
           "zerolinecolor": "white"
          }
         }
        },
        "legend": {
         "tracegroupgap": 0
        },
        "margin": {
         "t": 60
        },
        "dragmode": "select",
        "width": 800,
        "height": 800
       },
       "config": {
        "plotlyServerURL": "https://plot.ly"
       }
      }
     },
     "metadata": {}
    }
   ],
   "metadata": {}
  },
  {
   "cell_type": "code",
   "execution_count": 140,
   "source": [
    "# define scaler and inverse scaling\n",
    "from sklearn.preprocessing import MinMaxScaler, StandardScaler\n",
    "scaler =  MinMaxScaler()\n",
    "\n",
    "def un_norm_x(train_x, test_grid, scaler):\n",
    "    return scaler.inverse_transform(train_x), scaler.inverse_transform(test_grid)    "
   ],
   "outputs": [],
   "metadata": {}
  },
  {
   "cell_type": "code",
   "execution_count": 141,
   "source": [
    "from torch.utils.data import DataLoader, random_split\n",
    "\n",
    "def datasetmaker(fe_data, train_ratio=1.0):\n",
    "    \"\"\"\n",
    "    [datasetmaker(fe_data)] filters and transforms the data in pandas df [fe_data] \n",
    "    into two tensors, [train_x] for input and [train_y] for output tensors. \n",
    "    \"\"\"\n",
    "    # filter training data \n",
    "    energy_den = fe_data['Energy density new cone (J/cm^2)'].values\n",
    "    time = fe_data['Time (ms)'].values\n",
    "    x_dat = torch.Tensor(np.array([time, energy_den])).T\n",
    "    y_dat = torch.Tensor(fe_data['2 Qsw/(U+|D|) 1e6cycles'].values)\n",
    "\n",
    "    # scale inputs\n",
    "    scaler.fit(x_dat)\n",
    "    x_dat = torch.Tensor(scaler.transform(x_dat))\n",
    "\n",
    "    # split train and test set\n",
    "    train_size = int(train_ratio * len(x_dat))  # train_ratio% for training\n",
    "    train_x, test_x = x_dat[:train_size], x_dat[train_size:]\n",
    "    train_y, test_y = y_dat[:train_size], y_dat[train_size:]\n",
    "    return x_dat, train_x, test_x, train_y, test_y"
   ],
   "outputs": [],
   "metadata": {}
  },
  {
   "cell_type": "code",
   "execution_count": 142,
   "source": [
    "# make training data, maintain params to de-normalize\n",
    "# x_sd_mean, y_sd_mean, train_x, train_y = datasetmaker(fe_data)\n",
    "x_dat, train_x, test_x, train_y, test_y = datasetmaker(fe_data)\n"
   ],
   "outputs": [],
   "metadata": {}
  },
  {
   "cell_type": "markdown",
   "source": [
    "### Grid/Parameter Space"
   ],
   "metadata": {}
  },
  {
   "cell_type": "code",
   "execution_count": 143,
   "source": [
    "# create grid for grid search\n",
    "def grid_helper(grid_size, num_params, grid_bounds):\n",
    "    \"\"\"\n",
    "    [grid_helper(grid_size, num_params, grid_bounds)] returns a grid of dimensions\n",
    "    [grid_size] by [num_params], which dictates the parameter space for GP to be \n",
    "    conducted over. \n",
    "    \"\"\"\n",
    "    grid = torch.zeros(grid_size, num_params)\n",
    "    f_grid_diff = lambda i, x, y : float((x[i][1] - x[i][0]) / (y-2))\n",
    "    for i in range(num_params):\n",
    "        grid_diff = f_grid_diff(i, grid_bounds, grid_size)\n",
    "        grid[:, i] = torch.linspace(grid_bounds[i][0] - grid_diff, \n",
    "                                    grid_bounds[i][1] + grid_diff, grid_size)\n",
    "    return grid\n",
    "\n",
    "def grid_maker(x_dat, num_points=30):\n",
    "    \"\"\"\n",
    "    [grid_maker(x_dat, num_points=30)] creates grids to be used for gaussian \n",
    "    process predictions. It outputs the dimension of the grid [num_params], \n",
    "    paramater space grid [test_grid], and [test_arr].\n",
    "    \"\"\"\n",
    "    # define grid between bounds of RTA time, RTA temp\n",
    "    num_params = x_dat.size(dim=1)\n",
    "    grid_bounds = [(x_dat[:,i].min(), x_dat[:,i].max()) for i in range(num_params)]\n",
    "\n",
    "    # set up test_grid for predictions\n",
    "    test_grid = grid_helper(num_points, num_params, grid_bounds)\n",
    "\n",
    "    # create n-D grid with n = num_params\n",
    "    args = (test_grid[:, i] for i in range(num_params))\n",
    "    test_arr = torch.cartesian_prod(*args)\n",
    "    return grid_bounds, num_params, test_grid, test_arr\n"
   ],
   "outputs": [],
   "metadata": {}
  },
  {
   "cell_type": "code",
   "execution_count": 144,
   "source": [
    "# create grid based on parameter space for search\n",
    "grid_bounds, num_params, test_grid, test_arr = grid_maker(x_dat)"
   ],
   "outputs": [],
   "metadata": {}
  },
  {
   "cell_type": "markdown",
   "source": [
    "### Noise Calculations"
   ],
   "metadata": {}
  },
  {
   "cell_type": "markdown",
   "source": [
    "Our figure of merit, fom, is $2 Q_{sw}/(U+|D|),$ so error propagation would result in a error of $\\sigma_{fom} = |fom|\\sqrt{{(\\sigma_{Q_{sw}}/Q_{sw}})^2+{(\\sigma_U^2 + \\sigma_{|D|}^2)/(U+|D|)^2)}}$. We have data for $2Pr$ measurements wrt device area. Using the $10\\mu$ m $\\times 10\\mu$ m data, we approximate the error for the figure of merit as simply $\\sigma_{2Pr}$, as we do not have $\\sigma_U$ or $\\sigma_D.$ \n"
   ],
   "metadata": {}
  },
  {
   "cell_type": "code",
   "execution_count": 145,
   "source": [
    "fn = \"/Users/valenetjong/Bayesian-Optimization-Ferroelectrics/data/P vs area.xlsx\"\n",
    "excel_file = pd.read_excel(fn, sheet_name='Sheet1')\n",
    "col_2Pr_10by10 = excel_file['10umx10um']\n",
    "sd = col_2Pr_10by10.std()/col_2Pr_10by10.mean()\n",
    "print(sd)\n",
    "print(col_2Pr_10by10)"
   ],
   "outputs": [
    {
     "output_type": "stream",
     "name": "stdout",
     "text": [
      "0.04469365441252401\n",
      "0     34.57379\n",
      "1     35.96416\n",
      "2     33.16083\n",
      "3     35.96861\n",
      "4     37.10497\n",
      "5     35.86549\n",
      "6     35.81341\n",
      "7     33.01597\n",
      "8     35.71753\n",
      "9     38.37434\n",
      "10    34.11144\n",
      "11    33.57596\n",
      "12    35.15750\n",
      "13    35.01515\n",
      "14    36.01072\n",
      "15    37.04952\n",
      "16    36.48895\n",
      "17    35.63807\n",
      "18    37.36247\n",
      "19    39.05057\n",
      "Name: 10umx10um, dtype: float64\n"
     ]
    }
   ],
   "metadata": {}
  },
  {
   "cell_type": "markdown",
   "source": [
    "### Initialize Model"
   ],
   "metadata": {}
  },
  {
   "cell_type": "code",
   "execution_count": 253,
   "source": [
    "# configuration parameters for training\n",
    "class Config():\n",
    "    def __init__(self):\n",
    "        self.epochs = 5000\n",
    "        self.kernel = \"matern\"\n",
    "        self.lr = 0.005\n",
    "        self.lscale_1 = 1.0\n",
    "        self.lscale_2 = 1.0\n",
    "        self.lscale_3 = None\n",
    "        self.lscale_4 = None\n",
    "        self.dim = 2\n",
    "        self.noise = 0.1\n",
    "\n",
    "config = Config()"
   ],
   "outputs": [],
   "metadata": {}
  },
  {
   "cell_type": "code",
   "execution_count": 254,
   "source": [
    "# make model\n",
    "def kernel_func(config_kernel, num_params, lscale):\n",
    "    \"\"\"\n",
    "    [kernel_func(config_kernel, num_params, lscale)] returns kernel function with \n",
    "    dimensions specified by [num_params]. \n",
    "    \"\"\"\n",
    "    if config_kernel == \"rbf\":\n",
    "        return gpytorch.kernels.ScaleKernel(\n",
    "            gpytorch.kernels.RBFKernel(ard_num_dims=num_params))\n",
    "    elif config_kernel == \"matern\":\n",
    "        return gpytorch.kernels.ScaleKernel(gpytorch.kernels.MaternKernel(ard_num_dims=num_params, \n",
    "        lengthscale = torch.tensor(lscale), nu=0.5))\n",
    "\n",
    "def make_model(train_x, train_y, num_params, config):\n",
    "    \"\"\"\n",
    "    [make_model(train_x, train_y, num_params, config)] returns likelihood and \n",
    "    model with lengthscale, noise, kernel function specified by sweeps. \n",
    "    \"\"\"\n",
    "    if config.dim == 2:\n",
    "        lscale = [config.lscale_1, config.lscale_2]\n",
    "    elif config.dim == 4:\n",
    "        lscale = [config.lscale_1, config.lscale_2, config.lscale_3, config.lscale_4]\n",
    "    kernel = kernel_func(config.kernel, num_params, lscale)\n",
    "    \n",
    "    print(kernel)\n",
    "    num_samples = len(train_x)\n",
    "    noise = config.noise*torch.ones(num_samples)\n",
    "    likelihood = gpytorch.likelihoods.FixedNoiseGaussianLikelihood(noise=noise)\n",
    "    model = GPModel(train_x, train_y, likelihood, kernel)\n",
    "\n",
    "    return likelihood, model, lscale\n",
    "    "
   ],
   "outputs": [],
   "metadata": {}
  },
  {
   "cell_type": "code",
   "execution_count": 255,
   "source": [
    "def intermediate_plot(f, ax, obs, title):\n",
    "    im = ax.imshow(obs.mean.view(30, 30), aspect='equal',\n",
    "                extent=[grid_bounds[0][0].item(), grid_bounds[0][1].item(),\n",
    "                            grid_bounds[1][0].item(), grid_bounds[1][1].item()])\n",
    "    f.colorbar(im)\n",
    "    ax.set_title(title)"
   ],
   "outputs": [],
   "metadata": {}
  },
  {
   "cell_type": "markdown",
   "source": [
    "### GP Training and Eval"
   ],
   "metadata": {}
  },
  {
   "cell_type": "code",
   "execution_count": 256,
   "source": [
    "# training and evaluation\n",
    "def train(train_x, train_y, num_params, config):\n",
    "    likelihood, model, lscale = make_model(train_x, train_y, num_params, config)\n",
    "    model.covar_module.base_kernel.lengthscale = torch.Tensor(lscale)\n",
    "    training_iter = config.epochs\n",
    "    # model.covar_module.base_kernel.raw_lengthscale.requires_grad_(False) # disallow training of lengthscale\n",
    "    \n",
    "    \n",
    "    # place both the model and likelihood in training mode\n",
    "    model.train(), likelihood.train()\n",
    "\n",
    "    # use Adam\n",
    "    optimizer = torch.optim.Adam(model.parameters(), lr=config.lr)\n",
    "\n",
    "    # set GP loss as the marginal log likelihood\n",
    "    mll = gpytorch.mlls.ExactMarginalLogLikelihood(likelihood, model)\n",
    "    loss_lst = []\n",
    "\n",
    "    for i in range(1, training_iter+1):\n",
    "        optimizer.zero_grad()\n",
    "        output = model(train_x)\n",
    "\n",
    "        # backpropagate error\n",
    "        loss = -mll(output, train_y)\n",
    "        loss.backward()\n",
    "\n",
    "        if i==1 or i % 500 == 0: \n",
    "            print('Iter %d/%d - Loss: %.3f  lengthscale1: %s   noise: %s' % (\n",
    "                    i, training_iter, loss.item(), \n",
    "                    model.covar_module.base_kernel.lengthscale.detach().numpy(),\n",
    "                    model.likelihood.noise.detach().numpy()\n",
    "                    )) \n",
    "            loss_lst.append(loss.item())\n",
    "\n",
    "        # if i % 1000 == 0:\n",
    "        # # get a quick snapshot of intermediate \n",
    "        #     model.eval()\n",
    "        #     likelihood.eval()\n",
    "        #     with torch.no_grad(), gpytorch.settings.fast_pred_var():\n",
    "        #         obs = likelihood(model(test_arr))\n",
    "        #         f, ax = plt.subplots(1, 1, figsize=(4,3))\n",
    "        #         intermediate_plot(f, ax, obs, f'iter {i+1}/{training_iter}')\n",
    "        #     model.train()\n",
    "        #     likelihood.train()\n",
    "        optimizer.step()\n",
    "        \n",
    "    print(model.covar_module.outputscale.detach().numpy())\n",
    "    return likelihood, model, loss_lst\n",
    "\n",
    "def eval_mod(likelihood, model, test_arr):\n",
    "    \"\"\" \n",
    "    [eval_mod(likelihood, model, test_arr)] evaluates GP model. \n",
    "    \"\"\"\n",
    "    model.eval(), likelihood.eval()\n",
    "    with torch.no_grad(), gpytorch.settings.fast_pred_var():\n",
    "        obs = likelihood(model(test_arr), noise=(torch.ones(len(test_arr))*config.noise))\n",
    "    return obs"
   ],
   "outputs": [],
   "metadata": {}
  },
  {
   "cell_type": "code",
   "execution_count": 257,
   "source": [
    "# train model and evaluate\n",
    "likelihood, model, loss_lst = train(train_x, train_y, num_params, config)\n",
    "\n",
    "obs = eval_mod(likelihood, model, test_arr)"
   ],
   "outputs": [
    {
     "output_type": "stream",
     "name": "stdout",
     "text": [
      "ScaleKernel(\n",
      "  (base_kernel): MaternKernel(\n",
      "    (raw_lengthscale_constraint): Positive()\n",
      "  )\n",
      "  (raw_outputscale_constraint): Positive()\n",
      ")\n",
      "Iter 1/5000 - Loss: 4.176  lengthscale1: [[1. 1.]]   noise: [0.1 0.1 0.1 0.1 0.1 0.1 0.1 0.1 0.1 0.1 0.1 0.1 0.1 0.1 0.1 0.1 0.1 0.1\n",
      " 0.1 0.1 0.1 0.1 0.1]\n",
      "Iter 500/5000 - Loss: 1.847  lengthscale1: [[0.20328146 0.15323904]]   noise: [0.1 0.1 0.1 0.1 0.1 0.1 0.1 0.1 0.1 0.1 0.1 0.1 0.1 0.1 0.1 0.1 0.1 0.1\n",
      " 0.1 0.1 0.1 0.1 0.1]\n",
      "Iter 1000/5000 - Loss: 1.634  lengthscale1: [[0.07903071 0.0632174 ]]   noise: [0.1 0.1 0.1 0.1 0.1 0.1 0.1 0.1 0.1 0.1 0.1 0.1 0.1 0.1 0.1 0.1 0.1 0.1\n",
      " 0.1 0.1 0.1 0.1 0.1]\n",
      "Iter 1500/5000 - Loss: 1.601  lengthscale1: [[0.04432219 0.04380639]]   noise: [0.1 0.1 0.1 0.1 0.1 0.1 0.1 0.1 0.1 0.1 0.1 0.1 0.1 0.1 0.1 0.1 0.1 0.1\n",
      " 0.1 0.1 0.1 0.1 0.1]\n",
      "Iter 2000/5000 - Loss: 1.588  lengthscale1: [[0.0306632  0.03470687]]   noise: [0.1 0.1 0.1 0.1 0.1 0.1 0.1 0.1 0.1 0.1 0.1 0.1 0.1 0.1 0.1 0.1 0.1 0.1\n",
      " 0.1 0.1 0.1 0.1 0.1]\n",
      "Iter 2500/5000 - Loss: 1.584  lengthscale1: [[0.02407067 0.03016154]]   noise: [0.1 0.1 0.1 0.1 0.1 0.1 0.1 0.1 0.1 0.1 0.1 0.1 0.1 0.1 0.1 0.1 0.1 0.1\n",
      " 0.1 0.1 0.1 0.1 0.1]\n",
      "Iter 3000/5000 - Loss: 1.583  lengthscale1: [[0.02047083 0.02851523]]   noise: [0.1 0.1 0.1 0.1 0.1 0.1 0.1 0.1 0.1 0.1 0.1 0.1 0.1 0.1 0.1 0.1 0.1 0.1\n",
      " 0.1 0.1 0.1 0.1 0.1]\n",
      "Iter 3500/5000 - Loss: 1.583  lengthscale1: [[0.01824397 0.02810718]]   noise: [0.1 0.1 0.1 0.1 0.1 0.1 0.1 0.1 0.1 0.1 0.1 0.1 0.1 0.1 0.1 0.1 0.1 0.1\n",
      " 0.1 0.1 0.1 0.1 0.1]\n",
      "Iter 4000/5000 - Loss: 1.583  lengthscale1: [[0.01672955 0.02801148]]   noise: [0.1 0.1 0.1 0.1 0.1 0.1 0.1 0.1 0.1 0.1 0.1 0.1 0.1 0.1 0.1 0.1 0.1 0.1\n",
      " 0.1 0.1 0.1 0.1 0.1]\n",
      "Iter 4500/5000 - Loss: 1.583  lengthscale1: [[0.01556573 0.02797289]]   noise: [0.1 0.1 0.1 0.1 0.1 0.1 0.1 0.1 0.1 0.1 0.1 0.1 0.1 0.1 0.1 0.1 0.1 0.1\n",
      " 0.1 0.1 0.1 0.1 0.1]\n",
      "Iter 5000/5000 - Loss: 1.583  lengthscale1: [[0.01464493 0.02795551]]   noise: [0.1 0.1 0.1 0.1 0.1 0.1 0.1 0.1 0.1 0.1 0.1 0.1 0.1 0.1 0.1 0.1 0.1 0.1\n",
      " 0.1 0.1 0.1 0.1 0.1]\n",
      "1.4753839\n"
     ]
    }
   ],
   "metadata": {}
  },
  {
   "cell_type": "markdown",
   "source": [
    "### GP Training Results"
   ],
   "metadata": {}
  },
  {
   "cell_type": "code",
   "execution_count": 258,
   "source": [
    "import matplotlib.pyplot as plt\n",
    "from sklearn.metrics import mean_squared_error, mean_absolute_error,r2_score\n",
    "from scipy.stats import spearmanr\n",
    "import matplotlib.pyplot as plt \n",
    "from plotter import prettyplot"
   ],
   "outputs": [],
   "metadata": {}
  },
  {
   "cell_type": "code",
   "execution_count": 259,
   "source": [
    "# get error metrics\n",
    "def get_err(train_y, y_preds_mean):\n",
    "    rmse = np.sqrt(mean_squared_error(train_y, y_preds_mean))\n",
    "    mae = mean_absolute_error(train_y,  y_preds_mean)\n",
    "    spearman = spearmanr(train_y, y_preds_mean)[0]\n",
    "    r2 = r2_score(train_y, y_preds_mean)\n",
    "    return [round_three(i) for i in [rmse, mae, spearman, r2]]\n",
    "\n",
    "def plot_err(axes, train_y, y_preds_mean, y_uncer, err_vals, train_or_test, fs):\n",
    "    # training versus actuals plot: make plot, set title and axes values\n",
    "    ax = axes[0]\n",
    "    ax.scatter(train_y, y_preds_mean, color = \"#72356c\")\n",
    "    low_lim, upp_lim = int(min(train_y).item()), int(np.ceil(max(train_y).item()))\n",
    "    ax.plot(np.linspace(low_lim, upp_lim), np.linspace(low_lim, upp_lim), 'k--')\n",
    "    ax.set_xlim(low_lim, upp_lim)\n",
    "    ax.set_ylim(low_lim, upp_lim)\n",
    "    \n",
    "    # sort train_y to enable fill_between to exhibit correct functionality\n",
    "    # plot 95% confidence interval\n",
    "    sorted_train_y, sorted_indices_y = np.sort(train_y), np.argsort(train_y)\n",
    "    low_bound = (y_preds_mean-2*y_uncer)[sorted_indices_y]\n",
    "    upp_bound = (y_preds_mean+2*y_uncer)[sorted_indices_y]\n",
    "    ax.fill_between(sorted_train_y, low_bound, upp_bound, color = \"grey\", alpha = 0.3, label=\"95% confidence interval\")    \n",
    "    ax.set_xlabel('Ground Truth 2 Qsw/(U+|D|) 1e6', fontsize = fs)\n",
    "    ax.set_ylabel('Prediction 2 Qsw/(U+|D|) 1e6', fontsize = fs)\n",
    "    title_type = \"Training\" if train_or_test == \"train\" else \"Test\"\n",
    "    ax.set_title('GP ' + title_type + ' Results' + \" (MAE=%.2f\" % err_vals[1]+' [%])', fontsize = fs)\n",
    "    ax.legend()\n",
    "\n",
    "def plot_training_loss(axes, loss_lst, fs):\n",
    "    ax = axes[1]\n",
    "    ax.plot(np.arange(len(loss_lst))*500,loss_lst, 'o-', color = \"#72356c\")\n",
    "    ax.set_xlabel('Epoch', fontsize = fs)\n",
    "    ax.set_ylabel('Marginal Log Likelihood Loss', fontsize = fs)\n",
    "    ax.set_title('Training Loss' + \" (Loss=%.2f\" % loss_lst[-1] + ')', fontsize = fs)\n",
    "\n",
    "def plot_gp_res(train_y, y_preds_mean, loss_lst, y_uncer, train_or_test=\"train\"):\n",
    "    prettyplot()\n",
    "    fig, axes = plt.subplots(1, 3, figsize=(5.5*3, 4.5))\n",
    "    fs = 14\n",
    "\n",
    "    # print error metrics\n",
    "    err_vals = get_err(train_y, y_preds_mean)\n",
    "    data = {'Metric': ['RMSE', 'MAE', 'Spearman', 'R² score'], 'Value': err_vals}\n",
    "    df = pd.DataFrame(data)\n",
    "    print(df)\n",
    "\n",
    "    # plot error, training/testing loss\n",
    "    plot_err(axes, train_y, y_preds_mean, y_uncer, err_vals, train_or_test, fs)\n",
    "    if loss_lst: plot_training_loss(axes, loss_lst, fs)\n",
    "    else: axes[1].axis(\"off\")\n",
    "    axes[2].axis(\"off\")\n",
    "\n",
    "    for i in range(len(axes)):\n",
    "        axes[i].tick_params(direction='in', length=5, width=1, labelsize = fs*.8)\n",
    "    plt.subplots_adjust(wspace = 0.4)\n",
    "\n",
    "    plt.show()"
   ],
   "outputs": [],
   "metadata": {}
  },
  {
   "cell_type": "code",
   "execution_count": 260,
   "source": [
    "round_three = lambda val: np.round(val, 3) \n",
    "model.eval(), likelihood.eval()\n",
    "y_preds = likelihood(model(train_x))\n",
    "f_var = model(train_x).variance\n",
    "\n",
    "model.eval(), likelihood.eval()\n",
    "y_preds_test = likelihood(model(test_x))\n",
    "f_var_test = model(test_x).variance\n",
    "\n",
    "with torch.no_grad(): y_preds_mean, f_var = y_preds.mean.numpy(), np.sqrt(f_var).numpy()\n",
    "with torch.no_grad(): y_preds_test_mean, f_var_test = y_preds_test.mean.numpy(), np.sqrt(f_var_test).numpy()\n",
    "plot_gp_res(train_y, y_preds_mean, loss_lst, f_var)\n",
    "# plot_gp_res(test_y, y_preds_test_mean, None, f_var_test, train_or_test= \"test\")"
   ],
   "outputs": [
    {
     "output_type": "stream",
     "name": "stdout",
     "text": [
      "     Metric  Value\n",
      "0      RMSE  0.090\n",
      "1       MAE  0.078\n",
      "2  Spearman  0.996\n",
      "3  R² score  0.995\n"
     ]
    },
    {
     "output_type": "stream",
     "name": "stderr",
     "text": [
      "/Users/valenetjong/opt/anaconda3/envs/FEGP/lib/python3.9/site-packages/gpytorch/models/exact_gp.py:274: GPInputWarning:\n",
      "\n",
      "The input matches the stored training data. Did you forget to call model.train()?\n",
      "\n",
      "/Users/valenetjong/opt/anaconda3/envs/FEGP/lib/python3.9/site-packages/gpytorch/likelihoods/gaussian_likelihood.py:270: GPInputWarning:\n",
      "\n",
      "You have passed data through a FixedNoiseGaussianLikelihood that did not match the size of the fixed noise, *and* you did not specify noise. This is treated as a no-op.\n",
      "\n"
     ]
    },
    {
     "output_type": "display_data",
     "data": {
      "image/png": "[encoded data removed]",
      "text/plain": [
       "<Figure size 3300x900 with 3 Axes>"
      ]
     },
     "metadata": {}
    }
   ],
   "metadata": {}
  },
  {
   "cell_type": "code",
   "execution_count": 261,
   "source": [
    "# acquisition function for prediction/exploration\n",
    "def get_bounds(n): return [n for i in range(config.dim)]\n",
    "\n",
    "def unravel_acq(acq_func, obs, bounds, train_y, nshape):\n",
    "    \"\"\" \n",
    "    [unravel_acq(acq_func, obs, bounds, train_y, nshape)] is a helper function \n",
    "    for acq that returns the coordinates of the maximum value of the acq_func \n",
    "    over the test grid in the form of a tuple (row_index, column_index). \n",
    "\n",
    "    row_index = index into time\n",
    "    column_index = index into energy density\n",
    "    \"\"\"\n",
    "    acq = acq_func(obs, bounds, train_y).detach().numpy().reshape(nshape).T\n",
    "    return np.unravel_index(acq.argmax(), acq.shape)\n",
    "\n",
    "def acq(obs, train_y, bounds):\n",
    "    \"\"\" \n",
    "    [acq(obs, train_y, bounds)] evaluates acquisition functions on current \n",
    "    predictions (observations) and outputs suggested points for exploration \n",
    "    on manifold. \n",
    "    \"\"\"\n",
    "    transpose = lambda tensor: tensor.detach().numpy().reshape(nshape).T\n",
    "    nshape = tuple(bounds)\n",
    "\n",
    "    pi = unravel_acq(PI, obs, bounds, train_y, nshape) # prob of improvement\n",
    "    ei = unravel_acq(EI, obs, bounds, train_y, nshape) # expected improvement\n",
    "    ca = unravel_acq(cust_acq, obs, bounds, train_y, nshape) # custom acq\n",
    "    th = unravel_acq(thompson, obs, bounds, train_y, nshape) # thompson acq\n",
    "\n",
    "    lower, upper = obs.confidence_region()\n",
    "    upper_surf, lower_surf = transpose(upper), transpose(lower)\n",
    "    ucb = np.unravel_index(upper_surf.argmax(), upper_surf.shape)\n",
    "\n",
    "    pred_var = obs.variance.view(nshape).detach().numpy().T\n",
    "    pred_labels = obs.mean.view(nshape).T\n",
    "    max_var = np.unravel_index(pred_var.argmax(), pred_var.shape)\n",
    "\n",
    "    # acqs gives pairs corresponding to indices of time and energy density \n",
    "    # recommendations in grid; the pairs index into array pred_labels \n",
    "    acqs = {\"PI\":pi, \"EI\":ei, \"CA\":ca, \"TH\":th, \"UCB\":ucb, \"Max_var\":max_var}\n",
    "\n",
    "    return pred_labels, upper_surf, lower_surf, acqs"
   ],
   "outputs": [],
   "metadata": {}
  },
  {
   "cell_type": "code",
   "execution_count": 262,
   "source": [
    "# export predictions to csv\n",
    "def pred_to_csv(acqs, raw_pred_labels, raw_test_grid, file_out = \"preds.csv\"):\n",
    "    \"\"\"\n",
    "    [pred_to_csv(acqs, raw_pred_labels, raw_test_grid)] outputs suggested\n",
    "    inputs and their respective predicted outputs to csv; returns suggested point\n",
    "    corresponding to ucb acquisition.\n",
    "    \"\"\"   \n",
    "    dir = \"/Users/valenetjong/Bayesian-Optimization-Ferroelectrics/predictions/\"\n",
    "    file = open(dir + file_out, \"w\", encoding=\"utf-8\")\n",
    "    file.write(\"Energy density \\t Time (ms)\\n\")\n",
    "    data = {'Time(ms)':[], 'Energy density new cone (J/cm^2)':[], '2 Qsw/(U+|D|) 1e6':[]}\n",
    "    ucb = []\n",
    "    for lab, coords in acqs.items(): \n",
    "        time_val = raw_test_grid[coords[1]].tolist()[0]\n",
    "        energy_den_val = raw_test_grid[coords[0]].tolist()[1]\n",
    "        data['Time(ms)'].append(time_val)\n",
    "        data['Energy density new cone (J/cm^2)'].append(energy_den_val)\n",
    "        file.write(lab + \": \" + str(time_val) + \"\\t\" + str(energy_den_val) + \"\\n\")\n",
    "        if lab == \"UCB\": ucb.append(time_val*1000), ucb.append(energy_den_val)  # change units μs\n",
    "\n",
    "    file.write(\"\\nFigure of merit\\n\")\n",
    "    for lab, coords in acqs.items():\n",
    "        fig_of_merit = raw_pred_labels[coords].item()\n",
    "        data['2 Qsw/(U+|D|) 1e6'].append(fig_of_merit)\n",
    "        file.write(lab + \": \" + str(fig_of_merit) + \"\\n\")\n",
    "        if lab == \"UCB\": ucb.append(fig_of_merit)\n",
    "\n",
    "    df = pd.DataFrame(data)\n",
    "    print(df)\n",
    "    return ucb\n"
   ],
   "outputs": [],
   "metadata": {}
  },
  {
   "cell_type": "code",
   "execution_count": 263,
   "source": [
    "# get normalized predictions\n",
    "bounds = get_bounds(n=30)\n",
    "pred_labels, upper_surf, lower_surf, acqs = acq(obs, train_y, bounds)\n",
    "\n",
    "# undo scaling\n",
    "raw_train_x, raw_test_grid = un_norm_x(train_x, test_grid, scaler)\n"
   ],
   "outputs": [],
   "metadata": {}
  },
  {
   "cell_type": "markdown",
   "source": [
    "### Save Predictions and Visualize "
   ],
   "metadata": {}
  },
  {
   "cell_type": "code",
   "execution_count": 264,
   "source": [
    "# undo normalization and save to csv, get prediction point\n",
    "ucb = pred_to_csv(acqs, pred_labels, raw_test_grid)\n",
    "\n",
    "# suggested points (μs, J/cm^2)\n",
    "ucb_pt, nlcd_pt = (round(ucb[0],-1),round(ucb[1],2)), (2900, 9.04)\n",
    "print(ucb_pt)"
   ],
   "outputs": [
    {
     "output_type": "stream",
     "name": "stdout",
     "text": [
      "   Time(ms)  Energy density new cone (J/cm^2)  2 Qsw/(U+|D|) 1e6\n",
      "0  1.503079                          8.850209           3.766922\n",
      "1  1.503079                          8.850209           3.766922\n",
      "2  4.828202                         14.954765           2.590935\n",
      "3  4.163177                          3.215234           2.459247\n",
      "4  1.503079                          8.850209           3.766922\n",
      "5  1.669335                          2.276071           2.459332\n",
      "(1500.0, 8.85)\n"
     ]
    }
   ],
   "metadata": {}
  },
  {
   "cell_type": "code",
   "execution_count": 265,
   "source": [
    "# sanity check for fig of merit from acquisition\n",
    "model.eval(), likelihood.eval()\n",
    "ucb = np.array((1.17, 8.85)).reshape(1,2)\n",
    "ucb_scaled = scaler.transform(ucb)\n",
    "print(ucb_scaled)\n",
    "\n",
    "y_preds_ucb = likelihood(model(torch.Tensor(ucb_scaled)))\n",
    "\n",
    "with torch.no_grad(): y_preds_ucb_mean = y_preds_ucb.mean.numpy()\n",
    "print(y_preds_ucb_mean)"
   ],
   "outputs": [
    {
     "output_type": "stream",
     "name": "stdout",
     "text": [
      "[[0.14888889 0.48151064]]\n",
      "[2.4845996]\n"
     ]
    },
    {
     "output_type": "stream",
     "name": "stderr",
     "text": [
      "/Users/valenetjong/opt/anaconda3/envs/FEGP/lib/python3.9/site-packages/gpytorch/likelihoods/gaussian_likelihood.py:270: GPInputWarning:\n",
      "\n",
      "You have passed data through a FixedNoiseGaussianLikelihood that did not match the size of the fixed noise, *and* you did not specify noise. This is treated as a no-op.\n",
      "\n"
     ]
    }
   ],
   "metadata": {}
  },
  {
   "cell_type": "code",
   "execution_count": 266,
   "source": [
    "import plotly.graph_objects as go\n",
    "def vis_pred(train_x, train_y, test_grid, pred_labels):\n",
    "    fig = go.Figure(data=[go.Surface(z=pred_labels.numpy(), \n",
    "                                    x=test_grid[:,0],\n",
    "                                    y=test_grid[:,1],\n",
    "                                    opacity = 0.8,\n",
    "                                    colorscale = \"Burg\",\n",
    "                                    colorbar=dict(thickness=15, len=0.5),\n",
    "                                    name='GP regression')])\n",
    "    \n",
    "    fig.add_trace(go.Scatter3d(x=train_x[:,0],\n",
    "                              y=train_x[:,1],\n",
    "                            z=train_y.numpy(), mode='markers', \n",
    "                            marker={'color':'#72356c'}, name='training data'))\n",
    "    fig.update_layout(width=1000, height=800,\n",
    "                    legend=dict(orientation=\"h\", yanchor=\"top\", y=1.02, \n",
    "                    xanchor=\"left\",x=1), margin=dict(r=20, l=10, b=10, t=10), \n",
    "                        scene=dict(\n",
    "                        xaxis_title=\"Pulse Width (msec)\",\n",
    "                        yaxis_title=\"Energy density new cone (J/cm^2)\",\n",
    "                        zaxis_title='2 Qsw/(U+|D|) 1e6')\n",
    "                    )\n",
    "    fig.update_layout(template=\"ggplot2\")\n",
    "    camera = dict(up=dict(x=0, y=0, z=1), center=dict(x=0, y=0, z=0),\n",
    "                    eye=dict(x=2.75, y=1.75, z=1))\n",
    "    fig.update_layout(scene_camera=camera)\n",
    "    fig.show()"
   ],
   "outputs": [],
   "metadata": {}
  },
  {
   "cell_type": "code",
   "execution_count": 267,
   "source": [
    "# visualize acquisition function results and confidence bound surfaces\n",
    "vis_pred(raw_train_x, train_y, raw_test_grid, pred_labels)"
   ],
   "outputs": [
    {
     "output_type": "display_data",
     "data": {
      "application/vnd.plotly.v1+json": {
       "data": [
        {
         "colorbar": {
          "len": 0.5,
          "thickness": 15
         },
         "colorscale": [
          [
           0,
           "rgb(255, 198, 196)"
          ],
          [
           0.16666666666666666,
           "rgb(244, 163, 168)"
          ],
          [
           0.3333333333333333,
           "rgb(227, 129, 145)"
          ],
          [
           0.5,
           "rgb(204, 96, 125)"
          ],
          [
           0.6666666666666666,
           "rgb(173, 70, 108)"
          ],
          [
           0.8333333333333334,
           "rgb(139, 48, 88)"
          ],
          [
           1,
           "rgb(103, 32, 68)"
          ]
         ],
         "name": "GP regression",
         "opacity": 0.8,
         "x": [
          0.33928570710122585,
          0.5055418629199266,
          0.6717980187386274,
          0.8380541577935219,
          1.0043103471398354,
          1.1705665364861488,
          1.336822658777237,
          1.503078781068325,
          1.6693349033594131,
          1.8355910927057266,
          2.0018471479415894,
          2.168103337287903,
          2.3343595266342168,
          2.5006157159805302,
          2.6668719053268437,
          2.833128094673157,
          2.9993842840194707,
          3.165640473365784,
          3.3318966627120976,
          3.4981525838375096,
          3.664408773183823,
          3.8306649625301366,
          3.99692115187645,
          4.163177341222764,
          4.329433262348176,
          4.495689451694489,
          4.661945641040803,
          4.828201830387116,
          4.99445801973343,
          5.160714209079743
         ],
         "y": [
          2.276071443020234,
          2.745652702469288,
          3.215233961918342,
          3.684815174018958,
          4.154396528164888,
          4.623977882310818,
          5.093559047062996,
          5.563140211815174,
          6.032721376567352,
          6.502302730713282,
          6.971883706071708,
          7.441465060217638,
          7.911046414363568,
          8.380627768509498,
          8.850209122655428,
          9.319790476801359,
          9.789371830947289,
          10.258953185093219,
          10.72853453923915,
          11.19811513581007,
          11.667696489956,
          12.13727784410193,
          12.60685919824786,
          13.076440552393791,
          13.546021148964712,
          14.015602503110642,
          14.485183857256573,
          14.954765211402503,
          15.424346565548433,
          15.893927919694363
         ],
         "z": [
          [
           2.367772102355957,
           2.0474085807800293,
           2.379706621170044,
           2.446869373321533,
           2.448596477508545,
           2.45436954498291,
           2.4584271907806396,
           2.459273338317871,
           2.459331512451172,
           2.4592807292938232,
           2.459254741668701,
           2.4592480659484863,
           2.45924711227417,
           2.459246873855591,
           2.459246873855591,
           2.459246873855591,
           2.459246873855591,
           2.459246873855591,
           2.459246873855591,
           2.459246873855591,
           2.459246873855591,
           2.459246873855591,
           2.459246873855591,
           2.459246873855591,
           2.459246873855591,
           2.459246873855591,
           2.459246873855591,
           2.459246873855591,
           2.459246873855591,
           2.459246873855591
          ],
          [
           2.340399980545044,
           1.12138032913208,
           2.3566575050354004,
           2.4353182315826416,
           2.420919418334961,
           2.4451472759246826,
           2.457643747329712,
           2.4595727920532227,
           2.4595673084259033,
           2.4593517780303955,
           2.4592673778533936,
           2.45924973487854,
           2.45924711227417,
           2.459246873855591,
           2.459246873855591,
           2.459246873855591,
           2.459246873855591,
           2.459246873855591,
           2.459246873855591,
           2.459246873855591,
           2.459246873855591,
           2.459246873855591,
           2.459246873855591,
           2.459246873855591,
           2.459246873855591,
           2.459246873855591,
           2.459246873855591,
           2.459246873855591,
           2.459246873855591,
           2.459246873855591
          ],
          [
           2.381720781326294,
           2.31235671043396,
           2.3869380950927734,
           2.4134747982025146,
           2.3176043033599854,
           2.4259612560272217,
           2.4571382999420166,
           2.460923910140991,
           2.4603841304779053,
           2.4595494270324707,
           2.4592957496643066,
           2.4592525959014893,
           2.459247350692749,
           2.459246873855591,
           2.459246873855591,
           2.459246873855591,
           2.459246873855591,
           2.459246873855591,
           2.459246873855591,
           2.459246873855591,
           2.459246873855591,
           2.459246873855591,
           2.459246873855591,
           2.459246873855591,
           2.459246873855591,
           2.459246873855591,
           2.459246873855591,
           2.4592466354370117,
           2.4592466354370117,
           2.4592466354370117
          ],
          [
           2.388836622238159,
           2.3804221153259277,
           2.390958070755005,
           2.3909826278686523,
           1.9332712888717651,
           2.4077773094177246,
           2.459089756011963,
           2.466273069381714,
           2.4630396366119385,
           2.46003794670105,
           2.459351062774658,
           2.459257125854492,
           2.459247350692749,
           2.4592466354370117,
           2.459246873855591,
           2.459246873855591,
           2.459246873855591,
           2.459246873855591,
           2.459246873855591,
           2.459246873855591,
           2.459246873855591,
           2.459246873855591,
           2.459246873855591,
           2.459246873855591,
           2.459246873855591,
           2.459246873855591,
           2.4592466354370117,
           2.4592463970184326,
           2.4592463970184326,
           2.4592463970184326
          ],
          [
           2.3281595706939697,
           1.7415690422058105,
           2.3431434631347656,
           2.400599241256714,
           2.2058160305023193,
           2.418349266052246,
           2.4679834842681885,
           2.4865219593048096,
           2.470846652984619,
           2.461045026779175,
           2.459437608718872,
           2.459261178970337,
           2.4592463970184326,
           2.4592463970184326,
           2.4592466354370117,
           2.459246873855591,
           2.459246873855591,
           2.459246873855591,
           2.459246873855591,
           2.459246873855591,
           2.459246873855591,
           2.459246873855591,
           2.459246873855591,
           2.459246873855591,
           2.459246873855591,
           2.4592466354370117,
           2.4592461585998535,
           2.459245204925537,
           2.459244728088379,
           2.459245204925537
          ],
          [
           2.311509370803833,
           1.1973938941955566,
           2.3321118354797363,
           2.4294044971466064,
           2.3982300758361816,
           2.4452366828918457,
           2.4900383949279785,
           2.5623714923858643,
           2.489452838897705,
           2.462590456008911,
           2.4595329761505127,
           2.4592573642730713,
           2.4592416286468506,
           2.459244728088379,
           2.4592463970184326,
           2.459246873855591,
           2.459246873855591,
           2.459246873855591,
           2.459246873855591,
           2.459246873855591,
           2.459246873855591,
           2.459246873855591,
           2.459246873855591,
           2.459246873855591,
           2.4592466354370117,
           2.4592461585998535,
           2.4592440128326416,
           2.4592409133911133,
           2.4592387676239014,
           2.459240674972534
          ],
          [
           2.3711607456207275,
           1.9017586708068848,
           2.3837087154388428,
           2.4564924240112305,
           2.4690847396850586,
           2.4689345359802246,
           2.5216848850250244,
           2.8460781574249268,
           2.5156331062316895,
           2.4639649391174316,
           2.4595603942871094,
           2.459221124649048,
           2.4592249393463135,
           2.459240436553955,
           2.4592456817626953,
           2.4592466354370117,
           2.459246873855591,
           2.459246873855591,
           2.459246873855591,
           2.459246873855591,
           2.459246873855591,
           2.459246873855591,
           2.459246873855591,
           2.459246873855591,
           2.4592463970184326,
           2.4592444896698,
           2.459237575531006,
           2.4592249393463135,
           2.459216594696045,
           2.459223985671997
          ],
          [
           2.4307169914245605,
           2.5684287548065186,
           2.437140941619873,
           2.489870309829712,
           2.5602493286132812,
           2.4959728717803955,
           2.527395486831665,
           2.9215989112854004,
           2.5182158946990967,
           2.463948965072632,
           2.459355354309082,
           2.4590721130371094,
           2.4591705799102783,
           2.459228277206421,
           2.4592435359954834,
           2.4592463970184326,
           2.459246873855591,
           2.459246873855591,
           2.459246873855591,
           2.459246873855591,
           2.459246873855591,
           2.459246873855591,
           2.459246873855591,
           2.4592466354370117,
           2.4592456817626953,
           2.459239959716797,
           2.4592173099517822,
           2.4591681957244873,
           2.4591333866119385,
           2.4591643810272217
          ],
          [
           2.4570229053497314,
           2.4894859790802,
           2.4632480144500732,
           2.5352728366851807,
           2.8545007705688477,
           2.531841516494751,
           2.5018818378448486,
           2.583529472351074,
           2.493041753768921,
           2.462193727493286,
           2.4584827423095703,
           2.458540916442871,
           2.4590044021606445,
           2.4591965675354004,
           2.4592392444610596,
           2.4592459201812744,
           2.459246873855591,
           2.459246873855591,
           2.459246873855591,
           2.459246873855591,
           2.459246873855591,
           2.459246873855591,
           2.459246873855591,
           2.4592466354370117,
           2.4592440128326416,
           2.459228277206421,
           2.459155321121216,
           2.4589684009552,
           2.4588212966918945,
           2.458953619003296
          ],
          [
           2.460541009902954,
           2.467864751815796,
           2.4682230949401855,
           2.552619695663452,
           3.433344841003418,
           2.544255256652832,
           2.4816699028015137,
           2.494396686553955,
           2.4730470180511475,
           2.458967447280884,
           2.45536208152771,
           2.4567201137542725,
           2.4585304260253906,
           2.4591221809387207,
           2.459230422973633,
           2.459244966506958,
           2.4592466354370117,
           2.459246873855591,
           2.459246873855591,
           2.459246873855591,
           2.459246873855591,
           2.459246873855591,
           2.459246873855591,
           2.4592461585998535,
           2.4592409133911133,
           2.4592010974884033,
           2.458979845046997,
           2.4582841396331787,
           2.457651138305664,
           2.458223342895508
          ],
          [
           2.460015058517456,
           2.462048053741455,
           2.467400074005127,
           2.525899887084961,
           2.592433214187622,
           2.521578073501587,
           2.4745242595672607,
           2.474973440170288,
           2.4655511379241943,
           2.452329158782959,
           2.4439175128936768,
           2.450728416442871,
           2.4573049545288086,
           2.4589669704437256,
           2.459214687347412,
           2.4592435359954834,
           2.4592466354370117,
           2.459246873855591,
           2.459246873855591,
           2.459246873855591,
           2.459246873855591,
           2.459246873855591,
           2.459246873855591,
           2.4592456817626953,
           2.459235429763794,
           2.4591453075408936,
           2.458528757095337,
           2.456035852432251,
           2.4532649517059326,
           2.455789089202881
          ],
          [
           2.459561347961426,
           2.4604239463806152,
           2.466075897216797,
           2.5204830169677734,
           2.7385153770446777,
           2.5170233249664307,
           2.4793903827667236,
           2.4864418506622314,
           2.4681236743927,
           2.4343032836914062,
           2.4011478424072266,
           2.4324440956115723,
           2.4545750617980957,
           2.458693742752075,
           2.45919132232666,
           2.4592418670654297,
           2.4592463970184326,
           2.459246873855591,
           2.459246873855591,
           2.459246873855591,
           2.459246873855591,
           2.459246873855591,
           2.4592466354370117,
           2.459245204925537,
           2.4592273235321045,
           2.4590492248535156,
           2.4575374126434326,
           2.449205160140991,
           2.436823844909668,
           2.448230504989624
          ],
          [
           2.45937442779541,
           2.459897518157959,
           2.4647750854492188,
           2.5178472995758057,
           2.9074249267578125,
           2.51669979095459,
           2.5030481815338135,
           2.5526621341705322,
           2.4861302375793457,
           2.387098550796509,
           2.24064564704895,
           2.384855270385742,
           2.449758291244507,
           2.458312749862671,
           2.4591634273529053,
           2.4592397212982178,
           2.4592463970184326,
           2.459246873855591,
           2.459246873855591,
           2.459246873855591,
           2.459246873855591,
           2.459246873855591,
           2.4592466354370117,
           2.4592444896698,
           2.4592180252075195,
           2.4589197635650635,
           2.455836772918701,
           2.43155574798584,
           2.3752150535583496,
           2.4280431270599365
          ],
          [
           2.4593050479888916,
           2.4596493244171143,
           2.463022470474243,
           2.4933018684387207,
           2.5799760818481445,
           2.49969482421875,
           2.5582494735717773,
           2.8082070350646973,
           2.5317890644073486,
           2.299816608428955,
           1.6385042667388916,
           2.2989461421966553,
           2.4439399242401123,
           2.4579405784606934,
           2.459139585494995,
           2.459238290786743,
           2.4592461585998535,
           2.459246873855591,
           2.459246873855591,
           2.459246873855591,
           2.459246873855591,
           2.459246873855591,
           2.4592466354370117,
           2.4592440128326416,
           2.4592103958129883,
           2.458801746368408,
           2.4539332389831543,
           2.40053391456604,
           2.144683837890625,
           2.390873670578003
          ],
          [
           2.4592764377593994,
           2.4594838619232178,
           2.461303234100342,
           2.4728758335113525,
           2.4922735691070557,
           2.484636068344116,
           2.619494676589966,
           3.7669215202331543,
           2.584245204925537,
           2.2344532012939453,
           0.7206236124038696,
           2.2351925373077393,
           2.440741777420044,
           2.457780599594116,
           2.4591314792633057,
           2.459237813949585,
           2.4592461585998535,
           2.459246873855591,
           2.459246873855591,
           2.459246873855591,
           2.459246873855591,
           2.459246873855591,
           2.4592466354370117,
           2.4592437744140625,
           2.459207773208618,
           2.4587602615356445,
           2.453183174133301,
           2.383791446685791,
           1.5880274772644043,
           2.369993209838867
          ],
          [
           2.4592623710632324,
           2.459371566772461,
           2.4601705074310303,
           2.4638326168060303,
           2.4687728881835938,
           2.4755053520202637,
           2.5981690883636475,
           3.226079225540161,
           2.569082736968994,
           2.269899368286133,
           0.7600705623626709,
           2.269524097442627,
           2.4433910846710205,
           2.4579739570617676,
           2.4591457843780518,
           2.4592387676239014,
           2.4592461585998535,
           2.459246873855591,
           2.459246873855591,
           2.459246873855591,
           2.459246873855591,
           2.459246873855591,
           2.4592466354370117,
           2.4592440128326416,
           2.459211826324463,
           2.458822727203369,
           2.4542953968048096,
           2.4075725078582764,
           2.221984386444092,
           2.399479627609253
          ],
          [
           2.459254741668701,
           2.4593050479888916,
           2.459608554840088,
           2.4606869220733643,
           2.4622795581817627,
           2.4686379432678223,
           2.528048276901245,
           2.6634485721588135,
           2.51418399810791,
           2.3901259899139404,
           2.2626466751098633,
           2.3858704566955566,
           2.4507031440734863,
           2.458454132080078,
           2.4591782093048096,
           2.4592411518096924,
           2.4592463970184326,
           2.459246873855591,
           2.459246873855591,
           2.459246873855591,
           2.459246873855591,
           2.459246873855591,
           2.4592466354370117,
           2.4592444896698,
           2.4592201709747314,
           2.458949327468872,
           2.4562530517578125,
           2.4366061687469482,
           2.3959014415740967,
           2.433899402618408
          ],
          [
           2.4592504501342773,
           2.4592714309692383,
           2.459376335144043,
           2.459693193435669,
           2.460324287414551,
           2.4638028144836426,
           2.4845428466796875,
           2.513683557510376,
           2.4819509983062744,
           2.4806325435638428,
           2.898603677749634,
           2.4751574993133545,
           2.4580776691436768,
           2.4589920043945312,
           2.459216594696045,
           2.4592437744140625,
           2.4592466354370117,
           2.459246873855591,
           2.459246873855591,
           2.459246873855591,
           2.459246873855591,
           2.459246873855591,
           2.4592466354370117,
           2.459245204925537,
           2.4592297077178955,
           2.4590752124786377,
           2.4578163623809814,
           2.4513370990753174,
           2.4423716068267822,
           2.450608015060425
          ],
          [
           2.4592485427856445,
           2.459256410598755,
           2.4592909812927246,
           2.459388017654419,
           2.459655284881592,
           2.4611380100250244,
           2.4673657417297363,
           2.4739878177642822,
           2.4705066680908203,
           2.5145304203033447,
           2.684431791305542,
           2.5100746154785156,
           2.4625437259674072,
           2.459383249282837,
           2.459247589111328,
           2.4592461585998535,
           2.459246873855591,
           2.459246873855591,
           2.459246873855591,
           2.459246873855591,
           2.459246873855591,
           2.459246873855591,
           2.459246873855591,
           2.4592459201812744,
           2.459237813949585,
           2.4591658115386963,
           2.4586849212646484,
           2.4568257331848145,
           2.4548451900482178,
           2.45664644241333
          ],
          [
           2.459247589111328,
           2.4592504501342773,
           2.459261417388916,
           2.4592931270599365,
           2.459402561187744,
           2.459947109222412,
           2.461697578430176,
           2.463469982147217,
           2.4665286540985107,
           2.525437355041504,
           3.011077642440796,
           2.5212228298187256,
           2.463911771774292,
           2.459557056427002,
           2.4592649936676025,
           2.4592478275299072,
           2.459246873855591,
           2.459246873855591,
           2.459246873855591,
           2.459246873855591,
           2.459246873855591,
           2.459246873855591,
           2.459246873855591,
           2.4592466354370117,
           2.4592437744140625,
           2.4592227935791016,
           2.4591054916381836,
           2.4587531089782715,
           2.4584474563598633,
           2.458723306655884
          ],
          [
           2.45924711227417,
           2.4592480659484863,
           2.459251642227173,
           2.4592626094818115,
           2.4593048095703125,
           2.459486722946167,
           2.459972620010376,
           2.46061110496521,
           2.4639229774475098,
           2.499490976333618,
           2.606525182723999,
           2.4974565505981445,
           2.4630348682403564,
           2.459554433822632,
           2.4592692852020264,
           2.4592483043670654,
           2.459246873855591,
           2.459246873855591,
           2.459246873855591,
           2.459246873855591,
           2.459246873855591,
           2.459246873855591,
           2.459246873855591,
           2.45924711227417,
           2.4592490196228027,
           2.4592649936676025,
           2.459376096725464,
           2.459859848022461,
           2.4604382514953613,
           2.4599099159240723
          ],
          [
           2.459246873855591,
           2.459247350692749,
           2.4592485427856445,
           2.45925235748291,
           2.4592676162719727,
           2.4593253135681152,
           2.4594650268554688,
           2.4597558975219727,
           2.4617536067962646,
           2.475490093231201,
           2.498535633087158,
           2.474853277206421,
           2.461452007293701,
           2.4594669342041016,
           2.45926570892334,
           2.4592483043670654,
           2.459246873855591,
           2.459246873855591,
           2.459246873855591,
           2.459246873855591,
           2.459246873855591,
           2.459246873855591,
           2.459246873855591,
           2.4592478275299072,
           2.4592549800872803,
           2.459315061569214,
           2.459735870361328,
           2.461792230606079,
           2.464829921722412,
           2.4620285034179688
          ],
          [
           2.459246873855591,
           2.45924711227417,
           2.459247350692749,
           2.4592487812042236,
           2.459254026412964,
           2.4592719078063965,
           2.459315299987793,
           2.459453582763672,
           2.460364818572998,
           2.4646830558776855,
           2.4697275161743164,
           2.464512348175049,
           2.4602670669555664,
           2.4593732357025146,
           2.459259510040283,
           2.4592480659484863,
           2.459246873855591,
           2.459246873855591,
           2.459246873855591,
           2.459246873855591,
           2.459246873855591,
           2.459246873855591,
           2.45924711227417,
           2.4592485427856445,
           2.459263324737549,
           2.4593942165374756,
           2.4604055881500244,
           2.4665844440460205,
           2.4804670810699463,
           2.4674301147460938
          ],
          [
           2.459246873855591,
           2.459246873855591,
           2.45924711227417,
           2.459247589111328,
           2.459249258041382,
           2.459254741668701,
           2.4592697620391846,
           2.4593310356140137,
           2.4596810340881348,
           2.460911989212036,
           2.4620425701141357,
           2.4608683586120605,
           2.459650754928589,
           2.459308624267578,
           2.459254026412964,
           2.459247589111328,
           2.459246873855591,
           2.459246873855591,
           2.459246873855591,
           2.459246873855591,
           2.459246873855591,
           2.459246873855591,
           2.45924711227417,
           2.459249496459961,
           2.459275245666504,
           2.4595224857330322,
           2.4616150856018066,
           2.4763643741607666,
           2.5387117862701416,
           2.4786553382873535
          ],
          [
           2.459246873855591,
           2.459246873855591,
           2.459246873855591,
           2.45924711227417,
           2.459247589111328,
           2.459249496459961,
           2.459254741668701,
           2.459279775619507,
           2.459399938583374,
           2.459733724594116,
           2.4599926471710205,
           2.4597227573394775,
           2.4593911170959473,
           2.45927357673645,
           2.4592504501342773,
           2.459247350692749,
           2.459246873855591,
           2.459246873855591,
           2.459246873855591,
           2.459246873855591,
           2.459246873855591,
           2.459246873855591,
           2.45924711227417,
           2.4592509269714355,
           2.4592907428741455,
           2.459709882736206,
           2.4636313915252686,
           2.492290735244751,
           2.604322910308838,
           2.496554136276245
          ],
          [
           2.459246873855591,
           2.459246873855591,
           2.459246873855591,
           2.459246873855591,
           2.45924711227417,
           2.459247589111328,
           2.45924973487854,
           2.459259033203125,
           2.4592974185943604,
           2.459385395050049,
           2.4594457149505615,
           2.4593827724456787,
           2.4592947959899902,
           2.4592573642730713,
           2.4592485427856445,
           2.45924711227417,
           2.459246873855591,
           2.459246873855591,
           2.459246873855591,
           2.459246873855591,
           2.459246873855591,
           2.459246873855591,
           2.459247350692749,
           2.459252119064331,
           2.4593076705932617,
           2.459937572479248,
           2.4665684700012207,
           2.5235705375671387,
           2.690096855163574,
           2.532461643218994
          ],
          [
           2.459246873855591,
           2.459246873855591,
           2.459246873855591,
           2.459246873855591,
           2.459246873855591,
           2.45924711227417,
           2.4592478275299072,
           2.4592511653900146,
           2.4592628479003906,
           2.4592857360839844,
           2.4593000411987305,
           2.459285020828247,
           2.4592621326446533,
           2.4592506885528564,
           2.459247589111328,
           2.459246873855591,
           2.459246873855591,
           2.459246873855591,
           2.459246873855591,
           2.459246873855591,
           2.459246873855591,
           2.459246873855591,
           2.459247350692749,
           2.4592530727386475,
           2.4593210220336914,
           2.460134983062744,
           2.469573736190796,
           2.5711781978607178,
           3.237631320953369,
           2.589803457260132
          ],
          [
           2.459246873855591,
           2.459246873855591,
           2.459246873855591,
           2.459246873855591,
           2.459246873855591,
           2.459246873855591,
           2.459247350692749,
           2.4592483043670654,
           2.459251642227173,
           2.4592576026916504,
           2.459260940551758,
           2.4592573642730713,
           2.4592514038085938,
           2.4592483043670654,
           2.45924711227417,
           2.459246873855591,
           2.459246873855591,
           2.459246873855591,
           2.459246873855591,
           2.459246873855591,
           2.459246873855591,
           2.459246873855591,
           2.459247350692749,
           2.4592533111572266,
           2.4593255519866943,
           2.460207939147949,
           2.4707858562469482,
           2.590935230255127,
           3.372004508972168,
           2.613384485244751
          ],
          [
           2.459246873855591,
           2.459246873855591,
           2.459246873855591,
           2.459246873855591,
           2.459246873855591,
           2.459246873855591,
           2.45924711227417,
           2.459247350692749,
           2.4592483043670654,
           2.45924973487854,
           2.4592506885528564,
           2.45924973487854,
           2.4592483043670654,
           2.459247350692749,
           2.459246873855591,
           2.459246873855591,
           2.459246873855591,
           2.459246873855591,
           2.459246873855591,
           2.459246873855591,
           2.459246873855591,
           2.459246873855591,
           2.459247350692749,
           2.4592528343200684,
           2.4593193531036377,
           2.4601128101348877,
           2.469291925430298,
           2.566356658935547,
           3.3353185653686523,
           2.5838518142700195
          ],
          [
           2.459246873855591,
           2.459246873855591,
           2.459246873855591,
           2.459246873855591,
           2.459246873855591,
           2.459246873855591,
           2.459246873855591,
           2.45924711227417,
           2.459247350692749,
           2.459247589111328,
           2.4592478275299072,
           2.459247589111328,
           2.459247350692749,
           2.45924711227417,
           2.459246873855591,
           2.459246873855591,
           2.459246873855591,
           2.459246873855591,
           2.459246873855591,
           2.459246873855591,
           2.459246873855591,
           2.459246873855591,
           2.459247350692749,
           2.459251880645752,
           2.4593045711517334,
           2.459897518157959,
           2.466118812561035,
           2.5209805965423584,
           2.719386339187622,
           2.529878616333008
          ]
         ],
         "type": "surface"
        },
        {
         "marker": {
          "color": "#72356c"
         },
         "mode": "markers",
         "name": "training data",
         "x": [
          0.5,
          0.5,
          1.0000000037252903,
          1.0000000037252903,
          1.5000000074505806,
          1.5000000074505806,
          5.000000000000001,
          5.000000000000001,
          0.5,
          5.000000000000001,
          2.0000000447034836,
          0.5,
          0.5,
          0.5,
          1.0000000037252903,
          1.0000000037252903,
          2.0000000447034836,
          2.0000000447034836,
          2.0000000447034836,
          2.0000000447034836,
          5.000000000000001,
          5.000000000000001,
          5.000000000000001
         ],
         "y": [
          2.7300000190734863,
          3.4000001145614362,
          3.7899999185612288,
          6.440000140764965,
          5.3600000716472636,
          8.98999989360641,
          8.800000081362441,
          14.670000341289324,
          5.239999811442516,
          14.890000123887603,
          10.130000282220237,
          4.510000154033449,
          5.369999872371615,
          4.880000167190786,
          6.760000203331785,
          7.769999962835257,
          8.729999392960707,
          9.380000265787459,
          10.479999178778854,
          11.010000170188363,
          14.710000301761738,
          15.4399995803833,
          13.370000110785838
         ],
         "z": [
          0.8730257153511047,
          2.6772446632385254,
          1.6990152597427368,
          3.8050527572631836,
          3.3348562717437744,
          4.535152912139893,
          1.3625102043151855,
          3.8412907123565674,
          1.2013570070266724,
          3.5136520862579346,
          3.4708714485168457,
          0.26329824328422546,
          2.7753403186798096,
          2.591306209564209,
          2.579984426498413,
          3.173818588256836,
          0.13150499761104584,
          0.45116370916366577,
          2.1266398429870605,
          3.468212842941284,
          3.685852527618408,
          3.445655584335327,
          2.6515469551086426
         ],
         "type": "scatter3d"
        }
       ],
       "layout": {
        "template": {
         "data": {
          "barpolar": [
           {
            "marker": {
             "line": {
              "color": "rgb(237,237,237)",
              "width": 0.5
             },
             "pattern": {
              "fillmode": "overlay",
              "size": 10,
              "solidity": 0.2
             }
            },
            "type": "barpolar"
           }
          ],
          "bar": [
           {
            "error_x": {
             "color": "rgb(51,51,51)"
            },
            "error_y": {
             "color": "rgb(51,51,51)"
            },
            "marker": {
             "line": {
              "color": "rgb(237,237,237)",
              "width": 0.5
             },
             "pattern": {
              "fillmode": "overlay",
              "size": 10,
              "solidity": 0.2
             }
            },
            "type": "bar"
           }
          ],
          "carpet": [
           {
            "aaxis": {
             "endlinecolor": "rgb(51,51,51)",
             "gridcolor": "white",
             "linecolor": "white",
             "minorgridcolor": "white",
             "startlinecolor": "rgb(51,51,51)"
            },
            "baxis": {
             "endlinecolor": "rgb(51,51,51)",
             "gridcolor": "white",
             "linecolor": "white",
             "minorgridcolor": "white",
             "startlinecolor": "rgb(51,51,51)"
            },
            "type": "carpet"
           }
          ],
          "choropleth": [
           {
            "colorbar": {
             "outlinewidth": 0,
             "tickcolor": "rgb(237,237,237)",
             "ticklen": 6,
             "ticks": "inside"
            },
            "type": "choropleth"
           }
          ],
          "contourcarpet": [
           {
            "colorbar": {
             "outlinewidth": 0,
             "tickcolor": "rgb(237,237,237)",
             "ticklen": 6,
             "ticks": "inside"
            },
            "type": "contourcarpet"
           }
          ],
          "contour": [
           {
            "colorbar": {
             "outlinewidth": 0,
             "tickcolor": "rgb(237,237,237)",
             "ticklen": 6,
             "ticks": "inside"
            },
            "colorscale": [
             [
              0,
              "rgb(20,44,66)"
             ],
             [
              1,
              "rgb(90,179,244)"
             ]
            ],
            "type": "contour"
           }
          ],
          "heatmapgl": [
           {
            "colorbar": {
             "outlinewidth": 0,
             "tickcolor": "rgb(237,237,237)",
             "ticklen": 6,
             "ticks": "inside"
            },
            "colorscale": [
             [
              0,
              "rgb(20,44,66)"
             ],
             [
              1,
              "rgb(90,179,244)"
             ]
            ],
            "type": "heatmapgl"
           }
          ],
          "heatmap": [
           {
            "colorbar": {
             "outlinewidth": 0,
             "tickcolor": "rgb(237,237,237)",
             "ticklen": 6,
             "ticks": "inside"
            },
            "colorscale": [
             [
              0,
              "rgb(20,44,66)"
             ],
             [
              1,
              "rgb(90,179,244)"
             ]
            ],
            "type": "heatmap"
           }
          ],
          "histogram2dcontour": [
           {
            "colorbar": {
             "outlinewidth": 0,
             "tickcolor": "rgb(237,237,237)",
             "ticklen": 6,
             "ticks": "inside"
            },
            "colorscale": [
             [
              0,
              "rgb(20,44,66)"
             ],
             [
              1,
              "rgb(90,179,244)"
             ]
            ],
            "type": "histogram2dcontour"
           }
          ],
          "histogram2d": [
           {
            "colorbar": {
             "outlinewidth": 0,
             "tickcolor": "rgb(237,237,237)",
             "ticklen": 6,
             "ticks": "inside"
            },
            "colorscale": [
             [
              0,
              "rgb(20,44,66)"
             ],
             [
              1,
              "rgb(90,179,244)"
             ]
            ],
            "type": "histogram2d"
           }
          ],
          "histogram": [
           {
            "marker": {
             "pattern": {
              "fillmode": "overlay",
              "size": 10,
              "solidity": 0.2
             }
            },
            "type": "histogram"
           }
          ],
          "mesh3d": [
           {
            "colorbar": {
             "outlinewidth": 0,
             "tickcolor": "rgb(237,237,237)",
             "ticklen": 6,
             "ticks": "inside"
            },
            "type": "mesh3d"
           }
          ],
          "parcoords": [
           {
            "line": {
             "colorbar": {
              "outlinewidth": 0,
              "tickcolor": "rgb(237,237,237)",
              "ticklen": 6,
              "ticks": "inside"
             }
            },
            "type": "parcoords"
           }
          ],
          "pie": [
           {
            "automargin": true,
            "type": "pie"
           }
          ],
          "scatter3d": [
           {
            "line": {
             "colorbar": {
              "outlinewidth": 0,
              "tickcolor": "rgb(237,237,237)",
              "ticklen": 6,
              "ticks": "inside"
             }
            },
            "marker": {
             "colorbar": {
              "outlinewidth": 0,
              "tickcolor": "rgb(237,237,237)",
              "ticklen": 6,
              "ticks": "inside"
             }
            },
            "type": "scatter3d"
           }
          ],
          "scattercarpet": [
           {
            "marker": {
             "colorbar": {
              "outlinewidth": 0,
              "tickcolor": "rgb(237,237,237)",
              "ticklen": 6,
              "ticks": "inside"
             }
            },
            "type": "scattercarpet"
           }
          ],
          "scattergeo": [
           {
            "marker": {
             "colorbar": {
              "outlinewidth": 0,
              "tickcolor": "rgb(237,237,237)",
              "ticklen": 6,
              "ticks": "inside"
             }
            },
            "type": "scattergeo"
           }
          ],
          "scattergl": [
           {
            "marker": {
             "colorbar": {
              "outlinewidth": 0,
              "tickcolor": "rgb(237,237,237)",
              "ticklen": 6,
              "ticks": "inside"
             }
            },
            "type": "scattergl"
           }
          ],
          "scattermapbox": [
           {
            "marker": {
             "colorbar": {
              "outlinewidth": 0,
              "tickcolor": "rgb(237,237,237)",
              "ticklen": 6,
              "ticks": "inside"
             }
            },
            "type": "scattermapbox"
           }
          ],
          "scatterpolargl": [
           {
            "marker": {
             "colorbar": {
              "outlinewidth": 0,
              "tickcolor": "rgb(237,237,237)",
              "ticklen": 6,
              "ticks": "inside"
             }
            },
            "type": "scatterpolargl"
           }
          ],
          "scatterpolar": [
           {
            "marker": {
             "colorbar": {
              "outlinewidth": 0,
              "tickcolor": "rgb(237,237,237)",
              "ticklen": 6,
              "ticks": "inside"
             }
            },
            "type": "scatterpolar"
           }
          ],
          "scatter": [
           {
            "fillpattern": {
             "fillmode": "overlay",
             "size": 10,
             "solidity": 0.2
            },
            "type": "scatter"
           }
          ],
          "scatterternary": [
           {
            "marker": {
             "colorbar": {
              "outlinewidth": 0,
              "tickcolor": "rgb(237,237,237)",
              "ticklen": 6,
              "ticks": "inside"
             }
            },
            "type": "scatterternary"
           }
          ],
          "surface": [
           {
            "colorbar": {
             "outlinewidth": 0,
             "tickcolor": "rgb(237,237,237)",
             "ticklen": 6,
             "ticks": "inside"
            },
            "colorscale": [
             [
              0,
              "rgb(20,44,66)"
             ],
             [
              1,
              "rgb(90,179,244)"
             ]
            ],
            "type": "surface"
           }
          ],
          "table": [
           {
            "cells": {
             "fill": {
              "color": "rgb(237,237,237)"
             },
             "line": {
              "color": "white"
             }
            },
            "header": {
             "fill": {
              "color": "rgb(217,217,217)"
             },
             "line": {
              "color": "white"
             }
            },
            "type": "table"
           }
          ]
         },
         "layout": {
          "annotationdefaults": {
           "arrowhead": 0,
           "arrowwidth": 1
          },
          "autotypenumbers": "strict",
          "coloraxis": {
           "colorbar": {
            "outlinewidth": 0,
            "tickcolor": "rgb(237,237,237)",
            "ticklen": 6,
            "ticks": "inside"
           }
          },
          "colorscale": {
           "sequential": [
            [
             0,
             "rgb(20,44,66)"
            ],
            [
             1,
             "rgb(90,179,244)"
            ]
           ],
           "sequentialminus": [
            [
             0,
             "rgb(20,44,66)"
            ],
            [
             1,
             "rgb(90,179,244)"
            ]
           ]
          },
          "colorway": [
           "#F8766D",
           "#A3A500",
           "#00BF7D",
           "#00B0F6",
           "#E76BF3"
          ],
          "font": {
           "color": "rgb(51,51,51)"
          },
          "geo": {
           "bgcolor": "white",
           "lakecolor": "white",
           "landcolor": "rgb(237,237,237)",
           "showlakes": true,
           "showland": true,
           "subunitcolor": "white"
          },
          "hoverlabel": {
           "align": "left"
          },
          "hovermode": "closest",
          "paper_bgcolor": "white",
          "plot_bgcolor": "rgb(237,237,237)",
          "polar": {
           "angularaxis": {
            "gridcolor": "white",
            "linecolor": "white",
            "showgrid": true,
            "tickcolor": "rgb(51,51,51)",
            "ticks": "outside"
           },
           "bgcolor": "rgb(237,237,237)",
           "radialaxis": {
            "gridcolor": "white",
            "linecolor": "white",
            "showgrid": true,
            "tickcolor": "rgb(51,51,51)",
            "ticks": "outside"
           }
          },
          "scene": {
           "xaxis": {
            "backgroundcolor": "rgb(237,237,237)",
            "gridcolor": "white",
            "gridwidth": 2,
            "linecolor": "white",
            "showbackground": true,
            "showgrid": true,
            "tickcolor": "rgb(51,51,51)",
            "ticks": "outside",
            "zerolinecolor": "white"
           },
           "yaxis": {
            "backgroundcolor": "rgb(237,237,237)",
            "gridcolor": "white",
            "gridwidth": 2,
            "linecolor": "white",
            "showbackground": true,
            "showgrid": true,
            "tickcolor": "rgb(51,51,51)",
            "ticks": "outside",
            "zerolinecolor": "white"
           },
           "zaxis": {
            "backgroundcolor": "rgb(237,237,237)",
            "gridcolor": "white",
            "gridwidth": 2,
            "linecolor": "white",
            "showbackground": true,
            "showgrid": true,
            "tickcolor": "rgb(51,51,51)",
            "ticks": "outside",
            "zerolinecolor": "white"
           }
          },
          "shapedefaults": {
           "fillcolor": "black",
           "line": {
            "width": 0
           },
           "opacity": 0.3
          },
          "ternary": {
           "aaxis": {
            "gridcolor": "white",
            "linecolor": "white",
            "showgrid": true,
            "tickcolor": "rgb(51,51,51)",
            "ticks": "outside"
           },
           "baxis": {
            "gridcolor": "white",
            "linecolor": "white",
            "showgrid": true,
            "tickcolor": "rgb(51,51,51)",
            "ticks": "outside"
           },
           "bgcolor": "rgb(237,237,237)",
           "caxis": {
            "gridcolor": "white",
            "linecolor": "white",
            "showgrid": true,
            "tickcolor": "rgb(51,51,51)",
            "ticks": "outside"
           }
          },
          "xaxis": {
           "automargin": true,
           "gridcolor": "white",
           "linecolor": "white",
           "showgrid": true,
           "tickcolor": "rgb(51,51,51)",
           "ticks": "outside",
           "title": {
            "standoff": 15
           },
           "zerolinecolor": "white"
          },
          "yaxis": {
           "automargin": true,
           "gridcolor": "white",
           "linecolor": "white",
           "showgrid": true,
           "tickcolor": "rgb(51,51,51)",
           "ticks": "outside",
           "title": {
            "standoff": 15
           },
           "zerolinecolor": "white"
          }
         }
        },
        "legend": {
         "orientation": "h",
         "yanchor": "top",
         "y": 1.02,
         "xanchor": "left",
         "x": 1
        },
        "margin": {
         "r": 20,
         "l": 10,
         "b": 10,
         "t": 10
        },
        "width": 1000,
        "height": 800,
        "scene": {
         "xaxis": {
          "title": {
           "text": "Pulse Width (msec)"
          }
         },
         "yaxis": {
          "title": {
           "text": "Energy density new cone (J/cm^2)"
          }
         },
         "zaxis": {
          "title": {
           "text": "2 Qsw/(U+|D|) 1e6"
          }
         },
         "camera": {
          "up": {
           "x": 0,
           "y": 0,
           "z": 1
          },
          "center": {
           "x": 0,
           "y": 0,
           "z": 0
          },
          "eye": {
           "x": 2.75,
           "y": 1.75,
           "z": 1
          }
         }
        }
       },
       "config": {
        "plotlyServerURL": "https://plot.ly"
       }
      }
     },
     "metadata": {}
    }
   ],
   "metadata": {}
  },
  {
   "cell_type": "code",
   "execution_count": 268,
   "source": [
    "import plotly.graph_objects as go\n",
    "def vis_acq(train_x, train_y, test_grid, pred_labels, upper_surf, lower_surf, acqs):\n",
    "    fig = go.Figure(data=[go.Surface(z=pred_labels.numpy(), \n",
    "                                    x=test_grid[:,0],\n",
    "                                    y=test_grid[:,1],\n",
    "                                    opacity = 0.8,\n",
    "                                    colorscale = \"Burg\",\n",
    "                                    colorbar=dict(thickness=15, len=0.5),\n",
    "                                    name='GP regression')])\n",
    "\n",
    "    fig.add_trace(go.Surface(z=upper_surf, x=test_grid[:,0],\n",
    "                    y=test_grid[:,1], opacity=0.2, colorscale = \"Burg\", showscale=False))\n",
    "\n",
    "    fig.add_trace(go.Surface(z=lower_surf, x=test_grid[:,0],\n",
    "                            y=test_grid[:,1], \n",
    "                            colorscale = \"Burg\",\n",
    "                            opacity=0.2, showscale=False))\n",
    "    fig.add_trace(go.Scatter3d(x=train_x[:,0], \n",
    "                                y=train_x[:,1], \n",
    "                                z=train_y.numpy(), \n",
    "                                mode='markers', \n",
    "                                name='training data', \n",
    "                                marker={'color':'#72356c'}))\n",
    "    \n",
    "    for acq_name, acq_val in acqs.items():\n",
    "        fig.add_trace(go.Scatter3d(x=[test_grid[acq_val[1], 0]], \n",
    "                                y=[test_grid[acq_val[0], 1]],\n",
    "                                z=[pred_labels[acq_val[0], acq_val[1]]], mode='markers', \n",
    "                                name='max(' + acq_name + ')')) \n",
    "\n",
    "    fig.update_layout(width=1200, height=750,\n",
    "                    margin=dict(r=20, l=10, b=15, t=10),\n",
    "                    legend=dict(orientation=\"h\", yanchor=\"bottom\", \n",
    "                                y=0.9, xanchor=\"right\",x=0.85),\n",
    "                    scene=dict(\n",
    "                        xaxis_title=\"Pulse Width (msec)\",\n",
    "                        yaxis_title=\"Energy density new cone (J/cm^2)\",\n",
    "                        zaxis_title='2 Qsw/(U+|D|) 1e6')\n",
    "                    )\n",
    "\n",
    "    fig.update_layout(template=\"ggplot2\")\n",
    "    camera = dict(\n",
    "    up=dict(x=0, y=0, z=1),\n",
    "    center=dict(x=0, y=0, z=0),\n",
    "    eye=dict(x=2, y=0.3, z=0.75))\n",
    "\n",
    "    fig.update_layout(scene_camera=camera)\n",
    "\n",
    "    fig.show()\n",
    "    # fig.write_image(\"output_plot.png\", format = \"png\", scale=3)"
   ],
   "outputs": [],
   "metadata": {}
  },
  {
   "cell_type": "code",
   "execution_count": 269,
   "source": [
    "vis_acq(raw_train_x, train_y, raw_test_grid, pred_labels, upper_surf, lower_surf, acqs)"
   ],
   "outputs": [
    {
     "output_type": "display_data",
     "data": {
      "application/vnd.plotly.v1+json": {
       "data": [
        {
         "colorbar": {
          "len": 0.5,
          "thickness": 15
         },
         "colorscale": [
          [
           0,
           "rgb(255, 198, 196)"
          ],
          [
           0.16666666666666666,
           "rgb(244, 163, 168)"
          ],
          [
           0.3333333333333333,
           "rgb(227, 129, 145)"
          ],
          [
           0.5,
           "rgb(204, 96, 125)"
          ],
          [
           0.6666666666666666,
           "rgb(173, 70, 108)"
          ],
          [
           0.8333333333333334,
           "rgb(139, 48, 88)"
          ],
          [
           1,
           "rgb(103, 32, 68)"
          ]
         ],
         "name": "GP regression",
         "opacity": 0.8,
         "x": [
          0.33928570710122585,
          0.5055418629199266,
          0.6717980187386274,
          0.8380541577935219,
          1.0043103471398354,
          1.1705665364861488,
          1.336822658777237,
          1.503078781068325,
          1.6693349033594131,
          1.8355910927057266,
          2.0018471479415894,
          2.168103337287903,
          2.3343595266342168,
          2.5006157159805302,
          2.6668719053268437,
          2.833128094673157,
          2.9993842840194707,
          3.165640473365784,
          3.3318966627120976,
          3.4981525838375096,
          3.664408773183823,
          3.8306649625301366,
          3.99692115187645,
          4.163177341222764,
          4.329433262348176,
          4.495689451694489,
          4.661945641040803,
          4.828201830387116,
          4.99445801973343,
          5.160714209079743
         ],
         "y": [
          2.276071443020234,
          2.745652702469288,
          3.215233961918342,
          3.684815174018958,
          4.154396528164888,
          4.623977882310818,
          5.093559047062996,
          5.563140211815174,
          6.032721376567352,
          6.502302730713282,
          6.971883706071708,
          7.441465060217638,
          7.911046414363568,
          8.380627768509498,
          8.850209122655428,
          9.319790476801359,
          9.789371830947289,
          10.258953185093219,
          10.72853453923915,
          11.19811513581007,
          11.667696489956,
          12.13727784410193,
          12.60685919824786,
          13.076440552393791,
          13.546021148964712,
          14.015602503110642,
          14.485183857256573,
          14.954765211402503,
          15.424346565548433,
          15.893927919694363
         ],
         "z": [
          [
           2.367772102355957,
           2.0474085807800293,
           2.379706621170044,
           2.446869373321533,
           2.448596477508545,
           2.45436954498291,
           2.4584271907806396,
           2.459273338317871,
           2.459331512451172,
           2.4592807292938232,
           2.459254741668701,
           2.4592480659484863,
           2.45924711227417,
           2.459246873855591,
           2.459246873855591,
           2.459246873855591,
           2.459246873855591,
           2.459246873855591,
           2.459246873855591,
           2.459246873855591,
           2.459246873855591,
           2.459246873855591,
           2.459246873855591,
           2.459246873855591,
           2.459246873855591,
           2.459246873855591,
           2.459246873855591,
           2.459246873855591,
           2.459246873855591,
           2.459246873855591
          ],
          [
           2.340399980545044,
           1.12138032913208,
           2.3566575050354004,
           2.4353182315826416,
           2.420919418334961,
           2.4451472759246826,
           2.457643747329712,
           2.4595727920532227,
           2.4595673084259033,
           2.4593517780303955,
           2.4592673778533936,
           2.45924973487854,
           2.45924711227417,
           2.459246873855591,
           2.459246873855591,
           2.459246873855591,
           2.459246873855591,
           2.459246873855591,
           2.459246873855591,
           2.459246873855591,
           2.459246873855591,
           2.459246873855591,
           2.459246873855591,
           2.459246873855591,
           2.459246873855591,
           2.459246873855591,
           2.459246873855591,
           2.459246873855591,
           2.459246873855591,
           2.459246873855591
          ],
          [
           2.381720781326294,
           2.31235671043396,
           2.3869380950927734,
           2.4134747982025146,
           2.3176043033599854,
           2.4259612560272217,
           2.4571382999420166,
           2.460923910140991,
           2.4603841304779053,
           2.4595494270324707,
           2.4592957496643066,
           2.4592525959014893,
           2.459247350692749,
           2.459246873855591,
           2.459246873855591,
           2.459246873855591,
           2.459246873855591,
           2.459246873855591,
           2.459246873855591,
           2.459246873855591,
           2.459246873855591,
           2.459246873855591,
           2.459246873855591,
           2.459246873855591,
           2.459246873855591,
           2.459246873855591,
           2.459246873855591,
           2.4592466354370117,
           2.4592466354370117,
           2.4592466354370117
          ],
          [
           2.388836622238159,
           2.3804221153259277,
           2.390958070755005,
           2.3909826278686523,
           1.9332712888717651,
           2.4077773094177246,
           2.459089756011963,
           2.466273069381714,
           2.4630396366119385,
           2.46003794670105,
           2.459351062774658,
           2.459257125854492,
           2.459247350692749,
           2.4592466354370117,
           2.459246873855591,
           2.459246873855591,
           2.459246873855591,
           2.459246873855591,
           2.459246873855591,
           2.459246873855591,
           2.459246873855591,
           2.459246873855591,
           2.459246873855591,
           2.459246873855591,
           2.459246873855591,
           2.459246873855591,
           2.4592466354370117,
           2.4592463970184326,
           2.4592463970184326,
           2.4592463970184326
          ],
          [
           2.3281595706939697,
           1.7415690422058105,
           2.3431434631347656,
           2.400599241256714,
           2.2058160305023193,
           2.418349266052246,
           2.4679834842681885,
           2.4865219593048096,
           2.470846652984619,
           2.461045026779175,
           2.459437608718872,
           2.459261178970337,
           2.4592463970184326,
           2.4592463970184326,
           2.4592466354370117,
           2.459246873855591,
           2.459246873855591,
           2.459246873855591,
           2.459246873855591,
           2.459246873855591,
           2.459246873855591,
           2.459246873855591,
           2.459246873855591,
           2.459246873855591,
           2.459246873855591,
           2.4592466354370117,
           2.4592461585998535,
           2.459245204925537,
           2.459244728088379,
           2.459245204925537
          ],
          [
           2.311509370803833,
           1.1973938941955566,
           2.3321118354797363,
           2.4294044971466064,
           2.3982300758361816,
           2.4452366828918457,
           2.4900383949279785,
           2.5623714923858643,
           2.489452838897705,
           2.462590456008911,
           2.4595329761505127,
           2.4592573642730713,
           2.4592416286468506,
           2.459244728088379,
           2.4592463970184326,
           2.459246873855591,
           2.459246873855591,
           2.459246873855591,
           2.459246873855591,
           2.459246873855591,
           2.459246873855591,
           2.459246873855591,
           2.459246873855591,
           2.459246873855591,
           2.4592466354370117,
           2.4592461585998535,
           2.4592440128326416,
           2.4592409133911133,
           2.4592387676239014,
           2.459240674972534
          ],
          [
           2.3711607456207275,
           1.9017586708068848,
           2.3837087154388428,
           2.4564924240112305,
           2.4690847396850586,
           2.4689345359802246,
           2.5216848850250244,
           2.8460781574249268,
           2.5156331062316895,
           2.4639649391174316,
           2.4595603942871094,
           2.459221124649048,
           2.4592249393463135,
           2.459240436553955,
           2.4592456817626953,
           2.4592466354370117,
           2.459246873855591,
           2.459246873855591,
           2.459246873855591,
           2.459246873855591,
           2.459246873855591,
           2.459246873855591,
           2.459246873855591,
           2.459246873855591,
           2.4592463970184326,
           2.4592444896698,
           2.459237575531006,
           2.4592249393463135,
           2.459216594696045,
           2.459223985671997
          ],
          [
           2.4307169914245605,
           2.5684287548065186,
           2.437140941619873,
           2.489870309829712,
           2.5602493286132812,
           2.4959728717803955,
           2.527395486831665,
           2.9215989112854004,
           2.5182158946990967,
           2.463948965072632,
           2.459355354309082,
           2.4590721130371094,
           2.4591705799102783,
           2.459228277206421,
           2.4592435359954834,
           2.4592463970184326,
           2.459246873855591,
           2.459246873855591,
           2.459246873855591,
           2.459246873855591,
           2.459246873855591,
           2.459246873855591,
           2.459246873855591,
           2.4592466354370117,
           2.4592456817626953,
           2.459239959716797,
           2.4592173099517822,
           2.4591681957244873,
           2.4591333866119385,
           2.4591643810272217
          ],
          [
           2.4570229053497314,
           2.4894859790802,
           2.4632480144500732,
           2.5352728366851807,
           2.8545007705688477,
           2.531841516494751,
           2.5018818378448486,
           2.583529472351074,
           2.493041753768921,
           2.462193727493286,
           2.4584827423095703,
           2.458540916442871,
           2.4590044021606445,
           2.4591965675354004,
           2.4592392444610596,
           2.4592459201812744,
           2.459246873855591,
           2.459246873855591,
           2.459246873855591,
           2.459246873855591,
           2.459246873855591,
           2.459246873855591,
           2.459246873855591,
           2.4592466354370117,
           2.4592440128326416,
           2.459228277206421,
           2.459155321121216,
           2.4589684009552,
           2.4588212966918945,
           2.458953619003296
          ],
          [
           2.460541009902954,
           2.467864751815796,
           2.4682230949401855,
           2.552619695663452,
           3.433344841003418,
           2.544255256652832,
           2.4816699028015137,
           2.494396686553955,
           2.4730470180511475,
           2.458967447280884,
           2.45536208152771,
           2.4567201137542725,
           2.4585304260253906,
           2.4591221809387207,
           2.459230422973633,
           2.459244966506958,
           2.4592466354370117,
           2.459246873855591,
           2.459246873855591,
           2.459246873855591,
           2.459246873855591,
           2.459246873855591,
           2.459246873855591,
           2.4592461585998535,
           2.4592409133911133,
           2.4592010974884033,
           2.458979845046997,
           2.4582841396331787,
           2.457651138305664,
           2.458223342895508
          ],
          [
           2.460015058517456,
           2.462048053741455,
           2.467400074005127,
           2.525899887084961,
           2.592433214187622,
           2.521578073501587,
           2.4745242595672607,
           2.474973440170288,
           2.4655511379241943,
           2.452329158782959,
           2.4439175128936768,
           2.450728416442871,
           2.4573049545288086,
           2.4589669704437256,
           2.459214687347412,
           2.4592435359954834,
           2.4592466354370117,
           2.459246873855591,
           2.459246873855591,
           2.459246873855591,
           2.459246873855591,
           2.459246873855591,
           2.459246873855591,
           2.4592456817626953,
           2.459235429763794,
           2.4591453075408936,
           2.458528757095337,
           2.456035852432251,
           2.4532649517059326,
           2.455789089202881
          ],
          [
           2.459561347961426,
           2.4604239463806152,
           2.466075897216797,
           2.5204830169677734,
           2.7385153770446777,
           2.5170233249664307,
           2.4793903827667236,
           2.4864418506622314,
           2.4681236743927,
           2.4343032836914062,
           2.4011478424072266,
           2.4324440956115723,
           2.4545750617980957,
           2.458693742752075,
           2.45919132232666,
           2.4592418670654297,
           2.4592463970184326,
           2.459246873855591,
           2.459246873855591,
           2.459246873855591,
           2.459246873855591,
           2.459246873855591,
           2.4592466354370117,
           2.459245204925537,
           2.4592273235321045,
           2.4590492248535156,
           2.4575374126434326,
           2.449205160140991,
           2.436823844909668,
           2.448230504989624
          ],
          [
           2.45937442779541,
           2.459897518157959,
           2.4647750854492188,
           2.5178472995758057,
           2.9074249267578125,
           2.51669979095459,
           2.5030481815338135,
           2.5526621341705322,
           2.4861302375793457,
           2.387098550796509,
           2.24064564704895,
           2.384855270385742,
           2.449758291244507,
           2.458312749862671,
           2.4591634273529053,
           2.4592397212982178,
           2.4592463970184326,
           2.459246873855591,
           2.459246873855591,
           2.459246873855591,
           2.459246873855591,
           2.459246873855591,
           2.4592466354370117,
           2.4592444896698,
           2.4592180252075195,
           2.4589197635650635,
           2.455836772918701,
           2.43155574798584,
           2.3752150535583496,
           2.4280431270599365
          ],
          [
           2.4593050479888916,
           2.4596493244171143,
           2.463022470474243,
           2.4933018684387207,
           2.5799760818481445,
           2.49969482421875,
           2.5582494735717773,
           2.8082070350646973,
           2.5317890644073486,
           2.299816608428955,
           1.6385042667388916,
           2.2989461421966553,
           2.4439399242401123,
           2.4579405784606934,
           2.459139585494995,
           2.459238290786743,
           2.4592461585998535,
           2.459246873855591,
           2.459246873855591,
           2.459246873855591,
           2.459246873855591,
           2.459246873855591,
           2.4592466354370117,
           2.4592440128326416,
           2.4592103958129883,
           2.458801746368408,
           2.4539332389831543,
           2.40053391456604,
           2.144683837890625,
           2.390873670578003
          ],
          [
           2.4592764377593994,
           2.4594838619232178,
           2.461303234100342,
           2.4728758335113525,
           2.4922735691070557,
           2.484636068344116,
           2.619494676589966,
           3.7669215202331543,
           2.584245204925537,
           2.2344532012939453,
           0.7206236124038696,
           2.2351925373077393,
           2.440741777420044,
           2.457780599594116,
           2.4591314792633057,
           2.459237813949585,
           2.4592461585998535,
           2.459246873855591,
           2.459246873855591,
           2.459246873855591,
           2.459246873855591,
           2.459246873855591,
           2.4592466354370117,
           2.4592437744140625,
           2.459207773208618,
           2.4587602615356445,
           2.453183174133301,
           2.383791446685791,
           1.5880274772644043,
           2.369993209838867
          ],
          [
           2.4592623710632324,
           2.459371566772461,
           2.4601705074310303,
           2.4638326168060303,
           2.4687728881835938,
           2.4755053520202637,
           2.5981690883636475,
           3.226079225540161,
           2.569082736968994,
           2.269899368286133,
           0.7600705623626709,
           2.269524097442627,
           2.4433910846710205,
           2.4579739570617676,
           2.4591457843780518,
           2.4592387676239014,
           2.4592461585998535,
           2.459246873855591,
           2.459246873855591,
           2.459246873855591,
           2.459246873855591,
           2.459246873855591,
           2.4592466354370117,
           2.4592440128326416,
           2.459211826324463,
           2.458822727203369,
           2.4542953968048096,
           2.4075725078582764,
           2.221984386444092,
           2.399479627609253
          ],
          [
           2.459254741668701,
           2.4593050479888916,
           2.459608554840088,
           2.4606869220733643,
           2.4622795581817627,
           2.4686379432678223,
           2.528048276901245,
           2.6634485721588135,
           2.51418399810791,
           2.3901259899139404,
           2.2626466751098633,
           2.3858704566955566,
           2.4507031440734863,
           2.458454132080078,
           2.4591782093048096,
           2.4592411518096924,
           2.4592463970184326,
           2.459246873855591,
           2.459246873855591,
           2.459246873855591,
           2.459246873855591,
           2.459246873855591,
           2.4592466354370117,
           2.4592444896698,
           2.4592201709747314,
           2.458949327468872,
           2.4562530517578125,
           2.4366061687469482,
           2.3959014415740967,
           2.433899402618408
          ],
          [
           2.4592504501342773,
           2.4592714309692383,
           2.459376335144043,
           2.459693193435669,
           2.460324287414551,
           2.4638028144836426,
           2.4845428466796875,
           2.513683557510376,
           2.4819509983062744,
           2.4806325435638428,
           2.898603677749634,
           2.4751574993133545,
           2.4580776691436768,
           2.4589920043945312,
           2.459216594696045,
           2.4592437744140625,
           2.4592466354370117,
           2.459246873855591,
           2.459246873855591,
           2.459246873855591,
           2.459246873855591,
           2.459246873855591,
           2.4592466354370117,
           2.459245204925537,
           2.4592297077178955,
           2.4590752124786377,
           2.4578163623809814,
           2.4513370990753174,
           2.4423716068267822,
           2.450608015060425
          ],
          [
           2.4592485427856445,
           2.459256410598755,
           2.4592909812927246,
           2.459388017654419,
           2.459655284881592,
           2.4611380100250244,
           2.4673657417297363,
           2.4739878177642822,
           2.4705066680908203,
           2.5145304203033447,
           2.684431791305542,
           2.5100746154785156,
           2.4625437259674072,
           2.459383249282837,
           2.459247589111328,
           2.4592461585998535,
           2.459246873855591,
           2.459246873855591,
           2.459246873855591,
           2.459246873855591,
           2.459246873855591,
           2.459246873855591,
           2.459246873855591,
           2.4592459201812744,
           2.459237813949585,
           2.4591658115386963,
           2.4586849212646484,
           2.4568257331848145,
           2.4548451900482178,
           2.45664644241333
          ],
          [
           2.459247589111328,
           2.4592504501342773,
           2.459261417388916,
           2.4592931270599365,
           2.459402561187744,
           2.459947109222412,
           2.461697578430176,
           2.463469982147217,
           2.4665286540985107,
           2.525437355041504,
           3.011077642440796,
           2.5212228298187256,
           2.463911771774292,
           2.459557056427002,
           2.4592649936676025,
           2.4592478275299072,
           2.459246873855591,
           2.459246873855591,
           2.459246873855591,
           2.459246873855591,
           2.459246873855591,
           2.459246873855591,
           2.459246873855591,
           2.4592466354370117,
           2.4592437744140625,
           2.4592227935791016,
           2.4591054916381836,
           2.4587531089782715,
           2.4584474563598633,
           2.458723306655884
          ],
          [
           2.45924711227417,
           2.4592480659484863,
           2.459251642227173,
           2.4592626094818115,
           2.4593048095703125,
           2.459486722946167,
           2.459972620010376,
           2.46061110496521,
           2.4639229774475098,
           2.499490976333618,
           2.606525182723999,
           2.4974565505981445,
           2.4630348682403564,
           2.459554433822632,
           2.4592692852020264,
           2.4592483043670654,
           2.459246873855591,
           2.459246873855591,
           2.459246873855591,
           2.459246873855591,
           2.459246873855591,
           2.459246873855591,
           2.459246873855591,
           2.45924711227417,
           2.4592490196228027,
           2.4592649936676025,
           2.459376096725464,
           2.459859848022461,
           2.4604382514953613,
           2.4599099159240723
          ],
          [
           2.459246873855591,
           2.459247350692749,
           2.4592485427856445,
           2.45925235748291,
           2.4592676162719727,
           2.4593253135681152,
           2.4594650268554688,
           2.4597558975219727,
           2.4617536067962646,
           2.475490093231201,
           2.498535633087158,
           2.474853277206421,
           2.461452007293701,
           2.4594669342041016,
           2.45926570892334,
           2.4592483043670654,
           2.459246873855591,
           2.459246873855591,
           2.459246873855591,
           2.459246873855591,
           2.459246873855591,
           2.459246873855591,
           2.459246873855591,
           2.4592478275299072,
           2.4592549800872803,
           2.459315061569214,
           2.459735870361328,
           2.461792230606079,
           2.464829921722412,
           2.4620285034179688
          ],
          [
           2.459246873855591,
           2.45924711227417,
           2.459247350692749,
           2.4592487812042236,
           2.459254026412964,
           2.4592719078063965,
           2.459315299987793,
           2.459453582763672,
           2.460364818572998,
           2.4646830558776855,
           2.4697275161743164,
           2.464512348175049,
           2.4602670669555664,
           2.4593732357025146,
           2.459259510040283,
           2.4592480659484863,
           2.459246873855591,
           2.459246873855591,
           2.459246873855591,
           2.459246873855591,
           2.459246873855591,
           2.459246873855591,
           2.45924711227417,
           2.4592485427856445,
           2.459263324737549,
           2.4593942165374756,
           2.4604055881500244,
           2.4665844440460205,
           2.4804670810699463,
           2.4674301147460938
          ],
          [
           2.459246873855591,
           2.459246873855591,
           2.45924711227417,
           2.459247589111328,
           2.459249258041382,
           2.459254741668701,
           2.4592697620391846,
           2.4593310356140137,
           2.4596810340881348,
           2.460911989212036,
           2.4620425701141357,
           2.4608683586120605,
           2.459650754928589,
           2.459308624267578,
           2.459254026412964,
           2.459247589111328,
           2.459246873855591,
           2.459246873855591,
           2.459246873855591,
           2.459246873855591,
           2.459246873855591,
           2.459246873855591,
           2.45924711227417,
           2.459249496459961,
           2.459275245666504,
           2.4595224857330322,
           2.4616150856018066,
           2.4763643741607666,
           2.5387117862701416,
           2.4786553382873535
          ],
          [
           2.459246873855591,
           2.459246873855591,
           2.459246873855591,
           2.45924711227417,
           2.459247589111328,
           2.459249496459961,
           2.459254741668701,
           2.459279775619507,
           2.459399938583374,
           2.459733724594116,
           2.4599926471710205,
           2.4597227573394775,
           2.4593911170959473,
           2.45927357673645,
           2.4592504501342773,
           2.459247350692749,
           2.459246873855591,
           2.459246873855591,
           2.459246873855591,
           2.459246873855591,
           2.459246873855591,
           2.459246873855591,
           2.45924711227417,
           2.4592509269714355,
           2.4592907428741455,
           2.459709882736206,
           2.4636313915252686,
           2.492290735244751,
           2.604322910308838,
           2.496554136276245
          ],
          [
           2.459246873855591,
           2.459246873855591,
           2.459246873855591,
           2.459246873855591,
           2.45924711227417,
           2.459247589111328,
           2.45924973487854,
           2.459259033203125,
           2.4592974185943604,
           2.459385395050049,
           2.4594457149505615,
           2.4593827724456787,
           2.4592947959899902,
           2.4592573642730713,
           2.4592485427856445,
           2.45924711227417,
           2.459246873855591,
           2.459246873855591,
           2.459246873855591,
           2.459246873855591,
           2.459246873855591,
           2.459246873855591,
           2.459247350692749,
           2.459252119064331,
           2.4593076705932617,
           2.459937572479248,
           2.4665684700012207,
           2.5235705375671387,
           2.690096855163574,
           2.532461643218994
          ],
          [
           2.459246873855591,
           2.459246873855591,
           2.459246873855591,
           2.459246873855591,
           2.459246873855591,
           2.45924711227417,
           2.4592478275299072,
           2.4592511653900146,
           2.4592628479003906,
           2.4592857360839844,
           2.4593000411987305,
           2.459285020828247,
           2.4592621326446533,
           2.4592506885528564,
           2.459247589111328,
           2.459246873855591,
           2.459246873855591,
           2.459246873855591,
           2.459246873855591,
           2.459246873855591,
           2.459246873855591,
           2.459246873855591,
           2.459247350692749,
           2.4592530727386475,
           2.4593210220336914,
           2.460134983062744,
           2.469573736190796,
           2.5711781978607178,
           3.237631320953369,
           2.589803457260132
          ],
          [
           2.459246873855591,
           2.459246873855591,
           2.459246873855591,
           2.459246873855591,
           2.459246873855591,
           2.459246873855591,
           2.459247350692749,
           2.4592483043670654,
           2.459251642227173,
           2.4592576026916504,
           2.459260940551758,
           2.4592573642730713,
           2.4592514038085938,
           2.4592483043670654,
           2.45924711227417,
           2.459246873855591,
           2.459246873855591,
           2.459246873855591,
           2.459246873855591,
           2.459246873855591,
           2.459246873855591,
           2.459246873855591,
           2.459247350692749,
           2.4592533111572266,
           2.4593255519866943,
           2.460207939147949,
           2.4707858562469482,
           2.590935230255127,
           3.372004508972168,
           2.613384485244751
          ],
          [
           2.459246873855591,
           2.459246873855591,
           2.459246873855591,
           2.459246873855591,
           2.459246873855591,
           2.459246873855591,
           2.45924711227417,
           2.459247350692749,
           2.4592483043670654,
           2.45924973487854,
           2.4592506885528564,
           2.45924973487854,
           2.4592483043670654,
           2.459247350692749,
           2.459246873855591,
           2.459246873855591,
           2.459246873855591,
           2.459246873855591,
           2.459246873855591,
           2.459246873855591,
           2.459246873855591,
           2.459246873855591,
           2.459247350692749,
           2.4592528343200684,
           2.4593193531036377,
           2.4601128101348877,
           2.469291925430298,
           2.566356658935547,
           3.3353185653686523,
           2.5838518142700195
          ],
          [
           2.459246873855591,
           2.459246873855591,
           2.459246873855591,
           2.459246873855591,
           2.459246873855591,
           2.459246873855591,
           2.459246873855591,
           2.45924711227417,
           2.459247350692749,
           2.459247589111328,
           2.4592478275299072,
           2.459247589111328,
           2.459247350692749,
           2.45924711227417,
           2.459246873855591,
           2.459246873855591,
           2.459246873855591,
           2.459246873855591,
           2.459246873855591,
           2.459246873855591,
           2.459246873855591,
           2.459246873855591,
           2.459247350692749,
           2.459251880645752,
           2.4593045711517334,
           2.459897518157959,
           2.466118812561035,
           2.5209805965423584,
           2.719386339187622,
           2.529878616333008
          ]
         ],
         "type": "surface"
        },
        {
         "colorscale": [
          [
           0,
           "rgb(255, 198, 196)"
          ],
          [
           0.16666666666666666,
           "rgb(244, 163, 168)"
          ],
          [
           0.3333333333333333,
           "rgb(227, 129, 145)"
          ],
          [
           0.5,
           "rgb(204, 96, 125)"
          ],
          [
           0.6666666666666666,
           "rgb(173, 70, 108)"
          ],
          [
           0.8333333333333334,
           "rgb(139, 48, 88)"
          ],
          [
           1,
           "rgb(103, 32, 68)"
          ]
         ],
         "opacity": 0.2,
         "showscale": false,
         "x": [
          0.33928570710122585,
          0.5055418629199266,
          0.6717980187386274,
          0.8380541577935219,
          1.0043103471398354,
          1.1705665364861488,
          1.336822658777237,
          1.503078781068325,
          1.6693349033594131,
          1.8355910927057266,
          2.0018471479415894,
          2.168103337287903,
          2.3343595266342168,
          2.5006157159805302,
          2.6668719053268437,
          2.833128094673157,
          2.9993842840194707,
          3.165640473365784,
          3.3318966627120976,
          3.4981525838375096,
          3.664408773183823,
          3.8306649625301366,
          3.99692115187645,
          4.163177341222764,
          4.329433262348176,
          4.495689451694489,
          4.661945641040803,
          4.828201830387116,
          4.99445801973343,
          5.160714209079743
         ],
         "y": [
          2.276071443020234,
          2.745652702469288,
          3.215233961918342,
          3.684815174018958,
          4.154396528164888,
          4.623977882310818,
          5.093559047062996,
          5.563140211815174,
          6.032721376567352,
          6.502302730713282,
          6.971883706071708,
          7.441465060217638,
          7.911046414363568,
          8.380627768509498,
          8.850209122655428,
          9.319790476801359,
          9.789371830947289,
          10.258953185093219,
          10.72853453923915,
          11.19811513581007,
          11.667696489956,
          12.13727784410193,
          12.60685919824786,
          13.076440552393791,
          13.546021148964712,
          14.015602503110642,
          14.485183857256573,
          14.954765211402503,
          15.424346565548433,
          15.893927919694363
         ],
         "z": [
          [
           4.873485565185547,
           4.4711432456970215,
           4.886590480804443,
           4.957065105438232,
           4.958662986755371,
           4.964604377746582,
           4.9687113761901855,
           4.969559192657471,
           4.9696173667907715,
           4.969566345214844,
           4.969540596008301,
           4.969533920288086,
           4.9695329666137695,
           4.9695329666137695,
           4.9695329666137695,
           4.9695329666137695,
           4.9695329666137695,
           4.9695329666137695,
           4.9695329666137695,
           4.9695329666137695,
           4.9695329666137695,
           4.9695329666137695,
           4.9695329666137695,
           4.9695329666137695,
           4.9695329666137695,
           4.9695329666137695,
           4.9695329666137695,
           4.9695329666137695,
           4.9695329666137695,
           4.9695329666137695
          ],
          [
           4.840937614440918,
           2.437605619430542,
           4.859884262084961,
           4.945034503936768,
           4.928126335144043,
           4.9549970626831055,
           4.967921257019043,
           4.969858169555664,
           4.969853401184082,
           4.969637870788574,
           4.969552993774414,
           4.969535827636719,
           4.9695329666137695,
           4.9695329666137695,
           4.9695329666137695,
           4.9695329666137695,
           4.9695329666137695,
           4.9695329666137695,
           4.9695329666137695,
           4.9695329666137695,
           4.9695329666137695,
           4.9695329666137695,
           4.9695329666137695,
           4.9695329666137695,
           4.9695329666137695,
           4.9695329666137695,
           4.9695329666137695,
           4.9695329666137695,
           4.9695329666137695,
           4.9695329666137695
          ],
          [
           4.881645202636719,
           4.364279747009277,
           4.889647483825684,
           4.920637607574463,
           4.784309387207031,
           4.933788299560547,
           4.967397689819336,
           4.971203327178955,
           4.970667839050293,
           4.96983528137207,
           4.969581604003906,
           4.969538688659668,
           4.9695329666137695,
           4.9695329666137695,
           4.9695329666137695,
           4.9695329666137695,
           4.9695329666137695,
           4.9695329666137695,
           4.9695329666137695,
           4.9695329666137695,
           4.9695329666137695,
           4.9695329666137695,
           4.9695329666137695,
           4.9695329666137695,
           4.9695329666137695,
           4.9695329666137695,
           4.9695329666137695,
           4.969532489776611,
           4.969532489776611,
           4.969532489776611
          ],
          [
           4.891247749328613,
           4.652841567993164,
           4.895378112792969,
           4.893411636352539,
           3.7462592124938965,
           4.912046432495117,
           4.969310283660889,
           4.976470470428467,
           4.973301887512207,
           4.970322608947754,
           4.969636917114258,
           4.969542980194092,
           4.9695329666137695,
           4.969532489776611,
           4.9695329666137695,
           4.9695329666137695,
           4.9695329666137695,
           4.9695329666137695,
           4.9695329666137695,
           4.9695329666137695,
           4.9695329666137695,
           4.9695329666137695,
           4.9695329666137695,
           4.9695329666137695,
           4.9695329666137695,
           4.9695329666137695,
           4.969532489776611,
           4.969532012939453,
           4.969532012939453,
           4.969532012939453
          ],
          [
           4.830872535705566,
           4.086617469787598,
           4.847738265991211,
           4.90546989440918,
           4.57093620300293,
           4.9244232177734375,
           4.977989196777344,
           4.995564937591553,
           4.9809112548828125,
           4.971325874328613,
           4.969723701477051,
           4.969547271728516,
           4.969532012939453,
           4.969532012939453,
           4.969532489776611,
           4.9695329666137695,
           4.9695329666137695,
           4.9695329666137695,
           4.9695329666137695,
           4.9695329666137695,
           4.9695329666137695,
           4.9695329666137695,
           4.9695329666137695,
           4.9695329666137695,
           4.9695329666137695,
           4.969532489776611,
           4.969532012939453,
           4.969531059265137,
           4.9695305824279785,
           4.969531059265137
          ],
          [
           4.809725284576416,
           2.950953483581543,
           4.833619117736816,
           4.938379287719727,
           4.898404121398926,
           4.954473495483398,
           4.9985809326171875,
           5.055136680603027,
           4.9982428550720215,
           4.97285795211792,
           4.969819068908691,
           4.96954345703125,
           4.969527244567871,
           4.9695305824279785,
           4.969532012939453,
           4.9695329666137695,
           4.9695329666137695,
           4.9695329666137695,
           4.9695329666137695,
           4.9695329666137695,
           4.9695329666137695,
           4.9695329666137695,
           4.9695329666137695,
           4.9695329666137695,
           4.969532489776611,
           4.969532012939453,
           4.96953010559082,
           4.969526767730713,
           4.969524383544922,
           4.969526290893555
          ],
          [
           4.868460655212402,
           3.708784580230713,
           4.884572505950928,
           4.966415882110596,
           4.978092193603516,
           4.9789228439331055,
           5.025727272033691,
           5.098092079162598,
           5.020707130432129,
           4.974213600158691,
           4.969845771789551,
           4.969507217407227,
           4.969511032104492,
           4.969526290893555,
           4.969531536102295,
           4.969532489776611,
           4.9695329666137695,
           4.9695329666137695,
           4.9695329666137695,
           4.9695329666137695,
           4.9695329666137695,
           4.9695329666137695,
           4.9695329666137695,
           4.9695329666137695,
           4.969532012939453,
           4.96953010559082,
           4.9695234298706055,
           4.969511032104492,
           4.9695024490356445,
           4.969510078430176
          ],
          [
           4.932253837585449,
           4.679140090942383,
           4.941036224365234,
           4.999032020568848,
           5.0625691413879395,
           5.005318641662598,
           5.030830383300781,
           5.053869724273682,
           5.022805690765381,
           4.974195957183838,
           4.969640731811523,
           4.969357967376709,
           4.969456672668457,
           4.969513893127441,
           4.969529151916504,
           4.969532012939453,
           4.9695329666137695,
           4.9695329666137695,
           4.9695329666137695,
           4.9695329666137695,
           4.9695329666137695,
           4.9695329666137695,
           4.9695329666137695,
           4.969532489776611,
           4.969531536102295,
           4.9695258140563965,
           4.969503402709961,
           4.969453811645508,
           4.969419479370117,
           4.969449996948242
          ],
          [
           4.964831829071045,
           4.973240852355957,
           4.971586227416992,
           5.04035758972168,
           5.251338958740234,
           5.037998676300049,
           5.009971618652344,
           5.068760395050049,
           5.001467704772949,
           4.972458839416504,
           4.968768119812012,
           4.968826770782471,
           4.969290256500244,
           4.969482421875,
           4.969525337219238,
           4.969532012939453,
           4.9695329666137695,
           4.9695329666137695,
           4.9695329666137695,
           4.9695329666137695,
           4.9695329666137695,
           4.9695329666137695,
           4.9695329666137695,
           4.969532489776611,
           4.96953010559082,
           4.969513893127441,
           4.9694414138793945,
           4.969254493713379,
           4.969107151031494,
           4.969239234924316
          ],
          [
           4.970460891723633,
           4.976269245147705,
           4.97813606262207,
           5.05224084854126,
           4.956412315368652,
           5.046283721923828,
           4.991568565368652,
           5.002906799316406,
           4.983039379119873,
           4.969245433807373,
           4.965643882751465,
           4.967004776000977,
           4.96881628036499,
           4.96940803527832,
           4.969516277313232,
           4.969531059265137,
           4.969532489776611,
           4.9695329666137695,
           4.9695329666137695,
           4.9695329666137695,
           4.9695329666137695,
           4.9695329666137695,
           4.9695329666137695,
           4.969532012939453,
           4.969526767730713,
           4.969487190246582,
           4.969265937805176,
           4.968568801879883,
           4.967934608459473,
           4.968508243560791
          ],
          [
           4.970261573791504,
           4.972199440002441,
           4.97757625579834,
           5.027213096618652,
           4.7379279136657715,
           5.024807453155518,
           4.984710693359375,
           4.985119819641113,
           4.975799560546875,
           4.962596893310547,
           4.954148292541504,
           4.96099853515625,
           4.96759033203125,
           4.969252586364746,
           4.969500541687012,
           4.969529151916504,
           4.969532489776611,
           4.9695329666137695,
           4.9695329666137695,
           4.9695329666137695,
           4.9695329666137695,
           4.9695329666137695,
           4.9695329666137695,
           4.969531536102295,
           4.969521522521973,
           4.969430923461914,
           4.968813896179199,
           4.966310977935791,
           4.963513374328613,
           4.966062545776367
          ],
          [
           4.969843864440918,
           4.970699787139893,
           4.976290225982666,
           5.023134708404541,
           5.051295280456543,
           5.021271705627441,
           4.9895710945129395,
           4.996538162231445,
           4.978357315063477,
           4.944421768188477,
           4.910654067993164,
           4.942574501037598,
           4.96485710144043,
           4.968979835510254,
           4.96947717666626,
           4.969527721405029,
           4.969532012939453,
           4.9695329666137695,
           4.9695329666137695,
           4.9695329666137695,
           4.9695329666137695,
           4.9695329666137695,
           4.969532489776611,
           4.969531059265137,
           4.969512939453125,
           4.969335079193115,
           4.967820167541504,
           4.959385871887207,
           4.946585178375244,
           4.958389759063721
          ],
          [
           4.969659805297852,
           4.970182418823242,
           4.975004196166992,
           5.020367622375488,
           4.864267826080322,
           5.020962238311768,
           5.012855529785156,
           5.06041145324707,
           4.996011734008789,
           4.896132469177246,
           4.739952087402344,
           4.89399528503418,
           4.960027694702148,
           4.968598365783691,
           4.969449043273926,
           4.969525337219238,
           4.969532012939453,
           4.9695329666137695,
           4.9695329666137695,
           4.9695329666137695,
           4.9695329666137695,
           4.9695329666137695,
           4.969532489776611,
           4.96953010559082,
           4.969503879547119,
           4.969205856323242,
           4.9661102294921875,
           4.941041469573975,
           4.878121376037598,
           4.937313079833984
          ],
          [
           4.96959114074707,
           4.969934940338135,
           4.973278045654297,
           5.000842094421387,
           5.054695129394531,
           5.007740020751953,
           5.065847396850586,
           5.28262996673584,
           5.0397467613220215,
           4.80472469329834,
           3.9898133277893066,
           4.804399490356445,
           4.954184532165527,
           4.968226432800293,
           4.969425201416016,
           4.969524383544922,
           4.969532012939453,
           4.9695329666137695,
           4.9695329666137695,
           4.9695329666137695,
           4.9695329666137695,
           4.9695329666137695,
           4.969532489776611,
           4.96953010559082,
           4.969496250152588,
           4.969087600708008,
           4.964189529418945,
           4.907219886779785,
           4.549500942230225,
           4.896276473999023
          ],
          [
           4.969562530517578,
           4.969769477844238,
           4.971579551696777,
           4.982718467712402,
           5.0000433921813965,
           4.994498252868652,
           5.122453689575195,
           5.716033935546875,
           5.088376998901367,
           4.735442638397217,
           2.5699377059936523,
           4.73715877532959,
           4.950963973999023,
           4.968066215515137,
           4.969417572021484,
           4.9695234298706055,
           4.969532012939453,
           4.9695329666137695,
           4.9695329666137695,
           4.9695329666137695,
           4.9695329666137695,
           4.9695329666137695,
           4.969532489776611,
           4.969529628753662,
           4.969493865966797,
           4.969045639038086,
           4.963430881500244,
           4.888129234313965,
           3.1128463745117188,
           4.871952533721924
          ],
          [
           4.969548225402832,
           4.9696574211120605,
           4.970454216003418,
           4.974069118499756,
           4.978879928588867,
           4.985705852508545,
           5.10289192199707,
           5.558450222015381,
           5.074623107910156,
           4.770427227020264,
           2.2959585189819336,
           4.771056175231934,
           4.953604698181152,
           4.968259334564209,
           4.9694318771362305,
           4.969524383544922,
           4.969532012939453,
           4.9695329666137695,
           4.9695329666137695,
           4.9695329666137695,
           4.9695329666137695,
           4.9695329666137695,
           4.969532489776611,
           4.96953010559082,
           4.9694976806640625,
           4.969108581542969,
           4.964555740356445,
           4.915070533752441,
           4.672823905944824,
           4.906035423278809
          ],
          [
           4.969540596008301,
           4.96959114074707,
           4.9698944091796875,
           4.970968246459961,
           4.972552299499512,
           4.978900909423828,
           5.036966800689697,
           5.161480903625488,
           5.023197174072266,
           4.891037940979004,
           4.515183448791504,
           4.887697219848633,
           4.96091365814209,
           4.9687395095825195,
           4.969464302062988,
           4.969527244567871,
           4.969532012939453,
           4.9695329666137695,
           4.9695329666137695,
           4.9695329666137695,
           4.9695329666137695,
           4.9695329666137695,
           4.969532489776611,
           4.96953010559082,
           4.96950626373291,
           4.969235420227051,
           4.966529846191406,
           4.946356773376465,
           4.901995658874512,
           4.943514823913574
          ],
          [
           4.969536304473877,
           4.969557285308838,
           4.969662189483643,
           4.9699788093566895,
           4.970609188079834,
           4.974083423614502,
           4.9946441650390625,
           5.023098945617676,
           4.991982460021973,
           4.9798383712768555,
           4.656491756439209,
           4.9754838943481445,
           4.968284606933594,
           4.969277381896973,
           4.9695024490356445,
           4.969529628753662,
           4.969532489776611,
           4.9695329666137695,
           4.9695329666137695,
           4.9695329666137695,
           4.9695329666137695,
           4.9695329666137695,
           4.969532489776611,
           4.969531059265137,
           4.969515800476074,
           4.969361305236816,
           4.968100070953369,
           4.961557388305664,
           4.952359199523926,
           4.9608154296875
          ],
          [
           4.969534397125244,
           4.969542503356934,
           4.969576835632324,
           4.969674110412598,
           4.969941139221191,
           4.971423149108887,
           4.977632522583008,
           4.984210968017578,
           4.980691909790039,
           5.014169216156006,
           4.74299430847168,
           5.0107808113098145,
           4.972755432128906,
           4.969668388366699,
           4.969533443450928,
           4.969532012939453,
           4.9695329666137695,
           4.9695329666137695,
           4.9695329666137695,
           4.9695329666137695,
           4.9695329666137695,
           4.9695329666137695,
           4.9695329666137695,
           4.969532012939453,
           4.9695234298706055,
           4.969451904296875,
           4.96897029876709,
           4.967104911804199,
           4.965109825134277,
           4.966924667358398
          ],
          [
           4.969533443450928,
           4.969536304473877,
           4.969547271728516,
           4.969578742980957,
           4.969688415527344,
           4.970232963562012,
           4.971982002258301,
           4.973751068115234,
           4.976754188537598,
           5.028310298919678,
           5.1055803298950195,
           5.024842262268066,
           4.97414493560791,
           4.969842910766602,
           4.969551086425781,
           4.969533920288086,
           4.9695329666137695,
           4.9695329666137695,
           4.9695329666137695,
           4.9695329666137695,
           4.9695329666137695,
           4.9695329666137695,
           4.9695329666137695,
           4.969532489776611,
           4.969529628753662,
           4.969508647918701,
           4.969391345977783,
           4.96903657913208,
           4.96872615814209,
           4.969006538391113
          ],
          [
           4.9695329666137695,
           4.969533920288086,
           4.969537734985352,
           4.969548225402832,
           4.969590663909912,
           4.9697723388671875,
           4.970258712768555,
           4.9708967208862305,
           4.974181175231934,
           5.007528305053711,
           5.089507579803467,
           5.005685806274414,
           4.973296165466309,
           4.969840049743652,
           4.969554901123047,
           4.969533920288086,
           4.9695329666137695,
           4.9695329666137695,
           4.9695329666137695,
           4.9695329666137695,
           4.9695329666137695,
           4.9695329666137695,
           4.9695329666137695,
           4.9695329666137695,
           4.969534873962402,
           4.969551086425781,
           4.969661235809326,
           4.970125675201416,
           4.970648288726807,
           4.970171928405762
          ],
          [
           4.9695329666137695,
           4.9695329666137695,
           4.969534397125244,
           4.96953821182251,
           4.969553470611572,
           4.969611167907715,
           4.969750881195068,
           4.970041751861572,
           4.972031593322754,
           4.985430717468262,
           5.0068888664245605,
           4.984816551208496,
           4.971730709075928,
           4.969752788543701,
           4.9695515632629395,
           4.969533920288086,
           4.9695329666137695,
           4.9695329666137695,
           4.9695329666137695,
           4.9695329666137695,
           4.9695329666137695,
           4.9695329666137695,
           4.9695329666137695,
           4.969533920288086,
           4.969540596008301,
           4.969600677490234,
           4.970017433166504,
           4.971890926361084,
           4.974050521850586,
           4.972086429595947
          ],
          [
           4.9695329666137695,
           4.9695329666137695,
           4.9695329666137695,
           4.969534873962402,
           4.969539642333984,
           4.969557762145996,
           4.969601154327393,
           4.9697394371032715,
           4.970649242401123,
           4.974931240081787,
           4.9798760414123535,
           4.974762439727783,
           4.970551490783691,
           4.969658851623535,
           4.969545364379883,
           4.969533920288086,
           4.9695329666137695,
           4.9695329666137695,
           4.9695329666137695,
           4.9695329666137695,
           4.9695329666137695,
           4.9695329666137695,
           4.9695329666137695,
           4.969534397125244,
           4.969549179077148,
           4.969679832458496,
           4.970675468444824,
           4.975587844848633,
           4.975754737854004,
           4.9760589599609375
          ],
          [
           4.9695329666137695,
           4.9695329666137695,
           4.9695329666137695,
           4.969533443450928,
           4.969534873962402,
           4.969540596008301,
           4.969555854797363,
           4.969616889953613,
           4.969966888427734,
           4.971194267272949,
           4.972318649291992,
           4.971151351928711,
           4.969936370849609,
           4.969594478607178,
           4.969539642333984,
           4.969533443450928,
           4.9695329666137695,
           4.9695329666137695,
           4.9695329666137695,
           4.9695329666137695,
           4.9695329666137695,
           4.9695329666137695,
           4.9695329666137695,
           4.9695353507995605,
           4.9695611000061035,
           4.969808101654053,
           4.971866130828857,
           4.981991291046143,
           4.830394744873047,
           4.982529640197754
          ],
          [
           4.9695329666137695,
           4.9695329666137695,
           4.9695329666137695,
           4.9695329666137695,
           4.969533443450928,
           4.9695353507995605,
           4.969540596008301,
           4.969565391540527,
           4.9696855545043945,
           4.970019340515137,
           4.970277786254883,
           4.970008373260498,
           4.969676971435547,
           4.969559669494629,
           4.969536304473877,
           4.9695329666137695,
           4.9695329666137695,
           4.9695329666137695,
           4.9695329666137695,
           4.9695329666137695,
           4.9695329666137695,
           4.9695329666137695,
           4.9695329666137695,
           4.969536781311035,
           4.969576835632324,
           4.969995498657227,
           4.973874092102051,
           4.996864318847656,
           4.671665191650391,
           4.998935699462891
          ],
          [
           4.9695329666137695,
           4.9695329666137695,
           4.9695329666137695,
           4.9695329666137695,
           4.9695329666137695,
           4.969533443450928,
           4.969535827636719,
           4.969544887542725,
           4.969583511352539,
           4.969671249389648,
           4.969731330871582,
           4.969668388366699,
           4.96958065032959,
           4.96954345703125,
           4.969534397125244,
           4.9695329666137695,
           4.9695329666137695,
           4.9695329666137695,
           4.9695329666137695,
           4.9695329666137695,
           4.9695329666137695,
           4.9695329666137695,
           4.9695329666137695,
           4.969537734985352,
           4.969593524932861,
           4.970223426818848,
           4.976811408996582,
           5.030063629150391,
           5.144279479980469,
           5.037780284881592
          ],
          [
           4.9695329666137695,
           4.9695329666137695,
           4.9695329666137695,
           4.9695329666137695,
           4.9695329666137695,
           4.9695329666137695,
           4.969533920288086,
           4.969536781311035,
           4.96954870223999,
           4.969571590423584,
           4.96958589553833,
           4.969571113586426,
           4.969548225402832,
           4.969536781311035,
           4.969533443450928,
           4.9695329666137695,
           4.9695329666137695,
           4.9695329666137695,
           4.9695329666137695,
           4.9695329666137695,
           4.9695329666137695,
           4.9695329666137695,
           4.9695329666137695,
           4.969538688659668,
           4.969606876373291,
           4.970420837402344,
           4.979804039001465,
           5.074758529663086,
           5.32301139831543,
           5.090903282165527
          ],
          [
           4.9695329666137695,
           4.9695329666137695,
           4.9695329666137695,
           4.9695329666137695,
           4.9695329666137695,
           4.9695329666137695,
           4.9695329666137695,
           4.969533920288086,
           4.969537734985352,
           4.96954345703125,
           4.969546794891357,
           4.96954345703125,
           4.969537258148193,
           4.969533920288086,
           4.9695329666137695,
           4.9695329666137695,
           4.9695329666137695,
           4.9695329666137695,
           4.9695329666137695,
           4.9695329666137695,
           4.9695329666137695,
           4.9695329666137695,
           4.9695329666137695,
           4.969539165496826,
           4.969611167907715,
           4.970493316650391,
           4.981005668640137,
           5.092343330383301,
           4.966488361358643,
           5.111430644989014
          ],
          [
           4.9695329666137695,
           4.9695329666137695,
           4.9695329666137695,
           4.9695329666137695,
           4.9695329666137695,
           4.9695329666137695,
           4.9695329666137695,
           4.9695329666137695,
           4.969533920288086,
           4.969535827636719,
           4.969536781311035,
           4.969535827636719,
           4.969533920288086,
           4.9695329666137695,
           4.9695329666137695,
           4.9695329666137695,
           4.9695329666137695,
           4.9695329666137695,
           4.9695329666137695,
           4.9695329666137695,
           4.9695329666137695,
           4.9695329666137695,
           4.9695329666137695,
           4.969538688659668,
           4.969605445861816,
           4.970398426055908,
           4.97952127456665,
           5.069130897521973,
           4.645294189453125,
           5.074570655822754
          ],
          [
           4.9695329666137695,
           4.9695329666137695,
           4.9695329666137695,
           4.9695329666137695,
           4.9695329666137695,
           4.9695329666137695,
           4.9695329666137695,
           4.9695329666137695,
           4.9695329666137695,
           4.969533443450928,
           4.969533920288086,
           4.969533443450928,
           4.9695329666137695,
           4.9695329666137695,
           4.9695329666137695,
           4.9695329666137695,
           4.9695329666137695,
           4.9695329666137695,
           4.9695329666137695,
           4.9695329666137695,
           4.9695329666137695,
           4.9695329666137695,
           4.9695329666137695,
           4.969537734985352,
           4.969590187072754,
           4.970183372497559,
           4.976371765136719,
           5.027819633483887,
           5.1431121826171875,
           5.026356220245361
          ]
         ],
         "type": "surface"
        },
        {
         "colorscale": [
          [
           0,
           "rgb(255, 198, 196)"
          ],
          [
           0.16666666666666666,
           "rgb(244, 163, 168)"
          ],
          [
           0.3333333333333333,
           "rgb(227, 129, 145)"
          ],
          [
           0.5,
           "rgb(204, 96, 125)"
          ],
          [
           0.6666666666666666,
           "rgb(173, 70, 108)"
          ],
          [
           0.8333333333333334,
           "rgb(139, 48, 88)"
          ],
          [
           1,
           "rgb(103, 32, 68)"
          ]
         ],
         "opacity": 0.2,
         "showscale": false,
         "x": [
          0.33928570710122585,
          0.5055418629199266,
          0.6717980187386274,
          0.8380541577935219,
          1.0043103471398354,
          1.1705665364861488,
          1.336822658777237,
          1.503078781068325,
          1.6693349033594131,
          1.8355910927057266,
          2.0018471479415894,
          2.168103337287903,
          2.3343595266342168,
          2.5006157159805302,
          2.6668719053268437,
          2.833128094673157,
          2.9993842840194707,
          3.165640473365784,
          3.3318966627120976,
          3.4981525838375096,
          3.664408773183823,
          3.8306649625301366,
          3.99692115187645,
          4.163177341222764,
          4.329433262348176,
          4.495689451694489,
          4.661945641040803,
          4.828201830387116,
          4.99445801973343,
          5.160714209079743
         ],
         "y": [
          2.276071443020234,
          2.745652702469288,
          3.215233961918342,
          3.684815174018958,
          4.154396528164888,
          4.623977882310818,
          5.093559047062996,
          5.563140211815174,
          6.032721376567352,
          6.502302730713282,
          6.971883706071708,
          7.441465060217638,
          7.911046414363568,
          8.380627768509498,
          8.850209122655428,
          9.319790476801359,
          9.789371830947289,
          10.258953185093219,
          10.72853453923915,
          11.19811513581007,
          11.667696489956,
          12.13727784410193,
          12.60685919824786,
          13.076440552393791,
          13.546021148964712,
          14.015602503110642,
          14.485183857256573,
          14.954765211402503,
          15.424346565548433,
          15.893927919694363
         ],
         "z": [
          [
           -0.13794159889221191,
           -0.3763260841369629,
           -0.12717723846435547,
           -0.06332635879516602,
           -0.06147027015686035,
           -0.05586504936218262,
           -0.05185699462890625,
           -0.051012516021728516,
           -0.050954341888427734,
           -0.05100512504577637,
           -0.05103111267089844,
           -0.05103778839111328,
           -0.05103874206542969,
           -0.05103898048400879,
           -0.05103898048400879,
           -0.05103898048400879,
           -0.05103898048400879,
           -0.05103898048400879,
           -0.05103898048400879,
           -0.05103898048400879,
           -0.05103898048400879,
           -0.05103898048400879,
           -0.05103898048400879,
           -0.05103898048400879,
           -0.05103898048400879,
           -0.05103898048400879,
           -0.05103898048400879,
           -0.05103898048400879,
           -0.05103898048400879,
           -0.05103898048400879
          ],
          [
           -0.16013765335083008,
           -0.19484496116638184,
           -0.14656901359558105,
           -0.07439804077148438,
           -0.0862874984741211,
           -0.06470227241516113,
           -0.05263376235961914,
           -0.05071258544921875,
           -0.05071854591369629,
           -0.0509340763092041,
           -0.051018476486206055,
           -0.05103611946105957,
           -0.05103874206542969,
           -0.05103898048400879,
           -0.05103898048400879,
           -0.05103898048400879,
           -0.05103898048400879,
           -0.05103898048400879,
           -0.05103898048400879,
           -0.05103898048400879,
           -0.05103898048400879,
           -0.05103898048400879,
           -0.05103898048400879,
           -0.05103898048400879,
           -0.05103898048400879,
           -0.05103898048400879,
           -0.05103898048400879,
           -0.05103898048400879,
           -0.05103898048400879,
           -0.05103898048400879
          ],
          [
           -0.11820387840270996,
           0.2604339122772217,
           -0.11577129364013672,
           -0.0936880111694336,
           -0.14910101890563965,
           -0.08186578750610352,
           -0.053121089935302734,
           -0.049355506896972656,
           -0.04989957809448242,
           -0.050736427307128906,
           -0.05099010467529297,
           -0.05103325843811035,
           -0.051038503646850586,
           -0.05103898048400879,
           -0.05103898048400879,
           -0.05103898048400879,
           -0.05103898048400879,
           -0.05103898048400879,
           -0.05103898048400879,
           -0.05103898048400879,
           -0.05103898048400879,
           -0.05103898048400879,
           -0.05103898048400879,
           -0.05103898048400879,
           -0.05103898048400879,
           -0.05103898048400879,
           -0.05103898048400879,
           -0.05103921890258789,
           -0.05103921890258789,
           -0.05103921890258789
          ],
          [
           -0.11357474327087402,
           0.1080024242401123,
           -0.11346220970153809,
           -0.11144661903381348,
           0.12028336524963379,
           -0.09649181365966797,
           -0.05113077163696289,
           -0.04392433166503906,
           -0.04722237586975098,
           -0.0502469539642334,
           -0.050934791564941406,
           -0.05102872848510742,
           -0.051038503646850586,
           -0.05103921890258789,
           -0.05103898048400879,
           -0.05103898048400879,
           -0.05103898048400879,
           -0.05103898048400879,
           -0.05103898048400879,
           -0.05103898048400879,
           -0.05103898048400879,
           -0.05103898048400879,
           -0.05103898048400879,
           -0.05103898048400879,
           -0.05103898048400879,
           -0.05103898048400879,
           -0.05103921890258789,
           -0.05103945732116699,
           -0.05103945732116699,
           -0.05103945732116699
          ],
          [
           -0.17455363273620605,
           -0.6034791469573975,
           -0.16145110130310059,
           -0.10427141189575195,
           -0.15930438041687012,
           -0.08772468566894531,
           -0.0420224666595459,
           -0.022521018981933594,
           -0.03921818733215332,
           -0.04923558235168457,
           -0.05084824562072754,
           -0.051024675369262695,
           -0.05103945732116699,
           -0.05103945732116699,
           -0.05103921890258789,
           -0.05103898048400879,
           -0.05103898048400879,
           -0.05103898048400879,
           -0.05103898048400879,
           -0.05103898048400879,
           -0.05103898048400879,
           -0.05103898048400879,
           -0.05103898048400879,
           -0.05103898048400879,
           -0.05103898048400879,
           -0.05103921890258789,
           -0.051039695739746094,
           -0.0510406494140625,
           -0.0510411262512207,
           -0.0510406494140625
          ],
          [
           -0.18670654296875,
           -0.5561655759811401,
           -0.16939520835876465,
           -0.07957053184509277,
           -0.1019442081451416,
           -0.06400012969970703,
           -0.01850414276123047,
           0.06960606575012207,
           -0.019337177276611328,
           -0.047677040100097656,
           -0.050752878189086914,
           -0.05102849006652832,
           -0.05104422569274902,
           -0.0510411262512207,
           -0.05103945732116699,
           -0.05103898048400879,
           -0.05103898048400879,
           -0.05103898048400879,
           -0.05103898048400879,
           -0.05103898048400879,
           -0.05103898048400879,
           -0.05103898048400879,
           -0.05103898048400879,
           -0.05103898048400879,
           -0.05103921890258789,
           -0.051039695739746094,
           -0.05104184150695801,
           -0.05104494094848633,
           -0.05104708671569824,
           -0.05104517936706543
          ],
          [
           -0.12613940238952637,
           0.09473264217376709,
           -0.11715507507324219,
           -0.053431034088134766,
           -0.03992295265197754,
           -0.04105377197265625,
           0.01764225959777832,
           0.5940642356872559,
           0.010559320449829102,
           -0.046283721923828125,
           -0.05072522163391113,
           -0.05106472969055176,
           -0.05106091499328613,
           -0.05104541778564453,
           -0.0510401725769043,
           -0.05103921890258789,
           -0.05103898048400879,
           -0.05103898048400879,
           -0.05103898048400879,
           -0.05103898048400879,
           -0.05103898048400879,
           -0.05103898048400879,
           -0.05103898048400879,
           -0.05103898048400879,
           -0.05103945732116699,
           -0.051041364669799805,
           -0.05104827880859375,
           -0.05106091499328613,
           -0.05106925964355469,
           -0.05106186866760254
          ],
          [
           -0.07081985473632812,
           0.4577171802520752,
           -0.06675410270690918,
           -0.01929163932800293,
           0.05792951583862305,
           -0.01337289810180664,
           0.023960590362548828,
           0.7893280982971191,
           0.0136260986328125,
           -0.04629802703857422,
           -0.05093026161193848,
           -0.051213741302490234,
           -0.05111527442932129,
           -0.05105757713317871,
           -0.05104231834411621,
           -0.05103945732116699,
           -0.05103898048400879,
           -0.05103898048400879,
           -0.05103898048400879,
           -0.05103898048400879,
           -0.05103898048400879,
           -0.05103898048400879,
           -0.05103898048400879,
           -0.05103921890258789,
           -0.0510401725769043,
           -0.051045894622802734,
           -0.05106854438781738,
           -0.051117658615112305,
           -0.05115246772766113,
           -0.05112147331237793
          ],
          [
           -0.05078601837158203,
           0.005731105804443359,
           -0.0450899600982666,
           0.030188322067260742,
           0.45766234397888184,
           0.025684356689453125,
           -0.006207704544067383,
           0.09829854965209961,
           -0.015384435653686523,
           -0.04807114601135254,
           -0.051802635192871094,
           -0.051744937896728516,
           -0.05128145217895508,
           -0.05108928680419922,
           -0.05104660987854004,
           -0.051039934158325195,
           -0.05103898048400879,
           -0.05103898048400879,
           -0.05103898048400879,
           -0.05103898048400879,
           -0.05103898048400879,
           -0.05103898048400879,
           -0.05103898048400879,
           -0.05103921890258789,
           -0.05104184150695801,
           -0.05105757713317871,
           -0.05113053321838379,
           -0.051317453384399414,
           -0.05146455764770508,
           -0.05133223533630371
          ],
          [
           -0.04937863349914551,
           -0.04053974151611328,
           -0.04168987274169922,
           0.05299854278564453,
           1.9102776050567627,
           0.042226552963256836,
           -0.0282289981842041,
           -0.014113187789916992,
           -0.036945343017578125,
           -0.05131053924560547,
           -0.05491995811462402,
           -0.05356431007385254,
           -0.051755428314208984,
           -0.051163673400878906,
           -0.0510554313659668,
           -0.0510408878326416,
           -0.05103921890258789,
           -0.05103898048400879,
           -0.05103898048400879,
           -0.05103898048400879,
           -0.05103898048400879,
           -0.05103898048400879,
           -0.05103898048400879,
           -0.051039695739746094,
           -0.05104494094848633,
           -0.05108475685119629,
           -0.05130600929260254,
           -0.05200076103210449,
           -0.05263209342956543,
           -0.05206155776977539
          ],
          [
           -0.0502316951751709,
           -0.04810357093811035,
           -0.04277610778808594,
           0.02458643913269043,
           0.44693851470947266,
           0.01834869384765625,
           -0.035662174224853516,
           -0.03517293930053711,
           -0.04469704627990723,
           -0.057938337326049805,
           -0.06631302833557129,
           -0.05954146385192871,
           -0.05298018455505371,
           -0.05131888389587402,
           -0.0510711669921875,
           -0.05104231834411621,
           -0.05103921890258789,
           -0.05103898048400879,
           -0.05103898048400879,
           -0.05103898048400879,
           -0.05103898048400879,
           -0.05103898048400879,
           -0.05103898048400879,
           -0.0510401725769043,
           -0.051050424575805664,
           -0.051140546798706055,
           -0.05175662040710449,
           -0.05423927307128906,
           -0.05698370933532715,
           -0.05448436737060547
          ],
          [
           -0.050720930099487305,
           -0.04985189437866211,
           -0.044138431549072266,
           0.01783132553100586,
           0.4257357120513916,
           0.012775182723999023,
           -0.030790328979492188,
           -0.02365422248840332,
           -0.04211020469665527,
           -0.07581496238708496,
           -0.10835862159729004,
           -0.07768630981445312,
           -0.05570673942565918,
           -0.051592111587524414,
           -0.05109453201293945,
           -0.05104398727416992,
           -0.05103945732116699,
           -0.05103898048400879,
           -0.05103898048400879,
           -0.05103898048400879,
           -0.05103898048400879,
           -0.05103898048400879,
           -0.05103921890258789,
           -0.0510406494140625,
           -0.05105853080749512,
           -0.051236629486083984,
           -0.05274558067321777,
           -0.06097555160522461,
           -0.0729374885559082,
           -0.061928749084472656
          ],
          [
           -0.05091118812561035,
           -0.05038738250732422,
           -0.04545426368713379,
           0.015327215194702148,
           0.9505821466445923,
           0.01243734359741211,
           -0.006759166717529297,
           0.04491281509399414,
           -0.023751020431518555,
           -0.12193512916564941,
           -0.25866055488586426,
           -0.12428450584411621,
           -0.060510873794555664,
           -0.05197310447692871,
           -0.051122426986694336,
           -0.051046133041381836,
           -0.05103945732116699,
           -0.05103898048400879,
           -0.05103898048400879,
           -0.05103898048400879,
           -0.05103898048400879,
           -0.05103898048400879,
           -0.05103921890258789,
           -0.051041364669799805,
           -0.05106782913208008,
           -0.05136609077453613,
           -0.05443692207336426,
           -0.07792997360229492,
           -0.12769150733947754,
           -0.08122658729553223
          ],
          [
           -0.05098080635070801,
           -0.05063629150390625,
           -0.04723334312438965,
           -0.014238357543945312,
           0.10525703430175781,
           -0.008350133895874023,
           0.05065131187438965,
           0.3337841033935547,
           0.02383136749267578,
           -0.2050914764404297,
           -0.7128047943115234,
           -0.20650744438171387,
           -0.06630492210388184,
           -0.05234503746032715,
           -0.05114626884460449,
           -0.051047563552856445,
           -0.051039695739746094,
           -0.05103898048400879,
           -0.05103898048400879,
           -0.05103898048400879,
           -0.05103898048400879,
           -0.05103898048400879,
           -0.05103921890258789,
           -0.05104184150695801,
           -0.05107545852661133,
           -0.051484107971191406,
           -0.05632328987121582,
           -0.10615229606628418,
           -0.2601332664489746,
           -0.11452937126159668
          ],
          [
           -0.051009416580200195,
           -0.050801992416381836,
           -0.04897332191467285,
           -0.03696703910827637,
           -0.015496253967285156,
           -0.025226354598999023,
           0.11653566360473633,
           1.8178091049194336,
           0.08011341094970703,
           -0.26653623580932617,
           -1.1286906003952026,
           -0.26677393913269043,
           -0.06948065757751465,
           -0.052504777908325195,
           -0.051154375076293945,
           -0.05104804039001465,
           -0.051039695739746094,
           -0.05103898048400879,
           -0.05103898048400879,
           -0.05103898048400879,
           -0.05103898048400879,
           -0.05103898048400879,
           -0.05103921890258789,
           -0.05104207992553711,
           -0.051078081130981445,
           -0.05152535438537598,
           -0.05706453323364258,
           -0.12054634094238281,
           0.06320858001708984,
           -0.13196611404418945
          ],
          [
           -0.05102348327636719,
           -0.05091428756713867,
           -0.05011343955993652,
           -0.04640388488769531,
           -0.041333913803100586,
           -0.03469514846801758,
           0.09344625473022461,
           0.8937082290649414,
           0.06354236602783203,
           -0.23062849044799805,
           -0.7758172750473022,
           -0.23200774192810059,
           -0.06682276725769043,
           -0.05231142044067383,
           -0.05114006996154785,
           -0.05104708671569824,
           -0.051039695739746094,
           -0.05103898048400879,
           -0.05103898048400879,
           -0.05103898048400879,
           -0.05103898048400879,
           -0.05103898048400879,
           -0.05103921890258789,
           -0.05104184150695801,
           -0.05107402801513672,
           -0.05146312713623047,
           -0.05596494674682617,
           -0.09992527961730957,
           -0.22885489463806152,
           -0.10707592964172363
          ],
          [
           -0.05103111267089844,
           -0.05098080635070801,
           -0.05067706108093262,
           -0.04959440231323242,
           -0.04799342155456543,
           -0.04162478446960449,
           0.01912975311279297,
           0.16541647911071777,
           0.005170583724975586,
           -0.11078596115112305,
           0.010110139846801758,
           -0.11595654487609863,
           -0.05950760841369629,
           -0.05183124542236328,
           -0.05110764503479004,
           -0.05104470252990723,
           -0.05103945732116699,
           -0.05103898048400879,
           -0.05103898048400879,
           -0.05103898048400879,
           -0.05103898048400879,
           -0.05103898048400879,
           -0.05103921890258789,
           -0.051041364669799805,
           -0.051065683364868164,
           -0.05133652687072754,
           -0.05402350425720215,
           -0.07314443588256836,
           -0.11019277572631836,
           -0.07571578025817871
          ],
          [
           -0.051035404205322266,
           -0.05101442337036133,
           -0.05090951919555664,
           -0.05059242248535156,
           -0.04996061325073242,
           -0.0464777946472168,
           -0.0255582332611084,
           0.004268169403076172,
           -0.02808070182800293,
           -0.018573522567749023,
           1.140715479850769,
           -0.02516913414001465,
           -0.05212903022766113,
           -0.051293373107910156,
           -0.05106925964355469,
           -0.05104207992553711,
           -0.05103921890258789,
           -0.05103898048400879,
           -0.05103898048400879,
           -0.05103898048400879,
           -0.05103898048400879,
           -0.05103898048400879,
           -0.05103921890258789,
           -0.0510406494140625,
           -0.0510561466217041,
           -0.051210641860961914,
           -0.05246734619140625,
           -0.0588831901550293,
           -0.06761622428894043,
           -0.05959963798522949
          ],
          [
           -0.05103731155395508,
           -0.05102944374084473,
           -0.050994873046875,
           -0.050897836685180664,
           -0.05063056945800781,
           -0.04914689064025879,
           -0.04290127754211426,
           -0.03623557090759277,
           -0.03967881202697754,
           0.014891624450683594,
           0.6258690357208252,
           0.009368419647216797,
           -0.0476679801940918,
           -0.05090212821960449,
           -0.051038265228271484,
           -0.051039695739746094,
           -0.05103898048400879,
           -0.05103898048400879,
           -0.05103898048400879,
           -0.05103898048400879,
           -0.05103898048400879,
           -0.05103898048400879,
           -0.05103898048400879,
           -0.051039934158325195,
           -0.05104804039001465,
           -0.05112004280090332,
           -0.05160069465637207,
           -0.053453683853149414,
           -0.055419206619262695,
           -0.05363202095031738
          ],
          [
           -0.051038265228271484,
           -0.051035404205322266,
           -0.051024436950683594,
           -0.050992727279663086,
           -0.05088329315185547,
           -0.0503387451171875,
           -0.04858660697937012,
           -0.04681110382080078,
           -0.04369664192199707,
           0.022564411163330078,
           0.9165749549865723,
           0.017603635787963867,
           -0.04632115364074707,
           -0.050728559494018555,
           -0.05102086067199707,
           -0.05103802680969238,
           -0.05103898048400879,
           -0.05103898048400879,
           -0.05103898048400879,
           -0.05103898048400879,
           -0.05103898048400879,
           -0.05103898048400879,
           -0.05103898048400879,
           -0.05103921890258789,
           -0.05104207992553711,
           -0.05106306076049805,
           -0.051180362701416016,
           -0.05153036117553711,
           -0.05183148384094238,
           -0.0515599250793457
          ],
          [
           -0.05103874206542969,
           -0.05103778839111328,
           -0.05103421211242676,
           -0.051023244857788086,
           -0.05098104476928711,
           -0.05079913139343262,
           -0.05031323432922363,
           -0.049674272537231445,
           -0.046335458755493164,
           -0.008546113967895508,
           0.12354278564453125,
           -0.010772705078125,
           -0.0472261905670166,
           -0.05073142051696777,
           -0.05101656913757324,
           -0.05103754997253418,
           -0.05103898048400879,
           -0.05103898048400879,
           -0.05103898048400879,
           -0.05103898048400879,
           -0.05103898048400879,
           -0.05103898048400879,
           -0.05103898048400879,
           -0.05103874206542969,
           -0.051036834716796875,
           -0.05102086067199707,
           -0.05090904235839844,
           -0.05040597915649414,
           -0.049771785736083984,
           -0.05035233497619629
          ],
          [
           -0.05103898048400879,
           -0.051038503646850586,
           -0.05103731155395508,
           -0.05103349685668945,
           -0.05101823806762695,
           -0.050960540771484375,
           -0.05082082748413086,
           -0.05052995681762695,
           -0.04852437973022461,
           -0.03445029258728027,
           -0.00981760025024414,
           -0.0351102352142334,
           -0.04882669448852539,
           -0.05081892013549805,
           -0.051020145416259766,
           -0.05103754997253418,
           -0.05103898048400879,
           -0.05103898048400879,
           -0.05103898048400879,
           -0.05103898048400879,
           -0.05103898048400879,
           -0.05103898048400879,
           -0.05103898048400879,
           -0.05103802680969238,
           -0.051030874252319336,
           -0.05097079277038574,
           -0.050545454025268555,
           -0.04830646514892578,
           -0.04439067840576172,
           -0.048029422760009766
          ],
          [
           -0.05103898048400879,
           -0.05103874206542969,
           -0.051038503646850586,
           -0.05103707313537598,
           -0.05103182792663574,
           -0.051013946533203125,
           -0.05097055435180664,
           -0.050832271575927734,
           -0.04991960525512695,
           -0.045565128326416016,
           -0.0404210090637207,
           -0.04573774337768555,
           -0.050017356872558594,
           -0.05091261863708496,
           -0.051026344299316406,
           -0.05103778839111328,
           -0.05103898048400879,
           -0.05103898048400879,
           -0.05103898048400879,
           -0.05103898048400879,
           -0.05103898048400879,
           -0.05103898048400879,
           -0.05103874206542969,
           -0.05103731155395508,
           -0.05102252960205078,
           -0.05089163780212402,
           -0.04986405372619629,
           -0.042418718338012695,
           -0.014820575714111328,
           -0.04119873046875
          ],
          [
           -0.05103898048400879,
           -0.05103898048400879,
           -0.05103874206542969,
           -0.051038265228271484,
           -0.05103659629821777,
           -0.05103111267089844,
           -0.05101609230041504,
           -0.05095481872558594,
           -0.050604820251464844,
           -0.049370527267456055,
           -0.0482335090637207,
           -0.04941439628601074,
           -0.05063509941101074,
           -0.050977230072021484,
           -0.05103182792663574,
           -0.051038265228271484,
           -0.05103898048400879,
           -0.05103898048400879,
           -0.05103898048400879,
           -0.05103898048400879,
           -0.05103898048400879,
           -0.05103898048400879,
           -0.05103874206542969,
           -0.05103635787963867,
           -0.0510106086730957,
           -0.05076313018798828,
           -0.04863595962524414,
           -0.029262542724609375,
           0.24702858924865723,
           -0.025219202041625977
          ],
          [
           -0.05103898048400879,
           -0.05103898048400879,
           -0.05103898048400879,
           -0.05103874206542969,
           -0.051038265228271484,
           -0.05103635787963867,
           -0.05103111267089844,
           -0.05100607872009277,
           -0.050885915756225586,
           -0.0505518913269043,
           -0.0502927303314209,
           -0.05056285858154297,
           -0.050894737243652344,
           -0.051012277603149414,
           -0.051035404205322266,
           -0.051038503646850586,
           -0.05103898048400879,
           -0.05103898048400879,
           -0.05103898048400879,
           -0.05103898048400879,
           -0.05103898048400879,
           -0.05103898048400879,
           -0.05103874206542969,
           -0.05103492736816406,
           -0.0509951114654541,
           -0.05057573318481445,
           -0.04661154747009277,
           -0.012283086776733398,
           0.5369808673858643,
           -0.005827188491821289
          ],
          [
           -0.05103898048400879,
           -0.05103898048400879,
           -0.05103898048400879,
           -0.05103898048400879,
           -0.05103874206542969,
           -0.051038265228271484,
           -0.05103611946105957,
           -0.05102682113647461,
           -0.05098843574523926,
           -0.05090045928955078,
           -0.050840139389038086,
           -0.0509030818939209,
           -0.050991058349609375,
           -0.05102849006652832,
           -0.05103731155395508,
           -0.05103874206542969,
           -0.05103898048400879,
           -0.05103898048400879,
           -0.05103898048400879,
           -0.05103898048400879,
           -0.05103898048400879,
           -0.05103898048400879,
           -0.051038503646850586,
           -0.051033735275268555,
           -0.05097818374633789,
           -0.05034804344177246,
           -0.04367423057556152,
           0.01707768440246582,
           0.23591399192810059,
           0.027143001556396484
          ],
          [
           -0.05103898048400879,
           -0.05103898048400879,
           -0.05103898048400879,
           -0.05103898048400879,
           -0.05103898048400879,
           -0.05103874206542969,
           -0.05103802680969238,
           -0.05103468894958496,
           -0.051023006439208984,
           -0.051000118255615234,
           -0.05098581314086914,
           -0.05100083351135254,
           -0.05102372169494629,
           -0.051035165786743164,
           -0.051038265228271484,
           -0.05103898048400879,
           -0.05103898048400879,
           -0.05103898048400879,
           -0.05103898048400879,
           -0.05103898048400879,
           -0.05103898048400879,
           -0.05103898048400879,
           -0.051038503646850586,
           -0.05103278160095215,
           -0.0509648323059082,
           -0.05015063285827637,
           -0.04065656661987305,
           0.06759762763977051,
           1.1522512435913086,
           0.08870363235473633
          ],
          [
           -0.05103898048400879,
           -0.05103898048400879,
           -0.05103898048400879,
           -0.05103898048400879,
           -0.05103898048400879,
           -0.05103898048400879,
           -0.051038503646850586,
           -0.05103754997253418,
           -0.05103421211242676,
           -0.05102825164794922,
           -0.0510249137878418,
           -0.05102849006652832,
           -0.05103445053100586,
           -0.05103754997253418,
           -0.05103874206542969,
           -0.05103898048400879,
           -0.05103898048400879,
           -0.05103898048400879,
           -0.05103898048400879,
           -0.05103898048400879,
           -0.05103898048400879,
           -0.05103898048400879,
           -0.051038503646850586,
           -0.05103254318237305,
           -0.05096030235290527,
           -0.05007743835449219,
           -0.039434194564819336,
           0.08952713012695312,
           1.777520775794983,
           0.11533832550048828
          ],
          [
           -0.05103898048400879,
           -0.05103898048400879,
           -0.05103898048400879,
           -0.05103898048400879,
           -0.05103898048400879,
           -0.05103898048400879,
           -0.05103874206542969,
           -0.051038503646850586,
           -0.05103754997253418,
           -0.05103611946105957,
           -0.051035165786743164,
           -0.05103611946105957,
           -0.05103754997253418,
           -0.051038503646850586,
           -0.05103898048400879,
           -0.05103898048400879,
           -0.05103898048400879,
           -0.05103898048400879,
           -0.05103898048400879,
           -0.05103898048400879,
           -0.05103898048400879,
           -0.05103898048400879,
           -0.051038503646850586,
           -0.05103302001953125,
           -0.050966501235961914,
           -0.05017280578613281,
           -0.04093742370605469,
           0.0635826587677002,
           2.0253429412841797,
           0.09313273429870605
          ],
          [
           -0.05103898048400879,
           -0.05103898048400879,
           -0.05103898048400879,
           -0.05103898048400879,
           -0.05103898048400879,
           -0.05103898048400879,
           -0.05103898048400879,
           -0.05103874206542969,
           -0.051038503646850586,
           -0.051038265228271484,
           -0.05103802680969238,
           -0.051038265228271484,
           -0.051038503646850586,
           -0.05103874206542969,
           -0.05103898048400879,
           -0.05103898048400879,
           -0.05103898048400879,
           -0.05103898048400879,
           -0.05103898048400879,
           -0.05103898048400879,
           -0.05103898048400879,
           -0.05103898048400879,
           -0.051038503646850586,
           -0.051033973693847656,
           -0.05098128318786621,
           -0.05038809776306152,
           -0.04413437843322754,
           0.014141321182250977,
           0.29566049575805664,
           0.0334010124206543
          ]
         ],
         "type": "surface"
        },
        {
         "marker": {
          "color": "#72356c"
         },
         "mode": "markers",
         "name": "training data",
         "x": [
          0.5,
          0.5,
          1.0000000037252903,
          1.0000000037252903,
          1.5000000074505806,
          1.5000000074505806,
          5.000000000000001,
          5.000000000000001,
          0.5,
          5.000000000000001,
          2.0000000447034836,
          0.5,
          0.5,
          0.5,
          1.0000000037252903,
          1.0000000037252903,
          2.0000000447034836,
          2.0000000447034836,
          2.0000000447034836,
          2.0000000447034836,
          5.000000000000001,
          5.000000000000001,
          5.000000000000001
         ],
         "y": [
          2.7300000190734863,
          3.4000001145614362,
          3.7899999185612288,
          6.440000140764965,
          5.3600000716472636,
          8.98999989360641,
          8.800000081362441,
          14.670000341289324,
          5.239999811442516,
          14.890000123887603,
          10.130000282220237,
          4.510000154033449,
          5.369999872371615,
          4.880000167190786,
          6.760000203331785,
          7.769999962835257,
          8.729999392960707,
          9.380000265787459,
          10.479999178778854,
          11.010000170188363,
          14.710000301761738,
          15.4399995803833,
          13.370000110785838
         ],
         "z": [
          0.8730257153511047,
          2.6772446632385254,
          1.6990152597427368,
          3.8050527572631836,
          3.3348562717437744,
          4.535152912139893,
          1.3625102043151855,
          3.8412907123565674,
          1.2013570070266724,
          3.5136520862579346,
          3.4708714485168457,
          0.26329824328422546,
          2.7753403186798096,
          2.591306209564209,
          2.579984426498413,
          3.173818588256836,
          0.13150499761104584,
          0.45116370916366577,
          2.1266398429870605,
          3.468212842941284,
          3.685852527618408,
          3.445655584335327,
          2.6515469551086426
         ],
         "type": "scatter3d"
        },
        {
         "mode": "markers",
         "name": "max(PI)",
         "x": [
          1.503078781068325
         ],
         "y": [
          8.850209122655428
         ],
         "z": [
          3.7669215202331543
         ],
         "type": "scatter3d"
        },
        {
         "mode": "markers",
         "name": "max(EI)",
         "x": [
          1.503078781068325
         ],
         "y": [
          8.850209122655428
         ],
         "z": [
          3.7669215202331543
         ],
         "type": "scatter3d"
        },
        {
         "mode": "markers",
         "name": "max(CA)",
         "x": [
          4.828201830387116
         ],
         "y": [
          14.954765211402503
         ],
         "z": [
          2.590935230255127
         ],
         "type": "scatter3d"
        },
        {
         "mode": "markers",
         "name": "max(TH)",
         "x": [
          4.163177341222764
         ],
         "y": [
          3.215233961918342
         ],
         "z": [
          2.459246873855591
         ],
         "type": "scatter3d"
        },
        {
         "mode": "markers",
         "name": "max(UCB)",
         "x": [
          1.503078781068325
         ],
         "y": [
          8.850209122655428
         ],
         "z": [
          3.7669215202331543
         ],
         "type": "scatter3d"
        },
        {
         "mode": "markers",
         "name": "max(Max_var)",
         "x": [
          1.6693349033594131
         ],
         "y": [
          2.276071443020234
         ],
         "z": [
          2.459331512451172
         ],
         "type": "scatter3d"
        }
       ],
       "layout": {
        "template": {
         "data": {
          "barpolar": [
           {
            "marker": {
             "line": {
              "color": "rgb(237,237,237)",
              "width": 0.5
             },
             "pattern": {
              "fillmode": "overlay",
              "size": 10,
              "solidity": 0.2
             }
            },
            "type": "barpolar"
           }
          ],
          "bar": [
           {
            "error_x": {
             "color": "rgb(51,51,51)"
            },
            "error_y": {
             "color": "rgb(51,51,51)"
            },
            "marker": {
             "line": {
              "color": "rgb(237,237,237)",
              "width": 0.5
             },
             "pattern": {
              "fillmode": "overlay",
              "size": 10,
              "solidity": 0.2
             }
            },
            "type": "bar"
           }
          ],
          "carpet": [
           {
            "aaxis": {
             "endlinecolor": "rgb(51,51,51)",
             "gridcolor": "white",
             "linecolor": "white",
             "minorgridcolor": "white",
             "startlinecolor": "rgb(51,51,51)"
            },
            "baxis": {
             "endlinecolor": "rgb(51,51,51)",
             "gridcolor": "white",
             "linecolor": "white",
             "minorgridcolor": "white",
             "startlinecolor": "rgb(51,51,51)"
            },
            "type": "carpet"
           }
          ],
          "choropleth": [
           {
            "colorbar": {
             "outlinewidth": 0,
             "tickcolor": "rgb(237,237,237)",
             "ticklen": 6,
             "ticks": "inside"
            },
            "type": "choropleth"
           }
          ],
          "contourcarpet": [
           {
            "colorbar": {
             "outlinewidth": 0,
             "tickcolor": "rgb(237,237,237)",
             "ticklen": 6,
             "ticks": "inside"
            },
            "type": "contourcarpet"
           }
          ],
          "contour": [
           {
            "colorbar": {
             "outlinewidth": 0,
             "tickcolor": "rgb(237,237,237)",
             "ticklen": 6,
             "ticks": "inside"
            },
            "colorscale": [
             [
              0,
              "rgb(20,44,66)"
             ],
             [
              1,
              "rgb(90,179,244)"
             ]
            ],
            "type": "contour"
           }
          ],
          "heatmapgl": [
           {
            "colorbar": {
             "outlinewidth": 0,
             "tickcolor": "rgb(237,237,237)",
             "ticklen": 6,
             "ticks": "inside"
            },
            "colorscale": [
             [
              0,
              "rgb(20,44,66)"
             ],
             [
              1,
              "rgb(90,179,244)"
             ]
            ],
            "type": "heatmapgl"
           }
          ],
          "heatmap": [
           {
            "colorbar": {
             "outlinewidth": 0,
             "tickcolor": "rgb(237,237,237)",
             "ticklen": 6,
             "ticks": "inside"
            },
            "colorscale": [
             [
              0,
              "rgb(20,44,66)"
             ],
             [
              1,
              "rgb(90,179,244)"
             ]
            ],
            "type": "heatmap"
           }
          ],
          "histogram2dcontour": [
           {
            "colorbar": {
             "outlinewidth": 0,
             "tickcolor": "rgb(237,237,237)",
             "ticklen": 6,
             "ticks": "inside"
            },
            "colorscale": [
             [
              0,
              "rgb(20,44,66)"
             ],
             [
              1,
              "rgb(90,179,244)"
             ]
            ],
            "type": "histogram2dcontour"
           }
          ],
          "histogram2d": [
           {
            "colorbar": {
             "outlinewidth": 0,
             "tickcolor": "rgb(237,237,237)",
             "ticklen": 6,
             "ticks": "inside"
            },
            "colorscale": [
             [
              0,
              "rgb(20,44,66)"
             ],
             [
              1,
              "rgb(90,179,244)"
             ]
            ],
            "type": "histogram2d"
           }
          ],
          "histogram": [
           {
            "marker": {
             "pattern": {
              "fillmode": "overlay",
              "size": 10,
              "solidity": 0.2
             }
            },
            "type": "histogram"
           }
          ],
          "mesh3d": [
           {
            "colorbar": {
             "outlinewidth": 0,
             "tickcolor": "rgb(237,237,237)",
             "ticklen": 6,
             "ticks": "inside"
            },
            "type": "mesh3d"
           }
          ],
          "parcoords": [
           {
            "line": {
             "colorbar": {
              "outlinewidth": 0,
              "tickcolor": "rgb(237,237,237)",
              "ticklen": 6,
              "ticks": "inside"
             }
            },
            "type": "parcoords"
           }
          ],
          "pie": [
           {
            "automargin": true,
            "type": "pie"
           }
          ],
          "scatter3d": [
           {
            "line": {
             "colorbar": {
              "outlinewidth": 0,
              "tickcolor": "rgb(237,237,237)",
              "ticklen": 6,
              "ticks": "inside"
             }
            },
            "marker": {
             "colorbar": {
              "outlinewidth": 0,
              "tickcolor": "rgb(237,237,237)",
              "ticklen": 6,
              "ticks": "inside"
             }
            },
            "type": "scatter3d"
           }
          ],
          "scattercarpet": [
           {
            "marker": {
             "colorbar": {
              "outlinewidth": 0,
              "tickcolor": "rgb(237,237,237)",
              "ticklen": 6,
              "ticks": "inside"
             }
            },
            "type": "scattercarpet"
           }
          ],
          "scattergeo": [
           {
            "marker": {
             "colorbar": {
              "outlinewidth": 0,
              "tickcolor": "rgb(237,237,237)",
              "ticklen": 6,
              "ticks": "inside"
             }
            },
            "type": "scattergeo"
           }
          ],
          "scattergl": [
           {
            "marker": {
             "colorbar": {
              "outlinewidth": 0,
              "tickcolor": "rgb(237,237,237)",
              "ticklen": 6,
              "ticks": "inside"
             }
            },
            "type": "scattergl"
           }
          ],
          "scattermapbox": [
           {
            "marker": {
             "colorbar": {
              "outlinewidth": 0,
              "tickcolor": "rgb(237,237,237)",
              "ticklen": 6,
              "ticks": "inside"
             }
            },
            "type": "scattermapbox"
           }
          ],
          "scatterpolargl": [
           {
            "marker": {
             "colorbar": {
              "outlinewidth": 0,
              "tickcolor": "rgb(237,237,237)",
              "ticklen": 6,
              "ticks": "inside"
             }
            },
            "type": "scatterpolargl"
           }
          ],
          "scatterpolar": [
           {
            "marker": {
             "colorbar": {
              "outlinewidth": 0,
              "tickcolor": "rgb(237,237,237)",
              "ticklen": 6,
              "ticks": "inside"
             }
            },
            "type": "scatterpolar"
           }
          ],
          "scatter": [
           {
            "fillpattern": {
             "fillmode": "overlay",
             "size": 10,
             "solidity": 0.2
            },
            "type": "scatter"
           }
          ],
          "scatterternary": [
           {
            "marker": {
             "colorbar": {
              "outlinewidth": 0,
              "tickcolor": "rgb(237,237,237)",
              "ticklen": 6,
              "ticks": "inside"
             }
            },
            "type": "scatterternary"
           }
          ],
          "surface": [
           {
            "colorbar": {
             "outlinewidth": 0,
             "tickcolor": "rgb(237,237,237)",
             "ticklen": 6,
             "ticks": "inside"
            },
            "colorscale": [
             [
              0,
              "rgb(20,44,66)"
             ],
             [
              1,
              "rgb(90,179,244)"
             ]
            ],
            "type": "surface"
           }
          ],
          "table": [
           {
            "cells": {
             "fill": {
              "color": "rgb(237,237,237)"
             },
             "line": {
              "color": "white"
             }
            },
            "header": {
             "fill": {
              "color": "rgb(217,217,217)"
             },
             "line": {
              "color": "white"
             }
            },
            "type": "table"
           }
          ]
         },
         "layout": {
          "annotationdefaults": {
           "arrowhead": 0,
           "arrowwidth": 1
          },
          "autotypenumbers": "strict",
          "coloraxis": {
           "colorbar": {
            "outlinewidth": 0,
            "tickcolor": "rgb(237,237,237)",
            "ticklen": 6,
            "ticks": "inside"
           }
          },
          "colorscale": {
           "sequential": [
            [
             0,
             "rgb(20,44,66)"
            ],
            [
             1,
             "rgb(90,179,244)"
            ]
           ],
           "sequentialminus": [
            [
             0,
             "rgb(20,44,66)"
            ],
            [
             1,
             "rgb(90,179,244)"
            ]
           ]
          },
          "colorway": [
           "#F8766D",
           "#A3A500",
           "#00BF7D",
           "#00B0F6",
           "#E76BF3"
          ],
          "font": {
           "color": "rgb(51,51,51)"
          },
          "geo": {
           "bgcolor": "white",
           "lakecolor": "white",
           "landcolor": "rgb(237,237,237)",
           "showlakes": true,
           "showland": true,
           "subunitcolor": "white"
          },
          "hoverlabel": {
           "align": "left"
          },
          "hovermode": "closest",
          "paper_bgcolor": "white",
          "plot_bgcolor": "rgb(237,237,237)",
          "polar": {
           "angularaxis": {
            "gridcolor": "white",
            "linecolor": "white",
            "showgrid": true,
            "tickcolor": "rgb(51,51,51)",
            "ticks": "outside"
           },
           "bgcolor": "rgb(237,237,237)",
           "radialaxis": {
            "gridcolor": "white",
            "linecolor": "white",
            "showgrid": true,
            "tickcolor": "rgb(51,51,51)",
            "ticks": "outside"
           }
          },
          "scene": {
           "xaxis": {
            "backgroundcolor": "rgb(237,237,237)",
            "gridcolor": "white",
            "gridwidth": 2,
            "linecolor": "white",
            "showbackground": true,
            "showgrid": true,
            "tickcolor": "rgb(51,51,51)",
            "ticks": "outside",
            "zerolinecolor": "white"
           },
           "yaxis": {
            "backgroundcolor": "rgb(237,237,237)",
            "gridcolor": "white",
            "gridwidth": 2,
            "linecolor": "white",
            "showbackground": true,
            "showgrid": true,
            "tickcolor": "rgb(51,51,51)",
            "ticks": "outside",
            "zerolinecolor": "white"
           },
           "zaxis": {
            "backgroundcolor": "rgb(237,237,237)",
            "gridcolor": "white",
            "gridwidth": 2,
            "linecolor": "white",
            "showbackground": true,
            "showgrid": true,
            "tickcolor": "rgb(51,51,51)",
            "ticks": "outside",
            "zerolinecolor": "white"
           }
          },
          "shapedefaults": {
           "fillcolor": "black",
           "line": {
            "width": 0
           },
           "opacity": 0.3
          },
          "ternary": {
           "aaxis": {
            "gridcolor": "white",
            "linecolor": "white",
            "showgrid": true,
            "tickcolor": "rgb(51,51,51)",
            "ticks": "outside"
           },
           "baxis": {
            "gridcolor": "white",
            "linecolor": "white",
            "showgrid": true,
            "tickcolor": "rgb(51,51,51)",
            "ticks": "outside"
           },
           "bgcolor": "rgb(237,237,237)",
           "caxis": {
            "gridcolor": "white",
            "linecolor": "white",
            "showgrid": true,
            "tickcolor": "rgb(51,51,51)",
            "ticks": "outside"
           }
          },
          "xaxis": {
           "automargin": true,
           "gridcolor": "white",
           "linecolor": "white",
           "showgrid": true,
           "tickcolor": "rgb(51,51,51)",
           "ticks": "outside",
           "title": {
            "standoff": 15
           },
           "zerolinecolor": "white"
          },
          "yaxis": {
           "automargin": true,
           "gridcolor": "white",
           "linecolor": "white",
           "showgrid": true,
           "tickcolor": "rgb(51,51,51)",
           "ticks": "outside",
           "title": {
            "standoff": 15
           },
           "zerolinecolor": "white"
          }
         }
        },
        "margin": {
         "r": 20,
         "l": 10,
         "b": 15,
         "t": 10
        },
        "legend": {
         "orientation": "h",
         "yanchor": "bottom",
         "y": 0.9,
         "xanchor": "right",
         "x": 0.85
        },
        "width": 1200,
        "height": 750,
        "scene": {
         "xaxis": {
          "title": {
           "text": "Pulse Width (msec)"
          }
         },
         "yaxis": {
          "title": {
           "text": "Energy density new cone (J/cm^2)"
          }
         },
         "zaxis": {
          "title": {
           "text": "2 Qsw/(U+|D|) 1e6"
          }
         },
         "camera": {
          "up": {
           "x": 0,
           "y": 0,
           "z": 1
          },
          "center": {
           "x": 0,
           "y": 0,
           "z": 0
          },
          "eye": {
           "x": 2,
           "y": 0.3,
           "z": 0.75
          }
         }
        }
       },
       "config": {
        "plotlyServerURL": "https://plot.ly"
       }
      }
     },
     "metadata": {}
    }
   ],
   "metadata": {}
  },
  {
   "cell_type": "code",
   "execution_count": 270,
   "source": [
    "# check fig of merit of julia et al prediction point\n",
    "model.eval(), likelihood.eval()\n",
    "nlcb = np.array((2.9, 9.04)).reshape(1,2)\n",
    "nlcb_scaled = scaler.transform(nlcb)\n",
    "print(nlcb_scaled)\n",
    "\n",
    "y_preds_nlcb = likelihood(model(torch.Tensor(nlcb_scaled)))\n",
    "\n",
    "with torch.no_grad(): y_preds_nlcb_mean = y_preds_nlcb.mean.numpy()\n",
    "print(y_preds_nlcb_mean)"
   ],
   "outputs": [
    {
     "output_type": "stream",
     "name": "stdout",
     "text": [
      "[[0.53333333 0.4964595 ]]\n",
      "[2.4592438]\n"
     ]
    },
    {
     "output_type": "stream",
     "name": "stderr",
     "text": [
      "/Users/valenetjong/opt/anaconda3/envs/FEGP/lib/python3.9/site-packages/gpytorch/likelihoods/gaussian_likelihood.py:270: GPInputWarning:\n",
      "\n",
      "You have passed data through a FixedNoiseGaussianLikelihood that did not match the size of the fixed noise, *and* you did not specify noise. This is treated as a no-op.\n",
      "\n"
     ]
    }
   ],
   "metadata": {}
  },
  {
   "cell_type": "markdown",
   "source": [
    "### Post-processing\n",
    "- Energy density, pulse width --> voltage function"
   ],
   "metadata": {}
  },
  {
   "cell_type": "code",
   "execution_count": 271,
   "source": [
    "import GPy\n",
    "from GPy.models import GPRegression\n",
    "from emukit.model_wrappers import GPyModelWrapper\n",
    "from torch.optim import Adam as Adam\n",
    "from emukit.core import ParameterSpace, ContinuousParameter"
   ],
   "outputs": [],
   "metadata": {}
  },
  {
   "cell_type": "markdown",
   "source": [
    "#### Load Data"
   ],
   "metadata": {}
  },
  {
   "cell_type": "code",
   "execution_count": 272,
   "source": [
    "dir = \"/Users/valenetjong/Bayesian-Optimization-Ferroelectrics/data/\"\n",
    "in_file = \"MKS_Ophir_joulemeter_readings.xlsx\"\n",
    "df = pd.read_excel(dir + in_file, sheet_name=\"Sheet2\")\n",
    "df = df.dropna().sort_values(\"Voltage Setting\") # Drop rows with NaN values, sort\n",
    "print(df)\n",
    "\n",
    "time_bol_dat = df['Pulse width'].values\n",
    "energy_den_bol_dat = df['optical read (J/cm^2)'].values\n",
    "volts_bol_dat = df['Voltage Setting'].values\n",
    "\n",
    "# define scaler\n",
    "post_scaler = MinMaxScaler()\n",
    "\n",
    "# make, scale training set\n",
    "x_exp_raw = np.stack((time_bol_dat, energy_den_bol_dat), axis=1)\n",
    "x_exp = post_scaler.fit_transform(x_exp_raw)\n",
    "\n",
    "y_exp = np.reshape(volts_bol_dat,(-1,1))\n",
    "X, Y = [x_exp, y_exp]"
   ],
   "outputs": [
    {
     "output_type": "stream",
     "name": "stdout",
     "text": [
      "     Voltage Setting  Pulse width  optical read (J/cm^2)\n",
      "111           1950.0       5000.0                   8.80\n",
      "102           1950.0        500.0                   1.37\n",
      "103           1950.0       1000.0                   2.70\n",
      "104           1950.0       1500.0                   3.84\n",
      "105           1950.0       2000.0                   4.83\n",
      "..               ...          ...                    ...\n",
      "65            2800.0       2000.0                  12.08\n",
      "64            2800.0       1500.0                   9.91\n",
      "63            2800.0       1000.0                   7.22\n",
      "91            3000.0       5000.0                  21.81\n",
      "83            3000.0       1000.0                  10.27\n",
      "\n",
      "[92 rows x 3 columns]\n"
     ]
    }
   ],
   "metadata": {}
  },
  {
   "cell_type": "markdown",
   "source": [
    "#### GP Voltage Model"
   ],
   "metadata": {}
  },
  {
   "cell_type": "code",
   "execution_count": 273,
   "source": [
    "def grid_maker_1D(arr, step_size):\n",
    "    return np.arange(arr.min(), arr.max()+step_size*0.1,step_size)\n",
    "\n",
    "# make GP grid; min delta time: 500us, min delta energy density: 0.01J/cm^2\n",
    "var_array = [grid_maker_1D(time_bol_dat, 500), grid_maker_1D(energy_den_bol_dat, 0.01)]"
   ],
   "outputs": [],
   "metadata": {}
  },
  {
   "cell_type": "code",
   "execution_count": 274,
   "source": [
    "# continuous parameter creates a grid space for grid search\n",
    "time_len_num, e_den_num = len(var_array[0]), len(var_array[1])\n",
    "parameter_space = ParameterSpace([ContinuousParameter(\"Time (ms)\", 0-1/(time_len_num-1)/2, 1+1/(time_len_num-1)/2),\n",
    "                                  ContinuousParameter(\"Energy density new cone (J/cm^2)\", 0-1/(e_den_num-1)/2, 1+1/(e_den_num-1)/2),\n",
    "                                 ])"
   ],
   "outputs": [],
   "metadata": {}
  },
  {
   "cell_type": "code",
   "execution_count": 275,
   "source": [
    "# define GP model\n",
    "kernel = GPy.kern.src.stationary.Exponential(input_dim = len(X[0]), ARD =True)\n",
    "kernel.lengthscale.constrain_bounded(1e-2, 1)\n",
    "kernel.variance.constrain_bounded(1e-2, 500.0)\n",
    "model_volt = GPRegression(X , -Y, kernel)   # optimize thru minimization\n",
    "model_volt.Gaussian_noise.variance = 0.15\n",
    "model_volt.Gaussian_noise.variance.fix()"
   ],
   "outputs": [
    {
     "output_type": "stream",
     "name": "stderr",
     "text": [
      "reconstraining parameters Exponential.lengthscale\n",
      "reconstraining parameters Exponential.variance\n"
     ]
    },
    {
     "output_type": "execute_result",
     "data": {
      "text/plain": [
       "array([0])"
      ]
     },
     "metadata": {},
     "execution_count": 275
    }
   ],
   "metadata": {}
  },
  {
   "cell_type": "code",
   "execution_count": 276,
   "source": [
    "# randomize hyperparameters\n",
    "model_volt.randomize() \n",
    "\n",
    "# check hyperparameters \n",
    "# print(kernel.lengthscale, '\\n', kernel.variance)\n",
    "print(kernel)"
   ],
   "outputs": [
    {
     "output_type": "stream",
     "name": "stdout",
     "text": [
      "  \u001b[1mExponential.\u001b[0;0m  |               value  |  constraints  |  priors\n",
      "  \u001b[1mvariance    \u001b[0;0m  |  329.57578604469705  |  0.01,500.0   |        \n",
      "  \u001b[1mlengthscale \u001b[0;0m  |                (2,)  |   0.01,1.0    |        \n"
     ]
    }
   ],
   "metadata": {}
  },
  {
   "cell_type": "code",
   "execution_count": 277,
   "source": [
    "# train voltage model\n",
    "model_volt.optimize_restarts(num_restarts=30, verbose =False, messages=False) # fit to training data, select best hyperparameters out of num_restarts \n",
    "objective_model = GPyModelWrapper(model_volt)\n",
    "# print(objective_model.model.kern.lengthscale, '\\n', objective_model.model.kern.variance)\n",
    "print(kernel)"
   ],
   "outputs": [
    {
     "output_type": "stream",
     "name": "stdout",
     "text": [
      "  \u001b[1mExponential.\u001b[0;0m  |               value  |  constraints  |  priors\n",
      "  \u001b[1mvariance    \u001b[0;0m  |  499.99999928622094  |  0.01,500.0   |        \n",
      "  \u001b[1mlengthscale \u001b[0;0m  |                (2,)  |   0.01,1.0    |        \n"
     ]
    }
   ],
   "metadata": {}
  },
  {
   "cell_type": "code",
   "execution_count": 278,
   "source": [
    "# predict voltage training set\n",
    "gp_func =  objective_model.model.predict\n",
    "y_pred, y_err = gp_func(X)\n",
    "y_pred, y_err = -y_pred[:,-1], np.sqrt(y_err[:,-1])"
   ],
   "outputs": [],
   "metadata": {}
  },
  {
   "cell_type": "code",
   "execution_count": 279,
   "source": [
    "# plot voltage training results \n",
    "plot_gp_res(y_exp.reshape(-1), y_pred, None, y_err)\n",
    "prettyplot()\n",
    "\n",
    "# plot actuals v. predicted values w/ error bars\n",
    "fs = 14 \n",
    "fig, axes = plt.subplots(1, 2, figsize=(16, 4.5))\n",
    "plt_inputs = np.arange(len(Y))\n",
    "axes[0].scatter(plt_inputs, Y[:,0].T, s = 20, color = \"#72356c\", label = 'experiment')\n",
    "axes[0].plot(plt_inputs, y_pred, color = 'black', label = 'predicted')\n",
    "axes[0].errorbar(plt_inputs, y_pred, y_err, zorder = 0)\n",
    "\n",
    "# set up axes and labels\n",
    "axes[0].set_ylabel('Output (Voltage)', fontsize = fs)\n",
    "axes[0].set_xlabel('Input (Time, Energy Density)', fontsize = fs)\n",
    "axes[0].set_title(\"Predicted v. Actuals\", fontsize = fs)\n",
    "axes[0].legend(fontsize = fs*0.8)\n",
    "axes[1].axis(\"off\")\n",
    "\n",
    "plt.show()"
   ],
   "outputs": [
    {
     "output_type": "stream",
     "name": "stdout",
     "text": [
      "     Metric  Value\n",
      "0      RMSE  8.244\n",
      "1       MAE  2.800\n",
      "2  Spearman  0.992\n",
      "3  R² score  0.999\n"
     ]
    },
    {
     "output_type": "display_data",
     "data": {
      "image/png": "[encoded data removed]",
      "text/plain": [
       "<Figure size 3300x900 with 3 Axes>"
      ]
     },
     "metadata": {}
    },
    {
     "output_type": "display_data",
     "data": {
      "image/png": "[encoded data removed]",
      "text/plain": [
       "<Figure size 3200x900 with 2 Axes>"
      ]
     },
     "metadata": {}
    }
   ],
   "metadata": {}
  },
  {
   "cell_type": "code",
   "execution_count": 280,
   "source": [
    "# get voltage of prediction points and re-scale to raw\n",
    "get_pos_volt = lambda pt: round(-1*(gp_func(pt)[0].item()),-2)\n",
    "ucb_pt, nlcd_pt = np.array(ucb_pt).reshape(1,2), np.array(nlcd_pt).reshape(1,2)\n",
    "ucb_pt_scaled, nlcd_pt_scaled = post_scaler.transform(ucb_pt), post_scaler.transform(nlcd_pt)\n",
    "ucb_pt, nlcd_pt = ucb_pt.reshape(-1), nlcd_pt.reshape(-1)\n",
    "ucb_pt_time, ucb_pt_eden, ucb_pt_volt = ucb_pt[0]/1000, ucb_pt[1], get_pos_volt(ucb_pt_scaled)\n",
    "nlcd_pt_time, nlcd_pt_eden, nlcd_pt_volt = nlcd_pt[0]/1000, nlcd_pt[1], get_pos_volt(nlcd_pt_scaled)\n",
    "\n",
    "# write to csv\n",
    "dir = \"/Users/valenetjong/Bayesian-Optimization-Ferroelectrics/predictions/\"\n",
    "file_out = \"final_preds.csv\"\n",
    "file = open(dir + file_out, \"a\", encoding=\"utf-8\")\n",
    "file.write(\"GP fit predictions: \\n\")\n",
    "file.write(\"Type\\t Time (ms)\\t Energy density(J\\cm^2)\\t Voltage()\\n\")\n",
    "file.write(\"UCB:\\t\" + str(ucb_pt_time) + \"\\t\" + str(ucb_pt_eden) +\"\\t\" + str(ucb_pt_volt) + \"\\n\")\n",
    "file.write(\"NLCB:\\t\" + str(nlcd_pt_time) + \"\\t\" + str(ucb_pt_eden) +\"\\t\" + str(nlcd_pt_volt) + \"\\n\")"
   ],
   "outputs": [
    {
     "output_type": "execute_result",
     "data": {
      "text/plain": [
       "22"
      ]
     },
     "metadata": {},
     "execution_count": 280
    }
   ],
   "metadata": {}
  },
  {
   "cell_type": "markdown",
   "source": [
    "#### Plot GP Function, Scipy Optimize Function, against Raw Data"
   ],
   "metadata": {}
  },
  {
   "cell_type": "code",
   "execution_count": 281,
   "source": [
    "# make, scale post_test_grid\n",
    "_, _, post_test_grid, post_test_arr = grid_maker(torch.Tensor(X))\n",
    "volt_on_grid, _ = gp_func(post_test_arr.numpy())\n",
    "volt_on_grid = -1 * volt_on_grid.reshape(30,30).T\n",
    "raw_post_test_arr, raw_post_test_grid = un_norm_x(post_test_arr, post_test_grid, post_scaler)"
   ],
   "outputs": [],
   "metadata": {}
  },
  {
   "cell_type": "code",
   "execution_count": 282,
   "source": [
    "import plotly.graph_objects as go\n",
    "import matplotlib.pyplot as plt\n",
    "import matplotlib as mpl\n",
    "\n",
    "fig = go.Figure(data=[go.Scatter3d(z=volts_bol_dat, \n",
    "                                    x=time_bol_dat,\n",
    "                                    y=energy_den_bol_dat, \n",
    "                                    mode='markers',\n",
    "                                    marker={'color':'darkgreen'},\n",
    "                                    name='GP regression')])\n",
    "fig.add_trace(go.Surface(z=volt_on_grid, \n",
    "                            x=raw_post_test_grid[:,0],\n",
    "                            y=raw_post_test_grid[:,1],\n",
    "                            opacity=0.8,\n",
    "                            colorbar=dict(thickness=15, len=0.5)))\n",
    "\n",
    "fig.update_layout(width=1000, height=800,\n",
    "                    legend=dict(orientation=\"h\", yanchor=\"top\", y=1.02, \n",
    "                    xanchor=\"left\",x=1), margin=dict(r=20, l=10, b=10, t=10), \n",
    "                        scene=dict(\n",
    "                        xaxis_title=\"Pulse width (μs)\",\n",
    "                        yaxis_title=\"Energy density new cone (J/cm^2)\",\n",
    "                        zaxis_title='Voltage')\n",
    "                    )\n",
    "camera = dict(\n",
    "        up=dict(x=0, y=0, z=1),\n",
    "        center=dict(x=0, y=0, z=0),\n",
    "        eye=dict(x=-2, y=-2.5, z=1.75)\n",
    ")\n",
    "fig.update_layout(scene_camera=camera)\n",
    "fig.show()"
   ],
   "outputs": [
    {
     "output_type": "display_data",
     "data": {
      "application/vnd.plotly.v1+json": {
       "data": [
        {
         "marker": {
          "color": "darkgreen"
         },
         "mode": "markers",
         "name": "GP regression",
         "x": [
          5000,
          500,
          1000,
          1500,
          2000,
          4500,
          3000,
          3500,
          4000,
          2500,
          500,
          4500,
          4000,
          3500,
          3000,
          2500,
          2000,
          1500,
          1000,
          5000,
          500,
          1000,
          2000,
          2500,
          3000,
          3500,
          4000,
          4500,
          1500,
          5000,
          1000,
          1500,
          2000,
          5000,
          2500,
          3000,
          3500,
          500,
          4000,
          4500,
          5000,
          1500,
          500,
          2000,
          2500,
          3000,
          3500,
          4000,
          4500,
          1000,
          500,
          1000,
          1500,
          2000,
          2500,
          3000,
          3500,
          4000,
          5000,
          4500,
          3000,
          500,
          1000,
          1500,
          2000,
          2500,
          3500,
          4000,
          4500,
          5000,
          2500,
          500,
          1000,
          1500,
          2000,
          3500,
          4000,
          4500,
          5000,
          3000,
          500,
          5000,
          4500,
          4000,
          3500,
          3000,
          2500,
          2000,
          1500,
          1000,
          5000,
          1000
         ],
         "y": [
          8.8,
          1.37,
          2.7,
          3.84,
          4.83,
          8.39,
          6.78,
          7.36,
          7.94,
          5.66,
          1.49,
          8.39,
          7.94,
          7.36,
          6.78,
          6.07,
          5.18,
          4.12,
          2.89,
          8.8,
          1.92,
          3.79,
          6.65,
          7.73,
          8.59,
          9.36,
          9.99,
          10.53,
          5.36,
          11.02,
          4.26,
          6.01,
          7.43,
          12.18,
          8.63,
          9.58,
          10.41,
          2.14,
          11.08,
          11.65,
          13.4,
          6.72,
          2.46,
          8.28,
          9.59,
          10.66,
          11.49,
          12.21,
          12.85,
          4.79,
          2.73,
          5.38,
          7.48,
          9.18,
          10.53,
          11.71,
          12.66,
          13.35,
          14.67,
          14.11,
          12.83,
          3.04,
          5.99,
          8.29,
          10.1,
          11.62,
          13.83,
          14.7,
          15.45,
          15.98,
          12.57,
          3.4,
          6.44,
          8.99,
          11.01,
          15.03,
          15.99,
          16.74,
          17.38,
          13.97,
          3.7,
          18.93,
          18.24,
          17.44,
          16.48,
          15.29,
          13.89,
          12.08,
          9.91,
          7.22,
          21.81,
          10.27
         ],
         "z": [
          1950,
          1950,
          1950,
          1950,
          1950,
          1950,
          1950,
          1950,
          1950,
          1950,
          2000,
          2000,
          2000,
          2000,
          2000,
          2000,
          2000,
          2000,
          2000,
          2000,
          2200,
          2200,
          2200,
          2200,
          2200,
          2200,
          2200,
          2200,
          2200,
          2200,
          2300,
          2300,
          2300,
          2300,
          2300,
          2300,
          2300,
          2300,
          2300,
          2300,
          2400,
          2400,
          2400,
          2400,
          2400,
          2400,
          2400,
          2400,
          2400,
          2400,
          2500,
          2500,
          2500,
          2500,
          2500,
          2500,
          2500,
          2500,
          2500,
          2500,
          2600,
          2600,
          2600,
          2600,
          2600,
          2600,
          2600,
          2600,
          2600,
          2600,
          2700,
          2700,
          2700,
          2700,
          2700,
          2700,
          2700,
          2700,
          2700,
          2700,
          2800,
          2800,
          2800,
          2800,
          2800,
          2800,
          2800,
          2800,
          2800,
          2800,
          3000,
          3000
         ],
         "type": "scatter3d"
        },
        {
         "colorbar": {
          "len": 0.5,
          "thickness": 15
         },
         "opacity": 0.8,
         "x": [
          339.28570710122585,
          505.54186291992664,
          671.7980187386273,
          838.0541577935218,
          1004.3103471398352,
          1170.5665364861488,
          1336.822658777237,
          1503.078781068325,
          1669.3349033594131,
          1835.5910927057264,
          2001.8471479415891,
          2168.103337287903,
          2334.3595266342163,
          2500.61571598053,
          2666.8719053268433,
          2833.1280946731567,
          2999.38428401947,
          3165.6404733657837,
          3331.896662712097,
          3498.152583837509,
          3664.4087731838226,
          3830.664962530136,
          3996.9211518764496,
          4163.177341222763,
          4329.433262348175,
          4495.6894516944885,
          4661.945641040802,
          4828.2018303871155,
          4994.458019733429,
          5160.714209079742
         ],
         "y": [
          0.6399999673664571,
          1.3951723729074001,
          2.150344778448343,
          2.9055171078443527,
          3.660689665675163,
          4.4158622235059735,
          5.171034476757049,
          5.926206730008125,
          6.6813789832592,
          7.436551541090011,
          8.191723489761351,
          8.946896047592162,
          9.702068605422973,
          10.457241163253784,
          11.212413721084593,
          11.967586278915403,
          12.722758836746214,
          13.477931394577025,
          14.233103952407836,
          14.988275291919706,
          15.743447849750517,
          16.498620407581328,
          17.25379296541214,
          18.00896552324295,
          18.76413686275482,
          19.519309420585632,
          20.27448197841644,
          21.029654536247254,
          21.784827094078064,
          22.539999651908875
         ],
         "z": [
          [
           1894.5745538387757,
           1838.8390155093032,
           1801.0849856609675,
           1761.9834178467734,
           1717.2249756716692,
           1675.414941267028,
           1640.4969342241238,
           1611.8192132836175,
           1587.6930898665455,
           1566.7931084831193,
           1548.2244008131793,
           1531.382171398454,
           1515.8487350417481,
           1501.32734036666,
           1487.602018062259,
           1474.5124368277566,
           1461.9350106942547,
           1449.7672934988773,
           1437.9160462130085,
           1426.2896159852617,
           1414.794178303739,
           1403.3329689759648,
           1391.8068358932303,
           1380.1155308323769,
           1368.159357203458,
           1355.841133940431,
           1343.0688605991072,
           1329.7586246151059,
           1315.8377492004124,
           1301.2476400614582
          ],
          [
           2061.1258011469045,
           1959.968908333086,
           1943.7596701866132,
           1879.1949336547896,
           1806.5645594852763,
           1749.5155874790694,
           1708.6274624615814,
           1677.0665048897345,
           1650.930469493829,
           1628.3990233283785,
           1608.419014840215,
           1590.3175987936927,
           1573.648782003423,
           1558.097027809004,
           1543.4341370052748,
           1529.4970082259774,
           1516.165389483872,
           1503.3400565860347,
           1490.9262834990404,
           1478.824759881928,
           1466.9289289957069,
           1455.1262649455482,
           1443.3003871603055,
           1431.3329927269058,
           1419.1055729731636,
           1406.5014680759482,
           1393.40906056605,
           1379.7257183661977,
           1365.3622911835223,
           1350.247270667809
          ],
          [
           2314.9346068041796,
           2299.2300578282993,
           2168.31823991554,
           2024.5671519342081,
           1896.01898888379,
           1826.4364433340008,
           1783.6738239807887,
           1749.229347088474,
           1720.2364323782679,
           1695.3161756294492,
           1673.2540867612165,
           1653.323018967401,
           1635.058373701832,
           1618.094922032055,
           1602.1667055087132,
           1587.1017750030774,
           1572.7855997048132,
           1559.1237608004235,
           1546.0169611485776,
           1533.3507466620574,
           1520.9968414220223,
           1508.819237148381,
           1496.6787465236375,
           1484.4348312843417,
           1471.9461410151555,
           1459.0717932510315,
           1445.6749546879946,
           1431.6283277088082,
           1416.8208609505482,
           1401.1640907830745
          ],
          [
           2554.495144862667,
           2552.7801230799073,
           2394.054954888065,
           2188.887486699341,
           2000.8053191138542,
           1926.5867897838193,
           1875.3604983999621,
           1832.119904852802,
           1797.7171692119432,
           1769.0439233372294,
           1743.6796552301257,
           1721.0270443522393,
           1700.5575361008512,
           1681.6918033604145,
           1664.0676282314648,
           1647.5075693720587,
           1631.912255675762,
           1617.1956342123408,
           1603.2467015859881,
           1589.9196700082898,
           1577.0478230462363,
           1564.460566334652,
           1551.9905657868076,
           1539.4724035264585,
           1526.7388056010452,
           1513.6194475597845,
           1499.9448566285228,
           1485.5545510750967,
           1470.307644338564,
           1454.092989349782
          ],
          [
           2723.700629214666,
           2782.0514706931626,
           2573.295321534245,
           2357.699114465806,
           2172.604648410164,
           2065.527762296869,
           1989.4360660718755,
           1925.850882773795,
           1886.0942576496527,
           1851.306734536677,
           1820.3439236884346,
           1793.8931470317414,
           1770.6415136274145,
           1749.2764204558991,
           1729.393221471826,
           1710.8680161971783,
           1693.627379053782,
           1677.6044471435248,
           1662.6619912814185,
           1648.5855149635145,
           1635.1388729532728,
           1622.1040805896764,
           1609.2851249337023,
           1596.4944379798962,
           1583.5385182102245,
           1570.2118269181892,
           1556.3017246926975,
           1541.6016174294896,
           1525.9285754837115,
           1509.1403409268319
          ],
          [
           2770.4250866451966,
           2766.144694661468,
           2651.5469963287837,
           2486.171750290318,
           2327.8881011855683,
           2212.3503803445374,
           2121.538432299123,
           2047.6122452188945,
           1990.3531320256807,
           1943.2826270535807,
           1902.7557226994468,
           1872.6614001962903,
           1846.1530699076957,
           1821.2945850348433,
           1798.3982541857567,
           1777.3293792802515,
           1757.9786245965324,
           1740.3783999785105,
           1724.32805819625,
           1709.4426586778231,
           1695.3650212969287,
           1681.827648673473,
           1668.620756916923,
           1655.5491323370477,
           1642.397338325415,
           1628.9168470778388,
           1614.8357019749456,
           1599.8806854362606,
           1583.8070377935487,
           1566.4284604684126
          ],
          [
           2776.4955756795,
           2765.534002420479,
           2696.8413470131527,
           2586.3848510748085,
           2463.029555658296,
           2353.658485137264,
           2255.226984990164,
           2169.318687845825,
           2101.594695881434,
           2045.3937139365232,
           1998.2290602303178,
           1961.1057191689104,
           1928.4645161007682,
           1897.9907148144925,
           1871.514206660741,
           1847.1593050776496,
           1824.972600839801,
           1805.5653773540175,
           1788.4335659273643,
           1772.7171331504492,
           1757.9162850808752,
           1743.7637300675137,
           1730.0764437963453,
           1716.6867970108372,
           1703.3653095125705,
           1689.8044846385487,
           1675.6484613478142,
           1660.5250139630564,
           1644.0932676133407,
           1626.1018559371396
          ],
          [
           2787.313724663075,
           2786.2574166993913,
           2750.078911060683,
           2683.050798162025,
           2587.400639744096,
           2489.559716281744,
           2383.028813887075,
           2286.209846217487,
           2212.313559929406,
           2152.2895460163572,
           2101.5296586749437,
           2057.5333499045787,
           2018.2111167369756,
           1982.241797816773,
           1950.6234068080641,
           1920.9522830252536,
           1894.4398155061806,
           1873.4872500097313,
           1855.6287047087699,
           1838.9233102324595,
           1823.1553784958442,
           1808.1469784649807,
           1793.7656094866697,
           1779.967508180569,
           1766.5013091831709,
           1752.9525934103378,
           1738.859760061335,
           1723.7040020709428,
           1706.9800414554243,
           1688.334620606418
          ],
          [
           2803.6896301087227,
           2816.0858975514293,
           2806.609981043519,
           2778.8226156308433,
           2727.8139096113146,
           2617.3854433643983,
           2499.788839426598,
           2393.473175323859,
           2318.1571760863194,
           2256.464398825218,
           2203.520515739413,
           2155.041612654708,
           2111.974920070277,
           2072.9259705813,
           2036.0886161942976,
           2000.385854358232,
           1965.7449617248662,
           1946.6751042094206,
           1927.7525116063414,
           1908.8751603285891,
           1891.746459355389,
           1875.436658568035,
           1859.842554683085,
           1845.509480504909,
           1831.939107328853,
           1818.4602357408048,
           1804.6126424009476,
           1789.6496178663822,
           1772.728971252141,
           1753.3333161621588
          ],
          [
           2820.1831861456903,
           2844.0156295315755,
           2851.529425519106,
           2842.486947679013,
           2807.448277142953,
           2710.561303688053,
           2598.969275198326,
           2493.367592454761,
           2418.514030319814,
           2355.547854841681,
           2300.1890273813874,
           2249.2458439791462,
           2204.5293096453956,
           2164.389430948996,
           2125.5559410618976,
           2089.4014465233563,
           2057.2069677753057,
           2031.2296125303378,
           2007.4791135626615,
           1983.7618968125619,
           1965.526948269955,
           1946.7039028588006,
           1928.4053534792063,
           1913.8632407581838,
           1900.1691570577614,
           1886.4277129686407,
           1873.082617364287,
           1858.7184971998279,
           1841.7061448232398,
           1821.3072065022266
          ],
          [
           2832.730398196505,
           2865.2897744325687,
           2882.8538552873006,
           2880.27774028262,
           2847.542003238568,
           2778.5784465493557,
           2685.9775975672305,
           2587.6375561917916,
           2515.9093511666133,
           2449.8842185376716,
           2389.3568538963714,
           2337.9326018587817,
           2292.535685413293,
           2251.741427957423,
           2213.968849908282,
           2180.6362078461443,
           2151.1445638024543,
           2121.07140397795,
           2093.6228862227385,
           2068.9581093400257,
           2046.3582935645713,
           2024.3962692021805,
           2003.1654226079372,
           1987.9427072805584,
           1972.7100179055008,
           1956.675501827057,
           1944.85583133295,
           1931.441849805524,
           1914.3525012796515,
           1892.2742420026627
          ],
          [
           2839.1751325252585,
           2879.6413636479656,
           2907.497491698529,
           2916.7147548722314,
           2897.6789713281164,
           2845.990751523311,
           2772.229774371299,
           2692.7236433610224,
           2613.6305940395887,
           2540.747396869732,
           2474.78719170496,
           2422.3057244447327,
           2375.8528922966675,
           2333.7055160914456,
           2297.0563943602156,
           2265.2949896832383,
           2236.7082370077833,
           2206.1522518696293,
           2178.6264432325556,
           2154.343469723082,
           2129.9013694369573,
           2107.249041167319,
           2086.905122574605,
           2068.5781315588647,
           2051.3817958098275,
           2035.3423897131393,
           2021.730221463916,
           2007.4258531345624,
           1989.87344477034,
           1965.1727250250278
          ],
          [
           2837.411045064847,
           2885.0861120632135,
           2924.627854963349,
           2952.593680287351,
           2954.5257898550235,
           2909.9625872803836,
           2845.9917323742593,
           2778.162436487919,
           2700.4039553051207,
           2625.7543301465416,
           2558.4266586866925,
           2505.150883631395,
           2457.273469319772,
           2412.2278523755185,
           2375.5277803361305,
           2342.2532912960073,
           2311.776244587726,
           2282.8575309114544,
           2256.9026909854338,
           2233.506015221177,
           2209.611791611192,
           2188.238669900938,
           2169.495446846271,
           2149.5814234543486,
           2131.6118135551264,
           2115.719076692917,
           2100.6514176185683,
           2084.6078069509053,
           2064.6924338109325,
           2038.6032895736362
          ],
          [
           2825.075880361287,
           2876.9189829151182,
           2923.480237838036,
           2964.2064302809176,
           2989.136101352079,
           2944.2096662605472,
           2888.71498191138,
           2830.4400822959974,
           2766.415110827261,
           2701.9592100734526,
           2640.7115653352475,
           2587.9567990935666,
           2538.242998209702,
           2492.4142064540056,
           2451.7264623201754,
           2415.438915924621,
           2381.92892637207,
           2354.394644586244,
           2328.988625234303,
           2304.758636156739,
           2282.998727069483,
           2262.7614720349584,
           2244.034258431113,
           2225.0574320147016,
           2207.856056483495,
           2193.1284187406595,
           2177.4969106595927,
           2161.742707750911,
           2141.944277218664,
           2112.8850012855464
          ],
          [
           2801.4117367928266,
           2853.2533168589084,
           2898.811877450945,
           2934.0963988859294,
           2948.5343943505895,
           2933.210238350289,
           2899.4152885017334,
           2857.959885302368,
           2813.0142960566723,
           2767.1934750216087,
           2719.7151345876596,
           2667.9552082719238,
           2614.7152004452187,
           2564.593848020147,
           2524.661012456306,
           2487.9570734743374,
           2453.7165357254116,
           2424.76841801321,
           2398.942933540126,
           2375.0830158287117,
           2352.8131593038015,
           2332.087236822305,
           2312.393228294599,
           2294.654033442812,
           2277.968139859076,
           2262.6433655028513,
           2248.8455519227527,
           2234.7915271706,
           2216.985325564314,
           2184.5039904578493
          ],
          [
           2768.216908001118,
           2817.861854954288,
           2860.211753591025,
           2891.7392067314677,
           2907.827688453357,
           2906.4428532285738,
           2891.207683783438,
           2867.9420480819826,
           2841.4307360571133,
           2815.3715611960138,
           2789.7267053064857,
           2737.7302860856216,
           2686.612253231824,
           2638.4155141290917,
           2598.622013952773,
           2560.3589141272278,
           2524.3121257408816,
           2493.9145293389693,
           2466.798499548059,
           2441.960923475488,
           2419.7640121910117,
           2399.184047954794,
           2379.387109788539,
           2361.3787123296247,
           2344.0813352330374,
           2328.151804001455,
           2315.0683821893144,
           2301.2843443611864,
           2282.058078829411,
           2250.3014149714413
          ],
          [
           2728.3966683998365,
           2775.698797742118,
           2815.911982515324,
           2846.8300812529606,
           2866.448254128598,
           2874.277222228686,
           2872.0816481446404,
           2863.019375799472,
           2850.241667528025,
           2835.5603705742324,
           2815.6561277822693,
           2783.957112232883,
           2748.44926712713,
           2712.7370320957893,
           2671.8038999855276,
           2630.6676171207123,
           2591.241695446797,
           2561.354230680102,
           2533.0863027016617,
           2505.928518919485,
           2484.864183901786,
           2465.141386475303,
           2445.8565614262275,
           2426.505575578673,
           2407.7418867089636,
           2390.439377589898,
           2378.0008313704507,
           2364.2944659861078,
           2344.261763510936,
           2312.9043747194746
          ],
          [
           2684.3971834442373,
           2729.9166226363695,
           2769.144478309652,
           2800.7835578479358,
           2823.905292861922,
           2838.447068716965,
           2845.413809193695,
           2846.5178530161484,
           2843.424541101994,
           2836.833605256565,
           2825.94439430856,
           2810.48221363972,
           2792.8402504461133,
           2771.23173178472,
           2735.1566219916303,
           2696.168368443512,
           2659.7165807794927,
           2628.705262494076,
           2599.3296916516592,
           2571.471423170119,
           2549.098625235854,
           2529.018699468373,
           2510.159770104477,
           2488.855378272627,
           2469.171795674976,
           2452.180153710136,
           2439.090514182978,
           2425.543596245041,
           2406.6428790108425,
           2373.7630380698283
          ],
          [
           2637.8095908224104,
           2682.102573932236,
           2721.01874449144,
           2753.784437702584,
           2779.935685382483,
           2799.516683050162,
           2813.125101700559,
           2821.721277780505,
           2826.2655069339226,
           2827.384818174646,
           2825.425046403011,
           2821.0781665328404,
           2815.5287899147356,
           2806.0181396618914,
           2780.2762717412897,
           2751.5056272222237,
           2722.4277023256946,
           2693.962839508478,
           2664.404641553143,
           2635.977629195536,
           2612.0281321838092,
           2589.251811533316,
           2566.8170201460543,
           2546.855242663254,
           2527.842700556456,
           2510.313955433481,
           2498.2693431300277,
           2485.0994063460553,
           2465.1716540957013,
           2432.8152691029572
          ],
          [
           2589.572358277209,
           2633.021545920493,
           2671.939008244707,
           2705.844383251473,
           2734.485099882382,
           2757.9186904261,
           2776.515355869482,
           2790.8578441387426,
           2801.5783553022875,
           2809.228761353619,
           2814.2707705915145,
           2817.077592015155,
           2817.458190608233,
           2813.5739533762344,
           2804.149554238882,
           2792.7248706768682,
           2779.6925288584025,
           2752.4482200678262,
           2724.2526936209542,
           2697.160357267413,
           2673.318057022662,
           2648.62955799665,
           2624.1162727243304,
           2604.3627918789716,
           2585.3429603831073,
           2567.956511600323,
           2556.1567618900112,
           2543.65722425293,
           2523.9518028514435,
           2490.6213900827042
          ],
          [
           2540.230405259007,
           2583.0587044409044,
           2622.0810913359287,
           2656.9844039613413,
           2687.6181558192593,
           2714.0300176303895,
           2736.4593777804184,
           2755.2837110446267,
           2770.937109742061,
           2783.834450207122,
           2794.3129484311494,
           2802.54408263016,
           2808.3821340814975,
           2811.4531753354645,
           2812.0145818305887,
           2811.3188374544616,
           2807.1420642881644,
           2790.927552030742,
           2772.5221897704105,
           2753.7061630115177,
           2730.984755115819,
           2706.5331209961064,
           2682.669208339256,
           2662.813645476929,
           2643.3109586582973,
           2625.062713950339,
           2613.90360323591,
           2601.583389294259,
           2581.8630359663816,
           2547.011251287597
          ],
          [
           2490.1105982410054,
           2532.428481358349,
           2571.5479636129207,
           2607.2546282935173,
           2639.450583819761,
           2668.170212781515,
           2693.5729722937735,
           2715.912085613421,
           2735.487263398156,
           2752.593376780078,
           2767.4704426778185,
           2780.2558573554966,
           2790.967976510576,
           2799.59545699461,
           2806.220790680455,
           2810.67144080056,
           2811.620845388272,
           2808.275079926477,
           2803.5336603011324,
           2800.4371292615924,
           2778.2126598594227,
           2758.0988422073124,
           2738.9958389174844,
           2720.1284308597255,
           2701.0221708106624,
           2683.4622687230417,
           2671.6306309226643,
           2658.2066000498335,
           2636.622902405484,
           2601.2228361829993
          ],
          [
           2439.4209870169416,
           2481.2669154213895,
           2520.4193726833055,
           2556.7248088653296,
           2590.114333145603,
           2620.61070024564,
           2648.322022092081,
           2673.4219304529347,
           2696.1198448957884,
           2716.6271437120504,
           2735.124666711654,
           2751.7387440082452,
           2766.536668703442,
           2779.5413899153864,
           2790.712149632427,
           2799.834811952623,
           2806.546778958117,
           2810.8795441823754,
           2813.314597335502,
           2812.4075033177987,
           2805.606871506655,
           2797.170767692673,
           2789.1032900833393,
           2771.4079665933614,
           2754.0373630660893,
           2738.9645134851016,
           2727.0217815902242,
           2712.976659568156,
           2691.5009485171613,
           2653.5822034336875
          ],
          [
           2388.304411418196,
           2429.672731106271,
           2468.767524830029,
           2505.474520143876,
           2539.7420804856015,
           2571.584164687385,
           2601.0752395505183,
           2628.337132240445,
           2653.51975767194,
           2676.779159414881,
           2698.25663496737,
           2718.0631620786357,
           2736.271014200166,
           2752.908343709608,
           2767.9459010796177,
           2781.2876652581062,
           2792.820531862818,
           2802.4923657174513,
           2810.1525337511985,
           2815.2567888285603,
           2817.6287037069287,
           2818.26862637147,
           2816.3782229815133,
           2808.2917004485453,
           2797.8773582772083,
           2787.362268995354,
           2778.1556913220534,
           2764.278314281061,
           2740.571050143584,
           2703.0767408196793
          ],
          [
           2336.8670924690914,
           2377.725914766147,
           2416.661658929342,
           2453.586599689508,
           2488.4602925235295,
           2521.2906922290736,
           2552.1302327219387,
           2581.066949026422,
           2608.2117763985916,
           2633.6841424614286,
           2657.598025915515,
           2680.0507045283575,
           2701.114524523312,
           2720.8311055970735,
           2739.207483195104,
           2756.21976012594,
           2771.8278698725526,
           2785.9772690244295,
           2798.560072924906,
           2809.426686325823,
           2818.543292788207,
           2825.8931169508305,
           2830.885710511501,
           2832.8662872808777,
           2832.3516328710634,
           2829.979451655959,
           2825.2707383117254,
           2813.49390665462,
           2789.955324311352,
           2751.4850295545803
          ],
          [
           2285.193718856454,
           2325.4960591368235,
           2364.1688344183744,
           2401.1430520456825,
           2436.3861669320822,
           2469.902407513553,
           2501.7298782171674,
           2531.9345394985453,
           2560.6017549943094,
           2587.8267420105276,
           2613.7051474717528,
           2638.3251615782383,
           2661.7614038841716,
           2684.0713144575325,
           2705.2942735791244,
           2725.45440397327,
           2744.5652932963617,
           2762.6309371572243,
           2779.6445541661747,
           2795.6018173347666,
           2810.512859947523,
           2824.3396373614023,
           2836.9194627946877,
           2848.0901297002792,
           2857.732320995762,
           2865.1775164685037,
           2868.049196773841,
           2861.522430896756,
           2839.8563057408787,
           2799.8041735505926
          ],
          [
           2233.35657849293,
           2273.047261956771,
           2311.3548172097853,
           2348.223933294922,
           2383.6279869345326,
           2417.569077292355,
           2450.0759702875766,
           2481.2000428946267,
           2511.0096539009332,
           2539.5838337295236,
           2567.006005660616,
           2593.358785751233,
           2618.720008816176,
           2643.160906670261,
           2666.746409736222,
           2689.5376938983673,
           2711.5961527571676,
           2732.9878348291677,
           2753.7891395989564,
           2774.0940677632125,
           2794.015125305803,
           2813.6686761869287,
           2833.160394730552,
           2852.5620237783683,
           2871.735438897971,
           2889.770211840491,
           2903.848096879018,
           2907.6033855420264,
           2890.959362904893,
           2847.430564118079
          ],
          [
           2181.4203183260406,
           2220.4403165520544,
           2258.2842066086228,
           2294.906875180154,
           2330.286222889181,
           2364.423133672387,
           2397.340077567118,
           2429.0784175027857,
           2459.6946868033215,
           2489.2564741550514,
           2517.838340001227,
           2545.5185944689492,
           2572.3769480601622,
           2598.493924784985,
           2623.95190807798,
           2648.837988109635,
           2673.2484087774883,
           2697.2944580356148,
           2721.109779385679,
           2744.858351874453,
           2768.7412692465223,
           2793.000254233096,
           2817.9164988495077,
           2843.7838819299827,
           2870.796665195487,
           2898.7409155687674,
           2926.1831798286335,
           2947.65126903651,
           2943.7197315601206,
           2890.4233912598393
          ],
          [
           2129.4452224754527,
           2167.7344824160205,
           2205.0212161984286,
           2241.26792398181,
           2276.455855060601,
           2310.5849953694765,
           2343.6731562208397,
           2375.754213181597,
           2406.875659186332,
           2437.0959502790724,
           2466.481886142381,
           2495.10670037224,
           2523.0487375212415,
           2550.3915352752265,
           2577.225126246248,
           2603.6487747674405,
           2629.7751012102726,
           2655.73551782552,
           2681.6868065949193,
           2707.8183536633123,
           2734.3595270412493,
           2761.585492189105,
           2789.819581403342,
           2819.4244563027064,
           2850.772639065094,
           2884.1962877834576,
           2919.9352173832353,
           2958.1112469047644,
           2997.6370614666603,
           2904.8018127437113
          ],
          [
           2077.4893332214456,
           2114.988740989574,
           2151.630512175163,
           2187.3827120431097,
           2222.2288351833686,
           2256.1678219442642,
           2289.2134774631686,
           2321.3933202355724,
           2352.7469525835604,
           2383.324323056553,
           2413.1839953251033,
           2442.391975306016,
           2471.020851443424,
           2499.14997513713,
           2526.866407193297,
           2554.2667780739016,
           2581.459925001923,
           2608.5700467234633,
           2635.7398839813,
           2663.1329879888744,
           2690.933756280304,
           2719.3416349524846,
           2748.554514442324,
           2778.728603873608,
           2809.888005398974,
           2841.705672160177,
           2872.839766326474,
           2898.226060859709,
           2898.055563188372,
           2845.8589571959187
          ]
         ],
         "type": "surface"
        }
       ],
       "layout": {
        "template": {
         "data": {
          "histogram2dcontour": [
           {
            "type": "histogram2dcontour",
            "colorbar": {
             "outlinewidth": 0,
             "ticks": ""
            },
            "colorscale": [
             [
              0,
              "#0d0887"
             ],
             [
              0.1111111111111111,
              "#46039f"
             ],
             [
              0.2222222222222222,
              "#7201a8"
             ],
             [
              0.3333333333333333,
              "#9c179e"
             ],
             [
              0.4444444444444444,
              "#bd3786"
             ],
             [
              0.5555555555555556,
              "#d8576b"
             ],
             [
              0.6666666666666666,
              "#ed7953"
             ],
             [
              0.7777777777777778,
              "#fb9f3a"
             ],
             [
              0.8888888888888888,
              "#fdca26"
             ],
             [
              1,
              "#f0f921"
             ]
            ]
           }
          ],
          "choropleth": [
           {
            "type": "choropleth",
            "colorbar": {
             "outlinewidth": 0,
             "ticks": ""
            }
           }
          ],
          "histogram2d": [
           {
            "type": "histogram2d",
            "colorbar": {
             "outlinewidth": 0,
             "ticks": ""
            },
            "colorscale": [
             [
              0,
              "#0d0887"
             ],
             [
              0.1111111111111111,
              "#46039f"
             ],
             [
              0.2222222222222222,
              "#7201a8"
             ],
             [
              0.3333333333333333,
              "#9c179e"
             ],
             [
              0.4444444444444444,
              "#bd3786"
             ],
             [
              0.5555555555555556,
              "#d8576b"
             ],
             [
              0.6666666666666666,
              "#ed7953"
             ],
             [
              0.7777777777777778,
              "#fb9f3a"
             ],
             [
              0.8888888888888888,
              "#fdca26"
             ],
             [
              1,
              "#f0f921"
             ]
            ]
           }
          ],
          "heatmap": [
           {
            "type": "heatmap",
            "colorbar": {
             "outlinewidth": 0,
             "ticks": ""
            },
            "colorscale": [
             [
              0,
              "#0d0887"
             ],
             [
              0.1111111111111111,
              "#46039f"
             ],
             [
              0.2222222222222222,
              "#7201a8"
             ],
             [
              0.3333333333333333,
              "#9c179e"
             ],
             [
              0.4444444444444444,
              "#bd3786"
             ],
             [
              0.5555555555555556,
              "#d8576b"
             ],
             [
              0.6666666666666666,
              "#ed7953"
             ],
             [
              0.7777777777777778,
              "#fb9f3a"
             ],
             [
              0.8888888888888888,
              "#fdca26"
             ],
             [
              1,
              "#f0f921"
             ]
            ]
           }
          ],
          "heatmapgl": [
           {
            "type": "heatmapgl",
            "colorbar": {
             "outlinewidth": 0,
             "ticks": ""
            },
            "colorscale": [
             [
              0,
              "#0d0887"
             ],
             [
              0.1111111111111111,
              "#46039f"
             ],
             [
              0.2222222222222222,
              "#7201a8"
             ],
             [
              0.3333333333333333,
              "#9c179e"
             ],
             [
              0.4444444444444444,
              "#bd3786"
             ],
             [
              0.5555555555555556,
              "#d8576b"
             ],
             [
              0.6666666666666666,
              "#ed7953"
             ],
             [
              0.7777777777777778,
              "#fb9f3a"
             ],
             [
              0.8888888888888888,
              "#fdca26"
             ],
             [
              1,
              "#f0f921"
             ]
            ]
           }
          ],
          "contourcarpet": [
           {
            "type": "contourcarpet",
            "colorbar": {
             "outlinewidth": 0,
             "ticks": ""
            }
           }
          ],
          "contour": [
           {
            "type": "contour",
            "colorbar": {
             "outlinewidth": 0,
             "ticks": ""
            },
            "colorscale": [
             [
              0,
              "#0d0887"
             ],
             [
              0.1111111111111111,
              "#46039f"
             ],
             [
              0.2222222222222222,
              "#7201a8"
             ],
             [
              0.3333333333333333,
              "#9c179e"
             ],
             [
              0.4444444444444444,
              "#bd3786"
             ],
             [
              0.5555555555555556,
              "#d8576b"
             ],
             [
              0.6666666666666666,
              "#ed7953"
             ],
             [
              0.7777777777777778,
              "#fb9f3a"
             ],
             [
              0.8888888888888888,
              "#fdca26"
             ],
             [
              1,
              "#f0f921"
             ]
            ]
           }
          ],
          "surface": [
           {
            "type": "surface",
            "colorbar": {
             "outlinewidth": 0,
             "ticks": ""
            },
            "colorscale": [
             [
              0,
              "#0d0887"
             ],
             [
              0.1111111111111111,
              "#46039f"
             ],
             [
              0.2222222222222222,
              "#7201a8"
             ],
             [
              0.3333333333333333,
              "#9c179e"
             ],
             [
              0.4444444444444444,
              "#bd3786"
             ],
             [
              0.5555555555555556,
              "#d8576b"
             ],
             [
              0.6666666666666666,
              "#ed7953"
             ],
             [
              0.7777777777777778,
              "#fb9f3a"
             ],
             [
              0.8888888888888888,
              "#fdca26"
             ],
             [
              1,
              "#f0f921"
             ]
            ]
           }
          ],
          "mesh3d": [
           {
            "type": "mesh3d",
            "colorbar": {
             "outlinewidth": 0,
             "ticks": ""
            }
           }
          ],
          "scatter": [
           {
            "fillpattern": {
             "fillmode": "overlay",
             "size": 10,
             "solidity": 0.2
            },
            "type": "scatter"
           }
          ],
          "parcoords": [
           {
            "type": "parcoords",
            "line": {
             "colorbar": {
              "outlinewidth": 0,
              "ticks": ""
             }
            }
           }
          ],
          "scatterpolargl": [
           {
            "type": "scatterpolargl",
            "marker": {
             "colorbar": {
              "outlinewidth": 0,
              "ticks": ""
             }
            }
           }
          ],
          "bar": [
           {
            "error_x": {
             "color": "#2a3f5f"
            },
            "error_y": {
             "color": "#2a3f5f"
            },
            "marker": {
             "line": {
              "color": "#E5ECF6",
              "width": 0.5
             },
             "pattern": {
              "fillmode": "overlay",
              "size": 10,
              "solidity": 0.2
             }
            },
            "type": "bar"
           }
          ],
          "scattergeo": [
           {
            "type": "scattergeo",
            "marker": {
             "colorbar": {
              "outlinewidth": 0,
              "ticks": ""
             }
            }
           }
          ],
          "scatterpolar": [
           {
            "type": "scatterpolar",
            "marker": {
             "colorbar": {
              "outlinewidth": 0,
              "ticks": ""
             }
            }
           }
          ],
          "histogram": [
           {
            "marker": {
             "pattern": {
              "fillmode": "overlay",
              "size": 10,
              "solidity": 0.2
             }
            },
            "type": "histogram"
           }
          ],
          "scattergl": [
           {
            "type": "scattergl",
            "marker": {
             "colorbar": {
              "outlinewidth": 0,
              "ticks": ""
             }
            }
           }
          ],
          "scatter3d": [
           {
            "type": "scatter3d",
            "line": {
             "colorbar": {
              "outlinewidth": 0,
              "ticks": ""
             }
            },
            "marker": {
             "colorbar": {
              "outlinewidth": 0,
              "ticks": ""
             }
            }
           }
          ],
          "scattermapbox": [
           {
            "type": "scattermapbox",
            "marker": {
             "colorbar": {
              "outlinewidth": 0,
              "ticks": ""
             }
            }
           }
          ],
          "scatterternary": [
           {
            "type": "scatterternary",
            "marker": {
             "colorbar": {
              "outlinewidth": 0,
              "ticks": ""
             }
            }
           }
          ],
          "scattercarpet": [
           {
            "type": "scattercarpet",
            "marker": {
             "colorbar": {
              "outlinewidth": 0,
              "ticks": ""
             }
            }
           }
          ],
          "carpet": [
           {
            "aaxis": {
             "endlinecolor": "#2a3f5f",
             "gridcolor": "white",
             "linecolor": "white",
             "minorgridcolor": "white",
             "startlinecolor": "#2a3f5f"
            },
            "baxis": {
             "endlinecolor": "#2a3f5f",
             "gridcolor": "white",
             "linecolor": "white",
             "minorgridcolor": "white",
             "startlinecolor": "#2a3f5f"
            },
            "type": "carpet"
           }
          ],
          "table": [
           {
            "cells": {
             "fill": {
              "color": "#EBF0F8"
             },
             "line": {
              "color": "white"
             }
            },
            "header": {
             "fill": {
              "color": "#C8D4E3"
             },
             "line": {
              "color": "white"
             }
            },
            "type": "table"
           }
          ],
          "barpolar": [
           {
            "marker": {
             "line": {
              "color": "#E5ECF6",
              "width": 0.5
             },
             "pattern": {
              "fillmode": "overlay",
              "size": 10,
              "solidity": 0.2
             }
            },
            "type": "barpolar"
           }
          ],
          "pie": [
           {
            "automargin": true,
            "type": "pie"
           }
          ]
         },
         "layout": {
          "autotypenumbers": "strict",
          "colorway": [
           "#636efa",
           "#EF553B",
           "#00cc96",
           "#ab63fa",
           "#FFA15A",
           "#19d3f3",
           "#FF6692",
           "#B6E880",
           "#FF97FF",
           "#FECB52"
          ],
          "font": {
           "color": "#2a3f5f"
          },
          "hovermode": "closest",
          "hoverlabel": {
           "align": "left"
          },
          "paper_bgcolor": "white",
          "plot_bgcolor": "#E5ECF6",
          "polar": {
           "bgcolor": "#E5ECF6",
           "angularaxis": {
            "gridcolor": "white",
            "linecolor": "white",
            "ticks": ""
           },
           "radialaxis": {
            "gridcolor": "white",
            "linecolor": "white",
            "ticks": ""
           }
          },
          "ternary": {
           "bgcolor": "#E5ECF6",
           "aaxis": {
            "gridcolor": "white",
            "linecolor": "white",
            "ticks": ""
           },
           "baxis": {
            "gridcolor": "white",
            "linecolor": "white",
            "ticks": ""
           },
           "caxis": {
            "gridcolor": "white",
            "linecolor": "white",
            "ticks": ""
           }
          },
          "coloraxis": {
           "colorbar": {
            "outlinewidth": 0,
            "ticks": ""
           }
          },
          "colorscale": {
           "sequential": [
            [
             0,
             "#0d0887"
            ],
            [
             0.1111111111111111,
             "#46039f"
            ],
            [
             0.2222222222222222,
             "#7201a8"
            ],
            [
             0.3333333333333333,
             "#9c179e"
            ],
            [
             0.4444444444444444,
             "#bd3786"
            ],
            [
             0.5555555555555556,
             "#d8576b"
            ],
            [
             0.6666666666666666,
             "#ed7953"
            ],
            [
             0.7777777777777778,
             "#fb9f3a"
            ],
            [
             0.8888888888888888,
             "#fdca26"
            ],
            [
             1,
             "#f0f921"
            ]
           ],
           "sequentialminus": [
            [
             0,
             "#0d0887"
            ],
            [
             0.1111111111111111,
             "#46039f"
            ],
            [
             0.2222222222222222,
             "#7201a8"
            ],
            [
             0.3333333333333333,
             "#9c179e"
            ],
            [
             0.4444444444444444,
             "#bd3786"
            ],
            [
             0.5555555555555556,
             "#d8576b"
            ],
            [
             0.6666666666666666,
             "#ed7953"
            ],
            [
             0.7777777777777778,
             "#fb9f3a"
            ],
            [
             0.8888888888888888,
             "#fdca26"
            ],
            [
             1,
             "#f0f921"
            ]
           ],
           "diverging": [
            [
             0,
             "#8e0152"
            ],
            [
             0.1,
             "#c51b7d"
            ],
            [
             0.2,
             "#de77ae"
            ],
            [
             0.3,
             "#f1b6da"
            ],
            [
             0.4,
             "#fde0ef"
            ],
            [
             0.5,
             "#f7f7f7"
            ],
            [
             0.6,
             "#e6f5d0"
            ],
            [
             0.7,
             "#b8e186"
            ],
            [
             0.8,
             "#7fbc41"
            ],
            [
             0.9,
             "#4d9221"
            ],
            [
             1,
             "#276419"
            ]
           ]
          },
          "xaxis": {
           "gridcolor": "white",
           "linecolor": "white",
           "ticks": "",
           "title": {
            "standoff": 15
           },
           "zerolinecolor": "white",
           "automargin": true,
           "zerolinewidth": 2
          },
          "yaxis": {
           "gridcolor": "white",
           "linecolor": "white",
           "ticks": "",
           "title": {
            "standoff": 15
           },
           "zerolinecolor": "white",
           "automargin": true,
           "zerolinewidth": 2
          },
          "scene": {
           "xaxis": {
            "backgroundcolor": "#E5ECF6",
            "gridcolor": "white",
            "linecolor": "white",
            "showbackground": true,
            "ticks": "",
            "zerolinecolor": "white",
            "gridwidth": 2
           },
           "yaxis": {
            "backgroundcolor": "#E5ECF6",
            "gridcolor": "white",
            "linecolor": "white",
            "showbackground": true,
            "ticks": "",
            "zerolinecolor": "white",
            "gridwidth": 2
           },
           "zaxis": {
            "backgroundcolor": "#E5ECF6",
            "gridcolor": "white",
            "linecolor": "white",
            "showbackground": true,
            "ticks": "",
            "zerolinecolor": "white",
            "gridwidth": 2
           }
          },
          "shapedefaults": {
           "line": {
            "color": "#2a3f5f"
           }
          },
          "annotationdefaults": {
           "arrowcolor": "#2a3f5f",
           "arrowhead": 0,
           "arrowwidth": 1
          },
          "geo": {
           "bgcolor": "white",
           "landcolor": "#E5ECF6",
           "subunitcolor": "white",
           "showland": true,
           "showlakes": true,
           "lakecolor": "white"
          },
          "title": {
           "x": 0.05
          },
          "mapbox": {
           "style": "light"
          }
         }
        },
        "legend": {
         "orientation": "h",
         "yanchor": "top",
         "y": 1.02,
         "xanchor": "left",
         "x": 1
        },
        "margin": {
         "r": 20,
         "l": 10,
         "b": 10,
         "t": 10
        },
        "width": 1000,
        "height": 800,
        "scene": {
         "xaxis": {
          "title": {
           "text": "Pulse width (μs)"
          }
         },
         "yaxis": {
          "title": {
           "text": "Energy density new cone (J/cm^2)"
          }
         },
         "zaxis": {
          "title": {
           "text": "Voltage"
          }
         },
         "camera": {
          "up": {
           "x": 0,
           "y": 0,
           "z": 1
          },
          "center": {
           "x": 0,
           "y": 0,
           "z": 0
          },
          "eye": {
           "x": -2,
           "y": -2.5,
           "z": 1.75
          }
         }
        }
       },
       "config": {
        "plotlyServerURL": "https://plot.ly"
       }
      }
     },
     "metadata": {}
    }
   ],
   "metadata": {}
  },
  {
   "cell_type": "code",
   "execution_count": null,
   "source": [],
   "outputs": [],
   "metadata": {}
  }
 ],
 "metadata": {
  "orig_nbformat": 4,
  "language_info": {
   "name": "python",
   "version": "3.9.16",
   "mimetype": "text/x-python",
   "codemirror_mode": {
    "name": "ipython",
    "version": 3
   },
   "pygments_lexer": "ipython3",
   "nbconvert_exporter": "python",
   "file_extension": ".py"
  },
  "kernelspec": {
   "name": "python3",
   "display_name": "Python 3.9.16 64-bit ('FEGP': conda)"
  },
  "interpreter": {
   "hash": "b00f9bca1c18369f730e284e4d0522d8a3e0f0b629e30dad99ec4bb4df6f08b7"
  }
 },
 "nbformat": 4,
 "nbformat_minor": 2
}