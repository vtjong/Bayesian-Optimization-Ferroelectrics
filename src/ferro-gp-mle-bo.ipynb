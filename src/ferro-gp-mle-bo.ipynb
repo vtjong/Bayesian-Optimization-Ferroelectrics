{
 "cells": [
  {
   "cell_type": "code",
   "execution_count": 582,
   "source": [
    "import sys\n",
    "from tkinter import Y\n",
    "import numpy as np\n",
    "import pandas as pd\n",
    "import torch\n",
    "import gpytorch\n",
    "import plotly.express as px\n",
    "import matplotlib.pyplot as plt\n",
    "sys.path.append('..')\n",
    "sys.path.insert(0, '../src')"
   ],
   "outputs": [],
   "metadata": {}
  },
  {
   "cell_type": "code",
   "execution_count": 583,
   "source": [
    "# custom imports\n",
    "from model import GPModel\n",
    "from GPy.models import GPRegression\n",
    "from acq_funcs import EI, PI, cust_acq, thompson\n",
    "from plotter import vis_pred, vis_acq"
   ],
   "outputs": [],
   "metadata": {}
  },
  {
   "cell_type": "markdown",
   "source": [
    "### Data Read and Pre-processing"
   ],
   "metadata": {}
  },
  {
   "cell_type": "code",
   "execution_count": 584,
   "source": [
    "# read data and display\n",
    "def read_dat(dir=\"/Users/valenetjong/Bayesian-Optimization-Ferroelectrics/data/\",\n",
    "            src_file = \"Bolometer_readings_PulseForge.xlsx\", sheet= \"Combined\"):\n",
    "    file = dir + src_file\n",
    "    fe_data = pd.read_excel(file, sheet_name=sheet, usecols=['Energy density new cone (J/cm^2)',\n",
    "                            'Time (ms)','2 Qsw/(U+|D|) 1e6cycles'])\n",
    "    fe_data.dropna(subset=['2 Qsw/(U+|D|) 1e6cycles'], inplace=True)\n",
    "    fe_data = fe_data[fe_data['2 Qsw/(U+|D|) 1e6cycles']!= 0]\n",
    "    return fe_data\n",
    "\n",
    "def display_data(fe_data):\n",
    "    \"\"\"\n",
    "    [display_data(fe_data)] creates a cross-section scatter plot of all combinations\n",
    "    of the four input parameters and single output parameter.\n",
    "    \"\"\"\n",
    "    # plot each cross-section\n",
    "    fig = px.scatter_matrix(fe_data, dimensions=['Energy density new cone (J/cm^2)', \n",
    "    \"Time (ms)\", \"2 Qsw/(U+|D|) 1e6cycles\"], color_discrete_sequence=[\"#72356c\"]*23)\n",
    "    fig.update_layout(template=\"ggplot2\")\n",
    "    # fig.update_layout(margin=dict(r=20, l=10, b=10, t=10))\n",
    "    fig.update_layout(width = 800, height=800)\n",
    "    fig.show()"
   ],
   "outputs": [],
   "metadata": {}
  },
  {
   "cell_type": "code",
   "execution_count": 585,
   "source": [
    "fe_data = read_dat()\n",
    "print(fe_data)\n",
    "display_data(fe_data)"
   ],
   "outputs": [
    {
     "output_type": "stream",
     "name": "stdout",
     "text": [
      "    Time (ms)  Energy density new cone (J/cm^2)  2 Qsw/(U+|D|) 1e6cycles\n",
      "4         0.5                              2.73                 0.873026\n",
      "5         0.5                              3.40                 2.677245\n",
      "6         1.0                              3.79                 1.699015\n",
      "7         1.0                              6.44                 3.805053\n",
      "8         1.5                              5.36                 3.334856\n",
      "9         1.5                              8.99                 4.535153\n",
      "11        5.0                              8.80                 1.362510\n",
      "13        5.0                             14.67                 3.841291\n",
      "19        0.5                              5.24                 1.201357\n",
      "22        5.0                             14.89                 3.513652\n",
      "23        2.0                             10.13                 3.470871\n",
      "24        0.5                              4.51                 0.263298\n",
      "25        0.5                              5.37                 2.775340\n",
      "27        0.5                              4.88                 2.591306\n",
      "28        1.0                              6.76                 2.579984\n",
      "29        1.0                              7.77                 3.173819\n",
      "31        2.0                              8.73                 0.131505\n",
      "32        2.0                              9.38                 0.451164\n",
      "33        2.0                             10.48                 2.126640\n",
      "34        2.0                             11.01                 3.468213\n",
      "35        5.0                             14.71                 3.685852\n",
      "36        5.0                             15.44                 3.445656\n",
      "37        5.0                             13.37                 2.651547\n"
     ]
    },
    {
     "output_type": "display_data",
     "data": {
      "application/vnd.plotly.v1+json": {
       "data": [
        {
         "dimensions": [
          {
           "axis": {
            "matches": true
           },
           "label": "Energy density new cone (J/cm^2)",
           "values": [
            2.73,
            3.4,
            3.79,
            6.44,
            5.36,
            8.99,
            8.8,
            14.67,
            5.24,
            14.89,
            10.13,
            4.51,
            5.37,
            4.88,
            6.76,
            7.77,
            8.73,
            9.38,
            10.48,
            11.01,
            14.71,
            15.44,
            13.37
           ]
          },
          {
           "axis": {
            "matches": true
           },
           "label": "Time (ms)",
           "values": [
            0.5,
            0.5,
            1,
            1,
            1.5,
            1.5,
            5,
            5,
            0.5,
            5,
            2,
            0.5,
            0.5,
            0.5,
            1,
            1,
            2,
            2,
            2,
            2,
            5,
            5,
            5
           ]
          },
          {
           "axis": {
            "matches": true
           },
           "label": "2 Qsw/(U+|D|) 1e6cycles",
           "values": [
            0.8730257299654021,
            2.677244640050493,
            1.6990152147413928,
            3.8050528055652655,
            3.3348561928152627,
            4.535152817359003,
            1.3625102372531497,
            3.841290609056986,
            1.2013569985324948,
            3.5136521918176413,
            3.4708714822041062,
            0.2632982379553876,
            2.7753404356378253,
            2.5913062464887977,
            2.579984359259049,
            3.1738185691110727,
            0.1315049942519029,
            0.4511637114621348,
            2.126639748505365,
            3.468212840642842,
            3.685852431471957,
            3.445655582638384,
            2.651546836022379
           ]
          }
         ],
         "hovertemplate": "%{xaxis.title.text}=%{x}<br>%{yaxis.title.text}=%{y}<extra></extra>",
         "legendgroup": "",
         "marker": {
          "color": "#72356c",
          "symbol": "circle"
         },
         "name": "",
         "showlegend": false,
         "type": "splom"
        }
       ],
       "layout": {
        "template": {
         "data": {
          "barpolar": [
           {
            "marker": {
             "line": {
              "color": "rgb(237,237,237)",
              "width": 0.5
             },
             "pattern": {
              "fillmode": "overlay",
              "size": 10,
              "solidity": 0.2
             }
            },
            "type": "barpolar"
           }
          ],
          "bar": [
           {
            "error_x": {
             "color": "rgb(51,51,51)"
            },
            "error_y": {
             "color": "rgb(51,51,51)"
            },
            "marker": {
             "line": {
              "color": "rgb(237,237,237)",
              "width": 0.5
             },
             "pattern": {
              "fillmode": "overlay",
              "size": 10,
              "solidity": 0.2
             }
            },
            "type": "bar"
           }
          ],
          "carpet": [
           {
            "aaxis": {
             "endlinecolor": "rgb(51,51,51)",
             "gridcolor": "white",
             "linecolor": "white",
             "minorgridcolor": "white",
             "startlinecolor": "rgb(51,51,51)"
            },
            "baxis": {
             "endlinecolor": "rgb(51,51,51)",
             "gridcolor": "white",
             "linecolor": "white",
             "minorgridcolor": "white",
             "startlinecolor": "rgb(51,51,51)"
            },
            "type": "carpet"
           }
          ],
          "choropleth": [
           {
            "colorbar": {
             "outlinewidth": 0,
             "tickcolor": "rgb(237,237,237)",
             "ticklen": 6,
             "ticks": "inside"
            },
            "type": "choropleth"
           }
          ],
          "contourcarpet": [
           {
            "colorbar": {
             "outlinewidth": 0,
             "tickcolor": "rgb(237,237,237)",
             "ticklen": 6,
             "ticks": "inside"
            },
            "type": "contourcarpet"
           }
          ],
          "contour": [
           {
            "colorbar": {
             "outlinewidth": 0,
             "tickcolor": "rgb(237,237,237)",
             "ticklen": 6,
             "ticks": "inside"
            },
            "colorscale": [
             [
              0,
              "rgb(20,44,66)"
             ],
             [
              1,
              "rgb(90,179,244)"
             ]
            ],
            "type": "contour"
           }
          ],
          "heatmapgl": [
           {
            "colorbar": {
             "outlinewidth": 0,
             "tickcolor": "rgb(237,237,237)",
             "ticklen": 6,
             "ticks": "inside"
            },
            "colorscale": [
             [
              0,
              "rgb(20,44,66)"
             ],
             [
              1,
              "rgb(90,179,244)"
             ]
            ],
            "type": "heatmapgl"
           }
          ],
          "heatmap": [
           {
            "colorbar": {
             "outlinewidth": 0,
             "tickcolor": "rgb(237,237,237)",
             "ticklen": 6,
             "ticks": "inside"
            },
            "colorscale": [
             [
              0,
              "rgb(20,44,66)"
             ],
             [
              1,
              "rgb(90,179,244)"
             ]
            ],
            "type": "heatmap"
           }
          ],
          "histogram2dcontour": [
           {
            "colorbar": {
             "outlinewidth": 0,
             "tickcolor": "rgb(237,237,237)",
             "ticklen": 6,
             "ticks": "inside"
            },
            "colorscale": [
             [
              0,
              "rgb(20,44,66)"
             ],
             [
              1,
              "rgb(90,179,244)"
             ]
            ],
            "type": "histogram2dcontour"
           }
          ],
          "histogram2d": [
           {
            "colorbar": {
             "outlinewidth": 0,
             "tickcolor": "rgb(237,237,237)",
             "ticklen": 6,
             "ticks": "inside"
            },
            "colorscale": [
             [
              0,
              "rgb(20,44,66)"
             ],
             [
              1,
              "rgb(90,179,244)"
             ]
            ],
            "type": "histogram2d"
           }
          ],
          "histogram": [
           {
            "marker": {
             "pattern": {
              "fillmode": "overlay",
              "size": 10,
              "solidity": 0.2
             }
            },
            "type": "histogram"
           }
          ],
          "mesh3d": [
           {
            "colorbar": {
             "outlinewidth": 0,
             "tickcolor": "rgb(237,237,237)",
             "ticklen": 6,
             "ticks": "inside"
            },
            "type": "mesh3d"
           }
          ],
          "parcoords": [
           {
            "line": {
             "colorbar": {
              "outlinewidth": 0,
              "tickcolor": "rgb(237,237,237)",
              "ticklen": 6,
              "ticks": "inside"
             }
            },
            "type": "parcoords"
           }
          ],
          "pie": [
           {
            "automargin": true,
            "type": "pie"
           }
          ],
          "scatter3d": [
           {
            "line": {
             "colorbar": {
              "outlinewidth": 0,
              "tickcolor": "rgb(237,237,237)",
              "ticklen": 6,
              "ticks": "inside"
             }
            },
            "marker": {
             "colorbar": {
              "outlinewidth": 0,
              "tickcolor": "rgb(237,237,237)",
              "ticklen": 6,
              "ticks": "inside"
             }
            },
            "type": "scatter3d"
           }
          ],
          "scattercarpet": [
           {
            "marker": {
             "colorbar": {
              "outlinewidth": 0,
              "tickcolor": "rgb(237,237,237)",
              "ticklen": 6,
              "ticks": "inside"
             }
            },
            "type": "scattercarpet"
           }
          ],
          "scattergeo": [
           {
            "marker": {
             "colorbar": {
              "outlinewidth": 0,
              "tickcolor": "rgb(237,237,237)",
              "ticklen": 6,
              "ticks": "inside"
             }
            },
            "type": "scattergeo"
           }
          ],
          "scattergl": [
           {
            "marker": {
             "colorbar": {
              "outlinewidth": 0,
              "tickcolor": "rgb(237,237,237)",
              "ticklen": 6,
              "ticks": "inside"
             }
            },
            "type": "scattergl"
           }
          ],
          "scattermapbox": [
           {
            "marker": {
             "colorbar": {
              "outlinewidth": 0,
              "tickcolor": "rgb(237,237,237)",
              "ticklen": 6,
              "ticks": "inside"
             }
            },
            "type": "scattermapbox"
           }
          ],
          "scatterpolargl": [
           {
            "marker": {
             "colorbar": {
              "outlinewidth": 0,
              "tickcolor": "rgb(237,237,237)",
              "ticklen": 6,
              "ticks": "inside"
             }
            },
            "type": "scatterpolargl"
           }
          ],
          "scatterpolar": [
           {
            "marker": {
             "colorbar": {
              "outlinewidth": 0,
              "tickcolor": "rgb(237,237,237)",
              "ticklen": 6,
              "ticks": "inside"
             }
            },
            "type": "scatterpolar"
           }
          ],
          "scatter": [
           {
            "fillpattern": {
             "fillmode": "overlay",
             "size": 10,
             "solidity": 0.2
            },
            "type": "scatter"
           }
          ],
          "scatterternary": [
           {
            "marker": {
             "colorbar": {
              "outlinewidth": 0,
              "tickcolor": "rgb(237,237,237)",
              "ticklen": 6,
              "ticks": "inside"
             }
            },
            "type": "scatterternary"
           }
          ],
          "surface": [
           {
            "colorbar": {
             "outlinewidth": 0,
             "tickcolor": "rgb(237,237,237)",
             "ticklen": 6,
             "ticks": "inside"
            },
            "colorscale": [
             [
              0,
              "rgb(20,44,66)"
             ],
             [
              1,
              "rgb(90,179,244)"
             ]
            ],
            "type": "surface"
           }
          ],
          "table": [
           {
            "cells": {
             "fill": {
              "color": "rgb(237,237,237)"
             },
             "line": {
              "color": "white"
             }
            },
            "header": {
             "fill": {
              "color": "rgb(217,217,217)"
             },
             "line": {
              "color": "white"
             }
            },
            "type": "table"
           }
          ]
         },
         "layout": {
          "annotationdefaults": {
           "arrowhead": 0,
           "arrowwidth": 1
          },
          "autotypenumbers": "strict",
          "coloraxis": {
           "colorbar": {
            "outlinewidth": 0,
            "tickcolor": "rgb(237,237,237)",
            "ticklen": 6,
            "ticks": "inside"
           }
          },
          "colorscale": {
           "sequential": [
            [
             0,
             "rgb(20,44,66)"
            ],
            [
             1,
             "rgb(90,179,244)"
            ]
           ],
           "sequentialminus": [
            [
             0,
             "rgb(20,44,66)"
            ],
            [
             1,
             "rgb(90,179,244)"
            ]
           ]
          },
          "colorway": [
           "#F8766D",
           "#A3A500",
           "#00BF7D",
           "#00B0F6",
           "#E76BF3"
          ],
          "font": {
           "color": "rgb(51,51,51)"
          },
          "geo": {
           "bgcolor": "white",
           "lakecolor": "white",
           "landcolor": "rgb(237,237,237)",
           "showlakes": true,
           "showland": true,
           "subunitcolor": "white"
          },
          "hoverlabel": {
           "align": "left"
          },
          "hovermode": "closest",
          "paper_bgcolor": "white",
          "plot_bgcolor": "rgb(237,237,237)",
          "polar": {
           "angularaxis": {
            "gridcolor": "white",
            "linecolor": "white",
            "showgrid": true,
            "tickcolor": "rgb(51,51,51)",
            "ticks": "outside"
           },
           "bgcolor": "rgb(237,237,237)",
           "radialaxis": {
            "gridcolor": "white",
            "linecolor": "white",
            "showgrid": true,
            "tickcolor": "rgb(51,51,51)",
            "ticks": "outside"
           }
          },
          "scene": {
           "xaxis": {
            "backgroundcolor": "rgb(237,237,237)",
            "gridcolor": "white",
            "gridwidth": 2,
            "linecolor": "white",
            "showbackground": true,
            "showgrid": true,
            "tickcolor": "rgb(51,51,51)",
            "ticks": "outside",
            "zerolinecolor": "white"
           },
           "yaxis": {
            "backgroundcolor": "rgb(237,237,237)",
            "gridcolor": "white",
            "gridwidth": 2,
            "linecolor": "white",
            "showbackground": true,
            "showgrid": true,
            "tickcolor": "rgb(51,51,51)",
            "ticks": "outside",
            "zerolinecolor": "white"
           },
           "zaxis": {
            "backgroundcolor": "rgb(237,237,237)",
            "gridcolor": "white",
            "gridwidth": 2,
            "linecolor": "white",
            "showbackground": true,
            "showgrid": true,
            "tickcolor": "rgb(51,51,51)",
            "ticks": "outside",
            "zerolinecolor": "white"
           }
          },
          "shapedefaults": {
           "fillcolor": "black",
           "line": {
            "width": 0
           },
           "opacity": 0.3
          },
          "ternary": {
           "aaxis": {
            "gridcolor": "white",
            "linecolor": "white",
            "showgrid": true,
            "tickcolor": "rgb(51,51,51)",
            "ticks": "outside"
           },
           "baxis": {
            "gridcolor": "white",
            "linecolor": "white",
            "showgrid": true,
            "tickcolor": "rgb(51,51,51)",
            "ticks": "outside"
           },
           "bgcolor": "rgb(237,237,237)",
           "caxis": {
            "gridcolor": "white",
            "linecolor": "white",
            "showgrid": true,
            "tickcolor": "rgb(51,51,51)",
            "ticks": "outside"
           }
          },
          "xaxis": {
           "automargin": true,
           "gridcolor": "white",
           "linecolor": "white",
           "showgrid": true,
           "tickcolor": "rgb(51,51,51)",
           "ticks": "outside",
           "title": {
            "standoff": 15
           },
           "zerolinecolor": "white"
          },
          "yaxis": {
           "automargin": true,
           "gridcolor": "white",
           "linecolor": "white",
           "showgrid": true,
           "tickcolor": "rgb(51,51,51)",
           "ticks": "outside",
           "title": {
            "standoff": 15
           },
           "zerolinecolor": "white"
          }
         }
        },
        "legend": {
         "tracegroupgap": 0
        },
        "margin": {
         "t": 60
        },
        "dragmode": "select",
        "width": 800,
        "height": 800
       },
       "config": {
        "plotlyServerURL": "https://plot.ly"
       }
      }
     },
     "metadata": {}
    }
   ],
   "metadata": {}
  },
  {
   "cell_type": "code",
   "execution_count": 586,
   "source": [
    "# define scaler and inverse scaling\n",
    "from sklearn.preprocessing import MinMaxScaler, StandardScaler\n",
    "scaler =  MinMaxScaler()\n",
    "\n",
    "def un_norm_x(train_x, test_grid, scaler):\n",
    "    return scaler.inverse_transform(train_x), scaler.inverse_transform(test_grid)    "
   ],
   "outputs": [],
   "metadata": {}
  },
  {
   "cell_type": "code",
   "execution_count": 587,
   "source": [
    "from torch.utils.data import DataLoader, random_split\n",
    "\n",
    "def datasetmaker(fe_data, train_ratio=1.0):\n",
    "    \"\"\"\n",
    "    [datasetmaker(fe_data)] filters and transforms the data in pandas df [fe_data] \n",
    "    into two tensors, [train_x] for input and [train_y] for output tensors. \n",
    "    \"\"\"\n",
    "    # filter training data \n",
    "    energy_den = fe_data['Energy density new cone (J/cm^2)'].values\n",
    "    time = fe_data['Time (ms)'].values\n",
    "    x_dat = torch.Tensor(np.array([time, energy_den])).T\n",
    "    y_dat = torch.Tensor(fe_data['2 Qsw/(U+|D|) 1e6cycles'].values)\n",
    "\n",
    "    # scale inputs\n",
    "    scaler.fit(x_dat)\n",
    "    x_dat = torch.Tensor(scaler.transform(x_dat))\n",
    "\n",
    "    # split train and test set\n",
    "    train_size = int(train_ratio * len(x_dat))  # train_ratio% for training\n",
    "    train_x, test_x = x_dat[:train_size], x_dat[train_size:]\n",
    "    train_y, test_y = y_dat[:train_size], y_dat[train_size:]\n",
    "    return x_dat, train_x, test_x, train_y, test_y"
   ],
   "outputs": [],
   "metadata": {}
  },
  {
   "cell_type": "code",
   "execution_count": 588,
   "source": [
    "# make training data, maintain params to de-normalize\n",
    "# x_sd_mean, y_sd_mean, train_x, train_y = datasetmaker(fe_data)\n",
    "x_dat, train_x, test_x, train_y, test_y = datasetmaker(fe_data)\n"
   ],
   "outputs": [],
   "metadata": {}
  },
  {
   "cell_type": "markdown",
   "source": [
    "### Grid/Parameter Space"
   ],
   "metadata": {}
  },
  {
   "cell_type": "code",
   "execution_count": 589,
   "source": [
    "# create grid for grid search\n",
    "def grid_helper(grid_size, num_params, grid_bounds):\n",
    "    \"\"\"\n",
    "    [grid_helper(grid_size, num_params, grid_bounds)] returns a grid of dimensions\n",
    "    [grid_size] by [num_params], which dictates the parameter space for GP to be \n",
    "    conducted over. \n",
    "    \"\"\"\n",
    "    grid = torch.zeros(grid_size, num_params)\n",
    "    f_grid_diff = lambda i, x, y : float((x[i][1] - x[i][0]) / (y-2))\n",
    "    for i in range(num_params):\n",
    "        grid_diff = f_grid_diff(i, grid_bounds, grid_size)\n",
    "        grid[:, i] = torch.linspace(grid_bounds[i][0] - grid_diff, \n",
    "                                    grid_bounds[i][1] + grid_diff, grid_size)\n",
    "    return grid\n",
    "\n",
    "def grid_maker(x_dat, num_points=30):\n",
    "    \"\"\"\n",
    "    [grid_maker(x_dat, num_points=30)] creates grids to be used for gaussian \n",
    "    process predictions. It outputs the dimension of the grid [num_params], \n",
    "    paramater space grid [test_grid], and [test_arr].\n",
    "    \"\"\"\n",
    "    # define grid between bounds of RTA time, RTA temp\n",
    "    num_params = x_dat.size(dim=1)\n",
    "    grid_bounds = [(x_dat[:,i].min(), x_dat[:,i].max()) for i in range(num_params)]\n",
    "\n",
    "    # set up test_grid for predictions\n",
    "    test_grid = grid_helper(num_points, num_params, grid_bounds)\n",
    "\n",
    "    # create n-D grid with n = num_params\n",
    "    args = (test_grid[:, i] for i in range(num_params))\n",
    "    test_arr = torch.cartesian_prod(*args)\n",
    "    return grid_bounds, num_params, test_grid, test_arr\n"
   ],
   "outputs": [],
   "metadata": {}
  },
  {
   "cell_type": "code",
   "execution_count": 590,
   "source": [
    "# create grid based on parameter space for search\n",
    "grid_bounds, num_params, test_grid, test_arr = grid_maker(x_dat)"
   ],
   "outputs": [],
   "metadata": {}
  },
  {
   "cell_type": "markdown",
   "source": [
    "### Noise Calculations"
   ],
   "metadata": {}
  },
  {
   "cell_type": "markdown",
   "source": [
    "Our figure of merit, fom, is $2 Q_{sw}/(U+|D|),$ so error propagation would result in a error of $\\sigma_{fom} = |fom|\\sqrt{{(\\sigma_{Q_{sw}}/Q_{sw}})^2+{(\\sigma_U^2 + \\sigma_{|D|}^2)/(U+|D|)^2)}}$. We have data for $2Pr$ measurements wrt device area. Using the $10\\mu$ m $\\times 10\\mu$ m data, we approximate the error for the figure of merit as simply $\\sigma_{2Pr}$, as we do not have $\\sigma_U$ or $\\sigma_D.$ \n"
   ],
   "metadata": {}
  },
  {
   "cell_type": "code",
   "execution_count": 591,
   "source": [
    "fn = \"/Users/valenetjong/Bayesian-Optimization-Ferroelectrics/data/P vs area.xlsx\"\n",
    "excel_file = pd.read_excel(fn, sheet_name='Sheet1')\n",
    "col_2Pr_10by10 = excel_file['10umx10um']\n",
    "sd = col_2Pr_10by10.std()/col_2Pr_10by10.mean()\n",
    "print(sd)\n",
    "print(col_2Pr_10by10)"
   ],
   "outputs": [
    {
     "output_type": "stream",
     "name": "stdout",
     "text": [
      "0.04469365441252401\n",
      "0     34.57379\n",
      "1     35.96416\n",
      "2     33.16083\n",
      "3     35.96861\n",
      "4     37.10497\n",
      "5     35.86549\n",
      "6     35.81341\n",
      "7     33.01597\n",
      "8     35.71753\n",
      "9     38.37434\n",
      "10    34.11144\n",
      "11    33.57596\n",
      "12    35.15750\n",
      "13    35.01515\n",
      "14    36.01072\n",
      "15    37.04952\n",
      "16    36.48895\n",
      "17    35.63807\n",
      "18    37.36247\n",
      "19    39.05057\n",
      "Name: 10umx10um, dtype: float64\n"
     ]
    }
   ],
   "metadata": {}
  },
  {
   "cell_type": "markdown",
   "source": [
    "### Initialize Model"
   ],
   "metadata": {}
  },
  {
   "cell_type": "code",
   "execution_count": 592,
   "source": [
    "# configuration parameters for training\n",
    "class Config():\n",
    "    def __init__(self):\n",
    "        self.epochs = 5000\n",
    "        self.kernel = \"matern\"\n",
    "        self.lr = 0.005\n",
    "        self.lscale_1 = 0.11\n",
    "        self.lscale_2 = 0.05\n",
    "        self.lscale_3 = None\n",
    "        self.lscale_4 = None\n",
    "        self.dim = 2\n",
    "        self.noise = 0.1\n",
    "\n",
    "config = Config()"
   ],
   "outputs": [],
   "metadata": {}
  },
  {
   "cell_type": "code",
   "execution_count": 626,
   "source": [
    "# make model\n",
    "def kernel_func(config_kernel, num_params, lscale):\n",
    "    \"\"\"\n",
    "    [kernel_func(config_kernel, num_params, lscale)] returns kernel function with \n",
    "    dimensions specified by [num_params]. \n",
    "    \"\"\"\n",
    "    if config_kernel == \"rbf\":\n",
    "        return gpytorch.kernels.ScaleKernel(\n",
    "            gpytorch.kernels.RBFKernel(ard_num_dims=num_params))\n",
    "    elif config_kernel == \"matern\":\n",
    "        return gpytorch.kernels.ScaleKernel(gpytorch.kernels.MaternKernel(ard_num_dims=num_params, \n",
    "        lengthscale = torch.tensor(lscale), lengthscale_constraint = gpytorch.constraints.GreaterThan(5e-2), nu=2.5))\n",
    "\n",
    "def make_model(train_x, train_y, num_params, config):\n",
    "    \"\"\"\n",
    "    [make_model(train_x, train_y, num_params, config)] returns likelihood and \n",
    "    model with lengthscale, noise, kernel function specified by sweeps. \n",
    "    \"\"\"\n",
    "    if config.dim == 2:\n",
    "        lscale = [config.lscale_1, config.lscale_2]\n",
    "    elif config.dim == 4:\n",
    "        lscale = [config.lscale_1, config.lscale_2, config.lscale_3, config.lscale_4]\n",
    "    kernel = kernel_func(config.kernel, num_params, lscale)\n",
    "    \n",
    "    print(kernel)\n",
    "    num_samples = len(train_x)\n",
    "    noise = config.noise*torch.ones(num_samples)\n",
    "    likelihood = gpytorch.likelihoods.FixedNoiseGaussianLikelihood(noise=noise)\n",
    "    model = GPModel(train_x, train_y, likelihood, kernel)\n",
    "\n",
    "    return likelihood, model, lscale\n",
    "    "
   ],
   "outputs": [],
   "metadata": {}
  },
  {
   "cell_type": "code",
   "execution_count": 627,
   "source": [
    "def intermediate_plot(f, ax, obs, title):\n",
    "    im = ax.imshow(obs.mean.view(30, 30), aspect='equal',\n",
    "                extent=[grid_bounds[0][0].item(), grid_bounds[0][1].item(),\n",
    "                            grid_bounds[1][0].item(), grid_bounds[1][1].item()])\n",
    "    f.colorbar(im)\n",
    "    ax.set_title(title)"
   ],
   "outputs": [],
   "metadata": {}
  },
  {
   "cell_type": "markdown",
   "source": [
    "### GP Training and Eval"
   ],
   "metadata": {}
  },
  {
   "cell_type": "code",
   "execution_count": 628,
   "source": [
    "# training and evaluation\n",
    "def train(train_x, train_y, num_params, config):\n",
    "    likelihood, model, lscale = make_model(train_x, train_y, num_params, config)\n",
    "    model.covar_module.base_kernel.lengthscale = torch.Tensor(lscale)\n",
    "    training_iter = config.epochs\n",
    "    model.covar_module.base_kernel.raw_lengthscale.requires_grad_(False) # disallow training of lengthscale\n",
    "    \n",
    "    # place both the model and likelihood in training mode\n",
    "    model.train(), likelihood.train()\n",
    "\n",
    "    # use Adam\n",
    "    optimizer = torch.optim.Adam(model.parameters(), lr=config.lr)\n",
    "\n",
    "    # set GP loss as the marginal log likelihood\n",
    "    mll = gpytorch.mlls.ExactMarginalLogLikelihood(likelihood, model)\n",
    "    loss_lst = []\n",
    "\n",
    "    for i in range(1, training_iter+1):\n",
    "        optimizer.zero_grad()\n",
    "        output = model(train_x)\n",
    "\n",
    "        # backpropagate error\n",
    "        loss = -mll(output, train_y)\n",
    "        loss.backward()\n",
    "\n",
    "        if i==1 or i % 500 == 0: \n",
    "            print('Iter %d/%d - Loss: %.3f  lengthscale1: %s   noise: %s' % (\n",
    "                    i, training_iter, loss.item(), \n",
    "                    model.covar_module.base_kernel.lengthscale.detach().numpy(),\n",
    "                    model.likelihood.noise.detach().numpy()\n",
    "                    )) \n",
    "            loss_lst.append(loss.item())\n",
    "        optimizer.step()\n",
    "        \n",
    "    print(model.covar_module.outputscale.detach().numpy())\n",
    "    return likelihood, model, loss_lst\n",
    "\n",
    "def eval_mod(likelihood, model, test_arr):\n",
    "    \"\"\" \n",
    "    [eval_mod(likelihood, model, test_arr)] evaluates GP model. \n",
    "    \"\"\"\n",
    "    model.eval(), likelihood.eval()\n",
    "    with torch.no_grad(), gpytorch.settings.fast_pred_var():\n",
    "        obs = likelihood(model(test_arr), noise=(torch.ones(len(test_arr))*config.noise))\n",
    "    return obs"
   ],
   "outputs": [],
   "metadata": {}
  },
  {
   "cell_type": "code",
   "execution_count": 629,
   "source": [
    "# train model and evaluate\n",
    "likelihood, model, loss_lst = train(train_x, train_y, num_params, config)\n",
    "\n",
    "obs = eval_mod(likelihood, model, test_arr)"
   ],
   "outputs": [
    {
     "output_type": "stream",
     "name": "stdout",
     "text": [
      "ScaleKernel(\n",
      "  (base_kernel): MaternKernel(\n",
      "    (raw_lengthscale_constraint): GreaterThan(5.000E-02)\n",
      "  )\n",
      "  (raw_outputscale_constraint): Positive()\n",
      ")\n",
      "Iter 1/5000 - Loss: 4.249  lengthscale1: [[0.11 0.05]]   noise: [0.1 0.1 0.1 0.1 0.1 0.1 0.1 0.1 0.1 0.1 0.1 0.1 0.1 0.1 0.1 0.1 0.1 0.1\n",
      " 0.1 0.1 0.1 0.1 0.1]\n",
      "Iter 500/5000 - Loss: 2.118  lengthscale1: [[0.11 0.05]]   noise: [0.1 0.1 0.1 0.1 0.1 0.1 0.1 0.1 0.1 0.1 0.1 0.1 0.1 0.1 0.1 0.1 0.1 0.1\n",
      " 0.1 0.1 0.1 0.1 0.1]\n",
      "Iter 1000/5000 - Loss: 1.961  lengthscale1: [[0.11 0.05]]   noise: [0.1 0.1 0.1 0.1 0.1 0.1 0.1 0.1 0.1 0.1 0.1 0.1 0.1 0.1 0.1 0.1 0.1 0.1\n",
      " 0.1 0.1 0.1 0.1 0.1]\n",
      "Iter 1500/5000 - Loss: 1.934  lengthscale1: [[0.11 0.05]]   noise: [0.1 0.1 0.1 0.1 0.1 0.1 0.1 0.1 0.1 0.1 0.1 0.1 0.1 0.1 0.1 0.1 0.1 0.1\n",
      " 0.1 0.1 0.1 0.1 0.1]\n",
      "Iter 2000/5000 - Loss: 1.925  lengthscale1: [[0.11 0.05]]   noise: [0.1 0.1 0.1 0.1 0.1 0.1 0.1 0.1 0.1 0.1 0.1 0.1 0.1 0.1 0.1 0.1 0.1 0.1\n",
      " 0.1 0.1 0.1 0.1 0.1]\n",
      "Iter 2500/5000 - Loss: 1.921  lengthscale1: [[0.11 0.05]]   noise: [0.1 0.1 0.1 0.1 0.1 0.1 0.1 0.1 0.1 0.1 0.1 0.1 0.1 0.1 0.1 0.1 0.1 0.1\n",
      " 0.1 0.1 0.1 0.1 0.1]\n",
      "Iter 3000/5000 - Loss: 1.919  lengthscale1: [[0.11 0.05]]   noise: [0.1 0.1 0.1 0.1 0.1 0.1 0.1 0.1 0.1 0.1 0.1 0.1 0.1 0.1 0.1 0.1 0.1 0.1\n",
      " 0.1 0.1 0.1 0.1 0.1]\n",
      "Iter 3500/5000 - Loss: 1.918  lengthscale1: [[0.11 0.05]]   noise: [0.1 0.1 0.1 0.1 0.1 0.1 0.1 0.1 0.1 0.1 0.1 0.1 0.1 0.1 0.1 0.1 0.1 0.1\n",
      " 0.1 0.1 0.1 0.1 0.1]\n",
      "Iter 4000/5000 - Loss: 1.918  lengthscale1: [[0.11 0.05]]   noise: [0.1 0.1 0.1 0.1 0.1 0.1 0.1 0.1 0.1 0.1 0.1 0.1 0.1 0.1 0.1 0.1 0.1 0.1\n",
      " 0.1 0.1 0.1 0.1 0.1]\n",
      "Iter 4500/5000 - Loss: 1.918  lengthscale1: [[0.11 0.05]]   noise: [0.1 0.1 0.1 0.1 0.1 0.1 0.1 0.1 0.1 0.1 0.1 0.1 0.1 0.1 0.1 0.1 0.1 0.1\n",
      " 0.1 0.1 0.1 0.1 0.1]\n",
      "Iter 5000/5000 - Loss: 1.918  lengthscale1: [[0.11 0.05]]   noise: [0.1 0.1 0.1 0.1 0.1 0.1 0.1 0.1 0.1 0.1 0.1 0.1 0.1 0.1 0.1 0.1 0.1 0.1\n",
      " 0.1 0.1 0.1 0.1 0.1]\n",
      "3.275137\n"
     ]
    }
   ],
   "metadata": {}
  },
  {
   "cell_type": "markdown",
   "source": [
    "### GP Training Results"
   ],
   "metadata": {}
  },
  {
   "cell_type": "code",
   "execution_count": 630,
   "source": [
    "import matplotlib.pyplot as plt\n",
    "from sklearn.metrics import mean_squared_error, mean_absolute_error,r2_score\n",
    "from scipy.stats import spearmanr\n",
    "import matplotlib.pyplot as plt \n",
    "from plotter import prettyplot"
   ],
   "outputs": [],
   "metadata": {}
  },
  {
   "cell_type": "code",
   "execution_count": 631,
   "source": [
    "# get error metrics\n",
    "def get_err(train_y, y_preds_mean):\n",
    "    rmse = np.sqrt(mean_squared_error(train_y, y_preds_mean))\n",
    "    mae = mean_absolute_error(train_y,  y_preds_mean)\n",
    "    spearman = spearmanr(train_y, y_preds_mean)[0]\n",
    "    r2 = r2_score(train_y, y_preds_mean)\n",
    "    return [round_three(i) for i in [rmse, mae, spearman, r2]]\n",
    "\n",
    "def plot_err(axes, train_y, y_preds_mean, y_uncer, err_vals, train_or_test, fs):\n",
    "    # training versus actuals plot: make plot, set title and axes values\n",
    "    ax = axes[0]\n",
    "    ax.scatter(train_y, y_preds_mean, color = \"#72356c\")\n",
    "    low_lim, upp_lim = int(min(train_y).item()), int(np.ceil(max(train_y).item()))\n",
    "    ax.plot(np.linspace(low_lim, upp_lim), np.linspace(low_lim, upp_lim), 'k--')\n",
    "    ax.set_xlim(low_lim, upp_lim)\n",
    "    ax.set_ylim(low_lim, upp_lim)\n",
    "    \n",
    "    # sort train_y to enable fill_between to exhibit correct functionality\n",
    "    # plot 95% confidence interval\n",
    "    sorted_train_y, sorted_indices_y = np.sort(train_y), np.argsort(train_y)\n",
    "    low_bound = (y_preds_mean-2*y_uncer)[sorted_indices_y]\n",
    "    upp_bound = (y_preds_mean+2*y_uncer)[sorted_indices_y]\n",
    "    ax.fill_between(sorted_train_y, low_bound, upp_bound, color = \"grey\", alpha = 0.3, label=\"95% confidence interval\")    \n",
    "    ax.set_xlabel('Ground Truth 2 Qsw/(U+|D|) 1e6', fontsize = fs)\n",
    "    ax.set_ylabel('Prediction 2 Qsw/(U+|D|) 1e6', fontsize = fs)\n",
    "    title_type = \"Training\" if train_or_test == \"train\" else \"Test\"\n",
    "    ax.set_title('GP ' + title_type + ' Results' + \" (MAE=%.2f\" % err_vals[1]+' [%])', fontsize = fs)\n",
    "    ax.legend()\n",
    "\n",
    "def plot_training_loss(axes, loss_lst, fs):\n",
    "    ax = axes[1]\n",
    "    ax.plot(np.arange(len(loss_lst))*500,loss_lst, 'o-', color = \"#72356c\")\n",
    "    ax.set_xlabel('Epoch', fontsize = fs)\n",
    "    ax.set_ylabel('Marginal Log Likelihood Loss', fontsize = fs)\n",
    "    ax.set_title('Training Loss' + \" (Loss=%.2f\" % loss_lst[-1] + ')', fontsize = fs)\n",
    "\n",
    "def plot_gp_res(train_y, y_preds_mean, loss_lst, y_uncer, train_or_test=\"train\"):\n",
    "    prettyplot()\n",
    "    fig, axes = plt.subplots(1, 3, figsize=(5.5*3, 4.5))\n",
    "    fs = 14\n",
    "\n",
    "    # print error metrics\n",
    "    err_vals = get_err(train_y, y_preds_mean)\n",
    "    data = {'Metric': ['RMSE', 'MAE', 'Spearman', 'R² score'], 'Value': err_vals}\n",
    "    df = pd.DataFrame(data)\n",
    "    print(df)\n",
    "\n",
    "    # plot error, training/testing loss\n",
    "    plot_err(axes, train_y, y_preds_mean, y_uncer, err_vals, train_or_test, fs)\n",
    "    if loss_lst: plot_training_loss(axes, loss_lst, fs)\n",
    "    else: axes[1].axis(\"off\")\n",
    "    axes[2].axis(\"off\")\n",
    "\n",
    "    for i in range(len(axes)):\n",
    "        axes[i].tick_params(direction='in', length=5, width=1, labelsize = fs*.8)\n",
    "    plt.subplots_adjust(wspace = 0.4)\n",
    "\n",
    "    plt.show()"
   ],
   "outputs": [],
   "metadata": {}
  },
  {
   "cell_type": "code",
   "execution_count": 632,
   "source": [
    "round_three = lambda val: np.round(val, 3) \n",
    "model.eval(), likelihood.eval()\n",
    "y_preds = likelihood(model(train_x))\n",
    "f_var = model(train_x).variance\n",
    "\n",
    "model.eval(), likelihood.eval()\n",
    "y_preds_test = likelihood(model(test_x))\n",
    "f_var_test = model(test_x).variance\n",
    "\n",
    "with torch.no_grad(): y_preds_mean, f_var = y_preds.mean.numpy(), np.sqrt(f_var).numpy()\n",
    "with torch.no_grad(): y_preds_test_mean, f_var_test = y_preds_test.mean.numpy(), np.sqrt(f_var_test).numpy()\n",
    "plot_gp_res(train_y, y_preds_mean, loss_lst, f_var)\n",
    "# plot_gp_res(test_y, y_preds_test_mean, None, f_var_test, train_or_test= \"test\")"
   ],
   "outputs": [
    {
     "output_type": "stream",
     "name": "stderr",
     "text": [
      "/Users/valenetjong/opt/anaconda3/envs/FEGP/lib/python3.9/site-packages/gpytorch/models/exact_gp.py:274: GPInputWarning:\n",
      "\n",
      "The input matches the stored training data. Did you forget to call model.train()?\n",
      "\n",
      "/Users/valenetjong/opt/anaconda3/envs/FEGP/lib/python3.9/site-packages/gpytorch/likelihoods/gaussian_likelihood.py:270: GPInputWarning:\n",
      "\n",
      "You have passed data through a FixedNoiseGaussianLikelihood that did not match the size of the fixed noise, *and* you did not specify noise. This is treated as a no-op.\n",
      "\n"
     ]
    },
    {
     "output_type": "stream",
     "name": "stdout",
     "text": [
      "     Metric  Value\n",
      "0      RMSE  0.222\n",
      "1       MAE  0.143\n",
      "2  Spearman  0.968\n",
      "3  R² score  0.968\n"
     ]
    },
    {
     "output_type": "display_data",
     "data": {
      "image/png": "[encoded data removed]",
      "text/plain": [
       "<Figure size 3300x900 with 3 Axes>"
      ]
     },
     "metadata": {}
    }
   ],
   "metadata": {}
  },
  {
   "cell_type": "code",
   "execution_count": 633,
   "source": [
    "# acquisition function for prediction/exploration\n",
    "def get_bounds(n): return [n for i in range(config.dim)]\n",
    "\n",
    "def unravel_acq(acq_func, obs, bounds, train_y, nshape):\n",
    "    \"\"\" \n",
    "    [unravel_acq(acq_func, obs, bounds, train_y, nshape)] is a helper function \n",
    "    for acq that returns the coordinates of the maximum value of the acq_func \n",
    "    over the test grid in the form of a tuple (row_index, column_index). \n",
    "\n",
    "    row_index = index into time\n",
    "    column_index = index into energy density\n",
    "    \"\"\"\n",
    "    acq = acq_func(obs, bounds, train_y).detach().numpy().reshape(nshape).T\n",
    "    return np.unravel_index(acq.argmax(), acq.shape)\n",
    "\n",
    "def acq(obs, train_y, bounds):\n",
    "    \"\"\" \n",
    "    [acq(obs, train_y, bounds)] evaluates acquisition functions on current \n",
    "    predictions (observations) and outputs suggested points for exploration \n",
    "    on manifold. \n",
    "    \"\"\"\n",
    "    transpose = lambda tensor: tensor.detach().numpy().reshape(nshape).T\n",
    "    nshape = tuple(bounds)\n",
    "\n",
    "    pi = unravel_acq(PI, obs, bounds, train_y, nshape) # prob of improvement\n",
    "    ei = unravel_acq(EI, obs, bounds, train_y, nshape) # expected improvement\n",
    "    ca = unravel_acq(cust_acq, obs, bounds, train_y, nshape) # custom acq\n",
    "    th = unravel_acq(thompson, obs, bounds, train_y, nshape) # thompson acq\n",
    "\n",
    "    lower, upper = obs.confidence_region()\n",
    "    upper_surf, lower_surf = transpose(upper), transpose(lower)\n",
    "    ucb = np.unravel_index(upper_surf.argmax(), upper_surf.shape)\n",
    "\n",
    "    pred_var = obs.variance.view(nshape).detach().numpy().T\n",
    "    pred_labels = obs.mean.view(nshape).T\n",
    "    max_var = np.unravel_index(pred_var.argmax(), pred_var.shape)\n",
    "\n",
    "    # acqs gives pairs corresponding to indices of time and energy density \n",
    "    # recommendations in grid; the pairs index into array pred_labels \n",
    "    acqs = {\"PI\":pi, \"EI\":ei, \"CA\":ca, \"TH\":th, \"UCB\":ucb, \"Max_var\":max_var}\n",
    "\n",
    "    return pred_labels, upper_surf, lower_surf, acqs"
   ],
   "outputs": [],
   "metadata": {}
  },
  {
   "cell_type": "code",
   "execution_count": 634,
   "source": [
    "# export predictions to csv\n",
    "def pred_to_csv(acqs, raw_pred_labels, raw_test_grid, file_out = \"preds.csv\"):\n",
    "    \"\"\"\n",
    "    [pred_to_csv(acqs, raw_pred_labels, raw_test_grid)] outputs suggested\n",
    "    inputs and their respective predicted outputs to csv; returns suggested point\n",
    "    corresponding to ucb acquisition.\n",
    "    \"\"\"   \n",
    "    dir = \"/Users/valenetjong/Bayesian-Optimization-Ferroelectrics/predictions/\"\n",
    "    file = open(dir + file_out, \"w\", encoding=\"utf-8\")\n",
    "    file.write(\"Energy density \\t Time (ms)\\n\")\n",
    "    data = {'Time(ms)':[], 'Energy density new cone (J/cm^2)':[], '2 Qsw/(U+|D|) 1e6':[]}\n",
    "    ucb = []\n",
    "    for lab, coords in acqs.items(): \n",
    "        time_val = raw_test_grid[coords[1]].tolist()[0]\n",
    "        energy_den_val = raw_test_grid[coords[0]].tolist()[1]\n",
    "        data['Time(ms)'].append(time_val)\n",
    "        data['Energy density new cone (J/cm^2)'].append(energy_den_val)\n",
    "        file.write(lab + \": \" + str(time_val) + \"\\t\" + str(energy_den_val) + \"\\n\")\n",
    "        if lab == \"UCB\": ucb.append(time_val*1000), ucb.append(energy_den_val)  # change units μs\n",
    "\n",
    "    file.write(\"\\nFigure of merit\\n\")\n",
    "    for lab, coords in acqs.items():\n",
    "        fig_of_merit = raw_pred_labels[coords].item()\n",
    "        data['2 Qsw/(U+|D|) 1e6'].append(fig_of_merit)\n",
    "        file.write(lab + \": \" + str(fig_of_merit) + \"\\n\")\n",
    "        if lab == \"UCB\": ucb.append(fig_of_merit)\n",
    "\n",
    "    df = pd.DataFrame(data)\n",
    "    print(df)\n",
    "    return ucb\n"
   ],
   "outputs": [],
   "metadata": {}
  },
  {
   "cell_type": "code",
   "execution_count": 635,
   "source": [
    "# get normalized predictions\n",
    "bounds = get_bounds(n=30)\n",
    "pred_labels, upper_surf, lower_surf, acqs = acq(obs, train_y, bounds)\n",
    "\n",
    "# undo scaling\n",
    "raw_train_x, raw_test_grid = un_norm_x(train_x, test_grid, scaler)\n"
   ],
   "outputs": [],
   "metadata": {}
  },
  {
   "cell_type": "markdown",
   "source": [
    "### Save Predictions and Visualize "
   ],
   "metadata": {}
  },
  {
   "cell_type": "code",
   "execution_count": 636,
   "source": [
    "# undo normalization and save to csv, get prediction point\n",
    "ucb = pred_to_csv(acqs, pred_labels, raw_test_grid)\n",
    "\n",
    "# suggested points (μs, J/cm^2)\n",
    "ucb_pt, nlcd_pt = (round(ucb[0],-1),round(ucb[1],2)), (2900, 9.04)\n",
    "print(ucb_pt)"
   ],
   "outputs": [
    {
     "output_type": "stream",
     "name": "stdout",
     "text": [
      "   Time(ms)  Energy density new cone (J/cm^2)  2 Qsw/(U+|D|) 1e6\n",
      "0  1.336823                          8.850209           4.773708\n",
      "1  1.170567                          8.850209           4.622326\n",
      "2  2.334360                         12.137278           2.809805\n",
      "3  1.336823                         12.137278           2.690174\n",
      "4  1.004310                          8.850209           4.192217\n",
      "5  3.664409                          2.276071           2.518920\n",
      "(1000.0, 8.85)\n"
     ]
    }
   ],
   "metadata": {}
  },
  {
   "cell_type": "code",
   "execution_count": 637,
   "source": [
    "# sanity check for fig of merit from acquisition\n",
    "model.eval(), likelihood.eval()\n",
    "ucb = np.array((1.17, 8.85)).reshape(1,2)\n",
    "ucb_scaled = scaler.transform(ucb)\n",
    "print(ucb_scaled)\n",
    "\n",
    "y_preds_ucb = likelihood(model(torch.Tensor(ucb_scaled)))\n",
    "\n",
    "with torch.no_grad(): y_preds_ucb_mean = y_preds_ucb.mean.numpy()\n",
    "print(y_preds_ucb_mean)"
   ],
   "outputs": [
    {
     "output_type": "stream",
     "name": "stdout",
     "text": [
      "[[0.14888889 0.48151064]]\n",
      "[4.620956]\n"
     ]
    },
    {
     "output_type": "stream",
     "name": "stderr",
     "text": [
      "/Users/valenetjong/opt/anaconda3/envs/FEGP/lib/python3.9/site-packages/gpytorch/likelihoods/gaussian_likelihood.py:270: GPInputWarning:\n",
      "\n",
      "You have passed data through a FixedNoiseGaussianLikelihood that did not match the size of the fixed noise, *and* you did not specify noise. This is treated as a no-op.\n",
      "\n"
     ]
    }
   ],
   "metadata": {}
  },
  {
   "cell_type": "code",
   "execution_count": 638,
   "source": [
    "import plotly.graph_objects as go\n",
    "def vis_pred(train_x, train_y, test_grid, pred_labels):\n",
    "    fig = go.Figure(data=[go.Surface(z=pred_labels.numpy(), \n",
    "                                    x=test_grid[:,0],\n",
    "                                    y=test_grid[:,1],\n",
    "                                    opacity = 0.8,\n",
    "                                    colorscale = \"Burg\",\n",
    "                                    colorbar=dict(thickness=15, len=0.5),\n",
    "                                    name='GP regression')])\n",
    "    \n",
    "    fig.add_trace(go.Scatter3d(x=train_x[:,0],\n",
    "                              y=train_x[:,1],\n",
    "                            z=train_y.numpy(), mode='markers', \n",
    "                            marker={'color':'#72356c'}, name='training data'))\n",
    "    fig.update_layout(width=1000, height=800,\n",
    "                    legend=dict(orientation=\"h\", yanchor=\"top\", y=1.02, \n",
    "                    xanchor=\"left\",x=1), margin=dict(r=0, l=0, b=0, t=0), \n",
    "                        scene=dict(\n",
    "                        xaxis_title=\"Pulse Width (msec)\",\n",
    "                        yaxis_title=\"Energy density new cone (J/cm^2)\",\n",
    "                        zaxis_title='2 Qsw/(U+|D|) 1e6')\n",
    "                    )\n",
    "    fig.update_layout(template=\"ggplot2\")\n",
    "    camera = dict(up=dict(x=0, y=0, z=1), center=dict(x=0, y=0, z=0),\n",
    "                    eye=dict(x=2.75, y=1.75, z=1))\n",
    "    fig.update_layout(scene_camera=camera)\n",
    "    fig.show()"
   ],
   "outputs": [],
   "metadata": {}
  },
  {
   "cell_type": "code",
   "execution_count": 639,
   "source": [
    "# visualize acquisition function results and confidence bound surfaces\n",
    "vis_pred(raw_train_x, train_y, raw_test_grid, pred_labels)"
   ],
   "outputs": [
    {
     "output_type": "display_data",
     "data": {
      "application/vnd.plotly.v1+json": {
       "data": [
        {
         "colorbar": {
          "len": 0.5,
          "thickness": 15
         },
         "colorscale": [
          [
           0,
           "rgb(255, 198, 196)"
          ],
          [
           0.16666666666666666,
           "rgb(244, 163, 168)"
          ],
          [
           0.3333333333333333,
           "rgb(227, 129, 145)"
          ],
          [
           0.5,
           "rgb(204, 96, 125)"
          ],
          [
           0.6666666666666666,
           "rgb(173, 70, 108)"
          ],
          [
           0.8333333333333334,
           "rgb(139, 48, 88)"
          ],
          [
           1,
           "rgb(103, 32, 68)"
          ]
         ],
         "name": "GP regression",
         "opacity": 0.8,
         "x": [
          0.33928570710122585,
          0.5055418629199266,
          0.6717980187386274,
          0.8380541577935219,
          1.0043103471398354,
          1.1705665364861488,
          1.336822658777237,
          1.503078781068325,
          1.6693349033594131,
          1.8355910927057266,
          2.0018471479415894,
          2.168103337287903,
          2.3343595266342168,
          2.5006157159805302,
          2.6668719053268437,
          2.833128094673157,
          2.9993842840194707,
          3.165640473365784,
          3.3318966627120976,
          3.4981525838375096,
          3.664408773183823,
          3.8306649625301366,
          3.99692115187645,
          4.163177341222764,
          4.329433262348176,
          4.495689451694489,
          4.661945641040803,
          4.828201830387116,
          4.99445801973343,
          5.160714209079743
         ],
         "y": [
          2.276071443020234,
          2.745652702469288,
          3.215233961918342,
          3.684815174018958,
          4.154396528164888,
          4.623977882310818,
          5.093559047062996,
          5.563140211815174,
          6.032721376567352,
          6.502302730713282,
          6.971883706071708,
          7.441465060217638,
          7.911046414363568,
          8.380627768509498,
          8.850209122655428,
          9.319790476801359,
          9.789371830947289,
          10.258953185093219,
          10.72853453923915,
          11.19811513581007,
          11.667696489956,
          12.13727784410193,
          12.60685919824786,
          13.076440552393791,
          13.546021148964712,
          14.015602503110642,
          14.485183857256573,
          14.954765211402503,
          15.424346565548433,
          15.893927919694363
         ],
         "z": [
          [
           1.2569925785064697,
           1.1601977348327637,
           1.2602648735046387,
           1.4987846612930298,
           1.7718024253845215,
           2.0095503330230713,
           2.188486099243164,
           2.3119473457336426,
           2.3925769329071045,
           2.4433400630950928,
           2.4744763374328613,
           2.493192672729492,
           2.504254102706909,
           2.5106921195983887,
           2.514385938644409,
           2.5164756774902344,
           2.5176422595977783,
           2.518284559249878,
           2.5186338424682617,
           2.5188210010528564,
           2.5189201831817627,
           2.518972158432007,
           2.518998861312866,
           2.519012451171875,
           2.519019365310669,
           2.5190227031707764,
           2.51902437210083,
           2.5190250873565674,
           2.5190255641937256,
           2.5190255641937256
          ],
          [
           1.1288851499557495,
           0.9739484786987305,
           1.1156766414642334,
           1.4196836948394775,
           1.7276451587677002,
           1.976309061050415,
           2.158535957336426,
           2.285717725753784,
           2.3716907501220703,
           2.428220272064209,
           2.4643914699554443,
           2.486917495727539,
           2.500580072402954,
           2.5086588859558105,
           2.5133216381073,
           2.515951633453369,
           2.517402410507202,
           2.51818585395813,
           2.5186002254486084,
           2.5188148021698,
           2.518923759460449,
           2.518977642059326,
           2.5190038681030273,
           2.5190160274505615,
           2.51902174949646,
           2.519024133682251,
           2.5190253257751465,
           2.5190255641937256,
           2.5190258026123047,
           2.5190258026123047
          ],
          [
           2.344020366668701,
           2.343132257461548,
           2.2551748752593994,
           2.1525158882141113,
           2.109257936477661,
           2.1355953216552734,
           2.205514907836914,
           2.287600517272949,
           2.3611197471618652,
           2.417799949645996,
           2.4573910236358643,
           2.483126163482666,
           2.4989354610443115,
           2.5081984996795654,
           2.51340389251709,
           2.5162179470062256,
           2.5176830291748047,
           2.518416404724121,
           2.518768310546875,
           2.5189285278320312,
           2.5189967155456543,
           2.5190227031707764,
           2.519030809402466,
           2.5190317630767822,
           2.5190305709838867,
           2.519028902053833,
           2.5190277099609375,
           2.519026756286621,
           2.519026279449463,
           2.5190258026123047
          ],
          [
           2.136300563812256,
           2.0966081619262695,
           1.9916634559631348,
           1.8871420621871948,
           1.8661799430847168,
           1.9482589960098267,
           2.084357261657715,
           2.220714807510376,
           2.330509662628174,
           2.4080774784088135,
           2.45797061920166,
           2.4876933097839355,
           2.5042073726654053,
           2.5127615928649902,
           2.5168559551239014,
           2.5186219215393066,
           2.5192627906799316,
           2.5194103717803955,
           2.5193722248077393,
           2.519285202026367,
           2.519202470779419,
           2.519138813018799,
           2.519094705581665,
           2.519066333770752,
           2.5190484523773193,
           2.519037961959839,
           2.519031524658203,
           2.5190279483795166,
           2.519026041030884,
           2.5190248489379883
          ],
          [
           0.5474650859832764,
           0.31886792182922363,
           0.47772955894470215,
           0.881712794303894,
           1.3241589069366455,
           1.7105817794799805,
           2.014448881149292,
           2.2326858043670654,
           2.3753840923309326,
           2.4596121311187744,
           2.5036802291870117,
           2.5232129096984863,
           2.5295097827911377,
           2.5296735763549805,
           2.5276174545288086,
           2.525207281112671,
           2.5231664180755615,
           2.5216639041900635,
           2.520644426345825,
           2.519989490509033,
           2.519585132598877,
           2.5193426609039307,
           2.5192008018493652,
           2.5191190242767334,
           2.5190727710723877,
           2.5190470218658447,
           2.5190324783325195,
           2.5190248489379883,
           2.5190205574035645,
           2.5190186500549316
          ],
          [
           1.1991467475891113,
           1.1083931922912598,
           1.2291264533996582,
           1.4931387901306152,
           1.8144848346710205,
           2.1221749782562256,
           2.3696470260620117,
           2.5360264778137207,
           2.622494697570801,
           2.647637367248535,
           2.6369285583496094,
           2.611848831176758,
           2.585456371307373,
           2.5635228157043457,
           2.5474114418029785,
           2.536466121673584,
           2.5294251441955566,
           2.525075674057007,
           2.5224714279174805,
           2.5209505558013916,
           2.520080089569092,
           2.519589424133301,
           2.5193161964416504,
           2.519165277481079,
           2.5190820693969727,
           2.519036293029785,
           2.5190110206604004,
           2.5189976692199707,
           2.518990993499756,
           2.518988609313965
          ],
          [
           1.9701380729675293,
           1.9464797973632812,
           2.1160359382629395,
           2.357600212097168,
           2.5966100692749023,
           2.813603162765503,
           2.9807534217834473,
           3.0592150688171387,
           3.0328073501586914,
           2.9380669593811035,
           2.8261239528656006,
           2.727811574935913,
           2.653424024581909,
           2.6020336151123047,
           2.5686562061309814,
           2.5479278564453125,
           2.535486936569214,
           2.5282187461853027,
           2.524064064025879,
           2.521730661392212,
           2.5204379558563232,
           2.519727945327759,
           2.519338846206665,
           2.5191235542297363,
           2.5190024375915527,
           2.518932580947876,
           2.5188918113708496,
           2.518869161605835,
           2.518859386444092,
           2.518859386444092
          ],
          [
           2.876852512359619,
           3.0519704818725586,
           3.16611385345459,
           3.2750351428985596,
           3.385073184967041,
           3.4610023498535156,
           3.479480743408203,
           3.4181933403015137,
           3.2725861072540283,
           3.0876264572143555,
           2.914560079574585,
           2.777937889099121,
           2.680825710296631,
           2.6165032386779785,
           2.5760107040405273,
           2.551486015319824,
           2.537081480026245,
           2.5288314819335938,
           2.524202823638916,
           2.52164626121521,
           2.52024507522583,
           2.519472360610962,
           2.5190329551696777,
           2.5187675952911377,
           2.5185940265655518,
           2.5184733867645264,
           2.518389940261841,
           2.518338918685913,
           2.518320083618164,
           2.5183327198028564
          ],
          [
           3.4331769943237305,
           3.6995720863342285,
           3.9148097038269043,
           4.0531768798828125,
           4.068237781524658,
           3.92852783203125,
           3.688258171081543,
           3.42789888381958,
           3.191089391708374,
           2.993100166320801,
           2.838207960128784,
           2.7245991230010986,
           2.646088123321533,
           2.5945935249328613,
           2.562319040298462,
           2.5428874492645264,
           2.5316061973571777,
           2.5252685546875,
           2.521803379058838,
           2.5199313163757324,
           2.518894910812378,
           2.5182642936706543,
           2.5178089141845703,
           2.517418622970581,
           2.5170552730560303,
           2.516723394393921,
           2.5164504051208496,
           2.5162689685821533,
           2.5162065029144287,
           2.516273260116577
          ],
          [
           3.0684168338775635,
           3.2175285816192627,
           3.3652713298797607,
           3.4891395568847656,
           3.521838903427124,
           3.4023056030273438,
           3.2128219604492188,
           3.0305323600769043,
           2.8802762031555176,
           2.76401424407959,
           2.6774816513061523,
           2.6156113147735596,
           2.5735199451446533,
           2.546565294265747,
           2.5305099487304688,
           2.521764039993286,
           2.517536163330078,
           2.515831470489502,
           2.515336036682129,
           2.5152506828308105,
           2.5151288509368896,
           2.5147504806518555,
           2.5140390396118164,
           2.51301646232605,
           2.51178240776062,
           2.510498285293579,
           2.509364604949951,
           2.508582592010498,
           2.508305549621582,
           2.508596658706665
          ],
          [
           2.6456501483917236,
           2.6040914058685303,
           2.509917736053467,
           2.383558511734009,
           2.309199333190918,
           2.3538362979888916,
           2.447852611541748,
           2.5126423835754395,
           2.532655954360962,
           2.5228981971740723,
           2.501946210861206,
           2.4826459884643555,
           2.4710404872894287,
           2.468024253845215,
           2.471604108810425,
           2.478856086730957,
           2.4871678352355957,
           2.4947476387023926,
           2.500626564025879,
           2.5044283866882324,
           2.5061111450195312,
           2.5057857036590576,
           2.50364089012146,
           2.4999582767486572,
           2.495182514190674,
           2.4899816513061523,
           2.485229730606079,
           2.4818615913391113,
           2.480623960494995,
           2.481825828552246
          ],
          [
           2.6218743324279785,
           2.640838146209717,
           2.658878803253174,
           2.6744329929351807,
           2.6781628131866455,
           2.6581666469573975,
           2.6132760047912598,
           2.5459389686584473,
           2.4621267318725586,
           2.376753568649292,
           2.309154510498047,
           2.273408889770508,
           2.272184371948242,
           2.2977325916290283,
           2.3376195430755615,
           2.380413770675659,
           2.418553113937378,
           2.4484825134277344,
           2.469438076019287,
           2.4820451736450195,
           2.4872984886169434,
           2.486030340194702,
           2.4788150787353516,
           2.4662091732025146,
           2.449230432510376,
           2.4298858642578125,
           2.4114158153533936,
           2.3978383541107178,
           2.39267635345459,
           2.3974318504333496
          ],
          [
           2.7625913619995117,
           2.8889894485473633,
           3.04829478263855,
           3.208685874938965,
           3.300372838973999,
           3.2575857639312744,
           3.080627918243408,
           2.7980685234069824,
           2.4519035816192627,
           2.1122844219207764,
           1.8619632720947266,
           1.7529332637786865,
           1.7790756225585938,
           1.8917925357818604,
           2.0358099937438965,
           2.172276735305786,
           2.2826008796691895,
           2.36253023147583,
           2.414957284927368,
           2.444807529449463,
           2.456296920776367,
           2.4518747329711914,
           2.4322423934936523,
           2.3971877098083496,
           2.3472695350646973,
           2.286301374435425,
           2.223787784576416,
           2.174954652786255,
           2.155585765838623,
           2.1729705333709717
          ],
          [
           2.8392269611358643,
           3.01180362701416,
           3.237210512161255,
           3.4952566623687744,
           3.732896566390991,
           3.8583896160125732,
           3.746896743774414,
           3.2867491245269775,
           2.4922101497650146,
           1.585891604423523,
           0.9095267057418823,
           0.6801581382751465,
           0.8367130756378174,
           1.1807210445404053,
           1.5501724481582642,
           1.8627119064331055,
           2.094533681869507,
           2.2514419555664062,
           2.349003791809082,
           2.4023141860961914,
           2.4219367504119873,
           2.412949562072754,
           2.375389575958252,
           2.305652141571045,
           2.1994705200195312,
           2.0578486919403076,
           1.8968331813812256,
           1.7572405338287354,
           1.6975443363189697,
           1.7506358623504639
          ],
          [
           2.855192184448242,
           3.0549986362457275,
           3.3435020446777344,
           3.7307591438293457,
           4.192216873168945,
           4.622325897216797,
           4.773707866668701,
           4.269806861877441,
           2.9557693004608154,
           1.3196327686309814,
           0.10635876655578613,
           -0.2574188709259033,
           0.04553818702697754,
           0.6194872856140137,
           1.1927318572998047,
           1.6506990194320679,
           1.974602460861206,
           2.185460329055786,
           2.31270170211792,
           2.3809804916381836,
           2.406395673751831,
           2.3964762687683105,
           2.3513197898864746,
           2.2653021812438965,
           2.130260705947876,
           1.9423627853393555,
           1.7156447172164917,
           1.5023561716079712,
           1.402661919593811,
           1.491421103477478
          ],
          [
           2.8016228675842285,
           2.9731316566467285,
           3.2233572006225586,
           3.560696601867676,
           3.958949565887451,
           4.315669059753418,
           4.410792350769043,
           3.9527077674865723,
           2.8445382118225098,
           1.4437963962554932,
           0.3930039405822754,
           0.11897826194763184,
           0.42157673835754395,
           0.9277968406677246,
           1.4133024215698242,
           1.7945022583007812,
           2.0627527236938477,
           2.2377171516418457,
           2.3439574241638184,
           2.4016706943511963,
           2.4242215156555176,
           2.418395519256592,
           2.385608196258545,
           2.3237485885620117,
           2.2302780151367188,
           2.107673168182373,
           1.9714335203170776,
           1.8563790321350098,
           1.8081943988800049,
           1.851097822189331
          ],
          [
           2.699237823486328,
           2.8000075817108154,
           2.9391632080078125,
           3.1141226291656494,
           3.304077386856079,
           3.4615771770477295,
           3.5183539390563965,
           3.420379161834717,
           3.177619695663452,
           2.8645033836364746,
           2.54720401763916,
           2.270101547241211,
           2.1037168502807617,
           2.071302890777588,
           2.128538131713867,
           2.2193069458007812,
           2.307035446166992,
           2.3760337829589844,
           2.4232680797576904,
           2.4509661197662354,
           2.4623048305511475,
           2.459545373916626,
           2.4436774253845215,
           2.415022850036621,
           2.374596118927002,
           2.3259987831115723,
           2.277045965194702,
           2.239406108856201,
           2.2246334552764893,
           2.237940549850464
          ],
          [
           2.6108386516571045,
           2.6565089225769043,
           2.7162187099456787,
           2.7877719402313232,
           2.8641648292541504,
           2.9338858127593994,
           2.9849817752838135,
           3.012284517288208,
           3.0211310386657715,
           3.015244245529175,
           2.961557626724243,
           2.8214433193206787,
           2.6695563793182373,
           2.562800884246826,
           2.5055811405181885,
           2.4833498001098633,
           2.480278968811035,
           2.485060691833496,
           2.4911739826202393,
           2.495421886444092,
           2.496438980102539,
           2.493699789047241,
           2.4870526790618896,
           2.476666212081909,
           2.4632420539855957,
           2.448298931121826,
           2.4342589378356934,
           2.424050807952881,
           2.4201900959014893,
           2.423736333847046
          ],
          [
           2.5628206729888916,
           2.5838801860809326,
           2.611855983734131,
           2.646841049194336,
           2.687105417251587,
           2.7274513244628906,
           2.756624221801758,
           2.7550220489501953,
           2.7000279426574707,
           2.5960233211517334,
           2.5200536251068115,
           2.544904947280884,
           2.6039257049560547,
           2.627878189086914,
           2.6160342693328857,
           2.5896975994110107,
           2.5639636516571045,
           2.5444881916046143,
           2.5314717292785645,
           2.523162364959717,
           2.5176315307617188,
           2.5133883953094482,
           2.5094757080078125,
           2.50541090965271,
           2.501114845275879,
           2.4968478679656982,
           2.493117332458496,
           2.4905242919921875,
           2.489560842514038,
           2.490424633026123
          ],
          [
           2.544163942337036,
           2.55889892578125,
           2.5818841457366943,
           2.617673397064209,
           2.6732285022735596,
           2.758737564086914,
           2.8876211643218994,
           3.072920083999634,
           3.3127405643463135,
           3.5543789863586426,
           3.662158489227295,
           3.5363266468048096,
           3.282078742980957,
           3.035043716430664,
           2.8469462394714355,
           2.7188947200775146,
           2.636932611465454,
           2.5865468978881836,
           2.556471824645996,
           2.5388779640197754,
           2.528653383255005,
           2.522610664367676,
           2.5188446044921875,
           2.5162763595581055,
           2.514348268508911,
           2.5128254890441895,
           2.5116634368896484,
           2.5109074115753174,
           2.510615587234497,
           2.510805368423462
          ],
          [
           2.536212682723999,
           2.548043727874756,
           2.5677483081817627,
           2.600067615509033,
           2.651757001876831,
           2.7311792373657227,
           2.8458027839660645,
           2.995685338973999,
           3.1625289916992188,
           3.3015613555908203,
           3.35526967048645,
           3.295980215072632,
           3.1529054641723633,
           2.9839835166931152,
           2.833592653274536,
           2.7194957733154297,
           2.641223430633545,
           2.591005563735962,
           2.560245990753174,
           2.5420072078704834,
           2.5314178466796875,
           2.5253169536590576,
           2.521758556365967,
           2.51959490776062,
           2.5181832313537598,
           2.517195224761963,
           2.516493797302246,
           2.5160465240478516,
           2.5158591270446777,
           2.5159268379211426
          ],
          [
           2.5298824310302734,
           2.537360668182373,
           2.5494799613952637,
           2.5684943199157715,
           2.597046375274658,
           2.6374495029449463,
           2.6901743412017822,
           2.7516422271728516,
           2.81241774559021,
           2.8581128120422363,
           2.874781608581543,
           2.856639862060547,
           2.809805393218994,
           2.7483880519866943,
           2.6867504119873047,
           2.634201765060425,
           2.5941884517669678,
           2.566136360168457,
           2.5476605892181396,
           2.5360639095306396,
           2.529043674468994,
           2.5248770713806152,
           2.522367238998413,
           2.520724058151245,
           2.5194621086120605,
           2.5183446407318115,
           2.5173487663269043,
           2.5166077613830566,
           2.5162947177886963,
           2.516482353210449
          ],
          [
           2.52470326423645,
           2.528308868408203,
           2.533839464187622,
           2.5419740676879883,
           2.5533270835876465,
           2.56815505027771,
           2.5859482288360596,
           2.6050479412078857,
           2.622587203979492,
           2.6350536346435547,
           2.639479637145996,
           2.634718179702759,
           2.6219918727874756,
           2.6043195724487305,
           2.5852324962615967,
           2.567596435546875,
           2.5530648231506348,
           2.5421512126922607,
           2.5346126556396484,
           2.5298502445220947,
           2.52717924118042,
           2.5259485244750977,
           2.525557518005371,
           2.525432825088501,
           2.5250473022460938,
           2.5240416526794434,
           2.5224506855010986,
           2.5208539962768555,
           2.5201220512390137,
           2.52070689201355
          ],
          [
           2.521503448486328,
           2.52291202545166,
           2.5249526500701904,
           2.527775526046753,
           2.531470775604248,
           2.535994291305542,
           2.5410919189453125,
           2.546259641647339,
           2.5507848262786865,
           2.5538980960845947,
           2.555000066757202,
           2.5538735389709473,
           2.550769567489624,
           2.54632306098938,
           2.5413455963134766,
           2.536606788635254,
           2.5326976776123047,
           2.530001401901245,
           2.5287461280822754,
           2.529080629348755,
           2.5311200618743896,
           2.534924030303955,
           2.540379285812378,
           2.5470049381256104,
           2.5537712574005127,
           2.559154748916626,
           2.561768054962158,
           2.5616374015808105,
           2.5609514713287354,
           2.5615406036376953
          ],
          [
           2.519960403442383,
           2.520433187484741,
           2.521083354949951,
           2.5219366550445557,
           2.5229969024658203,
           2.52423095703125,
           2.525559186935425,
           2.526853561401367,
           2.5279550552368164,
           2.5287063121795654,
           2.5289955139160156,
           2.5287930965423584,
           2.5281710624694824,
           2.527296781539917,
           2.526411294937134,
           2.525810718536377,
           2.525847911834717,
           2.5269668102264404,
           2.5297696590423584,
           2.535102605819702,
           2.54412579536438,
           2.558300018310547,
           2.579171657562256,
           2.6077961921691895,
           2.643695116043091,
           2.6835763454437256,
           2.720757246017456,
           2.7469265460968018,
           2.7564384937286377,
           2.748094081878662
          ],
          [
           2.519340991973877,
           2.5194830894470215,
           2.519670248031616,
           2.5199053287506104,
           2.520185708999634,
           2.5205001831054688,
           2.5208282470703125,
           2.521141529083252,
           2.521409034729004,
           2.52160382270813,
           2.521714687347412,
           2.5217549800872803,
           2.52177357673645,
           2.5218682289123535,
           2.522202491760254,
           2.523042917251587,
           2.5248217582702637,
           2.528245449066162,
           2.534464120864868,
           2.545314073562622,
           2.5636229515075684,
           2.593506336212158,
           2.640446662902832,
           2.710678815841675,
           2.8090174198150635,
           2.9340500831604004,
           3.0706214904785156,
           3.184479236602783,
           3.2318437099456787,
           3.1901450157165527
          ],
          [
           2.5191233158111572,
           2.519162893295288,
           2.5192131996154785,
           2.5192742347717285,
           2.5193448066711426,
           2.5194225311279297,
           2.519503355026245,
           2.519582748413086,
           2.519657611846924,
           2.5197293758392334,
           2.519808053970337,
           2.5199196338653564,
           2.5201172828674316,
           2.5204994678497314,
           2.52124285697937,
           2.5226595401763916,
           2.5252931118011475,
           2.530078649520874,
           2.538594961166382,
           2.553438425064087,
           2.5787370204925537,
           2.6207494735717773,
           2.6883411407470703,
           2.7927844524383545,
           2.945690393447876,
           3.1529440879821777,
           3.401397705078125,
           3.6364543437957764,
           3.7469797134399414,
           3.6491713523864746
          ],
          [
           2.5190541744232178,
           2.5190646648406982,
           2.5190775394439697,
           2.5190930366516113,
           2.519110918045044,
           2.5191309452056885,
           2.519153356552124,
           2.519178867340088,
           2.5192103385925293,
           2.519254684448242,
           2.519326686859131,
           2.5194549560546875,
           2.519693613052368,
           2.520141839981079,
           2.5209786891937256,
           2.522524118423462,
           2.5253379344940186,
           2.530383348464966,
           2.539276123046875,
           2.5546436309814453,
           2.580578088760376,
           2.623079299926758,
           2.690162420272827,
           2.790889263153076,
           2.931990623474121,
           3.110398769378662,
           3.301727533340454,
           3.4535372257232666,
           3.510854959487915,
           3.460700273513794
          ],
          [
           2.519033670425415,
           2.5190365314483643,
           2.5190398693084717,
           2.5190439224243164,
           2.5190489292144775,
           2.5190553665161133,
           2.519063949584961,
           2.519076347351074,
           2.5190963745117188,
           2.5191311836242676,
           2.5191946029663086,
           2.5193121433258057,
           2.519531488418579,
           2.519939661026001,
           2.520691394805908,
           2.5220627784729004,
           2.5245320796966553,
           2.5289154052734375,
           2.536566734313965,
           2.5496633052825928,
           2.571556329727173,
           2.6071133613586426,
           2.6628212928771973,
           2.7461798191070557,
           2.8635833263397217,
           3.015697956085205,
           3.189486503601074,
           3.347357749938965,
           3.420534372329712,
           3.3557779788970947
          ],
          [
           2.5190279483795166,
           2.519028663635254,
           2.5190296173095703,
           2.519031047821045,
           2.5190329551696777,
           2.519035816192627,
           2.519040584564209,
           2.5190484523773193,
           2.5190629959106445,
           2.519089698791504,
           2.519139289855957,
           2.5192315578460693,
           2.519402503967285,
           2.519716739654541,
           2.5202889442443848,
           2.521319627761841,
           2.523153066635132,
           2.526367664337158,
           2.5319111347198486,
           2.5412869453430176,
           2.5567843914031982,
           2.581697940826416,
           2.6203901767730713,
           2.677870988845825,
           2.7582690715789795,
           2.8612751960754395,
           2.975890874862671,
           3.074079751968384,
           3.1158950328826904,
           3.0790481567382812
          ]
         ],
         "type": "surface"
        },
        {
         "marker": {
          "color": "#72356c"
         },
         "mode": "markers",
         "name": "training data",
         "x": [
          0.5,
          0.5,
          1.0000000037252903,
          1.0000000037252903,
          1.5000000074505806,
          1.5000000074505806,
          5.000000000000001,
          5.000000000000001,
          0.5,
          5.000000000000001,
          2.0000000447034836,
          0.5,
          0.5,
          0.5,
          1.0000000037252903,
          1.0000000037252903,
          2.0000000447034836,
          2.0000000447034836,
          2.0000000447034836,
          2.0000000447034836,
          5.000000000000001,
          5.000000000000001,
          5.000000000000001
         ],
         "y": [
          2.7300000190734863,
          3.4000001145614362,
          3.7899999185612288,
          6.440000140764965,
          5.3600000716472636,
          8.98999989360641,
          8.800000081362441,
          14.670000341289324,
          5.239999811442516,
          14.890000123887603,
          10.130000282220237,
          4.510000154033449,
          5.369999872371615,
          4.880000167190786,
          6.760000203331785,
          7.769999962835257,
          8.729999392960707,
          9.380000265787459,
          10.479999178778854,
          11.010000170188363,
          14.710000301761738,
          15.4399995803833,
          13.370000110785838
         ],
         "z": [
          0.8730257153511047,
          2.6772446632385254,
          1.6990152597427368,
          3.8050527572631836,
          3.3348562717437744,
          4.535152912139893,
          1.3625102043151855,
          3.8412907123565674,
          1.2013570070266724,
          3.5136520862579346,
          3.4708714485168457,
          0.26329824328422546,
          2.7753403186798096,
          2.591306209564209,
          2.579984426498413,
          3.173818588256836,
          0.13150499761104584,
          0.45116370916366577,
          2.1266398429870605,
          3.468212842941284,
          3.685852527618408,
          3.445655584335327,
          2.6515469551086426
         ],
         "type": "scatter3d"
        }
       ],
       "layout": {
        "template": {
         "data": {
          "barpolar": [
           {
            "marker": {
             "line": {
              "color": "rgb(237,237,237)",
              "width": 0.5
             },
             "pattern": {
              "fillmode": "overlay",
              "size": 10,
              "solidity": 0.2
             }
            },
            "type": "barpolar"
           }
          ],
          "bar": [
           {
            "error_x": {
             "color": "rgb(51,51,51)"
            },
            "error_y": {
             "color": "rgb(51,51,51)"
            },
            "marker": {
             "line": {
              "color": "rgb(237,237,237)",
              "width": 0.5
             },
             "pattern": {
              "fillmode": "overlay",
              "size": 10,
              "solidity": 0.2
             }
            },
            "type": "bar"
           }
          ],
          "carpet": [
           {
            "aaxis": {
             "endlinecolor": "rgb(51,51,51)",
             "gridcolor": "white",
             "linecolor": "white",
             "minorgridcolor": "white",
             "startlinecolor": "rgb(51,51,51)"
            },
            "baxis": {
             "endlinecolor": "rgb(51,51,51)",
             "gridcolor": "white",
             "linecolor": "white",
             "minorgridcolor": "white",
             "startlinecolor": "rgb(51,51,51)"
            },
            "type": "carpet"
           }
          ],
          "choropleth": [
           {
            "colorbar": {
             "outlinewidth": 0,
             "tickcolor": "rgb(237,237,237)",
             "ticklen": 6,
             "ticks": "inside"
            },
            "type": "choropleth"
           }
          ],
          "contourcarpet": [
           {
            "colorbar": {
             "outlinewidth": 0,
             "tickcolor": "rgb(237,237,237)",
             "ticklen": 6,
             "ticks": "inside"
            },
            "type": "contourcarpet"
           }
          ],
          "contour": [
           {
            "colorbar": {
             "outlinewidth": 0,
             "tickcolor": "rgb(237,237,237)",
             "ticklen": 6,
             "ticks": "inside"
            },
            "colorscale": [
             [
              0,
              "rgb(20,44,66)"
             ],
             [
              1,
              "rgb(90,179,244)"
             ]
            ],
            "type": "contour"
           }
          ],
          "heatmapgl": [
           {
            "colorbar": {
             "outlinewidth": 0,
             "tickcolor": "rgb(237,237,237)",
             "ticklen": 6,
             "ticks": "inside"
            },
            "colorscale": [
             [
              0,
              "rgb(20,44,66)"
             ],
             [
              1,
              "rgb(90,179,244)"
             ]
            ],
            "type": "heatmapgl"
           }
          ],
          "heatmap": [
           {
            "colorbar": {
             "outlinewidth": 0,
             "tickcolor": "rgb(237,237,237)",
             "ticklen": 6,
             "ticks": "inside"
            },
            "colorscale": [
             [
              0,
              "rgb(20,44,66)"
             ],
             [
              1,
              "rgb(90,179,244)"
             ]
            ],
            "type": "heatmap"
           }
          ],
          "histogram2dcontour": [
           {
            "colorbar": {
             "outlinewidth": 0,
             "tickcolor": "rgb(237,237,237)",
             "ticklen": 6,
             "ticks": "inside"
            },
            "colorscale": [
             [
              0,
              "rgb(20,44,66)"
             ],
             [
              1,
              "rgb(90,179,244)"
             ]
            ],
            "type": "histogram2dcontour"
           }
          ],
          "histogram2d": [
           {
            "colorbar": {
             "outlinewidth": 0,
             "tickcolor": "rgb(237,237,237)",
             "ticklen": 6,
             "ticks": "inside"
            },
            "colorscale": [
             [
              0,
              "rgb(20,44,66)"
             ],
             [
              1,
              "rgb(90,179,244)"
             ]
            ],
            "type": "histogram2d"
           }
          ],
          "histogram": [
           {
            "marker": {
             "pattern": {
              "fillmode": "overlay",
              "size": 10,
              "solidity": 0.2
             }
            },
            "type": "histogram"
           }
          ],
          "mesh3d": [
           {
            "colorbar": {
             "outlinewidth": 0,
             "tickcolor": "rgb(237,237,237)",
             "ticklen": 6,
             "ticks": "inside"
            },
            "type": "mesh3d"
           }
          ],
          "parcoords": [
           {
            "line": {
             "colorbar": {
              "outlinewidth": 0,
              "tickcolor": "rgb(237,237,237)",
              "ticklen": 6,
              "ticks": "inside"
             }
            },
            "type": "parcoords"
           }
          ],
          "pie": [
           {
            "automargin": true,
            "type": "pie"
           }
          ],
          "scatter3d": [
           {
            "line": {
             "colorbar": {
              "outlinewidth": 0,
              "tickcolor": "rgb(237,237,237)",
              "ticklen": 6,
              "ticks": "inside"
             }
            },
            "marker": {
             "colorbar": {
              "outlinewidth": 0,
              "tickcolor": "rgb(237,237,237)",
              "ticklen": 6,
              "ticks": "inside"
             }
            },
            "type": "scatter3d"
           }
          ],
          "scattercarpet": [
           {
            "marker": {
             "colorbar": {
              "outlinewidth": 0,
              "tickcolor": "rgb(237,237,237)",
              "ticklen": 6,
              "ticks": "inside"
             }
            },
            "type": "scattercarpet"
           }
          ],
          "scattergeo": [
           {
            "marker": {
             "colorbar": {
              "outlinewidth": 0,
              "tickcolor": "rgb(237,237,237)",
              "ticklen": 6,
              "ticks": "inside"
             }
            },
            "type": "scattergeo"
           }
          ],
          "scattergl": [
           {
            "marker": {
             "colorbar": {
              "outlinewidth": 0,
              "tickcolor": "rgb(237,237,237)",
              "ticklen": 6,
              "ticks": "inside"
             }
            },
            "type": "scattergl"
           }
          ],
          "scattermapbox": [
           {
            "marker": {
             "colorbar": {
              "outlinewidth": 0,
              "tickcolor": "rgb(237,237,237)",
              "ticklen": 6,
              "ticks": "inside"
             }
            },
            "type": "scattermapbox"
           }
          ],
          "scatterpolargl": [
           {
            "marker": {
             "colorbar": {
              "outlinewidth": 0,
              "tickcolor": "rgb(237,237,237)",
              "ticklen": 6,
              "ticks": "inside"
             }
            },
            "type": "scatterpolargl"
           }
          ],
          "scatterpolar": [
           {
            "marker": {
             "colorbar": {
              "outlinewidth": 0,
              "tickcolor": "rgb(237,237,237)",
              "ticklen": 6,
              "ticks": "inside"
             }
            },
            "type": "scatterpolar"
           }
          ],
          "scatter": [
           {
            "fillpattern": {
             "fillmode": "overlay",
             "size": 10,
             "solidity": 0.2
            },
            "type": "scatter"
           }
          ],
          "scatterternary": [
           {
            "marker": {
             "colorbar": {
              "outlinewidth": 0,
              "tickcolor": "rgb(237,237,237)",
              "ticklen": 6,
              "ticks": "inside"
             }
            },
            "type": "scatterternary"
           }
          ],
          "surface": [
           {
            "colorbar": {
             "outlinewidth": 0,
             "tickcolor": "rgb(237,237,237)",
             "ticklen": 6,
             "ticks": "inside"
            },
            "colorscale": [
             [
              0,
              "rgb(20,44,66)"
             ],
             [
              1,
              "rgb(90,179,244)"
             ]
            ],
            "type": "surface"
           }
          ],
          "table": [
           {
            "cells": {
             "fill": {
              "color": "rgb(237,237,237)"
             },
             "line": {
              "color": "white"
             }
            },
            "header": {
             "fill": {
              "color": "rgb(217,217,217)"
             },
             "line": {
              "color": "white"
             }
            },
            "type": "table"
           }
          ]
         },
         "layout": {
          "annotationdefaults": {
           "arrowhead": 0,
           "arrowwidth": 1
          },
          "autotypenumbers": "strict",
          "coloraxis": {
           "colorbar": {
            "outlinewidth": 0,
            "tickcolor": "rgb(237,237,237)",
            "ticklen": 6,
            "ticks": "inside"
           }
          },
          "colorscale": {
           "sequential": [
            [
             0,
             "rgb(20,44,66)"
            ],
            [
             1,
             "rgb(90,179,244)"
            ]
           ],
           "sequentialminus": [
            [
             0,
             "rgb(20,44,66)"
            ],
            [
             1,
             "rgb(90,179,244)"
            ]
           ]
          },
          "colorway": [
           "#F8766D",
           "#A3A500",
           "#00BF7D",
           "#00B0F6",
           "#E76BF3"
          ],
          "font": {
           "color": "rgb(51,51,51)"
          },
          "geo": {
           "bgcolor": "white",
           "lakecolor": "white",
           "landcolor": "rgb(237,237,237)",
           "showlakes": true,
           "showland": true,
           "subunitcolor": "white"
          },
          "hoverlabel": {
           "align": "left"
          },
          "hovermode": "closest",
          "paper_bgcolor": "white",
          "plot_bgcolor": "rgb(237,237,237)",
          "polar": {
           "angularaxis": {
            "gridcolor": "white",
            "linecolor": "white",
            "showgrid": true,
            "tickcolor": "rgb(51,51,51)",
            "ticks": "outside"
           },
           "bgcolor": "rgb(237,237,237)",
           "radialaxis": {
            "gridcolor": "white",
            "linecolor": "white",
            "showgrid": true,
            "tickcolor": "rgb(51,51,51)",
            "ticks": "outside"
           }
          },
          "scene": {
           "xaxis": {
            "backgroundcolor": "rgb(237,237,237)",
            "gridcolor": "white",
            "gridwidth": 2,
            "linecolor": "white",
            "showbackground": true,
            "showgrid": true,
            "tickcolor": "rgb(51,51,51)",
            "ticks": "outside",
            "zerolinecolor": "white"
           },
           "yaxis": {
            "backgroundcolor": "rgb(237,237,237)",
            "gridcolor": "white",
            "gridwidth": 2,
            "linecolor": "white",
            "showbackground": true,
            "showgrid": true,
            "tickcolor": "rgb(51,51,51)",
            "ticks": "outside",
            "zerolinecolor": "white"
           },
           "zaxis": {
            "backgroundcolor": "rgb(237,237,237)",
            "gridcolor": "white",
            "gridwidth": 2,
            "linecolor": "white",
            "showbackground": true,
            "showgrid": true,
            "tickcolor": "rgb(51,51,51)",
            "ticks": "outside",
            "zerolinecolor": "white"
           }
          },
          "shapedefaults": {
           "fillcolor": "black",
           "line": {
            "width": 0
           },
           "opacity": 0.3
          },
          "ternary": {
           "aaxis": {
            "gridcolor": "white",
            "linecolor": "white",
            "showgrid": true,
            "tickcolor": "rgb(51,51,51)",
            "ticks": "outside"
           },
           "baxis": {
            "gridcolor": "white",
            "linecolor": "white",
            "showgrid": true,
            "tickcolor": "rgb(51,51,51)",
            "ticks": "outside"
           },
           "bgcolor": "rgb(237,237,237)",
           "caxis": {
            "gridcolor": "white",
            "linecolor": "white",
            "showgrid": true,
            "tickcolor": "rgb(51,51,51)",
            "ticks": "outside"
           }
          },
          "xaxis": {
           "automargin": true,
           "gridcolor": "white",
           "linecolor": "white",
           "showgrid": true,
           "tickcolor": "rgb(51,51,51)",
           "ticks": "outside",
           "title": {
            "standoff": 15
           },
           "zerolinecolor": "white"
          },
          "yaxis": {
           "automargin": true,
           "gridcolor": "white",
           "linecolor": "white",
           "showgrid": true,
           "tickcolor": "rgb(51,51,51)",
           "ticks": "outside",
           "title": {
            "standoff": 15
           },
           "zerolinecolor": "white"
          }
         }
        },
        "legend": {
         "orientation": "h",
         "yanchor": "top",
         "y": 1.02,
         "xanchor": "left",
         "x": 1
        },
        "margin": {
         "r": 0,
         "l": 0,
         "b": 0,
         "t": 0
        },
        "width": 1000,
        "height": 800,
        "scene": {
         "xaxis": {
          "title": {
           "text": "Pulse Width (msec)"
          }
         },
         "yaxis": {
          "title": {
           "text": "Energy density new cone (J/cm^2)"
          }
         },
         "zaxis": {
          "title": {
           "text": "2 Qsw/(U+|D|) 1e6"
          }
         },
         "camera": {
          "up": {
           "x": 0,
           "y": 0,
           "z": 1
          },
          "center": {
           "x": 0,
           "y": 0,
           "z": 0
          },
          "eye": {
           "x": 2.75,
           "y": 1.75,
           "z": 1
          }
         }
        }
       },
       "config": {
        "plotlyServerURL": "https://plot.ly"
       }
      }
     },
     "metadata": {}
    }
   ],
   "metadata": {}
  },
  {
   "cell_type": "code",
   "execution_count": 640,
   "source": [
    "import plotly.graph_objects as go\n",
    "def vis_acq(train_x, train_y, test_grid, pred_labels, upper_surf, lower_surf, acqs):\n",
    "    fig = go.Figure(data=[go.Surface(z=pred_labels.numpy(), \n",
    "                                    x=test_grid[:,0],\n",
    "                                    y=test_grid[:,1],\n",
    "                                    opacity = 0.8,\n",
    "                                    colorscale = \"Burg\",\n",
    "                                    colorbar=dict(thickness=15, len=0.5),\n",
    "                                    name='GP regression')])\n",
    "\n",
    "    fig.add_trace(go.Surface(z=upper_surf, x=test_grid[:,0],\n",
    "                    y=test_grid[:,1], opacity=0.2, colorscale = \"Burg\", showscale=False))\n",
    "\n",
    "    fig.add_trace(go.Surface(z=lower_surf, x=test_grid[:,0],\n",
    "                            y=test_grid[:,1], \n",
    "                            colorscale = \"Burg\",\n",
    "                            opacity=0.2, showscale=False))\n",
    "    fig.add_trace(go.Scatter3d(x=train_x[:,0], \n",
    "                                y=train_x[:,1], \n",
    "                                z=train_y.numpy(), \n",
    "                                mode='markers', \n",
    "                                name='training data', \n",
    "                                marker={'color':'#72356c'}))\n",
    "    \n",
    "    for acq_name, acq_val in acqs.items():\n",
    "        fig.add_trace(go.Scatter3d(x=[test_grid[acq_val[1], 0]], \n",
    "                                y=[test_grid[acq_val[0], 1]],\n",
    "                                z=[pred_labels[acq_val[0], acq_val[1]]], mode='markers', \n",
    "                                name='max(' + acq_name + ')')) \n",
    "\n",
    "    fig.update_layout(width=1200, height=750,\n",
    "                    margin=dict(r=20, l=10, b=15, t=10),\n",
    "                    legend=dict(orientation=\"h\", yanchor=\"bottom\", \n",
    "                                y=0.9, xanchor=\"right\",x=0.85),\n",
    "                    scene=dict(\n",
    "                        xaxis_title=\"Pulse Width (msec)\",\n",
    "                        yaxis_title=\"Energy density new cone (J/cm^2)\",\n",
    "                        zaxis_title='2 Qsw/(U+|D|) 1e6')\n",
    "                    )\n",
    "\n",
    "    fig.update_layout(template=\"ggplot2\")\n",
    "    camera = dict(\n",
    "    up=dict(x=0, y=0, z=1),\n",
    "    center=dict(x=0, y=0, z=0),\n",
    "    eye=dict(x=2, y=0.3, z=0.75))\n",
    "\n",
    "    fig.update_layout(scene_camera=camera)\n",
    "\n",
    "    fig.show()\n",
    "    # fig.write_image(\"output_plot.png\", format = \"png\", scale=3)"
   ],
   "outputs": [],
   "metadata": {}
  },
  {
   "cell_type": "code",
   "execution_count": 641,
   "source": [
    "vis_acq(raw_train_x, train_y, raw_test_grid, pred_labels, upper_surf, lower_surf, acqs)"
   ],
   "outputs": [
    {
     "output_type": "display_data",
     "data": {
      "application/vnd.plotly.v1+json": {
       "data": [
        {
         "colorbar": {
          "len": 0.5,
          "thickness": 15
         },
         "colorscale": [
          [
           0,
           "rgb(255, 198, 196)"
          ],
          [
           0.16666666666666666,
           "rgb(244, 163, 168)"
          ],
          [
           0.3333333333333333,
           "rgb(227, 129, 145)"
          ],
          [
           0.5,
           "rgb(204, 96, 125)"
          ],
          [
           0.6666666666666666,
           "rgb(173, 70, 108)"
          ],
          [
           0.8333333333333334,
           "rgb(139, 48, 88)"
          ],
          [
           1,
           "rgb(103, 32, 68)"
          ]
         ],
         "name": "GP regression",
         "opacity": 0.8,
         "x": [
          0.33928570710122585,
          0.5055418629199266,
          0.6717980187386274,
          0.8380541577935219,
          1.0043103471398354,
          1.1705665364861488,
          1.336822658777237,
          1.503078781068325,
          1.6693349033594131,
          1.8355910927057266,
          2.0018471479415894,
          2.168103337287903,
          2.3343595266342168,
          2.5006157159805302,
          2.6668719053268437,
          2.833128094673157,
          2.9993842840194707,
          3.165640473365784,
          3.3318966627120976,
          3.4981525838375096,
          3.664408773183823,
          3.8306649625301366,
          3.99692115187645,
          4.163177341222764,
          4.329433262348176,
          4.495689451694489,
          4.661945641040803,
          4.828201830387116,
          4.99445801973343,
          5.160714209079743
         ],
         "y": [
          2.276071443020234,
          2.745652702469288,
          3.215233961918342,
          3.684815174018958,
          4.154396528164888,
          4.623977882310818,
          5.093559047062996,
          5.563140211815174,
          6.032721376567352,
          6.502302730713282,
          6.971883706071708,
          7.441465060217638,
          7.911046414363568,
          8.380627768509498,
          8.850209122655428,
          9.319790476801359,
          9.789371830947289,
          10.258953185093219,
          10.72853453923915,
          11.19811513581007,
          11.667696489956,
          12.13727784410193,
          12.60685919824786,
          13.076440552393791,
          13.546021148964712,
          14.015602503110642,
          14.485183857256573,
          14.954765211402503,
          15.424346565548433,
          15.893927919694363
         ],
         "z": [
          [
           1.2569925785064697,
           1.1601977348327637,
           1.2602648735046387,
           1.4987846612930298,
           1.7718024253845215,
           2.0095503330230713,
           2.188486099243164,
           2.3119473457336426,
           2.3925769329071045,
           2.4433400630950928,
           2.4744763374328613,
           2.493192672729492,
           2.504254102706909,
           2.5106921195983887,
           2.514385938644409,
           2.5164756774902344,
           2.5176422595977783,
           2.518284559249878,
           2.5186338424682617,
           2.5188210010528564,
           2.5189201831817627,
           2.518972158432007,
           2.518998861312866,
           2.519012451171875,
           2.519019365310669,
           2.5190227031707764,
           2.51902437210083,
           2.5190250873565674,
           2.5190255641937256,
           2.5190255641937256
          ],
          [
           1.1288851499557495,
           0.9739484786987305,
           1.1156766414642334,
           1.4196836948394775,
           1.7276451587677002,
           1.976309061050415,
           2.158535957336426,
           2.285717725753784,
           2.3716907501220703,
           2.428220272064209,
           2.4643914699554443,
           2.486917495727539,
           2.500580072402954,
           2.5086588859558105,
           2.5133216381073,
           2.515951633453369,
           2.517402410507202,
           2.51818585395813,
           2.5186002254486084,
           2.5188148021698,
           2.518923759460449,
           2.518977642059326,
           2.5190038681030273,
           2.5190160274505615,
           2.51902174949646,
           2.519024133682251,
           2.5190253257751465,
           2.5190255641937256,
           2.5190258026123047,
           2.5190258026123047
          ],
          [
           2.344020366668701,
           2.343132257461548,
           2.2551748752593994,
           2.1525158882141113,
           2.109257936477661,
           2.1355953216552734,
           2.205514907836914,
           2.287600517272949,
           2.3611197471618652,
           2.417799949645996,
           2.4573910236358643,
           2.483126163482666,
           2.4989354610443115,
           2.5081984996795654,
           2.51340389251709,
           2.5162179470062256,
           2.5176830291748047,
           2.518416404724121,
           2.518768310546875,
           2.5189285278320312,
           2.5189967155456543,
           2.5190227031707764,
           2.519030809402466,
           2.5190317630767822,
           2.5190305709838867,
           2.519028902053833,
           2.5190277099609375,
           2.519026756286621,
           2.519026279449463,
           2.5190258026123047
          ],
          [
           2.136300563812256,
           2.0966081619262695,
           1.9916634559631348,
           1.8871420621871948,
           1.8661799430847168,
           1.9482589960098267,
           2.084357261657715,
           2.220714807510376,
           2.330509662628174,
           2.4080774784088135,
           2.45797061920166,
           2.4876933097839355,
           2.5042073726654053,
           2.5127615928649902,
           2.5168559551239014,
           2.5186219215393066,
           2.5192627906799316,
           2.5194103717803955,
           2.5193722248077393,
           2.519285202026367,
           2.519202470779419,
           2.519138813018799,
           2.519094705581665,
           2.519066333770752,
           2.5190484523773193,
           2.519037961959839,
           2.519031524658203,
           2.5190279483795166,
           2.519026041030884,
           2.5190248489379883
          ],
          [
           0.5474650859832764,
           0.31886792182922363,
           0.47772955894470215,
           0.881712794303894,
           1.3241589069366455,
           1.7105817794799805,
           2.014448881149292,
           2.2326858043670654,
           2.3753840923309326,
           2.4596121311187744,
           2.5036802291870117,
           2.5232129096984863,
           2.5295097827911377,
           2.5296735763549805,
           2.5276174545288086,
           2.525207281112671,
           2.5231664180755615,
           2.5216639041900635,
           2.520644426345825,
           2.519989490509033,
           2.519585132598877,
           2.5193426609039307,
           2.5192008018493652,
           2.5191190242767334,
           2.5190727710723877,
           2.5190470218658447,
           2.5190324783325195,
           2.5190248489379883,
           2.5190205574035645,
           2.5190186500549316
          ],
          [
           1.1991467475891113,
           1.1083931922912598,
           1.2291264533996582,
           1.4931387901306152,
           1.8144848346710205,
           2.1221749782562256,
           2.3696470260620117,
           2.5360264778137207,
           2.622494697570801,
           2.647637367248535,
           2.6369285583496094,
           2.611848831176758,
           2.585456371307373,
           2.5635228157043457,
           2.5474114418029785,
           2.536466121673584,
           2.5294251441955566,
           2.525075674057007,
           2.5224714279174805,
           2.5209505558013916,
           2.520080089569092,
           2.519589424133301,
           2.5193161964416504,
           2.519165277481079,
           2.5190820693969727,
           2.519036293029785,
           2.5190110206604004,
           2.5189976692199707,
           2.518990993499756,
           2.518988609313965
          ],
          [
           1.9701380729675293,
           1.9464797973632812,
           2.1160359382629395,
           2.357600212097168,
           2.5966100692749023,
           2.813603162765503,
           2.9807534217834473,
           3.0592150688171387,
           3.0328073501586914,
           2.9380669593811035,
           2.8261239528656006,
           2.727811574935913,
           2.653424024581909,
           2.6020336151123047,
           2.5686562061309814,
           2.5479278564453125,
           2.535486936569214,
           2.5282187461853027,
           2.524064064025879,
           2.521730661392212,
           2.5204379558563232,
           2.519727945327759,
           2.519338846206665,
           2.5191235542297363,
           2.5190024375915527,
           2.518932580947876,
           2.5188918113708496,
           2.518869161605835,
           2.518859386444092,
           2.518859386444092
          ],
          [
           2.876852512359619,
           3.0519704818725586,
           3.16611385345459,
           3.2750351428985596,
           3.385073184967041,
           3.4610023498535156,
           3.479480743408203,
           3.4181933403015137,
           3.2725861072540283,
           3.0876264572143555,
           2.914560079574585,
           2.777937889099121,
           2.680825710296631,
           2.6165032386779785,
           2.5760107040405273,
           2.551486015319824,
           2.537081480026245,
           2.5288314819335938,
           2.524202823638916,
           2.52164626121521,
           2.52024507522583,
           2.519472360610962,
           2.5190329551696777,
           2.5187675952911377,
           2.5185940265655518,
           2.5184733867645264,
           2.518389940261841,
           2.518338918685913,
           2.518320083618164,
           2.5183327198028564
          ],
          [
           3.4331769943237305,
           3.6995720863342285,
           3.9148097038269043,
           4.0531768798828125,
           4.068237781524658,
           3.92852783203125,
           3.688258171081543,
           3.42789888381958,
           3.191089391708374,
           2.993100166320801,
           2.838207960128784,
           2.7245991230010986,
           2.646088123321533,
           2.5945935249328613,
           2.562319040298462,
           2.5428874492645264,
           2.5316061973571777,
           2.5252685546875,
           2.521803379058838,
           2.5199313163757324,
           2.518894910812378,
           2.5182642936706543,
           2.5178089141845703,
           2.517418622970581,
           2.5170552730560303,
           2.516723394393921,
           2.5164504051208496,
           2.5162689685821533,
           2.5162065029144287,
           2.516273260116577
          ],
          [
           3.0684168338775635,
           3.2175285816192627,
           3.3652713298797607,
           3.4891395568847656,
           3.521838903427124,
           3.4023056030273438,
           3.2128219604492188,
           3.0305323600769043,
           2.8802762031555176,
           2.76401424407959,
           2.6774816513061523,
           2.6156113147735596,
           2.5735199451446533,
           2.546565294265747,
           2.5305099487304688,
           2.521764039993286,
           2.517536163330078,
           2.515831470489502,
           2.515336036682129,
           2.5152506828308105,
           2.5151288509368896,
           2.5147504806518555,
           2.5140390396118164,
           2.51301646232605,
           2.51178240776062,
           2.510498285293579,
           2.509364604949951,
           2.508582592010498,
           2.508305549621582,
           2.508596658706665
          ],
          [
           2.6456501483917236,
           2.6040914058685303,
           2.509917736053467,
           2.383558511734009,
           2.309199333190918,
           2.3538362979888916,
           2.447852611541748,
           2.5126423835754395,
           2.532655954360962,
           2.5228981971740723,
           2.501946210861206,
           2.4826459884643555,
           2.4710404872894287,
           2.468024253845215,
           2.471604108810425,
           2.478856086730957,
           2.4871678352355957,
           2.4947476387023926,
           2.500626564025879,
           2.5044283866882324,
           2.5061111450195312,
           2.5057857036590576,
           2.50364089012146,
           2.4999582767486572,
           2.495182514190674,
           2.4899816513061523,
           2.485229730606079,
           2.4818615913391113,
           2.480623960494995,
           2.481825828552246
          ],
          [
           2.6218743324279785,
           2.640838146209717,
           2.658878803253174,
           2.6744329929351807,
           2.6781628131866455,
           2.6581666469573975,
           2.6132760047912598,
           2.5459389686584473,
           2.4621267318725586,
           2.376753568649292,
           2.309154510498047,
           2.273408889770508,
           2.272184371948242,
           2.2977325916290283,
           2.3376195430755615,
           2.380413770675659,
           2.418553113937378,
           2.4484825134277344,
           2.469438076019287,
           2.4820451736450195,
           2.4872984886169434,
           2.486030340194702,
           2.4788150787353516,
           2.4662091732025146,
           2.449230432510376,
           2.4298858642578125,
           2.4114158153533936,
           2.3978383541107178,
           2.39267635345459,
           2.3974318504333496
          ],
          [
           2.7625913619995117,
           2.8889894485473633,
           3.04829478263855,
           3.208685874938965,
           3.300372838973999,
           3.2575857639312744,
           3.080627918243408,
           2.7980685234069824,
           2.4519035816192627,
           2.1122844219207764,
           1.8619632720947266,
           1.7529332637786865,
           1.7790756225585938,
           1.8917925357818604,
           2.0358099937438965,
           2.172276735305786,
           2.2826008796691895,
           2.36253023147583,
           2.414957284927368,
           2.444807529449463,
           2.456296920776367,
           2.4518747329711914,
           2.4322423934936523,
           2.3971877098083496,
           2.3472695350646973,
           2.286301374435425,
           2.223787784576416,
           2.174954652786255,
           2.155585765838623,
           2.1729705333709717
          ],
          [
           2.8392269611358643,
           3.01180362701416,
           3.237210512161255,
           3.4952566623687744,
           3.732896566390991,
           3.8583896160125732,
           3.746896743774414,
           3.2867491245269775,
           2.4922101497650146,
           1.585891604423523,
           0.9095267057418823,
           0.6801581382751465,
           0.8367130756378174,
           1.1807210445404053,
           1.5501724481582642,
           1.8627119064331055,
           2.094533681869507,
           2.2514419555664062,
           2.349003791809082,
           2.4023141860961914,
           2.4219367504119873,
           2.412949562072754,
           2.375389575958252,
           2.305652141571045,
           2.1994705200195312,
           2.0578486919403076,
           1.8968331813812256,
           1.7572405338287354,
           1.6975443363189697,
           1.7506358623504639
          ],
          [
           2.855192184448242,
           3.0549986362457275,
           3.3435020446777344,
           3.7307591438293457,
           4.192216873168945,
           4.622325897216797,
           4.773707866668701,
           4.269806861877441,
           2.9557693004608154,
           1.3196327686309814,
           0.10635876655578613,
           -0.2574188709259033,
           0.04553818702697754,
           0.6194872856140137,
           1.1927318572998047,
           1.6506990194320679,
           1.974602460861206,
           2.185460329055786,
           2.31270170211792,
           2.3809804916381836,
           2.406395673751831,
           2.3964762687683105,
           2.3513197898864746,
           2.2653021812438965,
           2.130260705947876,
           1.9423627853393555,
           1.7156447172164917,
           1.5023561716079712,
           1.402661919593811,
           1.491421103477478
          ],
          [
           2.8016228675842285,
           2.9731316566467285,
           3.2233572006225586,
           3.560696601867676,
           3.958949565887451,
           4.315669059753418,
           4.410792350769043,
           3.9527077674865723,
           2.8445382118225098,
           1.4437963962554932,
           0.3930039405822754,
           0.11897826194763184,
           0.42157673835754395,
           0.9277968406677246,
           1.4133024215698242,
           1.7945022583007812,
           2.0627527236938477,
           2.2377171516418457,
           2.3439574241638184,
           2.4016706943511963,
           2.4242215156555176,
           2.418395519256592,
           2.385608196258545,
           2.3237485885620117,
           2.2302780151367188,
           2.107673168182373,
           1.9714335203170776,
           1.8563790321350098,
           1.8081943988800049,
           1.851097822189331
          ],
          [
           2.699237823486328,
           2.8000075817108154,
           2.9391632080078125,
           3.1141226291656494,
           3.304077386856079,
           3.4615771770477295,
           3.5183539390563965,
           3.420379161834717,
           3.177619695663452,
           2.8645033836364746,
           2.54720401763916,
           2.270101547241211,
           2.1037168502807617,
           2.071302890777588,
           2.128538131713867,
           2.2193069458007812,
           2.307035446166992,
           2.3760337829589844,
           2.4232680797576904,
           2.4509661197662354,
           2.4623048305511475,
           2.459545373916626,
           2.4436774253845215,
           2.415022850036621,
           2.374596118927002,
           2.3259987831115723,
           2.277045965194702,
           2.239406108856201,
           2.2246334552764893,
           2.237940549850464
          ],
          [
           2.6108386516571045,
           2.6565089225769043,
           2.7162187099456787,
           2.7877719402313232,
           2.8641648292541504,
           2.9338858127593994,
           2.9849817752838135,
           3.012284517288208,
           3.0211310386657715,
           3.015244245529175,
           2.961557626724243,
           2.8214433193206787,
           2.6695563793182373,
           2.562800884246826,
           2.5055811405181885,
           2.4833498001098633,
           2.480278968811035,
           2.485060691833496,
           2.4911739826202393,
           2.495421886444092,
           2.496438980102539,
           2.493699789047241,
           2.4870526790618896,
           2.476666212081909,
           2.4632420539855957,
           2.448298931121826,
           2.4342589378356934,
           2.424050807952881,
           2.4201900959014893,
           2.423736333847046
          ],
          [
           2.5628206729888916,
           2.5838801860809326,
           2.611855983734131,
           2.646841049194336,
           2.687105417251587,
           2.7274513244628906,
           2.756624221801758,
           2.7550220489501953,
           2.7000279426574707,
           2.5960233211517334,
           2.5200536251068115,
           2.544904947280884,
           2.6039257049560547,
           2.627878189086914,
           2.6160342693328857,
           2.5896975994110107,
           2.5639636516571045,
           2.5444881916046143,
           2.5314717292785645,
           2.523162364959717,
           2.5176315307617188,
           2.5133883953094482,
           2.5094757080078125,
           2.50541090965271,
           2.501114845275879,
           2.4968478679656982,
           2.493117332458496,
           2.4905242919921875,
           2.489560842514038,
           2.490424633026123
          ],
          [
           2.544163942337036,
           2.55889892578125,
           2.5818841457366943,
           2.617673397064209,
           2.6732285022735596,
           2.758737564086914,
           2.8876211643218994,
           3.072920083999634,
           3.3127405643463135,
           3.5543789863586426,
           3.662158489227295,
           3.5363266468048096,
           3.282078742980957,
           3.035043716430664,
           2.8469462394714355,
           2.7188947200775146,
           2.636932611465454,
           2.5865468978881836,
           2.556471824645996,
           2.5388779640197754,
           2.528653383255005,
           2.522610664367676,
           2.5188446044921875,
           2.5162763595581055,
           2.514348268508911,
           2.5128254890441895,
           2.5116634368896484,
           2.5109074115753174,
           2.510615587234497,
           2.510805368423462
          ],
          [
           2.536212682723999,
           2.548043727874756,
           2.5677483081817627,
           2.600067615509033,
           2.651757001876831,
           2.7311792373657227,
           2.8458027839660645,
           2.995685338973999,
           3.1625289916992188,
           3.3015613555908203,
           3.35526967048645,
           3.295980215072632,
           3.1529054641723633,
           2.9839835166931152,
           2.833592653274536,
           2.7194957733154297,
           2.641223430633545,
           2.591005563735962,
           2.560245990753174,
           2.5420072078704834,
           2.5314178466796875,
           2.5253169536590576,
           2.521758556365967,
           2.51959490776062,
           2.5181832313537598,
           2.517195224761963,
           2.516493797302246,
           2.5160465240478516,
           2.5158591270446777,
           2.5159268379211426
          ],
          [
           2.5298824310302734,
           2.537360668182373,
           2.5494799613952637,
           2.5684943199157715,
           2.597046375274658,
           2.6374495029449463,
           2.6901743412017822,
           2.7516422271728516,
           2.81241774559021,
           2.8581128120422363,
           2.874781608581543,
           2.856639862060547,
           2.809805393218994,
           2.7483880519866943,
           2.6867504119873047,
           2.634201765060425,
           2.5941884517669678,
           2.566136360168457,
           2.5476605892181396,
           2.5360639095306396,
           2.529043674468994,
           2.5248770713806152,
           2.522367238998413,
           2.520724058151245,
           2.5194621086120605,
           2.5183446407318115,
           2.5173487663269043,
           2.5166077613830566,
           2.5162947177886963,
           2.516482353210449
          ],
          [
           2.52470326423645,
           2.528308868408203,
           2.533839464187622,
           2.5419740676879883,
           2.5533270835876465,
           2.56815505027771,
           2.5859482288360596,
           2.6050479412078857,
           2.622587203979492,
           2.6350536346435547,
           2.639479637145996,
           2.634718179702759,
           2.6219918727874756,
           2.6043195724487305,
           2.5852324962615967,
           2.567596435546875,
           2.5530648231506348,
           2.5421512126922607,
           2.5346126556396484,
           2.5298502445220947,
           2.52717924118042,
           2.5259485244750977,
           2.525557518005371,
           2.525432825088501,
           2.5250473022460938,
           2.5240416526794434,
           2.5224506855010986,
           2.5208539962768555,
           2.5201220512390137,
           2.52070689201355
          ],
          [
           2.521503448486328,
           2.52291202545166,
           2.5249526500701904,
           2.527775526046753,
           2.531470775604248,
           2.535994291305542,
           2.5410919189453125,
           2.546259641647339,
           2.5507848262786865,
           2.5538980960845947,
           2.555000066757202,
           2.5538735389709473,
           2.550769567489624,
           2.54632306098938,
           2.5413455963134766,
           2.536606788635254,
           2.5326976776123047,
           2.530001401901245,
           2.5287461280822754,
           2.529080629348755,
           2.5311200618743896,
           2.534924030303955,
           2.540379285812378,
           2.5470049381256104,
           2.5537712574005127,
           2.559154748916626,
           2.561768054962158,
           2.5616374015808105,
           2.5609514713287354,
           2.5615406036376953
          ],
          [
           2.519960403442383,
           2.520433187484741,
           2.521083354949951,
           2.5219366550445557,
           2.5229969024658203,
           2.52423095703125,
           2.525559186935425,
           2.526853561401367,
           2.5279550552368164,
           2.5287063121795654,
           2.5289955139160156,
           2.5287930965423584,
           2.5281710624694824,
           2.527296781539917,
           2.526411294937134,
           2.525810718536377,
           2.525847911834717,
           2.5269668102264404,
           2.5297696590423584,
           2.535102605819702,
           2.54412579536438,
           2.558300018310547,
           2.579171657562256,
           2.6077961921691895,
           2.643695116043091,
           2.6835763454437256,
           2.720757246017456,
           2.7469265460968018,
           2.7564384937286377,
           2.748094081878662
          ],
          [
           2.519340991973877,
           2.5194830894470215,
           2.519670248031616,
           2.5199053287506104,
           2.520185708999634,
           2.5205001831054688,
           2.5208282470703125,
           2.521141529083252,
           2.521409034729004,
           2.52160382270813,
           2.521714687347412,
           2.5217549800872803,
           2.52177357673645,
           2.5218682289123535,
           2.522202491760254,
           2.523042917251587,
           2.5248217582702637,
           2.528245449066162,
           2.534464120864868,
           2.545314073562622,
           2.5636229515075684,
           2.593506336212158,
           2.640446662902832,
           2.710678815841675,
           2.8090174198150635,
           2.9340500831604004,
           3.0706214904785156,
           3.184479236602783,
           3.2318437099456787,
           3.1901450157165527
          ],
          [
           2.5191233158111572,
           2.519162893295288,
           2.5192131996154785,
           2.5192742347717285,
           2.5193448066711426,
           2.5194225311279297,
           2.519503355026245,
           2.519582748413086,
           2.519657611846924,
           2.5197293758392334,
           2.519808053970337,
           2.5199196338653564,
           2.5201172828674316,
           2.5204994678497314,
           2.52124285697937,
           2.5226595401763916,
           2.5252931118011475,
           2.530078649520874,
           2.538594961166382,
           2.553438425064087,
           2.5787370204925537,
           2.6207494735717773,
           2.6883411407470703,
           2.7927844524383545,
           2.945690393447876,
           3.1529440879821777,
           3.401397705078125,
           3.6364543437957764,
           3.7469797134399414,
           3.6491713523864746
          ],
          [
           2.5190541744232178,
           2.5190646648406982,
           2.5190775394439697,
           2.5190930366516113,
           2.519110918045044,
           2.5191309452056885,
           2.519153356552124,
           2.519178867340088,
           2.5192103385925293,
           2.519254684448242,
           2.519326686859131,
           2.5194549560546875,
           2.519693613052368,
           2.520141839981079,
           2.5209786891937256,
           2.522524118423462,
           2.5253379344940186,
           2.530383348464966,
           2.539276123046875,
           2.5546436309814453,
           2.580578088760376,
           2.623079299926758,
           2.690162420272827,
           2.790889263153076,
           2.931990623474121,
           3.110398769378662,
           3.301727533340454,
           3.4535372257232666,
           3.510854959487915,
           3.460700273513794
          ],
          [
           2.519033670425415,
           2.5190365314483643,
           2.5190398693084717,
           2.5190439224243164,
           2.5190489292144775,
           2.5190553665161133,
           2.519063949584961,
           2.519076347351074,
           2.5190963745117188,
           2.5191311836242676,
           2.5191946029663086,
           2.5193121433258057,
           2.519531488418579,
           2.519939661026001,
           2.520691394805908,
           2.5220627784729004,
           2.5245320796966553,
           2.5289154052734375,
           2.536566734313965,
           2.5496633052825928,
           2.571556329727173,
           2.6071133613586426,
           2.6628212928771973,
           2.7461798191070557,
           2.8635833263397217,
           3.015697956085205,
           3.189486503601074,
           3.347357749938965,
           3.420534372329712,
           3.3557779788970947
          ],
          [
           2.5190279483795166,
           2.519028663635254,
           2.5190296173095703,
           2.519031047821045,
           2.5190329551696777,
           2.519035816192627,
           2.519040584564209,
           2.5190484523773193,
           2.5190629959106445,
           2.519089698791504,
           2.519139289855957,
           2.5192315578460693,
           2.519402503967285,
           2.519716739654541,
           2.5202889442443848,
           2.521319627761841,
           2.523153066635132,
           2.526367664337158,
           2.5319111347198486,
           2.5412869453430176,
           2.5567843914031982,
           2.581697940826416,
           2.6203901767730713,
           2.677870988845825,
           2.7582690715789795,
           2.8612751960754395,
           2.975890874862671,
           3.074079751968384,
           3.1158950328826904,
           3.0790481567382812
          ]
         ],
         "type": "surface"
        },
        {
         "colorscale": [
          [
           0,
           "rgb(255, 198, 196)"
          ],
          [
           0.16666666666666666,
           "rgb(244, 163, 168)"
          ],
          [
           0.3333333333333333,
           "rgb(227, 129, 145)"
          ],
          [
           0.5,
           "rgb(204, 96, 125)"
          ],
          [
           0.6666666666666666,
           "rgb(173, 70, 108)"
          ],
          [
           0.8333333333333334,
           "rgb(139, 48, 88)"
          ],
          [
           1,
           "rgb(103, 32, 68)"
          ]
         ],
         "opacity": 0.2,
         "showscale": false,
         "x": [
          0.33928570710122585,
          0.5055418629199266,
          0.6717980187386274,
          0.8380541577935219,
          1.0043103471398354,
          1.1705665364861488,
          1.336822658777237,
          1.503078781068325,
          1.6693349033594131,
          1.8355910927057266,
          2.0018471479415894,
          2.168103337287903,
          2.3343595266342168,
          2.5006157159805302,
          2.6668719053268437,
          2.833128094673157,
          2.9993842840194707,
          3.165640473365784,
          3.3318966627120976,
          3.4981525838375096,
          3.664408773183823,
          3.8306649625301366,
          3.99692115187645,
          4.163177341222764,
          4.329433262348176,
          4.495689451694489,
          4.661945641040803,
          4.828201830387116,
          4.99445801973343,
          5.160714209079743
         ],
         "y": [
          2.276071443020234,
          2.745652702469288,
          3.215233961918342,
          3.684815174018958,
          4.154396528164888,
          4.623977882310818,
          5.093559047062996,
          5.563140211815174,
          6.032721376567352,
          6.502302730713282,
          6.971883706071708,
          7.441465060217638,
          7.911046414363568,
          8.380627768509498,
          8.850209122655428,
          9.319790476801359,
          9.789371830947289,
          10.258953185093219,
          10.72853453923915,
          11.19811513581007,
          11.667696489956,
          12.13727784410193,
          12.60685919824786,
          13.076440552393791,
          13.546021148964712,
          14.015602503110642,
          14.485183857256573,
          14.954765211402503,
          15.424346565548433,
          15.893927919694363
         ],
         "z": [
          [
           4.049128532409668,
           3.8024368286132812,
           4.069498062133789,
           4.62233304977417,
           5.1542744636535645,
           5.546533584594727,
           5.802834510803223,
           5.961165428161621,
           6.056604862213135,
           6.113486289978027,
           6.147121429443359,
           6.166849613189697,
           6.178314208984375,
           6.184908866882324,
           6.188661575317383,
           6.190773010253906,
           6.1919474601745605,
           6.192592620849609,
           6.1929426193237305,
           6.193130016326904,
           6.1932291984558105,
           6.193281173706055,
           6.193307876586914,
           6.193321228027344,
           6.193328380584717,
           6.193331718444824,
           6.193333625793457,
           6.193334102630615,
           6.193334579467773,
           6.193334579467773
          ],
          [
           2.773324489593506,
           1.862638235092163,
           2.8269920349121094,
           4.020359992980957,
           4.860145568847656,
           5.383008003234863,
           5.700078010559082,
           5.894562721252441,
           6.0147833824157715,
           6.088426113128662,
           6.13270902633667,
           6.158829689025879,
           6.173980712890625,
           6.1826395988464355,
           6.187516689300537,
           6.19022274017334,
           6.191699028015137,
           6.192491054534912,
           6.19290828704834,
           6.193123817443848,
           6.193232536315918,
           6.193286895751953,
           6.193312644958496,
           6.193325042724609,
           6.193330764770508,
           6.193333148956299,
           6.193334579467773,
           6.193334579467773,
           6.193334579467773,
           6.193334579467773
          ],
          [
           4.105460166931152,
           3.596416711807251,
           4.045437812805176,
           4.557331562042236,
           4.879800796508789,
           5.16919469833374,
           5.474529266357422,
           5.739686965942383,
           5.928041458129883,
           6.045269966125488,
           6.112873077392578,
           6.1503400802612305,
           6.170701026916504,
           6.1816301345825195,
           6.1874189376831055,
           6.190430641174316,
           6.19196081161499,
           6.192715644836426,
           6.1930742263793945,
           6.193236351013184,
           6.193305492401123,
           6.193331718444824,
           6.193339824676514,
           6.19334077835083,
           6.1933393478393555,
           6.193337917327881,
           6.193336486816406,
           6.19333553314209,
           6.19333553314209,
           6.193334579467773
          ],
          [
           4.292197227478027,
           3.853431224822998,
           3.703972578048706,
           3.3378748893737793,
           2.994511604309082,
           3.747933864593506,
           4.7167558670043945,
           5.390974044799805,
           5.783490180969238,
           5.9921064376831055,
           6.097413539886475,
           6.14903450012207,
           6.173806190490723,
           6.1853837966918945,
           6.1905670166015625,
           6.192721366882324,
           6.1934990882873535,
           6.193694591522217,
           6.193673133850098,
           6.193591594696045,
           6.193511009216309,
           6.193447589874268,
           6.193403720855713,
           6.193375587463379,
           6.193357467651367,
           6.193346977233887,
           6.193340301513672,
           6.1933369636535645,
           6.193335056304932,
           6.193333625793457
          ],
          [
           2.820160388946533,
           2.24570631980896,
           2.4690585136413574,
           2.9835567474365234,
           3.5174150466918945,
           4.221242904663086,
           4.9544806480407715,
           5.506170272827148,
           5.847699165344238,
           6.036190986633301,
           6.131938934326172,
           6.1764726638793945,
           6.194578170776367,
           6.200114727020264,
           6.200386047363281,
           6.198931694030762,
           6.197263717651367,
           6.19589900970459,
           6.1949286460876465,
           6.194290637969971,
           6.193891525268555,
           6.19365119934082,
           6.193509578704834,
           6.193428039550781,
           6.1933817863464355,
           6.193356037139893,
           6.193341255187988,
           6.193333625793457,
           6.193329811096191,
           6.193327903747559
          ],
          [
           2.815760612487793,
           1.9976563453674316,
           2.8895797729492188,
           3.9725234508514404,
           4.739961624145508,
           5.232232570648193,
           5.545151233673096,
           5.76462459564209,
           5.942960739135742,
           6.0841965675354,
           6.175084114074707,
           6.217989921569824,
           6.229156494140625,
           6.22524356842041,
           6.2168989181518555,
           6.209033012390137,
           6.203134536743164,
           6.199186325073242,
           6.196717262268066,
           6.195240020751953,
           6.194383144378662,
           6.193896770477295,
           6.193624496459961,
           6.193474292755127,
           6.193390846252441,
           6.193345069885254,
           6.193320274353027,
           6.193306922912598,
           6.193300247192383,
           6.193297386169434
          ],
          [
           3.5910701751708984,
           2.8421783447265625,
           3.7808427810668945,
           4.820510387420654,
           5.386260032653809,
           5.47430419921875,
           5.199983596801758,
           4.9910807609558105,
           5.315540790557861,
           5.7906813621521,
           6.091407299041748,
           6.220594882965088,
           6.253958702087402,
           6.248414039611816,
           6.232989311218262,
           6.218839645385742,
           6.208683967590332,
           6.202176094055176,
           6.198265075683594,
           6.196007251739502,
           6.194737434387207,
           6.194034576416016,
           6.193647384643555,
           6.193432331085205,
           6.19331169128418,
           6.193241596221924,
           6.193201065063477,
           6.193178176879883,
           6.193168640136719,
           6.193168640136719
          ],
          [
           4.837015628814697,
           4.503602027893066,
           5.079391956329346,
           5.77146053314209,
           6.089868545532227,
           5.958266258239746,
           5.440019607543945,
           5.024724006652832,
           5.3568878173828125,
           5.8552961349487305,
           6.146725177764893,
           6.258520126342773,
           6.2770915031433105,
           6.2614593505859375,
           6.2398881912231445,
           6.222257614135742,
           6.210236549377441,
           6.202775955200195,
           6.198400020599365,
           6.195921897888184,
           6.194543838500977,
           6.1937785148620605,
           6.193341255187988,
           6.193076133728027,
           6.192902565002441,
           6.192781925201416,
           6.1926984786987305,
           6.192647457122803,
           6.192628860473633,
           6.192641258239746
          ],
          [
           6.5173492431640625,
           6.552112102508545,
           6.524760723114014,
           6.390802383422852,
           6.271770477294922,
           6.319908142089844,
           6.3932719230651855,
           6.395451068878174,
           6.3752121925354,
           6.3622026443481445,
           6.345426559448242,
           6.317682266235352,
           6.284684181213379,
           6.254446983337402,
           6.231159210205078,
           6.215238571166992,
           6.205245494842529,
           6.199357032775879,
           6.196042060852051,
           6.194218158721924,
           6.1931962966918945,
           6.192570209503174,
           6.192115306854248,
           6.1917243003845215,
           6.191359519958496,
           6.191025733947754,
           6.190750598907471,
           6.190567970275879,
           6.190505027770996,
           6.1905717849731445
          ],
          [
           6.462238788604736,
           6.317625045776367,
           5.903568267822266,
           5.109425067901611,
           4.3768792152404785,
           5.079712867736816,
           5.797321319580078,
           6.164838790893555,
           6.298915863037109,
           6.319065093994141,
           6.296555042266846,
           6.264786720275879,
           6.236754894256592,
           6.216188430786133,
           6.202915668487549,
           6.1953277587890625,
           6.191561698913574,
           6.190034866333008,
           6.189605712890625,
           6.1895432472229,
           6.189427375793457,
           6.1890459060668945,
           6.188323974609375,
           6.187284469604492,
           6.186026573181152,
           6.1847124099731445,
           6.183548927307129,
           6.182744026184082,
           6.18245792388916,
           6.182757377624512
          ],
          [
           6.099590301513672,
           5.789894104003906,
           5.195885181427002,
           4.324179172515869,
           3.7590365409851074,
           4.335870265960693,
           5.1671833992004395,
           5.717679977416992,
           5.995739459991455,
           6.107267379760742,
           6.138643264770508,
           6.140783309936523,
           6.137932777404785,
           6.13870096206665,
           6.144078254699707,
           6.152248382568359,
           6.161036014556885,
           6.168853759765625,
           6.174841403961182,
           6.17868185043335,
           6.180358409881592,
           6.179982662200928,
           6.177727699279785,
           6.173849105834961,
           6.168771743774414,
           6.163175582885742,
           6.157998085021973,
           6.154290199279785,
           6.152916431427002,
           6.154237747192383
          ],
          [
           6.086592674255371,
           5.857385158538818,
           5.444271564483643,
           4.897773265838623,
           4.596664905548096,
           4.912017345428467,
           5.424449920654297,
           5.770464897155762,
           5.917006015777588,
           5.940060615539551,
           5.919123649597168,
           5.905285358428955,
           5.917879104614258,
           5.953980445861816,
           6.0016188621521,
           6.04941463470459,
           6.090371131896973,
           6.121703624725342,
           6.143273830413818,
           6.156078338623047,
           6.161259651184082,
           6.1596150398254395,
           6.15151834487915,
           6.137176036834717,
           6.117218017578125,
           6.093532562255859,
           6.06995964050293,
           6.052020072937012,
           6.045042037963867,
           6.051396369934082
          ],
          [
           6.226371765136719,
           6.079991340637207,
           5.718321800231934,
           5.076960563659668,
           4.60239839553833,
           5.14054012298584,
           5.721688270568848,
           5.8975067138671875,
           5.7522735595703125,
           5.470562934875488,
           5.239392280578613,
           5.174134254455566,
           5.2723708152771,
           5.4572319984436035,
           5.653509616851807,
           5.820394515991211,
           5.945860385894775,
           6.032478332519531,
           6.087538719177246,
           6.1181488037109375,
           6.129255294799805,
           6.122996807098389,
           6.09864616394043,
           6.053067207336426,
           5.982425689697266,
           5.886618614196777,
           5.777120590209961,
           5.683311462402344,
           5.643921852111816,
           5.678967475891113
          ],
          [
           6.4148783683776855,
           6.481390953063965,
           6.539011001586914,
           6.593754768371582,
           6.665496826171875,
           6.7132978439331055,
           6.582185745239258,
           6.09755277633667,
           5.183782577514648,
           4.007571697235107,
           3.145897388458252,
           3.1587250232696533,
           3.7690412998199463,
           4.472365379333496,
           5.0500640869140625,
           5.464512348175049,
           5.740797519683838,
           5.915453910827637,
           6.019474983215332,
           6.074513912200928,
           6.093057632446289,
           6.079006195068359,
           6.0272674560546875,
           5.922006607055664,
           5.7349853515625,
           5.430716514587402,
           4.996438980102539,
           4.52311897277832,
           4.284156799316406,
           4.496526718139648
          ],
          [
           6.4988861083984375,
           6.663089752197266,
           6.8793230056762695,
           7.12062931060791,
           7.293328285217285,
           7.197555065155029,
           6.57478666305542,
           5.529695510864258,
           4.418839931488037,
           2.7050509452819824,
           1.176528811454773,
           1.4450490474700928,
           2.5976927280426025,
           3.7395212650299072,
           4.619837760925293,
           5.223522186279297,
           5.610004425048828,
           5.845599174499512,
           5.981795310974121,
           6.052505016326904,
           6.076549530029297,
           6.059810161590576,
           5.994878768920898,
           5.857059478759766,
           5.596670627593994,
           5.132192611694336,
           4.362514495849609,
           3.2563796043395996,
           2.362699031829834,
           3.176330089569092
          ],
          [
           6.463177680969238,
           6.614896297454834,
           6.817275047302246,
           7.046733856201172,
           7.226510047912598,
           7.208249092102051,
           6.820784091949463,
           6.012239456176758,
           4.735108375549316,
           2.8945796489715576,
           1.3275606632232666,
           1.7822736501693726,
           2.976412773132324,
           4.0529093742370605,
           4.842322826385498,
           5.367519378662109,
           5.697922706604004,
           5.897673606872559,
           6.013040542602539,
           6.07350492477417,
           6.095552444458008,
           6.085550308227539,
           6.040921688079834,
           5.94993257522583,
           5.791994571685791,
           5.544591426849365,
           5.209742546081543,
           4.868821144104004,
           4.706845283508301,
           4.850589752197266
          ],
          [
           6.368622779846191,
           6.4618635177612305,
           6.583908557891846,
           6.723580837249756,
           6.848694324493408,
           6.900252819061279,
           6.795400619506836,
           6.439894676208496,
           5.758630752563477,
           4.799647331237793,
           4.058342456817627,
           4.231395721435547,
           4.773318290710449,
           5.241665363311768,
           5.5755743980407715,
           5.799309730529785,
           5.944793701171875,
           6.036932945251465,
           6.092799186706543,
           6.123387336730957,
           6.135209083557129,
           6.131329536437988,
           6.1121015548706055,
           6.07601261138916,
           6.0213623046875,
           5.949652671813965,
           5.870602607727051,
           5.80502462387085,
           5.778048515319824,
           5.8021135330200195
          ],
          [
           6.283655166625977,
           6.3270721435546875,
           6.381468772888184,
           6.440825939178467,
           6.489560604095459,
           6.496831893920898,
           6.409173965454102,
           6.142801761627197,
           5.586008548736572,
           4.662408828735352,
           3.842386245727539,
           4.493817329406738,
           5.257787704467773,
           5.715323448181152,
           5.9506731033325195,
           6.064160346984863,
           6.118778228759766,
           6.146363258361816,
           6.160946369171143,
           6.168147087097168,
           6.170059680938721,
           6.16737174987793,
           6.160238742828369,
           6.1487627029418945,
           6.133477687835693,
           6.115880012512207,
           6.098786354064941,
           6.086010932922363,
           6.08109188079834,
           6.085569381713867
          ],
          [
           6.236508369445801,
           6.256418228149414,
           6.281176567077637,
           6.307348251342773,
           6.324302673339844,
           6.3061065673828125,
           6.198277950286865,
           5.904273986816406,
           5.297704696655273,
           4.345616340637207,
           3.6476895809173584,
           4.315185546875,
           5.217757225036621,
           5.786946773529053,
           6.063295364379883,
           6.171592712402344,
           6.203076362609863,
           6.206116676330566,
           6.201415538787842,
           6.196015357971191,
           6.191446304321289,
           6.187482833862305,
           6.183598041534424,
           6.179441928863525,
           6.1749725341796875,
           6.170473098754883,
           6.166495323181152,
           6.1637067794799805,
           6.162665367126465,
           6.16359806060791
          ],
          [
           6.218067169189453,
           6.231956481933594,
           6.252429962158203,
           6.281040191650391,
           6.3170342445373535,
           6.352368354797363,
           6.3618574142456055,
           6.288727760314941,
           6.036900520324707,
           5.5334272384643555,
           5.134340286254883,
           5.533020496368408,
           6.020267486572266,
           6.258829593658447,
           6.325098991394043,
           6.314286231994629,
           6.281491279602051,
           6.250229835510254,
           6.2271504402160645,
           6.211987495422363,
           6.202568054199219,
           6.196771621704102,
           6.193059921264648,
           6.19047212600708,
           6.188488006591797,
           6.1868896484375,
           6.1856489181518555,
           6.184831619262695,
           6.184515953063965,
           6.184726715087891
          ],
          [
           6.210290908813477,
           6.221650123596191,
           6.239991188049316,
           6.268560409545898,
           6.310555458068848,
           6.366823196411133,
           6.431626319885254,
           6.488638401031494,
           6.515458106994629,
           6.506631374359131,
           6.493886947631836,
           6.503816604614258,
           6.509292125701904,
           6.479554176330566,
           6.420938491821289,
           6.355889320373535,
           6.300349235534668,
           6.259627342224121,
           6.232527256011963,
           6.215599060058594,
           6.2054219245910645,
           6.199369430541992,
           6.195653915405273,
           6.193137168884277,
           6.1911492347717285,
           6.1893815994262695,
           6.187823295593262,
           6.186679840087891,
           6.186210632324219,
           6.186526298522949
          ],
          [
           6.204104423522949,
           6.211420059204102,
           6.223105430603027,
           6.241032600402832,
           6.26706600189209,
           6.302179336547852,
           6.3451104164123535,
           6.391197681427002,
           6.4326887130737305,
           6.461225986480713,
           6.470979690551758,
           6.460050582885742,
           6.430511474609375,
           6.388341903686523,
           6.341963768005371,
           6.2990899085998535,
           6.264281272888184,
           6.238690376281738,
           6.2212419509887695,
           6.209963798522949,
           6.202827453613281,
           6.198054313659668,
           6.194085597991943,
           6.18947172164917,
           6.182929039001465,
           6.173842906951904,
           6.163177013397217,
           6.153964996337891,
           6.150075912475586,
           6.153412818908691
          ],
          [
           6.198990821838379,
           6.2025604248046875,
           6.208004951477051,
           6.215946197509766,
           6.226901054382324,
           6.240991592407227,
           6.257587432861328,
           6.275030136108398,
           6.290718078613281,
           6.301675796508789,
           6.305522918701172,
           6.301365852355957,
           6.290162086486816,
           6.274342060089111,
           6.256901741027832,
           6.240448951721191,
           6.226632595062256,
           6.216072082519531,
           6.208601951599121,
           6.203563690185547,
           6.199908256530762,
           6.195959568023682,
           6.188735008239746,
           6.172910690307617,
           6.1403093338012695,
           6.0825018882751465,
           6.000283241271973,
           5.917742729187012,
           5.879853248596191,
           5.913250923156738
          ],
          [
           6.195808410644531,
           6.197211742401123,
           6.199240684509277,
           6.2020392417907715,
           6.205689430236816,
           6.210138320922852,
           6.215126991271973,
           6.220156669616699,
           6.224538803100586,
           6.227542400360107,
           6.228603363037109,
           6.227519512176514,
           6.224526405334473,
           6.220222473144531,
           6.215380668640137,
           6.2107439041137695,
           6.206886291503906,
           6.204161167144775,
           6.202696800231934,
           6.202319145202637,
           6.202198028564453,
           6.199790000915527,
           6.188335418701172,
           6.1518683433532715,
           6.05756950378418,
           5.850269317626953,
           5.469638824462891,
           4.947178840637207,
           4.629281997680664,
           4.913280487060547
          ],
          [
           6.194269180297852,
           6.194741249084473,
           6.195389747619629,
           6.1962409019470215,
           6.197297096252441,
           6.198525428771973,
           6.199845314025879,
           6.201129913330078,
           6.202221870422363,
           6.20296573638916,
           6.203252792358398,
           6.203052520751953,
           6.202437400817871,
           6.201572418212891,
           6.2006940841674805,
           6.200093746185303,
           6.20011043548584,
           6.201145648956299,
           6.203672885894775,
           6.208148956298828,
           6.21461296081543,
           6.221473693847656,
           6.222488880157471,
           6.200464725494385,
           6.116694927215576,
           5.899657249450684,
           5.452061653137207,
           4.745161056518555,
           4.224801063537598,
           4.694234371185303
          ],
          [
           6.193650245666504,
           6.193792343139648,
           6.193979263305664,
           6.1942138671875,
           6.194494247436523,
           6.194808006286621,
           6.195135593414307,
           6.195448398590088,
           6.195714950561523,
           6.19590950012207,
           6.196020126342773,
           6.196060657501221,
           6.196079254150391,
           6.196174144744873,
           6.196506500244141,
           6.197339057922363,
           6.199091911315918,
           6.20242977142334,
           6.208381175994873,
           6.2184247970581055,
           6.234400749206543,
           6.2578630447387695,
           6.288175582885742,
           6.318524360656738,
           6.330142974853516,
           6.289798736572266,
           6.16595458984375,
           5.984564781188965,
           5.882733345031738,
           5.973275184631348
          ],
          [
           6.193432331085205,
           6.193471908569336,
           6.1935224533081055,
           6.1935834884643555,
           6.1936540603637695,
           6.193731307983398,
           6.193812370300293,
           6.193891525268555,
           6.193966865539551,
           6.194038391113281,
           6.194116592407227,
           6.194228172302246,
           6.194425582885742,
           6.194807052612305,
           6.195548057556152,
           6.196956634521484,
           6.199562072753906,
           6.204256057739258,
           6.212485313415527,
           6.226449489593506,
           6.249151229858398,
           6.2838029861450195,
           6.331537246704102,
           6.385506629943848,
           6.419066429138184,
           6.36832332611084,
           6.122079372406006,
           5.584061145782471,
           5.103810787200928,
           5.540278911590576
          ],
          [
           6.193363189697266,
           6.193373680114746,
           6.193386554718018,
           6.193402290344238,
           6.193419933319092,
           6.193439960479736,
           6.193462371826172,
           6.193488121032715,
           6.193519592285156,
           6.193563461303711,
           6.193635940551758,
           6.193763732910156,
           6.194002151489258,
           6.1944499015808105,
           6.195283889770508,
           6.1968207359313965,
           6.1996049880981445,
           6.204553604125977,
           6.213137626647949,
           6.227551460266113,
           6.2506422996521,
           6.285018444061279,
           6.33005952835083,
           6.374626159667969,
           6.383087158203125,
           6.275620460510254,
           5.917245864868164,
           5.176599979400635,
           4.437891006469727,
           5.114778995513916
          ],
          [
           6.193342685699463,
           6.193345546722412,
           6.1933488845825195,
           6.193352699279785,
           6.193357944488525,
           6.193364143371582,
           6.19337272644043,
           6.193385124206543,
           6.1934051513671875,
           6.1934404373168945,
           6.193503379821777,
           6.1936211585998535,
           6.193840026855469,
           6.194248199462891,
           6.1949968338012695,
           6.1963605880737305,
           6.198802471160889,
           6.203096389770508,
           6.21046257019043,
           6.2226715087890625,
           6.241901397705078,
           6.2697954177856445,
           6.304537296295166,
           6.333931922912598,
           6.322320938110352,
           6.192394256591797,
           5.815371990203857,
           5.063836574554443,
           4.302282810211182,
           5.001185894012451
          ],
          [
           6.1933369636535645,
           6.193337440490723,
           6.193338394165039,
           6.193340301513672,
           6.193342208862305,
           6.193345069885254,
           6.193349838256836,
           6.193357467651367,
           6.193371772766113,
           6.193398475646973,
           6.193448066711426,
           6.193540573120117,
           6.193711280822754,
           6.194025039672852,
           6.1945953369140625,
           6.195620536804199,
           6.197434425354004,
           6.200586318969727,
           6.205931663513184,
           6.214698314666748,
           6.228393077850342,
           6.248202323913574,
           6.273215293884277,
           6.29647970199585,
           6.298585891723633,
           6.2427873611450195,
           6.088288307189941,
           5.855685710906982,
           5.719359397888184,
           5.840793132781982
          ]
         ],
         "type": "surface"
        },
        {
         "colorscale": [
          [
           0,
           "rgb(255, 198, 196)"
          ],
          [
           0.16666666666666666,
           "rgb(244, 163, 168)"
          ],
          [
           0.3333333333333333,
           "rgb(227, 129, 145)"
          ],
          [
           0.5,
           "rgb(204, 96, 125)"
          ],
          [
           0.6666666666666666,
           "rgb(173, 70, 108)"
          ],
          [
           0.8333333333333334,
           "rgb(139, 48, 88)"
          ],
          [
           1,
           "rgb(103, 32, 68)"
          ]
         ],
         "opacity": 0.2,
         "showscale": false,
         "x": [
          0.33928570710122585,
          0.5055418629199266,
          0.6717980187386274,
          0.8380541577935219,
          1.0043103471398354,
          1.1705665364861488,
          1.336822658777237,
          1.503078781068325,
          1.6693349033594131,
          1.8355910927057266,
          2.0018471479415894,
          2.168103337287903,
          2.3343595266342168,
          2.5006157159805302,
          2.6668719053268437,
          2.833128094673157,
          2.9993842840194707,
          3.165640473365784,
          3.3318966627120976,
          3.4981525838375096,
          3.664408773183823,
          3.8306649625301366,
          3.99692115187645,
          4.163177341222764,
          4.329433262348176,
          4.495689451694489,
          4.661945641040803,
          4.828201830387116,
          4.99445801973343,
          5.160714209079743
         ],
         "y": [
          2.276071443020234,
          2.745652702469288,
          3.215233961918342,
          3.684815174018958,
          4.154396528164888,
          4.623977882310818,
          5.093559047062996,
          5.563140211815174,
          6.032721376567352,
          6.502302730713282,
          6.971883706071708,
          7.441465060217638,
          7.911046414363568,
          8.380627768509498,
          8.850209122655428,
          9.319790476801359,
          9.789371830947289,
          10.258953185093219,
          10.72853453923915,
          11.19811513581007,
          11.667696489956,
          12.13727784410193,
          12.60685919824786,
          13.076440552393791,
          13.546021148964712,
          14.015602503110642,
          14.485183857256573,
          14.954765211402503,
          15.424346565548433,
          15.893927919694363
         ],
         "z": [
          [
           -1.5351436138153076,
           -1.482041358947754,
           -1.5489683151245117,
           -1.6247636079788208,
           -1.6106696128845215,
           -1.527433156967163,
           -1.4258625507354736,
           -1.337270736694336,
           -1.2714509963989258,
           -1.2268061637878418,
           -1.1981689929962158,
           -1.180464267730713,
           -1.1698060035705566,
           -1.1635246276855469,
           -1.1598899364471436,
           -1.1578218936920166,
           -1.156662940979004,
           -1.1560232639312744,
           -1.155674934387207,
           -1.1554880142211914,
           -1.1553888320922852,
           -1.155336856842041,
           -1.1553101539611816,
           -1.1552965641021729,
           -1.155289649963379,
           -1.1552863121032715,
           -1.1552846431732178,
           -1.1552839279174805,
           -1.1552834510803223,
           -1.1552834510803223
          ],
          [
           -0.5155540704727173,
           0.08525872230529785,
           -0.595638632774353,
           -1.1809923648834229,
           -1.4048550128936768,
           -1.4303898811340332,
           -1.3830063343048096,
           -1.323127269744873,
           -1.2714018821716309,
           -1.2319855690002441,
           -1.2039260864257812,
           -1.1849944591522217,
           -1.172820806503296,
           -1.1653218269348145,
           -1.1608734130859375,
           -1.1583192348480225,
           -1.1568942070007324,
           -1.1561193466186523,
           -1.155707597732544,
           -1.155493974685669,
           -1.1553852558135986,
           -1.1553313732147217,
           -1.1553051471710205,
           -1.1552929878234863,
           -1.155287265777588,
           -1.1552848815917969,
           -1.1552836894989014,
           -1.1552834510803223,
           -1.1552832126617432,
           -1.1552832126617432
          ],
          [
           0.5825803279876709,
           1.0898478031158447,
           0.46491193771362305,
           -0.25229978561401367,
           -0.6612849235534668,
           -0.8980040550231934,
           -1.0634996891021729,
           -1.1644856929779053,
           -1.2058017253875732,
           -1.2096703052520752,
           -1.1980907917022705,
           -1.1840875148773193,
           -1.17283034324646,
           -1.1652331352233887,
           -1.1606109142303467,
           -1.1579945087432861,
           -1.1565947532653809,
           -1.1558825969696045,
           -1.1555376052856445,
           -1.1553795337677002,
           -1.1553120613098145,
           -1.1552863121032715,
           -1.155278205871582,
           -1.1552772521972656,
           -1.1552784442901611,
           -1.1552801132202148,
           -1.1552813053131104,
           -1.1552822589874268,
           -1.155282735824585,
           -1.1552832126617432
          ],
          [
           -0.019595861434936523,
           0.339785099029541,
           0.2793543338775635,
           0.4364093542098999,
           0.737848162651062,
           0.1485840082168579,
           -0.5480413436889648,
           -0.9495441913604736,
           -1.1224710941314697,
           -1.1759517192840576,
           -1.1814723014831543,
           -1.1736478805541992,
           -1.165391206741333,
           -1.159860610961914,
           -1.1568551063537598,
           -1.1554772853851318,
           -1.1549735069274902,
           -1.1548738479614258,
           -1.1549286842346191,
           -1.1550211906433105,
           -1.1551058292388916,
           -1.15516996383667,
           -1.1552143096923828,
           -1.155242681503296,
           -1.1552605628967285,
           -1.155271053314209,
           -1.1552774906158447,
           -1.1552810668945312,
           -1.155282974243164,
           -1.1552841663360596
          ],
          [
           -1.7252302169799805,
           -1.6079704761505127,
           -1.5135995149612427,
           -1.220131278038025,
           -0.8690972328186035,
           -0.800079345703125,
           -0.9255828857421875,
           -1.0407984256744385,
           -1.096930742263794,
           -1.116966962814331,
           -1.1245787143707275,
           -1.1300468444824219,
           -1.1355583667755127,
           -1.1407675743103027,
           -1.1451513767242432,
           -1.148517370223999,
           -1.150930643081665,
           -1.152571201324463,
           -1.153639793395996,
           -1.1543116569519043,
           -1.1547212600708008,
           -1.1549656391143799,
           -1.1551079750061035,
           -1.1551899909973145,
           -1.1552362442016602,
           -1.1552619934082031,
           -1.1552765369415283,
           -1.1552841663360596,
           -1.1552884578704834,
           -1.1552903652191162
          ],
          [
           -0.41746699810028076,
           0.2191300392150879,
           -0.43132686614990234,
           -0.98624587059021,
           -1.1109917163848877,
           -0.9878826141357422,
           -0.8058571815490723,
           -0.6925718784332275,
           -0.6979713439941406,
           -0.7889218330383301,
           -0.9012267589569092,
           -0.9942924976348877,
           -1.058243751525879,
           -1.0981979370117188,
           -1.1220762729644775,
           -1.1361007690429688,
           -1.1442840099334717,
           -1.1490349769592285,
           -1.1517741680145264,
           -1.15333890914917,
           -1.1542229652404785,
           -1.1547179222106934,
           -1.1549923419952393,
           -1.1551437377929688,
           -1.1552269458770752,
           -1.1552727222442627,
           -1.1552979946136475,
           -1.1553113460540771,
           -1.155318021774292,
           -1.155320405960083
          ],
          [
           0.34920597076416016,
           1.05078125,
           0.4512289762496948,
           -0.10530996322631836,
           -0.193040132522583,
           0.15290188789367676,
           0.7615232467651367,
           1.1273492574691772,
           0.7500739097595215,
           0.08545255661010742,
           -0.4391593933105469,
           -0.7649717330932617,
           -0.9471104145050049,
           -1.044346570968628,
           -1.0956766605377197,
           -1.1229841709136963,
           -1.1377103328704834,
           -1.1457383632659912,
           -1.1501367092132568,
           -1.1525459289550781,
           -1.1538615226745605,
           -1.154578447341919,
           -1.1549694538116455,
           -1.1551852226257324,
           -1.1553065776824951,
           -1.1553764343261719,
           -1.1554172039031982,
           -1.155439853668213,
           -1.155449628829956,
           -1.155449628829956
          ],
          [
           0.9166895151138306,
           1.6003388166427612,
           1.2528358697891235,
           0.7786097526550293,
           0.6802780628204346,
           0.9637384414672852,
           1.5189417600631714,
           1.8116626739501953,
           1.1882843971252441,
           0.31995701789855957,
           -0.31760501861572266,
           -0.7026443481445312,
           -0.9154400825500488,
           -1.0284531116485596,
           -1.0878667831420898,
           -1.1192855834960938,
           -1.1360738277435303,
           -1.145113229751587,
           -1.1499943733215332,
           -1.1526291370391846,
           -1.1540539264678955,
           -1.1548337936401367,
           -1.1552753448486328,
           -1.155540943145752,
           -1.155714750289917,
           -1.1558351516723633,
           -1.1559185981750488,
           -1.1559696197509766,
           -1.1559884548187256,
           -1.1559758186340332
          ],
          [
           0.34900498390197754,
           0.8470320701599121,
           1.304858684539795,
           1.7155513763427734,
           1.8647053241729736,
           1.5371475219726562,
           0.9832444190979004,
           0.46034669876098633,
           0.006966590881347656,
           -0.37600255012512207,
           -0.6690104007720947,
           -0.8684837818145752,
           -0.9925081729888916,
           -1.0652596950531006,
           -1.1065211296081543,
           -1.1294639110565186,
           -1.1420331001281738,
           -1.1488196849822998,
           -1.152435064315796,
           -1.154355525970459,
           -1.1554067134857178,
           -1.1560416221618652,
           -1.1564974784851074,
           -1.1568870544433594,
           -1.1572487354278564,
           -1.157578706741333,
           -1.1578497886657715,
           -1.1580297946929932,
           -1.1580917835235596,
           -1.1580255031585693
          ],
          [
           -0.3254051208496094,
           0.1174321174621582,
           0.8269743919372559,
           1.8688541650772095,
           2.6667985916137695,
           1.7248985767364502,
           0.6283226013183594,
           -0.1037743091583252,
           -0.5383636951446533,
           -0.7910366058349609,
           -0.941591739654541,
           -1.0335638523101807,
           -1.0897150039672852,
           -1.1230578422546387,
           -1.1418957710266113,
           -1.1517994403839111,
           -1.156489372253418,
           -1.158371925354004,
           -1.158933401107788,
           -1.1590418815612793,
           -1.1591694355010986,
           -1.1595447063446045,
           -1.1602461338043213,
           -1.1612517833709717,
           -1.162461519241333,
           -1.1637158393859863,
           -1.1648197174072266,
           -1.165578842163086,
           -1.165846824645996,
           -1.1655638217926025
          ],
          [
           -0.8082902431488037,
           -0.5817112922668457,
           -0.17604970932006836,
           0.4429377317428589,
           0.8593622446060181,
           0.37180233001708984,
           -0.27147817611694336,
           -0.6923952102661133,
           -0.9304275512695312,
           -1.0614707469940186,
           -1.1347506046295166,
           -1.1754915714263916,
           -1.1958518028259277,
           -1.2026524543762207,
           -1.2008700370788574,
           -1.1945362091064453,
           -1.1867003440856934,
           -1.1793582439422607,
           -1.1735882759094238,
           -1.1698250770568848,
           -1.1681361198425293,
           -1.1684112548828125,
           -1.1704456806182861,
           -1.1739325523376465,
           -1.1784069538116455,
           -1.1832122802734375,
           -1.1875388622283936,
           -1.1905672550201416,
           -1.1916685104370117,
           -1.1905863285064697
          ],
          [
           -0.8428442478179932,
           -0.5757088661193848,
           -0.12651395797729492,
           0.4510927200317383,
           0.7596607208251953,
           0.4043159484863281,
           -0.19789791107177734,
           -0.6785871982574463,
           -0.9927525520324707,
           -1.186553716659546,
           -1.3008143901824951,
           -1.3584675788879395,
           -1.3735103607177734,
           -1.3585150241851807,
           -1.3263797760009766,
           -1.2885873317718506,
           -1.2532649040222168,
           -1.224738597869873,
           -1.2043976783752441,
           -1.191988229751587,
           -1.1866626739501953,
           -1.1875543594360352,
           -1.1938881874084473,
           -1.2047576904296875,
           -1.218757152557373,
           -1.2337610721588135,
           -1.2471277713775635,
           -1.2563436031341553,
           -1.2596893310546875,
           -1.2565324306488037
          ],
          [
           -0.7011888027191162,
           -0.30201220512390137,
           0.378267765045166,
           1.3404114246368408,
           1.9983471632003784,
           1.3746312856674194,
           0.43956756591796875,
           -0.30136966705322266,
           -0.848466157913208,
           -1.2459940910339355,
           -1.5154657363891602,
           -1.6682674884796143,
           -1.714219570159912,
           -1.6736469268798828,
           -1.5818896293640137,
           -1.4758412837982178,
           -1.3806586265563965,
           -1.3074181079864502,
           -1.2576241493225098,
           -1.2285337448120117,
           -1.2166614532470703,
           -1.2192473411560059,
           -1.234161138534546,
           -1.2586920261383057,
           -1.2878868579864502,
           -1.3140156269073486,
           -1.3295447826385498,
           -1.333402156829834,
           -1.3327503204345703,
           -1.333026647567749
          ],
          [
           -0.736424446105957,
           -0.45778346061706543,
           -0.0645899772644043,
           0.3967583179473877,
           0.8002965450286865,
           1.0034816265106201,
           0.9116077423095703,
           0.47594547271728516,
           -0.19936251640319824,
           -0.835788369178772,
           -1.3268438577651978,
           -1.7984087467193604,
           -2.0956151485443115,
           -2.1109232902526855,
           -1.9497190713882446,
           -1.739088535308838,
           -1.5517301559448242,
           -1.4125699996948242,
           -1.321467638015747,
           -1.269885540008545,
           -1.2491843700408936,
           -1.2531068325042725,
           -1.2764883041381836,
           -1.3107025623321533,
           -1.3360443115234375,
           -1.315019130706787,
           -1.202772617340088,
           -1.0086379051208496,
           -0.8890678882598877,
           -0.9952549934387207
          ],
          [
           -0.7885019779205322,
           -0.5530924797058105,
           -0.19231867790222168,
           0.34088921546936035,
           1.0911052227020264,
           2.0470967292785645,
           2.9726290702819824,
           3.009918212890625,
           1.4926985502243042,
           -0.06578540802001953,
           -0.9638112783432007,
           -1.9598867893218994,
           -2.5066163539886475,
           -2.50054669380188,
           -2.2343740463256836,
           -1.9221240282058716,
           -1.660799264907837,
           -1.4746785163879395,
           -1.3563921451568604,
           -1.290544033050537,
           -1.2637584209442139,
           -1.266857624053955,
           -1.2922391891479492,
           -1.3264553546905518,
           -1.3361492156982422,
           -1.247467279434204,
           -0.9312251806259155,
           -0.2516671419143677,
           0.4426248073577881,
           -0.19348788261413574
          ],
          [
           -0.8599317073822021,
           -0.668632984161377,
           -0.3705604076385498,
           0.07465910911560059,
           0.6913888454437256,
           1.423088788986206,
           2.000800609588623,
           1.8931758403778076,
           0.9539682865142822,
           -0.006986856460571289,
           -0.5415527820587158,
           -1.5443171262741089,
           -2.1332592964172363,
           -2.1973156929016113,
           -2.0157179832458496,
           -1.7785148620605469,
           -1.5724170207977295,
           -1.4222395420074463,
           -1.3251256942749023,
           -1.2701635360717773,
           -1.2471094131469727,
           -1.2487590312957764,
           -1.2697052955627441,
           -1.3024353981018066,
           -1.3314385414123535,
           -1.3292450904846191,
           -1.2668753862380981,
           -1.1560628414154053,
           -1.0904567241668701,
           -1.1483938694000244
          ],
          [
           -0.9701473712921143,
           -0.8618483543395996,
           -0.7055821418762207,
           -0.49533557891845703,
           -0.24053955078125,
           0.022901535034179688,
           0.24130749702453613,
           0.4008638858795166,
           0.5966088771820068,
           0.9293594360351562,
           1.0360655784606934,
           0.30880725383758545,
           -0.5658843517303467,
           -1.0990595817565918,
           -1.318498134613037,
           -1.3606958389282227,
           -1.3307228088378906,
           -1.284865379333496,
           -1.2462632656097412,
           -1.2214553356170654,
           -1.2105991840362549,
           -1.2122390270233154,
           -1.2247469425201416,
           -1.245966911315918,
           -1.272170066833496,
           -1.2976551055908203,
           -1.3165109157562256,
           -1.3262124061584473,
           -1.3287813663482666,
           -1.3262324333190918
          ],
          [
           -1.0619778633117676,
           -1.0140540599822998,
           -0.9490313529968262,
           -0.8652820587158203,
           -0.7612309455871582,
           -0.6290605068206787,
           -0.4392104148864746,
           -0.11823272705078125,
           0.4562535285949707,
           1.3680795431137085,
           2.0807290077209473,
           1.1490691900253296,
           0.08132481575012207,
           -0.5897219181060791,
           -0.9395110607147217,
           -1.0974609851837158,
           -1.1582202911376953,
           -1.1762421131134033,
           -1.178598403930664,
           -1.1773035526275635,
           -1.1771817207336426,
           -1.1799724102020264,
           -1.1861333847045898,
           -1.1954305171966553,
           -1.206993579864502,
           -1.2192823886871338,
           -1.2302682399749756,
           -1.2379095554351807,
           -1.2407114505767822,
           -1.2380969524383545
          ],
          [
           -1.1108667850494385,
           -1.088658094406128,
           -1.057464599609375,
           -1.0136661529541016,
           -0.9500916004180908,
           -0.8512039184570312,
           -0.6850295066833496,
           -0.3942298889160156,
           0.10235142707824707,
           0.8464303016662598,
           1.3924176692962646,
           0.7746245861053467,
           -0.00990605354309082,
           -0.5311903953552246,
           -0.8312268257141113,
           -0.9921975135803223,
           -1.0751490592956543,
           -1.117140293121338,
           -1.138472080230713,
           -1.1496906280517578,
           -1.1561832427978516,
           -1.1607060432434082,
           -1.1646466255187988,
           -1.1686201095581055,
           -1.1727428436279297,
           -1.1767776012420654,
           -1.1802608966827393,
           -1.1826584339141846,
           -1.1835436820983887,
           -1.182748556137085
          ],
          [
           -1.1297390460968018,
           -1.1141583919525146,
           -1.0886616706848145,
           -1.0456931591033936,
           -0.9705772399902344,
           -0.8348934650421143,
           -0.5866148471832275,
           -0.14288759231567383,
           0.588580846786499,
           1.5753307342529297,
           2.189976692199707,
           1.539632797241211,
           0.5438902378082275,
           -0.18874216079711914,
           -0.6312062740325928,
           -0.8764965534210205,
           -1.0076260566711426,
           -1.0771362781524658,
           -1.1142067909240723,
           -1.1342315673828125,
           -1.1452610492706299,
           -1.15155029296875,
           -1.1553707122802734,
           -1.1579194068908691,
           -1.1597917079925537,
           -1.161238670349121,
           -1.1623218059539795,
           -1.1630170345306396,
           -1.1632847785949707,
           -1.163116216659546
          ],
          [
           -1.1378657817840576,
           -1.1255626678466797,
           -1.104494571685791,
           -1.068425178527832,
           -1.0070412158966064,
           -0.9044649600982666,
           -0.7400205135345459,
           -0.4972677230834961,
           -0.1904001235961914,
           0.09649133682250977,
           0.21665239334106445,
           0.08814406394958496,
           -0.20348119735717773,
           -0.5115871429443359,
           -0.7537529468536377,
           -0.9168977737426758,
           -1.0179023742675781,
           -1.0776162147521973,
           -1.1120352745056152,
           -1.131584882736206,
           -1.1425862312316895,
           -1.148735761642456,
           -1.1521368026733398,
           -1.153947114944458,
           -1.154782772064209,
           -1.1549911499023438,
           -1.1548354625701904,
           -1.1545870304107666,
           -1.1544926166534424,
           -1.154672622680664
          ],
          [
           -1.1443395614624023,
           -1.1366987228393555,
           -1.1241455078125,
           -1.104043960571289,
           -1.0729730129241943,
           -1.027280330657959,
           -0.9647617340087891,
           -0.8879132270812988,
           -0.8078529834747314,
           -0.7450003623962402,
           -0.7214164733886719,
           -0.7467706203460693,
           -0.8109006881713867,
           -0.8915655612945557,
           -0.9684627056121826,
           -1.030686378479004,
           -1.0759046077728271,
           -1.1064176559448242,
           -1.1259207725524902,
           -1.13783597946167,
           -1.144740343093872,
           -1.1483001708984375,
           -1.1493511199951172,
           -1.1480236053466797,
           -1.1440050601959229,
           -1.1371536254882812,
           -1.1284794807434082,
           -1.1207497119903564,
           -1.1174862384796143,
           -1.120448112487793
          ],
          [
           -1.1495840549468994,
           -1.1459429264068604,
           -1.1403260231018066,
           -1.131998062133789,
           -1.1202468872070312,
           -1.1046817302703857,
           -1.0856907367706299,
           -1.064934492111206,
           -1.0455434322357178,
           -1.0315687656402588,
           -1.0265636444091797,
           -1.0319294929504395,
           -1.0461783409118652,
           -1.0657029151916504,
           -1.0864367485046387,
           -1.1052560806274414,
           -1.1205029487609863,
           -1.1317694187164307,
           -1.1393764019012451,
           -1.1438632011413574,
           -1.1455497741699219,
           -1.1440625190734863,
           -1.137619972229004,
           -1.1220452785491943,
           -1.090214729309082,
           -1.0344185829162598,
           -0.9553821086883545,
           -0.8760344982147217,
           -0.8396093845367432,
           -0.8718371391296387
          ],
          [
           -1.152801752090454,
           -1.1513876914978027,
           -1.1493351459503174,
           -1.1464881896972656,
           -1.1427481174468994,
           -1.1381499767303467,
           -1.1329429149627686,
           -1.1276373863220215,
           -1.122969388961792,
           -1.119746208190918,
           -1.118603229522705,
           -1.1197724342346191,
           -1.1229872703552246,
           -1.1275763511657715,
           -1.1326892375946045,
           -1.1375303268432617,
           -1.1414909362792969,
           -1.1441583633422852,
           -1.1452043056488037,
           -1.144158124923706,
           -1.1399579048156738,
           -1.129941701889038,
           -1.107576608657837,
           -1.0578584671020508,
           -0.9500269889831543,
           -0.7319600582122803,
           -0.3461024761199951,
           0.17609596252441406,
           0.49262070655822754,
           0.20980072021484375
          ],
          [
           -1.1543481349945068,
           -1.1538746356964111,
           -1.1532232761383057,
           -1.1523675918579102,
           -1.1513032913208008,
           -1.1500632762908936,
           -1.1487267017364502,
           -1.1474225521087646,
           -1.1463115215301514,
           -1.1455531120300293,
           -1.145261526107788,
           -1.1454665660858154,
           -1.1460955142974854,
           -1.1469786167144775,
           -1.147871494293213,
           -1.1484723091125488,
           -1.1484143733978271,
           -1.147212028503418,
           -1.1441335678100586,
           -1.1379435062408447,
           -1.126361608505249,
           -1.1048738956451416,
           -1.064145565032959,
           -0.9848723411560059,
           -0.8293046951293945,
           -0.5325047969818115,
           -0.010547399520874023,
           0.7486917972564697,
           1.2880760431289673,
           0.801953911781311
          ],
          [
           -1.154968023300171,
           -1.1548259258270264,
           -1.1546385288238525,
           -1.1544034481048584,
           -1.1541225910186768,
           -1.1538076400756836,
           -1.1534790992736816,
           -1.153165340423584,
           -1.1528971195220947,
           -1.1527018547058105,
           -1.1525909900665283,
           -1.1525506973266602,
           -1.1525323390960693,
           -1.152437686920166,
           -1.1521015167236328,
           -1.1512534618377686,
           -1.1494483947753906,
           -1.1459391117095947,
           -1.1394529342651367,
           -1.1277966499328613,
           -1.1071550846099854,
           -1.0708506107330322,
           -1.0072824954986572,
           -0.8971669673919678,
           -0.7121081352233887,
           -0.42169857025146484,
           -0.02471137046813965,
           0.38439369201660156,
           0.5809540748596191,
           0.4070148468017578
          ],
          [
           -1.1551856994628906,
           -1.1551461219787598,
           -1.1550958156585693,
           -1.1550347805023193,
           -1.1549642086029053,
           -1.1548864841461182,
           -1.1548056602478027,
           -1.154726266860962,
           -1.154651403427124,
           -1.1545794010162354,
           -1.1545007228851318,
           -1.1543891429901123,
           -1.154191255569458,
           -1.153808355331421,
           -1.1530625820159912,
           -1.151637315750122,
           -1.1489756107330322,
           -1.1440989971160889,
           -1.1352953910827637,
           -1.119572639465332,
           -1.091677188873291,
           -1.0423040390014648,
           -0.9548549652099609,
           -0.7999377250671387,
           -0.5276854038238525,
           -0.06243538856506348,
           0.6807160377502441,
           1.688847541809082,
           2.390148639678955,
           1.758063793182373
          ],
          [
           -1.15525484085083,
           -1.1552443504333496,
           -1.1552314758300781,
           -1.1552159786224365,
           -1.155198097229004,
           -1.1551780700683594,
           -1.1551556587219238,
           -1.15513014793396,
           -1.1550986766815186,
           -1.1550543308258057,
           -1.154982328414917,
           -1.1548540592193604,
           -1.1546151638031006,
           -1.1541662216186523,
           -1.1533267498016357,
           -1.1517724990844727,
           -1.1489288806915283,
           -1.1437866687774658,
           -1.1345853805541992,
           -1.1182641983032227,
           -1.0894861221313477,
           -1.0388598442077637,
           -0.9497346878051758,
           -0.7928478717803955,
           -0.5191061496734619,
           -0.054822683334350586,
           0.6862092018127441,
           1.730474591255188,
           2.5838191509246826,
           1.8066214323043823
          ],
          [
           -1.1552753448486328,
           -1.1552724838256836,
           -1.1552691459655762,
           -1.1552650928497314,
           -1.1552600860595703,
           -1.1552536487579346,
           -1.155245065689087,
           -1.1552326679229736,
           -1.155212640762329,
           -1.1551778316497803,
           -1.1551144123077393,
           -1.1549968719482422,
           -1.1547772884368896,
           -1.1543686389923096,
           -1.1536142826080322,
           -1.1522347927093506,
           -1.1497383117675781,
           -1.145265817642212,
           -1.137328863143921,
           -1.1233446598052979,
           -1.0987884998321533,
           -1.0555684566497803,
           -0.9788947105407715,
           -0.8415722846984863,
           -0.5951542854309082,
           -0.16099810600280762,
           0.563601016998291,
           1.6308790445327759,
           2.538785934448242,
           1.7103699445724487
          ],
          [
           -1.1552810668945312,
           -1.155280351638794,
           -1.1552793979644775,
           -1.155277967453003,
           -1.1552760601043701,
           -1.155273199081421,
           -1.1552684307098389,
           -1.1552605628967285,
           -1.1552460193634033,
           -1.155219316482544,
           -1.1551697254180908,
           -1.1550774574279785,
           -1.1549062728881836,
           -1.1545917987823486,
           -1.154017686843872,
           -1.1529812812805176,
           -1.1511285305023193,
           -1.1478512287139893,
           -1.1421093940734863,
           -1.132124423980713,
           -1.1148242950439453,
           -1.0848064422607422,
           -1.0324349403381348,
           -0.9407377243041992,
           -0.7820477485656738,
           -0.5202369689941406,
           -0.1365067958831787,
           0.29247379302978516,
           0.5124304294586182,
           0.3173031806945801
          ]
         ],
         "type": "surface"
        },
        {
         "marker": {
          "color": "#72356c"
         },
         "mode": "markers",
         "name": "training data",
         "x": [
          0.5,
          0.5,
          1.0000000037252903,
          1.0000000037252903,
          1.5000000074505806,
          1.5000000074505806,
          5.000000000000001,
          5.000000000000001,
          0.5,
          5.000000000000001,
          2.0000000447034836,
          0.5,
          0.5,
          0.5,
          1.0000000037252903,
          1.0000000037252903,
          2.0000000447034836,
          2.0000000447034836,
          2.0000000447034836,
          2.0000000447034836,
          5.000000000000001,
          5.000000000000001,
          5.000000000000001
         ],
         "y": [
          2.7300000190734863,
          3.4000001145614362,
          3.7899999185612288,
          6.440000140764965,
          5.3600000716472636,
          8.98999989360641,
          8.800000081362441,
          14.670000341289324,
          5.239999811442516,
          14.890000123887603,
          10.130000282220237,
          4.510000154033449,
          5.369999872371615,
          4.880000167190786,
          6.760000203331785,
          7.769999962835257,
          8.729999392960707,
          9.380000265787459,
          10.479999178778854,
          11.010000170188363,
          14.710000301761738,
          15.4399995803833,
          13.370000110785838
         ],
         "z": [
          0.8730257153511047,
          2.6772446632385254,
          1.6990152597427368,
          3.8050527572631836,
          3.3348562717437744,
          4.535152912139893,
          1.3625102043151855,
          3.8412907123565674,
          1.2013570070266724,
          3.5136520862579346,
          3.4708714485168457,
          0.26329824328422546,
          2.7753403186798096,
          2.591306209564209,
          2.579984426498413,
          3.173818588256836,
          0.13150499761104584,
          0.45116370916366577,
          2.1266398429870605,
          3.468212842941284,
          3.685852527618408,
          3.445655584335327,
          2.6515469551086426
         ],
         "type": "scatter3d"
        },
        {
         "mode": "markers",
         "name": "max(PI)",
         "x": [
          1.336822658777237
         ],
         "y": [
          8.850209122655428
         ],
         "z": [
          4.773707866668701
         ],
         "type": "scatter3d"
        },
        {
         "mode": "markers",
         "name": "max(EI)",
         "x": [
          1.1705665364861488
         ],
         "y": [
          8.850209122655428
         ],
         "z": [
          4.622325897216797
         ],
         "type": "scatter3d"
        },
        {
         "mode": "markers",
         "name": "max(CA)",
         "x": [
          2.3343595266342168
         ],
         "y": [
          12.13727784410193
         ],
         "z": [
          2.809805393218994
         ],
         "type": "scatter3d"
        },
        {
         "mode": "markers",
         "name": "max(TH)",
         "x": [
          1.336822658777237
         ],
         "y": [
          12.13727784410193
         ],
         "z": [
          2.6901743412017822
         ],
         "type": "scatter3d"
        },
        {
         "mode": "markers",
         "name": "max(UCB)",
         "x": [
          1.0043103471398354
         ],
         "y": [
          8.850209122655428
         ],
         "z": [
          4.192216873168945
         ],
         "type": "scatter3d"
        },
        {
         "mode": "markers",
         "name": "max(Max_var)",
         "x": [
          3.664408773183823
         ],
         "y": [
          2.276071443020234
         ],
         "z": [
          2.5189201831817627
         ],
         "type": "scatter3d"
        }
       ],
       "layout": {
        "template": {
         "data": {
          "barpolar": [
           {
            "marker": {
             "line": {
              "color": "rgb(237,237,237)",
              "width": 0.5
             },
             "pattern": {
              "fillmode": "overlay",
              "size": 10,
              "solidity": 0.2
             }
            },
            "type": "barpolar"
           }
          ],
          "bar": [
           {
            "error_x": {
             "color": "rgb(51,51,51)"
            },
            "error_y": {
             "color": "rgb(51,51,51)"
            },
            "marker": {
             "line": {
              "color": "rgb(237,237,237)",
              "width": 0.5
             },
             "pattern": {
              "fillmode": "overlay",
              "size": 10,
              "solidity": 0.2
             }
            },
            "type": "bar"
           }
          ],
          "carpet": [
           {
            "aaxis": {
             "endlinecolor": "rgb(51,51,51)",
             "gridcolor": "white",
             "linecolor": "white",
             "minorgridcolor": "white",
             "startlinecolor": "rgb(51,51,51)"
            },
            "baxis": {
             "endlinecolor": "rgb(51,51,51)",
             "gridcolor": "white",
             "linecolor": "white",
             "minorgridcolor": "white",
             "startlinecolor": "rgb(51,51,51)"
            },
            "type": "carpet"
           }
          ],
          "choropleth": [
           {
            "colorbar": {
             "outlinewidth": 0,
             "tickcolor": "rgb(237,237,237)",
             "ticklen": 6,
             "ticks": "inside"
            },
            "type": "choropleth"
           }
          ],
          "contourcarpet": [
           {
            "colorbar": {
             "outlinewidth": 0,
             "tickcolor": "rgb(237,237,237)",
             "ticklen": 6,
             "ticks": "inside"
            },
            "type": "contourcarpet"
           }
          ],
          "contour": [
           {
            "colorbar": {
             "outlinewidth": 0,
             "tickcolor": "rgb(237,237,237)",
             "ticklen": 6,
             "ticks": "inside"
            },
            "colorscale": [
             [
              0,
              "rgb(20,44,66)"
             ],
             [
              1,
              "rgb(90,179,244)"
             ]
            ],
            "type": "contour"
           }
          ],
          "heatmapgl": [
           {
            "colorbar": {
             "outlinewidth": 0,
             "tickcolor": "rgb(237,237,237)",
             "ticklen": 6,
             "ticks": "inside"
            },
            "colorscale": [
             [
              0,
              "rgb(20,44,66)"
             ],
             [
              1,
              "rgb(90,179,244)"
             ]
            ],
            "type": "heatmapgl"
           }
          ],
          "heatmap": [
           {
            "colorbar": {
             "outlinewidth": 0,
             "tickcolor": "rgb(237,237,237)",
             "ticklen": 6,
             "ticks": "inside"
            },
            "colorscale": [
             [
              0,
              "rgb(20,44,66)"
             ],
             [
              1,
              "rgb(90,179,244)"
             ]
            ],
            "type": "heatmap"
           }
          ],
          "histogram2dcontour": [
           {
            "colorbar": {
             "outlinewidth": 0,
             "tickcolor": "rgb(237,237,237)",
             "ticklen": 6,
             "ticks": "inside"
            },
            "colorscale": [
             [
              0,
              "rgb(20,44,66)"
             ],
             [
              1,
              "rgb(90,179,244)"
             ]
            ],
            "type": "histogram2dcontour"
           }
          ],
          "histogram2d": [
           {
            "colorbar": {
             "outlinewidth": 0,
             "tickcolor": "rgb(237,237,237)",
             "ticklen": 6,
             "ticks": "inside"
            },
            "colorscale": [
             [
              0,
              "rgb(20,44,66)"
             ],
             [
              1,
              "rgb(90,179,244)"
             ]
            ],
            "type": "histogram2d"
           }
          ],
          "histogram": [
           {
            "marker": {
             "pattern": {
              "fillmode": "overlay",
              "size": 10,
              "solidity": 0.2
             }
            },
            "type": "histogram"
           }
          ],
          "mesh3d": [
           {
            "colorbar": {
             "outlinewidth": 0,
             "tickcolor": "rgb(237,237,237)",
             "ticklen": 6,
             "ticks": "inside"
            },
            "type": "mesh3d"
           }
          ],
          "parcoords": [
           {
            "line": {
             "colorbar": {
              "outlinewidth": 0,
              "tickcolor": "rgb(237,237,237)",
              "ticklen": 6,
              "ticks": "inside"
             }
            },
            "type": "parcoords"
           }
          ],
          "pie": [
           {
            "automargin": true,
            "type": "pie"
           }
          ],
          "scatter3d": [
           {
            "line": {
             "colorbar": {
              "outlinewidth": 0,
              "tickcolor": "rgb(237,237,237)",
              "ticklen": 6,
              "ticks": "inside"
             }
            },
            "marker": {
             "colorbar": {
              "outlinewidth": 0,
              "tickcolor": "rgb(237,237,237)",
              "ticklen": 6,
              "ticks": "inside"
             }
            },
            "type": "scatter3d"
           }
          ],
          "scattercarpet": [
           {
            "marker": {
             "colorbar": {
              "outlinewidth": 0,
              "tickcolor": "rgb(237,237,237)",
              "ticklen": 6,
              "ticks": "inside"
             }
            },
            "type": "scattercarpet"
           }
          ],
          "scattergeo": [
           {
            "marker": {
             "colorbar": {
              "outlinewidth": 0,
              "tickcolor": "rgb(237,237,237)",
              "ticklen": 6,
              "ticks": "inside"
             }
            },
            "type": "scattergeo"
           }
          ],
          "scattergl": [
           {
            "marker": {
             "colorbar": {
              "outlinewidth": 0,
              "tickcolor": "rgb(237,237,237)",
              "ticklen": 6,
              "ticks": "inside"
             }
            },
            "type": "scattergl"
           }
          ],
          "scattermapbox": [
           {
            "marker": {
             "colorbar": {
              "outlinewidth": 0,
              "tickcolor": "rgb(237,237,237)",
              "ticklen": 6,
              "ticks": "inside"
             }
            },
            "type": "scattermapbox"
           }
          ],
          "scatterpolargl": [
           {
            "marker": {
             "colorbar": {
              "outlinewidth": 0,
              "tickcolor": "rgb(237,237,237)",
              "ticklen": 6,
              "ticks": "inside"
             }
            },
            "type": "scatterpolargl"
           }
          ],
          "scatterpolar": [
           {
            "marker": {
             "colorbar": {
              "outlinewidth": 0,
              "tickcolor": "rgb(237,237,237)",
              "ticklen": 6,
              "ticks": "inside"
             }
            },
            "type": "scatterpolar"
           }
          ],
          "scatter": [
           {
            "fillpattern": {
             "fillmode": "overlay",
             "size": 10,
             "solidity": 0.2
            },
            "type": "scatter"
           }
          ],
          "scatterternary": [
           {
            "marker": {
             "colorbar": {
              "outlinewidth": 0,
              "tickcolor": "rgb(237,237,237)",
              "ticklen": 6,
              "ticks": "inside"
             }
            },
            "type": "scatterternary"
           }
          ],
          "surface": [
           {
            "colorbar": {
             "outlinewidth": 0,
             "tickcolor": "rgb(237,237,237)",
             "ticklen": 6,
             "ticks": "inside"
            },
            "colorscale": [
             [
              0,
              "rgb(20,44,66)"
             ],
             [
              1,
              "rgb(90,179,244)"
             ]
            ],
            "type": "surface"
           }
          ],
          "table": [
           {
            "cells": {
             "fill": {
              "color": "rgb(237,237,237)"
             },
             "line": {
              "color": "white"
             }
            },
            "header": {
             "fill": {
              "color": "rgb(217,217,217)"
             },
             "line": {
              "color": "white"
             }
            },
            "type": "table"
           }
          ]
         },
         "layout": {
          "annotationdefaults": {
           "arrowhead": 0,
           "arrowwidth": 1
          },
          "autotypenumbers": "strict",
          "coloraxis": {
           "colorbar": {
            "outlinewidth": 0,
            "tickcolor": "rgb(237,237,237)",
            "ticklen": 6,
            "ticks": "inside"
           }
          },
          "colorscale": {
           "sequential": [
            [
             0,
             "rgb(20,44,66)"
            ],
            [
             1,
             "rgb(90,179,244)"
            ]
           ],
           "sequentialminus": [
            [
             0,
             "rgb(20,44,66)"
            ],
            [
             1,
             "rgb(90,179,244)"
            ]
           ]
          },
          "colorway": [
           "#F8766D",
           "#A3A500",
           "#00BF7D",
           "#00B0F6",
           "#E76BF3"
          ],
          "font": {
           "color": "rgb(51,51,51)"
          },
          "geo": {
           "bgcolor": "white",
           "lakecolor": "white",
           "landcolor": "rgb(237,237,237)",
           "showlakes": true,
           "showland": true,
           "subunitcolor": "white"
          },
          "hoverlabel": {
           "align": "left"
          },
          "hovermode": "closest",
          "paper_bgcolor": "white",
          "plot_bgcolor": "rgb(237,237,237)",
          "polar": {
           "angularaxis": {
            "gridcolor": "white",
            "linecolor": "white",
            "showgrid": true,
            "tickcolor": "rgb(51,51,51)",
            "ticks": "outside"
           },
           "bgcolor": "rgb(237,237,237)",
           "radialaxis": {
            "gridcolor": "white",
            "linecolor": "white",
            "showgrid": true,
            "tickcolor": "rgb(51,51,51)",
            "ticks": "outside"
           }
          },
          "scene": {
           "xaxis": {
            "backgroundcolor": "rgb(237,237,237)",
            "gridcolor": "white",
            "gridwidth": 2,
            "linecolor": "white",
            "showbackground": true,
            "showgrid": true,
            "tickcolor": "rgb(51,51,51)",
            "ticks": "outside",
            "zerolinecolor": "white"
           },
           "yaxis": {
            "backgroundcolor": "rgb(237,237,237)",
            "gridcolor": "white",
            "gridwidth": 2,
            "linecolor": "white",
            "showbackground": true,
            "showgrid": true,
            "tickcolor": "rgb(51,51,51)",
            "ticks": "outside",
            "zerolinecolor": "white"
           },
           "zaxis": {
            "backgroundcolor": "rgb(237,237,237)",
            "gridcolor": "white",
            "gridwidth": 2,
            "linecolor": "white",
            "showbackground": true,
            "showgrid": true,
            "tickcolor": "rgb(51,51,51)",
            "ticks": "outside",
            "zerolinecolor": "white"
           }
          },
          "shapedefaults": {
           "fillcolor": "black",
           "line": {
            "width": 0
           },
           "opacity": 0.3
          },
          "ternary": {
           "aaxis": {
            "gridcolor": "white",
            "linecolor": "white",
            "showgrid": true,
            "tickcolor": "rgb(51,51,51)",
            "ticks": "outside"
           },
           "baxis": {
            "gridcolor": "white",
            "linecolor": "white",
            "showgrid": true,
            "tickcolor": "rgb(51,51,51)",
            "ticks": "outside"
           },
           "bgcolor": "rgb(237,237,237)",
           "caxis": {
            "gridcolor": "white",
            "linecolor": "white",
            "showgrid": true,
            "tickcolor": "rgb(51,51,51)",
            "ticks": "outside"
           }
          },
          "xaxis": {
           "automargin": true,
           "gridcolor": "white",
           "linecolor": "white",
           "showgrid": true,
           "tickcolor": "rgb(51,51,51)",
           "ticks": "outside",
           "title": {
            "standoff": 15
           },
           "zerolinecolor": "white"
          },
          "yaxis": {
           "automargin": true,
           "gridcolor": "white",
           "linecolor": "white",
           "showgrid": true,
           "tickcolor": "rgb(51,51,51)",
           "ticks": "outside",
           "title": {
            "standoff": 15
           },
           "zerolinecolor": "white"
          }
         }
        },
        "margin": {
         "r": 20,
         "l": 10,
         "b": 15,
         "t": 10
        },
        "legend": {
         "orientation": "h",
         "yanchor": "bottom",
         "y": 0.9,
         "xanchor": "right",
         "x": 0.85
        },
        "width": 1200,
        "height": 750,
        "scene": {
         "xaxis": {
          "title": {
           "text": "Pulse Width (msec)"
          }
         },
         "yaxis": {
          "title": {
           "text": "Energy density new cone (J/cm^2)"
          }
         },
         "zaxis": {
          "title": {
           "text": "2 Qsw/(U+|D|) 1e6"
          }
         },
         "camera": {
          "up": {
           "x": 0,
           "y": 0,
           "z": 1
          },
          "center": {
           "x": 0,
           "y": 0,
           "z": 0
          },
          "eye": {
           "x": 2,
           "y": 0.3,
           "z": 0.75
          }
         }
        }
       },
       "config": {
        "plotlyServerURL": "https://plot.ly"
       }
      }
     },
     "metadata": {}
    }
   ],
   "metadata": {}
  },
  {
   "cell_type": "code",
   "execution_count": 642,
   "source": [
    "# check fig of merit of julia et al prediction point\n",
    "model.eval(), likelihood.eval()\n",
    "nlcb = np.array((2.9, 9.04)).reshape(1,2)\n",
    "nlcb_scaled = scaler.transform(nlcb)\n",
    "print(nlcb_scaled)\n",
    "\n",
    "y_preds_nlcb = likelihood(model(torch.Tensor(nlcb_scaled)))\n",
    "\n",
    "with torch.no_grad(): y_preds_nlcb_mean = y_preds_nlcb.mean.numpy()\n",
    "print(y_preds_nlcb_mean)"
   ],
   "outputs": [
    {
     "output_type": "stream",
     "name": "stdout",
     "text": [
      "[[0.53333333 0.4964595 ]]\n",
      "[1.8041546]\n"
     ]
    },
    {
     "output_type": "stream",
     "name": "stderr",
     "text": [
      "/Users/valenetjong/opt/anaconda3/envs/FEGP/lib/python3.9/site-packages/gpytorch/likelihoods/gaussian_likelihood.py:270: GPInputWarning:\n",
      "\n",
      "You have passed data through a FixedNoiseGaussianLikelihood that did not match the size of the fixed noise, *and* you did not specify noise. This is treated as a no-op.\n",
      "\n"
     ]
    }
   ],
   "metadata": {}
  },
  {
   "cell_type": "markdown",
   "source": [
    "### Post-processing\n",
    "- Energy density, pulse width --> voltage function"
   ],
   "metadata": {}
  },
  {
   "cell_type": "code",
   "execution_count": 643,
   "source": [
    "import GPy\n",
    "from GPy.models import GPRegression\n",
    "from emukit.model_wrappers import GPyModelWrapper\n",
    "from torch.optim import Adam as Adam\n",
    "from emukit.core import ParameterSpace, ContinuousParameter"
   ],
   "outputs": [],
   "metadata": {}
  },
  {
   "cell_type": "markdown",
   "source": [
    "#### Load Data"
   ],
   "metadata": {}
  },
  {
   "cell_type": "code",
   "execution_count": 644,
   "source": [
    "dir = \"/Users/valenetjong/Bayesian-Optimization-Ferroelectrics/data/\"\n",
    "in_file = \"Bolometer_readings_under_the_cone_new_old.xlsx\"\n",
    "df = pd.read_excel(dir + in_file, sheet_name=\"Calibrations_new\")\n",
    "\n",
    "volts_bol_dat = df['Voltage (V)'].values  \n",
    "time_bol_dat = df['Time (us)'].values  \n",
    "energy_den_bol_dat = df['Energy density new cone (J/cm^2)'].values  \n",
    "\n",
    "# define scaler\n",
    "post_scaler = MinMaxScaler()\n",
    "\n",
    "# make, scale training set\n",
    "x_exp_raw = np.stack((time_bol_dat, energy_den_bol_dat), axis=1)\n",
    "x_exp = post_scaler.fit_transform(x_exp_raw)\n",
    "\n",
    "y_exp = np.reshape(volts_bol_dat,(-1,1))\n",
    "X, Y = [x_exp, y_exp]"
   ],
   "outputs": [],
   "metadata": {}
  },
  {
   "cell_type": "markdown",
   "source": [
    "#### GP Voltage Model"
   ],
   "metadata": {}
  },
  {
   "cell_type": "code",
   "execution_count": 645,
   "source": [
    "def grid_maker_1D(arr, step_size):\n",
    "    return np.arange(arr.min(), arr.max()+step_size*0.1,step_size)\n",
    "\n",
    "# make GP grid; min delta time: 500us, min delta energy density: 0.01J/cm^2\n",
    "var_array = [grid_maker_1D(time_bol_dat, 500), grid_maker_1D(energy_den_bol_dat, 0.01)]"
   ],
   "outputs": [],
   "metadata": {}
  },
  {
   "cell_type": "code",
   "execution_count": 646,
   "source": [
    "# continuous parameter creates a grid space for grid search\n",
    "time_len_num, e_den_num = len(var_array[0]), len(var_array[1])\n",
    "parameter_space = ParameterSpace([ContinuousParameter(\"Time (ms)\", 0-1/(time_len_num-1)/2, 1+1/(time_len_num-1)/2),\n",
    "                                  ContinuousParameter(\"Energy density new cone (J/cm^2)\", 0-1/(e_den_num-1)/2, 1+1/(e_den_num-1)/2),\n",
    "                                 ])"
   ],
   "outputs": [],
   "metadata": {}
  },
  {
   "cell_type": "code",
   "execution_count": 647,
   "source": [
    "# define GP model\n",
    "kernel = GPy.kern.src.stationary.Exponential(input_dim = len(X[0]), ARD =True)\n",
    "kernel.lengthscale.constrain_bounded(1e-2, 1)\n",
    "kernel.variance.constrain_bounded(1e-2, 500.0)\n",
    "model_volt = GPRegression(X , -Y, kernel)   # optimize thru minimization\n",
    "model_volt.Gaussian_noise.variance = 0.15\n",
    "model_volt.Gaussian_noise.variance.fix()"
   ],
   "outputs": [
    {
     "output_type": "stream",
     "name": "stderr",
     "text": [
      "reconstraining parameters Exponential.lengthscale\n",
      "reconstraining parameters Exponential.variance\n"
     ]
    },
    {
     "output_type": "execute_result",
     "data": {
      "text/plain": [
       "array([0])"
      ]
     },
     "metadata": {},
     "execution_count": 647
    }
   ],
   "metadata": {}
  },
  {
   "cell_type": "code",
   "execution_count": 648,
   "source": [
    "# randomize hyperparameters\n",
    "model_volt.randomize() \n",
    "\n",
    "# check hyperparameters \n",
    "# print(kernel.lengthscale, '\\n', kernel.variance)\n",
    "print(kernel)"
   ],
   "outputs": [
    {
     "output_type": "stream",
     "name": "stdout",
     "text": [
      "  \u001b[1mExponential.\u001b[0;0m  |               value  |  constraints  |  priors\n",
      "  \u001b[1mvariance    \u001b[0;0m  |  274.10161373511426  |  0.01,500.0   |        \n",
      "  \u001b[1mlengthscale \u001b[0;0m  |                (2,)  |   0.01,1.0    |        \n"
     ]
    }
   ],
   "metadata": {}
  },
  {
   "cell_type": "code",
   "execution_count": 649,
   "source": [
    "# train voltage model\n",
    "model_volt.optimize_restarts(num_restarts=30, verbose =False, messages=False) # fit to training data, select best hyperparameters out of num_restarts \n",
    "objective_model = GPyModelWrapper(model_volt)\n",
    "# print(objective_model.model.kern.lengthscale, '\\n', objective_model.model.kern.variance)\n",
    "print(kernel)"
   ],
   "outputs": [
    {
     "output_type": "stream",
     "name": "stdout",
     "text": [
      "  \u001b[1mExponential.\u001b[0;0m  |               value  |  constraints  |  priors\n",
      "  \u001b[1mvariance    \u001b[0;0m  |  499.99999940964625  |  0.01,500.0   |        \n",
      "  \u001b[1mlengthscale \u001b[0;0m  |                (2,)  |   0.01,1.0    |        \n"
     ]
    }
   ],
   "metadata": {}
  },
  {
   "cell_type": "code",
   "execution_count": 650,
   "source": [
    "# predict voltage training set\n",
    "gp_func =  objective_model.model.predict\n",
    "y_pred, y_err = gp_func(X)\n",
    "y_pred, y_err = -y_pred[:,-1], np.sqrt(y_err[:,-1])"
   ],
   "outputs": [],
   "metadata": {}
  },
  {
   "cell_type": "code",
   "execution_count": 651,
   "source": [
    "# plot voltage training results \n",
    "plot_gp_res(y_exp.reshape(-1), y_pred, None, y_err)\n",
    "prettyplot()\n",
    "\n",
    "# plot actuals v. predicted values w/ error bars\n",
    "fs = 14 \n",
    "fig, axes = plt.subplots(1, 2, figsize=(16, 4.5))\n",
    "plt_inputs = np.arange(len(Y))\n",
    "axes[0].scatter(plt_inputs, Y[:,0].T, s = 20, color = \"#72356c\", label = 'experiment')\n",
    "axes[0].plot(plt_inputs, y_pred, color = 'black', label = 'predicted')\n",
    "axes[0].errorbar(plt_inputs, y_pred, y_err, zorder = 0)\n",
    "\n",
    "# set up axes and labels\n",
    "axes[0].set_ylabel('Output (Voltage)', fontsize = fs)\n",
    "axes[0].set_xlabel('Input (Time, Energy Density)', fontsize = fs)\n",
    "axes[0].set_title(\"Predicted v. Actuals\", fontsize = fs)\n",
    "axes[0].legend(fontsize = fs*0.8)\n",
    "axes[1].axis(\"off\")\n",
    "\n",
    "plt.show()"
   ],
   "outputs": [
    {
     "output_type": "stream",
     "name": "stdout",
     "text": [
      "     Metric  Value\n",
      "0      RMSE  0.118\n",
      "1       MAE  0.069\n",
      "2  Spearman  0.988\n",
      "3  R² score  1.000\n"
     ]
    },
    {
     "output_type": "display_data",
     "data": {
      "image/png": "[encoded data removed]",
      "text/plain": [
       "<Figure size 3300x900 with 3 Axes>"
      ]
     },
     "metadata": {}
    },
    {
     "output_type": "display_data",
     "data": {
      "image/png": "[encoded data removed]",
      "text/plain": [
       "<Figure size 3200x900 with 2 Axes>"
      ]
     },
     "metadata": {}
    }
   ],
   "metadata": {}
  },
  {
   "cell_type": "code",
   "execution_count": 652,
   "source": [
    "# get voltage of prediction points and re-scale to raw\n",
    "get_pos_volt = lambda pt: round(-1*(gp_func(pt)[0].item()),0)\n",
    "ucb_pt, nlcd_pt = np.array(ucb_pt).reshape(1,2), np.array(nlcd_pt).reshape(1,2)\n",
    "ucb_pt_scaled, nlcd_pt_scaled = post_scaler.transform(ucb_pt), post_scaler.transform(nlcd_pt)\n",
    "ucb_pt, nlcd_pt = ucb_pt.reshape(-1), nlcd_pt.reshape(-1)\n",
    "ucb_pt_time, ucb_pt_eden, ucb_pt_volt = ucb_pt[0]/1000, ucb_pt[1], get_pos_volt(ucb_pt_scaled)\n",
    "nlcd_pt_time, nlcd_pt_eden, nlcd_pt_volt = nlcd_pt[0]/1000, nlcd_pt[1], get_pos_volt(nlcd_pt_scaled)\n",
    "\n",
    "# write to csv\n",
    "dir = \"/Users/valenetjong/Bayesian-Optimization-Ferroelectrics/predictions/\"\n",
    "file_out = \"final_preds.csv\"\n",
    "file = open(dir + file_out, \"a\", encoding=\"utf-8\")\n",
    "file.write(\"GP fit predictions: \\n\")\n",
    "file.write(\"Type\\t Time (ms)\\t Energy density(J\\cm^2)\\t Voltage()\\n\")\n",
    "file.write(\"UCB:\\t\" + str(ucb_pt_time) + \"\\t\" + str(ucb_pt_eden) +\"\\t\" + str(ucb_pt_volt) + \"\\n\")\n",
    "file.write(\"NLCB:\\t\" + str(nlcd_pt_time) + \"\\t\" + str(ucb_pt_eden) +\"\\t\" + str(nlcd_pt_volt) + \"\\n\")"
   ],
   "outputs": [
    {
     "output_type": "execute_result",
     "data": {
      "text/plain": [
       "21"
      ]
     },
     "metadata": {},
     "execution_count": 652
    }
   ],
   "metadata": {}
  },
  {
   "cell_type": "markdown",
   "source": [
    "#### Plot GP Function, Scipy Optimize Function, against Raw Data"
   ],
   "metadata": {}
  },
  {
   "cell_type": "code",
   "execution_count": 653,
   "source": [
    "# make, scale post_test_grid\n",
    "_, _, post_test_grid, post_test_arr = grid_maker(torch.Tensor(X))\n",
    "volt_on_grid, _ = gp_func(post_test_arr.numpy())\n",
    "volt_on_grid = -1 * volt_on_grid.reshape(30,30).T\n",
    "raw_post_test_arr, raw_post_test_grid = un_norm_x(post_test_arr, post_test_grid, post_scaler)"
   ],
   "outputs": [],
   "metadata": {}
  },
  {
   "cell_type": "code",
   "execution_count": 654,
   "source": [
    "import plotly.graph_objects as go\n",
    "import matplotlib.pyplot as plt\n",
    "import matplotlib as mpl\n",
    "\n",
    "fig = go.Figure(data=[go.Scatter3d(z=volts_bol_dat, \n",
    "                                    x=time_bol_dat,\n",
    "                                    y=energy_den_bol_dat, \n",
    "                                    mode='markers',\n",
    "                                    marker={'color':'#72356c'},\n",
    "                                    name='GP regression')])\n",
    "fig.add_trace(go.Surface(z=volt_on_grid, \n",
    "                            x=raw_post_test_grid[:,0],\n",
    "                            y=raw_post_test_grid[:,1],\n",
    "                            opacity=0.8,\n",
    "                            colorscale = \"Burg\",\n",
    "                            colorbar=dict(thickness=15, len=0.5)))\n",
    "\n",
    "fig.update_layout(width=1000, height=800,\n",
    "                    legend=dict(orientation=\"h\", yanchor=\"top\", y=1.02, \n",
    "                    xanchor=\"left\",x=1), margin=dict(r=20, l=10, b=10, t=10), \n",
    "                        scene=dict(\n",
    "                        xaxis_title=\"Pulse width (μs)\",\n",
    "                        yaxis_title=\"Energy density new cone (J/cm^2)\",\n",
    "                        zaxis_title='Voltage')\n",
    "                    )\n",
    "camera = dict(\n",
    "        up=dict(x=0, y=0, z=1),\n",
    "        center=dict(x=0, y=0, z=0),\n",
    "        eye=dict(x=-2, y=-2.5, z=1.75)\n",
    ")\n",
    "fig.update_layout(scene_camera=camera)\n",
    "fig.update_layout(template=\"ggplot2\")\n",
    "fig.show()"
   ],
   "outputs": [
    {
     "output_type": "display_data",
     "data": {
      "application/vnd.plotly.v1+json": {
       "data": [
        {
         "marker": {
          "color": "#72356c"
         },
         "mode": "markers",
         "name": "GP regression",
         "x": [
          400,
          500,
          1000,
          1500,
          2000,
          2500,
          5000,
          500,
          1000,
          1500,
          2000,
          2500,
          5000,
          300,
          500,
          1000,
          1500,
          2000,
          2500,
          5000,
          200,
          300,
          400,
          500,
          800,
          100,
          200,
          300,
          400,
          495,
          500,
          1000,
          1500,
          2000,
          5000
         ],
         "y": [
          0.61,
          2.4,
          4.34,
          5.83,
          6.91,
          7.74,
          10.01,
          3.01,
          5.45,
          7.21,
          8.55,
          9.53,
          12.11,
          2.23,
          3.65,
          6.55,
          8.63,
          10.13,
          11.23,
          14.11,
          1.72,
          2.69,
          3.58,
          4.43,
          6.63,
          0.86,
          2.06,
          3.19,
          4.27,
          5.22,
          5.24,
          7.52,
          9.29,
          10.71,
          14.89
         ],
         "z": [
          400,
          600,
          600,
          600,
          600,
          600,
          600,
          650,
          650,
          650,
          650,
          650,
          650,
          700,
          700,
          700,
          700,
          700,
          700,
          700,
          750,
          750,
          750,
          750,
          750,
          800,
          800,
          800,
          800,
          800,
          799,
          738,
          720,
          716,
          716
         ],
         "type": "scatter3d"
        },
        {
         "colorbar": {
          "len": 0.5,
          "thickness": 15
         },
         "colorscale": [
          [
           0,
           "rgb(255, 198, 196)"
          ],
          [
           0.16666666666666666,
           "rgb(244, 163, 168)"
          ],
          [
           0.3333333333333333,
           "rgb(227, 129, 145)"
          ],
          [
           0.5,
           "rgb(204, 96, 125)"
          ],
          [
           0.6666666666666666,
           "rgb(173, 70, 108)"
          ],
          [
           0.8333333333333334,
           "rgb(139, 48, 88)"
          ],
          [
           1,
           "rgb(103, 32, 68)"
          ]
         ],
         "opacity": 0.8,
         "x": [
          -75.00000782310961,
          106.03447295725346,
          287.06895373761654,
          468.1034162640571,
          649.1379335522652,
          830.1724508404732,
          1011.2068951129912,
          1192.2413393855095,
          1373.2757836580276,
          1554.3103009462357,
          1735.344672203064,
          1916.379189491272,
          2097.41370677948,
          2278.448224067688,
          2459.482741355896,
          2640.517258644104,
          2821.551775932312,
          3002.58629322052,
          3183.620810508728,
          3364.6550357341766,
          3545.6895530223846,
          3726.7240703105927,
          3907.7585875988007,
          4088.7931048870087,
          4269.827330112457,
          4450.861847400665,
          4631.896364688873,
          4812.930881977081,
          4993.965399265289,
          5174.999916553497
         ],
         "y": [
          0.09999997720122339,
          0.6275861783325672,
          1.155172379463911,
          1.6827585273981094,
          2.2103448349237445,
          2.737931142449379,
          3.265517237186432,
          3.793103331923485,
          4.320689426660538,
          4.848275734186172,
          5.375861616134643,
          5.903447923660279,
          6.431034231185913,
          6.958620538711548,
          7.486206846237182,
          8.013793153762817,
          8.541379461288452,
          9.068965768814087,
          9.596552076339721,
          10.124137532711028,
          10.651723840236663,
          11.179310147762298,
          11.706896455287932,
          12.234482762813567,
          12.762068219184874,
          13.289654526710509,
          13.817240834236145,
          14.344827141761781,
          14.872413449287416,
          15.39999975681305
         ],
         "z": [
          [
           703.3751635977883,
           676.241209143531,
           517.9755539257486,
           397.32950638905777,
           395.4093786501143,
           399.663966213354,
           401.4435017105725,
           401.20916753336354,
           399.69994330317036,
           397.383631809302,
           394.5159317378005,
           391.2334021083072,
           387.606998847603,
           383.67429988781595,
           379.4623997324746,
           375.0045900698887,
           370.3492316179558,
           365.55841728815113,
           360.6973786306895,
           355.81891782181447,
           350.9477889913089,
           346.0688668607999,
           341.12100759827706,
           335.9975810859732,
           330.55385343908506,
           324.62097618992453,
           318.02585642124643,
           310.61462647486536,
           302.276048161931,
           292.95976221360644
          ],
          [
           748.7916108440282,
           755.0729770776289,
           551.670054241373,
           407.9394565701977,
           417.54029581853086,
           421.0962889154957,
           421.2523884386596,
           419.54426259389714,
           416.8710552666467,
           413.65714833535384,
           410.0882597265053,
           406.2446702523807,
           402.15372254898534,
           397.81919662269155,
           393.2433896168087,
           388.4448512856468,
           383.4681893310306,
           378.38115361307655,
           373.25998136368054,
           368.1689698725385,
           363.1406970198169,
           358.1613656094057,
           353.16317264803786,
           348.02448770439196,
           342.57791559169175,
           336.6261092458408,
           329.9648173906158,
           322.41086060095665,
           313.83068504444554,
           304.16294309370846
          ],
          [
           781.1711299290545,
           794.500627332048,
           606.8237669984908,
           466.71856396717425,
           451.3160663391084,
           447.5239384130612,
           443.7082494963778,
           439.4631585831097,
           435.0980692586542,
           430.69965778292783,
           426.261892640553,
           421.7549607936975,
           417.13424120564673,
           412.35305767616205,
           407.37818368173805,
           402.20705473436374,
           396.8784004532198,
           391.4668265854546,
           386.0624283815366,
           380.7439831937121,
           375.5540737191221,
           370.48119380122347,
           365.45050129803985,
           360.3236088471588,
           354.907303800649,
           348.9712436626418,
           342.2745238333756,
           334.5989995861516,
           325.7842960930416,
           315.7560216755963
          ],
          [
           799.0496396413221,
           805.6803299150331,
           665.9813829458043,
           535.0030923962079,
           493.11050437950587,
           478.00969249214495,
           468.3854184684163,
           460.72398667883954,
           454.2378038328369,
           448.41869666486696,
           442.9724700437176,
           437.7177048434137,
           432.513964758005,
           427.2496127602536,
           421.84561984364245,
           416.27191976521493,
           410.5598829128887,
           404.79339296088114,
           399.0805044179507,
           393.5183866644692,
           388.16235509236066,
           383.0044093597924,
           377.9623462400238,
           372.8791733752906,
           367.53242291647894,
           361.65368535191624,
           354.9589659646242,
           347.1882983876748,
           338.1488962392407,
           327.7507996574894
          ],
          [
           807.8828902293019,
           822.7543132885597,
           712.5205991131774,
           595.4271900051849,
           537.1721062397419,
           510.91396849666256,
           494.5692304831765,
           482.9614779207643,
           474.0941093630423,
           466.69329574451746,
           460.1384296884505,
           454.07540336268306,
           448.25087802011114,
           442.4775714080005,
           436.6210085506717,
           430.61708205937555,
           424.48926288955965,
           418.33483321142785,
           412.28549573409305,
           406.4617953431611,
           400.93507543679357,
           395.70228526880567,
           390.67358613614533,
           385.6714653211377,
           380.4405217803784,
           374.66863008434007,
           368.02119513628134,
           360.1880746899298,
           350.93705049656705,
           340.15944126112134
          ],
          [
           810.9367894253572,
           828.7598301571596,
           763.4274456493184,
           645.9268513794506,
           579.7177037944266,
           544.5851880158611,
           521.397130591462,
           505.7449423793496,
           494.4443844142673,
           485.3835085315233,
           477.6654904554608,
           470.7619893605714,
           464.2965745672844,
           458.00128524657663,
           451.6766617654213,
           445.2173266356866,
           438.63965018237593,
           432.06076019996163,
           425.643659980283,
           419.53843440180185,
           413.83628793685534,
           408.54072994756325,
           403.55403249786724,
           398.67621632060434,
           393.6151096427169,
           388.0086903847963,
           381.4630581571347,
           373.6076701464118,
           364.1619408791945,
           352.99444706741144
          ],
          [
           809.6702178260568,
           830.5283517036424,
           805.5347358647524,
           688.878292477917,
           619.9276741354721,
           577.7828097906729,
           547.9853759470382,
           528.6635613492296,
           515.0728497935678,
           504.34048291037027,
           495.4524519226177,
           487.7059295698937,
           480.59741112723805,
           473.78159995807846,
           466.9826322923811,
           460.04489492013937,
           452.98046731736264,
           445.9359412463968,
           439.11562218710014,
           432.7065198180432,
           426.82396837444605,
           421.4796998425312,
           416.56781510719077,
           411.8639427502502,
           407.0352777743507,
           401.6633114865052,
           395.28485569313534,
           387.45640707240904,
           377.83746749971067,
           366.2686214318896
          ],
          [
           805.0472086984457,
           828.8410822871351,
           813.4041930978472,
           728.3243791362248,
           657.9150482937697,
           609.7079560285064,
           573.4990630044178,
           551.4442573963188,
           535.8001195295872,
           523.4134981430135,
           513.3987015134404,
           504.83384460697323,
           497.0954265951146,
           489.77688084458197,
           482.5076660717802,
           475.0697909386165,
           467.477135940778,
           459.91966083271336,
           452.65565306474554,
           445.91757394265255,
           439.84939410857095,
           434.47260199798916,
           429.67274033469744,
           425.1992081736586,
           420.6748831538456,
           415.618009860602,
           409.4848578405622,
           401.7435033502045,
           391.97836844995425,
           379.99499849104814
          ],
          [
           797.6950137792144,
           823.6200913758834,
           820.4212122590385,
           762.3690349204853,
           693.1007658234266,
           639.8938228360253,
           597.349988037161,
           574.0615355553401,
           556.4944922262639,
           542.4515372521591,
           531.4156393588814,
           522.0740872762609,
           513.7285278425425,
           505.9443259425784,
           498.2203566208611,
           490.2599408204291,
           482.0904689638185,
           473.9648243981553,
           466.2107717954906,
           459.11564556508023,
           452.85648484292733,
           447.465679698164,
           442.81961166555413,
           438.63978359401926,
           434.5015331904133,
           429.8533325856771,
           424.0585640160997,
           416.4778750026024,
           406.6003241916633,
           394.1866603469522
          ],
          [
           788.0599989232915,
           815.4563289855714,
           820.600297867599,
           789.0388817675664,
           724.1860437506116,
           667.9506522806429,
           622.5060833256221,
           596.6340989988921,
           577.0634869523954,
           561.3032492451492,
           549.4465952014978,
           539.3588640974108,
           530.4296309428966,
           522.2421150667811,
           514.090530667258,
           505.58105686756517,
           496.775662348451,
           488.01679060950545,
           479.7197094217438,
           472.2364995367051,
           465.7811881732338,
           460.39747123112545,
           455.95160012264466,
           452.13577720672794,
           448.4754020304259,
           444.3435039261375,
           438.9976413439206,
           431.6678214545185,
           421.72010300707655,
           408.85644537542044
          ],
          [
           776.509534373523,
           804.7232841848154,
           815.0673099341988,
           804.0313727921069,
           747.538191978743,
           693.4824648517919,
           645.0251526677799,
           619.2330517727675,
           597.4704169586455,
           579.851771497731,
           567.4944364819013,
           556.6221236521563,
           547.1253284790765,
           538.6332764995865,
           530.0904993285006,
           520.995748047897,
           511.48060211347513,
           502.01180681736093,
           493.11165842318354,
           485.2067354203683,
           478.55089069695816,
           473.1983297458777,
           469.00365097718264,
           465.62870539227987,
           462.54779975369536,
           459.0545767410215,
           454.28827656041693,
           447.32041057575725,
           437.35567727920693,
           424.01637619410354
          ],
          [
           763.3752412728578,
           791.8290048849877,
           805.2643989449717,
           798.5716272594522,
           761.2477334960917,
           716.496326390052,
           670.6754076422799,
           641.7882674175662,
           617.8139535633959,
           598.4730637928391,
           585.6213416296342,
           573.7939168893805,
           563.7396838324871,
           555.0921984009518,
           546.1954132324978,
           536.4613382876275,
           526.1434032947009,
           515.8751605121795,
           506.3049363674838,
           497.94299499225315,
           491.0840341160699,
           485.7901885832771,
           481.90211486704004,
           479.0506934000836,
           476.65964221270656,
           473.94209268312125,
           469.90876978758604,
           463.44049394647595,
           453.5264518647831,
           439.6767509609481
          ],
          [
           748.9703252512295,
           777.2522228457537,
           792.4561468683193,
           790.0519038115034,
           767.504143207412,
           736.6742448205205,
           693.4074677747401,
           663.6760509099306,
           637.9725479232727,
           617.8208273247762,
           603.8678268006103,
           590.8187359679653,
           580.2309517654531,
           571.6101676279523,
           562.3806119864935,
           551.924851182136,
           540.6889080816246,
           529.518870471334,
           519.2053573397542,
           510.35110989312227,
           503.2898112200046,
           498.0864446186788,
           494.5644761504187,
           492.3236874687649,
           490.739673931795,
           488.9478990531506,
           485.825633747809,
           480.02868145898753,
           470.2533531363363,
           455.8442676828778
          ],
          [
           733.5864023345614,
           761.4647015788219,
           777.8947994764792,
           779.7587641414259,
           767.586617706187,
           747.6798444817391,
           715.7782624043616,
           683.709168059837,
           657.284825220054,
           636.685487233353,
           622.1902648997112,
           607.8320480093228,
           596.7471892225499,
           588.1859674342646,
           578.6133630164771,
           567.3123679934258,
           555.0251260388691,
           542.8392404233402,
           531.7045566601726,
           522.3255220068659,
           515.0682822741985,
           509.9922840243438,
           506.89951157849373,
           505.35906319868127,
           504.702883028,
           503.9963749444643,
           501.9877306489938,
           497.0776737473818,
           487.5590571230521,
           472.51862829573724
          ],
          [
           717.4815753009557,
           744.8577085469158,
           762.2875177488604,
           767.8295248370009,
           762.6260391587812,
           750.4132793291974,
           734.6153139829368,
           700.075606991709,
           675.3960679767717,
           655.8805287034204,
           640.4401001207287,
           624.9527210819526,
           613.4246594215665,
           604.7955512548822,
           594.8248458959495,
           582.5070057176852,
           569.0417771044316,
           555.7139106248601,
           543.6780901016647,
           533.7489715656606,
           526.3108901725898,
           521.405385834319,
           518.8078111740831,
           518.0576332651499,
           518.4492680587556,
           518.990163135405,
           518.3172618111855,
           514.5647803828181,
           505.46815658327245,
           489.68554716975484
          ],
          [
           700.8716796010522,
           727.7169053887487,
           745.9766720608395,
           754.4601770442055,
           754.1910342728721,
           747.8362885676122,
           735.7840853016579,
           711.2666077910299,
           691.6850277088456,
           675.0794469850578,
           658.2193462262155,
           641.5349693084021,
           629.8815650210797,
           621.392666295284,
           610.689090975742,
           597.3473439857285,
           582.6132611324274,
           567.9974814614313,
           554.9834318702917,
           544.4927807726021,
           536.9016059864537,
           532.2171540002698,
           530.1827999326107,
           530.3102926235949,
           531.8635271863889,
           533.8063886947893,
           534.6968385397399,
           532.4359904134351,
           524.007326289722,
           507.3015993257118
          ],
          [
           683.9294024629487,
           710.2396487350802,
           729.1548153190342,
           739.9151661212237,
           743.295416608729,
           741.0055133101722,
           732.6467150988315,
           717.3638874436102,
           705.1434649776729,
           692.8057694539192,
           674.780039492723,
           657.7254170373183,
           646.4283158187419,
           637.9347952510251,
           626.0932944922646,
           611.7491046617431,
           595.59863372224,
           579.5137636881791,
           565.4582712280082,
           554.4181456862243,
           546.7188818163827,
           542.314530523103,
           540.9122792657391,
           541.9994015343458,
           544.8162371770176,
           548.2952876554264,
           550.9536897656151,
           550.5699749096441,
           543.2054213755798,
           525.2588373940687
          ],
          [
           666.7895326374188,
           692.5636312689413,
           711.9595454183717,
           724.4579369586278,
           730.6045396487411,
           731.4767968392256,
           727.1503144709684,
           719.0615834178948,
           714.4021800558859,
           708.2223434207676,
           688.9524388620075,
           674.2765016307569,
           663.7305337636276,
           654.266201391995,
           641.1119582484704,
           625.7605306710984,
           607.8154328301997,
           590.0436310820951,
           574.9203542608791,
           563.3790253065507,
           555.6385780556782,
           551.5824052761815,
           550.880449177786,
           553.0008716231621,
           557.1668950982998,
           562.2841506099433,
           566.8488554014807,
           568.6959165830214,
           563.0932343523068,
           543.2990049111472
          ],
          [
           649.5565910138566,
           674.7894679278389,
           694.5039788271417,
           708.3187125958613,
           716.6123941434763,
           720.1506616641676,
           719.5147219503233,
           716.7913153899196,
           717.0489279999389,
           714.5365280676282,
           699.3551049599924,
           689.4662690314777,
           680.3798571768803,
           669.8693096256017,
           656.1833449916392,
           639.5284392444595,
           618.9659488037331,
           599.3128009537384,
           583.1712875424498,
           571.2272565930616,
           563.537941489876,
           559.9065696897105,
           559.9702970352233,
           563.1867081350752,
           568.7685246585597,
           575.5888406191511,
           582.0925961045266,
           586.2442968058438,
           583.6998900389395,
           560.8378873340697
          ],
          [
           632.3121528256189,
           656.9945990811929,
           676.884744819642,
           691.6869001424565,
           701.6743862801957,
           707.4752698612469,
           709.9311965677218,
           711.0072335172829,
           713.4614754536841,
           712.5890861666921,
           705.1487402137866,
           702.0530874525564,
           694.915278816007,
           683.5892221394353,
           672.4141828790961,
           652.7845587908255,
           628.5340264436558,
           606.9930754588719,
           590.0073175404152,
           577.8202292525592,
           570.3005172790173,
           567.1770700690283,
           568.0661741942873,
           572.4275572873337,
           579.472496933118,
           588.0307509300084,
           596.4102354829158,
           602.3611885419919,
           602.72774965136,
           576.9298099623381
          ],
          [
           615.1205826879175,
           639.2408953638582,
           659.1839852847356,
           674.7131120766655,
           686.0393817074174,
           693.7170530464525,
           698.635567814767,
           702.3606090624558,
           706.2041296499247,
           707.5242917394612,
           706.1308062739255,
           709.9869615674551,
           704.8122568683567,
           693.5133115699034,
           687.4202011799704,
           664.0047261960101,
           635.7582328463657,
           612.7357681406235,
           595.2387550760279,
           583.0307830918376,
           575.8216897645707,
           573.2918194424581,
           575.0564714967494,
           580.594882787924,
           589.1315724397343,
           599.4501530969421,
           609.6323571445732,
           616.6903892188581,
           614.2784727482599,
           591.1736893686009
          ],
          [
           598.0335117421815,
           621.5791305196792,
           641.4709191668697,
           657.5158607977414,
           669.8866224964802,
           679.0760759070398,
           685.8995890787625,
           691.5184103100158,
           696.5992199040234,
           699.9828268232126,
           702.4418095061519,
           708.2107346266991,
           705.5605042349516,
           697.5522973177076,
           698.1628701057639,
           670.3020964791777,
           639.8261569568106,
           616.243520621547,
           598.7153494662282,
           586.7577289699789,
           580.0140653209727,
           578.1600426782792,
           580.8361101778193,
           587.5623412476077,
           597.5992427811623,
           609.7042038668449,
           621.7124384806605,
           629.8035385646544,
           626.605418064696,
           604.2549982015553
          ],
          [
           581.092806941704,
           604.0514712905467,
           623.8034768279658,
           640.1891796822023,
           653.3532914077647,
           663.7246655168238,
           671.9960532157695,
           679.0142585158428,
           685.2032587427587,
           690.1980765323805,
           694.7446592200654,
           700.0084732599715,
           699.3967018594191,
           694.8504314608494,
           692.6942379959785,
           669.1060376684735,
           640.2833247412298,
           617.3551606757011,
           600.3502429751767,
           588.9349197629731,
           582.8121453360518,
           581.7055393568814,
           585.3091426067655,
           593.2069425702716,
           604.7259238315885,
           618.6472547180113,
           632.6358634945269,
           642.2466336738709,
           639.7716164913518,
           616.7866730567296
          ],
          [
           564.3328033700931,
           586.693285074359,
           606.2302964944859,
           622.8094383254902,
           636.5510683970174,
           647.8175531804661,
           657.172802577614,
           665.2406165486218,
           672.3494448631182,
           678.4723033365385,
           684.0318078312752,
           688.8599213046318,
           689.461347162501,
           686.6017070693831,
           681.2011709484541,
           662.1988731895798,
           637.3091224766163,
           616.0928780454076,
           600.1329225788548,
           589.536405949646,
           584.1754240672662,
           583.8693854927749,
           588.3914132667971,
           597.4105857911322,
           610.3543019949548,
           626.1027938847001,
           642.308604718382,
           654.0892260312933,
           653.1267216499587,
           628.8284913717787
          ],
          [
           547.7819352556808,
           569.5344988133418,
           588.7926118933567,
           605.4404028337897,
           619.5748859779316,
           631.4934366401305,
           641.643439625926,
           650.4914195170386,
           658.3078618537987,
           665.1631416341609,
           671.1847263821272,
           675.7987902114996,
           677.0304920897123,
           674.7867259780791,
           668.2067264387974,
           652.3674311724797,
           631.5289559238489,
           612.6407584567218,
           598.1260295567641,
           588.5764937746264,
           584.0895872143287,
           584.612033401772,
           590.0135527510827,
           600.0631556034452,
           614.3179739389018,
           631.8409504476438,
           650.4897512005397,
           665.1928617383423,
           665.2187776308642,
           640.2417434776703
          ],
          [
           531.4638204699021,
           552.6005224835042,
           571.5256817597933,
           588.1364828468065,
           602.5072006934516,
           614.8750644552875,
           625.5884955711695,
           634.9987039126017,
           643.3222208601476,
           650.6230496540971,
           656.839506935529,
           661.3434100751306,
           662.8722347585309,
           660.8950046042967,
           654.2859623434199,
           640.9419770421036,
           623.6336919865752,
           607.2755429670433,
           594.4485109100503,
           586.1050579827845,
           582.5658188384193,
           583.9147633168151,
           590.1244033969247,
           601.0680824490619,
           616.4473766407502,
           635.572842512403,
           656.7442328676595,
           675.2966593634824,
           678.2295108877353,
           650.8158142215384
          ],
          [
           515.3983177628592,
           535.9132160829238,
           554.4601259027454,
           570.9450137840909,
           585.420433889958,
           598.070107079792,
           609.1605387352097,
           618.9542745313016,
           627.6136971688894,
           635.1637733608072,
           641.4429202881574,
           645.8747141899428,
           647.5499523440807,
           645.8073868452881,
           639.7216408518794,
           628.5033821631293,
           614.1793804873805,
           600.2961884477345,
           589.2530641192627,
           582.1998519381218,
           579.638617661815,
           581.7804784951118,
           588.6947170846529,
           600.3504767172376,
           616.5852984634212,
           636.971973113448,
           660.4115543937814,
           683.5173888383683,
           692.1941323357462,
           659.69197982799
          ],
          [
           499.60210021182775,
           519.491386919002,
           537.6226446404553,
           553.9074509919441,
           568.3782065599983,
           581.1723014106487,
           592.4890911859796,
           602.5206482524818,
           611.3784625241931,
           619.0466873757927,
           625.3208181669028,
           629.6987855285284,
           631.4766345249395,
           630.0293368702537,
           624.7115795749868,
           615.3599259942641,
           603.5666094846631,
           591.9798333400781,
           582.7055582785587,
           576.9579250745151,
           575.36269725221,
           578.2338635850679,
           585.720749063571,
           597.8669716755296,
           614.6112380828085,
           635.7311138495684,
           660.6751245516623,
           687.847207877068,
           704.8963164064023,
           664.7736312644417
          ],
          [
           484.08919985303476,
           503.3512700985864,
           521.0366214794318,
           537.0602232443836,
           551.4363090521092,
           564.2629171696776,
           575.6846188285032,
           585.8367334922123,
           594.7864980242504,
           602.4860770369262,
           608.7205673313936,
           613.0614511919364,
           614.949043849184,
           613.8635707671049,
           609.4036346208393,
           601.7075683387295,
           592.0790627666943,
           582.5646430185416,
           574.9705036454523,
           570.4878649664381,
           569.8095188830539,
           573.3208411507449,
           581.2270150461659,
           593.6151152866377,
           610.4690710593829,
           631.6480204647448,
           656.8274563676152,
           685.3503515614569,
           715.041902723093,
           662.821387820085
          ],
          [
           468.8714018861065,
           487.5068608092818,
           504.72251762794525,
           520.4352866183777,
           534.643456016355,
           547.4121433945493,
           558.8414574625527,
           569.0211407686074,
           577.9824161013821,
           585.6561264128319,
           591.8345808200005,
           596.1569826421938,
           598.1790926525156,
           597.5022909313111,
           593.9106963296534,
           587.6859336300697,
           579.922266241649,
           572.2487218504511,
           566.2028849188491,
           562.9037292444727,
           563.0638512015219,
           567.1072714267134,
           575.26746664322,
           587.6396604058626,
           604.1887600315097,
           624.7067637800916,
           648.6582157406017,
           674.4295869215794,
           689.7909317299283,
           651.9566002874842
          ]
         ],
         "type": "surface"
        }
       ],
       "layout": {
        "template": {
         "data": {
          "barpolar": [
           {
            "marker": {
             "line": {
              "color": "rgb(237,237,237)",
              "width": 0.5
             },
             "pattern": {
              "fillmode": "overlay",
              "size": 10,
              "solidity": 0.2
             }
            },
            "type": "barpolar"
           }
          ],
          "bar": [
           {
            "error_x": {
             "color": "rgb(51,51,51)"
            },
            "error_y": {
             "color": "rgb(51,51,51)"
            },
            "marker": {
             "line": {
              "color": "rgb(237,237,237)",
              "width": 0.5
             },
             "pattern": {
              "fillmode": "overlay",
              "size": 10,
              "solidity": 0.2
             }
            },
            "type": "bar"
           }
          ],
          "carpet": [
           {
            "aaxis": {
             "endlinecolor": "rgb(51,51,51)",
             "gridcolor": "white",
             "linecolor": "white",
             "minorgridcolor": "white",
             "startlinecolor": "rgb(51,51,51)"
            },
            "baxis": {
             "endlinecolor": "rgb(51,51,51)",
             "gridcolor": "white",
             "linecolor": "white",
             "minorgridcolor": "white",
             "startlinecolor": "rgb(51,51,51)"
            },
            "type": "carpet"
           }
          ],
          "choropleth": [
           {
            "colorbar": {
             "outlinewidth": 0,
             "tickcolor": "rgb(237,237,237)",
             "ticklen": 6,
             "ticks": "inside"
            },
            "type": "choropleth"
           }
          ],
          "contourcarpet": [
           {
            "colorbar": {
             "outlinewidth": 0,
             "tickcolor": "rgb(237,237,237)",
             "ticklen": 6,
             "ticks": "inside"
            },
            "type": "contourcarpet"
           }
          ],
          "contour": [
           {
            "colorbar": {
             "outlinewidth": 0,
             "tickcolor": "rgb(237,237,237)",
             "ticklen": 6,
             "ticks": "inside"
            },
            "colorscale": [
             [
              0,
              "rgb(20,44,66)"
             ],
             [
              1,
              "rgb(90,179,244)"
             ]
            ],
            "type": "contour"
           }
          ],
          "heatmapgl": [
           {
            "colorbar": {
             "outlinewidth": 0,
             "tickcolor": "rgb(237,237,237)",
             "ticklen": 6,
             "ticks": "inside"
            },
            "colorscale": [
             [
              0,
              "rgb(20,44,66)"
             ],
             [
              1,
              "rgb(90,179,244)"
             ]
            ],
            "type": "heatmapgl"
           }
          ],
          "heatmap": [
           {
            "colorbar": {
             "outlinewidth": 0,
             "tickcolor": "rgb(237,237,237)",
             "ticklen": 6,
             "ticks": "inside"
            },
            "colorscale": [
             [
              0,
              "rgb(20,44,66)"
             ],
             [
              1,
              "rgb(90,179,244)"
             ]
            ],
            "type": "heatmap"
           }
          ],
          "histogram2dcontour": [
           {
            "colorbar": {
             "outlinewidth": 0,
             "tickcolor": "rgb(237,237,237)",
             "ticklen": 6,
             "ticks": "inside"
            },
            "colorscale": [
             [
              0,
              "rgb(20,44,66)"
             ],
             [
              1,
              "rgb(90,179,244)"
             ]
            ],
            "type": "histogram2dcontour"
           }
          ],
          "histogram2d": [
           {
            "colorbar": {
             "outlinewidth": 0,
             "tickcolor": "rgb(237,237,237)",
             "ticklen": 6,
             "ticks": "inside"
            },
            "colorscale": [
             [
              0,
              "rgb(20,44,66)"
             ],
             [
              1,
              "rgb(90,179,244)"
             ]
            ],
            "type": "histogram2d"
           }
          ],
          "histogram": [
           {
            "marker": {
             "pattern": {
              "fillmode": "overlay",
              "size": 10,
              "solidity": 0.2
             }
            },
            "type": "histogram"
           }
          ],
          "mesh3d": [
           {
            "colorbar": {
             "outlinewidth": 0,
             "tickcolor": "rgb(237,237,237)",
             "ticklen": 6,
             "ticks": "inside"
            },
            "type": "mesh3d"
           }
          ],
          "parcoords": [
           {
            "line": {
             "colorbar": {
              "outlinewidth": 0,
              "tickcolor": "rgb(237,237,237)",
              "ticklen": 6,
              "ticks": "inside"
             }
            },
            "type": "parcoords"
           }
          ],
          "pie": [
           {
            "automargin": true,
            "type": "pie"
           }
          ],
          "scatter3d": [
           {
            "line": {
             "colorbar": {
              "outlinewidth": 0,
              "tickcolor": "rgb(237,237,237)",
              "ticklen": 6,
              "ticks": "inside"
             }
            },
            "marker": {
             "colorbar": {
              "outlinewidth": 0,
              "tickcolor": "rgb(237,237,237)",
              "ticklen": 6,
              "ticks": "inside"
             }
            },
            "type": "scatter3d"
           }
          ],
          "scattercarpet": [
           {
            "marker": {
             "colorbar": {
              "outlinewidth": 0,
              "tickcolor": "rgb(237,237,237)",
              "ticklen": 6,
              "ticks": "inside"
             }
            },
            "type": "scattercarpet"
           }
          ],
          "scattergeo": [
           {
            "marker": {
             "colorbar": {
              "outlinewidth": 0,
              "tickcolor": "rgb(237,237,237)",
              "ticklen": 6,
              "ticks": "inside"
             }
            },
            "type": "scattergeo"
           }
          ],
          "scattergl": [
           {
            "marker": {
             "colorbar": {
              "outlinewidth": 0,
              "tickcolor": "rgb(237,237,237)",
              "ticklen": 6,
              "ticks": "inside"
             }
            },
            "type": "scattergl"
           }
          ],
          "scattermapbox": [
           {
            "marker": {
             "colorbar": {
              "outlinewidth": 0,
              "tickcolor": "rgb(237,237,237)",
              "ticklen": 6,
              "ticks": "inside"
             }
            },
            "type": "scattermapbox"
           }
          ],
          "scatterpolargl": [
           {
            "marker": {
             "colorbar": {
              "outlinewidth": 0,
              "tickcolor": "rgb(237,237,237)",
              "ticklen": 6,
              "ticks": "inside"
             }
            },
            "type": "scatterpolargl"
           }
          ],
          "scatterpolar": [
           {
            "marker": {
             "colorbar": {
              "outlinewidth": 0,
              "tickcolor": "rgb(237,237,237)",
              "ticklen": 6,
              "ticks": "inside"
             }
            },
            "type": "scatterpolar"
           }
          ],
          "scatter": [
           {
            "fillpattern": {
             "fillmode": "overlay",
             "size": 10,
             "solidity": 0.2
            },
            "type": "scatter"
           }
          ],
          "scatterternary": [
           {
            "marker": {
             "colorbar": {
              "outlinewidth": 0,
              "tickcolor": "rgb(237,237,237)",
              "ticklen": 6,
              "ticks": "inside"
             }
            },
            "type": "scatterternary"
           }
          ],
          "surface": [
           {
            "colorbar": {
             "outlinewidth": 0,
             "tickcolor": "rgb(237,237,237)",
             "ticklen": 6,
             "ticks": "inside"
            },
            "colorscale": [
             [
              0,
              "rgb(20,44,66)"
             ],
             [
              1,
              "rgb(90,179,244)"
             ]
            ],
            "type": "surface"
           }
          ],
          "table": [
           {
            "cells": {
             "fill": {
              "color": "rgb(237,237,237)"
             },
             "line": {
              "color": "white"
             }
            },
            "header": {
             "fill": {
              "color": "rgb(217,217,217)"
             },
             "line": {
              "color": "white"
             }
            },
            "type": "table"
           }
          ]
         },
         "layout": {
          "annotationdefaults": {
           "arrowhead": 0,
           "arrowwidth": 1
          },
          "autotypenumbers": "strict",
          "coloraxis": {
           "colorbar": {
            "outlinewidth": 0,
            "tickcolor": "rgb(237,237,237)",
            "ticklen": 6,
            "ticks": "inside"
           }
          },
          "colorscale": {
           "sequential": [
            [
             0,
             "rgb(20,44,66)"
            ],
            [
             1,
             "rgb(90,179,244)"
            ]
           ],
           "sequentialminus": [
            [
             0,
             "rgb(20,44,66)"
            ],
            [
             1,
             "rgb(90,179,244)"
            ]
           ]
          },
          "colorway": [
           "#F8766D",
           "#A3A500",
           "#00BF7D",
           "#00B0F6",
           "#E76BF3"
          ],
          "font": {
           "color": "rgb(51,51,51)"
          },
          "geo": {
           "bgcolor": "white",
           "lakecolor": "white",
           "landcolor": "rgb(237,237,237)",
           "showlakes": true,
           "showland": true,
           "subunitcolor": "white"
          },
          "hoverlabel": {
           "align": "left"
          },
          "hovermode": "closest",
          "paper_bgcolor": "white",
          "plot_bgcolor": "rgb(237,237,237)",
          "polar": {
           "angularaxis": {
            "gridcolor": "white",
            "linecolor": "white",
            "showgrid": true,
            "tickcolor": "rgb(51,51,51)",
            "ticks": "outside"
           },
           "bgcolor": "rgb(237,237,237)",
           "radialaxis": {
            "gridcolor": "white",
            "linecolor": "white",
            "showgrid": true,
            "tickcolor": "rgb(51,51,51)",
            "ticks": "outside"
           }
          },
          "scene": {
           "xaxis": {
            "backgroundcolor": "rgb(237,237,237)",
            "gridcolor": "white",
            "gridwidth": 2,
            "linecolor": "white",
            "showbackground": true,
            "showgrid": true,
            "tickcolor": "rgb(51,51,51)",
            "ticks": "outside",
            "zerolinecolor": "white"
           },
           "yaxis": {
            "backgroundcolor": "rgb(237,237,237)",
            "gridcolor": "white",
            "gridwidth": 2,
            "linecolor": "white",
            "showbackground": true,
            "showgrid": true,
            "tickcolor": "rgb(51,51,51)",
            "ticks": "outside",
            "zerolinecolor": "white"
           },
           "zaxis": {
            "backgroundcolor": "rgb(237,237,237)",
            "gridcolor": "white",
            "gridwidth": 2,
            "linecolor": "white",
            "showbackground": true,
            "showgrid": true,
            "tickcolor": "rgb(51,51,51)",
            "ticks": "outside",
            "zerolinecolor": "white"
           }
          },
          "shapedefaults": {
           "fillcolor": "black",
           "line": {
            "width": 0
           },
           "opacity": 0.3
          },
          "ternary": {
           "aaxis": {
            "gridcolor": "white",
            "linecolor": "white",
            "showgrid": true,
            "tickcolor": "rgb(51,51,51)",
            "ticks": "outside"
           },
           "baxis": {
            "gridcolor": "white",
            "linecolor": "white",
            "showgrid": true,
            "tickcolor": "rgb(51,51,51)",
            "ticks": "outside"
           },
           "bgcolor": "rgb(237,237,237)",
           "caxis": {
            "gridcolor": "white",
            "linecolor": "white",
            "showgrid": true,
            "tickcolor": "rgb(51,51,51)",
            "ticks": "outside"
           }
          },
          "xaxis": {
           "automargin": true,
           "gridcolor": "white",
           "linecolor": "white",
           "showgrid": true,
           "tickcolor": "rgb(51,51,51)",
           "ticks": "outside",
           "title": {
            "standoff": 15
           },
           "zerolinecolor": "white"
          },
          "yaxis": {
           "automargin": true,
           "gridcolor": "white",
           "linecolor": "white",
           "showgrid": true,
           "tickcolor": "rgb(51,51,51)",
           "ticks": "outside",
           "title": {
            "standoff": 15
           },
           "zerolinecolor": "white"
          }
         }
        },
        "legend": {
         "orientation": "h",
         "yanchor": "top",
         "y": 1.02,
         "xanchor": "left",
         "x": 1
        },
        "margin": {
         "r": 20,
         "l": 10,
         "b": 10,
         "t": 10
        },
        "width": 1000,
        "height": 800,
        "scene": {
         "xaxis": {
          "title": {
           "text": "Pulse width (μs)"
          }
         },
         "yaxis": {
          "title": {
           "text": "Energy density new cone (J/cm^2)"
          }
         },
         "zaxis": {
          "title": {
           "text": "Voltage"
          }
         },
         "camera": {
          "up": {
           "x": 0,
           "y": 0,
           "z": 1
          },
          "center": {
           "x": 0,
           "y": 0,
           "z": 0
          },
          "eye": {
           "x": -2,
           "y": -2.5,
           "z": 1.75
          }
         }
        }
       },
       "config": {
        "plotlyServerURL": "https://plot.ly"
       }
      }
     },
     "metadata": {}
    }
   ],
   "metadata": {}
  }
 ],
 "metadata": {
  "orig_nbformat": 4,
  "language_info": {
   "name": "python",
   "version": "3.9.16",
   "mimetype": "text/x-python",
   "codemirror_mode": {
    "name": "ipython",
    "version": 3
   },
   "pygments_lexer": "ipython3",
   "nbconvert_exporter": "python",
   "file_extension": ".py"
  },
  "kernelspec": {
   "name": "python3",
   "display_name": "Python 3.9.16 64-bit ('FEGP': conda)"
  },
  "interpreter": {
   "hash": "b00f9bca1c18369f730e284e4d0522d8a3e0f0b629e30dad99ec4bb4df6f08b7"
  }
 },
 "nbformat": 4,
 "nbformat_minor": 2
}