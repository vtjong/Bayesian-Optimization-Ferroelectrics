{
 "cells": [
  {
   "cell_type": "code",
   "execution_count": 143,
   "source": [
    "import sys\n",
    "from tkinter import Y\n",
    "import numpy as np\n",
    "import pandas as pd\n",
    "import torch\n",
    "import gpytorch\n",
    "import botorch as bo\n",
    "import botorch.fit as bofit\n",
    "import plotly.express as px\n",
    "import matplotlib.pyplot as plt\n",
    "sys.path.append('..')\n",
    "sys.path.insert(0, '../src')"
   ],
   "outputs": [],
   "metadata": {}
  },
  {
   "cell_type": "code",
   "execution_count": 144,
   "source": [
    "# custom imports\n",
    "from model import GPModel\n",
    "from GPy.models import GPRegression\n",
    "from acq_funcs import EI, PI, cust_acq, thompson"
   ],
   "outputs": [],
   "metadata": {}
  },
  {
   "cell_type": "markdown",
   "source": [
    "### Data Read and Pre-processing"
   ],
   "metadata": {}
  },
  {
   "cell_type": "code",
   "execution_count": 145,
   "source": [
    "# read data and display\n",
    "def read_dat(dir=\"/Users/valenetjong/Bayesian-Optimization-Ferroelectrics/data/\",\n",
    "            src_file = \"Bolometer_readings_PulseForge.xlsx\", sheet= \"Combined\"):\n",
    "    file = dir + src_file\n",
    "    fe_data = pd.read_excel(file, sheet_name=sheet, usecols=['Energy density new cone (J/cm^2)',\n",
    "                            'Time (ms)','2 Qsw/(U+|D|) 1e6cycles'])\n",
    "    fe_data.dropna(subset=['2 Qsw/(U+|D|) 1e6cycles'], inplace=True)\n",
    "    fe_data = fe_data[fe_data['2 Qsw/(U+|D|) 1e6cycles']!= 0]\n",
    "    return fe_data\n",
    "\n",
    "def display_data(fe_data):\n",
    "    \"\"\"\n",
    "    [display_data(fe_data)] creates a cross-section scatter plot of all combinations\n",
    "    of the four input parameters and single output parameter.\n",
    "    \"\"\"\n",
    "    # plot each cross-section\n",
    "    fig = px.scatter_matrix(fe_data, dimensions=['Energy density new cone (J/cm^2)', \n",
    "    \"Time (ms)\", \"2 Qsw/(U+|D|) 1e6cycles\"], color_discrete_sequence=[\"#72356c\"]*23)\n",
    "    fig.update_layout(template=\"ggplot2\")\n",
    "    # fig.update_layout(margin=dict(r=20, l=10, b=10, t=10))\n",
    "    fig.update_layout(width = 800, height=800)\n",
    "    fig.show()"
   ],
   "outputs": [],
   "metadata": {}
  },
  {
   "cell_type": "code",
   "execution_count": 146,
   "source": [
    "fe_data = read_dat()\n",
    "# print(fe_data)\n",
    "# display_data(fe_data)"
   ],
   "outputs": [],
   "metadata": {}
  },
  {
   "cell_type": "code",
   "execution_count": 147,
   "source": [
    "# define scaler and inverse scaling\n",
    "from sklearn.preprocessing import MinMaxScaler, StandardScaler\n",
    "scaler =  MinMaxScaler()\n",
    "y_scaler = StandardScaler()\n",
    "\n",
    "def un_norm_x(train_x, test_grid, scaler):\n",
    "    return scaler.inverse_transform(train_x), scaler.inverse_transform(test_grid)    \n",
    "\n",
    "def un_norm_y(y_tensor, y_scaler):\n",
    "    return y_scaler.inverse_transform(y_tensor)"
   ],
   "outputs": [],
   "metadata": {}
  },
  {
   "cell_type": "code",
   "execution_count": 148,
   "source": [
    "from torch.utils.data import DataLoader, random_split\n",
    "\n",
    "def datasetmaker(fe_data, train_ratio=1.0):\n",
    "    \"\"\"\n",
    "    [datasetmaker(fe_data)] filters and transforms the data in pandas df [fe_data] \n",
    "    into two tensors, [train_x] for input and [train_y] for output tensors. \n",
    "    \"\"\"\n",
    "    # filter training data \n",
    "    energy_den = fe_data['Energy density new cone (J/cm^2)'].values\n",
    "    time = fe_data['Time (ms)'].values\n",
    "    x_dat = torch.tensor(np.array([time, energy_den])).T\n",
    "    y_dat = torch.tensor(fe_data['2 Qsw/(U+|D|) 1e6cycles'].values)\n",
    "\n",
    "    # scale inputs\n",
    "    scaler.fit(x_dat)\n",
    "    x_dat = torch.tensor(scaler.transform(x_dat), dtype=torch.float64)\n",
    "\n",
    "    # scale outputs\n",
    "    y_dat = torch.tensor(y_scaler.fit_transform(y_dat.reshape(-1,1)), dtype=torch.float64).flatten()\n",
    "\n",
    "    # split train and test set\n",
    "    train_size = int(train_ratio * len(x_dat))  # train_ratio% for training\n",
    "    train_x, test_x = x_dat[:train_size], x_dat[train_size:]\n",
    "    train_y, test_y = y_dat[:train_size], y_dat[train_size:]\n",
    "    return x_dat, train_x, test_x, train_y, test_y"
   ],
   "outputs": [],
   "metadata": {}
  },
  {
   "cell_type": "code",
   "execution_count": 149,
   "source": [
    "# make training data, maintain params to de-normalize\n",
    "# x_sd_mean, y_sd_mean, train_x, train_y = datasetmaker(fe_data)\n",
    "x_dat, train_x, test_x, train_y, test_y = datasetmaker(fe_data)"
   ],
   "outputs": [],
   "metadata": {}
  },
  {
   "cell_type": "markdown",
   "source": [
    "### Grid/Parameter Space"
   ],
   "metadata": {}
  },
  {
   "cell_type": "code",
   "execution_count": 150,
   "source": [
    "# create grid for grid search\n",
    "def grid_helper(grid_size, num_params, grid_bounds):\n",
    "    \"\"\"\n",
    "    [grid_helper(grid_size, num_params, grid_bounds)] returns a grid of dimensions\n",
    "    [grid_size] by [num_params], which dictates the parameter space for GP to be \n",
    "    conducted over. \n",
    "    \"\"\"\n",
    "    grid = torch.zeros(grid_size, num_params)\n",
    "    f_grid_diff = lambda i, x, y : float((x[i][1] - x[i][0]) / (y-2))\n",
    "    for i in range(num_params):\n",
    "        grid_diff = f_grid_diff(i, grid_bounds, grid_size)\n",
    "        grid[:, i] = torch.linspace(grid_bounds[i][0] - grid_diff, \n",
    "                                    grid_bounds[i][1] + grid_diff, grid_size)\n",
    "    return grid\n",
    "\n",
    "def grid_maker(x_dat, num_points=30):\n",
    "    \"\"\"\n",
    "    [grid_maker(x_dat, num_points=30)] creates grids to be used for gaussian \n",
    "    process predictions. It outputs the dimension of the grid [num_params], \n",
    "    paramater space grid [test_grid], and [test_arr].\n",
    "    \"\"\"\n",
    "    # define grid between bounds of RTA time, RTA temp\n",
    "    num_params = x_dat.size(dim=1)\n",
    "    grid_bounds = [(x_dat[:,i].min(), x_dat[:,i].max()) for i in range(num_params)]\n",
    "\n",
    "    # set up test_grid for predictions\n",
    "    test_grid = grid_helper(num_points, num_params, grid_bounds)\n",
    "\n",
    "    # create n-D grid with n = num_params\n",
    "    args = (test_grid[:, i] for i in range(num_params))\n",
    "    test_arr = torch.cartesian_prod(*args)\n",
    "    return grid_bounds, num_params, test_grid, test_arr\n"
   ],
   "outputs": [],
   "metadata": {}
  },
  {
   "cell_type": "code",
   "execution_count": 151,
   "source": [
    "# create grid based on parameter space for search\n",
    "grid_bounds, num_params, test_grid, test_arr = grid_maker(x_dat)"
   ],
   "outputs": [],
   "metadata": {}
  },
  {
   "cell_type": "markdown",
   "source": [
    "### Noise Calculations"
   ],
   "metadata": {}
  },
  {
   "cell_type": "markdown",
   "source": [
    "Our figure of merit, fom, is $2 Q_{sw}/(U+|D|),$ so error propagation would result in a error of $\\sigma_{fom} = |fom|\\sqrt{{(\\sigma_{Q_{sw}}/Q_{sw}})^2+{(\\sigma_U^2 + \\sigma_{|D|}^2)/(U+|D|)^2)}}$. We have data for $2Pr$ measurements wrt device area. Using the $10\\mu$ m $\\times 10\\mu$ m data, we approximate the error for the figure of merit as simply $\\sigma_{2Pr}$, as we do not have $\\sigma_U$ or $\\sigma_D.$ \n"
   ],
   "metadata": {}
  },
  {
   "cell_type": "markdown",
   "source": [
    "### Initialize Model"
   ],
   "metadata": {}
  },
  {
   "cell_type": "code",
   "execution_count": 152,
   "source": [
    "# configuration parameters for training\n",
    "class Config():\n",
    "    def __init__(self):\n",
    "        self.epochs = 5000\n",
    "        self.kernel = \"matern\"\n",
    "        self.lr = 0.005\n",
    "        self.lscale_1 = 0.11\n",
    "        self.lscale_2 = 0.05\n",
    "        self.lscale_3 = None\n",
    "        self.lscale_4 = None\n",
    "        self.dim = 2\n",
    "        self.noise = 0.1\n",
    "\n",
    "config = Config()"
   ],
   "outputs": [],
   "metadata": {}
  },
  {
   "cell_type": "code",
   "execution_count": 153,
   "source": [
    "# make model\n",
    "def kernel_func(config_kernel, num_params, lscale):\n",
    "    \"\"\"\n",
    "    [kernel_func(config_kernel, num_params, lscale)] returns kernel function with \n",
    "    dimensions specified by [num_params]. \n",
    "    \"\"\"\n",
    "    if config_kernel == \"rbf\":\n",
    "        return gpytorch.kernels.ScaleKernel(\n",
    "            gpytorch.kernels.RBFKernel(ard_num_dims=num_params))\n",
    "    elif config_kernel == \"matern\":\n",
    "        return gpytorch.kernels.ScaleKernel(gpytorch.kernels.MaternKernel(ard_num_dims=num_params, \n",
    "        lengthscale = torch.tensor(lscale), lengthscale_constraint = gpytorch.constraints.GreaterThan(5e-2), nu=1.5))\n",
    "\n",
    "def make_model(train_x, train_y, num_params, config):\n",
    "    \"\"\"\n",
    "    [make_model(train_x, train_y, num_params, config)] returns likelihood and \n",
    "    model with lengthscale, noise, kernel function specified by sweeps. \n",
    "    \"\"\"\n",
    "    if config.dim == 2:\n",
    "        lscale = [config.lscale_1, config.lscale_2]\n",
    "    elif config.dim == 4:\n",
    "        lscale = [config.lscale_1, config.lscale_2, config.lscale_3, config.lscale_4]\n",
    "    kernel = kernel_func(config.kernel, num_params, lscale)\n",
    "    \n",
    "    print(kernel)\n",
    "    num_samples = len(train_x)\n",
    "    noise = config.noise*torch.ones(num_samples)\n",
    "    likelihood = gpytorch.likelihoods.FixedNoiseGaussianLikelihood(noise=noise)\n",
    "    model = GPModel(train_x, train_y, likelihood, kernel)\n",
    "\n",
    "    return likelihood, model, lscale\n",
    "    "
   ],
   "outputs": [],
   "metadata": {}
  },
  {
   "cell_type": "code",
   "execution_count": 154,
   "source": [
    "def intermediate_plot(f, ax, obs, title):\n",
    "    im = ax.imshow(obs.mean.view(30, 30), aspect='equal',\n",
    "                extent=[grid_bounds[0][0].item(), grid_bounds[0][1].item(),\n",
    "                            grid_bounds[1][0].item(), grid_bounds[1][1].item()])\n",
    "    f.colorbar(im)\n",
    "    ax.set_title(title)"
   ],
   "outputs": [],
   "metadata": {}
  },
  {
   "cell_type": "markdown",
   "source": [
    "### GP Training and Eval"
   ],
   "metadata": {}
  },
  {
   "cell_type": "code",
   "execution_count": 155,
   "source": [
    "from botorch.models.fully_bayesian import SaasFullyBayesianSingleTaskGP\n",
    "from botorch.models.transforms.outcome import OutcomeTransform"
   ],
   "outputs": [],
   "metadata": {}
  },
  {
   "cell_type": "code",
   "execution_count": 156,
   "source": [
    "# likelihood, model, lscale = make_model(train_x, train_y, num_params, config)\n",
    "# model.covar_module.base_kernel.lengthscale = torch.Tensor(lscale)\n",
    "# mll = gpytorch.mlls.ExactMarginalLogLikelihood(likelihood, model)\n",
    "\n",
    "# train_y = train_y.reshape(-1,1)\n",
    "\n",
    "# model = SaasFullyBayesianSingleTaskGP(train_x, train_y)\n",
    "# mll = bofit.fit_fully_bayesian_model_nuts(model)"
   ],
   "outputs": [],
   "metadata": {}
  },
  {
   "cell_type": "code",
   "execution_count": 157,
   "source": [
    "from gpytorch.priors import LogNormalPrior, NormalPrior, UniformPrior\n",
    "import pyro\n",
    "from pyro.infer.mcmc import NUTS, MCMC, HMC"
   ],
   "outputs": [],
   "metadata": {}
  },
  {
   "cell_type": "code",
   "execution_count": 159,
   "source": [
    "print(train_y)"
   ],
   "outputs": [
    {
     "output_type": "stream",
     "name": "stdout",
     "text": [
      "tensor([-1.3176,  0.1374, -0.6515,  1.0469,  0.6677,  1.6357, -0.9229,  1.0761,\n",
      "        -1.0528,  0.8119,  0.7774, -1.8093,  0.2165,  0.0681,  0.0590,  0.5378,\n",
      "        -1.9156, -1.6578, -0.3066,  0.7753,  0.9508,  0.7571,  0.1167],\n",
      "       dtype=torch.float64)\n"
     ]
    }
   ],
   "metadata": {}
  },
  {
   "cell_type": "code",
   "execution_count": 163,
   "source": [
    "import os\n",
    "\n",
    "smoke_test = ('CI' in os.environ)\n",
    "num_samples = 2 if smoke_test else 100\n",
    "warmup_steps = 2 if smoke_test else 100\n",
    "num_samples = len(train_x)\n",
    "noise = config.noise*torch.ones(num_samples)\n",
    "likelihood = gpytorch.likelihoods.FixedNoiseGaussianLikelihood(noise=noise)\n",
    "if config.dim == 2:\n",
    "    lscale = [config.lscale_1, config.lscale_2]\n",
    "elif config.dim == 4:\n",
    "    lscale = [config.lscale_1, config.lscale_2, config.lscale_3, config.lscale_4]\n",
    "kernel = kernel_func(config.kernel, num_params, lscale)\n",
    "\n",
    "model = GPModel(train_x, train_y, likelihood, kernel)\n",
    "\n",
    "model.mean_module.register_prior(\"mean_prior\", UniformPrior(-1, 1), \"constant\")\n",
    "# model.covar_module.base_kernel.register_prior(\"lengthscale_prior\", UniformPrior(0.01, 0.5), \"lengthscale\")\n",
    "# model.covar_module.register_prior(\"outputscale_prior\", UniformPrior(1, 2), \"outputscale\")\n",
    "# likelihood.register_prior(\"noise_prior\", UniformPrior(0.01, 0.5), \"noise\")\n",
    "\n",
    "mll = gpytorch.mlls.ExactMarginalLogLikelihood(likelihood, model)\n",
    "\n",
    "def pyro_model(x, y):\n",
    "    with gpytorch.settings.fast_computations(False, False, False):\n",
    "        sampled_model = model.pyro_sample_from_prior()\n",
    "        output = sampled_model.likelihood(sampled_model(x))\n",
    "        pyro.sample(\"obs\", output, obs=y)\n",
    "    return y\n",
    "\n",
    "nuts_kernel = NUTS(pyro_model)\n",
    "mcmc_run = MCMC(nuts_kernel, num_samples=num_samples, warmup_steps=warmup_steps, disable_progbar=smoke_test)\n",
    "mcmc_run.run(train_x, train_y)"
   ],
   "outputs": [
    {
     "output_type": "stream",
     "name": "stderr",
     "text": [
      "Sample: 100%|██████████| 123/123 [00:01, 74.31it/s, step size=9.04e-01, acc. prob=0.906]\n"
     ]
    }
   ],
   "metadata": {}
  },
  {
   "cell_type": "code",
   "execution_count": 166,
   "source": [
    "model.pyro_load_from_samples(mcmc_run.get_samples())\n",
    "model.eval()\n",
    "# print(train_y.shape)\n",
    "# print(train_x.shape)\n",
    "output = model(train_x.detach())"
   ],
   "outputs": [
    {
     "output_type": "error",
     "ename": "RuntimeError",
     "evalue": "Can't detach views in-place. Use detach() instead. If you are using DistributedDataParallel (DDP) for training, and gradient_as_bucket_view is set as True, gradients are views of DDP buckets, and hence detach_() cannot be called on these gradients. To fix this error, please refer to the Optimizer.zero_grad() function in torch/optim/optimizer.py as the solution.",
     "traceback": [
      "\u001b[0;31m---------------------------------------------------------------------------\u001b[0m",
      "\u001b[0;31mRuntimeError\u001b[0m                              Traceback (most recent call last)",
      "Cell \u001b[0;32mIn[166], line 5\u001b[0m\n\u001b[1;32m      2\u001b[0m model\u001b[38;5;241m.\u001b[39meval()\n\u001b[1;32m      3\u001b[0m \u001b[38;5;66;03m# print(train_y.shape)\u001b[39;00m\n\u001b[1;32m      4\u001b[0m \u001b[38;5;66;03m# print(train_x.shape)\u001b[39;00m\n\u001b[0;32m----> 5\u001b[0m output \u001b[38;5;241m=\u001b[39m \u001b[43mmodel\u001b[49m\u001b[43m(\u001b[49m\u001b[43mtrain_x\u001b[49m\u001b[38;5;241;43m.\u001b[39;49m\u001b[43mdetach\u001b[49m\u001b[43m(\u001b[49m\u001b[43m)\u001b[49m\u001b[43m)\u001b[49m\n",
      "File \u001b[0;32m~/opt/anaconda3/envs/FEGP/lib/python3.9/site-packages/gpytorch/models/exact_gp.py:320\u001b[0m, in \u001b[0;36mExactGP.__call__\u001b[0;34m(self, *args, **kwargs)\u001b[0m\n\u001b[1;32m    318\u001b[0m \u001b[38;5;66;03m# Make the prediction\u001b[39;00m\n\u001b[1;32m    319\u001b[0m \u001b[38;5;28;01mwith\u001b[39;00m settings\u001b[38;5;241m.\u001b[39mcg_tolerance(settings\u001b[38;5;241m.\u001b[39meval_cg_tolerance\u001b[38;5;241m.\u001b[39mvalue()):\n\u001b[0;32m--> 320\u001b[0m     predictive_mean, predictive_covar \u001b[38;5;241m=\u001b[39m \u001b[38;5;28;43mself\u001b[39;49m\u001b[38;5;241;43m.\u001b[39;49m\u001b[43mprediction_strategy\u001b[49m\u001b[38;5;241;43m.\u001b[39;49m\u001b[43mexact_prediction\u001b[49m\u001b[43m(\u001b[49m\u001b[43mfull_mean\u001b[49m\u001b[43m,\u001b[49m\u001b[43m \u001b[49m\u001b[43mfull_covar\u001b[49m\u001b[43m)\u001b[49m\n\u001b[1;32m    322\u001b[0m \u001b[38;5;66;03m# Reshape predictive mean to match the appropriate event shape\u001b[39;00m\n\u001b[1;32m    323\u001b[0m predictive_mean \u001b[38;5;241m=\u001b[39m predictive_mean\u001b[38;5;241m.\u001b[39mview(\u001b[38;5;241m*\u001b[39mbatch_shape, \u001b[38;5;241m*\u001b[39mtest_shape)\u001b[38;5;241m.\u001b[39mcontiguous()\n",
      "File \u001b[0;32m~/opt/anaconda3/envs/FEGP/lib/python3.9/site-packages/gpytorch/models/exact_prediction_strategies.py:273\u001b[0m, in \u001b[0;36mDefaultPredictionStrategy.exact_prediction\u001b[0;34m(self, joint_mean, joint_covar)\u001b[0m\n\u001b[1;32m    268\u001b[0m     test_test_covar \u001b[38;5;241m=\u001b[39m joint_covar[\u001b[38;5;241m.\u001b[39m\u001b[38;5;241m.\u001b[39m\u001b[38;5;241m.\u001b[39m, \u001b[38;5;28mself\u001b[39m\u001b[38;5;241m.\u001b[39mnum_train :, \u001b[38;5;28mself\u001b[39m\u001b[38;5;241m.\u001b[39mnum_train :]\n\u001b[1;32m    269\u001b[0m     test_train_covar \u001b[38;5;241m=\u001b[39m joint_covar[\u001b[38;5;241m.\u001b[39m\u001b[38;5;241m.\u001b[39m\u001b[38;5;241m.\u001b[39m, \u001b[38;5;28mself\u001b[39m\u001b[38;5;241m.\u001b[39mnum_train :, : \u001b[38;5;28mself\u001b[39m\u001b[38;5;241m.\u001b[39mnum_train]\n\u001b[1;32m    271\u001b[0m \u001b[38;5;28;01mreturn\u001b[39;00m (\n\u001b[1;32m    272\u001b[0m     \u001b[38;5;28mself\u001b[39m\u001b[38;5;241m.\u001b[39mexact_predictive_mean(test_mean, test_train_covar),\n\u001b[0;32m--> 273\u001b[0m     \u001b[38;5;28;43mself\u001b[39;49m\u001b[38;5;241;43m.\u001b[39;49m\u001b[43mexact_predictive_covar\u001b[49m\u001b[43m(\u001b[49m\u001b[43mtest_test_covar\u001b[49m\u001b[43m,\u001b[49m\u001b[43m \u001b[49m\u001b[43mtest_train_covar\u001b[49m\u001b[43m)\u001b[49m,\n\u001b[1;32m    274\u001b[0m )\n",
      "File \u001b[0;32m~/opt/anaconda3/envs/FEGP/lib/python3.9/site-packages/gpytorch/models/exact_prediction_strategies.py:315\u001b[0m, in \u001b[0;36mDefaultPredictionStrategy.exact_predictive_covar\u001b[0;34m(self, test_test_covar, test_train_covar)\u001b[0m\n\u001b[1;32m    311\u001b[0m dist \u001b[38;5;241m=\u001b[39m \u001b[38;5;28mself\u001b[39m\u001b[38;5;241m.\u001b[39mtrain_prior_dist\u001b[38;5;241m.\u001b[39m\u001b[38;5;18m__class__\u001b[39m(\n\u001b[1;32m    312\u001b[0m     torch\u001b[38;5;241m.\u001b[39mzeros_like(\u001b[38;5;28mself\u001b[39m\u001b[38;5;241m.\u001b[39mtrain_prior_dist\u001b[38;5;241m.\u001b[39mmean), \u001b[38;5;28mself\u001b[39m\u001b[38;5;241m.\u001b[39mtrain_prior_dist\u001b[38;5;241m.\u001b[39mlazy_covariance_matrix\n\u001b[1;32m    313\u001b[0m )\n\u001b[1;32m    314\u001b[0m \u001b[38;5;28;01mif\u001b[39;00m settings\u001b[38;5;241m.\u001b[39mdetach_test_caches\u001b[38;5;241m.\u001b[39mon():\n\u001b[0;32m--> 315\u001b[0m     train_train_covar \u001b[38;5;241m=\u001b[39m \u001b[38;5;28;43mself\u001b[39;49m\u001b[38;5;241;43m.\u001b[39;49m\u001b[43mlikelihood\u001b[49m\u001b[43m(\u001b[49m\u001b[43mdist\u001b[49m\u001b[43m,\u001b[49m\u001b[43m \u001b[49m\u001b[38;5;28;43mself\u001b[39;49m\u001b[38;5;241;43m.\u001b[39;49m\u001b[43mtrain_inputs\u001b[49m\u001b[43m)\u001b[49m\u001b[38;5;241;43m.\u001b[39;49m\u001b[43mlazy_covariance_matrix\u001b[49m\u001b[38;5;241;43m.\u001b[39;49m\u001b[43mdetach\u001b[49m\u001b[43m(\u001b[49m\u001b[43m)\u001b[49m\n\u001b[1;32m    316\u001b[0m \u001b[38;5;28;01melse\u001b[39;00m:\n\u001b[1;32m    317\u001b[0m     train_train_covar \u001b[38;5;241m=\u001b[39m \u001b[38;5;28mself\u001b[39m\u001b[38;5;241m.\u001b[39mlikelihood(dist, \u001b[38;5;28mself\u001b[39m\u001b[38;5;241m.\u001b[39mtrain_inputs)\u001b[38;5;241m.\u001b[39mlazy_covariance_matrix\n",
      "File \u001b[0;32m~/opt/anaconda3/envs/FEGP/lib/python3.9/site-packages/linear_operator/operators/_linear_operator.py:1291\u001b[0m, in \u001b[0;36mLinearOperator.detach\u001b[0;34m(self)\u001b[0m\n\u001b[1;32m   1285\u001b[0m \u001b[38;5;28;01mdef\u001b[39;00m \u001b[38;5;21mdetach\u001b[39m(\u001b[38;5;28mself\u001b[39m) \u001b[38;5;241m-\u001b[39m\u001b[38;5;241m>\u001b[39m LinearOperator:\n\u001b[1;32m   1286\u001b[0m \u001b[38;5;250m    \u001b[39m\u001b[38;5;124;03m\"\"\"\u001b[39;00m\n\u001b[1;32m   1287\u001b[0m \u001b[38;5;124;03m    Removes the LinearOperator from the current computation graph.\u001b[39;00m\n\u001b[1;32m   1288\u001b[0m \u001b[38;5;124;03m    (In practice, this function removes all Tensors that make up the\u001b[39;00m\n\u001b[1;32m   1289\u001b[0m \u001b[38;5;124;03m    :obj:`~linear_operator.opeators.LinearOperator` from the computation graph.)\u001b[39;00m\n\u001b[1;32m   1290\u001b[0m \u001b[38;5;124;03m    \"\"\"\u001b[39;00m\n\u001b[0;32m-> 1291\u001b[0m     \u001b[38;5;28;01mreturn\u001b[39;00m \u001b[38;5;28;43mself\u001b[39;49m\u001b[38;5;241;43m.\u001b[39;49m\u001b[43mclone\u001b[49m\u001b[43m(\u001b[49m\u001b[43m)\u001b[49m\u001b[38;5;241;43m.\u001b[39;49m\u001b[43mdetach_\u001b[49m\u001b[43m(\u001b[49m\u001b[43m)\u001b[49m\n",
      "File \u001b[0;32m~/opt/anaconda3/envs/FEGP/lib/python3.9/site-packages/linear_operator/operators/_linear_operator.py:1299\u001b[0m, in \u001b[0;36mLinearOperator.detach_\u001b[0;34m(self)\u001b[0m\n\u001b[1;32m   1297\u001b[0m \u001b[38;5;28;01mfor\u001b[39;00m arg \u001b[38;5;129;01min\u001b[39;00m \u001b[38;5;28mself\u001b[39m\u001b[38;5;241m.\u001b[39m_args:\n\u001b[1;32m   1298\u001b[0m     \u001b[38;5;28;01mif\u001b[39;00m \u001b[38;5;28mhasattr\u001b[39m(arg, \u001b[38;5;124m\"\u001b[39m\u001b[38;5;124mdetach\u001b[39m\u001b[38;5;124m\"\u001b[39m):\n\u001b[0;32m-> 1299\u001b[0m         \u001b[43marg\u001b[49m\u001b[38;5;241;43m.\u001b[39;49m\u001b[43mdetach_\u001b[49m\u001b[43m(\u001b[49m\u001b[43m)\u001b[49m\n\u001b[1;32m   1300\u001b[0m \u001b[38;5;28;01mfor\u001b[39;00m val \u001b[38;5;129;01min\u001b[39;00m \u001b[38;5;28mself\u001b[39m\u001b[38;5;241m.\u001b[39m_kwargs\u001b[38;5;241m.\u001b[39mvalues():\n\u001b[1;32m   1301\u001b[0m     \u001b[38;5;28;01mif\u001b[39;00m \u001b[38;5;28mhasattr\u001b[39m(val, \u001b[38;5;124m\"\u001b[39m\u001b[38;5;124mdetach\u001b[39m\u001b[38;5;124m\"\u001b[39m):\n",
      "File \u001b[0;32m~/opt/anaconda3/envs/FEGP/lib/python3.9/site-packages/linear_operator/operators/_linear_operator.py:1299\u001b[0m, in \u001b[0;36mLinearOperator.detach_\u001b[0;34m(self)\u001b[0m\n\u001b[1;32m   1297\u001b[0m \u001b[38;5;28;01mfor\u001b[39;00m arg \u001b[38;5;129;01min\u001b[39;00m \u001b[38;5;28mself\u001b[39m\u001b[38;5;241m.\u001b[39m_args:\n\u001b[1;32m   1298\u001b[0m     \u001b[38;5;28;01mif\u001b[39;00m \u001b[38;5;28mhasattr\u001b[39m(arg, \u001b[38;5;124m\"\u001b[39m\u001b[38;5;124mdetach\u001b[39m\u001b[38;5;124m\"\u001b[39m):\n\u001b[0;32m-> 1299\u001b[0m         \u001b[43marg\u001b[49m\u001b[38;5;241;43m.\u001b[39;49m\u001b[43mdetach_\u001b[49m\u001b[43m(\u001b[49m\u001b[43m)\u001b[49m\n\u001b[1;32m   1300\u001b[0m \u001b[38;5;28;01mfor\u001b[39;00m val \u001b[38;5;129;01min\u001b[39;00m \u001b[38;5;28mself\u001b[39m\u001b[38;5;241m.\u001b[39m_kwargs\u001b[38;5;241m.\u001b[39mvalues():\n\u001b[1;32m   1301\u001b[0m     \u001b[38;5;28;01mif\u001b[39;00m \u001b[38;5;28mhasattr\u001b[39m(val, \u001b[38;5;124m\"\u001b[39m\u001b[38;5;124mdetach\u001b[39m\u001b[38;5;124m\"\u001b[39m):\n",
      "\u001b[0;31mRuntimeError\u001b[0m: Can't detach views in-place. Use detach() instead. If you are using DistributedDataParallel (DDP) for training, and gradient_as_bucket_view is set as True, gradients are views of DDP buckets, and hence detach_() cannot be called on these gradients. To fix this error, please refer to the Optimizer.zero_grad() function in torch/optim/optimizer.py as the solution."
     ]
    }
   ],
   "metadata": {}
  },
  {
   "cell_type": "code",
   "execution_count": null,
   "source": [
    "with torch.no_grad():\n",
    "    # Initialize plot\n",
    "    f, ax = plt.subplots(1, 1, figsize=(4, 3))\n",
    "\n",
    "    # Plot training data as black stars\n",
    "    ax.plot(train_x.numpy(), train_y.numpy(), 'k*', zorder=10)\n",
    "\n",
    "    for i in range(min(num_samples, 25)):\n",
    "        # Plot predictive means as blue line\n",
    "        ax.plot(test_x.numpy(), output.mean[i].detach().numpy(), 'b', linewidth=0.3)\n",
    "\n",
    "    # Shade between the lower and upper confidence bounds\n",
    "    # ax.fill_between(test_x.numpy(), lower.numpy(), upper.numpy(), alpha=0.5)\n",
    "    ax.set_ylim([-3, 3])\n",
    "    ax.legend(['Observed Data', 'Sampled Means'])"
   ],
   "outputs": [],
   "metadata": {}
  },
  {
   "cell_type": "markdown",
   "source": [
    "### GP Training Results"
   ],
   "metadata": {}
  },
  {
   "cell_type": "code",
   "execution_count": 95,
   "source": [
    "import matplotlib.pyplot as plt\n",
    "from sklearn.metrics import mean_squared_error, mean_absolute_error,r2_score\n",
    "from scipy.stats import spearmanr\n",
    "import matplotlib.pyplot as plt \n",
    "from plotter import prettyplot"
   ],
   "outputs": [],
   "metadata": {}
  },
  {
   "cell_type": "code",
   "execution_count": 111,
   "source": [
    "# get error metrics\n",
    "round_three = lambda val: np.round(val, 3) \n",
    "\n",
    "def get_err(train_y, y_preds_mean):\n",
    "    rmse = np.sqrt(mean_squared_error(train_y, y_preds_mean))\n",
    "    mae = mean_absolute_error(train_y,  y_preds_mean)\n",
    "    spearman = spearmanr(train_y, y_preds_mean)[0]\n",
    "    r2 = r2_score(train_y, y_preds_mean)\n",
    "    return [round_three(i) for i in [rmse, mae, spearman, r2]]\n",
    "\n",
    "def plot_err(axes, train_y, y_preds_mean, y_uncer, err_vals, train_or_test, fs):\n",
    "    # training versus actuals plot: make plot, set title and axes values\n",
    "    ax = axes[0]\n",
    "    ax.scatter(train_y, y_preds_mean, color = \"#72356c\")\n",
    "    low_lim, upp_lim = int(min(train_y).item()), int(np.ceil(max(train_y).item()))\n",
    "    ax.plot(np.linspace(low_lim, upp_lim), np.linspace(low_lim, upp_lim), 'k--')\n",
    "    ax.set_xlim(low_lim, upp_lim)\n",
    "    ax.set_ylim(low_lim, upp_lim)\n",
    "    \n",
    "    # sort train_y to enable fill_between to exhibit correct functionality\n",
    "    # plot 95% confidence interval\n",
    "    sorted_train_y, sorted_indices_y = np.sort(train_y), np.argsort(train_y)\n",
    "    low_bound = (y_preds_mean-2*y_uncer)[sorted_indices_y]\n",
    "    upp_bound = (y_preds_mean+2*y_uncer)[sorted_indices_y]\n",
    "    ax.fill_between(sorted_train_y, low_bound, upp_bound, color = \"grey\", alpha = 0.3, label=\"95% confidence interval\")    \n",
    "    ax.set_xlabel('Ground Truth 2 Qsw/(U+|D|) 1e6', fontsize = fs)\n",
    "    ax.set_ylabel('Prediction 2 Qsw/(U+|D|) 1e6', fontsize = fs)\n",
    "    title_type = \"Training\" if train_or_test == \"train\" else \"Test\"\n",
    "    ax.set_title('GP ' + title_type + ' Results' + \" (MAE=%.2f\" % err_vals[1]+' [%])', fontsize = fs)\n",
    "    ax.legend()\n",
    "\n",
    "def plot_training_loss(axes, loss_lst, fs):\n",
    "    ax = axes[1]\n",
    "    ax.plot(np.arange(len(loss_lst))*500,loss_lst, 'o-', color = \"#72356c\")\n",
    "    ax.set_xlabel('Epoch', fontsize = fs)\n",
    "    ax.set_ylabel('Marginal Log Likelihood Loss', fontsize = fs)\n",
    "    ax.set_title('Training Loss' + \" (Loss=%.2f\" % loss_lst[-1] + ')', fontsize = fs)\n",
    "\n",
    "def plot_gp_res(train_y, y_preds_mean, loss_lst, y_uncer, train_or_test=\"train\"):\n",
    "    prettyplot()\n",
    "    fig, axes = plt.subplots(1, 3, figsize=(5.5*3, 4.5))\n",
    "    fs = 14\n",
    "\n",
    "    # print error metrics\n",
    "    err_vals = get_err(train_y, y_preds_mean)\n",
    "    data = {'Metric': ['RMSE', 'MAE', 'Spearman', 'R² score'], 'Value': err_vals}\n",
    "    df = pd.DataFrame(data)\n",
    "    print(df)\n",
    "\n",
    "    # plot error, training/testing loss\n",
    "    plot_err(axes, train_y, y_preds_mean, y_uncer, err_vals, train_or_test, fs)\n",
    "    if loss_lst: plot_training_loss(axes, loss_lst, fs)\n",
    "    else: axes[1].axis(\"off\")\n",
    "    axes[2].axis(\"off\")\n",
    "\n",
    "    for i in range(len(axes)):\n",
    "        axes[i].tick_params(direction='in', length=5, width=1, labelsize = fs*.8)\n",
    "    plt.subplots_adjust(wspace = 0.4)\n",
    "\n",
    "    plt.show()"
   ],
   "outputs": [],
   "metadata": {}
  },
  {
   "cell_type": "code",
   "execution_count": 116,
   "source": [
    "posterior = model.posterior(train_x)\n",
    "y_preds_mean = posterior.mixture_mean.detach().numpy()\n",
    "f_var = np.sqrt(posterior.mixture_variance.detach().numpy())\n",
    "\n",
    "# print(y_preds_mean[:10])\n",
    "print(f_var[:23])\n"
   ],
   "outputs": [
    {
     "output_type": "stream",
     "name": "stdout",
     "text": [
      "[[0.3951803 ]\n",
      " [0.33354746]\n",
      " [0.33902722]\n",
      " [0.30620561]\n",
      " [0.34135168]\n",
      " [0.38089585]\n",
      " [0.5871239 ]\n",
      " [0.34033108]\n",
      " [0.26634769]\n",
      " [0.35326608]\n",
      " [0.28619936]\n",
      " [0.27241648]\n",
      " [0.26815453]\n",
      " [0.26581533]\n",
      " [0.32014884]\n",
      " [0.37934121]\n",
      " [0.32671791]\n",
      " [0.2984407 ]\n",
      " [0.29124517]\n",
      " [0.31306502]\n",
      " [0.34247692]\n",
      " [0.39686513]\n",
      " [0.32191262]]\n"
     ]
    }
   ],
   "metadata": {}
  },
  {
   "cell_type": "code",
   "execution_count": null,
   "source": [
    "plot_gp_res(train_y.flatten(), y_preds_mean.flatten(), None, f_var.flatten())"
   ],
   "outputs": [],
   "metadata": {}
  },
  {
   "cell_type": "code",
   "execution_count": 122,
   "source": [
    "# acquisition function for prediction/exploration\n",
    "def get_bounds(n): return [n for i in range(config.dim)]\n",
    "\n",
    "def unravel_acq(acq_func, obs, bounds, train_y, nshape):\n",
    "    \"\"\" \n",
    "    [unravel_acq(acq_func, obs, bounds, train_y, nshape)] is a helper function \n",
    "    for acq that returns the coordinates of the maximum value of the acq_func \n",
    "    over the test grid in the form of a tuple (row_index, column_index). \n",
    "\n",
    "    row_index = index into time\n",
    "    column_index = index into energy density\n",
    "    \"\"\"\n",
    "    acq = acq_func(obs, bounds, train_y).detach().numpy().reshape(nshape).T\n",
    "    return np.unravel_index(acq.argmax(), acq.shape)\n",
    "\n",
    "def acq(obs, train_y, bounds):\n",
    "    \"\"\" \n",
    "    [acq(obs, train_y, bounds)] evaluates acquisition functions on current \n",
    "    predictions (observations) and outputs suggested points for exploration \n",
    "    on manifold. \n",
    "    \"\"\"\n",
    "    transpose = lambda tensor: tensor.detach().numpy().reshape(nshape).T\n",
    "    nshape = tuple(bounds)\n",
    "\n",
    "    pi = unravel_acq(PI, obs, bounds, train_y, nshape) # prob of improvement\n",
    "    ei = unravel_acq(EI, obs, bounds, train_y, nshape) # expected improvement\n",
    "    ca = unravel_acq(cust_acq, obs, bounds, train_y, nshape) # custom acq\n",
    "    th = unravel_acq(thompson, obs, bounds, train_y, nshape) # thompson acq\n",
    "\n",
    "    lower, upper = obs.confidence_region()\n",
    "    upper_surf, lower_surf = transpose(upper), transpose(lower)\n",
    "    ucb = np.unravel_index(upper_surf.argmax(), upper_surf.shape)\n",
    "\n",
    "    pred_var = obs.variance.view(nshape).detach().numpy().T\n",
    "    pred_labels = obs.mean.view(nshape).T\n",
    "    max_var = np.unravel_index(pred_var.argmax(), pred_var.shape)\n",
    "\n",
    "    # acqs gives pairs corresponding to indices of time and energy density \n",
    "    # recommendations in grid; the pairs index into array pred_labels \n",
    "    acqs = {\"PI\":pi, \"EI\":ei, \"CA\":ca, \"TH\":th, \"UCB\":ucb, \"Max_var\":max_var}\n",
    "\n",
    "    return pred_labels, upper_surf, lower_surf, acqs"
   ],
   "outputs": [],
   "metadata": {}
  },
  {
   "cell_type": "code",
   "execution_count": 123,
   "source": [
    "# export predictions to csv\n",
    "def pred_to_csv(acqs, raw_pred_labels, raw_test_grid, file_out = \"preds.csv\"):\n",
    "    \"\"\"\n",
    "    [pred_to_csv(acqs, raw_pred_labels, raw_test_grid)] outputs suggested\n",
    "    inputs and their respective predicted outputs to csv; returns suggested point\n",
    "    corresponding to ucb acquisition.\n",
    "    \"\"\"   \n",
    "    dir = \"/Users/valenetjong/Bayesian-Optimization-Ferroelectrics/predictions/\"\n",
    "    file = open(dir + file_out, \"w\", encoding=\"utf-8\")\n",
    "    file.write(\"Energy density \\t Time (ms)\\n\")\n",
    "    data = {'Time(ms)':[], 'Energy density new cone (J/cm^2)':[], '2 Qsw/(U+|D|) 1e6':[]}\n",
    "    ucb = []\n",
    "    for lab, coords in acqs.items(): \n",
    "        time_val = raw_test_grid[coords[1]].tolist()[0]\n",
    "        energy_den_val = raw_test_grid[coords[0]].tolist()[1]\n",
    "        data['Time(ms)'].append(time_val)\n",
    "        data['Energy density new cone (J/cm^2)'].append(energy_den_val)\n",
    "        file.write(lab + \": \" + str(time_val) + \"\\t\" + str(energy_den_val) + \"\\n\")\n",
    "        if lab == \"UCB\": ucb.append(time_val*1000), ucb.append(energy_den_val)  # change units μs\n",
    "\n",
    "    file.write(\"\\nFigure of merit\\n\")\n",
    "    for lab, coords in acqs.items():\n",
    "        fig_of_merit = raw_pred_labels[coords].item()\n",
    "        data['2 Qsw/(U+|D|) 1e6'].append(fig_of_merit)\n",
    "        file.write(lab + \": \" + str(fig_of_merit) + \"\\n\")\n",
    "        if lab == \"UCB\": ucb.append(fig_of_merit)\n",
    "\n",
    "    df = pd.DataFrame(data)\n",
    "    print(df)\n",
    "    return ucb\n"
   ],
   "outputs": [],
   "metadata": {}
  },
  {
   "cell_type": "code",
   "execution_count": 124,
   "source": [
    "# get normalized predictions\n",
    "bounds = get_bounds(n=30)\n",
    "pred_labels, upper_surf, lower_surf, acqs = acq(obs, train_y, bounds)\n",
    "\n",
    "# undo scaling\n",
    "raw_train_x, raw_test_grid = un_norm_x(train_x, test_grid, scaler)\n"
   ],
   "outputs": [],
   "metadata": {}
  },
  {
   "cell_type": "markdown",
   "source": [
    "### Save Predictions and Visualize "
   ],
   "metadata": {}
  },
  {
   "cell_type": "code",
   "execution_count": 183,
   "source": [
    "# undo normalization and save to csv, get prediction point\n",
    "ucb = pred_to_csv(acqs, pred_labels, raw_test_grid)\n",
    "\n",
    "# suggested points (μs, J/cm^2)\n",
    "ucb_pt, nlcd_pt = (round(ucb[0],-1),round(ucb[1],2)), (900, 5.89)\n",
    "print(ucb_pt)"
   ],
   "outputs": [
    {
     "output_type": "stream",
     "name": "stdout",
     "text": [
      "   Time(ms)  Energy density new cone (J/cm^2)  2 Qsw/(U+|D|) 1e6\n",
      "0  1.336823                          8.850209           4.508389\n",
      "1  1.170567                          8.850209           4.260005\n",
      "2  2.334360                         12.137278           2.713506\n",
      "3  1.170567                         12.606859           2.544207\n",
      "4  1.004310                          8.850209           3.864199\n",
      "5  3.996921                          2.276071           2.498929\n",
      "(1000.0, 8.85)\n"
     ]
    }
   ],
   "metadata": {}
  },
  {
   "cell_type": "code",
   "execution_count": 184,
   "source": [
    "# sanity check for fig of merit from acquisition\n",
    "model.eval(), likelihood.eval()\n",
    "ucb = np.array((1.17, 8.85)).reshape(1,2)\n",
    "ucb_scaled = scaler.transform(ucb)\n",
    "print(ucb_scaled)\n",
    "\n",
    "y_preds_ucb = likelihood(model(torch.Tensor(ucb_scaled)))\n",
    "\n",
    "with torch.no_grad(): y_preds_ucb_mean = y_preds_ucb.mean.numpy()\n",
    "print(y_preds_ucb_mean)"
   ],
   "outputs": [
    {
     "output_type": "stream",
     "name": "stdout",
     "text": [
      "[[0.14888889 0.48151064]]\n",
      "[4.258567]\n"
     ]
    },
    {
     "output_type": "stream",
     "name": "stderr",
     "text": [
      "/Users/valenetjong/opt/anaconda3/envs/FEGP/lib/python3.9/site-packages/gpytorch/likelihoods/gaussian_likelihood.py:270: GPInputWarning:\n",
      "\n",
      "You have passed data through a FixedNoiseGaussianLikelihood that did not match the size of the fixed noise, *and* you did not specify noise. This is treated as a no-op.\n",
      "\n"
     ]
    }
   ],
   "metadata": {}
  },
  {
   "cell_type": "code",
   "execution_count": 185,
   "source": [
    "import plotly.graph_objects as go\n",
    "def vis_pred(train_x, train_y, test_grid, pred_labels):\n",
    "    fig = go.Figure(data=[go.Surface(z=pred_labels.numpy(), \n",
    "                                    x=test_grid[:,0],\n",
    "                                    y=test_grid[:,1],\n",
    "                                    opacity = 0.8,\n",
    "                                    colorscale = \"Burg\",\n",
    "                                    colorbar=dict(thickness=15, len=0.5),\n",
    "                                    name='GP regression')])\n",
    "    \n",
    "    fig.add_trace(go.Scatter3d(x=train_x[:,0],\n",
    "                              y=train_x[:,1],\n",
    "                            z=train_y.numpy(), mode='markers', \n",
    "                            marker={'color':'#72356c'}, name='training data'))\n",
    "    fig.update_layout(width=1000, height=800,\n",
    "                    legend=dict(orientation=\"h\", yanchor=\"top\", y=1.02, \n",
    "                    xanchor=\"left\",x=1), margin=dict(r=0, l=0, b=0, t=0), \n",
    "                        scene=dict(\n",
    "                        xaxis_title=\"Pulse Width (msec)\",\n",
    "                        yaxis_title=\"Energy density new cone (J/cm^2)\",\n",
    "                        zaxis_title='2 Qsw/(U+|D|) 1e6')\n",
    "                    )\n",
    "    fig.update_layout(template=\"ggplot2\")\n",
    "    camera = dict(up=dict(x=0, y=0, z=1), center=dict(x=0, y=0, z=0),\n",
    "                    eye=dict(x=2.75, y=1.75, z=1))\n",
    "    fig.update_layout(scene_camera=camera)\n",
    "    fig.show()"
   ],
   "outputs": [],
   "metadata": {}
  },
  {
   "cell_type": "code",
   "execution_count": 186,
   "source": [
    "# visualize acquisition function results and confidence bound surfaces\n",
    "vis_pred(raw_train_x, train_y, raw_test_grid, pred_labels)"
   ],
   "outputs": [
    {
     "output_type": "display_data",
     "data": {
      "application/vnd.plotly.v1+json": {
       "data": [
        {
         "colorbar": {
          "len": 0.5,
          "thickness": 15
         },
         "colorscale": [
          [
           0,
           "rgb(255, 198, 196)"
          ],
          [
           0.16666666666666666,
           "rgb(244, 163, 168)"
          ],
          [
           0.3333333333333333,
           "rgb(227, 129, 145)"
          ],
          [
           0.5,
           "rgb(204, 96, 125)"
          ],
          [
           0.6666666666666666,
           "rgb(173, 70, 108)"
          ],
          [
           0.8333333333333334,
           "rgb(139, 48, 88)"
          ],
          [
           1,
           "rgb(103, 32, 68)"
          ]
         ],
         "name": "GP regression",
         "opacity": 0.8,
         "x": [
          0.33928570710122585,
          0.5055418629199266,
          0.6717980187386274,
          0.8380541577935219,
          1.0043103471398354,
          1.1705665364861488,
          1.336822658777237,
          1.503078781068325,
          1.6693349033594131,
          1.8355910927057266,
          2.0018471479415894,
          2.168103337287903,
          2.3343595266342168,
          2.5006157159805302,
          2.6668719053268437,
          2.833128094673157,
          2.9993842840194707,
          3.165640473365784,
          3.3318966627120976,
          3.4981525838375096,
          3.664408773183823,
          3.8306649625301366,
          3.99692115187645,
          4.163177341222764,
          4.329433262348176,
          4.495689451694489,
          4.661945641040803,
          4.828201830387116,
          4.99445801973343,
          5.160714209079743
         ],
         "y": [
          2.276071443020234,
          2.745652702469288,
          3.215233961918342,
          3.684815174018958,
          4.154396528164888,
          4.623977882310818,
          5.093559047062996,
          5.563140211815174,
          6.032721376567352,
          6.502302730713282,
          6.971883706071708,
          7.441465060217638,
          7.911046414363568,
          8.380627768509498,
          8.850209122655428,
          9.319790476801359,
          9.789371830947289,
          10.258953185093219,
          10.72853453923915,
          11.19811513581007,
          11.667696489956,
          12.13727784410193,
          12.60685919824786,
          13.076440552393791,
          13.546021148964712,
          14.015602503110642,
          14.485183857256573,
          14.954765211402503,
          15.424346565548433,
          15.893927919694363
         ],
         "z": [
          [
           1.4377022981643677,
           1.3497545719146729,
           1.4384028911590576,
           1.642566204071045,
           1.8660833835601807,
           2.0557985305786133,
           2.198596954345703,
           2.299562454223633,
           2.3685214519500732,
           2.41464900970459,
           2.445060968399048,
           2.464874267578125,
           2.477640390396118,
           2.485776424407959,
           2.4909048080444336,
           2.4941022396087646,
           2.4960737228393555,
           2.4972763061523438,
           2.498002290725708,
           2.4984357357025146,
           2.498692035675049,
           2.4988420009613037,
           2.498929023742676,
           2.498978853225708,
           2.499007225036621,
           2.499023199081421,
           2.4990320205688477,
           2.499037027359009,
           2.499039649963379,
           2.4990410804748535
          ],
          [
           1.1806892156600952,
           0.9681153297424316,
           1.1705057621002197,
           1.499202013015747,
           1.7837309837341309,
           1.9975754022598267,
           2.1521449089050293,
           2.262559175491333,
           2.340585708618164,
           2.3948452472686768,
           2.4318249225616455,
           2.4564859867095947,
           2.4725804328918457,
           2.4828691482543945,
           2.489318609237671,
           2.493288278579712,
           2.4956893920898438,
           2.4971179962158203,
           2.4979546070098877,
           2.49843692779541,
           2.498710870742798,
           2.498863935470581,
           2.498948097229004,
           2.4989936351776123,
           2.4990177154541016,
           2.499030113220215,
           2.4990363121032715,
           2.4990394115448,
           2.4990408420562744,
           2.4990415573120117
          ],
          [
           2.287217617034912,
           2.304023504257202,
           2.1947500705718994,
           2.0803542137145996,
           2.0438008308410645,
           2.0807199478149414,
           2.1584830284118652,
           2.245030403137207,
           2.3213794231414795,
           2.3807482719421387,
           2.4233479499816895,
           2.4522178173065186,
           2.4709389209747314,
           2.4826436042785645,
           2.4897327423095703,
           2.493903398513794,
           2.4962897300720215,
           2.4976181983947754,
           2.49833607673645,
           2.4987118244171143,
           2.4989006519317627,
           2.498990535736084,
           2.499030351638794,
           2.4990453720092773,
           2.499049186706543,
           2.4990487098693848,
           2.499046564102173,
           2.499044418334961,
           2.499042510986328,
           2.4990413188934326
          ],
          [
           2.2013351917266846,
           2.178507089614868,
           2.0435287952423096,
           1.8886927366256714,
           1.8294399976730347,
           1.9117006063461304,
           2.05427885055542,
           2.1913461685180664,
           2.2998530864715576,
           2.3771109580993652,
           2.428206443786621,
           2.460038423538208,
           2.4788331985473633,
           2.489360809326172,
           2.4949333667755127,
           2.497687816619873,
           2.4989235401153564,
           2.499389410018921,
           2.499495267868042,
           2.499453067779541,
           2.4993650913238525,
           2.4992759227752686,
           2.499201774597168,
           2.4991455078125,
           2.499105453491211,
           2.499077796936035,
           2.4990594387054443,
           2.4990475177764893,
           2.499040126800537,
           2.499035596847534
          ],
          [
           0.8912073373794556,
           0.6763126850128174,
           0.8145338296890259,
           1.1457439661026,
           1.4888639450073242,
           1.7946619987487793,
           2.046487331390381,
           2.2339446544647217,
           2.3603875637054443,
           2.4377641677856445,
           2.480332374572754,
           2.5007903575897217,
           2.508639097213745,
           2.5101044178009033,
           2.508828639984131,
           2.5067200660705566,
           2.5046541690826416,
           2.502953052520752,
           2.5016729831695557,
           2.5007622241973877,
           2.500138759613037,
           2.4997236728668213,
           2.499452829360962,
           2.499279022216797,
           2.499168634414673,
           2.4990994930267334,
           2.499056816101074,
           2.499030828475952,
           2.4990158081054688,
           2.4990077018737793
          ],
          [
           1.204345703125,
           1.0513150691986084,
           1.2369072437286377,
           1.5440669059753418,
           1.8634700775146484,
           2.1487298011779785,
           2.372633457183838,
           2.5225749015808105,
           2.600522518157959,
           2.623377799987793,
           2.6142661571502686,
           2.5921828746795654,
           2.56839656829834,
           2.547938823699951,
           2.532200574874878,
           2.5208802223205566,
           2.5130960941314697,
           2.507913589477539,
           2.5045454502105713,
           2.502396821975708,
           2.5010457038879395,
           2.5002052783966064,
           2.4996864795684814,
           2.4993674755096436,
           2.499171733856201,
           2.4990522861480713,
           2.4989798069000244,
           2.4989373683929443,
           2.4989142417907715,
           2.4989044666290283
          ],
          [
           1.912184238433838,
           1.8063759803771973,
           2.047025203704834,
           2.3213107585906982,
           2.557833194732666,
           2.7734718322753906,
           2.9515466690063477,
           3.0422377586364746,
           3.0118236541748047,
           2.911303758621216,
           2.801133394241333,
           2.708136796951294,
           2.6383185386657715,
           2.589263677597046,
           2.5562398433685303,
           2.534665822982788,
           2.5208840370178223,
           2.512232542037964,
           2.506876230239868,
           2.5035958290100098,
           2.5016016960144043,
           2.5003936290740967,
           2.4996607303619385,
           2.4992127418518066,
           2.4989359378814697,
           2.498763084411621,
           2.4986565113067627,
           2.4985945224761963,
           2.4985649585723877,
           2.498560905456543
          ],
          [
           2.9367966651916504,
           3.1526927947998047,
           3.1679165363311768,
           3.1871118545532227,
           3.25789213180542,
           3.3343613147735596,
           3.385690450668335,
           3.363461971282959,
           3.22991943359375,
           3.0494396686553955,
           2.8851983547210693,
           2.757805824279785,
           2.6668756008148193,
           2.6051926612854004,
           2.5647802352905273,
           2.53897762298584,
           2.522834539413452,
           2.5129003524780273,
           2.506866693496704,
           2.5032339096069336,
           2.501051187515259,
           2.499727249145508,
           2.498904228210449,
           2.4983716011047363,
           2.4980106353759766,
           2.4977593421936035,
           2.497588634490967,
           2.4974865913391113,
           2.4974491596221924,
           2.497472047805786
          ],
          [
           3.233438014984131,
           3.453094482421875,
           3.6397690773010254,
           3.7795984745025635,
           3.8187084197998047,
           3.709076166152954,
           3.510521411895752,
           3.3006043434143066,
           3.1087589263916016,
           2.9432668685913086,
           2.8089816570281982,
           2.706848621368408,
           2.633455991744995,
           2.583113670349121,
           2.5498862266540527,
           2.5286684036254883,
           2.515509843826294,
           2.5075550079345703,
           2.502835750579834,
           2.500049114227295,
           2.4983632564544678,
           2.497267246246338,
           2.496466636657715,
           2.495807647705078,
           2.495229482650757,
           2.4947288036346436,
           2.494333267211914,
           2.4940812587738037,
           2.494004964828491,
           2.49411678314209
          ],
          [
           2.9645581245422363,
           3.1027817726135254,
           3.2612595558166504,
           3.436394214630127,
           3.538299083709717,
           3.3830840587615967,
           3.173356056213379,
           2.9966721534729004,
           2.857605457305908,
           2.7496237754821777,
           2.666978359222412,
           2.605548620223999,
           2.5618321895599365,
           2.5323562622070312,
           2.5136919021606445,
           2.502708673477173,
           2.4967947006225586,
           2.4939451217651367,
           2.492733955383301,
           2.4922168254852295,
           2.4918158054351807,
           2.491215705871582,
           2.4902877807617188,
           2.4890379905700684,
           2.4875762462615967,
           2.4860877990722656,
           2.4847991466522217,
           2.4839344024658203,
           2.4836618900299072,
           2.4840543270111084
          ],
          [
           2.6738476753234863,
           2.663628578186035,
           2.6019721031188965,
           2.4866390228271484,
           2.4062111377716064,
           2.466200351715088,
           2.5545296669006348,
           2.590059757232666,
           2.579106092453003,
           2.545705795288086,
           2.508448362350464,
           2.4778692722320557,
           2.4581186771392822,
           2.449082612991333,
           2.44834566116333,
           2.4527690410614014,
           2.4595067501068115,
           2.466456174850464,
           2.4723007678985596,
           2.476348876953125,
           2.4783267974853516,
           2.4782185554504395,
           2.4761812686920166,
           2.4725327491760254,
           2.4677798748016357,
           2.4626407623291016,
           2.4580001831054688,
           2.454767942428589,
           2.45365571975708,
           2.4549660682678223
          ],
          [
           2.654233932495117,
           2.690999984741211,
           2.729145050048828,
           2.763040542602539,
           2.772737503051758,
           2.738172769546509,
           2.670138359069824,
           2.5829432010650635,
           2.485849618911743,
           2.392552614212036,
           2.3192172050476074,
           2.2770681381225586,
           2.2677080631256104,
           2.2841522693634033,
           2.3155620098114014,
           2.3518338203430176,
           2.385915756225586,
           2.4140002727508545,
           2.434664249420166,
           2.447831392288208,
           2.4539794921875,
           2.4536960124969482,
           2.4475579261779785,
           2.436271905899048,
           2.4210011959075928,
           2.4037296772003174,
           2.3874056339263916,
           2.3755416870117188,
           2.37117075920105,
           2.375598669052124
          ],
          [
           2.747591972351074,
           2.8596510887145996,
           3.002328395843506,
           3.1524453163146973,
           3.235133171081543,
           3.165536880493164,
           2.9802639484405518,
           2.720015048980713,
           2.415731906890869,
           2.1218438148498535,
           1.9067113399505615,
           1.8134175539016724,
           1.8345637321472168,
           1.927666425704956,
           2.047053575515747,
           2.1617140769958496,
           2.2566957473754883,
           2.3278708457946777,
           2.376526117324829,
           2.405717372894287,
           2.418304920196533,
           2.4161438941955566,
           2.400028944015503,
           2.3702380657196045,
           2.327719211578369,
           2.2759439945220947,
           2.2229015827178955,
           2.181415557861328,
           2.165083408355713,
           2.180325508117676
          ],
          [
           2.799428701400757,
           2.9386777877807617,
           3.1153955459594727,
           3.3131136894226074,
           3.4907217025756836,
           3.5787601470947266,
           3.4777333736419678,
           3.082972526550293,
           2.386798143386841,
           1.57771897315979,
           0.9869351387023926,
           0.8338301181793213,
           1.017430305480957,
           1.330471158027649,
           1.642836570739746,
           1.9009442329406738,
           2.0933661460876465,
           2.226716995239258,
           2.3126583099365234,
           2.361912965774536,
           2.3819963932037354,
           2.3766815662384033,
           2.3462185859680176,
           2.288100004196167,
           2.1988136768341064,
           2.0778048038482666,
           1.9355576038360596,
           1.8059104681015015,
           1.7480721473693848,
           1.8002655506134033
          ],
          [
           2.8102738857269287,
           2.9689035415649414,
           3.1920676231384277,
           3.4916000366210938,
           3.864198923110962,
           4.260004997253418,
           4.508388996124268,
           4.18656063079834,
           2.9360947608947754,
           1.341008186340332,
           0.19612956047058105,
           -0.007049083709716797,
           0.36662793159484863,
           0.8912866115570068,
           1.3686587810516357,
           1.7376680374145508,
           1.998757004737854,
           2.172436475753784,
           2.2809886932373047,
           2.3419742584228516,
           2.3667616844177246,
           2.3607864379882812,
           2.3242099285125732,
           2.252697706222534,
           2.138806104660034,
           1.9754489660263062,
           1.7647571563720703,
           1.539344072341919,
           1.409948706626892,
           1.5270378589630127
          ],
          [
           2.7650341987609863,
           2.902273654937744,
           3.096522808074951,
           3.356619119644165,
           3.67226243019104,
           3.9812960624694824,
           4.112564563751221,
           3.7632548809051514,
           2.763979196548462,
           1.4369319677352905,
           0.4361448287963867,
           0.32685232162475586,
           0.6944376230239868,
           1.1531424522399902,
           1.5543498992919922,
           1.860284686088562,
           2.076489210128784,
           2.2210075855255127,
           2.312045097351074,
           2.3638172149658203,
           2.3857178688049316,
           2.3826828002929688,
           2.355961799621582,
           2.304239273071289,
           2.2255990505218506,
           2.121349573135376,
           2.0027945041656494,
           1.8992645740509033,
           1.854823112487793,
           1.8950837850570679
          ],
          [
           2.6780588626861572,
           2.761353015899658,
           2.8711588382720947,
           3.004197120666504,
           3.1439404487609863,
           3.2534492015838623,
           3.2776737213134766,
           3.17098069190979,
           2.9447171688079834,
           2.673910617828369,
           2.414863109588623,
           2.1879634857177734,
           2.0628716945648193,
           2.055891275405884,
           2.118995189666748,
           2.2039074897766113,
           2.2829596996307373,
           2.345195770263672,
           2.3886914253234863,
           2.415097713470459,
           2.4267334938049316,
           2.425363063812256,
           2.4119760990142822,
           2.3872179985046387,
           2.3523714542388916,
           2.3107638359069824,
           2.2690622806549072,
           2.2370986938476562,
           2.224701166152954,
           2.2363719940185547
          ],
          [
           2.600107431411743,
           2.6413755416870117,
           2.6926441192626953,
           2.7514572143554688,
           2.811943531036377,
           2.8654112815856934,
           2.90402889251709,
           2.927572727203369,
           2.948673725128174,
           2.9842069149017334,
           2.983386516571045,
           2.8161818981170654,
           2.6438071727752686,
           2.5342957973480225,
           2.478048086166382,
           2.4559848308563232,
           2.4522008895874023,
           2.456134796142578,
           2.461686372756958,
           2.465700387954712,
           2.4666991233825684,
           2.464073657989502,
           2.457690715789795,
           2.447817802429199,
           2.435248374938965,
           2.421480655670166,
           2.408733606338501,
           2.3995914459228516,
           2.3962361812591553,
           2.399594783782959
          ],
          [
           2.5539419651031494,
           2.5756609439849854,
           2.6033458709716797,
           2.637188673019409,
           2.676450729370117,
           2.718543529510498,
           2.75689697265625,
           2.776980400085449,
           2.753934383392334,
           2.6719729900360107,
           2.596790313720703,
           2.6223418712615967,
           2.6594882011413574,
           2.6506500244140625,
           2.614872694015503,
           2.575944185256958,
           2.5447030067443848,
           2.5229873657226562,
           2.508944272994995,
           2.499969482421875,
           2.493849039077759,
           2.4890270233154297,
           2.48455810546875,
           2.479996681213379,
           2.4753024578094482,
           2.4707601070404053,
           2.4668753147125244,
           2.464226007461548,
           2.463275909423828,
           2.464211940765381
          ],
          [
           2.5321857929229736,
           2.5473127365112305,
           2.569059371948242,
           2.600470542907715,
           2.6461918354034424,
           2.7132933139801025,
           2.8121848106384277,
           2.956420660018921,
           3.1557962894439697,
           3.3841586112976074,
           3.502622127532959,
           3.3640289306640625,
           3.122039794921875,
           2.9139325618743896,
           2.7651257514953613,
           2.6655056476593018,
           2.600858688354492,
           2.5597691535949707,
           2.5340616703033447,
           2.5181210041046143,
           2.508200168609619,
           2.501873731613159,
           2.4976272583007812,
           2.4945666790008545,
           2.4922125339508057,
           2.490358591079712,
           2.4889638423919678,
           2.488067626953125,
           2.4877190589904785,
           2.487927198410034
          ],
          [
           2.520922899246216,
           2.532289981842041,
           2.5495424270629883,
           2.575615406036377,
           2.6145737171173096,
           2.671440839767456,
           2.75089955329895,
           2.8535234928131104,
           2.9683947563171387,
           3.065551280975342,
           3.1029765605926514,
           3.0594089031219482,
           2.957463026046753,
           2.8395607471466064,
           2.7354531288146973,
           2.65574312210083,
           2.5995705127716064,
           2.5619707107543945,
           2.53764271736145,
           2.5222668647766113,
           2.512702465057373,
           2.506805419921875,
           2.5031697750091553,
           2.500903367996216,
           2.4994585514068604,
           2.4985156059265137,
           2.497899293899536,
           2.49752140045166,
           2.497337818145752,
           2.497317314147949
          ],
          [
           2.5127999782562256,
           2.5200107097625732,
           2.5307235717773438,
           2.5462934970855713,
           2.5682013034820557,
           2.5976059436798096,
           2.6344528198242188,
           2.67618727684021,
           2.71667218208313,
           2.746706247329712,
           2.7573704719543457,
           2.7449769973754883,
           2.713505744934082,
           2.672046661376953,
           2.629833221435547,
           2.592952251434326,
           2.5638809204101562,
           2.542595386505127,
           2.527867078781128,
           2.518153429031372,
           2.5120434761047363,
           2.508408308029175,
           2.506403923034668,
           2.5054173469543457,
           2.505011558532715,
           2.504885673522949,
           2.5048537254333496,
           2.504822254180908,
           2.504755973815918,
           2.504634141921997
          ],
          [
           2.5066871643066406,
           2.510422468185425,
           2.515709161758423,
           2.5229485034942627,
           2.532442808151245,
           2.5442066192626953,
           2.557727098464966,
           2.571755886077881,
           2.584312915802002,
           2.5930681228637695,
           2.596095085144043,
           2.5926671028137207,
           2.5835962295532227,
           2.5708770751953125,
           2.5568859577178955,
           2.543635368347168,
           2.5324008464813232,
           2.523730516433716,
           2.5176522731781006,
           2.5139124393463135,
           2.5121469497680664,
           2.5119686126708984,
           2.5129826068878174,
           2.5147688388824463,
           2.516867160797119,
           2.518812894821167,
           2.5202407836914062,
           2.5210111141204834,
           2.521205425262451,
           2.520900011062622
          ],
          [
           2.502786874771118,
           2.5044357776641846,
           2.506652355194092,
           2.5095207691192627,
           2.5130615234375,
           2.5171828269958496,
           2.521636724472046,
           2.5260040760040283,
           2.529736280441284,
           2.532268524169922,
           2.5331759452819824,
           2.5323171615600586,
           2.5298919677734375,
           2.5263867378234863,
           2.5224392414093018,
           2.5186901092529297,
           2.5156822204589844,
           2.51383113861084,
           2.5134472846984863,
           2.5147783756256104,
           2.5180323123931885,
           2.5233564376831055,
           2.5307457447052,
           2.539886951446533,
           2.549978017807007,
           2.559644937515259,
           2.567180633544922,
           2.5713469982147217,
           2.5724546909332275,
           2.5714128017425537
          ],
          [
           2.500694990158081,
           2.5013442039489746,
           2.5021779537200928,
           2.503206729888916,
           2.5044171810150146,
           2.505763053894043,
           2.5071582794189453,
           2.508481740951538,
           2.509593963623047,
           2.5103654861450195,
           2.5107131004333496,
           2.510629415512085,
           2.5102005004882812,
           2.509603500366211,
           2.509094715118408,
           2.508997678756714,
           2.509704351425171,
           2.5116963386535645,
           2.515587091445923,
           2.522167205810547,
           2.53243350982666,
           2.547546148300171,
           2.5686397552490234,
           2.596381902694702,
           2.6301937103271484,
           2.667245864868164,
           2.7018179893493652,
           2.7263402938842773,
           2.7352070808410645,
           2.7274019718170166
          ],
          [
           2.499715805053711,
           2.4999520778656006,
           2.500244617462158,
           2.5005922317504883,
           2.5009875297546387,
           2.5014142990112305,
           2.5018489360809326,
           2.502261161804199,
           2.502622604370117,
           2.5029137134552,
           2.503136157989502,
           2.5033230781555176,
           2.5035529136657715,
           2.503962516784668,
           2.5047669410705566,
           2.5062921047210693,
           2.509026288986206,
           2.513700485229492,
           2.5214030742645264,
           2.5337343215942383,
           2.5529825687408447,
           2.58227276802063,
           2.6255643367767334,
           2.687203884124756,
           2.770479679107666,
           2.8743138313293457,
           2.987440824508667,
           3.0827317237854004,
           3.1228389739990234,
           3.087493896484375
          ],
          [
           2.4993011951446533,
           2.4993832111358643,
           2.4994819164276123,
           2.4995968341827393,
           2.499725341796875,
           2.499864101409912,
           2.500009298324585,
           2.500157356262207,
           2.500309944152832,
           2.500476837158203,
           2.500683546066284,
           2.5009801387786865,
           2.5014548301696777,
           2.50225567817688,
           2.5036232471466064,
           2.505943775177002,
           2.509831190109253,
           2.516251564025879,
           2.52670955657959,
           2.5435075759887695,
           2.5700902938842773,
           2.611448287963867,
           2.674483299255371,
           2.7680721282958984,
           2.90221905708313,
           3.0849807262420654,
           3.313962936401367,
           3.553805351257324,
           3.68387770652771,
           3.567936420440674
          ],
          [
           2.499138355255127,
           2.499166488647461,
           2.499199867248535,
           2.4992387294769287,
           2.4992835521698,
           2.4993348121643066,
           2.499393939971924,
           2.4994657039642334,
           2.499559164047241,
           2.4996914863586426,
           2.499894380569458,
           2.5002219676971436,
           2.5007660388946533,
           2.5016777515411377,
           2.5032055377960205,
           2.505750894546509,
           2.5099575519561768,
           2.516845226287842,
           2.5280027389526367,
           2.5458567142486572,
           2.5740058422088623,
           2.6175687313079834,
           2.6833627223968506,
           2.7794547080993652,
           2.913083076477051,
           3.085034132003784,
           3.277717113494873,
           3.438234806060791,
           3.494699478149414,
           3.4457907676696777
          ],
          [
           2.499077796936035,
           2.4990875720977783,
           2.4990997314453125,
           2.499114751815796,
           2.4991331100463867,
           2.499157190322876,
           2.499189615249634,
           2.4992361068725586,
           2.4993069171905518,
           2.4994192123413086,
           2.499602794647217,
           2.4999070167541504,
           2.500413656234741,
           2.5012569427490234,
           2.502655267715454,
           2.5049588680267334,
           2.50872540473938,
           2.5148274898529053,
           2.5246083736419678,
           2.5400869846343994,
           2.5642051696777344,
           2.6010663509368896,
           2.6560332775115967,
           2.735405921936035,
           2.845167636871338,
           2.988060235977173,
           3.157881736755371,
           3.3283491134643555,
           3.4242730140686035,
           3.3383660316467285
          ],
          [
           2.499055862426758,
           2.4990599155426025,
           2.4990649223327637,
           2.4990718364715576,
           2.499081611633301,
           2.4990956783294678,
           2.499117136001587,
           2.4991512298583984,
           2.4992058277130127,
           2.499295711517334,
           2.499444007873535,
           2.499689817428589,
           2.5000956058502197,
           2.5007638931274414,
           2.501856803894043,
           2.503631830215454,
           2.5064895153045654,
           2.51104474067688,
           2.5182206630706787,
           2.5293691158294678,
           2.5464019775390625,
           2.571899175643921,
           2.609100103378296,
           2.6615939140319824,
           2.732328414916992,
           2.821251392364502,
           2.9205379486083984,
           3.007699489593506,
           3.0458619594573975,
           3.0121941566467285
          ]
         ],
         "type": "surface"
        },
        {
         "marker": {
          "color": "#72356c"
         },
         "mode": "markers",
         "name": "training data",
         "x": [
          0.5,
          0.5,
          1.0000000037252903,
          1.0000000037252903,
          1.5000000074505806,
          1.5000000074505806,
          5.000000000000001,
          5.000000000000001,
          0.5,
          5.000000000000001,
          2.0000000447034836,
          0.5,
          0.5,
          0.5,
          1.0000000037252903,
          1.0000000037252903,
          2.0000000447034836,
          2.0000000447034836,
          2.0000000447034836,
          2.0000000447034836,
          5.000000000000001,
          5.000000000000001,
          5.000000000000001
         ],
         "y": [
          2.7300000190734863,
          3.4000001145614362,
          3.7899999185612288,
          6.440000140764965,
          5.3600000716472636,
          8.98999989360641,
          8.800000081362441,
          14.670000341289324,
          5.239999811442516,
          14.890000123887603,
          10.130000282220237,
          4.510000154033449,
          5.369999872371615,
          4.880000167190786,
          6.760000203331785,
          7.769999962835257,
          8.729999392960707,
          9.380000265787459,
          10.479999178778854,
          11.010000170188363,
          14.710000301761738,
          15.4399995803833,
          13.370000110785838
         ],
         "z": [
          0.8730257153511047,
          2.6772446632385254,
          1.6990152597427368,
          3.8050527572631836,
          3.3348562717437744,
          4.535152912139893,
          1.3625102043151855,
          3.8412907123565674,
          1.2013570070266724,
          3.5136520862579346,
          3.4708714485168457,
          0.26329824328422546,
          2.7753403186798096,
          2.591306209564209,
          2.579984426498413,
          3.173818588256836,
          0.13150499761104584,
          0.45116370916366577,
          2.1266398429870605,
          3.468212842941284,
          3.685852527618408,
          3.445655584335327,
          2.6515469551086426
         ],
         "type": "scatter3d"
        }
       ],
       "layout": {
        "template": {
         "data": {
          "barpolar": [
           {
            "marker": {
             "line": {
              "color": "rgb(237,237,237)",
              "width": 0.5
             },
             "pattern": {
              "fillmode": "overlay",
              "size": 10,
              "solidity": 0.2
             }
            },
            "type": "barpolar"
           }
          ],
          "bar": [
           {
            "error_x": {
             "color": "rgb(51,51,51)"
            },
            "error_y": {
             "color": "rgb(51,51,51)"
            },
            "marker": {
             "line": {
              "color": "rgb(237,237,237)",
              "width": 0.5
             },
             "pattern": {
              "fillmode": "overlay",
              "size": 10,
              "solidity": 0.2
             }
            },
            "type": "bar"
           }
          ],
          "carpet": [
           {
            "aaxis": {
             "endlinecolor": "rgb(51,51,51)",
             "gridcolor": "white",
             "linecolor": "white",
             "minorgridcolor": "white",
             "startlinecolor": "rgb(51,51,51)"
            },
            "baxis": {
             "endlinecolor": "rgb(51,51,51)",
             "gridcolor": "white",
             "linecolor": "white",
             "minorgridcolor": "white",
             "startlinecolor": "rgb(51,51,51)"
            },
            "type": "carpet"
           }
          ],
          "choropleth": [
           {
            "colorbar": {
             "outlinewidth": 0,
             "tickcolor": "rgb(237,237,237)",
             "ticklen": 6,
             "ticks": "inside"
            },
            "type": "choropleth"
           }
          ],
          "contourcarpet": [
           {
            "colorbar": {
             "outlinewidth": 0,
             "tickcolor": "rgb(237,237,237)",
             "ticklen": 6,
             "ticks": "inside"
            },
            "type": "contourcarpet"
           }
          ],
          "contour": [
           {
            "colorbar": {
             "outlinewidth": 0,
             "tickcolor": "rgb(237,237,237)",
             "ticklen": 6,
             "ticks": "inside"
            },
            "colorscale": [
             [
              0,
              "rgb(20,44,66)"
             ],
             [
              1,
              "rgb(90,179,244)"
             ]
            ],
            "type": "contour"
           }
          ],
          "heatmapgl": [
           {
            "colorbar": {
             "outlinewidth": 0,
             "tickcolor": "rgb(237,237,237)",
             "ticklen": 6,
             "ticks": "inside"
            },
            "colorscale": [
             [
              0,
              "rgb(20,44,66)"
             ],
             [
              1,
              "rgb(90,179,244)"
             ]
            ],
            "type": "heatmapgl"
           }
          ],
          "heatmap": [
           {
            "colorbar": {
             "outlinewidth": 0,
             "tickcolor": "rgb(237,237,237)",
             "ticklen": 6,
             "ticks": "inside"
            },
            "colorscale": [
             [
              0,
              "rgb(20,44,66)"
             ],
             [
              1,
              "rgb(90,179,244)"
             ]
            ],
            "type": "heatmap"
           }
          ],
          "histogram2dcontour": [
           {
            "colorbar": {
             "outlinewidth": 0,
             "tickcolor": "rgb(237,237,237)",
             "ticklen": 6,
             "ticks": "inside"
            },
            "colorscale": [
             [
              0,
              "rgb(20,44,66)"
             ],
             [
              1,
              "rgb(90,179,244)"
             ]
            ],
            "type": "histogram2dcontour"
           }
          ],
          "histogram2d": [
           {
            "colorbar": {
             "outlinewidth": 0,
             "tickcolor": "rgb(237,237,237)",
             "ticklen": 6,
             "ticks": "inside"
            },
            "colorscale": [
             [
              0,
              "rgb(20,44,66)"
             ],
             [
              1,
              "rgb(90,179,244)"
             ]
            ],
            "type": "histogram2d"
           }
          ],
          "histogram": [
           {
            "marker": {
             "pattern": {
              "fillmode": "overlay",
              "size": 10,
              "solidity": 0.2
             }
            },
            "type": "histogram"
           }
          ],
          "mesh3d": [
           {
            "colorbar": {
             "outlinewidth": 0,
             "tickcolor": "rgb(237,237,237)",
             "ticklen": 6,
             "ticks": "inside"
            },
            "type": "mesh3d"
           }
          ],
          "parcoords": [
           {
            "line": {
             "colorbar": {
              "outlinewidth": 0,
              "tickcolor": "rgb(237,237,237)",
              "ticklen": 6,
              "ticks": "inside"
             }
            },
            "type": "parcoords"
           }
          ],
          "pie": [
           {
            "automargin": true,
            "type": "pie"
           }
          ],
          "scatter3d": [
           {
            "line": {
             "colorbar": {
              "outlinewidth": 0,
              "tickcolor": "rgb(237,237,237)",
              "ticklen": 6,
              "ticks": "inside"
             }
            },
            "marker": {
             "colorbar": {
              "outlinewidth": 0,
              "tickcolor": "rgb(237,237,237)",
              "ticklen": 6,
              "ticks": "inside"
             }
            },
            "type": "scatter3d"
           }
          ],
          "scattercarpet": [
           {
            "marker": {
             "colorbar": {
              "outlinewidth": 0,
              "tickcolor": "rgb(237,237,237)",
              "ticklen": 6,
              "ticks": "inside"
             }
            },
            "type": "scattercarpet"
           }
          ],
          "scattergeo": [
           {
            "marker": {
             "colorbar": {
              "outlinewidth": 0,
              "tickcolor": "rgb(237,237,237)",
              "ticklen": 6,
              "ticks": "inside"
             }
            },
            "type": "scattergeo"
           }
          ],
          "scattergl": [
           {
            "marker": {
             "colorbar": {
              "outlinewidth": 0,
              "tickcolor": "rgb(237,237,237)",
              "ticklen": 6,
              "ticks": "inside"
             }
            },
            "type": "scattergl"
           }
          ],
          "scattermapbox": [
           {
            "marker": {
             "colorbar": {
              "outlinewidth": 0,
              "tickcolor": "rgb(237,237,237)",
              "ticklen": 6,
              "ticks": "inside"
             }
            },
            "type": "scattermapbox"
           }
          ],
          "scatterpolargl": [
           {
            "marker": {
             "colorbar": {
              "outlinewidth": 0,
              "tickcolor": "rgb(237,237,237)",
              "ticklen": 6,
              "ticks": "inside"
             }
            },
            "type": "scatterpolargl"
           }
          ],
          "scatterpolar": [
           {
            "marker": {
             "colorbar": {
              "outlinewidth": 0,
              "tickcolor": "rgb(237,237,237)",
              "ticklen": 6,
              "ticks": "inside"
             }
            },
            "type": "scatterpolar"
           }
          ],
          "scatter": [
           {
            "fillpattern": {
             "fillmode": "overlay",
             "size": 10,
             "solidity": 0.2
            },
            "type": "scatter"
           }
          ],
          "scatterternary": [
           {
            "marker": {
             "colorbar": {
              "outlinewidth": 0,
              "tickcolor": "rgb(237,237,237)",
              "ticklen": 6,
              "ticks": "inside"
             }
            },
            "type": "scatterternary"
           }
          ],
          "surface": [
           {
            "colorbar": {
             "outlinewidth": 0,
             "tickcolor": "rgb(237,237,237)",
             "ticklen": 6,
             "ticks": "inside"
            },
            "colorscale": [
             [
              0,
              "rgb(20,44,66)"
             ],
             [
              1,
              "rgb(90,179,244)"
             ]
            ],
            "type": "surface"
           }
          ],
          "table": [
           {
            "cells": {
             "fill": {
              "color": "rgb(237,237,237)"
             },
             "line": {
              "color": "white"
             }
            },
            "header": {
             "fill": {
              "color": "rgb(217,217,217)"
             },
             "line": {
              "color": "white"
             }
            },
            "type": "table"
           }
          ]
         },
         "layout": {
          "annotationdefaults": {
           "arrowhead": 0,
           "arrowwidth": 1
          },
          "autotypenumbers": "strict",
          "coloraxis": {
           "colorbar": {
            "outlinewidth": 0,
            "tickcolor": "rgb(237,237,237)",
            "ticklen": 6,
            "ticks": "inside"
           }
          },
          "colorscale": {
           "sequential": [
            [
             0,
             "rgb(20,44,66)"
            ],
            [
             1,
             "rgb(90,179,244)"
            ]
           ],
           "sequentialminus": [
            [
             0,
             "rgb(20,44,66)"
            ],
            [
             1,
             "rgb(90,179,244)"
            ]
           ]
          },
          "colorway": [
           "#F8766D",
           "#A3A500",
           "#00BF7D",
           "#00B0F6",
           "#E76BF3"
          ],
          "font": {
           "color": "rgb(51,51,51)"
          },
          "geo": {
           "bgcolor": "white",
           "lakecolor": "white",
           "landcolor": "rgb(237,237,237)",
           "showlakes": true,
           "showland": true,
           "subunitcolor": "white"
          },
          "hoverlabel": {
           "align": "left"
          },
          "hovermode": "closest",
          "paper_bgcolor": "white",
          "plot_bgcolor": "rgb(237,237,237)",
          "polar": {
           "angularaxis": {
            "gridcolor": "white",
            "linecolor": "white",
            "showgrid": true,
            "tickcolor": "rgb(51,51,51)",
            "ticks": "outside"
           },
           "bgcolor": "rgb(237,237,237)",
           "radialaxis": {
            "gridcolor": "white",
            "linecolor": "white",
            "showgrid": true,
            "tickcolor": "rgb(51,51,51)",
            "ticks": "outside"
           }
          },
          "scene": {
           "xaxis": {
            "backgroundcolor": "rgb(237,237,237)",
            "gridcolor": "white",
            "gridwidth": 2,
            "linecolor": "white",
            "showbackground": true,
            "showgrid": true,
            "tickcolor": "rgb(51,51,51)",
            "ticks": "outside",
            "zerolinecolor": "white"
           },
           "yaxis": {
            "backgroundcolor": "rgb(237,237,237)",
            "gridcolor": "white",
            "gridwidth": 2,
            "linecolor": "white",
            "showbackground": true,
            "showgrid": true,
            "tickcolor": "rgb(51,51,51)",
            "ticks": "outside",
            "zerolinecolor": "white"
           },
           "zaxis": {
            "backgroundcolor": "rgb(237,237,237)",
            "gridcolor": "white",
            "gridwidth": 2,
            "linecolor": "white",
            "showbackground": true,
            "showgrid": true,
            "tickcolor": "rgb(51,51,51)",
            "ticks": "outside",
            "zerolinecolor": "white"
           }
          },
          "shapedefaults": {
           "fillcolor": "black",
           "line": {
            "width": 0
           },
           "opacity": 0.3
          },
          "ternary": {
           "aaxis": {
            "gridcolor": "white",
            "linecolor": "white",
            "showgrid": true,
            "tickcolor": "rgb(51,51,51)",
            "ticks": "outside"
           },
           "baxis": {
            "gridcolor": "white",
            "linecolor": "white",
            "showgrid": true,
            "tickcolor": "rgb(51,51,51)",
            "ticks": "outside"
           },
           "bgcolor": "rgb(237,237,237)",
           "caxis": {
            "gridcolor": "white",
            "linecolor": "white",
            "showgrid": true,
            "tickcolor": "rgb(51,51,51)",
            "ticks": "outside"
           }
          },
          "xaxis": {
           "automargin": true,
           "gridcolor": "white",
           "linecolor": "white",
           "showgrid": true,
           "tickcolor": "rgb(51,51,51)",
           "ticks": "outside",
           "title": {
            "standoff": 15
           },
           "zerolinecolor": "white"
          },
          "yaxis": {
           "automargin": true,
           "gridcolor": "white",
           "linecolor": "white",
           "showgrid": true,
           "tickcolor": "rgb(51,51,51)",
           "ticks": "outside",
           "title": {
            "standoff": 15
           },
           "zerolinecolor": "white"
          }
         }
        },
        "legend": {
         "orientation": "h",
         "yanchor": "top",
         "y": 1.02,
         "xanchor": "left",
         "x": 1
        },
        "margin": {
         "r": 0,
         "l": 0,
         "b": 0,
         "t": 0
        },
        "width": 1000,
        "height": 800,
        "scene": {
         "xaxis": {
          "title": {
           "text": "Pulse Width (msec)"
          }
         },
         "yaxis": {
          "title": {
           "text": "Energy density new cone (J/cm^2)"
          }
         },
         "zaxis": {
          "title": {
           "text": "2 Qsw/(U+|D|) 1e6"
          }
         },
         "camera": {
          "up": {
           "x": 0,
           "y": 0,
           "z": 1
          },
          "center": {
           "x": 0,
           "y": 0,
           "z": 0
          },
          "eye": {
           "x": 2.75,
           "y": 1.75,
           "z": 1
          }
         }
        }
       },
       "config": {
        "plotlyServerURL": "https://plot.ly"
       }
      }
     },
     "metadata": {}
    }
   ],
   "metadata": {}
  },
  {
   "cell_type": "code",
   "execution_count": 187,
   "source": [
    "import plotly.graph_objects as go\n",
    "def vis_acq(train_x, train_y, test_grid, pred_labels, upper_surf, lower_surf, acqs):\n",
    "    fig = go.Figure(data=[go.Surface(z=pred_labels.numpy(), \n",
    "                                    x=test_grid[:,0],\n",
    "                                    y=test_grid[:,1],\n",
    "                                    opacity = 0.8,\n",
    "                                    colorscale = \"Burg\",\n",
    "                                    colorbar=dict(thickness=15, len=0.5),\n",
    "                                    name='GP regression')])\n",
    "\n",
    "    fig.add_trace(go.Surface(z=upper_surf, x=test_grid[:,0],\n",
    "                    y=test_grid[:,1], opacity=0.2, colorscale = \"Burg\", showscale=False))\n",
    "\n",
    "    fig.add_trace(go.Surface(z=lower_surf, x=test_grid[:,0],\n",
    "                            y=test_grid[:,1], \n",
    "                            colorscale = \"Burg\",\n",
    "                            opacity=0.2, showscale=False))\n",
    "    fig.add_trace(go.Scatter3d(x=train_x[:,0], \n",
    "                                y=train_x[:,1], \n",
    "                                z=train_y.numpy(), \n",
    "                                mode='markers', \n",
    "                                name='training data', \n",
    "                                marker={'color':'#72356c'}))\n",
    "    \n",
    "    for acq_name, acq_val in acqs.items():\n",
    "        fig.add_trace(go.Scatter3d(x=[test_grid[acq_val[1], 0]], \n",
    "                                y=[test_grid[acq_val[0], 1]],\n",
    "                                z=[pred_labels[acq_val[0], acq_val[1]]], mode='markers', \n",
    "                                name='max(' + acq_name + ')')) \n",
    "\n",
    "    fig.update_layout(width=1200, height=750,\n",
    "                    margin=dict(r=20, l=10, b=15, t=10),\n",
    "                    legend=dict(orientation=\"h\", yanchor=\"bottom\", \n",
    "                                y=0.9, xanchor=\"right\",x=0.85),\n",
    "                    scene=dict(\n",
    "                        xaxis_title=\"Pulse Width (msec)\",\n",
    "                        yaxis_title=\"Energy density new cone (J/cm^2)\",\n",
    "                        zaxis_title='2 Qsw/(U+|D|) 1e6')\n",
    "                    )\n",
    "\n",
    "    fig.update_layout(template=\"ggplot2\")\n",
    "    camera = dict(\n",
    "    up=dict(x=0, y=0, z=1),\n",
    "    center=dict(x=0, y=0, z=0),\n",
    "    eye=dict(x=2, y=0.3, z=0.75))\n",
    "\n",
    "    fig.update_layout(scene_camera=camera)\n",
    "\n",
    "    fig.show()\n",
    "    # fig.write_image(\"output_plot.png\", format = \"png\", scale=3)"
   ],
   "outputs": [],
   "metadata": {}
  },
  {
   "cell_type": "code",
   "execution_count": 188,
   "source": [
    "vis_acq(raw_train_x, train_y, raw_test_grid, pred_labels, upper_surf, lower_surf, acqs)"
   ],
   "outputs": [
    {
     "output_type": "display_data",
     "data": {
      "application/vnd.plotly.v1+json": {
       "data": [
        {
         "colorbar": {
          "len": 0.5,
          "thickness": 15
         },
         "colorscale": [
          [
           0,
           "rgb(255, 198, 196)"
          ],
          [
           0.16666666666666666,
           "rgb(244, 163, 168)"
          ],
          [
           0.3333333333333333,
           "rgb(227, 129, 145)"
          ],
          [
           0.5,
           "rgb(204, 96, 125)"
          ],
          [
           0.6666666666666666,
           "rgb(173, 70, 108)"
          ],
          [
           0.8333333333333334,
           "rgb(139, 48, 88)"
          ],
          [
           1,
           "rgb(103, 32, 68)"
          ]
         ],
         "name": "GP regression",
         "opacity": 0.8,
         "x": [
          0.33928570710122585,
          0.5055418629199266,
          0.6717980187386274,
          0.8380541577935219,
          1.0043103471398354,
          1.1705665364861488,
          1.336822658777237,
          1.503078781068325,
          1.6693349033594131,
          1.8355910927057266,
          2.0018471479415894,
          2.168103337287903,
          2.3343595266342168,
          2.5006157159805302,
          2.6668719053268437,
          2.833128094673157,
          2.9993842840194707,
          3.165640473365784,
          3.3318966627120976,
          3.4981525838375096,
          3.664408773183823,
          3.8306649625301366,
          3.99692115187645,
          4.163177341222764,
          4.329433262348176,
          4.495689451694489,
          4.661945641040803,
          4.828201830387116,
          4.99445801973343,
          5.160714209079743
         ],
         "y": [
          2.276071443020234,
          2.745652702469288,
          3.215233961918342,
          3.684815174018958,
          4.154396528164888,
          4.623977882310818,
          5.093559047062996,
          5.563140211815174,
          6.032721376567352,
          6.502302730713282,
          6.971883706071708,
          7.441465060217638,
          7.911046414363568,
          8.380627768509498,
          8.850209122655428,
          9.319790476801359,
          9.789371830947289,
          10.258953185093219,
          10.72853453923915,
          11.19811513581007,
          11.667696489956,
          12.13727784410193,
          12.60685919824786,
          13.076440552393791,
          13.546021148964712,
          14.015602503110642,
          14.485183857256573,
          14.954765211402503,
          15.424346565548433,
          15.893927919694363
         ],
         "z": [
          [
           1.4377022981643677,
           1.3497545719146729,
           1.4384028911590576,
           1.642566204071045,
           1.8660833835601807,
           2.0557985305786133,
           2.198596954345703,
           2.299562454223633,
           2.3685214519500732,
           2.41464900970459,
           2.445060968399048,
           2.464874267578125,
           2.477640390396118,
           2.485776424407959,
           2.4909048080444336,
           2.4941022396087646,
           2.4960737228393555,
           2.4972763061523438,
           2.498002290725708,
           2.4984357357025146,
           2.498692035675049,
           2.4988420009613037,
           2.498929023742676,
           2.498978853225708,
           2.499007225036621,
           2.499023199081421,
           2.4990320205688477,
           2.499037027359009,
           2.499039649963379,
           2.4990410804748535
          ],
          [
           1.1806892156600952,
           0.9681153297424316,
           1.1705057621002197,
           1.499202013015747,
           1.7837309837341309,
           1.9975754022598267,
           2.1521449089050293,
           2.262559175491333,
           2.340585708618164,
           2.3948452472686768,
           2.4318249225616455,
           2.4564859867095947,
           2.4725804328918457,
           2.4828691482543945,
           2.489318609237671,
           2.493288278579712,
           2.4956893920898438,
           2.4971179962158203,
           2.4979546070098877,
           2.49843692779541,
           2.498710870742798,
           2.498863935470581,
           2.498948097229004,
           2.4989936351776123,
           2.4990177154541016,
           2.499030113220215,
           2.4990363121032715,
           2.4990394115448,
           2.4990408420562744,
           2.4990415573120117
          ],
          [
           2.287217617034912,
           2.304023504257202,
           2.1947500705718994,
           2.0803542137145996,
           2.0438008308410645,
           2.0807199478149414,
           2.1584830284118652,
           2.245030403137207,
           2.3213794231414795,
           2.3807482719421387,
           2.4233479499816895,
           2.4522178173065186,
           2.4709389209747314,
           2.4826436042785645,
           2.4897327423095703,
           2.493903398513794,
           2.4962897300720215,
           2.4976181983947754,
           2.49833607673645,
           2.4987118244171143,
           2.4989006519317627,
           2.498990535736084,
           2.499030351638794,
           2.4990453720092773,
           2.499049186706543,
           2.4990487098693848,
           2.499046564102173,
           2.499044418334961,
           2.499042510986328,
           2.4990413188934326
          ],
          [
           2.2013351917266846,
           2.178507089614868,
           2.0435287952423096,
           1.8886927366256714,
           1.8294399976730347,
           1.9117006063461304,
           2.05427885055542,
           2.1913461685180664,
           2.2998530864715576,
           2.3771109580993652,
           2.428206443786621,
           2.460038423538208,
           2.4788331985473633,
           2.489360809326172,
           2.4949333667755127,
           2.497687816619873,
           2.4989235401153564,
           2.499389410018921,
           2.499495267868042,
           2.499453067779541,
           2.4993650913238525,
           2.4992759227752686,
           2.499201774597168,
           2.4991455078125,
           2.499105453491211,
           2.499077796936035,
           2.4990594387054443,
           2.4990475177764893,
           2.499040126800537,
           2.499035596847534
          ],
          [
           0.8912073373794556,
           0.6763126850128174,
           0.8145338296890259,
           1.1457439661026,
           1.4888639450073242,
           1.7946619987487793,
           2.046487331390381,
           2.2339446544647217,
           2.3603875637054443,
           2.4377641677856445,
           2.480332374572754,
           2.5007903575897217,
           2.508639097213745,
           2.5101044178009033,
           2.508828639984131,
           2.5067200660705566,
           2.5046541690826416,
           2.502953052520752,
           2.5016729831695557,
           2.5007622241973877,
           2.500138759613037,
           2.4997236728668213,
           2.499452829360962,
           2.499279022216797,
           2.499168634414673,
           2.4990994930267334,
           2.499056816101074,
           2.499030828475952,
           2.4990158081054688,
           2.4990077018737793
          ],
          [
           1.204345703125,
           1.0513150691986084,
           1.2369072437286377,
           1.5440669059753418,
           1.8634700775146484,
           2.1487298011779785,
           2.372633457183838,
           2.5225749015808105,
           2.600522518157959,
           2.623377799987793,
           2.6142661571502686,
           2.5921828746795654,
           2.56839656829834,
           2.547938823699951,
           2.532200574874878,
           2.5208802223205566,
           2.5130960941314697,
           2.507913589477539,
           2.5045454502105713,
           2.502396821975708,
           2.5010457038879395,
           2.5002052783966064,
           2.4996864795684814,
           2.4993674755096436,
           2.499171733856201,
           2.4990522861480713,
           2.4989798069000244,
           2.4989373683929443,
           2.4989142417907715,
           2.4989044666290283
          ],
          [
           1.912184238433838,
           1.8063759803771973,
           2.047025203704834,
           2.3213107585906982,
           2.557833194732666,
           2.7734718322753906,
           2.9515466690063477,
           3.0422377586364746,
           3.0118236541748047,
           2.911303758621216,
           2.801133394241333,
           2.708136796951294,
           2.6383185386657715,
           2.589263677597046,
           2.5562398433685303,
           2.534665822982788,
           2.5208840370178223,
           2.512232542037964,
           2.506876230239868,
           2.5035958290100098,
           2.5016016960144043,
           2.5003936290740967,
           2.4996607303619385,
           2.4992127418518066,
           2.4989359378814697,
           2.498763084411621,
           2.4986565113067627,
           2.4985945224761963,
           2.4985649585723877,
           2.498560905456543
          ],
          [
           2.9367966651916504,
           3.1526927947998047,
           3.1679165363311768,
           3.1871118545532227,
           3.25789213180542,
           3.3343613147735596,
           3.385690450668335,
           3.363461971282959,
           3.22991943359375,
           3.0494396686553955,
           2.8851983547210693,
           2.757805824279785,
           2.6668756008148193,
           2.6051926612854004,
           2.5647802352905273,
           2.53897762298584,
           2.522834539413452,
           2.5129003524780273,
           2.506866693496704,
           2.5032339096069336,
           2.501051187515259,
           2.499727249145508,
           2.498904228210449,
           2.4983716011047363,
           2.4980106353759766,
           2.4977593421936035,
           2.497588634490967,
           2.4974865913391113,
           2.4974491596221924,
           2.497472047805786
          ],
          [
           3.233438014984131,
           3.453094482421875,
           3.6397690773010254,
           3.7795984745025635,
           3.8187084197998047,
           3.709076166152954,
           3.510521411895752,
           3.3006043434143066,
           3.1087589263916016,
           2.9432668685913086,
           2.8089816570281982,
           2.706848621368408,
           2.633455991744995,
           2.583113670349121,
           2.5498862266540527,
           2.5286684036254883,
           2.515509843826294,
           2.5075550079345703,
           2.502835750579834,
           2.500049114227295,
           2.4983632564544678,
           2.497267246246338,
           2.496466636657715,
           2.495807647705078,
           2.495229482650757,
           2.4947288036346436,
           2.494333267211914,
           2.4940812587738037,
           2.494004964828491,
           2.49411678314209
          ],
          [
           2.9645581245422363,
           3.1027817726135254,
           3.2612595558166504,
           3.436394214630127,
           3.538299083709717,
           3.3830840587615967,
           3.173356056213379,
           2.9966721534729004,
           2.857605457305908,
           2.7496237754821777,
           2.666978359222412,
           2.605548620223999,
           2.5618321895599365,
           2.5323562622070312,
           2.5136919021606445,
           2.502708673477173,
           2.4967947006225586,
           2.4939451217651367,
           2.492733955383301,
           2.4922168254852295,
           2.4918158054351807,
           2.491215705871582,
           2.4902877807617188,
           2.4890379905700684,
           2.4875762462615967,
           2.4860877990722656,
           2.4847991466522217,
           2.4839344024658203,
           2.4836618900299072,
           2.4840543270111084
          ],
          [
           2.6738476753234863,
           2.663628578186035,
           2.6019721031188965,
           2.4866390228271484,
           2.4062111377716064,
           2.466200351715088,
           2.5545296669006348,
           2.590059757232666,
           2.579106092453003,
           2.545705795288086,
           2.508448362350464,
           2.4778692722320557,
           2.4581186771392822,
           2.449082612991333,
           2.44834566116333,
           2.4527690410614014,
           2.4595067501068115,
           2.466456174850464,
           2.4723007678985596,
           2.476348876953125,
           2.4783267974853516,
           2.4782185554504395,
           2.4761812686920166,
           2.4725327491760254,
           2.4677798748016357,
           2.4626407623291016,
           2.4580001831054688,
           2.454767942428589,
           2.45365571975708,
           2.4549660682678223
          ],
          [
           2.654233932495117,
           2.690999984741211,
           2.729145050048828,
           2.763040542602539,
           2.772737503051758,
           2.738172769546509,
           2.670138359069824,
           2.5829432010650635,
           2.485849618911743,
           2.392552614212036,
           2.3192172050476074,
           2.2770681381225586,
           2.2677080631256104,
           2.2841522693634033,
           2.3155620098114014,
           2.3518338203430176,
           2.385915756225586,
           2.4140002727508545,
           2.434664249420166,
           2.447831392288208,
           2.4539794921875,
           2.4536960124969482,
           2.4475579261779785,
           2.436271905899048,
           2.4210011959075928,
           2.4037296772003174,
           2.3874056339263916,
           2.3755416870117188,
           2.37117075920105,
           2.375598669052124
          ],
          [
           2.747591972351074,
           2.8596510887145996,
           3.002328395843506,
           3.1524453163146973,
           3.235133171081543,
           3.165536880493164,
           2.9802639484405518,
           2.720015048980713,
           2.415731906890869,
           2.1218438148498535,
           1.9067113399505615,
           1.8134175539016724,
           1.8345637321472168,
           1.927666425704956,
           2.047053575515747,
           2.1617140769958496,
           2.2566957473754883,
           2.3278708457946777,
           2.376526117324829,
           2.405717372894287,
           2.418304920196533,
           2.4161438941955566,
           2.400028944015503,
           2.3702380657196045,
           2.327719211578369,
           2.2759439945220947,
           2.2229015827178955,
           2.181415557861328,
           2.165083408355713,
           2.180325508117676
          ],
          [
           2.799428701400757,
           2.9386777877807617,
           3.1153955459594727,
           3.3131136894226074,
           3.4907217025756836,
           3.5787601470947266,
           3.4777333736419678,
           3.082972526550293,
           2.386798143386841,
           1.57771897315979,
           0.9869351387023926,
           0.8338301181793213,
           1.017430305480957,
           1.330471158027649,
           1.642836570739746,
           1.9009442329406738,
           2.0933661460876465,
           2.226716995239258,
           2.3126583099365234,
           2.361912965774536,
           2.3819963932037354,
           2.3766815662384033,
           2.3462185859680176,
           2.288100004196167,
           2.1988136768341064,
           2.0778048038482666,
           1.9355576038360596,
           1.8059104681015015,
           1.7480721473693848,
           1.8002655506134033
          ],
          [
           2.8102738857269287,
           2.9689035415649414,
           3.1920676231384277,
           3.4916000366210938,
           3.864198923110962,
           4.260004997253418,
           4.508388996124268,
           4.18656063079834,
           2.9360947608947754,
           1.341008186340332,
           0.19612956047058105,
           -0.007049083709716797,
           0.36662793159484863,
           0.8912866115570068,
           1.3686587810516357,
           1.7376680374145508,
           1.998757004737854,
           2.172436475753784,
           2.2809886932373047,
           2.3419742584228516,
           2.3667616844177246,
           2.3607864379882812,
           2.3242099285125732,
           2.252697706222534,
           2.138806104660034,
           1.9754489660263062,
           1.7647571563720703,
           1.539344072341919,
           1.409948706626892,
           1.5270378589630127
          ],
          [
           2.7650341987609863,
           2.902273654937744,
           3.096522808074951,
           3.356619119644165,
           3.67226243019104,
           3.9812960624694824,
           4.112564563751221,
           3.7632548809051514,
           2.763979196548462,
           1.4369319677352905,
           0.4361448287963867,
           0.32685232162475586,
           0.6944376230239868,
           1.1531424522399902,
           1.5543498992919922,
           1.860284686088562,
           2.076489210128784,
           2.2210075855255127,
           2.312045097351074,
           2.3638172149658203,
           2.3857178688049316,
           2.3826828002929688,
           2.355961799621582,
           2.304239273071289,
           2.2255990505218506,
           2.121349573135376,
           2.0027945041656494,
           1.8992645740509033,
           1.854823112487793,
           1.8950837850570679
          ],
          [
           2.6780588626861572,
           2.761353015899658,
           2.8711588382720947,
           3.004197120666504,
           3.1439404487609863,
           3.2534492015838623,
           3.2776737213134766,
           3.17098069190979,
           2.9447171688079834,
           2.673910617828369,
           2.414863109588623,
           2.1879634857177734,
           2.0628716945648193,
           2.055891275405884,
           2.118995189666748,
           2.2039074897766113,
           2.2829596996307373,
           2.345195770263672,
           2.3886914253234863,
           2.415097713470459,
           2.4267334938049316,
           2.425363063812256,
           2.4119760990142822,
           2.3872179985046387,
           2.3523714542388916,
           2.3107638359069824,
           2.2690622806549072,
           2.2370986938476562,
           2.224701166152954,
           2.2363719940185547
          ],
          [
           2.600107431411743,
           2.6413755416870117,
           2.6926441192626953,
           2.7514572143554688,
           2.811943531036377,
           2.8654112815856934,
           2.90402889251709,
           2.927572727203369,
           2.948673725128174,
           2.9842069149017334,
           2.983386516571045,
           2.8161818981170654,
           2.6438071727752686,
           2.5342957973480225,
           2.478048086166382,
           2.4559848308563232,
           2.4522008895874023,
           2.456134796142578,
           2.461686372756958,
           2.465700387954712,
           2.4666991233825684,
           2.464073657989502,
           2.457690715789795,
           2.447817802429199,
           2.435248374938965,
           2.421480655670166,
           2.408733606338501,
           2.3995914459228516,
           2.3962361812591553,
           2.399594783782959
          ],
          [
           2.5539419651031494,
           2.5756609439849854,
           2.6033458709716797,
           2.637188673019409,
           2.676450729370117,
           2.718543529510498,
           2.75689697265625,
           2.776980400085449,
           2.753934383392334,
           2.6719729900360107,
           2.596790313720703,
           2.6223418712615967,
           2.6594882011413574,
           2.6506500244140625,
           2.614872694015503,
           2.575944185256958,
           2.5447030067443848,
           2.5229873657226562,
           2.508944272994995,
           2.499969482421875,
           2.493849039077759,
           2.4890270233154297,
           2.48455810546875,
           2.479996681213379,
           2.4753024578094482,
           2.4707601070404053,
           2.4668753147125244,
           2.464226007461548,
           2.463275909423828,
           2.464211940765381
          ],
          [
           2.5321857929229736,
           2.5473127365112305,
           2.569059371948242,
           2.600470542907715,
           2.6461918354034424,
           2.7132933139801025,
           2.8121848106384277,
           2.956420660018921,
           3.1557962894439697,
           3.3841586112976074,
           3.502622127532959,
           3.3640289306640625,
           3.122039794921875,
           2.9139325618743896,
           2.7651257514953613,
           2.6655056476593018,
           2.600858688354492,
           2.5597691535949707,
           2.5340616703033447,
           2.5181210041046143,
           2.508200168609619,
           2.501873731613159,
           2.4976272583007812,
           2.4945666790008545,
           2.4922125339508057,
           2.490358591079712,
           2.4889638423919678,
           2.488067626953125,
           2.4877190589904785,
           2.487927198410034
          ],
          [
           2.520922899246216,
           2.532289981842041,
           2.5495424270629883,
           2.575615406036377,
           2.6145737171173096,
           2.671440839767456,
           2.75089955329895,
           2.8535234928131104,
           2.9683947563171387,
           3.065551280975342,
           3.1029765605926514,
           3.0594089031219482,
           2.957463026046753,
           2.8395607471466064,
           2.7354531288146973,
           2.65574312210083,
           2.5995705127716064,
           2.5619707107543945,
           2.53764271736145,
           2.5222668647766113,
           2.512702465057373,
           2.506805419921875,
           2.5031697750091553,
           2.500903367996216,
           2.4994585514068604,
           2.4985156059265137,
           2.497899293899536,
           2.49752140045166,
           2.497337818145752,
           2.497317314147949
          ],
          [
           2.5127999782562256,
           2.5200107097625732,
           2.5307235717773438,
           2.5462934970855713,
           2.5682013034820557,
           2.5976059436798096,
           2.6344528198242188,
           2.67618727684021,
           2.71667218208313,
           2.746706247329712,
           2.7573704719543457,
           2.7449769973754883,
           2.713505744934082,
           2.672046661376953,
           2.629833221435547,
           2.592952251434326,
           2.5638809204101562,
           2.542595386505127,
           2.527867078781128,
           2.518153429031372,
           2.5120434761047363,
           2.508408308029175,
           2.506403923034668,
           2.5054173469543457,
           2.505011558532715,
           2.504885673522949,
           2.5048537254333496,
           2.504822254180908,
           2.504755973815918,
           2.504634141921997
          ],
          [
           2.5066871643066406,
           2.510422468185425,
           2.515709161758423,
           2.5229485034942627,
           2.532442808151245,
           2.5442066192626953,
           2.557727098464966,
           2.571755886077881,
           2.584312915802002,
           2.5930681228637695,
           2.596095085144043,
           2.5926671028137207,
           2.5835962295532227,
           2.5708770751953125,
           2.5568859577178955,
           2.543635368347168,
           2.5324008464813232,
           2.523730516433716,
           2.5176522731781006,
           2.5139124393463135,
           2.5121469497680664,
           2.5119686126708984,
           2.5129826068878174,
           2.5147688388824463,
           2.516867160797119,
           2.518812894821167,
           2.5202407836914062,
           2.5210111141204834,
           2.521205425262451,
           2.520900011062622
          ],
          [
           2.502786874771118,
           2.5044357776641846,
           2.506652355194092,
           2.5095207691192627,
           2.5130615234375,
           2.5171828269958496,
           2.521636724472046,
           2.5260040760040283,
           2.529736280441284,
           2.532268524169922,
           2.5331759452819824,
           2.5323171615600586,
           2.5298919677734375,
           2.5263867378234863,
           2.5224392414093018,
           2.5186901092529297,
           2.5156822204589844,
           2.51383113861084,
           2.5134472846984863,
           2.5147783756256104,
           2.5180323123931885,
           2.5233564376831055,
           2.5307457447052,
           2.539886951446533,
           2.549978017807007,
           2.559644937515259,
           2.567180633544922,
           2.5713469982147217,
           2.5724546909332275,
           2.5714128017425537
          ],
          [
           2.500694990158081,
           2.5013442039489746,
           2.5021779537200928,
           2.503206729888916,
           2.5044171810150146,
           2.505763053894043,
           2.5071582794189453,
           2.508481740951538,
           2.509593963623047,
           2.5103654861450195,
           2.5107131004333496,
           2.510629415512085,
           2.5102005004882812,
           2.509603500366211,
           2.509094715118408,
           2.508997678756714,
           2.509704351425171,
           2.5116963386535645,
           2.515587091445923,
           2.522167205810547,
           2.53243350982666,
           2.547546148300171,
           2.5686397552490234,
           2.596381902694702,
           2.6301937103271484,
           2.667245864868164,
           2.7018179893493652,
           2.7263402938842773,
           2.7352070808410645,
           2.7274019718170166
          ],
          [
           2.499715805053711,
           2.4999520778656006,
           2.500244617462158,
           2.5005922317504883,
           2.5009875297546387,
           2.5014142990112305,
           2.5018489360809326,
           2.502261161804199,
           2.502622604370117,
           2.5029137134552,
           2.503136157989502,
           2.5033230781555176,
           2.5035529136657715,
           2.503962516784668,
           2.5047669410705566,
           2.5062921047210693,
           2.509026288986206,
           2.513700485229492,
           2.5214030742645264,
           2.5337343215942383,
           2.5529825687408447,
           2.58227276802063,
           2.6255643367767334,
           2.687203884124756,
           2.770479679107666,
           2.8743138313293457,
           2.987440824508667,
           3.0827317237854004,
           3.1228389739990234,
           3.087493896484375
          ],
          [
           2.4993011951446533,
           2.4993832111358643,
           2.4994819164276123,
           2.4995968341827393,
           2.499725341796875,
           2.499864101409912,
           2.500009298324585,
           2.500157356262207,
           2.500309944152832,
           2.500476837158203,
           2.500683546066284,
           2.5009801387786865,
           2.5014548301696777,
           2.50225567817688,
           2.5036232471466064,
           2.505943775177002,
           2.509831190109253,
           2.516251564025879,
           2.52670955657959,
           2.5435075759887695,
           2.5700902938842773,
           2.611448287963867,
           2.674483299255371,
           2.7680721282958984,
           2.90221905708313,
           3.0849807262420654,
           3.313962936401367,
           3.553805351257324,
           3.68387770652771,
           3.567936420440674
          ],
          [
           2.499138355255127,
           2.499166488647461,
           2.499199867248535,
           2.4992387294769287,
           2.4992835521698,
           2.4993348121643066,
           2.499393939971924,
           2.4994657039642334,
           2.499559164047241,
           2.4996914863586426,
           2.499894380569458,
           2.5002219676971436,
           2.5007660388946533,
           2.5016777515411377,
           2.5032055377960205,
           2.505750894546509,
           2.5099575519561768,
           2.516845226287842,
           2.5280027389526367,
           2.5458567142486572,
           2.5740058422088623,
           2.6175687313079834,
           2.6833627223968506,
           2.7794547080993652,
           2.913083076477051,
           3.085034132003784,
           3.277717113494873,
           3.438234806060791,
           3.494699478149414,
           3.4457907676696777
          ],
          [
           2.499077796936035,
           2.4990875720977783,
           2.4990997314453125,
           2.499114751815796,
           2.4991331100463867,
           2.499157190322876,
           2.499189615249634,
           2.4992361068725586,
           2.4993069171905518,
           2.4994192123413086,
           2.499602794647217,
           2.4999070167541504,
           2.500413656234741,
           2.5012569427490234,
           2.502655267715454,
           2.5049588680267334,
           2.50872540473938,
           2.5148274898529053,
           2.5246083736419678,
           2.5400869846343994,
           2.5642051696777344,
           2.6010663509368896,
           2.6560332775115967,
           2.735405921936035,
           2.845167636871338,
           2.988060235977173,
           3.157881736755371,
           3.3283491134643555,
           3.4242730140686035,
           3.3383660316467285
          ],
          [
           2.499055862426758,
           2.4990599155426025,
           2.4990649223327637,
           2.4990718364715576,
           2.499081611633301,
           2.4990956783294678,
           2.499117136001587,
           2.4991512298583984,
           2.4992058277130127,
           2.499295711517334,
           2.499444007873535,
           2.499689817428589,
           2.5000956058502197,
           2.5007638931274414,
           2.501856803894043,
           2.503631830215454,
           2.5064895153045654,
           2.51104474067688,
           2.5182206630706787,
           2.5293691158294678,
           2.5464019775390625,
           2.571899175643921,
           2.609100103378296,
           2.6615939140319824,
           2.732328414916992,
           2.821251392364502,
           2.9205379486083984,
           3.007699489593506,
           3.0458619594573975,
           3.0121941566467285
          ]
         ],
         "type": "surface"
        },
        {
         "colorscale": [
          [
           0,
           "rgb(255, 198, 196)"
          ],
          [
           0.16666666666666666,
           "rgb(244, 163, 168)"
          ],
          [
           0.3333333333333333,
           "rgb(227, 129, 145)"
          ],
          [
           0.5,
           "rgb(204, 96, 125)"
          ],
          [
           0.6666666666666666,
           "rgb(173, 70, 108)"
          ],
          [
           0.8333333333333334,
           "rgb(139, 48, 88)"
          ],
          [
           1,
           "rgb(103, 32, 68)"
          ]
         ],
         "opacity": 0.2,
         "showscale": false,
         "x": [
          0.33928570710122585,
          0.5055418629199266,
          0.6717980187386274,
          0.8380541577935219,
          1.0043103471398354,
          1.1705665364861488,
          1.336822658777237,
          1.503078781068325,
          1.6693349033594131,
          1.8355910927057266,
          2.0018471479415894,
          2.168103337287903,
          2.3343595266342168,
          2.5006157159805302,
          2.6668719053268437,
          2.833128094673157,
          2.9993842840194707,
          3.165640473365784,
          3.3318966627120976,
          3.4981525838375096,
          3.664408773183823,
          3.8306649625301366,
          3.99692115187645,
          4.163177341222764,
          4.329433262348176,
          4.495689451694489,
          4.661945641040803,
          4.828201830387116,
          4.99445801973343,
          5.160714209079743
         ],
         "y": [
          2.276071443020234,
          2.745652702469288,
          3.215233961918342,
          3.684815174018958,
          4.154396528164888,
          4.623977882310818,
          5.093559047062996,
          5.563140211815174,
          6.032721376567352,
          6.502302730713282,
          6.971883706071708,
          7.441465060217638,
          7.911046414363568,
          8.380627768509498,
          8.850209122655428,
          9.319790476801359,
          9.789371830947289,
          10.258953185093219,
          10.72853453923915,
          11.19811513581007,
          11.667696489956,
          12.13727784410193,
          12.60685919824786,
          13.076440552393791,
          13.546021148964712,
          14.015602503110642,
          14.485183857256573,
          14.954765211402503,
          15.424346565548433,
          15.893927919694363
         ],
         "z": [
          [
           4.225576877593994,
           4.021245002746582,
           4.2401323318481445,
           4.683148384094238,
           5.0991621017456055,
           5.404036521911621,
           5.606562614440918,
           5.736341953277588,
           5.818765640258789,
           5.871128082275391,
           5.90442419052124,
           5.925566673278809,
           5.938938140869141,
           5.94734525680542,
           5.952592849731445,
           5.955841064453125,
           5.957833766937256,
           5.95904541015625,
           5.959774971008301,
           5.960209846496582,
           5.960466384887695,
           5.960616588592529,
           5.9607038497924805,
           5.960753440856934,
           5.960782051086426,
           5.960798263549805,
           5.960806846618652,
           5.960811614990234,
           5.960814476013184,
           5.960815906524658
          ],
          [
           2.933114528656006,
           1.862135410308838,
           2.9881181716918945,
           4.105491638183594,
           4.813613414764404,
           5.238652229309082,
           5.498710632324219,
           5.664085388183594,
           5.771605968475342,
           5.841535568237305,
           5.886521339416504,
           5.915075302124023,
           5.9329729080200195,
           5.944062232971191,
           5.950854301452637,
           5.954967021942139,
           5.957426071166992,
           5.958878040313721,
           5.959723472595215,
           5.960209846496582,
           5.960484504699707,
           5.960638523101807,
           5.960722923278809,
           5.960768699645996,
           5.960792541503906,
           5.9608049392700195,
           5.960811138153076,
           5.960814476013184,
           5.9608154296875,
           5.960816383361816
          ],
          [
           4.195404052734375,
           3.7399308681488037,
           4.12014627456665,
           4.532717704772949,
           4.789757251739502,
           5.036468505859375,
           5.300188064575195,
           5.528231143951416,
           5.693050384521484,
           5.800334930419922,
           5.866427421569824,
           5.906033515930176,
           5.929421424865723,
           5.943082809448242,
           5.950972557067871,
           5.955465793609619,
           5.957980632781982,
           5.959360122680664,
           5.9600982666015625,
           5.960481643676758,
           5.9606733322143555,
           5.9607648849487305,
           5.9608049392700195,
           5.960820198059082,
           5.960824012756348,
           5.9608235359191895,
           5.960821151733398,
           5.960819244384766,
           5.960817337036133,
           5.960816383361816
          ],
          [
           4.476062774658203,
           4.1112141609191895,
           3.9584827423095703,
           3.5290842056274414,
           3.0458016395568848,
           3.8356122970581055,
           4.710501194000244,
           5.26768684387207,
           5.5869598388671875,
           5.762550354003906,
           5.857357025146484,
           5.908027648925781,
           5.934807777404785,
           5.948698997497559,
           5.955687522888184,
           5.959036827087402,
           5.960522651672363,
           5.961091995239258,
           5.961240768432617,
           5.961215972900391,
           5.961135387420654,
           5.9610490798950195,
           5.960975646972656,
           5.960920333862305,
           5.960880279541016,
           5.96085262298584,
           5.960834503173828,
           5.960822105407715,
           5.960814952850342,
           5.960810661315918
          ],
          [
           3.2900390625,
           2.8020107746124268,
           2.9903669357299805,
           3.387694835662842,
           3.7785868644714355,
           4.344991683959961,
           4.940912246704102,
           5.381976127624512,
           5.656769752502441,
           5.813733100891113,
           5.898107528686523,
           5.940473556518555,
           5.959663391113281,
           5.966836452484131,
           5.968324661254883,
           5.967500686645508,
           5.966009140014648,
           5.964555263519287,
           5.96337890625,
           5.962510108947754,
           5.961903095245361,
           5.961494445800781,
           5.961226463317871,
           5.961053371429443,
           5.960943222045898,
           5.960874080657959,
           5.960831642150879,
           5.960805892944336,
           5.960790634155273,
           5.960782527923584
          ],
          [
           2.938368797302246,
           2.065089702606201,
           3.014478921890259,
           4.0444183349609375,
           4.725996017456055,
           5.157861232757568,
           5.435575485229492,
           5.6285176277160645,
           5.778164863586426,
           5.890875816345215,
           5.960837364196777,
           5.992936611175537,
           6.000514030456543,
           5.996216773986816,
           5.988138198852539,
           5.98022985458374,
           5.973895072937012,
           5.969305992126465,
           5.9661736488342285,
           5.964116096496582,
           5.962800025939941,
           5.961972236633301,
           5.961458206176758,
           5.961141586303711,
           5.960946083068848,
           5.960826873779297,
           5.96075439453125,
           5.960712432861328,
           5.960689067840576,
           5.960679054260254
          ],
          [
           3.649435520172119,
           2.8446297645568848,
           3.8282523155212402,
           4.806858062744141,
           5.317063331604004,
           5.43367862701416,
           5.24004602432251,
           5.072835922241211,
           5.357443809509277,
           5.730140209197998,
           5.941354274749756,
           6.021658897399902,
           6.035519123077393,
           6.024106979370117,
           6.007161617279053,
           5.992186546325684,
           5.9810285568237305,
           5.973394393920898,
           5.968423843383789,
           5.965287685394287,
           5.963346481323242,
           5.962157249450684,
           5.961431503295898,
           5.960986137390137,
           5.960710048675537,
           5.960537433624268,
           5.960431098937988,
           5.960369110107422,
           5.960339546203613,
           5.960335731506348
          ],
          [
           5.020898818969727,
           4.76938533782959,
           5.22597599029541,
           5.741637706756592,
           5.976634979248047,
           5.881497383117676,
           5.460699081420898,
           5.088018417358398,
           5.397470474243164,
           5.7979912757873535,
           5.999110221862793,
           6.061609268188477,
           6.060532093048096,
           6.038761138916016,
           6.015249729156494,
           5.996339321136475,
           5.98292350769043,
           5.9740424156188965,
           5.96840763092041,
           5.964922904968262,
           5.962794780731201,
           5.961490631103516,
           5.960674285888672,
           5.960143566131592,
           5.95978307723999,
           5.959531784057617,
           5.959360122680664,
           5.959258079528809,
           5.9592204093933105,
           5.9592437744140625
          ],
          [
           6.256882667541504,
           6.3099236488342285,
           6.320069313049316,
           6.250134468078613,
           6.177248001098633,
           6.2082133293151855,
           6.238897323608398,
           6.214838981628418,
           6.181432723999023,
           6.156861305236816,
           6.130031108856201,
           6.096365451812744,
           6.060896873474121,
           6.029522895812988,
           6.005096435546875,
           5.987738609313965,
           5.976202011108398,
           5.968905448913574,
           5.964446544647217,
           5.961760520935059,
           5.960111618041992,
           5.959028244018555,
           5.958230018615723,
           5.957568645477295,
           5.956986427307129,
           5.956480026245117,
           5.956079483032227,
           5.95582389831543,
           5.955746650695801,
           5.955859661102295
          ],
          [
           6.195219993591309,
           6.103981018066406,
           5.807586193084717,
           5.162302017211914,
           4.449313640594482,
           5.1626739501953125,
           5.755478382110596,
           6.020759582519531,
           6.103204727172852,
           6.103540420532227,
           6.074615478515625,
           6.040398597717285,
           6.010509490966797,
           5.987933158874512,
           5.972610950469971,
           5.963197231292725,
           5.958000183105469,
           5.955469608306885,
           5.954396724700928,
           5.953935623168945,
           5.953551292419434,
           5.952945709228516,
           5.951996803283691,
           5.950711250305176,
           5.949202060699463,
           5.947659015655518,
           5.946317672729492,
           5.945414066314697,
           5.945126533508301,
           5.945531845092773
          ],
          [
           5.950827598571777,
           5.7362823486328125,
           5.289897441864014,
           4.566461563110352,
           4.056588172912598,
           4.5809326171875,
           5.2682061195373535,
           5.676662921905518,
           5.862180709838867,
           5.92435359954834,
           5.9313435554504395,
           5.920817852020264,
           5.910297393798828,
           5.905745506286621,
           5.907344341278076,
           5.9130473136901855,
           5.9204936027526855,
           5.927824020385742,
           5.933857440948486,
           5.9379777908325195,
           5.939945220947266,
           5.939750671386719,
           5.937534809112549,
           5.933594226837158,
           5.9284257888793945,
           5.922776699066162,
           5.917614459991455,
           5.913979530334473,
           5.912708282470703,
           5.914158344268799
          ],
          [
           5.940907001495361,
           5.788346290588379,
           5.4974684715271,
           5.091936111450195,
           4.857724666595459,
           5.090386390686035,
           5.456698894500732,
           5.683815002441406,
           5.7618842124938965,
           5.754029273986816,
           5.720254898071289,
           5.698210716247559,
           5.701766490936279,
           5.727908134460449,
           5.766485214233398,
           5.807570457458496,
           5.844554424285889,
           5.8742170333862305,
           5.895639419555664,
           5.909064292907715,
           5.915102958679199,
           5.914309501647949,
           5.907080173492432,
           5.893834114074707,
           5.875463485717773,
           5.853961944580078,
           5.832900047302246,
           5.817112445831299,
           5.81113338470459,
           5.816976070404053
          ],
          [
           6.037166595458984,
           5.940529823303223,
           5.671133995056152,
           5.124799728393555,
           4.647817134857178,
           5.1558918952941895,
           5.625399589538574,
           5.726065635681152,
           5.576330184936523,
           5.331320285797119,
           5.136455535888672,
           5.079263210296631,
           5.154814720153809,
           5.301518440246582,
           5.460452556610107,
           5.599219799041748,
           5.707094192504883,
           5.784517765045166,
           5.835890293121338,
           5.865917205810547,
           5.8780317306518555,
           5.873811721801758,
           5.85288667678833,
           5.813310623168945,
           5.752923965454102,
           5.672708511352539,
           5.582612037658691,
           5.506286144256592,
           5.474551677703857,
           5.503378391265869
          ],
          [
           6.176141738891602,
           6.233146667480469,
           6.2820940017700195,
           6.325971603393555,
           6.380202293395996,
           6.412357807159424,
           6.293341636657715,
           5.874462127685547,
           5.086098670959473,
           4.062182426452637,
           3.3235373497009277,
           3.378882646560669,
           3.9200973510742188,
           4.501074314117432,
           4.966179847717285,
           5.300796985626221,
           5.528623580932617,
           5.677391052246094,
           5.769533157348633,
           5.8205766677856445,
           5.839496612548828,
           5.829102039337158,
           5.785691261291504,
           5.697779655456543,
           5.544662952423096,
           5.298927307128906,
           4.946395397186279,
           4.552122116088867,
           4.347402095794678,
           4.530278205871582
          ],
          [
           6.241639614105225,
           6.370295524597168,
           6.5368242263793945,
           6.727610111236572,
           6.887062072753906,
           6.875160217285156,
           6.44498872756958,
           5.563838958740234,
           4.594854831695557,
           2.9272170066833496,
           1.3954817056655884,
           1.8406243324279785,
           2.952141761779785,
           3.9217119216918945,
           4.6312713623046875,
           5.111946105957031,
           5.423558712005615,
           5.618927001953125,
           5.736148834228516,
           5.799711227416992,
           5.823123931884766,
           5.810544013977051,
           5.756450653076172,
           5.642602920532227,
           5.4314398765563965,
           5.056183815002441,
           4.413865089416504,
           3.398735523223877,
           2.400347948074341,
           3.31954026222229
          ],
          [
           6.213069915771484,
           6.333115577697754,
           6.489357948303223,
           6.6683125495910645,
           6.821964263916016,
           6.84483528137207,
           6.582577705383301,
           5.934952735900879,
           4.811544895172119,
           3.058762788772583,
           1.423204779624939,
           2.1212472915649414,
           3.274338722229004,
           4.181944847106934,
           4.814761161804199,
           5.2326178550720215,
           5.500033855438232,
           5.666852951049805,
           5.767021656036377,
           5.821860313415527,
           5.843332290649414,
           5.836123466491699,
           5.798454284667969,
           5.721957206726074,
           5.591844081878662,
           5.391415596008301,
           5.120866298675537,
           4.841974258422852,
           4.707586288452148,
           4.827617168426514
          ],
          [
           6.133905410766602,
           6.209874153137207,
           6.304471969604492,
           6.408089637756348,
           6.495786666870117,
           6.521764755249023,
           6.420011043548584,
           6.115477085113525,
           5.552385330200195,
           4.778689384460449,
           4.1954450607299805,
           4.316587448120117,
           4.7401299476623535,
           5.115435600280762,
           5.390119552612305,
           5.580155372619629,
           5.707950592041016,
           5.791625499725342,
           5.844081878662109,
           5.873878479003906,
           5.886211395263672,
           5.883661270141602,
           5.866799354553223,
           5.834924697875977,
           5.7874345779418945,
           5.726428985595703,
           5.660429954528809,
           5.606411457061768,
           5.584475517272949,
           5.60455322265625
          ],
          [
           6.059621334075928,
           6.098125457763672,
           6.143518447875977,
           6.190062522888184,
           6.225071907043457,
           6.2253522872924805,
           6.152397155761719,
           5.944981575012207,
           5.509603500366211,
           4.740912437438965,
           3.9959604740142822,
           4.595860481262207,
           5.223935127258301,
           5.5696001052856445,
           5.743914604187012,
           5.831477165222168,
           5.877317428588867,
           5.902790069580078,
           5.9173359870910645,
           5.924928665161133,
           5.927176475524902,
           5.9246978759765625,
           5.917746067047119,
           5.906611442565918,
           5.8920159339904785,
           5.8755292892456055,
           5.859799861907959,
           5.848231315612793,
           5.843891143798828,
           5.848116397857666
          ],
          [
           6.014587879180908,
           6.034695625305176,
           6.058495998382568,
           6.08305025100708,
           6.100444793701172,
           6.092399597167969,
           6.020291328430176,
           5.810445785522461,
           5.347747802734375,
           4.559292793273926,
           3.956672191619873,
           4.527276992797852,
           5.266473770141602,
           5.692041873931885,
           5.883045196533203,
           5.95285701751709,
           5.970728874206543,
           5.970179557800293,
           5.964914321899414,
           5.959455490112305,
           5.954681873321533,
           5.950316429138184,
           5.945919036865234,
           5.941232681274414,
           5.936290740966797,
           5.931428909301758,
           5.927216529846191,
           5.924315929412842,
           5.923267364501953,
           5.924290657043457
          ],
          [
           5.993216514587402,
           6.007170677185059,
           6.0259552001953125,
           6.050022602081299,
           6.078006744384766,
           6.103691101074219,
           6.109958171844482,
           6.058405876159668,
           5.876783847808838,
           5.482721328735352,
           5.1356682777404785,
           5.478110313415527,
           5.854183197021484,
           6.022002220153809,
           6.0659379959106445,
           6.057373046875,
           6.033386707305908,
           6.009675025939941,
           5.991132736206055,
           5.978055000305176,
           5.969236850738525,
           5.963303565979004,
           5.959158897399902,
           5.956068992614746,
           5.953619480133057,
           5.951638221740723,
           5.950115203857422,
           5.949122428894043,
           5.948737144470215,
           5.948978424072266
          ],
          [
           5.982264995574951,
           5.992962837219238,
           6.008570671081543,
           6.030730247497559,
           6.060759544372559,
           6.098374366760254,
           6.139474391937256,
           6.174099445343018,
           6.189013481140137,
           6.181357383728027,
           6.171639442443848,
           6.177175998687744,
           6.180536270141602,
           6.162026405334473,
           6.125173568725586,
           6.083281517028809,
           6.046046257019043,
           6.017207145690918,
           5.996695518493652,
           5.982883453369141,
           5.973878383636475,
           5.968061447143555,
           5.964210510253906,
           5.96147346496582,
           5.959307670593262,
           5.957446098327637,
           5.955868244171143,
           5.95473575592041,
           5.954251289367676,
           5.954495429992676
          ],
          [
           5.974391937255859,
           5.981344223022461,
           5.991469383239746,
           6.00576114654541,
           6.025057792663574,
           6.049534320831299,
           6.0780134201049805,
           6.107448577880859,
           6.133214950561523,
           6.150527477264404,
           6.156133651733398,
           6.149016380310059,
           6.130374908447266,
           6.1036176681518555,
           6.073620796203613,
           6.045015811920166,
           6.0207953453063965,
           6.002048492431641,
           5.988495826721191,
           5.979172229766846,
           5.972899436950684,
           5.968493461608887,
           5.964797019958496,
           5.960672378540039,
           5.955121040344238,
           5.947711944580078,
           5.939241409301758,
           5.932032585144043,
           5.92897891998291,
           5.931487083435059
          ],
          [
           5.968405723571777,
           5.972071647644043,
           5.977214813232422,
           5.9841718673706055,
           5.993152618408203,
           6.004060745239258,
           6.016307830810547,
           6.028695106506348,
           6.0395097732543945,
           6.046894550323486,
           6.049404144287109,
           6.046515941619873,
           6.0388288497924805,
           6.027852535247803,
           6.0154924392700195,
           6.0034942626953125,
           5.993074417114258,
           5.984827995300293,
           5.978813171386719,
           5.974679946899414,
           5.971684455871582,
           5.968505382537842,
           5.962791442871094,
           5.95053768157959,
           5.92586612701416,
           5.88289737701416,
           5.822287559509277,
           5.761412620544434,
           5.7333526611328125,
           5.757997989654541
          ],
          [
           5.964548587799072,
           5.966183662414551,
           5.9683732986450195,
           5.971194267272949,
           5.97465705871582,
           5.978660583496094,
           5.9829559326171875,
           5.987136363983154,
           5.990684509277344,
           5.993080139160156,
           5.9939374923706055,
           5.993130683898926,
           5.990842819213867,
           5.987519264221191,
           5.98375129699707,
           5.980140686035156,
           5.97719669342041,
           5.975279808044434,
           5.974564552307129,
           5.974932670593262,
           5.975667953491211,
           5.974672317504883,
           5.966736793518066,
           5.940176010131836,
           5.871307373046875,
           5.718549728393555,
           5.428391456604004,
           5.004014015197754,
           4.728107452392578,
           4.9752278327941895
          ],
          [
           5.962467193603516,
           5.963114261627197,
           5.963943958282471,
           5.9649658203125,
           5.9661664962768555,
           5.967498302459717,
           5.968875885009766,
           5.970180034637451,
           5.971274375915527,
           5.97203254699707,
           5.972375392913818,
           5.972296714782715,
           5.971879482269287,
           5.971297264099121,
           5.970799446105957,
           5.970696449279785,
           5.971352577209473,
           5.973182678222656,
           5.976626396179199,
           5.982029914855957,
           5.989293098449707,
           5.99693489074707,
           5.999991416931152,
           5.985721588134766,
           5.925937652587891,
           5.766063690185547,
           5.419244289398193,
           4.818950653076172,
           4.323439121246338,
           4.772759437561035
          ],
          [
           5.961490154266357,
           5.961726188659668,
           5.962018013000488,
           5.96236515045166,
           5.962759017944336,
           5.963184356689453,
           5.963617324829102,
           5.964027404785156,
           5.964386940002441,
           5.964676856994629,
           5.964899063110352,
           5.965085983276367,
           5.965315818786621,
           5.965723991394043,
           5.966521263122559,
           5.968023300170898,
           5.9706926345825195,
           5.975192546844482,
           5.982441425323486,
           5.9936203956604,
           6.010022163391113,
           6.032510757446289,
           6.060222148895264,
           6.088083267211914,
           6.1033830642700195,
           6.084348201751709,
           6.010300159454346,
           5.897643089294434,
           5.834009170532227,
           5.890570163726807
          ],
          [
           5.961075782775879,
           5.96115779876709,
           5.961256504058838,
           5.961371421813965,
           5.9614996910095215,
           5.961638450622559,
           5.961783409118652,
           5.961931228637695,
           5.96208381652832,
           5.962250709533691,
           5.962456703186035,
           5.9627532958984375,
           5.963226318359375,
           5.964024066925049,
           5.9653825759887695,
           5.967677116394043,
           5.971494674682617,
           5.977728843688965,
           5.987700462341309,
           6.00324821472168,
           6.026689529418945,
           6.060342788696289,
           6.105029106140137,
           6.156402587890625,
           6.197381019592285,
           6.184919834136963,
           6.0339508056640625,
           5.638128757476807,
           5.23607063293457,
           5.603264808654785
          ],
          [
           5.960913181304932,
           5.960941314697266,
           5.96097469329834,
           5.9610137939453125,
           5.961058616638184,
           5.961109638214111,
           5.96116828918457,
           5.961240291595459,
           5.961333751678467,
           5.961465835571289,
           5.961668968200684,
           5.961996078491211,
           5.962538719177246,
           5.963447093963623,
           5.964964866638184,
           5.9674835205078125,
           5.971617698669434,
           5.978309631347656,
           5.988948345184326,
           6.005451202392578,
           6.030153274536133,
           6.065133571624756,
           6.110199928283691,
           6.158061981201172,
           6.184477806091309,
           6.131073951721191,
           5.882190704345703,
           5.263422966003418,
           4.482155799865723,
           5.205867290496826
          ],
          [
           5.96085262298584,
           5.960862159729004,
           5.960874557495117,
           5.96088981628418,
           5.960907936096191,
           5.960931777954102,
           5.960964202880859,
           5.961010932922363,
           5.961081504821777,
           5.961194038391113,
           5.961377143859863,
           5.961681365966797,
           5.962186813354492,
           5.963027000427246,
           5.96441650390625,
           5.966695785522461,
           5.970396518707275,
           5.976320743560791,
           5.985628128051758,
           5.999868392944336,
           6.020809173583984,
           6.049713134765625,
           6.085323333740234,
           6.119235515594482,
           6.126650810241699,
           6.0505452156066895,
           5.780442237854004,
           5.147265434265137,
           4.313499927520752,
           5.088551044464111
          ],
          [
           5.9608306884765625,
           5.960834503173828,
           5.960839748382568,
           5.960846900939941,
           5.9608564376831055,
           5.960870742797852,
           5.9608917236328125,
           5.960926055908203,
           5.960980415344238,
           5.961070537567139,
           5.96121883392334,
           5.961463928222656,
           5.961869239807129,
           5.9625349044799805,
           5.963621616363525,
           5.965379238128662,
           5.968189716339111,
           5.97261905670166,
           5.979465484619141,
           5.989763259887695,
           6.004652976989746,
           6.02489709854126,
           6.049656867980957,
           6.073981285095215,
           6.084699630737305,
           6.056663513183594,
           5.9594268798828125,
           5.801307678222656,
           5.704864501953125,
           5.790862083435059
          ]
         ],
         "type": "surface"
        },
        {
         "colorscale": [
          [
           0,
           "rgb(255, 198, 196)"
          ],
          [
           0.16666666666666666,
           "rgb(244, 163, 168)"
          ],
          [
           0.3333333333333333,
           "rgb(227, 129, 145)"
          ],
          [
           0.5,
           "rgb(204, 96, 125)"
          ],
          [
           0.6666666666666666,
           "rgb(173, 70, 108)"
          ],
          [
           0.8333333333333334,
           "rgb(139, 48, 88)"
          ],
          [
           1,
           "rgb(103, 32, 68)"
          ]
         ],
         "opacity": 0.2,
         "showscale": false,
         "x": [
          0.33928570710122585,
          0.5055418629199266,
          0.6717980187386274,
          0.8380541577935219,
          1.0043103471398354,
          1.1705665364861488,
          1.336822658777237,
          1.503078781068325,
          1.6693349033594131,
          1.8355910927057266,
          2.0018471479415894,
          2.168103337287903,
          2.3343595266342168,
          2.5006157159805302,
          2.6668719053268437,
          2.833128094673157,
          2.9993842840194707,
          3.165640473365784,
          3.3318966627120976,
          3.4981525838375096,
          3.664408773183823,
          3.8306649625301366,
          3.99692115187645,
          4.163177341222764,
          4.329433262348176,
          4.495689451694489,
          4.661945641040803,
          4.828201830387116,
          4.99445801973343,
          5.160714209079743
         ],
         "y": [
          2.276071443020234,
          2.745652702469288,
          3.215233961918342,
          3.684815174018958,
          4.154396528164888,
          4.623977882310818,
          5.093559047062996,
          5.563140211815174,
          6.032721376567352,
          6.502302730713282,
          6.971883706071708,
          7.441465060217638,
          7.911046414363568,
          8.380627768509498,
          8.850209122655428,
          9.319790476801359,
          9.789371830947289,
          10.258953185093219,
          10.72853453923915,
          11.19811513581007,
          11.667696489956,
          12.13727784410193,
          12.60685919824786,
          13.076440552393791,
          13.546021148964712,
          14.015602503110642,
          14.485183857256573,
          14.954765211402503,
          15.424346565548433,
          15.893927919694363
         ],
         "z": [
          [
           -1.3501721620559692,
           -1.3217358589172363,
           -1.3633267879486084,
           -1.3980159759521484,
           -1.3669955730438232,
           -1.2924396991729736,
           -1.2093687057495117,
           -1.1372170448303223,
           -1.0817224979400635,
           -1.04183030128479,
           -1.0143022537231445,
           -0.9958178997039795,
           -0.9836571216583252,
           -0.975792407989502,
           -0.970782995223999,
           -0.9676365852355957,
           -0.9656863212585449,
           -0.9644925594329834,
           -0.9637701511383057,
           -0.9633381366729736,
           -0.9630823135375977,
           -0.9629325866699219,
           -0.9628458023071289,
           -0.9627959728240967,
           -0.9627676010131836,
           -0.9627516269683838,
           -0.962742805480957,
           -0.9627377986907959,
           -0.9627351760864258,
           -0.9627337455749512
          ],
          [
           -0.5717359781265259,
           0.07409524917602539,
           -0.6471067667007446,
           -1.1070873737335205,
           -1.2461514472961426,
           -1.2435013055801392,
           -1.194420576095581,
           -1.1389667987823486,
           -1.0904345512390137,
           -1.051844835281372,
           -1.0228712558746338,
           -1.0021030902862549,
           -0.9878120422363281,
           -0.9783239364624023,
           -0.972217321395874,
           -0.9683904647827148,
           -0.9660472869873047,
           -0.9646420478820801,
           -0.9638144969940186,
           -0.9633357524871826,
           -0.9630630016326904,
           -0.9629106521606445,
           -0.9628264904022217,
           -0.9627811908721924,
           -0.9627571105957031,
           -0.9627447128295898,
           -0.9627385139465332,
           -0.9627354145050049,
           -0.9627339839935303,
           -0.962733268737793
          ],
          [
           0.37903130054473877,
           0.8681161403656006,
           0.269353985786438,
           -0.37200927734375,
           -0.702155590057373,
           -0.8750283718109131,
           -0.983222246170044,
           -1.038170337677002,
           -1.0502912998199463,
           -1.0388381481170654,
           -1.0197315216064453,
           -1.0015981197357178,
           -0.9875433444976807,
           -0.9777956008911133,
           -0.9715073108673096,
           -0.9676589965820312,
           -0.9654011726379395,
           -0.9641234874725342,
           -0.963425874710083,
           -0.9630579948425293,
           -0.9628722667694092,
           -0.9627835750579834,
           -0.9627442359924316,
           -0.9627292156219482,
           -0.9627256393432617,
           -0.9627261161804199,
           -0.9627282619476318,
           -0.9627304077148438,
           -0.9627323150634766,
           -0.9627335071563721
          ],
          [
           -0.07339239120483398,
           0.24580001831054688,
           0.12857496738433838,
           0.24830126762390137,
           0.6130784749984741,
           -0.012210965156555176,
           -0.6019434928894043,
           -0.8849947452545166,
           -0.9872534275054932,
           -1.0083286762237549,
           -1.000943899154663,
           -0.9879505634307861,
           -0.9771413803100586,
           -0.969977617263794,
           -0.9658205509185791,
           -0.9636614322662354,
           -0.9626753330230713,
           -0.9623134136199951,
           -0.9622504711151123,
           -0.9623100757598877,
           -0.9624052047729492,
           -0.9624969959259033,
           -0.9625723361968994,
           -0.9626290798187256,
           -0.9626691341400146,
           -0.9626970291137695,
           -0.9627153873443604,
           -0.9627273082733154,
           -0.9627346992492676,
           -0.9627392292022705
          ],
          [
           -1.5076242685317993,
           -1.449385404586792,
           -1.3612991571426392,
           -1.096206784248352,
           -0.8008589744567871,
           -0.7556676864624023,
           -0.8479375839233398,
           -0.9140870571136475,
           -0.9359948635101318,
           -0.9382050037384033,
           -0.9374427795410156,
           -0.9388928413391113,
           -0.9423854351043701,
           -0.9466276168823242,
           -0.9506676197052002,
           -0.9540607929229736,
           -0.9567005634307861,
           -0.9586491584777832,
           -0.9600327014923096,
           -0.9609854221343994,
           -0.9616255760192871,
           -0.9620471000671387,
           -0.9623205661773682,
           -0.9624953269958496,
           -0.9626059532165527,
           -0.9626750946044922,
           -0.9627180099487305,
           -0.9627439975738525,
           -0.9627590179443359,
           -0.9627671241760254
          ],
          [
           -0.5296775102615356,
           0.037540435791015625,
           -0.5406644344329834,
           -0.9562845230102539,
           -0.9990561008453369,
           -0.8604016304016113,
           -0.6903088092803955,
           -0.5833678245544434,
           -0.5771200656890869,
           -0.6441199779510498,
           -0.7323050498962402,
           -0.8085708618164062,
           -0.8637211322784424,
           -0.9003391265869141,
           -0.9237370491027832,
           -0.938469409942627,
           -0.9477028846740723,
           -0.9534785747528076,
           -0.9570827484130859,
           -0.9593226909637451,
           -0.9607086181640625,
           -0.961561918258667,
           -0.962085485458374,
           -0.9624063968658447,
           -0.9626026153564453,
           -0.9627223014831543,
           -0.9627947807312012,
           -0.9628374576568604,
           -0.9628605842590332,
           -0.9628703594207764
          ],
          [
           0.17493295669555664,
           0.7681221961975098,
           0.26579809188842773,
           -0.16423678398132324,
           -0.20139718055725098,
           0.1132650375366211,
           0.6630473136901855,
           1.0116398334503174,
           0.6662032604217529,
           0.0924673080444336,
           -0.33908748626708984,
           -0.6053855419158936,
           -0.7588820457458496,
           -0.8455796241760254,
           -0.8946819305419922,
           -0.9228546619415283,
           -0.9392602443695068,
           -0.9489290714263916,
           -0.9546713829040527,
           -0.9580960273742676,
           -0.9601430892944336,
           -0.9613702297210693,
           -0.9621100425720215,
           -0.9625606536865234,
           -0.9628381729125977,
           -0.9630112648010254,
           -0.9631178379058838,
           -0.9631800651550293,
           -0.9632096290588379,
           -0.9632136821746826
          ],
          [
           0.8526942729949951,
           1.5360000133514404,
           1.1098573207855225,
           0.6325860023498535,
           0.539149284362793,
           0.7872254848480225,
           1.3106815814971924,
           1.6389052867889404,
           1.0623681545257568,
           0.3008880615234375,
           -0.2287137508392334,
           -0.5459973812103271,
           -0.726780891418457,
           -0.828376054763794,
           -0.8856892585754395,
           -0.9183840751647949,
           -0.9372541904449463,
           -0.9482417106628418,
           -0.9546740055084229,
           -0.9584553241729736,
           -0.9606924057006836,
           -0.9620358943939209,
           -0.9628655910491943,
           -0.9634003639221191,
           -0.9637618064880371,
           -0.964012861251831,
           -0.9641830921173096,
           -0.9642848968505859,
           -0.9643220901489258,
           -0.9642994403839111
          ],
          [
           0.20999360084533691,
           0.5962653160095215,
           0.9594690799713135,
           1.3090624809265137,
           1.4601690769195557,
           1.2099390029907227,
           0.7821455001831055,
           0.3863694667816162,
           0.036084890365600586,
           -0.2703278064727783,
           -0.5120677947998047,
           -0.6826682090759277,
           -0.7939848899841309,
           -0.8632955551147461,
           -0.9053242206573486,
           -0.9304020404815674,
           -0.9451820850372314,
           -0.9537954330444336,
           -0.9587750434875488,
           -0.9616620540618896,
           -0.9633853435516357,
           -0.9644937515258789,
           -0.9652965068817139,
           -0.9659533500671387,
           -0.9665272235870361,
           -0.9670226573944092,
           -0.9674131870269775,
           -0.9676616191864014,
           -0.9677367210388184,
           -0.9676260948181152
          ],
          [
           -0.26610374450683594,
           0.10158228874206543,
           0.714932918548584,
           1.7104862928390503,
           2.627284288406372,
           1.60349440574646,
           0.5912337303161621,
           -0.027415037155151367,
           -0.38799405097961426,
           -0.6042931079864502,
           -0.7406589984893799,
           -0.8293015956878662,
           -0.8868451118469238,
           -0.9232203960418701,
           -0.9452271461486816,
           -0.9577798843383789,
           -0.9644105434417725,
           -0.9675793647766113,
           -0.9689288139343262,
           -0.9695017337799072,
           -0.9699194431304932,
           -0.9705142974853516,
           -0.9714210033416748,
           -0.9726352691650391,
           -0.9740495681762695,
           -0.9754834175109863,
           -0.9767193794250488,
           -0.9775452613830566,
           -0.9778027534484863,
           -0.9774234294891357
          ],
          [
           -0.6031322479248047,
           -0.4090249538421631,
           -0.0859532356262207,
           0.4068162441253662,
           0.7558339834213257,
           0.3514683246612549,
           -0.15914678573608398,
           -0.49654340744018555,
           -0.7039687633514404,
           -0.832942008972168,
           -0.9144468307495117,
           -0.9650793075561523,
           -0.9940600395202637,
           -1.007580041885376,
           -1.010653018951416,
           -1.0075092315673828,
           -1.0014801025390625,
           -0.9949114322662354,
           -0.9892559051513672,
           -0.9852800369262695,
           -0.9832918643951416,
           -0.9833133220672607,
           -0.9851722717285156,
           -0.9885287284851074,
           -0.9928662776947021,
           -0.997495174407959,
           -1.0016140937805176,
           -1.0044434070587158,
           -1.005396842956543,
           -1.0042262077331543
          ],
          [
           -0.632439136505127,
           -0.40634608268737793,
           -0.03917837142944336,
           0.4341452121734619,
           0.6877503395080566,
           0.3859593868255615,
           -0.11642217636108398,
           -0.5179283618927002,
           -0.7901849746704102,
           -0.9689240455627441,
           -1.0818204879760742,
           -1.1440744400024414,
           -1.1663503646850586,
           -1.1596035957336426,
           -1.1353611946105957,
           -1.103902816772461,
           -1.0727229118347168,
           -1.0462164878845215,
           -1.026310682296753,
           -1.0134015083312988,
           -1.0071442127227783,
           -1.0069177150726318,
           -1.0119643211364746,
           -1.0212900638580322,
           -1.0334608554840088,
           -1.0465023517608643,
           -1.0580885410308838,
           -1.0660290718078613,
           -1.0687916278839111,
           -1.0657787322998047
          ],
          [
           -0.541982889175415,
           -0.22122764587402344,
           0.3335225582122803,
           1.1800909042358398,
           1.8224490880966187,
           1.1751818656921387,
           0.3351285457611084,
           -0.28603553771972656,
           -0.7448663711547852,
           -1.087632656097412,
           -1.3230328559875488,
           -1.4524282217025757,
           -1.485687494277954,
           -1.44618558883667,
           -1.3663454055786133,
           -1.2757916450500488,
           -1.1937029361724854,
           -1.1287760734558105,
           -1.0828380584716797,
           -1.0544822216033936,
           -1.04142165184021,
           -1.0415239334106445,
           -1.0528287887573242,
           -1.0728347301483154,
           -1.0974855422973633,
           -1.1208207607269287,
           -1.1368088722229004,
           -1.1434550285339355,
           -1.1443848609924316,
           -1.1427273750305176
          ],
          [
           -0.5772843360900879,
           -0.3557913303375244,
           -0.05130290985107422,
           0.30025553703308105,
           0.601240873336792,
           0.7451624870300293,
           0.6621251106262207,
           0.29148268699645996,
           -0.312502384185791,
           -0.9067444801330566,
           -1.3496670722961426,
           -1.7112224102020264,
           -1.8852367401123047,
           -1.8401318788528442,
           -1.680506706237793,
           -1.498908519744873,
           -1.3418912887573242,
           -1.2239570617675781,
           -1.144216775894165,
           -1.0967504978179932,
           -1.0755035877227783,
           -1.0757389068603516,
           -1.0932543277740479,
           -1.121579647064209,
           -1.1470355987548828,
           -1.1433179378509521,
           -1.0752801895141602,
           -0.9403012990951538,
           -0.8512578010559082,
           -0.9297471046447754
          ],
          [
           -0.6210918426513672,
           -0.43248867988586426,
           -0.15268921852111816,
           0.25558996200561523,
           0.8413355350494385,
           1.6448500156402588,
           2.571789264678955,
           2.8092823028564453,
           1.2773348093032837,
           -0.24520063400268555,
           -1.0032225847244263,
           -1.854722499847412,
           -2.218885898590088,
           -2.139138698577881,
           -1.893953561782837,
           -1.6366097927093506,
           -1.4260445833206177,
           -1.2740542888641357,
           -1.1741712093353271,
           -1.115762710571289,
           -1.0896005630493164,
           -1.0889708995819092,
           -1.1080307960510254,
           -1.137207269668579,
           -1.1538276672363281,
           -1.1052857637405396,
           -0.8843507766723633,
           -0.3200472593307495,
           0.41954946517944336,
           -0.26546454429626465
          ],
          [
           -0.6830015182495117,
           -0.5285685062408447,
           -0.2963120937347412,
           0.044925689697265625,
           0.5225605964660645,
           1.1177570819854736,
           1.6425516605377197,
           1.591557264328003,
           0.7164134979248047,
           -0.18489885330200195,
           -0.5509151220321655,
           -1.4675425291061401,
           -1.8854635953903198,
           -1.8756601810455322,
           -1.706061601638794,
           -1.512048602104187,
           -1.347055435180664,
           -1.2248380184173584,
           -1.1429314613342285,
           -1.0942261219024658,
           -1.0718967914581299,
           -1.0707576274871826,
           -1.0865309238433838,
           -1.113478422164917,
           -1.140645980834961,
           -1.1487164497375488,
           -1.1152772903442383,
           -1.043445348739624,
           -0.9979398250579834,
           -1.0374494791030884
          ],
          [
           -0.777787446975708,
           -0.6871678829193115,
           -0.5621542930603027,
           -0.39969515800476074,
           -0.20790576934814453,
           -0.014866113662719727,
           0.13533639907836914,
           0.2264842987060547,
           0.3370492458343506,
           0.56913161277771,
           0.6342812776565552,
           0.059339284896850586,
           -0.6143865585327148,
           -1.0036532878875732,
           -1.1521291732788086,
           -1.1723406314849854,
           -1.1420314311981201,
           -1.101233959197998,
           -1.0666987895965576,
           -1.0436828136444092,
           -1.0327444076538086,
           -1.032935380935669,
           -1.0428471565246582,
           -1.0604887008666992,
           -1.0826919078826904,
           -1.1049015522003174,
           -1.122305154800415,
           -1.132214069366455,
           -1.135073184967041,
           -1.1318089962005615
          ],
          [
           -0.8594064712524414,
           -0.8153741359710693,
           -0.7582299709320068,
           -0.687147855758667,
           -0.6011850833892822,
           -0.49452996253967285,
           -0.34433913230895996,
           -0.08983635902404785,
           0.3877441883087158,
           1.2275011539459229,
           1.9708125591278076,
           1.036503553390503,
           0.06367921829223633,
           -0.5010082721710205,
           -0.787818431854248,
           -0.9195072650909424,
           -0.9729158878326416,
           -0.990520715713501,
           -0.9939632415771484,
           -0.993527889251709,
           -0.9937784671783447,
           -0.9965503215789795,
           -1.0023646354675293,
           -1.0109760761260986,
           -1.0215191841125488,
           -1.0325677394866943,
           -1.042332649230957,
           -1.0490481853485107,
           -1.0514187812805176,
           -1.048926830291748
          ],
          [
           -0.9067039489746094,
           -0.883373498916626,
           -0.851804256439209,
           -0.8086729049682617,
           -0.7475435733795166,
           -0.6553125381469727,
           -0.5064976215362549,
           -0.2564852237701416,
           0.16012120246887207,
           0.7846534252166748,
           1.2369084358215332,
           0.7174069881439209,
           0.05250287055969238,
           -0.39074182510375977,
           -0.6533000469207764,
           -0.8009688854217529,
           -0.8813230991363525,
           -0.9242045879364014,
           -0.9470255374908447,
           -0.9595167636871338,
           -0.9669837951660156,
           -0.9722623825073242,
           -0.9768028259277344,
           -0.9812393188476562,
           -0.9856860637664795,
           -0.9899084568023682,
           -0.9934659004211426,
           -0.9958639144897461,
           -0.9967155456542969,
           -0.9958665370941162
          ],
          [
           -0.928844690322876,
           -0.9125454425811768,
           -0.8878364562988281,
           -0.8490815162658691,
           -0.7856230735778809,
           -0.6771042346954346,
           -0.48558855056762695,
           -0.14556431770324707,
           0.43480873107910156,
           1.2855961322784424,
           1.86957585811615,
           1.2499473094940186,
           0.3898963928222656,
           -0.1941368579864502,
           -0.5356864929199219,
           -0.7263615131378174,
           -0.8316693305969238,
           -0.8901364803314209,
           -0.9230091571807861,
           -0.9418127536773682,
           -0.9528365135192871,
           -0.9595563411712646,
           -0.9639041423797607,
           -0.9669356346130371,
           -0.9691944122314453,
           -0.9709210395812988,
           -0.9721877574920654,
           -0.9729874134063721,
           -0.9732987880706787,
           -0.9731240272521973
          ],
          [
           -0.9404191970825195,
           -0.9283828735351562,
           -0.9094858169555664,
           -0.8794996738433838,
           -0.8316123485565186,
           -0.7554929256439209,
           -0.6376752853393555,
           -0.4670524597167969,
           -0.2522242069244385,
           -0.05025506019592285,
           0.03431391716003418,
           -0.058358192443847656,
           -0.2656104564666748,
           -0.48290491104125977,
           -0.6542675495147705,
           -0.7717952728271484,
           -0.8469052314758301,
           -0.893265962600708,
           -0.921410322189331,
           -0.9383494853973389,
           -0.9484734535217285,
           -0.9544503688812256,
           -0.9578709602355957,
           -0.9596667289733887,
           -0.960390567779541,
           -0.9604148864746094,
           -0.9600696563720703,
           -0.9596927165985107,
           -0.959575891494751,
           -0.9598608016967773
          ],
          [
           -0.9487917423248291,
           -0.9413230419158936,
           -0.9300220012664795,
           -0.9131743907928467,
           -0.888655424118042,
           -0.8543224334716797,
           -0.809107780456543,
           -0.7550740242004395,
           -0.6998708248138428,
           -0.6571149826049805,
           -0.6413924694061279,
           -0.659062385559082,
           -0.7033634185791016,
           -0.7595243453979492,
           -0.8139541149139404,
           -0.8591113090515137,
           -0.893033504486084,
           -0.9168574810028076,
           -0.9327614307403564,
           -0.9428653717041016,
           -0.9488124847412109,
           -0.951676607131958,
           -0.9519894123077393,
           -0.9498374462127686,
           -0.9450979232788086,
           -0.9379408359527588,
           -0.9295339584350586,
           -0.9223880767822266,
           -0.9194672107696533,
           -0.9222185611724854
          ],
          [
           -0.9550316333770752,
           -0.9512269496917725,
           -0.9457962512969971,
           -0.9382748603820801,
           -0.9282670021057129,
           -0.9156477451324463,
           -0.9008533954620361,
           -0.8851833343505859,
           -0.8708841800689697,
           -0.8607583045959473,
           -0.8572137355804443,
           -0.8611817359924316,
           -0.8716366291046143,
           -0.8860983848571777,
           -0.9017202854156494,
           -0.9162232875823975,
           -0.9282727241516113,
           -0.9373667240142822,
           -0.9435088634490967,
           -0.9468553066253662,
           -0.9473905563354492,
           -0.9445681571960449,
           -0.9368264675140381,
           -0.9209997653961182,
           -0.8921315670013428,
           -0.8452713489532471,
           -0.7818057537078857,
           -0.7193903923034668,
           -0.6909420490264893,
           -0.7161979675292969
          ],
          [
           -0.9589748382568359,
           -0.9573118686676025,
           -0.9550685882568359,
           -0.9521527290344238,
           -0.9485340118408203,
           -0.9442949295043945,
           -0.9396824836730957,
           -0.9351282119750977,
           -0.9312121868133545,
           -0.9285433292388916,
           -0.9275856018066406,
           -0.9284963607788086,
           -0.9310588836669922,
           -0.9347457885742188,
           -0.9388728141784668,
           -0.9427602291107178,
           -0.9458320140838623,
           -0.947617769241333,
           -0.9476697444915771,
           -0.9453756809234619,
           -0.9396030902862549,
           -0.9279592037200928,
           -0.9052450656890869,
           -0.8604023456573486,
           -0.7713513374328613,
           -0.599259614944458,
           -0.29403042793273926,
           0.13867998123168945,
           0.41680192947387695,
           0.16759777069091797
          ],
          [
           -0.9610774517059326,
           -0.960425853729248,
           -0.9595880508422852,
           -0.9585525989532471,
           -0.9573321342468262,
           -0.9559721946716309,
           -0.954559326171875,
           -0.953216552734375,
           -0.9520862102508545,
           -0.9513018131256104,
           -0.9509491920471191,
           -0.9510376453399658,
           -0.9514784812927246,
           -0.9520905017852783,
           -0.9526100158691406,
           -0.9527008533477783,
           -0.95194411277771,
           -0.9497902393341064,
           -0.9454519748687744,
           -0.9376957416534424,
           -0.9244258403778076,
           -0.9018425941467285,
           -0.8627116680145264,
           -0.7929580211639404,
           -0.6655502319335938,
           -0.43157196044921875,
           -0.01560831069946289,
           0.6337301731109619,
           1.1469749212265015,
           0.682044267654419
          ],
          [
           -0.9620585441589355,
           -0.9618220329284668,
           -0.961529016494751,
           -0.9611804485321045,
           -0.9607839584350586,
           -0.9603557586669922,
           -0.9599192142486572,
           -0.9595053195953369,
           -0.9591419696807861,
           -0.9588496685028076,
           -0.9586267471313477,
           -0.958439826965332,
           -0.9582099914550781,
           -0.9577987194061279,
           -0.9569871425628662,
           -0.9554388523101807,
           -0.9526398181915283,
           -0.947791576385498,
           -0.9396352767944336,
           -0.9261517524719238,
           -0.9040567874908447,
           -0.8679649829864502,
           -0.8090934753417969,
           -0.7136754989624023,
           -0.5624239444732666,
           -0.3357205390930176,
           -0.03541851043701172,
           0.2678203582763672,
           0.4116687774658203,
           0.28441762924194336
          ],
          [
           -0.9624736309051514,
           -0.9623913764953613,
           -0.9622926712036133,
           -0.9621777534484863,
           -0.9620490074157715,
           -0.9619102478027344,
           -0.9617648124694824,
           -0.9616165161132812,
           -0.9614636898040771,
           -0.961296796798706,
           -0.9610898494720459,
           -0.9607927799224854,
           -0.9603168964385986,
           -0.9595127105712891,
           -0.9581358432769775,
           -0.9557895660400391,
           -0.9518322944641113,
           -0.945225715637207,
           -0.9342811107635498,
           -0.9162333011627197,
           -0.8865089416503906,
           -0.8374464511871338,
           -0.7560625076293945,
           -0.6202585697174072,
           -0.3929431438446045,
           -0.014958381652832031,
           0.593975305557251,
           1.4694819450378418,
           2.1316850185394287,
           1.5326080322265625
          ],
          [
           -0.9626364707946777,
           -0.9626083374023438,
           -0.9625749588012695,
           -0.962536096572876,
           -0.9624912738800049,
           -0.962440013885498,
           -0.9623806476593018,
           -0.9623088836669922,
           -0.9622154235839844,
           -0.962083101272583,
           -0.9618799686431885,
           -0.9615519046783447,
           -0.9610066413879395,
           -0.9600915908813477,
           -0.9585540294647217,
           -0.955981969833374,
           -0.9517025947570801,
           -0.9446191787719727,
           -0.9329428672790527,
           -0.9137380123138428,
           -0.8821413516998291,
           -0.8299961090087891,
           -0.7434744834899902,
           -0.5991528034210205,
           -0.35831141471862793,
           0.038994550704956055,
           0.673243522644043,
           1.613046407699585,
           2.5072429180145264,
           1.6857142448425293
          ],
          [
           -0.9626970291137695,
           -0.9626872539520264,
           -0.9626750946044922,
           -0.9626600742340088,
           -0.962641716003418,
           -0.9626176357269287,
           -0.9625852108001709,
           -0.9625387191772461,
           -0.9624679088592529,
           -0.962355375289917,
           -0.9621717929840088,
           -0.9618673324584961,
           -0.9613592624664307,
           -0.9605131149291992,
           -0.9591059684753418,
           -0.9567782878875732,
           -0.9529457092285156,
           -0.9466657638549805,
           -0.9364116191864014,
           -0.9196944236755371,
           -0.8923988342285156,
           -0.8475804328918457,
           -0.7732570171356201,
           -0.6484236717224121,
           -0.43631553649902344,
           -0.07442474365234375,
           0.5353209972381592,
           1.5094326734542847,
           2.535046339035034,
           1.5881811380386353
          ],
          [
           -0.9627189636230469,
           -0.9627149105072021,
           -0.962709903717041,
           -0.9627029895782471,
           -0.9626932144165039,
           -0.9626791477203369,
           -0.9626576900482178,
           -0.9626235961914062,
           -0.962568998336792,
           -0.9624791145324707,
           -0.9623305797576904,
           -0.9620845317840576,
           -0.9616780281066895,
           -0.9610073566436768,
           -0.9599080085754395,
           -0.9581155776977539,
           -0.9552106857299805,
           -0.9505298137664795,
           -0.9430239200592041,
           -0.9310250282287598,
           -0.9118492603302002,
           -0.881098747253418,
           -0.8314568996429443,
           -0.7507932186126709,
           -0.6200430393218994,
           -0.41416049003601074,
           -0.11835122108459473,
           0.21409106254577637,
           0.3868594169616699,
           0.23352599143981934
          ]
         ],
         "type": "surface"
        },
        {
         "marker": {
          "color": "#72356c"
         },
         "mode": "markers",
         "name": "training data",
         "x": [
          0.5,
          0.5,
          1.0000000037252903,
          1.0000000037252903,
          1.5000000074505806,
          1.5000000074505806,
          5.000000000000001,
          5.000000000000001,
          0.5,
          5.000000000000001,
          2.0000000447034836,
          0.5,
          0.5,
          0.5,
          1.0000000037252903,
          1.0000000037252903,
          2.0000000447034836,
          2.0000000447034836,
          2.0000000447034836,
          2.0000000447034836,
          5.000000000000001,
          5.000000000000001,
          5.000000000000001
         ],
         "y": [
          2.7300000190734863,
          3.4000001145614362,
          3.7899999185612288,
          6.440000140764965,
          5.3600000716472636,
          8.98999989360641,
          8.800000081362441,
          14.670000341289324,
          5.239999811442516,
          14.890000123887603,
          10.130000282220237,
          4.510000154033449,
          5.369999872371615,
          4.880000167190786,
          6.760000203331785,
          7.769999962835257,
          8.729999392960707,
          9.380000265787459,
          10.479999178778854,
          11.010000170188363,
          14.710000301761738,
          15.4399995803833,
          13.370000110785838
         ],
         "z": [
          0.8730257153511047,
          2.6772446632385254,
          1.6990152597427368,
          3.8050527572631836,
          3.3348562717437744,
          4.535152912139893,
          1.3625102043151855,
          3.8412907123565674,
          1.2013570070266724,
          3.5136520862579346,
          3.4708714485168457,
          0.26329824328422546,
          2.7753403186798096,
          2.591306209564209,
          2.579984426498413,
          3.173818588256836,
          0.13150499761104584,
          0.45116370916366577,
          2.1266398429870605,
          3.468212842941284,
          3.685852527618408,
          3.445655584335327,
          2.6515469551086426
         ],
         "type": "scatter3d"
        },
        {
         "mode": "markers",
         "name": "max(PI)",
         "x": [
          1.336822658777237
         ],
         "y": [
          8.850209122655428
         ],
         "z": [
          4.508388996124268
         ],
         "type": "scatter3d"
        },
        {
         "mode": "markers",
         "name": "max(EI)",
         "x": [
          1.1705665364861488
         ],
         "y": [
          8.850209122655428
         ],
         "z": [
          4.260004997253418
         ],
         "type": "scatter3d"
        },
        {
         "mode": "markers",
         "name": "max(CA)",
         "x": [
          2.3343595266342168
         ],
         "y": [
          12.13727784410193
         ],
         "z": [
          2.713505744934082
         ],
         "type": "scatter3d"
        },
        {
         "mode": "markers",
         "name": "max(TH)",
         "x": [
          1.1705665364861488
         ],
         "y": [
          12.60685919824786
         ],
         "z": [
          2.5442066192626953
         ],
         "type": "scatter3d"
        },
        {
         "mode": "markers",
         "name": "max(UCB)",
         "x": [
          1.0043103471398354
         ],
         "y": [
          8.850209122655428
         ],
         "z": [
          3.864198923110962
         ],
         "type": "scatter3d"
        },
        {
         "mode": "markers",
         "name": "max(Max_var)",
         "x": [
          3.99692115187645
         ],
         "y": [
          2.276071443020234
         ],
         "z": [
          2.498929023742676
         ],
         "type": "scatter3d"
        }
       ],
       "layout": {
        "template": {
         "data": {
          "barpolar": [
           {
            "marker": {
             "line": {
              "color": "rgb(237,237,237)",
              "width": 0.5
             },
             "pattern": {
              "fillmode": "overlay",
              "size": 10,
              "solidity": 0.2
             }
            },
            "type": "barpolar"
           }
          ],
          "bar": [
           {
            "error_x": {
             "color": "rgb(51,51,51)"
            },
            "error_y": {
             "color": "rgb(51,51,51)"
            },
            "marker": {
             "line": {
              "color": "rgb(237,237,237)",
              "width": 0.5
             },
             "pattern": {
              "fillmode": "overlay",
              "size": 10,
              "solidity": 0.2
             }
            },
            "type": "bar"
           }
          ],
          "carpet": [
           {
            "aaxis": {
             "endlinecolor": "rgb(51,51,51)",
             "gridcolor": "white",
             "linecolor": "white",
             "minorgridcolor": "white",
             "startlinecolor": "rgb(51,51,51)"
            },
            "baxis": {
             "endlinecolor": "rgb(51,51,51)",
             "gridcolor": "white",
             "linecolor": "white",
             "minorgridcolor": "white",
             "startlinecolor": "rgb(51,51,51)"
            },
            "type": "carpet"
           }
          ],
          "choropleth": [
           {
            "colorbar": {
             "outlinewidth": 0,
             "tickcolor": "rgb(237,237,237)",
             "ticklen": 6,
             "ticks": "inside"
            },
            "type": "choropleth"
           }
          ],
          "contourcarpet": [
           {
            "colorbar": {
             "outlinewidth": 0,
             "tickcolor": "rgb(237,237,237)",
             "ticklen": 6,
             "ticks": "inside"
            },
            "type": "contourcarpet"
           }
          ],
          "contour": [
           {
            "colorbar": {
             "outlinewidth": 0,
             "tickcolor": "rgb(237,237,237)",
             "ticklen": 6,
             "ticks": "inside"
            },
            "colorscale": [
             [
              0,
              "rgb(20,44,66)"
             ],
             [
              1,
              "rgb(90,179,244)"
             ]
            ],
            "type": "contour"
           }
          ],
          "heatmapgl": [
           {
            "colorbar": {
             "outlinewidth": 0,
             "tickcolor": "rgb(237,237,237)",
             "ticklen": 6,
             "ticks": "inside"
            },
            "colorscale": [
             [
              0,
              "rgb(20,44,66)"
             ],
             [
              1,
              "rgb(90,179,244)"
             ]
            ],
            "type": "heatmapgl"
           }
          ],
          "heatmap": [
           {
            "colorbar": {
             "outlinewidth": 0,
             "tickcolor": "rgb(237,237,237)",
             "ticklen": 6,
             "ticks": "inside"
            },
            "colorscale": [
             [
              0,
              "rgb(20,44,66)"
             ],
             [
              1,
              "rgb(90,179,244)"
             ]
            ],
            "type": "heatmap"
           }
          ],
          "histogram2dcontour": [
           {
            "colorbar": {
             "outlinewidth": 0,
             "tickcolor": "rgb(237,237,237)",
             "ticklen": 6,
             "ticks": "inside"
            },
            "colorscale": [
             [
              0,
              "rgb(20,44,66)"
             ],
             [
              1,
              "rgb(90,179,244)"
             ]
            ],
            "type": "histogram2dcontour"
           }
          ],
          "histogram2d": [
           {
            "colorbar": {
             "outlinewidth": 0,
             "tickcolor": "rgb(237,237,237)",
             "ticklen": 6,
             "ticks": "inside"
            },
            "colorscale": [
             [
              0,
              "rgb(20,44,66)"
             ],
             [
              1,
              "rgb(90,179,244)"
             ]
            ],
            "type": "histogram2d"
           }
          ],
          "histogram": [
           {
            "marker": {
             "pattern": {
              "fillmode": "overlay",
              "size": 10,
              "solidity": 0.2
             }
            },
            "type": "histogram"
           }
          ],
          "mesh3d": [
           {
            "colorbar": {
             "outlinewidth": 0,
             "tickcolor": "rgb(237,237,237)",
             "ticklen": 6,
             "ticks": "inside"
            },
            "type": "mesh3d"
           }
          ],
          "parcoords": [
           {
            "line": {
             "colorbar": {
              "outlinewidth": 0,
              "tickcolor": "rgb(237,237,237)",
              "ticklen": 6,
              "ticks": "inside"
             }
            },
            "type": "parcoords"
           }
          ],
          "pie": [
           {
            "automargin": true,
            "type": "pie"
           }
          ],
          "scatter3d": [
           {
            "line": {
             "colorbar": {
              "outlinewidth": 0,
              "tickcolor": "rgb(237,237,237)",
              "ticklen": 6,
              "ticks": "inside"
             }
            },
            "marker": {
             "colorbar": {
              "outlinewidth": 0,
              "tickcolor": "rgb(237,237,237)",
              "ticklen": 6,
              "ticks": "inside"
             }
            },
            "type": "scatter3d"
           }
          ],
          "scattercarpet": [
           {
            "marker": {
             "colorbar": {
              "outlinewidth": 0,
              "tickcolor": "rgb(237,237,237)",
              "ticklen": 6,
              "ticks": "inside"
             }
            },
            "type": "scattercarpet"
           }
          ],
          "scattergeo": [
           {
            "marker": {
             "colorbar": {
              "outlinewidth": 0,
              "tickcolor": "rgb(237,237,237)",
              "ticklen": 6,
              "ticks": "inside"
             }
            },
            "type": "scattergeo"
           }
          ],
          "scattergl": [
           {
            "marker": {
             "colorbar": {
              "outlinewidth": 0,
              "tickcolor": "rgb(237,237,237)",
              "ticklen": 6,
              "ticks": "inside"
             }
            },
            "type": "scattergl"
           }
          ],
          "scattermapbox": [
           {
            "marker": {
             "colorbar": {
              "outlinewidth": 0,
              "tickcolor": "rgb(237,237,237)",
              "ticklen": 6,
              "ticks": "inside"
             }
            },
            "type": "scattermapbox"
           }
          ],
          "scatterpolargl": [
           {
            "marker": {
             "colorbar": {
              "outlinewidth": 0,
              "tickcolor": "rgb(237,237,237)",
              "ticklen": 6,
              "ticks": "inside"
             }
            },
            "type": "scatterpolargl"
           }
          ],
          "scatterpolar": [
           {
            "marker": {
             "colorbar": {
              "outlinewidth": 0,
              "tickcolor": "rgb(237,237,237)",
              "ticklen": 6,
              "ticks": "inside"
             }
            },
            "type": "scatterpolar"
           }
          ],
          "scatter": [
           {
            "fillpattern": {
             "fillmode": "overlay",
             "size": 10,
             "solidity": 0.2
            },
            "type": "scatter"
           }
          ],
          "scatterternary": [
           {
            "marker": {
             "colorbar": {
              "outlinewidth": 0,
              "tickcolor": "rgb(237,237,237)",
              "ticklen": 6,
              "ticks": "inside"
             }
            },
            "type": "scatterternary"
           }
          ],
          "surface": [
           {
            "colorbar": {
             "outlinewidth": 0,
             "tickcolor": "rgb(237,237,237)",
             "ticklen": 6,
             "ticks": "inside"
            },
            "colorscale": [
             [
              0,
              "rgb(20,44,66)"
             ],
             [
              1,
              "rgb(90,179,244)"
             ]
            ],
            "type": "surface"
           }
          ],
          "table": [
           {
            "cells": {
             "fill": {
              "color": "rgb(237,237,237)"
             },
             "line": {
              "color": "white"
             }
            },
            "header": {
             "fill": {
              "color": "rgb(217,217,217)"
             },
             "line": {
              "color": "white"
             }
            },
            "type": "table"
           }
          ]
         },
         "layout": {
          "annotationdefaults": {
           "arrowhead": 0,
           "arrowwidth": 1
          },
          "autotypenumbers": "strict",
          "coloraxis": {
           "colorbar": {
            "outlinewidth": 0,
            "tickcolor": "rgb(237,237,237)",
            "ticklen": 6,
            "ticks": "inside"
           }
          },
          "colorscale": {
           "sequential": [
            [
             0,
             "rgb(20,44,66)"
            ],
            [
             1,
             "rgb(90,179,244)"
            ]
           ],
           "sequentialminus": [
            [
             0,
             "rgb(20,44,66)"
            ],
            [
             1,
             "rgb(90,179,244)"
            ]
           ]
          },
          "colorway": [
           "#F8766D",
           "#A3A500",
           "#00BF7D",
           "#00B0F6",
           "#E76BF3"
          ],
          "font": {
           "color": "rgb(51,51,51)"
          },
          "geo": {
           "bgcolor": "white",
           "lakecolor": "white",
           "landcolor": "rgb(237,237,237)",
           "showlakes": true,
           "showland": true,
           "subunitcolor": "white"
          },
          "hoverlabel": {
           "align": "left"
          },
          "hovermode": "closest",
          "paper_bgcolor": "white",
          "plot_bgcolor": "rgb(237,237,237)",
          "polar": {
           "angularaxis": {
            "gridcolor": "white",
            "linecolor": "white",
            "showgrid": true,
            "tickcolor": "rgb(51,51,51)",
            "ticks": "outside"
           },
           "bgcolor": "rgb(237,237,237)",
           "radialaxis": {
            "gridcolor": "white",
            "linecolor": "white",
            "showgrid": true,
            "tickcolor": "rgb(51,51,51)",
            "ticks": "outside"
           }
          },
          "scene": {
           "xaxis": {
            "backgroundcolor": "rgb(237,237,237)",
            "gridcolor": "white",
            "gridwidth": 2,
            "linecolor": "white",
            "showbackground": true,
            "showgrid": true,
            "tickcolor": "rgb(51,51,51)",
            "ticks": "outside",
            "zerolinecolor": "white"
           },
           "yaxis": {
            "backgroundcolor": "rgb(237,237,237)",
            "gridcolor": "white",
            "gridwidth": 2,
            "linecolor": "white",
            "showbackground": true,
            "showgrid": true,
            "tickcolor": "rgb(51,51,51)",
            "ticks": "outside",
            "zerolinecolor": "white"
           },
           "zaxis": {
            "backgroundcolor": "rgb(237,237,237)",
            "gridcolor": "white",
            "gridwidth": 2,
            "linecolor": "white",
            "showbackground": true,
            "showgrid": true,
            "tickcolor": "rgb(51,51,51)",
            "ticks": "outside",
            "zerolinecolor": "white"
           }
          },
          "shapedefaults": {
           "fillcolor": "black",
           "line": {
            "width": 0
           },
           "opacity": 0.3
          },
          "ternary": {
           "aaxis": {
            "gridcolor": "white",
            "linecolor": "white",
            "showgrid": true,
            "tickcolor": "rgb(51,51,51)",
            "ticks": "outside"
           },
           "baxis": {
            "gridcolor": "white",
            "linecolor": "white",
            "showgrid": true,
            "tickcolor": "rgb(51,51,51)",
            "ticks": "outside"
           },
           "bgcolor": "rgb(237,237,237)",
           "caxis": {
            "gridcolor": "white",
            "linecolor": "white",
            "showgrid": true,
            "tickcolor": "rgb(51,51,51)",
            "ticks": "outside"
           }
          },
          "xaxis": {
           "automargin": true,
           "gridcolor": "white",
           "linecolor": "white",
           "showgrid": true,
           "tickcolor": "rgb(51,51,51)",
           "ticks": "outside",
           "title": {
            "standoff": 15
           },
           "zerolinecolor": "white"
          },
          "yaxis": {
           "automargin": true,
           "gridcolor": "white",
           "linecolor": "white",
           "showgrid": true,
           "tickcolor": "rgb(51,51,51)",
           "ticks": "outside",
           "title": {
            "standoff": 15
           },
           "zerolinecolor": "white"
          }
         }
        },
        "margin": {
         "r": 20,
         "l": 10,
         "b": 15,
         "t": 10
        },
        "legend": {
         "orientation": "h",
         "yanchor": "bottom",
         "y": 0.9,
         "xanchor": "right",
         "x": 0.85
        },
        "width": 1200,
        "height": 750,
        "scene": {
         "xaxis": {
          "title": {
           "text": "Pulse Width (msec)"
          }
         },
         "yaxis": {
          "title": {
           "text": "Energy density new cone (J/cm^2)"
          }
         },
         "zaxis": {
          "title": {
           "text": "2 Qsw/(U+|D|) 1e6"
          }
         },
         "camera": {
          "up": {
           "x": 0,
           "y": 0,
           "z": 1
          },
          "center": {
           "x": 0,
           "y": 0,
           "z": 0
          },
          "eye": {
           "x": 2,
           "y": 0.3,
           "z": 0.75
          }
         }
        }
       },
       "config": {
        "plotlyServerURL": "https://plot.ly"
       }
      }
     },
     "metadata": {}
    }
   ],
   "metadata": {}
  },
  {
   "cell_type": "code",
   "execution_count": 189,
   "source": [
    "# check fig of merit of julia et al prediction point\n",
    "model.eval(), likelihood.eval()\n",
    "nlcb = np.array((0.9, 5.89)).reshape(1,2)\n",
    "nlcb_scaled = scaler.transform(nlcb)\n",
    "print(nlcb_scaled)\n",
    "\n",
    "y_preds_nlcb = likelihood(model(torch.Tensor(nlcb_scaled)))\n",
    "\n",
    "with torch.no_grad(): y_preds_nlcb_mean = y_preds_nlcb.mean.numpy()\n",
    "print(y_preds_nlcb_mean)"
   ],
   "outputs": [
    {
     "output_type": "stream",
     "name": "stdout",
     "text": [
      "[[0.08888889 0.24862314]]\n",
      "[3.6828923]\n"
     ]
    },
    {
     "output_type": "stream",
     "name": "stderr",
     "text": [
      "/Users/valenetjong/opt/anaconda3/envs/FEGP/lib/python3.9/site-packages/gpytorch/likelihoods/gaussian_likelihood.py:270: GPInputWarning:\n",
      "\n",
      "You have passed data through a FixedNoiseGaussianLikelihood that did not match the size of the fixed noise, *and* you did not specify noise. This is treated as a no-op.\n",
      "\n"
     ]
    }
   ],
   "metadata": {}
  },
  {
   "cell_type": "markdown",
   "source": [
    "### Post-processing\n",
    "- Energy density, pulse width --> voltage function"
   ],
   "metadata": {}
  },
  {
   "cell_type": "code",
   "execution_count": 190,
   "source": [
    "import GPy\n",
    "from GPy.models import GPRegression\n",
    "from emukit.model_wrappers import GPyModelWrapper\n",
    "from torch.optim import Adam as Adam\n",
    "from emukit.core import ParameterSpace, ContinuousParameter"
   ],
   "outputs": [],
   "metadata": {}
  },
  {
   "cell_type": "markdown",
   "source": [
    "#### Load Data"
   ],
   "metadata": {}
  },
  {
   "cell_type": "code",
   "execution_count": 191,
   "source": [
    "dir = \"/Users/valenetjong/Bayesian-Optimization-Ferroelectrics/data/\"\n",
    "in_file = \"Bolometer_readings_under_the_cone_new_old.xlsx\"\n",
    "df = pd.read_excel(dir + in_file, sheet_name=\"Calibrations_new\")\n",
    "\n",
    "volts_bol_dat = df['Voltage (V)'].values  \n",
    "time_bol_dat = df['Time (us)'].values  \n",
    "energy_den_bol_dat = df['Energy density new cone (J/cm^2)'].values  \n",
    "\n",
    "# define scaler\n",
    "post_scaler = MinMaxScaler()\n",
    "\n",
    "# make, scale training set\n",
    "x_exp_raw = np.stack((time_bol_dat, energy_den_bol_dat), axis=1)\n",
    "x_exp = post_scaler.fit_transform(x_exp_raw)\n",
    "\n",
    "y_exp = np.reshape(volts_bol_dat,(-1,1))\n",
    "X, Y = [x_exp, y_exp]"
   ],
   "outputs": [],
   "metadata": {}
  },
  {
   "cell_type": "markdown",
   "source": [
    "#### GP Voltage Model"
   ],
   "metadata": {}
  },
  {
   "cell_type": "code",
   "execution_count": 192,
   "source": [
    "def grid_maker_1D(arr, step_size):\n",
    "    return np.arange(arr.min(), arr.max()+step_size*0.1,step_size)\n",
    "\n",
    "# make GP grid; min delta time: 500us, min delta energy density: 0.01J/cm^2\n",
    "var_array = [grid_maker_1D(time_bol_dat, 500), grid_maker_1D(energy_den_bol_dat, 0.01)]"
   ],
   "outputs": [],
   "metadata": {}
  },
  {
   "cell_type": "code",
   "execution_count": 193,
   "source": [
    "# continuous parameter creates a grid space for grid search\n",
    "time_len_num, e_den_num = len(var_array[0]), len(var_array[1])\n",
    "parameter_space = ParameterSpace([ContinuousParameter(\"Time (ms)\", 0-1/(time_len_num-1)/2, 1+1/(time_len_num-1)/2),\n",
    "                                  ContinuousParameter(\"Energy density new cone (J/cm^2)\", 0-1/(e_den_num-1)/2, 1+1/(e_den_num-1)/2),\n",
    "                                 ])"
   ],
   "outputs": [],
   "metadata": {}
  },
  {
   "cell_type": "code",
   "execution_count": 194,
   "source": [
    "# define GP model\n",
    "kernel = GPy.kern.src.stationary.Exponential(input_dim = len(X[0]), ARD =True)\n",
    "kernel.lengthscale.constrain_bounded(1e-2, 1)\n",
    "kernel.variance.constrain_bounded(1e-2, 500.0)\n",
    "model_volt = GPRegression(X , -Y, kernel)   # optimize thru minimization\n",
    "model_volt.Gaussian_noise.variance = 0.15\n",
    "model_volt.Gaussian_noise.variance.fix()"
   ],
   "outputs": [
    {
     "output_type": "stream",
     "name": "stderr",
     "text": [
      "reconstraining parameters Exponential.lengthscale\n",
      "reconstraining parameters Exponential.variance\n"
     ]
    },
    {
     "output_type": "execute_result",
     "data": {
      "text/plain": [
       "array([0])"
      ]
     },
     "metadata": {},
     "execution_count": 194
    }
   ],
   "metadata": {}
  },
  {
   "cell_type": "code",
   "execution_count": 195,
   "source": [
    "# randomize hyperparameters\n",
    "model_volt.randomize() \n",
    "\n",
    "# check hyperparameters \n",
    "# print(kernel.lengthscale, '\\n', kernel.variance)\n",
    "print(kernel)"
   ],
   "outputs": [
    {
     "output_type": "stream",
     "name": "stdout",
     "text": [
      "  \u001b[1mExponential.\u001b[0;0m  |              value  |  constraints  |  priors\n",
      "  \u001b[1mvariance    \u001b[0;0m  |  323.4012668523419  |  0.01,500.0   |        \n",
      "  \u001b[1mlengthscale \u001b[0;0m  |               (2,)  |   0.01,1.0    |        \n"
     ]
    }
   ],
   "metadata": {}
  },
  {
   "cell_type": "code",
   "execution_count": 196,
   "source": [
    "# train voltage model\n",
    "model_volt.optimize_restarts(num_restarts=30, verbose =False, messages=False) # fit to training data, select best hyperparameters out of num_restarts \n",
    "objective_model = GPyModelWrapper(model_volt)\n",
    "# print(objective_model.model.kern.lengthscale, '\\n', objective_model.model.kern.variance)\n",
    "print(kernel)"
   ],
   "outputs": [
    {
     "output_type": "stream",
     "name": "stdout",
     "text": [
      "  \u001b[1mExponential.\u001b[0;0m  |               value  |  constraints  |  priors\n",
      "  \u001b[1mvariance    \u001b[0;0m  |  499.99999928014137  |  0.01,500.0   |        \n",
      "  \u001b[1mlengthscale \u001b[0;0m  |                (2,)  |   0.01,1.0    |        \n"
     ]
    }
   ],
   "metadata": {}
  },
  {
   "cell_type": "code",
   "execution_count": 197,
   "source": [
    "# predict voltage training set\n",
    "gp_func =  objective_model.model.predict\n",
    "y_pred, y_err = gp_func(X)\n",
    "y_pred, y_err = -y_pred[:,-1], np.sqrt(y_err[:,-1])"
   ],
   "outputs": [],
   "metadata": {}
  },
  {
   "cell_type": "code",
   "execution_count": 198,
   "source": [
    "# plot voltage training results \n",
    "plot_gp_res(y_exp.reshape(-1), y_pred, None, y_err)\n",
    "prettyplot()\n",
    "\n",
    "# plot actuals v. predicted values w/ error bars\n",
    "fs = 14 \n",
    "fig, axes = plt.subplots(1, 2, figsize=(16, 4.5))\n",
    "plt_inputs = np.arange(len(Y))\n",
    "axes[0].scatter(plt_inputs, Y[:,0].T, s = 20, color = \"#72356c\", label = 'experiment')\n",
    "axes[0].plot(plt_inputs, y_pred, color = 'black', label = 'predicted')\n",
    "axes[0].errorbar(plt_inputs, y_pred, y_err, zorder = 0)\n",
    "\n",
    "# set up axes and labels\n",
    "axes[0].set_ylabel('Output (Voltage)', fontsize = fs)\n",
    "axes[0].set_xlabel('Input (Time, Energy Density)', fontsize = fs)\n",
    "axes[0].set_title(\"Predicted v. Actuals\", fontsize = fs)\n",
    "axes[0].legend(fontsize = fs*0.8)\n",
    "axes[1].axis(\"off\")\n",
    "\n",
    "plt.show()"
   ],
   "outputs": [
    {
     "output_type": "stream",
     "name": "stdout",
     "text": [
      "     Metric  Value\n",
      "0      RMSE  0.118\n",
      "1       MAE  0.069\n",
      "2  Spearman  0.988\n",
      "3  R² score  1.000\n"
     ]
    },
    {
     "output_type": "display_data",
     "data": {
      "image/png": "[encoded data removed]",
      "text/plain": [
       "<Figure size 3300x900 with 3 Axes>"
      ]
     },
     "metadata": {}
    },
    {
     "output_type": "display_data",
     "data": {
      "image/png": "[encoded data removed]",
      "text/plain": [
       "<Figure size 3200x900 with 2 Axes>"
      ]
     },
     "metadata": {}
    }
   ],
   "metadata": {}
  },
  {
   "cell_type": "code",
   "execution_count": 205,
   "source": [
    "get_pos_volt = lambda pt: round(-1*(gp_func(pt)[0].item()),0)\n",
    "ei_pt = np.array([1336.823, 8.850209]).reshape(1,2)\n",
    "ei_pt_scaled = post_scaler.transform(ei_pt.reshape(1,-1))\n",
    "print(get_pos_volt(ei_pt_scaled))"
   ],
   "outputs": [
    {
     "output_type": "stream",
     "name": "stdout",
     "text": [
      "712.0\n"
     ]
    }
   ],
   "metadata": {}
  },
  {
   "cell_type": "code",
   "execution_count": 206,
   "source": [
    "# get voltage of prediction points and re-scale to raw\n",
    "ucb_pt, nlcd_pt = np.array(ucb_pt).reshape(1,2), np.array(nlcd_pt).reshape(1,2)\n",
    "ucb_pt_scaled, nlcd_pt_scaled = post_scaler.transform(ucb_pt), post_scaler.transform(nlcd_pt)\n",
    "ucb_pt, nlcd_pt = ucb_pt.reshape(-1), nlcd_pt.reshape(-1)\n",
    "ucb_pt_time, ucb_pt_eden, ucb_pt_volt = ucb_pt[0]/1000, ucb_pt[1], get_pos_volt(ucb_pt_scaled)\n",
    "nlcd_pt_time, nlcd_pt_eden, nlcd_pt_volt = nlcd_pt[0]/1000, nlcd_pt[1], get_pos_volt(nlcd_pt_scaled)\n",
    "\n",
    "# write to csv\n",
    "dir = \"/Users/valenetjong/Bayesian-Optimization-Ferroelectrics/predictions/\"\n",
    "file_out = \"final_preds.csv\"\n",
    "file = open(dir + file_out, \"a\", encoding=\"utf-8\")\n",
    "file.write(\"GP fit predictions: \\n\")\n",
    "file.write(\"Type\\t Time (ms)\\t Energy density(J\\cm^2)\\t Voltage()\\n\")\n",
    "file.write(\"UCB:\\t\" + str(ucb_pt_time) + \"\\t\" + str(ucb_pt_eden) +\"\\t\" + str(ucb_pt_volt) + \"\\n\")\n",
    "file.write(\"NLCB:\\t\" + str(nlcd_pt_time) + \"\\t\" + str(nlcd_pt_eden) +\"\\t\" + str(nlcd_pt_volt) + \"\\n\")"
   ],
   "outputs": [
    {
     "output_type": "execute_result",
     "data": {
      "text/plain": [
       "21"
      ]
     },
     "metadata": {},
     "execution_count": 206
    }
   ],
   "metadata": {}
  },
  {
   "cell_type": "markdown",
   "source": [
    "#### Plot GP Function, Scipy Optimize Function, against Raw Data"
   ],
   "metadata": {}
  },
  {
   "cell_type": "code",
   "execution_count": 207,
   "source": [
    "# make, scale post_test_grid\n",
    "_, _, post_test_grid, post_test_arr = grid_maker(torch.Tensor(X))\n",
    "volt_on_grid, _ = gp_func(post_test_arr.numpy())\n",
    "volt_on_grid = -1 * volt_on_grid.reshape(30,30).T\n",
    "raw_post_test_arr, raw_post_test_grid = un_norm_x(post_test_arr, post_test_grid, post_scaler)"
   ],
   "outputs": [],
   "metadata": {}
  },
  {
   "cell_type": "code",
   "execution_count": 208,
   "source": [
    "import plotly.graph_objects as go\n",
    "import matplotlib.pyplot as plt\n",
    "import matplotlib as mpl\n",
    "\n",
    "fig = go.Figure(data=[go.Scatter3d(z=volts_bol_dat, \n",
    "                                    x=time_bol_dat,\n",
    "                                    y=energy_den_bol_dat, \n",
    "                                    mode='markers',\n",
    "                                    marker={'color':'#72356c'},\n",
    "                                    name='GP regression')])\n",
    "fig.add_trace(go.Surface(z=volt_on_grid, \n",
    "                            x=raw_post_test_grid[:,0],\n",
    "                            y=raw_post_test_grid[:,1],\n",
    "                            opacity=0.8,\n",
    "                            colorscale = \"Burg\",\n",
    "                            colorbar=dict(thickness=15, len=0.5)))\n",
    "\n",
    "fig.update_layout(width=1000, height=800,\n",
    "                    legend=dict(orientation=\"h\", yanchor=\"top\", y=1.02, \n",
    "                    xanchor=\"left\",x=1), margin=dict(r=20, l=10, b=10, t=10), \n",
    "                        scene=dict(\n",
    "                        xaxis_title=\"Pulse width (μs)\",\n",
    "                        yaxis_title=\"Energy density new cone (J/cm^2)\",\n",
    "                        zaxis_title='Voltage')\n",
    "                    )\n",
    "camera = dict(\n",
    "        up=dict(x=0, y=0, z=1),\n",
    "        center=dict(x=0, y=0, z=0),\n",
    "        eye=dict(x=-2, y=-2.5, z=1.75)\n",
    ")\n",
    "fig.update_layout(scene_camera=camera)\n",
    "fig.update_layout(template=\"ggplot2\")\n",
    "fig.show()"
   ],
   "outputs": [
    {
     "output_type": "display_data",
     "data": {
      "application/vnd.plotly.v1+json": {
       "data": [
        {
         "marker": {
          "color": "#72356c"
         },
         "mode": "markers",
         "name": "GP regression",
         "x": [
          400,
          500,
          1000,
          1500,
          2000,
          2500,
          5000,
          500,
          1000,
          1500,
          2000,
          2500,
          5000,
          300,
          500,
          1000,
          1500,
          2000,
          2500,
          5000,
          200,
          300,
          400,
          500,
          800,
          100,
          200,
          300,
          400,
          495,
          500,
          1000,
          1500,
          2000,
          5000
         ],
         "y": [
          0.61,
          2.4,
          4.34,
          5.83,
          6.91,
          7.74,
          10.01,
          3.01,
          5.45,
          7.21,
          8.55,
          9.53,
          12.11,
          2.23,
          3.65,
          6.55,
          8.63,
          10.13,
          11.23,
          14.11,
          1.72,
          2.69,
          3.58,
          4.43,
          6.63,
          0.86,
          2.06,
          3.19,
          4.27,
          5.22,
          5.24,
          7.52,
          9.29,
          10.71,
          14.89
         ],
         "z": [
          400,
          600,
          600,
          600,
          600,
          600,
          600,
          650,
          650,
          650,
          650,
          650,
          650,
          700,
          700,
          700,
          700,
          700,
          700,
          700,
          750,
          750,
          750,
          750,
          750,
          800,
          800,
          800,
          800,
          800,
          799,
          738,
          720,
          716,
          716
         ],
         "type": "scatter3d"
        },
        {
         "colorbar": {
          "len": 0.5,
          "thickness": 15
         },
         "colorscale": [
          [
           0,
           "rgb(255, 198, 196)"
          ],
          [
           0.16666666666666666,
           "rgb(244, 163, 168)"
          ],
          [
           0.3333333333333333,
           "rgb(227, 129, 145)"
          ],
          [
           0.5,
           "rgb(204, 96, 125)"
          ],
          [
           0.6666666666666666,
           "rgb(173, 70, 108)"
          ],
          [
           0.8333333333333334,
           "rgb(139, 48, 88)"
          ],
          [
           1,
           "rgb(103, 32, 68)"
          ]
         ],
         "opacity": 0.8,
         "x": [
          -75.00000782310961,
          106.03447295725346,
          287.06895373761654,
          468.1034162640571,
          649.1379335522652,
          830.1724508404732,
          1011.2068951129912,
          1192.2413393855095,
          1373.2757836580276,
          1554.3103009462357,
          1735.344672203064,
          1916.379189491272,
          2097.41370677948,
          2278.448224067688,
          2459.482741355896,
          2640.517258644104,
          2821.551775932312,
          3002.58629322052,
          3183.620810508728,
          3364.6550357341766,
          3545.6895530223846,
          3726.7240703105927,
          3907.7585875988007,
          4088.7931048870087,
          4269.827330112457,
          4450.861847400665,
          4631.896364688873,
          4812.930881977081,
          4993.965399265289,
          5174.999916553497
         ],
         "y": [
          0.09999997720122339,
          0.6275861783325672,
          1.155172379463911,
          1.6827585273981094,
          2.2103448349237445,
          2.737931142449379,
          3.265517237186432,
          3.793103331923485,
          4.320689426660538,
          4.848275734186172,
          5.375861616134643,
          5.903447923660279,
          6.431034231185913,
          6.958620538711548,
          7.486206846237182,
          8.013793153762817,
          8.541379461288452,
          9.068965768814087,
          9.596552076339721,
          10.124137532711028,
          10.651723840236663,
          11.179310147762298,
          11.706896455287932,
          12.234482762813567,
          12.762068219184874,
          13.289654526710509,
          13.817240834236145,
          14.344827141761781,
          14.872413449287416,
          15.39999975681305
         ],
         "z": [
          [
           703.3751284964712,
           676.2412479683042,
           517.9755653651185,
           397.32950092888893,
           395.4094072168481,
           399.66400493866314,
           401.4435404098697,
           401.20920174433274,
           399.699971176148,
           397.3836525184557,
           394.515944832135,
           391.23340725106755,
           387.6069956833469,
           383.6742879964211,
           379.4623786704744,
           375.0045594940292,
           370.3491914544341,
           365.55836788201464,
           360.69732081699317,
           355.81885289472365,
           350.9477185812593,
           346.06879274813474,
           341.120931495317,
           335.99750441704293,
           330.55377714547313,
           324.62090058675324,
           318.0257811335586,
           310.61455047536003,
           302.2759699167806,
           292.9596799156635
          ],
          [
           748.7915478731194,
           755.0729952034707,
           551.670067156192,
           407.93947080278576,
           417.54033280394395,
           421.0963321303494,
           421.25242954322823,
           419.5442981643702,
           416.871084085911,
           413.6571698593105,
           410.0882736169408,
           406.2446762043915,
           402.15372017361454,
           397.8191854052553,
           393.24336896983414,
           388.4448207047534,
           383.46814861286066,
           378.3811030475465,
           373.2599218244925,
           368.1689027802422,
           363.14062419584775,
           358.1612890590135,
           353.1630943100974,
           348.0244092001417,
           342.5778380003984,
           336.62603293641564,
           329.96474194130536,
           322.410784836741,
           313.83060720432206,
           304.16286110561236
          ],
          [
           781.1710499864023,
           794.5006334147627,
           606.8237616360724,
           466.71855780242737,
           451.31609839312813,
           447.5239795846775,
           443.70828906129464,
           439.4631929829508,
           435.0980973772374,
           430.6996790199505,
           426.26190658495415,
           421.7549670696938,
           417.1342393224626,
           412.35304696902097,
           407.37816336298806,
           402.20702408192057,
           396.87835908843846,
           391.46677471784466,
           386.0623669199044,
           380.74391369807347,
           375.55399822482633,
           370.48111456562947,
           365.4504205143382,
           360.32352835905425,
           354.9072248456681,
           348.97116667437535,
           342.27444834015546,
           334.5989242453486,
           325.7842188820632,
           315.7559402168712
          ],
          [
           799.0495546197169,
           805.6803281600777,
           665.9813698293977,
           535.003078077102,
           493.1105254717628,
           478.00972674055066,
           468.3854531112255,
           460.72401768886255,
           454.237829811579,
           448.4187166423654,
           442.97248338533853,
           437.7177110220865,
           432.5139631244154,
           427.2496024510106,
           421.8455998140405,
           416.27188901255647,
           410.55984083206,
           404.7933396548657,
           399.080440830158,
           393.5183145119705,
           388.1622766515116,
           383.00432717053565,
           377.9622627803002,
           372.8790907394757,
           367.53234252358277,
           361.6536077138891,
           354.95889055805003,
           347.18822368058926,
           338.14881990770056,
           327.7507189708955
          ],
          [
           807.8828012257391,
           822.7542970358547,
           712.5205984354365,
           595.4271822411288,
           537.1721188311842,
           510.91399391372136,
           494.56925800640903,
           482.961503973419,
           474.09413214509954,
           466.6933137026723,
           460.1384419026869,
           454.07540911454424,
           448.250876464837,
           442.47756144887035,
           436.62098883010185,
           430.61705122344983,
           424.4892200493811,
           418.3347783375134,
           412.2854298086903,
           406.4617202637501,
           400.9349937524747,
           395.7021998357372,
           390.6734997497641,
           385.67138035711986,
           380.4404398655696,
           374.6685518261995,
           368.0211199599277,
           360.18800085072337,
           350.93697532321113,
           340.15936161402703
          ],
          [
           810.9366961960792,
           828.759809940351,
           763.4274474710114,
           645.9268474017706,
           579.7177117540333,
           544.5852049559034,
           521.3971501191635,
           505.74496276183476,
           494.4444034259988,
           485.3835239679476,
           477.6655011802783,
           470.76199446647286,
           464.2965730010157,
           458.0012756644375,
           451.67664244249465,
           445.217295785475,
           438.63960656756603,
           432.0607036343394,
           425.6435914960862,
           419.5383561074018,
           413.8362026907954,
           408.5406409585874,
           403.5539429133113,
           398.6761288300289,
           393.6150261103736,
           388.00861153508384,
           381.46298336728114,
           373.6075974346574,
           364.1618671735881,
           352.9943687530067
          ],
          [
           809.6701203284651,
           830.5283221329056,
           805.5347360653741,
           688.8782897831923,
           619.9276788750952,
           577.782819546454,
           547.9853877285644,
           528.6635762545766,
           515.0728649405228,
           504.34049557641595,
           495.45246097156235,
           487.70593392770115,
           480.59740954461984,
           473.7815908604977,
           466.98261353236853,
           460.0448641811542,
           452.9804229401242,
           445.9358828676731,
           439.11555090999207,
           432.7064380008303,
           426.8238792267752,
           421.47960696404425,
           416.56772203216406,
           411.8638525159055,
           407.03519251505304,
           401.6632320702321,
           395.28478145773795,
           387.4563357744046,
           377.8373956046728,
           366.2685447701288
          ],
          [
           805.047106720639,
           828.8410437711316,
           813.4041938170039,
           728.3243784464963,
           657.9150497706521,
           609.7079601607348,
           573.4990681724365,
           551.4442677875766,
           535.800131078542,
           523.4135079978086,
           513.3987088759741,
           504.83384822422596,
           497.0954250664044,
           489.77687242160243,
           482.5076481224182,
           475.06976049473985,
           467.47709083690427,
           459.9196005159746,
           452.655578743204,
           445.91748827330383,
           439.8493006983238,
           434.472504876353,
           429.6726434571359,
           425.19911495891085,
           420.67479604190737,
           415.6179298958592,
           409.48478433717344,
           401.74343377987657,
           391.9782987440432,
           379.9949238291716
          ],
          [
           797.694907341481,
           823.6200447725605,
           820.4212035360981,
           762.369033849322,
           693.1007642089536,
           639.8938230065069,
           597.3499886275309,
           574.0615427133109,
           556.4945006142451,
           542.4515443992134,
           531.4156451951274,
           522.0740902459011,
           513.7285264943854,
           505.94431846454745,
           498.2203398155528,
           490.25991091206726,
           482.09042318423207,
           473.9647620058238,
           466.21069415492116,
           459.11555569135766,
           452.85638678972145,
           447.46557796261044,
           442.8195106558919,
           438.6396871429547,
           434.50144408120843,
           429.85325207904947,
           424.05849142828447,
           416.47780750172075,
           406.6002570916776,
           394.1865880593456
          ],
          [
           788.0598882631616,
           815.4562746874324,
           820.6002824360785,
           789.0388824793087,
           724.186038037096,
           667.9506504123194,
           622.506082078113,
           596.6341040425998,
           577.0634926217027,
           561.3032538941316,
           549.4465998268952,
           539.358866553732,
           530.429629930223,
           522.2421088782468,
           514.0905154245398,
           505.5810277845582,
           496.7756159445005,
           488.01672597854304,
           479.7196281579221,
           472.2364050829184,
           465.7810850806462,
           460.39736449852563,
           455.9514946377194,
           452.13567724534965,
           448.4753107577174,
           444.34342286670443,
           438.99756985554177,
           431.66775639181094,
           421.7200389705497,
           408.8563758624452
          ],
          [
           776.5094198398209,
           804.7232230086892,
           815.0672876335751,
           804.0313705319863,
           747.5381840216728,
           693.4824632354649,
           645.0251525629521,
           619.2330552873847,
           597.4704202872449,
           579.8517740335815,
           567.494440301378,
           556.6221257121033,
           547.1253279553518,
           538.6332720061977,
           530.0904861454878,
           520.9957201145887,
           511.48055511373775,
           502.0117397427191,
           493.1115731955149,
           485.2066359885178,
           478.55078215823016,
           473.1982176278314,
           469.0035406661665,
           465.62860163119467,
           462.5477061273386,
           459.0544950928409,
           454.2882063469294,
           447.32034834423496,
           437.3556168068427,
           424.0163098792815
          ],
          [
           763.3751232200789,
           791.8289375942512,
           805.2643703992553,
           798.5716220165658,
           761.2477263451672,
           716.4963260646995,
           670.675406496344,
           641.7882689050701,
           617.8139547029991,
           598.4730649781702,
           585.6213449939338,
           573.7939186067861,
           563.7396839355436,
           555.0921960363123,
           546.1954026691342,
           536.4613118348875,
           526.1433556705019,
           515.8750907271549,
           506.3048467932746,
           497.94289016586333,
           491.0839197227784,
           485.79007069587567,
           481.901999379691,
           479.0505855391227,
           476.6595460173473,
           473.9420103763798,
           469.90870100327663,
           463.44043495785087,
           453.52639550282146,
           439.67668828549427
          ],
          [
           748.9702039429169,
           777.2521498798328,
           792.4561120925704,
           790.0518921223403,
           767.5041348506742,
           736.6742448508654,
           693.4074673313135,
           663.6760494964216,
           637.9725468673736,
           617.8208278854978,
           603.8678299253696,
           590.818737356752,
           580.2309526503755,
           571.6101677715845,
           562.3806046375167,
           551.9248264923831,
           540.6888596993716,
           529.5187976269128,
           519.2052629914176,
           510.35099924512105,
           503.2896905744036,
           498.086320595233,
           494.5643551478572,
           492.32357520399296,
           490.73957492749605,
           488.9478159747588,
           485.82556650774916,
           480.0286261331589,
           470.2533014787707,
           455.8442090956992
          ],
          [
           733.5862779046345,
           761.4646230391029,
           777.8947577294148,
           779.7587449031496,
           767.5866060082266,
           747.6798417931192,
           715.778261796183,
           683.7091626025757,
           657.2848223689108,
           636.6854882908167,
           622.1902677589059,
           607.8320490487848,
           596.7471910175825,
           588.1859702660958,
           578.6133594599515,
           567.3123451762408,
           555.0250766034665,
           542.8391640704643,
           531.7044570679618,
           522.3254051129697,
           515.0681550056972,
           509.9921535310276,
           506.8993847463719,
           505.35894623201045,
           504.70278095390677,
           503.99629092991097,
           501.98766500487073,
           497.07762249336645,
           487.55901081368023,
           472.51857423545573
          ],
          [
           717.4814477791796,
           744.8576243670583,
           762.2874685119413,
           767.8294977854903,
           762.6260227680036,
           750.4132711682532,
           734.6153128790678,
           700.0755970795902,
           675.3960631537292,
           655.8805297737033,
           640.4401021837175,
           624.9527215217815,
           613.4246620595088,
           604.7955566063658,
           594.8248464560347,
           582.5069844274433,
           569.0417261136419,
           555.7138302050331,
           543.6779847653473,
           533.7488480247863,
           526.3107559585553,
           521.4052485883777,
           518.807678237713,
           518.0575113164095,
           518.449162640839,
           518.9900779651402,
           518.3171977219682,
           514.5647335642424,
           505.468116317512,
           489.6854980319534
          ],
          [
           700.8715489700311,
           727.7168155114205,
           745.9766152033606,
           754.460142176332,
           754.1910119203344,
           747.8362749712286,
           735.784078524338,
           711.2665941550512,
           691.6850206696387,
           675.0794475282316,
           658.2193465354468,
           641.5349692095593,
           629.8815686853853,
           621.3926735565615,
           610.6890934717344,
           597.3473231891976,
           582.613207871179,
           567.9973963113677,
           554.9833202839029,
           544.4926502354081,
           536.9014645768951,
           532.2170097899648,
           530.1826606732013,
           530.3101654442897,
           531.8634181494989,
           533.8063020995854,
           534.6967758434548,
           532.4359482857742,
           524.0072928161248,
           507.3015554019749
          ],
          [
           683.9292687110883,
           710.2395531942049,
           729.1547509616194,
           739.915123501034,
           743.295387609537,
           741.0054938732599,
           732.6467009945839,
           717.363869901604,
           705.1434553936489,
           692.805769650765,
           674.7800367587224,
           657.7254163468134,
           646.4283202776589,
           637.9348033332358,
           626.0932968795142,
           611.7490833232696,
           595.5985772852991,
           579.5136730657664,
           565.4581529221136,
           554.4180078916997,
           546.71873306115,
           542.3143792280673,
           540.9121335365702,
           541.9992689216735,
           544.81612425967,
           548.2951993339601,
           550.9536281694533,
           550.5699375090339,
           543.2053954968264,
           525.2587987586783
          ],
          [
           666.7893957912066,
           692.5635301985882,
           711.9594738117071,
           724.4578867004001,
           730.6045036124465,
           731.476770573745,
           727.1502928562835,
           719.0615611655196,
           714.4021664128605,
           708.2223410254524,
           688.9524318568541,
           674.2764991430582,
           663.7305373793001,
           654.2662087205632,
           641.1119609338792,
           625.7605082298726,
           607.8153721131773,
           590.0435342285716,
           574.9202288650836,
           563.3788801242281,
           555.6384219316351,
           551.5822468864593,
           550.8802969190565,
           553.0007334325196,
           557.1667780662478,
           562.2840602550074,
           566.8487945182487,
           568.6958835635882,
           563.0932169247753,
           543.2989712373646
          ],
          [
           649.5564511501226,
           674.7893615428171,
           694.5039002890337,
           708.3186548718867,
           716.6123508453271,
           720.1506280481026,
           719.5146930477277,
           716.791288198395,
           717.0489101880618,
           714.5365209418792,
           699.355093348375,
           689.4662649695217,
           680.3798591753877,
           669.8693141022933,
           656.1833480009484,
           639.5284146066474,
           618.9658825130059,
           599.3126972144798,
           583.1711548642588,
           571.2271040649399,
           563.5377781243398,
           559.9064043215349,
           559.9701382865715,
           563.1865642897326,
           568.7684033119963,
           575.5887479363818,
           582.0925355398678,
           586.2442673932514,
           583.6998819619091,
           560.8378577910507
          ],
          [
           632.3120100711131,
           656.9944876547734,
           676.8846597090331,
           691.6868351925915,
           701.6743356922524,
           707.4752288733794,
           709.9311608237952,
           711.0072015166726,
           713.4614532752581,
           712.5890723269853,
           705.1487239835245,
           702.0530814607603,
           694.9152778363784,
           683.5892214871071,
           672.4141838641175,
           652.7845299781027,
           628.5339533491194,
           606.9929644641713,
           590.0071776437425,
           577.8200696252616,
           570.3003469651389,
           567.176897975539,
           568.0660091045764,
           572.4274077855005,
           579.472371104936,
           588.0306556266594,
           596.4101748823166,
           602.3611619884107,
           602.727749062775,
           576.929783690589
          ],
          [
           615.1204372129442,
           639.2407792104065,
           659.1838939919604,
           674.7130402137177,
           686.0393239981175,
           693.7170049577962,
           698.6355256977472,
           702.3605722109764,
           706.2041019089136,
           707.5242705586006,
           706.13078540218,
           709.9869513060335,
           704.8122504521818,
           693.5133044676825,
           687.420201023541,
           664.0046915271511,
           635.7581523095433,
           612.7356499814543,
           595.2386083291922,
           583.0306168281243,
           575.8215129647274,
           573.291641018013,
           575.0563003313723,
           580.5947277095361,
           589.1314419893262,
           599.4500548372059,
           609.6322960769929,
           616.6903648591376,
           614.2784709392586,
           591.1736656098187
          ],
          [
           598.0333637524182,
           621.5790099823397,
           641.4708221084503,
           657.515782401986,
           669.8865579840591,
           679.0760211180362,
           685.8995409788452,
           691.518368427272,
           696.5991861787961,
           699.9827989444709,
           702.4417844848523,
           708.210720893953,
           705.5604934449487,
           697.5522842058774,
           698.1628668950882,
           670.3020548008229,
           639.8260693355523,
           616.2433958958173,
           598.7151965291629,
           586.7575567322522,
           580.0138826562695,
           578.1598584559542,
           580.8359333243508,
           587.5621807648058,
           597.599107595988,
           609.7041022278706,
           621.7123762626499,
           629.80351525279,
           626.6054159653493,
           604.2549757120516
          ],
          [
           581.0926566700348,
           604.051346732027,
           623.8033744407645,
           640.1890951859349,
           653.3532205028887,
           663.72460446648,
           671.9959994501809,
           679.014211497777,
           685.2032191874921,
           690.1980427936915,
           694.7446304051203,
           700.0084547859913,
           699.396686145868,
           694.8504135588344,
           692.6942262110957,
           669.1059895433596,
           640.2832310972856,
           617.3550303257337,
           600.350084718033,
           588.9347423693291,
           582.811957562717,
           581.705349999379,
           585.3089605793882,
           593.2067769649025,
           604.7257838503267,
           618.6471491940703,
           632.6357991753691,
           642.2466101970189,
           639.7716151520133,
           616.7866506007134
          ],
          [
           564.3326510691054,
           586.6931568693417,
           606.2301892282096,
           622.8093481934727,
           636.5509915560185,
           647.8174863067272,
           657.172743431875,
           665.2405644403532,
           672.3493998398307,
           678.4722643816652,
           684.0317750072718,
           688.8598971264597,
           689.4613257133672,
           686.6016842283128,
           681.2011472160698,
           662.1988178209743,
           637.3090237059771,
           616.0927430686882,
           600.1327599599099,
           589.5362243127039,
           584.1752320437624,
           583.8691917776995,
           588.3912267090777,
           597.4104154796507,
           610.3541572593738,
           626.1026839605217,
           642.3085371969387,
           654.0892013809896,
           653.1267211292891,
           628.8284679556921
          ],
          [
           547.7817811909736,
           569.53436734177,
           588.7925002022068,
           605.4403075447668,
           619.5748036714145,
           631.4933643670711,
           641.6433753834649,
           650.4913624786174,
           658.3078117366259,
           665.1630978336733,
           671.1846891282084,
           675.7987600972838,
           677.03046451039,
           674.7866969064393,
           668.2066911734616,
           652.3673674817601,
           631.5288523557209,
           612.6406196800018,
           598.1258635080953,
           588.576308838643,
           584.0893918645733,
           584.6118362023274,
           590.0133624351787,
           600.0629811647007,
           614.317824669524,
           631.8408357341368,
           650.4896793440856,
           665.1928349089349,
           665.2187758475317,
           640.2417181255311
          ],
          [
           531.4636649141768,
           552.6003881245445,
           571.5255660944016,
           588.1363828786515,
           602.5071133874836,
           614.8749871903808,
           625.5884265223168,
           634.9986421628298,
           643.3221659614043,
           650.62300118135,
           656.839464908598,
           661.343373961769,
           662.8722006958013,
           660.8949681633292,
           654.2859163745494,
           640.9419048591134,
           623.633583645371,
           607.2754009884056,
           594.4483422677903,
           586.1048706727456,
           582.5656211162398,
           583.914563578698,
           590.1242102158981,
           601.0679046454309,
           616.4472233181982,
           635.5727229288439,
           656.7441556856173,
           675.2966289789831,
           678.229508917361,
           650.8157855748569
          ],
          [
           515.3981609908153,
           535.9130792097317,
           554.4600067033275,
           570.9449096032251,
           585.4203420356627,
           598.0700252134634,
           609.1604651740195,
           618.9542083066377,
           627.6136377308803,
           635.1637202904589,
           641.4428732749898,
           645.8746720400354,
           647.5499115043683,
           645.807342452074,
           639.7215849995454,
           628.5033018457176,
           614.1792674069873,
           600.2960436994772,
           589.2528936047968,
           582.1996631274017,
           579.638418520047,
           581.7802772101425,
           588.6945220343548,
           600.3502964968799,
           616.585141885641,
           636.9718490786698,
           660.4114714141742,
           683.51735318064,
           692.1941312776624,
           659.6919461220314
          ],
          [
           499.6019424958288,
           519.4912478943692,
           537.6225223314943,
           553.9073430464102,
           568.378110588101,
           581.1722153157464,
           592.4890134037781,
           602.5205777859777,
           611.3783987373107,
           619.0466297519325,
           625.3207660615275,
           629.6987373281005,
           631.4765867524144,
           630.0292844080211,
           624.7115146288579,
           615.3598381212785,
           603.5664918320065,
           591.9796861785832,
           582.7053865135679,
           576.9577355698677,
           575.362497617503,
           578.2336617618834,
           585.7205532115929,
           597.8667901449742,
           614.6110793631824,
           635.7309863929236,
           660.6750363422852,
           687.8471656383199,
           704.8963160499168,
           664.7735909801643
          ],
          [
           484.08904145955125,
           503.351129271549,
           521.0364964659564,
           537.0601119597712,
           551.4362093703842,
           564.2628272009273,
           575.6845371089026,
           585.8366590067678,
           594.7864300498167,
           602.4860149102092,
           608.720510111355,
           613.0613969766239,
           614.9489891532002,
           613.8635104296102,
           609.4035613531253,
           601.7074735752748,
           592.0789408454973,
           582.564493788681,
           574.9703311789048,
           570.487675504658,
           569.8093196358449,
           573.3206397834006,
           581.2268194883163,
           593.6149336501117,
           610.4689115424602,
           631.6478911399371,
           656.8273647432457,
           685.3503038336529,
           715.041901503828,
           662.8213418019648
          ],
          [
           468.87124307290605,
           487.50671851266355,
           504.72239029322066,
           520.4351723958091,
           534.6433530088071,
           547.4120498884403,
           558.841372079168,
           569.0210624778732,
           577.9823440906225,
           585.6560598584997,
           591.8345185329317,
           596.1569225161103,
           598.1790311941717,
           597.5022231048899,
           593.9106155016477,
           587.6858326712842,
           579.9221404585551,
           572.2485709162954,
           566.2027122511093,
           562.9035404944276,
           563.0636531599887,
           567.1070714627526,
           575.2672724515495,
           587.6394798787398,
           604.1886011351778,
           624.7066343455127,
           648.6581230975221,
           674.4295372816309,
           689.7909205193624,
           651.9565521797957
          ]
         ],
         "type": "surface"
        }
       ],
       "layout": {
        "template": {
         "data": {
          "barpolar": [
           {
            "marker": {
             "line": {
              "color": "rgb(237,237,237)",
              "width": 0.5
             },
             "pattern": {
              "fillmode": "overlay",
              "size": 10,
              "solidity": 0.2
             }
            },
            "type": "barpolar"
           }
          ],
          "bar": [
           {
            "error_x": {
             "color": "rgb(51,51,51)"
            },
            "error_y": {
             "color": "rgb(51,51,51)"
            },
            "marker": {
             "line": {
              "color": "rgb(237,237,237)",
              "width": 0.5
             },
             "pattern": {
              "fillmode": "overlay",
              "size": 10,
              "solidity": 0.2
             }
            },
            "type": "bar"
           }
          ],
          "carpet": [
           {
            "aaxis": {
             "endlinecolor": "rgb(51,51,51)",
             "gridcolor": "white",
             "linecolor": "white",
             "minorgridcolor": "white",
             "startlinecolor": "rgb(51,51,51)"
            },
            "baxis": {
             "endlinecolor": "rgb(51,51,51)",
             "gridcolor": "white",
             "linecolor": "white",
             "minorgridcolor": "white",
             "startlinecolor": "rgb(51,51,51)"
            },
            "type": "carpet"
           }
          ],
          "choropleth": [
           {
            "colorbar": {
             "outlinewidth": 0,
             "tickcolor": "rgb(237,237,237)",
             "ticklen": 6,
             "ticks": "inside"
            },
            "type": "choropleth"
           }
          ],
          "contourcarpet": [
           {
            "colorbar": {
             "outlinewidth": 0,
             "tickcolor": "rgb(237,237,237)",
             "ticklen": 6,
             "ticks": "inside"
            },
            "type": "contourcarpet"
           }
          ],
          "contour": [
           {
            "colorbar": {
             "outlinewidth": 0,
             "tickcolor": "rgb(237,237,237)",
             "ticklen": 6,
             "ticks": "inside"
            },
            "colorscale": [
             [
              0,
              "rgb(20,44,66)"
             ],
             [
              1,
              "rgb(90,179,244)"
             ]
            ],
            "type": "contour"
           }
          ],
          "heatmapgl": [
           {
            "colorbar": {
             "outlinewidth": 0,
             "tickcolor": "rgb(237,237,237)",
             "ticklen": 6,
             "ticks": "inside"
            },
            "colorscale": [
             [
              0,
              "rgb(20,44,66)"
             ],
             [
              1,
              "rgb(90,179,244)"
             ]
            ],
            "type": "heatmapgl"
           }
          ],
          "heatmap": [
           {
            "colorbar": {
             "outlinewidth": 0,
             "tickcolor": "rgb(237,237,237)",
             "ticklen": 6,
             "ticks": "inside"
            },
            "colorscale": [
             [
              0,
              "rgb(20,44,66)"
             ],
             [
              1,
              "rgb(90,179,244)"
             ]
            ],
            "type": "heatmap"
           }
          ],
          "histogram2dcontour": [
           {
            "colorbar": {
             "outlinewidth": 0,
             "tickcolor": "rgb(237,237,237)",
             "ticklen": 6,
             "ticks": "inside"
            },
            "colorscale": [
             [
              0,
              "rgb(20,44,66)"
             ],
             [
              1,
              "rgb(90,179,244)"
             ]
            ],
            "type": "histogram2dcontour"
           }
          ],
          "histogram2d": [
           {
            "colorbar": {
             "outlinewidth": 0,
             "tickcolor": "rgb(237,237,237)",
             "ticklen": 6,
             "ticks": "inside"
            },
            "colorscale": [
             [
              0,
              "rgb(20,44,66)"
             ],
             [
              1,
              "rgb(90,179,244)"
             ]
            ],
            "type": "histogram2d"
           }
          ],
          "histogram": [
           {
            "marker": {
             "pattern": {
              "fillmode": "overlay",
              "size": 10,
              "solidity": 0.2
             }
            },
            "type": "histogram"
           }
          ],
          "mesh3d": [
           {
            "colorbar": {
             "outlinewidth": 0,
             "tickcolor": "rgb(237,237,237)",
             "ticklen": 6,
             "ticks": "inside"
            },
            "type": "mesh3d"
           }
          ],
          "parcoords": [
           {
            "line": {
             "colorbar": {
              "outlinewidth": 0,
              "tickcolor": "rgb(237,237,237)",
              "ticklen": 6,
              "ticks": "inside"
             }
            },
            "type": "parcoords"
           }
          ],
          "pie": [
           {
            "automargin": true,
            "type": "pie"
           }
          ],
          "scatter3d": [
           {
            "line": {
             "colorbar": {
              "outlinewidth": 0,
              "tickcolor": "rgb(237,237,237)",
              "ticklen": 6,
              "ticks": "inside"
             }
            },
            "marker": {
             "colorbar": {
              "outlinewidth": 0,
              "tickcolor": "rgb(237,237,237)",
              "ticklen": 6,
              "ticks": "inside"
             }
            },
            "type": "scatter3d"
           }
          ],
          "scattercarpet": [
           {
            "marker": {
             "colorbar": {
              "outlinewidth": 0,
              "tickcolor": "rgb(237,237,237)",
              "ticklen": 6,
              "ticks": "inside"
             }
            },
            "type": "scattercarpet"
           }
          ],
          "scattergeo": [
           {
            "marker": {
             "colorbar": {
              "outlinewidth": 0,
              "tickcolor": "rgb(237,237,237)",
              "ticklen": 6,
              "ticks": "inside"
             }
            },
            "type": "scattergeo"
           }
          ],
          "scattergl": [
           {
            "marker": {
             "colorbar": {
              "outlinewidth": 0,
              "tickcolor": "rgb(237,237,237)",
              "ticklen": 6,
              "ticks": "inside"
             }
            },
            "type": "scattergl"
           }
          ],
          "scattermapbox": [
           {
            "marker": {
             "colorbar": {
              "outlinewidth": 0,
              "tickcolor": "rgb(237,237,237)",
              "ticklen": 6,
              "ticks": "inside"
             }
            },
            "type": "scattermapbox"
           }
          ],
          "scatterpolargl": [
           {
            "marker": {
             "colorbar": {
              "outlinewidth": 0,
              "tickcolor": "rgb(237,237,237)",
              "ticklen": 6,
              "ticks": "inside"
             }
            },
            "type": "scatterpolargl"
           }
          ],
          "scatterpolar": [
           {
            "marker": {
             "colorbar": {
              "outlinewidth": 0,
              "tickcolor": "rgb(237,237,237)",
              "ticklen": 6,
              "ticks": "inside"
             }
            },
            "type": "scatterpolar"
           }
          ],
          "scatter": [
           {
            "fillpattern": {
             "fillmode": "overlay",
             "size": 10,
             "solidity": 0.2
            },
            "type": "scatter"
           }
          ],
          "scatterternary": [
           {
            "marker": {
             "colorbar": {
              "outlinewidth": 0,
              "tickcolor": "rgb(237,237,237)",
              "ticklen": 6,
              "ticks": "inside"
             }
            },
            "type": "scatterternary"
           }
          ],
          "surface": [
           {
            "colorbar": {
             "outlinewidth": 0,
             "tickcolor": "rgb(237,237,237)",
             "ticklen": 6,
             "ticks": "inside"
            },
            "colorscale": [
             [
              0,
              "rgb(20,44,66)"
             ],
             [
              1,
              "rgb(90,179,244)"
             ]
            ],
            "type": "surface"
           }
          ],
          "table": [
           {
            "cells": {
             "fill": {
              "color": "rgb(237,237,237)"
             },
             "line": {
              "color": "white"
             }
            },
            "header": {
             "fill": {
              "color": "rgb(217,217,217)"
             },
             "line": {
              "color": "white"
             }
            },
            "type": "table"
           }
          ]
         },
         "layout": {
          "annotationdefaults": {
           "arrowhead": 0,
           "arrowwidth": 1
          },
          "autotypenumbers": "strict",
          "coloraxis": {
           "colorbar": {
            "outlinewidth": 0,
            "tickcolor": "rgb(237,237,237)",
            "ticklen": 6,
            "ticks": "inside"
           }
          },
          "colorscale": {
           "sequential": [
            [
             0,
             "rgb(20,44,66)"
            ],
            [
             1,
             "rgb(90,179,244)"
            ]
           ],
           "sequentialminus": [
            [
             0,
             "rgb(20,44,66)"
            ],
            [
             1,
             "rgb(90,179,244)"
            ]
           ]
          },
          "colorway": [
           "#F8766D",
           "#A3A500",
           "#00BF7D",
           "#00B0F6",
           "#E76BF3"
          ],
          "font": {
           "color": "rgb(51,51,51)"
          },
          "geo": {
           "bgcolor": "white",
           "lakecolor": "white",
           "landcolor": "rgb(237,237,237)",
           "showlakes": true,
           "showland": true,
           "subunitcolor": "white"
          },
          "hoverlabel": {
           "align": "left"
          },
          "hovermode": "closest",
          "paper_bgcolor": "white",
          "plot_bgcolor": "rgb(237,237,237)",
          "polar": {
           "angularaxis": {
            "gridcolor": "white",
            "linecolor": "white",
            "showgrid": true,
            "tickcolor": "rgb(51,51,51)",
            "ticks": "outside"
           },
           "bgcolor": "rgb(237,237,237)",
           "radialaxis": {
            "gridcolor": "white",
            "linecolor": "white",
            "showgrid": true,
            "tickcolor": "rgb(51,51,51)",
            "ticks": "outside"
           }
          },
          "scene": {
           "xaxis": {
            "backgroundcolor": "rgb(237,237,237)",
            "gridcolor": "white",
            "gridwidth": 2,
            "linecolor": "white",
            "showbackground": true,
            "showgrid": true,
            "tickcolor": "rgb(51,51,51)",
            "ticks": "outside",
            "zerolinecolor": "white"
           },
           "yaxis": {
            "backgroundcolor": "rgb(237,237,237)",
            "gridcolor": "white",
            "gridwidth": 2,
            "linecolor": "white",
            "showbackground": true,
            "showgrid": true,
            "tickcolor": "rgb(51,51,51)",
            "ticks": "outside",
            "zerolinecolor": "white"
           },
           "zaxis": {
            "backgroundcolor": "rgb(237,237,237)",
            "gridcolor": "white",
            "gridwidth": 2,
            "linecolor": "white",
            "showbackground": true,
            "showgrid": true,
            "tickcolor": "rgb(51,51,51)",
            "ticks": "outside",
            "zerolinecolor": "white"
           }
          },
          "shapedefaults": {
           "fillcolor": "black",
           "line": {
            "width": 0
           },
           "opacity": 0.3
          },
          "ternary": {
           "aaxis": {
            "gridcolor": "white",
            "linecolor": "white",
            "showgrid": true,
            "tickcolor": "rgb(51,51,51)",
            "ticks": "outside"
           },
           "baxis": {
            "gridcolor": "white",
            "linecolor": "white",
            "showgrid": true,
            "tickcolor": "rgb(51,51,51)",
            "ticks": "outside"
           },
           "bgcolor": "rgb(237,237,237)",
           "caxis": {
            "gridcolor": "white",
            "linecolor": "white",
            "showgrid": true,
            "tickcolor": "rgb(51,51,51)",
            "ticks": "outside"
           }
          },
          "xaxis": {
           "automargin": true,
           "gridcolor": "white",
           "linecolor": "white",
           "showgrid": true,
           "tickcolor": "rgb(51,51,51)",
           "ticks": "outside",
           "title": {
            "standoff": 15
           },
           "zerolinecolor": "white"
          },
          "yaxis": {
           "automargin": true,
           "gridcolor": "white",
           "linecolor": "white",
           "showgrid": true,
           "tickcolor": "rgb(51,51,51)",
           "ticks": "outside",
           "title": {
            "standoff": 15
           },
           "zerolinecolor": "white"
          }
         }
        },
        "legend": {
         "orientation": "h",
         "yanchor": "top",
         "y": 1.02,
         "xanchor": "left",
         "x": 1
        },
        "margin": {
         "r": 20,
         "l": 10,
         "b": 10,
         "t": 10
        },
        "width": 1000,
        "height": 800,
        "scene": {
         "xaxis": {
          "title": {
           "text": "Pulse width (μs)"
          }
         },
         "yaxis": {
          "title": {
           "text": "Energy density new cone (J/cm^2)"
          }
         },
         "zaxis": {
          "title": {
           "text": "Voltage"
          }
         },
         "camera": {
          "up": {
           "x": 0,
           "y": 0,
           "z": 1
          },
          "center": {
           "x": 0,
           "y": 0,
           "z": 0
          },
          "eye": {
           "x": -2,
           "y": -2.5,
           "z": 1.75
          }
         }
        }
       },
       "config": {
        "plotlyServerURL": "https://plot.ly"
       }
      }
     },
     "metadata": {}
    }
   ],
   "metadata": {}
  }
 ],
 "metadata": {
  "orig_nbformat": 4,
  "language_info": {
   "name": "python",
   "version": "3.9.16",
   "mimetype": "text/x-python",
   "codemirror_mode": {
    "name": "ipython",
    "version": 3
   },
   "pygments_lexer": "ipython3",
   "nbconvert_exporter": "python",
   "file_extension": ".py"
  },
  "kernelspec": {
   "name": "python3",
   "display_name": "Python 3.9.16 64-bit ('FEGP': conda)"
  },
  "interpreter": {
   "hash": "b00f9bca1c18369f730e284e4d0522d8a3e0f0b629e30dad99ec4bb4df6f08b7"
  }
 },
 "nbformat": 4,
 "nbformat_minor": 2
}