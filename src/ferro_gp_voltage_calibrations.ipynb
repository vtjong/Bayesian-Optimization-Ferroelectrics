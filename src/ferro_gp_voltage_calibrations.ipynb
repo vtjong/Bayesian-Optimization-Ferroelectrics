{
 "cells": [
  {
   "cell_type": "markdown",
   "source": [
    "# Read Me\n",
    "\n",
    "- Energy density, pulse width --> voltage function"
   ],
   "metadata": {}
  },
  {
   "cell_type": "code",
   "execution_count": 1,
   "source": [
    "import sys\n",
    "import os\n",
    "import argparse\n",
    "\n",
    "import GPy\n",
    "from GPy.models import GPRegression\n",
    "from emukit.model_wrappers import GPyModelWrapper\n",
    "from torch.optim import Adam as Adam\n",
    "from emukit.core import ParameterSpace, ContinuousParameter\n",
    "from tkinter import Y\n",
    "import numpy as np\n",
    "import pandas as pd\n",
    "from sklearn.preprocessing import MinMaxScaler, StandardScaler\n",
    "import torch\n",
    "import matplotlib.pyplot as plt\n",
    "sys.path.append('..')\n",
    "sys.path.insert(0, '../src')\n",
    "\n",
    "# custom modules\n",
    "from grid import Grid\n",
    "from train_eval_plotter import prettyplot, plot_gp_res"
   ],
   "outputs": [],
   "metadata": {}
  },
  {
   "cell_type": "code",
   "execution_count": 2,
   "source": [
    "parser = argparse.ArgumentParser(description='Ferroelectric GP')\n",
    "parser.add_argument('--grid_dim', type=int, default=30, metavar='TR',\n",
    "                    help='number of test points per parameter (default: 30)')\n",
    "parser.add_argument('--train_flag', type=bool, default=True, metavar='TR',\n",
    "                    help='train or load pre-saved model (default: True)')\n",
    "parser.add_argument('--seed', type=int, default=1, metavar='S',\n",
    "                    help='random seed (default: 1)')\n",
    "                    \n",
    "args = parser.parse_args(\"\")\n",
    "\n",
    "# Set random seed to reproduce results\n",
    "torch.manual_seed(args.seed)"
   ],
   "outputs": [
    {
     "output_type": "execute_result",
     "data": {
      "text/plain": [
       "<torch._C.Generator at 0x1386fe4d0>"
      ]
     },
     "metadata": {},
     "execution_count": 2
    }
   ],
   "metadata": {}
  },
  {
   "cell_type": "markdown",
   "source": [
    "## Data Loading"
   ],
   "metadata": {}
  },
  {
   "cell_type": "code",
   "execution_count": 3,
   "source": [
    "dir = \"/Users/valenetjong/Bayesian-Optimization-Ferroelectrics/\"\n",
    "acq_df = pd.read_csv(dir + \"predictions/preds.csv\", index_col=False)\n",
    "# acq_df_emu = pd.read_csv(dir + \"predictions/emu_preds\", index_col=False) \n",
    "# acq_df = pd.concat([acq_df_torch, acq_df_emu])\n",
    "acq_df.iloc[:, 1:] = acq_df.iloc[:, 1:].applymap(lambda vals: np.round(vals,2))\n",
    "print(acq_df)"
   ],
   "outputs": [
    {
     "output_type": "stream",
     "name": "stdout",
     "text": [
      "    Acq  Time (ms)  Energy density new cone (J/cm^2)  2 Qsw/(U+|D|) 1e6\n",
      "0   qEI       4.79                             14.49               3.16\n",
      "1   qEI       4.70                             15.29               3.04\n",
      "2   qEI       1.47                              9.16               3.87\n",
      "3   qEI       1.49                              8.88               3.98\n",
      "4  qUCB       4.22                              1.28               2.81\n",
      "5  qUCB       5.00                              2.28               2.81\n",
      "6  qUCB       4.58                             14.89               2.93\n",
      "7  qUCB       1.37                              9.81               3.09\n"
     ]
    }
   ],
   "metadata": {}
  },
  {
   "cell_type": "code",
   "execution_count": 4,
   "source": [
    "in_file = \"data/Bolometer_readings_under_the_cone_new_old.xlsx\"\n",
    "df = pd.read_excel(dir + in_file, sheet_name=\"Calibrations_new\")\n",
    "df2 = pd.read_excel(dir + in_file, sheet_name= \"Beamtime\")\n",
    "df2 = df2[df2['upulses'] == 1]\n",
    "\n",
    "volts_bol_dat = np.concatenate((df['Voltage (V)'].values, df2['Voltage (V)'].values))\n",
    "time_bol_dat = np.concatenate((df['Time (us)'].values, df2['Time (us)'].values))\n",
    "energy_den_bol_dat = np.concatenate((df['Energy density new cone (J/cm^2)'].values, \n",
    "                            df2['Energy density new cone (J/cm^2)'].values))  "
   ],
   "outputs": [],
   "metadata": {}
  },
  {
   "cell_type": "code",
   "execution_count": 5,
   "source": [
    "# define scaler\n",
    "post_scaler = MinMaxScaler()\n",
    "def norm_x(x_tensor, scaler): return scaler.fit_transform(x_tensor)\n",
    "def un_norm_x(x_tensor, scaler): return scaler.inverse_transform(x_tensor) \n",
    "\n",
    "# make, scale training set\n",
    "x_exp_raw = np.stack((time_bol_dat, energy_den_bol_dat), axis=1)\n",
    "x_exp = norm_x(x_exp_raw, post_scaler)\n",
    "\n",
    "y_exp = np.reshape(volts_bol_dat,(-1,1))\n",
    "X, Y = [x_exp, y_exp]"
   ],
   "outputs": [],
   "metadata": {}
  },
  {
   "cell_type": "markdown",
   "source": [
    "## GP Voltage Model"
   ],
   "metadata": {}
  },
  {
   "cell_type": "code",
   "execution_count": 6,
   "source": [
    "# make GP grid; min delta time: 500us, min delta energy density: 0.01J/cm^2\n",
    "def grid_maker_1D(arr, step_size):\n",
    "    return np.arange(arr.min(), arr.max()+step_size*0.1,step_size)\n",
    "    \n",
    "var_array = [grid_maker_1D(time_bol_dat, 500), grid_maker_1D(energy_den_bol_dat, 0.01)]\n",
    "\n",
    "# continuous parameter creates a grid space for grid search\n",
    "time_len_num, e_den_num = len(var_array[0]), len(var_array[1])\n",
    "parameter_space = ParameterSpace([ContinuousParameter(\"Time (ms)\", 0-1/(time_len_num-1)/2, 1+1/(time_len_num-1)/2),\n",
    "                                  ContinuousParameter(\"Energy density new cone (J/cm^2)\", 0-1/(e_den_num-1)/2, 1+1/(e_den_num-1)/2),\n",
    "                                 ])"
   ],
   "outputs": [],
   "metadata": {}
  },
  {
   "cell_type": "markdown",
   "source": [
    "### Make GP Model"
   ],
   "metadata": {}
  },
  {
   "cell_type": "code",
   "execution_count": 7,
   "source": [
    "# define GP kernel\n",
    "kernel = GPy.kern.src.stationary.Exponential(input_dim = len(X[0]), ARD =True)\n",
    "kernel.lengthscale.constrain_bounded(1e-2, 1)\n",
    "kernel.variance.constrain_bounded(1e-2, 500.0)"
   ],
   "outputs": [
    {
     "output_type": "stream",
     "name": "stderr",
     "text": [
      "reconstraining parameters Exponential.lengthscale\n",
      "reconstraining parameters Exponential.variance\n"
     ]
    }
   ],
   "metadata": {}
  },
  {
   "cell_type": "markdown",
   "source": [
    "## Train Model"
   ],
   "metadata": {}
  },
  {
   "cell_type": "code",
   "execution_count": 8,
   "source": [
    "# set up dir for file search\n",
    "cur_dir = os.getcwd()\n",
    "par_dir = os.path.dirname(cur_dir)\n",
    "model_dir = os.path.join(par_dir, 'models')\n",
    "\n",
    "if args.train_flag: \n",
    "    model_volt = GPRegression(X , -Y, kernel) # emukit is a minimizer\n",
    "    model_volt.Gaussian_noise.variance = 0.15\n",
    "    model_volt.Gaussian_noise.variance.fix()\n",
    "    model_volt.randomize() # init random hyperparameters\n",
    "\n",
    "    model_volt.optimize_restarts(num_restarts=30, verbose =False, messages=False) # fit to training data, select best hyperparameters out of num_restarts \n",
    "    objective_model = GPyModelWrapper(model_volt)\n",
    "    print(model_volt)\n",
    "    np.save(model_dir + '/volt_model_state.npy', model_volt.param_array)\n",
    "else:\n",
    "    # Load trained model\n",
    "    model_volt = GPy.models.GPRegression(X, Y, initialize=True, kernel=kernel)\n",
    "    model_volt.update_model(False) \n",
    "    model_volt[:] = np.load(model_dir + '/volt_model_state.npy') \n",
    "    model_volt.update_model(True) \n",
    "    print(model_volt)"
   ],
   "outputs": [
    {
     "output_type": "stream",
     "name": "stdout",
     "text": [
      "\n",
      "Name : GP regression\n",
      "Objective : 2159.059093533782\n",
      "Number of Parameters : 4\n",
      "Number of Optimization Parameters : 3\n",
      "Updates : True\n",
      "Parameters:\n",
      "  \u001b[1mGP_regression.         \u001b[0;0m  |              value  |  constraints  |  priors\n",
      "  \u001b[1mExponential.variance   \u001b[0;0m  |  499.9999995129824  |  0.01,500.0   |        \n",
      "  \u001b[1mExponential.lengthscale\u001b[0;0m  |               (2,)  |   0.01,1.0    |        \n",
      "  \u001b[1mGaussian_noise.variance\u001b[0;0m  |               0.15  |   +ve fixed   |        \n"
     ]
    }
   ],
   "metadata": {}
  },
  {
   "cell_type": "code",
   "execution_count": 9,
   "source": [
    "# predict voltage training set\n",
    "gp_func = objective_model.model.predict\n",
    "y_pred, y_err = gp_func(X)\n",
    "y_pred, y_err = -y_pred[:,-1], np.sqrt(y_err[:,-1])"
   ],
   "outputs": [],
   "metadata": {}
  },
  {
   "cell_type": "markdown",
   "source": [
    "### Plot Training Results"
   ],
   "metadata": {}
  },
  {
   "cell_type": "code",
   "execution_count": 10,
   "source": [
    "# plot voltage training results \n",
    "plot_gp_res(y_exp.reshape(-1), y_pred, None, y_err)\n",
    "prettyplot()\n",
    "\n",
    "# plot actuals v. predicted values w/ error bars\n",
    "fs = 14 \n",
    "fig, axes = plt.subplots(1, 2, figsize=(16, 4.5))\n",
    "plt_inputs = np.arange(len(Y))\n",
    "axes[0].scatter(plt_inputs, Y[:,0].T, s = 20, color = \"#72356c\", label = 'experiment')\n",
    "axes[0].plot(plt_inputs, y_pred, color = 'black', label = 'predicted')\n",
    "axes[0].errorbar(plt_inputs, y_pred, y_err, zorder = 0)\n",
    "\n",
    "# set up axes and labels\n",
    "axes[0].set_ylabel('Output (Voltage)', fontsize = fs)\n",
    "axes[0].set_xlabel('Input (Time, Energy Density)', fontsize = fs)\n",
    "axes[0].set_title(\"Predicted v. Actuals\", fontsize = fs)\n",
    "axes[0].legend(fontsize = fs*0.8)\n",
    "axes[1].axis(\"off\")\n",
    "\n",
    "plt.show()"
   ],
   "outputs": [
    {
     "output_type": "stream",
     "name": "stdout",
     "text": [
      "     Metric  Value\n",
      "0      RMSE  0.110\n",
      "1       MAE  0.075\n",
      "2  Spearman  0.992\n",
      "3  R² score  1.000\n"
     ]
    },
    {
     "output_type": "display_data",
     "data": {
      "image/png": "[encoded data removed]",
      "text/plain": [
       "<Figure size 3300x900 with 3 Axes>"
      ]
     },
     "metadata": {}
    },
    {
     "output_type": "display_data",
     "data": {
      "image/png": "[encoded data removed]",
      "text/plain": [
       "<Figure size 3200x900 with 2 Axes>"
      ]
     },
     "metadata": {}
    }
   ],
   "metadata": {}
  },
  {
   "cell_type": "markdown",
   "source": [
    "## Mean Posterior Predictions"
   ],
   "metadata": {}
  },
  {
   "cell_type": "code",
   "execution_count": 11,
   "source": [
    "# get voltages of prediction points and re-scale to raws\n",
    "get_pos_volt = lambda pt: np.round(-1*(gp_func(pt)[0]),0)\n",
    "acq_time = acq_df.iloc[:,1].values * 1000\n",
    "acq_energy =  acq_df.iloc[:,2].values\n",
    "acq_scaled = post_scaler.transform(np.stack((acq_time,acq_energy), axis=1))\n",
    "acq_volt = get_pos_volt(acq_scaled)\n",
    "acq_df_volt = acq_df.copy() \n",
    "acq_df_volt[\"Voltage (V)\"] = acq_volt"
   ],
   "outputs": [],
   "metadata": {}
  },
  {
   "cell_type": "code",
   "execution_count": 12,
   "source": [
    "# write to csv\n",
    "dir = \"/Users/valenetjong/Bayesian-Optimization-Ferroelectrics/predictions/\"\n",
    "file_out = \"final_preds.csv\"\n",
    "acq_df_volt.to_csv(dir + file_out, index=False)"
   ],
   "outputs": [],
   "metadata": {}
  },
  {
   "cell_type": "code",
   "execution_count": 13,
   "source": [
    "# make, scale post_test_grid\n",
    "grid = Grid(torch.Tensor(X))\n",
    "post_test_grid, post_test_arr = grid.test_grid, grid.test_arr\n",
    "volt_on_grid, _ = gp_func(post_test_arr.numpy())\n",
    "volt_on_grid = -1 * volt_on_grid.reshape(args.grid_dim,args.grid_dim).T\n",
    "raw_post_test_arr = un_norm_x(post_test_arr,post_scaler) \n",
    "raw_post_test_grid = un_norm_x(post_test_grid, post_scaler)"
   ],
   "outputs": [],
   "metadata": {}
  },
  {
   "cell_type": "markdown",
   "source": [
    "### Plot Results"
   ],
   "metadata": {}
  },
  {
   "cell_type": "code",
   "execution_count": 14,
   "source": [
    "import plotly.graph_objects as go\n",
    "import matplotlib.pyplot as plt\n",
    "\n",
    "fig = go.Figure(data=[go.Scatter3d(z=volts_bol_dat, x=time_bol_dat, y=energy_den_bol_dat, \n",
    "                                    mode='markers', marker={'color':'#72356c'},\n",
    "                                    name='Data')])\n",
    "fig.add_trace(go.Surface(z=volt_on_grid, x=raw_post_test_grid[:,0], y=raw_post_test_grid[:,1],\n",
    "                            opacity=0.8, colorscale = \"Burg\", colorbar=dict(thickness=15, len=0.5)))\n",
    "# fig.add_trace(go.Scatter3d(z=volt_on_grid, x=raw_post_test_grid[:,0], y=raw_post_test_grid[:,1],\n",
    "#                             opacity=0.8, colorscale = \"Burg\", colorbar=dict(thickness=15, len=0.5)))\n",
    "fig.update_layout(width=1000, height=800, legend=dict(orientation=\"h\", yanchor=\"top\", y=1.02, \n",
    "                xanchor=\"left\",x=1), margin=dict(r=20, l=10, b=10, t=10), \n",
    "                scene=dict(xaxis_title=\"Pulse width (μs)\", \n",
    "                        yaxis_title=\"Energy density new cone (J/cm^2)\",\n",
    "                        zaxis_title='Voltage'))\n",
    "camera = dict(up=dict(x=0, y=0, z=1), center=dict(x=0, y=0, z=0), \n",
    "                eye=dict(x=-2, y=-2.5, z=1.75))\n",
    "fig.update_layout(scene_camera=camera)\n",
    "fig.update_layout(template=\"ggplot2\")\n",
    "fig.show()"
   ],
   "outputs": [
    {
     "output_type": "display_data",
     "data": {
      "application/vnd.plotly.v1+json": {
       "data": [
        {
         "marker": {
          "color": "#72356c"
         },
         "mode": "markers",
         "name": "Data",
         "x": [
          400,
          500,
          1000,
          1500,
          2000,
          2500,
          5000,
          500,
          1000,
          1500,
          2000,
          2500,
          5000,
          300,
          500,
          1000,
          1500,
          2000,
          2500,
          5000,
          200,
          300,
          400,
          500,
          800,
          100,
          200,
          300,
          400,
          495,
          500,
          1000,
          1500,
          2000,
          5000,
          500,
          500,
          500,
          500,
          1000,
          1000,
          1000,
          2000,
          2000,
          2000,
          2000,
          2000,
          5000,
          5000,
          5000,
          5000,
          5000,
          2000
         ],
         "y": [
          0.61,
          2.4,
          4.34,
          5.83,
          6.91,
          7.74,
          10.01,
          3.01,
          5.45,
          7.21,
          8.55,
          9.53,
          12.11,
          2.23,
          3.65,
          6.55,
          8.63,
          10.13,
          11.23,
          14.11,
          1.72,
          2.69,
          3.58,
          4.43,
          6.63,
          0.86,
          2.06,
          3.19,
          4.27,
          5.22,
          5.24,
          7.52,
          9.29,
          10.71,
          14.89,
          4.51,
          5.37,
          4.07,
          4.88,
          6.76,
          7.77,
          6.02,
          8.73,
          9.38,
          10.48,
          11.01,
          7.8,
          14.71,
          15.44,
          13.37,
          12.5,
          11.29,
          7.28
         ],
         "z": [
          400,
          600,
          600,
          600,
          600,
          600,
          600,
          650,
          650,
          650,
          650,
          650,
          650,
          700,
          700,
          700,
          700,
          700,
          700,
          700,
          750,
          750,
          750,
          750,
          750,
          800,
          800,
          800,
          800,
          800,
          799,
          738,
          720,
          716,
          716,
          750,
          799,
          720,
          770,
          700,
          738,
          670,
          650,
          670,
          700,
          716,
          620,
          700,
          716,
          670,
          650,
          620,
          600
         ],
         "type": "scatter3d"
        },
        {
         "colorbar": {
          "len": 0.5,
          "thickness": 15
         },
         "colorscale": [
          [
           0,
           "rgb(255, 198, 196)"
          ],
          [
           0.16666666666666666,
           "rgb(244, 163, 168)"
          ],
          [
           0.3333333333333333,
           "rgb(227, 129, 145)"
          ],
          [
           0.5,
           "rgb(204, 96, 125)"
          ],
          [
           0.6666666666666666,
           "rgb(173, 70, 108)"
          ],
          [
           0.8333333333333334,
           "rgb(139, 48, 88)"
          ],
          [
           1,
           "rgb(103, 32, 68)"
          ]
         ],
         "opacity": 0.8,
         "x": [
          -75.00000782310961,
          106.03447295725346,
          287.06895373761654,
          468.1034162640571,
          649.1379335522652,
          830.1724508404732,
          1011.2068951129912,
          1192.2413393855095,
          1373.2757836580276,
          1554.3103009462357,
          1735.344672203064,
          1916.379189491272,
          2097.41370677948,
          2278.448224067688,
          2459.482741355896,
          2640.517258644104,
          2821.551775932312,
          3002.58629322052,
          3183.620810508728,
          3364.6550357341766,
          3545.6895530223846,
          3726.7240703105927,
          3907.7585875988007,
          4088.7931048870087,
          4269.827330112457,
          4450.861847400665,
          4631.896364688873,
          4812.930881977081,
          4993.965399265289,
          5174.999916553497
         ],
         "y": [
          0.08035711918026207,
          0.6282635171338916,
          1.1761699150875211,
          1.7240762577950957,
          2.271982766240835,
          2.819889274686575,
          3.3677955621480944,
          3.9157018496096136,
          4.463608137071133,
          5.011514645516873,
          5.559420711994171,
          6.107327220439911,
          6.6552337288856505,
          7.20314023733139,
          7.75104674577713,
          8.29895325422287,
          8.84685976266861,
          9.39476627111435,
          9.94267277956009,
          10.490578404068946,
          11.038484912514686,
          11.586391420960426,
          12.134297929406166,
          12.682204437851906,
          13.230110062360763,
          13.778016570806503,
          14.325923079252243,
          14.873829587697983,
          15.421736096143723,
          15.969642604589463
         ],
         "z": [
          [
           701.3887882093094,
           673.6658327308362,
           517.048725269387,
           397.42391943085806,
           394.7988565993053,
           398.9887403959281,
           400.8547680618094,
           400.74946850583257,
           399.35997202247466,
           397.13530248622806,
           394.32480089313475,
           391.0606222476998,
           387.4124735557865,
           383.42285053262583,
           379.128765745278,
           374.5739267509636,
           369.8142988141058,
           364.91658798533814,
           359.9490191182733,
           354.9669147946944,
           349.9975410251941,
           345.0283017342828,
           340.0004303848791,
           334.80926346997745,
           329.3113285119855,
           323.3380988628287,
           316.7158361548484,
           309.28935033218727,
           300.94596908569565,
           291.6343720838292
          ],
          [
           748.6901917040017,
           755.194997241495,
           551.7363668916164,
           407.99893241238084,
           417.5702743525552,
           421.1226902484484,
           421.3643387547373,
           419.7764824791561,
           417.20832389903944,
           414.0709936790612,
           410.54590627605967,
           406.7066606800617,
           402.5768258406779,
           398.16526715489476,
           393.4865584599869,
           388.57164296877664,
           383.4731833907719,
           378.2632509113583,
           373.0209578949499,
           367.81337613842226,
           362.6760057756736,
           357.5979050035774,
           352.51374022523123,
           347.30361318380125,
           341.80075394628176,
           335.8070549768449,
           329.1161486544405,
           321.54191343577327,
           312.94800835743166,
           303.2714669873421
          ],
          [
           782.0148993644483,
           794.6409213893374,
           609.2153457889125,
           469.48765317550397,
           452.79674979130345,
           448.58379703875045,
           444.6994567203591,
           440.4987081705775,
           436.1868479291247,
           431.82955502887813,
           427.41164876290884,
           422.8890344242479,
           418.20745198486486,
           413.32469639786683,
           408.22291749617386,
           402.91412432342185,
           397.44490359628526,
           391.89332151823737,
           386.35215948687375,
           380.90345115303523,
           375.5933725224716,
           370.4137759744137,
           365.29245759926596,
           360.09250674538356,
           354.620560022153,
           348.6441292329219,
           341.91823179716624,
           334.2195472309345,
           325.38301155735917,
           315.3317059007202
          ],
          [
           799.9627654089186,
           807.1904002293112,
           670.3330720401932,
           540.0545585259837,
           496.34764395126285,
           480.2873271934224,
           470.3768380834705,
           462.64404723071164,
           456.1321028743405,
           450.304056755239,
           444.84741887524274,
           439.5538047693816,
           434.2637542366414,
           428.86932918937066,
           423.3118004372824,
           417.5781505104099,
           411.7062420456951,
           405.78179147378955,
           399.91544238580684,
           394.20854801677996,
           388.7210828722083,
           383.4491440307257,
           378.3134382763406,
           373.1581934014666,
           367.75988579630393,
           361.84624166562236,
           355.1266210543898,
           347.3328281545772,
           338.26471613886974,
           327.82853746236833
          ],
          [
           808.5570778285577,
           824.0506681373222,
           718.0652609029431,
           601.9364275121027,
           541.8162811663468,
           514.3621594027159,
           497.59189752276615,
           485.80104641369735,
           476.8184442064902,
           469.35350187364213,
           462.75792596378795,
           456.63385677801693,
           450.69583466508425,
           444.76045447696924,
           438.72217785284704,
           432.53655463446273,
           426.23002194227706,
           419.89911597595665,
           413.6784817276067,
           407.69454978362955,
           402.02493802984293,
           396.6717148287377,
           391.5483430143985,
           386.4782989545614,
           381.20412567005224,
           375.40777465339903,
           368.7447085121786,
           360.89240649043643,
           351.60752649055894,
           340.7758327891499
          ],
          [
           811.171183764779,
           829.4372387296421,
           771.1285933678663,
           652.9774865011973,
           585.1504505387958,
           548.9785056817318,
           525.3950905660587,
           509.48788716635715,
           497.98846669145644,
           488.8140250415124,
           481.0322992394198,
           474.05150801560467,
           467.4453755402484,
           460.9526197146972,
           454.418329440833,
           447.75853751444413,
           440.9850796122065,
           434.2108170384591,
           427.60320325972356,
           421.32114004554415,
           415.4644209488173,
           410.04299245789036,
           404.9629361114453,
           400.0250896651994,
           394.93419978344076,
           389.3199620801764,
           382.7743892367978,
           374.9089503630329,
           365.42659956000955,
           354.1878452549203
          ],
          [
           809.3342757709456,
           830.907456249853,
           807.4289303867918,
           696.9051897466004,
           625.377874199962,
           582.8485887208592,
           552.8437271799487,
           533.2497437983229,
           519.3905541808497,
           508.51106402316395,
           499.55050303386156,
           491.72176102055,
           484.4463698207586,
           477.3935330962722,
           470.36031956283557,
           463.2102141251005,
           455.93625585285304,
           448.67698336668485,
           441.64507206583227,
           435.04106628322666,
           428.9919961778136,
           423.51759516284187,
           418.51636101673876,
           413.76466582329806,
           408.925693389911,
           403.5701152764523,
           397.2155867635617,
           389.3930703096251,
           379.73796863591946,
           368.0791496086655
          ],
          [
           804.0394297246066,
           828.534341651662,
           815.8927131176405,
           732.5164281136996,
           662.5122616168763,
           615.2775145158306,
           579.0734589992355,
           556.7837790506368,
           540.8117053858693,
           528.268787093832,
           518.1911143532993,
           509.5555905941931,
           501.6249654915738,
           494.02327299398314,
           486.50478412285,
           478.85544953725935,
           471.04429671195805,
           463.25155371741613,
           455.7522117862947,
           448.7993148924479,
           442.5523835850228,
           437.04256998183814,
           432.160395332017,
           427.656069236498,
           423.14781413496206,
           418.1405956394047,
           412.06556217746765,
           404.3551737184147,
           394.55868949636874,
           382.46451308767706
          ],
          [
           795.9190458521563,
           822.4797771502903,
           821.7531532321135,
           765.9111541251095,
           697.4019729481072,
           645.9365293006308,
           604.2441357322157,
           580.011132720455,
           562.0937367537821,
           547.9150989003649,
           536.8422068283666,
           527.4617508918486,
           518.8970792693107,
           510.77221394647154,
           502.80645838034116,
           494.65702103302795,
           486.26543399650586,
           477.8812156446579,
           469.86427378098585,
           462.5321665972624,
           456.08179998004056,
           450.5567105204455,
           445.83868694861764,
           441.650285907603,
           437.5620997743566,
           433.0073989003649,
           427.3178456980068,
           419.8051530538097,
           409.9069730148442,
           397.3586087400421
          ],
          [
           785.43589979341,
           813.3426549269257,
           819.9172077043571,
           791.7533754179825,
           728.7408851911528,
           674.3020224885446,
           629.7438726267499,
           602.8870317066946,
           583.1461668464414,
           567.2900422190048,
           555.418429361861,
           545.3430275069295,
           536.161101292727,
           527.5573781970361,
           519.2216191953253,
           510.5780847837485,
           501.5503262721028,
           492.5038181845799,
           483.9110805545604,
           476.1662075302671,
           469.5072680128811,
           463.98998724092746,
           459.4860813790148,
           455.6892375056309,
           452.12091185026475,
           448.1382786749498,
           442.960649229433,
           435.7518598845198,
           425.8023632962123,
           412.7755299010273
          ],
          [
           772.9833852083974,
           801.5614654617674,
           813.0161112445546,
           803.6268460894545,
           751.6481913587241,
           699.8212808890039,
           651.9363933953653,
           625.4049317616441,
           604.0171771703386,
           586.3368740320548,
           573.8762445946813,
           563.0753172737724,
           553.2771174944384,
           544.2792201671671,
           535.7153074915205,
           526.5831591177649,
           516.8416350884069,
           507.0460898862662,
           497.8109740127009,
           489.61727196669574,
           482.7459908846074,
           477.2630972870562,
           473.0280512074684,
           469.70476448772627,
           466.7656543391339,
           463.4901775386539,
           458.9743597763405,
           452.2020874512765,
           442.2658873598223,
           428.7278488688816
          ],
          [
           758.9228191652162,
           787.6173702504421,
           801.9279255175456,
           796.7491078684532,
           764.2450249575834,
           722.9676838669856,
           673.2471411602974,
           647.8341712072945,
           624.916510588479,
           605.8268600301916,
           592.1853174805045,
           580.4254605797368,
           569.9903048852836,
           560.8339670667428,
           552.2738592920981,
           542.6363627060566,
           532.0695448999953,
           521.4207995285554,
           511.4690442788155,
           502.78951310990317,
           495.70500299631374,
           490.28734712414507,
           486.3804532069612,
           483.61784665592705,
           481.4249267017521,
           479.0059419125798,
           475.3277284661002,
           469.1588086133735,
           459.3203243854913,
           445.22499470581073
          ],
          [
           743.5940086582269,
           772.026585805178,
           787.9814393433345,
           787.3390418105702,
           768.89207328121,
           742.3193279614718,
           697.9617937284944,
           669.8110154222389,
           645.5520204084816,
           625.6039439401474,
           610.3025660396911,
           596.6085567721719,
           585.5628200390446,
           577.1913166183908,
           568.9167194247825,
           558.6903151374606,
           547.1447551968974,
           535.523408639627,
           524.7750985377287,
           515.5744892186227,
           508.28099500163484,
           502.9647568237824,
           499.4495120487469,
           497.3380069863636,
           496.01257372389546,
           494.6099891648032,
           491.9716547985656,
           486.6175616200964,
           476.9903287408329,
           462.2699114421856
          ],
          [
           727.3080116908093,
           755.2773006914324,
           772.40735317732,
           776.0026369255419,
           766.8432877466751,
           749.1049392802194,
           721.3455805567946,
           689.8200336460511,
           665.2744037694584,
           645.0234139799798,
           628.360827826511,
           610.0531936310526,
           599.0644410318132,
           593.5521881732324,
           585.680917824383,
           574.6511880461235,
           561.9519810239714,
           549.2289460712971,
           537.6016928517624,
           527.8506616727518,
           520.360697607645,
           515.1887376747085,
           512.1323990081695,
           510.7633783257767,
           510.4262939679667,
           510.20340786883537,
           508.8296156300336,
           504.5593914465971,
           495.302697268099,
           479.85250139952126
          ],
          [
           710.3345944132737,
           737.7611324616072,
           755.8436472050275,
           762.9300576823454,
           760.0062379405196,
           750.0956071988377,
           736.4335798520021,
           705.4246045609012,
           683.5679363536572,
           665.0415830858487,
           646.562117183023,
           626.6287620679462,
           615.2966170783795,
           610.2611791430517,
           602.4064636792539,
           590.3158412053118,
           576.3515985913788,
           562.3887438404986,
           549.8020651731994,
           539.4833680460218,
           531.8218337932598,
           526.8452784966082,
           524.3183350961395,
           523.7815011365567,
           524.5472724679162,
           525.6592142947832,
           525.783123207028,
           522.9356216060274,
           514.2865630541278,
           497.9352778685898
          ],
          [
           692.8951349105445,
           719.7574386927681,
           738.6041222464063,
           748.4097589172073,
           749.9892205835462,
           745.5256270117491,
           735.040940392923,
           715.0862967782184,
           699.3866982921496,
           684.229128505877,
           664.3781629893822,
           645.7645294490071,
           634.0644474850328,
           627.3440896067148,
           618.4015298834186,
           605.4815619133204,
           590.191289430843,
           574.8249777452721,
           561.2081506331496,
           550.3257150768353,
           542.5349083866328,
           537.814779032423,
           535.8903229882744,
           536.271099493774,
           538.24174844331,
           540.820105689413,
           542.6522198459866,
           541.6330787290776,
           533.9735522977925,
           516.41973296977
          ],
          [
           675.1642136649481,
           701.4583073755025,
           720.880108161212,
           732.7567287347074,
           737.6858374007082,
           737.0383239438935,
           730.7145531657993,
           719.3440479209212,
           711.4595295023953,
           701.6857284788731,
           680.4732329326567,
           662.0355152778242,
           651.1744556532733,
           644.520625008895,
           634.1734643277334,
           620.1989747831994,
           603.2987889206138,
           586.319666681314,
           571.6294463726028,
           560.2209741877972,
           552.3660312517464,
           547.9745399690466,
           546.7274354020283,
           548.1048061289549,
           551.3652041711704,
           555.5027006359563,
           559.177657118067,
           560.3910037702836,
           554.3977021241394,
           535.0620183513486
          ],
          [
           657.2768851384675,
           682.9991760674176,
           702.8158395589983,
           716.2528061540967,
           723.7254433025032,
           726.1311787037657,
           723.8882712210298,
           718.9473494100916,
           717.4110890475906,
           713.2633271600998,
           693.3671061059765,
           678.2011122990032,
           668.6925693083839,
           661.4444883683325,
           649.804078166019,
           634.6138626359084,
           615.416482799664,
           596.5990421940273,
           580.8549311655836,
           569.0072468465964,
           561.1809187957073,
           557.2018514407615,
           556.7074785172728,
           559.1524870374074,
           563.769034045603,
           569.512565345745,
           575.029439604526,
           578.619780843972,
           575.5936225533139,
           553.2710291658508
          ],
          [
           639.3374351270888,
           664.4804876952608,
           684.530551463958,
           699.1321182351705,
           708.5764618262739,
           713.5448906195173,
           714.8145695180142,
           714.4482312340358,
           715.9434907172172,
           713.5861851514787,
           701.9511598272895,
           694.5185948198364,
           686.5789212706401,
           677.2407044058031,
           666.5159116486913,
           648.6810549376798,
           626.0844602571635,
           605.3253809726506,
           588.661685147528,
           576.5250518751697,
           568.8500489278431,
           565.3775277906243,
           565.70975291825,
           569.2844591636834,
           575.3079482937526,
           582.6693670792224,
           589.8850623799462,
           595.2454677761307,
           597.5007130777842,
           569.8757956167458
          ],
          [
           621.4271337077071,
           645.9803232336701,
           666.1245625201367,
           681.5818846152226,
           692.5691602063275,
           699.6659989566252,
           703.7629706759062,
           706.561664127864,
           709.6927812564232,
           709.7238659779259,
           705.7261278079196,
           705.9596986977986,
           700.2852372417669,
           690.0132064391216,
           682.7925051663514,
           661.2716707063879,
           634.5592354473625,
           612.1188901443805,
           594.833420157221,
           582.6278045871181,
           575.2546491258621,
           572.3896376025039,
           573.617607252553,
           578.3737284135731,
           585.8448038505105,
           594.8300380977954,
           603.5728994669129,
           609.5135743556551,
           607.3490643586281,
           583.9853581848148
          ],
          [
           603.6100469508712,
           627.5612314159395,
           647.6816343161914,
           663.748636623731,
           675.9352440453927,
           684.7519964028448,
           691.0430754178021,
           696.0773258670934,
           700.6309055598666,
           703.1752176729374,
           704.5115709545296,
           710.9753173592787,
           707.2596498435163,
           697.2239054307353,
           696.290162422338,
           669.7398561034906,
           639.9357065972335,
           616.6264191497257,
           599.188198957241,
           587.1939882187885,
           580.2929264700095,
           578.1371994036182,
           580.3206680915473,
           586.2967528254417,
           595.2498136851034,
           605.8905394373998,
           616.134096065761,
           622.3637090376868,
           616.1494350234532,
           596.6921665578881
          ],
          [
           585.9374919035835,
           609.2744178367965,
           629.2713778858055,
           645.7471952600599,
           658.8455493637366,
           669.0108856933648,
           676.9707371346773,
           683.6468865521427,
           689.5133733441319,
           694.1163843454598,
           698.5213167905102,
           705.2027003271567,
           703.8558604619468,
           697.1031451239347,
           695.3996618653787,
           670.7106903736376,
           641.5608469508658,
           618.6203784026474,
           601.6078528661614,
           590.1383456064585,
           583.8854950942488,
           582.533393979947,
           585.7165782535241,
           592.9326551158672,
           603.3933839099567,
           615.7588312786742,
           627.6772891306944,
           635.1052417414469,
           631.0331726126211,
           609.5225956995387
          ],
          [
           568.4509684630129,
           591.1622044832184,
           610.9515690314072,
           627.6691046612195,
           641.4344738288494,
           652.6242530626155,
           661.8343659229137,
           669.7424498520952,
           676.7216462173257,
           682.7850276224849,
           688.6450707146843,
           694.4485732859737,
           694.6195253508981,
           690.3006581184816,
           684.6504293004384,
           664.8988123710778,
           639.4507017249939,
           618.0716285541114,
           602.0576354427461,
           591.4193125417912,
           585.9793187442406,
           585.5083171755541,
           589.7127588808958,
           598.1621797456756,
           610.1359656720572,
           624.3157286606786,
           638.1993321971867,
           647.4038483977761,
           650.007667714231,
           622.019225329071
          ],
          [
           551.1843803380705,
           573.2599062756119,
           592.7705436968471,
           609.5893727527737,
           623.8134494012886,
           635.7526607218936,
           645.8813547185712,
           654.7076468303856,
           662.5487157193238,
           669.5472177759023,
           675.9933124660845,
           681.2246719143969,
           682.1993926857823,
           679.0153772742672,
           671.9002546375934,
           655.4977582918689,
           634.2091494575999,
           615.1449321380558,
           600.5873132791032,
           591.0405155855376,
           586.5494341425115,
           587.0110236664825,
           592.2284225231045,
           601.8677552291643,
           615.3195955792329,
           631.3828958884363,
           647.5720152133833,
           658.7375141609214,
           654.4639111977045,
           633.5171134522346
          ],
          [
           534.1656690587748,
           555.5972616585924,
           574.7692438517832,
           591.5711266155511,
           606.0778228097458,
           618.5371265794026,
           629.3193326844087,
           638.8089148662368,
           647.2653180926229,
           654.8128470584185,
           661.447117457326,
           666.3578555236919,
           667.7294566680833,
           665.1222674993386,
           657.9755727449791,
           644.1978775693201,
           626.5927267904083,
           610.1266971547581,
           597.3144496253568,
           589.046371333353,
           585.5984724491219,
           587.0109854675854,
           593.1973374914639,
           603.936386350228,
           618.7660465864295,
           636.7024294444195,
           655.5330631836166,
           669.9438751089046,
           667.0890934592346,
           645.1050309849873
          ],
          [
           517.4179017990235,
           538.1993959448778,
           556.9826584493969,
           573.6684543721813,
           588.3102877642144,
           601.1004384265117,
           612.3226266796129,
           622.2654792919969,
           631.1252299518993,
           638.9634144478857,
           645.6154889336515,
           650.3363252647068,
           651.9191711275788,
           649.7511708892447,
           643.233739315564,
           631.708868224741,
           617.2297027125281,
           603.3402892875771,
           592.3986841416734,
           585.5136133409304,
           583.1544024392329,
           585.4990624793483,
           592.5715402493768,
           604.266460170631,
           620.2856656614739,
           639.9335540618226,
           661.5430249334082,
           680.7557373649612,
           686.6654768616684,
           656.5937637283254
          ],
          [
           500.9603367876697,
           521.0878078926087,
           539.4411199746534,
           555.928414220816,
           570.5830891106133,
           583.5491520414323,
           595.0389627523726,
           605.263891940809,
           614.3584808607557,
           622.322466742408,
           628.9220376341068,
           633.5246582032307,
           635.2610829498268,
           633.5401774694428,
           627.9254093186925,
           618.3948386232148,
           606.5732952409397,
           595.0898464892384,
           586.0171809934316,
           580.5414631281981,
           579.2672476621631,
           582.4880763286269,
           590.3257878922324,
           602.7783709945872,
           619.6991425938384,
           640.6862368082517,
           664.7438621865214,
           688.9329617277929,
           700.2251914749562,
           665.5162533318811
          ],
          [
           484.8089928257136,
           504.28086019695303,
           522.1709643392894,
           538.3920657556628,
           552.9592528654014,
           565.9753799775067,
           577.5942717773187,
           587.9643554311239,
           597.166111741748,
           605.1530757063846,
           611.6740057012673,
           616.2068476753124,
           618.0993140212621,
           616.8620944565506,
           612.2375018598104,
           604.4847577136551,
           594.9423164272106,
           585.6372173198401,
           578.3469236365598,
           574.2426179843416,
           574.005450837981,
           578.0129666558896,
           586.4621221866108,
           599.4274218249038,
           616.8702150545932,
           638.602990669764,
           664.169774939868,
           692.1897089741686,
           713.9178242325389,
           669.5333260354677
          ],
          [
           468.97719037361276,
           487.79424959353395,
           505.1950894009414,
           521.0952492939174,
           535.493618699475,
           548.4585280554782,
           560.0961145631416,
           570.5039928767187,
           579.7190754502969,
           587.6656647544145,
           594.1019792194382,
           598.6031913190798,
           600.6746651090756,
           599.9478163467751,
           596.3109042296463,
           590.141380744486,
           582.5662215110312,
           575.1995167202764,
           569.5547800909163,
           566.7362841273585,
           567.4523807549704,
           572.130380607429,
           581.0134930505636,
           594.2158752240825,
           611.7408050857573,
           633.467978750283,
           659.0966483913801,
           687.8926942002396,
           715.6536585780224,
           665.773691043942
          ],
          [
           453.4759399705423,
           471.6413273714298,
           488.53332063396465,
           504.0691119841208,
           518.2336493809158,
           531.0667422313422,
           542.6360959623021,
           552.9991229293348,
           562.1599398236904,
           570.0275252030266,
           576.3823428098798,
           580.8828626249064,
           583.1571333221195,
           582.9487797038905,
           580.2529496731468,
           575.4882392892155,
           569.6164318805065,
           563.9551819005998,
           559.7934645172526,
           558.1434327708813,
           559.7031753419705,
           564.9174932804688,
           574.0453671116164,
           587.2005474550026,
           604.3560623757794,
           625.2958768945408,
           649.4204373938344,
           674.7816119968862,
           688.4771274439369,
           652.7020295437896
          ]
         ],
         "type": "surface"
        }
       ],
       "layout": {
        "template": {
         "data": {
          "barpolar": [
           {
            "marker": {
             "line": {
              "color": "rgb(237,237,237)",
              "width": 0.5
             },
             "pattern": {
              "fillmode": "overlay",
              "size": 10,
              "solidity": 0.2
             }
            },
            "type": "barpolar"
           }
          ],
          "bar": [
           {
            "error_x": {
             "color": "rgb(51,51,51)"
            },
            "error_y": {
             "color": "rgb(51,51,51)"
            },
            "marker": {
             "line": {
              "color": "rgb(237,237,237)",
              "width": 0.5
             },
             "pattern": {
              "fillmode": "overlay",
              "size": 10,
              "solidity": 0.2
             }
            },
            "type": "bar"
           }
          ],
          "carpet": [
           {
            "aaxis": {
             "endlinecolor": "rgb(51,51,51)",
             "gridcolor": "white",
             "linecolor": "white",
             "minorgridcolor": "white",
             "startlinecolor": "rgb(51,51,51)"
            },
            "baxis": {
             "endlinecolor": "rgb(51,51,51)",
             "gridcolor": "white",
             "linecolor": "white",
             "minorgridcolor": "white",
             "startlinecolor": "rgb(51,51,51)"
            },
            "type": "carpet"
           }
          ],
          "choropleth": [
           {
            "colorbar": {
             "outlinewidth": 0,
             "tickcolor": "rgb(237,237,237)",
             "ticklen": 6,
             "ticks": "inside"
            },
            "type": "choropleth"
           }
          ],
          "contourcarpet": [
           {
            "colorbar": {
             "outlinewidth": 0,
             "tickcolor": "rgb(237,237,237)",
             "ticklen": 6,
             "ticks": "inside"
            },
            "type": "contourcarpet"
           }
          ],
          "contour": [
           {
            "colorbar": {
             "outlinewidth": 0,
             "tickcolor": "rgb(237,237,237)",
             "ticklen": 6,
             "ticks": "inside"
            },
            "colorscale": [
             [
              0,
              "rgb(20,44,66)"
             ],
             [
              1,
              "rgb(90,179,244)"
             ]
            ],
            "type": "contour"
           }
          ],
          "heatmapgl": [
           {
            "colorbar": {
             "outlinewidth": 0,
             "tickcolor": "rgb(237,237,237)",
             "ticklen": 6,
             "ticks": "inside"
            },
            "colorscale": [
             [
              0,
              "rgb(20,44,66)"
             ],
             [
              1,
              "rgb(90,179,244)"
             ]
            ],
            "type": "heatmapgl"
           }
          ],
          "heatmap": [
           {
            "colorbar": {
             "outlinewidth": 0,
             "tickcolor": "rgb(237,237,237)",
             "ticklen": 6,
             "ticks": "inside"
            },
            "colorscale": [
             [
              0,
              "rgb(20,44,66)"
             ],
             [
              1,
              "rgb(90,179,244)"
             ]
            ],
            "type": "heatmap"
           }
          ],
          "histogram2dcontour": [
           {
            "colorbar": {
             "outlinewidth": 0,
             "tickcolor": "rgb(237,237,237)",
             "ticklen": 6,
             "ticks": "inside"
            },
            "colorscale": [
             [
              0,
              "rgb(20,44,66)"
             ],
             [
              1,
              "rgb(90,179,244)"
             ]
            ],
            "type": "histogram2dcontour"
           }
          ],
          "histogram2d": [
           {
            "colorbar": {
             "outlinewidth": 0,
             "tickcolor": "rgb(237,237,237)",
             "ticklen": 6,
             "ticks": "inside"
            },
            "colorscale": [
             [
              0,
              "rgb(20,44,66)"
             ],
             [
              1,
              "rgb(90,179,244)"
             ]
            ],
            "type": "histogram2d"
           }
          ],
          "histogram": [
           {
            "marker": {
             "pattern": {
              "fillmode": "overlay",
              "size": 10,
              "solidity": 0.2
             }
            },
            "type": "histogram"
           }
          ],
          "mesh3d": [
           {
            "colorbar": {
             "outlinewidth": 0,
             "tickcolor": "rgb(237,237,237)",
             "ticklen": 6,
             "ticks": "inside"
            },
            "type": "mesh3d"
           }
          ],
          "parcoords": [
           {
            "line": {
             "colorbar": {
              "outlinewidth": 0,
              "tickcolor": "rgb(237,237,237)",
              "ticklen": 6,
              "ticks": "inside"
             }
            },
            "type": "parcoords"
           }
          ],
          "pie": [
           {
            "automargin": true,
            "type": "pie"
           }
          ],
          "scatter3d": [
           {
            "line": {
             "colorbar": {
              "outlinewidth": 0,
              "tickcolor": "rgb(237,237,237)",
              "ticklen": 6,
              "ticks": "inside"
             }
            },
            "marker": {
             "colorbar": {
              "outlinewidth": 0,
              "tickcolor": "rgb(237,237,237)",
              "ticklen": 6,
              "ticks": "inside"
             }
            },
            "type": "scatter3d"
           }
          ],
          "scattercarpet": [
           {
            "marker": {
             "colorbar": {
              "outlinewidth": 0,
              "tickcolor": "rgb(237,237,237)",
              "ticklen": 6,
              "ticks": "inside"
             }
            },
            "type": "scattercarpet"
           }
          ],
          "scattergeo": [
           {
            "marker": {
             "colorbar": {
              "outlinewidth": 0,
              "tickcolor": "rgb(237,237,237)",
              "ticklen": 6,
              "ticks": "inside"
             }
            },
            "type": "scattergeo"
           }
          ],
          "scattergl": [
           {
            "marker": {
             "colorbar": {
              "outlinewidth": 0,
              "tickcolor": "rgb(237,237,237)",
              "ticklen": 6,
              "ticks": "inside"
             }
            },
            "type": "scattergl"
           }
          ],
          "scattermapbox": [
           {
            "marker": {
             "colorbar": {
              "outlinewidth": 0,
              "tickcolor": "rgb(237,237,237)",
              "ticklen": 6,
              "ticks": "inside"
             }
            },
            "type": "scattermapbox"
           }
          ],
          "scatterpolargl": [
           {
            "marker": {
             "colorbar": {
              "outlinewidth": 0,
              "tickcolor": "rgb(237,237,237)",
              "ticklen": 6,
              "ticks": "inside"
             }
            },
            "type": "scatterpolargl"
           }
          ],
          "scatterpolar": [
           {
            "marker": {
             "colorbar": {
              "outlinewidth": 0,
              "tickcolor": "rgb(237,237,237)",
              "ticklen": 6,
              "ticks": "inside"
             }
            },
            "type": "scatterpolar"
           }
          ],
          "scatter": [
           {
            "fillpattern": {
             "fillmode": "overlay",
             "size": 10,
             "solidity": 0.2
            },
            "type": "scatter"
           }
          ],
          "scatterternary": [
           {
            "marker": {
             "colorbar": {
              "outlinewidth": 0,
              "tickcolor": "rgb(237,237,237)",
              "ticklen": 6,
              "ticks": "inside"
             }
            },
            "type": "scatterternary"
           }
          ],
          "surface": [
           {
            "colorbar": {
             "outlinewidth": 0,
             "tickcolor": "rgb(237,237,237)",
             "ticklen": 6,
             "ticks": "inside"
            },
            "colorscale": [
             [
              0,
              "rgb(20,44,66)"
             ],
             [
              1,
              "rgb(90,179,244)"
             ]
            ],
            "type": "surface"
           }
          ],
          "table": [
           {
            "cells": {
             "fill": {
              "color": "rgb(237,237,237)"
             },
             "line": {
              "color": "white"
             }
            },
            "header": {
             "fill": {
              "color": "rgb(217,217,217)"
             },
             "line": {
              "color": "white"
             }
            },
            "type": "table"
           }
          ]
         },
         "layout": {
          "annotationdefaults": {
           "arrowhead": 0,
           "arrowwidth": 1
          },
          "autotypenumbers": "strict",
          "coloraxis": {
           "colorbar": {
            "outlinewidth": 0,
            "tickcolor": "rgb(237,237,237)",
            "ticklen": 6,
            "ticks": "inside"
           }
          },
          "colorscale": {
           "sequential": [
            [
             0,
             "rgb(20,44,66)"
            ],
            [
             1,
             "rgb(90,179,244)"
            ]
           ],
           "sequentialminus": [
            [
             0,
             "rgb(20,44,66)"
            ],
            [
             1,
             "rgb(90,179,244)"
            ]
           ]
          },
          "colorway": [
           "#F8766D",
           "#A3A500",
           "#00BF7D",
           "#00B0F6",
           "#E76BF3"
          ],
          "font": {
           "color": "rgb(51,51,51)"
          },
          "geo": {
           "bgcolor": "white",
           "lakecolor": "white",
           "landcolor": "rgb(237,237,237)",
           "showlakes": true,
           "showland": true,
           "subunitcolor": "white"
          },
          "hoverlabel": {
           "align": "left"
          },
          "hovermode": "closest",
          "paper_bgcolor": "white",
          "plot_bgcolor": "rgb(237,237,237)",
          "polar": {
           "angularaxis": {
            "gridcolor": "white",
            "linecolor": "white",
            "showgrid": true,
            "tickcolor": "rgb(51,51,51)",
            "ticks": "outside"
           },
           "bgcolor": "rgb(237,237,237)",
           "radialaxis": {
            "gridcolor": "white",
            "linecolor": "white",
            "showgrid": true,
            "tickcolor": "rgb(51,51,51)",
            "ticks": "outside"
           }
          },
          "scene": {
           "xaxis": {
            "backgroundcolor": "rgb(237,237,237)",
            "gridcolor": "white",
            "gridwidth": 2,
            "linecolor": "white",
            "showbackground": true,
            "showgrid": true,
            "tickcolor": "rgb(51,51,51)",
            "ticks": "outside",
            "zerolinecolor": "white"
           },
           "yaxis": {
            "backgroundcolor": "rgb(237,237,237)",
            "gridcolor": "white",
            "gridwidth": 2,
            "linecolor": "white",
            "showbackground": true,
            "showgrid": true,
            "tickcolor": "rgb(51,51,51)",
            "ticks": "outside",
            "zerolinecolor": "white"
           },
           "zaxis": {
            "backgroundcolor": "rgb(237,237,237)",
            "gridcolor": "white",
            "gridwidth": 2,
            "linecolor": "white",
            "showbackground": true,
            "showgrid": true,
            "tickcolor": "rgb(51,51,51)",
            "ticks": "outside",
            "zerolinecolor": "white"
           }
          },
          "shapedefaults": {
           "fillcolor": "black",
           "line": {
            "width": 0
           },
           "opacity": 0.3
          },
          "ternary": {
           "aaxis": {
            "gridcolor": "white",
            "linecolor": "white",
            "showgrid": true,
            "tickcolor": "rgb(51,51,51)",
            "ticks": "outside"
           },
           "baxis": {
            "gridcolor": "white",
            "linecolor": "white",
            "showgrid": true,
            "tickcolor": "rgb(51,51,51)",
            "ticks": "outside"
           },
           "bgcolor": "rgb(237,237,237)",
           "caxis": {
            "gridcolor": "white",
            "linecolor": "white",
            "showgrid": true,
            "tickcolor": "rgb(51,51,51)",
            "ticks": "outside"
           }
          },
          "xaxis": {
           "automargin": true,
           "gridcolor": "white",
           "linecolor": "white",
           "showgrid": true,
           "tickcolor": "rgb(51,51,51)",
           "ticks": "outside",
           "title": {
            "standoff": 15
           },
           "zerolinecolor": "white"
          },
          "yaxis": {
           "automargin": true,
           "gridcolor": "white",
           "linecolor": "white",
           "showgrid": true,
           "tickcolor": "rgb(51,51,51)",
           "ticks": "outside",
           "title": {
            "standoff": 15
           },
           "zerolinecolor": "white"
          }
         }
        },
        "legend": {
         "orientation": "h",
         "yanchor": "top",
         "y": 1.02,
         "xanchor": "left",
         "x": 1
        },
        "margin": {
         "r": 20,
         "l": 10,
         "b": 10,
         "t": 10
        },
        "width": 1000,
        "height": 800,
        "scene": {
         "xaxis": {
          "title": {
           "text": "Pulse width (μs)"
          }
         },
         "yaxis": {
          "title": {
           "text": "Energy density new cone (J/cm^2)"
          }
         },
         "zaxis": {
          "title": {
           "text": "Voltage"
          }
         },
         "camera": {
          "up": {
           "x": 0,
           "y": 0,
           "z": 1
          },
          "center": {
           "x": 0,
           "y": 0,
           "z": 0
          },
          "eye": {
           "x": -2,
           "y": -2.5,
           "z": 1.75
          }
         }
        }
       },
       "config": {
        "plotlyServerURL": "https://plot.ly"
       }
      }
     },
     "metadata": {}
    }
   ],
   "metadata": {}
  }
 ],
 "metadata": {
  "orig_nbformat": 4,
  "language_info": {
   "name": "python",
   "version": "3.9.16",
   "mimetype": "text/x-python",
   "codemirror_mode": {
    "name": "ipython",
    "version": 3
   },
   "pygments_lexer": "ipython3",
   "nbconvert_exporter": "python",
   "file_extension": ".py"
  },
  "kernelspec": {
   "name": "python3",
   "display_name": "Python 3.9.16 64-bit ('FEGP': conda)"
  },
  "interpreter": {
   "hash": "b00f9bca1c18369f730e284e4d0522d8a3e0f0b629e30dad99ec4bb4df6f08b7"
  }
 },
 "nbformat": 4,
 "nbformat_minor": 2
}