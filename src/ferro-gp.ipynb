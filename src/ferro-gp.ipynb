{
 "cells": [
  {
   "cell_type": "code",
   "execution_count": 1,
   "source": [
    "# Prep training data\n",
    "from copyreg import pickle\n",
    "from sklearn.preprocessing import StandardScaler\n",
    "from sklearn import preprocessing\n",
    "import sys\n",
    "from tkinter import Y\n",
    "import gzip\n",
    "import itertools\n",
    "import numpy as np\n",
    "import pandas as pd\n",
    "import pickle as pk\n",
    "import torch\n",
    "import gpytorch\n",
    "import plotly.express as px\n",
    "sys.path.append('..')\n",
    "sys.path.insert(0, '../src')"
   ],
   "outputs": [],
   "metadata": {}
  },
  {
   "cell_type": "code",
   "execution_count": 2,
   "source": [
    "from model import GridGP\n",
    "from acq_funcs import EI, PI, cust_acq, thompson\n",
    "from plotter import vis_pred, vis_acq"
   ],
   "outputs": [],
   "metadata": {}
  },
  {
   "cell_type": "code",
   "execution_count": 3,
   "source": [
    "# read data and display\n",
    "def read_dat(dir=\"/Users/valenetjong/Bayesian-Optimization-Ferroelectrics/data/\",\n",
    "            src_file = \"Bolometer_readings_PulseForge.xlsx\", sheet= \"Combined\"):\n",
    "    file = dir + src_file\n",
    "    fe_data = pd.read_excel(file, sheet_name=sheet, usecols=['Energy density new cone (J/cm^2)',\n",
    "                            'Time (ms)','2 Qsw/(U+|D|) 1e6cycles'])\n",
    "    fe_data.dropna(subset=['2 Qsw/(U+|D|) 1e6cycles'], inplace=True)\n",
    "    fe_data = fe_data[fe_data['2 Qsw/(U+|D|) 1e6cycles']!= 0]\n",
    "    return fe_data\n",
    "\n",
    "def display_data(fe_data):\n",
    "    \"\"\"\n",
    "    [display_data(fe_data)] creates a cross-section scatter plot of all combinations\n",
    "    of the four input parameters and single output parameter.\n",
    "    \"\"\"\n",
    "    # plot each cross-section\n",
    "    fig = px.scatter_matrix(fe_data, dimensions=['Energy density new cone (J/cm^2)', \n",
    "    \"Time (ms)\", \"2 Qsw/(U+|D|) 1e6cycles\"])\n",
    "    fig.update_layout(margin=dict(r=20, l=10, b=10, t=10))\n",
    "    fig.update_layout(height=1000)\n",
    "    fig.show()"
   ],
   "outputs": [],
   "metadata": {}
  },
  {
   "cell_type": "code",
   "execution_count": 4,
   "source": [
    "# create grid for grid search\n",
    "def grid_helper(grid_size, num_params, grid_bounds):\n",
    "    \"\"\"\n",
    "    [grid_helper(grid_size, num_params, grid_bounds)] returns a grid of dimensions\n",
    "    [grid_size] by [num_params], filled in with data from array [grid_bounds].\n",
    "    \"\"\"\n",
    "    grid = torch.zeros(grid_size, num_params)\n",
    "    f_grid_diff = lambda i, x, y : float((x[i][1] - x[i][0]) / (y-2))\n",
    "    for i in range(num_params):\n",
    "        grid_diff = f_grid_diff(i, grid_bounds, grid_size)\n",
    "        grid[:, i] = torch.linspace(grid_bounds[i][0] - grid_diff, \n",
    "                                    grid_bounds[i][1] + grid_diff, grid_size)\n",
    "    return grid\n",
    "\n",
    "def grid_maker(train_x):\n",
    "    \"\"\"\n",
    "    [grid_maker(train_x)] creates grids to be used for gaussian process predictions.\n",
    "    It outputs the dimension of the grid [num_params] and two grid utility \n",
    "    tensors [test_grid] and [test_x].\n",
    "    \"\"\"\n",
    "    # define grid between bounds of RTA time, RTA temp\n",
    "    num_params = train_x.size(dim=1)\n",
    "    grid_bounds = [(train_x[:,i].min(), train_x[:,i].max()) for i in range(num_params)]\n",
    "    grid = grid_helper(20, num_params, grid_bounds)\n",
    "\n",
    "    # set up test_grid for predictions\n",
    "    n = 30\n",
    "    test_grid = grid_helper(n, num_params, grid_bounds)\n",
    "\n",
    "    # create 4D grid\n",
    "    args = (test_grid[:, i] for i in range(num_params))\n",
    "    test_x = torch.cartesian_prod(*args)\n",
    "    test_x.shape\n",
    "    return num_params, test_grid, test_x\n"
   ],
   "outputs": [],
   "metadata": {}
  },
  {
   "cell_type": "code",
   "execution_count": 5,
   "source": [
    "# get training set from dataframe\n",
    "def datasetmaker(fe_data):\n",
    "    \"\"\"\n",
    "    [datasetmaker(fe_data)] filters and transforms the data in pandas df [fe_data] \n",
    "    into two tensors, [train_x] for input and [train_y] for output tensors. \n",
    "    \"\"\"\n",
    "    # define normalizer\n",
    "    norm_arr = lambda arr, mean, sd: (arr - mean)/sd\n",
    "    \n",
    "    # filter training data \n",
    "    energy_den = fe_data['Energy density new cone (J/cm^2)'].values\n",
    "    time = fe_data['Time (ms)'].values\n",
    "    train_x = torch.Tensor([energy_den, time]).T\n",
    "    train_y = torch.Tensor(fe_data['2 Qsw/(U+|D|) 1e6cycles'].values)\n",
    "\n",
    "    # normalize inputs; col_mean, col_sd are tuples of mean/sd per column of x\n",
    "    x_sd_mean = torch.std_mean(train_x, axis=0)\n",
    "    train_x = norm_arr(train_x, x_sd_mean[1], x_sd_mean[0])\n",
    "\n",
    "    # normalize outputs\n",
    "    y_sd_mean = torch.std_mean(train_y, axis=0)\n",
    "    train_y = norm_arr(train_y, y_sd_mean[1], y_sd_mean[0])\n",
    "    \n",
    "    return x_sd_mean, y_sd_mean, train_x, train_y"
   ],
   "outputs": [],
   "metadata": {}
  },
  {
   "cell_type": "code",
   "execution_count": 6,
   "source": [
    "# configuration parameters for training\n",
    "class Config():\n",
    "    def __init__(self):\n",
    "        self.epochs = 3000\n",
    "        self.kernel = \"rbf\"\n",
    "        self.lr = 0.001\n",
    "        self.lscale_1 = 1.0\n",
    "        self.lscale_2 = 1.0\n",
    "        self.lscale_3 = None\n",
    "        self.lscale_4 = None\n",
    "        self.dim = 2\n",
    "        self.noise = 0.3\n",
    "\n",
    "config = Config()"
   ],
   "outputs": [],
   "metadata": {}
  },
  {
   "cell_type": "code",
   "execution_count": 7,
   "source": [
    "# make model\n",
    "def kernel_func(config_kernel, num_params):\n",
    "    \"\"\"\n",
    "    [kernel_func(config_kernel, num_params)] returns kernel function with \n",
    "    dimensions specified by [num_params]. \n",
    "    \"\"\"\n",
    "    if config_kernel == \"rbf\":\n",
    "        return gpytorch.kernels.ScaleKernel(\n",
    "            gpytorch.kernels.RBFKernel(ard_num_dims=num_params))\n",
    "\n",
    "def make_model(train_x, train_y, num_params, config):\n",
    "    \"\"\"\n",
    "    [make_model(train_x, train_y, num_params, config)] returns likelihood and \n",
    "    model with lengthscale, noise, kernel function specified by sweeps. \n",
    "    \"\"\"\n",
    "    kernel = kernel_func(config.kernel, num_params)\n",
    "    num_samples = len(train_x)\n",
    "    noise = config.noise*torch.ones(num_samples)\n",
    "    likelihood = gpytorch.likelihoods.FixedNoiseGaussianLikelihood(noise=noise)\n",
    "    model = GridGP(train_x, train_y, likelihood, kernel)\n",
    "    \n",
    "    if config.dim == 2:\n",
    "        lscale = [config.lscale_1, config.lscale_2]\n",
    "    elif config.dim == 4:\n",
    "        lscale = [config.lscale_1, config.lscale_2, config.lscale_3, config.lscale_4]\n",
    "    model.covar_module.base_kernel.lengthscale = torch.tensor(lscale)\n",
    "    return likelihood, model\n",
    "    "
   ],
   "outputs": [],
   "metadata": {}
  },
  {
   "cell_type": "code",
   "execution_count": 8,
   "source": [
    "# training and evaluation\n",
    "def train(train_x, train_y, num_params, config):\n",
    "    likelihood, model = make_model(train_x, train_y, num_params, config)\n",
    "    training_iter = config.epochs\n",
    "\n",
    "    # place both the model and likelihood in training mode\n",
    "    model.train(), likelihood.train()\n",
    "    optimizer = torch.optim.Adam(model.parameters(), lr=config.lr)\n",
    "    mll = gpytorch.mlls.ExactMarginalLogLikelihood(likelihood, model)\n",
    "\n",
    "    for i in range(training_iter):\n",
    "        optimizer.zero_grad()\n",
    "        output = model(train_x)\n",
    "\n",
    "        # backpropagate error\n",
    "        # wandb.define_metric(\"train loss\", summary=\"min\")\n",
    "        loss = -mll(output, train_y)\n",
    "        # wandb.log({\"train loss\": loss.item()})\n",
    "        loss.backward()\n",
    "\n",
    "        if i % 100 == 0: \n",
    "            print('Iter %d/%d - Loss: %.3f  lengthscale1: %s   noise: %s' % (\n",
    "                    i+1, training_iter, loss.item(), \n",
    "                    model.covar_module.base_kernel.lengthscale.detach().numpy(),\n",
    "                    model.likelihood.noise.detach().numpy()\n",
    "                    )) \n",
    "        optimizer.step()\n",
    "    return likelihood, model\n",
    "\n",
    "def eval_mod(likelihood, model, test_x):\n",
    "    \"\"\" \n",
    "    [eval_mod(likelihood, model, test_x)] evaluates GP model. \n",
    "    \"\"\"\n",
    "    model.eval(), likelihood.eval()\n",
    "    with torch.no_grad(), gpytorch.settings.fast_pred_var():\n",
    "        obs = likelihood(model(test_x), noise=(torch.ones(len(test_x))*5))\n",
    "    return obs"
   ],
   "outputs": [],
   "metadata": {}
  },
  {
   "cell_type": "code",
   "execution_count": 9,
   "source": [
    "# acquisition function for prediction/exploration\n",
    "def get_bounds(n): return [n for i in range(config.dim)]\n",
    "\n",
    "def unravel_acq(acq_func, obs, bounds, train_y, nshape):\n",
    "    \"\"\" \n",
    "    [unravel_acq(acq_func, obs, bounds, train_y, nshape)] is a helper function \n",
    "    for acq. \n",
    "    \"\"\"\n",
    "    acq = acq_func(obs, bounds, train_y).detach().numpy().reshape(nshape).T\n",
    "    return np.unravel_index(acq.argmax(), acq.shape)\n",
    "\n",
    "def acq(obs, train_y, bounds):\n",
    "    \"\"\" \n",
    "    [acq(obs, train_y, bounds)] evaluates acquisition functions on current \n",
    "    predictions (observations) and outputs suggested points for exploration \n",
    "    on manifold. \n",
    "    \"\"\"\n",
    "    transpose = lambda tensor: tensor.detach().numpy().reshape(nshape).T\n",
    "    nshape = tuple(bounds)\n",
    "\n",
    "    pi = unravel_acq(PI, obs, bounds, train_y, nshape) # prob of improvement\n",
    "    ei = unravel_acq(EI, obs, bounds, train_y, nshape) # expected improvement\n",
    "    ca = unravel_acq(cust_acq, obs, bounds, train_y, nshape) # custom acq\n",
    "    th = unravel_acq(thompson, obs, bounds, train_y, nshape) # thompson acq\n",
    "\n",
    "    lower, upper = obs.confidence_region()\n",
    "    upper_surf, lower_surf = transpose(upper), transpose(lower)\n",
    "    ucb = np.unravel_index(upper_surf.argmax(), upper_surf.shape)\n",
    "\n",
    "    pred_var = obs.variance.view(nshape).detach().numpy().T\n",
    "    pred_labels = obs.mean.view(nshape)\n",
    "    max_var = np.unravel_index(pred_var.argmax(), pred_var.shape)\n",
    "\n",
    "    # acqs gives pairs corresponding to time and energy density recommendations\n",
    "    # pairs index into pred_labels \n",
    "    acqs = {\"PI\":pi, \"EI\":ei, \"CA\":ca, \"TH\":th, \"UCB\":ucb, \"Max_var\":max_var}\n",
    "\n",
    "    return pred_labels, upper_surf, lower_surf, acqs"
   ],
   "outputs": [],
   "metadata": {}
  },
  {
   "cell_type": "code",
   "execution_count": 10,
   "source": [
    "# undo normalization\n",
    "def un_norm(arr, arr_sd_mean): return arr*arr_sd_mean[0] + arr_sd_mean[1]\n",
    "\n",
    "def un_norm_all(x_sd_mean, y_sd_mean, train_x, train_y, test_grid, pred_labels, upper_surf, lower_surf):\n",
    "    raw_train_x = un_norm(train_x, x_sd_mean)\n",
    "    raw_test_grid = un_norm(test_grid, x_sd_mean)\n",
    "\n",
    "    raw_train_y = un_norm(train_y, y_sd_mean)\n",
    "    raw_pred_labels = un_norm(pred_labels, y_sd_mean)\n",
    "    raw_upper_surf = un_norm(torch.Tensor(upper_surf), y_sd_mean)\n",
    "    raw_lower_surf = un_norm(torch.Tensor(lower_surf), y_sd_mean)\n",
    "\n",
    "    return raw_train_x, raw_train_y, raw_test_grid, raw_pred_labels, raw_upper_surf, raw_lower_surf"
   ],
   "outputs": [],
   "metadata": {}
  },
  {
   "cell_type": "code",
   "execution_count": 11,
   "source": [
    "# export predictions to csv\n",
    "def pred_to_csv(acqs, raw_pred_labels, raw_test_grid):\n",
    "    \"\"\"\n",
    "    [pred_to_csv(acqs, raw_pred_labels, raw_test_grid)] outputs suggested\n",
    "    inputs and their respective predicted outputs to csv. \n",
    "    \"\"\"   \n",
    "    dir = \"/Users/valenetjong/Bayesian-Optimization-Ferroelectrics/predictions/\"\n",
    "    file = open(dir + \"preds.csv\", \"w\", encoding=\"utf-8\")\n",
    "    \n",
    "    file.write(\"Energy density \\t Time (ms)\\n\")\n",
    "    for lab, pred in acqs.items():\n",
    "        file.write(lab + \": \" + str(raw_test_grid[pred[1]].tolist()[0]) + \"\\t\" + str(raw_test_grid[pred[1]].tolist()[1]) + \"\\n\")\n",
    "    \n",
    "    file.write(\"\\nFigure of merit\\n\")\n",
    "    for lab, pred in acqs.items():\n",
    "        file.write(lab + \": \" + str(raw_pred_labels[pred].item()) + \"\\n\")"
   ],
   "outputs": [],
   "metadata": {}
  },
  {
   "cell_type": "code",
   "execution_count": 12,
   "source": [
    "fe_data = read_dat()\n",
    "print(fe_data)"
   ],
   "outputs": [
    {
     "output_type": "stream",
     "name": "stdout",
     "text": [
      "    Time (ms)  Energy density new cone (J/cm^2)  2 Qsw/(U+|D|) 1e6cycles\n",
      "4         0.5                              2.73                 0.873026\n",
      "5         0.5                              3.40                 2.677245\n",
      "6         1.0                              3.79                 1.699015\n",
      "7         1.0                              6.44                 3.805053\n",
      "8         1.5                              5.36                 3.334856\n",
      "9         1.5                              8.99                 4.535153\n",
      "11        5.0                              8.80                 1.362510\n",
      "13        5.0                             14.67                 3.841291\n",
      "19        0.5                              5.24                 1.201357\n",
      "22        5.0                             14.89                 3.513652\n",
      "23        2.0                             10.13                 3.470871\n",
      "24        0.5                              4.51                 0.263298\n",
      "25        0.5                              5.37                 2.775340\n",
      "27        0.5                              4.88                 2.591306\n",
      "28        1.0                              6.76                 2.579984\n",
      "29        1.0                              7.77                 3.173819\n",
      "31        2.0                              8.73                 0.131505\n",
      "32        2.0                              9.38                 0.451164\n",
      "33        2.0                             10.48                 2.126640\n",
      "34        2.0                             11.01                 3.468213\n",
      "35        5.0                             14.71                 3.685852\n",
      "36        5.0                             15.44                 3.445656\n",
      "37        5.0                             13.37                 2.651547\n"
     ]
    }
   ],
   "metadata": {}
  },
  {
   "cell_type": "code",
   "execution_count": 13,
   "source": [
    "display_data(fe_data)"
   ],
   "outputs": [
    {
     "output_type": "display_data",
     "data": {
      "application/vnd.plotly.v1+json": {
       "data": [
        {
         "dimensions": [
          {
           "axis": {
            "matches": true
           },
           "label": "Energy density new cone (J/cm^2)",
           "values": [
            2.73,
            3.4,
            3.79,
            6.44,
            5.36,
            8.99,
            8.8,
            14.67,
            5.24,
            14.89,
            10.13,
            4.51,
            5.37,
            4.88,
            6.76,
            7.77,
            8.73,
            9.38,
            10.48,
            11.01,
            14.71,
            15.44,
            13.37
           ]
          },
          {
           "axis": {
            "matches": true
           },
           "label": "Time (ms)",
           "values": [
            0.5,
            0.5,
            1,
            1,
            1.5,
            1.5,
            5,
            5,
            0.5,
            5,
            2,
            0.5,
            0.5,
            0.5,
            1,
            1,
            2,
            2,
            2,
            2,
            5,
            5,
            5
           ]
          },
          {
           "axis": {
            "matches": true
           },
           "label": "2 Qsw/(U+|D|) 1e6cycles",
           "values": [
            0.8730257299654021,
            2.677244640050493,
            1.6990152147413928,
            3.8050528055652655,
            3.3348561928152627,
            4.535152817359003,
            1.3625102372531497,
            3.841290609056986,
            1.2013569985324948,
            3.5136521918176413,
            3.4708714822041062,
            0.2632982379553876,
            2.7753404356378253,
            2.5913062464887977,
            2.579984359259049,
            3.1738185691110727,
            0.1315049942519029,
            0.4511637114621348,
            2.126639748505365,
            3.468212840642842,
            3.685852431471957,
            3.445655582638384,
            2.651546836022379
           ]
          }
         ],
         "hovertemplate": "%{xaxis.title.text}=%{x}<br>%{yaxis.title.text}=%{y}<extra></extra>",
         "legendgroup": "",
         "marker": {
          "color": "#636efa",
          "symbol": "circle"
         },
         "name": "",
         "showlegend": false,
         "type": "splom"
        }
       ],
       "layout": {
        "template": {
         "data": {
          "histogram2dcontour": [
           {
            "type": "histogram2dcontour",
            "colorbar": {
             "outlinewidth": 0,
             "ticks": ""
            },
            "colorscale": [
             [
              0,
              "#0d0887"
             ],
             [
              0.1111111111111111,
              "#46039f"
             ],
             [
              0.2222222222222222,
              "#7201a8"
             ],
             [
              0.3333333333333333,
              "#9c179e"
             ],
             [
              0.4444444444444444,
              "#bd3786"
             ],
             [
              0.5555555555555556,
              "#d8576b"
             ],
             [
              0.6666666666666666,
              "#ed7953"
             ],
             [
              0.7777777777777778,
              "#fb9f3a"
             ],
             [
              0.8888888888888888,
              "#fdca26"
             ],
             [
              1,
              "#f0f921"
             ]
            ]
           }
          ],
          "choropleth": [
           {
            "type": "choropleth",
            "colorbar": {
             "outlinewidth": 0,
             "ticks": ""
            }
           }
          ],
          "histogram2d": [
           {
            "type": "histogram2d",
            "colorbar": {
             "outlinewidth": 0,
             "ticks": ""
            },
            "colorscale": [
             [
              0,
              "#0d0887"
             ],
             [
              0.1111111111111111,
              "#46039f"
             ],
             [
              0.2222222222222222,
              "#7201a8"
             ],
             [
              0.3333333333333333,
              "#9c179e"
             ],
             [
              0.4444444444444444,
              "#bd3786"
             ],
             [
              0.5555555555555556,
              "#d8576b"
             ],
             [
              0.6666666666666666,
              "#ed7953"
             ],
             [
              0.7777777777777778,
              "#fb9f3a"
             ],
             [
              0.8888888888888888,
              "#fdca26"
             ],
             [
              1,
              "#f0f921"
             ]
            ]
           }
          ],
          "heatmap": [
           {
            "type": "heatmap",
            "colorbar": {
             "outlinewidth": 0,
             "ticks": ""
            },
            "colorscale": [
             [
              0,
              "#0d0887"
             ],
             [
              0.1111111111111111,
              "#46039f"
             ],
             [
              0.2222222222222222,
              "#7201a8"
             ],
             [
              0.3333333333333333,
              "#9c179e"
             ],
             [
              0.4444444444444444,
              "#bd3786"
             ],
             [
              0.5555555555555556,
              "#d8576b"
             ],
             [
              0.6666666666666666,
              "#ed7953"
             ],
             [
              0.7777777777777778,
              "#fb9f3a"
             ],
             [
              0.8888888888888888,
              "#fdca26"
             ],
             [
              1,
              "#f0f921"
             ]
            ]
           }
          ],
          "heatmapgl": [
           {
            "type": "heatmapgl",
            "colorbar": {
             "outlinewidth": 0,
             "ticks": ""
            },
            "colorscale": [
             [
              0,
              "#0d0887"
             ],
             [
              0.1111111111111111,
              "#46039f"
             ],
             [
              0.2222222222222222,
              "#7201a8"
             ],
             [
              0.3333333333333333,
              "#9c179e"
             ],
             [
              0.4444444444444444,
              "#bd3786"
             ],
             [
              0.5555555555555556,
              "#d8576b"
             ],
             [
              0.6666666666666666,
              "#ed7953"
             ],
             [
              0.7777777777777778,
              "#fb9f3a"
             ],
             [
              0.8888888888888888,
              "#fdca26"
             ],
             [
              1,
              "#f0f921"
             ]
            ]
           }
          ],
          "contourcarpet": [
           {
            "type": "contourcarpet",
            "colorbar": {
             "outlinewidth": 0,
             "ticks": ""
            }
           }
          ],
          "contour": [
           {
            "type": "contour",
            "colorbar": {
             "outlinewidth": 0,
             "ticks": ""
            },
            "colorscale": [
             [
              0,
              "#0d0887"
             ],
             [
              0.1111111111111111,
              "#46039f"
             ],
             [
              0.2222222222222222,
              "#7201a8"
             ],
             [
              0.3333333333333333,
              "#9c179e"
             ],
             [
              0.4444444444444444,
              "#bd3786"
             ],
             [
              0.5555555555555556,
              "#d8576b"
             ],
             [
              0.6666666666666666,
              "#ed7953"
             ],
             [
              0.7777777777777778,
              "#fb9f3a"
             ],
             [
              0.8888888888888888,
              "#fdca26"
             ],
             [
              1,
              "#f0f921"
             ]
            ]
           }
          ],
          "surface": [
           {
            "type": "surface",
            "colorbar": {
             "outlinewidth": 0,
             "ticks": ""
            },
            "colorscale": [
             [
              0,
              "#0d0887"
             ],
             [
              0.1111111111111111,
              "#46039f"
             ],
             [
              0.2222222222222222,
              "#7201a8"
             ],
             [
              0.3333333333333333,
              "#9c179e"
             ],
             [
              0.4444444444444444,
              "#bd3786"
             ],
             [
              0.5555555555555556,
              "#d8576b"
             ],
             [
              0.6666666666666666,
              "#ed7953"
             ],
             [
              0.7777777777777778,
              "#fb9f3a"
             ],
             [
              0.8888888888888888,
              "#fdca26"
             ],
             [
              1,
              "#f0f921"
             ]
            ]
           }
          ],
          "mesh3d": [
           {
            "type": "mesh3d",
            "colorbar": {
             "outlinewidth": 0,
             "ticks": ""
            }
           }
          ],
          "scatter": [
           {
            "fillpattern": {
             "fillmode": "overlay",
             "size": 10,
             "solidity": 0.2
            },
            "type": "scatter"
           }
          ],
          "parcoords": [
           {
            "type": "parcoords",
            "line": {
             "colorbar": {
              "outlinewidth": 0,
              "ticks": ""
             }
            }
           }
          ],
          "scatterpolargl": [
           {
            "type": "scatterpolargl",
            "marker": {
             "colorbar": {
              "outlinewidth": 0,
              "ticks": ""
             }
            }
           }
          ],
          "bar": [
           {
            "error_x": {
             "color": "#2a3f5f"
            },
            "error_y": {
             "color": "#2a3f5f"
            },
            "marker": {
             "line": {
              "color": "#E5ECF6",
              "width": 0.5
             },
             "pattern": {
              "fillmode": "overlay",
              "size": 10,
              "solidity": 0.2
             }
            },
            "type": "bar"
           }
          ],
          "scattergeo": [
           {
            "type": "scattergeo",
            "marker": {
             "colorbar": {
              "outlinewidth": 0,
              "ticks": ""
             }
            }
           }
          ],
          "scatterpolar": [
           {
            "type": "scatterpolar",
            "marker": {
             "colorbar": {
              "outlinewidth": 0,
              "ticks": ""
             }
            }
           }
          ],
          "histogram": [
           {
            "marker": {
             "pattern": {
              "fillmode": "overlay",
              "size": 10,
              "solidity": 0.2
             }
            },
            "type": "histogram"
           }
          ],
          "scattergl": [
           {
            "type": "scattergl",
            "marker": {
             "colorbar": {
              "outlinewidth": 0,
              "ticks": ""
             }
            }
           }
          ],
          "scatter3d": [
           {
            "type": "scatter3d",
            "line": {
             "colorbar": {
              "outlinewidth": 0,
              "ticks": ""
             }
            },
            "marker": {
             "colorbar": {
              "outlinewidth": 0,
              "ticks": ""
             }
            }
           }
          ],
          "scattermapbox": [
           {
            "type": "scattermapbox",
            "marker": {
             "colorbar": {
              "outlinewidth": 0,
              "ticks": ""
             }
            }
           }
          ],
          "scatterternary": [
           {
            "type": "scatterternary",
            "marker": {
             "colorbar": {
              "outlinewidth": 0,
              "ticks": ""
             }
            }
           }
          ],
          "scattercarpet": [
           {
            "type": "scattercarpet",
            "marker": {
             "colorbar": {
              "outlinewidth": 0,
              "ticks": ""
             }
            }
           }
          ],
          "carpet": [
           {
            "aaxis": {
             "endlinecolor": "#2a3f5f",
             "gridcolor": "white",
             "linecolor": "white",
             "minorgridcolor": "white",
             "startlinecolor": "#2a3f5f"
            },
            "baxis": {
             "endlinecolor": "#2a3f5f",
             "gridcolor": "white",
             "linecolor": "white",
             "minorgridcolor": "white",
             "startlinecolor": "#2a3f5f"
            },
            "type": "carpet"
           }
          ],
          "table": [
           {
            "cells": {
             "fill": {
              "color": "#EBF0F8"
             },
             "line": {
              "color": "white"
             }
            },
            "header": {
             "fill": {
              "color": "#C8D4E3"
             },
             "line": {
              "color": "white"
             }
            },
            "type": "table"
           }
          ],
          "barpolar": [
           {
            "marker": {
             "line": {
              "color": "#E5ECF6",
              "width": 0.5
             },
             "pattern": {
              "fillmode": "overlay",
              "size": 10,
              "solidity": 0.2
             }
            },
            "type": "barpolar"
           }
          ],
          "pie": [
           {
            "automargin": true,
            "type": "pie"
           }
          ]
         },
         "layout": {
          "autotypenumbers": "strict",
          "colorway": [
           "#636efa",
           "#EF553B",
           "#00cc96",
           "#ab63fa",
           "#FFA15A",
           "#19d3f3",
           "#FF6692",
           "#B6E880",
           "#FF97FF",
           "#FECB52"
          ],
          "font": {
           "color": "#2a3f5f"
          },
          "hovermode": "closest",
          "hoverlabel": {
           "align": "left"
          },
          "paper_bgcolor": "white",
          "plot_bgcolor": "#E5ECF6",
          "polar": {
           "bgcolor": "#E5ECF6",
           "angularaxis": {
            "gridcolor": "white",
            "linecolor": "white",
            "ticks": ""
           },
           "radialaxis": {
            "gridcolor": "white",
            "linecolor": "white",
            "ticks": ""
           }
          },
          "ternary": {
           "bgcolor": "#E5ECF6",
           "aaxis": {
            "gridcolor": "white",
            "linecolor": "white",
            "ticks": ""
           },
           "baxis": {
            "gridcolor": "white",
            "linecolor": "white",
            "ticks": ""
           },
           "caxis": {
            "gridcolor": "white",
            "linecolor": "white",
            "ticks": ""
           }
          },
          "coloraxis": {
           "colorbar": {
            "outlinewidth": 0,
            "ticks": ""
           }
          },
          "colorscale": {
           "sequential": [
            [
             0,
             "#0d0887"
            ],
            [
             0.1111111111111111,
             "#46039f"
            ],
            [
             0.2222222222222222,
             "#7201a8"
            ],
            [
             0.3333333333333333,
             "#9c179e"
            ],
            [
             0.4444444444444444,
             "#bd3786"
            ],
            [
             0.5555555555555556,
             "#d8576b"
            ],
            [
             0.6666666666666666,
             "#ed7953"
            ],
            [
             0.7777777777777778,
             "#fb9f3a"
            ],
            [
             0.8888888888888888,
             "#fdca26"
            ],
            [
             1,
             "#f0f921"
            ]
           ],
           "sequentialminus": [
            [
             0,
             "#0d0887"
            ],
            [
             0.1111111111111111,
             "#46039f"
            ],
            [
             0.2222222222222222,
             "#7201a8"
            ],
            [
             0.3333333333333333,
             "#9c179e"
            ],
            [
             0.4444444444444444,
             "#bd3786"
            ],
            [
             0.5555555555555556,
             "#d8576b"
            ],
            [
             0.6666666666666666,
             "#ed7953"
            ],
            [
             0.7777777777777778,
             "#fb9f3a"
            ],
            [
             0.8888888888888888,
             "#fdca26"
            ],
            [
             1,
             "#f0f921"
            ]
           ],
           "diverging": [
            [
             0,
             "#8e0152"
            ],
            [
             0.1,
             "#c51b7d"
            ],
            [
             0.2,
             "#de77ae"
            ],
            [
             0.3,
             "#f1b6da"
            ],
            [
             0.4,
             "#fde0ef"
            ],
            [
             0.5,
             "#f7f7f7"
            ],
            [
             0.6,
             "#e6f5d0"
            ],
            [
             0.7,
             "#b8e186"
            ],
            [
             0.8,
             "#7fbc41"
            ],
            [
             0.9,
             "#4d9221"
            ],
            [
             1,
             "#276419"
            ]
           ]
          },
          "xaxis": {
           "gridcolor": "white",
           "linecolor": "white",
           "ticks": "",
           "title": {
            "standoff": 15
           },
           "zerolinecolor": "white",
           "automargin": true,
           "zerolinewidth": 2
          },
          "yaxis": {
           "gridcolor": "white",
           "linecolor": "white",
           "ticks": "",
           "title": {
            "standoff": 15
           },
           "zerolinecolor": "white",
           "automargin": true,
           "zerolinewidth": 2
          },
          "scene": {
           "xaxis": {
            "backgroundcolor": "#E5ECF6",
            "gridcolor": "white",
            "linecolor": "white",
            "showbackground": true,
            "ticks": "",
            "zerolinecolor": "white",
            "gridwidth": 2
           },
           "yaxis": {
            "backgroundcolor": "#E5ECF6",
            "gridcolor": "white",
            "linecolor": "white",
            "showbackground": true,
            "ticks": "",
            "zerolinecolor": "white",
            "gridwidth": 2
           },
           "zaxis": {
            "backgroundcolor": "#E5ECF6",
            "gridcolor": "white",
            "linecolor": "white",
            "showbackground": true,
            "ticks": "",
            "zerolinecolor": "white",
            "gridwidth": 2
           }
          },
          "shapedefaults": {
           "line": {
            "color": "#2a3f5f"
           }
          },
          "annotationdefaults": {
           "arrowcolor": "#2a3f5f",
           "arrowhead": 0,
           "arrowwidth": 1
          },
          "geo": {
           "bgcolor": "white",
           "landcolor": "#E5ECF6",
           "subunitcolor": "white",
           "showland": true,
           "showlakes": true,
           "lakecolor": "white"
          },
          "title": {
           "x": 0.05
          },
          "mapbox": {
           "style": "light"
          }
         }
        },
        "legend": {
         "tracegroupgap": 0
        },
        "margin": {
         "t": 10,
         "r": 20,
         "l": 10,
         "b": 10
        },
        "dragmode": "select",
        "height": 1000
       },
       "config": {
        "plotlyServerURL": "https://plot.ly"
       }
      }
     },
     "metadata": {}
    }
   ],
   "metadata": {}
  },
  {
   "cell_type": "code",
   "execution_count": 14,
   "source": [
    "# make training data, maintain params to de-normalize\n",
    "x_sd_mean, y_sd_mean, train_x, train_y = datasetmaker(fe_data)\n",
    "num_params, test_grid, test_x = grid_maker(train_x)"
   ],
   "outputs": [
    {
     "output_type": "stream",
     "name": "stderr",
     "text": [
      "/var/folders/1x/23xb47sx0675p75hlkw93bfr0000gn/T/ipykernel_3811/3877917134.py:13: UserWarning:\n",
      "\n",
      "Creating a tensor from a list of numpy.ndarrays is extremely slow. Please consider converting the list to a single numpy.ndarray with numpy.array() before converting to a tensor. (Triggered internally at /Users/runner/work/_temp/anaconda/conda-bld/pytorch_1670525473998/work/torch/csrc/utils/tensor_new.cpp:233.)\n",
      "\n"
     ]
    }
   ],
   "metadata": {}
  },
  {
   "cell_type": "code",
   "execution_count": 15,
   "source": [
    "# train model and evaluate\n",
    "likelihood, model = train(train_x, train_y, num_params, config)\n",
    "obs = eval_mod(likelihood, model, test_x)"
   ],
   "outputs": [
    {
     "output_type": "stream",
     "name": "stdout",
     "text": [
      "Iter 1/3000 - Loss: 1.711  lengthscale1: [[1. 1.]]   noise: [0.3 0.3 0.3 0.3 0.3 0.3 0.3 0.3 0.3 0.3 0.3 0.3 0.3 0.3 0.3 0.3 0.3 0.3\n",
      " 0.3 0.3 0.3 0.3 0.3]\n",
      "Iter 101/3000 - Loss: 1.697  lengthscale1: [[0.9381782 0.9361366]]   noise: [0.3 0.3 0.3 0.3 0.3 0.3 0.3 0.3 0.3 0.3 0.3 0.3 0.3 0.3 0.3 0.3 0.3 0.3\n",
      " 0.3 0.3 0.3 0.3 0.3]\n",
      "Iter 201/3000 - Loss: 1.681  lengthscale1: [[0.87816197 0.8704428 ]]   noise: [0.3 0.3 0.3 0.3 0.3 0.3 0.3 0.3 0.3 0.3 0.3 0.3 0.3 0.3 0.3 0.3 0.3 0.3\n",
      " 0.3 0.3 0.3 0.3 0.3]\n",
      "Iter 301/3000 - Loss: 1.663  lengthscale1: [[0.8189943 0.8038044]]   noise: [0.3 0.3 0.3 0.3 0.3 0.3 0.3 0.3 0.3 0.3 0.3 0.3 0.3 0.3 0.3 0.3 0.3 0.3\n",
      " 0.3 0.3 0.3 0.3 0.3]\n",
      "Iter 401/3000 - Loss: 1.641  lengthscale1: [[0.76104194 0.7376768 ]]   noise: [0.3 0.3 0.3 0.3 0.3 0.3 0.3 0.3 0.3 0.3 0.3 0.3 0.3 0.3 0.3 0.3 0.3 0.3\n",
      " 0.3 0.3 0.3 0.3 0.3]\n",
      "Iter 501/3000 - Loss: 1.618  lengthscale1: [[0.70662177 0.6738865 ]]   noise: [0.3 0.3 0.3 0.3 0.3 0.3 0.3 0.3 0.3 0.3 0.3 0.3 0.3 0.3 0.3 0.3 0.3 0.3\n",
      " 0.3 0.3 0.3 0.3 0.3]\n",
      "Iter 601/3000 - Loss: 1.595  lengthscale1: [[0.65916234 0.61413616]]   noise: [0.3 0.3 0.3 0.3 0.3 0.3 0.3 0.3 0.3 0.3 0.3 0.3 0.3 0.3 0.3 0.3 0.3 0.3\n",
      " 0.3 0.3 0.3 0.3 0.3]\n",
      "Iter 701/3000 - Loss: 1.575  lengthscale1: [[0.62109256 0.55942637]]   noise: [0.3 0.3 0.3 0.3 0.3 0.3 0.3 0.3 0.3 0.3 0.3 0.3 0.3 0.3 0.3 0.3 0.3 0.3\n",
      " 0.3 0.3 0.3 0.3 0.3]\n",
      "Iter 801/3000 - Loss: 1.556  lengthscale1: [[0.59256595 0.5099287 ]]   noise: [0.3 0.3 0.3 0.3 0.3 0.3 0.3 0.3 0.3 0.3 0.3 0.3 0.3 0.3 0.3 0.3 0.3 0.3\n",
      " 0.3 0.3 0.3 0.3 0.3]\n",
      "Iter 901/3000 - Loss: 1.540  lengthscale1: [[0.5719904  0.46530434]]   noise: [0.3 0.3 0.3 0.3 0.3 0.3 0.3 0.3 0.3 0.3 0.3 0.3 0.3 0.3 0.3 0.3 0.3 0.3\n",
      " 0.3 0.3 0.3 0.3 0.3]\n",
      "Iter 1001/3000 - Loss: 1.525  lengthscale1: [[0.5572133  0.42503273]]   noise: [0.3 0.3 0.3 0.3 0.3 0.3 0.3 0.3 0.3 0.3 0.3 0.3 0.3 0.3 0.3 0.3 0.3 0.3\n",
      " 0.3 0.3 0.3 0.3 0.3]\n",
      "Iter 1101/3000 - Loss: 1.510  lengthscale1: [[0.5462902 0.3886076]]   noise: [0.3 0.3 0.3 0.3 0.3 0.3 0.3 0.3 0.3 0.3 0.3 0.3 0.3 0.3 0.3 0.3 0.3 0.3\n",
      " 0.3 0.3 0.3 0.3 0.3]\n",
      "Iter 1201/3000 - Loss: 1.496  lengthscale1: [[0.5377045  0.35565233]]   noise: [0.3 0.3 0.3 0.3 0.3 0.3 0.3 0.3 0.3 0.3 0.3 0.3 0.3 0.3 0.3 0.3 0.3 0.3\n",
      " 0.3 0.3 0.3 0.3 0.3]\n",
      "Iter 1301/3000 - Loss: 1.483  lengthscale1: [[0.53026533 0.32595897]]   noise: [0.3 0.3 0.3 0.3 0.3 0.3 0.3 0.3 0.3 0.3 0.3 0.3 0.3 0.3 0.3 0.3 0.3 0.3\n",
      " 0.3 0.3 0.3 0.3 0.3]\n",
      "Iter 1401/3000 - Loss: 1.471  lengthscale1: [[0.5229102  0.29943004]]   noise: [0.3 0.3 0.3 0.3 0.3 0.3 0.3 0.3 0.3 0.3 0.3 0.3 0.3 0.3 0.3 0.3 0.3 0.3\n",
      " 0.3 0.3 0.3 0.3 0.3]\n",
      "Iter 1501/3000 - Loss: 1.460  lengthscale1: [[0.51459426 0.27596402]]   noise: [0.3 0.3 0.3 0.3 0.3 0.3 0.3 0.3 0.3 0.3 0.3 0.3 0.3 0.3 0.3 0.3 0.3 0.3\n",
      " 0.3 0.3 0.3 0.3 0.3]\n",
      "Iter 1601/3000 - Loss: 1.450  lengthscale1: [[0.504361  0.2553665]]   noise: [0.3 0.3 0.3 0.3 0.3 0.3 0.3 0.3 0.3 0.3 0.3 0.3 0.3 0.3 0.3 0.3 0.3 0.3\n",
      " 0.3 0.3 0.3 0.3 0.3]\n",
      "Iter 1701/3000 - Loss: 1.442  lengthscale1: [[0.49153835 0.23733653]]   noise: [0.3 0.3 0.3 0.3 0.3 0.3 0.3 0.3 0.3 0.3 0.3 0.3 0.3 0.3 0.3 0.3 0.3 0.3\n",
      " 0.3 0.3 0.3 0.3 0.3]\n",
      "Iter 1801/3000 - Loss: 1.434  lengthscale1: [[0.47590923 0.22151428]]   noise: [0.3 0.3 0.3 0.3 0.3 0.3 0.3 0.3 0.3 0.3 0.3 0.3 0.3 0.3 0.3 0.3 0.3 0.3\n",
      " 0.3 0.3 0.3 0.3 0.3]\n",
      "Iter 1901/3000 - Loss: 1.427  lengthscale1: [[0.4577444  0.20754382]]   noise: [0.3 0.3 0.3 0.3 0.3 0.3 0.3 0.3 0.3 0.3 0.3 0.3 0.3 0.3 0.3 0.3 0.3 0.3\n",
      " 0.3 0.3 0.3 0.3 0.3]\n",
      "Iter 2001/3000 - Loss: 1.421  lengthscale1: [[0.4376934 0.1951164]]   noise: [0.3 0.3 0.3 0.3 0.3 0.3 0.3 0.3 0.3 0.3 0.3 0.3 0.3 0.3 0.3 0.3 0.3 0.3\n",
      " 0.3 0.3 0.3 0.3 0.3]\n",
      "Iter 2101/3000 - Loss: 1.415  lengthscale1: [[0.416596   0.18398775]]   noise: [0.3 0.3 0.3 0.3 0.3 0.3 0.3 0.3 0.3 0.3 0.3 0.3 0.3 0.3 0.3 0.3 0.3 0.3\n",
      " 0.3 0.3 0.3 0.3 0.3]\n",
      "Iter 2201/3000 - Loss: 1.410  lengthscale1: [[0.39529034 0.17397282]]   noise: [0.3 0.3 0.3 0.3 0.3 0.3 0.3 0.3 0.3 0.3 0.3 0.3 0.3 0.3 0.3 0.3 0.3 0.3\n",
      " 0.3 0.3 0.3 0.3 0.3]\n",
      "Iter 2301/3000 - Loss: 1.405  lengthscale1: [[0.37446538 0.16493218]]   noise: [0.3 0.3 0.3 0.3 0.3 0.3 0.3 0.3 0.3 0.3 0.3 0.3 0.3 0.3 0.3 0.3 0.3 0.3\n",
      " 0.3 0.3 0.3 0.3 0.3]\n",
      "Iter 2401/3000 - Loss: 1.401  lengthscale1: [[0.35458645 0.15675628]]   noise: [0.3 0.3 0.3 0.3 0.3 0.3 0.3 0.3 0.3 0.3 0.3 0.3 0.3 0.3 0.3 0.3 0.3 0.3\n",
      " 0.3 0.3 0.3 0.3 0.3]\n",
      "Iter 2501/3000 - Loss: 1.398  lengthscale1: [[0.33588913 0.14935541]]   noise: [0.3 0.3 0.3 0.3 0.3 0.3 0.3 0.3 0.3 0.3 0.3 0.3 0.3 0.3 0.3 0.3 0.3 0.3\n",
      " 0.3 0.3 0.3 0.3 0.3]\n",
      "Iter 2601/3000 - Loss: 1.395  lengthscale1: [[0.3184196  0.14265308]]   noise: [0.3 0.3 0.3 0.3 0.3 0.3 0.3 0.3 0.3 0.3 0.3 0.3 0.3 0.3 0.3 0.3 0.3 0.3\n",
      " 0.3 0.3 0.3 0.3 0.3]\n",
      "Iter 2701/3000 - Loss: 1.392  lengthscale1: [[0.3020953  0.13658173]]   noise: [0.3 0.3 0.3 0.3 0.3 0.3 0.3 0.3 0.3 0.3 0.3 0.3 0.3 0.3 0.3 0.3 0.3 0.3\n",
      " 0.3 0.3 0.3 0.3 0.3]\n",
      "Iter 2801/3000 - Loss: 1.390  lengthscale1: [[0.28676006 0.13108076]]   noise: [0.3 0.3 0.3 0.3 0.3 0.3 0.3 0.3 0.3 0.3 0.3 0.3 0.3 0.3 0.3 0.3 0.3 0.3\n",
      " 0.3 0.3 0.3 0.3 0.3]\n",
      "Iter 2901/3000 - Loss: 1.388  lengthscale1: [[0.27223253 0.12609354]]   noise: [0.3 0.3 0.3 0.3 0.3 0.3 0.3 0.3 0.3 0.3 0.3 0.3 0.3 0.3 0.3 0.3 0.3 0.3\n",
      " 0.3 0.3 0.3 0.3 0.3]\n"
     ]
    }
   ],
   "metadata": {}
  },
  {
   "cell_type": "code",
   "execution_count": 16,
   "source": [
    "# get normalized predictions\n",
    "bounds = get_bounds(n=30)\n",
    "pred_labels, upper_surf, lower_surf, acqs = acq(obs, train_y, bounds)\n",
    "\n",
    "# undo normalization\n",
    "raw_train_x, raw_train_y, raw_test_grid, raw_pred_labels, raw_upper_surf, raw_lower_surf = un_norm_all(x_sd_mean, y_sd_mean, train_x, train_y, test_grid, pred_labels, upper_surf, lower_surf)"
   ],
   "outputs": [],
   "metadata": {}
  },
  {
   "cell_type": "code",
   "execution_count": 17,
   "source": [
    "# undo normalization and save to csv\n",
    "pred_to_csv(acqs, raw_pred_labels, raw_test_grid)"
   ],
   "outputs": [],
   "metadata": {}
  },
  {
   "cell_type": "code",
   "execution_count": 18,
   "source": [
    "# visualize predictions and acquistion manifolds\n",
    "vis_pred(raw_train_x, raw_train_y, raw_test_grid, raw_pred_labels)\n",
    "vis_acq(raw_train_x, raw_train_y, raw_test_grid, raw_pred_labels, raw_upper_surf, raw_lower_surf, acqs)"
   ],
   "outputs": [
    {
     "output_type": "display_data",
     "data": {
      "application/vnd.plotly.v1+json": {
       "data": [
        {
         "name": "GP regression",
         "x": [
          2.276071548461914,
          2.745652675628662,
          3.2152342796325684,
          3.6848154067993164,
          4.1543965339660645,
          4.6239776611328125,
          5.093559265136719,
          5.563140392303467,
          6.032721519470215,
          6.502303123474121,
          6.971884250640869,
          7.441465377807617,
          7.911046504974365,
          8.380627632141113,
          8.85020923614502,
          9.319790840148926,
          9.789371490478516,
          10.258953094482422,
          10.728534698486328,
          11.198115348815918,
          11.667696952819824,
          12.137277603149414,
          12.60685920715332,
          13.076440811157227,
          13.546022415161133,
          14.015603065490723,
          14.485183715820312,
          14.954765319824219,
          15.424346923828125,
          15.893928527832031
         ],
         "y": [
          0.3392857313156128,
          0.5055418014526367,
          0.6717979907989502,
          0.8380541801452637,
          1.0043102502822876,
          1.170566439628601,
          1.336822509765625,
          1.5030786991119385,
          1.669334888458252,
          1.8355910778045654,
          2.001847267150879,
          2.1681032180786133,
          2.3343594074249268,
          2.5006155967712402,
          2.6668717861175537,
          2.833127975463867,
          2.9993841648101807,
          3.1656405925750732,
          3.3318967819213867,
          3.498152732849121,
          3.6644089221954346,
          3.830665111541748,
          3.9969213008880615,
          4.163177490234375,
          4.329433441162109,
          4.495689392089844,
          4.661945819854736,
          4.828202247619629,
          4.994458198547363,
          5.160714149475098
         ],
         "z": [
          [
           1.8951994180679321,
           1.9283733367919922,
           1.9834184646606445,
           1.9543565511703491,
           1.8678072690963745,
           1.8660283088684082,
           2.029503345489502,
           2.281282663345337,
           2.4835045337677,
           2.571782112121582,
           2.5746092796325684,
           2.5480990409851074,
           2.5255212783813477,
           2.5136826038360596,
           2.508716344833374,
           2.5066819190979004,
           2.505768060684204,
           2.5053539276123047,
           2.5051887035369873,
           2.505134344100952,
           2.505120038986206,
           2.5051169395446777,
           2.5051164627075195,
           2.5051164627075195,
           2.5051164627075195,
           2.5051164627075195,
           2.5051164627075195,
           2.5051164627075195,
           2.5051164627075195,
           2.5051164627075195
          ],
          [
           1.6949474811553955,
           1.7295737266540527,
           1.793174147605896,
           1.751652717590332,
           1.6435508728027344,
           1.655232310295105,
           1.8882427215576172,
           2.235644817352295,
           2.5113956928253174,
           2.6293771266937256,
           2.6297378540039062,
           2.590191125869751,
           2.556070566177368,
           2.5355823040008545,
           2.5232508182525635,
           2.514979839324951,
           2.50968337059021,
           2.5068581104278564,
           2.50565767288208,
           2.505253553390503,
           2.5051448345184326,
           2.5051212310791016,
           2.5051169395446777,
           2.5051164627075195,
           2.5051164627075195,
           2.5051164627075195,
           2.5051164627075195,
           2.5051164627075195,
           2.5051164627075195,
           2.5051164627075195
          ],
          [
           1.860561490058899,
           1.849340796470642,
           1.8608920574188232,
           1.8159105777740479,
           1.7581757307052612,
           1.825299620628357,
           2.075908660888672,
           2.4055590629577637,
           2.654153823852539,
           2.750916004180908,
           2.737255096435547,
           2.6880955696105957,
           2.6441831588745117,
           2.608534574508667,
           2.5752923488616943,
           2.54579496383667,
           2.5246191024780273,
           2.512781858444214,
           2.507594108581543,
           2.505781650543213,
           2.5052666664123535,
           2.505145311355591,
           2.5051212310791016,
           2.505117177963257,
           2.5051164627075195,
           2.5051164627075195,
           2.5051164627075195,
           2.5051164627075195,
           2.5051164627075195,
           2.5051164627075195
          ],
          [
           2.1243743896484375,
           2.0339863300323486,
           1.9566603899002075,
           1.9049568176269531,
           1.933044672012329,
           2.099022388458252,
           2.3890342712402344,
           2.6991159915924072,
           2.9085640907287598,
           2.9712696075439453,
           2.933032989501953,
           2.8670692443847656,
           2.807494640350342,
           2.7475244998931885,
           2.6789369583129883,
           2.611443281173706,
           2.559760332107544,
           2.528809070587158,
           2.5138885974884033,
           2.5079216957092285,
           2.505894899368286,
           2.505302906036377,
           2.505154609680176,
           2.5051229000091553,
           2.505117416381836,
           2.5051164627075195,
           2.5051164627075195,
           2.5051164627075195,
           2.5051164627075195,
           2.5051164627075195
          ],
          [
           2.2664716243743896,
           2.133756637573242,
           2.010416030883789,
           1.9599406719207764,
           2.0426251888275146,
           2.2718634605407715,
           2.5908045768737793,
           2.892181396484375,
           3.0765628814697266,
           3.1155576705932617,
           3.0638773441314697,
           2.9986860752105713,
           2.950082540512085,
           2.8986058235168457,
           2.8235342502593994,
           2.7315008640289307,
           2.644587993621826,
           2.579202890396118,
           2.538825511932373,
           2.5181267261505127,
           2.5093324184417725,
           2.5062544345855713,
           2.505371570587158,
           2.50516414642334,
           2.505124092102051,
           2.505117416381836,
           2.5051164627075195,
           2.5051164627075195,
           2.5051164627075195,
           2.5051164627075195
          ],
          [
           2.3646512031555176,
           2.2689266204833984,
           2.1855437755584717,
           2.1718521118164062,
           2.271984338760376,
           2.4802968502044678,
           2.734571933746338,
           2.946315050125122,
           3.0512540340423584,
           3.051431655883789,
           3.013108253479004,
           3.0100157260894775,
           3.0601329803466797,
           3.1172237396240234,
           3.117954969406128,
           3.0344693660736084,
           2.890901565551758,
           2.7396023273468018,
           2.623136043548584,
           2.5541152954101562,
           2.521902561187744,
           2.509897232055664,
           2.506272554397583,
           2.505364418029785,
           2.50516676902771,
           2.505126476287842,
           2.5051183700561523,
           2.5051167011260986,
           2.5051164627075195,
           2.5051164627075195
          ],
          [
           2.453310489654541,
           2.4233298301696777,
           2.413998603820801,
           2.4601073265075684,
           2.5823800563812256,
           2.760098695755005,
           2.9302029609680176,
           3.024390697479248,
           3.0198535919189453,
           2.963052749633789,
           2.945371627807617,
           3.0434436798095703,
           3.259413242340088,
           3.5016160011291504,
           3.6325836181640625,
           3.564361095428467,
           3.3239803314208984,
           3.0249674320220947,
           2.7767255306243896,
           2.62286114692688,
           2.5483078956604004,
           2.519066095352173,
           2.5093328952789307,
           2.5063726902008057,
           2.505483388900757,
           2.5052154064178467,
           2.5051395893096924,
           2.5051209926605225,
           2.505117177963257,
           2.5051164627075195
          ],
          [
           2.498354434967041,
           2.504366159439087,
           2.535804510116577,
           2.614759922027588,
           2.7493929862976074,
           2.9113426208496094,
           3.0370593070983887,
           3.068141222000122,
           3.002552032470703,
           2.9085891246795654,
           2.8883516788482666,
           3.018047571182251,
           3.2942543029785156,
           3.6118879318237305,
           3.8085055351257324,
           3.7712621688842773,
           3.5204477310180664,
           3.1834847927093506,
           2.890091896057129,
           2.6971707344055176,
           2.593581438064575,
           2.544403553009033,
           2.5219788551330566,
           2.5118229389190674,
           2.507460594177246,
           2.5058090686798096,
           2.5052857398986816,
           2.505150318145752,
           2.505121946334839,
           2.505117177963257
          ],
          [
           2.508086681365967,
           2.518507480621338,
           2.5475423336029053,
           2.6084370613098145,
           2.7047228813171387,
           2.815180540084839,
           2.89489483833313,
           2.903209686279297,
           2.8377585411071777,
           2.7399356365203857,
           2.6674396991729736,
           2.661936044692993,
           2.7324037551879883,
           2.8531503677368164,
           2.9752607345581055,
           3.0513691902160645,
           3.0588808059692383,
           3.00423526763916,
           2.910634994506836,
           2.8036952018737793,
           2.703374147415161,
           2.622076988220215,
           2.565126657485962,
           2.531315803527832,
           2.514674663543701,
           2.507993459701538,
           2.5058250427246094,
           2.505258560180664,
           2.5051395893096924,
           2.5051193237304688
          ],
          [
           2.5069379806518555,
           2.511714220046997,
           2.524221897125244,
           2.549741744995117,
           2.589529275894165,
           2.6345531940460205,
           2.6653647422790527,
           2.661689519882202,
           2.611814498901367,
           2.5083632469177246,
           2.3372437953948975,
           2.087386131286621,
           1.7924840450286865,
           1.5640522241592407,
           1.5499682426452637,
           1.817873477935791,
           2.2714810371398926,
           2.7060790061950684,
           2.9582107067108154,
           2.9984028339385986,
           2.9009628295898438,
           2.7612152099609375,
           2.642282485961914,
           2.5661470890045166,
           2.527561664581299,
           2.511894702911377,
           2.5067882537841797,
           2.5054519176483154,
           2.505171060562134,
           2.5051236152648926
          ],
          [
           2.505566358566284,
           2.5067009925842285,
           2.509641647338867,
           2.515608310699463,
           2.5248465538024902,
           2.5349929332733154,
           2.5402626991271973,
           2.5310778617858887,
           2.4901208877563477,
           2.382920026779175,
           2.1558260917663574,
           1.768844485282898,
           1.2696869373321533,
           0.8464224338531494,
           0.7566756010055542,
           1.1321629285812378,
           1.835257887840271,
           2.5431313514709473,
           2.9879953861236572,
           3.109694004058838,
           3.013089656829834,
           2.839996576309204,
           2.68593168258667,
           2.5858449935913086,
           2.534848690032959,
           2.5141005516052246,
           2.5073328018188477,
           2.505561351776123,
           2.5051889419555664,
           2.5051259994506836
          ],
          [
           2.505176067352295,
           2.5053253173828125,
           2.505711317062378,
           2.5064899921417236,
           2.5076632499694824,
           2.5087335109710693,
           2.508013963699341,
           2.500635862350464,
           2.473461627960205,
           2.397581100463867,
           2.2284634113311768,
           1.9330127239227295,
           1.5471545457839966,
           1.2161952257156372,
           1.140034556388855,
           1.4222615957260132,
           1.959099292755127,
           2.5034334659576416,
           2.849175214767456,
           2.948767900466919,
           2.881117820739746,
           2.753840923309326,
           2.63960599899292,
           2.5651986598968506,
           2.527250289916992,
           2.511805295944214,
           2.5067665576934814,
           2.5054476261138916,
           2.5051703453063965,
           2.5051236152648926
          ],
          [
           2.5051207542419434,
           2.505131721496582,
           2.505160093307495,
           2.5052154064178467,
           2.5052855014801025,
           2.5052552223205566,
           2.504612445831299,
           2.501488208770752,
           2.4903717041015625,
           2.4589362144470215,
           2.388225555419922,
           2.264157772064209,
           2.1017825603485107,
           1.962242603302002,
           1.9297113418579102,
           2.0479063987731934,
           2.2733426094055176,
           2.502202272415161,
           2.6478264331817627,
           2.690128803253174,
           2.6621596813201904,
           2.609063148498535,
           2.5613365173339844,
           2.5302350521087646,
           2.5143702030181885,
           2.5079128742218018,
           2.5058062076568604,
           2.5052549839019775,
           2.505138874053955,
           2.5051193237304688
          ],
          [
           2.5051164627075195,
           2.5051169395446777,
           2.5051181316375732,
           2.505120038986206,
           2.5051190853118896,
           2.505092144012451,
           2.504927158355713,
           2.5041918754577637,
           2.5015921592712402,
           2.4942238330841064,
           2.4776222705841064,
           2.4484715461730957,
           2.410305976867676,
           2.3774967193603516,
           2.36983060836792,
           2.3975882530212402,
           2.450556516647339,
           2.504340648651123,
           2.538574457168579,
           2.5485334396362305,
           2.541980028152466,
           2.5295190811157227,
           2.518315315246582,
           2.5110135078430176,
           2.507288932800293,
           2.505772829055786,
           2.5052783489227295,
           2.5051488876342773,
           2.5051217079162598,
           2.5051169395446777
          ],
          [
           2.5051164627075195,
           2.5051164627075195,
           2.5051164627075195,
           2.5051164627075195,
           2.5051157474517822,
           2.5051119327545166,
           2.50508975982666,
           2.504992723464966,
           2.504650354385376,
           2.503679037094116,
           2.501490354537964,
           2.4976468086242676,
           2.492614269256592,
           2.4882876873016357,
           2.487276315689087,
           2.490935802459717,
           2.497920036315918,
           2.505012035369873,
           2.509526252746582,
           2.5108399391174316,
           2.5099761486053467,
           2.508333444595337,
           2.5068564414978027,
           2.5058937072753906,
           2.5054028034210205,
           2.5052030086517334,
           2.5051376819610596,
           2.5051207542419434,
           2.5051169395446777,
           2.5051164627075195
          ],
          [
           2.5051164627075195,
           2.5051164627075195,
           2.5051164627075195,
           2.5051164627075195,
           2.5051162242889404,
           2.5051159858703613,
           2.5051143169403076,
           2.5051071643829346,
           2.50508189201355,
           2.505009889602661,
           2.504848003387451,
           2.504563331604004,
           2.504190683364868,
           2.5038704872131348,
           2.503795623779297,
           2.5040664672851562,
           2.5045835971832275,
           2.505108594894409,
           2.5054428577423096,
           2.505540132522583,
           2.505476236343384,
           2.505354404449463,
           2.5052452087402344,
           2.505173921585083,
           2.5051374435424805,
           2.505122661590576,
           2.505117893218994,
           2.5051167011260986,
           2.5051164627075195,
           2.5051164627075195
          ],
          [
           2.5051164627075195,
           2.5051164627075195,
           2.5051164627075195,
           2.5051164627075195,
           2.5051164627075195,
           2.5051162242889404,
           2.5051162242889404,
           2.5051159858703613,
           2.505115032196045,
           2.5051119327545166,
           2.5051052570343018,
           2.5050933361053467,
           2.505077838897705,
           2.5050644874572754,
           2.505061388015747,
           2.505072593688965,
           2.505094289779663,
           2.5051159858703613,
           2.505129814147949,
           2.505133867263794,
           2.505131244659424,
           2.5051262378692627,
           2.5051217079162598,
           2.5051188468933105,
           2.505117177963257,
           2.5051167011260986,
           2.5051164627075195,
           2.5051164627075195,
           2.5051164627075195,
           2.5051164627075195
          ],
          [
           2.5051164627075195,
           2.5051164627075195,
           2.5051164627075195,
           2.5051164627075195,
           2.5051164627075195,
           2.5051164627075195,
           2.5051164627075195,
           2.5051164627075195,
           2.5051162242889404,
           2.5051162242889404,
           2.5051159858703613,
           2.5051157474517822,
           2.505115509033203,
           2.505115032196045,
           2.505115032196045,
           2.505115270614624,
           2.5051157474517822,
           2.5051164627075195,
           2.5051167011260986,
           2.5051167011260986,
           2.5051167011260986,
           2.5051167011260986,
           2.5051164627075195,
           2.5051164627075195,
           2.5051164627075195,
           2.5051164627075195,
           2.5051164627075195,
           2.5051164627075195,
           2.5051164627075195,
           2.5051164627075195
          ],
          [
           2.5051164627075195,
           2.5051164627075195,
           2.5051164627075195,
           2.5051164627075195,
           2.5051164627075195,
           2.5051164627075195,
           2.5051164627075195,
           2.5051164627075195,
           2.5051164627075195,
           2.5051164627075195,
           2.5051164627075195,
           2.5051164627075195,
           2.5051162242889404,
           2.5051162242889404,
           2.5051162242889404,
           2.5051162242889404,
           2.5051164627075195,
           2.5051164627075195,
           2.5051164627075195,
           2.5051164627075195,
           2.5051164627075195,
           2.5051164627075195,
           2.5051164627075195,
           2.5051164627075195,
           2.5051164627075195,
           2.5051164627075195,
           2.5051164627075195,
           2.5051164627075195,
           2.5051164627075195,
           2.5051164627075195
          ],
          [
           2.5051164627075195,
           2.5051164627075195,
           2.5051164627075195,
           2.5051164627075195,
           2.5051164627075195,
           2.5051164627075195,
           2.5051164627075195,
           2.5051164627075195,
           2.5051164627075195,
           2.5051164627075195,
           2.5051164627075195,
           2.5051164627075195,
           2.5051164627075195,
           2.5051164627075195,
           2.5051164627075195,
           2.5051164627075195,
           2.5051164627075195,
           2.5051164627075195,
           2.5051164627075195,
           2.5051164627075195,
           2.5051164627075195,
           2.5051164627075195,
           2.5051164627075195,
           2.5051164627075195,
           2.5051164627075195,
           2.5051164627075195,
           2.5051164627075195,
           2.5051164627075195,
           2.5051164627075195,
           2.5051164627075195
          ],
          [
           2.5051164627075195,
           2.5051164627075195,
           2.5051164627075195,
           2.5051164627075195,
           2.5051164627075195,
           2.5051164627075195,
           2.5051164627075195,
           2.5051164627075195,
           2.5051164627075195,
           2.5051164627075195,
           2.5051164627075195,
           2.5051164627075195,
           2.5051164627075195,
           2.5051164627075195,
           2.5051164627075195,
           2.5051164627075195,
           2.5051164627075195,
           2.5051164627075195,
           2.5051164627075195,
           2.5051164627075195,
           2.5051164627075195,
           2.5051164627075195,
           2.5051164627075195,
           2.5051164627075195,
           2.5051164627075195,
           2.5051164627075195,
           2.5051164627075195,
           2.5051164627075195,
           2.5051164627075195,
           2.5051164627075195
          ],
          [
           2.5051164627075195,
           2.5051164627075195,
           2.5051164627075195,
           2.5051164627075195,
           2.5051164627075195,
           2.5051164627075195,
           2.5051164627075195,
           2.5051164627075195,
           2.5051162242889404,
           2.5051162242889404,
           2.5051162242889404,
           2.5051162242889404,
           2.5051159858703613,
           2.5051159858703613,
           2.5051159858703613,
           2.5051159858703613,
           2.5051159858703613,
           2.5051162242889404,
           2.5051162242889404,
           2.5051162242889404,
           2.5051162242889404,
           2.5051162242889404,
           2.5051162242889404,
           2.5051164627075195,
           2.5051167011260986,
           2.5051167011260986,
           2.5051169395446777,
           2.5051169395446777,
           2.5051169395446777,
           2.5051167011260986
          ],
          [
           2.5051164627075195,
           2.5051164627075195,
           2.5051164627075195,
           2.5051164627075195,
           2.5051164627075195,
           2.5051164627075195,
           2.5051162242889404,
           2.5051162242889404,
           2.5051157474517822,
           2.5051145553588867,
           2.5051119327545166,
           2.5051074028015137,
           2.5051019191741943,
           2.505096912384033,
           2.5050952434539795,
           2.5050978660583496,
           2.50510311126709,
           2.505108594894409,
           2.505112409591675,
           2.5051143169403076,
           2.505114793777466,
           2.505114793777466,
           2.505115509033203,
           2.5051190853118896,
           2.5051262378692627,
           2.5051352977752686,
           2.5051424503326416,
           2.5051443576812744,
           2.505140542984009,
           2.5051331520080566
          ],
          [
           2.5051164627075195,
           2.5051164627075195,
           2.5051164627075195,
           2.5051164627075195,
           2.5051162242889404,
           2.5051162242889404,
           2.505115509033203,
           2.505112648010254,
           2.5051021575927734,
           2.505073070526123,
           2.505009174346924,
           2.5049002170562744,
           2.5047621726989746,
           2.5046441555023193,
           2.5046041011810303,
           2.504664421081543,
           2.504791736602783,
           2.5049257278442383,
           2.505021572113037,
           2.505068302154541,
           2.5050783157348633,
           2.5050764083862305,
           2.505098342895508,
           2.505185842514038,
           2.5053577423095703,
           2.5055763721466064,
           2.505751371383667,
           2.50579833984375,
           2.5057034492492676,
           2.5055277347564697
          ],
          [
           2.5051164627075195,
           2.5051164627075195,
           2.5051164627075195,
           2.5051162242889404,
           2.5051159858703613,
           2.5051143169403076,
           2.5051050186157227,
           2.5050644874572754,
           2.5049221515655518,
           2.5045244693756104,
           2.503649950027466,
           2.5021607875823975,
           2.5002710819244385,
           2.4986557960510254,
           2.4981091022491455,
           2.498934030532837,
           2.500676155090332,
           2.502507448196411,
           2.503818988800049,
           2.5044589042663574,
           2.50459623336792,
           2.5045688152313232,
           2.5048694610595703,
           2.50606632232666,
           2.5084190368652344,
           2.5114119052886963,
           2.513805627822876,
           2.5144472122192383,
           2.5131478309631348,
           2.5107457637786865
          ],
          [
           2.5051164627075195,
           2.5051164627075195,
           2.5051162242889404,
           2.5051159858703613,
           2.5051140785217285,
           2.505100965499878,
           2.5050296783447266,
           2.5047178268432617,
           2.5036237239837646,
           2.5005691051483154,
           2.493849277496338,
           2.482408285140991,
           2.467890501022339,
           2.455479383468628,
           2.451280355453491,
           2.4576170444488525,
           2.4710018634796143,
           2.485072612762451,
           2.4951493740081787,
           2.5000643730163574,
           2.5011210441589355,
           2.5009098052978516,
           2.5032196044921875,
           2.5124142169952393,
           2.530491590499878,
           2.5534839630126953,
           2.5718767642974854,
           2.57680606842041,
           2.5668225288391113,
           2.548367500305176
          ],
          [
           2.5051164627075195,
           2.5051164627075195,
           2.5051162242889404,
           2.505115270614624,
           2.5051069259643555,
           2.5050504207611084,
           2.5047428607940674,
           2.50339674949646,
           2.498676300048828,
           2.4854981899261475,
           2.4565062522888184,
           2.407146692276001,
           2.344512462615967,
           2.290966033935547,
           2.272850275039673,
           2.3001887798309326,
           2.3579349517822266,
           2.4186408519744873,
           2.4621152877807617,
           2.483320951461792,
           2.4878790378570557,
           2.4869675636291504,
           2.4969332218170166,
           2.5366017818450928,
           2.614593982696533,
           2.7137913703918457,
           2.7931432723999023,
           2.8144092559814453,
           2.7713370323181152,
           2.691716432571411
          ],
          [
           2.5051164627075195,
           2.5051162242889404,
           2.5051159858703613,
           2.5051136016845703,
           2.5050933361053467,
           2.5049564838409424,
           2.504211664199829,
           2.500950574874878,
           2.4895145893096924,
           2.4575889110565186,
           2.387352228164673,
           2.2677719593048096,
           2.116032600402832,
           1.98630952835083,
           1.9424220323562622,
           2.008652925491333,
           2.148550510406494,
           2.2956180572509766,
           2.4009406566619873,
           2.4523141384124756,
           2.4633569717407227,
           2.4611494541168213,
           2.4852912425994873,
           2.5813944339752197,
           2.770341634750366,
           3.0106613636016846,
           3.2028918266296387,
           3.2544195652008057,
           3.1500699520111084,
           2.9571776390075684
          ],
          [
           2.5051164627075195,
           2.5051162242889404,
           2.5051159858703613,
           2.505112648010254,
           2.5050852298736572,
           2.504899024963379,
           2.503885507583618,
           2.4994492530822754,
           2.483891725540161,
           2.440459966659546,
           2.344910144805908,
           2.1822333335876465,
           1.9758076667785645,
           1.7993324995040894,
           1.7396278381347656,
           1.8297284841537476,
           2.0200448036193848,
           2.2201154232025146,
           2.363395929336548,
           2.433284282684326,
           2.4483070373535156,
           2.445303440093994,
           2.4781463146209717,
           2.6088850498199463,
           2.8659322261810303,
           3.192852020263672,
           3.4543662071228027,
           3.52447509765625,
           3.382510185241699,
           3.1200995445251465
          ],
          [
           2.5051164627075195,
           2.5051162242889404,
           2.5051159858703613,
           2.5051136016845703,
           2.5050923824310303,
           2.5049502849578857,
           2.504176139831543,
           2.5007870197296143,
           2.4889025688171387,
           2.4557247161865234,
           2.3827333450317383,
           2.258463144302368,
           2.1007723808288574,
           1.9659614562988281,
           1.9203526973724365,
           1.9891812801361084,
           2.134565830230713,
           2.2874014377593994,
           2.396854877471924,
           2.4502429962158203,
           2.461719274520874,
           2.459425210952759,
           2.484513759613037,
           2.5843842029571533,
           2.780745267868042,
           3.030487537384033,
           3.2302591800689697,
           3.28381085395813,
           3.175363063812256,
           2.974909543991089
          ]
         ],
         "type": "surface"
        },
        {
         "marker": {
          "color": "darkgreen"
         },
         "mode": "markers",
         "name": "training data",
         "x": [
          2.7300000190734863,
          3.4000000953674316,
          3.7899999618530273,
          6.440000057220459,
          5.360000133514404,
          8.989999771118164,
          8.800000190734863,
          14.670000076293945,
          5.239999771118164,
          14.890000343322754,
          10.130000114440918,
          4.510000228881836,
          5.369999885559082,
          4.880000114440918,
          6.760000228881836,
          7.769999980926514,
          8.729999542236328,
          9.380000114440918,
          10.479999542236328,
          11.010000228881836,
          14.710000038146973,
          15.4399995803833,
          13.369999885559082
         ],
         "y": [
          0.5,
          0.5,
          1,
          1,
          1.5,
          1.5,
          5,
          5,
          0.5,
          5,
          2,
          0.5,
          0.5,
          0.5,
          1,
          1,
          2,
          2,
          2,
          2,
          5,
          5,
          5
         ],
         "z": [
          0.8730257749557495,
          2.6772446632385254,
          1.6990152597427368,
          3.8050527572631836,
          3.3348562717437744,
          4.535152912139893,
          1.3625102043151855,
          3.8412907123565674,
          1.2013570070266724,
          3.5136520862579346,
          3.4708714485168457,
          0.26329827308654785,
          2.7753403186798096,
          2.591306209564209,
          2.579984426498413,
          3.173818588256836,
          0.13150501251220703,
          0.45116376876831055,
          2.1266398429870605,
          3.468212842941284,
          3.685852527618408,
          3.445655584335327,
          2.6515469551086426
         ],
         "type": "scatter3d"
        }
       ],
       "layout": {
        "template": {
         "data": {
          "histogram2dcontour": [
           {
            "type": "histogram2dcontour",
            "colorbar": {
             "outlinewidth": 0,
             "ticks": ""
            },
            "colorscale": [
             [
              0,
              "#0d0887"
             ],
             [
              0.1111111111111111,
              "#46039f"
             ],
             [
              0.2222222222222222,
              "#7201a8"
             ],
             [
              0.3333333333333333,
              "#9c179e"
             ],
             [
              0.4444444444444444,
              "#bd3786"
             ],
             [
              0.5555555555555556,
              "#d8576b"
             ],
             [
              0.6666666666666666,
              "#ed7953"
             ],
             [
              0.7777777777777778,
              "#fb9f3a"
             ],
             [
              0.8888888888888888,
              "#fdca26"
             ],
             [
              1,
              "#f0f921"
             ]
            ]
           }
          ],
          "choropleth": [
           {
            "type": "choropleth",
            "colorbar": {
             "outlinewidth": 0,
             "ticks": ""
            }
           }
          ],
          "histogram2d": [
           {
            "type": "histogram2d",
            "colorbar": {
             "outlinewidth": 0,
             "ticks": ""
            },
            "colorscale": [
             [
              0,
              "#0d0887"
             ],
             [
              0.1111111111111111,
              "#46039f"
             ],
             [
              0.2222222222222222,
              "#7201a8"
             ],
             [
              0.3333333333333333,
              "#9c179e"
             ],
             [
              0.4444444444444444,
              "#bd3786"
             ],
             [
              0.5555555555555556,
              "#d8576b"
             ],
             [
              0.6666666666666666,
              "#ed7953"
             ],
             [
              0.7777777777777778,
              "#fb9f3a"
             ],
             [
              0.8888888888888888,
              "#fdca26"
             ],
             [
              1,
              "#f0f921"
             ]
            ]
           }
          ],
          "heatmap": [
           {
            "type": "heatmap",
            "colorbar": {
             "outlinewidth": 0,
             "ticks": ""
            },
            "colorscale": [
             [
              0,
              "#0d0887"
             ],
             [
              0.1111111111111111,
              "#46039f"
             ],
             [
              0.2222222222222222,
              "#7201a8"
             ],
             [
              0.3333333333333333,
              "#9c179e"
             ],
             [
              0.4444444444444444,
              "#bd3786"
             ],
             [
              0.5555555555555556,
              "#d8576b"
             ],
             [
              0.6666666666666666,
              "#ed7953"
             ],
             [
              0.7777777777777778,
              "#fb9f3a"
             ],
             [
              0.8888888888888888,
              "#fdca26"
             ],
             [
              1,
              "#f0f921"
             ]
            ]
           }
          ],
          "heatmapgl": [
           {
            "type": "heatmapgl",
            "colorbar": {
             "outlinewidth": 0,
             "ticks": ""
            },
            "colorscale": [
             [
              0,
              "#0d0887"
             ],
             [
              0.1111111111111111,
              "#46039f"
             ],
             [
              0.2222222222222222,
              "#7201a8"
             ],
             [
              0.3333333333333333,
              "#9c179e"
             ],
             [
              0.4444444444444444,
              "#bd3786"
             ],
             [
              0.5555555555555556,
              "#d8576b"
             ],
             [
              0.6666666666666666,
              "#ed7953"
             ],
             [
              0.7777777777777778,
              "#fb9f3a"
             ],
             [
              0.8888888888888888,
              "#fdca26"
             ],
             [
              1,
              "#f0f921"
             ]
            ]
           }
          ],
          "contourcarpet": [
           {
            "type": "contourcarpet",
            "colorbar": {
             "outlinewidth": 0,
             "ticks": ""
            }
           }
          ],
          "contour": [
           {
            "type": "contour",
            "colorbar": {
             "outlinewidth": 0,
             "ticks": ""
            },
            "colorscale": [
             [
              0,
              "#0d0887"
             ],
             [
              0.1111111111111111,
              "#46039f"
             ],
             [
              0.2222222222222222,
              "#7201a8"
             ],
             [
              0.3333333333333333,
              "#9c179e"
             ],
             [
              0.4444444444444444,
              "#bd3786"
             ],
             [
              0.5555555555555556,
              "#d8576b"
             ],
             [
              0.6666666666666666,
              "#ed7953"
             ],
             [
              0.7777777777777778,
              "#fb9f3a"
             ],
             [
              0.8888888888888888,
              "#fdca26"
             ],
             [
              1,
              "#f0f921"
             ]
            ]
           }
          ],
          "surface": [
           {
            "type": "surface",
            "colorbar": {
             "outlinewidth": 0,
             "ticks": ""
            },
            "colorscale": [
             [
              0,
              "#0d0887"
             ],
             [
              0.1111111111111111,
              "#46039f"
             ],
             [
              0.2222222222222222,
              "#7201a8"
             ],
             [
              0.3333333333333333,
              "#9c179e"
             ],
             [
              0.4444444444444444,
              "#bd3786"
             ],
             [
              0.5555555555555556,
              "#d8576b"
             ],
             [
              0.6666666666666666,
              "#ed7953"
             ],
             [
              0.7777777777777778,
              "#fb9f3a"
             ],
             [
              0.8888888888888888,
              "#fdca26"
             ],
             [
              1,
              "#f0f921"
             ]
            ]
           }
          ],
          "mesh3d": [
           {
            "type": "mesh3d",
            "colorbar": {
             "outlinewidth": 0,
             "ticks": ""
            }
           }
          ],
          "scatter": [
           {
            "fillpattern": {
             "fillmode": "overlay",
             "size": 10,
             "solidity": 0.2
            },
            "type": "scatter"
           }
          ],
          "parcoords": [
           {
            "type": "parcoords",
            "line": {
             "colorbar": {
              "outlinewidth": 0,
              "ticks": ""
             }
            }
           }
          ],
          "scatterpolargl": [
           {
            "type": "scatterpolargl",
            "marker": {
             "colorbar": {
              "outlinewidth": 0,
              "ticks": ""
             }
            }
           }
          ],
          "bar": [
           {
            "error_x": {
             "color": "#2a3f5f"
            },
            "error_y": {
             "color": "#2a3f5f"
            },
            "marker": {
             "line": {
              "color": "#E5ECF6",
              "width": 0.5
             },
             "pattern": {
              "fillmode": "overlay",
              "size": 10,
              "solidity": 0.2
             }
            },
            "type": "bar"
           }
          ],
          "scattergeo": [
           {
            "type": "scattergeo",
            "marker": {
             "colorbar": {
              "outlinewidth": 0,
              "ticks": ""
             }
            }
           }
          ],
          "scatterpolar": [
           {
            "type": "scatterpolar",
            "marker": {
             "colorbar": {
              "outlinewidth": 0,
              "ticks": ""
             }
            }
           }
          ],
          "histogram": [
           {
            "marker": {
             "pattern": {
              "fillmode": "overlay",
              "size": 10,
              "solidity": 0.2
             }
            },
            "type": "histogram"
           }
          ],
          "scattergl": [
           {
            "type": "scattergl",
            "marker": {
             "colorbar": {
              "outlinewidth": 0,
              "ticks": ""
             }
            }
           }
          ],
          "scatter3d": [
           {
            "type": "scatter3d",
            "line": {
             "colorbar": {
              "outlinewidth": 0,
              "ticks": ""
             }
            },
            "marker": {
             "colorbar": {
              "outlinewidth": 0,
              "ticks": ""
             }
            }
           }
          ],
          "scattermapbox": [
           {
            "type": "scattermapbox",
            "marker": {
             "colorbar": {
              "outlinewidth": 0,
              "ticks": ""
             }
            }
           }
          ],
          "scatterternary": [
           {
            "type": "scatterternary",
            "marker": {
             "colorbar": {
              "outlinewidth": 0,
              "ticks": ""
             }
            }
           }
          ],
          "scattercarpet": [
           {
            "type": "scattercarpet",
            "marker": {
             "colorbar": {
              "outlinewidth": 0,
              "ticks": ""
             }
            }
           }
          ],
          "carpet": [
           {
            "aaxis": {
             "endlinecolor": "#2a3f5f",
             "gridcolor": "white",
             "linecolor": "white",
             "minorgridcolor": "white",
             "startlinecolor": "#2a3f5f"
            },
            "baxis": {
             "endlinecolor": "#2a3f5f",
             "gridcolor": "white",
             "linecolor": "white",
             "minorgridcolor": "white",
             "startlinecolor": "#2a3f5f"
            },
            "type": "carpet"
           }
          ],
          "table": [
           {
            "cells": {
             "fill": {
              "color": "#EBF0F8"
             },
             "line": {
              "color": "white"
             }
            },
            "header": {
             "fill": {
              "color": "#C8D4E3"
             },
             "line": {
              "color": "white"
             }
            },
            "type": "table"
           }
          ],
          "barpolar": [
           {
            "marker": {
             "line": {
              "color": "#E5ECF6",
              "width": 0.5
             },
             "pattern": {
              "fillmode": "overlay",
              "size": 10,
              "solidity": 0.2
             }
            },
            "type": "barpolar"
           }
          ],
          "pie": [
           {
            "automargin": true,
            "type": "pie"
           }
          ]
         },
         "layout": {
          "autotypenumbers": "strict",
          "colorway": [
           "#636efa",
           "#EF553B",
           "#00cc96",
           "#ab63fa",
           "#FFA15A",
           "#19d3f3",
           "#FF6692",
           "#B6E880",
           "#FF97FF",
           "#FECB52"
          ],
          "font": {
           "color": "#2a3f5f"
          },
          "hovermode": "closest",
          "hoverlabel": {
           "align": "left"
          },
          "paper_bgcolor": "white",
          "plot_bgcolor": "#E5ECF6",
          "polar": {
           "bgcolor": "#E5ECF6",
           "angularaxis": {
            "gridcolor": "white",
            "linecolor": "white",
            "ticks": ""
           },
           "radialaxis": {
            "gridcolor": "white",
            "linecolor": "white",
            "ticks": ""
           }
          },
          "ternary": {
           "bgcolor": "#E5ECF6",
           "aaxis": {
            "gridcolor": "white",
            "linecolor": "white",
            "ticks": ""
           },
           "baxis": {
            "gridcolor": "white",
            "linecolor": "white",
            "ticks": ""
           },
           "caxis": {
            "gridcolor": "white",
            "linecolor": "white",
            "ticks": ""
           }
          },
          "coloraxis": {
           "colorbar": {
            "outlinewidth": 0,
            "ticks": ""
           }
          },
          "colorscale": {
           "sequential": [
            [
             0,
             "#0d0887"
            ],
            [
             0.1111111111111111,
             "#46039f"
            ],
            [
             0.2222222222222222,
             "#7201a8"
            ],
            [
             0.3333333333333333,
             "#9c179e"
            ],
            [
             0.4444444444444444,
             "#bd3786"
            ],
            [
             0.5555555555555556,
             "#d8576b"
            ],
            [
             0.6666666666666666,
             "#ed7953"
            ],
            [
             0.7777777777777778,
             "#fb9f3a"
            ],
            [
             0.8888888888888888,
             "#fdca26"
            ],
            [
             1,
             "#f0f921"
            ]
           ],
           "sequentialminus": [
            [
             0,
             "#0d0887"
            ],
            [
             0.1111111111111111,
             "#46039f"
            ],
            [
             0.2222222222222222,
             "#7201a8"
            ],
            [
             0.3333333333333333,
             "#9c179e"
            ],
            [
             0.4444444444444444,
             "#bd3786"
            ],
            [
             0.5555555555555556,
             "#d8576b"
            ],
            [
             0.6666666666666666,
             "#ed7953"
            ],
            [
             0.7777777777777778,
             "#fb9f3a"
            ],
            [
             0.8888888888888888,
             "#fdca26"
            ],
            [
             1,
             "#f0f921"
            ]
           ],
           "diverging": [
            [
             0,
             "#8e0152"
            ],
            [
             0.1,
             "#c51b7d"
            ],
            [
             0.2,
             "#de77ae"
            ],
            [
             0.3,
             "#f1b6da"
            ],
            [
             0.4,
             "#fde0ef"
            ],
            [
             0.5,
             "#f7f7f7"
            ],
            [
             0.6,
             "#e6f5d0"
            ],
            [
             0.7,
             "#b8e186"
            ],
            [
             0.8,
             "#7fbc41"
            ],
            [
             0.9,
             "#4d9221"
            ],
            [
             1,
             "#276419"
            ]
           ]
          },
          "xaxis": {
           "gridcolor": "white",
           "linecolor": "white",
           "ticks": "",
           "title": {
            "standoff": 15
           },
           "zerolinecolor": "white",
           "automargin": true,
           "zerolinewidth": 2
          },
          "yaxis": {
           "gridcolor": "white",
           "linecolor": "white",
           "ticks": "",
           "title": {
            "standoff": 15
           },
           "zerolinecolor": "white",
           "automargin": true,
           "zerolinewidth": 2
          },
          "scene": {
           "xaxis": {
            "backgroundcolor": "#E5ECF6",
            "gridcolor": "white",
            "linecolor": "white",
            "showbackground": true,
            "ticks": "",
            "zerolinecolor": "white",
            "gridwidth": 2
           },
           "yaxis": {
            "backgroundcolor": "#E5ECF6",
            "gridcolor": "white",
            "linecolor": "white",
            "showbackground": true,
            "ticks": "",
            "zerolinecolor": "white",
            "gridwidth": 2
           },
           "zaxis": {
            "backgroundcolor": "#E5ECF6",
            "gridcolor": "white",
            "linecolor": "white",
            "showbackground": true,
            "ticks": "",
            "zerolinecolor": "white",
            "gridwidth": 2
           }
          },
          "shapedefaults": {
           "line": {
            "color": "#2a3f5f"
           }
          },
          "annotationdefaults": {
           "arrowcolor": "#2a3f5f",
           "arrowhead": 0,
           "arrowwidth": 1
          },
          "geo": {
           "bgcolor": "white",
           "landcolor": "#E5ECF6",
           "subunitcolor": "white",
           "showland": true,
           "showlakes": true,
           "lakecolor": "white"
          },
          "title": {
           "x": 0.05
          },
          "mapbox": {
           "style": "light"
          }
         }
        },
        "legend": {
         "orientation": "h",
         "yanchor": "top",
         "y": 1.02,
         "xanchor": "left",
         "x": 1
        },
        "margin": {
         "r": 20,
         "l": 10,
         "b": 10,
         "t": 10
        },
        "width": 1000,
        "height": 800,
        "scene": {
         "xaxis": {
          "title": {
           "text": "Energy density new cone (J/cm^2)"
          }
         },
         "yaxis": {
          "title": {
           "text": "Pulse Width (msec)"
          }
         },
         "zaxis": {
          "title": {
           "text": "2 Qsw/(U+|D|) 1e6"
          }
         },
         "camera": {
          "up": {
           "x": 0,
           "y": 0,
           "z": 1
          },
          "center": {
           "x": 0,
           "y": 0,
           "z": 0
          },
          "eye": {
           "x": -2,
           "y": -2.5,
           "z": 1.75
          }
         }
        }
       },
       "config": {
        "plotlyServerURL": "https://plot.ly"
       }
      }
     },
     "metadata": {}
    },
    {
     "output_type": "display_data",
     "data": {
      "application/vnd.plotly.v1+json": {
       "data": [
        {
         "opacity": 0.5,
         "showscale": false,
         "x": [
          2.276071548461914,
          2.745652675628662,
          3.2152342796325684,
          3.6848154067993164,
          4.1543965339660645,
          4.6239776611328125,
          5.093559265136719,
          5.563140392303467,
          6.032721519470215,
          6.502303123474121,
          6.971884250640869,
          7.441465377807617,
          7.911046504974365,
          8.380627632141113,
          8.85020923614502,
          9.319790840148926,
          9.789371490478516,
          10.258953094482422,
          10.728534698486328,
          11.198115348815918,
          11.667696952819824,
          12.137277603149414,
          12.60685920715332,
          13.076440811157227,
          13.546022415161133,
          14.015603065490723,
          14.485183715820312,
          14.954765319824219,
          15.424346923828125,
          15.893928527832031
         ],
         "y": [
          0.3392857313156128,
          0.5055418014526367,
          0.6717979907989502,
          0.8380541801452637,
          1.0043102502822876,
          1.170566439628601,
          1.336822509765625,
          1.5030786991119385,
          1.669334888458252,
          1.8355910778045654,
          2.001847267150879,
          2.1681032180786133,
          2.3343594074249268,
          2.5006155967712402,
          2.6668717861175537,
          2.833127975463867,
          2.9993841648101807,
          3.1656405925750732,
          3.3318967819213867,
          3.498152732849121,
          3.6644089221954346,
          3.830665111541748,
          3.9969213008880615,
          4.163177490234375,
          4.329433441162109,
          4.495689392089844,
          4.661945819854736,
          4.828202247619629,
          4.994458198547363,
          5.160714149475098
         ],
         "z": [
          [
           7.794164657592773,
           7.791500091552734,
           7.838454246520996,
           7.815354347229004,
           7.726168632507324,
           7.710270881652832,
           7.866853713989258,
           8.139824867248535,
           8.39231014251709,
           8.533196449279785,
           8.567322731018066,
           8.552114486694336,
           8.532092094421387,
           8.52062702178955,
           8.515704154968262,
           8.513677597045898,
           8.512765884399414,
           8.51235294342041,
           8.512187004089355,
           8.51213264465332,
           8.512118339538574,
           8.512115478515625,
           8.512114524841309,
           8.512114524841309,
           8.512114524841309,
           8.512114524841309,
           8.512114524841309,
           8.512114524841309,
           8.512114524841309,
           8.512114524841309
          ],
          [
           7.515707015991211,
           7.488055229187012,
           7.537586212158203,
           7.506472587585449,
           7.393772125244141,
           7.380796432495117,
           7.601707458496094,
           7.985935211181641,
           8.348649978637695,
           8.557037353515625,
           8.610936164855957,
           8.59069538116455,
           8.561052322387695,
           8.541568756103516,
           8.529775619506836,
           8.52182388305664,
           8.516648292541504,
           8.5138521194458,
           8.512655258178711,
           8.512251853942871,
           8.5121431350708,
           8.512120246887207,
           8.512115478515625,
           8.512114524841309,
           8.512114524841309,
           8.512114524841309,
           8.512114524841309,
           8.512114524841309,
           8.512114524841309,
           8.512114524841309
          ],
          [
           7.765798568725586,
           7.717184066772461,
           7.7143449783325195,
           7.67002010345459,
           7.611798286437988,
           7.672098159790039,
           7.9195451736450195,
           8.264744758605957,
           8.55101203918457,
           8.689933776855469,
           8.704187393188477,
           8.666557312011719,
           8.627592086791992,
           8.598971366882324,
           8.574113845825195,
           8.550113677978516,
           8.531042098999023,
           8.519699096679688,
           8.5145845413208,
           8.512779235839844,
           8.5122652053833,
           8.512144088745117,
           8.512120246887207,
           8.512115478515625,
           8.512114524841309,
           8.512114524841309,
           8.512114524841309,
           8.512114524841309,
           8.512114524841309,
           8.512114524841309
          ],
          [
           8.100446701049805,
           7.974719047546387,
           7.849733352661133,
           7.7668914794921875,
           7.807438850402832,
           8.011982917785645,
           8.322663307189941,
           8.613938331604004,
           8.782587051391602,
           8.820204734802246,
           8.785211563110352,
           8.729724884033203,
           8.685920715332031,
           8.663390159606934,
           8.641011238098145,
           8.603741645812988,
           8.563597679138184,
           8.535360336303711,
           8.520845413208008,
           8.514917373657227,
           8.512893676757812,
           8.512301445007324,
           8.512152671813965,
           8.512121200561523,
           8.512115478515625,
           8.512114524841309,
           8.512114524841309,
           8.512114524841309,
           8.512114524841309,
           8.512114524841309
          ],
          [
           8.247044563293457,
           8.06043529510498,
           7.853610038757324,
           7.745403289794922,
           7.851152420043945,
           8.153158187866211,
           8.510855674743652,
           8.774118423461914,
           8.874349594116211,
           8.856402397155762,
           8.803409576416016,
           8.754469871520996,
           8.733081817626953,
           8.746803283691406,
           8.751840591430664,
           8.712152481079102,
           8.645508766174316,
           8.58516788482666,
           8.545680046081543,
           8.525108337402344,
           8.516328811645508,
           8.513253211975098,
           8.512370109558105,
           8.512163162231445,
           8.512123107910156,
           8.512116432189941,
           8.512114524841309,
           8.512114524841309,
           8.512114524841309,
           8.512114524841309
          ],
          [
           8.35761547088623,
           8.232586860656738,
           8.103736877441406,
           8.05777359008789,
           8.166568756103516,
           8.407020568847656,
           8.675477981567383,
           8.866293907165527,
           8.932497024536133,
           8.909500122070312,
           8.874106407165527,
           8.879386901855469,
           8.939685821533203,
           9.023865699768066,
           9.061548233032227,
           9.007744789123535,
           8.882648468017578,
           8.741192817687988,
           8.628759384155273,
           8.560874938964844,
           8.528873443603516,
           8.51689338684082,
           8.51327133178711,
           8.512362480163574,
           8.512165069580078,
           8.512125015258789,
           8.512116432189941,
           8.512114524841309,
           8.512114524841309,
           8.512114524841309
          ],
          [
           8.457886695861816,
           8.422723770141602,
           8.40429401397705,
           8.437949180603027,
           8.539397239685059,
           8.680290222167969,
           8.811819076538086,
           8.899499893188477,
           8.926558494567871,
           8.909457206726074,
           8.914819717407227,
           9.012619018554688,
           9.204208374023438,
           9.40570068359375,
           9.508443832397461,
           9.4546480178833,
           9.26095962524414,
           9.003945350646973,
           8.77625846862793,
           8.628525733947754,
           8.555137634277344,
           8.526044845581055,
           8.516327857971191,
           8.513370513916016,
           8.512481689453125,
           8.512213706970215,
           8.512138366699219,
           8.51211929321289,
           8.512115478515625,
           8.512114524841309
          ],
          [
           8.505193710327148,
           8.510608673095703,
           8.539071083068848,
           8.604889869689941,
           8.699039459228516,
           8.784262657165527,
           8.834848403930664,
           8.859868049621582,
           8.863507270812988,
           8.848978042602539,
           8.870104789733887,
           8.996833801269531,
           9.225505828857422,
           9.461068153381348,
           9.595582008361816,
           9.576215744018555,
           9.404749870300293,
           9.140446662902832,
           8.882676124572754,
           8.700590133666992,
           8.599452018737793,
           8.550976753234863,
           8.528846740722656,
           8.518794059753418,
           8.51445484161377,
           8.51280689239502,
           8.512284278869629,
           8.5121488571167,
           8.512120246887207,
           8.512115478515625
          ],
          [
           8.515066146850586,
           8.525300025939941,
           8.552906036376953,
           8.606698989868164,
           8.680676460266113,
           8.749004364013672,
           8.787781715393066,
           8.792850494384766,
           8.765129089355469,
           8.710664749145508,
           8.659931182861328,
           8.649651527404785,
           8.688031196594238,
           8.757343292236328,
           8.841864585876465,
           8.926155090332031,
           8.974912643432617,
           8.957645416259766,
           8.883268356323242,
           8.786178588867188,
           8.694945335388184,
           8.621902465820312,
           8.569840431213379,
           8.537830352783203,
           8.521605491638184,
           8.514985084533691,
           8.512823104858398,
           8.512256622314453,
           8.512138366699219,
           8.512118339538574
          ],
          [
           8.513933181762695,
           8.518677711486816,
           8.530938148498535,
           8.555228233337402,
           8.591157913208008,
           8.628929138183594,
           8.65273380279541,
           8.648490905761719,
           8.60491943359375,
           8.50774097442627,
           8.334355354309082,
           8.064353942871094,
           7.725778579711914,
           7.444231986999512,
           7.396500587463379,
           7.658599853515625,
           8.11575698852539,
           8.550827980041504,
           8.808490753173828,
           8.873934745788574,
           8.822189331054688,
           8.728168487548828,
           8.63653564453125,
           8.570446014404297,
           8.534183502197266,
           8.518858909606934,
           8.513784408569336,
           8.512450218200684,
           8.51216983795166,
           8.51212215423584
          ],
          [
           8.512564659118652,
           8.513697624206543,
           8.516624450683594,
           8.522523880004883,
           8.5315523147583,
           8.541301727294922,
           8.546188354492188,
           8.536951065063477,
           8.496074676513672,
           8.38710880279541,
           8.14914321899414,
           7.726428031921387,
           7.1558990478515625,
           6.6486101150512695,
           6.506542205810547,
           6.8690900802612305,
           7.5682373046875,
           8.267702102661133,
           8.71810245513916,
           8.88381290435791,
           8.86847972869873,
           8.776412010192871,
           8.67050552368164,
           8.58809757232666,
           8.54118537902832,
           8.521038055419922,
           8.514328002929688,
           8.51255989074707,
           8.512187957763672,
           8.512125015258789
          ],
          [
           8.512174606323242,
           8.512323379516602,
           8.512709617614746,
           8.513486862182617,
           8.514657020568848,
           8.51572036743164,
           8.514993667602539,
           8.50760269165039,
           8.4802827835083,
           8.403202056884766,
           8.22792911529541,
           7.912650108337402,
           7.487420082092285,
           7.110378265380859,
           7.0056562423706055,
           7.2808427810668945,
           7.815595626831055,
           8.355452537536621,
           8.70425796508789,
           8.82779598236084,
           8.804546356201172,
           8.72181224822998,
           8.634182929992676,
           8.569565773010254,
           8.533882141113281,
           8.518770217895508,
           8.513762474060059,
           8.512446403503418,
           8.512168884277344,
           8.51212215423584
          ],
          [
           8.51211929321289,
           8.512129783630371,
           8.512158393859863,
           8.512213706970215,
           8.512284278869629,
           8.512253761291504,
           8.51161003112793,
           8.508484840393066,
           8.49734115600586,
           8.465694427490234,
           8.39390754699707,
           8.266380310058594,
           8.097162246704102,
           7.949657440185547,
           7.912215232849121,
           8.029204368591309,
           8.254291534423828,
           8.482392311096191,
           8.628544807434082,
           8.674954414367676,
           8.654633522033691,
           8.609257698059082,
           8.56616497039795,
           8.536773681640625,
           8.5213041305542,
           8.51490592956543,
           8.51280403137207,
           8.512253761291504,
           8.512137413024902,
           8.512118339538574
          ],
          [
           8.512114524841309,
           8.512115478515625,
           8.512116432189941,
           8.512118339538574,
           8.512117385864258,
           8.512090682983398,
           8.51192569732666,
           8.511190414428711,
           8.508588790893555,
           8.501209259033203,
           8.484548568725586,
           8.455206871032715,
           8.416664123535156,
           8.383417129516602,
           8.375480651855469,
           8.403172492980957,
           8.456121444702148,
           8.509864807128906,
           8.544127464294434,
           8.554311752319336,
           8.548178672790527,
           8.536142349243164,
           8.52519416809082,
           8.517986297607422,
           8.514283180236816,
           8.512770652770996,
           8.512276649475098,
           8.512147903442383,
           8.512120246887207,
           8.512115478515625
          ],
          [
           8.512114524841309,
           8.512114524841309,
           8.512114524841309,
           8.512114524841309,
           8.512114524841309,
           8.512109756469727,
           8.512088775634766,
           8.511991500854492,
           8.511649131774902,
           8.510677337646484,
           8.5084867477417,
           8.504640579223633,
           8.499601364135742,
           8.495266914367676,
           8.494251251220703,
           8.497909545898438,
           8.504894256591797,
           8.511984825134277,
           8.516499519348145,
           8.517817497253418,
           8.516961097717285,
           8.515325546264648,
           8.5138521194458,
           8.51289176940918,
           8.512401580810547,
           8.512201309204102,
           8.512136459350586,
           8.51211929321289,
           8.512115478515625,
           8.512114524841309
          ],
          [
           8.512114524841309,
           8.512114524841309,
           8.512114524841309,
           8.512114524841309,
           8.512114524841309,
           8.512114524841309,
           8.512113571166992,
           8.512105941772461,
           8.512080192565918,
           8.512008666992188,
           8.511846542358398,
           8.511561393737793,
           8.511189460754395,
           8.510869026184082,
           8.510793685913086,
           8.511064529418945,
           8.511582374572754,
           8.512106895446777,
           8.512441635131836,
           8.51253890991211,
           8.51247501373291,
           8.51235294342041,
           8.512243270874023,
           8.51217269897461,
           8.512136459350586,
           8.512121200561523,
           8.512116432189941,
           8.512114524841309,
           8.512114524841309,
           8.512114524841309
          ],
          [
           8.512114524841309,
           8.512114524841309,
           8.512114524841309,
           8.512114524841309,
           8.512114524841309,
           8.512114524841309,
           8.512114524841309,
           8.512114524841309,
           8.512113571166992,
           8.512110710144043,
           8.512103080749512,
           8.512091636657715,
           8.512076377868652,
           8.512063026428223,
           8.512060165405273,
           8.51207160949707,
           8.512092590332031,
           8.512114524841309,
           8.512127876281738,
           8.51213264465332,
           8.512129783630371,
           8.512125015258789,
           8.512120246887207,
           8.512117385864258,
           8.512115478515625,
           8.512114524841309,
           8.512114524841309,
           8.512114524841309,
           8.512114524841309,
           8.512114524841309
          ],
          [
           8.512114524841309,
           8.512114524841309,
           8.512114524841309,
           8.512114524841309,
           8.512114524841309,
           8.512114524841309,
           8.512114524841309,
           8.512114524841309,
           8.512114524841309,
           8.512114524841309,
           8.512114524841309,
           8.512114524841309,
           8.512113571166992,
           8.512113571166992,
           8.512113571166992,
           8.512113571166992,
           8.512114524841309,
           8.512114524841309,
           8.512114524841309,
           8.512115478515625,
           8.512114524841309,
           8.512114524841309,
           8.512114524841309,
           8.512114524841309,
           8.512114524841309,
           8.512114524841309,
           8.512114524841309,
           8.512114524841309,
           8.512114524841309,
           8.512114524841309
          ],
          [
           8.512114524841309,
           8.512114524841309,
           8.512114524841309,
           8.512114524841309,
           8.512114524841309,
           8.512114524841309,
           8.512114524841309,
           8.512114524841309,
           8.512114524841309,
           8.512114524841309,
           8.512114524841309,
           8.512114524841309,
           8.512114524841309,
           8.512114524841309,
           8.512114524841309,
           8.512114524841309,
           8.512114524841309,
           8.512114524841309,
           8.512114524841309,
           8.512114524841309,
           8.512114524841309,
           8.512114524841309,
           8.512114524841309,
           8.512114524841309,
           8.512114524841309,
           8.512114524841309,
           8.512114524841309,
           8.512114524841309,
           8.512114524841309,
           8.512114524841309
          ],
          [
           8.512114524841309,
           8.512114524841309,
           8.512114524841309,
           8.512114524841309,
           8.512114524841309,
           8.512114524841309,
           8.512114524841309,
           8.512114524841309,
           8.512114524841309,
           8.512114524841309,
           8.512114524841309,
           8.512114524841309,
           8.512114524841309,
           8.512114524841309,
           8.512114524841309,
           8.512114524841309,
           8.512114524841309,
           8.512114524841309,
           8.512114524841309,
           8.512114524841309,
           8.512114524841309,
           8.512114524841309,
           8.512114524841309,
           8.512114524841309,
           8.512114524841309,
           8.512114524841309,
           8.512114524841309,
           8.512114524841309,
           8.512114524841309,
           8.512114524841309
          ],
          [
           8.512114524841309,
           8.512114524841309,
           8.512114524841309,
           8.512114524841309,
           8.512114524841309,
           8.512114524841309,
           8.512114524841309,
           8.512114524841309,
           8.512114524841309,
           8.512114524841309,
           8.512114524841309,
           8.512114524841309,
           8.512114524841309,
           8.512114524841309,
           8.512114524841309,
           8.512114524841309,
           8.512114524841309,
           8.512114524841309,
           8.512114524841309,
           8.512114524841309,
           8.512114524841309,
           8.512114524841309,
           8.512114524841309,
           8.512114524841309,
           8.512114524841309,
           8.512114524841309,
           8.512114524841309,
           8.512114524841309,
           8.512114524841309,
           8.512114524841309
          ],
          [
           8.512114524841309,
           8.512114524841309,
           8.512114524841309,
           8.512114524841309,
           8.512114524841309,
           8.512114524841309,
           8.512114524841309,
           8.512114524841309,
           8.512114524841309,
           8.512114524841309,
           8.512114524841309,
           8.512114524841309,
           8.512114524841309,
           8.512114524841309,
           8.512114524841309,
           8.512114524841309,
           8.512114524841309,
           8.512114524841309,
           8.512114524841309,
           8.512114524841309,
           8.512114524841309,
           8.512114524841309,
           8.512114524841309,
           8.512114524841309,
           8.512114524841309,
           8.512115478515625,
           8.512115478515625,
           8.512115478515625,
           8.512115478515625,
           8.512115478515625
          ],
          [
           8.512114524841309,
           8.512114524841309,
           8.512114524841309,
           8.512114524841309,
           8.512114524841309,
           8.512114524841309,
           8.512114524841309,
           8.512114524841309,
           8.512114524841309,
           8.512113571166992,
           8.512110710144043,
           8.512105941772461,
           8.512100219726562,
           8.51209545135498,
           8.512093544006348,
           8.512096405029297,
           8.512102127075195,
           8.512106895446777,
           8.512110710144043,
           8.512113571166992,
           8.512113571166992,
           8.512113571166992,
           8.512114524841309,
           8.512118339538574,
           8.512125015258789,
           8.512133598327637,
           8.512141227722168,
           8.5121431350708,
           8.512139320373535,
           8.512131690979004
          ],
          [
           8.512114524841309,
           8.512114524841309,
           8.512114524841309,
           8.512114524841309,
           8.512114524841309,
           8.512114524841309,
           8.512114524841309,
           8.51211166381836,
           8.512100219726562,
           8.51207160949707,
           8.512007713317871,
           8.5118989944458,
           8.511760711669922,
           8.511642456054688,
           8.511603355407715,
           8.511662483215332,
           8.51179027557373,
           8.511923789978027,
           8.512020111083984,
           8.512066841125488,
           8.512077331542969,
           8.512075424194336,
           8.512096405029297,
           8.512184143066406,
           8.51235580444336,
           8.512575149536133,
           8.512749671936035,
           8.512797355651855,
           8.512701988220215,
           8.512526512145996
          ],
          [
           8.512114524841309,
           8.512114524841309,
           8.512114524841309,
           8.512114524841309,
           8.512114524841309,
           8.512113571166992,
           8.512103080749512,
           8.512063026428223,
           8.511920928955078,
           8.511523246765137,
           8.51064682006836,
           8.5091552734375,
           8.507261276245117,
           8.50563907623291,
           8.505088806152344,
           8.505918502807617,
           8.50766658782959,
           8.509503364562988,
           8.51081657409668,
           8.511456489562988,
           8.511592864990234,
           8.51156234741211,
           8.511857032775879,
           8.51304817199707,
           8.515398025512695,
           8.518389701843262,
           8.520781517028809,
           8.521421432495117,
           8.520124435424805,
           8.517728805541992
          ],
          [
           8.512114524841309,
           8.512114524841309,
           8.512114524841309,
           8.512114524841309,
           8.512112617492676,
           8.512100219726562,
           8.512028694152832,
           8.511716842651367,
           8.510621070861816,
           8.507559776306152,
           8.500800132751465,
           8.489213943481445,
           8.474370956420898,
           8.461556434631348,
           8.457195281982422,
           8.46377182006836,
           8.47756576538086,
           8.491922378540039,
           8.502113342285156,
           8.507043838500977,
           8.508040428161621,
           8.507631301879883,
           8.509573936462402,
           8.518409729003906,
           8.536335945129395,
           8.559264183044434,
           8.57751750946045,
           8.582383155822754,
           8.57255744934082,
           8.554451942443848
          ],
          [
           8.512114524841309,
           8.512114524841309,
           8.512114524841309,
           8.512113571166992,
           8.512104988098145,
           8.512048721313477,
           8.511741638183594,
           8.510394096374512,
           8.505659103393555,
           8.492352485656738,
           8.462621688842773,
           8.410555839538574,
           8.341861724853516,
           8.280797958374023,
           8.259651184082031,
           8.291474342346191,
           8.356847763061523,
           8.422883033752441,
           8.468460083007812,
           8.489956855773926,
           8.49341106414795,
           8.488805770874023,
           8.491944313049316,
           8.524909019470215,
           8.600078582763672,
           8.698062896728516,
           8.77481746673584,
           8.794893264770508,
           8.754776954650879,
           8.681679725646973
          ],
          [
           8.512114524841309,
           8.512114524841309,
           8.512114524841309,
           8.51211166381836,
           8.512091636657715,
           8.511955261230469,
           8.511209487915039,
           8.507942199707031,
           8.496421813964844,
           8.463743209838867,
           8.389164924621582,
           8.253677368164062,
           8.066178321838379,
           7.891846656799316,
           7.829890251159668,
           7.922834396362305,
           8.107938766479492,
           8.286425590515137,
           8.404105186462402,
           8.457185745239258,
           8.461743354797363,
           8.437797546386719,
           8.421586990356445,
           8.477846145629883,
           8.649946212768555,
           8.883020401000977,
           9.059697151184082,
           9.104084014892578,
           9.017447471618652,
           8.863493919372559
          ],
          [
           8.512114524841309,
           8.512114524841309,
           8.512114524841309,
           8.51211166381836,
           8.512084007263184,
           8.511897087097168,
           8.510883331298828,
           8.50643539428711,
           8.490721702575684,
           8.44589614868164,
           8.342308044433594,
           8.150136947631836,
           7.877158164978027,
           7.617164611816406,
           7.523468017578125,
           7.663789749145508,
           7.938630104064941,
           8.197114944458008,
           8.363295555114746,
           8.436346054077148,
           8.439355850219727,
           8.396012306213379,
           8.353626251220703,
           8.409637451171875,
           8.634949684143066,
           8.948196411132812,
           9.180306434631348,
           9.236883163452148,
           9.128445625305176,
           8.939396858215332
          ],
          [
           8.512114524841309,
           8.512114524841309,
           8.512114524841309,
           8.51211166381836,
           8.512090682983398,
           8.511948585510254,
           8.511174201965332,
           8.50777816772461,
           8.49580192565918,
           8.461811065673828,
           8.38413143157959,
           8.24267864227295,
           8.046346664428711,
           7.863307952880859,
           7.798155784606934,
           7.895876884460449,
           8.090129852294922,
           8.276911735534668,
           8.399711608886719,
           8.454944610595703,
           8.459415435791016,
           8.433639526367188,
           8.415119171142578,
           8.471904754638672,
           8.650041580200195,
           8.891944885253906,
           9.074884414672852,
           9.120707511901855,
           9.031431198120117,
           8.873099327087402
          ]
         ],
         "type": "surface"
        },
        {
         "opacity": 0.2,
         "showscale": false,
         "x": [
          2.276071548461914,
          2.745652675628662,
          3.2152342796325684,
          3.6848154067993164,
          4.1543965339660645,
          4.6239776611328125,
          5.093559265136719,
          5.563140392303467,
          6.032721519470215,
          6.502303123474121,
          6.971884250640869,
          7.441465377807617,
          7.911046504974365,
          8.380627632141113,
          8.85020923614502,
          9.319790840148926,
          9.789371490478516,
          10.258953094482422,
          10.728534698486328,
          11.198115348815918,
          11.667696952819824,
          12.137277603149414,
          12.60685920715332,
          13.076440811157227,
          13.546022415161133,
          14.015603065490723,
          14.485183715820312,
          14.954765319824219,
          15.424346923828125,
          15.893928527832031
         ],
         "y": [
          0.3392857313156128,
          0.5055418014526367,
          0.6717979907989502,
          0.8380541801452637,
          1.0043102502822876,
          1.170566439628601,
          1.336822509765625,
          1.5030786991119385,
          1.669334888458252,
          1.8355910778045654,
          2.001847267150879,
          2.1681032180786133,
          2.3343594074249268,
          2.5006155967712402,
          2.6668717861175537,
          2.833127975463867,
          2.9993841648101807,
          3.1656405925750732,
          3.3318967819213867,
          3.498152732849121,
          3.6644089221954346,
          3.830665111541748,
          3.9969213008880615,
          4.163177490234375,
          4.329433441162109,
          4.495689392089844,
          4.661945819854736,
          4.828202247619629,
          4.994458198547363,
          5.160714149475098
         ],
         "z": [
          [
           -4.003765106201172,
           -3.9347541332244873,
           -3.871617555618286,
           -3.9066407680511475,
           -3.990553617477417,
           -3.9782140254974365,
           -3.807846784591675,
           -3.5772597789764404,
           -3.4253008365631104,
           -3.389631986618042,
           -3.4181039333343506,
           -3.455915689468384,
           -3.4810492992401123,
           -3.4932620525360107,
           -3.4982717037200928,
           -3.5003139972686768,
           -3.501230001449585,
           -3.5016443729400635,
           -3.501810312271118,
           -3.501864194869995,
           -3.501878499984741,
           -3.5018813610076904,
           -3.501882314682007,
           -3.501882314682007,
           -3.501882314682007,
           -3.501882314682007,
           -3.501882314682007,
           -3.501882314682007,
           -3.501882314682007,
           -3.501882314682007
          ],
          [
           -4.125811576843262,
           -4.028907775878906,
           -3.951237916946411,
           -4.003167152404785,
           -4.106670379638672,
           -4.070331573486328,
           -3.8252222537994385,
           -3.5146453380584717,
           -3.325859308242798,
           -3.298283338546753,
           -3.3514602184295654,
           -3.410313367843628,
           -3.44891095161438,
           -3.470404863357544,
           -3.48327374458313,
           -3.491863489151001,
           -3.497281789779663,
           -3.500135660171509,
           -3.501340627670288,
           -3.5017449855804443,
           -3.5018537044525146,
           -3.5018770694732666,
           -3.5018813610076904,
           -3.501882314682007,
           -3.501882314682007,
           -3.501882314682007,
           -3.501882314682007,
           -3.501882314682007,
           -3.501882314682007,
           -3.501882314682007
          ],
          [
           -4.044674873352051,
           -4.018503189086914,
           -3.992560625076294,
           -4.038198471069336,
           -4.095446586608887,
           -4.021498680114746,
           -3.767728090286255,
           -3.453627347946167,
           -3.2427046298980713,
           -3.1881020069122314,
           -3.2296760082244873,
           -3.2903659343719482,
           -3.3392255306243896,
           -3.3819029331207275,
           -3.4235289096832275,
           -3.4585230350494385,
           -3.4818031787872314,
           -3.494135618209839,
           -3.499396562576294,
           -3.5012166500091553,
           -3.5017316341400146,
           -3.5018532276153564,
           -3.5018770694732666,
           -3.5018813610076904,
           -3.501882314682007,
           -3.501882314682007,
           -3.501882314682007,
           -3.501882314682007,
           -3.501882314682007,
           -3.501882314682007
          ],
          [
           -3.8516976833343506,
           -3.9067466259002686,
           -3.9364125728607178,
           -3.956977605819702,
           -3.941349744796753,
           -3.8139379024505615,
           -3.544595956802368,
           -3.2157070636749268,
           -2.965459108352661,
           -2.8776652812957764,
           -2.9191458225250244,
           -2.995586633682251,
           -3.0709311962127686,
           -3.1683409214019775,
           -3.283137559890747,
           -3.380854368209839,
           -3.4440767765045166,
           -3.4777419567108154,
           -3.493067502975464,
           -3.4990737438201904,
           -3.501103639602661,
           -3.501695394515991,
           -3.5018441677093506,
           -3.501875638961792,
           -3.5018813610076904,
           -3.501882314682007,
           -3.501882314682007,
           -3.501882314682007,
           -3.501882314682007,
           -3.501882314682007
          ],
          [
           -3.7141010761260986,
           -3.792921781539917,
           -3.832777261734009,
           -3.82552170753479,
           -3.7659027576446533,
           -3.609431505203247,
           -3.329246759414673,
           -2.989755868911743,
           -2.7212231159210205,
           -2.6252872943878174,
           -2.675654649734497,
           -2.7570974826812744,
           -2.832916498184204,
           -2.9495909214019775,
           -3.1047723293304443,
           -3.249150037765503,
           -3.356332540512085,
           -3.4267618656158447,
           -3.4680283069610596,
           -3.488854169845581,
           -3.4976646900177,
           -3.500744104385376,
           -3.501627206802368,
           -3.5018341541290283,
           -3.5018742084503174,
           -3.5018808841705322,
           -3.501882314682007,
           -3.501882314682007,
           -3.501882314682007,
           -3.501882314682007
          ],
          [
           -3.628312349319458,
           -3.694732904434204,
           -3.732649087905884,
           -3.714069128036499,
           -3.6226003170013428,
           -3.4464271068573,
           -3.206334352493286,
           -2.973663091659546,
           -2.8299896717071533,
           -2.8066370487213135,
           -2.8478901386260986,
           -2.8593556880950928,
           -2.8194191455841064,
           -2.7894179821014404,
           -2.82563853263855,
           -2.938805341720581,
           -3.1008455753326416,
           -3.261988401412964,
           -3.3824870586395264,
           -3.4526445865631104,
           -3.4850680828094482,
           -3.497098684310913,
           -3.5007259845733643,
           -3.501634359359741,
           -3.5018317699432373,
           -3.5018718242645264,
           -3.501880407333374,
           -3.501882314682007,
           -3.501882314682007,
           -3.501882314682007
          ],
          [
           -3.5512654781341553,
           -3.576064348220825,
           -3.57629656791687,
           -3.517735242843628,
           -3.374635934829712,
           -3.160093069076538,
           -2.95141339302063,
           -2.8507182598114014,
           -2.8868515491485596,
           -2.983351945877075,
           -3.024076223373413,
           -2.925732374191284,
           -2.6853811740875244,
           -2.40246844291687,
           -2.2432773113250732,
           -2.3259260654449463,
           -2.612999677658081,
           -2.954010248184204,
           -3.2228076457977295,
           -3.3828041553497314,
           -3.458522081375122,
           -3.4879133701324463,
           -3.4976627826690674,
           -3.5006253719329834,
           -3.5015151500701904,
           -3.5017831325531006,
           -3.501858949661255,
           -3.501878023147583,
           -3.5018813610076904,
           -3.501882314682007
          ],
          [
           -3.5084850788116455,
           -3.5018765926361084,
           -3.4674618244171143,
           -3.375370740890503,
           -3.2002532482147217,
           -2.9615771770477295,
           -2.7607295513153076,
           -2.723585844039917,
           -2.858402967453003,
           -3.031799554824829,
           -3.093400716781616,
           -2.9607393741607666,
           -2.6369965076446533,
           -2.2372920513153076,
           -1.9785711765289307,
           -2.033691167831421,
           -2.363853693008423,
           -2.7734763622283936,
           -3.102492570877075,
           -3.306248426437378,
           -3.41228985786438,
           -3.4621694087982178,
           -3.484889268875122,
           -3.495147943496704,
           -3.4995338916778564,
           -3.5011885166168213,
           -3.5017130374908447,
           -3.5018484592437744,
           -3.5018765926361084,
           -3.5018813610076904
          ],
          [
           -3.4988930225372314,
           -3.4882848262786865,
           -3.4578206539154053,
           -3.3898255825042725,
           -3.271230936050415,
           -3.1186444759368896,
           -2.9979913234710693,
           -2.986431360244751,
           -3.0896122455596924,
           -3.2307941913604736,
           -3.3250515460968018,
           -3.3257787227630615,
           -3.223223924636841,
           -3.051041841506958,
           -2.891342878341675,
           -2.8234169483184814,
           -2.8571503162384033,
           -2.949174165725708,
           -3.061997652053833,
           -3.178788423538208,
           -3.2881977558135986,
           -3.377748727798462,
           -3.439587354660034,
           -3.47519850730896,
           -3.492255926132202,
           -3.4989984035491943,
           -3.5011727809906006,
           -3.5017402172088623,
           -3.501858949661255,
           -3.5018789768218994
          ],
          [
           -3.5000574588775635,
           -3.4952495098114014,
           -3.482495069503784,
           -3.455744504928589,
           -3.4120991230010986,
           -3.3598220348358154,
           -3.322004556655884,
           -3.3251116275787354,
           -3.3812901973724365,
           -3.491013765335083,
           -3.659867525100708,
           -3.8895809650421143,
           -4.140810012817383,
           -4.316126823425293,
           -4.296563148498535,
           -4.022852897644043,
           -3.572794198989868,
           -3.1386702060699463,
           -2.89206862449646,
           -2.8771297931671143,
           -3.020263910293579,
           -3.205737352371216,
           -3.351971387863159,
           -3.4381520748138428,
           -3.479059934616089,
           -3.4950692653656006,
           -3.5002081394195557,
           -3.501546621322632,
           -3.5018274784088135,
           -3.5018746852874756
          ],
          [
           -3.501432180404663,
           -3.500295877456665,
           -3.4973409175872803,
           -3.491307497024536,
           -3.481858491897583,
           -3.4713165760040283,
           -3.465663194656372,
           -3.4747955799102783,
           -3.5158321857452393,
           -3.6212689876556396,
           -3.837491750717163,
           -4.188738822937012,
           -4.616524696350098,
           -4.9557647705078125,
           -4.993190765380859,
           -4.604764938354492,
           -3.897721529006958,
           -3.1814396381378174,
           -2.742111921310425,
           -2.6644256114959717,
           -2.8423006534576416,
           -3.0964181423187256,
           -3.2986419200897217,
           -3.4164068698883057,
           -3.4714877605438232,
           -3.49283766746521,
           -3.499662160873413,
           -3.501436948776245,
           -3.5018093585968018,
           -3.5018723011016846
          ],
          [
           -3.5018227100372314,
           -3.501673460006714,
           -3.501286745071411,
           -3.500506639480591,
           -3.4993302822113037,
           -3.4982526302337646,
           -3.49896502494812,
           -3.506330728530884,
           -3.5333597660064697,
           -3.608039140701294,
           -3.7710025310516357,
           -4.046625137329102,
           -4.393111228942871,
           -4.677988052368164,
           -4.725587844848633,
           -4.4363203048706055,
           -3.8973968029022217,
           -3.348586320877075,
           -3.005906820297241,
           -2.9302594661712646,
           -3.0423099994659424,
           -3.2141306400299072,
           -3.354970693588257,
           -3.43916916847229,
           -3.4793808460235596,
           -3.495159387588501,
           -3.500229597091675,
           -3.5015509128570557,
           -3.50182843208313,
           -3.5018746852874756
          ],
          [
           -3.501878023147583,
           -3.5018670558929443,
           -3.501838445663452,
           -3.5017831325531006,
           -3.5017130374908447,
           -3.5017430782318115,
           -3.5023858547210693,
           -3.505507707595825,
           -3.5165979862213135,
           -3.5478227138519287,
           -3.6174561977386475,
           -3.7380645275115967,
           -3.893596887588501,
           -4.025172233581543,
           -4.052791595458984,
           -3.9333913326263428,
           -3.707606077194214,
           -3.47798752784729,
           -3.3328921794891357,
           -3.294696092605591,
           -3.3303143978118896,
           -3.3911306858062744,
           -3.4434921741485596,
           -3.4763033390045166,
           -3.4925644397735596,
           -3.499079465866089,
           -3.5011918544769287,
           -3.5017435550689697,
           -3.5018599033355713,
           -3.5018789768218994
          ],
          [
           -3.501882314682007,
           -3.5018813610076904,
           -3.501880407333374,
           -3.501878499984741,
           -3.5018794536590576,
           -3.501906156539917,
           -3.5020711421966553,
           -3.5028064250946045,
           -3.505404233932495,
           -3.512761354446411,
           -3.529303789138794,
           -3.5582635402679443,
           -3.596052408218384,
           -3.6284239292144775,
           -3.635820150375366,
           -3.6079962253570557,
           -3.55500864982605,
           -3.501183271408081,
           -3.4669787883758545,
           -3.457245111465454,
           -3.464218854904175,
           -3.477104902267456,
           -3.488563299179077,
           -3.495959520339966,
           -3.4997060298919678,
           -3.5012247562408447,
           -3.5017201900482178,
           -3.501849412918091,
           -3.5018765926361084,
           -3.5018813610076904
          ],
          [
           -3.501882314682007,
           -3.501882314682007,
           -3.501882314682007,
           -3.501882314682007,
           -3.501882791519165,
           -3.501887083053589,
           -3.501908540725708,
           -3.5020058155059814,
           -3.5023481845855713,
           -3.5033185482025146,
           -3.505506753921509,
           -3.5093467235565186,
           -3.5143725872039795,
           -3.5186922550201416,
           -3.5196988582611084,
           -3.516037702560425,
           -3.5090534687042236,
           -3.501960515975952,
           -3.4974467754364014,
           -3.4961373805999756,
           -3.4970085620880127,
           -3.4986584186553955,
           -3.5001399517059326,
           -3.5011041164398193,
           -3.5015957355499268,
           -3.501795530319214,
           -3.5018608570098877,
           -3.501878023147583,
           -3.5018813610076904,
           -3.501882314682007
          ],
          [
           -3.501882314682007,
           -3.501882314682007,
           -3.501882314682007,
           -3.501882314682007,
           -3.501882314682007,
           -3.501882791519165,
           -3.5018837451934814,
           -3.5018913745880127,
           -3.5019166469573975,
           -3.501988649368286,
           -3.502150297164917,
           -3.5024354457855225,
           -3.502807855606079,
           -3.5031282901763916,
           -3.5032031536102295,
           -3.50293231010437,
           -3.5024149417877197,
           -3.501889944076538,
           -3.5015556812286377,
           -3.5014584064483643,
           -3.5015223026275635,
           -3.5016438961029053,
           -3.501753091812134,
           -3.5018246173858643,
           -3.5018608570098877,
           -3.50187611579895,
           -3.5018808841705322,
           -3.501882314682007,
           -3.501882314682007,
           -3.501882314682007
          ],
          [
           -3.501882314682007,
           -3.501882314682007,
           -3.501882314682007,
           -3.501882314682007,
           -3.501882314682007,
           -3.501882314682007,
           -3.501882314682007,
           -3.501882791519165,
           -3.5018837451934814,
           -3.5018861293792725,
           -3.5018937587738037,
           -3.5019052028656006,
           -3.5019209384918213,
           -3.501934289932251,
           -3.5019371509552,
           -3.5019257068634033,
           -3.501904249191284,
           -3.501882791519165,
           -3.501868963241577,
           -3.5018646717071533,
           -3.5018670558929443,
           -3.5018723011016846,
           -3.5018765926361084,
           -3.5018794536590576,
           -3.5018813610076904,
           -3.501882314682007,
           -3.501882314682007,
           -3.501882314682007,
           -3.501882314682007,
           -3.501882314682007
          ],
          [
           -3.501882314682007,
           -3.501882314682007,
           -3.501882314682007,
           -3.501882314682007,
           -3.501882314682007,
           -3.501882314682007,
           -3.501882314682007,
           -3.501882314682007,
           -3.501882314682007,
           -3.501882314682007,
           -3.501882791519165,
           -3.501882791519165,
           -3.5018832683563232,
           -3.5018832683563232,
           -3.5018832683563232,
           -3.5018832683563232,
           -3.501882791519165,
           -3.501882314682007,
           -3.501882314682007,
           -3.5018813610076904,
           -3.501882314682007,
           -3.501882314682007,
           -3.501882314682007,
           -3.501882314682007,
           -3.501882314682007,
           -3.501882314682007,
           -3.501882314682007,
           -3.501882314682007,
           -3.501882314682007,
           -3.501882314682007
          ],
          [
           -3.501882314682007,
           -3.501882314682007,
           -3.501882314682007,
           -3.501882314682007,
           -3.501882314682007,
           -3.501882314682007,
           -3.501882314682007,
           -3.501882314682007,
           -3.501882314682007,
           -3.501882314682007,
           -3.501882314682007,
           -3.501882314682007,
           -3.501882314682007,
           -3.501882314682007,
           -3.501882314682007,
           -3.501882314682007,
           -3.501882314682007,
           -3.501882314682007,
           -3.501882314682007,
           -3.501882314682007,
           -3.501882314682007,
           -3.501882314682007,
           -3.501882314682007,
           -3.501882314682007,
           -3.501882314682007,
           -3.501882314682007,
           -3.501882314682007,
           -3.501882314682007,
           -3.501882314682007,
           -3.501882314682007
          ],
          [
           -3.501882314682007,
           -3.501882314682007,
           -3.501882314682007,
           -3.501882314682007,
           -3.501882314682007,
           -3.501882314682007,
           -3.501882314682007,
           -3.501882314682007,
           -3.501882314682007,
           -3.501882314682007,
           -3.501882314682007,
           -3.501882314682007,
           -3.501882314682007,
           -3.501882314682007,
           -3.501882314682007,
           -3.501882314682007,
           -3.501882314682007,
           -3.501882314682007,
           -3.501882314682007,
           -3.501882314682007,
           -3.501882314682007,
           -3.501882314682007,
           -3.501882314682007,
           -3.501882314682007,
           -3.501882314682007,
           -3.501882314682007,
           -3.501882314682007,
           -3.501882314682007,
           -3.501882314682007,
           -3.501882314682007
          ],
          [
           -3.501882314682007,
           -3.501882314682007,
           -3.501882314682007,
           -3.501882314682007,
           -3.501882314682007,
           -3.501882314682007,
           -3.501882314682007,
           -3.501882314682007,
           -3.501882314682007,
           -3.501882314682007,
           -3.501882314682007,
           -3.501882314682007,
           -3.501882314682007,
           -3.501882314682007,
           -3.501882314682007,
           -3.501882314682007,
           -3.501882314682007,
           -3.501882314682007,
           -3.501882314682007,
           -3.501882314682007,
           -3.501882314682007,
           -3.501882314682007,
           -3.501882314682007,
           -3.501882314682007,
           -3.501882314682007,
           -3.501882314682007,
           -3.501882314682007,
           -3.501882314682007,
           -3.501882314682007,
           -3.501882314682007
          ],
          [
           -3.501882314682007,
           -3.501882314682007,
           -3.501882314682007,
           -3.501882314682007,
           -3.501882314682007,
           -3.501882314682007,
           -3.501882314682007,
           -3.501882314682007,
           -3.501882314682007,
           -3.501882314682007,
           -3.501882314682007,
           -3.501882314682007,
           -3.501882791519165,
           -3.501882791519165,
           -3.501882791519165,
           -3.501882791519165,
           -3.501882791519165,
           -3.501882314682007,
           -3.501882314682007,
           -3.501882314682007,
           -3.501882314682007,
           -3.501882314682007,
           -3.501882314682007,
           -3.501882314682007,
           -3.501882314682007,
           -3.5018813610076904,
           -3.5018813610076904,
           -3.5018813610076904,
           -3.5018813610076904,
           -3.5018813610076904
          ],
          [
           -3.501882314682007,
           -3.501882314682007,
           -3.501882314682007,
           -3.501882314682007,
           -3.501882314682007,
           -3.501882314682007,
           -3.501882314682007,
           -3.501882314682007,
           -3.501882791519165,
           -3.5018837451934814,
           -3.5018861293792725,
           -3.5018913745880127,
           -3.501896619796753,
           -3.501901388168335,
           -3.5019032955169678,
           -3.5019009113311768,
           -3.5018951892852783,
           -3.501889944076538,
           -3.5018861293792725,
           -3.5018837451934814,
           -3.5018837451934814,
           -3.5018837451934814,
           -3.501882791519165,
           -3.5018789768218994,
           -3.5018723011016846,
           -3.5018632411956787,
           -3.5018560886383057,
           -3.501854181289673,
           -3.5018579959869385,
           -3.5018651485443115
          ],
          [
           -3.501882314682007,
           -3.501882314682007,
           -3.501882314682007,
           -3.501882314682007,
           -3.501882314682007,
           -3.501882314682007,
           -3.501882791519165,
           -3.5018856525421143,
           -3.501896619796753,
           -3.5019257068634033,
           -3.5019891262054443,
           -3.5020978450775146,
           -3.5022366046905518,
           -3.502354383468628,
           -3.502393960952759,
           -3.5023343563079834,
           -3.502206563949585,
           -3.502073049545288,
           -3.5019772052764893,
           -3.5019304752349854,
           -3.501919984817505,
           -3.5019218921661377,
           -3.5019004344940186,
           -3.501812696456909,
           -3.501641035079956,
           -3.501422166824341,
           -3.5012471675872803,
           -3.501199960708618,
           -3.5012948513031006,
           -3.5014708042144775
          ],
          [
           -3.501882314682007,
           -3.501882314682007,
           -3.501882314682007,
           -3.501882314682007,
           -3.501882791519165,
           -3.5018837451934814,
           -3.5018937587738037,
           -3.501934289932251,
           -3.5020763874053955,
           -3.502474069595337,
           -3.503347635269165,
           -3.5048344135284424,
           -3.5067179203033447,
           -3.508326768875122,
           -3.5088703632354736,
           -3.5080502033233643,
           -3.506314992904663,
           -3.5044877529144287,
           -3.503178834915161,
           -3.5025393962860107,
           -3.5024001598358154,
           -3.502424955368042,
           -3.502117395401001,
           -3.500915288925171,
           -3.4985601902008057,
           -3.49556565284729,
           -3.4931695461273193,
           -3.4925267696380615,
           -3.4938290119171143,
           -3.49623703956604
          ],
          [
           -3.501882314682007,
           -3.501882314682007,
           -3.501882314682007,
           -3.501882791519165,
           -3.501884698867798,
           -3.501897096633911,
           -3.5019686222076416,
           -3.5022804737091064,
           -3.503373384475708,
           -3.5064213275909424,
           -3.513101816177368,
           -3.524397134780884,
           -3.5385901927948,
           -3.550597906112671,
           -3.5546348094940186,
           -3.5485384464263916,
           -3.535562753677368,
           -3.521777868270874,
           -3.5118138790130615,
           -3.5069143772125244,
           -3.505798578262329,
           -3.5058114528656006,
           -3.5031354427337646,
           -3.493581533432007,
           -3.4753530025482178,
           -3.4522955417633057,
           -3.4337642192840576,
           -3.4287703037261963,
           -3.4389126300811768,
           -3.457716703414917
          ],
          [
           -3.501882314682007,
           -3.501882314682007,
           -3.501882314682007,
           -3.5018832683563232,
           -3.501891851425171,
           -3.501948118209839,
           -3.50225567817688,
           -3.5036003589630127,
           -3.5083062648773193,
           -3.5213568210601807,
           -3.5496089458465576,
           -3.5962631702423096,
           -3.652837038040161,
           -3.698866128921509,
           -3.7139503955841064,
           -3.6910970211029053,
           -3.640977621078491,
           -3.5856025218963623,
           -3.544229745864868,
           -3.523315668106079,
           -3.5176522731781006,
           -3.5148704051971436,
           -3.4980781078338623,
           -3.4517061710357666,
           -3.3708903789520264,
           -3.2704808712005615,
           -3.188530683517456,
           -3.166074514389038,
           -3.212102174758911,
           -3.2982470989227295
          ],
          [
           -3.501882314682007,
           -3.501882314682007,
           -3.501882791519165,
           -3.501885175704956,
           -3.5019052028656006,
           -3.5020415782928467,
           -3.50278639793396,
           -3.5060417652130127,
           -3.51739239692688,
           -3.548565149307251,
           -3.6144607067108154,
           -3.7181336879730225,
           -3.8341124057769775,
           -3.919227361679077,
           -3.945045232772827,
           -3.9055283069610596,
           -3.810837507247925,
           -3.6951892375946045,
           -3.602224111557007,
           -3.5525577068328857,
           -3.5350286960601807,
           -3.5154988765716553,
           -3.4510042667388916,
           -3.3150570392608643,
           -3.1092631816864014,
           -2.8616974353790283,
           -2.6539132595062256,
           -2.5952441692352295,
           -2.7173073291778564,
           -2.9491379261016846
          ],
          [
           -3.501882314682007,
           -3.501882314682007,
           -3.501882791519165,
           -3.5018856525421143,
           -3.50191330909729,
           -3.5020997524261475,
           -3.503112554550171,
           -3.5075371265411377,
           -3.5229380130767822,
           -3.5649755001068115,
           -3.65248703956604,
           -3.785670518875122,
           -3.9255430698394775,
           -4.018500328063965,
           -4.044212341308594,
           -4.004332542419434,
           -3.8985402584075928,
           -3.7568843364715576,
           -3.6365044116973877,
           -3.5697782039642334,
           -3.5427424907684326,
           -3.5054056644439697,
           -3.397333860397339,
           -3.1918680667877197,
           -2.9030849933624268,
           -2.562493085861206,
           -2.271573781967163,
           -2.1879332065582275,
           -2.3634250164031982,
           -2.69919753074646
          ],
          [
           -3.501882314682007,
           -3.501882314682007,
           -3.501882791519165,
           -3.501885175704956,
           -3.501906156539917,
           -3.5020482540130615,
           -3.502821683883667,
           -3.50620436668396,
           -3.5179975032806396,
           -3.5503618717193604,
           -3.618664026260376,
           -3.72575306892395,
           -3.844802141189575,
           -3.9313857555389404,
           -3.9574501514434814,
           -3.9175140857696533,
           -3.820997953414917,
           -3.7021090984344482,
           -3.6060025691986084,
           -3.5544588565826416,
           -3.535977602005005,
           -3.514789342880249,
           -3.446091413497925,
           -3.3031365871429443,
           -3.088550329208374,
           -2.830970525741577,
           -2.614366292953491,
           -2.5530850887298584,
           -2.6807053089141846,
           -2.9232804775238037
          ]
         ],
         "type": "surface"
        },
        {
         "marker": {
          "color": "darkgreen"
         },
         "mode": "markers",
         "name": "training data",
         "x": [
          2.7300000190734863,
          3.4000000953674316,
          3.7899999618530273,
          6.440000057220459,
          5.360000133514404,
          8.989999771118164,
          8.800000190734863,
          14.670000076293945,
          5.239999771118164,
          14.890000343322754,
          10.130000114440918,
          4.510000228881836,
          5.369999885559082,
          4.880000114440918,
          6.760000228881836,
          7.769999980926514,
          8.729999542236328,
          9.380000114440918,
          10.479999542236328,
          11.010000228881836,
          14.710000038146973,
          15.4399995803833,
          13.369999885559082
         ],
         "y": [
          0.5,
          0.5,
          1,
          1,
          1.5,
          1.5,
          5,
          5,
          0.5,
          5,
          2,
          0.5,
          0.5,
          0.5,
          1,
          1,
          2,
          2,
          2,
          2,
          5,
          5,
          5
         ],
         "z": [
          0.8730257749557495,
          2.6772446632385254,
          1.6990152597427368,
          3.8050527572631836,
          3.3348562717437744,
          4.535152912139893,
          1.3625102043151855,
          3.8412907123565674,
          1.2013570070266724,
          3.5136520862579346,
          3.4708714485168457,
          0.26329827308654785,
          2.7753403186798096,
          2.591306209564209,
          2.579984426498413,
          3.173818588256836,
          0.13150501251220703,
          0.45116376876831055,
          2.1266398429870605,
          3.468212842941284,
          3.685852527618408,
          3.445655584335327,
          2.6515469551086426
         ],
         "type": "scatter3d"
        },
        {
         "mode": "markers",
         "name": "max(upper confidence bound)",
         "x": [
          8.85020923614502
         ],
         "y": [
          2.6668717861175537
         ],
         "z": [
          2.504992723464966
         ],
         "type": "scatter3d"
        },
        {
         "mode": "markers",
         "name": "max(thompson)",
         "x": [
          2.745652675628662
         ],
         "y": [
          3.498152732849121
         ],
         "z": [
          2.505253553390503
         ],
         "type": "scatter3d"
        },
        {
         "mode": "markers",
         "name": "max(pi)",
         "x": [
          8.85020923614502
         ],
         "y": [
          1.5030786991119385
         ],
         "z": [
          2.504992723464966
         ],
         "type": "scatter3d"
        },
        {
         "mode": "markers",
         "name": "max(ei)",
         "x": [
          8.85020923614502
         ],
         "y": [
          1.5030786991119385
         ],
         "z": [
          2.504992723464966
         ],
         "type": "scatter3d"
        },
        {
         "mode": "markers",
         "name": "max(ca)",
         "x": [
          8.85020923614502
         ],
         "y": [
          1.336822509765625
         ],
         "z": [
          2.50508975982666
         ],
         "type": "scatter3d"
        }
       ],
       "layout": {
        "template": {
         "data": {
          "histogram2dcontour": [
           {
            "type": "histogram2dcontour",
            "colorbar": {
             "outlinewidth": 0,
             "ticks": ""
            },
            "colorscale": [
             [
              0,
              "#0d0887"
             ],
             [
              0.1111111111111111,
              "#46039f"
             ],
             [
              0.2222222222222222,
              "#7201a8"
             ],
             [
              0.3333333333333333,
              "#9c179e"
             ],
             [
              0.4444444444444444,
              "#bd3786"
             ],
             [
              0.5555555555555556,
              "#d8576b"
             ],
             [
              0.6666666666666666,
              "#ed7953"
             ],
             [
              0.7777777777777778,
              "#fb9f3a"
             ],
             [
              0.8888888888888888,
              "#fdca26"
             ],
             [
              1,
              "#f0f921"
             ]
            ]
           }
          ],
          "choropleth": [
           {
            "type": "choropleth",
            "colorbar": {
             "outlinewidth": 0,
             "ticks": ""
            }
           }
          ],
          "histogram2d": [
           {
            "type": "histogram2d",
            "colorbar": {
             "outlinewidth": 0,
             "ticks": ""
            },
            "colorscale": [
             [
              0,
              "#0d0887"
             ],
             [
              0.1111111111111111,
              "#46039f"
             ],
             [
              0.2222222222222222,
              "#7201a8"
             ],
             [
              0.3333333333333333,
              "#9c179e"
             ],
             [
              0.4444444444444444,
              "#bd3786"
             ],
             [
              0.5555555555555556,
              "#d8576b"
             ],
             [
              0.6666666666666666,
              "#ed7953"
             ],
             [
              0.7777777777777778,
              "#fb9f3a"
             ],
             [
              0.8888888888888888,
              "#fdca26"
             ],
             [
              1,
              "#f0f921"
             ]
            ]
           }
          ],
          "heatmap": [
           {
            "type": "heatmap",
            "colorbar": {
             "outlinewidth": 0,
             "ticks": ""
            },
            "colorscale": [
             [
              0,
              "#0d0887"
             ],
             [
              0.1111111111111111,
              "#46039f"
             ],
             [
              0.2222222222222222,
              "#7201a8"
             ],
             [
              0.3333333333333333,
              "#9c179e"
             ],
             [
              0.4444444444444444,
              "#bd3786"
             ],
             [
              0.5555555555555556,
              "#d8576b"
             ],
             [
              0.6666666666666666,
              "#ed7953"
             ],
             [
              0.7777777777777778,
              "#fb9f3a"
             ],
             [
              0.8888888888888888,
              "#fdca26"
             ],
             [
              1,
              "#f0f921"
             ]
            ]
           }
          ],
          "heatmapgl": [
           {
            "type": "heatmapgl",
            "colorbar": {
             "outlinewidth": 0,
             "ticks": ""
            },
            "colorscale": [
             [
              0,
              "#0d0887"
             ],
             [
              0.1111111111111111,
              "#46039f"
             ],
             [
              0.2222222222222222,
              "#7201a8"
             ],
             [
              0.3333333333333333,
              "#9c179e"
             ],
             [
              0.4444444444444444,
              "#bd3786"
             ],
             [
              0.5555555555555556,
              "#d8576b"
             ],
             [
              0.6666666666666666,
              "#ed7953"
             ],
             [
              0.7777777777777778,
              "#fb9f3a"
             ],
             [
              0.8888888888888888,
              "#fdca26"
             ],
             [
              1,
              "#f0f921"
             ]
            ]
           }
          ],
          "contourcarpet": [
           {
            "type": "contourcarpet",
            "colorbar": {
             "outlinewidth": 0,
             "ticks": ""
            }
           }
          ],
          "contour": [
           {
            "type": "contour",
            "colorbar": {
             "outlinewidth": 0,
             "ticks": ""
            },
            "colorscale": [
             [
              0,
              "#0d0887"
             ],
             [
              0.1111111111111111,
              "#46039f"
             ],
             [
              0.2222222222222222,
              "#7201a8"
             ],
             [
              0.3333333333333333,
              "#9c179e"
             ],
             [
              0.4444444444444444,
              "#bd3786"
             ],
             [
              0.5555555555555556,
              "#d8576b"
             ],
             [
              0.6666666666666666,
              "#ed7953"
             ],
             [
              0.7777777777777778,
              "#fb9f3a"
             ],
             [
              0.8888888888888888,
              "#fdca26"
             ],
             [
              1,
              "#f0f921"
             ]
            ]
           }
          ],
          "surface": [
           {
            "type": "surface",
            "colorbar": {
             "outlinewidth": 0,
             "ticks": ""
            },
            "colorscale": [
             [
              0,
              "#0d0887"
             ],
             [
              0.1111111111111111,
              "#46039f"
             ],
             [
              0.2222222222222222,
              "#7201a8"
             ],
             [
              0.3333333333333333,
              "#9c179e"
             ],
             [
              0.4444444444444444,
              "#bd3786"
             ],
             [
              0.5555555555555556,
              "#d8576b"
             ],
             [
              0.6666666666666666,
              "#ed7953"
             ],
             [
              0.7777777777777778,
              "#fb9f3a"
             ],
             [
              0.8888888888888888,
              "#fdca26"
             ],
             [
              1,
              "#f0f921"
             ]
            ]
           }
          ],
          "mesh3d": [
           {
            "type": "mesh3d",
            "colorbar": {
             "outlinewidth": 0,
             "ticks": ""
            }
           }
          ],
          "scatter": [
           {
            "fillpattern": {
             "fillmode": "overlay",
             "size": 10,
             "solidity": 0.2
            },
            "type": "scatter"
           }
          ],
          "parcoords": [
           {
            "type": "parcoords",
            "line": {
             "colorbar": {
              "outlinewidth": 0,
              "ticks": ""
             }
            }
           }
          ],
          "scatterpolargl": [
           {
            "type": "scatterpolargl",
            "marker": {
             "colorbar": {
              "outlinewidth": 0,
              "ticks": ""
             }
            }
           }
          ],
          "bar": [
           {
            "error_x": {
             "color": "#2a3f5f"
            },
            "error_y": {
             "color": "#2a3f5f"
            },
            "marker": {
             "line": {
              "color": "#E5ECF6",
              "width": 0.5
             },
             "pattern": {
              "fillmode": "overlay",
              "size": 10,
              "solidity": 0.2
             }
            },
            "type": "bar"
           }
          ],
          "scattergeo": [
           {
            "type": "scattergeo",
            "marker": {
             "colorbar": {
              "outlinewidth": 0,
              "ticks": ""
             }
            }
           }
          ],
          "scatterpolar": [
           {
            "type": "scatterpolar",
            "marker": {
             "colorbar": {
              "outlinewidth": 0,
              "ticks": ""
             }
            }
           }
          ],
          "histogram": [
           {
            "marker": {
             "pattern": {
              "fillmode": "overlay",
              "size": 10,
              "solidity": 0.2
             }
            },
            "type": "histogram"
           }
          ],
          "scattergl": [
           {
            "type": "scattergl",
            "marker": {
             "colorbar": {
              "outlinewidth": 0,
              "ticks": ""
             }
            }
           }
          ],
          "scatter3d": [
           {
            "type": "scatter3d",
            "line": {
             "colorbar": {
              "outlinewidth": 0,
              "ticks": ""
             }
            },
            "marker": {
             "colorbar": {
              "outlinewidth": 0,
              "ticks": ""
             }
            }
           }
          ],
          "scattermapbox": [
           {
            "type": "scattermapbox",
            "marker": {
             "colorbar": {
              "outlinewidth": 0,
              "ticks": ""
             }
            }
           }
          ],
          "scatterternary": [
           {
            "type": "scatterternary",
            "marker": {
             "colorbar": {
              "outlinewidth": 0,
              "ticks": ""
             }
            }
           }
          ],
          "scattercarpet": [
           {
            "type": "scattercarpet",
            "marker": {
             "colorbar": {
              "outlinewidth": 0,
              "ticks": ""
             }
            }
           }
          ],
          "carpet": [
           {
            "aaxis": {
             "endlinecolor": "#2a3f5f",
             "gridcolor": "white",
             "linecolor": "white",
             "minorgridcolor": "white",
             "startlinecolor": "#2a3f5f"
            },
            "baxis": {
             "endlinecolor": "#2a3f5f",
             "gridcolor": "white",
             "linecolor": "white",
             "minorgridcolor": "white",
             "startlinecolor": "#2a3f5f"
            },
            "type": "carpet"
           }
          ],
          "table": [
           {
            "cells": {
             "fill": {
              "color": "#EBF0F8"
             },
             "line": {
              "color": "white"
             }
            },
            "header": {
             "fill": {
              "color": "#C8D4E3"
             },
             "line": {
              "color": "white"
             }
            },
            "type": "table"
           }
          ],
          "barpolar": [
           {
            "marker": {
             "line": {
              "color": "#E5ECF6",
              "width": 0.5
             },
             "pattern": {
              "fillmode": "overlay",
              "size": 10,
              "solidity": 0.2
             }
            },
            "type": "barpolar"
           }
          ],
          "pie": [
           {
            "automargin": true,
            "type": "pie"
           }
          ]
         },
         "layout": {
          "autotypenumbers": "strict",
          "colorway": [
           "#636efa",
           "#EF553B",
           "#00cc96",
           "#ab63fa",
           "#FFA15A",
           "#19d3f3",
           "#FF6692",
           "#B6E880",
           "#FF97FF",
           "#FECB52"
          ],
          "font": {
           "color": "#2a3f5f"
          },
          "hovermode": "closest",
          "hoverlabel": {
           "align": "left"
          },
          "paper_bgcolor": "white",
          "plot_bgcolor": "#E5ECF6",
          "polar": {
           "bgcolor": "#E5ECF6",
           "angularaxis": {
            "gridcolor": "white",
            "linecolor": "white",
            "ticks": ""
           },
           "radialaxis": {
            "gridcolor": "white",
            "linecolor": "white",
            "ticks": ""
           }
          },
          "ternary": {
           "bgcolor": "#E5ECF6",
           "aaxis": {
            "gridcolor": "white",
            "linecolor": "white",
            "ticks": ""
           },
           "baxis": {
            "gridcolor": "white",
            "linecolor": "white",
            "ticks": ""
           },
           "caxis": {
            "gridcolor": "white",
            "linecolor": "white",
            "ticks": ""
           }
          },
          "coloraxis": {
           "colorbar": {
            "outlinewidth": 0,
            "ticks": ""
           }
          },
          "colorscale": {
           "sequential": [
            [
             0,
             "#0d0887"
            ],
            [
             0.1111111111111111,
             "#46039f"
            ],
            [
             0.2222222222222222,
             "#7201a8"
            ],
            [
             0.3333333333333333,
             "#9c179e"
            ],
            [
             0.4444444444444444,
             "#bd3786"
            ],
            [
             0.5555555555555556,
             "#d8576b"
            ],
            [
             0.6666666666666666,
             "#ed7953"
            ],
            [
             0.7777777777777778,
             "#fb9f3a"
            ],
            [
             0.8888888888888888,
             "#fdca26"
            ],
            [
             1,
             "#f0f921"
            ]
           ],
           "sequentialminus": [
            [
             0,
             "#0d0887"
            ],
            [
             0.1111111111111111,
             "#46039f"
            ],
            [
             0.2222222222222222,
             "#7201a8"
            ],
            [
             0.3333333333333333,
             "#9c179e"
            ],
            [
             0.4444444444444444,
             "#bd3786"
            ],
            [
             0.5555555555555556,
             "#d8576b"
            ],
            [
             0.6666666666666666,
             "#ed7953"
            ],
            [
             0.7777777777777778,
             "#fb9f3a"
            ],
            [
             0.8888888888888888,
             "#fdca26"
            ],
            [
             1,
             "#f0f921"
            ]
           ],
           "diverging": [
            [
             0,
             "#8e0152"
            ],
            [
             0.1,
             "#c51b7d"
            ],
            [
             0.2,
             "#de77ae"
            ],
            [
             0.3,
             "#f1b6da"
            ],
            [
             0.4,
             "#fde0ef"
            ],
            [
             0.5,
             "#f7f7f7"
            ],
            [
             0.6,
             "#e6f5d0"
            ],
            [
             0.7,
             "#b8e186"
            ],
            [
             0.8,
             "#7fbc41"
            ],
            [
             0.9,
             "#4d9221"
            ],
            [
             1,
             "#276419"
            ]
           ]
          },
          "xaxis": {
           "gridcolor": "white",
           "linecolor": "white",
           "ticks": "",
           "title": {
            "standoff": 15
           },
           "zerolinecolor": "white",
           "automargin": true,
           "zerolinewidth": 2
          },
          "yaxis": {
           "gridcolor": "white",
           "linecolor": "white",
           "ticks": "",
           "title": {
            "standoff": 15
           },
           "zerolinecolor": "white",
           "automargin": true,
           "zerolinewidth": 2
          },
          "scene": {
           "xaxis": {
            "backgroundcolor": "#E5ECF6",
            "gridcolor": "white",
            "linecolor": "white",
            "showbackground": true,
            "ticks": "",
            "zerolinecolor": "white",
            "gridwidth": 2
           },
           "yaxis": {
            "backgroundcolor": "#E5ECF6",
            "gridcolor": "white",
            "linecolor": "white",
            "showbackground": true,
            "ticks": "",
            "zerolinecolor": "white",
            "gridwidth": 2
           },
           "zaxis": {
            "backgroundcolor": "#E5ECF6",
            "gridcolor": "white",
            "linecolor": "white",
            "showbackground": true,
            "ticks": "",
            "zerolinecolor": "white",
            "gridwidth": 2
           }
          },
          "shapedefaults": {
           "line": {
            "color": "#2a3f5f"
           }
          },
          "annotationdefaults": {
           "arrowcolor": "#2a3f5f",
           "arrowhead": 0,
           "arrowwidth": 1
          },
          "geo": {
           "bgcolor": "white",
           "landcolor": "#E5ECF6",
           "subunitcolor": "white",
           "showland": true,
           "showlakes": true,
           "lakecolor": "white"
          },
          "title": {
           "x": 0.05
          },
          "mapbox": {
           "style": "light"
          }
         }
        },
        "margin": {
         "r": 20,
         "l": 10,
         "b": 10,
         "t": 10
        },
        "legend": {
         "orientation": "h",
         "yanchor": "bottom",
         "y": 1.02,
         "xanchor": "right",
         "x": 1
        },
        "width": 800,
        "height": 600,
        "scene": {
         "xaxis": {
          "title": {
           "text": "Energy density new cone (J/cm^2)"
          }
         },
         "yaxis": {
          "title": {
           "text": "Pulse Width (msec)"
          }
         },
         "zaxis": {
          "title": {
           "text": "2 Qsw/(U+|D|) 1e6"
          }
         }
        }
       },
       "config": {
        "plotlyServerURL": "https://plot.ly"
       }
      }
     },
     "metadata": {}
    }
   ],
   "metadata": {}
  },
  {
   "cell_type": "code",
   "execution_count": null,
   "source": [],
   "outputs": [],
   "metadata": {}
  }
 ],
 "metadata": {
  "orig_nbformat": 4,
  "language_info": {
   "name": "python",
   "version": "3.9.16",
   "mimetype": "text/x-python",
   "codemirror_mode": {
    "name": "ipython",
    "version": 3
   },
   "pygments_lexer": "ipython3",
   "nbconvert_exporter": "python",
   "file_extension": ".py"
  },
  "kernelspec": {
   "name": "python3",
   "display_name": "Python 3.9.16 64-bit ('FEGP': conda)"
  },
  "interpreter": {
   "hash": "b00f9bca1c18369f730e284e4d0522d8a3e0f0b629e30dad99ec4bb4df6f08b7"
  }
 },
 "nbformat": 4,
 "nbformat_minor": 2
}