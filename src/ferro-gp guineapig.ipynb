{
 "cells": [
  {
   "cell_type": "code",
   "execution_count": 708,
   "source": [
    "import sys\n",
    "from tkinter import Y\n",
    "import numpy as np\n",
    "import pandas as pd\n",
    "import torch\n",
    "import gpytorch\n",
    "import plotly.express as px\n",
    "import matplotlib.pyplot as plt\n",
    "sys.path.append('..')\n",
    "sys.path.insert(0, '../src')"
   ],
   "outputs": [],
   "metadata": {}
  },
  {
   "cell_type": "code",
   "execution_count": 709,
   "source": [
    "# custom imports\n",
    "from model import GPModel\n",
    "from GPy.models import GPRegression\n",
    "from acq_funcs import EI, PI, cust_acq, thompson\n",
    "from plotter import vis_pred, vis_acq"
   ],
   "outputs": [],
   "metadata": {}
  },
  {
   "cell_type": "markdown",
   "source": [
    "### Data Read and Pre-processing"
   ],
   "metadata": {}
  },
  {
   "cell_type": "code",
   "execution_count": 710,
   "source": [
    "# read data and display\n",
    "def read_dat(dir=\"/Users/valenetjong/Bayesian-Optimization-Ferroelectrics/data/\",\n",
    "            src_file = \"Bolometer_readings_PulseForge.xlsx\", sheet= \"Combined\"):\n",
    "    file = dir + src_file\n",
    "    fe_data = pd.read_excel(file, sheet_name=sheet, usecols=['Energy density new cone (J/cm^2)',\n",
    "                            'Time (ms)','2 Qsw/(U+|D|) 1e6cycles'])\n",
    "    fe_data.dropna(subset=['2 Qsw/(U+|D|) 1e6cycles'], inplace=True)\n",
    "    fe_data = fe_data[fe_data['2 Qsw/(U+|D|) 1e6cycles']!= 0]\n",
    "    return fe_data\n",
    "\n",
    "def display_data(fe_data):\n",
    "    \"\"\"\n",
    "    [display_data(fe_data)] creates a cross-section scatter plot of all combinations\n",
    "    of the four input parameters and single output parameter.\n",
    "    \"\"\"\n",
    "    # plot each cross-section\n",
    "    fig = px.scatter_matrix(fe_data, dimensions=['Energy density new cone (J/cm^2)', \n",
    "    \"Time (ms)\", \"2 Qsw/(U+|D|) 1e6cycles\"])\n",
    "    fig.update_layout(margin=dict(r=20, l=10, b=10, t=10))\n",
    "    fig.update_layout(height=800)\n",
    "    fig.show()"
   ],
   "outputs": [],
   "metadata": {}
  },
  {
   "cell_type": "code",
   "execution_count": 711,
   "source": [
    "fe_data = read_dat()\n",
    "print(fe_data)\n",
    "display_data(fe_data)"
   ],
   "outputs": [
    {
     "output_type": "stream",
     "name": "stdout",
     "text": [
      "    Time (ms)  Energy density new cone (J/cm^2)  2 Qsw/(U+|D|) 1e6cycles\n",
      "4         0.5                              2.73                 0.873026\n",
      "5         0.5                              3.40                 2.677245\n",
      "6         1.0                              3.79                 1.699015\n",
      "7         1.0                              6.44                 3.805053\n",
      "8         1.5                              5.36                 3.334856\n",
      "9         1.5                              8.99                 4.535153\n",
      "11        5.0                              8.80                 1.362510\n",
      "13        5.0                             14.67                 3.841291\n",
      "19        0.5                              5.24                 1.201357\n",
      "22        5.0                             14.89                 3.513652\n",
      "23        2.0                             10.13                 3.470871\n",
      "24        0.5                              4.51                 0.263298\n",
      "25        0.5                              5.37                 2.775340\n",
      "27        0.5                              4.88                 2.591306\n",
      "28        1.0                              6.76                 2.579984\n",
      "29        1.0                              7.77                 3.173819\n",
      "31        2.0                              8.73                 0.131505\n",
      "32        2.0                              9.38                 0.451164\n",
      "33        2.0                             10.48                 2.126640\n",
      "34        2.0                             11.01                 3.468213\n",
      "35        5.0                             14.71                 3.685852\n",
      "36        5.0                             15.44                 3.445656\n",
      "37        5.0                             13.37                 2.651547\n"
     ]
    },
    {
     "output_type": "display_data",
     "data": {
      "application/vnd.plotly.v1+json": {
       "data": [
        {
         "dimensions": [
          {
           "axis": {
            "matches": true
           },
           "label": "Energy density new cone (J/cm^2)",
           "values": [
            2.73,
            3.4,
            3.79,
            6.44,
            5.36,
            8.99,
            8.8,
            14.67,
            5.24,
            14.89,
            10.13,
            4.51,
            5.37,
            4.88,
            6.76,
            7.77,
            8.73,
            9.38,
            10.48,
            11.01,
            14.71,
            15.44,
            13.37
           ]
          },
          {
           "axis": {
            "matches": true
           },
           "label": "Time (ms)",
           "values": [
            0.5,
            0.5,
            1,
            1,
            1.5,
            1.5,
            5,
            5,
            0.5,
            5,
            2,
            0.5,
            0.5,
            0.5,
            1,
            1,
            2,
            2,
            2,
            2,
            5,
            5,
            5
           ]
          },
          {
           "axis": {
            "matches": true
           },
           "label": "2 Qsw/(U+|D|) 1e6cycles",
           "values": [
            0.8730257299654021,
            2.677244640050493,
            1.6990152147413928,
            3.8050528055652655,
            3.3348561928152627,
            4.535152817359003,
            1.3625102372531497,
            3.841290609056986,
            1.2013569985324948,
            3.5136521918176413,
            3.4708714822041062,
            0.2632982379553876,
            2.7753404356378253,
            2.5913062464887977,
            2.579984359259049,
            3.1738185691110727,
            0.1315049942519029,
            0.4511637114621348,
            2.126639748505365,
            3.468212840642842,
            3.685852431471957,
            3.445655582638384,
            2.651546836022379
           ]
          }
         ],
         "hovertemplate": "%{xaxis.title.text}=%{x}<br>%{yaxis.title.text}=%{y}<extra></extra>",
         "legendgroup": "",
         "marker": {
          "color": "#636efa",
          "symbol": "circle"
         },
         "name": "",
         "showlegend": false,
         "type": "splom"
        }
       ],
       "layout": {
        "template": {
         "data": {
          "histogram2dcontour": [
           {
            "type": "histogram2dcontour",
            "colorbar": {
             "outlinewidth": 0,
             "ticks": ""
            },
            "colorscale": [
             [
              0,
              "#0d0887"
             ],
             [
              0.1111111111111111,
              "#46039f"
             ],
             [
              0.2222222222222222,
              "#7201a8"
             ],
             [
              0.3333333333333333,
              "#9c179e"
             ],
             [
              0.4444444444444444,
              "#bd3786"
             ],
             [
              0.5555555555555556,
              "#d8576b"
             ],
             [
              0.6666666666666666,
              "#ed7953"
             ],
             [
              0.7777777777777778,
              "#fb9f3a"
             ],
             [
              0.8888888888888888,
              "#fdca26"
             ],
             [
              1,
              "#f0f921"
             ]
            ]
           }
          ],
          "choropleth": [
           {
            "type": "choropleth",
            "colorbar": {
             "outlinewidth": 0,
             "ticks": ""
            }
           }
          ],
          "histogram2d": [
           {
            "type": "histogram2d",
            "colorbar": {
             "outlinewidth": 0,
             "ticks": ""
            },
            "colorscale": [
             [
              0,
              "#0d0887"
             ],
             [
              0.1111111111111111,
              "#46039f"
             ],
             [
              0.2222222222222222,
              "#7201a8"
             ],
             [
              0.3333333333333333,
              "#9c179e"
             ],
             [
              0.4444444444444444,
              "#bd3786"
             ],
             [
              0.5555555555555556,
              "#d8576b"
             ],
             [
              0.6666666666666666,
              "#ed7953"
             ],
             [
              0.7777777777777778,
              "#fb9f3a"
             ],
             [
              0.8888888888888888,
              "#fdca26"
             ],
             [
              1,
              "#f0f921"
             ]
            ]
           }
          ],
          "heatmap": [
           {
            "type": "heatmap",
            "colorbar": {
             "outlinewidth": 0,
             "ticks": ""
            },
            "colorscale": [
             [
              0,
              "#0d0887"
             ],
             [
              0.1111111111111111,
              "#46039f"
             ],
             [
              0.2222222222222222,
              "#7201a8"
             ],
             [
              0.3333333333333333,
              "#9c179e"
             ],
             [
              0.4444444444444444,
              "#bd3786"
             ],
             [
              0.5555555555555556,
              "#d8576b"
             ],
             [
              0.6666666666666666,
              "#ed7953"
             ],
             [
              0.7777777777777778,
              "#fb9f3a"
             ],
             [
              0.8888888888888888,
              "#fdca26"
             ],
             [
              1,
              "#f0f921"
             ]
            ]
           }
          ],
          "heatmapgl": [
           {
            "type": "heatmapgl",
            "colorbar": {
             "outlinewidth": 0,
             "ticks": ""
            },
            "colorscale": [
             [
              0,
              "#0d0887"
             ],
             [
              0.1111111111111111,
              "#46039f"
             ],
             [
              0.2222222222222222,
              "#7201a8"
             ],
             [
              0.3333333333333333,
              "#9c179e"
             ],
             [
              0.4444444444444444,
              "#bd3786"
             ],
             [
              0.5555555555555556,
              "#d8576b"
             ],
             [
              0.6666666666666666,
              "#ed7953"
             ],
             [
              0.7777777777777778,
              "#fb9f3a"
             ],
             [
              0.8888888888888888,
              "#fdca26"
             ],
             [
              1,
              "#f0f921"
             ]
            ]
           }
          ],
          "contourcarpet": [
           {
            "type": "contourcarpet",
            "colorbar": {
             "outlinewidth": 0,
             "ticks": ""
            }
           }
          ],
          "contour": [
           {
            "type": "contour",
            "colorbar": {
             "outlinewidth": 0,
             "ticks": ""
            },
            "colorscale": [
             [
              0,
              "#0d0887"
             ],
             [
              0.1111111111111111,
              "#46039f"
             ],
             [
              0.2222222222222222,
              "#7201a8"
             ],
             [
              0.3333333333333333,
              "#9c179e"
             ],
             [
              0.4444444444444444,
              "#bd3786"
             ],
             [
              0.5555555555555556,
              "#d8576b"
             ],
             [
              0.6666666666666666,
              "#ed7953"
             ],
             [
              0.7777777777777778,
              "#fb9f3a"
             ],
             [
              0.8888888888888888,
              "#fdca26"
             ],
             [
              1,
              "#f0f921"
             ]
            ]
           }
          ],
          "surface": [
           {
            "type": "surface",
            "colorbar": {
             "outlinewidth": 0,
             "ticks": ""
            },
            "colorscale": [
             [
              0,
              "#0d0887"
             ],
             [
              0.1111111111111111,
              "#46039f"
             ],
             [
              0.2222222222222222,
              "#7201a8"
             ],
             [
              0.3333333333333333,
              "#9c179e"
             ],
             [
              0.4444444444444444,
              "#bd3786"
             ],
             [
              0.5555555555555556,
              "#d8576b"
             ],
             [
              0.6666666666666666,
              "#ed7953"
             ],
             [
              0.7777777777777778,
              "#fb9f3a"
             ],
             [
              0.8888888888888888,
              "#fdca26"
             ],
             [
              1,
              "#f0f921"
             ]
            ]
           }
          ],
          "mesh3d": [
           {
            "type": "mesh3d",
            "colorbar": {
             "outlinewidth": 0,
             "ticks": ""
            }
           }
          ],
          "scatter": [
           {
            "fillpattern": {
             "fillmode": "overlay",
             "size": 10,
             "solidity": 0.2
            },
            "type": "scatter"
           }
          ],
          "parcoords": [
           {
            "type": "parcoords",
            "line": {
             "colorbar": {
              "outlinewidth": 0,
              "ticks": ""
             }
            }
           }
          ],
          "scatterpolargl": [
           {
            "type": "scatterpolargl",
            "marker": {
             "colorbar": {
              "outlinewidth": 0,
              "ticks": ""
             }
            }
           }
          ],
          "bar": [
           {
            "error_x": {
             "color": "#2a3f5f"
            },
            "error_y": {
             "color": "#2a3f5f"
            },
            "marker": {
             "line": {
              "color": "#E5ECF6",
              "width": 0.5
             },
             "pattern": {
              "fillmode": "overlay",
              "size": 10,
              "solidity": 0.2
             }
            },
            "type": "bar"
           }
          ],
          "scattergeo": [
           {
            "type": "scattergeo",
            "marker": {
             "colorbar": {
              "outlinewidth": 0,
              "ticks": ""
             }
            }
           }
          ],
          "scatterpolar": [
           {
            "type": "scatterpolar",
            "marker": {
             "colorbar": {
              "outlinewidth": 0,
              "ticks": ""
             }
            }
           }
          ],
          "histogram": [
           {
            "marker": {
             "pattern": {
              "fillmode": "overlay",
              "size": 10,
              "solidity": 0.2
             }
            },
            "type": "histogram"
           }
          ],
          "scattergl": [
           {
            "type": "scattergl",
            "marker": {
             "colorbar": {
              "outlinewidth": 0,
              "ticks": ""
             }
            }
           }
          ],
          "scatter3d": [
           {
            "type": "scatter3d",
            "line": {
             "colorbar": {
              "outlinewidth": 0,
              "ticks": ""
             }
            },
            "marker": {
             "colorbar": {
              "outlinewidth": 0,
              "ticks": ""
             }
            }
           }
          ],
          "scattermapbox": [
           {
            "type": "scattermapbox",
            "marker": {
             "colorbar": {
              "outlinewidth": 0,
              "ticks": ""
             }
            }
           }
          ],
          "scatterternary": [
           {
            "type": "scatterternary",
            "marker": {
             "colorbar": {
              "outlinewidth": 0,
              "ticks": ""
             }
            }
           }
          ],
          "scattercarpet": [
           {
            "type": "scattercarpet",
            "marker": {
             "colorbar": {
              "outlinewidth": 0,
              "ticks": ""
             }
            }
           }
          ],
          "carpet": [
           {
            "aaxis": {
             "endlinecolor": "#2a3f5f",
             "gridcolor": "white",
             "linecolor": "white",
             "minorgridcolor": "white",
             "startlinecolor": "#2a3f5f"
            },
            "baxis": {
             "endlinecolor": "#2a3f5f",
             "gridcolor": "white",
             "linecolor": "white",
             "minorgridcolor": "white",
             "startlinecolor": "#2a3f5f"
            },
            "type": "carpet"
           }
          ],
          "table": [
           {
            "cells": {
             "fill": {
              "color": "#EBF0F8"
             },
             "line": {
              "color": "white"
             }
            },
            "header": {
             "fill": {
              "color": "#C8D4E3"
             },
             "line": {
              "color": "white"
             }
            },
            "type": "table"
           }
          ],
          "barpolar": [
           {
            "marker": {
             "line": {
              "color": "#E5ECF6",
              "width": 0.5
             },
             "pattern": {
              "fillmode": "overlay",
              "size": 10,
              "solidity": 0.2
             }
            },
            "type": "barpolar"
           }
          ],
          "pie": [
           {
            "automargin": true,
            "type": "pie"
           }
          ]
         },
         "layout": {
          "autotypenumbers": "strict",
          "colorway": [
           "#636efa",
           "#EF553B",
           "#00cc96",
           "#ab63fa",
           "#FFA15A",
           "#19d3f3",
           "#FF6692",
           "#B6E880",
           "#FF97FF",
           "#FECB52"
          ],
          "font": {
           "color": "#2a3f5f"
          },
          "hovermode": "closest",
          "hoverlabel": {
           "align": "left"
          },
          "paper_bgcolor": "white",
          "plot_bgcolor": "#E5ECF6",
          "polar": {
           "bgcolor": "#E5ECF6",
           "angularaxis": {
            "gridcolor": "white",
            "linecolor": "white",
            "ticks": ""
           },
           "radialaxis": {
            "gridcolor": "white",
            "linecolor": "white",
            "ticks": ""
           }
          },
          "ternary": {
           "bgcolor": "#E5ECF6",
           "aaxis": {
            "gridcolor": "white",
            "linecolor": "white",
            "ticks": ""
           },
           "baxis": {
            "gridcolor": "white",
            "linecolor": "white",
            "ticks": ""
           },
           "caxis": {
            "gridcolor": "white",
            "linecolor": "white",
            "ticks": ""
           }
          },
          "coloraxis": {
           "colorbar": {
            "outlinewidth": 0,
            "ticks": ""
           }
          },
          "colorscale": {
           "sequential": [
            [
             0,
             "#0d0887"
            ],
            [
             0.1111111111111111,
             "#46039f"
            ],
            [
             0.2222222222222222,
             "#7201a8"
            ],
            [
             0.3333333333333333,
             "#9c179e"
            ],
            [
             0.4444444444444444,
             "#bd3786"
            ],
            [
             0.5555555555555556,
             "#d8576b"
            ],
            [
             0.6666666666666666,
             "#ed7953"
            ],
            [
             0.7777777777777778,
             "#fb9f3a"
            ],
            [
             0.8888888888888888,
             "#fdca26"
            ],
            [
             1,
             "#f0f921"
            ]
           ],
           "sequentialminus": [
            [
             0,
             "#0d0887"
            ],
            [
             0.1111111111111111,
             "#46039f"
            ],
            [
             0.2222222222222222,
             "#7201a8"
            ],
            [
             0.3333333333333333,
             "#9c179e"
            ],
            [
             0.4444444444444444,
             "#bd3786"
            ],
            [
             0.5555555555555556,
             "#d8576b"
            ],
            [
             0.6666666666666666,
             "#ed7953"
            ],
            [
             0.7777777777777778,
             "#fb9f3a"
            ],
            [
             0.8888888888888888,
             "#fdca26"
            ],
            [
             1,
             "#f0f921"
            ]
           ],
           "diverging": [
            [
             0,
             "#8e0152"
            ],
            [
             0.1,
             "#c51b7d"
            ],
            [
             0.2,
             "#de77ae"
            ],
            [
             0.3,
             "#f1b6da"
            ],
            [
             0.4,
             "#fde0ef"
            ],
            [
             0.5,
             "#f7f7f7"
            ],
            [
             0.6,
             "#e6f5d0"
            ],
            [
             0.7,
             "#b8e186"
            ],
            [
             0.8,
             "#7fbc41"
            ],
            [
             0.9,
             "#4d9221"
            ],
            [
             1,
             "#276419"
            ]
           ]
          },
          "xaxis": {
           "gridcolor": "white",
           "linecolor": "white",
           "ticks": "",
           "title": {
            "standoff": 15
           },
           "zerolinecolor": "white",
           "automargin": true,
           "zerolinewidth": 2
          },
          "yaxis": {
           "gridcolor": "white",
           "linecolor": "white",
           "ticks": "",
           "title": {
            "standoff": 15
           },
           "zerolinecolor": "white",
           "automargin": true,
           "zerolinewidth": 2
          },
          "scene": {
           "xaxis": {
            "backgroundcolor": "#E5ECF6",
            "gridcolor": "white",
            "linecolor": "white",
            "showbackground": true,
            "ticks": "",
            "zerolinecolor": "white",
            "gridwidth": 2
           },
           "yaxis": {
            "backgroundcolor": "#E5ECF6",
            "gridcolor": "white",
            "linecolor": "white",
            "showbackground": true,
            "ticks": "",
            "zerolinecolor": "white",
            "gridwidth": 2
           },
           "zaxis": {
            "backgroundcolor": "#E5ECF6",
            "gridcolor": "white",
            "linecolor": "white",
            "showbackground": true,
            "ticks": "",
            "zerolinecolor": "white",
            "gridwidth": 2
           }
          },
          "shapedefaults": {
           "line": {
            "color": "#2a3f5f"
           }
          },
          "annotationdefaults": {
           "arrowcolor": "#2a3f5f",
           "arrowhead": 0,
           "arrowwidth": 1
          },
          "geo": {
           "bgcolor": "white",
           "landcolor": "#E5ECF6",
           "subunitcolor": "white",
           "showland": true,
           "showlakes": true,
           "lakecolor": "white"
          },
          "title": {
           "x": 0.05
          },
          "mapbox": {
           "style": "light"
          }
         }
        },
        "legend": {
         "tracegroupgap": 0
        },
        "margin": {
         "t": 10,
         "r": 20,
         "l": 10,
         "b": 10
        },
        "dragmode": "select",
        "height": 800
       },
       "config": {
        "plotlyServerURL": "https://plot.ly"
       }
      }
     },
     "metadata": {}
    }
   ],
   "metadata": {}
  },
  {
   "cell_type": "code",
   "execution_count": 712,
   "source": [
    "# define scaler and inverse scaling\n",
    "from sklearn.preprocessing import MinMaxScaler, StandardScaler\n",
    "scaler =  MinMaxScaler()\n",
    "\n",
    "def un_norm_x(train_x, test_grid, scaler):\n",
    "    return scaler.inverse_transform(train_x), scaler.inverse_transform(test_grid)    "
   ],
   "outputs": [],
   "metadata": {}
  },
  {
   "cell_type": "code",
   "execution_count": 713,
   "source": [
    "from torch.utils.data import DataLoader, random_split\n",
    "\n",
    "def datasetmaker(fe_data, train_ratio=1.0):\n",
    "    \"\"\"\n",
    "    [datasetmaker(fe_data)] filters and transforms the data in pandas df [fe_data] \n",
    "    into two tensors, [train_x] for input and [train_y] for output tensors. \n",
    "    \"\"\"\n",
    "    # filter training data \n",
    "    energy_den = fe_data['Energy density new cone (J/cm^2)'].values\n",
    "    time = fe_data['Time (ms)'].values\n",
    "    x_dat = torch.Tensor(np.array([time, energy_den])).T\n",
    "    y_dat = torch.Tensor(fe_data['2 Qsw/(U+|D|) 1e6cycles'].values)\n",
    "\n",
    "    # scale inputs\n",
    "    scaler.fit(x_dat)\n",
    "    x_dat = torch.Tensor(scaler.transform(x_dat))\n",
    "\n",
    "    # split train and test set\n",
    "    train_size = int(train_ratio * len(x_dat))  # train_ratio% for training\n",
    "    train_x, test_x = x_dat[:train_size], x_dat[train_size:]\n",
    "    train_y, test_y = y_dat[:train_size], y_dat[train_size:]\n",
    "    return x_dat, train_x, test_x, train_y, test_y"
   ],
   "outputs": [],
   "metadata": {}
  },
  {
   "cell_type": "code",
   "execution_count": 714,
   "source": [
    "# make training data, maintain params to de-normalize\n",
    "# x_sd_mean, y_sd_mean, train_x, train_y = datasetmaker(fe_data)\n",
    "x_dat, train_x, test_x, train_y, test_y = datasetmaker(fe_data)\n"
   ],
   "outputs": [],
   "metadata": {}
  },
  {
   "cell_type": "markdown",
   "source": [
    "### Grid/Parameter Space"
   ],
   "metadata": {}
  },
  {
   "cell_type": "code",
   "execution_count": 715,
   "source": [
    "# create grid for grid search\n",
    "def grid_helper(grid_size, num_params, grid_bounds):\n",
    "    \"\"\"\n",
    "    [grid_helper(grid_size, num_params, grid_bounds)] returns a grid of dimensions\n",
    "    [grid_size] by [num_params], which dictates the parameter space for GP to be \n",
    "    conducted over. \n",
    "    \"\"\"\n",
    "    grid = torch.zeros(grid_size, num_params)\n",
    "    f_grid_diff = lambda i, x, y : float((x[i][1] - x[i][0]) / (y-2))\n",
    "    for i in range(num_params):\n",
    "        grid_diff = f_grid_diff(i, grid_bounds, grid_size)\n",
    "        grid[:, i] = torch.linspace(grid_bounds[i][0] - grid_diff, \n",
    "                                    grid_bounds[i][1] + grid_diff, grid_size)\n",
    "    return grid\n",
    "\n",
    "def grid_maker(x_dat, num_points=30):\n",
    "    \"\"\"\n",
    "    [grid_maker(x_dat, num_points=30)] creates grids to be used for gaussian \n",
    "    process predictions. It outputs the dimension of the grid [num_params], \n",
    "    paramater space grid [test_grid], and [test_arr].\n",
    "    \"\"\"\n",
    "    # define grid between bounds of RTA time, RTA temp\n",
    "    num_params = x_dat.size(dim=1)\n",
    "    grid_bounds = [(x_dat[:,i].min(), x_dat[:,i].max()) for i in range(num_params)]\n",
    "\n",
    "    # set up test_grid for predictions\n",
    "    test_grid = grid_helper(num_points, num_params, grid_bounds)\n",
    "\n",
    "    # create n-D grid with n = num_params\n",
    "    args = (test_grid[:, i] for i in range(num_params))\n",
    "    test_arr = torch.cartesian_prod(*args)\n",
    "    return grid_bounds, num_params, test_grid, test_arr\n"
   ],
   "outputs": [],
   "metadata": {}
  },
  {
   "cell_type": "code",
   "execution_count": 716,
   "source": [
    "# create grid based on parameter space for search\n",
    "grid_bounds, num_params, test_grid, test_arr = grid_maker(x_dat)"
   ],
   "outputs": [],
   "metadata": {}
  },
  {
   "cell_type": "markdown",
   "source": [
    "### Noise Calculations"
   ],
   "metadata": {}
  },
  {
   "cell_type": "markdown",
   "source": [
    "Our figure of merit, fom, is $2 Q_{sw}/(U+|D|),$ so error propagation would result in a error of $\\sigma_{fom} = |fom|\\sqrt{{(\\sigma_{Q_{sw}}/Q_{sw}})^2+{(\\sigma_U^2 + \\sigma_{|D|}^2)/(U+|D|)^2)}}$. We have data for $2Pr$ measurements wrt device area. Using the $10\\mu$ m $\\times 10\\mu$ m data, we approximate the error for the figure of merit as simply $\\sigma_{2Pr}$, as we do not have $\\sigma_U$ or $\\sigma_D.$ \n"
   ],
   "metadata": {}
  },
  {
   "cell_type": "code",
   "execution_count": 717,
   "source": [
    "fn = \"/Users/valenetjong/Bayesian-Optimization-Ferroelectrics/data/P vs area.xlsx\"\n",
    "excel_file = pd.read_excel(fn, sheet_name='Sheet1')\n",
    "col_2Pr_10by10 = excel_file['10umx10um']\n",
    "sd = col_2Pr_10by10.std()/col_2Pr_10by10.mean()\n",
    "print(sd)\n",
    "print(col_2Pr_10by10)"
   ],
   "outputs": [
    {
     "output_type": "stream",
     "name": "stdout",
     "text": [
      "0.04469365441252401\n",
      "0     34.57379\n",
      "1     35.96416\n",
      "2     33.16083\n",
      "3     35.96861\n",
      "4     37.10497\n",
      "5     35.86549\n",
      "6     35.81341\n",
      "7     33.01597\n",
      "8     35.71753\n",
      "9     38.37434\n",
      "10    34.11144\n",
      "11    33.57596\n",
      "12    35.15750\n",
      "13    35.01515\n",
      "14    36.01072\n",
      "15    37.04952\n",
      "16    36.48895\n",
      "17    35.63807\n",
      "18    37.36247\n",
      "19    39.05057\n",
      "Name: 10umx10um, dtype: float64\n"
     ]
    }
   ],
   "metadata": {}
  },
  {
   "cell_type": "markdown",
   "source": [
    "### Initialize Model"
   ],
   "metadata": {}
  },
  {
   "cell_type": "code",
   "execution_count": 718,
   "source": [
    "# configuration parameters for training\n",
    "class Config():\n",
    "    def __init__(self):\n",
    "        self.epochs = 5000\n",
    "        self.kernel = \"rbf\"\n",
    "        self.lr = 0.005\n",
    "        self.lscale_1 = 0.114\n",
    "        self.lscale_2 = 0.0488\n",
    "        self.lscale_3 = None\n",
    "        self.lscale_4 = None\n",
    "        self.dim = 2\n",
    "        self.noise = 0.15\n",
    "\n",
    "config = Config()"
   ],
   "outputs": [],
   "metadata": {}
  },
  {
   "cell_type": "code",
   "execution_count": 719,
   "source": [
    "# make model\n",
    "def kernel_func(config_kernel, num_params, lscale):\n",
    "    \"\"\"\n",
    "    [kernel_func(config_kernel, num_params, lscale)] returns kernel function with \n",
    "    dimensions specified by [num_params]. \n",
    "    \"\"\"\n",
    "    if config_kernel == \"rbf\":\n",
    "        return gpytorch.kernels.ScaleKernel(\n",
    "            gpytorch.kernels.RBFKernel(ard_num_dims=num_params))\n",
    "    elif config_kernel == \"matern\":\n",
    "        return gpytorch.kernels.ScaleKernel(gpytorch.kernels.MaternKernel(ard_num_dims=num_params, \n",
    "        lengthscale = torch.tensor(lscale), nu=2.5))\n",
    "\n",
    "def make_model(train_x, train_y, num_params, config):\n",
    "    \"\"\"\n",
    "    [make_model(train_x, train_y, num_params, config)] returns likelihood and \n",
    "    model with lengthscale, noise, kernel function specified by sweeps. \n",
    "    \"\"\"\n",
    "    if config.dim == 2:\n",
    "        lscale = [config.lscale_1, config.lscale_2]\n",
    "    elif config.dim == 4:\n",
    "        lscale = [config.lscale_1, config.lscale_2, config.lscale_3, config.lscale_4]\n",
    "    kernel = kernel_func(config.kernel, num_params, lscale)\n",
    "    \n",
    "    print(kernel)\n",
    "    num_samples = len(train_x)\n",
    "    noise = config.noise*torch.ones(num_samples)\n",
    "    likelihood = gpytorch.likelihoods.FixedNoiseGaussianLikelihood(noise=noise)\n",
    "    model = GPModel(train_x, train_y, likelihood, kernel)\n",
    "\n",
    "    return likelihood, model, lscale\n",
    "    "
   ],
   "outputs": [],
   "metadata": {}
  },
  {
   "cell_type": "code",
   "execution_count": 720,
   "source": [
    "def intermediate_plot(f, ax, obs, title):\n",
    "    im = ax.imshow(obs.mean.view(30, 30), aspect='equal',\n",
    "                extent=[grid_bounds[0][0].item(), grid_bounds[0][1].item(),\n",
    "                            grid_bounds[1][0].item(), grid_bounds[1][1].item()])\n",
    "    f.colorbar(im)\n",
    "    ax.set_title(title)"
   ],
   "outputs": [],
   "metadata": {}
  },
  {
   "cell_type": "markdown",
   "source": [
    "### GP Training and Eval"
   ],
   "metadata": {}
  },
  {
   "cell_type": "code",
   "execution_count": 721,
   "source": [
    "# training and evaluation\n",
    "def train(train_x, train_y, num_params, config):\n",
    "    likelihood, model, lscale = make_model(train_x, train_y, num_params, config)\n",
    "    model.covar_module.base_kernel.lengthscale = torch.Tensor(lscale)\n",
    "    training_iter = config.epochs\n",
    "    model.covar_module.base_kernel.raw_lengthscale.requires_grad_(False) # disallow training of lengthscale\n",
    "    \n",
    "    \n",
    "    # place both the model and likelihood in training mode\n",
    "    model.train(), likelihood.train()\n",
    "\n",
    "    # use Adam\n",
    "    optimizer = torch.optim.Adam(model.parameters(), lr=config.lr)\n",
    "\n",
    "    # set GP loss as the marginal log likelihood\n",
    "    mll = gpytorch.mlls.ExactMarginalLogLikelihood(likelihood, model)\n",
    "    loss_lst = []\n",
    "\n",
    "    for i in range(1, training_iter+1):\n",
    "        optimizer.zero_grad()\n",
    "        output = model(train_x)\n",
    "\n",
    "        # backpropagate error\n",
    "        loss = -mll(output, train_y)\n",
    "        loss.backward()\n",
    "\n",
    "        if i==1 or i % 500 == 0: \n",
    "            print('Iter %d/%d - Loss: %.3f  lengthscale1: %s   noise: %s' % (\n",
    "                    i, training_iter, loss.item(), \n",
    "                    model.covar_module.base_kernel.lengthscale.detach().numpy(),\n",
    "                    model.likelihood.noise.detach().numpy()\n",
    "                    )) \n",
    "            loss_lst.append(loss.item())\n",
    "\n",
    "        # if i % 1000 == 0:\n",
    "        # # get a quick snapshot of intermediate \n",
    "        #     model.eval()\n",
    "        #     likelihood.eval()\n",
    "        #     with torch.no_grad(), gpytorch.settings.fast_pred_var():\n",
    "        #         obs = likelihood(model(test_arr))\n",
    "        #         f, ax = plt.subplots(1, 1, figsize=(4,3))\n",
    "        #         intermediate_plot(f, ax, obs, f'iter {i+1}/{training_iter}')\n",
    "        #     model.train()\n",
    "        #     likelihood.train()\n",
    "        optimizer.step()\n",
    "        \n",
    "    print(model.covar_module.outputscale.detach().numpy())\n",
    "    return likelihood, model, loss_lst\n",
    "\n",
    "def eval_mod(likelihood, model, test_arr):\n",
    "    \"\"\" \n",
    "    [eval_mod(likelihood, model, test_arr)] evaluates GP model. \n",
    "    \"\"\"\n",
    "    model.eval(), likelihood.eval()\n",
    "    with torch.no_grad(), gpytorch.settings.fast_pred_var():\n",
    "        obs = likelihood(model(test_arr), noise=(torch.ones(len(test_arr))*config.noise))\n",
    "    return obs"
   ],
   "outputs": [],
   "metadata": {}
  },
  {
   "cell_type": "code",
   "execution_count": 722,
   "source": [
    "# train model and evaluate\n",
    "likelihood, model, loss_lst = train(train_x, train_y, num_params, config)\n",
    "\n",
    "obs = eval_mod(likelihood, model, test_arr)"
   ],
   "outputs": [
    {
     "output_type": "stream",
     "name": "stdout",
     "text": [
      "ScaleKernel(\n",
      "  (base_kernel): RBFKernel(\n",
      "    (raw_lengthscale_constraint): Positive()\n",
      "  )\n",
      "  (raw_outputscale_constraint): Positive()\n",
      ")\n",
      "Iter 1/5000 - Loss: 4.119  lengthscale1: [[0.11400001 0.0488    ]]   noise: [0.15 0.15 0.15 0.15 0.15 0.15 0.15 0.15 0.15 0.15 0.15 0.15 0.15 0.15\n",
      " 0.15 0.15 0.15 0.15 0.15 0.15 0.15 0.15 0.15]\n",
      "Iter 500/5000 - Loss: 2.186  lengthscale1: [[0.11400001 0.0488    ]]   noise: [0.15 0.15 0.15 0.15 0.15 0.15 0.15 0.15 0.15 0.15 0.15 0.15 0.15 0.15\n",
      " 0.15 0.15 0.15 0.15 0.15 0.15 0.15 0.15 0.15]\n",
      "Iter 1000/5000 - Loss: 2.052  lengthscale1: [[0.11400001 0.0488    ]]   noise: [0.15 0.15 0.15 0.15 0.15 0.15 0.15 0.15 0.15 0.15 0.15 0.15 0.15 0.15\n",
      " 0.15 0.15 0.15 0.15 0.15 0.15 0.15 0.15 0.15]\n",
      "Iter 1500/5000 - Loss: 2.033  lengthscale1: [[0.11400001 0.0488    ]]   noise: [0.15 0.15 0.15 0.15 0.15 0.15 0.15 0.15 0.15 0.15 0.15 0.15 0.15 0.15\n",
      " 0.15 0.15 0.15 0.15 0.15 0.15 0.15 0.15 0.15]\n",
      "Iter 2000/5000 - Loss: 2.028  lengthscale1: [[0.11400001 0.0488    ]]   noise: [0.15 0.15 0.15 0.15 0.15 0.15 0.15 0.15 0.15 0.15 0.15 0.15 0.15 0.15\n",
      " 0.15 0.15 0.15 0.15 0.15 0.15 0.15 0.15 0.15]\n",
      "Iter 2500/5000 - Loss: 2.025  lengthscale1: [[0.11400001 0.0488    ]]   noise: [0.15 0.15 0.15 0.15 0.15 0.15 0.15 0.15 0.15 0.15 0.15 0.15 0.15 0.15\n",
      " 0.15 0.15 0.15 0.15 0.15 0.15 0.15 0.15 0.15]\n",
      "Iter 3000/5000 - Loss: 2.024  lengthscale1: [[0.11400001 0.0488    ]]   noise: [0.15 0.15 0.15 0.15 0.15 0.15 0.15 0.15 0.15 0.15 0.15 0.15 0.15 0.15\n",
      " 0.15 0.15 0.15 0.15 0.15 0.15 0.15 0.15 0.15]\n",
      "Iter 3500/5000 - Loss: 2.024  lengthscale1: [[0.11400001 0.0488    ]]   noise: [0.15 0.15 0.15 0.15 0.15 0.15 0.15 0.15 0.15 0.15 0.15 0.15 0.15 0.15\n",
      " 0.15 0.15 0.15 0.15 0.15 0.15 0.15 0.15 0.15]\n",
      "Iter 4000/5000 - Loss: 2.024  lengthscale1: [[0.11400001 0.0488    ]]   noise: [0.15 0.15 0.15 0.15 0.15 0.15 0.15 0.15 0.15 0.15 0.15 0.15 0.15 0.15\n",
      " 0.15 0.15 0.15 0.15 0.15 0.15 0.15 0.15 0.15]\n",
      "Iter 4500/5000 - Loss: 2.024  lengthscale1: [[0.11400001 0.0488    ]]   noise: [0.15 0.15 0.15 0.15 0.15 0.15 0.15 0.15 0.15 0.15 0.15 0.15 0.15 0.15\n",
      " 0.15 0.15 0.15 0.15 0.15 0.15 0.15 0.15 0.15]\n",
      "Iter 5000/5000 - Loss: 2.024  lengthscale1: [[0.11400001 0.0488    ]]   noise: [0.15 0.15 0.15 0.15 0.15 0.15 0.15 0.15 0.15 0.15 0.15 0.15 0.15 0.15\n",
      " 0.15 0.15 0.15 0.15 0.15 0.15 0.15 0.15 0.15]\n",
      "2.896621\n"
     ]
    }
   ],
   "metadata": {}
  },
  {
   "cell_type": "markdown",
   "source": [
    "### GP Training Results"
   ],
   "metadata": {}
  },
  {
   "cell_type": "code",
   "execution_count": 723,
   "source": [
    "import matplotlib.pyplot as plt\n",
    "from sklearn.metrics import mean_squared_error, mean_absolute_error,r2_score\n",
    "from scipy.stats import spearmanr\n",
    "import matplotlib.pyplot as plt \n",
    "from plotter import prettyplot"
   ],
   "outputs": [],
   "metadata": {}
  },
  {
   "cell_type": "code",
   "execution_count": 724,
   "source": [
    "# get error metrics\n",
    "def get_err(train_y, y_preds_mean):\n",
    "    rmse = np.sqrt(mean_squared_error(train_y, y_preds_mean))\n",
    "    mae = mean_absolute_error(train_y,  y_preds_mean)\n",
    "    spearman = spearmanr(train_y, y_preds_mean)[0]\n",
    "    r2 = r2_score(train_y, y_preds_mean)\n",
    "    return [round_three(i) for i in [rmse, mae, spearman, r2]]\n",
    "\n",
    "def plot_err(axes, train_y, y_preds_mean, y_uncer, err_vals, train_or_test, fs):\n",
    "    # training versus actuals plot: make plot, set title and axes values\n",
    "    ax = axes[0]\n",
    "    ax.scatter(train_y, y_preds_mean)\n",
    "    low_lim, upp_lim = int(min(train_y).item()), int(np.ceil(max(train_y).item()))\n",
    "    ax.plot(np.linspace(low_lim, upp_lim), np.linspace(low_lim, upp_lim), 'k--')\n",
    "    ax.set_xlim(low_lim, upp_lim)\n",
    "    ax.set_ylim(low_lim, upp_lim)\n",
    "    \n",
    "    # sort train_y to enable fill_between to exhibit correct functionality\n",
    "    # plot 95% confidence interval\n",
    "    sorted_train_y, sorted_indices_y = np.sort(train_y), np.argsort(train_y)\n",
    "    low_bound = (y_preds_mean-2*y_uncer)[sorted_indices_y]\n",
    "    upp_bound = (y_preds_mean+2*y_uncer)[sorted_indices_y]\n",
    "    ax.fill_between(sorted_train_y, low_bound, upp_bound, color = \"grey\", alpha = 0.3, label=\"95% confidence interval\")    \n",
    "    ax.set_xlabel('Ground Truth 2 Qsw/(U+|D|) 1e6', fontsize = fs)\n",
    "    ax.set_ylabel('Prediction 2 Qsw/(U+|D|) 1e6', fontsize = fs)\n",
    "    title_type = \"Training\" if train_or_test == \"train\" else \"Test\"\n",
    "    ax.set_title('GP ' + title_type + ' Results' + \" (MAE=%.2f\" % err_vals[1]+' [%])', fontsize = fs)\n",
    "    ax.legend()\n",
    "\n",
    "def plot_training_loss(axes, loss_lst, fs):\n",
    "    ax = axes[1]\n",
    "    ax.plot(np.arange(len(loss_lst))*500,loss_lst, 'o-')\n",
    "    ax.set_xlabel('Epoch', fontsize = fs)\n",
    "    ax.set_ylabel('Marginal Log Likelihood Loss', fontsize = fs)\n",
    "    ax.set_title('Training Loss' + \" (Loss=%.2f\" % loss_lst[-1] + ')', fontsize = fs)\n",
    "\n",
    "def plot_gp_res(train_y, y_preds_mean, loss_lst, y_uncer, train_or_test=\"train\"):\n",
    "    prettyplot()\n",
    "    fig, axes = plt.subplots(1, 3, figsize=(5.5*3, 4.5))\n",
    "    fs = 14\n",
    "\n",
    "    # print error metrics\n",
    "    err_vals = get_err(train_y, y_preds_mean)\n",
    "    data = {'Metric': ['RMSE', 'MAE', 'Spearman', 'R² score'], 'Value': err_vals}\n",
    "    df = pd.DataFrame(data)\n",
    "    print(df)\n",
    "\n",
    "    # plot error, training/testing loss\n",
    "    plot_err(axes, train_y, y_preds_mean, y_uncer, err_vals, train_or_test, fs)\n",
    "    if loss_lst: plot_training_loss(axes, loss_lst, fs)\n",
    "    else: axes[1].axis(\"off\")\n",
    "    axes[2].axis(\"off\")\n",
    "\n",
    "    for i in range(len(axes)):\n",
    "        axes[i].tick_params(direction='in', length=5, width=1, labelsize = fs*.8)\n",
    "    plt.subplots_adjust(wspace = 0.4)\n",
    "\n",
    "    plt.show()"
   ],
   "outputs": [],
   "metadata": {}
  },
  {
   "cell_type": "code",
   "execution_count": 725,
   "source": [
    "round_three = lambda val: np.round(val, 3) \n",
    "model.eval(), likelihood.eval()\n",
    "y_preds = likelihood(model(train_x))\n",
    "f_var = model(train_x).variance\n",
    "\n",
    "model.eval(), likelihood.eval()\n",
    "y_preds_test = likelihood(model(test_x))\n",
    "f_var_test = model(test_x).variance\n",
    "\n",
    "with torch.no_grad(): y_preds_mean, f_var = y_preds.mean.numpy(), np.sqrt(f_var).numpy()\n",
    "with torch.no_grad(): y_preds_test_mean, f_var_test = y_preds_test.mean.numpy(), np.sqrt(f_var_test).numpy()\n",
    "plot_gp_res(train_y, y_preds_mean, loss_lst, f_var)\n",
    "# plot_gp_res(test_y, y_preds_test_mean, None, f_var_test, train_or_test= \"test\")"
   ],
   "outputs": [
    {
     "output_type": "stream",
     "name": "stdout",
     "text": [
      "     Metric  Value\n",
      "0      RMSE  0.377\n",
      "1       MAE  0.266\n",
      "2  Spearman  0.948\n",
      "3  R² score  0.908\n"
     ]
    },
    {
     "output_type": "stream",
     "name": "stderr",
     "text": [
      "/Users/valenetjong/opt/anaconda3/envs/FEGP/lib/python3.9/site-packages/gpytorch/models/exact_gp.py:274: GPInputWarning:\n",
      "\n",
      "The input matches the stored training data. Did you forget to call model.train()?\n",
      "\n",
      "/Users/valenetjong/opt/anaconda3/envs/FEGP/lib/python3.9/site-packages/gpytorch/likelihoods/gaussian_likelihood.py:270: GPInputWarning:\n",
      "\n",
      "You have passed data through a FixedNoiseGaussianLikelihood that did not match the size of the fixed noise, *and* you did not specify noise. This is treated as a no-op.\n",
      "\n"
     ]
    },
    {
     "output_type": "display_data",
     "data": {
      "image/png": "[encoded data removed]",
      "text/plain": [
       "<Figure size 3300x900 with 3 Axes>"
      ]
     },
     "metadata": {}
    }
   ],
   "metadata": {}
  },
  {
   "cell_type": "code",
   "execution_count": 726,
   "source": [
    "# acquisition function for prediction/exploration\n",
    "def get_bounds(n): return [n for i in range(config.dim)]\n",
    "\n",
    "def unravel_acq(acq_func, obs, bounds, train_y, nshape):\n",
    "    \"\"\" \n",
    "    [unravel_acq(acq_func, obs, bounds, train_y, nshape)] is a helper function \n",
    "    for acq that returns the coordinates of the maximum value of the acq_func \n",
    "    over the test grid in the form of a tuple (row_index, column_index). \n",
    "\n",
    "    row_index = index into time\n",
    "    column_index = index into energy density\n",
    "    \"\"\"\n",
    "    acq = acq_func(obs, bounds, train_y).detach().numpy().reshape(nshape).T\n",
    "    return np.unravel_index(acq.argmax(), acq.shape)\n",
    "\n",
    "def acq(obs, train_y, bounds):\n",
    "    \"\"\" \n",
    "    [acq(obs, train_y, bounds)] evaluates acquisition functions on current \n",
    "    predictions (observations) and outputs suggested points for exploration \n",
    "    on manifold. \n",
    "    \"\"\"\n",
    "    transpose = lambda tensor: tensor.detach().numpy().reshape(nshape).T\n",
    "    nshape = tuple(bounds)\n",
    "\n",
    "    pi = unravel_acq(PI, obs, bounds, train_y, nshape) # prob of improvement\n",
    "    ei = unravel_acq(EI, obs, bounds, train_y, nshape) # expected improvement\n",
    "    ca = unravel_acq(cust_acq, obs, bounds, train_y, nshape) # custom acq\n",
    "    th = unravel_acq(thompson, obs, bounds, train_y, nshape) # thompson acq\n",
    "\n",
    "    lower, upper = obs.confidence_region()\n",
    "    upper_surf, lower_surf = transpose(upper), transpose(lower)\n",
    "    ucb = np.unravel_index(upper_surf.argmax(), upper_surf.shape)\n",
    "\n",
    "    pred_var = obs.variance.view(nshape).detach().numpy().T\n",
    "    pred_labels = obs.mean.view(nshape)\n",
    "    max_var = np.unravel_index(pred_var.argmax(), pred_var.shape)\n",
    "\n",
    "    # acqs gives pairs corresponding to indices of time and energy density \n",
    "    # recommendations in grid; the pairs index into array pred_labels \n",
    "    acqs = {\"PI\":pi, \"EI\":ei, \"CA\":ca, \"TH\":th, \"UCB\":ucb, \"Max_var\":max_var}\n",
    "\n",
    "    return pred_labels, upper_surf, lower_surf, acqs"
   ],
   "outputs": [],
   "metadata": {}
  },
  {
   "cell_type": "code",
   "execution_count": 727,
   "source": [
    "# export predictions to csv\n",
    "def pred_to_csv(acqs, raw_pred_labels, raw_test_grid, file_out = \"preds.csv\"):\n",
    "    \"\"\"\n",
    "    [pred_to_csv(acqs, raw_pred_labels, raw_test_grid)] outputs suggested\n",
    "    inputs and their respective predicted outputs to csv; returns suggested point\n",
    "    corresponding to ucb acquisition.\n",
    "    \"\"\"   \n",
    "    dir = \"/Users/valenetjong/Bayesian-Optimization-Ferroelectrics/predictions/\"\n",
    "    file = open(dir + file_out, \"w\", encoding=\"utf-8\")\n",
    "    file.write(\"Energy density \\t Time (ms)\\n\")\n",
    "    data = {'Time(ms)':[], 'Energy density new cone (J/cm^2)':[], '2 Qsw/(U+|D|) 1e6':[]}\n",
    "    ucb = []\n",
    "    for lab, coords in acqs.items(): \n",
    "        time_val = raw_test_grid[coords[1]].tolist()[0]\n",
    "        energy_den_val = raw_test_grid[coords[0]].tolist()[1]\n",
    "        data['Time(ms)'].append(time_val)\n",
    "        data['Energy density new cone (J/cm^2)'].append(energy_den_val)\n",
    "        file.write(lab + \": \" + str(time_val) + \"\\t\" + str(energy_den_val) + \"\\n\")\n",
    "        if lab == \"UCB\": ucb.append(time_val*1000), ucb.append(energy_den_val)  # change units μs\n",
    "\n",
    "    file.write(\"\\nFigure of merit\\n\")\n",
    "    for lab, coords in acqs.items():\n",
    "        fig_of_merit = raw_pred_labels[coords].item()\n",
    "        data['2 Qsw/(U+|D|) 1e6'].append(fig_of_merit)\n",
    "        file.write(lab + \": \" + str(fig_of_merit) + \"\\n\")\n",
    "        if lab == \"UCB\": ucb.append(fig_of_merit)\n",
    "\n",
    "    df = pd.DataFrame(data)\n",
    "    print(df)\n",
    "    return ucb\n"
   ],
   "outputs": [],
   "metadata": {}
  },
  {
   "cell_type": "code",
   "execution_count": 728,
   "source": [
    "# get normalized predictions\n",
    "bounds = get_bounds(n=30)\n",
    "pred_labels, upper_surf, lower_surf, acqs = acq(obs, train_y, bounds)\n",
    "\n",
    "# undo scaling\n",
    "raw_train_x, raw_test_grid = un_norm_x(train_x, test_grid, scaler)\n"
   ],
   "outputs": [],
   "metadata": {}
  },
  {
   "cell_type": "markdown",
   "source": [
    "### Save Predictions and Visualize "
   ],
   "metadata": {}
  },
  {
   "cell_type": "code",
   "execution_count": 729,
   "source": [
    "# undo normalization and save to csv, get prediction point\n",
    "ucb = pred_to_csv(acqs, pred_labels, raw_test_grid)\n",
    "\n",
    "# suggested points (μs, J/cm^2)\n",
    "ucb_pt, nlcd_pt = (round(ucb[0],-1),round(ucb[1],2)), (2900, 9.04)\n",
    "print(ucb_pt)"
   ],
   "outputs": [
    {
     "output_type": "stream",
     "name": "stdout",
     "text": [
      "   Time(ms)  Energy density new cone (J/cm^2)  2 Qsw/(U+|D|) 1e6\n",
      "0  1.170567                          8.850209           2.539695\n",
      "1  1.170567                          8.850209           2.539695\n",
      "2  2.666872                         11.667696           2.455825\n",
      "3  2.001847                          3.684815           2.361161\n",
      "4  1.004310                          8.850209           2.525320\n",
      "5  2.833128                          2.276071           2.866269\n",
      "(1000.0, 8.85)\n"
     ]
    }
   ],
   "metadata": {}
  },
  {
   "cell_type": "code",
   "execution_count": 730,
   "source": [
    "# visualize acquisition function results and confidence bound surfaces\n",
    "vis_pred(raw_train_x, train_y, raw_test_grid, pred_labels)\n",
    "vis_acq(raw_train_x, train_y, raw_test_grid, pred_labels, upper_surf, lower_surf, acqs)"
   ],
   "outputs": [
    {
     "output_type": "display_data",
     "data": {
      "application/vnd.plotly.v1+json": {
       "data": [
        {
         "name": "GP regression",
         "x": [
          0.33928570710122585,
          0.5055418629199266,
          0.6717980187386274,
          0.8380541577935219,
          1.0043103471398354,
          1.1705665364861488,
          1.336822658777237,
          1.503078781068325,
          1.6693349033594131,
          1.8355910927057266,
          2.0018471479415894,
          2.168103337287903,
          2.3343595266342168,
          2.5006157159805302,
          2.6668719053268437,
          2.833128094673157,
          2.9993842840194707,
          3.165640473365784,
          3.3318966627120976,
          3.4981525838375096,
          3.664408773183823,
          3.8306649625301366,
          3.99692115187645,
          4.163177341222764,
          4.329433262348176,
          4.495689451694489,
          4.661945641040803,
          4.828201830387116,
          4.99445801973343,
          5.160714209079743
         ],
         "y": [
          2.276071443020234,
          2.745652702469288,
          3.215233961918342,
          3.684815174018958,
          4.154396528164888,
          4.623977882310818,
          5.093559047062996,
          5.563140211815174,
          6.032721376567352,
          6.502302730713282,
          6.971883706071708,
          7.441465060217638,
          7.911046414363568,
          8.380627768509498,
          8.850209122655428,
          9.319790476801359,
          9.789371830947289,
          10.258953185093219,
          10.72853453923915,
          11.19811513581007,
          11.667696489956,
          12.13727784410193,
          12.60685919824786,
          13.076440552393791,
          13.546021148964712,
          14.015602503110642,
          14.485183857256573,
          14.954765211402503,
          15.424346565548433,
          15.893927919694363
         ],
         "z": [
          [
           0.8434371948242188,
           0.7555707693099976,
           0.8471481800079346,
           1.0908006429672241,
           1.4193484783172607,
           1.7556743621826172,
           2.0412039756774902,
           2.2493808269500732,
           2.3820648193359375,
           2.456786632537842,
           2.4942450523376465,
           2.511059284210205,
           2.5178515911102295,
           2.5203325748443604,
           2.521155834197998,
           2.521404981613159,
           2.5214738845825195,
           2.521491527557373,
           2.5214955806732178,
           2.521496534347534,
           2.5214967727661133,
           2.5214967727661133,
           2.5214967727661133,
           2.5214967727661133,
           2.5214967727661133,
           2.5214967727661133,
           2.5214967727661133,
           2.5214967727661133,
           2.5214967727661133,
           2.5214967727661133
          ],
          [
           1.1556103229522705,
           1.0699671506881714,
           1.1269696950912476,
           1.308652400970459,
           1.5649056434631348,
           1.8358678817749023,
           2.073789358139038,
           2.254397392272949,
           2.3754796981811523,
           2.4481446743011475,
           2.487557888031006,
           2.5070135593414307,
           2.5157949924468994,
           2.519428014755249,
           2.5208065509796143,
           2.5212855339050293,
           2.521437644958496,
           2.52148175239563,
           2.5214931964874268,
           2.521496057510376,
           2.521496534347534,
           2.5214967727661133,
           2.5214967727661133,
           2.5214967727661133,
           2.5214967727661133,
           2.5214967727661133,
           2.5214967727661133,
           2.5214967727661133,
           2.5214967727661133,
           2.5214967727661133
          ],
          [
           2.4147777557373047,
           2.3637595176696777,
           2.3131937980651855,
           2.275191068649292,
           2.2603139877319336,
           2.2728993892669678,
           2.308969497680664,
           2.3582403659820557,
           2.4087963104248047,
           2.45158052444458,
           2.482527256011963,
           2.50199031829834,
           2.5127344131469727,
           2.5179684162139893,
           2.5202252864837646,
           2.521087646484375,
           2.5213797092437744,
           2.5214672088623047,
           2.5214900970458984,
           2.5214955806732178,
           2.521496534347534,
           2.5214967727661133,
           2.5214967727661133,
           2.5214967727661133,
           2.5214967727661133,
           2.5214967727661133,
           2.5214967727661133,
           2.5214967727661133,
           2.5214967727661133,
           2.5214967727661133
          ],
          [
           2.069178581237793,
           1.9781612157821655,
           1.91965651512146,
           1.9070512056350708,
           1.9443309307098389,
           2.0240771770477295,
           2.129615068435669,
           2.240445613861084,
           2.3388524055480957,
           2.414494037628174,
           2.4653241634368896,
           2.4952800273895264,
           2.5107438564300537,
           2.5176963806152344,
           2.5203850269317627,
           2.5212552547454834,
           2.5214757919311523,
           2.521509885787964,
           2.5215060710906982,
           2.521500587463379,
           2.521497964859009,
           2.5214970111846924,
           2.5214967727661133,
           2.5214967727661133,
           2.5214967727661133,
           2.5214967727661133,
           2.5214967727661133,
           2.5214967727661133,
           2.5214967727661133,
           2.5214967727661133
          ],
          [
           0.7134711742401123,
           0.5696868896484375,
           0.6100318431854248,
           0.8216371536254883,
           1.1484915018081665,
           1.5155695676803589,
           1.8560473918914795,
           2.128019094467163,
           2.317915201187134,
           2.4337215423583984,
           2.4942643642425537,
           2.520010232925415,
           2.527477502822876,
           2.5273818969726562,
           2.525320291519165,
           2.5234973430633545,
           2.5223894119262695,
           2.5218446254730225,
           2.5216164588928223,
           2.521533489227295,
           2.5215067863464355,
           2.5214991569519043,
           2.5214972496032715,
           2.5214967727661133,
           2.5214967727661133,
           2.5214967727661133,
           2.5214967727661133,
           2.5214967727661133,
           2.5214967727661133,
           2.5214967727661133
          ],
          [
           1.151909351348877,
           1.0807557106018066,
           1.1650004386901855,
           1.387495994567871,
           1.694324016571045,
           2.0163583755493164,
           2.2940711975097656,
           2.492560625076294,
           2.6050775051116943,
           2.646249532699585,
           2.640864372253418,
           2.6135571002960205,
           2.5823447704315186,
           2.5568089485168457,
           2.5396945476531982,
           2.5298728942871094,
           2.524951219558716,
           2.522775650024414,
           2.5219221115112305,
           2.5216240882873535,
           2.521531105041504,
           2.521505117416382,
           2.521498680114746,
           2.5214970111846924,
           2.5214967727661133,
           2.5214967727661133,
           2.5214967727661133,
           2.5214967727661133,
           2.5214967727661133,
           2.5214967727661133
          ],
          [
           2.0266027450561523,
           2.078118324279785,
           2.217256546020508,
           2.422624111175537,
           2.6509928703308105,
           2.8530468940734863,
           2.9899256229400635,
           3.0438151359558105,
           3.020137071609497,
           2.941685199737549,
           2.8382210731506348,
           2.736328601837158,
           2.652951955795288,
           2.5941176414489746,
           2.5577166080474854,
           2.5378005504608154,
           2.5281174182891846,
           2.523921012878418,
           2.522296905517578,
           2.5217347145080566,
           2.5215606689453125,
           2.521512269973755,
           2.5215001106262207,
           2.5214974880218506,
           2.5214967727661133,
           2.5214967727661133,
           2.5214967727661133,
           2.5214967727661133,
           2.5214967727661133,
           2.5214967727661133
          ],
          [
           2.2410006523132324,
           2.426589012145996,
           2.7073206901550293,
           3.0279455184936523,
           3.314157485961914,
           3.5011889934539795,
           3.5570521354675293,
           3.4894583225250244,
           3.335453510284424,
           3.143016815185547,
           2.954509973526001,
           2.797243118286133,
           2.6819705963134766,
           2.6067276000976562,
           2.5627310276031494,
           2.539630651473999,
           2.5287320613861084,
           2.524111270904541,
           2.5223512649536133,
           2.5217490196228027,
           2.52156400680542,
           2.521512746810913,
           2.5215001106262207,
           2.5214970111846924,
           2.521496295928955,
           2.521496057510376,
           2.5214955806732178,
           2.5214955806732178,
           2.5214953422546387,
           2.5214955806732178
          ],
          [
           2.76393985748291,
           3.0607309341430664,
           3.410142421722412,
           3.735828399658203,
           3.955920696258545,
           4.017155647277832,
           3.9157559871673584,
           3.6939287185668945,
           3.4169671535491943,
           3.146089792251587,
           2.9210078716278076,
           2.756493330001831,
           2.6487784385681152,
           2.584967851638794,
           2.55059552192688,
           2.5337331295013428,
           2.52620267868042,
           2.5231471061706543,
           2.5220227241516113,
           2.5216481685638428,
           2.5215346813201904,
           2.5215022563934326,
           2.521491050720215,
           2.5214831829071045,
           2.521474599838257,
           2.5214643478393555,
           2.5214545726776123,
           2.52144718170166,
           2.521444320678711,
           2.521446943283081
          ],
          [
           2.851576566696167,
           3.0298476219177246,
           3.215071201324463,
           3.365654230117798,
           3.4425415992736816,
           3.425877809524536,
           3.323329210281372,
           3.165388345718384,
           2.9911563396453857,
           2.8334665298461914,
           2.710582733154297,
           2.626159191131592,
           2.5743541717529297,
           2.545761823654175,
           2.5315427780151367,
           2.525192975997925,
           2.5226714611053467,
           2.5217981338500977,
           2.5215423107147217,
           2.5214781761169434,
           2.521450996398926,
           2.521407127380371,
           2.521324872970581,
           2.521191358566284,
           2.521005630493164,
           2.520784854888916,
           2.5205678939819336,
           2.5204057693481445,
           2.5203428268432617,
           2.5203981399536133
          ],
          [
           2.451878309249878,
           2.4177238941192627,
           2.3846516609191895,
           2.361161231994629,
           2.353929281234741,
           2.3643875122070312,
           2.387864112854004,
           2.416041374206543,
           2.4412286281585693,
           2.4595792293548584,
           2.4715583324432373,
           2.4799933433532715,
           2.4875612258911133,
           2.495375394821167,
           2.503079891204834,
           2.509761095046997,
           2.514770984649658,
           2.518021583557129,
           2.519834041595459,
           2.520642042160034,
           2.5207695960998535,
           2.5203499794006348,
           2.5193562507629395,
           2.5177061557769775,
           2.5154035091400146,
           2.512667417526245,
           2.509976387023926,
           2.5079634189605713,
           2.50718355178833,
           2.5078682899475098
          ],
          [
           2.4786453247070312,
           2.465407371520996,
           2.458864688873291,
           2.4626359939575195,
           2.4747753143310547,
           2.486194610595703,
           2.4839229583740234,
           2.458563804626465,
           2.411480665206909,
           2.356215476989746,
           2.3123323917388916,
           2.2953920364379883,
           2.309612989425659,
           2.34744930267334,
           2.3951916694641113,
           2.4400694370269775,
           2.474652051925659,
           2.497281074523926,
           2.5099194049835205,
           2.5155465602874756,
           2.5164241790771484,
           2.513481616973877,
           2.5065300464630127,
           2.4949913024902344,
           2.4788894653320312,
           2.4597575664520264,
           2.440939426422119,
           2.426863431930542,
           2.4214112758636475,
           2.4261984825134277
          ],
          [
           2.7813448905944824,
           2.934361219406128,
           3.1194944381713867,
           3.306462049484253,
           3.4449853897094727,
           3.4754509925842285,
           3.3513102531433105,
           3.0656278133392334,
           2.6664881706237793,
           2.2473340034484863,
           1.9120162725448608,
           1.7320597171783447,
           1.7206406593322754,
           1.8368513584136963,
           2.0136542320251465,
           2.189887285232544,
           2.3292319774627686,
           2.4216387271881104,
           2.4736838340759277,
           2.497101068496704,
           2.5011420249938965,
           2.489779472351074,
           2.4624626636505127,
           2.4170050621032715,
           2.3535399436950684,
           2.2781260013580322,
           2.2039473056793213,
           2.148460626602173,
           2.1269681453704834,
           2.1458394527435303
          ],
          [
           2.938798666000366,
           3.2332820892333984,
           3.6254589557647705,
           4.06501579284668,
           4.441670894622803,
           4.601705074310303,
           4.403597831726074,
           3.7956109046936035,
           2.870629072189331,
           1.85323166847229,
           1.0122528076171875,
           0.5446562767028809,
           0.4994783401489258,
           0.7823523283004761,
           1.2256848812103271,
           1.672588586807251,
           2.02817440032959,
           2.2650179862976074,
           2.399125576019287,
           2.460566520690918,
           2.473757028579712,
           2.4501760005950928,
           2.3900606632232666,
           2.2892303466796875,
           2.14825177192688,
           1.9806822538375854,
           1.8158488273620605,
           1.692549467086792,
           1.6447901725769043,
           1.68672513961792
          ],
          [
           2.9647974967956543,
           3.3350181579589844,
           3.8625197410583496,
           4.489912986755371,
           5.061892986297607,
           5.342905521392822,
           5.10152530670166,
           4.236673355102539,
           2.8727364540100098,
           1.347379446029663,
           0.07741808891296387,
           -0.6254701614379883,
           -0.6784822940826416,
           -0.22423219680786133,
           0.47783994674682617,
           1.183323860168457,
           1.7441326379776,
           2.117781639099121,
           2.330089569091797,
           2.4293808937072754,
           2.4558253288269043,
           2.43019437789917,
           2.3562588691711426,
           2.230377197265625,
           2.0538930892944336,
           1.8440076112747192,
           1.6375268697738647,
           1.4830697774887085,
           1.4232414960861206,
           1.475773811340332
          ],
          [
           2.8662686347961426,
           3.1753764152526855,
           3.627683162689209,
           4.179337024688721,
           4.699039936065674,
           4.980893135070801,
           4.817156791687012,
           4.109975337982178,
           2.957690477371216,
           1.647623896598816,
           0.5410863161087036,
           -0.08736705780029297,
           -0.15947484970092773,
           0.20737385749816895,
           0.7927125692367554,
           1.3867660760879517,
           1.861293077468872,
           2.1784589290618896,
           2.359405279159546,
           2.4452550411224365,
           2.4709513187408447,
           2.4556264877319336,
           2.4043893814086914,
           2.3157992362976074,
           2.191253900527954,
           2.043057441711426,
           1.897248387336731,
           1.7881746292114258,
           1.745924949645996,
           1.783022403717041
          ],
          [
           2.6930463314056396,
           2.853322744369507,
           3.095529794692993,
           3.406527519226074,
           3.7312614917755127,
           3.975311756134033,
           4.035035133361816,
           3.847433567047119,
           3.432115316390991,
           2.894785165786743,
           2.383898973464966,
           2.024557113647461,
           1.8694992065429688,
           1.8929712772369385,
           2.022435426712036,
           2.1815085411071777,
           2.3188424110412598,
           2.4143917560577393,
           2.4700512886047363,
           2.4964065551757812,
           2.5032882690429688,
           2.4959025382995605,
           2.475062847137451,
           2.4396588802337646,
           2.3900396823883057,
           2.33103346824646,
           2.2729849815368652,
           2.229562282562256,
           2.212742567062378,
           2.227511167526245
          ],
          [
           2.5717275142669678,
           2.6204614639282227,
           2.6969339847564697,
           2.8012325763702393,
           2.9225258827209473,
           3.038095712661743,
           3.1189913749694824,
           3.1412711143493652,
           3.097136974334717,
           2.9991021156311035,
           2.874234914779663,
           2.752129077911377,
           2.653791666030884,
           2.586996555328369,
           2.5485782623291016,
           2.5300827026367188,
           2.522900342941284,
           2.5208628177642822,
           2.520498752593994,
           2.5201549530029297,
           2.5189831256866455,
           2.51627254486084,
           2.511230945587158,
           2.5031721591949463,
           2.4920051097869873,
           2.478754997253418,
           2.465726137161255,
           2.4559807777404785,
           2.4522061347961426,
           2.4555203914642334
          ],
          [
           2.5302176475524902,
           2.539219617843628,
           2.554226875305176,
           2.5765645503997803,
           2.6061432361602783,
           2.6407251358032227,
           2.675828456878662,
           2.7055184841156006,
           2.7239272594451904,
           2.7270164489746094,
           2.71391224861145,
           2.6873185634613037,
           2.652695655822754,
           2.616515874862671,
           2.5843048095703125,
           2.5592827796936035,
           2.5421347618103027,
           2.53170108795166,
           2.526029586791992,
           2.523228645324707,
           2.5218777656555176,
           2.521066904067993,
           2.520265817642212,
           2.519195079803467,
           2.5177669525146484,
           2.516085624694824,
           2.514435052871704,
           2.5132009983062744,
           2.512722969055176,
           2.5131425857543945
          ],
          [
           2.528179883956909,
           2.539072036743164,
           2.563419818878174,
           2.6120433807373047,
           2.698322057723999,
           2.8333866596221924,
           3.0179543495178223,
           3.234210968017578,
           3.443855047225952,
           3.5971803665161133,
           3.651707410812378,
           3.5911476612091064,
           3.433239221572876,
           3.221351146697998,
           3.0052390098571777,
           2.822568893432617,
           2.690213203430176,
           2.606621742248535,
           2.5601632595062256,
           2.537302255630493,
           2.527294635772705,
           2.5233700275421143,
           2.521959066390991,
           2.5214476585388184,
           2.5212056636810303,
           2.521028757095337,
           2.5208771228790283,
           2.5207672119140625,
           2.5207250118255615,
           2.5207619667053223
          ],
          [
           2.5286850929260254,
           2.5409445762634277,
           2.568882703781128,
           2.6254727840423584,
           2.726938247680664,
           2.8870015144348145,
           3.106997013092041,
           3.3659636974334717,
           3.618091344833374,
           3.8035712242126465,
           3.871013641357422,
           3.800403118133545,
           3.612664222717285,
           3.3596692085266113,
           3.1011462211608887,
           2.8823952674865723,
           2.723794460296631,
           2.623584508895874,
           2.5678725242614746,
           2.540447950363159,
           2.528430700302124,
           2.5236964225769043,
           2.521956205368042,
           2.5212676525115967,
           2.520873785018921,
           2.520538568496704,
           2.520235776901245,
           2.5200133323669434,
           2.519927740097046,
           2.520002603530884
          ],
          [
           2.5248067378997803,
           2.530463218688965,
           2.543365001678467,
           2.569514036178589,
           2.616419553756714,
           2.6904375553131104,
           2.7921950817108154,
           2.9120004177093506,
           3.0286641120910645,
           3.114508867263794,
           3.1457507610321045,
           3.1131207942962646,
           3.0262928009033203,
           2.909264087677002,
           2.7896676063537598,
           2.6884658336639404,
           2.6150870323181152,
           2.5687153339385986,
           2.542912006378174,
           2.530153274536133,
           2.5244314670562744,
           2.521911144256592,
           2.5205109119415283,
           2.5192477703094482,
           2.51775860786438,
           2.5160531997680664,
           2.5143887996673584,
           2.513145923614502,
           2.512664794921875,
           2.513087034225464
          ],
          [
           2.5222325325012207,
           2.5234901905059814,
           2.5263588428497314,
           2.5321731567382812,
           2.542603015899658,
           2.5590620040893555,
           2.5816895961761475,
           2.608330488204956,
           2.634273052215576,
           2.653362989425659,
           2.660311222076416,
           2.6530556678771973,
           2.6337480545043945,
           2.60772442817688,
           2.581129312515259,
           2.5586228370666504,
           2.542297840118408,
           2.53196120262146,
           2.526151180267334,
           2.5231282711029053,
           2.521430492401123,
           2.520003080368042,
           2.518127679824829,
           2.515364408493042,
           2.5115981101989746,
           2.5071446895599365,
           2.5027685165405273,
           2.499495506286621,
           2.498228073120117,
           2.4993410110473633
          ],
          [
           2.5215821266174316,
           2.521728277206421,
           2.522061347961426,
           2.5227363109588623,
           2.52394700050354,
           2.525857925415039,
           2.52848482131958,
           2.5315778255462646,
           2.5345895290374756,
           2.5368058681488037,
           2.5376124382019043,
           2.5367701053619385,
           2.5345284938812256,
           2.5315074920654297,
           2.5284202098846436,
           2.525808811187744,
           2.523918628692627,
           2.522735118865967,
           2.5221080780029297,
           2.521878957748413,
           2.5219616889953613,
           2.5223660469055176,
           2.523176670074463,
           2.5244879722595215,
           2.526309013366699,
           2.528470754623413,
           2.5305964946746826,
           2.532186508178711,
           2.5328025817871094,
           2.532261848449707
          ],
          [
           2.5215022563934326,
           2.5215113162994385,
           2.5215322971343994,
           2.5215747356414795,
           2.521651029586792,
           2.521771192550659,
           2.5219366550445557,
           2.5221312046051025,
           2.5223207473754883,
           2.5224602222442627,
           2.5225110054016113,
           2.522458076477051,
           2.522317409515381,
           2.5221285820007324,
           2.5219411849975586,
           2.521803855895996,
           2.521782398223877,
           2.522022008895874,
           2.5228874683380127,
           2.5252010822296143,
           2.5305442810058594,
           2.5414469242095947,
           2.5611186027526855,
           2.5923452377319336,
           2.635551929473877,
           2.6868019104003906,
           2.7371950149536133,
           2.7748847007751465,
           2.7894842624664307,
           2.7766666412353516
          ],
          [
           2.5214970111846924,
           2.5214972496032715,
           2.521497964859009,
           2.5214993953704834,
           2.5215020179748535,
           2.5215063095092773,
           2.521512031555176,
           2.5215189456939697,
           2.5215253829956055,
           2.5215301513671875,
           2.5215320587158203,
           2.5215303897857666,
           2.521526336669922,
           2.52152419090271,
           2.5215377807617188,
           2.521613121032715,
           2.5219008922576904,
           2.522838592529297,
           2.5255463123321533,
           2.53251576423645,
           2.5484976768493652,
           2.5810635089874268,
           2.6398062705993652,
           2.7330517768859863,
           2.862067937850952,
           3.015104293823242,
           3.165576934814453,
           3.2781193256378174,
           3.321714162826538,
           3.283440113067627
          ],
          [
           2.5214967727661133,
           2.5214967727661133,
           2.5214967727661133,
           2.5214967727661133,
           2.5214967727661133,
           2.5214970111846924,
           2.5214970111846924,
           2.5214972496032715,
           2.5214972496032715,
           2.5214974880218506,
           2.5214974880218506,
           2.5214977264404297,
           2.521498918533325,
           2.521505355834961,
           2.5215346813201904,
           2.521652936935425,
           2.5220789909362793,
           2.523451805114746,
           2.52740740776062,
           2.5375845432281494,
           2.5609190464019775,
           2.608466863632202,
           2.694234609603882,
           2.830376625061035,
           3.0187478065490723,
           3.2421860694885254,
           3.461883068084717,
           3.626204013824463,
           3.689849853515625,
           3.6339683532714844
          ],
          [
           2.5214967727661133,
           2.5214967727661133,
           2.5214967727661133,
           2.5214967727661133,
           2.5214967727661133,
           2.5214967727661133,
           2.5214967727661133,
           2.5214967727661133,
           2.5214967727661133,
           2.5214967727661133,
           2.5214967727661133,
           2.5214970111846924,
           2.521498203277588,
           2.5215044021606445,
           2.521531581878662,
           2.5216407775878906,
           2.522033929824829,
           2.5233004093170166,
           2.526949882507324,
           2.5363388061523438,
           2.5578665733337402,
           2.6017324924468994,
           2.680859088897705,
           2.8064591884613037,
           2.9802441596984863,
           3.1863808631896973,
           3.389065980911255,
           3.5406599044799805,
           3.5993854999542236,
           3.5478262901306152
          ],
          [
           2.5214967727661133,
           2.5214967727661133,
           2.5214967727661133,
           2.5214967727661133,
           2.5214967727661133,
           2.5214967727661133,
           2.5214967727661133,
           2.5214967727661133,
           2.5214967727661133,
           2.5214967727661133,
           2.5214967727661133,
           2.5214970111846924,
           2.521497964859009,
           2.52150297164917,
           2.5215249061584473,
           2.521613597869873,
           2.521932601928711,
           2.5229599475860596,
           2.5259206295013428,
           2.5335373878479004,
           2.551001787185669,
           2.586588144302368,
           2.6507797241210938,
           2.7526729106903076,
           2.8936562538146973,
           3.060884952545166,
           3.225313663482666,
           3.348297119140625,
           3.3959319591522217,
           3.3541078567504883
          ],
          [
           2.5214967727661133,
           2.5214967727661133,
           2.5214967727661133,
           2.5214967727661133,
           2.5214967727661133,
           2.5214967727661133,
           2.5214967727661133,
           2.5214967727661133,
           2.5214967727661133,
           2.5214967727661133,
           2.5214967727661133,
           2.5214970111846924,
           2.5214977264404297,
           2.521501064300537,
           2.521517038345337,
           2.521580457687378,
           2.5218091011047363,
           2.52254581451416,
           2.524667978286743,
           2.530128240585327,
           2.5426480770111084,
           2.5681588649749756,
           2.614175796508789,
           2.687220811843872,
           2.7882862091064453,
           2.908168315887451,
           3.0260374546051025,
           3.114203691482544,
           3.1483564376831055,
           3.1183738708496094
          ]
         ],
         "type": "surface"
        },
        {
         "marker": {
          "color": "darkgreen"
         },
         "mode": "markers",
         "name": "training data",
         "x": [
          0.5,
          0.5,
          1.0000000037252903,
          1.0000000037252903,
          1.5000000074505806,
          1.5000000074505806,
          5.000000000000001,
          5.000000000000001,
          0.5,
          5.000000000000001,
          2.0000000447034836,
          0.5,
          0.5,
          0.5,
          1.0000000037252903,
          1.0000000037252903,
          2.0000000447034836,
          2.0000000447034836,
          2.0000000447034836,
          2.0000000447034836,
          5.000000000000001,
          5.000000000000001,
          5.000000000000001
         ],
         "y": [
          2.7300000190734863,
          3.4000001145614362,
          3.7899999185612288,
          6.440000140764965,
          5.3600000716472636,
          8.98999989360641,
          8.800000081362441,
          14.670000341289324,
          5.239999811442516,
          14.890000123887603,
          10.130000282220237,
          4.510000154033449,
          5.369999872371615,
          4.880000167190786,
          6.760000203331785,
          7.769999962835257,
          8.729999392960707,
          9.380000265787459,
          10.479999178778854,
          11.010000170188363,
          14.710000301761738,
          15.4399995803833,
          13.370000110785838
         ],
         "z": [
          0.8730257153511047,
          2.6772446632385254,
          1.6990152597427368,
          3.8050527572631836,
          3.3348562717437744,
          4.535152912139893,
          1.3625102043151855,
          3.8412907123565674,
          1.2013570070266724,
          3.5136520862579346,
          3.4708714485168457,
          0.26329824328422546,
          2.7753403186798096,
          2.591306209564209,
          2.579984426498413,
          3.173818588256836,
          0.13150499761104584,
          0.45116370916366577,
          2.1266398429870605,
          3.468212842941284,
          3.685852527618408,
          3.445655584335327,
          2.6515469551086426
         ],
         "type": "scatter3d"
        }
       ],
       "layout": {
        "template": {
         "data": {
          "histogram2dcontour": [
           {
            "type": "histogram2dcontour",
            "colorbar": {
             "outlinewidth": 0,
             "ticks": ""
            },
            "colorscale": [
             [
              0,
              "#0d0887"
             ],
             [
              0.1111111111111111,
              "#46039f"
             ],
             [
              0.2222222222222222,
              "#7201a8"
             ],
             [
              0.3333333333333333,
              "#9c179e"
             ],
             [
              0.4444444444444444,
              "#bd3786"
             ],
             [
              0.5555555555555556,
              "#d8576b"
             ],
             [
              0.6666666666666666,
              "#ed7953"
             ],
             [
              0.7777777777777778,
              "#fb9f3a"
             ],
             [
              0.8888888888888888,
              "#fdca26"
             ],
             [
              1,
              "#f0f921"
             ]
            ]
           }
          ],
          "choropleth": [
           {
            "type": "choropleth",
            "colorbar": {
             "outlinewidth": 0,
             "ticks": ""
            }
           }
          ],
          "histogram2d": [
           {
            "type": "histogram2d",
            "colorbar": {
             "outlinewidth": 0,
             "ticks": ""
            },
            "colorscale": [
             [
              0,
              "#0d0887"
             ],
             [
              0.1111111111111111,
              "#46039f"
             ],
             [
              0.2222222222222222,
              "#7201a8"
             ],
             [
              0.3333333333333333,
              "#9c179e"
             ],
             [
              0.4444444444444444,
              "#bd3786"
             ],
             [
              0.5555555555555556,
              "#d8576b"
             ],
             [
              0.6666666666666666,
              "#ed7953"
             ],
             [
              0.7777777777777778,
              "#fb9f3a"
             ],
             [
              0.8888888888888888,
              "#fdca26"
             ],
             [
              1,
              "#f0f921"
             ]
            ]
           }
          ],
          "heatmap": [
           {
            "type": "heatmap",
            "colorbar": {
             "outlinewidth": 0,
             "ticks": ""
            },
            "colorscale": [
             [
              0,
              "#0d0887"
             ],
             [
              0.1111111111111111,
              "#46039f"
             ],
             [
              0.2222222222222222,
              "#7201a8"
             ],
             [
              0.3333333333333333,
              "#9c179e"
             ],
             [
              0.4444444444444444,
              "#bd3786"
             ],
             [
              0.5555555555555556,
              "#d8576b"
             ],
             [
              0.6666666666666666,
              "#ed7953"
             ],
             [
              0.7777777777777778,
              "#fb9f3a"
             ],
             [
              0.8888888888888888,
              "#fdca26"
             ],
             [
              1,
              "#f0f921"
             ]
            ]
           }
          ],
          "heatmapgl": [
           {
            "type": "heatmapgl",
            "colorbar": {
             "outlinewidth": 0,
             "ticks": ""
            },
            "colorscale": [
             [
              0,
              "#0d0887"
             ],
             [
              0.1111111111111111,
              "#46039f"
             ],
             [
              0.2222222222222222,
              "#7201a8"
             ],
             [
              0.3333333333333333,
              "#9c179e"
             ],
             [
              0.4444444444444444,
              "#bd3786"
             ],
             [
              0.5555555555555556,
              "#d8576b"
             ],
             [
              0.6666666666666666,
              "#ed7953"
             ],
             [
              0.7777777777777778,
              "#fb9f3a"
             ],
             [
              0.8888888888888888,
              "#fdca26"
             ],
             [
              1,
              "#f0f921"
             ]
            ]
           }
          ],
          "contourcarpet": [
           {
            "type": "contourcarpet",
            "colorbar": {
             "outlinewidth": 0,
             "ticks": ""
            }
           }
          ],
          "contour": [
           {
            "type": "contour",
            "colorbar": {
             "outlinewidth": 0,
             "ticks": ""
            },
            "colorscale": [
             [
              0,
              "#0d0887"
             ],
             [
              0.1111111111111111,
              "#46039f"
             ],
             [
              0.2222222222222222,
              "#7201a8"
             ],
             [
              0.3333333333333333,
              "#9c179e"
             ],
             [
              0.4444444444444444,
              "#bd3786"
             ],
             [
              0.5555555555555556,
              "#d8576b"
             ],
             [
              0.6666666666666666,
              "#ed7953"
             ],
             [
              0.7777777777777778,
              "#fb9f3a"
             ],
             [
              0.8888888888888888,
              "#fdca26"
             ],
             [
              1,
              "#f0f921"
             ]
            ]
           }
          ],
          "surface": [
           {
            "type": "surface",
            "colorbar": {
             "outlinewidth": 0,
             "ticks": ""
            },
            "colorscale": [
             [
              0,
              "#0d0887"
             ],
             [
              0.1111111111111111,
              "#46039f"
             ],
             [
              0.2222222222222222,
              "#7201a8"
             ],
             [
              0.3333333333333333,
              "#9c179e"
             ],
             [
              0.4444444444444444,
              "#bd3786"
             ],
             [
              0.5555555555555556,
              "#d8576b"
             ],
             [
              0.6666666666666666,
              "#ed7953"
             ],
             [
              0.7777777777777778,
              "#fb9f3a"
             ],
             [
              0.8888888888888888,
              "#fdca26"
             ],
             [
              1,
              "#f0f921"
             ]
            ]
           }
          ],
          "mesh3d": [
           {
            "type": "mesh3d",
            "colorbar": {
             "outlinewidth": 0,
             "ticks": ""
            }
           }
          ],
          "scatter": [
           {
            "fillpattern": {
             "fillmode": "overlay",
             "size": 10,
             "solidity": 0.2
            },
            "type": "scatter"
           }
          ],
          "parcoords": [
           {
            "type": "parcoords",
            "line": {
             "colorbar": {
              "outlinewidth": 0,
              "ticks": ""
             }
            }
           }
          ],
          "scatterpolargl": [
           {
            "type": "scatterpolargl",
            "marker": {
             "colorbar": {
              "outlinewidth": 0,
              "ticks": ""
             }
            }
           }
          ],
          "bar": [
           {
            "error_x": {
             "color": "#2a3f5f"
            },
            "error_y": {
             "color": "#2a3f5f"
            },
            "marker": {
             "line": {
              "color": "#E5ECF6",
              "width": 0.5
             },
             "pattern": {
              "fillmode": "overlay",
              "size": 10,
              "solidity": 0.2
             }
            },
            "type": "bar"
           }
          ],
          "scattergeo": [
           {
            "type": "scattergeo",
            "marker": {
             "colorbar": {
              "outlinewidth": 0,
              "ticks": ""
             }
            }
           }
          ],
          "scatterpolar": [
           {
            "type": "scatterpolar",
            "marker": {
             "colorbar": {
              "outlinewidth": 0,
              "ticks": ""
             }
            }
           }
          ],
          "histogram": [
           {
            "marker": {
             "pattern": {
              "fillmode": "overlay",
              "size": 10,
              "solidity": 0.2
             }
            },
            "type": "histogram"
           }
          ],
          "scattergl": [
           {
            "type": "scattergl",
            "marker": {
             "colorbar": {
              "outlinewidth": 0,
              "ticks": ""
             }
            }
           }
          ],
          "scatter3d": [
           {
            "type": "scatter3d",
            "line": {
             "colorbar": {
              "outlinewidth": 0,
              "ticks": ""
             }
            },
            "marker": {
             "colorbar": {
              "outlinewidth": 0,
              "ticks": ""
             }
            }
           }
          ],
          "scattermapbox": [
           {
            "type": "scattermapbox",
            "marker": {
             "colorbar": {
              "outlinewidth": 0,
              "ticks": ""
             }
            }
           }
          ],
          "scatterternary": [
           {
            "type": "scatterternary",
            "marker": {
             "colorbar": {
              "outlinewidth": 0,
              "ticks": ""
             }
            }
           }
          ],
          "scattercarpet": [
           {
            "type": "scattercarpet",
            "marker": {
             "colorbar": {
              "outlinewidth": 0,
              "ticks": ""
             }
            }
           }
          ],
          "carpet": [
           {
            "aaxis": {
             "endlinecolor": "#2a3f5f",
             "gridcolor": "white",
             "linecolor": "white",
             "minorgridcolor": "white",
             "startlinecolor": "#2a3f5f"
            },
            "baxis": {
             "endlinecolor": "#2a3f5f",
             "gridcolor": "white",
             "linecolor": "white",
             "minorgridcolor": "white",
             "startlinecolor": "#2a3f5f"
            },
            "type": "carpet"
           }
          ],
          "table": [
           {
            "cells": {
             "fill": {
              "color": "#EBF0F8"
             },
             "line": {
              "color": "white"
             }
            },
            "header": {
             "fill": {
              "color": "#C8D4E3"
             },
             "line": {
              "color": "white"
             }
            },
            "type": "table"
           }
          ],
          "barpolar": [
           {
            "marker": {
             "line": {
              "color": "#E5ECF6",
              "width": 0.5
             },
             "pattern": {
              "fillmode": "overlay",
              "size": 10,
              "solidity": 0.2
             }
            },
            "type": "barpolar"
           }
          ],
          "pie": [
           {
            "automargin": true,
            "type": "pie"
           }
          ]
         },
         "layout": {
          "autotypenumbers": "strict",
          "colorway": [
           "#636efa",
           "#EF553B",
           "#00cc96",
           "#ab63fa",
           "#FFA15A",
           "#19d3f3",
           "#FF6692",
           "#B6E880",
           "#FF97FF",
           "#FECB52"
          ],
          "font": {
           "color": "#2a3f5f"
          },
          "hovermode": "closest",
          "hoverlabel": {
           "align": "left"
          },
          "paper_bgcolor": "white",
          "plot_bgcolor": "#E5ECF6",
          "polar": {
           "bgcolor": "#E5ECF6",
           "angularaxis": {
            "gridcolor": "white",
            "linecolor": "white",
            "ticks": ""
           },
           "radialaxis": {
            "gridcolor": "white",
            "linecolor": "white",
            "ticks": ""
           }
          },
          "ternary": {
           "bgcolor": "#E5ECF6",
           "aaxis": {
            "gridcolor": "white",
            "linecolor": "white",
            "ticks": ""
           },
           "baxis": {
            "gridcolor": "white",
            "linecolor": "white",
            "ticks": ""
           },
           "caxis": {
            "gridcolor": "white",
            "linecolor": "white",
            "ticks": ""
           }
          },
          "coloraxis": {
           "colorbar": {
            "outlinewidth": 0,
            "ticks": ""
           }
          },
          "colorscale": {
           "sequential": [
            [
             0,
             "#0d0887"
            ],
            [
             0.1111111111111111,
             "#46039f"
            ],
            [
             0.2222222222222222,
             "#7201a8"
            ],
            [
             0.3333333333333333,
             "#9c179e"
            ],
            [
             0.4444444444444444,
             "#bd3786"
            ],
            [
             0.5555555555555556,
             "#d8576b"
            ],
            [
             0.6666666666666666,
             "#ed7953"
            ],
            [
             0.7777777777777778,
             "#fb9f3a"
            ],
            [
             0.8888888888888888,
             "#fdca26"
            ],
            [
             1,
             "#f0f921"
            ]
           ],
           "sequentialminus": [
            [
             0,
             "#0d0887"
            ],
            [
             0.1111111111111111,
             "#46039f"
            ],
            [
             0.2222222222222222,
             "#7201a8"
            ],
            [
             0.3333333333333333,
             "#9c179e"
            ],
            [
             0.4444444444444444,
             "#bd3786"
            ],
            [
             0.5555555555555556,
             "#d8576b"
            ],
            [
             0.6666666666666666,
             "#ed7953"
            ],
            [
             0.7777777777777778,
             "#fb9f3a"
            ],
            [
             0.8888888888888888,
             "#fdca26"
            ],
            [
             1,
             "#f0f921"
            ]
           ],
           "diverging": [
            [
             0,
             "#8e0152"
            ],
            [
             0.1,
             "#c51b7d"
            ],
            [
             0.2,
             "#de77ae"
            ],
            [
             0.3,
             "#f1b6da"
            ],
            [
             0.4,
             "#fde0ef"
            ],
            [
             0.5,
             "#f7f7f7"
            ],
            [
             0.6,
             "#e6f5d0"
            ],
            [
             0.7,
             "#b8e186"
            ],
            [
             0.8,
             "#7fbc41"
            ],
            [
             0.9,
             "#4d9221"
            ],
            [
             1,
             "#276419"
            ]
           ]
          },
          "xaxis": {
           "gridcolor": "white",
           "linecolor": "white",
           "ticks": "",
           "title": {
            "standoff": 15
           },
           "zerolinecolor": "white",
           "automargin": true,
           "zerolinewidth": 2
          },
          "yaxis": {
           "gridcolor": "white",
           "linecolor": "white",
           "ticks": "",
           "title": {
            "standoff": 15
           },
           "zerolinecolor": "white",
           "automargin": true,
           "zerolinewidth": 2
          },
          "scene": {
           "xaxis": {
            "backgroundcolor": "#E5ECF6",
            "gridcolor": "white",
            "linecolor": "white",
            "showbackground": true,
            "ticks": "",
            "zerolinecolor": "white",
            "gridwidth": 2
           },
           "yaxis": {
            "backgroundcolor": "#E5ECF6",
            "gridcolor": "white",
            "linecolor": "white",
            "showbackground": true,
            "ticks": "",
            "zerolinecolor": "white",
            "gridwidth": 2
           },
           "zaxis": {
            "backgroundcolor": "#E5ECF6",
            "gridcolor": "white",
            "linecolor": "white",
            "showbackground": true,
            "ticks": "",
            "zerolinecolor": "white",
            "gridwidth": 2
           }
          },
          "shapedefaults": {
           "line": {
            "color": "#2a3f5f"
           }
          },
          "annotationdefaults": {
           "arrowcolor": "#2a3f5f",
           "arrowhead": 0,
           "arrowwidth": 1
          },
          "geo": {
           "bgcolor": "white",
           "landcolor": "#E5ECF6",
           "subunitcolor": "white",
           "showland": true,
           "showlakes": true,
           "lakecolor": "white"
          },
          "title": {
           "x": 0.05
          },
          "mapbox": {
           "style": "light"
          }
         }
        },
        "legend": {
         "orientation": "h",
         "yanchor": "top",
         "y": 1.02,
         "xanchor": "left",
         "x": 1
        },
        "margin": {
         "r": 20,
         "l": 10,
         "b": 10,
         "t": 10
        },
        "width": 1000,
        "height": 800,
        "scene": {
         "xaxis": {
          "title": {
           "text": "Pulse Width (msec)"
          }
         },
         "yaxis": {
          "title": {
           "text": "Energy density new cone (J/cm^2)"
          }
         },
         "zaxis": {
          "title": {
           "text": "2 Qsw/(U+|D|) 1e6"
          }
         },
         "camera": {
          "up": {
           "x": 0,
           "y": 0,
           "z": 1
          },
          "center": {
           "x": 0,
           "y": 0,
           "z": 0
          },
          "eye": {
           "x": -2,
           "y": -2.5,
           "z": 1.75
          }
         }
        }
       },
       "config": {
        "plotlyServerURL": "https://plot.ly"
       }
      }
     },
     "metadata": {}
    },
    {
     "output_type": "display_data",
     "data": {
      "application/vnd.plotly.v1+json": {
       "data": [
        {
         "opacity": 0.5,
         "showscale": false,
         "x": [
          0.33928570710122585,
          0.5055418629199266,
          0.6717980187386274,
          0.8380541577935219,
          1.0043103471398354,
          1.1705665364861488,
          1.336822658777237,
          1.503078781068325,
          1.6693349033594131,
          1.8355910927057266,
          2.0018471479415894,
          2.168103337287903,
          2.3343595266342168,
          2.5006157159805302,
          2.6668719053268437,
          2.833128094673157,
          2.9993842840194707,
          3.165640473365784,
          3.3318966627120976,
          3.4981525838375096,
          3.664408773183823,
          3.8306649625301366,
          3.99692115187645,
          4.163177341222764,
          4.329433262348176,
          4.495689451694489,
          4.661945641040803,
          4.828201830387116,
          4.99445801973343,
          5.160714209079743
         ],
         "y": [
          2.276071443020234,
          2.745652702469288,
          3.215233961918342,
          3.684815174018958,
          4.154396528164888,
          4.623977882310818,
          5.093559047062996,
          5.563140211815174,
          6.032721376567352,
          6.502302730713282,
          6.971883706071708,
          7.441465060217638,
          7.911046414363568,
          8.380627768509498,
          8.850209122655428,
          9.319790476801359,
          9.789371830947289,
          10.258953185093219,
          10.72853453923915,
          11.19811513581007,
          11.667696489956,
          12.13727784410193,
          12.60685919824786,
          13.076440552393791,
          13.546021148964712,
          14.015602503110642,
          14.485183857256573,
          14.954765211402503,
          15.424346565548433,
          15.893927919694363
         ],
         "z": [
          [
           3.2244760990142822,
           2.9893083572387695,
           3.2426531314849854,
           3.8285813331604004,
           4.487086772918701,
           5.049205780029297,
           5.455426216125488,
           5.715408802032471,
           5.866176605224609,
           5.946107864379883,
           5.984832763671875,
           6.001914024353027,
           6.008756637573242,
           6.0112457275390625,
           6.012070178985596,
           6.012319564819336,
           6.012388229370117,
           6.012406349182129,
           6.0124101638793945,
           6.012411117553711,
           6.012411117553711,
           6.012411117553711,
           6.012411117553711,
           6.012411117553711,
           6.012411117553711,
           6.012411117553711,
           6.012411117553711,
           6.012411117553711,
           6.012411117553711,
           6.012411117553711
          ],
          [
           2.6205968856811523,
           2.1414742469787598,
           2.6381092071533203,
           3.5152246952056885,
           4.331842422485352,
           4.961836814880371,
           5.396610260009766,
           5.67365837097168,
           5.83839225769043,
           5.929326057434082,
           5.975566864013672,
           5.9972028732299805,
           6.006560325622559,
           6.010317802429199,
           6.011717796325684,
           6.012199401855469,
           6.012351989746094,
           6.012396335601807,
           6.0124077796936035,
           6.012410640716553,
           6.012411117553711,
           6.012411117553711,
           6.012411117553711,
           6.012411117553711,
           6.012411117553711,
           6.012411117553711,
           6.012411117553711,
           6.012411117553711,
           6.012411117553711,
           6.012411117553711
          ],
          [
           3.8635244369506836,
           3.491222620010376,
           3.768873929977417,
           4.227060317993164,
           4.61405611038208,
           4.943001747131348,
           5.254767417907715,
           5.535375595092773,
           5.748615264892578,
           5.882737159729004,
           5.954226493835449,
           5.987908363342285,
           6.002600193023682,
           6.008705139160156,
           6.011115550994873,
           6.011999130249023,
           6.012293815612793,
           6.012381553649902,
           6.012404441833496,
           6.0124101638793945,
           6.012411117553711,
           6.012411117553711,
           6.012411117553711,
           6.012411117553711,
           6.012411117553711,
           6.012411117553711,
           6.012411117553711,
           6.012411117553711,
           6.012411117553711,
           6.012411117553711
          ],
          [
           3.7745537757873535,
           3.3565521240234375,
           3.1937272548675537,
           3.0897603034973145,
           3.1132402420043945,
           3.55787992477417,
           4.283590316772461,
           4.972902297973633,
           5.471090316772461,
           5.765135765075684,
           5.911309242248535,
           5.97448205947876,
           5.999175548553467,
           6.008181095123291,
           6.011238098144531,
           6.012162208557129,
           6.012389183044434,
           6.012424468994141,
           6.012420654296875,
           6.012414932250977,
           6.0124125480651855,
           6.012411594390869,
           6.012411117553711,
           6.012411117553711,
           6.012411117553711,
           6.012411117553711,
           6.012411117553711,
           6.012411117553711,
           6.012411117553711,
           6.012411117553711
          ],
          [
           2.5154471397399902,
           2.0634727478027344,
           2.0995616912841797,
           2.4335789680480957,
           2.935215711593628,
           3.60691499710083,
           4.364101409912109,
           5.0367512702941895,
           5.516999244689941,
           5.799842834472656,
           5.93904972076416,
           5.995932579040527,
           6.014056205749512,
           6.01718282699585,
           6.015985012054443,
           6.014364242553711,
           6.013296127319336,
           6.012758255004883,
           6.01253080368042,
           6.012448310852051,
           6.012421607971191,
           6.01241397857666,
           6.012412071228027,
           6.012411117553711,
           6.012411117553711,
           6.012411117553711,
           6.012411117553711,
           6.012411117553711,
           6.012411117553711,
           6.012411117553711
          ],
          [
           2.5473668575286865,
           2.0643255710601807,
           2.569192886352539,
           3.4173550605773926,
           4.176918983459473,
           4.742923259735107,
           5.137062072753906,
           5.426651954650879,
           5.660835266113281,
           5.845680236816406,
           5.968371868133545,
           6.028623580932617,
           6.04432487487793,
           6.038704872131348,
           6.028321266174316,
           6.020316123962402,
           6.015787124633789,
           6.013679504394531,
           6.012835502624512,
           6.012538433074951,
           6.012445449829102,
           6.012419700622559,
           6.012413024902344,
           6.012411594390869,
           6.012411117553711,
           6.012411117553711,
           6.012411117553711,
           6.012411117553711,
           6.012411117553711,
           6.012411117553711
          ],
          [
           3.4074573516845703,
           3.0295095443725586,
           3.609405755996704,
           4.403635025024414,
           4.923792839050293,
           5.047262191772461,
           4.876780033111572,
           4.750852584838867,
           4.980987071990967,
           5.4064412117004395,
           5.764249801635742,
           5.968531608581543,
           6.04573917388916,
           6.054476737976074,
           6.040874481201172,
           6.027115821838379,
           6.018764495849609,
           6.014799118041992,
           6.01320743560791,
           6.012648582458496,
           6.01247501373291,
           6.012426853179932,
           6.012414932250977,
           6.012412071228027,
           6.012411117553711,
           6.012411117553711,
           6.012411117553711,
           6.012411117553711,
           6.012411117553711,
           6.012411117553711
          ],
          [
           3.894011974334717,
           3.7249794006347656,
           4.23588752746582,
           4.959155082702637,
           5.422849655151367,
           5.461979866027832,
           5.171380519866943,
           4.943592071533203,
           5.135348796844482,
           5.5228495597839355,
           5.838961601257324,
           6.011091232299805,
           6.067774772644043,
           6.064870834350586,
           6.045314311981201,
           6.028825283050537,
           6.0193586349487305,
           6.014986991882324,
           6.013261795043945,
           6.012662887573242,
           6.012478828430176,
           6.01242733001709,
           6.012414932250977,
           6.012411594390869,
           6.012411117553711,
           6.012410640716553,
           6.0124101638793945,
           6.0124101638793945,
           6.0124101638793945,
           6.0124101638793945
          ],
          [
           5.438708305358887,
           5.414834499359131,
           5.453678131103516,
           5.5375142097473145,
           5.690837860107422,
           5.918452262878418,
           6.129467487335205,
           6.2465715408325195,
           6.273780822753906,
           6.250308990478516,
           6.20543098449707,
           6.153504371643066,
           6.104076862335205,
           6.0647711753845215,
           6.038681983947754,
           6.0240631103515625,
           6.017019271850586,
           6.0140485763549805,
           6.012935638427734,
           6.0125627517700195,
           6.012449264526367,
           6.012416839599609,
           6.0124053955078125,
           6.012397766113281,
           6.012389183044434,
           6.012378692626953,
           6.012369155883789,
           6.012361526489258,
           6.012358665466309,
           6.012361526489258
          ],
          [
           5.96295166015625,
           5.758989334106445,
           5.353055000305176,
           4.780462741851807,
           4.437718391418457,
           4.882555961608887,
           5.5108842849731445,
           5.9417924880981445,
           6.142183780670166,
           6.182852745056152,
           6.149127006530762,
           6.099574089050293,
           6.059969902038574,
           6.035245418548584,
           6.022121906280518,
           6.016040802001953,
           6.013575077056885,
           6.012711524963379,
           6.012456893920898,
           6.012392997741699,
           6.012365341186523,
           6.012321472167969,
           6.012239456176758,
           6.012105941772461,
           6.011919975280762,
           6.0116987228393555,
           6.011481285095215,
           6.011319160461426,
           6.011255264282227,
           6.0113115310668945
          ],
          [
           5.642824172973633,
           5.254612922668457,
           4.674200057983398,
           4.013236045837402,
           3.6734261512756348,
           4.047240257263184,
           4.710288047790527,
           5.277034759521484,
           5.64628791809082,
           5.8419189453125,
           5.927972793579102,
           5.961512565612793,
           5.9760966300964355,
           5.985640525817871,
           5.993788719177246,
           6.000607967376709,
           6.005665302276611,
           6.0089311599731445,
           6.01074743270874,
           6.011556625366211,
           6.011683940887451,
           6.011262893676758,
           6.010264873504639,
           6.008602142333984,
           6.006269931793213,
           6.003480911254883,
           6.000718116760254,
           5.998640060424805,
           5.99783182144165,
           5.998541355133057
          ],
          [
           5.686232089996338,
           5.337979793548584,
           4.8199543952941895,
           4.246674060821533,
           3.974644184112549,
           4.301469802856445,
           4.876680374145508,
           5.347604751586914,
           5.616448402404785,
           5.720500469207764,
           5.742073059082031,
           5.7504072189331055,
           5.777874946594238,
           5.825397491455078,
           5.879895210266113,
           5.9285569190979,
           5.9647979736328125,
           5.9879984855651855,
           6.000792503356934,
           6.006451606750488,
           6.007323265075684,
           6.004323959350586,
           5.997159957885742,
           5.9849958419799805,
           5.967445373535156,
           5.94571590423584,
           5.9234113693237305,
           5.906121253967285,
           5.899284839630127,
           5.905291557312012
          ],
          [
           5.9708662033081055,
           5.76551628112793,
           5.395745754241943,
           4.931553840637207,
           4.714141845703125,
           5.08772611618042,
           5.571223258972168,
           5.766043663024902,
           5.628202438354492,
           5.300902366638184,
           4.994290351867676,
           4.867177963256836,
           4.951517581939697,
           5.172876358032227,
           5.4297027587890625,
           5.651453495025635,
           5.810825347900391,
           5.910157203674316,
           5.964095115661621,
           5.987893581390381,
           5.991814613342285,
           5.97957181930542,
           5.948953151702881,
           5.893754482269287,
           5.807623863220215,
           5.6912150382995605,
           5.561276435852051,
           5.453609466552734,
           5.409397125244141,
           5.448293685913086
          ],
          [
           6.303765773773193,
           6.4517974853515625,
           6.6230950355529785,
           6.800261974334717,
           6.943789005279541,
           6.96908712387085,
           6.736844062805176,
           6.108504295349121,
           5.070796966552734,
           3.839775562286377,
           2.8620128631591797,
           2.5711722373962402,
           2.9561407566070557,
           3.679426670074463,
           4.435532569885254,
           5.054069519042969,
           5.48429012298584,
           5.746947288513184,
           5.888138294219971,
           5.950974464416504,
           5.963490962982178,
           5.935546875,
           5.859074592590332,
           5.709627151489258,
           5.45330810546875,
           5.068277359008789,
           4.585154056549072,
           4.132297515869141,
           3.928058385848999,
           4.108386993408203
          ],
          [
           6.429291725158691,
           6.750494003295898,
           7.160891532897949,
           7.547569274902344,
           7.706860542297363,
           7.420963764190674,
           6.613725662231445,
           5.452645301818848,
           4.061781883239746,
           2.4717259407043457,
           1.1447985172271729,
           0.7867562770843506,
           1.383331537246704,
           2.452558994293213,
           3.582188129425049,
           4.522510528564453,
           5.186347007751465,
           5.596012592315674,
           5.818297386169434,
           5.9195451736450195,
           5.944892883300781,
           5.9124064445495605,
           5.812743186950684,
           5.609972953796387,
           5.248320579528809,
           4.676468849182129,
           3.8952736854553223,
           3.033383846282959,
           2.5384509563446045,
           2.980929374694824
          ],
          [
           6.346828937530518,
           6.627516746520996,
           6.999842643737793,
           7.37252950668335,
           7.5757737159729,
           7.423683166503906,
           6.820961952209473,
           5.801592826843262,
           4.432621002197266,
           2.866244316101074,
           1.6077888011932373,
           1.3363678455352783,
           1.9305462837219238,
           2.9088940620422363,
           3.9118380546569824,
           4.732673168182373,
           5.305896759033203,
           5.657361030578613,
           5.847781181335449,
           5.93559455871582,
           5.9609174728393555,
           5.942200660705566,
           5.878175735473633,
           5.751649856567383,
           5.537595748901367,
           5.222692489624023,
           4.838536739349365,
           4.491453647613525,
           4.34002161026001,
           4.473544120788574
          ],
          [
           6.181406021118164,
           6.334430694580078,
           6.555832386016846,
           6.818915367126465,
           7.053153038024902,
           7.149816513061523,
           6.984925746917725,
           6.4572272300720215,
           5.549149513244629,
           4.419097900390625,
           3.5643582344055176,
           3.569911003112793,
           4.0882487297058105,
           4.689535140991211,
           5.1949286460876465,
           5.550957202911377,
           5.771663665771484,
           5.89556884765625,
           5.9589433670043945,
           5.9869585037231445,
           5.994015693664551,
           5.986125469207764,
           5.963268280029297,
           5.921904563903809,
           5.8584442138671875,
           5.7744927406311035,
           5.682706832885742,
           5.607917785644531,
           5.5775041580200195,
           5.604251861572266
          ],
          [
           6.062394618988037,
           6.110280990600586,
           6.18356990814209,
           6.277078151702881,
           6.365494251251221,
           6.39327335357666,
           6.274310111999512,
           5.915460586547852,
           5.270286560058594,
           4.426248550415039,
           3.849342107772827,
           4.196738243103027,
           4.850078582763672,
           5.38620662689209,
           5.727080345153809,
           5.903196334838867,
           5.977202415466309,
           6.002483367919922,
           6.009495735168457,
           6.01074743270874,
           6.0098466873168945,
           6.007147789001465,
           6.002008438110352,
           5.993650436401367,
           5.981789588928223,
           5.967294692993164,
           5.952596664428711,
           5.94131326675415,
           5.93687629699707,
           5.940773963928223
          ],
          [
           6.021082401275635,
           6.029787063598633,
           6.043132305145264,
           6.057926177978516,
           6.059869766235352,
           6.012922286987305,
           5.85368537902832,
           5.506604194641113,
           4.930397987365723,
           4.2046284675598145,
           3.763760805130005,
           4.180866241455078,
           4.874943733215332,
           5.4288835525512695,
           5.7687668800354,
           5.934698581695557,
           5.997173309326172,
           6.013513565063477,
           6.015067100524902,
           6.013829231262207,
           6.012749671936035,
           6.01197624206543,
           6.011178016662598,
           6.01010274887085,
           6.008663177490234,
           6.006962299346924,
           6.005284786224365,
           6.004026412963867,
           6.003537654876709,
           6.003966331481934
          ],
          [
           6.019052505493164,
           6.029681205749512,
           6.052517414093018,
           6.094189643859863,
           6.154842853546143,
           6.2141523361206055,
           6.21843957901001,
           6.087657928466797,
           5.760009288787842,
           5.288208961486816,
           5.012153625488281,
           5.2949652671813965,
           5.763031005859375,
           6.084630966186523,
           6.211333751678467,
           6.205916404724121,
           6.147689342498779,
           6.089050769805908,
           6.049327850341797,
           6.027924060821533,
           6.018169403076172,
           6.014280319213867,
           6.01287317276001,
           6.012361526489258,
           6.012118816375732,
           6.011940002441406,
           6.011786460876465,
           6.011674404144287,
           6.011631011962891,
           6.011669158935547
          ],
          [
           6.019580841064453,
           6.031720161437988,
           6.058972358703613,
           6.112408638000488,
           6.202277660369873,
           6.328335762023926,
           6.469141483306885,
           6.583103179931641,
           6.632838726043701,
           6.623360633850098,
           6.608375072479248,
           6.623687744140625,
           6.6321821212768555,
           6.580775260925293,
           6.465717315673828,
           6.324881553649902,
           6.1995649337768555,
           6.110648155212402,
           6.057992458343506,
           6.031229496002197,
           6.019326210021973,
           6.014604091644287,
           6.012851715087891,
           6.01212215423584,
           6.011631965637207,
           6.011124134063721,
           6.010590553283691,
           6.010154724121094,
           6.009977340698242,
           6.010132789611816
          ],
          [
           6.015718460083008,
           6.021358489990234,
           6.034163475036621,
           6.059869766235352,
           6.105149269104004,
           6.174426078796387,
           6.265299320220947,
           6.36574649810791,
           6.456650733947754,
           6.519096374511719,
           6.540870189666748,
           6.518115520477295,
           6.454869270324707,
           6.363530158996582,
           6.2631025314331055,
           6.172614574432373,
           6.103877067565918,
           6.059088706970215,
           6.033714294433594,
           6.021043300628662,
           6.015308380126953,
           6.012653350830078,
           6.010746002197266,
           6.007989883422852,
           6.003040313720703,
           5.9951252937316895,
           5.985116004943848,
           5.976170539855957,
           5.972368240356445,
           5.975717067718506
          ],
          [
           6.013146877288818,
           6.014403820037842,
           6.017268657684326,
           6.023064613342285,
           6.033427715301514,
           6.049692153930664,
           6.071873188018799,
           6.097723960876465,
           6.122621536254883,
           6.140768527984619,
           6.147336959838867,
           6.140477180480957,
           6.122119903564453,
           6.09713888168335,
           6.07132625579834,
           6.049259185791016,
           6.033124923706055,
           6.022852420806885,
           6.017052173614502,
           6.013975143432617,
           6.011941909790039,
           6.008955955505371,
           6.001296043395996,
           5.981451034545898,
           5.937795639038086,
           5.860671520233154,
           5.756298065185547,
           5.658139705657959,
           5.615135192871094,
           5.653050422668457
          ],
          [
           6.0124969482421875,
           6.012642860412598,
           6.012975692749023,
           6.013650894165039,
           6.014860153198242,
           6.016768932342529,
           6.019390106201172,
           6.022473335266113,
           6.025472640991211,
           6.027677059173584,
           6.028479099273682,
           6.027641296386719,
           6.025411605834961,
           6.022403717041016,
           6.019326210021973,
           6.016719818115234,
           6.01483154296875,
           6.013646125793457,
           6.0129899978637695,
           6.012552261352539,
           6.0114288330078125,
           6.006230354309082,
           5.986194610595703,
           5.925400733947754,
           5.778843879699707,
           5.496589660644531,
           5.067754745483398,
           4.594331741333008,
           4.352624893188477,
           4.567074775695801
          ],
          [
           6.012416839599609,
           6.012425899505615,
           6.012446880340576,
           6.012489318847656,
           6.012565612792969,
           6.012685775756836,
           6.012851238250732,
           6.013045310974121,
           6.013235092163086,
           6.013374328613281,
           6.013425350189209,
           6.013372421264648,
           6.0132317543029785,
           6.01304292678833,
           6.012855529785156,
           6.012718200683594,
           6.012696266174316,
           6.012932777404785,
           6.013764381408691,
           6.015835285186768,
           6.019775390625,
           6.024160385131836,
           6.019569396972656,
           5.978365898132324,
           5.847564697265625,
           5.560734748840332,
           5.082461357116699,
           4.49521017074585,
           4.155361175537109,
           4.45871639251709
          ],
          [
           6.012411594390869,
           6.012412071228027,
           6.0124125480651855,
           6.01241397857666,
           6.012416839599609,
           6.012420654296875,
           6.012426376342773,
           6.0124335289001465,
           6.012439727783203,
           6.012444496154785,
           6.012446403503418,
           6.012444972991943,
           6.0124406814575195,
           6.012438774108887,
           6.012452125549316,
           6.0125274658203125,
           6.012815475463867,
           6.013750076293945,
           6.016433238983154,
           6.023225784301758,
           6.038183212280273,
           6.065992832183838,
           6.107049942016602,
           6.147702217102051,
           6.1516923904418945,
           6.067879676818848,
           5.868354320526123,
           5.612653732299805,
           5.478427886962891,
           5.597521781921387
          ],
          [
           6.012411117553711,
           6.012411117553711,
           6.012411117553711,
           6.012411117553711,
           6.012411117553711,
           6.012411594390869,
           6.012411594390869,
           6.012412071228027,
           6.012412071228027,
           6.012412071228027,
           6.012412071228027,
           6.012412071228027,
           6.012413501739502,
           6.012419700622559,
           6.012449264526367,
           6.012567520141602,
           6.012992858886719,
           6.014362335205078,
           6.018282890319824,
           6.02821159362793,
           6.050107002258301,
           6.090970039367676,
           6.151848793029785,
           6.213663101196289,
           6.223283767700195,
           6.098531723022461,
           5.770288467407227,
           5.276272773742676,
           4.955090045928955,
           5.243076801300049
          ],
          [
           6.012411117553711,
           6.012411117553711,
           6.012411117553711,
           6.012411117553711,
           6.012411117553711,
           6.012411117553711,
           6.012411117553711,
           6.012411117553711,
           6.012411117553711,
           6.012411117553711,
           6.012411117553711,
           6.012411594390869,
           6.012413024902344,
           6.012418746948242,
           6.012446403503418,
           6.012555122375488,
           6.012948036193848,
           6.0142107009887695,
           6.017823219299316,
           6.026949882507324,
           6.046957015991211,
           6.083759307861328,
           6.136578559875488,
           6.183551788330078,
           6.167802810668945,
           6.00253963470459,
           5.611812591552734,
           5.019571781158447,
           4.600200653076172,
           4.978213310241699
          ],
          [
           6.012411117553711,
           6.012411117553711,
           6.012411117553711,
           6.012411117553711,
           6.012411117553711,
           6.012411117553711,
           6.012411117553711,
           6.012411117553711,
           6.012411117553711,
           6.012411117553711,
           6.012411117553711,
           6.012411594390869,
           6.0124125480651855,
           6.012417793273926,
           6.012439727783203,
           6.012528419494629,
           6.012846946716309,
           6.0138702392578125,
           6.016794681549072,
           6.024151802062988,
           6.040111541748047,
           6.068711757659912,
           6.106884956359863,
           6.1310272216796875,
           6.084678649902344,
           5.885272026062012,
           5.465765953063965,
           4.863604545593262,
           4.455976486206055,
           4.822658538818359
          ],
          [
           6.012411117553711,
           6.012411117553711,
           6.012411117553711,
           6.012411117553711,
           6.012411117553711,
           6.012411117553711,
           6.012411117553711,
           6.012411117553711,
           6.012411117553711,
           6.012411117553711,
           6.012411117553711,
           6.012411594390869,
           6.012412071228027,
           6.012415885925293,
           6.012431621551514,
           6.012495040893555,
           6.012723445892334,
           6.013457298278809,
           6.015555381774902,
           6.020840644836426,
           6.0323486328125,
           6.053160190582275,
           6.081705093383789,
           6.102799892425537,
           6.080408573150635,
           5.96659517288208,
           5.739687919616699,
           5.4660539627075195,
           5.325998306274414,
           5.45015811920166
          ]
         ],
         "type": "surface"
        },
        {
         "opacity": 0.2,
         "showscale": false,
         "x": [
          0.33928570710122585,
          0.5055418629199266,
          0.6717980187386274,
          0.8380541577935219,
          1.0043103471398354,
          1.1705665364861488,
          1.336822658777237,
          1.503078781068325,
          1.6693349033594131,
          1.8355910927057266,
          2.0018471479415894,
          2.168103337287903,
          2.3343595266342168,
          2.5006157159805302,
          2.6668719053268437,
          2.833128094673157,
          2.9993842840194707,
          3.165640473365784,
          3.3318966627120976,
          3.4981525838375096,
          3.664408773183823,
          3.8306649625301366,
          3.99692115187645,
          4.163177341222764,
          4.329433262348176,
          4.495689451694489,
          4.661945641040803,
          4.828201830387116,
          4.99445801973343,
          5.160714209079743
         ],
         "y": [
          2.276071443020234,
          2.745652702469288,
          3.215233961918342,
          3.684815174018958,
          4.154396528164888,
          4.623977882310818,
          5.093559047062996,
          5.563140211815174,
          6.032721376567352,
          6.502302730713282,
          6.971883706071708,
          7.441465060217638,
          7.911046414363568,
          8.380627768509498,
          8.850209122655428,
          9.319790476801359,
          9.789371830947289,
          10.258953185093219,
          10.72853453923915,
          11.19811513581007,
          11.667696489956,
          12.13727784410193,
          12.60685919824786,
          13.076440552393791,
          13.546021148964712,
          14.015602503110642,
          14.485183857256573,
          14.954765211402503,
          15.424346565548433,
          15.893927919694363
         ],
         "z": [
          [
           -1.5376017093658447,
           -1.478166937828064,
           -1.5483567714691162,
           -1.6469799280166626,
           -1.6483898162841797,
           -1.5378568172454834,
           -1.373018503189087,
           -1.2166471481323242,
           -1.1020469665527344,
           -1.0325348377227783,
           -0.9963428974151611,
           -0.9797954559326172,
           -0.9730532169342041,
           -0.9705805778503418,
           -0.9697585105895996,
           -0.9695096015930176,
           -0.9694406986236572,
           -0.9694230556488037,
           -0.969419002532959,
           -0.9694180488586426,
           -0.9694178104400635,
           -0.9694178104400635,
           -0.9694178104400635,
           -0.9694178104400635,
           -0.9694178104400635,
           -0.9694178104400635,
           -0.9694178104400635,
           -0.9694178104400635,
           -0.9694178104400635,
           -0.9694178104400635
          ],
          [
           -0.3093761205673218,
           -0.0015398263931274414,
           -0.38416969776153564,
           -0.8979198932647705,
           -1.202031135559082,
           -1.2901012897491455,
           -1.2490313053131104,
           -1.1648633480072021,
           -1.087432622909546,
           -1.033036708831787,
           -1.0004510879516602,
           -0.9831757545471191,
           -0.9749705791473389,
           -0.9714617729187012,
           -0.9701046943664551,
           -0.9696285724639893,
           -0.9694769382476807,
           -0.9694328308105469,
           -0.96942138671875,
           -0.9694185256958008,
           -0.9694180488586426,
           -0.9694178104400635,
           -0.9694178104400635,
           -0.9694178104400635,
           -0.9694178104400635,
           -0.9694178104400635,
           -0.9694178104400635,
           -0.9694178104400635,
           -0.9694178104400635,
           -0.9694178104400635
          ],
          [
           0.9660310745239258,
           1.2362964153289795,
           0.8575136661529541,
           0.3233219385147095,
           -0.09342813491821289,
           -0.3972029685974121,
           -0.6368284225463867,
           -0.8188948631286621,
           -0.9310226440429688,
           -0.9795761108398438,
           -0.9891722202301025,
           -0.9839274883270264,
           -0.9771313667297363,
           -0.9727685451507568,
           -0.9706649780273438,
           -0.9698240756988525,
           -0.9695346355438232,
           -0.9694473743438721,
           -0.9694244861602783,
           -0.969419002532959,
           -0.9694180488586426,
           -0.9694178104400635,
           -0.9694178104400635,
           -0.9694178104400635,
           -0.9694178104400635,
           -0.9694178104400635,
           -0.9694178104400635,
           -0.9694178104400635,
           -0.9694178104400635,
           -0.9694178104400635
          ],
          [
           0.3638033866882324,
           0.5997704267501831,
           0.6455857753753662,
           0.7243422269821167,
           0.7754216194152832,
           0.49027442932128906,
           -0.024360179901123047,
           -0.49201107025146484,
           -0.7933857440948486,
           -0.9361474514007568,
           -0.980661153793335,
           -0.983922004699707,
           -0.9776878356933594,
           -0.9727883338928223,
           -0.970468282699585,
           -0.9696519374847412,
           -0.969437837600708,
           -0.9694046974182129,
           -0.9694085121154785,
           -0.9694139957427979,
           -0.969416618347168,
           -0.9694175720214844,
           -0.9694178104400635,
           -0.9694178104400635,
           -0.9694178104400635,
           -0.9694178104400635,
           -0.9694178104400635,
           -0.9694178104400635,
           -0.9694178104400635,
           -0.9694178104400635
          ],
          [
           -1.0885047912597656,
           -0.9240989685058594,
           -0.8794978857040405,
           -0.7903047800064087,
           -0.6382327079772949,
           -0.5757759809494019,
           -0.6520063877105713,
           -0.7807130813598633,
           -0.8811686038970947,
           -0.9323997497558594,
           -0.9505209922790527,
           -0.9559123516082764,
           -0.9591012001037598,
           -0.9624190330505371,
           -0.9653444290161133,
           -0.9673693180084229,
           -0.968517541885376,
           -0.9690690040588379,
           -0.9692978858947754,
           -0.9693810939788818,
           -0.9694077968597412,
           -0.9694154262542725,
           -0.9694173336029053,
           -0.9694178104400635,
           -0.9694178104400635,
           -0.9694178104400635,
           -0.9694178104400635,
           -0.9694178104400635,
           -0.9694178104400635,
           -0.9694178104400635
          ],
          [
           -0.24354815483093262,
           0.09718579053878784,
           -0.23919200897216797,
           -0.6423630714416504,
           -0.7882707118988037,
           -0.7102065086364746,
           -0.548919677734375,
           -0.4415304660797119,
           -0.4506802558898926,
           -0.5531809329986572,
           -0.686643123626709,
           -0.8015096187591553,
           -0.8796353340148926,
           -0.9250869750976562,
           -0.948932409286499,
           -0.9605705738067627,
           -0.9658846855163574,
           -0.9681282043457031,
           -0.9689912796020508,
           -0.9692902565002441,
           -0.9693834781646729,
           -0.9694094657897949,
           -0.9694159030914307,
           -0.9694175720214844,
           -0.9694178104400635,
           -0.9694178104400635,
           -0.9694178104400635,
           -0.9694178104400635,
           -0.9694178104400635,
           -0.9694178104400635
          ],
          [
           0.6457480192184448,
           1.1267271041870117,
           0.8251073360443115,
           0.4416133165359497,
           0.3781929016113281,
           0.6588318347930908,
           1.1030713319778442,
           1.3367775678634644,
           1.059287190437317,
           0.4769291877746582,
           -0.08780765533447266,
           -0.49587416648864746,
           -0.7398355007171631,
           -0.8662412166595459,
           -0.9254412651062012,
           -0.9515149593353271,
           -0.9625298976898193,
           -0.9669573307037354,
           -0.9686136245727539,
           -0.9691793918609619,
           -0.9693539142608643,
           -0.9694023132324219,
           -0.969414472579956,
           -0.9694170951843262,
           -0.9694178104400635,
           -0.9694178104400635,
           -0.9694178104400635,
           -0.9694178104400635,
           -0.9694178104400635,
           -0.9694178104400635
          ],
          [
           0.5879894495010376,
           1.1281987428665161,
           1.1787540912628174,
           1.0967360734939575,
           1.20546555519104,
           1.5403980016708374,
           1.9427236318588257,
           2.035324811935425,
           1.5355581045150757,
           0.7631840705871582,
           0.07005810737609863,
           -0.41660523414611816,
           -0.703833818435669,
           -0.8514158725738525,
           -0.9198522567749023,
           -0.9495639801025391,
           -0.9618947505950928,
           -0.9667642116546631,
           -0.9685590267181396,
           -0.9691650867462158,
           -0.9693505764007568,
           -0.9694018363952637,
           -0.969414472579956,
           -0.9694175720214844,
           -0.9694182872772217,
           -0.9694185256958008,
           -0.969419002532959,
           -0.969419002532959,
           -0.9694192409515381,
           -0.969419002532959
          ],
          [
           0.08917117118835449,
           0.706627368927002,
           1.3666067123413086,
           1.9341424703598022,
           2.221003770828247,
           2.115858793258667,
           1.7020444869995117,
           1.1412858963012695,
           0.5601537227630615,
           0.0418703556060791,
           -0.3634152412414551,
           -0.6405177116394043,
           -0.8065199851989746,
           -0.8948354721069336,
           -0.9374911785125732,
           -0.956596851348877,
           -0.9646139144897461,
           -0.9677541255950928,
           -0.9688904285430908,
           -0.9692661762237549,
           -0.9693799018859863,
           -0.9694123268127441,
           -0.9694235324859619,
           -0.9694314002990723,
           -0.9694399833679199,
           -0.9694502353668213,
           -0.9694600105285645,
           -0.9694674015045166,
           -0.9694702625274658,
           -0.9694676399230957
          ],
          [
           -0.259798526763916,
           0.300706148147583,
           1.07708740234375,
           1.9508458375930786,
           2.4473648071289062,
           1.9691998958587646,
           1.1357743740081787,
           0.38898420333862305,
           -0.15987110137939453,
           -0.5159194469451904,
           -0.7279617786407471,
           -0.8472557067871094,
           -0.9112613201141357,
           -0.9437217712402344,
           -0.9590363502502441,
           -0.9656550884246826,
           -0.9682321548461914,
           -0.9691150188446045,
           -0.969372034072876,
           -0.9694364070892334,
           -0.969463586807251,
           -0.9695074558258057,
           -0.9695897102355957,
           -0.9697229862213135,
           -0.9699087142944336,
           -0.9701290130615234,
           -0.9703454971313477,
           -0.9705073833465576,
           -0.9705698490142822,
           -0.9705150127410889
          ],
          [
           -0.739067792892456,
           -0.41916537284851074,
           0.09510302543640137,
           0.7090866565704346,
           1.034432291984558,
           0.681535005569458,
           0.06544041633605957,
           -0.44495177268981934,
           -0.7638304233551025,
           -0.9227604866027832,
           -0.984856128692627,
           -1.00152587890625,
           -1.000974178314209,
           -0.9948899745941162,
           -0.9876289367675781,
           -0.9810857772827148,
           -0.9761233329772949,
           -0.9728879928588867,
           -0.9710793495178223,
           -0.9702723026275635,
           -0.9701447486877441,
           -0.9705631732940674,
           -0.9715523719787598,
           -0.9731898307800293,
           -0.9754629135131836,
           -0.9781458377838135,
           -0.9807655811309814,
           -0.9827132225036621,
           -0.9834647178649902,
           -0.9828047752380371
          ],
          [
           -0.7289414405822754,
           -0.4071650505065918,
           0.09777498245239258,
           0.6785980463027954,
           0.9749064445495605,
           0.6709192991256714,
           0.09116578102111816,
           -0.4304773807525635,
           -0.7934868335723877,
           -1.0080695152282715,
           -1.117408275604248,
           -1.159623384475708,
           -1.1586487293243408,
           -1.1304991245269775,
           -1.0895121097564697,
           -1.0484180450439453,
           -1.015493631362915,
           -0.993436336517334,
           -0.9809539318084717,
           -0.9753587245941162,
           -0.9744746685028076,
           -0.977360725402832,
           -0.9840998649597168,
           -0.9950134754180908,
           -1.0096664428710938,
           -1.026200771331787,
           -1.0415325164794922,
           -1.0523946285247803,
           -1.056462287902832,
           -1.0528948307037354
          ],
          [
           -0.4081764221191406,
           0.10320615768432617,
           0.8432431221008301,
           1.6813700199127197,
           2.1758289337158203,
           1.8631759881973267,
           1.1313972473144531,
           0.36521220207214355,
           -0.2952260971069336,
           -0.80623459815979,
           -1.1702576875686646,
           -1.4030585289001465,
           -1.5102362632751465,
           -1.4991734027862549,
           -1.4023945331573486,
           -1.2716789245605469,
           -1.1523616313934326,
           -1.0668795108795166,
           -1.0167272090911865,
           -0.9936914443969727,
           -0.9895308017730713,
           -1.0000128746032715,
           -1.0240278244018555,
           -1.0597443580627441,
           -1.1005442142486572,
           -1.134963035583496,
           -1.153381586074829,
           -1.1566882133483887,
           -1.155461072921753,
           -1.1566147804260254
          ],
          [
           -0.42616844177246094,
           0.014766693115234375,
           0.6278228759765625,
           1.3297696113586426,
           1.9395527839660645,
           2.234323024749756,
           2.0703516006469727,
           1.482717514038086,
           0.6704614162445068,
           -0.13331210613250732,
           -0.8375072479248047,
           -1.4818596839904785,
           -1.957184076309204,
           -2.1147217750549316,
           -1.9841628074645996,
           -1.708892583847046,
           -1.427941083908081,
           -1.2169110774993896,
           -1.0898871421813965,
           -1.029841661453247,
           -1.015976905822754,
           -1.0351951122283936,
           -1.0789530277252197,
           -1.1311662197113037,
           -1.1568045616149902,
           -1.1069127321243286,
           -0.9534564018249512,
           -0.7471988201141357,
           -0.6384780406951904,
           -0.7349367141723633
          ],
          [
           -0.4996969699859619,
           -0.08045744895935059,
           0.56414794921875,
           1.4322566986083984,
           2.4169251918792725,
           3.2648472785949707,
           3.589324951171875,
           3.0207014083862305,
           1.6836912631988525,
           0.22303295135498047,
           -0.9899623394012451,
           -2.037696599960327,
           -2.7402961254119873,
           -2.9010233879089355,
           -2.6265082359313965,
           -2.155863046646118,
           -1.698081612586975,
           -1.3604493141174316,
           -1.1581180095672607,
           -1.0607836246490479,
           -1.0332422256469727,
           -1.0520176887512207,
           -1.1002256870269775,
           -1.1492185592651367,
           -1.1405344009399414,
           -0.98845374584198,
           -0.6202200651168823,
           -0.06724417209625244,
           0.3080320358276367,
           -0.029381632804870605
          ],
          [
           -0.6142916679382324,
           -0.2767636775970459,
           0.255523681640625,
           0.9861445426940918,
           1.8223061561584473,
           2.538102865219116,
           2.81335186958313,
           2.418358087539673,
           1.4827601909637451,
           0.42900359630584717,
           -0.5256161689758301,
           -1.5111019611358643,
           -2.2494959831237793,
           -2.4941463470458984,
           -2.326413154602051,
           -1.9591408967971802,
           -1.5833103656768799,
           -1.300443172454834,
           -1.1289703845977783,
           -1.0450844764709473,
           -1.019014835357666,
           -1.0309479236602783,
           -1.069397211074829,
           -1.120051622390747,
           -1.1550877094268799,
           -1.1365776062011719,
           -1.0440400838851929,
           -0.9151043891906738,
           -0.8481717109680176,
           -0.9074995517730713
          ],
          [
           -0.7953135967254639,
           -0.6277854442596436,
           -0.3647727966308594,
           -0.005860328674316406,
           0.40936994552612305,
           0.8008072376251221,
           1.0851445198059082,
           1.2376399040222168,
           1.3150811195373535,
           1.3704726696014404,
           1.2034398317337036,
           0.47920334339141846,
           -0.34925031661987305,
           -0.9035923480987549,
           -1.1500577926635742,
           -1.1879401206970215,
           -1.133979082107544,
           -1.0667853355407715,
           -1.0188405513763428,
           -0.9941451549530029,
           -0.9874391555786133,
           -0.9943203926086426,
           -1.0131425857543945,
           -1.0425870418548584,
           -1.078364610671997,
           -1.1124258041381836,
           -1.1367366313934326,
           -1.1487929821014404,
           -1.1520190238952637,
           -1.1492297649383545
          ],
          [
           -0.9189395904541016,
           -0.8693580627441406,
           -0.7897021770477295,
           -0.6746129989624023,
           -0.5204424858093262,
           -0.31708216667175293,
           -0.03632712364196777,
           0.3670814037322998,
           0.9239873886108398,
           1.5719558000564575,
           1.899127721786499,
           1.3075200319290161,
           0.4575049877166748,
           -0.21221351623535156,
           -0.6299235820770264,
           -0.8430309295654297,
           -0.9314019680023193,
           -0.9607579708099365,
           -0.9684982299804688,
           -0.9704375267028809,
           -0.9718806743621826,
           -0.9746026992797852,
           -0.9795467853546143,
           -0.9873063564300537,
           -0.997779130935669,
           -1.0097849369049072,
           -1.0211443901062012,
           -1.0293517112731934,
           -1.0324640274047852,
           -1.029733419418335
          ],
          [
           -0.9606471061706543,
           -0.9513475894927979,
           -0.9346785545349121,
           -0.9047973155975342,
           -0.847583532333374,
           -0.7314720153808594,
           -0.5020284652709961,
           -0.09556722640991211,
           0.5174565315246582,
           1.2494043111801147,
           1.6640636920928955,
           1.1937708854675293,
           0.4304475784301758,
           -0.19585204124450684,
           -0.6001572608947754,
           -0.8161330223083496,
           -0.9129040241241455,
           -0.9501116275787354,
           -0.9630081653594971,
           -0.967371940612793,
           -0.968994140625,
           -0.9698424339294434,
           -0.9706461429595947,
           -0.971712589263916,
           -0.9731295108795166,
           -0.9747910499572754,
           -0.976414680480957,
           -0.9776241779327393,
           -0.9780917167663574,
           -0.9776813983917236
          ],
          [
           -0.9626929759979248,
           -0.9515371322631836,
           -0.9256777763366699,
           -0.8701026439666748,
           -0.7581987380981445,
           -0.5473792552947998,
           -0.18253087997436523,
           0.3807640075683594,
           1.1277008056640625,
           1.906151533126831,
           2.2912611961364746,
           1.8873300552368164,
           1.103447437286377,
           0.35807132720947266,
           -0.20085573196411133,
           -0.5607786178588867,
           -0.7672629356384277,
           -0.8758072853088379,
           -0.9290013313293457,
           -0.9533195495605469,
           -0.9635801315307617,
           -0.9675400257110596,
           -0.9689550399780273,
           -0.9694664478302002,
           -0.9697074890136719,
           -0.9698827266693115,
           -0.9700319766998291,
           -0.9701399803161621,
           -0.9701812267303467,
           -0.9701452255249023
          ],
          [
           -0.9622106552124023,
           -0.9498312473297119,
           -0.9212071895599365,
           -0.8614630699157715,
           -0.7484011650085449,
           -0.5543327331542969,
           -0.25514745712280273,
           0.14882445335388184,
           0.6033439636230469,
           0.9837820529937744,
           1.1336522102355957,
           0.9771182537078857,
           0.5931463241577148,
           0.13856291770935059,
           -0.2634246349334717,
           -0.5600907802581787,
           -0.7519757747650146,
           -0.8634793758392334,
           -0.9222474098205566,
           -0.9503335952758789,
           -0.9624648094177246,
           -0.9672112464904785,
           -0.9689393043518066,
           -0.9695866107940674,
           -0.9698841571807861,
           -0.9700469970703125,
           -0.9701187610626221,
           -0.970128059387207,
           -0.9701220989227295,
           -0.9701278209686279
          ],
          [
           -0.9661052227020264,
           -0.9604318141937256,
           -0.9474334716796875,
           -0.9208414554595947,
           -0.8723099231719971,
           -0.7935512065887451,
           -0.6809091567993164,
           -0.5417459011077881,
           -0.3993222713470459,
           -0.29007863998413086,
           -0.24936866760253906,
           -0.2918739318847656,
           -0.4022836685180664,
           -0.5450019836425781,
           -0.6837670803070068,
           -0.7956829071044922,
           -0.8737030029296875,
           -0.9216580390930176,
           -0.947890043258667,
           -0.9607367515563965,
           -0.9664452075958252,
           -0.9688310623168945,
           -0.9697244167327881,
           -0.9694945812225342,
           -0.9675233364105225,
           -0.9630188941955566,
           -0.9563384056091309,
           -0.9498789310455322,
           -0.9470388889312744,
           -0.9495429992675781
          ],
          [
           -0.968681812286377,
           -0.9674234390258789,
           -0.9645509719848633,
           -0.9587185382843018,
           -0.9482216835021973,
           -0.931567907333374,
           -0.9084939956665039,
           -0.8810629844665527,
           -0.8540754318237305,
           -0.8340425491333008,
           -0.8267147541046143,
           -0.8343660831451416,
           -0.8546240329742432,
           -0.8816900253295898,
           -0.9090678691864014,
           -0.9320135116577148,
           -0.9485292434692383,
           -0.9589300155639648,
           -0.964749813079834,
           -0.9677183628082275,
           -0.969080924987793,
           -0.968949556350708,
           -0.965040922164917,
           -0.9507219791412354,
           -0.9145994186401367,
           -0.8463821411132812,
           -0.7507612705230713,
           -0.6591486930847168,
           -0.6186790466308594,
           -0.6543684005737305
          ],
          [
           -0.9693324565887451,
           -0.9691863059997559,
           -0.968853235244751,
           -0.9681780338287354,
           -0.9669663906097412,
           -0.9650530815124512,
           -0.9624207019805908,
           -0.9593179225921631,
           -0.9562933444976807,
           -0.9540653228759766,
           -0.953254222869873,
           -0.9541013240814209,
           -0.9563548564910889,
           -0.9593884944915771,
           -0.9624855518341064,
           -0.9651024341583252,
           -0.9669945240020752,
           -0.9681756496429443,
           -0.9687738418579102,
           -0.968794584274292,
           -0.9675054550170898,
           -0.9614980220794678,
           -0.9398415088653564,
           -0.8764247894287109,
           -0.7262258529663086,
           -0.4396483898162842,
           -0.006561994552612305,
           0.47004151344299316,
           0.7129801511764526,
           0.4974491596221924
          ],
          [
           -0.9694123268127441,
           -0.9694032669067383,
           -0.9693822860717773,
           -0.9693398475646973,
           -0.9692635536193848,
           -0.9691433906555176,
           -0.9689779281616211,
           -0.9687831401824951,
           -0.9685935974121094,
           -0.968454122543335,
           -0.9684033393859863,
           -0.9684562683105469,
           -0.9685969352722168,
           -0.9687857627868652,
           -0.9689733982086182,
           -0.9691107273101807,
           -0.9691317081451416,
           -0.968888521194458,
           -0.9679892063140869,
           -0.9654331207275391,
           -0.9586868286132812,
           -0.9412667751312256,
           -0.8973324298858643,
           -0.7936751842498779,
           -0.5764608383178711,
           -0.18713092803955078,
           0.39192891120910645,
           1.0545592308044434,
           1.4236074686050415,
           1.0946170091629028
          ],
          [
           -0.9694175720214844,
           -0.9694173336029053,
           -0.969416618347168,
           -0.9694151878356934,
           -0.9694125652313232,
           -0.9694082736968994,
           -0.969402551651001,
           -0.969395637512207,
           -0.9693892002105713,
           -0.9693844318389893,
           -0.9693825244903564,
           -0.9693841934204102,
           -0.9693882465362549,
           -0.9693903923034668,
           -0.969376802444458,
           -0.9693014621734619,
           -0.9690134525299072,
           -0.9680728912353516,
           -0.9653406143188477,
           -0.9581942558288574,
           -0.9411880970001221,
           -0.9038658142089844,
           -0.8274374008178711,
           -0.6815989017486572,
           -0.42755627632141113,
           -0.03767108917236328,
           0.4627995491027832,
           0.9435851573944092,
           1.1650006771087646,
           0.9693586826324463
          ],
          [
           -0.9694178104400635,
           -0.9694178104400635,
           -0.9694178104400635,
           -0.9694178104400635,
           -0.9694178104400635,
           -0.9694175720214844,
           -0.9694175720214844,
           -0.9694173336029053,
           -0.9694173336029053,
           -0.9694170951843262,
           -0.9694170951843262,
           -0.9694168567657471,
           -0.9694156646728516,
           -0.9694092273712158,
           -0.9693799018859863,
           -0.969261646270752,
           -0.9688351154327393,
           -0.9674584865570068,
           -0.9634683132171631,
           -0.9530425071716309,
           -0.9282689094543457,
           -0.8740363121032715,
           -0.7633793354034424,
           -0.5529098510742188,
           -0.18578791618347168,
           0.38584017753601074,
           1.1534779071807861,
           1.9761351346969604,
           2.424609661102295,
           2.02485990524292
          ],
          [
           -0.9694178104400635,
           -0.9694178104400635,
           -0.9694178104400635,
           -0.9694178104400635,
           -0.9694178104400635,
           -0.9694178104400635,
           -0.9694178104400635,
           -0.9694178104400635,
           -0.9694178104400635,
           -0.9694178104400635,
           -0.9694178104400635,
           -0.9694175720214844,
           -0.9694163799285889,
           -0.9694101810455322,
           -0.9693830013275146,
           -0.9692738056182861,
           -0.9688801765441895,
           -0.9676096439361572,
           -0.9639236927032471,
           -0.9542720317840576,
           -0.9312236309051514,
           -0.8802940845489502,
           -0.7748606204986572,
           -0.5706331729888916,
           -0.20731425285339355,
           0.3702223300933838,
           1.1663191318511963,
           2.0617480278015137,
           2.5985705852508545,
           2.1174392700195312
          ],
          [
           -0.9694178104400635,
           -0.9694178104400635,
           -0.9694178104400635,
           -0.9694178104400635,
           -0.9694178104400635,
           -0.9694178104400635,
           -0.9694178104400635,
           -0.9694178104400635,
           -0.9694178104400635,
           -0.9694178104400635,
           -0.9694178104400635,
           -0.9694175720214844,
           -0.969416618347168,
           -0.9694116115570068,
           -0.9693896770477295,
           -0.9693009853363037,
           -0.9689815044403076,
           -0.9679501056671143,
           -0.9649534225463867,
           -0.9570767879486084,
           -0.9381082057952881,
           -0.8955354690551758,
           -0.8053257465362549,
           -0.6256814002990723,
           -0.2973659038543701,
           0.23649811744689941,
           0.9848611354827881,
           1.8329898118972778,
           2.3358874320983887,
           1.8855574131011963
          ],
          [
           -0.9694178104400635,
           -0.9694178104400635,
           -0.9694178104400635,
           -0.9694178104400635,
           -0.9694178104400635,
           -0.9694178104400635,
           -0.9694178104400635,
           -0.9694178104400635,
           -0.9694178104400635,
           -0.9694178104400635,
           -0.9694178104400635,
           -0.9694175720214844,
           -0.9694168567657471,
           -0.9694135189056396,
           -0.9693975448608398,
           -0.9693341255187988,
           -0.9691052436828613,
           -0.9683656692504883,
           -0.9662191867828369,
           -0.9605841636657715,
           -0.9470522403717041,
           -0.9168424606323242,
           -0.85335373878479,
           -0.728358268737793,
           -0.5038361549377441,
           -0.15025854110717773,
           0.31238722801208496,
           0.7623536586761475,
           0.9707143306732178,
           0.7865896224975586
          ]
         ],
         "type": "surface"
        },
        {
         "marker": {
          "color": "darkgreen"
         },
         "mode": "markers",
         "name": "training data",
         "x": [
          0.5,
          0.5,
          1.0000000037252903,
          1.0000000037252903,
          1.5000000074505806,
          1.5000000074505806,
          5.000000000000001,
          5.000000000000001,
          0.5,
          5.000000000000001,
          2.0000000447034836,
          0.5,
          0.5,
          0.5,
          1.0000000037252903,
          1.0000000037252903,
          2.0000000447034836,
          2.0000000447034836,
          2.0000000447034836,
          2.0000000447034836,
          5.000000000000001,
          5.000000000000001,
          5.000000000000001
         ],
         "y": [
          2.7300000190734863,
          3.4000001145614362,
          3.7899999185612288,
          6.440000140764965,
          5.3600000716472636,
          8.98999989360641,
          8.800000081362441,
          14.670000341289324,
          5.239999811442516,
          14.890000123887603,
          10.130000282220237,
          4.510000154033449,
          5.369999872371615,
          4.880000167190786,
          6.760000203331785,
          7.769999962835257,
          8.729999392960707,
          9.380000265787459,
          10.479999178778854,
          11.010000170188363,
          14.710000301761738,
          15.4399995803833,
          13.370000110785838
         ],
         "z": [
          0.8730257153511047,
          2.6772446632385254,
          1.6990152597427368,
          3.8050527572631836,
          3.3348562717437744,
          4.535152912139893,
          1.3625102043151855,
          3.8412907123565674,
          1.2013570070266724,
          3.5136520862579346,
          3.4708714485168457,
          0.26329824328422546,
          2.7753403186798096,
          2.591306209564209,
          2.579984426498413,
          3.173818588256836,
          0.13150499761104584,
          0.45116370916366577,
          2.1266398429870605,
          3.468212842941284,
          3.685852527618408,
          3.445655584335327,
          2.6515469551086426
         ],
         "type": "scatter3d"
        },
        {
         "mode": "markers",
         "name": "max(PI)",
         "x": [
          1.1705665364861488
         ],
         "y": [
          8.850209122655428
         ],
         "z": [
          2.5396945476531982
         ],
         "type": "scatter3d"
        },
        {
         "mode": "markers",
         "name": "max(EI)",
         "x": [
          1.1705665364861488
         ],
         "y": [
          8.850209122655428
         ],
         "z": [
          2.5396945476531982
         ],
         "type": "scatter3d"
        },
        {
         "mode": "markers",
         "name": "max(CA)",
         "x": [
          2.6668719053268437
         ],
         "y": [
          11.667696489956
         ],
         "z": [
          2.4558253288269043
         ],
         "type": "scatter3d"
        },
        {
         "mode": "markers",
         "name": "max(TH)",
         "x": [
          2.0018471479415894
         ],
         "y": [
          3.684815174018958
         ],
         "z": [
          2.361161231994629
         ],
         "type": "scatter3d"
        },
        {
         "mode": "markers",
         "name": "max(UCB)",
         "x": [
          1.0043103471398354
         ],
         "y": [
          8.850209122655428
         ],
         "z": [
          2.525320291519165
         ],
         "type": "scatter3d"
        },
        {
         "mode": "markers",
         "name": "max(Max_var)",
         "x": [
          2.833128094673157
         ],
         "y": [
          2.276071443020234
         ],
         "z": [
          2.8662686347961426
         ],
         "type": "scatter3d"
        }
       ],
       "layout": {
        "template": {
         "data": {
          "histogram2dcontour": [
           {
            "type": "histogram2dcontour",
            "colorbar": {
             "outlinewidth": 0,
             "ticks": ""
            },
            "colorscale": [
             [
              0,
              "#0d0887"
             ],
             [
              0.1111111111111111,
              "#46039f"
             ],
             [
              0.2222222222222222,
              "#7201a8"
             ],
             [
              0.3333333333333333,
              "#9c179e"
             ],
             [
              0.4444444444444444,
              "#bd3786"
             ],
             [
              0.5555555555555556,
              "#d8576b"
             ],
             [
              0.6666666666666666,
              "#ed7953"
             ],
             [
              0.7777777777777778,
              "#fb9f3a"
             ],
             [
              0.8888888888888888,
              "#fdca26"
             ],
             [
              1,
              "#f0f921"
             ]
            ]
           }
          ],
          "choropleth": [
           {
            "type": "choropleth",
            "colorbar": {
             "outlinewidth": 0,
             "ticks": ""
            }
           }
          ],
          "histogram2d": [
           {
            "type": "histogram2d",
            "colorbar": {
             "outlinewidth": 0,
             "ticks": ""
            },
            "colorscale": [
             [
              0,
              "#0d0887"
             ],
             [
              0.1111111111111111,
              "#46039f"
             ],
             [
              0.2222222222222222,
              "#7201a8"
             ],
             [
              0.3333333333333333,
              "#9c179e"
             ],
             [
              0.4444444444444444,
              "#bd3786"
             ],
             [
              0.5555555555555556,
              "#d8576b"
             ],
             [
              0.6666666666666666,
              "#ed7953"
             ],
             [
              0.7777777777777778,
              "#fb9f3a"
             ],
             [
              0.8888888888888888,
              "#fdca26"
             ],
             [
              1,
              "#f0f921"
             ]
            ]
           }
          ],
          "heatmap": [
           {
            "type": "heatmap",
            "colorbar": {
             "outlinewidth": 0,
             "ticks": ""
            },
            "colorscale": [
             [
              0,
              "#0d0887"
             ],
             [
              0.1111111111111111,
              "#46039f"
             ],
             [
              0.2222222222222222,
              "#7201a8"
             ],
             [
              0.3333333333333333,
              "#9c179e"
             ],
             [
              0.4444444444444444,
              "#bd3786"
             ],
             [
              0.5555555555555556,
              "#d8576b"
             ],
             [
              0.6666666666666666,
              "#ed7953"
             ],
             [
              0.7777777777777778,
              "#fb9f3a"
             ],
             [
              0.8888888888888888,
              "#fdca26"
             ],
             [
              1,
              "#f0f921"
             ]
            ]
           }
          ],
          "heatmapgl": [
           {
            "type": "heatmapgl",
            "colorbar": {
             "outlinewidth": 0,
             "ticks": ""
            },
            "colorscale": [
             [
              0,
              "#0d0887"
             ],
             [
              0.1111111111111111,
              "#46039f"
             ],
             [
              0.2222222222222222,
              "#7201a8"
             ],
             [
              0.3333333333333333,
              "#9c179e"
             ],
             [
              0.4444444444444444,
              "#bd3786"
             ],
             [
              0.5555555555555556,
              "#d8576b"
             ],
             [
              0.6666666666666666,
              "#ed7953"
             ],
             [
              0.7777777777777778,
              "#fb9f3a"
             ],
             [
              0.8888888888888888,
              "#fdca26"
             ],
             [
              1,
              "#f0f921"
             ]
            ]
           }
          ],
          "contourcarpet": [
           {
            "type": "contourcarpet",
            "colorbar": {
             "outlinewidth": 0,
             "ticks": ""
            }
           }
          ],
          "contour": [
           {
            "type": "contour",
            "colorbar": {
             "outlinewidth": 0,
             "ticks": ""
            },
            "colorscale": [
             [
              0,
              "#0d0887"
             ],
             [
              0.1111111111111111,
              "#46039f"
             ],
             [
              0.2222222222222222,
              "#7201a8"
             ],
             [
              0.3333333333333333,
              "#9c179e"
             ],
             [
              0.4444444444444444,
              "#bd3786"
             ],
             [
              0.5555555555555556,
              "#d8576b"
             ],
             [
              0.6666666666666666,
              "#ed7953"
             ],
             [
              0.7777777777777778,
              "#fb9f3a"
             ],
             [
              0.8888888888888888,
              "#fdca26"
             ],
             [
              1,
              "#f0f921"
             ]
            ]
           }
          ],
          "surface": [
           {
            "type": "surface",
            "colorbar": {
             "outlinewidth": 0,
             "ticks": ""
            },
            "colorscale": [
             [
              0,
              "#0d0887"
             ],
             [
              0.1111111111111111,
              "#46039f"
             ],
             [
              0.2222222222222222,
              "#7201a8"
             ],
             [
              0.3333333333333333,
              "#9c179e"
             ],
             [
              0.4444444444444444,
              "#bd3786"
             ],
             [
              0.5555555555555556,
              "#d8576b"
             ],
             [
              0.6666666666666666,
              "#ed7953"
             ],
             [
              0.7777777777777778,
              "#fb9f3a"
             ],
             [
              0.8888888888888888,
              "#fdca26"
             ],
             [
              1,
              "#f0f921"
             ]
            ]
           }
          ],
          "mesh3d": [
           {
            "type": "mesh3d",
            "colorbar": {
             "outlinewidth": 0,
             "ticks": ""
            }
           }
          ],
          "scatter": [
           {
            "fillpattern": {
             "fillmode": "overlay",
             "size": 10,
             "solidity": 0.2
            },
            "type": "scatter"
           }
          ],
          "parcoords": [
           {
            "type": "parcoords",
            "line": {
             "colorbar": {
              "outlinewidth": 0,
              "ticks": ""
             }
            }
           }
          ],
          "scatterpolargl": [
           {
            "type": "scatterpolargl",
            "marker": {
             "colorbar": {
              "outlinewidth": 0,
              "ticks": ""
             }
            }
           }
          ],
          "bar": [
           {
            "error_x": {
             "color": "#2a3f5f"
            },
            "error_y": {
             "color": "#2a3f5f"
            },
            "marker": {
             "line": {
              "color": "#E5ECF6",
              "width": 0.5
             },
             "pattern": {
              "fillmode": "overlay",
              "size": 10,
              "solidity": 0.2
             }
            },
            "type": "bar"
           }
          ],
          "scattergeo": [
           {
            "type": "scattergeo",
            "marker": {
             "colorbar": {
              "outlinewidth": 0,
              "ticks": ""
             }
            }
           }
          ],
          "scatterpolar": [
           {
            "type": "scatterpolar",
            "marker": {
             "colorbar": {
              "outlinewidth": 0,
              "ticks": ""
             }
            }
           }
          ],
          "histogram": [
           {
            "marker": {
             "pattern": {
              "fillmode": "overlay",
              "size": 10,
              "solidity": 0.2
             }
            },
            "type": "histogram"
           }
          ],
          "scattergl": [
           {
            "type": "scattergl",
            "marker": {
             "colorbar": {
              "outlinewidth": 0,
              "ticks": ""
             }
            }
           }
          ],
          "scatter3d": [
           {
            "type": "scatter3d",
            "line": {
             "colorbar": {
              "outlinewidth": 0,
              "ticks": ""
             }
            },
            "marker": {
             "colorbar": {
              "outlinewidth": 0,
              "ticks": ""
             }
            }
           }
          ],
          "scattermapbox": [
           {
            "type": "scattermapbox",
            "marker": {
             "colorbar": {
              "outlinewidth": 0,
              "ticks": ""
             }
            }
           }
          ],
          "scatterternary": [
           {
            "type": "scatterternary",
            "marker": {
             "colorbar": {
              "outlinewidth": 0,
              "ticks": ""
             }
            }
           }
          ],
          "scattercarpet": [
           {
            "type": "scattercarpet",
            "marker": {
             "colorbar": {
              "outlinewidth": 0,
              "ticks": ""
             }
            }
           }
          ],
          "carpet": [
           {
            "aaxis": {
             "endlinecolor": "#2a3f5f",
             "gridcolor": "white",
             "linecolor": "white",
             "minorgridcolor": "white",
             "startlinecolor": "#2a3f5f"
            },
            "baxis": {
             "endlinecolor": "#2a3f5f",
             "gridcolor": "white",
             "linecolor": "white",
             "minorgridcolor": "white",
             "startlinecolor": "#2a3f5f"
            },
            "type": "carpet"
           }
          ],
          "table": [
           {
            "cells": {
             "fill": {
              "color": "#EBF0F8"
             },
             "line": {
              "color": "white"
             }
            },
            "header": {
             "fill": {
              "color": "#C8D4E3"
             },
             "line": {
              "color": "white"
             }
            },
            "type": "table"
           }
          ],
          "barpolar": [
           {
            "marker": {
             "line": {
              "color": "#E5ECF6",
              "width": 0.5
             },
             "pattern": {
              "fillmode": "overlay",
              "size": 10,
              "solidity": 0.2
             }
            },
            "type": "barpolar"
           }
          ],
          "pie": [
           {
            "automargin": true,
            "type": "pie"
           }
          ]
         },
         "layout": {
          "autotypenumbers": "strict",
          "colorway": [
           "#636efa",
           "#EF553B",
           "#00cc96",
           "#ab63fa",
           "#FFA15A",
           "#19d3f3",
           "#FF6692",
           "#B6E880",
           "#FF97FF",
           "#FECB52"
          ],
          "font": {
           "color": "#2a3f5f"
          },
          "hovermode": "closest",
          "hoverlabel": {
           "align": "left"
          },
          "paper_bgcolor": "white",
          "plot_bgcolor": "#E5ECF6",
          "polar": {
           "bgcolor": "#E5ECF6",
           "angularaxis": {
            "gridcolor": "white",
            "linecolor": "white",
            "ticks": ""
           },
           "radialaxis": {
            "gridcolor": "white",
            "linecolor": "white",
            "ticks": ""
           }
          },
          "ternary": {
           "bgcolor": "#E5ECF6",
           "aaxis": {
            "gridcolor": "white",
            "linecolor": "white",
            "ticks": ""
           },
           "baxis": {
            "gridcolor": "white",
            "linecolor": "white",
            "ticks": ""
           },
           "caxis": {
            "gridcolor": "white",
            "linecolor": "white",
            "ticks": ""
           }
          },
          "coloraxis": {
           "colorbar": {
            "outlinewidth": 0,
            "ticks": ""
           }
          },
          "colorscale": {
           "sequential": [
            [
             0,
             "#0d0887"
            ],
            [
             0.1111111111111111,
             "#46039f"
            ],
            [
             0.2222222222222222,
             "#7201a8"
            ],
            [
             0.3333333333333333,
             "#9c179e"
            ],
            [
             0.4444444444444444,
             "#bd3786"
            ],
            [
             0.5555555555555556,
             "#d8576b"
            ],
            [
             0.6666666666666666,
             "#ed7953"
            ],
            [
             0.7777777777777778,
             "#fb9f3a"
            ],
            [
             0.8888888888888888,
             "#fdca26"
            ],
            [
             1,
             "#f0f921"
            ]
           ],
           "sequentialminus": [
            [
             0,
             "#0d0887"
            ],
            [
             0.1111111111111111,
             "#46039f"
            ],
            [
             0.2222222222222222,
             "#7201a8"
            ],
            [
             0.3333333333333333,
             "#9c179e"
            ],
            [
             0.4444444444444444,
             "#bd3786"
            ],
            [
             0.5555555555555556,
             "#d8576b"
            ],
            [
             0.6666666666666666,
             "#ed7953"
            ],
            [
             0.7777777777777778,
             "#fb9f3a"
            ],
            [
             0.8888888888888888,
             "#fdca26"
            ],
            [
             1,
             "#f0f921"
            ]
           ],
           "diverging": [
            [
             0,
             "#8e0152"
            ],
            [
             0.1,
             "#c51b7d"
            ],
            [
             0.2,
             "#de77ae"
            ],
            [
             0.3,
             "#f1b6da"
            ],
            [
             0.4,
             "#fde0ef"
            ],
            [
             0.5,
             "#f7f7f7"
            ],
            [
             0.6,
             "#e6f5d0"
            ],
            [
             0.7,
             "#b8e186"
            ],
            [
             0.8,
             "#7fbc41"
            ],
            [
             0.9,
             "#4d9221"
            ],
            [
             1,
             "#276419"
            ]
           ]
          },
          "xaxis": {
           "gridcolor": "white",
           "linecolor": "white",
           "ticks": "",
           "title": {
            "standoff": 15
           },
           "zerolinecolor": "white",
           "automargin": true,
           "zerolinewidth": 2
          },
          "yaxis": {
           "gridcolor": "white",
           "linecolor": "white",
           "ticks": "",
           "title": {
            "standoff": 15
           },
           "zerolinecolor": "white",
           "automargin": true,
           "zerolinewidth": 2
          },
          "scene": {
           "xaxis": {
            "backgroundcolor": "#E5ECF6",
            "gridcolor": "white",
            "linecolor": "white",
            "showbackground": true,
            "ticks": "",
            "zerolinecolor": "white",
            "gridwidth": 2
           },
           "yaxis": {
            "backgroundcolor": "#E5ECF6",
            "gridcolor": "white",
            "linecolor": "white",
            "showbackground": true,
            "ticks": "",
            "zerolinecolor": "white",
            "gridwidth": 2
           },
           "zaxis": {
            "backgroundcolor": "#E5ECF6",
            "gridcolor": "white",
            "linecolor": "white",
            "showbackground": true,
            "ticks": "",
            "zerolinecolor": "white",
            "gridwidth": 2
           }
          },
          "shapedefaults": {
           "line": {
            "color": "#2a3f5f"
           }
          },
          "annotationdefaults": {
           "arrowcolor": "#2a3f5f",
           "arrowhead": 0,
           "arrowwidth": 1
          },
          "geo": {
           "bgcolor": "white",
           "landcolor": "#E5ECF6",
           "subunitcolor": "white",
           "showland": true,
           "showlakes": true,
           "lakecolor": "white"
          },
          "title": {
           "x": 0.05
          },
          "mapbox": {
           "style": "light"
          }
         }
        },
        "margin": {
         "r": 20,
         "l": 10,
         "b": 10,
         "t": 10
        },
        "legend": {
         "orientation": "h",
         "yanchor": "bottom",
         "y": 1.02,
         "xanchor": "right",
         "x": 1
        },
        "width": 1000,
        "height": 600,
        "scene": {
         "xaxis": {
          "title": {
           "text": "Pulse Width (msec)"
          }
         },
         "yaxis": {
          "title": {
           "text": "Energy density new cone (J/cm^2)"
          }
         },
         "zaxis": {
          "title": {
           "text": "2 Qsw/(U+|D|) 1e6"
          }
         }
        }
       },
       "config": {
        "plotlyServerURL": "https://plot.ly"
       }
      }
     },
     "metadata": {}
    }
   ],
   "metadata": {}
  },
  {
   "cell_type": "code",
   "execution_count": 731,
   "source": [
    "# check fig of merit of julia et al prediction point\n",
    "y_preds_1 = likelihood(model(torch.Tensor([[2.9, 9.04]])))\n",
    "with torch.no_grad():\n",
    "    y_preds_mean_1 = y_preds_1.mean.numpy()\n",
    "print(y_preds_mean_1)"
   ],
   "outputs": [
    {
     "output_type": "stream",
     "name": "stdout",
     "text": [
      "[2.5214968]\n"
     ]
    },
    {
     "output_type": "stream",
     "name": "stderr",
     "text": [
      "/Users/valenetjong/opt/anaconda3/envs/FEGP/lib/python3.9/site-packages/gpytorch/likelihoods/gaussian_likelihood.py:270: GPInputWarning:\n",
      "\n",
      "You have passed data through a FixedNoiseGaussianLikelihood that did not match the size of the fixed noise, *and* you did not specify noise. This is treated as a no-op.\n",
      "\n"
     ]
    }
   ],
   "metadata": {}
  },
  {
   "cell_type": "markdown",
   "source": [
    "### Post-processing\n",
    "- Energy density, pulse width --> voltage function"
   ],
   "metadata": {}
  },
  {
   "cell_type": "code",
   "execution_count": 732,
   "source": [
    "import GPy\n",
    "from GPy.models import GPRegression\n",
    "from emukit.model_wrappers import GPyModelWrapper\n",
    "from torch.optim import Adam as Adam\n",
    "from emukit.core import ParameterSpace, ContinuousParameter"
   ],
   "outputs": [],
   "metadata": {}
  },
  {
   "cell_type": "markdown",
   "source": [
    "#### Load Data"
   ],
   "metadata": {}
  },
  {
   "cell_type": "code",
   "execution_count": 733,
   "source": [
    "dir = \"/Users/valenetjong/Bayesian-Optimization-Ferroelectrics/data/\"\n",
    "in_file = \"MKS_Ophir_joulemeter_readings.xlsx\"\n",
    "df = pd.read_excel(dir + in_file, sheet_name=\"Sheet2\")\n",
    "df = df.dropna().sort_values(\"Voltage Setting\") # Drop rows with NaN values, sort\n",
    "print(df)\n",
    "\n",
    "time_bol_dat = df['Pulse width'].values\n",
    "energy_den_bol_dat = df['optical read (J/cm^2)'].values\n",
    "volts_bol_dat = df['Voltage Setting'].values\n",
    "\n",
    "# define scaler\n",
    "post_scaler = MinMaxScaler()\n",
    "\n",
    "# make, scale training set\n",
    "x_exp_raw = np.stack((time_bol_dat, energy_den_bol_dat), axis=1)\n",
    "x_exp = post_scaler.fit_transform(x_exp_raw)\n",
    "\n",
    "y_exp = np.reshape(volts_bol_dat,(-1,1))\n",
    "X, Y = [x_exp, y_exp]"
   ],
   "outputs": [
    {
     "output_type": "stream",
     "name": "stdout",
     "text": [
      "     Voltage Setting  Pulse width  optical read (J/cm^2)\n",
      "111           1950.0       5000.0                   8.80\n",
      "102           1950.0        500.0                   1.37\n",
      "103           1950.0       1000.0                   2.70\n",
      "104           1950.0       1500.0                   3.84\n",
      "105           1950.0       2000.0                   4.83\n",
      "..               ...          ...                    ...\n",
      "65            2800.0       2000.0                  12.08\n",
      "64            2800.0       1500.0                   9.91\n",
      "63            2800.0       1000.0                   7.22\n",
      "91            3000.0       5000.0                  21.81\n",
      "83            3000.0       1000.0                  10.27\n",
      "\n",
      "[92 rows x 3 columns]\n"
     ]
    }
   ],
   "metadata": {}
  },
  {
   "cell_type": "markdown",
   "source": [
    "#### GP Voltage Model"
   ],
   "metadata": {}
  },
  {
   "cell_type": "code",
   "execution_count": 734,
   "source": [
    "def grid_maker_1D(arr, step_size):\n",
    "    return np.arange(arr.min(), arr.max()+step_size*0.1,step_size)\n",
    "\n",
    "# make GP grid; min delta time: 500us, min delta energy density: 0.01J/cm^2\n",
    "var_array = [grid_maker_1D(time_bol_dat, 500), grid_maker_1D(energy_den_bol_dat, 0.01)]"
   ],
   "outputs": [],
   "metadata": {}
  },
  {
   "cell_type": "code",
   "execution_count": 735,
   "source": [
    "# continuous parameter creates a grid space for grid search\n",
    "time_len_num, e_den_num = len(var_array[0]), len(var_array[1])\n",
    "parameter_space = ParameterSpace([ContinuousParameter(\"Time (ms)\", 0-1/(time_len_num-1)/2, 1+1/(time_len_num-1)/2),\n",
    "                                  ContinuousParameter(\"Energy density new cone (J/cm^2)\", 0-1/(e_den_num-1)/2, 1+1/(e_den_num-1)/2),\n",
    "                                 ])"
   ],
   "outputs": [],
   "metadata": {}
  },
  {
   "cell_type": "code",
   "execution_count": 736,
   "source": [
    "# define GP model\n",
    "kernel = GPy.kern.src.stationary.Exponential(input_dim = len(X[0]), ARD =True)\n",
    "kernel.lengthscale.constrain_bounded(1e-2, 1)\n",
    "kernel.variance.constrain_bounded(1e-2, 500.0)\n",
    "model_volt = GPRegression(X , -Y, kernel)   # optimize thru minimization\n",
    "model_volt.Gaussian_noise.variance = 0.15\n",
    "model_volt.Gaussian_noise.variance.fix()"
   ],
   "outputs": [
    {
     "output_type": "stream",
     "name": "stderr",
     "text": [
      "reconstraining parameters Exponential.lengthscale\n",
      "reconstraining parameters Exponential.variance\n"
     ]
    },
    {
     "output_type": "execute_result",
     "data": {
      "text/plain": [
       "array([0])"
      ]
     },
     "metadata": {},
     "execution_count": 736
    }
   ],
   "metadata": {}
  },
  {
   "cell_type": "code",
   "execution_count": 737,
   "source": [
    "# randomize hyperparameters\n",
    "model_volt.randomize() \n",
    "\n",
    "# check hyperparameters \n",
    "# print(kernel.lengthscale, '\\n', kernel.variance)\n",
    "print(kernel)"
   ],
   "outputs": [
    {
     "output_type": "stream",
     "name": "stdout",
     "text": [
      "  \u001b[1mExponential.\u001b[0;0m  |              value  |  constraints  |  priors\n",
      "  \u001b[1mvariance    \u001b[0;0m  |  289.2893735631134  |  0.01,500.0   |        \n",
      "  \u001b[1mlengthscale \u001b[0;0m  |               (2,)  |   0.01,1.0    |        \n"
     ]
    }
   ],
   "metadata": {}
  },
  {
   "cell_type": "code",
   "execution_count": 738,
   "source": [
    "# train voltage model\n",
    "model_volt.optimize_restarts(num_restarts=30, verbose =False, messages=False) # fit to training data, select best hyperparameters out of num_restarts \n",
    "objective_model = GPyModelWrapper(model_volt)\n",
    "# print(objective_model.model.kern.lengthscale, '\\n', objective_model.model.kern.variance)\n",
    "print(kernel)"
   ],
   "outputs": [
    {
     "output_type": "stream",
     "name": "stdout",
     "text": [
      "  \u001b[1mExponential.\u001b[0;0m  |               value  |  constraints  |  priors\n",
      "  \u001b[1mvariance    \u001b[0;0m  |  499.99999943083344  |  0.01,500.0   |        \n",
      "  \u001b[1mlengthscale \u001b[0;0m  |                (2,)  |   0.01,1.0    |        \n"
     ]
    }
   ],
   "metadata": {}
  },
  {
   "cell_type": "code",
   "execution_count": 739,
   "source": [
    "# predict voltage training set\n",
    "gp_func =  objective_model.model.predict\n",
    "y_pred, y_err = gp_func(X)\n",
    "y_pred, y_err = -y_pred[:,-1], np.sqrt(y_err[:,-1])"
   ],
   "outputs": [],
   "metadata": {}
  },
  {
   "cell_type": "code",
   "execution_count": 740,
   "source": [
    "# plot voltage training results \n",
    "plot_gp_res(y_exp.reshape(-1), y_pred, None, y_err)\n",
    "prettyplot()\n",
    "\n",
    "# plot actuals v. predicted values w/ error bars\n",
    "fs = 14 \n",
    "fig, axes = plt.subplots(1, 2, figsize=(16, 4.5))\n",
    "plt_inputs = np.arange(len(Y))\n",
    "axes[0].scatter(plt_inputs, Y[:,0].T, s = 20, label = 'experiment')\n",
    "axes[0].plot(plt_inputs, y_pred, color = 'black', label = 'predicted')\n",
    "axes[0].errorbar(plt_inputs, y_pred, y_err, zorder = 0)\n",
    "\n",
    "# set up axes and labels\n",
    "axes[0].set_ylabel('Output (Voltage)', fontsize = fs)\n",
    "axes[0].set_xlabel('Input (Time, Energy Density)', fontsize = fs)\n",
    "axes[0].set_title(\"Predicted v. Actuals\", fontsize = fs)\n",
    "axes[0].legend(fontsize = fs*0.8)\n",
    "axes[1].axis(\"off\")\n",
    "\n",
    "plt.show()"
   ],
   "outputs": [
    {
     "output_type": "stream",
     "name": "stdout",
     "text": [
      "     Metric  Value\n",
      "0      RMSE  8.244\n",
      "1       MAE  2.800\n",
      "2  Spearman  0.992\n",
      "3  R² score  0.999\n"
     ]
    },
    {
     "output_type": "display_data",
     "data": {
      "image/png": "[encoded data removed]",
      "text/plain": [
       "<Figure size 3300x900 with 3 Axes>"
      ]
     },
     "metadata": {}
    },
    {
     "output_type": "display_data",
     "data": {
      "image/png": "[encoded data removed]",
      "text/plain": [
       "<Figure size 3200x900 with 2 Axes>"
      ]
     },
     "metadata": {}
    }
   ],
   "metadata": {}
  },
  {
   "cell_type": "code",
   "execution_count": 741,
   "source": [
    "# get voltage of prediction points and re-scale to raw\n",
    "get_pos_volt = lambda pt: round(-1*(gp_func(pt)[0].item()),-2)\n",
    "ucb_pt, nlcd_pt = np.array(ucb_pt).reshape(1,2), np.array(nlcd_pt).reshape(1,2)\n",
    "ucb_pt_scaled, nlcd_pt_scaled = post_scaler.transform(ucb_pt), post_scaler.transform(nlcd_pt)\n",
    "ucb_pt, nlcd_pt = ucb_pt.reshape(-1), nlcd_pt.reshape(-1)\n",
    "ucb_pt_time, ucb_pt_eden, ucb_pt_volt = ucb_pt[0]/1000, ucb_pt[1], get_pos_volt(ucb_pt_scaled)\n",
    "nlcd_pt_time, nlcd_pt_eden, nlcd_pt_volt = nlcd_pt[0]/1000, nlcd_pt[1], get_pos_volt(nlcd_pt_scaled)\n",
    "\n",
    "# write to csv\n",
    "dir = \"/Users/valenetjong/Bayesian-Optimization-Ferroelectrics/predictions/\"\n",
    "file_out = \"final_preds.csv\"\n",
    "file = open(dir + file_out, \"w\", encoding=\"utf-8\")\n",
    "file.write(\"GP fit predictions: \\n\")\n",
    "file.write(\"Type\\t Time (ms)\\t Energy density(J\\cm^2)\\t Voltage()\\n\")\n",
    "file.write(\"UCB:\\t\" + str(ucb_pt_time) + \"\\t\" + str(ucb_pt_eden) +\"\\t\" + str(ucb_pt_volt) + \"\\n\")\n",
    "file.write(\"NLCB:\\t\" + str(nlcd_pt_time) + \"\\t\" + str(ucb_pt_eden) +\"\\t\" + str(nlcd_pt_volt) + \"\\n\")"
   ],
   "outputs": [
    {
     "output_type": "execute_result",
     "data": {
      "text/plain": [
       "22"
      ]
     },
     "metadata": {},
     "execution_count": 741
    }
   ],
   "metadata": {}
  },
  {
   "cell_type": "markdown",
   "source": [
    "#### Plot GP Function, Scipy Optimize Function, against Raw Data"
   ],
   "metadata": {}
  },
  {
   "cell_type": "code",
   "execution_count": 742,
   "source": [
    "# make, scale post_test_grid\n",
    "_, _, post_test_grid, post_test_arr = grid_maker(torch.Tensor(X))\n",
    "volt_on_grid, _ = gp_func(post_test_arr.numpy())\n",
    "volt_on_grid = -1 * volt_on_grid.reshape(30,30).T\n",
    "raw_post_test_arr, raw_post_test_grid = un_norm_x(post_test_arr, post_test_grid, post_scaler)"
   ],
   "outputs": [],
   "metadata": {}
  },
  {
   "cell_type": "code",
   "execution_count": 743,
   "source": [
    "import plotly.graph_objects as go\n",
    "import matplotlib.pyplot as plt\n",
    "import matplotlib as mpl\n",
    "\n",
    "fig = go.Figure(data=[go.Scatter3d(z=volts_bol_dat, \n",
    "                                    x=time_bol_dat,\n",
    "                                    y=energy_den_bol_dat, \n",
    "                                    mode='markers',\n",
    "                                    marker={'color':'darkgreen'},\n",
    "                                    name='GP regression')])\n",
    "fig.add_trace(go.Surface(z=volt_on_grid, \n",
    "                            x=raw_post_test_grid[:,0],\n",
    "                            y=raw_post_test_grid[:,1],\n",
    "                            opacity = 0.8))\n",
    "\n",
    "fig.update_layout( width=1000, height=800,\n",
    "                    legend=dict(orientation=\"h\", yanchor=\"top\", y=1.02, \n",
    "                    xanchor=\"left\",x=1), margin=dict(r=20, l=10, b=10, t=10), \n",
    "                        scene=dict(\n",
    "                        xaxis_title=\"Pulse width (μs)\",\n",
    "                        yaxis_title=\"Energy density new cone (J/cm^2)\",\n",
    "                        zaxis_title='Voltage')\n",
    "                    )\n",
    "camera = dict(\n",
    "        up=dict(x=0, y=0, z=1),\n",
    "        center=dict(x=0, y=0, z=0),\n",
    "        eye=dict(x=-2, y=-2.5, z=1.75)\n",
    ")\n",
    "fig.update_layout(scene_camera=camera)\n",
    "fig.show()"
   ],
   "outputs": [
    {
     "output_type": "display_data",
     "data": {
      "application/vnd.plotly.v1+json": {
       "data": [
        {
         "marker": {
          "color": "darkgreen"
         },
         "mode": "markers",
         "name": "GP regression",
         "x": [
          5000,
          500,
          1000,
          1500,
          2000,
          4500,
          3000,
          3500,
          4000,
          2500,
          500,
          4500,
          4000,
          3500,
          3000,
          2500,
          2000,
          1500,
          1000,
          5000,
          500,
          1000,
          2000,
          2500,
          3000,
          3500,
          4000,
          4500,
          1500,
          5000,
          1000,
          1500,
          2000,
          5000,
          2500,
          3000,
          3500,
          500,
          4000,
          4500,
          5000,
          1500,
          500,
          2000,
          2500,
          3000,
          3500,
          4000,
          4500,
          1000,
          500,
          1000,
          1500,
          2000,
          2500,
          3000,
          3500,
          4000,
          5000,
          4500,
          3000,
          500,
          1000,
          1500,
          2000,
          2500,
          3500,
          4000,
          4500,
          5000,
          2500,
          500,
          1000,
          1500,
          2000,
          3500,
          4000,
          4500,
          5000,
          3000,
          500,
          5000,
          4500,
          4000,
          3500,
          3000,
          2500,
          2000,
          1500,
          1000,
          5000,
          1000
         ],
         "y": [
          8.8,
          1.37,
          2.7,
          3.84,
          4.83,
          8.39,
          6.78,
          7.36,
          7.94,
          5.66,
          1.49,
          8.39,
          7.94,
          7.36,
          6.78,
          6.07,
          5.18,
          4.12,
          2.89,
          8.8,
          1.92,
          3.79,
          6.65,
          7.73,
          8.59,
          9.36,
          9.99,
          10.53,
          5.36,
          11.02,
          4.26,
          6.01,
          7.43,
          12.18,
          8.63,
          9.58,
          10.41,
          2.14,
          11.08,
          11.65,
          13.4,
          6.72,
          2.46,
          8.28,
          9.59,
          10.66,
          11.49,
          12.21,
          12.85,
          4.79,
          2.73,
          5.38,
          7.48,
          9.18,
          10.53,
          11.71,
          12.66,
          13.35,
          14.67,
          14.11,
          12.83,
          3.04,
          5.99,
          8.29,
          10.1,
          11.62,
          13.83,
          14.7,
          15.45,
          15.98,
          12.57,
          3.4,
          6.44,
          8.99,
          11.01,
          15.03,
          15.99,
          16.74,
          17.38,
          13.97,
          3.7,
          18.93,
          18.24,
          17.44,
          16.48,
          15.29,
          13.89,
          12.08,
          9.91,
          7.22,
          21.81,
          10.27
         ],
         "z": [
          1950,
          1950,
          1950,
          1950,
          1950,
          1950,
          1950,
          1950,
          1950,
          1950,
          2000,
          2000,
          2000,
          2000,
          2000,
          2000,
          2000,
          2000,
          2000,
          2000,
          2200,
          2200,
          2200,
          2200,
          2200,
          2200,
          2200,
          2200,
          2200,
          2200,
          2300,
          2300,
          2300,
          2300,
          2300,
          2300,
          2300,
          2300,
          2300,
          2300,
          2400,
          2400,
          2400,
          2400,
          2400,
          2400,
          2400,
          2400,
          2400,
          2400,
          2500,
          2500,
          2500,
          2500,
          2500,
          2500,
          2500,
          2500,
          2500,
          2500,
          2600,
          2600,
          2600,
          2600,
          2600,
          2600,
          2600,
          2600,
          2600,
          2600,
          2700,
          2700,
          2700,
          2700,
          2700,
          2700,
          2700,
          2700,
          2700,
          2700,
          2800,
          2800,
          2800,
          2800,
          2800,
          2800,
          2800,
          2800,
          2800,
          2800,
          3000,
          3000
         ],
         "type": "scatter3d"
        },
        {
         "opacity": 0.8,
         "x": [
          339.28570710122585,
          505.54186291992664,
          671.7980187386273,
          838.0541577935218,
          1004.3103471398352,
          1170.5665364861488,
          1336.822658777237,
          1503.078781068325,
          1669.3349033594131,
          1835.5910927057264,
          2001.8471479415891,
          2168.103337287903,
          2334.3595266342163,
          2500.61571598053,
          2666.8719053268433,
          2833.1280946731567,
          2999.38428401947,
          3165.6404733657837,
          3331.896662712097,
          3498.152583837509,
          3664.4087731838226,
          3830.664962530136,
          3996.9211518764496,
          4163.177341222763,
          4329.433262348175,
          4495.6894516944885,
          4661.945641040802,
          4828.2018303871155,
          4994.458019733429,
          5160.714209079742
         ],
         "y": [
          0.6399999673664571,
          1.3951723729074001,
          2.150344778448343,
          2.9055171078443527,
          3.660689665675163,
          4.4158622235059735,
          5.171034476757049,
          5.926206730008125,
          6.6813789832592,
          7.436551541090011,
          8.191723489761351,
          8.946896047592162,
          9.702068605422973,
          10.457241163253784,
          11.212413721084593,
          11.967586278915403,
          12.722758836746214,
          13.477931394577025,
          14.233103952407836,
          14.988275291919706,
          15.743447849750517,
          16.498620407581328,
          17.25379296541214,
          18.00896552324295,
          18.76413686275482,
          19.519309420585632,
          20.27448197841644,
          21.029654536247254,
          21.784827094078064,
          22.539999651908875
         ],
         "z": [
          [
           1894.574549178968,
           1838.8390127398793,
           1801.0849824845045,
           1761.9834145994216,
           1717.224972794514,
           1675.4149383812442,
           1640.496930891774,
           1611.819209335063,
           1587.6930852842938,
           1566.7931032881738,
           1548.224395031158,
           1531.382165052039,
           1515.8487281492178,
           1501.327332941834,
           1487.6020101152058,
           1474.5124283643613,
           1461.9350017160868,
           1449.7672840042974,
           1437.9160361986947,
           1426.2896054474181,
           1414.79416724005,
           1403.3329573860372,
           1391.806823780059,
           1380.1155182024777,
           1368.1593440681804,
           1355.8411203166554,
           1343.0688465093017,
           1329.7586100885674,
           1315.8377342727013,
           1301.2476247738202
          ],
          [
           2061.125798285007,
           1959.968908228483,
           1943.7596680475194,
           1879.1949319092541,
           1806.5645583582082,
           1749.5155859864628,
           1708.6274601540097,
           1677.0665018585405,
           1650.9304658408666,
           1628.3990190994482,
           1608.4190100646108,
           1590.3175934919611,
           1573.648776188627,
           1558.097021490748,
           1543.4341301899517,
           1529.497000915433,
           1516.1653816750431,
           1503.340048272031,
           1490.9262746708919,
           1478.8247505310649,
           1466.9289191152102,
           1455.1262545311656,
           1443.3003762108658,
           1431.3329812450252,
           1419.1055609660912,
           1406.501455556911,
           1393.409047555064,
           1379.7257048901704,
           1365.3622772773726,
           1350.247256373118
          ],
          [
           2314.9346073927954,
           2299.2300578681015,
           2168.3182397691658,
           2024.567151748331,
           1896.0189891392934,
           1826.436442352046,
           1783.6738221221465,
           1749.2293447386824,
           1720.2364295616699,
           1695.3161723223877,
           1673.2540829781253,
           1653.323014714383,
           1635.0583689773398,
           1618.0949168386041,
           1602.1666998496116,
           1587.1017688758552,
           1572.7855931007514,
           1559.1237537061106,
           1546.0169535493715,
           1533.350738544375,
           1520.9968327752795,
           1508.8192279648938,
           1496.6787367985135,
           1484.4348210156868,
           1471.9461302053062,
           1459.0717819082288,
           1445.6749428280323,
           1431.6283153559702,
           1416.8208481380252,
           1401.1640775526025
          ],
          [
           2554.4951472865046,
           2552.7801229846036,
           2394.0549553505807,
           2188.887487155066,
           2000.8053191613603,
           1926.5867887669551,
           1875.3604969970734,
           1832.1199033452108,
           1797.717167301854,
           1769.0439209772812,
           1743.679652476516,
           1721.0270411811525,
           1700.5575324883366,
           1681.691799311829,
           1664.0676237514724,
           1647.507564453775,
           1631.9122503042886,
           1617.1956283676118,
           1603.2466952472837,
           1589.919663158847,
           1577.0478156738213,
           1564.4605584296692,
           1551.990557341027,
           1539.472394532805,
           1526.7387960555275,
           1513.619437464359,
           1499.9448459930063,
           1485.5545399194884,
           1470.3076326936064,
           1454.0929772565396
          ],
          [
           2723.7006323581686,
           2782.051470705919,
           2573.2953224646712,
           2357.6991154353104,
           2172.6046487792346,
           2065.527762096235,
           1989.4360655551086,
           1925.8508824638066,
           1886.094256637346,
           1851.3067331462642,
           1820.343922026199,
           1793.8931449624238,
           1770.6415111212966,
           1749.2764175553684,
           1729.3932181790753,
           1710.8680124951268,
           1693.6273749225952,
           1677.604442556792,
           1662.6619862131397,
           1648.585509397082,
           1635.1388668782354,
           1622.1040739970306,
           1609.2851178120568,
           1596.494430316372,
           1583.5385099925593,
           1570.2118181394371,
           1556.3017153546461,
           1541.6016075459856,
           1525.928565081385,
           1509.1403300451861
          ],
          [
           2770.425086386144,
           2766.1446914757817,
           2651.5469943577086,
           2486.171749841661,
           2327.888101289105,
           2212.350380584854,
           2121.538432505633,
           2047.612245359328,
           1990.353131772737,
           1943.282626538878,
           1902.7557221388474,
           1872.6613991153654,
           1846.1530684332038,
           1821.2945832625508,
           1798.3982520544655,
           1777.329376758329,
           1757.9786216753896,
           1740.378396621947,
           1724.3280543725712,
           1709.4426543773088,
           1695.3650165172007,
           1681.8276434072452,
           1668.6207511497046,
           1655.5491260475737,
           1642.39733149118,
           1628.9168396802934,
           1614.8356940051476,
           1599.8806768988277,
           1583.8070287091027,
           1566.4284508729663
          ],
          [
           2776.4955731813325,
           2765.533998156223,
           2696.8413434492704,
           2586.3848494311387,
           2463.029555683531,
           2353.658485533938,
           2255.2269853503803,
           2169.318687962189,
           2101.594695917881,
           2045.3937139357272,
           1998.2290602312655,
           1961.1057188100478,
           1928.4645155186595,
           1897.9907141358622,
           1871.5142055691742,
           1847.1593036136594,
           1824.9725990408015,
           1805.565375142692,
           1788.4335632676264,
           1772.7171300594086,
           1757.9162815641585,
           1743.763726116318,
           1730.0764393918034,
           1716.686792121392,
           1703.365304102606,
           1689.8044786764942,
           1675.6484548111137,
           1660.5250068430182,
           1644.0932599209066,
           1626.101847702522
          ],
          [
           2787.313721753611,
           2786.257412838163,
           2750.0789078095086,
           2683.050796442112,
           2587.4006397273142,
           2489.5597167014985,
           2383.0288143164603,
           2286.2098462629574,
           2212.3135600358896,
           2152.2895461570715,
           2101.5296587757994,
           2057.5333499231556,
           2018.2111167144828,
           1982.2417978179317,
           1950.6234064085763,
           1920.952282370664,
           1894.4398146749018,
           1873.4872487658222,
           1855.6287030649032,
           1838.9233082638966,
           1823.1553761793489,
           1808.146975781457,
           1793.7656064210132,
           1779.967504685507,
           1766.5013052100053,
           1752.9525889191095,
           1738.8597550114428,
           1723.7039964340952,
           1706.980035227534,
           1688.334613805859
          ],
          [
           2803.6896275808476,
           2816.0858946080853,
           2806.609978779238,
           2778.822614678511,
           2727.8139094533235,
           2617.385444086971,
           2499.7888399754247,
           2393.47317535952,
           2318.1571761759596,
           2256.464398916765,
           2203.520515743952,
           2155.04161277517,
           2111.9749201968143,
           2072.925970609533,
           2036.0886160733398,
           2000.38585415109,
           1965.74496164334,
           1946.6751036319067,
           1927.7525108054133,
           1908.8751594121782,
           1891.7464581264658,
           1875.4366570407487,
           1859.842552885148,
           1845.5094783403724,
           1831.9391047502527,
           1818.4602327218176,
           1804.6126388699665,
           1789.649613765701,
           1772.7289665578026,
           1753.3333108664876
          ],
          [
           2820.1831840549407,
           2844.01562716263,
           2851.5294235069487,
           2842.486946369652,
           2807.44827641076,
           2710.5613035919337,
           2598.9692752979854,
           2493.367592497997,
           2418.514030364954,
           2355.547854870938,
           2300.1890273842337,
           2249.245844104188,
           2204.529309771656,
           2164.3894309725974,
           2125.555941122596,
           2089.40144662455,
           2057.2069679125216,
           2031.2296124669433,
           2007.4791134262855,
           1983.7618968324423,
           1965.5269478621703,
           1946.7039022606286,
           1928.4053528201498,
           1913.8632397398255,
           1900.1691557321653,
           1886.4277113718756,
           1873.0826153313385,
           1858.7184946569378,
           1841.7061417299337,
           1821.3072027746318
          ],
          [
           2832.730396354744,
           2865.289772236739,
           2882.85385294564,
           2880.27773784767,
           2847.542000971416,
           2778.5784450947904,
           2685.9775969493094,
           2587.6375562348053,
           2515.9093511575475,
           2449.884218545635,
           2389.3568539064377,
           2337.932601911581,
           2292.5356854669453,
           2251.7414279895015,
           2213.9688500690268,
           2180.63620804932,
           2151.1445638986106,
           2121.071404169779,
           2093.6228864278087,
           2068.9581095013937,
           2046.3582935969448,
           2024.396269194802,
           2003.1654227082934,
           1987.9427070639497,
           1972.7100175529818,
           1956.6755015248,
           1944.8558306012724,
           1931.4418487499786,
           1914.352499865519,
           1892.274239853332
          ],
          [
           2839.1751307931845,
           2879.6413616472837,
           2907.497489482007,
           2916.714752432129,
           2897.6789690228725,
           2845.990750071982,
           2772.2297738742736,
           2692.72364337125,
           2613.6305942308213,
           2540.747397000506,
           2474.7871917575985,
           2422.3057243932612,
           2375.8528922447113,
           2333.7055161164767,
           2297.0563944822743,
           2265.294989818991,
           2236.7082370315643,
           2206.152252086254,
           2178.6264434765944,
           2154.343469842367,
           2129.90136963087,
           2107.249041405451,
           2086.9051228118356,
           2068.57813175524,
           2051.3817960209403,
           2035.3423899727975,
           2021.7302215249865,
           2007.4258530884354,
           1989.873444743096,
           1965.1727240497435
          ],
          [
           2837.411043195599,
           2885.086110222738,
           2924.627853313102,
           2952.5936788508843,
           2954.5257885986816,
           2909.962586898702,
           2845.9917324774033,
           2778.162436538412,
           2700.403955618779,
           2625.7543303778216,
           2558.426658794477,
           2505.1508835314794,
           2457.2734692130166,
           2412.22785238103,
           2375.5277803575887,
           2342.253291321488,
           2311.776244595545,
           2282.8575310222786,
           2256.902691108454,
           2233.5060152513315,
           2209.6117917861056,
           2188.238670115492,
           2169.4954469589798,
           2149.581423726766,
           2131.6118138920606,
           2115.7190769996973,
           2100.6514178664347,
           2084.607807066278,
           2064.692433657323,
           2038.603288963725
          ],
          [
           2825.0758777775445,
           2876.9189805372207,
           2923.480235914574,
           2964.206429035623,
           2989.1361006395346,
           2944.209666093866,
           2888.714981859573,
           2830.440082213602,
           2766.415110966842,
           2701.9592102295333,
           2640.711565405534,
           2587.956799051693,
           2538.2429982081608,
           2492.4142064595876,
           2451.7264623133597,
           2415.4389158765857,
           2381.9289263823603,
           2354.3946445828037,
           2328.9886252283077,
           2304.75863615673,
           2282.9987271372884,
           2262.7614721207897,
           2244.034258463653,
           2225.0574321884396,
           2207.856056696379,
           2193.128418784131,
           2177.4969108520895,
           2161.7427078758265,
           2141.944277082926,
           2112.8850009343532
          ],
          [
           2801.411732762139,
           2853.2533129088133,
           2898.811873669446,
           2934.0963952464735,
           2948.534391010614,
           2933.2102359432656,
           2899.41528697843,
           2857.959884435571,
           2813.0142957451344,
           2767.193475004008,
           2719.715134584802,
           2667.955208367841,
           2614.7152005342914,
           2564.5938480943264,
           2524.661012360981,
           2487.9570733878636,
           2453.71653573398,
           2424.7684179973785,
           2398.9429335195896,
           2375.083015828185,
           2352.813159318511,
           2332.0872368223895,
           2312.393228297931,
           2294.6540335006603,
           2277.9681399385995,
           2262.6433655633864,
           2248.845552052194,
           2234.791527298031,
           2216.9853255208054,
           2184.5039903364454
          ],
          [
           2768.2169020172973,
           2817.86184887141,
           2860.211747474904,
           2891.7392007033695,
           2907.8276828730395,
           2906.4428486157067,
           2891.207680386525,
           2867.9420458688373,
           2841.430734890472,
           2815.371560827693,
           2789.7267053024602,
           2737.730286358271,
           2686.612253418216,
           2638.4155142092523,
           2598.6220138891126,
           2560.35891409657,
           2524.3121257691205,
           2493.9145293161814,
           2466.7984995139336,
           2441.96092347775,
           2419.764012176678,
           2399.184047921795,
           2379.3871097903384,
           2361.3787123401207,
           2344.081335264362,
           2328.151804048411,
           2315.0683822449814,
           2301.284344382245,
           2282.0580787749527,
           2250.3014148974994
          ],
          [
           2728.396660280389,
           2775.6987894489025,
           2815.911974178969,
           2846.830073103825,
           2866.4482465433857,
           2874.27721563858,
           2872.081642843714,
           2863.0193718649493,
           2850.2416648494172,
           2835.56036886472,
           2815.6561267324805,
           2783.9571119175107,
           2748.4492671617463,
           2712.7370320987006,
           2671.803900106687,
           2630.6676172166617,
           2591.2416954668306,
           2561.354230602894,
           2533.086302626542,
           2505.928518923353,
           2484.8641838736344,
           2465.141386442882,
           2445.8565614115187,
           2426.505575603238,
           2407.7418867477018,
           2390.439377614071,
           2378.0008313685594,
           2364.2944659309087,
           2344.2617633965724,
           2312.904374663329
          ],
          [
           2684.3971731995157,
           2729.916612227527,
           2769.1444679193937,
           2800.7835477430554,
           2823.9052833900787,
           2838.4470602384645,
           2845.4138019773463,
           2846.5178471710037,
           2843.424536573267,
           2836.8336018881237,
           2825.9443920102667,
           2810.482212408978,
           2792.8402500436655,
           2771.2317317565994,
           2735.156622266551,
           2696.1683686856713,
           2659.7165808948603,
           2628.705262469031,
           2599.3296916157583,
           2571.4714231959624,
           2549.09862521428,
           2529.018699457525,
           2510.159770100573,
           2488.855378329011,
           2469.1717957446344,
           2452.1801537900947,
           2439.0905141808144,
           2425.543596181262,
           2406.6428789795236,
           2373.763038069836
          ],
          [
           2637.809578532131,
           2682.10256152334,
           2721.018732170609,
           2753.7844257366696,
           2779.935674081363,
           2799.516672719144,
           2813.1250925785016,
           2821.7212699979127,
           2826.2655005143265,
           2827.3848130858337,
           2825.4250426228987,
           2821.0781640273353,
           2815.5287885182975,
           2806.0181390057064,
           2780.276271689863,
           2751.505627328302,
           2722.4277023807867,
           2693.9628395980008,
           2664.4046416508736,
           2635.977629258473,
           2612.0281321435596,
           2589.251811475125,
           2566.817020140465,
           2546.8552426428773,
           2527.8427005646886,
           2510.313955456985,
           2498.2693430943527,
           2485.099406238241,
           2465.171653975475,
           2432.8152691198725
          ],
          [
           2589.572344032105,
           2633.0215316085064,
           2671.93899407763,
           2705.844369481664,
           2734.4850867849163,
           2757.9186782657935,
           2776.5153448635583,
           2790.857834432142,
           2801.578346967624,
           2809.228754412735,
           2814.2707650313073,
           2817.077587765983,
           2817.458187514073,
           2813.5739513065464,
           2804.1495531773617,
           2792.724870383597,
           2779.6925288956086,
           2752.44822038268,
           2724.2526938632654,
           2697.1603572812314,
           2673.318057016206,
           2648.6295579853813,
           2624.116272754434,
           2604.3627918223956,
           2585.342960355252,
           2567.9565116607964,
           2556.1567618300696,
           2543.6572241126078,
           2523.9518027367003,
           2490.621390143841
          ],
          [
           2540.2303891412403,
           2583.0586883016344,
           2622.0810753816786,
           2656.9843884260335,
           2687.6181409487262,
           2714.030003659401,
           2736.459364909063,
           2755.283699422198,
           2770.937099463071,
           2783.834441316596,
           2794.312940928671,
           2802.5440764703376,
           2808.382129193761,
           2811.453171676244,
           2812.0145793581505,
           2811.3188359824135,
           2807.142063478185,
           2790.927551882339,
           2772.5221898872433,
           2753.7061631269567,
           2730.984755287024,
           2706.5331211286757,
           2682.6692083799453,
           2662.813645459877,
           2643.3109586611163,
           2625.0627140159004,
           2613.903603159108,
           2601.5833891487996,
           2581.8630358724763,
           2547.0112514070593
          ],
          [
           2490.1105803204664,
           2532.4284634510936,
           2571.547945915618,
           2607.254611021708,
           2639.450567195031,
           2668.170197015268,
           2693.5729575714277,
           2715.9120720821156,
           2735.4872511619105,
           2752.593365899628,
           2767.47043317436,
           2780.255849217833,
           2790.9679697102247,
           2799.5954514936725,
           2806.2207864024344,
           2810.671437596479,
           2811.6208431458354,
           2808.275078641538,
           2803.5336597967785,
           2800.437129231689,
           2778.2126600693873,
           2758.0988424205125,
           2738.995839049898,
           2720.1284309917182,
           2701.0221709466596,
           2683.462268790472,
           2671.6306308686894,
           2658.206599900173,
           2636.6229022689913,
           2601.2228363284066
          ],
          [
           2439.4209673523933,
           2481.2668957939054,
           2520.419353278164,
           2556.724789880973,
           2590.1143147834578,
           2620.61068269838,
           2648.3220055321062,
           2673.4219150233366,
           2696.119830705216,
           2716.6271308337496,
           2735.1246551861414,
           2751.73873384841,
           2766.536659901004,
           2779.5413824404527,
           2790.712143426694,
           2799.8348069397853,
           2806.546775081942,
           2810.879541382248,
           2813.3145954368474,
           2812.407502109821,
           2805.606870977158,
           2797.170767610475,
           2789.103290138177,
           2771.4079668442446,
           2754.0373633295844,
           2738.9645136611052,
           2727.0217815865512,
           2712.976659458334,
           2691.5009484687553,
           2653.5822036569753
          ],
          [
           2388.304390060053,
           2429.672709798625,
           2468.7675037467034,
           2505.4744994680277,
           2539.742060401838,
           2571.584145373037,
           2601.0752211669032,
           2628.3371149259606,
           2653.519741537923,
           2676.7791445439725,
           2698.2566214150006,
           2718.0631498755306,
           2736.2710033555145,
           2752.908334212347,
           2767.9458929002026,
           2781.2876583564007,
           2792.820526192432,
           2802.4923612062203,
           2810.1525302851087,
           2815.2567863086947,
           2817.62870205986,
           2818.2686254027462,
           2816.3782224358483,
           2808.2917003257594,
           2797.8773583619854,
           2787.3622690868046,
           2778.1556912405836,
           2764.278314087468,
           2740.57105001741,
           2703.0767410437466
          ],
          [
           2336.8670694609577,
           2377.725891813041,
           2416.6616361939255,
           2453.586577341449,
           2488.4602707332588,
           2521.2906711610312,
           2552.1302125280745,
           2581.0669298407884,
           2608.2117583337795,
           2633.684125607155,
           2657.5980103386314,
           2680.050690274794,
           2701.1145116196167,
           2720.831094052734,
           2739.207473005086,
           2756.2197512733264,
           2771.827862327763,
           2785.977262739519,
           2798.560067835388,
           2809.4266823615585,
           2818.5432898555578,
           2825.893114898046,
           2830.8857091862683,
           2832.8662865724546,
           2832.351632574982,
           2829.979451503712,
           2825.2707380558318,
           2813.493906345755,
           2789.955324252736,
           2751.485029814079
          ],
          [
           2285.193694237297,
           2325.496034569178,
           2364.1688100545143,
           2401.1430280433246,
           2436.3861434495375,
           2469.902384704312,
           2501.729856225012,
           2531.9345184533368,
           2560.6017350090506,
           2587.8267231799555,
           2613.7051298721044,
           2638.3251452680665,
           2661.7613889059385,
           2684.07130083949,
           2705.2942613370747,
           2725.4543931119306,
           2744.565283809142,
           2762.6309290251593,
           2779.644547358531,
           2795.6018118071074,
           2810.5128556326067,
           2824.3396341629627,
           2836.919460598978,
           2848.090128361688,
           2857.732320283123,
           2865.177516055528,
           2868.049196343825,
           2861.5224303746772,
           2839.8563053940493,
           2799.8041737689737
          ],
          [
           2233.3565522981426,
           2273.0472358030215,
           2311.354791239539,
           2348.223907655275,
           2383.6279617729524,
           2417.5690527528295,
           2450.075946506701,
           2481.200019998022,
           2511.009632001048,
           2539.583812924444,
           2567.005986033433,
           2593.3587673708066,
           2618.7199917382327,
           2643.1608909385236,
           2666.7463953843276,
           2689.5376809505697,
           2711.596141229115,
           2732.9878247277184,
           2753.789130921453,
           2774.0940604953976,
           2794.015119417475,
           2813.6686716275804,
           2833.1603914227207,
           2852.562021595325,
           2871.735437625736,
           2889.770211152373,
           2903.8480963670777,
           2907.603384898413,
           2890.959362354009,
           2847.430564402738
          ],
          [
           2181.420290588805,
           2220.4402888388795,
           2258.2841790529446,
           2294.906847919272,
           2330.286196061023,
           2364.4231074121953,
           2397.3400520045416,
           2429.078392759061,
           2459.694662989438,
           2489.2564513703687,
           2517.838318333457,
           2545.5185739940657,
           2572.3769288436083,
           2598.4939068823046,
           2623.9518915362514,
           2648.837972968523,
           2673.2483950694823,
           2697.294445786794,
           2721.109768614943,
           2744.858342592242,
           2768.741261452241,
           2793.000247911053,
           2817.9164939617062,
           2843.783878400945,
           2870.796662892315,
           2898.7409142782867,
           2926.1831792216185,
           2947.651268602285,
           2943.719731096198,
           2890.423391943834
          ],
          [
           2129.445193227451,
           2167.734453169368,
           2205.021187078005,
           2241.2678951157523,
           2276.45582657791,
           2310.5849673972816,
           2343.673128881863,
           2375.754186592068,
           2406.875633454434,
           2437.095925503887,
           2466.4818624133604,
           2495.1066777693745,
           2523.0487161155656,
           2550.3915151293522,
           2577.2251074156284,
           2603.648757300538,
           2629.775085149523,
           2655.7355032071573,
           2681.686793448612,
           2707.818342011023,
           2734.359516895019,
           2761.5854835479745,
           2789.819574248467,
           2819.4244505909014,
           2850.772634724902,
           2884.1962847164846,
           2919.935215473406,
           2958.111246032005,
           2997.6370614477623,
           2904.8018132285797
          ],
          [
           2077.4893024939256,
           2114.9887102355315,
           2151.63048151112,
           2187.3826815886787,
           2222.228805058927,
           2256.167792268824,
           2289.2134483524956,
           2321.393291800302,
           2352.746924927762,
           2383.3242962768736,
           2413.1839695101617,
           2442.3919505364324,
           2471.0208277918473,
           2499.149952668584,
           2526.866385965625,
           2554.2667581380692,
           2581.4599064018144,
           2608.5700294959706,
           2635.739868154651,
           2663.1329735811078,
           2690.933743296522,
           2719.3416233803055,
           2748.5545042464855,
           2778.7285949880156,
           2809.8879977167976,
           2841.7056655166007,
           2872.8397604562824,
           2898.2260553056494,
           2898.0555577331115,
           2845.858953071745
          ]
         ],
         "type": "surface"
        }
       ],
       "layout": {
        "template": {
         "data": {
          "histogram2dcontour": [
           {
            "type": "histogram2dcontour",
            "colorbar": {
             "outlinewidth": 0,
             "ticks": ""
            },
            "colorscale": [
             [
              0,
              "#0d0887"
             ],
             [
              0.1111111111111111,
              "#46039f"
             ],
             [
              0.2222222222222222,
              "#7201a8"
             ],
             [
              0.3333333333333333,
              "#9c179e"
             ],
             [
              0.4444444444444444,
              "#bd3786"
             ],
             [
              0.5555555555555556,
              "#d8576b"
             ],
             [
              0.6666666666666666,
              "#ed7953"
             ],
             [
              0.7777777777777778,
              "#fb9f3a"
             ],
             [
              0.8888888888888888,
              "#fdca26"
             ],
             [
              1,
              "#f0f921"
             ]
            ]
           }
          ],
          "choropleth": [
           {
            "type": "choropleth",
            "colorbar": {
             "outlinewidth": 0,
             "ticks": ""
            }
           }
          ],
          "histogram2d": [
           {
            "type": "histogram2d",
            "colorbar": {
             "outlinewidth": 0,
             "ticks": ""
            },
            "colorscale": [
             [
              0,
              "#0d0887"
             ],
             [
              0.1111111111111111,
              "#46039f"
             ],
             [
              0.2222222222222222,
              "#7201a8"
             ],
             [
              0.3333333333333333,
              "#9c179e"
             ],
             [
              0.4444444444444444,
              "#bd3786"
             ],
             [
              0.5555555555555556,
              "#d8576b"
             ],
             [
              0.6666666666666666,
              "#ed7953"
             ],
             [
              0.7777777777777778,
              "#fb9f3a"
             ],
             [
              0.8888888888888888,
              "#fdca26"
             ],
             [
              1,
              "#f0f921"
             ]
            ]
           }
          ],
          "heatmap": [
           {
            "type": "heatmap",
            "colorbar": {
             "outlinewidth": 0,
             "ticks": ""
            },
            "colorscale": [
             [
              0,
              "#0d0887"
             ],
             [
              0.1111111111111111,
              "#46039f"
             ],
             [
              0.2222222222222222,
              "#7201a8"
             ],
             [
              0.3333333333333333,
              "#9c179e"
             ],
             [
              0.4444444444444444,
              "#bd3786"
             ],
             [
              0.5555555555555556,
              "#d8576b"
             ],
             [
              0.6666666666666666,
              "#ed7953"
             ],
             [
              0.7777777777777778,
              "#fb9f3a"
             ],
             [
              0.8888888888888888,
              "#fdca26"
             ],
             [
              1,
              "#f0f921"
             ]
            ]
           }
          ],
          "heatmapgl": [
           {
            "type": "heatmapgl",
            "colorbar": {
             "outlinewidth": 0,
             "ticks": ""
            },
            "colorscale": [
             [
              0,
              "#0d0887"
             ],
             [
              0.1111111111111111,
              "#46039f"
             ],
             [
              0.2222222222222222,
              "#7201a8"
             ],
             [
              0.3333333333333333,
              "#9c179e"
             ],
             [
              0.4444444444444444,
              "#bd3786"
             ],
             [
              0.5555555555555556,
              "#d8576b"
             ],
             [
              0.6666666666666666,
              "#ed7953"
             ],
             [
              0.7777777777777778,
              "#fb9f3a"
             ],
             [
              0.8888888888888888,
              "#fdca26"
             ],
             [
              1,
              "#f0f921"
             ]
            ]
           }
          ],
          "contourcarpet": [
           {
            "type": "contourcarpet",
            "colorbar": {
             "outlinewidth": 0,
             "ticks": ""
            }
           }
          ],
          "contour": [
           {
            "type": "contour",
            "colorbar": {
             "outlinewidth": 0,
             "ticks": ""
            },
            "colorscale": [
             [
              0,
              "#0d0887"
             ],
             [
              0.1111111111111111,
              "#46039f"
             ],
             [
              0.2222222222222222,
              "#7201a8"
             ],
             [
              0.3333333333333333,
              "#9c179e"
             ],
             [
              0.4444444444444444,
              "#bd3786"
             ],
             [
              0.5555555555555556,
              "#d8576b"
             ],
             [
              0.6666666666666666,
              "#ed7953"
             ],
             [
              0.7777777777777778,
              "#fb9f3a"
             ],
             [
              0.8888888888888888,
              "#fdca26"
             ],
             [
              1,
              "#f0f921"
             ]
            ]
           }
          ],
          "surface": [
           {
            "type": "surface",
            "colorbar": {
             "outlinewidth": 0,
             "ticks": ""
            },
            "colorscale": [
             [
              0,
              "#0d0887"
             ],
             [
              0.1111111111111111,
              "#46039f"
             ],
             [
              0.2222222222222222,
              "#7201a8"
             ],
             [
              0.3333333333333333,
              "#9c179e"
             ],
             [
              0.4444444444444444,
              "#bd3786"
             ],
             [
              0.5555555555555556,
              "#d8576b"
             ],
             [
              0.6666666666666666,
              "#ed7953"
             ],
             [
              0.7777777777777778,
              "#fb9f3a"
             ],
             [
              0.8888888888888888,
              "#fdca26"
             ],
             [
              1,
              "#f0f921"
             ]
            ]
           }
          ],
          "mesh3d": [
           {
            "type": "mesh3d",
            "colorbar": {
             "outlinewidth": 0,
             "ticks": ""
            }
           }
          ],
          "scatter": [
           {
            "fillpattern": {
             "fillmode": "overlay",
             "size": 10,
             "solidity": 0.2
            },
            "type": "scatter"
           }
          ],
          "parcoords": [
           {
            "type": "parcoords",
            "line": {
             "colorbar": {
              "outlinewidth": 0,
              "ticks": ""
             }
            }
           }
          ],
          "scatterpolargl": [
           {
            "type": "scatterpolargl",
            "marker": {
             "colorbar": {
              "outlinewidth": 0,
              "ticks": ""
             }
            }
           }
          ],
          "bar": [
           {
            "error_x": {
             "color": "#2a3f5f"
            },
            "error_y": {
             "color": "#2a3f5f"
            },
            "marker": {
             "line": {
              "color": "#E5ECF6",
              "width": 0.5
             },
             "pattern": {
              "fillmode": "overlay",
              "size": 10,
              "solidity": 0.2
             }
            },
            "type": "bar"
           }
          ],
          "scattergeo": [
           {
            "type": "scattergeo",
            "marker": {
             "colorbar": {
              "outlinewidth": 0,
              "ticks": ""
             }
            }
           }
          ],
          "scatterpolar": [
           {
            "type": "scatterpolar",
            "marker": {
             "colorbar": {
              "outlinewidth": 0,
              "ticks": ""
             }
            }
           }
          ],
          "histogram": [
           {
            "marker": {
             "pattern": {
              "fillmode": "overlay",
              "size": 10,
              "solidity": 0.2
             }
            },
            "type": "histogram"
           }
          ],
          "scattergl": [
           {
            "type": "scattergl",
            "marker": {
             "colorbar": {
              "outlinewidth": 0,
              "ticks": ""
             }
            }
           }
          ],
          "scatter3d": [
           {
            "type": "scatter3d",
            "line": {
             "colorbar": {
              "outlinewidth": 0,
              "ticks": ""
             }
            },
            "marker": {
             "colorbar": {
              "outlinewidth": 0,
              "ticks": ""
             }
            }
           }
          ],
          "scattermapbox": [
           {
            "type": "scattermapbox",
            "marker": {
             "colorbar": {
              "outlinewidth": 0,
              "ticks": ""
             }
            }
           }
          ],
          "scatterternary": [
           {
            "type": "scatterternary",
            "marker": {
             "colorbar": {
              "outlinewidth": 0,
              "ticks": ""
             }
            }
           }
          ],
          "scattercarpet": [
           {
            "type": "scattercarpet",
            "marker": {
             "colorbar": {
              "outlinewidth": 0,
              "ticks": ""
             }
            }
           }
          ],
          "carpet": [
           {
            "aaxis": {
             "endlinecolor": "#2a3f5f",
             "gridcolor": "white",
             "linecolor": "white",
             "minorgridcolor": "white",
             "startlinecolor": "#2a3f5f"
            },
            "baxis": {
             "endlinecolor": "#2a3f5f",
             "gridcolor": "white",
             "linecolor": "white",
             "minorgridcolor": "white",
             "startlinecolor": "#2a3f5f"
            },
            "type": "carpet"
           }
          ],
          "table": [
           {
            "cells": {
             "fill": {
              "color": "#EBF0F8"
             },
             "line": {
              "color": "white"
             }
            },
            "header": {
             "fill": {
              "color": "#C8D4E3"
             },
             "line": {
              "color": "white"
             }
            },
            "type": "table"
           }
          ],
          "barpolar": [
           {
            "marker": {
             "line": {
              "color": "#E5ECF6",
              "width": 0.5
             },
             "pattern": {
              "fillmode": "overlay",
              "size": 10,
              "solidity": 0.2
             }
            },
            "type": "barpolar"
           }
          ],
          "pie": [
           {
            "automargin": true,
            "type": "pie"
           }
          ]
         },
         "layout": {
          "autotypenumbers": "strict",
          "colorway": [
           "#636efa",
           "#EF553B",
           "#00cc96",
           "#ab63fa",
           "#FFA15A",
           "#19d3f3",
           "#FF6692",
           "#B6E880",
           "#FF97FF",
           "#FECB52"
          ],
          "font": {
           "color": "#2a3f5f"
          },
          "hovermode": "closest",
          "hoverlabel": {
           "align": "left"
          },
          "paper_bgcolor": "white",
          "plot_bgcolor": "#E5ECF6",
          "polar": {
           "bgcolor": "#E5ECF6",
           "angularaxis": {
            "gridcolor": "white",
            "linecolor": "white",
            "ticks": ""
           },
           "radialaxis": {
            "gridcolor": "white",
            "linecolor": "white",
            "ticks": ""
           }
          },
          "ternary": {
           "bgcolor": "#E5ECF6",
           "aaxis": {
            "gridcolor": "white",
            "linecolor": "white",
            "ticks": ""
           },
           "baxis": {
            "gridcolor": "white",
            "linecolor": "white",
            "ticks": ""
           },
           "caxis": {
            "gridcolor": "white",
            "linecolor": "white",
            "ticks": ""
           }
          },
          "coloraxis": {
           "colorbar": {
            "outlinewidth": 0,
            "ticks": ""
           }
          },
          "colorscale": {
           "sequential": [
            [
             0,
             "#0d0887"
            ],
            [
             0.1111111111111111,
             "#46039f"
            ],
            [
             0.2222222222222222,
             "#7201a8"
            ],
            [
             0.3333333333333333,
             "#9c179e"
            ],
            [
             0.4444444444444444,
             "#bd3786"
            ],
            [
             0.5555555555555556,
             "#d8576b"
            ],
            [
             0.6666666666666666,
             "#ed7953"
            ],
            [
             0.7777777777777778,
             "#fb9f3a"
            ],
            [
             0.8888888888888888,
             "#fdca26"
            ],
            [
             1,
             "#f0f921"
            ]
           ],
           "sequentialminus": [
            [
             0,
             "#0d0887"
            ],
            [
             0.1111111111111111,
             "#46039f"
            ],
            [
             0.2222222222222222,
             "#7201a8"
            ],
            [
             0.3333333333333333,
             "#9c179e"
            ],
            [
             0.4444444444444444,
             "#bd3786"
            ],
            [
             0.5555555555555556,
             "#d8576b"
            ],
            [
             0.6666666666666666,
             "#ed7953"
            ],
            [
             0.7777777777777778,
             "#fb9f3a"
            ],
            [
             0.8888888888888888,
             "#fdca26"
            ],
            [
             1,
             "#f0f921"
            ]
           ],
           "diverging": [
            [
             0,
             "#8e0152"
            ],
            [
             0.1,
             "#c51b7d"
            ],
            [
             0.2,
             "#de77ae"
            ],
            [
             0.3,
             "#f1b6da"
            ],
            [
             0.4,
             "#fde0ef"
            ],
            [
             0.5,
             "#f7f7f7"
            ],
            [
             0.6,
             "#e6f5d0"
            ],
            [
             0.7,
             "#b8e186"
            ],
            [
             0.8,
             "#7fbc41"
            ],
            [
             0.9,
             "#4d9221"
            ],
            [
             1,
             "#276419"
            ]
           ]
          },
          "xaxis": {
           "gridcolor": "white",
           "linecolor": "white",
           "ticks": "",
           "title": {
            "standoff": 15
           },
           "zerolinecolor": "white",
           "automargin": true,
           "zerolinewidth": 2
          },
          "yaxis": {
           "gridcolor": "white",
           "linecolor": "white",
           "ticks": "",
           "title": {
            "standoff": 15
           },
           "zerolinecolor": "white",
           "automargin": true,
           "zerolinewidth": 2
          },
          "scene": {
           "xaxis": {
            "backgroundcolor": "#E5ECF6",
            "gridcolor": "white",
            "linecolor": "white",
            "showbackground": true,
            "ticks": "",
            "zerolinecolor": "white",
            "gridwidth": 2
           },
           "yaxis": {
            "backgroundcolor": "#E5ECF6",
            "gridcolor": "white",
            "linecolor": "white",
            "showbackground": true,
            "ticks": "",
            "zerolinecolor": "white",
            "gridwidth": 2
           },
           "zaxis": {
            "backgroundcolor": "#E5ECF6",
            "gridcolor": "white",
            "linecolor": "white",
            "showbackground": true,
            "ticks": "",
            "zerolinecolor": "white",
            "gridwidth": 2
           }
          },
          "shapedefaults": {
           "line": {
            "color": "#2a3f5f"
           }
          },
          "annotationdefaults": {
           "arrowcolor": "#2a3f5f",
           "arrowhead": 0,
           "arrowwidth": 1
          },
          "geo": {
           "bgcolor": "white",
           "landcolor": "#E5ECF6",
           "subunitcolor": "white",
           "showland": true,
           "showlakes": true,
           "lakecolor": "white"
          },
          "title": {
           "x": 0.05
          },
          "mapbox": {
           "style": "light"
          }
         }
        },
        "legend": {
         "orientation": "h",
         "yanchor": "top",
         "y": 1.02,
         "xanchor": "left",
         "x": 1
        },
        "margin": {
         "r": 20,
         "l": 10,
         "b": 10,
         "t": 10
        },
        "width": 1000,
        "height": 800,
        "scene": {
         "xaxis": {
          "title": {
           "text": "Pulse width (μs)"
          }
         },
         "yaxis": {
          "title": {
           "text": "Energy density new cone (J/cm^2)"
          }
         },
         "zaxis": {
          "title": {
           "text": "Voltage"
          }
         },
         "camera": {
          "up": {
           "x": 0,
           "y": 0,
           "z": 1
          },
          "center": {
           "x": 0,
           "y": 0,
           "z": 0
          },
          "eye": {
           "x": -2,
           "y": -2.5,
           "z": 1.75
          }
         }
        }
       },
       "config": {
        "plotlyServerURL": "https://plot.ly"
       }
      }
     },
     "metadata": {}
    }
   ],
   "metadata": {}
  },
  {
   "cell_type": "code",
   "execution_count": null,
   "source": [],
   "outputs": [],
   "metadata": {}
  }
 ],
 "metadata": {
  "orig_nbformat": 4,
  "language_info": {
   "name": "python",
   "version": "3.9.16",
   "mimetype": "text/x-python",
   "codemirror_mode": {
    "name": "ipython",
    "version": 3
   },
   "pygments_lexer": "ipython3",
   "nbconvert_exporter": "python",
   "file_extension": ".py"
  },
  "kernelspec": {
   "name": "python3",
   "display_name": "Python 3.9.16 64-bit ('FEGP': conda)"
  },
  "interpreter": {
   "hash": "b00f9bca1c18369f730e284e4d0522d8a3e0f0b629e30dad99ec4bb4df6f08b7"
  }
 },
 "nbformat": 4,
 "nbformat_minor": 2
}