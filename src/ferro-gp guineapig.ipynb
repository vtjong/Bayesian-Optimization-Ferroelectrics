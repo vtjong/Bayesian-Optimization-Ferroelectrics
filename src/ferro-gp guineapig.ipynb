{
 "cells": [
  {
   "cell_type": "code",
   "execution_count": 25,
   "source": [
    "# Prep training data\n",
    "from copyreg import pickle\n",
    "from sklearn.preprocessing import StandardScaler\n",
    "from sklearn import preprocessing\n",
    "import sys\n",
    "from tkinter import Y\n",
    "import gzip\n",
    "import itertools\n",
    "import numpy as np\n",
    "import pandas as pd\n",
    "import pickle as pk\n",
    "import torch\n",
    "import gpytorch\n",
    "import plotly.express as px\n",
    "import matplotlib.pyplot as plt\n",
    "sys.path.append('..')\n",
    "sys.path.insert(0, '../src')"
   ],
   "outputs": [],
   "metadata": {}
  },
  {
   "cell_type": "code",
   "execution_count": 26,
   "source": [
    "from model import GPModel\n",
    "from GPy.models import GPRegression\n",
    "from acq_funcs import EI, PI, cust_acq, thompson\n",
    "from plotter import vis_pred, vis_acq"
   ],
   "outputs": [],
   "metadata": {}
  },
  {
   "cell_type": "markdown",
   "source": [
    "### Data Read and Pre-processing"
   ],
   "metadata": {}
  },
  {
   "cell_type": "code",
   "execution_count": 27,
   "source": [
    "# read data and display\n",
    "def read_dat(dir=\"/Users/valenetjong/Bayesian-Optimization-Ferroelectrics/data/\",\n",
    "            src_file = \"Bolometer_readings_PulseForge.xlsx\", sheet= \"Combined\"):\n",
    "    file = dir + src_file\n",
    "    fe_data = pd.read_excel(file, sheet_name=sheet, usecols=['Energy density new cone (J/cm^2)',\n",
    "                            'Time (ms)','2 Qsw/(U+|D|) 1e6cycles'])\n",
    "    fe_data.dropna(subset=['2 Qsw/(U+|D|) 1e6cycles'], inplace=True)\n",
    "    fe_data = fe_data[fe_data['2 Qsw/(U+|D|) 1e6cycles']!= 0]\n",
    "    return fe_data\n",
    "\n",
    "def display_data(fe_data):\n",
    "    \"\"\"\n",
    "    [display_data(fe_data)] creates a cross-section scatter plot of all combinations\n",
    "    of the four input parameters and single output parameter.\n",
    "    \"\"\"\n",
    "    # plot each cross-section\n",
    "    fig = px.scatter_matrix(fe_data, dimensions=['Energy density new cone (J/cm^2)', \n",
    "    \"Time (ms)\", \"2 Qsw/(U+|D|) 1e6cycles\"])\n",
    "    fig.update_layout(margin=dict(r=20, l=10, b=10, t=10))\n",
    "    fig.update_layout(height=1000)\n",
    "    fig.show()"
   ],
   "outputs": [],
   "metadata": {}
  },
  {
   "cell_type": "code",
   "execution_count": 28,
   "source": [
    "# get training set from dataframe\n",
    "def datasetmaker(fe_data):\n",
    "    \"\"\"\n",
    "    [datasetmaker(fe_data)] filters and transforms the data in pandas df [fe_data] \n",
    "    into two tensors, [train_x] for input and [train_y] for output tensors. \n",
    "    \"\"\"\n",
    "    # define standardizer\n",
    "    norm_arr = lambda arr, min, max: (arr - min)/(max - min)\n",
    "    \n",
    "    # filter training data \n",
    "    energy_den = fe_data['Energy density new cone (J/cm^2)'].values\n",
    "    time = fe_data['Time (ms)'].values\n",
    "    train_x = torch.Tensor([energy_den, time]).T\n",
    "    train_y = torch.Tensor(fe_data['2 Qsw/(U+|D|) 1e6cycles'].values)\n",
    "\n",
    "    # standardizer inputs; x_min, x_max are min/max per column (parameter) of x\n",
    "    x_min, _ = torch.min(train_x, dim=0)\n",
    "    x_max, _ = torch.max(train_x, dim=0)\n",
    "    train_x = norm_arr(train_x, x_min, x_max)\n",
    "\n",
    "    # standardizer outputs\n",
    "    y_sd_mean = torch.std_mean(train_y, axis=0)\n",
    "    # train_y = norm_arr(train_y, y_sd_mean[1], y_sd_mean[0])\n",
    "    \n",
    "    # return x_sd_mean, y_sd_mean, train_x, train_y\n",
    "    return x_min, x_max, train_x, train_y"
   ],
   "outputs": [],
   "metadata": {}
  },
  {
   "cell_type": "code",
   "execution_count": 29,
   "source": [
    "# undo normalization\n",
    "def un_norm(arr, min, max): return arr*(max - min) + min\n",
    "\n",
    "def un_norm_all(x_min, x_max, train_x, train_y, test_grid, pred_labels, upper_surf, lower_surf):\n",
    "    raw_train_x = un_norm(train_x, x_min, x_max)\n",
    "    raw_test_grid = un_norm(test_grid, x_min, x_max)\n",
    "\n",
    "    return raw_train_x, train_y, raw_test_grid, pred_labels, upper_surf, lower_surf"
   ],
   "outputs": [],
   "metadata": {}
  },
  {
   "cell_type": "code",
   "execution_count": 30,
   "source": [
    "fe_data = read_dat()\n",
    "print(fe_data)"
   ],
   "outputs": [
    {
     "output_type": "stream",
     "name": "stdout",
     "text": [
      "    Time (ms)  Energy density new cone (J/cm^2)  2 Qsw/(U+|D|) 1e6cycles\n",
      "4         0.5                              2.73                 0.873026\n",
      "5         0.5                              3.40                 2.677245\n",
      "6         1.0                              3.79                 1.699015\n",
      "7         1.0                              6.44                 3.805053\n",
      "8         1.5                              5.36                 3.334856\n",
      "9         1.5                              8.99                 4.535153\n",
      "11        5.0                              8.80                 1.362510\n",
      "13        5.0                             14.67                 3.841291\n",
      "19        0.5                              5.24                 1.201357\n",
      "22        5.0                             14.89                 3.513652\n",
      "23        2.0                             10.13                 3.470871\n",
      "24        0.5                              4.51                 0.263298\n",
      "25        0.5                              5.37                 2.775340\n",
      "27        0.5                              4.88                 2.591306\n",
      "28        1.0                              6.76                 2.579984\n",
      "29        1.0                              7.77                 3.173819\n",
      "31        2.0                              8.73                 0.131505\n",
      "32        2.0                              9.38                 0.451164\n",
      "33        2.0                             10.48                 2.126640\n",
      "34        2.0                             11.01                 3.468213\n",
      "35        5.0                             14.71                 3.685852\n",
      "36        5.0                             15.44                 3.445656\n",
      "37        5.0                             13.37                 2.651547\n"
     ]
    }
   ],
   "metadata": {}
  },
  {
   "cell_type": "code",
   "execution_count": 31,
   "source": [
    "display_data(fe_data)"
   ],
   "outputs": [
    {
     "output_type": "display_data",
     "data": {
      "application/vnd.plotly.v1+json": {
       "data": [
        {
         "dimensions": [
          {
           "axis": {
            "matches": true
           },
           "label": "Energy density new cone (J/cm^2)",
           "values": [
            2.73,
            3.4,
            3.79,
            6.44,
            5.36,
            8.99,
            8.8,
            14.67,
            5.24,
            14.89,
            10.13,
            4.51,
            5.37,
            4.88,
            6.76,
            7.77,
            8.73,
            9.38,
            10.48,
            11.01,
            14.71,
            15.44,
            13.37
           ]
          },
          {
           "axis": {
            "matches": true
           },
           "label": "Time (ms)",
           "values": [
            0.5,
            0.5,
            1,
            1,
            1.5,
            1.5,
            5,
            5,
            0.5,
            5,
            2,
            0.5,
            0.5,
            0.5,
            1,
            1,
            2,
            2,
            2,
            2,
            5,
            5,
            5
           ]
          },
          {
           "axis": {
            "matches": true
           },
           "label": "2 Qsw/(U+|D|) 1e6cycles",
           "values": [
            0.8730257299654021,
            2.677244640050493,
            1.6990152147413928,
            3.8050528055652655,
            3.3348561928152627,
            4.535152817359003,
            1.3625102372531497,
            3.841290609056986,
            1.2013569985324948,
            3.5136521918176413,
            3.4708714822041062,
            0.2632982379553876,
            2.7753404356378253,
            2.5913062464887977,
            2.579984359259049,
            3.1738185691110727,
            0.1315049942519029,
            0.4511637114621348,
            2.126639748505365,
            3.468212840642842,
            3.685852431471957,
            3.445655582638384,
            2.651546836022379
           ]
          }
         ],
         "hovertemplate": "%{xaxis.title.text}=%{x}<br>%{yaxis.title.text}=%{y}<extra></extra>",
         "legendgroup": "",
         "marker": {
          "color": "#636efa",
          "symbol": "circle"
         },
         "name": "",
         "showlegend": false,
         "type": "splom"
        }
       ],
       "layout": {
        "template": {
         "data": {
          "histogram2dcontour": [
           {
            "type": "histogram2dcontour",
            "colorbar": {
             "outlinewidth": 0,
             "ticks": ""
            },
            "colorscale": [
             [
              0,
              "#0d0887"
             ],
             [
              0.1111111111111111,
              "#46039f"
             ],
             [
              0.2222222222222222,
              "#7201a8"
             ],
             [
              0.3333333333333333,
              "#9c179e"
             ],
             [
              0.4444444444444444,
              "#bd3786"
             ],
             [
              0.5555555555555556,
              "#d8576b"
             ],
             [
              0.6666666666666666,
              "#ed7953"
             ],
             [
              0.7777777777777778,
              "#fb9f3a"
             ],
             [
              0.8888888888888888,
              "#fdca26"
             ],
             [
              1,
              "#f0f921"
             ]
            ]
           }
          ],
          "choropleth": [
           {
            "type": "choropleth",
            "colorbar": {
             "outlinewidth": 0,
             "ticks": ""
            }
           }
          ],
          "histogram2d": [
           {
            "type": "histogram2d",
            "colorbar": {
             "outlinewidth": 0,
             "ticks": ""
            },
            "colorscale": [
             [
              0,
              "#0d0887"
             ],
             [
              0.1111111111111111,
              "#46039f"
             ],
             [
              0.2222222222222222,
              "#7201a8"
             ],
             [
              0.3333333333333333,
              "#9c179e"
             ],
             [
              0.4444444444444444,
              "#bd3786"
             ],
             [
              0.5555555555555556,
              "#d8576b"
             ],
             [
              0.6666666666666666,
              "#ed7953"
             ],
             [
              0.7777777777777778,
              "#fb9f3a"
             ],
             [
              0.8888888888888888,
              "#fdca26"
             ],
             [
              1,
              "#f0f921"
             ]
            ]
           }
          ],
          "heatmap": [
           {
            "type": "heatmap",
            "colorbar": {
             "outlinewidth": 0,
             "ticks": ""
            },
            "colorscale": [
             [
              0,
              "#0d0887"
             ],
             [
              0.1111111111111111,
              "#46039f"
             ],
             [
              0.2222222222222222,
              "#7201a8"
             ],
             [
              0.3333333333333333,
              "#9c179e"
             ],
             [
              0.4444444444444444,
              "#bd3786"
             ],
             [
              0.5555555555555556,
              "#d8576b"
             ],
             [
              0.6666666666666666,
              "#ed7953"
             ],
             [
              0.7777777777777778,
              "#fb9f3a"
             ],
             [
              0.8888888888888888,
              "#fdca26"
             ],
             [
              1,
              "#f0f921"
             ]
            ]
           }
          ],
          "heatmapgl": [
           {
            "type": "heatmapgl",
            "colorbar": {
             "outlinewidth": 0,
             "ticks": ""
            },
            "colorscale": [
             [
              0,
              "#0d0887"
             ],
             [
              0.1111111111111111,
              "#46039f"
             ],
             [
              0.2222222222222222,
              "#7201a8"
             ],
             [
              0.3333333333333333,
              "#9c179e"
             ],
             [
              0.4444444444444444,
              "#bd3786"
             ],
             [
              0.5555555555555556,
              "#d8576b"
             ],
             [
              0.6666666666666666,
              "#ed7953"
             ],
             [
              0.7777777777777778,
              "#fb9f3a"
             ],
             [
              0.8888888888888888,
              "#fdca26"
             ],
             [
              1,
              "#f0f921"
             ]
            ]
           }
          ],
          "contourcarpet": [
           {
            "type": "contourcarpet",
            "colorbar": {
             "outlinewidth": 0,
             "ticks": ""
            }
           }
          ],
          "contour": [
           {
            "type": "contour",
            "colorbar": {
             "outlinewidth": 0,
             "ticks": ""
            },
            "colorscale": [
             [
              0,
              "#0d0887"
             ],
             [
              0.1111111111111111,
              "#46039f"
             ],
             [
              0.2222222222222222,
              "#7201a8"
             ],
             [
              0.3333333333333333,
              "#9c179e"
             ],
             [
              0.4444444444444444,
              "#bd3786"
             ],
             [
              0.5555555555555556,
              "#d8576b"
             ],
             [
              0.6666666666666666,
              "#ed7953"
             ],
             [
              0.7777777777777778,
              "#fb9f3a"
             ],
             [
              0.8888888888888888,
              "#fdca26"
             ],
             [
              1,
              "#f0f921"
             ]
            ]
           }
          ],
          "surface": [
           {
            "type": "surface",
            "colorbar": {
             "outlinewidth": 0,
             "ticks": ""
            },
            "colorscale": [
             [
              0,
              "#0d0887"
             ],
             [
              0.1111111111111111,
              "#46039f"
             ],
             [
              0.2222222222222222,
              "#7201a8"
             ],
             [
              0.3333333333333333,
              "#9c179e"
             ],
             [
              0.4444444444444444,
              "#bd3786"
             ],
             [
              0.5555555555555556,
              "#d8576b"
             ],
             [
              0.6666666666666666,
              "#ed7953"
             ],
             [
              0.7777777777777778,
              "#fb9f3a"
             ],
             [
              0.8888888888888888,
              "#fdca26"
             ],
             [
              1,
              "#f0f921"
             ]
            ]
           }
          ],
          "mesh3d": [
           {
            "type": "mesh3d",
            "colorbar": {
             "outlinewidth": 0,
             "ticks": ""
            }
           }
          ],
          "scatter": [
           {
            "fillpattern": {
             "fillmode": "overlay",
             "size": 10,
             "solidity": 0.2
            },
            "type": "scatter"
           }
          ],
          "parcoords": [
           {
            "type": "parcoords",
            "line": {
             "colorbar": {
              "outlinewidth": 0,
              "ticks": ""
             }
            }
           }
          ],
          "scatterpolargl": [
           {
            "type": "scatterpolargl",
            "marker": {
             "colorbar": {
              "outlinewidth": 0,
              "ticks": ""
             }
            }
           }
          ],
          "bar": [
           {
            "error_x": {
             "color": "#2a3f5f"
            },
            "error_y": {
             "color": "#2a3f5f"
            },
            "marker": {
             "line": {
              "color": "#E5ECF6",
              "width": 0.5
             },
             "pattern": {
              "fillmode": "overlay",
              "size": 10,
              "solidity": 0.2
             }
            },
            "type": "bar"
           }
          ],
          "scattergeo": [
           {
            "type": "scattergeo",
            "marker": {
             "colorbar": {
              "outlinewidth": 0,
              "ticks": ""
             }
            }
           }
          ],
          "scatterpolar": [
           {
            "type": "scatterpolar",
            "marker": {
             "colorbar": {
              "outlinewidth": 0,
              "ticks": ""
             }
            }
           }
          ],
          "histogram": [
           {
            "marker": {
             "pattern": {
              "fillmode": "overlay",
              "size": 10,
              "solidity": 0.2
             }
            },
            "type": "histogram"
           }
          ],
          "scattergl": [
           {
            "type": "scattergl",
            "marker": {
             "colorbar": {
              "outlinewidth": 0,
              "ticks": ""
             }
            }
           }
          ],
          "scatter3d": [
           {
            "type": "scatter3d",
            "line": {
             "colorbar": {
              "outlinewidth": 0,
              "ticks": ""
             }
            },
            "marker": {
             "colorbar": {
              "outlinewidth": 0,
              "ticks": ""
             }
            }
           }
          ],
          "scattermapbox": [
           {
            "type": "scattermapbox",
            "marker": {
             "colorbar": {
              "outlinewidth": 0,
              "ticks": ""
             }
            }
           }
          ],
          "scatterternary": [
           {
            "type": "scatterternary",
            "marker": {
             "colorbar": {
              "outlinewidth": 0,
              "ticks": ""
             }
            }
           }
          ],
          "scattercarpet": [
           {
            "type": "scattercarpet",
            "marker": {
             "colorbar": {
              "outlinewidth": 0,
              "ticks": ""
             }
            }
           }
          ],
          "carpet": [
           {
            "aaxis": {
             "endlinecolor": "#2a3f5f",
             "gridcolor": "white",
             "linecolor": "white",
             "minorgridcolor": "white",
             "startlinecolor": "#2a3f5f"
            },
            "baxis": {
             "endlinecolor": "#2a3f5f",
             "gridcolor": "white",
             "linecolor": "white",
             "minorgridcolor": "white",
             "startlinecolor": "#2a3f5f"
            },
            "type": "carpet"
           }
          ],
          "table": [
           {
            "cells": {
             "fill": {
              "color": "#EBF0F8"
             },
             "line": {
              "color": "white"
             }
            },
            "header": {
             "fill": {
              "color": "#C8D4E3"
             },
             "line": {
              "color": "white"
             }
            },
            "type": "table"
           }
          ],
          "barpolar": [
           {
            "marker": {
             "line": {
              "color": "#E5ECF6",
              "width": 0.5
             },
             "pattern": {
              "fillmode": "overlay",
              "size": 10,
              "solidity": 0.2
             }
            },
            "type": "barpolar"
           }
          ],
          "pie": [
           {
            "automargin": true,
            "type": "pie"
           }
          ]
         },
         "layout": {
          "autotypenumbers": "strict",
          "colorway": [
           "#636efa",
           "#EF553B",
           "#00cc96",
           "#ab63fa",
           "#FFA15A",
           "#19d3f3",
           "#FF6692",
           "#B6E880",
           "#FF97FF",
           "#FECB52"
          ],
          "font": {
           "color": "#2a3f5f"
          },
          "hovermode": "closest",
          "hoverlabel": {
           "align": "left"
          },
          "paper_bgcolor": "white",
          "plot_bgcolor": "#E5ECF6",
          "polar": {
           "bgcolor": "#E5ECF6",
           "angularaxis": {
            "gridcolor": "white",
            "linecolor": "white",
            "ticks": ""
           },
           "radialaxis": {
            "gridcolor": "white",
            "linecolor": "white",
            "ticks": ""
           }
          },
          "ternary": {
           "bgcolor": "#E5ECF6",
           "aaxis": {
            "gridcolor": "white",
            "linecolor": "white",
            "ticks": ""
           },
           "baxis": {
            "gridcolor": "white",
            "linecolor": "white",
            "ticks": ""
           },
           "caxis": {
            "gridcolor": "white",
            "linecolor": "white",
            "ticks": ""
           }
          },
          "coloraxis": {
           "colorbar": {
            "outlinewidth": 0,
            "ticks": ""
           }
          },
          "colorscale": {
           "sequential": [
            [
             0,
             "#0d0887"
            ],
            [
             0.1111111111111111,
             "#46039f"
            ],
            [
             0.2222222222222222,
             "#7201a8"
            ],
            [
             0.3333333333333333,
             "#9c179e"
            ],
            [
             0.4444444444444444,
             "#bd3786"
            ],
            [
             0.5555555555555556,
             "#d8576b"
            ],
            [
             0.6666666666666666,
             "#ed7953"
            ],
            [
             0.7777777777777778,
             "#fb9f3a"
            ],
            [
             0.8888888888888888,
             "#fdca26"
            ],
            [
             1,
             "#f0f921"
            ]
           ],
           "sequentialminus": [
            [
             0,
             "#0d0887"
            ],
            [
             0.1111111111111111,
             "#46039f"
            ],
            [
             0.2222222222222222,
             "#7201a8"
            ],
            [
             0.3333333333333333,
             "#9c179e"
            ],
            [
             0.4444444444444444,
             "#bd3786"
            ],
            [
             0.5555555555555556,
             "#d8576b"
            ],
            [
             0.6666666666666666,
             "#ed7953"
            ],
            [
             0.7777777777777778,
             "#fb9f3a"
            ],
            [
             0.8888888888888888,
             "#fdca26"
            ],
            [
             1,
             "#f0f921"
            ]
           ],
           "diverging": [
            [
             0,
             "#8e0152"
            ],
            [
             0.1,
             "#c51b7d"
            ],
            [
             0.2,
             "#de77ae"
            ],
            [
             0.3,
             "#f1b6da"
            ],
            [
             0.4,
             "#fde0ef"
            ],
            [
             0.5,
             "#f7f7f7"
            ],
            [
             0.6,
             "#e6f5d0"
            ],
            [
             0.7,
             "#b8e186"
            ],
            [
             0.8,
             "#7fbc41"
            ],
            [
             0.9,
             "#4d9221"
            ],
            [
             1,
             "#276419"
            ]
           ]
          },
          "xaxis": {
           "gridcolor": "white",
           "linecolor": "white",
           "ticks": "",
           "title": {
            "standoff": 15
           },
           "zerolinecolor": "white",
           "automargin": true,
           "zerolinewidth": 2
          },
          "yaxis": {
           "gridcolor": "white",
           "linecolor": "white",
           "ticks": "",
           "title": {
            "standoff": 15
           },
           "zerolinecolor": "white",
           "automargin": true,
           "zerolinewidth": 2
          },
          "scene": {
           "xaxis": {
            "backgroundcolor": "#E5ECF6",
            "gridcolor": "white",
            "linecolor": "white",
            "showbackground": true,
            "ticks": "",
            "zerolinecolor": "white",
            "gridwidth": 2
           },
           "yaxis": {
            "backgroundcolor": "#E5ECF6",
            "gridcolor": "white",
            "linecolor": "white",
            "showbackground": true,
            "ticks": "",
            "zerolinecolor": "white",
            "gridwidth": 2
           },
           "zaxis": {
            "backgroundcolor": "#E5ECF6",
            "gridcolor": "white",
            "linecolor": "white",
            "showbackground": true,
            "ticks": "",
            "zerolinecolor": "white",
            "gridwidth": 2
           }
          },
          "shapedefaults": {
           "line": {
            "color": "#2a3f5f"
           }
          },
          "annotationdefaults": {
           "arrowcolor": "#2a3f5f",
           "arrowhead": 0,
           "arrowwidth": 1
          },
          "geo": {
           "bgcolor": "white",
           "landcolor": "#E5ECF6",
           "subunitcolor": "white",
           "showland": true,
           "showlakes": true,
           "lakecolor": "white"
          },
          "title": {
           "x": 0.05
          },
          "mapbox": {
           "style": "light"
          }
         }
        },
        "legend": {
         "tracegroupgap": 0
        },
        "margin": {
         "t": 10,
         "r": 20,
         "l": 10,
         "b": 10
        },
        "dragmode": "select",
        "height": 1000
       },
       "config": {
        "plotlyServerURL": "https://plot.ly"
       }
      }
     },
     "metadata": {}
    }
   ],
   "metadata": {}
  },
  {
   "cell_type": "code",
   "execution_count": 32,
   "source": [
    "# make training data, maintain params to de-normalize\n",
    "# x_sd_mean, y_sd_mean, train_x, train_y = datasetmaker(fe_data)\n",
    "x_min, x_max, train_x, train_y = datasetmaker(fe_data)"
   ],
   "outputs": [],
   "metadata": {}
  },
  {
   "cell_type": "markdown",
   "source": [
    "### Grid/Parameter Space"
   ],
   "metadata": {}
  },
  {
   "cell_type": "code",
   "execution_count": 33,
   "source": [
    "# create grid for grid search\n",
    "def grid_helper(grid_size, num_params, grid_bounds):\n",
    "    \"\"\"\n",
    "    [grid_helper(grid_size, num_params, grid_bounds)] returns a grid of dimensions\n",
    "    [grid_size] by [num_params], which dictates the parameter space for GP to be \n",
    "    conducted over. \n",
    "    \"\"\"\n",
    "    grid = torch.zeros(grid_size, num_params)\n",
    "    f_grid_diff = lambda i, x, y : float((x[i][1] - x[i][0]) / (y-2))\n",
    "    for i in range(num_params):\n",
    "        grid_diff = f_grid_diff(i, grid_bounds, grid_size)\n",
    "        grid[:, i] = torch.linspace(grid_bounds[i][0] - grid_diff, \n",
    "                                    grid_bounds[i][1] + grid_diff, grid_size)\n",
    "    return grid\n",
    "\n",
    "def grid_maker(train_x, num_points=30):\n",
    "    \"\"\"\n",
    "    [grid_maker(train_x, num_points=30)] creates grids to be used for gaussian \n",
    "    process predictions. It outputs the dimension of the grid [num_params], \n",
    "    paramater space grid [test_grid], and [test_x].\n",
    "    \"\"\"\n",
    "    # define grid between bounds of RTA time, RTA temp\n",
    "    num_params = train_x.size(dim=1)\n",
    "    grid_bounds = [(train_x[:,i].min(), train_x[:,i].max()) for i in range(num_params)]\n",
    "\n",
    "    # set up test_grid for predictions\n",
    "    test_grid = grid_helper(num_points, num_params, grid_bounds)\n",
    "\n",
    "    # create n-D grid with n = num_params\n",
    "    args = (test_grid[:, i] for i in range(num_params))\n",
    "    test_x = torch.cartesian_prod(*args)\n",
    "    return grid_bounds, num_params, test_grid, test_x\n"
   ],
   "outputs": [],
   "metadata": {}
  },
  {
   "cell_type": "code",
   "execution_count": 34,
   "source": [
    "# create grid based on parameter space for search\n",
    "grid_bounds, num_params, test_grid, test_x = grid_maker(train_x)"
   ],
   "outputs": [],
   "metadata": {}
  },
  {
   "cell_type": "markdown",
   "source": [
    "### Noise Calculations"
   ],
   "metadata": {}
  },
  {
   "cell_type": "markdown",
   "source": [
    "Our figure of merit, fom, is $2 Q_{sw}/(U+|D|),$ so error propagation would result in a error of $\\sigma_{fom} = |fom|\\sqrt{{(\\sigma_{Q_{sw}}/Q_{sw}})^2+{(\\sigma_U^2 + \\sigma_{|D|}^2)/(U+|D|)^2)}}$. We have data for $2Pr$ measurements wrt device area. Using the $10\\mu$ m $\\times 10\\mu$ m data, we approximate the error for the figure of merit as simply $\\sigma_{2Pr}$, as we do not have $\\sigma_U$ or $\\sigma_D.$ \n"
   ],
   "metadata": {}
  },
  {
   "cell_type": "code",
   "execution_count": 35,
   "source": [
    "fn = \"/Users/valenetjong/Bayesian-Optimization-Ferroelectrics/data/P vs area.xlsx\"\n",
    "excel_file = pd.read_excel(fn, sheet_name='Sheet1')\n",
    "col_2Pr_10by10 = excel_file['10umx10um']\n",
    "sd = col_2Pr_10by10.std()/col_2Pr_10by10.mean()\n",
    "print(sd)\n",
    "print(col_2Pr_10by10)"
   ],
   "outputs": [
    {
     "output_type": "stream",
     "name": "stdout",
     "text": [
      "0.04469365441252401\n",
      "0     34.57379\n",
      "1     35.96416\n",
      "2     33.16083\n",
      "3     35.96861\n",
      "4     37.10497\n",
      "5     35.86549\n",
      "6     35.81341\n",
      "7     33.01597\n",
      "8     35.71753\n",
      "9     38.37434\n",
      "10    34.11144\n",
      "11    33.57596\n",
      "12    35.15750\n",
      "13    35.01515\n",
      "14    36.01072\n",
      "15    37.04952\n",
      "16    36.48895\n",
      "17    35.63807\n",
      "18    37.36247\n",
      "19    39.05057\n",
      "Name: 10umx10um, dtype: float64\n"
     ]
    }
   ],
   "metadata": {}
  },
  {
   "cell_type": "markdown",
   "source": [
    "### Initialize Model"
   ],
   "metadata": {}
  },
  {
   "cell_type": "code",
   "execution_count": 149,
   "source": [
    "# configuration parameters for training\n",
    "class Config():\n",
    "    def __init__(self):\n",
    "        self.epochs = 5000\n",
    "        self.kernel = \"matern\"\n",
    "        self.lr = 0.005\n",
    "        self.lscale_1 = 0.114\n",
    "        self.lscale_2 = 0.0488\n",
    "        self.lscale_3 = None\n",
    "        self.lscale_4 = None\n",
    "        self.dim = 2\n",
    "        self.noise = 0.15\n",
    "\n",
    "config = Config()"
   ],
   "outputs": [],
   "metadata": {}
  },
  {
   "cell_type": "code",
   "execution_count": 150,
   "source": [
    "# make model\n",
    "def kernel_func(config_kernel, num_params, lscale):\n",
    "    \"\"\"\n",
    "    [kernel_func(config_kernel, num_params, lscale)] returns kernel function with \n",
    "    dimensions specified by [num_params]. \n",
    "    \"\"\"\n",
    "    if config_kernel == \"rbf\":\n",
    "        return gpytorch.kernels.ScaleKernel(\n",
    "            gpytorch.kernels.RBFKernel(ard_num_dims=num_params))\n",
    "    elif config_kernel == \"matern\":\n",
    "        return gpytorch.kernels.ScaleKernel(gpytorch.kernels.MaternKernel(ard_num_dims=num_params, \n",
    "        lengthscale = torch.tensor(lscale), nu=0.5))\n",
    "\n",
    "def make_model(train_x, train_y, num_params, config):\n",
    "    \"\"\"\n",
    "    [make_model(train_x, train_y, num_params, config)] returns likelihood and \n",
    "    model with lengthscale, noise, kernel function specified by sweeps. \n",
    "    \"\"\"\n",
    "    \n",
    "    if config.dim == 2:\n",
    "        lscale = [config.lscale_1, config.lscale_2]\n",
    "    elif config.dim == 4:\n",
    "        lscale = [config.lscale_1, config.lscale_2, config.lscale_3, config.lscale_4]\n",
    "    kernel = kernel_func(config.kernel, num_params, lscale)\n",
    "    \n",
    "    print(kernel)\n",
    "    num_samples = len(train_x)\n",
    "    noise = config.noise*torch.ones(num_samples)\n",
    "    likelihood = gpytorch.likelihoods.FixedNoiseGaussianLikelihood(noise=noise)\n",
    "    model = GPModel(train_x, train_y, likelihood, kernel)\n",
    "\n",
    "    return likelihood, model, lscale\n",
    "    "
   ],
   "outputs": [],
   "metadata": {}
  },
  {
   "cell_type": "code",
   "execution_count": 109,
   "source": [
    "def intermediate_plot(f, ax, obs, title):\n",
    "    im = ax.imshow(obs.mean.view(30, 30), aspect='equal',\n",
    "                extent=[grid_bounds[0][0].item(), grid_bounds[0][1].item(),\n",
    "                            grid_bounds[1][0].item(), grid_bounds[1][1].item()])\n",
    "    f.colorbar(im)\n",
    "    ax.set_title(title)"
   ],
   "outputs": [],
   "metadata": {}
  },
  {
   "cell_type": "markdown",
   "source": [
    "### GP Training and Eval"
   ],
   "metadata": {}
  },
  {
   "cell_type": "code",
   "execution_count": 151,
   "source": [
    "# training and evaluation\n",
    "def train(train_x, train_y, num_params, config):\n",
    "    likelihood, model, lscale = make_model(train_x, train_y, num_params, config)\n",
    "    model.covar_module.base_kernel.lengthscale = torch.Tensor(lscale)\n",
    "    training_iter = config.epochs\n",
    "    model.covar_module.base_kernel.raw_lengthscale.requires_grad_(False) # disallow training of lengthscale\n",
    "    \n",
    "    # place both the model and likelihood in training mode\n",
    "    model.train(), likelihood.train()\n",
    "\n",
    "    # use Adam\n",
    "    optimizer = torch.optim.Adam(model.parameters(), lr=config.lr)\n",
    "\n",
    "    # set GP loss as the marginal log likelihood\n",
    "    mll = gpytorch.mlls.ExactMarginalLogLikelihood(likelihood, model)\n",
    "    loss_lst = []\n",
    "\n",
    "    for i in range(training_iter):\n",
    "        optimizer.zero_grad()\n",
    "        output = model(train_x)\n",
    "\n",
    "        # backpropagate error\n",
    "        loss = -mll(output, train_y)\n",
    "        loss.backward()\n",
    "\n",
    "        if i % 100 == 0: \n",
    "            print('Iter %d/%d - Loss: %.3f  lengthscale1: %s   noise: %s' % (\n",
    "                    i+1, training_iter, loss.item(), \n",
    "                    model.covar_module.base_kernel.lengthscale.detach().numpy(),\n",
    "                    model.likelihood.noise.detach().numpy()\n",
    "                    )) \n",
    "            loss_lst.append(loss.item())\n",
    "\n",
    "        # if i % 1000 == 0:\n",
    "        # # get a quick snapshot of intermediate \n",
    "        #     model.eval()\n",
    "        #     likelihood.eval()\n",
    "        #     with torch.no_grad(), gpytorch.settings.fast_pred_var():\n",
    "        #         obs = likelihood(model(test_x))\n",
    "        #         f, ax = plt.subplots(1, 1, figsize=(4,3))\n",
    "        #         intermediate_plot(f, ax, obs, f'iter {i+1}/{training_iter}')\n",
    "        #     model.train()\n",
    "        #     likelihood.train()\n",
    "        optimizer.step()\n",
    "        \n",
    "    print(model.covar_module.outputscale.detach().numpy())\n",
    "    return likelihood, model, loss_lst\n",
    "\n",
    "def eval_mod(likelihood, model, test_x):\n",
    "    \"\"\" \n",
    "    [eval_mod(likelihood, model, test_x)] evaluates GP model. \n",
    "    \"\"\"\n",
    "    model.eval(), likelihood.eval()\n",
    "    with torch.no_grad(), gpytorch.settings.fast_pred_var():\n",
    "        obs = likelihood(model(test_x), noise=(torch.ones(len(test_x))*config.noise))\n",
    "    return obs"
   ],
   "outputs": [],
   "metadata": {}
  },
  {
   "cell_type": "code",
   "execution_count": 152,
   "source": [
    "# train model and evaluate\n",
    "likelihood, model, loss_lst = train(train_x, train_y, num_params, config)\n",
    "\n",
    "obs = eval_mod(likelihood, model, test_x)"
   ],
   "outputs": [
    {
     "output_type": "stream",
     "name": "stdout",
     "text": [
      "ScaleKernel(\n",
      "  (base_kernel): MaternKernel(\n",
      "    (raw_lengthscale_constraint): Positive()\n",
      "  )\n",
      "  (raw_outputscale_constraint): Positive()\n",
      ")\n",
      "Iter 1/5000 - Loss: 3.442  lengthscale1: [[0.11400001 0.0488    ]]   noise: [0.15 0.15 0.15 0.15 0.15 0.15 0.15 0.15 0.15 0.15 0.15 0.15 0.15 0.15\n",
      " 0.15 0.15 0.15 0.15 0.15 0.15 0.15 0.15 0.15]\n",
      "Iter 101/5000 - Loss: 2.558  lengthscale1: [[0.11400001 0.0488    ]]   noise: [0.15 0.15 0.15 0.15 0.15 0.15 0.15 0.15 0.15 0.15 0.15 0.15 0.15 0.15\n",
      " 0.15 0.15 0.15 0.15 0.15 0.15 0.15 0.15 0.15]\n",
      "Iter 201/5000 - Loss: 2.161  lengthscale1: [[0.11400001 0.0488    ]]   noise: [0.15 0.15 0.15 0.15 0.15 0.15 0.15 0.15 0.15 0.15 0.15 0.15 0.15 0.15\n",
      " 0.15 0.15 0.15 0.15 0.15 0.15 0.15 0.15 0.15]\n",
      "Iter 301/5000 - Loss: 1.954  lengthscale1: [[0.11400001 0.0488    ]]   noise: [0.15 0.15 0.15 0.15 0.15 0.15 0.15 0.15 0.15 0.15 0.15 0.15 0.15 0.15\n",
      " 0.15 0.15 0.15 0.15 0.15 0.15 0.15 0.15 0.15]\n",
      "Iter 401/5000 - Loss: 1.836  lengthscale1: [[0.11400001 0.0488    ]]   noise: [0.15 0.15 0.15 0.15 0.15 0.15 0.15 0.15 0.15 0.15 0.15 0.15 0.15 0.15\n",
      " 0.15 0.15 0.15 0.15 0.15 0.15 0.15 0.15 0.15]\n",
      "Iter 501/5000 - Loss: 1.765  lengthscale1: [[0.11400001 0.0488    ]]   noise: [0.15 0.15 0.15 0.15 0.15 0.15 0.15 0.15 0.15 0.15 0.15 0.15 0.15 0.15\n",
      " 0.15 0.15 0.15 0.15 0.15 0.15 0.15 0.15 0.15]\n",
      "Iter 601/5000 - Loss: 1.721  lengthscale1: [[0.11400001 0.0488    ]]   noise: [0.15 0.15 0.15 0.15 0.15 0.15 0.15 0.15 0.15 0.15 0.15 0.15 0.15 0.15\n",
      " 0.15 0.15 0.15 0.15 0.15 0.15 0.15 0.15 0.15]\n",
      "Iter 701/5000 - Loss: 1.694  lengthscale1: [[0.11400001 0.0488    ]]   noise: [0.15 0.15 0.15 0.15 0.15 0.15 0.15 0.15 0.15 0.15 0.15 0.15 0.15 0.15\n",
      " 0.15 0.15 0.15 0.15 0.15 0.15 0.15 0.15 0.15]\n",
      "Iter 801/5000 - Loss: 1.677  lengthscale1: [[0.11400001 0.0488    ]]   noise: [0.15 0.15 0.15 0.15 0.15 0.15 0.15 0.15 0.15 0.15 0.15 0.15 0.15 0.15\n",
      " 0.15 0.15 0.15 0.15 0.15 0.15 0.15 0.15 0.15]\n",
      "Iter 901/5000 - Loss: 1.666  lengthscale1: [[0.11400001 0.0488    ]]   noise: [0.15 0.15 0.15 0.15 0.15 0.15 0.15 0.15 0.15 0.15 0.15 0.15 0.15 0.15\n",
      " 0.15 0.15 0.15 0.15 0.15 0.15 0.15 0.15 0.15]\n",
      "Iter 1001/5000 - Loss: 1.660  lengthscale1: [[0.11400001 0.0488    ]]   noise: [0.15 0.15 0.15 0.15 0.15 0.15 0.15 0.15 0.15 0.15 0.15 0.15 0.15 0.15\n",
      " 0.15 0.15 0.15 0.15 0.15 0.15 0.15 0.15 0.15]\n",
      "Iter 1101/5000 - Loss: 1.656  lengthscale1: [[0.11400001 0.0488    ]]   noise: [0.15 0.15 0.15 0.15 0.15 0.15 0.15 0.15 0.15 0.15 0.15 0.15 0.15 0.15\n",
      " 0.15 0.15 0.15 0.15 0.15 0.15 0.15 0.15 0.15]\n",
      "Iter 1201/5000 - Loss: 1.653  lengthscale1: [[0.11400001 0.0488    ]]   noise: [0.15 0.15 0.15 0.15 0.15 0.15 0.15 0.15 0.15 0.15 0.15 0.15 0.15 0.15\n",
      " 0.15 0.15 0.15 0.15 0.15 0.15 0.15 0.15 0.15]\n",
      "Iter 1301/5000 - Loss: 1.652  lengthscale1: [[0.11400001 0.0488    ]]   noise: [0.15 0.15 0.15 0.15 0.15 0.15 0.15 0.15 0.15 0.15 0.15 0.15 0.15 0.15\n",
      " 0.15 0.15 0.15 0.15 0.15 0.15 0.15 0.15 0.15]\n",
      "Iter 1401/5000 - Loss: 1.651  lengthscale1: [[0.11400001 0.0488    ]]   noise: [0.15 0.15 0.15 0.15 0.15 0.15 0.15 0.15 0.15 0.15 0.15 0.15 0.15 0.15\n",
      " 0.15 0.15 0.15 0.15 0.15 0.15 0.15 0.15 0.15]\n",
      "Iter 1501/5000 - Loss: 1.651  lengthscale1: [[0.11400001 0.0488    ]]   noise: [0.15 0.15 0.15 0.15 0.15 0.15 0.15 0.15 0.15 0.15 0.15 0.15 0.15 0.15\n",
      " 0.15 0.15 0.15 0.15 0.15 0.15 0.15 0.15 0.15]\n",
      "Iter 1601/5000 - Loss: 1.650  lengthscale1: [[0.11400001 0.0488    ]]   noise: [0.15 0.15 0.15 0.15 0.15 0.15 0.15 0.15 0.15 0.15 0.15 0.15 0.15 0.15\n",
      " 0.15 0.15 0.15 0.15 0.15 0.15 0.15 0.15 0.15]\n",
      "Iter 1701/5000 - Loss: 1.650  lengthscale1: [[0.11400001 0.0488    ]]   noise: [0.15 0.15 0.15 0.15 0.15 0.15 0.15 0.15 0.15 0.15 0.15 0.15 0.15 0.15\n",
      " 0.15 0.15 0.15 0.15 0.15 0.15 0.15 0.15 0.15]\n",
      "Iter 1801/5000 - Loss: 1.650  lengthscale1: [[0.11400001 0.0488    ]]   noise: [0.15 0.15 0.15 0.15 0.15 0.15 0.15 0.15 0.15 0.15 0.15 0.15 0.15 0.15\n",
      " 0.15 0.15 0.15 0.15 0.15 0.15 0.15 0.15 0.15]\n",
      "Iter 1901/5000 - Loss: 1.650  lengthscale1: [[0.11400001 0.0488    ]]   noise: [0.15 0.15 0.15 0.15 0.15 0.15 0.15 0.15 0.15 0.15 0.15 0.15 0.15 0.15\n",
      " 0.15 0.15 0.15 0.15 0.15 0.15 0.15 0.15 0.15]\n",
      "Iter 2001/5000 - Loss: 1.649  lengthscale1: [[0.11400001 0.0488    ]]   noise: [0.15 0.15 0.15 0.15 0.15 0.15 0.15 0.15 0.15 0.15 0.15 0.15 0.15 0.15\n",
      " 0.15 0.15 0.15 0.15 0.15 0.15 0.15 0.15 0.15]\n",
      "Iter 2101/5000 - Loss: 1.649  lengthscale1: [[0.11400001 0.0488    ]]   noise: [0.15 0.15 0.15 0.15 0.15 0.15 0.15 0.15 0.15 0.15 0.15 0.15 0.15 0.15\n",
      " 0.15 0.15 0.15 0.15 0.15 0.15 0.15 0.15 0.15]\n",
      "Iter 2201/5000 - Loss: 1.649  lengthscale1: [[0.11400001 0.0488    ]]   noise: [0.15 0.15 0.15 0.15 0.15 0.15 0.15 0.15 0.15 0.15 0.15 0.15 0.15 0.15\n",
      " 0.15 0.15 0.15 0.15 0.15 0.15 0.15 0.15 0.15]\n",
      "Iter 2301/5000 - Loss: 1.649  lengthscale1: [[0.11400001 0.0488    ]]   noise: [0.15 0.15 0.15 0.15 0.15 0.15 0.15 0.15 0.15 0.15 0.15 0.15 0.15 0.15\n",
      " 0.15 0.15 0.15 0.15 0.15 0.15 0.15 0.15 0.15]\n",
      "Iter 2401/5000 - Loss: 1.649  lengthscale1: [[0.11400001 0.0488    ]]   noise: [0.15 0.15 0.15 0.15 0.15 0.15 0.15 0.15 0.15 0.15 0.15 0.15 0.15 0.15\n",
      " 0.15 0.15 0.15 0.15 0.15 0.15 0.15 0.15 0.15]\n",
      "Iter 2501/5000 - Loss: 1.649  lengthscale1: [[0.11400001 0.0488    ]]   noise: [0.15 0.15 0.15 0.15 0.15 0.15 0.15 0.15 0.15 0.15 0.15 0.15 0.15 0.15\n",
      " 0.15 0.15 0.15 0.15 0.15 0.15 0.15 0.15 0.15]\n",
      "Iter 2601/5000 - Loss: 1.649  lengthscale1: [[0.11400001 0.0488    ]]   noise: [0.15 0.15 0.15 0.15 0.15 0.15 0.15 0.15 0.15 0.15 0.15 0.15 0.15 0.15\n",
      " 0.15 0.15 0.15 0.15 0.15 0.15 0.15 0.15 0.15]\n",
      "Iter 2701/5000 - Loss: 1.649  lengthscale1: [[0.11400001 0.0488    ]]   noise: [0.15 0.15 0.15 0.15 0.15 0.15 0.15 0.15 0.15 0.15 0.15 0.15 0.15 0.15\n",
      " 0.15 0.15 0.15 0.15 0.15 0.15 0.15 0.15 0.15]\n",
      "Iter 2801/5000 - Loss: 1.649  lengthscale1: [[0.11400001 0.0488    ]]   noise: [0.15 0.15 0.15 0.15 0.15 0.15 0.15 0.15 0.15 0.15 0.15 0.15 0.15 0.15\n",
      " 0.15 0.15 0.15 0.15 0.15 0.15 0.15 0.15 0.15]\n",
      "Iter 2901/5000 - Loss: 1.649  lengthscale1: [[0.11400001 0.0488    ]]   noise: [0.15 0.15 0.15 0.15 0.15 0.15 0.15 0.15 0.15 0.15 0.15 0.15 0.15 0.15\n",
      " 0.15 0.15 0.15 0.15 0.15 0.15 0.15 0.15 0.15]\n",
      "Iter 3001/5000 - Loss: 1.649  lengthscale1: [[0.11400001 0.0488    ]]   noise: [0.15 0.15 0.15 0.15 0.15 0.15 0.15 0.15 0.15 0.15 0.15 0.15 0.15 0.15\n",
      " 0.15 0.15 0.15 0.15 0.15 0.15 0.15 0.15 0.15]\n",
      "Iter 3101/5000 - Loss: 1.649  lengthscale1: [[0.11400001 0.0488    ]]   noise: [0.15 0.15 0.15 0.15 0.15 0.15 0.15 0.15 0.15 0.15 0.15 0.15 0.15 0.15\n",
      " 0.15 0.15 0.15 0.15 0.15 0.15 0.15 0.15 0.15]\n",
      "Iter 3201/5000 - Loss: 1.649  lengthscale1: [[0.11400001 0.0488    ]]   noise: [0.15 0.15 0.15 0.15 0.15 0.15 0.15 0.15 0.15 0.15 0.15 0.15 0.15 0.15\n",
      " 0.15 0.15 0.15 0.15 0.15 0.15 0.15 0.15 0.15]\n",
      "Iter 3301/5000 - Loss: 1.649  lengthscale1: [[0.11400001 0.0488    ]]   noise: [0.15 0.15 0.15 0.15 0.15 0.15 0.15 0.15 0.15 0.15 0.15 0.15 0.15 0.15\n",
      " 0.15 0.15 0.15 0.15 0.15 0.15 0.15 0.15 0.15]\n",
      "Iter 3401/5000 - Loss: 1.649  lengthscale1: [[0.11400001 0.0488    ]]   noise: [0.15 0.15 0.15 0.15 0.15 0.15 0.15 0.15 0.15 0.15 0.15 0.15 0.15 0.15\n",
      " 0.15 0.15 0.15 0.15 0.15 0.15 0.15 0.15 0.15]\n",
      "Iter 3501/5000 - Loss: 1.649  lengthscale1: [[0.11400001 0.0488    ]]   noise: [0.15 0.15 0.15 0.15 0.15 0.15 0.15 0.15 0.15 0.15 0.15 0.15 0.15 0.15\n",
      " 0.15 0.15 0.15 0.15 0.15 0.15 0.15 0.15 0.15]\n",
      "Iter 3601/5000 - Loss: 1.649  lengthscale1: [[0.11400001 0.0488    ]]   noise: [0.15 0.15 0.15 0.15 0.15 0.15 0.15 0.15 0.15 0.15 0.15 0.15 0.15 0.15\n",
      " 0.15 0.15 0.15 0.15 0.15 0.15 0.15 0.15 0.15]\n",
      "Iter 3701/5000 - Loss: 1.649  lengthscale1: [[0.11400001 0.0488    ]]   noise: [0.15 0.15 0.15 0.15 0.15 0.15 0.15 0.15 0.15 0.15 0.15 0.15 0.15 0.15\n",
      " 0.15 0.15 0.15 0.15 0.15 0.15 0.15 0.15 0.15]\n",
      "Iter 3801/5000 - Loss: 1.649  lengthscale1: [[0.11400001 0.0488    ]]   noise: [0.15 0.15 0.15 0.15 0.15 0.15 0.15 0.15 0.15 0.15 0.15 0.15 0.15 0.15\n",
      " 0.15 0.15 0.15 0.15 0.15 0.15 0.15 0.15 0.15]\n",
      "Iter 3901/5000 - Loss: 1.649  lengthscale1: [[0.11400001 0.0488    ]]   noise: [0.15 0.15 0.15 0.15 0.15 0.15 0.15 0.15 0.15 0.15 0.15 0.15 0.15 0.15\n",
      " 0.15 0.15 0.15 0.15 0.15 0.15 0.15 0.15 0.15]\n",
      "Iter 4001/5000 - Loss: 1.649  lengthscale1: [[0.11400001 0.0488    ]]   noise: [0.15 0.15 0.15 0.15 0.15 0.15 0.15 0.15 0.15 0.15 0.15 0.15 0.15 0.15\n",
      " 0.15 0.15 0.15 0.15 0.15 0.15 0.15 0.15 0.15]\n",
      "Iter 4101/5000 - Loss: 1.649  lengthscale1: [[0.11400001 0.0488    ]]   noise: [0.15 0.15 0.15 0.15 0.15 0.15 0.15 0.15 0.15 0.15 0.15 0.15 0.15 0.15\n",
      " 0.15 0.15 0.15 0.15 0.15 0.15 0.15 0.15 0.15]\n",
      "Iter 4201/5000 - Loss: 1.649  lengthscale1: [[0.11400001 0.0488    ]]   noise: [0.15 0.15 0.15 0.15 0.15 0.15 0.15 0.15 0.15 0.15 0.15 0.15 0.15 0.15\n",
      " 0.15 0.15 0.15 0.15 0.15 0.15 0.15 0.15 0.15]\n",
      "Iter 4301/5000 - Loss: 1.649  lengthscale1: [[0.11400001 0.0488    ]]   noise: [0.15 0.15 0.15 0.15 0.15 0.15 0.15 0.15 0.15 0.15 0.15 0.15 0.15 0.15\n",
      " 0.15 0.15 0.15 0.15 0.15 0.15 0.15 0.15 0.15]\n",
      "Iter 4401/5000 - Loss: 1.649  lengthscale1: [[0.11400001 0.0488    ]]   noise: [0.15 0.15 0.15 0.15 0.15 0.15 0.15 0.15 0.15 0.15 0.15 0.15 0.15 0.15\n",
      " 0.15 0.15 0.15 0.15 0.15 0.15 0.15 0.15 0.15]\n",
      "Iter 4501/5000 - Loss: 1.649  lengthscale1: [[0.11400001 0.0488    ]]   noise: [0.15 0.15 0.15 0.15 0.15 0.15 0.15 0.15 0.15 0.15 0.15 0.15 0.15 0.15\n",
      " 0.15 0.15 0.15 0.15 0.15 0.15 0.15 0.15 0.15]\n",
      "Iter 4601/5000 - Loss: 1.649  lengthscale1: [[0.11400001 0.0488    ]]   noise: [0.15 0.15 0.15 0.15 0.15 0.15 0.15 0.15 0.15 0.15 0.15 0.15 0.15 0.15\n",
      " 0.15 0.15 0.15 0.15 0.15 0.15 0.15 0.15 0.15]\n",
      "Iter 4701/5000 - Loss: 1.649  lengthscale1: [[0.11400001 0.0488    ]]   noise: [0.15 0.15 0.15 0.15 0.15 0.15 0.15 0.15 0.15 0.15 0.15 0.15 0.15 0.15\n",
      " 0.15 0.15 0.15 0.15 0.15 0.15 0.15 0.15 0.15]\n",
      "Iter 4801/5000 - Loss: 1.649  lengthscale1: [[0.11400001 0.0488    ]]   noise: [0.15 0.15 0.15 0.15 0.15 0.15 0.15 0.15 0.15 0.15 0.15 0.15 0.15 0.15\n",
      " 0.15 0.15 0.15 0.15 0.15 0.15 0.15 0.15 0.15]\n",
      "Iter 4901/5000 - Loss: 1.649  lengthscale1: [[0.11400001 0.0488    ]]   noise: [0.15 0.15 0.15 0.15 0.15 0.15 0.15 0.15 0.15 0.15 0.15 0.15 0.15 0.15\n",
      " 0.15 0.15 0.15 0.15 0.15 0.15 0.15 0.15 0.15]\n",
      "2.1339772\n"
     ]
    }
   ],
   "metadata": {}
  },
  {
   "cell_type": "markdown",
   "source": [
    "### GP Training Results"
   ],
   "metadata": {}
  },
  {
   "cell_type": "code",
   "execution_count": 153,
   "source": [
    "import matplotlib.pyplot as plt\n",
    "from sklearn.metrics import mean_squared_error, mean_absolute_error,r2_score\n",
    "from scipy.stats import spearmanr\n",
    "import matplotlib.pyplot as plt \n",
    "from plotter import prettyplot\n",
    "\n",
    "round_three = lambda val: np.round(val, 3) \n",
    "y_preds = likelihood(model(train_x))\n",
    "prettyplot()\n",
    "\n",
    "# plot training results\n",
    "with torch.no_grad():\n",
    "    y_preds_mean = y_preds.mean.numpy()\n",
    "    fig, axes = plt.subplots(1, 3, figsize=(5.5*3, 4.5))\n",
    "    fs = 14\n",
    "\n",
    "    # calculate error metrics\n",
    "    rmse = np.sqrt(mean_squared_error(train_y, y_preds_mean))\n",
    "    mae = mean_absolute_error(train_y,  y_preds_mean)\n",
    "    spearman = spearmanr(train_y, y_preds_mean)[0]\n",
    "    r2 = r2_score(train_y, y_preds_mean)\n",
    "    err_vals = [round_three(i) for i in [rmse, mae, spearman, r2]]\n",
    "\n",
    "    # print error metrics\n",
    "    data = {'Metric': ['RMSE', 'MAE', 'Spearman', 'R² score'], 'Value': err_vals}\n",
    "    df = pd.DataFrame(data)\n",
    "    print(df)\n",
    "\n",
    "    # training versus actuals plot: make plot, set title and axes values\n",
    "    axes[0].scatter(train_y, y_preds_mean)\n",
    "    axes[0].plot(np.linspace(0, 5, 5), np.linspace(0, 5, 5), 'k--')\n",
    "    axes[0].set_xlabel('Ground Truth 2 Qsw/(U+|D|) 1e6', fontsize = fs)\n",
    "    axes[0].set_ylabel('Prediction 2 Qsw/(U+|D|) 1e6', fontsize = fs)\n",
    "    axes[0].set_title('GP Training Results' + \" (MAE=%.2f\" % mae+' [%])', fontsize = fs)\n",
    "\n",
    "    # loss plot: make plot, set title and axes values\n",
    "    axes[1].plot(loss_lst, 'o-')\n",
    "    title = 'Training Loss'\n",
    "    axes[1].set_xlabel('Epoch (Per 100)', fontsize = fs)\n",
    "    axes[1].set_ylabel('Marginal Log Likelihood', fontsize = fs)\n",
    "    axes[1].set_title(title, fontsize = fs)\n",
    "    axes[2].axis(\"off\")\n",
    "\n",
    "    for i in range(len(axes)):\n",
    "        axes[i].tick_params(direction='in', length=5, width=1, labelsize = fs*.8)\n",
    "    plt.subplots_adjust(wspace = 0.4)\n",
    "\n",
    "    plt.show()"
   ],
   "outputs": [
    {
     "output_type": "stream",
     "name": "stderr",
     "text": [
      "/Users/valenetjong/opt/anaconda3/envs/FEGP/lib/python3.9/site-packages/gpytorch/models/exact_gp.py:274: GPInputWarning:\n",
      "\n",
      "The input matches the stored training data. Did you forget to call model.train()?\n",
      "\n"
     ]
    },
    {
     "output_type": "stream",
     "name": "stdout",
     "text": [
      "     Metric  Value\n",
      "0      RMSE  0.194\n",
      "1       MAE  0.156\n",
      "2  Spearman  0.975\n",
      "3  R² score  0.976\n"
     ]
    },
    {
     "output_type": "display_data",
     "data": {
      "image/png": "[encoded data removed]",
      "text/plain": [
       "<Figure size 3300x900 with 3 Axes>"
      ]
     },
     "metadata": {}
    }
   ],
   "metadata": {}
  },
  {
   "cell_type": "code",
   "execution_count": 154,
   "source": [
    "# acquisition function for prediction/exploration\n",
    "def get_bounds(n): return [n for i in range(config.dim)]\n",
    "\n",
    "def unravel_acq(acq_func, obs, bounds, train_y, nshape):\n",
    "    \"\"\" \n",
    "    [unravel_acq(acq_func, obs, bounds, train_y, nshape)] is a helper function \n",
    "    for acq that returns the coordinates of the maximum value of the acq_func \n",
    "    over the test grid in the form of a tuple (row_index, column_index). \n",
    "\n",
    "    row_index = index into time\n",
    "    column_index = index into energy density\n",
    "    \"\"\"\n",
    "    acq = acq_func(obs, bounds, train_y).detach().numpy().reshape(nshape).T\n",
    "    return np.unravel_index(acq.argmax(), acq.shape)\n",
    "\n",
    "def acq(obs, train_y, bounds):\n",
    "    \"\"\" \n",
    "    [acq(obs, train_y, bounds)] evaluates acquisition functions on current \n",
    "    predictions (observations) and outputs suggested points for exploration \n",
    "    on manifold. \n",
    "    \"\"\"\n",
    "    transpose = lambda tensor: tensor.detach().numpy().reshape(nshape).T\n",
    "    nshape = tuple(bounds)\n",
    "\n",
    "    pi = unravel_acq(PI, obs, bounds, train_y, nshape) # prob of improvement\n",
    "    ei = unravel_acq(EI, obs, bounds, train_y, nshape) # expected improvement\n",
    "    ca = unravel_acq(cust_acq, obs, bounds, train_y, nshape) # custom acq\n",
    "    th = unravel_acq(thompson, obs, bounds, train_y, nshape) # thompson acq\n",
    "\n",
    "    lower, upper = obs.confidence_region()\n",
    "    upper_surf, lower_surf = transpose(upper), transpose(lower)\n",
    "    ucb = np.unravel_index(upper_surf.argmax(), upper_surf.shape)\n",
    "\n",
    "    pred_var = obs.variance.view(nshape).detach().numpy().T\n",
    "    pred_labels = obs.mean.view(nshape)\n",
    "    max_var = np.unravel_index(pred_var.argmax(), pred_var.shape)\n",
    "\n",
    "    # acqs gives pairs corresponding to indices of time and energy density recommendations in grid\n",
    "    # pairs index into pred_labels \n",
    "    acqs = {\"PI\":pi, \"EI\":ei, \"CA\":ca, \"TH\":th, \"UCB\":ucb, \"Max_var\":max_var}\n",
    "\n",
    "    return pred_labels, upper_surf, lower_surf, acqs"
   ],
   "outputs": [],
   "metadata": {}
  },
  {
   "cell_type": "code",
   "execution_count": 155,
   "source": [
    "# export predictions to csv\n",
    "def pred_to_csv(acqs, raw_pred_labels, raw_test_grid, file_out = \"preds.csv\"):\n",
    "    \"\"\"\n",
    "    [pred_to_csv(acqs, raw_pred_labels, raw_test_grid)] outputs suggested\n",
    "    inputs and their respective predicted outputs to csv. \n",
    "    \"\"\"   \n",
    "    dir = \"/Users/valenetjong/Bayesian-Optimization-Ferroelectrics/predictions/\"\n",
    "    file = open(dir + file_out, \"w\", encoding=\"utf-8\")\n",
    "    file.write(\"Energy density \\t Time (ms)\\n\")\n",
    "    data = {'Time(ms)':[], 'Energy density new cone (J/cm^2)':[], '2 Qsw/(U+|D|) 1e6':[]}\n",
    "    for lab, coords in acqs.items(): \n",
    "        time_val = raw_test_grid[coords[1]].tolist()[0]\n",
    "        energy_den_val = raw_test_grid[coords[0]].tolist()[1]\n",
    "        data['Time(ms)'].append(time_val)\n",
    "        data['Energy density new cone (J/cm^2)'].append(energy_den_val)\n",
    "        file.write(lab + \": \" + str(time_val) + \"\\t\" + str(energy_den_val) + \"\\n\")\n",
    "\n",
    "    file.write(\"\\nFigure of merit\\n\")\n",
    "    for lab, coords in acqs.items():\n",
    "        fig_of_merit = raw_pred_labels[coords].item()\n",
    "        data['2 Qsw/(U+|D|) 1e6'].append(fig_of_merit)\n",
    "        file.write(lab + \": \" + str(fig_of_merit) + \"\\n\")\n",
    "\n",
    "    df = pd.DataFrame(data)\n",
    "    print(df)\n"
   ],
   "outputs": [],
   "metadata": {}
  },
  {
   "cell_type": "code",
   "execution_count": 156,
   "source": [
    "# get normalized predictions\n",
    "bounds = get_bounds(n=30)\n",
    "pred_labels, upper_surf, lower_surf, acqs = acq(obs, train_y, bounds)\n",
    "\n",
    "# undo normalization\n",
    "raw_train_x, raw_train_y, raw_test_grid, raw_pred_labels, raw_upper_surf, raw_lower_surf = un_norm_all(x_min, x_max, train_x, train_y, test_grid, pred_labels, upper_surf, lower_surf)\n"
   ],
   "outputs": [],
   "metadata": {}
  },
  {
   "cell_type": "markdown",
   "source": [
    "### Save Predictions and Visualize "
   ],
   "metadata": {}
  },
  {
   "cell_type": "code",
   "execution_count": 157,
   "source": [
    "# undo normalization and save to csv\n",
    "pred_to_csv(acqs, raw_pred_labels, raw_test_grid)"
   ],
   "outputs": [
    {
     "output_type": "stream",
     "name": "stdout",
     "text": [
      "    Time(ms)  Energy density new cone (J/cm^2)  2 Qsw/(U+|D|) 1e6\n",
      "0   8.850208                          1.503079           2.444069\n",
      "1   9.319790                          1.503079           2.466100\n",
      "2  11.198114                          1.336823           2.488489\n",
      "3   8.380628                          0.838054           2.464598\n",
      "4   8.850208                          1.336823           2.452952\n",
      "5   2.276072                          3.498152           2.508361\n"
     ]
    }
   ],
   "metadata": {}
  },
  {
   "cell_type": "code",
   "execution_count": 158,
   "source": [
    "# visualize acquisition function results and confidence bound surfaces\n",
    "vis_pred(raw_train_x, raw_train_y, raw_test_grid, raw_pred_labels)\n",
    "vis_acq(raw_train_x, raw_train_y, raw_test_grid, raw_pred_labels, raw_upper_surf, raw_lower_surf, acqs)"
   ],
   "outputs": [
    {
     "output_type": "display_data",
     "data": {
      "application/vnd.plotly.v1+json": {
       "data": [
        {
         "name": "GP regression",
         "x": [
          2.276071548461914,
          2.745652675628662,
          3.2152340412139893,
          3.6848151683807373,
          4.1543965339660645,
          4.6239776611328125,
          5.093559265136719,
          5.563139915466309,
          6.032721519470215,
          6.502302646636963,
          6.971883773803711,
          7.441464900970459,
          7.911046028137207,
          8.380627632141113,
          8.850208282470703,
          9.31978988647461,
          9.789371490478516,
          10.258953094482422,
          10.728534698486328,
          11.198114395141602,
          11.667695999145508,
          12.137277603149414,
          12.60685920715332,
          13.076440811157227,
          13.5460205078125,
          14.015602111816406,
          14.485183715820312,
          14.954765319824219,
          15.424346923828125,
          15.893926620483398
         ],
         "y": [
          0.3392857015132904,
          0.5055418610572815,
          0.6717979907989502,
          0.8380541801452637,
          1.0043103694915771,
          1.1705665588378906,
          1.3368226289749146,
          1.503078818321228,
          1.669334888458252,
          1.8355910778045654,
          2.001847267150879,
          2.1681032180786133,
          2.334359645843506,
          2.5006155967712402,
          2.666872024536133,
          2.833127975463867,
          2.9993844032287598,
          3.165640354156494,
          3.3318967819213867,
          3.498152494430542,
          3.6644086837768555,
          3.830664873123169,
          3.9969210624694824,
          4.163177490234375,
          4.329433441162109,
          4.495689392089844,
          4.661945819854736,
          4.828201770782471,
          4.994458198547363,
          5.160714149475098
         ],
         "z": [
          [
           1.8848333358764648,
           1.8862724304199219,
           1.9468108415603638,
           1.948350191116333,
           1.8967714309692383,
           1.9390690326690674,
           2.096714496612549,
           2.2660510540008545,
           2.384352684020996,
           2.4494237899780273,
           2.483510971069336,
           2.5017642974853516,
           2.5114712715148926,
           2.5161707401275635,
           2.517765522003174,
           2.517401933670044,
           2.51583194732666,
           2.5135786533355713,
           2.5110058784484863,
           2.508361339569092,
           2.5058059692382812,
           2.503436803817749,
           2.501305103302002,
           2.4994306564331055,
           2.497812271118164,
           2.49643611907959,
           2.4952807426452637,
           2.494321346282959,
           2.493532657623291,
           2.492889881134033
          ],
          [
           1.421053171157837,
           1.113136887550354,
           2.097161054611206,
           2.041673183441162,
           1.2704885005950928,
           1.1369993686676025,
           1.897765874862671,
           2.46968412399292,
           2.507662773132324,
           2.532776117324829,
           2.5489470958709717,
           2.5578837394714355,
           2.5612564086914062,
           2.5605196952819824,
           2.5568854808807373,
           2.5513834953308105,
           2.5448737144470215,
           2.538029670715332,
           2.5313267707824707,
           2.5250627994537354,
           2.5194008350372314,
           2.5144076347351074,
           2.5100889205932617,
           2.5064120292663574,
           2.5033233165740967,
           2.5007588863372803,
           2.4986517429351807,
           2.496936082839966,
           2.4955506324768066,
           2.4944403171539307
          ],
          [
           1.8468408584594727,
           1.837167739868164,
           1.884535789489746,
           1.8987457752227783,
           1.888940453529358,
           1.972536563873291,
           2.1622657775878906,
           2.3629515171051025,
           2.5087060928344727,
           2.590641498565674,
           2.629364490509033,
           2.6442513465881348,
           2.646069049835205,
           2.639497756958008,
           2.627305030822754,
           2.6120455265045166,
           2.5958645343780518,
           2.5801842212677,
           2.565767526626587,
           2.5529375076293945,
           2.5417704582214355,
           2.5322141647338867,
           2.5241518020629883,
           2.5174355506896973,
           2.511904239654541,
           2.5073957443237305,
           2.503755807876587,
           2.5008413791656494,
           2.498525381088257,
           2.496697425842285
          ],
          [
           2.056842565536499,
           2.005523204803467,
           1.9741400480270386,
           1.9870835542678833,
           2.0729894638061523,
           2.2276694774627686,
           2.4198474884033203,
           2.6127209663391113,
           2.759812116622925,
           2.816110372543335,
           2.8086981773376465,
           2.8065743446350098,
           2.8065617084503174,
           2.7864835262298584,
           2.7518882751464844,
           2.7143054008483887,
           2.6791231632232666,
           2.647798538208008,
           2.6204347610473633,
           2.596804618835449,
           2.576634407043457,
           2.5596401691436768,
           2.545516014099121,
           2.5339319705963135,
           2.5245463848114014,
           2.517023801803589,
           2.5110504627227783,
           2.50634503364563,
           2.5026631355285645,
           2.4997987747192383
          ],
          [
           2.158292293548584,
           2.0732295513153076,
           1.96006178855896,
           1.8069920539855957,
           2.023975372314453,
           2.3260903358459473,
           2.6161701679229736,
           2.9194278717041016,
           3.262089252471924,
           3.435014247894287,
           2.81614089012146,
           2.995194435119629,
           3.1005699634552,
           2.997800827026367,
           2.918735980987549,
           2.854085922241211,
           2.7979576587677,
           2.747645854949951,
           2.7024786472320557,
           2.662637948989868,
           2.6283645629882812,
           2.5996129512786865,
           2.576018810272217,
           2.5570008754730225,
           2.5418860912323,
           2.5300025939941406,
           2.5207366943359375,
           2.5135581493377686,
           2.5080249309539795,
           2.5037777423858643
          ],
          [
           2.3118908405303955,
           2.286303997039795,
           2.27695894241333,
           2.3097496032714844,
           2.4073097705841064,
           2.558654308319092,
           2.7314586639404297,
           2.8950538635253906,
           3.015437126159668,
           3.062380075454712,
           3.0647361278533936,
           3.0815083980560303,
           3.1070542335510254,
           3.1127820014953613,
           3.0909712314605713,
           3.0439209938049316,
           2.977604627609253,
           2.9017374515533447,
           2.8262667655944824,
           2.7580041885375977,
           2.700038194656372,
           2.652787923812866,
           2.6152591705322266,
           2.585930585861206,
           2.5632362365722656,
           2.5457823276519775,
           2.532412052154541,
           2.5221989154815674,
           2.514416456222534,
           2.5084993839263916
          ],
          [
           2.4509427547454834,
           2.4706032276153564,
           2.509650945663452,
           2.574984550476074,
           2.669461965560913,
           2.7861804962158203,
           2.9030675888061523,
           2.989617347717285,
           3.038970947265625,
           3.0749452114105225,
           3.123599052429199,
           3.2009005546569824,
           3.3083126544952393,
           3.423305034637451,
           3.4879848957061768,
           3.441617727279663,
           3.30251407623291,
           3.1382789611816406,
           2.9905128479003906,
           2.8711185455322266,
           2.7789063453674316,
           2.7089314460754395,
           2.656067371368408,
           2.6160736083984375,
           2.5857205390930176,
           2.5626220703125,
           2.5450212955474854,
           2.531613349914551,
           2.5214149951934814,
           2.513676643371582
          ],
          [
           2.522473096847534,
           2.555680513381958,
           2.60653018951416,
           2.6813313961029053,
           2.7877776622772217,
           2.935555934906006,
           3.1375930309295654,
           3.2128915786743164,
           3.105236768722534,
           3.0659899711608887,
           3.094566822052002,
           3.1997852325439453,
           3.3999199867248535,
           3.7228879928588867,
           4.206124305725098,
           3.985016107559204,
           3.5607879161834717,
           3.267542839050293,
           3.0647990703582764,
           2.9226737022399902,
           2.820434808731079,
           2.744560480117798,
           2.6866843700408936,
           2.6417441368103027,
           2.606593132019043,
           2.579113721847534,
           2.5577404499053955,
           2.541234016418457,
           2.528581142425537,
           2.5189507007598877
          ],
          [
           2.5358574390411377,
           2.561279296875,
           2.596130132675171,
           2.641745090484619,
           2.697436809539795,
           2.7571187019348145,
           2.804474115371704,
           2.818082809448242,
           2.7978384494781494,
           2.7688148021698,
           2.755533218383789,
           2.7740485668182373,
           2.832895517349243,
           2.924476385116577,
           3.008910655975342,
           3.035001277923584,
           3.006179094314575,
           2.959944486618042,
           2.913455009460449,
           2.866605281829834,
           2.816828966140747,
           2.7648661136627197,
           2.7141313552856445,
           2.668057680130005,
           2.6286163330078125,
           2.5962846279144287,
           2.570585250854492,
           2.5505993366241455,
           2.5352985858917236,
           2.5237181186676025
          ],
          [
           2.519892930984497,
           2.5308408737182617,
           2.5433108806610107,
           2.555816650390625,
           2.565398693084717,
           2.5672731399536133,
           2.555222749710083,
           2.523094654083252,
           2.4665040969848633,
           2.383007526397705,
           2.271121025085449,
           2.1316792964935303,
           1.9767265319824219,
           1.8503196239471436,
           1.8405463695526123,
           2.017965316772461,
           2.3330020904541016,
           2.6218254566192627,
           2.8036181926727295,
           2.89215350151062,
           2.8904175758361816,
           2.8357954025268555,
           2.7678310871124268,
           2.7051186561584473,
           2.653198719024658,
           2.612316846847534,
           2.580976963043213,
           2.5573294162750244,
           2.5396649837493896,
           2.526559829711914
          ],
          [
           2.4999163150787354,
           2.500454902648926,
           2.4988882541656494,
           2.493391513824463,
           2.481274366378784,
           2.4588124752044678,
           2.4211010932922363,
           2.3618409633636475,
           2.2728402614593506,
           2.143009662628174,
           1.956771731376648,
           1.6919612884521484,
           1.317337989807129,
           0.789740800857544,
           0.3664991855621338,
           0.6116282939910889,
           2.044093132019043,
           2.8685293197631836,
           2.80846905708313,
           3.2452645301818848,
           3.050180196762085,
           2.9046006202697754,
           2.7962679862976074,
           2.715834617614746,
           2.6562552452087402,
           2.6122238636016846,
           2.579752206802368,
           2.555851936340332,
           2.5382907390594482,
           2.525406837463379
          ],
          [
           2.4868249893188477,
           2.482670307159424,
           2.4756226539611816,
           2.4642200469970703,
           2.4464714527130127,
           2.4197440147399902,
           2.380650043487549,
           2.3249521255493164,
           2.2475688457489014,
           2.1429312229156494,
           2.006380319595337,
           1.8383204936981201,
           1.6547536849975586,
           1.507157325744629,
           1.490013837814331,
           1.6761555671691895,
           2.0157454013824463,
           2.3452062606811523,
           2.576033592224121,
           2.7117857933044434,
           2.752758264541626,
           2.7336955070495605,
           2.6933341026306152,
           2.651294708251953,
           2.6145670413970947,
           2.584719657897949,
           2.5613298416137695,
           2.543376922607422,
           2.5297749042510986,
           2.5195584297180176
          ],
          [
           2.481546640396118,
           2.47660231590271,
           2.4693126678466797,
           2.4587926864624023,
           2.443936824798584,
           2.423427104949951,
           2.395796537399292,
           2.3596034049987793,
           2.3138012886047363,
           2.2584517002105713,
           2.195915937423706,
           2.13250732421875,
           2.0799238681793213,
           2.0545082092285156,
           2.071725368499756,
           2.1364428997039795,
           2.236377716064453,
           2.3470702171325684,
           2.4451277256011963,
           2.517050266265869,
           2.5597732067108154,
           2.5777831077575684,
           2.5789990425109863,
           2.5709898471832275,
           2.559171438217163,
           2.546748399734497,
           2.5353264808654785,
           2.525542974472046,
           2.5175135135650635,
           2.5111050605773926
          ],
          [
           2.4813284873962402,
           2.4773707389831543,
           2.4719324111938477,
           2.4645981788635254,
           2.4549102783203125,
           2.4424140453338623,
           2.4267423152923584,
           2.4077529907226562,
           2.3857357501983643,
           2.361677646636963,
           2.337531566619873,
           2.3163528442382812,
           2.302067995071411,
           2.2986621856689453,
           2.3088111877441406,
           2.3324999809265137,
           2.366503953933716,
           2.4052770137786865,
           2.442824363708496,
           2.47448992729187,
           2.4978585243225098,
           2.5126900672912598,
           2.5202417373657227,
           2.5224318504333496,
           2.5211777687072754,
           2.5180389881134033,
           2.5141167640686035,
           2.510103940963745,
           2.5063843727111816,
           2.5031347274780273
          ],
          [
           2.4832632541656494,
           2.4806456565856934,
           2.477233409881592,
           2.4728715419769287,
           2.4674196243286133,
           2.4607818126678467,
           2.4529519081115723,
           2.444068670272827,
           2.434478521347046,
           2.4247894287109375,
           2.4158871173858643,
           2.408881664276123,
           2.404949903488159,
           2.405080556869507,
           2.409777879714966,
           2.418832778930664,
           2.431286334991455,
           2.4456260204315186,
           2.4601542949676514,
           2.4733786582946777,
           2.4842820167541504,
           2.492414951324463,
           2.4978229999542236,
           2.500885009765625,
           2.5021347999572754,
           2.5021214485168457,
           2.50132155418396,
           2.5001049041748047,
           2.4987313747406006,
           2.497368097305298
          ],
          [
           2.4855284690856934,
           2.483987808227539,
           2.4820659160614014,
           2.479717493057251,
           2.4769155979156494,
           2.473665714263916,
           2.4700214862823486,
           2.4661004543304443,
           2.4620978832244873,
           2.45828914642334,
           2.4550178050994873,
           2.452659845352173,
           2.451568603515625,
           2.452003002166748,
           2.4540600776672363,
           2.4576327800750732,
           2.4624128341674805,
           2.46794056892395,
           2.4736924171447754,
           2.479175329208374,
           2.4840049743652344,
           2.487946033477783,
           2.4909160137176514,
           2.4929566383361816,
           2.4941930770874023,
           2.4947900772094727,
           2.4949188232421875,
           2.4947335720062256,
           2.4943602085113525,
           2.49389386177063
          ],
          [
           2.487351655960083,
           2.4865102767944336,
           2.485499382019043,
           2.4843103885650635,
           2.4829468727111816,
           2.4814279079437256,
           2.4797933101654053,
           2.4781081676483154,
           2.476461887359619,
           2.4749672412872314,
           2.4737508296966553,
           2.4729394912719727,
           2.472642183303833,
           2.472930431365967,
           2.4738214015960693,
           2.4752695560455322,
           2.477170705795288,
           2.4793739318847656,
           2.4817070960998535,
           2.4840004444122314,
           2.4861106872558594,
           2.487935781478882,
           2.489419460296631,
           2.490549087524414,
           2.4913456439971924,
           2.4918534755706787,
           2.492126703262329,
           2.492222547531128,
           2.4921927452087402,
           2.492081642150879
          ],
          [
           2.4885761737823486,
           2.4881339073181152,
           2.487619638442993,
           2.487034797668457,
           2.4863860607147217,
           2.485687732696533,
           2.484961748123169,
           2.484238624572754,
           2.4835574626922607,
           2.4829623699188232,
           2.4825000762939453,
           2.4822144508361816,
           2.482140064239502,
           2.4822983741760254,
           2.4826910495758057,
           2.483299970626831,
           2.4840879440307617,
           2.4850029945373535,
           2.4859848022460938,
           2.4869723320007324,
           2.4879117012023926,
           2.4887592792510986,
           2.4894871711730957,
           2.4900810718536377,
           2.490540027618408,
           2.490873336791992,
           2.491096258163452,
           2.491227865219116,
           2.4912877082824707,
           2.4912939071655273
          ],
          [
           2.4892866611480713,
           2.4890480041503906,
           2.488778829574585,
           2.488481283187866,
           2.4881608486175537,
           2.487825632095337,
           2.487487316131592,
           2.4871599674224854,
           2.486860752105713,
           2.4866082668304443,
           2.4864203929901123,
           2.486313819885254,
           2.4863011837005615,
           2.48638916015625,
           2.4865782260894775,
           2.486861228942871,
           2.4872241020202637,
           2.487647533416748,
           2.4881086349487305,
           2.48858380317688,
           2.4890501499176025,
           2.4894888401031494,
           2.489884614944458,
           2.490227460861206,
           2.4905126094818115,
           2.490739345550537,
           2.490910053253174,
           2.491029739379883,
           2.491105079650879,
           2.491142988204956
          ],
          [
           2.489605665206909,
           2.489450216293335,
           2.4892780780792236,
           2.489091396331787,
           2.488893985748291,
           2.4886910915374756,
           2.4884893894195557,
           2.488297700881958,
           2.4881255626678467,
           2.4879825115203857,
           2.4878790378570557,
           2.487823963165283,
           2.4878242015838623,
           2.487884283065796,
           2.4880056381225586,
           2.4881856441497803,
           2.4884190559387207,
           2.488696575164795,
           2.4890072345733643,
           2.4893386363983154,
           2.489677667617798,
           2.490011215209961,
           2.490328311920166,
           2.490618944168091,
           2.490875244140625,
           2.4910922050476074,
           2.4912662506103516,
           2.49139666557312,
           2.4914846420288086,
           2.491532802581787
          ],
          [
           2.489610195159912,
           2.4894535541534424,
           2.489278793334961,
           2.4890873432159424,
           2.488882541656494,
           2.4886693954467773,
           2.4884543418884277,
           2.488246202468872,
           2.4880545139312744,
           2.4878907203674316,
           2.4877662658691406,
           2.4876925945281982,
           2.4876797199249268,
           2.4877350330352783,
           2.487863540649414,
           2.4880661964416504,
           2.488340139389038,
           2.488678455352783,
           2.4890706539154053,
           2.4895031452178955,
           2.4899606704711914,
           2.4904263019561768,
           2.490882396697998,
           2.4913125038146973,
           2.491701364517212,
           2.4920358657836914,
           2.492306709289551,
           2.4925076961517334,
           2.4926366806030273,
           2.4926958084106445
          ],
          [
           2.4893088340759277,
           2.4890692234039307,
           2.4887940883636475,
           2.4884839057922363,
           2.4881415367126465,
           2.4877731800079346,
           2.4873886108398438,
           2.487001657485962,
           2.486630439758301,
           2.4862964153289795,
           2.486023426055908,
           2.4858362674713135,
           2.4857585430145264,
           2.4858100414276123,
           2.4860048294067383,
           2.486349105834961,
           2.4868414402008057,
           2.487471103668213,
           2.4882194995880127,
           2.489060878753662,
           2.489964246749878,
           2.4908947944641113,
           2.4918153285980225,
           2.4926884174346924,
           2.493478775024414,
           2.494155168533325,
           2.4946932792663574,
           2.495077133178711,
           2.4953012466430664,
           2.4953691959381104
          ],
          [
           2.48864483833313,
           2.4882125854492188,
           2.4877004623413086,
           2.4871044158935547,
           2.486424684524536,
           2.4856679439544678,
           2.484849452972412,
           2.483995199203491,
           2.483142137527466,
           2.4823386669158936,
           2.481642484664917,
           2.48111629486084,
           2.4808220863342285,
           2.480814218521118,
           2.481133222579956,
           2.481799364089966,
           2.482811450958252,
           2.4841465950012207,
           2.4857616424560547,
           2.487598419189453,
           2.489586353302002,
           2.4916458129882812,
           2.4936914443969727,
           2.4956350326538086,
           2.4973907470703125,
           2.498879909515381,
           2.5000393390655518,
           2.5008277893066406,
           2.5012311935424805,
           2.50126314163208
          ],
          [
           2.487521171569824,
           2.486731767654419,
           2.485767126083374,
           2.484606981277466,
           2.4832379817962646,
           2.481658935546875,
           2.479886293411255,
           2.4779629707336426,
           2.475961923599243,
           2.473991632461548,
           2.4721920490264893,
           2.4707272052764893,
           2.4697678089141846,
           2.469468355178833,
           2.469945192337036,
           2.4712576866149902,
           2.4734015464782715,
           2.476313352584839,
           2.4798829555511475,
           2.483969211578369,
           2.488412380218506,
           2.4930379390716553,
           2.497657537460327,
           2.5020687580108643,
           2.5060601234436035,
           2.5094261169433594,
           2.5119917392730713,
           2.513639450073242,
           2.5143301486968994,
           2.514110803604126
          ],
          [
           2.4858593940734863,
           2.484483242034912,
           2.4827468395233154,
           2.4805853366851807,
           2.477937698364258,
           2.474759578704834,
           2.4710378646850586,
           2.466813087463379,
           2.4622035026550293,
           2.457428455352783,
           2.4528186321258545,
           2.448805093765259,
           2.4458744525909424,
           2.444492816925049,
           2.4450135231018066,
           2.447604179382324,
           2.4522204399108887,
           2.4586408138275146,
           2.466538667678833,
           2.475555896759033,
           2.485349655151367,
           2.495589017868042,
           2.505920886993408,
           2.5159244537353516,
           2.525087594985962,
           2.532841920852661,
           2.538649320602417,
           2.542125940322876,
           2.543142557144165,
           2.5418615341186523
          ],
          [
           2.4837112426757812,
           2.481492042541504,
           2.478599786758423,
           2.474867582321167,
           2.4701106548309326,
           2.464141607284546,
           2.456800937652588,
           2.4480068683624268,
           2.437831401824951,
           2.4265997409820557,
           2.414992094039917,
           2.4041008949279785,
           2.395366907119751,
           2.3903253078460693,
           2.3901968002319336,
           2.3954885005950928,
           2.4058594703674316,
           2.420344352722168,
           2.437778949737549,
           2.457179546356201,
           2.4779088497161865,
           2.499607801437378,
           2.52195405960083,
           2.5443406105041504,
           2.5656161308288574,
           2.584073781967163,
           2.597804069519043,
           2.605323553085327,
           2.606132984161377,
           2.600886821746826
          ],
          [
           2.4813921451568604,
           2.478170871734619,
           2.4738476276397705,
           2.4680769443511963,
           2.460430145263672,
           2.4503915309906006,
           2.43738055229187,
           2.4208083152770996,
           2.400217056274414,
           2.3755409717559814,
           2.3475427627563477,
           2.3184080123901367,
           2.2922263145446777,
           2.27465558052063,
           2.2710015773773193,
           2.283325672149658,
           2.3092198371887207,
           2.3436830043792725,
           2.382038116455078,
           2.421562671661377,
           2.4616246223449707,
           2.5030930042266846,
           2.547452926635742,
           2.5955159664154053,
           2.645662546157837,
           2.692539930343628,
           2.7280561923980713,
           2.745218276977539,
           2.7420268058776855,
           2.7220757007598877
          ],
          [
           2.4795117378234863,
           2.4754157066345215,
           2.4697985649108887,
           2.462108612060547,
           2.4516046047210693,
           2.4372994899749756,
           2.4179012775421143,
           2.391758441925049,
           2.3568575382232666,
           2.3109703063964844,
           2.252208709716797,
           2.180629014968872,
           2.1021885871887207,
           2.0358636379241943,
           2.014378309249878,
           2.0543670654296875,
           2.132744550704956,
           2.219259738922119,
           2.2993125915527344,
           2.3700671195983887,
           2.434140205383301,
           2.4969100952148438,
           2.5664210319519043,
           2.6540961265563965,
           2.769665241241455,
           2.9026107788085938,
           3.01166033744812,
           3.0519959926605225,
           3.020082950592041,
           2.944230079650879
          ],
          [
           2.4787485599517822,
           2.4742817878723145,
           2.4681057929992676,
           2.4595656394958496,
           2.4477570056915283,
           2.4314286708831787,
           2.408851146697998,
           2.3776321411132812,
           2.334465503692627,
           2.2747802734375,
           2.1922569274902344,
           2.0781657695770264,
           1.9204771518707275,
           1.7027766704559326,
           1.4821057319641113,
           1.7625761032104492,
           1.9731066226959229,
           2.1290855407714844,
           2.2468409538269043,
           2.3388075828552246,
           2.4147210121154785,
           2.4826247692108154,
           2.5497307777404785,
           2.6233410835266113,
           2.793875217437744,
           3.134237289428711,
           3.541321277618408,
           3.515810489654541,
           3.412533760070801,
           3.167917490005493
          ],
          [
           2.479421377182007,
           2.475281000137329,
           2.469597816467285,
           2.4618077278137207,
           2.451151132583618,
           2.4366116523742676,
           2.4168500900268555,
           2.3901376724243164,
           2.3543331623077393,
           2.306994915008545,
           2.245887517929077,
           2.1705517768859863,
           2.086488723754883,
           2.013620376586914,
           1.9893112182617188,
           2.0334668159484863,
           2.1184804439544678,
           2.2102599143981934,
           2.2937731742858887,
           2.366708278656006,
           2.4321670532226562,
           2.4958794116973877,
           2.5663392543792725,
           2.656212329864502,
           2.7777085304260254,
           2.9208123683929443,
           3.039412260055542,
           3.081817626953125,
           3.0452661514282227,
           2.962531566619873
          ]
         ],
         "type": "surface"
        },
        {
         "marker": {
          "color": "darkgreen"
         },
         "mode": "markers",
         "name": "training data",
         "x": [
          2.7300000190734863,
          3.4000000953674316,
          3.7899999618530273,
          6.440000057220459,
          5.360000133514404,
          8.989999771118164,
          8.800000190734863,
          14.670000076293945,
          5.239999771118164,
          14.889999389648438,
          10.130000114440918,
          4.510000228881836,
          5.369999885559082,
          4.880000114440918,
          6.760000228881836,
          7.769999980926514,
          8.729999542236328,
          9.380000114440918,
          10.479999542236328,
          11.010000228881836,
          14.709999084472656,
          15.439998626708984,
          13.369998931884766
         ],
         "y": [
          0.5,
          0.5,
          1,
          1,
          1.5,
          1.5,
          5,
          5,
          0.5,
          5,
          2,
          0.5,
          0.5,
          0.5,
          1,
          1,
          2,
          2,
          2,
          2,
          5,
          5,
          5
         ],
         "z": [
          0.8730257153511047,
          2.6772446632385254,
          1.6990152597427368,
          3.8050527572631836,
          3.3348562717437744,
          4.535152912139893,
          1.3625102043151855,
          3.8412907123565674,
          1.2013570070266724,
          3.5136520862579346,
          3.4708714485168457,
          0.26329824328422546,
          2.7753403186798096,
          2.591306209564209,
          2.579984426498413,
          3.173818588256836,
          0.13150499761104584,
          0.45116370916366577,
          2.1266398429870605,
          3.468212842941284,
          3.685852527618408,
          3.445655584335327,
          2.6515469551086426
         ],
         "type": "scatter3d"
        }
       ],
       "layout": {
        "template": {
         "data": {
          "histogram2dcontour": [
           {
            "type": "histogram2dcontour",
            "colorbar": {
             "outlinewidth": 0,
             "ticks": ""
            },
            "colorscale": [
             [
              0,
              "#0d0887"
             ],
             [
              0.1111111111111111,
              "#46039f"
             ],
             [
              0.2222222222222222,
              "#7201a8"
             ],
             [
              0.3333333333333333,
              "#9c179e"
             ],
             [
              0.4444444444444444,
              "#bd3786"
             ],
             [
              0.5555555555555556,
              "#d8576b"
             ],
             [
              0.6666666666666666,
              "#ed7953"
             ],
             [
              0.7777777777777778,
              "#fb9f3a"
             ],
             [
              0.8888888888888888,
              "#fdca26"
             ],
             [
              1,
              "#f0f921"
             ]
            ]
           }
          ],
          "choropleth": [
           {
            "type": "choropleth",
            "colorbar": {
             "outlinewidth": 0,
             "ticks": ""
            }
           }
          ],
          "histogram2d": [
           {
            "type": "histogram2d",
            "colorbar": {
             "outlinewidth": 0,
             "ticks": ""
            },
            "colorscale": [
             [
              0,
              "#0d0887"
             ],
             [
              0.1111111111111111,
              "#46039f"
             ],
             [
              0.2222222222222222,
              "#7201a8"
             ],
             [
              0.3333333333333333,
              "#9c179e"
             ],
             [
              0.4444444444444444,
              "#bd3786"
             ],
             [
              0.5555555555555556,
              "#d8576b"
             ],
             [
              0.6666666666666666,
              "#ed7953"
             ],
             [
              0.7777777777777778,
              "#fb9f3a"
             ],
             [
              0.8888888888888888,
              "#fdca26"
             ],
             [
              1,
              "#f0f921"
             ]
            ]
           }
          ],
          "heatmap": [
           {
            "type": "heatmap",
            "colorbar": {
             "outlinewidth": 0,
             "ticks": ""
            },
            "colorscale": [
             [
              0,
              "#0d0887"
             ],
             [
              0.1111111111111111,
              "#46039f"
             ],
             [
              0.2222222222222222,
              "#7201a8"
             ],
             [
              0.3333333333333333,
              "#9c179e"
             ],
             [
              0.4444444444444444,
              "#bd3786"
             ],
             [
              0.5555555555555556,
              "#d8576b"
             ],
             [
              0.6666666666666666,
              "#ed7953"
             ],
             [
              0.7777777777777778,
              "#fb9f3a"
             ],
             [
              0.8888888888888888,
              "#fdca26"
             ],
             [
              1,
              "#f0f921"
             ]
            ]
           }
          ],
          "heatmapgl": [
           {
            "type": "heatmapgl",
            "colorbar": {
             "outlinewidth": 0,
             "ticks": ""
            },
            "colorscale": [
             [
              0,
              "#0d0887"
             ],
             [
              0.1111111111111111,
              "#46039f"
             ],
             [
              0.2222222222222222,
              "#7201a8"
             ],
             [
              0.3333333333333333,
              "#9c179e"
             ],
             [
              0.4444444444444444,
              "#bd3786"
             ],
             [
              0.5555555555555556,
              "#d8576b"
             ],
             [
              0.6666666666666666,
              "#ed7953"
             ],
             [
              0.7777777777777778,
              "#fb9f3a"
             ],
             [
              0.8888888888888888,
              "#fdca26"
             ],
             [
              1,
              "#f0f921"
             ]
            ]
           }
          ],
          "contourcarpet": [
           {
            "type": "contourcarpet",
            "colorbar": {
             "outlinewidth": 0,
             "ticks": ""
            }
           }
          ],
          "contour": [
           {
            "type": "contour",
            "colorbar": {
             "outlinewidth": 0,
             "ticks": ""
            },
            "colorscale": [
             [
              0,
              "#0d0887"
             ],
             [
              0.1111111111111111,
              "#46039f"
             ],
             [
              0.2222222222222222,
              "#7201a8"
             ],
             [
              0.3333333333333333,
              "#9c179e"
             ],
             [
              0.4444444444444444,
              "#bd3786"
             ],
             [
              0.5555555555555556,
              "#d8576b"
             ],
             [
              0.6666666666666666,
              "#ed7953"
             ],
             [
              0.7777777777777778,
              "#fb9f3a"
             ],
             [
              0.8888888888888888,
              "#fdca26"
             ],
             [
              1,
              "#f0f921"
             ]
            ]
           }
          ],
          "surface": [
           {
            "type": "surface",
            "colorbar": {
             "outlinewidth": 0,
             "ticks": ""
            },
            "colorscale": [
             [
              0,
              "#0d0887"
             ],
             [
              0.1111111111111111,
              "#46039f"
             ],
             [
              0.2222222222222222,
              "#7201a8"
             ],
             [
              0.3333333333333333,
              "#9c179e"
             ],
             [
              0.4444444444444444,
              "#bd3786"
             ],
             [
              0.5555555555555556,
              "#d8576b"
             ],
             [
              0.6666666666666666,
              "#ed7953"
             ],
             [
              0.7777777777777778,
              "#fb9f3a"
             ],
             [
              0.8888888888888888,
              "#fdca26"
             ],
             [
              1,
              "#f0f921"
             ]
            ]
           }
          ],
          "mesh3d": [
           {
            "type": "mesh3d",
            "colorbar": {
             "outlinewidth": 0,
             "ticks": ""
            }
           }
          ],
          "scatter": [
           {
            "fillpattern": {
             "fillmode": "overlay",
             "size": 10,
             "solidity": 0.2
            },
            "type": "scatter"
           }
          ],
          "parcoords": [
           {
            "type": "parcoords",
            "line": {
             "colorbar": {
              "outlinewidth": 0,
              "ticks": ""
             }
            }
           }
          ],
          "scatterpolargl": [
           {
            "type": "scatterpolargl",
            "marker": {
             "colorbar": {
              "outlinewidth": 0,
              "ticks": ""
             }
            }
           }
          ],
          "bar": [
           {
            "error_x": {
             "color": "#2a3f5f"
            },
            "error_y": {
             "color": "#2a3f5f"
            },
            "marker": {
             "line": {
              "color": "#E5ECF6",
              "width": 0.5
             },
             "pattern": {
              "fillmode": "overlay",
              "size": 10,
              "solidity": 0.2
             }
            },
            "type": "bar"
           }
          ],
          "scattergeo": [
           {
            "type": "scattergeo",
            "marker": {
             "colorbar": {
              "outlinewidth": 0,
              "ticks": ""
             }
            }
           }
          ],
          "scatterpolar": [
           {
            "type": "scatterpolar",
            "marker": {
             "colorbar": {
              "outlinewidth": 0,
              "ticks": ""
             }
            }
           }
          ],
          "histogram": [
           {
            "marker": {
             "pattern": {
              "fillmode": "overlay",
              "size": 10,
              "solidity": 0.2
             }
            },
            "type": "histogram"
           }
          ],
          "scattergl": [
           {
            "type": "scattergl",
            "marker": {
             "colorbar": {
              "outlinewidth": 0,
              "ticks": ""
             }
            }
           }
          ],
          "scatter3d": [
           {
            "type": "scatter3d",
            "line": {
             "colorbar": {
              "outlinewidth": 0,
              "ticks": ""
             }
            },
            "marker": {
             "colorbar": {
              "outlinewidth": 0,
              "ticks": ""
             }
            }
           }
          ],
          "scattermapbox": [
           {
            "type": "scattermapbox",
            "marker": {
             "colorbar": {
              "outlinewidth": 0,
              "ticks": ""
             }
            }
           }
          ],
          "scatterternary": [
           {
            "type": "scatterternary",
            "marker": {
             "colorbar": {
              "outlinewidth": 0,
              "ticks": ""
             }
            }
           }
          ],
          "scattercarpet": [
           {
            "type": "scattercarpet",
            "marker": {
             "colorbar": {
              "outlinewidth": 0,
              "ticks": ""
             }
            }
           }
          ],
          "carpet": [
           {
            "aaxis": {
             "endlinecolor": "#2a3f5f",
             "gridcolor": "white",
             "linecolor": "white",
             "minorgridcolor": "white",
             "startlinecolor": "#2a3f5f"
            },
            "baxis": {
             "endlinecolor": "#2a3f5f",
             "gridcolor": "white",
             "linecolor": "white",
             "minorgridcolor": "white",
             "startlinecolor": "#2a3f5f"
            },
            "type": "carpet"
           }
          ],
          "table": [
           {
            "cells": {
             "fill": {
              "color": "#EBF0F8"
             },
             "line": {
              "color": "white"
             }
            },
            "header": {
             "fill": {
              "color": "#C8D4E3"
             },
             "line": {
              "color": "white"
             }
            },
            "type": "table"
           }
          ],
          "barpolar": [
           {
            "marker": {
             "line": {
              "color": "#E5ECF6",
              "width": 0.5
             },
             "pattern": {
              "fillmode": "overlay",
              "size": 10,
              "solidity": 0.2
             }
            },
            "type": "barpolar"
           }
          ],
          "pie": [
           {
            "automargin": true,
            "type": "pie"
           }
          ]
         },
         "layout": {
          "autotypenumbers": "strict",
          "colorway": [
           "#636efa",
           "#EF553B",
           "#00cc96",
           "#ab63fa",
           "#FFA15A",
           "#19d3f3",
           "#FF6692",
           "#B6E880",
           "#FF97FF",
           "#FECB52"
          ],
          "font": {
           "color": "#2a3f5f"
          },
          "hovermode": "closest",
          "hoverlabel": {
           "align": "left"
          },
          "paper_bgcolor": "white",
          "plot_bgcolor": "#E5ECF6",
          "polar": {
           "bgcolor": "#E5ECF6",
           "angularaxis": {
            "gridcolor": "white",
            "linecolor": "white",
            "ticks": ""
           },
           "radialaxis": {
            "gridcolor": "white",
            "linecolor": "white",
            "ticks": ""
           }
          },
          "ternary": {
           "bgcolor": "#E5ECF6",
           "aaxis": {
            "gridcolor": "white",
            "linecolor": "white",
            "ticks": ""
           },
           "baxis": {
            "gridcolor": "white",
            "linecolor": "white",
            "ticks": ""
           },
           "caxis": {
            "gridcolor": "white",
            "linecolor": "white",
            "ticks": ""
           }
          },
          "coloraxis": {
           "colorbar": {
            "outlinewidth": 0,
            "ticks": ""
           }
          },
          "colorscale": {
           "sequential": [
            [
             0,
             "#0d0887"
            ],
            [
             0.1111111111111111,
             "#46039f"
            ],
            [
             0.2222222222222222,
             "#7201a8"
            ],
            [
             0.3333333333333333,
             "#9c179e"
            ],
            [
             0.4444444444444444,
             "#bd3786"
            ],
            [
             0.5555555555555556,
             "#d8576b"
            ],
            [
             0.6666666666666666,
             "#ed7953"
            ],
            [
             0.7777777777777778,
             "#fb9f3a"
            ],
            [
             0.8888888888888888,
             "#fdca26"
            ],
            [
             1,
             "#f0f921"
            ]
           ],
           "sequentialminus": [
            [
             0,
             "#0d0887"
            ],
            [
             0.1111111111111111,
             "#46039f"
            ],
            [
             0.2222222222222222,
             "#7201a8"
            ],
            [
             0.3333333333333333,
             "#9c179e"
            ],
            [
             0.4444444444444444,
             "#bd3786"
            ],
            [
             0.5555555555555556,
             "#d8576b"
            ],
            [
             0.6666666666666666,
             "#ed7953"
            ],
            [
             0.7777777777777778,
             "#fb9f3a"
            ],
            [
             0.8888888888888888,
             "#fdca26"
            ],
            [
             1,
             "#f0f921"
            ]
           ],
           "diverging": [
            [
             0,
             "#8e0152"
            ],
            [
             0.1,
             "#c51b7d"
            ],
            [
             0.2,
             "#de77ae"
            ],
            [
             0.3,
             "#f1b6da"
            ],
            [
             0.4,
             "#fde0ef"
            ],
            [
             0.5,
             "#f7f7f7"
            ],
            [
             0.6,
             "#e6f5d0"
            ],
            [
             0.7,
             "#b8e186"
            ],
            [
             0.8,
             "#7fbc41"
            ],
            [
             0.9,
             "#4d9221"
            ],
            [
             1,
             "#276419"
            ]
           ]
          },
          "xaxis": {
           "gridcolor": "white",
           "linecolor": "white",
           "ticks": "",
           "title": {
            "standoff": 15
           },
           "zerolinecolor": "white",
           "automargin": true,
           "zerolinewidth": 2
          },
          "yaxis": {
           "gridcolor": "white",
           "linecolor": "white",
           "ticks": "",
           "title": {
            "standoff": 15
           },
           "zerolinecolor": "white",
           "automargin": true,
           "zerolinewidth": 2
          },
          "scene": {
           "xaxis": {
            "backgroundcolor": "#E5ECF6",
            "gridcolor": "white",
            "linecolor": "white",
            "showbackground": true,
            "ticks": "",
            "zerolinecolor": "white",
            "gridwidth": 2
           },
           "yaxis": {
            "backgroundcolor": "#E5ECF6",
            "gridcolor": "white",
            "linecolor": "white",
            "showbackground": true,
            "ticks": "",
            "zerolinecolor": "white",
            "gridwidth": 2
           },
           "zaxis": {
            "backgroundcolor": "#E5ECF6",
            "gridcolor": "white",
            "linecolor": "white",
            "showbackground": true,
            "ticks": "",
            "zerolinecolor": "white",
            "gridwidth": 2
           }
          },
          "shapedefaults": {
           "line": {
            "color": "#2a3f5f"
           }
          },
          "annotationdefaults": {
           "arrowcolor": "#2a3f5f",
           "arrowhead": 0,
           "arrowwidth": 1
          },
          "geo": {
           "bgcolor": "white",
           "landcolor": "#E5ECF6",
           "subunitcolor": "white",
           "showland": true,
           "showlakes": true,
           "lakecolor": "white"
          },
          "title": {
           "x": 0.05
          },
          "mapbox": {
           "style": "light"
          }
         }
        },
        "legend": {
         "orientation": "h",
         "yanchor": "top",
         "y": 1.02,
         "xanchor": "left",
         "x": 1
        },
        "margin": {
         "r": 20,
         "l": 10,
         "b": 10,
         "t": 10
        },
        "width": 1000,
        "height": 800,
        "scene": {
         "xaxis": {
          "title": {
           "text": "Energy density new cone (J/cm^2)"
          }
         },
         "yaxis": {
          "title": {
           "text": "Pulse Width (msec)"
          }
         },
         "zaxis": {
          "title": {
           "text": "2 Qsw/(U+|D|) 1e6"
          }
         },
         "camera": {
          "up": {
           "x": 0,
           "y": 0,
           "z": 1
          },
          "center": {
           "x": 0,
           "y": 0,
           "z": 0
          },
          "eye": {
           "x": -2,
           "y": -2.5,
           "z": 1.75
          }
         }
        }
       },
       "config": {
        "plotlyServerURL": "https://plot.ly"
       }
      }
     },
     "metadata": {}
    },
    {
     "output_type": "display_data",
     "data": {
      "application/vnd.plotly.v1+json": {
       "data": [
        {
         "opacity": 0.5,
         "showscale": false,
         "x": [
          2.276071548461914,
          2.745652675628662,
          3.2152340412139893,
          3.6848151683807373,
          4.1543965339660645,
          4.6239776611328125,
          5.093559265136719,
          5.563139915466309,
          6.032721519470215,
          6.502302646636963,
          6.971883773803711,
          7.441464900970459,
          7.911046028137207,
          8.380627632141113,
          8.850208282470703,
          9.31978988647461,
          9.789371490478516,
          10.258953094482422,
          10.728534698486328,
          11.198114395141602,
          11.667695999145508,
          12.137277603149414,
          12.60685920715332,
          13.076440811157227,
          13.5460205078125,
          14.015602111816406,
          14.485183715820312,
          14.954765319824219,
          15.424346923828125,
          15.893926620483398
         ],
         "y": [
          0.3392857015132904,
          0.5055418610572815,
          0.6717979907989502,
          0.8380541801452637,
          1.0043103694915771,
          1.1705665588378906,
          1.3368226289749146,
          1.503078818321228,
          1.669334888458252,
          1.8355910778045654,
          2.001847267150879,
          2.1681032180786133,
          2.334359645843506,
          2.5006155967712402,
          2.666872024536133,
          2.833127975463867,
          2.9993844032287598,
          3.165640354156494,
          3.3318967819213867,
          3.498152494430542,
          3.6644086837768555,
          3.830664873123169,
          3.9969210624694824,
          4.163177490234375,
          4.329433441162109,
          4.495689392089844,
          4.661945819854736,
          4.828201770782471,
          4.994458198547363,
          5.160714149475098
         ],
         "z": [
          [
           4.610713958740234,
           4.536308288574219,
           4.568838119506836,
           4.571925640106201,
           4.517603874206543,
           4.546142578125,
           4.710860252380371,
           4.934111595153809,
           5.147966384887695,
           5.306549072265625,
           5.407595157623291,
           5.467402458190918,
           5.501305103302002,
           5.519741058349609,
           5.529116630554199,
           5.533220291137695,
           5.534275054931641,
           5.533602714538574,
           5.532000541687012,
           5.529958724975586,
           5.527779579162598,
           5.525643348693848,
           5.523654937744141,
           5.521867752075195,
           5.5203022956848145,
           5.51895809173584,
           5.517821311950684,
           5.516872882843018,
           5.516090393066406,
           5.515451431274414
          ],
          [
           3.627455949783325,
           2.3537728786468506,
           3.6791274547576904,
           3.865013360977173,
           3.170013904571533,
           2.507845163345337,
           3.2767715454101562,
           4.191864490509033,
           4.9317779541015625,
           5.251735210418701,
           5.4088335037231445,
           5.488607406616211,
           5.529061317443848,
           5.548806667327881,
           5.5573015213012695,
           5.559481143951416,
           5.558045387268066,
           5.554591178894043,
           5.55012845993042,
           5.545313835144043,
           5.540567874908447,
           5.536140441894531,
           5.532164573669434,
           5.528692722320557,
           5.525724411010742,
           5.52323055267334,
           5.5211639404296875,
           5.519471645355225,
           5.518099784851074,
           5.51699686050415
          ],
          [
           4.5785417556762695,
           4.493599891662598,
           4.506381511688232,
           4.514735698699951,
           4.5015668869018555,
           4.576656341552734,
           4.773526191711426,
           5.015687942504883,
           5.234246253967285,
           5.389243125915527,
           5.483025550842285,
           5.53624153137207,
           5.566736221313477,
           5.584575176239014,
           5.593985080718994,
           5.596640110015869,
           5.593950271606445,
           5.587599754333496,
           5.579232692718506,
           5.570150852203369,
           5.5612335205078125,
           5.5529985427856445,
           5.54570198059082,
           5.539424419403076,
           5.534143447875977,
           5.5297770500183105,
           5.526217460632324,
           5.523348808288574,
           5.521058559417725,
           5.519245147705078
          ],
          [
           4.923389434814453,
           4.797057151794434,
           4.6774373054504395,
           4.62900447845459,
           4.727439880371094,
           4.9351301193237305,
           5.155949592590332,
           5.328519821166992,
           5.419563293457031,
           5.430558204650879,
           5.421177864074707,
           5.438697814941406,
           5.481454849243164,
           5.546185493469238,
           5.603286266326904,
           5.634400367736816,
           5.642795562744141,
           5.637138366699219,
           5.624387741088867,
           5.608957767486572,
           5.593366622924805,
           5.578930854797363,
           5.5662384033203125,
           5.555459022521973,
           5.546525955200195,
           5.5392584800720215,
           5.533429145812988,
           5.528805255889893,
           5.525169372558594,
           5.522331237792969
          ],
          [
           5.005373954772949,
           4.7594146728515625,
           4.308138847351074,
           3.31396484375,
           4.083656311035156,
           4.8265156745910645,
           5.235924243927002,
           5.438958168029785,
           5.377676963806152,
           4.703365325927734,
           4.50640869140625,
           4.842899322509766,
           4.7084760665893555,
           5.381804466247559,
           5.621359825134277,
           5.708926677703857,
           5.729795455932617,
           5.719912052154541,
           5.696651458740234,
           5.6689958572387695,
           5.641629219055176,
           5.616833686828613,
           5.59551477432251,
           5.57780647277832,
           5.563443183898926,
           5.5519914627075195,
           5.542972087860107,
           5.535934925079346,
           5.530482292175293,
           5.526281833648682
          ],
          [
           5.230463981628418,
           5.138526916503906,
           5.046568870544434,
           5.017289161682129,
           5.114692211151123,
           5.301254749298096,
           5.4897260665893555,
           5.628262996673584,
           5.695169448852539,
           5.699220657348633,
           5.69467830657959,
           5.722055912017822,
           5.7765889167785645,
           5.846677303314209,
           5.900192737579346,
           5.916468620300293,
           5.898166656494141,
           5.857414245605469,
           5.806554794311523,
           5.754681587219238,
           5.707125663757324,
           5.666247367858887,
           5.6325178146362305,
           5.605416774749756,
           5.584016799926758,
           5.567312240600586,
           5.554375648498535,
           5.544414520263672,
           5.536778450012207,
           5.530947208404541
          ],
          [
           5.42923641204834,
           5.4257612228393555,
           5.433504104614258,
           5.4567766189575195,
           5.493171691894531,
           5.533602237701416,
           5.57959508895874,
           5.655674934387207,
           5.759865760803223,
           5.858188629150391,
           5.941352844238281,
           6.017777442932129,
           6.089404106140137,
           6.144172668457031,
           6.166025161743164,
           6.150190353393555,
           6.09700870513916,
           6.016366958618164,
           5.927332878112793,
           5.8441572189331055,
           5.773067951202393,
           5.715145587921143,
           5.669136047363281,
           5.6330695152282715,
           5.604995250701904,
           5.583235740661621,
           5.566429138183594,
           5.553494930267334,
           5.543578624725342,
           5.536007881164551
          ],
          [
           5.519366264343262,
           5.533979415893555,
           5.550962448120117,
           5.561707019805908,
           5.5423760414123535,
           5.431160926818848,
           5.039010047912598,
           4.976088047027588,
           5.536048412322998,
           5.763165473937988,
           5.88996696472168,
           5.987933158874512,
           6.07180118560791,
           6.094864368438721,
           5.807766437530518,
           6.002063274383545,
           6.100923538208008,
           6.0407280921936035,
           5.952068328857422,
           5.86849308013916,
           5.797645092010498,
           5.739477634429932,
           5.692116737365723,
           5.653667449951172,
           5.622599124908447,
           5.597688674926758,
           5.577915191650391,
           5.5623884201049805,
           5.550325393676758,
           5.54104471206665
          ],
          [
           5.542716979980469,
           5.556126594543457,
           5.569952964782715,
           5.579880237579346,
           5.579057693481445,
           5.562368392944336,
           5.540581703186035,
           5.54459285736084,
           5.577162265777588,
           5.607127666473389,
           5.621711730957031,
           5.627687931060791,
           5.63509464263916,
           5.650010108947754,
           5.675467014312744,
           5.712713241577148,
           5.750455856323242,
           5.774822235107422,
           5.782357692718506,
           5.77522087097168,
           5.756557464599609,
           5.729718208312988,
           5.698464393615723,
           5.666449546813965,
           5.636471748352051,
           5.610162734985352,
           5.588137626647949,
           5.570322036743164,
           5.5562744140625,
           5.545404434204102
          ],
          [
           5.535111904144287,
           5.541291236877441,
           5.546503067016602,
           5.5487565994262695,
           5.545402526855469,
           5.5334930419921875,
           5.509960174560547,
           5.470727920532227,
           5.409034729003906,
           5.314857006072998,
           5.176364898681641,
           4.984416961669922,
           4.747225761413574,
           4.525782585144043,
           4.450153350830078,
           4.60609769821167,
           4.921420574188232,
           5.216683387756348,
           5.421441078186035,
           5.568160057067871,
           5.659303665161133,
           5.695925712585449,
           5.694251537322998,
           5.673148155212402,
           5.645570278167725,
           5.618412017822266,
           5.5946455001831055,
           5.5751214027404785,
           5.5596818923950195,
           5.547770023345947
          ],
          [
           5.519741058349609,
           5.518802642822266,
           5.515181541442871,
           5.506983280181885,
           5.491497039794922,
           5.464916706085205,
           5.421870231628418,
           5.354557991027832,
           5.251244068145752,
           5.093626976013184,
           4.852095127105713,
           4.476369857788086,
           3.8738152980804443,
           2.8377699851989746,
           1.8241885900497437,
           1.910166621208191,
           3.7755990028381348,
           4.22827672958374,
           4.359936237335205,
           4.967257976531982,
           5.480562210083008,
           5.633386611938477,
           5.668848991394043,
           5.660859107971191,
           5.638489246368408,
           5.613747596740723,
           5.591322898864746,
           5.572668075561523,
           5.557848930358887,
           5.546399116516113
          ],
          [
           5.508461952209473,
           5.503850936889648,
           5.496158599853516,
           5.4838433265686035,
           5.464765548706055,
           5.4359893798828125,
           5.393514633178711,
           5.331920146942139,
           5.243971824645996,
           5.120440483093262,
           4.951016426086426,
           4.729067325592041,
           4.467204570770264,
           4.231209754943848,
           4.151628494262695,
           4.313351631164551,
           4.646035194396973,
           4.973855018615723,
           5.220128059387207,
           5.4068827629089355,
           5.533531665802002,
           5.60035514831543,
           5.62317419052124,
           5.621098041534424,
           5.607859134674072,
           5.5912933349609375,
           5.575247764587402,
           5.561298847198486,
           5.549860000610352,
           5.540803909301758
          ],
          [
           5.503795623779297,
           5.498690605163574,
           5.4911580085754395,
           5.480260848999023,
           5.464803695678711,
           5.4433088302612305,
           5.4140424728393555,
           5.375139236450195,
           5.324942588806152,
           5.262753963470459,
           5.190241813659668,
           5.113594055175781,
           5.045635223388672,
           5.005282402038574,
           5.010854244232178,
           5.068540573120117,
           5.165688991546631,
           5.277376174926758,
           5.380698204040527,
           5.462803840637207,
           5.519827842712402,
           5.553633689880371,
           5.569226264953613,
           5.572514533996582,
           5.568681240081787,
           5.561496257781982,
           5.553333759307861,
           5.545503616333008,
           5.538613319396973,
           5.532855987548828
          ],
          [
           5.503782272338867,
           5.499763488769531,
           5.494229316711426,
           5.486743927001953,
           5.476814270019531,
           5.463933944702148,
           5.447661399841309,
           5.427755832672119,
           5.40439510345459,
           5.378468990325928,
           5.351901531219482,
           5.327844619750977,
           5.310483455657959,
           5.304178237915039,
           5.311977386474609,
           5.334113121032715,
           5.367464542388916,
           5.406515598297119,
           5.445276260375977,
           5.479033470153809,
           5.505171775817871,
           5.523097991943359,
           5.533670902252197,
           5.538493633270264,
           5.539329528808594,
           5.537727355957031,
           5.53486967086792,
           5.531558990478516,
           5.528285026550293,
           5.5253095626831055
          ],
          [
           5.505789279937744,
           5.503149032592773,
           5.499701976776123,
           5.495285987854004,
           5.489750862121582,
           5.482987880706787,
           5.474974155426025,
           5.465830326080322,
           5.4558868408203125,
           5.445744037628174,
           5.4362945556640625,
           5.428676128387451,
           5.4241156578063965,
           5.423663139343262,
           5.427884101867676,
           5.436617374420166,
           5.448934555053711,
           5.4633355140686035,
           5.478117942810059,
           5.4917683601379395,
           5.5032267570495605,
           5.5119853019714355,
           5.518024444580078,
           5.52166748046875,
           5.523411273956299,
           5.52379035949707,
           5.523284912109375,
           5.52227783203125,
           5.521047592163086,
           5.519779205322266
          ],
          [
           5.508080959320068,
           5.506532669067383,
           5.504599094390869,
           5.502233505249023,
           5.499405860900879,
           5.496119976043701,
           5.492425918579102,
           5.488437652587891,
           5.484348773956299,
           5.480435371398926,
           5.477044105529785,
           5.474555969238281,
           5.473335266113281,
           5.47365140914917,
           5.475611686706543,
           5.479119300842285,
           5.483872413635254,
           5.489412307739258,
           5.495216369628906,
           5.500784873962402,
           5.5057268142700195,
           5.509796142578125,
           5.512897968292236,
           5.515064239501953,
           5.516412734985352,
           5.51710319519043,
           5.517305850982666,
           5.517177104949951,
           5.516844749450684,
           5.516407012939453
          ],
          [
           5.509913444519043,
           5.509069919586182,
           5.508055686950684,
           5.506861686706543,
           5.505490779876709,
           5.50396203994751,
           5.502314567565918,
           5.500613212585449,
           5.4989471435546875,
           5.497428894042969,
           5.496186256408691,
           5.495347499847412,
           5.495023727416992,
           5.495287895202637,
           5.496159076690674,
           5.497593879699707,
           5.499489784240723,
           5.50169563293457,
           5.5040388107299805,
           5.506349563598633,
           5.508482933044434,
           5.510334014892578,
           5.511845588684082,
           5.513001918792725,
           5.513823509216309,
           5.514352798461914,
           5.514643669128418,
           5.514753341674805,
           5.514734268188477,
           5.514631271362305
          ],
          [
           5.511141300201416,
           5.510698318481445,
           5.510183334350586,
           5.509596824645996,
           5.508946418762207,
           5.508245468139648,
           5.507516384124756,
           5.506789207458496,
           5.506103515625,
           5.505503177642822,
           5.505035400390625,
           5.504744052886963,
           5.504664421081543,
           5.504817485809326,
           5.505206108093262,
           5.505812644958496,
           5.506599426269531,
           5.507514953613281,
           5.508498668670654,
           5.509490013122559,
           5.510434150695801,
           5.511286735534668,
           5.512020587921143,
           5.512619972229004,
           5.513084411621094,
           5.513422966003418,
           5.513649940490723,
           5.513784408569336,
           5.513847351074219,
           5.513855457305908
          ],
          [
           5.511852741241455,
           5.511613845825195,
           5.5113444328308105,
           5.511046409606934,
           5.510725498199463,
           5.510389804840088,
           5.5100507736206055,
           5.509722709655762,
           5.509422302246094,
           5.50916862487793,
           5.508979797363281,
           5.508871555328369,
           5.508857727050781,
           5.508944511413574,
           5.5091328620910645,
           5.509415626525879,
           5.509778022766113,
           5.510201454162598,
           5.510663032531738,
           5.511138916015625,
           5.511606216430664,
           5.512045860290527,
           5.512442588806152,
           5.512786865234375,
           5.513072967529297,
           5.513300895690918,
           5.513472557067871,
           5.5135931968688965,
           5.513669013977051,
           5.513707637786865
          ],
          [
           5.512172222137451,
           5.512016296386719,
           5.511844158172607,
           5.51165771484375,
           5.511459827423096,
           5.511256694793701,
           5.511054515838623,
           5.510862350463867,
           5.510690212249756,
           5.510546684265137,
           5.510442733764648,
           5.510387420654297,
           5.510386943817139,
           5.510446548461914,
           5.510567665100098,
           5.51074743270874,
           5.510980606079102,
           5.511258125305176,
           5.511569023132324,
           5.511900424957275,
           5.512239456176758,
           5.5125732421875,
           5.512890815734863,
           5.513181686401367,
           5.5134382247924805,
           5.513654708862305,
           5.513829231262207,
           5.513959884643555,
           5.5140485763549805,
           5.514096736907959
          ],
          [
           5.512176513671875,
           5.512019634246826,
           5.511844635009766,
           5.511652946472168,
           5.511447906494141,
           5.511234283447266,
           5.5110182762146,
           5.510809421539307,
           5.510616779327393,
           5.5104522705078125,
           5.510326862335205,
           5.510251998901367,
           5.5102386474609375,
           5.510293006896973,
           5.510421276092529,
           5.510623455047607,
           5.510897159576416,
           5.511235237121582,
           5.511627197265625,
           5.512059211730957,
           5.512516498565674,
           5.512981414794922,
           5.513437271118164,
           5.513867378234863,
           5.514255523681641,
           5.514590263366699,
           5.514861106872559,
           5.5150628089904785,
           5.51519250869751,
           5.515252113342285
          ],
          [
           5.511874198913574,
           5.51163387298584,
           5.511358261108398,
           5.511046409606934,
           5.510703086853027,
           5.510332107543945,
           5.509945392608643,
           5.509555339813232,
           5.509180545806885,
           5.508842468261719,
           5.508565902709961,
           5.50837516784668,
           5.508293628692627,
           5.508342266082764,
           5.508534908294678,
           5.508877754211426,
           5.509368896484375,
           5.509997844696045,
           5.510745048522949,
           5.511585235595703,
           5.512486934661865,
           5.513415336608887,
           5.514333724975586,
           5.515204429626465,
           5.515993118286133,
           5.516669273376465,
           5.517207622528076,
           5.517592906951904,
           5.517819881439209,
           5.517891883850098
          ],
          [
           5.511207580566406,
           5.510773658752441,
           5.510258674621582,
           5.509658336639404,
           5.508972644805908,
           5.508207321166992,
           5.507378578186035,
           5.5065107345581055,
           5.505641937255859,
           5.504820346832275,
           5.504105567932129,
           5.503561019897461,
           5.503250598907471,
           5.50322961807251,
           5.5035400390625,
           5.504201412200928,
           5.505210876464844,
           5.506545066833496,
           5.508158206939697,
           5.509990692138672,
           5.511970520019531,
           5.514019012451172,
           5.51605224609375,
           5.517983436584473,
           5.5197296142578125,
           5.521213531494141,
           5.522372722625732,
           5.523168087005615,
           5.523584842681885,
           5.5236358642578125
          ],
          [
           5.510077953338623,
           5.509282112121582,
           5.508307933807373,
           5.5071330070495605,
           5.505742073059082,
           5.50413179397583,
           5.502316474914551,
           5.500336647033691,
           5.498264789581299,
           5.496212005615234,
           5.494321823120117,
           5.492767333984375,
           5.491727828979492,
           5.491368293762207,
           5.491809368133545,
           5.493110656738281,
           5.495260238647461,
           5.498183250427246,
           5.50175666809082,
           5.505828857421875,
           5.510235786437988,
           5.514805316925049,
           5.519356727600098,
           5.523698806762695,
           5.527632713317871,
           5.530962944030762,
           5.533524036407471,
           5.535201072692871,
           5.53595495223999,
           5.53582763671875
          ],
          [
           5.508400917053223,
           5.507007598876953,
           5.505242824554443,
           5.503035545349121,
           5.5003156661987305,
           5.497028350830078,
           5.493145942687988,
           5.4886956214904785,
           5.4837846755981445,
           5.478633403778076,
           5.473590850830078,
           5.469127178192139,
           5.465789794921875,
           5.464109420776367,
           5.464482307434082,
           5.467081546783447,
           5.471817493438721,
           5.478389263153076,
           5.48638391494751,
           5.495377540588379,
           5.505000591278076,
           5.5149383544921875,
           5.524889945983887,
           5.5345048904418945,
           5.543341636657715,
           5.550889015197754,
           5.556646347045898,
           5.560249328613281,
           5.5615692138671875,
           5.560741424560547
          ],
          [
           5.506224155426025,
           5.503963470458984,
           5.500999450683594,
           5.4971442222595215,
           5.492181777954102,
           5.48587703704834,
           5.47800350189209,
           5.468395233154297,
           5.457034587860107,
           5.444183349609375,
           5.430540084838867,
           5.417365074157715,
           5.406449317932129,
           5.399792671203613,
           5.399007320404053,
           5.40468692779541,
           5.4161882400512695,
           5.431981086730957,
           5.450319290161133,
           5.469814300537109,
           5.489690780639648,
           5.5097198486328125,
           5.529926776885986,
           5.550153732299805,
           5.5696516036987305,
           5.586971759796143,
           5.600347518920898,
           5.608392238616943,
           5.6106462478637695,
           5.607663631439209
          ],
          [
           5.503861427307129,
           5.500558853149414,
           5.496086597442627,
           5.490047454833984,
           5.481922149658203,
           5.471041679382324,
           5.456578254699707,
           5.437561988830566,
           5.412999629974365,
           5.382183074951172,
           5.34535551071167,
           5.304839134216309,
           5.266317367553711,
           5.23885440826416,
           5.231613636016846,
           5.247998237609863,
           5.282995223999023,
           5.327065467834473,
           5.371817588806152,
           5.412582874298096,
           5.448233127593994,
           5.480339050292969,
           5.5124359130859375,
           5.5484819412231445,
           5.589544773101807,
           5.630956649780273,
           5.664256572723389,
           5.683018684387207,
           5.686452388763428,
           5.678175449371338
          ],
          [
           5.501936912536621,
           5.497714519500732,
           5.491858959197998,
           5.483720779418945,
           5.472376823425293,
           5.456503868103027,
           5.434196949005127,
           5.402703285217285,
           5.358082294464111,
           5.2948760986328125,
           5.206247329711914,
           5.086177825927734,
           4.938321113586426,
           4.798269271850586,
           4.746869087219238,
           4.828915596008301,
           4.979992866516113,
           5.125729560852051,
           5.238499641418457,
           5.315732955932617,
           5.3605499267578125,
           5.376641273498535,
           5.374233245849609,
           5.386263847351074,
           5.460353851318359,
           5.580404281616211,
           5.671677589416504,
           5.704595565795898,
           5.700789451599121,
           5.690099716186523
          ],
          [
           5.501152992248535,
           5.4965386390686035,
           5.4900803565979,
           5.480999946594238,
           5.46815824508667,
           5.449853897094727,
           5.423494338989258,
           5.385030746459961,
           5.327964782714844,
           5.2415242195129395,
           5.1071672439575195,
           4.891334533691406,
           4.528212547302246,
           3.8649933338165283,
           2.8291244506835938,
           4.052158355712891,
           4.631917953491211,
           4.955474853515625,
           5.144632339477539,
           5.249626159667969,
           5.286715507507324,
           5.244175910949707,
           5.066951274871826,
           4.579478740692139,
           4.4569830894470215,
           5.229625701904297,
           5.182888031005859,
           4.822396278381348,
           4.6452202796936035,
           5.368754863739014
          ],
          [
           5.50184440612793,
           5.497574806213379,
           5.4916486740112305,
           5.483399391174316,
           5.47188138961792,
           5.455728530883789,
           5.4329633712768555,
           5.400699615478516,
           5.354746341705322,
           5.28917121887207,
           5.196229457855225,
           5.068279266357422,
           4.906879425048828,
           4.748995304107666,
           4.689299583435059,
           4.783364295959473,
           4.951934814453125,
           5.109679222106934,
           5.228920936584473,
           5.308887481689453,
           5.353487014770508,
           5.365972518920898,
           5.355725288391113,
           5.358912467956543,
           5.434713363647461,
           5.566133975982666,
           5.663458824157715,
           5.695573806762695,
           5.68995475769043,
           5.686413288116455
          ]
         ],
         "type": "surface"
        },
        {
         "opacity": 0.2,
         "showscale": false,
         "x": [
          2.276071548461914,
          2.745652675628662,
          3.2152340412139893,
          3.6848151683807373,
          4.1543965339660645,
          4.6239776611328125,
          5.093559265136719,
          5.563139915466309,
          6.032721519470215,
          6.502302646636963,
          6.971883773803711,
          7.441464900970459,
          7.911046028137207,
          8.380627632141113,
          8.850208282470703,
          9.31978988647461,
          9.789371490478516,
          10.258953094482422,
          10.728534698486328,
          11.198114395141602,
          11.667695999145508,
          12.137277603149414,
          12.60685920715332,
          13.076440811157227,
          13.5460205078125,
          14.015602111816406,
          14.485183715820312,
          14.954765319824219,
          15.424346923828125,
          15.893926620483398
         ],
         "y": [
          0.3392857015132904,
          0.5055418610572815,
          0.6717979907989502,
          0.8380541801452637,
          1.0043103694915771,
          1.1705665588378906,
          1.3368226289749146,
          1.503078818321228,
          1.669334888458252,
          1.8355910778045654,
          2.001847267150879,
          2.1681032180786133,
          2.334359645843506,
          2.5006155967712402,
          2.666872024536133,
          2.833127975463867,
          2.9993844032287598,
          3.165640354156494,
          3.3318967819213867,
          3.498152494430542,
          3.6644086837768555,
          3.830664873123169,
          3.9969210624694824,
          4.163177490234375,
          4.329433441162109,
          4.495689392089844,
          4.661945819854736,
          4.828201770782471,
          4.994458198547363,
          5.160714149475098
         ],
         "z": [
          [
           -0.8410475254058838,
           -0.7637631893157959,
           -0.675216555595398,
           -0.6752252578735352,
           -0.7240607738494873,
           -0.6680045127868652,
           -0.5174310207366943,
           -0.4020097255706787,
           -0.379260778427124,
           -0.4077017307281494,
           -0.44057321548461914,
           -0.46387362480163574,
           -0.4783625602722168,
           -0.4873995780944824,
           -0.49358534812927246,
           -0.4984164237976074,
           -0.5026111602783203,
           -0.5064451694488525,
           -0.5099890232086182,
           -0.5132362842559814,
           -0.516167402267456,
           -0.5187697410583496,
           -0.5210447311401367,
           -0.5230066776275635,
           -0.5246777534484863,
           -0.526085615158081,
           -0.5272595882415771,
           -0.5282301902770996,
           -0.5290250778198242,
           -0.5296716690063477
          ],
          [
           -0.7853496074676514,
           -0.12749910354614258,
           0.5151946544647217,
           0.21833300590515137,
           -0.6290370225906372,
           -0.23384642601013184,
           0.5187602043151855,
           0.7475037574768066,
           0.08354759216308594,
           -0.18618297576904297,
           -0.31093931198120117,
           -0.37284016609191895,
           -0.40654873847961426,
           -0.427767276763916,
           -0.443530797958374,
           -0.4567141532897949,
           -0.46829819679260254,
           -0.4785318374633789,
           -0.4874749183654785,
           -0.49518823623657227,
           -0.5017662048339844,
           -0.5073251724243164,
           -0.5119869709014893,
           -0.5158686637878418,
           -0.5190777778625488,
           -0.5217125415802002,
           -0.5238604545593262,
           -0.525599479675293,
           -0.5269982814788818,
           -0.5281162261962891
          ],
          [
           -0.8848600387573242,
           -0.8192641735076904,
           -0.7373099327087402,
           -0.7172441482543945,
           -0.7236860990524292,
           -0.6315829753875732,
           -0.44899487495422363,
           -0.28978466987609863,
           -0.21683430671691895,
           -0.2079601287841797,
           -0.22429656982421875,
           -0.24773859977722168,
           -0.2745978832244873,
           -0.30557966232299805,
           -0.33937501907348633,
           -0.37254905700683594,
           -0.4022209644317627,
           -0.4272310733795166,
           -0.44769763946533203,
           -0.4642758369445801,
           -0.4776923656463623,
           -0.4885702133178711,
           -0.49739813804626465,
           -0.5045533180236816,
           -0.5103349685668945,
           -0.5149855613708496,
           -0.5187060832977295,
           -0.5216660499572754,
           -0.5240077972412109,
           -0.5258502960205078
          ],
          [
           -0.8097043037414551,
           -0.7860109806060791,
           -0.7291570901870728,
           -0.6548372507095337,
           -0.5814611911773682,
           -0.47979092597961426,
           -0.3162548542022705,
           -0.10307765007019043,
           0.10006070137023926,
           0.20166254043579102,
           0.19621825218200684,
           0.17445063591003418,
           0.1316688060760498,
           0.026781558990478516,
           -0.09950971603393555,
           -0.20578932762145996,
           -0.2845494747161865,
           -0.341541051864624,
           -0.3835184574127197,
           -0.41534852981567383,
           -0.4400980472564697,
           -0.45965027809143066,
           -0.4752066135406494,
           -0.4875948429107666,
           -0.4974329471588135,
           -0.5052108764648438,
           -0.5113282203674316,
           -0.5161151885986328,
           -0.5198431015014648,
           -0.5227336883544922
          ],
          [
           -0.6887893676757812,
           -0.6129558086395264,
           -0.3880152702331543,
           0.3000192642211914,
           -0.03570556640625,
           -0.17433500289916992,
           -0.0035839080810546875,
           0.39989757537841797,
           1.1465013027191162,
           2.16666316986084,
           1.1258732080459595,
           1.1474895477294922,
           1.492663860321045,
           0.6137969493865967,
           0.2161121368408203,
           -0.0007548332214355469,
           -0.1338803768157959,
           -0.22462034225463867,
           -0.29169392585754395,
           -0.3437201976776123,
           -0.3848998546600342,
           -0.41760754585266113,
           -0.44347715377807617,
           -0.4638044834136963,
           -0.4796712398529053,
           -0.4919860363006592,
           -0.5014986991882324,
           -0.5088186264038086,
           -0.5144326686859131,
           -0.5187263488769531
          ],
          [
           -0.606682538986206,
           -0.5659186840057373,
           -0.49265098571777344,
           -0.39778995513916016,
           -0.30007266998291016,
           -0.1839461326599121,
           -0.026808738708496094,
           0.16184473037719727,
           0.3357048034667969,
           0.4255392551422119,
           0.43479394912719727,
           0.4409608840942383,
           0.43751955032348633,
           0.37888669967651367,
           0.2817497253417969,
           0.1713731288909912,
           0.05704236030578613,
           -0.053939104080200195,
           -0.1540212631225586,
           -0.23867297172546387,
           -0.3070495128631592,
           -0.3606717586517334,
           -0.40199947357177734,
           -0.43355560302734375,
           -0.45754408836364746,
           -0.47574758529663086,
           -0.4895517826080322,
           -0.5000169277191162,
           -0.5079457759857178,
           -0.5139484405517578
          ],
          [
           -0.527350902557373,
           -0.4845545291900635,
           -0.4142022132873535,
           -0.306807279586792,
           -0.15424752235412598,
           0.03875875473022461,
           0.22654008865356445,
           0.3235599994659424,
           0.31807637214660645,
           0.2917015552520752,
           0.3058454990386963,
           0.38402342796325684,
           0.5272212028503418,
           0.702437162399292,
           0.8099448680877686,
           0.7330453395843506,
           0.508019208908081,
           0.2601912021636963,
           0.05369305610656738,
           -0.10191988945007324,
           -0.2152552604675293,
           -0.29728269577026367,
           -0.35700106620788574,
           -0.4009222984313965,
           -0.43355417251586914,
           -0.4579918384552002,
           -0.47638678550720215,
           -0.4902682304382324,
           -0.5007486343383789,
           -0.5086543560028076
          ],
          [
           -0.47441983222961426,
           -0.42261815071105957,
           -0.3379018306732178,
           -0.19904422760009766,
           0.033179283142089844,
           0.43995070457458496,
           1.2361758947372437,
           1.4496949911117554,
           0.6744251251220703,
           0.36881470680236816,
           0.2991664409637451,
           0.4116370677947998,
           0.7280387878417969,
           1.3509116172790527,
           2.6044821739196777,
           1.9679689407348633,
           1.0206525325775146,
           0.4943575859069824,
           0.17752957344055176,
           -0.023145437240600586,
           -0.15677547454833984,
           -0.25035667419433594,
           -0.31874799728393555,
           -0.3701794147491455,
           -0.40941286087036133,
           -0.43946123123168945,
           -0.4624340534210205,
           -0.4799203872680664,
           -0.4931633472442627,
           -0.503143310546875
          ],
          [
           -0.47100186347961426,
           -0.43356776237487793,
           -0.37769246101379395,
           -0.2963900566101074,
           -0.18418383598327637,
           -0.04813098907470703,
           0.06836628913879395,
           0.09157299995422363,
           0.018514633178710938,
           -0.06949806213378906,
           -0.11064553260803223,
           -0.0795907974243164,
           0.030696630477905273,
           0.1989428997039795,
           0.34235429763793945,
           0.35728907585144043,
           0.2619020938873291,
           0.1450667381286621,
           0.04455232620239258,
           -0.04201006889343262,
           -0.12289977073669434,
           -0.19998574256896973,
           -0.2702014446258545,
           -0.330333948135376,
           -0.3792390823364258,
           -0.41759371757507324,
           -0.44696688652038574,
           -0.46912360191345215,
           -0.48567724227905273,
           -0.4979681968688965
          ],
          [
           -0.49532604217529297,
           -0.47960948944091797,
           -0.4598813056945801,
           -0.43712329864501953,
           -0.41460490226745605,
           -0.39894652366638184,
           -0.39951467514038086,
           -0.42453861236572266,
           -0.4760262966156006,
           -0.5488419532775879,
           -0.6341230869293213,
           -0.7210581302642822,
           -0.7937726974487305,
           -0.8251430988311768,
           -0.7690608501434326,
           -0.570167064666748,
           -0.2554163932800293,
           0.026967287063598633,
           0.18579530715942383,
           0.21614718437194824,
           0.12153148651123047,
           -0.024335145950317383,
           -0.15858936309814453,
           -0.2629110813140869,
           -0.3391728401184082,
           -0.39377808570861816,
           -0.4326913356781006,
           -0.4604625701904297,
           -0.48035192489624023,
           -0.49465036392211914
          ],
          [
           -0.5199081897735596,
           -0.5178928375244141,
           -0.5174047946929932,
           -0.520200252532959,
           -0.5289480686187744,
           -0.5472917556762695,
           -0.5796682834625244,
           -0.6308763027191162,
           -0.7055635452270508,
           -0.8076076507568359,
           -0.9385515451431274,
           -1.0924475193023682,
           -1.2391393184661865,
           -1.2582883834838867,
           -1.091190218925476,
           -0.6869100332260132,
           0.3125873804092407,
           1.5087817907333374,
           1.2570017576217651,
           1.523271083831787,
           0.6197984218597412,
           0.17581439018249512,
           -0.07631278038024902,
           -0.22919011116027832,
           -0.32597875595092773,
           -0.3893001079559326,
           -0.43181872367858887,
           -0.4609642028808594,
           -0.48126745223999023,
           -0.49558544158935547
          ],
          [
           -0.5348122119903564,
           -0.5385103225708008,
           -0.5449130535125732,
           -0.5554032325744629,
           -0.5718226432800293,
           -0.596501350402832,
           -0.6322145462036133,
           -0.6820158958435059,
           -0.7488343715667725,
           -0.8345777988433838,
           -0.9382555484771729,
           -1.0524263381958008,
           -1.1576972007751465,
           -1.2168948650360107,
           -1.171600580215454,
           -0.961040735244751,
           -0.614544153213501,
           -0.28344273567199707,
           -0.06806087493896484,
           0.016688823699951172,
           -0.02801513671875,
           -0.1329638957977295,
           -0.23650598526000977,
           -0.3185086250305176,
           -0.3787250518798828,
           -0.42185401916503906,
           -0.4525880813598633,
           -0.4745450019836426,
           -0.4903099536895752,
           -0.5016870498657227
          ],
          [
           -0.5407025814056396,
           -0.5454862117767334,
           -0.5525326728820801,
           -0.5626757144927979,
           -0.576930046081543,
           -0.5964546203613281,
           -0.6224493980407715,
           -0.6559326648712158,
           -0.6973402500152588,
           -0.7458505630493164,
           -0.7984097003936768,
           -0.8485791683197021,
           -0.8857874870300293,
           -0.8962662220001221,
           -0.867403507232666,
           -0.7956550121307373,
           -0.6929335594177246,
           -0.5832359790802002,
           -0.49044275283813477,
           -0.42870306968688965,
           -0.4002814292907715,
           -0.3980672359466553,
           -0.4112281799316406,
           -0.43053460121154785,
           -0.45033836364746094,
           -0.4679994583129883,
           -0.4826807975769043,
           -0.494417667388916,
           -0.5035862922668457,
           -0.5106456279754639
          ],
          [
           -0.5411252975463867,
           -0.5450220108032227,
           -0.5503647327423096,
           -0.5575473308563232,
           -0.5669937133789062,
           -0.5791060924530029,
           -0.5941770076751709,
           -0.6122498512268066,
           -0.6329233646392822,
           -0.655113697052002,
           -0.6768383979797363,
           -0.6951389312744141,
           -0.7063474655151367,
           -0.7068541049957275,
           -0.694354772567749,
           -0.6691129207611084,
           -0.6344566345214844,
           -0.5959615707397461,
           -0.5596277713775635,
           -0.5300538539886475,
           -0.5094544887542725,
           -0.49771809577941895,
           -0.49318742752075195,
           -0.49362993240356445,
           -0.49697375297546387,
           -0.5016496181488037,
           -0.5066361427307129,
           -0.5113511085510254,
           -0.5155162811279297,
           -0.5190403461456299
          ],
          [
           -0.5392627716064453,
           -0.5418579578399658,
           -0.5452351570129395,
           -0.5495429039001465,
           -0.5549116134643555,
           -0.5614242553710938,
           -0.5690703392028809,
           -0.577692985534668,
           -0.5869300365447998,
           -0.5961651802062988,
           -0.6045200824737549,
           -0.6109127998352051,
           -0.6142158508300781,
           -0.613501787185669,
           -0.608328104019165,
           -0.5989518165588379,
           -0.5863618850708008,
           -0.5720834732055664,
           -0.557809591293335,
           -0.545011043548584,
           -0.5346627235412598,
           -0.5271553993225098,
           -0.5223784446716309,
           -0.5198974609375,
           -0.519141674041748,
           -0.5195474624633789,
           -0.520641565322876,
           -0.5220680236816406,
           -0.5235850811004639,
           -0.525043249130249
          ],
          [
           -0.5370240211486816,
           -0.5385570526123047,
           -0.5404672622680664,
           -0.5427985191345215,
           -0.5455749034881592,
           -0.5487885475158691,
           -0.5523827075958252,
           -0.5562365055084229,
           -0.5601530075073242,
           -0.5638570785522461,
           -0.5670082569122314,
           -0.5692365169525146,
           -0.5701982975006104,
           -0.5696454048156738,
           -0.5674917697906494,
           -0.5638539791107178,
           -0.5590465068817139,
           -0.5535314083099365,
           -0.5478312969207764,
           -0.5424344539642334,
           -0.5377171039581299,
           -0.5339040756225586,
           -0.5310659408569336,
           -0.5291509628295898,
           -0.5280263423919678,
           -0.5275228023529053,
           -0.527468204498291,
           -0.5277099609375,
           -0.5281240940093994,
           -0.5286190509796143
          ],
          [
           -0.535210132598877,
           -0.5360493659973145,
           -0.5370566844940186,
           -0.5382406711578369,
           -0.5395970344543457,
           -0.5411062240600586,
           -0.5427279472351074,
           -0.5443968772888184,
           -0.5460231304168701,
           -0.5474944114685059,
           -0.5486845970153809,
           -0.5494685173034668,
           -0.5497391223907471,
           -0.549426794052124,
           -0.5485162734985352,
           -0.5470550060272217,
           -0.5451481342315674,
           -0.54294753074646,
           -0.5406248569488525,
           -0.538348913192749,
           -0.5362615585327148,
           -0.5344626903533936,
           -0.5330066680908203,
           -0.5319037437438965,
           -0.5311319828033447,
           -0.5306456089019775,
           -0.5303902626037598,
           -0.5303084850311279,
           -0.5303490161895752,
           -0.530468225479126
          ],
          [
           -0.5339889526367188,
           -0.5344305038452148,
           -0.5349438190460205,
           -0.535527229309082,
           -0.5361740589141846,
           -0.536870002746582,
           -0.537592887878418,
           -0.5383121967315674,
           -0.5389885902404785,
           -0.5395784378051758,
           -0.5400352478027344,
           -0.5403151512145996,
           -0.54038405418396,
           -0.5402207374572754,
           -0.5398242473602295,
           -0.5392124652862549,
           -0.5384235382080078,
           -0.5375089645385742,
           -0.5365290641784668,
           -0.5355453491210938,
           -0.5346105098724365,
           -0.5337681770324707,
           -0.5330462455749512,
           -0.5324580669403076,
           -0.5320043563842773,
           -0.5316760540008545,
           -0.5314571857452393,
           -0.5313289165496826,
           -0.5312719345092773,
           -0.5312676429748535
          ],
          [
           -0.5332794189453125,
           -0.5335180759429932,
           -0.5337867736816406,
           -0.5340840816497803,
           -0.5344038009643555,
           -0.5347385406494141,
           -0.5350761413574219,
           -0.5354025363922119,
           -0.535700798034668,
           -0.535952091217041,
           -0.5361387729644775,
           -0.5362439155578613,
           -0.5362553596496582,
           -0.5361664295196533,
           -0.5359764099121094,
           -0.5356929302215576,
           -0.5353298187255859,
           -0.5349063873291016,
           -0.5344457626342773,
           -0.5339713096618652,
           -0.533505916595459,
           -0.5330684185028076,
           -0.5326735973358154,
           -0.532332181930542,
           -0.5320479869842529,
           -0.5318224430084229,
           -0.5316526889801025,
           -0.5315337181091309,
           -0.5314590930938721,
           -0.5314216613769531
          ],
          [
           -0.5329608917236328,
           -0.5331161022186279,
           -0.5332880020141602,
           -0.5334746837615967,
           -0.5336718559265137,
           -0.53387451171875,
           -0.5340757369995117,
           -0.5342671871185303,
           -0.5344390869140625,
           -0.5345816612243652,
           -0.5346846580505371,
           -0.5347392559051514,
           -0.5347385406494141,
           -0.5346782207489014,
           -0.5345566272735596,
           -0.5343761444091797,
           -0.5341427326202393,
           -0.533865213394165,
           -0.5335545539855957,
           -0.5332231521606445,
           -0.5328841209411621,
           -0.5325508117675781,
           -0.5322339534759521,
           -0.5319435596466064,
           -0.5316874980926514,
           -0.531470537185669,
           -0.531296968460083,
           -0.5311667919158936,
           -0.5310790538787842,
           -0.5310311317443848
          ],
          [
           -0.5329561233520508,
           -0.5331125259399414,
           -0.5332870483398438,
           -0.5334782600402832,
           -0.5336825847625732,
           -0.5338952541351318,
           -0.5341095924377441,
           -0.5343170166015625,
           -0.5345077514648438,
           -0.5346708297729492,
           -0.5347943305969238,
           -0.5348670482635498,
           -0.5348794460296631,
           -0.5348231792449951,
           -0.5346941947937012,
           -0.5344910621643066,
           -0.5342168807983398,
           -0.5338783264160156,
           -0.5334858894348145,
           -0.5330531597137451,
           -0.532595157623291,
           -0.5321290493011475,
           -0.5316727161407471,
           -0.5312423706054688,
           -0.5308530330657959,
           -0.5305185317993164,
           -0.5302479267120361,
           -0.5300474166870117,
           -0.5299191474914551,
           -0.5298607349395752
          ],
          [
           -0.5332567691802979,
           -0.5334956645965576,
           -0.5337698459625244,
           -0.53407883644104,
           -0.5344197750091553,
           -0.5347859859466553,
           -0.5351681709289551,
           -0.5355520248413086,
           -0.5359196662902832,
           -0.5362498760223389,
           -0.5365188121795654,
           -0.5367023944854736,
           -0.5367765426635742,
           -0.5367221832275391,
           -0.5365252494812012,
           -0.5361795425415039,
           -0.5356860160827637,
           -0.5350556373596191,
           -0.5343062877655029,
           -0.533463716506958,
           -0.5325584411621094,
           -0.5316259860992432,
           -0.530703067779541,
           -0.5298278331756592,
           -0.5290358066558838,
           -0.5283586978912354,
           -0.5278210639953613,
           -0.5274386405944824,
           -0.5272173881530762,
           -0.527153491973877
          ],
          [
           -0.5339181423187256,
           -0.5343484878540039,
           -0.5348577499389648,
           -0.5354495048522949,
           -0.5361232757568359,
           -0.5368716716766357,
           -0.5376794338226318,
           -0.538520336151123,
           -0.5393574237823486,
           -0.5401430130004883,
           -0.5408205986022949,
           -0.5413284301757812,
           -0.5416064262390137,
           -0.5416011810302734,
           -0.5412735939025879,
           -0.5406026840209961,
           -0.539588212966919,
           -0.5382521152496338,
           -0.5366349220275879,
           -0.5347936153411865,
           -0.5327978134155273,
           -0.5307276248931885,
           -0.5286693572998047,
           -0.5267136096954346,
           -0.5249481201171875,
           -0.5234534740447998,
           -0.5222940444946289,
           -0.521512508392334,
           -0.5211224555969238,
           -0.5211093425750732
          ],
          [
           -0.5350356101989746,
           -0.5358185768127441,
           -0.536773681640625,
           -0.5379190444946289,
           -0.5392661094665527,
           -0.5408139228820801,
           -0.5425436496734619,
           -0.5444104671478271,
           -0.5463409423828125,
           -0.5482285022735596,
           -0.5499377250671387,
           -0.5513126850128174,
           -0.5521924495697021,
           -0.552431583404541,
           -0.5519189834594727,
           -0.5505950450897217,
           -0.5484569072723389,
           -0.5455563068389893,
           -0.5419905185699463,
           -0.5378901958465576,
           -0.5334110260009766,
           -0.5287294387817383,
           -0.5240414142608643,
           -0.5195610523223877,
           -0.515512228012085,
           -0.5121109485626221,
           -0.5095405578613281,
           -0.5079221725463867,
           -0.5072946548461914,
           -0.5076062679290771
          ],
          [
           -0.5366823673248291,
           -0.5380411148071289,
           -0.5397491455078125,
           -0.5418646335601807,
           -0.544440507888794,
           -0.5475094318389893,
           -0.5510704517364502,
           -0.5550694465637207,
           -0.5593776702880859,
           -0.5637764930725098,
           -0.56795334815979,
           -0.5715169906616211,
           -0.5740411281585693,
           -0.5751235485076904,
           -0.5744554996490479,
           -0.5718731880187988,
           -0.5673766136169434,
           -0.5611076354980469,
           -0.5533065795898438,
           -0.5442659854888916,
           -0.5343012809753418,
           -0.5237605571746826,
           -0.5130484104156494,
           -0.5026562213897705,
           -0.4931666851043701,
           -0.48520493507385254,
           -0.47934746742248535,
           -0.4759976863861084,
           -0.4752838611602783,
           -0.4770185947418213
          ],
          [
           -0.5388016700744629,
           -0.5409793853759766,
           -0.543799638748169,
           -0.5474090576171875,
           -0.5519604682922363,
           -0.557593822479248,
           -0.5644016265869141,
           -0.5723814964294434,
           -0.5813717842102051,
           -0.5909838676452637,
           -0.6005561351776123,
           -0.6091635227203369,
           -0.6157152652740479,
           -0.6191420555114746,
           -0.6186137199401855,
           -0.6137101650238037,
           -0.6044690608978271,
           -0.591292142868042,
           -0.574761152267456,
           -0.5554554462432861,
           -0.5338733196258545,
           -0.5105042457580566,
           -0.48601865768432617,
           -0.461472749710083,
           -0.4384193420410156,
           -0.4188241958618164,
           -0.4047393798828125,
           -0.39774513244628906,
           -0.3983800411224365,
           -0.40588998794555664
          ],
          [
           -0.5410773754119873,
           -0.5442168712615967,
           -0.5483913421630859,
           -0.5538938045501709,
           -0.5610618591308594,
           -0.5702588558197021,
           -0.5818173885345459,
           -0.5959453582763672,
           -0.6125655174255371,
           -0.6311013698577881,
           -0.6502699851989746,
           -0.6680231094360352,
           -0.6818647384643555,
           -0.6895434856414795,
           -0.689610481262207,
           -0.6813466548919678,
           -0.6645553112030029,
           -0.6396996974945068,
           -0.6077413558959961,
           -0.5694575309753418,
           -0.5249838829040527,
           -0.4741528034210205,
           -0.4175300598144531,
           -0.3574502468109131,
           -0.2982196807861328,
           -0.24587678909301758,
           -0.2081441879272461,
           -0.192582368850708,
           -0.20239877700805664,
           -0.2340240478515625
          ],
          [
           -0.5429134368896484,
           -0.5468831062316895,
           -0.5522618293762207,
           -0.5595037937164307,
           -0.5691678524017334,
           -0.5819048881530762,
           -0.5983943939208984,
           -0.6191866397857666,
           -0.6443672180175781,
           -0.6729357242584229,
           -0.7018299102783203,
           -0.7249200344085693,
           -0.7339437007904053,
           -0.7265419960021973,
           -0.7181127071380615,
           -0.7201817035675049,
           -0.7145040035247803,
           -0.6872103214263916,
           -0.6398746967315674,
           -0.5755984783172607,
           -0.49226927757263184,
           -0.38282108306884766,
           -0.24139118194580078,
           -0.07807135581970215,
           0.07897663116455078,
           0.22481751441955566,
           0.35164308547973633,
           0.3993964195251465,
           0.33937621116638184,
           0.19836044311523438
          ],
          [
           -0.5436561107635498,
           -0.5479750633239746,
           -0.5538687705993652,
           -0.5618686676025391,
           -0.5726442337036133,
           -0.58699631690979,
           -0.6057918071746826,
           -0.6297664642333984,
           -0.6590335369110107,
           -0.6919636726379395,
           -0.7226531505584717,
           -0.7350029945373535,
           -0.687258243560791,
           -0.4594399929046631,
           0.13508713245391846,
           -0.5270061492919922,
           -0.6857047080993652,
           -0.6973035335540771,
           -0.6509506702423096,
           -0.5720109939575195,
           -0.4572737216949463,
           -0.27892637252807617,
           0.03251028060913086,
           0.667203426361084,
           1.1307673454284668,
           1.038848638534546,
           1.8997547626495361,
           2.2092247009277344,
           2.179847240447998,
           0.9670801162719727
          ],
          [
           -0.5430014133453369,
           -0.5470128059387207,
           -0.552452802658081,
           -0.5597841739654541,
           -0.5695791244506836,
           -0.582505464553833,
           -0.5992631912231445,
           -0.6204240322113037,
           -0.6460800170898438,
           -0.6751813888549805,
           -0.7044544219970703,
           -0.7271754741668701,
           -0.7339022159576416,
           -0.7217545509338379,
           -0.7106771469116211,
           -0.7164304256439209,
           -0.7149741649627686,
           -0.6891591548919678,
           -0.6413743495941162,
           -0.5754711627960205,
           -0.4891529083251953,
           -0.37421369552612305,
           -0.22304677963256836,
           -0.04648780822753906,
           0.12070345878601074,
           0.27549076080322266,
           0.41536593437194824,
           0.4680612087249756,
           0.4005773067474365,
           0.23864984512329102
          ]
         ],
         "type": "surface"
        },
        {
         "marker": {
          "color": "darkgreen"
         },
         "mode": "markers",
         "name": "training data",
         "x": [
          2.7300000190734863,
          3.4000000953674316,
          3.7899999618530273,
          6.440000057220459,
          5.360000133514404,
          8.989999771118164,
          8.800000190734863,
          14.670000076293945,
          5.239999771118164,
          14.889999389648438,
          10.130000114440918,
          4.510000228881836,
          5.369999885559082,
          4.880000114440918,
          6.760000228881836,
          7.769999980926514,
          8.729999542236328,
          9.380000114440918,
          10.479999542236328,
          11.010000228881836,
          14.709999084472656,
          15.439998626708984,
          13.369998931884766
         ],
         "y": [
          0.5,
          0.5,
          1,
          1,
          1.5,
          1.5,
          5,
          5,
          0.5,
          5,
          2,
          0.5,
          0.5,
          0.5,
          1,
          1,
          2,
          2,
          2,
          2,
          5,
          5,
          5
         ],
         "z": [
          0.8730257153511047,
          2.6772446632385254,
          1.6990152597427368,
          3.8050527572631836,
          3.3348562717437744,
          4.535152912139893,
          1.3625102043151855,
          3.8412907123565674,
          1.2013570070266724,
          3.5136520862579346,
          3.4708714485168457,
          0.26329824328422546,
          2.7753403186798096,
          2.591306209564209,
          2.579984426498413,
          3.173818588256836,
          0.13150499761104584,
          0.45116370916366577,
          2.1266398429870605,
          3.468212842941284,
          3.685852527618408,
          3.445655584335327,
          2.6515469551086426
         ],
         "type": "scatter3d"
        },
        {
         "mode": "markers",
         "name": "max(upper confidence bound)",
         "x": [
          8.850208282470703
         ],
         "y": [
          1.3368226289749146
         ],
         "z": [
          2.4529519081115723
         ],
         "type": "scatter3d"
        },
        {
         "mode": "markers",
         "name": "max(thompson)",
         "x": [
          8.380627632141113
         ],
         "y": [
          0.8380541801452637
         ],
         "z": [
          2.4645981788635254
         ],
         "type": "scatter3d"
        },
        {
         "mode": "markers",
         "name": "max(pi)",
         "x": [
          8.850208282470703
         ],
         "y": [
          1.503078818321228
         ],
         "z": [
          2.444068670272827
         ],
         "type": "scatter3d"
        },
        {
         "mode": "markers",
         "name": "max(ei)",
         "x": [
          9.31978988647461
         ],
         "y": [
          1.503078818321228
         ],
         "z": [
          2.4661004543304443
         ],
         "type": "scatter3d"
        },
        {
         "mode": "markers",
         "name": "max(ca)",
         "x": [
          11.198114395141602
         ],
         "y": [
          1.3368226289749146
         ],
         "z": [
          2.4884893894195557
         ],
         "type": "scatter3d"
        }
       ],
       "layout": {
        "template": {
         "data": {
          "histogram2dcontour": [
           {
            "type": "histogram2dcontour",
            "colorbar": {
             "outlinewidth": 0,
             "ticks": ""
            },
            "colorscale": [
             [
              0,
              "#0d0887"
             ],
             [
              0.1111111111111111,
              "#46039f"
             ],
             [
              0.2222222222222222,
              "#7201a8"
             ],
             [
              0.3333333333333333,
              "#9c179e"
             ],
             [
              0.4444444444444444,
              "#bd3786"
             ],
             [
              0.5555555555555556,
              "#d8576b"
             ],
             [
              0.6666666666666666,
              "#ed7953"
             ],
             [
              0.7777777777777778,
              "#fb9f3a"
             ],
             [
              0.8888888888888888,
              "#fdca26"
             ],
             [
              1,
              "#f0f921"
             ]
            ]
           }
          ],
          "choropleth": [
           {
            "type": "choropleth",
            "colorbar": {
             "outlinewidth": 0,
             "ticks": ""
            }
           }
          ],
          "histogram2d": [
           {
            "type": "histogram2d",
            "colorbar": {
             "outlinewidth": 0,
             "ticks": ""
            },
            "colorscale": [
             [
              0,
              "#0d0887"
             ],
             [
              0.1111111111111111,
              "#46039f"
             ],
             [
              0.2222222222222222,
              "#7201a8"
             ],
             [
              0.3333333333333333,
              "#9c179e"
             ],
             [
              0.4444444444444444,
              "#bd3786"
             ],
             [
              0.5555555555555556,
              "#d8576b"
             ],
             [
              0.6666666666666666,
              "#ed7953"
             ],
             [
              0.7777777777777778,
              "#fb9f3a"
             ],
             [
              0.8888888888888888,
              "#fdca26"
             ],
             [
              1,
              "#f0f921"
             ]
            ]
           }
          ],
          "heatmap": [
           {
            "type": "heatmap",
            "colorbar": {
             "outlinewidth": 0,
             "ticks": ""
            },
            "colorscale": [
             [
              0,
              "#0d0887"
             ],
             [
              0.1111111111111111,
              "#46039f"
             ],
             [
              0.2222222222222222,
              "#7201a8"
             ],
             [
              0.3333333333333333,
              "#9c179e"
             ],
             [
              0.4444444444444444,
              "#bd3786"
             ],
             [
              0.5555555555555556,
              "#d8576b"
             ],
             [
              0.6666666666666666,
              "#ed7953"
             ],
             [
              0.7777777777777778,
              "#fb9f3a"
             ],
             [
              0.8888888888888888,
              "#fdca26"
             ],
             [
              1,
              "#f0f921"
             ]
            ]
           }
          ],
          "heatmapgl": [
           {
            "type": "heatmapgl",
            "colorbar": {
             "outlinewidth": 0,
             "ticks": ""
            },
            "colorscale": [
             [
              0,
              "#0d0887"
             ],
             [
              0.1111111111111111,
              "#46039f"
             ],
             [
              0.2222222222222222,
              "#7201a8"
             ],
             [
              0.3333333333333333,
              "#9c179e"
             ],
             [
              0.4444444444444444,
              "#bd3786"
             ],
             [
              0.5555555555555556,
              "#d8576b"
             ],
             [
              0.6666666666666666,
              "#ed7953"
             ],
             [
              0.7777777777777778,
              "#fb9f3a"
             ],
             [
              0.8888888888888888,
              "#fdca26"
             ],
             [
              1,
              "#f0f921"
             ]
            ]
           }
          ],
          "contourcarpet": [
           {
            "type": "contourcarpet",
            "colorbar": {
             "outlinewidth": 0,
             "ticks": ""
            }
           }
          ],
          "contour": [
           {
            "type": "contour",
            "colorbar": {
             "outlinewidth": 0,
             "ticks": ""
            },
            "colorscale": [
             [
              0,
              "#0d0887"
             ],
             [
              0.1111111111111111,
              "#46039f"
             ],
             [
              0.2222222222222222,
              "#7201a8"
             ],
             [
              0.3333333333333333,
              "#9c179e"
             ],
             [
              0.4444444444444444,
              "#bd3786"
             ],
             [
              0.5555555555555556,
              "#d8576b"
             ],
             [
              0.6666666666666666,
              "#ed7953"
             ],
             [
              0.7777777777777778,
              "#fb9f3a"
             ],
             [
              0.8888888888888888,
              "#fdca26"
             ],
             [
              1,
              "#f0f921"
             ]
            ]
           }
          ],
          "surface": [
           {
            "type": "surface",
            "colorbar": {
             "outlinewidth": 0,
             "ticks": ""
            },
            "colorscale": [
             [
              0,
              "#0d0887"
             ],
             [
              0.1111111111111111,
              "#46039f"
             ],
             [
              0.2222222222222222,
              "#7201a8"
             ],
             [
              0.3333333333333333,
              "#9c179e"
             ],
             [
              0.4444444444444444,
              "#bd3786"
             ],
             [
              0.5555555555555556,
              "#d8576b"
             ],
             [
              0.6666666666666666,
              "#ed7953"
             ],
             [
              0.7777777777777778,
              "#fb9f3a"
             ],
             [
              0.8888888888888888,
              "#fdca26"
             ],
             [
              1,
              "#f0f921"
             ]
            ]
           }
          ],
          "mesh3d": [
           {
            "type": "mesh3d",
            "colorbar": {
             "outlinewidth": 0,
             "ticks": ""
            }
           }
          ],
          "scatter": [
           {
            "fillpattern": {
             "fillmode": "overlay",
             "size": 10,
             "solidity": 0.2
            },
            "type": "scatter"
           }
          ],
          "parcoords": [
           {
            "type": "parcoords",
            "line": {
             "colorbar": {
              "outlinewidth": 0,
              "ticks": ""
             }
            }
           }
          ],
          "scatterpolargl": [
           {
            "type": "scatterpolargl",
            "marker": {
             "colorbar": {
              "outlinewidth": 0,
              "ticks": ""
             }
            }
           }
          ],
          "bar": [
           {
            "error_x": {
             "color": "#2a3f5f"
            },
            "error_y": {
             "color": "#2a3f5f"
            },
            "marker": {
             "line": {
              "color": "#E5ECF6",
              "width": 0.5
             },
             "pattern": {
              "fillmode": "overlay",
              "size": 10,
              "solidity": 0.2
             }
            },
            "type": "bar"
           }
          ],
          "scattergeo": [
           {
            "type": "scattergeo",
            "marker": {
             "colorbar": {
              "outlinewidth": 0,
              "ticks": ""
             }
            }
           }
          ],
          "scatterpolar": [
           {
            "type": "scatterpolar",
            "marker": {
             "colorbar": {
              "outlinewidth": 0,
              "ticks": ""
             }
            }
           }
          ],
          "histogram": [
           {
            "marker": {
             "pattern": {
              "fillmode": "overlay",
              "size": 10,
              "solidity": 0.2
             }
            },
            "type": "histogram"
           }
          ],
          "scattergl": [
           {
            "type": "scattergl",
            "marker": {
             "colorbar": {
              "outlinewidth": 0,
              "ticks": ""
             }
            }
           }
          ],
          "scatter3d": [
           {
            "type": "scatter3d",
            "line": {
             "colorbar": {
              "outlinewidth": 0,
              "ticks": ""
             }
            },
            "marker": {
             "colorbar": {
              "outlinewidth": 0,
              "ticks": ""
             }
            }
           }
          ],
          "scattermapbox": [
           {
            "type": "scattermapbox",
            "marker": {
             "colorbar": {
              "outlinewidth": 0,
              "ticks": ""
             }
            }
           }
          ],
          "scatterternary": [
           {
            "type": "scatterternary",
            "marker": {
             "colorbar": {
              "outlinewidth": 0,
              "ticks": ""
             }
            }
           }
          ],
          "scattercarpet": [
           {
            "type": "scattercarpet",
            "marker": {
             "colorbar": {
              "outlinewidth": 0,
              "ticks": ""
             }
            }
           }
          ],
          "carpet": [
           {
            "aaxis": {
             "endlinecolor": "#2a3f5f",
             "gridcolor": "white",
             "linecolor": "white",
             "minorgridcolor": "white",
             "startlinecolor": "#2a3f5f"
            },
            "baxis": {
             "endlinecolor": "#2a3f5f",
             "gridcolor": "white",
             "linecolor": "white",
             "minorgridcolor": "white",
             "startlinecolor": "#2a3f5f"
            },
            "type": "carpet"
           }
          ],
          "table": [
           {
            "cells": {
             "fill": {
              "color": "#EBF0F8"
             },
             "line": {
              "color": "white"
             }
            },
            "header": {
             "fill": {
              "color": "#C8D4E3"
             },
             "line": {
              "color": "white"
             }
            },
            "type": "table"
           }
          ],
          "barpolar": [
           {
            "marker": {
             "line": {
              "color": "#E5ECF6",
              "width": 0.5
             },
             "pattern": {
              "fillmode": "overlay",
              "size": 10,
              "solidity": 0.2
             }
            },
            "type": "barpolar"
           }
          ],
          "pie": [
           {
            "automargin": true,
            "type": "pie"
           }
          ]
         },
         "layout": {
          "autotypenumbers": "strict",
          "colorway": [
           "#636efa",
           "#EF553B",
           "#00cc96",
           "#ab63fa",
           "#FFA15A",
           "#19d3f3",
           "#FF6692",
           "#B6E880",
           "#FF97FF",
           "#FECB52"
          ],
          "font": {
           "color": "#2a3f5f"
          },
          "hovermode": "closest",
          "hoverlabel": {
           "align": "left"
          },
          "paper_bgcolor": "white",
          "plot_bgcolor": "#E5ECF6",
          "polar": {
           "bgcolor": "#E5ECF6",
           "angularaxis": {
            "gridcolor": "white",
            "linecolor": "white",
            "ticks": ""
           },
           "radialaxis": {
            "gridcolor": "white",
            "linecolor": "white",
            "ticks": ""
           }
          },
          "ternary": {
           "bgcolor": "#E5ECF6",
           "aaxis": {
            "gridcolor": "white",
            "linecolor": "white",
            "ticks": ""
           },
           "baxis": {
            "gridcolor": "white",
            "linecolor": "white",
            "ticks": ""
           },
           "caxis": {
            "gridcolor": "white",
            "linecolor": "white",
            "ticks": ""
           }
          },
          "coloraxis": {
           "colorbar": {
            "outlinewidth": 0,
            "ticks": ""
           }
          },
          "colorscale": {
           "sequential": [
            [
             0,
             "#0d0887"
            ],
            [
             0.1111111111111111,
             "#46039f"
            ],
            [
             0.2222222222222222,
             "#7201a8"
            ],
            [
             0.3333333333333333,
             "#9c179e"
            ],
            [
             0.4444444444444444,
             "#bd3786"
            ],
            [
             0.5555555555555556,
             "#d8576b"
            ],
            [
             0.6666666666666666,
             "#ed7953"
            ],
            [
             0.7777777777777778,
             "#fb9f3a"
            ],
            [
             0.8888888888888888,
             "#fdca26"
            ],
            [
             1,
             "#f0f921"
            ]
           ],
           "sequentialminus": [
            [
             0,
             "#0d0887"
            ],
            [
             0.1111111111111111,
             "#46039f"
            ],
            [
             0.2222222222222222,
             "#7201a8"
            ],
            [
             0.3333333333333333,
             "#9c179e"
            ],
            [
             0.4444444444444444,
             "#bd3786"
            ],
            [
             0.5555555555555556,
             "#d8576b"
            ],
            [
             0.6666666666666666,
             "#ed7953"
            ],
            [
             0.7777777777777778,
             "#fb9f3a"
            ],
            [
             0.8888888888888888,
             "#fdca26"
            ],
            [
             1,
             "#f0f921"
            ]
           ],
           "diverging": [
            [
             0,
             "#8e0152"
            ],
            [
             0.1,
             "#c51b7d"
            ],
            [
             0.2,
             "#de77ae"
            ],
            [
             0.3,
             "#f1b6da"
            ],
            [
             0.4,
             "#fde0ef"
            ],
            [
             0.5,
             "#f7f7f7"
            ],
            [
             0.6,
             "#e6f5d0"
            ],
            [
             0.7,
             "#b8e186"
            ],
            [
             0.8,
             "#7fbc41"
            ],
            [
             0.9,
             "#4d9221"
            ],
            [
             1,
             "#276419"
            ]
           ]
          },
          "xaxis": {
           "gridcolor": "white",
           "linecolor": "white",
           "ticks": "",
           "title": {
            "standoff": 15
           },
           "zerolinecolor": "white",
           "automargin": true,
           "zerolinewidth": 2
          },
          "yaxis": {
           "gridcolor": "white",
           "linecolor": "white",
           "ticks": "",
           "title": {
            "standoff": 15
           },
           "zerolinecolor": "white",
           "automargin": true,
           "zerolinewidth": 2
          },
          "scene": {
           "xaxis": {
            "backgroundcolor": "#E5ECF6",
            "gridcolor": "white",
            "linecolor": "white",
            "showbackground": true,
            "ticks": "",
            "zerolinecolor": "white",
            "gridwidth": 2
           },
           "yaxis": {
            "backgroundcolor": "#E5ECF6",
            "gridcolor": "white",
            "linecolor": "white",
            "showbackground": true,
            "ticks": "",
            "zerolinecolor": "white",
            "gridwidth": 2
           },
           "zaxis": {
            "backgroundcolor": "#E5ECF6",
            "gridcolor": "white",
            "linecolor": "white",
            "showbackground": true,
            "ticks": "",
            "zerolinecolor": "white",
            "gridwidth": 2
           }
          },
          "shapedefaults": {
           "line": {
            "color": "#2a3f5f"
           }
          },
          "annotationdefaults": {
           "arrowcolor": "#2a3f5f",
           "arrowhead": 0,
           "arrowwidth": 1
          },
          "geo": {
           "bgcolor": "white",
           "landcolor": "#E5ECF6",
           "subunitcolor": "white",
           "showland": true,
           "showlakes": true,
           "lakecolor": "white"
          },
          "title": {
           "x": 0.05
          },
          "mapbox": {
           "style": "light"
          }
         }
        },
        "margin": {
         "r": 20,
         "l": 10,
         "b": 10,
         "t": 10
        },
        "legend": {
         "orientation": "h",
         "yanchor": "bottom",
         "y": 1.02,
         "xanchor": "right",
         "x": 1
        },
        "width": 1000,
        "height": 600,
        "scene": {
         "xaxis": {
          "title": {
           "text": "Energy density new cone (J/cm^2)"
          }
         },
         "yaxis": {
          "title": {
           "text": "Pulse Width (msec)"
          }
         },
         "zaxis": {
          "title": {
           "text": "2 Qsw/(U+|D|) 1e6"
          }
         }
        }
       },
       "config": {
        "plotlyServerURL": "https://plot.ly"
       }
      }
     },
     "metadata": {}
    }
   ],
   "metadata": {}
  },
  {
   "cell_type": "code",
   "execution_count": 47,
   "source": [
    "print(test_grid.shape)"
   ],
   "outputs": [
    {
     "output_type": "stream",
     "name": "stdout",
     "text": [
      "torch.Size([30, 2])\n"
     ]
    }
   ],
   "metadata": {}
  },
  {
   "cell_type": "code",
   "execution_count": 159,
   "source": [
    "y_preds_1 = likelihood(model(torch.Tensor([[2.9, 9.04]])))\n",
    "with torch.no_grad():\n",
    "    y_preds_mean_1 = y_preds_1.mean.numpy()\n",
    "print(y_preds_mean_1)"
   ],
   "outputs": [
    {
     "output_type": "stream",
     "name": "stdout",
     "text": [
      "[2.4904187]\n"
     ]
    },
    {
     "output_type": "stream",
     "name": "stderr",
     "text": [
      "/Users/valenetjong/opt/anaconda3/envs/FEGP/lib/python3.9/site-packages/gpytorch/likelihoods/gaussian_likelihood.py:270: GPInputWarning:\n",
      "\n",
      "You have passed data through a FixedNoiseGaussianLikelihood that did not match the size of the fixed noise, *and* you did not specify noise. This is treated as a no-op.\n",
      "\n"
     ]
    }
   ],
   "metadata": {}
  },
  {
   "cell_type": "code",
   "execution_count": null,
   "source": [],
   "outputs": [],
   "metadata": {}
  }
 ],
 "metadata": {
  "orig_nbformat": 4,
  "language_info": {
   "name": "python",
   "version": "3.9.16",
   "mimetype": "text/x-python",
   "codemirror_mode": {
    "name": "ipython",
    "version": 3
   },
   "pygments_lexer": "ipython3",
   "nbconvert_exporter": "python",
   "file_extension": ".py"
  },
  "kernelspec": {
   "name": "python3",
   "display_name": "Python 3.9.16 64-bit ('FEGP': conda)"
  },
  "interpreter": {
   "hash": "b00f9bca1c18369f730e284e4d0522d8a3e0f0b629e30dad99ec4bb4df6f08b7"
  }
 },
 "nbformat": 4,
 "nbformat_minor": 2
}