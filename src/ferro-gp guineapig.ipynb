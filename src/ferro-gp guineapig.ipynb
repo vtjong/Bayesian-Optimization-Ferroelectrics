{
 "cells": [
  {
   "cell_type": "code",
   "execution_count": 106,
   "source": [
    "# Prep training data\n",
    "from copyreg import pickle\n",
    "from sklearn.preprocessing import StandardScaler\n",
    "from sklearn import preprocessing\n",
    "import sys\n",
    "from tkinter import Y\n",
    "import gzip\n",
    "import itertools\n",
    "import numpy as np\n",
    "import pandas as pd\n",
    "import pickle as pk\n",
    "import torch\n",
    "import gpytorch\n",
    "import plotly.express as px\n",
    "import matplotlib.pyplot as plt\n",
    "sys.path.append('..')\n",
    "sys.path.insert(0, '../src')"
   ],
   "outputs": [],
   "metadata": {}
  },
  {
   "cell_type": "code",
   "execution_count": 107,
   "source": [
    "from model import GPModel\n",
    "from GPy.models import GPRegression\n",
    "from acq_funcs import EI, PI, cust_acq, thompson\n",
    "from plotter import vis_pred, vis_acq"
   ],
   "outputs": [],
   "metadata": {}
  },
  {
   "cell_type": "markdown",
   "source": [
    "### Data Read and Pre-processing"
   ],
   "metadata": {}
  },
  {
   "cell_type": "code",
   "execution_count": 108,
   "source": [
    "# read data and display\n",
    "def read_dat(dir=\"/Users/valenetjong/Bayesian-Optimization-Ferroelectrics/data/\",\n",
    "            src_file = \"Bolometer_readings_PulseForge.xlsx\", sheet= \"Combined\"):\n",
    "    file = dir + src_file\n",
    "    fe_data = pd.read_excel(file, sheet_name=sheet, usecols=['Energy density new cone (J/cm^2)',\n",
    "                            'Time (ms)','2 Qsw/(U+|D|) 1e6cycles'])\n",
    "    fe_data.dropna(subset=['2 Qsw/(U+|D|) 1e6cycles'], inplace=True)\n",
    "    fe_data = fe_data[fe_data['2 Qsw/(U+|D|) 1e6cycles']!= 0]\n",
    "    return fe_data\n",
    "\n",
    "def display_data(fe_data):\n",
    "    \"\"\"\n",
    "    [display_data(fe_data)] creates a cross-section scatter plot of all combinations\n",
    "    of the four input parameters and single output parameter.\n",
    "    \"\"\"\n",
    "    # plot each cross-section\n",
    "    fig = px.scatter_matrix(fe_data, dimensions=['Energy density new cone (J/cm^2)', \n",
    "    \"Time (ms)\", \"2 Qsw/(U+|D|) 1e6cycles\"])\n",
    "    fig.update_layout(margin=dict(r=20, l=10, b=10, t=10))\n",
    "    fig.update_layout(height=1000)\n",
    "    fig.show()"
   ],
   "outputs": [],
   "metadata": {}
  },
  {
   "cell_type": "code",
   "execution_count": 109,
   "source": [
    "# get training set from dataframe\n",
    "def datasetmaker(fe_data):\n",
    "    \"\"\"\n",
    "    [datasetmaker(fe_data)] filters and transforms the data in pandas df [fe_data] \n",
    "    into two tensors, [train_x] for input and [train_y] for output tensors. \n",
    "    \"\"\"\n",
    "    # define standardizer\n",
    "    norm_arr = lambda arr, min, max: (arr - min)/(max - min)\n",
    "    \n",
    "    # filter training data \n",
    "    energy_den = fe_data['Energy density new cone (J/cm^2)'].values\n",
    "    time = fe_data['Time (ms)'].values\n",
    "    train_x = torch.Tensor(np.array([time, energy_den])).T\n",
    "    train_y = torch.Tensor(fe_data['2 Qsw/(U+|D|) 1e6cycles'].values)\n",
    "\n",
    "    # standardizer inputs; x_min, x_max are min/max per column (parameter) of x\n",
    "    x_min, _ = torch.min(train_x, dim=0)\n",
    "    x_max, _ = torch.max(train_x, dim=0)\n",
    "    train_x = norm_arr(train_x, x_min, x_max)\n",
    "\n",
    "    # standardizer outputs\n",
    "    y_sd_mean = torch.std_mean(train_y, axis=0)\n",
    "    # train_y = norm_arr(train_y, y_sd_mean[1], y_sd_mean[0])\n",
    "    \n",
    "    # return x_sd_mean, y_sd_mean, train_x, train_y\n",
    "    return x_min, x_max, train_x, train_y"
   ],
   "outputs": [],
   "metadata": {}
  },
  {
   "cell_type": "code",
   "execution_count": 110,
   "source": [
    "# undo normalization\n",
    "def un_norm(arr, min, max): return arr*(max - min) + min\n",
    "\n",
    "def un_norm_all(x_min, x_max, train_x, train_y, test_grid, pred_labels, upper_surf, lower_surf):\n",
    "    raw_train_x = un_norm(train_x, x_min, x_max)\n",
    "    raw_test_grid = un_norm(test_grid, x_min, x_max)\n",
    "\n",
    "    return raw_train_x, train_y, raw_test_grid, pred_labels, upper_surf, lower_surf"
   ],
   "outputs": [],
   "metadata": {}
  },
  {
   "cell_type": "code",
   "execution_count": 111,
   "source": [
    "fe_data = read_dat()\n",
    "print(fe_data)"
   ],
   "outputs": [
    {
     "output_type": "stream",
     "name": "stdout",
     "text": [
      "    Time (ms)  Energy density new cone (J/cm^2)  2 Qsw/(U+|D|) 1e6cycles\n",
      "4         0.5                              2.73                 0.873026\n",
      "5         0.5                              3.40                 2.677245\n",
      "6         1.0                              3.79                 1.699015\n",
      "7         1.0                              6.44                 3.805053\n",
      "8         1.5                              5.36                 3.334856\n",
      "9         1.5                              8.99                 4.535153\n",
      "11        5.0                              8.80                 1.362510\n",
      "13        5.0                             14.67                 3.841291\n",
      "19        0.5                              5.24                 1.201357\n",
      "22        5.0                             14.89                 3.513652\n",
      "23        2.0                             10.13                 3.470871\n",
      "24        0.5                              4.51                 0.263298\n",
      "25        0.5                              5.37                 2.775340\n",
      "27        0.5                              4.88                 2.591306\n",
      "28        1.0                              6.76                 2.579984\n",
      "29        1.0                              7.77                 3.173819\n",
      "31        2.0                              8.73                 0.131505\n",
      "32        2.0                              9.38                 0.451164\n",
      "33        2.0                             10.48                 2.126640\n",
      "34        2.0                             11.01                 3.468213\n",
      "35        5.0                             14.71                 3.685852\n",
      "36        5.0                             15.44                 3.445656\n",
      "37        5.0                             13.37                 2.651547\n"
     ]
    }
   ],
   "metadata": {}
  },
  {
   "cell_type": "code",
   "execution_count": 112,
   "source": [
    "display_data(fe_data)"
   ],
   "outputs": [
    {
     "output_type": "display_data",
     "data": {
      "application/vnd.plotly.v1+json": {
       "data": [
        {
         "dimensions": [
          {
           "axis": {
            "matches": true
           },
           "label": "Energy density new cone (J/cm^2)",
           "values": [
            2.73,
            3.4,
            3.79,
            6.44,
            5.36,
            8.99,
            8.8,
            14.67,
            5.24,
            14.89,
            10.13,
            4.51,
            5.37,
            4.88,
            6.76,
            7.77,
            8.73,
            9.38,
            10.48,
            11.01,
            14.71,
            15.44,
            13.37
           ]
          },
          {
           "axis": {
            "matches": true
           },
           "label": "Time (ms)",
           "values": [
            0.5,
            0.5,
            1,
            1,
            1.5,
            1.5,
            5,
            5,
            0.5,
            5,
            2,
            0.5,
            0.5,
            0.5,
            1,
            1,
            2,
            2,
            2,
            2,
            5,
            5,
            5
           ]
          },
          {
           "axis": {
            "matches": true
           },
           "label": "2 Qsw/(U+|D|) 1e6cycles",
           "values": [
            0.8730257299654021,
            2.677244640050493,
            1.6990152147413928,
            3.8050528055652655,
            3.3348561928152627,
            4.535152817359003,
            1.3625102372531497,
            3.841290609056986,
            1.2013569985324948,
            3.5136521918176413,
            3.4708714822041062,
            0.2632982379553876,
            2.7753404356378253,
            2.5913062464887977,
            2.579984359259049,
            3.1738185691110727,
            0.1315049942519029,
            0.4511637114621348,
            2.126639748505365,
            3.468212840642842,
            3.685852431471957,
            3.445655582638384,
            2.651546836022379
           ]
          }
         ],
         "hovertemplate": "%{xaxis.title.text}=%{x}<br>%{yaxis.title.text}=%{y}<extra></extra>",
         "legendgroup": "",
         "marker": {
          "color": "#636efa",
          "symbol": "circle"
         },
         "name": "",
         "showlegend": false,
         "type": "splom"
        }
       ],
       "layout": {
        "template": {
         "data": {
          "histogram2dcontour": [
           {
            "type": "histogram2dcontour",
            "colorbar": {
             "outlinewidth": 0,
             "ticks": ""
            },
            "colorscale": [
             [
              0,
              "#0d0887"
             ],
             [
              0.1111111111111111,
              "#46039f"
             ],
             [
              0.2222222222222222,
              "#7201a8"
             ],
             [
              0.3333333333333333,
              "#9c179e"
             ],
             [
              0.4444444444444444,
              "#bd3786"
             ],
             [
              0.5555555555555556,
              "#d8576b"
             ],
             [
              0.6666666666666666,
              "#ed7953"
             ],
             [
              0.7777777777777778,
              "#fb9f3a"
             ],
             [
              0.8888888888888888,
              "#fdca26"
             ],
             [
              1,
              "#f0f921"
             ]
            ]
           }
          ],
          "choropleth": [
           {
            "type": "choropleth",
            "colorbar": {
             "outlinewidth": 0,
             "ticks": ""
            }
           }
          ],
          "histogram2d": [
           {
            "type": "histogram2d",
            "colorbar": {
             "outlinewidth": 0,
             "ticks": ""
            },
            "colorscale": [
             [
              0,
              "#0d0887"
             ],
             [
              0.1111111111111111,
              "#46039f"
             ],
             [
              0.2222222222222222,
              "#7201a8"
             ],
             [
              0.3333333333333333,
              "#9c179e"
             ],
             [
              0.4444444444444444,
              "#bd3786"
             ],
             [
              0.5555555555555556,
              "#d8576b"
             ],
             [
              0.6666666666666666,
              "#ed7953"
             ],
             [
              0.7777777777777778,
              "#fb9f3a"
             ],
             [
              0.8888888888888888,
              "#fdca26"
             ],
             [
              1,
              "#f0f921"
             ]
            ]
           }
          ],
          "heatmap": [
           {
            "type": "heatmap",
            "colorbar": {
             "outlinewidth": 0,
             "ticks": ""
            },
            "colorscale": [
             [
              0,
              "#0d0887"
             ],
             [
              0.1111111111111111,
              "#46039f"
             ],
             [
              0.2222222222222222,
              "#7201a8"
             ],
             [
              0.3333333333333333,
              "#9c179e"
             ],
             [
              0.4444444444444444,
              "#bd3786"
             ],
             [
              0.5555555555555556,
              "#d8576b"
             ],
             [
              0.6666666666666666,
              "#ed7953"
             ],
             [
              0.7777777777777778,
              "#fb9f3a"
             ],
             [
              0.8888888888888888,
              "#fdca26"
             ],
             [
              1,
              "#f0f921"
             ]
            ]
           }
          ],
          "heatmapgl": [
           {
            "type": "heatmapgl",
            "colorbar": {
             "outlinewidth": 0,
             "ticks": ""
            },
            "colorscale": [
             [
              0,
              "#0d0887"
             ],
             [
              0.1111111111111111,
              "#46039f"
             ],
             [
              0.2222222222222222,
              "#7201a8"
             ],
             [
              0.3333333333333333,
              "#9c179e"
             ],
             [
              0.4444444444444444,
              "#bd3786"
             ],
             [
              0.5555555555555556,
              "#d8576b"
             ],
             [
              0.6666666666666666,
              "#ed7953"
             ],
             [
              0.7777777777777778,
              "#fb9f3a"
             ],
             [
              0.8888888888888888,
              "#fdca26"
             ],
             [
              1,
              "#f0f921"
             ]
            ]
           }
          ],
          "contourcarpet": [
           {
            "type": "contourcarpet",
            "colorbar": {
             "outlinewidth": 0,
             "ticks": ""
            }
           }
          ],
          "contour": [
           {
            "type": "contour",
            "colorbar": {
             "outlinewidth": 0,
             "ticks": ""
            },
            "colorscale": [
             [
              0,
              "#0d0887"
             ],
             [
              0.1111111111111111,
              "#46039f"
             ],
             [
              0.2222222222222222,
              "#7201a8"
             ],
             [
              0.3333333333333333,
              "#9c179e"
             ],
             [
              0.4444444444444444,
              "#bd3786"
             ],
             [
              0.5555555555555556,
              "#d8576b"
             ],
             [
              0.6666666666666666,
              "#ed7953"
             ],
             [
              0.7777777777777778,
              "#fb9f3a"
             ],
             [
              0.8888888888888888,
              "#fdca26"
             ],
             [
              1,
              "#f0f921"
             ]
            ]
           }
          ],
          "surface": [
           {
            "type": "surface",
            "colorbar": {
             "outlinewidth": 0,
             "ticks": ""
            },
            "colorscale": [
             [
              0,
              "#0d0887"
             ],
             [
              0.1111111111111111,
              "#46039f"
             ],
             [
              0.2222222222222222,
              "#7201a8"
             ],
             [
              0.3333333333333333,
              "#9c179e"
             ],
             [
              0.4444444444444444,
              "#bd3786"
             ],
             [
              0.5555555555555556,
              "#d8576b"
             ],
             [
              0.6666666666666666,
              "#ed7953"
             ],
             [
              0.7777777777777778,
              "#fb9f3a"
             ],
             [
              0.8888888888888888,
              "#fdca26"
             ],
             [
              1,
              "#f0f921"
             ]
            ]
           }
          ],
          "mesh3d": [
           {
            "type": "mesh3d",
            "colorbar": {
             "outlinewidth": 0,
             "ticks": ""
            }
           }
          ],
          "scatter": [
           {
            "fillpattern": {
             "fillmode": "overlay",
             "size": 10,
             "solidity": 0.2
            },
            "type": "scatter"
           }
          ],
          "parcoords": [
           {
            "type": "parcoords",
            "line": {
             "colorbar": {
              "outlinewidth": 0,
              "ticks": ""
             }
            }
           }
          ],
          "scatterpolargl": [
           {
            "type": "scatterpolargl",
            "marker": {
             "colorbar": {
              "outlinewidth": 0,
              "ticks": ""
             }
            }
           }
          ],
          "bar": [
           {
            "error_x": {
             "color": "#2a3f5f"
            },
            "error_y": {
             "color": "#2a3f5f"
            },
            "marker": {
             "line": {
              "color": "#E5ECF6",
              "width": 0.5
             },
             "pattern": {
              "fillmode": "overlay",
              "size": 10,
              "solidity": 0.2
             }
            },
            "type": "bar"
           }
          ],
          "scattergeo": [
           {
            "type": "scattergeo",
            "marker": {
             "colorbar": {
              "outlinewidth": 0,
              "ticks": ""
             }
            }
           }
          ],
          "scatterpolar": [
           {
            "type": "scatterpolar",
            "marker": {
             "colorbar": {
              "outlinewidth": 0,
              "ticks": ""
             }
            }
           }
          ],
          "histogram": [
           {
            "marker": {
             "pattern": {
              "fillmode": "overlay",
              "size": 10,
              "solidity": 0.2
             }
            },
            "type": "histogram"
           }
          ],
          "scattergl": [
           {
            "type": "scattergl",
            "marker": {
             "colorbar": {
              "outlinewidth": 0,
              "ticks": ""
             }
            }
           }
          ],
          "scatter3d": [
           {
            "type": "scatter3d",
            "line": {
             "colorbar": {
              "outlinewidth": 0,
              "ticks": ""
             }
            },
            "marker": {
             "colorbar": {
              "outlinewidth": 0,
              "ticks": ""
             }
            }
           }
          ],
          "scattermapbox": [
           {
            "type": "scattermapbox",
            "marker": {
             "colorbar": {
              "outlinewidth": 0,
              "ticks": ""
             }
            }
           }
          ],
          "scatterternary": [
           {
            "type": "scatterternary",
            "marker": {
             "colorbar": {
              "outlinewidth": 0,
              "ticks": ""
             }
            }
           }
          ],
          "scattercarpet": [
           {
            "type": "scattercarpet",
            "marker": {
             "colorbar": {
              "outlinewidth": 0,
              "ticks": ""
             }
            }
           }
          ],
          "carpet": [
           {
            "aaxis": {
             "endlinecolor": "#2a3f5f",
             "gridcolor": "white",
             "linecolor": "white",
             "minorgridcolor": "white",
             "startlinecolor": "#2a3f5f"
            },
            "baxis": {
             "endlinecolor": "#2a3f5f",
             "gridcolor": "white",
             "linecolor": "white",
             "minorgridcolor": "white",
             "startlinecolor": "#2a3f5f"
            },
            "type": "carpet"
           }
          ],
          "table": [
           {
            "cells": {
             "fill": {
              "color": "#EBF0F8"
             },
             "line": {
              "color": "white"
             }
            },
            "header": {
             "fill": {
              "color": "#C8D4E3"
             },
             "line": {
              "color": "white"
             }
            },
            "type": "table"
           }
          ],
          "barpolar": [
           {
            "marker": {
             "line": {
              "color": "#E5ECF6",
              "width": 0.5
             },
             "pattern": {
              "fillmode": "overlay",
              "size": 10,
              "solidity": 0.2
             }
            },
            "type": "barpolar"
           }
          ],
          "pie": [
           {
            "automargin": true,
            "type": "pie"
           }
          ]
         },
         "layout": {
          "autotypenumbers": "strict",
          "colorway": [
           "#636efa",
           "#EF553B",
           "#00cc96",
           "#ab63fa",
           "#FFA15A",
           "#19d3f3",
           "#FF6692",
           "#B6E880",
           "#FF97FF",
           "#FECB52"
          ],
          "font": {
           "color": "#2a3f5f"
          },
          "hovermode": "closest",
          "hoverlabel": {
           "align": "left"
          },
          "paper_bgcolor": "white",
          "plot_bgcolor": "#E5ECF6",
          "polar": {
           "bgcolor": "#E5ECF6",
           "angularaxis": {
            "gridcolor": "white",
            "linecolor": "white",
            "ticks": ""
           },
           "radialaxis": {
            "gridcolor": "white",
            "linecolor": "white",
            "ticks": ""
           }
          },
          "ternary": {
           "bgcolor": "#E5ECF6",
           "aaxis": {
            "gridcolor": "white",
            "linecolor": "white",
            "ticks": ""
           },
           "baxis": {
            "gridcolor": "white",
            "linecolor": "white",
            "ticks": ""
           },
           "caxis": {
            "gridcolor": "white",
            "linecolor": "white",
            "ticks": ""
           }
          },
          "coloraxis": {
           "colorbar": {
            "outlinewidth": 0,
            "ticks": ""
           }
          },
          "colorscale": {
           "sequential": [
            [
             0,
             "#0d0887"
            ],
            [
             0.1111111111111111,
             "#46039f"
            ],
            [
             0.2222222222222222,
             "#7201a8"
            ],
            [
             0.3333333333333333,
             "#9c179e"
            ],
            [
             0.4444444444444444,
             "#bd3786"
            ],
            [
             0.5555555555555556,
             "#d8576b"
            ],
            [
             0.6666666666666666,
             "#ed7953"
            ],
            [
             0.7777777777777778,
             "#fb9f3a"
            ],
            [
             0.8888888888888888,
             "#fdca26"
            ],
            [
             1,
             "#f0f921"
            ]
           ],
           "sequentialminus": [
            [
             0,
             "#0d0887"
            ],
            [
             0.1111111111111111,
             "#46039f"
            ],
            [
             0.2222222222222222,
             "#7201a8"
            ],
            [
             0.3333333333333333,
             "#9c179e"
            ],
            [
             0.4444444444444444,
             "#bd3786"
            ],
            [
             0.5555555555555556,
             "#d8576b"
            ],
            [
             0.6666666666666666,
             "#ed7953"
            ],
            [
             0.7777777777777778,
             "#fb9f3a"
            ],
            [
             0.8888888888888888,
             "#fdca26"
            ],
            [
             1,
             "#f0f921"
            ]
           ],
           "diverging": [
            [
             0,
             "#8e0152"
            ],
            [
             0.1,
             "#c51b7d"
            ],
            [
             0.2,
             "#de77ae"
            ],
            [
             0.3,
             "#f1b6da"
            ],
            [
             0.4,
             "#fde0ef"
            ],
            [
             0.5,
             "#f7f7f7"
            ],
            [
             0.6,
             "#e6f5d0"
            ],
            [
             0.7,
             "#b8e186"
            ],
            [
             0.8,
             "#7fbc41"
            ],
            [
             0.9,
             "#4d9221"
            ],
            [
             1,
             "#276419"
            ]
           ]
          },
          "xaxis": {
           "gridcolor": "white",
           "linecolor": "white",
           "ticks": "",
           "title": {
            "standoff": 15
           },
           "zerolinecolor": "white",
           "automargin": true,
           "zerolinewidth": 2
          },
          "yaxis": {
           "gridcolor": "white",
           "linecolor": "white",
           "ticks": "",
           "title": {
            "standoff": 15
           },
           "zerolinecolor": "white",
           "automargin": true,
           "zerolinewidth": 2
          },
          "scene": {
           "xaxis": {
            "backgroundcolor": "#E5ECF6",
            "gridcolor": "white",
            "linecolor": "white",
            "showbackground": true,
            "ticks": "",
            "zerolinecolor": "white",
            "gridwidth": 2
           },
           "yaxis": {
            "backgroundcolor": "#E5ECF6",
            "gridcolor": "white",
            "linecolor": "white",
            "showbackground": true,
            "ticks": "",
            "zerolinecolor": "white",
            "gridwidth": 2
           },
           "zaxis": {
            "backgroundcolor": "#E5ECF6",
            "gridcolor": "white",
            "linecolor": "white",
            "showbackground": true,
            "ticks": "",
            "zerolinecolor": "white",
            "gridwidth": 2
           }
          },
          "shapedefaults": {
           "line": {
            "color": "#2a3f5f"
           }
          },
          "annotationdefaults": {
           "arrowcolor": "#2a3f5f",
           "arrowhead": 0,
           "arrowwidth": 1
          },
          "geo": {
           "bgcolor": "white",
           "landcolor": "#E5ECF6",
           "subunitcolor": "white",
           "showland": true,
           "showlakes": true,
           "lakecolor": "white"
          },
          "title": {
           "x": 0.05
          },
          "mapbox": {
           "style": "light"
          }
         }
        },
        "legend": {
         "tracegroupgap": 0
        },
        "margin": {
         "t": 10,
         "r": 20,
         "l": 10,
         "b": 10
        },
        "dragmode": "select",
        "height": 1000
       },
       "config": {
        "plotlyServerURL": "https://plot.ly"
       }
      }
     },
     "metadata": {}
    }
   ],
   "metadata": {}
  },
  {
   "cell_type": "code",
   "execution_count": 113,
   "source": [
    "# make training data, maintain params to de-normalize\n",
    "# x_sd_mean, y_sd_mean, train_x, train_y = datasetmaker(fe_data)\n",
    "x_min, x_max, train_x, train_y = datasetmaker(fe_data)"
   ],
   "outputs": [],
   "metadata": {}
  },
  {
   "cell_type": "markdown",
   "source": [
    "### Grid/Parameter Space"
   ],
   "metadata": {}
  },
  {
   "cell_type": "code",
   "execution_count": 114,
   "source": [
    "# create grid for grid search\n",
    "def grid_helper(grid_size, num_params, grid_bounds):\n",
    "    \"\"\"\n",
    "    [grid_helper(grid_size, num_params, grid_bounds)] returns a grid of dimensions\n",
    "    [grid_size] by [num_params], which dictates the parameter space for GP to be \n",
    "    conducted over. \n",
    "    \"\"\"\n",
    "    grid = torch.zeros(grid_size, num_params)\n",
    "    f_grid_diff = lambda i, x, y : float((x[i][1] - x[i][0]) / (y-2))\n",
    "    for i in range(num_params):\n",
    "        grid_diff = f_grid_diff(i, grid_bounds, grid_size)\n",
    "        grid[:, i] = torch.linspace(grid_bounds[i][0] - grid_diff, \n",
    "                                    grid_bounds[i][1] + grid_diff, grid_size)\n",
    "    return grid\n",
    "\n",
    "def grid_maker(train_x, num_points=30):\n",
    "    \"\"\"\n",
    "    [grid_maker(train_x, num_points=30)] creates grids to be used for gaussian \n",
    "    process predictions. It outputs the dimension of the grid [num_params], \n",
    "    paramater space grid [test_grid], and [test_x].\n",
    "    \"\"\"\n",
    "    # define grid between bounds of RTA time, RTA temp\n",
    "    num_params = train_x.size(dim=1)\n",
    "    grid_bounds = [(train_x[:,i].min(), train_x[:,i].max()) for i in range(num_params)]\n",
    "\n",
    "    # set up test_grid for predictions\n",
    "    test_grid = grid_helper(num_points, num_params, grid_bounds)\n",
    "\n",
    "    # create n-D grid with n = num_params\n",
    "    args = (test_grid[:, i] for i in range(num_params))\n",
    "    test_x = torch.cartesian_prod(*args)\n",
    "    return grid_bounds, num_params, test_grid, test_x\n"
   ],
   "outputs": [],
   "metadata": {}
  },
  {
   "cell_type": "code",
   "execution_count": 115,
   "source": [
    "# create grid based on parameter space for search\n",
    "grid_bounds, num_params, test_grid, test_x = grid_maker(train_x)"
   ],
   "outputs": [],
   "metadata": {}
  },
  {
   "cell_type": "markdown",
   "source": [
    "### Noise Calculations"
   ],
   "metadata": {}
  },
  {
   "cell_type": "markdown",
   "source": [
    "Our figure of merit, fom, is $2 Q_{sw}/(U+|D|),$ so error propagation would result in a error of $\\sigma_{fom} = |fom|\\sqrt{{(\\sigma_{Q_{sw}}/Q_{sw}})^2+{(\\sigma_U^2 + \\sigma_{|D|}^2)/(U+|D|)^2)}}$. We have data for $2Pr$ measurements wrt device area. Using the $10\\mu$ m $\\times 10\\mu$ m data, we approximate the error for the figure of merit as simply $\\sigma_{2Pr}$, as we do not have $\\sigma_U$ or $\\sigma_D.$ \n"
   ],
   "metadata": {}
  },
  {
   "cell_type": "code",
   "execution_count": 116,
   "source": [
    "fn = \"/Users/valenetjong/Bayesian-Optimization-Ferroelectrics/data/P vs area.xlsx\"\n",
    "excel_file = pd.read_excel(fn, sheet_name='Sheet1')\n",
    "col_2Pr_10by10 = excel_file['10umx10um']\n",
    "sd = col_2Pr_10by10.std()/col_2Pr_10by10.mean()\n",
    "print(sd)\n",
    "print(col_2Pr_10by10)"
   ],
   "outputs": [
    {
     "output_type": "stream",
     "name": "stdout",
     "text": [
      "0.04469365441252401\n",
      "0     34.57379\n",
      "1     35.96416\n",
      "2     33.16083\n",
      "3     35.96861\n",
      "4     37.10497\n",
      "5     35.86549\n",
      "6     35.81341\n",
      "7     33.01597\n",
      "8     35.71753\n",
      "9     38.37434\n",
      "10    34.11144\n",
      "11    33.57596\n",
      "12    35.15750\n",
      "13    35.01515\n",
      "14    36.01072\n",
      "15    37.04952\n",
      "16    36.48895\n",
      "17    35.63807\n",
      "18    37.36247\n",
      "19    39.05057\n",
      "Name: 10umx10um, dtype: float64\n"
     ]
    }
   ],
   "metadata": {}
  },
  {
   "cell_type": "markdown",
   "source": [
    "### Initialize Model"
   ],
   "metadata": {}
  },
  {
   "cell_type": "code",
   "execution_count": 117,
   "source": [
    "# configuration parameters for training\n",
    "class Config():\n",
    "    def __init__(self):\n",
    "        self.epochs = 5000\n",
    "        self.kernel = \"matern\"\n",
    "        self.lr = 0.005\n",
    "        self.lscale_1 = 0.114\n",
    "        self.lscale_2 = 0.0488\n",
    "        self.lscale_3 = None\n",
    "        self.lscale_4 = None\n",
    "        self.dim = 2\n",
    "        self.noise = 0.15\n",
    "\n",
    "config = Config()"
   ],
   "outputs": [],
   "metadata": {}
  },
  {
   "cell_type": "code",
   "execution_count": 118,
   "source": [
    "# make model\n",
    "def kernel_func(config_kernel, num_params, lscale):\n",
    "    \"\"\"\n",
    "    [kernel_func(config_kernel, num_params, lscale)] returns kernel function with \n",
    "    dimensions specified by [num_params]. \n",
    "    \"\"\"\n",
    "    if config_kernel == \"rbf\":\n",
    "        return gpytorch.kernels.ScaleKernel(\n",
    "            gpytorch.kernels.RBFKernel(ard_num_dims=num_params))\n",
    "    elif config_kernel == \"matern\":\n",
    "        return gpytorch.kernels.ScaleKernel(gpytorch.kernels.MaternKernel(ard_num_dims=num_params, \n",
    "        lengthscale = torch.tensor(lscale), nu=0.5))\n",
    "\n",
    "def make_model(train_x, train_y, num_params, config):\n",
    "    \"\"\"\n",
    "    [make_model(train_x, train_y, num_params, config)] returns likelihood and \n",
    "    model with lengthscale, noise, kernel function specified by sweeps. \n",
    "    \"\"\"\n",
    "    \n",
    "    if config.dim == 2:\n",
    "        lscale = [config.lscale_1, config.lscale_2]\n",
    "    elif config.dim == 4:\n",
    "        lscale = [config.lscale_1, config.lscale_2, config.lscale_3, config.lscale_4]\n",
    "    kernel = kernel_func(config.kernel, num_params, lscale)\n",
    "    \n",
    "    print(kernel)\n",
    "    num_samples = len(train_x)\n",
    "    noise = config.noise*torch.ones(num_samples)\n",
    "    likelihood = gpytorch.likelihoods.FixedNoiseGaussianLikelihood(noise=noise)\n",
    "    model = GPModel(train_x, train_y, likelihood, kernel)\n",
    "\n",
    "    return likelihood, model, lscale\n",
    "    "
   ],
   "outputs": [],
   "metadata": {}
  },
  {
   "cell_type": "code",
   "execution_count": 119,
   "source": [
    "def intermediate_plot(f, ax, obs, title):\n",
    "    im = ax.imshow(obs.mean.view(30, 30), aspect='equal',\n",
    "                extent=[grid_bounds[0][0].item(), grid_bounds[0][1].item(),\n",
    "                            grid_bounds[1][0].item(), grid_bounds[1][1].item()])\n",
    "    f.colorbar(im)\n",
    "    ax.set_title(title)"
   ],
   "outputs": [],
   "metadata": {}
  },
  {
   "cell_type": "markdown",
   "source": [
    "### GP Training and Eval"
   ],
   "metadata": {}
  },
  {
   "cell_type": "code",
   "execution_count": 120,
   "source": [
    "# training and evaluation\n",
    "def train(train_x, train_y, num_params, config):\n",
    "    likelihood, model, lscale = make_model(train_x, train_y, num_params, config)\n",
    "    model.covar_module.base_kernel.lengthscale = torch.Tensor(lscale)\n",
    "    training_iter = config.epochs\n",
    "    model.covar_module.base_kernel.raw_lengthscale.requires_grad_(False) # disallow training of lengthscale\n",
    "    \n",
    "    # place both the model and likelihood in training mode\n",
    "    model.train(), likelihood.train()\n",
    "\n",
    "    # use Adam\n",
    "    optimizer = torch.optim.Adam(model.parameters(), lr=config.lr)\n",
    "\n",
    "    # set GP loss as the marginal log likelihood\n",
    "    mll = gpytorch.mlls.ExactMarginalLogLikelihood(likelihood, model)\n",
    "    loss_lst = []\n",
    "\n",
    "    for i in range(training_iter):\n",
    "        optimizer.zero_grad()\n",
    "        output = model(train_x)\n",
    "\n",
    "        # backpropagate error\n",
    "        loss = -mll(output, train_y)\n",
    "        loss.backward()\n",
    "\n",
    "        if i % 100 == 0: \n",
    "            print('Iter %d/%d - Loss: %.3f  lengthscale1: %s   noise: %s' % (\n",
    "                    i+1, training_iter, loss.item(), \n",
    "                    model.covar_module.base_kernel.lengthscale.detach().numpy(),\n",
    "                    model.likelihood.noise.detach().numpy()\n",
    "                    )) \n",
    "            loss_lst.append(loss.item())\n",
    "\n",
    "        # if i % 1000 == 0:\n",
    "        # # get a quick snapshot of intermediate \n",
    "        #     model.eval()\n",
    "        #     likelihood.eval()\n",
    "        #     with torch.no_grad(), gpytorch.settings.fast_pred_var():\n",
    "        #         obs = likelihood(model(test_x))\n",
    "        #         f, ax = plt.subplots(1, 1, figsize=(4,3))\n",
    "        #         intermediate_plot(f, ax, obs, f'iter {i+1}/{training_iter}')\n",
    "        #     model.train()\n",
    "        #     likelihood.train()\n",
    "        optimizer.step()\n",
    "        \n",
    "    print(model.covar_module.outputscale.detach().numpy())\n",
    "    return likelihood, model, loss_lst\n",
    "\n",
    "def eval_mod(likelihood, model, test_x):\n",
    "    \"\"\" \n",
    "    [eval_mod(likelihood, model, test_x)] evaluates GP model. \n",
    "    \"\"\"\n",
    "    model.eval(), likelihood.eval()\n",
    "    with torch.no_grad(), gpytorch.settings.fast_pred_var():\n",
    "        obs = likelihood(model(test_x), noise=(torch.ones(len(test_x))*config.noise))\n",
    "    return obs"
   ],
   "outputs": [],
   "metadata": {}
  },
  {
   "cell_type": "code",
   "execution_count": 121,
   "source": [
    "# train model and evaluate\n",
    "likelihood, model, loss_lst = train(train_x, train_y, num_params, config)\n",
    "\n",
    "obs = eval_mod(likelihood, model, test_x)"
   ],
   "outputs": [
    {
     "output_type": "stream",
     "name": "stdout",
     "text": [
      "ScaleKernel(\n",
      "  (base_kernel): MaternKernel(\n",
      "    (raw_lengthscale_constraint): Positive()\n",
      "  )\n",
      "  (raw_outputscale_constraint): Positive()\n",
      ")\n",
      "Iter 1/5000 - Loss: 3.777  lengthscale1: [[0.11400001 0.0488    ]]   noise: [0.15 0.15 0.15 0.15 0.15 0.15 0.15 0.15 0.15 0.15 0.15 0.15 0.15 0.15\n",
      " 0.15 0.15 0.15 0.15 0.15 0.15 0.15 0.15 0.15]\n",
      "Iter 101/5000 - Loss: 2.716  lengthscale1: [[0.11400001 0.0488    ]]   noise: [0.15 0.15 0.15 0.15 0.15 0.15 0.15 0.15 0.15 0.15 0.15 0.15 0.15 0.15\n",
      " 0.15 0.15 0.15 0.15 0.15 0.15 0.15 0.15 0.15]\n",
      "Iter 201/5000 - Loss: 2.243  lengthscale1: [[0.11400001 0.0488    ]]   noise: [0.15 0.15 0.15 0.15 0.15 0.15 0.15 0.15 0.15 0.15 0.15 0.15 0.15 0.15\n",
      " 0.15 0.15 0.15 0.15 0.15 0.15 0.15 0.15 0.15]\n",
      "Iter 301/5000 - Loss: 1.999  lengthscale1: [[0.11400001 0.0488    ]]   noise: [0.15 0.15 0.15 0.15 0.15 0.15 0.15 0.15 0.15 0.15 0.15 0.15 0.15 0.15\n",
      " 0.15 0.15 0.15 0.15 0.15 0.15 0.15 0.15 0.15]\n",
      "Iter 401/5000 - Loss: 1.861  lengthscale1: [[0.11400001 0.0488    ]]   noise: [0.15 0.15 0.15 0.15 0.15 0.15 0.15 0.15 0.15 0.15 0.15 0.15 0.15 0.15\n",
      " 0.15 0.15 0.15 0.15 0.15 0.15 0.15 0.15 0.15]\n",
      "Iter 501/5000 - Loss: 1.779  lengthscale1: [[0.11400001 0.0488    ]]   noise: [0.15 0.15 0.15 0.15 0.15 0.15 0.15 0.15 0.15 0.15 0.15 0.15 0.15 0.15\n",
      " 0.15 0.15 0.15 0.15 0.15 0.15 0.15 0.15 0.15]\n",
      "Iter 601/5000 - Loss: 1.728  lengthscale1: [[0.11400001 0.0488    ]]   noise: [0.15 0.15 0.15 0.15 0.15 0.15 0.15 0.15 0.15 0.15 0.15 0.15 0.15 0.15\n",
      " 0.15 0.15 0.15 0.15 0.15 0.15 0.15 0.15 0.15]\n",
      "Iter 701/5000 - Loss: 1.698  lengthscale1: [[0.11400001 0.0488    ]]   noise: [0.15 0.15 0.15 0.15 0.15 0.15 0.15 0.15 0.15 0.15 0.15 0.15 0.15 0.15\n",
      " 0.15 0.15 0.15 0.15 0.15 0.15 0.15 0.15 0.15]\n",
      "Iter 801/5000 - Loss: 1.679  lengthscale1: [[0.11400001 0.0488    ]]   noise: [0.15 0.15 0.15 0.15 0.15 0.15 0.15 0.15 0.15 0.15 0.15 0.15 0.15 0.15\n",
      " 0.15 0.15 0.15 0.15 0.15 0.15 0.15 0.15 0.15]\n",
      "Iter 901/5000 - Loss: 1.668  lengthscale1: [[0.11400001 0.0488    ]]   noise: [0.15 0.15 0.15 0.15 0.15 0.15 0.15 0.15 0.15 0.15 0.15 0.15 0.15 0.15\n",
      " 0.15 0.15 0.15 0.15 0.15 0.15 0.15 0.15 0.15]\n",
      "Iter 1001/5000 - Loss: 1.661  lengthscale1: [[0.11400001 0.0488    ]]   noise: [0.15 0.15 0.15 0.15 0.15 0.15 0.15 0.15 0.15 0.15 0.15 0.15 0.15 0.15\n",
      " 0.15 0.15 0.15 0.15 0.15 0.15 0.15 0.15 0.15]\n",
      "Iter 1101/5000 - Loss: 1.658  lengthscale1: [[0.11400001 0.0488    ]]   noise: [0.15 0.15 0.15 0.15 0.15 0.15 0.15 0.15 0.15 0.15 0.15 0.15 0.15 0.15\n",
      " 0.15 0.15 0.15 0.15 0.15 0.15 0.15 0.15 0.15]\n",
      "Iter 1201/5000 - Loss: 1.656  lengthscale1: [[0.11400001 0.0488    ]]   noise: [0.15 0.15 0.15 0.15 0.15 0.15 0.15 0.15 0.15 0.15 0.15 0.15 0.15 0.15\n",
      " 0.15 0.15 0.15 0.15 0.15 0.15 0.15 0.15 0.15]\n",
      "Iter 1301/5000 - Loss: 1.655  lengthscale1: [[0.11400001 0.0488    ]]   noise: [0.15 0.15 0.15 0.15 0.15 0.15 0.15 0.15 0.15 0.15 0.15 0.15 0.15 0.15\n",
      " 0.15 0.15 0.15 0.15 0.15 0.15 0.15 0.15 0.15]\n",
      "Iter 1401/5000 - Loss: 1.654  lengthscale1: [[0.11400001 0.0488    ]]   noise: [0.15 0.15 0.15 0.15 0.15 0.15 0.15 0.15 0.15 0.15 0.15 0.15 0.15 0.15\n",
      " 0.15 0.15 0.15 0.15 0.15 0.15 0.15 0.15 0.15]\n",
      "Iter 1501/5000 - Loss: 1.654  lengthscale1: [[0.11400001 0.0488    ]]   noise: [0.15 0.15 0.15 0.15 0.15 0.15 0.15 0.15 0.15 0.15 0.15 0.15 0.15 0.15\n",
      " 0.15 0.15 0.15 0.15 0.15 0.15 0.15 0.15 0.15]\n",
      "Iter 1601/5000 - Loss: 1.654  lengthscale1: [[0.11400001 0.0488    ]]   noise: [0.15 0.15 0.15 0.15 0.15 0.15 0.15 0.15 0.15 0.15 0.15 0.15 0.15 0.15\n",
      " 0.15 0.15 0.15 0.15 0.15 0.15 0.15 0.15 0.15]\n",
      "Iter 1701/5000 - Loss: 1.653  lengthscale1: [[0.11400001 0.0488    ]]   noise: [0.15 0.15 0.15 0.15 0.15 0.15 0.15 0.15 0.15 0.15 0.15 0.15 0.15 0.15\n",
      " 0.15 0.15 0.15 0.15 0.15 0.15 0.15 0.15 0.15]\n",
      "Iter 1801/5000 - Loss: 1.653  lengthscale1: [[0.11400001 0.0488    ]]   noise: [0.15 0.15 0.15 0.15 0.15 0.15 0.15 0.15 0.15 0.15 0.15 0.15 0.15 0.15\n",
      " 0.15 0.15 0.15 0.15 0.15 0.15 0.15 0.15 0.15]\n",
      "Iter 1901/5000 - Loss: 1.653  lengthscale1: [[0.11400001 0.0488    ]]   noise: [0.15 0.15 0.15 0.15 0.15 0.15 0.15 0.15 0.15 0.15 0.15 0.15 0.15 0.15\n",
      " 0.15 0.15 0.15 0.15 0.15 0.15 0.15 0.15 0.15]\n",
      "Iter 2001/5000 - Loss: 1.653  lengthscale1: [[0.11400001 0.0488    ]]   noise: [0.15 0.15 0.15 0.15 0.15 0.15 0.15 0.15 0.15 0.15 0.15 0.15 0.15 0.15\n",
      " 0.15 0.15 0.15 0.15 0.15 0.15 0.15 0.15 0.15]\n",
      "Iter 2101/5000 - Loss: 1.653  lengthscale1: [[0.11400001 0.0488    ]]   noise: [0.15 0.15 0.15 0.15 0.15 0.15 0.15 0.15 0.15 0.15 0.15 0.15 0.15 0.15\n",
      " 0.15 0.15 0.15 0.15 0.15 0.15 0.15 0.15 0.15]\n",
      "Iter 2201/5000 - Loss: 1.653  lengthscale1: [[0.11400001 0.0488    ]]   noise: [0.15 0.15 0.15 0.15 0.15 0.15 0.15 0.15 0.15 0.15 0.15 0.15 0.15 0.15\n",
      " 0.15 0.15 0.15 0.15 0.15 0.15 0.15 0.15 0.15]\n",
      "Iter 2301/5000 - Loss: 1.653  lengthscale1: [[0.11400001 0.0488    ]]   noise: [0.15 0.15 0.15 0.15 0.15 0.15 0.15 0.15 0.15 0.15 0.15 0.15 0.15 0.15\n",
      " 0.15 0.15 0.15 0.15 0.15 0.15 0.15 0.15 0.15]\n",
      "Iter 2401/5000 - Loss: 1.653  lengthscale1: [[0.11400001 0.0488    ]]   noise: [0.15 0.15 0.15 0.15 0.15 0.15 0.15 0.15 0.15 0.15 0.15 0.15 0.15 0.15\n",
      " 0.15 0.15 0.15 0.15 0.15 0.15 0.15 0.15 0.15]\n",
      "Iter 2501/5000 - Loss: 1.653  lengthscale1: [[0.11400001 0.0488    ]]   noise: [0.15 0.15 0.15 0.15 0.15 0.15 0.15 0.15 0.15 0.15 0.15 0.15 0.15 0.15\n",
      " 0.15 0.15 0.15 0.15 0.15 0.15 0.15 0.15 0.15]\n",
      "Iter 2601/5000 - Loss: 1.653  lengthscale1: [[0.11400001 0.0488    ]]   noise: [0.15 0.15 0.15 0.15 0.15 0.15 0.15 0.15 0.15 0.15 0.15 0.15 0.15 0.15\n",
      " 0.15 0.15 0.15 0.15 0.15 0.15 0.15 0.15 0.15]\n",
      "Iter 2701/5000 - Loss: 1.653  lengthscale1: [[0.11400001 0.0488    ]]   noise: [0.15 0.15 0.15 0.15 0.15 0.15 0.15 0.15 0.15 0.15 0.15 0.15 0.15 0.15\n",
      " 0.15 0.15 0.15 0.15 0.15 0.15 0.15 0.15 0.15]\n",
      "Iter 2801/5000 - Loss: 1.653  lengthscale1: [[0.11400001 0.0488    ]]   noise: [0.15 0.15 0.15 0.15 0.15 0.15 0.15 0.15 0.15 0.15 0.15 0.15 0.15 0.15\n",
      " 0.15 0.15 0.15 0.15 0.15 0.15 0.15 0.15 0.15]\n",
      "Iter 2901/5000 - Loss: 1.653  lengthscale1: [[0.11400001 0.0488    ]]   noise: [0.15 0.15 0.15 0.15 0.15 0.15 0.15 0.15 0.15 0.15 0.15 0.15 0.15 0.15\n",
      " 0.15 0.15 0.15 0.15 0.15 0.15 0.15 0.15 0.15]\n",
      "Iter 3001/5000 - Loss: 1.653  lengthscale1: [[0.11400001 0.0488    ]]   noise: [0.15 0.15 0.15 0.15 0.15 0.15 0.15 0.15 0.15 0.15 0.15 0.15 0.15 0.15\n",
      " 0.15 0.15 0.15 0.15 0.15 0.15 0.15 0.15 0.15]\n",
      "Iter 3101/5000 - Loss: 1.653  lengthscale1: [[0.11400001 0.0488    ]]   noise: [0.15 0.15 0.15 0.15 0.15 0.15 0.15 0.15 0.15 0.15 0.15 0.15 0.15 0.15\n",
      " 0.15 0.15 0.15 0.15 0.15 0.15 0.15 0.15 0.15]\n",
      "Iter 3201/5000 - Loss: 1.653  lengthscale1: [[0.11400001 0.0488    ]]   noise: [0.15 0.15 0.15 0.15 0.15 0.15 0.15 0.15 0.15 0.15 0.15 0.15 0.15 0.15\n",
      " 0.15 0.15 0.15 0.15 0.15 0.15 0.15 0.15 0.15]\n",
      "Iter 3301/5000 - Loss: 1.653  lengthscale1: [[0.11400001 0.0488    ]]   noise: [0.15 0.15 0.15 0.15 0.15 0.15 0.15 0.15 0.15 0.15 0.15 0.15 0.15 0.15\n",
      " 0.15 0.15 0.15 0.15 0.15 0.15 0.15 0.15 0.15]\n",
      "Iter 3401/5000 - Loss: 1.653  lengthscale1: [[0.11400001 0.0488    ]]   noise: [0.15 0.15 0.15 0.15 0.15 0.15 0.15 0.15 0.15 0.15 0.15 0.15 0.15 0.15\n",
      " 0.15 0.15 0.15 0.15 0.15 0.15 0.15 0.15 0.15]\n",
      "Iter 3501/5000 - Loss: 1.653  lengthscale1: [[0.11400001 0.0488    ]]   noise: [0.15 0.15 0.15 0.15 0.15 0.15 0.15 0.15 0.15 0.15 0.15 0.15 0.15 0.15\n",
      " 0.15 0.15 0.15 0.15 0.15 0.15 0.15 0.15 0.15]\n",
      "Iter 3601/5000 - Loss: 1.653  lengthscale1: [[0.11400001 0.0488    ]]   noise: [0.15 0.15 0.15 0.15 0.15 0.15 0.15 0.15 0.15 0.15 0.15 0.15 0.15 0.15\n",
      " 0.15 0.15 0.15 0.15 0.15 0.15 0.15 0.15 0.15]\n",
      "Iter 3701/5000 - Loss: 1.653  lengthscale1: [[0.11400001 0.0488    ]]   noise: [0.15 0.15 0.15 0.15 0.15 0.15 0.15 0.15 0.15 0.15 0.15 0.15 0.15 0.15\n",
      " 0.15 0.15 0.15 0.15 0.15 0.15 0.15 0.15 0.15]\n",
      "Iter 3801/5000 - Loss: 1.653  lengthscale1: [[0.11400001 0.0488    ]]   noise: [0.15 0.15 0.15 0.15 0.15 0.15 0.15 0.15 0.15 0.15 0.15 0.15 0.15 0.15\n",
      " 0.15 0.15 0.15 0.15 0.15 0.15 0.15 0.15 0.15]\n",
      "Iter 3901/5000 - Loss: 1.653  lengthscale1: [[0.11400001 0.0488    ]]   noise: [0.15 0.15 0.15 0.15 0.15 0.15 0.15 0.15 0.15 0.15 0.15 0.15 0.15 0.15\n",
      " 0.15 0.15 0.15 0.15 0.15 0.15 0.15 0.15 0.15]\n",
      "Iter 4001/5000 - Loss: 1.653  lengthscale1: [[0.11400001 0.0488    ]]   noise: [0.15 0.15 0.15 0.15 0.15 0.15 0.15 0.15 0.15 0.15 0.15 0.15 0.15 0.15\n",
      " 0.15 0.15 0.15 0.15 0.15 0.15 0.15 0.15 0.15]\n",
      "Iter 4101/5000 - Loss: 1.653  lengthscale1: [[0.11400001 0.0488    ]]   noise: [0.15 0.15 0.15 0.15 0.15 0.15 0.15 0.15 0.15 0.15 0.15 0.15 0.15 0.15\n",
      " 0.15 0.15 0.15 0.15 0.15 0.15 0.15 0.15 0.15]\n",
      "Iter 4201/5000 - Loss: 1.653  lengthscale1: [[0.11400001 0.0488    ]]   noise: [0.15 0.15 0.15 0.15 0.15 0.15 0.15 0.15 0.15 0.15 0.15 0.15 0.15 0.15\n",
      " 0.15 0.15 0.15 0.15 0.15 0.15 0.15 0.15 0.15]\n",
      "Iter 4301/5000 - Loss: 1.653  lengthscale1: [[0.11400001 0.0488    ]]   noise: [0.15 0.15 0.15 0.15 0.15 0.15 0.15 0.15 0.15 0.15 0.15 0.15 0.15 0.15\n",
      " 0.15 0.15 0.15 0.15 0.15 0.15 0.15 0.15 0.15]\n",
      "Iter 4401/5000 - Loss: 1.653  lengthscale1: [[0.11400001 0.0488    ]]   noise: [0.15 0.15 0.15 0.15 0.15 0.15 0.15 0.15 0.15 0.15 0.15 0.15 0.15 0.15\n",
      " 0.15 0.15 0.15 0.15 0.15 0.15 0.15 0.15 0.15]\n",
      "Iter 4501/5000 - Loss: 1.653  lengthscale1: [[0.11400001 0.0488    ]]   noise: [0.15 0.15 0.15 0.15 0.15 0.15 0.15 0.15 0.15 0.15 0.15 0.15 0.15 0.15\n",
      " 0.15 0.15 0.15 0.15 0.15 0.15 0.15 0.15 0.15]\n",
      "Iter 4601/5000 - Loss: 1.653  lengthscale1: [[0.11400001 0.0488    ]]   noise: [0.15 0.15 0.15 0.15 0.15 0.15 0.15 0.15 0.15 0.15 0.15 0.15 0.15 0.15\n",
      " 0.15 0.15 0.15 0.15 0.15 0.15 0.15 0.15 0.15]\n",
      "Iter 4701/5000 - Loss: 1.653  lengthscale1: [[0.11400001 0.0488    ]]   noise: [0.15 0.15 0.15 0.15 0.15 0.15 0.15 0.15 0.15 0.15 0.15 0.15 0.15 0.15\n",
      " 0.15 0.15 0.15 0.15 0.15 0.15 0.15 0.15 0.15]\n",
      "Iter 4801/5000 - Loss: 1.653  lengthscale1: [[0.11400001 0.0488    ]]   noise: [0.15 0.15 0.15 0.15 0.15 0.15 0.15 0.15 0.15 0.15 0.15 0.15 0.15 0.15\n",
      " 0.15 0.15 0.15 0.15 0.15 0.15 0.15 0.15 0.15]\n",
      "Iter 4901/5000 - Loss: 1.653  lengthscale1: [[0.11400001 0.0488    ]]   noise: [0.15 0.15 0.15 0.15 0.15 0.15 0.15 0.15 0.15 0.15 0.15 0.15 0.15 0.15\n",
      " 0.15 0.15 0.15 0.15 0.15 0.15 0.15 0.15 0.15]\n",
      "1.8191636\n"
     ]
    }
   ],
   "metadata": {}
  },
  {
   "cell_type": "markdown",
   "source": [
    "### GP Training Results"
   ],
   "metadata": {}
  },
  {
   "cell_type": "code",
   "execution_count": 122,
   "source": [
    "import matplotlib.pyplot as plt\n",
    "from sklearn.metrics import mean_squared_error, mean_absolute_error,r2_score\n",
    "from scipy.stats import spearmanr\n",
    "import matplotlib.pyplot as plt \n",
    "from plotter import prettyplot\n",
    "\n",
    "round_three = lambda val: np.round(val, 3) \n",
    "y_preds = likelihood(model(train_x))\n",
    "prettyplot()\n",
    "\n",
    "# plot training results\n",
    "with torch.no_grad():\n",
    "    y_preds_mean = y_preds.mean.numpy()\n",
    "    fig, axes = plt.subplots(1, 3, figsize=(5.5*3, 4.5))\n",
    "    fs = 14\n",
    "\n",
    "    # calculate error metrics\n",
    "    rmse = np.sqrt(mean_squared_error(train_y, y_preds_mean))\n",
    "    mae = mean_absolute_error(train_y,  y_preds_mean)\n",
    "    spearman = spearmanr(train_y, y_preds_mean)[0]\n",
    "    r2 = r2_score(train_y, y_preds_mean)\n",
    "    err_vals = [round_three(i) for i in [rmse, mae, spearman, r2]]\n",
    "\n",
    "    # print error metrics\n",
    "    data = {'Metric': ['RMSE', 'MAE', 'Spearman', 'R² score'], 'Value': err_vals}\n",
    "    df = pd.DataFrame(data)\n",
    "    print(df)\n",
    "\n",
    "    # training versus actuals plot: make plot, set title and axes values\n",
    "    axes[0].scatter(train_y, y_preds_mean)\n",
    "    axes[0].plot(np.linspace(0, 5, 5), np.linspace(0, 5, 5), 'k--')\n",
    "    axes[0].set_xlabel('Ground Truth 2 Qsw/(U+|D|) 1e6', fontsize = fs)\n",
    "    axes[0].set_ylabel('Prediction 2 Qsw/(U+|D|) 1e6', fontsize = fs)\n",
    "    axes[0].set_title('GP Training Results' + \" (MAE=%.2f\" % mae+' [%])', fontsize = fs)\n",
    "\n",
    "    # loss plot: make plot, set title and axes values\n",
    "    axes[1].plot(loss_lst, 'o-')\n",
    "    title = 'Training Loss'\n",
    "    axes[1].set_xlabel('Epoch (Per 100)', fontsize = fs)\n",
    "    axes[1].set_ylabel('Marginal Log Likelihood', fontsize = fs)\n",
    "    axes[1].set_title(title, fontsize = fs)\n",
    "    axes[2].axis(\"off\")\n",
    "\n",
    "    for i in range(len(axes)):\n",
    "        axes[i].tick_params(direction='in', length=5, width=1, labelsize = fs*.8)\n",
    "    plt.subplots_adjust(wspace = 0.4)\n",
    "\n",
    "    plt.show()"
   ],
   "outputs": [
    {
     "output_type": "stream",
     "name": "stdout",
     "text": [
      "     Metric  Value\n",
      "0      RMSE  0.147\n",
      "1       MAE  0.122\n",
      "2  Spearman  0.980\n",
      "3  R² score  0.986\n"
     ]
    },
    {
     "output_type": "stream",
     "name": "stderr",
     "text": [
      "/Users/valenetjong/opt/anaconda3/envs/FEGP/lib/python3.9/site-packages/gpytorch/models/exact_gp.py:274: GPInputWarning:\n",
      "\n",
      "The input matches the stored training data. Did you forget to call model.train()?\n",
      "\n"
     ]
    },
    {
     "output_type": "display_data",
     "data": {
      "image/png": "[encoded data removed]",
      "text/plain": [
       "<Figure size 3300x900 with 3 Axes>"
      ]
     },
     "metadata": {}
    }
   ],
   "metadata": {}
  },
  {
   "cell_type": "code",
   "execution_count": 123,
   "source": [
    "# acquisition function for prediction/exploration\n",
    "def get_bounds(n): return [n for i in range(config.dim)]\n",
    "\n",
    "def unravel_acq(acq_func, obs, bounds, train_y, nshape):\n",
    "    \"\"\" \n",
    "    [unravel_acq(acq_func, obs, bounds, train_y, nshape)] is a helper function \n",
    "    for acq that returns the coordinates of the maximum value of the acq_func \n",
    "    over the test grid in the form of a tuple (row_index, column_index). \n",
    "\n",
    "    row_index = index into time\n",
    "    column_index = index into energy density\n",
    "    \"\"\"\n",
    "    acq = acq_func(obs, bounds, train_y).detach().numpy().reshape(nshape).T\n",
    "    return np.unravel_index(acq.argmax(), acq.shape)\n",
    "\n",
    "def acq(obs, train_y, bounds):\n",
    "    \"\"\" \n",
    "    [acq(obs, train_y, bounds)] evaluates acquisition functions on current \n",
    "    predictions (observations) and outputs suggested points for exploration \n",
    "    on manifold. \n",
    "    \"\"\"\n",
    "    transpose = lambda tensor: tensor.detach().numpy().reshape(nshape).T\n",
    "    nshape = tuple(bounds)\n",
    "\n",
    "    pi = unravel_acq(PI, obs, bounds, train_y, nshape) # prob of improvement\n",
    "    ei = unravel_acq(EI, obs, bounds, train_y, nshape) # expected improvement\n",
    "    ca = unravel_acq(cust_acq, obs, bounds, train_y, nshape) # custom acq\n",
    "    th = unravel_acq(thompson, obs, bounds, train_y, nshape) # thompson acq\n",
    "\n",
    "    lower, upper = obs.confidence_region()\n",
    "    upper_surf, lower_surf = transpose(upper), transpose(lower)\n",
    "    ucb = np.unravel_index(upper_surf.argmax(), upper_surf.shape)\n",
    "\n",
    "    pred_var = obs.variance.view(nshape).detach().numpy().T\n",
    "    pred_labels = obs.mean.view(nshape)\n",
    "    max_var = np.unravel_index(pred_var.argmax(), pred_var.shape)\n",
    "\n",
    "    # acqs gives pairs corresponding to indices of time and energy density recommendations in grid\n",
    "    # pairs index into pred_labels \n",
    "    acqs = {\"PI\":pi, \"EI\":ei, \"CA\":ca, \"TH\":th, \"UCB\":ucb, \"Max_var\":max_var}\n",
    "\n",
    "    return pred_labels, upper_surf, lower_surf, acqs"
   ],
   "outputs": [],
   "metadata": {}
  },
  {
   "cell_type": "code",
   "execution_count": 124,
   "source": [
    "# export predictions to csv\n",
    "def pred_to_csv(acqs, raw_pred_labels, raw_test_grid, file_out = \"preds.csv\"):\n",
    "    \"\"\"\n",
    "    [pred_to_csv(acqs, raw_pred_labels, raw_test_grid)] outputs suggested\n",
    "    inputs and their respective predicted outputs to csv; returns suggested point\n",
    "    corresponding to ucb acquisition.\n",
    "    \"\"\"   \n",
    "    dir = \"/Users/valenetjong/Bayesian-Optimization-Ferroelectrics/predictions/\"\n",
    "    file = open(dir + file_out, \"w\", encoding=\"utf-8\")\n",
    "    file.write(\"Energy density \\t Time (ms)\\n\")\n",
    "    data = {'Time(ms)':[], 'Energy density new cone (J/cm^2)':[], '2 Qsw/(U+|D|) 1e6':[]}\n",
    "    ucb = []\n",
    "    for lab, coords in acqs.items(): \n",
    "        time_val = raw_test_grid[coords[1]].tolist()[0]\n",
    "        energy_den_val = raw_test_grid[coords[0]].tolist()[1]\n",
    "        data['Time(ms)'].append(time_val)\n",
    "        data['Energy density new cone (J/cm^2)'].append(energy_den_val)\n",
    "        file.write(lab + \": \" + str(time_val) + \"\\t\" + str(energy_den_val) + \"\\n\")\n",
    "        if lab == \"UCB\": ucb.append(time_val*1000), ucb.append(energy_den_val)\n",
    "\n",
    "    file.write(\"\\nFigure of merit\\n\")\n",
    "    for lab, coords in acqs.items():\n",
    "        fig_of_merit = raw_pred_labels[coords].item()\n",
    "        data['2 Qsw/(U+|D|) 1e6'].append(fig_of_merit)\n",
    "        file.write(lab + \": \" + str(fig_of_merit) + \"\\n\")\n",
    "        if lab == \"UCB\": ucb.append(fig_of_merit)\n",
    "\n",
    "    df = pd.DataFrame(data)\n",
    "    print(df)\n",
    "    return ucb\n"
   ],
   "outputs": [],
   "metadata": {}
  },
  {
   "cell_type": "code",
   "execution_count": 125,
   "source": [
    "# get normalized predictions\n",
    "bounds = get_bounds(n=30)\n",
    "pred_labels, upper_surf, lower_surf, acqs = acq(obs, train_y, bounds)\n",
    "\n",
    "# undo normalization\n",
    "raw_train_x, raw_train_y, raw_test_grid, raw_pred_labels, raw_upper_surf, raw_lower_surf = un_norm_all(x_min, x_max, train_x, train_y, test_grid, pred_labels, upper_surf, lower_surf)\n"
   ],
   "outputs": [],
   "metadata": {}
  },
  {
   "cell_type": "markdown",
   "source": [
    "### Save Predictions and Visualize "
   ],
   "metadata": {}
  },
  {
   "cell_type": "code",
   "execution_count": 126,
   "source": [
    "# undo normalization and save to csv\n",
    "ucb = pred_to_csv(acqs, raw_pred_labels, raw_test_grid)\n",
    "print(ucb)"
   ],
   "outputs": [
    {
     "output_type": "stream",
     "name": "stdout",
     "text": [
      "   Time(ms)  Energy density new cone (J/cm^2)  2 Qsw/(U+|D|) 1e6\n",
      "0  1.336823                          8.850208           2.532398\n",
      "1  1.336823                          8.850208           2.532398\n",
      "2  4.163177                         14.954765           2.576207\n",
      "3  3.165640                          3.215234           2.620272\n",
      "4  1.170567                          8.850208           2.501391\n",
      "5  5.160714                          2.276072           2.465462\n",
      "[1170.5665588378906, 8.850208282470703, 2.5013906955718994]\n"
     ]
    }
   ],
   "metadata": {}
  },
  {
   "cell_type": "code",
   "execution_count": 127,
   "source": [
    "# visualize acquisition function results and confidence bound surfaces\n",
    "vis_pred(raw_train_x, raw_train_y, raw_test_grid, raw_pred_labels)\n",
    "vis_acq(raw_train_x, raw_train_y, raw_test_grid, raw_pred_labels, raw_upper_surf, raw_lower_surf, acqs)"
   ],
   "outputs": [
    {
     "output_type": "display_data",
     "data": {
      "application/vnd.plotly.v1+json": {
       "data": [
        {
         "name": "GP regression",
         "x": [
          0.3392857015132904,
          0.5055418610572815,
          0.6717979907989502,
          0.8380541801452637,
          1.0043103694915771,
          1.1705665588378906,
          1.3368226289749146,
          1.503078818321228,
          1.669334888458252,
          1.8355910778045654,
          2.001847267150879,
          2.1681032180786133,
          2.334359645843506,
          2.5006155967712402,
          2.666872024536133,
          2.833127975463867,
          2.9993844032287598,
          3.165640354156494,
          3.3318967819213867,
          3.498152494430542,
          3.6644086837768555,
          3.830664873123169,
          3.9969210624694824,
          4.163177490234375,
          4.329433441162109,
          4.495689392089844,
          4.661945819854736,
          4.828201770782471,
          4.994458198547363,
          5.160714149475098
         ],
         "y": [
          2.276071548461914,
          2.745652675628662,
          3.2152340412139893,
          3.6848151683807373,
          4.1543965339660645,
          4.6239776611328125,
          5.093559265136719,
          5.563139915466309,
          6.032721519470215,
          6.502302646636963,
          6.971883773803711,
          7.441464900970459,
          7.911046028137207,
          8.380627632141113,
          8.850208282470703,
          9.31978988647461,
          9.789371490478516,
          10.258953094482422,
          10.728534698486328,
          11.198114395141602,
          11.667695999145508,
          12.137277603149414,
          12.60685920715332,
          13.076440811157227,
          13.5460205078125,
          14.015602111816406,
          14.485183715820312,
          14.954765319824219,
          15.424346923828125,
          15.893926620483398
         ],
         "z": [
          [
           1.8130139112472534,
           1.7633638381958008,
           1.8119080066680908,
           1.9205207824707031,
           2.036482572555542,
           2.1361823081970215,
           2.215380907058716,
           2.2765066623687744,
           2.3232269287109375,
           2.3588101863861084,
           2.3858399391174316,
           2.4063003063201904,
           2.42171573638916,
           2.4332656860351562,
           2.4418673515319824,
           2.448232889175415,
           2.4529144763946533,
           2.456336736679077,
           2.4588239192962646,
           2.4606215953826904,
           2.461914300918579,
           2.4628396034240723,
           2.463498592376709,
           2.4639663696289062,
           2.46429705619812,
           2.4645299911499023,
           2.464693784713745,
           2.464808702468872,
           2.4648890495300293,
           2.4649455547332764
          ],
          [
           1.4615072011947632,
           1.061806082725525,
           1.4661593437194824,
           1.7479857206344604,
           1.9356002807617188,
           2.0663609504699707,
           2.162419557571411,
           2.2356181144714355,
           2.2922606468200684,
           2.3360910415649414,
           2.3697352409362793,
           2.3952736854553223,
           2.4144294261932373,
           2.428633689880371,
           2.439054012298584,
           2.4466235637664795,
           2.452073335647583,
           2.455965042114258,
           2.458723783493042,
           2.4606659412384033,
           2.4620249271392822,
           2.462970495223999,
           2.4636247158050537,
           2.4640750885009766,
           2.464384078979492,
           2.464595079421997,
           2.4647388458251953,
           2.464836597442627,
           2.4649031162261963,
           2.4649486541748047
          ],
          [
           2.1634721755981445,
           2.1950221061706543,
           2.1064743995666504,
           2.038745403289795,
           2.036613702774048,
           2.079953908920288,
           2.1450753211975098,
           2.2131035327911377,
           2.273827075958252,
           2.3237054347991943,
           2.3626768589019775,
           2.392118453979492,
           2.413813591003418,
           2.4294891357421875,
           2.4406332969665527,
           2.448446750640869,
           2.4538588523864746,
           2.457566976547241,
           2.4600820541381836,
           2.4617719650268555,
           2.4628968238830566,
           2.4636385440826416,
           2.464123010635376,
           2.4644362926483154,
           2.46463680267334,
           2.464763879776001,
           2.46484375,
           2.4648940563201904,
           2.464925765991211,
           2.4649462699890137
          ],
          [
           2.155337333679199,
           2.146883487701416,
           2.0474565029144287,
           1.9216511249542236,
           1.8518619537353516,
           1.9544882774353027,
           2.080596923828125,
           2.1859049797058105,
           2.267958879470825,
           2.3292975425720215,
           2.3736612796783447,
           2.4048497676849365,
           2.4262306690216064,
           2.4405577182769775,
           2.449955701828003,
           2.455993890762329,
           2.459789991378784,
           2.4621198177337646,
           2.463508129119873,
           2.464304208755493,
           2.464735507965088,
           2.4649481773376465,
           2.4650344848632812,
           2.4650514125823975,
           2.465033531188965,
           2.4650015830993652,
           2.4649667739868164,
           2.464935302734375,
           2.4649102687835693,
           2.4648923873901367
          ],
          [
           1.5064878463745117,
           1.3883888721466064,
           1.4610867500305176,
           1.6256825923919678,
           1.7968194484710693,
           1.9671686887741089,
           2.120716094970703,
           2.2419655323028564,
           2.329576015472412,
           2.3887593746185303,
           2.4263672828674316,
           2.4488413333892822,
           2.461369514465332,
           2.4677231311798096,
           2.4704437255859375,
           2.4711503982543945,
           2.470827102661133,
           2.4700467586517334,
           2.4691262245178223,
           2.468229055404663,
           2.4674301147460938,
           2.4667553901672363,
           2.466205358505249,
           2.465768575668335,
           2.4654288291931152,
           2.465170383453369,
           2.464977741241455,
           2.464838743209839,
           2.464742422103882,
           2.4646801948547363
          ],
          [
           1.3881466388702393,
           1.129500150680542,
           1.4346442222595215,
           1.751770257949829,
           1.9998565912246704,
           2.1974806785583496,
           2.3494555950164795,
           2.454690456390381,
           2.514936923980713,
           2.5398201942443848,
           2.542830467224121,
           2.5351479053497314,
           2.523663282394409,
           2.511902093887329,
           2.5013906955718994,
           2.492617607116699,
           2.4855828285217285,
           2.480086088180542,
           2.4758667945861816,
           2.4726693630218506,
           2.4702694416046143,
           2.4684815406799316,
           2.467158317565918,
           2.4661848545074463,
           2.4654743671417236,
           2.464961528778076,
           2.4645981788635254,
           2.464348077774048,
           2.4641852378845215,
           2.46409010887146
          ],
          [
           1.9889342784881592,
           1.8953649997711182,
           2.086655855178833,
           2.270925283432007,
           2.441967725753784,
           2.6161227226257324,
           2.781278133392334,
           2.881730079650879,
           2.85925555229187,
           2.7811496257781982,
           2.704545021057129,
           2.6423287391662598,
           2.594597816467285,
           2.5588438510894775,
           2.532398223876953,
           2.5129921436309814,
           2.4988315105438232,
           2.4885427951812744,
           2.4810919761657715,
           2.4757096767425537,
           2.471827983856201,
           2.46903133392334,
           2.4670181274414062,
           2.465571403503418,
           2.464536666870117,
           2.4638051986694336,
           2.4633004665374756,
           2.4629690647125244,
           2.4627726078033447,
           2.4626832008361816
          ],
          [
           2.5370638370513916,
           2.6623525619506836,
           2.677220344543457,
           2.7307698726654053,
           2.8294010162353516,
           2.944427490234375,
           3.062495708465576,
           3.1218533515930176,
           3.0307397842407227,
           2.895670175552368,
           2.7811615467071533,
           2.693432569503784,
           2.6283063888549805,
           2.5806493759155273,
           2.546072006225586,
           2.521137237548828,
           2.5032424926757812,
           2.4904491901397705,
           2.481327772140503,
           2.4748318195343018,
           2.4702014923095703,
           2.4668915271759033,
           2.4645159244537354,
           2.4628052711486816,
           2.4615767002105713,
           2.460707902908325,
           2.4601192474365234,
           2.4597582817077637,
           2.4595892429351807,
           2.4595842361450195
          ],
          [
           2.719792366027832,
           2.830003261566162,
           2.95683217048645,
           3.0854992866516113,
           3.1653261184692383,
           3.1523807048797607,
           3.081655502319336,
           2.9947171211242676,
           2.9031474590301514,
           2.81272292137146,
           2.73073148727417,
           2.661841869354248,
           2.60701847076416,
           2.564969062805176,
           2.5335474014282227,
           2.5105202198028564,
           2.493896007537842,
           2.482024908065796,
           2.4736008644104004,
           2.467623710632324,
           2.463350772857666,
           2.460247755050659,
           2.457947015762329,
           2.4562082290649414,
           2.4548873901367188,
           2.4539084434509277,
           2.4532392024993896,
           2.4528703689575195,
           2.4527981281280518,
           2.453012228012085
          ],
          [
           2.7436861991882324,
           2.8479177951812744,
           2.9916157722473145,
           3.205148220062256,
           3.457563638687134,
           3.211148738861084,
           3.018310070037842,
           2.8875439167022705,
           2.7887911796569824,
           2.7096517086029053,
           2.6450459957122803,
           2.5928163528442383,
           2.5516436100006104,
           2.520200490951538,
           2.4969725608825684,
           2.480351686477661,
           2.4687860012054443,
           2.4608957767486572,
           2.455535650253296,
           2.4518120288848877,
           2.4490697383880615,
           2.4468653202056885,
           2.444934606552124,
           2.4431605339050293,
           2.4415407180786133,
           2.4401533603668213,
           2.439121723175049,
           2.438575506210327,
           2.4386146068573,
           2.439281463623047
          ],
          [
           2.684589147567749,
           2.723545551300049,
           2.7422375679016113,
           2.7191967964172363,
           2.683633327484131,
           2.713841438293457,
           2.725860118865967,
           2.6951680183410645,
           2.643885850906372,
           2.588822841644287,
           2.5388400554656982,
           2.4979639053344727,
           2.467363119125366,
           2.4464399814605713,
           2.433586597442627,
           2.426781177520752,
           2.4240238666534424,
           2.4235947132110596,
           2.4241573810577393,
           2.4247634410858154,
           2.4248080253601074,
           2.423973798751831,
           2.4221861362457275,
           2.419581651687622,
           2.4164795875549316,
           2.4133472442626953,
           2.4107353687286377,
           2.4091832637786865,
           2.4091033935546875,
           2.41068434715271
          ],
          [
           2.6847493648529053,
           2.735964298248291,
           2.7907400131225586,
           2.8398773670196533,
           2.854595184326172,
           2.8085460662841797,
           2.726536512374878,
           2.634958028793335,
           2.5445990562438965,
           2.463109254837036,
           2.3974990844726562,
           2.3521995544433594,
           2.327561855316162,
           2.3202688694000244,
           2.3251073360443115,
           2.336785316467285,
           2.351008415222168,
           2.364777088165283,
           2.376235008239746,
           2.3843703269958496,
           2.388737440109253,
           2.389270067214966,
           2.386197805404663,
           2.380052089691162,
           2.3717334270477295,
           2.3625717163085938,
           2.3542864322662354,
           2.348736047744751,
           2.3474459648132324,
           2.3510987758636475
          ],
          [
           2.7109367847442627,
           2.7836761474609375,
           2.8740150928497314,
           2.978294849395752,
           3.0401554107666016,
           2.937865734100342,
           2.7793996334075928,
           2.60428524017334,
           2.420985698699951,
           2.2512574195861816,
           2.1249313354492188,
           2.0609934329986572,
           2.055527925491333,
           2.0888798236846924,
           2.140078544616699,
           2.1943252086639404,
           2.243382692337036,
           2.2835240364074707,
           2.3135509490966797,
           2.3334639072418213,
           2.343696117401123,
           2.344748020172119,
           2.3371047973632812,
           2.3213977813720703,
           2.2988290786743164,
           2.271862268447876,
           2.2449748516082764,
           2.224708318710327,
           2.217787027359009,
           2.227426528930664
          ],
          [
           2.715573310852051,
           2.787053108215332,
           2.8680202960968018,
           2.947911262512207,
           3.005756378173828,
           3.0105347633361816,
           2.9190165996551514,
           2.67952299118042,
           2.2797231674194336,
           1.8095695972442627,
           1.47081458568573,
           1.4177138805389404,
           1.547904133796692,
           1.7225059270858765,
           1.88470458984375,
           2.0186069011688232,
           2.1224939823150635,
           2.199230670928955,
           2.2526941299438477,
           2.286353588104248,
           2.3027191162109375,
           2.3031680583953857,
           2.287945508956909,
           2.2563161849975586,
           2.2070181369781494,
           2.1395795345306396,
           2.057995319366455,
           1.9795494079589844,
           1.9434962272644043,
           1.9797483682632446
          ],
          [
           2.708814859390259,
           2.7868001461029053,
           2.887577533721924,
           3.017569065093994,
           3.1854054927825928,
           3.399854898452759,
           3.6451470851898193,
           3.6306331157684326,
           2.7088890075683594,
           1.5652110576629639,
           0.7174673080444336,
           0.8065489530563354,
           1.1485910415649414,
           1.4670801162719727,
           1.7234327793121338,
           1.9174052476882935,
           2.058814525604248,
           2.158568859100342,
           2.22579288482666,
           2.2671802043914795,
           2.2870631217956543,
           2.287621259689331,
           2.2690184116363525,
           2.2293927669525146,
           2.1646649837493896,
           2.0681567192077637,
           1.9300944805145264,
           1.7380189895629883,
           1.5252985954284668,
           1.7277319431304932
          ],
          [
           2.6746833324432373,
           2.741894006729126,
           2.8286385536193848,
           2.9383883476257324,
           3.0708043575286865,
           3.2098474502563477,
           3.28505802154541,
           3.100649833679199,
           2.4869537353515625,
           1.6014745235443115,
           0.7810852527618408,
           1.0089457035064697,
           1.3406007289886475,
           1.6176419258117676,
           1.833958625793457,
           1.996377944946289,
           2.1149158477783203,
           2.198920488357544,
           2.2558820247650146,
           2.291289806365967,
           2.308824300765991,
           2.3106226921081543,
           2.2975656986236572,
           2.269650459289551,
           2.226663112640381,
           2.1696548461914062,
           2.104184150695801,
           2.045788526535034,
           2.0210583209991455,
           2.04697322845459
          ],
          [
           2.6183528900146484,
           2.6602203845977783,
           2.708604097366333,
           2.759871482849121,
           2.8051252365112305,
           2.8274683952331543,
           2.8025474548339844,
           2.709743022918701,
           2.5551278591156006,
           2.3826160430908203,
           2.237372636795044,
           2.135692834854126,
           2.1011314392089844,
           2.1217751502990723,
           2.1678457260131836,
           2.2190375328063965,
           2.2653043270111084,
           2.3026809692382812,
           2.3301947116851807,
           2.3481292724609375,
           2.357158660888672,
           2.357984781265259,
           2.351282835006714,
           2.337867259979248,
           2.3190524578094482,
           2.29715895652771,
           2.27593994140625,
           2.260385751724243,
           2.2552709579467773,
           2.2628042697906494
          ],
          [
           2.568666934967041,
           2.5932204723358154,
           2.620272397994995,
           2.6481146812438965,
           2.674165725708008,
           2.6956958770751953,
           2.7118306159973145,
           2.7270736694335938,
           2.755918025970459,
           2.827704668045044,
           2.908022403717041,
           2.7310256958007812,
           2.579974889755249,
           2.4933278560638428,
           2.4463140964508057,
           2.423077344894409,
           2.4133169651031494,
           2.4104175567626953,
           2.410271406173706,
           2.41042423248291,
           2.409484624862671,
           2.4067511558532715,
           2.4020116329193115,
           2.395458936691284,
           2.3876776695251465,
           2.379638195037842,
           2.372615337371826,
           2.3679707050323486,
           2.3668012619018555,
           2.3695857524871826
          ],
          [
           2.5366947650909424,
           2.5540692806243896,
           2.5745911598205566,
           2.598618268966675,
           2.6266350746154785,
           2.6592113971710205,
           2.696410655975342,
           2.7357218265533447,
           2.7675254344940186,
           2.772374153137207,
           2.750502347946167,
           2.7364046573638916,
           2.6987502574920654,
           2.64145827293396,
           2.5855069160461426,
           2.540404796600342,
           2.5073816776275635,
           2.4843873977661133,
           2.4686803817749023,
           2.457829236984253,
           2.449984073638916,
           2.443868637084961,
           2.438689947128296,
           2.4340429306030273,
           2.4298243522644043,
           2.4261538982391357,
           2.4232876300811768,
           2.4215199947357178,
           2.4210827350616455,
           2.4220638275146484
          ],
          [
           2.517052173614502,
           2.5311858654022217,
           2.549227714538574,
           2.5725386142730713,
           2.603154420852661,
           2.644178867340088,
           2.7004284858703613,
           2.779364585876465,
           2.8911757469177246,
           3.0378568172454834,
           3.1332335472106934,
           3.0202078819274902,
           2.861130714416504,
           2.739515542984009,
           2.6534154415130615,
           2.5928666591644287,
           2.550271987915039,
           2.52036452293396,
           2.499418020248413,
           2.4847443103790283,
           2.474403142929077,
           2.46701717376709,
           2.461634874343872,
           2.457627296447754,
           2.454604148864746,
           2.452345609664917,
           2.4507431983947754,
           2.449751615524292,
           2.449345111846924,
           2.449489116668701
          ],
          [
           2.5026283264160156,
           2.513436794281006,
           2.5274362564086914,
           2.545600414276123,
           2.5691213607788086,
           2.5992798805236816,
           2.636986255645752,
           2.681586742401123,
           2.7284908294677734,
           2.7664599418640137,
           2.779733419418335,
           2.760279417037964,
           2.7168784141540527,
           2.665648937225342,
           2.6179239749908447,
           2.5782954692840576,
           2.5473532676696777,
           2.5240559577941895,
           2.5069353580474854,
           2.494584321975708,
           2.485813617706299,
           2.479677677154541,
           2.4754490852355957,
           2.472580909729004,
           2.4706671237945557,
           2.4694082736968994,
           2.468585729598999,
           2.468040704727173,
           2.4676616191864014,
           2.4673736095428467
          ],
          [
           2.490649700164795,
           2.4977762699127197,
           2.5067365169525146,
           2.517852783203125,
           2.531353235244751,
           2.5472066402435303,
           2.5648674964904785,
           2.5829684734344482,
           2.599141836166382,
           2.6103105545043945,
           2.6137142181396484,
           2.608287811279297,
           2.59531831741333,
           2.5777435302734375,
           2.558755874633789,
           2.5407841205596924,
           2.5252137184143066,
           2.5125749111175537,
           2.502856969833374,
           2.4957683086395264,
           2.4909069538116455,
           2.4878499507904053,
           2.486192464828491,
           2.4855611324310303,
           2.485609769821167,
           2.4860167503356934,
           2.486485719680786,
           2.4867589473724365,
           2.486643075942993,
           2.486035108566284
          ],
          [
           2.4812467098236084,
           2.4853734970092773,
           2.490345001220703,
           2.496199607849121,
           2.5028815269470215,
           2.510188579559326,
           2.517719268798828,
           2.524852752685547,
           2.530799150466919,
           2.5347466468811035,
           2.5360870361328125,
           2.534630537033081,
           2.530691146850586,
           2.524993419647217,
           2.5184521675109863,
           2.5119476318359375,
           2.5061757564544678,
           2.5016002655029297,
           2.4984705448150635,
           2.4968690872192383,
           2.4967567920684814,
           2.498004913330078,
           2.500408411026001,
           2.5036871433258057,
           2.5074799060821533,
           2.511335849761963,
           2.5147128105163574,
           2.5170085430145264,
           2.5176820755004883,
           2.5164754390716553
          ],
          [
           2.4746766090393066,
           2.476872205734253,
           2.4794163703918457,
           2.4822869300842285,
           2.4854183197021484,
           2.488692045211792,
           2.491931676864624,
           2.4949140548706055,
           2.4973983764648438,
           2.499171495437622,
           2.5001018047332764,
           2.5001847743988037,
           2.499558210372925,
           2.4984896183013916,
           2.497333526611328,
           2.4964802265167236,
           2.496312141418457,
           2.4971742630004883,
           2.4993584156036377,
           2.50309419631958,
           2.5085365772247314,
           2.515742540359497,
           2.524632215499878,
           2.5349390506744385,
           2.5461618900299072,
           2.557539463043213,
           2.568037509918213,
           2.576207160949707,
           2.579611301422119,
           2.5761470794677734
          ],
          [
           2.4705348014831543,
           2.4716567993164062,
           2.472921133041382,
           2.4743106365203857,
           2.475792646408081,
           2.477320432662964,
           2.478834629058838,
           2.480271816253662,
           2.4815754890441895,
           2.4827136993408203,
           2.483693838119507,
           2.4845776557922363,
           2.485489845275879,
           2.486621379852295,
           2.4882254600524902,
           2.490612745285034,
           2.494147300720215,
           2.4992423057556152,
           2.506354808807373,
           2.5159752368927,
           2.5285964012145996,
           2.544649362564087,
           2.5643839836120605,
           2.587672710418701,
           2.613734245300293,
           2.640835762023926,
           2.6661317348480225,
           2.6857988834381104,
           2.6944572925567627,
           2.686483144760132
          ],
          [
           2.4681155681610107,
           2.4686906337738037,
           2.469332218170166,
           2.4700350761413574,
           2.470791816711426,
           2.471593141555786,
           2.4724316596984863,
           2.473306655883789,
           2.4742302894592285,
           2.475236177444458,
           2.4763872623443604,
           2.4777865409851074,
           2.4795873165130615,
           2.482003927230835,
           2.485325574874878,
           2.489931106567383,
           2.4963114261627197,
           2.5050928592681885,
           2.5170671939849854,
           2.533216714859009,
           2.554730176925659,
           2.582975387573242,
           2.619387149810791,
           2.6651673316955566,
           2.7205989360809326,
           2.7836742401123047,
           2.8477718830108643,
           2.899343490600586,
           2.920529365539551,
           2.9016976356506348
          ],
          [
           2.4667747020721436,
           2.4670848846435547,
           2.467435598373413,
           2.4678308963775635,
           2.468275547027588,
           2.468778133392334,
           2.4693541526794434,
           2.4700279235839844,
           2.470839738845825,
           2.4718501567840576,
           2.4731502532958984,
           2.474869966506958,
           2.4771926403045654,
           2.4803719520568848,
           2.4847545623779297,
           2.490812063217163,
           2.499180793762207,
           2.5107169151306152,
           2.5265684127807617,
           2.548265218734741,
           2.577831506729126,
           2.6179144382476807,
           2.6719179153442383,
           2.7441017627716064,
           2.839561939239502,
           2.963801860809326,
           3.1207404136657715,
           3.3018746376037598,
           3.420053005218506,
           3.313570499420166
          ],
          [
           2.466054677963257,
           2.466238260269165,
           2.466454029083252,
           2.466709852218628,
           2.4670159816741943,
           2.467388868331909,
           2.4678516387939453,
           2.4684388637542725,
           2.4691996574401855,
           2.4702048301696777,
           2.4715540409088135,
           2.473386764526367,
           2.4758965969085693,
           2.479351043701172,
           2.4841175079345703,
           2.4906997680664062,
           2.499785900115967,
           2.5123138427734375,
           2.5295586585998535,
           2.55324387550354,
           2.5856852531433105,
           2.629953384399414,
           2.6900391578674316,
           2.7709245681762695,
           2.8782906532287598,
           3.017052412033081,
           3.186185359954834,
           3.3618760108947754,
           3.4582300186157227,
           3.372170925140381
          ],
          [
           2.4656710624694824,
           2.465792179107666,
           2.4659414291381836,
           2.466127395629883,
           2.466362237930298,
           2.4666640758514404,
           2.4670569896698,
           2.467575788497925,
           2.468269109725952,
           2.4692046642303467,
           2.470475673675537,
           2.4722111225128174,
           2.47458815574646,
           2.4778480529785156,
           2.482320547103882,
           2.4884517192840576,
           2.4968454837799072,
           2.508312225341797,
           2.5239343643188477,
           2.5451412200927734,
           2.573794364929199,
           2.6122653484344482,
           2.6634740829467773,
           2.7308106422424316,
           2.817817211151123,
           2.927452325820923,
           3.0609540939331055,
           3.2173259258270264,
           3.388080596923828,
           3.228487968444824
          ],
          [
           2.4654619693756104,
           2.4655487537384033,
           2.4656596183776855,
           2.4658026695251465,
           2.465989589691162,
           2.466236114501953,
           2.4665639400482178,
           2.467003345489502,
           2.467595338821411,
           2.4683964252471924,
           2.4694831371307373,
           2.470958948135376,
           2.472963333129883,
           2.4756832122802734,
           2.479367256164551,
           2.484344720840454,
           2.49104642868042,
           2.500030279159546,
           2.5120081901550293,
           2.5278680324554443,
           2.5486857891082764,
           2.5757031440734863,
           2.610245704650879,
           2.653512954711914,
           2.706122875213623,
           2.7671406269073486,
           2.8319404125213623,
           2.8880455493927,
           2.9128425121307373,
           2.8909411430358887
          ]
         ],
         "type": "surface"
        },
        {
         "marker": {
          "color": "darkgreen"
         },
         "mode": "markers",
         "name": "training data",
         "x": [
          0.5,
          0.5,
          1,
          1,
          1.5,
          1.5,
          5,
          5,
          0.5,
          5,
          2,
          0.5,
          0.5,
          0.5,
          1,
          1,
          2,
          2,
          2,
          2,
          5,
          5,
          5
         ],
         "y": [
          2.7300000190734863,
          3.4000000953674316,
          3.7899999618530273,
          6.440000057220459,
          5.360000133514404,
          8.989999771118164,
          8.800000190734863,
          14.670000076293945,
          5.239999771118164,
          14.889999389648438,
          10.130000114440918,
          4.510000228881836,
          5.369999885559082,
          4.880000114440918,
          6.760000228881836,
          7.769999980926514,
          8.729999542236328,
          9.380000114440918,
          10.479999542236328,
          11.010000228881836,
          14.709999084472656,
          15.439998626708984,
          13.369998931884766
         ],
         "z": [
          0.8730257153511047,
          2.6772446632385254,
          1.6990152597427368,
          3.8050527572631836,
          3.3348562717437744,
          4.535152912139893,
          1.3625102043151855,
          3.8412907123565674,
          1.2013570070266724,
          3.5136520862579346,
          3.4708714485168457,
          0.26329824328422546,
          2.7753403186798096,
          2.591306209564209,
          2.579984426498413,
          3.173818588256836,
          0.13150499761104584,
          0.45116370916366577,
          2.1266398429870605,
          3.468212842941284,
          3.685852527618408,
          3.445655584335327,
          2.6515469551086426
         ],
         "type": "scatter3d"
        }
       ],
       "layout": {
        "template": {
         "data": {
          "histogram2dcontour": [
           {
            "type": "histogram2dcontour",
            "colorbar": {
             "outlinewidth": 0,
             "ticks": ""
            },
            "colorscale": [
             [
              0,
              "#0d0887"
             ],
             [
              0.1111111111111111,
              "#46039f"
             ],
             [
              0.2222222222222222,
              "#7201a8"
             ],
             [
              0.3333333333333333,
              "#9c179e"
             ],
             [
              0.4444444444444444,
              "#bd3786"
             ],
             [
              0.5555555555555556,
              "#d8576b"
             ],
             [
              0.6666666666666666,
              "#ed7953"
             ],
             [
              0.7777777777777778,
              "#fb9f3a"
             ],
             [
              0.8888888888888888,
              "#fdca26"
             ],
             [
              1,
              "#f0f921"
             ]
            ]
           }
          ],
          "choropleth": [
           {
            "type": "choropleth",
            "colorbar": {
             "outlinewidth": 0,
             "ticks": ""
            }
           }
          ],
          "histogram2d": [
           {
            "type": "histogram2d",
            "colorbar": {
             "outlinewidth": 0,
             "ticks": ""
            },
            "colorscale": [
             [
              0,
              "#0d0887"
             ],
             [
              0.1111111111111111,
              "#46039f"
             ],
             [
              0.2222222222222222,
              "#7201a8"
             ],
             [
              0.3333333333333333,
              "#9c179e"
             ],
             [
              0.4444444444444444,
              "#bd3786"
             ],
             [
              0.5555555555555556,
              "#d8576b"
             ],
             [
              0.6666666666666666,
              "#ed7953"
             ],
             [
              0.7777777777777778,
              "#fb9f3a"
             ],
             [
              0.8888888888888888,
              "#fdca26"
             ],
             [
              1,
              "#f0f921"
             ]
            ]
           }
          ],
          "heatmap": [
           {
            "type": "heatmap",
            "colorbar": {
             "outlinewidth": 0,
             "ticks": ""
            },
            "colorscale": [
             [
              0,
              "#0d0887"
             ],
             [
              0.1111111111111111,
              "#46039f"
             ],
             [
              0.2222222222222222,
              "#7201a8"
             ],
             [
              0.3333333333333333,
              "#9c179e"
             ],
             [
              0.4444444444444444,
              "#bd3786"
             ],
             [
              0.5555555555555556,
              "#d8576b"
             ],
             [
              0.6666666666666666,
              "#ed7953"
             ],
             [
              0.7777777777777778,
              "#fb9f3a"
             ],
             [
              0.8888888888888888,
              "#fdca26"
             ],
             [
              1,
              "#f0f921"
             ]
            ]
           }
          ],
          "heatmapgl": [
           {
            "type": "heatmapgl",
            "colorbar": {
             "outlinewidth": 0,
             "ticks": ""
            },
            "colorscale": [
             [
              0,
              "#0d0887"
             ],
             [
              0.1111111111111111,
              "#46039f"
             ],
             [
              0.2222222222222222,
              "#7201a8"
             ],
             [
              0.3333333333333333,
              "#9c179e"
             ],
             [
              0.4444444444444444,
              "#bd3786"
             ],
             [
              0.5555555555555556,
              "#d8576b"
             ],
             [
              0.6666666666666666,
              "#ed7953"
             ],
             [
              0.7777777777777778,
              "#fb9f3a"
             ],
             [
              0.8888888888888888,
              "#fdca26"
             ],
             [
              1,
              "#f0f921"
             ]
            ]
           }
          ],
          "contourcarpet": [
           {
            "type": "contourcarpet",
            "colorbar": {
             "outlinewidth": 0,
             "ticks": ""
            }
           }
          ],
          "contour": [
           {
            "type": "contour",
            "colorbar": {
             "outlinewidth": 0,
             "ticks": ""
            },
            "colorscale": [
             [
              0,
              "#0d0887"
             ],
             [
              0.1111111111111111,
              "#46039f"
             ],
             [
              0.2222222222222222,
              "#7201a8"
             ],
             [
              0.3333333333333333,
              "#9c179e"
             ],
             [
              0.4444444444444444,
              "#bd3786"
             ],
             [
              0.5555555555555556,
              "#d8576b"
             ],
             [
              0.6666666666666666,
              "#ed7953"
             ],
             [
              0.7777777777777778,
              "#fb9f3a"
             ],
             [
              0.8888888888888888,
              "#fdca26"
             ],
             [
              1,
              "#f0f921"
             ]
            ]
           }
          ],
          "surface": [
           {
            "type": "surface",
            "colorbar": {
             "outlinewidth": 0,
             "ticks": ""
            },
            "colorscale": [
             [
              0,
              "#0d0887"
             ],
             [
              0.1111111111111111,
              "#46039f"
             ],
             [
              0.2222222222222222,
              "#7201a8"
             ],
             [
              0.3333333333333333,
              "#9c179e"
             ],
             [
              0.4444444444444444,
              "#bd3786"
             ],
             [
              0.5555555555555556,
              "#d8576b"
             ],
             [
              0.6666666666666666,
              "#ed7953"
             ],
             [
              0.7777777777777778,
              "#fb9f3a"
             ],
             [
              0.8888888888888888,
              "#fdca26"
             ],
             [
              1,
              "#f0f921"
             ]
            ]
           }
          ],
          "mesh3d": [
           {
            "type": "mesh3d",
            "colorbar": {
             "outlinewidth": 0,
             "ticks": ""
            }
           }
          ],
          "scatter": [
           {
            "fillpattern": {
             "fillmode": "overlay",
             "size": 10,
             "solidity": 0.2
            },
            "type": "scatter"
           }
          ],
          "parcoords": [
           {
            "type": "parcoords",
            "line": {
             "colorbar": {
              "outlinewidth": 0,
              "ticks": ""
             }
            }
           }
          ],
          "scatterpolargl": [
           {
            "type": "scatterpolargl",
            "marker": {
             "colorbar": {
              "outlinewidth": 0,
              "ticks": ""
             }
            }
           }
          ],
          "bar": [
           {
            "error_x": {
             "color": "#2a3f5f"
            },
            "error_y": {
             "color": "#2a3f5f"
            },
            "marker": {
             "line": {
              "color": "#E5ECF6",
              "width": 0.5
             },
             "pattern": {
              "fillmode": "overlay",
              "size": 10,
              "solidity": 0.2
             }
            },
            "type": "bar"
           }
          ],
          "scattergeo": [
           {
            "type": "scattergeo",
            "marker": {
             "colorbar": {
              "outlinewidth": 0,
              "ticks": ""
             }
            }
           }
          ],
          "scatterpolar": [
           {
            "type": "scatterpolar",
            "marker": {
             "colorbar": {
              "outlinewidth": 0,
              "ticks": ""
             }
            }
           }
          ],
          "histogram": [
           {
            "marker": {
             "pattern": {
              "fillmode": "overlay",
              "size": 10,
              "solidity": 0.2
             }
            },
            "type": "histogram"
           }
          ],
          "scattergl": [
           {
            "type": "scattergl",
            "marker": {
             "colorbar": {
              "outlinewidth": 0,
              "ticks": ""
             }
            }
           }
          ],
          "scatter3d": [
           {
            "type": "scatter3d",
            "line": {
             "colorbar": {
              "outlinewidth": 0,
              "ticks": ""
             }
            },
            "marker": {
             "colorbar": {
              "outlinewidth": 0,
              "ticks": ""
             }
            }
           }
          ],
          "scattermapbox": [
           {
            "type": "scattermapbox",
            "marker": {
             "colorbar": {
              "outlinewidth": 0,
              "ticks": ""
             }
            }
           }
          ],
          "scatterternary": [
           {
            "type": "scatterternary",
            "marker": {
             "colorbar": {
              "outlinewidth": 0,
              "ticks": ""
             }
            }
           }
          ],
          "scattercarpet": [
           {
            "type": "scattercarpet",
            "marker": {
             "colorbar": {
              "outlinewidth": 0,
              "ticks": ""
             }
            }
           }
          ],
          "carpet": [
           {
            "aaxis": {
             "endlinecolor": "#2a3f5f",
             "gridcolor": "white",
             "linecolor": "white",
             "minorgridcolor": "white",
             "startlinecolor": "#2a3f5f"
            },
            "baxis": {
             "endlinecolor": "#2a3f5f",
             "gridcolor": "white",
             "linecolor": "white",
             "minorgridcolor": "white",
             "startlinecolor": "#2a3f5f"
            },
            "type": "carpet"
           }
          ],
          "table": [
           {
            "cells": {
             "fill": {
              "color": "#EBF0F8"
             },
             "line": {
              "color": "white"
             }
            },
            "header": {
             "fill": {
              "color": "#C8D4E3"
             },
             "line": {
              "color": "white"
             }
            },
            "type": "table"
           }
          ],
          "barpolar": [
           {
            "marker": {
             "line": {
              "color": "#E5ECF6",
              "width": 0.5
             },
             "pattern": {
              "fillmode": "overlay",
              "size": 10,
              "solidity": 0.2
             }
            },
            "type": "barpolar"
           }
          ],
          "pie": [
           {
            "automargin": true,
            "type": "pie"
           }
          ]
         },
         "layout": {
          "autotypenumbers": "strict",
          "colorway": [
           "#636efa",
           "#EF553B",
           "#00cc96",
           "#ab63fa",
           "#FFA15A",
           "#19d3f3",
           "#FF6692",
           "#B6E880",
           "#FF97FF",
           "#FECB52"
          ],
          "font": {
           "color": "#2a3f5f"
          },
          "hovermode": "closest",
          "hoverlabel": {
           "align": "left"
          },
          "paper_bgcolor": "white",
          "plot_bgcolor": "#E5ECF6",
          "polar": {
           "bgcolor": "#E5ECF6",
           "angularaxis": {
            "gridcolor": "white",
            "linecolor": "white",
            "ticks": ""
           },
           "radialaxis": {
            "gridcolor": "white",
            "linecolor": "white",
            "ticks": ""
           }
          },
          "ternary": {
           "bgcolor": "#E5ECF6",
           "aaxis": {
            "gridcolor": "white",
            "linecolor": "white",
            "ticks": ""
           },
           "baxis": {
            "gridcolor": "white",
            "linecolor": "white",
            "ticks": ""
           },
           "caxis": {
            "gridcolor": "white",
            "linecolor": "white",
            "ticks": ""
           }
          },
          "coloraxis": {
           "colorbar": {
            "outlinewidth": 0,
            "ticks": ""
           }
          },
          "colorscale": {
           "sequential": [
            [
             0,
             "#0d0887"
            ],
            [
             0.1111111111111111,
             "#46039f"
            ],
            [
             0.2222222222222222,
             "#7201a8"
            ],
            [
             0.3333333333333333,
             "#9c179e"
            ],
            [
             0.4444444444444444,
             "#bd3786"
            ],
            [
             0.5555555555555556,
             "#d8576b"
            ],
            [
             0.6666666666666666,
             "#ed7953"
            ],
            [
             0.7777777777777778,
             "#fb9f3a"
            ],
            [
             0.8888888888888888,
             "#fdca26"
            ],
            [
             1,
             "#f0f921"
            ]
           ],
           "sequentialminus": [
            [
             0,
             "#0d0887"
            ],
            [
             0.1111111111111111,
             "#46039f"
            ],
            [
             0.2222222222222222,
             "#7201a8"
            ],
            [
             0.3333333333333333,
             "#9c179e"
            ],
            [
             0.4444444444444444,
             "#bd3786"
            ],
            [
             0.5555555555555556,
             "#d8576b"
            ],
            [
             0.6666666666666666,
             "#ed7953"
            ],
            [
             0.7777777777777778,
             "#fb9f3a"
            ],
            [
             0.8888888888888888,
             "#fdca26"
            ],
            [
             1,
             "#f0f921"
            ]
           ],
           "diverging": [
            [
             0,
             "#8e0152"
            ],
            [
             0.1,
             "#c51b7d"
            ],
            [
             0.2,
             "#de77ae"
            ],
            [
             0.3,
             "#f1b6da"
            ],
            [
             0.4,
             "#fde0ef"
            ],
            [
             0.5,
             "#f7f7f7"
            ],
            [
             0.6,
             "#e6f5d0"
            ],
            [
             0.7,
             "#b8e186"
            ],
            [
             0.8,
             "#7fbc41"
            ],
            [
             0.9,
             "#4d9221"
            ],
            [
             1,
             "#276419"
            ]
           ]
          },
          "xaxis": {
           "gridcolor": "white",
           "linecolor": "white",
           "ticks": "",
           "title": {
            "standoff": 15
           },
           "zerolinecolor": "white",
           "automargin": true,
           "zerolinewidth": 2
          },
          "yaxis": {
           "gridcolor": "white",
           "linecolor": "white",
           "ticks": "",
           "title": {
            "standoff": 15
           },
           "zerolinecolor": "white",
           "automargin": true,
           "zerolinewidth": 2
          },
          "scene": {
           "xaxis": {
            "backgroundcolor": "#E5ECF6",
            "gridcolor": "white",
            "linecolor": "white",
            "showbackground": true,
            "ticks": "",
            "zerolinecolor": "white",
            "gridwidth": 2
           },
           "yaxis": {
            "backgroundcolor": "#E5ECF6",
            "gridcolor": "white",
            "linecolor": "white",
            "showbackground": true,
            "ticks": "",
            "zerolinecolor": "white",
            "gridwidth": 2
           },
           "zaxis": {
            "backgroundcolor": "#E5ECF6",
            "gridcolor": "white",
            "linecolor": "white",
            "showbackground": true,
            "ticks": "",
            "zerolinecolor": "white",
            "gridwidth": 2
           }
          },
          "shapedefaults": {
           "line": {
            "color": "#2a3f5f"
           }
          },
          "annotationdefaults": {
           "arrowcolor": "#2a3f5f",
           "arrowhead": 0,
           "arrowwidth": 1
          },
          "geo": {
           "bgcolor": "white",
           "landcolor": "#E5ECF6",
           "subunitcolor": "white",
           "showland": true,
           "showlakes": true,
           "lakecolor": "white"
          },
          "title": {
           "x": 0.05
          },
          "mapbox": {
           "style": "light"
          }
         }
        },
        "legend": {
         "orientation": "h",
         "yanchor": "top",
         "y": 1.02,
         "xanchor": "left",
         "x": 1
        },
        "margin": {
         "r": 20,
         "l": 10,
         "b": 10,
         "t": 10
        },
        "width": 1000,
        "height": 800,
        "scene": {
         "xaxis": {
          "title": {
           "text": "Pulse Width (msec)"
          }
         },
         "yaxis": {
          "title": {
           "text": "Energy density new cone (J/cm^2)"
          }
         },
         "zaxis": {
          "title": {
           "text": "2 Qsw/(U+|D|) 1e6"
          }
         },
         "camera": {
          "up": {
           "x": 0,
           "y": 0,
           "z": 1
          },
          "center": {
           "x": 0,
           "y": 0,
           "z": 0
          },
          "eye": {
           "x": -2,
           "y": -2.5,
           "z": 1.75
          }
         }
        }
       },
       "config": {
        "plotlyServerURL": "https://plot.ly"
       }
      }
     },
     "metadata": {}
    },
    {
     "output_type": "display_data",
     "data": {
      "application/vnd.plotly.v1+json": {
       "data": [
        {
         "opacity": 0.5,
         "showscale": false,
         "x": [
          0.3392857015132904,
          0.5055418610572815,
          0.6717979907989502,
          0.8380541801452637,
          1.0043103694915771,
          1.1705665588378906,
          1.3368226289749146,
          1.503078818321228,
          1.669334888458252,
          1.8355910778045654,
          2.001847267150879,
          2.1681032180786133,
          2.334359645843506,
          2.5006155967712402,
          2.666872024536133,
          2.833127975463867,
          2.9993844032287598,
          3.165640354156494,
          3.3318967819213867,
          3.498152494430542,
          3.6644086837768555,
          3.830664873123169,
          3.9969210624694824,
          4.163177490234375,
          4.329433441162109,
          4.495689392089844,
          4.661945819854736,
          4.828201770782471,
          4.994458198547363,
          5.160714149475098
         ],
         "y": [
          2.276071548461914,
          2.745652675628662,
          3.2152340412139893,
          3.6848151683807373,
          4.1543965339660645,
          4.6239776611328125,
          5.093559265136719,
          5.563139915466309,
          6.032721519470215,
          6.502302646636963,
          6.971883773803711,
          7.441464900970459,
          7.911046028137207,
          8.380627632141113,
          8.850208282470703,
          9.31978988647461,
          9.789371490478516,
          10.258953094482422,
          10.728534698486328,
          11.198114395141602,
          11.667695999145508,
          12.137277603149414,
          12.60685920715332,
          13.076440811157227,
          13.5460205078125,
          14.015602111816406,
          14.485183715820312,
          14.954765319824219,
          15.424346923828125,
          15.893926620483398
         ],
         "z": [
          [
           4.363796710968018,
           4.277313709259033,
           4.366855621337891,
           4.552341461181641,
           4.733972549438477,
           4.877494812011719,
           4.983401775360107,
           5.060320854187012,
           5.116334915161133,
           5.157410621643066,
           5.187698841094971,
           5.2100934982299805,
           5.226654052734375,
           5.238877296447754,
           5.247872352600098,
           5.2544660568237305,
           5.259279251098633,
           5.2627763748168945,
           5.26530647277832,
           5.267127990722656,
           5.268434524536133,
           5.269367218017578,
           5.270030975341797,
           5.270501136779785,
           5.2708330154418945,
           5.271066665649414,
           5.271230697631836,
           5.271346092224121,
           5.271426677703857,
           5.271483421325684
          ],
          [
           3.51363468170166,
           2.2871551513671875,
           3.5504696369171143,
           4.17999792098999,
           4.533639907836914,
           4.750998020172119,
           4.895490646362305,
           4.997453212738037,
           5.071761608123779,
           5.126497745513916,
           5.1667938232421875,
           5.196317195892334,
           5.217817783355713,
           5.233381271362305,
           5.2445807456970215,
           5.25259256362915,
           5.258292198181152,
           5.262324333190918,
           5.265161514282227,
           5.267148017883301,
           5.268531799316406,
           5.269491195678711,
           5.270153045654297,
           5.2706074714660645,
           5.270918846130371,
           5.27113151550293,
           5.271275520324707,
           5.271373748779297,
           5.271440505981445,
           5.271486282348633
          ],
          [
           4.321755409240723,
           4.141009330749512,
           4.25758695602417,
           4.404482841491699,
           4.525944709777832,
           4.658920764923096,
           4.799874305725098,
           4.92557430267334,
           5.024845123291016,
           5.098423004150391,
           5.151276588439941,
           5.188629150390625,
           5.214766025543213,
           5.232917785644531,
           5.245438575744629,
           5.2540178298950195,
           5.259857177734375,
           5.263803482055664,
           5.266451358795166,
           5.268215656280518,
           5.269382476806641,
           5.270147323608398,
           5.270644187927246,
           5.270965099334717,
           5.271169662475586,
           5.271298885345459,
           5.2713799476623535,
           5.271430969238281,
           5.271462917327881,
           5.271483421325684
          ],
          [
           4.4838151931762695,
           4.336440086364746,
           4.222516059875488,
           3.9520652294158936,
           3.5899484157562256,
           4.11359977722168,
           4.554244041442871,
           4.818856716156006,
           4.982410430908203,
           5.086190223693848,
           5.153019905090332,
           5.19630241394043,
           5.224304676055908,
           5.242312431335449,
           5.253780364990234,
           5.260992050170898,
           5.265455722808838,
           5.268165111541748,
           5.269768714904785,
           5.270687103271484,
           5.271186828613281,
           5.271437644958496,
           5.27154541015625,
           5.2715744972229,
           5.271563529968262,
           5.2715349197387695,
           5.2715020179748535,
           5.271471977233887,
           5.27144718170166,
           5.271430015563965
          ],
          [
           3.8956634998321533,
           3.6813902854919434,
           3.7599451541900635,
           3.9398579597473145,
           4.131348609924316,
           4.4041218757629395,
           4.684958457946777,
           4.899534225463867,
           5.0452351570129395,
           5.1394853591918945,
           5.198545455932617,
           5.234360694885254,
           5.255213737487793,
           5.266713619232178,
           5.272563934326172,
           5.275139808654785,
           5.275913238525391,
           5.275766372680664,
           5.27520751953125,
           5.2745137214660645,
           5.273828506469727,
           5.273216724395752,
           5.272701263427734,
           5.272283554077148,
           5.27195405960083,
           5.271701335906982,
           5.271511554718018,
           5.271374225616455,
           5.2712788581848145,
           5.271217346191406
          ],
          [
           3.4078547954559326,
           2.774113893508911,
           3.471412181854248,
           4.107311725616455,
           4.51093053817749,
           4.780177116394043,
           4.967076301574707,
           5.098484992980957,
           5.189985275268555,
           5.250139236450195,
           5.285025596618652,
           5.301443099975586,
           5.306168556213379,
           5.304535865783691,
           5.3000593185424805,
           5.294771194458008,
           5.289706230163574,
           5.285305023193359,
           5.281688690185547,
           5.278820991516113,
           5.276598930358887,
           5.274907112121582,
           5.2736358642578125,
           5.2726898193359375,
           5.271993637084961,
           5.271489143371582,
           5.271129608154297,
           5.270881652832031,
           5.2707200050354,
           5.270625591278076
          ],
          [
           3.9944846630096436,
           3.579207420349121,
           4.109991073608398,
           4.604833602905273,
           4.903440952301025,
           5.063382148742676,
           5.104998588562012,
           5.112394332885742,
           5.221104621887207,
           5.322157859802246,
           5.364048004150391,
           5.369340419769287,
           5.358530044555664,
           5.342668056488037,
           5.326864242553711,
           5.313127040863037,
           5.30197811126709,
           5.293286323547363,
           5.286680221557617,
           5.281744956970215,
           5.278099060058594,
           5.275425910949707,
           5.273478031158447,
           5.272065162658691,
           5.271048069000244,
           5.270325660705566,
           5.269824981689453,
           5.269495964050293,
           5.269300937652588,
           5.26921272277832
          ],
          [
           4.774077415466309,
           4.707356929779053,
           4.901003837585449,
           5.140352249145508,
           5.301628112792969,
           5.360491752624512,
           5.297601699829102,
           5.200956344604492,
           5.309219837188721,
           5.405181407928467,
           5.428195476531982,
           5.4151530265808105,
           5.389876365661621,
           5.363379001617432,
           5.340014457702637,
           5.321014404296875,
           5.306258201599121,
           5.295122146606445,
           5.286876201629639,
           5.28084135055542,
           5.276453018188477,
           5.2732696533203125,
           5.27095890045166,
           5.269280433654785,
           5.268067359924316,
           5.267204761505127,
           5.266618728637695,
           5.266258239746094,
           5.266090393066406,
           5.266086578369141
          ],
          [
           5.34066915512085,
           5.3915815353393555,
           5.454657554626465,
           5.512656211853027,
           5.555857181549072,
           5.584997177124023,
           5.586811065673828,
           5.564181327819824,
           5.531668186187744,
           5.495849609375,
           5.458001136779785,
           5.420251846313477,
           5.385422229766846,
           5.355466842651367,
           5.331089496612549,
           5.312065601348877,
           5.297679424285889,
           5.287044525146484,
           5.279296398162842,
           5.273684501647949,
           5.269604206085205,
           5.266598701477051,
           5.264341354370117,
           5.262616157531738,
           5.261293411254883,
           5.260305404663086,
           5.259625434875488,
           5.259248733520508,
           5.259174346923828,
           5.259392738342285
          ],
          [
           5.417152404785156,
           5.421285629272461,
           5.373186111450195,
           5.209112644195557,
           4.916692733764648,
           5.241765022277832,
           5.41363525390625,
           5.468242168426514,
           5.466334342956543,
           5.440129280090332,
           5.4059247970581055,
           5.371811866760254,
           5.341621398925781,
           5.3168439865112305,
           5.297636032104492,
           5.283415794372559,
           5.2732696533203125,
           5.266208648681641,
           5.261321067810059,
           5.257855415344238,
           5.255237102508545,
           5.253070831298828,
           5.251121520996094,
           5.2492899894714355,
           5.2475905418396,
           5.246115684509277,
           5.2450056076049805,
           5.2444047927856445,
           5.244424819946289,
           5.245111465454102
          ],
          [
           5.3793745040893555,
           5.334115028381348,
           5.209199905395508,
           4.963287353515625,
           4.762625694274902,
           4.970644950866699,
           5.201496124267578,
           5.310019493103027,
           5.3398871421813965,
           5.331090927124023,
           5.307341575622559,
           5.281462669372559,
           5.259620666503906,
           5.243968486785889,
           5.234384059906006,
           5.229647159576416,
           5.228202819824219,
           5.228590965270996,
           5.229631423950195,
           5.230473041534424,
           5.23056697845459,
           5.229628562927246,
           5.22760009765625,
           5.224636077880859,
           5.221085548400879,
           5.217467308044434,
           5.214409351348877,
           5.21253776550293,
           5.212338447570801,
           5.214028358459473
          ],
          [
           5.390260696411133,
           5.366669178009033,
           5.303492069244385,
           5.201410293579102,
           5.132236480712891,
           5.176321029663086,
           5.242400169372559,
           5.262608528137207,
           5.2412543296813965,
           5.199602127075195,
           5.156949043273926,
           5.125720977783203,
           5.110625267028809,
           5.11032247543335,
           5.12037467956543,
           5.135833263397217,
           5.152661323547363,
           5.16810417175293,
           5.180520534515381,
           5.189050674438477,
           5.193328857421875,
           5.193301200866699,
           5.189158916473389,
           5.181388854980469,
           5.1709089279174805,
           5.159218788146973,
           5.148431301116943,
           5.140981197357178,
           5.138948440551758,
           5.1432600021362305
          ],
          [
           5.42331075668335,
           5.41388463973999,
           5.34783411026001,
           5.1621623039245605,
           4.934503555297852,
           5.128530025482178,
           5.236708641052246,
           5.1954731941223145,
           5.073892593383789,
           4.931781768798828,
           4.822291374206543,
           4.7768402099609375,
           4.793108940124512,
           4.847384452819824,
           4.915349960327148,
           4.981418609619141,
           5.038105010986328,
           5.082807540893555,
           5.115263938903809,
           5.13606595993042,
           5.145882606506348,
           5.14512300491333,
           5.133875370025635,
           5.112128257751465,
           5.080411434173584,
           5.041053771972656,
           4.999944686889648,
           4.967426776885986,
           4.955331802368164,
           4.969536781311035
          ],
          [
           5.469321250915527,
           5.5063886642456055,
           5.539351463317871,
           5.564645767211914,
           5.578265190124512,
           5.559049606323242,
           5.4535980224609375,
           5.197371006011963,
           4.762175559997559,
           4.223136901855469,
           3.844635009765625,
           3.873119831085205,
           4.128227233886719,
           4.396445274353027,
           4.616214752197266,
           4.783267974853516,
           4.9056572914123535,
           4.992391109466553,
           5.050839424133301,
           5.086248397827148,
           5.101737022399902,
           5.098310470581055,
           5.074740409851074,
           5.027296543121338,
           4.949576377868652,
           4.833644866943359,
           4.677000045776367,
           4.507425308227539,
           4.421034812927246,
           4.502086639404297
          ],
          [
           5.489253997802734,
           5.550581932067871,
           5.624485969543457,
           5.709473609924316,
           5.79705810546875,
           5.859834671020508,
           5.818802833557129,
           5.494614601135254,
           4.746448516845703,
           3.5632269382476807,
           2.4744274616241455,
           2.9265999794006348,
           3.5800857543945312,
           4.069886207580566,
           4.41942834854126,
           4.663968086242676,
           4.832635879516602,
           4.946818828582764,
           5.021219730377197,
           5.065300464630127,
           5.084383964538574,
           5.080206871032715,
           5.050802230834961,
           4.989487171173096,
           4.882355690002441,
           4.70278787612915,
           4.398845672607422,
           3.8597450256347656,
           2.99757719039917,
           3.8151397705078125
          ],
          [
           5.466065406799316,
           5.522088050842285,
           5.588980197906494,
           5.6632585525512695,
           5.732919216156006,
           5.766426086425781,
           5.691695690155029,
           5.380084991455078,
           4.701873779296875,
           3.6007933616638184,
           2.2846455574035645,
           3.086355686187744,
           3.7600250244140625,
           4.212014675140381,
           4.523340225219727,
           4.738245964050293,
           4.885717391967773,
           4.985424041748047,
           5.050518989562988,
           5.089472770690918,
           5.107283592224121,
           5.106217384338379,
           5.086189270019531,
           5.044991493225098,
           4.978786468505859,
           4.884145736694336,
           4.764866828918457,
           4.647866249084473,
           4.593795299530029,
           4.645730972290039
          ],
          [
           5.416221618652344,
           5.451845169067383,
           5.489771842956543,
           5.52402400970459,
           5.542717933654785,
           5.525585174560547,
           5.443946361541748,
           5.268132209777832,
           4.987048149108887,
           4.645805358886719,
           4.403809547424316,
           4.41306209564209,
           4.5634002685546875,
           4.72456693649292,
           4.858110427856445,
           4.960318088531494,
           5.035490989685059,
           5.088902950286865,
           5.125041961669922,
           5.147261619567871,
           5.157849311828613,
           5.158220291137695,
           5.149195671081543,
           5.131397724151611,
           5.105897426605225,
           5.07517671585083,
           5.044189453125,
           5.020513534545898,
           5.012048721313477,
           5.022552490234375
          ],
          [
           5.370083808898926,
           5.390913009643555,
           5.41160774230957,
           5.428619384765625,
           5.436134338378906,
           5.425518989562988,
           5.384706974029541,
           5.296445846557617,
           5.132556915283203,
           4.849837303161621,
           4.564738750457764,
           4.764171600341797,
           4.965532302856445,
           5.07136344909668,
           5.1280717849731445,
           5.161357879638672,
           5.182527542114258,
           5.1965012550354,
           5.2054595947265625,
           5.210387229919434,
           5.211758136749268,
           5.209856986999512,
           5.204977035522461,
           5.197572708129883,
           5.188411235809326,
           5.178679466247559,
           5.169973373413086,
           5.164060592651367,
           5.162403583526611,
           5.165640830993652
          ],
          [
           5.339723587036133,
           5.354312896728516,
           5.369801998138428,
           5.38469123840332,
           5.3960394859313965,
           5.398124694824219,
           5.379600524902344,
           5.317940711975098,
           5.172234535217285,
           4.9033708572387695,
           4.68865442276001,
           4.874143600463867,
           5.108842849731445,
           5.227339267730713,
           5.2713751792907715,
           5.281432151794434,
           5.27848482131958,
           5.271772861480713,
           5.264817714691162,
           5.2586164474487305,
           5.253178596496582,
           5.248231410980225,
           5.243521690368652,
           5.238940238952637,
           5.23455810546875,
           5.230615615844727,
           5.227466106414795,
           5.225488662719727,
           5.224977493286133,
           5.226046562194824
          ],
          [
           5.321105003356934,
           5.3331804275512695,
           5.347446441650391,
           5.363826751708984,
           5.38172721862793,
           5.399446487426758,
           5.413039207458496,
           5.414004325866699,
           5.3842692375183105,
           5.291005611419678,
           5.184359550476074,
           5.279685020446777,
           5.358384609222412,
           5.376538276672363,
           5.367422103881836,
           5.348992347717285,
           5.329392433166504,
           5.311995506286621,
           5.297816276550293,
           5.286765098571777,
           5.278321266174316,
           5.271879196166992,
           5.266907691955566,
           5.263010025024414,
           5.259932518005371,
           5.257542610168457,
           5.255795955657959,
           5.254697322845459,
           5.254255294799805,
           5.254448890686035
          ],
          [
           5.3076324462890625,
           5.317217826843262,
           5.329050064086914,
           5.343419075012207,
           5.360413551330566,
           5.379656791687012,
           5.399911880493164,
           5.418691635131836,
           5.432516098022461,
           5.438861846923828,
           5.438559532165527,
           5.433252811431885,
           5.42167329788208,
           5.403420448303223,
           5.381319046020508,
           5.3589582443237305,
           5.338778495788574,
           5.321869850158691,
           5.308395862579346,
           5.298023223876953,
           5.290216445922852,
           5.28440523147583,
           5.280070781707764,
           5.276789665222168,
           5.2742509841918945,
           5.2722625732421875,
           5.270744323730469,
           5.269691467285156,
           5.269121170043945,
           5.269014358520508
          ],
          [
           5.296416759490967,
           5.302988529205322,
           5.311030387878418,
           5.320666313171387,
           5.33187198638916,
           5.3443498611450195,
           5.3574018478393555,
           5.369860649108887,
           5.380179405212402,
           5.3867597579956055,
           5.388426780700684,
           5.384807109832764,
           5.376463413238525,
           5.364738464355469,
           5.351349830627441,
           5.337912082672119,
           5.325606346130371,
           5.315093040466309,
           5.306584358215332,
           5.29997444152832,
           5.294955253601074,
           5.291099548339844,
           5.287917137145996,
           5.284923553466797,
           5.281739234924316,
           5.2782440185546875,
           5.274733543395996,
           5.271910190582275,
           5.270565986633301,
           5.271045684814453
          ],
          [
           5.2874650955200195,
           5.291391372680664,
           5.296055793762207,
           5.301455974578857,
           5.307498931884766,
           5.313962459564209,
           5.320466995239258,
           5.326481819152832,
           5.331385612487793,
           5.33458137512207,
           5.335647106170654,
           5.334465980529785,
           5.331271171569824,
           5.326592445373535,
           5.321120738983154,
           5.315549850463867,
           5.310454368591309,
           5.306216239929199,
           5.302999496459961,
           5.300737380981445,
           5.299112319946289,
           5.297499656677246,
           5.2948899269104,
           5.289841651916504,
           5.2806291580200195,
           5.265963077545166,
           5.246757507324219,
           5.228422164916992,
           5.220038414001465,
           5.226822853088379
          ],
          [
           5.281101226806641,
           5.2832350730896,
           5.285691261291504,
           5.288440704345703,
           5.291415214538574,
           5.294497966766357,
           5.29752254486084,
           5.300286293029785,
           5.302578449249268,
           5.304217338562012,
           5.305095672607422,
           5.305216312408447,
           5.304702281951904,
           5.3037872314453125,
           5.302778244018555,
           5.302006721496582,
           5.30178165435791,
           5.302337646484375,
           5.303781509399414,
           5.306001663208008,
           5.3085222244262695,
           5.310225486755371,
           5.308852672576904,
           5.300142288208008,
           5.276412010192871,
           5.224684715270996,
           5.126748085021973,
           4.97776985168457,
           4.874907493591309,
           4.966856002807617
          ],
          [
           5.277036666870117,
           5.278141975402832,
           5.279383182525635,
           5.28074312210083,
           5.28218936920166,
           5.283675193786621,
           5.285144805908203,
           5.286538124084473,
           5.28780460357666,
           5.288914680480957,
           5.28987979888916,
           5.2907586097717285,
           5.291669845581055,
           5.292790412902832,
           5.29434871673584,
           5.2966156005859375,
           5.299884796142578,
           5.304444789886475,
           5.310527801513672,
           5.318209171295166,
           5.327221870422363,
           5.3365983963012695,
           5.344015121459961,
           5.344593048095703,
           5.3287248611450195,
           5.278181076049805,
           5.159981727600098,
           4.929012298583984,
           4.70077657699585,
           4.909192085266113
          ],
          [
           5.2746429443359375,
           5.275213241577148,
           5.275849342346191,
           5.276545524597168,
           5.277294158935547,
           5.278086185455322,
           5.2789154052734375,
           5.279780387878418,
           5.280694961547852,
           5.2816925048828125,
           5.282833576202393,
           5.284219264984131,
           5.285996437072754,
           5.288366317749023,
           5.29159688949585,
           5.296026706695557,
           5.3020734786987305,
           5.310233116149902,
           5.321061134338379,
           5.33512020111084,
           5.352866172790527,
           5.374418258666992,
           5.399167060852051,
           5.4251861572265625,
           5.448586463928223,
           5.463496208190918,
           5.464533805847168,
           5.453832626342773,
           5.446091651916504,
           5.452820777893066
          ],
          [
           5.273309707641602,
           5.273618698120117,
           5.273967742919922,
           5.274361610412598,
           5.27480411529541,
           5.275304794311523,
           5.275878429412842,
           5.276549339294434,
           5.27735710144043,
           5.278362274169922,
           5.279653549194336,
           5.281357288360596,
           5.2836503982543945,
           5.286773681640625,
           5.291050910949707,
           5.296911239624023,
           5.304909706115723,
           5.31575870513916,
           5.3303375244140625,
           5.3496904373168945,
           5.374963283538818,
           5.407221794128418,
           5.4470415115356445,
           5.493636131286621,
           5.543087959289551,
           5.584832191467285,
           5.595201015472412,
           5.532736778259277,
           5.433286666870117,
           5.525102615356445
          ],
          [
           5.272591590881348,
           5.272774696350098,
           5.2729902267456055,
           5.273245811462402,
           5.2735514640808105,
           5.273923397064209,
           5.274385452270508,
           5.274971008300781,
           5.275729179382324,
           5.276729583740234,
           5.278070449829102,
           5.2798871994018555,
           5.282366752624512,
           5.285764694213867,
           5.290424346923828,
           5.296804428100586,
           5.305511474609375,
           5.31732702255249,
           5.333235740661621,
           5.354418754577637,
           5.3821821212768555,
           5.417722225189209,
           5.461556911468506,
           5.512261390686035,
           5.5637617111206055,
           5.599560737609863,
           5.579837799072266,
           5.408442974090576,
           4.972233295440674,
           5.381991386413574
          ],
          [
           5.272208213806152,
           5.272329330444336,
           5.272479057312012,
           5.272664546966553,
           5.272899150848389,
           5.273200988769531,
           5.273592948913574,
           5.274110794067383,
           5.274801731109619,
           5.27573299407959,
           5.276996612548828,
           5.278717994689941,
           5.281068325042725,
           5.28427791595459,
           5.2886552810668945,
           5.294608116149902,
           5.3026652336120605,
           5.31350040435791,
           5.327937126159668,
           5.346923828125,
           5.371426582336426,
           5.402157306671143,
           5.438967704772949,
           5.479586601257324,
           5.517058372497559,
           5.534488201141357,
           5.493084907531738,
           5.295248031616211,
           4.608943939208984,
           5.266232490539551
          ],
          [
           5.271999359130859,
           5.272086143493652,
           5.272197246551514,
           5.272339820861816,
           5.272526741027832,
           5.272773265838623,
           5.273100852966309,
           5.273539066314697,
           5.274129390716553,
           5.274927139282227,
           5.276008129119873,
           5.277473449707031,
           5.279457092285156,
           5.282138824462891,
           5.285752296447754,
           5.290597438812256,
           5.297054290771484,
           5.305586814880371,
           5.316732406616211,
           5.33106803894043,
           5.349111080169678,
           5.371116638183594,
           5.396701812744141,
           5.424197196960449,
           5.449699401855469,
           5.466159820556641,
           5.464517593383789,
           5.443211555480957,
           5.426740646362305,
           5.441499710083008
          ]
         ],
         "type": "surface"
        },
        {
         "opacity": 0.2,
         "showscale": false,
         "x": [
          0.3392857015132904,
          0.5055418610572815,
          0.6717979907989502,
          0.8380541801452637,
          1.0043103694915771,
          1.1705665588378906,
          1.3368226289749146,
          1.503078818321228,
          1.669334888458252,
          1.8355910778045654,
          2.001847267150879,
          2.1681032180786133,
          2.334359645843506,
          2.5006155967712402,
          2.666872024536133,
          2.833127975463867,
          2.9993844032287598,
          3.165640354156494,
          3.3318967819213867,
          3.498152494430542,
          3.6644086837768555,
          3.830664873123169,
          3.9969210624694824,
          4.163177490234375,
          4.329433441162109,
          4.495689392089844,
          4.661945819854736,
          4.828201770782471,
          4.994458198547363,
          5.160714149475098
         ],
         "y": [
          2.276071548461914,
          2.745652675628662,
          3.2152340412139893,
          3.6848151683807373,
          4.1543965339660645,
          4.6239776611328125,
          5.093559265136719,
          5.563139915466309,
          6.032721519470215,
          6.502302646636963,
          6.971883773803711,
          7.441464900970459,
          7.911046028137207,
          8.380627632141113,
          8.850208282470703,
          9.31978988647461,
          9.789371490478516,
          10.258953094482422,
          10.728534698486328,
          11.198114395141602,
          11.667695999145508,
          12.137277603149414,
          12.60685920715332,
          13.076440811157227,
          13.5460205078125,
          14.015602111816406,
          14.485183715820312,
          14.954765319824219,
          15.424346923828125,
          15.893926620483398
         ],
         "z": [
          [
           -0.7377687692642212,
           -0.7505860328674316,
           -0.7430398464202881,
           -0.7113001346588135,
           -0.6610074043273926,
           -0.6051304340362549,
           -0.5526399612426758,
           -0.5073072910308838,
           -0.4698812961578369,
           -0.4397900104522705,
           -0.4160189628601074,
           -0.3974931240081787,
           -0.3832225799560547,
           -0.3723461627960205,
           -0.3641378879547119,
           -0.3580002784729004,
           -0.35345005989074707,
           -0.35010290145874023,
           -0.3476583957672119,
           -0.3458850383758545,
           -0.3446059226989746,
           -0.3436882495880127,
           -0.3430335521697998,
           -0.34256839752197266,
           -0.3422389030456543,
           -0.3420069217681885,
           -0.3418433666229248,
           -0.34172868728637695,
           -0.34164857864379883,
           -0.34159207344055176
          ],
          [
           -0.5906203985214233,
           -0.16354310512542725,
           -0.6181509494781494,
           -0.6840265989303589,
           -0.6624391078948975,
           -0.6182761192321777,
           -0.5706517696380615,
           -0.526216983795166,
           -0.4872403144836426,
           -0.4543156623840332,
           -0.4273233413696289,
           -0.40576982498168945,
           -0.3889589309692383,
           -0.3761141300201416,
           -0.3664727210998535,
           -0.3593454360961914,
           -0.3541452884674072,
           -0.35039424896240234,
           -0.3477141857147217,
           -0.34581613540649414,
           -0.3444817066192627,
           -0.3435499668121338,
           -0.34290337562561035,
           -0.34245729446411133,
           -0.3421506881713867,
           -0.34194111824035645,
           -0.3417980670928955,
           -0.34170055389404297,
           -0.34163427352905273,
           -0.34158897399902344
          ],
          [
           0.005188703536987305,
           0.24903476238250732,
           -0.04463815689086914,
           -0.3269920349121094,
           -0.45271754264831543,
           -0.49901294708251953,
           -0.5097239017486572,
           -0.49936723709106445,
           -0.4771907329559326,
           -0.45101213455200195,
           -0.4259226322174072,
           -0.4043920040130615,
           -0.38713884353637695,
           -0.37393927574157715,
           -0.36417198181152344,
           -0.35712456703186035,
           -0.3521392345428467,
           -0.34866929054260254,
           -0.34628725051879883,
           -0.34467172622680664,
           -0.34358859062194824,
           -0.34286999702453613,
           -0.34239840507507324,
           -0.34209251403808594,
           -0.34189581871032715,
           -0.34177112579345703,
           -0.3416924476623535,
           -0.3416428565979004,
           -0.341611385345459,
           -0.34159111976623535
          ],
          [
           -0.173140287399292,
           -0.04267287254333496,
           -0.12760281562805176,
           -0.10876297950744629,
           0.11377549171447754,
           -0.20462346076965332,
           -0.3930504322052002,
           -0.44704675674438477,
           -0.44649291038513184,
           -0.4275951385498047,
           -0.4056973457336426,
           -0.38660311698913574,
           -0.3718433380126953,
           -0.36119699478149414,
           -0.3538691997528076,
           -0.34900426864624023,
           -0.34587574005126953,
           -0.34392547607421875,
           -0.34275269508361816,
           -0.34207844734191895,
           -0.34171581268310547,
           -0.3415415287017822,
           -0.3414766788482666,
           -0.34147167205810547,
           -0.34149622917175293,
           -0.34153175354003906,
           -0.3415684700012207,
           -0.3416011333465576,
           -0.3416266441345215,
           -0.3416450023651123
          ],
          [
           -0.8826878070831299,
           -0.9046125411987305,
           -0.8377716541290283,
           -0.6884927749633789,
           -0.5377097129821777,
           -0.46978461742401123,
           -0.4435262680053711,
           -0.4156033992767334,
           -0.38608312606811523,
           -0.3619663715362549,
           -0.345811128616333,
           -0.33667826652526855,
           -0.3324747085571289,
           -0.3312673568725586,
           -0.331676721572876,
           -0.3328390121459961,
           -0.334259033203125,
           -0.33567309379577637,
           -0.33695507049560547,
           -0.3380556106567383,
           -0.33896827697753906,
           -0.3397059440612793,
           -0.34029078483581543,
           -0.3407464027404785,
           -0.3410964012145996,
           -0.34136056900024414,
           -0.3415560722351074,
           -0.34169673919677734,
           -0.3417940139770508,
           -0.3418567180633545
          ],
          [
           -0.6315615177154541,
           -0.5151135921478271,
           -0.6021237373352051,
           -0.6037712097167969,
           -0.5112172365188599,
           -0.38521599769592285,
           -0.26816534996032715,
           -0.1891040802001953,
           -0.160111665725708,
           -0.17049860954284668,
           -0.19936490058898926,
           -0.23114728927612305,
           -0.25884222984313965,
           -0.2807314395904541,
           -0.29727792739868164,
           -0.3095359802246094,
           -0.3185403347015381,
           -0.3251330852508545,
           -0.3299553394317627,
           -0.333482027053833,
           -0.3360602855682373,
           -0.33794426918029785,
           -0.33931899070739746,
           -0.3403201103210449,
           -0.3410451412200928,
           -0.3415658473968506,
           -0.3419332504272461,
           -0.34218549728393555,
           -0.3423495292663574,
           -0.34244537353515625
          ],
          [
           -0.016616106033325195,
           0.21152257919311523,
           0.06332087516784668,
           -0.06298279762268066,
           -0.01950550079345703,
           0.16886353492736816,
           0.45755791664123535,
           0.6510655879974365,
           0.4974062442779541,
           0.2401411533355713,
           0.04504203796386719,
           -0.08468294143676758,
           -0.16933441162109375,
           -0.22498035430908203,
           -0.2620675563812256,
           -0.2871427536010742,
           -0.30431509017944336,
           -0.31620049476623535,
           -0.3244965076446533,
           -0.3303253650665283,
           -0.3344428539276123,
           -0.33736348152160645,
           -0.33944177627563477,
           -0.34092235565185547,
           -0.34197473526000977,
           -0.3427150249481201,
           -0.34322428703308105,
           -0.34355807304382324,
           -0.34375572204589844,
           -0.34384608268737793
          ],
          [
           0.3000500202178955,
           0.6173481941223145,
           0.45343708992004395,
           0.32118749618530273,
           0.3571741580963135,
           0.5283632278442383,
           0.8273897171020508,
           1.042750358581543,
           0.7522597312927246,
           0.38615894317626953,
           0.13412761688232422,
           -0.028287887573242188,
           -0.13326358795166016,
           -0.20208024978637695,
           -0.24787068367004395,
           -0.27874016761779785,
           -0.2997729778289795,
           -0.3142240047454834,
           -0.3242206573486328,
           -0.3311777114868164,
           -0.33605027198791504,
           -0.33948659896850586,
           -0.34192705154418945,
           -0.3436698913574219,
           -0.3449137210845947,
           -0.34578895568847656,
           -0.34637999534606934,
           -0.3467416763305664,
           -0.3469116687774658,
           -0.34691810607910156
          ],
          [
           0.09891557693481445,
           0.26842474937438965,
           0.45900702476501465,
           0.6583425998687744,
           0.7747950553894043,
           0.719763994216919,
           0.5765001773834229,
           0.42525315284729004,
           0.2746267318725586,
           0.12959623336791992,
           0.003462076187133789,
           -0.09656786918640137,
           -0.1713852882385254,
           -0.22552895545959473,
           -0.2639946937561035,
           -0.29102516174316406,
           -0.3098874092102051,
           -0.3229947090148926,
           -0.332094669342041,
           -0.3384368419647217,
           -0.34290266036987305,
           -0.3461029529571533,
           -0.348447322845459,
           -0.35019993782043457,
           -0.3515188694000244,
           -0.35248851776123047,
           -0.3531472682952881,
           -0.35350823402404785,
           -0.3535780906677246,
           -0.35336828231811523
          ],
          [
           0.07021975517272949,
           0.2745499610900879,
           0.6100454330444336,
           1.201183795928955,
           1.99843430519104,
           1.1805322170257568,
           0.6229848861694336,
           0.30684566497802734,
           0.11124777793884277,
           -0.020825624465942383,
           -0.11583280563354492,
           -0.18617939949035645,
           -0.23833417892456055,
           -0.2764432430267334,
           -0.30369067192077637,
           -0.32271265983581543,
           -0.33569788932800293,
           -0.34441685676574707,
           -0.3502500057220459,
           -0.3542313575744629,
           -0.3570976257324219,
           -0.35934019088745117,
           -0.3612520694732666,
           -0.36296892166137695,
           -0.36450910568237305,
           -0.36580920219421387,
           -0.3667623996734619,
           -0.36725401878356934,
           -0.36719536781311035,
           -0.3665482997894287
          ],
          [
           -0.01019597053527832,
           0.1129758358001709,
           0.27527499198913574,
           0.47510600090026855,
           0.6046409606933594,
           0.45703792572021484,
           0.25022411346435547,
           0.08031654357910156,
           -0.052115440368652344,
           -0.15344500541687012,
           -0.2296614646911621,
           -0.2855348587036133,
           -0.3248941898345947,
           -0.3510885238647461,
           -0.36721086502075195,
           -0.3760848045349121,
           -0.3801553249359131,
           -0.38140153884887695,
           -0.3813169002532959,
           -0.38094615936279297,
           -0.380950927734375,
           -0.3816807270050049,
           -0.3832275867462158,
           -0.38547277450561523,
           -0.3881261348724365,
           -0.39077281951904297,
           -0.39293861389160156,
           -0.39417147636413574,
           -0.3941314220428467,
           -0.39265966415405273
          ],
          [
           -0.020762205123901367,
           0.10525941848754883,
           0.2779879570007324,
           0.4783446788787842,
           0.5769541263580322,
           0.44077134132385254,
           0.21067261695861816,
           0.007307291030883789,
           -0.15205621719360352,
           -0.27338337898254395,
           -0.3619511127471924,
           -0.4213221073150635,
           -0.4555013179779053,
           -0.4697847366333008,
           -0.47015976905822754,
           -0.4622626304626465,
           -0.45064449310302734,
           -0.4385502338409424,
           -0.42805051803588867,
           -0.42030978202819824,
           -0.41585397720336914,
           -0.4147608280181885,
           -0.4167633056640625,
           -0.42128467559814453,
           -0.4274418354034424,
           -0.43407535552978516,
           -0.43985843658447266,
           -0.4435091018676758,
           -0.44405651092529297,
           -0.44106221199035645
          ],
          [
           -0.0014371871948242188,
           0.15346765518188477,
           0.4001960754394531,
           0.7944273948669434,
           1.1458075046539307,
           0.7472014427185059,
           0.32209062576293945,
           0.013097286224365234,
           -0.23192119598388672,
           -0.42926669120788574,
           -0.5724284648895264,
           -0.654853105545044,
           -0.6820528507232666,
           -0.6696248054504395,
           -0.6351926326751709,
           -0.5927684307098389,
           -0.551339864730835,
           -0.5157592296600342,
           -0.4881622791290283,
           -0.46913814544677734,
           -0.45849037170410156,
           -0.4556269645690918,
           -0.45966577529907227,
           -0.4693326950073242,
           -0.48275327682495117,
           -0.4973292350769043,
           -0.5099947452545166,
           -0.518010139465332,
           -0.5197575092315674,
           -0.5146834850311279
          ],
          [
           -0.03817439079284668,
           0.06771731376647949,
           0.19668912887573242,
           0.3311769962310791,
           0.43324780464172363,
           0.462019681930542,
           0.38443541526794434,
           0.16167497634887695,
           -0.2027292251586914,
           -0.6039974689483643,
           -0.9030057191848755,
           -1.0376920700073242,
           -1.0324188470840454,
           -0.9514333009719849,
           -0.8468055725097656,
           -0.74605393409729,
           -0.6606693267822266,
           -0.5939297676086426,
           -0.5454509258270264,
           -0.5135414600372314,
           -0.49629902839660645,
           -0.4919743537902832,
           -0.49884915351867676,
           -0.5146641731262207,
           -0.5355398654937744,
           -0.5544860363006592,
           -0.561009407043457,
           -0.5483267307281494,
           -0.5340421199798584,
           -0.5425900220870972
          ],
          [
           -0.0716245174407959,
           0.02301812171936035,
           0.15066885948181152,
           0.3256645202636719,
           0.5737526416778564,
           0.9398753643035889,
           1.4714910984039307,
           1.7666515111923218,
           0.6713292598724365,
           -0.43280482292175293,
           -1.0394928455352783,
           -1.3135019540786743,
           -1.2829036712646484,
           -1.135725975036621,
           -0.9725627899169922,
           -0.8291574716567993,
           -0.7150065898895264,
           -0.6296811103820801,
           -0.569633960723877,
           -0.530940055847168,
           -0.5102579593658447,
           -0.5049645900726318,
           -0.5127654075622559,
           -0.5307016372680664,
           -0.553025484085083,
           -0.566474437713623,
           -0.5386567115783691,
           -0.38370704650878906,
           0.05302011966705322,
           -0.35967588424682617
          ],
          [
           -0.1166985034942627,
           -0.038300275802612305,
           0.06829690933227539,
           0.2135181427001953,
           0.4086894989013672,
           0.6532690525054932,
           0.878420352935791,
           0.8212149143218994,
           0.27203369140625,
           -0.39784419536590576,
           -0.7224749326705933,
           -1.0684642791748047,
           -1.0788235664367676,
           -0.9767308235168457,
           -0.8554229736328125,
           -0.7454898357391357,
           -0.6558856964111328,
           -0.5875828266143799,
           -0.5387551784515381,
           -0.5068929195404053,
           -0.48963499069213867,
           -0.4849717617034912,
           -0.4910578727722168,
           -0.505690336227417,
           -0.5254600048065186,
           -0.5448358058929443,
           -0.5564987659454346,
           -0.5562894344329834,
           -0.5516786575317383,
           -0.5517847537994385
          ],
          [
           -0.17951560020446777,
           -0.13140463829040527,
           -0.07256340980529785,
           -0.004281044006347656,
           0.06753277778625488,
           0.12935161590576172,
           0.1611485481262207,
           0.1513538360595703,
           0.12320733070373535,
           0.11942696571350098,
           0.07093596458435059,
           -0.1416761875152588,
           -0.36113715171813965,
           -0.4810166358947754,
           -0.5224189758300781,
           -0.5222430229187012,
           -0.5048820972442627,
           -0.48354101181030273,
           -0.46465277671813965,
           -0.4510033130645752,
           -0.44353175163269043,
           -0.44225072860717773,
           -0.44662976264953613,
           -0.45566320419311523,
           -0.4677925109863281,
           -0.48085880279541016,
           -0.4923095703125,
           -0.499741792678833,
           -0.501507043838501,
           -0.4969441890716553
          ],
          [
           -0.23275017738342285,
           -0.20447230339050293,
           -0.17106318473815918,
           -0.13239026069641113,
           -0.08780312538146973,
           -0.034127235412597656,
           0.03895425796508789,
           0.15770173072814941,
           0.37927937507629395,
           0.8055722713470459,
           1.2513059377670288,
           0.6978800296783447,
           0.19441747665405273,
           -0.08470749855041504,
           -0.2354433536529541,
           -0.3152031898498535,
           -0.3558933734893799,
           -0.37566614151000977,
           -0.3849167823791504,
           -0.3895390033721924,
           -0.3927888870239258,
           -0.39635467529296875,
           -0.4009535312652588,
           -0.40665507316589355,
           -0.4130558967590332,
           -0.419403076171875,
           -0.4247426986694336,
           -0.4281191825866699,
           -0.4288010597229004,
           -0.426469087600708
          ],
          [
           -0.26633381843566895,
           -0.24617409706115723,
           -0.22061967849731445,
           -0.1874547004699707,
           -0.14276933670043945,
           -0.07970166206359863,
           0.013221025466918945,
           0.1535027027130127,
           0.36281633377075195,
           0.6413776874542236,
           0.8123502731323242,
           0.5986659526824951,
           0.28865790367126465,
           0.05557727813720703,
           -0.10036134719848633,
           -0.20062255859375,
           -0.2637214660644531,
           -0.30299806594848633,
           -0.3274569511413574,
           -0.3429577350616455,
           -0.3532102108001709,
           -0.36049413681030273,
           -0.36614179611206055,
           -0.37085461616516113,
           -0.3749096393585205,
           -0.3783078193664551,
           -0.3808908462524414,
           -0.3824489116668701,
           -0.3828120231628418,
           -0.38191866874694824
          ],
          [
           -0.2870006561279297,
           -0.2708089351654053,
           -0.2489912509918213,
           -0.2187497615814209,
           -0.17541813850402832,
           -0.11108851432800293,
           -0.012182235717773438,
           0.14472508430480957,
           0.39808225631713867,
           0.7847080230712891,
           1.0821077823638916,
           0.760730504989624,
           0.3638768196105957,
           0.1024930477142334,
           -0.06059122085571289,
           -0.16325926780700684,
           -0.22884845733642578,
           -0.27126622200012207,
           -0.2989804744720459,
           -0.3172767162322998,
           -0.3295149803161621,
           -0.3378446102142334,
           -0.34363770484924316,
           -0.34775567054748535,
           -0.3507242202758789,
           -0.35285115242004395,
           -0.3543095588684082,
           -0.355194091796875,
           -0.35556483268737793,
           -0.3554708957672119
          ],
          [
           -0.30237555503845215,
           -0.2903444766998291,
           -0.27417755126953125,
           -0.25221800804138184,
           -0.22217059135437012,
           -0.18109726905822754,
           -0.12593936920166016,
           -0.055518150329589844,
           0.024465560913085938,
           0.09405779838562012,
           0.12090754508972168,
           0.08730602264404297,
           0.01208353042602539,
           -0.07212233543395996,
           -0.14547133445739746,
           -0.20236730575561523,
           -0.24407172203063965,
           -0.2737579345703125,
           -0.294525146484375,
           -0.3088548183441162,
           -0.318589448928833,
           -0.32504987716674805,
           -0.32917261123657227,
           -0.33162784576416016,
           -0.3329164981842041,
           -0.33344602584838867,
           -0.3335726261138916,
           -0.33360981941223145,
           -0.3337981700897217,
           -0.33426690101623535
          ],
          [
           -0.31511735916137695,
           -0.3074359893798828,
           -0.29755711555480957,
           -0.2849609851837158,
           -0.2691655158996582,
           -0.24993634223937988,
           -0.22766709327697754,
           -0.20392370223999023,
           -0.18189549446105957,
           -0.1661388874053955,
           -0.16099834442138672,
           -0.16823148727416992,
           -0.18582677841186523,
           -0.20925116539001465,
           -0.23383808135986328,
           -0.2563438415527344,
           -0.2751789093017578,
           -0.28994321823120117,
           -0.3008706569671631,
           -0.3084378242492676,
           -0.3131415843963623,
           -0.3153994083404541,
           -0.31553196907043457,
           -0.3138010501861572,
           -0.3105194568634033,
           -0.3062107563018799,
           -0.3017618656158447,
           -0.29839229583740234,
           -0.29728007316589355,
           -0.29897522926330566
          ],
          [
           -0.32497191429138184,
           -0.3206446170806885,
           -0.3153655529022217,
           -0.30905675888061523,
           -0.30173587799072266,
           -0.29358530044555664,
           -0.28502845764160156,
           -0.2767765522003174,
           -0.2697875499725342,
           -0.2650880813598633,
           -0.2634730339050293,
           -0.26520466804504395,
           -0.26988863945007324,
           -0.27660584449768066,
           -0.28421640396118164,
           -0.2916545867919922,
           -0.29810261726379395,
           -0.30301547050476074,
           -0.3060581684112549,
           -0.30699944496154785,
           -0.3055989742279053,
           -0.30148959159851074,
           -0.29407310485839844,
           -0.2824676036834717,
           -0.2656693458557129,
           -0.24329137802124023,
           -0.2173316478729248,
           -0.19440531730651855,
           -0.18467450141906738,
           -0.19387221336364746
          ],
          [
           -0.33174777030944824,
           -0.32949066162109375,
           -0.3268582820892334,
           -0.3238670825958252,
           -0.32057881355285645,
           -0.31711387634277344,
           -0.3136589527130127,
           -0.3104581832885742,
           -0.3077816963195801,
           -0.3058743476867676,
           -0.30489206314086914,
           -0.30484676361083984,
           -0.3055858612060547,
           -0.3068082332611084,
           -0.30811119079589844,
           -0.30904650688171387,
           -0.3091573715209961,
           -0.30798935890197754,
           -0.30506443977355957,
           -0.29981327056884766,
           -0.29144930839538574,
           -0.27874040603637695,
           -0.25958824157714844,
           -0.23026418685913086,
           -0.18408823013305664,
           -0.10960555076599121,
           0.009326934814453125,
           0.17464470863342285,
           0.2843153476715088,
           0.1854381561279297
          ],
          [
           -0.3359668254852295,
           -0.33482813835144043,
           -0.3335409164428711,
           -0.3321218490600586,
           -0.33060383796691895,
           -0.32903432846069336,
           -0.32747554779052734,
           -0.32599472999572754,
           -0.32465338706970215,
           -0.3234875202178955,
           -0.3224918842315674,
           -0.32160329818725586,
           -0.3206901550292969,
           -0.3195476531982422,
           -0.3178977966308594,
           -0.31538987159729004,
           -0.31158995628356934,
           -0.30596017837524414,
           -0.2978179454803467,
           -0.2862586975097656,
           -0.27002906799316406,
           -0.2472994327545166,
           -0.21524691581726074,
           -0.16924786567687988,
           -0.10125613212585449,
           0.0034902095794677734,
           0.17228174209594727,
           0.4425852298736572,
           0.6881380081176758,
           0.4637744426727295
          ],
          [
           -0.3384115695953369,
           -0.3378322124481201,
           -0.3371851444244385,
           -0.336475133895874,
           -0.3357105255126953,
           -0.33489990234375,
           -0.33405184745788574,
           -0.33316731452941895,
           -0.33223462104797363,
           -0.3312199115753174,
           -0.3300590515136719,
           -0.328646183013916,
           -0.32682156562805176,
           -0.3243584632873535,
           -0.32094573974609375,
           -0.316164493560791,
           -0.3094508647918701,
           -0.3000476360321045,
           -0.2869265079498291,
           -0.26868653297424316,
           -0.24340558052062988,
           -0.2084674835205078,
           -0.16039276123046875,
           -0.09485173225402832,
           -0.00738835334777832,
           0.10385251045227051,
           0.23100996017456055,
           0.34485459327697754,
           0.39496731758117676,
           0.3505744934082031
          ],
          [
           -0.33976006507873535,
           -0.3394489288330078,
           -0.3390967845916748,
           -0.3386998176574707,
           -0.3382532596588135,
           -0.33774852752685547,
           -0.3371701240539551,
           -0.33649325370788574,
           -0.3356776237487793,
           -0.33466196060180664,
           -0.33335280418395996,
           -0.3316173553466797,
           -0.32926511764526367,
           -0.32603001594543457,
           -0.32154202461242676,
           -0.31528687477111816,
           -0.3065483570098877,
           -0.2943248748779297,
           -0.27720069885253906,
           -0.2531602382659912,
           -0.2193002700805664,
           -0.17139291763305664,
           -0.10320591926574707,
           -0.005432605743408203,
           0.13603591918945312,
           0.3427717685699463,
           0.6462798118591309,
           1.071012258529663,
           1.4068191051483154,
           1.1020381450653076
          ],
          [
           -0.340482234954834,
           -0.3402984142303467,
           -0.34008216857910156,
           -0.3398261070251465,
           -0.3395195007324219,
           -0.3391456604003906,
           -0.3386819362640381,
           -0.3380930423736572,
           -0.337329626083374,
           -0.3363199234008789,
           -0.3349621295928955,
           -0.333113431930542,
           -0.33057355880737305,
           -0.32706260681152344,
           -0.3221890926361084,
           -0.31540513038635254,
           -0.3059396743774414,
           -0.29269933700561523,
           -0.27411818504333496,
           -0.24793076515197754,
           -0.21081185340881348,
           -0.15781545639038086,
           -0.08147859573364258,
           0.029587745666503906,
           0.19281959533691406,
           0.43454408645629883,
           0.7925329208374023,
           1.3153090476989746,
           1.944226622581482,
           1.3623504638671875
          ],
          [
           -0.3408663272857666,
           -0.340745210647583,
           -0.34059596061706543,
           -0.3404097557067871,
           -0.34017467498779297,
           -0.3398725986480713,
           -0.3394789695739746,
           -0.3389589786529541,
           -0.33826351165771484,
           -0.3373239040374756,
           -0.3360452651977539,
           -0.33429574966430664,
           -0.3318920135498047,
           -0.3285818099975586,
           -0.32401442527770996,
           -0.317704439163208,
           -0.3089742660522461,
           -0.2968757152557373,
           -0.28006815910339355,
           -0.256641149520874,
           -0.22383761405944824,
           -0.1776266098022461,
           -0.11201977729797363,
           -0.017965078353881836,
           0.1185760498046875,
           0.3204164505004883,
           0.6288232803344727,
           1.1394035816192627,
           2.167217493057251,
           1.1907434463500977
          ],
          [
           -0.3410756587982178,
           -0.3409888744354248,
           -0.3408780097961426,
           -0.34073472023010254,
           -0.3405478000640869,
           -0.3403010368347168,
           -0.33997273445129395,
           -0.33953237533569336,
           -0.33893871307373047,
           -0.3381345272064209,
           -0.33704185485839844,
           -0.3355553150177002,
           -0.3335304260253906,
           -0.33077263832092285,
           -0.32701754570007324,
           -0.32190799713134766,
           -0.31496167182922363,
           -0.3055260181427002,
           -0.29271602630615234,
           -0.275331974029541,
           -0.251739501953125,
           -0.2197105884552002,
           -0.1762104034423828,
           -0.1171715259552002,
           -0.03745388984680176,
           0.06812119483947754,
           0.19936347007751465,
           0.33287978172302246,
           0.3989441394805908,
           0.34038233757019043
          ]
         ],
         "type": "surface"
        },
        {
         "marker": {
          "color": "darkgreen"
         },
         "mode": "markers",
         "name": "training data",
         "x": [
          0.5,
          0.5,
          1,
          1,
          1.5,
          1.5,
          5,
          5,
          0.5,
          5,
          2,
          0.5,
          0.5,
          0.5,
          1,
          1,
          2,
          2,
          2,
          2,
          5,
          5,
          5
         ],
         "y": [
          2.7300000190734863,
          3.4000000953674316,
          3.7899999618530273,
          6.440000057220459,
          5.360000133514404,
          8.989999771118164,
          8.800000190734863,
          14.670000076293945,
          5.239999771118164,
          14.889999389648438,
          10.130000114440918,
          4.510000228881836,
          5.369999885559082,
          4.880000114440918,
          6.760000228881836,
          7.769999980926514,
          8.729999542236328,
          9.380000114440918,
          10.479999542236328,
          11.010000228881836,
          14.709999084472656,
          15.439998626708984,
          13.369998931884766
         ],
         "z": [
          0.8730257153511047,
          2.6772446632385254,
          1.6990152597427368,
          3.8050527572631836,
          3.3348562717437744,
          4.535152912139893,
          1.3625102043151855,
          3.8412907123565674,
          1.2013570070266724,
          3.5136520862579346,
          3.4708714485168457,
          0.26329824328422546,
          2.7753403186798096,
          2.591306209564209,
          2.579984426498413,
          3.173818588256836,
          0.13150499761104584,
          0.45116370916366577,
          2.1266398429870605,
          3.468212842941284,
          3.685852527618408,
          3.445655584335327,
          2.6515469551086426
         ],
         "type": "scatter3d"
        },
        {
         "mode": "markers",
         "name": "max(upper confidence bound)",
         "x": [
          1.1705665588378906
         ],
         "y": [
          8.850208282470703
         ],
         "z": [
          2.5013906955718994
         ],
         "type": "scatter3d"
        },
        {
         "mode": "markers",
         "name": "max(thompson)",
         "x": [
          3.165640354156494
         ],
         "y": [
          3.2152340412139893
         ],
         "z": [
          2.620272397994995
         ],
         "type": "scatter3d"
        },
        {
         "mode": "markers",
         "name": "max(pi)",
         "x": [
          1.3368226289749146
         ],
         "y": [
          8.850208282470703
         ],
         "z": [
          2.532398223876953
         ],
         "type": "scatter3d"
        },
        {
         "mode": "markers",
         "name": "max(ei)",
         "x": [
          1.3368226289749146
         ],
         "y": [
          8.850208282470703
         ],
         "z": [
          2.532398223876953
         ],
         "type": "scatter3d"
        },
        {
         "mode": "markers",
         "name": "max(ca)",
         "x": [
          4.163177490234375
         ],
         "y": [
          14.954765319824219
         ],
         "z": [
          2.576207160949707
         ],
         "type": "scatter3d"
        }
       ],
       "layout": {
        "template": {
         "data": {
          "histogram2dcontour": [
           {
            "type": "histogram2dcontour",
            "colorbar": {
             "outlinewidth": 0,
             "ticks": ""
            },
            "colorscale": [
             [
              0,
              "#0d0887"
             ],
             [
              0.1111111111111111,
              "#46039f"
             ],
             [
              0.2222222222222222,
              "#7201a8"
             ],
             [
              0.3333333333333333,
              "#9c179e"
             ],
             [
              0.4444444444444444,
              "#bd3786"
             ],
             [
              0.5555555555555556,
              "#d8576b"
             ],
             [
              0.6666666666666666,
              "#ed7953"
             ],
             [
              0.7777777777777778,
              "#fb9f3a"
             ],
             [
              0.8888888888888888,
              "#fdca26"
             ],
             [
              1,
              "#f0f921"
             ]
            ]
           }
          ],
          "choropleth": [
           {
            "type": "choropleth",
            "colorbar": {
             "outlinewidth": 0,
             "ticks": ""
            }
           }
          ],
          "histogram2d": [
           {
            "type": "histogram2d",
            "colorbar": {
             "outlinewidth": 0,
             "ticks": ""
            },
            "colorscale": [
             [
              0,
              "#0d0887"
             ],
             [
              0.1111111111111111,
              "#46039f"
             ],
             [
              0.2222222222222222,
              "#7201a8"
             ],
             [
              0.3333333333333333,
              "#9c179e"
             ],
             [
              0.4444444444444444,
              "#bd3786"
             ],
             [
              0.5555555555555556,
              "#d8576b"
             ],
             [
              0.6666666666666666,
              "#ed7953"
             ],
             [
              0.7777777777777778,
              "#fb9f3a"
             ],
             [
              0.8888888888888888,
              "#fdca26"
             ],
             [
              1,
              "#f0f921"
             ]
            ]
           }
          ],
          "heatmap": [
           {
            "type": "heatmap",
            "colorbar": {
             "outlinewidth": 0,
             "ticks": ""
            },
            "colorscale": [
             [
              0,
              "#0d0887"
             ],
             [
              0.1111111111111111,
              "#46039f"
             ],
             [
              0.2222222222222222,
              "#7201a8"
             ],
             [
              0.3333333333333333,
              "#9c179e"
             ],
             [
              0.4444444444444444,
              "#bd3786"
             ],
             [
              0.5555555555555556,
              "#d8576b"
             ],
             [
              0.6666666666666666,
              "#ed7953"
             ],
             [
              0.7777777777777778,
              "#fb9f3a"
             ],
             [
              0.8888888888888888,
              "#fdca26"
             ],
             [
              1,
              "#f0f921"
             ]
            ]
           }
          ],
          "heatmapgl": [
           {
            "type": "heatmapgl",
            "colorbar": {
             "outlinewidth": 0,
             "ticks": ""
            },
            "colorscale": [
             [
              0,
              "#0d0887"
             ],
             [
              0.1111111111111111,
              "#46039f"
             ],
             [
              0.2222222222222222,
              "#7201a8"
             ],
             [
              0.3333333333333333,
              "#9c179e"
             ],
             [
              0.4444444444444444,
              "#bd3786"
             ],
             [
              0.5555555555555556,
              "#d8576b"
             ],
             [
              0.6666666666666666,
              "#ed7953"
             ],
             [
              0.7777777777777778,
              "#fb9f3a"
             ],
             [
              0.8888888888888888,
              "#fdca26"
             ],
             [
              1,
              "#f0f921"
             ]
            ]
           }
          ],
          "contourcarpet": [
           {
            "type": "contourcarpet",
            "colorbar": {
             "outlinewidth": 0,
             "ticks": ""
            }
           }
          ],
          "contour": [
           {
            "type": "contour",
            "colorbar": {
             "outlinewidth": 0,
             "ticks": ""
            },
            "colorscale": [
             [
              0,
              "#0d0887"
             ],
             [
              0.1111111111111111,
              "#46039f"
             ],
             [
              0.2222222222222222,
              "#7201a8"
             ],
             [
              0.3333333333333333,
              "#9c179e"
             ],
             [
              0.4444444444444444,
              "#bd3786"
             ],
             [
              0.5555555555555556,
              "#d8576b"
             ],
             [
              0.6666666666666666,
              "#ed7953"
             ],
             [
              0.7777777777777778,
              "#fb9f3a"
             ],
             [
              0.8888888888888888,
              "#fdca26"
             ],
             [
              1,
              "#f0f921"
             ]
            ]
           }
          ],
          "surface": [
           {
            "type": "surface",
            "colorbar": {
             "outlinewidth": 0,
             "ticks": ""
            },
            "colorscale": [
             [
              0,
              "#0d0887"
             ],
             [
              0.1111111111111111,
              "#46039f"
             ],
             [
              0.2222222222222222,
              "#7201a8"
             ],
             [
              0.3333333333333333,
              "#9c179e"
             ],
             [
              0.4444444444444444,
              "#bd3786"
             ],
             [
              0.5555555555555556,
              "#d8576b"
             ],
             [
              0.6666666666666666,
              "#ed7953"
             ],
             [
              0.7777777777777778,
              "#fb9f3a"
             ],
             [
              0.8888888888888888,
              "#fdca26"
             ],
             [
              1,
              "#f0f921"
             ]
            ]
           }
          ],
          "mesh3d": [
           {
            "type": "mesh3d",
            "colorbar": {
             "outlinewidth": 0,
             "ticks": ""
            }
           }
          ],
          "scatter": [
           {
            "fillpattern": {
             "fillmode": "overlay",
             "size": 10,
             "solidity": 0.2
            },
            "type": "scatter"
           }
          ],
          "parcoords": [
           {
            "type": "parcoords",
            "line": {
             "colorbar": {
              "outlinewidth": 0,
              "ticks": ""
             }
            }
           }
          ],
          "scatterpolargl": [
           {
            "type": "scatterpolargl",
            "marker": {
             "colorbar": {
              "outlinewidth": 0,
              "ticks": ""
             }
            }
           }
          ],
          "bar": [
           {
            "error_x": {
             "color": "#2a3f5f"
            },
            "error_y": {
             "color": "#2a3f5f"
            },
            "marker": {
             "line": {
              "color": "#E5ECF6",
              "width": 0.5
             },
             "pattern": {
              "fillmode": "overlay",
              "size": 10,
              "solidity": 0.2
             }
            },
            "type": "bar"
           }
          ],
          "scattergeo": [
           {
            "type": "scattergeo",
            "marker": {
             "colorbar": {
              "outlinewidth": 0,
              "ticks": ""
             }
            }
           }
          ],
          "scatterpolar": [
           {
            "type": "scatterpolar",
            "marker": {
             "colorbar": {
              "outlinewidth": 0,
              "ticks": ""
             }
            }
           }
          ],
          "histogram": [
           {
            "marker": {
             "pattern": {
              "fillmode": "overlay",
              "size": 10,
              "solidity": 0.2
             }
            },
            "type": "histogram"
           }
          ],
          "scattergl": [
           {
            "type": "scattergl",
            "marker": {
             "colorbar": {
              "outlinewidth": 0,
              "ticks": ""
             }
            }
           }
          ],
          "scatter3d": [
           {
            "type": "scatter3d",
            "line": {
             "colorbar": {
              "outlinewidth": 0,
              "ticks": ""
             }
            },
            "marker": {
             "colorbar": {
              "outlinewidth": 0,
              "ticks": ""
             }
            }
           }
          ],
          "scattermapbox": [
           {
            "type": "scattermapbox",
            "marker": {
             "colorbar": {
              "outlinewidth": 0,
              "ticks": ""
             }
            }
           }
          ],
          "scatterternary": [
           {
            "type": "scatterternary",
            "marker": {
             "colorbar": {
              "outlinewidth": 0,
              "ticks": ""
             }
            }
           }
          ],
          "scattercarpet": [
           {
            "type": "scattercarpet",
            "marker": {
             "colorbar": {
              "outlinewidth": 0,
              "ticks": ""
             }
            }
           }
          ],
          "carpet": [
           {
            "aaxis": {
             "endlinecolor": "#2a3f5f",
             "gridcolor": "white",
             "linecolor": "white",
             "minorgridcolor": "white",
             "startlinecolor": "#2a3f5f"
            },
            "baxis": {
             "endlinecolor": "#2a3f5f",
             "gridcolor": "white",
             "linecolor": "white",
             "minorgridcolor": "white",
             "startlinecolor": "#2a3f5f"
            },
            "type": "carpet"
           }
          ],
          "table": [
           {
            "cells": {
             "fill": {
              "color": "#EBF0F8"
             },
             "line": {
              "color": "white"
             }
            },
            "header": {
             "fill": {
              "color": "#C8D4E3"
             },
             "line": {
              "color": "white"
             }
            },
            "type": "table"
           }
          ],
          "barpolar": [
           {
            "marker": {
             "line": {
              "color": "#E5ECF6",
              "width": 0.5
             },
             "pattern": {
              "fillmode": "overlay",
              "size": 10,
              "solidity": 0.2
             }
            },
            "type": "barpolar"
           }
          ],
          "pie": [
           {
            "automargin": true,
            "type": "pie"
           }
          ]
         },
         "layout": {
          "autotypenumbers": "strict",
          "colorway": [
           "#636efa",
           "#EF553B",
           "#00cc96",
           "#ab63fa",
           "#FFA15A",
           "#19d3f3",
           "#FF6692",
           "#B6E880",
           "#FF97FF",
           "#FECB52"
          ],
          "font": {
           "color": "#2a3f5f"
          },
          "hovermode": "closest",
          "hoverlabel": {
           "align": "left"
          },
          "paper_bgcolor": "white",
          "plot_bgcolor": "#E5ECF6",
          "polar": {
           "bgcolor": "#E5ECF6",
           "angularaxis": {
            "gridcolor": "white",
            "linecolor": "white",
            "ticks": ""
           },
           "radialaxis": {
            "gridcolor": "white",
            "linecolor": "white",
            "ticks": ""
           }
          },
          "ternary": {
           "bgcolor": "#E5ECF6",
           "aaxis": {
            "gridcolor": "white",
            "linecolor": "white",
            "ticks": ""
           },
           "baxis": {
            "gridcolor": "white",
            "linecolor": "white",
            "ticks": ""
           },
           "caxis": {
            "gridcolor": "white",
            "linecolor": "white",
            "ticks": ""
           }
          },
          "coloraxis": {
           "colorbar": {
            "outlinewidth": 0,
            "ticks": ""
           }
          },
          "colorscale": {
           "sequential": [
            [
             0,
             "#0d0887"
            ],
            [
             0.1111111111111111,
             "#46039f"
            ],
            [
             0.2222222222222222,
             "#7201a8"
            ],
            [
             0.3333333333333333,
             "#9c179e"
            ],
            [
             0.4444444444444444,
             "#bd3786"
            ],
            [
             0.5555555555555556,
             "#d8576b"
            ],
            [
             0.6666666666666666,
             "#ed7953"
            ],
            [
             0.7777777777777778,
             "#fb9f3a"
            ],
            [
             0.8888888888888888,
             "#fdca26"
            ],
            [
             1,
             "#f0f921"
            ]
           ],
           "sequentialminus": [
            [
             0,
             "#0d0887"
            ],
            [
             0.1111111111111111,
             "#46039f"
            ],
            [
             0.2222222222222222,
             "#7201a8"
            ],
            [
             0.3333333333333333,
             "#9c179e"
            ],
            [
             0.4444444444444444,
             "#bd3786"
            ],
            [
             0.5555555555555556,
             "#d8576b"
            ],
            [
             0.6666666666666666,
             "#ed7953"
            ],
            [
             0.7777777777777778,
             "#fb9f3a"
            ],
            [
             0.8888888888888888,
             "#fdca26"
            ],
            [
             1,
             "#f0f921"
            ]
           ],
           "diverging": [
            [
             0,
             "#8e0152"
            ],
            [
             0.1,
             "#c51b7d"
            ],
            [
             0.2,
             "#de77ae"
            ],
            [
             0.3,
             "#f1b6da"
            ],
            [
             0.4,
             "#fde0ef"
            ],
            [
             0.5,
             "#f7f7f7"
            ],
            [
             0.6,
             "#e6f5d0"
            ],
            [
             0.7,
             "#b8e186"
            ],
            [
             0.8,
             "#7fbc41"
            ],
            [
             0.9,
             "#4d9221"
            ],
            [
             1,
             "#276419"
            ]
           ]
          },
          "xaxis": {
           "gridcolor": "white",
           "linecolor": "white",
           "ticks": "",
           "title": {
            "standoff": 15
           },
           "zerolinecolor": "white",
           "automargin": true,
           "zerolinewidth": 2
          },
          "yaxis": {
           "gridcolor": "white",
           "linecolor": "white",
           "ticks": "",
           "title": {
            "standoff": 15
           },
           "zerolinecolor": "white",
           "automargin": true,
           "zerolinewidth": 2
          },
          "scene": {
           "xaxis": {
            "backgroundcolor": "#E5ECF6",
            "gridcolor": "white",
            "linecolor": "white",
            "showbackground": true,
            "ticks": "",
            "zerolinecolor": "white",
            "gridwidth": 2
           },
           "yaxis": {
            "backgroundcolor": "#E5ECF6",
            "gridcolor": "white",
            "linecolor": "white",
            "showbackground": true,
            "ticks": "",
            "zerolinecolor": "white",
            "gridwidth": 2
           },
           "zaxis": {
            "backgroundcolor": "#E5ECF6",
            "gridcolor": "white",
            "linecolor": "white",
            "showbackground": true,
            "ticks": "",
            "zerolinecolor": "white",
            "gridwidth": 2
           }
          },
          "shapedefaults": {
           "line": {
            "color": "#2a3f5f"
           }
          },
          "annotationdefaults": {
           "arrowcolor": "#2a3f5f",
           "arrowhead": 0,
           "arrowwidth": 1
          },
          "geo": {
           "bgcolor": "white",
           "landcolor": "#E5ECF6",
           "subunitcolor": "white",
           "showland": true,
           "showlakes": true,
           "lakecolor": "white"
          },
          "title": {
           "x": 0.05
          },
          "mapbox": {
           "style": "light"
          }
         }
        },
        "margin": {
         "r": 20,
         "l": 10,
         "b": 10,
         "t": 10
        },
        "legend": {
         "orientation": "h",
         "yanchor": "bottom",
         "y": 1.02,
         "xanchor": "right",
         "x": 1
        },
        "width": 1000,
        "height": 600,
        "scene": {
         "xaxis": {
          "title": {
           "text": "Pulse Width (msec)"
          }
         },
         "yaxis": {
          "title": {
           "text": "Energy density new cone (J/cm^2)"
          }
         },
         "zaxis": {
          "title": {
           "text": "2 Qsw/(U+|D|) 1e6"
          }
         }
        }
       },
       "config": {
        "plotlyServerURL": "https://plot.ly"
       }
      }
     },
     "metadata": {}
    }
   ],
   "metadata": {}
  },
  {
   "cell_type": "code",
   "execution_count": 128,
   "source": [
    "print(test_grid.shape)"
   ],
   "outputs": [
    {
     "output_type": "stream",
     "name": "stdout",
     "text": [
      "torch.Size([30, 2])\n"
     ]
    }
   ],
   "metadata": {}
  },
  {
   "cell_type": "code",
   "execution_count": 129,
   "source": [
    "y_preds_1 = likelihood(model(torch.Tensor([[2.9, 9.04]])))\n",
    "with torch.no_grad():\n",
    "    y_preds_mean_1 = y_preds_1.mean.numpy()\n",
    "print(y_preds_mean_1)"
   ],
   "outputs": [
    {
     "output_type": "stream",
     "name": "stdout",
     "text": [
      "[2.4651012]\n"
     ]
    },
    {
     "output_type": "stream",
     "name": "stderr",
     "text": [
      "/Users/valenetjong/opt/anaconda3/envs/FEGP/lib/python3.9/site-packages/gpytorch/likelihoods/gaussian_likelihood.py:270: GPInputWarning:\n",
      "\n",
      "You have passed data through a FixedNoiseGaussianLikelihood that did not match the size of the fixed noise, *and* you did not specify noise. This is treated as a no-op.\n",
      "\n"
     ]
    }
   ],
   "metadata": {}
  },
  {
   "cell_type": "markdown",
   "source": [
    "### Post-processing\n",
    "- Energy density, pulse width --> voltage function"
   ],
   "metadata": {}
  },
  {
   "cell_type": "code",
   "execution_count": 130,
   "source": [
    "dir = \"/Users/valenetjong/Bayesian-Optimization-Ferroelectrics/data/\"\n",
    "in_file = \"MKS_Ophir_joulemeter_readings.xlsx\"\n",
    "df = pd.read_excel(dir + in_file, sheet_name=\"Sheet2\")\n",
    "df = df.dropna() # Drop rows with NaN values\n",
    "print(df)"
   ],
   "outputs": [
    {
     "output_type": "stream",
     "name": "stdout",
     "text": [
      "     Voltage Setting  Pulse width  optical read (J/cm^2)\n",
      "0             2200.0        500.0                   1.92\n",
      "1             2200.0       1000.0                   3.79\n",
      "2             2200.0       1500.0                   5.36\n",
      "3             2200.0       2000.0                   6.65\n",
      "4             2200.0       2500.0                   7.73\n",
      "..               ...          ...                    ...\n",
      "107           1950.0       3000.0                   6.78\n",
      "108           1950.0       3500.0                   7.36\n",
      "109           1950.0       4000.0                   7.94\n",
      "110           1950.0       4500.0                   8.39\n",
      "111           1950.0       5000.0                   8.80\n",
      "\n",
      "[92 rows x 3 columns]\n"
     ]
    }
   ],
   "metadata": {}
  },
  {
   "cell_type": "markdown",
   "source": [
    "#### Method 1: Curve_fit with polynomial deg=2 fit"
   ],
   "metadata": {}
  },
  {
   "cell_type": "code",
   "execution_count": 148,
   "source": [
    "dir = \"/Users/valenetjong/Bayesian-Optimization-Ferroelectrics/data/\"\n",
    "file = \"MKS_Ophir_joulemeter_readings.xlsx\"\n",
    "df = pd.read_excel(dir+file, sheet_name=\"Sheet2\").dropna() # read and drop NaN values\n",
    "print(df)\n",
    "time_bol_dat = df['Pulse width'].values\n",
    "energy_den_bol_dat = df['optical read (J/cm^2)'].values\n",
    "volts_bol_dat = df['Voltage Setting'].values"
   ],
   "outputs": [
    {
     "output_type": "stream",
     "name": "stdout",
     "text": [
      "     Voltage Setting  Pulse width  optical read (J/cm^2)\n",
      "0             2200.0        500.0                   1.92\n",
      "1             2200.0       1000.0                   3.79\n",
      "2             2200.0       1500.0                   5.36\n",
      "3             2200.0       2000.0                   6.65\n",
      "4             2200.0       2500.0                   7.73\n",
      "..               ...          ...                    ...\n",
      "107           1950.0       3000.0                   6.78\n",
      "108           1950.0       3500.0                   7.36\n",
      "109           1950.0       4000.0                   7.94\n",
      "110           1950.0       4500.0                   8.39\n",
      "111           1950.0       5000.0                   8.80\n",
      "\n",
      "[92 rows x 3 columns]\n"
     ]
    }
   ],
   "metadata": {}
  },
  {
   "cell_type": "code",
   "execution_count": 165,
   "source": [
    "from scipy.optimize import curve_fit\n",
    "\n",
    "def zfit(xy, a, b, c, d, e):\n",
    "    \"\"\"\n",
    "    [zfit(xy, a, b, c, d, e)] takes in a tuple of inputs [xy] and returns second\n",
    "    degree polynomial fit.\n",
    "    \"\"\"\n",
    "    x, y = xy\n",
    "    return a * x + b * x**2 + c * y + d * y**2 + e\n",
    "\n",
    "# perform fit (time, energy density)--> voltage\n",
    "coeffs, cov_mat = curve_fit(zfit, (time_bol_dat, energy_den_bol_dat), volts_bol_dat)\n",
    "a, b, c, d, e = coeffs\n",
    "print(\"a:\", a, \"\\nb:\", b, \"\\nc:\", c, \"\\nd:\", d, \"\\ne:\", e)\n",
    "\n",
    "# voltage of suggested points\n",
    "print(\"point 1:\", round(zfit((1170, 8.85), a, b, c, d, e), -2))  #ucb\n",
    "print(\"point 2:\", round(zfit((2900, 9.04), a, b, c, d, e), -2))  # nlcb julia et al code "
   ],
   "outputs": [
    {
     "output_type": "stream",
     "name": "stdout",
     "text": [
      "a: -0.6574629571668207 \n",
      "b: 7.06811282062559e-05 \n",
      "c: 180.20056414658865 \n",
      "d: -3.586923255037011 \n",
      "e: 2215.088534750962\n",
      "point 1: 2900.0\n",
      "point 2: 2200.0\n"
     ]
    }
   ],
   "metadata": {}
  },
  {
   "cell_type": "markdown",
   "source": [
    "#### Method 2: GP fit"
   ],
   "metadata": {}
  },
  {
   "cell_type": "code",
   "execution_count": 135,
   "source": [
    "import GPy\n",
    "from emukit.core import ParameterSpace, ContinuousParameter"
   ],
   "outputs": [],
   "metadata": {}
  },
  {
   "cell_type": "code",
   "execution_count": 150,
   "source": [
    "def grid_maker_1D(arr, step_size):\n",
    "    return np.arange(arr.min(), arr.max()+step_size*0.1,step_size)\n",
    "\n",
    "# make GP grid\n",
    "# 500us is min scale for time, 0.01 is min delta energy density\n",
    "var_array = [grid_maker_1D(time_bol_dat, 500), grid_maker_1D(energy_den_bol_dat, 0.01)]"
   ],
   "outputs": [],
   "metadata": {}
  },
  {
   "cell_type": "code",
   "execution_count": 136,
   "source": [
    "def x_normalizer(X, var_array = var_array):\n",
    "    def max_min_scaler(x, x_max, x_min):\n",
    "        return (x-x_min)/(x_max-x_min)\n",
    "    x_norm = []\n",
    "    for x in (X):\n",
    "           x_norm.append([max_min_scaler(x[i], \n",
    "                         max(var_array[i]), \n",
    "                         min(var_array[i])) for i in range(len(x))])\n",
    "    return np.array(x_norm)\n",
    "\n",
    "def x_denormalizer(x_norm, var_array = var_array):\n",
    "    \n",
    "    def max_min_rescaler(x, x_max, x_min):\n",
    "        return x*(x_max-x_min)+x_min\n",
    "    x_original = []\n",
    "    for x in (x_norm):\n",
    "           x_original.append([max_min_rescaler(x[i], \n",
    "                              max(var_array[i]), \n",
    "                              min(var_array[i])) for i in range(len(x))])\n",
    "\n",
    "    return np.array(x_original)\n",
    "\n",
    "\n",
    "def get_closest_array(suggested_x):\n",
    "\n",
    "    def get_closest_value(given_value, array_list):\n",
    "        absolute_difference_function = lambda list_value : abs(list_value - given_value)\n",
    "        closest_value = min(array_list, key=absolute_difference_function)\n",
    "        return closest_value\n",
    "    \n",
    "    var_list = var_array\n",
    "    modified_array = []\n",
    "    for x in suggested_x:\n",
    "        modified_array.append([get_closest_value(x[i], var_list[i]) for i in range(len(x))])\n",
    "    return np.array(modified_array)"
   ],
   "outputs": [],
   "metadata": {}
  },
  {
   "cell_type": "code",
   "execution_count": 152,
   "source": [
    "# continuous parameter creates a grid space for grid search\n",
    "time_len_num, e_den_num = len(var_array[0]), len(var_array[1])\n",
    "parameter_space = ParameterSpace([ContinuousParameter(\"Time (ms)\", 0-1/(time_len_num-1)/2, 1+1/(time_len_num-1)/2),\n",
    "                                  ContinuousParameter(\"Energy density new cone (J/cm^2)\", 0-1/(e_den_num-1)/2, 1+1/(e_den_num-1)/2),\n",
    "                                 ])"
   ],
   "outputs": [],
   "metadata": {}
  },
  {
   "cell_type": "code",
   "execution_count": 153,
   "source": [
    "from GPy.models import GPRegression\n",
    "from emukit.model_wrappers import GPyModelWrapper\n",
    "from torch.optim import Adam as Adam\n",
    "\n",
    "x_exp = x_normalizer(np.stack((time_bol_dat, energy_den_bol_dat), axis=1))\n",
    "y_exp = np.reshape(volts_bol_dat, (-1, 1))\n",
    "X, Y = [x_exp, y_exp]\n",
    "\n",
    "input_dim = len(X[0])\n",
    "ker = GPy.kern.Matern52(input_dim = input_dim, ARD =True)#\n",
    "ker.lengthscale.constrain_bounded(1e-2, 1)\n",
    "ker.variance.constrain_bounded(1e-2, 1000.0)\n",
    "model_gpy = GPRegression(X , -Y, ker) # emukit is a minimization tool; need to make Y negative\n",
    "model_gpy.Gaussian_noise.variance = 0.15\n",
    "model_gpy.Gaussian_noise.variance.fix()\n",
    "\n",
    "# Randomize model's hyperparameters\n",
    "model_gpy.randomize() \n",
    "print(ker.lengthscale)\n",
    "print(ker.variance)"
   ],
   "outputs": [
    {
     "output_type": "stream",
     "name": "stderr",
     "text": [
      "reconstraining parameters Mat52.lengthscale\n",
      "reconstraining parameters Mat52.variance\n"
     ]
    },
    {
     "output_type": "stream",
     "name": "stdout",
     "text": [
      "  \u001b[1mindex\u001b[0;0m  |  GP_regression.Mat52.lengthscale  |  constraints  |  priors\n",
      "  \u001b[1m[0]  \u001b[0;0m  |                       0.50417035  |   0.01,1.0    |        \n",
      "  \u001b[1m[1]  \u001b[0;0m  |                       0.72395880  |   0.01,1.0    |        \n",
      "  \u001b[1mindex\u001b[0;0m  |  GP_regression.Mat52.variance  |  constraints  |  priors\n",
      "  \u001b[1m[0]  \u001b[0;0m  |                  149.35469081  |  0.01,1000.0  |        \n"
     ]
    }
   ],
   "metadata": {}
  },
  {
   "cell_type": "code",
   "execution_count": 154,
   "source": [
    "model_gpy.optimize_restarts(num_restarts=30, verbose =False, messages=False) # fit to training data, select best hyperparameters out of num_restarts \n",
    "objective_model = GPyModelWrapper(model_gpy)\n",
    "print(objective_model.model.kern.lengthscale)\n",
    "print(objective_model.model.kern.variance)"
   ],
   "outputs": [
    {
     "output_type": "stream",
     "name": "stdout",
     "text": [
      "  \u001b[1mindex\u001b[0;0m  |  GP_regression.Mat52.lengthscale  |  constraints  |  priors\n",
      "  \u001b[1m[0]  \u001b[0;0m  |                       0.32563485  |   0.01,1.0    |        \n",
      "  \u001b[1m[1]  \u001b[0;0m  |                       0.28511522  |   0.01,1.0    |        \n",
      "  \u001b[1mindex\u001b[0;0m  |  GP_regression.Mat52.variance  |  constraints  |  priors\n",
      "  \u001b[1m[0]  \u001b[0;0m  |                  999.99999725  |  0.01,1000.0  |        \n"
     ]
    }
   ],
   "metadata": {}
  },
  {
   "cell_type": "code",
   "execution_count": 155,
   "source": [
    "# get GP predictions on training set\n",
    "f_obj =  objective_model.model.predict\n",
    "y_pred, y_uncer = f_obj(X)\n",
    "y_pred = -y_pred[:,-1]  # get back non-neg outputs and get array out of embedding\n",
    "y_uncer = np.sqrt(y_uncer[:,-1])\n",
    "\n",
    "from sklearn.metrics import mean_squared_error, mean_absolute_error,r2_score\n",
    "from scipy.stats import spearmanr\n",
    "import matplotlib.pyplot as plt \n",
    "\n",
    "# plot predictions against experimental data\n",
    "fig, axes = plt.subplots(1, 3, figsize=(5.5*3, 4.5))\n",
    "fs = 14\n",
    "lims1 = (0, 5)\n",
    "axes[0].scatter(Y[:,-1], y_pred, alpha = 0.5, c = 'navy' , edgecolor = 'navy')\n",
    "axes[0].errorbar(Y[:,-1], y_pred, yerr = y_uncer, ms = 0, \n",
    "                 ls = '', capsize = 2, alpha = 0.6,\n",
    "                 color = 'gray', zorder = 0)\n",
    "axes[0].plot(lims1, lims1, 'k--', alpha=0.75, zorder=0)\n",
    "rmse_value = np.sqrt(mean_squared_error(Y[:,-1], y_pred))\n",
    "mae_value = mean_absolute_error(Y[:,-1], y_pred)\n",
    "spearman_value = spearmanr(Y[:,-1], y_pred)[0]\n",
    "rsquared_value = r2_score(Y[:,-1], y_pred)\n",
    "\n",
    "print('MAE:',np.round(mae_value,2), ' ',\n",
    "      'RMSE:', np.round(rmse_value,2), ' ',\n",
    "      'spearman:', np.round(spearman_value,3), ' ',\n",
    "      'R² score:', np.round(rsquared_value,3))\n",
    "\n",
    "title = 'GPR' + \" (MAE=%.2f\" % mae_value+' [%])'\n",
    "axes[0].set_xlabel('Voltage', fontsize = fs)\n",
    "axes[0].set_ylabel('Voltage', fontsize = fs)\n",
    "axes[0].set_title(title, fontsize = fs)\n",
    "        \n",
    "for i in range(len(axes)):\n",
    "    axes[i].tick_params(direction='in', length=5, width=1, labelsize = fs*.8, grid_alpha = 0.5)\n",
    "    axes[i].grid(True, linestyle='-.')\n",
    "plt.subplots_adjust(wspace = 0.4)\n",
    "\n",
    "axes[1].axis(\"off\")\n",
    "axes[2].axis(\"off\")\n",
    "\n",
    "plt.show()"
   ],
   "outputs": [
    {
     "output_type": "stream",
     "name": "stdout",
     "text": [
      "MAE: 3.84   RMSE: 8.63   spearman: 0.992   R² score: 0.999\n"
     ]
    },
    {
     "output_type": "display_data",
     "data": {
      "image/png": "[encoded data removed]",
      "text/plain": [
       "<Figure size 3300x900 with 3 Axes>"
      ]
     },
     "metadata": {}
    }
   ],
   "metadata": {}
  },
  {
   "cell_type": "code",
   "execution_count": 156,
   "source": [
    "print(X.shape)"
   ],
   "outputs": [
    {
     "output_type": "stream",
     "name": "stdout",
     "text": [
      "(92, 2)\n"
     ]
    }
   ],
   "metadata": {}
  },
  {
   "cell_type": "code",
   "execution_count": 157,
   "source": [
    "print(f_obj(x_normalizer(np.array([2900, 9.04]).reshape(1,2)))[0].item()*-1)"
   ],
   "outputs": [
    {
     "output_type": "stream",
     "name": "stdout",
     "text": [
      "2264.543798112333\n"
     ]
    }
   ],
   "metadata": {}
  },
  {
   "cell_type": "markdown",
   "source": [
    "#### Plot GP Function, Scipy Optimize Function, against Raw Data"
   ],
   "metadata": {}
  },
  {
   "cell_type": "code",
   "execution_count": 143,
   "source": [
    "import plotly.graph_objects as go\n",
    "import matplotlib.pyplot as plt\n",
    "import matplotlib as mpl\n",
    "\n",
    "# plt.style.use('seaborn')\n",
    "# mpl.rcParams['lines.linewidth'] = 1.5\n",
    "# plt.rcParams['figure.dpi'] = 200\n",
    "fig = go.Figure(data=[go.Surface(z=df.values, \n",
    "                                    x=time_bol_dat,\n",
    "                                    y=energy_den_bol_dat,\n",
    "                                    name='GP regression')])\n",
    "# fig.add_trace(go.Scatter3d(x=train_x[:,0].numpy(),\n",
    "#                               y=train_x[:,1]s.numpy(),\n",
    "#                             z=train_y.numpy(), mode='markers', \n",
    "#                             marker={'color':'darkgreen'}, name='training data'))\n",
    "fig.update_layout( width=1000, height=800,\n",
    "                    legend=dict(orientation=\"h\", yanchor=\"top\", y=1.02, \n",
    "                    xanchor=\"left\",x=1), margin=dict(r=20, l=10, b=10, t=10), \n",
    "                        scene=dict(\n",
    "                        xaxis_title=\"Pulse width (μs)\",\n",
    "                        yaxis_title=\"Energy density new cone (J/cm^2)\",\n",
    "                        zaxis_title='Voltage')\n",
    "                    )\n",
    "camera = dict(\n",
    "        up=dict(x=0, y=0, z=1),\n",
    "        center=dict(x=0, y=0, z=0),\n",
    "        eye=dict(x=-2, y=-2.5, z=1.75)\n",
    ")\n",
    "fig.update_layout(scene_camera=camera)\n",
    "fig.show()"
   ],
   "outputs": [
    {
     "output_type": "display_data",
     "data": {
      "application/vnd.plotly.v1+json": {
       "data": [
        {
         "name": "GP regression",
         "x": [
          500,
          1000,
          1500,
          2000,
          2500,
          3000,
          3500,
          4000,
          4500,
          5000,
          500,
          1000,
          1500,
          2000,
          2500,
          3000,
          3500,
          4000,
          4500,
          5000,
          500,
          1000,
          1500,
          2000,
          2500,
          3000,
          3500,
          4000,
          4500,
          5000,
          500,
          1000,
          1500,
          2000,
          2500,
          3000,
          3500,
          4000,
          4500,
          5000,
          500,
          1000,
          1500,
          2000,
          2500,
          3000,
          3500,
          4000,
          4500,
          5000,
          500,
          1000,
          1500,
          2000,
          2500,
          3000,
          3500,
          4000,
          4500,
          5000,
          500,
          1000,
          1500,
          2000,
          2500,
          3000,
          3500,
          4000,
          4500,
          5000,
          1000,
          5000,
          500,
          1000,
          1500,
          2000,
          2500,
          3000,
          3500,
          4000,
          4500,
          5000,
          500,
          1000,
          1500,
          2000,
          2500,
          3000,
          3500,
          4000,
          4500,
          5000
         ],
         "y": [
          1.92,
          3.79,
          5.36,
          6.65,
          7.73,
          8.59,
          9.36,
          9.99,
          10.53,
          11.02,
          2.14,
          4.26,
          6.01,
          7.43,
          8.63,
          9.58,
          10.41,
          11.08,
          11.65,
          12.18,
          2.46,
          4.79,
          6.72,
          8.28,
          9.59,
          10.66,
          11.49,
          12.21,
          12.85,
          13.4,
          2.73,
          5.38,
          7.48,
          9.18,
          10.53,
          11.71,
          12.66,
          13.35,
          14.11,
          14.67,
          3.04,
          5.99,
          8.29,
          10.1,
          11.62,
          12.83,
          13.83,
          14.7,
          15.45,
          15.98,
          3.4,
          6.44,
          8.99,
          11.01,
          12.57,
          13.97,
          15.03,
          15.99,
          16.74,
          17.38,
          3.7,
          7.22,
          9.91,
          12.08,
          13.89,
          15.29,
          16.48,
          17.44,
          18.24,
          18.93,
          10.27,
          21.81,
          1.49,
          2.89,
          4.12,
          5.18,
          6.07,
          6.78,
          7.36,
          7.94,
          8.39,
          8.8,
          1.37,
          2.7,
          3.84,
          4.83,
          5.66,
          6.78,
          7.36,
          7.94,
          8.39,
          8.8
         ],
         "z": [
          [
           2200,
           500,
           1.92
          ],
          [
           2200,
           1000,
           3.79
          ],
          [
           2200,
           1500,
           5.36
          ],
          [
           2200,
           2000,
           6.65
          ],
          [
           2200,
           2500,
           7.73
          ],
          [
           2200,
           3000,
           8.59
          ],
          [
           2200,
           3500,
           9.36
          ],
          [
           2200,
           4000,
           9.99
          ],
          [
           2200,
           4500,
           10.53
          ],
          [
           2200,
           5000,
           11.02
          ],
          [
           2300,
           500,
           2.14
          ],
          [
           2300,
           1000,
           4.26
          ],
          [
           2300,
           1500,
           6.01
          ],
          [
           2300,
           2000,
           7.43
          ],
          [
           2300,
           2500,
           8.63
          ],
          [
           2300,
           3000,
           9.58
          ],
          [
           2300,
           3500,
           10.41
          ],
          [
           2300,
           4000,
           11.08
          ],
          [
           2300,
           4500,
           11.65
          ],
          [
           2300,
           5000,
           12.18
          ],
          [
           2400,
           500,
           2.46
          ],
          [
           2400,
           1000,
           4.79
          ],
          [
           2400,
           1500,
           6.72
          ],
          [
           2400,
           2000,
           8.28
          ],
          [
           2400,
           2500,
           9.59
          ],
          [
           2400,
           3000,
           10.66
          ],
          [
           2400,
           3500,
           11.49
          ],
          [
           2400,
           4000,
           12.21
          ],
          [
           2400,
           4500,
           12.85
          ],
          [
           2400,
           5000,
           13.4
          ],
          [
           2500,
           500,
           2.73
          ],
          [
           2500,
           1000,
           5.38
          ],
          [
           2500,
           1500,
           7.48
          ],
          [
           2500,
           2000,
           9.18
          ],
          [
           2500,
           2500,
           10.53
          ],
          [
           2500,
           3000,
           11.71
          ],
          [
           2500,
           3500,
           12.66
          ],
          [
           2500,
           4000,
           13.35
          ],
          [
           2500,
           4500,
           14.11
          ],
          [
           2500,
           5000,
           14.67
          ],
          [
           2600,
           500,
           3.04
          ],
          [
           2600,
           1000,
           5.99
          ],
          [
           2600,
           1500,
           8.29
          ],
          [
           2600,
           2000,
           10.1
          ],
          [
           2600,
           2500,
           11.62
          ],
          [
           2600,
           3000,
           12.83
          ],
          [
           2600,
           3500,
           13.83
          ],
          [
           2600,
           4000,
           14.7
          ],
          [
           2600,
           4500,
           15.45
          ],
          [
           2600,
           5000,
           15.98
          ],
          [
           2700,
           500,
           3.4
          ],
          [
           2700,
           1000,
           6.44
          ],
          [
           2700,
           1500,
           8.99
          ],
          [
           2700,
           2000,
           11.01
          ],
          [
           2700,
           2500,
           12.57
          ],
          [
           2700,
           3000,
           13.97
          ],
          [
           2700,
           3500,
           15.03
          ],
          [
           2700,
           4000,
           15.99
          ],
          [
           2700,
           4500,
           16.74
          ],
          [
           2700,
           5000,
           17.38
          ],
          [
           2800,
           500,
           3.7
          ],
          [
           2800,
           1000,
           7.22
          ],
          [
           2800,
           1500,
           9.91
          ],
          [
           2800,
           2000,
           12.08
          ],
          [
           2800,
           2500,
           13.89
          ],
          [
           2800,
           3000,
           15.29
          ],
          [
           2800,
           3500,
           16.48
          ],
          [
           2800,
           4000,
           17.44
          ],
          [
           2800,
           4500,
           18.24
          ],
          [
           2800,
           5000,
           18.93
          ],
          [
           3000,
           1000,
           10.27
          ],
          [
           3000,
           5000,
           21.81
          ],
          [
           2000,
           500,
           1.49
          ],
          [
           2000,
           1000,
           2.89
          ],
          [
           2000,
           1500,
           4.12
          ],
          [
           2000,
           2000,
           5.18
          ],
          [
           2000,
           2500,
           6.07
          ],
          [
           2000,
           3000,
           6.78
          ],
          [
           2000,
           3500,
           7.36
          ],
          [
           2000,
           4000,
           7.94
          ],
          [
           2000,
           4500,
           8.39
          ],
          [
           2000,
           5000,
           8.8
          ],
          [
           1950,
           500,
           1.37
          ],
          [
           1950,
           1000,
           2.7
          ],
          [
           1950,
           1500,
           3.84
          ],
          [
           1950,
           2000,
           4.83
          ],
          [
           1950,
           2500,
           5.66
          ],
          [
           1950,
           3000,
           6.78
          ],
          [
           1950,
           3500,
           7.36
          ],
          [
           1950,
           4000,
           7.94
          ],
          [
           1950,
           4500,
           8.39
          ],
          [
           1950,
           5000,
           8.8
          ]
         ],
         "type": "surface"
        }
       ],
       "layout": {
        "template": {
         "data": {
          "histogram2dcontour": [
           {
            "type": "histogram2dcontour",
            "colorbar": {
             "outlinewidth": 0,
             "ticks": ""
            },
            "colorscale": [
             [
              0,
              "#0d0887"
             ],
             [
              0.1111111111111111,
              "#46039f"
             ],
             [
              0.2222222222222222,
              "#7201a8"
             ],
             [
              0.3333333333333333,
              "#9c179e"
             ],
             [
              0.4444444444444444,
              "#bd3786"
             ],
             [
              0.5555555555555556,
              "#d8576b"
             ],
             [
              0.6666666666666666,
              "#ed7953"
             ],
             [
              0.7777777777777778,
              "#fb9f3a"
             ],
             [
              0.8888888888888888,
              "#fdca26"
             ],
             [
              1,
              "#f0f921"
             ]
            ]
           }
          ],
          "choropleth": [
           {
            "type": "choropleth",
            "colorbar": {
             "outlinewidth": 0,
             "ticks": ""
            }
           }
          ],
          "histogram2d": [
           {
            "type": "histogram2d",
            "colorbar": {
             "outlinewidth": 0,
             "ticks": ""
            },
            "colorscale": [
             [
              0,
              "#0d0887"
             ],
             [
              0.1111111111111111,
              "#46039f"
             ],
             [
              0.2222222222222222,
              "#7201a8"
             ],
             [
              0.3333333333333333,
              "#9c179e"
             ],
             [
              0.4444444444444444,
              "#bd3786"
             ],
             [
              0.5555555555555556,
              "#d8576b"
             ],
             [
              0.6666666666666666,
              "#ed7953"
             ],
             [
              0.7777777777777778,
              "#fb9f3a"
             ],
             [
              0.8888888888888888,
              "#fdca26"
             ],
             [
              1,
              "#f0f921"
             ]
            ]
           }
          ],
          "heatmap": [
           {
            "type": "heatmap",
            "colorbar": {
             "outlinewidth": 0,
             "ticks": ""
            },
            "colorscale": [
             [
              0,
              "#0d0887"
             ],
             [
              0.1111111111111111,
              "#46039f"
             ],
             [
              0.2222222222222222,
              "#7201a8"
             ],
             [
              0.3333333333333333,
              "#9c179e"
             ],
             [
              0.4444444444444444,
              "#bd3786"
             ],
             [
              0.5555555555555556,
              "#d8576b"
             ],
             [
              0.6666666666666666,
              "#ed7953"
             ],
             [
              0.7777777777777778,
              "#fb9f3a"
             ],
             [
              0.8888888888888888,
              "#fdca26"
             ],
             [
              1,
              "#f0f921"
             ]
            ]
           }
          ],
          "heatmapgl": [
           {
            "type": "heatmapgl",
            "colorbar": {
             "outlinewidth": 0,
             "ticks": ""
            },
            "colorscale": [
             [
              0,
              "#0d0887"
             ],
             [
              0.1111111111111111,
              "#46039f"
             ],
             [
              0.2222222222222222,
              "#7201a8"
             ],
             [
              0.3333333333333333,
              "#9c179e"
             ],
             [
              0.4444444444444444,
              "#bd3786"
             ],
             [
              0.5555555555555556,
              "#d8576b"
             ],
             [
              0.6666666666666666,
              "#ed7953"
             ],
             [
              0.7777777777777778,
              "#fb9f3a"
             ],
             [
              0.8888888888888888,
              "#fdca26"
             ],
             [
              1,
              "#f0f921"
             ]
            ]
           }
          ],
          "contourcarpet": [
           {
            "type": "contourcarpet",
            "colorbar": {
             "outlinewidth": 0,
             "ticks": ""
            }
           }
          ],
          "contour": [
           {
            "type": "contour",
            "colorbar": {
             "outlinewidth": 0,
             "ticks": ""
            },
            "colorscale": [
             [
              0,
              "#0d0887"
             ],
             [
              0.1111111111111111,
              "#46039f"
             ],
             [
              0.2222222222222222,
              "#7201a8"
             ],
             [
              0.3333333333333333,
              "#9c179e"
             ],
             [
              0.4444444444444444,
              "#bd3786"
             ],
             [
              0.5555555555555556,
              "#d8576b"
             ],
             [
              0.6666666666666666,
              "#ed7953"
             ],
             [
              0.7777777777777778,
              "#fb9f3a"
             ],
             [
              0.8888888888888888,
              "#fdca26"
             ],
             [
              1,
              "#f0f921"
             ]
            ]
           }
          ],
          "surface": [
           {
            "type": "surface",
            "colorbar": {
             "outlinewidth": 0,
             "ticks": ""
            },
            "colorscale": [
             [
              0,
              "#0d0887"
             ],
             [
              0.1111111111111111,
              "#46039f"
             ],
             [
              0.2222222222222222,
              "#7201a8"
             ],
             [
              0.3333333333333333,
              "#9c179e"
             ],
             [
              0.4444444444444444,
              "#bd3786"
             ],
             [
              0.5555555555555556,
              "#d8576b"
             ],
             [
              0.6666666666666666,
              "#ed7953"
             ],
             [
              0.7777777777777778,
              "#fb9f3a"
             ],
             [
              0.8888888888888888,
              "#fdca26"
             ],
             [
              1,
              "#f0f921"
             ]
            ]
           }
          ],
          "mesh3d": [
           {
            "type": "mesh3d",
            "colorbar": {
             "outlinewidth": 0,
             "ticks": ""
            }
           }
          ],
          "scatter": [
           {
            "fillpattern": {
             "fillmode": "overlay",
             "size": 10,
             "solidity": 0.2
            },
            "type": "scatter"
           }
          ],
          "parcoords": [
           {
            "type": "parcoords",
            "line": {
             "colorbar": {
              "outlinewidth": 0,
              "ticks": ""
             }
            }
           }
          ],
          "scatterpolargl": [
           {
            "type": "scatterpolargl",
            "marker": {
             "colorbar": {
              "outlinewidth": 0,
              "ticks": ""
             }
            }
           }
          ],
          "bar": [
           {
            "error_x": {
             "color": "#2a3f5f"
            },
            "error_y": {
             "color": "#2a3f5f"
            },
            "marker": {
             "line": {
              "color": "#E5ECF6",
              "width": 0.5
             },
             "pattern": {
              "fillmode": "overlay",
              "size": 10,
              "solidity": 0.2
             }
            },
            "type": "bar"
           }
          ],
          "scattergeo": [
           {
            "type": "scattergeo",
            "marker": {
             "colorbar": {
              "outlinewidth": 0,
              "ticks": ""
             }
            }
           }
          ],
          "scatterpolar": [
           {
            "type": "scatterpolar",
            "marker": {
             "colorbar": {
              "outlinewidth": 0,
              "ticks": ""
             }
            }
           }
          ],
          "histogram": [
           {
            "marker": {
             "pattern": {
              "fillmode": "overlay",
              "size": 10,
              "solidity": 0.2
             }
            },
            "type": "histogram"
           }
          ],
          "scattergl": [
           {
            "type": "scattergl",
            "marker": {
             "colorbar": {
              "outlinewidth": 0,
              "ticks": ""
             }
            }
           }
          ],
          "scatter3d": [
           {
            "type": "scatter3d",
            "line": {
             "colorbar": {
              "outlinewidth": 0,
              "ticks": ""
             }
            },
            "marker": {
             "colorbar": {
              "outlinewidth": 0,
              "ticks": ""
             }
            }
           }
          ],
          "scattermapbox": [
           {
            "type": "scattermapbox",
            "marker": {
             "colorbar": {
              "outlinewidth": 0,
              "ticks": ""
             }
            }
           }
          ],
          "scatterternary": [
           {
            "type": "scatterternary",
            "marker": {
             "colorbar": {
              "outlinewidth": 0,
              "ticks": ""
             }
            }
           }
          ],
          "scattercarpet": [
           {
            "type": "scattercarpet",
            "marker": {
             "colorbar": {
              "outlinewidth": 0,
              "ticks": ""
             }
            }
           }
          ],
          "carpet": [
           {
            "aaxis": {
             "endlinecolor": "#2a3f5f",
             "gridcolor": "white",
             "linecolor": "white",
             "minorgridcolor": "white",
             "startlinecolor": "#2a3f5f"
            },
            "baxis": {
             "endlinecolor": "#2a3f5f",
             "gridcolor": "white",
             "linecolor": "white",
             "minorgridcolor": "white",
             "startlinecolor": "#2a3f5f"
            },
            "type": "carpet"
           }
          ],
          "table": [
           {
            "cells": {
             "fill": {
              "color": "#EBF0F8"
             },
             "line": {
              "color": "white"
             }
            },
            "header": {
             "fill": {
              "color": "#C8D4E3"
             },
             "line": {
              "color": "white"
             }
            },
            "type": "table"
           }
          ],
          "barpolar": [
           {
            "marker": {
             "line": {
              "color": "#E5ECF6",
              "width": 0.5
             },
             "pattern": {
              "fillmode": "overlay",
              "size": 10,
              "solidity": 0.2
             }
            },
            "type": "barpolar"
           }
          ],
          "pie": [
           {
            "automargin": true,
            "type": "pie"
           }
          ]
         },
         "layout": {
          "autotypenumbers": "strict",
          "colorway": [
           "#636efa",
           "#EF553B",
           "#00cc96",
           "#ab63fa",
           "#FFA15A",
           "#19d3f3",
           "#FF6692",
           "#B6E880",
           "#FF97FF",
           "#FECB52"
          ],
          "font": {
           "color": "#2a3f5f"
          },
          "hovermode": "closest",
          "hoverlabel": {
           "align": "left"
          },
          "paper_bgcolor": "white",
          "plot_bgcolor": "#E5ECF6",
          "polar": {
           "bgcolor": "#E5ECF6",
           "angularaxis": {
            "gridcolor": "white",
            "linecolor": "white",
            "ticks": ""
           },
           "radialaxis": {
            "gridcolor": "white",
            "linecolor": "white",
            "ticks": ""
           }
          },
          "ternary": {
           "bgcolor": "#E5ECF6",
           "aaxis": {
            "gridcolor": "white",
            "linecolor": "white",
            "ticks": ""
           },
           "baxis": {
            "gridcolor": "white",
            "linecolor": "white",
            "ticks": ""
           },
           "caxis": {
            "gridcolor": "white",
            "linecolor": "white",
            "ticks": ""
           }
          },
          "coloraxis": {
           "colorbar": {
            "outlinewidth": 0,
            "ticks": ""
           }
          },
          "colorscale": {
           "sequential": [
            [
             0,
             "#0d0887"
            ],
            [
             0.1111111111111111,
             "#46039f"
            ],
            [
             0.2222222222222222,
             "#7201a8"
            ],
            [
             0.3333333333333333,
             "#9c179e"
            ],
            [
             0.4444444444444444,
             "#bd3786"
            ],
            [
             0.5555555555555556,
             "#d8576b"
            ],
            [
             0.6666666666666666,
             "#ed7953"
            ],
            [
             0.7777777777777778,
             "#fb9f3a"
            ],
            [
             0.8888888888888888,
             "#fdca26"
            ],
            [
             1,
             "#f0f921"
            ]
           ],
           "sequentialminus": [
            [
             0,
             "#0d0887"
            ],
            [
             0.1111111111111111,
             "#46039f"
            ],
            [
             0.2222222222222222,
             "#7201a8"
            ],
            [
             0.3333333333333333,
             "#9c179e"
            ],
            [
             0.4444444444444444,
             "#bd3786"
            ],
            [
             0.5555555555555556,
             "#d8576b"
            ],
            [
             0.6666666666666666,
             "#ed7953"
            ],
            [
             0.7777777777777778,
             "#fb9f3a"
            ],
            [
             0.8888888888888888,
             "#fdca26"
            ],
            [
             1,
             "#f0f921"
            ]
           ],
           "diverging": [
            [
             0,
             "#8e0152"
            ],
            [
             0.1,
             "#c51b7d"
            ],
            [
             0.2,
             "#de77ae"
            ],
            [
             0.3,
             "#f1b6da"
            ],
            [
             0.4,
             "#fde0ef"
            ],
            [
             0.5,
             "#f7f7f7"
            ],
            [
             0.6,
             "#e6f5d0"
            ],
            [
             0.7,
             "#b8e186"
            ],
            [
             0.8,
             "#7fbc41"
            ],
            [
             0.9,
             "#4d9221"
            ],
            [
             1,
             "#276419"
            ]
           ]
          },
          "xaxis": {
           "gridcolor": "white",
           "linecolor": "white",
           "ticks": "",
           "title": {
            "standoff": 15
           },
           "zerolinecolor": "white",
           "automargin": true,
           "zerolinewidth": 2
          },
          "yaxis": {
           "gridcolor": "white",
           "linecolor": "white",
           "ticks": "",
           "title": {
            "standoff": 15
           },
           "zerolinecolor": "white",
           "automargin": true,
           "zerolinewidth": 2
          },
          "scene": {
           "xaxis": {
            "backgroundcolor": "#E5ECF6",
            "gridcolor": "white",
            "linecolor": "white",
            "showbackground": true,
            "ticks": "",
            "zerolinecolor": "white",
            "gridwidth": 2
           },
           "yaxis": {
            "backgroundcolor": "#E5ECF6",
            "gridcolor": "white",
            "linecolor": "white",
            "showbackground": true,
            "ticks": "",
            "zerolinecolor": "white",
            "gridwidth": 2
           },
           "zaxis": {
            "backgroundcolor": "#E5ECF6",
            "gridcolor": "white",
            "linecolor": "white",
            "showbackground": true,
            "ticks": "",
            "zerolinecolor": "white",
            "gridwidth": 2
           }
          },
          "shapedefaults": {
           "line": {
            "color": "#2a3f5f"
           }
          },
          "annotationdefaults": {
           "arrowcolor": "#2a3f5f",
           "arrowhead": 0,
           "arrowwidth": 1
          },
          "geo": {
           "bgcolor": "white",
           "landcolor": "#E5ECF6",
           "subunitcolor": "white",
           "showland": true,
           "showlakes": true,
           "lakecolor": "white"
          },
          "title": {
           "x": 0.05
          },
          "mapbox": {
           "style": "light"
          }
         }
        },
        "legend": {
         "orientation": "h",
         "yanchor": "top",
         "y": 1.02,
         "xanchor": "left",
         "x": 1
        },
        "margin": {
         "r": 20,
         "l": 10,
         "b": 10,
         "t": 10
        },
        "width": 1000,
        "height": 800,
        "scene": {
         "xaxis": {
          "title": {
           "text": "Pulse width (μs)"
          }
         },
         "yaxis": {
          "title": {
           "text": "Energy density new cone (J/cm^2)"
          }
         },
         "zaxis": {
          "title": {
           "text": "Voltage"
          }
         },
         "camera": {
          "up": {
           "x": 0,
           "y": 0,
           "z": 1
          },
          "center": {
           "x": 0,
           "y": 0,
           "z": 0
          },
          "eye": {
           "x": -2,
           "y": -2.5,
           "z": 1.75
          }
         }
        }
       },
       "config": {
        "plotlyServerURL": "https://plot.ly"
       }
      }
     },
     "metadata": {}
    }
   ],
   "metadata": {}
  }
 ],
 "metadata": {
  "orig_nbformat": 4,
  "language_info": {
   "name": "python",
   "version": "3.9.16",
   "mimetype": "text/x-python",
   "codemirror_mode": {
    "name": "ipython",
    "version": 3
   },
   "pygments_lexer": "ipython3",
   "nbconvert_exporter": "python",
   "file_extension": ".py"
  },
  "kernelspec": {
   "name": "python3",
   "display_name": "Python 3.9.16 64-bit ('FEGP': conda)"
  },
  "interpreter": {
   "hash": "b00f9bca1c18369f730e284e4d0522d8a3e0f0b629e30dad99ec4bb4df6f08b7"
  }
 },
 "nbformat": 4,
 "nbformat_minor": 2
}