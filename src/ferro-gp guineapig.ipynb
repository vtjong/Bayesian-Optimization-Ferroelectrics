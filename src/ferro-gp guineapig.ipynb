{
 "cells": [
  {
   "cell_type": "code",
   "execution_count": 249,
   "source": [
    "# Prep training data\n",
    "from copyreg import pickle\n",
    "from sklearn.preprocessing import StandardScaler\n",
    "from sklearn import preprocessing\n",
    "import sys\n",
    "from tkinter import Y\n",
    "import gzip\n",
    "import itertools\n",
    "import numpy as np\n",
    "import pandas as pd\n",
    "import pickle as pk\n",
    "import torch\n",
    "import gpytorch\n",
    "import plotly.express as px\n",
    "import matplotlib.pyplot as plt\n",
    "sys.path.append('..')\n",
    "sys.path.insert(0, '../src')"
   ],
   "outputs": [],
   "metadata": {}
  },
  {
   "cell_type": "code",
   "execution_count": 250,
   "source": [
    "from model import GPModel\n",
    "from GPy.models import GPRegression\n",
    "from acq_funcs import EI, PI, cust_acq, thompson\n",
    "from plotter import vis_pred, vis_acq"
   ],
   "outputs": [],
   "metadata": {}
  },
  {
   "cell_type": "markdown",
   "source": [
    "### Data Read and Pre-processing"
   ],
   "metadata": {}
  },
  {
   "cell_type": "code",
   "execution_count": 251,
   "source": [
    "# read data and display\n",
    "def read_dat(dir=\"/Users/valenetjong/Bayesian-Optimization-Ferroelectrics/data/\",\n",
    "            src_file = \"Bolometer_readings_PulseForge.xlsx\", sheet= \"Combined\"):\n",
    "    file = dir + src_file\n",
    "    fe_data = pd.read_excel(file, sheet_name=sheet, usecols=['Energy density new cone (J/cm^2)',\n",
    "                            'Time (ms)','2 Qsw/(U+|D|) 1e6cycles'])\n",
    "    fe_data.dropna(subset=['2 Qsw/(U+|D|) 1e6cycles'], inplace=True)\n",
    "    fe_data = fe_data[fe_data['2 Qsw/(U+|D|) 1e6cycles']!= 0]\n",
    "    return fe_data\n",
    "\n",
    "def display_data(fe_data):\n",
    "    \"\"\"\n",
    "    [display_data(fe_data)] creates a cross-section scatter plot of all combinations\n",
    "    of the four input parameters and single output parameter.\n",
    "    \"\"\"\n",
    "    # plot each cross-section\n",
    "    fig = px.scatter_matrix(fe_data, dimensions=['Energy density new cone (J/cm^2)', \n",
    "    \"Time (ms)\", \"2 Qsw/(U+|D|) 1e6cycles\"])\n",
    "    fig.update_layout(margin=dict(r=20, l=10, b=10, t=10))\n",
    "    fig.update_layout(height=1000)\n",
    "    fig.show()"
   ],
   "outputs": [],
   "metadata": {}
  },
  {
   "cell_type": "code",
   "execution_count": 252,
   "source": [
    "# define scaler and inverse scaling\n",
    "from sklearn.preprocessing import MinMaxScaler\n",
    "scaler =  MinMaxScaler()\n",
    "\n",
    "def un_norm_all(train_x, test_grid, scaler):\n",
    "    return scaler.inverse_transform(train_x), scaler.inverse_transform(test_grid)"
   ],
   "outputs": [],
   "metadata": {}
  },
  {
   "cell_type": "code",
   "execution_count": 253,
   "source": [
    "def datasetmaker(fe_data):\n",
    "    \"\"\"\n",
    "    [datasetmaker(fe_data)] filters and transforms the data in pandas df [fe_data] \n",
    "    into two tensors, [train_x] for input and [train_y] for output tensors. \n",
    "    \"\"\"\n",
    "    # filter training data \n",
    "    energy_den = fe_data['Energy density new cone (J/cm^2)'].values\n",
    "    time = fe_data['Time (ms)'].values\n",
    "    train_x = torch.Tensor(np.array([time, energy_den])).T\n",
    "    train_y = torch.Tensor(fe_data['2 Qsw/(U+|D|) 1e6cycles'].values)\n",
    "\n",
    "    # scale inputs\n",
    "    scaler.fit(train_x)\n",
    "    train_x = torch.Tensor(scaler.transform(train_x))\n",
    "\n",
    "    return train_x, train_y"
   ],
   "outputs": [],
   "metadata": {}
  },
  {
   "cell_type": "code",
   "execution_count": 254,
   "source": [
    "fe_data = read_dat()\n",
    "print(fe_data)"
   ],
   "outputs": [
    {
     "output_type": "stream",
     "name": "stdout",
     "text": [
      "    Time (ms)  Energy density new cone (J/cm^2)  2 Qsw/(U+|D|) 1e6cycles\n",
      "4         0.5                              2.73                 0.873026\n",
      "5         0.5                              3.40                 2.677245\n",
      "6         1.0                              3.79                 1.699015\n",
      "7         1.0                              6.44                 3.805053\n",
      "8         1.5                              5.36                 3.334856\n",
      "9         1.5                              8.99                 4.535153\n",
      "11        5.0                              8.80                 1.362510\n",
      "13        5.0                             14.67                 3.841291\n",
      "19        0.5                              5.24                 1.201357\n",
      "22        5.0                             14.89                 3.513652\n",
      "23        2.0                             10.13                 3.470871\n",
      "24        0.5                              4.51                 0.263298\n",
      "25        0.5                              5.37                 2.775340\n",
      "27        0.5                              4.88                 2.591306\n",
      "28        1.0                              6.76                 2.579984\n",
      "29        1.0                              7.77                 3.173819\n",
      "31        2.0                              8.73                 0.131505\n",
      "32        2.0                              9.38                 0.451164\n",
      "33        2.0                             10.48                 2.126640\n",
      "34        2.0                             11.01                 3.468213\n",
      "35        5.0                             14.71                 3.685852\n",
      "36        5.0                             15.44                 3.445656\n",
      "37        5.0                             13.37                 2.651547\n"
     ]
    }
   ],
   "metadata": {}
  },
  {
   "cell_type": "code",
   "execution_count": 255,
   "source": [
    "display_data(fe_data)"
   ],
   "outputs": [
    {
     "output_type": "display_data",
     "data": {
      "application/vnd.plotly.v1+json": {
       "data": [
        {
         "dimensions": [
          {
           "axis": {
            "matches": true
           },
           "label": "Energy density new cone (J/cm^2)",
           "values": [
            2.73,
            3.4,
            3.79,
            6.44,
            5.36,
            8.99,
            8.8,
            14.67,
            5.24,
            14.89,
            10.13,
            4.51,
            5.37,
            4.88,
            6.76,
            7.77,
            8.73,
            9.38,
            10.48,
            11.01,
            14.71,
            15.44,
            13.37
           ]
          },
          {
           "axis": {
            "matches": true
           },
           "label": "Time (ms)",
           "values": [
            0.5,
            0.5,
            1,
            1,
            1.5,
            1.5,
            5,
            5,
            0.5,
            5,
            2,
            0.5,
            0.5,
            0.5,
            1,
            1,
            2,
            2,
            2,
            2,
            5,
            5,
            5
           ]
          },
          {
           "axis": {
            "matches": true
           },
           "label": "2 Qsw/(U+|D|) 1e6cycles",
           "values": [
            0.8730257299654021,
            2.677244640050493,
            1.6990152147413928,
            3.8050528055652655,
            3.3348561928152627,
            4.535152817359003,
            1.3625102372531497,
            3.841290609056986,
            1.2013569985324948,
            3.5136521918176413,
            3.4708714822041062,
            0.2632982379553876,
            2.7753404356378253,
            2.5913062464887977,
            2.579984359259049,
            3.1738185691110727,
            0.1315049942519029,
            0.4511637114621348,
            2.126639748505365,
            3.468212840642842,
            3.685852431471957,
            3.445655582638384,
            2.651546836022379
           ]
          }
         ],
         "hovertemplate": "%{xaxis.title.text}=%{x}<br>%{yaxis.title.text}=%{y}<extra></extra>",
         "legendgroup": "",
         "marker": {
          "color": "#636efa",
          "symbol": "circle"
         },
         "name": "",
         "showlegend": false,
         "type": "splom"
        }
       ],
       "layout": {
        "template": {
         "data": {
          "histogram2dcontour": [
           {
            "type": "histogram2dcontour",
            "colorbar": {
             "outlinewidth": 0,
             "ticks": ""
            },
            "colorscale": [
             [
              0,
              "#0d0887"
             ],
             [
              0.1111111111111111,
              "#46039f"
             ],
             [
              0.2222222222222222,
              "#7201a8"
             ],
             [
              0.3333333333333333,
              "#9c179e"
             ],
             [
              0.4444444444444444,
              "#bd3786"
             ],
             [
              0.5555555555555556,
              "#d8576b"
             ],
             [
              0.6666666666666666,
              "#ed7953"
             ],
             [
              0.7777777777777778,
              "#fb9f3a"
             ],
             [
              0.8888888888888888,
              "#fdca26"
             ],
             [
              1,
              "#f0f921"
             ]
            ]
           }
          ],
          "choropleth": [
           {
            "type": "choropleth",
            "colorbar": {
             "outlinewidth": 0,
             "ticks": ""
            }
           }
          ],
          "histogram2d": [
           {
            "type": "histogram2d",
            "colorbar": {
             "outlinewidth": 0,
             "ticks": ""
            },
            "colorscale": [
             [
              0,
              "#0d0887"
             ],
             [
              0.1111111111111111,
              "#46039f"
             ],
             [
              0.2222222222222222,
              "#7201a8"
             ],
             [
              0.3333333333333333,
              "#9c179e"
             ],
             [
              0.4444444444444444,
              "#bd3786"
             ],
             [
              0.5555555555555556,
              "#d8576b"
             ],
             [
              0.6666666666666666,
              "#ed7953"
             ],
             [
              0.7777777777777778,
              "#fb9f3a"
             ],
             [
              0.8888888888888888,
              "#fdca26"
             ],
             [
              1,
              "#f0f921"
             ]
            ]
           }
          ],
          "heatmap": [
           {
            "type": "heatmap",
            "colorbar": {
             "outlinewidth": 0,
             "ticks": ""
            },
            "colorscale": [
             [
              0,
              "#0d0887"
             ],
             [
              0.1111111111111111,
              "#46039f"
             ],
             [
              0.2222222222222222,
              "#7201a8"
             ],
             [
              0.3333333333333333,
              "#9c179e"
             ],
             [
              0.4444444444444444,
              "#bd3786"
             ],
             [
              0.5555555555555556,
              "#d8576b"
             ],
             [
              0.6666666666666666,
              "#ed7953"
             ],
             [
              0.7777777777777778,
              "#fb9f3a"
             ],
             [
              0.8888888888888888,
              "#fdca26"
             ],
             [
              1,
              "#f0f921"
             ]
            ]
           }
          ],
          "heatmapgl": [
           {
            "type": "heatmapgl",
            "colorbar": {
             "outlinewidth": 0,
             "ticks": ""
            },
            "colorscale": [
             [
              0,
              "#0d0887"
             ],
             [
              0.1111111111111111,
              "#46039f"
             ],
             [
              0.2222222222222222,
              "#7201a8"
             ],
             [
              0.3333333333333333,
              "#9c179e"
             ],
             [
              0.4444444444444444,
              "#bd3786"
             ],
             [
              0.5555555555555556,
              "#d8576b"
             ],
             [
              0.6666666666666666,
              "#ed7953"
             ],
             [
              0.7777777777777778,
              "#fb9f3a"
             ],
             [
              0.8888888888888888,
              "#fdca26"
             ],
             [
              1,
              "#f0f921"
             ]
            ]
           }
          ],
          "contourcarpet": [
           {
            "type": "contourcarpet",
            "colorbar": {
             "outlinewidth": 0,
             "ticks": ""
            }
           }
          ],
          "contour": [
           {
            "type": "contour",
            "colorbar": {
             "outlinewidth": 0,
             "ticks": ""
            },
            "colorscale": [
             [
              0,
              "#0d0887"
             ],
             [
              0.1111111111111111,
              "#46039f"
             ],
             [
              0.2222222222222222,
              "#7201a8"
             ],
             [
              0.3333333333333333,
              "#9c179e"
             ],
             [
              0.4444444444444444,
              "#bd3786"
             ],
             [
              0.5555555555555556,
              "#d8576b"
             ],
             [
              0.6666666666666666,
              "#ed7953"
             ],
             [
              0.7777777777777778,
              "#fb9f3a"
             ],
             [
              0.8888888888888888,
              "#fdca26"
             ],
             [
              1,
              "#f0f921"
             ]
            ]
           }
          ],
          "surface": [
           {
            "type": "surface",
            "colorbar": {
             "outlinewidth": 0,
             "ticks": ""
            },
            "colorscale": [
             [
              0,
              "#0d0887"
             ],
             [
              0.1111111111111111,
              "#46039f"
             ],
             [
              0.2222222222222222,
              "#7201a8"
             ],
             [
              0.3333333333333333,
              "#9c179e"
             ],
             [
              0.4444444444444444,
              "#bd3786"
             ],
             [
              0.5555555555555556,
              "#d8576b"
             ],
             [
              0.6666666666666666,
              "#ed7953"
             ],
             [
              0.7777777777777778,
              "#fb9f3a"
             ],
             [
              0.8888888888888888,
              "#fdca26"
             ],
             [
              1,
              "#f0f921"
             ]
            ]
           }
          ],
          "mesh3d": [
           {
            "type": "mesh3d",
            "colorbar": {
             "outlinewidth": 0,
             "ticks": ""
            }
           }
          ],
          "scatter": [
           {
            "fillpattern": {
             "fillmode": "overlay",
             "size": 10,
             "solidity": 0.2
            },
            "type": "scatter"
           }
          ],
          "parcoords": [
           {
            "type": "parcoords",
            "line": {
             "colorbar": {
              "outlinewidth": 0,
              "ticks": ""
             }
            }
           }
          ],
          "scatterpolargl": [
           {
            "type": "scatterpolargl",
            "marker": {
             "colorbar": {
              "outlinewidth": 0,
              "ticks": ""
             }
            }
           }
          ],
          "bar": [
           {
            "error_x": {
             "color": "#2a3f5f"
            },
            "error_y": {
             "color": "#2a3f5f"
            },
            "marker": {
             "line": {
              "color": "#E5ECF6",
              "width": 0.5
             },
             "pattern": {
              "fillmode": "overlay",
              "size": 10,
              "solidity": 0.2
             }
            },
            "type": "bar"
           }
          ],
          "scattergeo": [
           {
            "type": "scattergeo",
            "marker": {
             "colorbar": {
              "outlinewidth": 0,
              "ticks": ""
             }
            }
           }
          ],
          "scatterpolar": [
           {
            "type": "scatterpolar",
            "marker": {
             "colorbar": {
              "outlinewidth": 0,
              "ticks": ""
             }
            }
           }
          ],
          "histogram": [
           {
            "marker": {
             "pattern": {
              "fillmode": "overlay",
              "size": 10,
              "solidity": 0.2
             }
            },
            "type": "histogram"
           }
          ],
          "scattergl": [
           {
            "type": "scattergl",
            "marker": {
             "colorbar": {
              "outlinewidth": 0,
              "ticks": ""
             }
            }
           }
          ],
          "scatter3d": [
           {
            "type": "scatter3d",
            "line": {
             "colorbar": {
              "outlinewidth": 0,
              "ticks": ""
             }
            },
            "marker": {
             "colorbar": {
              "outlinewidth": 0,
              "ticks": ""
             }
            }
           }
          ],
          "scattermapbox": [
           {
            "type": "scattermapbox",
            "marker": {
             "colorbar": {
              "outlinewidth": 0,
              "ticks": ""
             }
            }
           }
          ],
          "scatterternary": [
           {
            "type": "scatterternary",
            "marker": {
             "colorbar": {
              "outlinewidth": 0,
              "ticks": ""
             }
            }
           }
          ],
          "scattercarpet": [
           {
            "type": "scattercarpet",
            "marker": {
             "colorbar": {
              "outlinewidth": 0,
              "ticks": ""
             }
            }
           }
          ],
          "carpet": [
           {
            "aaxis": {
             "endlinecolor": "#2a3f5f",
             "gridcolor": "white",
             "linecolor": "white",
             "minorgridcolor": "white",
             "startlinecolor": "#2a3f5f"
            },
            "baxis": {
             "endlinecolor": "#2a3f5f",
             "gridcolor": "white",
             "linecolor": "white",
             "minorgridcolor": "white",
             "startlinecolor": "#2a3f5f"
            },
            "type": "carpet"
           }
          ],
          "table": [
           {
            "cells": {
             "fill": {
              "color": "#EBF0F8"
             },
             "line": {
              "color": "white"
             }
            },
            "header": {
             "fill": {
              "color": "#C8D4E3"
             },
             "line": {
              "color": "white"
             }
            },
            "type": "table"
           }
          ],
          "barpolar": [
           {
            "marker": {
             "line": {
              "color": "#E5ECF6",
              "width": 0.5
             },
             "pattern": {
              "fillmode": "overlay",
              "size": 10,
              "solidity": 0.2
             }
            },
            "type": "barpolar"
           }
          ],
          "pie": [
           {
            "automargin": true,
            "type": "pie"
           }
          ]
         },
         "layout": {
          "autotypenumbers": "strict",
          "colorway": [
           "#636efa",
           "#EF553B",
           "#00cc96",
           "#ab63fa",
           "#FFA15A",
           "#19d3f3",
           "#FF6692",
           "#B6E880",
           "#FF97FF",
           "#FECB52"
          ],
          "font": {
           "color": "#2a3f5f"
          },
          "hovermode": "closest",
          "hoverlabel": {
           "align": "left"
          },
          "paper_bgcolor": "white",
          "plot_bgcolor": "#E5ECF6",
          "polar": {
           "bgcolor": "#E5ECF6",
           "angularaxis": {
            "gridcolor": "white",
            "linecolor": "white",
            "ticks": ""
           },
           "radialaxis": {
            "gridcolor": "white",
            "linecolor": "white",
            "ticks": ""
           }
          },
          "ternary": {
           "bgcolor": "#E5ECF6",
           "aaxis": {
            "gridcolor": "white",
            "linecolor": "white",
            "ticks": ""
           },
           "baxis": {
            "gridcolor": "white",
            "linecolor": "white",
            "ticks": ""
           },
           "caxis": {
            "gridcolor": "white",
            "linecolor": "white",
            "ticks": ""
           }
          },
          "coloraxis": {
           "colorbar": {
            "outlinewidth": 0,
            "ticks": ""
           }
          },
          "colorscale": {
           "sequential": [
            [
             0,
             "#0d0887"
            ],
            [
             0.1111111111111111,
             "#46039f"
            ],
            [
             0.2222222222222222,
             "#7201a8"
            ],
            [
             0.3333333333333333,
             "#9c179e"
            ],
            [
             0.4444444444444444,
             "#bd3786"
            ],
            [
             0.5555555555555556,
             "#d8576b"
            ],
            [
             0.6666666666666666,
             "#ed7953"
            ],
            [
             0.7777777777777778,
             "#fb9f3a"
            ],
            [
             0.8888888888888888,
             "#fdca26"
            ],
            [
             1,
             "#f0f921"
            ]
           ],
           "sequentialminus": [
            [
             0,
             "#0d0887"
            ],
            [
             0.1111111111111111,
             "#46039f"
            ],
            [
             0.2222222222222222,
             "#7201a8"
            ],
            [
             0.3333333333333333,
             "#9c179e"
            ],
            [
             0.4444444444444444,
             "#bd3786"
            ],
            [
             0.5555555555555556,
             "#d8576b"
            ],
            [
             0.6666666666666666,
             "#ed7953"
            ],
            [
             0.7777777777777778,
             "#fb9f3a"
            ],
            [
             0.8888888888888888,
             "#fdca26"
            ],
            [
             1,
             "#f0f921"
            ]
           ],
           "diverging": [
            [
             0,
             "#8e0152"
            ],
            [
             0.1,
             "#c51b7d"
            ],
            [
             0.2,
             "#de77ae"
            ],
            [
             0.3,
             "#f1b6da"
            ],
            [
             0.4,
             "#fde0ef"
            ],
            [
             0.5,
             "#f7f7f7"
            ],
            [
             0.6,
             "#e6f5d0"
            ],
            [
             0.7,
             "#b8e186"
            ],
            [
             0.8,
             "#7fbc41"
            ],
            [
             0.9,
             "#4d9221"
            ],
            [
             1,
             "#276419"
            ]
           ]
          },
          "xaxis": {
           "gridcolor": "white",
           "linecolor": "white",
           "ticks": "",
           "title": {
            "standoff": 15
           },
           "zerolinecolor": "white",
           "automargin": true,
           "zerolinewidth": 2
          },
          "yaxis": {
           "gridcolor": "white",
           "linecolor": "white",
           "ticks": "",
           "title": {
            "standoff": 15
           },
           "zerolinecolor": "white",
           "automargin": true,
           "zerolinewidth": 2
          },
          "scene": {
           "xaxis": {
            "backgroundcolor": "#E5ECF6",
            "gridcolor": "white",
            "linecolor": "white",
            "showbackground": true,
            "ticks": "",
            "zerolinecolor": "white",
            "gridwidth": 2
           },
           "yaxis": {
            "backgroundcolor": "#E5ECF6",
            "gridcolor": "white",
            "linecolor": "white",
            "showbackground": true,
            "ticks": "",
            "zerolinecolor": "white",
            "gridwidth": 2
           },
           "zaxis": {
            "backgroundcolor": "#E5ECF6",
            "gridcolor": "white",
            "linecolor": "white",
            "showbackground": true,
            "ticks": "",
            "zerolinecolor": "white",
            "gridwidth": 2
           }
          },
          "shapedefaults": {
           "line": {
            "color": "#2a3f5f"
           }
          },
          "annotationdefaults": {
           "arrowcolor": "#2a3f5f",
           "arrowhead": 0,
           "arrowwidth": 1
          },
          "geo": {
           "bgcolor": "white",
           "landcolor": "#E5ECF6",
           "subunitcolor": "white",
           "showland": true,
           "showlakes": true,
           "lakecolor": "white"
          },
          "title": {
           "x": 0.05
          },
          "mapbox": {
           "style": "light"
          }
         }
        },
        "legend": {
         "tracegroupgap": 0
        },
        "margin": {
         "t": 10,
         "r": 20,
         "l": 10,
         "b": 10
        },
        "dragmode": "select",
        "height": 1000
       },
       "config": {
        "plotlyServerURL": "https://plot.ly"
       }
      }
     },
     "metadata": {}
    }
   ],
   "metadata": {}
  },
  {
   "cell_type": "code",
   "execution_count": 256,
   "source": [
    "# make training data, maintain params to de-normalize\n",
    "# x_sd_mean, y_sd_mean, train_x, train_y = datasetmaker(fe_data)\n",
    "train_x, train_y = datasetmaker(fe_data)\n"
   ],
   "outputs": [],
   "metadata": {}
  },
  {
   "cell_type": "markdown",
   "source": [
    "### Grid/Parameter Space"
   ],
   "metadata": {}
  },
  {
   "cell_type": "code",
   "execution_count": 257,
   "source": [
    "# create grid for grid search\n",
    "def grid_helper(grid_size, num_params, grid_bounds):\n",
    "    \"\"\"\n",
    "    [grid_helper(grid_size, num_params, grid_bounds)] returns a grid of dimensions\n",
    "    [grid_size] by [num_params], which dictates the parameter space for GP to be \n",
    "    conducted over. \n",
    "    \"\"\"\n",
    "    grid = torch.zeros(grid_size, num_params)\n",
    "    f_grid_diff = lambda i, x, y : float((x[i][1] - x[i][0]) / (y-2))\n",
    "    for i in range(num_params):\n",
    "        grid_diff = f_grid_diff(i, grid_bounds, grid_size)\n",
    "        grid[:, i] = torch.linspace(grid_bounds[i][0] - grid_diff, \n",
    "                                    grid_bounds[i][1] + grid_diff, grid_size)\n",
    "    return grid\n",
    "\n",
    "def grid_maker(train_x, num_points=30):\n",
    "    \"\"\"\n",
    "    [grid_maker(train_x, num_points=30)] creates grids to be used for gaussian \n",
    "    process predictions. It outputs the dimension of the grid [num_params], \n",
    "    paramater space grid [test_grid], and [test_x].\n",
    "    \"\"\"\n",
    "    # define grid between bounds of RTA time, RTA temp\n",
    "    num_params = train_x.size(dim=1)\n",
    "    grid_bounds = [(train_x[:,i].min(), train_x[:,i].max()) for i in range(num_params)]\n",
    "\n",
    "    # set up test_grid for predictions\n",
    "    test_grid = grid_helper(num_points, num_params, grid_bounds)\n",
    "\n",
    "    # create n-D grid with n = num_params\n",
    "    args = (test_grid[:, i] for i in range(num_params))\n",
    "    test_x = torch.cartesian_prod(*args)\n",
    "    return grid_bounds, num_params, test_grid, test_x\n"
   ],
   "outputs": [],
   "metadata": {}
  },
  {
   "cell_type": "code",
   "execution_count": 258,
   "source": [
    "# create grid based on parameter space for search\n",
    "grid_bounds, num_params, test_grid, test_x = grid_maker(train_x)"
   ],
   "outputs": [],
   "metadata": {}
  },
  {
   "cell_type": "markdown",
   "source": [
    "### Noise Calculations"
   ],
   "metadata": {}
  },
  {
   "cell_type": "markdown",
   "source": [
    "Our figure of merit, fom, is $2 Q_{sw}/(U+|D|),$ so error propagation would result in a error of $\\sigma_{fom} = |fom|\\sqrt{{(\\sigma_{Q_{sw}}/Q_{sw}})^2+{(\\sigma_U^2 + \\sigma_{|D|}^2)/(U+|D|)^2)}}$. We have data for $2Pr$ measurements wrt device area. Using the $10\\mu$ m $\\times 10\\mu$ m data, we approximate the error for the figure of merit as simply $\\sigma_{2Pr}$, as we do not have $\\sigma_U$ or $\\sigma_D.$ \n"
   ],
   "metadata": {}
  },
  {
   "cell_type": "code",
   "execution_count": 259,
   "source": [
    "fn = \"/Users/valenetjong/Bayesian-Optimization-Ferroelectrics/data/P vs area.xlsx\"\n",
    "excel_file = pd.read_excel(fn, sheet_name='Sheet1')\n",
    "col_2Pr_10by10 = excel_file['10umx10um']\n",
    "sd = col_2Pr_10by10.std()/col_2Pr_10by10.mean()\n",
    "print(sd)\n",
    "print(col_2Pr_10by10)"
   ],
   "outputs": [
    {
     "output_type": "stream",
     "name": "stdout",
     "text": [
      "0.04469365441252401\n",
      "0     34.57379\n",
      "1     35.96416\n",
      "2     33.16083\n",
      "3     35.96861\n",
      "4     37.10497\n",
      "5     35.86549\n",
      "6     35.81341\n",
      "7     33.01597\n",
      "8     35.71753\n",
      "9     38.37434\n",
      "10    34.11144\n",
      "11    33.57596\n",
      "12    35.15750\n",
      "13    35.01515\n",
      "14    36.01072\n",
      "15    37.04952\n",
      "16    36.48895\n",
      "17    35.63807\n",
      "18    37.36247\n",
      "19    39.05057\n",
      "Name: 10umx10um, dtype: float64\n"
     ]
    }
   ],
   "metadata": {}
  },
  {
   "cell_type": "markdown",
   "source": [
    "### Initialize Model"
   ],
   "metadata": {}
  },
  {
   "cell_type": "code",
   "execution_count": 260,
   "source": [
    "# configuration parameters for training\n",
    "class Config():\n",
    "    def __init__(self):\n",
    "        self.epochs = 5000\n",
    "        self.kernel = \"matern\"\n",
    "        self.lr = 0.005\n",
    "        self.lscale_1 = 0.114\n",
    "        self.lscale_2 = 0.0488\n",
    "        self.lscale_3 = None\n",
    "        self.lscale_4 = None\n",
    "        self.dim = 2\n",
    "        self.noise = 0.15\n",
    "\n",
    "config = Config()"
   ],
   "outputs": [],
   "metadata": {}
  },
  {
   "cell_type": "code",
   "execution_count": 261,
   "source": [
    "# make model\n",
    "def kernel_func(config_kernel, num_params, lscale):\n",
    "    \"\"\"\n",
    "    [kernel_func(config_kernel, num_params, lscale)] returns kernel function with \n",
    "    dimensions specified by [num_params]. \n",
    "    \"\"\"\n",
    "    if config_kernel == \"rbf\":\n",
    "        return gpytorch.kernels.ScaleKernel(\n",
    "            gpytorch.kernels.RBFKernel(ard_num_dims=num_params))\n",
    "    elif config_kernel == \"matern\":\n",
    "        return gpytorch.kernels.ScaleKernel(gpytorch.kernels.MaternKernel(ard_num_dims=num_params, \n",
    "        lengthscale = torch.tensor(lscale), nu=0.5))\n",
    "\n",
    "def make_model(train_x, train_y, num_params, config):\n",
    "    \"\"\"\n",
    "    [make_model(train_x, train_y, num_params, config)] returns likelihood and \n",
    "    model with lengthscale, noise, kernel function specified by sweeps. \n",
    "    \"\"\"\n",
    "    \n",
    "    if config.dim == 2:\n",
    "        lscale = [config.lscale_1, config.lscale_2]\n",
    "    elif config.dim == 4:\n",
    "        lscale = [config.lscale_1, config.lscale_2, config.lscale_3, config.lscale_4]\n",
    "    kernel = kernel_func(config.kernel, num_params, lscale)\n",
    "    \n",
    "    print(kernel)\n",
    "    num_samples = len(train_x)\n",
    "    noise = config.noise*torch.ones(num_samples)\n",
    "    likelihood = gpytorch.likelihoods.FixedNoiseGaussianLikelihood(noise=noise)\n",
    "    model = GPModel(train_x, train_y, likelihood, kernel)\n",
    "\n",
    "    return likelihood, model, lscale\n",
    "    "
   ],
   "outputs": [],
   "metadata": {}
  },
  {
   "cell_type": "code",
   "execution_count": 262,
   "source": [
    "def intermediate_plot(f, ax, obs, title):\n",
    "    im = ax.imshow(obs.mean.view(30, 30), aspect='equal',\n",
    "                extent=[grid_bounds[0][0].item(), grid_bounds[0][1].item(),\n",
    "                            grid_bounds[1][0].item(), grid_bounds[1][1].item()])\n",
    "    f.colorbar(im)\n",
    "    ax.set_title(title)"
   ],
   "outputs": [],
   "metadata": {}
  },
  {
   "cell_type": "markdown",
   "source": [
    "### GP Training and Eval"
   ],
   "metadata": {}
  },
  {
   "cell_type": "code",
   "execution_count": 263,
   "source": [
    "# training and evaluation\n",
    "def train(train_x, train_y, num_params, config):\n",
    "    likelihood, model, lscale = make_model(train_x, train_y, num_params, config)\n",
    "    model.covar_module.base_kernel.lengthscale = torch.Tensor(lscale)\n",
    "    training_iter = config.epochs\n",
    "    model.covar_module.base_kernel.raw_lengthscale.requires_grad_(False) # disallow training of lengthscale\n",
    "    \n",
    "    # place both the model and likelihood in training mode\n",
    "    model.train(), likelihood.train()\n",
    "\n",
    "    # use Adam\n",
    "    optimizer = torch.optim.Adam(model.parameters(), lr=config.lr)\n",
    "\n",
    "    # set GP loss as the marginal log likelihood\n",
    "    mll = gpytorch.mlls.ExactMarginalLogLikelihood(likelihood, model)\n",
    "    loss_lst = []\n",
    "\n",
    "    for i in range(training_iter):\n",
    "        optimizer.zero_grad()\n",
    "        output = model(train_x)\n",
    "\n",
    "        # backpropagate error\n",
    "        loss = -mll(output, train_y)\n",
    "        loss.backward()\n",
    "\n",
    "        if i % 100 == 0: \n",
    "            print('Iter %d/%d - Loss: %.3f  lengthscale1: %s   noise: %s' % (\n",
    "                    i+1, training_iter, loss.item(), \n",
    "                    model.covar_module.base_kernel.lengthscale.detach().numpy(),\n",
    "                    model.likelihood.noise.detach().numpy()\n",
    "                    )) \n",
    "            loss_lst.append(loss.item())\n",
    "\n",
    "        # if i % 1000 == 0:\n",
    "        # # get a quick snapshot of intermediate \n",
    "        #     model.eval()\n",
    "        #     likelihood.eval()\n",
    "        #     with torch.no_grad(), gpytorch.settings.fast_pred_var():\n",
    "        #         obs = likelihood(model(test_x))\n",
    "        #         f, ax = plt.subplots(1, 1, figsize=(4,3))\n",
    "        #         intermediate_plot(f, ax, obs, f'iter {i+1}/{training_iter}')\n",
    "        #     model.train()\n",
    "        #     likelihood.train()\n",
    "        optimizer.step()\n",
    "        \n",
    "    print(model.covar_module.outputscale.detach().numpy())\n",
    "    return likelihood, model, loss_lst\n",
    "\n",
    "def eval_mod(likelihood, model, test_x):\n",
    "    \"\"\" \n",
    "    [eval_mod(likelihood, model, test_x)] evaluates GP model. \n",
    "    \"\"\"\n",
    "    model.eval(), likelihood.eval()\n",
    "    with torch.no_grad(), gpytorch.settings.fast_pred_var():\n",
    "        obs = likelihood(model(test_x), noise=(torch.ones(len(test_x))*config.noise))\n",
    "    return obs"
   ],
   "outputs": [],
   "metadata": {}
  },
  {
   "cell_type": "code",
   "execution_count": 264,
   "source": [
    "# train model and evaluate\n",
    "likelihood, model, loss_lst = train(train_x, train_y, num_params, config)\n",
    "\n",
    "obs = eval_mod(likelihood, model, test_x)"
   ],
   "outputs": [
    {
     "output_type": "stream",
     "name": "stdout",
     "text": [
      "ScaleKernel(\n",
      "  (base_kernel): MaternKernel(\n",
      "    (raw_lengthscale_constraint): Positive()\n",
      "  )\n",
      "  (raw_outputscale_constraint): Positive()\n",
      ")\n",
      "Iter 1/5000 - Loss: 3.777  lengthscale1: [[0.11400001 0.0488    ]]   noise: [0.15 0.15 0.15 0.15 0.15 0.15 0.15 0.15 0.15 0.15 0.15 0.15 0.15 0.15\n",
      " 0.15 0.15 0.15 0.15 0.15 0.15 0.15 0.15 0.15]\n",
      "Iter 101/5000 - Loss: 2.716  lengthscale1: [[0.11400001 0.0488    ]]   noise: [0.15 0.15 0.15 0.15 0.15 0.15 0.15 0.15 0.15 0.15 0.15 0.15 0.15 0.15\n",
      " 0.15 0.15 0.15 0.15 0.15 0.15 0.15 0.15 0.15]\n",
      "Iter 201/5000 - Loss: 2.243  lengthscale1: [[0.11400001 0.0488    ]]   noise: [0.15 0.15 0.15 0.15 0.15 0.15 0.15 0.15 0.15 0.15 0.15 0.15 0.15 0.15\n",
      " 0.15 0.15 0.15 0.15 0.15 0.15 0.15 0.15 0.15]\n",
      "Iter 301/5000 - Loss: 1.999  lengthscale1: [[0.11400001 0.0488    ]]   noise: [0.15 0.15 0.15 0.15 0.15 0.15 0.15 0.15 0.15 0.15 0.15 0.15 0.15 0.15\n",
      " 0.15 0.15 0.15 0.15 0.15 0.15 0.15 0.15 0.15]\n",
      "Iter 401/5000 - Loss: 1.861  lengthscale1: [[0.11400001 0.0488    ]]   noise: [0.15 0.15 0.15 0.15 0.15 0.15 0.15 0.15 0.15 0.15 0.15 0.15 0.15 0.15\n",
      " 0.15 0.15 0.15 0.15 0.15 0.15 0.15 0.15 0.15]\n",
      "Iter 501/5000 - Loss: 1.779  lengthscale1: [[0.11400001 0.0488    ]]   noise: [0.15 0.15 0.15 0.15 0.15 0.15 0.15 0.15 0.15 0.15 0.15 0.15 0.15 0.15\n",
      " 0.15 0.15 0.15 0.15 0.15 0.15 0.15 0.15 0.15]\n",
      "Iter 601/5000 - Loss: 1.728  lengthscale1: [[0.11400001 0.0488    ]]   noise: [0.15 0.15 0.15 0.15 0.15 0.15 0.15 0.15 0.15 0.15 0.15 0.15 0.15 0.15\n",
      " 0.15 0.15 0.15 0.15 0.15 0.15 0.15 0.15 0.15]\n",
      "Iter 701/5000 - Loss: 1.698  lengthscale1: [[0.11400001 0.0488    ]]   noise: [0.15 0.15 0.15 0.15 0.15 0.15 0.15 0.15 0.15 0.15 0.15 0.15 0.15 0.15\n",
      " 0.15 0.15 0.15 0.15 0.15 0.15 0.15 0.15 0.15]\n",
      "Iter 801/5000 - Loss: 1.679  lengthscale1: [[0.11400001 0.0488    ]]   noise: [0.15 0.15 0.15 0.15 0.15 0.15 0.15 0.15 0.15 0.15 0.15 0.15 0.15 0.15\n",
      " 0.15 0.15 0.15 0.15 0.15 0.15 0.15 0.15 0.15]\n",
      "Iter 901/5000 - Loss: 1.668  lengthscale1: [[0.11400001 0.0488    ]]   noise: [0.15 0.15 0.15 0.15 0.15 0.15 0.15 0.15 0.15 0.15 0.15 0.15 0.15 0.15\n",
      " 0.15 0.15 0.15 0.15 0.15 0.15 0.15 0.15 0.15]\n",
      "Iter 1001/5000 - Loss: 1.661  lengthscale1: [[0.11400001 0.0488    ]]   noise: [0.15 0.15 0.15 0.15 0.15 0.15 0.15 0.15 0.15 0.15 0.15 0.15 0.15 0.15\n",
      " 0.15 0.15 0.15 0.15 0.15 0.15 0.15 0.15 0.15]\n",
      "Iter 1101/5000 - Loss: 1.658  lengthscale1: [[0.11400001 0.0488    ]]   noise: [0.15 0.15 0.15 0.15 0.15 0.15 0.15 0.15 0.15 0.15 0.15 0.15 0.15 0.15\n",
      " 0.15 0.15 0.15 0.15 0.15 0.15 0.15 0.15 0.15]\n",
      "Iter 1201/5000 - Loss: 1.656  lengthscale1: [[0.11400001 0.0488    ]]   noise: [0.15 0.15 0.15 0.15 0.15 0.15 0.15 0.15 0.15 0.15 0.15 0.15 0.15 0.15\n",
      " 0.15 0.15 0.15 0.15 0.15 0.15 0.15 0.15 0.15]\n",
      "Iter 1301/5000 - Loss: 1.655  lengthscale1: [[0.11400001 0.0488    ]]   noise: [0.15 0.15 0.15 0.15 0.15 0.15 0.15 0.15 0.15 0.15 0.15 0.15 0.15 0.15\n",
      " 0.15 0.15 0.15 0.15 0.15 0.15 0.15 0.15 0.15]\n",
      "Iter 1401/5000 - Loss: 1.654  lengthscale1: [[0.11400001 0.0488    ]]   noise: [0.15 0.15 0.15 0.15 0.15 0.15 0.15 0.15 0.15 0.15 0.15 0.15 0.15 0.15\n",
      " 0.15 0.15 0.15 0.15 0.15 0.15 0.15 0.15 0.15]\n",
      "Iter 1501/5000 - Loss: 1.654  lengthscale1: [[0.11400001 0.0488    ]]   noise: [0.15 0.15 0.15 0.15 0.15 0.15 0.15 0.15 0.15 0.15 0.15 0.15 0.15 0.15\n",
      " 0.15 0.15 0.15 0.15 0.15 0.15 0.15 0.15 0.15]\n",
      "Iter 1601/5000 - Loss: 1.654  lengthscale1: [[0.11400001 0.0488    ]]   noise: [0.15 0.15 0.15 0.15 0.15 0.15 0.15 0.15 0.15 0.15 0.15 0.15 0.15 0.15\n",
      " 0.15 0.15 0.15 0.15 0.15 0.15 0.15 0.15 0.15]\n",
      "Iter 1701/5000 - Loss: 1.653  lengthscale1: [[0.11400001 0.0488    ]]   noise: [0.15 0.15 0.15 0.15 0.15 0.15 0.15 0.15 0.15 0.15 0.15 0.15 0.15 0.15\n",
      " 0.15 0.15 0.15 0.15 0.15 0.15 0.15 0.15 0.15]\n",
      "Iter 1801/5000 - Loss: 1.653  lengthscale1: [[0.11400001 0.0488    ]]   noise: [0.15 0.15 0.15 0.15 0.15 0.15 0.15 0.15 0.15 0.15 0.15 0.15 0.15 0.15\n",
      " 0.15 0.15 0.15 0.15 0.15 0.15 0.15 0.15 0.15]\n",
      "Iter 1901/5000 - Loss: 1.653  lengthscale1: [[0.11400001 0.0488    ]]   noise: [0.15 0.15 0.15 0.15 0.15 0.15 0.15 0.15 0.15 0.15 0.15 0.15 0.15 0.15\n",
      " 0.15 0.15 0.15 0.15 0.15 0.15 0.15 0.15 0.15]\n",
      "Iter 2001/5000 - Loss: 1.653  lengthscale1: [[0.11400001 0.0488    ]]   noise: [0.15 0.15 0.15 0.15 0.15 0.15 0.15 0.15 0.15 0.15 0.15 0.15 0.15 0.15\n",
      " 0.15 0.15 0.15 0.15 0.15 0.15 0.15 0.15 0.15]\n",
      "Iter 2101/5000 - Loss: 1.653  lengthscale1: [[0.11400001 0.0488    ]]   noise: [0.15 0.15 0.15 0.15 0.15 0.15 0.15 0.15 0.15 0.15 0.15 0.15 0.15 0.15\n",
      " 0.15 0.15 0.15 0.15 0.15 0.15 0.15 0.15 0.15]\n",
      "Iter 2201/5000 - Loss: 1.653  lengthscale1: [[0.11400001 0.0488    ]]   noise: [0.15 0.15 0.15 0.15 0.15 0.15 0.15 0.15 0.15 0.15 0.15 0.15 0.15 0.15\n",
      " 0.15 0.15 0.15 0.15 0.15 0.15 0.15 0.15 0.15]\n",
      "Iter 2301/5000 - Loss: 1.653  lengthscale1: [[0.11400001 0.0488    ]]   noise: [0.15 0.15 0.15 0.15 0.15 0.15 0.15 0.15 0.15 0.15 0.15 0.15 0.15 0.15\n",
      " 0.15 0.15 0.15 0.15 0.15 0.15 0.15 0.15 0.15]\n",
      "Iter 2401/5000 - Loss: 1.653  lengthscale1: [[0.11400001 0.0488    ]]   noise: [0.15 0.15 0.15 0.15 0.15 0.15 0.15 0.15 0.15 0.15 0.15 0.15 0.15 0.15\n",
      " 0.15 0.15 0.15 0.15 0.15 0.15 0.15 0.15 0.15]\n",
      "Iter 2501/5000 - Loss: 1.653  lengthscale1: [[0.11400001 0.0488    ]]   noise: [0.15 0.15 0.15 0.15 0.15 0.15 0.15 0.15 0.15 0.15 0.15 0.15 0.15 0.15\n",
      " 0.15 0.15 0.15 0.15 0.15 0.15 0.15 0.15 0.15]\n",
      "Iter 2601/5000 - Loss: 1.653  lengthscale1: [[0.11400001 0.0488    ]]   noise: [0.15 0.15 0.15 0.15 0.15 0.15 0.15 0.15 0.15 0.15 0.15 0.15 0.15 0.15\n",
      " 0.15 0.15 0.15 0.15 0.15 0.15 0.15 0.15 0.15]\n",
      "Iter 2701/5000 - Loss: 1.653  lengthscale1: [[0.11400001 0.0488    ]]   noise: [0.15 0.15 0.15 0.15 0.15 0.15 0.15 0.15 0.15 0.15 0.15 0.15 0.15 0.15\n",
      " 0.15 0.15 0.15 0.15 0.15 0.15 0.15 0.15 0.15]\n",
      "Iter 2801/5000 - Loss: 1.653  lengthscale1: [[0.11400001 0.0488    ]]   noise: [0.15 0.15 0.15 0.15 0.15 0.15 0.15 0.15 0.15 0.15 0.15 0.15 0.15 0.15\n",
      " 0.15 0.15 0.15 0.15 0.15 0.15 0.15 0.15 0.15]\n",
      "Iter 2901/5000 - Loss: 1.653  lengthscale1: [[0.11400001 0.0488    ]]   noise: [0.15 0.15 0.15 0.15 0.15 0.15 0.15 0.15 0.15 0.15 0.15 0.15 0.15 0.15\n",
      " 0.15 0.15 0.15 0.15 0.15 0.15 0.15 0.15 0.15]\n",
      "Iter 3001/5000 - Loss: 1.653  lengthscale1: [[0.11400001 0.0488    ]]   noise: [0.15 0.15 0.15 0.15 0.15 0.15 0.15 0.15 0.15 0.15 0.15 0.15 0.15 0.15\n",
      " 0.15 0.15 0.15 0.15 0.15 0.15 0.15 0.15 0.15]\n",
      "Iter 3101/5000 - Loss: 1.653  lengthscale1: [[0.11400001 0.0488    ]]   noise: [0.15 0.15 0.15 0.15 0.15 0.15 0.15 0.15 0.15 0.15 0.15 0.15 0.15 0.15\n",
      " 0.15 0.15 0.15 0.15 0.15 0.15 0.15 0.15 0.15]\n",
      "Iter 3201/5000 - Loss: 1.653  lengthscale1: [[0.11400001 0.0488    ]]   noise: [0.15 0.15 0.15 0.15 0.15 0.15 0.15 0.15 0.15 0.15 0.15 0.15 0.15 0.15\n",
      " 0.15 0.15 0.15 0.15 0.15 0.15 0.15 0.15 0.15]\n",
      "Iter 3301/5000 - Loss: 1.653  lengthscale1: [[0.11400001 0.0488    ]]   noise: [0.15 0.15 0.15 0.15 0.15 0.15 0.15 0.15 0.15 0.15 0.15 0.15 0.15 0.15\n",
      " 0.15 0.15 0.15 0.15 0.15 0.15 0.15 0.15 0.15]\n",
      "Iter 3401/5000 - Loss: 1.653  lengthscale1: [[0.11400001 0.0488    ]]   noise: [0.15 0.15 0.15 0.15 0.15 0.15 0.15 0.15 0.15 0.15 0.15 0.15 0.15 0.15\n",
      " 0.15 0.15 0.15 0.15 0.15 0.15 0.15 0.15 0.15]\n",
      "Iter 3501/5000 - Loss: 1.653  lengthscale1: [[0.11400001 0.0488    ]]   noise: [0.15 0.15 0.15 0.15 0.15 0.15 0.15 0.15 0.15 0.15 0.15 0.15 0.15 0.15\n",
      " 0.15 0.15 0.15 0.15 0.15 0.15 0.15 0.15 0.15]\n",
      "Iter 3601/5000 - Loss: 1.653  lengthscale1: [[0.11400001 0.0488    ]]   noise: [0.15 0.15 0.15 0.15 0.15 0.15 0.15 0.15 0.15 0.15 0.15 0.15 0.15 0.15\n",
      " 0.15 0.15 0.15 0.15 0.15 0.15 0.15 0.15 0.15]\n",
      "Iter 3701/5000 - Loss: 1.653  lengthscale1: [[0.11400001 0.0488    ]]   noise: [0.15 0.15 0.15 0.15 0.15 0.15 0.15 0.15 0.15 0.15 0.15 0.15 0.15 0.15\n",
      " 0.15 0.15 0.15 0.15 0.15 0.15 0.15 0.15 0.15]\n",
      "Iter 3801/5000 - Loss: 1.653  lengthscale1: [[0.11400001 0.0488    ]]   noise: [0.15 0.15 0.15 0.15 0.15 0.15 0.15 0.15 0.15 0.15 0.15 0.15 0.15 0.15\n",
      " 0.15 0.15 0.15 0.15 0.15 0.15 0.15 0.15 0.15]\n",
      "Iter 3901/5000 - Loss: 1.653  lengthscale1: [[0.11400001 0.0488    ]]   noise: [0.15 0.15 0.15 0.15 0.15 0.15 0.15 0.15 0.15 0.15 0.15 0.15 0.15 0.15\n",
      " 0.15 0.15 0.15 0.15 0.15 0.15 0.15 0.15 0.15]\n",
      "Iter 4001/5000 - Loss: 1.653  lengthscale1: [[0.11400001 0.0488    ]]   noise: [0.15 0.15 0.15 0.15 0.15 0.15 0.15 0.15 0.15 0.15 0.15 0.15 0.15 0.15\n",
      " 0.15 0.15 0.15 0.15 0.15 0.15 0.15 0.15 0.15]\n",
      "Iter 4101/5000 - Loss: 1.653  lengthscale1: [[0.11400001 0.0488    ]]   noise: [0.15 0.15 0.15 0.15 0.15 0.15 0.15 0.15 0.15 0.15 0.15 0.15 0.15 0.15\n",
      " 0.15 0.15 0.15 0.15 0.15 0.15 0.15 0.15 0.15]\n",
      "Iter 4201/5000 - Loss: 1.653  lengthscale1: [[0.11400001 0.0488    ]]   noise: [0.15 0.15 0.15 0.15 0.15 0.15 0.15 0.15 0.15 0.15 0.15 0.15 0.15 0.15\n",
      " 0.15 0.15 0.15 0.15 0.15 0.15 0.15 0.15 0.15]\n",
      "Iter 4301/5000 - Loss: 1.653  lengthscale1: [[0.11400001 0.0488    ]]   noise: [0.15 0.15 0.15 0.15 0.15 0.15 0.15 0.15 0.15 0.15 0.15 0.15 0.15 0.15\n",
      " 0.15 0.15 0.15 0.15 0.15 0.15 0.15 0.15 0.15]\n",
      "Iter 4401/5000 - Loss: 1.653  lengthscale1: [[0.11400001 0.0488    ]]   noise: [0.15 0.15 0.15 0.15 0.15 0.15 0.15 0.15 0.15 0.15 0.15 0.15 0.15 0.15\n",
      " 0.15 0.15 0.15 0.15 0.15 0.15 0.15 0.15 0.15]\n",
      "Iter 4501/5000 - Loss: 1.653  lengthscale1: [[0.11400001 0.0488    ]]   noise: [0.15 0.15 0.15 0.15 0.15 0.15 0.15 0.15 0.15 0.15 0.15 0.15 0.15 0.15\n",
      " 0.15 0.15 0.15 0.15 0.15 0.15 0.15 0.15 0.15]\n",
      "Iter 4601/5000 - Loss: 1.653  lengthscale1: [[0.11400001 0.0488    ]]   noise: [0.15 0.15 0.15 0.15 0.15 0.15 0.15 0.15 0.15 0.15 0.15 0.15 0.15 0.15\n",
      " 0.15 0.15 0.15 0.15 0.15 0.15 0.15 0.15 0.15]\n",
      "Iter 4701/5000 - Loss: 1.653  lengthscale1: [[0.11400001 0.0488    ]]   noise: [0.15 0.15 0.15 0.15 0.15 0.15 0.15 0.15 0.15 0.15 0.15 0.15 0.15 0.15\n",
      " 0.15 0.15 0.15 0.15 0.15 0.15 0.15 0.15 0.15]\n",
      "Iter 4801/5000 - Loss: 1.653  lengthscale1: [[0.11400001 0.0488    ]]   noise: [0.15 0.15 0.15 0.15 0.15 0.15 0.15 0.15 0.15 0.15 0.15 0.15 0.15 0.15\n",
      " 0.15 0.15 0.15 0.15 0.15 0.15 0.15 0.15 0.15]\n",
      "Iter 4901/5000 - Loss: 1.653  lengthscale1: [[0.11400001 0.0488    ]]   noise: [0.15 0.15 0.15 0.15 0.15 0.15 0.15 0.15 0.15 0.15 0.15 0.15 0.15 0.15\n",
      " 0.15 0.15 0.15 0.15 0.15 0.15 0.15 0.15 0.15]\n",
      "1.819177\n"
     ]
    }
   ],
   "metadata": {}
  },
  {
   "cell_type": "markdown",
   "source": [
    "### GP Training Results"
   ],
   "metadata": {}
  },
  {
   "cell_type": "code",
   "execution_count": 265,
   "source": [
    "import matplotlib.pyplot as plt\n",
    "from sklearn.metrics import mean_squared_error, mean_absolute_error,r2_score\n",
    "from scipy.stats import spearmanr\n",
    "import matplotlib.pyplot as plt \n",
    "from plotter import prettyplot"
   ],
   "outputs": [],
   "metadata": {}
  },
  {
   "cell_type": "code",
   "execution_count": 266,
   "source": [
    "# get error metrics\n",
    "def get_err(train_y, y_preds_mean):\n",
    "    rmse = np.sqrt(mean_squared_error(train_y, y_preds_mean))\n",
    "    mae = mean_absolute_error(train_y,  y_preds_mean)\n",
    "    spearman = spearmanr(train_y, y_preds_mean)[0]\n",
    "    r2 = r2_score(train_y, y_preds_mean)\n",
    "    return [round_three(i) for i in [rmse, mae, spearman, r2]]\n",
    "\n",
    "def plot_err(axes, train_y, y_preds_mean, err_vals, fs):\n",
    "    # training versus actuals plot: make plot, set title and axes values\n",
    "    axes[0].scatter(train_y, y_preds_mean)\n",
    "    low_lim, upp_lim = int(min(train_y).item()), int(max(train_y).item())\n",
    "    axes[0].plot(np.linspace(low_lim, upp_lim), np.linspace(low_lim, upp_lim), 'k--')\n",
    "    axes[0].set_xlabel('Ground Truth 2 Qsw/(U+|D|) 1e6', fontsize = fs)\n",
    "    axes[0].set_ylabel('Prediction 2 Qsw/(U+|D|) 1e6', fontsize = fs)\n",
    "    axes[0].set_title('GP Training Results' + \" (MAE=%.2f\" % err_vals[1]+' [%])', fontsize = fs)\n",
    "\n",
    "def plot_training_loss(axes, loss_lst, fs):\n",
    "    axes[1].plot(loss_lst, 'o-')\n",
    "    title = 'Training Loss'\n",
    "    axes[1].set_xlabel('Epoch (Per 100)', fontsize = fs)\n",
    "    axes[1].set_ylabel('Marginal Log Likelihood', fontsize = fs)\n",
    "    axes[1].set_title(title, fontsize = fs)\n",
    "\n",
    "def plot_gp_res(train_y, y_preds_mean, loss_lst):\n",
    "    # plot training results\n",
    "    fig, axes = plt.subplots(1, 3, figsize=(5.5*3, 4.5))\n",
    "    fs = 14\n",
    "\n",
    "    # print error metrics\n",
    "    err_vals = get_err(train_y, y_preds_mean)\n",
    "    data = {'Metric': ['RMSE', 'MAE', 'Spearman', 'R² score'], 'Value': err_vals}\n",
    "    df = pd.DataFrame(data)\n",
    "    print(df)\n",
    "\n",
    "    # plot error, training loss\n",
    "    plot_err(axes, train_y, y_preds_mean, err_vals, fs)\n",
    "    if loss_lst: plot_training_loss(axes, loss_lst, fs)\n",
    "    else: axes[1].axis(\"off\")\n",
    "    axes[2].axis(\"off\")\n",
    "\n",
    "    for i in range(len(axes)):\n",
    "        axes[i].tick_params(direction='in', length=5, width=1, labelsize = fs*.8)\n",
    "    plt.subplots_adjust(wspace = 0.4)\n",
    "\n",
    "    plt.show()"
   ],
   "outputs": [],
   "metadata": {}
  },
  {
   "cell_type": "code",
   "execution_count": 267,
   "source": [
    "round_three = lambda val: np.round(val, 3) \n",
    "y_preds = likelihood(model(train_x))\n",
    "with torch.no_grad(): y_preds_mean = y_preds.mean.numpy()\n",
    "prettyplot()\n",
    "plot_gp_res(train_y, y_preds_mean, loss_lst)"
   ],
   "outputs": [
    {
     "output_type": "stream",
     "name": "stdout",
     "text": [
      "     Metric  Value\n",
      "0      RMSE  0.147\n",
      "1       MAE  0.122\n",
      "2  Spearman  0.980\n",
      "3  R² score  0.986\n"
     ]
    },
    {
     "output_type": "stream",
     "name": "stderr",
     "text": [
      "/Users/valenetjong/opt/anaconda3/envs/FEGP/lib/python3.9/site-packages/gpytorch/models/exact_gp.py:274: GPInputWarning:\n",
      "\n",
      "The input matches the stored training data. Did you forget to call model.train()?\n",
      "\n"
     ]
    },
    {
     "output_type": "display_data",
     "data": {
      "image/png": "[encoded data removed]",
      "text/plain": [
       "<Figure size 3300x900 with 3 Axes>"
      ]
     },
     "metadata": {}
    }
   ],
   "metadata": {}
  },
  {
   "cell_type": "code",
   "execution_count": 268,
   "source": [
    "# acquisition function for prediction/exploration\n",
    "def get_bounds(n): return [n for i in range(config.dim)]\n",
    "\n",
    "def unravel_acq(acq_func, obs, bounds, train_y, nshape):\n",
    "    \"\"\" \n",
    "    [unravel_acq(acq_func, obs, bounds, train_y, nshape)] is a helper function \n",
    "    for acq that returns the coordinates of the maximum value of the acq_func \n",
    "    over the test grid in the form of a tuple (row_index, column_index). \n",
    "\n",
    "    row_index = index into time\n",
    "    column_index = index into energy density\n",
    "    \"\"\"\n",
    "    acq = acq_func(obs, bounds, train_y).detach().numpy().reshape(nshape).T\n",
    "    return np.unravel_index(acq.argmax(), acq.shape)\n",
    "\n",
    "def acq(obs, train_y, bounds):\n",
    "    \"\"\" \n",
    "    [acq(obs, train_y, bounds)] evaluates acquisition functions on current \n",
    "    predictions (observations) and outputs suggested points for exploration \n",
    "    on manifold. \n",
    "    \"\"\"\n",
    "    transpose = lambda tensor: tensor.detach().numpy().reshape(nshape).T\n",
    "    nshape = tuple(bounds)\n",
    "\n",
    "    pi = unravel_acq(PI, obs, bounds, train_y, nshape) # prob of improvement\n",
    "    ei = unravel_acq(EI, obs, bounds, train_y, nshape) # expected improvement\n",
    "    ca = unravel_acq(cust_acq, obs, bounds, train_y, nshape) # custom acq\n",
    "    th = unravel_acq(thompson, obs, bounds, train_y, nshape) # thompson acq\n",
    "\n",
    "    lower, upper = obs.confidence_region()\n",
    "    upper_surf, lower_surf = transpose(upper), transpose(lower)\n",
    "    ucb = np.unravel_index(upper_surf.argmax(), upper_surf.shape)\n",
    "\n",
    "    pred_var = obs.variance.view(nshape).detach().numpy().T\n",
    "    pred_labels = obs.mean.view(nshape)\n",
    "    max_var = np.unravel_index(pred_var.argmax(), pred_var.shape)\n",
    "\n",
    "    # acqs gives pairs corresponding to indices of time and energy density recommendations in grid\n",
    "    # pairs index into pred_labels \n",
    "    acqs = {\"PI\":pi, \"EI\":ei, \"CA\":ca, \"TH\":th, \"UCB\":ucb, \"Max_var\":max_var}\n",
    "\n",
    "    return pred_labels, upper_surf, lower_surf, acqs"
   ],
   "outputs": [],
   "metadata": {}
  },
  {
   "cell_type": "code",
   "execution_count": 269,
   "source": [
    "# export predictions to csv\n",
    "def pred_to_csv(acqs, raw_pred_labels, raw_test_grid, file_out = \"preds.csv\"):\n",
    "    \"\"\"\n",
    "    [pred_to_csv(acqs, raw_pred_labels, raw_test_grid)] outputs suggested\n",
    "    inputs and their respective predicted outputs to csv; returns suggested point\n",
    "    corresponding to ucb acquisition.\n",
    "    \"\"\"   \n",
    "    dir = \"/Users/valenetjong/Bayesian-Optimization-Ferroelectrics/predictions/\"\n",
    "    file = open(dir + file_out, \"w\", encoding=\"utf-8\")\n",
    "    file.write(\"Energy density \\t Time (ms)\\n\")\n",
    "    data = {'Time(ms)':[], 'Energy density new cone (J/cm^2)':[], '2 Qsw/(U+|D|) 1e6':[]}\n",
    "    ucb = []\n",
    "    for lab, coords in acqs.items(): \n",
    "        time_val = raw_test_grid[coords[1]].tolist()[0]\n",
    "        energy_den_val = raw_test_grid[coords[0]].tolist()[1]\n",
    "        data['Time(ms)'].append(time_val)\n",
    "        data['Energy density new cone (J/cm^2)'].append(energy_den_val)\n",
    "        file.write(lab + \": \" + str(time_val) + \"\\t\" + str(energy_den_val) + \"\\n\")\n",
    "        if lab == \"UCB\": ucb.append(time_val*1000), ucb.append(energy_den_val)\n",
    "\n",
    "    file.write(\"\\nFigure of merit\\n\")\n",
    "    for lab, coords in acqs.items():\n",
    "        fig_of_merit = raw_pred_labels[coords].item()\n",
    "        data['2 Qsw/(U+|D|) 1e6'].append(fig_of_merit)\n",
    "        file.write(lab + \": \" + str(fig_of_merit) + \"\\n\")\n",
    "        if lab == \"UCB\": ucb.append(fig_of_merit)\n",
    "\n",
    "    df = pd.DataFrame(data)\n",
    "    print(df)\n",
    "    return ucb\n"
   ],
   "outputs": [],
   "metadata": {}
  },
  {
   "cell_type": "code",
   "execution_count": 270,
   "source": [
    "# get normalized predictions\n",
    "bounds = get_bounds(n=30)\n",
    "pred_labels, upper_surf, lower_surf, acqs = acq(obs, train_y, bounds)\n",
    "\n",
    "# undo scaling\n",
    "raw_train_x, raw_test_grid = un_norm_all(train_x, test_grid, scaler)\n"
   ],
   "outputs": [],
   "metadata": {}
  },
  {
   "cell_type": "markdown",
   "source": [
    "### Save Predictions and Visualize "
   ],
   "metadata": {}
  },
  {
   "cell_type": "code",
   "execution_count": 271,
   "source": [
    "# undo normalization and save to csv\n",
    "ucb = pred_to_csv(acqs, pred_labels, raw_test_grid)\n",
    "print(ucb)"
   ],
   "outputs": [
    {
     "output_type": "stream",
     "name": "stdout",
     "text": [
      "   Time(ms)  Energy density new cone (J/cm^2)  2 Qsw/(U+|D|) 1e6\n",
      "0  1.336823                          8.850209           2.532398\n",
      "1  1.336823                          8.850209           2.532398\n",
      "2  4.163177                         14.954765           2.576207\n",
      "3  4.329433                         15.424347           2.694455\n",
      "4  1.170567                          8.850209           2.501390\n",
      "5  5.160714                          2.276071           2.465462\n",
      "[1170.5665364861488, 8.850209122655428, 2.5013904571533203]\n"
     ]
    }
   ],
   "metadata": {}
  },
  {
   "cell_type": "code",
   "execution_count": 272,
   "source": [
    "# visualize acquisition function results and confidence bound surfaces\n",
    "vis_pred(raw_train_x, train_y, raw_test_grid, pred_labels)\n",
    "vis_acq(raw_train_x, train_y, raw_test_grid, pred_labels, upper_surf, lower_surf, acqs)"
   ],
   "outputs": [
    {
     "output_type": "display_data",
     "data": {
      "application/vnd.plotly.v1+json": {
       "data": [
        {
         "name": "GP regression",
         "x": [
          0.33928570710122585,
          0.5055418629199266,
          0.6717980187386274,
          0.8380541577935219,
          1.0043103471398354,
          1.1705665364861488,
          1.336822658777237,
          1.503078781068325,
          1.6693349033594131,
          1.8355910927057266,
          2.0018471479415894,
          2.168103337287903,
          2.3343595266342168,
          2.5006157159805302,
          2.6668719053268437,
          2.833128094673157,
          2.9993842840194707,
          3.165640473365784,
          3.3318966627120976,
          3.4981525838375096,
          3.664408773183823,
          3.8306649625301366,
          3.99692115187645,
          4.163177341222764,
          4.329433262348176,
          4.495689451694489,
          4.661945641040803,
          4.828201830387116,
          4.99445801973343,
          5.160714209079743
         ],
         "y": [
          2.276071443020234,
          2.745652702469288,
          3.215233961918342,
          3.684815174018958,
          4.154396528164888,
          4.623977882310818,
          5.093559047062996,
          5.563140211815174,
          6.032721376567352,
          6.502302730713282,
          6.971883706071708,
          7.441465060217638,
          7.911046414363568,
          8.380627768509498,
          8.850209122655428,
          9.319790476801359,
          9.789371830947289,
          10.258953185093219,
          10.72853453923915,
          11.19811513581007,
          11.667696489956,
          12.13727784410193,
          12.60685919824786,
          13.076440552393791,
          13.546021148964712,
          14.015602503110642,
          14.485183857256573,
          14.954765211402503,
          15.424346565548433,
          15.893927919694363
         ],
         "z": [
          [
           1.8130136728286743,
           1.7633634805679321,
           1.8119077682495117,
           1.920520305633545,
           2.036482334136963,
           2.1361818313598633,
           2.2153804302215576,
           2.276506185531616,
           2.3232264518737793,
           2.35880970954895,
           2.3858394622802734,
           2.4063000679016113,
           2.421715497970581,
           2.433265447616577,
           2.441866874694824,
           2.448232650756836,
           2.452914237976074,
           2.456336498260498,
           2.4588236808776855,
           2.4606213569641113,
           2.4619140625,
           2.462839365005493,
           2.46349835395813,
           2.463966131210327,
           2.464296817779541,
           2.4645297527313232,
           2.464693546295166,
           2.464808464050293,
           2.46488881111145,
           2.4649453163146973
          ],
          [
           1.4615072011947632,
           1.0618057250976562,
           1.4661588668823242,
           1.7479851245880127,
           1.9355995655059814,
           2.0663602352142334,
           2.162419080734253,
           2.2356176376342773,
           2.29226016998291,
           2.336090564727783,
           2.3697350025177,
           2.395273208618164,
           2.414429187774658,
           2.428633451461792,
           2.439053535461426,
           2.4466233253479004,
           2.452073097229004,
           2.4559648036956787,
           2.458723545074463,
           2.460665702819824,
           2.462024688720703,
           2.462970018386841,
           2.4636244773864746,
           2.4640748500823975,
           2.464383840560913,
           2.464594841003418,
           2.464738607406616,
           2.464836359024048,
           2.464902877807617,
           2.4649484157562256
          ],
          [
           2.1634714603424072,
           2.195021152496338,
           2.106473445892334,
           2.0387444496154785,
           2.0366125106811523,
           2.0799527168273926,
           2.1450741291046143,
           2.2131028175354004,
           2.2738263607025146,
           2.323704957962036,
           2.3626763820648193,
           2.392117977142334,
           2.4138131141662598,
           2.4294888973236084,
           2.4406328201293945,
           2.448446273803711,
           2.4538583755493164,
           2.457566738128662,
           2.4600818157196045,
           2.4617717266082764,
           2.4628965854644775,
           2.4636383056640625,
           2.464122772216797,
           2.4644360542297363,
           2.4646365642547607,
           2.464763641357422,
           2.464843511581421,
           2.4648938179016113,
           2.464925527572632,
           2.4649460315704346
          ],
          [
           2.155336618423462,
           2.1468827724456787,
           2.047455072402954,
           1.9216493368148804,
           1.85185968875885,
           1.9544862508773804,
           2.0805954933166504,
           2.185903787612915,
           2.267957925796509,
           2.329296827316284,
           2.3736608028411865,
           2.4048495292663574,
           2.4262301921844482,
           2.4405572414398193,
           2.449955463409424,
           2.455993413925171,
           2.459789752960205,
           2.4621195793151855,
           2.463507890701294,
           2.464303970336914,
           2.464735269546509,
           2.4649479389190674,
           2.465034246444702,
           2.4650511741638184,
           2.4650332927703857,
           2.465001344680786,
           2.4649665355682373,
           2.464935064315796,
           2.464909791946411,
           2.4648921489715576
          ],
          [
           1.5064876079559326,
           1.3883888721466064,
           1.4610861539840698,
           1.6256812810897827,
           1.7968180179595947,
           1.9671672582626343,
           2.1207151412963867,
           2.241964817047119,
           2.329575300216675,
           2.388758659362793,
           2.4263668060302734,
           2.448840856552124,
           2.461369276046753,
           2.4677226543426514,
           2.4704432487487793,
           2.4711501598358154,
           2.4708268642425537,
           2.4700465202331543,
           2.469125986099243,
           2.468228816986084,
           2.4674298763275146,
           2.4667551517486572,
           2.46620512008667,
           2.465768337249756,
           2.465428590774536,
           2.46517014503479,
           2.464977502822876,
           2.4648385047912598,
           2.4647421836853027,
           2.4646799564361572
          ],
          [
           1.3881464004516602,
           1.1295006275177002,
           1.4346439838409424,
           1.7517694234848022,
           1.9998559951782227,
           2.1974802017211914,
           2.3494551181793213,
           2.4546899795532227,
           2.514936685562134,
           2.5398199558258057,
           2.542830228805542,
           2.5351476669311523,
           2.523662805557251,
           2.51190185546875,
           2.5013904571533203,
           2.49261736869812,
           2.4855825901031494,
           2.480085849761963,
           2.4758665561676025,
           2.4726691246032715,
           2.470269203186035,
           2.4684813022613525,
           2.467158079147339,
           2.466184616088867,
           2.4654741287231445,
           2.464961290359497,
           2.4645979404449463,
           2.4643478393554688,
           2.4641849994659424,
           2.464089870452881
          ],
          [
           1.9889287948608398,
           1.8953516483306885,
           2.086651086807251,
           2.270925283432007,
           2.4419689178466797,
           2.616124153137207,
           2.7812790870666504,
           2.881730556488037,
           2.859255790710449,
           2.7811496257781982,
           2.704545021057129,
           2.6423287391662598,
           2.594597578048706,
           2.5588436126708984,
           2.532397985458374,
           2.5129919052124023,
           2.498831272125244,
           2.4885425567626953,
           2.4810917377471924,
           2.4757094383239746,
           2.471827745437622,
           2.4690310955047607,
           2.467017889022827,
           2.465571165084839,
           2.464536428451538,
           2.4638049602508545,
           2.4633002281188965,
           2.4629688262939453,
           2.4627723693847656,
           2.4626829624176025
          ],
          [
           2.5370850563049316,
           2.6623806953430176,
           2.6772406101226807,
           2.7307820320129395,
           2.8294081687927246,
           2.944432020187378,
           3.062498092651367,
           3.121854543685913,
           3.030740737915039,
           2.8956706523895264,
           2.7811617851257324,
           2.693432569503784,
           2.6283061504364014,
           2.5806491374969482,
           2.546072006225586,
           2.521136999130249,
           2.503242254257202,
           2.4904489517211914,
           2.481327533721924,
           2.4748315811157227,
           2.470201253890991,
           2.466891288757324,
           2.4645156860351562,
           2.4628050327301025,
           2.461576461791992,
           2.460707664489746,
           2.4601190090179443,
           2.4597580432891846,
           2.4595890045166016,
           2.4595839977264404
          ],
          [
           2.719804048538208,
           2.8300156593322754,
           2.956843137741089,
           3.085507392883301,
           3.1653318405151367,
           3.1523842811584473,
           3.0816574096679688,
           2.994718551635742,
           2.9031481742858887,
           2.812723398208618,
           2.73073148727417,
           2.661841869354248,
           2.60701847076416,
           2.564969062805176,
           2.5335471630096436,
           2.5105199813842773,
           2.4938957691192627,
           2.482024669647217,
           2.4736006259918213,
           2.467623472213745,
           2.463350534439087,
           2.46024751663208,
           2.45794677734375,
           2.4562079906463623,
           2.4548871517181396,
           2.4539082050323486,
           2.4532389640808105,
           2.4528701305389404,
           2.4527978897094727,
           2.453011989593506
          ],
          [
           2.7436912059783936,
           2.8479228019714355,
           2.991619825363159,
           3.205150604248047,
           3.457564353942871,
           3.2111496925354004,
           3.018311023712158,
           2.887544631958008,
           2.7887916564941406,
           2.7096519470214844,
           2.6450459957122803,
           2.5928163528442383,
           2.5516436100006104,
           2.520200252532959,
           2.4969723224639893,
           2.480351448059082,
           2.4687857627868652,
           2.460895538330078,
           2.455535411834717,
           2.4518117904663086,
           2.4490694999694824,
           2.4468650817871094,
           2.444934368133545,
           2.44316029548645,
           2.441540479660034,
           2.440153121948242,
           2.4391214847564697,
           2.438575267791748,
           2.4386143684387207,
           2.4392809867858887
          ],
          [
           2.684591293334961,
           2.7235474586486816,
           2.742239475250244,
           2.719198226928711,
           2.6836345195770264,
           2.7138421535491943,
           2.725860834121704,
           2.6951682567596436,
           2.643886089324951,
           2.588822841644287,
           2.5388400554656982,
           2.4979636669158936,
           2.467362880706787,
           2.446439743041992,
           2.433586359024048,
           2.426780939102173,
           2.4240236282348633,
           2.4235944747924805,
           2.42415714263916,
           2.4247632026672363,
           2.4248077869415283,
           2.423973321914673,
           2.4221858978271484,
           2.419581413269043,
           2.4164793491363525,
           2.413346767425537,
           2.4107348918914795,
           2.4091827869415283,
           2.4091031551361084,
           2.410684108734131
          ],
          [
           2.6847500801086426,
           2.7359652519226074,
           2.790741205215454,
           2.839878559112549,
           2.8545963764190674,
           2.808547019958496,
           2.726536989212036,
           2.634958267211914,
           2.5445992946624756,
           2.463109254837036,
           2.3974990844726562,
           2.352199077606201,
           2.327561378479004,
           2.3202686309814453,
           2.3251068592071533,
           2.336785078048706,
           2.351008176803589,
           2.364776611328125,
           2.376234531402588,
           2.3843698501586914,
           2.388737201690674,
           2.3892698287963867,
           2.386197566986084,
           2.380051851272583,
           2.3717331886291504,
           2.3625714778900146,
           2.354285955429077,
           2.3487355709075928,
           2.3474457263946533,
           2.3510982990264893
          ],
          [
           2.710937261581421,
           2.783676862716675,
           2.8740158081054688,
           2.9782962799072266,
           3.0401558876037598,
           2.9378669261932373,
           2.779399871826172,
           2.60428524017334,
           2.420985460281372,
           2.2512569427490234,
           2.1249306201934814,
           2.060992956161499,
           2.0555272102355957,
           2.088879346847534,
           2.140078067779541,
           2.1943249702453613,
           2.243382215499878,
           2.2835235595703125,
           2.3135507106781006,
           2.333463668823242,
           2.343695640563965,
           2.34474778175354,
           2.337104558944702,
           2.321397304534912,
           2.298828601837158,
           2.271862030029297,
           2.244974374771118,
           2.22470760345459,
           2.2177863121032715,
           2.2274258136749268
          ],
          [
           2.71557354927063,
           2.7870535850524902,
           2.86802077293396,
           2.947911500930786,
           3.005756378173828,
           3.01053524017334,
           2.9190168380737305,
           2.679523229598999,
           2.2797231674194336,
           1.8095685243606567,
           1.4708131551742554,
           1.417712688446045,
           1.547903299331665,
           1.7225053310394287,
           1.8847038745880127,
           2.018606185913086,
           2.1224935054779053,
           2.199230194091797,
           2.2526938915252686,
           2.286353349685669,
           2.3027188777923584,
           2.3031678199768066,
           2.28794527053833,
           2.2563157081604004,
           2.2070178985595703,
           2.1395792961120605,
           2.0579941272735596,
           1.9795478582382202,
           1.943494200706482,
           1.9797468185424805
          ],
          [
           2.708815097808838,
           2.7868001461029053,
           2.887578010559082,
           3.0175695419311523,
           3.185405969619751,
           3.399855852127075,
           3.645148277282715,
           3.6306345462799072,
           2.7088894844055176,
           1.565211296081543,
           0.7174675464630127,
           0.8065485954284668,
           1.1485905647277832,
           1.4670796394348145,
           1.7234323024749756,
           1.9174046516418457,
           2.05881404876709,
           2.1585686206817627,
           2.225792646408081,
           2.2671799659729004,
           2.287062883377075,
           2.287621021270752,
           2.2690181732177734,
           2.2293925285339355,
           2.1646647453308105,
           2.0681564807891846,
           1.9300923347473145,
           1.738014578819275,
           1.5252761840820312,
           1.7277271747589111
          ],
          [
           2.6746833324432373,
           2.741894245147705,
           2.828639030456543,
           2.9383888244628906,
           3.0708048343658447,
           3.209848165512085,
           3.2850589752197266,
           3.1006507873535156,
           2.4869542121887207,
           1.6014741659164429,
           0.7810842990875244,
           1.0089447498321533,
           1.3406000137329102,
           1.6176413297653198,
           1.833958387374878,
           1.9963774681091309,
           2.114915370941162,
           2.1989200115203857,
           2.2558815479278564,
           2.2912893295288086,
           2.308824062347412,
           2.310622215270996,
           2.297565221786499,
           2.2696502208709717,
           2.2266626358032227,
           2.169654607772827,
           2.1041836738586426,
           2.045788049697876,
           2.0210578441619873,
           2.0469729900360107
          ],
          [
           2.6183528900146484,
           2.6602203845977783,
           2.708604335784912,
           2.7598717212677,
           2.8051252365112305,
           2.8274686336517334,
           2.8025479316711426,
           2.7097432613372803,
           2.5551278591156006,
           2.3826162815093994,
           2.237372636795044,
           2.135692596435547,
           2.1011312007904053,
           2.121774673461914,
           2.1678452491760254,
           2.2190372943878174,
           2.2653043270111084,
           2.302680730819702,
           2.3301942348480225,
           2.3481290340423584,
           2.3571584224700928,
           2.3579845428466797,
           2.3512825965881348,
           2.337867021560669,
           2.319052219390869,
           2.297158718109131,
           2.275939702987671,
           2.260385751724243,
           2.2552709579467773,
           2.2628042697906494
          ],
          [
           2.568666934967041,
           2.5932204723358154,
           2.620272397994995,
           2.6481146812438965,
           2.674165964126587,
           2.6956961154937744,
           2.7118310928344727,
           2.727074146270752,
           2.755918264389038,
           2.8277039527893066,
           2.9080235958099365,
           2.7310261726379395,
           2.579975128173828,
           2.4933278560638428,
           2.4463138580322266,
           2.423077344894409,
           2.4133169651031494,
           2.410417318344116,
           2.410271167755127,
           2.410423994064331,
           2.409484386444092,
           2.4067509174346924,
           2.4020113945007324,
           2.395458698272705,
           2.3876774311065674,
           2.3796379566192627,
           2.372615098953247,
           2.3679704666137695,
           2.3668010234832764,
           2.3695855140686035
          ],
          [
           2.5366945266723633,
           2.5540692806243896,
           2.5745911598205566,
           2.598618268966675,
           2.6266350746154785,
           2.6592113971710205,
           2.696410655975342,
           2.735722303390503,
           2.7675254344940186,
           2.772374153137207,
           2.750504732131958,
           2.736405372619629,
           2.6987504959106445,
           2.641458511352539,
           2.5855071544647217,
           2.540404796600342,
           2.5073814392089844,
           2.484387159347534,
           2.4686801433563232,
           2.457828998565674,
           2.449983835220337,
           2.443868398666382,
           2.438689708709717,
           2.4340426921844482,
           2.429824113845825,
           2.4261536598205566,
           2.4232873916625977,
           2.4215197563171387,
           2.4210824966430664,
           2.4220635890960693
          ],
          [
           2.517052173614502,
           2.5311856269836426,
           2.549227714538574,
           2.5725386142730713,
           2.603154182434082,
           2.644178867340088,
           2.7004287242889404,
           2.779364824295044,
           2.891176462173462,
           3.0378577709198,
           3.1332345008850098,
           3.0202085971832275,
           2.8611316680908203,
           2.739516019821167,
           2.6534156799316406,
           2.5928666591644287,
           2.550271987915039,
           2.52036452293396,
           2.499418020248413,
           2.484744071960449,
           2.474402904510498,
           2.4670169353485107,
           2.461634635925293,
           2.457627058029175,
           2.454603910446167,
           2.452345371246338,
           2.4507429599761963,
           2.449751377105713,
           2.4493448734283447,
           2.449488878250122
          ],
          [
           2.5026280879974365,
           2.513436794281006,
           2.5274360179901123,
           2.545600175857544,
           2.5691211223602295,
           2.5992798805236816,
           2.636986494064331,
           2.681586980819702,
           2.7284908294677734,
           2.7664599418640137,
           2.779733419418335,
           2.7602791786193848,
           2.7168784141540527,
           2.6656486988067627,
           2.6179239749908447,
           2.5782952308654785,
           2.5473530292510986,
           2.5240557193756104,
           2.5069351196289062,
           2.494584083557129,
           2.4858133792877197,
           2.479677438735962,
           2.4754488468170166,
           2.472580671310425,
           2.4706668853759766,
           2.4694080352783203,
           2.46858549118042,
           2.4680404663085938,
           2.4676613807678223,
           2.4673733711242676
          ],
          [
           2.490649461746216,
           2.4977762699127197,
           2.5067362785339355,
           2.517852544784546,
           2.531352996826172,
           2.547206401824951,
           2.5648672580718994,
           2.5829684734344482,
           2.5991415977478027,
           2.6103105545043945,
           2.6137142181396484,
           2.6082875728607178,
           2.595318078994751,
           2.5777432918548584,
           2.55875563621521,
           2.5407838821411133,
           2.5252134799957275,
           2.5125746726989746,
           2.502856492996216,
           2.4957680702209473,
           2.4909067153930664,
           2.487849473953247,
           2.486192226409912,
           2.485560894012451,
           2.485609531402588,
           2.4860165119171143,
           2.486485481262207,
           2.4867587089538574,
           2.486642837524414,
           2.486034870147705
          ],
          [
           2.4812464714050293,
           2.4853732585906982,
           2.490344762802124,
           2.496199369430542,
           2.5028812885284424,
           2.510188341140747,
           2.517719030380249,
           2.524852752685547,
           2.53079891204834,
           2.5347464084625244,
           2.5360867977142334,
           2.534630298614502,
           2.530690908432007,
           2.5249929428100586,
           2.5184519290924072,
           2.5119473934173584,
           2.5061755180358887,
           2.5015997886657715,
           2.4984700679779053,
           2.49686861038208,
           2.4967565536499023,
           2.49800443649292,
           2.5004079341888428,
           2.5036866664886475,
           2.507479429244995,
           2.5113353729248047,
           2.514712333679199,
           2.5170085430145264,
           2.517681837081909,
           2.516475200653076
          ],
          [
           2.4746763706207275,
           2.476871967315674,
           2.4794161319732666,
           2.4822866916656494,
           2.4854180812835693,
           2.488691806793213,
           2.491931438446045,
           2.4949138164520264,
           2.4973981380462646,
           2.499171018600464,
           2.5001015663146973,
           2.5001842975616455,
           2.4995579719543457,
           2.4984893798828125,
           2.497333288192749,
           2.4964799880981445,
           2.496311664581299,
           2.49717378616333,
           2.4993579387664795,
           2.5030934810638428,
           2.5085361003875732,
           2.515742063522339,
           2.5246315002441406,
           2.534938097000122,
           2.54616117477417,
           2.5575385093688965,
           2.5680367946624756,
           2.576206684112549,
           2.579610824584961,
           2.5761466026306152
          ],
          [
           2.470534563064575,
           2.471656560897827,
           2.4729208946228027,
           2.4743103981018066,
           2.475792407989502,
           2.4773201942443848,
           2.478834390640259,
           2.480271577835083,
           2.4815752506256104,
           2.482713460922241,
           2.4836935997009277,
           2.484577178955078,
           2.4854896068573,
           2.486621141433716,
           2.488224983215332,
           2.490612268447876,
           2.4941468238830566,
           2.499241590499878,
           2.5063540935516357,
           2.515974283218384,
           2.528595209121704,
           2.5446479320526123,
           2.564382314682007,
           2.5876708030700684,
           2.613732099533081,
           2.6408331394195557,
           2.6661291122436523,
           2.6857964992523193,
           2.694455146789551,
           2.686480760574341
          ],
          [
           2.4681153297424316,
           2.4686903953552246,
           2.469331979751587,
           2.4700348377227783,
           2.4707915782928467,
           2.471592903137207,
           2.4724314212799072,
           2.47330641746521,
           2.4742300510406494,
           2.475235939025879,
           2.476386785507202,
           2.4777863025665283,
           2.4795870780944824,
           2.482003688812256,
           2.4853250980377197,
           2.4899306297302246,
           2.4963109493255615,
           2.505092144012451,
           2.517066240310669,
           2.5332155227661133,
           2.5547285079956055,
           2.5829732418060303,
           2.619384765625,
           2.66516375541687,
           2.7205944061279297,
           2.7836687564849854,
           2.8477649688720703,
           2.8993358612060547,
           2.9205212593078613,
           2.9016897678375244
          ],
          [
           2.4667744636535645,
           2.4670844078063965,
           2.467435359954834,
           2.4678306579589844,
           2.468275308609009,
           2.468777894973755,
           2.4693539142608643,
           2.4700276851654053,
           2.470839500427246,
           2.4718499183654785,
           2.4731500148773193,
           2.474869728088379,
           2.4771924018859863,
           2.4803714752197266,
           2.4847543239593506,
           2.490811586380005,
           2.499180316925049,
           2.510716199874878,
           2.5265674591064453,
           2.5482637882232666,
           2.5778298377990723,
           2.6179120540618896,
           2.671914577484131,
           2.7440972328186035,
           2.839555501937866,
           2.9637928009033203,
           3.120727062225342,
           3.3018569946289062,
           3.420034646987915,
           3.3135526180267334
          ],
          [
           2.4660544395446777,
           2.466238021850586,
           2.466453790664673,
           2.466709613800049,
           2.4670157432556152,
           2.46738862991333,
           2.467851400375366,
           2.4684386253356934,
           2.4691994190216064,
           2.4702045917510986,
           2.4715538024902344,
           2.473386526107788,
           2.4758963584899902,
           2.4793505668640137,
           2.484117269515991,
           2.490699291229248,
           2.4997851848602295,
           2.5123131275177,
           2.529557704925537,
           2.5532429218292236,
           2.585683822631836,
           2.6299517154693604,
           2.6900367736816406,
           2.770921230316162,
           2.878286123275757,
           3.0170466899871826,
           3.186177968978882,
           3.3618698120117188,
           3.4582343101501465,
           3.3721649646759033
          ],
          [
           2.4656708240509033,
           2.465791940689087,
           2.4659411907196045,
           2.4661271572113037,
           2.4663619995117188,
           2.4666638374328613,
           2.4670567512512207,
           2.4675755500793457,
           2.468268871307373,
           2.4692044258117676,
           2.470475435256958,
           2.4722108840942383,
           2.474587917327881,
           2.4778478145599365,
           2.4823200702667236,
           2.4884512424468994,
           2.496845006942749,
           2.5083117485046387,
           2.5239338874816895,
           2.545140504837036,
           2.573793411254883,
           2.612264394760132,
           2.663473129272461,
           2.730809450149536,
           2.8178160190582275,
           2.9274516105651855,
           3.0609543323516846,
           3.217327356338501,
           3.38808274269104,
           3.228489637374878
          ],
          [
           2.4654617309570312,
           2.465548515319824,
           2.4656593799591064,
           2.4658024311065674,
           2.465989351272583,
           2.466235876083374,
           2.4665637016296387,
           2.467003107070923,
           2.467595100402832,
           2.4683961868286133,
           2.469482898712158,
           2.4709584712982178,
           2.4729628562927246,
           2.4756827354431152,
           2.4793670177459717,
           2.484344482421875,
           2.4910459518432617,
           2.500030040740967,
           2.512007713317871,
           2.527867555618286,
           2.548685312271118,
           2.575702667236328,
           2.6102454662323,
           2.653512716293335,
           2.706122875213623,
           2.7671408653259277,
           2.8319408893585205,
           2.8880465030670166,
           2.9128432273864746,
           2.890941858291626
          ]
         ],
         "type": "surface"
        },
        {
         "marker": {
          "color": "darkgreen"
         },
         "mode": "markers",
         "name": "training data",
         "x": [
          0.5,
          0.5,
          1.0000000037252903,
          1.0000000037252903,
          1.5000000074505806,
          1.5000000074505806,
          5.000000000000001,
          5.000000000000001,
          0.5,
          5.000000000000001,
          2.0000000447034836,
          0.5,
          0.5,
          0.5,
          1.0000000037252903,
          1.0000000037252903,
          2.0000000447034836,
          2.0000000447034836,
          2.0000000447034836,
          2.0000000447034836,
          5.000000000000001,
          5.000000000000001,
          5.000000000000001
         ],
         "y": [
          2.7300000190734863,
          3.4000001145614362,
          3.7899999185612288,
          6.440000140764965,
          5.3600000716472636,
          8.98999989360641,
          8.800000081362441,
          14.670000341289324,
          5.239999811442516,
          14.890000123887603,
          10.130000282220237,
          4.510000154033449,
          5.369999872371615,
          4.880000167190786,
          6.760000203331785,
          7.769999962835257,
          8.729999392960707,
          9.380000265787459,
          10.479999178778854,
          11.010000170188363,
          14.710000301761738,
          15.4399995803833,
          13.370000110785838
         ],
         "z": [
          0.8730257153511047,
          2.6772446632385254,
          1.6990152597427368,
          3.8050527572631836,
          3.3348562717437744,
          4.535152912139893,
          1.3625102043151855,
          3.8412907123565674,
          1.2013570070266724,
          3.5136520862579346,
          3.4708714485168457,
          0.26329824328422546,
          2.7753403186798096,
          2.591306209564209,
          2.579984426498413,
          3.173818588256836,
          0.13150499761104584,
          0.45116370916366577,
          2.1266398429870605,
          3.468212842941284,
          3.685852527618408,
          3.445655584335327,
          2.6515469551086426
         ],
         "type": "scatter3d"
        }
       ],
       "layout": {
        "template": {
         "data": {
          "histogram2dcontour": [
           {
            "type": "histogram2dcontour",
            "colorbar": {
             "outlinewidth": 0,
             "ticks": ""
            },
            "colorscale": [
             [
              0,
              "#0d0887"
             ],
             [
              0.1111111111111111,
              "#46039f"
             ],
             [
              0.2222222222222222,
              "#7201a8"
             ],
             [
              0.3333333333333333,
              "#9c179e"
             ],
             [
              0.4444444444444444,
              "#bd3786"
             ],
             [
              0.5555555555555556,
              "#d8576b"
             ],
             [
              0.6666666666666666,
              "#ed7953"
             ],
             [
              0.7777777777777778,
              "#fb9f3a"
             ],
             [
              0.8888888888888888,
              "#fdca26"
             ],
             [
              1,
              "#f0f921"
             ]
            ]
           }
          ],
          "choropleth": [
           {
            "type": "choropleth",
            "colorbar": {
             "outlinewidth": 0,
             "ticks": ""
            }
           }
          ],
          "histogram2d": [
           {
            "type": "histogram2d",
            "colorbar": {
             "outlinewidth": 0,
             "ticks": ""
            },
            "colorscale": [
             [
              0,
              "#0d0887"
             ],
             [
              0.1111111111111111,
              "#46039f"
             ],
             [
              0.2222222222222222,
              "#7201a8"
             ],
             [
              0.3333333333333333,
              "#9c179e"
             ],
             [
              0.4444444444444444,
              "#bd3786"
             ],
             [
              0.5555555555555556,
              "#d8576b"
             ],
             [
              0.6666666666666666,
              "#ed7953"
             ],
             [
              0.7777777777777778,
              "#fb9f3a"
             ],
             [
              0.8888888888888888,
              "#fdca26"
             ],
             [
              1,
              "#f0f921"
             ]
            ]
           }
          ],
          "heatmap": [
           {
            "type": "heatmap",
            "colorbar": {
             "outlinewidth": 0,
             "ticks": ""
            },
            "colorscale": [
             [
              0,
              "#0d0887"
             ],
             [
              0.1111111111111111,
              "#46039f"
             ],
             [
              0.2222222222222222,
              "#7201a8"
             ],
             [
              0.3333333333333333,
              "#9c179e"
             ],
             [
              0.4444444444444444,
              "#bd3786"
             ],
             [
              0.5555555555555556,
              "#d8576b"
             ],
             [
              0.6666666666666666,
              "#ed7953"
             ],
             [
              0.7777777777777778,
              "#fb9f3a"
             ],
             [
              0.8888888888888888,
              "#fdca26"
             ],
             [
              1,
              "#f0f921"
             ]
            ]
           }
          ],
          "heatmapgl": [
           {
            "type": "heatmapgl",
            "colorbar": {
             "outlinewidth": 0,
             "ticks": ""
            },
            "colorscale": [
             [
              0,
              "#0d0887"
             ],
             [
              0.1111111111111111,
              "#46039f"
             ],
             [
              0.2222222222222222,
              "#7201a8"
             ],
             [
              0.3333333333333333,
              "#9c179e"
             ],
             [
              0.4444444444444444,
              "#bd3786"
             ],
             [
              0.5555555555555556,
              "#d8576b"
             ],
             [
              0.6666666666666666,
              "#ed7953"
             ],
             [
              0.7777777777777778,
              "#fb9f3a"
             ],
             [
              0.8888888888888888,
              "#fdca26"
             ],
             [
              1,
              "#f0f921"
             ]
            ]
           }
          ],
          "contourcarpet": [
           {
            "type": "contourcarpet",
            "colorbar": {
             "outlinewidth": 0,
             "ticks": ""
            }
           }
          ],
          "contour": [
           {
            "type": "contour",
            "colorbar": {
             "outlinewidth": 0,
             "ticks": ""
            },
            "colorscale": [
             [
              0,
              "#0d0887"
             ],
             [
              0.1111111111111111,
              "#46039f"
             ],
             [
              0.2222222222222222,
              "#7201a8"
             ],
             [
              0.3333333333333333,
              "#9c179e"
             ],
             [
              0.4444444444444444,
              "#bd3786"
             ],
             [
              0.5555555555555556,
              "#d8576b"
             ],
             [
              0.6666666666666666,
              "#ed7953"
             ],
             [
              0.7777777777777778,
              "#fb9f3a"
             ],
             [
              0.8888888888888888,
              "#fdca26"
             ],
             [
              1,
              "#f0f921"
             ]
            ]
           }
          ],
          "surface": [
           {
            "type": "surface",
            "colorbar": {
             "outlinewidth": 0,
             "ticks": ""
            },
            "colorscale": [
             [
              0,
              "#0d0887"
             ],
             [
              0.1111111111111111,
              "#46039f"
             ],
             [
              0.2222222222222222,
              "#7201a8"
             ],
             [
              0.3333333333333333,
              "#9c179e"
             ],
             [
              0.4444444444444444,
              "#bd3786"
             ],
             [
              0.5555555555555556,
              "#d8576b"
             ],
             [
              0.6666666666666666,
              "#ed7953"
             ],
             [
              0.7777777777777778,
              "#fb9f3a"
             ],
             [
              0.8888888888888888,
              "#fdca26"
             ],
             [
              1,
              "#f0f921"
             ]
            ]
           }
          ],
          "mesh3d": [
           {
            "type": "mesh3d",
            "colorbar": {
             "outlinewidth": 0,
             "ticks": ""
            }
           }
          ],
          "scatter": [
           {
            "fillpattern": {
             "fillmode": "overlay",
             "size": 10,
             "solidity": 0.2
            },
            "type": "scatter"
           }
          ],
          "parcoords": [
           {
            "type": "parcoords",
            "line": {
             "colorbar": {
              "outlinewidth": 0,
              "ticks": ""
             }
            }
           }
          ],
          "scatterpolargl": [
           {
            "type": "scatterpolargl",
            "marker": {
             "colorbar": {
              "outlinewidth": 0,
              "ticks": ""
             }
            }
           }
          ],
          "bar": [
           {
            "error_x": {
             "color": "#2a3f5f"
            },
            "error_y": {
             "color": "#2a3f5f"
            },
            "marker": {
             "line": {
              "color": "#E5ECF6",
              "width": 0.5
             },
             "pattern": {
              "fillmode": "overlay",
              "size": 10,
              "solidity": 0.2
             }
            },
            "type": "bar"
           }
          ],
          "scattergeo": [
           {
            "type": "scattergeo",
            "marker": {
             "colorbar": {
              "outlinewidth": 0,
              "ticks": ""
             }
            }
           }
          ],
          "scatterpolar": [
           {
            "type": "scatterpolar",
            "marker": {
             "colorbar": {
              "outlinewidth": 0,
              "ticks": ""
             }
            }
           }
          ],
          "histogram": [
           {
            "marker": {
             "pattern": {
              "fillmode": "overlay",
              "size": 10,
              "solidity": 0.2
             }
            },
            "type": "histogram"
           }
          ],
          "scattergl": [
           {
            "type": "scattergl",
            "marker": {
             "colorbar": {
              "outlinewidth": 0,
              "ticks": ""
             }
            }
           }
          ],
          "scatter3d": [
           {
            "type": "scatter3d",
            "line": {
             "colorbar": {
              "outlinewidth": 0,
              "ticks": ""
             }
            },
            "marker": {
             "colorbar": {
              "outlinewidth": 0,
              "ticks": ""
             }
            }
           }
          ],
          "scattermapbox": [
           {
            "type": "scattermapbox",
            "marker": {
             "colorbar": {
              "outlinewidth": 0,
              "ticks": ""
             }
            }
           }
          ],
          "scatterternary": [
           {
            "type": "scatterternary",
            "marker": {
             "colorbar": {
              "outlinewidth": 0,
              "ticks": ""
             }
            }
           }
          ],
          "scattercarpet": [
           {
            "type": "scattercarpet",
            "marker": {
             "colorbar": {
              "outlinewidth": 0,
              "ticks": ""
             }
            }
           }
          ],
          "carpet": [
           {
            "aaxis": {
             "endlinecolor": "#2a3f5f",
             "gridcolor": "white",
             "linecolor": "white",
             "minorgridcolor": "white",
             "startlinecolor": "#2a3f5f"
            },
            "baxis": {
             "endlinecolor": "#2a3f5f",
             "gridcolor": "white",
             "linecolor": "white",
             "minorgridcolor": "white",
             "startlinecolor": "#2a3f5f"
            },
            "type": "carpet"
           }
          ],
          "table": [
           {
            "cells": {
             "fill": {
              "color": "#EBF0F8"
             },
             "line": {
              "color": "white"
             }
            },
            "header": {
             "fill": {
              "color": "#C8D4E3"
             },
             "line": {
              "color": "white"
             }
            },
            "type": "table"
           }
          ],
          "barpolar": [
           {
            "marker": {
             "line": {
              "color": "#E5ECF6",
              "width": 0.5
             },
             "pattern": {
              "fillmode": "overlay",
              "size": 10,
              "solidity": 0.2
             }
            },
            "type": "barpolar"
           }
          ],
          "pie": [
           {
            "automargin": true,
            "type": "pie"
           }
          ]
         },
         "layout": {
          "autotypenumbers": "strict",
          "colorway": [
           "#636efa",
           "#EF553B",
           "#00cc96",
           "#ab63fa",
           "#FFA15A",
           "#19d3f3",
           "#FF6692",
           "#B6E880",
           "#FF97FF",
           "#FECB52"
          ],
          "font": {
           "color": "#2a3f5f"
          },
          "hovermode": "closest",
          "hoverlabel": {
           "align": "left"
          },
          "paper_bgcolor": "white",
          "plot_bgcolor": "#E5ECF6",
          "polar": {
           "bgcolor": "#E5ECF6",
           "angularaxis": {
            "gridcolor": "white",
            "linecolor": "white",
            "ticks": ""
           },
           "radialaxis": {
            "gridcolor": "white",
            "linecolor": "white",
            "ticks": ""
           }
          },
          "ternary": {
           "bgcolor": "#E5ECF6",
           "aaxis": {
            "gridcolor": "white",
            "linecolor": "white",
            "ticks": ""
           },
           "baxis": {
            "gridcolor": "white",
            "linecolor": "white",
            "ticks": ""
           },
           "caxis": {
            "gridcolor": "white",
            "linecolor": "white",
            "ticks": ""
           }
          },
          "coloraxis": {
           "colorbar": {
            "outlinewidth": 0,
            "ticks": ""
           }
          },
          "colorscale": {
           "sequential": [
            [
             0,
             "#0d0887"
            ],
            [
             0.1111111111111111,
             "#46039f"
            ],
            [
             0.2222222222222222,
             "#7201a8"
            ],
            [
             0.3333333333333333,
             "#9c179e"
            ],
            [
             0.4444444444444444,
             "#bd3786"
            ],
            [
             0.5555555555555556,
             "#d8576b"
            ],
            [
             0.6666666666666666,
             "#ed7953"
            ],
            [
             0.7777777777777778,
             "#fb9f3a"
            ],
            [
             0.8888888888888888,
             "#fdca26"
            ],
            [
             1,
             "#f0f921"
            ]
           ],
           "sequentialminus": [
            [
             0,
             "#0d0887"
            ],
            [
             0.1111111111111111,
             "#46039f"
            ],
            [
             0.2222222222222222,
             "#7201a8"
            ],
            [
             0.3333333333333333,
             "#9c179e"
            ],
            [
             0.4444444444444444,
             "#bd3786"
            ],
            [
             0.5555555555555556,
             "#d8576b"
            ],
            [
             0.6666666666666666,
             "#ed7953"
            ],
            [
             0.7777777777777778,
             "#fb9f3a"
            ],
            [
             0.8888888888888888,
             "#fdca26"
            ],
            [
             1,
             "#f0f921"
            ]
           ],
           "diverging": [
            [
             0,
             "#8e0152"
            ],
            [
             0.1,
             "#c51b7d"
            ],
            [
             0.2,
             "#de77ae"
            ],
            [
             0.3,
             "#f1b6da"
            ],
            [
             0.4,
             "#fde0ef"
            ],
            [
             0.5,
             "#f7f7f7"
            ],
            [
             0.6,
             "#e6f5d0"
            ],
            [
             0.7,
             "#b8e186"
            ],
            [
             0.8,
             "#7fbc41"
            ],
            [
             0.9,
             "#4d9221"
            ],
            [
             1,
             "#276419"
            ]
           ]
          },
          "xaxis": {
           "gridcolor": "white",
           "linecolor": "white",
           "ticks": "",
           "title": {
            "standoff": 15
           },
           "zerolinecolor": "white",
           "automargin": true,
           "zerolinewidth": 2
          },
          "yaxis": {
           "gridcolor": "white",
           "linecolor": "white",
           "ticks": "",
           "title": {
            "standoff": 15
           },
           "zerolinecolor": "white",
           "automargin": true,
           "zerolinewidth": 2
          },
          "scene": {
           "xaxis": {
            "backgroundcolor": "#E5ECF6",
            "gridcolor": "white",
            "linecolor": "white",
            "showbackground": true,
            "ticks": "",
            "zerolinecolor": "white",
            "gridwidth": 2
           },
           "yaxis": {
            "backgroundcolor": "#E5ECF6",
            "gridcolor": "white",
            "linecolor": "white",
            "showbackground": true,
            "ticks": "",
            "zerolinecolor": "white",
            "gridwidth": 2
           },
           "zaxis": {
            "backgroundcolor": "#E5ECF6",
            "gridcolor": "white",
            "linecolor": "white",
            "showbackground": true,
            "ticks": "",
            "zerolinecolor": "white",
            "gridwidth": 2
           }
          },
          "shapedefaults": {
           "line": {
            "color": "#2a3f5f"
           }
          },
          "annotationdefaults": {
           "arrowcolor": "#2a3f5f",
           "arrowhead": 0,
           "arrowwidth": 1
          },
          "geo": {
           "bgcolor": "white",
           "landcolor": "#E5ECF6",
           "subunitcolor": "white",
           "showland": true,
           "showlakes": true,
           "lakecolor": "white"
          },
          "title": {
           "x": 0.05
          },
          "mapbox": {
           "style": "light"
          }
         }
        },
        "legend": {
         "orientation": "h",
         "yanchor": "top",
         "y": 1.02,
         "xanchor": "left",
         "x": 1
        },
        "margin": {
         "r": 20,
         "l": 10,
         "b": 10,
         "t": 10
        },
        "width": 1000,
        "height": 800,
        "scene": {
         "xaxis": {
          "title": {
           "text": "Pulse Width (msec)"
          }
         },
         "yaxis": {
          "title": {
           "text": "Energy density new cone (J/cm^2)"
          }
         },
         "zaxis": {
          "title": {
           "text": "2 Qsw/(U+|D|) 1e6"
          }
         },
         "camera": {
          "up": {
           "x": 0,
           "y": 0,
           "z": 1
          },
          "center": {
           "x": 0,
           "y": 0,
           "z": 0
          },
          "eye": {
           "x": -2,
           "y": -2.5,
           "z": 1.75
          }
         }
        }
       },
       "config": {
        "plotlyServerURL": "https://plot.ly"
       }
      }
     },
     "metadata": {}
    },
    {
     "output_type": "display_data",
     "data": {
      "application/vnd.plotly.v1+json": {
       "data": [
        {
         "opacity": 0.5,
         "showscale": false,
         "x": [
          0.33928570710122585,
          0.5055418629199266,
          0.6717980187386274,
          0.8380541577935219,
          1.0043103471398354,
          1.1705665364861488,
          1.336822658777237,
          1.503078781068325,
          1.6693349033594131,
          1.8355910927057266,
          2.0018471479415894,
          2.168103337287903,
          2.3343595266342168,
          2.5006157159805302,
          2.6668719053268437,
          2.833128094673157,
          2.9993842840194707,
          3.165640473365784,
          3.3318966627120976,
          3.4981525838375096,
          3.664408773183823,
          3.8306649625301366,
          3.99692115187645,
          4.163177341222764,
          4.329433262348176,
          4.495689451694489,
          4.661945641040803,
          4.828201830387116,
          4.99445801973343,
          5.160714209079743
         ],
         "y": [
          2.276071443020234,
          2.745652702469288,
          3.215233961918342,
          3.684815174018958,
          4.154396528164888,
          4.623977882310818,
          5.093559047062996,
          5.563140211815174,
          6.032721376567352,
          6.502302730713282,
          6.971883706071708,
          7.441465060217638,
          7.911046414363568,
          8.380627768509498,
          8.850209122655428,
          9.319790476801359,
          9.789371830947289,
          10.258953185093219,
          10.72853453923915,
          11.19811513581007,
          11.667696489956,
          12.13727784410193,
          12.60685919824786,
          13.076440552393791,
          13.546021148964712,
          14.015602503110642,
          14.485183857256573,
          14.954765211402503,
          15.424346565548433,
          15.893927919694363
         ],
         "z": [
          [
           4.363804817199707,
           4.277321815490723,
           4.366864204406738,
           4.552350044250488,
           4.733981132507324,
           4.877503871917725,
           4.983410835266113,
           5.060329437255859,
           5.116344451904297,
           5.157419204711914,
           5.187707901000977,
           5.2101030349731445,
           5.226663589477539,
           5.238886833190918,
           5.247881889343262,
           5.2544755935668945,
           5.259288311004639,
           5.262785911560059,
           5.265315532684326,
           5.26713752746582,
           5.268444061279297,
           5.269376754760742,
           5.270040512084961,
           5.270510673522949,
           5.270842552185059,
           5.271076202392578,
           5.271240234375,
           5.271355628967285,
           5.271435737609863,
           5.2714924812316895
          ],
          [
           3.5136404037475586,
           2.2871556282043457,
           3.5504751205444336,
           4.180005073547363,
           4.533647537231445,
           4.751006126403809,
           4.8954997062683105,
           4.997462272644043,
           5.071770668029785,
           5.126506805419922,
           5.166803359985352,
           5.19632625579834,
           5.217826843261719,
           5.233390808105469,
           5.244589805603027,
           5.252601623535156,
           5.258301734924316,
           5.262333869934082,
           5.265171051025391,
           5.267157554626465,
           5.268540859222412,
           5.269499778747559,
           5.270162582397461,
           5.27061653137207,
           5.270928382873535,
           5.2711405754089355,
           5.271285057067871,
           5.271383285522461,
           5.271450042724609,
           5.271495819091797
          ],
          [
           4.321761131286621,
           4.141013145446777,
           4.25759220123291,
           4.404489517211914,
           4.525951862335205,
           4.658927917480469,
           4.799882411956787,
           4.9255828857421875,
           5.024853706359863,
           5.0984320640563965,
           5.151285171508789,
           5.188637733459473,
           5.214775085449219,
           5.232926845550537,
           5.245447635650635,
           5.254027366638184,
           5.259865760803223,
           5.26381254196167,
           5.266460418701172,
           5.268224716186523,
           5.2693915367126465,
           5.270156383514404,
           5.27065372467041,
           5.270974159240723,
           5.27117919921875,
           5.271307945251465,
           5.271389007568359,
           5.271440505981445,
           5.271472454071045,
           5.271492958068848
          ],
          [
           4.483821868896484,
           4.3364458084106445,
           4.222521781921387,
           3.9520697593688965,
           3.5899505615234375,
           4.113604545593262,
           4.554250717163086,
           4.818863868713379,
           4.982419013977051,
           5.086198806762695,
           5.153028964996338,
           5.196311950683594,
           5.224313735961914,
           5.242321491241455,
           5.253789901733398,
           5.2610015869140625,
           5.265464782714844,
           5.268174171447754,
           5.269778251647949,
           5.27069616317749,
           5.271196365356445,
           5.27144718170166,
           5.271554946899414,
           5.271583557128906,
           5.271572589874268,
           5.271544456481934,
           5.271511077880859,
           5.271481037139893,
           5.271456718444824,
           5.271439075469971
          ],
          [
           3.8956711292266846,
           3.6813976764678955,
           3.759951591491699,
           3.939864158630371,
           4.131354331970215,
           4.404128551483154,
           4.684966087341309,
           4.899542808532715,
           5.045243740081787,
           5.139493942260742,
           5.198554992675781,
           5.234370231628418,
           5.255223274230957,
           5.266722679138184,
           5.272573471069336,
           5.275149345397949,
           5.275922775268555,
           5.275775909423828,
           5.275217056274414,
           5.2745232582092285,
           5.273838043212891,
           5.273225784301758,
           5.272710800170898,
           5.2722930908203125,
           5.271963119506836,
           5.271710395812988,
           5.271520614624023,
           5.271383285522461,
           5.27128791809082,
           5.271226406097412
          ],
          [
           3.407860517501831,
           2.7741189002990723,
           3.4714181423187256,
           4.107318878173828,
           4.5109381675720215,
           4.780185699462891,
           4.967084884643555,
           5.098493576049805,
           5.1899943351745605,
           5.250147819519043,
           5.285035133361816,
           5.301452159881592,
           5.306177616119385,
           5.304544448852539,
           5.3000688552856445,
           5.294780731201172,
           5.28971529006958,
           5.285314559936523,
           5.281698226928711,
           5.278830051422119,
           5.276608467102051,
           5.274916648864746,
           5.273644924163818,
           5.272699356079102,
           5.272003173828125,
           5.271498203277588,
           5.271139144897461,
           5.270891189575195,
           5.270729064941406,
           5.270634651184082
          ],
          [
           3.994487762451172,
           3.5792007446289062,
           4.109994411468506,
           4.604842185974121,
           4.903450965881348,
           5.06339168548584,
           5.105006217956543,
           5.112401962280273,
           5.2211127281188965,
           5.322166442871094,
           5.364056587219238,
           5.369349479675293,
           5.35853910446167,
           5.342677116394043,
           5.326873302459717,
           5.313136100769043,
           5.301987648010254,
           5.293295383453369,
           5.286689758300781,
           5.281754016876221,
           5.2781081199646,
           5.275435447692871,
           5.273487091064453,
           5.2720746994018555,
           5.27105712890625,
           5.2703351974487305,
           5.269834518432617,
           5.269505500793457,
           5.269310474395752,
           5.269222259521484
          ],
          [
           4.77410888671875,
           4.707393646240234,
           4.901033401489258,
           5.140374183654785,
           5.3016438484191895,
           5.360504150390625,
           5.297611236572266,
           5.200963497161865,
           5.30922794342041,
           5.405189514160156,
           5.428204536437988,
           5.415162086486816,
           5.389885902404785,
           5.3633880615234375,
           5.340023994445801,
           5.321023941040039,
           5.306267261505127,
           5.295131683349609,
           5.2868852615356445,
           5.280850887298584,
           5.276462554931641,
           5.273279190063477,
           5.270968437194824,
           5.269289970397949,
           5.268076419830322,
           5.267213821411133,
           5.266627788543701,
           5.266267776489258,
           5.266099452972412,
           5.266096115112305
          ],
          [
           5.3406901359558105,
           5.391602993011475,
           5.454676628112793,
           5.512672424316406,
           5.555870532989502,
           5.58500862121582,
           5.586820602416992,
           5.564190864562988,
           5.531677722930908,
           5.495859146118164,
           5.458010196685791,
           5.420260906219482,
           5.38543176651001,
           5.355476379394531,
           5.331098556518555,
           5.312074661254883,
           5.2976884841918945,
           5.287054061889648,
           5.279305458068848,
           5.273693561553955,
           5.269613265991211,
           5.266607761383057,
           5.264350891113281,
           5.262625694274902,
           5.261302947998047,
           5.26031494140625,
           5.259634971618652,
           5.259258270263672,
           5.259183883666992,
           5.259402275085449
          ],
          [
           5.417166709899902,
           5.421298980712891,
           5.373197555541992,
           5.209120750427246,
           4.916695594787598,
           5.241771697998047,
           5.413643836975098,
           5.4682512283325195,
           5.466343879699707,
           5.440138816833496,
           5.4059343338012695,
           5.371821403503418,
           5.341630935668945,
           5.3168535232543945,
           5.297645092010498,
           5.283425331115723,
           5.273279190063477,
           5.2662177085876465,
           5.261330604553223,
           5.257864952087402,
           5.255246162414551,
           5.253080368041992,
           5.2511305809021,
           5.249299049377441,
           5.2475996017456055,
           5.246125221252441,
           5.2450151443481445,
           5.244414329528809,
           5.244433879852295,
           5.245120525360107
          ],
          [
           5.379385471343994,
           5.334125518798828,
           5.20920991897583,
           4.963295936584473,
           4.762632846832275,
           4.9706525802612305,
           5.201504707336426,
           5.310028076171875,
           5.339896202087402,
           5.331099510192871,
           5.307351112365723,
           5.281472206115723,
           5.259629726409912,
           5.2439775466918945,
           5.234393119812012,
           5.229656219482422,
           5.228212356567383,
           5.22860050201416,
           5.229640960693359,
           5.23048210144043,
           5.230576515197754,
           5.229637145996094,
           5.227609634399414,
           5.224645614624023,
           5.221094608306885,
           5.2174763679504395,
           5.214418411254883,
           5.212547302246094,
           5.212347507476807,
           5.214037895202637
          ],
          [
           5.390270709991455,
           5.366678714752197,
           5.303501129150391,
           5.201417922973633,
           5.132242679595947,
           5.176328182220459,
           5.242408752441406,
           5.262617588043213,
           5.241263389587402,
           5.199610710144043,
           5.15695858001709,
           5.125730514526367,
           5.110633850097656,
           5.1103315353393555,
           5.120383262634277,
           5.135842323303223,
           5.152670860290527,
           5.168113708496094,
           5.180529594421387,
           5.189059257507324,
           5.193338394165039,
           5.193310260772705,
           5.1891679763793945,
           5.181398391723633,
           5.170917987823486,
           5.159228324890137,
           5.148440361022949,
           5.140990257263184,
           5.138957977294922,
           5.143268585205078
          ],
          [
           5.423320293426514,
           5.413893699645996,
           5.347842216491699,
           5.162167072296143,
           4.93450927734375,
           5.12853479385376,
           5.236717224121094,
           5.195481300354004,
           5.073901176452637,
           4.931789875030518,
           4.822299003601074,
           4.776848793029785,
           4.793117046356201,
           4.847393035888672,
           4.915358543395996,
           4.981428146362305,
           5.038114547729492,
           5.082816123962402,
           5.115273475646973,
           5.136075019836426,
           5.1458916664123535,
           5.145132064819336,
           5.133884429931641,
           5.1121368408203125,
           5.08042049407959,
           5.04106330871582,
           4.999953269958496,
           4.967434883117676,
           4.9553399085998535,
           4.969544887542725
          ],
          [
           5.469330787658691,
           5.5063982009887695,
           5.539361000061035,
           5.56465482711792,
           5.578273773193359,
           5.55905818939209,
           5.453606605529785,
           5.197379112243652,
           4.762183666229248,
           4.223143100738525,
           3.8446402549743652,
           3.873126268386841,
           4.12823486328125,
           4.396453857421875,
           4.616223335266113,
           4.783276557922363,
           4.905666351318359,
           4.992400169372559,
           5.050848484039307,
           5.0862579345703125,
           5.101746559143066,
           5.098320007324219,
           5.07474946975708,
           5.027305603027344,
           4.949585437774658,
           4.833653926849365,
           4.677006721496582,
           4.5074310302734375,
           4.421038627624512,
           4.502091884613037
          ],
          [
           5.489264011383057,
           5.550591468811035,
           5.624495983123779,
           5.7094831466674805,
           5.797067642211914,
           5.8598432540893555,
           5.81881046295166,
           5.4946208000183105,
           4.746455192565918,
           3.5632333755493164,
           2.4744338989257812,
           2.9266066551208496,
           3.5800933837890625,
           4.069894790649414,
           4.419437408447266,
           4.663976669311523,
           4.832644462585449,
           4.9468278884887695,
           5.021228790283203,
           5.065309524536133,
           5.084393501281738,
           5.080216407775879,
           5.050811767578125,
           4.989496231079102,
           4.882364273071289,
           4.70279598236084,
           4.3988494873046875,
           3.859738349914551,
           2.997467041015625,
           3.815131187438965
          ],
          [
           5.4660749435424805,
           5.522097587585449,
           5.588990211486816,
           5.663268089294434,
           5.732928276062012,
           5.766434669494629,
           5.691704273223877,
           5.380092620849609,
           4.701881408691406,
           3.600799083709717,
           2.2846479415893555,
           3.0863609313964844,
           3.7600321769714355,
           4.21202278137207,
           4.523348808288574,
           4.738254547119141,
           4.885726451873779,
           4.9854326248168945,
           5.050528526306152,
           5.089481353759766,
           5.107293128967285,
           5.106225967407227,
           5.086198806762695,
           5.0450005531311035,
           4.978795051574707,
           4.884154319763184,
           4.764875411987305,
           4.64787483215332,
           4.593803405761719,
           4.645739555358887
          ],
          [
           5.416231155395508,
           5.451854705810547,
           5.489781379699707,
           5.524033546447754,
           5.542726993560791,
           5.525594711303711,
           5.443955898284912,
           5.26814079284668,
           4.987056732177734,
           4.645812511444092,
           4.403816223144531,
           4.413068771362305,
           4.563407897949219,
           4.724575042724609,
           4.858119010925293,
           4.9603271484375,
           5.035500526428223,
           5.088912010192871,
           5.125051498413086,
           5.147271156311035,
           5.157858371734619,
           5.158229827880859,
           5.149204730987549,
           5.131406784057617,
           5.1059064865112305,
           5.075185775756836,
           5.044198989868164,
           5.0205230712890625,
           5.012058258056641,
           5.022562026977539
          ],
          [
           5.37009334564209,
           5.390922546386719,
           5.411617755889893,
           5.428628921508789,
           5.43614387512207,
           5.425528526306152,
           5.384716510772705,
           5.296454429626465,
           5.132564544677734,
           4.849841594696045,
           4.564745903015137,
           4.7641777992248535,
           4.965539932250977,
           5.071372032165527,
           5.128080368041992,
           5.161367416381836,
           5.182537078857422,
           5.196510314941406,
           5.205469131469727,
           5.210396766662598,
           5.211767673492432,
           5.209866523742676,
           5.204986095428467,
           5.197582244873047,
           5.188420295715332,
           5.178689002990723,
           5.16998291015625,
           5.164070129394531,
           5.162413120269775,
           5.165649890899658
          ],
          [
           5.339732646942139,
           5.35432243347168,
           5.369811534881592,
           5.384700775146484,
           5.396048545837402,
           5.398133754730225,
           5.379609107971191,
           5.317950248718262,
           5.172242641448975,
           4.903377532958984,
           4.688665866851807,
           4.874152183532715,
           5.108851432800293,
           5.227348327636719,
           5.2713847160339355,
           5.281441688537598,
           5.278493881225586,
           5.271781921386719,
           5.264826774597168,
           5.258625507354736,
           5.253187656402588,
           5.2482404708862305,
           5.243531227111816,
           5.238949775695801,
           5.234567642211914,
           5.230625152587891,
           5.227475166320801,
           5.225498199462891,
           5.224987030029297,
           5.22605562210083
          ],
          [
           5.321114540100098,
           5.333189964294434,
           5.347455978393555,
           5.363836288452148,
           5.3817362785339355,
           5.399455547332764,
           5.41304874420166,
           5.414012908935547,
           5.384278297424316,
           5.291013717651367,
           5.184366703033447,
           5.279693126678467,
           5.358393669128418,
           5.376547336578369,
           5.367431640625,
           5.349001884460449,
           5.329401969909668,
           5.312005043029785,
           5.297825813293457,
           5.286774635314941,
           5.2783308029174805,
           5.271888256072998,
           5.266916751861572,
           5.263019561767578,
           5.259942054748535,
           5.257552146911621,
           5.255805015563965,
           5.254706859588623,
           5.254264831542969,
           5.254458427429199
          ],
          [
           5.307641506195068,
           5.317227363586426,
           5.329059600830078,
           5.343428611755371,
           5.360422611236572,
           5.379666328430176,
           5.399921417236328,
           5.418701171875,
           5.432525634765625,
           5.438871383666992,
           5.438568592071533,
           5.433261871337891,
           5.421682357788086,
           5.40342903137207,
           5.381328582763672,
           5.3589677810668945,
           5.33878755569458,
           5.3218793869018555,
           5.308404922485352,
           5.298032760620117,
           5.290225982666016,
           5.284414768218994,
           5.280080318450928,
           5.276799201965332,
           5.2742600440979,
           5.272272109985352,
           5.270753383636475,
           5.269700527191162,
           5.269130706787109,
           5.269023418426514
          ],
          [
           5.296425819396973,
           5.302998065948486,
           5.311039447784424,
           5.320675849914551,
           5.331881523132324,
           5.344358921051025,
           5.3574113845825195,
           5.369870185852051,
           5.380188465118408,
           5.3867692947387695,
           5.388436317443848,
           5.3848161697387695,
           5.376472473144531,
           5.364747524261475,
           5.3513593673706055,
           5.337921142578125,
           5.325615882873535,
           5.315102577209473,
           5.306593894958496,
           5.299983978271484,
           5.294964790344238,
           5.291108131408691,
           5.287926197052002,
           5.284933090209961,
           5.281748294830322,
           5.278253555297852,
           5.274742603302002,
           5.271919250488281,
           5.270575523376465,
           5.271054744720459
          ],
          [
           5.287474632263184,
           5.291400909423828,
           5.296064853668213,
           5.301465034484863,
           5.30750846862793,
           5.313971519470215,
           5.320476531982422,
           5.326491355895996,
           5.331395149230957,
           5.334590911865234,
           5.33565616607666,
           5.334475040435791,
           5.331280708312988,
           5.326601982116699,
           5.32112979888916,
           5.315559387207031,
           5.3104634284973145,
           5.306224822998047,
           5.303008079528809,
           5.300746917724609,
           5.299121856689453,
           5.297508239746094,
           5.294898986816406,
           5.289851188659668,
           5.280638217926025,
           5.265972137451172,
           5.246766090393066,
           5.228431701660156,
           5.220047473907471,
           5.226831912994385
          ],
          [
           5.2811102867126465,
           5.2832441329956055,
           5.285700798034668,
           5.288450241088867,
           5.291424751281738,
           5.294507026672363,
           5.297532081604004,
           5.300295829772949,
           5.302587509155273,
           5.304226398468018,
           5.305105209350586,
           5.305225372314453,
           5.30471134185791,
           5.303796768188477,
           5.302787780761719,
           5.302016258239746,
           5.301790714263916,
           5.302347183227539,
           5.303790092468262,
           5.3060102462768555,
           5.308531761169434,
           5.310234546661377,
           5.30886173248291,
           5.3001508712768555,
           5.276420593261719,
           5.224692344665527,
           5.126755714416504,
           4.977777004241943,
           4.874914169311523,
           4.96686315536499
          ],
          [
           5.277046203613281,
           5.278151035308838,
           5.279392242431641,
           5.280752182006836,
           5.282198429107666,
           5.283684730529785,
           5.285154342651367,
           5.286547660827637,
           5.287813663482666,
           5.288924217224121,
           5.289888858795166,
           5.290767669677734,
           5.291679382324219,
           5.292799949645996,
           5.294358253479004,
           5.296624660491943,
           5.299893379211426,
           5.3044538497924805,
           5.3105363845825195,
           5.318217754364014,
           5.327230453491211,
           5.336606502532959,
           5.344022750854492,
           5.344600677490234,
           5.328732013702393,
           5.2781877517700195,
           5.159987926483154,
           4.929017543792725,
           4.700780868530273,
           4.909196853637695
          ],
          [
           5.274652481079102,
           5.2752227783203125,
           5.2758588790893555,
           5.276555061340332,
           5.277303695678711,
           5.278095722198486,
           5.278924465179443,
           5.279789924621582,
           5.280704498291016,
           5.281701564788818,
           5.282842636108398,
           5.284228324890137,
           5.28600549697876,
           5.2883758544921875,
           5.2916059494018555,
           5.2960357666015625,
           5.3020830154418945,
           5.310242176055908,
           5.321069717407227,
           5.335128307342529,
           5.352873802185059,
           5.374425888061523,
           5.399174690246582,
           5.425192832946777,
           5.448592185974121,
           5.463501453399658,
           5.464539051055908,
           5.453837871551514,
           5.446096897125244,
           5.452826499938965
          ],
          [
           5.273319244384766,
           5.273627758026123,
           5.273977279663086,
           5.274371147155762,
           5.274813652038574,
           5.2753143310546875,
           5.275887489318848,
           5.276558876037598,
           5.277366638183594,
           5.278371810913086,
           5.2796630859375,
           5.281366348266602,
           5.283659934997559,
           5.286783218383789,
           5.291060447692871,
           5.296919822692871,
           5.304919242858887,
           5.315767288208008,
           5.33034610748291,
           5.349699020385742,
           5.374971389770508,
           5.407229423522949,
           5.447048187255859,
           5.4936418533325195,
           5.543092727661133,
           5.584836006164551,
           5.595206260681152,
           5.532749652862549,
           5.4333109855651855,
           5.525116443634033
          ],
          [
           5.272601127624512,
           5.272784233093262,
           5.2729997634887695,
           5.273255348205566,
           5.273560523986816,
           5.273932933807373,
           5.274394512176514,
           5.274980545043945,
           5.275738716125488,
           5.276739120483398,
           5.278079509735107,
           5.2798967361450195,
           5.282376289367676,
           5.285773754119873,
           5.290433406829834,
           5.29681396484375,
           5.305520534515381,
           5.317336082458496,
           5.333244323730469,
           5.354427337646484,
           5.382190704345703,
           5.417730331420898,
           5.461564064025879,
           5.51226806640625,
           5.563766956329346,
           5.599565505981445,
           5.579840660095215,
           5.408444404602051,
           4.972240447998047,
           5.381993293762207
          ],
          [
           5.272217750549316,
           5.2723388671875,
           5.272488117218018,
           5.272673606872559,
           5.2729082107543945,
           5.273210048675537,
           5.273602485656738,
           5.274119853973389,
           5.274810791015625,
           5.275742530822754,
           5.277006149291992,
           5.2787275314331055,
           5.2810773849487305,
           5.284287452697754,
           5.288664817810059,
           5.29461669921875,
           5.302674293518066,
           5.313508987426758,
           5.327946186065674,
           5.346932411193848,
           5.371435165405273,
           5.40216588973999,
           5.438976287841797,
           5.479594707489014,
           5.51706600189209,
           5.534496307373047,
           5.493093490600586,
           5.295255661010742,
           4.60894775390625,
           5.26624059677124
          ],
          [
           5.272008895874023,
           5.272095680236816,
           5.2722063064575195,
           5.2723493576049805,
           5.272536277770996,
           5.272782325744629,
           5.2731099128723145,
           5.273548126220703,
           5.274138450622559,
           5.274936676025391,
           5.276017665863037,
           5.277482032775879,
           5.27946662902832,
           5.282148361206055,
           5.28576135635376,
           5.29060697555542,
           5.297063827514648,
           5.305595874786377,
           5.316741466522217,
           5.3310770988464355,
           5.349120140075684,
           5.371126174926758,
           5.396711349487305,
           5.424206733703613,
           5.449708938598633,
           5.466169357299805,
           5.464526653289795,
           5.443221092224121,
           5.426750183105469,
           5.441509246826172
          ]
         ],
         "type": "surface"
        },
        {
         "opacity": 0.2,
         "showscale": false,
         "x": [
          0.33928570710122585,
          0.5055418629199266,
          0.6717980187386274,
          0.8380541577935219,
          1.0043103471398354,
          1.1705665364861488,
          1.336822658777237,
          1.503078781068325,
          1.6693349033594131,
          1.8355910927057266,
          2.0018471479415894,
          2.168103337287903,
          2.3343595266342168,
          2.5006157159805302,
          2.6668719053268437,
          2.833128094673157,
          2.9993842840194707,
          3.165640473365784,
          3.3318966627120976,
          3.4981525838375096,
          3.664408773183823,
          3.8306649625301366,
          3.99692115187645,
          4.163177341222764,
          4.329433262348176,
          4.495689451694489,
          4.661945641040803,
          4.828201830387116,
          4.99445801973343,
          5.160714209079743
         ],
         "y": [
          2.276071443020234,
          2.745652702469288,
          3.215233961918342,
          3.684815174018958,
          4.154396528164888,
          4.623977882310818,
          5.093559047062996,
          5.563140211815174,
          6.032721376567352,
          6.502302730713282,
          6.971883706071708,
          7.441465060217638,
          7.911046414363568,
          8.380627768509498,
          8.850209122655428,
          9.319790476801359,
          9.789371830947289,
          10.258953185093219,
          10.72853453923915,
          11.19811513581007,
          11.667696489956,
          12.13727784410193,
          12.60685919824786,
          13.076440552393791,
          13.546021148964712,
          14.015602503110642,
          14.485183857256573,
          14.954765211402503,
          15.424346565548433,
          15.893927919694363
         ],
         "z": [
          [
           -0.7377773523330688,
           -0.7505947351455688,
           -0.7430484294891357,
           -0.7113094329833984,
           -0.6610167026519775,
           -0.605140209197998,
           -0.552649736404419,
           -0.507317066192627,
           -0.4698913097381592,
           -0.4398000240325928,
           -0.4160289764404297,
           -0.3975028991699219,
           -0.38323235511779785,
           -0.37235593795776367,
           -0.3641479015350342,
           -0.35801005363464355,
           -0.35345983505249023,
           -0.3501126766204834,
           -0.3476681709289551,
           -0.34589481353759766,
           -0.3446156978607178,
           -0.34369802474975586,
           -0.34304356575012207,
           -0.3425781726837158,
           -0.34224891662597656,
           -0.34201669692993164,
           -0.34185338020324707,
           -0.3417387008666992,
           -0.341658353805542,
           -0.3416018486022949
          ],
          [
           -0.5906261205673218,
           -0.16354405879974365,
           -0.6181573867797852,
           -0.6840348243713379,
           -0.6624484062194824,
           -0.6182858943939209,
           -0.5706615447998047,
           -0.5262269973754883,
           -0.48725032806396484,
           -0.45432567596435547,
           -0.42733311653137207,
           -0.4057798385620117,
           -0.38896870613098145,
           -0.37612390518188477,
           -0.3664827346801758,
           -0.35935521125793457,
           -0.3541553020477295,
           -0.3504040241241455,
           -0.34772396087646484,
           -0.3458259105682373,
           -0.34449148178100586,
           -0.34355998039245605,
           -0.3429133892059326,
           -0.3424670696258545,
           -0.3421604633331299,
           -0.3419508934020996,
           -0.34180784225463867,
           -0.34171056747436523,
           -0.341644287109375,
           -0.3415987491607666
          ],
          [
           0.005181789398193359,
           0.24902892112731934,
           -0.04464554786682129,
           -0.32700037956237793,
           -0.4527268409729004,
           -0.4990227222442627,
           -0.5097341537475586,
           -0.4993770122528076,
           -0.477200984954834,
           -0.4510221481323242,
           -0.4259324073791504,
           -0.4044020175933838,
           -0.3871488571166992,
           -0.3739490509033203,
           -0.3641819953918457,
           -0.3571345806121826,
           -0.35214924812316895,
           -0.3486790657043457,
           -0.346297025680542,
           -0.3446815013885498,
           -0.3435983657836914,
           -0.3428797721862793,
           -0.3424084186553955,
           -0.3421022891998291,
           -0.3419058322906494,
           -0.3417809009552002,
           -0.3417022228240967,
           -0.34165263175964355,
           -0.34162139892578125,
           -0.3416011333465576
          ],
          [
           -0.17314839363098145,
           -0.04268050193786621,
           -0.12761139869689941,
           -0.10877096652984619,
           0.1137688159942627,
           -0.20463216304779053,
           -0.39305996894836426,
           -0.44705653190612793,
           -0.4465031623840332,
           -0.42760515213012695,
           -0.40570735931396484,
           -0.3866128921508789,
           -0.3718533515930176,
           -0.3612070083618164,
           -0.3538789749145508,
           -0.3490145206451416,
           -0.3458855152130127,
           -0.3439352512359619,
           -0.34276247024536133,
           -0.3420882225036621,
           -0.34172558784484863,
           -0.3415513038635254,
           -0.34148669242858887,
           -0.34148144721984863,
           -0.3415060043334961,
           -0.3415415287017822,
           -0.34157824516296387,
           -0.3416109085083008,
           -0.34163689613342285,
           -0.34165477752685547
          ],
          [
           -0.8826959133148193,
           -0.9046199321746826,
           -0.8377794027328491,
           -0.6885014772415161,
           -0.5377185344696045,
           -0.4697939157485962,
           -0.44353556632995605,
           -0.41561317443847656,
           -0.3860931396484375,
           -0.36197638511657715,
           -0.3458211421966553,
           -0.3366882801055908,
           -0.33248448371887207,
           -0.33127737045288086,
           -0.33168673515319824,
           -0.33284878730773926,
           -0.33426904678344727,
           -0.33568286895751953,
           -0.33696484565734863,
           -0.33806562423706055,
           -0.3389780521392822,
           -0.33971571922302246,
           -0.3403005599975586,
           -0.3407561779022217,
           -0.3411061763763428,
           -0.3413703441619873,
           -0.3415658473968506,
           -0.3417065143585205,
           -0.34180378913879395,
           -0.34186649322509766
          ],
          [
           -0.6315677165985107,
           -0.5151177644729614,
           -0.6021301746368408,
           -0.6037799119949341,
           -0.5112261772155762,
           -0.3852250576019287,
           -0.2681746482849121,
           -0.18911337852478027,
           -0.16012096405029297,
           -0.17050790786743164,
           -0.19937443733215332,
           -0.2311568260192871,
           -0.2588520050048828,
           -0.28074097633361816,
           -0.2972877025604248,
           -0.30954599380493164,
           -0.31855010986328125,
           -0.32514286041259766,
           -0.32996535301208496,
           -0.33349180221557617,
           -0.33607006072998047,
           -0.337954044342041,
           -0.3393287658691406,
           -0.3403298854827881,
           -0.34105515480041504,
           -0.34157562255859375,
           -0.34194302558898926,
           -0.3421952724456787,
           -0.3423593044281006,
           -0.3424551486968994
          ],
          [
           -0.016630172729492188,
           0.21150243282318115,
           0.0633077621459961,
           -0.06299161911010742,
           -0.01951313018798828,
           0.16885685920715332,
           0.4575517177581787,
           0.6510591506958008,
           0.49739885330200195,
           0.24013280868530273,
           0.04503321647644043,
           -0.08469223976135254,
           -0.1693439483642578,
           -0.2249901294708252,
           -0.26207733154296875,
           -0.2871525287628174,
           -0.3043248653411865,
           -0.3162102699279785,
           -0.3245062828063965,
           -0.3303351402282715,
           -0.33445262908935547,
           -0.3373732566833496,
           -0.33945155143737793,
           -0.34093236923217773,
           -0.34198451042175293,
           -0.3427250385284424,
           -0.3432343006134033,
           -0.3435678482055664,
           -0.3437657356262207,
           -0.3438560962677002
          ],
          [
           0.3000612258911133,
           0.6173675060272217,
           0.4534478187561035,
           0.32119011878967285,
           0.35717248916625977,
           0.5283596515655518,
           0.8273849487304688,
           1.042745590209961,
           0.7522537708282471,
           0.3861515522003174,
           0.13411903381347656,
           -0.02829718589782715,
           -0.13327336311340332,
           -0.20209002494812012,
           -0.247880220413208,
           -0.278749942779541,
           -0.29978275299072266,
           -0.31423401832580566,
           -0.324230432510376,
           -0.33118772506713867,
           -0.3360600471496582,
           -0.339496374130249,
           -0.3419368267059326,
           -0.34367990493774414,
           -0.3449234962463379,
           -0.3457987308502197,
           -0.3463897705078125,
           -0.34675168991088867,
           -0.346921443939209,
           -0.3469278812408447
          ],
          [
           0.09891796112060547,
           0.26842832565307617,
           0.45900940895080566,
           0.6583425998687744,
           0.7747931480407715,
           0.7197597026824951,
           0.5764939785003662,
           0.4252462387084961,
           0.27461862564086914,
           0.12958765029907227,
           0.003452777862548828,
           -0.09657716751098633,
           -0.17139482498168945,
           -0.2255384922027588,
           -0.2640044689178467,
           -0.2910349369049072,
           -0.30989718437194824,
           -0.32300448417663574,
           -0.3321044445037842,
           -0.33844661712646484,
           -0.3429124355316162,
           -0.3461127281188965,
           -0.34845709800720215,
           -0.35020995140075684,
           -0.3515286445617676,
           -0.35249829292297363,
           -0.35315704345703125,
           -0.353518009185791,
           -0.3535878658294678,
           -0.3533782958984375
          ],
          [
           0.07021594047546387,
           0.27454638481140137,
           0.6100418567657471,
           1.2011806964874268,
           1.9984331130981445,
           1.180527687072754,
           0.6229782104492188,
           0.3068380355834961,
           0.11123919486999512,
           -0.020834684371948242,
           -0.11584210395812988,
           -0.1861889362335205,
           -0.2383434772491455,
           -0.27645301818847656,
           -0.30370044708251953,
           -0.3227224349975586,
           -0.3357076644897461,
           -0.34442663192749023,
           -0.35026001930236816,
           -0.35424113273620605,
           -0.35710740089416504,
           -0.35935020446777344,
           -0.36126184463500977,
           -0.3629786968231201,
           -0.3645188808441162,
           -0.36581921577453613,
           -0.3667724132537842,
           -0.3672637939453125,
           -0.3672051429748535,
           -0.3665585517883301
          ],
          [
           -0.010202884674072266,
           0.11296916007995605,
           0.2752690315246582,
           0.4751005172729492,
           0.6046361923217773,
           0.4570317268371582,
           0.2502169609069824,
           0.08030843734741211,
           -0.0521242618560791,
           -0.15345406532287598,
           -0.22967100143432617,
           -0.28554463386535645,
           -0.3249039649963379,
           -0.35109829902648926,
           -0.3672206401824951,
           -0.3760945796966553,
           -0.38016533851623535,
           -0.3814115524291992,
           -0.38132667541503906,
           -0.38095593452453613,
           -0.38096094131469727,
           -0.38169074058532715,
           -0.3832376003265381,
           -0.3854825496673584,
           -0.3881359100341797,
           -0.39078283309936523,
           -0.39294886589050293,
           -0.394181489944458,
           -0.39414119720458984,
           -0.3926694393157959
          ],
          [
           -0.020770549774169922,
           0.10525178909301758,
           0.2779815196990967,
           0.47833943367004395,
           0.5769500732421875,
           0.4407658576965332,
           0.21066522598266602,
           0.007298946380615234,
           -0.15206503868103027,
           -0.2733924388885498,
           -0.36196041107177734,
           -0.42133212089538574,
           -0.45551133155822754,
           -0.46979451179504395,
           -0.4701697826385498,
           -0.46227240562438965,
           -0.4506542682647705,
           -0.43856048583984375,
           -0.42806053161621094,
           -0.4203197956085205,
           -0.4158637523651123,
           -0.41477060317993164,
           -0.41677308082580566,
           -0.4212944507598877,
           -0.42745161056518555,
           -0.4340851306915283,
           -0.4398684501647949,
           -0.44351911544799805,
           -0.44406628608703613,
           -0.4410722255706787
          ],
          [
           -0.001445770263671875,
           0.15346002578735352,
           0.4001896381378174,
           0.7944254875183105,
           1.1458027362823486,
           0.7471990585327148,
           0.3220827579498291,
           0.01308894157409668,
           -0.23193001747131348,
           -0.4292759895324707,
           -0.5724380016326904,
           -0.654862642288208,
           -0.6820626258850098,
           -0.6696345806121826,
           -0.6352024078369141,
           -0.592778205871582,
           -0.5513498783111572,
           -0.5157692432403564,
           -0.4881720542907715,
           -0.4691479206085205,
           -0.45850038528442383,
           -0.45563673973083496,
           -0.45967555046081543,
           -0.4693424701690674,
           -0.48276329040527344,
           -0.49733901023864746,
           -0.5100045204162598,
           -0.5180199146270752,
           -0.5197672843933105,
           -0.5146932601928711
          ],
          [
           -0.03818345069885254,
           0.06770873069763184,
           0.19668078422546387,
           0.33116817474365234,
           0.4332389831542969,
           0.46201205253601074,
           0.3844270706176758,
           0.1616673469543457,
           -0.20273733139038086,
           -0.6040061712265015,
           -0.903014063835144,
           -1.037700891494751,
           -1.03242826461792,
           -0.9514429569244385,
           -0.8468153476715088,
           -0.7460639476776123,
           -0.6606793403625488,
           -0.5939397811889648,
           -0.5454607009887695,
           -0.5135512351989746,
           -0.4963088035583496,
           -0.49198412895202637,
           -0.4988589286804199,
           -0.514674186706543,
           -0.5355496406555176,
           -0.5544953346252441,
           -0.5610184669494629,
           -0.5483351945877075,
           -0.5340501070022583,
           -0.5425982475280762
          ],
          [
           -0.07163381576538086,
           0.02300882339477539,
           0.15066003799438477,
           0.3256559371948242,
           0.5737442970275879,
           0.9398684501647949,
           1.4714858531951904,
           1.7666481733322144,
           0.6713235378265381,
           -0.4328106641769409,
           -1.0394988059997559,
           -1.313509464263916,
           -1.282912254333496,
           -1.135735273361206,
           -0.9725725650787354,
           -0.829167366027832,
           -0.7150163650512695,
           -0.6296908855438232,
           -0.5696437358856201,
           -0.5309498310089111,
           -0.5102677345275879,
           -0.504974365234375,
           -0.512775182723999,
           -0.5307114124298096,
           -0.553034782409668,
           -0.5664832592010498,
           -0.5386648178100586,
           -0.3837093114852905,
           0.05308544635772705,
           -0.3596768379211426
          ],
          [
           -0.11670804023742676,
           -0.038309335708618164,
           0.06828808784484863,
           0.21350932121276855,
           0.40868115425109863,
           0.6532614231109619,
           0.8784136772155762,
           0.8212087154388428,
           0.27202725410461426,
           -0.3978506326675415,
           -0.7224793434143066,
           -1.0684714317321777,
           -1.0788321495056152,
           -0.9767400026321411,
           -0.8554322719573975,
           -0.7454996109008789,
           -0.6558957099914551,
           -0.5875928401947021,
           -0.5387651920318604,
           -0.5069029331207275,
           -0.48964476585388184,
           -0.4849817752838135,
           -0.49106812477111816,
           -0.5057001113891602,
           -0.5254697799682617,
           -0.5448453426361084,
           -0.5565083026885986,
           -0.5562984943389893,
           -0.551687479019165,
           -0.5517935752868652
          ],
          [
           -0.17952513694763184,
           -0.13141417503356934,
           -0.07257270812988281,
           -0.004290103912353516,
           0.06752347946166992,
           0.12934255599975586,
           0.16113996505737305,
           0.15134549140930176,
           0.1231992244720459,
           0.11942005157470703,
           0.07092928886413574,
           -0.14168381690979004,
           -0.3611452579498291,
           -0.48102593421936035,
           -0.5224285125732422,
           -0.5222525596618652,
           -0.5048916339874268,
           -0.4835507869720459,
           -0.4646627902984619,
           -0.45101308822631836,
           -0.4435415267944336,
           -0.4422605037689209,
           -0.4466395378112793,
           -0.4556729793548584,
           -0.4678020477294922,
           -0.4808683395385742,
           -0.49231934547424316,
           -0.49975132942199707,
           -0.501516580581665,
           -0.49695372581481934
          ],
          [
           -0.23275971412658691,
           -0.204481840133667,
           -0.17107295989990234,
           -0.1323997974395752,
           -0.08781218528747559,
           -0.034136295318603516,
           0.038945674896240234,
           0.15769362449645996,
           0.3792717456817627,
           0.8055663108825684,
           1.2513011693954468,
           0.6978745460510254,
           0.19441008567810059,
           -0.0847160816192627,
           -0.23545265197753906,
           -0.3152124881744385,
           -0.35590291023254395,
           -0.37567591667175293,
           -0.38492655754089355,
           -0.38954877853393555,
           -0.39279890060424805,
           -0.3963644504547119,
           -0.40096330642700195,
           -0.4066648483276367,
           -0.41306567192077637,
           -0.41941285133361816,
           -0.42475247383117676,
           -0.4281289577484131,
           -0.42881107330322266,
           -0.42647886276245117
          ],
          [
           -0.2663435935974121,
           -0.2461836338043213,
           -0.22062921524047852,
           -0.18746423721313477,
           -0.14277863502502441,
           -0.0797109603881836,
           0.013211965560913086,
           0.15349411964416504,
           0.3628082275390625,
           0.6413707733154297,
           0.8123434782028198,
           0.5986588001251221,
           0.2886497974395752,
           0.055568695068359375,
           -0.10037040710449219,
           -0.20063209533691406,
           -0.2637312412261963,
           -0.3030078411102295,
           -0.3274667263031006,
           -0.34296751022338867,
           -0.35321998596191406,
           -0.3605039119720459,
           -0.3661518096923828,
           -0.3708643913269043,
           -0.3749196529388428,
           -0.37831759452819824,
           -0.38090062141418457,
           -0.3824586868286133,
           -0.38282179832458496,
           -0.3819284439086914
          ],
          [
           -0.28701019287109375,
           -0.27081871032714844,
           -0.24900078773498535,
           -0.21875929832458496,
           -0.17542791366577148,
           -0.11109781265258789,
           -0.012191295623779297,
           0.14471650123596191,
           0.3980748653411865,
           0.7847018241882324,
           1.0821022987365723,
           0.7607240676879883,
           0.36386942863464355,
           0.10248470306396484,
           -0.06060028076171875,
           -0.1632685661315918,
           -0.22885775566101074,
           -0.27127599716186523,
           -0.29899001121520996,
           -0.31728672981262207,
           -0.3295247554779053,
           -0.33785438537597656,
           -0.34364748001098633,
           -0.3477654457092285,
           -0.35073399543762207,
           -0.3528611660003662,
           -0.35431933403015137,
           -0.35520410537719727,
           -0.3555748462677002,
           -0.3554809093475342
          ],
          [
           -0.3023853302001953,
           -0.29035401344299316,
           -0.2741875648498535,
           -0.2522280216217041,
           -0.22218036651611328,
           -0.1811068058013916,
           -0.12594842910766602,
           -0.0555272102355957,
           0.024456262588500977,
           0.09404850006103516,
           0.12089824676513672,
           0.0872962474822998,
           0.01207423210144043,
           -0.07213187217712402,
           -0.14548063278198242,
           -0.2023770809173584,
           -0.2440814971923828,
           -0.27376770973205566,
           -0.29453492164611816,
           -0.3088645935058594,
           -0.31859922409057617,
           -0.3250598907470703,
           -0.32918262481689453,
           -0.3316376209259033,
           -0.33292627334594727,
           -0.33345580101013184,
           -0.33358240127563477,
           -0.3336195945739746,
           -0.33380794525146484,
           -0.3342766761779785
          ],
          [
           -0.3151271343231201,
           -0.3074455261230469,
           -0.29756689071655273,
           -0.284970760345459,
           -0.26917529106140137,
           -0.24994611740112305,
           -0.2276768684387207,
           -0.2039332389831543,
           -0.18190526962280273,
           -0.16614842414855957,
           -0.16100788116455078,
           -0.16824102401733398,
           -0.1858363151550293,
           -0.2092609405517578,
           -0.23384809494018555,
           -0.25635361671447754,
           -0.2751889228820801,
           -0.28995299339294434,
           -0.30088067054748535,
           -0.30844783782958984,
           -0.31315135955810547,
           -0.31540942192077637,
           -0.31554174423217773,
           -0.3138110637664795,
           -0.3105292320251465,
           -0.30622053146362305,
           -0.3017716407775879,
           -0.2984020709991455,
           -0.2972898483276367,
           -0.29898500442504883
          ],
          [
           -0.324981689453125,
           -0.32065439224243164,
           -0.31537532806396484,
           -0.3090665340423584,
           -0.3017456531524658,
           -0.2935950756072998,
           -0.2850382328033447,
           -0.27678608894348145,
           -0.26979732513427734,
           -0.26509785652160645,
           -0.26348280906677246,
           -0.2652144432067871,
           -0.2698986530303955,
           -0.27661609649658203,
           -0.2842261791229248,
           -0.29166436195373535,
           -0.2981123924255371,
           -0.303025484085083,
           -0.30606818199157715,
           -0.3070096969604492,
           -0.30560874938964844,
           -0.301499605178833,
           -0.2940831184387207,
           -0.28247761726379395,
           -0.26567935943603516,
           -0.2433013916015625,
           -0.21734118461608887,
           -0.19441437721252441,
           -0.18468379974365234,
           -0.19388151168823242
          ],
          [
           -0.3317575454711914,
           -0.3295004367828369,
           -0.32686829566955566,
           -0.32387709617614746,
           -0.3205888271331787,
           -0.3171236515045166,
           -0.31366896629333496,
           -0.3104681968688965,
           -0.30779147148132324,
           -0.30588436126708984,
           -0.3049020767211914,
           -0.3048567771911621,
           -0.30559563636779785,
           -0.30681800842285156,
           -0.3081209659576416,
           -0.30905628204345703,
           -0.30916738510131836,
           -0.3079993724822998,
           -0.30507445335388184,
           -0.299823522567749,
           -0.291459321975708,
           -0.2787504196166992,
           -0.2595984935760498,
           -0.23027443885803223,
           -0.1840980052947998,
           -0.10961556434631348,
           0.009317636489868164,
           0.1746363639831543,
           0.28430771827697754,
           0.18543004989624023
          ],
          [
           -0.33597683906555176,
           -0.3348379135131836,
           -0.33355069160461426,
           -0.33213162422180176,
           -0.3306136131286621,
           -0.3290441036224365,
           -0.3274853229522705,
           -0.3260047435760498,
           -0.3246631622314453,
           -0.32349729537963867,
           -0.32250165939331055,
           -0.3216135501861572,
           -0.32070016860961914,
           -0.31955742835998535,
           -0.31790804862976074,
           -0.3154001235961914,
           -0.3115999698638916,
           -0.3059704303741455,
           -0.29782819747924805,
           -0.2862691879272461,
           -0.27004003524780273,
           -0.24731063842773438,
           -0.21525812149047852,
           -0.16925930976867676,
           -0.10126781463623047,
           0.0034782886505126953,
           0.1722702980041504,
           0.44257545471191406,
           0.6881296634674072,
           0.46376466751098633
          ],
          [
           -0.3384215831756592,
           -0.3378419876098633,
           -0.33719491958618164,
           -0.3364851474761963,
           -0.3357203006744385,
           -0.33490991592407227,
           -0.3340616226196289,
           -0.3331770896911621,
           -0.3322443962097168,
           -0.33122968673706055,
           -0.33006906509399414,
           -0.3286559581756592,
           -0.3268313407897949,
           -0.3243682384490967,
           -0.320955753326416,
           -0.3161745071411133,
           -0.3094611167907715,
           -0.30005788803100586,
           -0.28693723678588867,
           -0.26869726181030273,
           -0.24341702461242676,
           -0.2084794044494629,
           -0.16040492057800293,
           -0.09486532211303711,
           -0.007403373718261719,
           0.1038360595703125,
           0.23099088668823242,
           0.3448338508605957,
           0.3949456214904785,
           0.3505532741546631
          ],
          [
           -0.3397700786590576,
           -0.3394589424133301,
           -0.33910655975341797,
           -0.33870983123779297,
           -0.33826303482055664,
           -0.33775830268859863,
           -0.33717989921569824,
           -0.336503267288208,
           -0.33568763732910156,
           -0.3346717357635498,
           -0.3333628177642822,
           -0.33162713050842285,
           -0.32927489280700684,
           -0.32604002952575684,
           -0.321552038192749,
           -0.31529688835144043,
           -0.30655860900878906,
           -0.29433512687683105,
           -0.27721118927001953,
           -0.2531712055206299,
           -0.21931171417236328,
           -0.17140507698059082,
           -0.10321927070617676,
           -0.0054476261138916016,
           0.1360182762145996,
           0.34274935722351074,
           0.6462481021881104,
           1.0709643363952637,
           1.4067583084106445,
           1.1019887924194336
          ],
          [
           -0.34049224853515625,
           -0.34030818939208984,
           -0.34009218215942383,
           -0.33983588218688965,
           -0.33952927589416504,
           -0.3391556739807129,
           -0.33869171142578125,
           -0.3381030559539795,
           -0.3373396396636963,
           -0.33632969856262207,
           -0.33497190475463867,
           -0.33312344551086426,
           -0.3305835723876953,
           -0.3270726203918457,
           -0.32219886779785156,
           -0.3154153823852539,
           -0.3059501647949219,
           -0.2927095890045166,
           -0.27412891387939453,
           -0.247941255569458,
           -0.21082282066345215,
           -0.15782690048217773,
           -0.08149051666259766,
           0.02957463264465332,
           0.19280529022216797,
           0.434528112411499,
           0.7925155162811279,
           1.3152949810028076,
           1.9442280530929565,
           1.3623366355895996
          ],
          [
           -0.34087634086608887,
           -0.34075498580932617,
           -0.3406057357788086,
           -0.3404195308685303,
           -0.34018445014953613,
           -0.33988237380981445,
           -0.3394887447357178,
           -0.33896875381469727,
           -0.338273286819458,
           -0.33733367919921875,
           -0.33605527877807617,
           -0.3343055248260498,
           -0.33190178871154785,
           -0.32859158515930176,
           -0.3240244388580322,
           -0.3177144527435303,
           -0.30898451805114746,
           -0.29688572883605957,
           -0.2800784111022949,
           -0.2566514015197754,
           -0.2238481044769287,
           -0.17763710021972656,
           -0.1120302677154541,
           -0.017975807189941406,
           0.11856579780578613,
           0.3204069137573242,
           0.6288154125213623,
           1.1393988132476807,
           2.16721773147583,
           1.1907386779785156
          ],
          [
           -0.34108543395996094,
           -0.34099864959716797,
           -0.34088778495788574,
           -0.3407447338104248,
           -0.3405575752258301,
           -0.34031081199645996,
           -0.3399825096130371,
           -0.3395421504974365,
           -0.33894848823547363,
           -0.33814430236816406,
           -0.3370518684387207,
           -0.33556532859802246,
           -0.333540678024292,
           -0.3307826519012451,
           -0.3270273208618164,
           -0.3219180107116699,
           -0.314971923828125,
           -0.30553579330444336,
           -0.2927260398864746,
           -0.2753419876098633,
           -0.25174975395202637,
           -0.21972060203552246,
           -0.17622017860412598,
           -0.11718130111694336,
           -0.03746342658996582,
           0.06811237335205078,
           0.1993551254272461,
           0.3328721523284912,
           0.39893651008605957,
           0.3403747081756592
          ]
         ],
         "type": "surface"
        },
        {
         "marker": {
          "color": "darkgreen"
         },
         "mode": "markers",
         "name": "training data",
         "x": [
          0.5,
          0.5,
          1.0000000037252903,
          1.0000000037252903,
          1.5000000074505806,
          1.5000000074505806,
          5.000000000000001,
          5.000000000000001,
          0.5,
          5.000000000000001,
          2.0000000447034836,
          0.5,
          0.5,
          0.5,
          1.0000000037252903,
          1.0000000037252903,
          2.0000000447034836,
          2.0000000447034836,
          2.0000000447034836,
          2.0000000447034836,
          5.000000000000001,
          5.000000000000001,
          5.000000000000001
         ],
         "y": [
          2.7300000190734863,
          3.4000001145614362,
          3.7899999185612288,
          6.440000140764965,
          5.3600000716472636,
          8.98999989360641,
          8.800000081362441,
          14.670000341289324,
          5.239999811442516,
          14.890000123887603,
          10.130000282220237,
          4.510000154033449,
          5.369999872371615,
          4.880000167190786,
          6.760000203331785,
          7.769999962835257,
          8.729999392960707,
          9.380000265787459,
          10.479999178778854,
          11.010000170188363,
          14.710000301761738,
          15.4399995803833,
          13.370000110785838
         ],
         "z": [
          0.8730257153511047,
          2.6772446632385254,
          1.6990152597427368,
          3.8050527572631836,
          3.3348562717437744,
          4.535152912139893,
          1.3625102043151855,
          3.8412907123565674,
          1.2013570070266724,
          3.5136520862579346,
          3.4708714485168457,
          0.26329824328422546,
          2.7753403186798096,
          2.591306209564209,
          2.579984426498413,
          3.173818588256836,
          0.13150499761104584,
          0.45116370916366577,
          2.1266398429870605,
          3.468212842941284,
          3.685852527618408,
          3.445655584335327,
          2.6515469551086426
         ],
         "type": "scatter3d"
        },
        {
         "mode": "markers",
         "name": "max(upper confidence bound)",
         "x": [
          1.1705665364861488
         ],
         "y": [
          8.850209122655428
         ],
         "z": [
          2.5013904571533203
         ],
         "type": "scatter3d"
        },
        {
         "mode": "markers",
         "name": "max(thompson)",
         "x": [
          4.329433262348176
         ],
         "y": [
          15.424346565548433
         ],
         "z": [
          2.694455146789551
         ],
         "type": "scatter3d"
        },
        {
         "mode": "markers",
         "name": "max(pi)",
         "x": [
          1.336822658777237
         ],
         "y": [
          8.850209122655428
         ],
         "z": [
          2.532397985458374
         ],
         "type": "scatter3d"
        },
        {
         "mode": "markers",
         "name": "max(ei)",
         "x": [
          1.336822658777237
         ],
         "y": [
          8.850209122655428
         ],
         "z": [
          2.532397985458374
         ],
         "type": "scatter3d"
        },
        {
         "mode": "markers",
         "name": "max(ca)",
         "x": [
          4.163177341222764
         ],
         "y": [
          14.954765211402503
         ],
         "z": [
          2.576206684112549
         ],
         "type": "scatter3d"
        }
       ],
       "layout": {
        "template": {
         "data": {
          "histogram2dcontour": [
           {
            "type": "histogram2dcontour",
            "colorbar": {
             "outlinewidth": 0,
             "ticks": ""
            },
            "colorscale": [
             [
              0,
              "#0d0887"
             ],
             [
              0.1111111111111111,
              "#46039f"
             ],
             [
              0.2222222222222222,
              "#7201a8"
             ],
             [
              0.3333333333333333,
              "#9c179e"
             ],
             [
              0.4444444444444444,
              "#bd3786"
             ],
             [
              0.5555555555555556,
              "#d8576b"
             ],
             [
              0.6666666666666666,
              "#ed7953"
             ],
             [
              0.7777777777777778,
              "#fb9f3a"
             ],
             [
              0.8888888888888888,
              "#fdca26"
             ],
             [
              1,
              "#f0f921"
             ]
            ]
           }
          ],
          "choropleth": [
           {
            "type": "choropleth",
            "colorbar": {
             "outlinewidth": 0,
             "ticks": ""
            }
           }
          ],
          "histogram2d": [
           {
            "type": "histogram2d",
            "colorbar": {
             "outlinewidth": 0,
             "ticks": ""
            },
            "colorscale": [
             [
              0,
              "#0d0887"
             ],
             [
              0.1111111111111111,
              "#46039f"
             ],
             [
              0.2222222222222222,
              "#7201a8"
             ],
             [
              0.3333333333333333,
              "#9c179e"
             ],
             [
              0.4444444444444444,
              "#bd3786"
             ],
             [
              0.5555555555555556,
              "#d8576b"
             ],
             [
              0.6666666666666666,
              "#ed7953"
             ],
             [
              0.7777777777777778,
              "#fb9f3a"
             ],
             [
              0.8888888888888888,
              "#fdca26"
             ],
             [
              1,
              "#f0f921"
             ]
            ]
           }
          ],
          "heatmap": [
           {
            "type": "heatmap",
            "colorbar": {
             "outlinewidth": 0,
             "ticks": ""
            },
            "colorscale": [
             [
              0,
              "#0d0887"
             ],
             [
              0.1111111111111111,
              "#46039f"
             ],
             [
              0.2222222222222222,
              "#7201a8"
             ],
             [
              0.3333333333333333,
              "#9c179e"
             ],
             [
              0.4444444444444444,
              "#bd3786"
             ],
             [
              0.5555555555555556,
              "#d8576b"
             ],
             [
              0.6666666666666666,
              "#ed7953"
             ],
             [
              0.7777777777777778,
              "#fb9f3a"
             ],
             [
              0.8888888888888888,
              "#fdca26"
             ],
             [
              1,
              "#f0f921"
             ]
            ]
           }
          ],
          "heatmapgl": [
           {
            "type": "heatmapgl",
            "colorbar": {
             "outlinewidth": 0,
             "ticks": ""
            },
            "colorscale": [
             [
              0,
              "#0d0887"
             ],
             [
              0.1111111111111111,
              "#46039f"
             ],
             [
              0.2222222222222222,
              "#7201a8"
             ],
             [
              0.3333333333333333,
              "#9c179e"
             ],
             [
              0.4444444444444444,
              "#bd3786"
             ],
             [
              0.5555555555555556,
              "#d8576b"
             ],
             [
              0.6666666666666666,
              "#ed7953"
             ],
             [
              0.7777777777777778,
              "#fb9f3a"
             ],
             [
              0.8888888888888888,
              "#fdca26"
             ],
             [
              1,
              "#f0f921"
             ]
            ]
           }
          ],
          "contourcarpet": [
           {
            "type": "contourcarpet",
            "colorbar": {
             "outlinewidth": 0,
             "ticks": ""
            }
           }
          ],
          "contour": [
           {
            "type": "contour",
            "colorbar": {
             "outlinewidth": 0,
             "ticks": ""
            },
            "colorscale": [
             [
              0,
              "#0d0887"
             ],
             [
              0.1111111111111111,
              "#46039f"
             ],
             [
              0.2222222222222222,
              "#7201a8"
             ],
             [
              0.3333333333333333,
              "#9c179e"
             ],
             [
              0.4444444444444444,
              "#bd3786"
             ],
             [
              0.5555555555555556,
              "#d8576b"
             ],
             [
              0.6666666666666666,
              "#ed7953"
             ],
             [
              0.7777777777777778,
              "#fb9f3a"
             ],
             [
              0.8888888888888888,
              "#fdca26"
             ],
             [
              1,
              "#f0f921"
             ]
            ]
           }
          ],
          "surface": [
           {
            "type": "surface",
            "colorbar": {
             "outlinewidth": 0,
             "ticks": ""
            },
            "colorscale": [
             [
              0,
              "#0d0887"
             ],
             [
              0.1111111111111111,
              "#46039f"
             ],
             [
              0.2222222222222222,
              "#7201a8"
             ],
             [
              0.3333333333333333,
              "#9c179e"
             ],
             [
              0.4444444444444444,
              "#bd3786"
             ],
             [
              0.5555555555555556,
              "#d8576b"
             ],
             [
              0.6666666666666666,
              "#ed7953"
             ],
             [
              0.7777777777777778,
              "#fb9f3a"
             ],
             [
              0.8888888888888888,
              "#fdca26"
             ],
             [
              1,
              "#f0f921"
             ]
            ]
           }
          ],
          "mesh3d": [
           {
            "type": "mesh3d",
            "colorbar": {
             "outlinewidth": 0,
             "ticks": ""
            }
           }
          ],
          "scatter": [
           {
            "fillpattern": {
             "fillmode": "overlay",
             "size": 10,
             "solidity": 0.2
            },
            "type": "scatter"
           }
          ],
          "parcoords": [
           {
            "type": "parcoords",
            "line": {
             "colorbar": {
              "outlinewidth": 0,
              "ticks": ""
             }
            }
           }
          ],
          "scatterpolargl": [
           {
            "type": "scatterpolargl",
            "marker": {
             "colorbar": {
              "outlinewidth": 0,
              "ticks": ""
             }
            }
           }
          ],
          "bar": [
           {
            "error_x": {
             "color": "#2a3f5f"
            },
            "error_y": {
             "color": "#2a3f5f"
            },
            "marker": {
             "line": {
              "color": "#E5ECF6",
              "width": 0.5
             },
             "pattern": {
              "fillmode": "overlay",
              "size": 10,
              "solidity": 0.2
             }
            },
            "type": "bar"
           }
          ],
          "scattergeo": [
           {
            "type": "scattergeo",
            "marker": {
             "colorbar": {
              "outlinewidth": 0,
              "ticks": ""
             }
            }
           }
          ],
          "scatterpolar": [
           {
            "type": "scatterpolar",
            "marker": {
             "colorbar": {
              "outlinewidth": 0,
              "ticks": ""
             }
            }
           }
          ],
          "histogram": [
           {
            "marker": {
             "pattern": {
              "fillmode": "overlay",
              "size": 10,
              "solidity": 0.2
             }
            },
            "type": "histogram"
           }
          ],
          "scattergl": [
           {
            "type": "scattergl",
            "marker": {
             "colorbar": {
              "outlinewidth": 0,
              "ticks": ""
             }
            }
           }
          ],
          "scatter3d": [
           {
            "type": "scatter3d",
            "line": {
             "colorbar": {
              "outlinewidth": 0,
              "ticks": ""
             }
            },
            "marker": {
             "colorbar": {
              "outlinewidth": 0,
              "ticks": ""
             }
            }
           }
          ],
          "scattermapbox": [
           {
            "type": "scattermapbox",
            "marker": {
             "colorbar": {
              "outlinewidth": 0,
              "ticks": ""
             }
            }
           }
          ],
          "scatterternary": [
           {
            "type": "scatterternary",
            "marker": {
             "colorbar": {
              "outlinewidth": 0,
              "ticks": ""
             }
            }
           }
          ],
          "scattercarpet": [
           {
            "type": "scattercarpet",
            "marker": {
             "colorbar": {
              "outlinewidth": 0,
              "ticks": ""
             }
            }
           }
          ],
          "carpet": [
           {
            "aaxis": {
             "endlinecolor": "#2a3f5f",
             "gridcolor": "white",
             "linecolor": "white",
             "minorgridcolor": "white",
             "startlinecolor": "#2a3f5f"
            },
            "baxis": {
             "endlinecolor": "#2a3f5f",
             "gridcolor": "white",
             "linecolor": "white",
             "minorgridcolor": "white",
             "startlinecolor": "#2a3f5f"
            },
            "type": "carpet"
           }
          ],
          "table": [
           {
            "cells": {
             "fill": {
              "color": "#EBF0F8"
             },
             "line": {
              "color": "white"
             }
            },
            "header": {
             "fill": {
              "color": "#C8D4E3"
             },
             "line": {
              "color": "white"
             }
            },
            "type": "table"
           }
          ],
          "barpolar": [
           {
            "marker": {
             "line": {
              "color": "#E5ECF6",
              "width": 0.5
             },
             "pattern": {
              "fillmode": "overlay",
              "size": 10,
              "solidity": 0.2
             }
            },
            "type": "barpolar"
           }
          ],
          "pie": [
           {
            "automargin": true,
            "type": "pie"
           }
          ]
         },
         "layout": {
          "autotypenumbers": "strict",
          "colorway": [
           "#636efa",
           "#EF553B",
           "#00cc96",
           "#ab63fa",
           "#FFA15A",
           "#19d3f3",
           "#FF6692",
           "#B6E880",
           "#FF97FF",
           "#FECB52"
          ],
          "font": {
           "color": "#2a3f5f"
          },
          "hovermode": "closest",
          "hoverlabel": {
           "align": "left"
          },
          "paper_bgcolor": "white",
          "plot_bgcolor": "#E5ECF6",
          "polar": {
           "bgcolor": "#E5ECF6",
           "angularaxis": {
            "gridcolor": "white",
            "linecolor": "white",
            "ticks": ""
           },
           "radialaxis": {
            "gridcolor": "white",
            "linecolor": "white",
            "ticks": ""
           }
          },
          "ternary": {
           "bgcolor": "#E5ECF6",
           "aaxis": {
            "gridcolor": "white",
            "linecolor": "white",
            "ticks": ""
           },
           "baxis": {
            "gridcolor": "white",
            "linecolor": "white",
            "ticks": ""
           },
           "caxis": {
            "gridcolor": "white",
            "linecolor": "white",
            "ticks": ""
           }
          },
          "coloraxis": {
           "colorbar": {
            "outlinewidth": 0,
            "ticks": ""
           }
          },
          "colorscale": {
           "sequential": [
            [
             0,
             "#0d0887"
            ],
            [
             0.1111111111111111,
             "#46039f"
            ],
            [
             0.2222222222222222,
             "#7201a8"
            ],
            [
             0.3333333333333333,
             "#9c179e"
            ],
            [
             0.4444444444444444,
             "#bd3786"
            ],
            [
             0.5555555555555556,
             "#d8576b"
            ],
            [
             0.6666666666666666,
             "#ed7953"
            ],
            [
             0.7777777777777778,
             "#fb9f3a"
            ],
            [
             0.8888888888888888,
             "#fdca26"
            ],
            [
             1,
             "#f0f921"
            ]
           ],
           "sequentialminus": [
            [
             0,
             "#0d0887"
            ],
            [
             0.1111111111111111,
             "#46039f"
            ],
            [
             0.2222222222222222,
             "#7201a8"
            ],
            [
             0.3333333333333333,
             "#9c179e"
            ],
            [
             0.4444444444444444,
             "#bd3786"
            ],
            [
             0.5555555555555556,
             "#d8576b"
            ],
            [
             0.6666666666666666,
             "#ed7953"
            ],
            [
             0.7777777777777778,
             "#fb9f3a"
            ],
            [
             0.8888888888888888,
             "#fdca26"
            ],
            [
             1,
             "#f0f921"
            ]
           ],
           "diverging": [
            [
             0,
             "#8e0152"
            ],
            [
             0.1,
             "#c51b7d"
            ],
            [
             0.2,
             "#de77ae"
            ],
            [
             0.3,
             "#f1b6da"
            ],
            [
             0.4,
             "#fde0ef"
            ],
            [
             0.5,
             "#f7f7f7"
            ],
            [
             0.6,
             "#e6f5d0"
            ],
            [
             0.7,
             "#b8e186"
            ],
            [
             0.8,
             "#7fbc41"
            ],
            [
             0.9,
             "#4d9221"
            ],
            [
             1,
             "#276419"
            ]
           ]
          },
          "xaxis": {
           "gridcolor": "white",
           "linecolor": "white",
           "ticks": "",
           "title": {
            "standoff": 15
           },
           "zerolinecolor": "white",
           "automargin": true,
           "zerolinewidth": 2
          },
          "yaxis": {
           "gridcolor": "white",
           "linecolor": "white",
           "ticks": "",
           "title": {
            "standoff": 15
           },
           "zerolinecolor": "white",
           "automargin": true,
           "zerolinewidth": 2
          },
          "scene": {
           "xaxis": {
            "backgroundcolor": "#E5ECF6",
            "gridcolor": "white",
            "linecolor": "white",
            "showbackground": true,
            "ticks": "",
            "zerolinecolor": "white",
            "gridwidth": 2
           },
           "yaxis": {
            "backgroundcolor": "#E5ECF6",
            "gridcolor": "white",
            "linecolor": "white",
            "showbackground": true,
            "ticks": "",
            "zerolinecolor": "white",
            "gridwidth": 2
           },
           "zaxis": {
            "backgroundcolor": "#E5ECF6",
            "gridcolor": "white",
            "linecolor": "white",
            "showbackground": true,
            "ticks": "",
            "zerolinecolor": "white",
            "gridwidth": 2
           }
          },
          "shapedefaults": {
           "line": {
            "color": "#2a3f5f"
           }
          },
          "annotationdefaults": {
           "arrowcolor": "#2a3f5f",
           "arrowhead": 0,
           "arrowwidth": 1
          },
          "geo": {
           "bgcolor": "white",
           "landcolor": "#E5ECF6",
           "subunitcolor": "white",
           "showland": true,
           "showlakes": true,
           "lakecolor": "white"
          },
          "title": {
           "x": 0.05
          },
          "mapbox": {
           "style": "light"
          }
         }
        },
        "margin": {
         "r": 20,
         "l": 10,
         "b": 10,
         "t": 10
        },
        "legend": {
         "orientation": "h",
         "yanchor": "bottom",
         "y": 1.02,
         "xanchor": "right",
         "x": 1
        },
        "width": 1000,
        "height": 600,
        "scene": {
         "xaxis": {
          "title": {
           "text": "Pulse Width (msec)"
          }
         },
         "yaxis": {
          "title": {
           "text": "Energy density new cone (J/cm^2)"
          }
         },
         "zaxis": {
          "title": {
           "text": "2 Qsw/(U+|D|) 1e6"
          }
         }
        }
       },
       "config": {
        "plotlyServerURL": "https://plot.ly"
       }
      }
     },
     "metadata": {}
    }
   ],
   "metadata": {}
  },
  {
   "cell_type": "code",
   "execution_count": 273,
   "source": [
    "# check fig of merit of julia et al prediction point\n",
    "y_preds_1 = likelihood(model(torch.Tensor([[2.9, 9.04]])))\n",
    "with torch.no_grad():\n",
    "    y_preds_mean_1 = y_preds_1.mean.numpy()\n",
    "print(y_preds_mean_1)"
   ],
   "outputs": [
    {
     "output_type": "stream",
     "name": "stdout",
     "text": [
      "[2.465101]\n"
     ]
    },
    {
     "output_type": "stream",
     "name": "stderr",
     "text": [
      "/Users/valenetjong/opt/anaconda3/envs/FEGP/lib/python3.9/site-packages/gpytorch/likelihoods/gaussian_likelihood.py:270: GPInputWarning:\n",
      "\n",
      "You have passed data through a FixedNoiseGaussianLikelihood that did not match the size of the fixed noise, *and* you did not specify noise. This is treated as a no-op.\n",
      "\n"
     ]
    }
   ],
   "metadata": {}
  },
  {
   "cell_type": "markdown",
   "source": [
    "### Post-processing\n",
    "- Energy density, pulse width --> voltage function"
   ],
   "metadata": {}
  },
  {
   "cell_type": "code",
   "execution_count": 274,
   "source": [
    "dir = \"/Users/valenetjong/Bayesian-Optimization-Ferroelectrics/data/\"\n",
    "in_file = \"MKS_Ophir_joulemeter_readings.xlsx\"\n",
    "df = pd.read_excel(dir + in_file, sheet_name=\"Sheet2\")\n",
    "df = df.dropna() # Drop rows with NaN values\n",
    "print(df)"
   ],
   "outputs": [
    {
     "output_type": "stream",
     "name": "stdout",
     "text": [
      "     Voltage Setting  Pulse width  optical read (J/cm^2)\n",
      "0             2200.0        500.0                   1.92\n",
      "1             2200.0       1000.0                   3.79\n",
      "2             2200.0       1500.0                   5.36\n",
      "3             2200.0       2000.0                   6.65\n",
      "4             2200.0       2500.0                   7.73\n",
      "..               ...          ...                    ...\n",
      "107           1950.0       3000.0                   6.78\n",
      "108           1950.0       3500.0                   7.36\n",
      "109           1950.0       4000.0                   7.94\n",
      "110           1950.0       4500.0                   8.39\n",
      "111           1950.0       5000.0                   8.80\n",
      "\n",
      "[92 rows x 3 columns]\n"
     ]
    }
   ],
   "metadata": {}
  },
  {
   "cell_type": "markdown",
   "source": [
    "#### Method 1: LSR curve_fit with polynomial deg=2 fit"
   ],
   "metadata": {}
  },
  {
   "cell_type": "code",
   "execution_count": 275,
   "source": [
    "dir = \"/Users/valenetjong/Bayesian-Optimization-Ferroelectrics/data/\"\n",
    "file = \"MKS_Ophir_joulemeter_readings.xlsx\"\n",
    "df = pd.read_excel(dir+file, sheet_name=\"Sheet2\").dropna() # read and drop NaN values\n",
    "print(df)\n",
    "\n",
    "time_bol_dat = df['Pulse width'].values\n",
    "energy_den_bol_dat = df['optical read (J/cm^2)'].values\n",
    "volts_bol_dat = df['Voltage Setting'].values\n",
    "\n",
    "# define scaler\n",
    "post_scaler = MinMaxScaler()\n",
    "\n",
    "# make, scale training set\n",
    "x_exp_raw = np.stack((time_bol_dat, energy_den_bol_dat), axis=1)\n",
    "post_scaler.fit(x_exp_raw)\n",
    "x_exp = post_scaler.transform(x_exp_raw)\n",
    "y_exp = np.reshape(volts_bol_dat, (-1, 1))\n",
    "X, Y = [x_exp, y_exp]"
   ],
   "outputs": [
    {
     "output_type": "stream",
     "name": "stdout",
     "text": [
      "     Voltage Setting  Pulse width  optical read (J/cm^2)\n",
      "0             2200.0        500.0                   1.92\n",
      "1             2200.0       1000.0                   3.79\n",
      "2             2200.0       1500.0                   5.36\n",
      "3             2200.0       2000.0                   6.65\n",
      "4             2200.0       2500.0                   7.73\n",
      "..               ...          ...                    ...\n",
      "107           1950.0       3000.0                   6.78\n",
      "108           1950.0       3500.0                   7.36\n",
      "109           1950.0       4000.0                   7.94\n",
      "110           1950.0       4500.0                   8.39\n",
      "111           1950.0       5000.0                   8.80\n",
      "\n",
      "[92 rows x 3 columns]\n"
     ]
    }
   ],
   "metadata": {}
  },
  {
   "cell_type": "code",
   "execution_count": 276,
   "source": [
    "from scipy.optimize import curve_fit\n",
    "def zfit(xy, a, b, c, d, e):\n",
    "    \"\"\"\n",
    "    [zfit(xy, a, b, c, d, e)] takes in a tuple of inputs [xy] and returns second\n",
    "    degree polynomial fit.\n",
    "    \"\"\"\n",
    "    x, y = xy\n",
    "    return np.dot(np.array([a, b, c, d, e]), np.array([x, x**2, y, y**2, 1],dtype='object'))\n",
    "\n",
    "# perform fit (time, energy density)--> voltage\n",
    "coeffs, cov_mat = curve_fit(zfit, (time_bol_dat, energy_den_bol_dat), volts_bol_dat)\n",
    "coeffs = tuple(coeffs)\n",
    "# a, b, c, d, e = coeffs\n",
    "for idx,ele in enumerate(coeffs): print(chr(ord('a') + idx)+':',ele) \n",
    "\n",
    "# voltage of suggested points\n",
    "ucb_pt, nlcd_pt = (1170, 8.85), (2900, 9.04)\n",
    "print(\"point 1:\", ucb_pt[0], ucb_pt[1], round(zfit(ucb_pt, *coeffs), -2))  # ucb\n",
    "print(\"point 2:\", nlcd_pt[0], nlcd_pt[1], round(zfit(nlcd_pt, *coeffs), -2))  # nlcb \n"
   ],
   "outputs": [
    {
     "output_type": "stream",
     "name": "stdout",
     "text": [
      "a: -0.6574629571668207\n",
      "b: 7.06811282062559e-05\n",
      "c: 180.20056414658865\n",
      "d: -3.586923255037011\n",
      "e: 2215.088534750962\n",
      "point 1: 1170 8.85 2900.0\n",
      "point 2: 2900 9.04 2200.0\n"
     ]
    }
   ],
   "metadata": {}
  },
  {
   "cell_type": "code",
   "execution_count": 277,
   "source": [
    "y_pred_poly = np.reshape(np.array([zfit(tuple(ele), *coeffs) for ele in x_exp_raw]), (-1,1))"
   ],
   "outputs": [],
   "metadata": {}
  },
  {
   "cell_type": "code",
   "execution_count": 278,
   "source": [
    "# plot predictions v. actuals\n",
    "plot_gp_res(y_pred_poly, y_exp, None)"
   ],
   "outputs": [
    {
     "output_type": "stream",
     "name": "stdout",
     "text": [
      "     Metric   Value\n",
      "0      RMSE  66.135\n",
      "1       MAE  44.229\n",
      "2  Spearman   0.973\n",
      "3  R² score   0.946\n"
     ]
    },
    {
     "output_type": "display_data",
     "data": {
      "image/png": "[encoded data removed]",
      "text/plain": [
       "<Figure size 3300x900 with 3 Axes>"
      ]
     },
     "metadata": {}
    }
   ],
   "metadata": {}
  },
  {
   "cell_type": "code",
   "execution_count": 279,
   "source": [
    "# write to csv\n",
    "dir = \"/Users/valenetjong/Bayesian-Optimization-Ferroelectrics/predictions/\"\n",
    "file_out = \"final_preds.csv\"\n",
    "file = open(dir + file_out, \"w\", encoding=\"utf-8\")\n",
    "file.write(\"Polynomial fit predictions: \\n\")\n",
    "\n",
    "file.write(\"Type\\t Time (ms)\\t Energy density(J\\cm^2)\\t Voltage()\\n\")\n",
    "file.write(\"UCB:\\t\" + str(ucb_pt[0]) + \"\\t\" + str(ucb_pt[1]) + \"\\t\" + str(round(zfit(ucb_pt, *coeffs), -2))+\"\\n\")\n",
    "file.write(\"NLCB:\\t\" + str(nlcd_pt[0]) + \"\\t\" + str(nlcd_pt[1]) + \"\\t\" + str(round(zfit(nlcd_pt, *coeffs), -2))+\"\\n\")"
   ],
   "outputs": [
    {
     "output_type": "execute_result",
     "data": {
      "text/plain": [
       "23"
      ]
     },
     "metadata": {},
     "execution_count": 279
    }
   ],
   "metadata": {}
  },
  {
   "cell_type": "markdown",
   "source": [
    "#### Method 2: GP fit"
   ],
   "metadata": {}
  },
  {
   "cell_type": "code",
   "execution_count": 280,
   "source": [
    "import GPy\n",
    "from GPy.models import GPRegression\n",
    "from emukit.model_wrappers import GPyModelWrapper\n",
    "from torch.optim import Adam as Adam\n",
    "from emukit.core import ParameterSpace, ContinuousParameter"
   ],
   "outputs": [],
   "metadata": {}
  },
  {
   "cell_type": "code",
   "execution_count": 281,
   "source": [
    "def grid_maker_1D(arr, step_size):\n",
    "    return np.arange(arr.min(), arr.max()+step_size*0.1,step_size)\n",
    "\n",
    "# make GP grid; min delta time: 500us, min delta energy density: 0.01J/cm^2\n",
    "var_array = [grid_maker_1D(time_bol_dat, 500), grid_maker_1D(energy_den_bol_dat, 0.01)]"
   ],
   "outputs": [],
   "metadata": {}
  },
  {
   "cell_type": "code",
   "execution_count": 282,
   "source": [
    "# continuous parameter creates a grid space for grid search\n",
    "time_len_num, e_den_num = len(var_array[0]), len(var_array[1])\n",
    "parameter_space = ParameterSpace([ContinuousParameter(\"Time (ms)\", 0-1/(time_len_num-1)/2, 1+1/(time_len_num-1)/2),\n",
    "                                  ContinuousParameter(\"Energy density new cone (J/cm^2)\", 0-1/(e_den_num-1)/2, 1+1/(e_den_num-1)/2),\n",
    "                                 ])"
   ],
   "outputs": [],
   "metadata": {}
  },
  {
   "cell_type": "code",
   "execution_count": 283,
   "source": [
    "# define GP model\n",
    "kernel = GPy.kern.Matern52(input_dim = len(X[0]), ARD =True)#\n",
    "kernel.lengthscale.constrain_bounded(1e-2, 1)\n",
    "kernel.variance.constrain_bounded(1e-2, 1000.0)\n",
    "model_volt = GPRegression(X , -Y, kernel)\n",
    "model_volt.Gaussian_noise.variance = 0.15\n",
    "model_volt.Gaussian_noise.variance.fix()"
   ],
   "outputs": [
    {
     "output_type": "stream",
     "name": "stderr",
     "text": [
      "reconstraining parameters Mat52.lengthscale\n",
      "reconstraining parameters Mat52.variance\n"
     ]
    },
    {
     "output_type": "execute_result",
     "data": {
      "text/plain": [
       "array([0])"
      ]
     },
     "metadata": {},
     "execution_count": 283
    }
   ],
   "metadata": {}
  },
  {
   "cell_type": "code",
   "execution_count": 284,
   "source": [
    "# randomize hyperparameters\n",
    "model_volt.randomize() \n",
    "\n",
    "# check hyperparameters \n",
    "print(kernel.lengthscale, '\\n', kernel.variance)"
   ],
   "outputs": [
    {
     "output_type": "stream",
     "name": "stdout",
     "text": [
      "  \u001b[1mindex\u001b[0;0m  |  GP_regression.Mat52.lengthscale  |  constraints  |  priors\n",
      "  \u001b[1m[0]  \u001b[0;0m  |                       0.67602884  |   0.01,1.0    |        \n",
      "  \u001b[1m[1]  \u001b[0;0m  |                       0.47627935  |   0.01,1.0    |         \n",
      "   \u001b[1mindex\u001b[0;0m  |  GP_regression.Mat52.variance  |  constraints  |  priors\n",
      "  \u001b[1m[0]  \u001b[0;0m  |                  476.76123873  |  0.01,1000.0  |        \n"
     ]
    }
   ],
   "metadata": {}
  },
  {
   "cell_type": "code",
   "execution_count": 285,
   "source": [
    "# train model\n",
    "model_volt.optimize_restarts(num_restarts=30, verbose =False, messages=False) # fit to training data, select best hyperparameters out of num_restarts \n",
    "objective_model = GPyModelWrapper(model_volt)\n",
    "print(objective_model.model.kern.lengthscale, '\\n', objective_model.model.kern.variance)"
   ],
   "outputs": [
    {
     "output_type": "stream",
     "name": "stdout",
     "text": [
      "  \u001b[1mindex\u001b[0;0m  |  GP_regression.Mat52.lengthscale  |  constraints  |  priors\n",
      "  \u001b[1m[0]  \u001b[0;0m  |                       0.32564113  |   0.01,1.0    |        \n",
      "  \u001b[1m[1]  \u001b[0;0m  |                       0.28511149  |   0.01,1.0    |         \n",
      "   \u001b[1mindex\u001b[0;0m  |  GP_regression.Mat52.variance  |  constraints  |  priors\n",
      "  \u001b[1m[0]  \u001b[0;0m  |                  999.99999729  |  0.01,1000.0  |        \n"
     ]
    }
   ],
   "metadata": {}
  },
  {
   "cell_type": "code",
   "execution_count": 286,
   "source": [
    "# predict training set\n",
    "gp_func =  objective_model.model.predict\n",
    "y_pred, y_err = gp_func(X)\n",
    "y_pred, y_err = -y_pred[:,-1], np.sqrt(y_err[:,-1])"
   ],
   "outputs": [],
   "metadata": {}
  },
  {
   "cell_type": "code",
   "execution_count": 287,
   "source": [
    "# make, scale post_test_grid\n",
    "_, _, post_test_grid, post_test_x = grid_maker(torch.Tensor(X))\n",
    "volt_on_grid, _ = gp_func(post_test_x.numpy())\n",
    "raw_post_test_x, raw_post_test_grid = un_norm_all(post_test_x, post_test_grid, post_scaler)"
   ],
   "outputs": [],
   "metadata": {}
  },
  {
   "cell_type": "code",
   "execution_count": 288,
   "source": [
    "volt_on_grid = -1 * volt_on_grid.reshape(30,30)"
   ],
   "outputs": [],
   "metadata": {}
  },
  {
   "cell_type": "code",
   "execution_count": 289,
   "source": [
    "print(raw_post_test_x.shape)"
   ],
   "outputs": [
    {
     "output_type": "stream",
     "name": "stdout",
     "text": [
      "(900, 2)\n"
     ]
    }
   ],
   "metadata": {}
  },
  {
   "cell_type": "code",
   "execution_count": 290,
   "source": [
    "plot_gp_res(y_exp, y_pred, None)"
   ],
   "outputs": [
    {
     "output_type": "stream",
     "name": "stdout",
     "text": [
      "     Metric  Value\n",
      "0      RMSE  8.632\n",
      "1       MAE  3.844\n",
      "2  Spearman  0.992\n",
      "3  R² score  0.999\n"
     ]
    },
    {
     "output_type": "display_data",
     "data": {
      "image/png": "[encoded data removed]",
      "text/plain": [
       "<Figure size 3300x900 with 3 Axes>"
      ]
     },
     "metadata": {}
    }
   ],
   "metadata": {}
  },
  {
   "cell_type": "code",
   "execution_count": 291,
   "source": [
    "# get voltage of prediction points\n",
    "get_pos_volt = lambda pt: round(-1*(gp_func(pt)[0].item()),-2)\n",
    "ucb_pt, nlcd_pt = np.array(ucb_pt).reshape(1,2), np.array(nlcd_pt).reshape(1,2)\n",
    "ucb_pt_scaled, nlcd_pt_scaled = post_scaler.transform(ucb_pt), post_scaler.transform(nlcd_pt)\n",
    "print(ucb_pt[0][0], ucb_pt[0][1], get_pos_volt(ucb_pt_scaled))\n",
    "print(nlcd_pt[0][0], nlcd_pt[0][1], get_pos_volt(nlcd_pt_scaled))\n",
    "\n",
    "# write to csv\n",
    "dir = \"/Users/valenetjong/Bayesian-Optimization-Ferroelectrics/predictions/\"\n",
    "file_out = \"final_preds.csv\"\n",
    "file = open(dir + file_out, \"a\", encoding=\"utf-8\")\n",
    "file.write(\"\\nGP fit predictions: \\n\")\n",
    "file.write(\"Type\\t Time (ms)\\t Energy density(J\\cm^2)\\t Voltage()\\n\")\n",
    "file.write(\"UCB:\\t\" + str(ucb_pt[0][0]/1000) + \"\\t\" + str(ucb_pt[0][1]) +\"\\t\" + str(get_pos_volt(ucb_pt_scaled)) + \"\\n\")\n",
    "file.write(\"NLCB:\\t\" + str(nlcd_pt[0][0]/1000) + \"\\t\" + str(nlcd_pt[0][1]) +\"\\t\" + str(get_pos_volt(nlcd_pt_scaled)) + \"\\n\")"
   ],
   "outputs": [
    {
     "output_type": "stream",
     "name": "stdout",
     "text": [
      "1170.0 8.85 2900.0\n",
      "2900.0 9.04 2300.0\n"
     ]
    },
    {
     "output_type": "execute_result",
     "data": {
      "text/plain": [
       "22"
      ]
     },
     "metadata": {},
     "execution_count": 291
    }
   ],
   "metadata": {}
  },
  {
   "cell_type": "markdown",
   "source": [
    "#### Plot GP Function, Scipy Optimize Function, against Raw Data"
   ],
   "metadata": {}
  },
  {
   "cell_type": "code",
   "execution_count": 294,
   "source": [
    "import plotly.graph_objects as go\n",
    "import matplotlib.pyplot as plt\n",
    "import matplotlib as mpl\n",
    "\n",
    "\n",
    "# plt.style.use('seaborn')\n",
    "# mpl.rcParams['lines.linewidth'] = 1.5\n",
    "# plt.rcParams['figure.dpi'] = 200\n",
    "fig = go.Figure(data=[go.Scatter3d(z=volts_bol_dat, \n",
    "                                    x=time_bol_dat,\n",
    "                                    y=energy_den_bol_dat, \n",
    "                                    mode='markers',\n",
    "                                    marker={'color':'darkgreen'},\n",
    "                                    name='GP regression')])\n",
    "# surface plots require 2D z data, corresponding to each point in cartesian product of x and y 1D vectors\n",
    "# fig.add_trace(go.Scatter3d(z=y_pred, \n",
    "#                             x=time_bol_dat,\n",
    "#                             y=energy_den_bol_dat, \n",
    "#                                 mode='markers',))\n",
    "fig.add_trace(go.Surface(z=volt_on_grid, \n",
    "                            x=raw_post_test_grid[:,0],\n",
    "                            y=raw_post_test_grid[:,1]))\n",
    "                            # ,opacity=0.7, showscale=False))\n",
    "# fig.add_trace(go.Surface(x=np.linspace(time_bol_dat.min(), time_bol_dat.max()),\n",
    "#                             y=np.linspace(energy_den_bol_dat.min(), energy_den_bol_dat.max()),\n",
    "#                             z= y_pred, \n",
    "#                             name='training data'))\n",
    "fig.update_layout( width=1000, height=800,\n",
    "                    legend=dict(orientation=\"h\", yanchor=\"top\", y=1.02, \n",
    "                    xanchor=\"left\",x=1), margin=dict(r=20, l=10, b=10, t=10), \n",
    "                        scene=dict(\n",
    "                        xaxis_title=\"Pulse width (μs)\",\n",
    "                        yaxis_title=\"Energy density new cone (J/cm^2)\",\n",
    "                        zaxis_title='Voltage')\n",
    "                    )\n",
    "camera = dict(\n",
    "        up=dict(x=0, y=0, z=1),\n",
    "        center=dict(x=0, y=0, z=0),\n",
    "        eye=dict(x=-2, y=-2.5, z=1.75)\n",
    ")\n",
    "fig.update_layout(scene_camera=camera)\n",
    "fig.show()"
   ],
   "outputs": [
    {
     "output_type": "display_data",
     "data": {
      "application/vnd.plotly.v1+json": {
       "data": [
        {
         "marker": {
          "color": "darkgreen"
         },
         "mode": "markers",
         "name": "GP regression",
         "x": [
          500,
          1000,
          1500,
          2000,
          2500,
          3000,
          3500,
          4000,
          4500,
          5000,
          500,
          1000,
          1500,
          2000,
          2500,
          3000,
          3500,
          4000,
          4500,
          5000,
          500,
          1000,
          1500,
          2000,
          2500,
          3000,
          3500,
          4000,
          4500,
          5000,
          500,
          1000,
          1500,
          2000,
          2500,
          3000,
          3500,
          4000,
          4500,
          5000,
          500,
          1000,
          1500,
          2000,
          2500,
          3000,
          3500,
          4000,
          4500,
          5000,
          500,
          1000,
          1500,
          2000,
          2500,
          3000,
          3500,
          4000,
          4500,
          5000,
          500,
          1000,
          1500,
          2000,
          2500,
          3000,
          3500,
          4000,
          4500,
          5000,
          1000,
          5000,
          500,
          1000,
          1500,
          2000,
          2500,
          3000,
          3500,
          4000,
          4500,
          5000,
          500,
          1000,
          1500,
          2000,
          2500,
          3000,
          3500,
          4000,
          4500,
          5000
         ],
         "y": [
          1.92,
          3.79,
          5.36,
          6.65,
          7.73,
          8.59,
          9.36,
          9.99,
          10.53,
          11.02,
          2.14,
          4.26,
          6.01,
          7.43,
          8.63,
          9.58,
          10.41,
          11.08,
          11.65,
          12.18,
          2.46,
          4.79,
          6.72,
          8.28,
          9.59,
          10.66,
          11.49,
          12.21,
          12.85,
          13.4,
          2.73,
          5.38,
          7.48,
          9.18,
          10.53,
          11.71,
          12.66,
          13.35,
          14.11,
          14.67,
          3.04,
          5.99,
          8.29,
          10.1,
          11.62,
          12.83,
          13.83,
          14.7,
          15.45,
          15.98,
          3.4,
          6.44,
          8.99,
          11.01,
          12.57,
          13.97,
          15.03,
          15.99,
          16.74,
          17.38,
          3.7,
          7.22,
          9.91,
          12.08,
          13.89,
          15.29,
          16.48,
          17.44,
          18.24,
          18.93,
          10.27,
          21.81,
          1.49,
          2.89,
          4.12,
          5.18,
          6.07,
          6.78,
          7.36,
          7.94,
          8.39,
          8.8,
          1.37,
          2.7,
          3.84,
          4.83,
          5.66,
          6.78,
          7.36,
          7.94,
          8.39,
          8.8
         ],
         "z": [
          2200,
          2200,
          2200,
          2200,
          2200,
          2200,
          2200,
          2200,
          2200,
          2200,
          2300,
          2300,
          2300,
          2300,
          2300,
          2300,
          2300,
          2300,
          2300,
          2300,
          2400,
          2400,
          2400,
          2400,
          2400,
          2400,
          2400,
          2400,
          2400,
          2400,
          2500,
          2500,
          2500,
          2500,
          2500,
          2500,
          2500,
          2500,
          2500,
          2500,
          2600,
          2600,
          2600,
          2600,
          2600,
          2600,
          2600,
          2600,
          2600,
          2600,
          2700,
          2700,
          2700,
          2700,
          2700,
          2700,
          2700,
          2700,
          2700,
          2700,
          2800,
          2800,
          2800,
          2800,
          2800,
          2800,
          2800,
          2800,
          2800,
          2800,
          3000,
          3000,
          2000,
          2000,
          2000,
          2000,
          2000,
          2000,
          2000,
          2000,
          2000,
          2000,
          1950,
          1950,
          1950,
          1950,
          1950,
          1950,
          1950,
          1950,
          1950,
          1950
         ],
         "type": "scatter3d"
        },
        {
         "x": [
          339.28570710122585,
          505.54186291992664,
          671.7980187386273,
          838.0541577935218,
          1004.3103471398352,
          1170.5665364861488,
          1336.822658777237,
          1503.078781068325,
          1669.3349033594131,
          1835.5910927057264,
          2001.8471479415891,
          2168.103337287903,
          2334.3595266342163,
          2500.61571598053,
          2666.8719053268433,
          2833.1280946731567,
          2999.38428401947,
          3165.6404733657837,
          3331.896662712097,
          3498.152583837509,
          3664.4087731838226,
          3830.664962530136,
          3996.9211518764496,
          4163.177341222763,
          4329.433262348175,
          4495.6894516944885,
          4661.945641040802,
          4828.2018303871155,
          4994.458019733429,
          5160.714209079742
         ],
         "y": [
          0.6399999673664571,
          1.3951723729074001,
          2.150344778448343,
          2.9055171078443527,
          3.660689665675163,
          4.4158622235059735,
          5.171034476757049,
          5.926206730008125,
          6.6813789832592,
          7.436551541090011,
          8.191723489761351,
          8.946896047592162,
          9.702068605422973,
          10.457241163253784,
          11.212413721084593,
          11.967586278915403,
          12.722758836746214,
          13.477931394577025,
          14.233103952407836,
          14.988275291919706,
          15.743447849750517,
          16.498620407581328,
          17.25379296541214,
          18.00896552324295,
          18.76413686275482,
          19.519309420585632,
          20.27448197841644,
          21.029654536247254,
          21.784827094078064,
          22.539999651908875
         ],
         "z": [
          [
           1690.490449142664,
           2063.1961641355742,
           2408.3743073431847,
           2691.456324100456,
           2923.139684157846,
           3093.0114745959654,
           3189.43620708871,
           3226.2772527680804,
           3221.4466781506285,
           3186.351067254625,
           3128.423932056278,
           3052.632653830616,
           2960.344991133946,
           2850.269355276194,
           2721.2816481814466,
           2574.4565678028953,
           2413.1529123767555,
           2241.9758472358853,
           2065.7322394657544,
           1888.801690177294,
           1714.8658720431608,
           1546.8464709375735,
           1386.9375826345165,
           1236.6811181528587,
           1097.0578433438077,
           968.5803698180241,
           851.3844595526161,
           745.3101887319206,
           649.9744945448415,
           564.8332237418199
          ],
          [
           1599.2614838747404,
           1957.3262606615813,
           2287.2177156369576,
           2551.6558012831542,
           2775.354188697442,
           2947.5445836209337,
           3055.773065325754,
           3116.670504535259,
           3144.9914295159165,
           3144.9821920086397,
           3120.9092284173557,
           3077.5229100481165,
           3014.968773151527,
           2929.8682210136753,
           2819.7915763670962,
           2685.926065275176,
           2532.5434083198884,
           2365.238445148575,
           2189.6281855868806,
           2010.7417443333557,
           1832.814553576346,
           1659.261628275589,
           1492.7178104308105,
           1335.1103305160896,
           1187.7468174828623,
           1051.408330739482,
           926.4437459317146,
           812.8557053470565,
           710.3789723525022,
           618.5487151222285
          ],
          [
           1495.5854584106137,
           1823.5650278188205,
           2122.962497589705,
           2366.415835569447,
           2573.1088851175664,
           2741.097500548778,
           2862.388959269523,
           2952.9840178337563,
           3021.593625651978,
           3060.863149512489,
           3073.507509724541,
           3066.0945070655143,
           3037.4013394162293,
           2981.382405928365,
           2894.160628513684,
           2777.2638938250348,
           2635.9149966587975,
           2476.4803285844,
           2305.138958497121,
           2127.41690971183,
           1948.055256260613,
           1770.984150144152,
           1599.3361572237473,
           1435.4934728118096,
           1281.1612060548446,
           1137.4550718418159,
           1004.9964425677215,
           884.002012865596,
           774.3676177521625,
           675.7429645960576
          ],
          [
           1393.3029116710404,
           1684.302346501101,
           1948.9298761295304,
           2169.438301478951,
           2356.9236087792906,
           2517.788517358681,
           2648.847546489982,
           2766.5824684861254,
           2874.201245868764,
           2948.463077370857,
           2994.9031092549158,
           3022.8578633571615,
           3028.797869718158,
           3003.544983664102,
           2941.8315425506116,
           2845.630695595468,
           2720.6852848954904,
           2573.537270510289,
           2410.507379433023,
           2237.4199981838474,
           2059.476331356363,
           1881.154718215315,
           1706.1498396820598,
           1537.3718585377046,
           1376.995887180145,
           1226.540739719086,
           1086.96268295342,
           958.7474261003315,
           841.9985666552273,
           736.5186364205872
          ],
          [
           1304.962754582818,
           1562.5164051329548,
           1797.818149841345,
           1998.5439102141254,
           2170.9662908850214,
           2325.0473553756983,
           2460.0992341093524,
           2593.482954494747,
           2725.883754612105,
           2823.334791704704,
           2896.222402133105,
           2954.7389894636735,
           2992.1501447874753,
           2996.441604329484,
           2961.593325612378,
           2889.55677287018,
           2785.47396542201,
           2655.1667672910908,
           2504.610468920082,
           2339.742441230849,
           2166.1967194506324,
           1989.0356461478414,
           1812.5717246322024,
           1640.3046016643157,
           1474.9431199575865,
           1318.4730960803217,
           1172.2470417390905,
           1037.0756279180705,
           913.3186848419682,
           800.9717026467649
          ],
          [
           1238.6945328715628,
           1471.673800740049,
           1687.6637543679053,
           1876.9881573890261,
           2041.8212277530229,
           2189.0572087088276,
           2323.110559782098,
           2458.470582274951,
           2592.0154584613865,
           2699.4000097585904,
           2789.034145194508,
           2870.4714588334555,
           2932.9864780050557,
           2962.91821120878,
           2954.999554306618,
           2909.9180100136928,
           2830.6436895140323,
           2721.292469509658,
           2587.03813075414,
           2433.776936718523,
           2267.5423212181267,
           2093.983124808029,
           1918.045663163588,
           1743.8479774910938,
           1574.6751482660834,
           1413.032654790833,
           1260.7259328621494,
           1118.9453224018644,
           988.3554959395378,
           869.1855486851894
          ],
          [
           1195.3127779604238,
           1412.305351909391,
           1617.6136442099105,
           1802.468583951978,
           1964.395679778896,
           2105.49947685991,
           2233.8195669333145,
           2360.5542238784255,
           2481.8932752180754,
           2586.8893295340513,
           2683.3962687842104,
           2779.52643089927,
           2859.2973919967644,
           2909.4945269383807,
           2927.016652142618,
           2910.1450281541875,
           2858.237641996262,
           2772.827216114134,
           2657.903879780234,
           2519.163367783306,
           2362.936480325755,
           2195.3740377091262,
           2021.9975477086728,
           1847.5208888869056,
           1675.8179613323473,
           1509.9516866873364,
           1352.2306447679057,
           1204.2768801302113,
           1067.107182604002,
           941.2239756224212
          ],
          [
           1169.48800665625,
           1375.5669013212664,
           1573.8136935799103,
           1755.3480447257334,
           1914.2414817922163,
           2049.3765729786155,
           2169.81029878556,
           2285.3529882819803,
           2393.6698856057938,
           2491.9674808382515,
           2588.360495931278,
           2690.22273873256,
           2778.875739953073,
           2844.0562589430465,
           2884.3542272602535,
           2894.995819103635,
           2871.058836402348,
           2811.010223395364,
           2717.405151798901,
           2595.5189502130106,
           2451.742055146572,
           2292.5137510891655,
           2123.7782234647775,
           1950.7653757554071,
           1777.9208823580784,
           1608.8895638191498,
           1446.5274835408986,
           1292.937019293543,
           1149.5314940995172,
           1017.1237757650597
          ],
          [
           1153.4716064032473,
           1350.0928321405736,
           1540.5903662695528,
           1715.7305888228457,
           1868.3414534619678,
           1997.2814041116926,
           2111.284011699734,
           2219.0820122189652,
           2320.524021106936,
           2415.3084666030336,
           2509.687341303221,
           2607.897067531114,
           2698.0729010268133,
           2773.70044974325,
           2833.1048747430905,
           2868.6680329332194,
           2871.337333831869,
           2836.568798694492,
           2765.3539163293117,
           2662.194527873229,
           2533.1374207454865,
           2384.56914572596,
           2222.6205886152866,
           2052.912866025783,
           1880.4270982410562,
           1709.4071826628688,
           1543.2968460281518,
           1384.7229492592014,
           1235.53471453574,
           1096.8877658525962
          ],
          [
           1140.5725343728263,
           1327.4356714872574,
           1508.427092819742,
           1674.4717426780226,
           1818.986066734391,
           1942.1660829383454,
           2052.412649705826,
           2157.3972464596154,
           2257.867137994508,
           2353.07626629516,
           2444.9653104866993,
           2535.7544110302915,
           2622.5007654728506,
           2703.905341938793,
           2777.544290285008,
           2833.5639011993026,
           2859.8524939837116,
           2849.2882722127615,
           2801.024425036736,
           2718.235473205863,
           2606.110949826898,
           2470.5651040910416,
           2317.6273418016717,
           2153.1632375291683,
           1982.6488658799817,
           1810.9433663242726,
           1642.1139477116803,
           1479.3484822678001,
           1324.9628136715114,
           1180.4799247606475
          ],
          [
           1126.7193293590572,
           1303.6282985139242,
           1474.733530260588,
           1631.862537804196,
           1769.7368757682816,
           1889.3946425709473,
           1998.3232884051286,
           2102.862573372564,
           2203.8233139518416,
           2299.800914256146,
           2389.1911411586407,
           2473.7157958320895,
           2556.2089461713913,
           2639.2665895041537,
           2720.5133509655643,
           2790.4473053289075,
           2836.325864586237,
           2848.5332279705035,
           2823.546199594024,
           2762.6192159839866,
           2669.59236170803,
           2549.445941492826,
           2407.7861595365885,
           2250.5740515723573,
           2083.747135699774,
           1912.7949441224919,
           1742.4337031180476,
           1576.4344844068964,
           1417.5965752727589,
           1267.8237529572348
          ],
          [
           1110.1891783524898,
           1277.7726364952869,
           1440.2585138960621,
           1590.8322797168184,
           1725.4580732512695,
           1844.986264963889,
           1954.3511163278854,
           2057.784759330516,
           2157.0208506000927,
           2251.4857431250784,
           2338.7790391041526,
           2420.1471101947027,
           2500.518999244443,
           2582.710414735422,
           2664.216602928984,
           2740.447610545114,
           2801.540796886453,
           2834.616555650231,
           2832.611423810249,
           2794.619187758046,
           2722.643549044393,
           2620.160790779588,
           2491.9908489219015,
           2344.0519850578257,
           2182.716278815222,
           2014.10514520379,
           1843.5850779200146,
           1675.5081368308156,
           1513.1539448016065,
           1358.8059837932005
          ],
          [
           1090.5742855092649,
           1250.0071817713433,
           1405.7398884574104,
           1552.3066387736471,
           1686.430065144359,
           1807.896744569909,
           1918.3623644350373,
           2019.5916043170473,
           2115.094882644429,
           2206.887876713372,
           2292.9603268723586,
           2373.5949352229727,
           2453.6114937856546,
           2533.987502192733,
           2610.783641800601,
           2687.4494319016667,
           2759.145854706563,
           2809.5370893843574,
           2828.8185413175706,
           2814.031825559832,
           2764.5953387380723,
           2681.7135100789383,
           2569.0404155851465,
           2432.339957281445,
           2278.3780817721563,
           2113.8667394611366,
           1944.7797141815108,
           1776.0134105577135,
           1611.3000915171542,
           1453.2848954194524
          ],
          [
           1067.9333729416321,
           1220.3697143628451,
           1370.779781987556,
           1514.6882333338908,
           1649.0017938872952,
           1772.1748327829628,
           1883.3580327793206,
           1982.6784010514057,
           2075.301440604897,
           2165.6723308792425,
           2252.024088539256,
           2333.1587890738083,
           2412.744243033456,
           2490.8044170162902,
           2562.4649396711975,
           2637.0823154134923,
           2713.911369674024,
           2776.042304141887,
           2813.4731453023232,
           2821.226612698596,
           2795.0841533713574,
           2733.1427569486586,
           2637.612946918751,
           2514.0176906664874,
           2369.4059567564636,
           2210.955279912554,
           2045.1437158495555,
           1877.3371973281573,
           1711.6671766280251,
           1551.103953908122
          ],
          [
           1042.4488015827483,
           1188.697868440864,
           1334.4510104432047,
           1475.7973841603925,
           1609.4751299988857,
           1732.8782750504033,
           1844.001399556335,
           1943.1566282629574,
           2036.0128546141568,
           2127.512500541983,
           2215.8000922687716,
           2298.0582925384588,
           2376.10734717545,
           2450.7332219370946,
           2520.744421858959,
           2593.594671492596,
           2669.4224010704856,
           2737.0492262937623,
           2788.6179521376253,
           2817.1938740274018,
           2813.9875279625667,
           2773.4425858476498,
           2696.2630752513032,
           2587.5659817198957,
           2454.4099383942576,
           2304.2045055743965,
           2143.7740765346844,
           1978.8482403698017,
           1813.8797852472253,
           1652.1066476068063
          ],
          [
           1014.4288259867317,
           1154.9798406258924,
           1296.2582989242,
           1434.6588736395133,
           1566.7522686132725,
           1689.4668458396918,
           1800.7767291434066,
           1901.7248598936421,
           1997.578198717696,
           2092.434825303819,
           2183.651177275584,
           2266.8119505755603,
           2342.5199314330166,
           2414.2032938312477,
           2484.7210209420373,
           2556.4063634199993,
           2628.064221894274,
           2696.1814190192817,
           2757.3365902490477,
           2803.495629986428,
           2821.2491870772174,
           2801.548209429013,
           2743.5807255457403,
           2651.57044755933,
           2532.1053520118385,
           2392.5217759713905,
           2239.8106667657667,
           2079.940232694209,
           1917.5794475624934,
           1756.1474697261274
          ],
          [
           984.3767513085259,
           1119.5966107989625,
           1256.5345590456018,
           1391.8498296583566,
           1522.1858026395785,
           1644.5739487776154,
           1757.4055709276217,
           1861.9358694587208,
           1962.2781809879089,
           2061.009637020361,
           2154.496438970389,
           2237.734648349142,
           2311.545073758163,
           2381.7011152823543,
           2452.77201190326,
           2523.206052217305,
           2590.7259311389716,
           2657.247997809405,
           2723.5028678583258,
           2781.9542572852224,
           2816.872859569845,
           2816.754471225002,
           2778.67637695359,
           2705.079040176206,
           2601.5291564974796,
           2475.0057347556703,
           2332.497090673847,
           2180.0627537669716,
           2022.4382729762565,
           1863.091989755727
          ],
          [
           952.970154775383,
           1083.2710261885477,
           1216.200347614722,
           1348.7596420274713,
           1477.9147896472277,
           1601.0930114984149,
           1717.034224349387,
           1826.5811139516009,
           1931.9784924257765,
           2033.5511395609938,
           2127.3904024092117,
           2209.837993211164,
           2282.967755897698,
           2353.101762832157,
           2423.914732944453,
           2492.6633923526897,
           2557.753401048474,
           2623.0185866803367,
           2690.6485934984594,
           2754.8460442465803,
           2802.0867444470787,
           2819.8184202689263,
           2801.83936432299,
           2747.9234874263275,
           2662.1764971063894,
           2550.9959584456356,
           2421.195846389315,
           2278.7238399865983,
           2128.152971024887,
           1972.7992286722865
          ],
          [
           920.948610166648,
           1046.837769175625,
           1176.284876830192,
           1306.7056969260448,
           1435.5010963868117,
           1560.5011328915352,
           1680.515424125093,
           1795.5154208447493,
           1905.6171157315985,
           2009.0057322570356,
           2102.078129686837,
           2183.510891457132,
           2256.812976048459,
           2327.6385667284194,
           2398.052855525966,
           2465.389189489928,
           2529.485980674908,
           2594.119576052195,
           2660.5663473651002,
           2725.5500768229685,
           2780.560375269095,
           2813.4648954861696,
           2814.6142188877857,
           2780.6555381998915,
           2713.912812962739,
           2620.000933288993,
           2505.3420701944833,
           2375.4607363913183,
           2234.4165621449865,
           2085.0809344459285
          ],
          [
           888.9813047887073,
           1011.0175209998488,
           1137.5714157882758,
           1266.4747823665093,
           1395.5233344793523,
           1522.7832186411033,
           1646.837253063728,
           1766.610638189668,
           1880.4658991887845,
           1985.2888873856427,
           2078.0543495543243,
           2159.3222512388747,
           2233.3512689201307,
           2304.830489610278,
           2374.950667878031,
           2441.699675574171,
           2505.8644945589476,
           2570.0805119908837,
           2634.061906787312,
           2697.2247693597456,
           2756.3365846655433,
           2800.8730423552333,
           2818.8840512979477,
           2804.0255078289047,
           2756.6745250582353,
           2681.537943674495,
           2584.366707680656,
           2469.7964021064454,
           2340.8713794859905,
           2199.631865696314
          ],
          [
           857.5745892274572,
           976.2957693971985,
           1100.481448766448,
           1228.3153002909457,
           1357.861532248673,
           1487.2195022738888,
           1614.5601166417619,
           1737.8587126203784,
           1854.3654391821328,
           1960.623510578458,
           2054.398606212286,
           2136.994074823364,
           2212.354188522295,
           2284.1326639990584,
           2353.5884022559767,
           2420.4731776987755,
           2485.778699419243,
           2549.636355820636,
           2610.804617791182,
           2671.2285404943686,
           2731.584130611467,
           2784.009229862946,
           2815.92650655903,
           2818.445162413769,
           2790.1880736023995,
           2735.0239597009786,
           2657.6656411883378,
           2561.2117772584443,
           2447.0452233577453,
           2315.9203969573045
          ],
          [
           827.0373602570908,
           942.9064136132147,
           1065.1259228721465,
           1192.1412336850117,
           1322.153909012428,
           1453.1560005038482,
           1582.87074476431,
           1708.5696445444773,
           1826.972367237453,
           1934.8288457086892,
           2030.5493913233804,
           2115.402355939834,
           2192.405224951348,
           2264.2555885572365,
           2332.8424247854855,
           2399.9450656103,
           2466.712342836836,
           2530.5215869052336,
           2589.045634300812,
           2646.4646364743603,
           2706.3780386409344,
           2763.660455216901,
           2806.3068919922516,
           2823.8792325812137,
           2814.005517660211,
           2779.892616133031,
           2724.6824155350296,
           2649.1368634906303,
           2552.247117734056,
           2433.0116763821607
          ],
          [
           797.4880238057594,
           910.8686492631023,
           1031.4013294213146,
           1157.7168511470372,
           1288.0711471536633,
           1420.3038139596174,
           1551.7633977582736,
           1679.266873317174,
           1799.3221343391924,
           1908.9239080149273,
           2006.7682976603974,
           2093.786163898505,
           2172.16175268183,
           2244.079054715694,
           2312.071372930586,
           2379.0723544278735,
           2446.431196885227,
           2510.072472077649,
           2566.7805612612137,
           2621.9062581929684,
           2680.7896459624026,
           2740.4975444203155,
           2790.4701423587685,
           2820.433653929773,
           2828.111829145684,
           2816.0145990839337,
           2785.0712733000328,
           2732.897017850846,
           2655.3680142377652,
           2549.289473720366
          ],
          [
           768.8803783361,
           880.0309900104403,
           999.0536524979398,
           1124.7234851380053,
           1255.3304635447712,
           1388.5970462147961,
           1521.6176393027708,
           1650.9258212590212,
           1772.8772525783133,
           1884.4728326548939,
           1984.3215742075117,
           2072.931850457084,
           2152.039562933147,
           2224.054330307845,
           2291.9895299619675,
           2358.641771083174,
           2424.971388965001,
           2487.6941997757967,
           2544.1018993535836,
           2598.555892260032,
           2656.550783954459,
           2716.678492785628,
           2770.4796538036535,
           2809.9790371975687,
           2833.977476418331,
           2844.137451039176,
           2838.700097458437,
           2811.4600794087673,
           2754.5039791893178,
           2662.0447132070967
          ],
          [
           741.032952191068,
           850.1022449653465,
           967.6955054393766,
           1092.7263692577835,
           1223.5483477312519,
           1357.85089443982,
           1492.6074755063746,
           1624.1809237511625,
           1748.727501029236,
           1862.9635242749646,
           1965.0648028666328,
           2055.0639367632393,
           2134.5411906583467,
           2206.5842088646605,
           2274.7019112574053,
           2340.7207549998275,
           2405.167208387036,
           2466.8530865568027,
           2523.9827688364894,
           2579.007368910723,
           2636.5621580259103,
           2696.094271310496,
           2751.189843507469,
           2797.0540343498433,
           2834.738226251211,
           2865.6034416013135,
           2885.1376657757246,
           2882.843703574621,
           2846.3709204436345,
           2766.9577033273526
          ],
          [
           713.6582496465708,
           820.6738316218398,
           936.802970116114,
           1061.1133806312719,
           1192.0757588814304,
           1327.4470881574816,
           1464.21166674899,
           1598.6663934378303,
           1726.7550086550182,
           1844.7160802106082,
           1949.9702621155593,
           2041.8609194697347,
           2121.856979792181,
           2193.814916328265,
           2261.8915390604234,
           2327.221653098648,
           2390.178771328734,
           2451.3164100634604,
           2509.4621286678303,
           2565.5671585775854,
           2623.186298918168,
           2682.0284642186816,
           2737.036143362515,
           2786.0796871895654,
           2833.2152986422225,
           2880.889537732288,
           2922.5620109013726,
           2943.2623870543466,
           2925.633356405926,
           2857.615884193019
          ],
          [
           686.3963225778061,
           791.2488958932518,
           905.728900275717,
           1029.076068516777,
           1159.928229403231,
           1296.1959249921492,
           1434.9855982779554,
           1572.6352187605808,
           1704.9380517160753,
           1827.6241206183622,
           1937.146191561129,
           2031.7493732617586,
           2112.7005141941772,
           2184.6009908855776,
           2252.242261336796,
           2317.158204109437,
           2379.735196653666,
           2440.7724259009847,
           2499.7526764159993,
           2557.0664819728117,
           2615.101513971953,
           2673.4737067503884,
           2727.7935930515305,
           2777.266833609974,
           2828.8567172620533,
           2887.779690990672,
           2946.7256888285265,
           2986.463824582843,
           2984.487248632475,
           2925.3650758683125
          ],
          [
           658.855745055298,
           761.2884729267826,
           873.7541483760579,
           995.6687117607071,
           1125.8616122964595,
           1262.4433234792232,
           1402.706423276919,
           1543.1048400496657,
           1679.3654364985123,
           1806.7976963179535,
           1920.9144227457,
           2018.7041413415864,
           2100.988909789681,
           2173.005589370965,
           2240.2890539435903,
           2305.1855396564642,
           2368.0151163281844,
           2429.220388159665,
           2488.780616404867,
           2546.929064918775,
           2605.2064485647134,
           2663.2720880291745,
           2716.7047024354542,
           2764.5925086209245,
           2816.461224401937,
           2881.066636184307,
           2951.0754197772367,
           3003.959752699455,
           3013.0393358906003,
           2959.976610310423
          ],
          [
           630.6622562996563,
           730.2758005533251,
           840.1771568496624,
           959.9411603133485,
           1088.5789773607103,
           1224.3983660689846,
           1364.8821630882885,
           1506.6168378175935,
           1645.3153886511573,
           1776.009576934739,
           1893.5862340019667,
           1994.1575312104833,
           2078.0210545570008,
           2150.6261608760105,
           2217.9540230678103,
           2282.964478678885,
           2345.984293507965,
           2407.260122965119,
           2466.9994264366105,
           2525.2984376448585,
           2583.162151599725,
           2640.366975030527,
           2692.5266505507316,
           2738.3839395052128,
           2788.7898388313843,
           2854.5372207583314,
           2928.462215964395,
           2986.81034996131,
           3001.192959563781,
           2951.7836815855208
          ],
          [
           601.5091129113061,
           697.7880480032763,
           804.4212194971478,
           921.1057558145258,
           1046.9962515242369,
           1180.5579133642168,
           1319.4261376774375,
           1460.299451027793,
           1598.9136550434341,
           1730.1990530659968,
           1848.8592810862465,
           1950.8966116570518,
           2036.375478198548,
           2110.0987536446773,
           2177.761886581691,
           2242.603923027171,
           2305.348837193451,
           2366.2304172678414,
           2425.4603334489657,
           2483.13451241485,
           2539.800899081776,
           2594.8782054376934,
           2644.9088211149137,
           2689.7655371696746,
           2739.258871505597,
           2802.703206283004,
           2873.4533309654907,
           2929.1930078289406,
           2942.9022264395844,
           2895.637635543573
          ]
         ],
         "type": "surface"
        }
       ],
       "layout": {
        "template": {
         "data": {
          "histogram2dcontour": [
           {
            "type": "histogram2dcontour",
            "colorbar": {
             "outlinewidth": 0,
             "ticks": ""
            },
            "colorscale": [
             [
              0,
              "#0d0887"
             ],
             [
              0.1111111111111111,
              "#46039f"
             ],
             [
              0.2222222222222222,
              "#7201a8"
             ],
             [
              0.3333333333333333,
              "#9c179e"
             ],
             [
              0.4444444444444444,
              "#bd3786"
             ],
             [
              0.5555555555555556,
              "#d8576b"
             ],
             [
              0.6666666666666666,
              "#ed7953"
             ],
             [
              0.7777777777777778,
              "#fb9f3a"
             ],
             [
              0.8888888888888888,
              "#fdca26"
             ],
             [
              1,
              "#f0f921"
             ]
            ]
           }
          ],
          "choropleth": [
           {
            "type": "choropleth",
            "colorbar": {
             "outlinewidth": 0,
             "ticks": ""
            }
           }
          ],
          "histogram2d": [
           {
            "type": "histogram2d",
            "colorbar": {
             "outlinewidth": 0,
             "ticks": ""
            },
            "colorscale": [
             [
              0,
              "#0d0887"
             ],
             [
              0.1111111111111111,
              "#46039f"
             ],
             [
              0.2222222222222222,
              "#7201a8"
             ],
             [
              0.3333333333333333,
              "#9c179e"
             ],
             [
              0.4444444444444444,
              "#bd3786"
             ],
             [
              0.5555555555555556,
              "#d8576b"
             ],
             [
              0.6666666666666666,
              "#ed7953"
             ],
             [
              0.7777777777777778,
              "#fb9f3a"
             ],
             [
              0.8888888888888888,
              "#fdca26"
             ],
             [
              1,
              "#f0f921"
             ]
            ]
           }
          ],
          "heatmap": [
           {
            "type": "heatmap",
            "colorbar": {
             "outlinewidth": 0,
             "ticks": ""
            },
            "colorscale": [
             [
              0,
              "#0d0887"
             ],
             [
              0.1111111111111111,
              "#46039f"
             ],
             [
              0.2222222222222222,
              "#7201a8"
             ],
             [
              0.3333333333333333,
              "#9c179e"
             ],
             [
              0.4444444444444444,
              "#bd3786"
             ],
             [
              0.5555555555555556,
              "#d8576b"
             ],
             [
              0.6666666666666666,
              "#ed7953"
             ],
             [
              0.7777777777777778,
              "#fb9f3a"
             ],
             [
              0.8888888888888888,
              "#fdca26"
             ],
             [
              1,
              "#f0f921"
             ]
            ]
           }
          ],
          "heatmapgl": [
           {
            "type": "heatmapgl",
            "colorbar": {
             "outlinewidth": 0,
             "ticks": ""
            },
            "colorscale": [
             [
              0,
              "#0d0887"
             ],
             [
              0.1111111111111111,
              "#46039f"
             ],
             [
              0.2222222222222222,
              "#7201a8"
             ],
             [
              0.3333333333333333,
              "#9c179e"
             ],
             [
              0.4444444444444444,
              "#bd3786"
             ],
             [
              0.5555555555555556,
              "#d8576b"
             ],
             [
              0.6666666666666666,
              "#ed7953"
             ],
             [
              0.7777777777777778,
              "#fb9f3a"
             ],
             [
              0.8888888888888888,
              "#fdca26"
             ],
             [
              1,
              "#f0f921"
             ]
            ]
           }
          ],
          "contourcarpet": [
           {
            "type": "contourcarpet",
            "colorbar": {
             "outlinewidth": 0,
             "ticks": ""
            }
           }
          ],
          "contour": [
           {
            "type": "contour",
            "colorbar": {
             "outlinewidth": 0,
             "ticks": ""
            },
            "colorscale": [
             [
              0,
              "#0d0887"
             ],
             [
              0.1111111111111111,
              "#46039f"
             ],
             [
              0.2222222222222222,
              "#7201a8"
             ],
             [
              0.3333333333333333,
              "#9c179e"
             ],
             [
              0.4444444444444444,
              "#bd3786"
             ],
             [
              0.5555555555555556,
              "#d8576b"
             ],
             [
              0.6666666666666666,
              "#ed7953"
             ],
             [
              0.7777777777777778,
              "#fb9f3a"
             ],
             [
              0.8888888888888888,
              "#fdca26"
             ],
             [
              1,
              "#f0f921"
             ]
            ]
           }
          ],
          "surface": [
           {
            "type": "surface",
            "colorbar": {
             "outlinewidth": 0,
             "ticks": ""
            },
            "colorscale": [
             [
              0,
              "#0d0887"
             ],
             [
              0.1111111111111111,
              "#46039f"
             ],
             [
              0.2222222222222222,
              "#7201a8"
             ],
             [
              0.3333333333333333,
              "#9c179e"
             ],
             [
              0.4444444444444444,
              "#bd3786"
             ],
             [
              0.5555555555555556,
              "#d8576b"
             ],
             [
              0.6666666666666666,
              "#ed7953"
             ],
             [
              0.7777777777777778,
              "#fb9f3a"
             ],
             [
              0.8888888888888888,
              "#fdca26"
             ],
             [
              1,
              "#f0f921"
             ]
            ]
           }
          ],
          "mesh3d": [
           {
            "type": "mesh3d",
            "colorbar": {
             "outlinewidth": 0,
             "ticks": ""
            }
           }
          ],
          "scatter": [
           {
            "fillpattern": {
             "fillmode": "overlay",
             "size": 10,
             "solidity": 0.2
            },
            "type": "scatter"
           }
          ],
          "parcoords": [
           {
            "type": "parcoords",
            "line": {
             "colorbar": {
              "outlinewidth": 0,
              "ticks": ""
             }
            }
           }
          ],
          "scatterpolargl": [
           {
            "type": "scatterpolargl",
            "marker": {
             "colorbar": {
              "outlinewidth": 0,
              "ticks": ""
             }
            }
           }
          ],
          "bar": [
           {
            "error_x": {
             "color": "#2a3f5f"
            },
            "error_y": {
             "color": "#2a3f5f"
            },
            "marker": {
             "line": {
              "color": "#E5ECF6",
              "width": 0.5
             },
             "pattern": {
              "fillmode": "overlay",
              "size": 10,
              "solidity": 0.2
             }
            },
            "type": "bar"
           }
          ],
          "scattergeo": [
           {
            "type": "scattergeo",
            "marker": {
             "colorbar": {
              "outlinewidth": 0,
              "ticks": ""
             }
            }
           }
          ],
          "scatterpolar": [
           {
            "type": "scatterpolar",
            "marker": {
             "colorbar": {
              "outlinewidth": 0,
              "ticks": ""
             }
            }
           }
          ],
          "histogram": [
           {
            "marker": {
             "pattern": {
              "fillmode": "overlay",
              "size": 10,
              "solidity": 0.2
             }
            },
            "type": "histogram"
           }
          ],
          "scattergl": [
           {
            "type": "scattergl",
            "marker": {
             "colorbar": {
              "outlinewidth": 0,
              "ticks": ""
             }
            }
           }
          ],
          "scatter3d": [
           {
            "type": "scatter3d",
            "line": {
             "colorbar": {
              "outlinewidth": 0,
              "ticks": ""
             }
            },
            "marker": {
             "colorbar": {
              "outlinewidth": 0,
              "ticks": ""
             }
            }
           }
          ],
          "scattermapbox": [
           {
            "type": "scattermapbox",
            "marker": {
             "colorbar": {
              "outlinewidth": 0,
              "ticks": ""
             }
            }
           }
          ],
          "scatterternary": [
           {
            "type": "scatterternary",
            "marker": {
             "colorbar": {
              "outlinewidth": 0,
              "ticks": ""
             }
            }
           }
          ],
          "scattercarpet": [
           {
            "type": "scattercarpet",
            "marker": {
             "colorbar": {
              "outlinewidth": 0,
              "ticks": ""
             }
            }
           }
          ],
          "carpet": [
           {
            "aaxis": {
             "endlinecolor": "#2a3f5f",
             "gridcolor": "white",
             "linecolor": "white",
             "minorgridcolor": "white",
             "startlinecolor": "#2a3f5f"
            },
            "baxis": {
             "endlinecolor": "#2a3f5f",
             "gridcolor": "white",
             "linecolor": "white",
             "minorgridcolor": "white",
             "startlinecolor": "#2a3f5f"
            },
            "type": "carpet"
           }
          ],
          "table": [
           {
            "cells": {
             "fill": {
              "color": "#EBF0F8"
             },
             "line": {
              "color": "white"
             }
            },
            "header": {
             "fill": {
              "color": "#C8D4E3"
             },
             "line": {
              "color": "white"
             }
            },
            "type": "table"
           }
          ],
          "barpolar": [
           {
            "marker": {
             "line": {
              "color": "#E5ECF6",
              "width": 0.5
             },
             "pattern": {
              "fillmode": "overlay",
              "size": 10,
              "solidity": 0.2
             }
            },
            "type": "barpolar"
           }
          ],
          "pie": [
           {
            "automargin": true,
            "type": "pie"
           }
          ]
         },
         "layout": {
          "autotypenumbers": "strict",
          "colorway": [
           "#636efa",
           "#EF553B",
           "#00cc96",
           "#ab63fa",
           "#FFA15A",
           "#19d3f3",
           "#FF6692",
           "#B6E880",
           "#FF97FF",
           "#FECB52"
          ],
          "font": {
           "color": "#2a3f5f"
          },
          "hovermode": "closest",
          "hoverlabel": {
           "align": "left"
          },
          "paper_bgcolor": "white",
          "plot_bgcolor": "#E5ECF6",
          "polar": {
           "bgcolor": "#E5ECF6",
           "angularaxis": {
            "gridcolor": "white",
            "linecolor": "white",
            "ticks": ""
           },
           "radialaxis": {
            "gridcolor": "white",
            "linecolor": "white",
            "ticks": ""
           }
          },
          "ternary": {
           "bgcolor": "#E5ECF6",
           "aaxis": {
            "gridcolor": "white",
            "linecolor": "white",
            "ticks": ""
           },
           "baxis": {
            "gridcolor": "white",
            "linecolor": "white",
            "ticks": ""
           },
           "caxis": {
            "gridcolor": "white",
            "linecolor": "white",
            "ticks": ""
           }
          },
          "coloraxis": {
           "colorbar": {
            "outlinewidth": 0,
            "ticks": ""
           }
          },
          "colorscale": {
           "sequential": [
            [
             0,
             "#0d0887"
            ],
            [
             0.1111111111111111,
             "#46039f"
            ],
            [
             0.2222222222222222,
             "#7201a8"
            ],
            [
             0.3333333333333333,
             "#9c179e"
            ],
            [
             0.4444444444444444,
             "#bd3786"
            ],
            [
             0.5555555555555556,
             "#d8576b"
            ],
            [
             0.6666666666666666,
             "#ed7953"
            ],
            [
             0.7777777777777778,
             "#fb9f3a"
            ],
            [
             0.8888888888888888,
             "#fdca26"
            ],
            [
             1,
             "#f0f921"
            ]
           ],
           "sequentialminus": [
            [
             0,
             "#0d0887"
            ],
            [
             0.1111111111111111,
             "#46039f"
            ],
            [
             0.2222222222222222,
             "#7201a8"
            ],
            [
             0.3333333333333333,
             "#9c179e"
            ],
            [
             0.4444444444444444,
             "#bd3786"
            ],
            [
             0.5555555555555556,
             "#d8576b"
            ],
            [
             0.6666666666666666,
             "#ed7953"
            ],
            [
             0.7777777777777778,
             "#fb9f3a"
            ],
            [
             0.8888888888888888,
             "#fdca26"
            ],
            [
             1,
             "#f0f921"
            ]
           ],
           "diverging": [
            [
             0,
             "#8e0152"
            ],
            [
             0.1,
             "#c51b7d"
            ],
            [
             0.2,
             "#de77ae"
            ],
            [
             0.3,
             "#f1b6da"
            ],
            [
             0.4,
             "#fde0ef"
            ],
            [
             0.5,
             "#f7f7f7"
            ],
            [
             0.6,
             "#e6f5d0"
            ],
            [
             0.7,
             "#b8e186"
            ],
            [
             0.8,
             "#7fbc41"
            ],
            [
             0.9,
             "#4d9221"
            ],
            [
             1,
             "#276419"
            ]
           ]
          },
          "xaxis": {
           "gridcolor": "white",
           "linecolor": "white",
           "ticks": "",
           "title": {
            "standoff": 15
           },
           "zerolinecolor": "white",
           "automargin": true,
           "zerolinewidth": 2
          },
          "yaxis": {
           "gridcolor": "white",
           "linecolor": "white",
           "ticks": "",
           "title": {
            "standoff": 15
           },
           "zerolinecolor": "white",
           "automargin": true,
           "zerolinewidth": 2
          },
          "scene": {
           "xaxis": {
            "backgroundcolor": "#E5ECF6",
            "gridcolor": "white",
            "linecolor": "white",
            "showbackground": true,
            "ticks": "",
            "zerolinecolor": "white",
            "gridwidth": 2
           },
           "yaxis": {
            "backgroundcolor": "#E5ECF6",
            "gridcolor": "white",
            "linecolor": "white",
            "showbackground": true,
            "ticks": "",
            "zerolinecolor": "white",
            "gridwidth": 2
           },
           "zaxis": {
            "backgroundcolor": "#E5ECF6",
            "gridcolor": "white",
            "linecolor": "white",
            "showbackground": true,
            "ticks": "",
            "zerolinecolor": "white",
            "gridwidth": 2
           }
          },
          "shapedefaults": {
           "line": {
            "color": "#2a3f5f"
           }
          },
          "annotationdefaults": {
           "arrowcolor": "#2a3f5f",
           "arrowhead": 0,
           "arrowwidth": 1
          },
          "geo": {
           "bgcolor": "white",
           "landcolor": "#E5ECF6",
           "subunitcolor": "white",
           "showland": true,
           "showlakes": true,
           "lakecolor": "white"
          },
          "title": {
           "x": 0.05
          },
          "mapbox": {
           "style": "light"
          }
         }
        },
        "legend": {
         "orientation": "h",
         "yanchor": "top",
         "y": 1.02,
         "xanchor": "left",
         "x": 1
        },
        "margin": {
         "r": 20,
         "l": 10,
         "b": 10,
         "t": 10
        },
        "width": 1000,
        "height": 800,
        "scene": {
         "xaxis": {
          "title": {
           "text": "Pulse width (μs)"
          }
         },
         "yaxis": {
          "title": {
           "text": "Energy density new cone (J/cm^2)"
          }
         },
         "zaxis": {
          "title": {
           "text": "Voltage"
          }
         },
         "camera": {
          "up": {
           "x": 0,
           "y": 0,
           "z": 1
          },
          "center": {
           "x": 0,
           "y": 0,
           "z": 0
          },
          "eye": {
           "x": -2,
           "y": -2.5,
           "z": 1.75
          }
         }
        }
       },
       "config": {
        "plotlyServerURL": "https://plot.ly"
       }
      }
     },
     "metadata": {}
    }
   ],
   "metadata": {}
  },
  {
   "cell_type": "code",
   "execution_count": null,
   "source": [],
   "outputs": [],
   "metadata": {}
  }
 ],
 "metadata": {
  "orig_nbformat": 4,
  "language_info": {
   "name": "python",
   "version": "3.9.16",
   "mimetype": "text/x-python",
   "codemirror_mode": {
    "name": "ipython",
    "version": 3
   },
   "pygments_lexer": "ipython3",
   "nbconvert_exporter": "python",
   "file_extension": ".py"
  },
  "kernelspec": {
   "name": "python3",
   "display_name": "Python 3.9.16 64-bit ('FEGP': conda)"
  },
  "interpreter": {
   "hash": "b00f9bca1c18369f730e284e4d0522d8a3e0f0b629e30dad99ec4bb4df6f08b7"
  }
 },
 "nbformat": 4,
 "nbformat_minor": 2
}