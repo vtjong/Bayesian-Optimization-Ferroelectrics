{
 "cells": [
  {
   "cell_type": "code",
   "execution_count": 106,
   "source": [
    "# Prep training data\n",
    "from copyreg import pickle\n",
    "from sklearn.preprocessing import StandardScaler\n",
    "from sklearn import preprocessing\n",
    "import sys\n",
    "from tkinter import Y\n",
    "import gzip\n",
    "import itertools\n",
    "import numpy as np\n",
    "import pandas as pd\n",
    "import pickle as pk\n",
    "import torch\n",
    "import gpytorch\n",
    "import plotly.express as px\n",
    "import matplotlib.pyplot as plt\n",
    "sys.path.append('..')\n",
    "sys.path.insert(0, '../src')"
   ],
   "outputs": [],
   "metadata": {}
  },
  {
   "cell_type": "code",
   "execution_count": 107,
   "source": [
    "from model import GPModel\n",
    "from GPy.models import GPRegression\n",
    "from acq_funcs import EI, PI, cust_acq, thompson\n",
    "from plotter import vis_pred, vis_acq"
   ],
   "outputs": [],
   "metadata": {}
  },
  {
   "cell_type": "markdown",
   "source": [
    "### Data Read and Pre-processing"
   ],
   "metadata": {}
  },
  {
   "cell_type": "code",
   "execution_count": 108,
   "source": [
    "# read data and display\n",
    "def read_dat(dir=\"/Users/valenetjong/Bayesian-Optimization-Ferroelectrics/data/\",\n",
    "            src_file = \"Bolometer_readings_PulseForge.xlsx\", sheet= \"Combined\"):\n",
    "    file = dir + src_file\n",
    "    fe_data = pd.read_excel(file, sheet_name=sheet, usecols=['Energy density new cone (J/cm^2)',\n",
    "                            'Time (ms)','2 Qsw/(U+|D|) 1e6cycles'])\n",
    "    fe_data.dropna(subset=['2 Qsw/(U+|D|) 1e6cycles'], inplace=True)\n",
    "    fe_data = fe_data[fe_data['2 Qsw/(U+|D|) 1e6cycles']!= 0]\n",
    "    return fe_data\n",
    "\n",
    "def display_data(fe_data):\n",
    "    \"\"\"\n",
    "    [display_data(fe_data)] creates a cross-section scatter plot of all combinations\n",
    "    of the four input parameters and single output parameter.\n",
    "    \"\"\"\n",
    "    # plot each cross-section\n",
    "    fig = px.scatter_matrix(fe_data, dimensions=['Energy density new cone (J/cm^2)', \n",
    "    \"Time (ms)\", \"2 Qsw/(U+|D|) 1e6cycles\"])\n",
    "    fig.update_layout(margin=dict(r=20, l=10, b=10, t=10))\n",
    "    fig.update_layout(height=1000)\n",
    "    fig.show()"
   ],
   "outputs": [],
   "metadata": {}
  },
  {
   "cell_type": "code",
   "execution_count": 109,
   "source": [
    "# get training set from dataframe\n",
    "def datasetmaker(fe_data):\n",
    "    \"\"\"\n",
    "    [datasetmaker(fe_data)] filters and transforms the data in pandas df [fe_data] \n",
    "    into two tensors, [train_x] for input and [train_y] for output tensors. \n",
    "    \"\"\"\n",
    "    # define standardizer\n",
    "    norm_arr = lambda arr, min, max: (arr - min)/(max - min)\n",
    "    \n",
    "    # filter training data \n",
    "    energy_den = fe_data['Energy density new cone (J/cm^2)'].values\n",
    "    time = fe_data['Time (ms)'].values\n",
    "    train_x = torch.Tensor([energy_den, time]).T\n",
    "    train_y = torch.Tensor(fe_data['2 Qsw/(U+|D|) 1e6cycles'].values)\n",
    "\n",
    "    # standardizer inputs; x_min, x_max are min/max per column (parameter) of x\n",
    "    x_min, _ = torch.min(train_x, dim=0)\n",
    "    x_max, _ = torch.max(train_x, dim=0)\n",
    "    train_x = norm_arr(train_x, x_min, x_max)\n",
    "\n",
    "    # standardizer outputs\n",
    "    y_sd_mean = torch.std_mean(train_y, axis=0)\n",
    "    # train_y = norm_arr(train_y, y_sd_mean[1], y_sd_mean[0])\n",
    "    \n",
    "    # return x_sd_mean, y_sd_mean, train_x, train_y\n",
    "    return x_min, x_max, train_x, train_y"
   ],
   "outputs": [],
   "metadata": {}
  },
  {
   "cell_type": "code",
   "execution_count": 110,
   "source": [
    "# undo normalization\n",
    "def un_norm(arr, min, max): return arr*(max - min) + min\n",
    "\n",
    "def un_norm_all(x_min, x_max, train_x, train_y, test_grid, pred_labels, upper_surf, lower_surf):\n",
    "    raw_train_x = un_norm(train_x, x_min, x_max)\n",
    "    raw_test_grid = un_norm(test_grid, x_min, x_max)\n",
    "\n",
    "    return raw_train_x, train_y, raw_test_grid, pred_labels, upper_surf, lower_surf"
   ],
   "outputs": [],
   "metadata": {}
  },
  {
   "cell_type": "code",
   "execution_count": 111,
   "source": [
    "fe_data = read_dat()\n",
    "print(fe_data)"
   ],
   "outputs": [
    {
     "output_type": "stream",
     "name": "stdout",
     "text": [
      "    Time (ms)  Energy density new cone (J/cm^2)  2 Qsw/(U+|D|) 1e6cycles\n",
      "4         0.5                              2.73                 0.873026\n",
      "5         0.5                              3.40                 2.677245\n",
      "6         1.0                              3.79                 1.699015\n",
      "7         1.0                              6.44                 3.805053\n",
      "8         1.5                              5.36                 3.334856\n",
      "9         1.5                              8.99                 4.535153\n",
      "11        5.0                              8.80                 1.362510\n",
      "13        5.0                             14.67                 3.841291\n",
      "19        0.5                              5.24                 1.201357\n",
      "22        5.0                             14.89                 3.513652\n",
      "23        2.0                             10.13                 3.470871\n",
      "24        0.5                              4.51                 0.263298\n",
      "25        0.5                              5.37                 2.775340\n",
      "27        0.5                              4.88                 2.591306\n",
      "28        1.0                              6.76                 2.579984\n",
      "29        1.0                              7.77                 3.173819\n",
      "31        2.0                              8.73                 0.131505\n",
      "32        2.0                              9.38                 0.451164\n",
      "33        2.0                             10.48                 2.126640\n",
      "34        2.0                             11.01                 3.468213\n",
      "35        5.0                             14.71                 3.685852\n",
      "36        5.0                             15.44                 3.445656\n",
      "37        5.0                             13.37                 2.651547\n"
     ]
    }
   ],
   "metadata": {}
  },
  {
   "cell_type": "code",
   "execution_count": 112,
   "source": [
    "display_data(fe_data)"
   ],
   "outputs": [
    {
     "output_type": "display_data",
     "data": {
      "application/vnd.plotly.v1+json": {
       "data": [
        {
         "dimensions": [
          {
           "axis": {
            "matches": true
           },
           "label": "Energy density new cone (J/cm^2)",
           "values": [
            2.73,
            3.4,
            3.79,
            6.44,
            5.36,
            8.99,
            8.8,
            14.67,
            5.24,
            14.89,
            10.13,
            4.51,
            5.37,
            4.88,
            6.76,
            7.77,
            8.73,
            9.38,
            10.48,
            11.01,
            14.71,
            15.44,
            13.37
           ]
          },
          {
           "axis": {
            "matches": true
           },
           "label": "Time (ms)",
           "values": [
            0.5,
            0.5,
            1,
            1,
            1.5,
            1.5,
            5,
            5,
            0.5,
            5,
            2,
            0.5,
            0.5,
            0.5,
            1,
            1,
            2,
            2,
            2,
            2,
            5,
            5,
            5
           ]
          },
          {
           "axis": {
            "matches": true
           },
           "label": "2 Qsw/(U+|D|) 1e6cycles",
           "values": [
            0.8730257299654021,
            2.677244640050493,
            1.6990152147413928,
            3.8050528055652655,
            3.3348561928152627,
            4.535152817359003,
            1.3625102372531497,
            3.841290609056986,
            1.2013569985324948,
            3.5136521918176413,
            3.4708714822041062,
            0.2632982379553876,
            2.7753404356378253,
            2.5913062464887977,
            2.579984359259049,
            3.1738185691110727,
            0.1315049942519029,
            0.4511637114621348,
            2.126639748505365,
            3.468212840642842,
            3.685852431471957,
            3.445655582638384,
            2.651546836022379
           ]
          }
         ],
         "hovertemplate": "%{xaxis.title.text}=%{x}<br>%{yaxis.title.text}=%{y}<extra></extra>",
         "legendgroup": "",
         "marker": {
          "color": "#636efa",
          "symbol": "circle"
         },
         "name": "",
         "showlegend": false,
         "type": "splom"
        }
       ],
       "layout": {
        "template": {
         "data": {
          "histogram2dcontour": [
           {
            "type": "histogram2dcontour",
            "colorbar": {
             "outlinewidth": 0,
             "ticks": ""
            },
            "colorscale": [
             [
              0,
              "#0d0887"
             ],
             [
              0.1111111111111111,
              "#46039f"
             ],
             [
              0.2222222222222222,
              "#7201a8"
             ],
             [
              0.3333333333333333,
              "#9c179e"
             ],
             [
              0.4444444444444444,
              "#bd3786"
             ],
             [
              0.5555555555555556,
              "#d8576b"
             ],
             [
              0.6666666666666666,
              "#ed7953"
             ],
             [
              0.7777777777777778,
              "#fb9f3a"
             ],
             [
              0.8888888888888888,
              "#fdca26"
             ],
             [
              1,
              "#f0f921"
             ]
            ]
           }
          ],
          "choropleth": [
           {
            "type": "choropleth",
            "colorbar": {
             "outlinewidth": 0,
             "ticks": ""
            }
           }
          ],
          "histogram2d": [
           {
            "type": "histogram2d",
            "colorbar": {
             "outlinewidth": 0,
             "ticks": ""
            },
            "colorscale": [
             [
              0,
              "#0d0887"
             ],
             [
              0.1111111111111111,
              "#46039f"
             ],
             [
              0.2222222222222222,
              "#7201a8"
             ],
             [
              0.3333333333333333,
              "#9c179e"
             ],
             [
              0.4444444444444444,
              "#bd3786"
             ],
             [
              0.5555555555555556,
              "#d8576b"
             ],
             [
              0.6666666666666666,
              "#ed7953"
             ],
             [
              0.7777777777777778,
              "#fb9f3a"
             ],
             [
              0.8888888888888888,
              "#fdca26"
             ],
             [
              1,
              "#f0f921"
             ]
            ]
           }
          ],
          "heatmap": [
           {
            "type": "heatmap",
            "colorbar": {
             "outlinewidth": 0,
             "ticks": ""
            },
            "colorscale": [
             [
              0,
              "#0d0887"
             ],
             [
              0.1111111111111111,
              "#46039f"
             ],
             [
              0.2222222222222222,
              "#7201a8"
             ],
             [
              0.3333333333333333,
              "#9c179e"
             ],
             [
              0.4444444444444444,
              "#bd3786"
             ],
             [
              0.5555555555555556,
              "#d8576b"
             ],
             [
              0.6666666666666666,
              "#ed7953"
             ],
             [
              0.7777777777777778,
              "#fb9f3a"
             ],
             [
              0.8888888888888888,
              "#fdca26"
             ],
             [
              1,
              "#f0f921"
             ]
            ]
           }
          ],
          "heatmapgl": [
           {
            "type": "heatmapgl",
            "colorbar": {
             "outlinewidth": 0,
             "ticks": ""
            },
            "colorscale": [
             [
              0,
              "#0d0887"
             ],
             [
              0.1111111111111111,
              "#46039f"
             ],
             [
              0.2222222222222222,
              "#7201a8"
             ],
             [
              0.3333333333333333,
              "#9c179e"
             ],
             [
              0.4444444444444444,
              "#bd3786"
             ],
             [
              0.5555555555555556,
              "#d8576b"
             ],
             [
              0.6666666666666666,
              "#ed7953"
             ],
             [
              0.7777777777777778,
              "#fb9f3a"
             ],
             [
              0.8888888888888888,
              "#fdca26"
             ],
             [
              1,
              "#f0f921"
             ]
            ]
           }
          ],
          "contourcarpet": [
           {
            "type": "contourcarpet",
            "colorbar": {
             "outlinewidth": 0,
             "ticks": ""
            }
           }
          ],
          "contour": [
           {
            "type": "contour",
            "colorbar": {
             "outlinewidth": 0,
             "ticks": ""
            },
            "colorscale": [
             [
              0,
              "#0d0887"
             ],
             [
              0.1111111111111111,
              "#46039f"
             ],
             [
              0.2222222222222222,
              "#7201a8"
             ],
             [
              0.3333333333333333,
              "#9c179e"
             ],
             [
              0.4444444444444444,
              "#bd3786"
             ],
             [
              0.5555555555555556,
              "#d8576b"
             ],
             [
              0.6666666666666666,
              "#ed7953"
             ],
             [
              0.7777777777777778,
              "#fb9f3a"
             ],
             [
              0.8888888888888888,
              "#fdca26"
             ],
             [
              1,
              "#f0f921"
             ]
            ]
           }
          ],
          "surface": [
           {
            "type": "surface",
            "colorbar": {
             "outlinewidth": 0,
             "ticks": ""
            },
            "colorscale": [
             [
              0,
              "#0d0887"
             ],
             [
              0.1111111111111111,
              "#46039f"
             ],
             [
              0.2222222222222222,
              "#7201a8"
             ],
             [
              0.3333333333333333,
              "#9c179e"
             ],
             [
              0.4444444444444444,
              "#bd3786"
             ],
             [
              0.5555555555555556,
              "#d8576b"
             ],
             [
              0.6666666666666666,
              "#ed7953"
             ],
             [
              0.7777777777777778,
              "#fb9f3a"
             ],
             [
              0.8888888888888888,
              "#fdca26"
             ],
             [
              1,
              "#f0f921"
             ]
            ]
           }
          ],
          "mesh3d": [
           {
            "type": "mesh3d",
            "colorbar": {
             "outlinewidth": 0,
             "ticks": ""
            }
           }
          ],
          "scatter": [
           {
            "fillpattern": {
             "fillmode": "overlay",
             "size": 10,
             "solidity": 0.2
            },
            "type": "scatter"
           }
          ],
          "parcoords": [
           {
            "type": "parcoords",
            "line": {
             "colorbar": {
              "outlinewidth": 0,
              "ticks": ""
             }
            }
           }
          ],
          "scatterpolargl": [
           {
            "type": "scatterpolargl",
            "marker": {
             "colorbar": {
              "outlinewidth": 0,
              "ticks": ""
             }
            }
           }
          ],
          "bar": [
           {
            "error_x": {
             "color": "#2a3f5f"
            },
            "error_y": {
             "color": "#2a3f5f"
            },
            "marker": {
             "line": {
              "color": "#E5ECF6",
              "width": 0.5
             },
             "pattern": {
              "fillmode": "overlay",
              "size": 10,
              "solidity": 0.2
             }
            },
            "type": "bar"
           }
          ],
          "scattergeo": [
           {
            "type": "scattergeo",
            "marker": {
             "colorbar": {
              "outlinewidth": 0,
              "ticks": ""
             }
            }
           }
          ],
          "scatterpolar": [
           {
            "type": "scatterpolar",
            "marker": {
             "colorbar": {
              "outlinewidth": 0,
              "ticks": ""
             }
            }
           }
          ],
          "histogram": [
           {
            "marker": {
             "pattern": {
              "fillmode": "overlay",
              "size": 10,
              "solidity": 0.2
             }
            },
            "type": "histogram"
           }
          ],
          "scattergl": [
           {
            "type": "scattergl",
            "marker": {
             "colorbar": {
              "outlinewidth": 0,
              "ticks": ""
             }
            }
           }
          ],
          "scatter3d": [
           {
            "type": "scatter3d",
            "line": {
             "colorbar": {
              "outlinewidth": 0,
              "ticks": ""
             }
            },
            "marker": {
             "colorbar": {
              "outlinewidth": 0,
              "ticks": ""
             }
            }
           }
          ],
          "scattermapbox": [
           {
            "type": "scattermapbox",
            "marker": {
             "colorbar": {
              "outlinewidth": 0,
              "ticks": ""
             }
            }
           }
          ],
          "scatterternary": [
           {
            "type": "scatterternary",
            "marker": {
             "colorbar": {
              "outlinewidth": 0,
              "ticks": ""
             }
            }
           }
          ],
          "scattercarpet": [
           {
            "type": "scattercarpet",
            "marker": {
             "colorbar": {
              "outlinewidth": 0,
              "ticks": ""
             }
            }
           }
          ],
          "carpet": [
           {
            "aaxis": {
             "endlinecolor": "#2a3f5f",
             "gridcolor": "white",
             "linecolor": "white",
             "minorgridcolor": "white",
             "startlinecolor": "#2a3f5f"
            },
            "baxis": {
             "endlinecolor": "#2a3f5f",
             "gridcolor": "white",
             "linecolor": "white",
             "minorgridcolor": "white",
             "startlinecolor": "#2a3f5f"
            },
            "type": "carpet"
           }
          ],
          "table": [
           {
            "cells": {
             "fill": {
              "color": "#EBF0F8"
             },
             "line": {
              "color": "white"
             }
            },
            "header": {
             "fill": {
              "color": "#C8D4E3"
             },
             "line": {
              "color": "white"
             }
            },
            "type": "table"
           }
          ],
          "barpolar": [
           {
            "marker": {
             "line": {
              "color": "#E5ECF6",
              "width": 0.5
             },
             "pattern": {
              "fillmode": "overlay",
              "size": 10,
              "solidity": 0.2
             }
            },
            "type": "barpolar"
           }
          ],
          "pie": [
           {
            "automargin": true,
            "type": "pie"
           }
          ]
         },
         "layout": {
          "autotypenumbers": "strict",
          "colorway": [
           "#636efa",
           "#EF553B",
           "#00cc96",
           "#ab63fa",
           "#FFA15A",
           "#19d3f3",
           "#FF6692",
           "#B6E880",
           "#FF97FF",
           "#FECB52"
          ],
          "font": {
           "color": "#2a3f5f"
          },
          "hovermode": "closest",
          "hoverlabel": {
           "align": "left"
          },
          "paper_bgcolor": "white",
          "plot_bgcolor": "#E5ECF6",
          "polar": {
           "bgcolor": "#E5ECF6",
           "angularaxis": {
            "gridcolor": "white",
            "linecolor": "white",
            "ticks": ""
           },
           "radialaxis": {
            "gridcolor": "white",
            "linecolor": "white",
            "ticks": ""
           }
          },
          "ternary": {
           "bgcolor": "#E5ECF6",
           "aaxis": {
            "gridcolor": "white",
            "linecolor": "white",
            "ticks": ""
           },
           "baxis": {
            "gridcolor": "white",
            "linecolor": "white",
            "ticks": ""
           },
           "caxis": {
            "gridcolor": "white",
            "linecolor": "white",
            "ticks": ""
           }
          },
          "coloraxis": {
           "colorbar": {
            "outlinewidth": 0,
            "ticks": ""
           }
          },
          "colorscale": {
           "sequential": [
            [
             0,
             "#0d0887"
            ],
            [
             0.1111111111111111,
             "#46039f"
            ],
            [
             0.2222222222222222,
             "#7201a8"
            ],
            [
             0.3333333333333333,
             "#9c179e"
            ],
            [
             0.4444444444444444,
             "#bd3786"
            ],
            [
             0.5555555555555556,
             "#d8576b"
            ],
            [
             0.6666666666666666,
             "#ed7953"
            ],
            [
             0.7777777777777778,
             "#fb9f3a"
            ],
            [
             0.8888888888888888,
             "#fdca26"
            ],
            [
             1,
             "#f0f921"
            ]
           ],
           "sequentialminus": [
            [
             0,
             "#0d0887"
            ],
            [
             0.1111111111111111,
             "#46039f"
            ],
            [
             0.2222222222222222,
             "#7201a8"
            ],
            [
             0.3333333333333333,
             "#9c179e"
            ],
            [
             0.4444444444444444,
             "#bd3786"
            ],
            [
             0.5555555555555556,
             "#d8576b"
            ],
            [
             0.6666666666666666,
             "#ed7953"
            ],
            [
             0.7777777777777778,
             "#fb9f3a"
            ],
            [
             0.8888888888888888,
             "#fdca26"
            ],
            [
             1,
             "#f0f921"
            ]
           ],
           "diverging": [
            [
             0,
             "#8e0152"
            ],
            [
             0.1,
             "#c51b7d"
            ],
            [
             0.2,
             "#de77ae"
            ],
            [
             0.3,
             "#f1b6da"
            ],
            [
             0.4,
             "#fde0ef"
            ],
            [
             0.5,
             "#f7f7f7"
            ],
            [
             0.6,
             "#e6f5d0"
            ],
            [
             0.7,
             "#b8e186"
            ],
            [
             0.8,
             "#7fbc41"
            ],
            [
             0.9,
             "#4d9221"
            ],
            [
             1,
             "#276419"
            ]
           ]
          },
          "xaxis": {
           "gridcolor": "white",
           "linecolor": "white",
           "ticks": "",
           "title": {
            "standoff": 15
           },
           "zerolinecolor": "white",
           "automargin": true,
           "zerolinewidth": 2
          },
          "yaxis": {
           "gridcolor": "white",
           "linecolor": "white",
           "ticks": "",
           "title": {
            "standoff": 15
           },
           "zerolinecolor": "white",
           "automargin": true,
           "zerolinewidth": 2
          },
          "scene": {
           "xaxis": {
            "backgroundcolor": "#E5ECF6",
            "gridcolor": "white",
            "linecolor": "white",
            "showbackground": true,
            "ticks": "",
            "zerolinecolor": "white",
            "gridwidth": 2
           },
           "yaxis": {
            "backgroundcolor": "#E5ECF6",
            "gridcolor": "white",
            "linecolor": "white",
            "showbackground": true,
            "ticks": "",
            "zerolinecolor": "white",
            "gridwidth": 2
           },
           "zaxis": {
            "backgroundcolor": "#E5ECF6",
            "gridcolor": "white",
            "linecolor": "white",
            "showbackground": true,
            "ticks": "",
            "zerolinecolor": "white",
            "gridwidth": 2
           }
          },
          "shapedefaults": {
           "line": {
            "color": "#2a3f5f"
           }
          },
          "annotationdefaults": {
           "arrowcolor": "#2a3f5f",
           "arrowhead": 0,
           "arrowwidth": 1
          },
          "geo": {
           "bgcolor": "white",
           "landcolor": "#E5ECF6",
           "subunitcolor": "white",
           "showland": true,
           "showlakes": true,
           "lakecolor": "white"
          },
          "title": {
           "x": 0.05
          },
          "mapbox": {
           "style": "light"
          }
         }
        },
        "legend": {
         "tracegroupgap": 0
        },
        "margin": {
         "t": 10,
         "r": 20,
         "l": 10,
         "b": 10
        },
        "dragmode": "select",
        "height": 1000
       },
       "config": {
        "plotlyServerURL": "https://plot.ly"
       }
      }
     },
     "metadata": {}
    }
   ],
   "metadata": {}
  },
  {
   "cell_type": "code",
   "execution_count": 113,
   "source": [
    "# make training data, maintain params to de-normalize\n",
    "# x_sd_mean, y_sd_mean, train_x, train_y = datasetmaker(fe_data)\n",
    "x_min, x_max, train_x, train_y = datasetmaker(fe_data)"
   ],
   "outputs": [],
   "metadata": {}
  },
  {
   "cell_type": "markdown",
   "source": [
    "### Grid/Parameter Space"
   ],
   "metadata": {}
  },
  {
   "cell_type": "code",
   "execution_count": 114,
   "source": [
    "# create grid for grid search\n",
    "def grid_helper(grid_size, num_params, grid_bounds):\n",
    "    \"\"\"\n",
    "    [grid_helper(grid_size, num_params, grid_bounds)] returns a grid of dimensions\n",
    "    [grid_size] by [num_params], which dictates the parameter space for GP to be \n",
    "    conducted over. \n",
    "    \"\"\"\n",
    "    grid = torch.zeros(grid_size, num_params)\n",
    "    f_grid_diff = lambda i, x, y : float((x[i][1] - x[i][0]) / (y-2))\n",
    "    for i in range(num_params):\n",
    "        grid_diff = f_grid_diff(i, grid_bounds, grid_size)\n",
    "        grid[:, i] = torch.linspace(grid_bounds[i][0] - grid_diff, \n",
    "                                    grid_bounds[i][1] + grid_diff, grid_size)\n",
    "    return grid\n",
    "\n",
    "def grid_maker(train_x, num_points=30):\n",
    "    \"\"\"\n",
    "    [grid_maker(train_x, num_points=30)] creates grids to be used for gaussian \n",
    "    process predictions. It outputs the dimension of the grid [num_params], \n",
    "    paramater space grid [test_grid], and [test_x].\n",
    "    \"\"\"\n",
    "    # define grid between bounds of RTA time, RTA temp\n",
    "    num_params = train_x.size(dim=1)\n",
    "    grid_bounds = [(train_x[:,i].min(), train_x[:,i].max()) for i in range(num_params)]\n",
    "\n",
    "    # set up test_grid for predictions\n",
    "    test_grid = grid_helper(num_points, num_params, grid_bounds)\n",
    "\n",
    "    # create n-D grid with n = num_params\n",
    "    args = (test_grid[:, i] for i in range(num_params))\n",
    "    test_x = torch.cartesian_prod(*args)\n",
    "    return grid_bounds, num_params, test_grid, test_x\n"
   ],
   "outputs": [],
   "metadata": {}
  },
  {
   "cell_type": "code",
   "execution_count": 115,
   "source": [
    "# create grid based on parameter space for search\n",
    "grid_bounds, num_params, test_grid, test_x = grid_maker(train_x)"
   ],
   "outputs": [],
   "metadata": {}
  },
  {
   "cell_type": "markdown",
   "source": [
    "### Noise Calculations"
   ],
   "metadata": {}
  },
  {
   "cell_type": "markdown",
   "source": [
    "Our figure of merit, fom, is $2 Q_{sw}/(U+|D|),$ so error propagation would result in a error of $\\sigma_{fom} = |fom|\\sqrt{{(\\sigma_{Q_{sw}}/Q_{sw}})^2+{(\\sigma_U^2 + \\sigma_{|D|}^2)/(U+|D|)^2)}}$. We have data for $2Pr$ measurements wrt device area. Using the $10\\mu$ m $\\times 10\\mu$ m data, we approximate the error for the figure of merit as simply $\\sigma_{2Pr}$, as we do not have $\\sigma_U$ or $\\sigma_D.$ \n"
   ],
   "metadata": {}
  },
  {
   "cell_type": "code",
   "execution_count": 116,
   "source": [
    "fn = \"/Users/valenetjong/Bayesian-Optimization-Ferroelectrics/data/P vs area.xlsx\"\n",
    "excel_file = pd.read_excel(fn, sheet_name='Sheet1')\n",
    "col_2Pr_10by10 = excel_file['10umx10um']\n",
    "sd = col_2Pr_10by10.std()/col_2Pr_10by10.mean()\n",
    "print(sd)\n",
    "print(col_2Pr_10by10)"
   ],
   "outputs": [
    {
     "output_type": "stream",
     "name": "stdout",
     "text": [
      "0.04469365441252401\n",
      "0     34.57379\n",
      "1     35.96416\n",
      "2     33.16083\n",
      "3     35.96861\n",
      "4     37.10497\n",
      "5     35.86549\n",
      "6     35.81341\n",
      "7     33.01597\n",
      "8     35.71753\n",
      "9     38.37434\n",
      "10    34.11144\n",
      "11    33.57596\n",
      "12    35.15750\n",
      "13    35.01515\n",
      "14    36.01072\n",
      "15    37.04952\n",
      "16    36.48895\n",
      "17    35.63807\n",
      "18    37.36247\n",
      "19    39.05057\n",
      "Name: 10umx10um, dtype: float64\n"
     ]
    }
   ],
   "metadata": {}
  },
  {
   "cell_type": "markdown",
   "source": [
    "### Initialize Model"
   ],
   "metadata": {}
  },
  {
   "cell_type": "code",
   "execution_count": 117,
   "source": [
    "# configuration parameters for training\n",
    "class Config():\n",
    "    def __init__(self):\n",
    "        self.epochs = 3000\n",
    "        self.kernel = \"rbf\"\n",
    "        self.lr = 0.1\n",
    "        self.lscale_1 = 0.114\n",
    "        self.lscale_2 = 0.0487\n",
    "        self.lscale_3 = None\n",
    "        self.lscale_4 = None\n",
    "        self.dim = 2\n",
    "        self.noise = 0.15\n",
    "\n",
    "config = Config()"
   ],
   "outputs": [],
   "metadata": {}
  },
  {
   "cell_type": "code",
   "execution_count": 118,
   "source": [
    "# make model\n",
    "def kernel_func(config_kernel, num_params, lscale):\n",
    "    \"\"\"\n",
    "    [kernel_func(config_kernel, num_params, lscale)] returns kernel function with \n",
    "    dimensions specified by [num_params]. \n",
    "    \"\"\"\n",
    "    if config_kernel == \"rbf\":\n",
    "        return gpytorch.kernels.ScaleKernel(\n",
    "            gpytorch.kernels.RBFKernel(ard_num_dims=num_params))\n",
    "    elif config_kernel == \"matern\":\n",
    "        return gpytorch.kernels.MaternKernel(ard_num_dims=num_params, \n",
    "        lengthscale = torch.tensor(lscale))\n",
    "\n",
    "def make_model(train_x, train_y, num_params, config):\n",
    "    \"\"\"\n",
    "    [make_model(train_x, train_y, num_params, config)] returns likelihood and \n",
    "    model with lengthscale, noise, kernel function specified by sweeps. \n",
    "    \"\"\"\n",
    "    \n",
    "    if config.dim == 2:\n",
    "        lscale = [config.lscale_1, config.lscale_2]\n",
    "    elif config.dim == 4:\n",
    "        lscale = [config.lscale_1, config.lscale_2, config.lscale_3, config.lscale_4]\n",
    "    kernel = kernel_func(config.kernel, num_params, lscale)\n",
    "    \n",
    "    print(kernel)\n",
    "    num_samples = len(train_x)\n",
    "    noise = config.noise*torch.ones(num_samples)\n",
    "    likelihood = gpytorch.likelihoods.FixedNoiseGaussianLikelihood(noise=noise)\n",
    "    model = GPModel(train_x, train_y, likelihood, kernel)\n",
    "\n",
    "    return likelihood, model, lscale\n",
    "    "
   ],
   "outputs": [],
   "metadata": {}
  },
  {
   "cell_type": "code",
   "execution_count": 119,
   "source": [
    "def intermediate_plot(f, ax, obs, title):\n",
    "    im = ax.imshow(obs.mean.view(30, 30), aspect='equal',\n",
    "                extent=[grid_bounds[0][0].item(), grid_bounds[0][1].item(),\n",
    "                            grid_bounds[1][0].item(), grid_bounds[1][1].item()])\n",
    "    f.colorbar(im)\n",
    "    ax.set_title(title)"
   ],
   "outputs": [],
   "metadata": {}
  },
  {
   "cell_type": "markdown",
   "source": [
    "### GP Training and Eval"
   ],
   "metadata": {}
  },
  {
   "cell_type": "code",
   "execution_count": 120,
   "source": [
    "# training and evaluation\n",
    "def train(train_x, train_y, num_params, config):\n",
    "    likelihood, model, lscale = make_model(train_x, train_y, num_params, config)\n",
    "    model.covar_module.base_kernel.lengthscale = torch.Tensor(lscale)\n",
    "    training_iter = config.epochs\n",
    "    model.covar_module.base_kernel.raw_lengthscale.requires_grad_(False) # disallow training of lengthscale\n",
    "    \n",
    "    # place both the model and likelihood in training mode\n",
    "    model.train(), likelihood.train()\n",
    "\n",
    "    # use Adam\n",
    "    optimizer = torch.optim.Adam(model.parameters(), lr=config.lr)\n",
    "\n",
    "    # set GP loss as the marginal log likelihood\n",
    "    mll = gpytorch.mlls.ExactMarginalLogLikelihood(likelihood, model)\n",
    "    loss_lst = []\n",
    "\n",
    "    for i in range(training_iter):\n",
    "        optimizer.zero_grad()\n",
    "        output = model(train_x)\n",
    "\n",
    "        # backpropagate error\n",
    "        loss = -mll(output, train_y)\n",
    "        loss.backward()\n",
    "\n",
    "        if i % 100 == 0: \n",
    "            print('Iter %d/%d - Loss: %.3f  lengthscale1: %s   noise: %s' % (\n",
    "                    i+1, training_iter, loss.item(), \n",
    "                    model.covar_module.base_kernel.lengthscale.detach().numpy(),\n",
    "                    model.likelihood.noise.detach().numpy()\n",
    "                    )) \n",
    "            loss_lst.append(loss.item())\n",
    "\n",
    "        # if i % 1000 == 0:\n",
    "        # # get a quick snapshot of intermediate \n",
    "        #     model.eval()\n",
    "        #     likelihood.eval()\n",
    "        #     with torch.no_grad(), gpytorch.settings.fast_pred_var():\n",
    "        #         obs = likelihood(model(test_x))\n",
    "        #         f, ax = plt.subplots(1, 1, figsize=(4,3))\n",
    "        #         intermediate_plot(f, ax, obs, f'iter {i+1}/{training_iter}')\n",
    "        #     model.train()\n",
    "        #     likelihood.train()\n",
    "\n",
    "        optimizer.step()\n",
    "    return likelihood, model, loss_lst\n",
    "\n",
    "def eval_mod(likelihood, model, test_x):\n",
    "    \"\"\" \n",
    "    [eval_mod(likelihood, model, test_x)] evaluates GP model. \n",
    "    \"\"\"\n",
    "    model.eval(), likelihood.eval()\n",
    "    with torch.no_grad(), gpytorch.settings.fast_pred_var():\n",
    "        obs = likelihood(model(test_x), noise=(torch.ones(len(test_x))*config.noise))\n",
    "    return obs"
   ],
   "outputs": [],
   "metadata": {}
  },
  {
   "cell_type": "code",
   "execution_count": 121,
   "source": [
    "# train model and evaluate\n",
    "likelihood, model, loss_lst = train(train_x, train_y, num_params, config)\n",
    "obs = eval_mod(likelihood, model, test_x)"
   ],
   "outputs": [
    {
     "output_type": "stream",
     "name": "stdout",
     "text": [
      "ScaleKernel(\n",
      "  (base_kernel): RBFKernel(\n",
      "    (raw_lengthscale_constraint): Positive()\n",
      "  )\n",
      "  (raw_outputscale_constraint): Positive()\n",
      ")\n",
      "Iter 1/3000 - Loss: 3.822  lengthscale1: [[0.11400001 0.04870001]]   noise: [0.15 0.15 0.15 0.15 0.15 0.15 0.15 0.15 0.15 0.15 0.15 0.15 0.15 0.15\n",
      " 0.15 0.15 0.15 0.15 0.15 0.15 0.15 0.15 0.15]\n",
      "Iter 101/3000 - Loss: 1.586  lengthscale1: [[0.00963802 0.0324487 ]]   noise: [0.15 0.15 0.15 0.15 0.15 0.15 0.15 0.15 0.15 0.15 0.15 0.15 0.15 0.15\n",
      " 0.15 0.15 0.15 0.15 0.15 0.15 0.15 0.15 0.15]\n",
      "Iter 201/3000 - Loss: 1.585  lengthscale1: [[0.01119733 0.03007682]]   noise: [0.15 0.15 0.15 0.15 0.15 0.15 0.15 0.15 0.15 0.15 0.15 0.15 0.15 0.15\n",
      " 0.15 0.15 0.15 0.15 0.15 0.15 0.15 0.15 0.15]\n",
      "Iter 301/3000 - Loss: 1.585  lengthscale1: [[0.01119761 0.02854829]]   noise: [0.15 0.15 0.15 0.15 0.15 0.15 0.15 0.15 0.15 0.15 0.15 0.15 0.15 0.15\n",
      " 0.15 0.15 0.15 0.15 0.15 0.15 0.15 0.15 0.15]\n",
      "Iter 401/3000 - Loss: 1.585  lengthscale1: [[0.0111988  0.02754389]]   noise: [0.15 0.15 0.15 0.15 0.15 0.15 0.15 0.15 0.15 0.15 0.15 0.15 0.15 0.15\n",
      " 0.15 0.15 0.15 0.15 0.15 0.15 0.15 0.15 0.15]\n",
      "Iter 501/3000 - Loss: 1.585  lengthscale1: [[0.01120048 0.02681726]]   noise: [0.15 0.15 0.15 0.15 0.15 0.15 0.15 0.15 0.15 0.15 0.15 0.15 0.15 0.15\n",
      " 0.15 0.15 0.15 0.15 0.15 0.15 0.15 0.15 0.15]\n",
      "Iter 601/3000 - Loss: 1.585  lengthscale1: [[0.01119923 0.02625796]]   noise: [0.15 0.15 0.15 0.15 0.15 0.15 0.15 0.15 0.15 0.15 0.15 0.15 0.15 0.15\n",
      " 0.15 0.15 0.15 0.15 0.15 0.15 0.15 0.15 0.15]\n",
      "Iter 701/3000 - Loss: 1.585  lengthscale1: [[0.01120095 0.02580459]]   noise: [0.15 0.15 0.15 0.15 0.15 0.15 0.15 0.15 0.15 0.15 0.15 0.15 0.15 0.15\n",
      " 0.15 0.15 0.15 0.15 0.15 0.15 0.15 0.15 0.15]\n",
      "Iter 801/3000 - Loss: 1.585  lengthscale1: [[0.01119989 0.02543048]]   noise: [0.15 0.15 0.15 0.15 0.15 0.15 0.15 0.15 0.15 0.15 0.15 0.15 0.15 0.15\n",
      " 0.15 0.15 0.15 0.15 0.15 0.15 0.15 0.15 0.15]\n",
      "Iter 901/3000 - Loss: 1.585  lengthscale1: [[0.0112003  0.02509514]]   noise: [0.15 0.15 0.15 0.15 0.15 0.15 0.15 0.15 0.15 0.15 0.15 0.15 0.15 0.15\n",
      " 0.15 0.15 0.15 0.15 0.15 0.15 0.15 0.15 0.15]\n",
      "Iter 1001/3000 - Loss: 1.585  lengthscale1: [[0.01120046 0.02483336]]   noise: [0.15 0.15 0.15 0.15 0.15 0.15 0.15 0.15 0.15 0.15 0.15 0.15 0.15 0.15\n",
      " 0.15 0.15 0.15 0.15 0.15 0.15 0.15 0.15 0.15]\n",
      "Iter 1101/3000 - Loss: 1.585  lengthscale1: [[0.01119959 0.02459799]]   noise: [0.15 0.15 0.15 0.15 0.15 0.15 0.15 0.15 0.15 0.15 0.15 0.15 0.15 0.15\n",
      " 0.15 0.15 0.15 0.15 0.15 0.15 0.15 0.15 0.15]\n",
      "Iter 1201/3000 - Loss: 1.585  lengthscale1: [[0.01119995 0.02438632]]   noise: [0.15 0.15 0.15 0.15 0.15 0.15 0.15 0.15 0.15 0.15 0.15 0.15 0.15 0.15\n",
      " 0.15 0.15 0.15 0.15 0.15 0.15 0.15 0.15 0.15]\n",
      "Iter 1301/3000 - Loss: 1.585  lengthscale1: [[0.01120162 0.0241784 ]]   noise: [0.15 0.15 0.15 0.15 0.15 0.15 0.15 0.15 0.15 0.15 0.15 0.15 0.15 0.15\n",
      " 0.15 0.15 0.15 0.15 0.15 0.15 0.15 0.15 0.15]\n",
      "Iter 1401/3000 - Loss: 1.585  lengthscale1: [[0.01120161 0.02398715]]   noise: [0.15 0.15 0.15 0.15 0.15 0.15 0.15 0.15 0.15 0.15 0.15 0.15 0.15 0.15\n",
      " 0.15 0.15 0.15 0.15 0.15 0.15 0.15 0.15 0.15]\n",
      "Iter 1501/3000 - Loss: 1.585  lengthscale1: [[0.01120003 0.02378113]]   noise: [0.15 0.15 0.15 0.15 0.15 0.15 0.15 0.15 0.15 0.15 0.15 0.15 0.15 0.15\n",
      " 0.15 0.15 0.15 0.15 0.15 0.15 0.15 0.15 0.15]\n",
      "Iter 1601/3000 - Loss: 1.585  lengthscale1: [[0.0112004  0.02362511]]   noise: [0.15 0.15 0.15 0.15 0.15 0.15 0.15 0.15 0.15 0.15 0.15 0.15 0.15 0.15\n",
      " 0.15 0.15 0.15 0.15 0.15 0.15 0.15 0.15 0.15]\n",
      "Iter 1701/3000 - Loss: 1.585  lengthscale1: [[0.01120048 0.02347905]]   noise: [0.15 0.15 0.15 0.15 0.15 0.15 0.15 0.15 0.15 0.15 0.15 0.15 0.15 0.15\n",
      " 0.15 0.15 0.15 0.15 0.15 0.15 0.15 0.15 0.15]\n",
      "Iter 1801/3000 - Loss: 1.585  lengthscale1: [[0.01120197 0.02337025]]   noise: [0.15 0.15 0.15 0.15 0.15 0.15 0.15 0.15 0.15 0.15 0.15 0.15 0.15 0.15\n",
      " 0.15 0.15 0.15 0.15 0.15 0.15 0.15 0.15 0.15]\n",
      "Iter 1901/3000 - Loss: 1.585  lengthscale1: [[0.01120065 0.0232465 ]]   noise: [0.15 0.15 0.15 0.15 0.15 0.15 0.15 0.15 0.15 0.15 0.15 0.15 0.15 0.15\n",
      " 0.15 0.15 0.15 0.15 0.15 0.15 0.15 0.15 0.15]\n",
      "Iter 2001/3000 - Loss: 1.585  lengthscale1: [[0.01120117 0.02311167]]   noise: [0.15 0.15 0.15 0.15 0.15 0.15 0.15 0.15 0.15 0.15 0.15 0.15 0.15 0.15\n",
      " 0.15 0.15 0.15 0.15 0.15 0.15 0.15 0.15 0.15]\n",
      "Iter 2101/3000 - Loss: 1.585  lengthscale1: [[0.01120141 0.02299057]]   noise: [0.15 0.15 0.15 0.15 0.15 0.15 0.15 0.15 0.15 0.15 0.15 0.15 0.15 0.15\n",
      " 0.15 0.15 0.15 0.15 0.15 0.15 0.15 0.15 0.15]\n",
      "Iter 2201/3000 - Loss: 1.585  lengthscale1: [[0.01120196 0.02289206]]   noise: [0.15 0.15 0.15 0.15 0.15 0.15 0.15 0.15 0.15 0.15 0.15 0.15 0.15 0.15\n",
      " 0.15 0.15 0.15 0.15 0.15 0.15 0.15 0.15 0.15]\n",
      "Iter 2301/3000 - Loss: 1.585  lengthscale1: [[0.01120169 0.02281061]]   noise: [0.15 0.15 0.15 0.15 0.15 0.15 0.15 0.15 0.15 0.15 0.15 0.15 0.15 0.15\n",
      " 0.15 0.15 0.15 0.15 0.15 0.15 0.15 0.15 0.15]\n",
      "Iter 2401/3000 - Loss: 1.585  lengthscale1: [[0.01120029 0.02271306]]   noise: [0.15 0.15 0.15 0.15 0.15 0.15 0.15 0.15 0.15 0.15 0.15 0.15 0.15 0.15\n",
      " 0.15 0.15 0.15 0.15 0.15 0.15 0.15 0.15 0.15]\n",
      "Iter 2501/3000 - Loss: 1.585  lengthscale1: [[0.01120497 0.02262587]]   noise: [0.15 0.15 0.15 0.15 0.15 0.15 0.15 0.15 0.15 0.15 0.15 0.15 0.15 0.15\n",
      " 0.15 0.15 0.15 0.15 0.15 0.15 0.15 0.15 0.15]\n",
      "Iter 2601/3000 - Loss: 1.585  lengthscale1: [[0.011201   0.02254463]]   noise: [0.15 0.15 0.15 0.15 0.15 0.15 0.15 0.15 0.15 0.15 0.15 0.15 0.15 0.15\n",
      " 0.15 0.15 0.15 0.15 0.15 0.15 0.15 0.15 0.15]\n",
      "Iter 2701/3000 - Loss: 1.585  lengthscale1: [[0.01120074 0.02240765]]   noise: [0.15 0.15 0.15 0.15 0.15 0.15 0.15 0.15 0.15 0.15 0.15 0.15 0.15 0.15\n",
      " 0.15 0.15 0.15 0.15 0.15 0.15 0.15 0.15 0.15]\n",
      "Iter 2801/3000 - Loss: 1.585  lengthscale1: [[0.01119976 0.02231352]]   noise: [0.15 0.15 0.15 0.15 0.15 0.15 0.15 0.15 0.15 0.15 0.15 0.15 0.15 0.15\n",
      " 0.15 0.15 0.15 0.15 0.15 0.15 0.15 0.15 0.15]\n",
      "Iter 2901/3000 - Loss: 1.585  lengthscale1: [[0.01120321 0.02222132]]   noise: [0.15 0.15 0.15 0.15 0.15 0.15 0.15 0.15 0.15 0.15 0.15 0.15 0.15 0.15\n",
      " 0.15 0.15 0.15 0.15 0.15 0.15 0.15 0.15 0.15]\n"
     ]
    }
   ],
   "metadata": {}
  },
  {
   "cell_type": "markdown",
   "source": [
    "### GP Training Results"
   ],
   "metadata": {}
  },
  {
   "cell_type": "code",
   "execution_count": 122,
   "source": [
    "import matplotlib.pyplot as plt\n",
    "from sklearn.metrics import mean_squared_error, mean_absolute_error,r2_score\n",
    "from scipy.stats import spearmanr\n",
    "import matplotlib.pyplot as plt \n",
    "from plotter import prettyplot\n",
    "\n",
    "round_three = lambda val: np.round(val, 3) \n",
    "y_preds = likelihood(model(train_x))\n",
    "prettyplot()\n",
    "\n",
    "# plot training results\n",
    "with torch.no_grad():\n",
    "    y_preds_mean = y_preds.mean.numpy()\n",
    "    fig, axes = plt.subplots(1, 3, figsize=(5.5*3, 4.5))\n",
    "    fs = 14\n",
    "\n",
    "    # calculate error metrics\n",
    "    rmse = np.sqrt(mean_squared_error(train_y, y_preds_mean))\n",
    "    mae = mean_absolute_error(train_y,  y_preds_mean)\n",
    "    spearman = spearmanr(train_y, y_preds_mean)[0]\n",
    "    r2 = r2_score(train_y, y_preds_mean)\n",
    "    err_vals = [round_three(i) for i in [rmse, mae, spearman, r2]]\n",
    "\n",
    "    # print error metrics\n",
    "    data = {'Metric': ['RMSE', 'MAE', 'Spearman', 'R² score'], 'Value': err_vals}\n",
    "    df = pd.DataFrame(data)\n",
    "    print(df)\n",
    "\n",
    "    # training versus actuals plot: make plot, set title and axes values\n",
    "    axes[0].scatter(train_y, y_preds_mean)\n",
    "    axes[0].plot(np.linspace(0, 5, 5), np.linspace(0, 5, 5), 'k--')\n",
    "    axes[0].set_xlabel('Ground Truth 2 Qsw/(U+|D|) 1e6', fontsize = fs)\n",
    "    axes[0].set_ylabel('Prediction 2 Qsw/(U+|D|) 1e6', fontsize = fs)\n",
    "    axes[0].set_title('GP Training Results' + \" (MAE=%.2f\" % mae+' [%])', fontsize = fs)\n",
    "\n",
    "    # loss plot: make plot, set title and axes values\n",
    "    axes[1].plot(loss_lst, 'o-')\n",
    "    title = 'Training Loss'\n",
    "    axes[1].set_xlabel('Epoch (Per 100)', fontsize = fs)\n",
    "    axes[1].set_ylabel('Marginal Log Likelihood', fontsize = fs)\n",
    "    axes[1].set_title(title, fontsize = fs)\n",
    "    axes[2].axis(\"off\")\n",
    "\n",
    "    for i in range(len(axes)):\n",
    "        axes[i].tick_params(direction='in', length=5, width=1, labelsize = fs*.8)\n",
    "    plt.subplots_adjust(wspace = 0.4)\n",
    "\n",
    "    plt.show()"
   ],
   "outputs": [
    {
     "output_type": "stream",
     "name": "stderr",
     "text": [
      "/Users/valenetjong/opt/anaconda3/envs/FEGP/lib/python3.9/site-packages/gpytorch/models/exact_gp.py:274: GPInputWarning:\n",
      "\n",
      "The input matches the stored training data. Did you forget to call model.train()?\n",
      "\n"
     ]
    },
    {
     "output_type": "stream",
     "name": "stdout",
     "text": [
      "     Metric  Value\n",
      "0      RMSE  0.128\n",
      "1       MAE  0.108\n",
      "2  Spearman  0.993\n",
      "3  R² score  0.989\n"
     ]
    },
    {
     "output_type": "display_data",
     "data": {
      "image/png": "[encoded data removed]",
      "text/plain": [
       "<Figure size 3300x900 with 3 Axes>"
      ]
     },
     "metadata": {}
    }
   ],
   "metadata": {}
  },
  {
   "cell_type": "code",
   "execution_count": 123,
   "source": [
    "# acquisition function for prediction/exploration\n",
    "def get_bounds(n): return [n for i in range(config.dim)]\n",
    "\n",
    "def unravel_acq(acq_func, obs, bounds, train_y, nshape):\n",
    "    \"\"\" \n",
    "    [unravel_acq(acq_func, obs, bounds, train_y, nshape)] is a helper function \n",
    "    for acq that returns the coordinates of the maximum value of the acq_func \n",
    "    over the test grid in the form of a tuple (row_index, column_index). \n",
    "\n",
    "    row_index = index into time\n",
    "    column_index = index into energy density\n",
    "    \"\"\"\n",
    "    acq = acq_func(obs, bounds, train_y).detach().numpy().reshape(nshape).T\n",
    "    return np.unravel_index(acq.argmax(), acq.shape)\n",
    "\n",
    "def acq(obs, train_y, bounds):\n",
    "    \"\"\" \n",
    "    [acq(obs, train_y, bounds)] evaluates acquisition functions on current \n",
    "    predictions (observations) and outputs suggested points for exploration \n",
    "    on manifold. \n",
    "    \"\"\"\n",
    "    transpose = lambda tensor: tensor.detach().numpy().reshape(nshape).T\n",
    "    nshape = tuple(bounds)\n",
    "\n",
    "    pi = unravel_acq(PI, obs, bounds, train_y, nshape) # prob of improvement\n",
    "    ei = unravel_acq(EI, obs, bounds, train_y, nshape) # expected improvement\n",
    "    ca = unravel_acq(cust_acq, obs, bounds, train_y, nshape) # custom acq\n",
    "    th = unravel_acq(thompson, obs, bounds, train_y, nshape) # thompson acq\n",
    "\n",
    "    lower, upper = obs.confidence_region()\n",
    "    upper_surf, lower_surf = transpose(upper), transpose(lower)\n",
    "    ucb = np.unravel_index(upper_surf.argmax(), upper_surf.shape)\n",
    "\n",
    "    pred_var = obs.variance.view(nshape).detach().numpy().T\n",
    "    pred_labels = obs.mean.view(nshape)\n",
    "    max_var = np.unravel_index(pred_var.argmax(), pred_var.shape)\n",
    "\n",
    "    # acqs gives pairs corresponding to indices of time and energy density recommendations in grid\n",
    "    # pairs index into pred_labels \n",
    "    acqs = {\"PI\":pi, \"EI\":ei, \"CA\":ca, \"TH\":th, \"UCB\":ucb, \"Max_var\":max_var}\n",
    "\n",
    "    return pred_labels, upper_surf, lower_surf, acqs"
   ],
   "outputs": [],
   "metadata": {}
  },
  {
   "cell_type": "code",
   "execution_count": 124,
   "source": [
    "# export predictions to csv\n",
    "def pred_to_csv(acqs, raw_pred_labels, raw_test_grid, file_out = \"preds.csv\"):\n",
    "    \"\"\"\n",
    "    [pred_to_csv(acqs, raw_pred_labels, raw_test_grid)] outputs suggested\n",
    "    inputs and their respective predicted outputs to csv. \n",
    "    \"\"\"   \n",
    "    dir = \"/Users/valenetjong/Bayesian-Optimization-Ferroelectrics/predictions/\"\n",
    "    file = open(dir + file_out, \"w\", encoding=\"utf-8\")\n",
    "    file.write(\"Energy density \\t Time (ms)\\n\")\n",
    "    data = {'Time(ms)':[], 'Energy density new cone (J/cm^2)':[], '2 Qsw/(U+|D|) 1e6':[]}\n",
    "    for lab, coords in acqs.items(): \n",
    "        time_val = raw_test_grid[coords[1]].tolist()[0]\n",
    "        energy_den_val = raw_test_grid[coords[0]].tolist()[1]\n",
    "        data['Time(ms)'].append(time_val)\n",
    "        data['Energy density new cone (J/cm^2)'].append(energy_den_val)\n",
    "        file.write(lab + \": \" + str(time_val) + \"\\t\" + str(energy_den_val) + \"\\n\")\n",
    "\n",
    "    file.write(\"\\nFigure of merit\\n\")\n",
    "    for lab, coords in acqs.items():\n",
    "        fig_of_merit = raw_pred_labels[coords].item()\n",
    "        data['2 Qsw/(U+|D|) 1e6'].append(fig_of_merit)\n",
    "        file.write(lab + \": \" + str(fig_of_merit) + \"\\n\")\n",
    "\n",
    "    df = pd.DataFrame(data)\n",
    "    print(df)\n"
   ],
   "outputs": [],
   "metadata": {}
  },
  {
   "cell_type": "code",
   "execution_count": 125,
   "source": [
    "# get normalized predictions\n",
    "bounds = get_bounds(n=30)\n",
    "pred_labels, upper_surf, lower_surf, acqs = acq(obs, train_y, bounds)\n",
    "\n",
    "# undo normalization\n",
    "raw_train_x, raw_train_y, raw_test_grid, raw_pred_labels, raw_upper_surf, raw_lower_surf = un_norm_all(x_min, x_max, train_x, train_y, test_grid, pred_labels, upper_surf, lower_surf)\n"
   ],
   "outputs": [],
   "metadata": {}
  },
  {
   "cell_type": "markdown",
   "source": [
    "### Save Predictions and Visualize "
   ],
   "metadata": {}
  },
  {
   "cell_type": "code",
   "execution_count": 126,
   "source": [
    "# undo normalization and save to csv\n",
    "pred_to_csv(acqs, raw_pred_labels, raw_test_grid)"
   ],
   "outputs": [
    {
     "output_type": "stream",
     "name": "stdout",
     "text": [
      "   Time(ms)  Energy density new cone (J/cm^2)  2 Qsw/(U+|D|) 1e6\n",
      "0  8.850208                          1.503079           2.444634\n",
      "1  8.850208                          1.503079           2.444634\n",
      "2  8.850208                          1.503079           2.444634\n",
      "3  9.319790                          3.165640           2.444634\n",
      "4  8.850208                          1.503079           2.444634\n",
      "5  6.032722                          0.339286           2.444634\n"
     ]
    }
   ],
   "metadata": {}
  },
  {
   "cell_type": "code",
   "execution_count": 127,
   "source": [
    "# visualize acquisition function results and confidence bound surfaces\n",
    "vis_pred(raw_train_x, raw_train_y, raw_test_grid, raw_pred_labels)\n",
    "vis_acq(raw_train_x, raw_train_y, raw_test_grid, raw_pred_labels, raw_upper_surf, raw_lower_surf, acqs)"
   ],
   "outputs": [
    {
     "output_type": "display_data",
     "data": {
      "application/vnd.plotly.v1+json": {
       "data": [
        {
         "name": "GP regression",
         "x": [
          2.276071548461914,
          2.745652675628662,
          3.2152340412139893,
          3.6848151683807373,
          4.1543965339660645,
          4.6239776611328125,
          5.093559265136719,
          5.563139915466309,
          6.032721519470215,
          6.502302646636963,
          6.971883773803711,
          7.441464900970459,
          7.911046028137207,
          8.380627632141113,
          8.850208282470703,
          9.31978988647461,
          9.789371490478516,
          10.258953094482422,
          10.728534698486328,
          11.198114395141602,
          11.667695999145508,
          12.137277603149414,
          12.60685920715332,
          13.076440811157227,
          13.5460205078125,
          14.015602111816406,
          14.485183715820312,
          14.954765319824219,
          15.424346923828125,
          15.893926620483398
         ],
         "y": [
          0.3392857015132904,
          0.5055418610572815,
          0.6717979907989502,
          0.8380541801452637,
          1.0043103694915771,
          1.1705665588378906,
          1.3368226289749146,
          1.503078818321228,
          1.669334888458252,
          1.8355910778045654,
          2.001847267150879,
          2.1681032180786133,
          2.334359645843506,
          2.5006155967712402,
          2.666872024536133,
          2.833127975463867,
          2.9993844032287598,
          3.165640354156494,
          3.3318967819213867,
          3.498152494430542,
          3.6644086837768555,
          3.830664873123169,
          3.9969210624694824,
          4.163177490234375,
          4.329433441162109,
          4.495689392089844,
          4.661945819854736,
          4.828201770782471,
          4.994458198547363,
          5.160714149475098
         ],
         "z": [
          [
           2.442239284515381,
           2.0610735416412354,
           2.468087673187256,
           2.452360153198242,
           2.420861005783081,
           2.06852388381958,
           2.2047882080078125,
           2.565969705581665,
           2.4446423053741455,
           2.444634199142456,
           2.444634199142456,
           2.444634199142456,
           2.444634199142456,
           2.444634199142456,
           2.444634199142456,
           2.444634199142456,
           2.444634199142456,
           2.444634199142456,
           2.444634199142456,
           2.444634199142456,
           2.444634199142456,
           2.444634199142456,
           2.444634199142456,
           2.444634199142456,
           2.444634199142456,
           2.444634199142456,
           2.444634199142456,
           2.444634199142456,
           2.444634199142456,
           2.444634199142456
          ],
          [
           2.43583345413208,
           1.035104513168335,
           2.53082275390625,
           2.473020553588867,
           2.3572659492492676,
           1.0623987913131714,
           1.563234806060791,
           2.890551805496216,
           2.4446637630462646,
           2.444639205932617,
           2.444634199142456,
           2.444634437561035,
           2.4446358680725098,
           2.444634199142456,
           2.444634199142456,
           2.444634199142456,
           2.444634199142456,
           2.444634199142456,
           2.444634199142456,
           2.444634199142456,
           2.444634199142456,
           2.444634199142456,
           2.444634199142456,
           2.444634199142456,
           2.444634199142456,
           2.444634199142456,
           2.444634199142456,
           2.444634199142456,
           2.444634199142456,
           2.444634199142456
          ],
          [
           2.442646026611328,
           2.1261463165283203,
           2.4641079902648926,
           2.4488089084625244,
           2.424785614013672,
           2.132312059402466,
           2.2455058097839355,
           2.545372247695923,
           2.444730281829834,
           2.449528455734253,
           2.444687604904175,
           2.4448349475860596,
           2.446394681930542,
           2.444634437561035,
           2.444634199142456,
           2.444634199142456,
           2.444634199142456,
           2.444634199142456,
           2.444634199142456,
           2.444634199142456,
           2.444634199142456,
           2.444634199142456,
           2.444634199142456,
           2.444634199142456,
           2.444634199142456,
           2.444634199142456,
           2.444634199142456,
           2.444634199142456,
           2.444634199142456,
           2.444634199142456
          ],
          [
           2.4446065425872803,
           2.4402098655700684,
           2.444852828979492,
           2.308140277862549,
           2.437574863433838,
           2.440295934677124,
           2.441868305206299,
           2.446033477783203,
           2.450096607208252,
           2.743314743041992,
           2.4478960037231445,
           2.4568819999694824,
           2.5520708560943604,
           2.4446520805358887,
           2.444634199142456,
           2.444634199142456,
           2.444634199142456,
           2.444634199142456,
           2.444634199142456,
           2.444634199142456,
           2.444634199142456,
           2.444634199142456,
           2.444634199142456,
           2.444634199142456,
           2.444634199142456,
           2.444634199142456,
           2.444634199142456,
           2.444634199142456,
           2.444634199142456,
           2.444634199142456
          ],
          [
           2.444634199142456,
           2.4446303844451904,
           2.444439649581909,
           1.9322490692138672,
           2.419179916381836,
           2.4446303844451904,
           2.4446325302124023,
           2.444636583328247,
           2.4651269912719727,
           3.5651891231536865,
           2.4568710327148438,
           2.490584373474121,
           2.847715139389038,
           2.4447009563446045,
           2.444638967514038,
           2.4446346759796143,
           2.444634199142456,
           2.444634199142456,
           2.444634199142456,
           2.444634199142456,
           2.444634199142456,
           2.444634199142456,
           2.444634199142456,
           2.444634199142456,
           2.444634199142456,
           2.444634199142456,
           2.444634199142456,
           2.444634199142456,
           2.444634199142456,
           2.444634199142456
          ],
          [
           2.444634199142456,
           2.444634199142456,
           2.444589376449585,
           2.3264458179473877,
           2.438762903213501,
           2.444634199142456,
           2.4452192783355713,
           2.445852279663086,
           2.4493610858917236,
           2.7030892372131348,
           2.4474568367004395,
           2.455233335494995,
           2.537607192993164,
           2.444650411605835,
           2.449522018432617,
           2.4451754093170166,
           2.444634199142456,
           2.444634199142456,
           2.444634199142456,
           2.444634199142456,
           2.444634199142456,
           2.444634199142456,
           2.444634199142456,
           2.444634199142456,
           2.444634199142456,
           2.444634199142456,
           2.444634199142456,
           2.444634199142456,
           2.444634199142456,
           2.444634199142456
          ],
          [
           2.444634199142456,
           2.444634199142456,
           2.4446334838867188,
           2.442958116531372,
           2.4445509910583496,
           2.444634437561035,
           2.4810848236083984,
           2.5205087661743164,
           2.444704294204712,
           2.4482994079589844,
           2.444674253463745,
           2.44478440284729,
           2.4459526538848877,
           2.4446864128112793,
           2.749131202697754,
           2.47835111618042,
           2.444634199142456,
           2.444634199142456,
           2.444634199142456,
           2.444634199142456,
           2.444634199142456,
           2.444634199142456,
           2.444634199142456,
           2.444634199142456,
           2.444634199142456,
           2.444634199142456,
           2.444634199142456,
           2.444634199142456,
           2.444634199142456,
           2.444634199142456
          ],
          [
           2.444634199142456,
           2.444634199142456,
           2.444634199142456,
           2.4446327686309814,
           2.444634199142456,
           2.4446353912353516,
           2.584235906600952,
           2.735243082046509,
           2.444645643234253,
           2.4446372985839844,
           2.444634199142456,
           2.444634437561035,
           2.4446353912353516,
           2.4448325634002686,
           3.610861301422119,
           2.5737648010253906,
           2.4446346759796143,
           2.444636344909668,
           2.444634437561035,
           2.4446356296539307,
           2.444634199142456,
           2.444634199142456,
           2.444634199142456,
           2.444634199142456,
           2.444634199142456,
           2.444634199142456,
           2.444634199142456,
           2.444634199142456,
           2.444634199142456,
           2.444634199142456
          ],
          [
           2.444634199142456,
           2.444634199142456,
           2.444634199142456,
           2.444634199142456,
           2.444634199142456,
           2.444634437561035,
           2.477506399154663,
           2.513066291809082,
           2.444636821746826,
           2.444634199142456,
           2.444634199142456,
           2.444634199142456,
           2.444634199142456,
           2.4442670345306396,
           2.713357925415039,
           2.468416690826416,
           2.444734573364258,
           2.4467501640319824,
           2.444873094558716,
           2.4461886882781982,
           2.444634199142456,
           2.444634199142456,
           2.444634199142456,
           2.444634199142456,
           2.444634199142456,
           2.444634199142456,
           2.444634199142456,
           2.444634199142456,
           2.444634199142456,
           2.444634199142456
          ],
          [
           2.444634199142456,
           2.444634199142456,
           2.444634199142456,
           2.444634199142456,
           2.444634199142456,
           2.444634199142456,
           2.4451100826263428,
           2.445624828338623,
           2.444634199142456,
           2.444634199142456,
           2.444634199142456,
           2.444634199142456,
           2.444634199142456,
           2.418302297592163,
           2.0738582611083984,
           2.023681640625,
           2.4510202407836914,
           2.579212188720703,
           2.459825038909912,
           2.5434939861297607,
           2.4446396827697754,
           2.444634199142456,
           2.444634199142456,
           2.444634199142456,
           2.444634199142456,
           2.444634199142456,
           2.444634199142456,
           2.444634199142456,
           2.444634199142456,
           2.444634199142456
          ],
          [
           2.444634199142456,
           2.444634199142456,
           2.444634199142456,
           2.444634199142456,
           2.444634199142456,
           2.444634199142456,
           2.4446346759796143,
           2.4446351528167725,
           2.444634199142456,
           2.444634199142456,
           2.444634199142456,
           2.444634199142456,
           2.444633960723877,
           2.3416740894317627,
           0.979354739189148,
           0.7969958782196045,
           2.4696030616760254,
           2.9708316326141357,
           2.5040321350097656,
           2.8311655521392822,
           2.444655656814575,
           2.444634199142456,
           2.444634199142456,
           2.444634199142456,
           2.444634199142456,
           2.444634199142456,
           2.444634199142456,
           2.444634199142456,
           2.444634199142456,
           2.444634199142456
          ],
          [
           2.444634199142456,
           2.444634199142456,
           2.444634199142456,
           2.444634199142456,
           2.444634199142456,
           2.444634199142456,
           2.444634199142456,
           2.444634199142456,
           2.444634199142456,
           2.444634199142456,
           2.444634199142456,
           2.444634199142456,
           2.444634199142456,
           2.419883966445923,
           2.0924010276794434,
           2.04856538772583,
           2.450636386871338,
           2.571125030517578,
           2.4589123725891113,
           2.5375518798828125,
           2.4446394443511963,
           2.444634199142456,
           2.444634199142456,
           2.444634199142456,
           2.444634199142456,
           2.444634199142456,
           2.444634199142456,
           2.444634199142456,
           2.444634199142456,
           2.444634199142456
          ],
          [
           2.444634199142456,
           2.444634199142456,
           2.444634199142456,
           2.444634199142456,
           2.444634199142456,
           2.444634199142456,
           2.444634199142456,
           2.444634199142456,
           2.444634199142456,
           2.444634199142456,
           2.444634199142456,
           2.444634199142456,
           2.444634199142456,
           2.4442684650421143,
           2.4394285678863525,
           2.4387807846069336,
           2.444722890853882,
           2.4465036392211914,
           2.444845199584961,
           2.446007490158081,
           2.444634199142456,
           2.444634199142456,
           2.444634199142456,
           2.444634199142456,
           2.444634199142456,
           2.444634199142456,
           2.444634199142456,
           2.444634199142456,
           2.444634199142456,
           2.444634199142456
          ],
          [
           2.444634199142456,
           2.444634199142456,
           2.444634199142456,
           2.444634199142456,
           2.444634199142456,
           2.444634199142456,
           2.444634199142456,
           2.444634199142456,
           2.444634199142456,
           2.444634199142456,
           2.444634199142456,
           2.444634199142456,
           2.444634199142456,
           2.444633960723877,
           2.444629430770874,
           2.444628953933716,
           2.444634199142456,
           2.4446358680725098,
           2.444634437561035,
           2.4446353912353516,
           2.444634199142456,
           2.444634199142456,
           2.444634199142456,
           2.444634199142456,
           2.444634199142456,
           2.444634199142456,
           2.444634199142456,
           2.444634199142456,
           2.444634199142456,
           2.444634199142456
          ],
          [
           2.444634199142456,
           2.444634199142456,
           2.444634199142456,
           2.444634199142456,
           2.444634199142456,
           2.444634199142456,
           2.444634199142456,
           2.444634199142456,
           2.444634199142456,
           2.444634199142456,
           2.444634199142456,
           2.444634199142456,
           2.444634199142456,
           2.444634199142456,
           2.444634199142456,
           2.444634199142456,
           2.444634199142456,
           2.444634199142456,
           2.444634199142456,
           2.444634199142456,
           2.444634199142456,
           2.444634199142456,
           2.444634199142456,
           2.444634199142456,
           2.444634199142456,
           2.444634199142456,
           2.444634199142456,
           2.444634199142456,
           2.444634199142456,
           2.444634199142456
          ],
          [
           2.444634199142456,
           2.444634199142456,
           2.444634199142456,
           2.444634199142456,
           2.444634199142456,
           2.444634199142456,
           2.444634199142456,
           2.444634199142456,
           2.444634199142456,
           2.444634199142456,
           2.444634199142456,
           2.444634199142456,
           2.444634199142456,
           2.444634199142456,
           2.444634199142456,
           2.444634199142456,
           2.444634199142456,
           2.444634199142456,
           2.444634199142456,
           2.444634199142456,
           2.444634199142456,
           2.444634199142456,
           2.444634199142456,
           2.444634199142456,
           2.444634199142456,
           2.444634199142456,
           2.444634199142456,
           2.444634199142456,
           2.444634199142456,
           2.444634199142456
          ],
          [
           2.444634199142456,
           2.444634199142456,
           2.444634199142456,
           2.444634199142456,
           2.444634199142456,
           2.444634199142456,
           2.444634199142456,
           2.444634199142456,
           2.444634199142456,
           2.444634199142456,
           2.444634199142456,
           2.444634199142456,
           2.444634199142456,
           2.444634199142456,
           2.444634199142456,
           2.444634199142456,
           2.444634199142456,
           2.444634199142456,
           2.444634199142456,
           2.444634199142456,
           2.444634199142456,
           2.444634199142456,
           2.444634199142456,
           2.444634199142456,
           2.444634199142456,
           2.444634199142456,
           2.444634199142456,
           2.444634199142456,
           2.444634199142456,
           2.444634199142456
          ],
          [
           2.444634199142456,
           2.444634199142456,
           2.444634199142456,
           2.444634199142456,
           2.444634199142456,
           2.444634199142456,
           2.444634199142456,
           2.444634199142456,
           2.444634199142456,
           2.444634199142456,
           2.444634199142456,
           2.444634199142456,
           2.444634199142456,
           2.444634199142456,
           2.444634199142456,
           2.444634199142456,
           2.444634199142456,
           2.444634199142456,
           2.444634199142456,
           2.444634199142456,
           2.444634199142456,
           2.444634199142456,
           2.444634199142456,
           2.444634199142456,
           2.444634199142456,
           2.444634199142456,
           2.444634199142456,
           2.444634199142456,
           2.444634199142456,
           2.444634199142456
          ],
          [
           2.444634199142456,
           2.444634199142456,
           2.444634199142456,
           2.444634199142456,
           2.444634199142456,
           2.444634199142456,
           2.444634199142456,
           2.444634199142456,
           2.444634199142456,
           2.444634199142456,
           2.444634199142456,
           2.444634199142456,
           2.444634199142456,
           2.444634199142456,
           2.444634199142456,
           2.444634199142456,
           2.444634199142456,
           2.444634199142456,
           2.444634199142456,
           2.444634199142456,
           2.444634199142456,
           2.444634199142456,
           2.444634199142456,
           2.444634199142456,
           2.444634199142456,
           2.444634199142456,
           2.444634199142456,
           2.444634199142456,
           2.444634199142456,
           2.444634199142456
          ],
          [
           2.444634199142456,
           2.444634199142456,
           2.444634199142456,
           2.444634199142456,
           2.444634199142456,
           2.444634199142456,
           2.444634199142456,
           2.444634199142456,
           2.444634199142456,
           2.444634199142456,
           2.444634199142456,
           2.444634199142456,
           2.444634199142456,
           2.444634199142456,
           2.444634199142456,
           2.444634199142456,
           2.444634199142456,
           2.444634199142456,
           2.444634199142456,
           2.444634199142456,
           2.444634199142456,
           2.444634199142456,
           2.444634199142456,
           2.444634199142456,
           2.444634199142456,
           2.444634199142456,
           2.444634199142456,
           2.444634199142456,
           2.444634199142456,
           2.444634199142456
          ],
          [
           2.444634199142456,
           2.444634199142456,
           2.444634199142456,
           2.444634199142456,
           2.444634199142456,
           2.444634199142456,
           2.444634199142456,
           2.444634199142456,
           2.444634199142456,
           2.444634199142456,
           2.444634199142456,
           2.444634199142456,
           2.444634199142456,
           2.444634199142456,
           2.444634199142456,
           2.444634199142456,
           2.444634199142456,
           2.444634199142456,
           2.444634199142456,
           2.444634199142456,
           2.444634199142456,
           2.444634199142456,
           2.444634199142456,
           2.444634199142456,
           2.444634199142456,
           2.444634199142456,
           2.444634199142456,
           2.444634199142456,
           2.444634199142456,
           2.444634199142456
          ],
          [
           2.444634199142456,
           2.444634199142456,
           2.444634199142456,
           2.444634199142456,
           2.444634199142456,
           2.444634199142456,
           2.444634199142456,
           2.444634199142456,
           2.444634199142456,
           2.444634199142456,
           2.444634199142456,
           2.444634199142456,
           2.444634199142456,
           2.444634199142456,
           2.444634199142456,
           2.444634199142456,
           2.444634199142456,
           2.444634199142456,
           2.444634199142456,
           2.444634199142456,
           2.444634199142456,
           2.444634199142456,
           2.444634199142456,
           2.444634199142456,
           2.444634199142456,
           2.444634199142456,
           2.444634199142456,
           2.444634199142456,
           2.444634199142456,
           2.444634199142456
          ],
          [
           2.444634199142456,
           2.444634199142456,
           2.444634199142456,
           2.444634199142456,
           2.444634199142456,
           2.444634199142456,
           2.444634199142456,
           2.444634199142456,
           2.444634199142456,
           2.444634199142456,
           2.444634199142456,
           2.444634199142456,
           2.444634199142456,
           2.444634199142456,
           2.444634199142456,
           2.444634199142456,
           2.444634199142456,
           2.444634199142456,
           2.444634199142456,
           2.444634199142456,
           2.444634199142456,
           2.444634199142456,
           2.444634199142456,
           2.444634199142456,
           2.444634199142456,
           2.444634199142456,
           2.444634199142456,
           2.444634199142456,
           2.444634199142456,
           2.444634199142456
          ],
          [
           2.444634199142456,
           2.444634199142456,
           2.444634199142456,
           2.444634199142456,
           2.444634199142456,
           2.444634199142456,
           2.444634199142456,
           2.444634199142456,
           2.444634199142456,
           2.444634199142456,
           2.444634199142456,
           2.444634199142456,
           2.444634199142456,
           2.444634199142456,
           2.444634199142456,
           2.444634199142456,
           2.444634199142456,
           2.444634199142456,
           2.444634199142456,
           2.444634199142456,
           2.444634199142456,
           2.444634199142456,
           2.444634199142456,
           2.444634199142456,
           2.444634199142456,
           2.444634199142456,
           2.444634199142456,
           2.444634199142456,
           2.444634199142456,
           2.444634199142456
          ],
          [
           2.444634199142456,
           2.444634199142456,
           2.444634199142456,
           2.444634199142456,
           2.444634199142456,
           2.444634199142456,
           2.444634199142456,
           2.444634199142456,
           2.444634199142456,
           2.444634199142456,
           2.444634199142456,
           2.444634199142456,
           2.444634199142456,
           2.444634199142456,
           2.444634199142456,
           2.444634199142456,
           2.444634199142456,
           2.444634199142456,
           2.444634199142456,
           2.444634199142456,
           2.444634199142456,
           2.444634199142456,
           2.444634199142456,
           2.444634199142456,
           2.444634199142456,
           2.444634199142456,
           2.444634199142456,
           2.444634199142456,
           2.444634199142456,
           2.444634199142456
          ],
          [
           2.444634199142456,
           2.444634199142456,
           2.444634199142456,
           2.444634199142456,
           2.444634199142456,
           2.444634199142456,
           2.444634199142456,
           2.444634199142456,
           2.444634199142456,
           2.444634199142456,
           2.444634199142456,
           2.444634199142456,
           2.444634199142456,
           2.444634199142456,
           2.444631814956665,
           2.444634199142456,
           2.444634199142456,
           2.444634199142456,
           2.444634199142456,
           2.444634199142456,
           2.444634199142456,
           2.444634199142456,
           2.444634199142456,
           2.444634199142456,
           2.444634437561035,
           2.444634199142456,
           2.4446356296539307,
           2.444636344909668,
           2.444636583328247,
           2.444634199142456
          ],
          [
           2.444634199142456,
           2.444634199142456,
           2.444634199142456,
           2.444634199142456,
           2.444634199142456,
           2.444634199142456,
           2.444634199142456,
           2.444634199142456,
           2.444634199142456,
           2.444634199142456,
           2.444634199142456,
           2.444634199142456,
           2.444634199142456,
           2.444594144821167,
           2.4417543411254883,
           2.4446303844451904,
           2.444634199142456,
           2.444634199142456,
           2.444634199142456,
           2.444634199142456,
           2.444634199142456,
           2.444634199142456,
           2.444634199142456,
           2.444704055786133,
           2.4449071884155273,
           2.444634437561035,
           2.4462149143218994,
           2.447054386138916,
           2.447453260421753,
           2.4446518421173096
          ],
          [
           2.444634199142456,
           2.444634199142456,
           2.444634199142456,
           2.444634199142456,
           2.444634199142456,
           2.444634199142456,
           2.444634199142456,
           2.444634199142456,
           2.444634199142456,
           2.444634199142456,
           2.444634199142456,
           2.444634199142456,
           2.444634199142456,
           2.4417521953582764,
           2.237302303314209,
           2.444352626800537,
           2.444634199142456,
           2.444634199142456,
           2.444634199142456,
           2.444634199142456,
           2.444634199142456,
           2.444634199142456,
           2.444634199142456,
           2.44966983795166,
           2.4642796516418457,
           2.444643259048462,
           2.558438539505005,
           2.6188504695892334,
           2.647602081298828,
           2.4459002017974854
          ],
          [
           2.444634199142456,
           2.444634199142456,
           2.444634199142456,
           2.444634199142456,
           2.444634199142456,
           2.444634199142456,
           2.444634199142456,
           2.444634199142456,
           2.444634199142456,
           2.444634199142456,
           2.444634199142456,
           2.444634199142456,
           2.444634199142456,
           2.4318783283233643,
           1.5269907712936401,
           2.4433882236480713,
           2.444634199142456,
           2.444634199142456,
           2.444634199142456,
           2.444634199142456,
           2.444634199142456,
           2.444634199142456,
           2.444634199142456,
           2.4669227600097656,
           2.5315845012664795,
           2.444674253463745,
           2.9483590126037598,
           3.2156620025634766,
           3.343017101287842,
           2.450237274169922
          ],
          [
           2.444634199142456,
           2.444634199142456,
           2.444634199142456,
           2.444634199142456,
           2.444634199142456,
           2.444634199142456,
           2.444634199142456,
           2.444634199142456,
           2.444634199142456,
           2.444634199142456,
           2.444634199142456,
           2.444634199142456,
           2.444634199142456,
           2.4411633014678955,
           2.1949329376220703,
           2.4442951679229736,
           2.444634199142456,
           2.444634199142456,
           2.444634199142456,
           2.444634199142456,
           2.444634199142456,
           2.444634199142456,
           2.444634199142456,
           2.4506988525390625,
           2.4682936668395996,
           2.4446451663970947,
           2.5817012786865234,
           2.6544458866119385,
           2.6891016960144043,
           2.4461588859558105
          ]
         ],
         "type": "surface"
        },
        {
         "marker": {
          "color": "darkgreen"
         },
         "mode": "markers",
         "name": "training data",
         "x": [
          2.7300000190734863,
          3.4000000953674316,
          3.7899999618530273,
          6.440000057220459,
          5.360000133514404,
          8.989999771118164,
          8.800000190734863,
          14.670000076293945,
          5.239999771118164,
          14.889999389648438,
          10.130000114440918,
          4.510000228881836,
          5.369999885559082,
          4.880000114440918,
          6.760000228881836,
          7.769999980926514,
          8.729999542236328,
          9.380000114440918,
          10.479999542236328,
          11.010000228881836,
          14.709999084472656,
          15.439998626708984,
          13.369998931884766
         ],
         "y": [
          0.5,
          0.5,
          1,
          1,
          1.5,
          1.5,
          5,
          5,
          0.5,
          5,
          2,
          0.5,
          0.5,
          0.5,
          1,
          1,
          2,
          2,
          2,
          2,
          5,
          5,
          5
         ],
         "z": [
          0.8730257153511047,
          2.6772446632385254,
          1.6990152597427368,
          3.8050527572631836,
          3.3348562717437744,
          4.535152912139893,
          1.3625102043151855,
          3.8412907123565674,
          1.2013570070266724,
          3.5136520862579346,
          3.4708714485168457,
          0.26329824328422546,
          2.7753403186798096,
          2.591306209564209,
          2.579984426498413,
          3.173818588256836,
          0.13150499761104584,
          0.45116370916366577,
          2.1266398429870605,
          3.468212842941284,
          3.685852527618408,
          3.445655584335327,
          2.6515469551086426
         ],
         "type": "scatter3d"
        }
       ],
       "layout": {
        "template": {
         "data": {
          "histogram2dcontour": [
           {
            "type": "histogram2dcontour",
            "colorbar": {
             "outlinewidth": 0,
             "ticks": ""
            },
            "colorscale": [
             [
              0,
              "#0d0887"
             ],
             [
              0.1111111111111111,
              "#46039f"
             ],
             [
              0.2222222222222222,
              "#7201a8"
             ],
             [
              0.3333333333333333,
              "#9c179e"
             ],
             [
              0.4444444444444444,
              "#bd3786"
             ],
             [
              0.5555555555555556,
              "#d8576b"
             ],
             [
              0.6666666666666666,
              "#ed7953"
             ],
             [
              0.7777777777777778,
              "#fb9f3a"
             ],
             [
              0.8888888888888888,
              "#fdca26"
             ],
             [
              1,
              "#f0f921"
             ]
            ]
           }
          ],
          "choropleth": [
           {
            "type": "choropleth",
            "colorbar": {
             "outlinewidth": 0,
             "ticks": ""
            }
           }
          ],
          "histogram2d": [
           {
            "type": "histogram2d",
            "colorbar": {
             "outlinewidth": 0,
             "ticks": ""
            },
            "colorscale": [
             [
              0,
              "#0d0887"
             ],
             [
              0.1111111111111111,
              "#46039f"
             ],
             [
              0.2222222222222222,
              "#7201a8"
             ],
             [
              0.3333333333333333,
              "#9c179e"
             ],
             [
              0.4444444444444444,
              "#bd3786"
             ],
             [
              0.5555555555555556,
              "#d8576b"
             ],
             [
              0.6666666666666666,
              "#ed7953"
             ],
             [
              0.7777777777777778,
              "#fb9f3a"
             ],
             [
              0.8888888888888888,
              "#fdca26"
             ],
             [
              1,
              "#f0f921"
             ]
            ]
           }
          ],
          "heatmap": [
           {
            "type": "heatmap",
            "colorbar": {
             "outlinewidth": 0,
             "ticks": ""
            },
            "colorscale": [
             [
              0,
              "#0d0887"
             ],
             [
              0.1111111111111111,
              "#46039f"
             ],
             [
              0.2222222222222222,
              "#7201a8"
             ],
             [
              0.3333333333333333,
              "#9c179e"
             ],
             [
              0.4444444444444444,
              "#bd3786"
             ],
             [
              0.5555555555555556,
              "#d8576b"
             ],
             [
              0.6666666666666666,
              "#ed7953"
             ],
             [
              0.7777777777777778,
              "#fb9f3a"
             ],
             [
              0.8888888888888888,
              "#fdca26"
             ],
             [
              1,
              "#f0f921"
             ]
            ]
           }
          ],
          "heatmapgl": [
           {
            "type": "heatmapgl",
            "colorbar": {
             "outlinewidth": 0,
             "ticks": ""
            },
            "colorscale": [
             [
              0,
              "#0d0887"
             ],
             [
              0.1111111111111111,
              "#46039f"
             ],
             [
              0.2222222222222222,
              "#7201a8"
             ],
             [
              0.3333333333333333,
              "#9c179e"
             ],
             [
              0.4444444444444444,
              "#bd3786"
             ],
             [
              0.5555555555555556,
              "#d8576b"
             ],
             [
              0.6666666666666666,
              "#ed7953"
             ],
             [
              0.7777777777777778,
              "#fb9f3a"
             ],
             [
              0.8888888888888888,
              "#fdca26"
             ],
             [
              1,
              "#f0f921"
             ]
            ]
           }
          ],
          "contourcarpet": [
           {
            "type": "contourcarpet",
            "colorbar": {
             "outlinewidth": 0,
             "ticks": ""
            }
           }
          ],
          "contour": [
           {
            "type": "contour",
            "colorbar": {
             "outlinewidth": 0,
             "ticks": ""
            },
            "colorscale": [
             [
              0,
              "#0d0887"
             ],
             [
              0.1111111111111111,
              "#46039f"
             ],
             [
              0.2222222222222222,
              "#7201a8"
             ],
             [
              0.3333333333333333,
              "#9c179e"
             ],
             [
              0.4444444444444444,
              "#bd3786"
             ],
             [
              0.5555555555555556,
              "#d8576b"
             ],
             [
              0.6666666666666666,
              "#ed7953"
             ],
             [
              0.7777777777777778,
              "#fb9f3a"
             ],
             [
              0.8888888888888888,
              "#fdca26"
             ],
             [
              1,
              "#f0f921"
             ]
            ]
           }
          ],
          "surface": [
           {
            "type": "surface",
            "colorbar": {
             "outlinewidth": 0,
             "ticks": ""
            },
            "colorscale": [
             [
              0,
              "#0d0887"
             ],
             [
              0.1111111111111111,
              "#46039f"
             ],
             [
              0.2222222222222222,
              "#7201a8"
             ],
             [
              0.3333333333333333,
              "#9c179e"
             ],
             [
              0.4444444444444444,
              "#bd3786"
             ],
             [
              0.5555555555555556,
              "#d8576b"
             ],
             [
              0.6666666666666666,
              "#ed7953"
             ],
             [
              0.7777777777777778,
              "#fb9f3a"
             ],
             [
              0.8888888888888888,
              "#fdca26"
             ],
             [
              1,
              "#f0f921"
             ]
            ]
           }
          ],
          "mesh3d": [
           {
            "type": "mesh3d",
            "colorbar": {
             "outlinewidth": 0,
             "ticks": ""
            }
           }
          ],
          "scatter": [
           {
            "fillpattern": {
             "fillmode": "overlay",
             "size": 10,
             "solidity": 0.2
            },
            "type": "scatter"
           }
          ],
          "parcoords": [
           {
            "type": "parcoords",
            "line": {
             "colorbar": {
              "outlinewidth": 0,
              "ticks": ""
             }
            }
           }
          ],
          "scatterpolargl": [
           {
            "type": "scatterpolargl",
            "marker": {
             "colorbar": {
              "outlinewidth": 0,
              "ticks": ""
             }
            }
           }
          ],
          "bar": [
           {
            "error_x": {
             "color": "#2a3f5f"
            },
            "error_y": {
             "color": "#2a3f5f"
            },
            "marker": {
             "line": {
              "color": "#E5ECF6",
              "width": 0.5
             },
             "pattern": {
              "fillmode": "overlay",
              "size": 10,
              "solidity": 0.2
             }
            },
            "type": "bar"
           }
          ],
          "scattergeo": [
           {
            "type": "scattergeo",
            "marker": {
             "colorbar": {
              "outlinewidth": 0,
              "ticks": ""
             }
            }
           }
          ],
          "scatterpolar": [
           {
            "type": "scatterpolar",
            "marker": {
             "colorbar": {
              "outlinewidth": 0,
              "ticks": ""
             }
            }
           }
          ],
          "histogram": [
           {
            "marker": {
             "pattern": {
              "fillmode": "overlay",
              "size": 10,
              "solidity": 0.2
             }
            },
            "type": "histogram"
           }
          ],
          "scattergl": [
           {
            "type": "scattergl",
            "marker": {
             "colorbar": {
              "outlinewidth": 0,
              "ticks": ""
             }
            }
           }
          ],
          "scatter3d": [
           {
            "type": "scatter3d",
            "line": {
             "colorbar": {
              "outlinewidth": 0,
              "ticks": ""
             }
            },
            "marker": {
             "colorbar": {
              "outlinewidth": 0,
              "ticks": ""
             }
            }
           }
          ],
          "scattermapbox": [
           {
            "type": "scattermapbox",
            "marker": {
             "colorbar": {
              "outlinewidth": 0,
              "ticks": ""
             }
            }
           }
          ],
          "scatterternary": [
           {
            "type": "scatterternary",
            "marker": {
             "colorbar": {
              "outlinewidth": 0,
              "ticks": ""
             }
            }
           }
          ],
          "scattercarpet": [
           {
            "type": "scattercarpet",
            "marker": {
             "colorbar": {
              "outlinewidth": 0,
              "ticks": ""
             }
            }
           }
          ],
          "carpet": [
           {
            "aaxis": {
             "endlinecolor": "#2a3f5f",
             "gridcolor": "white",
             "linecolor": "white",
             "minorgridcolor": "white",
             "startlinecolor": "#2a3f5f"
            },
            "baxis": {
             "endlinecolor": "#2a3f5f",
             "gridcolor": "white",
             "linecolor": "white",
             "minorgridcolor": "white",
             "startlinecolor": "#2a3f5f"
            },
            "type": "carpet"
           }
          ],
          "table": [
           {
            "cells": {
             "fill": {
              "color": "#EBF0F8"
             },
             "line": {
              "color": "white"
             }
            },
            "header": {
             "fill": {
              "color": "#C8D4E3"
             },
             "line": {
              "color": "white"
             }
            },
            "type": "table"
           }
          ],
          "barpolar": [
           {
            "marker": {
             "line": {
              "color": "#E5ECF6",
              "width": 0.5
             },
             "pattern": {
              "fillmode": "overlay",
              "size": 10,
              "solidity": 0.2
             }
            },
            "type": "barpolar"
           }
          ],
          "pie": [
           {
            "automargin": true,
            "type": "pie"
           }
          ]
         },
         "layout": {
          "autotypenumbers": "strict",
          "colorway": [
           "#636efa",
           "#EF553B",
           "#00cc96",
           "#ab63fa",
           "#FFA15A",
           "#19d3f3",
           "#FF6692",
           "#B6E880",
           "#FF97FF",
           "#FECB52"
          ],
          "font": {
           "color": "#2a3f5f"
          },
          "hovermode": "closest",
          "hoverlabel": {
           "align": "left"
          },
          "paper_bgcolor": "white",
          "plot_bgcolor": "#E5ECF6",
          "polar": {
           "bgcolor": "#E5ECF6",
           "angularaxis": {
            "gridcolor": "white",
            "linecolor": "white",
            "ticks": ""
           },
           "radialaxis": {
            "gridcolor": "white",
            "linecolor": "white",
            "ticks": ""
           }
          },
          "ternary": {
           "bgcolor": "#E5ECF6",
           "aaxis": {
            "gridcolor": "white",
            "linecolor": "white",
            "ticks": ""
           },
           "baxis": {
            "gridcolor": "white",
            "linecolor": "white",
            "ticks": ""
           },
           "caxis": {
            "gridcolor": "white",
            "linecolor": "white",
            "ticks": ""
           }
          },
          "coloraxis": {
           "colorbar": {
            "outlinewidth": 0,
            "ticks": ""
           }
          },
          "colorscale": {
           "sequential": [
            [
             0,
             "#0d0887"
            ],
            [
             0.1111111111111111,
             "#46039f"
            ],
            [
             0.2222222222222222,
             "#7201a8"
            ],
            [
             0.3333333333333333,
             "#9c179e"
            ],
            [
             0.4444444444444444,
             "#bd3786"
            ],
            [
             0.5555555555555556,
             "#d8576b"
            ],
            [
             0.6666666666666666,
             "#ed7953"
            ],
            [
             0.7777777777777778,
             "#fb9f3a"
            ],
            [
             0.8888888888888888,
             "#fdca26"
            ],
            [
             1,
             "#f0f921"
            ]
           ],
           "sequentialminus": [
            [
             0,
             "#0d0887"
            ],
            [
             0.1111111111111111,
             "#46039f"
            ],
            [
             0.2222222222222222,
             "#7201a8"
            ],
            [
             0.3333333333333333,
             "#9c179e"
            ],
            [
             0.4444444444444444,
             "#bd3786"
            ],
            [
             0.5555555555555556,
             "#d8576b"
            ],
            [
             0.6666666666666666,
             "#ed7953"
            ],
            [
             0.7777777777777778,
             "#fb9f3a"
            ],
            [
             0.8888888888888888,
             "#fdca26"
            ],
            [
             1,
             "#f0f921"
            ]
           ],
           "diverging": [
            [
             0,
             "#8e0152"
            ],
            [
             0.1,
             "#c51b7d"
            ],
            [
             0.2,
             "#de77ae"
            ],
            [
             0.3,
             "#f1b6da"
            ],
            [
             0.4,
             "#fde0ef"
            ],
            [
             0.5,
             "#f7f7f7"
            ],
            [
             0.6,
             "#e6f5d0"
            ],
            [
             0.7,
             "#b8e186"
            ],
            [
             0.8,
             "#7fbc41"
            ],
            [
             0.9,
             "#4d9221"
            ],
            [
             1,
             "#276419"
            ]
           ]
          },
          "xaxis": {
           "gridcolor": "white",
           "linecolor": "white",
           "ticks": "",
           "title": {
            "standoff": 15
           },
           "zerolinecolor": "white",
           "automargin": true,
           "zerolinewidth": 2
          },
          "yaxis": {
           "gridcolor": "white",
           "linecolor": "white",
           "ticks": "",
           "title": {
            "standoff": 15
           },
           "zerolinecolor": "white",
           "automargin": true,
           "zerolinewidth": 2
          },
          "scene": {
           "xaxis": {
            "backgroundcolor": "#E5ECF6",
            "gridcolor": "white",
            "linecolor": "white",
            "showbackground": true,
            "ticks": "",
            "zerolinecolor": "white",
            "gridwidth": 2
           },
           "yaxis": {
            "backgroundcolor": "#E5ECF6",
            "gridcolor": "white",
            "linecolor": "white",
            "showbackground": true,
            "ticks": "",
            "zerolinecolor": "white",
            "gridwidth": 2
           },
           "zaxis": {
            "backgroundcolor": "#E5ECF6",
            "gridcolor": "white",
            "linecolor": "white",
            "showbackground": true,
            "ticks": "",
            "zerolinecolor": "white",
            "gridwidth": 2
           }
          },
          "shapedefaults": {
           "line": {
            "color": "#2a3f5f"
           }
          },
          "annotationdefaults": {
           "arrowcolor": "#2a3f5f",
           "arrowhead": 0,
           "arrowwidth": 1
          },
          "geo": {
           "bgcolor": "white",
           "landcolor": "#E5ECF6",
           "subunitcolor": "white",
           "showland": true,
           "showlakes": true,
           "lakecolor": "white"
          },
          "title": {
           "x": 0.05
          },
          "mapbox": {
           "style": "light"
          }
         }
        },
        "legend": {
         "orientation": "h",
         "yanchor": "top",
         "y": 1.02,
         "xanchor": "left",
         "x": 1
        },
        "margin": {
         "r": 20,
         "l": 10,
         "b": 10,
         "t": 10
        },
        "width": 1000,
        "height": 800,
        "scene": {
         "xaxis": {
          "title": {
           "text": "Energy density new cone (J/cm^2)"
          }
         },
         "yaxis": {
          "title": {
           "text": "Pulse Width (msec)"
          }
         },
         "zaxis": {
          "title": {
           "text": "2 Qsw/(U+|D|) 1e6"
          }
         },
         "camera": {
          "up": {
           "x": 0,
           "y": 0,
           "z": 1
          },
          "center": {
           "x": 0,
           "y": 0,
           "z": 0
          },
          "eye": {
           "x": -2,
           "y": -2.5,
           "z": 1.75
          }
         }
        }
       },
       "config": {
        "plotlyServerURL": "https://plot.ly"
       }
      }
     },
     "metadata": {}
    },
    {
     "output_type": "display_data",
     "data": {
      "application/vnd.plotly.v1+json": {
       "data": [
        {
         "opacity": 0.5,
         "showscale": false,
         "x": [
          2.276071548461914,
          2.745652675628662,
          3.2152340412139893,
          3.6848151683807373,
          4.1543965339660645,
          4.6239776611328125,
          5.093559265136719,
          5.563139915466309,
          6.032721519470215,
          6.502302646636963,
          6.971883773803711,
          7.441464900970459,
          7.911046028137207,
          8.380627632141113,
          8.850208282470703,
          9.31978988647461,
          9.789371490478516,
          10.258953094482422,
          10.728534698486328,
          11.198114395141602,
          11.667695999145508,
          12.137277603149414,
          12.60685920715332,
          13.076440811157227,
          13.5460205078125,
          14.015602111816406,
          14.485183715820312,
          14.954765319824219,
          15.424346923828125,
          15.893926620483398
         ],
         "y": [
          0.3392857015132904,
          0.5055418610572815,
          0.6717979907989502,
          0.8380541801452637,
          1.0043103694915771,
          1.1705665588378906,
          1.3368226289749146,
          1.503078818321228,
          1.669334888458252,
          1.8355910778045654,
          2.001847267150879,
          2.1681032180786133,
          2.334359645843506,
          2.5006155967712402,
          2.666872024536133,
          2.833127975463867,
          2.9993844032287598,
          3.165640354156494,
          3.3318967819213867,
          3.498152494430542,
          3.6644086837768555,
          3.830664873123169,
          3.9969210624694824,
          4.163177490234375,
          4.329433441162109,
          4.495689392089844,
          4.661945819854736,
          4.828201770782471,
          4.994458198547363,
          5.160714149475098
         ],
         "z": [
          [
           4.93958854675293,
           4.482908248901367,
           4.951421737670898,
           4.948334693908691,
           4.918066024780273,
           4.5235137939453125,
           4.6644287109375,
           5.048280715942383,
           4.941994667053223,
           4.941986560821533,
           4.941986560821533,
           4.941986560821533,
           4.941986560821533,
           4.941986560821533,
           4.941986560821533,
           4.941986560821533,
           4.941986560821533,
           4.941986560821533,
           4.941986560821533,
           4.941986560821533,
           4.941986560821533,
           4.941986560821533,
           4.941986560821533,
           4.941986560821533,
           4.941986560821533,
           4.941986560821533,
           4.941986560821533,
           4.941986560821533,
           4.941986560821533,
           4.941986560821533
          ],
          [
           4.9331464767456055,
           2.1396570205688477,
           4.8316650390625,
           4.95170783996582,
           4.852628707885742,
           2.907197952270508,
           3.4899635314941406,
           5.176410675048828,
           4.942016124725342,
           4.941991806030273,
           4.941986560821533,
           4.941987037658691,
           4.941987991333008,
           4.941986560821533,
           4.941986560821533,
           4.941986560821533,
           4.941986560821533,
           4.941986560821533,
           4.941986560821533,
           4.941986560821533,
           4.941986560821533,
           4.941986560821533,
           4.941986560821533,
           4.941986560821533,
           4.941986560821533,
           4.941986560821533,
           4.941986560821533,
           4.941986560821533,
           4.941986560821533,
           4.941986560821533
          ],
          [
           4.939996242523193,
           4.571681022644043,
           4.951803207397461,
           4.9452009201049805,
           4.922036170959473,
           4.600531578063965,
           4.716923713684082,
           5.0323662757873535,
           4.942082405090332,
           4.946864128112793,
           4.942037582397461,
           4.942187309265137,
           4.943739891052246,
           4.941987037658691,
           4.941986560821533,
           4.941986560821533,
           4.941986560821533,
           4.941986560821533,
           4.941986560821533,
           4.941986560821533,
           4.941986560821533,
           4.941986560821533,
           4.941986560821533,
           4.941986560821533,
           4.941986560821533,
           4.941986560821533,
           4.941986560821533,
           4.941986560821533,
           4.941986560821533,
           4.941986560821533
          ],
          [
           4.941958904266357,
           4.937552452087402,
           4.942203521728516,
           4.763235092163086,
           4.934823989868164,
           4.937642574310303,
           4.939215660095215,
           4.943383693695068,
           4.9474287033081055,
           5.1789751052856445,
           4.937299728393555,
           4.953882217407227,
           5.022167205810547,
           4.942004203796387,
           4.941986560821533,
           4.941986560821533,
           4.941986560821533,
           4.941986560821533,
           4.941986560821533,
           4.941986560821533,
           4.941986560821533,
           4.941986560821533,
           4.941986560821533,
           4.941986560821533,
           4.941986560821533,
           4.941986560821533,
           4.941986560821533,
           4.941986560821533,
           4.941986560821533,
           4.941986560821533
          ],
          [
           4.941986560821533,
           4.941982746124268,
           4.941791534423828,
           3.746509552001953,
           4.91507625579834,
           4.941982746124268,
           4.941985130310059,
           4.941988945007324,
           4.962193489074707,
           4.96280574798584,
           4.839913368225098,
           4.982973098754883,
           4.928821563720703,
           4.942053318023682,
           4.941991329193115,
           4.941987037658691,
           4.941986560821533,
           4.941986560821533,
           4.941986560821533,
           4.941986560821533,
           4.941986560821533,
           4.941986560821533,
           4.941986560821533,
           4.941986560821533,
           4.941986560821533,
           4.941986560821533,
           4.941986560821533,
           4.941986560821533,
           4.941986560821533,
           4.941986560821533
          ],
          [
           4.941986560821533,
           4.941986560821533,
           4.941941738128662,
           4.792224884033203,
           4.936038017272949,
           4.941986560821533,
           4.942570686340332,
           4.943202018737793,
           4.946698188781738,
           5.154393672943115,
           4.938858985900879,
           4.952322006225586,
           5.0145769119262695,
           4.942002773284912,
           4.9468674659729,
           4.942527770996094,
           4.941986560821533,
           4.941986560821533,
           4.941986560821533,
           4.941986560821533,
           4.941986560821533,
           4.941986560821533,
           4.941986560821533,
           4.941986560821533,
           4.941986560821533,
           4.941986560821533,
           4.941986560821533,
           4.941986560821533,
           4.941986560821533,
           4.941986560821533
          ],
          [
           4.941986560821533,
           4.941986560821533,
           4.941986083984375,
           4.940303802490234,
           4.941903114318848,
           4.941987037658691,
           4.976342678070068,
           5.0087738037109375,
           4.942056655883789,
           4.945642471313477,
           4.942025184631348,
           4.942136764526367,
           4.943300724029541,
           4.942038536071777,
           5.219849586486816,
           4.975378513336182,
           4.941986560821533,
           4.941986560821533,
           4.941986560821533,
           4.941986560821533,
           4.941986560821533,
           4.941986560821533,
           4.941986560821533,
           4.941986560821533,
           4.941986560821533,
           4.941986560821533,
           4.941986560821533,
           4.941986560821533,
           4.941986560821533,
           4.941986560821533
          ],
          [
           4.941986560821533,
           4.941986560821533,
           4.941986560821533,
           4.941985130310059,
           4.941986560821533,
           4.941987991333008,
           5.050690174102783,
           5.095780372619629,
           4.94199800491333,
           4.941989898681641,
           4.941986560821533,
           4.941987037658691,
           4.941987991333008,
           4.942184925079346,
           5.6834893226623535,
           5.066348075866699,
           4.941987037658691,
           4.941988945007324,
           4.941987037658691,
           4.941987991333008,
           4.941986560821533,
           4.941986560821533,
           4.941986560821533,
           4.941986560821533,
           4.941986560821533,
           4.941986560821533,
           4.941986560821533,
           4.941986560821533,
           4.941986560821533,
           4.941986560821533
          ],
          [
           4.941986560821533,
           4.941986560821533,
           4.941986560821533,
           4.941986560821533,
           4.941986560821533,
           4.941987037658691,
           4.973155498504639,
           5.003028869628906,
           4.941988945007324,
           4.941986560821533,
           4.941986560821533,
           4.941986560821533,
           4.941986560821533,
           4.941619396209717,
           5.189061164855957,
           4.965490818023682,
           4.942086696624756,
           4.944093704223633,
           4.942224502563477,
           4.943538188934326,
           4.941986560821533,
           4.941986560821533,
           4.941986560821533,
           4.941986560821533,
           4.941986560821533,
           4.941986560821533,
           4.941986560821533,
           4.941986560821533,
           4.941986560821533,
           4.941986560821533
          ],
          [
           4.941986560821533,
           4.941986560821533,
           4.941986560821533,
           4.941986560821533,
           4.941986560821533,
           4.941986560821533,
           4.942461967468262,
           4.9429755210876465,
           4.941986560821533,
           4.941986560821533,
           4.941986560821533,
           4.941986560821533,
           4.941986560821533,
           4.915493011474609,
           4.538291931152344,
           4.46462345123291,
           4.948137283325195,
           5.042074680328369,
           4.952664375305176,
           5.029178619384766,
           4.941991806030273,
           4.941986560821533,
           4.941986560821533,
           4.941986560821533,
           4.941986560821533,
           4.941986560821533,
           4.941986560821533,
           4.941986560821533,
           4.941986560821533,
           4.941986560821533
          ],
          [
           4.941986560821533,
           4.941986560821533,
           4.941986560821533,
           4.941986560821533,
           4.941986560821533,
           4.941986560821533,
           4.941987037658691,
           4.94198751449585,
           4.941986560821533,
           4.941986560821533,
           4.941986560821533,
           4.941986560821533,
           4.941986083984375,
           4.836550712585449,
           2.913273334503174,
           2.2034106254577637,
           4.963352680206299,
           4.873819351196289,
           4.9314727783203125,
           5.143728256225586,
           4.942008018493652,
           4.941986560821533,
           4.941986560821533,
           4.941986560821533,
           4.941986560821533,
           4.941986560821533,
           4.941986560821533,
           4.941986560821533,
           4.941986560821533,
           4.941986560821533
          ],
          [
           4.941986560821533,
           4.941986560821533,
           4.941986560821533,
           4.941986560821533,
           4.941986560821533,
           4.941986560821533,
           4.941986560821533,
           4.941986560821533,
           4.941986560821533,
           4.941986560821533,
           4.941986560821533,
           4.941986560821533,
           4.941986560821533,
           4.917093276977539,
           4.560698509216309,
           4.496150970458984,
           4.947780609130859,
           5.0380330085754395,
           4.952278137207031,
           5.024599552154541,
           4.941991806030273,
           4.941986560821533,
           4.941986560821533,
           4.941986560821533,
           4.941986560821533,
           4.941986560821533,
           4.941986560821533,
           4.941986560821533,
           4.941986560821533,
           4.941986560821533
          ],
          [
           4.941986560821533,
           4.941986560821533,
           4.941986560821533,
           4.941986560821533,
           4.941986560821533,
           4.941986560821533,
           4.941986560821533,
           4.941986560821533,
           4.941986560821533,
           4.941986560821533,
           4.941986560821533,
           4.941986560821533,
           4.941986560821533,
           4.941620826721191,
           4.936774253845215,
           4.936121940612793,
           4.942075252532959,
           4.943849563598633,
           4.942196846008301,
           4.943357467651367,
           4.941986560821533,
           4.941986560821533,
           4.941986560821533,
           4.941986560821533,
           4.941986560821533,
           4.941986560821533,
           4.941986560821533,
           4.941986560821533,
           4.941986560821533,
           4.941986560821533
          ],
          [
           4.941986560821533,
           4.941986560821533,
           4.941986560821533,
           4.941986560821533,
           4.941986560821533,
           4.941986560821533,
           4.941986560821533,
           4.941986560821533,
           4.941986560821533,
           4.941986560821533,
           4.941986560821533,
           4.941986560821533,
           4.941986560821533,
           4.941986083984375,
           4.941981792449951,
           4.941981315612793,
           4.941986560821533,
           4.941987991333008,
           4.941987037658691,
           4.941987991333008,
           4.941986560821533,
           4.941986560821533,
           4.941986560821533,
           4.941986560821533,
           4.941986560821533,
           4.941986560821533,
           4.941986560821533,
           4.941986560821533,
           4.941986560821533,
           4.941986560821533
          ],
          [
           4.941986560821533,
           4.941986560821533,
           4.941986560821533,
           4.941986560821533,
           4.941986560821533,
           4.941986560821533,
           4.941986560821533,
           4.941986560821533,
           4.941986560821533,
           4.941986560821533,
           4.941986560821533,
           4.941986560821533,
           4.941986560821533,
           4.941986560821533,
           4.941986560821533,
           4.941986560821533,
           4.941986560821533,
           4.941986560821533,
           4.941986560821533,
           4.941986560821533,
           4.941986560821533,
           4.941986560821533,
           4.941986560821533,
           4.941986560821533,
           4.941986560821533,
           4.941986560821533,
           4.941986560821533,
           4.941986560821533,
           4.941986560821533,
           4.941986560821533
          ],
          [
           4.941986560821533,
           4.941986560821533,
           4.941986560821533,
           4.941986560821533,
           4.941986560821533,
           4.941986560821533,
           4.941986560821533,
           4.941986560821533,
           4.941986560821533,
           4.941986560821533,
           4.941986560821533,
           4.941986560821533,
           4.941986560821533,
           4.941986560821533,
           4.941986560821533,
           4.941986560821533,
           4.941986560821533,
           4.941986560821533,
           4.941986560821533,
           4.941986560821533,
           4.941986560821533,
           4.941986560821533,
           4.941986560821533,
           4.941986560821533,
           4.941986560821533,
           4.941986560821533,
           4.941986560821533,
           4.941986560821533,
           4.941986560821533,
           4.941986560821533
          ],
          [
           4.941986560821533,
           4.941986560821533,
           4.941986560821533,
           4.941986560821533,
           4.941986560821533,
           4.941986560821533,
           4.941986560821533,
           4.941986560821533,
           4.941986560821533,
           4.941986560821533,
           4.941986560821533,
           4.941986560821533,
           4.941986560821533,
           4.941986560821533,
           4.941986560821533,
           4.941986560821533,
           4.941986560821533,
           4.941986560821533,
           4.941986560821533,
           4.941986560821533,
           4.941986560821533,
           4.941986560821533,
           4.941986560821533,
           4.941986560821533,
           4.941986560821533,
           4.941986560821533,
           4.941986560821533,
           4.941986560821533,
           4.941986560821533,
           4.941986560821533
          ],
          [
           4.941986560821533,
           4.941986560821533,
           4.941986560821533,
           4.941986560821533,
           4.941986560821533,
           4.941986560821533,
           4.941986560821533,
           4.941986560821533,
           4.941986560821533,
           4.941986560821533,
           4.941986560821533,
           4.941986560821533,
           4.941986560821533,
           4.941986560821533,
           4.941986560821533,
           4.941986560821533,
           4.941986560821533,
           4.941986560821533,
           4.941986560821533,
           4.941986560821533,
           4.941986560821533,
           4.941986560821533,
           4.941986560821533,
           4.941986560821533,
           4.941986560821533,
           4.941986560821533,
           4.941986560821533,
           4.941986560821533,
           4.941986560821533,
           4.941986560821533
          ],
          [
           4.941986560821533,
           4.941986560821533,
           4.941986560821533,
           4.941986560821533,
           4.941986560821533,
           4.941986560821533,
           4.941986560821533,
           4.941986560821533,
           4.941986560821533,
           4.941986560821533,
           4.941986560821533,
           4.941986560821533,
           4.941986560821533,
           4.941986560821533,
           4.941986560821533,
           4.941986560821533,
           4.941986560821533,
           4.941986560821533,
           4.941986560821533,
           4.941986560821533,
           4.941986560821533,
           4.941986560821533,
           4.941986560821533,
           4.941986560821533,
           4.941986560821533,
           4.941986560821533,
           4.941986560821533,
           4.941986560821533,
           4.941986560821533,
           4.941986560821533
          ],
          [
           4.941986560821533,
           4.941986560821533,
           4.941986560821533,
           4.941986560821533,
           4.941986560821533,
           4.941986560821533,
           4.941986560821533,
           4.941986560821533,
           4.941986560821533,
           4.941986560821533,
           4.941986560821533,
           4.941986560821533,
           4.941986560821533,
           4.941986560821533,
           4.941986560821533,
           4.941986560821533,
           4.941986560821533,
           4.941986560821533,
           4.941986560821533,
           4.941986560821533,
           4.941986560821533,
           4.941986560821533,
           4.941986560821533,
           4.941986560821533,
           4.941986560821533,
           4.941986560821533,
           4.941986560821533,
           4.941986560821533,
           4.941986560821533,
           4.941986560821533
          ],
          [
           4.941986560821533,
           4.941986560821533,
           4.941986560821533,
           4.941986560821533,
           4.941986560821533,
           4.941986560821533,
           4.941986560821533,
           4.941986560821533,
           4.941986560821533,
           4.941986560821533,
           4.941986560821533,
           4.941986560821533,
           4.941986560821533,
           4.941986560821533,
           4.941986560821533,
           4.941986560821533,
           4.941986560821533,
           4.941986560821533,
           4.941986560821533,
           4.941986560821533,
           4.941986560821533,
           4.941986560821533,
           4.941986560821533,
           4.941986560821533,
           4.941986560821533,
           4.941986560821533,
           4.941986560821533,
           4.941986560821533,
           4.941986560821533,
           4.941986560821533
          ],
          [
           4.941986560821533,
           4.941986560821533,
           4.941986560821533,
           4.941986560821533,
           4.941986560821533,
           4.941986560821533,
           4.941986560821533,
           4.941986560821533,
           4.941986560821533,
           4.941986560821533,
           4.941986560821533,
           4.941986560821533,
           4.941986560821533,
           4.941986560821533,
           4.941986560821533,
           4.941986560821533,
           4.941986560821533,
           4.941986560821533,
           4.941986560821533,
           4.941986560821533,
           4.941986560821533,
           4.941986560821533,
           4.941986560821533,
           4.941986560821533,
           4.941986560821533,
           4.941986560821533,
           4.941986560821533,
           4.941986560821533,
           4.941986560821533,
           4.941986560821533
          ],
          [
           4.941986560821533,
           4.941986560821533,
           4.941986560821533,
           4.941986560821533,
           4.941986560821533,
           4.941986560821533,
           4.941986560821533,
           4.941986560821533,
           4.941986560821533,
           4.941986560821533,
           4.941986560821533,
           4.941986560821533,
           4.941986560821533,
           4.941986560821533,
           4.941986560821533,
           4.941986560821533,
           4.941986560821533,
           4.941986560821533,
           4.941986560821533,
           4.941986560821533,
           4.941986560821533,
           4.941986560821533,
           4.941986560821533,
           4.941986560821533,
           4.941986560821533,
           4.941986560821533,
           4.941986560821533,
           4.941986560821533,
           4.941986560821533,
           4.941986560821533
          ],
          [
           4.941986560821533,
           4.941986560821533,
           4.941986560821533,
           4.941986560821533,
           4.941986560821533,
           4.941986560821533,
           4.941986560821533,
           4.941986560821533,
           4.941986560821533,
           4.941986560821533,
           4.941986560821533,
           4.941986560821533,
           4.941986560821533,
           4.941986560821533,
           4.941986560821533,
           4.941986560821533,
           4.941986560821533,
           4.941986560821533,
           4.941986560821533,
           4.941986560821533,
           4.941986560821533,
           4.941986560821533,
           4.941986560821533,
           4.941986560821533,
           4.941986560821533,
           4.941986560821533,
           4.941986560821533,
           4.941986560821533,
           4.941986560821533,
           4.941986560821533
          ],
          [
           4.941986560821533,
           4.941986560821533,
           4.941986560821533,
           4.941986560821533,
           4.941986560821533,
           4.941986560821533,
           4.941986560821533,
           4.941986560821533,
           4.941986560821533,
           4.941986560821533,
           4.941986560821533,
           4.941986560821533,
           4.941986560821533,
           4.941986560821533,
           4.941986560821533,
           4.941986560821533,
           4.941986560821533,
           4.941986560821533,
           4.941986560821533,
           4.941986560821533,
           4.941986560821533,
           4.941986560821533,
           4.941986560821533,
           4.941986560821533,
           4.941986560821533,
           4.941986560821533,
           4.941986560821533,
           4.941986560821533,
           4.941986560821533,
           4.941986560821533
          ],
          [
           4.941986560821533,
           4.941986560821533,
           4.941986560821533,
           4.941986560821533,
           4.941986560821533,
           4.941986560821533,
           4.941986560821533,
           4.941986560821533,
           4.941986560821533,
           4.941986560821533,
           4.941986560821533,
           4.941986560821533,
           4.941986560821533,
           4.941986560821533,
           4.941984176635742,
           4.941986560821533,
           4.941986560821533,
           4.941986560821533,
           4.941986560821533,
           4.941986560821533,
           4.941986560821533,
           4.941986560821533,
           4.941986560821533,
           4.941986560821533,
           4.941987037658691,
           4.941986560821533,
           4.941987991333008,
           4.941988945007324,
           4.941988945007324,
           4.941986560821533
          ],
          [
           4.941986560821533,
           4.941986560821533,
           4.941986560821533,
           4.941986560821533,
           4.941986560821533,
           4.941986560821533,
           4.941986560821533,
           4.941986560821533,
           4.941986560821533,
           4.941986560821533,
           4.941986560821533,
           4.941986560821533,
           4.941986560821533,
           4.941946506500244,
           4.9390974044799805,
           4.941982746124268,
           4.941986560821533,
           4.941986560821533,
           4.941986560821533,
           4.941986560821533,
           4.941986560821533,
           4.941986560821533,
           4.941986560821533,
           4.942056179046631,
           4.942256927490234,
           4.941987037658691,
           4.9435648918151855,
           4.944397926330566,
           4.944795608520508,
           4.942004203796387
          ],
          [
           4.941986560821533,
           4.941986560821533,
           4.941986560821533,
           4.941986560821533,
           4.941986560821533,
           4.941986560821533,
           4.941986560821533,
           4.941986560821533,
           4.941986560821533,
           4.941986560821533,
           4.941986560821533,
           4.941986560821533,
           4.941986560821533,
           4.939095497131348,
           4.688387870788574,
           4.941704750061035,
           4.941986560821533,
           4.941986560821533,
           4.941986560821533,
           4.941986560821533,
           4.941986560821533,
           4.941986560821533,
           4.941986560821533,
           4.946282386779785,
           4.950349807739258,
           4.941995620727539,
           5.044435501098633,
           5.07238245010376,
           5.093111038208008,
           4.94325065612793
          ],
          [
           4.941986560821533,
           4.941986560821533,
           4.941986560821533,
           4.941986560821533,
           4.941986560821533,
           4.941986560821533,
           4.941986560821533,
           4.941986560821533,
           4.941986560821533,
           4.941986560821533,
           4.941986560821533,
           4.941986560821533,
           4.941986560821533,
           4.9290571212768555,
           2.850569248199463,
           4.940738677978516,
           4.941986560821533,
           4.941986560821533,
           4.941986560821533,
           4.941986560821533,
           4.941986560821533,
           4.941986560821533,
           4.941986560821533,
           4.949743747711182,
           4.797729015350342,
           4.942026615142822,
           5.212893486022949,
           4.625424861907959,
           4.445903301239014,
           4.947481155395508
          ],
          [
           4.941986560821533,
           4.941986560821533,
           4.941986560821533,
           4.941986560821533,
           4.941986560821533,
           4.941986560821533,
           4.941986560821533,
           4.941986560821533,
           4.941986560821533,
           4.941986560821533,
           4.941986560821533,
           4.941986560821533,
           4.941986560821533,
           4.938502311706543,
           4.6248884201049805,
           4.941647529602051,
           4.941986560821533,
           4.941986560821533,
           4.941986560821533,
           4.941986560821533,
           4.941986560821533,
           4.941986560821533,
           4.941986560821533,
           4.9469780921936035,
           4.949265956878662,
           4.941997528076172,
           5.062563896179199,
           5.087984085083008,
           5.110880374908447,
           4.943508148193359
          ]
         ],
         "type": "surface"
        },
        {
         "opacity": 0.2,
         "showscale": false,
         "x": [
          2.276071548461914,
          2.745652675628662,
          3.2152340412139893,
          3.6848151683807373,
          4.1543965339660645,
          4.6239776611328125,
          5.093559265136719,
          5.563139915466309,
          6.032721519470215,
          6.502302646636963,
          6.971883773803711,
          7.441464900970459,
          7.911046028137207,
          8.380627632141113,
          8.850208282470703,
          9.31978988647461,
          9.789371490478516,
          10.258953094482422,
          10.728534698486328,
          11.198114395141602,
          11.667695999145508,
          12.137277603149414,
          12.60685920715332,
          13.076440811157227,
          13.5460205078125,
          14.015602111816406,
          14.485183715820312,
          14.954765319824219,
          15.424346923828125,
          15.893926620483398
         ],
         "y": [
          0.3392857015132904,
          0.5055418610572815,
          0.6717979907989502,
          0.8380541801452637,
          1.0043103694915771,
          1.1705665588378906,
          1.3368226289749146,
          1.503078818321228,
          1.669334888458252,
          1.8355910778045654,
          2.001847267150879,
          2.1681032180786133,
          2.334359645843506,
          2.5006155967712402,
          2.666872024536133,
          2.833127975463867,
          2.9993844032287598,
          3.165640354156494,
          3.3318967819213867,
          3.498152494430542,
          3.6644086837768555,
          3.830664873123169,
          3.9969210624694824,
          4.163177490234375,
          4.329433441162109,
          4.495689392089844,
          4.661945819854736,
          4.828201770782471,
          4.994458198547363,
          5.160714149475098
         ],
         "z": [
          [
           -0.05511021614074707,
           -0.3607614040374756,
           -0.015246391296386719,
           -0.04361438751220703,
           -0.07634401321411133,
           -0.38646626472473145,
           -0.2548525333404541,
           0.08365869522094727,
           -0.05271005630493164,
           -0.052718162536621094,
           -0.052718162536621094,
           -0.052718162536621094,
           -0.052718162536621094,
           -0.052718162536621094,
           -0.052718162536621094,
           -0.052718162536621094,
           -0.052718162536621094,
           -0.052718162536621094,
           -0.052718162536621094,
           -0.052718162536621094,
           -0.052718162536621094,
           -0.052718162536621094,
           -0.052718162536621094,
           -0.052718162536621094,
           -0.052718162536621094,
           -0.052718162536621094,
           -0.052718162536621094,
           -0.052718162536621094,
           -0.052718162536621094,
           -0.052718162536621094
          ],
          [
           -0.06147956848144531,
           -0.06944811344146729,
           0.2299802303314209,
           -0.005666971206665039,
           -0.13809704780578613,
           -0.7824004888534546,
           -0.3634939193725586,
           0.6046931743621826,
           -0.0526885986328125,
           -0.05271315574645996,
           -0.052718162536621094,
           -0.05271792411804199,
           -0.05271649360656738,
           -0.052718162536621094,
           -0.052718162536621094,
           -0.052718162536621094,
           -0.052718162536621094,
           -0.052718162536621094,
           -0.052718162536621094,
           -0.052718162536621094,
           -0.052718162536621094,
           -0.052718162536621094,
           -0.052718162536621094,
           -0.052718162536621094,
           -0.052718162536621094,
           -0.052718162536621094,
           -0.052718162536621094,
           -0.052718162536621094,
           -0.052718162536621094,
           -0.052718162536621094
          ],
          [
           -0.05470418930053711,
           -0.31938838958740234,
           -0.023587465286254883,
           -0.04758310317993164,
           -0.07246518135070801,
           -0.3359074592590332,
           -0.22591209411621094,
           0.05837821960449219,
           -0.052622079849243164,
           -0.04780745506286621,
           -0.05266261100769043,
           -0.05251717567443848,
           -0.05095028877258301,
           -0.05271792411804199,
           -0.052718162536621094,
           -0.052718162536621094,
           -0.052718162536621094,
           -0.052718162536621094,
           -0.052718162536621094,
           -0.052718162536621094,
           -0.052718162536621094,
           -0.052718162536621094,
           -0.052718162536621094,
           -0.052718162536621094,
           -0.052718162536621094,
           -0.052718162536621094,
           -0.052718162536621094,
           -0.052718162536621094,
           -0.052718162536621094,
           -0.052718162536621094
          ],
          [
           -0.052745819091796875,
           -0.05713248252868652,
           -0.05249762535095215,
           -0.14695477485656738,
           -0.05967402458190918,
           -0.05705070495605469,
           -0.05547904968261719,
           -0.05131673812866211,
           -0.04723525047302246,
           0.30765438079833984,
           -0.04150795936584473,
           -0.04011797904968262,
           0.08197426795959473,
           -0.05270028114318848,
           -0.052718162536621094,
           -0.052718162536621094,
           -0.052718162536621094,
           -0.052718162536621094,
           -0.052718162536621094,
           -0.052718162536621094,
           -0.052718162536621094,
           -0.052718162536621094,
           -0.052718162536621094,
           -0.052718162536621094,
           -0.052718162536621094,
           -0.052718162536621094,
           -0.052718162536621094,
           -0.052718162536621094,
           -0.052718162536621094,
           -0.052718162536621094
          ],
          [
           -0.052718162536621094,
           -0.05272197723388672,
           -0.05291247367858887,
           0.11798858642578125,
           -0.07671666145324707,
           -0.05272197723388672,
           -0.052719831466674805,
           -0.05271577835083008,
           -0.03193926811218262,
           2.1675727367401123,
           0.07382893562316895,
           -0.0018045902252197266,
           0.766608715057373,
           -0.052651405334472656,
           -0.05271339416503906,
           -0.05271768569946289,
           -0.052718162536621094,
           -0.052718162536621094,
           -0.052718162536621094,
           -0.052718162536621094,
           -0.052718162536621094,
           -0.052718162536621094,
           -0.052718162536621094,
           -0.052718162536621094,
           -0.052718162536621094,
           -0.052718162536621094,
           -0.052718162536621094,
           -0.052718162536621094,
           -0.052718162536621094,
           -0.052718162536621094
          ],
          [
           -0.052718162536621094,
           -0.052718162536621094,
           -0.05276298522949219,
           -0.13933324813842773,
           -0.058511972427368164,
           -0.052718162536621094,
           -0.052132368087768555,
           -0.051497697830200195,
           -0.047976016998291016,
           0.2517848014831543,
           -0.0439455509185791,
           -0.0418550968170166,
           0.060637712478637695,
           -0.05270195007324219,
           -0.047823429107666016,
           -0.052176713943481445,
           -0.052718162536621094,
           -0.052718162536621094,
           -0.052718162536621094,
           -0.052718162536621094,
           -0.052718162536621094,
           -0.052718162536621094,
           -0.052718162536621094,
           -0.052718162536621094,
           -0.052718162536621094,
           -0.052718162536621094,
           -0.052718162536621094,
           -0.052718162536621094,
           -0.052718162536621094,
           -0.052718162536621094
          ],
          [
           -0.052718162536621094,
           -0.052718162536621094,
           -0.0527188777923584,
           -0.054387807846069336,
           -0.05280137062072754,
           -0.05271792411804199,
           -0.014173030853271484,
           0.032243967056274414,
           -0.052648067474365234,
           -0.04904365539550781,
           -0.05267667770385742,
           -0.05256772041320801,
           -0.051395416259765625,
           -0.05266594886779785,
           0.2784125804901123,
           -0.018676280975341797,
           -0.052718162536621094,
           -0.052718162536621094,
           -0.052718162536621094,
           -0.052718162536621094,
           -0.052718162536621094,
           -0.052718162536621094,
           -0.052718162536621094,
           -0.052718162536621094,
           -0.052718162536621094,
           -0.052718162536621094,
           -0.052718162536621094,
           -0.052718162536621094,
           -0.052718162536621094,
           -0.052718162536621094
          ],
          [
           -0.052718162536621094,
           -0.052718162536621094,
           -0.052718162536621094,
           -0.0527195930480957,
           -0.052718162536621094,
           -0.052716970443725586,
           0.1177816390991211,
           0.37470555305480957,
           -0.05270671844482422,
           -0.05271506309509277,
           -0.052718162536621094,
           -0.05271792411804199,
           -0.052716970443725586,
           -0.052519798278808594,
           1.5382332801818848,
           0.08118176460266113,
           -0.05271768569946289,
           -0.05271601676940918,
           -0.05271792411804199,
           -0.052716732025146484,
           -0.052718162536621094,
           -0.052718162536621094,
           -0.052718162536621094,
           -0.052718162536621094,
           -0.052718162536621094,
           -0.052718162536621094,
           -0.052718162536621094,
           -0.052718162536621094,
           -0.052718162536621094,
           -0.052718162536621094
          ],
          [
           -0.052718162536621094,
           -0.052718162536621094,
           -0.052718162536621094,
           -0.052718162536621094,
           -0.052718162536621094,
           -0.05271792411804199,
           -0.0181427001953125,
           0.02310347557067871,
           -0.05271553993225098,
           -0.052718162536621094,
           -0.052718162536621094,
           -0.052718162536621094,
           -0.052718162536621094,
           -0.0530853271484375,
           0.2376549243927002,
           -0.02865743637084961,
           -0.052617549896240234,
           -0.05059361457824707,
           -0.05247807502746582,
           -0.05116081237792969,
           -0.052718162536621094,
           -0.052718162536621094,
           -0.052718162536621094,
           -0.052718162536621094,
           -0.052718162536621094,
           -0.052718162536621094,
           -0.052718162536621094,
           -0.052718162536621094,
           -0.052718162536621094,
           -0.052718162536621094
          ],
          [
           -0.052718162536621094,
           -0.052718162536621094,
           -0.052718162536621094,
           -0.052718162536621094,
           -0.052718162536621094,
           -0.052718162536621094,
           -0.05224180221557617,
           -0.05172586441040039,
           -0.052718162536621094,
           -0.052718162536621094,
           -0.052718162536621094,
           -0.052718162536621094,
           -0.052718162536621094,
           -0.0788881778717041,
           -0.390575647354126,
           -0.41726040840148926,
           -0.0460965633392334,
           0.11634969711303711,
           -0.03301405906677246,
           0.05780959129333496,
           -0.05271267890930176,
           -0.052718162536621094,
           -0.052718162536621094,
           -0.052718162536621094,
           -0.052718162536621094,
           -0.052718162536621094,
           -0.052718162536621094,
           -0.052718162536621094,
           -0.052718162536621094,
           -0.052718162536621094
          ],
          [
           -0.052718162536621094,
           -0.052718162536621094,
           -0.052718162536621094,
           -0.052718162536621094,
           -0.052718162536621094,
           -0.052718162536621094,
           -0.05271768569946289,
           -0.05271720886230469,
           -0.052718162536621094,
           -0.052718162536621094,
           -0.052718162536621094,
           -0.052718162536621094,
           -0.052718400955200195,
           -0.15320277214050293,
           -0.9545637369155884,
           -0.6094187498092651,
           -0.024146556854248047,
           1.0678441524505615,
           0.07659149169921875,
           0.5186030864715576,
           -0.05269670486450195,
           -0.052718162536621094,
           -0.052718162536621094,
           -0.052718162536621094,
           -0.052718162536621094,
           -0.052718162536621094,
           -0.052718162536621094,
           -0.052718162536621094,
           -0.052718162536621094,
           -0.052718162536621094
          ],
          [
           -0.052718162536621094,
           -0.052718162536621094,
           -0.052718162536621094,
           -0.052718162536621094,
           -0.052718162536621094,
           -0.052718162536621094,
           -0.052718162536621094,
           -0.052718162536621094,
           -0.052718162536621094,
           -0.052718162536621094,
           -0.052718162536621094,
           -0.052718162536621094,
           -0.052718162536621094,
           -0.07732534408569336,
           -0.375896692276001,
           -0.3990199565887451,
           -0.046507835388183594,
           0.1042170524597168,
           -0.034453392028808594,
           0.050504207611083984,
           -0.05271291732788086,
           -0.052718162536621094,
           -0.052718162536621094,
           -0.052718162536621094,
           -0.052718162536621094,
           -0.052718162536621094,
           -0.052718162536621094,
           -0.052718162536621094,
           -0.052718162536621094,
           -0.052718162536621094
          ],
          [
           -0.052718162536621094,
           -0.052718162536621094,
           -0.052718162536621094,
           -0.052718162536621094,
           -0.052718162536621094,
           -0.052718162536621094,
           -0.052718162536621094,
           -0.052718162536621094,
           -0.052718162536621094,
           -0.052718162536621094,
           -0.052718162536621094,
           -0.052718162536621094,
           -0.052718162536621094,
           -0.05308389663696289,
           -0.05791735649108887,
           -0.05856060981750488,
           -0.05262947082519531,
           -0.0508420467376709,
           -0.052506208419799805,
           -0.05134248733520508,
           -0.052718162536621094,
           -0.052718162536621094,
           -0.052718162536621094,
           -0.052718162536621094,
           -0.052718162536621094,
           -0.052718162536621094,
           -0.052718162536621094,
           -0.052718162536621094,
           -0.052718162536621094,
           -0.052718162536621094
          ],
          [
           -0.052718162536621094,
           -0.052718162536621094,
           -0.052718162536621094,
           -0.052718162536621094,
           -0.052718162536621094,
           -0.052718162536621094,
           -0.052718162536621094,
           -0.052718162536621094,
           -0.052718162536621094,
           -0.052718162536621094,
           -0.052718162536621094,
           -0.052718162536621094,
           -0.052718162536621094,
           -0.052718400955200195,
           -0.052722930908203125,
           -0.05272340774536133,
           -0.052718162536621094,
           -0.05271649360656738,
           -0.05271792411804199,
           -0.052716970443725586,
           -0.052718162536621094,
           -0.052718162536621094,
           -0.052718162536621094,
           -0.052718162536621094,
           -0.052718162536621094,
           -0.052718162536621094,
           -0.052718162536621094,
           -0.052718162536621094,
           -0.052718162536621094,
           -0.052718162536621094
          ],
          [
           -0.052718162536621094,
           -0.052718162536621094,
           -0.052718162536621094,
           -0.052718162536621094,
           -0.052718162536621094,
           -0.052718162536621094,
           -0.052718162536621094,
           -0.052718162536621094,
           -0.052718162536621094,
           -0.052718162536621094,
           -0.052718162536621094,
           -0.052718162536621094,
           -0.052718162536621094,
           -0.052718162536621094,
           -0.052718162536621094,
           -0.052718162536621094,
           -0.052718162536621094,
           -0.052718162536621094,
           -0.052718162536621094,
           -0.052718162536621094,
           -0.052718162536621094,
           -0.052718162536621094,
           -0.052718162536621094,
           -0.052718162536621094,
           -0.052718162536621094,
           -0.052718162536621094,
           -0.052718162536621094,
           -0.052718162536621094,
           -0.052718162536621094,
           -0.052718162536621094
          ],
          [
           -0.052718162536621094,
           -0.052718162536621094,
           -0.052718162536621094,
           -0.052718162536621094,
           -0.052718162536621094,
           -0.052718162536621094,
           -0.052718162536621094,
           -0.052718162536621094,
           -0.052718162536621094,
           -0.052718162536621094,
           -0.052718162536621094,
           -0.052718162536621094,
           -0.052718162536621094,
           -0.052718162536621094,
           -0.052718162536621094,
           -0.052718162536621094,
           -0.052718162536621094,
           -0.052718162536621094,
           -0.052718162536621094,
           -0.052718162536621094,
           -0.052718162536621094,
           -0.052718162536621094,
           -0.052718162536621094,
           -0.052718162536621094,
           -0.052718162536621094,
           -0.052718162536621094,
           -0.052718162536621094,
           -0.052718162536621094,
           -0.052718162536621094,
           -0.052718162536621094
          ],
          [
           -0.052718162536621094,
           -0.052718162536621094,
           -0.052718162536621094,
           -0.052718162536621094,
           -0.052718162536621094,
           -0.052718162536621094,
           -0.052718162536621094,
           -0.052718162536621094,
           -0.052718162536621094,
           -0.052718162536621094,
           -0.052718162536621094,
           -0.052718162536621094,
           -0.052718162536621094,
           -0.052718162536621094,
           -0.052718162536621094,
           -0.052718162536621094,
           -0.052718162536621094,
           -0.052718162536621094,
           -0.052718162536621094,
           -0.052718162536621094,
           -0.052718162536621094,
           -0.052718162536621094,
           -0.052718162536621094,
           -0.052718162536621094,
           -0.052718162536621094,
           -0.052718162536621094,
           -0.052718162536621094,
           -0.052718162536621094,
           -0.052718162536621094,
           -0.052718162536621094
          ],
          [
           -0.052718162536621094,
           -0.052718162536621094,
           -0.052718162536621094,
           -0.052718162536621094,
           -0.052718162536621094,
           -0.052718162536621094,
           -0.052718162536621094,
           -0.052718162536621094,
           -0.052718162536621094,
           -0.052718162536621094,
           -0.052718162536621094,
           -0.052718162536621094,
           -0.052718162536621094,
           -0.052718162536621094,
           -0.052718162536621094,
           -0.052718162536621094,
           -0.052718162536621094,
           -0.052718162536621094,
           -0.052718162536621094,
           -0.052718162536621094,
           -0.052718162536621094,
           -0.052718162536621094,
           -0.052718162536621094,
           -0.052718162536621094,
           -0.052718162536621094,
           -0.052718162536621094,
           -0.052718162536621094,
           -0.052718162536621094,
           -0.052718162536621094,
           -0.052718162536621094
          ],
          [
           -0.052718162536621094,
           -0.052718162536621094,
           -0.052718162536621094,
           -0.052718162536621094,
           -0.052718162536621094,
           -0.052718162536621094,
           -0.052718162536621094,
           -0.052718162536621094,
           -0.052718162536621094,
           -0.052718162536621094,
           -0.052718162536621094,
           -0.052718162536621094,
           -0.052718162536621094,
           -0.052718162536621094,
           -0.052718162536621094,
           -0.052718162536621094,
           -0.052718162536621094,
           -0.052718162536621094,
           -0.052718162536621094,
           -0.052718162536621094,
           -0.052718162536621094,
           -0.052718162536621094,
           -0.052718162536621094,
           -0.052718162536621094,
           -0.052718162536621094,
           -0.052718162536621094,
           -0.052718162536621094,
           -0.052718162536621094,
           -0.052718162536621094,
           -0.052718162536621094
          ],
          [
           -0.052718162536621094,
           -0.052718162536621094,
           -0.052718162536621094,
           -0.052718162536621094,
           -0.052718162536621094,
           -0.052718162536621094,
           -0.052718162536621094,
           -0.052718162536621094,
           -0.052718162536621094,
           -0.052718162536621094,
           -0.052718162536621094,
           -0.052718162536621094,
           -0.052718162536621094,
           -0.052718162536621094,
           -0.052718162536621094,
           -0.052718162536621094,
           -0.052718162536621094,
           -0.052718162536621094,
           -0.052718162536621094,
           -0.052718162536621094,
           -0.052718162536621094,
           -0.052718162536621094,
           -0.052718162536621094,
           -0.052718162536621094,
           -0.052718162536621094,
           -0.052718162536621094,
           -0.052718162536621094,
           -0.052718162536621094,
           -0.052718162536621094,
           -0.052718162536621094
          ],
          [
           -0.052718162536621094,
           -0.052718162536621094,
           -0.052718162536621094,
           -0.052718162536621094,
           -0.052718162536621094,
           -0.052718162536621094,
           -0.052718162536621094,
           -0.052718162536621094,
           -0.052718162536621094,
           -0.052718162536621094,
           -0.052718162536621094,
           -0.052718162536621094,
           -0.052718162536621094,
           -0.052718162536621094,
           -0.052718162536621094,
           -0.052718162536621094,
           -0.052718162536621094,
           -0.052718162536621094,
           -0.052718162536621094,
           -0.052718162536621094,
           -0.052718162536621094,
           -0.052718162536621094,
           -0.052718162536621094,
           -0.052718162536621094,
           -0.052718162536621094,
           -0.052718162536621094,
           -0.052718162536621094,
           -0.052718162536621094,
           -0.052718162536621094,
           -0.052718162536621094
          ],
          [
           -0.052718162536621094,
           -0.052718162536621094,
           -0.052718162536621094,
           -0.052718162536621094,
           -0.052718162536621094,
           -0.052718162536621094,
           -0.052718162536621094,
           -0.052718162536621094,
           -0.052718162536621094,
           -0.052718162536621094,
           -0.052718162536621094,
           -0.052718162536621094,
           -0.052718162536621094,
           -0.052718162536621094,
           -0.052718162536621094,
           -0.052718162536621094,
           -0.052718162536621094,
           -0.052718162536621094,
           -0.052718162536621094,
           -0.052718162536621094,
           -0.052718162536621094,
           -0.052718162536621094,
           -0.052718162536621094,
           -0.052718162536621094,
           -0.052718162536621094,
           -0.052718162536621094,
           -0.052718162536621094,
           -0.052718162536621094,
           -0.052718162536621094,
           -0.052718162536621094
          ],
          [
           -0.052718162536621094,
           -0.052718162536621094,
           -0.052718162536621094,
           -0.052718162536621094,
           -0.052718162536621094,
           -0.052718162536621094,
           -0.052718162536621094,
           -0.052718162536621094,
           -0.052718162536621094,
           -0.052718162536621094,
           -0.052718162536621094,
           -0.052718162536621094,
           -0.052718162536621094,
           -0.052718162536621094,
           -0.052718162536621094,
           -0.052718162536621094,
           -0.052718162536621094,
           -0.052718162536621094,
           -0.052718162536621094,
           -0.052718162536621094,
           -0.052718162536621094,
           -0.052718162536621094,
           -0.052718162536621094,
           -0.052718162536621094,
           -0.052718162536621094,
           -0.052718162536621094,
           -0.052718162536621094,
           -0.052718162536621094,
           -0.052718162536621094,
           -0.052718162536621094
          ],
          [
           -0.052718162536621094,
           -0.052718162536621094,
           -0.052718162536621094,
           -0.052718162536621094,
           -0.052718162536621094,
           -0.052718162536621094,
           -0.052718162536621094,
           -0.052718162536621094,
           -0.052718162536621094,
           -0.052718162536621094,
           -0.052718162536621094,
           -0.052718162536621094,
           -0.052718162536621094,
           -0.052718162536621094,
           -0.052718162536621094,
           -0.052718162536621094,
           -0.052718162536621094,
           -0.052718162536621094,
           -0.052718162536621094,
           -0.052718162536621094,
           -0.052718162536621094,
           -0.052718162536621094,
           -0.052718162536621094,
           -0.052718162536621094,
           -0.052718162536621094,
           -0.052718162536621094,
           -0.052718162536621094,
           -0.052718162536621094,
           -0.052718162536621094,
           -0.052718162536621094
          ],
          [
           -0.052718162536621094,
           -0.052718162536621094,
           -0.052718162536621094,
           -0.052718162536621094,
           -0.052718162536621094,
           -0.052718162536621094,
           -0.052718162536621094,
           -0.052718162536621094,
           -0.052718162536621094,
           -0.052718162536621094,
           -0.052718162536621094,
           -0.052718162536621094,
           -0.052718162536621094,
           -0.052718162536621094,
           -0.052718162536621094,
           -0.052718162536621094,
           -0.052718162536621094,
           -0.052718162536621094,
           -0.052718162536621094,
           -0.052718162536621094,
           -0.052718162536621094,
           -0.052718162536621094,
           -0.052718162536621094,
           -0.052718162536621094,
           -0.052718162536621094,
           -0.052718162536621094,
           -0.052718162536621094,
           -0.052718162536621094,
           -0.052718162536621094,
           -0.052718162536621094
          ],
          [
           -0.052718162536621094,
           -0.052718162536621094,
           -0.052718162536621094,
           -0.052718162536621094,
           -0.052718162536621094,
           -0.052718162536621094,
           -0.052718162536621094,
           -0.052718162536621094,
           -0.052718162536621094,
           -0.052718162536621094,
           -0.052718162536621094,
           -0.052718162536621094,
           -0.052718162536621094,
           -0.052718162536621094,
           -0.05272054672241211,
           -0.052718162536621094,
           -0.052718162536621094,
           -0.052718162536621094,
           -0.052718162536621094,
           -0.052718162536621094,
           -0.052718162536621094,
           -0.052718162536621094,
           -0.052718162536621094,
           -0.052718162536621094,
           -0.05271792411804199,
           -0.052718162536621094,
           -0.052716732025146484,
           -0.05271601676940918,
           -0.05271577835083008,
           -0.052718162536621094
          ],
          [
           -0.052718162536621094,
           -0.052718162536621094,
           -0.052718162536621094,
           -0.052718162536621094,
           -0.052718162536621094,
           -0.052718162536621094,
           -0.052718162536621094,
           -0.052718162536621094,
           -0.052718162536621094,
           -0.052718162536621094,
           -0.052718162536621094,
           -0.052718162536621094,
           -0.052718162536621094,
           -0.052758216857910156,
           -0.05558896064758301,
           -0.05272197723388672,
           -0.052718162536621094,
           -0.052718162536621094,
           -0.052718162536621094,
           -0.052718162536621094,
           -0.052718162536621094,
           -0.052718162536621094,
           -0.052718162536621094,
           -0.052648067474365234,
           -0.05244278907775879,
           -0.05271792411804199,
           -0.05113506317138672,
           -0.05028939247131348,
           -0.04988908767700195,
           -0.05270051956176758
          ],
          [
           -0.052718162536621094,
           -0.052718162536621094,
           -0.052718162536621094,
           -0.052718162536621094,
           -0.052718162536621094,
           -0.052718162536621094,
           -0.052718162536621094,
           -0.052718162536621094,
           -0.052718162536621094,
           -0.052718162536621094,
           -0.052718162536621094,
           -0.052718162536621094,
           -0.052718162536621094,
           -0.05559110641479492,
           -0.21378302574157715,
           -0.05299949645996094,
           -0.052718162536621094,
           -0.052718162536621094,
           -0.052718162536621094,
           -0.052718162536621094,
           -0.052718162536621094,
           -0.052718162536621094,
           -0.052718162536621094,
           -0.046942710876464844,
           -0.021790504455566406,
           -0.052709102630615234,
           0.07244181632995605,
           0.16531848907470703,
           0.20209312438964844,
           -0.05145001411437988
          ],
          [
           -0.052718162536621094,
           -0.052718162536621094,
           -0.052718162536621094,
           -0.052718162536621094,
           -0.052718162536621094,
           -0.052718162536621094,
           -0.052718162536621094,
           -0.052718162536621094,
           -0.052718162536621094,
           -0.052718162536621094,
           -0.052718162536621094,
           -0.052718162536621094,
           -0.052718162536621094,
           -0.06530046463012695,
           0.20341217517852783,
           -0.05396246910095215,
           -0.052718162536621094,
           -0.052718162536621094,
           -0.052718162536621094,
           -0.052718162536621094,
           -0.052718162536621094,
           -0.052718162536621094,
           -0.052718162536621094,
           -0.01589822769165039,
           0.2654399871826172,
           -0.05267810821533203,
           0.6838247776031494,
           1.8058991432189941,
           2.24013090133667,
           -0.047006845474243164
          ],
          [
           -0.052718162536621094,
           -0.052718162536621094,
           -0.052718162536621094,
           -0.052718162536621094,
           -0.052718162536621094,
           -0.052718162536621094,
           -0.052718162536621094,
           -0.052718162536621094,
           -0.052718162536621094,
           -0.052718162536621094,
           -0.052718162536621094,
           -0.052718162536621094,
           -0.052718162536621094,
           -0.056175947189331055,
           -0.23502278327941895,
           -0.053056955337524414,
           -0.052718162536621094,
           -0.052718162536621094,
           -0.052718162536621094,
           -0.052718162536621094,
           -0.052718162536621094,
           -0.052718162536621094,
           -0.052718162536621094,
           -0.045580387115478516,
           -0.01267862319946289,
           -0.05270719528198242,
           0.10083866119384766,
           0.22090768814086914,
           0.26732301712036133,
           -0.05119061470031738
          ]
         ],
         "type": "surface"
        },
        {
         "marker": {
          "color": "darkgreen"
         },
         "mode": "markers",
         "name": "training data",
         "x": [
          2.7300000190734863,
          3.4000000953674316,
          3.7899999618530273,
          6.440000057220459,
          5.360000133514404,
          8.989999771118164,
          8.800000190734863,
          14.670000076293945,
          5.239999771118164,
          14.889999389648438,
          10.130000114440918,
          4.510000228881836,
          5.369999885559082,
          4.880000114440918,
          6.760000228881836,
          7.769999980926514,
          8.729999542236328,
          9.380000114440918,
          10.479999542236328,
          11.010000228881836,
          14.709999084472656,
          15.439998626708984,
          13.369998931884766
         ],
         "y": [
          0.5,
          0.5,
          1,
          1,
          1.5,
          1.5,
          5,
          5,
          0.5,
          5,
          2,
          0.5,
          0.5,
          0.5,
          1,
          1,
          2,
          2,
          2,
          2,
          5,
          5,
          5
         ],
         "z": [
          0.8730257153511047,
          2.6772446632385254,
          1.6990152597427368,
          3.8050527572631836,
          3.3348562717437744,
          4.535152912139893,
          1.3625102043151855,
          3.8412907123565674,
          1.2013570070266724,
          3.5136520862579346,
          3.4708714485168457,
          0.26329824328422546,
          2.7753403186798096,
          2.591306209564209,
          2.579984426498413,
          3.173818588256836,
          0.13150499761104584,
          0.45116370916366577,
          2.1266398429870605,
          3.468212842941284,
          3.685852527618408,
          3.445655584335327,
          2.6515469551086426
         ],
         "type": "scatter3d"
        },
        {
         "mode": "markers",
         "name": "max(upper confidence bound)",
         "x": [
          8.850208282470703
         ],
         "y": [
          1.503078818321228
         ],
         "z": [
          2.444634199142456
         ],
         "type": "scatter3d"
        },
        {
         "mode": "markers",
         "name": "max(thompson)",
         "x": [
          9.31978988647461
         ],
         "y": [
          3.165640354156494
         ],
         "z": [
          2.444634199142456
         ],
         "type": "scatter3d"
        },
        {
         "mode": "markers",
         "name": "max(pi)",
         "x": [
          8.850208282470703
         ],
         "y": [
          1.503078818321228
         ],
         "z": [
          2.444634199142456
         ],
         "type": "scatter3d"
        },
        {
         "mode": "markers",
         "name": "max(ei)",
         "x": [
          8.850208282470703
         ],
         "y": [
          1.503078818321228
         ],
         "z": [
          2.444634199142456
         ],
         "type": "scatter3d"
        },
        {
         "mode": "markers",
         "name": "max(ca)",
         "x": [
          8.850208282470703
         ],
         "y": [
          1.503078818321228
         ],
         "z": [
          2.444634199142456
         ],
         "type": "scatter3d"
        }
       ],
       "layout": {
        "template": {
         "data": {
          "histogram2dcontour": [
           {
            "type": "histogram2dcontour",
            "colorbar": {
             "outlinewidth": 0,
             "ticks": ""
            },
            "colorscale": [
             [
              0,
              "#0d0887"
             ],
             [
              0.1111111111111111,
              "#46039f"
             ],
             [
              0.2222222222222222,
              "#7201a8"
             ],
             [
              0.3333333333333333,
              "#9c179e"
             ],
             [
              0.4444444444444444,
              "#bd3786"
             ],
             [
              0.5555555555555556,
              "#d8576b"
             ],
             [
              0.6666666666666666,
              "#ed7953"
             ],
             [
              0.7777777777777778,
              "#fb9f3a"
             ],
             [
              0.8888888888888888,
              "#fdca26"
             ],
             [
              1,
              "#f0f921"
             ]
            ]
           }
          ],
          "choropleth": [
           {
            "type": "choropleth",
            "colorbar": {
             "outlinewidth": 0,
             "ticks": ""
            }
           }
          ],
          "histogram2d": [
           {
            "type": "histogram2d",
            "colorbar": {
             "outlinewidth": 0,
             "ticks": ""
            },
            "colorscale": [
             [
              0,
              "#0d0887"
             ],
             [
              0.1111111111111111,
              "#46039f"
             ],
             [
              0.2222222222222222,
              "#7201a8"
             ],
             [
              0.3333333333333333,
              "#9c179e"
             ],
             [
              0.4444444444444444,
              "#bd3786"
             ],
             [
              0.5555555555555556,
              "#d8576b"
             ],
             [
              0.6666666666666666,
              "#ed7953"
             ],
             [
              0.7777777777777778,
              "#fb9f3a"
             ],
             [
              0.8888888888888888,
              "#fdca26"
             ],
             [
              1,
              "#f0f921"
             ]
            ]
           }
          ],
          "heatmap": [
           {
            "type": "heatmap",
            "colorbar": {
             "outlinewidth": 0,
             "ticks": ""
            },
            "colorscale": [
             [
              0,
              "#0d0887"
             ],
             [
              0.1111111111111111,
              "#46039f"
             ],
             [
              0.2222222222222222,
              "#7201a8"
             ],
             [
              0.3333333333333333,
              "#9c179e"
             ],
             [
              0.4444444444444444,
              "#bd3786"
             ],
             [
              0.5555555555555556,
              "#d8576b"
             ],
             [
              0.6666666666666666,
              "#ed7953"
             ],
             [
              0.7777777777777778,
              "#fb9f3a"
             ],
             [
              0.8888888888888888,
              "#fdca26"
             ],
             [
              1,
              "#f0f921"
             ]
            ]
           }
          ],
          "heatmapgl": [
           {
            "type": "heatmapgl",
            "colorbar": {
             "outlinewidth": 0,
             "ticks": ""
            },
            "colorscale": [
             [
              0,
              "#0d0887"
             ],
             [
              0.1111111111111111,
              "#46039f"
             ],
             [
              0.2222222222222222,
              "#7201a8"
             ],
             [
              0.3333333333333333,
              "#9c179e"
             ],
             [
              0.4444444444444444,
              "#bd3786"
             ],
             [
              0.5555555555555556,
              "#d8576b"
             ],
             [
              0.6666666666666666,
              "#ed7953"
             ],
             [
              0.7777777777777778,
              "#fb9f3a"
             ],
             [
              0.8888888888888888,
              "#fdca26"
             ],
             [
              1,
              "#f0f921"
             ]
            ]
           }
          ],
          "contourcarpet": [
           {
            "type": "contourcarpet",
            "colorbar": {
             "outlinewidth": 0,
             "ticks": ""
            }
           }
          ],
          "contour": [
           {
            "type": "contour",
            "colorbar": {
             "outlinewidth": 0,
             "ticks": ""
            },
            "colorscale": [
             [
              0,
              "#0d0887"
             ],
             [
              0.1111111111111111,
              "#46039f"
             ],
             [
              0.2222222222222222,
              "#7201a8"
             ],
             [
              0.3333333333333333,
              "#9c179e"
             ],
             [
              0.4444444444444444,
              "#bd3786"
             ],
             [
              0.5555555555555556,
              "#d8576b"
             ],
             [
              0.6666666666666666,
              "#ed7953"
             ],
             [
              0.7777777777777778,
              "#fb9f3a"
             ],
             [
              0.8888888888888888,
              "#fdca26"
             ],
             [
              1,
              "#f0f921"
             ]
            ]
           }
          ],
          "surface": [
           {
            "type": "surface",
            "colorbar": {
             "outlinewidth": 0,
             "ticks": ""
            },
            "colorscale": [
             [
              0,
              "#0d0887"
             ],
             [
              0.1111111111111111,
              "#46039f"
             ],
             [
              0.2222222222222222,
              "#7201a8"
             ],
             [
              0.3333333333333333,
              "#9c179e"
             ],
             [
              0.4444444444444444,
              "#bd3786"
             ],
             [
              0.5555555555555556,
              "#d8576b"
             ],
             [
              0.6666666666666666,
              "#ed7953"
             ],
             [
              0.7777777777777778,
              "#fb9f3a"
             ],
             [
              0.8888888888888888,
              "#fdca26"
             ],
             [
              1,
              "#f0f921"
             ]
            ]
           }
          ],
          "mesh3d": [
           {
            "type": "mesh3d",
            "colorbar": {
             "outlinewidth": 0,
             "ticks": ""
            }
           }
          ],
          "scatter": [
           {
            "fillpattern": {
             "fillmode": "overlay",
             "size": 10,
             "solidity": 0.2
            },
            "type": "scatter"
           }
          ],
          "parcoords": [
           {
            "type": "parcoords",
            "line": {
             "colorbar": {
              "outlinewidth": 0,
              "ticks": ""
             }
            }
           }
          ],
          "scatterpolargl": [
           {
            "type": "scatterpolargl",
            "marker": {
             "colorbar": {
              "outlinewidth": 0,
              "ticks": ""
             }
            }
           }
          ],
          "bar": [
           {
            "error_x": {
             "color": "#2a3f5f"
            },
            "error_y": {
             "color": "#2a3f5f"
            },
            "marker": {
             "line": {
              "color": "#E5ECF6",
              "width": 0.5
             },
             "pattern": {
              "fillmode": "overlay",
              "size": 10,
              "solidity": 0.2
             }
            },
            "type": "bar"
           }
          ],
          "scattergeo": [
           {
            "type": "scattergeo",
            "marker": {
             "colorbar": {
              "outlinewidth": 0,
              "ticks": ""
             }
            }
           }
          ],
          "scatterpolar": [
           {
            "type": "scatterpolar",
            "marker": {
             "colorbar": {
              "outlinewidth": 0,
              "ticks": ""
             }
            }
           }
          ],
          "histogram": [
           {
            "marker": {
             "pattern": {
              "fillmode": "overlay",
              "size": 10,
              "solidity": 0.2
             }
            },
            "type": "histogram"
           }
          ],
          "scattergl": [
           {
            "type": "scattergl",
            "marker": {
             "colorbar": {
              "outlinewidth": 0,
              "ticks": ""
             }
            }
           }
          ],
          "scatter3d": [
           {
            "type": "scatter3d",
            "line": {
             "colorbar": {
              "outlinewidth": 0,
              "ticks": ""
             }
            },
            "marker": {
             "colorbar": {
              "outlinewidth": 0,
              "ticks": ""
             }
            }
           }
          ],
          "scattermapbox": [
           {
            "type": "scattermapbox",
            "marker": {
             "colorbar": {
              "outlinewidth": 0,
              "ticks": ""
             }
            }
           }
          ],
          "scatterternary": [
           {
            "type": "scatterternary",
            "marker": {
             "colorbar": {
              "outlinewidth": 0,
              "ticks": ""
             }
            }
           }
          ],
          "scattercarpet": [
           {
            "type": "scattercarpet",
            "marker": {
             "colorbar": {
              "outlinewidth": 0,
              "ticks": ""
             }
            }
           }
          ],
          "carpet": [
           {
            "aaxis": {
             "endlinecolor": "#2a3f5f",
             "gridcolor": "white",
             "linecolor": "white",
             "minorgridcolor": "white",
             "startlinecolor": "#2a3f5f"
            },
            "baxis": {
             "endlinecolor": "#2a3f5f",
             "gridcolor": "white",
             "linecolor": "white",
             "minorgridcolor": "white",
             "startlinecolor": "#2a3f5f"
            },
            "type": "carpet"
           }
          ],
          "table": [
           {
            "cells": {
             "fill": {
              "color": "#EBF0F8"
             },
             "line": {
              "color": "white"
             }
            },
            "header": {
             "fill": {
              "color": "#C8D4E3"
             },
             "line": {
              "color": "white"
             }
            },
            "type": "table"
           }
          ],
          "barpolar": [
           {
            "marker": {
             "line": {
              "color": "#E5ECF6",
              "width": 0.5
             },
             "pattern": {
              "fillmode": "overlay",
              "size": 10,
              "solidity": 0.2
             }
            },
            "type": "barpolar"
           }
          ],
          "pie": [
           {
            "automargin": true,
            "type": "pie"
           }
          ]
         },
         "layout": {
          "autotypenumbers": "strict",
          "colorway": [
           "#636efa",
           "#EF553B",
           "#00cc96",
           "#ab63fa",
           "#FFA15A",
           "#19d3f3",
           "#FF6692",
           "#B6E880",
           "#FF97FF",
           "#FECB52"
          ],
          "font": {
           "color": "#2a3f5f"
          },
          "hovermode": "closest",
          "hoverlabel": {
           "align": "left"
          },
          "paper_bgcolor": "white",
          "plot_bgcolor": "#E5ECF6",
          "polar": {
           "bgcolor": "#E5ECF6",
           "angularaxis": {
            "gridcolor": "white",
            "linecolor": "white",
            "ticks": ""
           },
           "radialaxis": {
            "gridcolor": "white",
            "linecolor": "white",
            "ticks": ""
           }
          },
          "ternary": {
           "bgcolor": "#E5ECF6",
           "aaxis": {
            "gridcolor": "white",
            "linecolor": "white",
            "ticks": ""
           },
           "baxis": {
            "gridcolor": "white",
            "linecolor": "white",
            "ticks": ""
           },
           "caxis": {
            "gridcolor": "white",
            "linecolor": "white",
            "ticks": ""
           }
          },
          "coloraxis": {
           "colorbar": {
            "outlinewidth": 0,
            "ticks": ""
           }
          },
          "colorscale": {
           "sequential": [
            [
             0,
             "#0d0887"
            ],
            [
             0.1111111111111111,
             "#46039f"
            ],
            [
             0.2222222222222222,
             "#7201a8"
            ],
            [
             0.3333333333333333,
             "#9c179e"
            ],
            [
             0.4444444444444444,
             "#bd3786"
            ],
            [
             0.5555555555555556,
             "#d8576b"
            ],
            [
             0.6666666666666666,
             "#ed7953"
            ],
            [
             0.7777777777777778,
             "#fb9f3a"
            ],
            [
             0.8888888888888888,
             "#fdca26"
            ],
            [
             1,
             "#f0f921"
            ]
           ],
           "sequentialminus": [
            [
             0,
             "#0d0887"
            ],
            [
             0.1111111111111111,
             "#46039f"
            ],
            [
             0.2222222222222222,
             "#7201a8"
            ],
            [
             0.3333333333333333,
             "#9c179e"
            ],
            [
             0.4444444444444444,
             "#bd3786"
            ],
            [
             0.5555555555555556,
             "#d8576b"
            ],
            [
             0.6666666666666666,
             "#ed7953"
            ],
            [
             0.7777777777777778,
             "#fb9f3a"
            ],
            [
             0.8888888888888888,
             "#fdca26"
            ],
            [
             1,
             "#f0f921"
            ]
           ],
           "diverging": [
            [
             0,
             "#8e0152"
            ],
            [
             0.1,
             "#c51b7d"
            ],
            [
             0.2,
             "#de77ae"
            ],
            [
             0.3,
             "#f1b6da"
            ],
            [
             0.4,
             "#fde0ef"
            ],
            [
             0.5,
             "#f7f7f7"
            ],
            [
             0.6,
             "#e6f5d0"
            ],
            [
             0.7,
             "#b8e186"
            ],
            [
             0.8,
             "#7fbc41"
            ],
            [
             0.9,
             "#4d9221"
            ],
            [
             1,
             "#276419"
            ]
           ]
          },
          "xaxis": {
           "gridcolor": "white",
           "linecolor": "white",
           "ticks": "",
           "title": {
            "standoff": 15
           },
           "zerolinecolor": "white",
           "automargin": true,
           "zerolinewidth": 2
          },
          "yaxis": {
           "gridcolor": "white",
           "linecolor": "white",
           "ticks": "",
           "title": {
            "standoff": 15
           },
           "zerolinecolor": "white",
           "automargin": true,
           "zerolinewidth": 2
          },
          "scene": {
           "xaxis": {
            "backgroundcolor": "#E5ECF6",
            "gridcolor": "white",
            "linecolor": "white",
            "showbackground": true,
            "ticks": "",
            "zerolinecolor": "white",
            "gridwidth": 2
           },
           "yaxis": {
            "backgroundcolor": "#E5ECF6",
            "gridcolor": "white",
            "linecolor": "white",
            "showbackground": true,
            "ticks": "",
            "zerolinecolor": "white",
            "gridwidth": 2
           },
           "zaxis": {
            "backgroundcolor": "#E5ECF6",
            "gridcolor": "white",
            "linecolor": "white",
            "showbackground": true,
            "ticks": "",
            "zerolinecolor": "white",
            "gridwidth": 2
           }
          },
          "shapedefaults": {
           "line": {
            "color": "#2a3f5f"
           }
          },
          "annotationdefaults": {
           "arrowcolor": "#2a3f5f",
           "arrowhead": 0,
           "arrowwidth": 1
          },
          "geo": {
           "bgcolor": "white",
           "landcolor": "#E5ECF6",
           "subunitcolor": "white",
           "showland": true,
           "showlakes": true,
           "lakecolor": "white"
          },
          "title": {
           "x": 0.05
          },
          "mapbox": {
           "style": "light"
          }
         }
        },
        "margin": {
         "r": 20,
         "l": 10,
         "b": 10,
         "t": 10
        },
        "legend": {
         "orientation": "h",
         "yanchor": "bottom",
         "y": 1.02,
         "xanchor": "right",
         "x": 1
        },
        "width": 1000,
        "height": 600,
        "scene": {
         "xaxis": {
          "title": {
           "text": "Energy density new cone (J/cm^2)"
          }
         },
         "yaxis": {
          "title": {
           "text": "Pulse Width (msec)"
          }
         },
         "zaxis": {
          "title": {
           "text": "2 Qsw/(U+|D|) 1e6"
          }
         }
        }
       },
       "config": {
        "plotlyServerURL": "https://plot.ly"
       }
      }
     },
     "metadata": {}
    }
   ],
   "metadata": {}
  },
  {
   "cell_type": "code",
   "execution_count": 128,
   "source": [
    "print(test_grid.shape)"
   ],
   "outputs": [
    {
     "output_type": "stream",
     "name": "stdout",
     "text": [
      "torch.Size([30, 2])\n"
     ]
    }
   ],
   "metadata": {}
  },
  {
   "cell_type": "code",
   "execution_count": 129,
   "source": [
    "y_preds_1 = likelihood(model(torch.Tensor([[2.9, 9.04]])))\n",
    "with torch.no_grad():\n",
    "    y_preds_mean_1 = y_preds_1.mean.numpy()\n",
    "print(y_preds_mean_1)"
   ],
   "outputs": [
    {
     "output_type": "stream",
     "name": "stdout",
     "text": [
      "[2.4446342]\n"
     ]
    },
    {
     "output_type": "stream",
     "name": "stderr",
     "text": [
      "/Users/valenetjong/opt/anaconda3/envs/FEGP/lib/python3.9/site-packages/gpytorch/likelihoods/gaussian_likelihood.py:270: GPInputWarning:\n",
      "\n",
      "You have passed data through a FixedNoiseGaussianLikelihood that did not match the size of the fixed noise, *and* you did not specify noise. This is treated as a no-op.\n",
      "\n"
     ]
    }
   ],
   "metadata": {}
  },
  {
   "cell_type": "code",
   "execution_count": null,
   "source": [],
   "outputs": [],
   "metadata": {}
  }
 ],
 "metadata": {
  "orig_nbformat": 4,
  "language_info": {
   "name": "python",
   "version": "3.9.16",
   "mimetype": "text/x-python",
   "codemirror_mode": {
    "name": "ipython",
    "version": 3
   },
   "pygments_lexer": "ipython3",
   "nbconvert_exporter": "python",
   "file_extension": ".py"
  },
  "kernelspec": {
   "name": "python3",
   "display_name": "Python 3.9.16 64-bit ('FEGP': conda)"
  },
  "interpreter": {
   "hash": "b00f9bca1c18369f730e284e4d0522d8a3e0f0b629e30dad99ec4bb4df6f08b7"
  }
 },
 "nbformat": 4,
 "nbformat_minor": 2
}