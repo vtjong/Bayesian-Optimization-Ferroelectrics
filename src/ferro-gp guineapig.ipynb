{
 "cells": [
  {
   "cell_type": "code",
   "execution_count": 25,
   "source": [
    "# Prep training data\n",
    "from copyreg import pickle\n",
    "from sklearn.preprocessing import StandardScaler\n",
    "from sklearn import preprocessing\n",
    "import sys\n",
    "from tkinter import Y\n",
    "import gzip\n",
    "import itertools\n",
    "import numpy as np\n",
    "import pandas as pd\n",
    "import pickle as pk\n",
    "import torch\n",
    "import gpytorch\n",
    "import plotly.express as px\n",
    "import matplotlib.pyplot as plt\n",
    "sys.path.append('..')\n",
    "sys.path.insert(0, '../src')"
   ],
   "outputs": [],
   "metadata": {}
  },
  {
   "cell_type": "code",
   "execution_count": 26,
   "source": [
    "from model import GPModel\n",
    "from GPy.models import GPRegression\n",
    "from acq_funcs import EI, PI, cust_acq, thompson\n",
    "from plotter import vis_pred, vis_acq"
   ],
   "outputs": [],
   "metadata": {}
  },
  {
   "cell_type": "markdown",
   "source": [
    "### Data Read and Pre-processing"
   ],
   "metadata": {}
  },
  {
   "cell_type": "code",
   "execution_count": 27,
   "source": [
    "# read data and display\n",
    "def read_dat(dir=\"/Users/valenetjong/Bayesian-Optimization-Ferroelectrics/data/\",\n",
    "            src_file = \"Bolometer_readings_PulseForge.xlsx\", sheet= \"Combined\"):\n",
    "    file = dir + src_file\n",
    "    fe_data = pd.read_excel(file, sheet_name=sheet, usecols=['Energy density new cone (J/cm^2)',\n",
    "                            'Time (ms)','2 Qsw/(U+|D|) 1e6cycles'])\n",
    "    fe_data.dropna(subset=['2 Qsw/(U+|D|) 1e6cycles'], inplace=True)\n",
    "    fe_data = fe_data[fe_data['2 Qsw/(U+|D|) 1e6cycles']!= 0]\n",
    "    return fe_data\n",
    "\n",
    "def display_data(fe_data):\n",
    "    \"\"\"\n",
    "    [display_data(fe_data)] creates a cross-section scatter plot of all combinations\n",
    "    of the four input parameters and single output parameter.\n",
    "    \"\"\"\n",
    "    # plot each cross-section\n",
    "    fig = px.scatter_matrix(fe_data, dimensions=['Energy density new cone (J/cm^2)', \n",
    "    \"Time (ms)\", \"2 Qsw/(U+|D|) 1e6cycles\"])\n",
    "    fig.update_layout(margin=dict(r=20, l=10, b=10, t=10))\n",
    "    fig.update_layout(height=1000)\n",
    "    fig.show()"
   ],
   "outputs": [],
   "metadata": {}
  },
  {
   "cell_type": "code",
   "execution_count": 28,
   "source": [
    "# get training set from dataframe\n",
    "def datasetmaker(fe_data):\n",
    "    \"\"\"\n",
    "    [datasetmaker(fe_data)] filters and transforms the data in pandas df [fe_data] \n",
    "    into two tensors, [train_x] for input and [train_y] for output tensors. \n",
    "    \"\"\"\n",
    "    # define standardizer\n",
    "    norm_arr = lambda arr, min, max: (arr - min)/(max - min)\n",
    "    \n",
    "    # filter training data \n",
    "    energy_den = fe_data['Energy density new cone (J/cm^2)'].values\n",
    "    time = fe_data['Time (ms)'].values\n",
    "    train_x = torch.Tensor([energy_den, time]).T\n",
    "    train_y = torch.Tensor(fe_data['2 Qsw/(U+|D|) 1e6cycles'].values)\n",
    "\n",
    "    # standardizer inputs; x_min, x_max are min/max per column (parameter) of x\n",
    "    x_min, _ = torch.min(train_x, dim=0)\n",
    "    x_max, _ = torch.max(train_x, dim=0)\n",
    "    train_x = norm_arr(train_x, x_min, x_max)\n",
    "\n",
    "    # standardizer outputs\n",
    "    y_sd_mean = torch.std_mean(train_y, axis=0)\n",
    "    # train_y = norm_arr(train_y, y_sd_mean[1], y_sd_mean[0])\n",
    "    \n",
    "    # return x_sd_mean, y_sd_mean, train_x, train_y\n",
    "    return x_min, x_max, train_x, train_y"
   ],
   "outputs": [],
   "metadata": {}
  },
  {
   "cell_type": "code",
   "execution_count": 29,
   "source": [
    "# undo normalization\n",
    "def un_norm(arr, min, max): return arr*(max - min) + min\n",
    "\n",
    "def un_norm_all(x_min, x_max, train_x, train_y, test_grid, pred_labels, upper_surf, lower_surf):\n",
    "    raw_train_x = un_norm(train_x, x_min, x_max)\n",
    "    raw_test_grid = un_norm(test_grid, x_min, x_max)\n",
    "\n",
    "    return raw_train_x, train_y, raw_test_grid, pred_labels, upper_surf, lower_surf"
   ],
   "outputs": [],
   "metadata": {}
  },
  {
   "cell_type": "code",
   "execution_count": 30,
   "source": [
    "fe_data = read_dat()\n",
    "print(fe_data)"
   ],
   "outputs": [
    {
     "output_type": "stream",
     "name": "stdout",
     "text": [
      "    Time (ms)  Energy density new cone (J/cm^2)  2 Qsw/(U+|D|) 1e6cycles\n",
      "4         0.5                              2.73                 0.873026\n",
      "5         0.5                              3.40                 2.677245\n",
      "6         1.0                              3.79                 1.699015\n",
      "7         1.0                              6.44                 3.805053\n",
      "8         1.5                              5.36                 3.334856\n",
      "9         1.5                              8.99                 4.535153\n",
      "11        5.0                              8.80                 1.362510\n",
      "13        5.0                             14.67                 3.841291\n",
      "19        0.5                              5.24                 1.201357\n",
      "22        5.0                             14.89                 3.513652\n",
      "23        2.0                             10.13                 3.470871\n",
      "24        0.5                              4.51                 0.263298\n",
      "25        0.5                              5.37                 2.775340\n",
      "27        0.5                              4.88                 2.591306\n",
      "28        1.0                              6.76                 2.579984\n",
      "29        1.0                              7.77                 3.173819\n",
      "31        2.0                              8.73                 0.131505\n",
      "32        2.0                              9.38                 0.451164\n",
      "33        2.0                             10.48                 2.126640\n",
      "34        2.0                             11.01                 3.468213\n",
      "35        5.0                             14.71                 3.685852\n",
      "36        5.0                             15.44                 3.445656\n",
      "37        5.0                             13.37                 2.651547\n"
     ]
    }
   ],
   "metadata": {}
  },
  {
   "cell_type": "code",
   "execution_count": 31,
   "source": [
    "display_data(fe_data)"
   ],
   "outputs": [
    {
     "output_type": "display_data",
     "data": {
      "application/vnd.plotly.v1+json": {
       "data": [
        {
         "dimensions": [
          {
           "axis": {
            "matches": true
           },
           "label": "Energy density new cone (J/cm^2)",
           "values": [
            2.73,
            3.4,
            3.79,
            6.44,
            5.36,
            8.99,
            8.8,
            14.67,
            5.24,
            14.89,
            10.13,
            4.51,
            5.37,
            4.88,
            6.76,
            7.77,
            8.73,
            9.38,
            10.48,
            11.01,
            14.71,
            15.44,
            13.37
           ]
          },
          {
           "axis": {
            "matches": true
           },
           "label": "Time (ms)",
           "values": [
            0.5,
            0.5,
            1,
            1,
            1.5,
            1.5,
            5,
            5,
            0.5,
            5,
            2,
            0.5,
            0.5,
            0.5,
            1,
            1,
            2,
            2,
            2,
            2,
            5,
            5,
            5
           ]
          },
          {
           "axis": {
            "matches": true
           },
           "label": "2 Qsw/(U+|D|) 1e6cycles",
           "values": [
            0.8730257299654021,
            2.677244640050493,
            1.6990152147413928,
            3.8050528055652655,
            3.3348561928152627,
            4.535152817359003,
            1.3625102372531497,
            3.841290609056986,
            1.2013569985324948,
            3.5136521918176413,
            3.4708714822041062,
            0.2632982379553876,
            2.7753404356378253,
            2.5913062464887977,
            2.579984359259049,
            3.1738185691110727,
            0.1315049942519029,
            0.4511637114621348,
            2.126639748505365,
            3.468212840642842,
            3.685852431471957,
            3.445655582638384,
            2.651546836022379
           ]
          }
         ],
         "hovertemplate": "%{xaxis.title.text}=%{x}<br>%{yaxis.title.text}=%{y}<extra></extra>",
         "legendgroup": "",
         "marker": {
          "color": "#636efa",
          "symbol": "circle"
         },
         "name": "",
         "showlegend": false,
         "type": "splom"
        }
       ],
       "layout": {
        "template": {
         "data": {
          "histogram2dcontour": [
           {
            "type": "histogram2dcontour",
            "colorbar": {
             "outlinewidth": 0,
             "ticks": ""
            },
            "colorscale": [
             [
              0,
              "#0d0887"
             ],
             [
              0.1111111111111111,
              "#46039f"
             ],
             [
              0.2222222222222222,
              "#7201a8"
             ],
             [
              0.3333333333333333,
              "#9c179e"
             ],
             [
              0.4444444444444444,
              "#bd3786"
             ],
             [
              0.5555555555555556,
              "#d8576b"
             ],
             [
              0.6666666666666666,
              "#ed7953"
             ],
             [
              0.7777777777777778,
              "#fb9f3a"
             ],
             [
              0.8888888888888888,
              "#fdca26"
             ],
             [
              1,
              "#f0f921"
             ]
            ]
           }
          ],
          "choropleth": [
           {
            "type": "choropleth",
            "colorbar": {
             "outlinewidth": 0,
             "ticks": ""
            }
           }
          ],
          "histogram2d": [
           {
            "type": "histogram2d",
            "colorbar": {
             "outlinewidth": 0,
             "ticks": ""
            },
            "colorscale": [
             [
              0,
              "#0d0887"
             ],
             [
              0.1111111111111111,
              "#46039f"
             ],
             [
              0.2222222222222222,
              "#7201a8"
             ],
             [
              0.3333333333333333,
              "#9c179e"
             ],
             [
              0.4444444444444444,
              "#bd3786"
             ],
             [
              0.5555555555555556,
              "#d8576b"
             ],
             [
              0.6666666666666666,
              "#ed7953"
             ],
             [
              0.7777777777777778,
              "#fb9f3a"
             ],
             [
              0.8888888888888888,
              "#fdca26"
             ],
             [
              1,
              "#f0f921"
             ]
            ]
           }
          ],
          "heatmap": [
           {
            "type": "heatmap",
            "colorbar": {
             "outlinewidth": 0,
             "ticks": ""
            },
            "colorscale": [
             [
              0,
              "#0d0887"
             ],
             [
              0.1111111111111111,
              "#46039f"
             ],
             [
              0.2222222222222222,
              "#7201a8"
             ],
             [
              0.3333333333333333,
              "#9c179e"
             ],
             [
              0.4444444444444444,
              "#bd3786"
             ],
             [
              0.5555555555555556,
              "#d8576b"
             ],
             [
              0.6666666666666666,
              "#ed7953"
             ],
             [
              0.7777777777777778,
              "#fb9f3a"
             ],
             [
              0.8888888888888888,
              "#fdca26"
             ],
             [
              1,
              "#f0f921"
             ]
            ]
           }
          ],
          "heatmapgl": [
           {
            "type": "heatmapgl",
            "colorbar": {
             "outlinewidth": 0,
             "ticks": ""
            },
            "colorscale": [
             [
              0,
              "#0d0887"
             ],
             [
              0.1111111111111111,
              "#46039f"
             ],
             [
              0.2222222222222222,
              "#7201a8"
             ],
             [
              0.3333333333333333,
              "#9c179e"
             ],
             [
              0.4444444444444444,
              "#bd3786"
             ],
             [
              0.5555555555555556,
              "#d8576b"
             ],
             [
              0.6666666666666666,
              "#ed7953"
             ],
             [
              0.7777777777777778,
              "#fb9f3a"
             ],
             [
              0.8888888888888888,
              "#fdca26"
             ],
             [
              1,
              "#f0f921"
             ]
            ]
           }
          ],
          "contourcarpet": [
           {
            "type": "contourcarpet",
            "colorbar": {
             "outlinewidth": 0,
             "ticks": ""
            }
           }
          ],
          "contour": [
           {
            "type": "contour",
            "colorbar": {
             "outlinewidth": 0,
             "ticks": ""
            },
            "colorscale": [
             [
              0,
              "#0d0887"
             ],
             [
              0.1111111111111111,
              "#46039f"
             ],
             [
              0.2222222222222222,
              "#7201a8"
             ],
             [
              0.3333333333333333,
              "#9c179e"
             ],
             [
              0.4444444444444444,
              "#bd3786"
             ],
             [
              0.5555555555555556,
              "#d8576b"
             ],
             [
              0.6666666666666666,
              "#ed7953"
             ],
             [
              0.7777777777777778,
              "#fb9f3a"
             ],
             [
              0.8888888888888888,
              "#fdca26"
             ],
             [
              1,
              "#f0f921"
             ]
            ]
           }
          ],
          "surface": [
           {
            "type": "surface",
            "colorbar": {
             "outlinewidth": 0,
             "ticks": ""
            },
            "colorscale": [
             [
              0,
              "#0d0887"
             ],
             [
              0.1111111111111111,
              "#46039f"
             ],
             [
              0.2222222222222222,
              "#7201a8"
             ],
             [
              0.3333333333333333,
              "#9c179e"
             ],
             [
              0.4444444444444444,
              "#bd3786"
             ],
             [
              0.5555555555555556,
              "#d8576b"
             ],
             [
              0.6666666666666666,
              "#ed7953"
             ],
             [
              0.7777777777777778,
              "#fb9f3a"
             ],
             [
              0.8888888888888888,
              "#fdca26"
             ],
             [
              1,
              "#f0f921"
             ]
            ]
           }
          ],
          "mesh3d": [
           {
            "type": "mesh3d",
            "colorbar": {
             "outlinewidth": 0,
             "ticks": ""
            }
           }
          ],
          "scatter": [
           {
            "fillpattern": {
             "fillmode": "overlay",
             "size": 10,
             "solidity": 0.2
            },
            "type": "scatter"
           }
          ],
          "parcoords": [
           {
            "type": "parcoords",
            "line": {
             "colorbar": {
              "outlinewidth": 0,
              "ticks": ""
             }
            }
           }
          ],
          "scatterpolargl": [
           {
            "type": "scatterpolargl",
            "marker": {
             "colorbar": {
              "outlinewidth": 0,
              "ticks": ""
             }
            }
           }
          ],
          "bar": [
           {
            "error_x": {
             "color": "#2a3f5f"
            },
            "error_y": {
             "color": "#2a3f5f"
            },
            "marker": {
             "line": {
              "color": "#E5ECF6",
              "width": 0.5
             },
             "pattern": {
              "fillmode": "overlay",
              "size": 10,
              "solidity": 0.2
             }
            },
            "type": "bar"
           }
          ],
          "scattergeo": [
           {
            "type": "scattergeo",
            "marker": {
             "colorbar": {
              "outlinewidth": 0,
              "ticks": ""
             }
            }
           }
          ],
          "scatterpolar": [
           {
            "type": "scatterpolar",
            "marker": {
             "colorbar": {
              "outlinewidth": 0,
              "ticks": ""
             }
            }
           }
          ],
          "histogram": [
           {
            "marker": {
             "pattern": {
              "fillmode": "overlay",
              "size": 10,
              "solidity": 0.2
             }
            },
            "type": "histogram"
           }
          ],
          "scattergl": [
           {
            "type": "scattergl",
            "marker": {
             "colorbar": {
              "outlinewidth": 0,
              "ticks": ""
             }
            }
           }
          ],
          "scatter3d": [
           {
            "type": "scatter3d",
            "line": {
             "colorbar": {
              "outlinewidth": 0,
              "ticks": ""
             }
            },
            "marker": {
             "colorbar": {
              "outlinewidth": 0,
              "ticks": ""
             }
            }
           }
          ],
          "scattermapbox": [
           {
            "type": "scattermapbox",
            "marker": {
             "colorbar": {
              "outlinewidth": 0,
              "ticks": ""
             }
            }
           }
          ],
          "scatterternary": [
           {
            "type": "scatterternary",
            "marker": {
             "colorbar": {
              "outlinewidth": 0,
              "ticks": ""
             }
            }
           }
          ],
          "scattercarpet": [
           {
            "type": "scattercarpet",
            "marker": {
             "colorbar": {
              "outlinewidth": 0,
              "ticks": ""
             }
            }
           }
          ],
          "carpet": [
           {
            "aaxis": {
             "endlinecolor": "#2a3f5f",
             "gridcolor": "white",
             "linecolor": "white",
             "minorgridcolor": "white",
             "startlinecolor": "#2a3f5f"
            },
            "baxis": {
             "endlinecolor": "#2a3f5f",
             "gridcolor": "white",
             "linecolor": "white",
             "minorgridcolor": "white",
             "startlinecolor": "#2a3f5f"
            },
            "type": "carpet"
           }
          ],
          "table": [
           {
            "cells": {
             "fill": {
              "color": "#EBF0F8"
             },
             "line": {
              "color": "white"
             }
            },
            "header": {
             "fill": {
              "color": "#C8D4E3"
             },
             "line": {
              "color": "white"
             }
            },
            "type": "table"
           }
          ],
          "barpolar": [
           {
            "marker": {
             "line": {
              "color": "#E5ECF6",
              "width": 0.5
             },
             "pattern": {
              "fillmode": "overlay",
              "size": 10,
              "solidity": 0.2
             }
            },
            "type": "barpolar"
           }
          ],
          "pie": [
           {
            "automargin": true,
            "type": "pie"
           }
          ]
         },
         "layout": {
          "autotypenumbers": "strict",
          "colorway": [
           "#636efa",
           "#EF553B",
           "#00cc96",
           "#ab63fa",
           "#FFA15A",
           "#19d3f3",
           "#FF6692",
           "#B6E880",
           "#FF97FF",
           "#FECB52"
          ],
          "font": {
           "color": "#2a3f5f"
          },
          "hovermode": "closest",
          "hoverlabel": {
           "align": "left"
          },
          "paper_bgcolor": "white",
          "plot_bgcolor": "#E5ECF6",
          "polar": {
           "bgcolor": "#E5ECF6",
           "angularaxis": {
            "gridcolor": "white",
            "linecolor": "white",
            "ticks": ""
           },
           "radialaxis": {
            "gridcolor": "white",
            "linecolor": "white",
            "ticks": ""
           }
          },
          "ternary": {
           "bgcolor": "#E5ECF6",
           "aaxis": {
            "gridcolor": "white",
            "linecolor": "white",
            "ticks": ""
           },
           "baxis": {
            "gridcolor": "white",
            "linecolor": "white",
            "ticks": ""
           },
           "caxis": {
            "gridcolor": "white",
            "linecolor": "white",
            "ticks": ""
           }
          },
          "coloraxis": {
           "colorbar": {
            "outlinewidth": 0,
            "ticks": ""
           }
          },
          "colorscale": {
           "sequential": [
            [
             0,
             "#0d0887"
            ],
            [
             0.1111111111111111,
             "#46039f"
            ],
            [
             0.2222222222222222,
             "#7201a8"
            ],
            [
             0.3333333333333333,
             "#9c179e"
            ],
            [
             0.4444444444444444,
             "#bd3786"
            ],
            [
             0.5555555555555556,
             "#d8576b"
            ],
            [
             0.6666666666666666,
             "#ed7953"
            ],
            [
             0.7777777777777778,
             "#fb9f3a"
            ],
            [
             0.8888888888888888,
             "#fdca26"
            ],
            [
             1,
             "#f0f921"
            ]
           ],
           "sequentialminus": [
            [
             0,
             "#0d0887"
            ],
            [
             0.1111111111111111,
             "#46039f"
            ],
            [
             0.2222222222222222,
             "#7201a8"
            ],
            [
             0.3333333333333333,
             "#9c179e"
            ],
            [
             0.4444444444444444,
             "#bd3786"
            ],
            [
             0.5555555555555556,
             "#d8576b"
            ],
            [
             0.6666666666666666,
             "#ed7953"
            ],
            [
             0.7777777777777778,
             "#fb9f3a"
            ],
            [
             0.8888888888888888,
             "#fdca26"
            ],
            [
             1,
             "#f0f921"
            ]
           ],
           "diverging": [
            [
             0,
             "#8e0152"
            ],
            [
             0.1,
             "#c51b7d"
            ],
            [
             0.2,
             "#de77ae"
            ],
            [
             0.3,
             "#f1b6da"
            ],
            [
             0.4,
             "#fde0ef"
            ],
            [
             0.5,
             "#f7f7f7"
            ],
            [
             0.6,
             "#e6f5d0"
            ],
            [
             0.7,
             "#b8e186"
            ],
            [
             0.8,
             "#7fbc41"
            ],
            [
             0.9,
             "#4d9221"
            ],
            [
             1,
             "#276419"
            ]
           ]
          },
          "xaxis": {
           "gridcolor": "white",
           "linecolor": "white",
           "ticks": "",
           "title": {
            "standoff": 15
           },
           "zerolinecolor": "white",
           "automargin": true,
           "zerolinewidth": 2
          },
          "yaxis": {
           "gridcolor": "white",
           "linecolor": "white",
           "ticks": "",
           "title": {
            "standoff": 15
           },
           "zerolinecolor": "white",
           "automargin": true,
           "zerolinewidth": 2
          },
          "scene": {
           "xaxis": {
            "backgroundcolor": "#E5ECF6",
            "gridcolor": "white",
            "linecolor": "white",
            "showbackground": true,
            "ticks": "",
            "zerolinecolor": "white",
            "gridwidth": 2
           },
           "yaxis": {
            "backgroundcolor": "#E5ECF6",
            "gridcolor": "white",
            "linecolor": "white",
            "showbackground": true,
            "ticks": "",
            "zerolinecolor": "white",
            "gridwidth": 2
           },
           "zaxis": {
            "backgroundcolor": "#E5ECF6",
            "gridcolor": "white",
            "linecolor": "white",
            "showbackground": true,
            "ticks": "",
            "zerolinecolor": "white",
            "gridwidth": 2
           }
          },
          "shapedefaults": {
           "line": {
            "color": "#2a3f5f"
           }
          },
          "annotationdefaults": {
           "arrowcolor": "#2a3f5f",
           "arrowhead": 0,
           "arrowwidth": 1
          },
          "geo": {
           "bgcolor": "white",
           "landcolor": "#E5ECF6",
           "subunitcolor": "white",
           "showland": true,
           "showlakes": true,
           "lakecolor": "white"
          },
          "title": {
           "x": 0.05
          },
          "mapbox": {
           "style": "light"
          }
         }
        },
        "legend": {
         "tracegroupgap": 0
        },
        "margin": {
         "t": 10,
         "r": 20,
         "l": 10,
         "b": 10
        },
        "dragmode": "select",
        "height": 1000
       },
       "config": {
        "plotlyServerURL": "https://plot.ly"
       }
      }
     },
     "metadata": {}
    }
   ],
   "metadata": {}
  },
  {
   "cell_type": "code",
   "execution_count": 32,
   "source": [
    "# make training data, maintain params to de-normalize\n",
    "# x_sd_mean, y_sd_mean, train_x, train_y = datasetmaker(fe_data)\n",
    "x_min, x_max, train_x, train_y = datasetmaker(fe_data)"
   ],
   "outputs": [],
   "metadata": {}
  },
  {
   "cell_type": "markdown",
   "source": [
    "### Grid/Parameter Space"
   ],
   "metadata": {}
  },
  {
   "cell_type": "code",
   "execution_count": 33,
   "source": [
    "# create grid for grid search\n",
    "def grid_helper(grid_size, num_params, grid_bounds):\n",
    "    \"\"\"\n",
    "    [grid_helper(grid_size, num_params, grid_bounds)] returns a grid of dimensions\n",
    "    [grid_size] by [num_params], which dictates the parameter space for GP to be \n",
    "    conducted over. \n",
    "    \"\"\"\n",
    "    grid = torch.zeros(grid_size, num_params)\n",
    "    f_grid_diff = lambda i, x, y : float((x[i][1] - x[i][0]) / (y-2))\n",
    "    for i in range(num_params):\n",
    "        grid_diff = f_grid_diff(i, grid_bounds, grid_size)\n",
    "        grid[:, i] = torch.linspace(grid_bounds[i][0] - grid_diff, \n",
    "                                    grid_bounds[i][1] + grid_diff, grid_size)\n",
    "    return grid\n",
    "\n",
    "def grid_maker(train_x, num_points=30):\n",
    "    \"\"\"\n",
    "    [grid_maker(train_x, num_points=30)] creates grids to be used for gaussian \n",
    "    process predictions. It outputs the dimension of the grid [num_params], \n",
    "    paramater space grid [test_grid], and [test_x].\n",
    "    \"\"\"\n",
    "    # define grid between bounds of RTA time, RTA temp\n",
    "    num_params = train_x.size(dim=1)\n",
    "    grid_bounds = [(train_x[:,i].min(), train_x[:,i].max()) for i in range(num_params)]\n",
    "\n",
    "    # set up test_grid for predictions\n",
    "    test_grid = grid_helper(num_points, num_params, grid_bounds)\n",
    "\n",
    "    # create n-D grid with n = num_params\n",
    "    args = (test_grid[:, i] for i in range(num_params))\n",
    "    test_x = torch.cartesian_prod(*args)\n",
    "    return grid_bounds, num_params, test_grid, test_x\n"
   ],
   "outputs": [],
   "metadata": {}
  },
  {
   "cell_type": "code",
   "execution_count": 34,
   "source": [
    "# create grid based on parameter space for search\n",
    "grid_bounds, num_params, test_grid, test_x = grid_maker(train_x)"
   ],
   "outputs": [],
   "metadata": {}
  },
  {
   "cell_type": "markdown",
   "source": [
    "### Noise Calculations"
   ],
   "metadata": {}
  },
  {
   "cell_type": "markdown",
   "source": [
    "Our figure of merit, fom, is $2 Q_{sw}/(U+|D|),$ so error propagation would result in a error of $\\sigma_{fom} = |fom|\\sqrt{{(\\sigma_{Q_{sw}}/Q_{sw}})^2+{(\\sigma_U^2 + \\sigma_{|D|}^2)/(U+|D|)^2)}}$. We have data for $2Pr$ measurements wrt device area. Using the $10\\mu$ m $\\times 10\\mu$ m data, we approximate the error for the figure of merit as simply $\\sigma_{2Pr}$, as we do not have $\\sigma_U$ or $\\sigma_D.$ \n"
   ],
   "metadata": {}
  },
  {
   "cell_type": "code",
   "execution_count": 35,
   "source": [
    "fn = \"/Users/valenetjong/Bayesian-Optimization-Ferroelectrics/data/P vs area.xlsx\"\n",
    "excel_file = pd.read_excel(fn, sheet_name='Sheet1')\n",
    "col_2Pr_10by10 = excel_file['10umx10um']\n",
    "sd = col_2Pr_10by10.std()/col_2Pr_10by10.mean()\n",
    "print(sd)\n",
    "print(col_2Pr_10by10)"
   ],
   "outputs": [
    {
     "output_type": "stream",
     "name": "stdout",
     "text": [
      "0.04469365441252401\n",
      "0     34.57379\n",
      "1     35.96416\n",
      "2     33.16083\n",
      "3     35.96861\n",
      "4     37.10497\n",
      "5     35.86549\n",
      "6     35.81341\n",
      "7     33.01597\n",
      "8     35.71753\n",
      "9     38.37434\n",
      "10    34.11144\n",
      "11    33.57596\n",
      "12    35.15750\n",
      "13    35.01515\n",
      "14    36.01072\n",
      "15    37.04952\n",
      "16    36.48895\n",
      "17    35.63807\n",
      "18    37.36247\n",
      "19    39.05057\n",
      "Name: 10umx10um, dtype: float64\n"
     ]
    }
   ],
   "metadata": {}
  },
  {
   "cell_type": "markdown",
   "source": [
    "### Initialize Model"
   ],
   "metadata": {}
  },
  {
   "cell_type": "code",
   "execution_count": 124,
   "source": [
    "# configuration parameters for training\n",
    "class Config():\n",
    "    def __init__(self):\n",
    "        self.epochs = 5000\n",
    "        self.kernel = \"matern\"\n",
    "        self.lr = 0.005\n",
    "        self.lscale_1 = 0.4\n",
    "        self.lscale_2 = 0.1\n",
    "        self.lscale_3 = None\n",
    "        self.lscale_4 = None\n",
    "        self.dim = 2\n",
    "        self.noise = 0.15\n",
    "\n",
    "config = Config()"
   ],
   "outputs": [],
   "metadata": {}
  },
  {
   "cell_type": "code",
   "execution_count": 135,
   "source": [
    "# make model\n",
    "def kernel_func(config_kernel, num_params, lscale):\n",
    "    \"\"\"\n",
    "    [kernel_func(config_kernel, num_params, lscale)] returns kernel function with \n",
    "    dimensions specified by [num_params]. \n",
    "    \"\"\"\n",
    "    if config_kernel == \"rbf\":\n",
    "        return gpytorch.kernels.ScaleKernel(\n",
    "            gpytorch.kernels.RBFKernel(ard_num_dims=num_params))\n",
    "    elif config_kernel == \"matern\":\n",
    "        return gpytorch.kernels.ScaleKernel(gpytorch.kernels.MaternKernel(ard_num_dims=num_params, \n",
    "        lengthscale = torch.tensor(lscale), nu=0.5))\n",
    "\n",
    "def make_model(train_x, train_y, num_params, config):\n",
    "    \"\"\"\n",
    "    [make_model(train_x, train_y, num_params, config)] returns likelihood and \n",
    "    model with lengthscale, noise, kernel function specified by sweeps. \n",
    "    \"\"\"\n",
    "    \n",
    "    if config.dim == 2:\n",
    "        lscale = [config.lscale_1, config.lscale_2]\n",
    "    elif config.dim == 4:\n",
    "        lscale = [config.lscale_1, config.lscale_2, config.lscale_3, config.lscale_4]\n",
    "    kernel = kernel_func(config.kernel, num_params, lscale)\n",
    "    \n",
    "    print(kernel)\n",
    "    num_samples = len(train_x)\n",
    "    noise = config.noise*torch.ones(num_samples)\n",
    "    likelihood = gpytorch.likelihoods.FixedNoiseGaussianLikelihood(noise=noise)\n",
    "    model = GPModel(train_x, train_y, likelihood, kernel)\n",
    "\n",
    "    return likelihood, model, lscale\n",
    "    "
   ],
   "outputs": [],
   "metadata": {}
  },
  {
   "cell_type": "code",
   "execution_count": 109,
   "source": [
    "def intermediate_plot(f, ax, obs, title):\n",
    "    im = ax.imshow(obs.mean.view(30, 30), aspect='equal',\n",
    "                extent=[grid_bounds[0][0].item(), grid_bounds[0][1].item(),\n",
    "                            grid_bounds[1][0].item(), grid_bounds[1][1].item()])\n",
    "    f.colorbar(im)\n",
    "    ax.set_title(title)"
   ],
   "outputs": [],
   "metadata": {}
  },
  {
   "cell_type": "markdown",
   "source": [
    "### GP Training and Eval"
   ],
   "metadata": {}
  },
  {
   "cell_type": "code",
   "execution_count": 136,
   "source": [
    "# training and evaluation\n",
    "def train(train_x, train_y, num_params, config):\n",
    "    likelihood, model, lscale = make_model(train_x, train_y, num_params, config)\n",
    "    model.covar_module.base_kernel.lengthscale = torch.Tensor(lscale)\n",
    "    training_iter = config.epochs\n",
    "    model.covar_module.base_kernel.raw_lengthscale.requires_grad_(False) # disallow training of lengthscale\n",
    "    \n",
    "    # place both the model and likelihood in training mode\n",
    "    model.train(), likelihood.train()\n",
    "\n",
    "    # use Adam\n",
    "    optimizer = torch.optim.Adam(model.parameters(), lr=config.lr)\n",
    "\n",
    "    # set GP loss as the marginal log likelihood\n",
    "    mll = gpytorch.mlls.ExactMarginalLogLikelihood(likelihood, model)\n",
    "    loss_lst = []\n",
    "\n",
    "    for i in range(training_iter):\n",
    "        optimizer.zero_grad()\n",
    "        output = model(train_x)\n",
    "\n",
    "        # backpropagate error\n",
    "        loss = -mll(output, train_y)\n",
    "        loss.backward()\n",
    "\n",
    "        if i % 100 == 0: \n",
    "            print('Iter %d/%d - Loss: %.3f  lengthscale1: %s   noise: %s' % (\n",
    "                    i+1, training_iter, loss.item(), \n",
    "                    model.covar_module.base_kernel.lengthscale.detach().numpy(),\n",
    "                    model.likelihood.noise.detach().numpy()\n",
    "                    )) \n",
    "            loss_lst.append(loss.item())\n",
    "\n",
    "        # if i % 1000 == 0:\n",
    "        # # get a quick snapshot of intermediate \n",
    "        #     model.eval()\n",
    "        #     likelihood.eval()\n",
    "        #     with torch.no_grad(), gpytorch.settings.fast_pred_var():\n",
    "        #         obs = likelihood(model(test_x))\n",
    "        #         f, ax = plt.subplots(1, 1, figsize=(4,3))\n",
    "        #         intermediate_plot(f, ax, obs, f'iter {i+1}/{training_iter}')\n",
    "        #     model.train()\n",
    "        #     likelihood.train()\n",
    "        optimizer.step()\n",
    "        \n",
    "    print(model.covar_module.outputscale.detach().numpy())\n",
    "    return likelihood, model, loss_lst\n",
    "\n",
    "def eval_mod(likelihood, model, test_x):\n",
    "    \"\"\" \n",
    "    [eval_mod(likelihood, model, test_x)] evaluates GP model. \n",
    "    \"\"\"\n",
    "    model.eval(), likelihood.eval()\n",
    "    with torch.no_grad(), gpytorch.settings.fast_pred_var():\n",
    "        obs = likelihood(model(test_x), noise=(torch.ones(len(test_x))*config.noise))\n",
    "    return obs"
   ],
   "outputs": [],
   "metadata": {}
  },
  {
   "cell_type": "code",
   "execution_count": 137,
   "source": [
    "# train model and evaluate\n",
    "likelihood, model, loss_lst = train(train_x, train_y, num_params, config)\n",
    "\n",
    "obs = eval_mod(likelihood, model, test_x)"
   ],
   "outputs": [
    {
     "output_type": "stream",
     "name": "stdout",
     "text": [
      "ScaleKernel(\n",
      "  (base_kernel): MaternKernel(\n",
      "    (raw_lengthscale_constraint): Positive()\n",
      "  )\n",
      "  (raw_outputscale_constraint): Positive()\n",
      ")\n",
      "Iter 1/5000 - Loss: 3.397  lengthscale1: [[0.4 0.1]]   noise: [0.15 0.15 0.15 0.15 0.15 0.15 0.15 0.15 0.15 0.15 0.15 0.15 0.15 0.15\n",
      " 0.15 0.15 0.15 0.15 0.15 0.15 0.15 0.15 0.15]\n",
      "Iter 101/5000 - Loss: 2.906  lengthscale1: [[0.4 0.1]]   noise: [0.15 0.15 0.15 0.15 0.15 0.15 0.15 0.15 0.15 0.15 0.15 0.15 0.15 0.15\n",
      " 0.15 0.15 0.15 0.15 0.15 0.15 0.15 0.15 0.15]\n",
      "Iter 201/5000 - Loss: 2.675  lengthscale1: [[0.4 0.1]]   noise: [0.15 0.15 0.15 0.15 0.15 0.15 0.15 0.15 0.15 0.15 0.15 0.15 0.15 0.15\n",
      " 0.15 0.15 0.15 0.15 0.15 0.15 0.15 0.15 0.15]\n",
      "Iter 301/5000 - Loss: 2.549  lengthscale1: [[0.4 0.1]]   noise: [0.15 0.15 0.15 0.15 0.15 0.15 0.15 0.15 0.15 0.15 0.15 0.15 0.15 0.15\n",
      " 0.15 0.15 0.15 0.15 0.15 0.15 0.15 0.15 0.15]\n",
      "Iter 401/5000 - Loss: 2.475  lengthscale1: [[0.4 0.1]]   noise: [0.15 0.15 0.15 0.15 0.15 0.15 0.15 0.15 0.15 0.15 0.15 0.15 0.15 0.15\n",
      " 0.15 0.15 0.15 0.15 0.15 0.15 0.15 0.15 0.15]\n",
      "Iter 501/5000 - Loss: 2.428  lengthscale1: [[0.4 0.1]]   noise: [0.15 0.15 0.15 0.15 0.15 0.15 0.15 0.15 0.15 0.15 0.15 0.15 0.15 0.15\n",
      " 0.15 0.15 0.15 0.15 0.15 0.15 0.15 0.15 0.15]\n",
      "Iter 601/5000 - Loss: 2.396  lengthscale1: [[0.4 0.1]]   noise: [0.15 0.15 0.15 0.15 0.15 0.15 0.15 0.15 0.15 0.15 0.15 0.15 0.15 0.15\n",
      " 0.15 0.15 0.15 0.15 0.15 0.15 0.15 0.15 0.15]\n",
      "Iter 701/5000 - Loss: 2.374  lengthscale1: [[0.4 0.1]]   noise: [0.15 0.15 0.15 0.15 0.15 0.15 0.15 0.15 0.15 0.15 0.15 0.15 0.15 0.15\n",
      " 0.15 0.15 0.15 0.15 0.15 0.15 0.15 0.15 0.15]\n",
      "Iter 801/5000 - Loss: 2.358  lengthscale1: [[0.4 0.1]]   noise: [0.15 0.15 0.15 0.15 0.15 0.15 0.15 0.15 0.15 0.15 0.15 0.15 0.15 0.15\n",
      " 0.15 0.15 0.15 0.15 0.15 0.15 0.15 0.15 0.15]\n",
      "Iter 901/5000 - Loss: 2.347  lengthscale1: [[0.4 0.1]]   noise: [0.15 0.15 0.15 0.15 0.15 0.15 0.15 0.15 0.15 0.15 0.15 0.15 0.15 0.15\n",
      " 0.15 0.15 0.15 0.15 0.15 0.15 0.15 0.15 0.15]\n",
      "Iter 1001/5000 - Loss: 2.338  lengthscale1: [[0.4 0.1]]   noise: [0.15 0.15 0.15 0.15 0.15 0.15 0.15 0.15 0.15 0.15 0.15 0.15 0.15 0.15\n",
      " 0.15 0.15 0.15 0.15 0.15 0.15 0.15 0.15 0.15]\n",
      "Iter 1101/5000 - Loss: 2.331  lengthscale1: [[0.4 0.1]]   noise: [0.15 0.15 0.15 0.15 0.15 0.15 0.15 0.15 0.15 0.15 0.15 0.15 0.15 0.15\n",
      " 0.15 0.15 0.15 0.15 0.15 0.15 0.15 0.15 0.15]\n",
      "Iter 1201/5000 - Loss: 2.325  lengthscale1: [[0.4 0.1]]   noise: [0.15 0.15 0.15 0.15 0.15 0.15 0.15 0.15 0.15 0.15 0.15 0.15 0.15 0.15\n",
      " 0.15 0.15 0.15 0.15 0.15 0.15 0.15 0.15 0.15]\n",
      "Iter 1301/5000 - Loss: 2.321  lengthscale1: [[0.4 0.1]]   noise: [0.15 0.15 0.15 0.15 0.15 0.15 0.15 0.15 0.15 0.15 0.15 0.15 0.15 0.15\n",
      " 0.15 0.15 0.15 0.15 0.15 0.15 0.15 0.15 0.15]\n",
      "Iter 1401/5000 - Loss: 2.317  lengthscale1: [[0.4 0.1]]   noise: [0.15 0.15 0.15 0.15 0.15 0.15 0.15 0.15 0.15 0.15 0.15 0.15 0.15 0.15\n",
      " 0.15 0.15 0.15 0.15 0.15 0.15 0.15 0.15 0.15]\n",
      "Iter 1501/5000 - Loss: 2.313  lengthscale1: [[0.4 0.1]]   noise: [0.15 0.15 0.15 0.15 0.15 0.15 0.15 0.15 0.15 0.15 0.15 0.15 0.15 0.15\n",
      " 0.15 0.15 0.15 0.15 0.15 0.15 0.15 0.15 0.15]\n",
      "Iter 1601/5000 - Loss: 2.311  lengthscale1: [[0.4 0.1]]   noise: [0.15 0.15 0.15 0.15 0.15 0.15 0.15 0.15 0.15 0.15 0.15 0.15 0.15 0.15\n",
      " 0.15 0.15 0.15 0.15 0.15 0.15 0.15 0.15 0.15]\n",
      "Iter 1701/5000 - Loss: 2.308  lengthscale1: [[0.4 0.1]]   noise: [0.15 0.15 0.15 0.15 0.15 0.15 0.15 0.15 0.15 0.15 0.15 0.15 0.15 0.15\n",
      " 0.15 0.15 0.15 0.15 0.15 0.15 0.15 0.15 0.15]\n",
      "Iter 1801/5000 - Loss: 2.306  lengthscale1: [[0.4 0.1]]   noise: [0.15 0.15 0.15 0.15 0.15 0.15 0.15 0.15 0.15 0.15 0.15 0.15 0.15 0.15\n",
      " 0.15 0.15 0.15 0.15 0.15 0.15 0.15 0.15 0.15]\n",
      "Iter 1901/5000 - Loss: 2.304  lengthscale1: [[0.4 0.1]]   noise: [0.15 0.15 0.15 0.15 0.15 0.15 0.15 0.15 0.15 0.15 0.15 0.15 0.15 0.15\n",
      " 0.15 0.15 0.15 0.15 0.15 0.15 0.15 0.15 0.15]\n",
      "Iter 2001/5000 - Loss: 2.303  lengthscale1: [[0.4 0.1]]   noise: [0.15 0.15 0.15 0.15 0.15 0.15 0.15 0.15 0.15 0.15 0.15 0.15 0.15 0.15\n",
      " 0.15 0.15 0.15 0.15 0.15 0.15 0.15 0.15 0.15]\n",
      "Iter 2101/5000 - Loss: 2.301  lengthscale1: [[0.4 0.1]]   noise: [0.15 0.15 0.15 0.15 0.15 0.15 0.15 0.15 0.15 0.15 0.15 0.15 0.15 0.15\n",
      " 0.15 0.15 0.15 0.15 0.15 0.15 0.15 0.15 0.15]\n",
      "Iter 2201/5000 - Loss: 2.300  lengthscale1: [[0.4 0.1]]   noise: [0.15 0.15 0.15 0.15 0.15 0.15 0.15 0.15 0.15 0.15 0.15 0.15 0.15 0.15\n",
      " 0.15 0.15 0.15 0.15 0.15 0.15 0.15 0.15 0.15]\n",
      "Iter 2301/5000 - Loss: 2.299  lengthscale1: [[0.4 0.1]]   noise: [0.15 0.15 0.15 0.15 0.15 0.15 0.15 0.15 0.15 0.15 0.15 0.15 0.15 0.15\n",
      " 0.15 0.15 0.15 0.15 0.15 0.15 0.15 0.15 0.15]\n",
      "Iter 2401/5000 - Loss: 2.298  lengthscale1: [[0.4 0.1]]   noise: [0.15 0.15 0.15 0.15 0.15 0.15 0.15 0.15 0.15 0.15 0.15 0.15 0.15 0.15\n",
      " 0.15 0.15 0.15 0.15 0.15 0.15 0.15 0.15 0.15]\n",
      "Iter 2501/5000 - Loss: 2.297  lengthscale1: [[0.4 0.1]]   noise: [0.15 0.15 0.15 0.15 0.15 0.15 0.15 0.15 0.15 0.15 0.15 0.15 0.15 0.15\n",
      " 0.15 0.15 0.15 0.15 0.15 0.15 0.15 0.15 0.15]\n",
      "Iter 2601/5000 - Loss: 2.296  lengthscale1: [[0.4 0.1]]   noise: [0.15 0.15 0.15 0.15 0.15 0.15 0.15 0.15 0.15 0.15 0.15 0.15 0.15 0.15\n",
      " 0.15 0.15 0.15 0.15 0.15 0.15 0.15 0.15 0.15]\n",
      "Iter 2701/5000 - Loss: 2.296  lengthscale1: [[0.4 0.1]]   noise: [0.15 0.15 0.15 0.15 0.15 0.15 0.15 0.15 0.15 0.15 0.15 0.15 0.15 0.15\n",
      " 0.15 0.15 0.15 0.15 0.15 0.15 0.15 0.15 0.15]\n",
      "Iter 2801/5000 - Loss: 2.295  lengthscale1: [[0.4 0.1]]   noise: [0.15 0.15 0.15 0.15 0.15 0.15 0.15 0.15 0.15 0.15 0.15 0.15 0.15 0.15\n",
      " 0.15 0.15 0.15 0.15 0.15 0.15 0.15 0.15 0.15]\n",
      "Iter 2901/5000 - Loss: 2.294  lengthscale1: [[0.4 0.1]]   noise: [0.15 0.15 0.15 0.15 0.15 0.15 0.15 0.15 0.15 0.15 0.15 0.15 0.15 0.15\n",
      " 0.15 0.15 0.15 0.15 0.15 0.15 0.15 0.15 0.15]\n",
      "Iter 3001/5000 - Loss: 2.294  lengthscale1: [[0.4 0.1]]   noise: [0.15 0.15 0.15 0.15 0.15 0.15 0.15 0.15 0.15 0.15 0.15 0.15 0.15 0.15\n",
      " 0.15 0.15 0.15 0.15 0.15 0.15 0.15 0.15 0.15]\n",
      "Iter 3101/5000 - Loss: 2.294  lengthscale1: [[0.4 0.1]]   noise: [0.15 0.15 0.15 0.15 0.15 0.15 0.15 0.15 0.15 0.15 0.15 0.15 0.15 0.15\n",
      " 0.15 0.15 0.15 0.15 0.15 0.15 0.15 0.15 0.15]\n",
      "Iter 3201/5000 - Loss: 2.293  lengthscale1: [[0.4 0.1]]   noise: [0.15 0.15 0.15 0.15 0.15 0.15 0.15 0.15 0.15 0.15 0.15 0.15 0.15 0.15\n",
      " 0.15 0.15 0.15 0.15 0.15 0.15 0.15 0.15 0.15]\n",
      "Iter 3301/5000 - Loss: 2.293  lengthscale1: [[0.4 0.1]]   noise: [0.15 0.15 0.15 0.15 0.15 0.15 0.15 0.15 0.15 0.15 0.15 0.15 0.15 0.15\n",
      " 0.15 0.15 0.15 0.15 0.15 0.15 0.15 0.15 0.15]\n",
      "Iter 3401/5000 - Loss: 2.293  lengthscale1: [[0.4 0.1]]   noise: [0.15 0.15 0.15 0.15 0.15 0.15 0.15 0.15 0.15 0.15 0.15 0.15 0.15 0.15\n",
      " 0.15 0.15 0.15 0.15 0.15 0.15 0.15 0.15 0.15]\n",
      "Iter 3501/5000 - Loss: 2.292  lengthscale1: [[0.4 0.1]]   noise: [0.15 0.15 0.15 0.15 0.15 0.15 0.15 0.15 0.15 0.15 0.15 0.15 0.15 0.15\n",
      " 0.15 0.15 0.15 0.15 0.15 0.15 0.15 0.15 0.15]\n",
      "Iter 3601/5000 - Loss: 2.292  lengthscale1: [[0.4 0.1]]   noise: [0.15 0.15 0.15 0.15 0.15 0.15 0.15 0.15 0.15 0.15 0.15 0.15 0.15 0.15\n",
      " 0.15 0.15 0.15 0.15 0.15 0.15 0.15 0.15 0.15]\n",
      "Iter 3701/5000 - Loss: 2.292  lengthscale1: [[0.4 0.1]]   noise: [0.15 0.15 0.15 0.15 0.15 0.15 0.15 0.15 0.15 0.15 0.15 0.15 0.15 0.15\n",
      " 0.15 0.15 0.15 0.15 0.15 0.15 0.15 0.15 0.15]\n",
      "Iter 3801/5000 - Loss: 2.292  lengthscale1: [[0.4 0.1]]   noise: [0.15 0.15 0.15 0.15 0.15 0.15 0.15 0.15 0.15 0.15 0.15 0.15 0.15 0.15\n",
      " 0.15 0.15 0.15 0.15 0.15 0.15 0.15 0.15 0.15]\n",
      "Iter 3901/5000 - Loss: 2.292  lengthscale1: [[0.4 0.1]]   noise: [0.15 0.15 0.15 0.15 0.15 0.15 0.15 0.15 0.15 0.15 0.15 0.15 0.15 0.15\n",
      " 0.15 0.15 0.15 0.15 0.15 0.15 0.15 0.15 0.15]\n",
      "Iter 4001/5000 - Loss: 2.292  lengthscale1: [[0.4 0.1]]   noise: [0.15 0.15 0.15 0.15 0.15 0.15 0.15 0.15 0.15 0.15 0.15 0.15 0.15 0.15\n",
      " 0.15 0.15 0.15 0.15 0.15 0.15 0.15 0.15 0.15]\n",
      "Iter 4101/5000 - Loss: 2.292  lengthscale1: [[0.4 0.1]]   noise: [0.15 0.15 0.15 0.15 0.15 0.15 0.15 0.15 0.15 0.15 0.15 0.15 0.15 0.15\n",
      " 0.15 0.15 0.15 0.15 0.15 0.15 0.15 0.15 0.15]\n",
      "Iter 4201/5000 - Loss: 2.291  lengthscale1: [[0.4 0.1]]   noise: [0.15 0.15 0.15 0.15 0.15 0.15 0.15 0.15 0.15 0.15 0.15 0.15 0.15 0.15\n",
      " 0.15 0.15 0.15 0.15 0.15 0.15 0.15 0.15 0.15]\n",
      "Iter 4301/5000 - Loss: 2.291  lengthscale1: [[0.4 0.1]]   noise: [0.15 0.15 0.15 0.15 0.15 0.15 0.15 0.15 0.15 0.15 0.15 0.15 0.15 0.15\n",
      " 0.15 0.15 0.15 0.15 0.15 0.15 0.15 0.15 0.15]\n",
      "Iter 4401/5000 - Loss: 2.291  lengthscale1: [[0.4 0.1]]   noise: [0.15 0.15 0.15 0.15 0.15 0.15 0.15 0.15 0.15 0.15 0.15 0.15 0.15 0.15\n",
      " 0.15 0.15 0.15 0.15 0.15 0.15 0.15 0.15 0.15]\n",
      "Iter 4501/5000 - Loss: 2.291  lengthscale1: [[0.4 0.1]]   noise: [0.15 0.15 0.15 0.15 0.15 0.15 0.15 0.15 0.15 0.15 0.15 0.15 0.15 0.15\n",
      " 0.15 0.15 0.15 0.15 0.15 0.15 0.15 0.15 0.15]\n",
      "Iter 4601/5000 - Loss: 2.291  lengthscale1: [[0.4 0.1]]   noise: [0.15 0.15 0.15 0.15 0.15 0.15 0.15 0.15 0.15 0.15 0.15 0.15 0.15 0.15\n",
      " 0.15 0.15 0.15 0.15 0.15 0.15 0.15 0.15 0.15]\n",
      "Iter 4701/5000 - Loss: 2.291  lengthscale1: [[0.4 0.1]]   noise: [0.15 0.15 0.15 0.15 0.15 0.15 0.15 0.15 0.15 0.15 0.15 0.15 0.15 0.15\n",
      " 0.15 0.15 0.15 0.15 0.15 0.15 0.15 0.15 0.15]\n",
      "Iter 4801/5000 - Loss: 2.291  lengthscale1: [[0.4 0.1]]   noise: [0.15 0.15 0.15 0.15 0.15 0.15 0.15 0.15 0.15 0.15 0.15 0.15 0.15 0.15\n",
      " 0.15 0.15 0.15 0.15 0.15 0.15 0.15 0.15 0.15]\n",
      "Iter 4901/5000 - Loss: 2.291  lengthscale1: [[0.4 0.1]]   noise: [0.15 0.15 0.15 0.15 0.15 0.15 0.15 0.15 0.15 0.15 0.15 0.15 0.15 0.15\n",
      " 0.15 0.15 0.15 0.15 0.15 0.15 0.15 0.15 0.15]\n",
      "4.6874585\n"
     ]
    }
   ],
   "metadata": {}
  },
  {
   "cell_type": "markdown",
   "source": [
    "### GP Training Results"
   ],
   "metadata": {}
  },
  {
   "cell_type": "code",
   "execution_count": 138,
   "source": [
    "import matplotlib.pyplot as plt\n",
    "from sklearn.metrics import mean_squared_error, mean_absolute_error,r2_score\n",
    "from scipy.stats import spearmanr\n",
    "import matplotlib.pyplot as plt \n",
    "from plotter import prettyplot\n",
    "\n",
    "round_three = lambda val: np.round(val, 3) \n",
    "y_preds = likelihood(model(train_x))\n",
    "prettyplot()\n",
    "\n",
    "# plot training results\n",
    "with torch.no_grad():\n",
    "    y_preds_mean = y_preds.mean.numpy()\n",
    "    fig, axes = plt.subplots(1, 3, figsize=(5.5*3, 4.5))\n",
    "    fs = 14\n",
    "\n",
    "    # calculate error metrics\n",
    "    rmse = np.sqrt(mean_squared_error(train_y, y_preds_mean))\n",
    "    mae = mean_absolute_error(train_y,  y_preds_mean)\n",
    "    spearman = spearmanr(train_y, y_preds_mean)[0]\n",
    "    r2 = r2_score(train_y, y_preds_mean)\n",
    "    err_vals = [round_three(i) for i in [rmse, mae, spearman, r2]]\n",
    "\n",
    "    # print error metrics\n",
    "    data = {'Metric': ['RMSE', 'MAE', 'Spearman', 'R² score'], 'Value': err_vals}\n",
    "    df = pd.DataFrame(data)\n",
    "    print(df)\n",
    "\n",
    "    # training versus actuals plot: make plot, set title and axes values\n",
    "    axes[0].scatter(train_y, y_preds_mean)\n",
    "    axes[0].plot(np.linspace(0, 5, 5), np.linspace(0, 5, 5), 'k--')\n",
    "    axes[0].set_xlabel('Ground Truth 2 Qsw/(U+|D|) 1e6', fontsize = fs)\n",
    "    axes[0].set_ylabel('Prediction 2 Qsw/(U+|D|) 1e6', fontsize = fs)\n",
    "    axes[0].set_title('GP Training Results' + \" (MAE=%.2f\" % mae+' [%])', fontsize = fs)\n",
    "\n",
    "    # loss plot: make plot, set title and axes values\n",
    "    axes[1].plot(loss_lst, 'o-')\n",
    "    title = 'Training Loss'\n",
    "    axes[1].set_xlabel('Epoch (Per 100)', fontsize = fs)\n",
    "    axes[1].set_ylabel('Marginal Log Likelihood', fontsize = fs)\n",
    "    axes[1].set_title(title, fontsize = fs)\n",
    "    axes[2].axis(\"off\")\n",
    "\n",
    "    for i in range(len(axes)):\n",
    "        axes[i].tick_params(direction='in', length=5, width=1, labelsize = fs*.8)\n",
    "    plt.subplots_adjust(wspace = 0.4)\n",
    "\n",
    "    plt.show()"
   ],
   "outputs": [
    {
     "output_type": "stream",
     "name": "stderr",
     "text": [
      "/Users/valenetjong/opt/anaconda3/envs/FEGP/lib/python3.9/site-packages/gpytorch/models/exact_gp.py:274: GPInputWarning:\n",
      "\n",
      "The input matches the stored training data. Did you forget to call model.train()?\n",
      "\n"
     ]
    },
    {
     "output_type": "stream",
     "name": "stdout",
     "text": [
      "     Metric  Value\n",
      "0      RMSE  0.591\n",
      "1       MAE  0.447\n",
      "2  Spearman  0.861\n",
      "3  R² score  0.773\n"
     ]
    },
    {
     "output_type": "display_data",
     "data": {
      "image/png": "[encoded data removed]",
      "text/plain": [
       "<Figure size 3300x900 with 3 Axes>"
      ]
     },
     "metadata": {}
    }
   ],
   "metadata": {}
  },
  {
   "cell_type": "code",
   "execution_count": 129,
   "source": [
    "# acquisition function for prediction/exploration\n",
    "def get_bounds(n): return [n for i in range(config.dim)]\n",
    "\n",
    "def unravel_acq(acq_func, obs, bounds, train_y, nshape):\n",
    "    \"\"\" \n",
    "    [unravel_acq(acq_func, obs, bounds, train_y, nshape)] is a helper function \n",
    "    for acq that returns the coordinates of the maximum value of the acq_func \n",
    "    over the test grid in the form of a tuple (row_index, column_index). \n",
    "\n",
    "    row_index = index into time\n",
    "    column_index = index into energy density\n",
    "    \"\"\"\n",
    "    acq = acq_func(obs, bounds, train_y).detach().numpy().reshape(nshape).T\n",
    "    return np.unravel_index(acq.argmax(), acq.shape)\n",
    "\n",
    "def acq(obs, train_y, bounds):\n",
    "    \"\"\" \n",
    "    [acq(obs, train_y, bounds)] evaluates acquisition functions on current \n",
    "    predictions (observations) and outputs suggested points for exploration \n",
    "    on manifold. \n",
    "    \"\"\"\n",
    "    transpose = lambda tensor: tensor.detach().numpy().reshape(nshape).T\n",
    "    nshape = tuple(bounds)\n",
    "\n",
    "    pi = unravel_acq(PI, obs, bounds, train_y, nshape) # prob of improvement\n",
    "    ei = unravel_acq(EI, obs, bounds, train_y, nshape) # expected improvement\n",
    "    ca = unravel_acq(cust_acq, obs, bounds, train_y, nshape) # custom acq\n",
    "    th = unravel_acq(thompson, obs, bounds, train_y, nshape) # thompson acq\n",
    "\n",
    "    lower, upper = obs.confidence_region()\n",
    "    upper_surf, lower_surf = transpose(upper), transpose(lower)\n",
    "    ucb = np.unravel_index(upper_surf.argmax(), upper_surf.shape)\n",
    "\n",
    "    pred_var = obs.variance.view(nshape).detach().numpy().T\n",
    "    pred_labels = obs.mean.view(nshape)\n",
    "    max_var = np.unravel_index(pred_var.argmax(), pred_var.shape)\n",
    "\n",
    "    # acqs gives pairs corresponding to indices of time and energy density recommendations in grid\n",
    "    # pairs index into pred_labels \n",
    "    acqs = {\"PI\":pi, \"EI\":ei, \"CA\":ca, \"TH\":th, \"UCB\":ucb, \"Max_var\":max_var}\n",
    "\n",
    "    return pred_labels, upper_surf, lower_surf, acqs"
   ],
   "outputs": [],
   "metadata": {}
  },
  {
   "cell_type": "code",
   "execution_count": 130,
   "source": [
    "# export predictions to csv\n",
    "def pred_to_csv(acqs, raw_pred_labels, raw_test_grid, file_out = \"preds.csv\"):\n",
    "    \"\"\"\n",
    "    [pred_to_csv(acqs, raw_pred_labels, raw_test_grid)] outputs suggested\n",
    "    inputs and their respective predicted outputs to csv. \n",
    "    \"\"\"   \n",
    "    dir = \"/Users/valenetjong/Bayesian-Optimization-Ferroelectrics/predictions/\"\n",
    "    file = open(dir + file_out, \"w\", encoding=\"utf-8\")\n",
    "    file.write(\"Energy density \\t Time (ms)\\n\")\n",
    "    data = {'Time(ms)':[], 'Energy density new cone (J/cm^2)':[], '2 Qsw/(U+|D|) 1e6':[]}\n",
    "    for lab, coords in acqs.items(): \n",
    "        time_val = raw_test_grid[coords[1]].tolist()[0]\n",
    "        energy_den_val = raw_test_grid[coords[0]].tolist()[1]\n",
    "        data['Time(ms)'].append(time_val)\n",
    "        data['Energy density new cone (J/cm^2)'].append(energy_den_val)\n",
    "        file.write(lab + \": \" + str(time_val) + \"\\t\" + str(energy_den_val) + \"\\n\")\n",
    "\n",
    "    file.write(\"\\nFigure of merit\\n\")\n",
    "    for lab, coords in acqs.items():\n",
    "        fig_of_merit = raw_pred_labels[coords].item()\n",
    "        data['2 Qsw/(U+|D|) 1e6'].append(fig_of_merit)\n",
    "        file.write(lab + \": \" + str(fig_of_merit) + \"\\n\")\n",
    "\n",
    "    df = pd.DataFrame(data)\n",
    "    print(df)\n"
   ],
   "outputs": [],
   "metadata": {}
  },
  {
   "cell_type": "code",
   "execution_count": 131,
   "source": [
    "# get normalized predictions\n",
    "bounds = get_bounds(n=30)\n",
    "pred_labels, upper_surf, lower_surf, acqs = acq(obs, train_y, bounds)\n",
    "\n",
    "# undo normalization\n",
    "raw_train_x, raw_train_y, raw_test_grid, raw_pred_labels, raw_upper_surf, raw_lower_surf = un_norm_all(x_min, x_max, train_x, train_y, test_grid, pred_labels, upper_surf, lower_surf)\n"
   ],
   "outputs": [],
   "metadata": {}
  },
  {
   "cell_type": "markdown",
   "source": [
    "### Save Predictions and Visualize "
   ],
   "metadata": {}
  },
  {
   "cell_type": "code",
   "execution_count": 132,
   "source": [
    "# undo normalization and save to csv\n",
    "pred_to_csv(acqs, raw_pred_labels, raw_test_grid)"
   ],
   "outputs": [
    {
     "output_type": "stream",
     "name": "stdout",
     "text": [
      "    Time(ms)  Energy density new cone (J/cm^2)  2 Qsw/(U+|D|) 1e6\n",
      "0   8.850208                          1.503079           2.085421\n",
      "1  10.728535                          1.336823           2.322422\n",
      "2  13.076441                          3.664409           2.389179\n",
      "3   8.850208                          3.830665           2.324258\n",
      "4  13.076441                          1.336823           2.290671\n",
      "5   2.276072                          3.498152           2.523788\n"
     ]
    }
   ],
   "metadata": {}
  },
  {
   "cell_type": "code",
   "execution_count": 133,
   "source": [
    "# visualize acquisition function results and confidence bound surfaces\n",
    "vis_pred(raw_train_x, raw_train_y, raw_test_grid, raw_pred_labels)\n",
    "vis_acq(raw_train_x, raw_train_y, raw_test_grid, raw_pred_labels, raw_upper_surf, raw_lower_surf, acqs)"
   ],
   "outputs": [
    {
     "output_type": "display_data",
     "data": {
      "application/vnd.plotly.v1+json": {
       "data": [
        {
         "name": "GP regression",
         "x": [
          2.276071548461914,
          2.745652675628662,
          3.2152340412139893,
          3.6848151683807373,
          4.1543965339660645,
          4.6239776611328125,
          5.093559265136719,
          5.563139915466309,
          6.032721519470215,
          6.502302646636963,
          6.971883773803711,
          7.441464900970459,
          7.911046028137207,
          8.380627632141113,
          8.850208282470703,
          9.31978988647461,
          9.789371490478516,
          10.258953094482422,
          10.728534698486328,
          11.198114395141602,
          11.667695999145508,
          12.137277603149414,
          12.60685920715332,
          13.076440811157227,
          13.5460205078125,
          14.015602111816406,
          14.485183715820312,
          14.954765319824219,
          15.424346923828125,
          15.893926620483398
         ],
         "y": [
          0.3392857015132904,
          0.5055418610572815,
          0.6717979907989502,
          0.8380541801452637,
          1.0043103694915771,
          1.1705665588378906,
          1.3368226289749146,
          1.503078818321228,
          1.669334888458252,
          1.8355910778045654,
          2.001847267150879,
          2.1681032180786133,
          2.334359645843506,
          2.5006155967712402,
          2.666872024536133,
          2.833127975463867,
          2.9993844032287598,
          3.165640354156494,
          3.3318967819213867,
          3.498152494430542,
          3.6644086837768555,
          3.830664873123169,
          3.9969210624694824,
          4.163177490234375,
          4.329433441162109,
          4.495689392089844,
          4.661945819854736,
          4.828201770782471,
          4.994458198547363,
          5.160714149475098
         ],
         "z": [
          [
           1.6004858016967773,
           1.6439712047576904,
           1.6988236904144287,
           1.7496881484985352,
           1.8022575378417969,
           1.8776888847351074,
           1.9810471534729004,
           2.0939958095550537,
           2.195610761642456,
           2.27656888961792,
           2.337658405303955,
           2.383573055267334,
           2.418659210205078,
           2.445993185043335,
           2.467593193054199,
           2.4847891330718994,
           2.4984638690948486,
           2.5092406272888184,
           2.517564296722412,
           2.5237884521484375,
           2.5282039642333984,
           2.531060218811035,
           2.532553195953369,
           2.532876968383789,
           2.5321974754333496,
           2.5306601524353027,
           2.528395414352417,
           2.525527000427246,
           2.522160053253174,
           2.5183911323547363
          ],
          [
           1.1550531387329102,
           1.134800910949707,
           2.014477252960205,
           1.958709716796875,
           1.258387565612793,
           1.1852025985717773,
           1.909982681274414,
           2.3841753005981445,
           2.429279327392578,
           2.4644217491149902,
           2.495352268218994,
           2.5224552154541016,
           2.5457711219787598,
           2.5654056072235107,
           2.581528663635254,
           2.594402313232422,
           2.604287624359131,
           2.611467123031616,
           2.6162052154541016,
           2.6187632083892822,
           2.6194095611572266,
           2.6183924674987793,
           2.6159229278564453,
           2.612225294113159,
           2.607497453689575,
           2.601914405822754,
           2.595640182495117,
           2.5888242721557617,
           2.581594705581665,
           2.5740718841552734
          ],
          [
           1.5655577182769775,
           1.6190247535705566,
           1.6898674964904785,
           1.7669591903686523,
           1.8536291122436523,
           1.9632935523986816,
           2.09678316116333,
           2.2368993759155273,
           2.363952159881592,
           2.467752456665039,
           2.5475902557373047,
           2.6074299812316895,
           2.651876449584961,
           2.6846251487731934,
           2.7083382606506348,
           2.724921703338623,
           2.7357401847839355,
           2.7418267726898193,
           2.7439842224121094,
           2.74287486076355,
           2.7390620708465576,
           2.733022928237915,
           2.7251548767089844,
           2.7158217430114746,
           2.705338954925537,
           2.693974494934082,
           2.6819682121276855,
           2.669529438018799,
           2.656834840774536,
           2.644040107727051
          ],
          [
           1.7244913578033447,
           1.7552661895751953,
           1.8124165534973145,
           1.9023246765136719,
           2.026546001434326,
           2.177680492401123,
           2.3398404121398926,
           2.4930367469787598,
           2.6190147399902344,
           2.7091689109802246,
           2.770045757293701,
           2.815324306488037,
           2.8526649475097656,
           2.8823795318603516,
           2.9035544395446777,
           2.9165520668029785,
           2.9225029945373535,
           2.922600269317627,
           2.9178764820098877,
           2.909186363220215,
           2.897270917892456,
           2.8827695846557617,
           2.866229295730591,
           2.8481526374816895,
           2.828974723815918,
           2.8090708255767822,
           2.7887685298919678,
           2.7683446407318115,
           2.7480249404907227,
           2.728001594543457
          ],
          [
           1.83589768409729,
           1.8165569305419922,
           1.7958664894104004,
           1.775282859802246,
           2.0182595252990723,
           2.3387317657470703,
           2.6573309898376465,
           2.9745140075683594,
           3.2903542518615723,
           3.4006175994873047,
           2.8864521980285645,
           3.0463919639587402,
           3.1613821983337402,
           3.174447536468506,
           3.1807241439819336,
           3.1807050704956055,
           3.1745376586914062,
           3.162600517272949,
           3.145482063293457,
           3.123911142349243,
           3.098702907562256,
           3.070694923400879,
           3.0406618118286133,
           3.0093235969543457,
           2.977303981781006,
           2.945126533508301,
           2.9132168292999268,
           2.881908893585205,
           2.8514604568481445,
           2.822063684463501
          ],
          [
           2.199819564819336,
           2.2507970333099365,
           2.324796199798584,
           2.42738938331604,
           2.5595855712890625,
           2.7144503593444824,
           2.8778114318847656,
           3.0322694778442383,
           3.162311553955078,
           3.2607808113098145,
           3.3326663970947266,
           3.3884005546569824,
           3.4332127571105957,
           3.4661154747009277,
           3.4848475456237793,
           3.488633155822754,
           3.4782519340515137,
           3.455496311187744,
           3.4226977825164795,
           3.3823459148406982,
           3.3368024826049805,
           3.2881171703338623,
           3.237933397293091,
           3.1875181198120117,
           3.1377954483032227,
           3.0894155502319336,
           3.042809009552002,
           2.9982471466064453,
           2.955888509750366,
           2.9158074855804443
          ],
          [
           2.4905788898468018,
           2.5664825439453125,
           2.6563897132873535,
           2.7599129676818848,
           2.8751561641693115,
           2.9984688758850098,
           3.124918222427368,
           3.2497406005859375,
           3.3700718879699707,
           3.4852347373962402,
           3.5950818061828613,
           3.6979103088378906,
           3.7888541221618652,
           3.8594141006469727,
           3.899381637573242,
           3.9021410942077637,
           3.8696212768554688,
           3.8109889030456543,
           3.736978054046631,
           3.6560704708099365,
           3.5737385749816895,
           3.4931249618530273,
           3.415863037109375,
           3.342693567276001,
           3.2738635540008545,
           3.209357738494873,
           3.149030923843384,
           3.0926804542541504,
           3.040093421936035,
           2.991054058074951
          ],
          [
           2.572122573852539,
           2.64418625831604,
           2.72880220413208,
           2.8272225856781006,
           2.9407358169555664,
           3.070676565170288,
           3.218419313430786,
           3.336239814758301,
           3.410433769226074,
           3.506830930709839,
           3.6270909309387207,
           3.7727973461151123,
           3.9454715251922607,
           4.146334648132324,
           4.375133514404297,
           4.312491416931152,
           4.139335632324219,
           3.9893808364868164,
           3.859126091003418,
           3.744999885559082,
           3.643805980682373,
           3.5528554916381836,
           3.4700233936309814,
           3.3936996459960938,
           3.322744607925415,
           3.256375789642334,
           3.1940767765045166,
           3.1355109214782715,
           3.0804600715637207,
           3.0287673473358154
          ],
          [
           2.4483776092529297,
           2.4827632904052734,
           2.521618366241455,
           2.5646469593048096,
           2.611135482788086,
           2.6598849296569824,
           2.709569215774536,
           2.7597155570983887,
           2.8118278980255127,
           2.869232654571533,
           2.9354357719421387,
           3.012105941772461,
           3.0974273681640625,
           3.1852123737335205,
           3.266021251678467,
           3.3312482833862305,
           3.3774101734161377,
           3.4058351516723633,
           3.4192328453063965,
           3.419513702392578,
           3.407850742340088,
           3.3853883743286133,
           3.3536453247070312,
           3.314504861831665,
           3.269994020462036,
           3.2220399379730225,
           3.1723155975341797,
           3.1221790313720703,
           3.0726680755615234,
           3.0245368480682373
          ],
          [
           2.230883836746216,
           2.218311309814453,
           2.2022995948791504,
           2.181962490081787,
           2.156398057937622,
           2.124807357788086,
           2.0867278575897217,
           2.042328357696533,
           1.992887258529663,
           1.9414780139923096,
           1.8940558433532715,
           1.8610055446624756,
           1.858664631843567,
           1.908729076385498,
           2.031168222427368,
           2.229139566421509,
           2.476480007171631,
           2.7265336513519287,
           2.939385414123535,
           3.0959115028381348,
           3.1934075355529785,
           3.240144729614258,
           3.249516010284424,
           3.2342190742492676,
           3.203794240951538,
           3.1646957397460938,
           3.1211037635803223,
           3.0756940841674805,
           3.0301661491394043,
           2.985596179962158
          ],
          [
           2.0529255867004395,
           2.00972843170166,
           1.9590777158737183,
           1.899693489074707,
           1.830140471458435,
           1.74883234500885,
           1.654033899307251,
           1.543860673904419,
           1.416291356086731,
           1.2691707611083984,
           1.1002275943756104,
           0.9071056842803955,
           0.6873838901519775,
           0.4387643337249756,
           0.31743597984313965,
           0.6255297660827637,
           1.9769980907440186,
           2.8222012519836426,
           2.8400065898895264,
           3.3074216842651367,
           3.2704830169677734,
           3.230510711669922,
           3.18882417678833,
           3.1462202072143555,
           3.10337495803833,
           3.060853958129883,
           3.0191240310668945,
           2.9785470962524414,
           2.939398765563965,
           2.9018800258636475
          ],
          [
           1.9834697246551514,
           1.9355058670043945,
           1.8816511631011963,
           1.8214728832244873,
           1.75468111038208,
           1.6812384128570557,
           1.6015424728393555,
           1.51670503616333,
           1.4290196895599365,
           1.3426742553710938,
           1.2648720741271973,
           1.2073028087615967,
           1.187419056892395,
           1.227408766746521,
           1.3469607830047607,
           1.5488901138305664,
           1.8077020645141602,
           2.0780766010284424,
           2.3200104236602783,
           2.5125699043273926,
           2.6507177352905273,
           2.7403817176818848,
           2.7928740978240967,
           2.8194336891174316,
           2.8287134170532227,
           2.8266854286193848,
           2.81732177734375,
           2.8032491207122803,
           2.7862298488616943,
           2.767463207244873
          ],
          [
           2.0092906951904297,
           1.972672939300537,
           1.933692216873169,
           1.892732858657837,
           1.8504304885864258,
           1.8077490329742432,
           1.76607084274292,
           1.7272930145263672,
           1.6938972473144531,
           1.6689726114273071,
           1.6561073064804077,
           1.6591026782989502,
           1.6813913583755493,
           1.725232481956482,
           1.7907886505126953,
           1.8755077123641968,
           1.9741556644439697,
           2.0796968936920166,
           2.184696674346924,
           2.2827279567718506,
           2.369267463684082,
           2.441941261291504,
           2.500258445739746,
           2.545053005218506,
           2.577913761138916,
           2.6007180213928223,
           2.615323781967163,
           2.6234130859375,
           2.62642502784729,
           2.625548839569092
          ],
          [
           2.079777717590332,
           2.0566487312316895,
           2.033299207687378,
           2.010209560394287,
           1.9879896640777588,
           1.9673895835876465,
           1.9493005275726318,
           1.934739112854004,
           1.9248111248016357,
           1.9206463098526,
           1.9233059883117676,
           1.9336562156677246,
           1.9522325992584229,
           1.9791070222854614,
           2.0137929916381836,
           2.055229425430298,
           2.1018435955047607,
           2.151700019836426,
           2.202725410461426,
           2.252922534942627,
           2.3005588054656982,
           2.344304084777832,
           2.3832712173461914,
           2.416996479034424,
           2.4453859329223633,
           2.4686193466186523,
           2.4870686531066895,
           2.5012142658233643,
           2.5115861892700195,
           2.5187180042266846
          ],
          [
           2.155836582183838,
           2.1425046920776367,
           2.129669189453125,
           2.1176488399505615,
           2.106804370880127,
           2.0975348949432373,
           2.0902628898620605,
           2.085420608520508,
           2.083425521850586,
           2.084650754928589,
           2.0893936157226562,
           2.0978434085845947,
           2.1100499629974365,
           2.1259021759033203,
           2.1451196670532227,
           2.1672585010528564,
           2.1917312145233154,
           2.2178523540496826,
           2.2448806762695312,
           2.272071599960327,
           2.2987334728240967,
           2.3242578506469727,
           2.348151683807373,
           2.3700509071350098,
           2.389716625213623,
           2.4070286750793457,
           2.4219679832458496,
           2.4345955848693848,
           2.4450323581695557,
           2.453441619873047
          ],
          [
           2.2201766967773438,
           2.212798833847046,
           2.205990791320801,
           2.199930429458618,
           2.1948001384735107,
           2.1907899379730225,
           2.1880860328674316,
           2.186864137649536,
           2.187279462814331,
           2.1894545555114746,
           2.1934728622436523,
           2.199369192123413,
           2.207118511199951,
           2.2166378498077393,
           2.227782726287842,
           2.2403526306152344,
           2.2540981769561768,
           2.268734931945801,
           2.2839555740356445,
           2.299445867538452,
           2.314901828765869,
           2.3300397396087646,
           2.3446099758148193,
           2.3584036827087402,
           2.371255874633789,
           2.3830482959747314,
           2.393704652786255,
           2.403189182281494,
           2.4115023612976074,
           2.418670177459717
          ],
          [
           2.2687931060791016,
           2.2647781372070312,
           2.2612264156341553,
           2.2582292556762695,
           2.2558765411376953,
           2.254256248474121,
           2.2534499168395996,
           2.253530263900757,
           2.254554510116577,
           2.2565653324127197,
           2.259582996368408,
           2.2636067867279053,
           2.2686095237731934,
           2.2745418548583984,
           2.281327962875366,
           2.2888693809509277,
           2.297051429748535,
           2.3057408332824707,
           2.3147966861724854,
           2.32407283782959,
           2.3334240913391113,
           2.3427114486694336,
           2.3518054485321045,
           2.3605923652648926,
           2.3689725399017334,
           2.376866340637207,
           2.3842110633850098,
           2.3909640312194824,
           2.397097110748291,
           2.4026005268096924
          ],
          [
           2.302952289581299,
           2.300779342651367,
           2.2989516258239746,
           2.297515869140625,
           2.2965164184570312,
           2.2959954738616943,
           2.295989990234375,
           2.296530246734619,
           2.297638416290283,
           2.2993290424346924,
           2.3016042709350586,
           2.3044564723968506,
           2.3078672885894775,
           2.311805486679077,
           2.316230058670044,
           2.321089506149292,
           2.3263237476348877,
           2.3318660259246826,
           2.337643623352051,
           2.34358286857605,
           2.3496077060699463,
           2.3556442260742188,
           2.3616220951080322,
           2.367475986480713,
           2.3731465339660645,
           2.3785831928253174,
           2.3837413787841797,
           2.3885865211486816,
           2.393092632293701,
           2.397240400314331
          ],
          [
           2.3251492977142334,
           2.3239588737487793,
           2.3230299949645996,
           2.3223888874053955,
           2.3220601081848145,
           2.3220648765563965,
           2.3224217891693115,
           2.3231446743011475,
           2.3242428302764893,
           2.3257205486297607,
           2.327575922012329,
           2.3298017978668213,
           2.332383871078491,
           2.33530330657959,
           2.338534355163574,
           2.3420464992523193,
           2.345804214477539,
           2.349768877029419,
           2.353898048400879,
           2.3581478595733643,
           2.362473964691162,
           2.366830587387085,
           2.3711745738983154,
           2.3754642009735107,
           2.3796603679656982,
           2.383727550506592,
           2.387633800506592,
           2.3913516998291016,
           2.3948588371276855,
           2.3981363773345947
          ],
          [
           2.337534189224243,
           2.3368184566497803,
           2.3363232612609863,
           2.336066246032715,
           2.3360648155212402,
           2.3363327980041504,
           2.3368825912475586,
           2.3377225399017334,
           2.3388588428497314,
           2.3402931690216064,
           2.3420233726501465,
           2.344043254852295,
           2.346342086791992,
           2.348905563354492,
           2.351714611053467,
           2.3547470569610596,
           2.3579764366149902,
           2.3613743782043457,
           2.3649094104766846,
           2.3685479164123535,
           2.37225604057312,
           2.3759982585906982,
           2.3797404766082764,
           2.3834481239318848,
           2.3870887756347656,
           2.390632152557373,
           2.394050121307373,
           2.397317409515381,
           2.400412082672119,
           2.403315782546997
          ],
          [
           2.3414158821105957,
           2.3408195972442627,
           2.340440511703491,
           2.3402979373931885,
           2.3404088020324707,
           2.340789556503296,
           2.3414533138275146,
           2.3424108028411865,
           2.3436696529388428,
           2.345233678817749,
           2.3471028804779053,
           2.349273204803467,
           2.351735830307007,
           2.3544774055480957,
           2.357480525970459,
           2.360722780227661,
           2.364177942276001,
           2.36781644821167,
           2.3716046810150146,
           2.375507354736328,
           2.379486322402954,
           2.383502960205078,
           2.3875181674957275,
           2.3914926052093506,
           2.395388603210449,
           2.3991708755493164,
           2.402805805206299,
           2.406263589859009,
           2.409517765045166,
           2.412546396255493
          ],
          [
           2.3371741771698,
           2.336346387863159,
           2.335766315460205,
           2.3354623317718506,
           2.335461139678955,
           2.3357884883880615,
           2.336467742919922,
           2.337519645690918,
           2.3389599323272705,
           2.340801477432251,
           2.343050241470337,
           2.3457064628601074,
           2.3487648963928223,
           2.3522119522094727,
           2.3560268878936768,
           2.360182762145996,
           2.3646442890167236,
           2.369370460510254,
           2.3743138313293457,
           2.379422187805176,
           2.384639263153076,
           2.389906644821167,
           2.3951642513275146,
           2.400352716445923,
           2.4054136276245117,
           2.4102931022644043,
           2.4149398803710938,
           2.419309616088867,
           2.4233639240264893,
           2.4270708560943604
          ],
          [
           2.3243372440338135,
           2.32279372215271,
           2.321552276611328,
           2.3206615447998047,
           2.3201699256896973,
           2.3201262950897217,
           2.320577621459961,
           2.321568012237549,
           2.323136568069458,
           2.325315475463867,
           2.328129768371582,
           2.3315930366516113,
           2.3357086181640625,
           2.340466022491455,
           2.3458409309387207,
           2.3517954349517822,
           2.3582756519317627,
           2.36521577835083,
           2.372535228729248,
           2.3801448345184326,
           2.3879454135894775,
           2.3958308696746826,
           2.4036946296691895,
           2.4114274978637695,
           2.4189250469207764,
           2.4260900020599365,
           2.4328324794769287,
           2.4390764236450195,
           2.4447574615478516,
           2.449826955795288
          ],
          [
           2.301846742630005,
           2.2988085746765137,
           2.2961232662200928,
           2.293874979019165,
           2.292153835296631,
           2.2910540103912354,
           2.2906713485717773,
           2.2911019325256348,
           2.292436122894287,
           2.294757127761841,
           2.298135280609131,
           2.3026251792907715,
           2.308258295059204,
           2.3150432109832764,
           2.322958469390869,
           2.331953525543213,
           2.341944932937622,
           2.3528189659118652,
           2.3644320964813232,
           2.3766157627105713,
           2.389179229736328,
           2.4019179344177246,
           2.4146180152893066,
           2.4270660877227783,
           2.439053773880005,
           2.4503912925720215,
           2.4609060287475586,
           2.470457077026367,
           2.478931427001953,
           2.4862515926361084
          ],
          [
           2.2687408924102783,
           2.262958288192749,
           2.2575011253356934,
           2.2525076866149902,
           2.2481346130371094,
           2.2445578575134277,
           2.2419660091400146,
           2.2405593395233154,
           2.2405447959899902,
           2.2421224117279053,
           2.245481014251709,
           2.250784158706665,
           2.25815749168396,
           2.267678737640381,
           2.2793660163879395,
           2.2931692600250244,
           2.3089675903320312,
           2.3265652656555176,
           2.345698356628418,
           2.3660385608673096,
           2.387202262878418,
           2.4087696075439453,
           2.4302945137023926,
           2.4513232707977295,
           2.4714207649230957,
           2.490182638168335,
           2.5072576999664307,
           2.5223631858825684,
           2.535299777984619,
           2.5459487438201904
          ],
          [
           2.22568941116333,
           2.2153773307800293,
           2.20512318611145,
           2.1951186656951904,
           2.185600996017456,
           2.176858901977539,
           2.1692323684692383,
           2.1631133556365967,
           2.158940553665161,
           2.1571836471557617,
           2.1583242416381836,
           2.1628267765045166,
           2.1710989475250244,
           2.1834566593170166,
           2.200084686279297,
           2.22100567817688,
           2.2460718154907227,
           2.274951696395874,
           2.3071508407592773,
           2.342024564743042,
           2.378795623779297,
           2.4165902137756348,
           2.4544529914855957,
           2.4913840293884277,
           2.526394844055176,
           2.5585553646087646,
           2.587062120437622,
           2.6113011837005615,
           2.630894422531128,
           2.6457061767578125
          ],
          [
           2.1777167320251465,
           2.161018133163452,
           2.1436383724212646,
           2.1257426738739014,
           2.107572317123413,
           2.089470386505127,
           2.0719027519226074,
           2.0554890632629395,
           2.0410306453704834,
           2.0295162200927734,
           2.0221211910247803,
           2.020146608352661,
           2.024909496307373,
           2.0375819206237793,
           2.0589921474456787,
           2.0894699096679688,
           2.1287994384765625,
           2.176257371902466,
           2.2307729721069336,
           2.29105544090271,
           2.3556742668151855,
           2.4230706691741943,
           2.4914615154266357,
           2.558759927749634,
           2.622560501098633,
           2.6803154945373535,
           2.7296361923217773,
           2.768761157989502,
           2.796842098236084,
           2.8140430450439453
          ],
          [
           2.1369192600250244,
           2.1135551929473877,
           2.088334560394287,
           2.0612058639526367,
           2.0321643352508545,
           2.0012848377227783,
           1.9687590599060059,
           1.9349749088287354,
           1.9006357192993164,
           1.8669283390045166,
           1.835814118385315,
           1.81036376953125,
           1.7950336933135986,
           1.7953848838806152,
           1.8164650201797485,
           1.8602536916732788,
           1.9245429039001465,
           2.0046133995056152,
           2.095829486846924,
           2.1949753761291504,
           2.300447940826416,
           2.4119906425476074,
           2.530020236968994,
           2.6541428565979004,
           2.780442237854004,
           2.898984909057617,
           2.9956836700439453,
           3.059457778930664,
           3.088533401489258,
           3.089277982711792
          ],
          [
           2.119960308074951,
           2.093405246734619,
           2.064284324645996,
           2.032348871231079,
           1.9973257780075073,
           1.9589189291000366,
           1.9167989492416382,
           1.8706061840057373,
           1.8199530839920044,
           1.764404535293579,
           1.703500747680664,
           1.636742115020752,
           1.563606858253479,
           1.4838345050811768,
           1.4286738634109497,
           1.5713950395584106,
           1.713616132736206,
           1.85031259059906,
           1.9824436902999878,
           2.111098527908325,
           2.2373509407043457,
           2.3623063564300537,
           2.487100124359131,
           2.613373279571533,
           2.829604387283325,
           3.1931402683258057,
           3.5609142780303955,
           3.5428569316864014,
           3.4462082386016846,
           3.3542981147766113
          ],
          [
           2.1358890533447266,
           2.112161636352539,
           2.0864977836608887,
           2.0588278770446777,
           2.0291223526000977,
           1.9974231719970703,
           1.963881492614746,
           1.9288326501846313,
           1.8929194211959839,
           1.8572664260864258,
           1.8238006830215454,
           1.795661211013794,
           1.7776124477386475,
           1.7758952379226685,
           1.7964200973510742,
           1.8415260314941406,
           1.908484935760498,
           1.9917197227478027,
           2.0860157012939453,
           2.187960147857666,
           2.296017646789551,
           2.4102210998535156,
           2.5315370559692383,
           2.6603288650512695,
           2.7930803298950195,
           2.9188854694366455,
           3.0212388038635254,
           3.0870227813720703,
           3.1146063804626465,
           3.112013816833496
          ]
         ],
         "type": "surface"
        },
        {
         "marker": {
          "color": "darkgreen"
         },
         "mode": "markers",
         "name": "training data",
         "x": [
          2.7300000190734863,
          3.4000000953674316,
          3.7899999618530273,
          6.440000057220459,
          5.360000133514404,
          8.989999771118164,
          8.800000190734863,
          14.670000076293945,
          5.239999771118164,
          14.889999389648438,
          10.130000114440918,
          4.510000228881836,
          5.369999885559082,
          4.880000114440918,
          6.760000228881836,
          7.769999980926514,
          8.729999542236328,
          9.380000114440918,
          10.479999542236328,
          11.010000228881836,
          14.709999084472656,
          15.439998626708984,
          13.369998931884766
         ],
         "y": [
          0.5,
          0.5,
          1,
          1,
          1.5,
          1.5,
          5,
          5,
          0.5,
          5,
          2,
          0.5,
          0.5,
          0.5,
          1,
          1,
          2,
          2,
          2,
          2,
          5,
          5,
          5
         ],
         "z": [
          0.8730257153511047,
          2.6772446632385254,
          1.6990152597427368,
          3.8050527572631836,
          3.3348562717437744,
          4.535152912139893,
          1.3625102043151855,
          3.8412907123565674,
          1.2013570070266724,
          3.5136520862579346,
          3.4708714485168457,
          0.26329824328422546,
          2.7753403186798096,
          2.591306209564209,
          2.579984426498413,
          3.173818588256836,
          0.13150499761104584,
          0.45116370916366577,
          2.1266398429870605,
          3.468212842941284,
          3.685852527618408,
          3.445655584335327,
          2.6515469551086426
         ],
         "type": "scatter3d"
        }
       ],
       "layout": {
        "template": {
         "data": {
          "histogram2dcontour": [
           {
            "type": "histogram2dcontour",
            "colorbar": {
             "outlinewidth": 0,
             "ticks": ""
            },
            "colorscale": [
             [
              0,
              "#0d0887"
             ],
             [
              0.1111111111111111,
              "#46039f"
             ],
             [
              0.2222222222222222,
              "#7201a8"
             ],
             [
              0.3333333333333333,
              "#9c179e"
             ],
             [
              0.4444444444444444,
              "#bd3786"
             ],
             [
              0.5555555555555556,
              "#d8576b"
             ],
             [
              0.6666666666666666,
              "#ed7953"
             ],
             [
              0.7777777777777778,
              "#fb9f3a"
             ],
             [
              0.8888888888888888,
              "#fdca26"
             ],
             [
              1,
              "#f0f921"
             ]
            ]
           }
          ],
          "choropleth": [
           {
            "type": "choropleth",
            "colorbar": {
             "outlinewidth": 0,
             "ticks": ""
            }
           }
          ],
          "histogram2d": [
           {
            "type": "histogram2d",
            "colorbar": {
             "outlinewidth": 0,
             "ticks": ""
            },
            "colorscale": [
             [
              0,
              "#0d0887"
             ],
             [
              0.1111111111111111,
              "#46039f"
             ],
             [
              0.2222222222222222,
              "#7201a8"
             ],
             [
              0.3333333333333333,
              "#9c179e"
             ],
             [
              0.4444444444444444,
              "#bd3786"
             ],
             [
              0.5555555555555556,
              "#d8576b"
             ],
             [
              0.6666666666666666,
              "#ed7953"
             ],
             [
              0.7777777777777778,
              "#fb9f3a"
             ],
             [
              0.8888888888888888,
              "#fdca26"
             ],
             [
              1,
              "#f0f921"
             ]
            ]
           }
          ],
          "heatmap": [
           {
            "type": "heatmap",
            "colorbar": {
             "outlinewidth": 0,
             "ticks": ""
            },
            "colorscale": [
             [
              0,
              "#0d0887"
             ],
             [
              0.1111111111111111,
              "#46039f"
             ],
             [
              0.2222222222222222,
              "#7201a8"
             ],
             [
              0.3333333333333333,
              "#9c179e"
             ],
             [
              0.4444444444444444,
              "#bd3786"
             ],
             [
              0.5555555555555556,
              "#d8576b"
             ],
             [
              0.6666666666666666,
              "#ed7953"
             ],
             [
              0.7777777777777778,
              "#fb9f3a"
             ],
             [
              0.8888888888888888,
              "#fdca26"
             ],
             [
              1,
              "#f0f921"
             ]
            ]
           }
          ],
          "heatmapgl": [
           {
            "type": "heatmapgl",
            "colorbar": {
             "outlinewidth": 0,
             "ticks": ""
            },
            "colorscale": [
             [
              0,
              "#0d0887"
             ],
             [
              0.1111111111111111,
              "#46039f"
             ],
             [
              0.2222222222222222,
              "#7201a8"
             ],
             [
              0.3333333333333333,
              "#9c179e"
             ],
             [
              0.4444444444444444,
              "#bd3786"
             ],
             [
              0.5555555555555556,
              "#d8576b"
             ],
             [
              0.6666666666666666,
              "#ed7953"
             ],
             [
              0.7777777777777778,
              "#fb9f3a"
             ],
             [
              0.8888888888888888,
              "#fdca26"
             ],
             [
              1,
              "#f0f921"
             ]
            ]
           }
          ],
          "contourcarpet": [
           {
            "type": "contourcarpet",
            "colorbar": {
             "outlinewidth": 0,
             "ticks": ""
            }
           }
          ],
          "contour": [
           {
            "type": "contour",
            "colorbar": {
             "outlinewidth": 0,
             "ticks": ""
            },
            "colorscale": [
             [
              0,
              "#0d0887"
             ],
             [
              0.1111111111111111,
              "#46039f"
             ],
             [
              0.2222222222222222,
              "#7201a8"
             ],
             [
              0.3333333333333333,
              "#9c179e"
             ],
             [
              0.4444444444444444,
              "#bd3786"
             ],
             [
              0.5555555555555556,
              "#d8576b"
             ],
             [
              0.6666666666666666,
              "#ed7953"
             ],
             [
              0.7777777777777778,
              "#fb9f3a"
             ],
             [
              0.8888888888888888,
              "#fdca26"
             ],
             [
              1,
              "#f0f921"
             ]
            ]
           }
          ],
          "surface": [
           {
            "type": "surface",
            "colorbar": {
             "outlinewidth": 0,
             "ticks": ""
            },
            "colorscale": [
             [
              0,
              "#0d0887"
             ],
             [
              0.1111111111111111,
              "#46039f"
             ],
             [
              0.2222222222222222,
              "#7201a8"
             ],
             [
              0.3333333333333333,
              "#9c179e"
             ],
             [
              0.4444444444444444,
              "#bd3786"
             ],
             [
              0.5555555555555556,
              "#d8576b"
             ],
             [
              0.6666666666666666,
              "#ed7953"
             ],
             [
              0.7777777777777778,
              "#fb9f3a"
             ],
             [
              0.8888888888888888,
              "#fdca26"
             ],
             [
              1,
              "#f0f921"
             ]
            ]
           }
          ],
          "mesh3d": [
           {
            "type": "mesh3d",
            "colorbar": {
             "outlinewidth": 0,
             "ticks": ""
            }
           }
          ],
          "scatter": [
           {
            "fillpattern": {
             "fillmode": "overlay",
             "size": 10,
             "solidity": 0.2
            },
            "type": "scatter"
           }
          ],
          "parcoords": [
           {
            "type": "parcoords",
            "line": {
             "colorbar": {
              "outlinewidth": 0,
              "ticks": ""
             }
            }
           }
          ],
          "scatterpolargl": [
           {
            "type": "scatterpolargl",
            "marker": {
             "colorbar": {
              "outlinewidth": 0,
              "ticks": ""
             }
            }
           }
          ],
          "bar": [
           {
            "error_x": {
             "color": "#2a3f5f"
            },
            "error_y": {
             "color": "#2a3f5f"
            },
            "marker": {
             "line": {
              "color": "#E5ECF6",
              "width": 0.5
             },
             "pattern": {
              "fillmode": "overlay",
              "size": 10,
              "solidity": 0.2
             }
            },
            "type": "bar"
           }
          ],
          "scattergeo": [
           {
            "type": "scattergeo",
            "marker": {
             "colorbar": {
              "outlinewidth": 0,
              "ticks": ""
             }
            }
           }
          ],
          "scatterpolar": [
           {
            "type": "scatterpolar",
            "marker": {
             "colorbar": {
              "outlinewidth": 0,
              "ticks": ""
             }
            }
           }
          ],
          "histogram": [
           {
            "marker": {
             "pattern": {
              "fillmode": "overlay",
              "size": 10,
              "solidity": 0.2
             }
            },
            "type": "histogram"
           }
          ],
          "scattergl": [
           {
            "type": "scattergl",
            "marker": {
             "colorbar": {
              "outlinewidth": 0,
              "ticks": ""
             }
            }
           }
          ],
          "scatter3d": [
           {
            "type": "scatter3d",
            "line": {
             "colorbar": {
              "outlinewidth": 0,
              "ticks": ""
             }
            },
            "marker": {
             "colorbar": {
              "outlinewidth": 0,
              "ticks": ""
             }
            }
           }
          ],
          "scattermapbox": [
           {
            "type": "scattermapbox",
            "marker": {
             "colorbar": {
              "outlinewidth": 0,
              "ticks": ""
             }
            }
           }
          ],
          "scatterternary": [
           {
            "type": "scatterternary",
            "marker": {
             "colorbar": {
              "outlinewidth": 0,
              "ticks": ""
             }
            }
           }
          ],
          "scattercarpet": [
           {
            "type": "scattercarpet",
            "marker": {
             "colorbar": {
              "outlinewidth": 0,
              "ticks": ""
             }
            }
           }
          ],
          "carpet": [
           {
            "aaxis": {
             "endlinecolor": "#2a3f5f",
             "gridcolor": "white",
             "linecolor": "white",
             "minorgridcolor": "white",
             "startlinecolor": "#2a3f5f"
            },
            "baxis": {
             "endlinecolor": "#2a3f5f",
             "gridcolor": "white",
             "linecolor": "white",
             "minorgridcolor": "white",
             "startlinecolor": "#2a3f5f"
            },
            "type": "carpet"
           }
          ],
          "table": [
           {
            "cells": {
             "fill": {
              "color": "#EBF0F8"
             },
             "line": {
              "color": "white"
             }
            },
            "header": {
             "fill": {
              "color": "#C8D4E3"
             },
             "line": {
              "color": "white"
             }
            },
            "type": "table"
           }
          ],
          "barpolar": [
           {
            "marker": {
             "line": {
              "color": "#E5ECF6",
              "width": 0.5
             },
             "pattern": {
              "fillmode": "overlay",
              "size": 10,
              "solidity": 0.2
             }
            },
            "type": "barpolar"
           }
          ],
          "pie": [
           {
            "automargin": true,
            "type": "pie"
           }
          ]
         },
         "layout": {
          "autotypenumbers": "strict",
          "colorway": [
           "#636efa",
           "#EF553B",
           "#00cc96",
           "#ab63fa",
           "#FFA15A",
           "#19d3f3",
           "#FF6692",
           "#B6E880",
           "#FF97FF",
           "#FECB52"
          ],
          "font": {
           "color": "#2a3f5f"
          },
          "hovermode": "closest",
          "hoverlabel": {
           "align": "left"
          },
          "paper_bgcolor": "white",
          "plot_bgcolor": "#E5ECF6",
          "polar": {
           "bgcolor": "#E5ECF6",
           "angularaxis": {
            "gridcolor": "white",
            "linecolor": "white",
            "ticks": ""
           },
           "radialaxis": {
            "gridcolor": "white",
            "linecolor": "white",
            "ticks": ""
           }
          },
          "ternary": {
           "bgcolor": "#E5ECF6",
           "aaxis": {
            "gridcolor": "white",
            "linecolor": "white",
            "ticks": ""
           },
           "baxis": {
            "gridcolor": "white",
            "linecolor": "white",
            "ticks": ""
           },
           "caxis": {
            "gridcolor": "white",
            "linecolor": "white",
            "ticks": ""
           }
          },
          "coloraxis": {
           "colorbar": {
            "outlinewidth": 0,
            "ticks": ""
           }
          },
          "colorscale": {
           "sequential": [
            [
             0,
             "#0d0887"
            ],
            [
             0.1111111111111111,
             "#46039f"
            ],
            [
             0.2222222222222222,
             "#7201a8"
            ],
            [
             0.3333333333333333,
             "#9c179e"
            ],
            [
             0.4444444444444444,
             "#bd3786"
            ],
            [
             0.5555555555555556,
             "#d8576b"
            ],
            [
             0.6666666666666666,
             "#ed7953"
            ],
            [
             0.7777777777777778,
             "#fb9f3a"
            ],
            [
             0.8888888888888888,
             "#fdca26"
            ],
            [
             1,
             "#f0f921"
            ]
           ],
           "sequentialminus": [
            [
             0,
             "#0d0887"
            ],
            [
             0.1111111111111111,
             "#46039f"
            ],
            [
             0.2222222222222222,
             "#7201a8"
            ],
            [
             0.3333333333333333,
             "#9c179e"
            ],
            [
             0.4444444444444444,
             "#bd3786"
            ],
            [
             0.5555555555555556,
             "#d8576b"
            ],
            [
             0.6666666666666666,
             "#ed7953"
            ],
            [
             0.7777777777777778,
             "#fb9f3a"
            ],
            [
             0.8888888888888888,
             "#fdca26"
            ],
            [
             1,
             "#f0f921"
            ]
           ],
           "diverging": [
            [
             0,
             "#8e0152"
            ],
            [
             0.1,
             "#c51b7d"
            ],
            [
             0.2,
             "#de77ae"
            ],
            [
             0.3,
             "#f1b6da"
            ],
            [
             0.4,
             "#fde0ef"
            ],
            [
             0.5,
             "#f7f7f7"
            ],
            [
             0.6,
             "#e6f5d0"
            ],
            [
             0.7,
             "#b8e186"
            ],
            [
             0.8,
             "#7fbc41"
            ],
            [
             0.9,
             "#4d9221"
            ],
            [
             1,
             "#276419"
            ]
           ]
          },
          "xaxis": {
           "gridcolor": "white",
           "linecolor": "white",
           "ticks": "",
           "title": {
            "standoff": 15
           },
           "zerolinecolor": "white",
           "automargin": true,
           "zerolinewidth": 2
          },
          "yaxis": {
           "gridcolor": "white",
           "linecolor": "white",
           "ticks": "",
           "title": {
            "standoff": 15
           },
           "zerolinecolor": "white",
           "automargin": true,
           "zerolinewidth": 2
          },
          "scene": {
           "xaxis": {
            "backgroundcolor": "#E5ECF6",
            "gridcolor": "white",
            "linecolor": "white",
            "showbackground": true,
            "ticks": "",
            "zerolinecolor": "white",
            "gridwidth": 2
           },
           "yaxis": {
            "backgroundcolor": "#E5ECF6",
            "gridcolor": "white",
            "linecolor": "white",
            "showbackground": true,
            "ticks": "",
            "zerolinecolor": "white",
            "gridwidth": 2
           },
           "zaxis": {
            "backgroundcolor": "#E5ECF6",
            "gridcolor": "white",
            "linecolor": "white",
            "showbackground": true,
            "ticks": "",
            "zerolinecolor": "white",
            "gridwidth": 2
           }
          },
          "shapedefaults": {
           "line": {
            "color": "#2a3f5f"
           }
          },
          "annotationdefaults": {
           "arrowcolor": "#2a3f5f",
           "arrowhead": 0,
           "arrowwidth": 1
          },
          "geo": {
           "bgcolor": "white",
           "landcolor": "#E5ECF6",
           "subunitcolor": "white",
           "showland": true,
           "showlakes": true,
           "lakecolor": "white"
          },
          "title": {
           "x": 0.05
          },
          "mapbox": {
           "style": "light"
          }
         }
        },
        "legend": {
         "orientation": "h",
         "yanchor": "top",
         "y": 1.02,
         "xanchor": "left",
         "x": 1
        },
        "margin": {
         "r": 20,
         "l": 10,
         "b": 10,
         "t": 10
        },
        "width": 1000,
        "height": 800,
        "scene": {
         "xaxis": {
          "title": {
           "text": "Energy density new cone (J/cm^2)"
          }
         },
         "yaxis": {
          "title": {
           "text": "Pulse Width (msec)"
          }
         },
         "zaxis": {
          "title": {
           "text": "2 Qsw/(U+|D|) 1e6"
          }
         },
         "camera": {
          "up": {
           "x": 0,
           "y": 0,
           "z": 1
          },
          "center": {
           "x": 0,
           "y": 0,
           "z": 0
          },
          "eye": {
           "x": -2,
           "y": -2.5,
           "z": 1.75
          }
         }
        }
       },
       "config": {
        "plotlyServerURL": "https://plot.ly"
       }
      }
     },
     "metadata": {}
    },
    {
     "output_type": "display_data",
     "data": {
      "application/vnd.plotly.v1+json": {
       "data": [
        {
         "opacity": 0.5,
         "showscale": false,
         "x": [
          2.276071548461914,
          2.745652675628662,
          3.2152340412139893,
          3.6848151683807373,
          4.1543965339660645,
          4.6239776611328125,
          5.093559265136719,
          5.563139915466309,
          6.032721519470215,
          6.502302646636963,
          6.971883773803711,
          7.441464900970459,
          7.911046028137207,
          8.380627632141113,
          8.850208282470703,
          9.31978988647461,
          9.789371490478516,
          10.258953094482422,
          10.728534698486328,
          11.198114395141602,
          11.667695999145508,
          12.137277603149414,
          12.60685920715332,
          13.076440811157227,
          13.5460205078125,
          14.015602111816406,
          14.485183715820312,
          14.954765319824219,
          15.424346923828125,
          15.893926620483398
         ],
         "y": [
          0.3392857015132904,
          0.5055418610572815,
          0.6717979907989502,
          0.8380541801452637,
          1.0043103694915771,
          1.1705665588378906,
          1.3368226289749146,
          1.503078818321228,
          1.669334888458252,
          1.8355910778045654,
          2.001847267150879,
          2.1681032180786133,
          2.334359645843506,
          2.5006155967712402,
          2.666872024536133,
          2.833127975463867,
          2.9993844032287598,
          3.165640354156494,
          3.3318967819213867,
          3.498152494430542,
          3.6644086837768555,
          3.830664873123169,
          3.9969210624694824,
          4.163177490234375,
          4.329433441162109,
          4.495689392089844,
          4.661945819854736,
          4.828201770782471,
          4.994458198547363,
          5.160714149475098
         ],
         "z": [
          [
           4.823294639587402,
           4.780773162841797,
           4.783687591552734,
           4.809946537017822,
           4.8557634353637695,
           4.940415382385254,
           5.076576232910156,
           5.255459785461426,
           5.457193851470947,
           5.661347389221191,
           5.85288143157959,
           6.024196147918701,
           6.173084259033203,
           6.300344467163086,
           6.408100128173828,
           6.498866081237793,
           6.575081825256348,
           6.638948917388916,
           6.692355155944824,
           6.736907958984375,
           6.773963451385498,
           6.804661750793457,
           6.829938888549805,
           6.8506059646606445,
           6.867341995239258,
           6.880722522735596,
           6.891241073608398,
           6.899326324462891,
           6.905344486236572,
           6.909614562988281
          ],
          [
           3.198725700378418,
           2.3766558170318604,
           3.4240856170654297,
           3.5531487464904785,
           2.9074716567993164,
           2.4423460960388184,
           3.158174514770508,
           3.944211006164551,
           4.720065116882324,
           5.215848922729492,
           5.573090553283691,
           5.844178199768066,
           6.056026458740234,
           6.224869251251221,
           6.361377716064453,
           6.472970008850098,
           6.564916610717773,
           6.641074180603027,
           6.70429801940918,
           6.756758689880371,
           6.800167560577393,
           6.835888385772705,
           6.865021705627441,
           6.888520240783691,
           6.907188415527344,
           6.921719074249268,
           6.93272066116333,
           6.940727233886719,
           6.946202278137207,
           6.949555397033691
          ],
          [
           4.690668106079102,
           4.65423059463501,
           4.666872024536133,
           4.711734294891357,
           4.783644199371338,
           4.8929243087768555,
           5.044821739196777,
           5.229194641113281,
           5.428457260131836,
           5.626086235046387,
           5.810908794403076,
           5.978165626525879,
           6.127500534057617,
           6.260464668273926,
           6.378884792327881,
           6.484188556671143,
           6.577278137207031,
           6.658770561218262,
           6.7292070388793945,
           6.789216995239258,
           6.839557647705078,
           6.88109016418457,
           6.914718151092529,
           6.941375732421875,
           6.961967945098877,
           6.977339744567871,
           6.988272190093994,
           6.9954705238342285,
           6.9995574951171875,
           7.001084804534912
          ],
          [
           5.00924015045166,
           4.916842460632324,
           4.870395183563232,
           4.891887664794922,
           4.987705230712891,
           5.136872291564941,
           5.301605224609375,
           5.448991775512695,
           5.563741683959961,
           5.650510787963867,
           5.727991104125977,
           5.8162946701049805,
           5.927914619445801,
           6.06430721282959,
           6.215534687042236,
           6.366909503936768,
           6.506858825683594,
           6.629412651062012,
           6.732855319976807,
           6.81787109375,
           6.886242866516113,
           6.94011926651001,
           6.981626510620117,
           7.012754917144775,
           7.035261154174805,
           7.050668716430664,
           7.060283660888672,
           7.065215110778809,
           7.066389560699463,
           7.064591407775879
          ],
          [
           4.876766204833984,
           4.513248443603516,
           4.003046035766602,
           3.185492992401123,
           3.85451078414917,
           4.597302436828613,
           5.044147491455078,
           5.249645233154297,
           5.166745662689209,
           4.596793174743652,
           4.3730854988098145,
           4.655750751495361,
           4.64285945892334,
           5.423161029815674,
           5.906026840209961,
           6.242798805236816,
           6.488978862762451,
           6.672727584838867,
           6.810978889465332,
           6.914939880371094,
           6.992521286010742,
           7.049551010131836,
           7.090421676635742,
           7.1185479164123535,
           7.136610984802246,
           7.14674186706543,
           7.150647163391113,
           7.149700164794922,
           7.145012378692627,
           7.137485504150391
          ],
          [
           5.635870456695557,
           5.557474136352539,
           5.5161452293396,
           5.532634735107422,
           5.614110469818115,
           5.744009017944336,
           5.890341758728027,
           6.023938179016113,
           6.130054473876953,
           6.210904121398926,
           6.280680179595947,
           6.355481147766113,
           6.445795059204102,
           6.553837776184082,
           6.672904014587402,
           6.791845321655273,
           6.901192665100098,
           6.995613098144531,
           7.073276519775391,
           7.13448429107666,
           7.180641174316406,
           7.213616847991943,
           7.235374450683594,
           7.247806549072266,
           7.252630233764648,
           7.251356601715088,
           7.245279788970947,
           7.23549222946167,
           7.222907066345215,
           7.208279609680176
          ],
          [
           6.1488542556762695,
           6.116794109344482,
           6.091280937194824,
           6.0751447677612305,
           6.073247909545898,
           6.094170570373535,
           6.14945125579834,
           6.245943069458008,
           6.375514507293701,
           6.5166497230529785,
           6.647326469421387,
           6.75419807434082,
           6.834303855895996,
           6.894265174865723,
           6.947525978088379,
           7.006468772888184,
           7.073407173156738,
           7.141319274902344,
           7.201980113983154,
           7.250761985778809,
           7.286567687988281,
           7.310288429260254,
           7.323602676391602,
           7.3283281326293945,
           7.326157569885254,
           7.318564414978027,
           7.306785583496094,
           7.291844844818115,
           7.274588584899902,
           7.255703926086426
          ],
          [
           6.274645805358887,
           6.201094627380371,
           6.102964401245117,
           5.967004776000977,
           5.77061653137207,
           5.470119953155518,
           4.955051422119141,
           4.932069778442383,
           5.639908790588379,
           6.060523986816406,
           6.320371627807617,
           6.455880165100098,
           6.466534614562988,
           6.312117576599121,
           5.841954231262207,
           6.157480239868164,
           6.598272323608398,
           6.8535847663879395,
           7.016746997833252,
           7.125322341918945,
           7.198428630828857,
           7.247061729431152,
           7.278071403503418,
           7.295979022979736,
           7.303948402404785,
           7.304285526275635,
           7.298739433288574,
           7.288674831390381,
           7.275187015533447,
           7.259159088134766
          ],
          [
           6.315027236938477,
           6.25142240524292,
           6.179566860198975,
           6.101776123046875,
           6.024176597595215,
           5.958221435546875,
           5.919272422790527,
           5.918797492980957,
           5.954565048217773,
           6.011350154876709,
           6.072196006774902,
           6.127326488494873,
           6.176231384277344,
           6.226511001586914,
           6.290475368499756,
           6.377716064453125,
           6.487370491027832,
           6.608851432800293,
           6.729594707489014,
           6.840512752532959,
           6.936845302581787,
           7.016982078552246,
           7.081149578094482,
           7.1305317878723145,
           7.166750907897949,
           7.191576957702637,
           7.206765651702881,
           7.213974475860596,
           7.2147064208984375,
           7.210288047790527
          ],
          [
           6.282408714294434,
           6.214702129364014,
           6.138833999633789,
           6.054504871368408,
           5.961483001708984,
           5.859424591064453,
           5.747718811035156,
           5.625473976135254,
           5.492076873779297,
           5.348626136779785,
           5.2005767822265625,
           5.061466217041016,
           4.956361293792725,
           4.920393943786621,
           4.985300064086914,
           5.156769752502441,
           5.403594970703125,
           5.675579071044922,
           5.93583345413208,
           6.1712751388549805,
           6.379571914672852,
           6.559140205383301,
           6.708682060241699,
           6.828885078430176,
           6.922436714172363,
           6.993059158325195,
           7.0446367263793945,
           7.080760478973389,
           7.104543685913086,
           7.118600368499756
          ],
          [
           6.221313953399658,
           6.1378631591796875,
           6.0410356521606445,
           5.9283061027526855,
           5.796505451202393,
           5.641615390777588,
           5.458498954772949,
           5.2405242919921875,
           4.979029178619385,
           4.66240119934082,
           4.274367332458496,
           3.790285348892212,
           3.1673128604888916,
           2.3086230754852295,
           1.6332348585128784,
           1.830600619316101,
           3.4796037673950195,
           4.0487380027771,
           4.20652961730957,
           4.873315811157227,
           5.582467079162598,
           6.014050483703613,
           6.310275077819824,
           6.522913932800293,
           6.67856502532959,
           6.793269157409668,
           6.877635955810547,
           6.939094543457031,
           6.983055591583252,
           7.013566970825195
          ],
          [
           6.230717658996582,
           6.152708530426025,
           6.06381893157959,
           5.962653160095215,
           5.847769737243652,
           5.71779727935791,
           5.571659088134766,
           5.4089860916137695,
           5.230872631072998,
           5.041158676147461,
           4.848570823669434,
           4.669689655303955,
           4.531591892242432,
           4.46986722946167,
           4.5156731605529785,
           4.674650192260742,
           4.916905879974365,
           5.193820476531982,
           5.468050956726074,
           5.724081039428711,
           5.957066535949707,
           6.16375732421875,
           6.341691970825195,
           6.490610122680664,
           6.612410545349121,
           6.710221290588379,
           6.787548065185547,
           6.8477582931518555,
           6.893865585327148,
           6.928462982177734
          ],
          [
           6.319892883300781,
           6.264094352722168,
           6.203241348266602,
           6.137446403503418,
           6.067118167877197,
           5.99307918548584,
           5.916723251342773,
           5.8401947021484375,
           5.76654577255249,
           5.699845790863037,
           5.645105361938477,
           5.607939720153809,
           5.593806266784668,
           5.606913089752197,
           5.649007797241211,
           5.718596458435059,
           5.811010360717773,
           5.919441223144531,
           6.036439895629883,
           6.155252456665039,
           6.27055549621582,
           6.378596305847168,
           6.477028846740723,
           6.564615249633789,
           6.640964984893799,
           6.706302165985107,
           6.761260032653809,
           6.806727409362793,
           6.843717575073242,
           6.873274803161621
          ],
          [
           6.439035892486572,
           6.4052348136901855,
           6.370078086853027,
           6.334033489227295,
           6.29774284362793,
           6.26204776763916,
           6.227999687194824,
           6.196861267089844,
           6.170071601867676,
           6.149180889129639,
           6.135740756988525,
           6.131152629852295,
           6.136491775512695,
           6.152336120605469,
           6.178634166717529,
           6.214658737182617,
           6.259058952331543,
           6.309994697570801,
           6.365368366241455,
           6.423030853271484,
           6.480975151062012,
           6.53748083114624,
           6.591182231903076,
           6.641077995300293,
           6.686520099639893,
           6.727161407470703,
           6.762903213500977,
           6.793835639953613,
           6.820188045501709,
           6.842281341552734
          ],
          [
           6.548177242279053,
           6.529377460479736,
           6.510647296905518,
           6.492335319519043,
           6.47484827041626,
           6.458656311035156,
           6.444275856018066,
           6.43225622177124,
           6.423155307769775,
           6.41750431060791,
           6.415771484375,
           6.418322563171387,
           6.425378799438477,
           6.436988353729248,
           6.453006267547607,
           6.473094940185547,
           6.496736526489258,
           6.523279190063477,
           6.551971435546875,
           6.582018852233887,
           6.612641334533691,
           6.643108367919922,
           6.672778129577637,
           6.701117992401123,
           6.727711200714111,
           6.752259254455566,
           6.77457332611084,
           6.79456090927124,
           6.812209129333496,
           6.827572345733643
          ],
          [
           6.632861137390137,
           6.622803688049316,
           6.613165855407715,
           6.6041460037231445,
           6.595954895019531,
           6.58881950378418,
           6.582968711853027,
           6.5786285400390625,
           6.576009750366211,
           6.575295448303223,
           6.576631546020508,
           6.580114364624023,
           6.585778713226318,
           6.593594551086426,
           6.603463172912598,
           6.615219593048096,
           6.62863826751709,
           6.643444061279297,
           6.659327507019043,
           6.675957679748535,
           6.693000316619873,
           6.710131645202637,
           6.727051734924316,
           6.743493556976318,
           6.759231090545654,
           6.774083137512207,
           6.787909507751465,
           6.800615310668945,
           6.812146186828613,
           6.822480201721191
          ],
          [
           6.69310998916626,
           6.687807559967041,
           6.682916641235352,
           6.678541660308838,
           6.67478609085083,
           6.671753883361816,
           6.669545650482178,
           6.668255805969238,
           6.667962074279785,
           6.668732643127441,
           6.670610427856445,
           6.673616409301758,
           6.677746772766113,
           6.682969570159912,
           6.689226150512695,
           6.69642972946167,
           6.704473972320557,
           6.713229656219482,
           6.722555160522461,
           6.732296943664551,
           6.742300987243652,
           6.752413272857666,
           6.762486457824707,
           6.7723870277404785,
           6.781991958618164,
           6.79119873046875,
           6.799921035766602,
           6.80809211730957,
           6.815661907196045,
           6.822600364685059
          ],
          [
           6.733503341674805,
           6.7307024002075195,
           6.7282304763793945,
           6.726140022277832,
           6.724481105804443,
           6.72330379486084,
           6.722654342651367,
           6.722569942474365,
           6.72308349609375,
           6.724217414855957,
           6.7259840965271,
           6.728384017944336,
           6.73140811920166,
           6.7350311279296875,
           6.739218711853027,
           6.743923187255859,
           6.749088287353516,
           6.7546491622924805,
           6.760531902313232,
           6.766660690307617,
           6.772955894470215,
           6.779339790344238,
           6.785733222961426,
           6.792065143585205,
           6.798266410827637,
           6.804278373718262,
           6.810047149658203,
           6.815528392791748,
           6.8206868171691895,
           6.825495719909668
          ],
          [
           6.758693695068359,
           6.7571611404418945,
           6.755885124206543,
           6.7548933029174805,
           6.754215240478516,
           6.753873825073242,
           6.75389289855957,
           6.754289627075195,
           6.755078315734863,
           6.756265640258789,
           6.757855415344238,
           6.759842872619629,
           6.762218475341797,
           6.764965534210205,
           6.768061637878418,
           6.771477699279785,
           6.775179862976074,
           6.779129981994629,
           6.7832865715026855,
           6.787604331970215,
           6.792037487030029,
           6.796539306640625,
           6.801063537597656,
           6.80556583404541,
           6.810003280639648,
           6.814337253570557,
           6.8185319900512695,
           6.822556495666504,
           6.826383590698242,
           6.829991340637207
          ],
          [
           6.771989822387695,
           6.771010398864746,
           6.770247459411621,
           6.769720077514648,
           6.769448757171631,
           6.769449234008789,
           6.7697367668151855,
           6.770321846008301,
           6.771213531494141,
           6.7724151611328125,
           6.773929119110107,
           6.775749683380127,
           6.777869701385498,
           6.780275821685791,
           6.782951354980469,
           6.78587532043457,
           6.789022922515869,
           6.792366027832031,
           6.795873641967773,
           6.79951286315918,
           6.803249359130859,
           6.807045936584473,
           6.810870170593262,
           6.81468391418457,
           6.818454265594482,
           6.822149753570557,
           6.825740337371826,
           6.829198837280273,
           6.832500457763672,
           6.835625648498535
          ],
          [
           6.775087833404541,
           6.774145126342773,
           6.773411750793457,
           6.772909164428711,
           6.7726569175720215,
           6.772674560546875,
           6.772977828979492,
           6.773581504821777,
           6.774496078491211,
           6.775728225708008,
           6.777281761169434,
           6.77915620803833,
           6.781344413757324,
           6.783836364746094,
           6.786616325378418,
           6.789664268493652,
           6.792956352233887,
           6.796464443206787,
           6.8001556396484375,
           6.803994655609131,
           6.807945251464844,
           6.811967849731445,
           6.8160247802734375,
           6.820075035095215,
           6.824080467224121,
           6.828005790710449,
           6.831815242767334,
           6.835477828979492,
           6.83896541595459,
           6.842253684997559
          ],
          [
           6.768078804016113,
           6.766617774963379,
           6.765383243560791,
           6.764408111572266,
           6.763723373413086,
           6.763360977172852,
           6.763350963592529,
           6.7637200355529785,
           6.764491081237793,
           6.765684127807617,
           6.767311096191406,
           6.769378662109375,
           6.771886825561523,
           6.77482795715332,
           6.77818489074707,
           6.781936168670654,
           6.786048889160156,
           6.7904839515686035,
           6.795197486877441,
           6.800137996673584,
           6.8052520751953125,
           6.810481071472168,
           6.815766334533691,
           6.821048736572266,
           6.826269149780273,
           6.831374168395996,
           6.836310386657715,
           6.8410325050354,
           6.845498085021973,
           6.849673271179199
          ],
          [
           6.749483108520508,
           6.74665641784668,
           6.744072914123535,
           6.741791248321533,
           6.739871501922607,
           6.738375663757324,
           6.737366199493408,
           6.736902236938477,
           6.737039566040039,
           6.737826347351074,
           6.739304065704346,
           6.741501331329346,
           6.744434356689453,
           6.748103618621826,
           6.752495288848877,
           6.757577896118164,
           6.763304710388184,
           6.769613265991211,
           6.776426315307617,
           6.783658027648926,
           6.791211128234863,
           6.798981666564941,
           6.8068671226501465,
           6.814759254455566,
           6.8225555419921875,
           6.830160140991211,
           6.837482452392578,
           6.84444522857666,
           6.850979328155518,
           6.857029914855957
          ],
          [
           6.716372489929199,
           6.710688591003418,
           6.705199241638184,
           6.700007438659668,
           6.695229530334473,
           6.690990447998047,
           6.687422275543213,
           6.684661865234375,
           6.6828436851501465,
           6.682093620300293,
           6.682525634765625,
           6.68423318862915,
           6.687281608581543,
           6.691705703735352,
           6.697503089904785,
           6.7046356201171875,
           6.71302604675293,
           6.722560405731201,
           6.733095169067383,
           6.744462013244629,
           6.756470680236816,
           6.768919944763184,
           6.781604766845703,
           6.7943220138549805,
           6.8068742752075195,
           6.819085597991943,
           6.830790042877197,
           6.841851234436035,
           6.8521528244018555,
           6.861605644226074
          ],
          [
           6.665067672729492,
           6.653908729553223,
           6.642643928527832,
           6.631441116333008,
           6.620506286621094,
           6.6100850105285645,
           6.600454330444336,
           6.591922760009766,
           6.584818363189697,
           6.579470634460449,
           6.576198101043701,
           6.575282096862793,
           6.576949119567871,
           6.58134651184082,
           6.588531494140625,
           6.5984601974487305,
           6.610991477966309,
           6.625890731811523,
           6.642849445343018,
           6.661502838134766,
           6.681447505950928,
           6.702267169952393,
           6.723544597625732,
           6.744875907897949,
           6.765888690948486,
           6.786247253417969,
           6.805658340454102,
           6.823883533477783,
           6.840737342834473,
           6.856086730957031
          ],
          [
           6.593586444854736,
           6.572779178619385,
           6.550874710083008,
           6.528068542480469,
           6.5046491622924805,
           6.481019496917725,
           6.457703590393066,
           6.435358047485352,
           6.414764404296875,
           6.396801471710205,
           6.382397651672363,
           6.372459411621094,
           6.367775917053223,
           6.368931770324707,
           6.376218795776367,
           6.389594078063965,
           6.408692359924316,
           6.432866096496582,
           6.4612836837768555,
           6.493024826049805,
           6.527155876159668,
           6.562798023223877,
           6.599142551422119,
           6.635449409484863,
           6.6710638999938965,
           6.705400466918945,
           6.737966537475586,
           6.768380165100098,
           6.796381950378418,
           6.821821212768555
          ],
          [
           6.5076212882995605,
           6.472094535827637,
           6.433060646057129,
           6.39044189453125,
           6.344303131103516,
           6.29492712020874,
           6.24289608001709,
           6.189209461212158,
           6.135401725769043,
           6.083615303039551,
           6.036628723144531,
           5.997692584991455,
           5.970152854919434,
           5.956875324249268,
           5.959527015686035,
           5.978088855743408,
           6.010828018188477,
           6.054736614227295,
           6.106366157531738,
           6.162592887878418,
           6.221116065979004,
           6.280575752258301,
           6.340292930603027,
           6.399810791015625,
           6.458498001098633,
           6.515419960021973,
           6.5695295333862305,
           6.620079040527344,
           6.666818618774414,
           6.709924697875977
          ],
          [
           6.4291839599609375,
           6.377082824707031,
           6.317590713500977,
           6.249662399291992,
           6.172165870666504,
           6.083948135375977,
           5.983928680419922,
           5.871334075927734,
           5.746138572692871,
           5.609810829162598,
           5.466710567474365,
           5.326045989990234,
           5.203904628753662,
           5.122616767883301,
           5.102659702301025,
           5.148814678192139,
           5.244675636291504,
           5.363262176513672,
           5.481025695800781,
           5.583763122558594,
           5.666684150695801,
           5.733384609222412,
           5.794623374938965,
           5.864356994628906,
           5.950554847717285,
           6.047075271606445,
           6.139521598815918,
           6.220375061035156,
           6.294929504394531,
           6.37324333190918
          ],
          [
           6.394834995269775,
           6.334397792816162,
           6.264159202575684,
           6.182226181030273,
           6.0862507820129395,
           5.97330379486084,
           5.8396477699279785,
           5.680438041687012,
           5.489247798919678,
           5.257179260253906,
           4.971396446228027,
           4.61184024810791,
           4.1432342529296875,
           3.4897384643554688,
           2.751110315322876,
           3.676309108734131,
           4.268709182739258,
           4.668484210968018,
           4.934409141540527,
           5.089339256286621,
           5.138155937194824,
           5.070304870605469,
           4.8516387939453125,
           4.386897087097168,
           4.322113990783691,
           5.002286434173584,
           5.008803367614746,
           4.763232231140137,
           4.678321838378906,
           5.4001054763793945
          ],
          [
           6.4261298179626465,
           6.373085021972656,
           6.312386512756348,
           6.242908477783203,
           6.163405895233154,
           6.072568416595459,
           5.9691033363342285,
           5.85194730758667,
           5.72069787979126,
           5.576375484466553,
           5.422945976257324,
           5.26966667175293,
           5.133955001831055,
           5.041683673858643,
           5.018062114715576,
           5.069579124450684,
           5.176290035247803,
           5.306032180786133,
           5.432005882263184,
           5.538838863372803,
           5.621692180633545,
           5.684908866882324,
           5.741206169128418,
           5.807889938354492,
           5.895631790161133,
           5.9969482421875,
           6.093465805053711,
           6.176031589508057,
           6.251978874206543,
           6.33416748046875
          ]
         ],
         "type": "surface"
        },
        {
         "opacity": 0.2,
         "showscale": false,
         "x": [
          2.276071548461914,
          2.745652675628662,
          3.2152340412139893,
          3.6848151683807373,
          4.1543965339660645,
          4.6239776611328125,
          5.093559265136719,
          5.563139915466309,
          6.032721519470215,
          6.502302646636963,
          6.971883773803711,
          7.441464900970459,
          7.911046028137207,
          8.380627632141113,
          8.850208282470703,
          9.31978988647461,
          9.789371490478516,
          10.258953094482422,
          10.728534698486328,
          11.198114395141602,
          11.667695999145508,
          12.137277603149414,
          12.60685920715332,
          13.076440811157227,
          13.5460205078125,
          14.015602111816406,
          14.485183715820312,
          14.954765319824219,
          15.424346923828125,
          15.893926620483398
         ],
         "y": [
          0.3392857015132904,
          0.5055418610572815,
          0.6717979907989502,
          0.8380541801452637,
          1.0043103694915771,
          1.1705665588378906,
          1.3368226289749146,
          1.503078818321228,
          1.669334888458252,
          1.8355910778045654,
          2.001847267150879,
          2.1681032180786133,
          2.334359645843506,
          2.5006155967712402,
          2.666872024536133,
          2.833127975463867,
          2.9993844032287598,
          3.165640354156494,
          3.3318967819213867,
          3.498152494430542,
          3.6644086837768555,
          3.830664873123169,
          3.9969210624694824,
          4.163177490234375,
          4.329433441162109,
          4.495689392089844,
          4.661945819854736,
          4.828201770782471,
          4.994458198547363,
          5.160714149475098
         ],
         "z": [
          [
           -1.6223227977752686,
           -1.492830753326416,
           -1.386040449142456,
           -1.310570240020752,
           -1.2512485980987549,
           -1.1850378513336182,
           -1.1144819259643555,
           -1.0674681663513184,
           -1.0659723281860352,
           -1.1082093715667725,
           -1.1775646209716797,
           -1.2570500373840332,
           -1.3357658386230469,
           -1.4083583354949951,
           -1.4729135036468506,
           -1.529287576675415,
           -1.5781543254852295,
           -1.6204676628112793,
           -1.6572265625,
           -1.6893310546875,
           -1.7175555229187012,
           -1.7425413131713867,
           -1.7648324966430664,
           -1.7848520278930664,
           -1.8029470443725586,
           -1.8194022178649902,
           -1.8344500064849854,
           -1.8482723236083984,
           -1.8610243797302246,
           -1.8728322982788086
          ],
          [
           -0.8886194229125977,
           -0.10705399513244629,
           0.60486900806427,
           0.3642706871032715,
           -0.3906964063644409,
           -0.07194089889526367,
           0.6617907285690308,
           0.8241395950317383,
           0.13849353790283203,
           -0.2870054244995117,
           -0.582385778427124,
           -0.7992677688598633,
           -0.9644842147827148,
           -1.0940580368041992,
           -1.1983206272125244,
           -1.2841651439666748,
           -1.3563413619995117,
           -1.4181396961212158,
           -1.4718875885009766,
           -1.5192325115203857,
           -1.5613484382629395,
           -1.5991034507751465,
           -1.6331758499145508,
           -1.664069414138794,
           -1.6921937465667725,
           -1.7178902626037598,
           -1.7414402961730957,
           -1.7630786895751953,
           -1.7830126285552979,
           -1.8014116287231445
          ],
          [
           -1.5595526695251465,
           -1.4161810874938965,
           -1.2871372699737549,
           -1.1778159141540527,
           -1.0763859748840332,
           -0.9663369655609131,
           -0.8512554168701172,
           -0.7553961277008057,
           -0.7005527019500732,
           -0.6905815601348877,
           -0.7157282829284668,
           -0.7633054256439209,
           -0.8237473964691162,
           -0.8912146091461182,
           -0.9622082710266113,
           -1.0343451499938965,
           -1.1057980060577393,
           -1.1751172542572021,
           -1.2412388324737549,
           -1.303467035293579,
           -1.3614332675933838,
           -1.4150445461273193,
           -1.4644083976745605,
           -1.5097322463989258,
           -1.5512900352478027,
           -1.589390754699707,
           -1.624335765838623,
           -1.6564116477966309,
           -1.6858880519866943,
           -1.7130045890808105
          ],
          [
           -1.5602574348449707,
           -1.4063098430633545,
           -1.2455620765686035,
           -1.087238073348999,
           -0.9346134662628174,
           -0.7815115451812744,
           -0.6219241619110107,
           -0.4629182815551758,
           -0.3257122039794922,
           -0.23217296600341797,
           -0.18789982795715332,
           -0.18564581871032715,
           -0.22258472442626953,
           -0.2995481491088867,
           -0.40842580795288086,
           -0.5338053703308105,
           -0.6618530750274658,
           -0.7842121124267578,
           -0.8971023559570312,
           -0.9994981288909912,
           -1.0917010307312012,
           -1.1745800971984863,
           -1.2491681575775146,
           -1.3164496421813965,
           -1.3773117065429688,
           -1.4325268268585205,
           -1.4827468395233154,
           -1.5285255908966064,
           -1.5703396797180176,
           -1.6085882186889648
          ],
          [
           -1.2049708366394043,
           -0.8801348209381104,
           -0.4113130569458008,
           0.3650726079940796,
           0.18200838565826416,
           0.08016085624694824,
           0.27051424980163574,
           0.6993827819824219,
           1.4139628410339355,
           2.204442262649536,
           1.3998188972473145,
           1.4370330572128296,
           1.6799051761627197,
           0.9257340431213379,
           0.45542144775390625,
           0.11861109733581543,
           -0.13990354537963867,
           -0.34752631187438965,
           -0.5200150012969971,
           -0.6671178340911865,
           -0.7951157093048096,
           -0.9081611633300781,
           -1.0090980529785156,
           -1.099900722503662,
           -1.1820030212402344,
           -1.2564888000488281,
           -1.3242137432098389,
           -1.3858823776245117,
           -1.442091464996338,
           -1.4933578968048096
          ],
          [
           -1.2362313270568848,
           -1.0558803081512451,
           -0.8665528297424316,
           -0.6778557300567627,
           -0.49493932723999023,
           -0.3151085376739502,
           -0.134718656539917,
           0.04060101509094238,
           0.19456839561462402,
           0.3106575012207031,
           0.38465261459350586,
           0.42131996154785156,
           0.42063069343566895,
           0.37839293479919434,
           0.29679131507873535,
           0.18542098999023438,
           0.055310964584350586,
           -0.08462023735046387,
           -0.22788095474243164,
           -0.36979246139526367,
           -0.5070364475250244,
           -0.6373825073242188,
           -0.7595078945159912,
           -0.8727703094482422,
           -0.9770393371582031,
           -1.0725255012512207,
           -1.1596617698669434,
           -1.2389979362487793,
           -1.3111298084259033,
           -1.3766648769378662
          ],
          [
           -1.1676967144012451,
           -0.9838290214538574,
           -0.7785015106201172,
           -0.55531907081604,
           -0.3229353427886963,
           -0.09723281860351562,
           0.10038518905639648,
           0.2535381317138672,
           0.36462926864624023,
           0.45381975173950195,
           0.542837381362915,
           0.6416225433349609,
           0.7434041500091553,
           0.8245630264282227,
           0.8512372970581055,
           0.7978136539459229,
           0.6658356189727783,
           0.48065876960754395,
           0.2719759941101074,
           0.06137895584106445,
           -0.13909053802490234,
           -0.3240382671356201,
           -0.49187684059143066,
           -0.6429409980773926,
           -0.778430700302124,
           -0.8998489379882812,
           -1.008723497390747,
           -1.1064839363098145,
           -1.194401741027832,
           -1.2735958099365234
          ],
          [
           -1.1304004192352295,
           -0.912722110748291,
           -0.6453602313995361,
           -0.3125598430633545,
           0.1108551025390625,
           0.6712331771850586,
           1.481787085533142,
           1.7404100894927979,
           1.1809589862823486,
           0.9531381130218506,
           0.9338102340698242,
           1.089714765548706,
           1.4244086742401123,
           1.9805517196655273,
           2.9083127975463867,
           2.4675025939941406,
           1.680398941040039,
           1.1251769065856934,
           0.701505184173584,
           0.36467742919921875,
           0.08918333053588867,
           -0.14135098457336426,
           -0.3380246162414551,
           -0.5085797309875488,
           -0.6584594249725342,
           -0.7915339469909668,
           -0.9105861186981201,
           -1.017652988433838,
           -1.1142668724060059,
           -1.2016246318817139
          ],
          [
           -1.4182722568511963,
           -1.285895824432373,
           -1.1363301277160645,
           -0.9724822044372559,
           -0.8019058704376221,
           -0.6384515762329102,
           -0.5001342296600342,
           -0.3993663787841797,
           -0.33090949058532715,
           -0.2728848457336426,
           -0.2013247013092041,
           -0.10311460494995117,
           0.01862335205078125,
           0.14391350746154785,
           0.24156713485717773,
           0.28478026390075684,
           0.26745009422302246,
           0.2028188705444336,
           0.1088709831237793,
           -0.0014853477478027344,
           -0.12114381790161133,
           -0.24620532989501953,
           -0.3738589286804199,
           -0.5015220642089844,
           -0.626763105392456,
           -0.7474968433380127,
           -0.8621344566345215,
           -0.9696164131164551,
           -1.0693702697753906,
           -1.1612141132354736
          ],
          [
           -1.8206408023834229,
           -1.7780795097351074,
           -1.7342348098754883,
           -1.690579891204834,
           -1.6486866474151611,
           -1.6098096370697021,
           -1.574263334274292,
           -1.5408174991607666,
           -1.5063023567199707,
           -1.4656703472137451,
           -1.4124648571014404,
           -1.3394553661346436,
           -1.2390319108963013,
           -1.102936029434204,
           -0.9229638576507568,
           -0.6984908580780029,
           -0.4506347179412842,
           -0.22251152992248535,
           -0.057062625885009766,
           0.02054762840270996,
           0.007242918014526367,
           -0.07885098457336426,
           -0.20965027809143066,
           -0.3604471683502197,
           -0.5148482322692871,
           -0.6636674404144287,
           -0.8024289608001709,
           -0.9293723106384277,
           -1.0442113876342773,
           -1.1474080085754395
          ],
          [
           -2.1154627799987793,
           -2.118406295776367,
           -2.122879981994629,
           -2.1289191246032715,
           -2.1362247467041016,
           -2.143950939178467,
           -2.150430917739868,
           -2.1528029441833496,
           -2.146446704864502,
           -2.1240596771240234,
           -2.0739123821258545,
           -1.976073980331421,
           -1.7925450801849365,
           -1.4310944080352783,
           -0.9983628988265991,
           -0.5795410871505737,
           0.47439253330230713,
           1.5956645011901855,
           1.4734834432601929,
           1.7415276765823364,
           0.9584987163543701,
           0.44697070121765137,
           0.06737303733825684,
           -0.23047375679016113,
           -0.4718153476715088,
           -0.6715610027313232,
           -0.8393876552581787,
           -0.9820005893707275,
           -1.1042580604553223,
           -1.2098066806793213
          ],
          [
           -2.2637784481048584,
           -2.2816967964172363,
           -2.3005168437957764,
           -2.3197076320648193,
           -2.338407516479492,
           -2.3553202152252197,
           -2.3685739040374756,
           -2.3755757808685303,
           -2.372833251953125,
           -2.3558104038238525,
           -2.318826913833618,
           -2.2550840377807617,
           -2.1567540168762207,
           -2.015049934387207,
           -1.821751594543457,
           -1.5768702030181885,
           -1.301501750946045,
           -1.0376672744750977,
           -0.8280303478240967,
           -0.6989412307739258,
           -0.6556310653686523,
           -0.6829936504364014,
           -0.755943775177002,
           -0.8517425060272217,
           -0.9549834728240967,
           -1.0568504333496094,
           -1.152904748916626,
           -1.241260290145874,
           -1.3214056491851807,
           -1.3935365676879883
          ],
          [
           -2.301311492919922,
           -2.3187484741210938,
           -2.3358566761016846,
           -2.3519809246063232,
           -2.3662571907043457,
           -2.3775808811187744,
           -2.3845815658569336,
           -2.385608673095703,
           -2.378751277923584,
           -2.361900806427002,
           -2.3328909873962402,
           -2.2897346019744873,
           -2.2310233116149902,
           -2.1564478874206543,
           -2.0674307346343994,
           -1.9675809144973755,
           -1.8626987934112549,
           -1.760047435760498,
           -1.6670465469360352,
           -1.589796543121338,
           -1.5320203304290771,
           -1.4947137832641602,
           -1.4765121936798096,
           -1.4745092391967773,
           -1.4851374626159668,
           -1.504866123199463,
           -1.5306127071380615,
           -1.559901237487793,
           -1.5908677577972412,
           -1.6221771240234375
          ],
          [
           -2.279480457305908,
           -2.2919373512268066,
           -2.3034794330596924,
           -2.3136143684387207,
           -2.321763753890991,
           -2.327268600463867,
           -2.3293988704681396,
           -2.327383041381836,
           -2.320449113845825,
           -2.3078885078430176,
           -2.2891287803649902,
           -2.2638401985168457,
           -2.2320263385772705,
           -2.194122314453125,
           -2.151048183441162,
           -2.1042001247406006,
           -2.0553715229034424,
           -2.006594657897949,
           -1.9599175453186035,
           -1.9171857833862305,
           -1.8798573017120361,
           -1.8488726615905762,
           -1.8246397972106934,
           -1.8070850372314453,
           -1.795748233795166,
           -1.7899227142333984,
           -1.7887659072875977,
           -1.7914068698883057,
           -1.79701566696167,
           -1.8048455715179443
          ],
          [
           -2.236504077911377,
           -2.244368076324463,
           -2.2513089179992676,
           -2.257037401199341,
           -2.261239528656006,
           -2.2635867595672607,
           -2.2637500762939453,
           -2.2614150047302246,
           -2.2563042640686035,
           -2.2482025623321533,
           -2.2369842529296875,
           -2.2226359844207764,
           -2.2052791118621826,
           -2.1851840019226074,
           -2.162766933441162,
           -2.138577699661255,
           -2.113274335861206,
           -2.0875747203826904,
           -2.0622100830078125,
           -2.0378754138946533,
           -2.015174150466919,
           -1.9945926666259766,
           -1.9764747619628906,
           -1.9610161781311035,
           -1.9482779502868652,
           -1.938201904296875,
           -1.9306373596191406,
           -1.9253697395324707,
           -1.9221446514129639,
           -1.9206891059875488
          ],
          [
           -2.192507743835449,
           -2.1972062587738037,
           -2.2011842727661133,
           -2.204284906387329,
           -2.206354856491089,
           -2.207239866256714,
           -2.206796646118164,
           -2.204900026321411,
           -2.201451063156128,
           -2.1963863372802734,
           -2.189685821533203,
           -2.1813762187957764,
           -2.171541690826416,
           -2.160318613052368,
           -2.147897720336914,
           -2.134514331817627,
           -2.1204416751861572,
           -2.1059741973876953,
           -2.091416358947754,
           -2.0770657062530518,
           -2.0631966590881348,
           -2.0500524044036865,
           -2.0378315448760986,
           -2.026686191558838,
           -2.016719341278076,
           -2.007986307144165,
           -2.000499963760376,
           -1.994236946105957,
           -1.9891414642333984,
           -1.9851398468017578
          ],
          [
           -2.1555237770080566,
           -2.1582512855529785,
           -2.16046404838562,
           -2.162083148956299,
           -2.1630330085754395,
           -2.163241386413574,
           -2.1626458168029785,
           -2.1611950397491455,
           -2.15885329246521,
           -2.155602216720581,
           -2.151444435119629,
           -2.1464030742645264,
           -2.1405277252197266,
           -2.1338858604431152,
           -2.126569986343384,
           -2.1186909675598145,
           -2.1103711128234863,
           -2.101747989654541,
           -2.092961549758911,
           -2.084151268005371,
           -2.0754528045654297,
           -2.066990375518799,
           -2.058875799179077,
           -2.0512022972106934,
           -2.0440471172332764,
           -2.037466049194336,
           -2.031498908996582,
           -2.0261640548706055,
           -2.021467685699463,
           -2.017399549484253
          ],
          [
           -2.127598762512207,
           -2.129143714904785,
           -2.1303272247314453,
           -2.131108283996582,
           -2.131448268890381,
           -2.1313130855560303,
           -2.130674362182617,
           -2.129509449005127,
           -2.1278066635131836,
           -2.1255595684051514,
           -2.1227755546569824,
           -2.119471311569214,
           -2.115673303604126,
           -2.111419916152954,
           -2.1067583560943604,
           -2.1017444133758545,
           -2.0964410305023193,
           -2.090916872024536,
           -2.085244655609131,
           -2.0794951915740967,
           -2.0737407207489014,
           -2.068051338195801,
           -2.0624892711639404,
           -2.0571131706237793,
           -2.051973342895508,
           -2.047112226486206,
           -2.0425643920898438,
           -2.0383553504943848,
           -2.034501552581787,
           -2.0310146808624268
          ],
          [
           -2.1083948612213135,
           -2.109243392944336,
           -2.1098251342773438,
           -2.1101157665252686,
           -2.1100950241088867,
           -2.109744071960449,
           -2.109049081802368,
           -2.1080005168914795,
           -2.1065924167633057,
           -2.1048243045806885,
           -2.102703332901001,
           -2.1002390384674072,
           -2.0974504947662354,
           -2.0943589210510254,
           -2.0909929275512695,
           -2.0873844623565674,
           -2.083571434020996,
           -2.07959246635437,
           -2.0754904747009277,
           -2.0713083744049072,
           -2.067089557647705,
           -2.062877893447876,
           -2.0587141513824463,
           -2.0546371936798096,
           -2.050682306289673,
           -2.046882152557373,
           -2.043264389038086,
           -2.039853096008301,
           -2.036665916442871,
           -2.0337183475494385
          ],
          [
           -2.096921682357788,
           -2.0973737239837646,
           -2.0976009368896484,
           -2.0975875854492188,
           -2.0973191261291504,
           -2.0967836380004883,
           -2.0959715843200684,
           -2.094876527786255,
           -2.0934956073760986,
           -2.0918290615081787,
           -2.0898823738098145,
           -2.087663173675537,
           -2.0851855278015137,
           -2.0824646949768066,
           -2.079522132873535,
           -2.0763814449310303,
           -2.0730700492858887,
           -2.06961727142334,
           -2.0660550594329834,
           -2.0624170303344727,
           -2.05873703956604,
           -2.0550496578216553,
           -2.05138897895813,
           -2.047787666320801,
           -2.044276714324951,
           -2.0408854484558105,
           -2.03764009475708,
           -2.0345640182495117,
           -2.0316762924194336,
           -2.028993844985962
          ],
          [
           -2.0922560691833496,
           -2.092506170272827,
           -2.0925309658050537,
           -2.092313528060913,
           -2.09183931350708,
           -2.091095209121704,
           -2.090071439743042,
           -2.0887601375579834,
           -2.0871570110321045,
           -2.085261106491089,
           -2.083076238632202,
           -2.0806097984313965,
           -2.0778725147247314,
           -2.0748815536499023,
           -2.0716552734375,
           -2.068218946456909,
           -2.064600706100464,
           -2.0608315467834473,
           -2.056946039199829,
           -2.0529799461364746,
           -2.0489723682403564,
           -2.044961929321289,
           -2.0409882068634033,
           -2.0370895862579346,
           -2.0333032608032227,
           -2.0296640396118164,
           -2.0262036323547363,
           -2.0229508876800537,
           -2.019929885864258,
           -2.0171611309051514
          ],
          [
           -2.0937302112579346,
           -2.0939252376556396,
           -2.093850612640381,
           -2.0934832096099854,
           -2.092801094055176,
           -2.0917837619781494,
           -2.0904154777526855,
           -2.0886807441711426,
           -2.086571455001831,
           -2.0840814113616943,
           -2.0812108516693115,
           -2.07796573638916,
           -2.074357032775879,
           -2.070404052734375,
           -2.066131353378296,
           -2.061570644378662,
           -2.05676007270813,
           -2.0517430305480957,
           -2.04656982421875,
           -2.0412936210632324,
           -2.03597354888916,
           -2.030667543411255,
           -2.025437593460083,
           -2.020343065261841,
           -2.01544189453125,
           -2.0107879638671875,
           -2.0064306259155273,
           -2.002413272857666,
           -1.9987704753875732,
           -1.9955317974090576
          ],
          [
           -2.10080885887146,
           -2.1010687351226807,
           -2.100968360900879,
           -2.100468158721924,
           -2.099531650543213,
           -2.09812331199646,
           -2.0962109565734863,
           -2.093766212463379,
           -2.090766191482544,
           -2.08719539642334,
           -2.0830445289611816,
           -2.078315258026123,
           -2.073017120361328,
           -2.067171573638916,
           -2.0608134269714355,
           -2.0539872646331787,
           -2.046753168106079,
           -2.039181709289551,
           -2.031355857849121,
           -2.0233681201934814,
           -2.015320062637329,
           -2.0073201656341553,
           -1.9994778633117676,
           -1.9919042587280273,
           -1.9847052097320557,
           -1.9779798984527588,
           -1.9718172550201416,
           -1.966292381286621,
           -1.9614644050598145,
           -1.9573757648468018
          ],
          [
           -2.1126787662506104,
           -2.1130714416503906,
           -2.112952470779419,
           -2.112257719039917,
           -2.110921859741211,
           -2.108882188796997,
           -2.106079578399658,
           -2.1024580001831055,
           -2.0979714393615723,
           -2.0925796031951904,
           -2.0862550735473633,
           -2.0789828300476074,
           -2.070765256881714,
           -2.0616190433502197,
           -2.051586151123047,
           -2.0407285690307617,
           -2.0291359424591064,
           -2.0169224739074707,
           -2.0042312145233154,
           -1.9912307262420654,
           -1.9781122207641602,
           -1.9650840759277344,
           -1.9523687362670898,
           -1.9401895999908447,
           -1.9287669658660889,
           -1.9183030128479004,
           -1.90897798538208,
           -1.9009370803833008,
           -1.8942899703979492,
           -1.8891026973724365
          ],
          [
           -2.1275856494903564,
           -2.1279923915863037,
           -2.1276416778564453,
           -2.1264257431030273,
           -2.124237060546875,
           -2.120969295501709,
           -2.1165225505828857,
           -2.1108038425445557,
           -2.103728771209717,
           -2.0952260494232178,
           -2.085236072540283,
           -2.073714017868042,
           -2.060633897781372,
           -2.0459890365600586,
           -2.029799461364746,
           -2.0121219158172607,
           -1.993056297302246,
           -1.9727602005004883,
           -1.9514527320861816,
           -1.9294259548187256,
           -1.9070429801940918,
           -1.884727954864502,
           -1.8629555702209473,
           -1.8422291278839111,
           -1.823047161102295,
           -1.8058817386627197,
           -1.7911431789398193,
           -1.7791571617126465,
           -1.7701377868652344,
           -1.7641894817352295
          ],
          [
           -2.142207622528076,
           -2.142024517059326,
           -2.1406285762786865,
           -2.137831449508667,
           -2.1334474086761475,
           -2.1273016929626465,
           -2.11923885345459,
           -2.1091315746307373,
           -2.096883535385132,
           -2.0824341773986816,
           -2.065749168395996,
           -2.0468060970306396,
           -2.025578260421753,
           -2.0020182132720947,
           -1.9760494232177734,
           -1.947582483291626,
           -1.916548728942871,
           -1.8829624652862549,
           -1.8469820022583008,
           -1.8089754581451416,
           -1.7695646286010742,
           -1.7296175956726074,
           -1.6902365684509277,
           -1.6526813507080078,
           -1.618274211883545,
           -1.5882899761199951,
           -1.563842535018921,
           -1.5457780361175537,
           -1.5345933437347412,
           -1.5304088592529297
          ],
          [
           -2.1521878242492676,
           -2.1500585079193115,
           -2.1457836627960205,
           -2.138956308364868,
           -2.1291587352752686,
           -2.1159863471984863,
           -2.099090576171875,
           -2.0782313346862793,
           -2.0533406734466553,
           -2.024582862854004,
           -1.9923865795135498,
           -1.9573993682861328,
           -1.9203341007232666,
           -1.881711483001709,
           -1.8415424823760986,
           -1.7991490364074707,
           -1.7532291412353516,
           -1.7022218704223633,
           -1.644819974899292,
           -1.5804822444915771,
           -1.5097672939300537,
           -1.4344346523284912,
           -1.357370138168335,
           -1.2822906970977783,
           -1.213376760482788,
           -1.1547892093658447,
           -1.1102571487426758,
           -1.0825567245483398,
           -1.0731346607208252,
           -1.081838607788086
          ],
          [
           -2.1553452014923096,
           -2.1499722003936768,
           -2.1409215927124023,
           -2.1272506713867188,
           -2.107837438583374,
           -2.081378698348999,
           -2.04641056060791,
           -2.0013844966888428,
           -1.9448671340942383,
           -1.8759539127349854,
           -1.7950822114944458,
           -1.7053186893463135,
           -1.6138372421264648,
           -1.5318472385406494,
           -1.4697297811508179,
           -1.4283074140548706,
           -1.395589828491211,
           -1.3540356159210205,
           -1.2893669605255127,
           -1.193812370300293,
           -1.0657882690429688,
           -0.9094033241271973,
           -0.7345826625823975,
           -0.5560712814331055,
           -0.38967013359069824,
           -0.24910569190979004,
           -0.14815449714660645,
           -0.10145950317382812,
           -0.11786270141601562,
           -0.1946876049041748
          ],
          [
           -2.154914379119873,
           -2.147587299346924,
           -2.1355905532836914,
           -2.117528200149536,
           -2.0915989875793457,
           -2.0554656982421875,
           -2.006049633026123,
           -1.9392259120941162,
           -1.8493415117263794,
           -1.728369951248169,
           -1.5643947124481201,
           -1.3383560180664062,
           -1.016020655632019,
           -0.5220694541931152,
           0.10623741149902344,
           -0.5335191488265991,
           -0.8414769172668457,
           -0.9678589105606079,
           -0.9695216417312622,
           -0.8671424388885498,
           -0.6634540557861328,
           -0.34569239616394043,
           0.12256145477294922,
           0.8398493528366089,
           1.337095022201538,
           1.3839941024780273,
           2.113024950027466,
           2.322481393814087,
           2.214094638824463,
           1.3084909915924072
          ],
          [
           -2.1543517112731934,
           -2.148761749267578,
           -2.1393909454345703,
           -2.1252527236938477,
           -2.105161190032959,
           -2.0777220726013184,
           -2.0413403511047363,
           -1.9942821264266968,
           -1.9348589181900024,
           -1.8618426322937012,
           -1.7753444910049438,
           -1.6783442497253418,
           -1.5787303447723389,
           -1.4898933172225952,
           -1.4252219200134277,
           -1.3865272998809814,
           -1.3593201637268066,
           -1.3225927352905273,
           -1.259974479675293,
           -1.1629185676574707,
           -1.0296568870544434,
           -0.864466667175293,
           -0.6781322956085205,
           -0.4872322082519531,
           -0.30947089195251465,
           -0.15917706489562988,
           -0.05098843574523926,
           -0.0019860267639160156,
           -0.0227658748626709,
           -0.11013984680175781
          ]
         ],
         "type": "surface"
        },
        {
         "marker": {
          "color": "darkgreen"
         },
         "mode": "markers",
         "name": "training data",
         "x": [
          2.7300000190734863,
          3.4000000953674316,
          3.7899999618530273,
          6.440000057220459,
          5.360000133514404,
          8.989999771118164,
          8.800000190734863,
          14.670000076293945,
          5.239999771118164,
          14.889999389648438,
          10.130000114440918,
          4.510000228881836,
          5.369999885559082,
          4.880000114440918,
          6.760000228881836,
          7.769999980926514,
          8.729999542236328,
          9.380000114440918,
          10.479999542236328,
          11.010000228881836,
          14.709999084472656,
          15.439998626708984,
          13.369998931884766
         ],
         "y": [
          0.5,
          0.5,
          1,
          1,
          1.5,
          1.5,
          5,
          5,
          0.5,
          5,
          2,
          0.5,
          0.5,
          0.5,
          1,
          1,
          2,
          2,
          2,
          2,
          5,
          5,
          5
         ],
         "z": [
          0.8730257153511047,
          2.6772446632385254,
          1.6990152597427368,
          3.8050527572631836,
          3.3348562717437744,
          4.535152912139893,
          1.3625102043151855,
          3.8412907123565674,
          1.2013570070266724,
          3.5136520862579346,
          3.4708714485168457,
          0.26329824328422546,
          2.7753403186798096,
          2.591306209564209,
          2.579984426498413,
          3.173818588256836,
          0.13150499761104584,
          0.45116370916366577,
          2.1266398429870605,
          3.468212842941284,
          3.685852527618408,
          3.445655584335327,
          2.6515469551086426
         ],
         "type": "scatter3d"
        },
        {
         "mode": "markers",
         "name": "max(upper confidence bound)",
         "x": [
          13.076440811157227
         ],
         "y": [
          1.3368226289749146
         ],
         "z": [
          2.2906713485717773
         ],
         "type": "scatter3d"
        },
        {
         "mode": "markers",
         "name": "max(thompson)",
         "x": [
          8.850208282470703
         ],
         "y": [
          3.830664873123169
         ],
         "z": [
          2.3242578506469727
         ],
         "type": "scatter3d"
        },
        {
         "mode": "markers",
         "name": "max(pi)",
         "x": [
          8.850208282470703
         ],
         "y": [
          1.503078818321228
         ],
         "z": [
          2.085420608520508
         ],
         "type": "scatter3d"
        },
        {
         "mode": "markers",
         "name": "max(ei)",
         "x": [
          10.728534698486328
         ],
         "y": [
          1.3368226289749146
         ],
         "z": [
          2.3224217891693115
         ],
         "type": "scatter3d"
        },
        {
         "mode": "markers",
         "name": "max(ca)",
         "x": [
          13.076440811157227
         ],
         "y": [
          3.6644086837768555
         ],
         "z": [
          2.389179229736328
         ],
         "type": "scatter3d"
        }
       ],
       "layout": {
        "template": {
         "data": {
          "histogram2dcontour": [
           {
            "type": "histogram2dcontour",
            "colorbar": {
             "outlinewidth": 0,
             "ticks": ""
            },
            "colorscale": [
             [
              0,
              "#0d0887"
             ],
             [
              0.1111111111111111,
              "#46039f"
             ],
             [
              0.2222222222222222,
              "#7201a8"
             ],
             [
              0.3333333333333333,
              "#9c179e"
             ],
             [
              0.4444444444444444,
              "#bd3786"
             ],
             [
              0.5555555555555556,
              "#d8576b"
             ],
             [
              0.6666666666666666,
              "#ed7953"
             ],
             [
              0.7777777777777778,
              "#fb9f3a"
             ],
             [
              0.8888888888888888,
              "#fdca26"
             ],
             [
              1,
              "#f0f921"
             ]
            ]
           }
          ],
          "choropleth": [
           {
            "type": "choropleth",
            "colorbar": {
             "outlinewidth": 0,
             "ticks": ""
            }
           }
          ],
          "histogram2d": [
           {
            "type": "histogram2d",
            "colorbar": {
             "outlinewidth": 0,
             "ticks": ""
            },
            "colorscale": [
             [
              0,
              "#0d0887"
             ],
             [
              0.1111111111111111,
              "#46039f"
             ],
             [
              0.2222222222222222,
              "#7201a8"
             ],
             [
              0.3333333333333333,
              "#9c179e"
             ],
             [
              0.4444444444444444,
              "#bd3786"
             ],
             [
              0.5555555555555556,
              "#d8576b"
             ],
             [
              0.6666666666666666,
              "#ed7953"
             ],
             [
              0.7777777777777778,
              "#fb9f3a"
             ],
             [
              0.8888888888888888,
              "#fdca26"
             ],
             [
              1,
              "#f0f921"
             ]
            ]
           }
          ],
          "heatmap": [
           {
            "type": "heatmap",
            "colorbar": {
             "outlinewidth": 0,
             "ticks": ""
            },
            "colorscale": [
             [
              0,
              "#0d0887"
             ],
             [
              0.1111111111111111,
              "#46039f"
             ],
             [
              0.2222222222222222,
              "#7201a8"
             ],
             [
              0.3333333333333333,
              "#9c179e"
             ],
             [
              0.4444444444444444,
              "#bd3786"
             ],
             [
              0.5555555555555556,
              "#d8576b"
             ],
             [
              0.6666666666666666,
              "#ed7953"
             ],
             [
              0.7777777777777778,
              "#fb9f3a"
             ],
             [
              0.8888888888888888,
              "#fdca26"
             ],
             [
              1,
              "#f0f921"
             ]
            ]
           }
          ],
          "heatmapgl": [
           {
            "type": "heatmapgl",
            "colorbar": {
             "outlinewidth": 0,
             "ticks": ""
            },
            "colorscale": [
             [
              0,
              "#0d0887"
             ],
             [
              0.1111111111111111,
              "#46039f"
             ],
             [
              0.2222222222222222,
              "#7201a8"
             ],
             [
              0.3333333333333333,
              "#9c179e"
             ],
             [
              0.4444444444444444,
              "#bd3786"
             ],
             [
              0.5555555555555556,
              "#d8576b"
             ],
             [
              0.6666666666666666,
              "#ed7953"
             ],
             [
              0.7777777777777778,
              "#fb9f3a"
             ],
             [
              0.8888888888888888,
              "#fdca26"
             ],
             [
              1,
              "#f0f921"
             ]
            ]
           }
          ],
          "contourcarpet": [
           {
            "type": "contourcarpet",
            "colorbar": {
             "outlinewidth": 0,
             "ticks": ""
            }
           }
          ],
          "contour": [
           {
            "type": "contour",
            "colorbar": {
             "outlinewidth": 0,
             "ticks": ""
            },
            "colorscale": [
             [
              0,
              "#0d0887"
             ],
             [
              0.1111111111111111,
              "#46039f"
             ],
             [
              0.2222222222222222,
              "#7201a8"
             ],
             [
              0.3333333333333333,
              "#9c179e"
             ],
             [
              0.4444444444444444,
              "#bd3786"
             ],
             [
              0.5555555555555556,
              "#d8576b"
             ],
             [
              0.6666666666666666,
              "#ed7953"
             ],
             [
              0.7777777777777778,
              "#fb9f3a"
             ],
             [
              0.8888888888888888,
              "#fdca26"
             ],
             [
              1,
              "#f0f921"
             ]
            ]
           }
          ],
          "surface": [
           {
            "type": "surface",
            "colorbar": {
             "outlinewidth": 0,
             "ticks": ""
            },
            "colorscale": [
             [
              0,
              "#0d0887"
             ],
             [
              0.1111111111111111,
              "#46039f"
             ],
             [
              0.2222222222222222,
              "#7201a8"
             ],
             [
              0.3333333333333333,
              "#9c179e"
             ],
             [
              0.4444444444444444,
              "#bd3786"
             ],
             [
              0.5555555555555556,
              "#d8576b"
             ],
             [
              0.6666666666666666,
              "#ed7953"
             ],
             [
              0.7777777777777778,
              "#fb9f3a"
             ],
             [
              0.8888888888888888,
              "#fdca26"
             ],
             [
              1,
              "#f0f921"
             ]
            ]
           }
          ],
          "mesh3d": [
           {
            "type": "mesh3d",
            "colorbar": {
             "outlinewidth": 0,
             "ticks": ""
            }
           }
          ],
          "scatter": [
           {
            "fillpattern": {
             "fillmode": "overlay",
             "size": 10,
             "solidity": 0.2
            },
            "type": "scatter"
           }
          ],
          "parcoords": [
           {
            "type": "parcoords",
            "line": {
             "colorbar": {
              "outlinewidth": 0,
              "ticks": ""
             }
            }
           }
          ],
          "scatterpolargl": [
           {
            "type": "scatterpolargl",
            "marker": {
             "colorbar": {
              "outlinewidth": 0,
              "ticks": ""
             }
            }
           }
          ],
          "bar": [
           {
            "error_x": {
             "color": "#2a3f5f"
            },
            "error_y": {
             "color": "#2a3f5f"
            },
            "marker": {
             "line": {
              "color": "#E5ECF6",
              "width": 0.5
             },
             "pattern": {
              "fillmode": "overlay",
              "size": 10,
              "solidity": 0.2
             }
            },
            "type": "bar"
           }
          ],
          "scattergeo": [
           {
            "type": "scattergeo",
            "marker": {
             "colorbar": {
              "outlinewidth": 0,
              "ticks": ""
             }
            }
           }
          ],
          "scatterpolar": [
           {
            "type": "scatterpolar",
            "marker": {
             "colorbar": {
              "outlinewidth": 0,
              "ticks": ""
             }
            }
           }
          ],
          "histogram": [
           {
            "marker": {
             "pattern": {
              "fillmode": "overlay",
              "size": 10,
              "solidity": 0.2
             }
            },
            "type": "histogram"
           }
          ],
          "scattergl": [
           {
            "type": "scattergl",
            "marker": {
             "colorbar": {
              "outlinewidth": 0,
              "ticks": ""
             }
            }
           }
          ],
          "scatter3d": [
           {
            "type": "scatter3d",
            "line": {
             "colorbar": {
              "outlinewidth": 0,
              "ticks": ""
             }
            },
            "marker": {
             "colorbar": {
              "outlinewidth": 0,
              "ticks": ""
             }
            }
           }
          ],
          "scattermapbox": [
           {
            "type": "scattermapbox",
            "marker": {
             "colorbar": {
              "outlinewidth": 0,
              "ticks": ""
             }
            }
           }
          ],
          "scatterternary": [
           {
            "type": "scatterternary",
            "marker": {
             "colorbar": {
              "outlinewidth": 0,
              "ticks": ""
             }
            }
           }
          ],
          "scattercarpet": [
           {
            "type": "scattercarpet",
            "marker": {
             "colorbar": {
              "outlinewidth": 0,
              "ticks": ""
             }
            }
           }
          ],
          "carpet": [
           {
            "aaxis": {
             "endlinecolor": "#2a3f5f",
             "gridcolor": "white",
             "linecolor": "white",
             "minorgridcolor": "white",
             "startlinecolor": "#2a3f5f"
            },
            "baxis": {
             "endlinecolor": "#2a3f5f",
             "gridcolor": "white",
             "linecolor": "white",
             "minorgridcolor": "white",
             "startlinecolor": "#2a3f5f"
            },
            "type": "carpet"
           }
          ],
          "table": [
           {
            "cells": {
             "fill": {
              "color": "#EBF0F8"
             },
             "line": {
              "color": "white"
             }
            },
            "header": {
             "fill": {
              "color": "#C8D4E3"
             },
             "line": {
              "color": "white"
             }
            },
            "type": "table"
           }
          ],
          "barpolar": [
           {
            "marker": {
             "line": {
              "color": "#E5ECF6",
              "width": 0.5
             },
             "pattern": {
              "fillmode": "overlay",
              "size": 10,
              "solidity": 0.2
             }
            },
            "type": "barpolar"
           }
          ],
          "pie": [
           {
            "automargin": true,
            "type": "pie"
           }
          ]
         },
         "layout": {
          "autotypenumbers": "strict",
          "colorway": [
           "#636efa",
           "#EF553B",
           "#00cc96",
           "#ab63fa",
           "#FFA15A",
           "#19d3f3",
           "#FF6692",
           "#B6E880",
           "#FF97FF",
           "#FECB52"
          ],
          "font": {
           "color": "#2a3f5f"
          },
          "hovermode": "closest",
          "hoverlabel": {
           "align": "left"
          },
          "paper_bgcolor": "white",
          "plot_bgcolor": "#E5ECF6",
          "polar": {
           "bgcolor": "#E5ECF6",
           "angularaxis": {
            "gridcolor": "white",
            "linecolor": "white",
            "ticks": ""
           },
           "radialaxis": {
            "gridcolor": "white",
            "linecolor": "white",
            "ticks": ""
           }
          },
          "ternary": {
           "bgcolor": "#E5ECF6",
           "aaxis": {
            "gridcolor": "white",
            "linecolor": "white",
            "ticks": ""
           },
           "baxis": {
            "gridcolor": "white",
            "linecolor": "white",
            "ticks": ""
           },
           "caxis": {
            "gridcolor": "white",
            "linecolor": "white",
            "ticks": ""
           }
          },
          "coloraxis": {
           "colorbar": {
            "outlinewidth": 0,
            "ticks": ""
           }
          },
          "colorscale": {
           "sequential": [
            [
             0,
             "#0d0887"
            ],
            [
             0.1111111111111111,
             "#46039f"
            ],
            [
             0.2222222222222222,
             "#7201a8"
            ],
            [
             0.3333333333333333,
             "#9c179e"
            ],
            [
             0.4444444444444444,
             "#bd3786"
            ],
            [
             0.5555555555555556,
             "#d8576b"
            ],
            [
             0.6666666666666666,
             "#ed7953"
            ],
            [
             0.7777777777777778,
             "#fb9f3a"
            ],
            [
             0.8888888888888888,
             "#fdca26"
            ],
            [
             1,
             "#f0f921"
            ]
           ],
           "sequentialminus": [
            [
             0,
             "#0d0887"
            ],
            [
             0.1111111111111111,
             "#46039f"
            ],
            [
             0.2222222222222222,
             "#7201a8"
            ],
            [
             0.3333333333333333,
             "#9c179e"
            ],
            [
             0.4444444444444444,
             "#bd3786"
            ],
            [
             0.5555555555555556,
             "#d8576b"
            ],
            [
             0.6666666666666666,
             "#ed7953"
            ],
            [
             0.7777777777777778,
             "#fb9f3a"
            ],
            [
             0.8888888888888888,
             "#fdca26"
            ],
            [
             1,
             "#f0f921"
            ]
           ],
           "diverging": [
            [
             0,
             "#8e0152"
            ],
            [
             0.1,
             "#c51b7d"
            ],
            [
             0.2,
             "#de77ae"
            ],
            [
             0.3,
             "#f1b6da"
            ],
            [
             0.4,
             "#fde0ef"
            ],
            [
             0.5,
             "#f7f7f7"
            ],
            [
             0.6,
             "#e6f5d0"
            ],
            [
             0.7,
             "#b8e186"
            ],
            [
             0.8,
             "#7fbc41"
            ],
            [
             0.9,
             "#4d9221"
            ],
            [
             1,
             "#276419"
            ]
           ]
          },
          "xaxis": {
           "gridcolor": "white",
           "linecolor": "white",
           "ticks": "",
           "title": {
            "standoff": 15
           },
           "zerolinecolor": "white",
           "automargin": true,
           "zerolinewidth": 2
          },
          "yaxis": {
           "gridcolor": "white",
           "linecolor": "white",
           "ticks": "",
           "title": {
            "standoff": 15
           },
           "zerolinecolor": "white",
           "automargin": true,
           "zerolinewidth": 2
          },
          "scene": {
           "xaxis": {
            "backgroundcolor": "#E5ECF6",
            "gridcolor": "white",
            "linecolor": "white",
            "showbackground": true,
            "ticks": "",
            "zerolinecolor": "white",
            "gridwidth": 2
           },
           "yaxis": {
            "backgroundcolor": "#E5ECF6",
            "gridcolor": "white",
            "linecolor": "white",
            "showbackground": true,
            "ticks": "",
            "zerolinecolor": "white",
            "gridwidth": 2
           },
           "zaxis": {
            "backgroundcolor": "#E5ECF6",
            "gridcolor": "white",
            "linecolor": "white",
            "showbackground": true,
            "ticks": "",
            "zerolinecolor": "white",
            "gridwidth": 2
           }
          },
          "shapedefaults": {
           "line": {
            "color": "#2a3f5f"
           }
          },
          "annotationdefaults": {
           "arrowcolor": "#2a3f5f",
           "arrowhead": 0,
           "arrowwidth": 1
          },
          "geo": {
           "bgcolor": "white",
           "landcolor": "#E5ECF6",
           "subunitcolor": "white",
           "showland": true,
           "showlakes": true,
           "lakecolor": "white"
          },
          "title": {
           "x": 0.05
          },
          "mapbox": {
           "style": "light"
          }
         }
        },
        "margin": {
         "r": 20,
         "l": 10,
         "b": 10,
         "t": 10
        },
        "legend": {
         "orientation": "h",
         "yanchor": "bottom",
         "y": 1.02,
         "xanchor": "right",
         "x": 1
        },
        "width": 1000,
        "height": 600,
        "scene": {
         "xaxis": {
          "title": {
           "text": "Energy density new cone (J/cm^2)"
          }
         },
         "yaxis": {
          "title": {
           "text": "Pulse Width (msec)"
          }
         },
         "zaxis": {
          "title": {
           "text": "2 Qsw/(U+|D|) 1e6"
          }
         }
        }
       },
       "config": {
        "plotlyServerURL": "https://plot.ly"
       }
      }
     },
     "metadata": {}
    }
   ],
   "metadata": {}
  },
  {
   "cell_type": "code",
   "execution_count": 47,
   "source": [
    "print(test_grid.shape)"
   ],
   "outputs": [
    {
     "output_type": "stream",
     "name": "stdout",
     "text": [
      "torch.Size([30, 2])\n"
     ]
    }
   ],
   "metadata": {}
  },
  {
   "cell_type": "code",
   "execution_count": 134,
   "source": [
    "y_preds_1 = likelihood(model(torch.Tensor([[2.9, 9.04]])))\n",
    "with torch.no_grad():\n",
    "    y_preds_mean_1 = y_preds_1.mean.numpy()\n",
    "print(y_preds_mean_1)"
   ],
   "outputs": [
    {
     "output_type": "stream",
     "name": "stdout",
     "text": [
      "[2.3957562]\n"
     ]
    },
    {
     "output_type": "stream",
     "name": "stderr",
     "text": [
      "/Users/valenetjong/opt/anaconda3/envs/FEGP/lib/python3.9/site-packages/gpytorch/likelihoods/gaussian_likelihood.py:270: GPInputWarning:\n",
      "\n",
      "You have passed data through a FixedNoiseGaussianLikelihood that did not match the size of the fixed noise, *and* you did not specify noise. This is treated as a no-op.\n",
      "\n"
     ]
    }
   ],
   "metadata": {}
  },
  {
   "cell_type": "code",
   "execution_count": null,
   "source": [],
   "outputs": [],
   "metadata": {}
  }
 ],
 "metadata": {
  "orig_nbformat": 4,
  "language_info": {
   "name": "python",
   "version": "3.9.16",
   "mimetype": "text/x-python",
   "codemirror_mode": {
    "name": "ipython",
    "version": 3
   },
   "pygments_lexer": "ipython3",
   "nbconvert_exporter": "python",
   "file_extension": ".py"
  },
  "kernelspec": {
   "name": "python3",
   "display_name": "Python 3.9.16 64-bit ('FEGP': conda)"
  },
  "interpreter": {
   "hash": "b00f9bca1c18369f730e284e4d0522d8a3e0f0b629e30dad99ec4bb4df6f08b7"
  }
 },
 "nbformat": 4,
 "nbformat_minor": 2
}