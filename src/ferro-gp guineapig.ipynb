{
 "cells": [
  {
   "cell_type": "code",
   "execution_count": 1,
   "source": [
    "# Prep training data\n",
    "from copyreg import pickle\n",
    "from sklearn.preprocessing import StandardScaler\n",
    "from sklearn import preprocessing\n",
    "import sys\n",
    "from tkinter import Y\n",
    "import gzip\n",
    "import itertools\n",
    "import numpy as np\n",
    "import pandas as pd\n",
    "import pickle as pk\n",
    "import torch\n",
    "import gpytorch\n",
    "import plotly.express as px\n",
    "import matplotlib.pyplot as plt\n",
    "sys.path.append('..')\n",
    "sys.path.insert(0, '../src')"
   ],
   "outputs": [],
   "metadata": {}
  },
  {
   "cell_type": "code",
   "execution_count": 2,
   "source": [
    "from model import GPModel\n",
    "from GPy.models import GPRegression\n",
    "from acq_funcs import EI, PI, cust_acq, thompson\n",
    "from plotter import vis_pred, vis_acq"
   ],
   "outputs": [],
   "metadata": {}
  },
  {
   "cell_type": "markdown",
   "source": [
    "### Data Read and Pre-processing"
   ],
   "metadata": {}
  },
  {
   "cell_type": "code",
   "execution_count": 3,
   "source": [
    "# read data and display\n",
    "def read_dat(dir=\"/Users/valenetjong/Bayesian-Optimization-Ferroelectrics/data/\",\n",
    "            src_file = \"Bolometer_readings_PulseForge.xlsx\", sheet= \"Combined\"):\n",
    "    file = dir + src_file\n",
    "    fe_data = pd.read_excel(file, sheet_name=sheet, usecols=['Energy density new cone (J/cm^2)',\n",
    "                            'Time (ms)','2 Qsw/(U+|D|) 1e6cycles'])\n",
    "    fe_data.dropna(subset=['2 Qsw/(U+|D|) 1e6cycles'], inplace=True)\n",
    "    fe_data = fe_data[fe_data['2 Qsw/(U+|D|) 1e6cycles']!= 0]\n",
    "    return fe_data\n",
    "\n",
    "def display_data(fe_data):\n",
    "    \"\"\"\n",
    "    [display_data(fe_data)] creates a cross-section scatter plot of all combinations\n",
    "    of the four input parameters and single output parameter.\n",
    "    \"\"\"\n",
    "    # plot each cross-section\n",
    "    fig = px.scatter_matrix(fe_data, dimensions=['Energy density new cone (J/cm^2)', \n",
    "    \"Time (ms)\", \"2 Qsw/(U+|D|) 1e6cycles\"])\n",
    "    fig.update_layout(margin=dict(r=20, l=10, b=10, t=10))\n",
    "    fig.update_layout(height=800)\n",
    "    fig.show()"
   ],
   "outputs": [],
   "metadata": {}
  },
  {
   "cell_type": "code",
   "execution_count": 4,
   "source": [
    "# define scaler and inverse scaling\n",
    "from sklearn.preprocessing import MinMaxScaler\n",
    "scaler =  MinMaxScaler()\n",
    "\n",
    "def un_norm_all(train_x, test_grid, scaler):\n",
    "    return scaler.inverse_transform(train_x), scaler.inverse_transform(test_grid)"
   ],
   "outputs": [],
   "metadata": {}
  },
  {
   "cell_type": "code",
   "execution_count": 5,
   "source": [
    "def datasetmaker(fe_data):\n",
    "    \"\"\"\n",
    "    [datasetmaker(fe_data)] filters and transforms the data in pandas df [fe_data] \n",
    "    into two tensors, [train_x] for input and [train_y] for output tensors. \n",
    "    \"\"\"\n",
    "    # filter training data \n",
    "    energy_den = fe_data['Energy density new cone (J/cm^2)'].values\n",
    "    time = fe_data['Time (ms)'].values\n",
    "    train_x = torch.Tensor(np.array([time, energy_den])).T\n",
    "    train_y = torch.Tensor(fe_data['2 Qsw/(U+|D|) 1e6cycles'].values)\n",
    "\n",
    "    # scale inputs\n",
    "    scaler.fit(train_x)\n",
    "    train_x = torch.Tensor(scaler.transform(train_x))\n",
    "\n",
    "    return train_x, train_y"
   ],
   "outputs": [],
   "metadata": {}
  },
  {
   "cell_type": "code",
   "execution_count": 6,
   "source": [
    "fe_data = read_dat()\n",
    "print(fe_data)"
   ],
   "outputs": [
    {
     "output_type": "stream",
     "name": "stdout",
     "text": [
      "    Time (ms)  Energy density new cone (J/cm^2)  2 Qsw/(U+|D|) 1e6cycles\n",
      "4         0.5                              2.73                 0.873026\n",
      "5         0.5                              3.40                 2.677245\n",
      "6         1.0                              3.79                 1.699015\n",
      "7         1.0                              6.44                 3.805053\n",
      "8         1.5                              5.36                 3.334856\n",
      "9         1.5                              8.99                 4.535153\n",
      "11        5.0                              8.80                 1.362510\n",
      "13        5.0                             14.67                 3.841291\n",
      "19        0.5                              5.24                 1.201357\n",
      "22        5.0                             14.89                 3.513652\n",
      "23        2.0                             10.13                 3.470871\n",
      "24        0.5                              4.51                 0.263298\n",
      "25        0.5                              5.37                 2.775340\n",
      "27        0.5                              4.88                 2.591306\n",
      "28        1.0                              6.76                 2.579984\n",
      "29        1.0                              7.77                 3.173819\n",
      "31        2.0                              8.73                 0.131505\n",
      "32        2.0                              9.38                 0.451164\n",
      "33        2.0                             10.48                 2.126640\n",
      "34        2.0                             11.01                 3.468213\n",
      "35        5.0                             14.71                 3.685852\n",
      "36        5.0                             15.44                 3.445656\n",
      "37        5.0                             13.37                 2.651547\n"
     ]
    }
   ],
   "metadata": {}
  },
  {
   "cell_type": "code",
   "execution_count": 7,
   "source": [
    "display_data(fe_data)"
   ],
   "outputs": [
    {
     "output_type": "display_data",
     "data": {
      "application/vnd.plotly.v1+json": {
       "data": [
        {
         "dimensions": [
          {
           "axis": {
            "matches": true
           },
           "label": "Energy density new cone (J/cm^2)",
           "values": [
            2.73,
            3.4,
            3.79,
            6.44,
            5.36,
            8.99,
            8.8,
            14.67,
            5.24,
            14.89,
            10.13,
            4.51,
            5.37,
            4.88,
            6.76,
            7.77,
            8.73,
            9.38,
            10.48,
            11.01,
            14.71,
            15.44,
            13.37
           ]
          },
          {
           "axis": {
            "matches": true
           },
           "label": "Time (ms)",
           "values": [
            0.5,
            0.5,
            1,
            1,
            1.5,
            1.5,
            5,
            5,
            0.5,
            5,
            2,
            0.5,
            0.5,
            0.5,
            1,
            1,
            2,
            2,
            2,
            2,
            5,
            5,
            5
           ]
          },
          {
           "axis": {
            "matches": true
           },
           "label": "2 Qsw/(U+|D|) 1e6cycles",
           "values": [
            0.8730257299654021,
            2.677244640050493,
            1.6990152147413928,
            3.8050528055652655,
            3.3348561928152627,
            4.535152817359003,
            1.3625102372531497,
            3.841290609056986,
            1.2013569985324948,
            3.5136521918176413,
            3.4708714822041062,
            0.2632982379553876,
            2.7753404356378253,
            2.5913062464887977,
            2.579984359259049,
            3.1738185691110727,
            0.1315049942519029,
            0.4511637114621348,
            2.126639748505365,
            3.468212840642842,
            3.685852431471957,
            3.445655582638384,
            2.651546836022379
           ]
          }
         ],
         "hovertemplate": "%{xaxis.title.text}=%{x}<br>%{yaxis.title.text}=%{y}<extra></extra>",
         "legendgroup": "",
         "marker": {
          "color": "#636efa",
          "symbol": "circle"
         },
         "name": "",
         "showlegend": false,
         "type": "splom"
        }
       ],
       "layout": {
        "template": {
         "data": {
          "histogram2dcontour": [
           {
            "type": "histogram2dcontour",
            "colorbar": {
             "outlinewidth": 0,
             "ticks": ""
            },
            "colorscale": [
             [
              0,
              "#0d0887"
             ],
             [
              0.1111111111111111,
              "#46039f"
             ],
             [
              0.2222222222222222,
              "#7201a8"
             ],
             [
              0.3333333333333333,
              "#9c179e"
             ],
             [
              0.4444444444444444,
              "#bd3786"
             ],
             [
              0.5555555555555556,
              "#d8576b"
             ],
             [
              0.6666666666666666,
              "#ed7953"
             ],
             [
              0.7777777777777778,
              "#fb9f3a"
             ],
             [
              0.8888888888888888,
              "#fdca26"
             ],
             [
              1,
              "#f0f921"
             ]
            ]
           }
          ],
          "choropleth": [
           {
            "type": "choropleth",
            "colorbar": {
             "outlinewidth": 0,
             "ticks": ""
            }
           }
          ],
          "histogram2d": [
           {
            "type": "histogram2d",
            "colorbar": {
             "outlinewidth": 0,
             "ticks": ""
            },
            "colorscale": [
             [
              0,
              "#0d0887"
             ],
             [
              0.1111111111111111,
              "#46039f"
             ],
             [
              0.2222222222222222,
              "#7201a8"
             ],
             [
              0.3333333333333333,
              "#9c179e"
             ],
             [
              0.4444444444444444,
              "#bd3786"
             ],
             [
              0.5555555555555556,
              "#d8576b"
             ],
             [
              0.6666666666666666,
              "#ed7953"
             ],
             [
              0.7777777777777778,
              "#fb9f3a"
             ],
             [
              0.8888888888888888,
              "#fdca26"
             ],
             [
              1,
              "#f0f921"
             ]
            ]
           }
          ],
          "heatmap": [
           {
            "type": "heatmap",
            "colorbar": {
             "outlinewidth": 0,
             "ticks": ""
            },
            "colorscale": [
             [
              0,
              "#0d0887"
             ],
             [
              0.1111111111111111,
              "#46039f"
             ],
             [
              0.2222222222222222,
              "#7201a8"
             ],
             [
              0.3333333333333333,
              "#9c179e"
             ],
             [
              0.4444444444444444,
              "#bd3786"
             ],
             [
              0.5555555555555556,
              "#d8576b"
             ],
             [
              0.6666666666666666,
              "#ed7953"
             ],
             [
              0.7777777777777778,
              "#fb9f3a"
             ],
             [
              0.8888888888888888,
              "#fdca26"
             ],
             [
              1,
              "#f0f921"
             ]
            ]
           }
          ],
          "heatmapgl": [
           {
            "type": "heatmapgl",
            "colorbar": {
             "outlinewidth": 0,
             "ticks": ""
            },
            "colorscale": [
             [
              0,
              "#0d0887"
             ],
             [
              0.1111111111111111,
              "#46039f"
             ],
             [
              0.2222222222222222,
              "#7201a8"
             ],
             [
              0.3333333333333333,
              "#9c179e"
             ],
             [
              0.4444444444444444,
              "#bd3786"
             ],
             [
              0.5555555555555556,
              "#d8576b"
             ],
             [
              0.6666666666666666,
              "#ed7953"
             ],
             [
              0.7777777777777778,
              "#fb9f3a"
             ],
             [
              0.8888888888888888,
              "#fdca26"
             ],
             [
              1,
              "#f0f921"
             ]
            ]
           }
          ],
          "contourcarpet": [
           {
            "type": "contourcarpet",
            "colorbar": {
             "outlinewidth": 0,
             "ticks": ""
            }
           }
          ],
          "contour": [
           {
            "type": "contour",
            "colorbar": {
             "outlinewidth": 0,
             "ticks": ""
            },
            "colorscale": [
             [
              0,
              "#0d0887"
             ],
             [
              0.1111111111111111,
              "#46039f"
             ],
             [
              0.2222222222222222,
              "#7201a8"
             ],
             [
              0.3333333333333333,
              "#9c179e"
             ],
             [
              0.4444444444444444,
              "#bd3786"
             ],
             [
              0.5555555555555556,
              "#d8576b"
             ],
             [
              0.6666666666666666,
              "#ed7953"
             ],
             [
              0.7777777777777778,
              "#fb9f3a"
             ],
             [
              0.8888888888888888,
              "#fdca26"
             ],
             [
              1,
              "#f0f921"
             ]
            ]
           }
          ],
          "surface": [
           {
            "type": "surface",
            "colorbar": {
             "outlinewidth": 0,
             "ticks": ""
            },
            "colorscale": [
             [
              0,
              "#0d0887"
             ],
             [
              0.1111111111111111,
              "#46039f"
             ],
             [
              0.2222222222222222,
              "#7201a8"
             ],
             [
              0.3333333333333333,
              "#9c179e"
             ],
             [
              0.4444444444444444,
              "#bd3786"
             ],
             [
              0.5555555555555556,
              "#d8576b"
             ],
             [
              0.6666666666666666,
              "#ed7953"
             ],
             [
              0.7777777777777778,
              "#fb9f3a"
             ],
             [
              0.8888888888888888,
              "#fdca26"
             ],
             [
              1,
              "#f0f921"
             ]
            ]
           }
          ],
          "mesh3d": [
           {
            "type": "mesh3d",
            "colorbar": {
             "outlinewidth": 0,
             "ticks": ""
            }
           }
          ],
          "scatter": [
           {
            "fillpattern": {
             "fillmode": "overlay",
             "size": 10,
             "solidity": 0.2
            },
            "type": "scatter"
           }
          ],
          "parcoords": [
           {
            "type": "parcoords",
            "line": {
             "colorbar": {
              "outlinewidth": 0,
              "ticks": ""
             }
            }
           }
          ],
          "scatterpolargl": [
           {
            "type": "scatterpolargl",
            "marker": {
             "colorbar": {
              "outlinewidth": 0,
              "ticks": ""
             }
            }
           }
          ],
          "bar": [
           {
            "error_x": {
             "color": "#2a3f5f"
            },
            "error_y": {
             "color": "#2a3f5f"
            },
            "marker": {
             "line": {
              "color": "#E5ECF6",
              "width": 0.5
             },
             "pattern": {
              "fillmode": "overlay",
              "size": 10,
              "solidity": 0.2
             }
            },
            "type": "bar"
           }
          ],
          "scattergeo": [
           {
            "type": "scattergeo",
            "marker": {
             "colorbar": {
              "outlinewidth": 0,
              "ticks": ""
             }
            }
           }
          ],
          "scatterpolar": [
           {
            "type": "scatterpolar",
            "marker": {
             "colorbar": {
              "outlinewidth": 0,
              "ticks": ""
             }
            }
           }
          ],
          "histogram": [
           {
            "marker": {
             "pattern": {
              "fillmode": "overlay",
              "size": 10,
              "solidity": 0.2
             }
            },
            "type": "histogram"
           }
          ],
          "scattergl": [
           {
            "type": "scattergl",
            "marker": {
             "colorbar": {
              "outlinewidth": 0,
              "ticks": ""
             }
            }
           }
          ],
          "scatter3d": [
           {
            "type": "scatter3d",
            "line": {
             "colorbar": {
              "outlinewidth": 0,
              "ticks": ""
             }
            },
            "marker": {
             "colorbar": {
              "outlinewidth": 0,
              "ticks": ""
             }
            }
           }
          ],
          "scattermapbox": [
           {
            "type": "scattermapbox",
            "marker": {
             "colorbar": {
              "outlinewidth": 0,
              "ticks": ""
             }
            }
           }
          ],
          "scatterternary": [
           {
            "type": "scatterternary",
            "marker": {
             "colorbar": {
              "outlinewidth": 0,
              "ticks": ""
             }
            }
           }
          ],
          "scattercarpet": [
           {
            "type": "scattercarpet",
            "marker": {
             "colorbar": {
              "outlinewidth": 0,
              "ticks": ""
             }
            }
           }
          ],
          "carpet": [
           {
            "aaxis": {
             "endlinecolor": "#2a3f5f",
             "gridcolor": "white",
             "linecolor": "white",
             "minorgridcolor": "white",
             "startlinecolor": "#2a3f5f"
            },
            "baxis": {
             "endlinecolor": "#2a3f5f",
             "gridcolor": "white",
             "linecolor": "white",
             "minorgridcolor": "white",
             "startlinecolor": "#2a3f5f"
            },
            "type": "carpet"
           }
          ],
          "table": [
           {
            "cells": {
             "fill": {
              "color": "#EBF0F8"
             },
             "line": {
              "color": "white"
             }
            },
            "header": {
             "fill": {
              "color": "#C8D4E3"
             },
             "line": {
              "color": "white"
             }
            },
            "type": "table"
           }
          ],
          "barpolar": [
           {
            "marker": {
             "line": {
              "color": "#E5ECF6",
              "width": 0.5
             },
             "pattern": {
              "fillmode": "overlay",
              "size": 10,
              "solidity": 0.2
             }
            },
            "type": "barpolar"
           }
          ],
          "pie": [
           {
            "automargin": true,
            "type": "pie"
           }
          ]
         },
         "layout": {
          "autotypenumbers": "strict",
          "colorway": [
           "#636efa",
           "#EF553B",
           "#00cc96",
           "#ab63fa",
           "#FFA15A",
           "#19d3f3",
           "#FF6692",
           "#B6E880",
           "#FF97FF",
           "#FECB52"
          ],
          "font": {
           "color": "#2a3f5f"
          },
          "hovermode": "closest",
          "hoverlabel": {
           "align": "left"
          },
          "paper_bgcolor": "white",
          "plot_bgcolor": "#E5ECF6",
          "polar": {
           "bgcolor": "#E5ECF6",
           "angularaxis": {
            "gridcolor": "white",
            "linecolor": "white",
            "ticks": ""
           },
           "radialaxis": {
            "gridcolor": "white",
            "linecolor": "white",
            "ticks": ""
           }
          },
          "ternary": {
           "bgcolor": "#E5ECF6",
           "aaxis": {
            "gridcolor": "white",
            "linecolor": "white",
            "ticks": ""
           },
           "baxis": {
            "gridcolor": "white",
            "linecolor": "white",
            "ticks": ""
           },
           "caxis": {
            "gridcolor": "white",
            "linecolor": "white",
            "ticks": ""
           }
          },
          "coloraxis": {
           "colorbar": {
            "outlinewidth": 0,
            "ticks": ""
           }
          },
          "colorscale": {
           "sequential": [
            [
             0,
             "#0d0887"
            ],
            [
             0.1111111111111111,
             "#46039f"
            ],
            [
             0.2222222222222222,
             "#7201a8"
            ],
            [
             0.3333333333333333,
             "#9c179e"
            ],
            [
             0.4444444444444444,
             "#bd3786"
            ],
            [
             0.5555555555555556,
             "#d8576b"
            ],
            [
             0.6666666666666666,
             "#ed7953"
            ],
            [
             0.7777777777777778,
             "#fb9f3a"
            ],
            [
             0.8888888888888888,
             "#fdca26"
            ],
            [
             1,
             "#f0f921"
            ]
           ],
           "sequentialminus": [
            [
             0,
             "#0d0887"
            ],
            [
             0.1111111111111111,
             "#46039f"
            ],
            [
             0.2222222222222222,
             "#7201a8"
            ],
            [
             0.3333333333333333,
             "#9c179e"
            ],
            [
             0.4444444444444444,
             "#bd3786"
            ],
            [
             0.5555555555555556,
             "#d8576b"
            ],
            [
             0.6666666666666666,
             "#ed7953"
            ],
            [
             0.7777777777777778,
             "#fb9f3a"
            ],
            [
             0.8888888888888888,
             "#fdca26"
            ],
            [
             1,
             "#f0f921"
            ]
           ],
           "diverging": [
            [
             0,
             "#8e0152"
            ],
            [
             0.1,
             "#c51b7d"
            ],
            [
             0.2,
             "#de77ae"
            ],
            [
             0.3,
             "#f1b6da"
            ],
            [
             0.4,
             "#fde0ef"
            ],
            [
             0.5,
             "#f7f7f7"
            ],
            [
             0.6,
             "#e6f5d0"
            ],
            [
             0.7,
             "#b8e186"
            ],
            [
             0.8,
             "#7fbc41"
            ],
            [
             0.9,
             "#4d9221"
            ],
            [
             1,
             "#276419"
            ]
           ]
          },
          "xaxis": {
           "gridcolor": "white",
           "linecolor": "white",
           "ticks": "",
           "title": {
            "standoff": 15
           },
           "zerolinecolor": "white",
           "automargin": true,
           "zerolinewidth": 2
          },
          "yaxis": {
           "gridcolor": "white",
           "linecolor": "white",
           "ticks": "",
           "title": {
            "standoff": 15
           },
           "zerolinecolor": "white",
           "automargin": true,
           "zerolinewidth": 2
          },
          "scene": {
           "xaxis": {
            "backgroundcolor": "#E5ECF6",
            "gridcolor": "white",
            "linecolor": "white",
            "showbackground": true,
            "ticks": "",
            "zerolinecolor": "white",
            "gridwidth": 2
           },
           "yaxis": {
            "backgroundcolor": "#E5ECF6",
            "gridcolor": "white",
            "linecolor": "white",
            "showbackground": true,
            "ticks": "",
            "zerolinecolor": "white",
            "gridwidth": 2
           },
           "zaxis": {
            "backgroundcolor": "#E5ECF6",
            "gridcolor": "white",
            "linecolor": "white",
            "showbackground": true,
            "ticks": "",
            "zerolinecolor": "white",
            "gridwidth": 2
           }
          },
          "shapedefaults": {
           "line": {
            "color": "#2a3f5f"
           }
          },
          "annotationdefaults": {
           "arrowcolor": "#2a3f5f",
           "arrowhead": 0,
           "arrowwidth": 1
          },
          "geo": {
           "bgcolor": "white",
           "landcolor": "#E5ECF6",
           "subunitcolor": "white",
           "showland": true,
           "showlakes": true,
           "lakecolor": "white"
          },
          "title": {
           "x": 0.05
          },
          "mapbox": {
           "style": "light"
          }
         }
        },
        "legend": {
         "tracegroupgap": 0
        },
        "margin": {
         "t": 10,
         "r": 20,
         "l": 10,
         "b": 10
        },
        "dragmode": "select",
        "height": 800
       },
       "config": {
        "plotlyServerURL": "https://plot.ly"
       }
      }
     },
     "metadata": {}
    }
   ],
   "metadata": {}
  },
  {
   "cell_type": "code",
   "execution_count": 8,
   "source": [
    "# make training data, maintain params to de-normalize\n",
    "# x_sd_mean, y_sd_mean, train_x, train_y = datasetmaker(fe_data)\n",
    "train_x, train_y = datasetmaker(fe_data)\n"
   ],
   "outputs": [],
   "metadata": {}
  },
  {
   "cell_type": "markdown",
   "source": [
    "### Grid/Parameter Space"
   ],
   "metadata": {}
  },
  {
   "cell_type": "code",
   "execution_count": 9,
   "source": [
    "# create grid for grid search\n",
    "def grid_helper(grid_size, num_params, grid_bounds):\n",
    "    \"\"\"\n",
    "    [grid_helper(grid_size, num_params, grid_bounds)] returns a grid of dimensions\n",
    "    [grid_size] by [num_params], which dictates the parameter space for GP to be \n",
    "    conducted over. \n",
    "    \"\"\"\n",
    "    grid = torch.zeros(grid_size, num_params)\n",
    "    f_grid_diff = lambda i, x, y : float((x[i][1] - x[i][0]) / (y-2))\n",
    "    for i in range(num_params):\n",
    "        grid_diff = f_grid_diff(i, grid_bounds, grid_size)\n",
    "        grid[:, i] = torch.linspace(grid_bounds[i][0] - grid_diff, \n",
    "                                    grid_bounds[i][1] + grid_diff, grid_size)\n",
    "    return grid\n",
    "\n",
    "def grid_maker(train_x, num_points=30):\n",
    "    \"\"\"\n",
    "    [grid_maker(train_x, num_points=30)] creates grids to be used for gaussian \n",
    "    process predictions. It outputs the dimension of the grid [num_params], \n",
    "    paramater space grid [test_grid], and [test_x].\n",
    "    \"\"\"\n",
    "    # define grid between bounds of RTA time, RTA temp\n",
    "    num_params = train_x.size(dim=1)\n",
    "    grid_bounds = [(train_x[:,i].min(), train_x[:,i].max()) for i in range(num_params)]\n",
    "\n",
    "    # set up test_grid for predictions\n",
    "    test_grid = grid_helper(num_points, num_params, grid_bounds)\n",
    "\n",
    "    # create n-D grid with n = num_params\n",
    "    args = (test_grid[:, i] for i in range(num_params))\n",
    "    test_x = torch.cartesian_prod(*args)\n",
    "    return grid_bounds, num_params, test_grid, test_x\n"
   ],
   "outputs": [],
   "metadata": {}
  },
  {
   "cell_type": "code",
   "execution_count": 10,
   "source": [
    "# create grid based on parameter space for search\n",
    "grid_bounds, num_params, test_grid, test_x = grid_maker(train_x)"
   ],
   "outputs": [],
   "metadata": {}
  },
  {
   "cell_type": "markdown",
   "source": [
    "### Noise Calculations"
   ],
   "metadata": {}
  },
  {
   "cell_type": "markdown",
   "source": [
    "Our figure of merit, fom, is $2 Q_{sw}/(U+|D|),$ so error propagation would result in a error of $\\sigma_{fom} = |fom|\\sqrt{{(\\sigma_{Q_{sw}}/Q_{sw}})^2+{(\\sigma_U^2 + \\sigma_{|D|}^2)/(U+|D|)^2)}}$. We have data for $2Pr$ measurements wrt device area. Using the $10\\mu$ m $\\times 10\\mu$ m data, we approximate the error for the figure of merit as simply $\\sigma_{2Pr}$, as we do not have $\\sigma_U$ or $\\sigma_D.$ \n"
   ],
   "metadata": {}
  },
  {
   "cell_type": "code",
   "execution_count": 11,
   "source": [
    "fn = \"/Users/valenetjong/Bayesian-Optimization-Ferroelectrics/data/P vs area.xlsx\"\n",
    "excel_file = pd.read_excel(fn, sheet_name='Sheet1')\n",
    "col_2Pr_10by10 = excel_file['10umx10um']\n",
    "sd = col_2Pr_10by10.std()/col_2Pr_10by10.mean()\n",
    "print(sd)\n",
    "print(col_2Pr_10by10)"
   ],
   "outputs": [
    {
     "output_type": "stream",
     "name": "stdout",
     "text": [
      "0.04469365441252401\n",
      "0     34.57379\n",
      "1     35.96416\n",
      "2     33.16083\n",
      "3     35.96861\n",
      "4     37.10497\n",
      "5     35.86549\n",
      "6     35.81341\n",
      "7     33.01597\n",
      "8     35.71753\n",
      "9     38.37434\n",
      "10    34.11144\n",
      "11    33.57596\n",
      "12    35.15750\n",
      "13    35.01515\n",
      "14    36.01072\n",
      "15    37.04952\n",
      "16    36.48895\n",
      "17    35.63807\n",
      "18    37.36247\n",
      "19    39.05057\n",
      "Name: 10umx10um, dtype: float64\n"
     ]
    }
   ],
   "metadata": {}
  },
  {
   "cell_type": "markdown",
   "source": [
    "### Initialize Model"
   ],
   "metadata": {}
  },
  {
   "cell_type": "code",
   "execution_count": 12,
   "source": [
    "# configuration parameters for training\n",
    "class Config():\n",
    "    def __init__(self):\n",
    "        self.epochs = 2500\n",
    "        self.kernel = \"matern\"\n",
    "        self.lr = 0.005\n",
    "        self.lscale_1 = 0.114\n",
    "        self.lscale_2 = 0.0488\n",
    "        self.lscale_3 = None\n",
    "        self.lscale_4 = None\n",
    "        self.dim = 2\n",
    "        self.noise = 0.15\n",
    "\n",
    "config = Config()"
   ],
   "outputs": [],
   "metadata": {}
  },
  {
   "cell_type": "code",
   "execution_count": 13,
   "source": [
    "# make model\n",
    "def kernel_func(config_kernel, num_params, lscale):\n",
    "    \"\"\"\n",
    "    [kernel_func(config_kernel, num_params, lscale)] returns kernel function with \n",
    "    dimensions specified by [num_params]. \n",
    "    \"\"\"\n",
    "    if config_kernel == \"rbf\":\n",
    "        return gpytorch.kernels.ScaleKernel(\n",
    "            gpytorch.kernels.RBFKernel(ard_num_dims=num_params))\n",
    "    elif config_kernel == \"matern\":\n",
    "        return gpytorch.kernels.ScaleKernel(gpytorch.kernels.MaternKernel(ard_num_dims=num_params, \n",
    "        lengthscale = torch.tensor(lscale), nu=0.5))\n",
    "\n",
    "def make_model(train_x, train_y, num_params, config):\n",
    "    \"\"\"\n",
    "    [make_model(train_x, train_y, num_params, config)] returns likelihood and \n",
    "    model with lengthscale, noise, kernel function specified by sweeps. \n",
    "    \"\"\"\n",
    "    \n",
    "    if config.dim == 2:\n",
    "        lscale = [config.lscale_1, config.lscale_2]\n",
    "    elif config.dim == 4:\n",
    "        lscale = [config.lscale_1, config.lscale_2, config.lscale_3, config.lscale_4]\n",
    "    kernel = kernel_func(config.kernel, num_params, lscale)\n",
    "    \n",
    "    print(kernel)\n",
    "    num_samples = len(train_x)\n",
    "    noise = config.noise*torch.ones(num_samples)\n",
    "    likelihood = gpytorch.likelihoods.FixedNoiseGaussianLikelihood(noise=noise)\n",
    "    model = GPModel(train_x, train_y, likelihood, kernel)\n",
    "\n",
    "    return likelihood, model, lscale\n",
    "    "
   ],
   "outputs": [],
   "metadata": {}
  },
  {
   "cell_type": "code",
   "execution_count": 14,
   "source": [
    "def intermediate_plot(f, ax, obs, title):\n",
    "    im = ax.imshow(obs.mean.view(30, 30), aspect='equal',\n",
    "                extent=[grid_bounds[0][0].item(), grid_bounds[0][1].item(),\n",
    "                            grid_bounds[1][0].item(), grid_bounds[1][1].item()])\n",
    "    f.colorbar(im)\n",
    "    ax.set_title(title)"
   ],
   "outputs": [],
   "metadata": {}
  },
  {
   "cell_type": "markdown",
   "source": [
    "### GP Training and Eval"
   ],
   "metadata": {}
  },
  {
   "cell_type": "code",
   "execution_count": 15,
   "source": [
    "# training and evaluation\n",
    "def train(train_x, train_y, num_params, config):\n",
    "    likelihood, model, lscale = make_model(train_x, train_y, num_params, config)\n",
    "    model.covar_module.base_kernel.lengthscale = torch.Tensor(lscale)\n",
    "    training_iter = config.epochs\n",
    "    model.covar_module.base_kernel.raw_lengthscale.requires_grad_(False) # disallow training of lengthscale\n",
    "    \n",
    "    # place both the model and likelihood in training mode\n",
    "    model.train(), likelihood.train()\n",
    "\n",
    "    # use Adam\n",
    "    optimizer = torch.optim.Adam(model.parameters(), lr=config.lr)\n",
    "\n",
    "    # set GP loss as the marginal log likelihood\n",
    "    mll = gpytorch.mlls.ExactMarginalLogLikelihood(likelihood, model)\n",
    "    loss_lst = []\n",
    "\n",
    "    for i in range(training_iter):\n",
    "        optimizer.zero_grad()\n",
    "        output = model(train_x)\n",
    "\n",
    "        # backpropagate error\n",
    "        loss = -mll(output, train_y)\n",
    "        loss.backward()\n",
    "\n",
    "        if i % 500 == 0: \n",
    "            print('Iter %d/%d - Loss: %.3f  lengthscale1: %s   noise: %s' % (\n",
    "                    i+1, training_iter, loss.item(), \n",
    "                    model.covar_module.base_kernel.lengthscale.detach().numpy(),\n",
    "                    model.likelihood.noise.detach().numpy()\n",
    "                    )) \n",
    "            loss_lst.append(loss.item())\n",
    "\n",
    "        # if i % 1000 == 0:\n",
    "        # # get a quick snapshot of intermediate \n",
    "        #     model.eval()\n",
    "        #     likelihood.eval()\n",
    "        #     with torch.no_grad(), gpytorch.settings.fast_pred_var():\n",
    "        #         obs = likelihood(model(test_x))\n",
    "        #         f, ax = plt.subplots(1, 1, figsize=(4,3))\n",
    "        #         intermediate_plot(f, ax, obs, f'iter {i+1}/{training_iter}')\n",
    "        #     model.train()\n",
    "        #     likelihood.train()\n",
    "        optimizer.step()\n",
    "        \n",
    "    print(model.covar_module.outputscale.detach().numpy())\n",
    "    return likelihood, model, loss_lst\n",
    "\n",
    "def eval_mod(likelihood, model, test_x):\n",
    "    \"\"\" \n",
    "    [eval_mod(likelihood, model, test_x)] evaluates GP model. \n",
    "    \"\"\"\n",
    "    model.eval(), likelihood.eval()\n",
    "    with torch.no_grad(), gpytorch.settings.fast_pred_var():\n",
    "        obs = likelihood(model(test_x), noise=(torch.ones(len(test_x))*config.noise))\n",
    "    return obs"
   ],
   "outputs": [],
   "metadata": {}
  },
  {
   "cell_type": "code",
   "execution_count": 16,
   "source": [
    "# train model and evaluate\n",
    "likelihood, model, loss_lst = train(train_x, train_y, num_params, config)\n",
    "\n",
    "obs = eval_mod(likelihood, model, test_x)"
   ],
   "outputs": [
    {
     "output_type": "stream",
     "name": "stdout",
     "text": [
      "ScaleKernel(\n",
      "  (base_kernel): MaternKernel(\n",
      "    (raw_lengthscale_constraint): Positive()\n",
      "  )\n",
      "  (raw_outputscale_constraint): Positive()\n",
      ")\n",
      "Iter 1/2500 - Loss: 3.777  lengthscale1: [[0.11400001 0.0488    ]]   noise: [0.15 0.15 0.15 0.15 0.15 0.15 0.15 0.15 0.15 0.15 0.15 0.15 0.15 0.15\n",
      " 0.15 0.15 0.15 0.15 0.15 0.15 0.15 0.15 0.15]\n",
      "Iter 501/2500 - Loss: 1.779  lengthscale1: [[0.11400001 0.0488    ]]   noise: [0.15 0.15 0.15 0.15 0.15 0.15 0.15 0.15 0.15 0.15 0.15 0.15 0.15 0.15\n",
      " 0.15 0.15 0.15 0.15 0.15 0.15 0.15 0.15 0.15]\n",
      "Iter 1001/2500 - Loss: 1.661  lengthscale1: [[0.11400001 0.0488    ]]   noise: [0.15 0.15 0.15 0.15 0.15 0.15 0.15 0.15 0.15 0.15 0.15 0.15 0.15 0.15\n",
      " 0.15 0.15 0.15 0.15 0.15 0.15 0.15 0.15 0.15]\n",
      "Iter 1501/2500 - Loss: 1.654  lengthscale1: [[0.11400001 0.0488    ]]   noise: [0.15 0.15 0.15 0.15 0.15 0.15 0.15 0.15 0.15 0.15 0.15 0.15 0.15 0.15\n",
      " 0.15 0.15 0.15 0.15 0.15 0.15 0.15 0.15 0.15]\n",
      "Iter 2001/2500 - Loss: 1.653  lengthscale1: [[0.11400001 0.0488    ]]   noise: [0.15 0.15 0.15 0.15 0.15 0.15 0.15 0.15 0.15 0.15 0.15 0.15 0.15 0.15\n",
      " 0.15 0.15 0.15 0.15 0.15 0.15 0.15 0.15 0.15]\n",
      "1.8133795\n"
     ]
    }
   ],
   "metadata": {}
  },
  {
   "cell_type": "markdown",
   "source": [
    "### GP Training Results"
   ],
   "metadata": {}
  },
  {
   "cell_type": "code",
   "execution_count": 17,
   "source": [
    "import matplotlib.pyplot as plt\n",
    "from sklearn.metrics import mean_squared_error, mean_absolute_error,r2_score\n",
    "from scipy.stats import spearmanr\n",
    "import matplotlib.pyplot as plt \n",
    "from plotter import prettyplot"
   ],
   "outputs": [],
   "metadata": {}
  },
  {
   "cell_type": "code",
   "execution_count": 18,
   "source": [
    "# get error metrics\n",
    "def get_err(train_y, y_preds_mean):\n",
    "    rmse = np.sqrt(mean_squared_error(train_y, y_preds_mean))\n",
    "    mae = mean_absolute_error(train_y,  y_preds_mean)\n",
    "    spearman = spearmanr(train_y, y_preds_mean)[0]\n",
    "    r2 = r2_score(train_y, y_preds_mean)\n",
    "    return [round_three(i) for i in [rmse, mae, spearman, r2]]\n",
    "\n",
    "def plot_err(axes, train_y, y_preds_mean, y_uncer, err_vals, fs):\n",
    "    # training versus actuals plot: make plot, set title and axes values\n",
    "    ax = axes[0]\n",
    "    ax.scatter(train_y, y_preds_mean)\n",
    "    low_lim, upp_lim = int(min(train_y).item()), int(np.ceil(max(train_y).item()))\n",
    "    ax.plot(np.linspace(low_lim, upp_lim), np.linspace(low_lim, upp_lim), 'k--')\n",
    "    ax.set_xlim(low_lim, upp_lim)\n",
    "    ax.set_ylim(low_lim, upp_lim)\n",
    "\n",
    "    # sort train_y to enable fill_between to exhibit correct functionality\n",
    "    sorted_train_y, sorted_indices_y = np.sort(train_y), np.argsort(train_y)\n",
    "    low_bound = (y_preds_mean-y_uncer)[sorted_indices_y]\n",
    "    upp_bound = (y_preds_mean+y_uncer)[sorted_indices_y]\n",
    "    ax.fill_between(sorted_train_y, low_bound, upp_bound, color = \"grey\", alpha = 0.3)    \n",
    "    ax.set_xlabel('Ground Truth 2 Qsw/(U+|D|) 1e6', fontsize = fs)\n",
    "    ax.set_ylabel('Prediction 2 Qsw/(U+|D|) 1e6', fontsize = fs)\n",
    "    ax.set_title('GP Training Results' + \" (MAE=%.2f\" % err_vals[1]+' [%])', fontsize = fs)\n",
    "\n",
    "def plot_training_loss(axes, loss_lst, fs):\n",
    "    ax = axes[1]\n",
    "    ax.plot(loss_lst, 'o-')\n",
    "    ax.set_xlabel('Epoch (Per 100)', fontsize = fs)\n",
    "    ax.set_ylabel('Marginal Log Likelihood', fontsize = fs)\n",
    "    ax.set_title('Training Loss' + \" (Loss=%.2f\" % loss_lst[-1] + ')', fontsize = fs)\n",
    "\n",
    "def plot_gp_res(train_y, y_preds_mean, loss_lst, y_uncer):\n",
    "    prettyplot()\n",
    "    fig, axes = plt.subplots(1, 3, figsize=(5.5*3, 4.5))\n",
    "    fs = 14\n",
    "\n",
    "    # print error metrics\n",
    "    err_vals = get_err(train_y, y_preds_mean)\n",
    "    data = {'Metric': ['RMSE', 'MAE', 'Spearman', 'R² score'], 'Value': err_vals}\n",
    "    df = pd.DataFrame(data)\n",
    "    print(df)\n",
    "\n",
    "    # plot error, training loss\n",
    "    plot_err(axes, train_y, y_preds_mean, y_uncer, err_vals, fs)\n",
    "    if loss_lst: plot_training_loss(axes, loss_lst, fs)\n",
    "    else: axes[1].axis(\"off\")\n",
    "    axes[2].axis(\"off\")\n",
    "\n",
    "    for i in range(len(axes)):\n",
    "        axes[i].tick_params(direction='in', length=5, width=1, labelsize = fs*.8)\n",
    "    plt.subplots_adjust(wspace = 0.4)\n",
    "\n",
    "    plt.show()"
   ],
   "outputs": [],
   "metadata": {}
  },
  {
   "cell_type": "code",
   "execution_count": 19,
   "source": [
    "round_three = lambda val: np.round(val, 3) \n",
    "y_preds = likelihood(model(train_x))\n",
    "f_var = model(train_x).variance\n",
    "\n",
    "with torch.no_grad(): y_preds_mean, f_var = y_preds.mean.numpy(), np.sqrt(f_var).numpy()\n",
    "plot_gp_res(train_y, y_preds_mean, loss_lst, f_var)"
   ],
   "outputs": [
    {
     "output_type": "stream",
     "name": "stdout",
     "text": [
      "     Metric  Value\n",
      "0      RMSE  0.147\n",
      "1       MAE  0.122\n",
      "2  Spearman  0.980\n",
      "3  R² score  0.986"
     ]
    },
    {
     "output_type": "stream",
     "name": "stderr",
     "text": [
      "/Users/valenetjong/opt/anaconda3/envs/FEGP/lib/python3.9/site-packages/gpytorch/models/exact_gp.py:274: GPInputWarning:\n",
      "\n",
      "The input matches the stored training data. Did you forget to call model.train()?\n",
      "\n"
     ]
    },
    {
     "output_type": "stream",
     "name": "stdout",
     "text": [
      "\n"
     ]
    },
    {
     "output_type": "display_data",
     "data": {
      "image/png": "[encoded data removed]",
      "text/plain": [
       "<Figure size 3300x900 with 3 Axes>"
      ]
     },
     "metadata": {}
    }
   ],
   "metadata": {}
  },
  {
   "cell_type": "code",
   "execution_count": 20,
   "source": [
    "# acquisition function for prediction/exploration\n",
    "def get_bounds(n): return [n for i in range(config.dim)]\n",
    "\n",
    "def unravel_acq(acq_func, obs, bounds, train_y, nshape):\n",
    "    \"\"\" \n",
    "    [unravel_acq(acq_func, obs, bounds, train_y, nshape)] is a helper function \n",
    "    for acq that returns the coordinates of the maximum value of the acq_func \n",
    "    over the test grid in the form of a tuple (row_index, column_index). \n",
    "\n",
    "    row_index = index into time\n",
    "    column_index = index into energy density\n",
    "    \"\"\"\n",
    "    acq = acq_func(obs, bounds, train_y).detach().numpy().reshape(nshape).T\n",
    "    return np.unravel_index(acq.argmax(), acq.shape)\n",
    "\n",
    "def acq(obs, train_y, bounds):\n",
    "    \"\"\" \n",
    "    [acq(obs, train_y, bounds)] evaluates acquisition functions on current \n",
    "    predictions (observations) and outputs suggested points for exploration \n",
    "    on manifold. \n",
    "    \"\"\"\n",
    "    transpose = lambda tensor: tensor.detach().numpy().reshape(nshape).T\n",
    "    nshape = tuple(bounds)\n",
    "\n",
    "    pi = unravel_acq(PI, obs, bounds, train_y, nshape) # prob of improvement\n",
    "    ei = unravel_acq(EI, obs, bounds, train_y, nshape) # expected improvement\n",
    "    ca = unravel_acq(cust_acq, obs, bounds, train_y, nshape) # custom acq\n",
    "    th = unravel_acq(thompson, obs, bounds, train_y, nshape) # thompson acq\n",
    "\n",
    "    lower, upper = obs.confidence_region()\n",
    "    upper_surf, lower_surf = transpose(upper), transpose(lower)\n",
    "    ucb = np.unravel_index(upper_surf.argmax(), upper_surf.shape)\n",
    "\n",
    "    pred_var = obs.variance.view(nshape).detach().numpy().T\n",
    "    pred_labels = obs.mean.view(nshape)\n",
    "    max_var = np.unravel_index(pred_var.argmax(), pred_var.shape)\n",
    "\n",
    "    # acqs gives pairs corresponding to indices of time and energy density \n",
    "    # recommendations in grid; the pairs index into array pred_labels \n",
    "    acqs = {\"PI\":pi, \"EI\":ei, \"CA\":ca, \"TH\":th, \"UCB\":ucb, \"Max_var\":max_var}\n",
    "\n",
    "    return pred_labels, upper_surf, lower_surf, acqs"
   ],
   "outputs": [],
   "metadata": {}
  },
  {
   "cell_type": "code",
   "execution_count": 21,
   "source": [
    "# export predictions to csv\n",
    "def pred_to_csv(acqs, raw_pred_labels, raw_test_grid, file_out = \"preds.csv\"):\n",
    "    \"\"\"\n",
    "    [pred_to_csv(acqs, raw_pred_labels, raw_test_grid)] outputs suggested\n",
    "    inputs and their respective predicted outputs to csv; returns suggested point\n",
    "    corresponding to ucb acquisition.\n",
    "    \"\"\"   \n",
    "    dir = \"/Users/valenetjong/Bayesian-Optimization-Ferroelectrics/predictions/\"\n",
    "    file = open(dir + file_out, \"w\", encoding=\"utf-8\")\n",
    "    file.write(\"Energy density \\t Time (ms)\\n\")\n",
    "    data = {'Time(ms)':[], 'Energy density new cone (J/cm^2)':[], '2 Qsw/(U+|D|) 1e6':[]}\n",
    "    ucb = []\n",
    "    for lab, coords in acqs.items(): \n",
    "        time_val = raw_test_grid[coords[1]].tolist()[0]\n",
    "        energy_den_val = raw_test_grid[coords[0]].tolist()[1]\n",
    "        data['Time(ms)'].append(time_val)\n",
    "        data['Energy density new cone (J/cm^2)'].append(energy_den_val)\n",
    "        file.write(lab + \": \" + str(time_val) + \"\\t\" + str(energy_den_val) + \"\\n\")\n",
    "        if lab == \"UCB\": ucb.append(time_val*1000), ucb.append(energy_den_val)  # change units μs\n",
    "\n",
    "    file.write(\"\\nFigure of merit\\n\")\n",
    "    for lab, coords in acqs.items():\n",
    "        fig_of_merit = raw_pred_labels[coords].item()\n",
    "        data['2 Qsw/(U+|D|) 1e6'].append(fig_of_merit)\n",
    "        file.write(lab + \": \" + str(fig_of_merit) + \"\\n\")\n",
    "        if lab == \"UCB\": ucb.append(fig_of_merit)\n",
    "\n",
    "    df = pd.DataFrame(data)\n",
    "    print(df)\n",
    "    return ucb\n"
   ],
   "outputs": [],
   "metadata": {}
  },
  {
   "cell_type": "code",
   "execution_count": 22,
   "source": [
    "# get normalized predictions\n",
    "bounds = get_bounds(n=30)\n",
    "pred_labels, upper_surf, lower_surf, acqs = acq(obs, train_y, bounds)\n",
    "\n",
    "# undo scaling\n",
    "raw_train_x, raw_test_grid = un_norm_all(train_x, test_grid, scaler)\n"
   ],
   "outputs": [],
   "metadata": {}
  },
  {
   "cell_type": "markdown",
   "source": [
    "### Save Predictions and Visualize "
   ],
   "metadata": {}
  },
  {
   "cell_type": "code",
   "execution_count": 23,
   "source": [
    "# undo normalization and save to csv, get prediction point\n",
    "ucb = pred_to_csv(acqs, pred_labels, raw_test_grid)\n",
    "\n",
    "# suggested points (μs, J/cm^2)\n",
    "ucb_pt, nlcd_pt = (round(ucb[0],-1),round(ucb[1],2)), (2900, 9.04)\n",
    "print(ucb_pt)"
   ],
   "outputs": [
    {
     "output_type": "stream",
     "name": "stdout",
     "text": [
      "   Time(ms)  Energy density new cone (J/cm^2)  2 Qsw/(U+|D|) 1e6\n",
      "0  1.336823                          8.850209           2.532316\n",
      "1  1.336823                          8.850209           2.532316\n",
      "2  4.163177                         14.954765           2.576166\n",
      "3  4.495689                          5.563140           2.473230\n",
      "4  1.170567                          8.850209           2.501314\n",
      "5  5.160714                          2.276071           2.465387\n",
      "(1170.0, 8.85)\n"
     ]
    }
   ],
   "metadata": {}
  },
  {
   "cell_type": "code",
   "execution_count": 24,
   "source": [
    "# visualize acquisition function results and confidence bound surfaces\n",
    "vis_pred(raw_train_x, train_y, raw_test_grid, pred_labels)\n",
    "vis_acq(raw_train_x, train_y, raw_test_grid, pred_labels, upper_surf, lower_surf, acqs)"
   ],
   "outputs": [
    {
     "output_type": "display_data",
     "data": {
      "application/vnd.plotly.v1+json": {
       "data": [
        {
         "name": "GP regression",
         "x": [
          0.33928570710122585,
          0.5055418629199266,
          0.6717980187386274,
          0.8380541577935219,
          1.0043103471398354,
          1.1705665364861488,
          1.336822658777237,
          1.503078781068325,
          1.6693349033594131,
          1.8355910927057266,
          2.0018471479415894,
          2.168103337287903,
          2.3343595266342168,
          2.5006157159805302,
          2.6668719053268437,
          2.833128094673157,
          2.9993842840194707,
          3.165640473365784,
          3.3318966627120976,
          3.4981525838375096,
          3.664408773183823,
          3.8306649625301366,
          3.99692115187645,
          4.163177341222764,
          4.329433262348176,
          4.495689451694489,
          4.661945641040803,
          4.828201830387116,
          4.99445801973343,
          5.160714209079743
         ],
         "y": [
          2.276071443020234,
          2.745652702469288,
          3.215233961918342,
          3.684815174018958,
          4.154396528164888,
          4.623977882310818,
          5.093559047062996,
          5.563140211815174,
          6.032721376567352,
          6.502302730713282,
          6.971883706071708,
          7.441465060217638,
          7.911046414363568,
          8.380627768509498,
          8.850209122655428,
          9.319790476801359,
          9.789371830947289,
          10.258953185093219,
          10.72853453923915,
          11.19811513581007,
          11.667696489956,
          12.13727784410193,
          12.60685919824786,
          13.076440552393791,
          13.546021148964712,
          14.015602503110642,
          14.485183857256573,
          14.954765211402503,
          15.424346565548433,
          15.893927919694363
         ],
         "z": [
          [
           1.8131474256515503,
           1.7635140419006348,
           1.8120416402816772,
           1.9206173419952393,
           2.0365405082702637,
           2.1362075805664062,
           2.215381145477295,
           2.2764878273010254,
           2.3231940269470215,
           2.358766555786133,
           2.3857884407043457,
           2.406242847442627,
           2.4216537475585938,
           2.4332003593444824,
           2.4417994022369385,
           2.4481632709503174,
           2.452843427658081,
           2.4562647342681885,
           2.4587512016296387,
           2.4605484008789062,
           2.4618406295776367,
           2.462765693664551,
           2.4634246826171875,
           2.4638922214508057,
           2.4642226696014404,
           2.4644556045532227,
           2.4646193981170654,
           2.4647340774536133,
           2.4648146629333496,
           2.4648709297180176
          ],
          [
           1.4617403745651245,
           1.0621780157089233,
           1.4663898944854736,
           1.7481215000152588,
           1.9356765747070312,
           2.0663979053497314,
           2.162429094314575,
           2.235607147216797,
           2.292233943939209,
           2.336052417755127,
           2.369687557220459,
           2.395218849182129,
           2.4143693447113037,
           2.428569793701172,
           2.4389870166778564,
           2.44655442237854,
           2.452002763748169,
           2.4558932781219482,
           2.458651304244995,
           2.460592746734619,
           2.461951494216919,
           2.4628965854644775,
           2.463550567626953,
           2.464000940322876,
           2.4643096923828125,
           2.4645206928253174,
           2.4646642208099365,
           2.464761972427368,
           2.4648284912109375,
           2.464874029159546
          ],
          [
           2.1634113788604736,
           2.1949355602264404,
           2.106431722640991,
           2.0387463569641113,
           2.0366322994232178,
           2.0799710750579834,
           2.145080804824829,
           2.213094472885132,
           2.273803472518921,
           2.323669672012329,
           2.36263108253479,
           2.3920650482177734,
           2.4137542247772217,
           2.4294254779815674,
           2.4405665397644043,
           2.4483776092529297,
           2.4537880420684814,
           2.4574949741363525,
           2.4600095748901367,
           2.4616987705230713,
           2.4628231525421143,
           2.46356463432312,
           2.4640488624572754,
           2.4643619060516357,
           2.46456241607666,
           2.4646894931793213,
           2.4647693634033203,
           2.4648194313049316,
           2.464851140975952,
           2.464871644973755
          ],
          [
           2.155292510986328,
           2.146831750869751,
           2.0474438667297363,
           1.921692132949829,
           1.8519363403320312,
           1.9545435905456543,
           2.0806236267089844,
           2.185906171798706,
           2.267939567565918,
           2.3292627334594727,
           2.37361478805542,
           2.404794931411743,
           2.4261696338653564,
           2.4404923915863037,
           2.449887752532959,
           2.455923557281494,
           2.4597184658050537,
           2.4620473384857178,
           2.463435173034668,
           2.464230537414551,
           2.4646615982055664,
           2.464874029159546,
           2.4649600982666016,
           2.4649770259857178,
           2.464959144592285,
           2.4649271965026855,
           2.4648923873901367,
           2.4648609161376953,
           2.4648356437683105,
           2.464817762374878
          ],
          [
           1.5067201852798462,
           1.388667106628418,
           1.4613333940505981,
           1.6258645057678223,
           1.7969427108764648,
           1.9672404527664185,
           2.1207451820373535,
           2.2419614791870117,
           2.3295481204986572,
           2.3887152671813965,
           2.426312208175659,
           2.4487788677215576,
           2.4613025188446045,
           2.467653274536133,
           2.470371961593628,
           2.4710776805877686,
           2.4707539081573486,
           2.469973087310791,
           2.469052314758301,
           2.4681549072265625,
           2.467355728149414,
           2.4666810035705566,
           2.4661309719085693,
           2.4656941890716553,
           2.4653544425964355,
           2.4650959968566895,
           2.4649033546447754,
           2.464764356613159,
           2.464668035507202,
           2.4646058082580566
          ],
          [
           1.3883506059646606,
           1.1297945976257324,
           1.434841275215149,
           1.751887321472168,
           1.9999158382415771,
           2.197493553161621,
           2.3494324684143066,
           2.4546420574188232,
           2.5148725509643555,
           2.5397472381591797,
           2.5427534580230713,
           2.535069704055786,
           2.5235848426818848,
           2.511824369430542,
           2.5013136863708496,
           2.4925410747528076,
           2.485507011413574,
           2.480010747909546,
           2.4757916927337646,
           2.472594738006592,
           2.4701948165893555,
           2.468407154083252,
           2.4670839309692383,
           2.4661107063293457,
           2.465400218963623,
           2.4648873805999756,
           2.4645237922668457,
           2.4642739295959473,
           2.464111089706421,
           2.4640157222747803
          ],
          [
           1.9890098571777344,
           1.8955460786819458,
           2.0867092609405518,
           2.2708992958068848,
           2.441903829574585,
           2.616029739379883,
           2.7811594009399414,
           2.8815958499908447,
           2.8591246604919434,
           2.7810306549072266,
           2.704437494277954,
           2.64223051071167,
           2.5945065021514893,
           2.558757781982422,
           2.532315731048584,
           2.5129122734069824,
           2.498753547668457,
           2.488466262817383,
           2.4810163974761963,
           2.4756345748901367,
           2.4717533588409424,
           2.4689571857452393,
           2.4669439792633057,
           2.4654974937438965,
           2.464462995529175,
           2.463731527328491,
           2.463226795196533,
           2.462895154953003,
           2.4626989364624023,
           2.4626095294952393
          ],
          [
           2.536834716796875,
           2.662034749984741,
           2.6769683361053467,
           2.7305691242218018,
           2.8292131423950195,
           2.944239616394043,
           3.062303066253662,
           3.1216623783111572,
           3.0305705070495605,
           2.89552640914917,
           2.781038284301758,
           2.693324327468872,
           2.628209114074707,
           2.580559730529785,
           2.545987844467163,
           2.521056890487671,
           2.503164529800415,
           2.490373134613037,
           2.481252670288086,
           2.474757432937622,
           2.470127820968628,
           2.466818332672119,
           2.464442729949951,
           2.4627323150634766,
           2.4615039825439453,
           2.460635185241699,
           2.4600465297698975,
           2.4596855640411377,
           2.4595165252685547,
           2.4595115184783936
          ],
          [
           2.719590902328491,
           2.8297712802886963,
           2.9565770626068115,
           3.0852274894714355,
           3.165053367614746,
           3.152134418487549,
           3.081447124481201,
           2.994542121887207,
           2.902998924255371,
           2.8125951290130615,
           2.730619430541992,
           2.6617422103881836,
           2.6069278717041016,
           2.564884901046753,
           2.5334675312042236,
           2.510443687438965,
           2.493821382522583,
           2.4819517135620117,
           2.4735286235809326,
           2.4675521850585938,
           2.4632792472839355,
           2.460176706314087,
           2.457875967025757,
           2.4561374187469482,
           2.4548168182373047,
           2.4538378715515137,
           2.4531688690185547,
           2.4527997970581055,
           2.4527273178100586,
           2.452941417694092
          ],
          [
           2.743555784225464,
           2.847778081893921,
           2.991461992263794,
           3.204957962036133,
           3.457301616668701,
           3.2109735012054443,
           3.018179416656494,
           2.8874330520629883,
           2.7886922359466553,
           2.709561347961426,
           2.6449625492095947,
           2.592738628387451,
           2.551570177078247,
           2.520129919052124,
           2.496904134750366,
           2.4802844524383545,
           2.468719244003296,
           2.460829257965088,
           2.4554691314697266,
           2.4517452716827393,
           2.449002742767334,
           2.446798324584961,
           2.4448678493499756,
           2.44309401512146,
           2.441474199295044,
           2.440087080001831,
           2.4390556812286377,
           2.438509464263916,
           2.4385483264923096,
           2.4392149448394775
          ],
          [
           2.684516668319702,
           2.723494529724121,
           2.7422268390655518,
           2.7192490100860596,
           2.6837315559387207,
           2.7138988971710205,
           2.7258639335632324,
           2.6951403617858887,
           2.643843650817871,
           2.588775157928467,
           2.5387911796569824,
           2.497915506362915,
           2.467315196990967,
           2.4463918209075928,
           2.433537244796753,
           2.426730155944824,
           2.423970937728882,
           2.423539638519287,
           2.424100399017334,
           2.4247050285339355,
           2.424748659133911,
           2.4239139556884766,
           2.422126293182373,
           2.419522285461426,
           2.4164209365844727,
           2.4132890701293945,
           2.410677909851074,
           2.409126043319702,
           2.4090464115142822,
           2.4106266498565674
          ],
          [
           2.6846730709075928,
           2.7358951568603516,
           2.790679454803467,
           2.8398241996765137,
           2.8545475006103516,
           2.8085033893585205,
           2.7264976501464844,
           2.6349236965179443,
           2.544571876525879,
           2.463090419769287,
           2.3974874019622803,
           2.352191925048828,
           2.327554225921631,
           2.320258140563965,
           2.3250906467437744,
           2.336761713027954,
           2.350977897644043,
           2.3647401332855225,
           2.376192808151245,
           2.384324312210083,
           2.3886892795562744,
           2.38922119140625,
           2.3861491680145264,
           2.380005121231079,
           2.3716886043548584,
           2.3625295162200928,
           2.3542463779449463,
           2.3486976623535156,
           2.347407817840576,
           2.3510594367980957
          ],
          [
           2.710832118988037,
           2.783562660217285,
           2.873889446258545,
           2.9781546592712402,
           3.0400052070617676,
           2.937734842300415,
           2.7792985439300537,
           2.6042232513427734,
           2.420969009399414,
           2.2512848377227783,
           2.1249921321868896,
           2.0610694885253906,
           2.055601119995117,
           2.0889391899108887,
           2.1401185989379883,
           2.194345712661743,
           2.2433855533599854,
           2.2835123538970947,
           2.313528537750244,
           2.3334341049194336,
           2.3436620235443115,
           2.344712972640991,
           2.337071418762207,
           2.32136869430542,
           2.298806667327881,
           2.27184796333313,
           2.2449684143066406,
           2.224708080291748,
           2.2177886962890625,
           2.2274250984191895
          ],
          [
           2.7154436111450195,
           2.786905288696289,
           2.8678500652313232,
           2.947715997695923,
           3.0055389404296875,
           3.0103087425231934,
           2.9188101291656494,
           2.679386615753174,
           2.2797138690948486,
           1.8097131252288818,
           1.4710699319839478,
           1.417987585067749,
           1.5481358766555786,
           1.7226803302764893,
           1.8848249912261963,
           2.0186827182769775,
           2.122534990310669,
           2.1992456912994385,
           2.2526910305023193,
           2.2863388061523438,
           2.3026981353759766,
           2.3031458854675293,
           2.2879276275634766,
           2.256307363510132,
           2.207024335861206,
           2.139606237411499,
           2.058046340942383,
           1.9796239137649536,
           1.9435813426971436,
           1.9798226356506348
          ],
          [
           2.7086703777313232,
           2.7866291999816895,
           2.88737154006958,
           3.017314910888672,
           3.185086965560913,
           3.399451732635498,
           3.6446447372436523,
           3.630122184753418,
           2.708695411682129,
           1.5654122829437256,
           0.7179608345031738,
           0.8070200681686401,
           1.1489524841308594,
           1.4673376083374023,
           1.723605751991272,
           1.9175140857696533,
           2.0588765144348145,
           2.158597469329834,
           2.2257988452911377,
           2.267171621322632,
           2.2870473861694336,
           2.287604570388794,
           2.2690067291259766,
           2.2293925285339355,
           2.164684295654297,
           2.0682058334350586,
           1.9301841259002686,
           1.7381656169891357,
           1.5254926681518555,
           1.7278809547424316
          ],
          [
           2.674542188644409,
           2.741729259490967,
           2.828442096710205,
           2.938150644302368,
           3.0705156326293945,
           3.209503173828125,
           3.2846791744232178,
           3.1003289222717285,
           2.4868452548980713,
           1.601678490638733,
           0.781583309173584,
           1.0093621015548706,
           1.3409030437469482,
           1.6178514957427979,
           1.834096908569336,
           1.996462345123291,
           2.1149609088897705,
           2.19893741607666,
           2.2558794021606445,
           2.2912745475769043,
           2.308802366256714,
           2.3105990886688232,
           2.2975454330444336,
           2.2696382999420166,
           2.226663589477539,
           2.169672727584839,
           2.104221820831299,
           2.0458438396453857,
           2.0211212635040283,
           2.047028064727783
          ],
          [
           2.618229389190674,
           2.6600828170776367,
           2.7084498405456543,
           2.7596991062164307,
           2.804936170578003,
           2.827270269393921,
           2.8023555278778076,
           2.709578037261963,
           2.555006504058838,
           2.382540702819824,
           2.237340211868286,
           2.1357059478759766,
           2.101172924041748,
           2.1218199729919434,
           2.167879343032837,
           2.219054937362671,
           2.265305519104004,
           2.3026678562164307,
           2.3301708698272705,
           2.348098039627075,
           2.3571228981018066,
           2.357947587966919,
           2.3512465953826904,
           2.337834358215332,
           2.3190250396728516,
           2.29713773727417,
           2.2759251594543457,
           2.260375738143921,
           2.2552621364593506,
           2.2627930641174316
          ],
          [
           2.5685620307922363,
           2.593108892440796,
           2.6201536655426025,
           2.6479897499084473,
           2.674036979675293,
           2.6955666542053223,
           2.7117056846618652,
           2.7269561290740967,
           2.755805253982544,
           2.8275768756866455,
           2.907864570617676,
           2.730933427810669,
           2.5799248218536377,
           2.493293046951294,
           2.4462828636169434,
           2.423044443130493,
           2.4132800102233887,
           2.4103760719299316,
           2.4102258682250977,
           2.4103755950927734,
           2.4094340801239014,
           2.4066998958587646,
           2.401960611343384,
           2.395408868789673,
           2.387629508972168,
           2.379591941833496,
           2.3725709915161133,
           2.3679275512695312,
           2.366758346557617,
           2.369541645050049
          ],
          [
           2.536602258682251,
           2.553973436355591,
           2.5744919776916504,
           2.5985164642333984,
           2.6265320777893066,
           2.659109115600586,
           2.6963133811950684,
           2.73563814163208,
           2.7674689292907715,
           2.7723653316497803,
           2.7505335807800293,
           2.7364084720611572,
           2.6987175941467285,
           2.6414072513580322,
           2.585448980331421,
           2.540344476699829,
           2.5073204040527344,
           2.484325885772705,
           2.468618631362915,
           2.4577670097351074,
           2.4499218463897705,
           2.4438064098358154,
           2.4386281967163086,
           2.4339816570281982,
           2.4297640323638916,
           2.4260942935943604,
           2.4232285022735596,
           2.4214611053466797,
           2.4210238456726074,
           2.422004461288452
          ],
          [
           2.5169663429260254,
           2.531097650527954,
           2.5491368770599365,
           2.572444438934326,
           2.603055953979492,
           2.6440751552581787,
           2.7003164291381836,
           2.779237747192383,
           2.8910229206085205,
           3.0376620292663574,
           3.133007764816284,
           3.020019292831421,
           2.8609886169433594,
           2.739403009414673,
           2.653319835662842,
           2.5927813053131104,
           2.5501928329467773,
           2.520289421081543,
           2.499345541000366,
           2.484673261642456,
           2.4743332862854004,
           2.4669482707977295,
           2.461566686630249,
           2.457559823989868,
           2.4545373916625977,
           2.4522793292999268,
           2.4506773948669434,
           2.44968581199646,
           2.449279546737671,
           2.449423313140869
          ],
          [
           2.5025460720062256,
           2.513352632522583,
           2.5273492336273193,
           2.5455102920532227,
           2.569026470184326,
           2.5991790294647217,
           2.6368772983551025,
           2.681467056274414,
           2.7283589839935303,
           2.766317367553711,
           2.7795872688293457,
           2.760138988494873,
           2.7167508602142334,
           2.6655349731445312,
           2.6178221702575684,
           2.578202724456787,
           2.547267436981201,
           2.523974895477295,
           2.5068576335906982,
           2.494508981704712,
           2.4857401847839355,
           2.4796056747436523,
           2.4753782749176025,
           2.472511053085327,
           2.470597982406616,
           2.4693398475646973,
           2.468517780303955,
           2.467973232269287,
           2.4675941467285156,
           2.467306137084961
          ],
          [
           2.490569829940796,
           2.497694969177246,
           2.506653308868408,
           2.5177674293518066,
           2.5312647819519043,
           2.547114610671997,
           2.5647714138031006,
           2.5828680992126465,
           2.5990371704101562,
           2.6102030277252197,
           2.6136059761047363,
           2.6081812381744385,
           2.5952155590057373,
           2.5776455402374268,
           2.5586628913879395,
           2.540695905685425,
           2.525129556655884,
           2.5124940872192383,
           2.5027785301208496,
           2.495692253112793,
           2.490832805633545,
           2.4877769947052,
           2.48612117767334,
           2.4854912757873535,
           2.485541343688965,
           2.4859495162963867,
           2.486419677734375,
           2.486693859100342,
           2.4865782260894775,
           2.4859700202941895
          ],
          [
           2.481168746948242,
           2.4852945804595947,
           2.490265130996704,
           2.4961183071136475,
           2.5027987957000732,
           2.510104179382324,
           2.5176329612731934,
           2.5247650146484375,
           2.530709743499756,
           2.534656286239624,
           2.535996675491333,
           2.5345406532287598,
           2.5306026935577393,
           2.524906635284424,
           2.5183675289154053,
           2.5118649005889893,
           2.5060951709747314,
           2.501521348953247,
           2.4983935356140137,
           2.496793508529663,
           2.49668288230896,
           2.4979326725006104,
           2.500338077545166,
           2.5036189556121826,
           2.5074143409729004,
           2.511273145675659,
           2.514653205871582,
           2.516951560974121,
           2.5176258087158203,
           2.51641845703125
          ],
          [
           2.474599838256836,
           2.476795196533203,
           2.4793386459350586,
           2.482208490371704,
           2.485339403152466,
           2.488612174987793,
           2.4918510913848877,
           2.494832754135132,
           2.497316598892212,
           2.499089479446411,
           2.5000197887420654,
           2.5001027584075928,
           2.499476909637451,
           2.4984090328216553,
           2.497253656387329,
           2.496401309967041,
           2.496234178543091,
           2.4970972537994385,
           2.4992823600769043,
           2.503019094467163,
           2.508462905883789,
           2.5156702995300293,
           2.524561882019043,
           2.5348715782165527,
           2.5460987091064453,
           2.5574817657470703,
           2.5679876804351807,
           2.5761656761169434,
           2.5795745849609375,
           2.576106309890747
          ],
          [
           2.470458984375,
           2.471580743789673,
           2.4728448390960693,
           2.474233865737915,
           2.4757158756256104,
           2.477243185043335,
           2.47875714302063,
           2.480193853378296,
           2.4814975261688232,
           2.482635498046875,
           2.4836156368255615,
           2.484499454498291,
           2.485412120819092,
           2.486543655395508,
           2.4881479740142822,
           2.4905357360839844,
           2.494070529937744,
           2.4991657733917236,
           2.5062787532806396,
           2.515899658203125,
           2.5285210609436035,
           2.544574737548828,
           2.564310073852539,
           2.5876002311706543,
           2.613664388656616,
           2.640770196914673,
           2.6660730838775635,
           2.6857504844665527,
           2.6944167613983154,
           2.6864356994628906
          ],
          [
           2.4680404663085938,
           2.4686152935028076,
           2.469256639480591,
           2.4699594974517822,
           2.4707159996032715,
           2.4715170860290527,
           2.472355604171753,
           2.4732303619384766,
           2.474153995513916,
           2.4751598834991455,
           2.4763107299804688,
           2.477710247039795,
           2.479511022567749,
           2.4819276332855225,
           2.4852492809295654,
           2.4898548126220703,
           2.4962351322174072,
           2.505016326904297,
           2.5169904232025146,
           2.53313946723938,
           2.554652214050293,
           2.5828964710235596,
           2.619307041168213,
           2.6650846004486084,
           2.720513105392456,
           2.7835843563079834,
           2.8476762771606445,
           2.899242877960205,
           2.920426368713379,
           2.901596784591675
          ],
          [
           2.4666998386383057,
           2.4670097827911377,
           2.467360496520996,
           2.4677557945251465,
           2.468200206756592,
           2.468703031539917,
           2.4692788124084473,
           2.4699525833129883,
           2.47076416015625,
           2.4717748165130615,
           2.4730746746063232,
           2.474794387817383,
           2.4771170616149902,
           2.4802961349487305,
           2.4846787452697754,
           2.4907360076904297,
           2.4991044998168945,
           2.5106401443481445,
           2.5264909267425537,
           2.548186779022217,
           2.577751636505127,
           2.617832660675049,
           2.671833038330078,
           2.7440125942230225,
           2.839466094970703,
           2.963695526123047,
           3.1206161975860596,
           3.30172061920166,
           3.4198708534240723,
           3.3134140968322754
          ],
          [
           2.465979814529419,
           2.466163396835327,
           2.466379165649414,
           2.466634750366211,
           2.4669411182403564,
           2.4673140048980713,
           2.4677767753601074,
           2.4683637619018555,
           2.4691247940063477,
           2.4701297283172607,
           2.4714789390563965,
           2.473311424255371,
           2.4758212566375732,
           2.4792754650115967,
           2.484041929244995,
           2.490623712539673,
           2.499709367752075,
           2.5122368335723877,
           2.5294809341430664,
           2.5531651973724365,
           2.5856049060821533,
           2.629871368408203,
           2.6899545192718506,
           2.770836591720581,
           2.8781991004943848,
           3.016958713531494,
           3.186093807220459,
           3.361802101135254,
           3.458195209503174,
           3.372098922729492
          ],
          [
           2.4655961990356445,
           2.465717315673828,
           2.4658665657043457,
           2.466052532196045,
           2.466287612915039,
           2.4665892124176025,
           2.466982126235962,
           2.467500925064087,
           2.4681942462921143,
           2.4691295623779297,
           2.47040057182312,
           2.4721360206604004,
           2.474512815475464,
           2.4777727127075195,
           2.4822449684143066,
           2.4883759021759033,
           2.4967691898345947,
           2.508235454559326,
           2.5238568782806396,
           2.54506254196167,
           2.573714256286621,
           2.6121835708618164,
           2.6633901596069336,
           2.7307236194610596,
           2.8177263736724854,
           2.927356243133545,
           3.0608506202697754,
           3.2172083854675293,
           3.387937545776367,
           3.2283692359924316
          ],
          [
           2.4653873443603516,
           2.4654741287231445,
           2.4655849933624268,
           2.4657280445098877,
           2.4659149646759033,
           2.4661612510681152,
           2.466489315032959,
           2.466928482055664,
           2.4675204753875732,
           2.4683215618133545,
           2.4694082736968994,
           2.470883846282959,
           2.472888231277466,
           2.4756078720092773,
           2.4792919158935547,
           2.484269142150879,
           2.4909703731536865,
           2.4999537467956543,
           2.5119309425354004,
           2.527790069580078,
           2.5486063957214355,
           2.57562255859375,
           2.6101629734039307,
           2.6534273624420166,
           2.70603346824646,
           2.7670462131500244,
           2.8318400382995605,
           2.887939214706421,
           2.9127330780029297,
           2.890834093093872
          ]
         ],
         "type": "surface"
        },
        {
         "marker": {
          "color": "darkgreen"
         },
         "mode": "markers",
         "name": "training data",
         "x": [
          0.5,
          0.5,
          1.0000000037252903,
          1.0000000037252903,
          1.5000000074505806,
          1.5000000074505806,
          5.000000000000001,
          5.000000000000001,
          0.5,
          5.000000000000001,
          2.0000000447034836,
          0.5,
          0.5,
          0.5,
          1.0000000037252903,
          1.0000000037252903,
          2.0000000447034836,
          2.0000000447034836,
          2.0000000447034836,
          2.0000000447034836,
          5.000000000000001,
          5.000000000000001,
          5.000000000000001
         ],
         "y": [
          2.7300000190734863,
          3.4000001145614362,
          3.7899999185612288,
          6.440000140764965,
          5.3600000716472636,
          8.98999989360641,
          8.800000081362441,
          14.670000341289324,
          5.239999811442516,
          14.890000123887603,
          10.130000282220237,
          4.510000154033449,
          5.369999872371615,
          4.880000167190786,
          6.760000203331785,
          7.769999962835257,
          8.729999392960707,
          9.380000265787459,
          10.479999178778854,
          11.010000170188363,
          14.710000301761738,
          15.4399995803833,
          13.370000110785838
         ],
         "z": [
          0.8730257153511047,
          2.6772446632385254,
          1.6990152597427368,
          3.8050527572631836,
          3.3348562717437744,
          4.535152912139893,
          1.3625102043151855,
          3.8412907123565674,
          1.2013570070266724,
          3.5136520862579346,
          3.4708714485168457,
          0.26329824328422546,
          2.7753403186798096,
          2.591306209564209,
          2.579984426498413,
          3.173818588256836,
          0.13150499761104584,
          0.45116370916366577,
          2.1266398429870605,
          3.468212842941284,
          3.685852527618408,
          3.445655584335327,
          2.6515469551086426
         ],
         "type": "scatter3d"
        }
       ],
       "layout": {
        "template": {
         "data": {
          "histogram2dcontour": [
           {
            "type": "histogram2dcontour",
            "colorbar": {
             "outlinewidth": 0,
             "ticks": ""
            },
            "colorscale": [
             [
              0,
              "#0d0887"
             ],
             [
              0.1111111111111111,
              "#46039f"
             ],
             [
              0.2222222222222222,
              "#7201a8"
             ],
             [
              0.3333333333333333,
              "#9c179e"
             ],
             [
              0.4444444444444444,
              "#bd3786"
             ],
             [
              0.5555555555555556,
              "#d8576b"
             ],
             [
              0.6666666666666666,
              "#ed7953"
             ],
             [
              0.7777777777777778,
              "#fb9f3a"
             ],
             [
              0.8888888888888888,
              "#fdca26"
             ],
             [
              1,
              "#f0f921"
             ]
            ]
           }
          ],
          "choropleth": [
           {
            "type": "choropleth",
            "colorbar": {
             "outlinewidth": 0,
             "ticks": ""
            }
           }
          ],
          "histogram2d": [
           {
            "type": "histogram2d",
            "colorbar": {
             "outlinewidth": 0,
             "ticks": ""
            },
            "colorscale": [
             [
              0,
              "#0d0887"
             ],
             [
              0.1111111111111111,
              "#46039f"
             ],
             [
              0.2222222222222222,
              "#7201a8"
             ],
             [
              0.3333333333333333,
              "#9c179e"
             ],
             [
              0.4444444444444444,
              "#bd3786"
             ],
             [
              0.5555555555555556,
              "#d8576b"
             ],
             [
              0.6666666666666666,
              "#ed7953"
             ],
             [
              0.7777777777777778,
              "#fb9f3a"
             ],
             [
              0.8888888888888888,
              "#fdca26"
             ],
             [
              1,
              "#f0f921"
             ]
            ]
           }
          ],
          "heatmap": [
           {
            "type": "heatmap",
            "colorbar": {
             "outlinewidth": 0,
             "ticks": ""
            },
            "colorscale": [
             [
              0,
              "#0d0887"
             ],
             [
              0.1111111111111111,
              "#46039f"
             ],
             [
              0.2222222222222222,
              "#7201a8"
             ],
             [
              0.3333333333333333,
              "#9c179e"
             ],
             [
              0.4444444444444444,
              "#bd3786"
             ],
             [
              0.5555555555555556,
              "#d8576b"
             ],
             [
              0.6666666666666666,
              "#ed7953"
             ],
             [
              0.7777777777777778,
              "#fb9f3a"
             ],
             [
              0.8888888888888888,
              "#fdca26"
             ],
             [
              1,
              "#f0f921"
             ]
            ]
           }
          ],
          "heatmapgl": [
           {
            "type": "heatmapgl",
            "colorbar": {
             "outlinewidth": 0,
             "ticks": ""
            },
            "colorscale": [
             [
              0,
              "#0d0887"
             ],
             [
              0.1111111111111111,
              "#46039f"
             ],
             [
              0.2222222222222222,
              "#7201a8"
             ],
             [
              0.3333333333333333,
              "#9c179e"
             ],
             [
              0.4444444444444444,
              "#bd3786"
             ],
             [
              0.5555555555555556,
              "#d8576b"
             ],
             [
              0.6666666666666666,
              "#ed7953"
             ],
             [
              0.7777777777777778,
              "#fb9f3a"
             ],
             [
              0.8888888888888888,
              "#fdca26"
             ],
             [
              1,
              "#f0f921"
             ]
            ]
           }
          ],
          "contourcarpet": [
           {
            "type": "contourcarpet",
            "colorbar": {
             "outlinewidth": 0,
             "ticks": ""
            }
           }
          ],
          "contour": [
           {
            "type": "contour",
            "colorbar": {
             "outlinewidth": 0,
             "ticks": ""
            },
            "colorscale": [
             [
              0,
              "#0d0887"
             ],
             [
              0.1111111111111111,
              "#46039f"
             ],
             [
              0.2222222222222222,
              "#7201a8"
             ],
             [
              0.3333333333333333,
              "#9c179e"
             ],
             [
              0.4444444444444444,
              "#bd3786"
             ],
             [
              0.5555555555555556,
              "#d8576b"
             ],
             [
              0.6666666666666666,
              "#ed7953"
             ],
             [
              0.7777777777777778,
              "#fb9f3a"
             ],
             [
              0.8888888888888888,
              "#fdca26"
             ],
             [
              1,
              "#f0f921"
             ]
            ]
           }
          ],
          "surface": [
           {
            "type": "surface",
            "colorbar": {
             "outlinewidth": 0,
             "ticks": ""
            },
            "colorscale": [
             [
              0,
              "#0d0887"
             ],
             [
              0.1111111111111111,
              "#46039f"
             ],
             [
              0.2222222222222222,
              "#7201a8"
             ],
             [
              0.3333333333333333,
              "#9c179e"
             ],
             [
              0.4444444444444444,
              "#bd3786"
             ],
             [
              0.5555555555555556,
              "#d8576b"
             ],
             [
              0.6666666666666666,
              "#ed7953"
             ],
             [
              0.7777777777777778,
              "#fb9f3a"
             ],
             [
              0.8888888888888888,
              "#fdca26"
             ],
             [
              1,
              "#f0f921"
             ]
            ]
           }
          ],
          "mesh3d": [
           {
            "type": "mesh3d",
            "colorbar": {
             "outlinewidth": 0,
             "ticks": ""
            }
           }
          ],
          "scatter": [
           {
            "fillpattern": {
             "fillmode": "overlay",
             "size": 10,
             "solidity": 0.2
            },
            "type": "scatter"
           }
          ],
          "parcoords": [
           {
            "type": "parcoords",
            "line": {
             "colorbar": {
              "outlinewidth": 0,
              "ticks": ""
             }
            }
           }
          ],
          "scatterpolargl": [
           {
            "type": "scatterpolargl",
            "marker": {
             "colorbar": {
              "outlinewidth": 0,
              "ticks": ""
             }
            }
           }
          ],
          "bar": [
           {
            "error_x": {
             "color": "#2a3f5f"
            },
            "error_y": {
             "color": "#2a3f5f"
            },
            "marker": {
             "line": {
              "color": "#E5ECF6",
              "width": 0.5
             },
             "pattern": {
              "fillmode": "overlay",
              "size": 10,
              "solidity": 0.2
             }
            },
            "type": "bar"
           }
          ],
          "scattergeo": [
           {
            "type": "scattergeo",
            "marker": {
             "colorbar": {
              "outlinewidth": 0,
              "ticks": ""
             }
            }
           }
          ],
          "scatterpolar": [
           {
            "type": "scatterpolar",
            "marker": {
             "colorbar": {
              "outlinewidth": 0,
              "ticks": ""
             }
            }
           }
          ],
          "histogram": [
           {
            "marker": {
             "pattern": {
              "fillmode": "overlay",
              "size": 10,
              "solidity": 0.2
             }
            },
            "type": "histogram"
           }
          ],
          "scattergl": [
           {
            "type": "scattergl",
            "marker": {
             "colorbar": {
              "outlinewidth": 0,
              "ticks": ""
             }
            }
           }
          ],
          "scatter3d": [
           {
            "type": "scatter3d",
            "line": {
             "colorbar": {
              "outlinewidth": 0,
              "ticks": ""
             }
            },
            "marker": {
             "colorbar": {
              "outlinewidth": 0,
              "ticks": ""
             }
            }
           }
          ],
          "scattermapbox": [
           {
            "type": "scattermapbox",
            "marker": {
             "colorbar": {
              "outlinewidth": 0,
              "ticks": ""
             }
            }
           }
          ],
          "scatterternary": [
           {
            "type": "scatterternary",
            "marker": {
             "colorbar": {
              "outlinewidth": 0,
              "ticks": ""
             }
            }
           }
          ],
          "scattercarpet": [
           {
            "type": "scattercarpet",
            "marker": {
             "colorbar": {
              "outlinewidth": 0,
              "ticks": ""
             }
            }
           }
          ],
          "carpet": [
           {
            "aaxis": {
             "endlinecolor": "#2a3f5f",
             "gridcolor": "white",
             "linecolor": "white",
             "minorgridcolor": "white",
             "startlinecolor": "#2a3f5f"
            },
            "baxis": {
             "endlinecolor": "#2a3f5f",
             "gridcolor": "white",
             "linecolor": "white",
             "minorgridcolor": "white",
             "startlinecolor": "#2a3f5f"
            },
            "type": "carpet"
           }
          ],
          "table": [
           {
            "cells": {
             "fill": {
              "color": "#EBF0F8"
             },
             "line": {
              "color": "white"
             }
            },
            "header": {
             "fill": {
              "color": "#C8D4E3"
             },
             "line": {
              "color": "white"
             }
            },
            "type": "table"
           }
          ],
          "barpolar": [
           {
            "marker": {
             "line": {
              "color": "#E5ECF6",
              "width": 0.5
             },
             "pattern": {
              "fillmode": "overlay",
              "size": 10,
              "solidity": 0.2
             }
            },
            "type": "barpolar"
           }
          ],
          "pie": [
           {
            "automargin": true,
            "type": "pie"
           }
          ]
         },
         "layout": {
          "autotypenumbers": "strict",
          "colorway": [
           "#636efa",
           "#EF553B",
           "#00cc96",
           "#ab63fa",
           "#FFA15A",
           "#19d3f3",
           "#FF6692",
           "#B6E880",
           "#FF97FF",
           "#FECB52"
          ],
          "font": {
           "color": "#2a3f5f"
          },
          "hovermode": "closest",
          "hoverlabel": {
           "align": "left"
          },
          "paper_bgcolor": "white",
          "plot_bgcolor": "#E5ECF6",
          "polar": {
           "bgcolor": "#E5ECF6",
           "angularaxis": {
            "gridcolor": "white",
            "linecolor": "white",
            "ticks": ""
           },
           "radialaxis": {
            "gridcolor": "white",
            "linecolor": "white",
            "ticks": ""
           }
          },
          "ternary": {
           "bgcolor": "#E5ECF6",
           "aaxis": {
            "gridcolor": "white",
            "linecolor": "white",
            "ticks": ""
           },
           "baxis": {
            "gridcolor": "white",
            "linecolor": "white",
            "ticks": ""
           },
           "caxis": {
            "gridcolor": "white",
            "linecolor": "white",
            "ticks": ""
           }
          },
          "coloraxis": {
           "colorbar": {
            "outlinewidth": 0,
            "ticks": ""
           }
          },
          "colorscale": {
           "sequential": [
            [
             0,
             "#0d0887"
            ],
            [
             0.1111111111111111,
             "#46039f"
            ],
            [
             0.2222222222222222,
             "#7201a8"
            ],
            [
             0.3333333333333333,
             "#9c179e"
            ],
            [
             0.4444444444444444,
             "#bd3786"
            ],
            [
             0.5555555555555556,
             "#d8576b"
            ],
            [
             0.6666666666666666,
             "#ed7953"
            ],
            [
             0.7777777777777778,
             "#fb9f3a"
            ],
            [
             0.8888888888888888,
             "#fdca26"
            ],
            [
             1,
             "#f0f921"
            ]
           ],
           "sequentialminus": [
            [
             0,
             "#0d0887"
            ],
            [
             0.1111111111111111,
             "#46039f"
            ],
            [
             0.2222222222222222,
             "#7201a8"
            ],
            [
             0.3333333333333333,
             "#9c179e"
            ],
            [
             0.4444444444444444,
             "#bd3786"
            ],
            [
             0.5555555555555556,
             "#d8576b"
            ],
            [
             0.6666666666666666,
             "#ed7953"
            ],
            [
             0.7777777777777778,
             "#fb9f3a"
            ],
            [
             0.8888888888888888,
             "#fdca26"
            ],
            [
             1,
             "#f0f921"
            ]
           ],
           "diverging": [
            [
             0,
             "#8e0152"
            ],
            [
             0.1,
             "#c51b7d"
            ],
            [
             0.2,
             "#de77ae"
            ],
            [
             0.3,
             "#f1b6da"
            ],
            [
             0.4,
             "#fde0ef"
            ],
            [
             0.5,
             "#f7f7f7"
            ],
            [
             0.6,
             "#e6f5d0"
            ],
            [
             0.7,
             "#b8e186"
            ],
            [
             0.8,
             "#7fbc41"
            ],
            [
             0.9,
             "#4d9221"
            ],
            [
             1,
             "#276419"
            ]
           ]
          },
          "xaxis": {
           "gridcolor": "white",
           "linecolor": "white",
           "ticks": "",
           "title": {
            "standoff": 15
           },
           "zerolinecolor": "white",
           "automargin": true,
           "zerolinewidth": 2
          },
          "yaxis": {
           "gridcolor": "white",
           "linecolor": "white",
           "ticks": "",
           "title": {
            "standoff": 15
           },
           "zerolinecolor": "white",
           "automargin": true,
           "zerolinewidth": 2
          },
          "scene": {
           "xaxis": {
            "backgroundcolor": "#E5ECF6",
            "gridcolor": "white",
            "linecolor": "white",
            "showbackground": true,
            "ticks": "",
            "zerolinecolor": "white",
            "gridwidth": 2
           },
           "yaxis": {
            "backgroundcolor": "#E5ECF6",
            "gridcolor": "white",
            "linecolor": "white",
            "showbackground": true,
            "ticks": "",
            "zerolinecolor": "white",
            "gridwidth": 2
           },
           "zaxis": {
            "backgroundcolor": "#E5ECF6",
            "gridcolor": "white",
            "linecolor": "white",
            "showbackground": true,
            "ticks": "",
            "zerolinecolor": "white",
            "gridwidth": 2
           }
          },
          "shapedefaults": {
           "line": {
            "color": "#2a3f5f"
           }
          },
          "annotationdefaults": {
           "arrowcolor": "#2a3f5f",
           "arrowhead": 0,
           "arrowwidth": 1
          },
          "geo": {
           "bgcolor": "white",
           "landcolor": "#E5ECF6",
           "subunitcolor": "white",
           "showland": true,
           "showlakes": true,
           "lakecolor": "white"
          },
          "title": {
           "x": 0.05
          },
          "mapbox": {
           "style": "light"
          }
         }
        },
        "legend": {
         "orientation": "h",
         "yanchor": "top",
         "y": 1.02,
         "xanchor": "left",
         "x": 1
        },
        "margin": {
         "r": 20,
         "l": 10,
         "b": 10,
         "t": 10
        },
        "width": 1000,
        "height": 800,
        "scene": {
         "xaxis": {
          "title": {
           "text": "Pulse Width (msec)"
          }
         },
         "yaxis": {
          "title": {
           "text": "Energy density new cone (J/cm^2)"
          }
         },
         "zaxis": {
          "title": {
           "text": "2 Qsw/(U+|D|) 1e6"
          }
         },
         "camera": {
          "up": {
           "x": 0,
           "y": 0,
           "z": 1
          },
          "center": {
           "x": 0,
           "y": 0,
           "z": 0
          },
          "eye": {
           "x": -2,
           "y": -2.5,
           "z": 1.75
          }
         }
        }
       },
       "config": {
        "plotlyServerURL": "https://plot.ly"
       }
      }
     },
     "metadata": {}
    },
    {
     "output_type": "display_data",
     "data": {
      "application/vnd.plotly.v1+json": {
       "data": [
        {
         "opacity": 0.5,
         "showscale": false,
         "x": [
          0.33928570710122585,
          0.5055418629199266,
          0.6717980187386274,
          0.8380541577935219,
          1.0043103471398354,
          1.1705665364861488,
          1.336822658777237,
          1.503078781068325,
          1.6693349033594131,
          1.8355910927057266,
          2.0018471479415894,
          2.168103337287903,
          2.3343595266342168,
          2.5006157159805302,
          2.6668719053268437,
          2.833128094673157,
          2.9993842840194707,
          3.165640473365784,
          3.3318966627120976,
          3.4981525838375096,
          3.664408773183823,
          3.8306649625301366,
          3.99692115187645,
          4.163177341222764,
          4.329433262348176,
          4.495689451694489,
          4.661945641040803,
          4.828201830387116,
          4.99445801973343,
          5.160714209079743
         ],
         "y": [
          2.276071443020234,
          2.745652702469288,
          3.215233961918342,
          3.684815174018958,
          4.154396528164888,
          4.623977882310818,
          5.093559047062996,
          5.563140211815174,
          6.032721376567352,
          6.502302730713282,
          6.971883706071708,
          7.441465060217638,
          7.911046414363568,
          8.380627768509498,
          8.850209122655428,
          9.319790476801359,
          9.789371830947289,
          10.258953185093219,
          10.72853453923915,
          11.19811513581007,
          11.667696489956,
          12.13727784410193,
          12.60685919824786,
          13.076440552393791,
          13.546021148964712,
          14.015602503110642,
          14.485183857256573,
          14.954765211402503,
          15.424346565548433,
          15.893927919694363
         ],
         "z": [
          [
           4.360309600830078,
           4.273918151855469,
           4.363360404968262,
           4.5486555099487305,
           4.730117321014404,
           4.873521327972412,
           4.979351043701172,
           5.056220054626465,
           5.112203121185303,
           5.153257369995117,
           5.183531284332275,
           5.205916404724121,
           5.222470283508301,
           5.234688758850098,
           5.243680953979492,
           5.250272274017334,
           5.255083084106445,
           5.258579730987549,
           5.261108875274658,
           5.262929916381836,
           5.264235973358154,
           5.265169143676758,
           5.26583194732666,
           5.266302108764648,
           5.266633987426758,
           5.266867637634277,
           5.267031669616699,
           5.267147064208984,
           5.2672271728515625,
           5.2672834396362305
          ],
          [
           3.511265277862549,
           2.2869675159454346,
           3.5480258464813232,
           4.1767377853393555,
           4.529991149902344,
           4.747142791748047,
           4.891515254974365,
           4.993402481079102,
           5.067661285400391,
           5.1223649978637695,
           5.162639617919922,
           5.192148208618164,
           5.213639259338379,
           5.229196548461914,
           5.240390777587891,
           5.24839973449707,
           5.254096984863281,
           5.2581281661987305,
           5.260964393615723,
           5.2629499435424805,
           5.264333248138428,
           5.265292167663574,
           5.26595401763916,
           5.266408443450928,
           5.266719818115234,
           5.266932010650635,
           5.26707649230957,
           5.267174243927002,
           5.267241477966309,
           5.267286777496338
          ],
          [
           4.318848133087158,
           4.138521671295166,
           4.254698753356934,
           4.401202201843262,
           4.522443771362305,
           4.655248641967773,
           4.796046257019043,
           4.921620845794678,
           5.020803451538086,
           5.094323635101318,
           5.147140026092529,
           5.184470176696777,
           5.210592269897461,
           5.228734970092773,
           5.241250038146973,
           5.249825477600098,
           5.255661964416504,
           5.259606838226318,
           5.262254238128662,
           5.2640180587768555,
           5.265183448791504,
           5.265948295593262,
           5.266445636749268,
           5.266765594482422,
           5.266970634460449,
           5.267099380493164,
           5.267180442810059,
           5.267231464385986,
           5.267263412475586,
           5.267284393310547
          ],
          [
           4.480579853057861,
           4.333475112915039,
           4.219608306884766,
           3.9495232105255127,
           3.5881199836730957,
           4.110832214355469,
           4.550801753997803,
           4.8150715827941895,
           4.978445053100586,
           5.082126617431641,
           5.148900985717773,
           5.19215202331543,
           5.22013521194458,
           5.238131523132324,
           5.2495927810668945,
           5.256799697875977,
           5.261260986328125,
           5.263968467712402,
           5.265571594238281,
           5.266488552093506,
           5.266988277435303,
           5.267239093780518,
           5.267346382141113,
           5.2673749923706055,
           5.267364025115967,
           5.267335891723633,
           5.267302513122559,
           5.267272472381592,
           5.267247676849365,
           5.267230033874512
          ],
          [
           3.8925795555114746,
           3.6785428524017334,
           3.7570481300354004,
           3.9368669986724854,
           4.128268241882324,
           4.400790691375732,
           4.681333541870117,
           4.895693778991699,
           5.041257858276367,
           5.13542366027832,
           5.194432258605957,
           5.2302141189575195,
           5.251046180725098,
           5.262533187866211,
           5.268375873565674,
           5.270947456359863,
           5.2717180252075195,
           5.271569728851318,
           5.27100944519043,
           5.270315170288086,
           5.26962947845459,
           5.269017696380615,
           5.268502235412598,
           5.268084526062012,
           5.267754554748535,
           5.2675018310546875,
           5.267312049865723,
           5.26717472076416,
           5.2670793533325195,
           5.267017841339111
          ],
          [
           3.4054675102233887,
           2.772639513015747,
           3.4689764976501465,
           4.104154109954834,
           4.507417678833008,
           4.776487350463867,
           4.963289260864258,
           5.094625473022461,
           5.186050891876221,
           5.246128082275391,
           5.280948638916016,
           5.297318458557129,
           5.302011966705322,
           5.300359725952148,
           5.295872688293457,
           5.290578365325928,
           5.285510063171387,
           5.2811079025268555,
           5.277490615844727,
           5.274621963500977,
           5.27239990234375,
           5.270708084106445,
           5.269436836242676,
           5.268490791320801,
           5.267794609069824,
           5.267290115356445,
           5.26693058013916,
           5.2666826248168945,
           5.266520977020264,
           5.266426086425781
          ],
          [
           3.9919638633728027,
           3.577486991882324,
           4.10740852355957,
           4.601561069488525,
           4.899897575378418,
           5.059854030609131,
           5.101707458496094,
           5.109289646148682,
           5.217735290527344,
           5.318438529968262,
           5.360103607177734,
           5.365272521972656,
           5.354396820068359,
           5.338501453399658,
           5.322680473327637,
           5.308934688568115,
           5.297781944274902,
           5.289088249206543,
           5.282482147216797,
           5.277545928955078,
           5.273900032043457,
           5.2712273597717285,
           5.2692790031433105,
           5.267866611480713,
           5.266849517822266,
           5.26612663269043,
           5.265626907348633,
           5.2652974128723145,
           5.265102386474609,
           5.265013694763184
          ],
          [
           4.770827770233154,
           4.7044267654418945,
           4.897751808166504,
           5.136776447296143,
           5.297948837280273,
           5.356934547424316,
           5.29442024230957,
           5.198114395141602,
           5.30598258972168,
           5.401498794555664,
           5.424260139465332,
           5.41108512878418,
           5.3857421875,
           5.359210968017578,
           5.335830211639404,
           5.316822052001953,
           5.302062034606934,
           5.290925025939941,
           5.282678127288818,
           5.2766432762146,
           5.2722554206848145,
           5.269071578979492,
           5.26676082611084,
           5.265082836151123,
           5.263869762420654,
           5.263007164001465,
           5.262420654296875,
           5.26206111907959,
           5.261892318725586,
           5.261889457702637
          ],
          [
           5.336694717407227,
           5.387691020965576,
           5.450867652893066,
           5.508991718292236,
           5.552268028259277,
           5.581349849700928,
           5.583057403564453,
           5.560336112976074,
           5.527737140655518,
           5.49183464050293,
           5.453916549682617,
           5.416119575500488,
           5.381260871887207,
           5.351288795471191,
           5.326902389526367,
           5.307873725891113,
           5.293485164642334,
           5.282849311828613,
           5.2751007080078125,
           5.26948881149292,
           5.265408515930176,
           5.262402534484863,
           5.260145664215088,
           5.258420944213867,
           5.257098197937012,
           5.256110191345215,
           5.255430698394775,
           5.255053520202637,
           5.254979133605957,
           5.255197525024414
          ],
          [
           5.413146018981934,
           5.417459011077881,
           5.369714736938477,
           5.206368446350098,
           4.915127754211426,
           5.238980293273926,
           5.410161018371582,
           5.464430809020996,
           5.462352752685547,
           5.436056137084961,
           5.401802062988281,
           5.367661476135254,
           5.337454319000244,
           5.3126678466796875,
           5.293453693389893,
           5.27923059463501,
           5.269082069396973,
           5.262019157409668,
           5.257131576538086,
           5.253664970397949,
           5.251046180725098,
           5.248879432678223,
           5.246930122375488,
           5.2450995445251465,
           5.2434000968933105,
           5.241926193237305,
           5.240816116333008,
           5.240215301513672,
           5.240234851837158,
           5.2409210205078125
          ],
          [
           5.375387191772461,
           5.330309867858887,
           5.205715179443359,
           4.960318565368652,
           4.760055065155029,
           4.967654228210449,
           5.198008060455322,
           5.3062286376953125,
           5.335927486419678,
           5.327038288116455,
           5.303238868713379,
           5.277332305908203,
           5.25547456741333,
           5.23981237411499,
           5.230220794677734,
           5.225478172302246,
           5.224029541015625,
           5.224413871765137,
           5.225451946258545,
           5.226291179656982,
           5.226384162902832,
           5.22544527053833,
           5.223417282104492,
           5.220454692840576,
           5.21690559387207,
           5.213289260864258,
           5.210232734680176,
           5.208362102508545,
           5.208162784576416,
           5.20985221862793
          ],
          [
           5.386253356933594,
           5.362813472747803,
           5.299877166748047,
           5.1981048583984375,
           5.129106521606445,
           5.173012733459473,
           5.238799095153809,
           5.258792877197266,
           5.237311363220215,
           5.195590972900391,
           5.152902126312256,
           5.121651649475098,
           5.106537342071533,
           5.106218338012695,
           5.116254806518555,
           5.131699085235596,
           5.148515224456787,
           5.163949012756348,
           5.176357746124268,
           5.184883117675781,
           5.189159393310547,
           5.189132213592529,
           5.18499231338501,
           5.177227020263672,
           5.16675329208374,
           5.155071258544922,
           5.144290924072266,
           5.136845588684082,
           5.134814739227295,
           5.139123916625977
          ],
          [
           5.41926383972168,
           5.409990310668945,
           5.344239234924316,
           5.159148216247559,
           4.932111740112305,
           5.125507354736328,
           5.23316764831543,
           5.191701889038086,
           5.070045471191406,
           4.9279255867004395,
           4.818437099456787,
           4.772966384887695,
           4.789190292358398,
           4.843411445617676,
           4.911325454711914,
           4.977352142333984,
           5.034006118774414,
           5.0786848068237305,
           5.111125946044922,
           5.131918907165527,
           5.141732215881348,
           5.140974998474121,
           5.129735946655273,
           5.108005046844482,
           5.076313018798828,
           5.036987781524658,
           4.995914459228516,
           4.96342658996582,
           4.951343536376953,
           4.965536117553711
          ],
          [
           5.465168476104736,
           5.502285003662109,
           5.5353193283081055,
           5.560695648193359,
           5.574378967285156,
           5.555199146270752,
           5.449790954589844,
           5.193663597106934,
           4.758664131164551,
           4.219920635223389,
           3.8416190147399902,
           3.8699605464935303,
           4.124776363372803,
           4.392752170562744,
           4.6123552322387695,
           4.779298782348633,
           4.901618003845215,
           4.988306999206543,
           5.046727180480957,
           5.082121849060059,
           5.097606182098389,
           5.094185829162598,
           5.070635795593262,
           5.023232460021973,
           4.945583343505859,
           4.829768180847168,
           4.673295021057129,
           4.503925800323486,
           4.417646408081055,
           4.498598098754883
          ],
          [
           5.485034942626953,
           5.546368598937988,
           5.6202898025512695,
           5.705316543579102,
           5.792994499206543,
           5.855987548828125,
           5.815443992614746,
           5.491903781890869,
           4.7436418533325195,
           3.56089186668396,
           2.4729437828063965,
           2.924309253692627,
           3.5770506858825684,
           4.066410064697266,
           4.415687561035156,
           4.6600661277771,
           4.828634738922119,
           4.9427571296691895,
           5.017122268676758,
           5.061182975769043,
           5.08026123046875,
           5.076092720031738,
           5.046713829040527,
           4.985453128814697,
           4.878424167633057,
           4.6990509033203125,
           4.395480155944824,
           3.8571505546569824,
           2.996457099914551,
           3.812619924545288
          ],
          [
           5.461828231811523,
           5.517848968505859,
           5.584747791290283,
           5.659053802490234,
           5.728785514831543,
           5.762443542480469,
           5.687973976135254,
           5.376667022705078,
           4.698782920837402,
           3.5984678268432617,
           2.2837917804718018,
           3.084099292755127,
           3.7569503784179688,
           4.208503723144531,
           4.519575119018555,
           4.73432731628418,
           4.881704330444336,
           4.981353759765625,
           5.046414375305176,
           5.085348129272461,
           5.103152275085449,
           5.102089881896973,
           5.08207893371582,
           5.040915489196777,
           4.97476863861084,
           4.880219459533691,
           4.761066913604736,
           4.644200325012207,
           4.590195655822754,
           4.642071723937988
          ],
          [
           5.411989212036133,
           5.447611331939697,
           5.485540390014648,
           5.519806861877441,
           5.538534164428711,
           5.5214667320251465,
           5.439940452575684,
           5.264309883117676,
           4.983513832092285,
           4.6426544189453125,
           4.40090274810791,
           4.409975528717041,
           4.55997371673584,
           4.7208709716796875,
           4.854236602783203,
           4.956332206726074,
           5.031434535980225,
           5.084802627563477,
           5.120915412902832,
           5.143119812011719,
           5.15369987487793,
           5.1540703773498535,
           5.145051002502441,
           5.127265453338623,
           5.101783752441406,
           5.071086406707764,
           5.040124893188477,
           5.016469478607178,
           5.008012771606445,
           5.018508434295654
          ],
          [
           5.365863800048828,
           5.386693000793457,
           5.407392501831055,
           5.4244184494018555,
           5.4319634437561035,
           5.4214067459106445,
           5.380704879760742,
           5.292644500732422,
           5.1291303634643555,
           4.847105503082275,
           4.562774181365967,
           4.761453628540039,
           4.962151527404785,
           5.067629337310791,
           5.124146461486816,
           5.1573262214660645,
           5.178434371948242,
           5.192372798919678,
           5.201310157775879,
           5.206226348876953,
           5.2075910568237305,
           5.205687522888184,
           5.200807571411133,
           5.193406581878662,
           5.1842498779296875,
           5.174522876739502,
           5.1658220291137695,
           5.159913063049316,
           5.158257484436035,
           5.161492347717285
          ],
          [
           5.335512161254883,
           5.350103378295898,
           5.365598678588867,
           5.380502700805664,
           5.391880512237549,
           5.3940229415893555,
           5.375608444213867,
           5.314153671264648,
           5.168816566467285,
           4.900547027587891,
           4.686277389526367,
           4.871319770812988,
           5.105438232421875,
           5.223577499389648,
           5.2674174308776855,
           5.277368545532227,
           5.274364471435547,
           5.267621994018555,
           5.260650634765625,
           5.254439353942871,
           5.248997688293457,
           5.244048118591309,
           5.239338397979736,
           5.234757423400879,
           5.230376720428467,
           5.22643518447876,
           5.2232866287231445,
           5.221310138702393,
           5.220798492431641,
           5.221867084503174
          ],
          [
           5.316899299621582,
           5.328976154327393,
           5.3432464599609375,
           5.3596367835998535,
           5.377556324005127,
           5.395314693450928,
           5.4089813232421875,
           5.410082817077637,
           5.380603313446045,
           5.287790775299072,
           5.181546211242676,
           5.276463508605957,
           5.3547210693359375,
           5.372626304626465,
           5.363378047943115,
           5.34487771987915,
           5.325240135192871,
           5.307823181152344,
           5.293634414672852,
           5.282577991485596,
           5.274131774902344,
           5.267688751220703,
           5.262716770172119,
           5.258820056915283,
           5.255743026733398,
           5.253354072570801,
           5.251607894897461,
           5.250510215759277,
           5.250067710876465,
           5.2502617835998535
          ],
          [
           5.303427696228027,
           5.313014030456543,
           5.32484769821167,
           5.3392205238342285,
           5.356223106384277,
           5.375481605529785,
           5.3957624435424805,
           5.414581298828125,
           5.428459167480469,
           5.434857368469238,
           5.4345784187316895,
           5.4292497634887695,
           5.417619705200195,
           5.399314880371094,
           5.377175807952881,
           5.354790210723877,
           5.334596633911133,
           5.317680358886719,
           5.304203033447266,
           5.293828964233398,
           5.286022186279297,
           5.280211925506592,
           5.27587890625,
           5.272599220275879,
           5.270062446594238,
           5.268076419830322,
           5.266559600830078,
           5.265508651733398,
           5.264939308166504,
           5.26483154296875
          ],
          [
           5.292213439941406,
           5.298785209655762,
           5.306826591491699,
           5.316463470458984,
           5.327670097351074,
           5.340150833129883,
           5.353208541870117,
           5.365673542022705,
           5.375999450683594,
           5.382586479187012,
           5.384255886077881,
           5.380634307861328,
           5.372284889221191,
           5.36055326461792,
           5.347159385681152,
           5.333717346191406,
           5.321409225463867,
           5.310894966125488,
           5.302386283874512,
           5.295778274536133,
           5.2907609939575195,
           5.286908149719238,
           5.2837300300598145,
           5.280742645263672,
           5.277565956115723,
           5.274080276489258,
           5.270578384399414,
           5.267762184143066,
           5.266420364379883,
           5.266897678375244
          ],
          [
           5.283263206481934,
           5.287188529968262,
           5.2918524742126465,
           5.297252178192139,
           5.303295135498047,
           5.30975866317749,
           5.316263198852539,
           5.32227897644043,
           5.327182769775391,
           5.330379486083984,
           5.331445693969727,
           5.330264091491699,
           5.327069282531738,
           5.322390556335449,
           5.31691837310791,
           5.311347961425781,
           5.306252956390381,
           5.302015781402588,
           5.298801422119141,
           5.296542167663574,
           5.294921875,
           5.293315887451172,
           5.290718078613281,
           5.285688400268555,
           5.276504039764404,
           5.261877059936523,
           5.242718696594238,
           5.224427223205566,
           5.216062068939209,
           5.222829818725586
          ],
          [
           5.276899337768555,
           5.279033660888672,
           5.281489372253418,
           5.284238815307617,
           5.28721284866333,
           5.290294647216797,
           5.293318748474121,
           5.296082496643066,
           5.298374176025391,
           5.300013542175293,
           5.300891876220703,
           5.30101203918457,
           5.300498962402344,
           5.29958438873291,
           5.298575401306152,
           5.297804832458496,
           5.297580718994141,
           5.298138618469238,
           5.29958438873291,
           5.3018083572387695,
           5.3043365478515625,
           5.306051731109619,
           5.30470085144043,
           5.296030521392822,
           5.272373199462891,
           5.220775604248047,
           5.123063087463379,
           4.9744110107421875,
           4.871772289276123,
           4.963520050048828
          ],
          [
           5.272835731506348,
           5.2739410400390625,
           5.275181770324707,
           5.276541709899902,
           5.277987480163574,
           5.279473304748535,
           5.280942916870117,
           5.282336235046387,
           5.283602237701416,
           5.284712314605713,
           5.285676956176758,
           5.286556243896484,
           5.287467956542969,
           5.288588523864746,
           5.290147304534912,
           5.292414665222168,
           5.295684337615967,
           5.300246238708496,
           5.306331157684326,
           5.314017295837402,
           5.323037147521973,
           5.332427024841309,
           5.33986759185791,
           5.340491771697998,
           5.324707984924316,
           5.274321556091309,
           5.156414985656738,
           4.92596960067749,
           4.698246955871582,
           4.906192779541016
          ],
          [
           5.270442962646484,
           5.271013259887695,
           5.271649360656738,
           5.272345066070557,
           5.273093223571777,
           5.273885726928711,
           5.274714469909668,
           5.275579452514648,
           5.276494026184082,
           5.277491092681885,
           5.278632164001465,
           5.280018329620361,
           5.281795501708984,
           5.284165382385254,
           5.287396430969238,
           5.291826248168945,
           5.297874450683594,
           5.306034564971924,
           5.316864013671875,
           5.330926418304443,
           5.3486785888671875,
           5.370243072509766,
           5.395012378692627,
           5.4210662841796875,
           5.44452428817749,
           5.459522247314453,
           5.460676670074463,
           5.450092315673828,
           5.442405700683594,
           5.449087142944336
          ],
          [
           5.269109725952148,
           5.269418716430664,
           5.269767761230469,
           5.2701616287231445,
           5.270604133605957,
           5.27110481262207,
           5.2716779708862305,
           5.272348880767822,
           5.273157119750977,
           5.274162292480469,
           5.275453090667725,
           5.277156829833984,
           5.279450416564941,
           5.282573699951172,
           5.286850929260254,
           5.292710781097412,
           5.300710678100586,
           5.311559677124023,
           5.326140403747559,
           5.345497131347656,
           5.370776176452637,
           5.403046607971191,
           5.44288969039917,
           5.489526748657227,
           5.539056777954102,
           5.580944538116455,
           5.591574668884277,
           5.529566764831543,
           5.4305524826049805,
           5.521969795227051
          ],
          [
           5.2683916091918945,
           5.268575191497803,
           5.2687907218933105,
           5.269045829772949,
           5.269351959228516,
           5.269723892211914,
           5.270185470581055,
           5.270771026611328,
           5.271529197692871,
           5.272529602050781,
           5.273870468139648,
           5.275687217712402,
           5.278166770935059,
           5.281564712524414,
           5.286224365234375,
           5.292604446411133,
           5.301311492919922,
           5.3131279945373535,
           5.329038143157959,
           5.350224494934082,
           5.377995491027832,
           5.413549423217773,
           5.457411766052246,
           5.5081682205200195,
           5.559767246246338,
           5.595754623413086,
           5.576388359069824,
           5.405698776245117,
           4.970762729644775,
           5.3793253898620605
          ],
          [
           5.268009185791016,
           5.268129825592041,
           5.268279075622559,
           5.268465042114258,
           5.268699645996094,
           5.269001007080078,
           5.269392967224121,
           5.26991081237793,
           5.270602226257324,
           5.271533012390137,
           5.272796630859375,
           5.274518013000488,
           5.276867866516113,
           5.280077934265137,
           5.284455299377441,
           5.290408134460449,
           5.298465728759766,
           5.309301376342773,
           5.323739051818848,
           5.342728614807129,
           5.3672380447387695,
           5.397981643676758,
           5.434817314147949,
           5.475482940673828,
           5.513044357299805,
           5.530646324157715,
           5.489580154418945,
           5.292460918426514,
           4.6082444190979,
           5.2635297775268555
          ],
          [
           5.267800331115723,
           5.267887115478516,
           5.267997741699219,
           5.26814079284668,
           5.268327713012695,
           5.268573760986328,
           5.2689008712768555,
           5.269339561462402,
           5.269929885864258,
           5.270727634429932,
           5.271808624267578,
           5.273273468017578,
           5.275257110595703,
           5.2779388427734375,
           5.281552314758301,
           5.286397933959961,
           5.2928547859191895,
           5.301386833190918,
           5.312533378601074,
           5.326871871948242,
           5.344918251037598,
           5.3669328689575195,
           5.3925323486328125,
           5.420055389404297,
           5.445606231689453,
           5.462148666381836,
           5.460631370544434,
           5.439475059509277,
           5.423084735870361,
           5.437771797180176
          ]
         ],
         "type": "surface"
        },
        {
         "opacity": 0.2,
         "showscale": false,
         "x": [
          0.33928570710122585,
          0.5055418629199266,
          0.6717980187386274,
          0.8380541577935219,
          1.0043103471398354,
          1.1705665364861488,
          1.336822658777237,
          1.503078781068325,
          1.6693349033594131,
          1.8355910927057266,
          2.0018471479415894,
          2.168103337287903,
          2.3343595266342168,
          2.5006157159805302,
          2.6668719053268437,
          2.833128094673157,
          2.9993842840194707,
          3.165640473365784,
          3.3318966627120976,
          3.4981525838375096,
          3.664408773183823,
          3.8306649625301366,
          3.99692115187645,
          4.163177341222764,
          4.329433262348176,
          4.495689451694489,
          4.661945641040803,
          4.828201830387116,
          4.99445801973343,
          5.160714209079743
         ],
         "y": [
          2.276071443020234,
          2.745652702469288,
          3.215233961918342,
          3.684815174018958,
          4.154396528164888,
          4.623977882310818,
          5.093559047062996,
          5.563140211815174,
          6.032721376567352,
          6.502302730713282,
          6.971883706071708,
          7.441465060217638,
          7.911046414363568,
          8.380627768509498,
          8.850209122655428,
          9.319790476801359,
          9.789371830947289,
          10.258953185093219,
          10.72853453923915,
          11.19811513581007,
          11.667696489956,
          12.13727784410193,
          12.60685919824786,
          13.076440552393791,
          13.546021148964712,
          14.015602503110642,
          14.485183857256573,
          14.954765211402503,
          15.424346565548433,
          15.893927919694363
         ],
         "z": [
          [
           -0.7340148687362671,
           -0.7468898296356201,
           -0.7392770051956177,
           -0.7074205875396729,
           -0.657036304473877,
           -0.6011061668395996,
           -0.548588752746582,
           -0.5032446384429932,
           -0.46581506729125977,
           -0.43572402000427246,
           -0.411954402923584,
           -0.3934309482574463,
           -0.3791627883911133,
           -0.3682882785797119,
           -0.36008191108703613,
           -0.3539457321166992,
           -0.3493964672088623,
           -0.3460502624511719,
           -0.34360647201538086,
           -0.34183335304260254,
           -0.34055471420288086,
           -0.33963751792907715,
           -0.33898282051086426,
           -0.3385176658630371,
           -0.33818840980529785,
           -0.33795642852783203,
           -0.33779287338256836,
           -0.3376786708831787,
           -0.3375980854034424,
           -0.3375418186187744
          ],
          [
           -0.5877844095230103,
           -0.1626114845275879,
           -0.615246057510376,
           -0.680495023727417,
           -0.6586380004882812,
           -0.6143467426300049,
           -0.5666570663452148,
           -0.5221881866455078,
           -0.48319363594055176,
           -0.4502601623535156,
           -0.4232642650604248,
           -0.40171027183532715,
           -0.3849003314971924,
           -0.3720567226409912,
           -0.36241674423217773,
           -0.35529088973999023,
           -0.35009169578552246,
           -0.3463413715362549,
           -0.3436620235443115,
           -0.3417644500732422,
           -0.34043025970458984,
           -0.33949899673461914,
           -0.3388526439666748,
           -0.3384065628051758,
           -0.3381001949310303,
           -0.337890625,
           -0.33774781227111816,
           -0.3376502990722656,
           -0.3375842571258545,
           -0.3375387191772461
          ],
          [
           0.007974624633789062,
           0.2513495683670044,
           -0.04183530807495117,
           -0.32370972633361816,
           -0.44917941093444824,
           -0.49530649185180664,
           -0.5058846473693848,
           -0.49543190002441406,
           -0.47319626808166504,
           -0.44698429107666016,
           -0.4218778610229492,
           -0.40033984184265137,
           -0.3830840587615967,
           -0.36988401412963867,
           -0.36011719703674316,
           -0.3530704975128174,
           -0.3480861186981201,
           -0.3446168899536133,
           -0.34223508834838867,
           -0.3406202793121338,
           -0.3395373821258545,
           -0.3388192653656006,
           -0.3383479118347168,
           -0.3380420207977295,
           -0.3378455638885498,
           -0.3377206325531006,
           -0.33764195442199707,
           -0.33759260177612305,
           -0.33756136894226074,
           -0.3375411033630371
          ],
          [
           -0.16999483108520508,
           -0.03981137275695801,
           -0.12472081184387207,
           -0.10613894462585449,
           0.11575257778167725,
           -0.20174527168273926,
           -0.389554500579834,
           -0.44325923919677734,
           -0.4425661563873291,
           -0.4236011505126953,
           -0.4016716480255127,
           -0.38256216049194336,
           -0.3677959442138672,
           -0.3571465015411377,
           -0.34981751441955566,
           -0.3449528217315674,
           -0.3418240547180176,
           -0.3398740291595459,
           -0.3387012481689453,
           -0.3380274772644043,
           -0.3376650810241699,
           -0.3374910354614258,
           -0.33742642402648926,
           -0.337421178817749,
           -0.3374457359313965,
           -0.3374812602996826,
           -0.33751797676086426,
           -0.33755064010620117,
           -0.33757638931274414,
           -0.33759474754333496
          ],
          [
           -0.8791390657424927,
           -0.9012086391448975,
           -0.8343812227249146,
           -0.6851379871368408,
           -0.5343825817108154,
           -0.46630966663360596,
           -0.43984317779541016,
           -0.4117710590362549,
           -0.38216161727905273,
           -0.35799336433410645,
           -0.34180760383605957,
           -0.3326563835144043,
           -0.3284413814544678,
           -0.3272268772125244,
           -0.32763195037841797,
           -0.32879185676574707,
           -0.33021020889282227,
           -0.33162355422973633,
           -0.3329048156738281,
           -0.33400535583496094,
           -0.3349182605743408,
           -0.33565568923950195,
           -0.336240291595459,
           -0.33669590950012207,
           -0.33704590797424316,
           -0.3373100757598877,
           -0.337505578994751,
           -0.3376462459564209,
           -0.33774352073669434,
           -0.33780622482299805
          ],
          [
           -0.6287661790847778,
           -0.5130503177642822,
           -0.5992938280105591,
           -0.600379467010498,
           -0.5075862407684326,
           -0.3815004825592041,
           -0.26442432403564453,
           -0.18534111976623535,
           -0.15630578994750977,
           -0.16663336753845215,
           -0.19544196128845215,
           -0.22717881202697754,
           -0.25484228134155273,
           -0.27671122550964355,
           -0.2932453155517578,
           -0.3054962158203125,
           -0.3144960403442383,
           -0.32108616828918457,
           -0.32590699195861816,
           -0.32943248748779297,
           -0.33201026916503906,
           -0.3338940143585205,
           -0.3352687358856201,
           -0.3362693786621094,
           -0.3369944095611572,
           -0.33751511573791504,
           -0.33788275718688965,
           -0.338134765625,
           -0.3382987976074219,
           -0.3383948802947998
          ],
          [
           -0.013944149017333984,
           0.21360504627227783,
           0.0660099983215332,
           -0.05976247787475586,
           -0.016089916229248047,
           0.17220544815063477,
           0.46061110496520996,
           0.6539020538330078,
           0.500514030456543,
           0.2436230182647705,
           0.04877114295959473,
           -0.08081173896789551,
           -0.16538405418395996,
           -0.22098588943481445,
           -0.25804877281188965,
           -0.2831101417541504,
           -0.3002748489379883,
           -0.31215572357177734,
           -0.3204491138458252,
           -0.3262765407562256,
           -0.33039307594299316,
           -0.33331298828125,
           -0.3353910446166992,
           -0.3368716239929199,
           -0.337923526763916,
           -0.33866381645202637,
           -0.3391730785369873,
           -0.3395071029663086,
           -0.3397045135498047,
           -0.3397948741912842
          ],
          [
           0.3028416633605957,
           0.6196427345275879,
           0.45618486404418945,
           0.32436180114746094,
           0.3604776859283447,
           0.5315449237823486,
           0.830186128616333,
           1.045210599899292,
           0.7551584243774414,
           0.3895537853240967,
           0.1378166675567627,
           -0.02443671226501465,
           -0.12932372093200684,
           -0.1980915069580078,
           -0.24385452270507812,
           -0.27470850944519043,
           -0.2957327365875244,
           -0.3101789951324463,
           -0.3201727867126465,
           -0.32712841033935547,
           -0.3319997787475586,
           -0.335435152053833,
           -0.3378756046295166,
           -0.3396182060241699,
           -0.34086179733276367,
           -0.3417367935180664,
           -0.3423278331756592,
           -0.34268975257873535,
           -0.34285950660705566,
           -0.3428661823272705
          ],
          [
           0.10248684883117676,
           0.2718515396118164,
           0.46228647232055664,
           0.6614632606506348,
           0.777838945388794,
           0.7229189872741699,
           0.5798370838165283,
           0.42874789237976074,
           0.2782607078552246,
           0.13335585594177246,
           0.0073223114013671875,
           -0.0926353931427002,
           -0.1674051284790039,
           -0.22151899337768555,
           -0.2599670886993408,
           -0.2869865894317627,
           -0.30584239959716797,
           -0.31894588470458984,
           -0.32804369926452637,
           -0.3343844413757324,
           -0.3388497829437256,
           -0.34204936027526855,
           -0.3443937301635742,
           -0.3461463451385498,
           -0.34746479988098145,
           -0.3484344482421875,
           -0.349092960357666,
           -0.3494541645050049,
           -0.34952425956726074,
           -0.34931468963623047
          ],
          [
           0.07396578788757324,
           0.27809715270996094,
           0.6132090091705322,
           1.203547716140747,
           1.9994755983352661,
           1.182966709136963,
           0.6261980533599854,
           0.31043529510498047,
           0.11503195762634277,
           -0.016933679580688477,
           -0.1118772029876709,
           -0.18218421936035156,
           -0.23431396484375,
           -0.27240777015686035,
           -0.29964542388916016,
           -0.3186616897583008,
           -0.33164381980895996,
           -0.3403608798980713,
           -0.3461933135986328,
           -0.3501741886138916,
           -0.3530404567718506,
           -0.3552830219268799,
           -0.3571946620941162,
           -0.35891151428222656,
           -0.36045169830322266,
           -0.3617517948150635,
           -0.3627049922943115,
           -0.36319661140441895,
           -0.36313819885253906,
           -0.3624913692474365
          ],
          [
           -0.006353616714477539,
           0.11667919158935547,
           0.27873849868774414,
           0.4781792163848877,
           0.6074080467224121,
           0.4601433277130127,
           0.2537198066711426,
           0.08405184745788574,
           -0.04824018478393555,
           -0.14948797225952148,
           -0.22565674781799316,
           -0.28150153160095215,
           -0.3208441734313965,
           -0.3470287322998047,
           -0.3631463050842285,
           -0.37201786041259766,
           -0.37608790397644043,
           -0.3773348331451416,
           -0.37725114822387695,
           -0.37688112258911133,
           -0.37688708305358887,
           -0.37761735916137695,
           -0.3791646957397461,
           -0.3814101219177246,
           -0.384063720703125,
           -0.38671088218688965,
           -0.38887691497802734,
           -0.3901100158691406,
           -0.39006996154785156,
           -0.3885986804962158
          ],
          [
           -0.0169069766998291,
           0.10897684097290039,
           0.2814819812774658,
           0.48154330253601074,
           0.5799882411956787,
           0.44399428367614746,
           0.21419596672058105,
           0.011054754257202148,
           -0.14816784858703613,
           -0.2694101333618164,
           -0.3579273223876953,
           -0.4172677993774414,
           -0.4514288902282715,
           -0.4657020568847656,
           -0.46607327461242676,
           -0.4581756591796875,
           -0.44655942916870117,
           -0.43446850776672363,
           -0.42397212982177734,
           -0.41623449325561523,
           -0.41178107261657715,
           -0.4106898307800293,
           -0.41269397735595703,
           -0.4172170162200928,
           -0.42337608337402344,
           -0.4300119876861572,
           -0.43579792976379395,
           -0.4394505023956299,
           -0.4399991035461426,
           -0.43700480461120605
          ],
          [
           0.0024003982543945312,
           0.1571352481842041,
           0.40353941917419434,
           0.7971608638763428,
           1.14789879322052,
           0.7499620914459229,
           0.32542967796325684,
           0.016744375228881836,
           -0.22810745239257812,
           -0.4253559112548828,
           -0.5684528350830078,
           -0.650827169418335,
           -0.6779880523681641,
           -0.6655333042144775,
           -0.6310880184173584,
           -0.588660717010498,
           -0.5472347736358643,
           -0.5116598606109619,
           -0.4840691089630127,
           -0.46505069732666016,
           -0.4544079303741455,
           -0.45154905319213867,
           -0.4555933475494385,
           -0.4652676582336426,
           -0.4786996841430664,
           -0.49329185485839844,
           -0.5059773921966553,
           -0.5140104293823242,
           -0.5157661437988281,
           -0.5106861591339111
          ],
          [
           -0.034281253814697266,
           0.07152533531188965,
           0.20038104057312012,
           0.33473658561706543,
           0.43669915199279785,
           0.46541833877563477,
           0.3878293037414551,
           0.16510987281799316,
           -0.19923639297485352,
           -0.600494384765625,
           -0.8994790315628052,
           -1.0339853763580322,
           -1.028504729270935,
           -0.9473915100097656,
           -0.8427050113677979,
           -0.7419335842132568,
           -0.656548261642456,
           -0.589815616607666,
           -0.5413453578948975,
           -0.5094442367553711,
           -0.49220991134643555,
           -0.48789405822753906,
           -0.4947807788848877,
           -0.510617733001709,
           -0.5315344333648682,
           -0.5505554676055908,
           -0.5572025775909424,
           -0.5446780920028687,
           -0.5304837226867676,
           -0.5389525890350342
          ],
          [
           -0.06769442558288574,
           0.026889562606811523,
           0.15445327758789062,
           0.3293132781982422,
           0.5771796703338623,
           0.9429159164428711,
           1.4738454818725586,
           1.7683407068252563,
           0.6737489700317383,
           -0.4300673007965088,
           -1.0370221138000488,
           -1.3102689981460571,
           -1.2791457176208496,
           -1.131734848022461,
           -0.9684759378433228,
           -0.825037956237793,
           -0.7108817100524902,
           -0.6255621910095215,
           -0.5655243396759033,
           -0.5268397331237793,
           -0.5061666965484619,
           -0.5008835792541504,
           -0.5087006092071533,
           -0.5266680717468262,
           -0.5490555763244629,
           -0.5626392364501953,
           -0.535111665725708,
           -0.38081932067871094,
           0.054528117179870605,
           -0.3568580150604248
          ],
          [
           -0.11274385452270508,
           -0.03439068794250488,
           0.07213640213012695,
           0.21724748611450195,
           0.4122459888458252,
           0.6565630435943604,
           0.8813843727111816,
           0.823991060256958,
           0.27490735054016113,
           -0.3951108455657959,
           -0.7206251621246338,
           -1.0653749704360962,
           -1.0751442909240723,
           -0.9728004932403564,
           -0.8513815402984619,
           -0.7414023876190186,
           -0.651782751083374,
           -0.5834786891937256,
           -0.5346553325653076,
           -0.5027992725372314,
           -0.4855475425720215,
           -0.48089170455932617,
           -0.4869883060455322,
           -0.501638650894165,
           -0.5214412212371826,
           -0.5408737659454346,
           -0.5526232719421387,
           -0.5525126457214355,
           -0.5479531288146973,
           -0.5480153560638428
          ],
          [
           -0.17553067207336426,
           -0.12744569778442383,
           -0.06864094734191895,
           -0.0004088878631591797,
           0.07133817672729492,
           0.1330738067626953,
           0.16477084159851074,
           0.1548464298248291,
           0.12649917602539062,
           0.12242722511291504,
           0.07377791404724121,
           -0.1385636329650879,
           -0.35762763023376465,
           -0.4772312641143799,
           -0.5184781551361084,
           -0.5182225704193115,
           -0.5008234977722168,
           -0.47946691513061523,
           -0.4605734348297119,
           -0.44692349433898926,
           -0.4394538402557373,
           -0.4381752014160156,
           -0.44255781173706055,
           -0.451596736907959,
           -0.463733434677124,
           -0.47681093215942383,
           -0.48827457427978516,
           -0.49571800231933594,
           -0.49748873710632324,
           -0.492922306060791
          ],
          [
           -0.22873973846435547,
           -0.20047545433044434,
           -0.1670854091644287,
           -0.12843894958496094,
           -0.08388948440551758,
           -0.0302734375,
           0.04270648956298828,
           0.16126751899719238,
           0.3824803829193115,
           0.8080482482910156,
           1.2529548406600952,
           0.7004129886627197,
           0.19769811630249023,
           -0.08104324340820312,
           -0.2315807342529297,
           -0.3112373352050781,
           -0.35187435150146484,
           -0.37162065505981445,
           -0.3808584213256836,
           -0.38547515869140625,
           -0.38872265815734863,
           -0.3922874927520752,
           -0.39688658714294434,
           -0.4025888442993164,
           -0.40899062156677246,
           -0.41533899307250977,
           -0.42068028450012207,
           -0.4240579605102539,
           -0.4247405529022217,
           -0.4224088191986084
          ],
          [
           -0.26230788230895996,
           -0.2421567440032959,
           -0.2166149616241455,
           -0.1834697723388672,
           -0.13881635665893555,
           -0.0758047103881836,
           0.017018556594848633,
           0.15712261199951172,
           0.3661215305328369,
           0.6441836357116699,
           0.8147897720336914,
           0.6014974117279053,
           0.29199719429016113,
           0.059237003326416016,
           -0.09651947021484375,
           -0.19667983055114746,
           -0.2597236633300781,
           -0.29897022247314453,
           -0.3234131336212158,
           -0.33890557289123535,
           -0.3491537570953369,
           -0.35643553733825684,
           -0.36208200454711914,
           -0.3667941093444824,
           -0.3708486557006836,
           -0.37424659729003906,
           -0.3768296241760254,
           -0.3783879280090332,
           -0.3787510395050049,
           -0.37785816192626953
          ],
          [
           -0.28296637535095215,
           -0.2667808532714844,
           -0.24497270584106445,
           -0.21474790573120117,
           -0.17144441604614258,
           -0.10716438293457031,
           -0.008348464965820312,
           0.1483924388885498,
           0.4014425277709961,
           0.7875332832336426,
           1.0844690799713135,
           0.7635753154754639,
           0.36725640296936035,
           0.10617947578430176,
           -0.05673837661743164,
           -0.1593151092529297,
           -0.2248542308807373,
           -0.2672445774078369,
           -0.29494333267211914,
           -0.3132314682006836,
           -0.32546496391296387,
           -0.33379197120666504,
           -0.3395833969116211,
           -0.3437004089355469,
           -0.3466684818267822,
           -0.34879517555236816,
           -0.3502533435821533,
           -0.3511383533477783,
           -0.35150885581970215,
           -0.35141515731811523
          ],
          [
           -0.2983357906341553,
           -0.28630900382995605,
           -0.27014923095703125,
           -0.2481999397277832,
           -0.2181699275970459,
           -0.1771235466003418,
           -0.12200760841369629,
           -0.05164742469787598,
           0.028258562088012695,
           0.0977773666381836,
           0.12459611892700195,
           0.09102845191955566,
           0.015882253646850586,
           -0.06824469566345215,
           -0.14153146743774414,
           -0.19838476181030273,
           -0.24006152153015137,
           -0.269730806350708,
           -0.29048752784729004,
           -0.3048112392425537,
           -0.3145420551300049,
           -0.3210005760192871,
           -0.3251223564147949,
           -0.3275773525238037,
           -0.32886648178100586,
           -0.32939672470092773,
           -0.32952427864074707,
           -0.3295619487762451,
           -0.32975077629089355,
           -0.330219030380249
          ],
          [
           -0.31107378005981445,
           -0.30339503288269043,
           -0.2935197353363037,
           -0.280928373336792,
           -0.2651407718658447,
           -0.24592161178588867,
           -0.22366547584533691,
           -0.1999373435974121,
           -0.17792487144470215,
           -0.16218042373657227,
           -0.1570439338684082,
           -0.16427159309387207,
           -0.1818540096282959,
           -0.2052621841430664,
           -0.22983336448669434,
           -0.25232553482055664,
           -0.2711501121520996,
           -0.2859067916870117,
           -0.2968294620513916,
           -0.3043935298919678,
           -0.3090956211090088,
           -0.3113539218902588,
           -0.31148767471313477,
           -0.30976009368896484,
           -0.30648350715637207,
           -0.3021812438964844,
           -0.29773879051208496,
           -0.2943744659423828,
           -0.29326415061950684,
           -0.29495763778686523
          ],
          [
           -0.3209257125854492,
           -0.31659960746765137,
           -0.3113222122192383,
           -0.30501556396484375,
           -0.2976975440979004,
           -0.2895503044128418,
           -0.28099727630615234,
           -0.2727489471435547,
           -0.265763521194458,
           -0.2610666751861572,
           -0.25945210456848145,
           -0.2611827850341797,
           -0.26586389541625977,
           -0.27257752418518066,
           -0.2801835536956787,
           -0.28761816024780273,
           -0.29406261444091797,
           -0.29897308349609375,
           -0.3020141124725342,
           -0.30295538902282715,
           -0.3015561103820801,
           -0.29745054244995117,
           -0.2900421619415283,
           -0.27845072746276855,
           -0.2616753578186035,
           -0.23933100700378418,
           -0.21341228485107422,
           -0.19052410125732422,
           -0.18081045150756836,
           -0.18999314308166504
          ],
          [
           -0.3276998996734619,
           -0.3254430294036865,
           -0.3228118419647217,
           -0.3198215961456299,
           -0.31653404235839844,
           -0.31307029724121094,
           -0.3096165657043457,
           -0.30641698837280273,
           -0.3037412166595459,
           -0.3018343448638916,
           -0.30085229873657227,
           -0.30080676078796387,
           -0.3015451431274414,
           -0.3027663230895996,
           -0.30406832695007324,
           -0.30500245094299316,
           -0.3051126003265381,
           -0.30394411087036133,
           -0.30101966857910156,
           -0.29577040672302246,
           -0.2874109745025635,
           -0.27471113204956055,
           -0.25557708740234375,
           -0.2262873649597168,
           -0.1801755428314209,
           -0.10581207275390625,
           0.012912273406982422,
           0.17792034149169922,
           0.28737688064575195,
           0.18869233131408691
          ],
          [
           -0.33191800117492676,
           -0.3307793140411377,
           -0.32949233055114746,
           -0.32807397842407227,
           -0.3265559673309326,
           -0.32498693466186523,
           -0.3234286308288574,
           -0.3219485282897949,
           -0.32060718536376953,
           -0.3194413185119629,
           -0.31844592094421387,
           -0.31755733489990234,
           -0.31664371490478516,
           -0.31550121307373047,
           -0.31385135650634766,
           -0.3113431930541992,
           -0.3075432777404785,
           -0.3019144535064697,
           -0.2937736511230469,
           -0.28221774101257324,
           -0.2659947872161865,
           -0.24327731132507324,
           -0.21124768257141113,
           -0.16529130935668945,
           -0.09737896919250488,
           0.007218837738037109,
           0.17573094367980957,
           0.44553136825561523,
           0.6905865669250488,
           0.4666786193847656
          ],
          [
           -0.3343617916107178,
           -0.3337826728820801,
           -0.33313584327697754,
           -0.3324260711669922,
           -0.3316614627838135,
           -0.33085131645202637,
           -0.3300032615661621,
           -0.3291189670562744,
           -0.32818603515625,
           -0.32717132568359375,
           -0.32601094245910645,
           -0.3245978355407715,
           -0.3227732181549072,
           -0.3203103542327881,
           -0.3168976306915283,
           -0.3121168613433838,
           -0.3054039478302002,
           -0.2960019111633301,
           -0.2828831672668457,
           -0.2646474838256836,
           -0.23937439918518066,
           -0.20444989204406738,
           -0.15639829635620117,
           -0.0908973217010498,
           -0.003498077392578125,
           0.10764646530151367,
           0.23467588424682617,
           0.34839344024658203,
           0.39844679832458496,
           0.3541066646575928
          ],
          [
           -0.3357100486755371,
           -0.33539915084838867,
           -0.33504700660705566,
           -0.33465003967285156,
           -0.33420372009277344,
           -0.33369874954223633,
           -0.33312058448791504,
           -0.3324437141418457,
           -0.33162856101989746,
           -0.3306124210357666,
           -0.3293037414550781,
           -0.32756805419921875,
           -0.32521605491638184,
           -0.32198119163513184,
           -0.3174934387207031,
           -0.31123876571655273,
           -0.3025014400482178,
           -0.2902793884277344,
           -0.27315831184387207,
           -0.24912333488464355,
           -0.2152726650238037,
           -0.16738152503967285,
           -0.09922361373901367,
           -0.0015017986297607422,
           0.13987517356872559,
           0.34644651412963867,
           0.6496574878692627,
           1.0738747119903564,
           1.4091894626617432,
           1.104858160018921
          ],
          [
           -0.33643221855163574,
           -0.33624839782714844,
           -0.3360323905944824,
           -0.33577632904052734,
           -0.33546948432922363,
           -0.3350956439971924,
           -0.33463191986083984,
           -0.3340435028076172,
           -0.3332798480987549,
           -0.33227014541625977,
           -0.33091235160827637,
           -0.32906413078308105,
           -0.3265242576599121,
           -0.3230135440826416,
           -0.31814026832580566,
           -0.3113572597503662,
           -0.3018929958343506,
           -0.2886543273925781,
           -0.27007627487182617,
           -0.24389433860778809,
           -0.2067856788635254,
           -0.1538069248199463,
           -0.07750248908996582,
           0.03350520133972168,
           0.19663095474243164,
           0.43816280364990234,
           0.7957990169525146,
           1.3179051876068115,
           1.9456275701522827,
           1.3648724555969238
          ],
          [
           -0.33681654930114746,
           -0.33669519424438477,
           -0.3365459442138672,
           -0.33635973930358887,
           -0.3361244201660156,
           -0.33582258224487305,
           -0.33542895317077637,
           -0.33490896224975586,
           -0.3342134952545166,
           -0.33327412605285645,
           -0.33199572563171387,
           -0.3302459716796875,
           -0.32784247398376465,
           -0.32453227043151855,
           -0.3199653625488281,
           -0.3136560916900635,
           -0.30492711067199707,
           -0.292830228805542,
           -0.27602553367614746,
           -0.25260376930236816,
           -0.21980953216552734,
           -0.1736142635345459,
           -0.10803675651550293,
           -0.014035463333129883,
           0.12240815162658691,
           0.3240659236907959,
           0.6321210861206055,
           1.141955852508545,
           2.167630672454834,
           1.193208932876587
          ],
          [
           -0.33702540397644043,
           -0.33693861961364746,
           -0.33682775497436523,
           -0.3366847038269043,
           -0.33649754524230957,
           -0.33625102043151855,
           -0.3359224796295166,
           -0.3354823589324951,
           -0.3348886966705322,
           -0.33408451080322266,
           -0.3329920768737793,
           -0.33150553703308105,
           -0.3294808864593506,
           -0.3267230987548828,
           -0.3229682445526123,
           -0.317859411239624,
           -0.3109140396118164,
           -0.3014793395996094,
           -0.28867173194885254,
           -0.27129149436950684,
           -0.24770569801330566,
           -0.21568751335144043,
           -0.17220664024353027,
           -0.11320090293884277,
           -0.033539533615112305,
           0.07194352149963379,
           0.2030484676361084,
           0.33640360832214355,
           0.40238142013549805,
           0.34389638900756836
          ]
         ],
         "type": "surface"
        },
        {
         "marker": {
          "color": "darkgreen"
         },
         "mode": "markers",
         "name": "training data",
         "x": [
          0.5,
          0.5,
          1.0000000037252903,
          1.0000000037252903,
          1.5000000074505806,
          1.5000000074505806,
          5.000000000000001,
          5.000000000000001,
          0.5,
          5.000000000000001,
          2.0000000447034836,
          0.5,
          0.5,
          0.5,
          1.0000000037252903,
          1.0000000037252903,
          2.0000000447034836,
          2.0000000447034836,
          2.0000000447034836,
          2.0000000447034836,
          5.000000000000001,
          5.000000000000001,
          5.000000000000001
         ],
         "y": [
          2.7300000190734863,
          3.4000001145614362,
          3.7899999185612288,
          6.440000140764965,
          5.3600000716472636,
          8.98999989360641,
          8.800000081362441,
          14.670000341289324,
          5.239999811442516,
          14.890000123887603,
          10.130000282220237,
          4.510000154033449,
          5.369999872371615,
          4.880000167190786,
          6.760000203331785,
          7.769999962835257,
          8.729999392960707,
          9.380000265787459,
          10.479999178778854,
          11.010000170188363,
          14.710000301761738,
          15.4399995803833,
          13.370000110785838
         ],
         "z": [
          0.8730257153511047,
          2.6772446632385254,
          1.6990152597427368,
          3.8050527572631836,
          3.3348562717437744,
          4.535152912139893,
          1.3625102043151855,
          3.8412907123565674,
          1.2013570070266724,
          3.5136520862579346,
          3.4708714485168457,
          0.26329824328422546,
          2.7753403186798096,
          2.591306209564209,
          2.579984426498413,
          3.173818588256836,
          0.13150499761104584,
          0.45116370916366577,
          2.1266398429870605,
          3.468212842941284,
          3.685852527618408,
          3.445655584335327,
          2.6515469551086426
         ],
         "type": "scatter3d"
        },
        {
         "mode": "markers",
         "name": "max(PI)",
         "x": [
          1.336822658777237
         ],
         "y": [
          8.850209122655428
         ],
         "z": [
          2.532315731048584
         ],
         "type": "scatter3d"
        },
        {
         "mode": "markers",
         "name": "max(EI)",
         "x": [
          1.336822658777237
         ],
         "y": [
          8.850209122655428
         ],
         "z": [
          2.532315731048584
         ],
         "type": "scatter3d"
        },
        {
         "mode": "markers",
         "name": "max(CA)",
         "x": [
          4.163177341222764
         ],
         "y": [
          14.954765211402503
         ],
         "z": [
          2.5761656761169434
         ],
         "type": "scatter3d"
        },
        {
         "mode": "markers",
         "name": "max(TH)",
         "x": [
          4.495689451694489
         ],
         "y": [
          5.563140211815174
         ],
         "z": [
          2.4732303619384766
         ],
         "type": "scatter3d"
        },
        {
         "mode": "markers",
         "name": "max(UCB)",
         "x": [
          1.1705665364861488
         ],
         "y": [
          8.850209122655428
         ],
         "z": [
          2.5013136863708496
         ],
         "type": "scatter3d"
        },
        {
         "mode": "markers",
         "name": "max(Max_var)",
         "x": [
          5.160714209079743
         ],
         "y": [
          2.276071443020234
         ],
         "z": [
          2.4653873443603516
         ],
         "type": "scatter3d"
        }
       ],
       "layout": {
        "template": {
         "data": {
          "histogram2dcontour": [
           {
            "type": "histogram2dcontour",
            "colorbar": {
             "outlinewidth": 0,
             "ticks": ""
            },
            "colorscale": [
             [
              0,
              "#0d0887"
             ],
             [
              0.1111111111111111,
              "#46039f"
             ],
             [
              0.2222222222222222,
              "#7201a8"
             ],
             [
              0.3333333333333333,
              "#9c179e"
             ],
             [
              0.4444444444444444,
              "#bd3786"
             ],
             [
              0.5555555555555556,
              "#d8576b"
             ],
             [
              0.6666666666666666,
              "#ed7953"
             ],
             [
              0.7777777777777778,
              "#fb9f3a"
             ],
             [
              0.8888888888888888,
              "#fdca26"
             ],
             [
              1,
              "#f0f921"
             ]
            ]
           }
          ],
          "choropleth": [
           {
            "type": "choropleth",
            "colorbar": {
             "outlinewidth": 0,
             "ticks": ""
            }
           }
          ],
          "histogram2d": [
           {
            "type": "histogram2d",
            "colorbar": {
             "outlinewidth": 0,
             "ticks": ""
            },
            "colorscale": [
             [
              0,
              "#0d0887"
             ],
             [
              0.1111111111111111,
              "#46039f"
             ],
             [
              0.2222222222222222,
              "#7201a8"
             ],
             [
              0.3333333333333333,
              "#9c179e"
             ],
             [
              0.4444444444444444,
              "#bd3786"
             ],
             [
              0.5555555555555556,
              "#d8576b"
             ],
             [
              0.6666666666666666,
              "#ed7953"
             ],
             [
              0.7777777777777778,
              "#fb9f3a"
             ],
             [
              0.8888888888888888,
              "#fdca26"
             ],
             [
              1,
              "#f0f921"
             ]
            ]
           }
          ],
          "heatmap": [
           {
            "type": "heatmap",
            "colorbar": {
             "outlinewidth": 0,
             "ticks": ""
            },
            "colorscale": [
             [
              0,
              "#0d0887"
             ],
             [
              0.1111111111111111,
              "#46039f"
             ],
             [
              0.2222222222222222,
              "#7201a8"
             ],
             [
              0.3333333333333333,
              "#9c179e"
             ],
             [
              0.4444444444444444,
              "#bd3786"
             ],
             [
              0.5555555555555556,
              "#d8576b"
             ],
             [
              0.6666666666666666,
              "#ed7953"
             ],
             [
              0.7777777777777778,
              "#fb9f3a"
             ],
             [
              0.8888888888888888,
              "#fdca26"
             ],
             [
              1,
              "#f0f921"
             ]
            ]
           }
          ],
          "heatmapgl": [
           {
            "type": "heatmapgl",
            "colorbar": {
             "outlinewidth": 0,
             "ticks": ""
            },
            "colorscale": [
             [
              0,
              "#0d0887"
             ],
             [
              0.1111111111111111,
              "#46039f"
             ],
             [
              0.2222222222222222,
              "#7201a8"
             ],
             [
              0.3333333333333333,
              "#9c179e"
             ],
             [
              0.4444444444444444,
              "#bd3786"
             ],
             [
              0.5555555555555556,
              "#d8576b"
             ],
             [
              0.6666666666666666,
              "#ed7953"
             ],
             [
              0.7777777777777778,
              "#fb9f3a"
             ],
             [
              0.8888888888888888,
              "#fdca26"
             ],
             [
              1,
              "#f0f921"
             ]
            ]
           }
          ],
          "contourcarpet": [
           {
            "type": "contourcarpet",
            "colorbar": {
             "outlinewidth": 0,
             "ticks": ""
            }
           }
          ],
          "contour": [
           {
            "type": "contour",
            "colorbar": {
             "outlinewidth": 0,
             "ticks": ""
            },
            "colorscale": [
             [
              0,
              "#0d0887"
             ],
             [
              0.1111111111111111,
              "#46039f"
             ],
             [
              0.2222222222222222,
              "#7201a8"
             ],
             [
              0.3333333333333333,
              "#9c179e"
             ],
             [
              0.4444444444444444,
              "#bd3786"
             ],
             [
              0.5555555555555556,
              "#d8576b"
             ],
             [
              0.6666666666666666,
              "#ed7953"
             ],
             [
              0.7777777777777778,
              "#fb9f3a"
             ],
             [
              0.8888888888888888,
              "#fdca26"
             ],
             [
              1,
              "#f0f921"
             ]
            ]
           }
          ],
          "surface": [
           {
            "type": "surface",
            "colorbar": {
             "outlinewidth": 0,
             "ticks": ""
            },
            "colorscale": [
             [
              0,
              "#0d0887"
             ],
             [
              0.1111111111111111,
              "#46039f"
             ],
             [
              0.2222222222222222,
              "#7201a8"
             ],
             [
              0.3333333333333333,
              "#9c179e"
             ],
             [
              0.4444444444444444,
              "#bd3786"
             ],
             [
              0.5555555555555556,
              "#d8576b"
             ],
             [
              0.6666666666666666,
              "#ed7953"
             ],
             [
              0.7777777777777778,
              "#fb9f3a"
             ],
             [
              0.8888888888888888,
              "#fdca26"
             ],
             [
              1,
              "#f0f921"
             ]
            ]
           }
          ],
          "mesh3d": [
           {
            "type": "mesh3d",
            "colorbar": {
             "outlinewidth": 0,
             "ticks": ""
            }
           }
          ],
          "scatter": [
           {
            "fillpattern": {
             "fillmode": "overlay",
             "size": 10,
             "solidity": 0.2
            },
            "type": "scatter"
           }
          ],
          "parcoords": [
           {
            "type": "parcoords",
            "line": {
             "colorbar": {
              "outlinewidth": 0,
              "ticks": ""
             }
            }
           }
          ],
          "scatterpolargl": [
           {
            "type": "scatterpolargl",
            "marker": {
             "colorbar": {
              "outlinewidth": 0,
              "ticks": ""
             }
            }
           }
          ],
          "bar": [
           {
            "error_x": {
             "color": "#2a3f5f"
            },
            "error_y": {
             "color": "#2a3f5f"
            },
            "marker": {
             "line": {
              "color": "#E5ECF6",
              "width": 0.5
             },
             "pattern": {
              "fillmode": "overlay",
              "size": 10,
              "solidity": 0.2
             }
            },
            "type": "bar"
           }
          ],
          "scattergeo": [
           {
            "type": "scattergeo",
            "marker": {
             "colorbar": {
              "outlinewidth": 0,
              "ticks": ""
             }
            }
           }
          ],
          "scatterpolar": [
           {
            "type": "scatterpolar",
            "marker": {
             "colorbar": {
              "outlinewidth": 0,
              "ticks": ""
             }
            }
           }
          ],
          "histogram": [
           {
            "marker": {
             "pattern": {
              "fillmode": "overlay",
              "size": 10,
              "solidity": 0.2
             }
            },
            "type": "histogram"
           }
          ],
          "scattergl": [
           {
            "type": "scattergl",
            "marker": {
             "colorbar": {
              "outlinewidth": 0,
              "ticks": ""
             }
            }
           }
          ],
          "scatter3d": [
           {
            "type": "scatter3d",
            "line": {
             "colorbar": {
              "outlinewidth": 0,
              "ticks": ""
             }
            },
            "marker": {
             "colorbar": {
              "outlinewidth": 0,
              "ticks": ""
             }
            }
           }
          ],
          "scattermapbox": [
           {
            "type": "scattermapbox",
            "marker": {
             "colorbar": {
              "outlinewidth": 0,
              "ticks": ""
             }
            }
           }
          ],
          "scatterternary": [
           {
            "type": "scatterternary",
            "marker": {
             "colorbar": {
              "outlinewidth": 0,
              "ticks": ""
             }
            }
           }
          ],
          "scattercarpet": [
           {
            "type": "scattercarpet",
            "marker": {
             "colorbar": {
              "outlinewidth": 0,
              "ticks": ""
             }
            }
           }
          ],
          "carpet": [
           {
            "aaxis": {
             "endlinecolor": "#2a3f5f",
             "gridcolor": "white",
             "linecolor": "white",
             "minorgridcolor": "white",
             "startlinecolor": "#2a3f5f"
            },
            "baxis": {
             "endlinecolor": "#2a3f5f",
             "gridcolor": "white",
             "linecolor": "white",
             "minorgridcolor": "white",
             "startlinecolor": "#2a3f5f"
            },
            "type": "carpet"
           }
          ],
          "table": [
           {
            "cells": {
             "fill": {
              "color": "#EBF0F8"
             },
             "line": {
              "color": "white"
             }
            },
            "header": {
             "fill": {
              "color": "#C8D4E3"
             },
             "line": {
              "color": "white"
             }
            },
            "type": "table"
           }
          ],
          "barpolar": [
           {
            "marker": {
             "line": {
              "color": "#E5ECF6",
              "width": 0.5
             },
             "pattern": {
              "fillmode": "overlay",
              "size": 10,
              "solidity": 0.2
             }
            },
            "type": "barpolar"
           }
          ],
          "pie": [
           {
            "automargin": true,
            "type": "pie"
           }
          ]
         },
         "layout": {
          "autotypenumbers": "strict",
          "colorway": [
           "#636efa",
           "#EF553B",
           "#00cc96",
           "#ab63fa",
           "#FFA15A",
           "#19d3f3",
           "#FF6692",
           "#B6E880",
           "#FF97FF",
           "#FECB52"
          ],
          "font": {
           "color": "#2a3f5f"
          },
          "hovermode": "closest",
          "hoverlabel": {
           "align": "left"
          },
          "paper_bgcolor": "white",
          "plot_bgcolor": "#E5ECF6",
          "polar": {
           "bgcolor": "#E5ECF6",
           "angularaxis": {
            "gridcolor": "white",
            "linecolor": "white",
            "ticks": ""
           },
           "radialaxis": {
            "gridcolor": "white",
            "linecolor": "white",
            "ticks": ""
           }
          },
          "ternary": {
           "bgcolor": "#E5ECF6",
           "aaxis": {
            "gridcolor": "white",
            "linecolor": "white",
            "ticks": ""
           },
           "baxis": {
            "gridcolor": "white",
            "linecolor": "white",
            "ticks": ""
           },
           "caxis": {
            "gridcolor": "white",
            "linecolor": "white",
            "ticks": ""
           }
          },
          "coloraxis": {
           "colorbar": {
            "outlinewidth": 0,
            "ticks": ""
           }
          },
          "colorscale": {
           "sequential": [
            [
             0,
             "#0d0887"
            ],
            [
             0.1111111111111111,
             "#46039f"
            ],
            [
             0.2222222222222222,
             "#7201a8"
            ],
            [
             0.3333333333333333,
             "#9c179e"
            ],
            [
             0.4444444444444444,
             "#bd3786"
            ],
            [
             0.5555555555555556,
             "#d8576b"
            ],
            [
             0.6666666666666666,
             "#ed7953"
            ],
            [
             0.7777777777777778,
             "#fb9f3a"
            ],
            [
             0.8888888888888888,
             "#fdca26"
            ],
            [
             1,
             "#f0f921"
            ]
           ],
           "sequentialminus": [
            [
             0,
             "#0d0887"
            ],
            [
             0.1111111111111111,
             "#46039f"
            ],
            [
             0.2222222222222222,
             "#7201a8"
            ],
            [
             0.3333333333333333,
             "#9c179e"
            ],
            [
             0.4444444444444444,
             "#bd3786"
            ],
            [
             0.5555555555555556,
             "#d8576b"
            ],
            [
             0.6666666666666666,
             "#ed7953"
            ],
            [
             0.7777777777777778,
             "#fb9f3a"
            ],
            [
             0.8888888888888888,
             "#fdca26"
            ],
            [
             1,
             "#f0f921"
            ]
           ],
           "diverging": [
            [
             0,
             "#8e0152"
            ],
            [
             0.1,
             "#c51b7d"
            ],
            [
             0.2,
             "#de77ae"
            ],
            [
             0.3,
             "#f1b6da"
            ],
            [
             0.4,
             "#fde0ef"
            ],
            [
             0.5,
             "#f7f7f7"
            ],
            [
             0.6,
             "#e6f5d0"
            ],
            [
             0.7,
             "#b8e186"
            ],
            [
             0.8,
             "#7fbc41"
            ],
            [
             0.9,
             "#4d9221"
            ],
            [
             1,
             "#276419"
            ]
           ]
          },
          "xaxis": {
           "gridcolor": "white",
           "linecolor": "white",
           "ticks": "",
           "title": {
            "standoff": 15
           },
           "zerolinecolor": "white",
           "automargin": true,
           "zerolinewidth": 2
          },
          "yaxis": {
           "gridcolor": "white",
           "linecolor": "white",
           "ticks": "",
           "title": {
            "standoff": 15
           },
           "zerolinecolor": "white",
           "automargin": true,
           "zerolinewidth": 2
          },
          "scene": {
           "xaxis": {
            "backgroundcolor": "#E5ECF6",
            "gridcolor": "white",
            "linecolor": "white",
            "showbackground": true,
            "ticks": "",
            "zerolinecolor": "white",
            "gridwidth": 2
           },
           "yaxis": {
            "backgroundcolor": "#E5ECF6",
            "gridcolor": "white",
            "linecolor": "white",
            "showbackground": true,
            "ticks": "",
            "zerolinecolor": "white",
            "gridwidth": 2
           },
           "zaxis": {
            "backgroundcolor": "#E5ECF6",
            "gridcolor": "white",
            "linecolor": "white",
            "showbackground": true,
            "ticks": "",
            "zerolinecolor": "white",
            "gridwidth": 2
           }
          },
          "shapedefaults": {
           "line": {
            "color": "#2a3f5f"
           }
          },
          "annotationdefaults": {
           "arrowcolor": "#2a3f5f",
           "arrowhead": 0,
           "arrowwidth": 1
          },
          "geo": {
           "bgcolor": "white",
           "landcolor": "#E5ECF6",
           "subunitcolor": "white",
           "showland": true,
           "showlakes": true,
           "lakecolor": "white"
          },
          "title": {
           "x": 0.05
          },
          "mapbox": {
           "style": "light"
          }
         }
        },
        "margin": {
         "r": 20,
         "l": 10,
         "b": 10,
         "t": 10
        },
        "legend": {
         "orientation": "h",
         "yanchor": "bottom",
         "y": 1.02,
         "xanchor": "right",
         "x": 1
        },
        "width": 1000,
        "height": 600,
        "scene": {
         "xaxis": {
          "title": {
           "text": "Pulse Width (msec)"
          }
         },
         "yaxis": {
          "title": {
           "text": "Energy density new cone (J/cm^2)"
          }
         },
         "zaxis": {
          "title": {
           "text": "2 Qsw/(U+|D|) 1e6"
          }
         }
        }
       },
       "config": {
        "plotlyServerURL": "https://plot.ly"
       }
      }
     },
     "metadata": {}
    }
   ],
   "metadata": {}
  },
  {
   "cell_type": "code",
   "execution_count": 25,
   "source": [
    "# check fig of merit of julia et al prediction point\n",
    "y_preds_1 = likelihood(model(torch.Tensor([[2.9, 9.04]])))\n",
    "with torch.no_grad():\n",
    "    y_preds_mean_1 = y_preds_1.mean.numpy()\n",
    "print(y_preds_mean_1)"
   ],
   "outputs": [
    {
     "output_type": "stream",
     "name": "stdout",
     "text": [
      "[2.4650266]\n"
     ]
    },
    {
     "output_type": "stream",
     "name": "stderr",
     "text": [
      "/Users/valenetjong/opt/anaconda3/envs/FEGP/lib/python3.9/site-packages/gpytorch/likelihoods/gaussian_likelihood.py:270: GPInputWarning:\n",
      "\n",
      "You have passed data through a FixedNoiseGaussianLikelihood that did not match the size of the fixed noise, *and* you did not specify noise. This is treated as a no-op.\n",
      "\n"
     ]
    }
   ],
   "metadata": {}
  },
  {
   "cell_type": "markdown",
   "source": [
    "### Post-processing\n",
    "- Energy density, pulse width --> voltage function"
   ],
   "metadata": {}
  },
  {
   "cell_type": "code",
   "execution_count": 26,
   "source": [
    "import GPy\n",
    "from GPy.models import GPRegression\n",
    "from emukit.model_wrappers import GPyModelWrapper\n",
    "from torch.optim import Adam as Adam\n",
    "from emukit.core import ParameterSpace, ContinuousParameter"
   ],
   "outputs": [],
   "metadata": {}
  },
  {
   "cell_type": "markdown",
   "source": [
    "#### Load Data"
   ],
   "metadata": {}
  },
  {
   "cell_type": "code",
   "execution_count": 27,
   "source": [
    "dir = \"/Users/valenetjong/Bayesian-Optimization-Ferroelectrics/data/\"\n",
    "in_file = \"MKS_Ophir_joulemeter_readings.xlsx\"\n",
    "df = pd.read_excel(dir + in_file, sheet_name=\"Sheet2\")\n",
    "df = df.dropna() # Drop rows with NaN values\n",
    "print(df)\n",
    "\n",
    "time_bol_dat = df['Pulse width'].values\n",
    "energy_den_bol_dat = df['optical read (J/cm^2)'].values\n",
    "volts_bol_dat = df['Voltage Setting'].values\n",
    "\n",
    "# define scaler\n",
    "post_scaler = MinMaxScaler()\n",
    "\n",
    "# make, scale training set\n",
    "x_exp_raw = np.stack((time_bol_dat, energy_den_bol_dat), axis=1)\n",
    "post_scaler.fit(x_exp_raw)\n",
    "x_exp = post_scaler.transform(x_exp_raw)\n",
    "y_exp = np.reshape(volts_bol_dat, (-1, 1))\n",
    "X, Y = [x_exp, y_exp]"
   ],
   "outputs": [
    {
     "output_type": "stream",
     "name": "stdout",
     "text": [
      "     Voltage Setting  Pulse width  optical read (J/cm^2)\n",
      "0             2200.0        500.0                   1.92\n",
      "1             2200.0       1000.0                   3.79\n",
      "2             2200.0       1500.0                   5.36\n",
      "3             2200.0       2000.0                   6.65\n",
      "4             2200.0       2500.0                   7.73\n",
      "..               ...          ...                    ...\n",
      "107           1950.0       3000.0                   6.78\n",
      "108           1950.0       3500.0                   7.36\n",
      "109           1950.0       4000.0                   7.94\n",
      "110           1950.0       4500.0                   8.39\n",
      "111           1950.0       5000.0                   8.80\n",
      "\n",
      "[92 rows x 3 columns]\n"
     ]
    }
   ],
   "metadata": {}
  },
  {
   "cell_type": "markdown",
   "source": [
    "#### GP Voltage Model"
   ],
   "metadata": {}
  },
  {
   "cell_type": "code",
   "execution_count": 28,
   "source": [
    "def grid_maker_1D(arr, step_size):\n",
    "    return np.arange(arr.min(), arr.max()+step_size*0.1,step_size)\n",
    "\n",
    "# make GP grid; min delta time: 500us, min delta energy density: 0.01J/cm^2\n",
    "var_array = [grid_maker_1D(time_bol_dat, 500), grid_maker_1D(energy_den_bol_dat, 0.01)]"
   ],
   "outputs": [],
   "metadata": {}
  },
  {
   "cell_type": "code",
   "execution_count": 29,
   "source": [
    "# continuous parameter creates a grid space for grid search\n",
    "time_len_num, e_den_num = len(var_array[0]), len(var_array[1])\n",
    "parameter_space = ParameterSpace([ContinuousParameter(\"Time (ms)\", 0-1/(time_len_num-1)/2, 1+1/(time_len_num-1)/2),\n",
    "                                  ContinuousParameter(\"Energy density new cone (J/cm^2)\", 0-1/(e_den_num-1)/2, 1+1/(e_den_num-1)/2),\n",
    "                                 ])"
   ],
   "outputs": [],
   "metadata": {}
  },
  {
   "cell_type": "code",
   "execution_count": 30,
   "source": [
    "# define GP model\n",
    "kernel = GPy.kern.Matern52(input_dim = len(X[0]), ARD =True)#\n",
    "kernel.lengthscale.constrain_bounded(1e-2, 1)\n",
    "kernel.variance.constrain_bounded(1e-2, 1000.0)\n",
    "model_volt = GPRegression(X , -Y, kernel)\n",
    "model_volt.Gaussian_noise.variance = 0.15\n",
    "model_volt.Gaussian_noise.variance.fix()"
   ],
   "outputs": [
    {
     "output_type": "stream",
     "name": "stderr",
     "text": [
      "reconstraining parameters Mat52.lengthscale\n",
      "reconstraining parameters Mat52.variance\n"
     ]
    },
    {
     "output_type": "execute_result",
     "data": {
      "text/plain": [
       "array([0])"
      ]
     },
     "metadata": {},
     "execution_count": 30
    }
   ],
   "metadata": {}
  },
  {
   "cell_type": "code",
   "execution_count": 31,
   "source": [
    "# randomize hyperparameters\n",
    "model_volt.randomize() \n",
    "\n",
    "# check hyperparameters \n",
    "print(kernel.lengthscale, '\\n', kernel.variance)"
   ],
   "outputs": [
    {
     "output_type": "stream",
     "name": "stdout",
     "text": [
      "  \u001b[1mindex\u001b[0;0m  |  GP_regression.Mat52.lengthscale  |  constraints  |  priors\n",
      "  \u001b[1m[0]  \u001b[0;0m  |                       0.18651840  |   0.01,1.0    |        \n",
      "  \u001b[1m[1]  \u001b[0;0m  |                       0.10147190  |   0.01,1.0    |         \n",
      "   \u001b[1mindex\u001b[0;0m  |  GP_regression.Mat52.variance  |  constraints  |  priors\n",
      "  \u001b[1m[0]  \u001b[0;0m  |                  197.91575890  |  0.01,1000.0  |        \n"
     ]
    }
   ],
   "metadata": {}
  },
  {
   "cell_type": "code",
   "execution_count": 32,
   "source": [
    "# train voltage model\n",
    "model_volt.optimize_restarts(num_restarts=30, verbose =False, messages=False) # fit to training data, select best hyperparameters out of num_restarts \n",
    "objective_model = GPyModelWrapper(model_volt)\n",
    "print(objective_model.model.kern.lengthscale, '\\n', objective_model.model.kern.variance)"
   ],
   "outputs": [
    {
     "output_type": "stream",
     "name": "stdout",
     "text": [
      "  \u001b[1mindex\u001b[0;0m  |  GP_regression.Mat52.lengthscale  |  constraints  |  priors\n",
      "  \u001b[1m[0]  \u001b[0;0m  |                       0.32563504  |   0.01,1.0    |        \n",
      "  \u001b[1m[1]  \u001b[0;0m  |                       0.28511535  |   0.01,1.0    |         \n",
      "   \u001b[1mindex\u001b[0;0m  |  GP_regression.Mat52.variance  |  constraints  |  priors\n",
      "  \u001b[1m[0]  \u001b[0;0m  |                  999.99999737  |  0.01,1000.0  |        \n"
     ]
    }
   ],
   "metadata": {}
  },
  {
   "cell_type": "code",
   "execution_count": 33,
   "source": [
    "# predict voltage training set\n",
    "gp_func =  objective_model.model.predict\n",
    "y_pred, y_err = gp_func(X)\n",
    "y_pred, y_err = -y_pred[:,-1], np.sqrt(y_err[:,-1])"
   ],
   "outputs": [],
   "metadata": {}
  },
  {
   "cell_type": "code",
   "execution_count": 34,
   "source": [
    "# make, scale post_test_grid\n",
    "_, _, post_test_grid, post_test_x = grid_maker(torch.Tensor(X))\n",
    "volt_on_grid, _ = gp_func(post_test_x.numpy())\n",
    "volt_on_grid = -1 * volt_on_grid.reshape(30,30)\n",
    "raw_post_test_x, raw_post_test_grid = un_norm_all(post_test_x, post_test_grid, post_scaler)"
   ],
   "outputs": [],
   "metadata": {}
  },
  {
   "cell_type": "code",
   "execution_count": 35,
   "source": [
    "# plot voltage training results \n",
    "plot_gp_res(y_exp.reshape(-1), y_pred, None, y_err)\n",
    "prettyplot()\n",
    "\n",
    "# plot actuals v. predicted values w/ error bars\n",
    "fs = 14 \n",
    "fig, axes = plt.subplots(1, 2, figsize=(16, 4.5))\n",
    "plt_inputs = np.arange(len(Y))\n",
    "axes[0].scatter(plt_inputs, Y[:,0].T, s = 20, label = 'experiment')\n",
    "axes[0].plot(plt_inputs, y_pred, color = 'black', label = 'predicted')\n",
    "axes[0].errorbar(plt_inputs, y_pred, y_err, zorder = 0)\n",
    "\n",
    "# set up axes and labels\n",
    "axes[0].set_ylabel('Output (Voltage)', fontsize = fs)\n",
    "axes[0].set_xlabel('Input (Time, Energy Density)', fontsize = fs)\n",
    "axes[0].set_title(\"Predicted v. Actuals\", fontsize = fs)\n",
    "axes[0].legend(fontsize = fs*0.8)\n",
    "axes[1].axis(\"off\")\n",
    "\n",
    "plt.show()"
   ],
   "outputs": [
    {
     "output_type": "stream",
     "name": "stdout",
     "text": [
      "     Metric  Value\n",
      "0      RMSE  8.632\n",
      "1       MAE  3.844\n",
      "2  Spearman  0.992\n",
      "3  R² score  0.999\n"
     ]
    },
    {
     "output_type": "display_data",
     "data": {
      "image/png": "[encoded data removed]",
      "text/plain": [
       "<Figure size 3300x900 with 3 Axes>"
      ]
     },
     "metadata": {}
    },
    {
     "output_type": "display_data",
     "data": {
      "image/png": "[encoded data removed]",
      "text/plain": [
       "<Figure size 3200x900 with 2 Axes>"
      ]
     },
     "metadata": {}
    }
   ],
   "metadata": {}
  },
  {
   "cell_type": "code",
   "execution_count": 36,
   "source": [
    "# get voltage of prediction points and re-scale to raw\n",
    "get_pos_volt = lambda pt: round(-1*(gp_func(pt)[0].item()),-2)\n",
    "ucb_pt, nlcd_pt = np.array(ucb_pt).reshape(1,2), np.array(nlcd_pt).reshape(1,2)\n",
    "ucb_pt_scaled, nlcd_pt_scaled = post_scaler.transform(ucb_pt), post_scaler.transform(nlcd_pt)\n",
    "ucb_pt, nlcd_pt = ucb_pt.reshape(-1), nlcd_pt.reshape(-1)\n",
    "ucb_pt_time, ucb_pt_eden, ucb_pt_volt = ucb_pt[0]/1000, ucb_pt[1], get_pos_volt(ucb_pt_scaled)\n",
    "nlcd_pt_time, nlcd_pt_eden, nlcd_pt_volt = nlcd_pt[0]/1000, nlcd_pt[1], get_pos_volt(nlcd_pt_scaled)\n",
    "\n",
    "# write to csv\n",
    "dir = \"/Users/valenetjong/Bayesian-Optimization-Ferroelectrics/predictions/\"\n",
    "file_out = \"final_preds.csv\"\n",
    "file = open(dir + file_out, \"w\", encoding=\"utf-8\")\n",
    "file.write(\"GP fit predictions: \\n\")\n",
    "file.write(\"Type\\t Time (ms)\\t Energy density(J\\cm^2)\\t Voltage()\\n\")\n",
    "file.write(\"UCB:\\t\" + str(ucb_pt_time) + \"\\t\" + str(ucb_pt_eden) +\"\\t\" + str(ucb_pt_volt) + \"\\n\")\n",
    "file.write(\"NLCB:\\t\" + str(nlcd_pt_time) + \"\\t\" + str(ucb_pt_eden) +\"\\t\" + str(nlcd_pt_volt) + \"\\n\")"
   ],
   "outputs": [
    {
     "output_type": "execute_result",
     "data": {
      "text/plain": [
       "22"
      ]
     },
     "metadata": {},
     "execution_count": 36
    }
   ],
   "metadata": {}
  },
  {
   "cell_type": "markdown",
   "source": [
    "#### Plot GP Function, Scipy Optimize Function, against Raw Data"
   ],
   "metadata": {}
  },
  {
   "cell_type": "code",
   "execution_count": 37,
   "source": [
    "import plotly.graph_objects as go\n",
    "import matplotlib.pyplot as plt\n",
    "import matplotlib as mpl\n",
    "\n",
    "fig = go.Figure(data=[go.Scatter3d(z=volts_bol_dat, \n",
    "                                    x=time_bol_dat,\n",
    "                                    y=energy_den_bol_dat, \n",
    "                                    mode='markers',\n",
    "                                    marker={'color':'darkgreen'},\n",
    "                                    name='GP regression')])\n",
    "fig.add_trace(go.Surface(z=volt_on_grid, \n",
    "                            x=raw_post_test_grid[:,0],\n",
    "                            y=raw_post_test_grid[:,1],\n",
    "                            opacity = 0.8))\n",
    "\n",
    "fig.update_layout( width=1000, height=800,\n",
    "                    legend=dict(orientation=\"h\", yanchor=\"top\", y=1.02, \n",
    "                    xanchor=\"left\",x=1), margin=dict(r=20, l=10, b=10, t=10), \n",
    "                        scene=dict(\n",
    "                        xaxis_title=\"Pulse width (μs)\",\n",
    "                        yaxis_title=\"Energy density new cone (J/cm^2)\",\n",
    "                        zaxis_title='Voltage')\n",
    "                    )\n",
    "camera = dict(\n",
    "        up=dict(x=0, y=0, z=1),\n",
    "        center=dict(x=0, y=0, z=0),\n",
    "        eye=dict(x=-2, y=-2.5, z=1.75)\n",
    ")\n",
    "fig.update_layout(scene_camera=camera)\n",
    "fig.show()"
   ],
   "outputs": [
    {
     "output_type": "display_data",
     "data": {
      "application/vnd.plotly.v1+json": {
       "data": [
        {
         "marker": {
          "color": "darkgreen"
         },
         "mode": "markers",
         "name": "GP regression",
         "x": [
          500,
          1000,
          1500,
          2000,
          2500,
          3000,
          3500,
          4000,
          4500,
          5000,
          500,
          1000,
          1500,
          2000,
          2500,
          3000,
          3500,
          4000,
          4500,
          5000,
          500,
          1000,
          1500,
          2000,
          2500,
          3000,
          3500,
          4000,
          4500,
          5000,
          500,
          1000,
          1500,
          2000,
          2500,
          3000,
          3500,
          4000,
          4500,
          5000,
          500,
          1000,
          1500,
          2000,
          2500,
          3000,
          3500,
          4000,
          4500,
          5000,
          500,
          1000,
          1500,
          2000,
          2500,
          3000,
          3500,
          4000,
          4500,
          5000,
          500,
          1000,
          1500,
          2000,
          2500,
          3000,
          3500,
          4000,
          4500,
          5000,
          1000,
          5000,
          500,
          1000,
          1500,
          2000,
          2500,
          3000,
          3500,
          4000,
          4500,
          5000,
          500,
          1000,
          1500,
          2000,
          2500,
          3000,
          3500,
          4000,
          4500,
          5000
         ],
         "y": [
          1.92,
          3.79,
          5.36,
          6.65,
          7.73,
          8.59,
          9.36,
          9.99,
          10.53,
          11.02,
          2.14,
          4.26,
          6.01,
          7.43,
          8.63,
          9.58,
          10.41,
          11.08,
          11.65,
          12.18,
          2.46,
          4.79,
          6.72,
          8.28,
          9.59,
          10.66,
          11.49,
          12.21,
          12.85,
          13.4,
          2.73,
          5.38,
          7.48,
          9.18,
          10.53,
          11.71,
          12.66,
          13.35,
          14.11,
          14.67,
          3.04,
          5.99,
          8.29,
          10.1,
          11.62,
          12.83,
          13.83,
          14.7,
          15.45,
          15.98,
          3.4,
          6.44,
          8.99,
          11.01,
          12.57,
          13.97,
          15.03,
          15.99,
          16.74,
          17.38,
          3.7,
          7.22,
          9.91,
          12.08,
          13.89,
          15.29,
          16.48,
          17.44,
          18.24,
          18.93,
          10.27,
          21.81,
          1.49,
          2.89,
          4.12,
          5.18,
          6.07,
          6.78,
          7.36,
          7.94,
          8.39,
          8.8,
          1.37,
          2.7,
          3.84,
          4.83,
          5.66,
          6.78,
          7.36,
          7.94,
          8.39,
          8.8
         ],
         "z": [
          2200,
          2200,
          2200,
          2200,
          2200,
          2200,
          2200,
          2200,
          2200,
          2200,
          2300,
          2300,
          2300,
          2300,
          2300,
          2300,
          2300,
          2300,
          2300,
          2300,
          2400,
          2400,
          2400,
          2400,
          2400,
          2400,
          2400,
          2400,
          2400,
          2400,
          2500,
          2500,
          2500,
          2500,
          2500,
          2500,
          2500,
          2500,
          2500,
          2500,
          2600,
          2600,
          2600,
          2600,
          2600,
          2600,
          2600,
          2600,
          2600,
          2600,
          2700,
          2700,
          2700,
          2700,
          2700,
          2700,
          2700,
          2700,
          2700,
          2700,
          2800,
          2800,
          2800,
          2800,
          2800,
          2800,
          2800,
          2800,
          2800,
          2800,
          3000,
          3000,
          2000,
          2000,
          2000,
          2000,
          2000,
          2000,
          2000,
          2000,
          2000,
          2000,
          1950,
          1950,
          1950,
          1950,
          1950,
          1950,
          1950,
          1950,
          1950,
          1950
         ],
         "type": "scatter3d"
        },
        {
         "opacity": 0.8,
         "x": [
          339.28570710122585,
          505.54186291992664,
          671.7980187386273,
          838.0541577935218,
          1004.3103471398352,
          1170.5665364861488,
          1336.822658777237,
          1503.078781068325,
          1669.3349033594131,
          1835.5910927057264,
          2001.8471479415891,
          2168.103337287903,
          2334.3595266342163,
          2500.61571598053,
          2666.8719053268433,
          2833.1280946731567,
          2999.38428401947,
          3165.6404733657837,
          3331.896662712097,
          3498.152583837509,
          3664.4087731838226,
          3830.664962530136,
          3996.9211518764496,
          4163.177341222763,
          4329.433262348175,
          4495.6894516944885,
          4661.945641040802,
          4828.2018303871155,
          4994.458019733429,
          5160.714209079742
         ],
         "y": [
          0.6399999673664571,
          1.3951723729074001,
          2.150344778448343,
          2.9055171078443527,
          3.660689665675163,
          4.4158622235059735,
          5.171034476757049,
          5.926206730008125,
          6.6813789832592,
          7.436551541090011,
          8.191723489761351,
          8.946896047592162,
          9.702068605422973,
          10.457241163253784,
          11.212413721084593,
          11.967586278915403,
          12.722758836746214,
          13.477931394577025,
          14.233103952407836,
          14.988275291919706,
          15.743447849750517,
          16.498620407581328,
          17.25379296541214,
          18.00896552324295,
          18.76413686275482,
          19.519309420585632,
          20.27448197841644,
          21.029654536247254,
          21.784827094078064,
          22.539999651908875
         ],
         "z": [
          [
           1690.489405860969,
           2063.1939477502497,
           2408.371011108837,
           2691.4526526817526,
           2923.1355330346087,
           3093.0078158682722,
           3189.434299149943,
           3226.2769146825176,
           3221.4469006163627,
           3186.3510271965743,
           3128.4230645231414,
           3052.630501964072,
           2960.3413808995447,
           2850.264545958525,
           2721.276212117848,
           2574.451127723413,
           2413.1479556212603,
           2241.971678585414,
           2065.729011052192,
           1888.7994467898802,
           1714.8645874956828,
           1546.8460732624526,
           1386.937971651184,
           1236.6821782590139,
           1097.059452989062,
           968.5824084431072,
           851.3868125755666,
           745.3127510927764,
           649.9771731683801,
           564.8359391212788
          ],
          [
           1599.2619833304266,
           1957.3264145508465,
           2287.217644134893,
           2551.65598855563,
           2775.3542634715923,
           2947.5452348614317,
           3055.7752079760767,
           3116.673579002304,
           3144.994314694456,
           3144.9844267074004,
           3120.9105543317573,
           3077.5229198413335,
           3014.96727804523,
           2929.8655010865023,
           2819.78822340057,
           2685.922669491757,
           2532.5403910590617,
           2365.2360560689804,
           2189.6265523914153,
           2010.740913922013,
           1832.8145166455788,
           1659.2623348691577,
           1492.719182092546,
           1335.1122707220716,
           1187.7492203272968,
           1051.411087799851,
           926.4467515688375,
           812.858860835946,
           710.3821891050993,
           618.551917070818
          ],
          [
           1495.586634854738,
           1823.56586694814,
           2122.9632703321386,
           2366.4172386350747,
           2573.1104152118737,
           2741.099371121122,
           2862.3919090967556,
           2952.9874505724683,
           3021.5965091517965,
           3060.865558732311,
           3073.509422331601,
           3066.095449947027,
           3037.401041540017,
           2981.3811040867695,
           2894.1588513838888,
           2777.2621157800777,
           2635.9135254564308,
           2476.4793488171163,
           2305.1385808760274,
           2127.4171919429223,
           1948.056209783224,
           1770.9857461835231,
           1599.3383355503329,
           1435.4961514740075,
           1281.1642900994616,
           1137.458460376385,
           1005.0000344625391,
           884.005711576061,
           774.3713354561289,
           675.7466255324659
          ],
          [
           1393.3044008390775,
           1684.3030604790183,
           1948.9302557266965,
           2169.4391412280784,
           2356.9246615878083,
           2517.78959779665,
           2648.8491791627703,
           2766.584339966699,
           2874.2025920961996,
           2948.4644764639015,
           2994.9046096467873,
           3022.8588892739817,
           3028.7980748908076,
           3003.5445363826866,
           2941.8308409005076,
           2845.6300447336434,
           2720.6848745277102,
           2573.5372416779273,
           2410.5078467074773,
           2237.4210398116447,
           2059.47797931416,
           1881.1569595622686,
           1706.1526257085375,
           1537.3751155014338,
           1376.9995253471134,
           1226.5446604091599,
           1086.9667844898463,
           958.7516093860356,
           842.002740429964,
           736.5227217671909
          ],
          [
           1304.9647900012042,
           1562.517216725777,
           1797.8181844101937,
           1998.543896245771,
           2170.9663168293,
           2325.0472176412877,
           2460.0992276894976,
           2593.4830282628336,
           2725.8835100142023,
           2823.3350384690557,
           2896.223199683508,
           2954.739689132858,
           2992.150405632432,
           2996.441557625285,
           2961.5932048403374,
           2889.55671676573,
           2785.4740864180003,
           2655.1672032760416,
           2504.611359405647,
           2339.7438876220995,
           2166.198767224283,
           1989.0382890780102,
           1812.5749178067772,
           1640.3082736135593,
           1474.9471811768722,
           1318.4774452766878,
           1172.251571772792,
           1037.0802323350786,
           913.3232646421859,
           800.976172299896
          ],
          [
           1238.6977178061934,
           1471.6754540625689,
           1687.6642095897632,
           1876.9880149649925,
           2041.8207849722585,
           2189.0564947924095,
           2323.1098882277693,
           2458.46986907911,
           2592.0144773415177,
           2699.3996423913704,
           2789.034451939304,
           2870.4717719444197,
           2932.98658754805,
           2962.918253455753,
           2954.9995951817327,
           2909.9180750222067,
           2830.643878896927,
           2721.292958477581,
           2587.0390944939,
           2433.7784930292564,
           2267.544518267492,
           2093.9859550977008,
           1918.0490813380911,
           1743.8519120812134,
           1574.6795077375868,
           1413.0373320018803,
           1260.7308110391932,
           1118.9502832587928,
           988.3604286877999,
           869.1903580813369
          ],
          [
           1195.3176101509398,
           1412.308454017445,
           1617.6151961558398,
           1802.4690363270292,
           1964.3954570699461,
           2105.498987613417,
           2233.8191429886483,
           2360.553716957471,
           2481.892577338842,
           2586.8889825349015,
           2683.3963715198715,
           2779.5264768251945,
           2859.2973804171124,
           2909.49455730553,
           2927.0166320550798,
           2910.14493896742,
           2858.2376318893184,
           2772.8275221898784,
           2657.9047098036926,
           2519.164844965815,
           2362.93864899857,
           2195.376889199406,
           2022.0010400536494,
           1847.5249544779472,
           1675.8225081223645,
           1509.9566003652512,
           1352.2357956111805,
           1204.282134027289,
           1067.112413446659,
           941.229076059095
          ],
          [
           1169.4945570884365,
           1375.5715203383206,
           1573.8164123807364,
           1755.349210622302,
           1914.2416754716942,
           2049.376530935151,
           2169.8103553906076,
           2285.3530246186256,
           2393.6698325275865,
           2491.9674628857865,
           2588.36057799881,
           2690.2226872389,
           2778.8757120464124,
           2844.0562926489238,
           2884.354124053838,
           2894.995549674184,
           2871.0586077734024,
           2811.010322430222,
           2717.4058007576496,
           2595.520270382827,
           2451.7440921259968,
           2292.5165072059226,
           2123.7816733483887,
           1950.7694653750477,
           1777.9255235448845,
           1608.8946348245017,
           1446.5328387389627,
           1292.9425051520057,
           1149.536966390634,
           1017.1291137034386
          ],
          [
           1153.4795255818353,
           1350.098555160017,
           1540.5938165361003,
           1715.7321004762325,
           1868.3417939574156,
           1997.281520431994,
           2111.2842858708354,
           2219.0823241080125,
           2320.524292197939,
           2415.308683888825,
           2509.687500703787,
           2607.897019778524,
           2698.072878805362,
           2773.7004984924115,
           2833.104762996145,
           2868.6677259469907,
           2871.3370461880295,
           2836.5688109571074,
           2765.354439083654,
           2662.195682975662,
           2533.139271477923,
           2384.57172618036,
           2222.6239085553952,
           2052.9168968961676,
           1880.4317601372022,
           1709.4123453683633,
           1543.3023446160014,
           1384.7286074877757,
           1235.5403682792426,
           1096.8932810597398
          ],
          [
           1140.5812908008957,
           1327.4419586222848,
           1508.4308010354925,
           1674.4732670715002,
           1818.9863204394733,
           1942.1660914764198,
           2052.412814786552,
           2157.397460444645,
           2257.8673426156856,
           2353.0764538565236,
           2444.9654471029753,
           2535.7543972290696,
           2622.500749913612,
           2703.9053753034314,
           2777.5442325624535,
           2833.5637215570587,
           2859.852323954892,
           2849.2883201285404,
           2801.024878002332,
           2718.2364634119713,
           2606.1125743799657,
           2470.5674482302493,
           2317.6304669982346,
           2153.1671493607428,
           1982.653493510842,
           1810.9485675043106,
           1642.1195339270562,
           1479.354251847747,
           1324.9685823373125,
           1180.485547356161
          ],
          [
           1126.7284572777535,
           1303.6347837742724,
           1474.7373061211001,
           1631.8640773189418,
           1769.7371303979235,
           1889.3945802696726,
           1998.323282979658,
           2102.862575067429,
           2203.8233152153625,
           2299.8009157625274,
           2389.191151366722,
           2473.715789858914,
           2556.208940857363,
           2639.266590769261,
           2720.5133665480425,
           2790.4473076619834,
           2836.3258450344147,
           2848.533318263897,
           2823.5465742971573,
           2762.620015019029,
           2669.593717831456,
           2549.4480018023987,
           2407.789046520007,
           2250.577806132813,
           2083.7516909922133,
           1912.800139360882,
           1742.439321661088,
           1576.440297864654,
           1417.6023811954847,
           1267.82939973274
          ],
          [
           1110.1983835734336,
           1277.7791865117579,
           1440.2624232555481,
           1590.8340649836864,
           1725.4586143474771,
           1844.9863676745554,
           1954.3511045380837,
           2057.7846847118963,
           2157.0207494955903,
           2251.48560358935,
           2338.778931007393,
           2420.147098643174,
           2500.5190200501384,
           2582.710400596923,
           2664.216668646055,
           2740.4477085547333,
           2801.5408145908696,
           2834.616610554276,
           2832.611676280547,
           2794.619760555808,
           2722.6446032718104,
           2620.1625412028498,
           2491.9934803523847,
           2344.0555660374375,
           2182.720736072344,
           2014.1102919169834,
           1843.5906664598888,
           1675.5139135004474,
           1513.1596938518724,
           1358.8115545842156
          ],
          [
           1090.583412122969,
           1250.0137775312141,
           1405.7440374572725,
           1552.308840490903,
           1686.4310549105576,
           1807.8971393040447,
           1918.3624578839263,
           2019.5915808372447,
           2115.0948352361956,
           2206.887762726652,
           2292.960210852012,
           2373.5949321984517,
           2453.6115322920814,
           2533.987468250434,
           2610.7836986207294,
           2687.4495171957205,
           2759.145831003374,
           2809.5370830533866,
           2828.8186658666236,
           2814.032167395144,
           2764.5960903726263,
           2681.714960477666,
           2569.0428043658103,
           2432.3433652029016,
           2278.382417511266,
           2113.871785812191,
           1944.785193786738,
           1776.0190494054077,
           1611.3056684099047,
           1453.2902707678995
          ],
          [
           1067.9423223357771,
           1220.3763192193073,
           1370.7841501634975,
           1514.6907879595783,
           1649.0031035438187,
           1772.175376937379,
           1883.3581410134502,
           1982.6784057226214,
           2075.301503363633,
           2165.6723550450697,
           2252.0240575686767,
           2333.158803570099,
           2412.744271104224,
           2490.8043694041044,
           2562.46495752794,
           2637.0823499910875,
           2713.9113236883277,
           2776.042277359742,
           2813.473182909962,
           2821.2267620435377,
           2795.0846478906606,
           2733.1439577496167,
           2637.615127662337,
           2514.020926204348,
           2369.4101323482864,
           2210.9601511097426,
           2045.148981911112,
           1877.3425718472563,
           1711.672442915603,
           1551.1089955931448
          ],
          [
           1042.4574834825362,
           1188.7043862381433,
           1334.4554477892343,
           1475.8000561315748,
           1609.4764606254867,
           1732.878681664777,
           1844.0013135999761,
           1943.1565379743552,
           2036.012967047769,
           2127.5126402466703,
           2215.800142305561,
           2298.058325755752,
           2376.107356620203,
           2450.73315699456,
           2520.7444405823408,
           2593.5947148023697,
           2669.4223651384455,
           2737.0492058252603,
           2788.6179490028117,
           2817.1938978214603,
           2813.987848384153,
           2773.4436074165715,
           2696.265073397324,
           2587.5690167668545,
           2454.413880240134,
           2304.2090934602547,
           2143.7789950966635,
           1978.8531989989224,
           1813.8845822764843,
           1652.1112035774458
          ],
          [
           1014.4371618320001,
           1154.9861609705258,
           1296.262639104527,
           1434.661448294286,
           1566.7534086644373,
           1689.4669691287927,
           1800.776374239671,
           1901.7245995589838,
           1997.578253029118,
           2092.434977526944,
           2183.6512491097383,
           2266.811979350372,
           2342.5199307460134,
           2414.203260922972,
           2484.7210473820014,
           2556.4064054796254,
           2628.064213913567,
           2696.1814151170474,
           2757.3365756106796,
           2803.4956002132785,
           2821.2494157441906,
           2801.5490886862717,
           2743.5825115033367,
           2651.5731995002097,
           2532.1089435872746,
           2392.5259417096986,
           2239.81508191146,
           2079.9446076917393,
           1917.5836059122976,
           1756.151384339808
          ],
          [
           984.3847040272485,
           1119.6026773415506,
           1256.538731159948,
           1391.8522563385268,
           1522.1867747837532,
           1644.5739064932277,
           1757.405097102739,
           1861.935519771163,
           1962.2781474978037,
           2061.0097133846502,
           2154.4964578437284,
           2237.734641099829,
           2311.5450769001836,
           2381.7011221503344,
           2452.772013986869,
           2523.20604562926,
           2590.725929712018,
           2657.2480114947975,
           2723.5028597912024,
           2781.954216099308,
           2816.8730115996987,
           2816.755158336291,
           2778.677849369087,
           2705.0813816946466,
           2601.5322596857804,
           2475.0093319828993,
           2332.5008451154117,
           2180.066378612977,
           2022.441628005001,
           1863.0951191089061
          ],
          [
           952.9777506568498,
           1083.276871833281,
           1216.2044111909054,
           1348.7620429721064,
           1477.9158073660146,
           1601.0930894413905,
           1717.0339135699323,
           1826.5808768288916,
           1931.9784536865045,
           2033.5511282939042,
           2127.3903223373345,
           2209.837924222178,
           2282.9677587697806,
           2353.1017860100037,
           2423.914685925374,
           2492.6633134986623,
           2557.7533841229088,
           2623.0186194757844,
           2690.648604823262,
           2754.8459894378248,
           2802.086773315612,
           2819.8188277381123,
           2801.8404170876456,
           2747.925309339942,
           2662.179003216461,
           2550.9988717117812,
           2421.1988095570487,
           2278.7265710115644,
           2128.1553819723667,
           1972.8014597475667
          ],
          [
           920.9559365356981,
           1046.8435046179438,
           1176.2889836799368,
           1306.7082833121167,
           1435.5024280699654,
           1560.5016176087156,
           1680.515522982234,
           1795.515467981808,
           1905.6171685081354,
           2009.0056860028271,
           2102.0779946351686,
           2183.5107948762598,
           2256.812971571053,
           2327.638576685218,
           2398.05279296916,
           2465.3891040119197,
           2529.4859586253515,
           2594.119594156895,
           2660.566354928742,
           2725.550024579112,
           2780.560308362452,
           2813.4650359255975,
           2814.6148466451887,
           2780.6568229810146,
           2713.9146928096015,
           2620.0031112376128,
           2505.3441609934907,
           2375.462471560153,
           2234.417931433467,
           2085.0822065424672
          ],
          [
           888.9884878948069,
           1011.023296132953,
           1137.5757452623147,
           1266.4777601798341,
           1395.5251904151592,
           1522.784285448848,
           1646.8378726025112,
           1766.611026988583,
           1880.4660902431642,
           1985.2888719277253,
           2078.0542424769083,
           2159.3221954053006,
           2233.351283352502,
           2304.8305033842917,
           2374.950653535736,
           2441.69966489989,
           2505.864498944342,
           2570.0805055424426,
           2634.061914495054,
           2697.224772036192,
           2756.336529339569,
           2800.8730411290453,
           2818.8843630299743,
           2804.0263432209686,
           2756.675838680534,
           2681.5394043092383,
           2584.3679002782774,
           2469.7970922495224,
           2340.871670783592,
           2199.632193379224
          ],
          [
           857.5817659250533,
           976.3017338647041,
           1100.4861577518313,
           1228.3188183602251,
           1357.8640269602984,
           1487.221206084403,
           1614.5612514741078,
           1737.8594137953187,
           1854.3657626549539,
           1960.623555510596,
           2054.3985685038933,
           2136.9940970233874,
           2212.3542602585076,
           2284.1327228141745,
           2353.5884525664296,
           2420.4732537518576,
           2485.778757548338,
           2549.636358754826,
           2610.8046608782315,
           2671.228641099653,
           2731.584169083806,
           2784.0092097685774,
           2815.9266443565502,
           2818.4456873936615,
           2790.1889293571585,
           2735.0247623342766,
           2657.665954514003,
           2561.211432976408,
           2447.044480747658,
           2315.9198944190593
          ],
          [
           827.0446545085433,
           942.9126914385924,
           1065.1311250577855,
           1192.1453792991524,
           1322.1570859367057,
           1453.1583342194645,
           1582.8723541438521,
           1708.5706194096856,
           1826.9728097191255,
           1934.8289461602108,
           2030.5493963315676,
           2115.4024114868953,
           2192.4053179089824,
           2264.2556659875845,
           2332.8424939875113,
           2399.945164079574,
           2466.7124249804037,
           2530.5216132888745,
           2589.0456987396174,
           2646.464769207203,
           2706.3781301352356,
           2763.660452591641,
           2806.306950372804,
           2823.879556468717,
           2814.0060037243493,
           2779.892821701138,
           2724.681905103447,
           2649.1355693078403,
           2552.2454899242966,
           2433.0105811208887
          ],
          [
           797.4955317710846,
           910.875328242997,
           1031.407095883471,
           1157.7216700653516,
           1288.0750230017875,
           1420.3067731598858,
           1551.7654760962178,
           1679.2681316802918,
           1799.3227095188777,
           1908.9240438755369,
           2006.7682689867506,
           2093.7861384375137,
           2172.161755543668,
           2244.079059328651,
           2312.071372199498,
           2379.072372403738,
           2446.431213309552,
           2510.072449634754,
           2566.7805509834725,
           2621.9062978029906,
           2680.7896749359643,
           2740.4974966937443,
           2790.4701123118357,
           2820.433790283445,
           2828.111972370829,
           2816.0142661365207,
           2785.0700529444584,
           2732.8949629927956,
           2655.3657810870554,
           2549.288160267488
          ],
          [
           768.888160119488,
           880.0381186813902,
           999.0600177437009,
           1124.7289993021404,
           1255.3350561963161,
           1388.6006605560106,
           1521.6202429639961,
           1650.927442566288,
           1772.878029568572,
           1884.473020988633,
           1984.321464987006,
           2072.931657682304,
           2152.0393914681335,
           2224.0541995228414,
           2291.9894113200426,
           2358.641664610841,
           2424.9712700692908,
           2487.694032390311,
           2544.101740284459,
           2598.5557883908477,
           2656.550691565659,
           2716.6783372241043,
           2770.479482861847,
           2809.97895985013,
           2833.977310676524,
           2844.136704281271,
           2838.698394663421,
           2811.4575917443944,
           2754.501560772789,
           2662.043676378191
          ],
          [
           741.0410266028775,
           850.1098297570788,
           967.7024670805986,
           1092.732577038565,
           1223.5536726140417,
           1357.8552156833757,
           1492.6107041733194,
           1624.183045910002,
           1748.7286232593178,
           1862.9638808699674,
           1965.0646945223853,
           2055.0636415830522,
           2134.5409168393817,
           2206.5840266456653,
           2274.7017552003817,
           2340.720595797262,
           2405.167034810889,
           2466.852868845628,
           2523.9825556746946,
           2579.0072035826015,
           2636.5620123041517,
           2696.0940790180393,
           2751.189616142321,
           2797.053856219376,
           2834.737930308751,
           2865.602555240792,
           2885.1358526132753,
           2882.8412378497815,
           2846.368830657484,
           2766.957482325186
          ],
          [
           713.6665897842831,
           820.681831087757,
           936.8104791857622,
           1061.1202388283564,
           1192.0817973977682,
           1327.4521422252583,
           1464.2156035505031,
           1598.6691545092326,
           1726.75665257324,
           1844.7168003815168,
           1949.9703594745079,
           2041.8607379680907,
           2121.856823167269,
           2193.8148922148685,
           2261.89154630588,
           2327.2216429090768,
           2390.178763656091,
           2451.316385461352,
           2509.462102192396,
           2565.56715454167,
           2623.186313723738,
           2682.0284477886307,
           2737.0360856016996,
           2786.079675565059,
           2833.2151953601933,
           2880.8888883770887,
           2922.5605142467757,
           2943.260407775866,
           2925.632064475656,
           2857.6169055182327
          ],
          [
           686.4048525422186,
           791.2572137565367,
           905.7368470118963,
           1029.083465928139,
           1159.9348850004608,
           1296.2016468424845,
           1434.9902228982392,
           1572.6386499716027,
           1704.9403010600363,
           1827.6253358086396,
           1937.1466610189236,
           2031.7494913909177,
           2112.7006525524775,
           2184.601275289897,
           2252.242580167891,
           2317.1585051391594,
           2379.7355197278957,
           2440.7727519339096,
           2499.7529962740227,
           2557.066829463729,
           2615.10188588014,
           2673.4740294980656,
           2727.7938730300084,
           2777.2671973323813,
           2828.85703625765,
           2887.7795092182605,
           2946.7247492590723,
           2986.462573638695,
           2984.486948011767,
           2925.367422743442
          ],
          [
           658.8643399164212,
           761.2969545522137,
           873.7623521881324,
           995.676448825805,
           1125.8686756043608,
           1262.449503402604,
           1402.7115339665324,
           1543.1087550868106,
           1679.3681283782644,
           1806.799273002689,
           1920.9151546816865,
           2018.7044515997113,
           2100.9892098407145,
           2173.0060203124885,
           2240.289527392946,
           2305.1860037707374,
           2368.015604049084,
           2429.2208858498634,
           2488.781111026721,
           2546.9295961972675,
           2605.2070086378662,
           2663.27259108235,
           2716.705172281625,
           2764.593087880734,
           2816.4617764424693,
           2881.0667155848023,
           2951.074824346815,
           3003.958983828161,
           3013.039683179313,
           2959.979780574913
          ],
          [
           630.6707476087759,
           730.2842373739113,
           840.1853683608788,
           959.9489474021975,
           1088.58611941048,
           1224.4046361123328,
           1364.8873527380347,
           1506.6207914741535,
           1645.3180448724888,
           1776.0110142542399,
           1893.5867140075134,
           1994.1574964306492,
           2078.0209456830344,
           2150.626150325901,
           2217.9540607330564,
           2282.9645099439076,
           2345.9843289132696,
           2407.260155970449,
           2466.9994506471558,
           2525.2984833117807,
           2583.1622085193085,
           2640.366980524057,
           2692.526653479479,
           2738.384074628717,
           2788.789952243962,
           2854.5368705940964,
           2928.4612070218827,
           2986.809184621219,
           3001.1929237085424,
           2951.78647842771
          ],
          [
           601.517300775391,
           697.7961919330774,
           804.4291380336654,
           921.1132352450222,
           1047.0030526522169,
           1180.5637862288422,
           1319.430845983734,
           1460.3028073485475,
           1598.9155673519708,
           1730.1995815662376,
           1848.858693148446,
           1950.8953767186613,
           2036.374073195766,
           2110.0974001745053,
           2177.7605706074974,
           2242.6025817362242,
           2305.347458422708,
           2366.228997394326,
           2425.45887195642,
           2483.133032544967,
           2539.7993893053936,
           2594.876623729564,
           2644.9072623553875,
           2689.7641779392507,
           2739.257548483176,
           2802.7013995322704,
           2873.450751552784,
           2929.190106483373,
           2942.9002943911037,
           2895.638422125925
          ]
         ],
         "type": "surface"
        }
       ],
       "layout": {
        "template": {
         "data": {
          "histogram2dcontour": [
           {
            "type": "histogram2dcontour",
            "colorbar": {
             "outlinewidth": 0,
             "ticks": ""
            },
            "colorscale": [
             [
              0,
              "#0d0887"
             ],
             [
              0.1111111111111111,
              "#46039f"
             ],
             [
              0.2222222222222222,
              "#7201a8"
             ],
             [
              0.3333333333333333,
              "#9c179e"
             ],
             [
              0.4444444444444444,
              "#bd3786"
             ],
             [
              0.5555555555555556,
              "#d8576b"
             ],
             [
              0.6666666666666666,
              "#ed7953"
             ],
             [
              0.7777777777777778,
              "#fb9f3a"
             ],
             [
              0.8888888888888888,
              "#fdca26"
             ],
             [
              1,
              "#f0f921"
             ]
            ]
           }
          ],
          "choropleth": [
           {
            "type": "choropleth",
            "colorbar": {
             "outlinewidth": 0,
             "ticks": ""
            }
           }
          ],
          "histogram2d": [
           {
            "type": "histogram2d",
            "colorbar": {
             "outlinewidth": 0,
             "ticks": ""
            },
            "colorscale": [
             [
              0,
              "#0d0887"
             ],
             [
              0.1111111111111111,
              "#46039f"
             ],
             [
              0.2222222222222222,
              "#7201a8"
             ],
             [
              0.3333333333333333,
              "#9c179e"
             ],
             [
              0.4444444444444444,
              "#bd3786"
             ],
             [
              0.5555555555555556,
              "#d8576b"
             ],
             [
              0.6666666666666666,
              "#ed7953"
             ],
             [
              0.7777777777777778,
              "#fb9f3a"
             ],
             [
              0.8888888888888888,
              "#fdca26"
             ],
             [
              1,
              "#f0f921"
             ]
            ]
           }
          ],
          "heatmap": [
           {
            "type": "heatmap",
            "colorbar": {
             "outlinewidth": 0,
             "ticks": ""
            },
            "colorscale": [
             [
              0,
              "#0d0887"
             ],
             [
              0.1111111111111111,
              "#46039f"
             ],
             [
              0.2222222222222222,
              "#7201a8"
             ],
             [
              0.3333333333333333,
              "#9c179e"
             ],
             [
              0.4444444444444444,
              "#bd3786"
             ],
             [
              0.5555555555555556,
              "#d8576b"
             ],
             [
              0.6666666666666666,
              "#ed7953"
             ],
             [
              0.7777777777777778,
              "#fb9f3a"
             ],
             [
              0.8888888888888888,
              "#fdca26"
             ],
             [
              1,
              "#f0f921"
             ]
            ]
           }
          ],
          "heatmapgl": [
           {
            "type": "heatmapgl",
            "colorbar": {
             "outlinewidth": 0,
             "ticks": ""
            },
            "colorscale": [
             [
              0,
              "#0d0887"
             ],
             [
              0.1111111111111111,
              "#46039f"
             ],
             [
              0.2222222222222222,
              "#7201a8"
             ],
             [
              0.3333333333333333,
              "#9c179e"
             ],
             [
              0.4444444444444444,
              "#bd3786"
             ],
             [
              0.5555555555555556,
              "#d8576b"
             ],
             [
              0.6666666666666666,
              "#ed7953"
             ],
             [
              0.7777777777777778,
              "#fb9f3a"
             ],
             [
              0.8888888888888888,
              "#fdca26"
             ],
             [
              1,
              "#f0f921"
             ]
            ]
           }
          ],
          "contourcarpet": [
           {
            "type": "contourcarpet",
            "colorbar": {
             "outlinewidth": 0,
             "ticks": ""
            }
           }
          ],
          "contour": [
           {
            "type": "contour",
            "colorbar": {
             "outlinewidth": 0,
             "ticks": ""
            },
            "colorscale": [
             [
              0,
              "#0d0887"
             ],
             [
              0.1111111111111111,
              "#46039f"
             ],
             [
              0.2222222222222222,
              "#7201a8"
             ],
             [
              0.3333333333333333,
              "#9c179e"
             ],
             [
              0.4444444444444444,
              "#bd3786"
             ],
             [
              0.5555555555555556,
              "#d8576b"
             ],
             [
              0.6666666666666666,
              "#ed7953"
             ],
             [
              0.7777777777777778,
              "#fb9f3a"
             ],
             [
              0.8888888888888888,
              "#fdca26"
             ],
             [
              1,
              "#f0f921"
             ]
            ]
           }
          ],
          "surface": [
           {
            "type": "surface",
            "colorbar": {
             "outlinewidth": 0,
             "ticks": ""
            },
            "colorscale": [
             [
              0,
              "#0d0887"
             ],
             [
              0.1111111111111111,
              "#46039f"
             ],
             [
              0.2222222222222222,
              "#7201a8"
             ],
             [
              0.3333333333333333,
              "#9c179e"
             ],
             [
              0.4444444444444444,
              "#bd3786"
             ],
             [
              0.5555555555555556,
              "#d8576b"
             ],
             [
              0.6666666666666666,
              "#ed7953"
             ],
             [
              0.7777777777777778,
              "#fb9f3a"
             ],
             [
              0.8888888888888888,
              "#fdca26"
             ],
             [
              1,
              "#f0f921"
             ]
            ]
           }
          ],
          "mesh3d": [
           {
            "type": "mesh3d",
            "colorbar": {
             "outlinewidth": 0,
             "ticks": ""
            }
           }
          ],
          "scatter": [
           {
            "fillpattern": {
             "fillmode": "overlay",
             "size": 10,
             "solidity": 0.2
            },
            "type": "scatter"
           }
          ],
          "parcoords": [
           {
            "type": "parcoords",
            "line": {
             "colorbar": {
              "outlinewidth": 0,
              "ticks": ""
             }
            }
           }
          ],
          "scatterpolargl": [
           {
            "type": "scatterpolargl",
            "marker": {
             "colorbar": {
              "outlinewidth": 0,
              "ticks": ""
             }
            }
           }
          ],
          "bar": [
           {
            "error_x": {
             "color": "#2a3f5f"
            },
            "error_y": {
             "color": "#2a3f5f"
            },
            "marker": {
             "line": {
              "color": "#E5ECF6",
              "width": 0.5
             },
             "pattern": {
              "fillmode": "overlay",
              "size": 10,
              "solidity": 0.2
             }
            },
            "type": "bar"
           }
          ],
          "scattergeo": [
           {
            "type": "scattergeo",
            "marker": {
             "colorbar": {
              "outlinewidth": 0,
              "ticks": ""
             }
            }
           }
          ],
          "scatterpolar": [
           {
            "type": "scatterpolar",
            "marker": {
             "colorbar": {
              "outlinewidth": 0,
              "ticks": ""
             }
            }
           }
          ],
          "histogram": [
           {
            "marker": {
             "pattern": {
              "fillmode": "overlay",
              "size": 10,
              "solidity": 0.2
             }
            },
            "type": "histogram"
           }
          ],
          "scattergl": [
           {
            "type": "scattergl",
            "marker": {
             "colorbar": {
              "outlinewidth": 0,
              "ticks": ""
             }
            }
           }
          ],
          "scatter3d": [
           {
            "type": "scatter3d",
            "line": {
             "colorbar": {
              "outlinewidth": 0,
              "ticks": ""
             }
            },
            "marker": {
             "colorbar": {
              "outlinewidth": 0,
              "ticks": ""
             }
            }
           }
          ],
          "scattermapbox": [
           {
            "type": "scattermapbox",
            "marker": {
             "colorbar": {
              "outlinewidth": 0,
              "ticks": ""
             }
            }
           }
          ],
          "scatterternary": [
           {
            "type": "scatterternary",
            "marker": {
             "colorbar": {
              "outlinewidth": 0,
              "ticks": ""
             }
            }
           }
          ],
          "scattercarpet": [
           {
            "type": "scattercarpet",
            "marker": {
             "colorbar": {
              "outlinewidth": 0,
              "ticks": ""
             }
            }
           }
          ],
          "carpet": [
           {
            "aaxis": {
             "endlinecolor": "#2a3f5f",
             "gridcolor": "white",
             "linecolor": "white",
             "minorgridcolor": "white",
             "startlinecolor": "#2a3f5f"
            },
            "baxis": {
             "endlinecolor": "#2a3f5f",
             "gridcolor": "white",
             "linecolor": "white",
             "minorgridcolor": "white",
             "startlinecolor": "#2a3f5f"
            },
            "type": "carpet"
           }
          ],
          "table": [
           {
            "cells": {
             "fill": {
              "color": "#EBF0F8"
             },
             "line": {
              "color": "white"
             }
            },
            "header": {
             "fill": {
              "color": "#C8D4E3"
             },
             "line": {
              "color": "white"
             }
            },
            "type": "table"
           }
          ],
          "barpolar": [
           {
            "marker": {
             "line": {
              "color": "#E5ECF6",
              "width": 0.5
             },
             "pattern": {
              "fillmode": "overlay",
              "size": 10,
              "solidity": 0.2
             }
            },
            "type": "barpolar"
           }
          ],
          "pie": [
           {
            "automargin": true,
            "type": "pie"
           }
          ]
         },
         "layout": {
          "autotypenumbers": "strict",
          "colorway": [
           "#636efa",
           "#EF553B",
           "#00cc96",
           "#ab63fa",
           "#FFA15A",
           "#19d3f3",
           "#FF6692",
           "#B6E880",
           "#FF97FF",
           "#FECB52"
          ],
          "font": {
           "color": "#2a3f5f"
          },
          "hovermode": "closest",
          "hoverlabel": {
           "align": "left"
          },
          "paper_bgcolor": "white",
          "plot_bgcolor": "#E5ECF6",
          "polar": {
           "bgcolor": "#E5ECF6",
           "angularaxis": {
            "gridcolor": "white",
            "linecolor": "white",
            "ticks": ""
           },
           "radialaxis": {
            "gridcolor": "white",
            "linecolor": "white",
            "ticks": ""
           }
          },
          "ternary": {
           "bgcolor": "#E5ECF6",
           "aaxis": {
            "gridcolor": "white",
            "linecolor": "white",
            "ticks": ""
           },
           "baxis": {
            "gridcolor": "white",
            "linecolor": "white",
            "ticks": ""
           },
           "caxis": {
            "gridcolor": "white",
            "linecolor": "white",
            "ticks": ""
           }
          },
          "coloraxis": {
           "colorbar": {
            "outlinewidth": 0,
            "ticks": ""
           }
          },
          "colorscale": {
           "sequential": [
            [
             0,
             "#0d0887"
            ],
            [
             0.1111111111111111,
             "#46039f"
            ],
            [
             0.2222222222222222,
             "#7201a8"
            ],
            [
             0.3333333333333333,
             "#9c179e"
            ],
            [
             0.4444444444444444,
             "#bd3786"
            ],
            [
             0.5555555555555556,
             "#d8576b"
            ],
            [
             0.6666666666666666,
             "#ed7953"
            ],
            [
             0.7777777777777778,
             "#fb9f3a"
            ],
            [
             0.8888888888888888,
             "#fdca26"
            ],
            [
             1,
             "#f0f921"
            ]
           ],
           "sequentialminus": [
            [
             0,
             "#0d0887"
            ],
            [
             0.1111111111111111,
             "#46039f"
            ],
            [
             0.2222222222222222,
             "#7201a8"
            ],
            [
             0.3333333333333333,
             "#9c179e"
            ],
            [
             0.4444444444444444,
             "#bd3786"
            ],
            [
             0.5555555555555556,
             "#d8576b"
            ],
            [
             0.6666666666666666,
             "#ed7953"
            ],
            [
             0.7777777777777778,
             "#fb9f3a"
            ],
            [
             0.8888888888888888,
             "#fdca26"
            ],
            [
             1,
             "#f0f921"
            ]
           ],
           "diverging": [
            [
             0,
             "#8e0152"
            ],
            [
             0.1,
             "#c51b7d"
            ],
            [
             0.2,
             "#de77ae"
            ],
            [
             0.3,
             "#f1b6da"
            ],
            [
             0.4,
             "#fde0ef"
            ],
            [
             0.5,
             "#f7f7f7"
            ],
            [
             0.6,
             "#e6f5d0"
            ],
            [
             0.7,
             "#b8e186"
            ],
            [
             0.8,
             "#7fbc41"
            ],
            [
             0.9,
             "#4d9221"
            ],
            [
             1,
             "#276419"
            ]
           ]
          },
          "xaxis": {
           "gridcolor": "white",
           "linecolor": "white",
           "ticks": "",
           "title": {
            "standoff": 15
           },
           "zerolinecolor": "white",
           "automargin": true,
           "zerolinewidth": 2
          },
          "yaxis": {
           "gridcolor": "white",
           "linecolor": "white",
           "ticks": "",
           "title": {
            "standoff": 15
           },
           "zerolinecolor": "white",
           "automargin": true,
           "zerolinewidth": 2
          },
          "scene": {
           "xaxis": {
            "backgroundcolor": "#E5ECF6",
            "gridcolor": "white",
            "linecolor": "white",
            "showbackground": true,
            "ticks": "",
            "zerolinecolor": "white",
            "gridwidth": 2
           },
           "yaxis": {
            "backgroundcolor": "#E5ECF6",
            "gridcolor": "white",
            "linecolor": "white",
            "showbackground": true,
            "ticks": "",
            "zerolinecolor": "white",
            "gridwidth": 2
           },
           "zaxis": {
            "backgroundcolor": "#E5ECF6",
            "gridcolor": "white",
            "linecolor": "white",
            "showbackground": true,
            "ticks": "",
            "zerolinecolor": "white",
            "gridwidth": 2
           }
          },
          "shapedefaults": {
           "line": {
            "color": "#2a3f5f"
           }
          },
          "annotationdefaults": {
           "arrowcolor": "#2a3f5f",
           "arrowhead": 0,
           "arrowwidth": 1
          },
          "geo": {
           "bgcolor": "white",
           "landcolor": "#E5ECF6",
           "subunitcolor": "white",
           "showland": true,
           "showlakes": true,
           "lakecolor": "white"
          },
          "title": {
           "x": 0.05
          },
          "mapbox": {
           "style": "light"
          }
         }
        },
        "legend": {
         "orientation": "h",
         "yanchor": "top",
         "y": 1.02,
         "xanchor": "left",
         "x": 1
        },
        "margin": {
         "r": 20,
         "l": 10,
         "b": 10,
         "t": 10
        },
        "width": 1000,
        "height": 800,
        "scene": {
         "xaxis": {
          "title": {
           "text": "Pulse width (μs)"
          }
         },
         "yaxis": {
          "title": {
           "text": "Energy density new cone (J/cm^2)"
          }
         },
         "zaxis": {
          "title": {
           "text": "Voltage"
          }
         },
         "camera": {
          "up": {
           "x": 0,
           "y": 0,
           "z": 1
          },
          "center": {
           "x": 0,
           "y": 0,
           "z": 0
          },
          "eye": {
           "x": -2,
           "y": -2.5,
           "z": 1.75
          }
         }
        }
       },
       "config": {
        "plotlyServerURL": "https://plot.ly"
       }
      }
     },
     "metadata": {}
    }
   ],
   "metadata": {}
  },
  {
   "cell_type": "code",
   "execution_count": null,
   "source": [],
   "outputs": [],
   "metadata": {}
  }
 ],
 "metadata": {
  "orig_nbformat": 4,
  "language_info": {
   "name": "python",
   "version": "3.9.16",
   "mimetype": "text/x-python",
   "codemirror_mode": {
    "name": "ipython",
    "version": 3
   },
   "pygments_lexer": "ipython3",
   "nbconvert_exporter": "python",
   "file_extension": ".py"
  },
  "kernelspec": {
   "name": "python3",
   "display_name": "Python 3.9.16 64-bit ('FEGP': conda)"
  },
  "interpreter": {
   "hash": "b00f9bca1c18369f730e284e4d0522d8a3e0f0b629e30dad99ec4bb4df6f08b7"
  }
 },
 "nbformat": 4,
 "nbformat_minor": 2
}